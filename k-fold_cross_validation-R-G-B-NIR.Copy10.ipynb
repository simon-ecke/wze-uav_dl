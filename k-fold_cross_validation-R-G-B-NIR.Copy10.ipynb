{
 "cells": [
  {
   "cell_type": "markdown",
   "id": "c1acdaa3",
   "metadata": {},
   "source": [
    "# WZE-UAV Image Classification using Deep Learning"
   ]
  },
  {
   "cell_type": "code",
   "execution_count": 1,
   "id": "2159aac5",
   "metadata": {},
   "outputs": [],
   "source": [
    "import os\n",
    "import gc\n",
    "import glob\n",
    "import numpy as np\n",
    "from pathlib import Path\n",
    "from tqdm.auto import tqdm\n",
    "from sklearn.metrics import confusion_matrix, classification_report\n",
    "from sklearn.model_selection import KFold"
   ]
  },
  {
   "cell_type": "code",
   "execution_count": 2,
   "id": "0026f7a9",
   "metadata": {},
   "outputs": [],
   "source": [
    "import torch\n",
    "import torchvision.transforms as T\n",
    "import torchvision\n",
    "from torch import nn\n",
    "from torch.utils.data import DataLoader\n",
    "from torchvision import datasets, transforms\n",
    "from torch.utils.data import Dataset\n",
    "import torch.optim as optim\n",
    "from torch.optim.lr_scheduler import ExponentialLR\n",
    "from mlxtend.plotting import plot_confusion_matrix"
   ]
  },
  {
   "cell_type": "code",
   "execution_count": 3,
   "id": "b160d7b4",
   "metadata": {},
   "outputs": [],
   "source": [
    "import wze_uav.data_loader as data_loader\n",
    "import wze_uav.models as models\n",
    "from wze_uav.engine import *\n",
    "from wze_uav.utils2 import *\n",
    "#from wze_uav.log_writer import create_writer\n",
    "from wze_uav.datasplit import *\n",
    "from efficientnet import model_effnet #for custom effnet with n_channels input\n",
    "import wandb"
   ]
  },
  {
   "cell_type": "markdown",
   "id": "2bd4fb2f",
   "metadata": {},
   "source": [
    "#### Get PyTorch version"
   ]
  },
  {
   "cell_type": "code",
   "execution_count": 4,
   "id": "c10886b1",
   "metadata": {},
   "outputs": [
    {
     "name": "stdout",
     "output_type": "stream",
     "text": [
      "torch version: 1.13.1+cu116\n",
      "torchvision version: 0.14.1+cu116\n"
     ]
    }
   ],
   "source": [
    "print(f\"torch version: {torch.__version__}\")\n",
    "print(f\"torchvision version: {torchvision.__version__}\")"
   ]
  },
  {
   "cell_type": "markdown",
   "id": "aa6a83cf",
   "metadata": {},
   "source": [
    "#### Preparing device agnostic code "
   ]
  },
  {
   "cell_type": "code",
   "execution_count": 5,
   "id": "13d5de88",
   "metadata": {},
   "outputs": [
    {
     "name": "stdout",
     "output_type": "stream",
     "text": [
      "cuda\n",
      "Index of current divice: 0\n",
      "Number of GPUs available: 1\n",
      "GPU Model: Quadro RTX 8000\n"
     ]
    }
   ],
   "source": [
    "# ensure device agnostic code\n",
    "device = 'cuda' if torch.cuda.is_available() else 'cpu'\n",
    "print(device)\n",
    "\n",
    "# get index of currently selected device\n",
    "print(f\"Index of current divice: {torch.cuda.current_device()}\")\n",
    "# get number of GPUs available\n",
    "print(f\"Number of GPUs available: {torch.cuda.device_count()}\")\n",
    "# get the name of the device\n",
    "print(f\"GPU Model: {torch.cuda.get_device_name(0)}\")"
   ]
  },
  {
   "cell_type": "markdown",
   "id": "8ef6b169",
   "metadata": {},
   "source": [
    "#### Login to Weights & Biases to track results"
   ]
  },
  {
   "cell_type": "code",
   "execution_count": 6,
   "id": "a59d27cf",
   "metadata": {},
   "outputs": [
    {
     "name": "stderr",
     "output_type": "stream",
     "text": [
      "Failed to detect the name of this notebook, you can set it manually with the WANDB_NOTEBOOK_NAME environment variable to enable code saving.\n",
      "\u001b[34m\u001b[1mwandb\u001b[0m: Currently logged in as: \u001b[33msimon-ecke\u001b[0m. Use \u001b[1m`wandb login --relogin`\u001b[0m to force relogin\n"
     ]
    },
    {
     "data": {
      "text/html": [
       "Tracking run with wandb version 0.14.2"
      ],
      "text/plain": [
       "<IPython.core.display.HTML object>"
      ]
     },
     "metadata": {},
     "output_type": "display_data"
    },
    {
     "data": {
      "text/html": [
       "Run data is saved locally in <code>C:\\Users\\lwfeckesim\\01_PyTorch\\wze-uav\\wze-uav-master\\wandb\\run-20230416_235303-td0r2mvg</code>"
      ],
      "text/plain": [
       "<IPython.core.display.HTML object>"
      ]
     },
     "metadata": {},
     "output_type": "display_data"
    },
    {
     "data": {
      "text/html": [
       "Syncing run <strong><a href='https://wandb.ai/simon-ecke/wze-uav/runs/td0r2mvg' target=\"_blank\">ethereal-meadow-88</a></strong> to <a href='https://wandb.ai/simon-ecke/wze-uav' target=\"_blank\">Weights & Biases</a> (<a href='https://wandb.me/run' target=\"_blank\">docs</a>)<br/>"
      ],
      "text/plain": [
       "<IPython.core.display.HTML object>"
      ]
     },
     "metadata": {},
     "output_type": "display_data"
    },
    {
     "data": {
      "text/html": [
       " View project at <a href='https://wandb.ai/simon-ecke/wze-uav' target=\"_blank\">https://wandb.ai/simon-ecke/wze-uav</a>"
      ],
      "text/plain": [
       "<IPython.core.display.HTML object>"
      ]
     },
     "metadata": {},
     "output_type": "display_data"
    },
    {
     "data": {
      "text/html": [
       " View run at <a href='https://wandb.ai/simon-ecke/wze-uav/runs/td0r2mvg' target=\"_blank\">https://wandb.ai/simon-ecke/wze-uav/runs/td0r2mvg</a>"
      ],
      "text/plain": [
       "<IPython.core.display.HTML object>"
      ]
     },
     "metadata": {},
     "output_type": "display_data"
    },
    {
     "data": {
      "text/html": [
       "<button onClick=\"this.nextSibling.style.display='block';this.style.display='none';\">Display W&B run</button><iframe src='https://wandb.ai/simon-ecke/wze-uav/runs/td0r2mvg?jupyter=true' style='border:none;width:100%;height:420px;display:none;'></iframe>"
      ],
      "text/plain": [
       "<wandb.sdk.wandb_run.Run at 0x1f9da06b8b0>"
      ]
     },
     "execution_count": 6,
     "metadata": {},
     "output_type": "execute_result"
    }
   ],
   "source": [
    "# IMPORTANT: The proxy needs to be set in anaconda!\n",
    "wandb.login()\n",
    "#wandb.init(settings=wandb.Settings(start_method=\"thread\"))\n",
    "wandb.init(project='wze-uav', entity='simon-ecke')"
   ]
  },
  {
   "cell_type": "markdown",
   "id": "a26a6a34",
   "metadata": {},
   "source": [
    "#### Ensure reproducibility "
   ]
  },
  {
   "cell_type": "code",
   "execution_count": 7,
   "id": "dd4656a7",
   "metadata": {},
   "outputs": [],
   "source": [
    "# for more information, see also: https://pytorch.org/docs/stable/notes/randomness.html\n",
    "\n",
    "# Set seeds\n",
    "def set_seeds(seed: int=42):\n",
    "    \"\"\"Sets random sets for torch operations.\n",
    "\n",
    "    Args:\n",
    "        seed (int, optional): Random seed to set. Defaults to 42.\n",
    "    \"\"\"\n",
    "    # Set the seed for general torch operations\n",
    "    torch.manual_seed(seed)\n",
    "    # Set the seed for CUDA torch operations (ones that happen on the GPU)\n",
    "    torch.cuda.manual_seed(seed)\n",
    "    # seed for numpy\n",
    "    np.random.seed(seed)\n",
    "\n",
    "set_seeds(42) \n",
    "\n",
    "# Set to true -> might speed up the process but should be set to False if reproducible results are desired\n",
    "torch.backends.cudnn.benchmark = False\n"
   ]
  },
  {
   "cell_type": "markdown",
   "id": "8be33671",
   "metadata": {},
   "source": [
    "#### Define file directory"
   ]
  },
  {
   "cell_type": "code",
   "execution_count": 8,
   "id": "30645f36",
   "metadata": {},
   "outputs": [],
   "source": [
    "#####################################################################################\n",
    "# 3 channel input (r-g-b)\n",
    "#data_path = r\"D:\\Drohnendaten\\10_WZE-UAV\\Auswertung_findatree\\Datasplit\\ROI\\rgb\"\n",
    "\n",
    "# 4 channel input (r-g-b-nir)\n",
    "data_path = r\"D:\\Drohnendaten\\10_WZE-UAV\\Auswertung_findatree\\Datasplit\\ROI\\rgb-nir\"\n",
    "\n",
    "# 5 channel input (r-g-b-re-nir)\n",
    "#data_path = r\"D:\\Drohnendaten\\10_WZE-UAV\\Auswertung_findatree\\Datasplit\\ROI\\rgb-re-nir\"\n",
    "#####################################################################################"
   ]
  },
  {
   "cell_type": "markdown",
   "id": "4560ce64",
   "metadata": {},
   "source": [
    "#### Get all file paths"
   ]
  },
  {
   "cell_type": "code",
   "execution_count": 9,
   "id": "aa072e4c",
   "metadata": {},
   "outputs": [],
   "source": [
    "fn_list = os.listdir(data_path)\n",
    "path_list = []\n",
    "# Iterate over all datafiles\n",
    "for year in fn_list:\n",
    "    year_dir = f'{data_path}\\\\{year}'\n",
    "    for filename in os.listdir(year_dir):\n",
    "        path = f'{year_dir}\\\\{filename}'\n",
    "        path_list.append(path)"
   ]
  },
  {
   "cell_type": "code",
   "execution_count": 10,
   "id": "a46baae4",
   "metadata": {},
   "outputs": [
    {
     "data": {
      "text/plain": [
       "['D:\\\\Drohnendaten\\\\10_WZE-UAV\\\\Auswertung_findatree\\\\Datasplit\\\\ROI\\\\rgb-nir\\\\2020\\\\tnr10527_rois.hdf5',\n",
       " 'D:\\\\Drohnendaten\\\\10_WZE-UAV\\\\Auswertung_findatree\\\\Datasplit\\\\ROI\\\\rgb-nir\\\\2020\\\\tnr10533_rois.hdf5',\n",
       " 'D:\\\\Drohnendaten\\\\10_WZE-UAV\\\\Auswertung_findatree\\\\Datasplit\\\\ROI\\\\rgb-nir\\\\2020\\\\tnr10545_rois.hdf5',\n",
       " 'D:\\\\Drohnendaten\\\\10_WZE-UAV\\\\Auswertung_findatree\\\\Datasplit\\\\ROI\\\\rgb-nir\\\\2020\\\\tnr10547_rois.hdf5',\n",
       " 'D:\\\\Drohnendaten\\\\10_WZE-UAV\\\\Auswertung_findatree\\\\Datasplit\\\\ROI\\\\rgb-nir\\\\2020\\\\tnr10912_rois.hdf5',\n",
       " 'D:\\\\Drohnendaten\\\\10_WZE-UAV\\\\Auswertung_findatree\\\\Datasplit\\\\ROI\\\\rgb-nir\\\\2020\\\\tnr11032_rois.hdf5',\n",
       " 'D:\\\\Drohnendaten\\\\10_WZE-UAV\\\\Auswertung_findatree\\\\Datasplit\\\\ROI\\\\rgb-nir\\\\2020\\\\tnr11040_rois.hdf5',\n",
       " 'D:\\\\Drohnendaten\\\\10_WZE-UAV\\\\Auswertung_findatree\\\\Datasplit\\\\ROI\\\\rgb-nir\\\\2020\\\\tnr11044_rois.hdf5',\n",
       " 'D:\\\\Drohnendaten\\\\10_WZE-UAV\\\\Auswertung_findatree\\\\Datasplit\\\\ROI\\\\rgb-nir\\\\2020\\\\tnr11048_rois.hdf5',\n",
       " 'D:\\\\Drohnendaten\\\\10_WZE-UAV\\\\Auswertung_findatree\\\\Datasplit\\\\ROI\\\\rgb-nir\\\\2020\\\\tnr11052_rois.hdf5',\n",
       " 'D:\\\\Drohnendaten\\\\10_WZE-UAV\\\\Auswertung_findatree\\\\Datasplit\\\\ROI\\\\rgb-nir\\\\2020\\\\tnr11056_rois.hdf5',\n",
       " 'D:\\\\Drohnendaten\\\\10_WZE-UAV\\\\Auswertung_findatree\\\\Datasplit\\\\ROI\\\\rgb-nir\\\\2020\\\\tnr11078_rois.hdf5',\n",
       " 'D:\\\\Drohnendaten\\\\10_WZE-UAV\\\\Auswertung_findatree\\\\Datasplit\\\\ROI\\\\rgb-nir\\\\2020\\\\tnr11080_rois.hdf5',\n",
       " 'D:\\\\Drohnendaten\\\\10_WZE-UAV\\\\Auswertung_findatree\\\\Datasplit\\\\ROI\\\\rgb-nir\\\\2020\\\\tnr11090_rois.hdf5',\n",
       " 'D:\\\\Drohnendaten\\\\10_WZE-UAV\\\\Auswertung_findatree\\\\Datasplit\\\\ROI\\\\rgb-nir\\\\2020\\\\tnr11092_rois.hdf5',\n",
       " 'D:\\\\Drohnendaten\\\\10_WZE-UAV\\\\Auswertung_findatree\\\\Datasplit\\\\ROI\\\\rgb-nir\\\\2020\\\\tnr11179_rois.hdf5',\n",
       " 'D:\\\\Drohnendaten\\\\10_WZE-UAV\\\\Auswertung_findatree\\\\Datasplit\\\\ROI\\\\rgb-nir\\\\2020\\\\tnr11189_rois.hdf5',\n",
       " 'D:\\\\Drohnendaten\\\\10_WZE-UAV\\\\Auswertung_findatree\\\\Datasplit\\\\ROI\\\\rgb-nir\\\\2020\\\\tnr11325_rois.hdf5',\n",
       " 'D:\\\\Drohnendaten\\\\10_WZE-UAV\\\\Auswertung_findatree\\\\Datasplit\\\\ROI\\\\rgb-nir\\\\2020\\\\tnr11327_rois.hdf5',\n",
       " 'D:\\\\Drohnendaten\\\\10_WZE-UAV\\\\Auswertung_findatree\\\\Datasplit\\\\ROI\\\\rgb-nir\\\\2020\\\\tnr11453_rois.hdf5',\n",
       " 'D:\\\\Drohnendaten\\\\10_WZE-UAV\\\\Auswertung_findatree\\\\Datasplit\\\\ROI\\\\rgb-nir\\\\2020\\\\tnr11459_rois.hdf5',\n",
       " 'D:\\\\Drohnendaten\\\\10_WZE-UAV\\\\Auswertung_findatree\\\\Datasplit\\\\ROI\\\\rgb-nir\\\\2020\\\\tnr11576_rois.hdf5',\n",
       " 'D:\\\\Drohnendaten\\\\10_WZE-UAV\\\\Auswertung_findatree\\\\Datasplit\\\\ROI\\\\rgb-nir\\\\2020\\\\tnr11581_rois.hdf5',\n",
       " 'D:\\\\Drohnendaten\\\\10_WZE-UAV\\\\Auswertung_findatree\\\\Datasplit\\\\ROI\\\\rgb-nir\\\\2020\\\\tnr11597_rois.hdf5',\n",
       " 'D:\\\\Drohnendaten\\\\10_WZE-UAV\\\\Auswertung_findatree\\\\Datasplit\\\\ROI\\\\rgb-nir\\\\2020\\\\tnr11601_rois.hdf5',\n",
       " 'D:\\\\Drohnendaten\\\\10_WZE-UAV\\\\Auswertung_findatree\\\\Datasplit\\\\ROI\\\\rgb-nir\\\\2020\\\\tnr11622_rois.hdf5',\n",
       " 'D:\\\\Drohnendaten\\\\10_WZE-UAV\\\\Auswertung_findatree\\\\Datasplit\\\\ROI\\\\rgb-nir\\\\2020\\\\tnr11626_rois.hdf5',\n",
       " 'D:\\\\Drohnendaten\\\\10_WZE-UAV\\\\Auswertung_findatree\\\\Datasplit\\\\ROI\\\\rgb-nir\\\\2020\\\\tnr11638_rois.hdf5',\n",
       " 'D:\\\\Drohnendaten\\\\10_WZE-UAV\\\\Auswertung_findatree\\\\Datasplit\\\\ROI\\\\rgb-nir\\\\2020\\\\tnr11640_rois.hdf5',\n",
       " 'D:\\\\Drohnendaten\\\\10_WZE-UAV\\\\Auswertung_findatree\\\\Datasplit\\\\ROI\\\\rgb-nir\\\\2020\\\\tnr11727_rois.hdf5',\n",
       " 'D:\\\\Drohnendaten\\\\10_WZE-UAV\\\\Auswertung_findatree\\\\Datasplit\\\\ROI\\\\rgb-nir\\\\2020\\\\tnr11733_rois.hdf5',\n",
       " 'D:\\\\Drohnendaten\\\\10_WZE-UAV\\\\Auswertung_findatree\\\\Datasplit\\\\ROI\\\\rgb-nir\\\\2020\\\\tnr11866_rois.hdf5',\n",
       " 'D:\\\\Drohnendaten\\\\10_WZE-UAV\\\\Auswertung_findatree\\\\Datasplit\\\\ROI\\\\rgb-nir\\\\2020\\\\tnr11874_rois.hdf5',\n",
       " 'D:\\\\Drohnendaten\\\\10_WZE-UAV\\\\Auswertung_findatree\\\\Datasplit\\\\ROI\\\\rgb-nir\\\\2020\\\\tnr11878_rois.hdf5',\n",
       " 'D:\\\\Drohnendaten\\\\10_WZE-UAV\\\\Auswertung_findatree\\\\Datasplit\\\\ROI\\\\rgb-nir\\\\2020\\\\tnr11_rois.hdf5',\n",
       " 'D:\\\\Drohnendaten\\\\10_WZE-UAV\\\\Auswertung_findatree\\\\Datasplit\\\\ROI\\\\rgb-nir\\\\2020\\\\tnr12013_rois.hdf5',\n",
       " 'D:\\\\Drohnendaten\\\\10_WZE-UAV\\\\Auswertung_findatree\\\\Datasplit\\\\ROI\\\\rgb-nir\\\\2020\\\\tnr12019_rois.hdf5',\n",
       " 'D:\\\\Drohnendaten\\\\10_WZE-UAV\\\\Auswertung_findatree\\\\Datasplit\\\\ROI\\\\rgb-nir\\\\2020\\\\tnr12120_rois.hdf5',\n",
       " 'D:\\\\Drohnendaten\\\\10_WZE-UAV\\\\Auswertung_findatree\\\\Datasplit\\\\ROI\\\\rgb-nir\\\\2020\\\\tnr12124_rois.hdf5',\n",
       " 'D:\\\\Drohnendaten\\\\10_WZE-UAV\\\\Auswertung_findatree\\\\Datasplit\\\\ROI\\\\rgb-nir\\\\2020\\\\tnr12153_rois.hdf5',\n",
       " 'D:\\\\Drohnendaten\\\\10_WZE-UAV\\\\Auswertung_findatree\\\\Datasplit\\\\ROI\\\\rgb-nir\\\\2020\\\\tnr12161_rois.hdf5',\n",
       " 'D:\\\\Drohnendaten\\\\10_WZE-UAV\\\\Auswertung_findatree\\\\Datasplit\\\\ROI\\\\rgb-nir\\\\2020\\\\tnr12169_rois.hdf5',\n",
       " 'D:\\\\Drohnendaten\\\\10_WZE-UAV\\\\Auswertung_findatree\\\\Datasplit\\\\ROI\\\\rgb-nir\\\\2020\\\\tnr12179_rois.hdf5',\n",
       " 'D:\\\\Drohnendaten\\\\10_WZE-UAV\\\\Auswertung_findatree\\\\Datasplit\\\\ROI\\\\rgb-nir\\\\2020\\\\tnr12285_rois.hdf5',\n",
       " 'D:\\\\Drohnendaten\\\\10_WZE-UAV\\\\Auswertung_findatree\\\\Datasplit\\\\ROI\\\\rgb-nir\\\\2020\\\\tnr12426_rois.hdf5',\n",
       " 'D:\\\\Drohnendaten\\\\10_WZE-UAV\\\\Auswertung_findatree\\\\Datasplit\\\\ROI\\\\rgb-nir\\\\2020\\\\tnr12549_rois.hdf5',\n",
       " 'D:\\\\Drohnendaten\\\\10_WZE-UAV\\\\Auswertung_findatree\\\\Datasplit\\\\ROI\\\\rgb-nir\\\\2020\\\\tnr12553_rois.hdf5',\n",
       " 'D:\\\\Drohnendaten\\\\10_WZE-UAV\\\\Auswertung_findatree\\\\Datasplit\\\\ROI\\\\rgb-nir\\\\2020\\\\tnr12557_rois.hdf5',\n",
       " 'D:\\\\Drohnendaten\\\\10_WZE-UAV\\\\Auswertung_findatree\\\\Datasplit\\\\ROI\\\\rgb-nir\\\\2020\\\\tnr12673_rois.hdf5',\n",
       " 'D:\\\\Drohnendaten\\\\10_WZE-UAV\\\\Auswertung_findatree\\\\Datasplit\\\\ROI\\\\rgb-nir\\\\2020\\\\tnr12678_rois.hdf5',\n",
       " 'D:\\\\Drohnendaten\\\\10_WZE-UAV\\\\Auswertung_findatree\\\\Datasplit\\\\ROI\\\\rgb-nir\\\\2020\\\\tnr12694_rois.hdf5',\n",
       " 'D:\\\\Drohnendaten\\\\10_WZE-UAV\\\\Auswertung_findatree\\\\Datasplit\\\\ROI\\\\rgb-nir\\\\2020\\\\tnr12698_rois.hdf5',\n",
       " 'D:\\\\Drohnendaten\\\\10_WZE-UAV\\\\Auswertung_findatree\\\\Datasplit\\\\ROI\\\\rgb-nir\\\\2020\\\\tnr12702_rois.hdf5',\n",
       " 'D:\\\\Drohnendaten\\\\10_WZE-UAV\\\\Auswertung_findatree\\\\Datasplit\\\\ROI\\\\rgb-nir\\\\2020\\\\tnr12713_rois.hdf5',\n",
       " 'D:\\\\Drohnendaten\\\\10_WZE-UAV\\\\Auswertung_findatree\\\\Datasplit\\\\ROI\\\\rgb-nir\\\\2020\\\\tnr12715_rois.hdf5',\n",
       " 'D:\\\\Drohnendaten\\\\10_WZE-UAV\\\\Auswertung_findatree\\\\Datasplit\\\\ROI\\\\rgb-nir\\\\2020\\\\tnr12717_rois.hdf5',\n",
       " 'D:\\\\Drohnendaten\\\\10_WZE-UAV\\\\Auswertung_findatree\\\\Datasplit\\\\ROI\\\\rgb-nir\\\\2020\\\\tnr12719_rois.hdf5',\n",
       " 'D:\\\\Drohnendaten\\\\10_WZE-UAV\\\\Auswertung_findatree\\\\Datasplit\\\\ROI\\\\rgb-nir\\\\2020\\\\tnr12950_rois.hdf5',\n",
       " 'D:\\\\Drohnendaten\\\\10_WZE-UAV\\\\Auswertung_findatree\\\\Datasplit\\\\ROI\\\\rgb-nir\\\\2020\\\\tnr12960_rois.hdf5',\n",
       " 'D:\\\\Drohnendaten\\\\10_WZE-UAV\\\\Auswertung_findatree\\\\Datasplit\\\\ROI\\\\rgb-nir\\\\2020\\\\tnr13212_rois.hdf5',\n",
       " 'D:\\\\Drohnendaten\\\\10_WZE-UAV\\\\Auswertung_findatree\\\\Datasplit\\\\ROI\\\\rgb-nir\\\\2020\\\\tnr13225_rois.hdf5',\n",
       " 'D:\\\\Drohnendaten\\\\10_WZE-UAV\\\\Auswertung_findatree\\\\Datasplit\\\\ROI\\\\rgb-nir\\\\2020\\\\tnr13233_rois.hdf5',\n",
       " 'D:\\\\Drohnendaten\\\\10_WZE-UAV\\\\Auswertung_findatree\\\\Datasplit\\\\ROI\\\\rgb-nir\\\\2020\\\\tnr13259_rois.hdf5',\n",
       " 'D:\\\\Drohnendaten\\\\10_WZE-UAV\\\\Auswertung_findatree\\\\Datasplit\\\\ROI\\\\rgb-nir\\\\2020\\\\tnr13508_rois.hdf5',\n",
       " 'D:\\\\Drohnendaten\\\\10_WZE-UAV\\\\Auswertung_findatree\\\\Datasplit\\\\ROI\\\\rgb-nir\\\\2020\\\\tnr13758_rois.hdf5',\n",
       " 'D:\\\\Drohnendaten\\\\10_WZE-UAV\\\\Auswertung_findatree\\\\Datasplit\\\\ROI\\\\rgb-nir\\\\2020\\\\tnr13766_rois.hdf5',\n",
       " 'D:\\\\Drohnendaten\\\\10_WZE-UAV\\\\Auswertung_findatree\\\\Datasplit\\\\ROI\\\\rgb-nir\\\\2020\\\\tnr13779_rois.hdf5',\n",
       " 'D:\\\\Drohnendaten\\\\10_WZE-UAV\\\\Auswertung_findatree\\\\Datasplit\\\\ROI\\\\rgb-nir\\\\2020\\\\tnr13819_rois.hdf5',\n",
       " 'D:\\\\Drohnendaten\\\\10_WZE-UAV\\\\Auswertung_findatree\\\\Datasplit\\\\ROI\\\\rgb-nir\\\\2020\\\\tnr1381_rois.hdf5',\n",
       " 'D:\\\\Drohnendaten\\\\10_WZE-UAV\\\\Auswertung_findatree\\\\Datasplit\\\\ROI\\\\rgb-nir\\\\2020\\\\tnr13825_rois.hdf5',\n",
       " 'D:\\\\Drohnendaten\\\\10_WZE-UAV\\\\Auswertung_findatree\\\\Datasplit\\\\ROI\\\\rgb-nir\\\\2020\\\\tnr13898_rois.hdf5',\n",
       " 'D:\\\\Drohnendaten\\\\10_WZE-UAV\\\\Auswertung_findatree\\\\Datasplit\\\\ROI\\\\rgb-nir\\\\2020\\\\tnr13922_rois.hdf5',\n",
       " 'D:\\\\Drohnendaten\\\\10_WZE-UAV\\\\Auswertung_findatree\\\\Datasplit\\\\ROI\\\\rgb-nir\\\\2020\\\\tnr14156_rois.hdf5',\n",
       " 'D:\\\\Drohnendaten\\\\10_WZE-UAV\\\\Auswertung_findatree\\\\Datasplit\\\\ROI\\\\rgb-nir\\\\2020\\\\tnr14293_rois.hdf5',\n",
       " 'D:\\\\Drohnendaten\\\\10_WZE-UAV\\\\Auswertung_findatree\\\\Datasplit\\\\ROI\\\\rgb-nir\\\\2020\\\\tnr14327_rois.hdf5',\n",
       " 'D:\\\\Drohnendaten\\\\10_WZE-UAV\\\\Auswertung_findatree\\\\Datasplit\\\\ROI\\\\rgb-nir\\\\2020\\\\tnr14666_rois.hdf5',\n",
       " 'D:\\\\Drohnendaten\\\\10_WZE-UAV\\\\Auswertung_findatree\\\\Datasplit\\\\ROI\\\\rgb-nir\\\\2020\\\\tnr14723_rois.hdf5',\n",
       " 'D:\\\\Drohnendaten\\\\10_WZE-UAV\\\\Auswertung_findatree\\\\Datasplit\\\\ROI\\\\rgb-nir\\\\2020\\\\tnr14727_rois.hdf5',\n",
       " 'D:\\\\Drohnendaten\\\\10_WZE-UAV\\\\Auswertung_findatree\\\\Datasplit\\\\ROI\\\\rgb-nir\\\\2020\\\\tnr14732_rois.hdf5',\n",
       " 'D:\\\\Drohnendaten\\\\10_WZE-UAV\\\\Auswertung_findatree\\\\Datasplit\\\\ROI\\\\rgb-nir\\\\2020\\\\tnr14781_rois.hdf5',\n",
       " 'D:\\\\Drohnendaten\\\\10_WZE-UAV\\\\Auswertung_findatree\\\\Datasplit\\\\ROI\\\\rgb-nir\\\\2020\\\\tnr14877_rois.hdf5',\n",
       " 'D:\\\\Drohnendaten\\\\10_WZE-UAV\\\\Auswertung_findatree\\\\Datasplit\\\\ROI\\\\rgb-nir\\\\2020\\\\tnr14879_rois.hdf5',\n",
       " 'D:\\\\Drohnendaten\\\\10_WZE-UAV\\\\Auswertung_findatree\\\\Datasplit\\\\ROI\\\\rgb-nir\\\\2020\\\\tnr14887_rois.hdf5',\n",
       " 'D:\\\\Drohnendaten\\\\10_WZE-UAV\\\\Auswertung_findatree\\\\Datasplit\\\\ROI\\\\rgb-nir\\\\2020\\\\tnr15016_rois.hdf5',\n",
       " 'D:\\\\Drohnendaten\\\\10_WZE-UAV\\\\Auswertung_findatree\\\\Datasplit\\\\ROI\\\\rgb-nir\\\\2020\\\\tnr15020_rois.hdf5',\n",
       " 'D:\\\\Drohnendaten\\\\10_WZE-UAV\\\\Auswertung_findatree\\\\Datasplit\\\\ROI\\\\rgb-nir\\\\2020\\\\tnr15027_rois.hdf5',\n",
       " 'D:\\\\Drohnendaten\\\\10_WZE-UAV\\\\Auswertung_findatree\\\\Datasplit\\\\ROI\\\\rgb-nir\\\\2020\\\\tnr15031_rois.hdf5',\n",
       " 'D:\\\\Drohnendaten\\\\10_WZE-UAV\\\\Auswertung_findatree\\\\Datasplit\\\\ROI\\\\rgb-nir\\\\2020\\\\tnr15035_rois.hdf5',\n",
       " 'D:\\\\Drohnendaten\\\\10_WZE-UAV\\\\Auswertung_findatree\\\\Datasplit\\\\ROI\\\\rgb-nir\\\\2020\\\\tnr15039_rois.hdf5',\n",
       " 'D:\\\\Drohnendaten\\\\10_WZE-UAV\\\\Auswertung_findatree\\\\Datasplit\\\\ROI\\\\rgb-nir\\\\2020\\\\tnr15043_rois.hdf5',\n",
       " 'D:\\\\Drohnendaten\\\\10_WZE-UAV\\\\Auswertung_findatree\\\\Datasplit\\\\ROI\\\\rgb-nir\\\\2020\\\\tnr15046_rois.hdf5',\n",
       " 'D:\\\\Drohnendaten\\\\10_WZE-UAV\\\\Auswertung_findatree\\\\Datasplit\\\\ROI\\\\rgb-nir\\\\2020\\\\tnr15050_rois.hdf5',\n",
       " 'D:\\\\Drohnendaten\\\\10_WZE-UAV\\\\Auswertung_findatree\\\\Datasplit\\\\ROI\\\\rgb-nir\\\\2020\\\\tnr15101_rois.hdf5',\n",
       " 'D:\\\\Drohnendaten\\\\10_WZE-UAV\\\\Auswertung_findatree\\\\Datasplit\\\\ROI\\\\rgb-nir\\\\2020\\\\tnr15273_rois.hdf5',\n",
       " 'D:\\\\Drohnendaten\\\\10_WZE-UAV\\\\Auswertung_findatree\\\\Datasplit\\\\ROI\\\\rgb-nir\\\\2020\\\\tnr15277_rois.hdf5',\n",
       " 'D:\\\\Drohnendaten\\\\10_WZE-UAV\\\\Auswertung_findatree\\\\Datasplit\\\\ROI\\\\rgb-nir\\\\2020\\\\tnr15297_rois.hdf5',\n",
       " 'D:\\\\Drohnendaten\\\\10_WZE-UAV\\\\Auswertung_findatree\\\\Datasplit\\\\ROI\\\\rgb-nir\\\\2020\\\\tnr15299_rois.hdf5',\n",
       " 'D:\\\\Drohnendaten\\\\10_WZE-UAV\\\\Auswertung_findatree\\\\Datasplit\\\\ROI\\\\rgb-nir\\\\2020\\\\tnr15301_rois.hdf5',\n",
       " 'D:\\\\Drohnendaten\\\\10_WZE-UAV\\\\Auswertung_findatree\\\\Datasplit\\\\ROI\\\\rgb-nir\\\\2020\\\\tnr15303_rois.hdf5',\n",
       " 'D:\\\\Drohnendaten\\\\10_WZE-UAV\\\\Auswertung_findatree\\\\Datasplit\\\\ROI\\\\rgb-nir\\\\2020\\\\tnr15306_rois.hdf5',\n",
       " 'D:\\\\Drohnendaten\\\\10_WZE-UAV\\\\Auswertung_findatree\\\\Datasplit\\\\ROI\\\\rgb-nir\\\\2020\\\\tnr15311_rois.hdf5',\n",
       " 'D:\\\\Drohnendaten\\\\10_WZE-UAV\\\\Auswertung_findatree\\\\Datasplit\\\\ROI\\\\rgb-nir\\\\2020\\\\tnr15313_rois.hdf5',\n",
       " 'D:\\\\Drohnendaten\\\\10_WZE-UAV\\\\Auswertung_findatree\\\\Datasplit\\\\ROI\\\\rgb-nir\\\\2020\\\\tnr15319_rois.hdf5',\n",
       " 'D:\\\\Drohnendaten\\\\10_WZE-UAV\\\\Auswertung_findatree\\\\Datasplit\\\\ROI\\\\rgb-nir\\\\2020\\\\tnr15327_rois.hdf5',\n",
       " 'D:\\\\Drohnendaten\\\\10_WZE-UAV\\\\Auswertung_findatree\\\\Datasplit\\\\ROI\\\\rgb-nir\\\\2020\\\\tnr15519_rois.hdf5',\n",
       " 'D:\\\\Drohnendaten\\\\10_WZE-UAV\\\\Auswertung_findatree\\\\Datasplit\\\\ROI\\\\rgb-nir\\\\2020\\\\tnr15521_rois.hdf5',\n",
       " 'D:\\\\Drohnendaten\\\\10_WZE-UAV\\\\Auswertung_findatree\\\\Datasplit\\\\ROI\\\\rgb-nir\\\\2020\\\\tnr15531_rois.hdf5',\n",
       " 'D:\\\\Drohnendaten\\\\10_WZE-UAV\\\\Auswertung_findatree\\\\Datasplit\\\\ROI\\\\rgb-nir\\\\2020\\\\tnr15537_rois.hdf5',\n",
       " 'D:\\\\Drohnendaten\\\\10_WZE-UAV\\\\Auswertung_findatree\\\\Datasplit\\\\ROI\\\\rgb-nir\\\\2020\\\\tnr15730_rois.hdf5',\n",
       " 'D:\\\\Drohnendaten\\\\10_WZE-UAV\\\\Auswertung_findatree\\\\Datasplit\\\\ROI\\\\rgb-nir\\\\2020\\\\tnr15736_rois.hdf5',\n",
       " 'D:\\\\Drohnendaten\\\\10_WZE-UAV\\\\Auswertung_findatree\\\\Datasplit\\\\ROI\\\\rgb-nir\\\\2020\\\\tnr15746_rois.hdf5',\n",
       " 'D:\\\\Drohnendaten\\\\10_WZE-UAV\\\\Auswertung_findatree\\\\Datasplit\\\\ROI\\\\rgb-nir\\\\2020\\\\tnr15748_rois.hdf5',\n",
       " 'D:\\\\Drohnendaten\\\\10_WZE-UAV\\\\Auswertung_findatree\\\\Datasplit\\\\ROI\\\\rgb-nir\\\\2020\\\\tnr15780_rois.hdf5',\n",
       " 'D:\\\\Drohnendaten\\\\10_WZE-UAV\\\\Auswertung_findatree\\\\Datasplit\\\\ROI\\\\rgb-nir\\\\2020\\\\tnr15966_rois.hdf5',\n",
       " 'D:\\\\Drohnendaten\\\\10_WZE-UAV\\\\Auswertung_findatree\\\\Datasplit\\\\ROI\\\\rgb-nir\\\\2020\\\\tnr15974_rois.hdf5',\n",
       " 'D:\\\\Drohnendaten\\\\10_WZE-UAV\\\\Auswertung_findatree\\\\Datasplit\\\\ROI\\\\rgb-nir\\\\2020\\\\tnr15986_rois.hdf5',\n",
       " 'D:\\\\Drohnendaten\\\\10_WZE-UAV\\\\Auswertung_findatree\\\\Datasplit\\\\ROI\\\\rgb-nir\\\\2020\\\\tnr15988_rois.hdf5',\n",
       " 'D:\\\\Drohnendaten\\\\10_WZE-UAV\\\\Auswertung_findatree\\\\Datasplit\\\\ROI\\\\rgb-nir\\\\2020\\\\tnr15998_rois.hdf5',\n",
       " 'D:\\\\Drohnendaten\\\\10_WZE-UAV\\\\Auswertung_findatree\\\\Datasplit\\\\ROI\\\\rgb-nir\\\\2020\\\\tnr16173_rois.hdf5',\n",
       " 'D:\\\\Drohnendaten\\\\10_WZE-UAV\\\\Auswertung_findatree\\\\Datasplit\\\\ROI\\\\rgb-nir\\\\2020\\\\tnr16177_rois.hdf5',\n",
       " 'D:\\\\Drohnendaten\\\\10_WZE-UAV\\\\Auswertung_findatree\\\\Datasplit\\\\ROI\\\\rgb-nir\\\\2020\\\\tnr16181_rois.hdf5',\n",
       " 'D:\\\\Drohnendaten\\\\10_WZE-UAV\\\\Auswertung_findatree\\\\Datasplit\\\\ROI\\\\rgb-nir\\\\2020\\\\tnr16193_rois.hdf5',\n",
       " 'D:\\\\Drohnendaten\\\\10_WZE-UAV\\\\Auswertung_findatree\\\\Datasplit\\\\ROI\\\\rgb-nir\\\\2020\\\\tnr16197_rois.hdf5',\n",
       " 'D:\\\\Drohnendaten\\\\10_WZE-UAV\\\\Auswertung_findatree\\\\Datasplit\\\\ROI\\\\rgb-nir\\\\2020\\\\tnr16201_rois.hdf5',\n",
       " 'D:\\\\Drohnendaten\\\\10_WZE-UAV\\\\Auswertung_findatree\\\\Datasplit\\\\ROI\\\\rgb-nir\\\\2020\\\\tnr16205_rois.hdf5',\n",
       " 'D:\\\\Drohnendaten\\\\10_WZE-UAV\\\\Auswertung_findatree\\\\Datasplit\\\\ROI\\\\rgb-nir\\\\2020\\\\tnr16211_rois.hdf5',\n",
       " 'D:\\\\Drohnendaten\\\\10_WZE-UAV\\\\Auswertung_findatree\\\\Datasplit\\\\ROI\\\\rgb-nir\\\\2020\\\\tnr16223_rois.hdf5',\n",
       " 'D:\\\\Drohnendaten\\\\10_WZE-UAV\\\\Auswertung_findatree\\\\Datasplit\\\\ROI\\\\rgb-nir\\\\2020\\\\tnr16227_rois.hdf5',\n",
       " 'D:\\\\Drohnendaten\\\\10_WZE-UAV\\\\Auswertung_findatree\\\\Datasplit\\\\ROI\\\\rgb-nir\\\\2020\\\\tnr16400_rois.hdf5',\n",
       " 'D:\\\\Drohnendaten\\\\10_WZE-UAV\\\\Auswertung_findatree\\\\Datasplit\\\\ROI\\\\rgb-nir\\\\2020\\\\tnr16404_rois.hdf5',\n",
       " 'D:\\\\Drohnendaten\\\\10_WZE-UAV\\\\Auswertung_findatree\\\\Datasplit\\\\ROI\\\\rgb-nir\\\\2020\\\\tnr16412_rois.hdf5',\n",
       " 'D:\\\\Drohnendaten\\\\10_WZE-UAV\\\\Auswertung_findatree\\\\Datasplit\\\\ROI\\\\rgb-nir\\\\2020\\\\tnr16422_rois.hdf5',\n",
       " 'D:\\\\Drohnendaten\\\\10_WZE-UAV\\\\Auswertung_findatree\\\\Datasplit\\\\ROI\\\\rgb-nir\\\\2020\\\\tnr16426_rois.hdf5',\n",
       " 'D:\\\\Drohnendaten\\\\10_WZE-UAV\\\\Auswertung_findatree\\\\Datasplit\\\\ROI\\\\rgb-nir\\\\2020\\\\tnr16620_rois.hdf5',\n",
       " 'D:\\\\Drohnendaten\\\\10_WZE-UAV\\\\Auswertung_findatree\\\\Datasplit\\\\ROI\\\\rgb-nir\\\\2020\\\\tnr16624_rois.hdf5',\n",
       " 'D:\\\\Drohnendaten\\\\10_WZE-UAV\\\\Auswertung_findatree\\\\Datasplit\\\\ROI\\\\rgb-nir\\\\2020\\\\tnr16632_rois.hdf5',\n",
       " 'D:\\\\Drohnendaten\\\\10_WZE-UAV\\\\Auswertung_findatree\\\\Datasplit\\\\ROI\\\\rgb-nir\\\\2020\\\\tnr16639_rois.hdf5',\n",
       " 'D:\\\\Drohnendaten\\\\10_WZE-UAV\\\\Auswertung_findatree\\\\Datasplit\\\\ROI\\\\rgb-nir\\\\2020\\\\tnr16643_rois.hdf5',\n",
       " 'D:\\\\Drohnendaten\\\\10_WZE-UAV\\\\Auswertung_findatree\\\\Datasplit\\\\ROI\\\\rgb-nir\\\\2020\\\\tnr16645_rois.hdf5',\n",
       " 'D:\\\\Drohnendaten\\\\10_WZE-UAV\\\\Auswertung_findatree\\\\Datasplit\\\\ROI\\\\rgb-nir\\\\2020\\\\tnr16649_rois.hdf5',\n",
       " 'D:\\\\Drohnendaten\\\\10_WZE-UAV\\\\Auswertung_findatree\\\\Datasplit\\\\ROI\\\\rgb-nir\\\\2020\\\\tnr16657_rois.hdf5',\n",
       " 'D:\\\\Drohnendaten\\\\10_WZE-UAV\\\\Auswertung_findatree\\\\Datasplit\\\\ROI\\\\rgb-nir\\\\2020\\\\tnr16829_rois.hdf5',\n",
       " 'D:\\\\Drohnendaten\\\\10_WZE-UAV\\\\Auswertung_findatree\\\\Datasplit\\\\ROI\\\\rgb-nir\\\\2020\\\\tnr16833_rois.hdf5',\n",
       " 'D:\\\\Drohnendaten\\\\10_WZE-UAV\\\\Auswertung_findatree\\\\Datasplit\\\\ROI\\\\rgb-nir\\\\2020\\\\tnr17019_rois.hdf5',\n",
       " 'D:\\\\Drohnendaten\\\\10_WZE-UAV\\\\Auswertung_findatree\\\\Datasplit\\\\ROI\\\\rgb-nir\\\\2020\\\\tnr17032_rois.hdf5',\n",
       " 'D:\\\\Drohnendaten\\\\10_WZE-UAV\\\\Auswertung_findatree\\\\Datasplit\\\\ROI\\\\rgb-nir\\\\2020\\\\tnr17034_rois.hdf5',\n",
       " 'D:\\\\Drohnendaten\\\\10_WZE-UAV\\\\Auswertung_findatree\\\\Datasplit\\\\ROI\\\\rgb-nir\\\\2020\\\\tnr17042_rois.hdf5',\n",
       " 'D:\\\\Drohnendaten\\\\10_WZE-UAV\\\\Auswertung_findatree\\\\Datasplit\\\\ROI\\\\rgb-nir\\\\2020\\\\tnr17339_rois.hdf5',\n",
       " 'D:\\\\Drohnendaten\\\\10_WZE-UAV\\\\Auswertung_findatree\\\\Datasplit\\\\ROI\\\\rgb-nir\\\\2020\\\\tnr174_rois.hdf5',\n",
       " 'D:\\\\Drohnendaten\\\\10_WZE-UAV\\\\Auswertung_findatree\\\\Datasplit\\\\ROI\\\\rgb-nir\\\\2020\\\\tnr176_rois.hdf5',\n",
       " 'D:\\\\Drohnendaten\\\\10_WZE-UAV\\\\Auswertung_findatree\\\\Datasplit\\\\ROI\\\\rgb-nir\\\\2020\\\\tnr182_rois.hdf5',\n",
       " 'D:\\\\Drohnendaten\\\\10_WZE-UAV\\\\Auswertung_findatree\\\\Datasplit\\\\ROI\\\\rgb-nir\\\\2020\\\\tnr184_rois.hdf5',\n",
       " 'D:\\\\Drohnendaten\\\\10_WZE-UAV\\\\Auswertung_findatree\\\\Datasplit\\\\ROI\\\\rgb-nir\\\\2020\\\\tnr185_rois.hdf5',\n",
       " 'D:\\\\Drohnendaten\\\\10_WZE-UAV\\\\Auswertung_findatree\\\\Datasplit\\\\ROI\\\\rgb-nir\\\\2020\\\\tnr188_rois.hdf5',\n",
       " 'D:\\\\Drohnendaten\\\\10_WZE-UAV\\\\Auswertung_findatree\\\\Datasplit\\\\ROI\\\\rgb-nir\\\\2020\\\\tnr1898_rois.hdf5',\n",
       " 'D:\\\\Drohnendaten\\\\10_WZE-UAV\\\\Auswertung_findatree\\\\Datasplit\\\\ROI\\\\rgb-nir\\\\2020\\\\tnr192_rois.hdf5',\n",
       " 'D:\\\\Drohnendaten\\\\10_WZE-UAV\\\\Auswertung_findatree\\\\Datasplit\\\\ROI\\\\rgb-nir\\\\2020\\\\tnr194_rois.hdf5',\n",
       " 'D:\\\\Drohnendaten\\\\10_WZE-UAV\\\\Auswertung_findatree\\\\Datasplit\\\\ROI\\\\rgb-nir\\\\2020\\\\tnr196_rois.hdf5',\n",
       " 'D:\\\\Drohnendaten\\\\10_WZE-UAV\\\\Auswertung_findatree\\\\Datasplit\\\\ROI\\\\rgb-nir\\\\2020\\\\tnr200_rois.hdf5',\n",
       " 'D:\\\\Drohnendaten\\\\10_WZE-UAV\\\\Auswertung_findatree\\\\Datasplit\\\\ROI\\\\rgb-nir\\\\2020\\\\tnr2386_rois.hdf5',\n",
       " 'D:\\\\Drohnendaten\\\\10_WZE-UAV\\\\Auswertung_findatree\\\\Datasplit\\\\ROI\\\\rgb-nir\\\\2020\\\\tnr2399_rois.hdf5',\n",
       " 'D:\\\\Drohnendaten\\\\10_WZE-UAV\\\\Auswertung_findatree\\\\Datasplit\\\\ROI\\\\rgb-nir\\\\2020\\\\tnr2411_rois.hdf5',\n",
       " 'D:\\\\Drohnendaten\\\\10_WZE-UAV\\\\Auswertung_findatree\\\\Datasplit\\\\ROI\\\\rgb-nir\\\\2020\\\\tnr2413_rois.hdf5',\n",
       " 'D:\\\\Drohnendaten\\\\10_WZE-UAV\\\\Auswertung_findatree\\\\Datasplit\\\\ROI\\\\rgb-nir\\\\2020\\\\tnr3398_rois.hdf5',\n",
       " 'D:\\\\Drohnendaten\\\\10_WZE-UAV\\\\Auswertung_findatree\\\\Datasplit\\\\ROI\\\\rgb-nir\\\\2020\\\\tnr3418_rois.hdf5',\n",
       " 'D:\\\\Drohnendaten\\\\10_WZE-UAV\\\\Auswertung_findatree\\\\Datasplit\\\\ROI\\\\rgb-nir\\\\2020\\\\tnr3430_rois.hdf5',\n",
       " 'D:\\\\Drohnendaten\\\\10_WZE-UAV\\\\Auswertung_findatree\\\\Datasplit\\\\ROI\\\\rgb-nir\\\\2020\\\\tnr35_rois.hdf5',\n",
       " 'D:\\\\Drohnendaten\\\\10_WZE-UAV\\\\Auswertung_findatree\\\\Datasplit\\\\ROI\\\\rgb-nir\\\\2020\\\\tnr3930_rois.hdf5',\n",
       " 'D:\\\\Drohnendaten\\\\10_WZE-UAV\\\\Auswertung_findatree\\\\Datasplit\\\\ROI\\\\rgb-nir\\\\2020\\\\tnr4396_rois.hdf5',\n",
       " 'D:\\\\Drohnendaten\\\\10_WZE-UAV\\\\Auswertung_findatree\\\\Datasplit\\\\ROI\\\\rgb-nir\\\\2020\\\\tnr4412_rois.hdf5',\n",
       " 'D:\\\\Drohnendaten\\\\10_WZE-UAV\\\\Auswertung_findatree\\\\Datasplit\\\\ROI\\\\rgb-nir\\\\2020\\\\tnr4436_rois.hdf5',\n",
       " 'D:\\\\Drohnendaten\\\\10_WZE-UAV\\\\Auswertung_findatree\\\\Datasplit\\\\ROI\\\\rgb-nir\\\\2020\\\\tnr4444_rois.hdf5',\n",
       " 'D:\\\\Drohnendaten\\\\10_WZE-UAV\\\\Auswertung_findatree\\\\Datasplit\\\\ROI\\\\rgb-nir\\\\2020\\\\tnr460_rois.hdf5',\n",
       " 'D:\\\\Drohnendaten\\\\10_WZE-UAV\\\\Auswertung_findatree\\\\Datasplit\\\\ROI\\\\rgb-nir\\\\2020\\\\tnr462_rois.hdf5',\n",
       " 'D:\\\\Drohnendaten\\\\10_WZE-UAV\\\\Auswertung_findatree\\\\Datasplit\\\\ROI\\\\rgb-nir\\\\2020\\\\tnr477_rois.hdf5',\n",
       " 'D:\\\\Drohnendaten\\\\10_WZE-UAV\\\\Auswertung_findatree\\\\Datasplit\\\\ROI\\\\rgb-nir\\\\2020\\\\tnr479_rois.hdf5',\n",
       " 'D:\\\\Drohnendaten\\\\10_WZE-UAV\\\\Auswertung_findatree\\\\Datasplit\\\\ROI\\\\rgb-nir\\\\2020\\\\tnr485_rois.hdf5',\n",
       " 'D:\\\\Drohnendaten\\\\10_WZE-UAV\\\\Auswertung_findatree\\\\Datasplit\\\\ROI\\\\rgb-nir\\\\2020\\\\tnr489_rois.hdf5',\n",
       " 'D:\\\\Drohnendaten\\\\10_WZE-UAV\\\\Auswertung_findatree\\\\Datasplit\\\\ROI\\\\rgb-nir\\\\2020\\\\tnr5449_rois.hdf5',\n",
       " 'D:\\\\Drohnendaten\\\\10_WZE-UAV\\\\Auswertung_findatree\\\\Datasplit\\\\ROI\\\\rgb-nir\\\\2020\\\\tnr5930_rois.hdf5',\n",
       " 'D:\\\\Drohnendaten\\\\10_WZE-UAV\\\\Auswertung_findatree\\\\Datasplit\\\\ROI\\\\rgb-nir\\\\2020\\\\tnr5946_rois.hdf5',\n",
       " 'D:\\\\Drohnendaten\\\\10_WZE-UAV\\\\Auswertung_findatree\\\\Datasplit\\\\ROI\\\\rgb-nir\\\\2020\\\\tnr6430_rois.hdf5',\n",
       " 'D:\\\\Drohnendaten\\\\10_WZE-UAV\\\\Auswertung_findatree\\\\Datasplit\\\\ROI\\\\rgb-nir\\\\2020\\\\tnr6462_rois.hdf5',\n",
       " 'D:\\\\Drohnendaten\\\\10_WZE-UAV\\\\Auswertung_findatree\\\\Datasplit\\\\ROI\\\\rgb-nir\\\\2020\\\\tnr6466_rois.hdf5',\n",
       " 'D:\\\\Drohnendaten\\\\10_WZE-UAV\\\\Auswertung_findatree\\\\Datasplit\\\\ROI\\\\rgb-nir\\\\2020\\\\tnr6468_rois.hdf5',\n",
       " 'D:\\\\Drohnendaten\\\\10_WZE-UAV\\\\Auswertung_findatree\\\\Datasplit\\\\ROI\\\\rgb-nir\\\\2020\\\\tnr6470_rois.hdf5',\n",
       " 'D:\\\\Drohnendaten\\\\10_WZE-UAV\\\\Auswertung_findatree\\\\Datasplit\\\\ROI\\\\rgb-nir\\\\2020\\\\tnr6474_rois.hdf5',\n",
       " 'D:\\\\Drohnendaten\\\\10_WZE-UAV\\\\Auswertung_findatree\\\\Datasplit\\\\ROI\\\\rgb-nir\\\\2020\\\\tnr6478_rois.hdf5',\n",
       " 'D:\\\\Drohnendaten\\\\10_WZE-UAV\\\\Auswertung_findatree\\\\Datasplit\\\\ROI\\\\rgb-nir\\\\2020\\\\tnr6969_rois.hdf5',\n",
       " 'D:\\\\Drohnendaten\\\\10_WZE-UAV\\\\Auswertung_findatree\\\\Datasplit\\\\ROI\\\\rgb-nir\\\\2020\\\\tnr6971_rois.hdf5',\n",
       " 'D:\\\\Drohnendaten\\\\10_WZE-UAV\\\\Auswertung_findatree\\\\Datasplit\\\\ROI\\\\rgb-nir\\\\2020\\\\tnr6977_rois.hdf5',\n",
       " 'D:\\\\Drohnendaten\\\\10_WZE-UAV\\\\Auswertung_findatree\\\\Datasplit\\\\ROI\\\\rgb-nir\\\\2020\\\\tnr7002_rois.hdf5',\n",
       " 'D:\\\\Drohnendaten\\\\10_WZE-UAV\\\\Auswertung_findatree\\\\Datasplit\\\\ROI\\\\rgb-nir\\\\2020\\\\tnr73_rois.hdf5',\n",
       " 'D:\\\\Drohnendaten\\\\10_WZE-UAV\\\\Auswertung_findatree\\\\Datasplit\\\\ROI\\\\rgb-nir\\\\2020\\\\tnr7475_rois.hdf5',\n",
       " 'D:\\\\Drohnendaten\\\\10_WZE-UAV\\\\Auswertung_findatree\\\\Datasplit\\\\ROI\\\\rgb-nir\\\\2020\\\\tnr7511_rois.hdf5',\n",
       " 'D:\\\\Drohnendaten\\\\10_WZE-UAV\\\\Auswertung_findatree\\\\Datasplit\\\\ROI\\\\rgb-nir\\\\2020\\\\tnr7517_rois.hdf5',\n",
       " 'D:\\\\Drohnendaten\\\\10_WZE-UAV\\\\Auswertung_findatree\\\\Datasplit\\\\ROI\\\\rgb-nir\\\\2020\\\\tnr7521_rois.hdf5',\n",
       " 'D:\\\\Drohnendaten\\\\10_WZE-UAV\\\\Auswertung_findatree\\\\Datasplit\\\\ROI\\\\rgb-nir\\\\2020\\\\tnr7525_rois.hdf5',\n",
       " 'D:\\\\Drohnendaten\\\\10_WZE-UAV\\\\Auswertung_findatree\\\\Datasplit\\\\ROI\\\\rgb-nir\\\\2020\\\\tnr75_rois.hdf5',\n",
       " 'D:\\\\Drohnendaten\\\\10_WZE-UAV\\\\Auswertung_findatree\\\\Datasplit\\\\ROI\\\\rgb-nir\\\\2020\\\\tnr79_rois.hdf5',\n",
       " 'D:\\\\Drohnendaten\\\\10_WZE-UAV\\\\Auswertung_findatree\\\\Datasplit\\\\ROI\\\\rgb-nir\\\\2020\\\\tnr8032_rois.hdf5',\n",
       " 'D:\\\\Drohnendaten\\\\10_WZE-UAV\\\\Auswertung_findatree\\\\Datasplit\\\\ROI\\\\rgb-nir\\\\2020\\\\tnr8040_rois.hdf5',\n",
       " 'D:\\\\Drohnendaten\\\\10_WZE-UAV\\\\Auswertung_findatree\\\\Datasplit\\\\ROI\\\\rgb-nir\\\\2020\\\\tnr8492_rois.hdf5',\n",
       " 'D:\\\\Drohnendaten\\\\10_WZE-UAV\\\\Auswertung_findatree\\\\Datasplit\\\\ROI\\\\rgb-nir\\\\2020\\\\tnr8494_rois.hdf5',\n",
       " 'D:\\\\Drohnendaten\\\\10_WZE-UAV\\\\Auswertung_findatree\\\\Datasplit\\\\ROI\\\\rgb-nir\\\\2020\\\\tnr8498_rois.hdf5',\n",
       " 'D:\\\\Drohnendaten\\\\10_WZE-UAV\\\\Auswertung_findatree\\\\Datasplit\\\\ROI\\\\rgb-nir\\\\2020\\\\tnr84_rois.hdf5',\n",
       " 'D:\\\\Drohnendaten\\\\10_WZE-UAV\\\\Auswertung_findatree\\\\Datasplit\\\\ROI\\\\rgb-nir\\\\2020\\\\tnr8532_rois.hdf5',\n",
       " 'D:\\\\Drohnendaten\\\\10_WZE-UAV\\\\Auswertung_findatree\\\\Datasplit\\\\ROI\\\\rgb-nir\\\\2020\\\\tnr86_rois.hdf5',\n",
       " 'D:\\\\Drohnendaten\\\\10_WZE-UAV\\\\Auswertung_findatree\\\\Datasplit\\\\ROI\\\\rgb-nir\\\\2020\\\\tnr879_rois.hdf5',\n",
       " 'D:\\\\Drohnendaten\\\\10_WZE-UAV\\\\Auswertung_findatree\\\\Datasplit\\\\ROI\\\\rgb-nir\\\\2020\\\\tnr8973_rois.hdf5',\n",
       " 'D:\\\\Drohnendaten\\\\10_WZE-UAV\\\\Auswertung_findatree\\\\Datasplit\\\\ROI\\\\rgb-nir\\\\2020\\\\tnr8979_rois.hdf5',\n",
       " 'D:\\\\Drohnendaten\\\\10_WZE-UAV\\\\Auswertung_findatree\\\\Datasplit\\\\ROI\\\\rgb-nir\\\\2020\\\\tnr8981_rois.hdf5',\n",
       " 'D:\\\\Drohnendaten\\\\10_WZE-UAV\\\\Auswertung_findatree\\\\Datasplit\\\\ROI\\\\rgb-nir\\\\2020\\\\tnr8989_rois.hdf5',\n",
       " 'D:\\\\Drohnendaten\\\\10_WZE-UAV\\\\Auswertung_findatree\\\\Datasplit\\\\ROI\\\\rgb-nir\\\\2020\\\\tnr9025_rois.hdf5',\n",
       " 'D:\\\\Drohnendaten\\\\10_WZE-UAV\\\\Auswertung_findatree\\\\Datasplit\\\\ROI\\\\rgb-nir\\\\2020\\\\tnr9464_rois.hdf5',\n",
       " 'D:\\\\Drohnendaten\\\\10_WZE-UAV\\\\Auswertung_findatree\\\\Datasplit\\\\ROI\\\\rgb-nir\\\\2020\\\\tnr9468_rois.hdf5',\n",
       " 'D:\\\\Drohnendaten\\\\10_WZE-UAV\\\\Auswertung_findatree\\\\Datasplit\\\\ROI\\\\rgb-nir\\\\2020\\\\tnr9472_rois.hdf5',\n",
       " 'D:\\\\Drohnendaten\\\\10_WZE-UAV\\\\Auswertung_findatree\\\\Datasplit\\\\ROI\\\\rgb-nir\\\\2020\\\\tnr9477_rois.hdf5',\n",
       " 'D:\\\\Drohnendaten\\\\10_WZE-UAV\\\\Auswertung_findatree\\\\Datasplit\\\\ROI\\\\rgb-nir\\\\2020\\\\tnr9479_rois.hdf5',\n",
       " 'D:\\\\Drohnendaten\\\\10_WZE-UAV\\\\Auswertung_findatree\\\\Datasplit\\\\ROI\\\\rgb-nir\\\\2020\\\\tnr9489_rois.hdf5',\n",
       " 'D:\\\\Drohnendaten\\\\10_WZE-UAV\\\\Auswertung_findatree\\\\Datasplit\\\\ROI\\\\rgb-nir\\\\2020\\\\tnr9493_rois.hdf5',\n",
       " 'D:\\\\Drohnendaten\\\\10_WZE-UAV\\\\Auswertung_findatree\\\\Datasplit\\\\ROI\\\\rgb-nir\\\\2020\\\\tnr9509_rois.hdf5',\n",
       " 'D:\\\\Drohnendaten\\\\10_WZE-UAV\\\\Auswertung_findatree\\\\Datasplit\\\\ROI\\\\rgb-nir\\\\2020\\\\tnr9515_rois.hdf5',\n",
       " 'D:\\\\Drohnendaten\\\\10_WZE-UAV\\\\Auswertung_findatree\\\\Datasplit\\\\ROI\\\\rgb-nir\\\\2020\\\\tnr9517_rois.hdf5',\n",
       " 'D:\\\\Drohnendaten\\\\10_WZE-UAV\\\\Auswertung_findatree\\\\Datasplit\\\\ROI\\\\rgb-nir\\\\2020\\\\tnr9948_rois.hdf5',\n",
       " 'D:\\\\Drohnendaten\\\\10_WZE-UAV\\\\Auswertung_findatree\\\\Datasplit\\\\ROI\\\\rgb-nir\\\\2020\\\\tnr9958_rois.hdf5',\n",
       " 'D:\\\\Drohnendaten\\\\10_WZE-UAV\\\\Auswertung_findatree\\\\Datasplit\\\\ROI\\\\rgb-nir\\\\2020\\\\tnr9966_rois.hdf5',\n",
       " 'D:\\\\Drohnendaten\\\\10_WZE-UAV\\\\Auswertung_findatree\\\\Datasplit\\\\ROI\\\\rgb-nir\\\\2020\\\\tnr9973_rois.hdf5',\n",
       " 'D:\\\\Drohnendaten\\\\10_WZE-UAV\\\\Auswertung_findatree\\\\Datasplit\\\\ROI\\\\rgb-nir\\\\2020\\\\tnr9980_rois.hdf5',\n",
       " 'D:\\\\Drohnendaten\\\\10_WZE-UAV\\\\Auswertung_findatree\\\\Datasplit\\\\ROI\\\\rgb-nir\\\\2020\\\\tnr9984_rois.hdf5',\n",
       " 'D:\\\\Drohnendaten\\\\10_WZE-UAV\\\\Auswertung_findatree\\\\Datasplit\\\\ROI\\\\rgb-nir\\\\2020\\\\tnr9986_rois.hdf5',\n",
       " 'D:\\\\Drohnendaten\\\\10_WZE-UAV\\\\Auswertung_findatree\\\\Datasplit\\\\ROI\\\\rgb-nir\\\\2020\\\\tnr9988_rois.hdf5',\n",
       " 'D:\\\\Drohnendaten\\\\10_WZE-UAV\\\\Auswertung_findatree\\\\Datasplit\\\\ROI\\\\rgb-nir\\\\2020\\\\tnr9996_rois.hdf5',\n",
       " 'D:\\\\Drohnendaten\\\\10_WZE-UAV\\\\Auswertung_findatree\\\\Datasplit\\\\ROI\\\\rgb-nir\\\\2021\\\\tnr10527_rois.hdf5',\n",
       " 'D:\\\\Drohnendaten\\\\10_WZE-UAV\\\\Auswertung_findatree\\\\Datasplit\\\\ROI\\\\rgb-nir\\\\2021\\\\tnr10533_rois.hdf5',\n",
       " 'D:\\\\Drohnendaten\\\\10_WZE-UAV\\\\Auswertung_findatree\\\\Datasplit\\\\ROI\\\\rgb-nir\\\\2021\\\\tnr10545_rois.hdf5',\n",
       " 'D:\\\\Drohnendaten\\\\10_WZE-UAV\\\\Auswertung_findatree\\\\Datasplit\\\\ROI\\\\rgb-nir\\\\2021\\\\tnr10547_rois.hdf5',\n",
       " 'D:\\\\Drohnendaten\\\\10_WZE-UAV\\\\Auswertung_findatree\\\\Datasplit\\\\ROI\\\\rgb-nir\\\\2021\\\\tnr10912_rois.hdf5',\n",
       " 'D:\\\\Drohnendaten\\\\10_WZE-UAV\\\\Auswertung_findatree\\\\Datasplit\\\\ROI\\\\rgb-nir\\\\2021\\\\tnr11032_rois.hdf5',\n",
       " 'D:\\\\Drohnendaten\\\\10_WZE-UAV\\\\Auswertung_findatree\\\\Datasplit\\\\ROI\\\\rgb-nir\\\\2021\\\\tnr11040_rois.hdf5',\n",
       " 'D:\\\\Drohnendaten\\\\10_WZE-UAV\\\\Auswertung_findatree\\\\Datasplit\\\\ROI\\\\rgb-nir\\\\2021\\\\tnr11044_rois.hdf5',\n",
       " 'D:\\\\Drohnendaten\\\\10_WZE-UAV\\\\Auswertung_findatree\\\\Datasplit\\\\ROI\\\\rgb-nir\\\\2021\\\\tnr11048_rois.hdf5',\n",
       " 'D:\\\\Drohnendaten\\\\10_WZE-UAV\\\\Auswertung_findatree\\\\Datasplit\\\\ROI\\\\rgb-nir\\\\2021\\\\tnr11052_rois.hdf5',\n",
       " 'D:\\\\Drohnendaten\\\\10_WZE-UAV\\\\Auswertung_findatree\\\\Datasplit\\\\ROI\\\\rgb-nir\\\\2021\\\\tnr11056_rois.hdf5',\n",
       " 'D:\\\\Drohnendaten\\\\10_WZE-UAV\\\\Auswertung_findatree\\\\Datasplit\\\\ROI\\\\rgb-nir\\\\2021\\\\tnr11078_rois.hdf5',\n",
       " 'D:\\\\Drohnendaten\\\\10_WZE-UAV\\\\Auswertung_findatree\\\\Datasplit\\\\ROI\\\\rgb-nir\\\\2021\\\\tnr11080_rois.hdf5',\n",
       " 'D:\\\\Drohnendaten\\\\10_WZE-UAV\\\\Auswertung_findatree\\\\Datasplit\\\\ROI\\\\rgb-nir\\\\2021\\\\tnr11090_rois.hdf5',\n",
       " 'D:\\\\Drohnendaten\\\\10_WZE-UAV\\\\Auswertung_findatree\\\\Datasplit\\\\ROI\\\\rgb-nir\\\\2021\\\\tnr11092_rois.hdf5',\n",
       " 'D:\\\\Drohnendaten\\\\10_WZE-UAV\\\\Auswertung_findatree\\\\Datasplit\\\\ROI\\\\rgb-nir\\\\2021\\\\tnr11179_rois.hdf5',\n",
       " 'D:\\\\Drohnendaten\\\\10_WZE-UAV\\\\Auswertung_findatree\\\\Datasplit\\\\ROI\\\\rgb-nir\\\\2021\\\\tnr11189_rois.hdf5',\n",
       " 'D:\\\\Drohnendaten\\\\10_WZE-UAV\\\\Auswertung_findatree\\\\Datasplit\\\\ROI\\\\rgb-nir\\\\2021\\\\tnr11325_rois.hdf5',\n",
       " 'D:\\\\Drohnendaten\\\\10_WZE-UAV\\\\Auswertung_findatree\\\\Datasplit\\\\ROI\\\\rgb-nir\\\\2021\\\\tnr11327_rois.hdf5',\n",
       " 'D:\\\\Drohnendaten\\\\10_WZE-UAV\\\\Auswertung_findatree\\\\Datasplit\\\\ROI\\\\rgb-nir\\\\2021\\\\tnr11453_rois.hdf5',\n",
       " 'D:\\\\Drohnendaten\\\\10_WZE-UAV\\\\Auswertung_findatree\\\\Datasplit\\\\ROI\\\\rgb-nir\\\\2021\\\\tnr11459_rois.hdf5',\n",
       " 'D:\\\\Drohnendaten\\\\10_WZE-UAV\\\\Auswertung_findatree\\\\Datasplit\\\\ROI\\\\rgb-nir\\\\2021\\\\tnr11576_rois.hdf5',\n",
       " 'D:\\\\Drohnendaten\\\\10_WZE-UAV\\\\Auswertung_findatree\\\\Datasplit\\\\ROI\\\\rgb-nir\\\\2021\\\\tnr11581_rois.hdf5',\n",
       " 'D:\\\\Drohnendaten\\\\10_WZE-UAV\\\\Auswertung_findatree\\\\Datasplit\\\\ROI\\\\rgb-nir\\\\2021\\\\tnr11597_rois.hdf5',\n",
       " 'D:\\\\Drohnendaten\\\\10_WZE-UAV\\\\Auswertung_findatree\\\\Datasplit\\\\ROI\\\\rgb-nir\\\\2021\\\\tnr11601_rois.hdf5',\n",
       " 'D:\\\\Drohnendaten\\\\10_WZE-UAV\\\\Auswertung_findatree\\\\Datasplit\\\\ROI\\\\rgb-nir\\\\2021\\\\tnr11626_rois.hdf5',\n",
       " 'D:\\\\Drohnendaten\\\\10_WZE-UAV\\\\Auswertung_findatree\\\\Datasplit\\\\ROI\\\\rgb-nir\\\\2021\\\\tnr11638_rois.hdf5',\n",
       " 'D:\\\\Drohnendaten\\\\10_WZE-UAV\\\\Auswertung_findatree\\\\Datasplit\\\\ROI\\\\rgb-nir\\\\2021\\\\tnr11640_rois.hdf5',\n",
       " 'D:\\\\Drohnendaten\\\\10_WZE-UAV\\\\Auswertung_findatree\\\\Datasplit\\\\ROI\\\\rgb-nir\\\\2021\\\\tnr11727_rois.hdf5',\n",
       " 'D:\\\\Drohnendaten\\\\10_WZE-UAV\\\\Auswertung_findatree\\\\Datasplit\\\\ROI\\\\rgb-nir\\\\2021\\\\tnr11733_rois.hdf5',\n",
       " 'D:\\\\Drohnendaten\\\\10_WZE-UAV\\\\Auswertung_findatree\\\\Datasplit\\\\ROI\\\\rgb-nir\\\\2021\\\\tnr11866_rois.hdf5',\n",
       " 'D:\\\\Drohnendaten\\\\10_WZE-UAV\\\\Auswertung_findatree\\\\Datasplit\\\\ROI\\\\rgb-nir\\\\2021\\\\tnr11874_rois.hdf5',\n",
       " 'D:\\\\Drohnendaten\\\\10_WZE-UAV\\\\Auswertung_findatree\\\\Datasplit\\\\ROI\\\\rgb-nir\\\\2021\\\\tnr11878_rois.hdf5',\n",
       " 'D:\\\\Drohnendaten\\\\10_WZE-UAV\\\\Auswertung_findatree\\\\Datasplit\\\\ROI\\\\rgb-nir\\\\2021\\\\tnr12013_rois.hdf5',\n",
       " 'D:\\\\Drohnendaten\\\\10_WZE-UAV\\\\Auswertung_findatree\\\\Datasplit\\\\ROI\\\\rgb-nir\\\\2021\\\\tnr12019_rois.hdf5',\n",
       " 'D:\\\\Drohnendaten\\\\10_WZE-UAV\\\\Auswertung_findatree\\\\Datasplit\\\\ROI\\\\rgb-nir\\\\2021\\\\tnr12120_rois.hdf5',\n",
       " 'D:\\\\Drohnendaten\\\\10_WZE-UAV\\\\Auswertung_findatree\\\\Datasplit\\\\ROI\\\\rgb-nir\\\\2021\\\\tnr12124_rois.hdf5',\n",
       " 'D:\\\\Drohnendaten\\\\10_WZE-UAV\\\\Auswertung_findatree\\\\Datasplit\\\\ROI\\\\rgb-nir\\\\2021\\\\tnr12153_rois.hdf5',\n",
       " 'D:\\\\Drohnendaten\\\\10_WZE-UAV\\\\Auswertung_findatree\\\\Datasplit\\\\ROI\\\\rgb-nir\\\\2021\\\\tnr12161_rois.hdf5',\n",
       " 'D:\\\\Drohnendaten\\\\10_WZE-UAV\\\\Auswertung_findatree\\\\Datasplit\\\\ROI\\\\rgb-nir\\\\2021\\\\tnr12169_rois.hdf5',\n",
       " 'D:\\\\Drohnendaten\\\\10_WZE-UAV\\\\Auswertung_findatree\\\\Datasplit\\\\ROI\\\\rgb-nir\\\\2021\\\\tnr12179_rois.hdf5',\n",
       " 'D:\\\\Drohnendaten\\\\10_WZE-UAV\\\\Auswertung_findatree\\\\Datasplit\\\\ROI\\\\rgb-nir\\\\2021\\\\tnr12285_rois.hdf5',\n",
       " 'D:\\\\Drohnendaten\\\\10_WZE-UAV\\\\Auswertung_findatree\\\\Datasplit\\\\ROI\\\\rgb-nir\\\\2021\\\\tnr12426_rois.hdf5',\n",
       " 'D:\\\\Drohnendaten\\\\10_WZE-UAV\\\\Auswertung_findatree\\\\Datasplit\\\\ROI\\\\rgb-nir\\\\2021\\\\tnr12549_rois.hdf5',\n",
       " 'D:\\\\Drohnendaten\\\\10_WZE-UAV\\\\Auswertung_findatree\\\\Datasplit\\\\ROI\\\\rgb-nir\\\\2021\\\\tnr12553_rois.hdf5',\n",
       " 'D:\\\\Drohnendaten\\\\10_WZE-UAV\\\\Auswertung_findatree\\\\Datasplit\\\\ROI\\\\rgb-nir\\\\2021\\\\tnr12557_rois.hdf5',\n",
       " 'D:\\\\Drohnendaten\\\\10_WZE-UAV\\\\Auswertung_findatree\\\\Datasplit\\\\ROI\\\\rgb-nir\\\\2021\\\\tnr12673_rois.hdf5',\n",
       " 'D:\\\\Drohnendaten\\\\10_WZE-UAV\\\\Auswertung_findatree\\\\Datasplit\\\\ROI\\\\rgb-nir\\\\2021\\\\tnr12678_rois.hdf5',\n",
       " 'D:\\\\Drohnendaten\\\\10_WZE-UAV\\\\Auswertung_findatree\\\\Datasplit\\\\ROI\\\\rgb-nir\\\\2021\\\\tnr12694_rois.hdf5',\n",
       " 'D:\\\\Drohnendaten\\\\10_WZE-UAV\\\\Auswertung_findatree\\\\Datasplit\\\\ROI\\\\rgb-nir\\\\2021\\\\tnr12698_rois.hdf5',\n",
       " 'D:\\\\Drohnendaten\\\\10_WZE-UAV\\\\Auswertung_findatree\\\\Datasplit\\\\ROI\\\\rgb-nir\\\\2021\\\\tnr12702_rois.hdf5',\n",
       " 'D:\\\\Drohnendaten\\\\10_WZE-UAV\\\\Auswertung_findatree\\\\Datasplit\\\\ROI\\\\rgb-nir\\\\2021\\\\tnr12711_rois.hdf5',\n",
       " 'D:\\\\Drohnendaten\\\\10_WZE-UAV\\\\Auswertung_findatree\\\\Datasplit\\\\ROI\\\\rgb-nir\\\\2021\\\\tnr12713_rois.hdf5',\n",
       " 'D:\\\\Drohnendaten\\\\10_WZE-UAV\\\\Auswertung_findatree\\\\Datasplit\\\\ROI\\\\rgb-nir\\\\2021\\\\tnr12715_rois.hdf5',\n",
       " 'D:\\\\Drohnendaten\\\\10_WZE-UAV\\\\Auswertung_findatree\\\\Datasplit\\\\ROI\\\\rgb-nir\\\\2021\\\\tnr12717_rois.hdf5',\n",
       " 'D:\\\\Drohnendaten\\\\10_WZE-UAV\\\\Auswertung_findatree\\\\Datasplit\\\\ROI\\\\rgb-nir\\\\2021\\\\tnr12719_rois.hdf5',\n",
       " 'D:\\\\Drohnendaten\\\\10_WZE-UAV\\\\Auswertung_findatree\\\\Datasplit\\\\ROI\\\\rgb-nir\\\\2021\\\\tnr12950_rois.hdf5',\n",
       " 'D:\\\\Drohnendaten\\\\10_WZE-UAV\\\\Auswertung_findatree\\\\Datasplit\\\\ROI\\\\rgb-nir\\\\2021\\\\tnr12960_rois.hdf5',\n",
       " 'D:\\\\Drohnendaten\\\\10_WZE-UAV\\\\Auswertung_findatree\\\\Datasplit\\\\ROI\\\\rgb-nir\\\\2021\\\\tnr13212_rois.hdf5',\n",
       " 'D:\\\\Drohnendaten\\\\10_WZE-UAV\\\\Auswertung_findatree\\\\Datasplit\\\\ROI\\\\rgb-nir\\\\2021\\\\tnr13225_rois.hdf5',\n",
       " 'D:\\\\Drohnendaten\\\\10_WZE-UAV\\\\Auswertung_findatree\\\\Datasplit\\\\ROI\\\\rgb-nir\\\\2021\\\\tnr13233_rois.hdf5',\n",
       " 'D:\\\\Drohnendaten\\\\10_WZE-UAV\\\\Auswertung_findatree\\\\Datasplit\\\\ROI\\\\rgb-nir\\\\2021\\\\tnr13259_rois.hdf5',\n",
       " 'D:\\\\Drohnendaten\\\\10_WZE-UAV\\\\Auswertung_findatree\\\\Datasplit\\\\ROI\\\\rgb-nir\\\\2021\\\\tnr13508_rois.hdf5',\n",
       " 'D:\\\\Drohnendaten\\\\10_WZE-UAV\\\\Auswertung_findatree\\\\Datasplit\\\\ROI\\\\rgb-nir\\\\2021\\\\tnr13758_rois.hdf5',\n",
       " 'D:\\\\Drohnendaten\\\\10_WZE-UAV\\\\Auswertung_findatree\\\\Datasplit\\\\ROI\\\\rgb-nir\\\\2021\\\\tnr13766_rois.hdf5',\n",
       " 'D:\\\\Drohnendaten\\\\10_WZE-UAV\\\\Auswertung_findatree\\\\Datasplit\\\\ROI\\\\rgb-nir\\\\2021\\\\tnr13779_rois.hdf5',\n",
       " 'D:\\\\Drohnendaten\\\\10_WZE-UAV\\\\Auswertung_findatree\\\\Datasplit\\\\ROI\\\\rgb-nir\\\\2021\\\\tnr13819_rois.hdf5',\n",
       " 'D:\\\\Drohnendaten\\\\10_WZE-UAV\\\\Auswertung_findatree\\\\Datasplit\\\\ROI\\\\rgb-nir\\\\2021\\\\tnr13825_rois.hdf5',\n",
       " 'D:\\\\Drohnendaten\\\\10_WZE-UAV\\\\Auswertung_findatree\\\\Datasplit\\\\ROI\\\\rgb-nir\\\\2021\\\\tnr13898_rois.hdf5',\n",
       " 'D:\\\\Drohnendaten\\\\10_WZE-UAV\\\\Auswertung_findatree\\\\Datasplit\\\\ROI\\\\rgb-nir\\\\2021\\\\tnr13922_rois.hdf5',\n",
       " 'D:\\\\Drohnendaten\\\\10_WZE-UAV\\\\Auswertung_findatree\\\\Datasplit\\\\ROI\\\\rgb-nir\\\\2021\\\\tnr14156_rois.hdf5',\n",
       " 'D:\\\\Drohnendaten\\\\10_WZE-UAV\\\\Auswertung_findatree\\\\Datasplit\\\\ROI\\\\rgb-nir\\\\2021\\\\tnr14293_rois.hdf5',\n",
       " 'D:\\\\Drohnendaten\\\\10_WZE-UAV\\\\Auswertung_findatree\\\\Datasplit\\\\ROI\\\\rgb-nir\\\\2021\\\\tnr14327_rois.hdf5',\n",
       " 'D:\\\\Drohnendaten\\\\10_WZE-UAV\\\\Auswertung_findatree\\\\Datasplit\\\\ROI\\\\rgb-nir\\\\2021\\\\tnr14666_rois.hdf5',\n",
       " 'D:\\\\Drohnendaten\\\\10_WZE-UAV\\\\Auswertung_findatree\\\\Datasplit\\\\ROI\\\\rgb-nir\\\\2021\\\\tnr14723_rois.hdf5',\n",
       " 'D:\\\\Drohnendaten\\\\10_WZE-UAV\\\\Auswertung_findatree\\\\Datasplit\\\\ROI\\\\rgb-nir\\\\2021\\\\tnr14727_rois.hdf5',\n",
       " 'D:\\\\Drohnendaten\\\\10_WZE-UAV\\\\Auswertung_findatree\\\\Datasplit\\\\ROI\\\\rgb-nir\\\\2021\\\\tnr14732_rois.hdf5',\n",
       " 'D:\\\\Drohnendaten\\\\10_WZE-UAV\\\\Auswertung_findatree\\\\Datasplit\\\\ROI\\\\rgb-nir\\\\2021\\\\tnr14781_rois.hdf5',\n",
       " 'D:\\\\Drohnendaten\\\\10_WZE-UAV\\\\Auswertung_findatree\\\\Datasplit\\\\ROI\\\\rgb-nir\\\\2021\\\\tnr14877_rois.hdf5',\n",
       " 'D:\\\\Drohnendaten\\\\10_WZE-UAV\\\\Auswertung_findatree\\\\Datasplit\\\\ROI\\\\rgb-nir\\\\2021\\\\tnr14879_rois.hdf5',\n",
       " 'D:\\\\Drohnendaten\\\\10_WZE-UAV\\\\Auswertung_findatree\\\\Datasplit\\\\ROI\\\\rgb-nir\\\\2021\\\\tnr14887_rois.hdf5',\n",
       " 'D:\\\\Drohnendaten\\\\10_WZE-UAV\\\\Auswertung_findatree\\\\Datasplit\\\\ROI\\\\rgb-nir\\\\2021\\\\tnr15016_rois.hdf5',\n",
       " 'D:\\\\Drohnendaten\\\\10_WZE-UAV\\\\Auswertung_findatree\\\\Datasplit\\\\ROI\\\\rgb-nir\\\\2021\\\\tnr15020_rois.hdf5',\n",
       " 'D:\\\\Drohnendaten\\\\10_WZE-UAV\\\\Auswertung_findatree\\\\Datasplit\\\\ROI\\\\rgb-nir\\\\2021\\\\tnr15027_rois.hdf5',\n",
       " 'D:\\\\Drohnendaten\\\\10_WZE-UAV\\\\Auswertung_findatree\\\\Datasplit\\\\ROI\\\\rgb-nir\\\\2021\\\\tnr15031_rois.hdf5',\n",
       " 'D:\\\\Drohnendaten\\\\10_WZE-UAV\\\\Auswertung_findatree\\\\Datasplit\\\\ROI\\\\rgb-nir\\\\2021\\\\tnr15035_rois.hdf5',\n",
       " 'D:\\\\Drohnendaten\\\\10_WZE-UAV\\\\Auswertung_findatree\\\\Datasplit\\\\ROI\\\\rgb-nir\\\\2021\\\\tnr15039_rois.hdf5',\n",
       " 'D:\\\\Drohnendaten\\\\10_WZE-UAV\\\\Auswertung_findatree\\\\Datasplit\\\\ROI\\\\rgb-nir\\\\2021\\\\tnr15043_rois.hdf5',\n",
       " 'D:\\\\Drohnendaten\\\\10_WZE-UAV\\\\Auswertung_findatree\\\\Datasplit\\\\ROI\\\\rgb-nir\\\\2021\\\\tnr15046_rois.hdf5',\n",
       " 'D:\\\\Drohnendaten\\\\10_WZE-UAV\\\\Auswertung_findatree\\\\Datasplit\\\\ROI\\\\rgb-nir\\\\2021\\\\tnr15050_rois.hdf5',\n",
       " 'D:\\\\Drohnendaten\\\\10_WZE-UAV\\\\Auswertung_findatree\\\\Datasplit\\\\ROI\\\\rgb-nir\\\\2021\\\\tnr15101_rois.hdf5',\n",
       " 'D:\\\\Drohnendaten\\\\10_WZE-UAV\\\\Auswertung_findatree\\\\Datasplit\\\\ROI\\\\rgb-nir\\\\2021\\\\tnr15273_rois.hdf5',\n",
       " 'D:\\\\Drohnendaten\\\\10_WZE-UAV\\\\Auswertung_findatree\\\\Datasplit\\\\ROI\\\\rgb-nir\\\\2021\\\\tnr15277_rois.hdf5',\n",
       " 'D:\\\\Drohnendaten\\\\10_WZE-UAV\\\\Auswertung_findatree\\\\Datasplit\\\\ROI\\\\rgb-nir\\\\2021\\\\tnr15297_rois.hdf5',\n",
       " 'D:\\\\Drohnendaten\\\\10_WZE-UAV\\\\Auswertung_findatree\\\\Datasplit\\\\ROI\\\\rgb-nir\\\\2021\\\\tnr15299_rois.hdf5',\n",
       " 'D:\\\\Drohnendaten\\\\10_WZE-UAV\\\\Auswertung_findatree\\\\Datasplit\\\\ROI\\\\rgb-nir\\\\2021\\\\tnr15301_rois.hdf5',\n",
       " 'D:\\\\Drohnendaten\\\\10_WZE-UAV\\\\Auswertung_findatree\\\\Datasplit\\\\ROI\\\\rgb-nir\\\\2021\\\\tnr15303_rois.hdf5',\n",
       " 'D:\\\\Drohnendaten\\\\10_WZE-UAV\\\\Auswertung_findatree\\\\Datasplit\\\\ROI\\\\rgb-nir\\\\2021\\\\tnr15306_rois.hdf5',\n",
       " 'D:\\\\Drohnendaten\\\\10_WZE-UAV\\\\Auswertung_findatree\\\\Datasplit\\\\ROI\\\\rgb-nir\\\\2021\\\\tnr15311_rois.hdf5',\n",
       " 'D:\\\\Drohnendaten\\\\10_WZE-UAV\\\\Auswertung_findatree\\\\Datasplit\\\\ROI\\\\rgb-nir\\\\2021\\\\tnr15313_rois.hdf5',\n",
       " 'D:\\\\Drohnendaten\\\\10_WZE-UAV\\\\Auswertung_findatree\\\\Datasplit\\\\ROI\\\\rgb-nir\\\\2021\\\\tnr15319_rois.hdf5',\n",
       " 'D:\\\\Drohnendaten\\\\10_WZE-UAV\\\\Auswertung_findatree\\\\Datasplit\\\\ROI\\\\rgb-nir\\\\2021\\\\tnr15327_rois.hdf5',\n",
       " 'D:\\\\Drohnendaten\\\\10_WZE-UAV\\\\Auswertung_findatree\\\\Datasplit\\\\ROI\\\\rgb-nir\\\\2021\\\\tnr15519_rois.hdf5',\n",
       " 'D:\\\\Drohnendaten\\\\10_WZE-UAV\\\\Auswertung_findatree\\\\Datasplit\\\\ROI\\\\rgb-nir\\\\2021\\\\tnr15521_rois.hdf5',\n",
       " 'D:\\\\Drohnendaten\\\\10_WZE-UAV\\\\Auswertung_findatree\\\\Datasplit\\\\ROI\\\\rgb-nir\\\\2021\\\\tnr15531_rois.hdf5',\n",
       " 'D:\\\\Drohnendaten\\\\10_WZE-UAV\\\\Auswertung_findatree\\\\Datasplit\\\\ROI\\\\rgb-nir\\\\2021\\\\tnr15537_rois.hdf5',\n",
       " 'D:\\\\Drohnendaten\\\\10_WZE-UAV\\\\Auswertung_findatree\\\\Datasplit\\\\ROI\\\\rgb-nir\\\\2021\\\\tnr15730_rois.hdf5',\n",
       " 'D:\\\\Drohnendaten\\\\10_WZE-UAV\\\\Auswertung_findatree\\\\Datasplit\\\\ROI\\\\rgb-nir\\\\2021\\\\tnr15736_rois.hdf5',\n",
       " 'D:\\\\Drohnendaten\\\\10_WZE-UAV\\\\Auswertung_findatree\\\\Datasplit\\\\ROI\\\\rgb-nir\\\\2021\\\\tnr15746_rois.hdf5',\n",
       " 'D:\\\\Drohnendaten\\\\10_WZE-UAV\\\\Auswertung_findatree\\\\Datasplit\\\\ROI\\\\rgb-nir\\\\2021\\\\tnr15748_rois.hdf5',\n",
       " 'D:\\\\Drohnendaten\\\\10_WZE-UAV\\\\Auswertung_findatree\\\\Datasplit\\\\ROI\\\\rgb-nir\\\\2021\\\\tnr15780_rois.hdf5',\n",
       " 'D:\\\\Drohnendaten\\\\10_WZE-UAV\\\\Auswertung_findatree\\\\Datasplit\\\\ROI\\\\rgb-nir\\\\2021\\\\tnr15966_rois.hdf5',\n",
       " 'D:\\\\Drohnendaten\\\\10_WZE-UAV\\\\Auswertung_findatree\\\\Datasplit\\\\ROI\\\\rgb-nir\\\\2021\\\\tnr15974_rois.hdf5',\n",
       " 'D:\\\\Drohnendaten\\\\10_WZE-UAV\\\\Auswertung_findatree\\\\Datasplit\\\\ROI\\\\rgb-nir\\\\2021\\\\tnr15986_rois.hdf5',\n",
       " 'D:\\\\Drohnendaten\\\\10_WZE-UAV\\\\Auswertung_findatree\\\\Datasplit\\\\ROI\\\\rgb-nir\\\\2021\\\\tnr15988_rois.hdf5',\n",
       " 'D:\\\\Drohnendaten\\\\10_WZE-UAV\\\\Auswertung_findatree\\\\Datasplit\\\\ROI\\\\rgb-nir\\\\2021\\\\tnr15998_rois.hdf5',\n",
       " 'D:\\\\Drohnendaten\\\\10_WZE-UAV\\\\Auswertung_findatree\\\\Datasplit\\\\ROI\\\\rgb-nir\\\\2021\\\\tnr16173_rois.hdf5',\n",
       " 'D:\\\\Drohnendaten\\\\10_WZE-UAV\\\\Auswertung_findatree\\\\Datasplit\\\\ROI\\\\rgb-nir\\\\2021\\\\tnr16177_rois.hdf5',\n",
       " 'D:\\\\Drohnendaten\\\\10_WZE-UAV\\\\Auswertung_findatree\\\\Datasplit\\\\ROI\\\\rgb-nir\\\\2021\\\\tnr16181_rois.hdf5',\n",
       " 'D:\\\\Drohnendaten\\\\10_WZE-UAV\\\\Auswertung_findatree\\\\Datasplit\\\\ROI\\\\rgb-nir\\\\2021\\\\tnr16197_rois.hdf5',\n",
       " 'D:\\\\Drohnendaten\\\\10_WZE-UAV\\\\Auswertung_findatree\\\\Datasplit\\\\ROI\\\\rgb-nir\\\\2021\\\\tnr16201_rois.hdf5',\n",
       " 'D:\\\\Drohnendaten\\\\10_WZE-UAV\\\\Auswertung_findatree\\\\Datasplit\\\\ROI\\\\rgb-nir\\\\2021\\\\tnr16205_rois.hdf5',\n",
       " 'D:\\\\Drohnendaten\\\\10_WZE-UAV\\\\Auswertung_findatree\\\\Datasplit\\\\ROI\\\\rgb-nir\\\\2021\\\\tnr16211_rois.hdf5',\n",
       " 'D:\\\\Drohnendaten\\\\10_WZE-UAV\\\\Auswertung_findatree\\\\Datasplit\\\\ROI\\\\rgb-nir\\\\2021\\\\tnr16223_rois.hdf5',\n",
       " 'D:\\\\Drohnendaten\\\\10_WZE-UAV\\\\Auswertung_findatree\\\\Datasplit\\\\ROI\\\\rgb-nir\\\\2021\\\\tnr16227_rois.hdf5',\n",
       " 'D:\\\\Drohnendaten\\\\10_WZE-UAV\\\\Auswertung_findatree\\\\Datasplit\\\\ROI\\\\rgb-nir\\\\2021\\\\tnr16400_rois.hdf5',\n",
       " 'D:\\\\Drohnendaten\\\\10_WZE-UAV\\\\Auswertung_findatree\\\\Datasplit\\\\ROI\\\\rgb-nir\\\\2021\\\\tnr16404_rois.hdf5',\n",
       " 'D:\\\\Drohnendaten\\\\10_WZE-UAV\\\\Auswertung_findatree\\\\Datasplit\\\\ROI\\\\rgb-nir\\\\2021\\\\tnr16412_rois.hdf5',\n",
       " 'D:\\\\Drohnendaten\\\\10_WZE-UAV\\\\Auswertung_findatree\\\\Datasplit\\\\ROI\\\\rgb-nir\\\\2021\\\\tnr16422_rois.hdf5',\n",
       " 'D:\\\\Drohnendaten\\\\10_WZE-UAV\\\\Auswertung_findatree\\\\Datasplit\\\\ROI\\\\rgb-nir\\\\2021\\\\tnr16426_rois.hdf5',\n",
       " 'D:\\\\Drohnendaten\\\\10_WZE-UAV\\\\Auswertung_findatree\\\\Datasplit\\\\ROI\\\\rgb-nir\\\\2021\\\\tnr16624_rois.hdf5',\n",
       " 'D:\\\\Drohnendaten\\\\10_WZE-UAV\\\\Auswertung_findatree\\\\Datasplit\\\\ROI\\\\rgb-nir\\\\2021\\\\tnr16632_rois.hdf5',\n",
       " 'D:\\\\Drohnendaten\\\\10_WZE-UAV\\\\Auswertung_findatree\\\\Datasplit\\\\ROI\\\\rgb-nir\\\\2021\\\\tnr16636_rois.hdf5',\n",
       " 'D:\\\\Drohnendaten\\\\10_WZE-UAV\\\\Auswertung_findatree\\\\Datasplit\\\\ROI\\\\rgb-nir\\\\2021\\\\tnr16639_rois.hdf5',\n",
       " 'D:\\\\Drohnendaten\\\\10_WZE-UAV\\\\Auswertung_findatree\\\\Datasplit\\\\ROI\\\\rgb-nir\\\\2021\\\\tnr16643_rois.hdf5',\n",
       " 'D:\\\\Drohnendaten\\\\10_WZE-UAV\\\\Auswertung_findatree\\\\Datasplit\\\\ROI\\\\rgb-nir\\\\2021\\\\tnr16645_rois.hdf5',\n",
       " 'D:\\\\Drohnendaten\\\\10_WZE-UAV\\\\Auswertung_findatree\\\\Datasplit\\\\ROI\\\\rgb-nir\\\\2021\\\\tnr16649_rois.hdf5',\n",
       " 'D:\\\\Drohnendaten\\\\10_WZE-UAV\\\\Auswertung_findatree\\\\Datasplit\\\\ROI\\\\rgb-nir\\\\2021\\\\tnr16657_rois.hdf5',\n",
       " 'D:\\\\Drohnendaten\\\\10_WZE-UAV\\\\Auswertung_findatree\\\\Datasplit\\\\ROI\\\\rgb-nir\\\\2021\\\\tnr16829_rois.hdf5',\n",
       " 'D:\\\\Drohnendaten\\\\10_WZE-UAV\\\\Auswertung_findatree\\\\Datasplit\\\\ROI\\\\rgb-nir\\\\2021\\\\tnr16833_rois.hdf5',\n",
       " 'D:\\\\Drohnendaten\\\\10_WZE-UAV\\\\Auswertung_findatree\\\\Datasplit\\\\ROI\\\\rgb-nir\\\\2021\\\\tnr16838_rois.hdf5',\n",
       " 'D:\\\\Drohnendaten\\\\10_WZE-UAV\\\\Auswertung_findatree\\\\Datasplit\\\\ROI\\\\rgb-nir\\\\2021\\\\tnr17019_rois.hdf5',\n",
       " 'D:\\\\Drohnendaten\\\\10_WZE-UAV\\\\Auswertung_findatree\\\\Datasplit\\\\ROI\\\\rgb-nir\\\\2021\\\\tnr17032_rois.hdf5',\n",
       " 'D:\\\\Drohnendaten\\\\10_WZE-UAV\\\\Auswertung_findatree\\\\Datasplit\\\\ROI\\\\rgb-nir\\\\2021\\\\tnr17034_rois.hdf5',\n",
       " 'D:\\\\Drohnendaten\\\\10_WZE-UAV\\\\Auswertung_findatree\\\\Datasplit\\\\ROI\\\\rgb-nir\\\\2021\\\\tnr17042_rois.hdf5',\n",
       " 'D:\\\\Drohnendaten\\\\10_WZE-UAV\\\\Auswertung_findatree\\\\Datasplit\\\\ROI\\\\rgb-nir\\\\2021\\\\tnr17339_rois.hdf5',\n",
       " 'D:\\\\Drohnendaten\\\\10_WZE-UAV\\\\Auswertung_findatree\\\\Datasplit\\\\ROI\\\\rgb-nir\\\\2021\\\\tnr182_rois.hdf5',\n",
       " 'D:\\\\Drohnendaten\\\\10_WZE-UAV\\\\Auswertung_findatree\\\\Datasplit\\\\ROI\\\\rgb-nir\\\\2021\\\\tnr185_rois.hdf5',\n",
       " 'D:\\\\Drohnendaten\\\\10_WZE-UAV\\\\Auswertung_findatree\\\\Datasplit\\\\ROI\\\\rgb-nir\\\\2021\\\\tnr188_rois.hdf5',\n",
       " 'D:\\\\Drohnendaten\\\\10_WZE-UAV\\\\Auswertung_findatree\\\\Datasplit\\\\ROI\\\\rgb-nir\\\\2021\\\\tnr1898_rois.hdf5',\n",
       " 'D:\\\\Drohnendaten\\\\10_WZE-UAV\\\\Auswertung_findatree\\\\Datasplit\\\\ROI\\\\rgb-nir\\\\2021\\\\tnr192_rois.hdf5',\n",
       " 'D:\\\\Drohnendaten\\\\10_WZE-UAV\\\\Auswertung_findatree\\\\Datasplit\\\\ROI\\\\rgb-nir\\\\2021\\\\tnr194_rois.hdf5',\n",
       " 'D:\\\\Drohnendaten\\\\10_WZE-UAV\\\\Auswertung_findatree\\\\Datasplit\\\\ROI\\\\rgb-nir\\\\2021\\\\tnr196_rois.hdf5',\n",
       " 'D:\\\\Drohnendaten\\\\10_WZE-UAV\\\\Auswertung_findatree\\\\Datasplit\\\\ROI\\\\rgb-nir\\\\2021\\\\tnr200_rois.hdf5',\n",
       " 'D:\\\\Drohnendaten\\\\10_WZE-UAV\\\\Auswertung_findatree\\\\Datasplit\\\\ROI\\\\rgb-nir\\\\2021\\\\tnr2386_rois.hdf5',\n",
       " 'D:\\\\Drohnendaten\\\\10_WZE-UAV\\\\Auswertung_findatree\\\\Datasplit\\\\ROI\\\\rgb-nir\\\\2021\\\\tnr2399_rois.hdf5',\n",
       " 'D:\\\\Drohnendaten\\\\10_WZE-UAV\\\\Auswertung_findatree\\\\Datasplit\\\\ROI\\\\rgb-nir\\\\2021\\\\tnr2411_rois.hdf5',\n",
       " 'D:\\\\Drohnendaten\\\\10_WZE-UAV\\\\Auswertung_findatree\\\\Datasplit\\\\ROI\\\\rgb-nir\\\\2021\\\\tnr2413_rois.hdf5',\n",
       " 'D:\\\\Drohnendaten\\\\10_WZE-UAV\\\\Auswertung_findatree\\\\Datasplit\\\\ROI\\\\rgb-nir\\\\2021\\\\tnr3398_rois.hdf5',\n",
       " 'D:\\\\Drohnendaten\\\\10_WZE-UAV\\\\Auswertung_findatree\\\\Datasplit\\\\ROI\\\\rgb-nir\\\\2021\\\\tnr3418_rois.hdf5',\n",
       " 'D:\\\\Drohnendaten\\\\10_WZE-UAV\\\\Auswertung_findatree\\\\Datasplit\\\\ROI\\\\rgb-nir\\\\2021\\\\tnr3430_rois.hdf5',\n",
       " 'D:\\\\Drohnendaten\\\\10_WZE-UAV\\\\Auswertung_findatree\\\\Datasplit\\\\ROI\\\\rgb-nir\\\\2021\\\\tnr3930_rois.hdf5',\n",
       " 'D:\\\\Drohnendaten\\\\10_WZE-UAV\\\\Auswertung_findatree\\\\Datasplit\\\\ROI\\\\rgb-nir\\\\2021\\\\tnr4396_rois.hdf5',\n",
       " 'D:\\\\Drohnendaten\\\\10_WZE-UAV\\\\Auswertung_findatree\\\\Datasplit\\\\ROI\\\\rgb-nir\\\\2021\\\\tnr4412_rois.hdf5',\n",
       " 'D:\\\\Drohnendaten\\\\10_WZE-UAV\\\\Auswertung_findatree\\\\Datasplit\\\\ROI\\\\rgb-nir\\\\2021\\\\tnr4436_rois.hdf5',\n",
       " 'D:\\\\Drohnendaten\\\\10_WZE-UAV\\\\Auswertung_findatree\\\\Datasplit\\\\ROI\\\\rgb-nir\\\\2021\\\\tnr4444_rois.hdf5',\n",
       " 'D:\\\\Drohnendaten\\\\10_WZE-UAV\\\\Auswertung_findatree\\\\Datasplit\\\\ROI\\\\rgb-nir\\\\2021\\\\tnr477_rois.hdf5',\n",
       " 'D:\\\\Drohnendaten\\\\10_WZE-UAV\\\\Auswertung_findatree\\\\Datasplit\\\\ROI\\\\rgb-nir\\\\2021\\\\tnr485_rois.hdf5',\n",
       " 'D:\\\\Drohnendaten\\\\10_WZE-UAV\\\\Auswertung_findatree\\\\Datasplit\\\\ROI\\\\rgb-nir\\\\2021\\\\tnr5449_rois.hdf5',\n",
       " 'D:\\\\Drohnendaten\\\\10_WZE-UAV\\\\Auswertung_findatree\\\\Datasplit\\\\ROI\\\\rgb-nir\\\\2021\\\\tnr5930_rois.hdf5',\n",
       " 'D:\\\\Drohnendaten\\\\10_WZE-UAV\\\\Auswertung_findatree\\\\Datasplit\\\\ROI\\\\rgb-nir\\\\2021\\\\tnr5946_rois.hdf5',\n",
       " 'D:\\\\Drohnendaten\\\\10_WZE-UAV\\\\Auswertung_findatree\\\\Datasplit\\\\ROI\\\\rgb-nir\\\\2021\\\\tnr6430_rois.hdf5',\n",
       " 'D:\\\\Drohnendaten\\\\10_WZE-UAV\\\\Auswertung_findatree\\\\Datasplit\\\\ROI\\\\rgb-nir\\\\2021\\\\tnr6462_rois.hdf5',\n",
       " 'D:\\\\Drohnendaten\\\\10_WZE-UAV\\\\Auswertung_findatree\\\\Datasplit\\\\ROI\\\\rgb-nir\\\\2021\\\\tnr6466_rois.hdf5',\n",
       " 'D:\\\\Drohnendaten\\\\10_WZE-UAV\\\\Auswertung_findatree\\\\Datasplit\\\\ROI\\\\rgb-nir\\\\2021\\\\tnr6468_rois.hdf5',\n",
       " 'D:\\\\Drohnendaten\\\\10_WZE-UAV\\\\Auswertung_findatree\\\\Datasplit\\\\ROI\\\\rgb-nir\\\\2021\\\\tnr6470_rois.hdf5',\n",
       " 'D:\\\\Drohnendaten\\\\10_WZE-UAV\\\\Auswertung_findatree\\\\Datasplit\\\\ROI\\\\rgb-nir\\\\2021\\\\tnr6474_rois.hdf5',\n",
       " 'D:\\\\Drohnendaten\\\\10_WZE-UAV\\\\Auswertung_findatree\\\\Datasplit\\\\ROI\\\\rgb-nir\\\\2021\\\\tnr6478_rois.hdf5',\n",
       " 'D:\\\\Drohnendaten\\\\10_WZE-UAV\\\\Auswertung_findatree\\\\Datasplit\\\\ROI\\\\rgb-nir\\\\2021\\\\tnr6969_rois.hdf5',\n",
       " 'D:\\\\Drohnendaten\\\\10_WZE-UAV\\\\Auswertung_findatree\\\\Datasplit\\\\ROI\\\\rgb-nir\\\\2021\\\\tnr6971_rois.hdf5',\n",
       " 'D:\\\\Drohnendaten\\\\10_WZE-UAV\\\\Auswertung_findatree\\\\Datasplit\\\\ROI\\\\rgb-nir\\\\2021\\\\tnr6977_rois.hdf5',\n",
       " 'D:\\\\Drohnendaten\\\\10_WZE-UAV\\\\Auswertung_findatree\\\\Datasplit\\\\ROI\\\\rgb-nir\\\\2021\\\\tnr7002_rois.hdf5',\n",
       " 'D:\\\\Drohnendaten\\\\10_WZE-UAV\\\\Auswertung_findatree\\\\Datasplit\\\\ROI\\\\rgb-nir\\\\2021\\\\tnr7475_rois.hdf5',\n",
       " 'D:\\\\Drohnendaten\\\\10_WZE-UAV\\\\Auswertung_findatree\\\\Datasplit\\\\ROI\\\\rgb-nir\\\\2021\\\\tnr7511_rois.hdf5',\n",
       " 'D:\\\\Drohnendaten\\\\10_WZE-UAV\\\\Auswertung_findatree\\\\Datasplit\\\\ROI\\\\rgb-nir\\\\2021\\\\tnr7517_rois.hdf5',\n",
       " 'D:\\\\Drohnendaten\\\\10_WZE-UAV\\\\Auswertung_findatree\\\\Datasplit\\\\ROI\\\\rgb-nir\\\\2021\\\\tnr7521_rois.hdf5',\n",
       " 'D:\\\\Drohnendaten\\\\10_WZE-UAV\\\\Auswertung_findatree\\\\Datasplit\\\\ROI\\\\rgb-nir\\\\2021\\\\tnr7525_rois.hdf5',\n",
       " 'D:\\\\Drohnendaten\\\\10_WZE-UAV\\\\Auswertung_findatree\\\\Datasplit\\\\ROI\\\\rgb-nir\\\\2021\\\\tnr8032_rois.hdf5',\n",
       " 'D:\\\\Drohnendaten\\\\10_WZE-UAV\\\\Auswertung_findatree\\\\Datasplit\\\\ROI\\\\rgb-nir\\\\2021\\\\tnr8040_rois.hdf5',\n",
       " 'D:\\\\Drohnendaten\\\\10_WZE-UAV\\\\Auswertung_findatree\\\\Datasplit\\\\ROI\\\\rgb-nir\\\\2021\\\\tnr8492_rois.hdf5',\n",
       " 'D:\\\\Drohnendaten\\\\10_WZE-UAV\\\\Auswertung_findatree\\\\Datasplit\\\\ROI\\\\rgb-nir\\\\2021\\\\tnr8494_rois.hdf5',\n",
       " 'D:\\\\Drohnendaten\\\\10_WZE-UAV\\\\Auswertung_findatree\\\\Datasplit\\\\ROI\\\\rgb-nir\\\\2021\\\\tnr8498_rois.hdf5',\n",
       " 'D:\\\\Drohnendaten\\\\10_WZE-UAV\\\\Auswertung_findatree\\\\Datasplit\\\\ROI\\\\rgb-nir\\\\2021\\\\tnr84_rois.hdf5',\n",
       " 'D:\\\\Drohnendaten\\\\10_WZE-UAV\\\\Auswertung_findatree\\\\Datasplit\\\\ROI\\\\rgb-nir\\\\2021\\\\tnr8532_rois.hdf5',\n",
       " 'D:\\\\Drohnendaten\\\\10_WZE-UAV\\\\Auswertung_findatree\\\\Datasplit\\\\ROI\\\\rgb-nir\\\\2021\\\\tnr86_rois.hdf5',\n",
       " 'D:\\\\Drohnendaten\\\\10_WZE-UAV\\\\Auswertung_findatree\\\\Datasplit\\\\ROI\\\\rgb-nir\\\\2021\\\\tnr8973_rois.hdf5',\n",
       " 'D:\\\\Drohnendaten\\\\10_WZE-UAV\\\\Auswertung_findatree\\\\Datasplit\\\\ROI\\\\rgb-nir\\\\2021\\\\tnr8979_rois.hdf5',\n",
       " 'D:\\\\Drohnendaten\\\\10_WZE-UAV\\\\Auswertung_findatree\\\\Datasplit\\\\ROI\\\\rgb-nir\\\\2021\\\\tnr8981_rois.hdf5',\n",
       " 'D:\\\\Drohnendaten\\\\10_WZE-UAV\\\\Auswertung_findatree\\\\Datasplit\\\\ROI\\\\rgb-nir\\\\2021\\\\tnr8989_rois.hdf5',\n",
       " 'D:\\\\Drohnendaten\\\\10_WZE-UAV\\\\Auswertung_findatree\\\\Datasplit\\\\ROI\\\\rgb-nir\\\\2021\\\\tnr9025_rois.hdf5',\n",
       " 'D:\\\\Drohnendaten\\\\10_WZE-UAV\\\\Auswertung_findatree\\\\Datasplit\\\\ROI\\\\rgb-nir\\\\2021\\\\tnr9464_rois.hdf5',\n",
       " 'D:\\\\Drohnendaten\\\\10_WZE-UAV\\\\Auswertung_findatree\\\\Datasplit\\\\ROI\\\\rgb-nir\\\\2021\\\\tnr9468_rois.hdf5',\n",
       " 'D:\\\\Drohnendaten\\\\10_WZE-UAV\\\\Auswertung_findatree\\\\Datasplit\\\\ROI\\\\rgb-nir\\\\2021\\\\tnr9472_rois.hdf5',\n",
       " 'D:\\\\Drohnendaten\\\\10_WZE-UAV\\\\Auswertung_findatree\\\\Datasplit\\\\ROI\\\\rgb-nir\\\\2021\\\\tnr9477_rois.hdf5',\n",
       " 'D:\\\\Drohnendaten\\\\10_WZE-UAV\\\\Auswertung_findatree\\\\Datasplit\\\\ROI\\\\rgb-nir\\\\2021\\\\tnr9479_rois.hdf5',\n",
       " 'D:\\\\Drohnendaten\\\\10_WZE-UAV\\\\Auswertung_findatree\\\\Datasplit\\\\ROI\\\\rgb-nir\\\\2021\\\\tnr9489_rois.hdf5',\n",
       " 'D:\\\\Drohnendaten\\\\10_WZE-UAV\\\\Auswertung_findatree\\\\Datasplit\\\\ROI\\\\rgb-nir\\\\2021\\\\tnr9493_rois.hdf5',\n",
       " 'D:\\\\Drohnendaten\\\\10_WZE-UAV\\\\Auswertung_findatree\\\\Datasplit\\\\ROI\\\\rgb-nir\\\\2021\\\\tnr9509_rois.hdf5',\n",
       " 'D:\\\\Drohnendaten\\\\10_WZE-UAV\\\\Auswertung_findatree\\\\Datasplit\\\\ROI\\\\rgb-nir\\\\2021\\\\tnr9515_rois.hdf5',\n",
       " 'D:\\\\Drohnendaten\\\\10_WZE-UAV\\\\Auswertung_findatree\\\\Datasplit\\\\ROI\\\\rgb-nir\\\\2021\\\\tnr9517_rois.hdf5',\n",
       " 'D:\\\\Drohnendaten\\\\10_WZE-UAV\\\\Auswertung_findatree\\\\Datasplit\\\\ROI\\\\rgb-nir\\\\2021\\\\tnr9948_rois.hdf5',\n",
       " 'D:\\\\Drohnendaten\\\\10_WZE-UAV\\\\Auswertung_findatree\\\\Datasplit\\\\ROI\\\\rgb-nir\\\\2021\\\\tnr9958_rois.hdf5',\n",
       " 'D:\\\\Drohnendaten\\\\10_WZE-UAV\\\\Auswertung_findatree\\\\Datasplit\\\\ROI\\\\rgb-nir\\\\2021\\\\tnr9966_rois.hdf5',\n",
       " 'D:\\\\Drohnendaten\\\\10_WZE-UAV\\\\Auswertung_findatree\\\\Datasplit\\\\ROI\\\\rgb-nir\\\\2021\\\\tnr9973_rois.hdf5',\n",
       " 'D:\\\\Drohnendaten\\\\10_WZE-UAV\\\\Auswertung_findatree\\\\Datasplit\\\\ROI\\\\rgb-nir\\\\2021\\\\tnr9980_rois.hdf5',\n",
       " 'D:\\\\Drohnendaten\\\\10_WZE-UAV\\\\Auswertung_findatree\\\\Datasplit\\\\ROI\\\\rgb-nir\\\\2021\\\\tnr9984_rois.hdf5',\n",
       " 'D:\\\\Drohnendaten\\\\10_WZE-UAV\\\\Auswertung_findatree\\\\Datasplit\\\\ROI\\\\rgb-nir\\\\2021\\\\tnr9986_rois.hdf5',\n",
       " 'D:\\\\Drohnendaten\\\\10_WZE-UAV\\\\Auswertung_findatree\\\\Datasplit\\\\ROI\\\\rgb-nir\\\\2021\\\\tnr9988_rois.hdf5',\n",
       " 'D:\\\\Drohnendaten\\\\10_WZE-UAV\\\\Auswertung_findatree\\\\Datasplit\\\\ROI\\\\rgb-nir\\\\2021\\\\tnr9996_rois.hdf5',\n",
       " 'D:\\\\Drohnendaten\\\\10_WZE-UAV\\\\Auswertung_findatree\\\\Datasplit\\\\ROI\\\\rgb-nir\\\\2022\\\\tnr10527_rois.hdf5',\n",
       " 'D:\\\\Drohnendaten\\\\10_WZE-UAV\\\\Auswertung_findatree\\\\Datasplit\\\\ROI\\\\rgb-nir\\\\2022\\\\tnr10533_rois.hdf5',\n",
       " 'D:\\\\Drohnendaten\\\\10_WZE-UAV\\\\Auswertung_findatree\\\\Datasplit\\\\ROI\\\\rgb-nir\\\\2022\\\\tnr10545_rois.hdf5',\n",
       " 'D:\\\\Drohnendaten\\\\10_WZE-UAV\\\\Auswertung_findatree\\\\Datasplit\\\\ROI\\\\rgb-nir\\\\2022\\\\tnr10547_rois.hdf5',\n",
       " 'D:\\\\Drohnendaten\\\\10_WZE-UAV\\\\Auswertung_findatree\\\\Datasplit\\\\ROI\\\\rgb-nir\\\\2022\\\\tnr10912_rois.hdf5',\n",
       " 'D:\\\\Drohnendaten\\\\10_WZE-UAV\\\\Auswertung_findatree\\\\Datasplit\\\\ROI\\\\rgb-nir\\\\2022\\\\tnr11032_rois.hdf5',\n",
       " 'D:\\\\Drohnendaten\\\\10_WZE-UAV\\\\Auswertung_findatree\\\\Datasplit\\\\ROI\\\\rgb-nir\\\\2022\\\\tnr11040_rois.hdf5',\n",
       " 'D:\\\\Drohnendaten\\\\10_WZE-UAV\\\\Auswertung_findatree\\\\Datasplit\\\\ROI\\\\rgb-nir\\\\2022\\\\tnr11044_rois.hdf5',\n",
       " 'D:\\\\Drohnendaten\\\\10_WZE-UAV\\\\Auswertung_findatree\\\\Datasplit\\\\ROI\\\\rgb-nir\\\\2022\\\\tnr11048_rois.hdf5',\n",
       " 'D:\\\\Drohnendaten\\\\10_WZE-UAV\\\\Auswertung_findatree\\\\Datasplit\\\\ROI\\\\rgb-nir\\\\2022\\\\tnr11052_rois.hdf5',\n",
       " 'D:\\\\Drohnendaten\\\\10_WZE-UAV\\\\Auswertung_findatree\\\\Datasplit\\\\ROI\\\\rgb-nir\\\\2022\\\\tnr11056_rois.hdf5',\n",
       " 'D:\\\\Drohnendaten\\\\10_WZE-UAV\\\\Auswertung_findatree\\\\Datasplit\\\\ROI\\\\rgb-nir\\\\2022\\\\tnr11078_rois.hdf5',\n",
       " 'D:\\\\Drohnendaten\\\\10_WZE-UAV\\\\Auswertung_findatree\\\\Datasplit\\\\ROI\\\\rgb-nir\\\\2022\\\\tnr11080_rois.hdf5',\n",
       " 'D:\\\\Drohnendaten\\\\10_WZE-UAV\\\\Auswertung_findatree\\\\Datasplit\\\\ROI\\\\rgb-nir\\\\2022\\\\tnr11090_rois.hdf5',\n",
       " 'D:\\\\Drohnendaten\\\\10_WZE-UAV\\\\Auswertung_findatree\\\\Datasplit\\\\ROI\\\\rgb-nir\\\\2022\\\\tnr11092_rois.hdf5',\n",
       " 'D:\\\\Drohnendaten\\\\10_WZE-UAV\\\\Auswertung_findatree\\\\Datasplit\\\\ROI\\\\rgb-nir\\\\2022\\\\tnr11179_rois.hdf5',\n",
       " 'D:\\\\Drohnendaten\\\\10_WZE-UAV\\\\Auswertung_findatree\\\\Datasplit\\\\ROI\\\\rgb-nir\\\\2022\\\\tnr11189_rois.hdf5',\n",
       " 'D:\\\\Drohnendaten\\\\10_WZE-UAV\\\\Auswertung_findatree\\\\Datasplit\\\\ROI\\\\rgb-nir\\\\2022\\\\tnr11325_rois.hdf5',\n",
       " 'D:\\\\Drohnendaten\\\\10_WZE-UAV\\\\Auswertung_findatree\\\\Datasplit\\\\ROI\\\\rgb-nir\\\\2022\\\\tnr11453_rois.hdf5',\n",
       " 'D:\\\\Drohnendaten\\\\10_WZE-UAV\\\\Auswertung_findatree\\\\Datasplit\\\\ROI\\\\rgb-nir\\\\2022\\\\tnr11459_rois.hdf5',\n",
       " 'D:\\\\Drohnendaten\\\\10_WZE-UAV\\\\Auswertung_findatree\\\\Datasplit\\\\ROI\\\\rgb-nir\\\\2022\\\\tnr11576_rois.hdf5',\n",
       " 'D:\\\\Drohnendaten\\\\10_WZE-UAV\\\\Auswertung_findatree\\\\Datasplit\\\\ROI\\\\rgb-nir\\\\2022\\\\tnr11581_rois.hdf5',\n",
       " 'D:\\\\Drohnendaten\\\\10_WZE-UAV\\\\Auswertung_findatree\\\\Datasplit\\\\ROI\\\\rgb-nir\\\\2022\\\\tnr11597_rois.hdf5',\n",
       " 'D:\\\\Drohnendaten\\\\10_WZE-UAV\\\\Auswertung_findatree\\\\Datasplit\\\\ROI\\\\rgb-nir\\\\2022\\\\tnr11601_rois.hdf5',\n",
       " 'D:\\\\Drohnendaten\\\\10_WZE-UAV\\\\Auswertung_findatree\\\\Datasplit\\\\ROI\\\\rgb-nir\\\\2022\\\\tnr11622_rois.hdf5',\n",
       " 'D:\\\\Drohnendaten\\\\10_WZE-UAV\\\\Auswertung_findatree\\\\Datasplit\\\\ROI\\\\rgb-nir\\\\2022\\\\tnr11626_rois.hdf5',\n",
       " 'D:\\\\Drohnendaten\\\\10_WZE-UAV\\\\Auswertung_findatree\\\\Datasplit\\\\ROI\\\\rgb-nir\\\\2022\\\\tnr11638_rois.hdf5',\n",
       " 'D:\\\\Drohnendaten\\\\10_WZE-UAV\\\\Auswertung_findatree\\\\Datasplit\\\\ROI\\\\rgb-nir\\\\2022\\\\tnr11640_rois.hdf5',\n",
       " 'D:\\\\Drohnendaten\\\\10_WZE-UAV\\\\Auswertung_findatree\\\\Datasplit\\\\ROI\\\\rgb-nir\\\\2022\\\\tnr11727_rois.hdf5',\n",
       " 'D:\\\\Drohnendaten\\\\10_WZE-UAV\\\\Auswertung_findatree\\\\Datasplit\\\\ROI\\\\rgb-nir\\\\2022\\\\tnr11733_rois.hdf5',\n",
       " 'D:\\\\Drohnendaten\\\\10_WZE-UAV\\\\Auswertung_findatree\\\\Datasplit\\\\ROI\\\\rgb-nir\\\\2022\\\\tnr11866_rois.hdf5',\n",
       " 'D:\\\\Drohnendaten\\\\10_WZE-UAV\\\\Auswertung_findatree\\\\Datasplit\\\\ROI\\\\rgb-nir\\\\2022\\\\tnr11874_rois.hdf5',\n",
       " 'D:\\\\Drohnendaten\\\\10_WZE-UAV\\\\Auswertung_findatree\\\\Datasplit\\\\ROI\\\\rgb-nir\\\\2022\\\\tnr11878_rois.hdf5',\n",
       " 'D:\\\\Drohnendaten\\\\10_WZE-UAV\\\\Auswertung_findatree\\\\Datasplit\\\\ROI\\\\rgb-nir\\\\2022\\\\tnr12013_rois.hdf5',\n",
       " 'D:\\\\Drohnendaten\\\\10_WZE-UAV\\\\Auswertung_findatree\\\\Datasplit\\\\ROI\\\\rgb-nir\\\\2022\\\\tnr12019_rois.hdf5',\n",
       " 'D:\\\\Drohnendaten\\\\10_WZE-UAV\\\\Auswertung_findatree\\\\Datasplit\\\\ROI\\\\rgb-nir\\\\2022\\\\tnr12120_rois.hdf5',\n",
       " 'D:\\\\Drohnendaten\\\\10_WZE-UAV\\\\Auswertung_findatree\\\\Datasplit\\\\ROI\\\\rgb-nir\\\\2022\\\\tnr12124_rois.hdf5',\n",
       " 'D:\\\\Drohnendaten\\\\10_WZE-UAV\\\\Auswertung_findatree\\\\Datasplit\\\\ROI\\\\rgb-nir\\\\2022\\\\tnr12153_rois.hdf5',\n",
       " 'D:\\\\Drohnendaten\\\\10_WZE-UAV\\\\Auswertung_findatree\\\\Datasplit\\\\ROI\\\\rgb-nir\\\\2022\\\\tnr12161_rois.hdf5',\n",
       " 'D:\\\\Drohnendaten\\\\10_WZE-UAV\\\\Auswertung_findatree\\\\Datasplit\\\\ROI\\\\rgb-nir\\\\2022\\\\tnr12169_rois.hdf5',\n",
       " 'D:\\\\Drohnendaten\\\\10_WZE-UAV\\\\Auswertung_findatree\\\\Datasplit\\\\ROI\\\\rgb-nir\\\\2022\\\\tnr12179_rois.hdf5',\n",
       " 'D:\\\\Drohnendaten\\\\10_WZE-UAV\\\\Auswertung_findatree\\\\Datasplit\\\\ROI\\\\rgb-nir\\\\2022\\\\tnr12285_rois.hdf5',\n",
       " 'D:\\\\Drohnendaten\\\\10_WZE-UAV\\\\Auswertung_findatree\\\\Datasplit\\\\ROI\\\\rgb-nir\\\\2022\\\\tnr12426_rois.hdf5',\n",
       " 'D:\\\\Drohnendaten\\\\10_WZE-UAV\\\\Auswertung_findatree\\\\Datasplit\\\\ROI\\\\rgb-nir\\\\2022\\\\tnr12549_rois.hdf5',\n",
       " 'D:\\\\Drohnendaten\\\\10_WZE-UAV\\\\Auswertung_findatree\\\\Datasplit\\\\ROI\\\\rgb-nir\\\\2022\\\\tnr12553_rois.hdf5',\n",
       " 'D:\\\\Drohnendaten\\\\10_WZE-UAV\\\\Auswertung_findatree\\\\Datasplit\\\\ROI\\\\rgb-nir\\\\2022\\\\tnr12694_rois.hdf5',\n",
       " 'D:\\\\Drohnendaten\\\\10_WZE-UAV\\\\Auswertung_findatree\\\\Datasplit\\\\ROI\\\\rgb-nir\\\\2022\\\\tnr12702_rois.hdf5',\n",
       " 'D:\\\\Drohnendaten\\\\10_WZE-UAV\\\\Auswertung_findatree\\\\Datasplit\\\\ROI\\\\rgb-nir\\\\2022\\\\tnr12715_rois.hdf5',\n",
       " 'D:\\\\Drohnendaten\\\\10_WZE-UAV\\\\Auswertung_findatree\\\\Datasplit\\\\ROI\\\\rgb-nir\\\\2022\\\\tnr12717_rois.hdf5',\n",
       " 'D:\\\\Drohnendaten\\\\10_WZE-UAV\\\\Auswertung_findatree\\\\Datasplit\\\\ROI\\\\rgb-nir\\\\2022\\\\tnr12719_rois.hdf5',\n",
       " 'D:\\\\Drohnendaten\\\\10_WZE-UAV\\\\Auswertung_findatree\\\\Datasplit\\\\ROI\\\\rgb-nir\\\\2022\\\\tnr12950_rois.hdf5',\n",
       " 'D:\\\\Drohnendaten\\\\10_WZE-UAV\\\\Auswertung_findatree\\\\Datasplit\\\\ROI\\\\rgb-nir\\\\2022\\\\tnr12960_rois.hdf5',\n",
       " 'D:\\\\Drohnendaten\\\\10_WZE-UAV\\\\Auswertung_findatree\\\\Datasplit\\\\ROI\\\\rgb-nir\\\\2022\\\\tnr13212_rois.hdf5',\n",
       " 'D:\\\\Drohnendaten\\\\10_WZE-UAV\\\\Auswertung_findatree\\\\Datasplit\\\\ROI\\\\rgb-nir\\\\2022\\\\tnr13233_rois.hdf5',\n",
       " 'D:\\\\Drohnendaten\\\\10_WZE-UAV\\\\Auswertung_findatree\\\\Datasplit\\\\ROI\\\\rgb-nir\\\\2022\\\\tnr13259_rois.hdf5',\n",
       " 'D:\\\\Drohnendaten\\\\10_WZE-UAV\\\\Auswertung_findatree\\\\Datasplit\\\\ROI\\\\rgb-nir\\\\2022\\\\tnr13508_rois.hdf5',\n",
       " 'D:\\\\Drohnendaten\\\\10_WZE-UAV\\\\Auswertung_findatree\\\\Datasplit\\\\ROI\\\\rgb-nir\\\\2022\\\\tnr13758_rois.hdf5',\n",
       " 'D:\\\\Drohnendaten\\\\10_WZE-UAV\\\\Auswertung_findatree\\\\Datasplit\\\\ROI\\\\rgb-nir\\\\2022\\\\tnr13766_rois.hdf5',\n",
       " 'D:\\\\Drohnendaten\\\\10_WZE-UAV\\\\Auswertung_findatree\\\\Datasplit\\\\ROI\\\\rgb-nir\\\\2022\\\\tnr13779_rois.hdf5',\n",
       " 'D:\\\\Drohnendaten\\\\10_WZE-UAV\\\\Auswertung_findatree\\\\Datasplit\\\\ROI\\\\rgb-nir\\\\2022\\\\tnr13819_rois.hdf5',\n",
       " 'D:\\\\Drohnendaten\\\\10_WZE-UAV\\\\Auswertung_findatree\\\\Datasplit\\\\ROI\\\\rgb-nir\\\\2022\\\\tnr13825_rois.hdf5',\n",
       " 'D:\\\\Drohnendaten\\\\10_WZE-UAV\\\\Auswertung_findatree\\\\Datasplit\\\\ROI\\\\rgb-nir\\\\2022\\\\tnr13898_rois.hdf5',\n",
       " 'D:\\\\Drohnendaten\\\\10_WZE-UAV\\\\Auswertung_findatree\\\\Datasplit\\\\ROI\\\\rgb-nir\\\\2022\\\\tnr13922_rois.hdf5',\n",
       " 'D:\\\\Drohnendaten\\\\10_WZE-UAV\\\\Auswertung_findatree\\\\Datasplit\\\\ROI\\\\rgb-nir\\\\2022\\\\tnr14156_rois.hdf5',\n",
       " 'D:\\\\Drohnendaten\\\\10_WZE-UAV\\\\Auswertung_findatree\\\\Datasplit\\\\ROI\\\\rgb-nir\\\\2022\\\\tnr14293_rois.hdf5',\n",
       " 'D:\\\\Drohnendaten\\\\10_WZE-UAV\\\\Auswertung_findatree\\\\Datasplit\\\\ROI\\\\rgb-nir\\\\2022\\\\tnr14327_rois.hdf5',\n",
       " 'D:\\\\Drohnendaten\\\\10_WZE-UAV\\\\Auswertung_findatree\\\\Datasplit\\\\ROI\\\\rgb-nir\\\\2022\\\\tnr14666_rois.hdf5',\n",
       " 'D:\\\\Drohnendaten\\\\10_WZE-UAV\\\\Auswertung_findatree\\\\Datasplit\\\\ROI\\\\rgb-nir\\\\2022\\\\tnr14723_rois.hdf5',\n",
       " 'D:\\\\Drohnendaten\\\\10_WZE-UAV\\\\Auswertung_findatree\\\\Datasplit\\\\ROI\\\\rgb-nir\\\\2022\\\\tnr14727_rois.hdf5',\n",
       " 'D:\\\\Drohnendaten\\\\10_WZE-UAV\\\\Auswertung_findatree\\\\Datasplit\\\\ROI\\\\rgb-nir\\\\2022\\\\tnr14732_rois.hdf5',\n",
       " 'D:\\\\Drohnendaten\\\\10_WZE-UAV\\\\Auswertung_findatree\\\\Datasplit\\\\ROI\\\\rgb-nir\\\\2022\\\\tnr14781_rois.hdf5',\n",
       " 'D:\\\\Drohnendaten\\\\10_WZE-UAV\\\\Auswertung_findatree\\\\Datasplit\\\\ROI\\\\rgb-nir\\\\2022\\\\tnr14877_rois.hdf5',\n",
       " 'D:\\\\Drohnendaten\\\\10_WZE-UAV\\\\Auswertung_findatree\\\\Datasplit\\\\ROI\\\\rgb-nir\\\\2022\\\\tnr14879_rois.hdf5',\n",
       " 'D:\\\\Drohnendaten\\\\10_WZE-UAV\\\\Auswertung_findatree\\\\Datasplit\\\\ROI\\\\rgb-nir\\\\2022\\\\tnr14887_rois.hdf5',\n",
       " 'D:\\\\Drohnendaten\\\\10_WZE-UAV\\\\Auswertung_findatree\\\\Datasplit\\\\ROI\\\\rgb-nir\\\\2022\\\\tnr15020_rois.hdf5',\n",
       " 'D:\\\\Drohnendaten\\\\10_WZE-UAV\\\\Auswertung_findatree\\\\Datasplit\\\\ROI\\\\rgb-nir\\\\2022\\\\tnr15027_rois.hdf5',\n",
       " 'D:\\\\Drohnendaten\\\\10_WZE-UAV\\\\Auswertung_findatree\\\\Datasplit\\\\ROI\\\\rgb-nir\\\\2022\\\\tnr15031_rois.hdf5',\n",
       " 'D:\\\\Drohnendaten\\\\10_WZE-UAV\\\\Auswertung_findatree\\\\Datasplit\\\\ROI\\\\rgb-nir\\\\2022\\\\tnr15035_rois.hdf5',\n",
       " 'D:\\\\Drohnendaten\\\\10_WZE-UAV\\\\Auswertung_findatree\\\\Datasplit\\\\ROI\\\\rgb-nir\\\\2022\\\\tnr15039_rois.hdf5',\n",
       " 'D:\\\\Drohnendaten\\\\10_WZE-UAV\\\\Auswertung_findatree\\\\Datasplit\\\\ROI\\\\rgb-nir\\\\2022\\\\tnr15043_rois.hdf5',\n",
       " 'D:\\\\Drohnendaten\\\\10_WZE-UAV\\\\Auswertung_findatree\\\\Datasplit\\\\ROI\\\\rgb-nir\\\\2022\\\\tnr15046_rois.hdf5',\n",
       " 'D:\\\\Drohnendaten\\\\10_WZE-UAV\\\\Auswertung_findatree\\\\Datasplit\\\\ROI\\\\rgb-nir\\\\2022\\\\tnr15050_rois.hdf5',\n",
       " 'D:\\\\Drohnendaten\\\\10_WZE-UAV\\\\Auswertung_findatree\\\\Datasplit\\\\ROI\\\\rgb-nir\\\\2022\\\\tnr15101_rois.hdf5',\n",
       " 'D:\\\\Drohnendaten\\\\10_WZE-UAV\\\\Auswertung_findatree\\\\Datasplit\\\\ROI\\\\rgb-nir\\\\2022\\\\tnr15273_rois.hdf5',\n",
       " 'D:\\\\Drohnendaten\\\\10_WZE-UAV\\\\Auswertung_findatree\\\\Datasplit\\\\ROI\\\\rgb-nir\\\\2022\\\\tnr15277_rois.hdf5',\n",
       " 'D:\\\\Drohnendaten\\\\10_WZE-UAV\\\\Auswertung_findatree\\\\Datasplit\\\\ROI\\\\rgb-nir\\\\2022\\\\tnr15297_rois.hdf5',\n",
       " 'D:\\\\Drohnendaten\\\\10_WZE-UAV\\\\Auswertung_findatree\\\\Datasplit\\\\ROI\\\\rgb-nir\\\\2022\\\\tnr15299_rois.hdf5',\n",
       " 'D:\\\\Drohnendaten\\\\10_WZE-UAV\\\\Auswertung_findatree\\\\Datasplit\\\\ROI\\\\rgb-nir\\\\2022\\\\tnr15301_rois.hdf5',\n",
       " 'D:\\\\Drohnendaten\\\\10_WZE-UAV\\\\Auswertung_findatree\\\\Datasplit\\\\ROI\\\\rgb-nir\\\\2022\\\\tnr15303_rois.hdf5',\n",
       " 'D:\\\\Drohnendaten\\\\10_WZE-UAV\\\\Auswertung_findatree\\\\Datasplit\\\\ROI\\\\rgb-nir\\\\2022\\\\tnr15306_rois.hdf5',\n",
       " 'D:\\\\Drohnendaten\\\\10_WZE-UAV\\\\Auswertung_findatree\\\\Datasplit\\\\ROI\\\\rgb-nir\\\\2022\\\\tnr15311_rois.hdf5',\n",
       " 'D:\\\\Drohnendaten\\\\10_WZE-UAV\\\\Auswertung_findatree\\\\Datasplit\\\\ROI\\\\rgb-nir\\\\2022\\\\tnr15313_rois.hdf5',\n",
       " 'D:\\\\Drohnendaten\\\\10_WZE-UAV\\\\Auswertung_findatree\\\\Datasplit\\\\ROI\\\\rgb-nir\\\\2022\\\\tnr15319_rois.hdf5',\n",
       " 'D:\\\\Drohnendaten\\\\10_WZE-UAV\\\\Auswertung_findatree\\\\Datasplit\\\\ROI\\\\rgb-nir\\\\2022\\\\tnr15327_rois.hdf5',\n",
       " 'D:\\\\Drohnendaten\\\\10_WZE-UAV\\\\Auswertung_findatree\\\\Datasplit\\\\ROI\\\\rgb-nir\\\\2022\\\\tnr15519_rois.hdf5',\n",
       " 'D:\\\\Drohnendaten\\\\10_WZE-UAV\\\\Auswertung_findatree\\\\Datasplit\\\\ROI\\\\rgb-nir\\\\2022\\\\tnr15521_rois.hdf5',\n",
       " 'D:\\\\Drohnendaten\\\\10_WZE-UAV\\\\Auswertung_findatree\\\\Datasplit\\\\ROI\\\\rgb-nir\\\\2022\\\\tnr15531_rois.hdf5',\n",
       " 'D:\\\\Drohnendaten\\\\10_WZE-UAV\\\\Auswertung_findatree\\\\Datasplit\\\\ROI\\\\rgb-nir\\\\2022\\\\tnr15537_rois.hdf5',\n",
       " 'D:\\\\Drohnendaten\\\\10_WZE-UAV\\\\Auswertung_findatree\\\\Datasplit\\\\ROI\\\\rgb-nir\\\\2022\\\\tnr15730_rois.hdf5',\n",
       " 'D:\\\\Drohnendaten\\\\10_WZE-UAV\\\\Auswertung_findatree\\\\Datasplit\\\\ROI\\\\rgb-nir\\\\2022\\\\tnr15736_rois.hdf5',\n",
       " 'D:\\\\Drohnendaten\\\\10_WZE-UAV\\\\Auswertung_findatree\\\\Datasplit\\\\ROI\\\\rgb-nir\\\\2022\\\\tnr15746_rois.hdf5',\n",
       " 'D:\\\\Drohnendaten\\\\10_WZE-UAV\\\\Auswertung_findatree\\\\Datasplit\\\\ROI\\\\rgb-nir\\\\2022\\\\tnr15748_rois.hdf5',\n",
       " 'D:\\\\Drohnendaten\\\\10_WZE-UAV\\\\Auswertung_findatree\\\\Datasplit\\\\ROI\\\\rgb-nir\\\\2022\\\\tnr15780_rois.hdf5',\n",
       " 'D:\\\\Drohnendaten\\\\10_WZE-UAV\\\\Auswertung_findatree\\\\Datasplit\\\\ROI\\\\rgb-nir\\\\2022\\\\tnr15966_rois.hdf5',\n",
       " 'D:\\\\Drohnendaten\\\\10_WZE-UAV\\\\Auswertung_findatree\\\\Datasplit\\\\ROI\\\\rgb-nir\\\\2022\\\\tnr15974_rois.hdf5',\n",
       " 'D:\\\\Drohnendaten\\\\10_WZE-UAV\\\\Auswertung_findatree\\\\Datasplit\\\\ROI\\\\rgb-nir\\\\2022\\\\tnr15986_rois.hdf5',\n",
       " 'D:\\\\Drohnendaten\\\\10_WZE-UAV\\\\Auswertung_findatree\\\\Datasplit\\\\ROI\\\\rgb-nir\\\\2022\\\\tnr15988_rois.hdf5',\n",
       " 'D:\\\\Drohnendaten\\\\10_WZE-UAV\\\\Auswertung_findatree\\\\Datasplit\\\\ROI\\\\rgb-nir\\\\2022\\\\tnr15998_rois.hdf5',\n",
       " 'D:\\\\Drohnendaten\\\\10_WZE-UAV\\\\Auswertung_findatree\\\\Datasplit\\\\ROI\\\\rgb-nir\\\\2022\\\\tnr16173_rois.hdf5',\n",
       " 'D:\\\\Drohnendaten\\\\10_WZE-UAV\\\\Auswertung_findatree\\\\Datasplit\\\\ROI\\\\rgb-nir\\\\2022\\\\tnr16181_rois.hdf5',\n",
       " 'D:\\\\Drohnendaten\\\\10_WZE-UAV\\\\Auswertung_findatree\\\\Datasplit\\\\ROI\\\\rgb-nir\\\\2022\\\\tnr16193_rois.hdf5',\n",
       " 'D:\\\\Drohnendaten\\\\10_WZE-UAV\\\\Auswertung_findatree\\\\Datasplit\\\\ROI\\\\rgb-nir\\\\2022\\\\tnr16197_rois.hdf5',\n",
       " 'D:\\\\Drohnendaten\\\\10_WZE-UAV\\\\Auswertung_findatree\\\\Datasplit\\\\ROI\\\\rgb-nir\\\\2022\\\\tnr16205_rois.hdf5',\n",
       " 'D:\\\\Drohnendaten\\\\10_WZE-UAV\\\\Auswertung_findatree\\\\Datasplit\\\\ROI\\\\rgb-nir\\\\2022\\\\tnr16211_rois.hdf5',\n",
       " 'D:\\\\Drohnendaten\\\\10_WZE-UAV\\\\Auswertung_findatree\\\\Datasplit\\\\ROI\\\\rgb-nir\\\\2022\\\\tnr16223_rois.hdf5',\n",
       " 'D:\\\\Drohnendaten\\\\10_WZE-UAV\\\\Auswertung_findatree\\\\Datasplit\\\\ROI\\\\rgb-nir\\\\2022\\\\tnr16227_rois.hdf5',\n",
       " 'D:\\\\Drohnendaten\\\\10_WZE-UAV\\\\Auswertung_findatree\\\\Datasplit\\\\ROI\\\\rgb-nir\\\\2022\\\\tnr16400_rois.hdf5',\n",
       " 'D:\\\\Drohnendaten\\\\10_WZE-UAV\\\\Auswertung_findatree\\\\Datasplit\\\\ROI\\\\rgb-nir\\\\2022\\\\tnr16404_rois.hdf5',\n",
       " 'D:\\\\Drohnendaten\\\\10_WZE-UAV\\\\Auswertung_findatree\\\\Datasplit\\\\ROI\\\\rgb-nir\\\\2022\\\\tnr16412_rois.hdf5',\n",
       " 'D:\\\\Drohnendaten\\\\10_WZE-UAV\\\\Auswertung_findatree\\\\Datasplit\\\\ROI\\\\rgb-nir\\\\2022\\\\tnr16422_rois.hdf5',\n",
       " 'D:\\\\Drohnendaten\\\\10_WZE-UAV\\\\Auswertung_findatree\\\\Datasplit\\\\ROI\\\\rgb-nir\\\\2022\\\\tnr16426_rois.hdf5',\n",
       " 'D:\\\\Drohnendaten\\\\10_WZE-UAV\\\\Auswertung_findatree\\\\Datasplit\\\\ROI\\\\rgb-nir\\\\2022\\\\tnr16620_rois.hdf5',\n",
       " 'D:\\\\Drohnendaten\\\\10_WZE-UAV\\\\Auswertung_findatree\\\\Datasplit\\\\ROI\\\\rgb-nir\\\\2022\\\\tnr16624_rois.hdf5',\n",
       " 'D:\\\\Drohnendaten\\\\10_WZE-UAV\\\\Auswertung_findatree\\\\Datasplit\\\\ROI\\\\rgb-nir\\\\2022\\\\tnr16632_rois.hdf5',\n",
       " 'D:\\\\Drohnendaten\\\\10_WZE-UAV\\\\Auswertung_findatree\\\\Datasplit\\\\ROI\\\\rgb-nir\\\\2022\\\\tnr16636_rois.hdf5',\n",
       " 'D:\\\\Drohnendaten\\\\10_WZE-UAV\\\\Auswertung_findatree\\\\Datasplit\\\\ROI\\\\rgb-nir\\\\2022\\\\tnr16639_rois.hdf5',\n",
       " 'D:\\\\Drohnendaten\\\\10_WZE-UAV\\\\Auswertung_findatree\\\\Datasplit\\\\ROI\\\\rgb-nir\\\\2022\\\\tnr16643_rois.hdf5',\n",
       " 'D:\\\\Drohnendaten\\\\10_WZE-UAV\\\\Auswertung_findatree\\\\Datasplit\\\\ROI\\\\rgb-nir\\\\2022\\\\tnr16645_rois.hdf5',\n",
       " 'D:\\\\Drohnendaten\\\\10_WZE-UAV\\\\Auswertung_findatree\\\\Datasplit\\\\ROI\\\\rgb-nir\\\\2022\\\\tnr16649_rois.hdf5',\n",
       " 'D:\\\\Drohnendaten\\\\10_WZE-UAV\\\\Auswertung_findatree\\\\Datasplit\\\\ROI\\\\rgb-nir\\\\2022\\\\tnr16657_rois.hdf5',\n",
       " 'D:\\\\Drohnendaten\\\\10_WZE-UAV\\\\Auswertung_findatree\\\\Datasplit\\\\ROI\\\\rgb-nir\\\\2022\\\\tnr16829_rois.hdf5',\n",
       " 'D:\\\\Drohnendaten\\\\10_WZE-UAV\\\\Auswertung_findatree\\\\Datasplit\\\\ROI\\\\rgb-nir\\\\2022\\\\tnr16833_rois.hdf5',\n",
       " 'D:\\\\Drohnendaten\\\\10_WZE-UAV\\\\Auswertung_findatree\\\\Datasplit\\\\ROI\\\\rgb-nir\\\\2022\\\\tnr16838_rois.hdf5',\n",
       " 'D:\\\\Drohnendaten\\\\10_WZE-UAV\\\\Auswertung_findatree\\\\Datasplit\\\\ROI\\\\rgb-nir\\\\2022\\\\tnr17019_rois.hdf5',\n",
       " 'D:\\\\Drohnendaten\\\\10_WZE-UAV\\\\Auswertung_findatree\\\\Datasplit\\\\ROI\\\\rgb-nir\\\\2022\\\\tnr17032_rois.hdf5',\n",
       " 'D:\\\\Drohnendaten\\\\10_WZE-UAV\\\\Auswertung_findatree\\\\Datasplit\\\\ROI\\\\rgb-nir\\\\2022\\\\tnr17034_rois.hdf5',\n",
       " 'D:\\\\Drohnendaten\\\\10_WZE-UAV\\\\Auswertung_findatree\\\\Datasplit\\\\ROI\\\\rgb-nir\\\\2022\\\\tnr17042_rois.hdf5',\n",
       " 'D:\\\\Drohnendaten\\\\10_WZE-UAV\\\\Auswertung_findatree\\\\Datasplit\\\\ROI\\\\rgb-nir\\\\2022\\\\tnr17339_rois.hdf5',\n",
       " 'D:\\\\Drohnendaten\\\\10_WZE-UAV\\\\Auswertung_findatree\\\\Datasplit\\\\ROI\\\\rgb-nir\\\\2022\\\\tnr1898_rois.hdf5',\n",
       " 'D:\\\\Drohnendaten\\\\10_WZE-UAV\\\\Auswertung_findatree\\\\Datasplit\\\\ROI\\\\rgb-nir\\\\2022\\\\tnr2386_rois.hdf5',\n",
       " 'D:\\\\Drohnendaten\\\\10_WZE-UAV\\\\Auswertung_findatree\\\\Datasplit\\\\ROI\\\\rgb-nir\\\\2022\\\\tnr2399_rois.hdf5',\n",
       " 'D:\\\\Drohnendaten\\\\10_WZE-UAV\\\\Auswertung_findatree\\\\Datasplit\\\\ROI\\\\rgb-nir\\\\2022\\\\tnr2411_rois.hdf5',\n",
       " 'D:\\\\Drohnendaten\\\\10_WZE-UAV\\\\Auswertung_findatree\\\\Datasplit\\\\ROI\\\\rgb-nir\\\\2022\\\\tnr2413_rois.hdf5',\n",
       " 'D:\\\\Drohnendaten\\\\10_WZE-UAV\\\\Auswertung_findatree\\\\Datasplit\\\\ROI\\\\rgb-nir\\\\2022\\\\tnr3398_rois.hdf5',\n",
       " 'D:\\\\Drohnendaten\\\\10_WZE-UAV\\\\Auswertung_findatree\\\\Datasplit\\\\ROI\\\\rgb-nir\\\\2022\\\\tnr3418_rois.hdf5',\n",
       " 'D:\\\\Drohnendaten\\\\10_WZE-UAV\\\\Auswertung_findatree\\\\Datasplit\\\\ROI\\\\rgb-nir\\\\2022\\\\tnr3430_rois.hdf5',\n",
       " 'D:\\\\Drohnendaten\\\\10_WZE-UAV\\\\Auswertung_findatree\\\\Datasplit\\\\ROI\\\\rgb-nir\\\\2022\\\\tnr3930_rois.hdf5',\n",
       " 'D:\\\\Drohnendaten\\\\10_WZE-UAV\\\\Auswertung_findatree\\\\Datasplit\\\\ROI\\\\rgb-nir\\\\2022\\\\tnr4412_rois.hdf5',\n",
       " 'D:\\\\Drohnendaten\\\\10_WZE-UAV\\\\Auswertung_findatree\\\\Datasplit\\\\ROI\\\\rgb-nir\\\\2022\\\\tnr4436_rois.hdf5',\n",
       " 'D:\\\\Drohnendaten\\\\10_WZE-UAV\\\\Auswertung_findatree\\\\Datasplit\\\\ROI\\\\rgb-nir\\\\2022\\\\tnr4444_rois.hdf5',\n",
       " 'D:\\\\Drohnendaten\\\\10_WZE-UAV\\\\Auswertung_findatree\\\\Datasplit\\\\ROI\\\\rgb-nir\\\\2022\\\\tnr5449_rois.hdf5',\n",
       " 'D:\\\\Drohnendaten\\\\10_WZE-UAV\\\\Auswertung_findatree\\\\Datasplit\\\\ROI\\\\rgb-nir\\\\2022\\\\tnr5930_rois.hdf5',\n",
       " 'D:\\\\Drohnendaten\\\\10_WZE-UAV\\\\Auswertung_findatree\\\\Datasplit\\\\ROI\\\\rgb-nir\\\\2022\\\\tnr5946_rois.hdf5',\n",
       " 'D:\\\\Drohnendaten\\\\10_WZE-UAV\\\\Auswertung_findatree\\\\Datasplit\\\\ROI\\\\rgb-nir\\\\2022\\\\tnr6430_rois.hdf5',\n",
       " 'D:\\\\Drohnendaten\\\\10_WZE-UAV\\\\Auswertung_findatree\\\\Datasplit\\\\ROI\\\\rgb-nir\\\\2022\\\\tnr6462_rois.hdf5',\n",
       " 'D:\\\\Drohnendaten\\\\10_WZE-UAV\\\\Auswertung_findatree\\\\Datasplit\\\\ROI\\\\rgb-nir\\\\2022\\\\tnr6466_rois.hdf5',\n",
       " 'D:\\\\Drohnendaten\\\\10_WZE-UAV\\\\Auswertung_findatree\\\\Datasplit\\\\ROI\\\\rgb-nir\\\\2022\\\\tnr6468_rois.hdf5',\n",
       " 'D:\\\\Drohnendaten\\\\10_WZE-UAV\\\\Auswertung_findatree\\\\Datasplit\\\\ROI\\\\rgb-nir\\\\2022\\\\tnr6470_rois.hdf5',\n",
       " 'D:\\\\Drohnendaten\\\\10_WZE-UAV\\\\Auswertung_findatree\\\\Datasplit\\\\ROI\\\\rgb-nir\\\\2022\\\\tnr6474_rois.hdf5',\n",
       " 'D:\\\\Drohnendaten\\\\10_WZE-UAV\\\\Auswertung_findatree\\\\Datasplit\\\\ROI\\\\rgb-nir\\\\2022\\\\tnr6478_rois.hdf5',\n",
       " 'D:\\\\Drohnendaten\\\\10_WZE-UAV\\\\Auswertung_findatree\\\\Datasplit\\\\ROI\\\\rgb-nir\\\\2022\\\\tnr6969_rois.hdf5',\n",
       " 'D:\\\\Drohnendaten\\\\10_WZE-UAV\\\\Auswertung_findatree\\\\Datasplit\\\\ROI\\\\rgb-nir\\\\2022\\\\tnr6971_rois.hdf5',\n",
       " 'D:\\\\Drohnendaten\\\\10_WZE-UAV\\\\Auswertung_findatree\\\\Datasplit\\\\ROI\\\\rgb-nir\\\\2022\\\\tnr6977_rois.hdf5',\n",
       " 'D:\\\\Drohnendaten\\\\10_WZE-UAV\\\\Auswertung_findatree\\\\Datasplit\\\\ROI\\\\rgb-nir\\\\2022\\\\tnr7002_rois.hdf5',\n",
       " 'D:\\\\Drohnendaten\\\\10_WZE-UAV\\\\Auswertung_findatree\\\\Datasplit\\\\ROI\\\\rgb-nir\\\\2022\\\\tnr7475_rois.hdf5',\n",
       " 'D:\\\\Drohnendaten\\\\10_WZE-UAV\\\\Auswertung_findatree\\\\Datasplit\\\\ROI\\\\rgb-nir\\\\2022\\\\tnr7511_rois.hdf5',\n",
       " 'D:\\\\Drohnendaten\\\\10_WZE-UAV\\\\Auswertung_findatree\\\\Datasplit\\\\ROI\\\\rgb-nir\\\\2022\\\\tnr7517_rois.hdf5',\n",
       " 'D:\\\\Drohnendaten\\\\10_WZE-UAV\\\\Auswertung_findatree\\\\Datasplit\\\\ROI\\\\rgb-nir\\\\2022\\\\tnr7521_rois.hdf5',\n",
       " 'D:\\\\Drohnendaten\\\\10_WZE-UAV\\\\Auswertung_findatree\\\\Datasplit\\\\ROI\\\\rgb-nir\\\\2022\\\\tnr7525_rois.hdf5',\n",
       " 'D:\\\\Drohnendaten\\\\10_WZE-UAV\\\\Auswertung_findatree\\\\Datasplit\\\\ROI\\\\rgb-nir\\\\2022\\\\tnr8040_rois.hdf5',\n",
       " 'D:\\\\Drohnendaten\\\\10_WZE-UAV\\\\Auswertung_findatree\\\\Datasplit\\\\ROI\\\\rgb-nir\\\\2022\\\\tnr8492_rois.hdf5',\n",
       " 'D:\\\\Drohnendaten\\\\10_WZE-UAV\\\\Auswertung_findatree\\\\Datasplit\\\\ROI\\\\rgb-nir\\\\2022\\\\tnr8494_rois.hdf5',\n",
       " 'D:\\\\Drohnendaten\\\\10_WZE-UAV\\\\Auswertung_findatree\\\\Datasplit\\\\ROI\\\\rgb-nir\\\\2022\\\\tnr8498_rois.hdf5',\n",
       " 'D:\\\\Drohnendaten\\\\10_WZE-UAV\\\\Auswertung_findatree\\\\Datasplit\\\\ROI\\\\rgb-nir\\\\2022\\\\tnr8532_rois.hdf5',\n",
       " 'D:\\\\Drohnendaten\\\\10_WZE-UAV\\\\Auswertung_findatree\\\\Datasplit\\\\ROI\\\\rgb-nir\\\\2022\\\\tnr8973_rois.hdf5',\n",
       " 'D:\\\\Drohnendaten\\\\10_WZE-UAV\\\\Auswertung_findatree\\\\Datasplit\\\\ROI\\\\rgb-nir\\\\2022\\\\tnr8979_rois.hdf5',\n",
       " 'D:\\\\Drohnendaten\\\\10_WZE-UAV\\\\Auswertung_findatree\\\\Datasplit\\\\ROI\\\\rgb-nir\\\\2022\\\\tnr8981_rois.hdf5',\n",
       " 'D:\\\\Drohnendaten\\\\10_WZE-UAV\\\\Auswertung_findatree\\\\Datasplit\\\\ROI\\\\rgb-nir\\\\2022\\\\tnr8989_rois.hdf5',\n",
       " 'D:\\\\Drohnendaten\\\\10_WZE-UAV\\\\Auswertung_findatree\\\\Datasplit\\\\ROI\\\\rgb-nir\\\\2022\\\\tnr9025_rois.hdf5',\n",
       " 'D:\\\\Drohnendaten\\\\10_WZE-UAV\\\\Auswertung_findatree\\\\Datasplit\\\\ROI\\\\rgb-nir\\\\2022\\\\tnr9464_rois.hdf5',\n",
       " 'D:\\\\Drohnendaten\\\\10_WZE-UAV\\\\Auswertung_findatree\\\\Datasplit\\\\ROI\\\\rgb-nir\\\\2022\\\\tnr9468_rois.hdf5',\n",
       " 'D:\\\\Drohnendaten\\\\10_WZE-UAV\\\\Auswertung_findatree\\\\Datasplit\\\\ROI\\\\rgb-nir\\\\2022\\\\tnr9472_rois.hdf5',\n",
       " 'D:\\\\Drohnendaten\\\\10_WZE-UAV\\\\Auswertung_findatree\\\\Datasplit\\\\ROI\\\\rgb-nir\\\\2022\\\\tnr9477_rois.hdf5',\n",
       " 'D:\\\\Drohnendaten\\\\10_WZE-UAV\\\\Auswertung_findatree\\\\Datasplit\\\\ROI\\\\rgb-nir\\\\2022\\\\tnr9489_rois.hdf5',\n",
       " 'D:\\\\Drohnendaten\\\\10_WZE-UAV\\\\Auswertung_findatree\\\\Datasplit\\\\ROI\\\\rgb-nir\\\\2022\\\\tnr9493_rois.hdf5',\n",
       " 'D:\\\\Drohnendaten\\\\10_WZE-UAV\\\\Auswertung_findatree\\\\Datasplit\\\\ROI\\\\rgb-nir\\\\2022\\\\tnr9509_rois.hdf5',\n",
       " 'D:\\\\Drohnendaten\\\\10_WZE-UAV\\\\Auswertung_findatree\\\\Datasplit\\\\ROI\\\\rgb-nir\\\\2022\\\\tnr9515_rois.hdf5',\n",
       " 'D:\\\\Drohnendaten\\\\10_WZE-UAV\\\\Auswertung_findatree\\\\Datasplit\\\\ROI\\\\rgb-nir\\\\2022\\\\tnr9517_rois.hdf5',\n",
       " 'D:\\\\Drohnendaten\\\\10_WZE-UAV\\\\Auswertung_findatree\\\\Datasplit\\\\ROI\\\\rgb-nir\\\\2022\\\\tnr9948_rois.hdf5',\n",
       " 'D:\\\\Drohnendaten\\\\10_WZE-UAV\\\\Auswertung_findatree\\\\Datasplit\\\\ROI\\\\rgb-nir\\\\2022\\\\tnr9958_rois.hdf5',\n",
       " 'D:\\\\Drohnendaten\\\\10_WZE-UAV\\\\Auswertung_findatree\\\\Datasplit\\\\ROI\\\\rgb-nir\\\\2022\\\\tnr9966_rois.hdf5',\n",
       " 'D:\\\\Drohnendaten\\\\10_WZE-UAV\\\\Auswertung_findatree\\\\Datasplit\\\\ROI\\\\rgb-nir\\\\2022\\\\tnr9984_rois.hdf5',\n",
       " 'D:\\\\Drohnendaten\\\\10_WZE-UAV\\\\Auswertung_findatree\\\\Datasplit\\\\ROI\\\\rgb-nir\\\\2022\\\\tnr9986_rois.hdf5',\n",
       " 'D:\\\\Drohnendaten\\\\10_WZE-UAV\\\\Auswertung_findatree\\\\Datasplit\\\\ROI\\\\rgb-nir\\\\2022\\\\tnr9988_rois.hdf5',\n",
       " 'D:\\\\Drohnendaten\\\\10_WZE-UAV\\\\Auswertung_findatree\\\\Datasplit\\\\ROI\\\\rgb-nir\\\\2022\\\\tnr9996_rois.hdf5']"
      ]
     },
     "execution_count": 10,
     "metadata": {},
     "output_type": "execute_result"
    }
   ],
   "source": [
    "path_list"
   ]
  },
  {
   "cell_type": "markdown",
   "id": "f3937a44",
   "metadata": {},
   "source": [
    "#### Create unique hash IDs for every individual tree"
   ]
  },
  {
   "cell_type": "code",
   "execution_count": 11,
   "id": "8a50f1d7",
   "metadata": {},
   "outputs": [
    {
     "data": {
      "application/vnd.jupyter.widget-view+json": {
       "model_id": "0cc851feefe54923bcf1f124d76288a6",
       "version_major": 2,
       "version_minor": 0
      },
      "text/plain": [
       "Creating unique tree IDs...:   0%|          | 0/647 [00:00<?, ?it/s]"
      ]
     },
     "metadata": {},
     "output_type": "display_data"
    }
   ],
   "source": [
    "hashID_dict = data_loader.get_unique_treeID(path_list)"
   ]
  },
  {
   "cell_type": "markdown",
   "id": "6f4cea00",
   "metadata": {},
   "source": [
    "#### Import all imagery, labels and other features from hdf5 files"
   ]
  },
  {
   "cell_type": "code",
   "execution_count": 12,
   "id": "94e3eecf",
   "metadata": {},
   "outputs": [
    {
     "data": {
      "application/vnd.jupyter.widget-view+json": {
       "model_id": "514513799df34181b80d9101e0ba3900",
       "version_major": 2,
       "version_minor": 0
      },
      "text/plain": [
       "Processing hdf5 datasets:   0%|          | 0/647 [00:00<?, ?it/s]"
      ]
     },
     "metadata": {},
     "output_type": "display_data"
    }
   ],
   "source": [
    "image_set, label_set, species_set, kkl_set, bk_set, hash_id = data_loader.hdf5_to_img_label(path_list,\n",
    "                                                                                               hashID_dict,\n",
    "                                                                                               load_sets=[\"images_masked\"])"
   ]
  },
  {
   "cell_type": "markdown",
   "id": "6a90e2b7",
   "metadata": {},
   "source": [
    "#### Convert nbv to classes"
   ]
  },
  {
   "cell_type": "code",
   "execution_count": 13,
   "id": "0224972a",
   "metadata": {},
   "outputs": [],
   "source": [
    "label_set = nbv_to_sst_3classes(label_set)"
   ]
  },
  {
   "cell_type": "markdown",
   "id": "c6b4cd85",
   "metadata": {},
   "source": [
    "#### Split data into a sub set and a test dataset"
   ]
  },
  {
   "cell_type": "code",
   "execution_count": 14,
   "id": "d06eda54",
   "metadata": {},
   "outputs": [
    {
     "name": "stdout",
     "output_type": "stream",
     "text": [
      "There are 7087 unique values within hash_id.\n",
      "Number of True in sub_indices: 15659\n",
      "Number of False in sub_indices: 3146\n",
      "Number of True in test_indices: 1056\n",
      "Number of False in test_indices: 17749\n",
      "Check shapes:\n",
      "\n",
      "Images sub dataset: (15659, 250, 250, 4)\n",
      "Labels sub dataset: (15659, 1)\n",
      "\n",
      "Images test dataset: (1056, 250, 250, 4)\n",
      "Labels test dataset: (1056, 1)\n",
      "\n",
      "--------------------------------------------------\n",
      "Check if the split was stratified: (random_state=42)\n",
      "Healthy trees in sub dataset: 9232\n",
      "Stressed trees in sub dataset: 6166\n",
      "Dead trees in sub dataset: 261\n",
      "Healthy trees in test dataset: 612\n",
      "Stressed trees in test dataset: 429\n",
      "Dead trees in test dataset: 15\n",
      "Ratio health trees in test dataset: 0.06629116117850953\n",
      "Ratio stressed trees in test dataset: 0.0695750891988323\n",
      "Ratio dead trees in test dataset: 0.05747126436781609\n"
     ]
    }
   ],
   "source": [
    "sub_image_set, sub_label_set, sub_hash_id, sub_species_set, test_image_set, test_label_set, test_hash_id, test_species_set = data_split(image_set, label_set, hash_id, species_set, test_size=0.1667, random_state=42, seed=2)\n"
   ]
  },
  {
   "cell_type": "markdown",
   "id": "c48fbb5b",
   "metadata": {},
   "source": [
    "#### Check if any hash ID is in both sub and test dataset"
   ]
  },
  {
   "cell_type": "code",
   "execution_count": 15,
   "id": "874367cf",
   "metadata": {},
   "outputs": [
    {
     "name": "stdout",
     "output_type": "stream",
     "text": [
      "There are no hash_id values in both train and test datasets. The datasplit was successful\n"
     ]
    }
   ],
   "source": [
    "hash_set = set(sub_hash_id[:,0].flatten())\n",
    "test_hash_set = set(test_hash_id[:,0].flatten())\n",
    "intersection = hash_set.intersection(test_hash_set)\n",
    "if intersection:\n",
    "    print(f\"Hash_id values in both train and test sets: {intersection}\")\n",
    "else:\n",
    "    print(\"There are no hash_id values in both train and test datasets. The datasplit was successful\")"
   ]
  },
  {
   "cell_type": "markdown",
   "id": "9e5b64d4",
   "metadata": {},
   "source": [
    "#### Check feature distribution of the Test dataset"
   ]
  },
  {
   "cell_type": "code",
   "execution_count": 16,
   "id": "a33ff5cb",
   "metadata": {},
   "outputs": [
    {
     "name": "stdout",
     "output_type": "stream",
     "text": [
      "Test dataset\n",
      "Test data healthy trees: 612\n",
      "Test data stressed trees: 429\n",
      "Test data dead trees: 15\n",
      "Test data pine trees: 278\n",
      "Test data spruces: 388\n",
      "--------------------------------------------------\n",
      "Remaining dataset\n",
      "Remaining data healthy trees: 9232\n",
      "Remaining data stressed trees: 6166\n",
      "Remaining data dead trees: 261\n",
      "Remaining data pine trees: 3960\n",
      "Remaining data spruces: 5833\n",
      "--------------------------------------------------\n"
     ]
    }
   ],
   "source": [
    "def count_occurrences(data, value):\n",
    "    count = 0\n",
    "    for item in data:\n",
    "        if item == value:\n",
    "            count += 1\n",
    "    return count\n",
    "\n",
    "print(\"Test dataset\")\n",
    "print(f\"Test data healthy trees: {count_occurrences(test_label_set, 0)}\")\n",
    "print(f\"Test data stressed trees: {count_occurrences(test_label_set, 1)}\")\n",
    "print(f\"Test data dead trees: {count_occurrences(test_label_set, 2)}\")\n",
    "print(f\"Test data pine trees: {count_occurrences(test_species_set, 134)}\")\n",
    "print(f\"Test data spruces: {count_occurrences(test_species_set, 118)}\")\n",
    "print(\"-\"*50)\n",
    "\n",
    "print(\"Remaining dataset\")\n",
    "print(f\"Remaining data healthy trees: {count_occurrences(sub_label_set, 0)}\")\n",
    "print(f\"Remaining data stressed trees: {count_occurrences(sub_label_set, 1)}\")\n",
    "print(f\"Remaining data dead trees: {count_occurrences(sub_label_set, 2)}\")\n",
    "print(f\"Remaining data pine trees: {count_occurrences(sub_species_set, 134)}\")\n",
    "print(f\"Remaining data spruces: {count_occurrences(sub_species_set, 118)}\")\n",
    "print(\"-\"*50)"
   ]
  },
  {
   "cell_type": "code",
   "execution_count": 17,
   "id": "e08fcf57",
   "metadata": {},
   "outputs": [],
   "source": [
    "# train transform with augmentation. \n",
    "transform_train = transforms.Compose([transforms.ToTensor(), transforms.RandomHorizontalFlip(p=0.5), transforms.RandomVerticalFlip(p=0.5),\n",
    "                                      transforms.RandomRotation(degrees=[0,360])])\n",
    "\n",
    "# test and val dataset transform without augmentation. \n",
    "transform = transforms.Compose([transforms.ToTensor()])\n",
    "\n",
    "# class names need to fit the customDataset class used e.g. 3 classes -> use CustomDataset3Classes\n",
    "#class_names = ['healthy', 'slightly_stressed', 'moderately_stressed', 'highly_stressed', 'dead']\n",
    "#class_names = ['healthy', 'moderately_stressed', 'highly_stressed', 'dead']\n",
    "class_names = ['healthy', 'stressed', 'dead']\n",
    "\n",
    "# set seeds\n",
    "g = torch.Generator()\n",
    "g.manual_seed(42)\n",
    "NUM_WORKERS=3 # should be changed, depending on the system used\n",
    "batch_size=32"
   ]
  },
  {
   "cell_type": "markdown",
   "id": "31779c05",
   "metadata": {},
   "source": [
    "#### Define variables and parameters"
   ]
  },
  {
   "cell_type": "code",
   "execution_count": 18,
   "id": "10ae4379",
   "metadata": {},
   "outputs": [
    {
     "name": "stdout",
     "output_type": "stream",
     "text": [
      "Memory allocated: 0 bytes\n"
     ]
    }
   ],
   "source": [
    "# 1. Define number of epochs\n",
    "epochs = 50\n",
    "n_bands = sub_image_set[0].shape[2] # get number of bands\n",
    "\n",
    "# 2. Define model\n",
    "num_classes = len(class_names)\n",
    "unfreeze = True # all layer weights get updated\n",
    "dropout_rate = 0.5 #define dropout rate\n",
    "model_name = \"EffNet_b7_RGB-NIR_3classes_lr005_gamma05_dropout05\"\n",
    "\n",
    "# 3. Define loss, optimizer and learning rate scheduler\n",
    "lr = 0.005 # define learning rate\n",
    "min_lr = 1e-6 # minimum learning rate threshold\n",
    "gamma = 0.5 # how fast the learning rate decreases per epoch (low number=faster decrease)\n",
    "patience = 10\n",
    "\n",
    "# 4. Create target folder name were to save the tensorboard event files\n",
    "experiment_name = 'RGB-NIR_3classes_v3_lr005_gamma05_dropout05'\n",
    "extra = \"new_classes_lr005_gamma05_dropout05\"\n",
    "\n",
    "#----------------------------------------------------------------------\n",
    "#torch.cuda.empty_cache()\n",
    "print(f\"Memory allocated: {torch.cuda.memory_allocated()} bytes\") \n",
    "\n"
   ]
  },
  {
   "cell_type": "markdown",
   "id": "09768b1a",
   "metadata": {},
   "source": [
    "#### Run k-Fold cross-validation on EfficientNet"
   ]
  },
  {
   "cell_type": "code",
   "execution_count": 19,
   "id": "9c29c81d",
   "metadata": {},
   "outputs": [
    {
     "name": "stdout",
     "output_type": "stream",
     "text": [
      "There are 5905 unique values within hash_id.\n",
      "\n"
     ]
    },
    {
     "data": {
      "text/html": [
       "Finishing last run (ID:td0r2mvg) before initializing another..."
      ],
      "text/plain": [
       "<IPython.core.display.HTML object>"
      ]
     },
     "metadata": {},
     "output_type": "display_data"
    },
    {
     "data": {
      "text/html": [
       "Waiting for W&B process to finish... <strong style=\"color:green\">(success).</strong>"
      ],
      "text/plain": [
       "<IPython.core.display.HTML object>"
      ]
     },
     "metadata": {},
     "output_type": "display_data"
    },
    {
     "data": {
      "application/vnd.jupyter.widget-view+json": {
       "model_id": "99a77308a7b74f80914cc30f7aff54f6",
       "version_major": 2,
       "version_minor": 0
      },
      "text/plain": [
       "VBox(children=(Label(value='0.001 MB of 0.001 MB uploaded (0.000 MB deduped)\\r'), FloatProgress(value=1.0, max…"
      ]
     },
     "metadata": {},
     "output_type": "display_data"
    },
    {
     "data": {
      "text/html": [
       " View run <strong style=\"color:#cdcd00\">ethereal-meadow-88</strong> at: <a href='https://wandb.ai/simon-ecke/wze-uav/runs/td0r2mvg' target=\"_blank\">https://wandb.ai/simon-ecke/wze-uav/runs/td0r2mvg</a><br/>Synced 5 W&B file(s), 0 media file(s), 0 artifact file(s) and 0 other file(s)"
      ],
      "text/plain": [
       "<IPython.core.display.HTML object>"
      ]
     },
     "metadata": {},
     "output_type": "display_data"
    },
    {
     "data": {
      "text/html": [
       "Find logs at: <code>.\\wandb\\run-20230416_235303-td0r2mvg\\logs</code>"
      ],
      "text/plain": [
       "<IPython.core.display.HTML object>"
      ]
     },
     "metadata": {},
     "output_type": "display_data"
    },
    {
     "data": {
      "text/html": [
       "Successfully finished last run (ID:td0r2mvg). Initializing new run:<br/>"
      ],
      "text/plain": [
       "<IPython.core.display.HTML object>"
      ]
     },
     "metadata": {},
     "output_type": "display_data"
    },
    {
     "data": {
      "application/vnd.jupyter.widget-view+json": {
       "model_id": "e758f89081bc485d89229e810db4e350",
       "version_major": 2,
       "version_minor": 0
      },
      "text/plain": [
       "VBox(children=(Label(value='Waiting for wandb.init()...\\r'), FloatProgress(value=0.016933333330477276, max=1.0…"
      ]
     },
     "metadata": {},
     "output_type": "display_data"
    },
    {
     "data": {
      "text/html": [
       "Tracking run with wandb version 0.14.2"
      ],
      "text/plain": [
       "<IPython.core.display.HTML object>"
      ]
     },
     "metadata": {},
     "output_type": "display_data"
    },
    {
     "data": {
      "text/html": [
       "Run data is saved locally in <code>C:\\Users\\lwfeckesim\\01_PyTorch\\wze-uav\\wze-uav-master\\wandb\\run-20230417_004056-6t91dz3n</code>"
      ],
      "text/plain": [
       "<IPython.core.display.HTML object>"
      ]
     },
     "metadata": {},
     "output_type": "display_data"
    },
    {
     "data": {
      "text/html": [
       "Syncing run <strong><a href='https://wandb.ai/simon-ecke/wze-uav/runs/6t91dz3n' target=\"_blank\">fold_1_new_classes_lr005_gamma05_dropout05</a></strong> to <a href='https://wandb.ai/simon-ecke/wze-uav' target=\"_blank\">Weights & Biases</a> (<a href='https://wandb.me/run' target=\"_blank\">docs</a>)<br/>"
      ],
      "text/plain": [
       "<IPython.core.display.HTML object>"
      ]
     },
     "metadata": {},
     "output_type": "display_data"
    },
    {
     "data": {
      "text/html": [
       " View project at <a href='https://wandb.ai/simon-ecke/wze-uav' target=\"_blank\">https://wandb.ai/simon-ecke/wze-uav</a>"
      ],
      "text/plain": [
       "<IPython.core.display.HTML object>"
      ]
     },
     "metadata": {},
     "output_type": "display_data"
    },
    {
     "data": {
      "text/html": [
       " View run at <a href='https://wandb.ai/simon-ecke/wze-uav/runs/6t91dz3n' target=\"_blank\">https://wandb.ai/simon-ecke/wze-uav/runs/6t91dz3n</a>"
      ],
      "text/plain": [
       "<IPython.core.display.HTML object>"
      ]
     },
     "metadata": {},
     "output_type": "display_data"
    },
    {
     "name": "stdout",
     "output_type": "stream",
     "text": [
      "Check shapes:\n",
      "\n",
      "Images train dataset: (12564, 250, 250, 4)\n",
      "Labels train dataset: (12564, 1)\n",
      "\n",
      "Images validation dataset: (1043, 250, 250, 4)\n",
      "Labels validation dataset: (1043, 1)\n",
      "\n",
      "--------------------------------------------------\n",
      "Check if the split was stratified: (random_state=42)\n",
      "Healthy trees in train dataset: 7401\n",
      "Stressed trees in train dataset: 4959\n",
      "Dead trees in train dataset: 204\n",
      "Healthy trees in validation dataset: 618\n",
      "Stressed trees in validation dataset: 404\n",
      "Dead trees in validation dataset: 21\n",
      "Ratio health trees in validation dataset: 0.06694107452339688\n",
      "Ratio stressed trees in validation dataset: 0.06552059682127798\n",
      "Ratio dead trees in validation dataset: 0.08045977011494253\n",
      "--------------------------------------------------\n",
      "\n",
      "Creating datasets for fold: 1\n",
      "\n",
      "Creating dataloaders for fold: 1\n",
      "\n",
      "Loaded pretrained weights for efficientnet-b7\n",
      "\n",
      "[INFO] Fold number: 1\n",
      "[INFO] Number of epochs: 50\n",
      "[INFO] Batch_size: 32\n",
      "[INFO] Number of bands: 4\n",
      "[INFO] Dropout rate: 0.5\n",
      "[INFO] Gamma learning rate: 0.5\n",
      "[INFO] Memory allocated: 0 bytes\n"
     ]
    },
    {
     "data": {
      "application/vnd.jupyter.widget-view+json": {
       "model_id": "abc3cc01f30a4375ae72be814049e11b",
       "version_major": 2,
       "version_minor": 0
      },
      "text/plain": [
       "  0%|          | 0/50 [00:00<?, ?it/s]"
      ]
     },
     "metadata": {},
     "output_type": "display_data"
    },
    {
     "name": "stdout",
     "output_type": "stream",
     "text": [
      "Epoch: 1 \n",
      "Learning rate: 0.005\n",
      "Train loss: 0.8101 | Train precision: 0.4656 | Train recall: 0.3957 | Train f1score: 0.4123 | Train acc: 0.5163 | Train kappa: 0.1133 \n",
      "Val loss: 13.3673 | Val precision: 0.3671 | Val recall: 0.4041 | Val f1score: 0.1335 | Val acc: 0.1377 | Val kappa: 0.0661 \n",
      "\n",
      "Epoch: 2 \n",
      "Learning rate: 0.0025\n",
      "Train loss: 0.6914 | Train precision: 0.6399 | Train recall: 0.6080 | Train f1score: 0.6226 | Train acc: 0.6189 | Train kappa: 0.3543 \n",
      "Val loss: 0.7169 | Val precision: 0.4099 | Val recall: 0.4196 | Val f1score: 0.4069 | Val acc: 0.6064 | Val kappa: 0.2713 \n",
      "\n",
      "Epoch: 3 \n",
      "Learning rate: 0.00125\n",
      "Train loss: 0.6545 | Train precision: 0.6806 | Train recall: 0.6679 | Train f1score: 0.6737 | Train acc: 0.6383 | Train kappa: 0.4054 \n",
      "Val loss: 0.6370 | Val precision: 0.6468 | Val recall: 0.6991 | Val f1score: 0.6281 | Val acc: 0.6455 | Val kappa: 0.3351 \n",
      "\n",
      "Epoch: 4 \n",
      "Learning rate: 0.000625\n",
      "Train loss: 0.6393 | Train precision: 0.7043 | Train recall: 0.6960 | Train f1score: 0.7000 | Train acc: 0.6493 | Train kappa: 0.4304 \n",
      "Val loss: 0.6387 | Val precision: 0.7182 | Val recall: 0.7065 | Val f1score: 0.7038 | Val acc: 0.6260 | Val kappa: 0.3562 \n",
      "\n",
      "Epoch: 5 \n",
      "Learning rate: 0.0003125\n",
      "Train loss: 0.6195 | Train precision: 0.7240 | Train recall: 0.7231 | Train f1score: 0.7234 | Train acc: 0.6629 | Train kappa: 0.4495 \n",
      "Val loss: 0.6879 | Val precision: 0.7518 | Val recall: 0.7283 | Val f1score: 0.7080 | Val acc: 0.6084 | Val kappa: 0.3459 \n",
      "\n",
      "Epoch: 6 \n",
      "Learning rate: 0.00015625\n",
      "Train loss: 0.6135 | Train precision: 0.7409 | Train recall: 0.7370 | Train f1score: 0.7386 | Train acc: 0.6693 | Train kappa: 0.4640 \n",
      "Val loss: 0.6383 | Val precision: 0.6264 | Val recall: 0.7298 | Val f1score: 0.6669 | Val acc: 0.6338 | Val kappa: 0.3704 \n",
      "\n",
      "Epoch: 7 \n",
      "Learning rate: 7.8125e-05\n",
      "Train loss: 0.6149 | Train precision: 0.7407 | Train recall: 0.7264 | Train f1score: 0.7333 | Train acc: 0.6700 | Train kappa: 0.4626 \n",
      "Val loss: 0.6287 | Val precision: 0.6942 | Val recall: 0.7104 | Val f1score: 0.6944 | Val acc: 0.6328 | Val kappa: 0.3665 \n",
      "\n",
      "Epoch: 8 \n",
      "Learning rate: 3.90625e-05\n",
      "Train loss: 0.6167 | Train precision: 0.7361 | Train recall: 0.7310 | Train f1score: 0.7329 | Train acc: 0.6648 | Train kappa: 0.4497 \n",
      "Val loss: 0.6153 | Val precision: 0.6922 | Val recall: 0.7081 | Val f1score: 0.6988 | Val acc: 0.6455 | Val kappa: 0.3765 \n",
      "\n",
      "Epoch: 9 \n",
      "Learning rate: 1.953125e-05\n",
      "Train loss: 0.6128 | Train precision: 0.7458 | Train recall: 0.7324 | Train f1score: 0.7388 | Train acc: 0.6691 | Train kappa: 0.4700 \n",
      "Val loss: 0.6217 | Val precision: 0.6950 | Val recall: 0.7117 | Val f1score: 0.6994 | Val acc: 0.6426 | Val kappa: 0.3774 \n",
      "\n",
      "Epoch: 10 \n",
      "Learning rate: 9.765625e-06\n",
      "Train loss: 0.6096 | Train precision: 0.7497 | Train recall: 0.7446 | Train f1score: 0.7468 | Train acc: 0.6727 | Train kappa: 0.4630 \n",
      "Val loss: 0.6217 | Val precision: 0.6976 | Val recall: 0.7276 | Val f1score: 0.7089 | Val acc: 0.6445 | Val kappa: 0.3814 \n",
      "\n",
      "Epoch: 11 \n",
      "Learning rate: 4.8828125e-06\n",
      "Train loss: 0.6001 | Train precision: 0.7405 | Train recall: 0.7404 | Train f1score: 0.7404 | Train acc: 0.6791 | Train kappa: 0.4832 \n",
      "Val loss: 0.6224 | Val precision: 0.6932 | Val recall: 0.7098 | Val f1score: 0.6982 | Val acc: 0.6416 | Val kappa: 0.3744 \n",
      "\n",
      "Epoch: 12 \n",
      "Learning rate: 2.44140625e-06\n",
      "Train loss: 0.6102 | Train precision: 0.7277 | Train recall: 0.7287 | Train f1score: 0.7278 | Train acc: 0.6681 | Train kappa: 0.4608 \n",
      "Val loss: 0.6235 | Val precision: 0.6953 | Val recall: 0.7120 | Val f1score: 0.6999 | Val acc: 0.6436 | Val kappa: 0.3786 \n",
      "\n",
      "Epoch: 13 \n",
      "Learning rate: 1.220703125e-06\n",
      "Train loss: 0.6049 | Train precision: 0.7488 | Train recall: 0.7304 | Train f1score: 0.7390 | Train acc: 0.6742 | Train kappa: 0.4721 \n",
      "Val loss: 0.6226 | Val precision: 0.6959 | Val recall: 0.7126 | Val f1score: 0.7009 | Val acc: 0.6455 | Val kappa: 0.3811 \n",
      "\n",
      "Epoch: 14 \n",
      "Learning rate: 6.103515625e-07\n",
      "Train loss: 0.6104 | Train precision: 0.7440 | Train recall: 0.7294 | Train f1score: 0.7363 | Train acc: 0.6700 | Train kappa: 0.4658 \n",
      "Val loss: 0.6195 | Val precision: 0.6938 | Val recall: 0.7103 | Val f1score: 0.6992 | Val acc: 0.6436 | Val kappa: 0.3769 \n",
      "\n",
      "Epoch: 15 \n",
      "Learning rate: 3.0517578125e-07\n",
      "Train loss: 0.6081 | Train precision: 0.7431 | Train recall: 0.7395 | Train f1score: 0.7411 | Train acc: 0.6735 | Train kappa: 0.4786 \n",
      "Val loss: 0.6209 | Val precision: 0.6997 | Val recall: 0.7298 | Val f1score: 0.7110 | Val acc: 0.6475 | Val kappa: 0.3865 \n",
      "\n",
      "Epoch: 16 \n",
      "Learning rate: 1.52587890625e-07\n",
      "Train loss: 0.6104 | Train precision: 0.7479 | Train recall: 0.7337 | Train f1score: 0.7406 | Train acc: 0.6737 | Train kappa: 0.4774 \n",
      "Val loss: 0.6199 | Val precision: 0.6982 | Val recall: 0.7281 | Val f1score: 0.7099 | Val acc: 0.6465 | Val kappa: 0.3838 \n",
      "\n",
      "Epoch: 17 \n",
      "Learning rate: 7.62939453125e-08\n",
      "Train loss: 0.6026 | Train precision: 0.7385 | Train recall: 0.7418 | Train f1score: 0.7400 | Train acc: 0.6735 | Train kappa: 0.4750 \n",
      "Val loss: 0.6203 | Val precision: 0.6943 | Val recall: 0.7109 | Val f1score: 0.6994 | Val acc: 0.6436 | Val kappa: 0.3775 \n",
      "\n",
      "Epoch: 18 \n",
      "Learning rate: 3.814697265625e-08\n",
      "Train loss: 0.6066 | Train precision: 0.7391 | Train recall: 0.7359 | Train f1score: 0.7374 | Train acc: 0.6717 | Train kappa: 0.4617 \n",
      "Val loss: 0.6232 | Val precision: 0.6959 | Val recall: 0.7259 | Val f1score: 0.7071 | Val acc: 0.6416 | Val kappa: 0.3768 \n",
      "\n",
      "Epoch: 19 \n",
      "Learning rate: 1.9073486328125e-08\n",
      "Train loss: 0.6071 | Train precision: 0.7327 | Train recall: 0.7324 | Train f1score: 0.7323 | Train acc: 0.6701 | Train kappa: 0.4554 \n",
      "Val loss: 0.6222 | Val precision: 0.6959 | Val recall: 0.7126 | Val f1score: 0.7009 | Val acc: 0.6455 | Val kappa: 0.3811 \n",
      "\n",
      "Epoch: 20 \n",
      "Learning rate: 9.5367431640625e-09\n",
      "Train loss: 0.6090 | Train precision: 0.7412 | Train recall: 0.7397 | Train f1score: 0.7403 | Train acc: 0.6710 | Train kappa: 0.4594 \n",
      "Val loss: 0.6231 | Val precision: 0.6975 | Val recall: 0.7276 | Val f1score: 0.7085 | Val acc: 0.6436 | Val kappa: 0.3804 \n",
      "\n",
      "Epoch: 21 \n",
      "Learning rate: 4.76837158203125e-09\n",
      "Train loss: 0.6080 | Train precision: 0.7467 | Train recall: 0.7368 | Train f1score: 0.7416 | Train acc: 0.6750 | Train kappa: 0.4743 \n",
      "Val loss: 0.6188 | Val precision: 0.6936 | Val recall: 0.7101 | Val f1score: 0.6991 | Val acc: 0.6436 | Val kappa: 0.3766 \n",
      "\n",
      "Epoch: 22 \n",
      "Learning rate: 2.384185791015625e-09\n",
      "Train loss: 0.6095 | Train precision: 0.7452 | Train recall: 0.7297 | Train f1score: 0.7370 | Train acc: 0.6728 | Train kappa: 0.4646 \n",
      "Val loss: 0.6207 | Val precision: 0.6938 | Val recall: 0.7104 | Val f1score: 0.6988 | Val acc: 0.6426 | Val kappa: 0.3759 \n",
      "\n",
      "Epoch: 23 \n",
      "Learning rate: 1.1920928955078125e-09\n",
      "Train loss: 0.6078 | Train precision: 0.7359 | Train recall: 0.7386 | Train f1score: 0.7371 | Train acc: 0.6696 | Train kappa: 0.4713 \n",
      "Val loss: 0.6231 | Val precision: 0.6978 | Val recall: 0.7279 | Val f1score: 0.7087 | Val acc: 0.6436 | Val kappa: 0.3807 \n",
      "\n",
      "Epoch: 24 \n",
      "Learning rate: 5.960464477539063e-10\n",
      "Train loss: 0.6072 | Train precision: 0.7375 | Train recall: 0.7366 | Train f1score: 0.7367 | Train acc: 0.6659 | Train kappa: 0.4546 \n",
      "Val loss: 0.6241 | Val precision: 0.6953 | Val recall: 0.7120 | Val f1score: 0.6999 | Val acc: 0.6436 | Val kappa: 0.3786 \n",
      "\n",
      "Epoch: 25 \n",
      "Learning rate: 2.9802322387695313e-10\n",
      "Train loss: 0.6075 | Train precision: 0.7365 | Train recall: 0.7377 | Train f1score: 0.7369 | Train acc: 0.6711 | Train kappa: 0.4761 \n",
      "Val loss: 0.6168 | Val precision: 0.6939 | Val recall: 0.7101 | Val f1score: 0.7001 | Val acc: 0.6465 | Val kappa: 0.3795 \n",
      "\n",
      "Early stopping after epoch 25\n"
     ]
    },
    {
     "data": {
      "text/html": [
       "Waiting for W&B process to finish... <strong style=\"color:green\">(success).</strong>"
      ],
      "text/plain": [
       "<IPython.core.display.HTML object>"
      ]
     },
     "metadata": {},
     "output_type": "display_data"
    },
    {
     "data": {
      "application/vnd.jupyter.widget-view+json": {
       "model_id": "b9ad775571664544b0b1b37b189b6d68",
       "version_major": 2,
       "version_minor": 0
      },
      "text/plain": [
       "VBox(children=(Label(value='0.001 MB of 0.001 MB uploaded (0.000 MB deduped)\\r'), FloatProgress(value=1.0, max…"
      ]
     },
     "metadata": {},
     "output_type": "display_data"
    },
    {
     "data": {
      "text/html": [
       "<style>\n",
       "    table.wandb td:nth-child(1) { padding: 0 10px; text-align: left ; width: auto;} td:nth-child(2) {text-align: left ; width: 100%}\n",
       "    .wandb-row { display: flex; flex-direction: row; flex-wrap: wrap; justify-content: flex-start; width: 100% }\n",
       "    .wandb-col { display: flex; flex-direction: column; flex-basis: 100%; flex: 1; padding: 10px; }\n",
       "    </style>\n",
       "<div class=\"wandb-row\"><div class=\"wandb-col\"><h3>Run history:</h3><br/><table class=\"wandb\"><tr><td>learning_rate</td><td>█▄▃▂▁▁▁▁▁▁▁▁▁▁▁▁▁▁▁▁▁▁▁▁▁</td></tr><tr><td>train_f1_score</td><td>▁▅▆▇█████████████████████</td></tr><tr><td>train_loss</td><td>█▄▃▂▂▁▁▂▁▁▁▁▁▁▁▁▁▁▁▁▁▁▁▁▁</td></tr><tr><td>val_f1_score</td><td>▁▄▇██▇███████████████████</td></tr><tr><td>val_loss</td><td>█▁▁▁▁▁▁▁▁▁▁▁▁▁▁▁▁▁▁▁▁▁▁▁▁</td></tr></table><br/></div><div class=\"wandb-col\"><h3>Run summary:</h3><br/><table class=\"wandb\"><tr><td>learning_rate</td><td>0.0</td></tr><tr><td>train_f1_score</td><td>0.73691</td></tr><tr><td>train_loss</td><td>0.60752</td></tr><tr><td>val_f1_score</td><td>0.70009</td></tr><tr><td>val_loss</td><td>0.61681</td></tr></table><br/></div></div>"
      ],
      "text/plain": [
       "<IPython.core.display.HTML object>"
      ]
     },
     "metadata": {},
     "output_type": "display_data"
    },
    {
     "data": {
      "text/html": [
       " View run <strong style=\"color:#cdcd00\">fold_1_new_classes_lr005_gamma05_dropout05</strong> at: <a href='https://wandb.ai/simon-ecke/wze-uav/runs/6t91dz3n' target=\"_blank\">https://wandb.ai/simon-ecke/wze-uav/runs/6t91dz3n</a><br/>Synced 5 W&B file(s), 0 media file(s), 0 artifact file(s) and 0 other file(s)"
      ],
      "text/plain": [
       "<IPython.core.display.HTML object>"
      ]
     },
     "metadata": {},
     "output_type": "display_data"
    },
    {
     "data": {
      "text/html": [
       "Find logs at: <code>.\\wandb\\run-20230417_004056-6t91dz3n\\logs</code>"
      ],
      "text/plain": [
       "<IPython.core.display.HTML object>"
      ]
     },
     "metadata": {},
     "output_type": "display_data"
    },
    {
     "name": "stdout",
     "output_type": "stream",
     "text": [
      "Deleting variables and emptying cache\n",
      "Memory allocated: 1046864896 bytes\n",
      "--------------------------------------------------\n",
      "\n"
     ]
    },
    {
     "data": {
      "text/html": [
       "Tracking run with wandb version 0.14.2"
      ],
      "text/plain": [
       "<IPython.core.display.HTML object>"
      ]
     },
     "metadata": {},
     "output_type": "display_data"
    },
    {
     "data": {
      "text/html": [
       "Run data is saved locally in <code>C:\\Users\\lwfeckesim\\01_PyTorch\\wze-uav\\wze-uav-master\\wandb\\run-20230417_025329-oz0jw7ay</code>"
      ],
      "text/plain": [
       "<IPython.core.display.HTML object>"
      ]
     },
     "metadata": {},
     "output_type": "display_data"
    },
    {
     "data": {
      "text/html": [
       "Syncing run <strong><a href='https://wandb.ai/simon-ecke/wze-uav/runs/oz0jw7ay' target=\"_blank\">fold_2_new_classes_lr005_gamma05_dropout05</a></strong> to <a href='https://wandb.ai/simon-ecke/wze-uav' target=\"_blank\">Weights & Biases</a> (<a href='https://wandb.me/run' target=\"_blank\">docs</a>)<br/>"
      ],
      "text/plain": [
       "<IPython.core.display.HTML object>"
      ]
     },
     "metadata": {},
     "output_type": "display_data"
    },
    {
     "data": {
      "text/html": [
       " View project at <a href='https://wandb.ai/simon-ecke/wze-uav' target=\"_blank\">https://wandb.ai/simon-ecke/wze-uav</a>"
      ],
      "text/plain": [
       "<IPython.core.display.HTML object>"
      ]
     },
     "metadata": {},
     "output_type": "display_data"
    },
    {
     "data": {
      "text/html": [
       " View run at <a href='https://wandb.ai/simon-ecke/wze-uav/runs/oz0jw7ay' target=\"_blank\">https://wandb.ai/simon-ecke/wze-uav/runs/oz0jw7ay</a>"
      ],
      "text/plain": [
       "<IPython.core.display.HTML object>"
      ]
     },
     "metadata": {},
     "output_type": "display_data"
    },
    {
     "name": "stdout",
     "output_type": "stream",
     "text": [
      "Check shapes:\n",
      "\n",
      "Images train dataset: (12489, 250, 250, 4)\n",
      "Labels train dataset: (12489, 1)\n",
      "\n",
      "Images validation dataset: (1056, 250, 250, 4)\n",
      "Labels validation dataset: (1056, 1)\n",
      "\n",
      "--------------------------------------------------\n",
      "Check if the split was stratified: (random_state=42)\n",
      "Healthy trees in train dataset: 7358\n",
      "Stressed trees in train dataset: 4926\n",
      "Dead trees in train dataset: 205\n",
      "Healthy trees in validation dataset: 627\n",
      "Stressed trees in validation dataset: 409\n",
      "Dead trees in validation dataset: 20\n",
      "Ratio health trees in validation dataset: 0.0679159445407279\n",
      "Ratio stressed trees in validation dataset: 0.06633149529678885\n",
      "Ratio dead trees in validation dataset: 0.07662835249042145\n",
      "--------------------------------------------------\n",
      "\n",
      "Creating datasets for fold: 2\n",
      "\n",
      "Creating dataloaders for fold: 2\n",
      "\n",
      "Loaded pretrained weights for efficientnet-b7\n",
      "\n",
      "[INFO] Fold number: 2\n",
      "[INFO] Number of epochs: 50\n",
      "[INFO] Batch_size: 32\n",
      "[INFO] Number of bands: 4\n",
      "[INFO] Dropout rate: 0.5\n",
      "[INFO] Gamma learning rate: 0.5\n",
      "[INFO] Memory allocated: 0 bytes\n"
     ]
    },
    {
     "data": {
      "application/vnd.jupyter.widget-view+json": {
       "model_id": "1e6bbe844e3142e48bbf9896a0b0292f",
       "version_major": 2,
       "version_minor": 0
      },
      "text/plain": [
       "  0%|          | 0/50 [00:00<?, ?it/s]"
      ]
     },
     "metadata": {},
     "output_type": "display_data"
    },
    {
     "name": "stdout",
     "output_type": "stream",
     "text": [
      "Epoch: 1 \n",
      "Learning rate: 0.005\n",
      "Train loss: 0.7991 | Train precision: 0.4681 | Train recall: 0.4088 | Train f1score: 0.4222 | Train acc: 0.5446 | Train kappa: 0.1503 \n",
      "Val loss: 1.8519 | Val precision: 0.1291 | Val recall: 0.3333 | Val f1score: 0.1861 | Val acc: 0.3873 | Val kappa: 0.0000 \n",
      "\n",
      "Epoch: 2 \n",
      "Learning rate: 0.0025\n",
      "Train loss: 0.6719 | Train precision: 0.6780 | Train recall: 0.6588 | Train f1score: 0.6676 | Train acc: 0.6300 | Train kappa: 0.3868 \n",
      "Val loss: 0.6330 | Val precision: 0.7697 | Val recall: 0.7093 | Val f1score: 0.7301 | Val acc: 0.6581 | Val kappa: 0.4031 \n",
      "\n",
      "Epoch: 3 \n",
      "Learning rate: 0.00125\n",
      "Train loss: 0.6456 | Train precision: 0.7127 | Train recall: 0.6933 | Train f1score: 0.7024 | Train acc: 0.6475 | Train kappa: 0.4221 \n",
      "Val loss: 0.8067 | Val precision: 0.4328 | Val recall: 0.3614 | Val f1score: 0.2540 | Val acc: 0.4413 | Val kappa: 0.0724 \n",
      "\n",
      "Epoch: 4 \n",
      "Learning rate: 0.000625\n",
      "Train loss: 0.6298 | Train precision: 0.7218 | Train recall: 0.7090 | Train f1score: 0.7151 | Train acc: 0.6518 | Train kappa: 0.4418 \n",
      "Val loss: 0.6923 | Val precision: 0.7320 | Val recall: 0.7422 | Val f1score: 0.6899 | Val acc: 0.5938 | Val kappa: 0.3406 \n",
      "\n",
      "Epoch: 5 \n",
      "Learning rate: 0.0003125\n",
      "Train loss: 0.6147 | Train precision: 0.7464 | Train recall: 0.7320 | Train f1score: 0.7385 | Train acc: 0.6677 | Train kappa: 0.4514 \n",
      "Val loss: 0.5979 | Val precision: 0.7263 | Val recall: 0.7565 | Val f1score: 0.7403 | Val acc: 0.6742 | Val kappa: 0.4317 \n",
      "\n",
      "Epoch: 6 \n",
      "Learning rate: 0.00015625\n",
      "Train loss: 0.6129 | Train precision: 0.7427 | Train recall: 0.7404 | Train f1score: 0.7414 | Train acc: 0.6743 | Train kappa: 0.4752 \n",
      "Val loss: 0.6000 | Val precision: 0.7437 | Val recall: 0.7624 | Val f1score: 0.7512 | Val acc: 0.6761 | Val kappa: 0.4373 \n",
      "\n",
      "Epoch: 7 \n",
      "Learning rate: 7.8125e-05\n",
      "Train loss: 0.6047 | Train precision: 0.7532 | Train recall: 0.7452 | Train f1score: 0.7488 | Train acc: 0.6809 | Train kappa: 0.4853 \n",
      "Val loss: 0.5946 | Val precision: 0.7474 | Val recall: 0.7661 | Val f1score: 0.7550 | Val acc: 0.6818 | Val kappa: 0.4469 \n",
      "\n",
      "Epoch: 8 \n",
      "Learning rate: 3.90625e-05\n",
      "Train loss: 0.6100 | Train precision: 0.7408 | Train recall: 0.7310 | Train f1score: 0.7356 | Train acc: 0.6678 | Train kappa: 0.4569 \n",
      "Val loss: 0.5969 | Val precision: 0.7479 | Val recall: 0.7675 | Val f1score: 0.7529 | Val acc: 0.6752 | Val kappa: 0.4413 \n",
      "\n",
      "Epoch: 9 \n",
      "Learning rate: 1.953125e-05\n",
      "Train loss: 0.6073 | Train precision: 0.7427 | Train recall: 0.7360 | Train f1score: 0.7390 | Train acc: 0.6680 | Train kappa: 0.4615 \n",
      "Val loss: 0.5932 | Val precision: 0.7510 | Val recall: 0.7699 | Val f1score: 0.7585 | Val acc: 0.6866 | Val kappa: 0.4555 \n",
      "\n",
      "Epoch: 10 \n",
      "Learning rate: 9.765625e-06\n",
      "Train loss: 0.6111 | Train precision: 0.7434 | Train recall: 0.7353 | Train f1score: 0.7389 | Train acc: 0.6742 | Train kappa: 0.4700 \n",
      "Val loss: 0.5917 | Val precision: 0.7484 | Val recall: 0.7669 | Val f1score: 0.7561 | Val acc: 0.6837 | Val kappa: 0.4496 \n",
      "\n",
      "Epoch: 11 \n",
      "Learning rate: 4.8828125e-06\n",
      "Train loss: 0.6020 | Train precision: 0.7432 | Train recall: 0.7528 | Train f1score: 0.7476 | Train acc: 0.6742 | Train kappa: 0.4761 \n",
      "Val loss: 0.5904 | Val precision: 0.7633 | Val recall: 0.7662 | Val f1score: 0.7642 | Val acc: 0.6866 | Val kappa: 0.4499 \n",
      "\n",
      "Epoch: 12 \n",
      "Learning rate: 2.44140625e-06\n",
      "Train loss: 0.6111 | Train precision: 0.7473 | Train recall: 0.7299 | Train f1score: 0.7380 | Train acc: 0.6688 | Train kappa: 0.4600 \n",
      "Val loss: 0.5914 | Val precision: 0.7465 | Val recall: 0.7644 | Val f1score: 0.7545 | Val acc: 0.6828 | Val kappa: 0.4462 \n",
      "\n",
      "Epoch: 13 \n",
      "Learning rate: 1.220703125e-06\n",
      "Train loss: 0.6029 | Train precision: 0.7549 | Train recall: 0.7355 | Train f1score: 0.7447 | Train acc: 0.6723 | Train kappa: 0.4633 \n",
      "Val loss: 0.5918 | Val precision: 0.7448 | Val recall: 0.7628 | Val f1score: 0.7527 | Val acc: 0.6799 | Val kappa: 0.4417 \n",
      "\n",
      "Epoch: 14 \n",
      "Learning rate: 6.103515625e-07\n",
      "Train loss: 0.6058 | Train precision: 0.7436 | Train recall: 0.7369 | Train f1score: 0.7398 | Train acc: 0.6714 | Train kappa: 0.4669 \n",
      "Val loss: 0.5920 | Val precision: 0.7500 | Val recall: 0.7685 | Val f1score: 0.7578 | Val acc: 0.6866 | Val kappa: 0.4542 \n",
      "\n",
      "Epoch: 15 \n",
      "Learning rate: 3.0517578125e-07\n",
      "Train loss: 0.6106 | Train precision: 0.7466 | Train recall: 0.7443 | Train f1score: 0.7453 | Train acc: 0.6739 | Train kappa: 0.4740 \n",
      "Val loss: 0.5918 | Val precision: 0.7485 | Val recall: 0.7669 | Val f1score: 0.7564 | Val acc: 0.6847 | Val kappa: 0.4506 \n",
      "\n",
      "Epoch: 16 \n",
      "Learning rate: 1.52587890625e-07\n",
      "Train loss: 0.6021 | Train precision: 0.7405 | Train recall: 0.7375 | Train f1score: 0.7388 | Train acc: 0.6735 | Train kappa: 0.4713 \n",
      "Val loss: 0.5916 | Val precision: 0.7454 | Val recall: 0.7633 | Val f1score: 0.7533 | Val acc: 0.6809 | Val kappa: 0.4432 \n",
      "\n",
      "Epoch: 17 \n",
      "Learning rate: 7.62939453125e-08\n",
      "Train loss: 0.6034 | Train precision: 0.7474 | Train recall: 0.7351 | Train f1score: 0.7410 | Train acc: 0.6737 | Train kappa: 0.4755 \n",
      "Val loss: 0.5906 | Val precision: 0.7466 | Val recall: 0.7641 | Val f1score: 0.7546 | Val acc: 0.6837 | Val kappa: 0.4469 \n",
      "\n",
      "Epoch: 18 \n",
      "Learning rate: 3.814697265625e-08\n",
      "Train loss: 0.6037 | Train precision: 0.7520 | Train recall: 0.7332 | Train f1score: 0.7420 | Train acc: 0.6740 | Train kappa: 0.4795 \n",
      "Val loss: 0.5926 | Val precision: 0.7472 | Val recall: 0.7655 | Val f1score: 0.7550 | Val acc: 0.6828 | Val kappa: 0.4473 \n",
      "\n",
      "Epoch: 19 \n",
      "Learning rate: 1.9073486328125e-08\n",
      "Train loss: 0.6102 | Train precision: 0.7412 | Train recall: 0.7377 | Train f1score: 0.7393 | Train acc: 0.6708 | Train kappa: 0.4717 \n",
      "Val loss: 0.5905 | Val precision: 0.7469 | Val recall: 0.7646 | Val f1score: 0.7549 | Val acc: 0.6837 | Val kappa: 0.4474 \n",
      "\n",
      "Epoch: 20 \n",
      "Learning rate: 9.5367431640625e-09\n",
      "Train loss: 0.6096 | Train precision: 0.7418 | Train recall: 0.7477 | Train f1score: 0.7446 | Train acc: 0.6693 | Train kappa: 0.4584 \n",
      "Val loss: 0.5921 | Val precision: 0.7448 | Val recall: 0.7628 | Val f1score: 0.7527 | Val acc: 0.6799 | Val kappa: 0.4417 \n",
      "\n",
      "Epoch: 21 \n",
      "Learning rate: 4.76837158203125e-09\n",
      "Train loss: 0.6071 | Train precision: 0.7437 | Train recall: 0.7334 | Train f1score: 0.7382 | Train acc: 0.6655 | Train kappa: 0.4658 \n",
      "Val loss: 0.5906 | Val precision: 0.7466 | Val recall: 0.7641 | Val f1score: 0.7546 | Val acc: 0.6837 | Val kappa: 0.4469 \n",
      "\n",
      "Early stopping after epoch 21\n"
     ]
    },
    {
     "data": {
      "text/html": [
       "Waiting for W&B process to finish... <strong style=\"color:green\">(success).</strong>"
      ],
      "text/plain": [
       "<IPython.core.display.HTML object>"
      ]
     },
     "metadata": {},
     "output_type": "display_data"
    },
    {
     "data": {
      "application/vnd.jupyter.widget-view+json": {
       "model_id": "e43c5bd599e7496882c388c8121be1f9",
       "version_major": 2,
       "version_minor": 0
      },
      "text/plain": [
       "VBox(children=(Label(value='0.001 MB of 0.001 MB uploaded (0.000 MB deduped)\\r'), FloatProgress(value=1.0, max…"
      ]
     },
     "metadata": {},
     "output_type": "display_data"
    },
    {
     "data": {
      "text/html": [
       "<style>\n",
       "    table.wandb td:nth-child(1) { padding: 0 10px; text-align: left ; width: auto;} td:nth-child(2) {text-align: left ; width: 100%}\n",
       "    .wandb-row { display: flex; flex-direction: row; flex-wrap: wrap; justify-content: flex-start; width: 100% }\n",
       "    .wandb-col { display: flex; flex-direction: column; flex-basis: 100%; flex: 1; padding: 10px; }\n",
       "    </style>\n",
       "<div class=\"wandb-row\"><div class=\"wandb-col\"><h3>Run history:</h3><br/><table class=\"wandb\"><tr><td>learning_rate</td><td>█▄▃▂▁▁▁▁▁▁▁▁▁▁▁▁▁▁▁▁▁</td></tr><tr><td>train_f1_score</td><td>▁▆▇▇█████████████████</td></tr><tr><td>train_loss</td><td>█▃▃▂▁▁▁▁▁▁▁▁▁▁▁▁▁▁▁▁▁</td></tr><tr><td>val_f1_score</td><td>▁█▂▇█████████████████</td></tr><tr><td>val_loss</td><td>█▁▂▂▁▁▁▁▁▁▁▁▁▁▁▁▁▁▁▁▁</td></tr></table><br/></div><div class=\"wandb-col\"><h3>Run summary:</h3><br/><table class=\"wandb\"><tr><td>learning_rate</td><td>0.0</td></tr><tr><td>train_f1_score</td><td>0.73821</td></tr><tr><td>train_loss</td><td>0.60713</td></tr><tr><td>val_f1_score</td><td>0.75458</td></tr><tr><td>val_loss</td><td>0.59056</td></tr></table><br/></div></div>"
      ],
      "text/plain": [
       "<IPython.core.display.HTML object>"
      ]
     },
     "metadata": {},
     "output_type": "display_data"
    },
    {
     "data": {
      "text/html": [
       " View run <strong style=\"color:#cdcd00\">fold_2_new_classes_lr005_gamma05_dropout05</strong> at: <a href='https://wandb.ai/simon-ecke/wze-uav/runs/oz0jw7ay' target=\"_blank\">https://wandb.ai/simon-ecke/wze-uav/runs/oz0jw7ay</a><br/>Synced 5 W&B file(s), 0 media file(s), 0 artifact file(s) and 0 other file(s)"
      ],
      "text/plain": [
       "<IPython.core.display.HTML object>"
      ]
     },
     "metadata": {},
     "output_type": "display_data"
    },
    {
     "data": {
      "text/html": [
       "Find logs at: <code>.\\wandb\\run-20230417_025329-oz0jw7ay\\logs</code>"
      ],
      "text/plain": [
       "<IPython.core.display.HTML object>"
      ]
     },
     "metadata": {},
     "output_type": "display_data"
    },
    {
     "name": "stdout",
     "output_type": "stream",
     "text": [
      "Deleting variables and emptying cache\n",
      "Memory allocated: 1053492224 bytes\n",
      "--------------------------------------------------\n",
      "\n"
     ]
    },
    {
     "data": {
      "text/html": [
       "Tracking run with wandb version 0.14.2"
      ],
      "text/plain": [
       "<IPython.core.display.HTML object>"
      ]
     },
     "metadata": {},
     "output_type": "display_data"
    },
    {
     "data": {
      "text/html": [
       "Run data is saved locally in <code>C:\\Users\\lwfeckesim\\01_PyTorch\\wze-uav\\wze-uav-master\\wandb\\run-20230417_044428-cavylhsh</code>"
      ],
      "text/plain": [
       "<IPython.core.display.HTML object>"
      ]
     },
     "metadata": {},
     "output_type": "display_data"
    },
    {
     "data": {
      "text/html": [
       "Syncing run <strong><a href='https://wandb.ai/simon-ecke/wze-uav/runs/cavylhsh' target=\"_blank\">fold_3_new_classes_lr005_gamma05_dropout05</a></strong> to <a href='https://wandb.ai/simon-ecke/wze-uav' target=\"_blank\">Weights & Biases</a> (<a href='https://wandb.me/run' target=\"_blank\">docs</a>)<br/>"
      ],
      "text/plain": [
       "<IPython.core.display.HTML object>"
      ]
     },
     "metadata": {},
     "output_type": "display_data"
    },
    {
     "data": {
      "text/html": [
       " View project at <a href='https://wandb.ai/simon-ecke/wze-uav' target=\"_blank\">https://wandb.ai/simon-ecke/wze-uav</a>"
      ],
      "text/plain": [
       "<IPython.core.display.HTML object>"
      ]
     },
     "metadata": {},
     "output_type": "display_data"
    },
    {
     "data": {
      "text/html": [
       " View run at <a href='https://wandb.ai/simon-ecke/wze-uav/runs/cavylhsh' target=\"_blank\">https://wandb.ai/simon-ecke/wze-uav/runs/cavylhsh</a>"
      ],
      "text/plain": [
       "<IPython.core.display.HTML object>"
      ]
     },
     "metadata": {},
     "output_type": "display_data"
    },
    {
     "name": "stdout",
     "output_type": "stream",
     "text": [
      "Check shapes:\n",
      "\n",
      "Images train dataset: (12563, 250, 250, 4)\n",
      "Labels train dataset: (12563, 1)\n",
      "\n",
      "Images validation dataset: (1027, 250, 250, 4)\n",
      "Labels validation dataset: (1027, 1)\n",
      "\n",
      "--------------------------------------------------\n",
      "Check if the split was stratified: (random_state=42)\n",
      "Healthy trees in train dataset: 7393\n",
      "Stressed trees in train dataset: 4955\n",
      "Dead trees in train dataset: 215\n",
      "Healthy trees in validation dataset: 608\n",
      "Stressed trees in validation dataset: 406\n",
      "Dead trees in validation dataset: 13\n",
      "Ratio health trees in validation dataset: 0.0658578856152513\n",
      "Ratio stressed trees in validation dataset: 0.06584495621148233\n",
      "Ratio dead trees in validation dataset: 0.04980842911877394\n",
      "--------------------------------------------------\n",
      "\n",
      "Creating datasets for fold: 3\n",
      "\n",
      "Creating dataloaders for fold: 3\n",
      "\n",
      "Loaded pretrained weights for efficientnet-b7\n",
      "\n",
      "[INFO] Fold number: 3\n",
      "[INFO] Number of epochs: 50\n",
      "[INFO] Batch_size: 32\n",
      "[INFO] Number of bands: 4\n",
      "[INFO] Dropout rate: 0.5\n",
      "[INFO] Gamma learning rate: 0.5\n",
      "[INFO] Memory allocated: 0 bytes\n"
     ]
    },
    {
     "data": {
      "application/vnd.jupyter.widget-view+json": {
       "model_id": "a7d869cbea9749eeb720c3d766d91828",
       "version_major": 2,
       "version_minor": 0
      },
      "text/plain": [
       "  0%|          | 0/50 [00:00<?, ?it/s]"
      ]
     },
     "metadata": {},
     "output_type": "display_data"
    },
    {
     "name": "stdout",
     "output_type": "stream",
     "text": [
      "Epoch: 1 \n",
      "Learning rate: 0.005\n",
      "Train loss: 0.8218 | Train precision: 0.4724 | Train recall: 0.3954 | Train f1score: 0.4137 | Train acc: 0.5104 | Train kappa: 0.1005 \n",
      "Val loss: 0.7939 | Val precision: 0.3530 | Val recall: 0.3559 | Val f1score: 0.3532 | Val acc: 0.5557 | Val kappa: 0.0487 \n",
      "\n",
      "Epoch: 2 \n",
      "Learning rate: 0.0025\n",
      "Train loss: 0.7164 | Train precision: 0.6170 | Train recall: 0.5741 | Train f1score: 0.5926 | Train acc: 0.5823 | Train kappa: 0.2979 \n",
      "Val loss: 0.6851 | Val precision: 0.6339 | Val recall: 0.5252 | Val f1score: 0.5629 | Val acc: 0.6133 | Val kappa: 0.2479 \n",
      "\n",
      "Epoch: 3 \n",
      "Learning rate: 0.00125\n",
      "Train loss: 0.6636 | Train precision: 0.6945 | Train recall: 0.6710 | Train f1score: 0.6820 | Train acc: 0.6257 | Train kappa: 0.3946 \n",
      "Val loss: 0.6625 | Val precision: 0.5707 | Val recall: 0.6504 | Val f1score: 0.6012 | Val acc: 0.6377 | Val kappa: 0.3480 \n",
      "\n",
      "Epoch: 4 \n",
      "Learning rate: 0.000625\n",
      "Train loss: 0.6340 | Train precision: 0.7213 | Train recall: 0.7105 | Train f1score: 0.7157 | Train acc: 0.6589 | Train kappa: 0.4475 \n",
      "Val loss: 0.6329 | Val precision: 0.6074 | Val recall: 0.6248 | Val f1score: 0.6114 | Val acc: 0.6611 | Val kappa: 0.3547 \n",
      "\n",
      "Epoch: 5 \n",
      "Learning rate: 0.0003125\n",
      "Train loss: 0.6309 | Train precision: 0.7288 | Train recall: 0.7145 | Train f1score: 0.7213 | Train acc: 0.6577 | Train kappa: 0.4465 \n",
      "Val loss: 0.6242 | Val precision: 0.6735 | Val recall: 0.6243 | Val f1score: 0.6436 | Val acc: 0.6670 | Val kappa: 0.3853 \n",
      "\n",
      "Epoch: 6 \n",
      "Learning rate: 0.00015625\n",
      "Train loss: 0.6210 | Train precision: 0.7349 | Train recall: 0.7226 | Train f1score: 0.7284 | Train acc: 0.6608 | Train kappa: 0.4593 \n",
      "Val loss: 0.6514 | Val precision: 0.7179 | Val recall: 0.6725 | Val f1score: 0.6701 | Val acc: 0.6318 | Val kappa: 0.3537 \n",
      "\n",
      "Epoch: 7 \n",
      "Learning rate: 7.8125e-05\n",
      "Train loss: 0.6136 | Train precision: 0.7422 | Train recall: 0.7250 | Train f1score: 0.7332 | Train acc: 0.6679 | Train kappa: 0.4604 \n",
      "Val loss: 0.6105 | Val precision: 0.6489 | Val recall: 0.6983 | Val f1score: 0.6703 | Val acc: 0.6699 | Val kappa: 0.4014 \n",
      "\n",
      "Epoch: 8 \n",
      "Learning rate: 3.90625e-05\n",
      "Train loss: 0.6089 | Train precision: 0.7485 | Train recall: 0.7392 | Train f1score: 0.7438 | Train acc: 0.6698 | Train kappa: 0.4660 \n",
      "Val loss: 0.6210 | Val precision: 0.6372 | Val recall: 0.6830 | Val f1score: 0.6551 | Val acc: 0.6768 | Val kappa: 0.4198 \n",
      "\n",
      "Epoch: 9 \n",
      "Learning rate: 1.953125e-05\n",
      "Train loss: 0.6185 | Train precision: 0.7409 | Train recall: 0.7280 | Train f1score: 0.7342 | Train acc: 0.6638 | Train kappa: 0.4538 \n",
      "Val loss: 0.6135 | Val precision: 0.6795 | Val recall: 0.6835 | Val f1score: 0.6789 | Val acc: 0.6777 | Val kappa: 0.4142 \n",
      "\n",
      "Epoch: 10 \n",
      "Learning rate: 9.765625e-06\n",
      "Train loss: 0.6151 | Train precision: 0.7485 | Train recall: 0.7291 | Train f1score: 0.7382 | Train acc: 0.6693 | Train kappa: 0.4703 \n",
      "Val loss: 0.6176 | Val precision: 0.6615 | Val recall: 0.6816 | Val f1score: 0.6674 | Val acc: 0.6719 | Val kappa: 0.4086 \n",
      "\n",
      "Epoch: 11 \n",
      "Learning rate: 4.8828125e-06\n",
      "Train loss: 0.6089 | Train precision: 0.7447 | Train recall: 0.7421 | Train f1score: 0.7430 | Train acc: 0.6728 | Train kappa: 0.4694 \n",
      "Val loss: 0.6187 | Val precision: 0.6786 | Val recall: 0.6827 | Val f1score: 0.6766 | Val acc: 0.6729 | Val kappa: 0.4085 \n",
      "\n",
      "Epoch: 12 \n",
      "Learning rate: 2.44140625e-06\n",
      "Train loss: 0.6156 | Train precision: 0.7353 | Train recall: 0.7284 | Train f1score: 0.7312 | Train acc: 0.6647 | Train kappa: 0.4541 \n",
      "Val loss: 0.6185 | Val precision: 0.6809 | Val recall: 0.6851 | Val f1score: 0.6787 | Val acc: 0.6758 | Val kappa: 0.4143 \n",
      "\n",
      "Epoch: 13 \n",
      "Learning rate: 1.220703125e-06\n",
      "Train loss: 0.6096 | Train precision: 0.7470 | Train recall: 0.7333 | Train f1score: 0.7398 | Train acc: 0.6704 | Train kappa: 0.4644 \n",
      "Val loss: 0.6165 | Val precision: 0.6791 | Val recall: 0.6832 | Val f1score: 0.6772 | Val acc: 0.6738 | Val kappa: 0.4101 \n",
      "\n",
      "Epoch: 14 \n",
      "Learning rate: 6.103515625e-07\n",
      "Train loss: 0.6107 | Train precision: 0.7411 | Train recall: 0.7322 | Train f1score: 0.7363 | Train acc: 0.6696 | Train kappa: 0.4673 \n",
      "Val loss: 0.6161 | Val precision: 0.6813 | Val recall: 0.6854 | Val f1score: 0.6801 | Val acc: 0.6787 | Val kappa: 0.4175 \n",
      "\n",
      "Epoch: 15 \n",
      "Learning rate: 3.0517578125e-07\n",
      "Train loss: 0.6102 | Train precision: 0.7529 | Train recall: 0.7322 | Train f1score: 0.7420 | Train acc: 0.6678 | Train kappa: 0.4662 \n",
      "Val loss: 0.6134 | Val precision: 0.6806 | Val recall: 0.6846 | Val f1score: 0.6801 | Val acc: 0.6797 | Val kappa: 0.4175 \n",
      "\n",
      "Epoch: 16 \n",
      "Learning rate: 1.52587890625e-07\n",
      "Train loss: 0.6042 | Train precision: 0.7485 | Train recall: 0.7401 | Train f1score: 0.7439 | Train acc: 0.6760 | Train kappa: 0.4794 \n",
      "Val loss: 0.6163 | Val precision: 0.6810 | Val recall: 0.6852 | Val f1score: 0.6800 | Val acc: 0.6787 | Val kappa: 0.4172 \n",
      "\n",
      "Epoch: 17 \n",
      "Learning rate: 7.62939453125e-08\n",
      "Train loss: 0.6192 | Train precision: 0.7353 | Train recall: 0.7268 | Train f1score: 0.7309 | Train acc: 0.6661 | Train kappa: 0.4635 \n",
      "Val loss: 0.6143 | Val precision: 0.6792 | Val recall: 0.6832 | Val f1score: 0.6784 | Val acc: 0.6768 | Val kappa: 0.4130 \n",
      "\n",
      "Epoch: 18 \n",
      "Learning rate: 3.814697265625e-08\n",
      "Train loss: 0.6060 | Train precision: 0.7441 | Train recall: 0.7369 | Train f1score: 0.7402 | Train acc: 0.6728 | Train kappa: 0.4690 \n",
      "Val loss: 0.6143 | Val precision: 0.6808 | Val recall: 0.6849 | Val f1score: 0.6799 | Val acc: 0.6787 | Val kappa: 0.4168 \n",
      "\n",
      "Epoch: 19 \n",
      "Learning rate: 1.9073486328125e-08\n",
      "Train loss: 0.6118 | Train precision: 0.7344 | Train recall: 0.7341 | Train f1score: 0.7336 | Train acc: 0.6681 | Train kappa: 0.4672 \n",
      "Val loss: 0.6166 | Val precision: 0.6799 | Val recall: 0.6840 | Val f1score: 0.6783 | Val acc: 0.6758 | Val kappa: 0.4130 \n",
      "\n",
      "Epoch: 20 \n",
      "Learning rate: 9.5367431640625e-09\n",
      "Train loss: 0.6080 | Train precision: 0.7417 | Train recall: 0.7435 | Train f1score: 0.7423 | Train acc: 0.6767 | Train kappa: 0.4683 \n",
      "Val loss: 0.6169 | Val precision: 0.6786 | Val recall: 0.6827 | Val f1score: 0.6770 | Val acc: 0.6738 | Val kappa: 0.4094 \n",
      "\n",
      "Epoch: 21 \n",
      "Learning rate: 4.76837158203125e-09\n",
      "Train loss: 0.6134 | Train precision: 0.7446 | Train recall: 0.7250 | Train f1score: 0.7342 | Train acc: 0.6663 | Train kappa: 0.4608 \n",
      "Val loss: 0.6151 | Val precision: 0.6795 | Val recall: 0.6835 | Val f1score: 0.6785 | Val acc: 0.6768 | Val kappa: 0.4133 \n",
      "\n",
      "Epoch: 22 \n",
      "Learning rate: 2.384185791015625e-09\n",
      "Train loss: 0.6086 | Train precision: 0.7500 | Train recall: 0.7347 | Train f1score: 0.7420 | Train acc: 0.6702 | Train kappa: 0.4693 \n",
      "Val loss: 0.6157 | Val precision: 0.6778 | Val recall: 0.6819 | Val f1score: 0.6767 | Val acc: 0.6738 | Val kappa: 0.4085 \n",
      "\n",
      "Epoch: 23 \n",
      "Learning rate: 1.1920928955078125e-09\n",
      "Train loss: 0.6075 | Train precision: 0.7462 | Train recall: 0.7337 | Train f1score: 0.7392 | Train acc: 0.6725 | Train kappa: 0.4780 \n",
      "Val loss: 0.6182 | Val precision: 0.6788 | Val recall: 0.6829 | Val f1score: 0.6767 | Val acc: 0.6729 | Val kappa: 0.4088 \n",
      "\n",
      "Epoch: 24 \n",
      "Learning rate: 5.960464477539063e-10\n",
      "Train loss: 0.6123 | Train precision: 0.7519 | Train recall: 0.7308 | Train f1score: 0.7406 | Train acc: 0.6709 | Train kappa: 0.4698 \n",
      "Val loss: 0.6175 | Val precision: 0.6778 | Val recall: 0.6818 | Val f1score: 0.6758 | Val acc: 0.6719 | Val kappa: 0.4066 \n",
      "\n",
      "Epoch: 25 \n",
      "Learning rate: 2.9802322387695313e-10\n",
      "Train loss: 0.6115 | Train precision: 0.7487 | Train recall: 0.7349 | Train f1score: 0.7413 | Train acc: 0.6714 | Train kappa: 0.4657 \n",
      "Val loss: 0.6164 | Val precision: 0.6795 | Val recall: 0.6835 | Val f1score: 0.6785 | Val acc: 0.6768 | Val kappa: 0.4133 \n",
      "\n",
      "Early stopping after epoch 25\n"
     ]
    },
    {
     "data": {
      "text/html": [
       "Waiting for W&B process to finish... <strong style=\"color:green\">(success).</strong>"
      ],
      "text/plain": [
       "<IPython.core.display.HTML object>"
      ]
     },
     "metadata": {},
     "output_type": "display_data"
    },
    {
     "data": {
      "text/html": [
       "<style>\n",
       "    table.wandb td:nth-child(1) { padding: 0 10px; text-align: left ; width: auto;} td:nth-child(2) {text-align: left ; width: 100%}\n",
       "    .wandb-row { display: flex; flex-direction: row; flex-wrap: wrap; justify-content: flex-start; width: 100% }\n",
       "    .wandb-col { display: flex; flex-direction: column; flex-basis: 100%; flex: 1; padding: 10px; }\n",
       "    </style>\n",
       "<div class=\"wandb-row\"><div class=\"wandb-col\"><h3>Run history:</h3><br/><table class=\"wandb\"><tr><td>learning_rate</td><td>█▄▃▂▁▁▁▁▁▁▁▁▁▁▁▁▁▁▁▁▁▁▁▁▁</td></tr><tr><td>train_f1_score</td><td>▁▅▇▇█████████████████████</td></tr><tr><td>train_loss</td><td>█▅▃▂▂▂▁▁▁▁▁▁▁▁▁▁▁▁▁▁▁▁▁▁▁</td></tr><tr><td>val_f1_score</td><td>▁▅▆▇▇██▇█████████████████</td></tr><tr><td>val_loss</td><td>█▄▃▂▂▃▁▁▁▁▁▁▁▁▁▁▁▁▁▁▁▁▁▁▁</td></tr></table><br/></div><div class=\"wandb-col\"><h3>Run summary:</h3><br/><table class=\"wandb\"><tr><td>learning_rate</td><td>0.0</td></tr><tr><td>train_f1_score</td><td>0.7413</td></tr><tr><td>train_loss</td><td>0.61154</td></tr><tr><td>val_f1_score</td><td>0.67852</td></tr><tr><td>val_loss</td><td>0.61643</td></tr></table><br/></div></div>"
      ],
      "text/plain": [
       "<IPython.core.display.HTML object>"
      ]
     },
     "metadata": {},
     "output_type": "display_data"
    },
    {
     "data": {
      "text/html": [
       " View run <strong style=\"color:#cdcd00\">fold_3_new_classes_lr005_gamma05_dropout05</strong> at: <a href='https://wandb.ai/simon-ecke/wze-uav/runs/cavylhsh' target=\"_blank\">https://wandb.ai/simon-ecke/wze-uav/runs/cavylhsh</a><br/>Synced 5 W&B file(s), 0 media file(s), 0 artifact file(s) and 0 other file(s)"
      ],
      "text/plain": [
       "<IPython.core.display.HTML object>"
      ]
     },
     "metadata": {},
     "output_type": "display_data"
    },
    {
     "data": {
      "text/html": [
       "Find logs at: <code>.\\wandb\\run-20230417_044428-cavylhsh\\logs</code>"
      ],
      "text/plain": [
       "<IPython.core.display.HTML object>"
      ]
     },
     "metadata": {},
     "output_type": "display_data"
    },
    {
     "name": "stdout",
     "output_type": "stream",
     "text": [
      "Deleting variables and emptying cache\n",
      "Memory allocated: 1055169536 bytes\n",
      "--------------------------------------------------\n",
      "\n"
     ]
    },
    {
     "data": {
      "text/html": [
       "Tracking run with wandb version 0.14.2"
      ],
      "text/plain": [
       "<IPython.core.display.HTML object>"
      ]
     },
     "metadata": {},
     "output_type": "display_data"
    },
    {
     "data": {
      "text/html": [
       "Run data is saved locally in <code>C:\\Users\\lwfeckesim\\01_PyTorch\\wze-uav\\wze-uav-master\\wandb\\run-20230417_065658-f7z7f0wc</code>"
      ],
      "text/plain": [
       "<IPython.core.display.HTML object>"
      ]
     },
     "metadata": {},
     "output_type": "display_data"
    },
    {
     "data": {
      "text/html": [
       "Syncing run <strong><a href='https://wandb.ai/simon-ecke/wze-uav/runs/f7z7f0wc' target=\"_blank\">fold_4_new_classes_lr005_gamma05_dropout05</a></strong> to <a href='https://wandb.ai/simon-ecke/wze-uav' target=\"_blank\">Weights & Biases</a> (<a href='https://wandb.me/run' target=\"_blank\">docs</a>)<br/>"
      ],
      "text/plain": [
       "<IPython.core.display.HTML object>"
      ]
     },
     "metadata": {},
     "output_type": "display_data"
    },
    {
     "data": {
      "text/html": [
       " View project at <a href='https://wandb.ai/simon-ecke/wze-uav' target=\"_blank\">https://wandb.ai/simon-ecke/wze-uav</a>"
      ],
      "text/plain": [
       "<IPython.core.display.HTML object>"
      ]
     },
     "metadata": {},
     "output_type": "display_data"
    },
    {
     "data": {
      "text/html": [
       " View run at <a href='https://wandb.ai/simon-ecke/wze-uav/runs/f7z7f0wc' target=\"_blank\">https://wandb.ai/simon-ecke/wze-uav/runs/f7z7f0wc</a>"
      ],
      "text/plain": [
       "<IPython.core.display.HTML object>"
      ]
     },
     "metadata": {},
     "output_type": "display_data"
    },
    {
     "name": "stdout",
     "output_type": "stream",
     "text": [
      "Check shapes:\n",
      "\n",
      "Images train dataset: (12498, 250, 250, 4)\n",
      "Labels train dataset: (12498, 1)\n",
      "\n",
      "Images validation dataset: (1065, 250, 250, 4)\n",
      "Labels validation dataset: (1065, 1)\n",
      "\n",
      "--------------------------------------------------\n",
      "Check if the split was stratified: (random_state=42)\n",
      "Healthy trees in train dataset: 7407\n",
      "Stressed trees in train dataset: 4870\n",
      "Dead trees in train dataset: 221\n",
      "Healthy trees in validation dataset: 620\n",
      "Stressed trees in validation dataset: 431\n",
      "Dead trees in validation dataset: 14\n",
      "Ratio health trees in validation dataset: 0.067157712305026\n",
      "Ratio stressed trees in validation dataset: 0.06989944858903666\n",
      "Ratio dead trees in validation dataset: 0.05363984674329502\n",
      "--------------------------------------------------\n",
      "\n",
      "Creating datasets for fold: 4\n",
      "\n",
      "Creating dataloaders for fold: 4\n",
      "\n",
      "Loaded pretrained weights for efficientnet-b7\n",
      "\n",
      "[INFO] Fold number: 4\n",
      "[INFO] Number of epochs: 50\n",
      "[INFO] Batch_size: 32\n",
      "[INFO] Number of bands: 4\n",
      "[INFO] Dropout rate: 0.5\n",
      "[INFO] Gamma learning rate: 0.5\n",
      "[INFO] Memory allocated: 0 bytes\n"
     ]
    },
    {
     "data": {
      "application/vnd.jupyter.widget-view+json": {
       "model_id": "b80cee2eea8544b888dc328e8d4affd0",
       "version_major": 2,
       "version_minor": 0
      },
      "text/plain": [
       "  0%|          | 0/50 [00:00<?, ?it/s]"
      ]
     },
     "metadata": {},
     "output_type": "display_data"
    },
    {
     "name": "stdout",
     "output_type": "stream",
     "text": [
      "Epoch: 1 \n",
      "Learning rate: 0.005\n",
      "Train loss: 0.8069 | Train precision: 0.4914 | Train recall: 0.4433 | Train f1score: 0.4605 | Train acc: 0.5370 | Train kappa: 0.1886 \n",
      "Val loss: 0.9314 | Val precision: 0.4160 | Val recall: 0.3810 | Val f1score: 0.3235 | Val acc: 0.5814 | Val kappa: 0.0300 \n",
      "\n",
      "Epoch: 2 \n",
      "Learning rate: 0.0025\n",
      "Train loss: 0.6894 | Train precision: 0.6321 | Train recall: 0.6094 | Train f1score: 0.6195 | Train acc: 0.6195 | Train kappa: 0.3795 \n",
      "Val loss: 0.6453 | Val precision: 0.6968 | Val recall: 0.6800 | Val f1score: 0.6783 | Val acc: 0.6487 | Val kappa: 0.3744 \n",
      "\n",
      "Epoch: 3 \n",
      "Learning rate: 0.00125\n",
      "Train loss: 0.6520 | Train precision: 0.6912 | Train recall: 0.6873 | Train f1score: 0.6891 | Train acc: 0.6376 | Train kappa: 0.4146 \n",
      "Val loss: 0.6287 | Val precision: 0.6101 | Val recall: 0.7602 | Val f1score: 0.6618 | Val acc: 0.6525 | Val kappa: 0.3829 \n",
      "\n",
      "Epoch: 4 \n",
      "Learning rate: 0.000625\n",
      "Train loss: 0.6421 | Train precision: 0.7008 | Train recall: 0.6955 | Train f1score: 0.6978 | Train acc: 0.6413 | Train kappa: 0.4247 \n",
      "Val loss: 0.6072 | Val precision: 0.6427 | Val recall: 0.7770 | Val f1score: 0.6916 | Val acc: 0.6809 | Val kappa: 0.4198 \n",
      "\n",
      "Epoch: 5 \n",
      "Learning rate: 0.0003125\n",
      "Train loss: 0.6291 | Train precision: 0.7229 | Train recall: 0.7129 | Train f1score: 0.7174 | Train acc: 0.6598 | Train kappa: 0.4521 \n",
      "Val loss: 0.5927 | Val precision: 0.6672 | Val recall: 0.7361 | Val f1score: 0.6952 | Val acc: 0.6951 | Val kappa: 0.4400 \n",
      "\n",
      "Epoch: 6 \n",
      "Learning rate: 0.00015625\n",
      "Train loss: 0.6254 | Train precision: 0.7187 | Train recall: 0.7118 | Train f1score: 0.7152 | Train acc: 0.6553 | Train kappa: 0.4481 \n",
      "Val loss: 0.5857 | Val precision: 0.7111 | Val recall: 0.7788 | Val f1score: 0.7393 | Val acc: 0.6903 | Val kappa: 0.4285 \n",
      "\n",
      "Epoch: 7 \n",
      "Learning rate: 7.8125e-05\n",
      "Train loss: 0.6146 | Train precision: 0.7335 | Train recall: 0.7293 | Train f1score: 0.7308 | Train acc: 0.6667 | Train kappa: 0.4600 \n",
      "Val loss: 0.6025 | Val precision: 0.6673 | Val recall: 0.7778 | Val f1score: 0.7107 | Val acc: 0.6742 | Val kappa: 0.4126 \n",
      "\n",
      "Epoch: 8 \n",
      "Learning rate: 3.90625e-05\n",
      "Train loss: 0.6239 | Train precision: 0.7301 | Train recall: 0.7163 | Train f1score: 0.7227 | Train acc: 0.6558 | Train kappa: 0.4540 \n",
      "Val loss: 0.5955 | Val precision: 0.6767 | Val recall: 0.7817 | Val f1score: 0.7176 | Val acc: 0.6922 | Val kappa: 0.4351 \n",
      "\n",
      "Epoch: 9 \n",
      "Learning rate: 1.953125e-05\n",
      "Train loss: 0.6165 | Train precision: 0.7316 | Train recall: 0.7222 | Train f1score: 0.7266 | Train acc: 0.6674 | Train kappa: 0.4717 \n",
      "Val loss: 0.5894 | Val precision: 0.7133 | Val recall: 0.7841 | Val f1score: 0.7440 | Val acc: 0.6932 | Val kappa: 0.4374 \n",
      "\n",
      "Epoch: 10 \n",
      "Learning rate: 9.765625e-06\n",
      "Train loss: 0.6130 | Train precision: 0.7316 | Train recall: 0.7347 | Train f1score: 0.7330 | Train acc: 0.6641 | Train kappa: 0.4605 \n",
      "Val loss: 0.5894 | Val precision: 0.7141 | Val recall: 0.7856 | Val f1score: 0.7452 | Val acc: 0.6941 | Val kappa: 0.4400 \n",
      "\n",
      "Epoch: 11 \n",
      "Learning rate: 4.8828125e-06\n",
      "Train loss: 0.6142 | Train precision: 0.7383 | Train recall: 0.7246 | Train f1score: 0.7308 | Train acc: 0.6651 | Train kappa: 0.4583 \n",
      "Val loss: 0.5893 | Val precision: 0.7149 | Val recall: 0.7866 | Val f1score: 0.7461 | Val acc: 0.6951 | Val kappa: 0.4421 \n",
      "\n",
      "Epoch: 12 \n",
      "Learning rate: 2.44140625e-06\n",
      "Train loss: 0.6122 | Train precision: 0.7400 | Train recall: 0.7335 | Train f1score: 0.7364 | Train acc: 0.6653 | Train kappa: 0.4721 \n",
      "Val loss: 0.5925 | Val precision: 0.6969 | Val recall: 0.7840 | Val f1score: 0.7336 | Val acc: 0.6866 | Val kappa: 0.4326 \n",
      "\n",
      "Epoch: 13 \n",
      "Learning rate: 1.220703125e-06\n",
      "Train loss: 0.6133 | Train precision: 0.7330 | Train recall: 0.7265 | Train f1score: 0.7296 | Train acc: 0.6681 | Train kappa: 0.4786 \n",
      "Val loss: 0.5905 | Val precision: 0.7164 | Val recall: 0.7888 | Val f1score: 0.7480 | Val acc: 0.6970 | Val kappa: 0.4466 \n",
      "\n",
      "Epoch: 14 \n",
      "Learning rate: 6.103515625e-07\n",
      "Train loss: 0.6166 | Train precision: 0.7269 | Train recall: 0.7267 | Train f1score: 0.7266 | Train acc: 0.6631 | Train kappa: 0.4677 \n",
      "Val loss: 0.5894 | Val precision: 0.7141 | Val recall: 0.7856 | Val f1score: 0.7452 | Val acc: 0.6941 | Val kappa: 0.4400 \n",
      "\n",
      "Epoch: 15 \n",
      "Learning rate: 3.0517578125e-07\n",
      "Train loss: 0.6156 | Train precision: 0.7322 | Train recall: 0.7230 | Train f1score: 0.7274 | Train acc: 0.6608 | Train kappa: 0.4595 \n",
      "Val loss: 0.5908 | Val precision: 0.7128 | Val recall: 0.7858 | Val f1score: 0.7446 | Val acc: 0.6913 | Val kappa: 0.4373 \n",
      "\n",
      "Epoch: 16 \n",
      "Learning rate: 1.52587890625e-07\n",
      "Train loss: 0.6126 | Train precision: 0.7380 | Train recall: 0.7242 | Train f1score: 0.7308 | Train acc: 0.6659 | Train kappa: 0.4695 \n",
      "Val loss: 0.5896 | Val precision: 0.7141 | Val recall: 0.7853 | Val f1score: 0.7450 | Val acc: 0.6941 | Val kappa: 0.4398 \n",
      "\n",
      "Epoch: 17 \n",
      "Learning rate: 7.62939453125e-08\n",
      "Train loss: 0.6090 | Train precision: 0.7301 | Train recall: 0.7369 | Train f1score: 0.7333 | Train acc: 0.6699 | Train kappa: 0.4732 \n",
      "Val loss: 0.5901 | Val precision: 0.7137 | Val recall: 0.7857 | Val f1score: 0.7451 | Val acc: 0.6932 | Val kappa: 0.4392 \n",
      "\n",
      "Epoch: 18 \n",
      "Learning rate: 3.814697265625e-08\n",
      "Train loss: 0.6200 | Train precision: 0.7210 | Train recall: 0.7234 | Train f1score: 0.7219 | Train acc: 0.6531 | Train kappa: 0.4473 \n",
      "Val loss: 0.5916 | Val precision: 0.6995 | Val recall: 0.7858 | Val f1score: 0.7360 | Val acc: 0.6913 | Val kappa: 0.4395 \n",
      "\n",
      "Epoch: 19 \n",
      "Learning rate: 1.9073486328125e-08\n",
      "Train loss: 0.6133 | Train precision: 0.7379 | Train recall: 0.7343 | Train f1score: 0.7359 | Train acc: 0.6655 | Train kappa: 0.4628 \n",
      "Val loss: 0.5915 | Val precision: 0.7110 | Val recall: 0.7844 | Val f1score: 0.7430 | Val acc: 0.6884 | Val kappa: 0.4328 \n",
      "\n",
      "Epoch: 20 \n",
      "Learning rate: 9.5367431640625e-09\n",
      "Train loss: 0.6166 | Train precision: 0.7284 | Train recall: 0.7270 | Train f1score: 0.7277 | Train acc: 0.6614 | Train kappa: 0.4629 \n",
      "Val loss: 0.5897 | Val precision: 0.6974 | Val recall: 0.7812 | Val f1score: 0.7325 | Val acc: 0.6894 | Val kappa: 0.4325 \n",
      "\n",
      "Epoch: 21 \n",
      "Learning rate: 4.76837158203125e-09\n",
      "Train loss: 0.6159 | Train precision: 0.7317 | Train recall: 0.7228 | Train f1score: 0.7269 | Train acc: 0.6670 | Train kappa: 0.4712 \n",
      "Val loss: 0.5893 | Val precision: 0.7141 | Val recall: 0.7856 | Val f1score: 0.7452 | Val acc: 0.6941 | Val kappa: 0.4400 \n",
      "\n",
      "Epoch: 22 \n",
      "Learning rate: 2.384185791015625e-09\n",
      "Train loss: 0.6158 | Train precision: 0.7362 | Train recall: 0.7224 | Train f1score: 0.7289 | Train acc: 0.6639 | Train kappa: 0.4664 \n",
      "Val loss: 0.5912 | Val precision: 0.7137 | Val recall: 0.7870 | Val f1score: 0.7456 | Val acc: 0.6922 | Val kappa: 0.4397 \n",
      "\n",
      "Epoch: 23 \n",
      "Learning rate: 1.1920928955078125e-09\n",
      "Train loss: 0.6189 | Train precision: 0.7325 | Train recall: 0.7258 | Train f1score: 0.7289 | Train acc: 0.6665 | Train kappa: 0.4651 \n",
      "Val loss: 0.5909 | Val precision: 0.7122 | Val recall: 0.7852 | Val f1score: 0.7440 | Val acc: 0.6903 | Val kappa: 0.4357 \n",
      "\n",
      "Epoch: 24 \n",
      "Learning rate: 5.960464477539063e-10\n",
      "Train loss: 0.6256 | Train precision: 0.7311 | Train recall: 0.7170 | Train f1score: 0.7237 | Train acc: 0.6613 | Train kappa: 0.4557 \n",
      "Val loss: 0.5904 | Val precision: 0.7157 | Val recall: 0.7878 | Val f1score: 0.7471 | Val acc: 0.6960 | Val kappa: 0.4445 \n",
      "\n",
      "Epoch: 25 \n",
      "Learning rate: 2.9802322387695313e-10\n",
      "Train loss: 0.6154 | Train precision: 0.7378 | Train recall: 0.7292 | Train f1score: 0.7333 | Train acc: 0.6620 | Train kappa: 0.4617 \n",
      "Val loss: 0.5918 | Val precision: 0.6965 | Val recall: 0.7831 | Val f1score: 0.7330 | Val acc: 0.6866 | Val kappa: 0.4316 \n",
      "\n",
      "Epoch: 26 \n",
      "Learning rate: 1.4901161193847657e-10\n",
      "Train loss: 0.6166 | Train precision: 0.7397 | Train recall: 0.7275 | Train f1score: 0.7331 | Train acc: 0.6643 | Train kappa: 0.4700 \n",
      "Val loss: 0.5900 | Val precision: 0.7152 | Val recall: 0.7877 | Val f1score: 0.7468 | Val acc: 0.6951 | Val kappa: 0.4434 \n",
      "\n",
      "Epoch: 27 \n",
      "Learning rate: 7.450580596923828e-11\n",
      "Train loss: 0.6185 | Train precision: 0.7231 | Train recall: 0.7208 | Train f1score: 0.7218 | Train acc: 0.6571 | Train kappa: 0.4397 \n",
      "Val loss: 0.5903 | Val precision: 0.7003 | Val recall: 0.7850 | Val f1score: 0.7360 | Val acc: 0.6932 | Val kappa: 0.4406 \n",
      "\n",
      "Epoch: 28 \n",
      "Learning rate: 3.725290298461914e-11\n",
      "Train loss: 0.6158 | Train precision: 0.7385 | Train recall: 0.7308 | Train f1score: 0.7345 | Train acc: 0.6708 | Train kappa: 0.4833 \n",
      "Val loss: 0.5906 | Val precision: 0.7153 | Val recall: 0.7880 | Val f1score: 0.7470 | Val acc: 0.6951 | Val kappa: 0.4437 \n",
      "\n"
     ]
    },
    {
     "name": "stdout",
     "output_type": "stream",
     "text": [
      "Epoch: 29 \n",
      "Learning rate: 1.862645149230957e-11\n",
      "Train loss: 0.6187 | Train precision: 0.7288 | Train recall: 0.7311 | Train f1score: 0.7298 | Train acc: 0.6632 | Train kappa: 0.4633 \n",
      "Val loss: 0.5900 | Val precision: 0.7150 | Val recall: 0.7870 | Val f1score: 0.7464 | Val acc: 0.6951 | Val kappa: 0.4427 \n",
      "\n",
      "Epoch: 30 \n",
      "Learning rate: 9.313225746154785e-12\n",
      "Train loss: 0.6180 | Train precision: 0.7278 | Train recall: 0.7315 | Train f1score: 0.7294 | Train acc: 0.6594 | Train kappa: 0.4545 \n",
      "Val loss: 0.5889 | Val precision: 0.7141 | Val recall: 0.7856 | Val f1score: 0.7452 | Val acc: 0.6941 | Val kappa: 0.4400 \n",
      "\n",
      "Epoch: 31 \n",
      "Learning rate: 4.656612873077393e-12\n",
      "Train loss: 0.6147 | Train precision: 0.7362 | Train recall: 0.7278 | Train f1score: 0.7318 | Train acc: 0.6660 | Train kappa: 0.4686 \n",
      "Val loss: 0.5904 | Val precision: 0.7127 | Val recall: 0.7856 | Val f1score: 0.7445 | Val acc: 0.6913 | Val kappa: 0.4371 \n",
      "\n",
      "Epoch: 32 \n",
      "Learning rate: 2.3283064365386963e-12\n",
      "Train loss: 0.6152 | Train precision: 0.7314 | Train recall: 0.7280 | Train f1score: 0.7296 | Train acc: 0.6623 | Train kappa: 0.4637 \n",
      "Val loss: 0.5886 | Val precision: 0.7133 | Val recall: 0.7841 | Val f1score: 0.7440 | Val acc: 0.6932 | Val kappa: 0.4374 \n",
      "\n",
      "Epoch: 33 \n",
      "Learning rate: 1.1641532182693482e-12\n",
      "Train loss: 0.6217 | Train precision: 0.7351 | Train recall: 0.7227 | Train f1score: 0.7287 | Train acc: 0.6599 | Train kappa: 0.4596 \n",
      "Val loss: 0.5904 | Val precision: 0.7128 | Val recall: 0.7858 | Val f1score: 0.7446 | Val acc: 0.6913 | Val kappa: 0.4373 \n",
      "\n",
      "Epoch: 34 \n",
      "Learning rate: 5.820766091346741e-13\n",
      "Train loss: 0.6203 | Train precision: 0.7274 | Train recall: 0.7251 | Train f1score: 0.7261 | Train acc: 0.6618 | Train kappa: 0.4571 \n",
      "Val loss: 0.5894 | Val precision: 0.7125 | Val recall: 0.7808 | Val f1score: 0.7413 | Val acc: 0.6922 | Val kappa: 0.4327 \n",
      "\n",
      "Epoch: 35 \n",
      "Learning rate: 2.9103830456733704e-13\n",
      "Train loss: 0.6134 | Train precision: 0.7335 | Train recall: 0.7325 | Train f1score: 0.7327 | Train acc: 0.6665 | Train kappa: 0.4622 \n",
      "Val loss: 0.5913 | Val precision: 0.7140 | Val recall: 0.7869 | Val f1score: 0.7458 | Val acc: 0.6932 | Val kappa: 0.4405 \n",
      "\n",
      "Epoch: 36 \n",
      "Learning rate: 1.4551915228366852e-13\n",
      "Train loss: 0.6170 | Train precision: 0.7284 | Train recall: 0.7337 | Train f1score: 0.7309 | Train acc: 0.6640 | Train kappa: 0.4597 \n",
      "Val loss: 0.5898 | Val precision: 0.7148 | Val recall: 0.7861 | Val f1score: 0.7458 | Val acc: 0.6951 | Val kappa: 0.4416 \n",
      "\n",
      "Epoch: 37 \n",
      "Learning rate: 7.275957614183426e-14\n",
      "Train loss: 0.6190 | Train precision: 0.7375 | Train recall: 0.7195 | Train f1score: 0.7281 | Train acc: 0.6619 | Train kappa: 0.4659 \n",
      "Val loss: 0.5904 | Val precision: 0.7164 | Val recall: 0.7888 | Val f1score: 0.7480 | Val acc: 0.6970 | Val kappa: 0.4466 \n",
      "\n",
      "Epoch: 38 \n",
      "Learning rate: 3.637978807091713e-14\n",
      "Train loss: 0.6193 | Train precision: 0.7297 | Train recall: 0.7251 | Train f1score: 0.7272 | Train acc: 0.6589 | Train kappa: 0.4578 \n",
      "Val loss: 0.5901 | Val precision: 0.7158 | Val recall: 0.7880 | Val f1score: 0.7473 | Val acc: 0.6960 | Val kappa: 0.4447 \n",
      "\n",
      "Epoch: 39 \n",
      "Learning rate: 1.8189894035458565e-14\n",
      "Train loss: 0.6171 | Train precision: 0.7265 | Train recall: 0.7160 | Train f1score: 0.7210 | Train acc: 0.6564 | Train kappa: 0.4426 \n",
      "Val loss: 0.5883 | Val precision: 0.7064 | Val recall: 0.7580 | Val f1score: 0.7294 | Val acc: 0.6894 | Val kappa: 0.4281 \n",
      "\n",
      "Epoch: 40 \n",
      "Learning rate: 9.094947017729283e-15\n",
      "Train loss: 0.6137 | Train precision: 0.7354 | Train recall: 0.7288 | Train f1score: 0.7319 | Train acc: 0.6630 | Train kappa: 0.4638 \n",
      "Val loss: 0.5906 | Val precision: 0.7128 | Val recall: 0.7858 | Val f1score: 0.7446 | Val acc: 0.6913 | Val kappa: 0.4373 \n",
      "\n",
      "Epoch: 41 \n",
      "Learning rate: 4.547473508864641e-15\n",
      "Train loss: 0.6139 | Train precision: 0.7317 | Train recall: 0.7335 | Train f1score: 0.7323 | Train acc: 0.6635 | Train kappa: 0.4517 \n",
      "Val loss: 0.5916 | Val precision: 0.7119 | Val recall: 0.7856 | Val f1score: 0.7440 | Val acc: 0.6894 | Val kappa: 0.4352 \n",
      "\n",
      "Epoch: 42 \n",
      "Learning rate: 2.2737367544323206e-15\n",
      "Train loss: 0.6190 | Train precision: 0.7307 | Train recall: 0.7155 | Train f1score: 0.7228 | Train acc: 0.6604 | Train kappa: 0.4697 \n",
      "Val loss: 0.5891 | Val precision: 0.7128 | Val recall: 0.7840 | Val f1score: 0.7437 | Val acc: 0.6922 | Val kappa: 0.4364 \n",
      "\n",
      "Epoch: 43 \n",
      "Learning rate: 1.1368683772161603e-15\n",
      "Train loss: 0.6143 | Train precision: 0.7385 | Train recall: 0.7359 | Train f1score: 0.7370 | Train acc: 0.6699 | Train kappa: 0.4749 \n",
      "Val loss: 0.5895 | Val precision: 0.7148 | Val recall: 0.7864 | Val f1score: 0.7459 | Val acc: 0.6951 | Val kappa: 0.4419 \n",
      "\n",
      "Epoch: 44 \n",
      "Learning rate: 5.684341886080802e-16\n",
      "Train loss: 0.6094 | Train precision: 0.7421 | Train recall: 0.7351 | Train f1score: 0.7383 | Train acc: 0.6655 | Train kappa: 0.4638 \n",
      "Val loss: 0.5902 | Val precision: 0.7148 | Val recall: 0.7864 | Val f1score: 0.7459 | Val acc: 0.6951 | Val kappa: 0.4419 \n",
      "\n"
     ]
    },
    {
     "ename": "KeyboardInterrupt",
     "evalue": "",
     "output_type": "error",
     "traceback": [
      "\u001b[1;31m---------------------------------------------------------------------------\u001b[0m",
      "\u001b[1;31mKeyboardInterrupt\u001b[0m                         Traceback (most recent call last)",
      "File \u001b[1;32m<timed exec>:122\u001b[0m, in \u001b[0;36m<module>\u001b[1;34m\u001b[0m\n",
      "File \u001b[1;32m~\\01_PyTorch\\wze-uav\\wze-uav-master\\wze_uav\\engine.py:235\u001b[0m, in \u001b[0;36mtrain\u001b[1;34m(model, model_name, n_bands, batch_size, train_dataloader, val_dataloader, optimizer, lr_scheduler, loss_fn, num_classes, epochs, experiment_num, device, writer, early_stop_patience)\u001b[0m\n\u001b[0;32m    233\u001b[0m \u001b[38;5;66;03m# Loop through training and testing steps for a number of epochs\u001b[39;00m\n\u001b[0;32m    234\u001b[0m \u001b[38;5;28;01mfor\u001b[39;00m epoch \u001b[38;5;129;01min\u001b[39;00m tqdm(\u001b[38;5;28mrange\u001b[39m(epochs)):\n\u001b[1;32m--> 235\u001b[0m     train_loss, train_precision, train_recall, train_f1_score, train_acc, train_kappa \u001b[38;5;241m=\u001b[39m \u001b[43mtrain_step\u001b[49m\u001b[43m(\u001b[49m\u001b[43mmodel\u001b[49m\u001b[38;5;241;43m=\u001b[39;49m\u001b[43mmodel\u001b[49m\u001b[43m,\u001b[49m\n\u001b[0;32m    236\u001b[0m \u001b[43m                                                                                      \u001b[49m\u001b[43mdataloader\u001b[49m\u001b[38;5;241;43m=\u001b[39;49m\u001b[43mtrain_dataloader\u001b[49m\u001b[43m,\u001b[49m\n\u001b[0;32m    237\u001b[0m \u001b[43m                                                                                      \u001b[49m\u001b[43mloss_fn\u001b[49m\u001b[38;5;241;43m=\u001b[39;49m\u001b[43mloss_fn\u001b[49m\u001b[43m,\u001b[49m\n\u001b[0;32m    238\u001b[0m \u001b[43m                                                                                      \u001b[49m\u001b[43moptimizer\u001b[49m\u001b[38;5;241;43m=\u001b[39;49m\u001b[43moptimizer\u001b[49m\u001b[43m,\u001b[49m\n\u001b[0;32m    239\u001b[0m \u001b[43m                                                                                      \u001b[49m\u001b[43mnum_classes\u001b[49m\u001b[38;5;241;43m=\u001b[39;49m\u001b[43mnum_classes\u001b[49m\u001b[43m,\u001b[49m\n\u001b[0;32m    240\u001b[0m \u001b[43m                                                                                      \u001b[49m\u001b[43mdevice\u001b[49m\u001b[38;5;241;43m=\u001b[39;49m\u001b[43mdevice\u001b[49m\u001b[43m)\u001b[49m\n\u001b[0;32m    242\u001b[0m     val_loss, val_precision, val_recall, val_f1_score, val_acc, val_kappa \u001b[38;5;241m=\u001b[39m val_step(model\u001b[38;5;241m=\u001b[39mmodel,\n\u001b[0;32m    243\u001b[0m                                                                                 dataloader\u001b[38;5;241m=\u001b[39mval_dataloader,\n\u001b[0;32m    244\u001b[0m                                                                                 loss_fn\u001b[38;5;241m=\u001b[39mloss_fn,\n\u001b[0;32m    245\u001b[0m                                                                                 num_classes\u001b[38;5;241m=\u001b[39mnum_classes,\n\u001b[0;32m    246\u001b[0m                                                                                 device\u001b[38;5;241m=\u001b[39mdevice)\n\u001b[0;32m    248\u001b[0m     \u001b[38;5;66;03m# set scheduler for decreasing learning rate\u001b[39;00m\n",
      "File \u001b[1;32m~\\01_PyTorch\\wze-uav\\wze-uav-master\\wze_uav\\engine.py:70\u001b[0m, in \u001b[0;36mtrain_step\u001b[1;34m(model, dataloader, loss_fn, optimizer, num_classes, device)\u001b[0m\n\u001b[0;32m     67\u001b[0m loss\u001b[38;5;241m.\u001b[39mbackward()\n\u001b[0;32m     69\u001b[0m \u001b[38;5;66;03m# Optimizer step\u001b[39;00m\n\u001b[1;32m---> 70\u001b[0m \u001b[43moptimizer\u001b[49m\u001b[38;5;241;43m.\u001b[39;49m\u001b[43mstep\u001b[49m\u001b[43m(\u001b[49m\u001b[43m)\u001b[49m\n\u001b[0;32m     72\u001b[0m \u001b[38;5;66;03m# Calculate and accumulate evaluation metrics across all batches\u001b[39;00m\n\u001b[0;32m     73\u001b[0m pre_metrics\u001b[38;5;241m.\u001b[39mupdate(y_pred, y)\n",
      "File \u001b[1;32m~\\Ecke_conda\\envs\\PyTorch_v10\\lib\\site-packages\\torch\\optim\\lr_scheduler.py:68\u001b[0m, in \u001b[0;36m_LRScheduler.__init__.<locals>.with_counter.<locals>.wrapper\u001b[1;34m(*args, **kwargs)\u001b[0m\n\u001b[0;32m     66\u001b[0m instance\u001b[38;5;241m.\u001b[39m_step_count \u001b[38;5;241m+\u001b[39m\u001b[38;5;241m=\u001b[39m \u001b[38;5;241m1\u001b[39m\n\u001b[0;32m     67\u001b[0m wrapped \u001b[38;5;241m=\u001b[39m func\u001b[38;5;241m.\u001b[39m\u001b[38;5;21m__get__\u001b[39m(instance, \u001b[38;5;28mcls\u001b[39m)\n\u001b[1;32m---> 68\u001b[0m \u001b[38;5;28;01mreturn\u001b[39;00m wrapped(\u001b[38;5;241m*\u001b[39margs, \u001b[38;5;241m*\u001b[39m\u001b[38;5;241m*\u001b[39mkwargs)\n",
      "File \u001b[1;32m~\\Ecke_conda\\envs\\PyTorch_v10\\lib\\site-packages\\torch\\optim\\optimizer.py:140\u001b[0m, in \u001b[0;36mOptimizer._hook_for_profile.<locals>.profile_hook_step.<locals>.wrapper\u001b[1;34m(*args, **kwargs)\u001b[0m\n\u001b[0;32m    138\u001b[0m profile_name \u001b[38;5;241m=\u001b[39m \u001b[38;5;124m\"\u001b[39m\u001b[38;5;124mOptimizer.step#\u001b[39m\u001b[38;5;132;01m{}\u001b[39;00m\u001b[38;5;124m.step\u001b[39m\u001b[38;5;124m\"\u001b[39m\u001b[38;5;241m.\u001b[39mformat(obj\u001b[38;5;241m.\u001b[39m\u001b[38;5;18m__class__\u001b[39m\u001b[38;5;241m.\u001b[39m\u001b[38;5;18m__name__\u001b[39m)\n\u001b[0;32m    139\u001b[0m \u001b[38;5;28;01mwith\u001b[39;00m torch\u001b[38;5;241m.\u001b[39mautograd\u001b[38;5;241m.\u001b[39mprofiler\u001b[38;5;241m.\u001b[39mrecord_function(profile_name):\n\u001b[1;32m--> 140\u001b[0m     out \u001b[38;5;241m=\u001b[39m func(\u001b[38;5;241m*\u001b[39margs, \u001b[38;5;241m*\u001b[39m\u001b[38;5;241m*\u001b[39mkwargs)\n\u001b[0;32m    141\u001b[0m     obj\u001b[38;5;241m.\u001b[39m_optimizer_step_code()\n\u001b[0;32m    142\u001b[0m     \u001b[38;5;28;01mreturn\u001b[39;00m out\n",
      "File \u001b[1;32m~\\Ecke_conda\\envs\\PyTorch_v10\\lib\\site-packages\\torch\\optim\\optimizer.py:23\u001b[0m, in \u001b[0;36m_use_grad_for_differentiable.<locals>._use_grad\u001b[1;34m(self, *args, **kwargs)\u001b[0m\n\u001b[0;32m     21\u001b[0m \u001b[38;5;28;01mtry\u001b[39;00m:\n\u001b[0;32m     22\u001b[0m     torch\u001b[38;5;241m.\u001b[39mset_grad_enabled(\u001b[38;5;28mself\u001b[39m\u001b[38;5;241m.\u001b[39mdefaults[\u001b[38;5;124m'\u001b[39m\u001b[38;5;124mdifferentiable\u001b[39m\u001b[38;5;124m'\u001b[39m])\n\u001b[1;32m---> 23\u001b[0m     ret \u001b[38;5;241m=\u001b[39m func(\u001b[38;5;28mself\u001b[39m, \u001b[38;5;241m*\u001b[39margs, \u001b[38;5;241m*\u001b[39m\u001b[38;5;241m*\u001b[39mkwargs)\n\u001b[0;32m     24\u001b[0m \u001b[38;5;28;01mfinally\u001b[39;00m:\n\u001b[0;32m     25\u001b[0m     torch\u001b[38;5;241m.\u001b[39mset_grad_enabled(prev_grad)\n",
      "File \u001b[1;32m~\\Ecke_conda\\envs\\PyTorch_v10\\lib\\site-packages\\torch\\optim\\adam.py:234\u001b[0m, in \u001b[0;36mAdam.step\u001b[1;34m(self, closure, grad_scaler)\u001b[0m\n\u001b[0;32m    231\u001b[0m                 \u001b[38;5;28;01mraise\u001b[39;00m \u001b[38;5;167;01mRuntimeError\u001b[39;00m(\u001b[38;5;124m'\u001b[39m\u001b[38;5;124m`requires_grad` is not supported for `step` in differentiable mode\u001b[39m\u001b[38;5;124m'\u001b[39m)\n\u001b[0;32m    232\u001b[0m             state_steps\u001b[38;5;241m.\u001b[39mappend(state[\u001b[38;5;124m'\u001b[39m\u001b[38;5;124mstep\u001b[39m\u001b[38;5;124m'\u001b[39m])\n\u001b[1;32m--> 234\u001b[0m     \u001b[43madam\u001b[49m\u001b[43m(\u001b[49m\u001b[43mparams_with_grad\u001b[49m\u001b[43m,\u001b[49m\n\u001b[0;32m    235\u001b[0m \u001b[43m         \u001b[49m\u001b[43mgrads\u001b[49m\u001b[43m,\u001b[49m\n\u001b[0;32m    236\u001b[0m \u001b[43m         \u001b[49m\u001b[43mexp_avgs\u001b[49m\u001b[43m,\u001b[49m\n\u001b[0;32m    237\u001b[0m \u001b[43m         \u001b[49m\u001b[43mexp_avg_sqs\u001b[49m\u001b[43m,\u001b[49m\n\u001b[0;32m    238\u001b[0m \u001b[43m         \u001b[49m\u001b[43mmax_exp_avg_sqs\u001b[49m\u001b[43m,\u001b[49m\n\u001b[0;32m    239\u001b[0m \u001b[43m         \u001b[49m\u001b[43mstate_steps\u001b[49m\u001b[43m,\u001b[49m\n\u001b[0;32m    240\u001b[0m \u001b[43m         \u001b[49m\u001b[43mamsgrad\u001b[49m\u001b[38;5;241;43m=\u001b[39;49m\u001b[43mgroup\u001b[49m\u001b[43m[\u001b[49m\u001b[38;5;124;43m'\u001b[39;49m\u001b[38;5;124;43mamsgrad\u001b[39;49m\u001b[38;5;124;43m'\u001b[39;49m\u001b[43m]\u001b[49m\u001b[43m,\u001b[49m\n\u001b[0;32m    241\u001b[0m \u001b[43m         \u001b[49m\u001b[43mbeta1\u001b[49m\u001b[38;5;241;43m=\u001b[39;49m\u001b[43mbeta1\u001b[49m\u001b[43m,\u001b[49m\n\u001b[0;32m    242\u001b[0m \u001b[43m         \u001b[49m\u001b[43mbeta2\u001b[49m\u001b[38;5;241;43m=\u001b[39;49m\u001b[43mbeta2\u001b[49m\u001b[43m,\u001b[49m\n\u001b[0;32m    243\u001b[0m \u001b[43m         \u001b[49m\u001b[43mlr\u001b[49m\u001b[38;5;241;43m=\u001b[39;49m\u001b[43mgroup\u001b[49m\u001b[43m[\u001b[49m\u001b[38;5;124;43m'\u001b[39;49m\u001b[38;5;124;43mlr\u001b[39;49m\u001b[38;5;124;43m'\u001b[39;49m\u001b[43m]\u001b[49m\u001b[43m,\u001b[49m\n\u001b[0;32m    244\u001b[0m \u001b[43m         \u001b[49m\u001b[43mweight_decay\u001b[49m\u001b[38;5;241;43m=\u001b[39;49m\u001b[43mgroup\u001b[49m\u001b[43m[\u001b[49m\u001b[38;5;124;43m'\u001b[39;49m\u001b[38;5;124;43mweight_decay\u001b[39;49m\u001b[38;5;124;43m'\u001b[39;49m\u001b[43m]\u001b[49m\u001b[43m,\u001b[49m\n\u001b[0;32m    245\u001b[0m \u001b[43m         \u001b[49m\u001b[43meps\u001b[49m\u001b[38;5;241;43m=\u001b[39;49m\u001b[43mgroup\u001b[49m\u001b[43m[\u001b[49m\u001b[38;5;124;43m'\u001b[39;49m\u001b[38;5;124;43meps\u001b[39;49m\u001b[38;5;124;43m'\u001b[39;49m\u001b[43m]\u001b[49m\u001b[43m,\u001b[49m\n\u001b[0;32m    246\u001b[0m \u001b[43m         \u001b[49m\u001b[43mmaximize\u001b[49m\u001b[38;5;241;43m=\u001b[39;49m\u001b[43mgroup\u001b[49m\u001b[43m[\u001b[49m\u001b[38;5;124;43m'\u001b[39;49m\u001b[38;5;124;43mmaximize\u001b[39;49m\u001b[38;5;124;43m'\u001b[39;49m\u001b[43m]\u001b[49m\u001b[43m,\u001b[49m\n\u001b[0;32m    247\u001b[0m \u001b[43m         \u001b[49m\u001b[43mforeach\u001b[49m\u001b[38;5;241;43m=\u001b[39;49m\u001b[43mgroup\u001b[49m\u001b[43m[\u001b[49m\u001b[38;5;124;43m'\u001b[39;49m\u001b[38;5;124;43mforeach\u001b[39;49m\u001b[38;5;124;43m'\u001b[39;49m\u001b[43m]\u001b[49m\u001b[43m,\u001b[49m\n\u001b[0;32m    248\u001b[0m \u001b[43m         \u001b[49m\u001b[43mcapturable\u001b[49m\u001b[38;5;241;43m=\u001b[39;49m\u001b[43mgroup\u001b[49m\u001b[43m[\u001b[49m\u001b[38;5;124;43m'\u001b[39;49m\u001b[38;5;124;43mcapturable\u001b[39;49m\u001b[38;5;124;43m'\u001b[39;49m\u001b[43m]\u001b[49m\u001b[43m,\u001b[49m\n\u001b[0;32m    249\u001b[0m \u001b[43m         \u001b[49m\u001b[43mdifferentiable\u001b[49m\u001b[38;5;241;43m=\u001b[39;49m\u001b[43mgroup\u001b[49m\u001b[43m[\u001b[49m\u001b[38;5;124;43m'\u001b[39;49m\u001b[38;5;124;43mdifferentiable\u001b[39;49m\u001b[38;5;124;43m'\u001b[39;49m\u001b[43m]\u001b[49m\u001b[43m,\u001b[49m\n\u001b[0;32m    250\u001b[0m \u001b[43m         \u001b[49m\u001b[43mfused\u001b[49m\u001b[38;5;241;43m=\u001b[39;49m\u001b[43mgroup\u001b[49m\u001b[43m[\u001b[49m\u001b[38;5;124;43m'\u001b[39;49m\u001b[38;5;124;43mfused\u001b[39;49m\u001b[38;5;124;43m'\u001b[39;49m\u001b[43m]\u001b[49m\u001b[43m,\u001b[49m\n\u001b[0;32m    251\u001b[0m \u001b[43m         \u001b[49m\u001b[43mgrad_scale\u001b[49m\u001b[38;5;241;43m=\u001b[39;49m\u001b[43mgrad_scale\u001b[49m\u001b[43m,\u001b[49m\n\u001b[0;32m    252\u001b[0m \u001b[43m         \u001b[49m\u001b[43mfound_inf\u001b[49m\u001b[38;5;241;43m=\u001b[39;49m\u001b[43mfound_inf\u001b[49m\u001b[43m)\u001b[49m\n\u001b[0;32m    254\u001b[0m \u001b[38;5;28;01mreturn\u001b[39;00m loss\n",
      "File \u001b[1;32m~\\Ecke_conda\\envs\\PyTorch_v10\\lib\\site-packages\\torch\\optim\\adam.py:300\u001b[0m, in \u001b[0;36madam\u001b[1;34m(params, grads, exp_avgs, exp_avg_sqs, max_exp_avg_sqs, state_steps, foreach, capturable, differentiable, fused, grad_scale, found_inf, amsgrad, beta1, beta2, lr, weight_decay, eps, maximize)\u001b[0m\n\u001b[0;32m    297\u001b[0m \u001b[38;5;28;01melse\u001b[39;00m:\n\u001b[0;32m    298\u001b[0m     func \u001b[38;5;241m=\u001b[39m _single_tensor_adam\n\u001b[1;32m--> 300\u001b[0m \u001b[43mfunc\u001b[49m\u001b[43m(\u001b[49m\u001b[43mparams\u001b[49m\u001b[43m,\u001b[49m\n\u001b[0;32m    301\u001b[0m \u001b[43m     \u001b[49m\u001b[43mgrads\u001b[49m\u001b[43m,\u001b[49m\n\u001b[0;32m    302\u001b[0m \u001b[43m     \u001b[49m\u001b[43mexp_avgs\u001b[49m\u001b[43m,\u001b[49m\n\u001b[0;32m    303\u001b[0m \u001b[43m     \u001b[49m\u001b[43mexp_avg_sqs\u001b[49m\u001b[43m,\u001b[49m\n\u001b[0;32m    304\u001b[0m \u001b[43m     \u001b[49m\u001b[43mmax_exp_avg_sqs\u001b[49m\u001b[43m,\u001b[49m\n\u001b[0;32m    305\u001b[0m \u001b[43m     \u001b[49m\u001b[43mstate_steps\u001b[49m\u001b[43m,\u001b[49m\n\u001b[0;32m    306\u001b[0m \u001b[43m     \u001b[49m\u001b[43mamsgrad\u001b[49m\u001b[38;5;241;43m=\u001b[39;49m\u001b[43mamsgrad\u001b[49m\u001b[43m,\u001b[49m\n\u001b[0;32m    307\u001b[0m \u001b[43m     \u001b[49m\u001b[43mbeta1\u001b[49m\u001b[38;5;241;43m=\u001b[39;49m\u001b[43mbeta1\u001b[49m\u001b[43m,\u001b[49m\n\u001b[0;32m    308\u001b[0m \u001b[43m     \u001b[49m\u001b[43mbeta2\u001b[49m\u001b[38;5;241;43m=\u001b[39;49m\u001b[43mbeta2\u001b[49m\u001b[43m,\u001b[49m\n\u001b[0;32m    309\u001b[0m \u001b[43m     \u001b[49m\u001b[43mlr\u001b[49m\u001b[38;5;241;43m=\u001b[39;49m\u001b[43mlr\u001b[49m\u001b[43m,\u001b[49m\n\u001b[0;32m    310\u001b[0m \u001b[43m     \u001b[49m\u001b[43mweight_decay\u001b[49m\u001b[38;5;241;43m=\u001b[39;49m\u001b[43mweight_decay\u001b[49m\u001b[43m,\u001b[49m\n\u001b[0;32m    311\u001b[0m \u001b[43m     \u001b[49m\u001b[43meps\u001b[49m\u001b[38;5;241;43m=\u001b[39;49m\u001b[43meps\u001b[49m\u001b[43m,\u001b[49m\n\u001b[0;32m    312\u001b[0m \u001b[43m     \u001b[49m\u001b[43mmaximize\u001b[49m\u001b[38;5;241;43m=\u001b[39;49m\u001b[43mmaximize\u001b[49m\u001b[43m,\u001b[49m\n\u001b[0;32m    313\u001b[0m \u001b[43m     \u001b[49m\u001b[43mcapturable\u001b[49m\u001b[38;5;241;43m=\u001b[39;49m\u001b[43mcapturable\u001b[49m\u001b[43m,\u001b[49m\n\u001b[0;32m    314\u001b[0m \u001b[43m     \u001b[49m\u001b[43mdifferentiable\u001b[49m\u001b[38;5;241;43m=\u001b[39;49m\u001b[43mdifferentiable\u001b[49m\u001b[43m,\u001b[49m\n\u001b[0;32m    315\u001b[0m \u001b[43m     \u001b[49m\u001b[43mgrad_scale\u001b[49m\u001b[38;5;241;43m=\u001b[39;49m\u001b[43mgrad_scale\u001b[49m\u001b[43m,\u001b[49m\n\u001b[0;32m    316\u001b[0m \u001b[43m     \u001b[49m\u001b[43mfound_inf\u001b[49m\u001b[38;5;241;43m=\u001b[39;49m\u001b[43mfound_inf\u001b[49m\u001b[43m)\u001b[49m\n",
      "File \u001b[1;32m~\\Ecke_conda\\envs\\PyTorch_v10\\lib\\site-packages\\torch\\optim\\adam.py:363\u001b[0m, in \u001b[0;36m_single_tensor_adam\u001b[1;34m(params, grads, exp_avgs, exp_avg_sqs, max_exp_avg_sqs, state_steps, grad_scale, found_inf, amsgrad, beta1, beta2, lr, weight_decay, eps, maximize, capturable, differentiable)\u001b[0m\n\u001b[0;32m    360\u001b[0m     param \u001b[38;5;241m=\u001b[39m torch\u001b[38;5;241m.\u001b[39mview_as_real(param)\n\u001b[0;32m    362\u001b[0m \u001b[38;5;66;03m# Decay the first and second moment running average coefficient\u001b[39;00m\n\u001b[1;32m--> 363\u001b[0m \u001b[43mexp_avg\u001b[49m\u001b[38;5;241;43m.\u001b[39;49m\u001b[43mmul_\u001b[49m\u001b[43m(\u001b[49m\u001b[43mbeta1\u001b[49m\u001b[43m)\u001b[49m\u001b[38;5;241m.\u001b[39madd_(grad, alpha\u001b[38;5;241m=\u001b[39m\u001b[38;5;241m1\u001b[39m \u001b[38;5;241m-\u001b[39m beta1)\n\u001b[0;32m    364\u001b[0m exp_avg_sq\u001b[38;5;241m.\u001b[39mmul_(beta2)\u001b[38;5;241m.\u001b[39maddcmul_(grad, grad\u001b[38;5;241m.\u001b[39mconj(), value\u001b[38;5;241m=\u001b[39m\u001b[38;5;241m1\u001b[39m \u001b[38;5;241m-\u001b[39m beta2)\n\u001b[0;32m    366\u001b[0m \u001b[38;5;28;01mif\u001b[39;00m capturable \u001b[38;5;129;01mor\u001b[39;00m differentiable:\n",
      "\u001b[1;31mKeyboardInterrupt\u001b[0m: "
     ]
    }
   ],
   "source": [
    "%%time\n",
    "\n",
    "# Set the random seeds\n",
    "set_seeds(42)\n",
    "\n",
    "# Define the number of folds\n",
    "num_folds = 5\n",
    "\n",
    "# Create a KFold object\n",
    "kf = KFold(n_splits=num_folds, shuffle=True, random_state=42)\n",
    "\n",
    "unique_values = np.unique(sub_hash_id[:,0]) # now there are less unique values left because we seperated the test dataset\n",
    "num_unique = len(unique_values)\n",
    "print(f\"There are {num_unique} unique values within hash_id.\\n\")\n",
    "\n",
    "# Loop over each fold\n",
    "for fold, (train_ids, val_ids) in enumerate(kf.split(unique_values)):\n",
    "    torch.cuda.empty_cache()\n",
    "    \n",
    "    # Initialize a new wandb run for this fold\n",
    "    wandb.init(project='wze-uav', name=f\"fold_{fold + 1}_{extra}\")\n",
    "    \n",
    "    # 1. Split data into train and validation set\n",
    "    # Get the training and testing data for this fold\n",
    "    # Use np.isin() to create boolean arrays indicating which indices belong to train or test sets\n",
    "    train_indices = np.isin(sub_hash_id[:,0], unique_values[train_ids])\n",
    "    \n",
    "    val_indices = np.zeros_like(train_indices)  # initialize to all False\n",
    "    for hash_id_val in unique_values[val_ids]:\n",
    "        # select one image ID randomly from either 2020 or 2021 or 2022 for each unique hash ID in the test set\n",
    "        year = np.random.choice(['2020', '2021', '2022'])\n",
    "        image_ids = sub_hash_id[(sub_hash_id[:,0] == hash_id_val) & (sub_hash_id[:,1] == year), 0]\n",
    "    \n",
    "        # mark the index corresponding to the selected image ID and hash ID as True in the test indices array\n",
    "        val_indices[(sub_hash_id[:,0] == hash_id_val) & (sub_hash_id[:,1] == year) & (np.isin(sub_hash_id[:,0], image_ids))] = True \n",
    "    \n",
    "    # Reshape boolean arrays to match shape of image_set and label_set\n",
    "    train_indices = train_indices.reshape(-1, 1)\n",
    "    val_indices = val_indices.reshape(-1, 1)\n",
    "    \n",
    "    # Select images and labels for train and validation sets\n",
    "    train_image_set = sub_image_set[train_indices[:, 0]]\n",
    "    train_label_set = sub_label_set[train_indices[:, 0]]\n",
    "    train_hash_id = sub_hash_id[train_indices[:, 0]][:,0]\n",
    "    train_species_set = sub_species_set[train_indices[:, 0]]\n",
    "    val_image_set = sub_image_set[val_indices[:, 0]]\n",
    "    val_label_set = sub_label_set[val_indices[:, 0]]\n",
    "    val_hash_id = sub_hash_id[val_indices[:, 0]][:,0]\n",
    "    val_species_set = sub_species_set[val_indices[:, 0]]\n",
    "    # reshape \n",
    "    train_label_set = train_label_set.reshape(-1, 1)\n",
    "    val_label_set = val_label_set.reshape(-1, 1)\n",
    "    train_species_set = train_species_set.reshape(-1, 1)\n",
    "    val_species_set = val_species_set.reshape(-1, 1)\n",
    "\n",
    "         \n",
    "    print(\"Check shapes:\\n\")\n",
    "    print(f\"Images train dataset: {train_image_set.shape}\")\n",
    "    print(f\"Labels train dataset: {train_label_set.shape}\\n\")\n",
    "    \n",
    "    print(f\"Images validation dataset: {val_image_set.shape}\")\n",
    "    print(f\"Labels validation dataset: {val_label_set.shape}\\n\")\n",
    "    print('-'*50)\n",
    "    print (f\"Check if the split was stratified: (random_state=42)\")\n",
    "    print(f\"Healthy trees in train dataset: {np.count_nonzero(train_label_set == 0)}\")\n",
    "    print(f\"Stressed trees in train dataset: {np.count_nonzero(train_label_set == 1)}\")\n",
    "    print(f\"Dead trees in train dataset: {np.count_nonzero(train_label_set == 2)}\")\n",
    "    print(f\"Healthy trees in validation dataset: {np.count_nonzero(val_label_set == 0)}\")\n",
    "    print(f\"Stressed trees in validation dataset: {np.count_nonzero(val_label_set == 1)}\")\n",
    "    print(f\"Dead trees in validation dataset: {np.count_nonzero(val_label_set == 2)}\")\n",
    "    print(f\"Ratio health trees in validation dataset: {np.count_nonzero(val_label_set == 0)/np.count_nonzero(sub_label_set == 0)}\")\n",
    "    print(f\"Ratio stressed trees in validation dataset: {np.count_nonzero(val_label_set == 1)/np.count_nonzero(sub_label_set == 1)}\")\n",
    "    print(f\"Ratio dead trees in validation dataset: {np.count_nonzero(val_label_set == 2)/np.count_nonzero(sub_label_set == 2)}\")\n",
    "    print(\"-\"*50)\n",
    "   \n",
    "    # 2. Create train and validation dataset. (choose custom dataset loader with 3 - 5 classes)\n",
    "    print(f\"\\nCreating datasets for fold: {fold + 1}\\n\")\n",
    "    train_dataset = data_loader.CustomDataset(data=train_image_set, labels=train_label_set, class_names=class_names, species = train_species_set,\n",
    "                                                         transform=transform_train)\n",
    "    \n",
    "    val_dataset = data_loader.CustomDataset(data=val_image_set, labels=val_label_set, class_names=class_names,\n",
    "                                                       species = val_species_set, transform=transform)\n",
    "   \n",
    "    # 3. Create train and validation dataloader\n",
    "    # create sampler for oversampling of the minority classes\n",
    "    sampler = data_loader.data_sampler(dataset=train_dataset, class_names=class_names)\n",
    "    print(f\"Creating dataloaders for fold: {fold +1}\\n\")\n",
    "    train_dataloader = DataLoader(train_dataset, batch_size=batch_size, persistent_workers=True, pin_memory=True, num_workers=NUM_WORKERS, generator=g,\n",
    "                              sampler=sampler, shuffle=False, drop_last=True) # shuffle false because of the sampler\n",
    "\n",
    "    val_dataloader = DataLoader(val_dataset, batch_size=batch_size, persistent_workers=True, pin_memory=True, num_workers=NUM_WORKERS, shuffle=False,\n",
    "                             drop_last=True)\n",
    "    \n",
    "    model = model_effnet.EfficientNet.from_pretrained('efficientnet-b7', in_channels=n_bands, num_classes=num_classes, dropout_rate=dropout_rate)\n",
    "    loss_fn = nn.CrossEntropyLoss()\n",
    "    optimizer = torch.optim.Adam(params=model.parameters(), lr=lr)\n",
    "    #lr_scheduler = StepLR(optimizer, step_size=step_size, gamma=gamma)\n",
    "    lr_scheduler = ExponentialLR(optimizer, gamma=gamma)\n",
    "\n",
    "    fold += 1\n",
    "    print(f\"\\n[INFO] Fold number: {fold}\")\n",
    "    print(f\"[INFO] Number of epochs: {epochs}\")\n",
    "    print(f\"[INFO] Batch_size: {batch_size}\")\n",
    "    print(f\"[INFO] Number of bands: {n_bands}\")\n",
    "    print(f\"[INFO] Dropout rate: {dropout_rate}\")\n",
    "    print(f\"[INFO] Gamma learning rate: {gamma}\")\n",
    "    print(f\"[INFO] Memory allocated: {torch.cuda.memory_allocated()} bytes\")\n",
    "    # 4. Train model with k fold dataloaders and track experiments\n",
    "    \n",
    "    if fold == 1:\n",
    "        fold1_results = train(model=model, model_name=model_name, n_bands=n_bands, batch_size=batch_size,train_dataloader=train_dataloader, val_dataloader=val_dataloader, \n",
    "                        optimizer=optimizer, loss_fn=loss_fn, lr_scheduler=lr_scheduler, num_classes=num_classes, epochs=epochs, experiment_num=fold, device=device,\n",
    "                        writer=None, early_stop_patience = patience)\n",
    "       \n",
    "    elif fold == 2:\n",
    "        fold2_results = train(model=model, model_name=model_name, n_bands=n_bands, batch_size=batch_size,train_dataloader=train_dataloader, val_dataloader=val_dataloader, \n",
    "                        optimizer=optimizer, loss_fn=loss_fn, lr_scheduler=lr_scheduler, num_classes=num_classes, epochs=epochs, experiment_num=fold, device=device,\n",
    "                        writer=None, early_stop_patience = patience)\n",
    "    elif fold == 3:\n",
    "        fold3_results = train(model=model, model_name=model_name, n_bands=n_bands, batch_size=batch_size,train_dataloader=train_dataloader, val_dataloader=val_dataloader, \n",
    "                        optimizer=optimizer, loss_fn=loss_fn, lr_scheduler=lr_scheduler, num_classes=num_classes, epochs=epochs, experiment_num=fold, device=device,\n",
    "                        writer=None, early_stop_patience = patience)\n",
    "    elif fold == 4:\n",
    "        fold4_results = train(model=model, model_name=model_name, n_bands=n_bands, batch_size=batch_size,train_dataloader=train_dataloader, val_dataloader=val_dataloader, \n",
    "                        optimizer=optimizer, loss_fn=loss_fn, lr_scheduler=lr_scheduler, num_classes=num_classes, epochs=epochs, experiment_num=fold, device=device,\n",
    "                        writer=None, early_stop_patience = patience)\n",
    "    else:\n",
    "        fold5_results = train(model=model, model_name=model_name, n_bands=n_bands, batch_size=batch_size,train_dataloader=train_dataloader, val_dataloader=val_dataloader, \n",
    "                        optimizer=optimizer, loss_fn=loss_fn, lr_scheduler=lr_scheduler, num_classes=num_classes, epochs=epochs, experiment_num=fold, device=device,\n",
    "                        writer=None, early_stop_patience = patience)\n",
    "    \n",
    "    del train_indices, val_indices, train_image_set, train_label_set, train_hash_id, train_species_set, val_image_set, val_label_set, val_hash_id, val_species_set,\n",
    "    train_dataset, val_dataset, sampler, train_dataloader, val_dataloader, model, loss_fn, optimizer, lr_scheduler\n",
    "    \n",
    "    #finish the wandb run\n",
    "    wandb.finish()\n",
    "    print(\"Deleting variables and emptying cache\")\n",
    "    gc.collect()\n",
    "    torch.cuda.empty_cache()\n",
    "    print(f\"Memory allocated: {torch.cuda.memory_allocated()} bytes\")\n",
    "    print(\"-\"*50 + \"\\n\")\n",
    "    \n"
   ]
  },
  {
   "cell_type": "code",
   "execution_count": null,
   "id": "1885cc98",
   "metadata": {},
   "outputs": [],
   "source": [
    "# Create a graph to visualize the training and validation loss for each fold\n",
    "wandb.run.summary[\"graph\"] = wandb.plot.line_series(\n",
    "    xs=\"epoch\",\n",
    "    ys=[\"train_loss\", \"val_loss\"],\n",
    "    group=\"fold\",\n",
    "    xaxis=\"Epoch\",\n",
    "    yaxis=\"Loss\",\n",
    "    title=\"Training and Validation Loss by Fold\",\n",
    ")\n",
    "\n",
    "# Create a graph to visualize the training and validation f1 score for each fold\n",
    "wandb.run.summary[\"graph\"] = wandb.plot.line_series(\n",
    "    xs=\"epoch\",\n",
    "    ys=[\"train_f1_score\", \"val_f1_score\"],\n",
    "    group=\"fold\",\n",
    "    xaxis=\"Epoch\",\n",
    "    yaxis=\"Loss\",\n",
    "    title=\"Training and Validation F1-Score by Fold\",\n",
    ")"
   ]
  },
  {
   "cell_type": "code",
   "execution_count": null,
   "id": "c0c36ebb",
   "metadata": {},
   "outputs": [],
   "source": [
    "# create test dataset\n",
    "test_dataset = data_loader.CustomTestDataset(\n",
    "    data = test_image_set,\n",
    "    labels = test_label_set,\n",
    "    class_names=class_names, \n",
    "    species = test_species_set,\n",
    "    kkl = None,\n",
    "    transform=transform\n",
    ")\n",
    "\n",
    "# create test dataloader\n",
    "test_dataloader = DataLoader(test_dataset,\n",
    "                             batch_size=batch_size,\n",
    "                             persistent_workers=True,\n",
    "                             pin_memory=True,\n",
    "                             num_workers=NUM_WORKERS,\n",
    "                             shuffle=False,\n",
    "                             drop_last=True)"
   ]
  },
  {
   "cell_type": "code",
   "execution_count": null,
   "id": "67db5af2",
   "metadata": {},
   "outputs": [],
   "source": [
    "# Setup the best model filepath\n",
    "best_model_path = r\"C:\\Users\\lwfeckesim\\01_PyTorch\\wze-uav\\wze-uav-master\\effnet_b0\\01_18_epochs.pth\"\n",
    "\n",
    "# Instantiate a new instance of EffNetB0 (to load the saved state_dict() to)\n",
    "unfreeze=True\n",
    "best_model = models.create_effnetb0(output_shape=num_classes, unfreeze=unfreeze, dropout_rate=dropout_rate, device=device)\n",
    "\n",
    "# Load the saved best model state_dict()\n",
    "best_model.load_state_dict(torch.load(best_model_path))"
   ]
  },
  {
   "cell_type": "code",
   "execution_count": null,
   "id": "6dfbc663",
   "metadata": {},
   "outputs": [],
   "source": [
    "def make_predictions(model: torch.nn.Module, \n",
    "                     test_dataloader: torch.utils.data.DataLoader,\n",
    "                     device: torch.device):\n",
    "    # 1. Make predictions with trained model\n",
    "    y_preds = []\n",
    "    y_labels = []\n",
    "    species_list = []\n",
    "    test_loss, test_precision, test_recall, test_f1_score, test_acc = 0, 0, 0, 0, 0\n",
    "    count = 0\n",
    "    model.eval()\n",
    "    with torch.inference_mode():\n",
    "        for X, y, species in tqdm(test_dataloader, desc=\"Making predictions\"):\n",
    "            # Send data and targets to target device\n",
    "            X, y = X.to(device), y.to(device)\n",
    "            # Do the forward pass\n",
    "            y_logit = model(X)\n",
    "            # Turn predictions from logits -> prediction probabilities -> predictions labels\n",
    "            y_pred = torch.softmax(y_logit, dim=1).argmax(dim=1)\n",
    "            # Put predictions on CPU for evaluation\n",
    "            y_preds.append(y_pred.cpu())\n",
    "            y_labels.append(y.cpu())\n",
    "            species_list.append(species)\n",
    "            \n",
    "            #other metrics\n",
    "            test_acc += ((y_pred == y).sum().item()/len(y_pred))\n",
    "            y_pred_class = y_pred.detach().cpu().numpy() \n",
    "            y_class = y.detach().cpu().numpy()\n",
    "            labels = np.array([0])\n",
    "            test_precision += precision_score(y_class, y_pred_class, average='macro', zero_division=0, labels=[0,1,2])\n",
    "            test_recall += recall_score(y_class, y_pred_class, average='macro', zero_division=0, labels=[0,1,2])\n",
    "            #test_f1_score += f1_score(y_class, y_pred_class, average='macro', zero_division=1, labels=labels)\n",
    "            \n",
    "            #if count >= 1:\n",
    "            #    y_set = torch.cat((y_set, y))\n",
    "            #    count = count + 1\n",
    "            #else:\n",
    "            #    y_set = y\n",
    "            #    count = count + 1\n",
    "            \n",
    "    test_loss = test_loss / len(test_dataloader)\n",
    "    test_precision = test_precision / len(test_dataloader)\n",
    "    test_recall = test_recall / len(test_dataloader)\n",
    "    test_f1_score = test_f1_score / len(test_dataloader)\n",
    "    #test_kappa = test_kappa / len(dataloader)\n",
    "    test_acc = test_acc / len(test_dataloader)\n",
    "    # Concatenate list of predictions into a tensor\n",
    "    y_pred_tensor = torch.cat(y_preds)\n",
    "    y_labels_tensor = torch.cat(y_labels)\n",
    "    test_f1_score = f1_score(y_labels_tensor.detach().cpu().numpy(), y_pred_tensor.cpu().numpy(), average='macro', zero_division=1, labels=[0,1,2])\n",
    "    \n",
    "    # Print classification report\n",
    "    y_true = y_labels_tensor.detach().cpu().numpy()\n",
    "    report = classification_report(y_true, y_pred_tensor.cpu().numpy(), target_names=class_names)\n",
    "    print(report)\n",
    "    \n",
    "    return y_pred_tensor, y_labels_tensor, test_loss, test_recall, test_precision, test_f1_score, test_acc, y_logit, y_pred, y, y_preds"
   ]
  },
  {
   "cell_type": "code",
   "execution_count": null,
   "id": "aab9e321",
   "metadata": {},
   "outputs": [],
   "source": [
    "# 2. Setup confusion matrix instance and compare predictions to targets\n",
    "#from wze_uav.analysis import *\n",
    "y_pred_tensor, y_labels_tensor, test_loss, test_recall, test_precision, test_f1_score, test_acc, y_logit, y_pred, y, y_preds = make_predictions(model=best_model,\n",
    "                                 test_dataloader=test_dataloader, \n",
    "                                 device=device)\n",
    "\n",
    "y_labels_tensor = y_labels_tensor.detach().cpu().numpy()\n",
    "y_pred_tensor = y_pred_tensor.detach().cpu().numpy()\n",
    "\n",
    "#confmat = ConfusionMatrix(num_classes=num_classes, task='multiclass')\n",
    "#confmat_tensor = confmat(preds=y_pred_tensor,\n",
    "#                         target=test_labels)\n",
    "labels = np.array([0,1,2])\n",
    "confmat = confusion_matrix(y_labels_tensor, y_pred_tensor, labels=labels)\n",
    "\n",
    "# 3. Plot the confusion matrix\n",
    "fig, ax = plot_confusion_matrix(\n",
    "    conf_mat=confmat, # matplotlib likes working with NumPy \n",
    "    class_names=class_names, # turn the row and column labels into class names\n",
    "    figsize=(10, 7)\n",
    ");\n",
    "\n",
    "print(f\"Test loss: {test_loss}\")\n",
    "print(f\"Test precision: {test_precision}\")\n",
    "print(f\"Test recall: {test_recall}\")\n",
    "print(f\"Test F1score: {test_f1_score}\")\n",
    "#print(f\"Test Kappa: {test_kappa}\")\n",
    "print(f\"Test Accuracy: {test_acc}\")\n",
    "print(f\"Test Logits: {y_logit}\")\n",
    "print(f\"Test Predictions: {y_pred}\")\n",
    "print(f\"Test Labels: {y}\")"
   ]
  },
  {
   "cell_type": "code",
   "execution_count": null,
   "id": "8d4173b3",
   "metadata": {},
   "outputs": [],
   "source": [
    "len(y_preds)"
   ]
  },
  {
   "cell_type": "code",
   "execution_count": null,
   "id": "7588116f",
   "metadata": {},
   "outputs": [],
   "source": [
    "y_set.cpu()"
   ]
  },
  {
   "cell_type": "code",
   "execution_count": null,
   "id": "1c195b3e",
   "metadata": {},
   "outputs": [],
   "source": [
    "test_dataset.labels"
   ]
  },
  {
   "cell_type": "code",
   "execution_count": null,
   "id": "975ec08c",
   "metadata": {},
   "outputs": [],
   "source": []
  },
  {
   "cell_type": "code",
   "execution_count": null,
   "id": "6da05604",
   "metadata": {},
   "outputs": [],
   "source": [
    "y_preds = []\n",
    "y_labels = []\n",
    "labels = np.array([0,1,2])\n",
    "test_loss, test_precision, test_recall, test_f1_score, test_acc = 0, 0, 0, 0, 0\n",
    "count = 0\n",
    "model.eval()\n",
    "with torch.inference_mode():\n",
    "    for X, y in tqdm(test_dataloader, desc=\"Making predictions\"):\n",
    "        # Send data and targets to target device\n",
    "        X, y = X.to(device), y.to(device)\n",
    "        # Do the forward pass\n",
    "        y_logit = model(X)\n",
    "        # Turn predictions from logits -> prediction probabilities -> predictions labels\n",
    "        y_pred = torch.softmax(y_logit, dim=1).argmax(dim=1)\n",
    "        # Put predictions on CPU for evaluation\n",
    "        y_preds.append(y_pred.cpu())\n",
    "        y_labels.append(y.cpu())\n",
    "        \n",
    "        #other metrics\n",
    "        test_acc += ((y_pred == y).sum().item()/len(y_pred))\n",
    "        y_pred_class = y_pred.detach().cpu().numpy() \n",
    "        y_class = y.detach().cpu().numpy()\n",
    "        test_precision += precision_score(y_class, y_pred_class, average='macro', zero_division=1, labels=labels)\n",
    "        test_recall += recall_score(y_class, y_pred_class, average='macro', zero_division=1, labels=labels)\n",
    "        #test_f1_score += f1_score(y_class, y_pred_class, average='macro', zero_division=1, labels=labels)\n",
    "        \n",
    "        #if count >= 1:\n",
    "        #    y_set = torch.cat((y_set, y))\n",
    "        #    count = count + 1\n",
    "        #else:\n",
    "        #    y_set = y\n",
    "        #    count = count + 1\n",
    "        \n",
    "test_loss = test_loss / len(test_dataloader)\n",
    "test_precision = test_precision / len(test_dataloader)\n",
    "test_recall = test_recall / len(test_dataloader)\n",
    "#test_f1_score = test_f1_score / len(test_dataloader)\n",
    "#test_kappa = test_kappa / len(dataloader)\n",
    "test_acc = test_acc / len(test_dataloader)\n",
    "# Concatenate list of predictions into a tensor\n",
    "y_pred_tensor = torch.cat(y_preds)\n",
    "test_f1_score = f1_score(y_set.detach().cpu().numpy(), y_pred_tensor.cpu().numpy(), average='macro', zero_division=0, labels=[0,1,2])\n",
    "\n",
    "# Print classification report\n",
    "y_true = y_set.detach().cpu().numpy()\n",
    "report = classification_report(y_true, y_pred_tensor.cpu().numpy(), target_names=class_names)\n",
    "print(report)"
   ]
  },
  {
   "cell_type": "code",
   "execution_count": null,
   "id": "6ae97fab",
   "metadata": {},
   "outputs": [],
   "source": [
    "test_f1_score"
   ]
  },
  {
   "cell_type": "code",
   "execution_count": null,
   "id": "7ebafd9b",
   "metadata": {},
   "outputs": [],
   "source": [
    "make = (y_class == y_pred_class)\n",
    "make"
   ]
  },
  {
   "cell_type": "code",
   "execution_count": null,
   "id": "4f8aa759",
   "metadata": {},
   "outputs": [],
   "source": [
    "torch.softmax(y_logit, dim=1).argmax(dim=1)"
   ]
  },
  {
   "cell_type": "code",
   "execution_count": null,
   "id": "f90a54b2",
   "metadata": {},
   "outputs": [],
   "source": [
    "y"
   ]
  },
  {
   "cell_type": "code",
   "execution_count": null,
   "id": "5a806154",
   "metadata": {},
   "outputs": [],
   "source": [
    "test = (y_pred == y).sum().item()/16"
   ]
  },
  {
   "cell_type": "code",
   "execution_count": null,
   "id": "1da35c56",
   "metadata": {},
   "outputs": [],
   "source": [
    "test"
   ]
  },
  {
   "cell_type": "code",
   "execution_count": null,
   "id": "b1eb246e",
   "metadata": {},
   "outputs": [],
   "source": [
    " y_pred_class = y_pred.detach().cpu().numpy() "
   ]
  },
  {
   "cell_type": "code",
   "execution_count": null,
   "id": "602e096f",
   "metadata": {},
   "outputs": [],
   "source": [
    "y_pred_class"
   ]
  },
  {
   "cell_type": "code",
   "execution_count": null,
   "id": "eaf1af09",
   "metadata": {},
   "outputs": [],
   "source": []
  }
 ],
 "metadata": {
  "kernelspec": {
   "display_name": "Python 3 (ipykernel)",
   "language": "python",
   "name": "python3"
  },
  "language_info": {
   "codemirror_mode": {
    "name": "ipython",
    "version": 3
   },
   "file_extension": ".py",
   "mimetype": "text/x-python",
   "name": "python",
   "nbconvert_exporter": "python",
   "pygments_lexer": "ipython3",
   "version": "3.9.16"
  }
 },
 "nbformat": 4,
 "nbformat_minor": 5
}
