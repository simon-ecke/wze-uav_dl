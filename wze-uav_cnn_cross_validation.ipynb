{
 "cells": [
  {
   "cell_type": "markdown",
   "id": "c1acdaa3",
   "metadata": {},
   "source": [
    "# WZE-UAV Image Classification using Deep Learning"
   ]
  },
  {
   "cell_type": "code",
   "execution_count": 1,
   "id": "2159aac5",
   "metadata": {},
   "outputs": [
    {
     "data": {
      "text/plain": [
       "[<matplotlib.lines.Line2D at 0x2554cd7b2e0>]"
      ]
     },
     "execution_count": 1,
     "metadata": {},
     "output_type": "execute_result"
    },
    {
     "data": {
      "image/png": "[encoded data removed]",
      "text/plain": [
       "<Figure size 432x288 with 1 Axes>"
      ]
     },
     "metadata": {
      "needs_background": "light"
     },
     "output_type": "display_data"
    }
   ],
   "source": [
    "import os\n",
    "import glob\n",
    "import matplotlib.pyplot as plt\n",
    "import rasterio\n",
    "import numpy as np\n",
    "import mlxtend\n",
    "from pathlib import Path\n",
    "from tqdm.auto import tqdm\n",
    "from sklearn.metrics import balanced_accuracy_score, precision_score, recall_score, f1_score, confusion_matrix, classification_report\n",
    "\n",
    "\n",
    "x = (1,3)\n",
    "y = (1,3)\n",
    "plt.plot(x,y)"
   ]
  },
  {
   "cell_type": "code",
   "execution_count": 2,
   "id": "0026f7a9",
   "metadata": {},
   "outputs": [],
   "source": [
    "import torch\n",
    "import torchvision.transforms as T\n",
    "import torchvision\n",
    "from torch import nn\n",
    "from torch.utils.data import DataLoader\n",
    "from torchinfo import summary\n",
    "from torchvision import datasets, transforms\n",
    "from torch.utils.data import Dataset\n",
    "from torchinfo import summary\n",
    "from torchmetrics import *\n",
    "import torch.optim as optim\n",
    "from torch.optim.lr_scheduler import StepLR, ExponentialLR\n",
    "from mlxtend.plotting import plot_confusion_matrix\n",
    "import h5py"
   ]
  },
  {
   "cell_type": "code",
   "execution_count": 3,
   "id": "b160d7b4",
   "metadata": {},
   "outputs": [],
   "source": [
    "import wze_uav.data_loader as data_loader\n",
    "import wze_uav.visualization as visualization\n",
    "import wze_uav.models as models\n",
    "from wze_uav.engine import *\n",
    "from wze_uav.utils2 import *\n",
    "from wze_uav.log_writer import create_writer"
   ]
  },
  {
   "cell_type": "markdown",
   "id": "2bd4fb2f",
   "metadata": {},
   "source": [
    "#### Get PyTorch version"
   ]
  },
  {
   "cell_type": "code",
   "execution_count": 4,
   "id": "c10886b1",
   "metadata": {},
   "outputs": [
    {
     "name": "stdout",
     "output_type": "stream",
     "text": [
      "torch version: 1.13.1+cu116\n",
      "torchvision version: 0.14.1+cu116\n"
     ]
    }
   ],
   "source": [
    "print(f\"torch version: {torch.__version__}\")\n",
    "print(f\"torchvision version: {torchvision.__version__}\")"
   ]
  },
  {
   "cell_type": "markdown",
   "id": "aa6a83cf",
   "metadata": {},
   "source": [
    "#### Preparing device agnostic code "
   ]
  },
  {
   "cell_type": "code",
   "execution_count": 5,
   "id": "13d5de88",
   "metadata": {},
   "outputs": [
    {
     "name": "stdout",
     "output_type": "stream",
     "text": [
      "cuda\n",
      "Index of current divice: 0\n",
      "Number of GPUs available: 1\n",
      "GPU Model: Quadro RTX 8000\n"
     ]
    }
   ],
   "source": [
    "# ensure device agnostic code\n",
    "device = 'cuda' if torch.cuda.is_available() else 'cpu'\n",
    "print(device)\n",
    "\n",
    "# get index of currently selected device\n",
    "print(f\"Index of current divice: {torch.cuda.current_device()}\")\n",
    "# get number of GPUs available\n",
    "print(f\"Number of GPUs available: {torch.cuda.device_count()}\")\n",
    "# get the name of the device\n",
    "print(f\"GPU Model: {torch.cuda.get_device_name(0)}\")"
   ]
  },
  {
   "cell_type": "markdown",
   "id": "a26a6a34",
   "metadata": {},
   "source": [
    "#### Ensure reproducibility "
   ]
  },
  {
   "cell_type": "code",
   "execution_count": 6,
   "id": "dd4656a7",
   "metadata": {},
   "outputs": [],
   "source": [
    "# for more information, see also: https://pytorch.org/docs/stable/notes/randomness.html\n",
    "\n",
    "# Set seeds\n",
    "def set_seeds(seed: int=0):\n",
    "    \"\"\"Sets random sets for torch operations.\n",
    "\n",
    "    Args:\n",
    "        seed (int, optional): Random seed to set. Defaults to 0.\n",
    "    \"\"\"\n",
    "    # Set the seed for general torch operations\n",
    "    torch.manual_seed(seed)\n",
    "    # Set the seed for CUDA torch operations (ones that happen on the GPU)\n",
    "    torch.cuda.manual_seed(seed)\n",
    "\n",
    "# seed for numpy\n",
    "np.random.seed(0)\n",
    "# avoiding non-deterministic algorithms\n",
    "#torch.use_deterministic_algorithms(True)\n",
    "# Set to true -> might speed up the process but should be set to False if reproducible results are desired\n",
    "torch.backends.cudnn.benchmark = True\n"
   ]
  },
  {
   "cell_type": "markdown",
   "id": "8be33671",
   "metadata": {},
   "source": [
    "#### Define file directories"
   ]
  },
  {
   "cell_type": "code",
   "execution_count": 7,
   "id": "30645f36",
   "metadata": {},
   "outputs": [],
   "source": [
    "set_seeds() # ensure reproducibility\n",
    "\n",
    "data_path = r\"D:\\Drohnendaten\\10_WZE-UAV\\Auswertung_findatree\\Datasplit\"\n",
    "\n",
    "test_data_path = r\"\""
   ]
  },
  {
   "cell_type": "code",
   "execution_count": null,
   "id": "73ba3011",
   "metadata": {},
   "outputs": [],
   "source": []
  },
  {
   "cell_type": "markdown",
   "id": "4560ce64",
   "metadata": {},
   "source": [
    "#### Create hashID for spatial seperation of the data"
   ]
  },
  {
   "cell_type": "code",
   "execution_count": null,
   "id": "a7a7490b",
   "metadata": {},
   "outputs": [],
   "source": [
    "fn_list = os.listdir(data_path)\n",
    "# Initialize dictionary to store groups of files with the same name\n",
    "file_groups = {}\n",
    "\n",
    "# Iterate over all datafiles\n",
    "for year in fn_list:\n",
    "    year_dir = f'{data_path}\\\\{year}'\n",
    "    for filename in os.listdir(year_dir):\n",
    "        # Generate unique identifier for file based on its name\n",
    "        identifier = hashlib.md5(filename.encode()).hexdigest()\n",
    "\n",
    "        # Add file to appropriate group based on identifier\n",
    "        if identifier in file_groups:\n",
    "            file_groups[identifier][year] = os.path.join(year_dir, filename)\n",
    "        else:\n",
    "            file_groups[identifier] = {year: os.path.join(year_dir, filename)}"
   ]
  },
  {
   "cell_type": "markdown",
   "id": "c17de035",
   "metadata": {},
   "source": [
    "#### Prepare k-folds for cross validation"
   ]
  },
  {
   "cell_type": "code",
   "execution_count": null,
   "id": "50cdd77c",
   "metadata": {},
   "outputs": [],
   "source": [
    "data_dict = file_groups\n",
    "\n",
    "# create lists of hashIDs and file paths\n",
    "hashIDs = []\n",
    "file_paths = []\n",
    "for hashID, files in data_dict.items():\n",
    "    for year, file_path in files.items():\n",
    "        hashIDs.append(hashID)\n",
    "        file_paths.append(file_path)\n",
    "\n",
    "# define the number of folds for k-fold cross-validation\n",
    "num_folds = 5\n",
    "\n",
    "# create the k-fold cross-validator with GroupKFold\n",
    "kf = GroupKFold(n_splits=num_folds)      "
   ]
  },
  {
   "cell_type": "markdown",
   "id": "c81b8c5e",
   "metadata": {},
   "source": [
    "#### Define model and parameters"
   ]
  },
  {
   "cell_type": "code",
   "execution_count": null,
   "id": "2be97e98",
   "metadata": {},
   "outputs": [],
   "source": [
    "# set seeds\n",
    "g = torch.Generator()\n",
    "g.manual_seed(0)\n",
    "\n",
    "###### define Parameters######\n",
    "NUM_WORKERS=3 # should be changed, depending on the system used\n",
    "batch_size=16\n",
    "n_bands = 3 # define number of bands\n",
    "num_classes = len(classes)\n",
    "dropout_rate = 0.3 #define dropout rate\n",
    "unfreeze = True\n",
    "gamma = 0.65 # how fast the learning rate decreases per epoch (low number=faster decrease)\n",
    "weights = 2 # weight for the focal loss to give more importance to the minority classes\n",
    "#step_size = 1\n",
    "##############################\n",
    "\n",
    "\n",
    "classes = train_dataset.class_names\n",
    "num_classes = len(classes) # get output_shape (number of classes) as an argument for the model\n",
    "\n",
    "\n",
    "# train transform with augmentation. \n",
    "transform_train = transforms.Compose([transforms.ToTensor(), transforms.RandomHorizontalFlip(p=0.5), transforms.RandomVerticalFlip(p=0.5), transforms.RandomRotation(degrees=[-90,90])])\n",
    "\n",
    "# test and val dataset transform without augmentation. \n",
    "transform = transforms.Compose([transforms.ToTensor()])\n",
    "\n",
    "\n",
    "#class names need to fit the customDataset class used e.g. 3 classes -> use CustomDataset3Classes\n",
    "#class_names = ['healthy', 'slightly_stressed', 'moderately_stressed', 'highly_stressed', 'dead']\n",
    "#class_names = ['healthy', 'moderately_stressed', 'highly_stressed', 'dead']\n",
    "class_names = ['healthy', 'stressed', 'dead']\n",
    "\n",
    "# Define number of epochs per fold\n",
    "num_epochs = num_epochs\n",
    "\n",
    "# Create target folder name were to save the tensorboard event files\n",
    "target_dir = \"TEST_log_evaluation\""
   ]
  },
  {
   "cell_type": "markdown",
   "id": "5c5d55d6",
   "metadata": {},
   "source": [
    "#### Perform k-fold cross validation and run the model"
   ]
  },
  {
   "cell_type": "code",
   "execution_count": null,
   "id": "95cc978a",
   "metadata": {},
   "outputs": [],
   "source": [
    "%%time\n",
    "set_seeds()\n",
    "# group files with same names from each year based on their hashID to ensure spatial seperation of train and validation data\n",
    "for fold, (train_idx, val_idx) in enumerate(kf.split(file_paths, groups=hashIDs)): \n",
    "    # get the train and validation file paths using the indices\n",
    "    train_files = [file_paths[i] for i in train_idx]\n",
    "    val_files = [file_paths[i] for i in val_idx]\n",
    "   \n",
    "    train_image_set, train_label_set, train_species_set, train_kkl_set, train_bk_set = data_loader.hdf5_to_img_label(train_files, load_sets = [\"images_masked\"])\n",
    "    val_image_set, val_label_set, val_species_set, val_kkl_set, val_bk_set = data_loader.hdf5_to_img_label(val_files, load_sets = [\"images_masked\"])\n",
    "    \n",
    "    # create PyTorch dataset - choose custom dataset loader with 3 - 5 classes\n",
    "    train_dataset = data_loader.CustomDataset3Classes(data = train_image_set, labels = train_label_set, class_names=class_names, species = train_species_set, kkl = train_kkl_set, transform=transform_train)\n",
    "    val_dataset = data_loader.CustomDataset3Classes(data = val_image_set, labels = val_label_set, class_names=class_names, species = val_species_set, kkl = val_kkl_set, transform=transform)\n",
    "     \n",
    "    # create sampler to handle class imbalance by oversampling the minority classes - will be used as argument in the train_dataloader\n",
    "    sampler = data_loader.data_sampler(labels_tensor=train_dataset.labels, class_names=class_names)\n",
    "    \n",
    "    # create PyTorch dataloaders\n",
    "    train_dataloader = DataLoader(train_dataset, batch_size=batch_size, persistent_workers=True, pin_memory=True, num_workers=NUM_WORKERS, generator=g, sampler=sampler, shuffle=False, drop_last=True)\n",
    "    val_dataloader = DataLoader(val_dataset, batch_size=batch_size, persistent_workers=True, pin_memory=True, num_workers=NUM_WORKERS, shuffle=False, drop_last=True)\n",
    "    \n",
    "    # set the initial learning rate\n",
    "    lr = 0.005\n",
    "    \n",
    "    model = create_effnetb2(output_shape=num_classes, dropout_rate=0.3, unfreeze=True, device=device)\n",
    "    model_name = \"Fold_\" + str(fold) + \"_EffNet_b2\"\n",
    "\n",
    "    # Create loss and optimizer\n",
    "    loss_fn = FocalLoss(weights=weights)\n",
    "    optimizer = torch.optim.Adam(params=model.parameters(), lr=lr)\n",
    "    lr_scheduler = ExponentialLR(optimizer, gamma=gamma)\n",
    "    \n",
    "    # Loop through each number of epochs within the fold\n",
    "    for epochs in num_epochs:\n",
    "    \n",
    "        # Create information print outs\n",
    "        experiment_number += 1\n",
    "        print(f\"[INFO] K-fold: {fold}\")\n",
    "        print(f\"[INFO] Model: {model_name}\")\n",
    "        print(f\"[INFO] Number of epochs: {epochs}\")\n",
    "        print(f\"[INFO] Batch_size: {batch_size}\")\n",
    "        print(f\"[INFO] Number of bands: {n_bands}\")\n",
    "        print(f\"[INFO] Dropout rate: {dropout_rate}\")\n",
    "        print(f\"[INFO] Gamma learning rate: {gamma}\")\n",
    "        print(f\"[INFO] Gamma FocalLoss: {weights}\")\n",
    "        \n",
    "        # Train target model with target dataloaders and track experiments\n",
    "        results = train(model=model,\n",
    "                        model_name=model_name,\n",
    "                        n_bands=n_bands,\n",
    "                        batch_size=batch_size,\n",
    "                        train_dataloader=train_dataloader,\n",
    "                        val_dataloader=val_dataloader, \n",
    "                        optimizer=optimizer,\n",
    "                        loss_fn=loss_fn,\n",
    "                        lr_scheduler=lr_scheduler,\n",
    "                        num_classes=num_classes,\n",
    "                        epochs=epochs,\n",
    "                        device=device,\n",
    "                        writer=create_writer(target_dir=target_dir,\n",
    "                                             experiment_name='Evaluating_hyperparameters',\n",
    "                                             model_name=model_name,\n",
    "                                             extra=f\"{fold}_fold_{epochs}_epochs\"))\n",
    "        \n",
    "        # 10. Save the model to file so we can get back the best model\n",
    "        save_filepath = f\"01_{model_name}_{epochs}_epochs.pth\"\n",
    "        save_model(model=model,\n",
    "                   target_dir=\"finished_models\",\n",
    "                   model_name=save_filepath)\n",
    "        print(\"-\"*50 + \"\\n\")\n"
   ]
  },
  {
   "cell_type": "code",
   "execution_count": 35,
   "id": "1813c163",
   "metadata": {
    "scrolled": false
   },
   "outputs": [
    {
     "name": "stdout",
     "output_type": "stream",
     "text": [
      "[INFO] Experiment number: 1\n",
      "[INFO] Model: effnet_b0\n",
      "[INFO] Number of epochs: 20\n",
      "[INFO] Batch_size: 16\n",
      "[INFO] Number of bands: 3\n",
      "[INFO] Dropout rate: 0.3\n",
      "[INFO] Gamma learning rate: 0.65\n",
      "[INFO] Gamma FocalLoss: 2\n",
      "[INFO] Created new effnet_b0 model.\n",
      "[INFO] Created SummaryWriter, saving to: TEST_log_evaluation\\2023-03-29\\Evaluating_hyperparameters\\effnet_b0\\20_epochs...\n"
     ]
    },
    {
     "data": {
      "application/vnd.jupyter.widget-view+json": {
       "model_id": "a5e9515405c149fd9512a85e9b8bd9bc",
       "version_major": 2,
       "version_minor": 0
      },
      "text/plain": [
       "  0%|          | 0/20 [00:00<?, ?it/s]"
      ]
     },
     "metadata": {},
     "output_type": "display_data"
    },
    {
     "name": "stdout",
     "output_type": "stream",
     "text": [
      "Learning rate: 0.005\n",
      "Epoch: 1 \n",
      "Train loss: 0.2624 | Train precision: 0.6566 | Train recall: 0.6441 | Train f1score: 0.5644 | Train acc: 0.5865 \n",
      "Val loss: 0.4467 | Val precision: 0.7400 | Val recall: 0.3993 | Val f1score: 0.2868 | Val acc: 0.5076 \n",
      "\n",
      "Learning rate: 0.005\n",
      "Epoch: 2 \n",
      "Train loss: 0.2162 | Train precision: 0.6950 | Train recall: 0.6915 | Train f1score: 0.6277 | Train acc: 0.6252 \n",
      "Val loss: 0.1991 | Val precision: 0.8084 | Val recall: 0.6648 | Val f1score: 0.5962 | Val acc: 0.6674 \n",
      "\n",
      "Learning rate: 0.005\n",
      "Epoch: 3 \n",
      "Train loss: 0.2082 | Train precision: 0.7041 | Train recall: 0.7095 | Train f1score: 0.6507 | Train acc: 0.6477 \n",
      "Val loss: 0.2792 | Val precision: 0.8189 | Val recall: 0.5549 | Val f1score: 0.4953 | Val acc: 0.7410 \n",
      "\n",
      "Learning rate: 0.005\n",
      "Epoch: 4 \n",
      "Train loss: 0.2015 | Train precision: 0.7245 | Train recall: 0.7250 | Train f1score: 0.6755 | Train acc: 0.6651 \n",
      "Val loss: 0.1810 | Val precision: 0.8115 | Val recall: 0.6890 | Val f1score: 0.6186 | Val acc: 0.6562 \n",
      "\n",
      "Learning rate: 0.005\n",
      "Epoch: 5 \n",
      "Train loss: 0.1978 | Train precision: 0.7273 | Train recall: 0.7297 | Train f1score: 0.6825 | Train acc: 0.6703 \n",
      "Val loss: 0.1411 | Val precision: 0.8461 | Val recall: 0.8483 | Val f1score: 0.7187 | Val acc: 0.8934 \n",
      "\n",
      "Learning rate: 0.005\n",
      "Epoch: 6 \n",
      "Train loss: 0.1917 | Train precision: 0.7279 | Train recall: 0.7330 | Train f1score: 0.6883 | Train acc: 0.6715 \n",
      "Val loss: 0.5837 | Val precision: 0.7266 | Val recall: 0.5505 | Val f1score: 0.3739 | Val acc: 0.5118 \n",
      "\n",
      "Learning rate: 0.005\n",
      "Epoch: 7 \n",
      "Train loss: 0.1913 | Train precision: 0.7386 | Train recall: 0.7418 | Train f1score: 0.6975 | Train acc: 0.6796 \n",
      "Val loss: 0.1172 | Val precision: 0.8666 | Val recall: 0.7834 | Val f1score: 0.7299 | Val acc: 0.8399 \n",
      "\n",
      "Learning rate: 0.005\n",
      "Epoch: 8 \n",
      "Train loss: 0.1937 | Train precision: 0.7283 | Train recall: 0.7384 | Train f1score: 0.6895 | Train acc: 0.6723 \n",
      "Val loss: 0.1028 | Val precision: 0.8445 | Val recall: 0.9606 | Val f1score: 0.8225 | Val acc: 0.9323 \n",
      "\n",
      "Learning rate: 0.005\n",
      "Epoch: 9 \n",
      "Train loss: 0.1822 | Train precision: 0.7418 | Train recall: 0.7433 | Train f1score: 0.7037 | Train acc: 0.6806 \n",
      "Val loss: 0.2644 | Val precision: 0.7381 | Val recall: 0.6327 | Val f1score: 0.4712 | Val acc: 0.3705 \n",
      "\n",
      "Learning rate: 0.005\n",
      "Epoch: 10 \n",
      "Train loss: 0.1831 | Train precision: 0.7488 | Train recall: 0.7528 | Train f1score: 0.7136 | Train acc: 0.6913 \n",
      "Val loss: 0.2444 | Val precision: 0.7965 | Val recall: 0.5950 | Val f1score: 0.5014 | Val acc: 0.5674 \n",
      "\n",
      "Learning rate: 0.005\n",
      "Epoch: 11 \n",
      "Train loss: 0.1837 | Train precision: 0.7500 | Train recall: 0.7499 | Train f1score: 0.7100 | Train acc: 0.6859 \n",
      "Val loss: 0.1743 | Val precision: 0.8328 | Val recall: 0.6690 | Val f1score: 0.6148 | Val acc: 0.7340 \n",
      "\n",
      "Learning rate: 0.005\n",
      "Epoch: 12 \n",
      "Train loss: 0.1785 | Train precision: 0.7547 | Train recall: 0.7568 | Train f1score: 0.7180 | Train acc: 0.6933 \n",
      "Val loss: 0.1942 | Val precision: 0.8350 | Val recall: 0.6596 | Val f1score: 0.5934 | Val acc: 0.6622 \n",
      "\n",
      "Learning rate: 0.005\n",
      "Epoch: 13 \n",
      "Train loss: 0.1759 | Train precision: 0.7552 | Train recall: 0.7578 | Train f1score: 0.7181 | Train acc: 0.6979 \n",
      "Val loss: 0.1997 | Val precision: 0.8339 | Val recall: 0.6654 | Val f1score: 0.5993 | Val acc: 0.6566 \n",
      "\n",
      "Learning rate: 0.005\n",
      "Epoch: 14 \n",
      "Train loss: 0.1782 | Train precision: 0.7579 | Train recall: 0.7625 | Train f1score: 0.7230 | Train acc: 0.6993 \n",
      "Val loss: 0.2358 | Val precision: 0.7976 | Val recall: 0.6512 | Val f1score: 0.5519 | Val acc: 0.5507 \n",
      "\n",
      "Learning rate: 0.005\n",
      "Epoch: 15 \n",
      "Train loss: 0.1753 | Train precision: 0.7545 | Train recall: 0.7598 | Train f1score: 0.7155 | Train acc: 0.6965 \n",
      "Val loss: 0.3303 | Val precision: 0.6961 | Val recall: 0.6712 | Val f1score: 0.4153 | Val acc: 0.1896 \n",
      "\n",
      "Learning rate: 0.005\n",
      "Epoch: 16 \n",
      "Train loss: 0.1781 | Train precision: 0.7533 | Train recall: 0.7534 | Train f1score: 0.7148 | Train acc: 0.6923 \n",
      "Val loss: 0.2563 | Val precision: 0.8222 | Val recall: 0.5806 | Val f1score: 0.5105 | Val acc: 0.6392 \n",
      "\n",
      "Learning rate: 0.005\n",
      "Epoch: 17 \n",
      "Train loss: 0.1733 | Train precision: 0.7635 | Train recall: 0.7678 | Train f1score: 0.7302 | Train acc: 0.7079 \n",
      "Val loss: 0.1489 | Val precision: 0.8639 | Val recall: 0.7388 | Val f1score: 0.6870 | Val acc: 0.7750 \n",
      "\n",
      "Learning rate: 0.005\n",
      "Epoch: 18 \n",
      "Train loss: 0.1739 | Train precision: 0.7707 | Train recall: 0.7692 | Train f1score: 0.7343 | Train acc: 0.7079 \n",
      "Val loss: 1.0525 | Val precision: 0.5688 | Val recall: 0.3603 | Val f1score: 0.0595 | Val acc: 0.0594 \n",
      "\n",
      "Learning rate: 0.005\n",
      "Epoch: 19 \n",
      "Train loss: 0.1782 | Train precision: 0.7600 | Train recall: 0.7601 | Train f1score: 0.7209 | Train acc: 0.7011 \n",
      "Val loss: 0.1747 | Val precision: 0.8213 | Val recall: 0.7143 | Val f1score: 0.6479 | Val acc: 0.8003 \n",
      "\n",
      "Learning rate: 0.005\n",
      "Epoch: 20 \n",
      "Train loss: 0.1688 | Train precision: 0.7747 | Train recall: 0.7768 | Train f1score: 0.7444 | Train acc: 0.7185 \n",
      "Val loss: 0.1413 | Val precision: 0.8698 | Val recall: 0.7514 | Val f1score: 0.7058 | Val acc: 0.7944 \n",
      "\n",
      "--------------------------------------------------\n",
      "\n",
      "CPU times: total: 24min 8s\n",
      "Wall time: 22min 36s\n"
     ]
    }
   ],
   "source": []
  },
  {
   "cell_type": "code",
   "execution_count": null,
   "id": "c0c36ebb",
   "metadata": {},
   "outputs": [],
   "source": [
    "# create test dataset\n",
    "test_dataset = data_loader.CustomDataset3Classes(\n",
    "    data = test_image_set,\n",
    "    labels = test_label_set,\n",
    "    class_names=class_names, \n",
    "    species = test_species_set,\n",
    "    kkl = test_kkl_set,\n",
    "    transform=transform\n",
    ")\n",
    "\n",
    "# create test dataloader\n",
    "test_dataloader = DataLoader(test_dataset,\n",
    "                             batch_size=batch_size,\n",
    "                             persistent_workers=True,\n",
    "                             pin_memory=True,\n",
    "                             num_workers=NUM_WORKERS,\n",
    "                             shuffle=False,\n",
    "                             drop_last=True)"
   ]
  },
  {
   "cell_type": "code",
   "execution_count": 60,
   "id": "67db5af2",
   "metadata": {},
   "outputs": [
    {
     "name": "stdout",
     "output_type": "stream",
     "text": [
      "[INFO] Created new effnet_b0 model.\n"
     ]
    },
    {
     "data": {
      "text/plain": [
       "<All keys matched successfully>"
      ]
     },
     "execution_count": 60,
     "metadata": {},
     "output_type": "execute_result"
    }
   ],
   "source": [
    "# Setup the best model filepath\n",
    "best_model_path = r\"C:\\Users\\lwfeckesim\\01_PyTorch\\wze-uav\\wze-uav-master\\effnet_b0\\01_18_epochs.pth\"\n",
    "\n",
    "# Instantiate a new instance of EffNetB0 (to load the saved state_dict() to)\n",
    "unfreeze=True\n",
    "best_model = models.create_effnetb0(output_shape=num_classes, unfreeze=unfreeze, dropout_rate=dropout_rate, device=device)\n",
    "\n",
    "# Load the saved best model state_dict()\n",
    "best_model.load_state_dict(torch.load(best_model_path))"
   ]
  },
  {
   "cell_type": "code",
   "execution_count": 61,
   "id": "6dfbc663",
   "metadata": {},
   "outputs": [],
   "source": [
    "def make_predictions(model: torch.nn.Module, \n",
    "                     test_dataloader: torch.utils.data.DataLoader,\n",
    "                     device: torch.device):\n",
    "    # 1. Make predictions with trained model\n",
    "    y_preds = []\n",
    "    y_labels = []\n",
    "    test_loss, test_precision, test_recall, test_f1_score, test_acc = 0, 0, 0, 0, 0\n",
    "    count = 0\n",
    "    model.eval()\n",
    "    with torch.inference_mode():\n",
    "        for X, y in tqdm(test_dataloader, desc=\"Making predictions\"):\n",
    "            # Send data and targets to target device\n",
    "            X, y = X.to(device), y.to(device)\n",
    "            # Do the forward pass\n",
    "            y_logit = model(X)\n",
    "            # Turn predictions from logits -> prediction probabilities -> predictions labels\n",
    "            y_pred = torch.softmax(y_logit, dim=1).argmax(dim=1)\n",
    "            # Put predictions on CPU for evaluation\n",
    "            y_preds.append(y_pred.cpu())\n",
    "            y_labels.append(y.cpu())\n",
    "            \n",
    "            #other metrics\n",
    "            test_acc += ((y_pred == y).sum().item()/len(y_pred))\n",
    "            y_pred_class = y_pred.detach().cpu().numpy() \n",
    "            y_class = y.detach().cpu().numpy()\n",
    "            labels = np.array([0])\n",
    "            test_precision += precision_score(y_class, y_pred_class, average='macro', zero_division=0, labels=[0,1,2])\n",
    "            test_recall += recall_score(y_class, y_pred_class, average='macro', zero_division=0, labels=[0,1,2])\n",
    "            #test_f1_score += f1_score(y_class, y_pred_class, average='macro', zero_division=1, labels=labels)\n",
    "            \n",
    "            #if count >= 1:\n",
    "            #    y_set = torch.cat((y_set, y))\n",
    "            #    count = count + 1\n",
    "            #else:\n",
    "            #    y_set = y\n",
    "            #    count = count + 1\n",
    "            \n",
    "    test_loss = test_loss / len(test_dataloader)\n",
    "    test_precision = test_precision / len(test_dataloader)\n",
    "    test_recall = test_recall / len(test_dataloader)\n",
    "    test_f1_score = test_f1_score / len(test_dataloader)\n",
    "    #test_kappa = test_kappa / len(dataloader)\n",
    "    test_acc = test_acc / len(test_dataloader)\n",
    "    # Concatenate list of predictions into a tensor\n",
    "    y_pred_tensor = torch.cat(y_preds)\n",
    "    y_labels_tensor = torch.cat(y_labels)\n",
    "    test_f1_score = f1_score(y_labels_tensor.detach().cpu().numpy(), y_pred_tensor.cpu().numpy(), average='macro', zero_division=1, labels=[0,1,2])\n",
    "    \n",
    "    # Print classification report\n",
    "    y_true = y_labels_tensor.detach().cpu().numpy()\n",
    "    report = classification_report(y_true, y_pred_tensor.cpu().numpy(), target_names=class_names)\n",
    "    print(report)\n",
    "    \n",
    "    return y_pred_tensor, y_labels_tensor, test_loss, test_recall, test_precision, test_f1_score, test_acc, y_logit, y_pred, y, y_preds"
   ]
  },
  {
   "cell_type": "code",
   "execution_count": 62,
   "id": "aab9e321",
   "metadata": {},
   "outputs": [
    {
     "data": {
      "application/vnd.jupyter.widget-view+json": {
       "model_id": "46b3144341ab41f3b234434aa09299e1",
       "version_major": 2,
       "version_minor": 0
      },
      "text/plain": [
       "Making predictions:   0%|          | 0/156 [00:00<?, ?it/s]"
      ]
     },
     "metadata": {},
     "output_type": "display_data"
    },
    {
     "name": "stdout",
     "output_type": "stream",
     "text": [
      "              precision    recall  f1-score   support\n",
      "\n",
      "     healthy       0.95      0.88      0.92      2228\n",
      "    stressed       0.32      0.56      0.41       226\n",
      "        dead       0.84      0.86      0.85        42\n",
      "\n",
      "    accuracy                           0.85      2496\n",
      "   macro avg       0.70      0.77      0.72      2496\n",
      "weighted avg       0.89      0.85      0.87      2496\n",
      "\n",
      "Test loss: 0.0\n",
      "Test precision: 0.4154684139459786\n",
      "Test recall: 0.41671078506014464\n",
      "Test F1score: 0.7247865216737815\n",
      "Test Accuracy: 0.8525641025641025\n",
      "Test Logits: tensor([[ 1.7014,  0.8877, -5.1889],\n",
      "        [ 2.3632,  0.8889, -6.1630],\n",
      "        [ 2.2219,  0.9962, -6.0906],\n",
      "        [-0.6744,  0.1306,  0.6790],\n",
      "        [ 0.9584,  1.0023, -4.1342],\n",
      "        [ 1.1653,  0.9413, -4.2456],\n",
      "        [ 1.9196,  1.0043, -5.6535],\n",
      "        [ 0.5722,  0.7214, -2.7888],\n",
      "        [ 2.0116,  1.1527, -6.1480],\n",
      "        [ 2.0599,  1.0727, -6.0320],\n",
      "        [ 2.1480,  0.9218, -5.8122],\n",
      "        [ 1.8820,  0.8687, -5.2790],\n",
      "        [ 1.5475,  1.0596, -5.1709],\n",
      "        [ 1.8884,  0.9385, -5.4567],\n",
      "        [ 1.7652,  1.0623, -5.5407],\n",
      "        [ 1.1063,  0.8732, -4.0481]], device='cuda:0')\n",
      "Test Predictions: tensor([0, 0, 0, 2, 1, 0, 0, 1, 0, 0, 0, 0, 0, 0, 0, 0], device='cuda:0')\n",
      "Test Labels: tensor([0, 0, 0, 0, 0, 0, 0, 0, 0, 0, 0, 0, 0, 0, 0, 0], device='cuda:0')\n"
     ]
    },
    {
     "data": {
      "image/png": "[encoded data removed]",
      "text/plain": [
       "<Figure size 720x504 with 1 Axes>"
      ]
     },
     "metadata": {
      "needs_background": "light"
     },
     "output_type": "display_data"
    }
   ],
   "source": [
    "# 2. Setup confusion matrix instance and compare predictions to targets\n",
    "#from wze_uav.analysis import *\n",
    "y_pred_tensor, y_labels_tensor, test_loss, test_recall, test_precision, test_f1_score, test_acc, y_logit, y_pred, y, y_preds = make_predictions(model=best_model,\n",
    "                                 test_dataloader=test_dataloader, \n",
    "                                 device=device)\n",
    "\n",
    "y_labels_tensor = y_labels_tensor.detach().cpu().numpy()\n",
    "y_pred_tensor = y_pred_tensor.detach().cpu().numpy()\n",
    "\n",
    "#confmat = ConfusionMatrix(num_classes=num_classes, task='multiclass')\n",
    "#confmat_tensor = confmat(preds=y_pred_tensor,\n",
    "#                         target=test_labels)\n",
    "labels = np.array([0,1,2])\n",
    "confmat = confusion_matrix(y_labels_tensor, y_pred_tensor, labels=labels)\n",
    "\n",
    "# 3. Plot the confusion matrix\n",
    "fig, ax = plot_confusion_matrix(\n",
    "    conf_mat=confmat, # matplotlib likes working with NumPy \n",
    "    class_names=class_names, # turn the row and column labels into class names\n",
    "    figsize=(10, 7)\n",
    ");\n",
    "\n",
    "print(f\"Test loss: {test_loss}\")\n",
    "print(f\"Test precision: {test_precision}\")\n",
    "print(f\"Test recall: {test_recall}\")\n",
    "print(f\"Test F1score: {test_f1_score}\")\n",
    "#print(f\"Test Kappa: {test_kappa}\")\n",
    "print(f\"Test Accuracy: {test_acc}\")\n",
    "print(f\"Test Logits: {y_logit}\")\n",
    "print(f\"Test Predictions: {y_pred}\")\n",
    "print(f\"Test Labels: {y}\")"
   ]
  },
  {
   "cell_type": "code",
   "execution_count": 48,
   "id": "8d4173b3",
   "metadata": {},
   "outputs": [
    {
     "data": {
      "text/plain": [
       "156"
      ]
     },
     "execution_count": 48,
     "metadata": {},
     "output_type": "execute_result"
    }
   ],
   "source": [
    "len(y_preds)"
   ]
  },
  {
   "cell_type": "code",
   "execution_count": 92,
   "id": "7588116f",
   "metadata": {},
   "outputs": [
    {
     "ename": "NameError",
     "evalue": "name 'y_set' is not defined",
     "output_type": "error",
     "traceback": [
      "\u001b[1;31m---------------------------------------------------------------------------\u001b[0m",
      "\u001b[1;31mNameError\u001b[0m                                 Traceback (most recent call last)",
      "Input \u001b[1;32mIn [92]\u001b[0m, in \u001b[0;36m<cell line: 1>\u001b[1;34m()\u001b[0m\n\u001b[1;32m----> 1\u001b[0m \u001b[43my_set\u001b[49m\u001b[38;5;241m.\u001b[39mcpu()\n",
      "\u001b[1;31mNameError\u001b[0m: name 'y_set' is not defined"
     ]
    }
   ],
   "source": [
    "y_set.cpu()"
   ]
  },
  {
   "cell_type": "code",
   "execution_count": 141,
   "id": "1c195b3e",
   "metadata": {},
   "outputs": [
    {
     "data": {
      "text/plain": [
       "tensor([1, 0, 1,  ..., 0, 0, 0])"
      ]
     },
     "execution_count": 141,
     "metadata": {},
     "output_type": "execute_result"
    }
   ],
   "source": [
    "test_dataset.labels"
   ]
  },
  {
   "cell_type": "code",
   "execution_count": null,
   "id": "975ec08c",
   "metadata": {},
   "outputs": [],
   "source": []
  },
  {
   "cell_type": "code",
   "execution_count": 139,
   "id": "6da05604",
   "metadata": {},
   "outputs": [
    {
     "data": {
      "application/vnd.jupyter.widget-view+json": {
       "model_id": "a223988f3a8b4b2eae8b8b3b3f7776de",
       "version_major": 2,
       "version_minor": 0
      },
      "text/plain": [
       "Making predictions:   0%|          | 0/156 [00:00<?, ?it/s]"
      ]
     },
     "metadata": {},
     "output_type": "display_data"
    },
    {
     "name": "stdout",
     "output_type": "stream",
     "text": [
      "              precision    recall  f1-score   support\n",
      "\n",
      "     healthy       0.94      0.90      0.92      2228\n",
      "    stressed       0.42      0.31      0.35       226\n",
      "        dead       0.19      0.83      0.32        42\n",
      "\n",
      "    accuracy                           0.85      2496\n",
      "   macro avg       0.52      0.68      0.53      2496\n",
      "weighted avg       0.88      0.85      0.86      2496\n",
      "\n"
     ]
    }
   ],
   "source": [
    "y_preds = []\n",
    "y_labels = []\n",
    "labels = np.array([0,1,2])\n",
    "test_loss, test_precision, test_recall, test_f1_score, test_acc = 0, 0, 0, 0, 0\n",
    "count = 0\n",
    "model.eval()\n",
    "with torch.inference_mode():\n",
    "    for X, y in tqdm(test_dataloader, desc=\"Making predictions\"):\n",
    "        # Send data and targets to target device\n",
    "        X, y = X.to(device), y.to(device)\n",
    "        # Do the forward pass\n",
    "        y_logit = model(X)\n",
    "        # Turn predictions from logits -> prediction probabilities -> predictions labels\n",
    "        y_pred = torch.softmax(y_logit, dim=1).argmax(dim=1)\n",
    "        # Put predictions on CPU for evaluation\n",
    "        y_preds.append(y_pred.cpu())\n",
    "        y_labels.append(y.cpu())\n",
    "        \n",
    "        #other metrics\n",
    "        test_acc += ((y_pred == y).sum().item()/len(y_pred))\n",
    "        y_pred_class = y_pred.detach().cpu().numpy() \n",
    "        y_class = y.detach().cpu().numpy()\n",
    "        test_precision += precision_score(y_class, y_pred_class, average='macro', zero_division=1, labels=labels)\n",
    "        test_recall += recall_score(y_class, y_pred_class, average='macro', zero_division=1, labels=labels)\n",
    "        #test_f1_score += f1_score(y_class, y_pred_class, average='macro', zero_division=1, labels=labels)\n",
    "        \n",
    "        #if count >= 1:\n",
    "        #    y_set = torch.cat((y_set, y))\n",
    "        #    count = count + 1\n",
    "        #else:\n",
    "        #    y_set = y\n",
    "        #    count = count + 1\n",
    "        \n",
    "test_loss = test_loss / len(test_dataloader)\n",
    "test_precision = test_precision / len(test_dataloader)\n",
    "test_recall = test_recall / len(test_dataloader)\n",
    "#test_f1_score = test_f1_score / len(test_dataloader)\n",
    "#test_kappa = test_kappa / len(dataloader)\n",
    "test_acc = test_acc / len(test_dataloader)\n",
    "# Concatenate list of predictions into a tensor\n",
    "y_pred_tensor = torch.cat(y_preds)\n",
    "test_f1_score = f1_score(y_set.detach().cpu().numpy(), y_pred_tensor.cpu().numpy(), average='macro', zero_division=0, labels=[0,1,2])\n",
    "\n",
    "# Print classification report\n",
    "y_true = y_set.detach().cpu().numpy()\n",
    "report = classification_report(y_true, y_pred_tensor.cpu().numpy(), target_names=class_names)\n",
    "print(report)"
   ]
  },
  {
   "cell_type": "code",
   "execution_count": 140,
   "id": "6ae97fab",
   "metadata": {},
   "outputs": [
    {
     "data": {
      "text/plain": [
       "0.528680154128826"
      ]
     },
     "execution_count": 140,
     "metadata": {},
     "output_type": "execute_result"
    }
   ],
   "source": [
    "test_f1_score"
   ]
  },
  {
   "cell_type": "code",
   "execution_count": 122,
   "id": "7ebafd9b",
   "metadata": {},
   "outputs": [
    {
     "data": {
      "text/plain": [
       "array([ True,  True,  True, False,  True, False,  True, False,  True,\n",
       "        True,  True,  True,  True,  True,  True,  True])"
      ]
     },
     "execution_count": 122,
     "metadata": {},
     "output_type": "execute_result"
    }
   ],
   "source": [
    "make = (y_class == y_pred_class)\n",
    "make"
   ]
  },
  {
   "cell_type": "code",
   "execution_count": 99,
   "id": "4f8aa759",
   "metadata": {},
   "outputs": [
    {
     "data": {
      "text/plain": [
       "tensor([0, 0, 0, 2, 0, 1, 0, 1, 0, 0, 0, 0, 0, 0, 0, 0], device='cuda:0')"
      ]
     },
     "execution_count": 99,
     "metadata": {},
     "output_type": "execute_result"
    }
   ],
   "source": [
    "torch.softmax(y_logit, dim=1).argmax(dim=1)"
   ]
  },
  {
   "cell_type": "code",
   "execution_count": 101,
   "id": "f90a54b2",
   "metadata": {},
   "outputs": [
    {
     "data": {
      "text/plain": [
       "tensor([0, 0, 0, 0, 0, 0, 0, 0, 0, 0, 0, 0, 0, 0, 0, 0], device='cuda:0')"
      ]
     },
     "execution_count": 101,
     "metadata": {},
     "output_type": "execute_result"
    }
   ],
   "source": [
    "y"
   ]
  },
  {
   "cell_type": "code",
   "execution_count": 112,
   "id": "5a806154",
   "metadata": {},
   "outputs": [],
   "source": [
    "test = (y_pred == y).sum().item()/16"
   ]
  },
  {
   "cell_type": "code",
   "execution_count": 113,
   "id": "1da35c56",
   "metadata": {},
   "outputs": [
    {
     "data": {
      "text/plain": [
       "0.8125"
      ]
     },
     "execution_count": 113,
     "metadata": {},
     "output_type": "execute_result"
    }
   ],
   "source": [
    "test"
   ]
  },
  {
   "cell_type": "code",
   "execution_count": 114,
   "id": "b1eb246e",
   "metadata": {},
   "outputs": [],
   "source": [
    " y_pred_class = y_pred.detach().cpu().numpy() "
   ]
  },
  {
   "cell_type": "code",
   "execution_count": 115,
   "id": "602e096f",
   "metadata": {},
   "outputs": [
    {
     "data": {
      "text/plain": [
       "array([0, 0, 0, 2, 0, 1, 0, 1, 0, 0, 0, 0, 0, 0, 0, 0], dtype=int64)"
      ]
     },
     "execution_count": 115,
     "metadata": {},
     "output_type": "execute_result"
    }
   ],
   "source": [
    "y_pred_class"
   ]
  },
  {
   "cell_type": "code",
   "execution_count": null,
   "id": "eaf1af09",
   "metadata": {},
   "outputs": [],
   "source": []
  }
 ],
 "metadata": {
  "kernelspec": {
   "display_name": "Python 3 (ipykernel)",
   "language": "python",
   "name": "python3"
  },
  "language_info": {
   "codemirror_mode": {
    "name": "ipython",
    "version": 3
   },
   "file_extension": ".py",
   "mimetype": "text/x-python",
   "name": "python",
   "nbconvert_exporter": "python",
   "pygments_lexer": "ipython3",
   "version": "3.9.16"
  }
 },
 "nbformat": 4,
 "nbformat_minor": 5
}
