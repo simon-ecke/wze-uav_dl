{
 "cells": [
  {
   "cell_type": "code",
   "execution_count": 1,
   "id": "c6857f57",
   "metadata": {},
   "outputs": [],
   "source": [
    "import torchvision.models as models"
   ]
  },
  {
   "cell_type": "code",
   "execution_count": 4,
   "id": "a9ec8166",
   "metadata": {},
   "outputs": [
    {
     "data": {
      "text/plain": [
       "torchvision.models.efficientnet.EfficientNet"
      ]
     },
     "execution_count": 4,
     "metadata": {},
     "output_type": "execute_result"
    }
   ],
   "source": [
    "models.EfficientNet"
   ]
  },
  {
   "cell_type": "code",
   "execution_count": 6,
   "id": "aa6832c2",
   "metadata": {},
   "outputs": [
    {
     "name": "stdout",
     "output_type": "stream",
     "text": [
      "<class 'torchvision.models.efficientnet.EfficientNet'>\n"
     ]
    }
   ],
   "source": [
    "class EfficientNetCustom(EfficientNet):\n",
    "    "
   ]
  },
  {
   "cell_type": "code",
   "execution_count": 7,
   "id": "54fb188d",
   "metadata": {},
   "outputs": [],
   "source": [
    "import re\n",
    "import torch\n",
    "import torch.nn as nn\n",
    "from torchvision.models import ResNet\n",
    "from torchvision.models.resnet import BasicBlock\n",
    "\n",
    "class Resnet(nn.Module):\n",
    "\n",
    "    def __init__(self, \n",
    "                 base_model, \n",
    "                 n_classes, \n",
    "                 n_bands = 4, \n",
    "                 p_dropout = 0.25, \n",
    "                 unfreeze = False,\n",
    "                 headless = False):\n",
    "        \"\"\"\n",
    "        Parameters\n",
    "        ----------\n",
    "        base_model: nn.Module\n",
    "            A variant of ResNet, preferably from torchvision.models, or similar.\n",
    "        n_classes: int\n",
    "            Number of classes.\n",
    "        n_bands: int\n",
    "            Number of input bands.\n",
    "        p_dropout: float\n",
    "            Drop out probability\n",
    "        unfreeze: None, or List\n",
    "            If not None, must be a list of parameter names which should not be frozen.\n",
    "            If you want to train all model parameters then just leave this argument as None.\n",
    "        headless: bool\n",
    "            If True, then the network will have no classification head, and thus will only \n",
    "            return the final extracted features. If False, the model will use the classification\n",
    "            head and return class logit scores.\n",
    "        \"\"\"\n",
    "        \n",
    "        super().__init__()\n",
    "        \n",
    "        self.headless = headless\n",
    "        resnet = base_model\n",
    "        self.dropout = nn.Dropout(p = p_dropout)\n",
    "\n",
    "        if n_bands != 3:\n",
    "            resnet.conv1 = nn.Conv2d(n_bands, \n",
    "                                     64, \n",
    "                                     kernel_size=7, \n",
    "                                     stride=2, \n",
    "                                     padding=3, \n",
    "                                     bias=False)\n",
    "        \n",
    "        if self.headless:\n",
    "            # if headless we delete the classification head\n",
    "            del resnet.fc\n",
    "        else:\n",
    "            # need to change head to have the correct # of classes\n",
    "            resnet.fc = nn.Linear(\n",
    "                      in_features = resnet.fc.in_features, \n",
    "                      out_features = n_classes\n",
    "            )\n",
    "            \n",
    "        self.model = resnet\n",
    "        \n",
    "        # unfreeze pretrained parameters\n",
    "        if unfreeze:\n",
    "            self.set_parameter_requires_grad(unfreeze)\n",
    "        \n",
    "    def set_parameter_requires_grad(self, unfreeze):\n",
    "        for name, param in self.model.named_parameters():\n",
    "            if name not in unfreeze:\n",
    "                param.requires_grad = False\n",
    "            \n",
    "    def forward(self, x):\n",
    "        res = []\n",
    "        x = self.model.conv1(x)\n",
    "        x = self.model.bn1(x)\n",
    "        x = self.model.relu(x)\n",
    "        x = self.model.maxpool(x)\n",
    "\n",
    "        x = self.model.layer1(x)\n",
    "        x = self.dropout(x)\n",
    "        \n",
    "        x = self.model.layer2(x)\n",
    "        x = self.dropout(x)\n",
    "        \n",
    "        x = self.model.layer3(x)\n",
    "        x = self.dropout(x)\n",
    "        \n",
    "        x = self.model.layer4(x)\n",
    "        x = self.dropout(x)\n",
    "\n",
    "        if not self.headless:\n",
    "            x = self.model.avgpool(x)\n",
    "            x = torch.flatten(x, 1)\n",
    "            x = self.model.fc(x)\n",
    "                \n",
    "        return x\n",
    "    \n",
    "class HeadlessResnet(Resnet):\n",
    "    def __init__(self,\n",
    "                 base_model, \n",
    "                 n_classes, \n",
    "                 n_bands = 4, \n",
    "                 p_dropout = 0.3):\n",
    "        \n",
    "        super().__init__(base_model=base_model, \n",
    "                         n_classes=n_classes, \n",
    "                         n_bands = n_bands, \n",
    "                         p_dropout = p_dropout, \n",
    "                         headless = True)"
   ]
  },
  {
   "cell_type": "code",
   "execution_count": 8,
   "id": "fd1c45dc",
   "metadata": {},
   "outputs": [
    {
     "ename": "TypeError",
     "evalue": "__init__() missing 2 required positional arguments: 'base_model' and 'n_classes'",
     "output_type": "error",
     "traceback": [
      "\u001b[1;31m---------------------------------------------------------------------------\u001b[0m",
      "\u001b[1;31mTypeError\u001b[0m                                 Traceback (most recent call last)",
      "Input \u001b[1;32mIn [8]\u001b[0m, in \u001b[0;36m<cell line: 1>\u001b[1;34m()\u001b[0m\n\u001b[1;32m----> 1\u001b[0m model \u001b[38;5;241m=\u001b[39m \u001b[43mResnet\u001b[49m\u001b[43m(\u001b[49m\u001b[43m)\u001b[49m\n",
      "\u001b[1;31mTypeError\u001b[0m: __init__() missing 2 required positional arguments: 'base_model' and 'n_classes'"
     ]
    }
   ],
   "source": [
    "model = Resnet()"
   ]
  },
  {
   "cell_type": "code",
   "execution_count": null,
   "id": "26d51276",
   "metadata": {},
   "outputs": [],
   "source": []
  }
 ],
 "metadata": {
  "kernelspec": {
   "display_name": "Python 3 (ipykernel)",
   "language": "python",
   "name": "python3"
  },
  "language_info": {
   "codemirror_mode": {
    "name": "ipython",
    "version": 3
   },
   "file_extension": ".py",
   "mimetype": "text/x-python",
   "name": "python",
   "nbconvert_exporter": "python",
   "pygments_lexer": "ipython3",
   "version": "3.9.16"
  }
 },
 "nbformat": 4,
 "nbformat_minor": 5
}
