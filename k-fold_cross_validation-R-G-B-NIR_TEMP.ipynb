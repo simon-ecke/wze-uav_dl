{
 "cells": [
  {
   "cell_type": "markdown",
   "id": "c1acdaa3",
   "metadata": {},
   "source": [
    "# WZE-UAV Image Classification using Deep Learning"
   ]
  },
  {
   "cell_type": "code",
   "execution_count": 1,
   "id": "2159aac5",
   "metadata": {},
   "outputs": [],
   "source": [
    "import os\n",
    "import gc\n",
    "import glob\n",
    "import numpy as np\n",
    "from pathlib import Path\n",
    "from tqdm.auto import tqdm\n",
    "from sklearn.metrics import confusion_matrix, classification_report\n",
    "from sklearn.model_selection import KFold"
   ]
  },
  {
   "cell_type": "code",
   "execution_count": 2,
   "id": "0026f7a9",
   "metadata": {},
   "outputs": [],
   "source": [
    "import torch\n",
    "import torchvision.transforms as T\n",
    "import torchvision\n",
    "from torch import nn\n",
    "from torch.utils.data import DataLoader\n",
    "from torchvision import datasets, transforms\n",
    "from torch.utils.data import Dataset\n",
    "import torch.optim as optim\n",
    "from torch.optim.lr_scheduler import ExponentialLR\n",
    "from mlxtend.plotting import plot_confusion_matrix"
   ]
  },
  {
   "cell_type": "code",
   "execution_count": 3,
   "id": "b160d7b4",
   "metadata": {},
   "outputs": [],
   "source": [
    "import wze_uav.data_loader as data_loader\n",
    "import wze_uav.models as models\n",
    "from wze_uav.engine import *\n",
    "from wze_uav.utils2 import *\n",
    "from wze_uav.log_writer import create_writer\n",
    "from wze_uav.datasplit import *\n",
    "from efficientnet import model_effnet #for custom effnet with n_channels input"
   ]
  },
  {
   "cell_type": "markdown",
   "id": "2bd4fb2f",
   "metadata": {},
   "source": [
    "#### Get PyTorch version"
   ]
  },
  {
   "cell_type": "code",
   "execution_count": 4,
   "id": "c10886b1",
   "metadata": {},
   "outputs": [
    {
     "name": "stdout",
     "output_type": "stream",
     "text": [
      "torch version: 1.13.1+cu116\n",
      "torchvision version: 0.14.1+cu116\n"
     ]
    }
   ],
   "source": [
    "print(f\"torch version: {torch.__version__}\")\n",
    "print(f\"torchvision version: {torchvision.__version__}\")"
   ]
  },
  {
   "cell_type": "markdown",
   "id": "aa6a83cf",
   "metadata": {},
   "source": [
    "#### Preparing device agnostic code "
   ]
  },
  {
   "cell_type": "code",
   "execution_count": 5,
   "id": "13d5de88",
   "metadata": {},
   "outputs": [
    {
     "name": "stdout",
     "output_type": "stream",
     "text": [
      "cuda\n",
      "Index of current divice: 0\n",
      "Number of GPUs available: 1\n",
      "GPU Model: Quadro RTX 8000\n"
     ]
    }
   ],
   "source": [
    "# ensure device agnostic code\n",
    "device = 'cuda' if torch.cuda.is_available() else 'cpu'\n",
    "print(device)\n",
    "\n",
    "# get index of currently selected device\n",
    "print(f\"Index of current divice: {torch.cuda.current_device()}\")\n",
    "# get number of GPUs available\n",
    "print(f\"Number of GPUs available: {torch.cuda.device_count()}\")\n",
    "# get the name of the device\n",
    "print(f\"GPU Model: {torch.cuda.get_device_name(0)}\")"
   ]
  },
  {
   "cell_type": "markdown",
   "id": "a26a6a34",
   "metadata": {},
   "source": [
    "#### Ensure reproducibility "
   ]
  },
  {
   "cell_type": "code",
   "execution_count": 6,
   "id": "dd4656a7",
   "metadata": {},
   "outputs": [],
   "source": [
    "# for more information, see also: https://pytorch.org/docs/stable/notes/randomness.html\n",
    "\n",
    "# Set seeds\n",
    "def set_seeds(seed: int=42):\n",
    "    \"\"\"Sets random sets for torch operations.\n",
    "\n",
    "    Args:\n",
    "        seed (int, optional): Random seed to set. Defaults to 42.\n",
    "    \"\"\"\n",
    "    # Set the seed for general torch operations\n",
    "    torch.manual_seed(seed)\n",
    "    # Set the seed for CUDA torch operations (ones that happen on the GPU)\n",
    "    torch.cuda.manual_seed(seed)\n",
    "    # seed for numpy\n",
    "    np.random.seed(seed)\n",
    "\n",
    "set_seeds() \n",
    "\n",
    "# Set to true -> might speed up the process but should be set to False if reproducible results are desired\n",
    "torch.backends.cudnn.benchmark = False\n"
   ]
  },
  {
   "cell_type": "markdown",
   "id": "8be33671",
   "metadata": {},
   "source": [
    "#### Define file directory"
   ]
  },
  {
   "cell_type": "code",
   "execution_count": 7,
   "id": "30645f36",
   "metadata": {},
   "outputs": [],
   "source": [
    "#####################################################################################\n",
    "# 3 channel input (r-g-b)\n",
    "#data_path = r\"D:\\Drohnendaten\\10_WZE-UAV\\Auswertung_findatree\\Datasplit\\ROI\\rgb\"\n",
    "\n",
    "# 4 channel input (r-g-b-nir)\n",
    "data_path = r\"D:\\Drohnendaten\\10_WZE-UAV\\Auswertung_findatree\\Datasplit\\ROI\\rgb-nir\"\n",
    "\n",
    "# 5 channel input (r-g-b-re-nir)\n",
    "#data_path = r\"D:\\Drohnendaten\\10_WZE-UAV\\Auswertung_findatree\\Datasplit\\ROI\\rgb-re-nir\"\n",
    "#####################################################################################"
   ]
  },
  {
   "cell_type": "markdown",
   "id": "4560ce64",
   "metadata": {},
   "source": [
    "#### Get all file paths"
   ]
  },
  {
   "cell_type": "code",
   "execution_count": 8,
   "id": "aa072e4c",
   "metadata": {},
   "outputs": [],
   "source": [
    "fn_list = os.listdir(data_path)\n",
    "path_list = []\n",
    "# Iterate over all datafiles\n",
    "for year in fn_list:\n",
    "    year_dir = f'{data_path}\\\\{year}'\n",
    "    for filename in os.listdir(year_dir):\n",
    "        path = f'{year_dir}\\\\{filename}'\n",
    "        path_list.append(path)"
   ]
  },
  {
   "cell_type": "markdown",
   "id": "f3937a44",
   "metadata": {},
   "source": [
    "#### Create unique hash IDs for every individual tree"
   ]
  },
  {
   "cell_type": "code",
   "execution_count": 9,
   "id": "8a50f1d7",
   "metadata": {},
   "outputs": [
    {
     "data": {
      "application/vnd.jupyter.widget-view+json": {
       "model_id": "125fbd149b024a80bc5075b4d8ebf471",
       "version_major": 2,
       "version_minor": 0
      },
      "text/plain": [
       "Creating unique tree IDs...:   0%|          | 0/647 [00:00<?, ?it/s]"
      ]
     },
     "metadata": {},
     "output_type": "display_data"
    }
   ],
   "source": [
    "hashID_dict = data_loader.get_unique_treeID(path_list)"
   ]
  },
  {
   "cell_type": "markdown",
   "id": "6f4cea00",
   "metadata": {},
   "source": [
    "#### Import all imagery, labels and other features from hdf5 files"
   ]
  },
  {
   "cell_type": "code",
   "execution_count": 10,
   "id": "94e3eecf",
   "metadata": {},
   "outputs": [
    {
     "data": {
      "application/vnd.jupyter.widget-view+json": {
       "model_id": "badaf2c0792e4002aef07dc493a69a6c",
       "version_major": 2,
       "version_minor": 0
      },
      "text/plain": [
       "Processing hdf5 datasets:   0%|          | 0/647 [00:00<?, ?it/s]"
      ]
     },
     "metadata": {},
     "output_type": "display_data"
    }
   ],
   "source": [
    "image_set, label_set, species_set, kkl_set, bk_set, hash_id = data_loader.hdf5_to_img_label_v2(path_list,\n",
    "                                                                                               hashID_dict,\n",
    "                                                                                               load_sets=[\"images_masked\"])"
   ]
  },
  {
   "cell_type": "markdown",
   "id": "6a90e2b7",
   "metadata": {},
   "source": [
    "#### Convert nbv to classes"
   ]
  },
  {
   "cell_type": "code",
   "execution_count": 11,
   "id": "0224972a",
   "metadata": {},
   "outputs": [],
   "source": [
    "label_set = nbv_to_sst_3classes(label_set)"
   ]
  },
  {
   "cell_type": "markdown",
   "id": "c6b4cd85",
   "metadata": {},
   "source": [
    "#### Split data and seperate a test dataset"
   ]
  },
  {
   "cell_type": "code",
   "execution_count": 12,
   "id": "d06eda54",
   "metadata": {},
   "outputs": [
    {
     "name": "stdout",
     "output_type": "stream",
     "text": [
      "There are 7087 unique values within hash_id.\n",
      "Check shapes:\n",
      "\n",
      "Images train dataset: (15973, 250, 250, 4)\n",
      "Labels train dataset: (15973, 1)\n",
      "\n",
      "Images test dataset: (2832, 250, 250, 4)\n",
      "Labels test dataset: (2832, 1)\n",
      "\n",
      "--------------------------------------------------\n",
      "Check if the split was stratified: (random_state=42)\n",
      "Healthy trees in train dataset: 14465\n",
      "Stressed trees in train dataset: 1240\n",
      "Dead trees in train dataset: 268\n",
      "Healthy trees in test dataset: 2551\n",
      "Stressed trees in test dataset: 237\n",
      "Dead trees in test dataset: 44\n",
      "Ratio health trees in test dataset: 0.1499177244945933\n",
      "Ratio stressed trees in test dataset: 0.16046039268788084\n",
      "Ratio dead trees in test dataset: 0.14102564102564102\n"
     ]
    }
   ],
   "source": [
    "image_set, label_set, hash_id, species_set, test_image_set, test_label_set, test_hash_id, test_species_set = data_split(image_set, label_set, hash_id, species_set, test_size=0.15, random_state=42)\n"
   ]
  },
  {
   "cell_type": "markdown",
   "id": "c48fbb5b",
   "metadata": {},
   "source": [
    "#### Check if any hash ID is in both train and test dataset"
   ]
  },
  {
   "cell_type": "code",
   "execution_count": 13,
   "id": "874367cf",
   "metadata": {},
   "outputs": [
    {
     "name": "stdout",
     "output_type": "stream",
     "text": [
      "There are no hash_id values in both train and test datasets. The datasplit was successful\n"
     ]
    }
   ],
   "source": [
    "hash_set = set(hash_id.flatten())\n",
    "test_hash_set = set(test_hash_id.flatten())\n",
    "intersection = hash_set.intersection(test_hash_set)\n",
    "if intersection:\n",
    "    print(f\"Hash_id values in both train and test sets: {intersection}\")\n",
    "else:\n",
    "    print(\"There are no hash_id values in both train and test datasets. The datasplit was successful\")"
   ]
  },
  {
   "cell_type": "markdown",
   "id": "9e5b64d4",
   "metadata": {},
   "source": [
    "#### Check feature distribution of the Test dataset"
   ]
  },
  {
   "cell_type": "code",
   "execution_count": 14,
   "id": "a33ff5cb",
   "metadata": {},
   "outputs": [
    {
     "name": "stdout",
     "output_type": "stream",
     "text": [
      "Test dataset\n",
      "Test data healthy trees: 2551\n",
      "Test data stressed trees: 237\n",
      "Test data dead trees: 44\n",
      "Test data pine trees: 755\n",
      "Test data spruces: 1041\n",
      "--------------------------------------------------\n",
      "Remaining dataset\n",
      "Remaining data healthy trees: 14465\n",
      "Remaining data stressed trees: 1240\n",
      "Remaining data dead trees: 268\n",
      "Remaining data pine trees: 4036\n",
      "Remaining data spruces: 5942\n",
      "--------------------------------------------------\n"
     ]
    }
   ],
   "source": [
    "def count_occurrences(data, value):\n",
    "    count = 0\n",
    "    for item in data:\n",
    "        if item == value:\n",
    "            count += 1\n",
    "    return count\n",
    "\n",
    "print(\"Test dataset\")\n",
    "print(f\"Test data healthy trees: {count_occurrences(test_label_set, 0)}\")\n",
    "print(f\"Test data stressed trees: {count_occurrences(test_label_set, 1)}\")\n",
    "print(f\"Test data dead trees: {count_occurrences(test_label_set, 2)}\")\n",
    "print(f\"Test data pine trees: {count_occurrences(test_species_set, 134)}\")\n",
    "print(f\"Test data spruces: {count_occurrences(test_species_set, 118)}\")\n",
    "print(\"-\"*50)\n",
    "\n",
    "print(\"Remaining dataset\")\n",
    "print(f\"Remaining data healthy trees: {count_occurrences(label_set, 0)}\")\n",
    "print(f\"Remaining data stressed trees: {count_occurrences(label_set, 1)}\")\n",
    "print(f\"Remaining data dead trees: {count_occurrences(label_set, 2)}\")\n",
    "print(f\"Remaining data pine trees: {count_occurrences(species_set, 134)}\")\n",
    "print(f\"Remaining data spruces: {count_occurrences(species_set, 118)}\")\n",
    "print(\"-\"*50)"
   ]
  },
  {
   "cell_type": "code",
   "execution_count": 15,
   "id": "e08fcf57",
   "metadata": {},
   "outputs": [],
   "source": [
    "# train transform with augmentation. \n",
    "transform_train = transforms.Compose([transforms.ToTensor(), transforms.RandomHorizontalFlip(p=0.5), transforms.RandomVerticalFlip(p=0.5),\n",
    "                                      transforms.RandomRotation(degrees=[0,360])])\n",
    "\n",
    "# test and val dataset transform without augmentation. \n",
    "transform = transforms.Compose([transforms.ToTensor()])\n",
    "\n",
    "# class names need to fit the customDataset class used e.g. 3 classes -> use CustomDataset3Classes\n",
    "#class_names = ['healthy', 'slightly_stressed', 'moderately_stressed', 'highly_stressed', 'dead']\n",
    "#class_names = ['healthy', 'moderately_stressed', 'highly_stressed', 'dead']\n",
    "class_names = ['healthy', 'stressed', 'dead']\n",
    "\n",
    "# set seeds\n",
    "g = torch.Generator()\n",
    "g.manual_seed(42)\n",
    "NUM_WORKERS=3 # should be changed, depending on the system used\n",
    "batch_size=32"
   ]
  },
  {
   "cell_type": "markdown",
   "id": "31779c05",
   "metadata": {},
   "source": [
    "#### Define variables and parameters"
   ]
  },
  {
   "cell_type": "code",
   "execution_count": 16,
   "id": "10ae4379",
   "metadata": {},
   "outputs": [
    {
     "name": "stdout",
     "output_type": "stream",
     "text": [
      "Memory allocated: 0 bytes\n"
     ]
    }
   ],
   "source": [
    "# 1. Define number of epochs\n",
    "epochs = 50\n",
    "n_bands = image_set[0].shape[2] # get number of bands\n",
    "\n",
    "# 2. Define model\n",
    "num_classes = len(class_names)\n",
    "unfreeze = True # all layer weights get updated\n",
    "dropout_rate = 0.45 #define dropout rate\n",
    "model_name = \"EffNet_b7_RGB-NIR_3classes\"\n",
    "\n",
    "# 3. Define loss, optimizer and learning rate scheduler\n",
    "lr = 0.0011 # define learning rate\n",
    "min_lr = 1e-5 # minimum learning rate threshold\n",
    "gamma = 0.85 # how fast the learning rate decreases per epoch (low number=faster decrease)\n",
    "patience = 10\n",
    "\n",
    "# 4. Create target folder name were to save the tensorboard event files\n",
    "\n",
    "experiment_name = 'RGB-NIR_3classes'\n",
    "extra = \"\"\n",
    "\n",
    "#----------------------------------------------------------------------\n",
    "#torch.cuda.empty_cache()\n",
    "print(f\"Memory allocated: {torch.cuda.memory_allocated()} bytes\") \n",
    "\n"
   ]
  },
  {
   "cell_type": "markdown",
   "id": "09768b1a",
   "metadata": {},
   "source": [
    "#### Run k-Fold cross-validation on EfficientNet"
   ]
  },
  {
   "cell_type": "code",
   "execution_count": 17,
   "id": "9c29c81d",
   "metadata": {},
   "outputs": [
    {
     "name": "stdout",
     "output_type": "stream",
     "text": [
      "There are 6023 unique values within hash_id.\n",
      "\n",
      "Check shapes:\n",
      "\n",
      "Images train dataset: (12770, 250, 250, 4)\n",
      "Labels train dataset: (12770, 1)\n",
      "\n",
      "Images validation dataset: (3203, 250, 250, 4)\n",
      "Labels validation dataset: (3203, 1)\n",
      "\n",
      "--------------------------------------------------\n",
      "Check if the split was stratified: (random_state=42)\n",
      "Healthy trees in train dataset: 11550\n",
      "Stressed trees in train dataset: 983\n",
      "Dead trees in train dataset: 237\n",
      "Healthy trees in validation dataset: 2915\n",
      "Stressed trees in validation dataset: 257\n",
      "Dead trees in validation dataset: 31\n",
      "Ratio health trees in validation dataset: 0.20152091254752852\n",
      "Ratio stressed trees in validation dataset: 0.20725806451612902\n",
      "Ratio dead trees in validation dataset: 0.11567164179104478\n",
      "--------------------------------------------------\n",
      "\n",
      "Creating datasets for fold: 1\n",
      "\n",
      "Creating dataloaders for fold: 1\n",
      "\n",
      "Loaded pretrained weights for efficientnet-b7\n",
      "\n",
      "[INFO] Fold number: 1\n",
      "[INFO] Number of epochs: 50\n",
      "[INFO] Batch_size: 32\n",
      "[INFO] Number of bands: 4\n",
      "[INFO] Dropout rate: 0.45\n",
      "[INFO] Gamma learning rate: 0.85\n",
      "[INFO] Memory allocated: 0 bytes\n",
      "[INFO] Created SummaryWriter, saving to: runs\\2023-04-10\\RGB-NIR_3classes\\EffNet_b7_RGB-NIR_3classes...\n"
     ]
    },
    {
     "data": {
      "application/vnd.jupyter.widget-view+json": {
       "model_id": "072e8eae6bf0477e9eefb0a0d736233d",
       "version_major": 2,
       "version_minor": 0
      },
      "text/plain": [
       "  0%|          | 0/50 [00:00<?, ?it/s]"
      ]
     },
     "metadata": {},
     "output_type": "display_data"
    },
    {
     "name": "stdout",
     "output_type": "stream",
     "text": [
      "Epoch: 1 \n",
      "Learning rate: 0.0011\n",
      "Train loss: 0.6796 | Train precision: 0.6858 | Train recall: 0.6857 | Train f1score: 0.6849 | Train acc: 0.6718 | Train kappa: 0.6034 \n",
      "Val loss: 0.4010 | Val precision: 0.4504 | Val recall: 0.4178 | Val f1score: 0.4224 | Val acc: 0.8791 | Val kappa: 0.3248 \n",
      "\n",
      "Epoch: 2 \n",
      "Learning rate: 0.0009350000000000001\n",
      "Train loss: 0.5764 | Train precision: 0.7564 | Train recall: 0.7572 | Train f1score: 0.7565 | Train acc: 0.7269 | Train kappa: 0.6818 \n",
      "Val loss: 0.5942 | Val precision: 0.4680 | Val recall: 0.7599 | Val f1score: 0.5166 | Val acc: 0.7900 | Val kappa: 0.3660 \n",
      "\n",
      "Epoch: 3 \n",
      "Learning rate: 0.00079475\n",
      "Train loss: 0.5359 | Train precision: 0.7872 | Train recall: 0.7809 | Train f1score: 0.7840 | Train acc: 0.7480 | Train kappa: 0.7002 \n",
      "Val loss: 0.4548 | Val precision: 0.5979 | Val recall: 0.7942 | Val f1score: 0.6381 | Val acc: 0.7641 | Val kappa: 0.3534 \n",
      "\n",
      "Epoch: 4 \n",
      "Learning rate: 0.0006755375\n",
      "Train loss: 0.5160 | Train precision: 0.7934 | Train recall: 0.7893 | Train f1score: 0.7913 | Train acc: 0.7562 | Train kappa: 0.7136 \n",
      "Val loss: 0.6647 | Val precision: 0.6173 | Val recall: 0.8132 | Val f1score: 0.6311 | Val acc: 0.6806 | Val kappa: 0.2901 \n",
      "\n",
      "Epoch: 5 \n",
      "Learning rate: 0.0005742068749999999\n",
      "Train loss: 0.5019 | Train precision: 0.7995 | Train recall: 0.8005 | Train f1score: 0.7999 | Train acc: 0.7639 | Train kappa: 0.7225 \n",
      "Val loss: 0.4445 | Val precision: 0.4926 | Val recall: 0.7801 | Val f1score: 0.5504 | Val acc: 0.8031 | Val kappa: 0.3651 \n",
      "\n",
      "Epoch: 6 \n",
      "Learning rate: 0.0004880758437499999\n",
      "Train loss: 0.4822 | Train precision: 0.8124 | Train recall: 0.8107 | Train f1score: 0.8115 | Train acc: 0.7710 | Train kappa: 0.7321 \n",
      "Val loss: 0.5392 | Val precision: 0.6064 | Val recall: 0.7830 | Val f1score: 0.6196 | Val acc: 0.7013 | Val kappa: 0.3027 \n",
      "\n",
      "Epoch: 7 \n",
      "Learning rate: 0.0004148644671874999\n",
      "Train loss: 0.4651 | Train precision: 0.8166 | Train recall: 0.8153 | Train f1score: 0.8158 | Train acc: 0.7798 | Train kappa: 0.7369 \n",
      "Val loss: 0.4339 | Val precision: 0.6537 | Val recall: 0.7788 | Val f1score: 0.6708 | Val acc: 0.7803 | Val kappa: 0.3693 \n",
      "\n",
      "Epoch: 8 \n",
      "Learning rate: 0.0003526347971093749\n",
      "Train loss: 0.4432 | Train precision: 0.8291 | Train recall: 0.8258 | Train f1score: 0.8271 | Train acc: 0.7896 | Train kappa: 0.7541 \n",
      "Val loss: 0.6443 | Val precision: 0.5582 | Val recall: 0.7905 | Val f1score: 0.5628 | Val acc: 0.6122 | Val kappa: 0.2388 \n",
      "\n",
      "Epoch: 9 \n",
      "Learning rate: 0.0002997395775429687\n",
      "Train loss: 0.4247 | Train precision: 0.8372 | Train recall: 0.8382 | Train f1score: 0.8376 | Train acc: 0.7986 | Train kappa: 0.7624 \n",
      "Val loss: 0.8235 | Val precision: 0.5380 | Val recall: 0.7728 | Val f1score: 0.5246 | Val acc: 0.5606 | Val kappa: 0.2087 \n",
      "\n",
      "Epoch: 10 \n",
      "Learning rate: 0.0002547786409115234\n",
      "Train loss: 0.4167 | Train precision: 0.8391 | Train recall: 0.8427 | Train f1score: 0.8404 | Train acc: 0.8016 | Train kappa: 0.7696 \n",
      "Val loss: 0.6888 | Val precision: 0.5674 | Val recall: 0.7873 | Val f1score: 0.5671 | Val acc: 0.6034 | Val kappa: 0.2340 \n",
      "\n",
      "Epoch: 11 \n",
      "Learning rate: 0.00021656184477479486\n",
      "Train loss: 0.3970 | Train precision: 0.8474 | Train recall: 0.8467 | Train f1score: 0.8468 | Train acc: 0.8123 | Train kappa: 0.7746 \n",
      "Val loss: 0.4758 | Val precision: 0.6320 | Val recall: 0.8010 | Val f1score: 0.6577 | Val acc: 0.7441 | Val kappa: 0.3399 \n",
      "\n",
      "Epoch: 12 \n",
      "Learning rate: 0.00018407756805857562\n",
      "Train loss: 0.3748 | Train precision: 0.8635 | Train recall: 0.8636 | Train f1score: 0.8632 | Train acc: 0.8260 | Train kappa: 0.7955 \n",
      "Val loss: 0.5585 | Val precision: 0.6001 | Val recall: 0.7969 | Val f1score: 0.6229 | Val acc: 0.7038 | Val kappa: 0.3068 \n",
      "\n",
      "Epoch: 13 \n",
      "Learning rate: 0.00015646593284978928\n",
      "Train loss: 0.3596 | Train precision: 0.8687 | Train recall: 0.8728 | Train f1score: 0.8702 | Train acc: 0.8358 | Train kappa: 0.8072 \n",
      "Val loss: 0.5136 | Val precision: 0.5895 | Val recall: 0.7858 | Val f1score: 0.6202 | Val acc: 0.7219 | Val kappa: 0.3147 \n",
      "\n",
      "Epoch: 14 \n",
      "Learning rate: 0.0001329960429223209\n",
      "Train loss: 0.3481 | Train precision: 0.8761 | Train recall: 0.8789 | Train f1score: 0.8767 | Train acc: 0.8438 | Train kappa: 0.8183 \n",
      "Val loss: 0.6615 | Val precision: 0.5927 | Val recall: 0.7841 | Val f1score: 0.5925 | Val acc: 0.6397 | Val kappa: 0.2559 \n",
      "\n",
      "Epoch: 15 \n",
      "Learning rate: 0.00011304663648397275\n",
      "Train loss: 0.3352 | Train precision: 0.8803 | Train recall: 0.8826 | Train f1score: 0.8806 | Train acc: 0.8469 | Train kappa: 0.8233 \n",
      "Val loss: 0.5750 | Val precision: 0.5903 | Val recall: 0.8085 | Val f1score: 0.6212 | Val acc: 0.7097 | Val kappa: 0.3115 \n",
      "\n",
      "Epoch: 16 \n",
      "Learning rate: 9.608964101137683e-05\n",
      "Train loss: 0.3163 | Train precision: 0.8893 | Train recall: 0.8928 | Train f1score: 0.8904 | Train acc: 0.8591 | Train kappa: 0.8373 \n",
      "Val loss: 0.4958 | Val precision: 0.6026 | Val recall: 0.8049 | Val f1score: 0.6431 | Val acc: 0.7516 | Val kappa: 0.3442 \n",
      "\n",
      "Epoch: 17 \n",
      "Learning rate: 8.16761948596703e-05\n",
      "Train loss: 0.3069 | Train precision: 0.8923 | Train recall: 0.8951 | Train f1score: 0.8931 | Train acc: 0.8618 | Train kappa: 0.8412 \n",
      "Val loss: 0.5012 | Val precision: 0.5741 | Val recall: 0.7859 | Val f1score: 0.6156 | Val acc: 0.7513 | Val kappa: 0.3418 \n",
      "\n",
      "Early stopping after epoch 17\n",
      "Deleting variables and emptying cache\n",
      "Memory allocated: 1046864896 bytes\n",
      "--------------------------------------------------\n",
      "\n",
      "Check shapes:\n",
      "\n",
      "Images train dataset: (12801, 250, 250, 4)\n",
      "Labels train dataset: (12801, 1)\n",
      "\n",
      "Images validation dataset: (3172, 250, 250, 4)\n",
      "Labels validation dataset: (3172, 1)\n",
      "\n",
      "--------------------------------------------------\n",
      "Check if the split was stratified: (random_state=42)\n",
      "Healthy trees in train dataset: 11597\n",
      "Stressed trees in train dataset: 996\n",
      "Dead trees in train dataset: 208\n",
      "Healthy trees in validation dataset: 2868\n",
      "Stressed trees in validation dataset: 244\n",
      "Dead trees in validation dataset: 60\n",
      "Ratio health trees in validation dataset: 0.19827169028689942\n",
      "Ratio stressed trees in validation dataset: 0.1967741935483871\n",
      "Ratio dead trees in validation dataset: 0.22388059701492538\n",
      "--------------------------------------------------\n",
      "\n",
      "Creating datasets for fold: 2\n",
      "\n",
      "Creating dataloaders for fold: 2\n",
      "\n",
      "Loaded pretrained weights for efficientnet-b7\n",
      "\n",
      "[INFO] Fold number: 2\n",
      "[INFO] Number of epochs: 50\n",
      "[INFO] Batch_size: 32\n",
      "[INFO] Number of bands: 4\n",
      "[INFO] Dropout rate: 0.45\n",
      "[INFO] Gamma learning rate: 0.85\n",
      "[INFO] Memory allocated: 0 bytes\n",
      "[INFO] Created SummaryWriter, saving to: runs\\2023-04-10\\RGB-NIR_3classes\\EffNet_b7_RGB-NIR_3classes...\n"
     ]
    },
    {
     "data": {
      "application/vnd.jupyter.widget-view+json": {
       "model_id": "c41a22fe3a17418badf5ca67d8a1fb83",
       "version_major": 2,
       "version_minor": 0
      },
      "text/plain": [
       "  0%|          | 0/50 [00:00<?, ?it/s]"
      ]
     },
     "metadata": {},
     "output_type": "display_data"
    },
    {
     "name": "stdout",
     "output_type": "stream",
     "text": [
      "Epoch: 1 \n",
      "Learning rate: 0.0011\n",
      "Train loss: 0.6801 | Train precision: 0.6812 | Train recall: 0.6838 | Train f1score: 0.6823 | Train acc: 0.6635 | Train kappa: 0.5702 \n",
      "Val loss: 0.4935 | Val precision: 0.6951 | Val recall: 0.3731 | Val f1score: 0.3755 | Val acc: 0.8684 | Val kappa: 0.3344 \n",
      "\n",
      "Epoch: 2 \n",
      "Learning rate: 0.0009350000000000001\n",
      "Train loss: 0.5787 | Train precision: 0.7611 | Train recall: 0.7566 | Train f1score: 0.7587 | Train acc: 0.7198 | Train kappa: 0.6589 \n",
      "Val loss: 0.6708 | Val precision: 0.7034 | Val recall: 0.5342 | Val f1score: 0.4234 | Val acc: 0.5669 | Val kappa: 0.1919 \n",
      "\n",
      "Epoch: 3 \n",
      "Learning rate: 0.00079475\n",
      "Train loss: 0.5565 | Train precision: 0.7748 | Train recall: 0.7678 | Train f1score: 0.7713 | Train acc: 0.7298 | Train kappa: 0.6659 \n",
      "Val loss: 0.8578 | Val precision: 0.6375 | Val recall: 0.6253 | Val f1score: 0.4090 | Val acc: 0.2276 | Val kappa: 0.1011 \n",
      "\n",
      "Epoch: 4 \n",
      "Learning rate: 0.0006755375\n",
      "Train loss: 0.5303 | Train precision: 0.7891 | Train recall: 0.7799 | Train f1score: 0.7844 | Train acc: 0.7484 | Train kappa: 0.6962 \n",
      "Val loss: 0.5292 | Val precision: 0.6703 | Val recall: 0.7707 | Val f1score: 0.6663 | Val acc: 0.7437 | Val kappa: 0.4154 \n",
      "\n",
      "Epoch: 5 \n",
      "Learning rate: 0.0005742068749999999\n",
      "Train loss: 0.5042 | Train precision: 0.8101 | Train recall: 0.7993 | Train f1score: 0.8046 | Train acc: 0.7640 | Train kappa: 0.7121 \n",
      "Val loss: 0.6900 | Val precision: 0.6008 | Val recall: 0.7377 | Val f1score: 0.5629 | Val acc: 0.5704 | Val kappa: 0.2705 \n",
      "\n",
      "Epoch: 6 \n",
      "Learning rate: 0.0004880758437499999\n",
      "Train loss: 0.4894 | Train precision: 0.8118 | Train recall: 0.8019 | Train f1score: 0.8066 | Train acc: 0.7713 | Train kappa: 0.7132 \n",
      "Val loss: 0.4058 | Val precision: 0.6566 | Val recall: 0.7687 | Val f1score: 0.6953 | Val acc: 0.8510 | Val kappa: 0.5564 \n",
      "\n",
      "Epoch: 7 \n",
      "Learning rate: 0.0004148644671874999\n",
      "Train loss: 0.4742 | Train precision: 0.8188 | Train recall: 0.8111 | Train f1score: 0.8148 | Train acc: 0.7720 | Train kappa: 0.7172 \n",
      "Val loss: 0.3221 | Val precision: 0.7563 | Val recall: 0.6868 | Val f1score: 0.7144 | Val acc: 0.8974 | Val kappa: 0.5987 \n",
      "\n",
      "Epoch: 8 \n",
      "Learning rate: 0.0003526347971093749\n",
      "Train loss: 0.4563 | Train precision: 0.8257 | Train recall: 0.8191 | Train f1score: 0.8222 | Train acc: 0.7825 | Train kappa: 0.7313 \n",
      "Val loss: 0.4595 | Val precision: 0.6757 | Val recall: 0.7735 | Val f1score: 0.6824 | Val acc: 0.7907 | Val kappa: 0.4678 \n",
      "\n",
      "Epoch: 9 \n",
      "Learning rate: 0.0002997395775429687\n",
      "Train loss: 0.4364 | Train precision: 0.8321 | Train recall: 0.8321 | Train f1score: 0.8319 | Train acc: 0.7922 | Train kappa: 0.7449 \n",
      "Val loss: 0.3969 | Val precision: 0.6686 | Val recall: 0.7861 | Val f1score: 0.6959 | Val acc: 0.8122 | Val kappa: 0.4926 \n",
      "\n",
      "Epoch: 10 \n",
      "Learning rate: 0.0002547786409115234\n",
      "Train loss: 0.4259 | Train precision: 0.8390 | Train recall: 0.8364 | Train f1score: 0.8374 | Train acc: 0.7961 | Train kappa: 0.7492 \n",
      "Val loss: 0.3814 | Val precision: 0.6833 | Val recall: 0.7535 | Val f1score: 0.6917 | Val acc: 0.8318 | Val kappa: 0.5135 \n",
      "\n",
      "Epoch: 11 \n",
      "Learning rate: 0.00021656184477479486\n",
      "Train loss: 0.3966 | Train precision: 0.8545 | Train recall: 0.8529 | Train f1score: 0.8535 | Train acc: 0.8120 | Train kappa: 0.7656 \n",
      "Val loss: 0.5150 | Val precision: 0.6256 | Val recall: 0.7236 | Val f1score: 0.6200 | Val acc: 0.7418 | Val kappa: 0.3832 \n",
      "\n",
      "Epoch: 12 \n",
      "Learning rate: 0.00018407756805857562\n",
      "Train loss: 0.3891 | Train precision: 0.8554 | Train recall: 0.8581 | Train f1score: 0.8564 | Train acc: 0.8172 | Train kappa: 0.7744 \n",
      "Val loss: 0.6030 | Val precision: 0.6715 | Val recall: 0.7348 | Val f1score: 0.6203 | Val acc: 0.6521 | Val kappa: 0.3160 \n",
      "\n",
      "Epoch: 13 \n",
      "Learning rate: 0.00015646593284978928\n",
      "Train loss: 0.3738 | Train precision: 0.8644 | Train recall: 0.8678 | Train f1score: 0.8655 | Train acc: 0.8273 | Train kappa: 0.7921 \n",
      "Val loss: 0.5395 | Val precision: 0.5959 | Val recall: 0.7713 | Val f1score: 0.6151 | Val acc: 0.7134 | Val kappa: 0.3757 \n",
      "\n",
      "Epoch: 14 \n",
      "Learning rate: 0.0001329960429223209\n",
      "Train loss: 0.3694 | Train precision: 0.8667 | Train recall: 0.8689 | Train f1score: 0.8675 | Train acc: 0.8280 | Train kappa: 0.7905 \n",
      "Val loss: 0.4282 | Val precision: 0.6779 | Val recall: 0.7499 | Val f1score: 0.6773 | Val acc: 0.8015 | Val kappa: 0.4749 \n",
      "\n",
      "Epoch: 15 \n",
      "Learning rate: 0.00011304663648397275\n",
      "Train loss: 0.3632 | Train precision: 0.8699 | Train recall: 0.8727 | Train f1score: 0.8708 | Train acc: 0.8324 | Train kappa: 0.7911 \n",
      "Val loss: 0.5292 | Val precision: 0.6657 | Val recall: 0.7556 | Val f1score: 0.6453 | Val acc: 0.7175 | Val kappa: 0.3820 \n",
      "\n",
      "Epoch: 16 \n",
      "Learning rate: 9.608964101137683e-05\n",
      "Train loss: 0.3454 | Train precision: 0.8761 | Train recall: 0.8799 | Train f1score: 0.8774 | Train acc: 0.8422 | Train kappa: 0.8095 \n",
      "Val loss: 0.3507 | Val precision: 0.6788 | Val recall: 0.7569 | Val f1score: 0.7020 | Val acc: 0.8542 | Val kappa: 0.5524 \n",
      "\n",
      "Epoch: 17 \n",
      "Learning rate: 8.16761948596703e-05\n",
      "Train loss: 0.3375 | Train precision: 0.8820 | Train recall: 0.8860 | Train f1score: 0.8835 | Train acc: 0.8462 | Train kappa: 0.8140 \n",
      "Val loss: 0.4272 | Val precision: 0.6489 | Val recall: 0.7842 | Val f1score: 0.6804 | Val acc: 0.8049 | Val kappa: 0.4903 \n",
      "\n",
      "Early stopping after epoch 17\n",
      "Deleting variables and emptying cache\n",
      "Memory allocated: 1053492224 bytes\n",
      "--------------------------------------------------\n",
      "\n",
      "Check shapes:\n",
      "\n",
      "Images train dataset: (12775, 250, 250, 4)\n",
      "Labels train dataset: (12775, 1)\n",
      "\n",
      "Images validation dataset: (3198, 250, 250, 4)\n",
      "Labels validation dataset: (3198, 1)\n",
      "\n",
      "--------------------------------------------------\n",
      "Check if the split was stratified: (random_state=42)\n",
      "Healthy trees in train dataset: 11557\n",
      "Stressed trees in train dataset: 1022\n",
      "Dead trees in train dataset: 196\n",
      "Healthy trees in validation dataset: 2908\n",
      "Stressed trees in validation dataset: 218\n",
      "Dead trees in validation dataset: 72\n",
      "Ratio health trees in validation dataset: 0.20103698582786036\n",
      "Ratio stressed trees in validation dataset: 0.17580645161290323\n",
      "Ratio dead trees in validation dataset: 0.26865671641791045\n",
      "--------------------------------------------------\n",
      "\n",
      "Creating datasets for fold: 3\n",
      "\n",
      "Creating dataloaders for fold: 3\n",
      "\n",
      "Loaded pretrained weights for efficientnet-b7\n",
      "\n",
      "[INFO] Fold number: 3\n",
      "[INFO] Number of epochs: 50\n",
      "[INFO] Batch_size: 32\n",
      "[INFO] Number of bands: 4\n",
      "[INFO] Dropout rate: 0.45\n",
      "[INFO] Gamma learning rate: 0.85\n",
      "[INFO] Memory allocated: 0 bytes\n",
      "[INFO] Created SummaryWriter, saving to: runs\\2023-04-10\\RGB-NIR_3classes\\EffNet_b7_RGB-NIR_3classes...\n"
     ]
    },
    {
     "data": {
      "application/vnd.jupyter.widget-view+json": {
       "model_id": "23509c7dda034ed4bf8e61521105f02e",
       "version_major": 2,
       "version_minor": 0
      },
      "text/plain": [
       "  0%|          | 0/50 [00:00<?, ?it/s]"
      ]
     },
     "metadata": {},
     "output_type": "display_data"
    },
    {
     "name": "stdout",
     "output_type": "stream",
     "text": [
      "Epoch: 1 \n",
      "Learning rate: 0.0011\n",
      "Train loss: 0.6742 | Train precision: 0.6904 | Train recall: 0.6933 | Train f1score: 0.6918 | Train acc: 0.6811 | Train kappa: 0.5823 \n",
      "Val loss: 0.4081 | Val precision: 0.7294 | Val recall: 0.4566 | Val f1score: 0.5017 | Val acc: 0.8984 | Val kappa: 0.4660 \n",
      "\n",
      "Epoch: 2 \n",
      "Learning rate: 0.0009350000000000001\n",
      "Train loss: 0.5820 | Train precision: 0.7517 | Train recall: 0.7544 | Train f1score: 0.7530 | Train acc: 0.7232 | Train kappa: 0.6539 \n",
      "Val loss: 0.2900 | Val precision: 0.7046 | Val recall: 0.7169 | Val f1score: 0.7100 | Val acc: 0.8914 | Val kappa: 0.6292 \n",
      "\n",
      "Epoch: 3 \n",
      "Learning rate: 0.00079475\n",
      "Train loss: 0.5571 | Train precision: 0.7712 | Train recall: 0.7667 | Train f1score: 0.7689 | Train acc: 0.7395 | Train kappa: 0.6674 \n",
      "Val loss: 0.3977 | Val precision: 0.6461 | Val recall: 0.7653 | Val f1score: 0.6842 | Val acc: 0.8438 | Val kappa: 0.5659 \n",
      "\n",
      "Epoch: 4 \n",
      "Learning rate: 0.0006755375\n",
      "Train loss: 0.5313 | Train precision: 0.7864 | Train recall: 0.7836 | Train f1score: 0.7848 | Train acc: 0.7485 | Train kappa: 0.6834 \n",
      "Val loss: 0.4295 | Val precision: 0.7038 | Val recall: 0.7645 | Val f1score: 0.7075 | Val acc: 0.8327 | Val kappa: 0.5414 \n",
      "\n",
      "Epoch: 5 \n",
      "Learning rate: 0.0005742068749999999\n",
      "Train loss: 0.5195 | Train precision: 0.7946 | Train recall: 0.7916 | Train f1score: 0.7931 | Train acc: 0.7574 | Train kappa: 0.6927 \n",
      "Val loss: 0.4390 | Val precision: 0.6422 | Val recall: 0.7956 | Val f1score: 0.6733 | Val acc: 0.7948 | Val kappa: 0.4899 \n",
      "\n",
      "Epoch: 6 \n",
      "Learning rate: 0.0004880758437499999\n",
      "Train loss: 0.4997 | Train precision: 0.7968 | Train recall: 0.8022 | Train f1score: 0.7995 | Train acc: 0.7637 | Train kappa: 0.7081 \n",
      "Val loss: 0.6140 | Val precision: 0.6845 | Val recall: 0.7719 | Val f1score: 0.6471 | Val acc: 0.6831 | Val kappa: 0.3688 \n",
      "\n",
      "Epoch: 7 \n",
      "Learning rate: 0.0004148644671874999\n",
      "Train loss: 0.4665 | Train precision: 0.8173 | Train recall: 0.8189 | Train f1score: 0.8180 | Train acc: 0.7798 | Train kappa: 0.7207 \n",
      "Val loss: 0.3020 | Val precision: 0.7044 | Val recall: 0.7595 | Val f1score: 0.7215 | Val acc: 0.8718 | Val kappa: 0.6077 \n",
      "\n",
      "Epoch: 8 \n",
      "Learning rate: 0.0003526347971093749\n",
      "Train loss: 0.4576 | Train precision: 0.8230 | Train recall: 0.8263 | Train f1score: 0.8246 | Train acc: 0.7863 | Train kappa: 0.7305 \n",
      "Val loss: 0.4523 | Val precision: 0.6674 | Val recall: 0.7761 | Val f1score: 0.6800 | Val acc: 0.7895 | Val kappa: 0.4776 \n",
      "\n",
      "Epoch: 9 \n",
      "Learning rate: 0.0002997395775429687\n",
      "Train loss: 0.4469 | Train precision: 0.8270 | Train recall: 0.8299 | Train f1score: 0.8285 | Train acc: 0.7901 | Train kappa: 0.7332 \n",
      "Val loss: 0.4523 | Val precision: 0.6855 | Val recall: 0.7938 | Val f1score: 0.6894 | Val acc: 0.7797 | Val kappa: 0.4674 \n",
      "\n",
      "Epoch: 10 \n",
      "Learning rate: 0.0002547786409115234\n",
      "Train loss: 0.4214 | Train precision: 0.8401 | Train recall: 0.8435 | Train f1score: 0.8418 | Train acc: 0.7999 | Train kappa: 0.7485 \n",
      "Val loss: 0.4250 | Val precision: 0.6914 | Val recall: 0.7865 | Val f1score: 0.6947 | Val acc: 0.7951 | Val kappa: 0.4932 \n",
      "\n",
      "Epoch: 11 \n",
      "Learning rate: 0.00021656184477479486\n",
      "Train loss: 0.4112 | Train precision: 0.8486 | Train recall: 0.8531 | Train f1score: 0.8507 | Train acc: 0.8109 | Train kappa: 0.7705 \n",
      "Val loss: 0.4052 | Val precision: 0.5826 | Val recall: 0.7710 | Val f1score: 0.6360 | Val acc: 0.8160 | Val kappa: 0.4958 \n",
      "\n",
      "Epoch: 12 \n",
      "Learning rate: 0.00018407756805857562\n",
      "Train loss: 0.3970 | Train precision: 0.8537 | Train recall: 0.8583 | Train f1score: 0.8559 | Train acc: 0.8164 | Train kappa: 0.7758 \n",
      "Val loss: 0.4419 | Val precision: 0.6499 | Val recall: 0.7349 | Val f1score: 0.6568 | Val acc: 0.7980 | Val kappa: 0.4734 \n",
      "\n",
      "Epoch: 13 \n",
      "Learning rate: 0.00015646593284978928\n",
      "Train loss: 0.3803 | Train precision: 0.8585 | Train recall: 0.8660 | Train f1score: 0.8620 | Train acc: 0.8248 | Train kappa: 0.7829 \n",
      "Val loss: 0.4924 | Val precision: 0.6618 | Val recall: 0.7931 | Val f1score: 0.6656 | Val acc: 0.7465 | Val kappa: 0.4270 \n",
      "\n",
      "Epoch: 14 \n",
      "Learning rate: 0.0001329960429223209\n",
      "Train loss: 0.3691 | Train precision: 0.8686 | Train recall: 0.8722 | Train f1score: 0.8701 | Train acc: 0.8319 | Train kappa: 0.7915 \n",
      "Val loss: 0.4644 | Val precision: 0.6676 | Val recall: 0.7932 | Val f1score: 0.6763 | Val acc: 0.7655 | Val kappa: 0.4554 \n",
      "\n",
      "Epoch: 15 \n",
      "Learning rate: 0.00011304663648397275\n",
      "Train loss: 0.3501 | Train precision: 0.8760 | Train recall: 0.8821 | Train f1score: 0.8788 | Train acc: 0.8429 | Train kappa: 0.8046 \n",
      "Val loss: 0.3523 | Val precision: 0.6889 | Val recall: 0.7726 | Val f1score: 0.7092 | Val acc: 0.8456 | Val kappa: 0.5572 \n",
      "\n",
      "Epoch: 16 \n",
      "Learning rate: 9.608964101137683e-05\n",
      "Train loss: 0.3338 | Train precision: 0.8857 | Train recall: 0.8896 | Train f1score: 0.8874 | Train acc: 0.8537 | Train kappa: 0.8220 \n",
      "Val loss: 0.5123 | Val precision: 0.6552 | Val recall: 0.7880 | Val f1score: 0.6594 | Val acc: 0.7497 | Val kappa: 0.4367 \n",
      "\n",
      "Epoch: 17 \n",
      "Learning rate: 8.16761948596703e-05\n",
      "Train loss: 0.3328 | Train precision: 0.8851 | Train recall: 0.8893 | Train f1score: 0.8868 | Train acc: 0.8524 | Train kappa: 0.8158 \n",
      "Val loss: 0.4025 | Val precision: 0.6410 | Val recall: 0.7497 | Val f1score: 0.6631 | Val acc: 0.8138 | Val kappa: 0.4911 \n",
      "\n",
      "Early stopping after epoch 17\n",
      "Deleting variables and emptying cache\n",
      "Memory allocated: 1055169536 bytes\n",
      "--------------------------------------------------\n",
      "\n",
      "Check shapes:\n",
      "\n",
      "Images train dataset: (12782, 250, 250, 4)\n",
      "Labels train dataset: (12782, 1)\n",
      "\n",
      "Images validation dataset: (3191, 250, 250, 4)\n",
      "Labels validation dataset: (3191, 1)\n",
      "\n",
      "--------------------------------------------------\n",
      "Check if the split was stratified: (random_state=42)\n",
      "Healthy trees in train dataset: 11582\n",
      "Stressed trees in train dataset: 985\n",
      "Dead trees in train dataset: 215\n",
      "Healthy trees in validation dataset: 2883\n",
      "Stressed trees in validation dataset: 255\n",
      "Dead trees in validation dataset: 53\n",
      "Ratio health trees in validation dataset: 0.19930867611475978\n",
      "Ratio stressed trees in validation dataset: 0.2056451612903226\n",
      "Ratio dead trees in validation dataset: 0.19776119402985073\n",
      "--------------------------------------------------\n",
      "\n",
      "Creating datasets for fold: 4\n",
      "\n",
      "Creating dataloaders for fold: 4\n",
      "\n",
      "Loaded pretrained weights for efficientnet-b7\n",
      "\n",
      "[INFO] Fold number: 4\n",
      "[INFO] Number of epochs: 50\n",
      "[INFO] Batch_size: 32\n",
      "[INFO] Number of bands: 4\n",
      "[INFO] Dropout rate: 0.45\n",
      "[INFO] Gamma learning rate: 0.85\n",
      "[INFO] Memory allocated: 0 bytes\n",
      "[INFO] Created SummaryWriter, saving to: runs\\2023-04-10\\RGB-NIR_3classes\\EffNet_b7_RGB-NIR_3classes...\n"
     ]
    },
    {
     "data": {
      "application/vnd.jupyter.widget-view+json": {
       "model_id": "76e26195c4fc44179aada40b2d5d3fbe",
       "version_major": 2,
       "version_minor": 0
      },
      "text/plain": [
       "  0%|          | 0/50 [00:00<?, ?it/s]"
      ]
     },
     "metadata": {},
     "output_type": "display_data"
    },
    {
     "name": "stdout",
     "output_type": "stream",
     "text": [
      "Epoch: 1 \n",
      "Learning rate: 0.0011\n",
      "Train loss: 0.6848 | Train precision: 0.6742 | Train recall: 0.6730 | Train f1score: 0.6731 | Train acc: 0.6602 | Train kappa: 0.5704 \n",
      "Val loss: 0.6902 | Val precision: 0.7078 | Val recall: 0.5753 | Val f1score: 0.5071 | Val acc: 0.6515 | Val kappa: 0.2520 \n",
      "\n",
      "Epoch: 2 \n",
      "Learning rate: 0.0009350000000000001\n",
      "Train loss: 0.5933 | Train precision: 0.7410 | Train recall: 0.7447 | Train f1score: 0.7428 | Train acc: 0.7169 | Train kappa: 0.6541 \n",
      "Val loss: 0.5847 | Val precision: 0.5622 | Val recall: 0.7640 | Val f1score: 0.5806 | Val acc: 0.6733 | Val kappa: 0.3242 \n",
      "\n",
      "Epoch: 3 \n",
      "Learning rate: 0.00079475\n",
      "Train loss: 0.5564 | Train precision: 0.7688 | Train recall: 0.7681 | Train f1score: 0.7683 | Train acc: 0.7336 | Train kappa: 0.6894 \n",
      "Val loss: 0.4322 | Val precision: 0.6706 | Val recall: 0.7554 | Val f1score: 0.6864 | Val acc: 0.8207 | Val kappa: 0.4820 \n",
      "\n",
      "Epoch: 4 \n",
      "Learning rate: 0.0006755375\n",
      "Train loss: 0.5414 | Train precision: 0.7762 | Train recall: 0.7744 | Train f1score: 0.7753 | Train acc: 0.7404 | Train kappa: 0.6823 \n",
      "Val loss: 0.4769 | Val precision: 0.6846 | Val recall: 0.7474 | Val f1score: 0.6541 | Val acc: 0.7260 | Val kappa: 0.3711 \n",
      "\n",
      "Epoch: 5 \n",
      "Learning rate: 0.0005742068749999999\n",
      "Train loss: 0.5105 | Train precision: 0.8013 | Train recall: 0.7934 | Train f1score: 0.7973 | Train acc: 0.7592 | Train kappa: 0.7079 \n",
      "Val loss: 0.4466 | Val precision: 0.6611 | Val recall: 0.7807 | Val f1score: 0.6831 | Val acc: 0.7863 | Val kappa: 0.4424 \n",
      "\n",
      "Epoch: 6 \n",
      "Learning rate: 0.0004880758437499999\n",
      "Train loss: 0.4915 | Train precision: 0.8043 | Train recall: 0.7991 | Train f1score: 0.8016 | Train acc: 0.7643 | Train kappa: 0.7168 \n",
      "Val loss: 0.5657 | Val precision: 0.7079 | Val recall: 0.7547 | Val f1score: 0.6603 | Val acc: 0.7206 | Val kappa: 0.3700 \n",
      "\n",
      "Epoch: 7 \n",
      "Learning rate: 0.0004148644671874999\n",
      "Train loss: 0.4684 | Train precision: 0.8154 | Train recall: 0.8115 | Train f1score: 0.8135 | Train acc: 0.7754 | Train kappa: 0.7293 \n",
      "Val loss: 0.5236 | Val precision: 0.6340 | Val recall: 0.8027 | Val f1score: 0.6670 | Val acc: 0.7711 | Val kappa: 0.4366 \n",
      "\n",
      "Epoch: 8 \n",
      "Learning rate: 0.0003526347971093749\n",
      "Train loss: 0.4623 | Train precision: 0.8252 | Train recall: 0.8210 | Train f1score: 0.8231 | Train acc: 0.7826 | Train kappa: 0.7332 \n",
      "Val loss: 0.3071 | Val precision: 0.7312 | Val recall: 0.7472 | Val f1score: 0.7390 | Val acc: 0.9025 | Val kappa: 0.6211 \n",
      "\n",
      "Epoch: 9 \n",
      "Learning rate: 0.0002997395775429687\n",
      "Train loss: 0.4495 | Train precision: 0.8250 | Train recall: 0.8197 | Train f1score: 0.8223 | Train acc: 0.7806 | Train kappa: 0.7331 \n",
      "Val loss: 0.5811 | Val precision: 0.6184 | Val recall: 0.7932 | Val f1score: 0.6304 | Val acc: 0.6938 | Val kappa: 0.3560 \n",
      "\n",
      "Epoch: 10 \n",
      "Learning rate: 0.0002547786409115234\n",
      "Train loss: 0.4321 | Train precision: 0.8342 | Train recall: 0.8318 | Train f1score: 0.8330 | Train acc: 0.7935 | Train kappa: 0.7532 \n",
      "Val loss: 0.5359 | Val precision: 0.6393 | Val recall: 0.7973 | Val f1score: 0.6454 | Val acc: 0.7093 | Val kappa: 0.3722 \n",
      "\n",
      "Epoch: 11 \n",
      "Learning rate: 0.00021656184477479486\n",
      "Train loss: 0.4167 | Train precision: 0.8422 | Train recall: 0.8421 | Train f1score: 0.8421 | Train acc: 0.8007 | Train kappa: 0.7625 \n",
      "Val loss: 0.3393 | Val precision: 0.6929 | Val recall: 0.7727 | Val f1score: 0.7159 | Val acc: 0.8535 | Val kappa: 0.5449 \n",
      "\n",
      "Epoch: 12 \n",
      "Learning rate: 0.00018407756805857562\n",
      "Train loss: 0.4103 | Train precision: 0.8465 | Train recall: 0.8480 | Train f1score: 0.8471 | Train acc: 0.8053 | Train kappa: 0.7638 \n",
      "Val loss: 0.4542 | Val precision: 0.6396 | Val recall: 0.7923 | Val f1score: 0.6680 | Val acc: 0.7765 | Val kappa: 0.4352 \n",
      "\n",
      "Epoch: 13 \n",
      "Learning rate: 0.00015646593284978928\n",
      "Train loss: 0.3938 | Train precision: 0.8550 | Train recall: 0.8566 | Train f1score: 0.8555 | Train acc: 0.8147 | Train kappa: 0.7785 \n",
      "Val loss: 0.4332 | Val precision: 0.6699 | Val recall: 0.7952 | Val f1score: 0.6884 | Val acc: 0.7951 | Val kappa: 0.4702 \n",
      "\n",
      "Epoch: 14 \n",
      "Learning rate: 0.0001329960429223209\n",
      "Train loss: 0.3835 | Train precision: 0.8560 | Train recall: 0.8560 | Train f1score: 0.8556 | Train acc: 0.8130 | Train kappa: 0.7779 \n",
      "Val loss: 0.4678 | Val precision: 0.6805 | Val recall: 0.7846 | Val f1score: 0.6790 | Val acc: 0.7639 | Val kappa: 0.4201 \n",
      "\n",
      "Epoch: 15 \n",
      "Learning rate: 0.00011304663648397275\n",
      "Train loss: 0.3681 | Train precision: 0.8673 | Train recall: 0.8696 | Train f1score: 0.8680 | Train acc: 0.8277 | Train kappa: 0.7893 \n",
      "Val loss: 0.4849 | Val precision: 0.6940 | Val recall: 0.7851 | Val f1score: 0.6822 | Val acc: 0.7484 | Val kappa: 0.4022 \n",
      "\n",
      "Epoch: 16 \n",
      "Learning rate: 9.608964101137683e-05\n",
      "Train loss: 0.3595 | Train precision: 0.8685 | Train recall: 0.8687 | Train f1score: 0.8682 | Train acc: 0.8289 | Train kappa: 0.7940 \n",
      "Val loss: 0.3505 | Val precision: 0.6922 | Val recall: 0.7713 | Val f1score: 0.7150 | Val acc: 0.8529 | Val kappa: 0.5399 \n",
      "\n",
      "Epoch: 17 \n",
      "Learning rate: 8.16761948596703e-05\n",
      "Train loss: 0.3420 | Train precision: 0.8778 | Train recall: 0.8785 | Train f1score: 0.8779 | Train acc: 0.8401 | Train kappa: 0.8063 \n",
      "Val loss: 0.4649 | Val precision: 0.6715 | Val recall: 0.7842 | Val f1score: 0.6802 | Val acc: 0.7749 | Val kappa: 0.4389 \n",
      "\n",
      "Epoch: 18 \n",
      "Learning rate: 6.942476563071976e-05\n",
      "Train loss: 0.3463 | Train precision: 0.8766 | Train recall: 0.8782 | Train f1score: 0.8766 | Train acc: 0.8391 | Train kappa: 0.8068 \n",
      "Val loss: 0.4314 | Val precision: 0.6778 | Val recall: 0.7856 | Val f1score: 0.6931 | Val acc: 0.8015 | Val kappa: 0.4701 \n",
      "\n",
      "Early stopping after epoch 18\n",
      "Deleting variables and emptying cache\n",
      "Memory allocated: 1056959488 bytes\n",
      "--------------------------------------------------\n",
      "\n",
      "Check shapes:\n",
      "\n",
      "Images train dataset: (12764, 250, 250, 4)\n",
      "Labels train dataset: (12764, 1)\n",
      "\n",
      "Images validation dataset: (3209, 250, 250, 4)\n",
      "Labels validation dataset: (3209, 1)\n",
      "\n",
      "--------------------------------------------------\n",
      "Check if the split was stratified: (random_state=42)\n",
      "Healthy trees in train dataset: 11574\n",
      "Stressed trees in train dataset: 974\n",
      "Dead trees in train dataset: 216\n",
      "Healthy trees in validation dataset: 2891\n",
      "Stressed trees in validation dataset: 266\n",
      "Dead trees in validation dataset: 52\n",
      "Ratio health trees in validation dataset: 0.19986173522295195\n",
      "Ratio stressed trees in validation dataset: 0.21451612903225806\n",
      "Ratio dead trees in validation dataset: 0.19402985074626866\n",
      "--------------------------------------------------\n",
      "\n",
      "Creating datasets for fold: 5\n",
      "\n",
      "Creating dataloaders for fold: 5\n",
      "\n",
      "Loaded pretrained weights for efficientnet-b7\n",
      "\n",
      "[INFO] Fold number: 5\n",
      "[INFO] Number of epochs: 50\n",
      "[INFO] Batch_size: 32\n",
      "[INFO] Number of bands: 4\n",
      "[INFO] Dropout rate: 0.45\n",
      "[INFO] Gamma learning rate: 0.85\n",
      "[INFO] Memory allocated: 0 bytes\n",
      "[INFO] Created SummaryWriter, saving to: runs\\2023-04-10\\RGB-NIR_3classes\\EffNet_b7_RGB-NIR_3classes...\n"
     ]
    },
    {
     "data": {
      "application/vnd.jupyter.widget-view+json": {
       "model_id": "43c8bb92eed3480ab74d3d77d95ef8f2",
       "version_major": 2,
       "version_minor": 0
      },
      "text/plain": [
       "  0%|          | 0/50 [00:00<?, ?it/s]"
      ]
     },
     "metadata": {},
     "output_type": "display_data"
    },
    {
     "name": "stdout",
     "output_type": "stream",
     "text": [
      "Epoch: 1 \n",
      "Learning rate: 0.0011\n",
      "Train loss: 0.6864 | Train precision: 0.6839 | Train recall: 0.6870 | Train f1score: 0.6850 | Train acc: 0.6712 | Train kappa: 0.5803 \n",
      "Val loss: 0.3105 | Val precision: 0.6990 | Val recall: 0.4525 | Val f1score: 0.4904 | Val acc: 0.9041 | Val kappa: 0.2502 \n",
      "\n",
      "Epoch: 2 \n",
      "Learning rate: 0.0009350000000000001\n",
      "Train loss: 0.5927 | Train precision: 0.7463 | Train recall: 0.7532 | Train f1score: 0.7494 | Train acc: 0.7265 | Train kappa: 0.6683 \n",
      "Val loss: 0.4841 | Val precision: 0.6343 | Val recall: 0.7625 | Val f1score: 0.6684 | Val acc: 0.7969 | Val kappa: 0.4358 \n",
      "\n",
      "Epoch: 3 \n",
      "Learning rate: 0.00079475\n",
      "Train loss: 0.5487 | Train precision: 0.7749 | Train recall: 0.7751 | Train f1score: 0.7750 | Train acc: 0.7408 | Train kappa: 0.6858 \n",
      "Val loss: 0.3838 | Val precision: 0.7055 | Val recall: 0.7232 | Val f1score: 0.6939 | Val acc: 0.8281 | Val kappa: 0.4769 \n",
      "\n",
      "Epoch: 4 \n",
      "Learning rate: 0.0006755375\n",
      "Train loss: 0.5262 | Train precision: 0.7919 | Train recall: 0.7920 | Train f1score: 0.7919 | Train acc: 0.7568 | Train kappa: 0.7119 \n",
      "Val loss: 0.5862 | Val precision: 0.6239 | Val recall: 0.7809 | Val f1score: 0.6199 | Val acc: 0.6637 | Val kappa: 0.3265 \n",
      "\n",
      "Epoch: 5 \n",
      "Learning rate: 0.0005742068749999999\n",
      "Train loss: 0.5074 | Train precision: 0.8011 | Train recall: 0.8006 | Train f1score: 0.8008 | Train acc: 0.7655 | Train kappa: 0.7189 \n",
      "Val loss: 0.3556 | Val precision: 0.6961 | Val recall: 0.7455 | Val f1score: 0.7142 | Val acc: 0.8600 | Val kappa: 0.5344 \n",
      "\n",
      "Epoch: 6 \n",
      "Learning rate: 0.0004880758437499999\n",
      "Train loss: 0.4825 | Train precision: 0.8139 | Train recall: 0.8146 | Train f1score: 0.8142 | Train acc: 0.7804 | Train kappa: 0.7376 \n",
      "Val loss: 0.3965 | Val precision: 0.6935 | Val recall: 0.7647 | Val f1score: 0.7069 | Val acc: 0.8244 | Val kappa: 0.4878 \n",
      "\n",
      "Epoch: 7 \n",
      "Learning rate: 0.0004148644671874999\n",
      "Train loss: 0.4733 | Train precision: 0.8193 | Train recall: 0.8176 | Train f1score: 0.8185 | Train acc: 0.7807 | Train kappa: 0.7335 \n",
      "Val loss: 0.5046 | Val precision: 0.6835 | Val recall: 0.7951 | Val f1score: 0.6807 | Val acc: 0.7391 | Val kappa: 0.3991 \n",
      "\n",
      "Epoch: 8 \n",
      "Learning rate: 0.0003526347971093749\n",
      "Train loss: 0.4345 | Train precision: 0.8394 | Train recall: 0.8388 | Train f1score: 0.8390 | Train acc: 0.8044 | Train kappa: 0.7666 \n",
      "Val loss: 0.6220 | Val precision: 0.6516 | Val recall: 0.7932 | Val f1score: 0.6415 | Val acc: 0.6706 | Val kappa: 0.3385 \n",
      "\n",
      "Epoch: 9 \n",
      "Learning rate: 0.0002997395775429687\n",
      "Train loss: 0.4187 | Train precision: 0.8415 | Train recall: 0.8411 | Train f1score: 0.8413 | Train acc: 0.8021 | Train kappa: 0.7657 \n",
      "Val loss: 0.2838 | Val precision: 0.6680 | Val recall: 0.7071 | Val f1score: 0.6771 | Val acc: 0.9006 | Val kappa: 0.5932 \n",
      "\n",
      "Epoch: 10 \n",
      "Learning rate: 0.0002547786409115234\n",
      "Train loss: 0.4080 | Train precision: 0.8455 | Train recall: 0.8470 | Train f1score: 0.8463 | Train acc: 0.8090 | Train kappa: 0.7760 \n",
      "Val loss: 0.4098 | Val precision: 0.6589 | Val recall: 0.7643 | Val f1score: 0.6916 | Val acc: 0.8263 | Val kappa: 0.4851 \n",
      "\n",
      "Epoch: 11 \n",
      "Learning rate: 0.00021656184477479486\n",
      "Train loss: 0.3999 | Train precision: 0.8492 | Train recall: 0.8530 | Train f1score: 0.8511 | Train acc: 0.8145 | Train kappa: 0.7808 \n",
      "Val loss: 0.3808 | Val precision: 0.6934 | Val recall: 0.7703 | Val f1score: 0.7113 | Val acc: 0.8334 | Val kappa: 0.5068 \n",
      "\n",
      "Epoch: 12 \n",
      "Learning rate: 0.00018407756805857562\n",
      "Train loss: 0.3767 | Train precision: 0.8609 | Train recall: 0.8659 | Train f1score: 0.8632 | Train acc: 0.8262 | Train kappa: 0.7903 \n",
      "Val loss: 0.5020 | Val precision: 0.6762 | Val recall: 0.7728 | Val f1score: 0.6762 | Val acc: 0.7588 | Val kappa: 0.4099 \n",
      "\n",
      "Epoch: 13 \n",
      "Learning rate: 0.00015646593284978928\n",
      "Train loss: 0.3642 | Train precision: 0.8657 | Train recall: 0.8700 | Train f1score: 0.8676 | Train acc: 0.8328 | Train kappa: 0.8035 \n",
      "Val loss: 0.3510 | Val precision: 0.6913 | Val recall: 0.7523 | Val f1score: 0.7123 | Val acc: 0.8491 | Val kappa: 0.5102 \n",
      "\n",
      "Epoch: 14 \n",
      "Learning rate: 0.0001329960429223209\n",
      "Train loss: 0.3492 | Train precision: 0.8745 | Train recall: 0.8774 | Train f1score: 0.8759 | Train acc: 0.8423 | Train kappa: 0.8121 \n",
      "Val loss: 0.5092 | Val precision: 0.6670 | Val recall: 0.7661 | Val f1score: 0.6665 | Val acc: 0.7469 | Val kappa: 0.3898 \n",
      "\n",
      "Epoch: 15 \n",
      "Learning rate: 0.00011304663648397275\n",
      "Train loss: 0.3291 | Train precision: 0.8841 | Train recall: 0.8871 | Train f1score: 0.8854 | Train acc: 0.8530 | Train kappa: 0.8296 \n",
      "Val loss: 0.4675 | Val precision: 0.6593 | Val recall: 0.7859 | Val f1score: 0.6871 | Val acc: 0.7906 | Val kappa: 0.4459 \n",
      "\n",
      "Epoch: 16 \n",
      "Learning rate: 9.608964101137683e-05\n",
      "Train loss: 0.3175 | Train precision: 0.8925 | Train recall: 0.8962 | Train f1score: 0.8937 | Train acc: 0.8613 | Train kappa: 0.8335 \n",
      "Val loss: 0.3680 | Val precision: 0.7096 | Val recall: 0.7502 | Val f1score: 0.7158 | Val acc: 0.8453 | Val kappa: 0.5176 \n",
      "\n",
      "Epoch: 17 \n",
      "Learning rate: 8.16761948596703e-05\n",
      "Train loss: 0.3017 | Train precision: 0.8927 | Train recall: 0.8972 | Train f1score: 0.8946 | Train acc: 0.8643 | Train kappa: 0.8436 \n",
      "Val loss: 0.5449 | Val precision: 0.6877 | Val recall: 0.7971 | Val f1score: 0.6833 | Val acc: 0.7334 | Val kappa: 0.3934 \n",
      "\n",
      "Epoch: 18 \n",
      "Learning rate: 6.942476563071976e-05\n",
      "Train loss: 0.2950 | Train precision: 0.8983 | Train recall: 0.9022 | Train f1score: 0.8997 | Train acc: 0.8691 | Train kappa: 0.8464 \n",
      "Val loss: 0.4648 | Val precision: 0.6912 | Val recall: 0.7645 | Val f1score: 0.6896 | Val acc: 0.7872 | Val kappa: 0.4425 \n",
      "\n",
      "Epoch: 19 \n",
      "Learning rate: 5.9011050786111795e-05\n",
      "Train loss: 0.2887 | Train precision: 0.9021 | Train recall: 0.9045 | Train f1score: 0.9029 | Train acc: 0.8737 | Train kappa: 0.8500 \n",
      "Val loss: 0.4138 | Val precision: 0.6804 | Val recall: 0.7433 | Val f1score: 0.6892 | Val acc: 0.8159 | Val kappa: 0.4653 \n",
      "\n",
      "Epoch: 20 \n",
      "Learning rate: 5.015939316819502e-05\n",
      "Train loss: 0.2787 | Train precision: 0.9059 | Train recall: 0.9096 | Train f1score: 0.9072 | Train acc: 0.8793 | Train kappa: 0.8572 \n",
      "Val loss: 0.4736 | Val precision: 0.6747 | Val recall: 0.7727 | Val f1score: 0.6894 | Val acc: 0.7891 | Val kappa: 0.4396 \n",
      "\n",
      "Epoch: 21 \n",
      "Learning rate: 4.2635484192965766e-05\n",
      "Train loss: 0.2718 | Train precision: 0.9122 | Train recall: 0.9150 | Train f1score: 0.9130 | Train acc: 0.8848 | Train kappa: 0.8618 \n",
      "Val loss: 0.4204 | Val precision: 0.6971 | Val recall: 0.7599 | Val f1score: 0.7073 | Val acc: 0.8238 | Val kappa: 0.4853 \n",
      "\n",
      "Epoch: 22 \n",
      "Learning rate: 3.62401615640209e-05\n",
      "Train loss: 0.2575 | Train precision: 0.9163 | Train recall: 0.9179 | Train f1score: 0.9165 | Train acc: 0.8903 | Train kappa: 0.8699 \n",
      "Val loss: 0.4081 | Val precision: 0.6898 | Val recall: 0.7636 | Val f1score: 0.7114 | Val acc: 0.8366 | Val kappa: 0.5000 \n",
      "\n",
      "Epoch: 23 \n",
      "Learning rate: 3.080413732941777e-05\n",
      "Train loss: 0.2583 | Train precision: 0.9168 | Train recall: 0.9190 | Train f1score: 0.9174 | Train acc: 0.8908 | Train kappa: 0.8701 \n",
      "Val loss: 0.4525 | Val precision: 0.6860 | Val recall: 0.7615 | Val f1score: 0.6988 | Val acc: 0.8081 | Val kappa: 0.4602 \n",
      "\n",
      "Epoch: 24 \n",
      "Learning rate: 2.61835167300051e-05\n",
      "Train loss: 0.2420 | Train precision: 0.9211 | Train recall: 0.9237 | Train f1score: 0.9220 | Train acc: 0.8979 | Train kappa: 0.8801 \n",
      "Val loss: 0.4385 | Val precision: 0.6923 | Val recall: 0.7619 | Val f1score: 0.7081 | Val acc: 0.8275 | Val kappa: 0.4886 \n",
      "\n",
      "Epoch: 25 \n",
      "Learning rate: 2.2255989220504335e-05\n",
      "Train loss: 0.2467 | Train precision: 0.9195 | Train recall: 0.9225 | Train f1score: 0.9205 | Train acc: 0.8955 | Train kappa: 0.8751 \n",
      "Val loss: 0.4316 | Val precision: 0.6903 | Val recall: 0.7564 | Val f1score: 0.7029 | Val acc: 0.8234 | Val kappa: 0.4812 \n",
      "\n",
      "Epoch: 26 \n",
      "Learning rate: 1.8917590837428684e-05\n",
      "Train loss: 0.2493 | Train precision: 0.9206 | Train recall: 0.9240 | Train f1score: 0.9217 | Train acc: 0.8971 | Train kappa: 0.8781 \n",
      "Val loss: 0.4158 | Val precision: 0.6911 | Val recall: 0.7495 | Val f1score: 0.7042 | Val acc: 0.8325 | Val kappa: 0.4908 \n",
      "\n",
      "Early stopping after epoch 26\n",
      "Deleting variables and emptying cache\n",
      "Memory allocated: 1055400960 bytes\n",
      "--------------------------------------------------\n",
      "\n",
      "CPU times: total: 6h 52min 18s\n",
      "Wall time: 9h 48min 48s\n"
     ]
    }
   ],
   "source": [
    "%%time\n",
    "\n",
    "# Set the random seeds\n",
    "set_seeds(42)\n",
    "\n",
    "# Define the number of folds\n",
    "num_folds = 5\n",
    "\n",
    "# Create a KFold object\n",
    "kf = KFold(n_splits=num_folds, shuffle=True, random_state=42)\n",
    "\n",
    "unique_values = np.unique(hash_id) # now there are less unique values left because we seperated the test dataset\n",
    "num_unique = len(unique_values)\n",
    "print(f\"There are {num_unique} unique values within hash_id.\\n\")\n",
    "\n",
    "# Loop over each fold\n",
    "for fold, (train_ids, val_ids) in enumerate(kf.split(unique_values)):\n",
    "    torch.cuda.empty_cache()\n",
    "    \n",
    "    # 1. Split data into train and validation set\n",
    "    # Get the training and testing data for this fold\n",
    "    # Use np.isin() to create boolean arrays indicating which indices belong to train or test sets\n",
    "    train_indices = np.isin(hash_id, unique_values[train_ids])\n",
    "    val_indices = np.isin(hash_id, unique_values[val_ids])\n",
    "    \n",
    "    # Reshape boolean arrays to match shape of image_set and label_set\n",
    "    train_indices = train_indices.reshape(-1, 1)\n",
    "    val_indices = val_indices.reshape(-1, 1)\n",
    "  \n",
    "    # Select images and labels for train and validation sets\n",
    "    train_image_set = image_set[train_indices[:, 0]]\n",
    "    train_label_set = label_set[train_indices[:, 0]]\n",
    "    train_hash_id = hash_id[train_indices[:, 0]]\n",
    "    train_species_set = species_set[train_indices[:, 0]]\n",
    "    val_image_set = image_set[val_indices[:, 0]]\n",
    "    val_label_set = label_set[val_indices[:, 0]]\n",
    "    val_hash_id = hash_id[val_indices[:, 0]]\n",
    "    val_species_set = species_set[val_indices[:, 0]]\n",
    "    train_label_set = train_label_set.reshape(-1, 1)\n",
    "    val_label_set = val_label_set.reshape(-1, 1)\n",
    "    train_hash_id = train_hash_id.reshape(-1, 1)\n",
    "    val_hash_id = val_hash_id.reshape(-1, 1)\n",
    "    train_species_set = train_species_set.reshape(-1, 1)\n",
    "    val_species_set = val_species_set.reshape(-1, 1)\n",
    "            \n",
    "    print(\"Check shapes:\\n\")\n",
    "    print(f\"Images train dataset: {train_image_set.shape}\")\n",
    "    print(f\"Labels train dataset: {train_label_set.shape}\\n\")\n",
    "    \n",
    "    print(f\"Images validation dataset: {val_image_set.shape}\")\n",
    "    print(f\"Labels validation dataset: {val_label_set.shape}\\n\")\n",
    "    print('-'*50)\n",
    "    print (f\"Check if the split was stratified: (random_state=42)\")\n",
    "    print(f\"Healthy trees in train dataset: {np.count_nonzero(train_label_set == 0)}\")\n",
    "    print(f\"Stressed trees in train dataset: {np.count_nonzero(train_label_set == 1)}\")\n",
    "    print(f\"Dead trees in train dataset: {np.count_nonzero(train_label_set == 2)}\")\n",
    "    print(f\"Healthy trees in validation dataset: {np.count_nonzero(val_label_set == 0)}\")\n",
    "    print(f\"Stressed trees in validation dataset: {np.count_nonzero(val_label_set == 1)}\")\n",
    "    print(f\"Dead trees in validation dataset: {np.count_nonzero(val_label_set == 2)}\")\n",
    "    print(f\"Ratio health trees in validation dataset: {np.count_nonzero(val_label_set == 0)/np.count_nonzero(label_set == 0)}\")\n",
    "    print(f\"Ratio stressed trees in validation dataset: {np.count_nonzero(val_label_set == 1)/np.count_nonzero(label_set == 1)}\")\n",
    "    print(f\"Ratio dead trees in validation dataset: {np.count_nonzero(val_label_set == 2)/np.count_nonzero(label_set == 2)}\")\n",
    "    print(\"-\"*50)\n",
    "    \n",
    "    \n",
    "    # 2. Create train and validation dataset. (choose custom dataset loader with 3 - 5 classes)\n",
    "    print(f\"\\nCreating datasets for fold: {fold + 1}\\n\")\n",
    "    train_dataset = data_loader.CustomDataset(data=train_image_set, labels=train_label_set, class_names=class_names, species = train_species_set,\n",
    "                                                         transform=transform_train)\n",
    "    \n",
    "    val_dataset = data_loader.CustomDataset(data=val_image_set, labels=val_label_set, class_names=class_names,\n",
    "                                                       species = val_species_set, transform=transform)\n",
    "   \n",
    "    # 3. Create train and validation dataloader\n",
    "    # create sampler for oversampling of the minority classes\n",
    "    sampler = data_loader.data_sampler(dataset=train_dataset, class_names=class_names)\n",
    "    print(f\"Creating dataloaders for fold: {fold +1}\\n\")\n",
    "    train_dataloader = DataLoader(train_dataset, batch_size=batch_size, persistent_workers=True, pin_memory=True, num_workers=NUM_WORKERS, generator=g,\n",
    "                              sampler=sampler, shuffle=False, drop_last=True) # shuffle false because of the sampler\n",
    "\n",
    "    val_dataloader = DataLoader(val_dataset, batch_size=batch_size, persistent_workers=True, pin_memory=True, num_workers=NUM_WORKERS, shuffle=False,\n",
    "                             drop_last=True)\n",
    "    \n",
    "    model = model_effnet.EfficientNet.from_pretrained('efficientnet-b7', in_channels=n_bands, num_classes=num_classes, dropout_rate=dropout_rate)\n",
    "    loss_fn = nn.CrossEntropyLoss()\n",
    "    optimizer = torch.optim.Adam(params=model.parameters(), lr=lr)\n",
    "    #lr_scheduler = StepLR(optimizer, step_size=step_size, gamma=gamma)\n",
    "    lr_scheduler = ExponentialLR(optimizer, gamma=gamma)\n",
    "\n",
    "    fold += 1\n",
    "    print(f\"\\n[INFO] Fold number: {fold}\")\n",
    "    print(f\"[INFO] Number of epochs: {epochs}\")\n",
    "    print(f\"[INFO] Batch_size: {batch_size}\")\n",
    "    print(f\"[INFO] Number of bands: {n_bands}\")\n",
    "    print(f\"[INFO] Dropout rate: {dropout_rate}\")\n",
    "    print(f\"[INFO] Gamma learning rate: {gamma}\")\n",
    "    print(f\"[INFO] Memory allocated: {torch.cuda.memory_allocated()} bytes\")\n",
    "    # 4. Train model with k fold dataloaders and track experiments\n",
    "    if fold == 1:\n",
    "        fold1_results = train(model=model, model_name=model_name, n_bands=n_bands, batch_size=batch_size,train_dataloader=train_dataloader, val_dataloader=val_dataloader, \n",
    "                        optimizer=optimizer, loss_fn=loss_fn, lr_scheduler=lr_scheduler, num_classes=num_classes, epochs=epochs, experiment_num=fold, device=device,\n",
    "                        writer=create_writer(experiment_name=experiment_name, model_name=model_name, extra=extra), early_stop_patience = patience)\n",
    "       \n",
    "    elif fold == 2:\n",
    "        fold2_results = train(model=model, model_name=model_name, n_bands=n_bands, batch_size=batch_size,train_dataloader=train_dataloader, val_dataloader=val_dataloader, \n",
    "                        optimizer=optimizer, loss_fn=loss_fn, lr_scheduler=lr_scheduler, num_classes=num_classes, epochs=epochs, experiment_num=fold, device=device,\n",
    "                        writer=create_writer(experiment_name=experiment_name, model_name=model_name, extra=extra), early_stop_patience = patience)\n",
    "    elif fold == 3:\n",
    "        fold3_results = train(model=model, model_name=model_name, n_bands=n_bands, batch_size=batch_size,train_dataloader=train_dataloader, val_dataloader=val_dataloader, \n",
    "                        optimizer=optimizer, loss_fn=loss_fn, lr_scheduler=lr_scheduler, num_classes=num_classes, epochs=epochs, experiment_num=fold, device=device,\n",
    "                        writer=create_writer(experiment_name=experiment_name, model_name=model_name, extra=extra), early_stop_patience = patience)\n",
    "    elif fold == 4:\n",
    "        fold4_results = train(model=model, model_name=model_name, n_bands=n_bands, batch_size=batch_size,train_dataloader=train_dataloader, val_dataloader=val_dataloader, \n",
    "                        optimizer=optimizer, loss_fn=loss_fn, lr_scheduler=lr_scheduler, num_classes=num_classes, epochs=epochs, experiment_num=fold, device=device,\n",
    "                        writer=create_writer(experiment_name=experiment_name, model_name=model_name, extra=extra), early_stop_patience = patience)\n",
    "    else:\n",
    "        fold5_results = train(model=model, model_name=model_name, n_bands=n_bands, batch_size=batch_size,train_dataloader=train_dataloader, val_dataloader=val_dataloader, \n",
    "                        optimizer=optimizer, loss_fn=loss_fn, lr_scheduler=lr_scheduler, num_classes=num_classes, epochs=epochs, experiment_num=fold, device=device,\n",
    "                        writer=create_writer(experiment_name=experiment_name, model_name=model_name, extra=extra), early_stop_patience = patience)\n",
    "    \n",
    "    del train_indices, val_indices, train_image_set, train_label_set, train_hash_id, train_species_set, val_image_set, val_label_set, val_hash_id, val_species_set,\n",
    "    train_dataset, val_dataset, sampler, train_dataloader, val_dataloader, model, loss_fn, optimizer, lr_scheduler\n",
    "\n",
    "    print(\"Deleting variables and emptying cache\")\n",
    "    gc.collect()\n",
    "    torch.cuda.empty_cache()\n",
    "    print(f\"Memory allocated: {torch.cuda.memory_allocated()} bytes\")\n",
    "    print(\"-\"*50 + \"\\n\")"
   ]
  },
  {
   "cell_type": "code",
   "execution_count": null,
   "id": "c0c36ebb",
   "metadata": {},
   "outputs": [],
   "source": [
    "# create test dataset\n",
    "test_dataset = data_loader.CustomDataset3Classes(\n",
    "    data = test_image_set,\n",
    "    labels = test_label_set,\n",
    "    class_names=class_names, \n",
    "    species = test_species_set,\n",
    "    kkl = test_kkl_set,\n",
    "    transform=transform\n",
    ")\n",
    "\n",
    "# create test dataloader\n",
    "test_dataloader = DataLoader(test_dataset,\n",
    "                             batch_size=batch_size,\n",
    "                             persistent_workers=True,\n",
    "                             pin_memory=True,\n",
    "                             num_workers=NUM_WORKERS,\n",
    "                             shuffle=False,\n",
    "                             drop_last=True)"
   ]
  },
  {
   "cell_type": "code",
   "execution_count": 60,
   "id": "67db5af2",
   "metadata": {},
   "outputs": [
    {
     "name": "stdout",
     "output_type": "stream",
     "text": [
      "[INFO] Created new effnet_b0 model.\n"
     ]
    },
    {
     "data": {
      "text/plain": [
       "<All keys matched successfully>"
      ]
     },
     "execution_count": 60,
     "metadata": {},
     "output_type": "execute_result"
    }
   ],
   "source": [
    "# Setup the best model filepath\n",
    "best_model_path = r\"C:\\Users\\lwfeckesim\\01_PyTorch\\wze-uav\\wze-uav-master\\effnet_b0\\01_18_epochs.pth\"\n",
    "\n",
    "# Instantiate a new instance of EffNetB0 (to load the saved state_dict() to)\n",
    "unfreeze=True\n",
    "best_model = models.create_effnetb0(output_shape=num_classes, unfreeze=unfreeze, dropout_rate=dropout_rate, device=device)\n",
    "\n",
    "# Load the saved best model state_dict()\n",
    "best_model.load_state_dict(torch.load(best_model_path))"
   ]
  },
  {
   "cell_type": "code",
   "execution_count": 61,
   "id": "6dfbc663",
   "metadata": {},
   "outputs": [],
   "source": [
    "def make_predictions(model: torch.nn.Module, \n",
    "                     test_dataloader: torch.utils.data.DataLoader,\n",
    "                     device: torch.device):\n",
    "    # 1. Make predictions with trained model\n",
    "    y_preds = []\n",
    "    y_labels = []\n",
    "    test_loss, test_precision, test_recall, test_f1_score, test_acc = 0, 0, 0, 0, 0\n",
    "    count = 0\n",
    "    model.eval()\n",
    "    with torch.inference_mode():\n",
    "        for X, y in tqdm(test_dataloader, desc=\"Making predictions\"):\n",
    "            # Send data and targets to target device\n",
    "            X, y = X.to(device), y.to(device)\n",
    "            # Do the forward pass\n",
    "            y_logit = model(X)\n",
    "            # Turn predictions from logits -> prediction probabilities -> predictions labels\n",
    "            y_pred = torch.softmax(y_logit, dim=1).argmax(dim=1)\n",
    "            # Put predictions on CPU for evaluation\n",
    "            y_preds.append(y_pred.cpu())\n",
    "            y_labels.append(y.cpu())\n",
    "            \n",
    "            #other metrics\n",
    "            test_acc += ((y_pred == y).sum().item()/len(y_pred))\n",
    "            y_pred_class = y_pred.detach().cpu().numpy() \n",
    "            y_class = y.detach().cpu().numpy()\n",
    "            labels = np.array([0])\n",
    "            test_precision += precision_score(y_class, y_pred_class, average='macro', zero_division=0, labels=[0,1,2])\n",
    "            test_recall += recall_score(y_class, y_pred_class, average='macro', zero_division=0, labels=[0,1,2])\n",
    "            #test_f1_score += f1_score(y_class, y_pred_class, average='macro', zero_division=1, labels=labels)\n",
    "            \n",
    "            #if count >= 1:\n",
    "            #    y_set = torch.cat((y_set, y))\n",
    "            #    count = count + 1\n",
    "            #else:\n",
    "            #    y_set = y\n",
    "            #    count = count + 1\n",
    "            \n",
    "    test_loss = test_loss / len(test_dataloader)\n",
    "    test_precision = test_precision / len(test_dataloader)\n",
    "    test_recall = test_recall / len(test_dataloader)\n",
    "    test_f1_score = test_f1_score / len(test_dataloader)\n",
    "    #test_kappa = test_kappa / len(dataloader)\n",
    "    test_acc = test_acc / len(test_dataloader)\n",
    "    # Concatenate list of predictions into a tensor\n",
    "    y_pred_tensor = torch.cat(y_preds)\n",
    "    y_labels_tensor = torch.cat(y_labels)\n",
    "    test_f1_score = f1_score(y_labels_tensor.detach().cpu().numpy(), y_pred_tensor.cpu().numpy(), average='macro', zero_division=1, labels=[0,1,2])\n",
    "    \n",
    "    # Print classification report\n",
    "    y_true = y_labels_tensor.detach().cpu().numpy()\n",
    "    report = classification_report(y_true, y_pred_tensor.cpu().numpy(), target_names=class_names)\n",
    "    print(report)\n",
    "    \n",
    "    return y_pred_tensor, y_labels_tensor, test_loss, test_recall, test_precision, test_f1_score, test_acc, y_logit, y_pred, y, y_preds"
   ]
  },
  {
   "cell_type": "code",
   "execution_count": 62,
   "id": "aab9e321",
   "metadata": {},
   "outputs": [
    {
     "data": {
      "application/vnd.jupyter.widget-view+json": {
       "model_id": "46b3144341ab41f3b234434aa09299e1",
       "version_major": 2,
       "version_minor": 0
      },
      "text/plain": [
       "Making predictions:   0%|          | 0/156 [00:00<?, ?it/s]"
      ]
     },
     "metadata": {},
     "output_type": "display_data"
    },
    {
     "name": "stdout",
     "output_type": "stream",
     "text": [
      "              precision    recall  f1-score   support\n",
      "\n",
      "     healthy       0.95      0.88      0.92      2228\n",
      "    stressed       0.32      0.56      0.41       226\n",
      "        dead       0.84      0.86      0.85        42\n",
      "\n",
      "    accuracy                           0.85      2496\n",
      "   macro avg       0.70      0.77      0.72      2496\n",
      "weighted avg       0.89      0.85      0.87      2496\n",
      "\n",
      "Test loss: 0.0\n",
      "Test precision: 0.4154684139459786\n",
      "Test recall: 0.41671078506014464\n",
      "Test F1score: 0.7247865216737815\n",
      "Test Accuracy: 0.8525641025641025\n",
      "Test Logits: tensor([[ 1.7014,  0.8877, -5.1889],\n",
      "        [ 2.3632,  0.8889, -6.1630],\n",
      "        [ 2.2219,  0.9962, -6.0906],\n",
      "        [-0.6744,  0.1306,  0.6790],\n",
      "        [ 0.9584,  1.0023, -4.1342],\n",
      "        [ 1.1653,  0.9413, -4.2456],\n",
      "        [ 1.9196,  1.0043, -5.6535],\n",
      "        [ 0.5722,  0.7214, -2.7888],\n",
      "        [ 2.0116,  1.1527, -6.1480],\n",
      "        [ 2.0599,  1.0727, -6.0320],\n",
      "        [ 2.1480,  0.9218, -5.8122],\n",
      "        [ 1.8820,  0.8687, -5.2790],\n",
      "        [ 1.5475,  1.0596, -5.1709],\n",
      "        [ 1.8884,  0.9385, -5.4567],\n",
      "        [ 1.7652,  1.0623, -5.5407],\n",
      "        [ 1.1063,  0.8732, -4.0481]], device='cuda:0')\n",
      "Test Predictions: tensor([0, 0, 0, 2, 1, 0, 0, 1, 0, 0, 0, 0, 0, 0, 0, 0], device='cuda:0')\n",
      "Test Labels: tensor([0, 0, 0, 0, 0, 0, 0, 0, 0, 0, 0, 0, 0, 0, 0, 0], device='cuda:0')\n"
     ]
    },
    {
     "data": {
      "image/png": "[encoded data removed]",
      "text/plain": [
       "<Figure size 720x504 with 1 Axes>"
      ]
     },
     "metadata": {
      "needs_background": "light"
     },
     "output_type": "display_data"
    }
   ],
   "source": [
    "# 2. Setup confusion matrix instance and compare predictions to targets\n",
    "#from wze_uav.analysis import *\n",
    "y_pred_tensor, y_labels_tensor, test_loss, test_recall, test_precision, test_f1_score, test_acc, y_logit, y_pred, y, y_preds = make_predictions(model=best_model,\n",
    "                                 test_dataloader=test_dataloader, \n",
    "                                 device=device)\n",
    "\n",
    "y_labels_tensor = y_labels_tensor.detach().cpu().numpy()\n",
    "y_pred_tensor = y_pred_tensor.detach().cpu().numpy()\n",
    "\n",
    "#confmat = ConfusionMatrix(num_classes=num_classes, task='multiclass')\n",
    "#confmat_tensor = confmat(preds=y_pred_tensor,\n",
    "#                         target=test_labels)\n",
    "labels = np.array([0,1,2])\n",
    "confmat = confusion_matrix(y_labels_tensor, y_pred_tensor, labels=labels)\n",
    "\n",
    "# 3. Plot the confusion matrix\n",
    "fig, ax = plot_confusion_matrix(\n",
    "    conf_mat=confmat, # matplotlib likes working with NumPy \n",
    "    class_names=class_names, # turn the row and column labels into class names\n",
    "    figsize=(10, 7)\n",
    ");\n",
    "\n",
    "print(f\"Test loss: {test_loss}\")\n",
    "print(f\"Test precision: {test_precision}\")\n",
    "print(f\"Test recall: {test_recall}\")\n",
    "print(f\"Test F1score: {test_f1_score}\")\n",
    "#print(f\"Test Kappa: {test_kappa}\")\n",
    "print(f\"Test Accuracy: {test_acc}\")\n",
    "print(f\"Test Logits: {y_logit}\")\n",
    "print(f\"Test Predictions: {y_pred}\")\n",
    "print(f\"Test Labels: {y}\")"
   ]
  },
  {
   "cell_type": "code",
   "execution_count": 48,
   "id": "8d4173b3",
   "metadata": {},
   "outputs": [
    {
     "data": {
      "text/plain": [
       "156"
      ]
     },
     "execution_count": 48,
     "metadata": {},
     "output_type": "execute_result"
    }
   ],
   "source": [
    "len(y_preds)"
   ]
  },
  {
   "cell_type": "code",
   "execution_count": 92,
   "id": "7588116f",
   "metadata": {},
   "outputs": [
    {
     "ename": "NameError",
     "evalue": "name 'y_set' is not defined",
     "output_type": "error",
     "traceback": [
      "\u001b[1;31m---------------------------------------------------------------------------\u001b[0m",
      "\u001b[1;31mNameError\u001b[0m                                 Traceback (most recent call last)",
      "Input \u001b[1;32mIn [92]\u001b[0m, in \u001b[0;36m<cell line: 1>\u001b[1;34m()\u001b[0m\n\u001b[1;32m----> 1\u001b[0m \u001b[43my_set\u001b[49m\u001b[38;5;241m.\u001b[39mcpu()\n",
      "\u001b[1;31mNameError\u001b[0m: name 'y_set' is not defined"
     ]
    }
   ],
   "source": [
    "y_set.cpu()"
   ]
  },
  {
   "cell_type": "code",
   "execution_count": 141,
   "id": "1c195b3e",
   "metadata": {},
   "outputs": [
    {
     "data": {
      "text/plain": [
       "tensor([1, 0, 1,  ..., 0, 0, 0])"
      ]
     },
     "execution_count": 141,
     "metadata": {},
     "output_type": "execute_result"
    }
   ],
   "source": [
    "test_dataset.labels"
   ]
  },
  {
   "cell_type": "code",
   "execution_count": null,
   "id": "975ec08c",
   "metadata": {},
   "outputs": [],
   "source": []
  },
  {
   "cell_type": "code",
   "execution_count": 139,
   "id": "6da05604",
   "metadata": {},
   "outputs": [
    {
     "data": {
      "application/vnd.jupyter.widget-view+json": {
       "model_id": "a223988f3a8b4b2eae8b8b3b3f7776de",
       "version_major": 2,
       "version_minor": 0
      },
      "text/plain": [
       "Making predictions:   0%|          | 0/156 [00:00<?, ?it/s]"
      ]
     },
     "metadata": {},
     "output_type": "display_data"
    },
    {
     "name": "stdout",
     "output_type": "stream",
     "text": [
      "              precision    recall  f1-score   support\n",
      "\n",
      "     healthy       0.94      0.90      0.92      2228\n",
      "    stressed       0.42      0.31      0.35       226\n",
      "        dead       0.19      0.83      0.32        42\n",
      "\n",
      "    accuracy                           0.85      2496\n",
      "   macro avg       0.52      0.68      0.53      2496\n",
      "weighted avg       0.88      0.85      0.86      2496\n",
      "\n"
     ]
    }
   ],
   "source": [
    "y_preds = []\n",
    "y_labels = []\n",
    "labels = np.array([0,1,2])\n",
    "test_loss, test_precision, test_recall, test_f1_score, test_acc = 0, 0, 0, 0, 0\n",
    "count = 0\n",
    "model.eval()\n",
    "with torch.inference_mode():\n",
    "    for X, y in tqdm(test_dataloader, desc=\"Making predictions\"):\n",
    "        # Send data and targets to target device\n",
    "        X, y = X.to(device), y.to(device)\n",
    "        # Do the forward pass\n",
    "        y_logit = model(X)\n",
    "        # Turn predictions from logits -> prediction probabilities -> predictions labels\n",
    "        y_pred = torch.softmax(y_logit, dim=1).argmax(dim=1)\n",
    "        # Put predictions on CPU for evaluation\n",
    "        y_preds.append(y_pred.cpu())\n",
    "        y_labels.append(y.cpu())\n",
    "        \n",
    "        #other metrics\n",
    "        test_acc += ((y_pred == y).sum().item()/len(y_pred))\n",
    "        y_pred_class = y_pred.detach().cpu().numpy() \n",
    "        y_class = y.detach().cpu().numpy()\n",
    "        test_precision += precision_score(y_class, y_pred_class, average='macro', zero_division=1, labels=labels)\n",
    "        test_recall += recall_score(y_class, y_pred_class, average='macro', zero_division=1, labels=labels)\n",
    "        #test_f1_score += f1_score(y_class, y_pred_class, average='macro', zero_division=1, labels=labels)\n",
    "        \n",
    "        #if count >= 1:\n",
    "        #    y_set = torch.cat((y_set, y))\n",
    "        #    count = count + 1\n",
    "        #else:\n",
    "        #    y_set = y\n",
    "        #    count = count + 1\n",
    "        \n",
    "test_loss = test_loss / len(test_dataloader)\n",
    "test_precision = test_precision / len(test_dataloader)\n",
    "test_recall = test_recall / len(test_dataloader)\n",
    "#test_f1_score = test_f1_score / len(test_dataloader)\n",
    "#test_kappa = test_kappa / len(dataloader)\n",
    "test_acc = test_acc / len(test_dataloader)\n",
    "# Concatenate list of predictions into a tensor\n",
    "y_pred_tensor = torch.cat(y_preds)\n",
    "test_f1_score = f1_score(y_set.detach().cpu().numpy(), y_pred_tensor.cpu().numpy(), average='macro', zero_division=0, labels=[0,1,2])\n",
    "\n",
    "# Print classification report\n",
    "y_true = y_set.detach().cpu().numpy()\n",
    "report = classification_report(y_true, y_pred_tensor.cpu().numpy(), target_names=class_names)\n",
    "print(report)"
   ]
  },
  {
   "cell_type": "code",
   "execution_count": 140,
   "id": "6ae97fab",
   "metadata": {},
   "outputs": [
    {
     "data": {
      "text/plain": [
       "0.528680154128826"
      ]
     },
     "execution_count": 140,
     "metadata": {},
     "output_type": "execute_result"
    }
   ],
   "source": [
    "test_f1_score"
   ]
  },
  {
   "cell_type": "code",
   "execution_count": 122,
   "id": "7ebafd9b",
   "metadata": {},
   "outputs": [
    {
     "data": {
      "text/plain": [
       "array([ True,  True,  True, False,  True, False,  True, False,  True,\n",
       "        True,  True,  True,  True,  True,  True,  True])"
      ]
     },
     "execution_count": 122,
     "metadata": {},
     "output_type": "execute_result"
    }
   ],
   "source": [
    "make = (y_class == y_pred_class)\n",
    "make"
   ]
  },
  {
   "cell_type": "code",
   "execution_count": 99,
   "id": "4f8aa759",
   "metadata": {},
   "outputs": [
    {
     "data": {
      "text/plain": [
       "tensor([0, 0, 0, 2, 0, 1, 0, 1, 0, 0, 0, 0, 0, 0, 0, 0], device='cuda:0')"
      ]
     },
     "execution_count": 99,
     "metadata": {},
     "output_type": "execute_result"
    }
   ],
   "source": [
    "torch.softmax(y_logit, dim=1).argmax(dim=1)"
   ]
  },
  {
   "cell_type": "code",
   "execution_count": 101,
   "id": "f90a54b2",
   "metadata": {},
   "outputs": [
    {
     "data": {
      "text/plain": [
       "tensor([0, 0, 0, 0, 0, 0, 0, 0, 0, 0, 0, 0, 0, 0, 0, 0], device='cuda:0')"
      ]
     },
     "execution_count": 101,
     "metadata": {},
     "output_type": "execute_result"
    }
   ],
   "source": [
    "y"
   ]
  },
  {
   "cell_type": "code",
   "execution_count": 112,
   "id": "5a806154",
   "metadata": {},
   "outputs": [],
   "source": [
    "test = (y_pred == y).sum().item()/16"
   ]
  },
  {
   "cell_type": "code",
   "execution_count": 113,
   "id": "1da35c56",
   "metadata": {},
   "outputs": [
    {
     "data": {
      "text/plain": [
       "0.8125"
      ]
     },
     "execution_count": 113,
     "metadata": {},
     "output_type": "execute_result"
    }
   ],
   "source": [
    "test"
   ]
  },
  {
   "cell_type": "code",
   "execution_count": 114,
   "id": "b1eb246e",
   "metadata": {},
   "outputs": [],
   "source": [
    " y_pred_class = y_pred.detach().cpu().numpy() "
   ]
  },
  {
   "cell_type": "code",
   "execution_count": 115,
   "id": "602e096f",
   "metadata": {},
   "outputs": [
    {
     "data": {
      "text/plain": [
       "array([0, 0, 0, 2, 0, 1, 0, 1, 0, 0, 0, 0, 0, 0, 0, 0], dtype=int64)"
      ]
     },
     "execution_count": 115,
     "metadata": {},
     "output_type": "execute_result"
    }
   ],
   "source": [
    "y_pred_class"
   ]
  },
  {
   "cell_type": "code",
   "execution_count": null,
   "id": "eaf1af09",
   "metadata": {},
   "outputs": [],
   "source": []
  }
 ],
 "metadata": {
  "kernelspec": {
   "display_name": "Python 3 (ipykernel)",
   "language": "python",
   "name": "python3"
  },
  "language_info": {
   "codemirror_mode": {
    "name": "ipython",
    "version": 3
   },
   "file_extension": ".py",
   "mimetype": "text/x-python",
   "name": "python",
   "nbconvert_exporter": "python",
   "pygments_lexer": "ipython3",
   "version": "3.9.16"
  }
 },
 "nbformat": 4,
 "nbformat_minor": 5
}
