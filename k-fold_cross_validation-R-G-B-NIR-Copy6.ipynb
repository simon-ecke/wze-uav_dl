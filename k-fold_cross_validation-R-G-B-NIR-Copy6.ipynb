{
 "cells": [
  {
   "cell_type": "markdown",
   "id": "c1acdaa3",
   "metadata": {},
   "source": [
    "# WZE-UAV Image Classification using Deep Learning"
   ]
  },
  {
   "cell_type": "code",
   "execution_count": 1,
   "id": "2159aac5",
   "metadata": {},
   "outputs": [],
   "source": [
    "import os\n",
    "import gc\n",
    "import glob\n",
    "import numpy as np\n",
    "from pathlib import Path\n",
    "from tqdm.auto import tqdm\n",
    "from sklearn.metrics import confusion_matrix, classification_report\n",
    "from sklearn.model_selection import KFold"
   ]
  },
  {
   "cell_type": "code",
   "execution_count": 2,
   "id": "0026f7a9",
   "metadata": {},
   "outputs": [],
   "source": [
    "import torch\n",
    "import torchvision.transforms as T\n",
    "import torchvision\n",
    "from torch import nn\n",
    "from torch.utils.data import DataLoader\n",
    "from torchvision import datasets, transforms\n",
    "from torch.utils.data import Dataset\n",
    "import torch.optim as optim\n",
    "from torch.optim.lr_scheduler import ExponentialLR\n",
    "from mlxtend.plotting import plot_confusion_matrix"
   ]
  },
  {
   "cell_type": "code",
   "execution_count": 3,
   "id": "b160d7b4",
   "metadata": {},
   "outputs": [],
   "source": [
    "import wze_uav.data_loader as data_loader\n",
    "import wze_uav.models as models\n",
    "from wze_uav.engine_Copy1 import *\n",
    "from wze_uav.utils2 import *\n",
    "from wze_uav.log_writer import create_writer\n",
    "from wze_uav.datasplit import *\n",
    "from efficientnet import model_effnet #for custom effnet with n_channels input\n",
    "import wandb"
   ]
  },
  {
   "cell_type": "markdown",
   "id": "2bd4fb2f",
   "metadata": {},
   "source": [
    "#### Get PyTorch version"
   ]
  },
  {
   "cell_type": "code",
   "execution_count": 4,
   "id": "c10886b1",
   "metadata": {},
   "outputs": [
    {
     "name": "stdout",
     "output_type": "stream",
     "text": [
      "torch version: 1.13.1+cu116\n",
      "torchvision version: 0.14.1+cu116\n"
     ]
    }
   ],
   "source": [
    "print(f\"torch version: {torch.__version__}\")\n",
    "print(f\"torchvision version: {torchvision.__version__}\")"
   ]
  },
  {
   "cell_type": "markdown",
   "id": "aa6a83cf",
   "metadata": {},
   "source": [
    "#### Preparing device agnostic code "
   ]
  },
  {
   "cell_type": "code",
   "execution_count": 5,
   "id": "13d5de88",
   "metadata": {},
   "outputs": [
    {
     "name": "stdout",
     "output_type": "stream",
     "text": [
      "cuda\n",
      "Index of current divice: 0\n",
      "Number of GPUs available: 1\n",
      "GPU Model: Quadro RTX 8000\n"
     ]
    }
   ],
   "source": [
    "# ensure device agnostic code\n",
    "device = 'cuda' if torch.cuda.is_available() else 'cpu'\n",
    "print(device)\n",
    "\n",
    "# get index of currently selected device\n",
    "print(f\"Index of current divice: {torch.cuda.current_device()}\")\n",
    "# get number of GPUs available\n",
    "print(f\"Number of GPUs available: {torch.cuda.device_count()}\")\n",
    "# get the name of the device\n",
    "print(f\"GPU Model: {torch.cuda.get_device_name(0)}\")"
   ]
  },
  {
   "cell_type": "markdown",
   "id": "a26a6a34",
   "metadata": {},
   "source": [
    "#### Ensure reproducibility "
   ]
  },
  {
   "cell_type": "code",
   "execution_count": 6,
   "id": "dd4656a7",
   "metadata": {},
   "outputs": [],
   "source": [
    "# for more information, see also: https://pytorch.org/docs/stable/notes/randomness.html\n",
    "\n",
    "# Set seeds\n",
    "def set_seeds(seed: int=42):\n",
    "    \"\"\"Sets random sets for torch operations.\n",
    "\n",
    "    Args:\n",
    "        seed (int, optional): Random seed to set. Defaults to 42.\n",
    "    \"\"\"\n",
    "    # Set the seed for general torch operations\n",
    "    torch.manual_seed(seed)\n",
    "    # Set the seed for CUDA torch operations (ones that happen on the GPU)\n",
    "    torch.cuda.manual_seed(seed)\n",
    "    # seed for numpy\n",
    "    np.random.seed(seed)\n",
    "\n",
    "set_seeds(42) \n",
    "\n",
    "# Set to true -> might speed up the process but should be set to False if reproducible results are desired\n",
    "torch.backends.cudnn.benchmark = False\n"
   ]
  },
  {
   "cell_type": "markdown",
   "id": "8be33671",
   "metadata": {},
   "source": [
    "#### Define file directory"
   ]
  },
  {
   "cell_type": "code",
   "execution_count": 7,
   "id": "30645f36",
   "metadata": {},
   "outputs": [],
   "source": [
    "#####################################################################################\n",
    "# 3 channel input (r-g-b)\n",
    "#data_path = r\"D:\\Drohnendaten\\10_WZE-UAV\\Auswertung_findatree\\Datasplit\\ROI\\rgb\"\n",
    "\n",
    "# 4 channel input (r-g-b-nir)\n",
    "data_path = r\"D:\\Drohnendaten\\10_WZE-UAV\\Auswertung_findatree\\Datasplit\\ROI\\rgb-nir\"\n",
    "\n",
    "# 5 channel input (r-g-b-re-nir)\n",
    "#data_path = r\"D:\\Drohnendaten\\10_WZE-UAV\\Auswertung_findatree\\Datasplit\\ROI\\rgb-re-nir\"\n",
    "#####################################################################################"
   ]
  },
  {
   "cell_type": "markdown",
   "id": "4560ce64",
   "metadata": {},
   "source": [
    "#### Get all file paths"
   ]
  },
  {
   "cell_type": "code",
   "execution_count": 8,
   "id": "aa072e4c",
   "metadata": {},
   "outputs": [],
   "source": [
    "fn_list = os.listdir(data_path)\n",
    "path_list = []\n",
    "path_list_2020 = []\n",
    "path_list_2021 = []\n",
    "path_list_2022 = []\n",
    "# Iterate over all datafiles\n",
    "for year in fn_list:\n",
    "    year_dir = f'{data_path}\\\\{year}'\n",
    "    for filename in os.listdir(year_dir):\n",
    "        path = f'{year_dir}\\\\{filename}'\n",
    "        path_list.append(path)\n",
    "        if year == '2020':\n",
    "            path == f'{year_dir}\\\\{filename}'\n",
    "            path_list_2020.append(path)\n",
    "        elif year == '2021':\n",
    "            path == f'{year_dir}\\\\{filename}'\n",
    "            path_list_2021.append(path)\n",
    "        else:\n",
    "            path == f'{year_dir}\\\\{filename}'\n",
    "            path_list_2022.append(path)"
   ]
  },
  {
   "cell_type": "code",
   "execution_count": 9,
   "id": "29a56ba9",
   "metadata": {},
   "outputs": [
    {
     "data": {
      "text/plain": [
       "['D:\\\\Drohnendaten\\\\10_WZE-UAV\\\\Auswertung_findatree\\\\Datasplit\\\\ROI\\\\rgb-nir\\\\2020\\\\tnr10527_rois.hdf5',\n",
       " 'D:\\\\Drohnendaten\\\\10_WZE-UAV\\\\Auswertung_findatree\\\\Datasplit\\\\ROI\\\\rgb-nir\\\\2020\\\\tnr10533_rois.hdf5',\n",
       " 'D:\\\\Drohnendaten\\\\10_WZE-UAV\\\\Auswertung_findatree\\\\Datasplit\\\\ROI\\\\rgb-nir\\\\2020\\\\tnr10545_rois.hdf5',\n",
       " 'D:\\\\Drohnendaten\\\\10_WZE-UAV\\\\Auswertung_findatree\\\\Datasplit\\\\ROI\\\\rgb-nir\\\\2020\\\\tnr10547_rois.hdf5',\n",
       " 'D:\\\\Drohnendaten\\\\10_WZE-UAV\\\\Auswertung_findatree\\\\Datasplit\\\\ROI\\\\rgb-nir\\\\2020\\\\tnr10912_rois.hdf5',\n",
       " 'D:\\\\Drohnendaten\\\\10_WZE-UAV\\\\Auswertung_findatree\\\\Datasplit\\\\ROI\\\\rgb-nir\\\\2020\\\\tnr11032_rois.hdf5',\n",
       " 'D:\\\\Drohnendaten\\\\10_WZE-UAV\\\\Auswertung_findatree\\\\Datasplit\\\\ROI\\\\rgb-nir\\\\2020\\\\tnr11040_rois.hdf5',\n",
       " 'D:\\\\Drohnendaten\\\\10_WZE-UAV\\\\Auswertung_findatree\\\\Datasplit\\\\ROI\\\\rgb-nir\\\\2020\\\\tnr11044_rois.hdf5',\n",
       " 'D:\\\\Drohnendaten\\\\10_WZE-UAV\\\\Auswertung_findatree\\\\Datasplit\\\\ROI\\\\rgb-nir\\\\2020\\\\tnr11048_rois.hdf5',\n",
       " 'D:\\\\Drohnendaten\\\\10_WZE-UAV\\\\Auswertung_findatree\\\\Datasplit\\\\ROI\\\\rgb-nir\\\\2020\\\\tnr11052_rois.hdf5',\n",
       " 'D:\\\\Drohnendaten\\\\10_WZE-UAV\\\\Auswertung_findatree\\\\Datasplit\\\\ROI\\\\rgb-nir\\\\2020\\\\tnr11056_rois.hdf5',\n",
       " 'D:\\\\Drohnendaten\\\\10_WZE-UAV\\\\Auswertung_findatree\\\\Datasplit\\\\ROI\\\\rgb-nir\\\\2020\\\\tnr11078_rois.hdf5',\n",
       " 'D:\\\\Drohnendaten\\\\10_WZE-UAV\\\\Auswertung_findatree\\\\Datasplit\\\\ROI\\\\rgb-nir\\\\2020\\\\tnr11080_rois.hdf5',\n",
       " 'D:\\\\Drohnendaten\\\\10_WZE-UAV\\\\Auswertung_findatree\\\\Datasplit\\\\ROI\\\\rgb-nir\\\\2020\\\\tnr11090_rois.hdf5',\n",
       " 'D:\\\\Drohnendaten\\\\10_WZE-UAV\\\\Auswertung_findatree\\\\Datasplit\\\\ROI\\\\rgb-nir\\\\2020\\\\tnr11092_rois.hdf5',\n",
       " 'D:\\\\Drohnendaten\\\\10_WZE-UAV\\\\Auswertung_findatree\\\\Datasplit\\\\ROI\\\\rgb-nir\\\\2020\\\\tnr11179_rois.hdf5',\n",
       " 'D:\\\\Drohnendaten\\\\10_WZE-UAV\\\\Auswertung_findatree\\\\Datasplit\\\\ROI\\\\rgb-nir\\\\2020\\\\tnr11189_rois.hdf5',\n",
       " 'D:\\\\Drohnendaten\\\\10_WZE-UAV\\\\Auswertung_findatree\\\\Datasplit\\\\ROI\\\\rgb-nir\\\\2020\\\\tnr11325_rois.hdf5',\n",
       " 'D:\\\\Drohnendaten\\\\10_WZE-UAV\\\\Auswertung_findatree\\\\Datasplit\\\\ROI\\\\rgb-nir\\\\2020\\\\tnr11327_rois.hdf5',\n",
       " 'D:\\\\Drohnendaten\\\\10_WZE-UAV\\\\Auswertung_findatree\\\\Datasplit\\\\ROI\\\\rgb-nir\\\\2020\\\\tnr11453_rois.hdf5',\n",
       " 'D:\\\\Drohnendaten\\\\10_WZE-UAV\\\\Auswertung_findatree\\\\Datasplit\\\\ROI\\\\rgb-nir\\\\2020\\\\tnr11459_rois.hdf5',\n",
       " 'D:\\\\Drohnendaten\\\\10_WZE-UAV\\\\Auswertung_findatree\\\\Datasplit\\\\ROI\\\\rgb-nir\\\\2020\\\\tnr11576_rois.hdf5',\n",
       " 'D:\\\\Drohnendaten\\\\10_WZE-UAV\\\\Auswertung_findatree\\\\Datasplit\\\\ROI\\\\rgb-nir\\\\2020\\\\tnr11581_rois.hdf5',\n",
       " 'D:\\\\Drohnendaten\\\\10_WZE-UAV\\\\Auswertung_findatree\\\\Datasplit\\\\ROI\\\\rgb-nir\\\\2020\\\\tnr11597_rois.hdf5',\n",
       " 'D:\\\\Drohnendaten\\\\10_WZE-UAV\\\\Auswertung_findatree\\\\Datasplit\\\\ROI\\\\rgb-nir\\\\2020\\\\tnr11601_rois.hdf5',\n",
       " 'D:\\\\Drohnendaten\\\\10_WZE-UAV\\\\Auswertung_findatree\\\\Datasplit\\\\ROI\\\\rgb-nir\\\\2020\\\\tnr11622_rois.hdf5',\n",
       " 'D:\\\\Drohnendaten\\\\10_WZE-UAV\\\\Auswertung_findatree\\\\Datasplit\\\\ROI\\\\rgb-nir\\\\2020\\\\tnr11626_rois.hdf5',\n",
       " 'D:\\\\Drohnendaten\\\\10_WZE-UAV\\\\Auswertung_findatree\\\\Datasplit\\\\ROI\\\\rgb-nir\\\\2020\\\\tnr11638_rois.hdf5',\n",
       " 'D:\\\\Drohnendaten\\\\10_WZE-UAV\\\\Auswertung_findatree\\\\Datasplit\\\\ROI\\\\rgb-nir\\\\2020\\\\tnr11640_rois.hdf5',\n",
       " 'D:\\\\Drohnendaten\\\\10_WZE-UAV\\\\Auswertung_findatree\\\\Datasplit\\\\ROI\\\\rgb-nir\\\\2020\\\\tnr11727_rois.hdf5',\n",
       " 'D:\\\\Drohnendaten\\\\10_WZE-UAV\\\\Auswertung_findatree\\\\Datasplit\\\\ROI\\\\rgb-nir\\\\2020\\\\tnr11733_rois.hdf5',\n",
       " 'D:\\\\Drohnendaten\\\\10_WZE-UAV\\\\Auswertung_findatree\\\\Datasplit\\\\ROI\\\\rgb-nir\\\\2020\\\\tnr11866_rois.hdf5',\n",
       " 'D:\\\\Drohnendaten\\\\10_WZE-UAV\\\\Auswertung_findatree\\\\Datasplit\\\\ROI\\\\rgb-nir\\\\2020\\\\tnr11874_rois.hdf5',\n",
       " 'D:\\\\Drohnendaten\\\\10_WZE-UAV\\\\Auswertung_findatree\\\\Datasplit\\\\ROI\\\\rgb-nir\\\\2020\\\\tnr11878_rois.hdf5',\n",
       " 'D:\\\\Drohnendaten\\\\10_WZE-UAV\\\\Auswertung_findatree\\\\Datasplit\\\\ROI\\\\rgb-nir\\\\2020\\\\tnr11_rois.hdf5',\n",
       " 'D:\\\\Drohnendaten\\\\10_WZE-UAV\\\\Auswertung_findatree\\\\Datasplit\\\\ROI\\\\rgb-nir\\\\2020\\\\tnr12013_rois.hdf5',\n",
       " 'D:\\\\Drohnendaten\\\\10_WZE-UAV\\\\Auswertung_findatree\\\\Datasplit\\\\ROI\\\\rgb-nir\\\\2020\\\\tnr12019_rois.hdf5',\n",
       " 'D:\\\\Drohnendaten\\\\10_WZE-UAV\\\\Auswertung_findatree\\\\Datasplit\\\\ROI\\\\rgb-nir\\\\2020\\\\tnr12120_rois.hdf5',\n",
       " 'D:\\\\Drohnendaten\\\\10_WZE-UAV\\\\Auswertung_findatree\\\\Datasplit\\\\ROI\\\\rgb-nir\\\\2020\\\\tnr12124_rois.hdf5',\n",
       " 'D:\\\\Drohnendaten\\\\10_WZE-UAV\\\\Auswertung_findatree\\\\Datasplit\\\\ROI\\\\rgb-nir\\\\2020\\\\tnr12153_rois.hdf5',\n",
       " 'D:\\\\Drohnendaten\\\\10_WZE-UAV\\\\Auswertung_findatree\\\\Datasplit\\\\ROI\\\\rgb-nir\\\\2020\\\\tnr12161_rois.hdf5',\n",
       " 'D:\\\\Drohnendaten\\\\10_WZE-UAV\\\\Auswertung_findatree\\\\Datasplit\\\\ROI\\\\rgb-nir\\\\2020\\\\tnr12169_rois.hdf5',\n",
       " 'D:\\\\Drohnendaten\\\\10_WZE-UAV\\\\Auswertung_findatree\\\\Datasplit\\\\ROI\\\\rgb-nir\\\\2020\\\\tnr12179_rois.hdf5',\n",
       " 'D:\\\\Drohnendaten\\\\10_WZE-UAV\\\\Auswertung_findatree\\\\Datasplit\\\\ROI\\\\rgb-nir\\\\2020\\\\tnr12285_rois.hdf5',\n",
       " 'D:\\\\Drohnendaten\\\\10_WZE-UAV\\\\Auswertung_findatree\\\\Datasplit\\\\ROI\\\\rgb-nir\\\\2020\\\\tnr12426_rois.hdf5',\n",
       " 'D:\\\\Drohnendaten\\\\10_WZE-UAV\\\\Auswertung_findatree\\\\Datasplit\\\\ROI\\\\rgb-nir\\\\2020\\\\tnr12549_rois.hdf5',\n",
       " 'D:\\\\Drohnendaten\\\\10_WZE-UAV\\\\Auswertung_findatree\\\\Datasplit\\\\ROI\\\\rgb-nir\\\\2020\\\\tnr12553_rois.hdf5',\n",
       " 'D:\\\\Drohnendaten\\\\10_WZE-UAV\\\\Auswertung_findatree\\\\Datasplit\\\\ROI\\\\rgb-nir\\\\2020\\\\tnr12557_rois.hdf5',\n",
       " 'D:\\\\Drohnendaten\\\\10_WZE-UAV\\\\Auswertung_findatree\\\\Datasplit\\\\ROI\\\\rgb-nir\\\\2020\\\\tnr12673_rois.hdf5',\n",
       " 'D:\\\\Drohnendaten\\\\10_WZE-UAV\\\\Auswertung_findatree\\\\Datasplit\\\\ROI\\\\rgb-nir\\\\2020\\\\tnr12678_rois.hdf5',\n",
       " 'D:\\\\Drohnendaten\\\\10_WZE-UAV\\\\Auswertung_findatree\\\\Datasplit\\\\ROI\\\\rgb-nir\\\\2020\\\\tnr12694_rois.hdf5',\n",
       " 'D:\\\\Drohnendaten\\\\10_WZE-UAV\\\\Auswertung_findatree\\\\Datasplit\\\\ROI\\\\rgb-nir\\\\2020\\\\tnr12698_rois.hdf5',\n",
       " 'D:\\\\Drohnendaten\\\\10_WZE-UAV\\\\Auswertung_findatree\\\\Datasplit\\\\ROI\\\\rgb-nir\\\\2020\\\\tnr12702_rois.hdf5',\n",
       " 'D:\\\\Drohnendaten\\\\10_WZE-UAV\\\\Auswertung_findatree\\\\Datasplit\\\\ROI\\\\rgb-nir\\\\2020\\\\tnr12713_rois.hdf5',\n",
       " 'D:\\\\Drohnendaten\\\\10_WZE-UAV\\\\Auswertung_findatree\\\\Datasplit\\\\ROI\\\\rgb-nir\\\\2020\\\\tnr12715_rois.hdf5',\n",
       " 'D:\\\\Drohnendaten\\\\10_WZE-UAV\\\\Auswertung_findatree\\\\Datasplit\\\\ROI\\\\rgb-nir\\\\2020\\\\tnr12717_rois.hdf5',\n",
       " 'D:\\\\Drohnendaten\\\\10_WZE-UAV\\\\Auswertung_findatree\\\\Datasplit\\\\ROI\\\\rgb-nir\\\\2020\\\\tnr12719_rois.hdf5',\n",
       " 'D:\\\\Drohnendaten\\\\10_WZE-UAV\\\\Auswertung_findatree\\\\Datasplit\\\\ROI\\\\rgb-nir\\\\2020\\\\tnr12950_rois.hdf5',\n",
       " 'D:\\\\Drohnendaten\\\\10_WZE-UAV\\\\Auswertung_findatree\\\\Datasplit\\\\ROI\\\\rgb-nir\\\\2020\\\\tnr12960_rois.hdf5',\n",
       " 'D:\\\\Drohnendaten\\\\10_WZE-UAV\\\\Auswertung_findatree\\\\Datasplit\\\\ROI\\\\rgb-nir\\\\2020\\\\tnr13212_rois.hdf5',\n",
       " 'D:\\\\Drohnendaten\\\\10_WZE-UAV\\\\Auswertung_findatree\\\\Datasplit\\\\ROI\\\\rgb-nir\\\\2020\\\\tnr13225_rois.hdf5',\n",
       " 'D:\\\\Drohnendaten\\\\10_WZE-UAV\\\\Auswertung_findatree\\\\Datasplit\\\\ROI\\\\rgb-nir\\\\2020\\\\tnr13233_rois.hdf5',\n",
       " 'D:\\\\Drohnendaten\\\\10_WZE-UAV\\\\Auswertung_findatree\\\\Datasplit\\\\ROI\\\\rgb-nir\\\\2020\\\\tnr13259_rois.hdf5',\n",
       " 'D:\\\\Drohnendaten\\\\10_WZE-UAV\\\\Auswertung_findatree\\\\Datasplit\\\\ROI\\\\rgb-nir\\\\2020\\\\tnr13508_rois.hdf5',\n",
       " 'D:\\\\Drohnendaten\\\\10_WZE-UAV\\\\Auswertung_findatree\\\\Datasplit\\\\ROI\\\\rgb-nir\\\\2020\\\\tnr13758_rois.hdf5',\n",
       " 'D:\\\\Drohnendaten\\\\10_WZE-UAV\\\\Auswertung_findatree\\\\Datasplit\\\\ROI\\\\rgb-nir\\\\2020\\\\tnr13766_rois.hdf5',\n",
       " 'D:\\\\Drohnendaten\\\\10_WZE-UAV\\\\Auswertung_findatree\\\\Datasplit\\\\ROI\\\\rgb-nir\\\\2020\\\\tnr13779_rois.hdf5',\n",
       " 'D:\\\\Drohnendaten\\\\10_WZE-UAV\\\\Auswertung_findatree\\\\Datasplit\\\\ROI\\\\rgb-nir\\\\2020\\\\tnr13819_rois.hdf5',\n",
       " 'D:\\\\Drohnendaten\\\\10_WZE-UAV\\\\Auswertung_findatree\\\\Datasplit\\\\ROI\\\\rgb-nir\\\\2020\\\\tnr1381_rois.hdf5',\n",
       " 'D:\\\\Drohnendaten\\\\10_WZE-UAV\\\\Auswertung_findatree\\\\Datasplit\\\\ROI\\\\rgb-nir\\\\2020\\\\tnr13825_rois.hdf5',\n",
       " 'D:\\\\Drohnendaten\\\\10_WZE-UAV\\\\Auswertung_findatree\\\\Datasplit\\\\ROI\\\\rgb-nir\\\\2020\\\\tnr13898_rois.hdf5',\n",
       " 'D:\\\\Drohnendaten\\\\10_WZE-UAV\\\\Auswertung_findatree\\\\Datasplit\\\\ROI\\\\rgb-nir\\\\2020\\\\tnr13922_rois.hdf5',\n",
       " 'D:\\\\Drohnendaten\\\\10_WZE-UAV\\\\Auswertung_findatree\\\\Datasplit\\\\ROI\\\\rgb-nir\\\\2020\\\\tnr14156_rois.hdf5',\n",
       " 'D:\\\\Drohnendaten\\\\10_WZE-UAV\\\\Auswertung_findatree\\\\Datasplit\\\\ROI\\\\rgb-nir\\\\2020\\\\tnr14293_rois.hdf5',\n",
       " 'D:\\\\Drohnendaten\\\\10_WZE-UAV\\\\Auswertung_findatree\\\\Datasplit\\\\ROI\\\\rgb-nir\\\\2020\\\\tnr14327_rois.hdf5',\n",
       " 'D:\\\\Drohnendaten\\\\10_WZE-UAV\\\\Auswertung_findatree\\\\Datasplit\\\\ROI\\\\rgb-nir\\\\2020\\\\tnr14666_rois.hdf5',\n",
       " 'D:\\\\Drohnendaten\\\\10_WZE-UAV\\\\Auswertung_findatree\\\\Datasplit\\\\ROI\\\\rgb-nir\\\\2020\\\\tnr14723_rois.hdf5',\n",
       " 'D:\\\\Drohnendaten\\\\10_WZE-UAV\\\\Auswertung_findatree\\\\Datasplit\\\\ROI\\\\rgb-nir\\\\2020\\\\tnr14727_rois.hdf5',\n",
       " 'D:\\\\Drohnendaten\\\\10_WZE-UAV\\\\Auswertung_findatree\\\\Datasplit\\\\ROI\\\\rgb-nir\\\\2020\\\\tnr14732_rois.hdf5',\n",
       " 'D:\\\\Drohnendaten\\\\10_WZE-UAV\\\\Auswertung_findatree\\\\Datasplit\\\\ROI\\\\rgb-nir\\\\2020\\\\tnr14781_rois.hdf5',\n",
       " 'D:\\\\Drohnendaten\\\\10_WZE-UAV\\\\Auswertung_findatree\\\\Datasplit\\\\ROI\\\\rgb-nir\\\\2020\\\\tnr14877_rois.hdf5',\n",
       " 'D:\\\\Drohnendaten\\\\10_WZE-UAV\\\\Auswertung_findatree\\\\Datasplit\\\\ROI\\\\rgb-nir\\\\2020\\\\tnr14879_rois.hdf5',\n",
       " 'D:\\\\Drohnendaten\\\\10_WZE-UAV\\\\Auswertung_findatree\\\\Datasplit\\\\ROI\\\\rgb-nir\\\\2020\\\\tnr14887_rois.hdf5',\n",
       " 'D:\\\\Drohnendaten\\\\10_WZE-UAV\\\\Auswertung_findatree\\\\Datasplit\\\\ROI\\\\rgb-nir\\\\2020\\\\tnr15016_rois.hdf5',\n",
       " 'D:\\\\Drohnendaten\\\\10_WZE-UAV\\\\Auswertung_findatree\\\\Datasplit\\\\ROI\\\\rgb-nir\\\\2020\\\\tnr15020_rois.hdf5',\n",
       " 'D:\\\\Drohnendaten\\\\10_WZE-UAV\\\\Auswertung_findatree\\\\Datasplit\\\\ROI\\\\rgb-nir\\\\2020\\\\tnr15027_rois.hdf5',\n",
       " 'D:\\\\Drohnendaten\\\\10_WZE-UAV\\\\Auswertung_findatree\\\\Datasplit\\\\ROI\\\\rgb-nir\\\\2020\\\\tnr15031_rois.hdf5',\n",
       " 'D:\\\\Drohnendaten\\\\10_WZE-UAV\\\\Auswertung_findatree\\\\Datasplit\\\\ROI\\\\rgb-nir\\\\2020\\\\tnr15035_rois.hdf5',\n",
       " 'D:\\\\Drohnendaten\\\\10_WZE-UAV\\\\Auswertung_findatree\\\\Datasplit\\\\ROI\\\\rgb-nir\\\\2020\\\\tnr15039_rois.hdf5',\n",
       " 'D:\\\\Drohnendaten\\\\10_WZE-UAV\\\\Auswertung_findatree\\\\Datasplit\\\\ROI\\\\rgb-nir\\\\2020\\\\tnr15043_rois.hdf5',\n",
       " 'D:\\\\Drohnendaten\\\\10_WZE-UAV\\\\Auswertung_findatree\\\\Datasplit\\\\ROI\\\\rgb-nir\\\\2020\\\\tnr15046_rois.hdf5',\n",
       " 'D:\\\\Drohnendaten\\\\10_WZE-UAV\\\\Auswertung_findatree\\\\Datasplit\\\\ROI\\\\rgb-nir\\\\2020\\\\tnr15050_rois.hdf5',\n",
       " 'D:\\\\Drohnendaten\\\\10_WZE-UAV\\\\Auswertung_findatree\\\\Datasplit\\\\ROI\\\\rgb-nir\\\\2020\\\\tnr15101_rois.hdf5',\n",
       " 'D:\\\\Drohnendaten\\\\10_WZE-UAV\\\\Auswertung_findatree\\\\Datasplit\\\\ROI\\\\rgb-nir\\\\2020\\\\tnr15273_rois.hdf5',\n",
       " 'D:\\\\Drohnendaten\\\\10_WZE-UAV\\\\Auswertung_findatree\\\\Datasplit\\\\ROI\\\\rgb-nir\\\\2020\\\\tnr15277_rois.hdf5',\n",
       " 'D:\\\\Drohnendaten\\\\10_WZE-UAV\\\\Auswertung_findatree\\\\Datasplit\\\\ROI\\\\rgb-nir\\\\2020\\\\tnr15297_rois.hdf5',\n",
       " 'D:\\\\Drohnendaten\\\\10_WZE-UAV\\\\Auswertung_findatree\\\\Datasplit\\\\ROI\\\\rgb-nir\\\\2020\\\\tnr15299_rois.hdf5',\n",
       " 'D:\\\\Drohnendaten\\\\10_WZE-UAV\\\\Auswertung_findatree\\\\Datasplit\\\\ROI\\\\rgb-nir\\\\2020\\\\tnr15301_rois.hdf5',\n",
       " 'D:\\\\Drohnendaten\\\\10_WZE-UAV\\\\Auswertung_findatree\\\\Datasplit\\\\ROI\\\\rgb-nir\\\\2020\\\\tnr15303_rois.hdf5',\n",
       " 'D:\\\\Drohnendaten\\\\10_WZE-UAV\\\\Auswertung_findatree\\\\Datasplit\\\\ROI\\\\rgb-nir\\\\2020\\\\tnr15306_rois.hdf5',\n",
       " 'D:\\\\Drohnendaten\\\\10_WZE-UAV\\\\Auswertung_findatree\\\\Datasplit\\\\ROI\\\\rgb-nir\\\\2020\\\\tnr15311_rois.hdf5',\n",
       " 'D:\\\\Drohnendaten\\\\10_WZE-UAV\\\\Auswertung_findatree\\\\Datasplit\\\\ROI\\\\rgb-nir\\\\2020\\\\tnr15313_rois.hdf5',\n",
       " 'D:\\\\Drohnendaten\\\\10_WZE-UAV\\\\Auswertung_findatree\\\\Datasplit\\\\ROI\\\\rgb-nir\\\\2020\\\\tnr15319_rois.hdf5',\n",
       " 'D:\\\\Drohnendaten\\\\10_WZE-UAV\\\\Auswertung_findatree\\\\Datasplit\\\\ROI\\\\rgb-nir\\\\2020\\\\tnr15327_rois.hdf5',\n",
       " 'D:\\\\Drohnendaten\\\\10_WZE-UAV\\\\Auswertung_findatree\\\\Datasplit\\\\ROI\\\\rgb-nir\\\\2020\\\\tnr15519_rois.hdf5',\n",
       " 'D:\\\\Drohnendaten\\\\10_WZE-UAV\\\\Auswertung_findatree\\\\Datasplit\\\\ROI\\\\rgb-nir\\\\2020\\\\tnr15521_rois.hdf5',\n",
       " 'D:\\\\Drohnendaten\\\\10_WZE-UAV\\\\Auswertung_findatree\\\\Datasplit\\\\ROI\\\\rgb-nir\\\\2020\\\\tnr15531_rois.hdf5',\n",
       " 'D:\\\\Drohnendaten\\\\10_WZE-UAV\\\\Auswertung_findatree\\\\Datasplit\\\\ROI\\\\rgb-nir\\\\2020\\\\tnr15537_rois.hdf5',\n",
       " 'D:\\\\Drohnendaten\\\\10_WZE-UAV\\\\Auswertung_findatree\\\\Datasplit\\\\ROI\\\\rgb-nir\\\\2020\\\\tnr15730_rois.hdf5',\n",
       " 'D:\\\\Drohnendaten\\\\10_WZE-UAV\\\\Auswertung_findatree\\\\Datasplit\\\\ROI\\\\rgb-nir\\\\2020\\\\tnr15736_rois.hdf5',\n",
       " 'D:\\\\Drohnendaten\\\\10_WZE-UAV\\\\Auswertung_findatree\\\\Datasplit\\\\ROI\\\\rgb-nir\\\\2020\\\\tnr15746_rois.hdf5',\n",
       " 'D:\\\\Drohnendaten\\\\10_WZE-UAV\\\\Auswertung_findatree\\\\Datasplit\\\\ROI\\\\rgb-nir\\\\2020\\\\tnr15748_rois.hdf5',\n",
       " 'D:\\\\Drohnendaten\\\\10_WZE-UAV\\\\Auswertung_findatree\\\\Datasplit\\\\ROI\\\\rgb-nir\\\\2020\\\\tnr15780_rois.hdf5',\n",
       " 'D:\\\\Drohnendaten\\\\10_WZE-UAV\\\\Auswertung_findatree\\\\Datasplit\\\\ROI\\\\rgb-nir\\\\2020\\\\tnr15966_rois.hdf5',\n",
       " 'D:\\\\Drohnendaten\\\\10_WZE-UAV\\\\Auswertung_findatree\\\\Datasplit\\\\ROI\\\\rgb-nir\\\\2020\\\\tnr15974_rois.hdf5',\n",
       " 'D:\\\\Drohnendaten\\\\10_WZE-UAV\\\\Auswertung_findatree\\\\Datasplit\\\\ROI\\\\rgb-nir\\\\2020\\\\tnr15986_rois.hdf5',\n",
       " 'D:\\\\Drohnendaten\\\\10_WZE-UAV\\\\Auswertung_findatree\\\\Datasplit\\\\ROI\\\\rgb-nir\\\\2020\\\\tnr15988_rois.hdf5',\n",
       " 'D:\\\\Drohnendaten\\\\10_WZE-UAV\\\\Auswertung_findatree\\\\Datasplit\\\\ROI\\\\rgb-nir\\\\2020\\\\tnr15998_rois.hdf5',\n",
       " 'D:\\\\Drohnendaten\\\\10_WZE-UAV\\\\Auswertung_findatree\\\\Datasplit\\\\ROI\\\\rgb-nir\\\\2020\\\\tnr16173_rois.hdf5',\n",
       " 'D:\\\\Drohnendaten\\\\10_WZE-UAV\\\\Auswertung_findatree\\\\Datasplit\\\\ROI\\\\rgb-nir\\\\2020\\\\tnr16177_rois.hdf5',\n",
       " 'D:\\\\Drohnendaten\\\\10_WZE-UAV\\\\Auswertung_findatree\\\\Datasplit\\\\ROI\\\\rgb-nir\\\\2020\\\\tnr16181_rois.hdf5',\n",
       " 'D:\\\\Drohnendaten\\\\10_WZE-UAV\\\\Auswertung_findatree\\\\Datasplit\\\\ROI\\\\rgb-nir\\\\2020\\\\tnr16193_rois.hdf5',\n",
       " 'D:\\\\Drohnendaten\\\\10_WZE-UAV\\\\Auswertung_findatree\\\\Datasplit\\\\ROI\\\\rgb-nir\\\\2020\\\\tnr16197_rois.hdf5',\n",
       " 'D:\\\\Drohnendaten\\\\10_WZE-UAV\\\\Auswertung_findatree\\\\Datasplit\\\\ROI\\\\rgb-nir\\\\2020\\\\tnr16201_rois.hdf5',\n",
       " 'D:\\\\Drohnendaten\\\\10_WZE-UAV\\\\Auswertung_findatree\\\\Datasplit\\\\ROI\\\\rgb-nir\\\\2020\\\\tnr16205_rois.hdf5',\n",
       " 'D:\\\\Drohnendaten\\\\10_WZE-UAV\\\\Auswertung_findatree\\\\Datasplit\\\\ROI\\\\rgb-nir\\\\2020\\\\tnr16211_rois.hdf5',\n",
       " 'D:\\\\Drohnendaten\\\\10_WZE-UAV\\\\Auswertung_findatree\\\\Datasplit\\\\ROI\\\\rgb-nir\\\\2020\\\\tnr16223_rois.hdf5',\n",
       " 'D:\\\\Drohnendaten\\\\10_WZE-UAV\\\\Auswertung_findatree\\\\Datasplit\\\\ROI\\\\rgb-nir\\\\2020\\\\tnr16227_rois.hdf5',\n",
       " 'D:\\\\Drohnendaten\\\\10_WZE-UAV\\\\Auswertung_findatree\\\\Datasplit\\\\ROI\\\\rgb-nir\\\\2020\\\\tnr16400_rois.hdf5',\n",
       " 'D:\\\\Drohnendaten\\\\10_WZE-UAV\\\\Auswertung_findatree\\\\Datasplit\\\\ROI\\\\rgb-nir\\\\2020\\\\tnr16404_rois.hdf5',\n",
       " 'D:\\\\Drohnendaten\\\\10_WZE-UAV\\\\Auswertung_findatree\\\\Datasplit\\\\ROI\\\\rgb-nir\\\\2020\\\\tnr16412_rois.hdf5',\n",
       " 'D:\\\\Drohnendaten\\\\10_WZE-UAV\\\\Auswertung_findatree\\\\Datasplit\\\\ROI\\\\rgb-nir\\\\2020\\\\tnr16422_rois.hdf5',\n",
       " 'D:\\\\Drohnendaten\\\\10_WZE-UAV\\\\Auswertung_findatree\\\\Datasplit\\\\ROI\\\\rgb-nir\\\\2020\\\\tnr16426_rois.hdf5',\n",
       " 'D:\\\\Drohnendaten\\\\10_WZE-UAV\\\\Auswertung_findatree\\\\Datasplit\\\\ROI\\\\rgb-nir\\\\2020\\\\tnr16620_rois.hdf5',\n",
       " 'D:\\\\Drohnendaten\\\\10_WZE-UAV\\\\Auswertung_findatree\\\\Datasplit\\\\ROI\\\\rgb-nir\\\\2020\\\\tnr16624_rois.hdf5',\n",
       " 'D:\\\\Drohnendaten\\\\10_WZE-UAV\\\\Auswertung_findatree\\\\Datasplit\\\\ROI\\\\rgb-nir\\\\2020\\\\tnr16632_rois.hdf5',\n",
       " 'D:\\\\Drohnendaten\\\\10_WZE-UAV\\\\Auswertung_findatree\\\\Datasplit\\\\ROI\\\\rgb-nir\\\\2020\\\\tnr16639_rois.hdf5',\n",
       " 'D:\\\\Drohnendaten\\\\10_WZE-UAV\\\\Auswertung_findatree\\\\Datasplit\\\\ROI\\\\rgb-nir\\\\2020\\\\tnr16643_rois.hdf5',\n",
       " 'D:\\\\Drohnendaten\\\\10_WZE-UAV\\\\Auswertung_findatree\\\\Datasplit\\\\ROI\\\\rgb-nir\\\\2020\\\\tnr16645_rois.hdf5',\n",
       " 'D:\\\\Drohnendaten\\\\10_WZE-UAV\\\\Auswertung_findatree\\\\Datasplit\\\\ROI\\\\rgb-nir\\\\2020\\\\tnr16649_rois.hdf5',\n",
       " 'D:\\\\Drohnendaten\\\\10_WZE-UAV\\\\Auswertung_findatree\\\\Datasplit\\\\ROI\\\\rgb-nir\\\\2020\\\\tnr16657_rois.hdf5',\n",
       " 'D:\\\\Drohnendaten\\\\10_WZE-UAV\\\\Auswertung_findatree\\\\Datasplit\\\\ROI\\\\rgb-nir\\\\2020\\\\tnr16829_rois.hdf5',\n",
       " 'D:\\\\Drohnendaten\\\\10_WZE-UAV\\\\Auswertung_findatree\\\\Datasplit\\\\ROI\\\\rgb-nir\\\\2020\\\\tnr16833_rois.hdf5',\n",
       " 'D:\\\\Drohnendaten\\\\10_WZE-UAV\\\\Auswertung_findatree\\\\Datasplit\\\\ROI\\\\rgb-nir\\\\2020\\\\tnr17019_rois.hdf5',\n",
       " 'D:\\\\Drohnendaten\\\\10_WZE-UAV\\\\Auswertung_findatree\\\\Datasplit\\\\ROI\\\\rgb-nir\\\\2020\\\\tnr17032_rois.hdf5',\n",
       " 'D:\\\\Drohnendaten\\\\10_WZE-UAV\\\\Auswertung_findatree\\\\Datasplit\\\\ROI\\\\rgb-nir\\\\2020\\\\tnr17034_rois.hdf5',\n",
       " 'D:\\\\Drohnendaten\\\\10_WZE-UAV\\\\Auswertung_findatree\\\\Datasplit\\\\ROI\\\\rgb-nir\\\\2020\\\\tnr17042_rois.hdf5',\n",
       " 'D:\\\\Drohnendaten\\\\10_WZE-UAV\\\\Auswertung_findatree\\\\Datasplit\\\\ROI\\\\rgb-nir\\\\2020\\\\tnr17339_rois.hdf5',\n",
       " 'D:\\\\Drohnendaten\\\\10_WZE-UAV\\\\Auswertung_findatree\\\\Datasplit\\\\ROI\\\\rgb-nir\\\\2020\\\\tnr174_rois.hdf5',\n",
       " 'D:\\\\Drohnendaten\\\\10_WZE-UAV\\\\Auswertung_findatree\\\\Datasplit\\\\ROI\\\\rgb-nir\\\\2020\\\\tnr176_rois.hdf5',\n",
       " 'D:\\\\Drohnendaten\\\\10_WZE-UAV\\\\Auswertung_findatree\\\\Datasplit\\\\ROI\\\\rgb-nir\\\\2020\\\\tnr182_rois.hdf5',\n",
       " 'D:\\\\Drohnendaten\\\\10_WZE-UAV\\\\Auswertung_findatree\\\\Datasplit\\\\ROI\\\\rgb-nir\\\\2020\\\\tnr184_rois.hdf5',\n",
       " 'D:\\\\Drohnendaten\\\\10_WZE-UAV\\\\Auswertung_findatree\\\\Datasplit\\\\ROI\\\\rgb-nir\\\\2020\\\\tnr185_rois.hdf5',\n",
       " 'D:\\\\Drohnendaten\\\\10_WZE-UAV\\\\Auswertung_findatree\\\\Datasplit\\\\ROI\\\\rgb-nir\\\\2020\\\\tnr188_rois.hdf5',\n",
       " 'D:\\\\Drohnendaten\\\\10_WZE-UAV\\\\Auswertung_findatree\\\\Datasplit\\\\ROI\\\\rgb-nir\\\\2020\\\\tnr1898_rois.hdf5',\n",
       " 'D:\\\\Drohnendaten\\\\10_WZE-UAV\\\\Auswertung_findatree\\\\Datasplit\\\\ROI\\\\rgb-nir\\\\2020\\\\tnr192_rois.hdf5',\n",
       " 'D:\\\\Drohnendaten\\\\10_WZE-UAV\\\\Auswertung_findatree\\\\Datasplit\\\\ROI\\\\rgb-nir\\\\2020\\\\tnr194_rois.hdf5',\n",
       " 'D:\\\\Drohnendaten\\\\10_WZE-UAV\\\\Auswertung_findatree\\\\Datasplit\\\\ROI\\\\rgb-nir\\\\2020\\\\tnr196_rois.hdf5',\n",
       " 'D:\\\\Drohnendaten\\\\10_WZE-UAV\\\\Auswertung_findatree\\\\Datasplit\\\\ROI\\\\rgb-nir\\\\2020\\\\tnr200_rois.hdf5',\n",
       " 'D:\\\\Drohnendaten\\\\10_WZE-UAV\\\\Auswertung_findatree\\\\Datasplit\\\\ROI\\\\rgb-nir\\\\2020\\\\tnr2386_rois.hdf5',\n",
       " 'D:\\\\Drohnendaten\\\\10_WZE-UAV\\\\Auswertung_findatree\\\\Datasplit\\\\ROI\\\\rgb-nir\\\\2020\\\\tnr2399_rois.hdf5',\n",
       " 'D:\\\\Drohnendaten\\\\10_WZE-UAV\\\\Auswertung_findatree\\\\Datasplit\\\\ROI\\\\rgb-nir\\\\2020\\\\tnr2411_rois.hdf5',\n",
       " 'D:\\\\Drohnendaten\\\\10_WZE-UAV\\\\Auswertung_findatree\\\\Datasplit\\\\ROI\\\\rgb-nir\\\\2020\\\\tnr2413_rois.hdf5',\n",
       " 'D:\\\\Drohnendaten\\\\10_WZE-UAV\\\\Auswertung_findatree\\\\Datasplit\\\\ROI\\\\rgb-nir\\\\2020\\\\tnr3398_rois.hdf5',\n",
       " 'D:\\\\Drohnendaten\\\\10_WZE-UAV\\\\Auswertung_findatree\\\\Datasplit\\\\ROI\\\\rgb-nir\\\\2020\\\\tnr3418_rois.hdf5',\n",
       " 'D:\\\\Drohnendaten\\\\10_WZE-UAV\\\\Auswertung_findatree\\\\Datasplit\\\\ROI\\\\rgb-nir\\\\2020\\\\tnr3430_rois.hdf5',\n",
       " 'D:\\\\Drohnendaten\\\\10_WZE-UAV\\\\Auswertung_findatree\\\\Datasplit\\\\ROI\\\\rgb-nir\\\\2020\\\\tnr35_rois.hdf5',\n",
       " 'D:\\\\Drohnendaten\\\\10_WZE-UAV\\\\Auswertung_findatree\\\\Datasplit\\\\ROI\\\\rgb-nir\\\\2020\\\\tnr3930_rois.hdf5',\n",
       " 'D:\\\\Drohnendaten\\\\10_WZE-UAV\\\\Auswertung_findatree\\\\Datasplit\\\\ROI\\\\rgb-nir\\\\2020\\\\tnr4396_rois.hdf5',\n",
       " 'D:\\\\Drohnendaten\\\\10_WZE-UAV\\\\Auswertung_findatree\\\\Datasplit\\\\ROI\\\\rgb-nir\\\\2020\\\\tnr4412_rois.hdf5',\n",
       " 'D:\\\\Drohnendaten\\\\10_WZE-UAV\\\\Auswertung_findatree\\\\Datasplit\\\\ROI\\\\rgb-nir\\\\2020\\\\tnr4436_rois.hdf5',\n",
       " 'D:\\\\Drohnendaten\\\\10_WZE-UAV\\\\Auswertung_findatree\\\\Datasplit\\\\ROI\\\\rgb-nir\\\\2020\\\\tnr4444_rois.hdf5',\n",
       " 'D:\\\\Drohnendaten\\\\10_WZE-UAV\\\\Auswertung_findatree\\\\Datasplit\\\\ROI\\\\rgb-nir\\\\2020\\\\tnr460_rois.hdf5',\n",
       " 'D:\\\\Drohnendaten\\\\10_WZE-UAV\\\\Auswertung_findatree\\\\Datasplit\\\\ROI\\\\rgb-nir\\\\2020\\\\tnr462_rois.hdf5',\n",
       " 'D:\\\\Drohnendaten\\\\10_WZE-UAV\\\\Auswertung_findatree\\\\Datasplit\\\\ROI\\\\rgb-nir\\\\2020\\\\tnr477_rois.hdf5',\n",
       " 'D:\\\\Drohnendaten\\\\10_WZE-UAV\\\\Auswertung_findatree\\\\Datasplit\\\\ROI\\\\rgb-nir\\\\2020\\\\tnr479_rois.hdf5',\n",
       " 'D:\\\\Drohnendaten\\\\10_WZE-UAV\\\\Auswertung_findatree\\\\Datasplit\\\\ROI\\\\rgb-nir\\\\2020\\\\tnr485_rois.hdf5',\n",
       " 'D:\\\\Drohnendaten\\\\10_WZE-UAV\\\\Auswertung_findatree\\\\Datasplit\\\\ROI\\\\rgb-nir\\\\2020\\\\tnr489_rois.hdf5',\n",
       " 'D:\\\\Drohnendaten\\\\10_WZE-UAV\\\\Auswertung_findatree\\\\Datasplit\\\\ROI\\\\rgb-nir\\\\2020\\\\tnr5449_rois.hdf5',\n",
       " 'D:\\\\Drohnendaten\\\\10_WZE-UAV\\\\Auswertung_findatree\\\\Datasplit\\\\ROI\\\\rgb-nir\\\\2020\\\\tnr5930_rois.hdf5',\n",
       " 'D:\\\\Drohnendaten\\\\10_WZE-UAV\\\\Auswertung_findatree\\\\Datasplit\\\\ROI\\\\rgb-nir\\\\2020\\\\tnr5946_rois.hdf5',\n",
       " 'D:\\\\Drohnendaten\\\\10_WZE-UAV\\\\Auswertung_findatree\\\\Datasplit\\\\ROI\\\\rgb-nir\\\\2020\\\\tnr6430_rois.hdf5',\n",
       " 'D:\\\\Drohnendaten\\\\10_WZE-UAV\\\\Auswertung_findatree\\\\Datasplit\\\\ROI\\\\rgb-nir\\\\2020\\\\tnr6462_rois.hdf5',\n",
       " 'D:\\\\Drohnendaten\\\\10_WZE-UAV\\\\Auswertung_findatree\\\\Datasplit\\\\ROI\\\\rgb-nir\\\\2020\\\\tnr6466_rois.hdf5',\n",
       " 'D:\\\\Drohnendaten\\\\10_WZE-UAV\\\\Auswertung_findatree\\\\Datasplit\\\\ROI\\\\rgb-nir\\\\2020\\\\tnr6468_rois.hdf5',\n",
       " 'D:\\\\Drohnendaten\\\\10_WZE-UAV\\\\Auswertung_findatree\\\\Datasplit\\\\ROI\\\\rgb-nir\\\\2020\\\\tnr6470_rois.hdf5',\n",
       " 'D:\\\\Drohnendaten\\\\10_WZE-UAV\\\\Auswertung_findatree\\\\Datasplit\\\\ROI\\\\rgb-nir\\\\2020\\\\tnr6474_rois.hdf5',\n",
       " 'D:\\\\Drohnendaten\\\\10_WZE-UAV\\\\Auswertung_findatree\\\\Datasplit\\\\ROI\\\\rgb-nir\\\\2020\\\\tnr6478_rois.hdf5',\n",
       " 'D:\\\\Drohnendaten\\\\10_WZE-UAV\\\\Auswertung_findatree\\\\Datasplit\\\\ROI\\\\rgb-nir\\\\2020\\\\tnr6969_rois.hdf5',\n",
       " 'D:\\\\Drohnendaten\\\\10_WZE-UAV\\\\Auswertung_findatree\\\\Datasplit\\\\ROI\\\\rgb-nir\\\\2020\\\\tnr6971_rois.hdf5',\n",
       " 'D:\\\\Drohnendaten\\\\10_WZE-UAV\\\\Auswertung_findatree\\\\Datasplit\\\\ROI\\\\rgb-nir\\\\2020\\\\tnr6977_rois.hdf5',\n",
       " 'D:\\\\Drohnendaten\\\\10_WZE-UAV\\\\Auswertung_findatree\\\\Datasplit\\\\ROI\\\\rgb-nir\\\\2020\\\\tnr7002_rois.hdf5',\n",
       " 'D:\\\\Drohnendaten\\\\10_WZE-UAV\\\\Auswertung_findatree\\\\Datasplit\\\\ROI\\\\rgb-nir\\\\2020\\\\tnr73_rois.hdf5',\n",
       " 'D:\\\\Drohnendaten\\\\10_WZE-UAV\\\\Auswertung_findatree\\\\Datasplit\\\\ROI\\\\rgb-nir\\\\2020\\\\tnr7475_rois.hdf5',\n",
       " 'D:\\\\Drohnendaten\\\\10_WZE-UAV\\\\Auswertung_findatree\\\\Datasplit\\\\ROI\\\\rgb-nir\\\\2020\\\\tnr7511_rois.hdf5',\n",
       " 'D:\\\\Drohnendaten\\\\10_WZE-UAV\\\\Auswertung_findatree\\\\Datasplit\\\\ROI\\\\rgb-nir\\\\2020\\\\tnr7517_rois.hdf5',\n",
       " 'D:\\\\Drohnendaten\\\\10_WZE-UAV\\\\Auswertung_findatree\\\\Datasplit\\\\ROI\\\\rgb-nir\\\\2020\\\\tnr7521_rois.hdf5',\n",
       " 'D:\\\\Drohnendaten\\\\10_WZE-UAV\\\\Auswertung_findatree\\\\Datasplit\\\\ROI\\\\rgb-nir\\\\2020\\\\tnr7525_rois.hdf5',\n",
       " 'D:\\\\Drohnendaten\\\\10_WZE-UAV\\\\Auswertung_findatree\\\\Datasplit\\\\ROI\\\\rgb-nir\\\\2020\\\\tnr75_rois.hdf5',\n",
       " 'D:\\\\Drohnendaten\\\\10_WZE-UAV\\\\Auswertung_findatree\\\\Datasplit\\\\ROI\\\\rgb-nir\\\\2020\\\\tnr79_rois.hdf5',\n",
       " 'D:\\\\Drohnendaten\\\\10_WZE-UAV\\\\Auswertung_findatree\\\\Datasplit\\\\ROI\\\\rgb-nir\\\\2020\\\\tnr8032_rois.hdf5',\n",
       " 'D:\\\\Drohnendaten\\\\10_WZE-UAV\\\\Auswertung_findatree\\\\Datasplit\\\\ROI\\\\rgb-nir\\\\2020\\\\tnr8040_rois.hdf5',\n",
       " 'D:\\\\Drohnendaten\\\\10_WZE-UAV\\\\Auswertung_findatree\\\\Datasplit\\\\ROI\\\\rgb-nir\\\\2020\\\\tnr8492_rois.hdf5',\n",
       " 'D:\\\\Drohnendaten\\\\10_WZE-UAV\\\\Auswertung_findatree\\\\Datasplit\\\\ROI\\\\rgb-nir\\\\2020\\\\tnr8494_rois.hdf5',\n",
       " 'D:\\\\Drohnendaten\\\\10_WZE-UAV\\\\Auswertung_findatree\\\\Datasplit\\\\ROI\\\\rgb-nir\\\\2020\\\\tnr8498_rois.hdf5',\n",
       " 'D:\\\\Drohnendaten\\\\10_WZE-UAV\\\\Auswertung_findatree\\\\Datasplit\\\\ROI\\\\rgb-nir\\\\2020\\\\tnr84_rois.hdf5',\n",
       " 'D:\\\\Drohnendaten\\\\10_WZE-UAV\\\\Auswertung_findatree\\\\Datasplit\\\\ROI\\\\rgb-nir\\\\2020\\\\tnr8532_rois.hdf5',\n",
       " 'D:\\\\Drohnendaten\\\\10_WZE-UAV\\\\Auswertung_findatree\\\\Datasplit\\\\ROI\\\\rgb-nir\\\\2020\\\\tnr86_rois.hdf5',\n",
       " 'D:\\\\Drohnendaten\\\\10_WZE-UAV\\\\Auswertung_findatree\\\\Datasplit\\\\ROI\\\\rgb-nir\\\\2020\\\\tnr879_rois.hdf5',\n",
       " 'D:\\\\Drohnendaten\\\\10_WZE-UAV\\\\Auswertung_findatree\\\\Datasplit\\\\ROI\\\\rgb-nir\\\\2020\\\\tnr8973_rois.hdf5',\n",
       " 'D:\\\\Drohnendaten\\\\10_WZE-UAV\\\\Auswertung_findatree\\\\Datasplit\\\\ROI\\\\rgb-nir\\\\2020\\\\tnr8979_rois.hdf5',\n",
       " 'D:\\\\Drohnendaten\\\\10_WZE-UAV\\\\Auswertung_findatree\\\\Datasplit\\\\ROI\\\\rgb-nir\\\\2020\\\\tnr8981_rois.hdf5',\n",
       " 'D:\\\\Drohnendaten\\\\10_WZE-UAV\\\\Auswertung_findatree\\\\Datasplit\\\\ROI\\\\rgb-nir\\\\2020\\\\tnr8989_rois.hdf5',\n",
       " 'D:\\\\Drohnendaten\\\\10_WZE-UAV\\\\Auswertung_findatree\\\\Datasplit\\\\ROI\\\\rgb-nir\\\\2020\\\\tnr9025_rois.hdf5',\n",
       " 'D:\\\\Drohnendaten\\\\10_WZE-UAV\\\\Auswertung_findatree\\\\Datasplit\\\\ROI\\\\rgb-nir\\\\2020\\\\tnr9464_rois.hdf5',\n",
       " 'D:\\\\Drohnendaten\\\\10_WZE-UAV\\\\Auswertung_findatree\\\\Datasplit\\\\ROI\\\\rgb-nir\\\\2020\\\\tnr9468_rois.hdf5',\n",
       " 'D:\\\\Drohnendaten\\\\10_WZE-UAV\\\\Auswertung_findatree\\\\Datasplit\\\\ROI\\\\rgb-nir\\\\2020\\\\tnr9472_rois.hdf5',\n",
       " 'D:\\\\Drohnendaten\\\\10_WZE-UAV\\\\Auswertung_findatree\\\\Datasplit\\\\ROI\\\\rgb-nir\\\\2020\\\\tnr9477_rois.hdf5',\n",
       " 'D:\\\\Drohnendaten\\\\10_WZE-UAV\\\\Auswertung_findatree\\\\Datasplit\\\\ROI\\\\rgb-nir\\\\2020\\\\tnr9479_rois.hdf5',\n",
       " 'D:\\\\Drohnendaten\\\\10_WZE-UAV\\\\Auswertung_findatree\\\\Datasplit\\\\ROI\\\\rgb-nir\\\\2020\\\\tnr9489_rois.hdf5',\n",
       " 'D:\\\\Drohnendaten\\\\10_WZE-UAV\\\\Auswertung_findatree\\\\Datasplit\\\\ROI\\\\rgb-nir\\\\2020\\\\tnr9493_rois.hdf5',\n",
       " 'D:\\\\Drohnendaten\\\\10_WZE-UAV\\\\Auswertung_findatree\\\\Datasplit\\\\ROI\\\\rgb-nir\\\\2020\\\\tnr9509_rois.hdf5',\n",
       " 'D:\\\\Drohnendaten\\\\10_WZE-UAV\\\\Auswertung_findatree\\\\Datasplit\\\\ROI\\\\rgb-nir\\\\2020\\\\tnr9515_rois.hdf5',\n",
       " 'D:\\\\Drohnendaten\\\\10_WZE-UAV\\\\Auswertung_findatree\\\\Datasplit\\\\ROI\\\\rgb-nir\\\\2020\\\\tnr9517_rois.hdf5',\n",
       " 'D:\\\\Drohnendaten\\\\10_WZE-UAV\\\\Auswertung_findatree\\\\Datasplit\\\\ROI\\\\rgb-nir\\\\2020\\\\tnr9948_rois.hdf5',\n",
       " 'D:\\\\Drohnendaten\\\\10_WZE-UAV\\\\Auswertung_findatree\\\\Datasplit\\\\ROI\\\\rgb-nir\\\\2020\\\\tnr9958_rois.hdf5',\n",
       " 'D:\\\\Drohnendaten\\\\10_WZE-UAV\\\\Auswertung_findatree\\\\Datasplit\\\\ROI\\\\rgb-nir\\\\2020\\\\tnr9966_rois.hdf5',\n",
       " 'D:\\\\Drohnendaten\\\\10_WZE-UAV\\\\Auswertung_findatree\\\\Datasplit\\\\ROI\\\\rgb-nir\\\\2020\\\\tnr9973_rois.hdf5',\n",
       " 'D:\\\\Drohnendaten\\\\10_WZE-UAV\\\\Auswertung_findatree\\\\Datasplit\\\\ROI\\\\rgb-nir\\\\2020\\\\tnr9980_rois.hdf5',\n",
       " 'D:\\\\Drohnendaten\\\\10_WZE-UAV\\\\Auswertung_findatree\\\\Datasplit\\\\ROI\\\\rgb-nir\\\\2020\\\\tnr9984_rois.hdf5',\n",
       " 'D:\\\\Drohnendaten\\\\10_WZE-UAV\\\\Auswertung_findatree\\\\Datasplit\\\\ROI\\\\rgb-nir\\\\2020\\\\tnr9986_rois.hdf5',\n",
       " 'D:\\\\Drohnendaten\\\\10_WZE-UAV\\\\Auswertung_findatree\\\\Datasplit\\\\ROI\\\\rgb-nir\\\\2020\\\\tnr9988_rois.hdf5',\n",
       " 'D:\\\\Drohnendaten\\\\10_WZE-UAV\\\\Auswertung_findatree\\\\Datasplit\\\\ROI\\\\rgb-nir\\\\2020\\\\tnr9996_rois.hdf5',\n",
       " 'D:\\\\Drohnendaten\\\\10_WZE-UAV\\\\Auswertung_findatree\\\\Datasplit\\\\ROI\\\\rgb-nir\\\\2021\\\\tnr10527_rois.hdf5',\n",
       " 'D:\\\\Drohnendaten\\\\10_WZE-UAV\\\\Auswertung_findatree\\\\Datasplit\\\\ROI\\\\rgb-nir\\\\2021\\\\tnr10533_rois.hdf5',\n",
       " 'D:\\\\Drohnendaten\\\\10_WZE-UAV\\\\Auswertung_findatree\\\\Datasplit\\\\ROI\\\\rgb-nir\\\\2021\\\\tnr10545_rois.hdf5',\n",
       " 'D:\\\\Drohnendaten\\\\10_WZE-UAV\\\\Auswertung_findatree\\\\Datasplit\\\\ROI\\\\rgb-nir\\\\2021\\\\tnr10547_rois.hdf5',\n",
       " 'D:\\\\Drohnendaten\\\\10_WZE-UAV\\\\Auswertung_findatree\\\\Datasplit\\\\ROI\\\\rgb-nir\\\\2021\\\\tnr10912_rois.hdf5',\n",
       " 'D:\\\\Drohnendaten\\\\10_WZE-UAV\\\\Auswertung_findatree\\\\Datasplit\\\\ROI\\\\rgb-nir\\\\2021\\\\tnr11032_rois.hdf5',\n",
       " 'D:\\\\Drohnendaten\\\\10_WZE-UAV\\\\Auswertung_findatree\\\\Datasplit\\\\ROI\\\\rgb-nir\\\\2021\\\\tnr11040_rois.hdf5',\n",
       " 'D:\\\\Drohnendaten\\\\10_WZE-UAV\\\\Auswertung_findatree\\\\Datasplit\\\\ROI\\\\rgb-nir\\\\2021\\\\tnr11044_rois.hdf5',\n",
       " 'D:\\\\Drohnendaten\\\\10_WZE-UAV\\\\Auswertung_findatree\\\\Datasplit\\\\ROI\\\\rgb-nir\\\\2021\\\\tnr11048_rois.hdf5',\n",
       " 'D:\\\\Drohnendaten\\\\10_WZE-UAV\\\\Auswertung_findatree\\\\Datasplit\\\\ROI\\\\rgb-nir\\\\2021\\\\tnr11052_rois.hdf5',\n",
       " 'D:\\\\Drohnendaten\\\\10_WZE-UAV\\\\Auswertung_findatree\\\\Datasplit\\\\ROI\\\\rgb-nir\\\\2021\\\\tnr11056_rois.hdf5',\n",
       " 'D:\\\\Drohnendaten\\\\10_WZE-UAV\\\\Auswertung_findatree\\\\Datasplit\\\\ROI\\\\rgb-nir\\\\2021\\\\tnr11078_rois.hdf5',\n",
       " 'D:\\\\Drohnendaten\\\\10_WZE-UAV\\\\Auswertung_findatree\\\\Datasplit\\\\ROI\\\\rgb-nir\\\\2021\\\\tnr11080_rois.hdf5',\n",
       " 'D:\\\\Drohnendaten\\\\10_WZE-UAV\\\\Auswertung_findatree\\\\Datasplit\\\\ROI\\\\rgb-nir\\\\2021\\\\tnr11090_rois.hdf5',\n",
       " 'D:\\\\Drohnendaten\\\\10_WZE-UAV\\\\Auswertung_findatree\\\\Datasplit\\\\ROI\\\\rgb-nir\\\\2021\\\\tnr11092_rois.hdf5',\n",
       " 'D:\\\\Drohnendaten\\\\10_WZE-UAV\\\\Auswertung_findatree\\\\Datasplit\\\\ROI\\\\rgb-nir\\\\2021\\\\tnr11179_rois.hdf5',\n",
       " 'D:\\\\Drohnendaten\\\\10_WZE-UAV\\\\Auswertung_findatree\\\\Datasplit\\\\ROI\\\\rgb-nir\\\\2021\\\\tnr11189_rois.hdf5',\n",
       " 'D:\\\\Drohnendaten\\\\10_WZE-UAV\\\\Auswertung_findatree\\\\Datasplit\\\\ROI\\\\rgb-nir\\\\2021\\\\tnr11325_rois.hdf5',\n",
       " 'D:\\\\Drohnendaten\\\\10_WZE-UAV\\\\Auswertung_findatree\\\\Datasplit\\\\ROI\\\\rgb-nir\\\\2021\\\\tnr11327_rois.hdf5',\n",
       " 'D:\\\\Drohnendaten\\\\10_WZE-UAV\\\\Auswertung_findatree\\\\Datasplit\\\\ROI\\\\rgb-nir\\\\2021\\\\tnr11453_rois.hdf5',\n",
       " 'D:\\\\Drohnendaten\\\\10_WZE-UAV\\\\Auswertung_findatree\\\\Datasplit\\\\ROI\\\\rgb-nir\\\\2021\\\\tnr11459_rois.hdf5',\n",
       " 'D:\\\\Drohnendaten\\\\10_WZE-UAV\\\\Auswertung_findatree\\\\Datasplit\\\\ROI\\\\rgb-nir\\\\2021\\\\tnr11576_rois.hdf5',\n",
       " 'D:\\\\Drohnendaten\\\\10_WZE-UAV\\\\Auswertung_findatree\\\\Datasplit\\\\ROI\\\\rgb-nir\\\\2021\\\\tnr11581_rois.hdf5',\n",
       " 'D:\\\\Drohnendaten\\\\10_WZE-UAV\\\\Auswertung_findatree\\\\Datasplit\\\\ROI\\\\rgb-nir\\\\2021\\\\tnr11597_rois.hdf5',\n",
       " 'D:\\\\Drohnendaten\\\\10_WZE-UAV\\\\Auswertung_findatree\\\\Datasplit\\\\ROI\\\\rgb-nir\\\\2021\\\\tnr11601_rois.hdf5',\n",
       " 'D:\\\\Drohnendaten\\\\10_WZE-UAV\\\\Auswertung_findatree\\\\Datasplit\\\\ROI\\\\rgb-nir\\\\2021\\\\tnr11626_rois.hdf5',\n",
       " 'D:\\\\Drohnendaten\\\\10_WZE-UAV\\\\Auswertung_findatree\\\\Datasplit\\\\ROI\\\\rgb-nir\\\\2021\\\\tnr11638_rois.hdf5',\n",
       " 'D:\\\\Drohnendaten\\\\10_WZE-UAV\\\\Auswertung_findatree\\\\Datasplit\\\\ROI\\\\rgb-nir\\\\2021\\\\tnr11640_rois.hdf5',\n",
       " 'D:\\\\Drohnendaten\\\\10_WZE-UAV\\\\Auswertung_findatree\\\\Datasplit\\\\ROI\\\\rgb-nir\\\\2021\\\\tnr11727_rois.hdf5',\n",
       " 'D:\\\\Drohnendaten\\\\10_WZE-UAV\\\\Auswertung_findatree\\\\Datasplit\\\\ROI\\\\rgb-nir\\\\2021\\\\tnr11733_rois.hdf5',\n",
       " 'D:\\\\Drohnendaten\\\\10_WZE-UAV\\\\Auswertung_findatree\\\\Datasplit\\\\ROI\\\\rgb-nir\\\\2021\\\\tnr11866_rois.hdf5',\n",
       " 'D:\\\\Drohnendaten\\\\10_WZE-UAV\\\\Auswertung_findatree\\\\Datasplit\\\\ROI\\\\rgb-nir\\\\2021\\\\tnr11874_rois.hdf5',\n",
       " 'D:\\\\Drohnendaten\\\\10_WZE-UAV\\\\Auswertung_findatree\\\\Datasplit\\\\ROI\\\\rgb-nir\\\\2021\\\\tnr11878_rois.hdf5',\n",
       " 'D:\\\\Drohnendaten\\\\10_WZE-UAV\\\\Auswertung_findatree\\\\Datasplit\\\\ROI\\\\rgb-nir\\\\2021\\\\tnr12013_rois.hdf5',\n",
       " 'D:\\\\Drohnendaten\\\\10_WZE-UAV\\\\Auswertung_findatree\\\\Datasplit\\\\ROI\\\\rgb-nir\\\\2021\\\\tnr12019_rois.hdf5',\n",
       " 'D:\\\\Drohnendaten\\\\10_WZE-UAV\\\\Auswertung_findatree\\\\Datasplit\\\\ROI\\\\rgb-nir\\\\2021\\\\tnr12120_rois.hdf5',\n",
       " 'D:\\\\Drohnendaten\\\\10_WZE-UAV\\\\Auswertung_findatree\\\\Datasplit\\\\ROI\\\\rgb-nir\\\\2021\\\\tnr12124_rois.hdf5',\n",
       " 'D:\\\\Drohnendaten\\\\10_WZE-UAV\\\\Auswertung_findatree\\\\Datasplit\\\\ROI\\\\rgb-nir\\\\2021\\\\tnr12153_rois.hdf5',\n",
       " 'D:\\\\Drohnendaten\\\\10_WZE-UAV\\\\Auswertung_findatree\\\\Datasplit\\\\ROI\\\\rgb-nir\\\\2021\\\\tnr12161_rois.hdf5',\n",
       " 'D:\\\\Drohnendaten\\\\10_WZE-UAV\\\\Auswertung_findatree\\\\Datasplit\\\\ROI\\\\rgb-nir\\\\2021\\\\tnr12169_rois.hdf5',\n",
       " 'D:\\\\Drohnendaten\\\\10_WZE-UAV\\\\Auswertung_findatree\\\\Datasplit\\\\ROI\\\\rgb-nir\\\\2021\\\\tnr12179_rois.hdf5',\n",
       " 'D:\\\\Drohnendaten\\\\10_WZE-UAV\\\\Auswertung_findatree\\\\Datasplit\\\\ROI\\\\rgb-nir\\\\2021\\\\tnr12285_rois.hdf5',\n",
       " 'D:\\\\Drohnendaten\\\\10_WZE-UAV\\\\Auswertung_findatree\\\\Datasplit\\\\ROI\\\\rgb-nir\\\\2021\\\\tnr12426_rois.hdf5',\n",
       " 'D:\\\\Drohnendaten\\\\10_WZE-UAV\\\\Auswertung_findatree\\\\Datasplit\\\\ROI\\\\rgb-nir\\\\2021\\\\tnr12549_rois.hdf5',\n",
       " 'D:\\\\Drohnendaten\\\\10_WZE-UAV\\\\Auswertung_findatree\\\\Datasplit\\\\ROI\\\\rgb-nir\\\\2021\\\\tnr12553_rois.hdf5',\n",
       " 'D:\\\\Drohnendaten\\\\10_WZE-UAV\\\\Auswertung_findatree\\\\Datasplit\\\\ROI\\\\rgb-nir\\\\2021\\\\tnr12557_rois.hdf5',\n",
       " 'D:\\\\Drohnendaten\\\\10_WZE-UAV\\\\Auswertung_findatree\\\\Datasplit\\\\ROI\\\\rgb-nir\\\\2021\\\\tnr12673_rois.hdf5',\n",
       " 'D:\\\\Drohnendaten\\\\10_WZE-UAV\\\\Auswertung_findatree\\\\Datasplit\\\\ROI\\\\rgb-nir\\\\2021\\\\tnr12678_rois.hdf5',\n",
       " 'D:\\\\Drohnendaten\\\\10_WZE-UAV\\\\Auswertung_findatree\\\\Datasplit\\\\ROI\\\\rgb-nir\\\\2021\\\\tnr12694_rois.hdf5',\n",
       " 'D:\\\\Drohnendaten\\\\10_WZE-UAV\\\\Auswertung_findatree\\\\Datasplit\\\\ROI\\\\rgb-nir\\\\2021\\\\tnr12698_rois.hdf5',\n",
       " 'D:\\\\Drohnendaten\\\\10_WZE-UAV\\\\Auswertung_findatree\\\\Datasplit\\\\ROI\\\\rgb-nir\\\\2021\\\\tnr12702_rois.hdf5',\n",
       " 'D:\\\\Drohnendaten\\\\10_WZE-UAV\\\\Auswertung_findatree\\\\Datasplit\\\\ROI\\\\rgb-nir\\\\2021\\\\tnr12711_rois.hdf5',\n",
       " 'D:\\\\Drohnendaten\\\\10_WZE-UAV\\\\Auswertung_findatree\\\\Datasplit\\\\ROI\\\\rgb-nir\\\\2021\\\\tnr12713_rois.hdf5',\n",
       " 'D:\\\\Drohnendaten\\\\10_WZE-UAV\\\\Auswertung_findatree\\\\Datasplit\\\\ROI\\\\rgb-nir\\\\2021\\\\tnr12715_rois.hdf5',\n",
       " 'D:\\\\Drohnendaten\\\\10_WZE-UAV\\\\Auswertung_findatree\\\\Datasplit\\\\ROI\\\\rgb-nir\\\\2021\\\\tnr12717_rois.hdf5',\n",
       " 'D:\\\\Drohnendaten\\\\10_WZE-UAV\\\\Auswertung_findatree\\\\Datasplit\\\\ROI\\\\rgb-nir\\\\2021\\\\tnr12719_rois.hdf5',\n",
       " 'D:\\\\Drohnendaten\\\\10_WZE-UAV\\\\Auswertung_findatree\\\\Datasplit\\\\ROI\\\\rgb-nir\\\\2021\\\\tnr12950_rois.hdf5',\n",
       " 'D:\\\\Drohnendaten\\\\10_WZE-UAV\\\\Auswertung_findatree\\\\Datasplit\\\\ROI\\\\rgb-nir\\\\2021\\\\tnr12960_rois.hdf5',\n",
       " 'D:\\\\Drohnendaten\\\\10_WZE-UAV\\\\Auswertung_findatree\\\\Datasplit\\\\ROI\\\\rgb-nir\\\\2021\\\\tnr13212_rois.hdf5',\n",
       " 'D:\\\\Drohnendaten\\\\10_WZE-UAV\\\\Auswertung_findatree\\\\Datasplit\\\\ROI\\\\rgb-nir\\\\2021\\\\tnr13225_rois.hdf5',\n",
       " 'D:\\\\Drohnendaten\\\\10_WZE-UAV\\\\Auswertung_findatree\\\\Datasplit\\\\ROI\\\\rgb-nir\\\\2021\\\\tnr13233_rois.hdf5',\n",
       " 'D:\\\\Drohnendaten\\\\10_WZE-UAV\\\\Auswertung_findatree\\\\Datasplit\\\\ROI\\\\rgb-nir\\\\2021\\\\tnr13259_rois.hdf5',\n",
       " 'D:\\\\Drohnendaten\\\\10_WZE-UAV\\\\Auswertung_findatree\\\\Datasplit\\\\ROI\\\\rgb-nir\\\\2021\\\\tnr13508_rois.hdf5',\n",
       " 'D:\\\\Drohnendaten\\\\10_WZE-UAV\\\\Auswertung_findatree\\\\Datasplit\\\\ROI\\\\rgb-nir\\\\2021\\\\tnr13758_rois.hdf5',\n",
       " 'D:\\\\Drohnendaten\\\\10_WZE-UAV\\\\Auswertung_findatree\\\\Datasplit\\\\ROI\\\\rgb-nir\\\\2021\\\\tnr13766_rois.hdf5',\n",
       " 'D:\\\\Drohnendaten\\\\10_WZE-UAV\\\\Auswertung_findatree\\\\Datasplit\\\\ROI\\\\rgb-nir\\\\2021\\\\tnr13779_rois.hdf5',\n",
       " 'D:\\\\Drohnendaten\\\\10_WZE-UAV\\\\Auswertung_findatree\\\\Datasplit\\\\ROI\\\\rgb-nir\\\\2021\\\\tnr13819_rois.hdf5',\n",
       " 'D:\\\\Drohnendaten\\\\10_WZE-UAV\\\\Auswertung_findatree\\\\Datasplit\\\\ROI\\\\rgb-nir\\\\2021\\\\tnr13825_rois.hdf5',\n",
       " 'D:\\\\Drohnendaten\\\\10_WZE-UAV\\\\Auswertung_findatree\\\\Datasplit\\\\ROI\\\\rgb-nir\\\\2021\\\\tnr13898_rois.hdf5',\n",
       " 'D:\\\\Drohnendaten\\\\10_WZE-UAV\\\\Auswertung_findatree\\\\Datasplit\\\\ROI\\\\rgb-nir\\\\2021\\\\tnr13922_rois.hdf5',\n",
       " 'D:\\\\Drohnendaten\\\\10_WZE-UAV\\\\Auswertung_findatree\\\\Datasplit\\\\ROI\\\\rgb-nir\\\\2021\\\\tnr14156_rois.hdf5',\n",
       " 'D:\\\\Drohnendaten\\\\10_WZE-UAV\\\\Auswertung_findatree\\\\Datasplit\\\\ROI\\\\rgb-nir\\\\2021\\\\tnr14293_rois.hdf5',\n",
       " 'D:\\\\Drohnendaten\\\\10_WZE-UAV\\\\Auswertung_findatree\\\\Datasplit\\\\ROI\\\\rgb-nir\\\\2021\\\\tnr14327_rois.hdf5',\n",
       " 'D:\\\\Drohnendaten\\\\10_WZE-UAV\\\\Auswertung_findatree\\\\Datasplit\\\\ROI\\\\rgb-nir\\\\2021\\\\tnr14666_rois.hdf5',\n",
       " 'D:\\\\Drohnendaten\\\\10_WZE-UAV\\\\Auswertung_findatree\\\\Datasplit\\\\ROI\\\\rgb-nir\\\\2021\\\\tnr14723_rois.hdf5',\n",
       " 'D:\\\\Drohnendaten\\\\10_WZE-UAV\\\\Auswertung_findatree\\\\Datasplit\\\\ROI\\\\rgb-nir\\\\2021\\\\tnr14727_rois.hdf5',\n",
       " 'D:\\\\Drohnendaten\\\\10_WZE-UAV\\\\Auswertung_findatree\\\\Datasplit\\\\ROI\\\\rgb-nir\\\\2021\\\\tnr14732_rois.hdf5',\n",
       " 'D:\\\\Drohnendaten\\\\10_WZE-UAV\\\\Auswertung_findatree\\\\Datasplit\\\\ROI\\\\rgb-nir\\\\2021\\\\tnr14781_rois.hdf5',\n",
       " 'D:\\\\Drohnendaten\\\\10_WZE-UAV\\\\Auswertung_findatree\\\\Datasplit\\\\ROI\\\\rgb-nir\\\\2021\\\\tnr14877_rois.hdf5',\n",
       " 'D:\\\\Drohnendaten\\\\10_WZE-UAV\\\\Auswertung_findatree\\\\Datasplit\\\\ROI\\\\rgb-nir\\\\2021\\\\tnr14879_rois.hdf5',\n",
       " 'D:\\\\Drohnendaten\\\\10_WZE-UAV\\\\Auswertung_findatree\\\\Datasplit\\\\ROI\\\\rgb-nir\\\\2021\\\\tnr14887_rois.hdf5',\n",
       " 'D:\\\\Drohnendaten\\\\10_WZE-UAV\\\\Auswertung_findatree\\\\Datasplit\\\\ROI\\\\rgb-nir\\\\2021\\\\tnr15016_rois.hdf5',\n",
       " 'D:\\\\Drohnendaten\\\\10_WZE-UAV\\\\Auswertung_findatree\\\\Datasplit\\\\ROI\\\\rgb-nir\\\\2021\\\\tnr15020_rois.hdf5',\n",
       " 'D:\\\\Drohnendaten\\\\10_WZE-UAV\\\\Auswertung_findatree\\\\Datasplit\\\\ROI\\\\rgb-nir\\\\2021\\\\tnr15027_rois.hdf5',\n",
       " 'D:\\\\Drohnendaten\\\\10_WZE-UAV\\\\Auswertung_findatree\\\\Datasplit\\\\ROI\\\\rgb-nir\\\\2021\\\\tnr15031_rois.hdf5',\n",
       " 'D:\\\\Drohnendaten\\\\10_WZE-UAV\\\\Auswertung_findatree\\\\Datasplit\\\\ROI\\\\rgb-nir\\\\2021\\\\tnr15035_rois.hdf5',\n",
       " 'D:\\\\Drohnendaten\\\\10_WZE-UAV\\\\Auswertung_findatree\\\\Datasplit\\\\ROI\\\\rgb-nir\\\\2021\\\\tnr15039_rois.hdf5',\n",
       " 'D:\\\\Drohnendaten\\\\10_WZE-UAV\\\\Auswertung_findatree\\\\Datasplit\\\\ROI\\\\rgb-nir\\\\2021\\\\tnr15043_rois.hdf5',\n",
       " 'D:\\\\Drohnendaten\\\\10_WZE-UAV\\\\Auswertung_findatree\\\\Datasplit\\\\ROI\\\\rgb-nir\\\\2021\\\\tnr15046_rois.hdf5',\n",
       " 'D:\\\\Drohnendaten\\\\10_WZE-UAV\\\\Auswertung_findatree\\\\Datasplit\\\\ROI\\\\rgb-nir\\\\2021\\\\tnr15050_rois.hdf5',\n",
       " 'D:\\\\Drohnendaten\\\\10_WZE-UAV\\\\Auswertung_findatree\\\\Datasplit\\\\ROI\\\\rgb-nir\\\\2021\\\\tnr15101_rois.hdf5',\n",
       " 'D:\\\\Drohnendaten\\\\10_WZE-UAV\\\\Auswertung_findatree\\\\Datasplit\\\\ROI\\\\rgb-nir\\\\2021\\\\tnr15273_rois.hdf5',\n",
       " 'D:\\\\Drohnendaten\\\\10_WZE-UAV\\\\Auswertung_findatree\\\\Datasplit\\\\ROI\\\\rgb-nir\\\\2021\\\\tnr15277_rois.hdf5',\n",
       " 'D:\\\\Drohnendaten\\\\10_WZE-UAV\\\\Auswertung_findatree\\\\Datasplit\\\\ROI\\\\rgb-nir\\\\2021\\\\tnr15297_rois.hdf5',\n",
       " 'D:\\\\Drohnendaten\\\\10_WZE-UAV\\\\Auswertung_findatree\\\\Datasplit\\\\ROI\\\\rgb-nir\\\\2021\\\\tnr15299_rois.hdf5',\n",
       " 'D:\\\\Drohnendaten\\\\10_WZE-UAV\\\\Auswertung_findatree\\\\Datasplit\\\\ROI\\\\rgb-nir\\\\2021\\\\tnr15301_rois.hdf5',\n",
       " 'D:\\\\Drohnendaten\\\\10_WZE-UAV\\\\Auswertung_findatree\\\\Datasplit\\\\ROI\\\\rgb-nir\\\\2021\\\\tnr15303_rois.hdf5',\n",
       " 'D:\\\\Drohnendaten\\\\10_WZE-UAV\\\\Auswertung_findatree\\\\Datasplit\\\\ROI\\\\rgb-nir\\\\2021\\\\tnr15306_rois.hdf5',\n",
       " 'D:\\\\Drohnendaten\\\\10_WZE-UAV\\\\Auswertung_findatree\\\\Datasplit\\\\ROI\\\\rgb-nir\\\\2021\\\\tnr15311_rois.hdf5',\n",
       " 'D:\\\\Drohnendaten\\\\10_WZE-UAV\\\\Auswertung_findatree\\\\Datasplit\\\\ROI\\\\rgb-nir\\\\2021\\\\tnr15313_rois.hdf5',\n",
       " 'D:\\\\Drohnendaten\\\\10_WZE-UAV\\\\Auswertung_findatree\\\\Datasplit\\\\ROI\\\\rgb-nir\\\\2021\\\\tnr15319_rois.hdf5',\n",
       " 'D:\\\\Drohnendaten\\\\10_WZE-UAV\\\\Auswertung_findatree\\\\Datasplit\\\\ROI\\\\rgb-nir\\\\2021\\\\tnr15327_rois.hdf5',\n",
       " 'D:\\\\Drohnendaten\\\\10_WZE-UAV\\\\Auswertung_findatree\\\\Datasplit\\\\ROI\\\\rgb-nir\\\\2021\\\\tnr15519_rois.hdf5',\n",
       " 'D:\\\\Drohnendaten\\\\10_WZE-UAV\\\\Auswertung_findatree\\\\Datasplit\\\\ROI\\\\rgb-nir\\\\2021\\\\tnr15521_rois.hdf5',\n",
       " 'D:\\\\Drohnendaten\\\\10_WZE-UAV\\\\Auswertung_findatree\\\\Datasplit\\\\ROI\\\\rgb-nir\\\\2021\\\\tnr15531_rois.hdf5',\n",
       " 'D:\\\\Drohnendaten\\\\10_WZE-UAV\\\\Auswertung_findatree\\\\Datasplit\\\\ROI\\\\rgb-nir\\\\2021\\\\tnr15537_rois.hdf5',\n",
       " 'D:\\\\Drohnendaten\\\\10_WZE-UAV\\\\Auswertung_findatree\\\\Datasplit\\\\ROI\\\\rgb-nir\\\\2021\\\\tnr15730_rois.hdf5',\n",
       " 'D:\\\\Drohnendaten\\\\10_WZE-UAV\\\\Auswertung_findatree\\\\Datasplit\\\\ROI\\\\rgb-nir\\\\2021\\\\tnr15736_rois.hdf5',\n",
       " 'D:\\\\Drohnendaten\\\\10_WZE-UAV\\\\Auswertung_findatree\\\\Datasplit\\\\ROI\\\\rgb-nir\\\\2021\\\\tnr15746_rois.hdf5',\n",
       " 'D:\\\\Drohnendaten\\\\10_WZE-UAV\\\\Auswertung_findatree\\\\Datasplit\\\\ROI\\\\rgb-nir\\\\2021\\\\tnr15748_rois.hdf5',\n",
       " 'D:\\\\Drohnendaten\\\\10_WZE-UAV\\\\Auswertung_findatree\\\\Datasplit\\\\ROI\\\\rgb-nir\\\\2021\\\\tnr15780_rois.hdf5',\n",
       " 'D:\\\\Drohnendaten\\\\10_WZE-UAV\\\\Auswertung_findatree\\\\Datasplit\\\\ROI\\\\rgb-nir\\\\2021\\\\tnr15966_rois.hdf5',\n",
       " 'D:\\\\Drohnendaten\\\\10_WZE-UAV\\\\Auswertung_findatree\\\\Datasplit\\\\ROI\\\\rgb-nir\\\\2021\\\\tnr15974_rois.hdf5',\n",
       " 'D:\\\\Drohnendaten\\\\10_WZE-UAV\\\\Auswertung_findatree\\\\Datasplit\\\\ROI\\\\rgb-nir\\\\2021\\\\tnr15986_rois.hdf5',\n",
       " 'D:\\\\Drohnendaten\\\\10_WZE-UAV\\\\Auswertung_findatree\\\\Datasplit\\\\ROI\\\\rgb-nir\\\\2021\\\\tnr15988_rois.hdf5',\n",
       " 'D:\\\\Drohnendaten\\\\10_WZE-UAV\\\\Auswertung_findatree\\\\Datasplit\\\\ROI\\\\rgb-nir\\\\2021\\\\tnr15998_rois.hdf5',\n",
       " 'D:\\\\Drohnendaten\\\\10_WZE-UAV\\\\Auswertung_findatree\\\\Datasplit\\\\ROI\\\\rgb-nir\\\\2021\\\\tnr16173_rois.hdf5',\n",
       " 'D:\\\\Drohnendaten\\\\10_WZE-UAV\\\\Auswertung_findatree\\\\Datasplit\\\\ROI\\\\rgb-nir\\\\2021\\\\tnr16177_rois.hdf5',\n",
       " 'D:\\\\Drohnendaten\\\\10_WZE-UAV\\\\Auswertung_findatree\\\\Datasplit\\\\ROI\\\\rgb-nir\\\\2021\\\\tnr16181_rois.hdf5',\n",
       " 'D:\\\\Drohnendaten\\\\10_WZE-UAV\\\\Auswertung_findatree\\\\Datasplit\\\\ROI\\\\rgb-nir\\\\2021\\\\tnr16197_rois.hdf5',\n",
       " 'D:\\\\Drohnendaten\\\\10_WZE-UAV\\\\Auswertung_findatree\\\\Datasplit\\\\ROI\\\\rgb-nir\\\\2021\\\\tnr16201_rois.hdf5',\n",
       " 'D:\\\\Drohnendaten\\\\10_WZE-UAV\\\\Auswertung_findatree\\\\Datasplit\\\\ROI\\\\rgb-nir\\\\2021\\\\tnr16205_rois.hdf5',\n",
       " 'D:\\\\Drohnendaten\\\\10_WZE-UAV\\\\Auswertung_findatree\\\\Datasplit\\\\ROI\\\\rgb-nir\\\\2021\\\\tnr16211_rois.hdf5',\n",
       " 'D:\\\\Drohnendaten\\\\10_WZE-UAV\\\\Auswertung_findatree\\\\Datasplit\\\\ROI\\\\rgb-nir\\\\2021\\\\tnr16223_rois.hdf5',\n",
       " 'D:\\\\Drohnendaten\\\\10_WZE-UAV\\\\Auswertung_findatree\\\\Datasplit\\\\ROI\\\\rgb-nir\\\\2021\\\\tnr16227_rois.hdf5',\n",
       " 'D:\\\\Drohnendaten\\\\10_WZE-UAV\\\\Auswertung_findatree\\\\Datasplit\\\\ROI\\\\rgb-nir\\\\2021\\\\tnr16400_rois.hdf5',\n",
       " 'D:\\\\Drohnendaten\\\\10_WZE-UAV\\\\Auswertung_findatree\\\\Datasplit\\\\ROI\\\\rgb-nir\\\\2021\\\\tnr16404_rois.hdf5',\n",
       " 'D:\\\\Drohnendaten\\\\10_WZE-UAV\\\\Auswertung_findatree\\\\Datasplit\\\\ROI\\\\rgb-nir\\\\2021\\\\tnr16412_rois.hdf5',\n",
       " 'D:\\\\Drohnendaten\\\\10_WZE-UAV\\\\Auswertung_findatree\\\\Datasplit\\\\ROI\\\\rgb-nir\\\\2021\\\\tnr16422_rois.hdf5',\n",
       " 'D:\\\\Drohnendaten\\\\10_WZE-UAV\\\\Auswertung_findatree\\\\Datasplit\\\\ROI\\\\rgb-nir\\\\2021\\\\tnr16426_rois.hdf5',\n",
       " 'D:\\\\Drohnendaten\\\\10_WZE-UAV\\\\Auswertung_findatree\\\\Datasplit\\\\ROI\\\\rgb-nir\\\\2021\\\\tnr16624_rois.hdf5',\n",
       " 'D:\\\\Drohnendaten\\\\10_WZE-UAV\\\\Auswertung_findatree\\\\Datasplit\\\\ROI\\\\rgb-nir\\\\2021\\\\tnr16632_rois.hdf5',\n",
       " 'D:\\\\Drohnendaten\\\\10_WZE-UAV\\\\Auswertung_findatree\\\\Datasplit\\\\ROI\\\\rgb-nir\\\\2021\\\\tnr16636_rois.hdf5',\n",
       " 'D:\\\\Drohnendaten\\\\10_WZE-UAV\\\\Auswertung_findatree\\\\Datasplit\\\\ROI\\\\rgb-nir\\\\2021\\\\tnr16639_rois.hdf5',\n",
       " 'D:\\\\Drohnendaten\\\\10_WZE-UAV\\\\Auswertung_findatree\\\\Datasplit\\\\ROI\\\\rgb-nir\\\\2021\\\\tnr16643_rois.hdf5',\n",
       " 'D:\\\\Drohnendaten\\\\10_WZE-UAV\\\\Auswertung_findatree\\\\Datasplit\\\\ROI\\\\rgb-nir\\\\2021\\\\tnr16645_rois.hdf5',\n",
       " 'D:\\\\Drohnendaten\\\\10_WZE-UAV\\\\Auswertung_findatree\\\\Datasplit\\\\ROI\\\\rgb-nir\\\\2021\\\\tnr16649_rois.hdf5',\n",
       " 'D:\\\\Drohnendaten\\\\10_WZE-UAV\\\\Auswertung_findatree\\\\Datasplit\\\\ROI\\\\rgb-nir\\\\2021\\\\tnr16657_rois.hdf5',\n",
       " 'D:\\\\Drohnendaten\\\\10_WZE-UAV\\\\Auswertung_findatree\\\\Datasplit\\\\ROI\\\\rgb-nir\\\\2021\\\\tnr16829_rois.hdf5',\n",
       " 'D:\\\\Drohnendaten\\\\10_WZE-UAV\\\\Auswertung_findatree\\\\Datasplit\\\\ROI\\\\rgb-nir\\\\2021\\\\tnr16833_rois.hdf5',\n",
       " 'D:\\\\Drohnendaten\\\\10_WZE-UAV\\\\Auswertung_findatree\\\\Datasplit\\\\ROI\\\\rgb-nir\\\\2021\\\\tnr16838_rois.hdf5',\n",
       " 'D:\\\\Drohnendaten\\\\10_WZE-UAV\\\\Auswertung_findatree\\\\Datasplit\\\\ROI\\\\rgb-nir\\\\2021\\\\tnr17019_rois.hdf5',\n",
       " 'D:\\\\Drohnendaten\\\\10_WZE-UAV\\\\Auswertung_findatree\\\\Datasplit\\\\ROI\\\\rgb-nir\\\\2021\\\\tnr17032_rois.hdf5',\n",
       " 'D:\\\\Drohnendaten\\\\10_WZE-UAV\\\\Auswertung_findatree\\\\Datasplit\\\\ROI\\\\rgb-nir\\\\2021\\\\tnr17034_rois.hdf5',\n",
       " 'D:\\\\Drohnendaten\\\\10_WZE-UAV\\\\Auswertung_findatree\\\\Datasplit\\\\ROI\\\\rgb-nir\\\\2021\\\\tnr17042_rois.hdf5',\n",
       " 'D:\\\\Drohnendaten\\\\10_WZE-UAV\\\\Auswertung_findatree\\\\Datasplit\\\\ROI\\\\rgb-nir\\\\2021\\\\tnr17339_rois.hdf5',\n",
       " 'D:\\\\Drohnendaten\\\\10_WZE-UAV\\\\Auswertung_findatree\\\\Datasplit\\\\ROI\\\\rgb-nir\\\\2021\\\\tnr182_rois.hdf5',\n",
       " 'D:\\\\Drohnendaten\\\\10_WZE-UAV\\\\Auswertung_findatree\\\\Datasplit\\\\ROI\\\\rgb-nir\\\\2021\\\\tnr185_rois.hdf5',\n",
       " 'D:\\\\Drohnendaten\\\\10_WZE-UAV\\\\Auswertung_findatree\\\\Datasplit\\\\ROI\\\\rgb-nir\\\\2021\\\\tnr188_rois.hdf5',\n",
       " 'D:\\\\Drohnendaten\\\\10_WZE-UAV\\\\Auswertung_findatree\\\\Datasplit\\\\ROI\\\\rgb-nir\\\\2021\\\\tnr1898_rois.hdf5',\n",
       " 'D:\\\\Drohnendaten\\\\10_WZE-UAV\\\\Auswertung_findatree\\\\Datasplit\\\\ROI\\\\rgb-nir\\\\2021\\\\tnr192_rois.hdf5',\n",
       " 'D:\\\\Drohnendaten\\\\10_WZE-UAV\\\\Auswertung_findatree\\\\Datasplit\\\\ROI\\\\rgb-nir\\\\2021\\\\tnr194_rois.hdf5',\n",
       " 'D:\\\\Drohnendaten\\\\10_WZE-UAV\\\\Auswertung_findatree\\\\Datasplit\\\\ROI\\\\rgb-nir\\\\2021\\\\tnr196_rois.hdf5',\n",
       " 'D:\\\\Drohnendaten\\\\10_WZE-UAV\\\\Auswertung_findatree\\\\Datasplit\\\\ROI\\\\rgb-nir\\\\2021\\\\tnr200_rois.hdf5',\n",
       " 'D:\\\\Drohnendaten\\\\10_WZE-UAV\\\\Auswertung_findatree\\\\Datasplit\\\\ROI\\\\rgb-nir\\\\2021\\\\tnr2386_rois.hdf5',\n",
       " 'D:\\\\Drohnendaten\\\\10_WZE-UAV\\\\Auswertung_findatree\\\\Datasplit\\\\ROI\\\\rgb-nir\\\\2021\\\\tnr2399_rois.hdf5',\n",
       " 'D:\\\\Drohnendaten\\\\10_WZE-UAV\\\\Auswertung_findatree\\\\Datasplit\\\\ROI\\\\rgb-nir\\\\2021\\\\tnr2411_rois.hdf5',\n",
       " 'D:\\\\Drohnendaten\\\\10_WZE-UAV\\\\Auswertung_findatree\\\\Datasplit\\\\ROI\\\\rgb-nir\\\\2021\\\\tnr2413_rois.hdf5',\n",
       " 'D:\\\\Drohnendaten\\\\10_WZE-UAV\\\\Auswertung_findatree\\\\Datasplit\\\\ROI\\\\rgb-nir\\\\2021\\\\tnr3398_rois.hdf5',\n",
       " 'D:\\\\Drohnendaten\\\\10_WZE-UAV\\\\Auswertung_findatree\\\\Datasplit\\\\ROI\\\\rgb-nir\\\\2021\\\\tnr3418_rois.hdf5',\n",
       " 'D:\\\\Drohnendaten\\\\10_WZE-UAV\\\\Auswertung_findatree\\\\Datasplit\\\\ROI\\\\rgb-nir\\\\2021\\\\tnr3430_rois.hdf5',\n",
       " 'D:\\\\Drohnendaten\\\\10_WZE-UAV\\\\Auswertung_findatree\\\\Datasplit\\\\ROI\\\\rgb-nir\\\\2021\\\\tnr3930_rois.hdf5',\n",
       " 'D:\\\\Drohnendaten\\\\10_WZE-UAV\\\\Auswertung_findatree\\\\Datasplit\\\\ROI\\\\rgb-nir\\\\2021\\\\tnr4396_rois.hdf5',\n",
       " 'D:\\\\Drohnendaten\\\\10_WZE-UAV\\\\Auswertung_findatree\\\\Datasplit\\\\ROI\\\\rgb-nir\\\\2021\\\\tnr4412_rois.hdf5',\n",
       " 'D:\\\\Drohnendaten\\\\10_WZE-UAV\\\\Auswertung_findatree\\\\Datasplit\\\\ROI\\\\rgb-nir\\\\2021\\\\tnr4436_rois.hdf5',\n",
       " 'D:\\\\Drohnendaten\\\\10_WZE-UAV\\\\Auswertung_findatree\\\\Datasplit\\\\ROI\\\\rgb-nir\\\\2021\\\\tnr4444_rois.hdf5',\n",
       " 'D:\\\\Drohnendaten\\\\10_WZE-UAV\\\\Auswertung_findatree\\\\Datasplit\\\\ROI\\\\rgb-nir\\\\2021\\\\tnr477_rois.hdf5',\n",
       " 'D:\\\\Drohnendaten\\\\10_WZE-UAV\\\\Auswertung_findatree\\\\Datasplit\\\\ROI\\\\rgb-nir\\\\2021\\\\tnr485_rois.hdf5',\n",
       " 'D:\\\\Drohnendaten\\\\10_WZE-UAV\\\\Auswertung_findatree\\\\Datasplit\\\\ROI\\\\rgb-nir\\\\2021\\\\tnr5449_rois.hdf5',\n",
       " 'D:\\\\Drohnendaten\\\\10_WZE-UAV\\\\Auswertung_findatree\\\\Datasplit\\\\ROI\\\\rgb-nir\\\\2021\\\\tnr5930_rois.hdf5',\n",
       " 'D:\\\\Drohnendaten\\\\10_WZE-UAV\\\\Auswertung_findatree\\\\Datasplit\\\\ROI\\\\rgb-nir\\\\2021\\\\tnr5946_rois.hdf5',\n",
       " 'D:\\\\Drohnendaten\\\\10_WZE-UAV\\\\Auswertung_findatree\\\\Datasplit\\\\ROI\\\\rgb-nir\\\\2021\\\\tnr6430_rois.hdf5',\n",
       " 'D:\\\\Drohnendaten\\\\10_WZE-UAV\\\\Auswertung_findatree\\\\Datasplit\\\\ROI\\\\rgb-nir\\\\2021\\\\tnr6462_rois.hdf5',\n",
       " 'D:\\\\Drohnendaten\\\\10_WZE-UAV\\\\Auswertung_findatree\\\\Datasplit\\\\ROI\\\\rgb-nir\\\\2021\\\\tnr6466_rois.hdf5',\n",
       " 'D:\\\\Drohnendaten\\\\10_WZE-UAV\\\\Auswertung_findatree\\\\Datasplit\\\\ROI\\\\rgb-nir\\\\2021\\\\tnr6468_rois.hdf5',\n",
       " 'D:\\\\Drohnendaten\\\\10_WZE-UAV\\\\Auswertung_findatree\\\\Datasplit\\\\ROI\\\\rgb-nir\\\\2021\\\\tnr6470_rois.hdf5',\n",
       " 'D:\\\\Drohnendaten\\\\10_WZE-UAV\\\\Auswertung_findatree\\\\Datasplit\\\\ROI\\\\rgb-nir\\\\2021\\\\tnr6474_rois.hdf5',\n",
       " 'D:\\\\Drohnendaten\\\\10_WZE-UAV\\\\Auswertung_findatree\\\\Datasplit\\\\ROI\\\\rgb-nir\\\\2021\\\\tnr6478_rois.hdf5',\n",
       " 'D:\\\\Drohnendaten\\\\10_WZE-UAV\\\\Auswertung_findatree\\\\Datasplit\\\\ROI\\\\rgb-nir\\\\2021\\\\tnr6969_rois.hdf5',\n",
       " 'D:\\\\Drohnendaten\\\\10_WZE-UAV\\\\Auswertung_findatree\\\\Datasplit\\\\ROI\\\\rgb-nir\\\\2021\\\\tnr6971_rois.hdf5',\n",
       " 'D:\\\\Drohnendaten\\\\10_WZE-UAV\\\\Auswertung_findatree\\\\Datasplit\\\\ROI\\\\rgb-nir\\\\2021\\\\tnr6977_rois.hdf5',\n",
       " 'D:\\\\Drohnendaten\\\\10_WZE-UAV\\\\Auswertung_findatree\\\\Datasplit\\\\ROI\\\\rgb-nir\\\\2021\\\\tnr7002_rois.hdf5',\n",
       " 'D:\\\\Drohnendaten\\\\10_WZE-UAV\\\\Auswertung_findatree\\\\Datasplit\\\\ROI\\\\rgb-nir\\\\2021\\\\tnr7475_rois.hdf5',\n",
       " 'D:\\\\Drohnendaten\\\\10_WZE-UAV\\\\Auswertung_findatree\\\\Datasplit\\\\ROI\\\\rgb-nir\\\\2021\\\\tnr7511_rois.hdf5',\n",
       " 'D:\\\\Drohnendaten\\\\10_WZE-UAV\\\\Auswertung_findatree\\\\Datasplit\\\\ROI\\\\rgb-nir\\\\2021\\\\tnr7517_rois.hdf5',\n",
       " 'D:\\\\Drohnendaten\\\\10_WZE-UAV\\\\Auswertung_findatree\\\\Datasplit\\\\ROI\\\\rgb-nir\\\\2021\\\\tnr7521_rois.hdf5',\n",
       " 'D:\\\\Drohnendaten\\\\10_WZE-UAV\\\\Auswertung_findatree\\\\Datasplit\\\\ROI\\\\rgb-nir\\\\2021\\\\tnr7525_rois.hdf5',\n",
       " 'D:\\\\Drohnendaten\\\\10_WZE-UAV\\\\Auswertung_findatree\\\\Datasplit\\\\ROI\\\\rgb-nir\\\\2021\\\\tnr8032_rois.hdf5',\n",
       " 'D:\\\\Drohnendaten\\\\10_WZE-UAV\\\\Auswertung_findatree\\\\Datasplit\\\\ROI\\\\rgb-nir\\\\2021\\\\tnr8040_rois.hdf5',\n",
       " 'D:\\\\Drohnendaten\\\\10_WZE-UAV\\\\Auswertung_findatree\\\\Datasplit\\\\ROI\\\\rgb-nir\\\\2021\\\\tnr8492_rois.hdf5',\n",
       " 'D:\\\\Drohnendaten\\\\10_WZE-UAV\\\\Auswertung_findatree\\\\Datasplit\\\\ROI\\\\rgb-nir\\\\2021\\\\tnr8494_rois.hdf5',\n",
       " 'D:\\\\Drohnendaten\\\\10_WZE-UAV\\\\Auswertung_findatree\\\\Datasplit\\\\ROI\\\\rgb-nir\\\\2021\\\\tnr8498_rois.hdf5',\n",
       " 'D:\\\\Drohnendaten\\\\10_WZE-UAV\\\\Auswertung_findatree\\\\Datasplit\\\\ROI\\\\rgb-nir\\\\2021\\\\tnr84_rois.hdf5',\n",
       " 'D:\\\\Drohnendaten\\\\10_WZE-UAV\\\\Auswertung_findatree\\\\Datasplit\\\\ROI\\\\rgb-nir\\\\2021\\\\tnr8532_rois.hdf5',\n",
       " 'D:\\\\Drohnendaten\\\\10_WZE-UAV\\\\Auswertung_findatree\\\\Datasplit\\\\ROI\\\\rgb-nir\\\\2021\\\\tnr86_rois.hdf5',\n",
       " 'D:\\\\Drohnendaten\\\\10_WZE-UAV\\\\Auswertung_findatree\\\\Datasplit\\\\ROI\\\\rgb-nir\\\\2021\\\\tnr8973_rois.hdf5',\n",
       " 'D:\\\\Drohnendaten\\\\10_WZE-UAV\\\\Auswertung_findatree\\\\Datasplit\\\\ROI\\\\rgb-nir\\\\2021\\\\tnr8979_rois.hdf5',\n",
       " 'D:\\\\Drohnendaten\\\\10_WZE-UAV\\\\Auswertung_findatree\\\\Datasplit\\\\ROI\\\\rgb-nir\\\\2021\\\\tnr8981_rois.hdf5',\n",
       " 'D:\\\\Drohnendaten\\\\10_WZE-UAV\\\\Auswertung_findatree\\\\Datasplit\\\\ROI\\\\rgb-nir\\\\2021\\\\tnr8989_rois.hdf5',\n",
       " 'D:\\\\Drohnendaten\\\\10_WZE-UAV\\\\Auswertung_findatree\\\\Datasplit\\\\ROI\\\\rgb-nir\\\\2021\\\\tnr9025_rois.hdf5',\n",
       " 'D:\\\\Drohnendaten\\\\10_WZE-UAV\\\\Auswertung_findatree\\\\Datasplit\\\\ROI\\\\rgb-nir\\\\2021\\\\tnr9464_rois.hdf5',\n",
       " 'D:\\\\Drohnendaten\\\\10_WZE-UAV\\\\Auswertung_findatree\\\\Datasplit\\\\ROI\\\\rgb-nir\\\\2021\\\\tnr9468_rois.hdf5',\n",
       " 'D:\\\\Drohnendaten\\\\10_WZE-UAV\\\\Auswertung_findatree\\\\Datasplit\\\\ROI\\\\rgb-nir\\\\2021\\\\tnr9472_rois.hdf5',\n",
       " 'D:\\\\Drohnendaten\\\\10_WZE-UAV\\\\Auswertung_findatree\\\\Datasplit\\\\ROI\\\\rgb-nir\\\\2021\\\\tnr9477_rois.hdf5',\n",
       " 'D:\\\\Drohnendaten\\\\10_WZE-UAV\\\\Auswertung_findatree\\\\Datasplit\\\\ROI\\\\rgb-nir\\\\2021\\\\tnr9479_rois.hdf5',\n",
       " 'D:\\\\Drohnendaten\\\\10_WZE-UAV\\\\Auswertung_findatree\\\\Datasplit\\\\ROI\\\\rgb-nir\\\\2021\\\\tnr9489_rois.hdf5',\n",
       " 'D:\\\\Drohnendaten\\\\10_WZE-UAV\\\\Auswertung_findatree\\\\Datasplit\\\\ROI\\\\rgb-nir\\\\2021\\\\tnr9493_rois.hdf5',\n",
       " 'D:\\\\Drohnendaten\\\\10_WZE-UAV\\\\Auswertung_findatree\\\\Datasplit\\\\ROI\\\\rgb-nir\\\\2021\\\\tnr9509_rois.hdf5',\n",
       " 'D:\\\\Drohnendaten\\\\10_WZE-UAV\\\\Auswertung_findatree\\\\Datasplit\\\\ROI\\\\rgb-nir\\\\2021\\\\tnr9515_rois.hdf5',\n",
       " 'D:\\\\Drohnendaten\\\\10_WZE-UAV\\\\Auswertung_findatree\\\\Datasplit\\\\ROI\\\\rgb-nir\\\\2021\\\\tnr9517_rois.hdf5',\n",
       " 'D:\\\\Drohnendaten\\\\10_WZE-UAV\\\\Auswertung_findatree\\\\Datasplit\\\\ROI\\\\rgb-nir\\\\2021\\\\tnr9948_rois.hdf5',\n",
       " 'D:\\\\Drohnendaten\\\\10_WZE-UAV\\\\Auswertung_findatree\\\\Datasplit\\\\ROI\\\\rgb-nir\\\\2021\\\\tnr9958_rois.hdf5',\n",
       " 'D:\\\\Drohnendaten\\\\10_WZE-UAV\\\\Auswertung_findatree\\\\Datasplit\\\\ROI\\\\rgb-nir\\\\2021\\\\tnr9966_rois.hdf5',\n",
       " 'D:\\\\Drohnendaten\\\\10_WZE-UAV\\\\Auswertung_findatree\\\\Datasplit\\\\ROI\\\\rgb-nir\\\\2021\\\\tnr9973_rois.hdf5',\n",
       " 'D:\\\\Drohnendaten\\\\10_WZE-UAV\\\\Auswertung_findatree\\\\Datasplit\\\\ROI\\\\rgb-nir\\\\2021\\\\tnr9980_rois.hdf5',\n",
       " 'D:\\\\Drohnendaten\\\\10_WZE-UAV\\\\Auswertung_findatree\\\\Datasplit\\\\ROI\\\\rgb-nir\\\\2021\\\\tnr9984_rois.hdf5',\n",
       " 'D:\\\\Drohnendaten\\\\10_WZE-UAV\\\\Auswertung_findatree\\\\Datasplit\\\\ROI\\\\rgb-nir\\\\2021\\\\tnr9986_rois.hdf5',\n",
       " 'D:\\\\Drohnendaten\\\\10_WZE-UAV\\\\Auswertung_findatree\\\\Datasplit\\\\ROI\\\\rgb-nir\\\\2021\\\\tnr9988_rois.hdf5',\n",
       " 'D:\\\\Drohnendaten\\\\10_WZE-UAV\\\\Auswertung_findatree\\\\Datasplit\\\\ROI\\\\rgb-nir\\\\2021\\\\tnr9996_rois.hdf5',\n",
       " 'D:\\\\Drohnendaten\\\\10_WZE-UAV\\\\Auswertung_findatree\\\\Datasplit\\\\ROI\\\\rgb-nir\\\\2022\\\\tnr10527_rois.hdf5',\n",
       " 'D:\\\\Drohnendaten\\\\10_WZE-UAV\\\\Auswertung_findatree\\\\Datasplit\\\\ROI\\\\rgb-nir\\\\2022\\\\tnr10533_rois.hdf5',\n",
       " 'D:\\\\Drohnendaten\\\\10_WZE-UAV\\\\Auswertung_findatree\\\\Datasplit\\\\ROI\\\\rgb-nir\\\\2022\\\\tnr10545_rois.hdf5',\n",
       " 'D:\\\\Drohnendaten\\\\10_WZE-UAV\\\\Auswertung_findatree\\\\Datasplit\\\\ROI\\\\rgb-nir\\\\2022\\\\tnr10547_rois.hdf5',\n",
       " 'D:\\\\Drohnendaten\\\\10_WZE-UAV\\\\Auswertung_findatree\\\\Datasplit\\\\ROI\\\\rgb-nir\\\\2022\\\\tnr10912_rois.hdf5',\n",
       " 'D:\\\\Drohnendaten\\\\10_WZE-UAV\\\\Auswertung_findatree\\\\Datasplit\\\\ROI\\\\rgb-nir\\\\2022\\\\tnr11032_rois.hdf5',\n",
       " 'D:\\\\Drohnendaten\\\\10_WZE-UAV\\\\Auswertung_findatree\\\\Datasplit\\\\ROI\\\\rgb-nir\\\\2022\\\\tnr11040_rois.hdf5',\n",
       " 'D:\\\\Drohnendaten\\\\10_WZE-UAV\\\\Auswertung_findatree\\\\Datasplit\\\\ROI\\\\rgb-nir\\\\2022\\\\tnr11044_rois.hdf5',\n",
       " 'D:\\\\Drohnendaten\\\\10_WZE-UAV\\\\Auswertung_findatree\\\\Datasplit\\\\ROI\\\\rgb-nir\\\\2022\\\\tnr11048_rois.hdf5',\n",
       " 'D:\\\\Drohnendaten\\\\10_WZE-UAV\\\\Auswertung_findatree\\\\Datasplit\\\\ROI\\\\rgb-nir\\\\2022\\\\tnr11052_rois.hdf5',\n",
       " 'D:\\\\Drohnendaten\\\\10_WZE-UAV\\\\Auswertung_findatree\\\\Datasplit\\\\ROI\\\\rgb-nir\\\\2022\\\\tnr11056_rois.hdf5',\n",
       " 'D:\\\\Drohnendaten\\\\10_WZE-UAV\\\\Auswertung_findatree\\\\Datasplit\\\\ROI\\\\rgb-nir\\\\2022\\\\tnr11078_rois.hdf5',\n",
       " 'D:\\\\Drohnendaten\\\\10_WZE-UAV\\\\Auswertung_findatree\\\\Datasplit\\\\ROI\\\\rgb-nir\\\\2022\\\\tnr11080_rois.hdf5',\n",
       " 'D:\\\\Drohnendaten\\\\10_WZE-UAV\\\\Auswertung_findatree\\\\Datasplit\\\\ROI\\\\rgb-nir\\\\2022\\\\tnr11090_rois.hdf5',\n",
       " 'D:\\\\Drohnendaten\\\\10_WZE-UAV\\\\Auswertung_findatree\\\\Datasplit\\\\ROI\\\\rgb-nir\\\\2022\\\\tnr11092_rois.hdf5',\n",
       " 'D:\\\\Drohnendaten\\\\10_WZE-UAV\\\\Auswertung_findatree\\\\Datasplit\\\\ROI\\\\rgb-nir\\\\2022\\\\tnr11179_rois.hdf5',\n",
       " 'D:\\\\Drohnendaten\\\\10_WZE-UAV\\\\Auswertung_findatree\\\\Datasplit\\\\ROI\\\\rgb-nir\\\\2022\\\\tnr11189_rois.hdf5',\n",
       " 'D:\\\\Drohnendaten\\\\10_WZE-UAV\\\\Auswertung_findatree\\\\Datasplit\\\\ROI\\\\rgb-nir\\\\2022\\\\tnr11325_rois.hdf5',\n",
       " 'D:\\\\Drohnendaten\\\\10_WZE-UAV\\\\Auswertung_findatree\\\\Datasplit\\\\ROI\\\\rgb-nir\\\\2022\\\\tnr11453_rois.hdf5',\n",
       " 'D:\\\\Drohnendaten\\\\10_WZE-UAV\\\\Auswertung_findatree\\\\Datasplit\\\\ROI\\\\rgb-nir\\\\2022\\\\tnr11459_rois.hdf5',\n",
       " 'D:\\\\Drohnendaten\\\\10_WZE-UAV\\\\Auswertung_findatree\\\\Datasplit\\\\ROI\\\\rgb-nir\\\\2022\\\\tnr11576_rois.hdf5',\n",
       " 'D:\\\\Drohnendaten\\\\10_WZE-UAV\\\\Auswertung_findatree\\\\Datasplit\\\\ROI\\\\rgb-nir\\\\2022\\\\tnr11581_rois.hdf5',\n",
       " 'D:\\\\Drohnendaten\\\\10_WZE-UAV\\\\Auswertung_findatree\\\\Datasplit\\\\ROI\\\\rgb-nir\\\\2022\\\\tnr11597_rois.hdf5',\n",
       " 'D:\\\\Drohnendaten\\\\10_WZE-UAV\\\\Auswertung_findatree\\\\Datasplit\\\\ROI\\\\rgb-nir\\\\2022\\\\tnr11601_rois.hdf5',\n",
       " 'D:\\\\Drohnendaten\\\\10_WZE-UAV\\\\Auswertung_findatree\\\\Datasplit\\\\ROI\\\\rgb-nir\\\\2022\\\\tnr11622_rois.hdf5',\n",
       " 'D:\\\\Drohnendaten\\\\10_WZE-UAV\\\\Auswertung_findatree\\\\Datasplit\\\\ROI\\\\rgb-nir\\\\2022\\\\tnr11626_rois.hdf5',\n",
       " 'D:\\\\Drohnendaten\\\\10_WZE-UAV\\\\Auswertung_findatree\\\\Datasplit\\\\ROI\\\\rgb-nir\\\\2022\\\\tnr11638_rois.hdf5',\n",
       " 'D:\\\\Drohnendaten\\\\10_WZE-UAV\\\\Auswertung_findatree\\\\Datasplit\\\\ROI\\\\rgb-nir\\\\2022\\\\tnr11640_rois.hdf5',\n",
       " 'D:\\\\Drohnendaten\\\\10_WZE-UAV\\\\Auswertung_findatree\\\\Datasplit\\\\ROI\\\\rgb-nir\\\\2022\\\\tnr11727_rois.hdf5',\n",
       " 'D:\\\\Drohnendaten\\\\10_WZE-UAV\\\\Auswertung_findatree\\\\Datasplit\\\\ROI\\\\rgb-nir\\\\2022\\\\tnr11733_rois.hdf5',\n",
       " 'D:\\\\Drohnendaten\\\\10_WZE-UAV\\\\Auswertung_findatree\\\\Datasplit\\\\ROI\\\\rgb-nir\\\\2022\\\\tnr11866_rois.hdf5',\n",
       " 'D:\\\\Drohnendaten\\\\10_WZE-UAV\\\\Auswertung_findatree\\\\Datasplit\\\\ROI\\\\rgb-nir\\\\2022\\\\tnr11874_rois.hdf5',\n",
       " 'D:\\\\Drohnendaten\\\\10_WZE-UAV\\\\Auswertung_findatree\\\\Datasplit\\\\ROI\\\\rgb-nir\\\\2022\\\\tnr11878_rois.hdf5',\n",
       " 'D:\\\\Drohnendaten\\\\10_WZE-UAV\\\\Auswertung_findatree\\\\Datasplit\\\\ROI\\\\rgb-nir\\\\2022\\\\tnr12013_rois.hdf5',\n",
       " 'D:\\\\Drohnendaten\\\\10_WZE-UAV\\\\Auswertung_findatree\\\\Datasplit\\\\ROI\\\\rgb-nir\\\\2022\\\\tnr12019_rois.hdf5',\n",
       " 'D:\\\\Drohnendaten\\\\10_WZE-UAV\\\\Auswertung_findatree\\\\Datasplit\\\\ROI\\\\rgb-nir\\\\2022\\\\tnr12120_rois.hdf5',\n",
       " 'D:\\\\Drohnendaten\\\\10_WZE-UAV\\\\Auswertung_findatree\\\\Datasplit\\\\ROI\\\\rgb-nir\\\\2022\\\\tnr12124_rois.hdf5',\n",
       " 'D:\\\\Drohnendaten\\\\10_WZE-UAV\\\\Auswertung_findatree\\\\Datasplit\\\\ROI\\\\rgb-nir\\\\2022\\\\tnr12153_rois.hdf5',\n",
       " 'D:\\\\Drohnendaten\\\\10_WZE-UAV\\\\Auswertung_findatree\\\\Datasplit\\\\ROI\\\\rgb-nir\\\\2022\\\\tnr12161_rois.hdf5',\n",
       " 'D:\\\\Drohnendaten\\\\10_WZE-UAV\\\\Auswertung_findatree\\\\Datasplit\\\\ROI\\\\rgb-nir\\\\2022\\\\tnr12169_rois.hdf5',\n",
       " 'D:\\\\Drohnendaten\\\\10_WZE-UAV\\\\Auswertung_findatree\\\\Datasplit\\\\ROI\\\\rgb-nir\\\\2022\\\\tnr12179_rois.hdf5',\n",
       " 'D:\\\\Drohnendaten\\\\10_WZE-UAV\\\\Auswertung_findatree\\\\Datasplit\\\\ROI\\\\rgb-nir\\\\2022\\\\tnr12285_rois.hdf5',\n",
       " 'D:\\\\Drohnendaten\\\\10_WZE-UAV\\\\Auswertung_findatree\\\\Datasplit\\\\ROI\\\\rgb-nir\\\\2022\\\\tnr12426_rois.hdf5',\n",
       " 'D:\\\\Drohnendaten\\\\10_WZE-UAV\\\\Auswertung_findatree\\\\Datasplit\\\\ROI\\\\rgb-nir\\\\2022\\\\tnr12549_rois.hdf5',\n",
       " 'D:\\\\Drohnendaten\\\\10_WZE-UAV\\\\Auswertung_findatree\\\\Datasplit\\\\ROI\\\\rgb-nir\\\\2022\\\\tnr12553_rois.hdf5',\n",
       " 'D:\\\\Drohnendaten\\\\10_WZE-UAV\\\\Auswertung_findatree\\\\Datasplit\\\\ROI\\\\rgb-nir\\\\2022\\\\tnr12694_rois.hdf5',\n",
       " 'D:\\\\Drohnendaten\\\\10_WZE-UAV\\\\Auswertung_findatree\\\\Datasplit\\\\ROI\\\\rgb-nir\\\\2022\\\\tnr12702_rois.hdf5',\n",
       " 'D:\\\\Drohnendaten\\\\10_WZE-UAV\\\\Auswertung_findatree\\\\Datasplit\\\\ROI\\\\rgb-nir\\\\2022\\\\tnr12715_rois.hdf5',\n",
       " 'D:\\\\Drohnendaten\\\\10_WZE-UAV\\\\Auswertung_findatree\\\\Datasplit\\\\ROI\\\\rgb-nir\\\\2022\\\\tnr12717_rois.hdf5',\n",
       " 'D:\\\\Drohnendaten\\\\10_WZE-UAV\\\\Auswertung_findatree\\\\Datasplit\\\\ROI\\\\rgb-nir\\\\2022\\\\tnr12719_rois.hdf5',\n",
       " 'D:\\\\Drohnendaten\\\\10_WZE-UAV\\\\Auswertung_findatree\\\\Datasplit\\\\ROI\\\\rgb-nir\\\\2022\\\\tnr12950_rois.hdf5',\n",
       " 'D:\\\\Drohnendaten\\\\10_WZE-UAV\\\\Auswertung_findatree\\\\Datasplit\\\\ROI\\\\rgb-nir\\\\2022\\\\tnr12960_rois.hdf5',\n",
       " 'D:\\\\Drohnendaten\\\\10_WZE-UAV\\\\Auswertung_findatree\\\\Datasplit\\\\ROI\\\\rgb-nir\\\\2022\\\\tnr13212_rois.hdf5',\n",
       " 'D:\\\\Drohnendaten\\\\10_WZE-UAV\\\\Auswertung_findatree\\\\Datasplit\\\\ROI\\\\rgb-nir\\\\2022\\\\tnr13233_rois.hdf5',\n",
       " 'D:\\\\Drohnendaten\\\\10_WZE-UAV\\\\Auswertung_findatree\\\\Datasplit\\\\ROI\\\\rgb-nir\\\\2022\\\\tnr13259_rois.hdf5',\n",
       " 'D:\\\\Drohnendaten\\\\10_WZE-UAV\\\\Auswertung_findatree\\\\Datasplit\\\\ROI\\\\rgb-nir\\\\2022\\\\tnr13508_rois.hdf5',\n",
       " 'D:\\\\Drohnendaten\\\\10_WZE-UAV\\\\Auswertung_findatree\\\\Datasplit\\\\ROI\\\\rgb-nir\\\\2022\\\\tnr13758_rois.hdf5',\n",
       " 'D:\\\\Drohnendaten\\\\10_WZE-UAV\\\\Auswertung_findatree\\\\Datasplit\\\\ROI\\\\rgb-nir\\\\2022\\\\tnr13766_rois.hdf5',\n",
       " 'D:\\\\Drohnendaten\\\\10_WZE-UAV\\\\Auswertung_findatree\\\\Datasplit\\\\ROI\\\\rgb-nir\\\\2022\\\\tnr13779_rois.hdf5',\n",
       " 'D:\\\\Drohnendaten\\\\10_WZE-UAV\\\\Auswertung_findatree\\\\Datasplit\\\\ROI\\\\rgb-nir\\\\2022\\\\tnr13819_rois.hdf5',\n",
       " 'D:\\\\Drohnendaten\\\\10_WZE-UAV\\\\Auswertung_findatree\\\\Datasplit\\\\ROI\\\\rgb-nir\\\\2022\\\\tnr13825_rois.hdf5',\n",
       " 'D:\\\\Drohnendaten\\\\10_WZE-UAV\\\\Auswertung_findatree\\\\Datasplit\\\\ROI\\\\rgb-nir\\\\2022\\\\tnr13898_rois.hdf5',\n",
       " 'D:\\\\Drohnendaten\\\\10_WZE-UAV\\\\Auswertung_findatree\\\\Datasplit\\\\ROI\\\\rgb-nir\\\\2022\\\\tnr13922_rois.hdf5',\n",
       " 'D:\\\\Drohnendaten\\\\10_WZE-UAV\\\\Auswertung_findatree\\\\Datasplit\\\\ROI\\\\rgb-nir\\\\2022\\\\tnr14156_rois.hdf5',\n",
       " 'D:\\\\Drohnendaten\\\\10_WZE-UAV\\\\Auswertung_findatree\\\\Datasplit\\\\ROI\\\\rgb-nir\\\\2022\\\\tnr14293_rois.hdf5',\n",
       " 'D:\\\\Drohnendaten\\\\10_WZE-UAV\\\\Auswertung_findatree\\\\Datasplit\\\\ROI\\\\rgb-nir\\\\2022\\\\tnr14327_rois.hdf5',\n",
       " 'D:\\\\Drohnendaten\\\\10_WZE-UAV\\\\Auswertung_findatree\\\\Datasplit\\\\ROI\\\\rgb-nir\\\\2022\\\\tnr14666_rois.hdf5',\n",
       " 'D:\\\\Drohnendaten\\\\10_WZE-UAV\\\\Auswertung_findatree\\\\Datasplit\\\\ROI\\\\rgb-nir\\\\2022\\\\tnr14723_rois.hdf5',\n",
       " 'D:\\\\Drohnendaten\\\\10_WZE-UAV\\\\Auswertung_findatree\\\\Datasplit\\\\ROI\\\\rgb-nir\\\\2022\\\\tnr14727_rois.hdf5',\n",
       " 'D:\\\\Drohnendaten\\\\10_WZE-UAV\\\\Auswertung_findatree\\\\Datasplit\\\\ROI\\\\rgb-nir\\\\2022\\\\tnr14732_rois.hdf5',\n",
       " 'D:\\\\Drohnendaten\\\\10_WZE-UAV\\\\Auswertung_findatree\\\\Datasplit\\\\ROI\\\\rgb-nir\\\\2022\\\\tnr14781_rois.hdf5',\n",
       " 'D:\\\\Drohnendaten\\\\10_WZE-UAV\\\\Auswertung_findatree\\\\Datasplit\\\\ROI\\\\rgb-nir\\\\2022\\\\tnr14877_rois.hdf5',\n",
       " 'D:\\\\Drohnendaten\\\\10_WZE-UAV\\\\Auswertung_findatree\\\\Datasplit\\\\ROI\\\\rgb-nir\\\\2022\\\\tnr14879_rois.hdf5',\n",
       " 'D:\\\\Drohnendaten\\\\10_WZE-UAV\\\\Auswertung_findatree\\\\Datasplit\\\\ROI\\\\rgb-nir\\\\2022\\\\tnr14887_rois.hdf5',\n",
       " 'D:\\\\Drohnendaten\\\\10_WZE-UAV\\\\Auswertung_findatree\\\\Datasplit\\\\ROI\\\\rgb-nir\\\\2022\\\\tnr15020_rois.hdf5',\n",
       " 'D:\\\\Drohnendaten\\\\10_WZE-UAV\\\\Auswertung_findatree\\\\Datasplit\\\\ROI\\\\rgb-nir\\\\2022\\\\tnr15027_rois.hdf5',\n",
       " 'D:\\\\Drohnendaten\\\\10_WZE-UAV\\\\Auswertung_findatree\\\\Datasplit\\\\ROI\\\\rgb-nir\\\\2022\\\\tnr15031_rois.hdf5',\n",
       " 'D:\\\\Drohnendaten\\\\10_WZE-UAV\\\\Auswertung_findatree\\\\Datasplit\\\\ROI\\\\rgb-nir\\\\2022\\\\tnr15035_rois.hdf5',\n",
       " 'D:\\\\Drohnendaten\\\\10_WZE-UAV\\\\Auswertung_findatree\\\\Datasplit\\\\ROI\\\\rgb-nir\\\\2022\\\\tnr15039_rois.hdf5',\n",
       " 'D:\\\\Drohnendaten\\\\10_WZE-UAV\\\\Auswertung_findatree\\\\Datasplit\\\\ROI\\\\rgb-nir\\\\2022\\\\tnr15043_rois.hdf5',\n",
       " 'D:\\\\Drohnendaten\\\\10_WZE-UAV\\\\Auswertung_findatree\\\\Datasplit\\\\ROI\\\\rgb-nir\\\\2022\\\\tnr15046_rois.hdf5',\n",
       " 'D:\\\\Drohnendaten\\\\10_WZE-UAV\\\\Auswertung_findatree\\\\Datasplit\\\\ROI\\\\rgb-nir\\\\2022\\\\tnr15050_rois.hdf5',\n",
       " 'D:\\\\Drohnendaten\\\\10_WZE-UAV\\\\Auswertung_findatree\\\\Datasplit\\\\ROI\\\\rgb-nir\\\\2022\\\\tnr15101_rois.hdf5',\n",
       " 'D:\\\\Drohnendaten\\\\10_WZE-UAV\\\\Auswertung_findatree\\\\Datasplit\\\\ROI\\\\rgb-nir\\\\2022\\\\tnr15273_rois.hdf5',\n",
       " 'D:\\\\Drohnendaten\\\\10_WZE-UAV\\\\Auswertung_findatree\\\\Datasplit\\\\ROI\\\\rgb-nir\\\\2022\\\\tnr15277_rois.hdf5',\n",
       " 'D:\\\\Drohnendaten\\\\10_WZE-UAV\\\\Auswertung_findatree\\\\Datasplit\\\\ROI\\\\rgb-nir\\\\2022\\\\tnr15297_rois.hdf5',\n",
       " 'D:\\\\Drohnendaten\\\\10_WZE-UAV\\\\Auswertung_findatree\\\\Datasplit\\\\ROI\\\\rgb-nir\\\\2022\\\\tnr15299_rois.hdf5',\n",
       " 'D:\\\\Drohnendaten\\\\10_WZE-UAV\\\\Auswertung_findatree\\\\Datasplit\\\\ROI\\\\rgb-nir\\\\2022\\\\tnr15301_rois.hdf5',\n",
       " 'D:\\\\Drohnendaten\\\\10_WZE-UAV\\\\Auswertung_findatree\\\\Datasplit\\\\ROI\\\\rgb-nir\\\\2022\\\\tnr15303_rois.hdf5',\n",
       " 'D:\\\\Drohnendaten\\\\10_WZE-UAV\\\\Auswertung_findatree\\\\Datasplit\\\\ROI\\\\rgb-nir\\\\2022\\\\tnr15306_rois.hdf5',\n",
       " 'D:\\\\Drohnendaten\\\\10_WZE-UAV\\\\Auswertung_findatree\\\\Datasplit\\\\ROI\\\\rgb-nir\\\\2022\\\\tnr15311_rois.hdf5',\n",
       " 'D:\\\\Drohnendaten\\\\10_WZE-UAV\\\\Auswertung_findatree\\\\Datasplit\\\\ROI\\\\rgb-nir\\\\2022\\\\tnr15313_rois.hdf5',\n",
       " 'D:\\\\Drohnendaten\\\\10_WZE-UAV\\\\Auswertung_findatree\\\\Datasplit\\\\ROI\\\\rgb-nir\\\\2022\\\\tnr15319_rois.hdf5',\n",
       " 'D:\\\\Drohnendaten\\\\10_WZE-UAV\\\\Auswertung_findatree\\\\Datasplit\\\\ROI\\\\rgb-nir\\\\2022\\\\tnr15327_rois.hdf5',\n",
       " 'D:\\\\Drohnendaten\\\\10_WZE-UAV\\\\Auswertung_findatree\\\\Datasplit\\\\ROI\\\\rgb-nir\\\\2022\\\\tnr15519_rois.hdf5',\n",
       " 'D:\\\\Drohnendaten\\\\10_WZE-UAV\\\\Auswertung_findatree\\\\Datasplit\\\\ROI\\\\rgb-nir\\\\2022\\\\tnr15521_rois.hdf5',\n",
       " 'D:\\\\Drohnendaten\\\\10_WZE-UAV\\\\Auswertung_findatree\\\\Datasplit\\\\ROI\\\\rgb-nir\\\\2022\\\\tnr15531_rois.hdf5',\n",
       " 'D:\\\\Drohnendaten\\\\10_WZE-UAV\\\\Auswertung_findatree\\\\Datasplit\\\\ROI\\\\rgb-nir\\\\2022\\\\tnr15537_rois.hdf5',\n",
       " 'D:\\\\Drohnendaten\\\\10_WZE-UAV\\\\Auswertung_findatree\\\\Datasplit\\\\ROI\\\\rgb-nir\\\\2022\\\\tnr15730_rois.hdf5',\n",
       " 'D:\\\\Drohnendaten\\\\10_WZE-UAV\\\\Auswertung_findatree\\\\Datasplit\\\\ROI\\\\rgb-nir\\\\2022\\\\tnr15736_rois.hdf5',\n",
       " 'D:\\\\Drohnendaten\\\\10_WZE-UAV\\\\Auswertung_findatree\\\\Datasplit\\\\ROI\\\\rgb-nir\\\\2022\\\\tnr15746_rois.hdf5',\n",
       " 'D:\\\\Drohnendaten\\\\10_WZE-UAV\\\\Auswertung_findatree\\\\Datasplit\\\\ROI\\\\rgb-nir\\\\2022\\\\tnr15748_rois.hdf5',\n",
       " 'D:\\\\Drohnendaten\\\\10_WZE-UAV\\\\Auswertung_findatree\\\\Datasplit\\\\ROI\\\\rgb-nir\\\\2022\\\\tnr15780_rois.hdf5',\n",
       " 'D:\\\\Drohnendaten\\\\10_WZE-UAV\\\\Auswertung_findatree\\\\Datasplit\\\\ROI\\\\rgb-nir\\\\2022\\\\tnr15966_rois.hdf5',\n",
       " 'D:\\\\Drohnendaten\\\\10_WZE-UAV\\\\Auswertung_findatree\\\\Datasplit\\\\ROI\\\\rgb-nir\\\\2022\\\\tnr15974_rois.hdf5',\n",
       " 'D:\\\\Drohnendaten\\\\10_WZE-UAV\\\\Auswertung_findatree\\\\Datasplit\\\\ROI\\\\rgb-nir\\\\2022\\\\tnr15986_rois.hdf5',\n",
       " 'D:\\\\Drohnendaten\\\\10_WZE-UAV\\\\Auswertung_findatree\\\\Datasplit\\\\ROI\\\\rgb-nir\\\\2022\\\\tnr15988_rois.hdf5',\n",
       " 'D:\\\\Drohnendaten\\\\10_WZE-UAV\\\\Auswertung_findatree\\\\Datasplit\\\\ROI\\\\rgb-nir\\\\2022\\\\tnr15998_rois.hdf5',\n",
       " 'D:\\\\Drohnendaten\\\\10_WZE-UAV\\\\Auswertung_findatree\\\\Datasplit\\\\ROI\\\\rgb-nir\\\\2022\\\\tnr16173_rois.hdf5',\n",
       " 'D:\\\\Drohnendaten\\\\10_WZE-UAV\\\\Auswertung_findatree\\\\Datasplit\\\\ROI\\\\rgb-nir\\\\2022\\\\tnr16181_rois.hdf5',\n",
       " 'D:\\\\Drohnendaten\\\\10_WZE-UAV\\\\Auswertung_findatree\\\\Datasplit\\\\ROI\\\\rgb-nir\\\\2022\\\\tnr16193_rois.hdf5',\n",
       " 'D:\\\\Drohnendaten\\\\10_WZE-UAV\\\\Auswertung_findatree\\\\Datasplit\\\\ROI\\\\rgb-nir\\\\2022\\\\tnr16197_rois.hdf5',\n",
       " 'D:\\\\Drohnendaten\\\\10_WZE-UAV\\\\Auswertung_findatree\\\\Datasplit\\\\ROI\\\\rgb-nir\\\\2022\\\\tnr16205_rois.hdf5',\n",
       " 'D:\\\\Drohnendaten\\\\10_WZE-UAV\\\\Auswertung_findatree\\\\Datasplit\\\\ROI\\\\rgb-nir\\\\2022\\\\tnr16211_rois.hdf5',\n",
       " 'D:\\\\Drohnendaten\\\\10_WZE-UAV\\\\Auswertung_findatree\\\\Datasplit\\\\ROI\\\\rgb-nir\\\\2022\\\\tnr16223_rois.hdf5',\n",
       " 'D:\\\\Drohnendaten\\\\10_WZE-UAV\\\\Auswertung_findatree\\\\Datasplit\\\\ROI\\\\rgb-nir\\\\2022\\\\tnr16227_rois.hdf5',\n",
       " 'D:\\\\Drohnendaten\\\\10_WZE-UAV\\\\Auswertung_findatree\\\\Datasplit\\\\ROI\\\\rgb-nir\\\\2022\\\\tnr16400_rois.hdf5',\n",
       " 'D:\\\\Drohnendaten\\\\10_WZE-UAV\\\\Auswertung_findatree\\\\Datasplit\\\\ROI\\\\rgb-nir\\\\2022\\\\tnr16404_rois.hdf5',\n",
       " 'D:\\\\Drohnendaten\\\\10_WZE-UAV\\\\Auswertung_findatree\\\\Datasplit\\\\ROI\\\\rgb-nir\\\\2022\\\\tnr16412_rois.hdf5',\n",
       " 'D:\\\\Drohnendaten\\\\10_WZE-UAV\\\\Auswertung_findatree\\\\Datasplit\\\\ROI\\\\rgb-nir\\\\2022\\\\tnr16422_rois.hdf5',\n",
       " 'D:\\\\Drohnendaten\\\\10_WZE-UAV\\\\Auswertung_findatree\\\\Datasplit\\\\ROI\\\\rgb-nir\\\\2022\\\\tnr16426_rois.hdf5',\n",
       " 'D:\\\\Drohnendaten\\\\10_WZE-UAV\\\\Auswertung_findatree\\\\Datasplit\\\\ROI\\\\rgb-nir\\\\2022\\\\tnr16620_rois.hdf5',\n",
       " 'D:\\\\Drohnendaten\\\\10_WZE-UAV\\\\Auswertung_findatree\\\\Datasplit\\\\ROI\\\\rgb-nir\\\\2022\\\\tnr16624_rois.hdf5',\n",
       " 'D:\\\\Drohnendaten\\\\10_WZE-UAV\\\\Auswertung_findatree\\\\Datasplit\\\\ROI\\\\rgb-nir\\\\2022\\\\tnr16632_rois.hdf5',\n",
       " 'D:\\\\Drohnendaten\\\\10_WZE-UAV\\\\Auswertung_findatree\\\\Datasplit\\\\ROI\\\\rgb-nir\\\\2022\\\\tnr16636_rois.hdf5',\n",
       " 'D:\\\\Drohnendaten\\\\10_WZE-UAV\\\\Auswertung_findatree\\\\Datasplit\\\\ROI\\\\rgb-nir\\\\2022\\\\tnr16639_rois.hdf5',\n",
       " 'D:\\\\Drohnendaten\\\\10_WZE-UAV\\\\Auswertung_findatree\\\\Datasplit\\\\ROI\\\\rgb-nir\\\\2022\\\\tnr16643_rois.hdf5',\n",
       " 'D:\\\\Drohnendaten\\\\10_WZE-UAV\\\\Auswertung_findatree\\\\Datasplit\\\\ROI\\\\rgb-nir\\\\2022\\\\tnr16645_rois.hdf5',\n",
       " 'D:\\\\Drohnendaten\\\\10_WZE-UAV\\\\Auswertung_findatree\\\\Datasplit\\\\ROI\\\\rgb-nir\\\\2022\\\\tnr16649_rois.hdf5',\n",
       " 'D:\\\\Drohnendaten\\\\10_WZE-UAV\\\\Auswertung_findatree\\\\Datasplit\\\\ROI\\\\rgb-nir\\\\2022\\\\tnr16657_rois.hdf5',\n",
       " 'D:\\\\Drohnendaten\\\\10_WZE-UAV\\\\Auswertung_findatree\\\\Datasplit\\\\ROI\\\\rgb-nir\\\\2022\\\\tnr16829_rois.hdf5',\n",
       " 'D:\\\\Drohnendaten\\\\10_WZE-UAV\\\\Auswertung_findatree\\\\Datasplit\\\\ROI\\\\rgb-nir\\\\2022\\\\tnr16833_rois.hdf5',\n",
       " 'D:\\\\Drohnendaten\\\\10_WZE-UAV\\\\Auswertung_findatree\\\\Datasplit\\\\ROI\\\\rgb-nir\\\\2022\\\\tnr16838_rois.hdf5',\n",
       " 'D:\\\\Drohnendaten\\\\10_WZE-UAV\\\\Auswertung_findatree\\\\Datasplit\\\\ROI\\\\rgb-nir\\\\2022\\\\tnr17019_rois.hdf5',\n",
       " 'D:\\\\Drohnendaten\\\\10_WZE-UAV\\\\Auswertung_findatree\\\\Datasplit\\\\ROI\\\\rgb-nir\\\\2022\\\\tnr17032_rois.hdf5',\n",
       " 'D:\\\\Drohnendaten\\\\10_WZE-UAV\\\\Auswertung_findatree\\\\Datasplit\\\\ROI\\\\rgb-nir\\\\2022\\\\tnr17034_rois.hdf5',\n",
       " 'D:\\\\Drohnendaten\\\\10_WZE-UAV\\\\Auswertung_findatree\\\\Datasplit\\\\ROI\\\\rgb-nir\\\\2022\\\\tnr17042_rois.hdf5',\n",
       " 'D:\\\\Drohnendaten\\\\10_WZE-UAV\\\\Auswertung_findatree\\\\Datasplit\\\\ROI\\\\rgb-nir\\\\2022\\\\tnr17339_rois.hdf5',\n",
       " 'D:\\\\Drohnendaten\\\\10_WZE-UAV\\\\Auswertung_findatree\\\\Datasplit\\\\ROI\\\\rgb-nir\\\\2022\\\\tnr1898_rois.hdf5',\n",
       " 'D:\\\\Drohnendaten\\\\10_WZE-UAV\\\\Auswertung_findatree\\\\Datasplit\\\\ROI\\\\rgb-nir\\\\2022\\\\tnr2386_rois.hdf5',\n",
       " 'D:\\\\Drohnendaten\\\\10_WZE-UAV\\\\Auswertung_findatree\\\\Datasplit\\\\ROI\\\\rgb-nir\\\\2022\\\\tnr2399_rois.hdf5',\n",
       " 'D:\\\\Drohnendaten\\\\10_WZE-UAV\\\\Auswertung_findatree\\\\Datasplit\\\\ROI\\\\rgb-nir\\\\2022\\\\tnr2411_rois.hdf5',\n",
       " 'D:\\\\Drohnendaten\\\\10_WZE-UAV\\\\Auswertung_findatree\\\\Datasplit\\\\ROI\\\\rgb-nir\\\\2022\\\\tnr2413_rois.hdf5',\n",
       " 'D:\\\\Drohnendaten\\\\10_WZE-UAV\\\\Auswertung_findatree\\\\Datasplit\\\\ROI\\\\rgb-nir\\\\2022\\\\tnr3398_rois.hdf5',\n",
       " 'D:\\\\Drohnendaten\\\\10_WZE-UAV\\\\Auswertung_findatree\\\\Datasplit\\\\ROI\\\\rgb-nir\\\\2022\\\\tnr3418_rois.hdf5',\n",
       " 'D:\\\\Drohnendaten\\\\10_WZE-UAV\\\\Auswertung_findatree\\\\Datasplit\\\\ROI\\\\rgb-nir\\\\2022\\\\tnr3430_rois.hdf5',\n",
       " 'D:\\\\Drohnendaten\\\\10_WZE-UAV\\\\Auswertung_findatree\\\\Datasplit\\\\ROI\\\\rgb-nir\\\\2022\\\\tnr3930_rois.hdf5',\n",
       " 'D:\\\\Drohnendaten\\\\10_WZE-UAV\\\\Auswertung_findatree\\\\Datasplit\\\\ROI\\\\rgb-nir\\\\2022\\\\tnr4412_rois.hdf5',\n",
       " 'D:\\\\Drohnendaten\\\\10_WZE-UAV\\\\Auswertung_findatree\\\\Datasplit\\\\ROI\\\\rgb-nir\\\\2022\\\\tnr4436_rois.hdf5',\n",
       " 'D:\\\\Drohnendaten\\\\10_WZE-UAV\\\\Auswertung_findatree\\\\Datasplit\\\\ROI\\\\rgb-nir\\\\2022\\\\tnr4444_rois.hdf5',\n",
       " 'D:\\\\Drohnendaten\\\\10_WZE-UAV\\\\Auswertung_findatree\\\\Datasplit\\\\ROI\\\\rgb-nir\\\\2022\\\\tnr5449_rois.hdf5',\n",
       " 'D:\\\\Drohnendaten\\\\10_WZE-UAV\\\\Auswertung_findatree\\\\Datasplit\\\\ROI\\\\rgb-nir\\\\2022\\\\tnr5930_rois.hdf5',\n",
       " 'D:\\\\Drohnendaten\\\\10_WZE-UAV\\\\Auswertung_findatree\\\\Datasplit\\\\ROI\\\\rgb-nir\\\\2022\\\\tnr5946_rois.hdf5',\n",
       " 'D:\\\\Drohnendaten\\\\10_WZE-UAV\\\\Auswertung_findatree\\\\Datasplit\\\\ROI\\\\rgb-nir\\\\2022\\\\tnr6430_rois.hdf5',\n",
       " 'D:\\\\Drohnendaten\\\\10_WZE-UAV\\\\Auswertung_findatree\\\\Datasplit\\\\ROI\\\\rgb-nir\\\\2022\\\\tnr6462_rois.hdf5',\n",
       " 'D:\\\\Drohnendaten\\\\10_WZE-UAV\\\\Auswertung_findatree\\\\Datasplit\\\\ROI\\\\rgb-nir\\\\2022\\\\tnr6466_rois.hdf5',\n",
       " 'D:\\\\Drohnendaten\\\\10_WZE-UAV\\\\Auswertung_findatree\\\\Datasplit\\\\ROI\\\\rgb-nir\\\\2022\\\\tnr6468_rois.hdf5',\n",
       " 'D:\\\\Drohnendaten\\\\10_WZE-UAV\\\\Auswertung_findatree\\\\Datasplit\\\\ROI\\\\rgb-nir\\\\2022\\\\tnr6470_rois.hdf5',\n",
       " 'D:\\\\Drohnendaten\\\\10_WZE-UAV\\\\Auswertung_findatree\\\\Datasplit\\\\ROI\\\\rgb-nir\\\\2022\\\\tnr6474_rois.hdf5',\n",
       " 'D:\\\\Drohnendaten\\\\10_WZE-UAV\\\\Auswertung_findatree\\\\Datasplit\\\\ROI\\\\rgb-nir\\\\2022\\\\tnr6478_rois.hdf5',\n",
       " 'D:\\\\Drohnendaten\\\\10_WZE-UAV\\\\Auswertung_findatree\\\\Datasplit\\\\ROI\\\\rgb-nir\\\\2022\\\\tnr6969_rois.hdf5',\n",
       " 'D:\\\\Drohnendaten\\\\10_WZE-UAV\\\\Auswertung_findatree\\\\Datasplit\\\\ROI\\\\rgb-nir\\\\2022\\\\tnr6971_rois.hdf5',\n",
       " 'D:\\\\Drohnendaten\\\\10_WZE-UAV\\\\Auswertung_findatree\\\\Datasplit\\\\ROI\\\\rgb-nir\\\\2022\\\\tnr6977_rois.hdf5',\n",
       " 'D:\\\\Drohnendaten\\\\10_WZE-UAV\\\\Auswertung_findatree\\\\Datasplit\\\\ROI\\\\rgb-nir\\\\2022\\\\tnr7002_rois.hdf5',\n",
       " 'D:\\\\Drohnendaten\\\\10_WZE-UAV\\\\Auswertung_findatree\\\\Datasplit\\\\ROI\\\\rgb-nir\\\\2022\\\\tnr7475_rois.hdf5',\n",
       " 'D:\\\\Drohnendaten\\\\10_WZE-UAV\\\\Auswertung_findatree\\\\Datasplit\\\\ROI\\\\rgb-nir\\\\2022\\\\tnr7511_rois.hdf5',\n",
       " 'D:\\\\Drohnendaten\\\\10_WZE-UAV\\\\Auswertung_findatree\\\\Datasplit\\\\ROI\\\\rgb-nir\\\\2022\\\\tnr7517_rois.hdf5',\n",
       " 'D:\\\\Drohnendaten\\\\10_WZE-UAV\\\\Auswertung_findatree\\\\Datasplit\\\\ROI\\\\rgb-nir\\\\2022\\\\tnr7521_rois.hdf5',\n",
       " 'D:\\\\Drohnendaten\\\\10_WZE-UAV\\\\Auswertung_findatree\\\\Datasplit\\\\ROI\\\\rgb-nir\\\\2022\\\\tnr7525_rois.hdf5',\n",
       " 'D:\\\\Drohnendaten\\\\10_WZE-UAV\\\\Auswertung_findatree\\\\Datasplit\\\\ROI\\\\rgb-nir\\\\2022\\\\tnr8040_rois.hdf5',\n",
       " 'D:\\\\Drohnendaten\\\\10_WZE-UAV\\\\Auswertung_findatree\\\\Datasplit\\\\ROI\\\\rgb-nir\\\\2022\\\\tnr8492_rois.hdf5',\n",
       " 'D:\\\\Drohnendaten\\\\10_WZE-UAV\\\\Auswertung_findatree\\\\Datasplit\\\\ROI\\\\rgb-nir\\\\2022\\\\tnr8494_rois.hdf5',\n",
       " 'D:\\\\Drohnendaten\\\\10_WZE-UAV\\\\Auswertung_findatree\\\\Datasplit\\\\ROI\\\\rgb-nir\\\\2022\\\\tnr8498_rois.hdf5',\n",
       " 'D:\\\\Drohnendaten\\\\10_WZE-UAV\\\\Auswertung_findatree\\\\Datasplit\\\\ROI\\\\rgb-nir\\\\2022\\\\tnr8532_rois.hdf5',\n",
       " 'D:\\\\Drohnendaten\\\\10_WZE-UAV\\\\Auswertung_findatree\\\\Datasplit\\\\ROI\\\\rgb-nir\\\\2022\\\\tnr8973_rois.hdf5',\n",
       " 'D:\\\\Drohnendaten\\\\10_WZE-UAV\\\\Auswertung_findatree\\\\Datasplit\\\\ROI\\\\rgb-nir\\\\2022\\\\tnr8979_rois.hdf5',\n",
       " 'D:\\\\Drohnendaten\\\\10_WZE-UAV\\\\Auswertung_findatree\\\\Datasplit\\\\ROI\\\\rgb-nir\\\\2022\\\\tnr8981_rois.hdf5',\n",
       " 'D:\\\\Drohnendaten\\\\10_WZE-UAV\\\\Auswertung_findatree\\\\Datasplit\\\\ROI\\\\rgb-nir\\\\2022\\\\tnr8989_rois.hdf5',\n",
       " 'D:\\\\Drohnendaten\\\\10_WZE-UAV\\\\Auswertung_findatree\\\\Datasplit\\\\ROI\\\\rgb-nir\\\\2022\\\\tnr9025_rois.hdf5',\n",
       " 'D:\\\\Drohnendaten\\\\10_WZE-UAV\\\\Auswertung_findatree\\\\Datasplit\\\\ROI\\\\rgb-nir\\\\2022\\\\tnr9464_rois.hdf5',\n",
       " 'D:\\\\Drohnendaten\\\\10_WZE-UAV\\\\Auswertung_findatree\\\\Datasplit\\\\ROI\\\\rgb-nir\\\\2022\\\\tnr9468_rois.hdf5',\n",
       " 'D:\\\\Drohnendaten\\\\10_WZE-UAV\\\\Auswertung_findatree\\\\Datasplit\\\\ROI\\\\rgb-nir\\\\2022\\\\tnr9472_rois.hdf5',\n",
       " 'D:\\\\Drohnendaten\\\\10_WZE-UAV\\\\Auswertung_findatree\\\\Datasplit\\\\ROI\\\\rgb-nir\\\\2022\\\\tnr9477_rois.hdf5',\n",
       " 'D:\\\\Drohnendaten\\\\10_WZE-UAV\\\\Auswertung_findatree\\\\Datasplit\\\\ROI\\\\rgb-nir\\\\2022\\\\tnr9489_rois.hdf5',\n",
       " 'D:\\\\Drohnendaten\\\\10_WZE-UAV\\\\Auswertung_findatree\\\\Datasplit\\\\ROI\\\\rgb-nir\\\\2022\\\\tnr9493_rois.hdf5',\n",
       " 'D:\\\\Drohnendaten\\\\10_WZE-UAV\\\\Auswertung_findatree\\\\Datasplit\\\\ROI\\\\rgb-nir\\\\2022\\\\tnr9509_rois.hdf5',\n",
       " 'D:\\\\Drohnendaten\\\\10_WZE-UAV\\\\Auswertung_findatree\\\\Datasplit\\\\ROI\\\\rgb-nir\\\\2022\\\\tnr9515_rois.hdf5',\n",
       " 'D:\\\\Drohnendaten\\\\10_WZE-UAV\\\\Auswertung_findatree\\\\Datasplit\\\\ROI\\\\rgb-nir\\\\2022\\\\tnr9517_rois.hdf5',\n",
       " 'D:\\\\Drohnendaten\\\\10_WZE-UAV\\\\Auswertung_findatree\\\\Datasplit\\\\ROI\\\\rgb-nir\\\\2022\\\\tnr9948_rois.hdf5',\n",
       " 'D:\\\\Drohnendaten\\\\10_WZE-UAV\\\\Auswertung_findatree\\\\Datasplit\\\\ROI\\\\rgb-nir\\\\2022\\\\tnr9958_rois.hdf5',\n",
       " 'D:\\\\Drohnendaten\\\\10_WZE-UAV\\\\Auswertung_findatree\\\\Datasplit\\\\ROI\\\\rgb-nir\\\\2022\\\\tnr9966_rois.hdf5',\n",
       " 'D:\\\\Drohnendaten\\\\10_WZE-UAV\\\\Auswertung_findatree\\\\Datasplit\\\\ROI\\\\rgb-nir\\\\2022\\\\tnr9984_rois.hdf5',\n",
       " 'D:\\\\Drohnendaten\\\\10_WZE-UAV\\\\Auswertung_findatree\\\\Datasplit\\\\ROI\\\\rgb-nir\\\\2022\\\\tnr9986_rois.hdf5',\n",
       " 'D:\\\\Drohnendaten\\\\10_WZE-UAV\\\\Auswertung_findatree\\\\Datasplit\\\\ROI\\\\rgb-nir\\\\2022\\\\tnr9988_rois.hdf5',\n",
       " 'D:\\\\Drohnendaten\\\\10_WZE-UAV\\\\Auswertung_findatree\\\\Datasplit\\\\ROI\\\\rgb-nir\\\\2022\\\\tnr9996_rois.hdf5']"
      ]
     },
     "execution_count": 9,
     "metadata": {},
     "output_type": "execute_result"
    }
   ],
   "source": [
    "path_list"
   ]
  },
  {
   "cell_type": "markdown",
   "id": "f3937a44",
   "metadata": {},
   "source": [
    "#### Create unique hash IDs for every individual tree"
   ]
  },
  {
   "cell_type": "code",
   "execution_count": 10,
   "id": "8a50f1d7",
   "metadata": {},
   "outputs": [
    {
     "data": {
      "application/vnd.jupyter.widget-view+json": {
       "model_id": "ca5b517f3ae441fcbc322ea199c22dfa",
       "version_major": 2,
       "version_minor": 0
      },
      "text/plain": [
       "Creating unique tree IDs...:   0%|          | 0/647 [00:00<?, ?it/s]"
      ]
     },
     "metadata": {},
     "output_type": "display_data"
    }
   ],
   "source": [
    "hashID_dict = data_loader.get_unique_treeID_v2(path_list)"
   ]
  },
  {
   "cell_type": "raw",
   "id": "a7972bce",
   "metadata": {},
   "source": [
    "import random\n",
    "\n",
    "# your original dictionary with 7000 different tree IDs\n",
    "original_dict = temp\n",
    "\n",
    "# get a list of unique tree IDs\n",
    "tree_ids = list(original_dict.keys())\n",
    "\n",
    "# shuffle the list of tree IDs\n",
    "random.shuffle(tree_ids)\n",
    "\n",
    "# calculate the split point based on the ratio\n",
    "split_point = int(len(tree_ids) * 0.8333)\n",
    "\n",
    "# split the list into training and test IDs\n",
    "train_ids = tree_ids[:split_point]\n",
    "test_ids = tree_ids[split_point:]\n",
    "\n",
    "# create new dictionaries for training and test data\n",
    "train_dict = {}\n",
    "test_dict = {}\n",
    "\n",
    "# loop over the original dictionary and populate the new dictionaries based on the split IDs\n",
    "for tree_id in original_dict:\n",
    "    if tree_id in train_ids:\n",
    "        train_dict[tree_id] = original_dict[tree_id]\n",
    "    else:\n",
    "        # randomly select one image from 2020, 2021, or 2022 for the test dataset\n",
    "        year = random.choice(['2020', '2021', '2022'])\n",
    "        for image_id in original_dict[tree_id]:\n",
    "            if original_dict[tree_id][image_id]['year'] == year:\n",
    "                test_dict[tree_id] = {image_id: original_dict[tree_id][image_id]}\n",
    "                break\n"
   ]
  },
  {
   "cell_type": "markdown",
   "id": "6f4cea00",
   "metadata": {},
   "source": [
    "#### Import all imagery, labels and other features from hdf5 files"
   ]
  },
  {
   "cell_type": "code",
   "execution_count": 540,
   "id": "94e3eecf",
   "metadata": {},
   "outputs": [
    {
     "data": {
      "application/vnd.jupyter.widget-view+json": {
       "model_id": "9c215d0d3bef428f8f5d65762bdad7e1",
       "version_major": 2,
       "version_minor": 0
      },
      "text/plain": [
       "Processing hdf5 datasets:   0%|          | 0/647 [00:00<?, ?it/s]"
      ]
     },
     "metadata": {},
     "output_type": "display_data"
    }
   ],
   "source": [
    "image_set, label_set, species_set, kkl_set, bk_set, hash_id = data_loader.hdf5_to_img_label_v3(path_list,\n",
    "                                                                                               hashID_dict,\n",
    "                                                                                               load_sets=[\"images_masked\"])"
   ]
  },
  {
   "cell_type": "markdown",
   "id": "6a90e2b7",
   "metadata": {},
   "source": [
    "#### Convert nbv to classes"
   ]
  },
  {
   "cell_type": "code",
   "execution_count": 541,
   "id": "0224972a",
   "metadata": {},
   "outputs": [],
   "source": [
    "label_set = nbv_to_sst_3classes(label_set)"
   ]
  },
  {
   "cell_type": "code",
   "execution_count": 542,
   "id": "8a9edeaa",
   "metadata": {},
   "outputs": [
    {
     "name": "stdout",
     "output_type": "stream",
     "text": [
      "There are 7087 unique values within hash_id.\n",
      "['0019c16a' '0023a9ed' '002bd7e9' ... 'ffed9046' 'fffa193b' 'fffef24f']\n"
     ]
    }
   ],
   "source": [
    "unique_values = np.unique(hash_id[:,0])\n",
    "num_unique = len(unique_values)\n",
    "print(f\"There are {num_unique} unique values within hash_id.\")\n",
    "\n",
    "# Split unique hash_id values into train and test sets\n",
    "#train_ids, test_ids = train_test_split(unique_values, test_size=test_size, random_state=random_state)\n",
    "print(unique_values)"
   ]
  },
  {
   "cell_type": "code",
   "execution_count": 543,
   "id": "4cca7f64",
   "metadata": {},
   "outputs": [],
   "source": [
    "# get image IDs for each unique hash ID and year\n",
    "image_ids_2020 = hash_id[hash_id[:, 1] == '2020'][:, 0]\n",
    "image_ids_2021 = hash_id[hash_id[:, 1] == '2021'][:, 0]\n",
    "image_ids_2022 = hash_id[hash_id[:, 1] == '2022'][:, 0]"
   ]
  },
  {
   "cell_type": "code",
   "execution_count": 544,
   "id": "d0f43b32",
   "metadata": {},
   "outputs": [],
   "source": [
    "# split unique hash IDs into train and test sets\n",
    "train_ids, test_ids = train_test_split(unique_values, test_size=0.1667, random_state=42)"
   ]
  },
  {
   "cell_type": "code",
   "execution_count": 545,
   "id": "997510cc",
   "metadata": {},
   "outputs": [
    {
     "data": {
      "text/plain": [
       "1182"
      ]
     },
     "execution_count": 545,
     "metadata": {},
     "output_type": "execute_result"
    }
   ],
   "source": [
    "len(train_ids)\n",
    "len(test_ids)"
   ]
  },
  {
   "cell_type": "code",
   "execution_count": 546,
   "id": "224a2786",
   "metadata": {},
   "outputs": [
    {
     "name": "stdout",
     "output_type": "stream",
     "text": [
      "Number of True in train_indices: 15659\n",
      "Number of False in train_indices: 3146\n"
     ]
    }
   ],
   "source": [
    "# create boolean arrays indicating which indices belong to train or test sets\n",
    "train_indices = np.isin(hash_id[:, 0], train_ids)\n",
    "len(train_indices)\n",
    "\n",
    "num_true = np.count_nonzero(train_indices)\n",
    "num_false = np.count_nonzero(~train_indices)\n",
    "\n",
    "print(\"Number of True in train_indices:\", num_true)\n",
    "print(\"Number of False in train_indices:\", num_false)"
   ]
  },
  {
   "cell_type": "code",
   "execution_count": 559,
   "id": "a819583d",
   "metadata": {},
   "outputs": [
    {
     "name": "stdout",
     "output_type": "stream",
     "text": [
      "Train indices: [[ True]\n",
      " [ True]\n",
      " [ True]\n",
      " ...\n",
      " [ True]\n",
      " [ True]\n",
      " [ True]]\n",
      "Test indices: [[False]\n",
      " [False]\n",
      " [False]\n",
      " ...\n",
      " [False]\n",
      " [False]\n",
      " [False]]\n"
     ]
    }
   ],
   "source": [
    "np.random.seed(2) # set the seed value\n",
    "\n",
    "test_indices = np.zeros_like(train_indices)  # initialize to all False\n",
    "for hash_id_test in test_ids:\n",
    "    # select one image ID randomly from either 2020 or 2021 or 2022 for each unique hash ID in the test set\n",
    "    year = np.random.choice(['2020', '2021', '2022'])\n",
    "    image_ids = hash_id[(hash_id[:, 0] == hash_id_test) & (hash_id[:, 1] == year), 0]\n",
    "    \n",
    "    # mark the index corresponding to the selected image ID and hash ID as True in the test indices array\n",
    "    test_indices[(hash_id[:, 0] == hash_id_test) & (hash_id[:, 1] == year) & (np.isin(hash_id[:, 0], image_ids))] = True\n",
    "\n",
    "print(\"Train indices:\", train_indices)\n",
    "print(\"Test indices:\", test_indices)\n"
   ]
  },
  {
   "cell_type": "code",
   "execution_count": 560,
   "id": "cd587262",
   "metadata": {},
   "outputs": [
    {
     "name": "stdout",
     "output_type": "stream",
     "text": [
      "Number of True in test_indices: 1056\n",
      "Number of False in test_indices: 17749\n"
     ]
    }
   ],
   "source": [
    "num_true = np.count_nonzero(test_indices)\n",
    "num_false = np.count_nonzero(~test_indices)\n",
    "print(\"Number of True in test_indices:\", num_true)\n",
    "print(\"Number of False in test_indices:\", num_false)\n"
   ]
  },
  {
   "cell_type": "code",
   "execution_count": 561,
   "id": "f127b230",
   "metadata": {},
   "outputs": [
    {
     "name": "stdout",
     "output_type": "stream",
     "text": [
      "Number of True in train_indices: 1056\n",
      "Number of False in train_indices: 17749\n"
     ]
    }
   ],
   "source": [
    "\n",
    "\n",
    "print(\"Number of True in train_indices:\", num_true)\n",
    "print(\"Number of False in train_indices:\", num_false)"
   ]
  },
  {
   "cell_type": "code",
   "execution_count": 562,
   "id": "089ff93e",
   "metadata": {},
   "outputs": [
    {
     "name": "stdout",
     "output_type": "stream",
     "text": [
      "Number of True in test_indices: 1056\n",
      "Number of False in test_indices: 17749\n",
      "(18805, 1)\n"
     ]
    }
   ],
   "source": [
    "# Reshape boolean arrays to match shape of image_set and label_set\n",
    "train_indices = train_indices.reshape(-1, 1)\n",
    "test_indices = test_indices.reshape(-1, 1)\n",
    "\n",
    "num_true = np.count_nonzero(test_indices)\n",
    "num_false = np.count_nonzero(~test_indices)\n",
    "\n",
    "print(\"Number of True in test_indices:\", num_true)\n",
    "print(\"Number of False in test_indices:\", num_false)\n",
    "print(train_indices.shape)"
   ]
  },
  {
   "cell_type": "code",
   "execution_count": 563,
   "id": "1d69047b",
   "metadata": {},
   "outputs": [
    {
     "name": "stdout",
     "output_type": "stream",
     "text": [
      "(15659, 250, 250, 4)\n",
      "(15659, 1)\n"
     ]
    }
   ],
   "source": [
    "# Select images and labels for train and test sets\n",
    "train_val_image_set = image_set[train_indices[:, 0]]\n",
    "train_val_label_set = label_set[train_indices[:, 0]]\n",
    "train_val_hash_id = hash_id[train_indices[:, 0]]\n",
    "\n",
    "train_val_species_set = species_set[train_indices[:, 0]]\n",
    "\n",
    "test_image_set = image_set[test_indices[:, 0]]\n",
    "test_label_set = label_set[test_indices[:, 0]]\n",
    "test_hash_id = hash_id[test_indices[:, 0]]\n",
    "test_species_set = species_set[test_indices[:, 0]]\n",
    "\n",
    "train_val_label_set = train_val_label_set.reshape(-1, 1)\n",
    "test_label_set = test_label_set.reshape(-1, 1)\n",
    "#train_hash_id = train_hash_id.reshape(-1, 1)\n",
    "#test_hash_id = test_hash_id.reshape(-1, 1)\n",
    "train_val_species_set = train_val_species_set.reshape(-1, 1)\n",
    "test_species_set = test_species_set.reshape(-1, 1)\n",
    "#print(train_val_hash_id.shape)\n",
    "print(train_val_image_set.shape)\n",
    "print(train_val_label_set.shape)"
   ]
  },
  {
   "cell_type": "code",
   "execution_count": 564,
   "id": "0c9bc148",
   "metadata": {},
   "outputs": [
    {
     "name": "stdout",
     "output_type": "stream",
     "text": [
      "Check shapes:\n",
      "\n",
      "Images train dataset: (15659, 250, 250, 4)\n",
      "Labels train dataset: (15659, 1)\n",
      "\n",
      "Images test dataset: (1056, 250, 250, 4)\n",
      "Labels test dataset: (1056, 1)\n",
      "\n",
      "--------------------------------------------------\n",
      "Healthy trees in train dataset: 14175\n",
      "Stressed trees in train dataset: 1223\n",
      "Dead trees in train dataset: 261\n",
      "Healthy trees in test dataset: 960\n",
      "Stressed trees in test dataset: 81\n",
      "Dead trees in test dataset: 15\n",
      "Ratio health trees in test dataset: 0.06772486772486773\n",
      "Ratio stressed trees in test dataset: 0.06623058053965658\n",
      "Ratio dead trees in test dataset: 0.05747126436781609\n"
     ]
    }
   ],
   "source": [
    "print(\"Check shapes:\\n\")\n",
    "print(f\"Images train dataset: {train_val_image_set.shape}\")\n",
    "print(f\"Labels train dataset: {train_val_label_set.shape}\\n\")\n",
    "\n",
    "print(f\"Images test dataset: {test_image_set.shape}\")\n",
    "print(f\"Labels test dataset: {test_label_set.shape}\\n\")\n",
    "print('-'*50)\n",
    "#print (f\"Check if the split was stratified: (random_state={random_state})\")\n",
    "print(f\"Healthy trees in train dataset: {np.count_nonzero(train_val_label_set == 0)}\")\n",
    "print(f\"Stressed trees in train dataset: {np.count_nonzero(train_val_label_set == 1)}\")\n",
    "print(f\"Dead trees in train dataset: {np.count_nonzero(train_val_label_set == 2)}\")\n",
    "print(f\"Healthy trees in test dataset: {np.count_nonzero(test_label_set == 0)}\")\n",
    "print(f\"Stressed trees in test dataset: {np.count_nonzero(test_label_set == 1)}\")\n",
    "print(f\"Dead trees in test dataset: {np.count_nonzero(test_label_set == 2)}\")\n",
    "print(f\"Ratio health trees in test dataset: {np.count_nonzero(test_label_set == 0)/np.count_nonzero(train_val_label_set == 0)}\")\n",
    "print(f\"Ratio stressed trees in test dataset: {np.count_nonzero(test_label_set == 1)/np.count_nonzero(train_val_label_set == 1)}\")\n",
    "print(f\"Ratio dead trees in test dataset: {np.count_nonzero(test_label_set == 2)/np.count_nonzero(train_val_label_set == 2)}\")"
   ]
  },
  {
   "cell_type": "markdown",
   "id": "c6b4cd85",
   "metadata": {},
   "source": [
    "#### Split data and seperate a test dataset"
   ]
  },
  {
   "cell_type": "code",
   "execution_count": null,
   "id": "d06eda54",
   "metadata": {},
   "outputs": [],
   "source": [
    "image_set, label_set, hash_id, species_set, test_image_set, test_label_set, test_hash_id, test_species_set = data_split(image_set, label_set, hash_id, species_set, test_size=0.15, random_state=42)\n"
   ]
  },
  {
   "cell_type": "code",
   "execution_count": 303,
   "id": "fe14ad2c",
   "metadata": {},
   "outputs": [
    {
     "data": {
      "text/plain": [
       "(15659,)"
      ]
     },
     "execution_count": 303,
     "metadata": {},
     "output_type": "execute_result"
    }
   ],
   "source": []
  },
  {
   "cell_type": "markdown",
   "id": "c48fbb5b",
   "metadata": {},
   "source": [
    "#### Check if any hash ID is in both train and test dataset"
   ]
  },
  {
   "cell_type": "code",
   "execution_count": 565,
   "id": "874367cf",
   "metadata": {},
   "outputs": [
    {
     "name": "stdout",
     "output_type": "stream",
     "text": [
      "There are no hash_id values in both train and test datasets. The datasplit was successful\n"
     ]
    }
   ],
   "source": [
    "hash_set = set(train_val_hash_id[:,0].flatten())\n",
    "test_hash_set = set(test_hash_id[:,0].flatten())\n",
    "intersection = hash_set.intersection(test_hash_set)\n",
    "if intersection:\n",
    "    print(f\"Hash_id values in both train and test sets: {intersection}\")\n",
    "else:\n",
    "    print(\"There are no hash_id values in both train and test datasets. The datasplit was successful\")"
   ]
  },
  {
   "cell_type": "markdown",
   "id": "9e5b64d4",
   "metadata": {},
   "source": [
    "#### Check feature distribution of the Test dataset"
   ]
  },
  {
   "cell_type": "code",
   "execution_count": 566,
   "id": "a33ff5cb",
   "metadata": {},
   "outputs": [
    {
     "name": "stdout",
     "output_type": "stream",
     "text": [
      "Test dataset\n",
      "Test data healthy trees: 960\n",
      "Test data stressed trees: 81\n",
      "Test data dead trees: 15\n",
      "Test data pine trees: 278\n",
      "Test data spruces: 388\n",
      "--------------------------------------------------\n",
      "Remaining dataset\n",
      "Remaining data healthy trees: 14175\n",
      "Remaining data stressed trees: 1223\n",
      "Remaining data dead trees: 261\n",
      "Remaining data pine trees: 3960\n",
      "Remaining data spruces: 5833\n",
      "--------------------------------------------------\n"
     ]
    }
   ],
   "source": [
    "def count_occurrences(data, value):\n",
    "    count = 0\n",
    "    for item in data:\n",
    "        if item == value:\n",
    "            count += 1\n",
    "    return count\n",
    "\n",
    "print(\"Test dataset\")\n",
    "print(f\"Test data healthy trees: {count_occurrences(test_label_set, 0)}\")\n",
    "print(f\"Test data stressed trees: {count_occurrences(test_label_set, 1)}\")\n",
    "print(f\"Test data dead trees: {count_occurrences(test_label_set, 2)}\")\n",
    "print(f\"Test data pine trees: {count_occurrences(test_species_set, 134)}\")\n",
    "print(f\"Test data spruces: {count_occurrences(test_species_set, 118)}\")\n",
    "print(\"-\"*50)\n",
    "\n",
    "print(\"Remaining dataset\")\n",
    "print(f\"Remaining data healthy trees: {count_occurrences(train_val_label_set, 0)}\")\n",
    "print(f\"Remaining data stressed trees: {count_occurrences(train_val_label_set, 1)}\")\n",
    "print(f\"Remaining data dead trees: {count_occurrences(train_val_label_set, 2)}\")\n",
    "print(f\"Remaining data pine trees: {count_occurrences(train_val_species_set, 134)}\")\n",
    "print(f\"Remaining data spruces: {count_occurrences(train_val_species_set, 118)}\")\n",
    "print(\"-\"*50)"
   ]
  },
  {
   "cell_type": "code",
   "execution_count": 567,
   "id": "e08fcf57",
   "metadata": {},
   "outputs": [],
   "source": [
    "# train transform with augmentation. \n",
    "transform_train = transforms.Compose([transforms.ToTensor(), transforms.RandomHorizontalFlip(p=0.5), transforms.RandomVerticalFlip(p=0.5),\n",
    "                                      transforms.RandomRotation(degrees=[0,360])])\n",
    "\n",
    "# test and val dataset transform without augmentation. \n",
    "transform = transforms.Compose([transforms.ToTensor()])\n",
    "\n",
    "# class names need to fit the customDataset class used e.g. 3 classes -> use CustomDataset3Classes\n",
    "#class_names = ['healthy', 'slightly_stressed', 'moderately_stressed', 'highly_stressed', 'dead']\n",
    "#class_names = ['healthy', 'moderately_stressed', 'highly_stressed', 'dead']\n",
    "class_names = ['healthy', 'stressed', 'dead']\n",
    "\n",
    "# set seeds\n",
    "g = torch.Generator()\n",
    "g.manual_seed(42)\n",
    "NUM_WORKERS=3 # should be changed, depending on the system used\n",
    "batch_size=32"
   ]
  },
  {
   "cell_type": "markdown",
   "id": "31779c05",
   "metadata": {},
   "source": [
    "#### Define variables and parameters"
   ]
  },
  {
   "cell_type": "code",
   "execution_count": 568,
   "id": "1965b897",
   "metadata": {},
   "outputs": [
    {
     "name": "stdout",
     "output_type": "stream",
     "text": [
      "(15659, 250, 250, 4)\n",
      "(15659, 1)\n",
      "(15659, 2)\n",
      "(1056, 250, 250, 4)\n"
     ]
    }
   ],
   "source": [
    "print(train_val_image_set.shape)\n",
    "print(train_val_species_set.shape)\n",
    "print(train_val_hash_id.shape)\n",
    "print(test_image_set.shape)"
   ]
  },
  {
   "cell_type": "code",
   "execution_count": 569,
   "id": "10ae4379",
   "metadata": {},
   "outputs": [
    {
     "name": "stderr",
     "output_type": "stream",
     "text": [
      "\u001b[34m\u001b[1mwandb\u001b[0m: \u001b[33mWARNING\u001b[0m Calling wandb.login() after wandb.init() has no effect.\n"
     ]
    },
    {
     "name": "stdout",
     "output_type": "stream",
     "text": [
      "Memory allocated: 0 bytes\n"
     ]
    },
    {
     "data": {
      "text/html": [
       "Finishing last run (ID:w729jukz) before initializing another..."
      ],
      "text/plain": [
       "<IPython.core.display.HTML object>"
      ]
     },
     "metadata": {},
     "output_type": "display_data"
    },
    {
     "data": {
      "text/html": [
       "Waiting for W&B process to finish... <strong style=\"color:green\">(success).</strong>"
      ],
      "text/plain": [
       "<IPython.core.display.HTML object>"
      ]
     },
     "metadata": {},
     "output_type": "display_data"
    },
    {
     "data": {
      "application/vnd.jupyter.widget-view+json": {
       "model_id": "9a4e9a781a1c4a2a96de6984f72c7d97",
       "version_major": 2,
       "version_minor": 0
      },
      "text/plain": [
       "VBox(children=(Label(value='0.001 MB of 0.001 MB uploaded (0.000 MB deduped)\\r'), FloatProgress(value=1.0, max…"
      ]
     },
     "metadata": {},
     "output_type": "display_data"
    },
    {
     "data": {
      "text/html": [
       " View run <strong style=\"color:#cdcd00\">logical-firebrand-47</strong> at: <a href='https://wandb.ai/simon-ecke/wze-uav/runs/w729jukz' target=\"_blank\">https://wandb.ai/simon-ecke/wze-uav/runs/w729jukz</a><br/>Synced 5 W&B file(s), 0 media file(s), 0 artifact file(s) and 0 other file(s)"
      ],
      "text/plain": [
       "<IPython.core.display.HTML object>"
      ]
     },
     "metadata": {},
     "output_type": "display_data"
    },
    {
     "data": {
      "text/html": [
       "Find logs at: <code>.\\wandb\\run-20230414_020514-w729jukz\\logs</code>"
      ],
      "text/plain": [
       "<IPython.core.display.HTML object>"
      ]
     },
     "metadata": {},
     "output_type": "display_data"
    },
    {
     "data": {
      "text/html": [
       "Successfully finished last run (ID:w729jukz). Initializing new run:<br/>"
      ],
      "text/plain": [
       "<IPython.core.display.HTML object>"
      ]
     },
     "metadata": {},
     "output_type": "display_data"
    },
    {
     "data": {
      "application/vnd.jupyter.widget-view+json": {
       "model_id": "cbca4c63511849be8b2320304b764ee4",
       "version_major": 2,
       "version_minor": 0
      },
      "text/plain": [
       "VBox(children=(Label(value='Waiting for wandb.init()...\\r'), FloatProgress(value=0.01693333333435779, max=1.0)…"
      ]
     },
     "metadata": {},
     "output_type": "display_data"
    },
    {
     "data": {
      "text/html": [
       "Tracking run with wandb version 0.14.2"
      ],
      "text/plain": [
       "<IPython.core.display.HTML object>"
      ]
     },
     "metadata": {},
     "output_type": "display_data"
    },
    {
     "data": {
      "text/html": [
       "Run data is saved locally in <code>C:\\Users\\lwfeckesim\\01_PyTorch\\wze-uav\\wze-uav-master\\wandb\\run-20230414_020800-ok48fe3f</code>"
      ],
      "text/plain": [
       "<IPython.core.display.HTML object>"
      ]
     },
     "metadata": {},
     "output_type": "display_data"
    },
    {
     "data": {
      "text/html": [
       "Syncing run <strong><a href='https://wandb.ai/simon-ecke/wze-uav/runs/ok48fe3f' target=\"_blank\">proud-vortex-48</a></strong> to <a href='https://wandb.ai/simon-ecke/wze-uav' target=\"_blank\">Weights & Biases</a> (<a href='https://wandb.me/run' target=\"_blank\">docs</a>)<br/>"
      ],
      "text/plain": [
       "<IPython.core.display.HTML object>"
      ]
     },
     "metadata": {},
     "output_type": "display_data"
    },
    {
     "data": {
      "text/html": [
       " View project at <a href='https://wandb.ai/simon-ecke/wze-uav' target=\"_blank\">https://wandb.ai/simon-ecke/wze-uav</a>"
      ],
      "text/plain": [
       "<IPython.core.display.HTML object>"
      ]
     },
     "metadata": {},
     "output_type": "display_data"
    },
    {
     "data": {
      "text/html": [
       " View run at <a href='https://wandb.ai/simon-ecke/wze-uav/runs/ok48fe3f' target=\"_blank\">https://wandb.ai/simon-ecke/wze-uav/runs/ok48fe3f</a>"
      ],
      "text/plain": [
       "<IPython.core.display.HTML object>"
      ]
     },
     "metadata": {},
     "output_type": "display_data"
    },
    {
     "data": {
      "text/html": [
       "<button onClick=\"this.nextSibling.style.display='block';this.style.display='none';\">Display W&B run</button><iframe src='https://wandb.ai/simon-ecke/wze-uav/runs/ok48fe3f?jupyter=true' style='border:none;width:100%;height:420px;display:none;'></iframe>"
      ],
      "text/plain": [
       "<wandb.sdk.wandb_run.Run at 0x1b5926f3820>"
      ]
     },
     "execution_count": 569,
     "metadata": {},
     "output_type": "execute_result"
    }
   ],
   "source": [
    "# 1. Define number of epochs\n",
    "epochs = 50\n",
    "n_bands = image_set[0].shape[2] # get number of bands\n",
    "\n",
    "# 2. Define model\n",
    "num_classes = len(class_names)\n",
    "unfreeze = True # all layer weights get updated\n",
    "dropout_rate = 0.45 #define dropout rate\n",
    "model_name = \"EffNet_b7_RGB-NIR_3classes_v3_new_val\"\n",
    "\n",
    "# 3. Define loss, optimizer and learning rate scheduler\n",
    "lr = 0.004 # define learning rate\n",
    "min_lr = 1e-5 # minimum learning rate threshold\n",
    "gamma = 0.75 # how fast the learning rate decreases per epoch (low number=faster decrease)\n",
    "patience = 10\n",
    "\n",
    "# 4. Create target folder name were to save the tensorboard event files\n",
    "\n",
    "experiment_name = 'RGB-NIR_3classes_v3_new_val'\n",
    "extra = \"new_val_set\"\n",
    "\n",
    "#----------------------------------------------------------------------\n",
    "#torch.cuda.empty_cache()\n",
    "print(f\"Memory allocated: {torch.cuda.memory_allocated()} bytes\") \n",
    "\n",
    "# login to weights & biases to track metrics\n",
    "wandb.login()\n",
    "wandb.init(project='wze-uav', entity='simon-ecke')"
   ]
  },
  {
   "cell_type": "markdown",
   "id": "09768b1a",
   "metadata": {},
   "source": [
    "#### Run k-Fold cross-validation on EfficientNet"
   ]
  },
  {
   "cell_type": "code",
   "execution_count": null,
   "id": "03d5b1f8",
   "metadata": {},
   "outputs": [],
   "source": []
  },
  {
   "cell_type": "code",
   "execution_count": 571,
   "id": "9c29c81d",
   "metadata": {},
   "outputs": [
    {
     "name": "stdout",
     "output_type": "stream",
     "text": [
      "There are 5905 unique values within hash_id.\n",
      "\n"
     ]
    },
    {
     "data": {
      "text/html": [
       "Finishing last run (ID:3uaeu9u0) before initializing another..."
      ],
      "text/plain": [
       "<IPython.core.display.HTML object>"
      ]
     },
     "metadata": {},
     "output_type": "display_data"
    },
    {
     "data": {
      "text/html": [
       "Waiting for W&B process to finish... <strong style=\"color:green\">(success).</strong>"
      ],
      "text/plain": [
       "<IPython.core.display.HTML object>"
      ]
     },
     "metadata": {},
     "output_type": "display_data"
    },
    {
     "data": {
      "application/vnd.jupyter.widget-view+json": {
       "model_id": "58041436cbd848edb8ba96f29e0259c4",
       "version_major": 2,
       "version_minor": 0
      },
      "text/plain": [
       "VBox(children=(Label(value='0.001 MB of 0.006 MB uploaded (0.000 MB deduped)\\r'), FloatProgress(value=0.227579…"
      ]
     },
     "metadata": {},
     "output_type": "display_data"
    },
    {
     "data": {
      "text/html": [
       " View run <strong style=\"color:#cdcd00\">fold_5_new_val_set</strong> at: <a href='https://wandb.ai/simon-ecke/wze-uav/runs/3uaeu9u0' target=\"_blank\">https://wandb.ai/simon-ecke/wze-uav/runs/3uaeu9u0</a><br/>Synced 5 W&B file(s), 0 media file(s), 0 artifact file(s) and 0 other file(s)"
      ],
      "text/plain": [
       "<IPython.core.display.HTML object>"
      ]
     },
     "metadata": {},
     "output_type": "display_data"
    },
    {
     "data": {
      "text/html": [
       "Find logs at: <code>.\\wandb\\run-20230414_020921-3uaeu9u0\\logs</code>"
      ],
      "text/plain": [
       "<IPython.core.display.HTML object>"
      ]
     },
     "metadata": {},
     "output_type": "display_data"
    },
    {
     "data": {
      "text/html": [
       "Successfully finished last run (ID:3uaeu9u0). Initializing new run:<br/>"
      ],
      "text/plain": [
       "<IPython.core.display.HTML object>"
      ]
     },
     "metadata": {},
     "output_type": "display_data"
    },
    {
     "data": {
      "application/vnd.jupyter.widget-view+json": {
       "model_id": "9fdd04ef81a941859afa8fe1c7ca870d",
       "version_major": 2,
       "version_minor": 0
      },
      "text/plain": [
       "VBox(children=(Label(value='Waiting for wandb.init()...\\r'), FloatProgress(value=0.016666666666666666, max=1.0…"
      ]
     },
     "metadata": {},
     "output_type": "display_data"
    },
    {
     "data": {
      "text/html": [
       "Tracking run with wandb version 0.14.2"
      ],
      "text/plain": [
       "<IPython.core.display.HTML object>"
      ]
     },
     "metadata": {},
     "output_type": "display_data"
    },
    {
     "data": {
      "text/html": [
       "Run data is saved locally in <code>C:\\Users\\lwfeckesim\\01_PyTorch\\wze-uav\\wze-uav-master\\wandb\\run-20230414_021111-c9j50vbs</code>"
      ],
      "text/plain": [
       "<IPython.core.display.HTML object>"
      ]
     },
     "metadata": {},
     "output_type": "display_data"
    },
    {
     "data": {
      "text/html": [
       "Syncing run <strong><a href='https://wandb.ai/simon-ecke/wze-uav/runs/c9j50vbs' target=\"_blank\">fold_1_new_val_set</a></strong> to <a href='https://wandb.ai/simon-ecke/wze-uav' target=\"_blank\">Weights & Biases</a> (<a href='https://wandb.me/run' target=\"_blank\">docs</a>)<br/>"
      ],
      "text/plain": [
       "<IPython.core.display.HTML object>"
      ]
     },
     "metadata": {},
     "output_type": "display_data"
    },
    {
     "data": {
      "text/html": [
       " View project at <a href='https://wandb.ai/simon-ecke/wze-uav' target=\"_blank\">https://wandb.ai/simon-ecke/wze-uav</a>"
      ],
      "text/plain": [
       "<IPython.core.display.HTML object>"
      ]
     },
     "metadata": {},
     "output_type": "display_data"
    },
    {
     "data": {
      "text/html": [
       " View run at <a href='https://wandb.ai/simon-ecke/wze-uav/runs/c9j50vbs' target=\"_blank\">https://wandb.ai/simon-ecke/wze-uav/runs/c9j50vbs</a>"
      ],
      "text/plain": [
       "<IPython.core.display.HTML object>"
      ]
     },
     "metadata": {},
     "output_type": "display_data"
    },
    {
     "name": "stdout",
     "output_type": "stream",
     "text": [
      "(15659,)\n",
      "Check shapes:\n",
      "\n",
      "Images train dataset: (12564, 250, 250, 4)\n",
      "Labels train dataset: (12564, 1)\n",
      "\n",
      "Images validation dataset: (1043, 250, 250, 4)\n",
      "Labels validation dataset: (1043, 1)\n",
      "\n",
      "--------------------------------------------------\n",
      "Check if the split was stratified: (random_state=42)\n",
      "Healthy trees in train dataset: 11352\n",
      "Stressed trees in train dataset: 1008\n",
      "Dead trees in train dataset: 204\n",
      "Healthy trees in validation dataset: 951\n",
      "Stressed trees in validation dataset: 71\n",
      "Dead trees in validation dataset: 21\n",
      "Ratio health trees in validation dataset: 0.055888575458392105\n",
      "Ratio stressed trees in validation dataset: 0.04807041299932295\n",
      "Ratio dead trees in validation dataset: 0.0673076923076923\n",
      "--------------------------------------------------\n",
      "\n",
      "Creating datasets for fold: 1\n",
      "\n",
      "Creating dataloaders for fold: 1\n",
      "\n",
      "Loaded pretrained weights for efficientnet-b7\n",
      "\n",
      "[INFO] Fold number: 1\n",
      "[INFO] Number of epochs: 50\n",
      "[INFO] Batch_size: 32\n",
      "[INFO] Number of bands: 4\n",
      "[INFO] Dropout rate: 0.45\n",
      "[INFO] Gamma learning rate: 0.75\n",
      "[INFO] Memory allocated: 0 bytes\n"
     ]
    },
    {
     "data": {
      "application/vnd.jupyter.widget-view+json": {
       "model_id": "188ed9b699bb4999a03213fcd9d0aee7",
       "version_major": 2,
       "version_minor": 0
      },
      "text/plain": [
       "  0%|          | 0/50 [00:00<?, ?it/s]"
      ]
     },
     "metadata": {},
     "output_type": "display_data"
    },
    {
     "name": "stdout",
     "output_type": "stream",
     "text": [
      "Epoch: 1 \n",
      "Learning rate: 0.004\n",
      "Train loss: 0.7491 | Train precision: 0.6398 | Train recall: 0.6018 | Train f1score: 0.6180 | Train acc: 0.6302 | Train kappa: 0.4867 \n",
      "Val loss: 0.4077 | Val precision: 0.3040 | Val recall: 0.3333 | Val f1score: 0.3180 | Val acc: 0.9111 | Val kappa: 0.0249 \n",
      "\n",
      "Epoch: 2 \n",
      "Learning rate: 0.003\n",
      "Train loss: 0.6358 | Train precision: 0.7203 | Train recall: 0.7127 | Train f1score: 0.7164 | Train acc: 0.6995 | Train kappa: 0.6282 \n",
      "Val loss: 0.2947 | Val precision: 0.6811 | Val recall: 0.4580 | Val f1score: 0.5109 | Val acc: 0.9043 | Val kappa: 0.3761 \n",
      "\n",
      "Epoch: 3 \n",
      "Learning rate: 0.0022500000000000003\n",
      "Train loss: 0.5826 | Train precision: 0.7527 | Train recall: 0.7530 | Train f1score: 0.7529 | Train acc: 0.7259 | Train kappa: 0.6613 \n",
      "Val loss: 0.5182 | Val precision: 0.6650 | Val recall: 0.7623 | Val f1score: 0.6611 | Val acc: 0.7568 | Val kappa: 0.3983 \n",
      "\n",
      "Epoch: 4 \n",
      "Learning rate: 0.0016875000000000002\n",
      "Train loss: 0.5740 | Train precision: 0.7647 | Train recall: 0.7587 | Train f1score: 0.7616 | Train acc: 0.7331 | Train kappa: 0.6720 \n",
      "Val loss: 0.6059 | Val precision: 0.6370 | Val recall: 0.7812 | Val f1score: 0.6284 | Val acc: 0.6807 | Val kappa: 0.3437 \n",
      "\n",
      "Epoch: 5 \n",
      "Learning rate: 0.0012656250000000003\n",
      "Train loss: 0.5443 | Train precision: 0.7815 | Train recall: 0.7777 | Train f1score: 0.7796 | Train acc: 0.7486 | Train kappa: 0.6863 \n",
      "Val loss: 0.3906 | Val precision: 0.6825 | Val recall: 0.7245 | Val f1score: 0.6756 | Val acc: 0.8164 | Val kappa: 0.4682 \n",
      "\n",
      "Epoch: 6 \n",
      "Learning rate: 0.0009492187500000002\n",
      "Train loss: 0.5263 | Train precision: 0.7922 | Train recall: 0.7888 | Train f1score: 0.7905 | Train acc: 0.7536 | Train kappa: 0.6892 \n",
      "Val loss: 0.4113 | Val precision: 0.6808 | Val recall: 0.7566 | Val f1score: 0.6940 | Val acc: 0.8359 | Val kappa: 0.5158 \n",
      "\n",
      "Epoch: 7 \n",
      "Learning rate: 0.0007119140625000001\n",
      "Train loss: 0.5074 | Train precision: 0.8034 | Train recall: 0.7981 | Train f1score: 0.8007 | Train acc: 0.7629 | Train kappa: 0.7076 \n",
      "Val loss: 0.4314 | Val precision: 0.7172 | Val recall: 0.7586 | Val f1score: 0.6924 | Val acc: 0.7822 | Val kappa: 0.4355 \n",
      "\n",
      "Epoch: 8 \n",
      "Learning rate: 0.0005339355468750001\n",
      "Train loss: 0.4938 | Train precision: 0.8100 | Train recall: 0.8034 | Train f1score: 0.8066 | Train acc: 0.7685 | Train kappa: 0.7146 \n",
      "Val loss: 0.3699 | Val precision: 0.6583 | Val recall: 0.7765 | Val f1score: 0.6942 | Val acc: 0.8369 | Val kappa: 0.5117 \n",
      "\n",
      "Epoch: 9 \n",
      "Learning rate: 0.00040045166015625005\n",
      "Train loss: 0.4740 | Train precision: 0.8178 | Train recall: 0.8116 | Train f1score: 0.8146 | Train acc: 0.7761 | Train kappa: 0.7287 \n",
      "Val loss: 0.4690 | Val precision: 0.6528 | Val recall: 0.8039 | Val f1score: 0.6786 | Val acc: 0.7812 | Val kappa: 0.4492 \n",
      "\n",
      "Epoch: 10 \n",
      "Learning rate: 0.00030033874511718755\n",
      "Train loss: 0.4561 | Train precision: 0.8227 | Train recall: 0.8196 | Train f1score: 0.8211 | Train acc: 0.7824 | Train kappa: 0.7332 \n",
      "Val loss: 0.3621 | Val precision: 0.6635 | Val recall: 0.7436 | Val f1score: 0.6823 | Val acc: 0.8359 | Val kappa: 0.4954 \n",
      "\n",
      "Epoch: 11 \n",
      "Learning rate: 0.00022525405883789065\n",
      "Train loss: 0.4603 | Train precision: 0.8249 | Train recall: 0.8181 | Train f1score: 0.8214 | Train acc: 0.7826 | Train kappa: 0.7289 \n",
      "Val loss: 0.4177 | Val precision: 0.6273 | Val recall: 0.7647 | Val f1score: 0.6551 | Val acc: 0.7988 | Val kappa: 0.4511 \n",
      "\n",
      "Epoch: 12 \n",
      "Learning rate: 0.000168940544128418\n",
      "Train loss: 0.4415 | Train precision: 0.8297 | Train recall: 0.8287 | Train f1score: 0.8291 | Train acc: 0.7903 | Train kappa: 0.7384 \n",
      "Val loss: 0.3866 | Val precision: 0.6692 | Val recall: 0.7675 | Val f1score: 0.6892 | Val acc: 0.8301 | Val kappa: 0.4984 \n",
      "\n",
      "Epoch: 13 \n",
      "Learning rate: 0.00012670540809631348\n",
      "Train loss: 0.4351 | Train precision: 0.8382 | Train recall: 0.8355 | Train f1score: 0.8368 | Train acc: 0.7961 | Train kappa: 0.7491 \n",
      "Val loss: 0.4442 | Val precision: 0.6278 | Val recall: 0.7796 | Val f1score: 0.6517 | Val acc: 0.7803 | Val kappa: 0.4360 \n",
      "\n",
      "Epoch: 14 \n",
      "Learning rate: 9.502905607223511e-05\n",
      "Train loss: 0.4234 | Train precision: 0.8409 | Train recall: 0.8401 | Train f1score: 0.8403 | Train acc: 0.7981 | Train kappa: 0.7518 \n",
      "Val loss: 0.4068 | Val precision: 0.6660 | Val recall: 0.7740 | Val f1score: 0.6828 | Val acc: 0.8125 | Val kappa: 0.4764 \n",
      "\n",
      "Epoch: 15 \n",
      "Learning rate: 7.127179205417633e-05\n",
      "Train loss: 0.4133 | Train precision: 0.8467 | Train recall: 0.8438 | Train f1score: 0.8451 | Train acc: 0.8053 | Train kappa: 0.7647 \n",
      "Val loss: 0.4001 | Val precision: 0.6618 | Val recall: 0.7975 | Val f1score: 0.6919 | Val acc: 0.8203 | Val kappa: 0.5000 \n",
      "\n",
      "Epoch: 16 \n",
      "Learning rate: 5.3453844040632245e-05\n",
      "Train loss: 0.4136 | Train precision: 0.8463 | Train recall: 0.8451 | Train f1score: 0.8456 | Train acc: 0.8066 | Train kappa: 0.7633 \n",
      "Val loss: 0.4483 | Val precision: 0.6609 | Val recall: 0.7829 | Val f1score: 0.6694 | Val acc: 0.7773 | Val kappa: 0.4361 \n",
      "\n",
      "Epoch: 17 \n",
      "Learning rate: 4.0090383030474184e-05\n",
      "Train loss: 0.4131 | Train precision: 0.8458 | Train recall: 0.8418 | Train f1score: 0.8435 | Train acc: 0.8015 | Train kappa: 0.7569 \n",
      "Val loss: 0.4354 | Val precision: 0.6524 | Val recall: 0.7872 | Val f1score: 0.6699 | Val acc: 0.7891 | Val kappa: 0.4487 \n",
      "\n",
      "Epoch: 18 \n",
      "Learning rate: 3.006778727285564e-05\n",
      "Train loss: 0.4217 | Train precision: 0.8389 | Train recall: 0.8352 | Train f1score: 0.8368 | Train acc: 0.7955 | Train kappa: 0.7505 \n",
      "Val loss: 0.4298 | Val precision: 0.6509 | Val recall: 0.7854 | Val f1score: 0.6670 | Val acc: 0.7842 | Val kappa: 0.4420 \n",
      "\n",
      "Epoch: 19 \n",
      "Learning rate: 2.255084045464173e-05\n",
      "Train loss: 0.4096 | Train precision: 0.8442 | Train recall: 0.8454 | Train f1score: 0.8444 | Train acc: 0.8056 | Train kappa: 0.7606 \n",
      "Val loss: 0.4098 | Val precision: 0.6547 | Val recall: 0.7838 | Val f1score: 0.6757 | Val acc: 0.8037 | Val kappa: 0.4655 \n",
      "\n",
      "Epoch: 20 \n",
      "Learning rate: 1.6913130340981296e-05\n",
      "Train loss: 0.4080 | Train precision: 0.8486 | Train recall: 0.8473 | Train f1score: 0.8477 | Train acc: 0.8055 | Train kappa: 0.7626 \n",
      "Val loss: 0.4554 | Val precision: 0.6472 | Val recall: 0.7833 | Val f1score: 0.6586 | Val acc: 0.7666 | Val kappa: 0.4209 \n",
      "\n",
      "Early stopping after epoch 20\n"
     ]
    },
    {
     "data": {
      "text/html": [
       "Waiting for W&B process to finish... <strong style=\"color:green\">(success).</strong>"
      ],
      "text/plain": [
       "<IPython.core.display.HTML object>"
      ]
     },
     "metadata": {},
     "output_type": "display_data"
    },
    {
     "data": {
      "text/html": [
       "<style>\n",
       "    table.wandb td:nth-child(1) { padding: 0 10px; text-align: left ; width: auto;} td:nth-child(2) {text-align: left ; width: 100%}\n",
       "    .wandb-row { display: flex; flex-direction: row; flex-wrap: wrap; justify-content: flex-start; width: 100% }\n",
       "    .wandb-col { display: flex; flex-direction: column; flex-basis: 100%; flex: 1; padding: 10px; }\n",
       "    </style>\n",
       "<div class=\"wandb-row\"><div class=\"wandb-col\"><h3>Run history:</h3><br/><table class=\"wandb\"><tr><td>epoch</td><td>▁▁▂▂▂▃▃▄▄▄▅▅▅▆▆▇▇▇██</td></tr><tr><td>fold</td><td>▁▁▁▁▁▁▁▁▁▁▁▁▁▁▁▁▁▁▁▁</td></tr><tr><td>learning_rate</td><td>█▆▅▄▃▃▂▂▂▁▁▁▁▁▁▁▁▁▁▁</td></tr><tr><td>train_f1_score</td><td>▁▄▅▅▆▆▇▇▇▇▇▇████████</td></tr><tr><td>train_loss</td><td>█▆▅▄▄▃▃▃▂▂▂▂▂▁▁▁▁▁▁▁</td></tr><tr><td>val_f1_score</td><td>▁▅▇▇██████▇█▇████▇█▇</td></tr><tr><td>val_loss</td><td>▄▁▆█▃▄▄▃▅▃▄▃▄▄▃▄▄▄▄▅</td></tr></table><br/></div><div class=\"wandb-col\"><h3>Run summary:</h3><br/><table class=\"wandb\"><tr><td>epoch</td><td>19</td></tr><tr><td>fold</td><td>1</td></tr><tr><td>learning_rate</td><td>2e-05</td></tr><tr><td>train_f1_score</td><td>0.84773</td></tr><tr><td>train_loss</td><td>0.40804</td></tr><tr><td>val_f1_score</td><td>0.65858</td></tr><tr><td>val_loss</td><td>0.45544</td></tr></table><br/></div></div>"
      ],
      "text/plain": [
       "<IPython.core.display.HTML object>"
      ]
     },
     "metadata": {},
     "output_type": "display_data"
    },
    {
     "data": {
      "text/html": [
       " View run <strong style=\"color:#cdcd00\">fold_1_new_val_set</strong> at: <a href='https://wandb.ai/simon-ecke/wze-uav/runs/c9j50vbs' target=\"_blank\">https://wandb.ai/simon-ecke/wze-uav/runs/c9j50vbs</a><br/>Synced 5 W&B file(s), 0 media file(s), 0 artifact file(s) and 0 other file(s)"
      ],
      "text/plain": [
       "<IPython.core.display.HTML object>"
      ]
     },
     "metadata": {},
     "output_type": "display_data"
    },
    {
     "data": {
      "text/html": [
       "Find logs at: <code>.\\wandb\\run-20230414_021111-c9j50vbs\\logs</code>"
      ],
      "text/plain": [
       "<IPython.core.display.HTML object>"
      ]
     },
     "metadata": {},
     "output_type": "display_data"
    },
    {
     "name": "stdout",
     "output_type": "stream",
     "text": [
      "Deleting variables and emptying cache\n",
      "Memory allocated: 1046864896 bytes\n",
      "--------------------------------------------------\n",
      "\n"
     ]
    },
    {
     "data": {
      "text/html": [
       "Tracking run with wandb version 0.14.2"
      ],
      "text/plain": [
       "<IPython.core.display.HTML object>"
      ]
     },
     "metadata": {},
     "output_type": "display_data"
    },
    {
     "data": {
      "text/html": [
       "Run data is saved locally in <code>C:\\Users\\lwfeckesim\\01_PyTorch\\wze-uav\\wze-uav-master\\wandb\\run-20230414_035924-ffhjjise</code>"
      ],
      "text/plain": [
       "<IPython.core.display.HTML object>"
      ]
     },
     "metadata": {},
     "output_type": "display_data"
    },
    {
     "data": {
      "text/html": [
       "Syncing run <strong><a href='https://wandb.ai/simon-ecke/wze-uav/runs/ffhjjise' target=\"_blank\">fold_2_new_val_set</a></strong> to <a href='https://wandb.ai/simon-ecke/wze-uav' target=\"_blank\">Weights & Biases</a> (<a href='https://wandb.me/run' target=\"_blank\">docs</a>)<br/>"
      ],
      "text/plain": [
       "<IPython.core.display.HTML object>"
      ]
     },
     "metadata": {},
     "output_type": "display_data"
    },
    {
     "data": {
      "text/html": [
       " View project at <a href='https://wandb.ai/simon-ecke/wze-uav' target=\"_blank\">https://wandb.ai/simon-ecke/wze-uav</a>"
      ],
      "text/plain": [
       "<IPython.core.display.HTML object>"
      ]
     },
     "metadata": {},
     "output_type": "display_data"
    },
    {
     "data": {
      "text/html": [
       " View run at <a href='https://wandb.ai/simon-ecke/wze-uav/runs/ffhjjise' target=\"_blank\">https://wandb.ai/simon-ecke/wze-uav/runs/ffhjjise</a>"
      ],
      "text/plain": [
       "<IPython.core.display.HTML object>"
      ]
     },
     "metadata": {},
     "output_type": "display_data"
    },
    {
     "name": "stdout",
     "output_type": "stream",
     "text": [
      "(15659,)\n",
      "Check shapes:\n",
      "\n",
      "Images train dataset: (12489, 250, 250, 4)\n",
      "Labels train dataset: (12489, 1)\n",
      "\n",
      "Images validation dataset: (1056, 250, 250, 4)\n",
      "Labels validation dataset: (1056, 1)\n",
      "\n",
      "--------------------------------------------------\n",
      "Check if the split was stratified: (random_state=42)\n",
      "Healthy trees in train dataset: 11341\n",
      "Stressed trees in train dataset: 943\n",
      "Dead trees in train dataset: 205\n",
      "Healthy trees in validation dataset: 942\n",
      "Stressed trees in validation dataset: 94\n",
      "Dead trees in validation dataset: 20\n",
      "Ratio health trees in validation dataset: 0.05535966149506347\n",
      "Ratio stressed trees in validation dataset: 0.06364251861882193\n",
      "Ratio dead trees in validation dataset: 0.0641025641025641\n",
      "--------------------------------------------------\n",
      "\n",
      "Creating datasets for fold: 2\n",
      "\n",
      "Creating dataloaders for fold: 2\n",
      "\n",
      "Loaded pretrained weights for efficientnet-b7\n",
      "\n",
      "[INFO] Fold number: 2\n",
      "[INFO] Number of epochs: 50\n",
      "[INFO] Batch_size: 32\n",
      "[INFO] Number of bands: 4\n",
      "[INFO] Dropout rate: 0.45\n",
      "[INFO] Gamma learning rate: 0.75\n",
      "[INFO] Memory allocated: 0 bytes\n"
     ]
    },
    {
     "data": {
      "application/vnd.jupyter.widget-view+json": {
       "model_id": "4044a8a598234b55aba6a9977299ffb9",
       "version_major": 2,
       "version_minor": 0
      },
      "text/plain": [
       "  0%|          | 0/50 [00:00<?, ?it/s]"
      ]
     },
     "metadata": {},
     "output_type": "display_data"
    },
    {
     "name": "stdout",
     "output_type": "stream",
     "text": [
      "Epoch: 1 \n",
      "Learning rate: 0.004\n",
      "Train loss: 0.7586 | Train precision: 0.6346 | Train recall: 0.6119 | Train f1score: 0.6210 | Train acc: 0.6240 | Train kappa: 0.5090 \n",
      "Val loss: 0.4003 | Val precision: 0.3911 | Val recall: 0.4086 | Val f1score: 0.3990 | Val acc: 0.8542 | Val kappa: 0.3824 \n",
      "\n",
      "Epoch: 2 \n",
      "Learning rate: 0.003\n",
      "Train loss: 0.6138 | Train precision: 0.7321 | Train recall: 0.7290 | Train f1score: 0.7303 | Train acc: 0.7039 | Train kappa: 0.6350 \n",
      "Val loss: 0.6457 | Val precision: 0.3807 | Val recall: 0.4757 | Val f1score: 0.3664 | Val acc: 0.6837 | Val kappa: 0.2363 \n",
      "\n",
      "Epoch: 3 \n",
      "Learning rate: 0.0022500000000000003\n",
      "Train loss: 0.5837 | Train precision: 0.7536 | Train recall: 0.7477 | Train f1score: 0.7506 | Train acc: 0.7239 | Train kappa: 0.6654 \n",
      "Val loss: 0.4343 | Val precision: 0.6818 | Val recall: 0.7551 | Val f1score: 0.6975 | Val acc: 0.8267 | Val kappa: 0.5049 \n",
      "\n",
      "Epoch: 4 \n",
      "Learning rate: 0.0016875000000000002\n",
      "Train loss: 0.5567 | Train precision: 0.7713 | Train recall: 0.7676 | Train f1score: 0.7693 | Train acc: 0.7357 | Train kappa: 0.6828 \n",
      "Val loss: 0.6030 | Val precision: 0.3883 | Val recall: 0.4771 | Val f1score: 0.3910 | Val acc: 0.7472 | Val kappa: 0.2984 \n",
      "\n",
      "Epoch: 5 \n",
      "Learning rate: 0.0012656250000000003\n",
      "Train loss: 0.5439 | Train precision: 0.7795 | Train recall: 0.7775 | Train f1score: 0.7784 | Train acc: 0.7432 | Train kappa: 0.6946 \n",
      "Val loss: 0.3761 | Val precision: 0.7673 | Val recall: 0.5298 | Val f1score: 0.5387 | Val acc: 0.8684 | Val kappa: 0.4524 \n",
      "\n",
      "Epoch: 6 \n",
      "Learning rate: 0.0009492187500000002\n",
      "Train loss: 0.5216 | Train precision: 0.7873 | Train recall: 0.7876 | Train f1score: 0.7874 | Train acc: 0.7564 | Train kappa: 0.7058 \n",
      "Val loss: 0.4567 | Val precision: 0.7339 | Val recall: 0.7079 | Val f1score: 0.6710 | Val acc: 0.7803 | Val kappa: 0.4367 \n",
      "\n",
      "Epoch: 7 \n",
      "Learning rate: 0.0007119140625000001\n",
      "Train loss: 0.5031 | Train precision: 0.7980 | Train recall: 0.7945 | Train f1score: 0.7962 | Train acc: 0.7583 | Train kappa: 0.7088 \n",
      "Val loss: 0.4832 | Val precision: 0.7323 | Val recall: 0.7665 | Val f1score: 0.6959 | Val acc: 0.7547 | Val kappa: 0.4338 \n",
      "\n",
      "Epoch: 8 \n",
      "Learning rate: 0.0005339355468750001\n",
      "Train loss: 0.4903 | Train precision: 0.8067 | Train recall: 0.7995 | Train f1score: 0.8030 | Train acc: 0.7678 | Train kappa: 0.7235 \n",
      "Val loss: 0.5661 | Val precision: 0.7220 | Val recall: 0.7123 | Val f1score: 0.6279 | Val acc: 0.6723 | Val kappa: 0.3395 \n",
      "\n",
      "Epoch: 9 \n",
      "Learning rate: 0.00040045166015625005\n",
      "Train loss: 0.4808 | Train precision: 0.8099 | Train recall: 0.8062 | Train f1score: 0.8079 | Train acc: 0.7697 | Train kappa: 0.7244 \n",
      "Val loss: 0.5002 | Val precision: 0.6993 | Val recall: 0.7899 | Val f1score: 0.6897 | Val acc: 0.7481 | Val kappa: 0.4431 \n",
      "\n",
      "Epoch: 10 \n",
      "Learning rate: 0.00030033874511718755\n",
      "Train loss: 0.4711 | Train precision: 0.8175 | Train recall: 0.8101 | Train f1score: 0.8137 | Train acc: 0.7753 | Train kappa: 0.7306 \n",
      "Val loss: 0.4265 | Val precision: 0.6736 | Val recall: 0.7771 | Val f1score: 0.6870 | Val acc: 0.7822 | Val kappa: 0.4689 \n",
      "\n",
      "Epoch: 11 \n",
      "Learning rate: 0.00022525405883789065\n",
      "Train loss: 0.4640 | Train precision: 0.8156 | Train recall: 0.8130 | Train f1score: 0.8142 | Train acc: 0.7768 | Train kappa: 0.7263 \n",
      "Val loss: 0.3609 | Val precision: 0.7292 | Val recall: 0.7434 | Val f1score: 0.7111 | Val acc: 0.8305 | Val kappa: 0.5306 \n",
      "\n",
      "Epoch: 12 \n",
      "Learning rate: 0.000168940544128418\n",
      "Train loss: 0.4505 | Train precision: 0.8289 | Train recall: 0.8236 | Train f1score: 0.8260 | Train acc: 0.7877 | Train kappa: 0.7421 \n",
      "Val loss: 0.4840 | Val precision: 0.7302 | Val recall: 0.7378 | Val f1score: 0.6657 | Val acc: 0.7311 | Val kappa: 0.4022 \n",
      "\n",
      "Epoch: 13 \n",
      "Learning rate: 0.00012670540809631348\n",
      "Train loss: 0.4417 | Train precision: 0.8294 | Train recall: 0.8259 | Train f1score: 0.8274 | Train acc: 0.7876 | Train kappa: 0.7443 \n",
      "Val loss: 0.4945 | Val precision: 0.6930 | Val recall: 0.7704 | Val f1score: 0.6682 | Val acc: 0.7225 | Val kappa: 0.4108 \n",
      "\n",
      "Epoch: 14 \n",
      "Learning rate: 9.502905607223511e-05\n",
      "Train loss: 0.4438 | Train precision: 0.8300 | Train recall: 0.8261 | Train f1score: 0.8277 | Train acc: 0.7866 | Train kappa: 0.7459 \n",
      "Val loss: 0.4103 | Val precision: 0.7232 | Val recall: 0.7547 | Val f1score: 0.7006 | Val acc: 0.8011 | Val kappa: 0.4939 \n",
      "\n",
      "Epoch: 15 \n",
      "Learning rate: 7.127179205417633e-05\n",
      "Train loss: 0.4454 | Train precision: 0.8318 | Train recall: 0.8241 | Train f1score: 0.8277 | Train acc: 0.7889 | Train kappa: 0.7472 \n",
      "Val loss: 0.4825 | Val precision: 0.6409 | Val recall: 0.7669 | Val f1score: 0.6483 | Val acc: 0.7386 | Val kappa: 0.4136 \n",
      "\n",
      "Epoch: 16 \n",
      "Learning rate: 5.3453844040632245e-05\n",
      "Train loss: 0.4312 | Train precision: 0.8378 | Train recall: 0.8343 | Train f1score: 0.8357 | Train acc: 0.7961 | Train kappa: 0.7524 \n",
      "Val loss: 0.4370 | Val precision: 0.6635 | Val recall: 0.7874 | Val f1score: 0.6813 | Val acc: 0.7756 | Val kappa: 0.4632 \n",
      "\n",
      "Epoch: 17 \n",
      "Learning rate: 4.0090383030474184e-05\n",
      "Train loss: 0.4326 | Train precision: 0.8342 | Train recall: 0.8307 | Train f1score: 0.8322 | Train acc: 0.7925 | Train kappa: 0.7458 \n",
      "Val loss: 0.4467 | Val precision: 0.6685 | Val recall: 0.7665 | Val f1score: 0.6709 | Val acc: 0.7633 | Val kappa: 0.4456 \n",
      "\n",
      "Epoch: 18 \n",
      "Learning rate: 3.006778727285564e-05\n",
      "Train loss: 0.4308 | Train precision: 0.8385 | Train recall: 0.8328 | Train f1score: 0.8353 | Train acc: 0.7990 | Train kappa: 0.7514 \n",
      "Val loss: 0.4215 | Val precision: 0.6724 | Val recall: 0.7650 | Val f1score: 0.6803 | Val acc: 0.7850 | Val kappa: 0.4706 \n",
      "\n",
      "Epoch: 19 \n",
      "Learning rate: 2.255084045464173e-05\n",
      "Train loss: 0.4319 | Train precision: 0.8317 | Train recall: 0.8292 | Train f1score: 0.8303 | Train acc: 0.7918 | Train kappa: 0.7441 \n",
      "Val loss: 0.4428 | Val precision: 0.6696 | Val recall: 0.7679 | Val f1score: 0.6731 | Val acc: 0.7670 | Val kappa: 0.4507 \n",
      "\n",
      "Epoch: 20 \n",
      "Learning rate: 1.6913130340981296e-05\n",
      "Train loss: 0.4234 | Train precision: 0.8436 | Train recall: 0.8388 | Train f1score: 0.8409 | Train acc: 0.8043 | Train kappa: 0.7632 \n",
      "Val loss: 0.4371 | Val precision: 0.6614 | Val recall: 0.7849 | Val f1score: 0.6774 | Val acc: 0.7689 | Val kappa: 0.4542 \n",
      "\n",
      "Epoch: 21 \n",
      "Learning rate: 1.2684847755735971e-05\n",
      "Train loss: 0.4295 | Train precision: 0.8363 | Train recall: 0.8359 | Train f1score: 0.8357 | Train acc: 0.7935 | Train kappa: 0.7523 \n",
      "Val loss: 0.4404 | Val precision: 0.6585 | Val recall: 0.7714 | Val f1score: 0.6685 | Val acc: 0.7680 | Val kappa: 0.4505 \n",
      "\n",
      "Early stopping after epoch 21\n"
     ]
    },
    {
     "data": {
      "text/html": [
       "Waiting for W&B process to finish... <strong style=\"color:green\">(success).</strong>"
      ],
      "text/plain": [
       "<IPython.core.display.HTML object>"
      ]
     },
     "metadata": {},
     "output_type": "display_data"
    },
    {
     "data": {
      "application/vnd.jupyter.widget-view+json": {
       "model_id": "a4d315dc163a4ed2b68e4345fce26d37",
       "version_major": 2,
       "version_minor": 0
      },
      "text/plain": [
       "VBox(children=(Label(value='0.001 MB of 0.001 MB uploaded (0.000 MB deduped)\\r'), FloatProgress(value=1.0, max…"
      ]
     },
     "metadata": {},
     "output_type": "display_data"
    },
    {
     "data": {
      "text/html": [
       "<style>\n",
       "    table.wandb td:nth-child(1) { padding: 0 10px; text-align: left ; width: auto;} td:nth-child(2) {text-align: left ; width: 100%}\n",
       "    .wandb-row { display: flex; flex-direction: row; flex-wrap: wrap; justify-content: flex-start; width: 100% }\n",
       "    .wandb-col { display: flex; flex-direction: column; flex-basis: 100%; flex: 1; padding: 10px; }\n",
       "    </style>\n",
       "<div class=\"wandb-row\"><div class=\"wandb-col\"><h3>Run history:</h3><br/><table class=\"wandb\"><tr><td>epoch</td><td>▁▁▂▂▂▃▃▃▄▄▅▅▅▆▆▆▇▇▇██</td></tr><tr><td>fold</td><td>▁▁▁▁▁▁▁▁▁▁▁▁▁▁▁▁▁▁▁▁▁</td></tr><tr><td>learning_rate</td><td>█▆▅▄▃▃▂▂▂▂▁▁▁▁▁▁▁▁▁▁▁</td></tr><tr><td>train_f1_score</td><td>▁▄▅▆▆▆▇▇▇▇▇██████████</td></tr><tr><td>train_loss</td><td>█▅▄▄▄▃▃▂▂▂▂▂▁▁▁▁▁▁▁▁▁</td></tr><tr><td>val_f1_score</td><td>▂▁█▁▄▇█▆███▇▇█▇▇▇▇▇▇▇</td></tr><tr><td>val_loss</td><td>▂█▃▇▁▃▄▆▄▃▁▄▄▂▄▃▃▂▃▃▃</td></tr></table><br/></div><div class=\"wandb-col\"><h3>Run summary:</h3><br/><table class=\"wandb\"><tr><td>epoch</td><td>20</td></tr><tr><td>fold</td><td>2</td></tr><tr><td>learning_rate</td><td>1e-05</td></tr><tr><td>train_f1_score</td><td>0.83573</td></tr><tr><td>train_loss</td><td>0.42951</td></tr><tr><td>val_f1_score</td><td>0.66849</td></tr><tr><td>val_loss</td><td>0.44039</td></tr></table><br/></div></div>"
      ],
      "text/plain": [
       "<IPython.core.display.HTML object>"
      ]
     },
     "metadata": {},
     "output_type": "display_data"
    },
    {
     "data": {
      "text/html": [
       " View run <strong style=\"color:#cdcd00\">fold_2_new_val_set</strong> at: <a href='https://wandb.ai/simon-ecke/wze-uav/runs/ffhjjise' target=\"_blank\">https://wandb.ai/simon-ecke/wze-uav/runs/ffhjjise</a><br/>Synced 5 W&B file(s), 0 media file(s), 0 artifact file(s) and 0 other file(s)"
      ],
      "text/plain": [
       "<IPython.core.display.HTML object>"
      ]
     },
     "metadata": {},
     "output_type": "display_data"
    },
    {
     "data": {
      "text/html": [
       "Find logs at: <code>.\\wandb\\run-20230414_035924-ffhjjise\\logs</code>"
      ],
      "text/plain": [
       "<IPython.core.display.HTML object>"
      ]
     },
     "metadata": {},
     "output_type": "display_data"
    },
    {
     "name": "stdout",
     "output_type": "stream",
     "text": [
      "Deleting variables and emptying cache\n",
      "Memory allocated: 1053492224 bytes\n",
      "--------------------------------------------------\n",
      "\n"
     ]
    },
    {
     "data": {
      "text/html": [
       "Tracking run with wandb version 0.14.2"
      ],
      "text/plain": [
       "<IPython.core.display.HTML object>"
      ]
     },
     "metadata": {},
     "output_type": "display_data"
    },
    {
     "data": {
      "text/html": [
       "Run data is saved locally in <code>C:\\Users\\lwfeckesim\\01_PyTorch\\wze-uav\\wze-uav-master\\wandb\\run-20230414_055105-g2k15clp</code>"
      ],
      "text/plain": [
       "<IPython.core.display.HTML object>"
      ]
     },
     "metadata": {},
     "output_type": "display_data"
    },
    {
     "data": {
      "text/html": [
       "Syncing run <strong><a href='https://wandb.ai/simon-ecke/wze-uav/runs/g2k15clp' target=\"_blank\">fold_3_new_val_set</a></strong> to <a href='https://wandb.ai/simon-ecke/wze-uav' target=\"_blank\">Weights & Biases</a> (<a href='https://wandb.me/run' target=\"_blank\">docs</a>)<br/>"
      ],
      "text/plain": [
       "<IPython.core.display.HTML object>"
      ]
     },
     "metadata": {},
     "output_type": "display_data"
    },
    {
     "data": {
      "text/html": [
       " View project at <a href='https://wandb.ai/simon-ecke/wze-uav' target=\"_blank\">https://wandb.ai/simon-ecke/wze-uav</a>"
      ],
      "text/plain": [
       "<IPython.core.display.HTML object>"
      ]
     },
     "metadata": {},
     "output_type": "display_data"
    },
    {
     "data": {
      "text/html": [
       " View run at <a href='https://wandb.ai/simon-ecke/wze-uav/runs/g2k15clp' target=\"_blank\">https://wandb.ai/simon-ecke/wze-uav/runs/g2k15clp</a>"
      ],
      "text/plain": [
       "<IPython.core.display.HTML object>"
      ]
     },
     "metadata": {},
     "output_type": "display_data"
    },
    {
     "name": "stdout",
     "output_type": "stream",
     "text": [
      "(15659,)\n",
      "Check shapes:\n",
      "\n",
      "Images train dataset: (12563, 250, 250, 4)\n",
      "Labels train dataset: (12563, 1)\n",
      "\n",
      "Images validation dataset: (1027, 250, 250, 4)\n",
      "Labels validation dataset: (1027, 1)\n",
      "\n",
      "--------------------------------------------------\n",
      "Check if the split was stratified: (random_state=42)\n",
      "Healthy trees in train dataset: 11360\n",
      "Stressed trees in train dataset: 988\n",
      "Dead trees in train dataset: 215\n",
      "Healthy trees in validation dataset: 937\n",
      "Stressed trees in validation dataset: 77\n",
      "Dead trees in validation dataset: 13\n",
      "Ratio health trees in validation dataset: 0.05506582040432534\n",
      "Ratio stressed trees in validation dataset: 0.052132701421800945\n",
      "Ratio dead trees in validation dataset: 0.041666666666666664\n",
      "--------------------------------------------------\n",
      "\n",
      "Creating datasets for fold: 3\n",
      "\n",
      "Creating dataloaders for fold: 3\n",
      "\n",
      "Loaded pretrained weights for efficientnet-b7\n",
      "\n",
      "[INFO] Fold number: 3\n",
      "[INFO] Number of epochs: 50\n",
      "[INFO] Batch_size: 32\n",
      "[INFO] Number of bands: 4\n",
      "[INFO] Dropout rate: 0.45\n",
      "[INFO] Gamma learning rate: 0.75\n",
      "[INFO] Memory allocated: 0 bytes\n"
     ]
    },
    {
     "data": {
      "application/vnd.jupyter.widget-view+json": {
       "model_id": "2e8d4fee4199431a98b6737a8f1abf3e",
       "version_major": 2,
       "version_minor": 0
      },
      "text/plain": [
       "  0%|          | 0/50 [00:00<?, ?it/s]"
      ]
     },
     "metadata": {},
     "output_type": "display_data"
    },
    {
     "name": "stdout",
     "output_type": "stream",
     "text": [
      "Epoch: 1 \n",
      "Learning rate: 0.004\n",
      "Train loss: 0.7292 | Train precision: 0.6629 | Train recall: 0.6357 | Train f1score: 0.6473 | Train acc: 0.6323 | Train kappa: 0.5352 \n",
      "Val loss: 0.3448 | Val precision: 0.5457 | Val recall: 0.4005 | Val f1score: 0.4283 | Val acc: 0.9072 | Val kappa: 0.2145 \n",
      "\n",
      "Epoch: 2 \n",
      "Learning rate: 0.003\n",
      "Train loss: 0.6218 | Train precision: 0.7369 | Train recall: 0.7246 | Train f1score: 0.7305 | Train acc: 0.6988 | Train kappa: 0.6356 \n",
      "Val loss: 0.4216 | Val precision: 0.5359 | Val recall: 0.7284 | Val f1score: 0.5932 | Val acc: 0.8408 | Val kappa: 0.4792 \n",
      "\n",
      "Epoch: 3 \n",
      "Learning rate: 0.0022500000000000003\n",
      "Train loss: 0.5849 | Train precision: 0.7570 | Train recall: 0.7430 | Train f1score: 0.7498 | Train acc: 0.7262 | Train kappa: 0.6675 \n",
      "Val loss: 0.4928 | Val precision: 0.7410 | Val recall: 0.5062 | Val f1score: 0.4736 | Val acc: 0.8486 | Val kappa: 0.3988 \n",
      "\n",
      "Epoch: 4 \n",
      "Learning rate: 0.0016875000000000002\n",
      "Train loss: 0.5599 | Train precision: 0.7705 | Train recall: 0.7654 | Train f1score: 0.7679 | Train acc: 0.7351 | Train kappa: 0.6848 \n",
      "Val loss: 0.5639 | Val precision: 0.6557 | Val recall: 0.7301 | Val f1score: 0.6250 | Val acc: 0.6973 | Val kappa: 0.3077 \n",
      "\n",
      "Epoch: 5 \n",
      "Learning rate: 0.0012656250000000003\n",
      "Train loss: 0.5385 | Train precision: 0.7913 | Train recall: 0.7849 | Train f1score: 0.7880 | Train acc: 0.7541 | Train kappa: 0.6986 \n",
      "Val loss: 0.5152 | Val precision: 0.5630 | Val recall: 0.7697 | Val f1score: 0.5976 | Val acc: 0.7324 | Val kappa: 0.3770 \n",
      "\n",
      "Epoch: 6 \n",
      "Learning rate: 0.0009492187500000002\n",
      "Train loss: 0.5185 | Train precision: 0.7980 | Train recall: 0.7954 | Train f1score: 0.7966 | Train acc: 0.7623 | Train kappa: 0.7047 \n",
      "Val loss: 0.4336 | Val precision: 0.6326 | Val recall: 0.7362 | Val f1score: 0.6488 | Val acc: 0.8008 | Val kappa: 0.4294 \n",
      "\n",
      "Epoch: 7 \n",
      "Learning rate: 0.0007119140625000001\n",
      "Train loss: 0.5035 | Train precision: 0.8089 | Train recall: 0.8012 | Train f1score: 0.8050 | Train acc: 0.7714 | Train kappa: 0.7248 \n",
      "Val loss: 0.4082 | Val precision: 0.6232 | Val recall: 0.7553 | Val f1score: 0.6547 | Val acc: 0.8057 | Val kappa: 0.4337 \n",
      "\n",
      "Epoch: 8 \n",
      "Learning rate: 0.0005339355468750001\n",
      "Train loss: 0.4791 | Train precision: 0.8199 | Train recall: 0.8121 | Train f1score: 0.8159 | Train acc: 0.7797 | Train kappa: 0.7324 \n",
      "Val loss: 0.4209 | Val precision: 0.6910 | Val recall: 0.7326 | Val f1score: 0.6689 | Val acc: 0.7803 | Val kappa: 0.3837 \n",
      "\n",
      "Epoch: 9 \n",
      "Learning rate: 0.00040045166015625005\n",
      "Train loss: 0.4550 | Train precision: 0.8328 | Train recall: 0.8235 | Train f1score: 0.8280 | Train acc: 0.7921 | Train kappa: 0.7534 \n",
      "Val loss: 0.3754 | Val precision: 0.6876 | Val recall: 0.7812 | Val f1score: 0.7012 | Val acc: 0.8223 | Val kappa: 0.4564 \n",
      "\n",
      "Epoch: 10 \n",
      "Learning rate: 0.00030033874511718755\n",
      "Train loss: 0.4582 | Train precision: 0.8332 | Train recall: 0.8289 | Train f1score: 0.8308 | Train acc: 0.7938 | Train kappa: 0.7482 \n",
      "Val loss: 0.5642 | Val precision: 0.6914 | Val recall: 0.7828 | Val f1score: 0.6622 | Val acc: 0.7070 | Val kappa: 0.3324 \n",
      "\n",
      "Epoch: 11 \n",
      "Learning rate: 0.00022525405883789065\n",
      "Train loss: 0.4514 | Train precision: 0.8366 | Train recall: 0.8250 | Train f1score: 0.8304 | Train acc: 0.7923 | Train kappa: 0.7490 \n",
      "Val loss: 0.4456 | Val precision: 0.6170 | Val recall: 0.7558 | Val f1score: 0.6414 | Val acc: 0.7744 | Val kappa: 0.3955 \n",
      "\n",
      "Epoch: 12 \n",
      "Learning rate: 0.000168940544128418\n",
      "Train loss: 0.4485 | Train precision: 0.8331 | Train recall: 0.8270 | Train f1score: 0.8299 | Train acc: 0.7925 | Train kappa: 0.7497 \n",
      "Val loss: 0.4010 | Val precision: 0.6539 | Val recall: 0.7618 | Val f1score: 0.6690 | Val acc: 0.7910 | Val kappa: 0.4076 \n",
      "\n",
      "Epoch: 13 \n",
      "Learning rate: 0.00012670540809631348\n",
      "Train loss: 0.4338 | Train precision: 0.8400 | Train recall: 0.8381 | Train f1score: 0.8389 | Train acc: 0.8022 | Train kappa: 0.7595 \n",
      "Val loss: 0.4501 | Val precision: 0.6673 | Val recall: 0.7439 | Val f1score: 0.6566 | Val acc: 0.7676 | Val kappa: 0.3735 \n",
      "\n",
      "Epoch: 14 \n",
      "Learning rate: 9.502905607223511e-05\n",
      "Train loss: 0.4264 | Train precision: 0.8407 | Train recall: 0.8373 | Train f1score: 0.8389 | Train acc: 0.8018 | Train kappa: 0.7604 \n",
      "Val loss: 0.3989 | Val precision: 0.6729 | Val recall: 0.7350 | Val f1score: 0.6715 | Val acc: 0.8086 | Val kappa: 0.4173 \n",
      "\n",
      "Epoch: 15 \n",
      "Learning rate: 7.127179205417633e-05\n",
      "Train loss: 0.4396 | Train precision: 0.8359 | Train recall: 0.8309 | Train f1score: 0.8333 | Train acc: 0.7954 | Train kappa: 0.7509 \n",
      "Val loss: 0.4671 | Val precision: 0.6704 | Val recall: 0.7529 | Val f1score: 0.6607 | Val acc: 0.7705 | Val kappa: 0.3826 \n",
      "\n",
      "Epoch: 16 \n",
      "Learning rate: 5.3453844040632245e-05\n",
      "Train loss: 0.4251 | Train precision: 0.8414 | Train recall: 0.8405 | Train f1score: 0.8407 | Train acc: 0.8031 | Train kappa: 0.7575 \n",
      "Val loss: 0.4330 | Val precision: 0.6690 | Val recall: 0.7413 | Val f1score: 0.6620 | Val acc: 0.7822 | Val kappa: 0.3883 \n",
      "\n",
      "Epoch: 17 \n",
      "Learning rate: 4.0090383030474184e-05\n",
      "Train loss: 0.4232 | Train precision: 0.8383 | Train recall: 0.8372 | Train f1score: 0.8376 | Train acc: 0.7982 | Train kappa: 0.7555 \n",
      "Val loss: 0.4485 | Val precision: 0.6479 | Val recall: 0.7435 | Val f1score: 0.6505 | Val acc: 0.7773 | Val kappa: 0.3900 \n",
      "\n",
      "Epoch: 18 \n",
      "Learning rate: 3.006778727285564e-05\n",
      "Train loss: 0.4250 | Train precision: 0.8398 | Train recall: 0.8382 | Train f1score: 0.8387 | Train acc: 0.8007 | Train kappa: 0.7521 \n",
      "Val loss: 0.4371 | Val precision: 0.6658 | Val recall: 0.7323 | Val f1score: 0.6576 | Val acc: 0.7793 | Val kappa: 0.3789 \n",
      "\n",
      "Epoch: 19 \n",
      "Learning rate: 2.255084045464173e-05\n",
      "Train loss: 0.4242 | Train precision: 0.8439 | Train recall: 0.8412 | Train f1score: 0.8423 | Train acc: 0.8055 | Train kappa: 0.7656 \n",
      "Val loss: 0.4344 | Val precision: 0.6457 | Val recall: 0.7359 | Val f1score: 0.6484 | Val acc: 0.7783 | Val kappa: 0.3861 \n",
      "\n",
      "Early stopping after epoch 19\n"
     ]
    },
    {
     "data": {
      "text/html": [
       "Waiting for W&B process to finish... <strong style=\"color:green\">(success).</strong>"
      ],
      "text/plain": [
       "<IPython.core.display.HTML object>"
      ]
     },
     "metadata": {},
     "output_type": "display_data"
    },
    {
     "data": {
      "application/vnd.jupyter.widget-view+json": {
       "model_id": "6321a2276bc74b40ba7a1f9ffb24d129",
       "version_major": 2,
       "version_minor": 0
      },
      "text/plain": [
       "VBox(children=(Label(value='0.001 MB of 0.001 MB uploaded (0.000 MB deduped)\\r'), FloatProgress(value=1.0, max…"
      ]
     },
     "metadata": {},
     "output_type": "display_data"
    },
    {
     "data": {
      "text/html": [
       "<style>\n",
       "    table.wandb td:nth-child(1) { padding: 0 10px; text-align: left ; width: auto;} td:nth-child(2) {text-align: left ; width: 100%}\n",
       "    .wandb-row { display: flex; flex-direction: row; flex-wrap: wrap; justify-content: flex-start; width: 100% }\n",
       "    .wandb-col { display: flex; flex-direction: column; flex-basis: 100%; flex: 1; padding: 10px; }\n",
       "    </style>\n",
       "<div class=\"wandb-row\"><div class=\"wandb-col\"><h3>Run history:</h3><br/><table class=\"wandb\"><tr><td>epoch</td><td>▁▁▂▂▃▃▃▄▄▅▅▅▆▆▆▇▇██</td></tr><tr><td>fold</td><td>▁▁▁▁▁▁▁▁▁▁▁▁▁▁▁▁▁▁▁</td></tr><tr><td>learning_rate</td><td>█▆▅▄▃▃▂▂▂▁▁▁▁▁▁▁▁▁▁</td></tr><tr><td>train_f1_score</td><td>▁▄▅▅▆▆▇▇▇██████████</td></tr><tr><td>train_loss</td><td>█▆▅▄▄▃▃▂▂▂▂▂▁▁▁▁▁▁▁</td></tr><tr><td>val_f1_score</td><td>▁▅▂▆▅▇▇▇█▇▆▇▇▇▇▇▇▇▇</td></tr><tr><td>val_loss</td><td>▁▃▆█▆▄▃▃▂█▄▃▄▃▅▄▄▄▄</td></tr></table><br/></div><div class=\"wandb-col\"><h3>Run summary:</h3><br/><table class=\"wandb\"><tr><td>epoch</td><td>18</td></tr><tr><td>fold</td><td>3</td></tr><tr><td>learning_rate</td><td>2e-05</td></tr><tr><td>train_f1_score</td><td>0.84227</td></tr><tr><td>train_loss</td><td>0.4242</td></tr><tr><td>val_f1_score</td><td>0.64836</td></tr><tr><td>val_loss</td><td>0.43437</td></tr></table><br/></div></div>"
      ],
      "text/plain": [
       "<IPython.core.display.HTML object>"
      ]
     },
     "metadata": {},
     "output_type": "display_data"
    },
    {
     "data": {
      "text/html": [
       " View run <strong style=\"color:#cdcd00\">fold_3_new_val_set</strong> at: <a href='https://wandb.ai/simon-ecke/wze-uav/runs/g2k15clp' target=\"_blank\">https://wandb.ai/simon-ecke/wze-uav/runs/g2k15clp</a><br/>Synced 5 W&B file(s), 0 media file(s), 0 artifact file(s) and 0 other file(s)"
      ],
      "text/plain": [
       "<IPython.core.display.HTML object>"
      ]
     },
     "metadata": {},
     "output_type": "display_data"
    },
    {
     "data": {
      "text/html": [
       "Find logs at: <code>.\\wandb\\run-20230414_055105-g2k15clp\\logs</code>"
      ],
      "text/plain": [
       "<IPython.core.display.HTML object>"
      ]
     },
     "metadata": {},
     "output_type": "display_data"
    },
    {
     "name": "stdout",
     "output_type": "stream",
     "text": [
      "Deleting variables and emptying cache\n",
      "Memory allocated: 1055169536 bytes\n",
      "--------------------------------------------------\n",
      "\n"
     ]
    },
    {
     "data": {
      "text/html": [
       "Tracking run with wandb version 0.14.2"
      ],
      "text/plain": [
       "<IPython.core.display.HTML object>"
      ]
     },
     "metadata": {},
     "output_type": "display_data"
    },
    {
     "data": {
      "text/html": [
       "Run data is saved locally in <code>C:\\Users\\lwfeckesim\\01_PyTorch\\wze-uav\\wze-uav-master\\wandb\\run-20230414_073251-jtsiqdn5</code>"
      ],
      "text/plain": [
       "<IPython.core.display.HTML object>"
      ]
     },
     "metadata": {},
     "output_type": "display_data"
    },
    {
     "data": {
      "text/html": [
       "Syncing run <strong><a href='https://wandb.ai/simon-ecke/wze-uav/runs/jtsiqdn5' target=\"_blank\">fold_4_new_val_set</a></strong> to <a href='https://wandb.ai/simon-ecke/wze-uav' target=\"_blank\">Weights & Biases</a> (<a href='https://wandb.me/run' target=\"_blank\">docs</a>)<br/>"
      ],
      "text/plain": [
       "<IPython.core.display.HTML object>"
      ]
     },
     "metadata": {},
     "output_type": "display_data"
    },
    {
     "data": {
      "text/html": [
       " View project at <a href='https://wandb.ai/simon-ecke/wze-uav' target=\"_blank\">https://wandb.ai/simon-ecke/wze-uav</a>"
      ],
      "text/plain": [
       "<IPython.core.display.HTML object>"
      ]
     },
     "metadata": {},
     "output_type": "display_data"
    },
    {
     "data": {
      "text/html": [
       " View run at <a href='https://wandb.ai/simon-ecke/wze-uav/runs/jtsiqdn5' target=\"_blank\">https://wandb.ai/simon-ecke/wze-uav/runs/jtsiqdn5</a>"
      ],
      "text/plain": [
       "<IPython.core.display.HTML object>"
      ]
     },
     "metadata": {},
     "output_type": "display_data"
    },
    {
     "name": "stdout",
     "output_type": "stream",
     "text": [
      "(15659,)\n",
      "Check shapes:\n",
      "\n",
      "Images train dataset: (12498, 250, 250, 4)\n",
      "Labels train dataset: (12498, 1)\n",
      "\n",
      "Images validation dataset: (1065, 250, 250, 4)\n",
      "Labels validation dataset: (1065, 1)\n",
      "\n",
      "--------------------------------------------------\n",
      "Check if the split was stratified: (random_state=42)\n",
      "Healthy trees in train dataset: 11309\n",
      "Stressed trees in train dataset: 968\n",
      "Dead trees in train dataset: 221\n",
      "Healthy trees in validation dataset: 971\n",
      "Stressed trees in validation dataset: 80\n",
      "Dead trees in validation dataset: 14\n",
      "Ratio health trees in validation dataset: 0.05706393982134462\n",
      "Ratio stressed trees in validation dataset: 0.05416384563303995\n",
      "Ratio dead trees in validation dataset: 0.04487179487179487\n",
      "--------------------------------------------------\n",
      "\n",
      "Creating datasets for fold: 4\n",
      "\n",
      "Creating dataloaders for fold: 4\n",
      "\n",
      "Loaded pretrained weights for efficientnet-b7\n",
      "\n",
      "[INFO] Fold number: 4\n",
      "[INFO] Number of epochs: 50\n",
      "[INFO] Batch_size: 32\n",
      "[INFO] Number of bands: 4\n",
      "[INFO] Dropout rate: 0.45\n",
      "[INFO] Gamma learning rate: 0.75\n",
      "[INFO] Memory allocated: 0 bytes\n"
     ]
    },
    {
     "data": {
      "application/vnd.jupyter.widget-view+json": {
       "model_id": "98013f4499ec42cc9576e319e346825d",
       "version_major": 2,
       "version_minor": 0
      },
      "text/plain": [
       "  0%|          | 0/50 [00:00<?, ?it/s]"
      ]
     },
     "metadata": {},
     "output_type": "display_data"
    },
    {
     "name": "stdout",
     "output_type": "stream",
     "text": [
      "Epoch: 1 \n",
      "Learning rate: 0.004\n",
      "Train loss: 0.7456 | Train precision: 0.6403 | Train recall: 0.6262 | Train f1score: 0.6320 | Train acc: 0.6177 | Train kappa: 0.5249 \n",
      "Val loss: 0.3306 | Val precision: 0.5704 | Val recall: 0.6086 | Val f1score: 0.5846 | Val acc: 0.8864 | Val kappa: 0.4165 \n",
      "\n",
      "Epoch: 2 \n",
      "Learning rate: 0.003\n",
      "Train loss: 0.6417 | Train precision: 0.7168 | Train recall: 0.7125 | Train f1score: 0.7145 | Train acc: 0.6952 | Train kappa: 0.6396 \n",
      "Val loss: 0.8184 | Val precision: 0.4825 | Val recall: 0.7483 | Val f1score: 0.5192 | Val acc: 0.7206 | Val kappa: 0.3288 \n",
      "\n",
      "Epoch: 3 \n",
      "Learning rate: 0.0022500000000000003\n",
      "Train loss: 0.6068 | Train precision: 0.7349 | Train recall: 0.7417 | Train f1score: 0.7381 | Train acc: 0.7116 | Train kappa: 0.6581 \n",
      "Val loss: 0.4301 | Val precision: 0.3996 | Val recall: 0.3983 | Val f1score: 0.3987 | Val acc: 0.8797 | Val kappa: 0.1292 \n",
      "\n",
      "Epoch: 4 \n",
      "Learning rate: 0.0016875000000000002\n",
      "Train loss: 0.5795 | Train precision: 0.7568 | Train recall: 0.7575 | Train f1score: 0.7570 | Train acc: 0.7272 | Train kappa: 0.6787 \n",
      "Val loss: 0.5653 | Val precision: 0.6500 | Val recall: 0.7854 | Val f1score: 0.6480 | Val acc: 0.6970 | Val kappa: 0.3235 \n",
      "\n",
      "Epoch: 5 \n",
      "Learning rate: 0.0012656250000000003\n",
      "Train loss: 0.5554 | Train precision: 0.7729 | Train recall: 0.7712 | Train f1score: 0.7719 | Train acc: 0.7404 | Train kappa: 0.6954 \n",
      "Val loss: 0.3935 | Val precision: 0.7381 | Val recall: 0.6970 | Val f1score: 0.6815 | Val acc: 0.8371 | Val kappa: 0.4562 \n",
      "\n",
      "Epoch: 6 \n",
      "Learning rate: 0.0009492187500000002\n",
      "Train loss: 0.5432 | Train precision: 0.7819 | Train recall: 0.7781 | Train f1score: 0.7800 | Train acc: 0.7439 | Train kappa: 0.6984 \n",
      "Val loss: 0.4111 | Val precision: 0.6928 | Val recall: 0.7982 | Val f1score: 0.7163 | Val acc: 0.8258 | Val kappa: 0.4678 \n",
      "\n",
      "Epoch: 7 \n",
      "Learning rate: 0.0007119140625000001\n",
      "Train loss: 0.5379 | Train precision: 0.7824 | Train recall: 0.7806 | Train f1score: 0.7814 | Train acc: 0.7466 | Train kappa: 0.6927 \n",
      "Val loss: 0.4681 | Val precision: 0.6820 | Val recall: 0.8121 | Val f1score: 0.6903 | Val acc: 0.7595 | Val kappa: 0.3923 \n",
      "\n",
      "Epoch: 8 \n",
      "Learning rate: 0.0005339355468750001\n",
      "Train loss: 0.5185 | Train precision: 0.7898 | Train recall: 0.7875 | Train f1score: 0.7886 | Train acc: 0.7579 | Train kappa: 0.7170 \n",
      "Val loss: 0.3621 | Val precision: 0.7024 | Val recall: 0.8023 | Val f1score: 0.7298 | Val acc: 0.8475 | Val kappa: 0.5052 \n",
      "\n",
      "Epoch: 9 \n",
      "Learning rate: 0.00040045166015625005\n",
      "Train loss: 0.5072 | Train precision: 0.8010 | Train recall: 0.7951 | Train f1score: 0.7980 | Train acc: 0.7639 | Train kappa: 0.7227 \n",
      "Val loss: 0.3659 | Val precision: 0.7337 | Val recall: 0.7469 | Val f1score: 0.7221 | Val acc: 0.8438 | Val kappa: 0.4710 \n",
      "\n",
      "Epoch: 10 \n",
      "Learning rate: 0.00030033874511718755\n",
      "Train loss: 0.4951 | Train precision: 0.8029 | Train recall: 0.8003 | Train f1score: 0.8016 | Train acc: 0.7653 | Train kappa: 0.7207 \n",
      "Val loss: 0.2748 | Val precision: 0.7283 | Val recall: 0.7547 | Val f1score: 0.7388 | Val acc: 0.8845 | Val kappa: 0.5518 \n",
      "\n",
      "Epoch: 11 \n",
      "Learning rate: 0.00022525405883789065\n",
      "Train loss: 0.4836 | Train precision: 0.8168 | Train recall: 0.8106 | Train f1score: 0.8136 | Train acc: 0.7777 | Train kappa: 0.7295 \n",
      "Val loss: 0.3772 | Val precision: 0.6580 | Val recall: 0.8241 | Val f1score: 0.7116 | Val acc: 0.8428 | Val kappa: 0.4876 \n",
      "\n",
      "Epoch: 12 \n",
      "Learning rate: 0.000168940544128418\n",
      "Train loss: 0.4755 | Train precision: 0.8128 | Train recall: 0.8082 | Train f1score: 0.8105 | Train acc: 0.7760 | Train kappa: 0.7383 \n",
      "Val loss: 0.4200 | Val precision: 0.6716 | Val recall: 0.8086 | Val f1score: 0.6988 | Val acc: 0.8021 | Val kappa: 0.4371 \n",
      "\n",
      "Epoch: 13 \n",
      "Learning rate: 0.00012670540809631348\n",
      "Train loss: 0.4690 | Train precision: 0.8194 | Train recall: 0.8152 | Train f1score: 0.8172 | Train acc: 0.7796 | Train kappa: 0.7354 \n",
      "Val loss: 0.4739 | Val precision: 0.6840 | Val recall: 0.8239 | Val f1score: 0.6897 | Val acc: 0.7500 | Val kappa: 0.3894 \n",
      "\n",
      "Epoch: 14 \n",
      "Learning rate: 9.502905607223511e-05\n",
      "Train loss: 0.4634 | Train precision: 0.8192 | Train recall: 0.8169 | Train f1score: 0.8180 | Train acc: 0.7824 | Train kappa: 0.7391 \n",
      "Val loss: 0.4104 | Val precision: 0.6878 | Val recall: 0.8097 | Val f1score: 0.7052 | Val acc: 0.7945 | Val kappa: 0.4317 \n",
      "\n",
      "Epoch: 15 \n",
      "Learning rate: 7.127179205417633e-05\n",
      "Train loss: 0.4591 | Train precision: 0.8246 | Train recall: 0.8185 | Train f1score: 0.8213 | Train acc: 0.7841 | Train kappa: 0.7412 \n",
      "Val loss: 0.3718 | Val precision: 0.6956 | Val recall: 0.8062 | Val f1score: 0.7198 | Val acc: 0.8267 | Val kappa: 0.4742 \n",
      "\n",
      "Epoch: 16 \n",
      "Learning rate: 5.3453844040632245e-05\n",
      "Train loss: 0.4540 | Train precision: 0.8291 | Train recall: 0.8221 | Train f1score: 0.8255 | Train acc: 0.7881 | Train kappa: 0.7471 \n",
      "Val loss: 0.4094 | Val precision: 0.7096 | Val recall: 0.8086 | Val f1score: 0.7187 | Val acc: 0.8021 | Val kappa: 0.4447 \n",
      "\n",
      "Epoch: 17 \n",
      "Learning rate: 4.0090383030474184e-05\n",
      "Train loss: 0.4515 | Train precision: 0.8251 | Train recall: 0.8200 | Train f1score: 0.8224 | Train acc: 0.7839 | Train kappa: 0.7409 \n",
      "Val loss: 0.4374 | Val precision: 0.7060 | Val recall: 0.8145 | Val f1score: 0.7089 | Val acc: 0.7765 | Val kappa: 0.4162 \n",
      "\n",
      "Epoch: 18 \n",
      "Learning rate: 3.006778727285564e-05\n",
      "Train loss: 0.4515 | Train precision: 0.8277 | Train recall: 0.8212 | Train f1score: 0.8243 | Train acc: 0.7882 | Train kappa: 0.7441 \n",
      "Val loss: 0.4095 | Val precision: 0.6838 | Val recall: 0.7999 | Val f1score: 0.6991 | Val acc: 0.7888 | Val kappa: 0.4275 \n",
      "\n",
      "Epoch: 19 \n",
      "Learning rate: 2.255084045464173e-05\n",
      "Train loss: 0.4544 | Train precision: 0.8260 | Train recall: 0.8213 | Train f1score: 0.8236 | Train acc: 0.7864 | Train kappa: 0.7484 \n",
      "Val loss: 0.4088 | Val precision: 0.6844 | Val recall: 0.8006 | Val f1score: 0.7002 | Val acc: 0.7907 | Val kappa: 0.4303 \n",
      "\n",
      "Epoch: 20 \n",
      "Learning rate: 1.6913130340981296e-05\n",
      "Train loss: 0.4445 | Train precision: 0.8282 | Train recall: 0.8215 | Train f1score: 0.8247 | Train acc: 0.7880 | Train kappa: 0.7532 \n",
      "Val loss: 0.4080 | Val precision: 0.6870 | Val recall: 0.8086 | Val f1score: 0.7033 | Val acc: 0.7917 | Val kappa: 0.4364 \n",
      "\n",
      "Early stopping after epoch 20\n"
     ]
    },
    {
     "data": {
      "text/html": [
       "Waiting for W&B process to finish... <strong style=\"color:green\">(success).</strong>"
      ],
      "text/plain": [
       "<IPython.core.display.HTML object>"
      ]
     },
     "metadata": {},
     "output_type": "display_data"
    },
    {
     "data": {
      "application/vnd.jupyter.widget-view+json": {
       "model_id": "74f94f555cd84f1481bdbc1beb0e0049",
       "version_major": 2,
       "version_minor": 0
      },
      "text/plain": [
       "VBox(children=(Label(value='0.001 MB of 0.001 MB uploaded (0.000 MB deduped)\\r'), FloatProgress(value=1.0, max…"
      ]
     },
     "metadata": {},
     "output_type": "display_data"
    },
    {
     "data": {
      "text/html": [
       "<style>\n",
       "    table.wandb td:nth-child(1) { padding: 0 10px; text-align: left ; width: auto;} td:nth-child(2) {text-align: left ; width: 100%}\n",
       "    .wandb-row { display: flex; flex-direction: row; flex-wrap: wrap; justify-content: flex-start; width: 100% }\n",
       "    .wandb-col { display: flex; flex-direction: column; flex-basis: 100%; flex: 1; padding: 10px; }\n",
       "    </style>\n",
       "<div class=\"wandb-row\"><div class=\"wandb-col\"><h3>Run history:</h3><br/><table class=\"wandb\"><tr><td>epoch</td><td>▁▁▂▂▂▃▃▄▄▄▅▅▅▆▆▇▇▇██</td></tr><tr><td>fold</td><td>▁▁▁▁▁▁▁▁▁▁▁▁▁▁▁▁▁▁▁▁</td></tr><tr><td>learning_rate</td><td>█▆▅▄▃▃▂▂▂▁▁▁▁▁▁▁▁▁▁▁</td></tr><tr><td>train_f1_score</td><td>▁▄▅▆▆▆▆▇▇▇█▇████████</td></tr><tr><td>train_loss</td><td>█▆▅▄▄▃▃▃▂▂▂▂▂▁▁▁▁▁▁▁</td></tr><tr><td>val_f1_score</td><td>▅▃▁▆▇█▇███▇▇▇▇██▇▇▇▇</td></tr><tr><td>val_loss</td><td>▂█▃▅▃▃▃▂▂▁▂▃▄▃▂▃▃▃▃▃</td></tr></table><br/></div><div class=\"wandb-col\"><h3>Run summary:</h3><br/><table class=\"wandb\"><tr><td>epoch</td><td>19</td></tr><tr><td>fold</td><td>4</td></tr><tr><td>learning_rate</td><td>2e-05</td></tr><tr><td>train_f1_score</td><td>0.82471</td></tr><tr><td>train_loss</td><td>0.44451</td></tr><tr><td>val_f1_score</td><td>0.70332</td></tr><tr><td>val_loss</td><td>0.40801</td></tr></table><br/></div></div>"
      ],
      "text/plain": [
       "<IPython.core.display.HTML object>"
      ]
     },
     "metadata": {},
     "output_type": "display_data"
    },
    {
     "data": {
      "text/html": [
       " View run <strong style=\"color:#cdcd00\">fold_4_new_val_set</strong> at: <a href='https://wandb.ai/simon-ecke/wze-uav/runs/jtsiqdn5' target=\"_blank\">https://wandb.ai/simon-ecke/wze-uav/runs/jtsiqdn5</a><br/>Synced 5 W&B file(s), 0 media file(s), 0 artifact file(s) and 0 other file(s)"
      ],
      "text/plain": [
       "<IPython.core.display.HTML object>"
      ]
     },
     "metadata": {},
     "output_type": "display_data"
    },
    {
     "data": {
      "text/html": [
       "Find logs at: <code>.\\wandb\\run-20230414_073251-jtsiqdn5\\logs</code>"
      ],
      "text/plain": [
       "<IPython.core.display.HTML object>"
      ]
     },
     "metadata": {},
     "output_type": "display_data"
    },
    {
     "name": "stdout",
     "output_type": "stream",
     "text": [
      "Deleting variables and emptying cache\n",
      "Memory allocated: 1056959488 bytes\n",
      "--------------------------------------------------\n",
      "\n"
     ]
    },
    {
     "data": {
      "text/html": [
       "Tracking run with wandb version 0.14.2"
      ],
      "text/plain": [
       "<IPython.core.display.HTML object>"
      ]
     },
     "metadata": {},
     "output_type": "display_data"
    },
    {
     "data": {
      "text/html": [
       "Run data is saved locally in <code>C:\\Users\\lwfeckesim\\01_PyTorch\\wze-uav\\wze-uav-master\\wandb\\run-20230414_092022-h9loahk5</code>"
      ],
      "text/plain": [
       "<IPython.core.display.HTML object>"
      ]
     },
     "metadata": {},
     "output_type": "display_data"
    },
    {
     "data": {
      "text/html": [
       "Syncing run <strong><a href='https://wandb.ai/simon-ecke/wze-uav/runs/h9loahk5' target=\"_blank\">fold_5_new_val_set</a></strong> to <a href='https://wandb.ai/simon-ecke/wze-uav' target=\"_blank\">Weights & Biases</a> (<a href='https://wandb.me/run' target=\"_blank\">docs</a>)<br/>"
      ],
      "text/plain": [
       "<IPython.core.display.HTML object>"
      ]
     },
     "metadata": {},
     "output_type": "display_data"
    },
    {
     "data": {
      "text/html": [
       " View project at <a href='https://wandb.ai/simon-ecke/wze-uav' target=\"_blank\">https://wandb.ai/simon-ecke/wze-uav</a>"
      ],
      "text/plain": [
       "<IPython.core.display.HTML object>"
      ]
     },
     "metadata": {},
     "output_type": "display_data"
    },
    {
     "data": {
      "text/html": [
       " View run at <a href='https://wandb.ai/simon-ecke/wze-uav/runs/h9loahk5' target=\"_blank\">https://wandb.ai/simon-ecke/wze-uav/runs/h9loahk5</a>"
      ],
      "text/plain": [
       "<IPython.core.display.HTML object>"
      ]
     },
     "metadata": {},
     "output_type": "display_data"
    },
    {
     "name": "stdout",
     "output_type": "stream",
     "text": [
      "(15659,)\n",
      "Check shapes:\n",
      "\n",
      "Images train dataset: (12522, 250, 250, 4)\n",
      "Labels train dataset: (12522, 1)\n",
      "\n",
      "Images validation dataset: (1040, 250, 250, 4)\n",
      "Labels validation dataset: (1040, 1)\n",
      "\n",
      "--------------------------------------------------\n",
      "Check if the split was stratified: (random_state=42)\n",
      "Healthy trees in train dataset: 11338\n",
      "Stressed trees in train dataset: 985\n",
      "Dead trees in train dataset: 199\n",
      "Healthy trees in validation dataset: 949\n",
      "Stressed trees in validation dataset: 70\n",
      "Dead trees in validation dataset: 21\n",
      "Ratio health trees in validation dataset: 0.05577103902209685\n",
      "Ratio stressed trees in validation dataset: 0.04739336492890995\n",
      "Ratio dead trees in validation dataset: 0.0673076923076923\n",
      "--------------------------------------------------\n",
      "\n",
      "Creating datasets for fold: 5\n",
      "\n",
      "Creating dataloaders for fold: 5\n",
      "\n",
      "Loaded pretrained weights for efficientnet-b7\n",
      "\n",
      "[INFO] Fold number: 5\n",
      "[INFO] Number of epochs: 50\n",
      "[INFO] Batch_size: 32\n",
      "[INFO] Number of bands: 4\n",
      "[INFO] Dropout rate: 0.45\n",
      "[INFO] Gamma learning rate: 0.75\n",
      "[INFO] Memory allocated: 0 bytes\n"
     ]
    },
    {
     "data": {
      "application/vnd.jupyter.widget-view+json": {
       "model_id": "33819a2e7d704710af870218f1637fbf",
       "version_major": 2,
       "version_minor": 0
      },
      "text/plain": [
       "  0%|          | 0/50 [00:00<?, ?it/s]"
      ]
     },
     "metadata": {},
     "output_type": "display_data"
    },
    {
     "name": "stdout",
     "output_type": "stream",
     "text": [
      "Epoch: 1 \n",
      "Learning rate: 0.004\n",
      "Train loss: 0.7459 | Train precision: 0.6467 | Train recall: 0.6192 | Train f1score: 0.6314 | Train acc: 0.6289 | Train kappa: 0.4960 \n",
      "Val loss: 0.3455 | Val precision: 0.4200 | Val recall: 0.3765 | Val f1score: 0.3877 | Val acc: 0.8877 | Val kappa: 0.1396 \n",
      "\n",
      "Epoch: 2 \n",
      "Learning rate: 0.003\n",
      "Train loss: 0.6172 | Train precision: 0.7309 | Train recall: 0.7296 | Train f1score: 0.7302 | Train acc: 0.7091 | Train kappa: 0.6416 \n",
      "Val loss: 0.3298 | Val precision: 0.6674 | Val recall: 0.6675 | Val f1score: 0.6659 | Val acc: 0.8809 | Val kappa: 0.5452 \n",
      "\n",
      "Epoch: 3 \n",
      "Learning rate: 0.0022500000000000003\n",
      "Train loss: 0.5891 | Train precision: 0.7434 | Train recall: 0.7472 | Train f1score: 0.7453 | Train acc: 0.7191 | Train kappa: 0.6536 \n",
      "Val loss: 0.4691 | Val precision: 0.7018 | Val recall: 0.7195 | Val f1score: 0.6633 | Val acc: 0.8037 | Val kappa: 0.4505 \n",
      "\n",
      "Epoch: 4 \n",
      "Learning rate: 0.0016875000000000002\n",
      "Train loss: 0.5771 | Train precision: 0.7512 | Train recall: 0.7600 | Train f1score: 0.7553 | Train acc: 0.7229 | Train kappa: 0.6561 \n",
      "Val loss: 0.3719 | Val precision: 0.6879 | Val recall: 0.7350 | Val f1score: 0.7024 | Val acc: 0.8740 | Val kappa: 0.5745 \n",
      "\n",
      "Epoch: 5 \n",
      "Learning rate: 0.0012656250000000003\n",
      "Train loss: 0.5427 | Train precision: 0.7830 | Train recall: 0.7851 | Train f1score: 0.7840 | Train acc: 0.7497 | Train kappa: 0.6922 \n",
      "Val loss: 0.5782 | Val precision: 0.6807 | Val recall: 0.7855 | Val f1score: 0.6584 | Val acc: 0.7227 | Val kappa: 0.3852 \n",
      "\n",
      "Epoch: 6 \n",
      "Learning rate: 0.0009492187500000002\n",
      "Train loss: 0.5328 | Train precision: 0.7847 | Train recall: 0.7862 | Train f1score: 0.7854 | Train acc: 0.7516 | Train kappa: 0.6955 \n",
      "Val loss: 0.4410 | Val precision: 0.7015 | Val recall: 0.7761 | Val f1score: 0.7095 | Val acc: 0.8418 | Val kappa: 0.5308 \n",
      "\n",
      "Epoch: 7 \n",
      "Learning rate: 0.0007119140625000001\n",
      "Train loss: 0.5111 | Train precision: 0.7950 | Train recall: 0.7903 | Train f1score: 0.7926 | Train acc: 0.7626 | Train kappa: 0.7048 \n",
      "Val loss: 0.5218 | Val precision: 0.6782 | Val recall: 0.7718 | Val f1score: 0.6590 | Val acc: 0.7334 | Val kappa: 0.3892 \n",
      "\n",
      "Epoch: 8 \n",
      "Learning rate: 0.0005339355468750001\n",
      "Train loss: 0.4953 | Train precision: 0.8072 | Train recall: 0.8009 | Train f1score: 0.8040 | Train acc: 0.7668 | Train kappa: 0.7113 \n",
      "Val loss: 0.4715 | Val precision: 0.6748 | Val recall: 0.7930 | Val f1score: 0.6771 | Val acc: 0.7793 | Val kappa: 0.4465 \n",
      "\n",
      "Epoch: 9 \n",
      "Learning rate: 0.00040045166015625005\n",
      "Train loss: 0.4930 | Train precision: 0.8080 | Train recall: 0.8028 | Train f1score: 0.8053 | Train acc: 0.7710 | Train kappa: 0.7095 \n",
      "Val loss: 0.4251 | Val precision: 0.6989 | Val recall: 0.7970 | Val f1score: 0.7024 | Val acc: 0.8145 | Val kappa: 0.4984 \n",
      "\n",
      "Epoch: 10 \n",
      "Learning rate: 0.00030033874511718755\n",
      "Train loss: 0.4810 | Train precision: 0.8134 | Train recall: 0.8080 | Train f1score: 0.8107 | Train acc: 0.7765 | Train kappa: 0.7147 \n",
      "Val loss: 0.4946 | Val precision: 0.7042 | Val recall: 0.7943 | Val f1score: 0.6835 | Val acc: 0.7588 | Val kappa: 0.4220 \n",
      "\n",
      "Epoch: 11 \n",
      "Learning rate: 0.00022525405883789065\n",
      "Train loss: 0.4683 | Train precision: 0.8205 | Train recall: 0.8159 | Train f1score: 0.8182 | Train acc: 0.7777 | Train kappa: 0.7246 \n",
      "Val loss: 0.3741 | Val precision: 0.7218 | Val recall: 0.7923 | Val f1score: 0.7212 | Val acc: 0.8379 | Val kappa: 0.5273 \n",
      "\n",
      "Epoch: 12 \n",
      "Learning rate: 0.000168940544128418\n",
      "Train loss: 0.4610 | Train precision: 0.8238 | Train recall: 0.8156 | Train f1score: 0.8197 | Train acc: 0.7807 | Train kappa: 0.7236 \n",
      "Val loss: 0.4210 | Val precision: 0.7100 | Val recall: 0.7846 | Val f1score: 0.7013 | Val acc: 0.8047 | Val kappa: 0.4740 \n",
      "\n",
      "Epoch: 13 \n",
      "Learning rate: 0.00012670540809631348\n",
      "Train loss: 0.4548 | Train precision: 0.8300 | Train recall: 0.8235 | Train f1score: 0.8267 | Train acc: 0.7856 | Train kappa: 0.7288 \n",
      "Val loss: 0.3852 | Val precision: 0.7388 | Val recall: 0.7906 | Val f1score: 0.7259 | Val acc: 0.8330 | Val kappa: 0.5233 \n",
      "\n",
      "Epoch: 14 \n",
      "Learning rate: 9.502905607223511e-05\n",
      "Train loss: 0.4614 | Train precision: 0.8221 | Train recall: 0.8175 | Train f1score: 0.8197 | Train acc: 0.7790 | Train kappa: 0.7271 \n",
      "Val loss: 0.3862 | Val precision: 0.7221 | Val recall: 0.7994 | Val f1score: 0.7209 | Val acc: 0.8330 | Val kappa: 0.5228 \n",
      "\n",
      "Epoch: 15 \n",
      "Learning rate: 7.127179205417633e-05\n",
      "Train loss: 0.4472 | Train precision: 0.8283 | Train recall: 0.8213 | Train f1score: 0.8248 | Train acc: 0.7848 | Train kappa: 0.7319 \n",
      "Val loss: 0.4031 | Val precision: 0.7361 | Val recall: 0.7914 | Val f1score: 0.7210 | Val acc: 0.8232 | Val kappa: 0.5084 \n",
      "\n",
      "Epoch: 16 \n",
      "Learning rate: 5.3453844040632245e-05\n",
      "Train loss: 0.4493 | Train precision: 0.8271 | Train recall: 0.8228 | Train f1score: 0.8250 | Train acc: 0.7832 | Train kappa: 0.7331 \n",
      "Val loss: 0.4000 | Val precision: 0.6831 | Val recall: 0.7933 | Val f1score: 0.6952 | Val acc: 0.8164 | Val kappa: 0.4865 \n",
      "\n",
      "Epoch: 17 \n",
      "Learning rate: 4.0090383030474184e-05\n",
      "Train loss: 0.4485 | Train precision: 0.8292 | Train recall: 0.8205 | Train f1score: 0.8248 | Train acc: 0.7835 | Train kappa: 0.7259 \n",
      "Val loss: 0.3798 | Val precision: 0.6989 | Val recall: 0.7840 | Val f1score: 0.7048 | Val acc: 0.8271 | Val kappa: 0.5019 \n",
      "\n",
      "Epoch: 18 \n",
      "Learning rate: 3.006778727285564e-05\n",
      "Train loss: 0.4383 | Train precision: 0.8322 | Train recall: 0.8320 | Train f1score: 0.8321 | Train acc: 0.7923 | Train kappa: 0.7370 \n",
      "Val loss: 0.3864 | Val precision: 0.7165 | Val recall: 0.7944 | Val f1score: 0.7119 | Val acc: 0.8193 | Val kappa: 0.4996 \n",
      "\n",
      "Epoch: 19 \n",
      "Learning rate: 2.255084045464173e-05\n",
      "Train loss: 0.4398 | Train precision: 0.8320 | Train recall: 0.8252 | Train f1score: 0.8285 | Train acc: 0.7876 | Train kappa: 0.7355 \n",
      "Val loss: 0.3946 | Val precision: 0.6823 | Val recall: 0.7893 | Val f1score: 0.6944 | Val acc: 0.8174 | Val kappa: 0.4859 \n",
      "\n",
      "Epoch: 20 \n",
      "Learning rate: 1.6913130340981296e-05\n",
      "Train loss: 0.4325 | Train precision: 0.8339 | Train recall: 0.8297 | Train f1score: 0.8317 | Train acc: 0.7910 | Train kappa: 0.7420 \n",
      "Val loss: 0.3984 | Val precision: 0.6819 | Val recall: 0.7889 | Val f1score: 0.6938 | Val acc: 0.8164 | Val kappa: 0.4844 \n",
      "\n",
      "Epoch: 21 \n",
      "Learning rate: 1.2684847755735971e-05\n",
      "Train loss: 0.4370 | Train precision: 0.8349 | Train recall: 0.8312 | Train f1score: 0.8330 | Train acc: 0.7942 | Train kappa: 0.7418 \n",
      "Val loss: 0.4081 | Val precision: 0.6964 | Val recall: 0.7945 | Val f1score: 0.6984 | Val acc: 0.8076 | Val kappa: 0.4789 \n",
      "\n",
      "Epoch: 22 \n",
      "Learning rate: 9.513635816801978e-06\n",
      "Train loss: 0.4388 | Train precision: 0.8324 | Train recall: 0.8248 | Train f1score: 0.8285 | Train acc: 0.7876 | Train kappa: 0.7371 \n",
      "Val loss: 0.3937 | Val precision: 0.6823 | Val recall: 0.7893 | Val f1score: 0.6944 | Val acc: 0.8174 | Val kappa: 0.4859 \n",
      "\n",
      "Epoch: 23 \n",
      "Learning rate: 7.135226862601483e-06\n",
      "Train loss: 0.4383 | Train precision: 0.8338 | Train recall: 0.8270 | Train f1score: 0.8303 | Train acc: 0.7875 | Train kappa: 0.7368 \n",
      "Val loss: 0.4197 | Val precision: 0.6837 | Val recall: 0.8067 | Val f1score: 0.6936 | Val acc: 0.8047 | Val kappa: 0.4767 \n",
      "\n",
      "Early stopping after epoch 23\n"
     ]
    },
    {
     "data": {
      "text/html": [
       "Waiting for W&B process to finish... <strong style=\"color:green\">(success).</strong>"
      ],
      "text/plain": [
       "<IPython.core.display.HTML object>"
      ]
     },
     "metadata": {},
     "output_type": "display_data"
    },
    {
     "data": {
      "text/html": [
       "<style>\n",
       "    table.wandb td:nth-child(1) { padding: 0 10px; text-align: left ; width: auto;} td:nth-child(2) {text-align: left ; width: 100%}\n",
       "    .wandb-row { display: flex; flex-direction: row; flex-wrap: wrap; justify-content: flex-start; width: 100% }\n",
       "    .wandb-col { display: flex; flex-direction: column; flex-basis: 100%; flex: 1; padding: 10px; }\n",
       "    </style>\n",
       "<div class=\"wandb-row\"><div class=\"wandb-col\"><h3>Run history:</h3><br/><table class=\"wandb\"><tr><td>epoch</td><td>▁▁▂▂▂▃▃▃▄▄▄▅▅▅▅▆▆▆▇▇▇██</td></tr><tr><td>fold</td><td>▁▁▁▁▁▁▁▁▁▁▁▁▁▁▁▁▁▁▁▁▁▁▁</td></tr><tr><td>learning_rate</td><td>█▆▅▄▃▃▂▂▂▂▁▁▁▁▁▁▁▁▁▁▁▁▁</td></tr><tr><td>train_f1_score</td><td>▁▄▅▅▆▆▇▇▇▇▇████████████</td></tr><tr><td>train_loss</td><td>█▅▄▄▃▃▃▂▂▂▂▂▁▂▁▁▁▁▁▁▁▁▁</td></tr><tr><td>val_f1_score</td><td>▁▇▇█▇█▇▇█▇█▇███▇██▇▇▇▇▇</td></tr><tr><td>val_loss</td><td>▁▁▅▂█▄▆▅▄▆▂▄▃▃▃▃▂▃▃▃▃▃▄</td></tr></table><br/></div><div class=\"wandb-col\"><h3>Run summary:</h3><br/><table class=\"wandb\"><tr><td>epoch</td><td>22</td></tr><tr><td>fold</td><td>5</td></tr><tr><td>learning_rate</td><td>1e-05</td></tr><tr><td>train_f1_score</td><td>0.83031</td></tr><tr><td>train_loss</td><td>0.43829</td></tr><tr><td>val_f1_score</td><td>0.69355</td></tr><tr><td>val_loss</td><td>0.41975</td></tr></table><br/></div></div>"
      ],
      "text/plain": [
       "<IPython.core.display.HTML object>"
      ]
     },
     "metadata": {},
     "output_type": "display_data"
    },
    {
     "data": {
      "text/html": [
       " View run <strong style=\"color:#cdcd00\">fold_5_new_val_set</strong> at: <a href='https://wandb.ai/simon-ecke/wze-uav/runs/h9loahk5' target=\"_blank\">https://wandb.ai/simon-ecke/wze-uav/runs/h9loahk5</a><br/>Synced 5 W&B file(s), 0 media file(s), 0 artifact file(s) and 0 other file(s)"
      ],
      "text/plain": [
       "<IPython.core.display.HTML object>"
      ]
     },
     "metadata": {},
     "output_type": "display_data"
    },
    {
     "data": {
      "text/html": [
       "Find logs at: <code>.\\wandb\\run-20230414_092022-h9loahk5\\logs</code>"
      ],
      "text/plain": [
       "<IPython.core.display.HTML object>"
      ]
     },
     "metadata": {},
     "output_type": "display_data"
    },
    {
     "name": "stdout",
     "output_type": "stream",
     "text": [
      "Deleting variables and emptying cache\n",
      "Memory allocated: 1055400960 bytes\n",
      "--------------------------------------------------\n",
      "\n",
      "CPU times: total: 4h 47min 18s\n",
      "Wall time: 9h 44min\n"
     ]
    }
   ],
   "source": [
    "%%time\n",
    "\n",
    "# Set the random seeds\n",
    "set_seeds(42)\n",
    "\n",
    "# Define the number of folds\n",
    "num_folds = 5\n",
    "\n",
    "# Create a KFold object\n",
    "kf = KFold(n_splits=num_folds, shuffle=True, random_state=42)\n",
    "\n",
    "unique_values = np.unique(train_val_hash_id[:,0]) # now there are less unique values left because we seperated the test dataset\n",
    "num_unique = len(unique_values)\n",
    "print(f\"There are {num_unique} unique values within hash_id.\\n\")\n",
    "\n",
    "# Loop over each fold\n",
    "for fold, (train_ids, val_ids) in enumerate(kf.split(unique_values)):\n",
    "    torch.cuda.empty_cache()\n",
    "    \n",
    "    # Initialize a new wandb run for this fold\n",
    "    wandb.init(project='wze-uav', name=f\"fold_{fold + 1}_{extra}\")\n",
    "    \n",
    "    # 1. Split data into train and validation set\n",
    "    # Get the training and testing data for this fold\n",
    "    # Use np.isin() to create boolean arrays indicating which indices belong to train or test sets\n",
    "    train_indices = np.isin(train_val_hash_id[:,0], unique_values[train_ids])\n",
    "    print(train_indices.shape)\n",
    "    \n",
    "    val_indices = np.zeros_like(train_indices)  # initialize to all False\n",
    "    for hash_id_val in unique_values[val_ids]:\n",
    "        # select one image ID randomly from either 2020 or 2021 or 2022 for each unique hash ID in the test set\n",
    "        year = np.random.choice(['2020', '2021', '2022'])\n",
    "        image_ids = train_val_hash_id[(train_val_hash_id[:,0] == hash_id_val) & (train_val_hash_id[:,1] == year), 0]\n",
    "    \n",
    "        # mark the index corresponding to the selected image ID and hash ID as True in the test indices array\n",
    "        val_indices[(train_val_hash_id[:,0] == hash_id_val) & (train_val_hash_id[:,1] == year) & (np.isin(train_val_hash_id[:,0], image_ids))] = True \n",
    "    \n",
    "    # Reshape boolean arrays to match shape of image_set and label_set\n",
    "    train_indices = train_indices.reshape(-1, 1)\n",
    "    val_indices = val_indices.reshape(-1, 1)\n",
    "    \n",
    "    # Select images and labels for train and validation sets\n",
    "    train_image_set = train_val_image_set[train_indices[:, 0]]\n",
    "    train_label_set = train_val_label_set[train_indices[:, 0]]\n",
    "    train_hash_id = train_val_hash_id[train_indices[:, 0]][:,0]\n",
    "    train_species_set = train_val_species_set[train_indices[:, 0]]\n",
    "    val_image_set = train_val_image_set[val_indices[:, 0]]\n",
    "    val_label_set = train_val_label_set[val_indices[:, 0]]\n",
    "    val_hash_id = train_val_hash_id[val_indices[:, 0]][:,0]\n",
    "    val_species_set = train_val_species_set[val_indices[:, 0]]\n",
    "    train_label_set = train_label_set.reshape(-1, 1)\n",
    "    val_label_set = val_label_set.reshape(-1, 1)\n",
    "    train_species_set = train_species_set.reshape(-1, 1)\n",
    "    val_species_set = val_species_set.reshape(-1, 1)\n",
    "\n",
    "         \n",
    "    print(\"Check shapes:\\n\")\n",
    "    print(f\"Images train dataset: {train_image_set.shape}\")\n",
    "    print(f\"Labels train dataset: {train_label_set.shape}\\n\")\n",
    "    \n",
    "    print(f\"Images validation dataset: {val_image_set.shape}\")\n",
    "    print(f\"Labels validation dataset: {val_label_set.shape}\\n\")\n",
    "    print('-'*50)\n",
    "    print (f\"Check if the split was stratified: (random_state=42)\")\n",
    "    print(f\"Healthy trees in train dataset: {np.count_nonzero(train_label_set == 0)}\")\n",
    "    print(f\"Stressed trees in train dataset: {np.count_nonzero(train_label_set == 1)}\")\n",
    "    print(f\"Dead trees in train dataset: {np.count_nonzero(train_label_set == 2)}\")\n",
    "    print(f\"Healthy trees in validation dataset: {np.count_nonzero(val_label_set == 0)}\")\n",
    "    print(f\"Stressed trees in validation dataset: {np.count_nonzero(val_label_set == 1)}\")\n",
    "    print(f\"Dead trees in validation dataset: {np.count_nonzero(val_label_set == 2)}\")\n",
    "    print(f\"Ratio health trees in validation dataset: {np.count_nonzero(val_label_set == 0)/np.count_nonzero(label_set == 0)}\")\n",
    "    print(f\"Ratio stressed trees in validation dataset: {np.count_nonzero(val_label_set == 1)/np.count_nonzero(label_set == 1)}\")\n",
    "    print(f\"Ratio dead trees in validation dataset: {np.count_nonzero(val_label_set == 2)/np.count_nonzero(label_set == 2)}\")\n",
    "    print(\"-\"*50)\n",
    "   \n",
    "    # 2. Create train and validation dataset. (choose custom dataset loader with 3 - 5 classes)\n",
    "    print(f\"\\nCreating datasets for fold: {fold + 1}\\n\")\n",
    "    train_dataset = data_loader.CustomDataset(data=train_image_set, labels=train_label_set, class_names=class_names, species = train_species_set,\n",
    "                                                         transform=transform_train)\n",
    "    \n",
    "    val_dataset = data_loader.CustomDataset(data=val_image_set, labels=val_label_set, class_names=class_names,\n",
    "                                                       species = val_species_set, transform=transform)\n",
    "   \n",
    "    # 3. Create train and validation dataloader\n",
    "    # create sampler for oversampling of the minority classes\n",
    "    sampler = data_loader.data_sampler(dataset=train_dataset, class_names=class_names)\n",
    "    print(f\"Creating dataloaders for fold: {fold +1}\\n\")\n",
    "    train_dataloader = DataLoader(train_dataset, batch_size=batch_size, persistent_workers=True, pin_memory=True, num_workers=NUM_WORKERS, generator=g,\n",
    "                              sampler=sampler, shuffle=False, drop_last=True) # shuffle false because of the sampler\n",
    "\n",
    "    val_dataloader = DataLoader(val_dataset, batch_size=batch_size, persistent_workers=True, pin_memory=True, num_workers=NUM_WORKERS, shuffle=False,\n",
    "                             drop_last=True)\n",
    "    \n",
    "    model = model_effnet.EfficientNet.from_pretrained('efficientnet-b7', in_channels=n_bands, num_classes=num_classes, dropout_rate=dropout_rate)\n",
    "    loss_fn = nn.CrossEntropyLoss()\n",
    "    optimizer = torch.optim.Adam(params=model.parameters(), lr=lr)\n",
    "    #lr_scheduler = StepLR(optimizer, step_size=step_size, gamma=gamma)\n",
    "    lr_scheduler = ExponentialLR(optimizer, gamma=gamma)\n",
    "\n",
    "    fold += 1\n",
    "    print(f\"\\n[INFO] Fold number: {fold}\")\n",
    "    print(f\"[INFO] Number of epochs: {epochs}\")\n",
    "    print(f\"[INFO] Batch_size: {batch_size}\")\n",
    "    print(f\"[INFO] Number of bands: {n_bands}\")\n",
    "    print(f\"[INFO] Dropout rate: {dropout_rate}\")\n",
    "    print(f\"[INFO] Gamma learning rate: {gamma}\")\n",
    "    print(f\"[INFO] Memory allocated: {torch.cuda.memory_allocated()} bytes\")\n",
    "    # 4. Train model with k fold dataloaders and track experiments\n",
    "    \n",
    "    if fold == 1:\n",
    "        fold1_results = train(model=model, model_name=model_name, n_bands=n_bands, batch_size=batch_size,train_dataloader=train_dataloader, val_dataloader=val_dataloader, \n",
    "                        optimizer=optimizer, loss_fn=loss_fn, lr_scheduler=lr_scheduler, num_classes=num_classes, epochs=epochs, experiment_num=fold, device=device,\n",
    "                        writer=None, early_stop_patience = patience)\n",
    "       \n",
    "    elif fold == 2:\n",
    "        fold2_results = train(model=model, model_name=model_name, n_bands=n_bands, batch_size=batch_size,train_dataloader=train_dataloader, val_dataloader=val_dataloader, \n",
    "                        optimizer=optimizer, loss_fn=loss_fn, lr_scheduler=lr_scheduler, num_classes=num_classes, epochs=epochs, experiment_num=fold, device=device,\n",
    "                        writer=None, early_stop_patience = patience)\n",
    "    elif fold == 3:\n",
    "        fold3_results = train(model=model, model_name=model_name, n_bands=n_bands, batch_size=batch_size,train_dataloader=train_dataloader, val_dataloader=val_dataloader, \n",
    "                        optimizer=optimizer, loss_fn=loss_fn, lr_scheduler=lr_scheduler, num_classes=num_classes, epochs=epochs, experiment_num=fold, device=device,\n",
    "                        writer=None, early_stop_patience = patience)\n",
    "    elif fold == 4:\n",
    "        fold4_results = train(model=model, model_name=model_name, n_bands=n_bands, batch_size=batch_size,train_dataloader=train_dataloader, val_dataloader=val_dataloader, \n",
    "                        optimizer=optimizer, loss_fn=loss_fn, lr_scheduler=lr_scheduler, num_classes=num_classes, epochs=epochs, experiment_num=fold, device=device,\n",
    "                        writer=None, early_stop_patience = patience)\n",
    "    else:\n",
    "        fold5_results = train(model=model, model_name=model_name, n_bands=n_bands, batch_size=batch_size,train_dataloader=train_dataloader, val_dataloader=val_dataloader, \n",
    "                        optimizer=optimizer, loss_fn=loss_fn, lr_scheduler=lr_scheduler, num_classes=num_classes, epochs=epochs, experiment_num=fold, device=device,\n",
    "                        writer=None, early_stop_patience = patience)\n",
    "    \n",
    "    del train_indices, val_indices, train_image_set, train_label_set, train_hash_id, train_species_set, val_image_set, val_label_set, val_hash_id, val_species_set,\n",
    "    train_dataset, val_dataset, sampler, train_dataloader, val_dataloader, model, loss_fn, optimizer, lr_scheduler\n",
    "    \n",
    "    #finish the wandb run\n",
    "    wandb.finish()\n",
    "    print(\"Deleting variables and emptying cache\")\n",
    "    gc.collect()\n",
    "    torch.cuda.empty_cache()\n",
    "    print(f\"Memory allocated: {torch.cuda.memory_allocated()} bytes\")\n",
    "    print(\"-\"*50 + \"\\n\")\n",
    "    \n"
   ]
  },
  {
   "cell_type": "code",
   "execution_count": null,
   "id": "1885cc98",
   "metadata": {},
   "outputs": [],
   "source": [
    "# Create a graph to visualize the training and validation loss for each fold\n",
    "wandb.run.summary[\"graph\"] = wandb.plot.line_series(\n",
    "    xs=\"epoch\",\n",
    "    ys=[\"train_loss\", \"val_loss\"],\n",
    "    group=\"fold\",\n",
    "    xaxis=\"Epoch\",\n",
    "    yaxis=\"Loss\",\n",
    "    title=\"Training and Validation Loss by Fold\",\n",
    ")\n",
    "\n",
    "# Create a graph to visualize the training and validation f1 score for each fold\n",
    "wandb.run.summary[\"graph\"] = wandb.plot.line_series(\n",
    "    xs=\"epoch\",\n",
    "    ys=[\"train_f1_score\", \"val_f1_score\"],\n",
    "    group=\"fold\",\n",
    "    xaxis=\"Epoch\",\n",
    "    yaxis=\"Loss\",\n",
    "    title=\"Training and Validation F1-Score by Fold\",\n",
    ")"
   ]
  },
  {
   "cell_type": "code",
   "execution_count": null,
   "id": "c0c36ebb",
   "metadata": {},
   "outputs": [],
   "source": [
    "# create test dataset\n",
    "test_dataset = data_loader.CustomDataset3Classes(\n",
    "    data = test_image_set,\n",
    "    labels = test_label_set,\n",
    "    class_names=class_names, \n",
    "    species = test_species_set,\n",
    "    kkl = test_kkl_set,\n",
    "    transform=transform\n",
    ")\n",
    "\n",
    "# create test dataloader\n",
    "test_dataloader = DataLoader(test_dataset,\n",
    "                             batch_size=batch_size,\n",
    "                             persistent_workers=True,\n",
    "                             pin_memory=True,\n",
    "                             num_workers=NUM_WORKERS,\n",
    "                             shuffle=False,\n",
    "                             drop_last=True)"
   ]
  },
  {
   "cell_type": "code",
   "execution_count": null,
   "id": "ce0cb7a1",
   "metadata": {},
   "outputs": [],
   "source": []
  },
  {
   "cell_type": "code",
   "execution_count": null,
   "id": "67db5af2",
   "metadata": {},
   "outputs": [],
   "source": [
    "# Setup the best model filepath\n",
    "best_model_path = r\"C:\\Users\\lwfeckesim\\01_PyTorch\\wze-uav\\wze-uav-master\\effnet_b0\\01_18_epochs.pth\"\n",
    "\n",
    "# Instantiate a new instance of EffNetB0 (to load the saved state_dict() to)\n",
    "unfreeze=True\n",
    "best_model = models.create_effnetb0(output_shape=num_classes, unfreeze=unfreeze, dropout_rate=dropout_rate, device=device)\n",
    "\n",
    "# Load the saved best model state_dict()\n",
    "best_model.load_state_dict(torch.load(best_model_path))"
   ]
  },
  {
   "cell_type": "code",
   "execution_count": null,
   "id": "6dfbc663",
   "metadata": {},
   "outputs": [],
   "source": [
    "def make_predictions(model: torch.nn.Module, \n",
    "                     test_dataloader: torch.utils.data.DataLoader,\n",
    "                     device: torch.device):\n",
    "    # 1. Make predictions with trained model\n",
    "    y_preds = []\n",
    "    y_labels = []\n",
    "    test_loss, test_precision, test_recall, test_f1_score, test_acc = 0, 0, 0, 0, 0\n",
    "    count = 0\n",
    "    model.eval()\n",
    "    with torch.inference_mode():\n",
    "        for X, y in tqdm(test_dataloader, desc=\"Making predictions\"):\n",
    "            # Send data and targets to target device\n",
    "            X, y = X.to(device), y.to(device)\n",
    "            # Do the forward pass\n",
    "            y_logit = model(X)\n",
    "            # Turn predictions from logits -> prediction probabilities -> predictions labels\n",
    "            y_pred = torch.softmax(y_logit, dim=1).argmax(dim=1)\n",
    "            # Put predictions on CPU for evaluation\n",
    "            y_preds.append(y_pred.cpu())\n",
    "            y_labels.append(y.cpu())\n",
    "            \n",
    "            #other metrics\n",
    "            test_acc += ((y_pred == y).sum().item()/len(y_pred))\n",
    "            y_pred_class = y_pred.detach().cpu().numpy() \n",
    "            y_class = y.detach().cpu().numpy()\n",
    "            labels = np.array([0])\n",
    "            test_precision += precision_score(y_class, y_pred_class, average='macro', zero_division=0, labels=[0,1,2])\n",
    "            test_recall += recall_score(y_class, y_pred_class, average='macro', zero_division=0, labels=[0,1,2])\n",
    "            #test_f1_score += f1_score(y_class, y_pred_class, average='macro', zero_division=1, labels=labels)\n",
    "            \n",
    "            #if count >= 1:\n",
    "            #    y_set = torch.cat((y_set, y))\n",
    "            #    count = count + 1\n",
    "            #else:\n",
    "            #    y_set = y\n",
    "            #    count = count + 1\n",
    "            \n",
    "    test_loss = test_loss / len(test_dataloader)\n",
    "    test_precision = test_precision / len(test_dataloader)\n",
    "    test_recall = test_recall / len(test_dataloader)\n",
    "    test_f1_score = test_f1_score / len(test_dataloader)\n",
    "    #test_kappa = test_kappa / len(dataloader)\n",
    "    test_acc = test_acc / len(test_dataloader)\n",
    "    # Concatenate list of predictions into a tensor\n",
    "    y_pred_tensor = torch.cat(y_preds)\n",
    "    y_labels_tensor = torch.cat(y_labels)\n",
    "    test_f1_score = f1_score(y_labels_tensor.detach().cpu().numpy(), y_pred_tensor.cpu().numpy(), average='macro', zero_division=1, labels=[0,1,2])\n",
    "    \n",
    "    # Print classification report\n",
    "    y_true = y_labels_tensor.detach().cpu().numpy()\n",
    "    report = classification_report(y_true, y_pred_tensor.cpu().numpy(), target_names=class_names)\n",
    "    print(report)\n",
    "    \n",
    "    return y_pred_tensor, y_labels_tensor, test_loss, test_recall, test_precision, test_f1_score, test_acc, y_logit, y_pred, y, y_preds"
   ]
  },
  {
   "cell_type": "code",
   "execution_count": null,
   "id": "aab9e321",
   "metadata": {},
   "outputs": [],
   "source": [
    "# 2. Setup confusion matrix instance and compare predictions to targets\n",
    "#from wze_uav.analysis import *\n",
    "y_pred_tensor, y_labels_tensor, test_loss, test_recall, test_precision, test_f1_score, test_acc, y_logit, y_pred, y, y_preds = make_predictions(model=best_model,\n",
    "                                 test_dataloader=test_dataloader, \n",
    "                                 device=device)\n",
    "\n",
    "y_labels_tensor = y_labels_tensor.detach().cpu().numpy()\n",
    "y_pred_tensor = y_pred_tensor.detach().cpu().numpy()\n",
    "\n",
    "#confmat = ConfusionMatrix(num_classes=num_classes, task='multiclass')\n",
    "#confmat_tensor = confmat(preds=y_pred_tensor,\n",
    "#                         target=test_labels)\n",
    "labels = np.array([0,1,2])\n",
    "confmat = confusion_matrix(y_labels_tensor, y_pred_tensor, labels=labels)\n",
    "\n",
    "# 3. Plot the confusion matrix\n",
    "fig, ax = plot_confusion_matrix(\n",
    "    conf_mat=confmat, # matplotlib likes working with NumPy \n",
    "    class_names=class_names, # turn the row and column labels into class names\n",
    "    figsize=(10, 7)\n",
    ");\n",
    "\n",
    "print(f\"Test loss: {test_loss}\")\n",
    "print(f\"Test precision: {test_precision}\")\n",
    "print(f\"Test recall: {test_recall}\")\n",
    "print(f\"Test F1score: {test_f1_score}\")\n",
    "#print(f\"Test Kappa: {test_kappa}\")\n",
    "print(f\"Test Accuracy: {test_acc}\")\n",
    "print(f\"Test Logits: {y_logit}\")\n",
    "print(f\"Test Predictions: {y_pred}\")\n",
    "print(f\"Test Labels: {y}\")"
   ]
  },
  {
   "cell_type": "code",
   "execution_count": null,
   "id": "8d4173b3",
   "metadata": {},
   "outputs": [],
   "source": [
    "len(y_preds)"
   ]
  },
  {
   "cell_type": "code",
   "execution_count": null,
   "id": "7588116f",
   "metadata": {},
   "outputs": [],
   "source": [
    "y_set.cpu()"
   ]
  },
  {
   "cell_type": "code",
   "execution_count": null,
   "id": "1c195b3e",
   "metadata": {},
   "outputs": [],
   "source": [
    "test_dataset.labels"
   ]
  },
  {
   "cell_type": "code",
   "execution_count": null,
   "id": "975ec08c",
   "metadata": {},
   "outputs": [],
   "source": []
  },
  {
   "cell_type": "code",
   "execution_count": null,
   "id": "6da05604",
   "metadata": {},
   "outputs": [],
   "source": [
    "y_preds = []\n",
    "y_labels = []\n",
    "labels = np.array([0,1,2])\n",
    "test_loss, test_precision, test_recall, test_f1_score, test_acc = 0, 0, 0, 0, 0\n",
    "count = 0\n",
    "model.eval()\n",
    "with torch.inference_mode():\n",
    "    for X, y in tqdm(test_dataloader, desc=\"Making predictions\"):\n",
    "        # Send data and targets to target device\n",
    "        X, y = X.to(device), y.to(device)\n",
    "        # Do the forward pass\n",
    "        y_logit = model(X)\n",
    "        # Turn predictions from logits -> prediction probabilities -> predictions labels\n",
    "        y_pred = torch.softmax(y_logit, dim=1).argmax(dim=1)\n",
    "        # Put predictions on CPU for evaluation\n",
    "        y_preds.append(y_pred.cpu())\n",
    "        y_labels.append(y.cpu())\n",
    "        \n",
    "        #other metrics\n",
    "        test_acc += ((y_pred == y).sum().item()/len(y_pred))\n",
    "        y_pred_class = y_pred.detach().cpu().numpy() \n",
    "        y_class = y.detach().cpu().numpy()\n",
    "        test_precision += precision_score(y_class, y_pred_class, average='macro', zero_division=1, labels=labels)\n",
    "        test_recall += recall_score(y_class, y_pred_class, average='macro', zero_division=1, labels=labels)\n",
    "        #test_f1_score += f1_score(y_class, y_pred_class, average='macro', zero_division=1, labels=labels)\n",
    "        \n",
    "        #if count >= 1:\n",
    "        #    y_set = torch.cat((y_set, y))\n",
    "        #    count = count + 1\n",
    "        #else:\n",
    "        #    y_set = y\n",
    "        #    count = count + 1\n",
    "        \n",
    "test_loss = test_loss / len(test_dataloader)\n",
    "test_precision = test_precision / len(test_dataloader)\n",
    "test_recall = test_recall / len(test_dataloader)\n",
    "#test_f1_score = test_f1_score / len(test_dataloader)\n",
    "#test_kappa = test_kappa / len(dataloader)\n",
    "test_acc = test_acc / len(test_dataloader)\n",
    "# Concatenate list of predictions into a tensor\n",
    "y_pred_tensor = torch.cat(y_preds)\n",
    "test_f1_score = f1_score(y_set.detach().cpu().numpy(), y_pred_tensor.cpu().numpy(), average='macro', zero_division=0, labels=[0,1,2])\n",
    "\n",
    "# Print classification report\n",
    "y_true = y_set.detach().cpu().numpy()\n",
    "report = classification_report(y_true, y_pred_tensor.cpu().numpy(), target_names=class_names)\n",
    "print(report)"
   ]
  },
  {
   "cell_type": "code",
   "execution_count": null,
   "id": "6ae97fab",
   "metadata": {},
   "outputs": [],
   "source": [
    "test_f1_score"
   ]
  },
  {
   "cell_type": "code",
   "execution_count": null,
   "id": "7ebafd9b",
   "metadata": {},
   "outputs": [],
   "source": [
    "make = (y_class == y_pred_class)\n",
    "make"
   ]
  },
  {
   "cell_type": "code",
   "execution_count": null,
   "id": "4f8aa759",
   "metadata": {},
   "outputs": [],
   "source": [
    "torch.softmax(y_logit, dim=1).argmax(dim=1)"
   ]
  },
  {
   "cell_type": "code",
   "execution_count": null,
   "id": "f90a54b2",
   "metadata": {},
   "outputs": [],
   "source": [
    "y"
   ]
  },
  {
   "cell_type": "code",
   "execution_count": null,
   "id": "5a806154",
   "metadata": {},
   "outputs": [],
   "source": [
    "test = (y_pred == y).sum().item()/16"
   ]
  },
  {
   "cell_type": "code",
   "execution_count": null,
   "id": "1da35c56",
   "metadata": {},
   "outputs": [],
   "source": [
    "test"
   ]
  },
  {
   "cell_type": "code",
   "execution_count": null,
   "id": "b1eb246e",
   "metadata": {},
   "outputs": [],
   "source": [
    " y_pred_class = y_pred.detach().cpu().numpy() "
   ]
  },
  {
   "cell_type": "code",
   "execution_count": null,
   "id": "602e096f",
   "metadata": {},
   "outputs": [],
   "source": [
    "y_pred_class"
   ]
  },
  {
   "cell_type": "code",
   "execution_count": null,
   "id": "eaf1af09",
   "metadata": {},
   "outputs": [],
   "source": []
  }
 ],
 "metadata": {
  "kernelspec": {
   "display_name": "Python 3 (ipykernel)",
   "language": "python",
   "name": "python3"
  },
  "language_info": {
   "codemirror_mode": {
    "name": "ipython",
    "version": 3
   },
   "file_extension": ".py",
   "mimetype": "text/x-python",
   "name": "python",
   "nbconvert_exporter": "python",
   "pygments_lexer": "ipython3",
   "version": "3.9.16"
  }
 },
 "nbformat": 4,
 "nbformat_minor": 5
}
