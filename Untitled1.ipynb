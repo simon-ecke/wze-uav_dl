{
 "cells": [
  {
   "cell_type": "code",
   "execution_count": 11,
   "id": "2389d6ac",
   "metadata": {},
   "outputs": [
    {
     "data": {
      "text/plain": [
       "torch.float32"
      ]
     },
     "execution_count": 11,
     "metadata": {},
     "output_type": "execute_result"
    }
   ],
   "source": [
    "import torch\n",
    "\n",
    "total_samples = 18805\n",
    "num_classes = 3\n",
    "num_samples_class = [11362, 7131, 312]\n",
    "class_weights = [1. / num_samples_class[i] for i in range(num_classes)]\n",
    "loss_weight = torch.Tensor(class_weights)\n",
    "\n",
    "#loss_weight = loss_weight.type(torch.FloatTensor)\n",
    "loss_weight"
   ]
  },
  {
   "cell_type": "code",
   "execution_count": null,
   "id": "93efc06a",
   "metadata": {},
   "outputs": [],
   "source": []
  },
  {
   "cell_type": "code",
   "execution_count": null,
   "id": "42381736",
   "metadata": {},
   "outputs": [],
   "source": []
  }
 ],
 "metadata": {
  "kernelspec": {
   "display_name": "Python 3 (ipykernel)",
   "language": "python",
   "name": "python3"
  },
  "language_info": {
   "codemirror_mode": {
    "name": "ipython",
    "version": 3
   },
   "file_extension": ".py",
   "mimetype": "text/x-python",
   "name": "python",
   "nbconvert_exporter": "python",
   "pygments_lexer": "ipython3",
   "version": "3.9.16"
  }
 },
 "nbformat": 4,
 "nbformat_minor": 5
}
