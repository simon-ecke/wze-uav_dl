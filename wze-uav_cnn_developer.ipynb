{
 "cells": [
  {
   "cell_type": "markdown",
   "id": "9f9a7116",
   "metadata": {},
   "source": [
    "# WZE-UAV Image Classification using Deep Learning"
   ]
  },
  {
   "cell_type": "code",
   "execution_count": 1,
   "id": "2159aac5",
   "metadata": {},
   "outputs": [
    {
     "data": {
      "text/plain": [
       "[<matplotlib.lines.Line2D at 0x1c4b06ca8e0>]"
      ]
     },
     "execution_count": 1,
     "metadata": {},
     "output_type": "execute_result"
    },
    {
     "data": {
      "image/png": "[encoded data removed]",
      "text/plain": [
       "<Figure size 432x288 with 1 Axes>"
      ]
     },
     "metadata": {
      "needs_background": "light"
     },
     "output_type": "display_data"
    }
   ],
   "source": [
    "import os\n",
    "import glob\n",
    "import matplotlib.pyplot as plt\n",
    "import rasterio\n",
    "import numpy as np\n",
    "import mlxtend\n",
    "from pathlib import Path\n",
    "from tqdm.auto import tqdm\n",
    "\n",
    "x = (1,3)\n",
    "y = (1,3)\n",
    "plt.plot(x,y)"
   ]
  },
  {
   "cell_type": "code",
   "execution_count": 2,
   "id": "0026f7a9",
   "metadata": {},
   "outputs": [],
   "source": [
    "import torch\n",
    "import torchvision.transforms as T\n",
    "import torchvision\n",
    "from torch import nn\n",
    "from torch.utils.data import DataLoader\n",
    "from torchinfo import summary\n",
    "from torchvision import datasets, transforms\n",
    "from torch.utils.data import Dataset\n",
    "from torchinfo import summary\n",
    "import h5py"
   ]
  },
  {
   "cell_type": "code",
   "execution_count": 3,
   "id": "b160d7b4",
   "metadata": {},
   "outputs": [],
   "source": [
    "import wze_uav.data_loader as data_loader\n",
    "import wze_uav.visualization as visualization\n",
    "import wze_uav.models as models\n",
    "from wze_uav.engine import *\n",
    "from wze_uav.utils2 import *\n",
    "from wze_uav.log_writer import create_writer"
   ]
  },
  {
   "cell_type": "markdown",
   "id": "eec509db",
   "metadata": {},
   "source": [
    "#### Get PyTorch version"
   ]
  },
  {
   "cell_type": "code",
   "execution_count": 4,
   "id": "c10886b1",
   "metadata": {},
   "outputs": [
    {
     "name": "stdout",
     "output_type": "stream",
     "text": [
      "torch version: 1.13.1+cu116\n",
      "torchvision version: 0.14.1+cu116\n"
     ]
    }
   ],
   "source": [
    "print(f\"torch version: {torch.__version__}\")\n",
    "print(f\"torchvision version: {torchvision.__version__}\")"
   ]
  },
  {
   "cell_type": "markdown",
   "id": "77f5a946",
   "metadata": {},
   "source": [
    "#### Preparing device agnostic code "
   ]
  },
  {
   "cell_type": "code",
   "execution_count": 5,
   "id": "13d5de88",
   "metadata": {},
   "outputs": [
    {
     "name": "stdout",
     "output_type": "stream",
     "text": [
      "cuda\n",
      "Index of current divice: 0\n",
      "Number of GPUs available: 1\n",
      "GPU Model: Quadro RTX 8000\n"
     ]
    }
   ],
   "source": [
    "# ensure device agnostic code\n",
    "device = 'cuda' if torch.cuda.is_available() else 'cpu'\n",
    "print(device)\n",
    "\n",
    "# get index of currently selected device\n",
    "print(f\"Index of current divice: {torch.cuda.current_device()}\")\n",
    "# get number of GPUs available\n",
    "print(f\"Number of GPUs available: {torch.cuda.device_count()}\")\n",
    "# get the name of the device\n",
    "print(f\"GPU Model: {torch.cuda.get_device_name(0)}\")"
   ]
  },
  {
   "cell_type": "markdown",
   "id": "6470792a",
   "metadata": {},
   "source": [
    "#### Ensure reproducibility "
   ]
  },
  {
   "cell_type": "code",
   "execution_count": 6,
   "id": "dd4656a7",
   "metadata": {},
   "outputs": [],
   "source": [
    "# for more information, see also: https://pytorch.org/docs/stable/notes/randomness.html\n",
    "\n",
    "# Set seeds\n",
    "def set_seeds(seed: int=0):\n",
    "    \"\"\"Sets random sets for torch operations.\n",
    "\n",
    "    Args:\n",
    "        seed (int, optional): Random seed to set. Defaults to 42.\n",
    "    \"\"\"\n",
    "    # Set the seed for general torch operations\n",
    "    torch.manual_seed(seed)\n",
    "    # Set the seed for CUDA torch operations (ones that happen on the GPU)\n",
    "    torch.cuda.manual_seed(seed)\n",
    "\n",
    "# seed for numpy\n",
    "np.random.seed(0)\n",
    "# avoiding non-deterministic algorithms\n",
    "#torch.use_deterministic_algorithms(True)\n",
    "# Set to true -> might speed up the process but should be set to False if reproducible results are desired\n",
    "torch.backends.cudnn.benchmark = True\n"
   ]
  },
  {
   "cell_type": "markdown",
   "id": "46bb9567",
   "metadata": {},
   "source": [
    "#### Define file directories"
   ]
  },
  {
   "cell_type": "code",
   "execution_count": 7,
   "id": "30645f36",
   "metadata": {},
   "outputs": [],
   "source": [
    "set_seeds() # ensure reproducibility\n",
    "\n",
    "# Data 2020\n",
    "train_data_path = r\"D:\\Drohnendaten\\10_WZE-UAV\\Auswertung_findatree\\2020\\ROI\\rgb\\train\"\n",
    "val_data_path = r\"D:\\Drohnendaten\\10_WZE-UAV\\Auswertung_findatree\\2020\\ROI\\rgb\\val\"\n",
    "test_data_path = r\"D:\\Drohnendaten\\10_WZE-UAV\\Auswertung_findatree\\2020\\ROI\\rgb\\test\"\n",
    "\n",
    "# Data 2021\n",
    "train_data_path_2021 = r\"D:\\Drohnendaten\\10_WZE-UAV\\Auswertung_findatree\\2021\\ROI\\rgb\\train\"\n",
    "val_data_path_2021 = r\"D:\\Drohnendaten\\10_WZE-UAV\\Auswertung_findatree\\2021\\ROI\\rgb\\val\"\n",
    "test_data_path_2021 = r\"D:\\Drohnendaten\\10_WZE-UAV\\Auswertung_findatree\\2021\\ROI\\rgb\\test\"\n",
    "\n"
   ]
  },
  {
   "cell_type": "markdown",
   "id": "a7d30c5d",
   "metadata": {},
   "source": [
    "#### Load images and features (labels and tree species) from hdf5 files"
   ]
  },
  {
   "cell_type": "code",
   "execution_count": 8,
   "id": "a1b72aed",
   "metadata": {},
   "outputs": [],
   "source": [
    "# load all image and feature arrays from hdf5\n",
    "# loops through all hdf5 files! \n",
    "\n",
    "# Data 2020\n",
    "train_image_set_2020, train_label_set_2020, train_species_set_2020 = data_loader.hdf5_to_img_label(train_data_path, load_sets = [\"images_masked\"])\n",
    "val_image_set_2020, val_label_set_2020, val_species_set_2020 = data_loader.hdf5_to_img_label(val_data_path, load_sets = [\"images_masked\"])\n",
    "test_image_set_2020, test_label_set_2020, test_species_set_2020 = data_loader.hdf5_to_img_label(test_data_path, load_sets = [\"images_masked\"])\n",
    "\n",
    "# Data 2021\n",
    "train_image_set_2021, train_label_set_2021, train_species_set_2021 = data_loader.hdf5_to_img_label(train_data_path_2021, load_sets = [\"images_masked\"])\n",
    "val_image_set_2021, val_label_set_2021, val_species_set_2021 = data_loader.hdf5_to_img_label(val_data_path_2021, load_sets = [\"images_masked\"])\n",
    "test_image_set_2021, test_label_set_2021, test_species_set_2021 = data_loader.hdf5_to_img_label(test_data_path_2021, load_sets = [\"images_masked\"])\n",
    "\n",
    "\n",
    "\n",
    "\n",
    "\n",
    "\n",
    "\n",
    "\n"
   ]
  },
  {
   "cell_type": "code",
   "execution_count": 9,
   "id": "be94550c",
   "metadata": {},
   "outputs": [],
   "source": [
    "# stack all data from 2020, 2021 and 2022 into one dataset\n",
    "# images\n",
    "train_image_set = np.concatenate((train_image_set_2020, train_image_set_2021), axis=0)\n",
    "val_image_set = np.concatenate((val_image_set_2020, val_image_set_2021), axis=0)\n",
    "test_image_set = np.concatenate((test_image_set_2020, test_image_set_2021), axis=0)\n",
    "\n",
    "#labels\n",
    "train_label_set = np.concatenate((train_label_set_2020, train_label_set_2021), axis=0)\n",
    "val_label_set = np.concatenate((val_label_set_2020, val_label_set_2021), axis=0)\n",
    "test_label_set = np.concatenate((test_label_set_2020, test_label_set_2021), axis=0)\n",
    "\n",
    "#species\n",
    "train_species_set = np.concatenate((train_species_set_2020, train_species_set_2021), axis=0)\n",
    "val_species_set = np.concatenate((val_species_set_2020, val_species_set_2021), axis=0)\n",
    "test_species_set = np.concatenate((test_species_set_2020, test_species_set_2021), axis=0)"
   ]
  },
  {
   "cell_type": "code",
   "execution_count": 10,
   "id": "d885aae5",
   "metadata": {},
   "outputs": [
    {
     "name": "stdout",
     "output_type": "stream",
     "text": [
      "Dataset 2020\n",
      "\n",
      "Train dataset shape: (5427, 250, 250, 3)\n",
      "Train labels shape: (5427, 1)\n",
      "--------------------------------------------------\n",
      "Validation dataset shape: (678, 250, 250, 3)\n",
      "Validation labels shape: (678, 1)\n",
      "--------------------------------------------------\n",
      "Test dataset shape: (758, 250, 250, 3)\n",
      "Test labels shape: (758, 1)\n",
      "--------------------------------------------------\n",
      "\n",
      "Total image samples: 6863\n",
      "Total label samples: 6863\n",
      "\n",
      "==================================================\n",
      "\n",
      "Dataset 2021\n",
      "\n",
      "Train dataset shape: (5086, 250, 250, 3)\n",
      "Train labels shape: (5086, 1)\n",
      "--------------------------------------------------\n",
      "Validation dataset shape: (592, 250, 250, 3)\n",
      "Validation labels shape: (592, 1)\n",
      "--------------------------------------------------\n",
      "Test dataset shape: (847, 250, 250, 3)\n",
      "Test labels shape: (847, 1)\n",
      "--------------------------------------------------\n",
      "\n",
      "Total image samples: 6525\n",
      "Total label samples: 6525\n",
      "\n",
      "==================================================\n",
      "\n",
      "Stacked Dataset\n",
      "\n",
      "Train dataset shape: (10513, 250, 250, 3)\n",
      "Train labels shape: (10513, 1)\n",
      "--------------------------------------------------\n",
      "Validation dataset shape: (1270, 250, 250, 3)\n",
      "Validation labels shape: (1270, 1)\n",
      "--------------------------------------------------\n",
      "Test dataset shape: (1605, 250, 250, 3)\n",
      "Test labels shape: (1605, 1)\n",
      "--------------------------------------------------\n",
      "\n",
      "Total image samples: 13388\n",
      "Total label samples: 13388\n",
      "\n"
     ]
    }
   ],
   "source": [
    "# checking shapes and amount of samples. Image sample size should be equal to label sample size!\n",
    "# Images should be of shape (n, H, W, C): n = sample size | H = image height | W = image width | C = number of bands\n",
    "print(\"Dataset 2020\")\n",
    "print(f\"\\nTrain dataset shape: {train_image_set_2020.shape}\")\n",
    "print(f\"Train labels shape: {train_label_set_2020.shape}\")\n",
    "print(\"-\"*50)\n",
    "print(f\"Validation dataset shape: {val_image_set_2020.shape}\")\n",
    "print(f\"Validation labels shape: {val_label_set_2020.shape}\")\n",
    "print(\"-\"*50)\n",
    "print(f\"Test dataset shape: {test_image_set_2020.shape}\")\n",
    "print(f\"Test labels shape: {test_label_set_2020.shape}\")\n",
    "print(\"-\"*50)\n",
    "print(f\"\\nTotal image samples: {train_image_set_2020.shape[0] + val_image_set_2020.shape[0] + test_image_set_2020.shape[0]}\")\n",
    "print(f\"Total label samples: {train_label_set_2020.shape[0] + val_label_set_2020.shape[0] + test_label_set_2020.shape[0]}\\n\")\n",
    "print(\"=\"*50)\n",
    "print(\"\\nDataset 2021\")\n",
    "print(f\"\\nTrain dataset shape: {train_image_set_2021.shape}\")\n",
    "print(f\"Train labels shape: {train_label_set_2021.shape}\")\n",
    "print(\"-\"*50)\n",
    "print(f\"Validation dataset shape: {val_image_set_2021.shape}\")\n",
    "print(f\"Validation labels shape: {val_label_set_2021.shape}\")\n",
    "print(\"-\"*50)\n",
    "print(f\"Test dataset shape: {test_image_set_2021.shape}\")\n",
    "print(f\"Test labels shape: {test_label_set_2021.shape}\")\n",
    "print(\"-\"*50)\n",
    "print(f\"\\nTotal image samples: {train_image_set_2021.shape[0] + val_image_set_2021.shape[0] + test_image_set_2021.shape[0]}\")\n",
    "print(f\"Total label samples: {train_label_set_2021.shape[0] + val_label_set_2021.shape[0] + test_label_set_2021.shape[0]}\\n\")\n",
    "print(\"=\"*50)\n",
    "print(\"\\nStacked Dataset\")\n",
    "print(f\"\\nTrain dataset shape: {train_image_set.shape}\")\n",
    "print(f\"Train labels shape: {train_label_set.shape}\")\n",
    "print(\"-\"*50)\n",
    "print(f\"Validation dataset shape: {val_image_set.shape}\")\n",
    "print(f\"Validation labels shape: {val_label_set.shape}\")\n",
    "print(\"-\"*50)\n",
    "print(f\"Test dataset shape: {test_image_set.shape}\")\n",
    "print(f\"Test labels shape: {test_label_set.shape}\")\n",
    "print(\"-\"*50)\n",
    "print(f\"\\nTotal image samples: {train_image_set.shape[0] + val_image_set.shape[0] + test_image_set.shape[0]}\")\n",
    "print(f\"Total label samples: {train_label_set.shape[0] + val_label_set.shape[0] + test_label_set.shape[0]}\\n\")"
   ]
  },
  {
   "cell_type": "markdown",
   "id": "f33c4519",
   "metadata": {},
   "source": [
    "#### Create PyTorch Datasets (converts ndarrays into tensors)"
   ]
  },
  {
   "cell_type": "code",
   "execution_count": 18,
   "id": "93fd9497",
   "metadata": {},
   "outputs": [],
   "source": [
    "# train transform with augmentation. \n",
    "transform_train = transforms.Compose([transforms.ToTensor(),\n",
    "                                      #transforms.TrivialAugmentWide(num_magnitude_bins=31),\n",
    "                                #transforms.RandomHorizontalFlip(p=0.5),\n",
    "                                #transforms.RandomVerticalFlip(p=0.5),\n",
    "                                transforms.RandomRotation(degrees=90),\n",
    "                                transforms.Resize(224)\n",
    "                               ])\n",
    "\n",
    "# test and val dataset transform without augmentation. \n",
    "transform = transforms.Compose([transforms.ToTensor(),\n",
    "                                transforms.Resize(224)\n",
    "                               ])\n",
    "\n",
    "class_idx = {'healthy':0,'stressed':1, 'dead':2}\n",
    "\n",
    "# class names need to fit the customDataset class used e.g. 3 classes -> use CustomDataset3Classes\n",
    "class_names = ['healthy', 'stressed', 'dead']\n",
    "\n",
    "train_dataset = data_loader.CustomDataset3Classes(\n",
    "    data = train_image_set,\n",
    "    labels = train_label_set,\n",
    "    class_names=class_names,\n",
    "    class_idx=class_idx, \n",
    "    species = train_species_set,\n",
    "    transform=transform_train)\n",
    "\n",
    "val_dataset = data_loader.CustomDataset3Classes(\n",
    "    data = val_image_set,\n",
    "    labels = val_label_set,\n",
    "    class_names=class_names,\n",
    "    class_idx=class_idx, \n",
    "    species = val_species_set,\n",
    "    transform=transform)\n",
    "\n",
    "test_dataset = data_loader.CustomDataset3Classes(\n",
    "    data = test_image_set,\n",
    "    labels = test_label_set,\n",
    "    class_names=class_names,\n",
    "    class_idx=class_idx, \n",
    "    species = test_species_set,\n",
    "    transform=transform)\n",
    "\n"
   ]
  },
  {
   "cell_type": "code",
   "execution_count": 19,
   "id": "bea82c97",
   "metadata": {},
   "outputs": [
    {
     "name": "stdout",
     "output_type": "stream",
     "text": [
      "Image tensor:\n",
      "tensor([[[0.0000, 0.0000, 0.0000,  ..., 0.0000, 0.0000, 0.0000],\n",
      "         [0.0000, 0.0000, 0.0000,  ..., 0.0000, 0.0000, 0.0000],\n",
      "         [0.0006, 0.0119, 0.0130,  ..., 0.0000, 0.0000, 0.0000],\n",
      "         ...,\n",
      "         [0.0000, 0.0000, 0.0000,  ..., 0.0000, 0.0000, 0.0000],\n",
      "         [0.0000, 0.0000, 0.0000,  ..., 0.0000, 0.0000, 0.0000],\n",
      "         [0.0000, 0.0000, 0.0000,  ..., 0.0000, 0.0000, 0.0000]],\n",
      "\n",
      "        [[0.0000, 0.0000, 0.0000,  ..., 0.0000, 0.0000, 0.0000],\n",
      "         [0.0000, 0.0000, 0.0000,  ..., 0.0000, 0.0000, 0.0000],\n",
      "         [0.0009, 0.0158, 0.0163,  ..., 0.0000, 0.0000, 0.0000],\n",
      "         ...,\n",
      "         [0.0000, 0.0000, 0.0000,  ..., 0.0000, 0.0000, 0.0000],\n",
      "         [0.0000, 0.0000, 0.0000,  ..., 0.0000, 0.0000, 0.0000],\n",
      "         [0.0000, 0.0000, 0.0000,  ..., 0.0000, 0.0000, 0.0000]],\n",
      "\n",
      "        [[0.0000, 0.0000, 0.0000,  ..., 0.0000, 0.0000, 0.0000],\n",
      "         [0.0000, 0.0000, 0.0000,  ..., 0.0000, 0.0000, 0.0000],\n",
      "         [0.0005, 0.0088, 0.0099,  ..., 0.0000, 0.0000, 0.0000],\n",
      "         ...,\n",
      "         [0.0000, 0.0000, 0.0000,  ..., 0.0000, 0.0000, 0.0000],\n",
      "         [0.0000, 0.0000, 0.0000,  ..., 0.0000, 0.0000, 0.0000],\n",
      "         [0.0000, 0.0000, 0.0000,  ..., 0.0000, 0.0000, 0.0000]]])\n",
      "Image shape: torch.Size([3, 224, 224])\n",
      "Image datatype: torch.float32\n",
      "Image label: 1\n",
      "Label datatype: <class 'int'>\n"
     ]
    }
   ],
   "source": [
    "img, label = test_dataset[0][0], test_dataset[0][1]\n",
    "print(f\"Image tensor:\\n{img}\")\n",
    "print(f\"Image shape: {img.shape}\")\n",
    "print(f\"Image datatype: {img.dtype}\")\n",
    "print(f\"Image label: {label}\")\n",
    "print(f\"Label datatype: {type(label)}\")"
   ]
  },
  {
   "cell_type": "markdown",
   "id": "ff16118d",
   "metadata": {},
   "source": [
    "#### Create PyTorch Dataloaders"
   ]
  },
  {
   "cell_type": "code",
   "execution_count": 20,
   "id": "6fcdf1d4",
   "metadata": {},
   "outputs": [
    {
     "name": "stdout",
     "output_type": "stream",
     "text": [
      "657\n",
      "79\n",
      "100\n"
     ]
    }
   ],
   "source": [
    "# set seeds\n",
    "g = torch.Generator()\n",
    "g.manual_seed(0)\n",
    "NUM_WORKERS=3\n",
    "\n",
    "train_dataloader = DataLoader(train_dataset,\n",
    "                              batch_size=16,\n",
    "                              persistent_workers=True,\n",
    "                              pin_memory=True,\n",
    "                              num_workers=NUM_WORKERS,\n",
    "                              #worker_init_fn=seed_worker, \n",
    "                              generator=g,\n",
    "                              shuffle=True,\n",
    "                              drop_last=True)\n",
    "\n",
    "val_dataloader = DataLoader(val_dataset,\n",
    "                             batch_size=16,\n",
    "                             persistent_workers=True,\n",
    "                             pin_memory=True,\n",
    "                             num_workers=NUM_WORKERS,\n",
    "                             shuffle=False,\n",
    "                             drop_last=True)\n",
    "\n",
    "test_dataloader = DataLoader(test_dataset,\n",
    "                             batch_size=16,\n",
    "                             persistent_workers=True,\n",
    "                             pin_memory=True,\n",
    "                             num_workers=NUM_WORKERS,\n",
    "                             shuffle=False,\n",
    "                             drop_last=True)\n",
    "\n",
    "print(len(train_dataloader))\n",
    "print(len(val_dataloader))\n",
    "print(len(test_dataloader))"
   ]
  },
  {
   "cell_type": "code",
   "execution_count": 21,
   "id": "04d02002",
   "metadata": {},
   "outputs": [],
   "source": [
    "classes = train_dataset.class_names\n",
    "output_shape = len(classes)\n",
    "\n"
   ]
  },
  {
   "cell_type": "code",
   "execution_count": 36,
   "id": "b5113f19",
   "metadata": {},
   "outputs": [
    {
     "data": {
      "text/plain": [
       "================================================================================================================================\n",
       "Layer (type (var_name))                                      Input Shape       Output Shape      Param #           Trainable\n",
       "================================================================================================================================\n",
       "EfficientNet (EfficientNet)                                  [16, 3, 224, 224] [16, 3]           --                Partial\n",
       "├─Sequential (features)                                      [16, 3, 224, 224] [16, 2560, 7, 7]  --                False\n",
       "│    └─Conv2dNormActivation (0)                              [16, 3, 224, 224] [16, 64, 112, 112] --                False\n",
       "│    │    └─Conv2d (0)                                       [16, 3, 224, 224] [16, 64, 112, 112] (1,728)           False\n",
       "│    │    └─BatchNorm2d (1)                                  [16, 64, 112, 112] [16, 64, 112, 112] (128)             False\n",
       "│    │    └─SiLU (2)                                         [16, 64, 112, 112] [16, 64, 112, 112] --                --\n",
       "│    └─Sequential (1)                                        [16, 64, 112, 112] [16, 32, 112, 112] --                False\n",
       "│    │    └─MBConv (0)                                       [16, 64, 112, 112] [16, 32, 112, 112] (4,944)           False\n",
       "│    │    └─MBConv (1)                                       [16, 32, 112, 112] [16, 32, 112, 112] (1,992)           False\n",
       "│    │    └─MBConv (2)                                       [16, 32, 112, 112] [16, 32, 112, 112] (1,992)           False\n",
       "│    │    └─MBConv (3)                                       [16, 32, 112, 112] [16, 32, 112, 112] (1,992)           False\n",
       "│    └─Sequential (2)                                        [16, 32, 112, 112] [16, 48, 56, 56]  --                False\n",
       "│    │    └─MBConv (0)                                       [16, 32, 112, 112] [16, 48, 56, 56]  (21,224)          False\n",
       "│    │    └─MBConv (1)                                       [16, 48, 56, 56]  [16, 48, 56, 56]  (38,700)          False\n",
       "│    │    └─MBConv (2)                                       [16, 48, 56, 56]  [16, 48, 56, 56]  (38,700)          False\n",
       "│    │    └─MBConv (3)                                       [16, 48, 56, 56]  [16, 48, 56, 56]  (38,700)          False\n",
       "│    │    └─MBConv (4)                                       [16, 48, 56, 56]  [16, 48, 56, 56]  (38,700)          False\n",
       "│    │    └─MBConv (5)                                       [16, 48, 56, 56]  [16, 48, 56, 56]  (38,700)          False\n",
       "│    │    └─MBConv (6)                                       [16, 48, 56, 56]  [16, 48, 56, 56]  (38,700)          False\n",
       "│    └─Sequential (3)                                        [16, 48, 56, 56]  [16, 80, 28, 28]  --                False\n",
       "│    │    └─MBConv (0)                                       [16, 48, 56, 56]  [16, 80, 28, 28]  (52,588)          False\n",
       "│    │    └─MBConv (1)                                       [16, 80, 28, 28]  [16, 80, 28, 28]  (110,580)         False\n",
       "│    │    └─MBConv (2)                                       [16, 80, 28, 28]  [16, 80, 28, 28]  (110,580)         False\n",
       "│    │    └─MBConv (3)                                       [16, 80, 28, 28]  [16, 80, 28, 28]  (110,580)         False\n",
       "│    │    └─MBConv (4)                                       [16, 80, 28, 28]  [16, 80, 28, 28]  (110,580)         False\n",
       "│    │    └─MBConv (5)                                       [16, 80, 28, 28]  [16, 80, 28, 28]  (110,580)         False\n",
       "│    │    └─MBConv (6)                                       [16, 80, 28, 28]  [16, 80, 28, 28]  (110,580)         False\n",
       "│    └─Sequential (4)                                        [16, 80, 28, 28]  [16, 160, 14, 14] --                False\n",
       "│    │    └─MBConv (0)                                       [16, 80, 28, 28]  [16, 160, 14, 14] (141,460)         False\n",
       "│    │    └─MBConv (1)                                       [16, 160, 14, 14] [16, 160, 14, 14] (397,800)         False\n",
       "│    │    └─MBConv (2)                                       [16, 160, 14, 14] [16, 160, 14, 14] (397,800)         False\n",
       "│    │    └─MBConv (3)                                       [16, 160, 14, 14] [16, 160, 14, 14] (397,800)         False\n",
       "│    │    └─MBConv (4)                                       [16, 160, 14, 14] [16, 160, 14, 14] (397,800)         False\n",
       "│    │    └─MBConv (5)                                       [16, 160, 14, 14] [16, 160, 14, 14] (397,800)         False\n",
       "│    │    └─MBConv (6)                                       [16, 160, 14, 14] [16, 160, 14, 14] (397,800)         False\n",
       "│    │    └─MBConv (7)                                       [16, 160, 14, 14] [16, 160, 14, 14] (397,800)         False\n",
       "│    │    └─MBConv (8)                                       [16, 160, 14, 14] [16, 160, 14, 14] (397,800)         False\n",
       "│    │    └─MBConv (9)                                       [16, 160, 14, 14] [16, 160, 14, 14] (397,800)         False\n",
       "│    └─Sequential (5)                                        [16, 160, 14, 14] [16, 224, 14, 14] --                False\n",
       "│    │    └─MBConv (0)                                       [16, 160, 14, 14] [16, 224, 14, 14] (474,728)         False\n",
       "│    │    └─MBConv (1)                                       [16, 224, 14, 14] [16, 224, 14, 14] (793,464)         False\n",
       "│    │    └─MBConv (2)                                       [16, 224, 14, 14] [16, 224, 14, 14] (793,464)         False\n",
       "│    │    └─MBConv (3)                                       [16, 224, 14, 14] [16, 224, 14, 14] (793,464)         False\n",
       "│    │    └─MBConv (4)                                       [16, 224, 14, 14] [16, 224, 14, 14] (793,464)         False\n",
       "│    │    └─MBConv (5)                                       [16, 224, 14, 14] [16, 224, 14, 14] (793,464)         False\n",
       "│    │    └─MBConv (6)                                       [16, 224, 14, 14] [16, 224, 14, 14] (793,464)         False\n",
       "│    │    └─MBConv (7)                                       [16, 224, 14, 14] [16, 224, 14, 14] (793,464)         False\n",
       "│    │    └─MBConv (8)                                       [16, 224, 14, 14] [16, 224, 14, 14] (793,464)         False\n",
       "│    │    └─MBConv (9)                                       [16, 224, 14, 14] [16, 224, 14, 14] (793,464)         False\n",
       "│    └─Sequential (6)                                        [16, 224, 14, 14] [16, 384, 7, 7]   --                False\n",
       "│    │    └─MBConv (0)                                       [16, 224, 14, 14] [16, 384, 7, 7]   (1,008,824)       False\n",
       "│    │    └─MBConv (1)                                       [16, 384, 7, 7]   [16, 384, 7, 7]   (2,281,824)       False\n",
       "│    │    └─MBConv (2)                                       [16, 384, 7, 7]   [16, 384, 7, 7]   (2,281,824)       False\n",
       "│    │    └─MBConv (3)                                       [16, 384, 7, 7]   [16, 384, 7, 7]   (2,281,824)       False\n",
       "│    │    └─MBConv (4)                                       [16, 384, 7, 7]   [16, 384, 7, 7]   (2,281,824)       False\n",
       "│    │    └─MBConv (5)                                       [16, 384, 7, 7]   [16, 384, 7, 7]   (2,281,824)       False\n",
       "│    │    └─MBConv (6)                                       [16, 384, 7, 7]   [16, 384, 7, 7]   (2,281,824)       False\n",
       "│    │    └─MBConv (7)                                       [16, 384, 7, 7]   [16, 384, 7, 7]   (2,281,824)       False\n",
       "│    │    └─MBConv (8)                                       [16, 384, 7, 7]   [16, 384, 7, 7]   (2,281,824)       False\n",
       "│    │    └─MBConv (9)                                       [16, 384, 7, 7]   [16, 384, 7, 7]   (2,281,824)       False\n",
       "│    │    └─MBConv (10)                                      [16, 384, 7, 7]   [16, 384, 7, 7]   (2,281,824)       False\n",
       "│    │    └─MBConv (11)                                      [16, 384, 7, 7]   [16, 384, 7, 7]   (2,281,824)       False\n",
       "│    │    └─MBConv (12)                                      [16, 384, 7, 7]   [16, 384, 7, 7]   (2,281,824)       False\n",
       "│    └─Sequential (7)                                        [16, 384, 7, 7]   [16, 640, 7, 7]   --                False\n",
       "│    │    └─MBConv (0)                                       [16, 384, 7, 7]   [16, 640, 7, 7]   (2,835,296)       False\n",
       "│    │    └─MBConv (1)                                       [16, 640, 7, 7]   [16, 640, 7, 7]   (6,199,200)       False\n",
       "│    │    └─MBConv (2)                                       [16, 640, 7, 7]   [16, 640, 7, 7]   (6,199,200)       False\n",
       "│    │    └─MBConv (3)                                       [16, 640, 7, 7]   [16, 640, 7, 7]   (6,199,200)       False\n",
       "│    └─Conv2dNormActivation (8)                              [16, 640, 7, 7]   [16, 2560, 7, 7]  --                False\n",
       "│    │    └─Conv2d (0)                                       [16, 640, 7, 7]   [16, 2560, 7, 7]  (1,638,400)       False\n",
       "│    │    └─BatchNorm2d (1)                                  [16, 2560, 7, 7]  [16, 2560, 7, 7]  (5,120)           False\n",
       "│    │    └─SiLU (2)                                         [16, 2560, 7, 7]  [16, 2560, 7, 7]  --                --\n",
       "├─AdaptiveAvgPool2d (avgpool)                                [16, 2560, 7, 7]  [16, 2560, 1, 1]  --                --\n",
       "├─Sequential (classifier)                                    [16, 2560]        [16, 3]           --                True\n",
       "│    └─Dropout (0)                                           [16, 2560]        [16, 2560]        --                --\n",
       "│    └─Linear (1)                                            [16, 2560]        [16, 3]           7,683             True\n",
       "================================================================================================================================\n",
       "Total params: 63,794,643\n",
       "Trainable params: 7,683\n",
       "Non-trainable params: 63,786,960\n",
       "Total mult-adds (G): 82.68\n",
       "================================================================================================================================\n",
       "Input size (MB): 9.63\n",
       "Forward/backward pass size (MB): 10254.10\n",
       "Params size (MB): 255.18\n",
       "Estimated Total Size (MB): 10518.92\n",
       "================================================================================================================================"
      ]
     },
     "execution_count": 36,
     "metadata": {},
     "output_type": "execute_result"
    }
   ],
   "source": [
    "# Print out model summary\n",
    "effnet_b7 = models.create_effnetb7(output_shape=output_shape, unfreeze=False, device=device)\n",
    "\n",
    "summary(effnet_b7, \n",
    "        input_size=(16, 3, 224, 224), # make sure this is \"input_size\", not \"input_shape\" (batch_size, color_channels, height, width)\n",
    "        verbose=0,\n",
    "        col_names=[\"input_size\", \"output_size\", \"num_params\", \"trainable\"],\n",
    "        col_width=17,\n",
    "        row_settings=[\"var_names\"])"
   ]
  },
  {
   "cell_type": "code",
   "execution_count": 22,
   "id": "06ece972",
   "metadata": {},
   "outputs": [],
   "source": [
    "# 1. Create epochs list\n",
    "num_epochs = [100]\n",
    "\n",
    "# 2. Create models list (need to create a new model for each experiment)\n",
    "models_list = [\"effnet_b0\", \"effnet_b7\"]\n",
    "\n",
    "#set_train_dataloader = train_dataloader\n",
    "\n",
    "# 3. Create dataloaders dictionary for various dataloaders\n",
    "train_dataloaders = {#\"train_data_5_percent\": train_dataloader_05,\n",
    "                     #\"train_data_10_percent\": train_dataloader_10,\n",
    "                     \"train_data_100_percent\": train_dataloader}\n",
    "\n",
    "# 4. Create dataloaders dictionary for various dataloaders\n",
    "val_dataloaders = {#\"test_data_5_percent\": test_dataloader_05,\n",
    "                     #\"test_data_10_percent\": test_dataloader_10,\n",
    "                     \"test_data_100_percent\": val_dataloader}\n",
    "\n",
    "# 5. Create target folder name were to save the tensorboard event files\n",
    "target_dir = \"log_test\"\n",
    "\n",
    "# class imbalance\n",
    "loss_weight = torch.Tensor([7395, 5764, 225])# number of labels per class over whole dataset\n",
    "#for 5 classes: [1200, 2517, 2776, 273, 97]\n",
    "# data 2021: [1107, 2571, 2508, 207, 128]\n",
    "# data 2022: \n",
    "loss_weight = loss_weight.type(torch.FloatTensor)\n",
    "loss_weight = loss_weight.to(device)\n",
    "#Yt_train = Yt_train.type(torch.LongTensor)"
   ]
  },
  {
   "cell_type": "code",
   "execution_count": null,
   "id": "9bf36789",
   "metadata": {},
   "outputs": [
    {
     "name": "stdout",
     "output_type": "stream",
     "text": [
      "[INFO] Experiment number: 1\n",
      "[INFO] Model: effnet_b0\n",
      "[INFO] DataLoader: train_data_100_percent\n",
      "[INFO] Number of epochs: 100\n",
      "[INFO] Created new effnet_b7 model.\n",
      "[INFO] Created SummaryWriter, saving to: log_test\\2023-03\\train_data_100_percent\\effnet_b0\\100_epochs...\n"
     ]
    },
    {
     "data": {
      "application/vnd.jupyter.widget-view+json": {
       "model_id": "e44361c32a8d4becb4b48a5f91310f0c",
       "version_major": 2,
       "version_minor": 0
      },
      "text/plain": [
       "  0%|          | 0/100 [00:00<?, ?it/s]"
      ]
     },
     "metadata": {},
     "output_type": "display_data"
    },
    {
     "name": "stdout",
     "output_type": "stream",
     "text": [
      "Epoch: 1 \n",
      "Train loss: 0.6747 | Train accuracy: 0.5726 | Test loss: 0.6764 | Test accuracy: 0.6195 \n",
      "\n",
      "Epoch: 2 \n",
      "Train loss: 0.6556 | Train accuracy: 0.5839 | Test loss: 0.6860 | Test accuracy: 0.6044 \n",
      "\n",
      "Epoch: 3 \n",
      "Train loss: 0.6502 | Train accuracy: 0.5894 | Test loss: 0.6607 | Test accuracy: 0.6108 \n",
      "\n",
      "Epoch: 4 \n",
      "Train loss: 0.6401 | Train accuracy: 0.6055 | Test loss: 0.6579 | Test accuracy: 0.5894 \n",
      "\n",
      "Epoch: 5 \n",
      "Train loss: 0.6412 | Train accuracy: 0.6045 | Test loss: 0.6851 | Test accuracy: 0.6226 \n",
      "\n",
      "Epoch: 6 \n",
      "Train loss: 0.6338 | Train accuracy: 0.6107 | Test loss: 0.7013 | Test accuracy: 0.5530 \n",
      "\n",
      "Epoch: 7 \n",
      "Train loss: 0.6352 | Train accuracy: 0.6109 | Test loss: 0.6525 | Test accuracy: 0.5926 \n",
      "\n"
     ]
    }
   ],
   "source": [
    "%%time\n",
    "\n",
    "# 1. Set the random seeds\n",
    "set_seeds(seed=0)\n",
    "\n",
    "# 2. Keep track of experiment numbers\n",
    "experiment_number = 0\n",
    "\n",
    "# 3. Loop through each DataLoader\n",
    "for dataloader_name, train_dataloader in train_dataloaders.items():\n",
    "\n",
    "    # 4. Loop through each number of epochs\n",
    "    for epochs in num_epochs: \n",
    "\n",
    "        # 5. Loop through each model name and create a new model based on the name\n",
    "        for model_name in models_list:\n",
    "\n",
    "            # 6. Create information print outs\n",
    "            experiment_number += 1\n",
    "            print(f\"[INFO] Experiment number: {experiment_number}\")\n",
    "            print(f\"[INFO] Model: {model_name}\")\n",
    "            print(f\"[INFO] DataLoader: {dataloader_name}\")\n",
    "            print(f\"[INFO] Number of epochs: {epochs}\")  \n",
    "\n",
    "            # 7. Select the model\n",
    "            if model_name == \"effnetb0\":\n",
    "                model = models.create_effnetb0(output_shape=output_shape, unfreeze=True, device=device) # creates a new model each time (important because we want each experiment to start from scratch)\n",
    "            else:\n",
    "                model = models.create_effnetb7(output_shape=output_shape, unfreeze=True, device=device) # creates a new model each time (important because we want each experiment to start from scratch)\n",
    "            \n",
    "            # 8. Create a new loss and optimizer for every model\n",
    "            loss_fn = nn.CrossEntropyLoss(weight=loss_weight)\n",
    "            optimizer = torch.optim.Adam(params=model.parameters(), lr=0.001)\n",
    "\n",
    "            # 9. Train target model with target dataloaders and track experiments\n",
    "            train(model=model,\n",
    "                  train_dataloader=train_dataloader,\n",
    "                  test_dataloader=val_dataloader, \n",
    "                  optimizer=optimizer,\n",
    "                  loss_fn=loss_fn,\n",
    "                  epochs=epochs,\n",
    "                  device=device,\n",
    "                  writer=create_writer(target_dir=target_dir,\n",
    "                                       experiment_name=dataloader_name,\n",
    "                                       model_name=model_name,\n",
    "                                       extra=f\"{epochs}_epochs\"))\n",
    "            \n",
    "            # 10. Save the model to file so we can get back the best model\n",
    "            save_filepath = f\"01_{model_name}_{dataloader_name}_{epochs}_epochs.pth\"\n",
    "            save_model(model=model,\n",
    "                       target_dir=\"models\",\n",
    "                       model_name=save_filepath)\n",
    "            print(\"-\"*50 + \"\\n\")"
   ]
  },
  {
   "cell_type": "code",
   "execution_count": 17,
   "id": "638e84fb",
   "metadata": {},
   "outputs": [
    {
     "data": {
      "image/png": "[encoded data removed]",
      "text/plain": [
       "<Figure size 2160x1440 with 2 Axes>"
      ]
     },
     "metadata": {
      "needs_background": "light"
     },
     "output_type": "display_data"
    }
   ],
   "source": [
    "visualization.display_random_images(test_dataset, \n",
    "                      n=2, \n",
    "                      classes=[0, 1, 2, 3, 4],\n",
    "                      seed=None)"
   ]
  },
  {
   "cell_type": "code",
   "execution_count": null,
   "id": "e4fd38a7",
   "metadata": {},
   "outputs": [],
   "source": []
  },
  {
   "cell_type": "code",
   "execution_count": 10,
   "id": "0769e8c7",
   "metadata": {},
   "outputs": [
    {
     "ename": "NameError",
     "evalue": "name 'transformations' is not defined",
     "output_type": "error",
     "traceback": [
      "\u001b[1;31m---------------------------------------------------------------------------\u001b[0m",
      "\u001b[1;31mNameError\u001b[0m                                 Traceback (most recent call last)",
      "Input \u001b[1;32mIn [10]\u001b[0m, in \u001b[0;36m<cell line: 1>\u001b[1;34m()\u001b[0m\n\u001b[1;32m----> 1\u001b[0m rois, params_rois \u001b[38;5;241m=\u001b[39m \u001b[43mexporter\u001b[49m\u001b[38;5;241;43m.\u001b[39;49m\u001b[43mexport_rois\u001b[49m\u001b[43m(\u001b[49m\n\u001b[0;32m      2\u001b[0m \u001b[43m    \u001b[49m\u001b[43mchannels\u001b[49m\u001b[38;5;241;43m=\u001b[39;49m\u001b[43mchannels\u001b[49m\u001b[43m,\u001b[49m\n\u001b[0;32m      3\u001b[0m \u001b[43m    \u001b[49m\u001b[43mparams_channels\u001b[49m\u001b[38;5;241;43m=\u001b[39;49m\u001b[43mparams_channels\u001b[49m\u001b[43m,\u001b[49m\n\u001b[0;32m      4\u001b[0m \u001b[43m    \u001b[49m\u001b[43mcrowns\u001b[49m\u001b[38;5;241;43m=\u001b[39;49m\u001b[43mcrowns_human\u001b[49m\u001b[43m,\u001b[49m\n\u001b[0;32m      5\u001b[0m \u001b[43m    \u001b[49m\u001b[43mparams_crowns\u001b[49m\u001b[38;5;241;43m=\u001b[39;49m\u001b[43mparams_crowns_human\u001b[49m\u001b[43m,\u001b[49m\n\u001b[0;32m      6\u001b[0m \u001b[43m    \u001b[49m\u001b[43mparams_export\u001b[49m\u001b[38;5;241;43m=\u001b[39;49m\u001b[43mparams_export\u001b[49m\u001b[43m,\u001b[49m\n\u001b[0;32m      7\u001b[0m \u001b[43m    \u001b[49m\u001b[43m)\u001b[49m\n",
      "File \u001b[1;32m~\\01_PyTorch\\wze-uav\\wze-uav-master\\findatree_roi\\exporter.py:51\u001b[0m, in \u001b[0;36mexport_rois\u001b[1;34m(channels, params_channels, crowns, params_crowns, params_export)\u001b[0m\n\u001b[0;32m     49\u001b[0m shape \u001b[38;5;241m=\u001b[39m params_channels[\u001b[38;5;124m'\u001b[39m\u001b[38;5;124mshape\u001b[39m\u001b[38;5;124m'\u001b[39m] \u001b[38;5;66;03m# to prepare multichannel image\u001b[39;00m\n\u001b[0;32m     50\u001b[0m affine \u001b[38;5;241m=\u001b[39m params_channels[\u001b[38;5;124m'\u001b[39m\u001b[38;5;124maffine\u001b[39m\u001b[38;5;124m'\u001b[39m] \u001b[38;5;66;03m# to transform from image to geo coordinates\u001b[39;00m\n\u001b[1;32m---> 51\u001b[0m affine \u001b[38;5;241m=\u001b[39m \u001b[43mtransformations\u001b[49m\u001b[38;5;241m.\u001b[39maffine_numpy_to_resterio(affine)\n\u001b[0;32m     53\u001b[0m \u001b[38;5;66;03m# Extract_parameters for export\u001b[39;00m\n\u001b[0;32m     54\u001b[0m channels_export \u001b[38;5;241m=\u001b[39m params_export[\u001b[38;5;124m'\u001b[39m\u001b[38;5;124mchannels_export\u001b[39m\u001b[38;5;124m'\u001b[39m] \u001b[38;5;66;03m# channel names\u001b[39;00m\n",
      "\u001b[1;31mNameError\u001b[0m: name 'transformations' is not defined"
     ]
    }
   ],
   "source": [
    "rois, params_rois = exporter.export_rois(\n",
    "    channels=channels,\n",
    "    params_channels=params_channels,\n",
    "    crowns=crowns_human,\n",
    "    params_crowns=params_crowns_human,\n",
    "    params_export=params_export,\n",
    "    )\n",
    "\n",
    "\n",
    "#exporter.rois_to_hdf5_v2(rois, params_rois, crowns, params_crowns, dir_name=r\"\")\n",
    "\n",
    "#data_list = os.listdir(test_labels_path)\n",
    "#data, params_data = io.load_hdf5(test_labels_path + \"\\\\\" + data_list[0])"
   ]
  },
  {
   "cell_type": "code",
   "execution_count": 63,
   "id": "29cc51a9",
   "metadata": {},
   "outputs": [
    {
     "data": {
      "text/plain": [
       "{'channels': {'affine': array([[ 2.000000e-01,  0.000000e+00,  5.959600e+05],\n",
       "         [ 0.000000e+00, -2.000000e-01,  5.244788e+06],\n",
       "         [ 0.000000e+00,  0.000000e+00,  1.000000e+00]]),\n",
       "  'crs': 'EPSG:25832',\n",
       "  'date_time': '230302-144013',\n",
       "  'downscale': 0,\n",
       "  'max_ratio_blue': 0.0,\n",
       "  'max_ratio_green': 0.0,\n",
       "  'max_ratio_nir': 0.0,\n",
       "  'max_ratio_re': 0.0,\n",
       "  'max_ratio_red': 0.0,\n",
       "  'path_dsm': 'D:\\\\Drohnendaten\\\\10_WZE-UAV\\\\Auswertung_findatree\\\\2020\\\\WZE-UAV-2020_DSM\\\\Tnr_11_D-20200909_DSM_highRMSE.tif',\n",
       "  'path_dtm': 'D:\\\\Drohnendaten\\\\10_WZE-UAV\\\\Auswertung_findatree\\\\2020\\\\DTM_v2\\\\Tnr_11_D20200909_DTM.tif',\n",
       "  'path_ortho': 'D:\\\\Drohnendaten\\\\10_WZE-UAV\\\\Auswertung_findatree\\\\2020\\\\WZE-UAV-2020_Ortho\\\\Tnr_11_D-20200909_Ortho_highRMSE.tif',\n",
       "  'path_shapes': 'D:\\\\Drohnendaten\\\\10_WZE-UAV\\\\Auswertung_findatree\\\\2020\\\\Kronen\\\\Tnr_11_Kr.shp',\n",
       "  'px_width': 0.2,\n",
       "  'px_width_reproject': 0.2,\n",
       "  'shape': array([1624, 1617]),\n",
       "  'tnr': '11'},\n",
       " 'crowns_human': {'affine': array([[ 2.000000e-01,  0.000000e+00,  5.959600e+05],\n",
       "         [ 0.000000e+00, -2.000000e-01,  5.244788e+06],\n",
       "         [ 0.000000e+00,  0.000000e+00,  1.000000e+00]]),\n",
       "  'date_time_photometric': '230302-144017',\n",
       "  'date_time_polygons': '230302-144013',\n",
       "  'date_time_terrestrial': '230302-144013',\n",
       "  'features_photometric_dtypes': array(['uint16', 'float32', 'float32', 'float32', 'float32', 'float32',\n",
       "         'float32', 'float32', 'uint16', 'uint16', 'uint16', 'uint16',\n",
       "         'uint16', 'uint16', 'uint16', 'uint16', 'uint16', 'uint16',\n",
       "         'uint16', 'uint16', 'float32', 'float32', 'float32', 'float32',\n",
       "         'float32', 'float32', 'float32', 'float32', 'float32', 'float32',\n",
       "         'float32', 'float32', 'float32', 'float32', 'float32', 'float32',\n",
       "         'float32', 'float32', 'float32', 'float32', 'float32', 'float32',\n",
       "         'float32', 'float32', 'float32', 'float32', 'float32', 'float32',\n",
       "         'float32', 'float32', 'float32', 'float32', 'float32', 'float32',\n",
       "         'float32', 'float32', 'float32', 'float32', 'float32', 'float32',\n",
       "         'float32', 'float32', 'float32', 'float32', 'float32', 'float32',\n",
       "         'float32', 'float32', 'float32', 'float32', 'float32', 'float32',\n",
       "         'float32', 'float32', 'float32', 'float32', 'float32', 'float32',\n",
       "         'float32', 'float32', 'float32', 'float32', 'float32', 'float32',\n",
       "         'float32', 'float32', 'float32', 'float32', 'float32', 'float32',\n",
       "         'float32', 'float32', 'float32', 'float32', 'float32', 'float32',\n",
       "         'float32', 'float32', 'float32', 'float32', 'float32', 'float32',\n",
       "         'float32', 'float32', 'float32', 'float32', 'float32', 'float32',\n",
       "         'float32', 'float32', 'float32', 'float32', 'float32', 'float32',\n",
       "         'float32', 'float32', 'float32', 'float32', 'float32', 'float32'],\n",
       "        dtype=object),\n",
       "  'features_photometric_names': array(['id', 'perimeter', 'feret_diameter_max', 'eccentricity', 'extent',\n",
       "         'solidity', 'area', 'area_bright', 'x_mean', 'y_mean',\n",
       "         'x_min_bbox', 'x_max_bbox', 'y_min_bbox', 'y_max_bbox',\n",
       "         'x_max_chm', 'y_max_chm', 'x_min_bbox_bright', 'x_max_bbox_bright',\n",
       "         'y_min_bbox_bright', 'y_max_bbox_bright', 'perc5_chm',\n",
       "         'perc25_chm', 'perc50_chm', 'perc75_chm', 'perc95_chm',\n",
       "         'perc5_blue', 'perc25_blue', 'perc50_blue', 'perc75_blue',\n",
       "         'perc95_blue', 'perc5_green', 'perc25_green', 'perc50_green',\n",
       "         'perc75_green', 'perc95_green', 'perc5_red', 'perc25_red',\n",
       "         'perc50_red', 'perc75_red', 'perc95_red', 'perc5_re', 'perc25_re',\n",
       "         'perc50_re', 'perc75_re', 'perc95_re', 'perc5_nir', 'perc25_nir',\n",
       "         'perc50_nir', 'perc75_nir', 'perc95_nir', 'perc5_avg',\n",
       "         'perc25_avg', 'perc50_avg', 'perc75_avg', 'perc95_avg',\n",
       "         'perc5_nblue', 'perc25_nblue', 'perc50_nblue', 'perc75_nblue',\n",
       "         'perc95_nblue', 'perc5_ngreen', 'perc25_ngreen', 'perc50_ngreen',\n",
       "         'perc75_ngreen', 'perc95_ngreen', 'perc5_nred', 'perc25_nred',\n",
       "         'perc50_nred', 'perc75_nred', 'perc95_nred', 'perc5_nre',\n",
       "         'perc25_nre', 'perc50_nre', 'perc75_nre', 'perc95_nre',\n",
       "         'perc5_light', 'perc25_light', 'perc50_light', 'perc75_light',\n",
       "         'perc95_light', 'perc5_sat', 'perc25_sat', 'perc50_sat',\n",
       "         'perc75_sat', 'perc95_sat', 'perc5_hue', 'perc25_hue',\n",
       "         'perc50_hue', 'perc75_hue', 'perc95_hue', 'perc5_ndvi',\n",
       "         'perc25_ndvi', 'perc50_ndvi', 'perc75_ndvi', 'perc95_ndvi',\n",
       "         'perc5_ndvire', 'perc25_ndvire', 'perc50_ndvire', 'perc75_ndvire',\n",
       "         'perc95_ndvire', 'perc5_ndre', 'perc25_ndre', 'perc50_ndre',\n",
       "         'perc75_ndre', 'perc95_ndre', 'perc5_grvi', 'perc25_grvi',\n",
       "         'perc50_grvi', 'perc75_grvi', 'perc95_grvi', 'perc5_evi',\n",
       "         'perc25_evi', 'perc50_evi', 'perc75_evi', 'perc95_evi', 'decay1',\n",
       "         'decay2', 'decay4', 'decay8', 'decay16'], dtype=object),\n",
       "  'features_photometric_shadowmask_channel': 'avg',\n",
       "  'features_photometric_shadowmask_thresh_chm_lower': 5,\n",
       "  'features_photometric_shadowmask_thresh_chm_upper': 40,\n",
       "  'features_photometric_shadowmask_width': 101,\n",
       "  'features_terrestrial_dtypes': array(['uint16', 'int32', 'int32', 'int32', 'int32', 'int32', 'int32',\n",
       "         'int32', 'int32', 'int32', 'int32', 'int32', 'int32', 'int32',\n",
       "         'int32', 'int32', 'int32', 'int32', 'int32', 'int32', 'int32',\n",
       "         'int32', 'int32', 'int32', 'int32', 'int32', 'int32', 'int32',\n",
       "         'int32', 'int32', 'int32', 'int32', 'int32', 'int32', 'int32',\n",
       "         'int32', 'int32', 'int32', 'int32', 'int32', 'int32', 'int32',\n",
       "         'int32', 'int32', 'int32', 'int32', 'int32', 'int32', 'int32',\n",
       "         'int32', 'int32', 'int32', 'int32', 'float32', 'float32'],\n",
       "        dtype=object),\n",
       "  'features_terrestrial_names': array(['id', 'enr', 'sat', 'bnr', 'bk', 'ba', 'bhd_2019', 'bhd_2020',\n",
       "         'alter_2020', 'kkl', 'ek', 'kl', 'lbb', 'sst', 'nbv', 'gilb',\n",
       "         'frukt', 'schad', 'phyt', 'mi_gro', 'mi_mi', 'mi_kl', 'mi_gesamt',\n",
       "         'mistelstuf', 'jahr', 'raster_16_', 'ta_vd', 'el_vd', 'kie_mfr_',\n",
       "         'schw', 'obb', 'ndb', 'ufr', 'mfr', 'ofr', 'opf', 'wg_2', 'wg_3',\n",
       "         'wg_4', 'wg_5', 'wg_6', 'wg_7', 'wg_8', 'wg_9', 'wg_10', 'wg_11',\n",
       "         'wg_12', 'wg_13', 'wg_14', 'wg_15', 'by_nord', 'by_süd', 'bfhnr',\n",
       "         'shape_leng', 'shape_area'], dtype=object),\n",
       "  'number_crowns': 6,\n",
       "  'origin': 'human',\n",
       "  'path_shapes': 'D:\\\\Drohnendaten\\\\10_WZE-UAV\\\\Auswertung_findatree\\\\2020\\\\Kronen\\\\Tnr_11_Kr.shp',\n",
       "  'shape': array([1624, 1617]),\n",
       "  'tnr': '11'},\n",
       " 'io.load_hdf5()_info': ''}"
      ]
     },
     "execution_count": 63,
     "metadata": {},
     "output_type": "execute_result"
    }
   ],
   "source": [
    "params_data"
   ]
  },
  {
   "cell_type": "code",
   "execution_count": 17,
   "id": "9e7b5a82",
   "metadata": {},
   "outputs": [],
   "source": [
    "dataloader = DataLoader(test_dataset, batch_size=32)"
   ]
  },
  {
   "cell_type": "code",
   "execution_count": 36,
   "id": "65188a12",
   "metadata": {},
   "outputs": [
    {
     "name": "stdout",
     "output_type": "stream",
     "text": [
      "torch.Size([3, 300, 300])\n",
      "torch.Size([1])\n",
      "(5427, 300, 300, 3)\n",
      "torch.Size([5427, 1])\n",
      "5427\n",
      "170\n"
     ]
    }
   ],
   "source": [
    "image, label = dataset[0][0], dataset[0][1]\n",
    "print(image.shape)\n",
    "print(label.shape)\n",
    "print(dataset.data.shape)\n",
    "print(dataset.labels.shape)\n",
    "print(len(dataset))\n",
    "print(len(dataloader))\n",
    "#print(image)\n",
    "#print (label)"
   ]
  },
  {
   "cell_type": "code",
   "execution_count": 32,
   "id": "35886260",
   "metadata": {},
   "outputs": [
    {
     "data": {
      "text/plain": [
       "170"
      ]
     },
     "execution_count": 32,
     "metadata": {},
     "output_type": "execute_result"
    }
   ],
   "source": []
  },
  {
   "cell_type": "code",
   "execution_count": null,
   "id": "188cf9e4",
   "metadata": {},
   "outputs": [],
   "source": []
  },
  {
   "cell_type": "code",
   "execution_count": 290,
   "id": "9c0979f3",
   "metadata": {},
   "outputs": [],
   "source": [
    "\n"
   ]
  },
  {
   "cell_type": "code",
   "execution_count": 291,
   "id": "8beb50de",
   "metadata": {},
   "outputs": [],
   "source": [
    "\n",
    "    "
   ]
  },
  {
   "cell_type": "code",
   "execution_count": null,
   "id": "80722f33",
   "metadata": {},
   "outputs": [],
   "source": []
  },
  {
   "cell_type": "code",
   "execution_count": null,
   "id": "91cae3a5",
   "metadata": {},
   "outputs": [],
   "source": []
  },
  {
   "cell_type": "code",
   "execution_count": null,
   "id": "c02dd9e9",
   "metadata": {},
   "outputs": [],
   "source": []
  },
  {
   "cell_type": "code",
   "execution_count": null,
   "id": "ef3071f4",
   "metadata": {},
   "outputs": [],
   "source": []
  },
  {
   "cell_type": "code",
   "execution_count": null,
   "id": "322a6421",
   "metadata": {},
   "outputs": [],
   "source": []
  },
  {
   "cell_type": "code",
   "execution_count": null,
   "id": "de33cc73",
   "metadata": {},
   "outputs": [],
   "source": []
  }
 ],
 "metadata": {
  "kernelspec": {
   "display_name": "Python 3 (ipykernel)",
   "language": "python",
   "name": "python3"
  },
  "language_info": {
   "codemirror_mode": {
    "name": "ipython",
    "version": 3
   },
   "file_extension": ".py",
   "mimetype": "text/x-python",
   "name": "python",
   "nbconvert_exporter": "python",
   "pygments_lexer": "ipython3",
   "version": "3.9.16"
  }
 },
 "nbformat": 4,
 "nbformat_minor": 5
}
