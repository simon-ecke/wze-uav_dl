{
 "cells": [
  {
   "cell_type": "markdown",
   "id": "c1acdaa3",
   "metadata": {},
   "source": [
    "# WZE-UAV Image Classification using Deep Learning"
   ]
  },
  {
   "cell_type": "code",
   "execution_count": 1,
   "id": "2159aac5",
   "metadata": {},
   "outputs": [
    {
     "data": {
      "text/plain": [
       "[<matplotlib.lines.Line2D at 0x29158c49910>]"
      ]
     },
     "execution_count": 1,
     "metadata": {},
     "output_type": "execute_result"
    },
    {
     "data": {
      "image/png": "[encoded data removed]",
      "text/plain": [
       "<Figure size 432x288 with 1 Axes>"
      ]
     },
     "metadata": {
      "needs_background": "light"
     },
     "output_type": "display_data"
    }
   ],
   "source": [
    "import os\n",
    "import glob\n",
    "import matplotlib.pyplot as plt\n",
    "import rasterio\n",
    "import numpy as np\n",
    "import mlxtend\n",
    "from pathlib import Path\n",
    "from tqdm.auto import tqdm\n",
    "\n",
    "x = (1,3)\n",
    "y = (1,3)\n",
    "plt.plot(x,y)"
   ]
  },
  {
   "cell_type": "code",
   "execution_count": 2,
   "id": "0026f7a9",
   "metadata": {},
   "outputs": [],
   "source": [
    "import torch\n",
    "import torchvision.transforms as T\n",
    "import torchvision\n",
    "from torch import nn\n",
    "from torch.utils.data import DataLoader\n",
    "from torchinfo import summary\n",
    "from torchvision import datasets, transforms\n",
    "from torch.utils.data import Dataset\n",
    "from torchinfo import summary\n",
    "import h5py"
   ]
  },
  {
   "cell_type": "code",
   "execution_count": 3,
   "id": "b160d7b4",
   "metadata": {},
   "outputs": [],
   "source": [
    "import wze_uav.data_loader as data_loader\n",
    "import wze_uav.visualization as visualization\n",
    "import wze_uav.models as models\n",
    "from wze_uav.engine import *\n",
    "from wze_uav.utils2 import *\n",
    "from wze_uav.log_writer import create_writer"
   ]
  },
  {
   "cell_type": "markdown",
   "id": "2bd4fb2f",
   "metadata": {},
   "source": [
    "#### Get PyTorch version"
   ]
  },
  {
   "cell_type": "code",
   "execution_count": 4,
   "id": "c10886b1",
   "metadata": {},
   "outputs": [
    {
     "name": "stdout",
     "output_type": "stream",
     "text": [
      "torch version: 1.13.1+cu116\n",
      "torchvision version: 0.14.1+cu116\n"
     ]
    }
   ],
   "source": [
    "print(f\"torch version: {torch.__version__}\")\n",
    "print(f\"torchvision version: {torchvision.__version__}\")"
   ]
  },
  {
   "cell_type": "markdown",
   "id": "aa6a83cf",
   "metadata": {},
   "source": [
    "#### Preparing device agnostic code "
   ]
  },
  {
   "cell_type": "code",
   "execution_count": 5,
   "id": "13d5de88",
   "metadata": {},
   "outputs": [
    {
     "name": "stdout",
     "output_type": "stream",
     "text": [
      "cuda\n",
      "Index of current divice: 0\n",
      "Number of GPUs available: 1\n",
      "GPU Model: Quadro RTX 8000\n"
     ]
    }
   ],
   "source": [
    "# ensure device agnostic code\n",
    "device = 'cuda' if torch.cuda.is_available() else 'cpu'\n",
    "print(device)\n",
    "\n",
    "# get index of currently selected device\n",
    "print(f\"Index of current divice: {torch.cuda.current_device()}\")\n",
    "# get number of GPUs available\n",
    "print(f\"Number of GPUs available: {torch.cuda.device_count()}\")\n",
    "# get the name of the device\n",
    "print(f\"GPU Model: {torch.cuda.get_device_name(0)}\")"
   ]
  },
  {
   "cell_type": "markdown",
   "id": "a26a6a34",
   "metadata": {},
   "source": [
    "#### Ensure reproducibility "
   ]
  },
  {
   "cell_type": "code",
   "execution_count": 6,
   "id": "dd4656a7",
   "metadata": {},
   "outputs": [],
   "source": [
    "# for more information, see also: https://pytorch.org/docs/stable/notes/randomness.html\n",
    "\n",
    "# Set seeds\n",
    "def set_seeds(seed: int=0):\n",
    "    \"\"\"Sets random sets for torch operations.\n",
    "\n",
    "    Args:\n",
    "        seed (int, optional): Random seed to set. Defaults to 42.\n",
    "    \"\"\"\n",
    "    # Set the seed for general torch operations\n",
    "    torch.manual_seed(seed)\n",
    "    # Set the seed for CUDA torch operations (ones that happen on the GPU)\n",
    "    torch.cuda.manual_seed(seed)\n",
    "\n",
    "# seed for numpy\n",
    "np.random.seed(0)\n",
    "# avoiding non-deterministic algorithms\n",
    "#torch.use_deterministic_algorithms(True)\n",
    "# Set to true -> might speed up the process but should be set to False if reproducible results are desired\n",
    "torch.backends.cudnn.benchmark = True\n"
   ]
  },
  {
   "cell_type": "markdown",
   "id": "8be33671",
   "metadata": {},
   "source": [
    "#### Define file directories"
   ]
  },
  {
   "cell_type": "code",
   "execution_count": 7,
   "id": "30645f36",
   "metadata": {},
   "outputs": [],
   "source": [
    "set_seeds() # ensure reproducibility\n",
    "\n",
    "# Data 2020\n",
    "train_data_path = r\"D:\\Drohnendaten\\10_WZE-UAV\\Auswertung_findatree\\2020\\ROI\\rgb\\train\"\n",
    "val_data_path = r\"D:\\Drohnendaten\\10_WZE-UAV\\Auswertung_findatree\\2020\\ROI\\rgb\\val\"\n",
    "test_data_path = r\"D:\\Drohnendaten\\10_WZE-UAV\\Auswertung_findatree\\2020\\ROI\\rgb\\test\"\n",
    "\n",
    "# Data 2021\n",
    "train_data_path_2021 = r\"D:\\Drohnendaten\\10_WZE-UAV\\Auswertung_findatree\\2021\\ROI\\rgb\\train\"\n",
    "val_data_path_2021 = r\"D:\\Drohnendaten\\10_WZE-UAV\\Auswertung_findatree\\2021\\ROI\\rgb\\val\"\n",
    "test_data_path_2021 = r\"D:\\Drohnendaten\\10_WZE-UAV\\Auswertung_findatree\\2021\\ROI\\rgb\\test\"\n",
    "\n",
    "# Data 2022\n",
    "train_data_path_2022 = r\"D:\\Drohnendaten\\10_WZE-UAV\\Auswertung_findatree\\2022\\ROI\\rgb\\train\"\n",
    "val_data_path_2022 = r\"D:\\Drohnendaten\\10_WZE-UAV\\Auswertung_findatree\\2022\\ROI\\rgb\\val\"\n",
    "test_data_path_2022 = r\"D:\\Drohnendaten\\10_WZE-UAV\\Auswertung_findatree\\2022\\ROI\\rgb\\test\"\n",
    "\n"
   ]
  },
  {
   "cell_type": "markdown",
   "id": "b5d28343",
   "metadata": {},
   "source": [
    "#### Load images and features (labels and tree species) from hdf5 files"
   ]
  },
  {
   "cell_type": "code",
   "execution_count": 8,
   "id": "a1b72aed",
   "metadata": {},
   "outputs": [],
   "source": [
    "# load all image and feature arrays from hdf5\n",
    "# loops through all hdf5 files! \n",
    "\n",
    "# Data 2020\n",
    "train_image_set_2020, train_label_set_2020, train_species_set_2020, train_kkl_set_2020, train_bk_set_2020 = data_loader.hdf5_to_img_label(train_data_path, load_sets = [\"images_masked\"])\n",
    "val_image_set_2020, val_label_set_2020, val_species_set_2020, val_kkl_set_2020, val_bk_set_2020 = data_loader.hdf5_to_img_label(val_data_path, load_sets = [\"images_masked\"])\n",
    "test_image_set_2020, test_label_set_2020, test_species_set_2020, test_kkl_set_2020, test_bk_set_2020 = data_loader.hdf5_to_img_label(test_data_path, load_sets = [\"images_masked\"])\n",
    "\n",
    "# Data 2021\n",
    "train_image_set_2021, train_label_set_2021, train_species_set_2021, train_kkl_set_2021, train_bk_set_2021 = data_loader.hdf5_to_img_label(train_data_path_2021, load_sets = [\"images_masked\"])\n",
    "val_image_set_2021, val_label_set_2021, val_species_set_2021, val_kkl_set_2021, val_bk_set_2021 = data_loader.hdf5_to_img_label(val_data_path_2021, load_sets = [\"images_masked\"])\n",
    "test_image_set_2021, test_label_set_2021, test_species_set_2021, test_kkl_set_2021, test_bk_set_2021 = data_loader.hdf5_to_img_label(test_data_path_2021, load_sets = [\"images_masked\"])\n",
    "\n",
    "# Data 2022\n",
    "train_image_set_2022, train_label_set_2022, train_species_set_2022, train_kkl_set_2022, train_bk_set_2022 = data_loader.hdf5_to_img_label(train_data_path_2022, load_sets = [\"images_masked\"])\n",
    "val_image_set_2022, val_label_set_2022, val_species_set_2022, val_kkl_set_2022, val_bk_set_2022 = data_loader.hdf5_to_img_label(val_data_path_2022, load_sets = [\"images_masked\"])\n",
    "test_image_set_2022, test_label_set_2022, test_species_set_2022, test_kkl_set_2022, test_bk_set_2022 = data_loader.hdf5_to_img_label(test_data_path_2022, load_sets = [\"images_masked\"])\n",
    "\n",
    "\n",
    "\n",
    "\n",
    "\n",
    "\n"
   ]
  },
  {
   "cell_type": "code",
   "execution_count": 9,
   "id": "13f3e98d",
   "metadata": {},
   "outputs": [],
   "source": [
    "# stack all data from 2020, 2021 and 2022 into one dataset\n",
    "# images\n",
    "train_image_set = np.concatenate((train_image_set_2020, train_image_set_2021, train_image_set_2022), axis=0)\n",
    "val_image_set = np.concatenate((val_image_set_2020, val_image_set_2021, val_image_set_2022), axis=0)\n",
    "test_image_set = np.concatenate((test_image_set_2020, test_image_set_2021, test_image_set_2022), axis=0)\n",
    "\n",
    "#labels\n",
    "train_label_set = np.concatenate((train_label_set_2020, train_label_set_2021, train_label_set_2022), axis=0)\n",
    "val_label_set = np.concatenate((val_label_set_2020, val_label_set_2021, val_label_set_2022), axis=0)\n",
    "test_label_set = np.concatenate((test_label_set_2020, test_label_set_2021, test_label_set_2022), axis=0)\n",
    "\n",
    "#species\n",
    "train_species_set = np.concatenate((train_species_set_2020, train_species_set_2021, train_species_set_2022), axis=0)\n",
    "val_species_set = np.concatenate((val_species_set_2020, val_species_set_2021, val_species_set_2022), axis=0)\n",
    "test_species_set = np.concatenate((test_species_set_2020, test_species_set_2021, test_species_set_2022), axis=0)\n",
    "\n",
    "#kkl\n",
    "train_kkl_set = np.concatenate((train_kkl_set_2020, train_kkl_set_2021, train_kkl_set_2022), axis=0)\n",
    "val_kkl_set = np.concatenate((val_kkl_set_2020, val_kkl_set_2021, val_kkl_set_2022), axis=0)\n",
    "test_kkl_set = np.concatenate((test_kkl_set_2020, test_kkl_set_2021, test_kkl_set_2022), axis=0)\n",
    "\n",
    "#bk\n",
    "train_bk_set = np.concatenate((train_bk_set_2020, train_bk_set_2021, train_bk_set_2022), axis=0)\n",
    "val_bk_set = np.concatenate((val_bk_set_2020, val_bk_set_2021, val_bk_set_2022), axis=0)\n",
    "test_bk_set = np.concatenate((test_bk_set_2020, test_bk_set_2021, test_bk_set_2022), axis=0)"
   ]
  },
  {
   "cell_type": "code",
   "execution_count": 10,
   "id": "1961b5a1",
   "metadata": {},
   "outputs": [
    {
     "name": "stdout",
     "output_type": "stream",
     "text": [
      "Dataset 2020\n",
      "\n",
      "Train dataset shape: (4886, 250, 250, 3)\n",
      "Train labels shape: (4886, 1)\n",
      "Train species shape: (4886, 1)\n",
      "Train kkl shape: (4886, 1)\n",
      "Train bk shape: (4886, 1)\n",
      "--------------------------------------------------\n",
      "Validation dataset shape: (1053, 250, 250, 3)\n",
      "Validation labels shape: (1053, 1)\n",
      "--------------------------------------------------\n",
      "Test dataset shape: (917, 250, 250, 3)\n",
      "Test labels shape: (917, 1)\n",
      "--------------------------------------------------\n",
      "\n",
      "Total image samples: 6856\n",
      "Total label samples: 6856\n",
      "\n",
      "==================================================\n",
      "\n",
      "Dataset 2021\n",
      "\n",
      "Train dataset shape: (4505, 250, 250, 3)\n",
      "Train labels shape: (4505, 1)\n",
      "--------------------------------------------------\n",
      "Validation dataset shape: (1053, 250, 250, 3)\n",
      "Validation labels shape: (1053, 1)\n",
      "--------------------------------------------------\n",
      "Test dataset shape: (877, 250, 250, 3)\n",
      "Test labels shape: (877, 1)\n",
      "--------------------------------------------------\n",
      "\n",
      "Total image samples: 6435\n",
      "Total label samples: 6435\n",
      "\n",
      "==================================================\n",
      "\n",
      "Dataset 2022\n",
      "\n",
      "Train dataset shape: (4032, 250, 250, 3)\n",
      "Train labels shape: (4032, 1)\n",
      "--------------------------------------------------\n",
      "Validation dataset shape: (776, 250, 250, 3)\n",
      "Validation labels shape: (776, 1)\n",
      "--------------------------------------------------\n",
      "Test dataset shape: (706, 250, 250, 3)\n",
      "Test labels shape: (706, 1)\n",
      "--------------------------------------------------\n",
      "\n",
      "Total image samples: 5514\n",
      "Total label samples: 5514\n",
      "\n",
      "==================================================\n",
      "\n",
      "Stacked Dataset\n",
      "\n",
      "Train dataset shape: (13423, 250, 250, 3)\n",
      "Train labels shape: (13423, 1)\n",
      "--------------------------------------------------\n",
      "Validation dataset shape: (2882, 250, 250, 3)\n",
      "Validation labels shape: (2882, 1)\n",
      "--------------------------------------------------\n",
      "Test dataset shape: (2500, 250, 250, 3)\n",
      "Test labels shape: (2500, 1)\n",
      "--------------------------------------------------\n",
      "\n",
      "Total image samples: 18805\n",
      "Total label samples: 18805\n",
      "\n"
     ]
    }
   ],
   "source": [
    "# checking shapes and amount of samples. Image sample size should be equal to label sample size!\n",
    "# Images should be of shape (n, H, W, C): n = sample size | H = image height | W = image width | C = number of bands\n",
    "print(\"Dataset 2020\")\n",
    "print(f\"\\nTrain dataset shape: {train_image_set_2020.shape}\")\n",
    "print(f\"Train labels shape: {train_label_set_2020.shape}\")\n",
    "print(f\"Train species shape: {train_species_set_2020.shape}\")\n",
    "print(f\"Train kkl shape: {train_kkl_set_2020.shape}\")\n",
    "print(f\"Train bk shape: {train_bk_set_2020.shape}\")\n",
    "print(\"-\"*50)\n",
    "print(f\"Validation dataset shape: {val_image_set_2020.shape}\")\n",
    "print(f\"Validation labels shape: {val_label_set_2020.shape}\")\n",
    "print(\"-\"*50)\n",
    "print(f\"Test dataset shape: {test_image_set_2020.shape}\")\n",
    "print(f\"Test labels shape: {test_label_set_2020.shape}\")\n",
    "print(\"-\"*50)\n",
    "print(f\"\\nTotal image samples: {train_image_set_2020.shape[0] + val_image_set_2020.shape[0] + test_image_set_2020.shape[0]}\")\n",
    "print(f\"Total label samples: {train_label_set_2020.shape[0] + val_label_set_2020.shape[0] + test_label_set_2020.shape[0]}\\n\")\n",
    "print(\"=\"*50)\n",
    "print(\"\\nDataset 2021\")\n",
    "print(f\"\\nTrain dataset shape: {train_image_set_2021.shape}\")\n",
    "print(f\"Train labels shape: {train_label_set_2021.shape}\")\n",
    "print(\"-\"*50)\n",
    "print(f\"Validation dataset shape: {val_image_set_2021.shape}\")\n",
    "print(f\"Validation labels shape: {val_label_set_2021.shape}\")\n",
    "print(\"-\"*50)\n",
    "print(f\"Test dataset shape: {test_image_set_2021.shape}\")\n",
    "print(f\"Test labels shape: {test_label_set_2021.shape}\")\n",
    "print(\"-\"*50)\n",
    "print(f\"\\nTotal image samples: {train_image_set_2021.shape[0] + val_image_set_2021.shape[0] + test_image_set_2021.shape[0]}\")\n",
    "print(f\"Total label samples: {train_label_set_2021.shape[0] + val_label_set_2021.shape[0] + test_label_set_2021.shape[0]}\\n\")\n",
    "print(\"=\"*50)\n",
    "print(\"\\nDataset 2022\")\n",
    "print(f\"\\nTrain dataset shape: {train_image_set_2022.shape}\")\n",
    "print(f\"Train labels shape: {train_label_set_2022.shape}\")\n",
    "print(\"-\"*50)\n",
    "print(f\"Validation dataset shape: {val_image_set_2022.shape}\")\n",
    "print(f\"Validation labels shape: {val_label_set_2022.shape}\")\n",
    "print(\"-\"*50)\n",
    "print(f\"Test dataset shape: {test_image_set_2022.shape}\")\n",
    "print(f\"Test labels shape: {test_label_set_2022.shape}\")\n",
    "print(\"-\"*50)\n",
    "print(f\"\\nTotal image samples: {train_image_set_2022.shape[0] + val_image_set_2022.shape[0] + test_image_set_2022.shape[0]}\")\n",
    "print(f\"Total label samples: {train_label_set_2022.shape[0] + val_label_set_2022.shape[0] + test_label_set_2022.shape[0]}\\n\")\n",
    "print(\"=\"*50)\n",
    "print(\"\\nStacked Dataset\")\n",
    "print(f\"\\nTrain dataset shape: {train_image_set.shape}\")\n",
    "print(f\"Train labels shape: {train_label_set.shape}\")\n",
    "print(\"-\"*50)\n",
    "print(f\"Validation dataset shape: {val_image_set.shape}\")\n",
    "print(f\"Validation labels shape: {val_label_set.shape}\")\n",
    "print(\"-\"*50)\n",
    "print(f\"Test dataset shape: {test_image_set.shape}\")\n",
    "print(f\"Test labels shape: {test_label_set.shape}\")\n",
    "print(\"-\"*50)\n",
    "print(f\"\\nTotal image samples: {train_image_set.shape[0] + val_image_set.shape[0] + test_image_set.shape[0]}\")\n",
    "print(f\"Total label samples: {train_label_set.shape[0] + val_label_set.shape[0] + test_label_set.shape[0]}\\n\")"
   ]
  },
  {
   "cell_type": "markdown",
   "id": "5ad5104a",
   "metadata": {},
   "source": [
    "#### Create PyTorch Datasets (converts ndarrays into tensors)"
   ]
  },
  {
   "cell_type": "code",
   "execution_count": 11,
   "id": "93fd9497",
   "metadata": {},
   "outputs": [],
   "source": [
    "# train transform with augmentation. \n",
    "transform_train = transforms.Compose([transforms.ToTensor(),\n",
    "                                      #transforms.Normalize(mean=[0.485, 0.456, 0.406],\n",
    "                                      #                     std=[0.229, 0.224, 0.225]),\n",
    "                                      transforms.ColorJitter(brightness=(0.5,1.5), contrast=(0.5,1.2), saturation=(0.5,1.2), hue=(-0.05,0.05)),\n",
    "                                      transforms.RandomHorizontalFlip(p=0.5),\n",
    "                                      transforms.RandomVerticalFlip(p=0.5),\n",
    "                                      transforms.RandomRotation(degrees=[-90,90]),\n",
    "                                      #transforms.Resize(224)\n",
    "                                      ])\n",
    "\n",
    "# test and val dataset transform without augmentation. \n",
    "transform = transforms.Compose([transforms.ToTensor(),\n",
    "                                #transforms.Resize(224)\n",
    "                               ])\n",
    "\n",
    "class_idx = {'healthy':0,'stressed':1, 'dead':2}\n",
    "\n",
    "# class names need to fit the customDataset class used e.g. 3 classes -> use CustomDataset3Classes\n",
    "#class_names = ['healthy', 'slightly_stressed', 'moderately_stressed', 'highly_stressed', 'dead']\n",
    "class_names = ['healthy', 'moderately_stressed', 'highly_stressed', 'dead']\n",
    "#class_names = ['healthy', 'stressed', 'dead']\n",
    "\n",
    "# choose custom dataset loader with 3 - 5 classes\n",
    "train_dataset = data_loader.CustomDataset4Classes(\n",
    "    data = train_image_set,\n",
    "    labels = train_label_set,\n",
    "    class_names=class_names,\n",
    "    class_idx=class_idx, \n",
    "    species = train_species_set,\n",
    "    kkl = train_kkl_set,\n",
    "    transform=transform_train\n",
    ")\n",
    "\n",
    "val_dataset = data_loader.CustomDataset4Classes(\n",
    "    data = val_image_set,\n",
    "    labels = val_label_set,\n",
    "    class_names=class_names,\n",
    "    class_idx=class_idx, \n",
    "    species = val_species_set,\n",
    "    kkl = val_kkl_set,\n",
    "    transform=transform\n",
    ")\n",
    "\n",
    "test_dataset = data_loader.CustomDataset4Classes(\n",
    "    data = test_image_set,\n",
    "    labels = test_label_set,\n",
    "    class_names=class_names,\n",
    "    class_idx=class_idx, \n",
    "    species = test_species_set,\n",
    "    kkl = test_kkl_set,\n",
    "    transform=transform\n",
    ")\n",
    "\n"
   ]
  },
  {
   "cell_type": "code",
   "execution_count": 12,
   "id": "763b28fe",
   "metadata": {},
   "outputs": [],
   "source": [
    "from typing import Dict, List, Tuple\n",
    "import torch\n",
    "import random\n",
    "import matplotlib.pyplot as plt\n",
    "\n",
    "def display_random_images(dataset: torch.utils.data.dataset.Dataset,\n",
    "                          classes: List[int] = None,\n",
    "                          n: int = 10,\n",
    "                          display_shape: bool = True,\n",
    "                          seed: int = None):\n",
    "    \n",
    "    # 2. Adjust display if n too high\n",
    "    if n > 10:\n",
    "        n = 10\n",
    "        display_shape = False\n",
    "        print(f\"For display purposes, n shouldn't be larger than 10, setting to 10 and removing shape display.\")\n",
    "    \n",
    "    # 3. Set random seed\n",
    "    if seed:\n",
    "        random.seed(seed)\n",
    "\n",
    "    # 4. Get random sample indexes\n",
    "    random_samples_idx = random.sample(range(len(dataset)), k=n)\n",
    "\n",
    "    # 5. Setup plot\n",
    "    plt.figure(figsize=(30, 20))\n",
    "\n",
    "    # 6. Loop through samples and display random samples \n",
    "    for i, targ_sample in enumerate(random_samples_idx):\n",
    "        targ_image, targ_label, targ_species, targ_kkl = dataset[targ_sample][0], dataset[targ_sample][1], dataset.species[targ_sample], dataset.kkl[targ_sample]\n",
    "\n",
    "        # 7. Adjust image tensor shape for plotting: [color_channels, height, width] -> [color_channels, height, width]\n",
    "        targ_image_adjust = targ_image.permute(2, 1, 0)\n",
    "        #targ_image_adjust = \n",
    " \n",
    "\n",
    "        # Plot adjusted samples\n",
    "        plt.subplot(1, n, i+1)\n",
    "        plt.imshow(targ_image_adjust)\n",
    "        plt.axis(\"off\")\n",
    "        if classes:\n",
    "            title = f\"class: {classes[targ_label]}\"\n",
    "            if display_shape:\n",
    "                title = title + f\"\\nshape: {targ_species}\"\n",
    "                title = title + f\"\\nshape: {targ_image_adjust.shape}\"\n",
    "        plt.title(title)"
   ]
  },
  {
   "cell_type": "code",
   "execution_count": 13,
   "id": "207e140c",
   "metadata": {},
   "outputs": [
    {
     "data": {
      "image/png": "[encoded data removed]",
      "text/plain": [
       "<Figure size 2160x1440 with 2 Axes>"
      ]
     },
     "metadata": {
      "needs_background": "light"
     },
     "output_type": "display_data"
    }
   ],
   "source": [
    "display_random_images(train_dataset, \n",
    "                      n=2, \n",
    "                      classes=[0, 1, 2],\n",
    "                      seed=None)\n",
    "#train_dataset[0][0].dtype"
   ]
  },
  {
   "cell_type": "code",
   "execution_count": 14,
   "id": "052846b7",
   "metadata": {},
   "outputs": [
    {
     "name": "stdout",
     "output_type": "stream",
     "text": [
      "Image tensor:\n",
      "tensor([[[0., 0., 0.,  ..., 0., 0., 0.],\n",
      "         [0., 0., 0.,  ..., 0., 0., 0.],\n",
      "         [0., 0., 0.,  ..., 0., 0., 0.],\n",
      "         ...,\n",
      "         [0., 0., 0.,  ..., 0., 0., 0.],\n",
      "         [0., 0., 0.,  ..., 0., 0., 0.],\n",
      "         [0., 0., 0.,  ..., 0., 0., 0.]],\n",
      "\n",
      "        [[0., 0., 0.,  ..., 0., 0., 0.],\n",
      "         [0., 0., 0.,  ..., 0., 0., 0.],\n",
      "         [0., 0., 0.,  ..., 0., 0., 0.],\n",
      "         ...,\n",
      "         [0., 0., 0.,  ..., 0., 0., 0.],\n",
      "         [0., 0., 0.,  ..., 0., 0., 0.],\n",
      "         [0., 0., 0.,  ..., 0., 0., 0.]],\n",
      "\n",
      "        [[0., 0., 0.,  ..., 0., 0., 0.],\n",
      "         [0., 0., 0.,  ..., 0., 0., 0.],\n",
      "         [0., 0., 0.,  ..., 0., 0., 0.],\n",
      "         ...,\n",
      "         [0., 0., 0.,  ..., 0., 0., 0.],\n",
      "         [0., 0., 0.,  ..., 0., 0., 0.],\n",
      "         [0., 0., 0.,  ..., 0., 0., 0.]]])\n",
      "Image shape: torch.Size([3, 250, 250])\n",
      "Image datatype: torch.float32\n",
      "Image label: 2\n",
      "Label datatype: <class 'int'>\n"
     ]
    }
   ],
   "source": [
    "img, label = test_dataset[0]\n",
    "print(f\"Image tensor:\\n{img}\")\n",
    "print(f\"Image shape: {img.shape}\")\n",
    "print(f\"Image datatype: {img.dtype}\")\n",
    "print(f\"Image label: {label}\")\n",
    "print(f\"Label datatype: {type(label)}\")"
   ]
  },
  {
   "cell_type": "markdown",
   "id": "fceb1a7d",
   "metadata": {},
   "source": [
    "#### Create PyTorch Dataloaders"
   ]
  },
  {
   "cell_type": "code",
   "execution_count": 15,
   "id": "d34f3728",
   "metadata": {},
   "outputs": [
    {
     "name": "stdout",
     "output_type": "stream",
     "text": [
      "419\n",
      "90\n",
      "78\n"
     ]
    }
   ],
   "source": [
    "# set seeds\n",
    "g = torch.Generator()\n",
    "g.manual_seed(0)\n",
    "NUM_WORKERS=3\n",
    "batch_size=32\n",
    "\n",
    "train_dataloader = DataLoader(train_dataset,\n",
    "                              batch_size=batch_size,\n",
    "                              persistent_workers=True,\n",
    "                              pin_memory=True,\n",
    "                              num_workers=NUM_WORKERS,\n",
    "                              #worker_init_fn=seed_worker, \n",
    "                              generator=g,\n",
    "                              shuffle=True,\n",
    "                              drop_last=True)\n",
    "\n",
    "val_dataloader = DataLoader(val_dataset,\n",
    "                             batch_size=batch_size,\n",
    "                             persistent_workers=True,\n",
    "                             pin_memory=True,\n",
    "                             num_workers=NUM_WORKERS,\n",
    "                             shuffle=False,\n",
    "                             drop_last=True)\n",
    "\n",
    "test_dataloader = DataLoader(test_dataset,\n",
    "                             batch_size=batch_size,\n",
    "                             persistent_workers=True,\n",
    "                             pin_memory=True,\n",
    "                             num_workers=NUM_WORKERS,\n",
    "                             shuffle=False,\n",
    "                             drop_last=True)\n",
    "\n",
    "print(len(train_dataloader))\n",
    "print(len(val_dataloader))\n",
    "print(len(test_dataloader))"
   ]
  },
  {
   "cell_type": "code",
   "execution_count": 16,
   "id": "04d02002",
   "metadata": {},
   "outputs": [
    {
     "name": "stdout",
     "output_type": "stream",
     "text": [
      "4\n"
     ]
    }
   ],
   "source": [
    "classes = train_dataset.class_names\n",
    "output_shape = len(classes)\n",
    "print(output_shape)\n",
    "\n"
   ]
  },
  {
   "cell_type": "code",
   "execution_count": 17,
   "id": "4f39bad8",
   "metadata": {},
   "outputs": [],
   "source": [
    "def create_effnetb0(output_shape: int, unfreeze: bool, device: torch.device):\n",
    "    # 1. Get the base model with pretrained weights and send to target device\n",
    "    weights = torchvision.models.EfficientNet_B0_Weights.DEFAULT\n",
    "    \n",
    "    # get the transforms used to create the pretrained weights\n",
    "    auto_transforms = weights.transforms()\n",
    "    \n",
    "    # define model\n",
    "    model = torchvision.models.efficientnet_b0(weights=weights).to(device)\n",
    "    \n",
    "    # 2. Freeze/unfreeze the base model layers\n",
    "    for param in model.parameters():\n",
    "        param.requires_grad = unfreeze\n",
    "        \n",
    "    # 3. Set seeds\n",
    "    set_seeds()\n",
    "    \n",
    "    # 4. Change the classifier head\n",
    "    model.classifier = torch.nn.Sequential(torch.nn.Dropout(p=0.2, inplace=True),\n",
    "                                           torch.nn.Linear(in_features=1280, # 2048 (b5), 2560 (b7)\n",
    "                                                           out_features=output_shape, # same number of output units as our number of classes\n",
    "                                                           bias=True)).to(device)\n",
    "\n",
    "    # 5. Give the model a name\n",
    "    model.name = \"effnet_b0\"\n",
    "    \n",
    "    print(f\"[INFO] Created new {model.name} model.\")\n",
    "    return model"
   ]
  },
  {
   "cell_type": "code",
   "execution_count": 18,
   "id": "35d1eaf7",
   "metadata": {},
   "outputs": [
    {
     "name": "stdout",
     "output_type": "stream",
     "text": [
      "[INFO] Created new effnet_b0 model.\n"
     ]
    },
    {
     "data": {
      "text/plain": [
       "================================================================================================================================\n",
       "Layer (type (var_name))                                      Input Shape       Output Shape      Param #           Trainable\n",
       "================================================================================================================================\n",
       "EfficientNet (EfficientNet)                                  [64, 3, 250, 250] [64, 4]           --                Partial\n",
       "├─Sequential (features)                                      [64, 3, 250, 250] [64, 1280, 8, 8]  --                False\n",
       "│    └─Conv2dNormActivation (0)                              [64, 3, 250, 250] [64, 32, 125, 125] --                False\n",
       "│    │    └─Conv2d (0)                                       [64, 3, 250, 250] [64, 32, 125, 125] (864)             False\n",
       "│    │    └─BatchNorm2d (1)                                  [64, 32, 125, 125] [64, 32, 125, 125] (64)              False\n",
       "│    │    └─SiLU (2)                                         [64, 32, 125, 125] [64, 32, 125, 125] --                --\n",
       "│    └─Sequential (1)                                        [64, 32, 125, 125] [64, 16, 125, 125] --                False\n",
       "│    │    └─MBConv (0)                                       [64, 32, 125, 125] [64, 16, 125, 125] (1,448)           False\n",
       "│    └─Sequential (2)                                        [64, 16, 125, 125] [64, 24, 63, 63]  --                False\n",
       "│    │    └─MBConv (0)                                       [64, 16, 125, 125] [64, 24, 63, 63]  (6,004)           False\n",
       "│    │    └─MBConv (1)                                       [64, 24, 63, 63]  [64, 24, 63, 63]  (10,710)          False\n",
       "│    └─Sequential (3)                                        [64, 24, 63, 63]  [64, 40, 32, 32]  --                False\n",
       "│    │    └─MBConv (0)                                       [64, 24, 63, 63]  [64, 40, 32, 32]  (15,350)          False\n",
       "│    │    └─MBConv (1)                                       [64, 40, 32, 32]  [64, 40, 32, 32]  (31,290)          False\n",
       "│    └─Sequential (4)                                        [64, 40, 32, 32]  [64, 80, 16, 16]  --                False\n",
       "│    │    └─MBConv (0)                                       [64, 40, 32, 32]  [64, 80, 16, 16]  (37,130)          False\n",
       "│    │    └─MBConv (1)                                       [64, 80, 16, 16]  [64, 80, 16, 16]  (102,900)         False\n",
       "│    │    └─MBConv (2)                                       [64, 80, 16, 16]  [64, 80, 16, 16]  (102,900)         False\n",
       "│    └─Sequential (5)                                        [64, 80, 16, 16]  [64, 112, 16, 16] --                False\n",
       "│    │    └─MBConv (0)                                       [64, 80, 16, 16]  [64, 112, 16, 16] (126,004)         False\n",
       "│    │    └─MBConv (1)                                       [64, 112, 16, 16] [64, 112, 16, 16] (208,572)         False\n",
       "│    │    └─MBConv (2)                                       [64, 112, 16, 16] [64, 112, 16, 16] (208,572)         False\n",
       "│    └─Sequential (6)                                        [64, 112, 16, 16] [64, 192, 8, 8]   --                False\n",
       "│    │    └─MBConv (0)                                       [64, 112, 16, 16] [64, 192, 8, 8]   (262,492)         False\n",
       "│    │    └─MBConv (1)                                       [64, 192, 8, 8]   [64, 192, 8, 8]   (587,952)         False\n",
       "│    │    └─MBConv (2)                                       [64, 192, 8, 8]   [64, 192, 8, 8]   (587,952)         False\n",
       "│    │    └─MBConv (3)                                       [64, 192, 8, 8]   [64, 192, 8, 8]   (587,952)         False\n",
       "│    └─Sequential (7)                                        [64, 192, 8, 8]   [64, 320, 8, 8]   --                False\n",
       "│    │    └─MBConv (0)                                       [64, 192, 8, 8]   [64, 320, 8, 8]   (717,232)         False\n",
       "│    └─Conv2dNormActivation (8)                              [64, 320, 8, 8]   [64, 1280, 8, 8]  --                False\n",
       "│    │    └─Conv2d (0)                                       [64, 320, 8, 8]   [64, 1280, 8, 8]  (409,600)         False\n",
       "│    │    └─BatchNorm2d (1)                                  [64, 1280, 8, 8]  [64, 1280, 8, 8]  (2,560)           False\n",
       "│    │    └─SiLU (2)                                         [64, 1280, 8, 8]  [64, 1280, 8, 8]  --                --\n",
       "├─AdaptiveAvgPool2d (avgpool)                                [64, 1280, 8, 8]  [64, 1280, 1, 1]  --                --\n",
       "├─Sequential (classifier)                                    [64, 1280]        [64, 4]           --                True\n",
       "│    └─Dropout (0)                                           [64, 1280]        [64, 1280]        --                --\n",
       "│    └─Linear (1)                                            [64, 1280]        [64, 4]           5,124             True\n",
       "================================================================================================================================\n",
       "Total params: 4,012,672\n",
       "Trainable params: 5,124\n",
       "Non-trainable params: 4,007,548\n",
       "Total mult-adds (G): 31.86\n",
       "================================================================================================================================\n",
       "Input size (MB): 48.00\n",
       "Forward/backward pass size (MB): 8804.55\n",
       "Params size (MB): 16.05\n",
       "Estimated Total Size (MB): 8868.60\n",
       "================================================================================================================================"
      ]
     },
     "execution_count": 18,
     "metadata": {},
     "output_type": "execute_result"
    }
   ],
   "source": [
    "# Print out model summary\n",
    "effnet_b0 = create_effnetb0(output_shape=output_shape, unfreeze=False, device=device)\n",
    "\n",
    "summary(effnet_b0, \n",
    "        input_size=(64, 3, 250, 250), # make sure this is \"input_size\", not \"input_shape\" (batch_size, color_channels, height, width)\n",
    "        verbose=0,\n",
    "        col_names=[\"input_size\", \"output_size\", \"num_params\", \"trainable\"],\n",
    "        col_width=17,\n",
    "        row_settings=[\"var_names\"])"
   ]
  },
  {
   "cell_type": "code",
   "execution_count": 23,
   "id": "ae5f546e",
   "metadata": {},
   "outputs": [],
   "source": [
    "# 1. Create epochs list\n",
    "num_epochs = [50]\n",
    "\n",
    "# 2. Create models list (need to create a new model for each experiment)\n",
    "models_list = [\"effnet_b0\", \"effnet_b7\"]\n",
    "\n",
    "#set_train_dataloader = train_dataloader\n",
    "\n",
    "# 3. Create dataloaders dictionary for various dataloaders\n",
    "train_dataloaders = {#\"train_data_5_percent\": train_dataloader_05,\n",
    "                     #\"train_data_10_percent\": train_dataloader_10,\n",
    "                     \"train_data_100_percent\": train_dataloader}\n",
    "\n",
    "# 4. Create dataloaders dictionary for various dataloaders\n",
    "val_dataloaders = {#\"test_data_5_percent\": test_dataloader_05,\n",
    "                     #\"test_data_10_percent\": test_dataloader_10,\n",
    "                     \"test_data_100_percent\": test_dataloader}\n",
    "\n",
    "# 5. Create target folder name were to save the tensorboard event files\n",
    "target_dir = \"log_test\"\n",
    "\n",
    "# class imbalance where nbv 99 == dead!\n",
    "#loss_weight = torch.Tensor([3730, 7632, 6578, 553, 312]) # 5 classes\n",
    "loss_weight = torch.Tensor([11362, 6578, 553, 312]) # 4 classes\n",
    "#loss_weight = torch.Tensor([11362, 7131, 312])# 3 classes\n",
    "\n",
    "#for 5 classes: \n",
    "# data 2020: [1194, 2516, 2776, 261, 109]\n",
    "# data 2021: [1097, 2548, 2475, 201, 114]\n",
    "# data 2022: [1439, 2568, 1327, 91, 89]\n",
    "\n",
    "loss_weight = loss_weight.type(torch.FloatTensor)\n",
    "loss_weight = loss_weight.to(device)"
   ]
  },
  {
   "cell_type": "code",
   "execution_count": null,
   "id": "1813c163",
   "metadata": {},
   "outputs": [
    {
     "name": "stdout",
     "output_type": "stream",
     "text": [
      "[INFO] Experiment number: 1\n",
      "[INFO] Model: effnet_b0\n",
      "[INFO] DataLoader: train_data_100_percent\n",
      "[INFO] Number of epochs: 50\n",
      "[INFO] Created new effnet_b0 model.\n",
      "[INFO] Created SummaryWriter, saving to: log_test\\2023-03\\train_data_100_percent\\effnet_b0\\50_epochs...\n"
     ]
    },
    {
     "data": {
      "application/vnd.jupyter.widget-view+json": {
       "model_id": "157d0c75a37d49649bc4e884a8f7e781",
       "version_major": 2,
       "version_minor": 0
      },
      "text/plain": [
       "  0%|          | 0/50 [00:00<?, ?it/s]"
      ]
     },
     "metadata": {},
     "output_type": "display_data"
    },
    {
     "name": "stdout",
     "output_type": "stream",
     "text": [
      "Epoch: 1 \n",
      "Train loss: 0.6008 | Train precision: 0.4245 | Train recall: 0.5851 | Train f1score: 0.4606 \n",
      "Test loss: 0.5644 | Test precision: 0.6250 | Test recall: 0.5271 | Test f1score: 0.5332 \n",
      "\n",
      "Epoch: 2 \n",
      "Train loss: 0.5719 | Train precision: 0.4502 | Train recall: 0.5918 | Train f1score: 0.4650 \n",
      "Test loss: 0.5641 | Test precision: 0.6233 | Test recall: 0.4995 | Test f1score: 0.5219 \n",
      "\n",
      "Epoch: 3 \n",
      "Train loss: 0.5672 | Train precision: 0.4743 | Train recall: 0.5954 | Train f1score: 0.4774 \n",
      "Test loss: 0.5786 | Test precision: 0.6233 | Test recall: 0.4567 | Test f1score: 0.5164 \n",
      "\n",
      "Epoch: 4 \n",
      "Train loss: 0.5646 | Train precision: 0.4944 | Train recall: 0.5970 | Train f1score: 0.4818 \n",
      "Test loss: 0.5597 | Test precision: 0.6215 | Test recall: 0.6108 | Test f1score: 0.5499 \n",
      "\n",
      "Epoch: 5 \n",
      "Train loss: 0.5574 | Train precision: 0.5217 | Train recall: 0.6002 | Train f1score: 0.4883 \n",
      "Test loss: 0.5795 | Test precision: 0.6250 | Test recall: 0.4782 | Test f1score: 0.5198 \n",
      "\n",
      "Epoch: 6 \n",
      "Train loss: 0.5593 | Train precision: 0.5107 | Train recall: 0.5977 | Train f1score: 0.4879 \n",
      "Test loss: 0.5748 | Test precision: 0.6337 | Test recall: 0.6046 | Test f1score: 0.5531 \n",
      "\n",
      "Epoch: 7 \n",
      "Train loss: 0.5571 | Train precision: 0.5264 | Train recall: 0.6026 | Train f1score: 0.4984 \n",
      "Test loss: 0.5571 | Test precision: 0.6337 | Test recall: 0.6192 | Test f1score: 0.5551 \n",
      "\n",
      "Epoch: 8 \n",
      "Train loss: 0.5542 | Train precision: 0.5407 | Train recall: 0.6061 | Train f1score: 0.5032 \n",
      "Test loss: 0.5499 | Test precision: 0.6392 | Test recall: 0.6632 | Test f1score: 0.5915 \n",
      "\n",
      "Epoch: 9 \n",
      "Train loss: 0.5542 | Train precision: 0.5466 | Train recall: 0.6071 | Train f1score: 0.5067 \n",
      "Test loss: 0.5542 | Test precision: 0.6413 | Test recall: 0.6445 | Test f1score: 0.5665 \n",
      "\n",
      "Epoch: 10 \n",
      "Train loss: 0.5523 | Train precision: 0.5724 | Train recall: 0.6093 | Train f1score: 0.5151 \n",
      "Test loss: 0.5675 | Test precision: 0.6306 | Test recall: 0.5460 | Test f1score: 0.5378 \n",
      "\n",
      "Epoch: 11 \n",
      "Train loss: 0.5512 | Train precision: 0.5596 | Train recall: 0.6081 | Train f1score: 0.5124 \n",
      "Test loss: 0.5595 | Test precision: 0.6378 | Test recall: 0.6465 | Test f1score: 0.5782 \n",
      "\n",
      "Epoch: 12 \n",
      "Train loss: 0.5482 | Train precision: 0.5827 | Train recall: 0.6150 | Train f1score: 0.5256 \n",
      "Test loss: 0.5519 | Test precision: 0.6444 | Test recall: 0.6766 | Test f1score: 0.5977 \n",
      "\n",
      "Epoch: 13 \n",
      "Train loss: 0.5496 | Train precision: 0.5867 | Train recall: 0.6169 | Train f1score: 0.5276 \n",
      "Test loss: 0.5410 | Test precision: 0.6580 | Test recall: 0.6821 | Test f1score: 0.6052 \n",
      "\n",
      "Epoch: 14 \n",
      "Train loss: 0.5482 | Train precision: 0.5763 | Train recall: 0.6148 | Train f1score: 0.5255 \n",
      "Test loss: 0.5526 | Test precision: 0.6354 | Test recall: 0.6492 | Test f1score: 0.5634 \n",
      "\n",
      "Epoch: 15 \n",
      "Train loss: 0.5451 | Train precision: 0.5865 | Train recall: 0.6166 | Train f1score: 0.5311 \n",
      "Test loss: 0.5500 | Test precision: 0.6455 | Test recall: 0.6866 | Test f1score: 0.6100 \n",
      "\n",
      "Epoch: 16 \n",
      "Train loss: 0.5488 | Train precision: 0.5823 | Train recall: 0.6187 | Train f1score: 0.5334 \n",
      "Test loss: 0.5482 | Test precision: 0.6427 | Test recall: 0.6793 | Test f1score: 0.5911 \n",
      "\n",
      "Epoch: 17 \n",
      "Train loss: 0.5456 | Train precision: 0.5802 | Train recall: 0.6146 | Train f1score: 0.5260 \n",
      "Test loss: 0.5515 | Test precision: 0.6479 | Test recall: 0.6738 | Test f1score: 0.5877 \n",
      "\n",
      "Epoch: 18 \n",
      "Train loss: 0.5437 | Train precision: 0.5885 | Train recall: 0.6200 | Train f1score: 0.5389 \n",
      "Test loss: 0.5564 | Test precision: 0.6559 | Test recall: 0.6849 | Test f1score: 0.6012 \n",
      "\n",
      "Epoch: 19 \n",
      "Train loss: 0.5429 | Train precision: 0.5967 | Train recall: 0.6202 | Train f1score: 0.5381 \n",
      "Test loss: 0.5431 | Test precision: 0.6382 | Test recall: 0.6263 | Test f1score: 0.5583 \n",
      "\n",
      "Epoch: 20 \n",
      "Train loss: 0.5421 | Train precision: 0.6020 | Train recall: 0.6228 | Train f1score: 0.5438 \n",
      "Test loss: 0.5579 | Test precision: 0.6507 | Test recall: 0.6856 | Test f1score: 0.6180 \n",
      "\n",
      "Epoch: 21 \n",
      "Train loss: 0.5417 | Train precision: 0.6009 | Train recall: 0.6258 | Train f1score: 0.5484 \n",
      "Test loss: 0.5478 | Test precision: 0.6622 | Test recall: 0.7092 | Test f1score: 0.6245 \n",
      "\n",
      "Epoch: 22 \n",
      "Train loss: 0.5394 | Train precision: 0.6035 | Train recall: 0.6259 | Train f1score: 0.5487 \n",
      "Test loss: 0.5690 | Test precision: 0.6403 | Test recall: 0.6453 | Test f1score: 0.5813 \n",
      "\n",
      "Epoch: 23 \n",
      "Train loss: 0.5402 | Train precision: 0.6019 | Train recall: 0.6241 | Train f1score: 0.5437 \n",
      "Test loss: 0.5460 | Test precision: 0.6514 | Test recall: 0.6752 | Test f1score: 0.5969 \n",
      "\n",
      "Epoch: 24 \n",
      "Train loss: 0.5396 | Train precision: 0.5957 | Train recall: 0.6207 | Train f1score: 0.5414 \n",
      "Test loss: 0.5571 | Test precision: 0.6455 | Test recall: 0.6552 | Test f1score: 0.5806 \n",
      "\n",
      "Epoch: 25 \n",
      "Train loss: 0.5369 | Train precision: 0.6084 | Train recall: 0.6295 | Train f1score: 0.5548 \n",
      "Test loss: 0.5556 | Test precision: 0.6431 | Test recall: 0.6461 | Test f1score: 0.5793 \n",
      "\n",
      "Epoch: 26 \n",
      "Train loss: 0.5370 | Train precision: 0.6056 | Train recall: 0.6217 | Train f1score: 0.5419 \n",
      "Test loss: 0.5362 | Test precision: 0.6559 | Test recall: 0.6996 | Test f1score: 0.6213 \n",
      "\n",
      "Epoch: 27 \n",
      "Train loss: 0.5367 | Train precision: 0.6113 | Train recall: 0.6290 | Train f1score: 0.5521 \n",
      "Test loss: 0.5325 | Test precision: 0.6580 | Test recall: 0.7021 | Test f1score: 0.6186 \n",
      "\n",
      "Epoch: 28 \n",
      "Train loss: 0.5377 | Train precision: 0.6103 | Train recall: 0.6291 | Train f1score: 0.5546 \n",
      "Test loss: 0.5327 | Test precision: 0.6604 | Test recall: 0.6846 | Test f1score: 0.6137 \n",
      "\n",
      "Epoch: 29 \n",
      "Train loss: 0.5385 | Train precision: 0.5986 | Train recall: 0.6229 | Train f1score: 0.5430 \n",
      "Test loss: 0.5514 | Test precision: 0.6562 | Test recall: 0.6851 | Test f1score: 0.6016 \n",
      "\n",
      "Epoch: 30 \n",
      "Train loss: 0.5342 | Train precision: 0.6068 | Train recall: 0.6307 | Train f1score: 0.5589 \n",
      "Test loss: 0.5521 | Test precision: 0.6486 | Test recall: 0.7072 | Test f1score: 0.5942 \n",
      "\n",
      "Epoch: 31 \n",
      "Train loss: 0.5353 | Train precision: 0.6154 | Train recall: 0.6322 | Train f1score: 0.5588 \n",
      "Test loss: 0.5471 | Test precision: 0.6514 | Test recall: 0.6768 | Test f1score: 0.6011 \n",
      "\n"
     ]
    }
   ],
   "source": [
    "%%time\n",
    "###### define Parameters######\n",
    "from efficientnet import model #for custom effnet\n",
    "n_bands = 3 # define number of bands\n",
    "num_classes = len(classes)\n",
    "lr = 0.001 # define learning rate\n",
    "\n",
    "# 1. Set the random seeds\n",
    "set_seeds(seed=0)\n",
    "\n",
    "# 2. Keep track of experiment numbers\n",
    "experiment_number = 0\n",
    "\n",
    "# 3. Loop through each DataLoader\n",
    "for dataloader_name, train_dataloader in train_dataloaders.items():\n",
    "\n",
    "    # 4. Loop through each number of epochs\n",
    "    for epochs in num_epochs: \n",
    "\n",
    "        # 5. Loop through each model name and create a new model based on the name\n",
    "        for model_name in models_list:\n",
    "\n",
    "            # 6. Create information print outs\n",
    "            experiment_number += 1\n",
    "            print(f\"[INFO] Experiment number: {experiment_number}\")\n",
    "            print(f\"[INFO] Model: {model_name}\")\n",
    "            print(f\"[INFO] DataLoader: {dataloader_name}\")\n",
    "            print(f\"[INFO] Number of epochs: {epochs}\")  \n",
    "\n",
    "            # 7. Select the model\n",
    "            #if model_name == \"effnet_b0_custom\":\n",
    "                #model = model.EfficientNet.from_pretrained('efficientnet-b0', in_channels=n_bands, num_classes=num_classes, dropout_rate=0.2)\n",
    "            if model_name == \"effnet_b0\":\n",
    "                model = models.create_effnetb0(output_shape=num_classes, unfreeze=True, device=device) # creates a new model each time (important because we want each experiment to start from scratch)\n",
    "            else:\n",
    "                model = models.create_effnetb7(output_shape=num_classes, unfreeze=True, device=device) # creates a new model each time (important because we want each experiment to start from scratch)\n",
    "            \n",
    "            # 8. Create a new loss and optimizer for every model\n",
    "            loss_fn = nn.CrossEntropyLoss(weight=loss_weight)\n",
    "            optimizer = torch.optim.Adam(params=model.parameters(), lr=lr)\n",
    "\n",
    "            # 9. Train target model with target dataloaders and track experiments\n",
    "            results = train(model=model,\n",
    "                            n_bands=n_bands,\n",
    "                            batch_size=batch_size,\n",
    "                            train_dataloader=train_dataloader,\n",
    "                            test_dataloader=val_dataloader, \n",
    "                            optimizer=optimizer,\n",
    "                            loss_fn=loss_fn,\n",
    "                            num_classes=num_classes,\n",
    "                            epochs=epochs,\n",
    "                            device=device,\n",
    "                            writer=create_writer(target_dir=target_dir,\n",
    "                                                 experiment_name=dataloader_name,\n",
    "                                                 model_name=model_name,\n",
    "                                                 extra=f\"{epochs}_epochs\"))\n",
    "            \n",
    "            # 10. Save the model to file so we can get back the best model\n",
    "            save_filepath = f\"01_{model_name}_{dataloader_name}_{epochs}_epochs.pth\"\n",
    "            save_model(model=model,\n",
    "                       target_dir=\"models\",\n",
    "                       model_name=save_filepath)\n",
    "            print(\"-\"*50 + \"\\n\")"
   ]
  },
  {
   "cell_type": "code",
   "execution_count": null,
   "id": "561d7de4",
   "metadata": {},
   "outputs": [],
   "source": []
  },
  {
   "cell_type": "code",
   "execution_count": 21,
   "id": "a80df99e",
   "metadata": {},
   "outputs": [
    {
     "data": {
      "image/png": "[encoded data removed]",
      "text/plain": [
       "<Figure size 2160x1440 with 2 Axes>"
      ]
     },
     "metadata": {
      "needs_background": "light"
     },
     "output_type": "display_data"
    }
   ],
   "source": [
    "visualization.display_random_images(train_dataset, \n",
    "                      n=2, \n",
    "                      classes=[0, 1, 2, 3, 4],\n",
    "                      seed=None)"
   ]
  },
  {
   "cell_type": "code",
   "execution_count": null,
   "id": "aab9e321",
   "metadata": {},
   "outputs": [],
   "source": []
  },
  {
   "cell_type": "code",
   "execution_count": 10,
   "id": "e3969556",
   "metadata": {},
   "outputs": [
    {
     "ename": "NameError",
     "evalue": "name 'transformations' is not defined",
     "output_type": "error",
     "traceback": [
      "\u001b[1;31m---------------------------------------------------------------------------\u001b[0m",
      "\u001b[1;31mNameError\u001b[0m                                 Traceback (most recent call last)",
      "Input \u001b[1;32mIn [10]\u001b[0m, in \u001b[0;36m<cell line: 1>\u001b[1;34m()\u001b[0m\n\u001b[1;32m----> 1\u001b[0m rois, params_rois \u001b[38;5;241m=\u001b[39m \u001b[43mexporter\u001b[49m\u001b[38;5;241;43m.\u001b[39;49m\u001b[43mexport_rois\u001b[49m\u001b[43m(\u001b[49m\n\u001b[0;32m      2\u001b[0m \u001b[43m    \u001b[49m\u001b[43mchannels\u001b[49m\u001b[38;5;241;43m=\u001b[39;49m\u001b[43mchannels\u001b[49m\u001b[43m,\u001b[49m\n\u001b[0;32m      3\u001b[0m \u001b[43m    \u001b[49m\u001b[43mparams_channels\u001b[49m\u001b[38;5;241;43m=\u001b[39;49m\u001b[43mparams_channels\u001b[49m\u001b[43m,\u001b[49m\n\u001b[0;32m      4\u001b[0m \u001b[43m    \u001b[49m\u001b[43mcrowns\u001b[49m\u001b[38;5;241;43m=\u001b[39;49m\u001b[43mcrowns_human\u001b[49m\u001b[43m,\u001b[49m\n\u001b[0;32m      5\u001b[0m \u001b[43m    \u001b[49m\u001b[43mparams_crowns\u001b[49m\u001b[38;5;241;43m=\u001b[39;49m\u001b[43mparams_crowns_human\u001b[49m\u001b[43m,\u001b[49m\n\u001b[0;32m      6\u001b[0m \u001b[43m    \u001b[49m\u001b[43mparams_export\u001b[49m\u001b[38;5;241;43m=\u001b[39;49m\u001b[43mparams_export\u001b[49m\u001b[43m,\u001b[49m\n\u001b[0;32m      7\u001b[0m \u001b[43m    \u001b[49m\u001b[43m)\u001b[49m\n",
      "File \u001b[1;32m~\\01_PyTorch\\wze-uav\\wze-uav-master\\findatree_roi\\exporter.py:51\u001b[0m, in \u001b[0;36mexport_rois\u001b[1;34m(channels, params_channels, crowns, params_crowns, params_export)\u001b[0m\n\u001b[0;32m     49\u001b[0m shape \u001b[38;5;241m=\u001b[39m params_channels[\u001b[38;5;124m'\u001b[39m\u001b[38;5;124mshape\u001b[39m\u001b[38;5;124m'\u001b[39m] \u001b[38;5;66;03m# to prepare multichannel image\u001b[39;00m\n\u001b[0;32m     50\u001b[0m affine \u001b[38;5;241m=\u001b[39m params_channels[\u001b[38;5;124m'\u001b[39m\u001b[38;5;124maffine\u001b[39m\u001b[38;5;124m'\u001b[39m] \u001b[38;5;66;03m# to transform from image to geo coordinates\u001b[39;00m\n\u001b[1;32m---> 51\u001b[0m affine \u001b[38;5;241m=\u001b[39m \u001b[43mtransformations\u001b[49m\u001b[38;5;241m.\u001b[39maffine_numpy_to_resterio(affine)\n\u001b[0;32m     53\u001b[0m \u001b[38;5;66;03m# Extract_parameters for export\u001b[39;00m\n\u001b[0;32m     54\u001b[0m channels_export \u001b[38;5;241m=\u001b[39m params_export[\u001b[38;5;124m'\u001b[39m\u001b[38;5;124mchannels_export\u001b[39m\u001b[38;5;124m'\u001b[39m] \u001b[38;5;66;03m# channel names\u001b[39;00m\n",
      "\u001b[1;31mNameError\u001b[0m: name 'transformations' is not defined"
     ]
    }
   ],
   "source": [
    "rois, params_rois = exporter.export_rois(\n",
    "    channels=channels,\n",
    "    params_channels=params_channels,\n",
    "    crowns=crowns_human,\n",
    "    params_crowns=params_crowns_human,\n",
    "    params_export=params_export,\n",
    "    )\n",
    "\n",
    "\n",
    "#exporter.rois_to_hdf5_v2(rois, params_rois, crowns, params_crowns, dir_name=r\"\")\n",
    "\n",
    "#data_list = os.listdir(test_labels_path)\n",
    "#data, params_data = io.load_hdf5(test_labels_path + \"\\\\\" + data_list[0])"
   ]
  },
  {
   "cell_type": "code",
   "execution_count": 63,
   "id": "303a3b78",
   "metadata": {},
   "outputs": [
    {
     "data": {
      "text/plain": [
       "{'channels': {'affine': array([[ 2.000000e-01,  0.000000e+00,  5.959600e+05],\n",
       "         [ 0.000000e+00, -2.000000e-01,  5.244788e+06],\n",
       "         [ 0.000000e+00,  0.000000e+00,  1.000000e+00]]),\n",
       "  'crs': 'EPSG:25832',\n",
       "  'date_time': '230302-144013',\n",
       "  'downscale': 0,\n",
       "  'max_ratio_blue': 0.0,\n",
       "  'max_ratio_green': 0.0,\n",
       "  'max_ratio_nir': 0.0,\n",
       "  'max_ratio_re': 0.0,\n",
       "  'max_ratio_red': 0.0,\n",
       "  'path_dsm': 'D:\\\\Drohnendaten\\\\10_WZE-UAV\\\\Auswertung_findatree\\\\2020\\\\WZE-UAV-2020_DSM\\\\Tnr_11_D-20200909_DSM_highRMSE.tif',\n",
       "  'path_dtm': 'D:\\\\Drohnendaten\\\\10_WZE-UAV\\\\Auswertung_findatree\\\\2020\\\\DTM_v2\\\\Tnr_11_D20200909_DTM.tif',\n",
       "  'path_ortho': 'D:\\\\Drohnendaten\\\\10_WZE-UAV\\\\Auswertung_findatree\\\\2020\\\\WZE-UAV-2020_Ortho\\\\Tnr_11_D-20200909_Ortho_highRMSE.tif',\n",
       "  'path_shapes': 'D:\\\\Drohnendaten\\\\10_WZE-UAV\\\\Auswertung_findatree\\\\2020\\\\Kronen\\\\Tnr_11_Kr.shp',\n",
       "  'px_width': 0.2,\n",
       "  'px_width_reproject': 0.2,\n",
       "  'shape': array([1624, 1617]),\n",
       "  'tnr': '11'},\n",
       " 'crowns_human': {'affine': array([[ 2.000000e-01,  0.000000e+00,  5.959600e+05],\n",
       "         [ 0.000000e+00, -2.000000e-01,  5.244788e+06],\n",
       "         [ 0.000000e+00,  0.000000e+00,  1.000000e+00]]),\n",
       "  'date_time_photometric': '230302-144017',\n",
       "  'date_time_polygons': '230302-144013',\n",
       "  'date_time_terrestrial': '230302-144013',\n",
       "  'features_photometric_dtypes': array(['uint16', 'float32', 'float32', 'float32', 'float32', 'float32',\n",
       "         'float32', 'float32', 'uint16', 'uint16', 'uint16', 'uint16',\n",
       "         'uint16', 'uint16', 'uint16', 'uint16', 'uint16', 'uint16',\n",
       "         'uint16', 'uint16', 'float32', 'float32', 'float32', 'float32',\n",
       "         'float32', 'float32', 'float32', 'float32', 'float32', 'float32',\n",
       "         'float32', 'float32', 'float32', 'float32', 'float32', 'float32',\n",
       "         'float32', 'float32', 'float32', 'float32', 'float32', 'float32',\n",
       "         'float32', 'float32', 'float32', 'float32', 'float32', 'float32',\n",
       "         'float32', 'float32', 'float32', 'float32', 'float32', 'float32',\n",
       "         'float32', 'float32', 'float32', 'float32', 'float32', 'float32',\n",
       "         'float32', 'float32', 'float32', 'float32', 'float32', 'float32',\n",
       "         'float32', 'float32', 'float32', 'float32', 'float32', 'float32',\n",
       "         'float32', 'float32', 'float32', 'float32', 'float32', 'float32',\n",
       "         'float32', 'float32', 'float32', 'float32', 'float32', 'float32',\n",
       "         'float32', 'float32', 'float32', 'float32', 'float32', 'float32',\n",
       "         'float32', 'float32', 'float32', 'float32', 'float32', 'float32',\n",
       "         'float32', 'float32', 'float32', 'float32', 'float32', 'float32',\n",
       "         'float32', 'float32', 'float32', 'float32', 'float32', 'float32',\n",
       "         'float32', 'float32', 'float32', 'float32', 'float32', 'float32',\n",
       "         'float32', 'float32', 'float32', 'float32', 'float32', 'float32'],\n",
       "        dtype=object),\n",
       "  'features_photometric_names': array(['id', 'perimeter', 'feret_diameter_max', 'eccentricity', 'extent',\n",
       "         'solidity', 'area', 'area_bright', 'x_mean', 'y_mean',\n",
       "         'x_min_bbox', 'x_max_bbox', 'y_min_bbox', 'y_max_bbox',\n",
       "         'x_max_chm', 'y_max_chm', 'x_min_bbox_bright', 'x_max_bbox_bright',\n",
       "         'y_min_bbox_bright', 'y_max_bbox_bright', 'perc5_chm',\n",
       "         'perc25_chm', 'perc50_chm', 'perc75_chm', 'perc95_chm',\n",
       "         'perc5_blue', 'perc25_blue', 'perc50_blue', 'perc75_blue',\n",
       "         'perc95_blue', 'perc5_green', 'perc25_green', 'perc50_green',\n",
       "         'perc75_green', 'perc95_green', 'perc5_red', 'perc25_red',\n",
       "         'perc50_red', 'perc75_red', 'perc95_red', 'perc5_re', 'perc25_re',\n",
       "         'perc50_re', 'perc75_re', 'perc95_re', 'perc5_nir', 'perc25_nir',\n",
       "         'perc50_nir', 'perc75_nir', 'perc95_nir', 'perc5_avg',\n",
       "         'perc25_avg', 'perc50_avg', 'perc75_avg', 'perc95_avg',\n",
       "         'perc5_nblue', 'perc25_nblue', 'perc50_nblue', 'perc75_nblue',\n",
       "         'perc95_nblue', 'perc5_ngreen', 'perc25_ngreen', 'perc50_ngreen',\n",
       "         'perc75_ngreen', 'perc95_ngreen', 'perc5_nred', 'perc25_nred',\n",
       "         'perc50_nred', 'perc75_nred', 'perc95_nred', 'perc5_nre',\n",
       "         'perc25_nre', 'perc50_nre', 'perc75_nre', 'perc95_nre',\n",
       "         'perc5_light', 'perc25_light', 'perc50_light', 'perc75_light',\n",
       "         'perc95_light', 'perc5_sat', 'perc25_sat', 'perc50_sat',\n",
       "         'perc75_sat', 'perc95_sat', 'perc5_hue', 'perc25_hue',\n",
       "         'perc50_hue', 'perc75_hue', 'perc95_hue', 'perc5_ndvi',\n",
       "         'perc25_ndvi', 'perc50_ndvi', 'perc75_ndvi', 'perc95_ndvi',\n",
       "         'perc5_ndvire', 'perc25_ndvire', 'perc50_ndvire', 'perc75_ndvire',\n",
       "         'perc95_ndvire', 'perc5_ndre', 'perc25_ndre', 'perc50_ndre',\n",
       "         'perc75_ndre', 'perc95_ndre', 'perc5_grvi', 'perc25_grvi',\n",
       "         'perc50_grvi', 'perc75_grvi', 'perc95_grvi', 'perc5_evi',\n",
       "         'perc25_evi', 'perc50_evi', 'perc75_evi', 'perc95_evi', 'decay1',\n",
       "         'decay2', 'decay4', 'decay8', 'decay16'], dtype=object),\n",
       "  'features_photometric_shadowmask_channel': 'avg',\n",
       "  'features_photometric_shadowmask_thresh_chm_lower': 5,\n",
       "  'features_photometric_shadowmask_thresh_chm_upper': 40,\n",
       "  'features_photometric_shadowmask_width': 101,\n",
       "  'features_terrestrial_dtypes': array(['uint16', 'int32', 'int32', 'int32', 'int32', 'int32', 'int32',\n",
       "         'int32', 'int32', 'int32', 'int32', 'int32', 'int32', 'int32',\n",
       "         'int32', 'int32', 'int32', 'int32', 'int32', 'int32', 'int32',\n",
       "         'int32', 'int32', 'int32', 'int32', 'int32', 'int32', 'int32',\n",
       "         'int32', 'int32', 'int32', 'int32', 'int32', 'int32', 'int32',\n",
       "         'int32', 'int32', 'int32', 'int32', 'int32', 'int32', 'int32',\n",
       "         'int32', 'int32', 'int32', 'int32', 'int32', 'int32', 'int32',\n",
       "         'int32', 'int32', 'int32', 'int32', 'float32', 'float32'],\n",
       "        dtype=object),\n",
       "  'features_terrestrial_names': array(['id', 'enr', 'sat', 'bnr', 'bk', 'ba', 'bhd_2019', 'bhd_2020',\n",
       "         'alter_2020', 'kkl', 'ek', 'kl', 'lbb', 'sst', 'nbv', 'gilb',\n",
       "         'frukt', 'schad', 'phyt', 'mi_gro', 'mi_mi', 'mi_kl', 'mi_gesamt',\n",
       "         'mistelstuf', 'jahr', 'raster_16_', 'ta_vd', 'el_vd', 'kie_mfr_',\n",
       "         'schw', 'obb', 'ndb', 'ufr', 'mfr', 'ofr', 'opf', 'wg_2', 'wg_3',\n",
       "         'wg_4', 'wg_5', 'wg_6', 'wg_7', 'wg_8', 'wg_9', 'wg_10', 'wg_11',\n",
       "         'wg_12', 'wg_13', 'wg_14', 'wg_15', 'by_nord', 'by_süd', 'bfhnr',\n",
       "         'shape_leng', 'shape_area'], dtype=object),\n",
       "  'number_crowns': 6,\n",
       "  'origin': 'human',\n",
       "  'path_shapes': 'D:\\\\Drohnendaten\\\\10_WZE-UAV\\\\Auswertung_findatree\\\\2020\\\\Kronen\\\\Tnr_11_Kr.shp',\n",
       "  'shape': array([1624, 1617]),\n",
       "  'tnr': '11'},\n",
       " 'io.load_hdf5()_info': ''}"
      ]
     },
     "execution_count": 63,
     "metadata": {},
     "output_type": "execute_result"
    }
   ],
   "source": [
    "params_data"
   ]
  },
  {
   "cell_type": "code",
   "execution_count": 17,
   "id": "9e7b5a82",
   "metadata": {},
   "outputs": [],
   "source": [
    "dataloader = DataLoader(test_dataset, batch_size=32)"
   ]
  },
  {
   "cell_type": "code",
   "execution_count": 36,
   "id": "65188a12",
   "metadata": {},
   "outputs": [
    {
     "name": "stdout",
     "output_type": "stream",
     "text": [
      "torch.Size([3, 300, 300])\n",
      "torch.Size([1])\n",
      "(5427, 300, 300, 3)\n",
      "torch.Size([5427, 1])\n",
      "5427\n",
      "170\n"
     ]
    }
   ],
   "source": [
    "image, label = dataset[0][0], dataset[0][1]\n",
    "print(image.shape)\n",
    "print(label.shape)\n",
    "print(dataset.data.shape)\n",
    "print(dataset.labels.shape)\n",
    "print(len(dataset))\n",
    "print(len(dataloader))\n",
    "#print(image)\n",
    "#print (label)"
   ]
  },
  {
   "cell_type": "code",
   "execution_count": 32,
   "id": "35886260",
   "metadata": {},
   "outputs": [
    {
     "data": {
      "text/plain": [
       "170"
      ]
     },
     "execution_count": 32,
     "metadata": {},
     "output_type": "execute_result"
    }
   ],
   "source": []
  },
  {
   "cell_type": "code",
   "execution_count": null,
   "id": "188cf9e4",
   "metadata": {},
   "outputs": [],
   "source": []
  },
  {
   "cell_type": "code",
   "execution_count": 290,
   "id": "9c0979f3",
   "metadata": {},
   "outputs": [],
   "source": [
    "\n"
   ]
  },
  {
   "cell_type": "code",
   "execution_count": 291,
   "id": "8beb50de",
   "metadata": {},
   "outputs": [],
   "source": [
    "\n",
    "    "
   ]
  },
  {
   "cell_type": "code",
   "execution_count": null,
   "id": "80722f33",
   "metadata": {},
   "outputs": [],
   "source": []
  },
  {
   "cell_type": "code",
   "execution_count": null,
   "id": "91cae3a5",
   "metadata": {},
   "outputs": [],
   "source": []
  },
  {
   "cell_type": "code",
   "execution_count": null,
   "id": "c02dd9e9",
   "metadata": {},
   "outputs": [],
   "source": []
  },
  {
   "cell_type": "code",
   "execution_count": null,
   "id": "ef3071f4",
   "metadata": {},
   "outputs": [],
   "source": []
  },
  {
   "cell_type": "code",
   "execution_count": null,
   "id": "322a6421",
   "metadata": {},
   "outputs": [],
   "source": []
  },
  {
   "cell_type": "code",
   "execution_count": null,
   "id": "de33cc73",
   "metadata": {},
   "outputs": [],
   "source": []
  }
 ],
 "metadata": {
  "kernelspec": {
   "display_name": "Python 3 (ipykernel)",
   "language": "python",
   "name": "python3"
  },
  "language_info": {
   "codemirror_mode": {
    "name": "ipython",
    "version": 3
   },
   "file_extension": ".py",
   "mimetype": "text/x-python",
   "name": "python",
   "nbconvert_exporter": "python",
   "pygments_lexer": "ipython3",
   "version": "3.9.16"
  }
 },
 "nbformat": 4,
 "nbformat_minor": 5
}
