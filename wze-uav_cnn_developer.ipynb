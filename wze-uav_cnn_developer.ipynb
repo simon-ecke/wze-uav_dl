{
 "cells": [
  {
   "cell_type": "markdown",
   "id": "903e0642",
   "metadata": {},
   "source": [
    "# WZE-UAV Image Classification using Deep Learning"
   ]
  },
  {
   "cell_type": "code",
   "execution_count": 1,
   "id": "2159aac5",
   "metadata": {},
   "outputs": [
    {
     "data": {
      "text/plain": [
       "[<matplotlib.lines.Line2D at 0x2032bdf8850>]"
      ]
     },
     "execution_count": 1,
     "metadata": {},
     "output_type": "execute_result"
    },
    {
     "data": {
      "image/png": "[encoded data removed]",
      "text/plain": [
       "<Figure size 432x288 with 1 Axes>"
      ]
     },
     "metadata": {
      "needs_background": "light"
     },
     "output_type": "display_data"
    }
   ],
   "source": [
    "import os\n",
    "import glob\n",
    "import matplotlib.pyplot as plt\n",
    "import rasterio\n",
    "import numpy as np\n",
    "import mlxtend\n",
    "from pathlib import Path\n",
    "from tqdm.auto import tqdm\n",
    "\n",
    "x = (1,3)\n",
    "y = (1,3)\n",
    "plt.plot(x,y)"
   ]
  },
  {
   "cell_type": "code",
   "execution_count": 2,
   "id": "0026f7a9",
   "metadata": {},
   "outputs": [],
   "source": [
    "import torch\n",
    "import torchvision.transforms as T\n",
    "import torchvision\n",
    "from torch import nn\n",
    "from torch.utils.data import DataLoader\n",
    "from torchinfo import summary\n",
    "from torchvision import datasets, transforms\n",
    "from torch.utils.data import Dataset\n",
    "from torchinfo import summary\n",
    "import h5py"
   ]
  },
  {
   "cell_type": "code",
   "execution_count": 3,
   "id": "b160d7b4",
   "metadata": {},
   "outputs": [],
   "source": [
    "import wze_uav.data_loader as data_loader"
   ]
  },
  {
   "cell_type": "markdown",
   "id": "84396ab3",
   "metadata": {},
   "source": [
    "#### Get PyTorch version"
   ]
  },
  {
   "cell_type": "code",
   "execution_count": 4,
   "id": "c10886b1",
   "metadata": {},
   "outputs": [
    {
     "name": "stdout",
     "output_type": "stream",
     "text": [
      "torch version: 1.13.1+cu116\n",
      "torchvision version: 0.14.1+cu116\n"
     ]
    }
   ],
   "source": [
    "print(f\"torch version: {torch.__version__}\")\n",
    "print(f\"torchvision version: {torchvision.__version__}\")"
   ]
  },
  {
   "cell_type": "markdown",
   "id": "4db174c6",
   "metadata": {},
   "source": [
    "#### Preparing device agnostic code "
   ]
  },
  {
   "cell_type": "code",
   "execution_count": 91,
   "id": "13d5de88",
   "metadata": {},
   "outputs": [
    {
     "name": "stdout",
     "output_type": "stream",
     "text": [
      "cuda\n",
      "Index of current divice: 0\n",
      "Number of GPUs available: 1\n",
      "GPU Model: Quadro RTX 8000\n"
     ]
    }
   ],
   "source": [
    "# ensure device agnostic code\n",
    "device = 'cuda' if torch.cuda.is_available() else 'cpu'\n",
    "print(device)\n",
    "\n",
    "# get index of currently selected device\n",
    "print(f\"Index of current divice: {torch.cuda.current_device()}\")\n",
    "# get number of GPUs available\n",
    "print(f\"Number of GPUs available: {torch.cuda.device_count()}\")\n",
    "# get the name of the device\n",
    "print(f\"GPU Model: {torch.cuda.get_device_name(0)}\")"
   ]
  },
  {
   "cell_type": "markdown",
   "id": "4784e3b4",
   "metadata": {},
   "source": [
    "#### Ensure reproducibility "
   ]
  },
  {
   "cell_type": "code",
   "execution_count": 6,
   "id": "dd4656a7",
   "metadata": {},
   "outputs": [],
   "source": [
    "# for more information, see also: https://pytorch.org/docs/stable/notes/randomness.html\n",
    "\n",
    "# Set seeds\n",
    "def set_seeds(seed: int=0):\n",
    "    \"\"\"Sets random sets for torch operations.\n",
    "\n",
    "    Args:\n",
    "        seed (int, optional): Random seed to set. Defaults to 42.\n",
    "    \"\"\"\n",
    "    # Set the seed for general torch operations\n",
    "    torch.manual_seed(seed)\n",
    "    # Set the seed for CUDA torch operations (ones that happen on the GPU)\n",
    "    torch.cuda.manual_seed(seed)\n",
    "\n",
    "# seed for numpy\n",
    "np.random.seed(0)\n",
    "# avoiding non-deterministic algorithms\n",
    "#torch.use_deterministic_algorithms(True)\n",
    "# Set to true -> might speed up the process but should be set to False if reproducible results are desired\n",
    "torch.backends.cudnn.benchmark = True\n"
   ]
  },
  {
   "cell_type": "markdown",
   "id": "c4cfa725",
   "metadata": {},
   "source": [
    "#### Define file directories"
   ]
  },
  {
   "cell_type": "code",
   "execution_count": 85,
   "id": "30645f36",
   "metadata": {},
   "outputs": [],
   "source": [
    "set_seeds() # ensure reproducibility\n",
    "\n",
    "train_data_path = r\"D:\\Drohnendaten\\10_WZE-UAV\\Auswertung_findatree\\2020\\ROI\\rgb\\train\"\n",
    "val_data_path = r\"D:\\Drohnendaten\\10_WZE-UAV\\Auswertung_findatree\\2020\\ROI\\rgb\\val\"\n",
    "test_data_path = r\"D:\\Drohnendaten\\10_WZE-UAV\\Auswertung_findatree\\2020\\ROI\\rgb\\test\"\n",
    "\n"
   ]
  },
  {
   "cell_type": "code",
   "execution_count": 86,
   "id": "a1b72aed",
   "metadata": {},
   "outputs": [],
   "source": [
    "# load all image and feature arrays from hdf5\n",
    "\n",
    "train_image_set, train_label_set, train_species_set = data_loader.hdf5_to_img_label(train_data_path, load_sets = [\"images_masked\"])\n",
    "val_image_set, val_label_set, val_species_set = data_loader.hdf5_to_img_label(val_data_path, load_sets = [\"images_masked\"])\n",
    "test_image_set, test_label_set, test_species_set = data_loader.hdf5_to_img_label(test_data_path, load_sets = [\"images_masked\"])"
   ]
  },
  {
   "cell_type": "code",
   "execution_count": 12,
   "id": "d8694d5f",
   "metadata": {},
   "outputs": [
    {
     "name": "stdout",
     "output_type": "stream",
     "text": [
      "(758, 250, 250, 3)\n",
      "(758, 1)\n"
     ]
    }
   ],
   "source": [
    "print(test_image_set.shape)\n",
    "print(test_label_set.shape)"
   ]
  },
  {
   "cell_type": "code",
   "execution_count": 88,
   "id": "93fd9497",
   "metadata": {},
   "outputs": [],
   "source": [
    "transform = transforms.Compose([transforms.ToTensor(),\n",
    "                                #transforms.Resize(64)\n",
    "                               ])\n",
    "\n",
    "class_idx = {'healthy':[0, 1],'stressed':[2, 3], 'dead':[4]}\n",
    "class_names = ['healthy', 'stressed', 'dead']\n",
    "\n",
    "train_dataset = data_loader.CustomDataset(\n",
    "    data = train_image_set,\n",
    "    labels = train_label_set,\n",
    "    class_names=class_names,\n",
    "    class_idx=class_idx, \n",
    "    species = train_species_set,\n",
    "    transform=transform)\n",
    "\n",
    "val_dataset = data_loader.CustomDataset(\n",
    "    data = val_image_set,\n",
    "    labels = val_label_set,\n",
    "    class_names=class_names,\n",
    "    class_idx=class_idx, \n",
    "    species = val_species_set,\n",
    "    transform=transform)\n",
    "\n",
    "test_dataset = data_loader.CustomDataset(\n",
    "    data = test_image_set,\n",
    "    labels = test_label_set,\n",
    "    class_names=class_names,\n",
    "    class_idx=class_idx, \n",
    "    species = test_species_set,\n",
    "    transform=transform)\n",
    "\n"
   ]
  },
  {
   "cell_type": "code",
   "execution_count": 89,
   "id": "eceb72ee",
   "metadata": {},
   "outputs": [
    {
     "name": "stdout",
     "output_type": "stream",
     "text": [
      "5427 678 758\n",
      "torch.Size([3, 250, 250])\n",
      "torch.Size([1])\n"
     ]
    },
    {
     "data": {
      "text/plain": [
       "tensor([134], dtype=torch.int32)"
      ]
     },
     "execution_count": 89,
     "metadata": {},
     "output_type": "execute_result"
    }
   ],
   "source": [
    "print(len(train_dataset), len(val_dataset), len(test_dataset))\n",
    "print(test_dataset[0][0].shape)\n",
    "print(test_dataset[0][1].shape)\n",
    "test_dataset.species[0]"
   ]
  },
  {
   "cell_type": "code",
   "execution_count": 82,
   "id": "04d02002",
   "metadata": {},
   "outputs": [],
   "source": [
    "# 1. Take in a Dataset as well as a list of class names\n",
    "from typing import Dict, List, Tuple\n",
    "import random\n",
    "\n",
    "def display_random_images(dataset: torch.utils.data.dataset.Dataset,\n",
    "                          classes: List[int] = None,\n",
    "                          n: int = 10,\n",
    "                          display_shape: bool = True,\n",
    "                          seed: int = None):\n",
    "    \n",
    "    # 2. Adjust display if n too high\n",
    "    if n > 10:\n",
    "        n = 10\n",
    "        display_shape = False\n",
    "        print(f\"For display purposes, n shouldn't be larger than 10, setting to 10 and removing shape display.\")\n",
    "    \n",
    "    # 3. Set random seed\n",
    "    if seed:\n",
    "        random.seed(seed)\n",
    "\n",
    "    # 4. Get random sample indexes\n",
    "    random_samples_idx = random.sample(range(len(dataset)), k=n)\n",
    "\n",
    "    # 5. Setup plot\n",
    "    plt.figure(figsize=(30, 20))\n",
    "\n",
    "    # 6. Loop through samples and display random samples \n",
    "    for i, targ_sample in enumerate(random_samples_idx):\n",
    "        targ_image, targ_label, targ_species = dataset[targ_sample][0], dataset[targ_sample][1], dataset.species[targ_sample]\n",
    "\n",
    "        # 7. Adjust image tensor shape for plotting: [color_channels, height, width] -> [color_channels, height, width]\n",
    "        targ_image_adjust = targ_image.permute(2, 1, 0)\n",
    "\n",
    "        # Plot adjusted samples\n",
    "        plt.subplot(1, n, i+1)\n",
    "        plt.imshow(targ_image_adjust)\n",
    "        plt.axis(\"off\")\n",
    "        if classes:\n",
    "            title = f\"class: {classes[targ_label]} | {targ_label}\"\n",
    "            if display_shape:\n",
    "                title = title + f\"\\nshape: {targ_species}\"\n",
    "                title = title + f\"\\nshape: {targ_image_adjust.shape}\"\n",
    "        plt.title(title)\n",
    "\n",
    "#print(test_image_set[0,:,:,:].dtype)\n",
    "#print(test_dataset[0][0].dtype)\n",
    "#print(test_dataset[0][1].dtype)"
   ]
  },
  {
   "cell_type": "code",
   "execution_count": 90,
   "id": "b4725ee4",
   "metadata": {},
   "outputs": [
    {
     "data": {
      "image/png": "[encoded data removed]",
      "text/plain": [
       "<Figure size 2160x1440 with 2 Axes>"
      ]
     },
     "metadata": {
      "needs_background": "light"
     },
     "output_type": "display_data"
    }
   ],
   "source": [
    "display_random_images(test_dataset, \n",
    "                      n=2, \n",
    "                      classes=[0, 1, 2, 3, 4],\n",
    "                      seed=None)"
   ]
  },
  {
   "cell_type": "code",
   "execution_count": 57,
   "id": "cce02e94",
   "metadata": {},
   "outputs": [
    {
     "ename": "FileNotFoundError",
     "evalue": "[Errno 2] Unable to open file (unable to open file: name = 'D:\\Drohnendaten\\10_WZE-UAV\\Auswertung_findatree\\2020\\hdf5\\tnr6969.hdf5', errno = 2, error message = 'No such file or directory', flags = 0, o_flags = 0)",
     "output_type": "error",
     "traceback": [
      "\u001b[1;31m---------------------------------------------------------------------------\u001b[0m",
      "\u001b[1;31mFileNotFoundError\u001b[0m                         Traceback (most recent call last)",
      "Input \u001b[1;32mIn [57]\u001b[0m, in \u001b[0;36m<cell line: 7>\u001b[1;34m()\u001b[0m\n\u001b[0;32m      4\u001b[0m old_hdf5 \u001b[38;5;241m=\u001b[39m \u001b[38;5;124mr\u001b[39m\u001b[38;5;124m\"\u001b[39m\u001b[38;5;124m\"\u001b[39m\n\u001b[0;32m      5\u001b[0m test_data_path \u001b[38;5;241m=\u001b[39m \u001b[38;5;124mr\u001b[39m\u001b[38;5;124m\"\u001b[39m\u001b[38;5;124m\"\u001b[39m\n\u001b[1;32m----> 7\u001b[0m data, params_data \u001b[38;5;241m=\u001b[39m \u001b[43mio\u001b[49m\u001b[38;5;241;43m.\u001b[39;49m\u001b[43mload_hdf5\u001b[49m\u001b[43m(\u001b[49m\u001b[38;5;124;43mr\u001b[39;49m\u001b[38;5;124;43m'\u001b[39;49m\u001b[38;5;124;43mD:\u001b[39;49m\u001b[38;5;124;43m\\\u001b[39;49m\u001b[38;5;124;43mDrohnendaten\u001b[39;49m\u001b[38;5;124;43m\\\u001b[39;49m\u001b[38;5;124;43m10_WZE-UAV\u001b[39;49m\u001b[38;5;124;43m\\\u001b[39;49m\u001b[38;5;124;43mAuswertung_findatree\u001b[39;49m\u001b[38;5;124;43m\\\u001b[39;49m\u001b[38;5;124;43m2020\u001b[39;49m\u001b[38;5;124;43m\\\u001b[39;49m\u001b[38;5;124;43mhdf5\u001b[39;49m\u001b[38;5;124;43m\\\u001b[39;49m\u001b[38;5;124;43mtnr6969.hdf5\u001b[39;49m\u001b[38;5;124;43m'\u001b[39;49m\u001b[43m)\u001b[49m\n\u001b[0;32m      8\u001b[0m channels, params_channels \u001b[38;5;241m=\u001b[39m data[\u001b[38;5;124m'\u001b[39m\u001b[38;5;124mchannels\u001b[39m\u001b[38;5;124m'\u001b[39m], params_data[\u001b[38;5;124m'\u001b[39m\u001b[38;5;124mchannels\u001b[39m\u001b[38;5;124m'\u001b[39m]\n\u001b[0;32m      9\u001b[0m crowns_human, params_crowns_human \u001b[38;5;241m=\u001b[39m data[\u001b[38;5;124m'\u001b[39m\u001b[38;5;124mcrowns_human\u001b[39m\u001b[38;5;124m'\u001b[39m], params_data[\u001b[38;5;124m'\u001b[39m\u001b[38;5;124mcrowns_human\u001b[39m\u001b[38;5;124m'\u001b[39m]\n",
      "File \u001b[1;32m~\\01_PyTorch\\wze-uav\\wze-uav-master\\findatree_roi\\io.py:472\u001b[0m, in \u001b[0;36mload_hdf5\u001b[1;34m(path, groups, features_only)\u001b[0m\n\u001b[0;32m    469\u001b[0m params_data \u001b[38;5;241m=\u001b[39m {}\n\u001b[0;32m    470\u001b[0m info \u001b[38;5;241m=\u001b[39m \u001b[38;5;124m'\u001b[39m\u001b[38;5;124m'\u001b[39m\n\u001b[1;32m--> 472\u001b[0m \u001b[38;5;28;01mwith\u001b[39;00m \u001b[43mh5py\u001b[49m\u001b[38;5;241;43m.\u001b[39;49m\u001b[43mFile\u001b[49m\u001b[43m(\u001b[49m\u001b[43mpath\u001b[49m\u001b[43m,\u001b[49m\u001b[43m \u001b[49m\u001b[38;5;124;43m'\u001b[39;49m\u001b[38;5;124;43mr\u001b[39;49m\u001b[38;5;124;43m'\u001b[39;49m\u001b[43m)\u001b[49m \u001b[38;5;28;01mas\u001b[39;00m f:\n\u001b[0;32m    474\u001b[0m     \u001b[38;5;28;01mfor\u001b[39;00m group \u001b[38;5;129;01min\u001b[39;00m groups:\n\u001b[0;32m    475\u001b[0m \n\u001b[0;32m    476\u001b[0m         \u001b[38;5;66;03m################################ Channels\u001b[39;00m\n\u001b[0;32m    477\u001b[0m         \u001b[38;5;28;01mif\u001b[39;00m group \u001b[38;5;241m==\u001b[39m \u001b[38;5;124m'\u001b[39m\u001b[38;5;124mchannels\u001b[39m\u001b[38;5;124m'\u001b[39m:\n",
      "File \u001b[1;32m~\\Ecke_conda\\envs\\PyTorch_v9\\lib\\site-packages\\h5py\\_hl\\files.py:533\u001b[0m, in \u001b[0;36mFile.__init__\u001b[1;34m(self, name, mode, driver, libver, userblock_size, swmr, rdcc_nslots, rdcc_nbytes, rdcc_w0, track_order, fs_strategy, fs_persist, fs_threshold, fs_page_size, page_buf_size, min_meta_keep, min_raw_keep, locking, alignment_threshold, alignment_interval, **kwds)\u001b[0m\n\u001b[0;32m    525\u001b[0m     fapl \u001b[38;5;241m=\u001b[39m make_fapl(driver, libver, rdcc_nslots, rdcc_nbytes, rdcc_w0,\n\u001b[0;32m    526\u001b[0m                      locking, page_buf_size, min_meta_keep, min_raw_keep,\n\u001b[0;32m    527\u001b[0m                      alignment_threshold\u001b[38;5;241m=\u001b[39malignment_threshold,\n\u001b[0;32m    528\u001b[0m                      alignment_interval\u001b[38;5;241m=\u001b[39malignment_interval,\n\u001b[0;32m    529\u001b[0m                      \u001b[38;5;241m*\u001b[39m\u001b[38;5;241m*\u001b[39mkwds)\n\u001b[0;32m    530\u001b[0m     fcpl \u001b[38;5;241m=\u001b[39m make_fcpl(track_order\u001b[38;5;241m=\u001b[39mtrack_order, fs_strategy\u001b[38;5;241m=\u001b[39mfs_strategy,\n\u001b[0;32m    531\u001b[0m                      fs_persist\u001b[38;5;241m=\u001b[39mfs_persist, fs_threshold\u001b[38;5;241m=\u001b[39mfs_threshold,\n\u001b[0;32m    532\u001b[0m                      fs_page_size\u001b[38;5;241m=\u001b[39mfs_page_size)\n\u001b[1;32m--> 533\u001b[0m     fid \u001b[38;5;241m=\u001b[39m \u001b[43mmake_fid\u001b[49m\u001b[43m(\u001b[49m\u001b[43mname\u001b[49m\u001b[43m,\u001b[49m\u001b[43m \u001b[49m\u001b[43mmode\u001b[49m\u001b[43m,\u001b[49m\u001b[43m \u001b[49m\u001b[43muserblock_size\u001b[49m\u001b[43m,\u001b[49m\u001b[43m \u001b[49m\u001b[43mfapl\u001b[49m\u001b[43m,\u001b[49m\u001b[43m \u001b[49m\u001b[43mfcpl\u001b[49m\u001b[43m,\u001b[49m\u001b[43m \u001b[49m\u001b[43mswmr\u001b[49m\u001b[38;5;241;43m=\u001b[39;49m\u001b[43mswmr\u001b[49m\u001b[43m)\u001b[49m\n\u001b[0;32m    535\u001b[0m \u001b[38;5;28;01mif\u001b[39;00m \u001b[38;5;28misinstance\u001b[39m(libver, \u001b[38;5;28mtuple\u001b[39m):\n\u001b[0;32m    536\u001b[0m     \u001b[38;5;28mself\u001b[39m\u001b[38;5;241m.\u001b[39m_libver \u001b[38;5;241m=\u001b[39m libver\n",
      "File \u001b[1;32m~\\Ecke_conda\\envs\\PyTorch_v9\\lib\\site-packages\\h5py\\_hl\\files.py:226\u001b[0m, in \u001b[0;36mmake_fid\u001b[1;34m(name, mode, userblock_size, fapl, fcpl, swmr)\u001b[0m\n\u001b[0;32m    224\u001b[0m     \u001b[38;5;28;01mif\u001b[39;00m swmr \u001b[38;5;129;01mand\u001b[39;00m swmr_support:\n\u001b[0;32m    225\u001b[0m         flags \u001b[38;5;241m|\u001b[39m\u001b[38;5;241m=\u001b[39m h5f\u001b[38;5;241m.\u001b[39mACC_SWMR_READ\n\u001b[1;32m--> 226\u001b[0m     fid \u001b[38;5;241m=\u001b[39m \u001b[43mh5f\u001b[49m\u001b[38;5;241;43m.\u001b[39;49m\u001b[43mopen\u001b[49m\u001b[43m(\u001b[49m\u001b[43mname\u001b[49m\u001b[43m,\u001b[49m\u001b[43m \u001b[49m\u001b[43mflags\u001b[49m\u001b[43m,\u001b[49m\u001b[43m \u001b[49m\u001b[43mfapl\u001b[49m\u001b[38;5;241;43m=\u001b[39;49m\u001b[43mfapl\u001b[49m\u001b[43m)\u001b[49m\n\u001b[0;32m    227\u001b[0m \u001b[38;5;28;01melif\u001b[39;00m mode \u001b[38;5;241m==\u001b[39m \u001b[38;5;124m'\u001b[39m\u001b[38;5;124mr+\u001b[39m\u001b[38;5;124m'\u001b[39m:\n\u001b[0;32m    228\u001b[0m     fid \u001b[38;5;241m=\u001b[39m h5f\u001b[38;5;241m.\u001b[39mopen(name, h5f\u001b[38;5;241m.\u001b[39mACC_RDWR, fapl\u001b[38;5;241m=\u001b[39mfapl)\n",
      "File \u001b[1;32mh5py\\_objects.pyx:54\u001b[0m, in \u001b[0;36mh5py._objects.with_phil.wrapper\u001b[1;34m()\u001b[0m\n",
      "File \u001b[1;32mh5py\\_objects.pyx:55\u001b[0m, in \u001b[0;36mh5py._objects.with_phil.wrapper\u001b[1;34m()\u001b[0m\n",
      "File \u001b[1;32mh5py\\h5f.pyx:106\u001b[0m, in \u001b[0;36mh5py.h5f.open\u001b[1;34m()\u001b[0m\n",
      "\u001b[1;31mFileNotFoundError\u001b[0m: [Errno 2] Unable to open file (unable to open file: name = 'D:\\Drohnendaten\\10_WZE-UAV\\Auswertung_findatree\\2020\\hdf5\\tnr6969.hdf5', errno = 2, error message = 'No such file or directory', flags = 0, o_flags = 0)"
     ]
    }
   ],
   "source": [
    "import findatree_roi.exporter as exporter\n",
    "import findatree_roi.io as io\n",
    "\n",
    "old_hdf5 = r\"\"\n",
    "test_data_path = r\"\"\n",
    "\n",
    "data, params_data = io.load_hdf5(r'D:\\Drohnendaten\\10_WZE-UAV\\Auswertung_findatree\\2020\\hdf5\\tnr6969.hdf5')\n",
    "channels, params_channels = data['channels'], params_data['channels']\n",
    "crowns_human, params_crowns_human = data['crowns_human'], params_data['crowns_human']\n",
    "\n",
    "params_export = {\n",
    "    'channels_export': ['red','green','blue'],\n",
    "    #'channels_export': ['blue','green','red','re','nir','chm'],\n",
    "    'query_export': 'id > -1',\n",
    "    'size_export': 300,\n",
    "    }\n"
   ]
  },
  {
   "cell_type": "code",
   "execution_count": 10,
   "id": "cc249762",
   "metadata": {},
   "outputs": [
    {
     "ename": "NameError",
     "evalue": "name 'transformations' is not defined",
     "output_type": "error",
     "traceback": [
      "\u001b[1;31m---------------------------------------------------------------------------\u001b[0m",
      "\u001b[1;31mNameError\u001b[0m                                 Traceback (most recent call last)",
      "Input \u001b[1;32mIn [10]\u001b[0m, in \u001b[0;36m<cell line: 1>\u001b[1;34m()\u001b[0m\n\u001b[1;32m----> 1\u001b[0m rois, params_rois \u001b[38;5;241m=\u001b[39m \u001b[43mexporter\u001b[49m\u001b[38;5;241;43m.\u001b[39;49m\u001b[43mexport_rois\u001b[49m\u001b[43m(\u001b[49m\n\u001b[0;32m      2\u001b[0m \u001b[43m    \u001b[49m\u001b[43mchannels\u001b[49m\u001b[38;5;241;43m=\u001b[39;49m\u001b[43mchannels\u001b[49m\u001b[43m,\u001b[49m\n\u001b[0;32m      3\u001b[0m \u001b[43m    \u001b[49m\u001b[43mparams_channels\u001b[49m\u001b[38;5;241;43m=\u001b[39;49m\u001b[43mparams_channels\u001b[49m\u001b[43m,\u001b[49m\n\u001b[0;32m      4\u001b[0m \u001b[43m    \u001b[49m\u001b[43mcrowns\u001b[49m\u001b[38;5;241;43m=\u001b[39;49m\u001b[43mcrowns_human\u001b[49m\u001b[43m,\u001b[49m\n\u001b[0;32m      5\u001b[0m \u001b[43m    \u001b[49m\u001b[43mparams_crowns\u001b[49m\u001b[38;5;241;43m=\u001b[39;49m\u001b[43mparams_crowns_human\u001b[49m\u001b[43m,\u001b[49m\n\u001b[0;32m      6\u001b[0m \u001b[43m    \u001b[49m\u001b[43mparams_export\u001b[49m\u001b[38;5;241;43m=\u001b[39;49m\u001b[43mparams_export\u001b[49m\u001b[43m,\u001b[49m\n\u001b[0;32m      7\u001b[0m \u001b[43m    \u001b[49m\u001b[43m)\u001b[49m\n",
      "File \u001b[1;32m~\\01_PyTorch\\wze-uav\\wze-uav-master\\findatree_roi\\exporter.py:51\u001b[0m, in \u001b[0;36mexport_rois\u001b[1;34m(channels, params_channels, crowns, params_crowns, params_export)\u001b[0m\n\u001b[0;32m     49\u001b[0m shape \u001b[38;5;241m=\u001b[39m params_channels[\u001b[38;5;124m'\u001b[39m\u001b[38;5;124mshape\u001b[39m\u001b[38;5;124m'\u001b[39m] \u001b[38;5;66;03m# to prepare multichannel image\u001b[39;00m\n\u001b[0;32m     50\u001b[0m affine \u001b[38;5;241m=\u001b[39m params_channels[\u001b[38;5;124m'\u001b[39m\u001b[38;5;124maffine\u001b[39m\u001b[38;5;124m'\u001b[39m] \u001b[38;5;66;03m# to transform from image to geo coordinates\u001b[39;00m\n\u001b[1;32m---> 51\u001b[0m affine \u001b[38;5;241m=\u001b[39m \u001b[43mtransformations\u001b[49m\u001b[38;5;241m.\u001b[39maffine_numpy_to_resterio(affine)\n\u001b[0;32m     53\u001b[0m \u001b[38;5;66;03m# Extract_parameters for export\u001b[39;00m\n\u001b[0;32m     54\u001b[0m channels_export \u001b[38;5;241m=\u001b[39m params_export[\u001b[38;5;124m'\u001b[39m\u001b[38;5;124mchannels_export\u001b[39m\u001b[38;5;124m'\u001b[39m] \u001b[38;5;66;03m# channel names\u001b[39;00m\n",
      "\u001b[1;31mNameError\u001b[0m: name 'transformations' is not defined"
     ]
    }
   ],
   "source": [
    "rois, params_rois = exporter.export_rois(\n",
    "    channels=channels,\n",
    "    params_channels=params_channels,\n",
    "    crowns=crowns_human,\n",
    "    params_crowns=params_crowns_human,\n",
    "    params_export=params_export,\n",
    "    )\n",
    "\n",
    "\n",
    "#exporter.rois_to_hdf5_v2(rois, params_rois, crowns, params_crowns, dir_name=r\"\")\n",
    "\n",
    "#data_list = os.listdir(test_labels_path)\n",
    "#data, params_data = io.load_hdf5(test_labels_path + \"\\\\\" + data_list[0])"
   ]
  },
  {
   "cell_type": "code",
   "execution_count": 63,
   "id": "dee0ca78",
   "metadata": {},
   "outputs": [
    {
     "data": {
      "text/plain": [
       "{'channels': {'affine': array([[ 2.000000e-01,  0.000000e+00,  5.959600e+05],\n",
       "         [ 0.000000e+00, -2.000000e-01,  5.244788e+06],\n",
       "         [ 0.000000e+00,  0.000000e+00,  1.000000e+00]]),\n",
       "  'crs': 'EPSG:25832',\n",
       "  'date_time': '230302-144013',\n",
       "  'downscale': 0,\n",
       "  'max_ratio_blue': 0.0,\n",
       "  'max_ratio_green': 0.0,\n",
       "  'max_ratio_nir': 0.0,\n",
       "  'max_ratio_re': 0.0,\n",
       "  'max_ratio_red': 0.0,\n",
       "  'path_dsm': 'D:\\\\Drohnendaten\\\\10_WZE-UAV\\\\Auswertung_findatree\\\\2020\\\\WZE-UAV-2020_DSM\\\\Tnr_11_D-20200909_DSM_highRMSE.tif',\n",
       "  'path_dtm': 'D:\\\\Drohnendaten\\\\10_WZE-UAV\\\\Auswertung_findatree\\\\2020\\\\DTM_v2\\\\Tnr_11_D20200909_DTM.tif',\n",
       "  'path_ortho': 'D:\\\\Drohnendaten\\\\10_WZE-UAV\\\\Auswertung_findatree\\\\2020\\\\WZE-UAV-2020_Ortho\\\\Tnr_11_D-20200909_Ortho_highRMSE.tif',\n",
       "  'path_shapes': 'D:\\\\Drohnendaten\\\\10_WZE-UAV\\\\Auswertung_findatree\\\\2020\\\\Kronen\\\\Tnr_11_Kr.shp',\n",
       "  'px_width': 0.2,\n",
       "  'px_width_reproject': 0.2,\n",
       "  'shape': array([1624, 1617]),\n",
       "  'tnr': '11'},\n",
       " 'crowns_human': {'affine': array([[ 2.000000e-01,  0.000000e+00,  5.959600e+05],\n",
       "         [ 0.000000e+00, -2.000000e-01,  5.244788e+06],\n",
       "         [ 0.000000e+00,  0.000000e+00,  1.000000e+00]]),\n",
       "  'date_time_photometric': '230302-144017',\n",
       "  'date_time_polygons': '230302-144013',\n",
       "  'date_time_terrestrial': '230302-144013',\n",
       "  'features_photometric_dtypes': array(['uint16', 'float32', 'float32', 'float32', 'float32', 'float32',\n",
       "         'float32', 'float32', 'uint16', 'uint16', 'uint16', 'uint16',\n",
       "         'uint16', 'uint16', 'uint16', 'uint16', 'uint16', 'uint16',\n",
       "         'uint16', 'uint16', 'float32', 'float32', 'float32', 'float32',\n",
       "         'float32', 'float32', 'float32', 'float32', 'float32', 'float32',\n",
       "         'float32', 'float32', 'float32', 'float32', 'float32', 'float32',\n",
       "         'float32', 'float32', 'float32', 'float32', 'float32', 'float32',\n",
       "         'float32', 'float32', 'float32', 'float32', 'float32', 'float32',\n",
       "         'float32', 'float32', 'float32', 'float32', 'float32', 'float32',\n",
       "         'float32', 'float32', 'float32', 'float32', 'float32', 'float32',\n",
       "         'float32', 'float32', 'float32', 'float32', 'float32', 'float32',\n",
       "         'float32', 'float32', 'float32', 'float32', 'float32', 'float32',\n",
       "         'float32', 'float32', 'float32', 'float32', 'float32', 'float32',\n",
       "         'float32', 'float32', 'float32', 'float32', 'float32', 'float32',\n",
       "         'float32', 'float32', 'float32', 'float32', 'float32', 'float32',\n",
       "         'float32', 'float32', 'float32', 'float32', 'float32', 'float32',\n",
       "         'float32', 'float32', 'float32', 'float32', 'float32', 'float32',\n",
       "         'float32', 'float32', 'float32', 'float32', 'float32', 'float32',\n",
       "         'float32', 'float32', 'float32', 'float32', 'float32', 'float32',\n",
       "         'float32', 'float32', 'float32', 'float32', 'float32', 'float32'],\n",
       "        dtype=object),\n",
       "  'features_photometric_names': array(['id', 'perimeter', 'feret_diameter_max', 'eccentricity', 'extent',\n",
       "         'solidity', 'area', 'area_bright', 'x_mean', 'y_mean',\n",
       "         'x_min_bbox', 'x_max_bbox', 'y_min_bbox', 'y_max_bbox',\n",
       "         'x_max_chm', 'y_max_chm', 'x_min_bbox_bright', 'x_max_bbox_bright',\n",
       "         'y_min_bbox_bright', 'y_max_bbox_bright', 'perc5_chm',\n",
       "         'perc25_chm', 'perc50_chm', 'perc75_chm', 'perc95_chm',\n",
       "         'perc5_blue', 'perc25_blue', 'perc50_blue', 'perc75_blue',\n",
       "         'perc95_blue', 'perc5_green', 'perc25_green', 'perc50_green',\n",
       "         'perc75_green', 'perc95_green', 'perc5_red', 'perc25_red',\n",
       "         'perc50_red', 'perc75_red', 'perc95_red', 'perc5_re', 'perc25_re',\n",
       "         'perc50_re', 'perc75_re', 'perc95_re', 'perc5_nir', 'perc25_nir',\n",
       "         'perc50_nir', 'perc75_nir', 'perc95_nir', 'perc5_avg',\n",
       "         'perc25_avg', 'perc50_avg', 'perc75_avg', 'perc95_avg',\n",
       "         'perc5_nblue', 'perc25_nblue', 'perc50_nblue', 'perc75_nblue',\n",
       "         'perc95_nblue', 'perc5_ngreen', 'perc25_ngreen', 'perc50_ngreen',\n",
       "         'perc75_ngreen', 'perc95_ngreen', 'perc5_nred', 'perc25_nred',\n",
       "         'perc50_nred', 'perc75_nred', 'perc95_nred', 'perc5_nre',\n",
       "         'perc25_nre', 'perc50_nre', 'perc75_nre', 'perc95_nre',\n",
       "         'perc5_light', 'perc25_light', 'perc50_light', 'perc75_light',\n",
       "         'perc95_light', 'perc5_sat', 'perc25_sat', 'perc50_sat',\n",
       "         'perc75_sat', 'perc95_sat', 'perc5_hue', 'perc25_hue',\n",
       "         'perc50_hue', 'perc75_hue', 'perc95_hue', 'perc5_ndvi',\n",
       "         'perc25_ndvi', 'perc50_ndvi', 'perc75_ndvi', 'perc95_ndvi',\n",
       "         'perc5_ndvire', 'perc25_ndvire', 'perc50_ndvire', 'perc75_ndvire',\n",
       "         'perc95_ndvire', 'perc5_ndre', 'perc25_ndre', 'perc50_ndre',\n",
       "         'perc75_ndre', 'perc95_ndre', 'perc5_grvi', 'perc25_grvi',\n",
       "         'perc50_grvi', 'perc75_grvi', 'perc95_grvi', 'perc5_evi',\n",
       "         'perc25_evi', 'perc50_evi', 'perc75_evi', 'perc95_evi', 'decay1',\n",
       "         'decay2', 'decay4', 'decay8', 'decay16'], dtype=object),\n",
       "  'features_photometric_shadowmask_channel': 'avg',\n",
       "  'features_photometric_shadowmask_thresh_chm_lower': 5,\n",
       "  'features_photometric_shadowmask_thresh_chm_upper': 40,\n",
       "  'features_photometric_shadowmask_width': 101,\n",
       "  'features_terrestrial_dtypes': array(['uint16', 'int32', 'int32', 'int32', 'int32', 'int32', 'int32',\n",
       "         'int32', 'int32', 'int32', 'int32', 'int32', 'int32', 'int32',\n",
       "         'int32', 'int32', 'int32', 'int32', 'int32', 'int32', 'int32',\n",
       "         'int32', 'int32', 'int32', 'int32', 'int32', 'int32', 'int32',\n",
       "         'int32', 'int32', 'int32', 'int32', 'int32', 'int32', 'int32',\n",
       "         'int32', 'int32', 'int32', 'int32', 'int32', 'int32', 'int32',\n",
       "         'int32', 'int32', 'int32', 'int32', 'int32', 'int32', 'int32',\n",
       "         'int32', 'int32', 'int32', 'int32', 'float32', 'float32'],\n",
       "        dtype=object),\n",
       "  'features_terrestrial_names': array(['id', 'enr', 'sat', 'bnr', 'bk', 'ba', 'bhd_2019', 'bhd_2020',\n",
       "         'alter_2020', 'kkl', 'ek', 'kl', 'lbb', 'sst', 'nbv', 'gilb',\n",
       "         'frukt', 'schad', 'phyt', 'mi_gro', 'mi_mi', 'mi_kl', 'mi_gesamt',\n",
       "         'mistelstuf', 'jahr', 'raster_16_', 'ta_vd', 'el_vd', 'kie_mfr_',\n",
       "         'schw', 'obb', 'ndb', 'ufr', 'mfr', 'ofr', 'opf', 'wg_2', 'wg_3',\n",
       "         'wg_4', 'wg_5', 'wg_6', 'wg_7', 'wg_8', 'wg_9', 'wg_10', 'wg_11',\n",
       "         'wg_12', 'wg_13', 'wg_14', 'wg_15', 'by_nord', 'by_süd', 'bfhnr',\n",
       "         'shape_leng', 'shape_area'], dtype=object),\n",
       "  'number_crowns': 6,\n",
       "  'origin': 'human',\n",
       "  'path_shapes': 'D:\\\\Drohnendaten\\\\10_WZE-UAV\\\\Auswertung_findatree\\\\2020\\\\Kronen\\\\Tnr_11_Kr.shp',\n",
       "  'shape': array([1624, 1617]),\n",
       "  'tnr': '11'},\n",
       " 'io.load_hdf5()_info': ''}"
      ]
     },
     "execution_count": 63,
     "metadata": {},
     "output_type": "execute_result"
    }
   ],
   "source": [
    "params_data"
   ]
  },
  {
   "cell_type": "code",
   "execution_count": 17,
   "id": "9e7b5a82",
   "metadata": {},
   "outputs": [],
   "source": [
    "dataloader = DataLoader(test_dataset, batch_size=32)"
   ]
  },
  {
   "cell_type": "code",
   "execution_count": 36,
   "id": "65188a12",
   "metadata": {},
   "outputs": [
    {
     "name": "stdout",
     "output_type": "stream",
     "text": [
      "torch.Size([3, 300, 300])\n",
      "torch.Size([1])\n",
      "(5427, 300, 300, 3)\n",
      "torch.Size([5427, 1])\n",
      "5427\n",
      "170\n"
     ]
    }
   ],
   "source": [
    "image, label = dataset[0][0], dataset[0][1]\n",
    "print(image.shape)\n",
    "print(label.shape)\n",
    "print(dataset.data.shape)\n",
    "print(dataset.labels.shape)\n",
    "print(len(dataset))\n",
    "print(len(dataloader))\n",
    "#print(image)\n",
    "#print (label)"
   ]
  },
  {
   "cell_type": "code",
   "execution_count": 32,
   "id": "35886260",
   "metadata": {},
   "outputs": [
    {
     "data": {
      "text/plain": [
       "170"
      ]
     },
     "execution_count": 32,
     "metadata": {},
     "output_type": "execute_result"
    }
   ],
   "source": []
  },
  {
   "cell_type": "code",
   "execution_count": null,
   "id": "188cf9e4",
   "metadata": {},
   "outputs": [],
   "source": []
  },
  {
   "cell_type": "code",
   "execution_count": 290,
   "id": "9c0979f3",
   "metadata": {},
   "outputs": [],
   "source": [
    "\n"
   ]
  },
  {
   "cell_type": "code",
   "execution_count": 291,
   "id": "8beb50de",
   "metadata": {},
   "outputs": [],
   "source": [
    "\n",
    "    "
   ]
  },
  {
   "cell_type": "code",
   "execution_count": null,
   "id": "80722f33",
   "metadata": {},
   "outputs": [],
   "source": []
  },
  {
   "cell_type": "code",
   "execution_count": null,
   "id": "91cae3a5",
   "metadata": {},
   "outputs": [],
   "source": []
  },
  {
   "cell_type": "code",
   "execution_count": null,
   "id": "c02dd9e9",
   "metadata": {},
   "outputs": [],
   "source": []
  },
  {
   "cell_type": "code",
   "execution_count": null,
   "id": "ef3071f4",
   "metadata": {},
   "outputs": [],
   "source": []
  },
  {
   "cell_type": "code",
   "execution_count": null,
   "id": "322a6421",
   "metadata": {},
   "outputs": [],
   "source": []
  },
  {
   "cell_type": "code",
   "execution_count": null,
   "id": "de33cc73",
   "metadata": {},
   "outputs": [],
   "source": []
  }
 ],
 "metadata": {
  "kernelspec": {
   "display_name": "Python 3 (ipykernel)",
   "language": "python",
   "name": "python3"
  },
  "language_info": {
   "codemirror_mode": {
    "name": "ipython",
    "version": 3
   },
   "file_extension": ".py",
   "mimetype": "text/x-python",
   "name": "python",
   "nbconvert_exporter": "python",
   "pygments_lexer": "ipython3",
   "version": "3.9.16"
  }
 },
 "nbformat": 4,
 "nbformat_minor": 5
}
