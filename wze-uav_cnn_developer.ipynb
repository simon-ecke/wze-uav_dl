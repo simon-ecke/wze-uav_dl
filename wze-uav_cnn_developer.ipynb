{
 "cells": [
  {
   "cell_type": "markdown",
   "id": "c1acdaa3",
   "metadata": {},
   "source": [
    "# WZE-UAV Image Classification using Deep Learning"
   ]
  },
  {
   "cell_type": "code",
   "execution_count": 1,
   "id": "2159aac5",
   "metadata": {},
   "outputs": [
    {
     "data": {
      "text/plain": [
       "[<matplotlib.lines.Line2D at 0x2e66eabb3d0>]"
      ]
     },
     "execution_count": 1,
     "metadata": {},
     "output_type": "execute_result"
    },
    {
     "data": {
      "image/png": "[encoded data removed]",
      "text/plain": [
       "<Figure size 432x288 with 1 Axes>"
      ]
     },
     "metadata": {
      "needs_background": "light"
     },
     "output_type": "display_data"
    }
   ],
   "source": [
    "import os\n",
    "import glob\n",
    "import matplotlib.pyplot as plt\n",
    "import rasterio\n",
    "import numpy as np\n",
    "import mlxtend\n",
    "from pathlib import Path\n",
    "from tqdm.auto import tqdm\n",
    "from sklearn.metrics import balanced_accuracy_score, precision_score, recall_score, f1_score, confusion_matrix, classification_report\n",
    "\n",
    "\n",
    "x = (1,3)\n",
    "y = (1,3)\n",
    "plt.plot(x,y)"
   ]
  },
  {
   "cell_type": "code",
   "execution_count": 2,
   "id": "0026f7a9",
   "metadata": {},
   "outputs": [],
   "source": [
    "import torch\n",
    "import torchvision.transforms as T\n",
    "import torchvision\n",
    "from torch import nn\n",
    "from torch.utils.data import DataLoader\n",
    "from torchinfo import summary\n",
    "from torchvision import datasets, transforms\n",
    "from torch.utils.data import Dataset\n",
    "from torchinfo import summary\n",
    "from torchmetrics import *\n",
    "import torch.optim as optim\n",
    "from torch.optim.lr_scheduler import StepLR, ExponentialLR\n",
    "from mlxtend.plotting import plot_confusion_matrix\n",
    "import h5py"
   ]
  },
  {
   "cell_type": "code",
   "execution_count": 3,
   "id": "b160d7b4",
   "metadata": {},
   "outputs": [],
   "source": [
    "import wze_uav.data_loader as data_loader\n",
    "import wze_uav.visualization as visualization\n",
    "import wze_uav.models as models\n",
    "from wze_uav.engine import *\n",
    "from wze_uav.utils2 import *\n",
    "from wze_uav.log_writer import create_writer"
   ]
  },
  {
   "cell_type": "markdown",
   "id": "2bd4fb2f",
   "metadata": {},
   "source": [
    "#### Get PyTorch version"
   ]
  },
  {
   "cell_type": "code",
   "execution_count": 4,
   "id": "c10886b1",
   "metadata": {},
   "outputs": [
    {
     "name": "stdout",
     "output_type": "stream",
     "text": [
      "torch version: 1.13.1+cu116\n",
      "torchvision version: 0.14.1+cu116\n"
     ]
    }
   ],
   "source": [
    "print(f\"torch version: {torch.__version__}\")\n",
    "print(f\"torchvision version: {torchvision.__version__}\")"
   ]
  },
  {
   "cell_type": "markdown",
   "id": "aa6a83cf",
   "metadata": {},
   "source": [
    "#### Preparing device agnostic code "
   ]
  },
  {
   "cell_type": "code",
   "execution_count": 5,
   "id": "13d5de88",
   "metadata": {},
   "outputs": [
    {
     "name": "stdout",
     "output_type": "stream",
     "text": [
      "cuda\n",
      "Index of current divice: 0\n",
      "Number of GPUs available: 1\n",
      "GPU Model: Quadro RTX 8000\n"
     ]
    }
   ],
   "source": [
    "# ensure device agnostic code\n",
    "device = 'cuda' if torch.cuda.is_available() else 'cpu'\n",
    "print(device)\n",
    "\n",
    "# get index of currently selected device\n",
    "print(f\"Index of current divice: {torch.cuda.current_device()}\")\n",
    "# get number of GPUs available\n",
    "print(f\"Number of GPUs available: {torch.cuda.device_count()}\")\n",
    "# get the name of the device\n",
    "print(f\"GPU Model: {torch.cuda.get_device_name(0)}\")"
   ]
  },
  {
   "cell_type": "markdown",
   "id": "a26a6a34",
   "metadata": {},
   "source": [
    "#### Ensure reproducibility "
   ]
  },
  {
   "cell_type": "code",
   "execution_count": 6,
   "id": "dd4656a7",
   "metadata": {},
   "outputs": [],
   "source": [
    "# for more information, see also: https://pytorch.org/docs/stable/notes/randomness.html\n",
    "\n",
    "# Set seeds\n",
    "def set_seeds(seed: int=0):\n",
    "    \"\"\"Sets random sets for torch operations.\n",
    "\n",
    "    Args:\n",
    "        seed (int, optional): Random seed to set. Defaults to 0.\n",
    "    \"\"\"\n",
    "    # Set the seed for general torch operations\n",
    "    torch.manual_seed(seed)\n",
    "    # Set the seed for CUDA torch operations (ones that happen on the GPU)\n",
    "    torch.cuda.manual_seed(seed)\n",
    "\n",
    "# seed for numpy\n",
    "np.random.seed(0)\n",
    "# avoiding non-deterministic algorithms\n",
    "#torch.use_deterministic_algorithms(True)\n",
    "# Set to true -> might speed up the process but should be set to False if reproducible results are desired\n",
    "torch.backends.cudnn.benchmark = True\n"
   ]
  },
  {
   "cell_type": "markdown",
   "id": "8be33671",
   "metadata": {},
   "source": [
    "#### Define file directories"
   ]
  },
  {
   "cell_type": "code",
   "execution_count": 7,
   "id": "30645f36",
   "metadata": {},
   "outputs": [],
   "source": [
    "set_seeds() # ensure reproducibility\n",
    "\n",
    "# Data 2020\n",
    "train_data_path = r\"D:\\Drohnendaten\\10_WZE-UAV\\Auswertung_findatree\\2020\\ROI\\rgb\\train\"\n",
    "val_data_path = r\"D:\\Drohnendaten\\10_WZE-UAV\\Auswertung_findatree\\2020\\ROI\\rgb\\val\"\n",
    "test_data_path = r\"D:\\Drohnendaten\\10_WZE-UAV\\Auswertung_findatree\\2020\\ROI\\rgb\\test\"\n",
    "\n",
    "# Data 2021\n",
    "train_data_path_2021 = r\"D:\\Drohnendaten\\10_WZE-UAV\\Auswertung_findatree\\2021\\ROI\\rgb\\train\"\n",
    "val_data_path_2021 = r\"D:\\Drohnendaten\\10_WZE-UAV\\Auswertung_findatree\\2021\\ROI\\rgb\\val\"\n",
    "test_data_path_2021 = r\"D:\\Drohnendaten\\10_WZE-UAV\\Auswertung_findatree\\2021\\ROI\\rgb\\test\"\n",
    "\n",
    "# Data 2022\n",
    "train_data_path_2022 = r\"D:\\Drohnendaten\\10_WZE-UAV\\Auswertung_findatree\\2022\\ROI\\rgb\\train\"\n",
    "val_data_path_2022 = r\"D:\\Drohnendaten\\10_WZE-UAV\\Auswertung_findatree\\2022\\ROI\\rgb\\val\"\n",
    "test_data_path_2022 = r\"D:\\Drohnendaten\\10_WZE-UAV\\Auswertung_findatree\\2022\\ROI\\rgb\\test\"\n",
    "\n"
   ]
  },
  {
   "cell_type": "markdown",
   "id": "b5d28343",
   "metadata": {},
   "source": [
    "#### Load images and features (labels and tree species) from hdf5 files"
   ]
  },
  {
   "cell_type": "code",
   "execution_count": 8,
   "id": "a1b72aed",
   "metadata": {},
   "outputs": [],
   "source": [
    "# load all image and feature arrays from hdf5\n",
    "# loops through all hdf5 files! \n",
    "\n",
    "# Data 2020\n",
    "train_image_set_2020, train_label_set_2020, train_species_set_2020, train_kkl_set_2020, train_bk_set_2020 = data_loader.hdf5_to_img_label(train_data_path, load_sets = [\"images_masked\"])\n",
    "val_image_set_2020, val_label_set_2020, val_species_set_2020, val_kkl_set_2020, val_bk_set_2020 = data_loader.hdf5_to_img_label(val_data_path, load_sets = [\"images_masked\"])\n",
    "test_image_set_2020, test_label_set_2020, test_species_set_2020, test_kkl_set_2020, test_bk_set_2020 = data_loader.hdf5_to_img_label(test_data_path, load_sets = [\"images_masked\"])\n",
    "\n",
    "# Data 2021\n",
    "train_image_set_2021, train_label_set_2021, train_species_set_2021, train_kkl_set_2021, train_bk_set_2021 = data_loader.hdf5_to_img_label(train_data_path_2021, load_sets = [\"images_masked\"])\n",
    "val_image_set_2021, val_label_set_2021, val_species_set_2021, val_kkl_set_2021, val_bk_set_2021 = data_loader.hdf5_to_img_label(val_data_path_2021, load_sets = [\"images_masked\"])\n",
    "test_image_set_2021, test_label_set_2021, test_species_set_2021, test_kkl_set_2021, test_bk_set_2021 = data_loader.hdf5_to_img_label(test_data_path_2021, load_sets = [\"images_masked\"])\n",
    "\n",
    "# Data 2022\n",
    "train_image_set_2022, train_label_set_2022, train_species_set_2022, train_kkl_set_2022, train_bk_set_2022 = data_loader.hdf5_to_img_label(train_data_path_2022, load_sets = [\"images_masked\"])\n",
    "val_image_set_2022, val_label_set_2022, val_species_set_2022, val_kkl_set_2022, val_bk_set_2022 = data_loader.hdf5_to_img_label(val_data_path_2022, load_sets = [\"images_masked\"])\n",
    "test_image_set_2022, test_label_set_2022, test_species_set_2022, test_kkl_set_2022, test_bk_set_2022 = data_loader.hdf5_to_img_label(test_data_path_2022, load_sets = [\"images_masked\"])\n"
   ]
  },
  {
   "cell_type": "code",
   "execution_count": 9,
   "id": "13f3e98d",
   "metadata": {},
   "outputs": [],
   "source": [
    "# stack all data from 2020, 2021 and 2022 into one dataset\n",
    "# images\n",
    "train_image_set = np.concatenate((train_image_set_2020, train_image_set_2021, train_image_set_2022), axis=0)\n",
    "val_image_set = np.concatenate((val_image_set_2020, val_image_set_2021, val_image_set_2022), axis=0)\n",
    "test_image_set = np.concatenate((test_image_set_2020, test_image_set_2021, test_image_set_2022), axis=0)\n",
    "\n",
    "#labels\n",
    "train_label_set = np.concatenate((train_label_set_2020, train_label_set_2021, train_label_set_2022), axis=0)\n",
    "val_label_set = np.concatenate((val_label_set_2020, val_label_set_2021, val_label_set_2022), axis=0)\n",
    "test_label_set = np.concatenate((test_label_set_2020, test_label_set_2021, test_label_set_2022), axis=0)\n",
    "\n",
    "#species\n",
    "train_species_set = np.concatenate((train_species_set_2020, train_species_set_2021, train_species_set_2022), axis=0)\n",
    "val_species_set = np.concatenate((val_species_set_2020, val_species_set_2021, val_species_set_2022), axis=0)\n",
    "test_species_set = np.concatenate((test_species_set_2020, test_species_set_2021, test_species_set_2022), axis=0)\n",
    "\n",
    "#kkl\n",
    "train_kkl_set = np.concatenate((train_kkl_set_2020, train_kkl_set_2021, train_kkl_set_2022), axis=0)\n",
    "val_kkl_set = np.concatenate((val_kkl_set_2020, val_kkl_set_2021, val_kkl_set_2022), axis=0)\n",
    "test_kkl_set = np.concatenate((test_kkl_set_2020, test_kkl_set_2021, test_kkl_set_2022), axis=0)\n",
    "\n",
    "#bk\n",
    "train_bk_set = np.concatenate((train_bk_set_2020, train_bk_set_2021, train_bk_set_2022), axis=0)\n",
    "val_bk_set = np.concatenate((val_bk_set_2020, val_bk_set_2021, val_bk_set_2022), axis=0)\n",
    "test_bk_set = np.concatenate((test_bk_set_2020, test_bk_set_2021, test_bk_set_2022), axis=0)"
   ]
  },
  {
   "cell_type": "code",
   "execution_count": 10,
   "id": "1961b5a1",
   "metadata": {},
   "outputs": [
    {
     "name": "stdout",
     "output_type": "stream",
     "text": [
      "Dataset 2020\n",
      "\n",
      "Train dataset shape: (4886, 250, 250, 3)\n",
      "Train labels shape: (4886, 1)\n",
      "Train species shape: (4886, 1)\n",
      "Train kkl shape: (4886, 1)\n",
      "Train bk shape: (4886, 1)\n",
      "--------------------------------------------------\n",
      "Validation dataset shape: (1053, 250, 250, 3)\n",
      "Validation labels shape: (1053, 1)\n",
      "--------------------------------------------------\n",
      "Test dataset shape: (917, 250, 250, 3)\n",
      "Test labels shape: (917, 1)\n",
      "--------------------------------------------------\n",
      "\n",
      "Total image samples: 6856\n",
      "Total label samples: 6856\n",
      "\n",
      "==================================================\n",
      "\n",
      "Dataset 2021\n",
      "\n",
      "Train dataset shape: (4505, 250, 250, 3)\n",
      "Train labels shape: (4505, 1)\n",
      "--------------------------------------------------\n",
      "Validation dataset shape: (1053, 250, 250, 3)\n",
      "Validation labels shape: (1053, 1)\n",
      "--------------------------------------------------\n",
      "Test dataset shape: (877, 250, 250, 3)\n",
      "Test labels shape: (877, 1)\n",
      "--------------------------------------------------\n",
      "\n",
      "Total image samples: 6435\n",
      "Total label samples: 6435\n",
      "\n",
      "==================================================\n",
      "\n",
      "Dataset 2022\n",
      "\n",
      "Train dataset shape: (4032, 250, 250, 3)\n",
      "Train labels shape: (4032, 1)\n",
      "--------------------------------------------------\n",
      "Validation dataset shape: (776, 250, 250, 3)\n",
      "Validation labels shape: (776, 1)\n",
      "--------------------------------------------------\n",
      "Test dataset shape: (706, 250, 250, 3)\n",
      "Test labels shape: (706, 1)\n",
      "--------------------------------------------------\n",
      "\n",
      "Total image samples: 5514\n",
      "Total label samples: 5514\n",
      "\n",
      "==================================================\n",
      "\n",
      "Stacked Dataset\n",
      "\n",
      "Train dataset shape: (13423, 250, 250, 3)\n",
      "Train labels shape: (13423, 1)\n",
      "--------------------------------------------------\n",
      "Validation dataset shape: (2882, 250, 250, 3)\n",
      "Validation labels shape: (2882, 1)\n",
      "--------------------------------------------------\n",
      "Test dataset shape: (2500, 250, 250, 3)\n",
      "Test labels shape: (2500, 1)\n",
      "--------------------------------------------------\n",
      "\n",
      "Total image samples: 18805\n",
      "Total label samples: 18805\n",
      "\n"
     ]
    }
   ],
   "source": [
    "# checking shapes and amount of samples. Image sample size should be equal to label sample size!\n",
    "# Images should be of shape (n, H, W, C): n = sample size | H = image height | W = image width | C = number of bands\n",
    "print(\"Dataset 2020\")\n",
    "print(f\"\\nTrain dataset shape: {train_image_set_2020.shape}\")\n",
    "print(f\"Train labels shape: {train_label_set_2020.shape}\")\n",
    "print(f\"Train species shape: {train_species_set_2020.shape}\")\n",
    "print(f\"Train kkl shape: {train_kkl_set_2020.shape}\")\n",
    "print(f\"Train bk shape: {train_bk_set_2020.shape}\")\n",
    "print(\"-\"*50)\n",
    "print(f\"Validation dataset shape: {val_image_set_2020.shape}\")\n",
    "print(f\"Validation labels shape: {val_label_set_2020.shape}\")\n",
    "print(\"-\"*50)\n",
    "print(f\"Test dataset shape: {test_image_set_2020.shape}\")\n",
    "print(f\"Test labels shape: {test_label_set_2020.shape}\")\n",
    "print(\"-\"*50)\n",
    "print(f\"\\nTotal image samples: {train_image_set_2020.shape[0] + val_image_set_2020.shape[0] + test_image_set_2020.shape[0]}\")\n",
    "print(f\"Total label samples: {train_label_set_2020.shape[0] + val_label_set_2020.shape[0] + test_label_set_2020.shape[0]}\\n\")\n",
    "print(\"=\"*50)\n",
    "print(\"\\nDataset 2021\")\n",
    "print(f\"\\nTrain dataset shape: {train_image_set_2021.shape}\")\n",
    "print(f\"Train labels shape: {train_label_set_2021.shape}\")\n",
    "print(\"-\"*50)\n",
    "print(f\"Validation dataset shape: {val_image_set_2021.shape}\")\n",
    "print(f\"Validation labels shape: {val_label_set_2021.shape}\")\n",
    "print(\"-\"*50)\n",
    "print(f\"Test dataset shape: {test_image_set_2021.shape}\")\n",
    "print(f\"Test labels shape: {test_label_set_2021.shape}\")\n",
    "print(\"-\"*50)\n",
    "print(f\"\\nTotal image samples: {train_image_set_2021.shape[0] + val_image_set_2021.shape[0] + test_image_set_2021.shape[0]}\")\n",
    "print(f\"Total label samples: {train_label_set_2021.shape[0] + val_label_set_2021.shape[0] + test_label_set_2021.shape[0]}\\n\")\n",
    "print(\"=\"*50)\n",
    "print(\"\\nDataset 2022\")\n",
    "print(f\"\\nTrain dataset shape: {train_image_set_2022.shape}\")\n",
    "print(f\"Train labels shape: {train_label_set_2022.shape}\")\n",
    "print(\"-\"*50)\n",
    "print(f\"Validation dataset shape: {val_image_set_2022.shape}\")\n",
    "print(f\"Validation labels shape: {val_label_set_2022.shape}\")\n",
    "print(\"-\"*50)\n",
    "print(f\"Test dataset shape: {test_image_set_2022.shape}\")\n",
    "print(f\"Test labels shape: {test_label_set_2022.shape}\")\n",
    "print(\"-\"*50)\n",
    "print(f\"\\nTotal image samples: {train_image_set_2022.shape[0] + val_image_set_2022.shape[0] + test_image_set_2022.shape[0]}\")\n",
    "print(f\"Total label samples: {train_label_set_2022.shape[0] + val_label_set_2022.shape[0] + test_label_set_2022.shape[0]}\\n\")\n",
    "print(\"=\"*50)\n",
    "print(\"\\nStacked Dataset\")\n",
    "print(f\"\\nTrain dataset shape: {train_image_set.shape}\")\n",
    "print(f\"Train labels shape: {train_label_set.shape}\")\n",
    "print(\"-\"*50)\n",
    "print(f\"Validation dataset shape: {val_image_set.shape}\")\n",
    "print(f\"Validation labels shape: {val_label_set.shape}\")\n",
    "print(\"-\"*50)\n",
    "print(f\"Test dataset shape: {test_image_set.shape}\")\n",
    "print(f\"Test labels shape: {test_label_set.shape}\")\n",
    "print(\"-\"*50)\n",
    "print(f\"\\nTotal image samples: {train_image_set.shape[0] + val_image_set.shape[0] + test_image_set.shape[0]}\")\n",
    "print(f\"Total label samples: {train_label_set.shape[0] + val_label_set.shape[0] + test_label_set.shape[0]}\\n\")"
   ]
  },
  {
   "cell_type": "markdown",
   "id": "5ad5104a",
   "metadata": {},
   "source": [
    "#### Define data transforms and create PyTorch Datasets (converts ndarrays into tensors)"
   ]
  },
  {
   "cell_type": "code",
   "execution_count": null,
   "id": "2d6c0d7d",
   "metadata": {},
   "outputs": [],
   "source": []
  },
  {
   "cell_type": "code",
   "execution_count": 11,
   "id": "93fd9497",
   "metadata": {},
   "outputs": [],
   "source": [
    "# train transform with augmentation. \n",
    "transform_train = transforms.Compose([transforms.ToTensor(),\n",
    "                                      #transforms.Normalize(mean=[0.485, 0.456, 0.406],\n",
    "                                      #                     std=[0.229, 0.224, 0.225]),\n",
    "                                      #transforms.ColorJitter(brightness=(5,5), contrast=(0.5,1.2), saturation=(0.5,1.2), hue=(-0.05,0.05)),\n",
    "                                      transforms.RandomHorizontalFlip(p=0.5),\n",
    "                                      transforms.RandomVerticalFlip(p=0.5),\n",
    "                                      transforms.RandomRotation(degrees=[-90,90]),\n",
    "                                      #transforms.Resize(224)\n",
    "                                      ])\n",
    "\n",
    "# test and val dataset transform without augmentation. \n",
    "transform = transforms.Compose([transforms.ToTensor(),\n",
    "                                #transforms.Resize(224)\n",
    "                               ])\n",
    "\n",
    "\n",
    "# class names need to fit the customDataset class used e.g. 3 classes -> use CustomDataset3Classes\n",
    "#class_names = ['healthy', 'slightly_stressed', 'moderately_stressed', 'highly_stressed', 'dead']\n",
    "#class_names = ['healthy', 'moderately_stressed', 'highly_stressed', 'dead']\n",
    "class_names = ['healthy', 'stressed', 'dead']\n",
    "\n",
    "# choose custom dataset loader with 3 - 5 classes\n",
    "train_dataset = data_loader.CustomDataset3Classes(\n",
    "    data = train_image_set,\n",
    "    labels = train_label_set,\n",
    "    class_names=class_names, \n",
    "    species = train_species_set,\n",
    "    kkl = train_kkl_set,\n",
    "    transform=transform_train\n",
    ")\n",
    "\n",
    "val_dataset = data_loader.CustomDataset3Classes(\n",
    "    data = val_image_set,\n",
    "    labels = val_label_set,\n",
    "    class_names=class_names,\n",
    "    species = val_species_set,\n",
    "    kkl = val_kkl_set,\n",
    "    transform=transform\n",
    ")\n",
    "\n",
    "test_dataset = data_loader.CustomDataset3Classes(\n",
    "    data = test_image_set,\n",
    "    labels = test_label_set,\n",
    "    class_names=class_names, \n",
    "    species = test_species_set,\n",
    "    kkl = test_kkl_set,\n",
    "    transform=transform\n",
    ")\n",
    "\n"
   ]
  },
  {
   "cell_type": "code",
   "execution_count": 12,
   "id": "9c0c186e",
   "metadata": {},
   "outputs": [
    {
     "name": "stdout",
     "output_type": "stream",
     "text": [
      "Class sample counts: [12100, 1086, 237]\n",
      "Class weights: tensor([8.2645e-05, 9.2081e-04, 4.2194e-03])\n",
      "Class weights2: tensor([0.0493, 0.4595, 0.4912])\n",
      "Effective num: [12100, 1086, 237]\n",
      "Class 0: 0.049281\n",
      "Class 1: 0.459547\n",
      "Class 2: 0.491172\n"
     ]
    }
   ],
   "source": [
    "from torch.utils.data import WeightedRandomSampler\n",
    "\n",
    "# convert the label tensor to a list\n",
    "labels_list = train_dataset.labels.tolist()\n",
    "\n",
    "# count the number of samples per class\n",
    "class_sample_counts = [labels_list.count(i) for i in range(len(class_names))]\n",
    "\n",
    "# compute the effective number of samples\n",
    "total_samples = sum(class_sample_counts)\n",
    "effective_num = [(1.0 - (count / total_samples)) / (len(class_names) - 1) for count in class_sample_counts]\n",
    "\n",
    "# calculate the weight of each class as inverse of frequency\n",
    "class_weights = 1 / torch.Tensor(class_sample_counts)\n",
    "\n",
    "class_weights2 = torch.FloatTensor(effective_num)\n",
    "class_weights2 /= torch.sum(class_weights2)\n",
    "\n",
    "# create a list of weights for each data sample\n",
    "train_weights = [class_weights2[label] for label in labels_list]\n",
    "\n",
    "\n",
    "\n",
    "\n",
    "\n",
    "# create a sampler using the weights\n",
    "sampler = WeightedRandomSampler(train_weights, len(train_dataset), replacement=True)\n",
    "\n",
    "print(f\"Class sample counts: {class_sample_counts}\")\n",
    "print(f\"Class weights: {class_weights}\")\n",
    "print(f\"Class weights2: {class_weights2}\")\n",
    "#print(f\"Train weights: {train_weights}\")\n",
    "print(f\"Effective num: {class_sample_counts}\")\n",
    "\n",
    "for i, weight in enumerate(class_weights2):\n",
    "    print(f\"Class {i}: {weight:.6f}\")"
   ]
  },
  {
   "cell_type": "markdown",
   "id": "d550b86f",
   "metadata": {},
   "source": [
    "#### Visualize random images from the datasets"
   ]
  },
  {
   "cell_type": "code",
   "execution_count": 44,
   "id": "207e140c",
   "metadata": {},
   "outputs": [
    {
     "data": {
      "image/png": "[encoded data removed]",
      "text/plain": [
       "<Figure size 2160x1440 with 2 Axes>"
      ]
     },
     "metadata": {
      "needs_background": "light"
     },
     "output_type": "display_data"
    }
   ],
   "source": [
    "# enhance brightness in colorjitter for better visibility\n",
    "visualization.display_random_images(train_dataset, \n",
    "                      n=2, \n",
    "                      classes=[0, 1, 2],\n",
    "                      seed=None)\n"
   ]
  },
  {
   "cell_type": "markdown",
   "id": "a04aca61",
   "metadata": {},
   "source": [
    "#### Check shape and data types of images and labels"
   ]
  },
  {
   "cell_type": "code",
   "execution_count": 14,
   "id": "052846b7",
   "metadata": {},
   "outputs": [
    {
     "name": "stdout",
     "output_type": "stream",
     "text": [
      "Image shape: torch.Size([3, 250, 250])\n",
      "Image datatype: torch.float32\n",
      "Image label: 0\n",
      "Label datatype: <class 'int'>\n"
     ]
    }
   ],
   "source": [
    "img, label = test_dataset[10]\n",
    "print(f\"Image shape: {img.shape}\")\n",
    "print(f\"Image datatype: {img.dtype}\")\n",
    "print(f\"Image label: {label}\")\n",
    "print(f\"Label datatype: {type(label)}\")"
   ]
  },
  {
   "cell_type": "markdown",
   "id": "fceb1a7d",
   "metadata": {},
   "source": [
    "#### Create PyTorch Dataloaders"
   ]
  },
  {
   "cell_type": "code",
   "execution_count": 13,
   "id": "d34f3728",
   "metadata": {},
   "outputs": [
    {
     "name": "stdout",
     "output_type": "stream",
     "text": [
      "Train dataloader size: 419\n",
      "Val dataloader size: 90\n",
      "Test dataloader size: 78\n"
     ]
    }
   ],
   "source": [
    "# set seeds\n",
    "g = torch.Generator()\n",
    "g.manual_seed(0)\n",
    "NUM_WORKERS=3 # should be changed, depending on the system used\n",
    "batch_size=32\n",
    "\n",
    "train_dataloader = DataLoader(train_dataset,\n",
    "                              batch_size=batch_size,\n",
    "                              persistent_workers=True,\n",
    "                              pin_memory=True,\n",
    "                              num_workers=NUM_WORKERS, \n",
    "                              generator=g,\n",
    "                              sampler=sampler,\n",
    "                              shuffle=False,\n",
    "                              drop_last=True)\n",
    "\n",
    "val_dataloader = DataLoader(val_dataset,\n",
    "                             batch_size=batch_size,\n",
    "                             persistent_workers=True,\n",
    "                             pin_memory=True,\n",
    "                             num_workers=NUM_WORKERS,\n",
    "                             shuffle=False,\n",
    "                             drop_last=True)\n",
    "\n",
    "test_dataloader = DataLoader(test_dataset,\n",
    "                             batch_size=batch_size,\n",
    "                             persistent_workers=True,\n",
    "                             pin_memory=True,\n",
    "                             num_workers=NUM_WORKERS,\n",
    "                             shuffle=False,\n",
    "                             drop_last=True)\n",
    "\n",
    "print(f\"Train dataloader size: {len(train_dataloader)}\")\n",
    "print(f\"Val dataloader size: {len(val_dataloader)}\")\n",
    "print(f\"Test dataloader size: {len(test_dataloader)}\")"
   ]
  },
  {
   "cell_type": "markdown",
   "id": "89dfb16e",
   "metadata": {},
   "source": [
    "#### Create and print model"
   ]
  },
  {
   "cell_type": "code",
   "execution_count": 24,
   "id": "063a4f81",
   "metadata": {},
   "outputs": [
    {
     "name": "stdout",
     "output_type": "stream",
     "text": [
      "[INFO] Created new effnet_b2 model.\n"
     ]
    }
   ],
   "source": [
    "# Create model\n",
    "classes = train_dataset.class_names\n",
    "num_classes = len(classes) # get output_shape (number of classes) as an argument for the model\n",
    "\n",
    "effnet_b2 = create_effnetb2(output_shape=num_classes, dropout_rate=0.3, unfreeze=True, device=device)"
   ]
  },
  {
   "cell_type": "code",
   "execution_count": 25,
   "id": "35d1eaf7",
   "metadata": {},
   "outputs": [
    {
     "data": {
      "text/plain": [
       "================================================================================================================================\n",
       "Layer (type (var_name))                                      Input Shape       Output Shape      Param #           Trainable\n",
       "================================================================================================================================\n",
       "EfficientNet (EfficientNet)                                  [32, 3, 250, 250] [32, 3]           --                True\n",
       "├─Sequential (features)                                      [32, 3, 250, 250] [32, 1408, 8, 8]  --                True\n",
       "│    └─Conv2dNormActivation (0)                              [32, 3, 250, 250] [32, 32, 125, 125] --                True\n",
       "│    │    └─Conv2d (0)                                       [32, 3, 250, 250] [32, 32, 125, 125] 864               True\n",
       "│    │    └─BatchNorm2d (1)                                  [32, 32, 125, 125] [32, 32, 125, 125] 64                True\n",
       "│    │    └─SiLU (2)                                         [32, 32, 125, 125] [32, 32, 125, 125] --                --\n",
       "│    └─Sequential (1)                                        [32, 32, 125, 125] [32, 16, 125, 125] --                True\n",
       "│    │    └─MBConv (0)                                       [32, 32, 125, 125] [32, 16, 125, 125] 1,448             True\n",
       "│    │    └─MBConv (1)                                       [32, 16, 125, 125] [32, 16, 125, 125] 612               True\n",
       "│    └─Sequential (2)                                        [32, 16, 125, 125] [32, 24, 63, 63]  --                True\n",
       "│    │    └─MBConv (0)                                       [32, 16, 125, 125] [32, 24, 63, 63]  6,004             True\n",
       "│    │    └─MBConv (1)                                       [32, 24, 63, 63]  [32, 24, 63, 63]  10,710            True\n",
       "│    │    └─MBConv (2)                                       [32, 24, 63, 63]  [32, 24, 63, 63]  10,710            True\n",
       "│    └─Sequential (3)                                        [32, 24, 63, 63]  [32, 48, 32, 32]  --                True\n",
       "│    │    └─MBConv (0)                                       [32, 24, 63, 63]  [32, 48, 32, 32]  16,518            True\n",
       "│    │    └─MBConv (1)                                       [32, 48, 32, 32]  [32, 48, 32, 32]  43,308            True\n",
       "│    │    └─MBConv (2)                                       [32, 48, 32, 32]  [32, 48, 32, 32]  43,308            True\n",
       "│    └─Sequential (4)                                        [32, 48, 32, 32]  [32, 88, 16, 16]  --                True\n",
       "│    │    └─MBConv (0)                                       [32, 48, 32, 32]  [32, 88, 16, 16]  50,300            True\n",
       "│    │    └─MBConv (1)                                       [32, 88, 16, 16]  [32, 88, 16, 16]  123,750           True\n",
       "│    │    └─MBConv (2)                                       [32, 88, 16, 16]  [32, 88, 16, 16]  123,750           True\n",
       "│    │    └─MBConv (3)                                       [32, 88, 16, 16]  [32, 88, 16, 16]  123,750           True\n",
       "│    └─Sequential (5)                                        [32, 88, 16, 16]  [32, 120, 16, 16] --                True\n",
       "│    │    └─MBConv (0)                                       [32, 88, 16, 16]  [32, 120, 16, 16] 149,158           True\n",
       "│    │    └─MBConv (1)                                       [32, 120, 16, 16] [32, 120, 16, 16] 237,870           True\n",
       "│    │    └─MBConv (2)                                       [32, 120, 16, 16] [32, 120, 16, 16] 237,870           True\n",
       "│    │    └─MBConv (3)                                       [32, 120, 16, 16] [32, 120, 16, 16] 237,870           True\n",
       "│    └─Sequential (6)                                        [32, 120, 16, 16] [32, 208, 8, 8]   --                True\n",
       "│    │    └─MBConv (0)                                       [32, 120, 16, 16] [32, 208, 8, 8]   301,406           True\n",
       "│    │    └─MBConv (1)                                       [32, 208, 8, 8]   [32, 208, 8, 8]   686,868           True\n",
       "│    │    └─MBConv (2)                                       [32, 208, 8, 8]   [32, 208, 8, 8]   686,868           True\n",
       "│    │    └─MBConv (3)                                       [32, 208, 8, 8]   [32, 208, 8, 8]   686,868           True\n",
       "│    │    └─MBConv (4)                                       [32, 208, 8, 8]   [32, 208, 8, 8]   686,868           True\n",
       "│    └─Sequential (7)                                        [32, 208, 8, 8]   [32, 352, 8, 8]   --                True\n",
       "│    │    └─MBConv (0)                                       [32, 208, 8, 8]   [32, 352, 8, 8]   846,900           True\n",
       "│    │    └─MBConv (1)                                       [32, 352, 8, 8]   [32, 352, 8, 8]   1,888,920         True\n",
       "│    └─Conv2dNormActivation (8)                              [32, 352, 8, 8]   [32, 1408, 8, 8]  --                True\n",
       "│    │    └─Conv2d (0)                                       [32, 352, 8, 8]   [32, 1408, 8, 8]  495,616           True\n",
       "│    │    └─BatchNorm2d (1)                                  [32, 1408, 8, 8]  [32, 1408, 8, 8]  2,816             True\n",
       "│    │    └─SiLU (2)                                         [32, 1408, 8, 8]  [32, 1408, 8, 8]  --                --\n",
       "├─AdaptiveAvgPool2d (avgpool)                                [32, 1408, 8, 8]  [32, 1408, 1, 1]  --                --\n",
       "├─Sequential (classifier)                                    [32, 1408]        [32, 3]           --                True\n",
       "│    └─Dropout (0)                                           [32, 1408]        [32, 1408]        --                --\n",
       "│    └─Linear (1)                                            [32, 1408]        [32, 3]           4,227             True\n",
       "================================================================================================================================\n",
       "Total params: 7,705,221\n",
       "Trainable params: 7,705,221\n",
       "Non-trainable params: 0\n",
       "Total mult-adds (G): 27.29\n",
       "================================================================================================================================\n",
       "Input size (MB): 24.00\n",
       "Forward/backward pass size (MB): 6413.73\n",
       "Params size (MB): 30.82\n",
       "Estimated Total Size (MB): 6468.55\n",
       "================================================================================================================================"
      ]
     },
     "execution_count": 25,
     "metadata": {},
     "output_type": "execute_result"
    }
   ],
   "source": [
    "# Print out model summary\n",
    "summary(effnet_b2, \n",
    "        input_size=(32, 3, 250, 250), # (batch_size, color_channels, height, width)\n",
    "        verbose=0,\n",
    "        col_names=[\"input_size\", \"output_size\", \"num_params\", \"trainable\"],\n",
    "        col_width=17,\n",
    "        row_settings=[\"var_names\"])"
   ]
  },
  {
   "cell_type": "markdown",
   "id": "242a94b5",
   "metadata": {},
   "source": [
    "#### Set model training parameters (multiple experiments possible)"
   ]
  },
  {
   "cell_type": "code",
   "execution_count": 27,
   "id": "d72975d2",
   "metadata": {},
   "outputs": [
    {
     "name": "stdout",
     "output_type": "stream",
     "text": [
      "Loss weights: tensor([3.5000, 8.0000, 4.5000])\n"
     ]
    }
   ],
   "source": [
    "# 5. set number of samples for each class to consider class imbalance\n",
    "\n",
    "#weight_for_0 = (1 / neg) * (total / 2.0)\n",
    "#weight_for_1 = (1 / pos) * (total / 2.0)\n",
    "\n",
    "\n",
    "\n",
    "#loss_weight = torch.Tensor([3730, 7632, 6578, 553, 312]) # 5 classes\n",
    "#loss_weight = torch.Tensor([11362, 6578, 553, 312]) # 4 classes\n",
    "\n",
    "\n",
    "# Loss weight for 3 classes\n",
    "#loss_weight = torch.Tensor([5.042, 1.274, 60.272]) # 3 classes | 0-10 = healthy, 15-95 = stressed, 99-100 = dead\n",
    "#loss_weight = torch.Tensor([1.655, 2.637, 60.272]) # 3 classes | 0-25 = healthy, 30-95 = stressed, 99-100 = dead\n",
    "#loss_weight = torch.Tensor([1.099, 12.732, 60.272]) # 3 classes| 0-45 = healthy, 50-95 = stressed, 99-100 = dead\n",
    "#num_samples_class = [11362, 7131, 312] # 3 classes| 0-25 = healthy, 30-95 = stressed, 99-100 = dead\n",
    "#num_samples_class = [16296, 2197, 312] # 3 classes| 0-40 = healthy, 45-95 = stressed, 99-100 = dead\n",
    "#num_samples_class = [17016, 1477, 312] # 3 classes| 0-45 = healthy, 50-95 = stressed, 99-100 = dead\n",
    "#num_samples_class = [5999, 748, 109] # Dataset_2020 only | 3 classes| 0-45 = healthy, 50-95 = stressed, 99-100 = dead\n",
    "#loss_weight = [(1. / num_samples_class[i])*(6856 / 2.0) for i in range(len(num_samples_class))]\n",
    "#loss_weight = [(1. / num_samples_class[i])*(18805 / 2.0) for i in range(len(num_samples_class))]\n",
    "#loss_weight = torch.Tensor(loss_weight)\n",
    "loss_weight = torch.Tensor([3.5,8,4.5])\n",
    "print(f\"Loss weights: {loss_weight}\")\n",
    "loss_weight = loss_weight.to(device)\n",
    "# data 2020: [1194, 2516, 2776, 273, 97] (12 = NBV 99)\n",
    "# data 2021: [1097, 2548, 2475, 203, 112] (2 = NBV 99)\n",
    "# data 2022: [1439, 2568, 1327, 912, 88] (1 = NBV 99)"
   ]
  },
  {
   "cell_type": "code",
   "execution_count": 14,
   "id": "1aa9bf51",
   "metadata": {},
   "outputs": [],
   "source": [
    "# 1. Create epochs list\n",
    "num_epochs = [30]\n",
    "\n",
    "# 2. Create models list (need to create a new model for each experiment)\n",
    "models_list = [\"effnet_b0\", \"effnet_b2\", \"effnet_b7\", \"ResNet152\"]\n",
    "\n",
    "# 3. Create dataloaders dictionary for various dataloaders\n",
    "train_dataloaders = {\"train_data\": train_dataloader}\n",
    "\n",
    "# 4. Create target folder name were to save the tensorboard event files\n",
    "target_dir = \"log_test\""
   ]
  },
  {
   "cell_type": "code",
   "execution_count": 15,
   "id": "6e2580ec",
   "metadata": {},
   "outputs": [],
   "source": [
    "###### define Parameters######\n",
    "n_bands = 3 # define number of bands\n",
    "classes = train_dataset.class_names\n",
    "num_classes = len(classes)\n",
    "lr = 0.0009 # define learning rate\n",
    "dropout_rate = 0.3 #define dropout rate\n",
    "unfreeze = True\n",
    "gamma = 0.75 # how fast the learning rate decreases per epoch (low number=faster decrease)\n",
    "#step_size = 10\n",
    "##############################"
   ]
  },
  {
   "cell_type": "markdown",
   "id": "223c8494",
   "metadata": {},
   "source": [
    "#### Start model training"
   ]
  },
  {
   "cell_type": "code",
   "execution_count": null,
   "id": "1813c163",
   "metadata": {
    "scrolled": false
   },
   "outputs": [
    {
     "name": "stdout",
     "output_type": "stream",
     "text": [
      "[INFO] Experiment number: 1\n",
      "[INFO] Model: effnet_b0\n",
      "[INFO] Number of epochs: 30\n",
      "[INFO] Created new effnet_b0 model.\n",
      "[INFO] Created SummaryWriter, saving to: log_test\\2023-03-28\\test\\effnet_b0\\30_epochs...\n"
     ]
    },
    {
     "data": {
      "application/vnd.jupyter.widget-view+json": {
       "model_id": "d82cab7e5e994599accb9234e5d6dc1e",
       "version_major": 2,
       "version_minor": 0
      },
      "text/plain": [
       "  0%|          | 0/30 [00:00<?, ?it/s]"
      ]
     },
     "metadata": {},
     "output_type": "display_data"
    },
    {
     "name": "stdout",
     "output_type": "stream",
     "text": [
      "Learning rate: 0.0009\n",
      "Epoch: 1 \n",
      "Train loss: 0.2216 | Train precision: 0.6818 | Train recall: 0.6834 | Train f1score: 0.6414 | Train acc: 0.6415 \n",
      "Val loss: 0.1469 | Val precision: 0.7945 | Val recall: 0.7122 | Val f1score: 0.6552 | Val acc: 0.8042 \n",
      "\n",
      "Learning rate: 0.000675\n",
      "Epoch: 2 \n",
      "Train loss: 0.1800 | Train precision: 0.7478 | Train recall: 0.7578 | Train f1score: 0.7292 | Train acc: 0.7059 \n",
      "Val loss: 0.2037 | Val precision: 0.7921 | Val recall: 0.6410 | Val f1score: 0.5585 | Val acc: 0.6177 \n",
      "\n",
      "Learning rate: 0.00050625\n",
      "Epoch: 3 \n",
      "Train loss: 0.1668 | Train precision: 0.7501 | Train recall: 0.7673 | Train f1score: 0.7364 | Train acc: 0.7161 \n",
      "Val loss: 0.1435 | Val precision: 0.8077 | Val recall: 0.7009 | Val f1score: 0.6431 | Val acc: 0.7569 \n",
      "\n",
      "Learning rate: 0.0003796875\n",
      "Epoch: 4 \n",
      "Train loss: 0.1563 | Train precision: 0.7702 | Train recall: 0.7825 | Train f1score: 0.7567 | Train acc: 0.7304 \n",
      "Val loss: 0.1340 | Val precision: 0.8148 | Val recall: 0.7052 | Val f1score: 0.6559 | Val acc: 0.7833 \n",
      "\n",
      "Learning rate: 0.00028476562499999997\n",
      "Epoch: 5 \n",
      "Train loss: 0.1528 | Train precision: 0.7758 | Train recall: 0.7835 | Train f1score: 0.7624 | Train acc: 0.7357 \n",
      "Val loss: 0.1217 | Val precision: 0.8214 | Val recall: 0.6974 | Val f1score: 0.6585 | Val acc: 0.8226 \n",
      "\n",
      "Learning rate: 0.00021357421874999998\n",
      "Epoch: 6 \n",
      "Train loss: 0.1450 | Train precision: 0.7861 | Train recall: 0.7958 | Train f1score: 0.7758 | Train acc: 0.7487 \n",
      "Val loss: 0.1288 | Val precision: 0.8088 | Val recall: 0.6744 | Val f1score: 0.6301 | Val acc: 0.7760 \n",
      "\n",
      "Learning rate: 0.00016018066406249998\n",
      "Epoch: 7 \n",
      "Train loss: 0.1360 | Train precision: 0.8015 | Train recall: 0.8114 | Train f1score: 0.7903 | Train acc: 0.7628 \n",
      "Val loss: 0.1095 | Val precision: 0.8281 | Val recall: 0.7202 | Val f1score: 0.6836 | Val acc: 0.8309 \n",
      "\n",
      "Learning rate: 0.00012013549804687498\n",
      "Epoch: 8 \n",
      "Train loss: 0.1324 | Train precision: 0.7997 | Train recall: 0.8108 | Train f1score: 0.7908 | Train acc: 0.7636 \n",
      "Val loss: 0.1294 | Val precision: 0.8246 | Val recall: 0.6561 | Val f1score: 0.6219 | Val acc: 0.7958 \n",
      "\n",
      "Learning rate: 9.010162353515624e-05\n",
      "Epoch: 9 \n",
      "Train loss: 0.1268 | Train precision: 0.8067 | Train recall: 0.8219 | Train f1score: 0.8021 | Train acc: 0.7686 \n",
      "Val loss: 0.1136 | Val precision: 0.8127 | Val recall: 0.7165 | Val f1score: 0.6662 | Val acc: 0.8257 \n",
      "\n",
      "Learning rate: 6.757621765136719e-05\n",
      "Epoch: 10 \n",
      "Train loss: 0.1248 | Train precision: 0.8147 | Train recall: 0.8249 | Train f1score: 0.8075 | Train acc: 0.7750 \n",
      "Val loss: 0.1111 | Val precision: 0.8105 | Val recall: 0.7016 | Val f1score: 0.6553 | Val acc: 0.8194 \n",
      "\n",
      "Learning rate: 5.068216323852539e-05\n",
      "Epoch: 11 \n",
      "Train loss: 0.1177 | Train precision: 0.8250 | Train recall: 0.8382 | Train f1score: 0.8215 | Train acc: 0.7854 \n",
      "Val loss: 0.1117 | Val precision: 0.8138 | Val recall: 0.7046 | Val f1score: 0.6603 | Val acc: 0.8160 \n",
      "\n",
      "Learning rate: 3.801162242889404e-05\n",
      "Epoch: 12 \n",
      "Train loss: 0.1186 | Train precision: 0.8288 | Train recall: 0.8388 | Train f1score: 0.8236 | Train acc: 0.7885 \n",
      "Val loss: 0.1085 | Val precision: 0.8111 | Val recall: 0.7207 | Val f1score: 0.6656 | Val acc: 0.8306 \n",
      "\n",
      "Learning rate: 2.8508716821670532e-05\n",
      "Epoch: 13 \n",
      "Train loss: 0.1171 | Train precision: 0.8323 | Train recall: 0.8392 | Train f1score: 0.8253 | Train acc: 0.7875 \n",
      "Val loss: 0.1169 | Val precision: 0.8103 | Val recall: 0.6885 | Val f1score: 0.6496 | Val acc: 0.8069 \n",
      "\n",
      "Learning rate: 2.1381537616252898e-05\n",
      "Epoch: 14 \n",
      "Train loss: 0.1163 | Train precision: 0.8329 | Train recall: 0.8408 | Train f1score: 0.8265 | Train acc: 0.7922 \n",
      "Val loss: 0.1173 | Val precision: 0.8044 | Val recall: 0.6871 | Val f1score: 0.6413 | Val acc: 0.7983 \n",
      "\n",
      "Learning rate: 1.6036153212189674e-05\n",
      "Epoch: 15 \n",
      "Train loss: 0.1151 | Train precision: 0.8330 | Train recall: 0.8461 | Train f1score: 0.8290 | Train acc: 0.7961 \n",
      "Val loss: 0.1167 | Val precision: 0.7987 | Val recall: 0.6736 | Val f1score: 0.6329 | Val acc: 0.8014 \n",
      "\n",
      "Learning rate: 1.2027114909142255e-05\n",
      "Epoch: 16 \n",
      "Train loss: 0.1133 | Train precision: 0.8338 | Train recall: 0.8442 | Train f1score: 0.8285 | Train acc: 0.7972 \n",
      "Val loss: 0.1084 | Val precision: 0.8041 | Val recall: 0.7012 | Val f1score: 0.6528 | Val acc: 0.8319 \n",
      "\n",
      "Learning rate: 9.02033618185669e-06\n",
      "Epoch: 17 \n",
      "Train loss: 0.1120 | Train precision: 0.8384 | Train recall: 0.8486 | Train f1score: 0.8338 | Train acc: 0.7991 \n",
      "Val loss: 0.1092 | Val precision: 0.8052 | Val recall: 0.7099 | Val f1score: 0.6628 | Val acc: 0.8292 \n",
      "\n",
      "Learning rate: 6.765252136392518e-06\n",
      "Epoch: 18 \n",
      "Train loss: 0.1115 | Train precision: 0.8401 | Train recall: 0.8503 | Train f1score: 0.8378 | Train acc: 0.7980 \n",
      "Val loss: 0.1073 | Val precision: 0.8038 | Val recall: 0.7134 | Val f1score: 0.6631 | Val acc: 0.8406 \n",
      "\n",
      "Learning rate: 5.073939102294388e-06\n",
      "Epoch: 19 \n",
      "Train loss: 0.1106 | Train precision: 0.8394 | Train recall: 0.8488 | Train f1score: 0.8362 | Train acc: 0.8011 \n",
      "Val loss: 0.1200 | Val precision: 0.8052 | Val recall: 0.6927 | Val f1score: 0.6498 | Val acc: 0.8108 \n",
      "\n",
      "Learning rate: 3.805454326720791e-06\n",
      "Epoch: 20 \n",
      "Train loss: 0.1126 | Train precision: 0.8384 | Train recall: 0.8486 | Train f1score: 0.8340 | Train acc: 0.8020 \n",
      "Val loss: 0.1125 | Val precision: 0.8017 | Val recall: 0.6966 | Val f1score: 0.6566 | Val acc: 0.8222 \n",
      "\n",
      "Learning rate: 2.8540907450405933e-06\n",
      "Epoch: 21 \n",
      "Train loss: 0.1079 | Train precision: 0.8395 | Train recall: 0.8509 | Train f1score: 0.8356 | Train acc: 0.8052 \n",
      "Val loss: 0.1158 | Val precision: 0.8056 | Val recall: 0.6851 | Val f1score: 0.6493 | Val acc: 0.8108 \n",
      "\n",
      "Learning rate: 2.140568058780445e-06\n",
      "Epoch: 22 \n",
      "Train loss: 0.1109 | Train precision: 0.8370 | Train recall: 0.8474 | Train f1score: 0.8329 | Train acc: 0.7981 \n",
      "Val loss: 0.1148 | Val precision: 0.8046 | Val recall: 0.6828 | Val f1score: 0.6449 | Val acc: 0.8083 \n",
      "\n",
      "Learning rate: 1.6054260440853339e-06\n",
      "Epoch: 23 \n",
      "Train loss: 0.1113 | Train precision: 0.8382 | Train recall: 0.8503 | Train f1score: 0.8344 | Train acc: 0.7986 \n",
      "Val loss: 0.1203 | Val precision: 0.8027 | Val recall: 0.6995 | Val f1score: 0.6538 | Val acc: 0.8056 \n",
      "\n",
      "Learning rate: 1.2040695330640005e-06\n",
      "Epoch: 24 \n",
      "Train loss: 0.1107 | Train precision: 0.8427 | Train recall: 0.8517 | Train f1score: 0.8387 | Train acc: 0.8036 \n",
      "Val loss: 0.1147 | Val precision: 0.8050 | Val recall: 0.6964 | Val f1score: 0.6510 | Val acc: 0.8160 \n",
      "\n",
      "Learning rate: 9.030521497980004e-07\n",
      "Epoch: 25 \n",
      "Train loss: 0.1110 | Train precision: 0.8421 | Train recall: 0.8527 | Train f1score: 0.8382 | Train acc: 0.8039 \n",
      "Val loss: 0.1213 | Val precision: 0.8041 | Val recall: 0.6957 | Val f1score: 0.6509 | Val acc: 0.8038 \n",
      "\n",
      "Learning rate: 6.772891123485002e-07\n",
      "Epoch: 26 \n",
      "Train loss: 0.1092 | Train precision: 0.8410 | Train recall: 0.8512 | Train f1score: 0.8380 | Train acc: 0.8021 \n",
      "Val loss: 0.1175 | Val precision: 0.8022 | Val recall: 0.6791 | Val f1score: 0.6427 | Val acc: 0.8031 \n",
      "\n",
      "Learning rate: 5.079668342613751e-07\n",
      "Epoch: 27 \n",
      "Train loss: 0.1107 | Train precision: 0.8372 | Train recall: 0.8528 | Train f1score: 0.8371 | Train acc: 0.8012 \n",
      "Val loss: 0.1148 | Val precision: 0.8040 | Val recall: 0.6896 | Val f1score: 0.6498 | Val acc: 0.8104 \n",
      "\n",
      "Learning rate: 3.8097512569603134e-07\n",
      "Epoch: 28 \n",
      "Train loss: 0.1102 | Train precision: 0.8379 | Train recall: 0.8522 | Train f1score: 0.8357 | Train acc: 0.8001 \n",
      "Val loss: 0.1162 | Val precision: 0.8014 | Val recall: 0.6773 | Val f1score: 0.6346 | Val acc: 0.8118 \n",
      "\n",
      "Learning rate: 2.8573134427202353e-07\n",
      "Epoch: 29 \n",
      "Train loss: 0.1113 | Train precision: 0.8378 | Train recall: 0.8474 | Train f1score: 0.8337 | Train acc: 0.7967 \n",
      "Val loss: 0.1175 | Val precision: 0.8071 | Val recall: 0.6920 | Val f1score: 0.6527 | Val acc: 0.8069 \n",
      "\n",
      "Learning rate: 2.1429850820401765e-07\n",
      "Epoch: 30 \n",
      "Train loss: 0.1094 | Train precision: 0.8381 | Train recall: 0.8514 | Train f1score: 0.8357 | Train acc: 0.8020 \n",
      "Val loss: 0.1097 | Val precision: 0.7994 | Val recall: 0.6953 | Val f1score: 0.6552 | Val acc: 0.8344 \n",
      "\n",
      "--------------------------------------------------\n",
      "\n",
      "[INFO] Experiment number: 2\n",
      "[INFO] Model: effnet_b2\n",
      "[INFO] Number of epochs: 30\n",
      "[INFO] Created new effnet_b2 model.\n",
      "[INFO] Created SummaryWriter, saving to: log_test\\2023-03-28\\test\\effnet_b2\\30_epochs...\n"
     ]
    },
    {
     "data": {
      "application/vnd.jupyter.widget-view+json": {
       "model_id": "1b409fac26de46dc9d1cdfc91b29e0ad",
       "version_major": 2,
       "version_minor": 0
      },
      "text/plain": [
       "  0%|          | 0/30 [00:00<?, ?it/s]"
      ]
     },
     "metadata": {},
     "output_type": "display_data"
    },
    {
     "name": "stdout",
     "output_type": "stream",
     "text": [
      "Learning rate: 0.0009\n",
      "Epoch: 1 \n",
      "Train loss: 0.2233 | Train precision: 0.6890 | Train recall: 0.6907 | Train f1score: 0.6462 | Train acc: 0.6517 \n",
      "Val loss: 0.1101 | Val precision: 0.7986 | Val recall: 0.7406 | Val f1score: 0.6836 | Val acc: 0.8448 \n",
      "\n",
      "Learning rate: 0.000675\n",
      "Epoch: 2 \n",
      "Train loss: 0.1818 | Train precision: 0.7408 | Train recall: 0.7574 | Train f1score: 0.7257 | Train acc: 0.7058 \n",
      "Val loss: 0.1695 | Val precision: 0.8077 | Val recall: 0.6921 | Val f1score: 0.6453 | Val acc: 0.7576 \n",
      "\n",
      "Learning rate: 0.00050625\n",
      "Epoch: 3 \n",
      "Train loss: 0.1672 | Train precision: 0.7481 | Train recall: 0.7670 | Train f1score: 0.7377 | Train acc: 0.7108 \n",
      "Val loss: 0.1202 | Val precision: 0.8077 | Val recall: 0.7331 | Val f1score: 0.6873 | Val acc: 0.8538 \n",
      "\n",
      "Learning rate: 0.0003796875\n",
      "Epoch: 4 \n",
      "Train loss: 0.1599 | Train precision: 0.7677 | Train recall: 0.7774 | Train f1score: 0.7550 | Train acc: 0.7261 \n",
      "Val loss: 0.1674 | Val precision: 0.8281 | Val recall: 0.6476 | Val f1score: 0.5947 | Val acc: 0.7146 \n",
      "\n",
      "Learning rate: 0.00028476562499999997\n",
      "Epoch: 5 \n",
      "Train loss: 0.1499 | Train precision: 0.7748 | Train recall: 0.7883 | Train f1score: 0.7663 | Train acc: 0.7318 \n",
      "Val loss: 0.1363 | Val precision: 0.8121 | Val recall: 0.6832 | Val f1score: 0.6376 | Val acc: 0.7417 \n",
      "\n",
      "Learning rate: 0.00021357421874999998\n",
      "Epoch: 6 \n",
      "Train loss: 0.1439 | Train precision: 0.7863 | Train recall: 0.8006 | Train f1score: 0.7786 | Train acc: 0.7496 \n",
      "Val loss: 0.1414 | Val precision: 0.8212 | Val recall: 0.6859 | Val f1score: 0.6433 | Val acc: 0.7503 \n",
      "\n",
      "Learning rate: 0.00016018066406249998\n",
      "Epoch: 7 \n",
      "Train loss: 0.1394 | Train precision: 0.7922 | Train recall: 0.8077 | Train f1score: 0.7860 | Train acc: 0.7563 \n",
      "Val loss: 0.1056 | Val precision: 0.8284 | Val recall: 0.7409 | Val f1score: 0.7062 | Val acc: 0.8441 \n",
      "\n",
      "Learning rate: 0.00012013549804687498\n",
      "Epoch: 8 \n",
      "Train loss: 0.1324 | Train precision: 0.7984 | Train recall: 0.8116 | Train f1score: 0.7887 | Train acc: 0.7595 \n",
      "Val loss: 0.1294 | Val precision: 0.8242 | Val recall: 0.7000 | Val f1score: 0.6592 | Val acc: 0.7785 \n",
      "\n",
      "Learning rate: 9.010162353515624e-05\n",
      "Epoch: 9 \n",
      "Train loss: 0.1265 | Train precision: 0.8123 | Train recall: 0.8254 | Train f1score: 0.8078 | Train acc: 0.7707 \n",
      "Val loss: 0.1353 | Val precision: 0.8215 | Val recall: 0.6937 | Val f1score: 0.6624 | Val acc: 0.8302 \n",
      "\n",
      "Learning rate: 6.757621765136719e-05\n",
      "Epoch: 10 \n",
      "Train loss: 0.1220 | Train precision: 0.8240 | Train recall: 0.8324 | Train f1score: 0.8178 | Train acc: 0.7807 \n",
      "Val loss: 0.1224 | Val precision: 0.8099 | Val recall: 0.6988 | Val f1score: 0.6603 | Val acc: 0.8104 \n",
      "\n",
      "Learning rate: 5.068216323852539e-05\n",
      "Epoch: 11 \n",
      "Train loss: 0.1170 | Train precision: 0.8305 | Train recall: 0.8416 | Train f1score: 0.8273 | Train acc: 0.7882 \n",
      "Val loss: 0.1468 | Val precision: 0.8048 | Val recall: 0.6832 | Val f1score: 0.6440 | Val acc: 0.8080 \n",
      "\n",
      "Learning rate: 3.801162242889404e-05\n",
      "Epoch: 12 \n",
      "Train loss: 0.1178 | Train precision: 0.8257 | Train recall: 0.8391 | Train f1score: 0.8236 | Train acc: 0.7853 \n",
      "Val loss: 0.1184 | Val precision: 0.8190 | Val recall: 0.7047 | Val f1score: 0.6654 | Val acc: 0.8115 \n",
      "\n",
      "Learning rate: 2.8508716821670532e-05\n",
      "Epoch: 13 \n",
      "Train loss: 0.1146 | Train precision: 0.8347 | Train recall: 0.8456 | Train f1score: 0.8311 | Train acc: 0.7907 \n",
      "Val loss: 0.1365 | Val precision: 0.8127 | Val recall: 0.7021 | Val f1score: 0.6544 | Val acc: 0.8069 \n",
      "\n",
      "Learning rate: 2.1381537616252898e-05\n",
      "Epoch: 14 \n",
      "Train loss: 0.1152 | Train precision: 0.8313 | Train recall: 0.8393 | Train f1score: 0.8244 | Train acc: 0.7901 \n",
      "Val loss: 0.1525 | Val precision: 0.8121 | Val recall: 0.6915 | Val f1score: 0.6532 | Val acc: 0.8069 \n",
      "\n",
      "Learning rate: 1.6036153212189674e-05\n",
      "Epoch: 15 \n",
      "Train loss: 0.1125 | Train precision: 0.8350 | Train recall: 0.8483 | Train f1score: 0.8303 | Train acc: 0.7984 \n",
      "Val loss: 0.1462 | Val precision: 0.8157 | Val recall: 0.6938 | Val f1score: 0.6560 | Val acc: 0.8181 \n",
      "\n",
      "Learning rate: 1.2027114909142255e-05\n",
      "Epoch: 16 \n",
      "Train loss: 0.1110 | Train precision: 0.8366 | Train recall: 0.8509 | Train f1score: 0.8333 | Train acc: 0.8003 \n",
      "Val loss: 0.1321 | Val precision: 0.8112 | Val recall: 0.6981 | Val f1score: 0.6596 | Val acc: 0.8208 \n",
      "\n",
      "Learning rate: 9.02033618185669e-06\n",
      "Epoch: 17 \n",
      "Train loss: 0.1111 | Train precision: 0.8403 | Train recall: 0.8505 | Train f1score: 0.8369 | Train acc: 0.7992 \n",
      "Val loss: 0.1261 | Val precision: 0.8097 | Val recall: 0.6817 | Val f1score: 0.6429 | Val acc: 0.8142 \n",
      "\n",
      "Learning rate: 6.765252136392518e-06\n",
      "Epoch: 18 \n",
      "Train loss: 0.1090 | Train precision: 0.8407 | Train recall: 0.8515 | Train f1score: 0.8368 | Train acc: 0.8009 \n",
      "Val loss: 0.1239 | Val precision: 0.8056 | Val recall: 0.6838 | Val f1score: 0.6429 | Val acc: 0.8038 \n",
      "\n",
      "Learning rate: 5.073939102294388e-06\n",
      "Epoch: 19 \n",
      "Train loss: 0.1089 | Train precision: 0.8484 | Train recall: 0.8557 | Train f1score: 0.8437 | Train acc: 0.8084 \n",
      "Val loss: 0.1382 | Val precision: 0.8054 | Val recall: 0.6805 | Val f1score: 0.6397 | Val acc: 0.8059 \n",
      "\n",
      "Learning rate: 3.805454326720791e-06\n",
      "Epoch: 20 \n",
      "Train loss: 0.1090 | Train precision: 0.8422 | Train recall: 0.8562 | Train f1score: 0.8393 | Train acc: 0.8062 \n",
      "Val loss: 0.1406 | Val precision: 0.8069 | Val recall: 0.6798 | Val f1score: 0.6403 | Val acc: 0.8125 \n",
      "\n",
      "Learning rate: 2.8540907450405933e-06\n",
      "Epoch: 21 \n",
      "Train loss: 0.1072 | Train precision: 0.8458 | Train recall: 0.8576 | Train f1score: 0.8427 | Train acc: 0.8109 \n",
      "Val loss: 0.1235 | Val precision: 0.8023 | Val recall: 0.6927 | Val f1score: 0.6498 | Val acc: 0.8163 \n",
      "\n",
      "Learning rate: 2.140568058780445e-06\n",
      "Epoch: 22 \n",
      "Train loss: 0.1073 | Train precision: 0.8398 | Train recall: 0.8505 | Train f1score: 0.8357 | Train acc: 0.8033 \n",
      "Val loss: 0.1306 | Val precision: 0.8044 | Val recall: 0.6860 | Val f1score: 0.6404 | Val acc: 0.7948 \n",
      "\n",
      "Learning rate: 1.6054260440853339e-06\n",
      "Epoch: 23 \n",
      "Train loss: 0.1103 | Train precision: 0.8410 | Train recall: 0.8513 | Train f1score: 0.8364 | Train acc: 0.7998 \n",
      "Val loss: 0.1565 | Val precision: 0.8033 | Val recall: 0.6839 | Val f1score: 0.6431 | Val acc: 0.8052 \n",
      "\n",
      "Learning rate: 1.2040695330640005e-06\n",
      "Epoch: 24 \n",
      "Train loss: 0.1083 | Train precision: 0.8457 | Train recall: 0.8545 | Train f1score: 0.8425 | Train acc: 0.8050 \n",
      "Val loss: 0.1668 | Val precision: 0.8037 | Val recall: 0.6779 | Val f1score: 0.6356 | Val acc: 0.7941 \n",
      "\n",
      "Learning rate: 9.030521497980004e-07\n",
      "Epoch: 25 \n",
      "Train loss: 0.1099 | Train precision: 0.8414 | Train recall: 0.8499 | Train f1score: 0.8360 | Train acc: 0.7990 \n",
      "Val loss: 0.1396 | Val precision: 0.8036 | Val recall: 0.6878 | Val f1score: 0.6477 | Val acc: 0.8115 \n",
      "\n",
      "Learning rate: 6.772891123485002e-07\n",
      "Epoch: 26 \n",
      "Train loss: 0.1070 | Train precision: 0.8473 | Train recall: 0.8568 | Train f1score: 0.8438 | Train acc: 0.8087 \n",
      "Val loss: 0.1281 | Val precision: 0.8067 | Val recall: 0.6889 | Val f1score: 0.6475 | Val acc: 0.8024 \n",
      "\n",
      "Learning rate: 5.079668342613751e-07\n",
      "Epoch: 27 \n",
      "Train loss: 0.1079 | Train precision: 0.8402 | Train recall: 0.8543 | Train f1score: 0.8388 | Train acc: 0.8034 \n",
      "Val loss: 0.1301 | Val precision: 0.7998 | Val recall: 0.6858 | Val f1score: 0.6405 | Val acc: 0.8031 \n",
      "\n",
      "Learning rate: 3.8097512569603134e-07\n",
      "Epoch: 28 \n",
      "Train loss: 0.1090 | Train precision: 0.8388 | Train recall: 0.8528 | Train f1score: 0.8357 | Train acc: 0.8015 \n",
      "Val loss: 0.1658 | Val precision: 0.8033 | Val recall: 0.6870 | Val f1score: 0.6453 | Val acc: 0.8021 \n",
      "\n",
      "Learning rate: 2.8573134427202353e-07\n",
      "Epoch: 29 \n",
      "Train loss: 0.1081 | Train precision: 0.8443 | Train recall: 0.8557 | Train f1score: 0.8414 | Train acc: 0.8033 \n",
      "Val loss: 0.1381 | Val precision: 0.8097 | Val recall: 0.6933 | Val f1score: 0.6476 | Val acc: 0.7979 \n",
      "\n",
      "Learning rate: 2.1429850820401765e-07\n",
      "Epoch: 30 \n",
      "Train loss: 0.1079 | Train precision: 0.8391 | Train recall: 0.8523 | Train f1score: 0.8369 | Train acc: 0.8012 \n",
      "Val loss: 0.1229 | Val precision: 0.8144 | Val recall: 0.6895 | Val f1score: 0.6498 | Val acc: 0.8167 \n",
      "\n",
      "--------------------------------------------------\n",
      "\n",
      "[INFO] Experiment number: 3\n",
      "[INFO] Model: effnet_b7\n",
      "[INFO] Number of epochs: 30\n",
      "[INFO] Created new effnet_b7 model.\n",
      "[INFO] Created SummaryWriter, saving to: log_test\\2023-03-28\\test\\effnet_b7\\30_epochs...\n"
     ]
    },
    {
     "data": {
      "application/vnd.jupyter.widget-view+json": {
       "model_id": "c7ad34a47acf4280bf63d5ff07a4d17a",
       "version_major": 2,
       "version_minor": 0
      },
      "text/plain": [
       "  0%|          | 0/30 [00:00<?, ?it/s]"
      ]
     },
     "metadata": {},
     "output_type": "display_data"
    },
    {
     "name": "stdout",
     "output_type": "stream",
     "text": [
      "Learning rate: 0.0009\n",
      "Epoch: 1 \n",
      "Train loss: 0.2235 | Train precision: 0.6955 | Train recall: 0.6937 | Train f1score: 0.6458 | Train acc: 0.6586 \n",
      "Val loss: 0.1335 | Val precision: 0.7852 | Val recall: 0.7364 | Val f1score: 0.6161 | Val acc: 0.8955 \n",
      "\n",
      "Learning rate: 0.000675\n",
      "Epoch: 2 \n",
      "Train loss: 0.1771 | Train precision: 0.7562 | Train recall: 0.7624 | Train f1score: 0.7344 | Train acc: 0.7139 \n",
      "Val loss: 0.0876 | Val precision: 0.7992 | Val recall: 0.7954 | Val f1score: 0.6906 | Val acc: 0.9128 \n",
      "\n",
      "Learning rate: 0.00050625\n",
      "Epoch: 3 \n",
      "Train loss: 0.1590 | Train precision: 0.7717 | Train recall: 0.7841 | Train f1score: 0.7570 | Train acc: 0.7372 \n",
      "Val loss: 0.1823 | Val precision: 0.8127 | Val recall: 0.6399 | Val f1score: 0.5791 | Val acc: 0.6760 \n",
      "\n",
      "Learning rate: 0.0003796875\n",
      "Epoch: 4 \n",
      "Train loss: 0.1499 | Train precision: 0.7841 | Train recall: 0.7946 | Train f1score: 0.7708 | Train acc: 0.7487 \n",
      "Val loss: 0.1435 | Val precision: 0.8100 | Val recall: 0.6659 | Val f1score: 0.6257 | Val acc: 0.7823 \n",
      "\n",
      "Learning rate: 0.00028476562499999997\n",
      "Epoch: 5 \n",
      "Train loss: 0.1411 | Train precision: 0.7981 | Train recall: 0.8088 | Train f1score: 0.7867 | Train acc: 0.7628 \n",
      "Val loss: 0.1559 | Val precision: 0.8231 | Val recall: 0.6840 | Val f1score: 0.6393 | Val acc: 0.7427 \n",
      "\n",
      "Learning rate: 0.00021357421874999998\n",
      "Epoch: 6 \n",
      "Train loss: 0.1267 | Train precision: 0.8198 | Train recall: 0.8323 | Train f1score: 0.8137 | Train acc: 0.7869 \n",
      "Val loss: 0.1430 | Val precision: 0.8327 | Val recall: 0.7067 | Val f1score: 0.6668 | Val acc: 0.7750 \n",
      "\n",
      "Learning rate: 0.00016018066406249998\n",
      "Epoch: 7 \n",
      "Train loss: 0.1223 | Train precision: 0.8265 | Train recall: 0.8426 | Train f1score: 0.8224 | Train acc: 0.7918 \n",
      "Val loss: 0.0872 | Val precision: 0.8294 | Val recall: 0.7819 | Val f1score: 0.7293 | Val acc: 0.8965 \n",
      "\n",
      "Learning rate: 0.00012013549804687498\n",
      "Epoch: 8 \n",
      "Train loss: 0.1158 | Train precision: 0.8346 | Train recall: 0.8467 | Train f1score: 0.8288 | Train acc: 0.7981 \n",
      "Val loss: 0.1025 | Val precision: 0.8328 | Val recall: 0.7262 | Val f1score: 0.6942 | Val acc: 0.8559 \n",
      "\n",
      "Learning rate: 9.010162353515624e-05\n",
      "Epoch: 9 \n",
      "Train loss: 0.1086 | Train precision: 0.8469 | Train recall: 0.8601 | Train f1score: 0.8439 | Train acc: 0.8122 \n",
      "Val loss: 0.1007 | Val precision: 0.8239 | Val recall: 0.7666 | Val f1score: 0.7176 | Val acc: 0.8715 \n",
      "\n",
      "Learning rate: 6.757621765136719e-05\n",
      "Epoch: 10 \n",
      "Train loss: 0.1007 | Train precision: 0.8590 | Train recall: 0.8679 | Train f1score: 0.8545 | Train acc: 0.8220 \n",
      "Val loss: 0.1125 | Val precision: 0.8342 | Val recall: 0.7363 | Val f1score: 0.6975 | Val acc: 0.8396 \n",
      "\n",
      "Learning rate: 5.068216323852539e-05\n",
      "Epoch: 11 \n",
      "Train loss: 0.0962 | Train precision: 0.8689 | Train recall: 0.8792 | Train f1score: 0.8671 | Train acc: 0.8339 \n",
      "Val loss: 0.1004 | Val precision: 0.8263 | Val recall: 0.7509 | Val f1score: 0.7101 | Val acc: 0.8649 \n",
      "\n",
      "Learning rate: 3.801162242889404e-05\n",
      "Epoch: 12 \n",
      "Train loss: 0.0942 | Train precision: 0.8705 | Train recall: 0.8838 | Train f1score: 0.8692 | Train acc: 0.8375 \n",
      "Val loss: 0.1090 | Val precision: 0.8263 | Val recall: 0.7295 | Val f1score: 0.6900 | Val acc: 0.8427 \n",
      "\n",
      "Learning rate: 2.8508716821670532e-05\n",
      "Epoch: 13 \n",
      "Train loss: 0.0906 | Train precision: 0.8770 | Train recall: 0.8874 | Train f1score: 0.8746 | Train acc: 0.8448 \n",
      "Val loss: 0.1026 | Val precision: 0.8214 | Val recall: 0.7522 | Val f1score: 0.7071 | Val acc: 0.8632 \n",
      "\n",
      "Learning rate: 2.1381537616252898e-05\n",
      "Epoch: 14 \n",
      "Train loss: 0.0901 | Train precision: 0.8792 | Train recall: 0.8887 | Train f1score: 0.8770 | Train acc: 0.8448 \n",
      "Val loss: 0.0977 | Val precision: 0.8380 | Val recall: 0.7245 | Val f1score: 0.6983 | Val acc: 0.8767 \n",
      "\n",
      "Learning rate: 1.6036153212189674e-05\n",
      "Epoch: 15 \n",
      "Train loss: 0.0872 | Train precision: 0.8850 | Train recall: 0.8975 | Train f1score: 0.8842 | Train acc: 0.8544 \n",
      "Val loss: 0.1070 | Val precision: 0.8363 | Val recall: 0.7414 | Val f1score: 0.7099 | Val acc: 0.8569 \n",
      "\n",
      "Learning rate: 1.2027114909142255e-05\n",
      "Epoch: 16 \n",
      "Train loss: 0.0857 | Train precision: 0.8849 | Train recall: 0.8959 | Train f1score: 0.8832 | Train acc: 0.8540 \n",
      "Val loss: 0.1122 | Val precision: 0.8336 | Val recall: 0.7316 | Val f1score: 0.6927 | Val acc: 0.8542 \n",
      "\n",
      "Learning rate: 9.02033618185669e-06\n",
      "Epoch: 17 \n",
      "Train loss: 0.0868 | Train precision: 0.8830 | Train recall: 0.8924 | Train f1score: 0.8808 | Train acc: 0.8488 \n",
      "Val loss: 0.1060 | Val precision: 0.8205 | Val recall: 0.7295 | Val f1score: 0.6910 | Val acc: 0.8608 \n",
      "\n",
      "Learning rate: 6.765252136392518e-06\n",
      "Epoch: 18 \n",
      "Train loss: 0.0822 | Train precision: 0.8897 | Train recall: 0.8997 | Train f1score: 0.8872 | Train acc: 0.8587 \n",
      "Val loss: 0.1079 | Val precision: 0.8253 | Val recall: 0.7364 | Val f1score: 0.6968 | Val acc: 0.8615 \n",
      "\n",
      "Learning rate: 5.073939102294388e-06\n",
      "Epoch: 19 \n",
      "Train loss: 0.0827 | Train precision: 0.8908 | Train recall: 0.9002 | Train f1score: 0.8891 | Train acc: 0.8602 \n",
      "Val loss: 0.1101 | Val precision: 0.8313 | Val recall: 0.7393 | Val f1score: 0.7000 | Val acc: 0.8580 \n",
      "\n",
      "Learning rate: 3.805454326720791e-06\n",
      "Epoch: 20 \n",
      "Train loss: 0.0820 | Train precision: 0.8933 | Train recall: 0.9031 | Train f1score: 0.8916 | Train acc: 0.8630 \n",
      "Val loss: 0.1093 | Val precision: 0.8269 | Val recall: 0.7311 | Val f1score: 0.6925 | Val acc: 0.8562 \n",
      "\n",
      "Learning rate: 2.8540907450405933e-06\n",
      "Epoch: 21 \n",
      "Train loss: 0.0805 | Train precision: 0.8915 | Train recall: 0.9007 | Train f1score: 0.8895 | Train acc: 0.8616 \n",
      "Val loss: 0.1094 | Val precision: 0.8241 | Val recall: 0.7433 | Val f1score: 0.7034 | Val acc: 0.8604 \n",
      "\n",
      "Learning rate: 2.140568058780445e-06\n",
      "Epoch: 22 \n",
      "Train loss: 0.0804 | Train precision: 0.8942 | Train recall: 0.8998 | Train f1score: 0.8906 | Train acc: 0.8606 \n",
      "Val loss: 0.1109 | Val precision: 0.8219 | Val recall: 0.7268 | Val f1score: 0.6887 | Val acc: 0.8545 \n",
      "\n",
      "Learning rate: 1.6054260440853339e-06\n",
      "Epoch: 23 \n",
      "Train loss: 0.0834 | Train precision: 0.8911 | Train recall: 0.9010 | Train f1score: 0.8899 | Train acc: 0.8573 \n",
      "Val loss: 0.1100 | Val precision: 0.8299 | Val recall: 0.7368 | Val f1score: 0.6951 | Val acc: 0.8569 \n",
      "\n",
      "Learning rate: 1.2040695330640005e-06\n",
      "Epoch: 24 \n",
      "Train loss: 0.0816 | Train precision: 0.8947 | Train recall: 0.9007 | Train f1score: 0.8912 | Train acc: 0.8637 \n",
      "Val loss: 0.1104 | Val precision: 0.8286 | Val recall: 0.7362 | Val f1score: 0.6937 | Val acc: 0.8549 \n",
      "\n",
      "Learning rate: 9.030521497980004e-07\n",
      "Epoch: 25 \n",
      "Train loss: 0.0826 | Train precision: 0.8862 | Train recall: 0.8971 | Train f1score: 0.8850 | Train acc: 0.8544 \n",
      "Val loss: 0.1100 | Val precision: 0.8238 | Val recall: 0.7376 | Val f1score: 0.6958 | Val acc: 0.8597 \n",
      "\n",
      "Learning rate: 6.772891123485002e-07\n",
      "Epoch: 26 \n",
      "Train loss: 0.0785 | Train precision: 0.8990 | Train recall: 0.9078 | Train f1score: 0.8978 | Train acc: 0.8678 \n",
      "Val loss: 0.1123 | Val precision: 0.8293 | Val recall: 0.7303 | Val f1score: 0.6936 | Val acc: 0.8528 \n",
      "\n",
      "Learning rate: 5.079668342613751e-07\n",
      "Epoch: 27 \n",
      "Train loss: 0.0801 | Train precision: 0.8933 | Train recall: 0.9028 | Train f1score: 0.8925 | Train acc: 0.8624 \n",
      "Val loss: 0.1098 | Val precision: 0.8255 | Val recall: 0.7338 | Val f1score: 0.6915 | Val acc: 0.8562 \n",
      "\n",
      "Learning rate: 3.8097512569603134e-07\n",
      "Epoch: 28 \n",
      "Train loss: 0.0819 | Train precision: 0.8894 | Train recall: 0.9002 | Train f1score: 0.8889 | Train acc: 0.8588 \n",
      "Val loss: 0.1104 | Val precision: 0.8283 | Val recall: 0.7320 | Val f1score: 0.6935 | Val acc: 0.8542 \n",
      "\n"
     ]
    }
   ],
   "source": [
    "%%time\n",
    "\n",
    "# 1. Set the random seeds\n",
    "set_seeds(seed=0)\n",
    "\n",
    "# 2. Keep track of experiment numbers\n",
    "experiment_number = 0\n",
    "\n",
    "# 4. Loop through each number of epochs\n",
    "for epochs in num_epochs:\n",
    "    # 5. Loop through each model name and create a new model based on the name\n",
    "    for model_name in models_list:\n",
    "        # 6. Create information print outs\n",
    "        experiment_number += 1\n",
    "        print(f\"[INFO] Experiment number: {experiment_number}\")\n",
    "        print(f\"[INFO] Model: {model_name}\")\n",
    "        print(f\"[INFO] Number of epochs: {epochs}\")\n",
    "        \n",
    "        # 7. Select the model\n",
    "        if model_name == \"effnet_b0\":\n",
    "            model = models.create_effnetb0(output_shape=num_classes, unfreeze=unfreeze, dropout_rate=dropout_rate, device=device)\n",
    "        elif model_name == \"effnet_b2\":\n",
    "            model = models.create_effnetb2(output_shape=num_classes, unfreeze=unfreeze, dropout_rate=dropout_rate, device=device)\n",
    "        elif model_name == \"effnet_b7\":\n",
    "            model = models.create_effnetb7(output_shape=num_classes, unfreeze=unfreeze, dropout_rate=dropout_rate, device=device)\n",
    "        else:\n",
    "            model = models.create_resnet152(output_shape=num_classes, unfreeze=unfreeze, device=device)\n",
    "                     \n",
    "        # 8. Create a new loss and optimizer for every model\n",
    "        #loss_fn = nn.CrossEntropyLoss()\n",
    "        loss_fn = FocalLoss(gamma=2)\n",
    "        optimizer = torch.optim.Adam(params=model.parameters(), lr=lr)\n",
    "        #lr_scheduler = StepLR(optimizer, step_size=step_size, gamma=gamma)\n",
    "        lr_scheduler = ExponentialLR(optimizer, gamma=gamma)\n",
    "        \n",
    "        # 9. Train target model with target dataloaders and track experiments\n",
    "        results = train(model=model,\n",
    "                        model_name=model_name,\n",
    "                        n_bands=n_bands,\n",
    "                        batch_size=batch_size,\n",
    "                        train_dataloader=train_dataloader,\n",
    "                        val_dataloader=val_dataloader, \n",
    "                        optimizer=optimizer,\n",
    "                        loss_fn=loss_fn,\n",
    "                        lr_scheduler=lr_scheduler,\n",
    "                        num_classes=num_classes,\n",
    "                        epochs=epochs,\n",
    "                        device=device,\n",
    "                        writer=create_writer(target_dir=target_dir,\n",
    "                                             experiment_name='test',\n",
    "                                             model_name=model_name,\n",
    "                                             extra=f\"{epochs}_epochs\"))\n",
    "        \n",
    "        # 10. Save the model to file so we can get back the best model\n",
    "        save_filepath = f\"01_{model_name}_{epochs}_epochs.pth\"\n",
    "        save_model(model=model,\n",
    "                   target_dir=\"finished_models\",\n",
    "                   model_name=save_filepath)\n",
    "        print(\"-\"*50 + \"\\n\")"
   ]
  },
  {
   "cell_type": "code",
   "execution_count": 148,
   "id": "6dfbc663",
   "metadata": {},
   "outputs": [],
   "source": [
    "def make_predictions(model: torch.nn.Module, \n",
    "                     test_dataloader: torch.utils.data.DataLoader,\n",
    "                     device: torch.device):\n",
    "    # 1. Make predictions with trained model\n",
    "    y_preds = []\n",
    "    y_labels = []\n",
    "    test_loss, test_precision, test_recall, test_f1_score, test_acc = 0, 0, 0, 0, 0\n",
    "    count = 0\n",
    "    model.eval()\n",
    "    with torch.inference_mode():\n",
    "        for X, y in tqdm(test_dataloader, desc=\"Making predictions\"):\n",
    "            # Send data and targets to target device\n",
    "            X, y = X.to(device), y.to(device)\n",
    "            # Do the forward pass\n",
    "            y_logit = model(X)\n",
    "            # Turn predictions from logits -> prediction probabilities -> predictions labels\n",
    "            y_pred = torch.softmax(y_logit, dim=1).argmax(dim=1)\n",
    "            # Put predictions on CPU for evaluation\n",
    "            y_preds.append(y_pred.cpu())\n",
    "            y_labels.append(y.cpu())\n",
    "            \n",
    "            #other metrics\n",
    "            test_acc += ((y_pred == y).sum().item()/len(y_pred))\n",
    "            y_pred_class = y_pred.detach().cpu().numpy() \n",
    "            y_class = y.detach().cpu().numpy()\n",
    "            labels = np.array([0])\n",
    "            test_precision += precision_score(y_class, y_pred_class, average='macro', zero_division=0, labels=[0,1,2])\n",
    "            test_recall += recall_score(y_class, y_pred_class, average='macro', zero_division=0, labels=[0,1,2])\n",
    "            #test_f1_score += f1_score(y_class, y_pred_class, average='macro', zero_division=1, labels=labels)\n",
    "            \n",
    "            #if count >= 1:\n",
    "            #    y_set = torch.cat((y_set, y))\n",
    "            #    count = count + 1\n",
    "            #else:\n",
    "            #    y_set = y\n",
    "            #    count = count + 1\n",
    "            \n",
    "    test_loss = test_loss / len(test_dataloader)\n",
    "    test_precision = test_precision / len(test_dataloader)\n",
    "    test_recall = test_recall / len(test_dataloader)\n",
    "    test_f1_score = test_f1_score / len(test_dataloader)\n",
    "    #test_kappa = test_kappa / len(dataloader)\n",
    "    test_acc = test_acc / len(test_dataloader)\n",
    "    # Concatenate list of predictions into a tensor\n",
    "    y_pred_tensor = torch.cat(y_preds)\n",
    "    y_labels_tensor = torch.cat(y_labels)\n",
    "    test_f1_score = f1_score(y_set.detach().cpu().numpy(), y_pred_tensor.cpu().numpy(), average='macro', zero_division=1, labels=labels)\n",
    "    \n",
    "    # Print classification report\n",
    "    y_true = y_set.detach().cpu().numpy()\n",
    "    report = classification_report(y_true, y_pred_tensor.cpu().numpy(), target_names=class_names)\n",
    "    print(report)\n",
    "    \n",
    "    return y_pred_tensor, y_labels_tensor, test_loss, test_recall, test_precision, test_f1_score, test_acc, y_set, y_logit, y_pred, y, y_preds"
   ]
  },
  {
   "cell_type": "code",
   "execution_count": 149,
   "id": "aab9e321",
   "metadata": {},
   "outputs": [
    {
     "data": {
      "application/vnd.jupyter.widget-view+json": {
       "model_id": "6b2ce14cd9ed4a5e8f613857369477c1",
       "version_major": 2,
       "version_minor": 0
      },
      "text/plain": [
       "Making predictions:   0%|          | 0/156 [00:00<?, ?it/s]"
      ]
     },
     "metadata": {},
     "output_type": "display_data"
    },
    {
     "name": "stdout",
     "output_type": "stream",
     "text": [
      "              precision    recall  f1-score   support\n",
      "\n",
      "     healthy       0.94      0.90      0.92      2228\n",
      "    stressed       0.42      0.31      0.35       226\n",
      "        dead       0.19      0.83      0.32        42\n",
      "\n",
      "    accuracy                           0.85      2496\n",
      "   macro avg       0.52      0.68      0.53      2496\n",
      "weighted avg       0.88      0.85      0.86      2496\n",
      "\n",
      "Test loss: 0.0\n",
      "Test precision: 0.4021475793911698\n",
      "Test recall: 0.3862249247665917\n",
      "Test F1score: 0.9186843307446322\n",
      "Test Accuracy: 0.8473557692307693\n",
      "Test Logits: tensor([[ 2.7277, -0.1108, -5.9813],\n",
      "        [ 2.9512, -0.7074, -5.6070],\n",
      "        [ 2.4590,  0.1941, -6.0415],\n",
      "        [-2.2592, -0.8720,  4.9318],\n",
      "        [ 1.8100,  0.5608, -5.3652],\n",
      "        [ 0.5846,  0.6723, -2.6394],\n",
      "        [ 2.1501,  0.0477, -4.7180],\n",
      "        [ 1.0488,  1.0679, -4.8205],\n",
      "        [ 1.9619,  0.5819, -5.7639],\n",
      "        [ 1.9050,  0.3743, -5.0034],\n",
      "        [ 2.7962,  0.0520, -6.7043],\n",
      "        [ 2.3435,  0.0892, -5.5357],\n",
      "        [ 1.2400,  0.0939, -2.2995],\n",
      "        [ 1.7667,  0.6690, -5.4853],\n",
      "        [ 2.5512,  0.0906, -6.1262],\n",
      "        [ 1.7074,  0.5259, -4.9187]], device='cuda:0')\n",
      "Test Predictions: tensor([0, 0, 0, 2, 0, 1, 0, 1, 0, 0, 0, 0, 0, 0, 0, 0], device='cuda:0')\n",
      "Test Labels: tensor([0, 0, 0, 0, 0, 0, 0, 0, 0, 0, 0, 0, 0, 0, 0, 0], device='cuda:0')\n"
     ]
    },
    {
     "data": {
      "image/png": "[encoded data removed]",
      "text/plain": [
       "<Figure size 720x504 with 1 Axes>"
      ]
     },
     "metadata": {
      "needs_background": "light"
     },
     "output_type": "display_data"
    }
   ],
   "source": [
    "# 2. Setup confusion matrix instance and compare predictions to targets\n",
    "#from wze_uav.analysis import *\n",
    "y_pred_tensor, y_labels_tensor, test_loss, test_recall, test_precision, test_f1_score, test_acc, y_set, y_logit, y_pred, y, y_preds = make_predictions(model=model,\n",
    "                                 test_dataloader=test_dataloader, \n",
    "                                 device=device)\n",
    "\n",
    "y_labels_tensor = y_labels_tensor.detach().cpu().numpy()\n",
    "y_pred_tensor = y_pred_tensor.detach().cpu().numpy()\n",
    "\n",
    "#confmat = ConfusionMatrix(num_classes=num_classes, task='multiclass')\n",
    "#confmat_tensor = confmat(preds=y_pred_tensor,\n",
    "#                         target=test_labels)\n",
    "labels = np.array([0,1,2])\n",
    "confmat = confusion_matrix(y_labels_tensor, y_pred_tensor, labels=labels)\n",
    "\n",
    "# 3. Plot the confusion matrix\n",
    "fig, ax = plot_confusion_matrix(\n",
    "    conf_mat=confmat, # matplotlib likes working with NumPy \n",
    "    class_names=class_names, # turn the row and column labels into class names\n",
    "    figsize=(10, 7)\n",
    ");\n",
    "\n",
    "print(f\"Test loss: {test_loss}\")\n",
    "print(f\"Test precision: {test_precision}\")\n",
    "print(f\"Test recall: {test_recall}\")\n",
    "print(f\"Test F1score: {test_f1_score}\")\n",
    "#print(f\"Test Kappa: {test_kappa}\")\n",
    "print(f\"Test Accuracy: {test_acc}\")\n",
    "print(f\"Test Logits: {y_logit}\")\n",
    "print(f\"Test Predictions: {y_pred}\")\n",
    "print(f\"Test Labels: {y}\")"
   ]
  },
  {
   "cell_type": "code",
   "execution_count": 88,
   "id": "8296c49b",
   "metadata": {},
   "outputs": [
    {
     "data": {
      "text/plain": [
       "156"
      ]
     },
     "execution_count": 88,
     "metadata": {},
     "output_type": "execute_result"
    }
   ],
   "source": [
    "len(y_preds)"
   ]
  },
  {
   "cell_type": "code",
   "execution_count": 70,
   "id": "7588116f",
   "metadata": {},
   "outputs": [
    {
     "data": {
      "text/plain": [
       "tensor([1, 0, 1,  ..., 0, 0, 0])"
      ]
     },
     "execution_count": 70,
     "metadata": {},
     "output_type": "execute_result"
    }
   ],
   "source": [
    "y_set.cpu()"
   ]
  },
  {
   "cell_type": "code",
   "execution_count": 141,
   "id": "1c195b3e",
   "metadata": {},
   "outputs": [
    {
     "data": {
      "text/plain": [
       "tensor([1, 0, 1,  ..., 0, 0, 0])"
      ]
     },
     "execution_count": 141,
     "metadata": {},
     "output_type": "execute_result"
    }
   ],
   "source": [
    "test_dataset.labels"
   ]
  },
  {
   "cell_type": "code",
   "execution_count": null,
   "id": "975ec08c",
   "metadata": {},
   "outputs": [],
   "source": [
    "# Setup the best model filepath\n",
    "best_model_path = r\"C:\\Users\\lwfeckesim\\01_PyTorch\\wze-uav\\wze-uav-master\\models\\01_effnet_b0_train_data_100_percent_5_epochs.pth\"\n",
    "\n",
    "# Instantiate a new instance of EffNetB0 (to load the saved state_dict() to)\n",
    "unfreeze=True\n",
    "best_model = models.create_effnetb0(output_shape=num_classes, unfreeze=unfreeze, device=device)\n",
    "\n",
    "# Load the saved best model state_dict()\n",
    "best_model.load_state_dict(torch.load(best_model_path))"
   ]
  },
  {
   "cell_type": "code",
   "execution_count": 139,
   "id": "3fd4b9b5",
   "metadata": {},
   "outputs": [
    {
     "data": {
      "application/vnd.jupyter.widget-view+json": {
       "model_id": "a223988f3a8b4b2eae8b8b3b3f7776de",
       "version_major": 2,
       "version_minor": 0
      },
      "text/plain": [
       "Making predictions:   0%|          | 0/156 [00:00<?, ?it/s]"
      ]
     },
     "metadata": {},
     "output_type": "display_data"
    },
    {
     "name": "stdout",
     "output_type": "stream",
     "text": [
      "              precision    recall  f1-score   support\n",
      "\n",
      "     healthy       0.94      0.90      0.92      2228\n",
      "    stressed       0.42      0.31      0.35       226\n",
      "        dead       0.19      0.83      0.32        42\n",
      "\n",
      "    accuracy                           0.85      2496\n",
      "   macro avg       0.52      0.68      0.53      2496\n",
      "weighted avg       0.88      0.85      0.86      2496\n",
      "\n"
     ]
    }
   ],
   "source": [
    "y_preds = []\n",
    "y_labels = []\n",
    "labels = np.array([0,1,2])\n",
    "test_loss, test_precision, test_recall, test_f1_score, test_acc = 0, 0, 0, 0, 0\n",
    "count = 0\n",
    "model.eval()\n",
    "with torch.inference_mode():\n",
    "    for X, y in tqdm(test_dataloader, desc=\"Making predictions\"):\n",
    "        # Send data and targets to target device\n",
    "        X, y = X.to(device), y.to(device)\n",
    "        # Do the forward pass\n",
    "        y_logit = model(X)\n",
    "        # Turn predictions from logits -> prediction probabilities -> predictions labels\n",
    "        y_pred = torch.softmax(y_logit, dim=1).argmax(dim=1)\n",
    "        # Put predictions on CPU for evaluation\n",
    "        y_preds.append(y_pred.cpu())\n",
    "        y_labels.append(y.cpu())\n",
    "        \n",
    "        #other metrics\n",
    "        test_acc += ((y_pred == y).sum().item()/len(y_pred))\n",
    "        y_pred_class = y_pred.detach().cpu().numpy() \n",
    "        y_class = y.detach().cpu().numpy()\n",
    "        test_precision += precision_score(y_class, y_pred_class, average='macro', zero_division=1, labels=labels)\n",
    "        test_recall += recall_score(y_class, y_pred_class, average='macro', zero_division=1, labels=labels)\n",
    "        #test_f1_score += f1_score(y_class, y_pred_class, average='macro', zero_division=1, labels=labels)\n",
    "        \n",
    "        #if count >= 1:\n",
    "        #    y_set = torch.cat((y_set, y))\n",
    "        #    count = count + 1\n",
    "        #else:\n",
    "        #    y_set = y\n",
    "        #    count = count + 1\n",
    "        \n",
    "test_loss = test_loss / len(test_dataloader)\n",
    "test_precision = test_precision / len(test_dataloader)\n",
    "test_recall = test_recall / len(test_dataloader)\n",
    "#test_f1_score = test_f1_score / len(test_dataloader)\n",
    "#test_kappa = test_kappa / len(dataloader)\n",
    "test_acc = test_acc / len(test_dataloader)\n",
    "# Concatenate list of predictions into a tensor\n",
    "y_pred_tensor = torch.cat(y_preds)\n",
    "test_f1_score = f1_score(y_set.detach().cpu().numpy(), y_pred_tensor.cpu().numpy(), average='macro', zero_division=0, labels=[0,1,2])\n",
    "\n",
    "# Print classification report\n",
    "y_true = y_set.detach().cpu().numpy()\n",
    "report = classification_report(y_true, y_pred_tensor.cpu().numpy(), target_names=class_names)\n",
    "print(report)"
   ]
  },
  {
   "cell_type": "code",
   "execution_count": 140,
   "id": "47ca7212",
   "metadata": {},
   "outputs": [
    {
     "data": {
      "text/plain": [
       "0.528680154128826"
      ]
     },
     "execution_count": 140,
     "metadata": {},
     "output_type": "execute_result"
    }
   ],
   "source": [
    "test_f1_score"
   ]
  },
  {
   "cell_type": "code",
   "execution_count": 122,
   "id": "bf48cfdf",
   "metadata": {},
   "outputs": [
    {
     "data": {
      "text/plain": [
       "array([ True,  True,  True, False,  True, False,  True, False,  True,\n",
       "        True,  True,  True,  True,  True,  True,  True])"
      ]
     },
     "execution_count": 122,
     "metadata": {},
     "output_type": "execute_result"
    }
   ],
   "source": [
    "make = (y_class == y_pred_class)\n",
    "make"
   ]
  },
  {
   "cell_type": "code",
   "execution_count": 99,
   "id": "7f158b71",
   "metadata": {},
   "outputs": [
    {
     "data": {
      "text/plain": [
       "tensor([0, 0, 0, 2, 0, 1, 0, 1, 0, 0, 0, 0, 0, 0, 0, 0], device='cuda:0')"
      ]
     },
     "execution_count": 99,
     "metadata": {},
     "output_type": "execute_result"
    }
   ],
   "source": [
    "torch.softmax(y_logit, dim=1).argmax(dim=1)"
   ]
  },
  {
   "cell_type": "code",
   "execution_count": 101,
   "id": "7086dca1",
   "metadata": {},
   "outputs": [
    {
     "data": {
      "text/plain": [
       "tensor([0, 0, 0, 0, 0, 0, 0, 0, 0, 0, 0, 0, 0, 0, 0, 0], device='cuda:0')"
      ]
     },
     "execution_count": 101,
     "metadata": {},
     "output_type": "execute_result"
    }
   ],
   "source": [
    "y"
   ]
  },
  {
   "cell_type": "code",
   "execution_count": 112,
   "id": "372cc150",
   "metadata": {},
   "outputs": [],
   "source": [
    "test = (y_pred == y).sum().item()/16"
   ]
  },
  {
   "cell_type": "code",
   "execution_count": 113,
   "id": "5304101a",
   "metadata": {},
   "outputs": [
    {
     "data": {
      "text/plain": [
       "0.8125"
      ]
     },
     "execution_count": 113,
     "metadata": {},
     "output_type": "execute_result"
    }
   ],
   "source": [
    "test"
   ]
  },
  {
   "cell_type": "code",
   "execution_count": 114,
   "id": "82b47bfc",
   "metadata": {},
   "outputs": [],
   "source": [
    " y_pred_class = y_pred.detach().cpu().numpy() "
   ]
  },
  {
   "cell_type": "code",
   "execution_count": 115,
   "id": "c36f2857",
   "metadata": {},
   "outputs": [
    {
     "data": {
      "text/plain": [
       "array([0, 0, 0, 2, 0, 1, 0, 1, 0, 0, 0, 0, 0, 0, 0, 0], dtype=int64)"
      ]
     },
     "execution_count": 115,
     "metadata": {},
     "output_type": "execute_result"
    }
   ],
   "source": [
    "y_pred_class"
   ]
  },
  {
   "cell_type": "code",
   "execution_count": null,
   "id": "a652aed3",
   "metadata": {},
   "outputs": [],
   "source": []
  }
 ],
 "metadata": {
  "kernelspec": {
   "display_name": "Python 3 (ipykernel)",
   "language": "python",
   "name": "python3"
  },
  "language_info": {
   "codemirror_mode": {
    "name": "ipython",
    "version": 3
   },
   "file_extension": ".py",
   "mimetype": "text/x-python",
   "name": "python",
   "nbconvert_exporter": "python",
   "pygments_lexer": "ipython3",
   "version": "3.9.16"
  }
 },
 "nbformat": 4,
 "nbformat_minor": 5
}
