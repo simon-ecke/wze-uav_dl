{
 "cells": [
  {
   "cell_type": "markdown",
   "id": "c1acdaa3",
   "metadata": {},
   "source": [
    "# WZE-UAV Image Classification using Deep Learning"
   ]
  },
  {
   "cell_type": "code",
   "execution_count": 1,
   "id": "2159aac5",
   "metadata": {},
   "outputs": [
    {
     "data": {
      "text/plain": [
       "[<matplotlib.lines.Line2D at 0x1a124bb93d0>]"
      ]
     },
     "execution_count": 1,
     "metadata": {},
     "output_type": "execute_result"
    },
    {
     "data": {
      "image/png": "[encoded data removed]",
      "text/plain": [
       "<Figure size 432x288 with 1 Axes>"
      ]
     },
     "metadata": {
      "needs_background": "light"
     },
     "output_type": "display_data"
    }
   ],
   "source": [
    "import os\n",
    "import glob\n",
    "import matplotlib.pyplot as plt\n",
    "import rasterio\n",
    "import numpy as np\n",
    "import mlxtend\n",
    "from pathlib import Path\n",
    "from tqdm.auto import tqdm\n",
    "from sklearn.metrics import balanced_accuracy_score, precision_score, recall_score, f1_score, precision_recall_fscore_support, confusion_matrix, classification_report\n",
    "\n",
    "\n",
    "x = (1,3)\n",
    "y = (1,3)\n",
    "plt.plot(x,y)"
   ]
  },
  {
   "cell_type": "code",
   "execution_count": 2,
   "id": "0026f7a9",
   "metadata": {},
   "outputs": [],
   "source": [
    "import torch\n",
    "import torchvision.transforms as T\n",
    "import torchvision\n",
    "from torch import nn\n",
    "from torch.utils.data import DataLoader\n",
    "from torchinfo import summary\n",
    "from torchvision import datasets, transforms\n",
    "from torch.utils.data import Dataset\n",
    "from torchmetrics import *\n",
    "import torch.optim as optim\n",
    "from torch.optim.lr_scheduler import StepLR, ExponentialLR, ReduceLROnPlateau\n",
    "from mlxtend.plotting import plot_confusion_matrix\n",
    "import h5py"
   ]
  },
  {
   "cell_type": "code",
   "execution_count": 3,
   "id": "b160d7b4",
   "metadata": {},
   "outputs": [],
   "source": [
    "import wze_uav.data_loader as data_loader\n",
    "import wze_uav.visualization as visualization\n",
    "import wze_uav.models as models\n",
    "from wze_uav.engine import *\n",
    "from wze_uav.utils2 import *\n",
    "from wze_uav.log_writer import create_writer"
   ]
  },
  {
   "cell_type": "markdown",
   "id": "2bd4fb2f",
   "metadata": {},
   "source": [
    "#### Get PyTorch version"
   ]
  },
  {
   "cell_type": "code",
   "execution_count": 4,
   "id": "c10886b1",
   "metadata": {},
   "outputs": [
    {
     "name": "stdout",
     "output_type": "stream",
     "text": [
      "torch version: 1.13.1+cu116\n",
      "torchvision version: 0.14.1+cu116\n"
     ]
    }
   ],
   "source": [
    "print(f\"torch version: {torch.__version__}\")\n",
    "print(f\"torchvision version: {torchvision.__version__}\")"
   ]
  },
  {
   "cell_type": "markdown",
   "id": "aa6a83cf",
   "metadata": {},
   "source": [
    "#### Preparing device agnostic code "
   ]
  },
  {
   "cell_type": "code",
   "execution_count": 5,
   "id": "13d5de88",
   "metadata": {},
   "outputs": [
    {
     "name": "stdout",
     "output_type": "stream",
     "text": [
      "cuda\n",
      "Index of current divice: 0\n",
      "Number of GPUs available: 1\n",
      "GPU Model: Quadro RTX 8000\n"
     ]
    }
   ],
   "source": [
    "# ensure device agnostic code\n",
    "device = 'cuda' if torch.cuda.is_available() else 'cpu'\n",
    "print(device)\n",
    "\n",
    "# get index of currently selected device\n",
    "print(f\"Index of current divice: {torch.cuda.current_device()}\")\n",
    "# get number of GPUs available\n",
    "print(f\"Number of GPUs available: {torch.cuda.device_count()}\")\n",
    "# get the name of the device\n",
    "print(f\"GPU Model: {torch.cuda.get_device_name(0)}\")"
   ]
  },
  {
   "cell_type": "markdown",
   "id": "a26a6a34",
   "metadata": {},
   "source": [
    "#### Ensure reproducibility "
   ]
  },
  {
   "cell_type": "code",
   "execution_count": 6,
   "id": "dd4656a7",
   "metadata": {},
   "outputs": [],
   "source": [
    "# for more information, see also: https://pytorch.org/docs/stable/notes/randomness.html\n",
    "\n",
    "# Set seeds\n",
    "def set_seeds(seed: int=0):\n",
    "    \"\"\"Sets random sets for torch operations.\n",
    "\n",
    "    Args:\n",
    "        seed (int, optional): Random seed to set. Defaults to 0.\n",
    "    \"\"\"\n",
    "    # Set the seed for general torch operations\n",
    "    torch.manual_seed(seed)\n",
    "    # Set the seed for CUDA torch operations (ones that happen on the GPU)\n",
    "    torch.cuda.manual_seed(seed)\n",
    "\n",
    "# seed for numpy\n",
    "np.random.seed(0)\n",
    "# avoiding non-deterministic algorithms\n",
    "#torch.use_deterministic_algorithms(True)\n",
    "# Set to true -> might speed up the process but should be set to False if reproducible results are desired\n",
    "torch.backends.cudnn.benchmark = True\n"
   ]
  },
  {
   "cell_type": "markdown",
   "id": "8be33671",
   "metadata": {},
   "source": [
    "#### Define file directories"
   ]
  },
  {
   "cell_type": "code",
   "execution_count": 7,
   "id": "30645f36",
   "metadata": {},
   "outputs": [],
   "source": [
    "set_seeds() # ensure reproducibility\n",
    "\n",
    "# Data 2020\n",
    "train_data_path = r\"D:\\Drohnendaten\\10_WZE-UAV\\Auswertung_findatree\\2020\\ROI\\rgb\\train\"\n",
    "val_data_path = r\"D:\\Drohnendaten\\10_WZE-UAV\\Auswertung_findatree\\2020\\ROI\\rgb\\val\"\n",
    "test_data_path = r\"D:\\Drohnendaten\\10_WZE-UAV\\Auswertung_findatree\\2020\\ROI\\rgb\\test\"\n",
    "\n",
    "# Data 2021\n",
    "train_data_path_2021 = r\"D:\\Drohnendaten\\10_WZE-UAV\\Auswertung_findatree\\2021\\ROI\\rgb\\train\"\n",
    "val_data_path_2021 = r\"D:\\Drohnendaten\\10_WZE-UAV\\Auswertung_findatree\\2021\\ROI\\rgb\\val\"\n",
    "test_data_path_2021 = r\"D:\\Drohnendaten\\10_WZE-UAV\\Auswertung_findatree\\2021\\ROI\\rgb\\test\"\n",
    "\n",
    "# Data 2022\n",
    "train_data_path_2022 = r\"D:\\Drohnendaten\\10_WZE-UAV\\Auswertung_findatree\\2022\\ROI\\rgb\\train\"\n",
    "val_data_path_2022 = r\"D:\\Drohnendaten\\10_WZE-UAV\\Auswertung_findatree\\2022\\ROI\\rgb\\val\"\n",
    "test_data_path_2022 = r\"D:\\Drohnendaten\\10_WZE-UAV\\Auswertung_findatree\\2022\\ROI\\rgb\\test\"\n",
    "\n"
   ]
  },
  {
   "cell_type": "markdown",
   "id": "b5d28343",
   "metadata": {},
   "source": [
    "#### Load images and features (labels and tree species) from hdf5 files"
   ]
  },
  {
   "cell_type": "code",
   "execution_count": 8,
   "id": "a1b72aed",
   "metadata": {},
   "outputs": [],
   "source": [
    "# load all image and feature arrays from hdf5\n",
    "# loops through all hdf5 files! \n",
    "\n",
    "# Data 2020\n",
    "train_image_set_2020, train_label_set_2020, train_species_set_2020, train_kkl_set_2020, train_bk_set_2020 = data_loader.hdf5_to_img_label(train_data_path, load_sets = [\"images_masked\"])\n",
    "val_image_set_2020, val_label_set_2020, val_species_set_2020, val_kkl_set_2020, val_bk_set_2020 = data_loader.hdf5_to_img_label(val_data_path, load_sets = [\"images_masked\"])\n",
    "test_image_set_2020, test_label_set_2020, test_species_set_2020, test_kkl_set_2020, test_bk_set_2020 = data_loader.hdf5_to_img_label(test_data_path, load_sets = [\"images_masked\"])\n",
    "\n",
    "# Data 2021\n",
    "train_image_set_2021, train_label_set_2021, train_species_set_2021, train_kkl_set_2021, train_bk_set_2021 = data_loader.hdf5_to_img_label(train_data_path_2021, load_sets = [\"images_masked\"])\n",
    "val_image_set_2021, val_label_set_2021, val_species_set_2021, val_kkl_set_2021, val_bk_set_2021 = data_loader.hdf5_to_img_label(val_data_path_2021, load_sets = [\"images_masked\"])\n",
    "test_image_set_2021, test_label_set_2021, test_species_set_2021, test_kkl_set_2021, test_bk_set_2021 = data_loader.hdf5_to_img_label(test_data_path_2021, load_sets = [\"images_masked\"])\n",
    "\n",
    "# Data 2022\n",
    "train_image_set_2022, train_label_set_2022, train_species_set_2022, train_kkl_set_2022, train_bk_set_2022 = data_loader.hdf5_to_img_label(train_data_path_2022, load_sets = [\"images_masked\"])\n",
    "val_image_set_2022, val_label_set_2022, val_species_set_2022, val_kkl_set_2022, val_bk_set_2022 = data_loader.hdf5_to_img_label(val_data_path_2022, load_sets = [\"images_masked\"])\n",
    "test_image_set_2022, test_label_set_2022, test_species_set_2022, test_kkl_set_2022, test_bk_set_2022 = data_loader.hdf5_to_img_label(test_data_path_2022, load_sets = [\"images_masked\"])\n"
   ]
  },
  {
   "cell_type": "code",
   "execution_count": 9,
   "id": "13f3e98d",
   "metadata": {},
   "outputs": [],
   "source": [
    "# stack all data from 2020, 2021 and 2022 into one dataset\n",
    "# images\n",
    "train_image_set = np.concatenate((train_image_set_2020, train_image_set_2021, train_image_set_2022), axis=0)\n",
    "val_image_set = np.concatenate((val_image_set_2020, val_image_set_2021, val_image_set_2022), axis=0)\n",
    "test_image_set = np.concatenate((test_image_set_2020, test_image_set_2021, test_image_set_2022), axis=0)\n",
    "\n",
    "#labels\n",
    "train_label_set = np.concatenate((train_label_set_2020, train_label_set_2021, train_label_set_2022), axis=0)\n",
    "val_label_set = np.concatenate((val_label_set_2020, val_label_set_2021, val_label_set_2022), axis=0)\n",
    "test_label_set = np.concatenate((test_label_set_2020, test_label_set_2021, test_label_set_2022), axis=0)\n",
    "\n",
    "#species\n",
    "train_species_set = np.concatenate((train_species_set_2020, train_species_set_2021, train_species_set_2022), axis=0)\n",
    "val_species_set = np.concatenate((val_species_set_2020, val_species_set_2021, val_species_set_2022), axis=0)\n",
    "test_species_set = np.concatenate((test_species_set_2020, test_species_set_2021, test_species_set_2022), axis=0)\n",
    "\n",
    "#kkl\n",
    "train_kkl_set = np.concatenate((train_kkl_set_2020, train_kkl_set_2021, train_kkl_set_2022), axis=0)\n",
    "val_kkl_set = np.concatenate((val_kkl_set_2020, val_kkl_set_2021, val_kkl_set_2022), axis=0)\n",
    "test_kkl_set = np.concatenate((test_kkl_set_2020, test_kkl_set_2021, test_kkl_set_2022), axis=0)\n",
    "\n",
    "#bk\n",
    "train_bk_set = np.concatenate((train_bk_set_2020, train_bk_set_2021, train_bk_set_2022), axis=0)\n",
    "val_bk_set = np.concatenate((val_bk_set_2020, val_bk_set_2021, val_bk_set_2022), axis=0)\n",
    "test_bk_set = np.concatenate((test_bk_set_2020, test_bk_set_2021, test_bk_set_2022), axis=0)"
   ]
  },
  {
   "cell_type": "code",
   "execution_count": 10,
   "id": "1961b5a1",
   "metadata": {
    "scrolled": true
   },
   "outputs": [
    {
     "name": "stdout",
     "output_type": "stream",
     "text": [
      "Dataset 2020\n",
      "\n",
      "Train dataset shape: (4886, 250, 250, 3)\n",
      "Train labels shape: (4886, 1)\n",
      "Train species shape: (4886, 1)\n",
      "Train kkl shape: (4886, 1)\n",
      "Train bk shape: (4886, 1)\n",
      "--------------------------------------------------\n",
      "Validation dataset shape: (1053, 250, 250, 3)\n",
      "Validation labels shape: (1053, 1)\n",
      "--------------------------------------------------\n",
      "Test dataset shape: (917, 250, 250, 3)\n",
      "Test labels shape: (917, 1)\n",
      "--------------------------------------------------\n",
      "\n",
      "Total image samples: 6856\n",
      "Total label samples: 6856\n",
      "\n",
      "==================================================\n",
      "\n",
      "Dataset 2021\n",
      "\n",
      "Train dataset shape: (4505, 250, 250, 3)\n",
      "Train labels shape: (4505, 1)\n",
      "--------------------------------------------------\n",
      "Validation dataset shape: (1053, 250, 250, 3)\n",
      "Validation labels shape: (1053, 1)\n",
      "--------------------------------------------------\n",
      "Test dataset shape: (877, 250, 250, 3)\n",
      "Test labels shape: (877, 1)\n",
      "--------------------------------------------------\n",
      "\n",
      "Total image samples: 6435\n",
      "Total label samples: 6435\n",
      "\n",
      "==================================================\n",
      "\n",
      "Dataset 2022\n",
      "\n",
      "Train dataset shape: (4032, 250, 250, 3)\n",
      "Train labels shape: (4032, 1)\n",
      "--------------------------------------------------\n",
      "Validation dataset shape: (776, 250, 250, 3)\n",
      "Validation labels shape: (776, 1)\n",
      "--------------------------------------------------\n",
      "Test dataset shape: (706, 250, 250, 3)\n",
      "Test labels shape: (706, 1)\n",
      "--------------------------------------------------\n",
      "\n",
      "Total image samples: 5514\n",
      "Total label samples: 5514\n",
      "\n",
      "==================================================\n",
      "\n",
      "Stacked Dataset\n",
      "\n",
      "Train dataset shape: (13423, 250, 250, 3)\n",
      "Train labels shape: (13423, 1)\n",
      "--------------------------------------------------\n",
      "Validation dataset shape: (2882, 250, 250, 3)\n",
      "Validation labels shape: (2882, 1)\n",
      "--------------------------------------------------\n",
      "Test dataset shape: (2500, 250, 250, 3)\n",
      "Test labels shape: (2500, 1)\n",
      "--------------------------------------------------\n",
      "\n",
      "Total image samples: 18805\n",
      "Total label samples: 18805\n",
      "\n"
     ]
    }
   ],
   "source": [
    "# checking shapes and amount of samples. Image sample size should be equal to label sample size!\n",
    "# Images should be of shape (n, H, W, C): n = sample size | H = image height | W = image width | C = number of bands\n",
    "print(\"Dataset 2020\")\n",
    "print(f\"\\nTrain dataset shape: {train_image_set_2020.shape}\")\n",
    "print(f\"Train labels shape: {train_label_set_2020.shape}\")\n",
    "print(f\"Train species shape: {train_species_set_2020.shape}\")\n",
    "print(f\"Train kkl shape: {train_kkl_set_2020.shape}\")\n",
    "print(f\"Train bk shape: {train_bk_set_2020.shape}\")\n",
    "print(\"-\"*50)\n",
    "print(f\"Validation dataset shape: {val_image_set_2020.shape}\")\n",
    "print(f\"Validation labels shape: {val_label_set_2020.shape}\")\n",
    "print(\"-\"*50)\n",
    "print(f\"Test dataset shape: {test_image_set_2020.shape}\")\n",
    "print(f\"Test labels shape: {test_label_set_2020.shape}\")\n",
    "print(\"-\"*50)\n",
    "print(f\"\\nTotal image samples: {train_image_set_2020.shape[0] + val_image_set_2020.shape[0] + test_image_set_2020.shape[0]}\")\n",
    "print(f\"Total label samples: {train_label_set_2020.shape[0] + val_label_set_2020.shape[0] + test_label_set_2020.shape[0]}\\n\")\n",
    "print(\"=\"*50)\n",
    "print(\"\\nDataset 2021\")\n",
    "print(f\"\\nTrain dataset shape: {train_image_set_2021.shape}\")\n",
    "print(f\"Train labels shape: {train_label_set_2021.shape}\")\n",
    "print(\"-\"*50)\n",
    "print(f\"Validation dataset shape: {val_image_set_2021.shape}\")\n",
    "print(f\"Validation labels shape: {val_label_set_2021.shape}\")\n",
    "print(\"-\"*50)\n",
    "print(f\"Test dataset shape: {test_image_set_2021.shape}\")\n",
    "print(f\"Test labels shape: {test_label_set_2021.shape}\")\n",
    "print(\"-\"*50)\n",
    "print(f\"\\nTotal image samples: {train_image_set_2021.shape[0] + val_image_set_2021.shape[0] + test_image_set_2021.shape[0]}\")\n",
    "print(f\"Total label samples: {train_label_set_2021.shape[0] + val_label_set_2021.shape[0] + test_label_set_2021.shape[0]}\\n\")\n",
    "print(\"=\"*50)\n",
    "print(\"\\nDataset 2022\")\n",
    "print(f\"\\nTrain dataset shape: {train_image_set_2022.shape}\")\n",
    "print(f\"Train labels shape: {train_label_set_2022.shape}\")\n",
    "print(\"-\"*50)\n",
    "print(f\"Validation dataset shape: {val_image_set_2022.shape}\")\n",
    "print(f\"Validation labels shape: {val_label_set_2022.shape}\")\n",
    "print(\"-\"*50)\n",
    "print(f\"Test dataset shape: {test_image_set_2022.shape}\")\n",
    "print(f\"Test labels shape: {test_label_set_2022.shape}\")\n",
    "print(\"-\"*50)\n",
    "print(f\"\\nTotal image samples: {train_image_set_2022.shape[0] + val_image_set_2022.shape[0] + test_image_set_2022.shape[0]}\")\n",
    "print(f\"Total label samples: {train_label_set_2022.shape[0] + val_label_set_2022.shape[0] + test_label_set_2022.shape[0]}\\n\")\n",
    "print(\"=\"*50)\n",
    "print(\"\\nStacked Dataset\")\n",
    "print(f\"\\nTrain dataset shape: {train_image_set.shape}\")\n",
    "print(f\"Train labels shape: {train_label_set.shape}\")\n",
    "print(\"-\"*50)\n",
    "print(f\"Validation dataset shape: {val_image_set.shape}\")\n",
    "print(f\"Validation labels shape: {val_label_set.shape}\")\n",
    "print(\"-\"*50)\n",
    "print(f\"Test dataset shape: {test_image_set.shape}\")\n",
    "print(f\"Test labels shape: {test_label_set.shape}\")\n",
    "print(\"-\"*50)\n",
    "print(f\"\\nTotal image samples: {train_image_set.shape[0] + val_image_set.shape[0] + test_image_set.shape[0]}\")\n",
    "print(f\"Total label samples: {train_label_set.shape[0] + val_label_set.shape[0] + test_label_set.shape[0]}\\n\")"
   ]
  },
  {
   "cell_type": "markdown",
   "id": "5ad5104a",
   "metadata": {},
   "source": [
    "#### Define data transforms and create PyTorch Datasets (converts ndarrays into tensors)"
   ]
  },
  {
   "cell_type": "code",
   "execution_count": 11,
   "id": "93fd9497",
   "metadata": {},
   "outputs": [],
   "source": [
    "# train transform with augmentation. \n",
    "transform_train = transforms.Compose([transforms.ToTensor(),\n",
    "                                      #transforms.Normalize(mean=[0.485, 0.456, 0.406],\n",
    "                                      #                     std=[0.229, 0.224, 0.225]),\n",
    "                                      #transforms.ColorJitter(brightness=(5,5)),\n",
    "                                      transforms.RandomHorizontalFlip(p=0.5),\n",
    "                                      transforms.RandomVerticalFlip(p=0.5),\n",
    "                                      transforms.RandomRotation(degrees=[0,360])\n",
    "                                      #transforms.Resize(224)\n",
    "                                      ])\n",
    "\n",
    "# test and val dataset transform without augmentation. \n",
    "transform = transforms.Compose([transforms.ToTensor(),\n",
    "                                #transforms.Resize(224)\n",
    "                               ])\n",
    "\n",
    "\n",
    "# class names need to fit the customDataset class used e.g. 3 classes -> use CustomDataset3Classes\n",
    "#class_names = ['healthy', 'slightly_stressed', 'moderately_stressed', 'highly_stressed', 'dead']\n",
    "#class_names = ['healthy', 'moderately_stressed', 'highly_stressed', 'dead']\n",
    "class_names = ['healthy', 'stressed', 'dead']\n",
    "\n",
    "# choose custom dataset loader with 3 - 5 classes\n",
    "train_dataset = data_loader.CustomDataset3Classes(\n",
    "    data = train_image_set,\n",
    "    labels = train_label_set,\n",
    "    class_names=class_names, \n",
    "    species = train_species_set,\n",
    "    kkl = train_kkl_set,\n",
    "    transform=transform_train\n",
    ")\n",
    "\n",
    "val_dataset = data_loader.CustomDataset3Classes(\n",
    "    data = val_image_set,\n",
    "    labels = val_label_set,\n",
    "    class_names=class_names,\n",
    "    species = val_species_set,\n",
    "    kkl = val_kkl_set,\n",
    "    transform=transform\n",
    ")\n",
    "\n",
    "test_dataset = data_loader.CustomDataset3Classes(\n",
    "    data = test_image_set,\n",
    "    labels = test_label_set,\n",
    "    class_names=class_names, \n",
    "    species = test_species_set,\n",
    "    kkl = test_kkl_set,\n",
    "    transform=transform\n",
    ")\n",
    "\n"
   ]
  },
  {
   "cell_type": "code",
   "execution_count": 12,
   "id": "9c0c186e",
   "metadata": {},
   "outputs": [
    {
     "name": "stdout",
     "output_type": "stream",
     "text": [
      "Class sample counts: [12100, 1086, 237]\n",
      "Effective num: [0.04928108470535647, 0.45954704611487746, 0.4911718691797661]\n",
      "Class weights: tensor([0.0493, 0.4595, 0.4912])\n"
     ]
    }
   ],
   "source": [
    "from torch.utils.data import WeightedRandomSampler\n",
    "\n",
    "# convert the label tensor to a list\n",
    "labels_list = train_dataset.labels.tolist()\n",
    "\n",
    "# count the number of samples per class\n",
    "class_sample_counts = [labels_list.count(i) for i in range(len(class_names))]\n",
    "\n",
    "# compute the effective number of samples\n",
    "total_samples = sum(class_sample_counts)\n",
    "effective_num = [(1.0 - (count / total_samples)) / (len(class_names) - 1) for count in class_sample_counts]\n",
    "\n",
    "# calculate the weight of each class as inverse of frequency\n",
    "class_weights = torch.FloatTensor(effective_num)\n",
    "class_weights /= torch.sum(class_weights)\n",
    "\n",
    "# create a list of weights for each data sample\n",
    "train_weights = [class_weights[label] for label in labels_list]\n",
    "\n",
    "# create a sampler using the weights\n",
    "sampler = WeightedRandomSampler(train_weights, len(train_dataset), replacement=True)\n",
    "\n",
    "print(f\"Class sample counts: {class_sample_counts}\")\n",
    "print(f\"Effective num: {effective_num}\")\n",
    "print(f\"Class weights: {class_weights}\")"
   ]
  },
  {
   "cell_type": "markdown",
   "id": "d550b86f",
   "metadata": {},
   "source": [
    "#### Visualize random images from the datasets"
   ]
  },
  {
   "cell_type": "code",
   "execution_count": 36,
   "id": "207e140c",
   "metadata": {},
   "outputs": [
    {
     "data": {
      "image/png": "[encoded data removed]",
      "text/plain": [
       "<Figure size 2160x1440 with 2 Axes>"
      ]
     },
     "metadata": {
      "needs_background": "light"
     },
     "output_type": "display_data"
    }
   ],
   "source": [
    "# enhance brightness in colorjitter for better visibility\n",
    "visualization.display_random_images(train_dataset, \n",
    "                      n=2, \n",
    "                      classes=[0, 1, 2],\n",
    "                      seed=None)\n"
   ]
  },
  {
   "cell_type": "markdown",
   "id": "a04aca61",
   "metadata": {},
   "source": [
    "#### Check shape and data types of images and labels"
   ]
  },
  {
   "cell_type": "code",
   "execution_count": 13,
   "id": "052846b7",
   "metadata": {},
   "outputs": [
    {
     "name": "stdout",
     "output_type": "stream",
     "text": [
      "Image shape: torch.Size([3, 250, 250])\n",
      "Image datatype: torch.float32\n",
      "Image label: 0\n",
      "Label datatype: <class 'int'>\n"
     ]
    }
   ],
   "source": [
    "img, label = test_dataset[10]\n",
    "print(f\"Image shape: {img.shape}\")\n",
    "print(f\"Image datatype: {img.dtype}\")\n",
    "print(f\"Image label: {label}\")\n",
    "print(f\"Label datatype: {type(label)}\")"
   ]
  },
  {
   "cell_type": "markdown",
   "id": "fceb1a7d",
   "metadata": {},
   "source": [
    "#### Create PyTorch Dataloaders"
   ]
  },
  {
   "cell_type": "code",
   "execution_count": 13,
   "id": "d34f3728",
   "metadata": {},
   "outputs": [
    {
     "name": "stdout",
     "output_type": "stream",
     "text": [
      "Train dataloader size: 419\n",
      "Val dataloader size: 90\n",
      "Test dataloader size: 78\n"
     ]
    }
   ],
   "source": [
    "# set seeds\n",
    "g = torch.Generator()\n",
    "g.manual_seed(0)\n",
    "NUM_WORKERS=3 # should be changed, depending on the system used\n",
    "batch_size=32\n",
    "\n",
    "train_dataloader = DataLoader(train_dataset,\n",
    "                              batch_size=batch_size,\n",
    "                              persistent_workers=True,\n",
    "                              pin_memory=True,\n",
    "                              num_workers=NUM_WORKERS, \n",
    "                              generator=g,\n",
    "                              sampler=sampler,\n",
    "                              shuffle=False,\n",
    "                              drop_last=True)\n",
    "\n",
    "val_dataloader = DataLoader(val_dataset,\n",
    "                             batch_size=batch_size,\n",
    "                             persistent_workers=True,\n",
    "                             pin_memory=True,\n",
    "                             num_workers=NUM_WORKERS,\n",
    "                             shuffle=False,\n",
    "                             drop_last=True)\n",
    "\n",
    "test_dataloader = DataLoader(test_dataset,\n",
    "                             batch_size=batch_size,\n",
    "                             persistent_workers=True,\n",
    "                             pin_memory=True,\n",
    "                             num_workers=NUM_WORKERS,\n",
    "                             shuffle=False,\n",
    "                             drop_last=True)\n",
    "\n",
    "print(f\"Train dataloader size: {len(train_dataloader)}\")\n",
    "print(f\"Val dataloader size: {len(val_dataloader)}\")\n",
    "print(f\"Test dataloader size: {len(test_dataloader)}\")"
   ]
  },
  {
   "cell_type": "markdown",
   "id": "89dfb16e",
   "metadata": {},
   "source": [
    "#### Create and print model"
   ]
  },
  {
   "cell_type": "code",
   "execution_count": 21,
   "id": "063a4f81",
   "metadata": {},
   "outputs": [
    {
     "ename": "NameError",
     "evalue": "name 'create_effnetb2' is not defined",
     "output_type": "error",
     "traceback": [
      "\u001b[1;31m---------------------------------------------------------------------------\u001b[0m",
      "\u001b[1;31mNameError\u001b[0m                                 Traceback (most recent call last)",
      "Input \u001b[1;32mIn [21]\u001b[0m, in \u001b[0;36m<cell line: 5>\u001b[1;34m()\u001b[0m\n\u001b[0;32m      2\u001b[0m classes \u001b[38;5;241m=\u001b[39m train_dataset\u001b[38;5;241m.\u001b[39mclass_names\n\u001b[0;32m      3\u001b[0m num_classes \u001b[38;5;241m=\u001b[39m \u001b[38;5;28mlen\u001b[39m(classes) \u001b[38;5;66;03m# get output_shape (number of classes) as an argument for the model\u001b[39;00m\n\u001b[1;32m----> 5\u001b[0m effnet_b2 \u001b[38;5;241m=\u001b[39m \u001b[43mcreate_effnetb2\u001b[49m(output_shape\u001b[38;5;241m=\u001b[39mnum_classes, dropout_rate\u001b[38;5;241m=\u001b[39m\u001b[38;5;241m0.3\u001b[39m, unfreeze\u001b[38;5;241m=\u001b[39m\u001b[38;5;28;01mTrue\u001b[39;00m, device\u001b[38;5;241m=\u001b[39mdevice)\n",
      "\u001b[1;31mNameError\u001b[0m: name 'create_effnetb2' is not defined"
     ]
    }
   ],
   "source": [
    "# Create model\n",
    "classes = train_dataset.class_names\n",
    "num_classes = len(classes) # get output_shape (number of classes) as an argument for the model\n",
    "\n",
    "effnet_b2 = create_effnetb2(output_shape=num_classes, dropout_rate=0.3, unfreeze=True, device=device)"
   ]
  },
  {
   "cell_type": "code",
   "execution_count": 25,
   "id": "35d1eaf7",
   "metadata": {},
   "outputs": [
    {
     "data": {
      "text/plain": [
       "================================================================================================================================\n",
       "Layer (type (var_name))                                      Input Shape       Output Shape      Param #           Trainable\n",
       "================================================================================================================================\n",
       "EfficientNet (EfficientNet)                                  [32, 3, 250, 250] [32, 3]           --                True\n",
       "├─Sequential (features)                                      [32, 3, 250, 250] [32, 1408, 8, 8]  --                True\n",
       "│    └─Conv2dNormActivation (0)                              [32, 3, 250, 250] [32, 32, 125, 125] --                True\n",
       "│    │    └─Conv2d (0)                                       [32, 3, 250, 250] [32, 32, 125, 125] 864               True\n",
       "│    │    └─BatchNorm2d (1)                                  [32, 32, 125, 125] [32, 32, 125, 125] 64                True\n",
       "│    │    └─SiLU (2)                                         [32, 32, 125, 125] [32, 32, 125, 125] --                --\n",
       "│    └─Sequential (1)                                        [32, 32, 125, 125] [32, 16, 125, 125] --                True\n",
       "│    │    └─MBConv (0)                                       [32, 32, 125, 125] [32, 16, 125, 125] 1,448             True\n",
       "│    │    └─MBConv (1)                                       [32, 16, 125, 125] [32, 16, 125, 125] 612               True\n",
       "│    └─Sequential (2)                                        [32, 16, 125, 125] [32, 24, 63, 63]  --                True\n",
       "│    │    └─MBConv (0)                                       [32, 16, 125, 125] [32, 24, 63, 63]  6,004             True\n",
       "│    │    └─MBConv (1)                                       [32, 24, 63, 63]  [32, 24, 63, 63]  10,710            True\n",
       "│    │    └─MBConv (2)                                       [32, 24, 63, 63]  [32, 24, 63, 63]  10,710            True\n",
       "│    └─Sequential (3)                                        [32, 24, 63, 63]  [32, 48, 32, 32]  --                True\n",
       "│    │    └─MBConv (0)                                       [32, 24, 63, 63]  [32, 48, 32, 32]  16,518            True\n",
       "│    │    └─MBConv (1)                                       [32, 48, 32, 32]  [32, 48, 32, 32]  43,308            True\n",
       "│    │    └─MBConv (2)                                       [32, 48, 32, 32]  [32, 48, 32, 32]  43,308            True\n",
       "│    └─Sequential (4)                                        [32, 48, 32, 32]  [32, 88, 16, 16]  --                True\n",
       "│    │    └─MBConv (0)                                       [32, 48, 32, 32]  [32, 88, 16, 16]  50,300            True\n",
       "│    │    └─MBConv (1)                                       [32, 88, 16, 16]  [32, 88, 16, 16]  123,750           True\n",
       "│    │    └─MBConv (2)                                       [32, 88, 16, 16]  [32, 88, 16, 16]  123,750           True\n",
       "│    │    └─MBConv (3)                                       [32, 88, 16, 16]  [32, 88, 16, 16]  123,750           True\n",
       "│    └─Sequential (5)                                        [32, 88, 16, 16]  [32, 120, 16, 16] --                True\n",
       "│    │    └─MBConv (0)                                       [32, 88, 16, 16]  [32, 120, 16, 16] 149,158           True\n",
       "│    │    └─MBConv (1)                                       [32, 120, 16, 16] [32, 120, 16, 16] 237,870           True\n",
       "│    │    └─MBConv (2)                                       [32, 120, 16, 16] [32, 120, 16, 16] 237,870           True\n",
       "│    │    └─MBConv (3)                                       [32, 120, 16, 16] [32, 120, 16, 16] 237,870           True\n",
       "│    └─Sequential (6)                                        [32, 120, 16, 16] [32, 208, 8, 8]   --                True\n",
       "│    │    └─MBConv (0)                                       [32, 120, 16, 16] [32, 208, 8, 8]   301,406           True\n",
       "│    │    └─MBConv (1)                                       [32, 208, 8, 8]   [32, 208, 8, 8]   686,868           True\n",
       "│    │    └─MBConv (2)                                       [32, 208, 8, 8]   [32, 208, 8, 8]   686,868           True\n",
       "│    │    └─MBConv (3)                                       [32, 208, 8, 8]   [32, 208, 8, 8]   686,868           True\n",
       "│    │    └─MBConv (4)                                       [32, 208, 8, 8]   [32, 208, 8, 8]   686,868           True\n",
       "│    └─Sequential (7)                                        [32, 208, 8, 8]   [32, 352, 8, 8]   --                True\n",
       "│    │    └─MBConv (0)                                       [32, 208, 8, 8]   [32, 352, 8, 8]   846,900           True\n",
       "│    │    └─MBConv (1)                                       [32, 352, 8, 8]   [32, 352, 8, 8]   1,888,920         True\n",
       "│    └─Conv2dNormActivation (8)                              [32, 352, 8, 8]   [32, 1408, 8, 8]  --                True\n",
       "│    │    └─Conv2d (0)                                       [32, 352, 8, 8]   [32, 1408, 8, 8]  495,616           True\n",
       "│    │    └─BatchNorm2d (1)                                  [32, 1408, 8, 8]  [32, 1408, 8, 8]  2,816             True\n",
       "│    │    └─SiLU (2)                                         [32, 1408, 8, 8]  [32, 1408, 8, 8]  --                --\n",
       "├─AdaptiveAvgPool2d (avgpool)                                [32, 1408, 8, 8]  [32, 1408, 1, 1]  --                --\n",
       "├─Sequential (classifier)                                    [32, 1408]        [32, 3]           --                True\n",
       "│    └─Dropout (0)                                           [32, 1408]        [32, 1408]        --                --\n",
       "│    └─Linear (1)                                            [32, 1408]        [32, 3]           4,227             True\n",
       "================================================================================================================================\n",
       "Total params: 7,705,221\n",
       "Trainable params: 7,705,221\n",
       "Non-trainable params: 0\n",
       "Total mult-adds (G): 27.29\n",
       "================================================================================================================================\n",
       "Input size (MB): 24.00\n",
       "Forward/backward pass size (MB): 6413.73\n",
       "Params size (MB): 30.82\n",
       "Estimated Total Size (MB): 6468.55\n",
       "================================================================================================================================"
      ]
     },
     "execution_count": 25,
     "metadata": {},
     "output_type": "execute_result"
    }
   ],
   "source": [
    "# Print out model summary\n",
    "summary(effnet_b2, \n",
    "        input_size=(32, 3, 250, 250), # (batch_size, color_channels, height, width)\n",
    "        verbose=0,\n",
    "        col_names=[\"input_size\", \"output_size\", \"num_params\", \"trainable\"],\n",
    "        col_width=17,\n",
    "        row_settings=[\"var_names\"])"
   ]
  },
  {
   "cell_type": "markdown",
   "id": "242a94b5",
   "metadata": {},
   "source": [
    "#### Set model training parameters (multiple experiments possible)"
   ]
  },
  {
   "cell_type": "code",
   "execution_count": 15,
   "id": "d72975d2",
   "metadata": {},
   "outputs": [
    {
     "name": "stdout",
     "output_type": "stream",
     "text": [
      "Loss weights: tensor([3.5000, 8.0000, 4.5000])\n"
     ]
    }
   ],
   "source": [
    "# 5. set number of samples for each class to consider class imbalance\n",
    "\n",
    "#weight_for_0 = (1 / neg) * (total / 2.0)\n",
    "#weight_for_1 = (1 / pos) * (total / 2.0)\n",
    "\n",
    "\n",
    "\n",
    "#loss_weight = torch.Tensor([3730, 7632, 6578, 553, 312]) # 5 classes\n",
    "#loss_weight = torch.Tensor([11362, 6578, 553, 312]) # 4 classes\n",
    "\n",
    "\n",
    "# Loss weight for 3 classes\n",
    "#loss_weight = torch.Tensor([5.042, 1.274, 60.272]) # 3 classes | 0-10 = healthy, 15-95 = stressed, 99-100 = dead\n",
    "#loss_weight = torch.Tensor([1.655, 2.637, 60.272]) # 3 classes | 0-25 = healthy, 30-95 = stressed, 99-100 = dead\n",
    "#loss_weight = torch.Tensor([1.099, 12.732, 60.272]) # 3 classes| 0-45 = healthy, 50-95 = stressed, 99-100 = dead\n",
    "#num_samples_class = [11362, 7131, 312] # 3 classes| 0-25 = healthy, 30-95 = stressed, 99-100 = dead\n",
    "#num_samples_class = [16296, 2197, 312] # 3 classes| 0-40 = healthy, 45-95 = stressed, 99-100 = dead\n",
    "#num_samples_class = [17016, 1477, 312] # 3 classes| 0-45 = healthy, 50-95 = stressed, 99-100 = dead\n",
    "#num_samples_class = [5999, 748, 109] # Dataset_2020 only | 3 classes| 0-45 = healthy, 50-95 = stressed, 99-100 = dead\n",
    "#loss_weight = [(1. / num_samples_class[i])*(6856 / 2.0) for i in range(len(num_samples_class))]\n",
    "#loss_weight = [(1. / num_samples_class[i])*(18805 / 2.0) for i in range(len(num_samples_class))]\n",
    "#loss_weight = torch.Tensor(loss_weight)\n",
    "loss_weight = torch.Tensor([3.5,8,4.5])\n",
    "print(f\"Loss weights: {loss_weight}\")\n",
    "loss_weight = loss_weight.to(device)\n",
    "# data 2020: [1194, 2516, 2776, 273, 97] (12 = NBV 99)\n",
    "# data 2021: [1097, 2548, 2475, 203, 112] (2 = NBV 99)\n",
    "# data 2022: [1439, 2568, 1327, 912, 88] (1 = NBV 99)"
   ]
  },
  {
   "cell_type": "code",
   "execution_count": 14,
   "id": "1aa9bf51",
   "metadata": {},
   "outputs": [],
   "source": [
    "# 1. Create epochs list\n",
    "num_epochs = [40]\n",
    "\n",
    "# 2. Create models list (need to create a new model for each experiment)\n",
    "models_list = [\"effnet_b7\"]\n",
    "\n",
    "# 3. Create dataloaders dictionary for various dataloaders\n",
    "train_dataloaders = {\"train_data\": train_dataloader}\n",
    "\n",
    "# 4. Create target folder name were to save the tensorboard event files\n",
    "target_dir = \"ResNet_EffNet_log_evaluation\""
   ]
  },
  {
   "cell_type": "code",
   "execution_count": 26,
   "id": "6e2580ec",
   "metadata": {},
   "outputs": [
    {
     "name": "stdout",
     "output_type": "stream",
     "text": [
      "Memory allocated: 1081815552 bytes\n"
     ]
    }
   ],
   "source": [
    "###### define Parameters######\n",
    "n_bands = 3 # define number of bands\n",
    "classes = train_dataset.class_names\n",
    "num_classes = len(classes)\n",
    "lrs = [0.0011] # define learning rate\n",
    "min_lr = 1e-7\n",
    "#lr = 0.005 # define learning rate\n",
    "dropout_rate = 0.5 #define dropout rate\n",
    "unfreeze = True\n",
    "gammas = [0.2] # how fast the learning rate decreases per epoch (low number=faster decrease)\n",
    "#weights = [1, 2, 5] # weight for the focal loss to give more importance to the minority classes\n",
    "\n",
    "# Define the number of epochs and the patience\n",
    "patience = 10\n",
    "step_size = 4\n",
    "##############################\n",
    "\n",
    "#import gc\n",
    "# Force garbage collection\n",
    "#gc.collect()\n",
    "torch.cuda.empty_cache()\n",
    "\n",
    "\n",
    "print(f\"Memory allocated: {torch.cuda.memory_allocated()} bytes\") "
   ]
  },
  {
   "cell_type": "code",
   "execution_count": 27,
   "id": "a2f510bf",
   "metadata": {},
   "outputs": [],
   "source": [
    "from torch.optim.lr_scheduler import _LRScheduler\n",
    "\n",
    "class CustomStepLR(_LRScheduler):\n",
    "    def __init__(self, optimizer, step_size, gamma=0.1, last_epoch=-1, min_lr=0):\n",
    "        self.step_size = step_size\n",
    "        self.gamma = gamma\n",
    "        self.min_lr = min_lr\n",
    "        super(CustomStepLR, self).__init__(optimizer, last_epoch)\n",
    "\n",
    "    def get_lr(self):\n",
    "        if self.last_epoch < self.step_size:\n",
    "            return [base_lr for base_lr in self.base_lrs]\n",
    "        else:\n",
    "            lr = [base_lr * self.gamma ** (self.last_epoch // self.step_size) for base_lr in self.base_lrs]\n",
    "            return [max(base_lr, self.min_lr) for base_lr in lr]"
   ]
  },
  {
   "cell_type": "markdown",
   "id": "223c8494",
   "metadata": {},
   "source": [
    "#### Start model training"
   ]
  },
  {
   "cell_type": "code",
   "execution_count": 28,
   "id": "2eef1fde",
   "metadata": {},
   "outputs": [
    {
     "name": "stdout",
     "output_type": "stream",
     "text": [
      "[INFO] Created new effnet_b7 model.\n",
      "[INFO] Experiment number: 1\n",
      "[INFO] Model: effnet_b7\n",
      "[INFO] Number of epochs: 40\n",
      "[INFO] Batch_size: 32\n",
      "[INFO] Number of bands: 3\n",
      "[INFO] Dropout rate: 0.5\n",
      "[INFO] Gamma learning rate: 0.2\n",
      "[INFO] Created SummaryWriter, saving to: ResNet_EffNet_log_evaluation\\2023-04-05\\Evaluating_hyperparameters\\effnet_b7\\40_epochs...\n"
     ]
    },
    {
     "data": {
      "application/vnd.jupyter.widget-view+json": {
       "model_id": "57cc1b25adab439ab87e6e0309ec66c7",
       "version_major": 2,
       "version_minor": 0
      },
      "text/plain": [
       "  0%|          | 0/40 [00:00<?, ?it/s]"
      ]
     },
     "metadata": {},
     "output_type": "display_data"
    },
    {
     "name": "stdout",
     "output_type": "stream",
     "text": [
      "Epoch: 1 \n",
      "Learning rate: 0.0011\n",
      "Train loss: 0.6730 | Train precision: 0.6788 | Train recall: 0.6762 | Train f1score: 0.6775 | Train acc: 0.6676 | Train kappa: 0.4199 \n",
      "Val loss: 0.2992 | Val precision: 0.6543 | Val recall: 0.5601 | Val f1score: 0.5529 | Val acc: 0.9358 | Val kappa: 0.2170 \n",
      "\n",
      "Epoch: 2 \n",
      "Learning rate: 0.0011\n",
      "Train loss: 0.5831 | Train precision: 0.7559 | Train recall: 0.7477 | Train f1score: 0.7517 | Train acc: 0.7184 | Train kappa: 0.5129 \n",
      "Val loss: 0.2428 | Val precision: 0.6363 | Val recall: 0.6403 | Val f1score: 0.6303 | Val acc: 0.9250 | Val kappa: 0.2950 \n",
      "\n",
      "Epoch: 3 \n",
      "Learning rate: 0.0011\n",
      "Train loss: 0.5580 | Train precision: 0.7696 | Train recall: 0.7666 | Train f1score: 0.7681 | Train acc: 0.7346 | Train kappa: 0.5417 \n",
      "Val loss: 0.6130 | Val precision: 0.4923 | Val recall: 0.7128 | Val f1score: 0.5047 | Val acc: 0.6788 | Val kappa: 0.1540 \n",
      "\n",
      "Epoch: 4 \n",
      "Learning rate: 0.0011\n",
      "Train loss: 0.5452 | Train precision: 0.7735 | Train recall: 0.7719 | Train f1score: 0.7725 | Train acc: 0.7446 | Train kappa: 0.5566 \n",
      "Val loss: 0.3289 | Val precision: 0.5689 | Val recall: 0.7074 | Val f1score: 0.6179 | Val acc: 0.8660 | Val kappa: 0.2629 \n",
      "\n",
      "Epoch: 5 \n",
      "Learning rate: 0.00022000000000000003\n",
      "Train loss: 0.5023 | Train precision: 0.8034 | Train recall: 0.8008 | Train f1score: 0.8021 | Train acc: 0.7657 | Train kappa: 0.5956 \n",
      "Val loss: 0.4468 | Val precision: 0.5709 | Val recall: 0.7529 | Val f1score: 0.6211 | Val acc: 0.8344 | Val kappa: 0.2754 \n",
      "\n",
      "Epoch: 6 \n",
      "Learning rate: 0.00022000000000000003\n",
      "Train loss: 0.4746 | Train precision: 0.8212 | Train recall: 0.8138 | Train f1score: 0.8172 | Train acc: 0.7842 | Train kappa: 0.6274 \n",
      "Val loss: 0.4689 | Val precision: 0.5413 | Val recall: 0.7414 | Val f1score: 0.5902 | Val acc: 0.8142 | Val kappa: 0.2476 \n",
      "\n",
      "Epoch: 7 \n",
      "Learning rate: 0.00022000000000000003\n",
      "Train loss: 0.4730 | Train precision: 0.8217 | Train recall: 0.8198 | Train f1score: 0.8207 | Train acc: 0.7851 | Train kappa: 0.6270 \n",
      "Val loss: 0.3553 | Val precision: 0.6468 | Val recall: 0.7455 | Val f1score: 0.6701 | Val acc: 0.8469 | Val kappa: 0.2837 \n",
      "\n",
      "Epoch: 8 \n",
      "Learning rate: 0.00022000000000000003\n",
      "Train loss: 0.4567 | Train precision: 0.8244 | Train recall: 0.8250 | Train f1score: 0.8247 | Train acc: 0.7898 | Train kappa: 0.6381 \n",
      "Val loss: 0.3421 | Val precision: 0.6283 | Val recall: 0.7222 | Val f1score: 0.6583 | Val acc: 0.8677 | Val kappa: 0.3031 \n",
      "\n",
      "Epoch: 9 \n",
      "Learning rate: 4.400000000000001e-05\n",
      "Train loss: 0.4350 | Train precision: 0.8369 | Train recall: 0.8347 | Train f1score: 0.8357 | Train acc: 0.7986 | Train kappa: 0.6507 \n",
      "Val loss: 0.3544 | Val precision: 0.6138 | Val recall: 0.7260 | Val f1score: 0.6479 | Val acc: 0.8573 | Val kappa: 0.2914 \n",
      "\n",
      "Epoch: 10 \n",
      "Learning rate: 4.400000000000001e-05\n",
      "Train loss: 0.4174 | Train precision: 0.8474 | Train recall: 0.8467 | Train f1score: 0.8470 | Train acc: 0.8096 | Train kappa: 0.6703 \n",
      "Val loss: 0.3786 | Val precision: 0.5996 | Val recall: 0.7328 | Val f1score: 0.6352 | Val acc: 0.8392 | Val kappa: 0.2760 \n",
      "\n",
      "Epoch: 11 \n",
      "Learning rate: 4.400000000000001e-05\n",
      "Train loss: 0.4110 | Train precision: 0.8504 | Train recall: 0.8492 | Train f1score: 0.8498 | Train acc: 0.8121 | Train kappa: 0.6750 \n",
      "Val loss: 0.4061 | Val precision: 0.5784 | Val recall: 0.7326 | Val f1score: 0.6183 | Val acc: 0.8281 | Val kappa: 0.2625 \n",
      "\n",
      "Epoch: 12 \n",
      "Learning rate: 4.400000000000001e-05\n",
      "Train loss: 0.4184 | Train precision: 0.8460 | Train recall: 0.8443 | Train f1score: 0.8452 | Train acc: 0.8100 | Train kappa: 0.6702 \n",
      "Val loss: 0.3895 | Val precision: 0.5857 | Val recall: 0.7356 | Val f1score: 0.6262 | Val acc: 0.8365 | Val kappa: 0.2756 \n",
      "\n",
      "Epoch: 13 \n",
      "Learning rate: 8.800000000000002e-06\n",
      "Train loss: 0.4124 | Train precision: 0.8484 | Train recall: 0.8468 | Train f1score: 0.8476 | Train acc: 0.8092 | Train kappa: 0.6687 \n",
      "Val loss: 0.3813 | Val precision: 0.5917 | Val recall: 0.7384 | Val f1score: 0.6314 | Val acc: 0.8389 | Val kappa: 0.2805 \n",
      "\n",
      "Epoch: 14 \n",
      "Learning rate: 8.800000000000002e-06\n",
      "Train loss: 0.4112 | Train precision: 0.8489 | Train recall: 0.8456 | Train f1score: 0.8472 | Train acc: 0.8086 | Train kappa: 0.6689 \n",
      "Val loss: 0.3737 | Val precision: 0.5885 | Val recall: 0.7448 | Val f1score: 0.6352 | Val acc: 0.8500 | Val kappa: 0.2949 \n",
      "\n",
      "Epoch: 15 \n",
      "Learning rate: 8.800000000000002e-06\n",
      "Train loss: 0.4067 | Train precision: 0.8541 | Train recall: 0.8535 | Train f1score: 0.8538 | Train acc: 0.8156 | Train kappa: 0.6803 \n",
      "Val loss: 0.3825 | Val precision: 0.6060 | Val recall: 0.7367 | Val f1score: 0.6401 | Val acc: 0.8396 | Val kappa: 0.2795 \n",
      "\n",
      "Epoch: 16 \n",
      "Learning rate: 8.800000000000002e-06\n",
      "Train loss: 0.4081 | Train precision: 0.8491 | Train recall: 0.8528 | Train f1score: 0.8509 | Train acc: 0.8135 | Train kappa: 0.6771 \n",
      "Val loss: 0.3892 | Val precision: 0.6119 | Val recall: 0.7414 | Val f1score: 0.6439 | Val acc: 0.8368 | Val kappa: 0.2797 \n",
      "\n",
      "Epoch: 17 \n",
      "Learning rate: 1.7600000000000005e-06\n",
      "Train loss: 0.4120 | Train precision: 0.8499 | Train recall: 0.8471 | Train f1score: 0.8484 | Train acc: 0.8093 | Train kappa: 0.6691 \n",
      "Val loss: 0.3832 | Val precision: 0.6113 | Val recall: 0.7353 | Val f1score: 0.6435 | Val acc: 0.8410 | Val kappa: 0.2788 \n",
      "\n",
      "Early stopping after epoch 17\n",
      "delete variables and empty cache...\n",
      "--------------------------------------------------\n",
      "\n",
      "CPU times: total: 51min 8s\n",
      "Wall time: 1h 18min 10s\n"
     ]
    }
   ],
   "source": [
    "%%time\n",
    "\n",
    "# 1. Set the random seeds\n",
    "set_seeds(seed=0)\n",
    "\n",
    "# 2. Keep track of experiment numbers\n",
    "experiment_number = 0\n",
    "\n",
    "# 4. Loop through each number of epochs\n",
    "for epochs in num_epochs:\n",
    "    # 5. Loop through each model name and create a new model based on the name\n",
    "    for model_name in models_list:\n",
    "        # 6. Create information print outs\n",
    "       \n",
    "        \n",
    "        # 7. Select the model\n",
    "        \n",
    "        \n",
    "        #elif model_name == \"effnet_b0_1\":\n",
    "        #    model = models.create_effnetb0(output_shape=num_classes, unfreeze=unfreeze, dropout_rate=dropout_rate, device=device)\n",
    "        #elif model_name == \"effnet_b0_2\":\n",
    "        #    model = models.create_effnetb0(output_shape=num_classes, unfreeze=unfreeze, dropout_rate=dropout_rate, device=device)\n",
    "        #else:\n",
    "        #    \n",
    "\n",
    "        for gamma in gammas:\n",
    "            for lr in lrs:\n",
    "                \n",
    "                # Remove variables and free up memory\n",
    "                \n",
    "                experiment_number += 1\n",
    "                \n",
    "                if model_name == \"effnet_b7\":\n",
    "                    model = models.create_effnetb7(output_shape=num_classes, unfreeze=unfreeze, dropout_rate=dropout_rate, device=device)\n",
    "                if model_name == \"ResNet152\":\n",
    "                    model = models.create_resnet152(output_shape=num_classes, unfreeze=unfreeze, dropout_rate=dropout_rate, device=device)\n",
    "                print(f\"[INFO] Experiment number: {experiment_number}\")\n",
    "                print(f\"[INFO] Model: {model_name}\")\n",
    "                print(f\"[INFO] Number of epochs: {epochs}\")\n",
    "                print(f\"[INFO] Batch_size: {batch_size}\")\n",
    "                print(f\"[INFO] Number of bands: {n_bands}\")\n",
    "                print(f\"[INFO] Dropout rate: {dropout_rate}\")\n",
    "                print(f\"[INFO] Gamma learning rate: {gamma}\")\n",
    "                #print(f\"[INFO] Gamma FocalLoss: {weight}\")\n",
    "                \n",
    "                # Create a new loss and optimizer for every model\n",
    "                loss_fn = nn.CrossEntropyLoss()\n",
    "                #loss_fn = FocalLoss(weights=weight)\n",
    "                optimizer = torch.optim.Adam(params=model.parameters(), lr=lr)\n",
    "                lr_scheduler = CustomStepLR(optimizer, step_size=step_size, gamma=gamma, min_lr=min_lr)\n",
    "                #lr_scheduler = StepLR(optimizer, step_size=step_size, gamma=gamma)\n",
    "                #lr_scheduler = ReduceLROnPlateau(optimizer, mode='min', factor=gamma, patience=step_size, min_lr=min_lr)\n",
    "                #lr_scheduler = ExponentialLR(optimizer, gamma=gamma)\n",
    "                \n",
    "                # Train target model with target dataloaders and track experiments\n",
    "                results = train(model=model,\n",
    "                                model_name=model_name,\n",
    "                                n_bands=n_bands,\n",
    "                                batch_size=batch_size,\n",
    "                                train_dataloader=train_dataloader,\n",
    "                                val_dataloader=val_dataloader, \n",
    "                                optimizer=optimizer,\n",
    "                                loss_fn=loss_fn,\n",
    "                                lr_scheduler=lr_scheduler,\n",
    "                                num_classes=num_classes,\n",
    "                                epochs=epochs,\n",
    "                                experiment_num=experiment_number,\n",
    "                                device=device,\n",
    "                                writer=create_writer(target_dir=target_dir,\n",
    "                                                     experiment_name='Evaluating_hyperparameters',\n",
    "                                                     model_name=model_name,\n",
    "                                                     extra=f\"{epochs}_epochs\"),\n",
    "                                early_stop_patience = patience) \n",
    "                \n",
    "                del loss_fn, optimizer, lr_scheduler, model, results\n",
    "                torch.cuda.empty_cache()\n",
    "                print(\"delete variables and empty cache...\")\n",
    "                \n",
    "                print(\"-\"*50 + \"\\n\")"
   ]
  },
  {
   "cell_type": "code",
   "execution_count": 22,
   "id": "d02ddac3",
   "metadata": {},
   "outputs": [
    {
     "name": "stdout",
     "output_type": "stream",
     "text": [
      "[INFO] Created new effnet_b7 model.\n"
     ]
    },
    {
     "data": {
      "text/plain": [
       "<All keys matched successfully>"
      ]
     },
     "execution_count": 22,
     "metadata": {},
     "output_type": "execute_result"
    }
   ],
   "source": [
    "## Setup the best model filepath\n",
    "best_model_path = r\"C:\\Users\\lwfeckesim\\01_PyTorch\\wze-uav\\wze-uav-master\\models\\effnet_b7\\1_effnet_b7_18_epochs.pth\"\n",
    "\n",
    "# Instantiate a new instance of EffNetB0 (to load the saved state_dict() to)\n",
    "unfreeze=True\n",
    "best_model = models.create_effnetb7(output_shape=num_classes, unfreeze=unfreeze, dropout_rate=dropout_rate, device=device)\n",
    "\n",
    "# Load the saved best model state_dict()\n",
    "best_model.load_state_dict(torch.load(best_model_path))"
   ]
  },
  {
   "cell_type": "code",
   "execution_count": 23,
   "id": "6dfbc663",
   "metadata": {},
   "outputs": [],
   "source": [
    "def make_predictions(model: torch.nn.Module, \n",
    "                     test_dataloader: torch.utils.data.DataLoader,\n",
    "                     device: torch.device):\n",
    "    # 1. Make predictions with trained model\n",
    "    y_preds = []\n",
    "    y_labels = []\n",
    "    test_loss, test_precision, test_recall, test_f1_score, test_acc, test_prec_rec_fscore = 0, 0, 0, 0, 0, 0\n",
    "    count = 0\n",
    "    model.eval()\n",
    "    \n",
    "    # set up metrics\n",
    "    pre_metrics = MulticlassPrecision(num_classes=num_classes, average='macro').to(device)\n",
    "    rec_metrics = MulticlassRecall(num_classes=num_classes, average='macro').to(device)\n",
    "    f1_metrics = MulticlassF1Score(num_classes=num_classes, average='macro').to(device)\n",
    "    acc_metrics = MulticlassAccuracy(num_classes=num_classes, average='macro').to(device)\n",
    "    \n",
    "    with torch.inference_mode():\n",
    "        for X, y in tqdm(test_dataloader, desc=\"Making predictions\"):\n",
    "            # Send data and targets to target device\n",
    "            X, y = X.to(device), y.to(device)\n",
    "            # Do the forward pass\n",
    "            y_logit = model(X)\n",
    "            # Turn predictions from logits -> prediction probabilities -> predictions labels\n",
    "            y_pred = torch.softmax(y_logit, dim=1).argmax(dim=1)\n",
    "            # Put predictions on CPU for evaluation\n",
    "            y_preds.append(y_pred.cpu())\n",
    "            y_labels.append(y.cpu())\n",
    "            \n",
    "            #other metrics\n",
    "            test_acc += ((y_pred == y).sum().item()/len(y_pred))\n",
    "            y_pred_class = y_pred.detach().cpu().numpy() \n",
    "            y_class = y.detach().cpu().numpy()\n",
    "            test_precision += precision_score(y_class, y_pred_class, average='macro', zero_division=1)\n",
    "            test_recall += recall_score(y_class, y_pred_class, average='macro', zero_division=1)\n",
    "            test_f1_score += f1_score(y_class, y_pred_class, average='macro', zero_division=1)\n",
    "            #print(test_f1_score)\n",
    "            #test_prec_rec_fscore += precision_recall_fscore_support(y_class, y_pred_class, average='macro')\n",
    "            # collect all labels and predictions\n",
    "            acc_metrics.update(y_pred, y)\n",
    "            pre_metrics.update(y_pred, y)\n",
    "            rec_metrics.update(y_pred, y)\n",
    "            f1_metrics.update(y_pred, y)\n",
    "    \n",
    "    test_acc = test_acc / len(test_dataloader)\n",
    "    # Concatenate list of predictions into a tensor\n",
    "    y_pred_tensor = torch.cat(y_preds)\n",
    "    y_labels_tensor = torch.cat(y_labels)\n",
    "    test_f1_score = f1_score(y_labels_tensor.numpy(), y_pred_tensor.numpy(), average='macro', zero_division=0)\n",
    "    test_precision = precision_score(y_labels_tensor.numpy(), y_pred_tensor.numpy(), average='macro', zero_division=0)\n",
    "    test_recall = recall_score(y_labels_tensor.cpu().numpy(), y_pred_tensor.numpy(), average='macro', zero_division=0)\n",
    "    test_precision2 = pre_metrics.compute().item()\n",
    "    test_recall2 = rec_metrics.compute().item()\n",
    "    test_f1_score2 = f1_metrics.compute().item()\n",
    "    \n",
    "    # Print classification report\n",
    "    y_true = y_labels_tensor.detach().cpu().numpy()\n",
    "    report = classification_report(y_true, y_pred_tensor.cpu().numpy(), target_names=class_names)\n",
    "    print(report)\n",
    "    \n",
    "    return y_pred_tensor, y_labels_tensor, test_loss, test_recall, test_precision, test_f1_score, test_recall2, test_precision2, test_f1_score2, test_acc"
   ]
  },
  {
   "cell_type": "code",
   "execution_count": 24,
   "id": "aab9e321",
   "metadata": {},
   "outputs": [
    {
     "data": {
      "application/vnd.jupyter.widget-view+json": {
       "model_id": "16483f2f12f64688a3d987bba76279e7",
       "version_major": 2,
       "version_minor": 0
      },
      "text/plain": [
       "Making predictions:   0%|          | 0/78 [00:00<?, ?it/s]"
      ]
     },
     "metadata": {},
     "output_type": "display_data"
    },
    {
     "name": "stdout",
     "output_type": "stream",
     "text": [
      "              precision    recall  f1-score   support\n",
      "\n",
      "     healthy       0.96      0.88      0.92      2228\n",
      "    stressed       0.34      0.61      0.44       226\n",
      "        dead       0.70      0.83      0.76        42\n",
      "\n",
      "    accuracy                           0.85      2496\n",
      "   macro avg       0.67      0.77      0.70      2496\n",
      "weighted avg       0.90      0.85      0.87      2496\n",
      "\n",
      "Test loss: 0\n",
      "Test precision: 0.6659518046046397\n",
      "Test recall: 0.772631423784885\n",
      "Test F1score: 0.7042982219722874\n",
      "Test Accuracy: 0.8529647435897436\n"
     ]
    },
    {
     "data": {
      "image/png": "[encoded data removed]",
      "text/plain": [
       "<Figure size 720x504 with 1 Axes>"
      ]
     },
     "metadata": {
      "needs_background": "light"
     },
     "output_type": "display_data"
    }
   ],
   "source": [
    "# 2. Setup confusion matrix instance and compare predictions to targets\n",
    "#from wze_uav.analysis import *\n",
    "y_pred_tensor, y_labels_tensor, test_loss, test_recall, test_precision, test_f1_score, test_recall2, test_precision2, test_f1_score2, test_acc = make_predictions(model=best_model,\n",
    "                                 test_dataloader=test_dataloader, \n",
    "                                 device=device)\n",
    "\n",
    "y_labels_tensor = y_labels_tensor.detach().cpu().numpy()\n",
    "y_pred_tensor = y_pred_tensor.detach().cpu().numpy()\n",
    "\n",
    "#confmat = ConfusionMatrix(num_classes=num_classes, task='multiclass')\n",
    "#confmat_tensor = confmat(preds=y_pred_tensor,\n",
    "#                         target=test_labels)\n",
    "labels = np.array([0,1,2])\n",
    "confmat = confusion_matrix(y_labels_tensor, y_pred_tensor, labels=labels)\n",
    "\n",
    "# 3. Plot the confusion matrix\n",
    "fig, ax = plot_confusion_matrix(\n",
    "    conf_mat=confmat, # matplotlib likes working with NumPy \n",
    "    class_names=class_names, # turn the row and column labels into class names\n",
    "    figsize=(10, 7)\n",
    ");\n",
    "\n",
    "print(f\"Test loss: {test_loss}\")\n",
    "print(f\"Test precision: {test_precision}\")\n",
    "print(f\"Test recall: {test_recall}\")\n",
    "print(f\"Test F1score: {test_f1_score}\") \n",
    "#print(f\"Test F1score: {test_prec_rec_fscore}\")\n",
    "#print(f\"Test Kappa: {test_kappa}\")\n",
    "print(f\"Test Accuracy: {test_acc}\")\n",
    "#print(f\"Test Logits: {y_logit}\")\n",
    "#print(f\"Test Predictions: {y_pred.cpu().numpy()}\")\n",
    "#print(f\"Test Labels: {y.cpu().numpy()}\") "
   ]
  },
  {
   "cell_type": "code",
   "execution_count": 58,
   "id": "4b9a75f6",
   "metadata": {},
   "outputs": [
    {
     "name": "stdout",
     "output_type": "stream",
     "text": [
      "Test loss: 0\n",
      "Test precision: 0.7109413486597705\n",
      "Test recall: 0.7409810346449421\n",
      "Test F1score: 0.7002868516628092\n",
      "Test precision: 0.7109413146972656\n",
      "Test recall: 0.7409810423851013\n",
      "Test F1score: 0.700286865234375\n"
     ]
    }
   ],
   "source": [
    "print(f\"Test loss: {test_loss}\")\n",
    "print(f\"Test precision: {test_precision}\")\n",
    "print(f\"Test recall: {test_recall}\")\n",
    "print(f\"Test F1score: {test_f1_score}\") \n",
    "print(f\"Test precision: {test_precision2}\")\n",
    "print(f\"Test recall: {test_recall2}\")\n",
    "print(f\"Test F1score: {test_f1_score2}\") "
   ]
  },
  {
   "cell_type": "code",
   "execution_count": 33,
   "id": "7588116f",
   "metadata": {},
   "outputs": [
    {
     "ename": "NameError",
     "evalue": "name 'y_set' is not defined",
     "output_type": "error",
     "traceback": [
      "\u001b[1;31m---------------------------------------------------------------------------\u001b[0m",
      "\u001b[1;31mNameError\u001b[0m                                 Traceback (most recent call last)",
      "Input \u001b[1;32mIn [33]\u001b[0m, in \u001b[0;36m<cell line: 1>\u001b[1;34m()\u001b[0m\n\u001b[1;32m----> 1\u001b[0m \u001b[43my_set\u001b[49m\u001b[38;5;241m.\u001b[39mcpu()\n",
      "\u001b[1;31mNameError\u001b[0m: name 'y_set' is not defined"
     ]
    }
   ],
   "source": [
    "y_set.cpu()"
   ]
  },
  {
   "cell_type": "code",
   "execution_count": 141,
   "id": "1c195b3e",
   "metadata": {},
   "outputs": [
    {
     "data": {
      "text/plain": [
       "tensor([1, 0, 1,  ..., 0, 0, 0])"
      ]
     },
     "execution_count": 141,
     "metadata": {},
     "output_type": "execute_result"
    }
   ],
   "source": [
    "test_dataset.labels"
   ]
  },
  {
   "cell_type": "code",
   "execution_count": null,
   "id": "975ec08c",
   "metadata": {},
   "outputs": [],
   "source": []
  },
  {
   "cell_type": "code",
   "execution_count": 101,
   "id": "67e545ce",
   "metadata": {},
   "outputs": [
    {
     "data": {
      "application/vnd.jupyter.widget-view+json": {
       "model_id": "dc8505717d294112ad2ddb9ba43ad4e5",
       "version_major": 2,
       "version_minor": 0
      },
      "text/plain": [
       "Making predictions:   0%|          | 0/78 [00:00<?, ?it/s]"
      ]
     },
     "metadata": {},
     "output_type": "display_data"
    },
    {
     "ename": "NameError",
     "evalue": "name 'y_set' is not defined",
     "output_type": "error",
     "traceback": [
      "\u001b[1;31m---------------------------------------------------------------------------\u001b[0m",
      "\u001b[1;31mNameError\u001b[0m                                 Traceback (most recent call last)",
      "Input \u001b[1;32mIn [101]\u001b[0m, in \u001b[0;36m<cell line: 45>\u001b[1;34m()\u001b[0m\n\u001b[0;32m     41\u001b[0m y_pred_tensor \u001b[38;5;241m=\u001b[39m torch\u001b[38;5;241m.\u001b[39mcat(y_preds)\n\u001b[0;32m     42\u001b[0m \u001b[38;5;66;03m#test_f1_score = f1_score(y_set.detach().cpu().numpy(), y_pred_tensor.cpu().numpy(), average='macro', zero_division=0, labels=[0,1,2])\u001b[39;00m\n\u001b[0;32m     43\u001b[0m \n\u001b[0;32m     44\u001b[0m \u001b[38;5;66;03m# Print classification report\u001b[39;00m\n\u001b[1;32m---> 45\u001b[0m y_true \u001b[38;5;241m=\u001b[39m \u001b[43my_set\u001b[49m\u001b[38;5;241m.\u001b[39mdetach()\u001b[38;5;241m.\u001b[39mcpu()\u001b[38;5;241m.\u001b[39mnumpy()\n\u001b[0;32m     46\u001b[0m report \u001b[38;5;241m=\u001b[39m classification_report(y_true, y_pred_tensor\u001b[38;5;241m.\u001b[39mcpu()\u001b[38;5;241m.\u001b[39mnumpy(), target_names\u001b[38;5;241m=\u001b[39mclass_names)\n\u001b[0;32m     47\u001b[0m \u001b[38;5;28mprint\u001b[39m(report)\n",
      "\u001b[1;31mNameError\u001b[0m: name 'y_set' is not defined"
     ]
    }
   ],
   "source": [
    "y_preds = []\n",
    "y_labels = []\n",
    "labels = np.array([0,1,2])\n",
    "test_loss, test_precision, test_recall, test_f1_score, test_acc = 0, 0, 0, 0, 0\n",
    "count = 0\n",
    "model.eval()\n",
    "with torch.inference_mode():\n",
    "    for X, y in tqdm(test_dataloader, desc=\"Making predictions\"):\n",
    "        # Send data and targets to target device\n",
    "        X, y = X.to(device), y.to(device)\n",
    "        # Do the forward pass\n",
    "        y_logit = model(X)\n",
    "        # Turn predictions from logits -> prediction probabilities -> predictions labels\n",
    "        y_pred = torch.softmax(y_logit, dim=1).argmax(dim=1)\n",
    "        # Put predictions on CPU for evaluation\n",
    "        y_preds.append(y_pred.cpu())\n",
    "        y_labels.append(y.cpu())\n",
    "        \n",
    "        #other metrics\n",
    "        test_acc += ((y_pred == y).sum().item()/len(y_pred))\n",
    "        y_pred_class = y_pred.detach().cpu().numpy() \n",
    "        y_class = y.detach().cpu().numpy()\n",
    "        test_precision += precision_score(y_class, y_pred_class, average='macro', zero_division=1, labels=labels)\n",
    "        test_recall += recall_score(y_class, y_pred_class, average='macro', zero_division=1, labels=labels)\n",
    "        #test_f1_score += f1_score(y_class, y_pred_class, average='macro', zero_division=1, labels=labels)\n",
    "        \n",
    "        #if count >= 1:\n",
    "        #    y_set = torch.cat((y_set, y))\n",
    "        #    count = count + 1\n",
    "        #else:\n",
    "        #    y_set = y\n",
    "        #    count = count + 1\n",
    "        \n",
    "test_loss = test_loss / len(test_dataloader)\n",
    "test_precision = test_precision / len(test_dataloader)\n",
    "test_recall = test_recall / len(test_dataloader)\n",
    "test_f1_score2 = test_f1_score / len(test_dataloader)\n",
    "#test_kappa = test_kappa / len(dataloader)\n",
    "test_acc = test_acc / len(test_dataloader)\n",
    "# Concatenate list of predictions into a tensor\n",
    "y_pred_tensor = torch.cat(y_preds)\n",
    "#test_f1_score = f1_score(y_set.detach().cpu().numpy(), y_pred_tensor.cpu().numpy(), average='macro', zero_division=0, labels=[0,1,2])\n",
    "\n",
    "# Print classification report\n",
    "y_true = y_set.detach().cpu().numpy()\n",
    "report = classification_report(y_true, y_pred_tensor.cpu().numpy(), target_names=class_names)\n",
    "print(report)"
   ]
  },
  {
   "cell_type": "code",
   "execution_count": 140,
   "id": "67375a90",
   "metadata": {},
   "outputs": [
    {
     "data": {
      "text/plain": [
       "0.528680154128826"
      ]
     },
     "execution_count": 140,
     "metadata": {},
     "output_type": "execute_result"
    }
   ],
   "source": [
    "test_f1_score"
   ]
  },
  {
   "cell_type": "code",
   "execution_count": 122,
   "id": "dfe859bc",
   "metadata": {},
   "outputs": [
    {
     "data": {
      "text/plain": [
       "array([ True,  True,  True, False,  True, False,  True, False,  True,\n",
       "        True,  True,  True,  True,  True,  True,  True])"
      ]
     },
     "execution_count": 122,
     "metadata": {},
     "output_type": "execute_result"
    }
   ],
   "source": [
    "make = (y_class == y_pred_class)\n",
    "make"
   ]
  },
  {
   "cell_type": "code",
   "execution_count": 99,
   "id": "c5e4ed0f",
   "metadata": {},
   "outputs": [
    {
     "data": {
      "text/plain": [
       "tensor([0, 0, 0, 2, 0, 1, 0, 1, 0, 0, 0, 0, 0, 0, 0, 0], device='cuda:0')"
      ]
     },
     "execution_count": 99,
     "metadata": {},
     "output_type": "execute_result"
    }
   ],
   "source": [
    "torch.softmax(y_logit, dim=1).argmax(dim=1)"
   ]
  },
  {
   "cell_type": "code",
   "execution_count": 101,
   "id": "9c2276f1",
   "metadata": {},
   "outputs": [
    {
     "data": {
      "text/plain": [
       "tensor([0, 0, 0, 0, 0, 0, 0, 0, 0, 0, 0, 0, 0, 0, 0, 0], device='cuda:0')"
      ]
     },
     "execution_count": 101,
     "metadata": {},
     "output_type": "execute_result"
    }
   ],
   "source": [
    "y"
   ]
  },
  {
   "cell_type": "code",
   "execution_count": 112,
   "id": "327668ed",
   "metadata": {},
   "outputs": [],
   "source": [
    "test = (y_pred == y).sum().item()/16"
   ]
  },
  {
   "cell_type": "code",
   "execution_count": 113,
   "id": "b42f1849",
   "metadata": {},
   "outputs": [
    {
     "data": {
      "text/plain": [
       "0.8125"
      ]
     },
     "execution_count": 113,
     "metadata": {},
     "output_type": "execute_result"
    }
   ],
   "source": [
    "test"
   ]
  },
  {
   "cell_type": "code",
   "execution_count": 114,
   "id": "38ff6f69",
   "metadata": {},
   "outputs": [],
   "source": [
    " y_pred_class = y_pred.detach().cpu().numpy() "
   ]
  },
  {
   "cell_type": "code",
   "execution_count": 115,
   "id": "6f986a5a",
   "metadata": {},
   "outputs": [
    {
     "data": {
      "text/plain": [
       "array([0, 0, 0, 2, 0, 1, 0, 1, 0, 0, 0, 0, 0, 0, 0, 0], dtype=int64)"
      ]
     },
     "execution_count": 115,
     "metadata": {},
     "output_type": "execute_result"
    }
   ],
   "source": [
    "y_pred_class"
   ]
  },
  {
   "cell_type": "code",
   "execution_count": null,
   "id": "e3f678d7",
   "metadata": {},
   "outputs": [],
   "source": []
  }
 ],
 "metadata": {
  "kernelspec": {
   "display_name": "Python 3 (ipykernel)",
   "language": "python",
   "name": "python3"
  },
  "language_info": {
   "codemirror_mode": {
    "name": "ipython",
    "version": 3
   },
   "file_extension": ".py",
   "mimetype": "text/x-python",
   "name": "python",
   "nbconvert_exporter": "python",
   "pygments_lexer": "ipython3",
   "version": "3.9.16"
  }
 },
 "nbformat": 4,
 "nbformat_minor": 5
}
