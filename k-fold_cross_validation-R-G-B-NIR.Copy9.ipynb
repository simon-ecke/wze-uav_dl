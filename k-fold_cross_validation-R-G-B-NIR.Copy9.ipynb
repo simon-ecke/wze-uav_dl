{
 "cells": [
  {
   "cell_type": "markdown",
   "id": "c1acdaa3",
   "metadata": {},
   "source": [
    "# WZE-UAV Image Classification using Deep Learning"
   ]
  },
  {
   "cell_type": "code",
   "execution_count": 1,
   "id": "2159aac5",
   "metadata": {},
   "outputs": [],
   "source": [
    "import os\n",
    "import gc\n",
    "import glob\n",
    "import numpy as np\n",
    "from pathlib import Path\n",
    "from tqdm.auto import tqdm\n",
    "from sklearn.metrics import confusion_matrix, classification_report\n",
    "from sklearn.model_selection import KFold"
   ]
  },
  {
   "cell_type": "code",
   "execution_count": 2,
   "id": "0026f7a9",
   "metadata": {},
   "outputs": [],
   "source": [
    "import torch\n",
    "import torchvision.transforms as T\n",
    "import torchvision\n",
    "from torch import nn\n",
    "from torch.utils.data import DataLoader\n",
    "from torchvision import datasets, transforms\n",
    "from torch.utils.data import Dataset\n",
    "import torch.optim as optim\n",
    "from torch.optim.lr_scheduler import ExponentialLR\n",
    "from mlxtend.plotting import plot_confusion_matrix"
   ]
  },
  {
   "cell_type": "code",
   "execution_count": 3,
   "id": "b160d7b4",
   "metadata": {},
   "outputs": [],
   "source": [
    "import wze_uav.data_loader as data_loader\n",
    "import wze_uav.models as models\n",
    "from wze_uav.engine import *\n",
    "from wze_uav.utils2 import *\n",
    "#from wze_uav.log_writer import create_writer\n",
    "from wze_uav.datasplit import *\n",
    "from efficientnet import model_effnet #for custom effnet with n_channels input\n",
    "import wandb"
   ]
  },
  {
   "cell_type": "markdown",
   "id": "2bd4fb2f",
   "metadata": {},
   "source": [
    "#### Get PyTorch version"
   ]
  },
  {
   "cell_type": "code",
   "execution_count": 4,
   "id": "c10886b1",
   "metadata": {},
   "outputs": [
    {
     "name": "stdout",
     "output_type": "stream",
     "text": [
      "torch version: 1.13.1+cu116\n",
      "torchvision version: 0.14.1+cu116\n"
     ]
    }
   ],
   "source": [
    "print(f\"torch version: {torch.__version__}\")\n",
    "print(f\"torchvision version: {torchvision.__version__}\")"
   ]
  },
  {
   "cell_type": "markdown",
   "id": "aa6a83cf",
   "metadata": {},
   "source": [
    "#### Preparing device agnostic code "
   ]
  },
  {
   "cell_type": "code",
   "execution_count": 5,
   "id": "13d5de88",
   "metadata": {},
   "outputs": [
    {
     "name": "stdout",
     "output_type": "stream",
     "text": [
      "cuda\n",
      "Index of current divice: 0\n",
      "Number of GPUs available: 1\n",
      "GPU Model: Quadro RTX 8000\n"
     ]
    }
   ],
   "source": [
    "# ensure device agnostic code\n",
    "device = 'cuda' if torch.cuda.is_available() else 'cpu'\n",
    "print(device)\n",
    "\n",
    "# get index of currently selected device\n",
    "print(f\"Index of current divice: {torch.cuda.current_device()}\")\n",
    "# get number of GPUs available\n",
    "print(f\"Number of GPUs available: {torch.cuda.device_count()}\")\n",
    "# get the name of the device\n",
    "print(f\"GPU Model: {torch.cuda.get_device_name(0)}\")"
   ]
  },
  {
   "cell_type": "markdown",
   "id": "8ef6b169",
   "metadata": {},
   "source": [
    "#### Login to Weights & Biases to track results"
   ]
  },
  {
   "cell_type": "code",
   "execution_count": 6,
   "id": "a59d27cf",
   "metadata": {},
   "outputs": [
    {
     "name": "stderr",
     "output_type": "stream",
     "text": [
      "Failed to detect the name of this notebook, you can set it manually with the WANDB_NOTEBOOK_NAME environment variable to enable code saving.\n",
      "\u001b[34m\u001b[1mwandb\u001b[0m: Currently logged in as: \u001b[33msimon-ecke\u001b[0m. Use \u001b[1m`wandb login --relogin`\u001b[0m to force relogin\n"
     ]
    },
    {
     "data": {
      "text/html": [
       "Tracking run with wandb version 0.14.2"
      ],
      "text/plain": [
       "<IPython.core.display.HTML object>"
      ]
     },
     "metadata": {},
     "output_type": "display_data"
    },
    {
     "data": {
      "text/html": [
       "Run data is saved locally in <code>C:\\Users\\lwfeckesim\\01_PyTorch\\wze-uav\\wze-uav-master\\wandb\\run-20230416_092910-bn8hyv9b</code>"
      ],
      "text/plain": [
       "<IPython.core.display.HTML object>"
      ]
     },
     "metadata": {},
     "output_type": "display_data"
    },
    {
     "data": {
      "text/html": [
       "Syncing run <strong><a href='https://wandb.ai/simon-ecke/wze-uav/runs/bn8hyv9b' target=\"_blank\">peach-waterfall-81</a></strong> to <a href='https://wandb.ai/simon-ecke/wze-uav' target=\"_blank\">Weights & Biases</a> (<a href='https://wandb.me/run' target=\"_blank\">docs</a>)<br/>"
      ],
      "text/plain": [
       "<IPython.core.display.HTML object>"
      ]
     },
     "metadata": {},
     "output_type": "display_data"
    },
    {
     "data": {
      "text/html": [
       " View project at <a href='https://wandb.ai/simon-ecke/wze-uav' target=\"_blank\">https://wandb.ai/simon-ecke/wze-uav</a>"
      ],
      "text/plain": [
       "<IPython.core.display.HTML object>"
      ]
     },
     "metadata": {},
     "output_type": "display_data"
    },
    {
     "data": {
      "text/html": [
       " View run at <a href='https://wandb.ai/simon-ecke/wze-uav/runs/bn8hyv9b' target=\"_blank\">https://wandb.ai/simon-ecke/wze-uav/runs/bn8hyv9b</a>"
      ],
      "text/plain": [
       "<IPython.core.display.HTML object>"
      ]
     },
     "metadata": {},
     "output_type": "display_data"
    },
    {
     "data": {
      "text/html": [
       "<button onClick=\"this.nextSibling.style.display='block';this.style.display='none';\">Display W&B run</button><iframe src='https://wandb.ai/simon-ecke/wze-uav/runs/bn8hyv9b?jupyter=true' style='border:none;width:100%;height:420px;display:none;'></iframe>"
      ],
      "text/plain": [
       "<wandb.sdk.wandb_run.Run at 0x1ddd8acd790>"
      ]
     },
     "execution_count": 6,
     "metadata": {},
     "output_type": "execute_result"
    }
   ],
   "source": [
    "# IMPORTANT: The proxy needs to be set in anaconda!\n",
    "wandb.login()\n",
    "#wandb.init(settings=wandb.Settings(start_method=\"thread\"))\n",
    "wandb.init(project='wze-uav', entity='simon-ecke')"
   ]
  },
  {
   "cell_type": "markdown",
   "id": "a26a6a34",
   "metadata": {},
   "source": [
    "#### Ensure reproducibility "
   ]
  },
  {
   "cell_type": "code",
   "execution_count": 7,
   "id": "dd4656a7",
   "metadata": {},
   "outputs": [],
   "source": [
    "# for more information, see also: https://pytorch.org/docs/stable/notes/randomness.html\n",
    "\n",
    "# Set seeds\n",
    "def set_seeds(seed: int=42):\n",
    "    \"\"\"Sets random sets for torch operations.\n",
    "\n",
    "    Args:\n",
    "        seed (int, optional): Random seed to set. Defaults to 42.\n",
    "    \"\"\"\n",
    "    # Set the seed for general torch operations\n",
    "    torch.manual_seed(seed)\n",
    "    # Set the seed for CUDA torch operations (ones that happen on the GPU)\n",
    "    torch.cuda.manual_seed(seed)\n",
    "    # seed for numpy\n",
    "    np.random.seed(seed)\n",
    "\n",
    "set_seeds(42) \n",
    "\n",
    "# Set to true -> might speed up the process but should be set to False if reproducible results are desired\n",
    "torch.backends.cudnn.benchmark = False\n"
   ]
  },
  {
   "cell_type": "markdown",
   "id": "8be33671",
   "metadata": {},
   "source": [
    "#### Define file directory"
   ]
  },
  {
   "cell_type": "code",
   "execution_count": 8,
   "id": "30645f36",
   "metadata": {},
   "outputs": [],
   "source": [
    "#####################################################################################\n",
    "# 3 channel input (r-g-b)\n",
    "#data_path = r\"D:\\Drohnendaten\\10_WZE-UAV\\Auswertung_findatree\\Datasplit\\ROI\\rgb\"\n",
    "\n",
    "# 4 channel input (r-g-b-nir)\n",
    "data_path = r\"D:\\Drohnendaten\\10_WZE-UAV\\Auswertung_findatree\\Datasplit\\ROI\\rgb-nir\"\n",
    "\n",
    "# 5 channel input (r-g-b-re-nir)\n",
    "#data_path = r\"D:\\Drohnendaten\\10_WZE-UAV\\Auswertung_findatree\\Datasplit\\ROI\\rgb-re-nir\"\n",
    "#####################################################################################"
   ]
  },
  {
   "cell_type": "markdown",
   "id": "4560ce64",
   "metadata": {},
   "source": [
    "#### Get all file paths"
   ]
  },
  {
   "cell_type": "code",
   "execution_count": 9,
   "id": "aa072e4c",
   "metadata": {},
   "outputs": [],
   "source": [
    "fn_list = os.listdir(data_path)\n",
    "path_list = []\n",
    "# Iterate over all datafiles\n",
    "for year in fn_list:\n",
    "    year_dir = f'{data_path}\\\\{year}'\n",
    "    for filename in os.listdir(year_dir):\n",
    "        path = f'{year_dir}\\\\{filename}'\n",
    "        path_list.append(path)"
   ]
  },
  {
   "cell_type": "code",
   "execution_count": 10,
   "id": "a46baae4",
   "metadata": {},
   "outputs": [
    {
     "data": {
      "text/plain": [
       "['D:\\\\Drohnendaten\\\\10_WZE-UAV\\\\Auswertung_findatree\\\\Datasplit\\\\ROI\\\\rgb-nir\\\\2020\\\\tnr10527_rois.hdf5',\n",
       " 'D:\\\\Drohnendaten\\\\10_WZE-UAV\\\\Auswertung_findatree\\\\Datasplit\\\\ROI\\\\rgb-nir\\\\2020\\\\tnr10533_rois.hdf5',\n",
       " 'D:\\\\Drohnendaten\\\\10_WZE-UAV\\\\Auswertung_findatree\\\\Datasplit\\\\ROI\\\\rgb-nir\\\\2020\\\\tnr10545_rois.hdf5',\n",
       " 'D:\\\\Drohnendaten\\\\10_WZE-UAV\\\\Auswertung_findatree\\\\Datasplit\\\\ROI\\\\rgb-nir\\\\2020\\\\tnr10547_rois.hdf5',\n",
       " 'D:\\\\Drohnendaten\\\\10_WZE-UAV\\\\Auswertung_findatree\\\\Datasplit\\\\ROI\\\\rgb-nir\\\\2020\\\\tnr10912_rois.hdf5',\n",
       " 'D:\\\\Drohnendaten\\\\10_WZE-UAV\\\\Auswertung_findatree\\\\Datasplit\\\\ROI\\\\rgb-nir\\\\2020\\\\tnr11032_rois.hdf5',\n",
       " 'D:\\\\Drohnendaten\\\\10_WZE-UAV\\\\Auswertung_findatree\\\\Datasplit\\\\ROI\\\\rgb-nir\\\\2020\\\\tnr11040_rois.hdf5',\n",
       " 'D:\\\\Drohnendaten\\\\10_WZE-UAV\\\\Auswertung_findatree\\\\Datasplit\\\\ROI\\\\rgb-nir\\\\2020\\\\tnr11044_rois.hdf5',\n",
       " 'D:\\\\Drohnendaten\\\\10_WZE-UAV\\\\Auswertung_findatree\\\\Datasplit\\\\ROI\\\\rgb-nir\\\\2020\\\\tnr11048_rois.hdf5',\n",
       " 'D:\\\\Drohnendaten\\\\10_WZE-UAV\\\\Auswertung_findatree\\\\Datasplit\\\\ROI\\\\rgb-nir\\\\2020\\\\tnr11052_rois.hdf5',\n",
       " 'D:\\\\Drohnendaten\\\\10_WZE-UAV\\\\Auswertung_findatree\\\\Datasplit\\\\ROI\\\\rgb-nir\\\\2020\\\\tnr11056_rois.hdf5',\n",
       " 'D:\\\\Drohnendaten\\\\10_WZE-UAV\\\\Auswertung_findatree\\\\Datasplit\\\\ROI\\\\rgb-nir\\\\2020\\\\tnr11078_rois.hdf5',\n",
       " 'D:\\\\Drohnendaten\\\\10_WZE-UAV\\\\Auswertung_findatree\\\\Datasplit\\\\ROI\\\\rgb-nir\\\\2020\\\\tnr11080_rois.hdf5',\n",
       " 'D:\\\\Drohnendaten\\\\10_WZE-UAV\\\\Auswertung_findatree\\\\Datasplit\\\\ROI\\\\rgb-nir\\\\2020\\\\tnr11090_rois.hdf5',\n",
       " 'D:\\\\Drohnendaten\\\\10_WZE-UAV\\\\Auswertung_findatree\\\\Datasplit\\\\ROI\\\\rgb-nir\\\\2020\\\\tnr11092_rois.hdf5',\n",
       " 'D:\\\\Drohnendaten\\\\10_WZE-UAV\\\\Auswertung_findatree\\\\Datasplit\\\\ROI\\\\rgb-nir\\\\2020\\\\tnr11179_rois.hdf5',\n",
       " 'D:\\\\Drohnendaten\\\\10_WZE-UAV\\\\Auswertung_findatree\\\\Datasplit\\\\ROI\\\\rgb-nir\\\\2020\\\\tnr11189_rois.hdf5',\n",
       " 'D:\\\\Drohnendaten\\\\10_WZE-UAV\\\\Auswertung_findatree\\\\Datasplit\\\\ROI\\\\rgb-nir\\\\2020\\\\tnr11325_rois.hdf5',\n",
       " 'D:\\\\Drohnendaten\\\\10_WZE-UAV\\\\Auswertung_findatree\\\\Datasplit\\\\ROI\\\\rgb-nir\\\\2020\\\\tnr11327_rois.hdf5',\n",
       " 'D:\\\\Drohnendaten\\\\10_WZE-UAV\\\\Auswertung_findatree\\\\Datasplit\\\\ROI\\\\rgb-nir\\\\2020\\\\tnr11453_rois.hdf5',\n",
       " 'D:\\\\Drohnendaten\\\\10_WZE-UAV\\\\Auswertung_findatree\\\\Datasplit\\\\ROI\\\\rgb-nir\\\\2020\\\\tnr11459_rois.hdf5',\n",
       " 'D:\\\\Drohnendaten\\\\10_WZE-UAV\\\\Auswertung_findatree\\\\Datasplit\\\\ROI\\\\rgb-nir\\\\2020\\\\tnr11576_rois.hdf5',\n",
       " 'D:\\\\Drohnendaten\\\\10_WZE-UAV\\\\Auswertung_findatree\\\\Datasplit\\\\ROI\\\\rgb-nir\\\\2020\\\\tnr11581_rois.hdf5',\n",
       " 'D:\\\\Drohnendaten\\\\10_WZE-UAV\\\\Auswertung_findatree\\\\Datasplit\\\\ROI\\\\rgb-nir\\\\2020\\\\tnr11597_rois.hdf5',\n",
       " 'D:\\\\Drohnendaten\\\\10_WZE-UAV\\\\Auswertung_findatree\\\\Datasplit\\\\ROI\\\\rgb-nir\\\\2020\\\\tnr11601_rois.hdf5',\n",
       " 'D:\\\\Drohnendaten\\\\10_WZE-UAV\\\\Auswertung_findatree\\\\Datasplit\\\\ROI\\\\rgb-nir\\\\2020\\\\tnr11622_rois.hdf5',\n",
       " 'D:\\\\Drohnendaten\\\\10_WZE-UAV\\\\Auswertung_findatree\\\\Datasplit\\\\ROI\\\\rgb-nir\\\\2020\\\\tnr11626_rois.hdf5',\n",
       " 'D:\\\\Drohnendaten\\\\10_WZE-UAV\\\\Auswertung_findatree\\\\Datasplit\\\\ROI\\\\rgb-nir\\\\2020\\\\tnr11638_rois.hdf5',\n",
       " 'D:\\\\Drohnendaten\\\\10_WZE-UAV\\\\Auswertung_findatree\\\\Datasplit\\\\ROI\\\\rgb-nir\\\\2020\\\\tnr11640_rois.hdf5',\n",
       " 'D:\\\\Drohnendaten\\\\10_WZE-UAV\\\\Auswertung_findatree\\\\Datasplit\\\\ROI\\\\rgb-nir\\\\2020\\\\tnr11727_rois.hdf5',\n",
       " 'D:\\\\Drohnendaten\\\\10_WZE-UAV\\\\Auswertung_findatree\\\\Datasplit\\\\ROI\\\\rgb-nir\\\\2020\\\\tnr11733_rois.hdf5',\n",
       " 'D:\\\\Drohnendaten\\\\10_WZE-UAV\\\\Auswertung_findatree\\\\Datasplit\\\\ROI\\\\rgb-nir\\\\2020\\\\tnr11866_rois.hdf5',\n",
       " 'D:\\\\Drohnendaten\\\\10_WZE-UAV\\\\Auswertung_findatree\\\\Datasplit\\\\ROI\\\\rgb-nir\\\\2020\\\\tnr11874_rois.hdf5',\n",
       " 'D:\\\\Drohnendaten\\\\10_WZE-UAV\\\\Auswertung_findatree\\\\Datasplit\\\\ROI\\\\rgb-nir\\\\2020\\\\tnr11878_rois.hdf5',\n",
       " 'D:\\\\Drohnendaten\\\\10_WZE-UAV\\\\Auswertung_findatree\\\\Datasplit\\\\ROI\\\\rgb-nir\\\\2020\\\\tnr11_rois.hdf5',\n",
       " 'D:\\\\Drohnendaten\\\\10_WZE-UAV\\\\Auswertung_findatree\\\\Datasplit\\\\ROI\\\\rgb-nir\\\\2020\\\\tnr12013_rois.hdf5',\n",
       " 'D:\\\\Drohnendaten\\\\10_WZE-UAV\\\\Auswertung_findatree\\\\Datasplit\\\\ROI\\\\rgb-nir\\\\2020\\\\tnr12019_rois.hdf5',\n",
       " 'D:\\\\Drohnendaten\\\\10_WZE-UAV\\\\Auswertung_findatree\\\\Datasplit\\\\ROI\\\\rgb-nir\\\\2020\\\\tnr12120_rois.hdf5',\n",
       " 'D:\\\\Drohnendaten\\\\10_WZE-UAV\\\\Auswertung_findatree\\\\Datasplit\\\\ROI\\\\rgb-nir\\\\2020\\\\tnr12124_rois.hdf5',\n",
       " 'D:\\\\Drohnendaten\\\\10_WZE-UAV\\\\Auswertung_findatree\\\\Datasplit\\\\ROI\\\\rgb-nir\\\\2020\\\\tnr12153_rois.hdf5',\n",
       " 'D:\\\\Drohnendaten\\\\10_WZE-UAV\\\\Auswertung_findatree\\\\Datasplit\\\\ROI\\\\rgb-nir\\\\2020\\\\tnr12161_rois.hdf5',\n",
       " 'D:\\\\Drohnendaten\\\\10_WZE-UAV\\\\Auswertung_findatree\\\\Datasplit\\\\ROI\\\\rgb-nir\\\\2020\\\\tnr12169_rois.hdf5',\n",
       " 'D:\\\\Drohnendaten\\\\10_WZE-UAV\\\\Auswertung_findatree\\\\Datasplit\\\\ROI\\\\rgb-nir\\\\2020\\\\tnr12179_rois.hdf5',\n",
       " 'D:\\\\Drohnendaten\\\\10_WZE-UAV\\\\Auswertung_findatree\\\\Datasplit\\\\ROI\\\\rgb-nir\\\\2020\\\\tnr12285_rois.hdf5',\n",
       " 'D:\\\\Drohnendaten\\\\10_WZE-UAV\\\\Auswertung_findatree\\\\Datasplit\\\\ROI\\\\rgb-nir\\\\2020\\\\tnr12426_rois.hdf5',\n",
       " 'D:\\\\Drohnendaten\\\\10_WZE-UAV\\\\Auswertung_findatree\\\\Datasplit\\\\ROI\\\\rgb-nir\\\\2020\\\\tnr12549_rois.hdf5',\n",
       " 'D:\\\\Drohnendaten\\\\10_WZE-UAV\\\\Auswertung_findatree\\\\Datasplit\\\\ROI\\\\rgb-nir\\\\2020\\\\tnr12553_rois.hdf5',\n",
       " 'D:\\\\Drohnendaten\\\\10_WZE-UAV\\\\Auswertung_findatree\\\\Datasplit\\\\ROI\\\\rgb-nir\\\\2020\\\\tnr12557_rois.hdf5',\n",
       " 'D:\\\\Drohnendaten\\\\10_WZE-UAV\\\\Auswertung_findatree\\\\Datasplit\\\\ROI\\\\rgb-nir\\\\2020\\\\tnr12673_rois.hdf5',\n",
       " 'D:\\\\Drohnendaten\\\\10_WZE-UAV\\\\Auswertung_findatree\\\\Datasplit\\\\ROI\\\\rgb-nir\\\\2020\\\\tnr12678_rois.hdf5',\n",
       " 'D:\\\\Drohnendaten\\\\10_WZE-UAV\\\\Auswertung_findatree\\\\Datasplit\\\\ROI\\\\rgb-nir\\\\2020\\\\tnr12694_rois.hdf5',\n",
       " 'D:\\\\Drohnendaten\\\\10_WZE-UAV\\\\Auswertung_findatree\\\\Datasplit\\\\ROI\\\\rgb-nir\\\\2020\\\\tnr12698_rois.hdf5',\n",
       " 'D:\\\\Drohnendaten\\\\10_WZE-UAV\\\\Auswertung_findatree\\\\Datasplit\\\\ROI\\\\rgb-nir\\\\2020\\\\tnr12702_rois.hdf5',\n",
       " 'D:\\\\Drohnendaten\\\\10_WZE-UAV\\\\Auswertung_findatree\\\\Datasplit\\\\ROI\\\\rgb-nir\\\\2020\\\\tnr12713_rois.hdf5',\n",
       " 'D:\\\\Drohnendaten\\\\10_WZE-UAV\\\\Auswertung_findatree\\\\Datasplit\\\\ROI\\\\rgb-nir\\\\2020\\\\tnr12715_rois.hdf5',\n",
       " 'D:\\\\Drohnendaten\\\\10_WZE-UAV\\\\Auswertung_findatree\\\\Datasplit\\\\ROI\\\\rgb-nir\\\\2020\\\\tnr12717_rois.hdf5',\n",
       " 'D:\\\\Drohnendaten\\\\10_WZE-UAV\\\\Auswertung_findatree\\\\Datasplit\\\\ROI\\\\rgb-nir\\\\2020\\\\tnr12719_rois.hdf5',\n",
       " 'D:\\\\Drohnendaten\\\\10_WZE-UAV\\\\Auswertung_findatree\\\\Datasplit\\\\ROI\\\\rgb-nir\\\\2020\\\\tnr12950_rois.hdf5',\n",
       " 'D:\\\\Drohnendaten\\\\10_WZE-UAV\\\\Auswertung_findatree\\\\Datasplit\\\\ROI\\\\rgb-nir\\\\2020\\\\tnr12960_rois.hdf5',\n",
       " 'D:\\\\Drohnendaten\\\\10_WZE-UAV\\\\Auswertung_findatree\\\\Datasplit\\\\ROI\\\\rgb-nir\\\\2020\\\\tnr13212_rois.hdf5',\n",
       " 'D:\\\\Drohnendaten\\\\10_WZE-UAV\\\\Auswertung_findatree\\\\Datasplit\\\\ROI\\\\rgb-nir\\\\2020\\\\tnr13225_rois.hdf5',\n",
       " 'D:\\\\Drohnendaten\\\\10_WZE-UAV\\\\Auswertung_findatree\\\\Datasplit\\\\ROI\\\\rgb-nir\\\\2020\\\\tnr13233_rois.hdf5',\n",
       " 'D:\\\\Drohnendaten\\\\10_WZE-UAV\\\\Auswertung_findatree\\\\Datasplit\\\\ROI\\\\rgb-nir\\\\2020\\\\tnr13259_rois.hdf5',\n",
       " 'D:\\\\Drohnendaten\\\\10_WZE-UAV\\\\Auswertung_findatree\\\\Datasplit\\\\ROI\\\\rgb-nir\\\\2020\\\\tnr13508_rois.hdf5',\n",
       " 'D:\\\\Drohnendaten\\\\10_WZE-UAV\\\\Auswertung_findatree\\\\Datasplit\\\\ROI\\\\rgb-nir\\\\2020\\\\tnr13758_rois.hdf5',\n",
       " 'D:\\\\Drohnendaten\\\\10_WZE-UAV\\\\Auswertung_findatree\\\\Datasplit\\\\ROI\\\\rgb-nir\\\\2020\\\\tnr13766_rois.hdf5',\n",
       " 'D:\\\\Drohnendaten\\\\10_WZE-UAV\\\\Auswertung_findatree\\\\Datasplit\\\\ROI\\\\rgb-nir\\\\2020\\\\tnr13779_rois.hdf5',\n",
       " 'D:\\\\Drohnendaten\\\\10_WZE-UAV\\\\Auswertung_findatree\\\\Datasplit\\\\ROI\\\\rgb-nir\\\\2020\\\\tnr13819_rois.hdf5',\n",
       " 'D:\\\\Drohnendaten\\\\10_WZE-UAV\\\\Auswertung_findatree\\\\Datasplit\\\\ROI\\\\rgb-nir\\\\2020\\\\tnr1381_rois.hdf5',\n",
       " 'D:\\\\Drohnendaten\\\\10_WZE-UAV\\\\Auswertung_findatree\\\\Datasplit\\\\ROI\\\\rgb-nir\\\\2020\\\\tnr13825_rois.hdf5',\n",
       " 'D:\\\\Drohnendaten\\\\10_WZE-UAV\\\\Auswertung_findatree\\\\Datasplit\\\\ROI\\\\rgb-nir\\\\2020\\\\tnr13898_rois.hdf5',\n",
       " 'D:\\\\Drohnendaten\\\\10_WZE-UAV\\\\Auswertung_findatree\\\\Datasplit\\\\ROI\\\\rgb-nir\\\\2020\\\\tnr13922_rois.hdf5',\n",
       " 'D:\\\\Drohnendaten\\\\10_WZE-UAV\\\\Auswertung_findatree\\\\Datasplit\\\\ROI\\\\rgb-nir\\\\2020\\\\tnr14156_rois.hdf5',\n",
       " 'D:\\\\Drohnendaten\\\\10_WZE-UAV\\\\Auswertung_findatree\\\\Datasplit\\\\ROI\\\\rgb-nir\\\\2020\\\\tnr14293_rois.hdf5',\n",
       " 'D:\\\\Drohnendaten\\\\10_WZE-UAV\\\\Auswertung_findatree\\\\Datasplit\\\\ROI\\\\rgb-nir\\\\2020\\\\tnr14327_rois.hdf5',\n",
       " 'D:\\\\Drohnendaten\\\\10_WZE-UAV\\\\Auswertung_findatree\\\\Datasplit\\\\ROI\\\\rgb-nir\\\\2020\\\\tnr14666_rois.hdf5',\n",
       " 'D:\\\\Drohnendaten\\\\10_WZE-UAV\\\\Auswertung_findatree\\\\Datasplit\\\\ROI\\\\rgb-nir\\\\2020\\\\tnr14723_rois.hdf5',\n",
       " 'D:\\\\Drohnendaten\\\\10_WZE-UAV\\\\Auswertung_findatree\\\\Datasplit\\\\ROI\\\\rgb-nir\\\\2020\\\\tnr14727_rois.hdf5',\n",
       " 'D:\\\\Drohnendaten\\\\10_WZE-UAV\\\\Auswertung_findatree\\\\Datasplit\\\\ROI\\\\rgb-nir\\\\2020\\\\tnr14732_rois.hdf5',\n",
       " 'D:\\\\Drohnendaten\\\\10_WZE-UAV\\\\Auswertung_findatree\\\\Datasplit\\\\ROI\\\\rgb-nir\\\\2020\\\\tnr14781_rois.hdf5',\n",
       " 'D:\\\\Drohnendaten\\\\10_WZE-UAV\\\\Auswertung_findatree\\\\Datasplit\\\\ROI\\\\rgb-nir\\\\2020\\\\tnr14877_rois.hdf5',\n",
       " 'D:\\\\Drohnendaten\\\\10_WZE-UAV\\\\Auswertung_findatree\\\\Datasplit\\\\ROI\\\\rgb-nir\\\\2020\\\\tnr14879_rois.hdf5',\n",
       " 'D:\\\\Drohnendaten\\\\10_WZE-UAV\\\\Auswertung_findatree\\\\Datasplit\\\\ROI\\\\rgb-nir\\\\2020\\\\tnr14887_rois.hdf5',\n",
       " 'D:\\\\Drohnendaten\\\\10_WZE-UAV\\\\Auswertung_findatree\\\\Datasplit\\\\ROI\\\\rgb-nir\\\\2020\\\\tnr15016_rois.hdf5',\n",
       " 'D:\\\\Drohnendaten\\\\10_WZE-UAV\\\\Auswertung_findatree\\\\Datasplit\\\\ROI\\\\rgb-nir\\\\2020\\\\tnr15020_rois.hdf5',\n",
       " 'D:\\\\Drohnendaten\\\\10_WZE-UAV\\\\Auswertung_findatree\\\\Datasplit\\\\ROI\\\\rgb-nir\\\\2020\\\\tnr15027_rois.hdf5',\n",
       " 'D:\\\\Drohnendaten\\\\10_WZE-UAV\\\\Auswertung_findatree\\\\Datasplit\\\\ROI\\\\rgb-nir\\\\2020\\\\tnr15031_rois.hdf5',\n",
       " 'D:\\\\Drohnendaten\\\\10_WZE-UAV\\\\Auswertung_findatree\\\\Datasplit\\\\ROI\\\\rgb-nir\\\\2020\\\\tnr15035_rois.hdf5',\n",
       " 'D:\\\\Drohnendaten\\\\10_WZE-UAV\\\\Auswertung_findatree\\\\Datasplit\\\\ROI\\\\rgb-nir\\\\2020\\\\tnr15039_rois.hdf5',\n",
       " 'D:\\\\Drohnendaten\\\\10_WZE-UAV\\\\Auswertung_findatree\\\\Datasplit\\\\ROI\\\\rgb-nir\\\\2020\\\\tnr15043_rois.hdf5',\n",
       " 'D:\\\\Drohnendaten\\\\10_WZE-UAV\\\\Auswertung_findatree\\\\Datasplit\\\\ROI\\\\rgb-nir\\\\2020\\\\tnr15046_rois.hdf5',\n",
       " 'D:\\\\Drohnendaten\\\\10_WZE-UAV\\\\Auswertung_findatree\\\\Datasplit\\\\ROI\\\\rgb-nir\\\\2020\\\\tnr15050_rois.hdf5',\n",
       " 'D:\\\\Drohnendaten\\\\10_WZE-UAV\\\\Auswertung_findatree\\\\Datasplit\\\\ROI\\\\rgb-nir\\\\2020\\\\tnr15101_rois.hdf5',\n",
       " 'D:\\\\Drohnendaten\\\\10_WZE-UAV\\\\Auswertung_findatree\\\\Datasplit\\\\ROI\\\\rgb-nir\\\\2020\\\\tnr15273_rois.hdf5',\n",
       " 'D:\\\\Drohnendaten\\\\10_WZE-UAV\\\\Auswertung_findatree\\\\Datasplit\\\\ROI\\\\rgb-nir\\\\2020\\\\tnr15277_rois.hdf5',\n",
       " 'D:\\\\Drohnendaten\\\\10_WZE-UAV\\\\Auswertung_findatree\\\\Datasplit\\\\ROI\\\\rgb-nir\\\\2020\\\\tnr15297_rois.hdf5',\n",
       " 'D:\\\\Drohnendaten\\\\10_WZE-UAV\\\\Auswertung_findatree\\\\Datasplit\\\\ROI\\\\rgb-nir\\\\2020\\\\tnr15299_rois.hdf5',\n",
       " 'D:\\\\Drohnendaten\\\\10_WZE-UAV\\\\Auswertung_findatree\\\\Datasplit\\\\ROI\\\\rgb-nir\\\\2020\\\\tnr15301_rois.hdf5',\n",
       " 'D:\\\\Drohnendaten\\\\10_WZE-UAV\\\\Auswertung_findatree\\\\Datasplit\\\\ROI\\\\rgb-nir\\\\2020\\\\tnr15303_rois.hdf5',\n",
       " 'D:\\\\Drohnendaten\\\\10_WZE-UAV\\\\Auswertung_findatree\\\\Datasplit\\\\ROI\\\\rgb-nir\\\\2020\\\\tnr15306_rois.hdf5',\n",
       " 'D:\\\\Drohnendaten\\\\10_WZE-UAV\\\\Auswertung_findatree\\\\Datasplit\\\\ROI\\\\rgb-nir\\\\2020\\\\tnr15311_rois.hdf5',\n",
       " 'D:\\\\Drohnendaten\\\\10_WZE-UAV\\\\Auswertung_findatree\\\\Datasplit\\\\ROI\\\\rgb-nir\\\\2020\\\\tnr15313_rois.hdf5',\n",
       " 'D:\\\\Drohnendaten\\\\10_WZE-UAV\\\\Auswertung_findatree\\\\Datasplit\\\\ROI\\\\rgb-nir\\\\2020\\\\tnr15319_rois.hdf5',\n",
       " 'D:\\\\Drohnendaten\\\\10_WZE-UAV\\\\Auswertung_findatree\\\\Datasplit\\\\ROI\\\\rgb-nir\\\\2020\\\\tnr15327_rois.hdf5',\n",
       " 'D:\\\\Drohnendaten\\\\10_WZE-UAV\\\\Auswertung_findatree\\\\Datasplit\\\\ROI\\\\rgb-nir\\\\2020\\\\tnr15519_rois.hdf5',\n",
       " 'D:\\\\Drohnendaten\\\\10_WZE-UAV\\\\Auswertung_findatree\\\\Datasplit\\\\ROI\\\\rgb-nir\\\\2020\\\\tnr15521_rois.hdf5',\n",
       " 'D:\\\\Drohnendaten\\\\10_WZE-UAV\\\\Auswertung_findatree\\\\Datasplit\\\\ROI\\\\rgb-nir\\\\2020\\\\tnr15531_rois.hdf5',\n",
       " 'D:\\\\Drohnendaten\\\\10_WZE-UAV\\\\Auswertung_findatree\\\\Datasplit\\\\ROI\\\\rgb-nir\\\\2020\\\\tnr15537_rois.hdf5',\n",
       " 'D:\\\\Drohnendaten\\\\10_WZE-UAV\\\\Auswertung_findatree\\\\Datasplit\\\\ROI\\\\rgb-nir\\\\2020\\\\tnr15730_rois.hdf5',\n",
       " 'D:\\\\Drohnendaten\\\\10_WZE-UAV\\\\Auswertung_findatree\\\\Datasplit\\\\ROI\\\\rgb-nir\\\\2020\\\\tnr15736_rois.hdf5',\n",
       " 'D:\\\\Drohnendaten\\\\10_WZE-UAV\\\\Auswertung_findatree\\\\Datasplit\\\\ROI\\\\rgb-nir\\\\2020\\\\tnr15746_rois.hdf5',\n",
       " 'D:\\\\Drohnendaten\\\\10_WZE-UAV\\\\Auswertung_findatree\\\\Datasplit\\\\ROI\\\\rgb-nir\\\\2020\\\\tnr15748_rois.hdf5',\n",
       " 'D:\\\\Drohnendaten\\\\10_WZE-UAV\\\\Auswertung_findatree\\\\Datasplit\\\\ROI\\\\rgb-nir\\\\2020\\\\tnr15780_rois.hdf5',\n",
       " 'D:\\\\Drohnendaten\\\\10_WZE-UAV\\\\Auswertung_findatree\\\\Datasplit\\\\ROI\\\\rgb-nir\\\\2020\\\\tnr15966_rois.hdf5',\n",
       " 'D:\\\\Drohnendaten\\\\10_WZE-UAV\\\\Auswertung_findatree\\\\Datasplit\\\\ROI\\\\rgb-nir\\\\2020\\\\tnr15974_rois.hdf5',\n",
       " 'D:\\\\Drohnendaten\\\\10_WZE-UAV\\\\Auswertung_findatree\\\\Datasplit\\\\ROI\\\\rgb-nir\\\\2020\\\\tnr15986_rois.hdf5',\n",
       " 'D:\\\\Drohnendaten\\\\10_WZE-UAV\\\\Auswertung_findatree\\\\Datasplit\\\\ROI\\\\rgb-nir\\\\2020\\\\tnr15988_rois.hdf5',\n",
       " 'D:\\\\Drohnendaten\\\\10_WZE-UAV\\\\Auswertung_findatree\\\\Datasplit\\\\ROI\\\\rgb-nir\\\\2020\\\\tnr15998_rois.hdf5',\n",
       " 'D:\\\\Drohnendaten\\\\10_WZE-UAV\\\\Auswertung_findatree\\\\Datasplit\\\\ROI\\\\rgb-nir\\\\2020\\\\tnr16173_rois.hdf5',\n",
       " 'D:\\\\Drohnendaten\\\\10_WZE-UAV\\\\Auswertung_findatree\\\\Datasplit\\\\ROI\\\\rgb-nir\\\\2020\\\\tnr16177_rois.hdf5',\n",
       " 'D:\\\\Drohnendaten\\\\10_WZE-UAV\\\\Auswertung_findatree\\\\Datasplit\\\\ROI\\\\rgb-nir\\\\2020\\\\tnr16181_rois.hdf5',\n",
       " 'D:\\\\Drohnendaten\\\\10_WZE-UAV\\\\Auswertung_findatree\\\\Datasplit\\\\ROI\\\\rgb-nir\\\\2020\\\\tnr16193_rois.hdf5',\n",
       " 'D:\\\\Drohnendaten\\\\10_WZE-UAV\\\\Auswertung_findatree\\\\Datasplit\\\\ROI\\\\rgb-nir\\\\2020\\\\tnr16197_rois.hdf5',\n",
       " 'D:\\\\Drohnendaten\\\\10_WZE-UAV\\\\Auswertung_findatree\\\\Datasplit\\\\ROI\\\\rgb-nir\\\\2020\\\\tnr16201_rois.hdf5',\n",
       " 'D:\\\\Drohnendaten\\\\10_WZE-UAV\\\\Auswertung_findatree\\\\Datasplit\\\\ROI\\\\rgb-nir\\\\2020\\\\tnr16205_rois.hdf5',\n",
       " 'D:\\\\Drohnendaten\\\\10_WZE-UAV\\\\Auswertung_findatree\\\\Datasplit\\\\ROI\\\\rgb-nir\\\\2020\\\\tnr16211_rois.hdf5',\n",
       " 'D:\\\\Drohnendaten\\\\10_WZE-UAV\\\\Auswertung_findatree\\\\Datasplit\\\\ROI\\\\rgb-nir\\\\2020\\\\tnr16223_rois.hdf5',\n",
       " 'D:\\\\Drohnendaten\\\\10_WZE-UAV\\\\Auswertung_findatree\\\\Datasplit\\\\ROI\\\\rgb-nir\\\\2020\\\\tnr16227_rois.hdf5',\n",
       " 'D:\\\\Drohnendaten\\\\10_WZE-UAV\\\\Auswertung_findatree\\\\Datasplit\\\\ROI\\\\rgb-nir\\\\2020\\\\tnr16400_rois.hdf5',\n",
       " 'D:\\\\Drohnendaten\\\\10_WZE-UAV\\\\Auswertung_findatree\\\\Datasplit\\\\ROI\\\\rgb-nir\\\\2020\\\\tnr16404_rois.hdf5',\n",
       " 'D:\\\\Drohnendaten\\\\10_WZE-UAV\\\\Auswertung_findatree\\\\Datasplit\\\\ROI\\\\rgb-nir\\\\2020\\\\tnr16412_rois.hdf5',\n",
       " 'D:\\\\Drohnendaten\\\\10_WZE-UAV\\\\Auswertung_findatree\\\\Datasplit\\\\ROI\\\\rgb-nir\\\\2020\\\\tnr16422_rois.hdf5',\n",
       " 'D:\\\\Drohnendaten\\\\10_WZE-UAV\\\\Auswertung_findatree\\\\Datasplit\\\\ROI\\\\rgb-nir\\\\2020\\\\tnr16426_rois.hdf5',\n",
       " 'D:\\\\Drohnendaten\\\\10_WZE-UAV\\\\Auswertung_findatree\\\\Datasplit\\\\ROI\\\\rgb-nir\\\\2020\\\\tnr16620_rois.hdf5',\n",
       " 'D:\\\\Drohnendaten\\\\10_WZE-UAV\\\\Auswertung_findatree\\\\Datasplit\\\\ROI\\\\rgb-nir\\\\2020\\\\tnr16624_rois.hdf5',\n",
       " 'D:\\\\Drohnendaten\\\\10_WZE-UAV\\\\Auswertung_findatree\\\\Datasplit\\\\ROI\\\\rgb-nir\\\\2020\\\\tnr16632_rois.hdf5',\n",
       " 'D:\\\\Drohnendaten\\\\10_WZE-UAV\\\\Auswertung_findatree\\\\Datasplit\\\\ROI\\\\rgb-nir\\\\2020\\\\tnr16639_rois.hdf5',\n",
       " 'D:\\\\Drohnendaten\\\\10_WZE-UAV\\\\Auswertung_findatree\\\\Datasplit\\\\ROI\\\\rgb-nir\\\\2020\\\\tnr16643_rois.hdf5',\n",
       " 'D:\\\\Drohnendaten\\\\10_WZE-UAV\\\\Auswertung_findatree\\\\Datasplit\\\\ROI\\\\rgb-nir\\\\2020\\\\tnr16645_rois.hdf5',\n",
       " 'D:\\\\Drohnendaten\\\\10_WZE-UAV\\\\Auswertung_findatree\\\\Datasplit\\\\ROI\\\\rgb-nir\\\\2020\\\\tnr16649_rois.hdf5',\n",
       " 'D:\\\\Drohnendaten\\\\10_WZE-UAV\\\\Auswertung_findatree\\\\Datasplit\\\\ROI\\\\rgb-nir\\\\2020\\\\tnr16657_rois.hdf5',\n",
       " 'D:\\\\Drohnendaten\\\\10_WZE-UAV\\\\Auswertung_findatree\\\\Datasplit\\\\ROI\\\\rgb-nir\\\\2020\\\\tnr16829_rois.hdf5',\n",
       " 'D:\\\\Drohnendaten\\\\10_WZE-UAV\\\\Auswertung_findatree\\\\Datasplit\\\\ROI\\\\rgb-nir\\\\2020\\\\tnr16833_rois.hdf5',\n",
       " 'D:\\\\Drohnendaten\\\\10_WZE-UAV\\\\Auswertung_findatree\\\\Datasplit\\\\ROI\\\\rgb-nir\\\\2020\\\\tnr17019_rois.hdf5',\n",
       " 'D:\\\\Drohnendaten\\\\10_WZE-UAV\\\\Auswertung_findatree\\\\Datasplit\\\\ROI\\\\rgb-nir\\\\2020\\\\tnr17032_rois.hdf5',\n",
       " 'D:\\\\Drohnendaten\\\\10_WZE-UAV\\\\Auswertung_findatree\\\\Datasplit\\\\ROI\\\\rgb-nir\\\\2020\\\\tnr17034_rois.hdf5',\n",
       " 'D:\\\\Drohnendaten\\\\10_WZE-UAV\\\\Auswertung_findatree\\\\Datasplit\\\\ROI\\\\rgb-nir\\\\2020\\\\tnr17042_rois.hdf5',\n",
       " 'D:\\\\Drohnendaten\\\\10_WZE-UAV\\\\Auswertung_findatree\\\\Datasplit\\\\ROI\\\\rgb-nir\\\\2020\\\\tnr17339_rois.hdf5',\n",
       " 'D:\\\\Drohnendaten\\\\10_WZE-UAV\\\\Auswertung_findatree\\\\Datasplit\\\\ROI\\\\rgb-nir\\\\2020\\\\tnr174_rois.hdf5',\n",
       " 'D:\\\\Drohnendaten\\\\10_WZE-UAV\\\\Auswertung_findatree\\\\Datasplit\\\\ROI\\\\rgb-nir\\\\2020\\\\tnr176_rois.hdf5',\n",
       " 'D:\\\\Drohnendaten\\\\10_WZE-UAV\\\\Auswertung_findatree\\\\Datasplit\\\\ROI\\\\rgb-nir\\\\2020\\\\tnr182_rois.hdf5',\n",
       " 'D:\\\\Drohnendaten\\\\10_WZE-UAV\\\\Auswertung_findatree\\\\Datasplit\\\\ROI\\\\rgb-nir\\\\2020\\\\tnr184_rois.hdf5',\n",
       " 'D:\\\\Drohnendaten\\\\10_WZE-UAV\\\\Auswertung_findatree\\\\Datasplit\\\\ROI\\\\rgb-nir\\\\2020\\\\tnr185_rois.hdf5',\n",
       " 'D:\\\\Drohnendaten\\\\10_WZE-UAV\\\\Auswertung_findatree\\\\Datasplit\\\\ROI\\\\rgb-nir\\\\2020\\\\tnr188_rois.hdf5',\n",
       " 'D:\\\\Drohnendaten\\\\10_WZE-UAV\\\\Auswertung_findatree\\\\Datasplit\\\\ROI\\\\rgb-nir\\\\2020\\\\tnr1898_rois.hdf5',\n",
       " 'D:\\\\Drohnendaten\\\\10_WZE-UAV\\\\Auswertung_findatree\\\\Datasplit\\\\ROI\\\\rgb-nir\\\\2020\\\\tnr192_rois.hdf5',\n",
       " 'D:\\\\Drohnendaten\\\\10_WZE-UAV\\\\Auswertung_findatree\\\\Datasplit\\\\ROI\\\\rgb-nir\\\\2020\\\\tnr194_rois.hdf5',\n",
       " 'D:\\\\Drohnendaten\\\\10_WZE-UAV\\\\Auswertung_findatree\\\\Datasplit\\\\ROI\\\\rgb-nir\\\\2020\\\\tnr196_rois.hdf5',\n",
       " 'D:\\\\Drohnendaten\\\\10_WZE-UAV\\\\Auswertung_findatree\\\\Datasplit\\\\ROI\\\\rgb-nir\\\\2020\\\\tnr200_rois.hdf5',\n",
       " 'D:\\\\Drohnendaten\\\\10_WZE-UAV\\\\Auswertung_findatree\\\\Datasplit\\\\ROI\\\\rgb-nir\\\\2020\\\\tnr2386_rois.hdf5',\n",
       " 'D:\\\\Drohnendaten\\\\10_WZE-UAV\\\\Auswertung_findatree\\\\Datasplit\\\\ROI\\\\rgb-nir\\\\2020\\\\tnr2399_rois.hdf5',\n",
       " 'D:\\\\Drohnendaten\\\\10_WZE-UAV\\\\Auswertung_findatree\\\\Datasplit\\\\ROI\\\\rgb-nir\\\\2020\\\\tnr2411_rois.hdf5',\n",
       " 'D:\\\\Drohnendaten\\\\10_WZE-UAV\\\\Auswertung_findatree\\\\Datasplit\\\\ROI\\\\rgb-nir\\\\2020\\\\tnr2413_rois.hdf5',\n",
       " 'D:\\\\Drohnendaten\\\\10_WZE-UAV\\\\Auswertung_findatree\\\\Datasplit\\\\ROI\\\\rgb-nir\\\\2020\\\\tnr3398_rois.hdf5',\n",
       " 'D:\\\\Drohnendaten\\\\10_WZE-UAV\\\\Auswertung_findatree\\\\Datasplit\\\\ROI\\\\rgb-nir\\\\2020\\\\tnr3418_rois.hdf5',\n",
       " 'D:\\\\Drohnendaten\\\\10_WZE-UAV\\\\Auswertung_findatree\\\\Datasplit\\\\ROI\\\\rgb-nir\\\\2020\\\\tnr3430_rois.hdf5',\n",
       " 'D:\\\\Drohnendaten\\\\10_WZE-UAV\\\\Auswertung_findatree\\\\Datasplit\\\\ROI\\\\rgb-nir\\\\2020\\\\tnr35_rois.hdf5',\n",
       " 'D:\\\\Drohnendaten\\\\10_WZE-UAV\\\\Auswertung_findatree\\\\Datasplit\\\\ROI\\\\rgb-nir\\\\2020\\\\tnr3930_rois.hdf5',\n",
       " 'D:\\\\Drohnendaten\\\\10_WZE-UAV\\\\Auswertung_findatree\\\\Datasplit\\\\ROI\\\\rgb-nir\\\\2020\\\\tnr4396_rois.hdf5',\n",
       " 'D:\\\\Drohnendaten\\\\10_WZE-UAV\\\\Auswertung_findatree\\\\Datasplit\\\\ROI\\\\rgb-nir\\\\2020\\\\tnr4412_rois.hdf5',\n",
       " 'D:\\\\Drohnendaten\\\\10_WZE-UAV\\\\Auswertung_findatree\\\\Datasplit\\\\ROI\\\\rgb-nir\\\\2020\\\\tnr4436_rois.hdf5',\n",
       " 'D:\\\\Drohnendaten\\\\10_WZE-UAV\\\\Auswertung_findatree\\\\Datasplit\\\\ROI\\\\rgb-nir\\\\2020\\\\tnr4444_rois.hdf5',\n",
       " 'D:\\\\Drohnendaten\\\\10_WZE-UAV\\\\Auswertung_findatree\\\\Datasplit\\\\ROI\\\\rgb-nir\\\\2020\\\\tnr460_rois.hdf5',\n",
       " 'D:\\\\Drohnendaten\\\\10_WZE-UAV\\\\Auswertung_findatree\\\\Datasplit\\\\ROI\\\\rgb-nir\\\\2020\\\\tnr462_rois.hdf5',\n",
       " 'D:\\\\Drohnendaten\\\\10_WZE-UAV\\\\Auswertung_findatree\\\\Datasplit\\\\ROI\\\\rgb-nir\\\\2020\\\\tnr477_rois.hdf5',\n",
       " 'D:\\\\Drohnendaten\\\\10_WZE-UAV\\\\Auswertung_findatree\\\\Datasplit\\\\ROI\\\\rgb-nir\\\\2020\\\\tnr479_rois.hdf5',\n",
       " 'D:\\\\Drohnendaten\\\\10_WZE-UAV\\\\Auswertung_findatree\\\\Datasplit\\\\ROI\\\\rgb-nir\\\\2020\\\\tnr485_rois.hdf5',\n",
       " 'D:\\\\Drohnendaten\\\\10_WZE-UAV\\\\Auswertung_findatree\\\\Datasplit\\\\ROI\\\\rgb-nir\\\\2020\\\\tnr489_rois.hdf5',\n",
       " 'D:\\\\Drohnendaten\\\\10_WZE-UAV\\\\Auswertung_findatree\\\\Datasplit\\\\ROI\\\\rgb-nir\\\\2020\\\\tnr5449_rois.hdf5',\n",
       " 'D:\\\\Drohnendaten\\\\10_WZE-UAV\\\\Auswertung_findatree\\\\Datasplit\\\\ROI\\\\rgb-nir\\\\2020\\\\tnr5930_rois.hdf5',\n",
       " 'D:\\\\Drohnendaten\\\\10_WZE-UAV\\\\Auswertung_findatree\\\\Datasplit\\\\ROI\\\\rgb-nir\\\\2020\\\\tnr5946_rois.hdf5',\n",
       " 'D:\\\\Drohnendaten\\\\10_WZE-UAV\\\\Auswertung_findatree\\\\Datasplit\\\\ROI\\\\rgb-nir\\\\2020\\\\tnr6430_rois.hdf5',\n",
       " 'D:\\\\Drohnendaten\\\\10_WZE-UAV\\\\Auswertung_findatree\\\\Datasplit\\\\ROI\\\\rgb-nir\\\\2020\\\\tnr6462_rois.hdf5',\n",
       " 'D:\\\\Drohnendaten\\\\10_WZE-UAV\\\\Auswertung_findatree\\\\Datasplit\\\\ROI\\\\rgb-nir\\\\2020\\\\tnr6466_rois.hdf5',\n",
       " 'D:\\\\Drohnendaten\\\\10_WZE-UAV\\\\Auswertung_findatree\\\\Datasplit\\\\ROI\\\\rgb-nir\\\\2020\\\\tnr6468_rois.hdf5',\n",
       " 'D:\\\\Drohnendaten\\\\10_WZE-UAV\\\\Auswertung_findatree\\\\Datasplit\\\\ROI\\\\rgb-nir\\\\2020\\\\tnr6470_rois.hdf5',\n",
       " 'D:\\\\Drohnendaten\\\\10_WZE-UAV\\\\Auswertung_findatree\\\\Datasplit\\\\ROI\\\\rgb-nir\\\\2020\\\\tnr6474_rois.hdf5',\n",
       " 'D:\\\\Drohnendaten\\\\10_WZE-UAV\\\\Auswertung_findatree\\\\Datasplit\\\\ROI\\\\rgb-nir\\\\2020\\\\tnr6478_rois.hdf5',\n",
       " 'D:\\\\Drohnendaten\\\\10_WZE-UAV\\\\Auswertung_findatree\\\\Datasplit\\\\ROI\\\\rgb-nir\\\\2020\\\\tnr6969_rois.hdf5',\n",
       " 'D:\\\\Drohnendaten\\\\10_WZE-UAV\\\\Auswertung_findatree\\\\Datasplit\\\\ROI\\\\rgb-nir\\\\2020\\\\tnr6971_rois.hdf5',\n",
       " 'D:\\\\Drohnendaten\\\\10_WZE-UAV\\\\Auswertung_findatree\\\\Datasplit\\\\ROI\\\\rgb-nir\\\\2020\\\\tnr6977_rois.hdf5',\n",
       " 'D:\\\\Drohnendaten\\\\10_WZE-UAV\\\\Auswertung_findatree\\\\Datasplit\\\\ROI\\\\rgb-nir\\\\2020\\\\tnr7002_rois.hdf5',\n",
       " 'D:\\\\Drohnendaten\\\\10_WZE-UAV\\\\Auswertung_findatree\\\\Datasplit\\\\ROI\\\\rgb-nir\\\\2020\\\\tnr73_rois.hdf5',\n",
       " 'D:\\\\Drohnendaten\\\\10_WZE-UAV\\\\Auswertung_findatree\\\\Datasplit\\\\ROI\\\\rgb-nir\\\\2020\\\\tnr7475_rois.hdf5',\n",
       " 'D:\\\\Drohnendaten\\\\10_WZE-UAV\\\\Auswertung_findatree\\\\Datasplit\\\\ROI\\\\rgb-nir\\\\2020\\\\tnr7511_rois.hdf5',\n",
       " 'D:\\\\Drohnendaten\\\\10_WZE-UAV\\\\Auswertung_findatree\\\\Datasplit\\\\ROI\\\\rgb-nir\\\\2020\\\\tnr7517_rois.hdf5',\n",
       " 'D:\\\\Drohnendaten\\\\10_WZE-UAV\\\\Auswertung_findatree\\\\Datasplit\\\\ROI\\\\rgb-nir\\\\2020\\\\tnr7521_rois.hdf5',\n",
       " 'D:\\\\Drohnendaten\\\\10_WZE-UAV\\\\Auswertung_findatree\\\\Datasplit\\\\ROI\\\\rgb-nir\\\\2020\\\\tnr7525_rois.hdf5',\n",
       " 'D:\\\\Drohnendaten\\\\10_WZE-UAV\\\\Auswertung_findatree\\\\Datasplit\\\\ROI\\\\rgb-nir\\\\2020\\\\tnr75_rois.hdf5',\n",
       " 'D:\\\\Drohnendaten\\\\10_WZE-UAV\\\\Auswertung_findatree\\\\Datasplit\\\\ROI\\\\rgb-nir\\\\2020\\\\tnr79_rois.hdf5',\n",
       " 'D:\\\\Drohnendaten\\\\10_WZE-UAV\\\\Auswertung_findatree\\\\Datasplit\\\\ROI\\\\rgb-nir\\\\2020\\\\tnr8032_rois.hdf5',\n",
       " 'D:\\\\Drohnendaten\\\\10_WZE-UAV\\\\Auswertung_findatree\\\\Datasplit\\\\ROI\\\\rgb-nir\\\\2020\\\\tnr8040_rois.hdf5',\n",
       " 'D:\\\\Drohnendaten\\\\10_WZE-UAV\\\\Auswertung_findatree\\\\Datasplit\\\\ROI\\\\rgb-nir\\\\2020\\\\tnr8492_rois.hdf5',\n",
       " 'D:\\\\Drohnendaten\\\\10_WZE-UAV\\\\Auswertung_findatree\\\\Datasplit\\\\ROI\\\\rgb-nir\\\\2020\\\\tnr8494_rois.hdf5',\n",
       " 'D:\\\\Drohnendaten\\\\10_WZE-UAV\\\\Auswertung_findatree\\\\Datasplit\\\\ROI\\\\rgb-nir\\\\2020\\\\tnr8498_rois.hdf5',\n",
       " 'D:\\\\Drohnendaten\\\\10_WZE-UAV\\\\Auswertung_findatree\\\\Datasplit\\\\ROI\\\\rgb-nir\\\\2020\\\\tnr84_rois.hdf5',\n",
       " 'D:\\\\Drohnendaten\\\\10_WZE-UAV\\\\Auswertung_findatree\\\\Datasplit\\\\ROI\\\\rgb-nir\\\\2020\\\\tnr8532_rois.hdf5',\n",
       " 'D:\\\\Drohnendaten\\\\10_WZE-UAV\\\\Auswertung_findatree\\\\Datasplit\\\\ROI\\\\rgb-nir\\\\2020\\\\tnr86_rois.hdf5',\n",
       " 'D:\\\\Drohnendaten\\\\10_WZE-UAV\\\\Auswertung_findatree\\\\Datasplit\\\\ROI\\\\rgb-nir\\\\2020\\\\tnr879_rois.hdf5',\n",
       " 'D:\\\\Drohnendaten\\\\10_WZE-UAV\\\\Auswertung_findatree\\\\Datasplit\\\\ROI\\\\rgb-nir\\\\2020\\\\tnr8973_rois.hdf5',\n",
       " 'D:\\\\Drohnendaten\\\\10_WZE-UAV\\\\Auswertung_findatree\\\\Datasplit\\\\ROI\\\\rgb-nir\\\\2020\\\\tnr8979_rois.hdf5',\n",
       " 'D:\\\\Drohnendaten\\\\10_WZE-UAV\\\\Auswertung_findatree\\\\Datasplit\\\\ROI\\\\rgb-nir\\\\2020\\\\tnr8981_rois.hdf5',\n",
       " 'D:\\\\Drohnendaten\\\\10_WZE-UAV\\\\Auswertung_findatree\\\\Datasplit\\\\ROI\\\\rgb-nir\\\\2020\\\\tnr8989_rois.hdf5',\n",
       " 'D:\\\\Drohnendaten\\\\10_WZE-UAV\\\\Auswertung_findatree\\\\Datasplit\\\\ROI\\\\rgb-nir\\\\2020\\\\tnr9025_rois.hdf5',\n",
       " 'D:\\\\Drohnendaten\\\\10_WZE-UAV\\\\Auswertung_findatree\\\\Datasplit\\\\ROI\\\\rgb-nir\\\\2020\\\\tnr9464_rois.hdf5',\n",
       " 'D:\\\\Drohnendaten\\\\10_WZE-UAV\\\\Auswertung_findatree\\\\Datasplit\\\\ROI\\\\rgb-nir\\\\2020\\\\tnr9468_rois.hdf5',\n",
       " 'D:\\\\Drohnendaten\\\\10_WZE-UAV\\\\Auswertung_findatree\\\\Datasplit\\\\ROI\\\\rgb-nir\\\\2020\\\\tnr9472_rois.hdf5',\n",
       " 'D:\\\\Drohnendaten\\\\10_WZE-UAV\\\\Auswertung_findatree\\\\Datasplit\\\\ROI\\\\rgb-nir\\\\2020\\\\tnr9477_rois.hdf5',\n",
       " 'D:\\\\Drohnendaten\\\\10_WZE-UAV\\\\Auswertung_findatree\\\\Datasplit\\\\ROI\\\\rgb-nir\\\\2020\\\\tnr9479_rois.hdf5',\n",
       " 'D:\\\\Drohnendaten\\\\10_WZE-UAV\\\\Auswertung_findatree\\\\Datasplit\\\\ROI\\\\rgb-nir\\\\2020\\\\tnr9489_rois.hdf5',\n",
       " 'D:\\\\Drohnendaten\\\\10_WZE-UAV\\\\Auswertung_findatree\\\\Datasplit\\\\ROI\\\\rgb-nir\\\\2020\\\\tnr9493_rois.hdf5',\n",
       " 'D:\\\\Drohnendaten\\\\10_WZE-UAV\\\\Auswertung_findatree\\\\Datasplit\\\\ROI\\\\rgb-nir\\\\2020\\\\tnr9509_rois.hdf5',\n",
       " 'D:\\\\Drohnendaten\\\\10_WZE-UAV\\\\Auswertung_findatree\\\\Datasplit\\\\ROI\\\\rgb-nir\\\\2020\\\\tnr9515_rois.hdf5',\n",
       " 'D:\\\\Drohnendaten\\\\10_WZE-UAV\\\\Auswertung_findatree\\\\Datasplit\\\\ROI\\\\rgb-nir\\\\2020\\\\tnr9517_rois.hdf5',\n",
       " 'D:\\\\Drohnendaten\\\\10_WZE-UAV\\\\Auswertung_findatree\\\\Datasplit\\\\ROI\\\\rgb-nir\\\\2020\\\\tnr9948_rois.hdf5',\n",
       " 'D:\\\\Drohnendaten\\\\10_WZE-UAV\\\\Auswertung_findatree\\\\Datasplit\\\\ROI\\\\rgb-nir\\\\2020\\\\tnr9958_rois.hdf5',\n",
       " 'D:\\\\Drohnendaten\\\\10_WZE-UAV\\\\Auswertung_findatree\\\\Datasplit\\\\ROI\\\\rgb-nir\\\\2020\\\\tnr9966_rois.hdf5',\n",
       " 'D:\\\\Drohnendaten\\\\10_WZE-UAV\\\\Auswertung_findatree\\\\Datasplit\\\\ROI\\\\rgb-nir\\\\2020\\\\tnr9973_rois.hdf5',\n",
       " 'D:\\\\Drohnendaten\\\\10_WZE-UAV\\\\Auswertung_findatree\\\\Datasplit\\\\ROI\\\\rgb-nir\\\\2020\\\\tnr9980_rois.hdf5',\n",
       " 'D:\\\\Drohnendaten\\\\10_WZE-UAV\\\\Auswertung_findatree\\\\Datasplit\\\\ROI\\\\rgb-nir\\\\2020\\\\tnr9984_rois.hdf5',\n",
       " 'D:\\\\Drohnendaten\\\\10_WZE-UAV\\\\Auswertung_findatree\\\\Datasplit\\\\ROI\\\\rgb-nir\\\\2020\\\\tnr9986_rois.hdf5',\n",
       " 'D:\\\\Drohnendaten\\\\10_WZE-UAV\\\\Auswertung_findatree\\\\Datasplit\\\\ROI\\\\rgb-nir\\\\2020\\\\tnr9988_rois.hdf5',\n",
       " 'D:\\\\Drohnendaten\\\\10_WZE-UAV\\\\Auswertung_findatree\\\\Datasplit\\\\ROI\\\\rgb-nir\\\\2020\\\\tnr9996_rois.hdf5',\n",
       " 'D:\\\\Drohnendaten\\\\10_WZE-UAV\\\\Auswertung_findatree\\\\Datasplit\\\\ROI\\\\rgb-nir\\\\2021\\\\tnr10527_rois.hdf5',\n",
       " 'D:\\\\Drohnendaten\\\\10_WZE-UAV\\\\Auswertung_findatree\\\\Datasplit\\\\ROI\\\\rgb-nir\\\\2021\\\\tnr10533_rois.hdf5',\n",
       " 'D:\\\\Drohnendaten\\\\10_WZE-UAV\\\\Auswertung_findatree\\\\Datasplit\\\\ROI\\\\rgb-nir\\\\2021\\\\tnr10545_rois.hdf5',\n",
       " 'D:\\\\Drohnendaten\\\\10_WZE-UAV\\\\Auswertung_findatree\\\\Datasplit\\\\ROI\\\\rgb-nir\\\\2021\\\\tnr10547_rois.hdf5',\n",
       " 'D:\\\\Drohnendaten\\\\10_WZE-UAV\\\\Auswertung_findatree\\\\Datasplit\\\\ROI\\\\rgb-nir\\\\2021\\\\tnr10912_rois.hdf5',\n",
       " 'D:\\\\Drohnendaten\\\\10_WZE-UAV\\\\Auswertung_findatree\\\\Datasplit\\\\ROI\\\\rgb-nir\\\\2021\\\\tnr11032_rois.hdf5',\n",
       " 'D:\\\\Drohnendaten\\\\10_WZE-UAV\\\\Auswertung_findatree\\\\Datasplit\\\\ROI\\\\rgb-nir\\\\2021\\\\tnr11040_rois.hdf5',\n",
       " 'D:\\\\Drohnendaten\\\\10_WZE-UAV\\\\Auswertung_findatree\\\\Datasplit\\\\ROI\\\\rgb-nir\\\\2021\\\\tnr11044_rois.hdf5',\n",
       " 'D:\\\\Drohnendaten\\\\10_WZE-UAV\\\\Auswertung_findatree\\\\Datasplit\\\\ROI\\\\rgb-nir\\\\2021\\\\tnr11048_rois.hdf5',\n",
       " 'D:\\\\Drohnendaten\\\\10_WZE-UAV\\\\Auswertung_findatree\\\\Datasplit\\\\ROI\\\\rgb-nir\\\\2021\\\\tnr11052_rois.hdf5',\n",
       " 'D:\\\\Drohnendaten\\\\10_WZE-UAV\\\\Auswertung_findatree\\\\Datasplit\\\\ROI\\\\rgb-nir\\\\2021\\\\tnr11056_rois.hdf5',\n",
       " 'D:\\\\Drohnendaten\\\\10_WZE-UAV\\\\Auswertung_findatree\\\\Datasplit\\\\ROI\\\\rgb-nir\\\\2021\\\\tnr11078_rois.hdf5',\n",
       " 'D:\\\\Drohnendaten\\\\10_WZE-UAV\\\\Auswertung_findatree\\\\Datasplit\\\\ROI\\\\rgb-nir\\\\2021\\\\tnr11080_rois.hdf5',\n",
       " 'D:\\\\Drohnendaten\\\\10_WZE-UAV\\\\Auswertung_findatree\\\\Datasplit\\\\ROI\\\\rgb-nir\\\\2021\\\\tnr11090_rois.hdf5',\n",
       " 'D:\\\\Drohnendaten\\\\10_WZE-UAV\\\\Auswertung_findatree\\\\Datasplit\\\\ROI\\\\rgb-nir\\\\2021\\\\tnr11092_rois.hdf5',\n",
       " 'D:\\\\Drohnendaten\\\\10_WZE-UAV\\\\Auswertung_findatree\\\\Datasplit\\\\ROI\\\\rgb-nir\\\\2021\\\\tnr11179_rois.hdf5',\n",
       " 'D:\\\\Drohnendaten\\\\10_WZE-UAV\\\\Auswertung_findatree\\\\Datasplit\\\\ROI\\\\rgb-nir\\\\2021\\\\tnr11189_rois.hdf5',\n",
       " 'D:\\\\Drohnendaten\\\\10_WZE-UAV\\\\Auswertung_findatree\\\\Datasplit\\\\ROI\\\\rgb-nir\\\\2021\\\\tnr11325_rois.hdf5',\n",
       " 'D:\\\\Drohnendaten\\\\10_WZE-UAV\\\\Auswertung_findatree\\\\Datasplit\\\\ROI\\\\rgb-nir\\\\2021\\\\tnr11327_rois.hdf5',\n",
       " 'D:\\\\Drohnendaten\\\\10_WZE-UAV\\\\Auswertung_findatree\\\\Datasplit\\\\ROI\\\\rgb-nir\\\\2021\\\\tnr11453_rois.hdf5',\n",
       " 'D:\\\\Drohnendaten\\\\10_WZE-UAV\\\\Auswertung_findatree\\\\Datasplit\\\\ROI\\\\rgb-nir\\\\2021\\\\tnr11459_rois.hdf5',\n",
       " 'D:\\\\Drohnendaten\\\\10_WZE-UAV\\\\Auswertung_findatree\\\\Datasplit\\\\ROI\\\\rgb-nir\\\\2021\\\\tnr11576_rois.hdf5',\n",
       " 'D:\\\\Drohnendaten\\\\10_WZE-UAV\\\\Auswertung_findatree\\\\Datasplit\\\\ROI\\\\rgb-nir\\\\2021\\\\tnr11581_rois.hdf5',\n",
       " 'D:\\\\Drohnendaten\\\\10_WZE-UAV\\\\Auswertung_findatree\\\\Datasplit\\\\ROI\\\\rgb-nir\\\\2021\\\\tnr11597_rois.hdf5',\n",
       " 'D:\\\\Drohnendaten\\\\10_WZE-UAV\\\\Auswertung_findatree\\\\Datasplit\\\\ROI\\\\rgb-nir\\\\2021\\\\tnr11601_rois.hdf5',\n",
       " 'D:\\\\Drohnendaten\\\\10_WZE-UAV\\\\Auswertung_findatree\\\\Datasplit\\\\ROI\\\\rgb-nir\\\\2021\\\\tnr11626_rois.hdf5',\n",
       " 'D:\\\\Drohnendaten\\\\10_WZE-UAV\\\\Auswertung_findatree\\\\Datasplit\\\\ROI\\\\rgb-nir\\\\2021\\\\tnr11638_rois.hdf5',\n",
       " 'D:\\\\Drohnendaten\\\\10_WZE-UAV\\\\Auswertung_findatree\\\\Datasplit\\\\ROI\\\\rgb-nir\\\\2021\\\\tnr11640_rois.hdf5',\n",
       " 'D:\\\\Drohnendaten\\\\10_WZE-UAV\\\\Auswertung_findatree\\\\Datasplit\\\\ROI\\\\rgb-nir\\\\2021\\\\tnr11727_rois.hdf5',\n",
       " 'D:\\\\Drohnendaten\\\\10_WZE-UAV\\\\Auswertung_findatree\\\\Datasplit\\\\ROI\\\\rgb-nir\\\\2021\\\\tnr11733_rois.hdf5',\n",
       " 'D:\\\\Drohnendaten\\\\10_WZE-UAV\\\\Auswertung_findatree\\\\Datasplit\\\\ROI\\\\rgb-nir\\\\2021\\\\tnr11866_rois.hdf5',\n",
       " 'D:\\\\Drohnendaten\\\\10_WZE-UAV\\\\Auswertung_findatree\\\\Datasplit\\\\ROI\\\\rgb-nir\\\\2021\\\\tnr11874_rois.hdf5',\n",
       " 'D:\\\\Drohnendaten\\\\10_WZE-UAV\\\\Auswertung_findatree\\\\Datasplit\\\\ROI\\\\rgb-nir\\\\2021\\\\tnr11878_rois.hdf5',\n",
       " 'D:\\\\Drohnendaten\\\\10_WZE-UAV\\\\Auswertung_findatree\\\\Datasplit\\\\ROI\\\\rgb-nir\\\\2021\\\\tnr12013_rois.hdf5',\n",
       " 'D:\\\\Drohnendaten\\\\10_WZE-UAV\\\\Auswertung_findatree\\\\Datasplit\\\\ROI\\\\rgb-nir\\\\2021\\\\tnr12019_rois.hdf5',\n",
       " 'D:\\\\Drohnendaten\\\\10_WZE-UAV\\\\Auswertung_findatree\\\\Datasplit\\\\ROI\\\\rgb-nir\\\\2021\\\\tnr12120_rois.hdf5',\n",
       " 'D:\\\\Drohnendaten\\\\10_WZE-UAV\\\\Auswertung_findatree\\\\Datasplit\\\\ROI\\\\rgb-nir\\\\2021\\\\tnr12124_rois.hdf5',\n",
       " 'D:\\\\Drohnendaten\\\\10_WZE-UAV\\\\Auswertung_findatree\\\\Datasplit\\\\ROI\\\\rgb-nir\\\\2021\\\\tnr12153_rois.hdf5',\n",
       " 'D:\\\\Drohnendaten\\\\10_WZE-UAV\\\\Auswertung_findatree\\\\Datasplit\\\\ROI\\\\rgb-nir\\\\2021\\\\tnr12161_rois.hdf5',\n",
       " 'D:\\\\Drohnendaten\\\\10_WZE-UAV\\\\Auswertung_findatree\\\\Datasplit\\\\ROI\\\\rgb-nir\\\\2021\\\\tnr12169_rois.hdf5',\n",
       " 'D:\\\\Drohnendaten\\\\10_WZE-UAV\\\\Auswertung_findatree\\\\Datasplit\\\\ROI\\\\rgb-nir\\\\2021\\\\tnr12179_rois.hdf5',\n",
       " 'D:\\\\Drohnendaten\\\\10_WZE-UAV\\\\Auswertung_findatree\\\\Datasplit\\\\ROI\\\\rgb-nir\\\\2021\\\\tnr12285_rois.hdf5',\n",
       " 'D:\\\\Drohnendaten\\\\10_WZE-UAV\\\\Auswertung_findatree\\\\Datasplit\\\\ROI\\\\rgb-nir\\\\2021\\\\tnr12426_rois.hdf5',\n",
       " 'D:\\\\Drohnendaten\\\\10_WZE-UAV\\\\Auswertung_findatree\\\\Datasplit\\\\ROI\\\\rgb-nir\\\\2021\\\\tnr12549_rois.hdf5',\n",
       " 'D:\\\\Drohnendaten\\\\10_WZE-UAV\\\\Auswertung_findatree\\\\Datasplit\\\\ROI\\\\rgb-nir\\\\2021\\\\tnr12553_rois.hdf5',\n",
       " 'D:\\\\Drohnendaten\\\\10_WZE-UAV\\\\Auswertung_findatree\\\\Datasplit\\\\ROI\\\\rgb-nir\\\\2021\\\\tnr12557_rois.hdf5',\n",
       " 'D:\\\\Drohnendaten\\\\10_WZE-UAV\\\\Auswertung_findatree\\\\Datasplit\\\\ROI\\\\rgb-nir\\\\2021\\\\tnr12673_rois.hdf5',\n",
       " 'D:\\\\Drohnendaten\\\\10_WZE-UAV\\\\Auswertung_findatree\\\\Datasplit\\\\ROI\\\\rgb-nir\\\\2021\\\\tnr12678_rois.hdf5',\n",
       " 'D:\\\\Drohnendaten\\\\10_WZE-UAV\\\\Auswertung_findatree\\\\Datasplit\\\\ROI\\\\rgb-nir\\\\2021\\\\tnr12694_rois.hdf5',\n",
       " 'D:\\\\Drohnendaten\\\\10_WZE-UAV\\\\Auswertung_findatree\\\\Datasplit\\\\ROI\\\\rgb-nir\\\\2021\\\\tnr12698_rois.hdf5',\n",
       " 'D:\\\\Drohnendaten\\\\10_WZE-UAV\\\\Auswertung_findatree\\\\Datasplit\\\\ROI\\\\rgb-nir\\\\2021\\\\tnr12702_rois.hdf5',\n",
       " 'D:\\\\Drohnendaten\\\\10_WZE-UAV\\\\Auswertung_findatree\\\\Datasplit\\\\ROI\\\\rgb-nir\\\\2021\\\\tnr12711_rois.hdf5',\n",
       " 'D:\\\\Drohnendaten\\\\10_WZE-UAV\\\\Auswertung_findatree\\\\Datasplit\\\\ROI\\\\rgb-nir\\\\2021\\\\tnr12713_rois.hdf5',\n",
       " 'D:\\\\Drohnendaten\\\\10_WZE-UAV\\\\Auswertung_findatree\\\\Datasplit\\\\ROI\\\\rgb-nir\\\\2021\\\\tnr12715_rois.hdf5',\n",
       " 'D:\\\\Drohnendaten\\\\10_WZE-UAV\\\\Auswertung_findatree\\\\Datasplit\\\\ROI\\\\rgb-nir\\\\2021\\\\tnr12717_rois.hdf5',\n",
       " 'D:\\\\Drohnendaten\\\\10_WZE-UAV\\\\Auswertung_findatree\\\\Datasplit\\\\ROI\\\\rgb-nir\\\\2021\\\\tnr12719_rois.hdf5',\n",
       " 'D:\\\\Drohnendaten\\\\10_WZE-UAV\\\\Auswertung_findatree\\\\Datasplit\\\\ROI\\\\rgb-nir\\\\2021\\\\tnr12950_rois.hdf5',\n",
       " 'D:\\\\Drohnendaten\\\\10_WZE-UAV\\\\Auswertung_findatree\\\\Datasplit\\\\ROI\\\\rgb-nir\\\\2021\\\\tnr12960_rois.hdf5',\n",
       " 'D:\\\\Drohnendaten\\\\10_WZE-UAV\\\\Auswertung_findatree\\\\Datasplit\\\\ROI\\\\rgb-nir\\\\2021\\\\tnr13212_rois.hdf5',\n",
       " 'D:\\\\Drohnendaten\\\\10_WZE-UAV\\\\Auswertung_findatree\\\\Datasplit\\\\ROI\\\\rgb-nir\\\\2021\\\\tnr13225_rois.hdf5',\n",
       " 'D:\\\\Drohnendaten\\\\10_WZE-UAV\\\\Auswertung_findatree\\\\Datasplit\\\\ROI\\\\rgb-nir\\\\2021\\\\tnr13233_rois.hdf5',\n",
       " 'D:\\\\Drohnendaten\\\\10_WZE-UAV\\\\Auswertung_findatree\\\\Datasplit\\\\ROI\\\\rgb-nir\\\\2021\\\\tnr13259_rois.hdf5',\n",
       " 'D:\\\\Drohnendaten\\\\10_WZE-UAV\\\\Auswertung_findatree\\\\Datasplit\\\\ROI\\\\rgb-nir\\\\2021\\\\tnr13508_rois.hdf5',\n",
       " 'D:\\\\Drohnendaten\\\\10_WZE-UAV\\\\Auswertung_findatree\\\\Datasplit\\\\ROI\\\\rgb-nir\\\\2021\\\\tnr13758_rois.hdf5',\n",
       " 'D:\\\\Drohnendaten\\\\10_WZE-UAV\\\\Auswertung_findatree\\\\Datasplit\\\\ROI\\\\rgb-nir\\\\2021\\\\tnr13766_rois.hdf5',\n",
       " 'D:\\\\Drohnendaten\\\\10_WZE-UAV\\\\Auswertung_findatree\\\\Datasplit\\\\ROI\\\\rgb-nir\\\\2021\\\\tnr13779_rois.hdf5',\n",
       " 'D:\\\\Drohnendaten\\\\10_WZE-UAV\\\\Auswertung_findatree\\\\Datasplit\\\\ROI\\\\rgb-nir\\\\2021\\\\tnr13819_rois.hdf5',\n",
       " 'D:\\\\Drohnendaten\\\\10_WZE-UAV\\\\Auswertung_findatree\\\\Datasplit\\\\ROI\\\\rgb-nir\\\\2021\\\\tnr13825_rois.hdf5',\n",
       " 'D:\\\\Drohnendaten\\\\10_WZE-UAV\\\\Auswertung_findatree\\\\Datasplit\\\\ROI\\\\rgb-nir\\\\2021\\\\tnr13898_rois.hdf5',\n",
       " 'D:\\\\Drohnendaten\\\\10_WZE-UAV\\\\Auswertung_findatree\\\\Datasplit\\\\ROI\\\\rgb-nir\\\\2021\\\\tnr13922_rois.hdf5',\n",
       " 'D:\\\\Drohnendaten\\\\10_WZE-UAV\\\\Auswertung_findatree\\\\Datasplit\\\\ROI\\\\rgb-nir\\\\2021\\\\tnr14156_rois.hdf5',\n",
       " 'D:\\\\Drohnendaten\\\\10_WZE-UAV\\\\Auswertung_findatree\\\\Datasplit\\\\ROI\\\\rgb-nir\\\\2021\\\\tnr14293_rois.hdf5',\n",
       " 'D:\\\\Drohnendaten\\\\10_WZE-UAV\\\\Auswertung_findatree\\\\Datasplit\\\\ROI\\\\rgb-nir\\\\2021\\\\tnr14327_rois.hdf5',\n",
       " 'D:\\\\Drohnendaten\\\\10_WZE-UAV\\\\Auswertung_findatree\\\\Datasplit\\\\ROI\\\\rgb-nir\\\\2021\\\\tnr14666_rois.hdf5',\n",
       " 'D:\\\\Drohnendaten\\\\10_WZE-UAV\\\\Auswertung_findatree\\\\Datasplit\\\\ROI\\\\rgb-nir\\\\2021\\\\tnr14723_rois.hdf5',\n",
       " 'D:\\\\Drohnendaten\\\\10_WZE-UAV\\\\Auswertung_findatree\\\\Datasplit\\\\ROI\\\\rgb-nir\\\\2021\\\\tnr14727_rois.hdf5',\n",
       " 'D:\\\\Drohnendaten\\\\10_WZE-UAV\\\\Auswertung_findatree\\\\Datasplit\\\\ROI\\\\rgb-nir\\\\2021\\\\tnr14732_rois.hdf5',\n",
       " 'D:\\\\Drohnendaten\\\\10_WZE-UAV\\\\Auswertung_findatree\\\\Datasplit\\\\ROI\\\\rgb-nir\\\\2021\\\\tnr14781_rois.hdf5',\n",
       " 'D:\\\\Drohnendaten\\\\10_WZE-UAV\\\\Auswertung_findatree\\\\Datasplit\\\\ROI\\\\rgb-nir\\\\2021\\\\tnr14877_rois.hdf5',\n",
       " 'D:\\\\Drohnendaten\\\\10_WZE-UAV\\\\Auswertung_findatree\\\\Datasplit\\\\ROI\\\\rgb-nir\\\\2021\\\\tnr14879_rois.hdf5',\n",
       " 'D:\\\\Drohnendaten\\\\10_WZE-UAV\\\\Auswertung_findatree\\\\Datasplit\\\\ROI\\\\rgb-nir\\\\2021\\\\tnr14887_rois.hdf5',\n",
       " 'D:\\\\Drohnendaten\\\\10_WZE-UAV\\\\Auswertung_findatree\\\\Datasplit\\\\ROI\\\\rgb-nir\\\\2021\\\\tnr15016_rois.hdf5',\n",
       " 'D:\\\\Drohnendaten\\\\10_WZE-UAV\\\\Auswertung_findatree\\\\Datasplit\\\\ROI\\\\rgb-nir\\\\2021\\\\tnr15020_rois.hdf5',\n",
       " 'D:\\\\Drohnendaten\\\\10_WZE-UAV\\\\Auswertung_findatree\\\\Datasplit\\\\ROI\\\\rgb-nir\\\\2021\\\\tnr15027_rois.hdf5',\n",
       " 'D:\\\\Drohnendaten\\\\10_WZE-UAV\\\\Auswertung_findatree\\\\Datasplit\\\\ROI\\\\rgb-nir\\\\2021\\\\tnr15031_rois.hdf5',\n",
       " 'D:\\\\Drohnendaten\\\\10_WZE-UAV\\\\Auswertung_findatree\\\\Datasplit\\\\ROI\\\\rgb-nir\\\\2021\\\\tnr15035_rois.hdf5',\n",
       " 'D:\\\\Drohnendaten\\\\10_WZE-UAV\\\\Auswertung_findatree\\\\Datasplit\\\\ROI\\\\rgb-nir\\\\2021\\\\tnr15039_rois.hdf5',\n",
       " 'D:\\\\Drohnendaten\\\\10_WZE-UAV\\\\Auswertung_findatree\\\\Datasplit\\\\ROI\\\\rgb-nir\\\\2021\\\\tnr15043_rois.hdf5',\n",
       " 'D:\\\\Drohnendaten\\\\10_WZE-UAV\\\\Auswertung_findatree\\\\Datasplit\\\\ROI\\\\rgb-nir\\\\2021\\\\tnr15046_rois.hdf5',\n",
       " 'D:\\\\Drohnendaten\\\\10_WZE-UAV\\\\Auswertung_findatree\\\\Datasplit\\\\ROI\\\\rgb-nir\\\\2021\\\\tnr15050_rois.hdf5',\n",
       " 'D:\\\\Drohnendaten\\\\10_WZE-UAV\\\\Auswertung_findatree\\\\Datasplit\\\\ROI\\\\rgb-nir\\\\2021\\\\tnr15101_rois.hdf5',\n",
       " 'D:\\\\Drohnendaten\\\\10_WZE-UAV\\\\Auswertung_findatree\\\\Datasplit\\\\ROI\\\\rgb-nir\\\\2021\\\\tnr15273_rois.hdf5',\n",
       " 'D:\\\\Drohnendaten\\\\10_WZE-UAV\\\\Auswertung_findatree\\\\Datasplit\\\\ROI\\\\rgb-nir\\\\2021\\\\tnr15277_rois.hdf5',\n",
       " 'D:\\\\Drohnendaten\\\\10_WZE-UAV\\\\Auswertung_findatree\\\\Datasplit\\\\ROI\\\\rgb-nir\\\\2021\\\\tnr15297_rois.hdf5',\n",
       " 'D:\\\\Drohnendaten\\\\10_WZE-UAV\\\\Auswertung_findatree\\\\Datasplit\\\\ROI\\\\rgb-nir\\\\2021\\\\tnr15299_rois.hdf5',\n",
       " 'D:\\\\Drohnendaten\\\\10_WZE-UAV\\\\Auswertung_findatree\\\\Datasplit\\\\ROI\\\\rgb-nir\\\\2021\\\\tnr15301_rois.hdf5',\n",
       " 'D:\\\\Drohnendaten\\\\10_WZE-UAV\\\\Auswertung_findatree\\\\Datasplit\\\\ROI\\\\rgb-nir\\\\2021\\\\tnr15303_rois.hdf5',\n",
       " 'D:\\\\Drohnendaten\\\\10_WZE-UAV\\\\Auswertung_findatree\\\\Datasplit\\\\ROI\\\\rgb-nir\\\\2021\\\\tnr15306_rois.hdf5',\n",
       " 'D:\\\\Drohnendaten\\\\10_WZE-UAV\\\\Auswertung_findatree\\\\Datasplit\\\\ROI\\\\rgb-nir\\\\2021\\\\tnr15311_rois.hdf5',\n",
       " 'D:\\\\Drohnendaten\\\\10_WZE-UAV\\\\Auswertung_findatree\\\\Datasplit\\\\ROI\\\\rgb-nir\\\\2021\\\\tnr15313_rois.hdf5',\n",
       " 'D:\\\\Drohnendaten\\\\10_WZE-UAV\\\\Auswertung_findatree\\\\Datasplit\\\\ROI\\\\rgb-nir\\\\2021\\\\tnr15319_rois.hdf5',\n",
       " 'D:\\\\Drohnendaten\\\\10_WZE-UAV\\\\Auswertung_findatree\\\\Datasplit\\\\ROI\\\\rgb-nir\\\\2021\\\\tnr15327_rois.hdf5',\n",
       " 'D:\\\\Drohnendaten\\\\10_WZE-UAV\\\\Auswertung_findatree\\\\Datasplit\\\\ROI\\\\rgb-nir\\\\2021\\\\tnr15519_rois.hdf5',\n",
       " 'D:\\\\Drohnendaten\\\\10_WZE-UAV\\\\Auswertung_findatree\\\\Datasplit\\\\ROI\\\\rgb-nir\\\\2021\\\\tnr15521_rois.hdf5',\n",
       " 'D:\\\\Drohnendaten\\\\10_WZE-UAV\\\\Auswertung_findatree\\\\Datasplit\\\\ROI\\\\rgb-nir\\\\2021\\\\tnr15531_rois.hdf5',\n",
       " 'D:\\\\Drohnendaten\\\\10_WZE-UAV\\\\Auswertung_findatree\\\\Datasplit\\\\ROI\\\\rgb-nir\\\\2021\\\\tnr15537_rois.hdf5',\n",
       " 'D:\\\\Drohnendaten\\\\10_WZE-UAV\\\\Auswertung_findatree\\\\Datasplit\\\\ROI\\\\rgb-nir\\\\2021\\\\tnr15730_rois.hdf5',\n",
       " 'D:\\\\Drohnendaten\\\\10_WZE-UAV\\\\Auswertung_findatree\\\\Datasplit\\\\ROI\\\\rgb-nir\\\\2021\\\\tnr15736_rois.hdf5',\n",
       " 'D:\\\\Drohnendaten\\\\10_WZE-UAV\\\\Auswertung_findatree\\\\Datasplit\\\\ROI\\\\rgb-nir\\\\2021\\\\tnr15746_rois.hdf5',\n",
       " 'D:\\\\Drohnendaten\\\\10_WZE-UAV\\\\Auswertung_findatree\\\\Datasplit\\\\ROI\\\\rgb-nir\\\\2021\\\\tnr15748_rois.hdf5',\n",
       " 'D:\\\\Drohnendaten\\\\10_WZE-UAV\\\\Auswertung_findatree\\\\Datasplit\\\\ROI\\\\rgb-nir\\\\2021\\\\tnr15780_rois.hdf5',\n",
       " 'D:\\\\Drohnendaten\\\\10_WZE-UAV\\\\Auswertung_findatree\\\\Datasplit\\\\ROI\\\\rgb-nir\\\\2021\\\\tnr15966_rois.hdf5',\n",
       " 'D:\\\\Drohnendaten\\\\10_WZE-UAV\\\\Auswertung_findatree\\\\Datasplit\\\\ROI\\\\rgb-nir\\\\2021\\\\tnr15974_rois.hdf5',\n",
       " 'D:\\\\Drohnendaten\\\\10_WZE-UAV\\\\Auswertung_findatree\\\\Datasplit\\\\ROI\\\\rgb-nir\\\\2021\\\\tnr15986_rois.hdf5',\n",
       " 'D:\\\\Drohnendaten\\\\10_WZE-UAV\\\\Auswertung_findatree\\\\Datasplit\\\\ROI\\\\rgb-nir\\\\2021\\\\tnr15988_rois.hdf5',\n",
       " 'D:\\\\Drohnendaten\\\\10_WZE-UAV\\\\Auswertung_findatree\\\\Datasplit\\\\ROI\\\\rgb-nir\\\\2021\\\\tnr15998_rois.hdf5',\n",
       " 'D:\\\\Drohnendaten\\\\10_WZE-UAV\\\\Auswertung_findatree\\\\Datasplit\\\\ROI\\\\rgb-nir\\\\2021\\\\tnr16173_rois.hdf5',\n",
       " 'D:\\\\Drohnendaten\\\\10_WZE-UAV\\\\Auswertung_findatree\\\\Datasplit\\\\ROI\\\\rgb-nir\\\\2021\\\\tnr16177_rois.hdf5',\n",
       " 'D:\\\\Drohnendaten\\\\10_WZE-UAV\\\\Auswertung_findatree\\\\Datasplit\\\\ROI\\\\rgb-nir\\\\2021\\\\tnr16181_rois.hdf5',\n",
       " 'D:\\\\Drohnendaten\\\\10_WZE-UAV\\\\Auswertung_findatree\\\\Datasplit\\\\ROI\\\\rgb-nir\\\\2021\\\\tnr16197_rois.hdf5',\n",
       " 'D:\\\\Drohnendaten\\\\10_WZE-UAV\\\\Auswertung_findatree\\\\Datasplit\\\\ROI\\\\rgb-nir\\\\2021\\\\tnr16201_rois.hdf5',\n",
       " 'D:\\\\Drohnendaten\\\\10_WZE-UAV\\\\Auswertung_findatree\\\\Datasplit\\\\ROI\\\\rgb-nir\\\\2021\\\\tnr16205_rois.hdf5',\n",
       " 'D:\\\\Drohnendaten\\\\10_WZE-UAV\\\\Auswertung_findatree\\\\Datasplit\\\\ROI\\\\rgb-nir\\\\2021\\\\tnr16211_rois.hdf5',\n",
       " 'D:\\\\Drohnendaten\\\\10_WZE-UAV\\\\Auswertung_findatree\\\\Datasplit\\\\ROI\\\\rgb-nir\\\\2021\\\\tnr16223_rois.hdf5',\n",
       " 'D:\\\\Drohnendaten\\\\10_WZE-UAV\\\\Auswertung_findatree\\\\Datasplit\\\\ROI\\\\rgb-nir\\\\2021\\\\tnr16227_rois.hdf5',\n",
       " 'D:\\\\Drohnendaten\\\\10_WZE-UAV\\\\Auswertung_findatree\\\\Datasplit\\\\ROI\\\\rgb-nir\\\\2021\\\\tnr16400_rois.hdf5',\n",
       " 'D:\\\\Drohnendaten\\\\10_WZE-UAV\\\\Auswertung_findatree\\\\Datasplit\\\\ROI\\\\rgb-nir\\\\2021\\\\tnr16404_rois.hdf5',\n",
       " 'D:\\\\Drohnendaten\\\\10_WZE-UAV\\\\Auswertung_findatree\\\\Datasplit\\\\ROI\\\\rgb-nir\\\\2021\\\\tnr16412_rois.hdf5',\n",
       " 'D:\\\\Drohnendaten\\\\10_WZE-UAV\\\\Auswertung_findatree\\\\Datasplit\\\\ROI\\\\rgb-nir\\\\2021\\\\tnr16422_rois.hdf5',\n",
       " 'D:\\\\Drohnendaten\\\\10_WZE-UAV\\\\Auswertung_findatree\\\\Datasplit\\\\ROI\\\\rgb-nir\\\\2021\\\\tnr16426_rois.hdf5',\n",
       " 'D:\\\\Drohnendaten\\\\10_WZE-UAV\\\\Auswertung_findatree\\\\Datasplit\\\\ROI\\\\rgb-nir\\\\2021\\\\tnr16624_rois.hdf5',\n",
       " 'D:\\\\Drohnendaten\\\\10_WZE-UAV\\\\Auswertung_findatree\\\\Datasplit\\\\ROI\\\\rgb-nir\\\\2021\\\\tnr16632_rois.hdf5',\n",
       " 'D:\\\\Drohnendaten\\\\10_WZE-UAV\\\\Auswertung_findatree\\\\Datasplit\\\\ROI\\\\rgb-nir\\\\2021\\\\tnr16636_rois.hdf5',\n",
       " 'D:\\\\Drohnendaten\\\\10_WZE-UAV\\\\Auswertung_findatree\\\\Datasplit\\\\ROI\\\\rgb-nir\\\\2021\\\\tnr16639_rois.hdf5',\n",
       " 'D:\\\\Drohnendaten\\\\10_WZE-UAV\\\\Auswertung_findatree\\\\Datasplit\\\\ROI\\\\rgb-nir\\\\2021\\\\tnr16643_rois.hdf5',\n",
       " 'D:\\\\Drohnendaten\\\\10_WZE-UAV\\\\Auswertung_findatree\\\\Datasplit\\\\ROI\\\\rgb-nir\\\\2021\\\\tnr16645_rois.hdf5',\n",
       " 'D:\\\\Drohnendaten\\\\10_WZE-UAV\\\\Auswertung_findatree\\\\Datasplit\\\\ROI\\\\rgb-nir\\\\2021\\\\tnr16649_rois.hdf5',\n",
       " 'D:\\\\Drohnendaten\\\\10_WZE-UAV\\\\Auswertung_findatree\\\\Datasplit\\\\ROI\\\\rgb-nir\\\\2021\\\\tnr16657_rois.hdf5',\n",
       " 'D:\\\\Drohnendaten\\\\10_WZE-UAV\\\\Auswertung_findatree\\\\Datasplit\\\\ROI\\\\rgb-nir\\\\2021\\\\tnr16829_rois.hdf5',\n",
       " 'D:\\\\Drohnendaten\\\\10_WZE-UAV\\\\Auswertung_findatree\\\\Datasplit\\\\ROI\\\\rgb-nir\\\\2021\\\\tnr16833_rois.hdf5',\n",
       " 'D:\\\\Drohnendaten\\\\10_WZE-UAV\\\\Auswertung_findatree\\\\Datasplit\\\\ROI\\\\rgb-nir\\\\2021\\\\tnr16838_rois.hdf5',\n",
       " 'D:\\\\Drohnendaten\\\\10_WZE-UAV\\\\Auswertung_findatree\\\\Datasplit\\\\ROI\\\\rgb-nir\\\\2021\\\\tnr17019_rois.hdf5',\n",
       " 'D:\\\\Drohnendaten\\\\10_WZE-UAV\\\\Auswertung_findatree\\\\Datasplit\\\\ROI\\\\rgb-nir\\\\2021\\\\tnr17032_rois.hdf5',\n",
       " 'D:\\\\Drohnendaten\\\\10_WZE-UAV\\\\Auswertung_findatree\\\\Datasplit\\\\ROI\\\\rgb-nir\\\\2021\\\\tnr17034_rois.hdf5',\n",
       " 'D:\\\\Drohnendaten\\\\10_WZE-UAV\\\\Auswertung_findatree\\\\Datasplit\\\\ROI\\\\rgb-nir\\\\2021\\\\tnr17042_rois.hdf5',\n",
       " 'D:\\\\Drohnendaten\\\\10_WZE-UAV\\\\Auswertung_findatree\\\\Datasplit\\\\ROI\\\\rgb-nir\\\\2021\\\\tnr17339_rois.hdf5',\n",
       " 'D:\\\\Drohnendaten\\\\10_WZE-UAV\\\\Auswertung_findatree\\\\Datasplit\\\\ROI\\\\rgb-nir\\\\2021\\\\tnr182_rois.hdf5',\n",
       " 'D:\\\\Drohnendaten\\\\10_WZE-UAV\\\\Auswertung_findatree\\\\Datasplit\\\\ROI\\\\rgb-nir\\\\2021\\\\tnr185_rois.hdf5',\n",
       " 'D:\\\\Drohnendaten\\\\10_WZE-UAV\\\\Auswertung_findatree\\\\Datasplit\\\\ROI\\\\rgb-nir\\\\2021\\\\tnr188_rois.hdf5',\n",
       " 'D:\\\\Drohnendaten\\\\10_WZE-UAV\\\\Auswertung_findatree\\\\Datasplit\\\\ROI\\\\rgb-nir\\\\2021\\\\tnr1898_rois.hdf5',\n",
       " 'D:\\\\Drohnendaten\\\\10_WZE-UAV\\\\Auswertung_findatree\\\\Datasplit\\\\ROI\\\\rgb-nir\\\\2021\\\\tnr192_rois.hdf5',\n",
       " 'D:\\\\Drohnendaten\\\\10_WZE-UAV\\\\Auswertung_findatree\\\\Datasplit\\\\ROI\\\\rgb-nir\\\\2021\\\\tnr194_rois.hdf5',\n",
       " 'D:\\\\Drohnendaten\\\\10_WZE-UAV\\\\Auswertung_findatree\\\\Datasplit\\\\ROI\\\\rgb-nir\\\\2021\\\\tnr196_rois.hdf5',\n",
       " 'D:\\\\Drohnendaten\\\\10_WZE-UAV\\\\Auswertung_findatree\\\\Datasplit\\\\ROI\\\\rgb-nir\\\\2021\\\\tnr200_rois.hdf5',\n",
       " 'D:\\\\Drohnendaten\\\\10_WZE-UAV\\\\Auswertung_findatree\\\\Datasplit\\\\ROI\\\\rgb-nir\\\\2021\\\\tnr2386_rois.hdf5',\n",
       " 'D:\\\\Drohnendaten\\\\10_WZE-UAV\\\\Auswertung_findatree\\\\Datasplit\\\\ROI\\\\rgb-nir\\\\2021\\\\tnr2399_rois.hdf5',\n",
       " 'D:\\\\Drohnendaten\\\\10_WZE-UAV\\\\Auswertung_findatree\\\\Datasplit\\\\ROI\\\\rgb-nir\\\\2021\\\\tnr2411_rois.hdf5',\n",
       " 'D:\\\\Drohnendaten\\\\10_WZE-UAV\\\\Auswertung_findatree\\\\Datasplit\\\\ROI\\\\rgb-nir\\\\2021\\\\tnr2413_rois.hdf5',\n",
       " 'D:\\\\Drohnendaten\\\\10_WZE-UAV\\\\Auswertung_findatree\\\\Datasplit\\\\ROI\\\\rgb-nir\\\\2021\\\\tnr3398_rois.hdf5',\n",
       " 'D:\\\\Drohnendaten\\\\10_WZE-UAV\\\\Auswertung_findatree\\\\Datasplit\\\\ROI\\\\rgb-nir\\\\2021\\\\tnr3418_rois.hdf5',\n",
       " 'D:\\\\Drohnendaten\\\\10_WZE-UAV\\\\Auswertung_findatree\\\\Datasplit\\\\ROI\\\\rgb-nir\\\\2021\\\\tnr3430_rois.hdf5',\n",
       " 'D:\\\\Drohnendaten\\\\10_WZE-UAV\\\\Auswertung_findatree\\\\Datasplit\\\\ROI\\\\rgb-nir\\\\2021\\\\tnr3930_rois.hdf5',\n",
       " 'D:\\\\Drohnendaten\\\\10_WZE-UAV\\\\Auswertung_findatree\\\\Datasplit\\\\ROI\\\\rgb-nir\\\\2021\\\\tnr4396_rois.hdf5',\n",
       " 'D:\\\\Drohnendaten\\\\10_WZE-UAV\\\\Auswertung_findatree\\\\Datasplit\\\\ROI\\\\rgb-nir\\\\2021\\\\tnr4412_rois.hdf5',\n",
       " 'D:\\\\Drohnendaten\\\\10_WZE-UAV\\\\Auswertung_findatree\\\\Datasplit\\\\ROI\\\\rgb-nir\\\\2021\\\\tnr4436_rois.hdf5',\n",
       " 'D:\\\\Drohnendaten\\\\10_WZE-UAV\\\\Auswertung_findatree\\\\Datasplit\\\\ROI\\\\rgb-nir\\\\2021\\\\tnr4444_rois.hdf5',\n",
       " 'D:\\\\Drohnendaten\\\\10_WZE-UAV\\\\Auswertung_findatree\\\\Datasplit\\\\ROI\\\\rgb-nir\\\\2021\\\\tnr477_rois.hdf5',\n",
       " 'D:\\\\Drohnendaten\\\\10_WZE-UAV\\\\Auswertung_findatree\\\\Datasplit\\\\ROI\\\\rgb-nir\\\\2021\\\\tnr485_rois.hdf5',\n",
       " 'D:\\\\Drohnendaten\\\\10_WZE-UAV\\\\Auswertung_findatree\\\\Datasplit\\\\ROI\\\\rgb-nir\\\\2021\\\\tnr5449_rois.hdf5',\n",
       " 'D:\\\\Drohnendaten\\\\10_WZE-UAV\\\\Auswertung_findatree\\\\Datasplit\\\\ROI\\\\rgb-nir\\\\2021\\\\tnr5930_rois.hdf5',\n",
       " 'D:\\\\Drohnendaten\\\\10_WZE-UAV\\\\Auswertung_findatree\\\\Datasplit\\\\ROI\\\\rgb-nir\\\\2021\\\\tnr5946_rois.hdf5',\n",
       " 'D:\\\\Drohnendaten\\\\10_WZE-UAV\\\\Auswertung_findatree\\\\Datasplit\\\\ROI\\\\rgb-nir\\\\2021\\\\tnr6430_rois.hdf5',\n",
       " 'D:\\\\Drohnendaten\\\\10_WZE-UAV\\\\Auswertung_findatree\\\\Datasplit\\\\ROI\\\\rgb-nir\\\\2021\\\\tnr6462_rois.hdf5',\n",
       " 'D:\\\\Drohnendaten\\\\10_WZE-UAV\\\\Auswertung_findatree\\\\Datasplit\\\\ROI\\\\rgb-nir\\\\2021\\\\tnr6466_rois.hdf5',\n",
       " 'D:\\\\Drohnendaten\\\\10_WZE-UAV\\\\Auswertung_findatree\\\\Datasplit\\\\ROI\\\\rgb-nir\\\\2021\\\\tnr6468_rois.hdf5',\n",
       " 'D:\\\\Drohnendaten\\\\10_WZE-UAV\\\\Auswertung_findatree\\\\Datasplit\\\\ROI\\\\rgb-nir\\\\2021\\\\tnr6470_rois.hdf5',\n",
       " 'D:\\\\Drohnendaten\\\\10_WZE-UAV\\\\Auswertung_findatree\\\\Datasplit\\\\ROI\\\\rgb-nir\\\\2021\\\\tnr6474_rois.hdf5',\n",
       " 'D:\\\\Drohnendaten\\\\10_WZE-UAV\\\\Auswertung_findatree\\\\Datasplit\\\\ROI\\\\rgb-nir\\\\2021\\\\tnr6478_rois.hdf5',\n",
       " 'D:\\\\Drohnendaten\\\\10_WZE-UAV\\\\Auswertung_findatree\\\\Datasplit\\\\ROI\\\\rgb-nir\\\\2021\\\\tnr6969_rois.hdf5',\n",
       " 'D:\\\\Drohnendaten\\\\10_WZE-UAV\\\\Auswertung_findatree\\\\Datasplit\\\\ROI\\\\rgb-nir\\\\2021\\\\tnr6971_rois.hdf5',\n",
       " 'D:\\\\Drohnendaten\\\\10_WZE-UAV\\\\Auswertung_findatree\\\\Datasplit\\\\ROI\\\\rgb-nir\\\\2021\\\\tnr6977_rois.hdf5',\n",
       " 'D:\\\\Drohnendaten\\\\10_WZE-UAV\\\\Auswertung_findatree\\\\Datasplit\\\\ROI\\\\rgb-nir\\\\2021\\\\tnr7002_rois.hdf5',\n",
       " 'D:\\\\Drohnendaten\\\\10_WZE-UAV\\\\Auswertung_findatree\\\\Datasplit\\\\ROI\\\\rgb-nir\\\\2021\\\\tnr7475_rois.hdf5',\n",
       " 'D:\\\\Drohnendaten\\\\10_WZE-UAV\\\\Auswertung_findatree\\\\Datasplit\\\\ROI\\\\rgb-nir\\\\2021\\\\tnr7511_rois.hdf5',\n",
       " 'D:\\\\Drohnendaten\\\\10_WZE-UAV\\\\Auswertung_findatree\\\\Datasplit\\\\ROI\\\\rgb-nir\\\\2021\\\\tnr7517_rois.hdf5',\n",
       " 'D:\\\\Drohnendaten\\\\10_WZE-UAV\\\\Auswertung_findatree\\\\Datasplit\\\\ROI\\\\rgb-nir\\\\2021\\\\tnr7521_rois.hdf5',\n",
       " 'D:\\\\Drohnendaten\\\\10_WZE-UAV\\\\Auswertung_findatree\\\\Datasplit\\\\ROI\\\\rgb-nir\\\\2021\\\\tnr7525_rois.hdf5',\n",
       " 'D:\\\\Drohnendaten\\\\10_WZE-UAV\\\\Auswertung_findatree\\\\Datasplit\\\\ROI\\\\rgb-nir\\\\2021\\\\tnr8032_rois.hdf5',\n",
       " 'D:\\\\Drohnendaten\\\\10_WZE-UAV\\\\Auswertung_findatree\\\\Datasplit\\\\ROI\\\\rgb-nir\\\\2021\\\\tnr8040_rois.hdf5',\n",
       " 'D:\\\\Drohnendaten\\\\10_WZE-UAV\\\\Auswertung_findatree\\\\Datasplit\\\\ROI\\\\rgb-nir\\\\2021\\\\tnr8492_rois.hdf5',\n",
       " 'D:\\\\Drohnendaten\\\\10_WZE-UAV\\\\Auswertung_findatree\\\\Datasplit\\\\ROI\\\\rgb-nir\\\\2021\\\\tnr8494_rois.hdf5',\n",
       " 'D:\\\\Drohnendaten\\\\10_WZE-UAV\\\\Auswertung_findatree\\\\Datasplit\\\\ROI\\\\rgb-nir\\\\2021\\\\tnr8498_rois.hdf5',\n",
       " 'D:\\\\Drohnendaten\\\\10_WZE-UAV\\\\Auswertung_findatree\\\\Datasplit\\\\ROI\\\\rgb-nir\\\\2021\\\\tnr84_rois.hdf5',\n",
       " 'D:\\\\Drohnendaten\\\\10_WZE-UAV\\\\Auswertung_findatree\\\\Datasplit\\\\ROI\\\\rgb-nir\\\\2021\\\\tnr8532_rois.hdf5',\n",
       " 'D:\\\\Drohnendaten\\\\10_WZE-UAV\\\\Auswertung_findatree\\\\Datasplit\\\\ROI\\\\rgb-nir\\\\2021\\\\tnr86_rois.hdf5',\n",
       " 'D:\\\\Drohnendaten\\\\10_WZE-UAV\\\\Auswertung_findatree\\\\Datasplit\\\\ROI\\\\rgb-nir\\\\2021\\\\tnr8973_rois.hdf5',\n",
       " 'D:\\\\Drohnendaten\\\\10_WZE-UAV\\\\Auswertung_findatree\\\\Datasplit\\\\ROI\\\\rgb-nir\\\\2021\\\\tnr8979_rois.hdf5',\n",
       " 'D:\\\\Drohnendaten\\\\10_WZE-UAV\\\\Auswertung_findatree\\\\Datasplit\\\\ROI\\\\rgb-nir\\\\2021\\\\tnr8981_rois.hdf5',\n",
       " 'D:\\\\Drohnendaten\\\\10_WZE-UAV\\\\Auswertung_findatree\\\\Datasplit\\\\ROI\\\\rgb-nir\\\\2021\\\\tnr8989_rois.hdf5',\n",
       " 'D:\\\\Drohnendaten\\\\10_WZE-UAV\\\\Auswertung_findatree\\\\Datasplit\\\\ROI\\\\rgb-nir\\\\2021\\\\tnr9025_rois.hdf5',\n",
       " 'D:\\\\Drohnendaten\\\\10_WZE-UAV\\\\Auswertung_findatree\\\\Datasplit\\\\ROI\\\\rgb-nir\\\\2021\\\\tnr9464_rois.hdf5',\n",
       " 'D:\\\\Drohnendaten\\\\10_WZE-UAV\\\\Auswertung_findatree\\\\Datasplit\\\\ROI\\\\rgb-nir\\\\2021\\\\tnr9468_rois.hdf5',\n",
       " 'D:\\\\Drohnendaten\\\\10_WZE-UAV\\\\Auswertung_findatree\\\\Datasplit\\\\ROI\\\\rgb-nir\\\\2021\\\\tnr9472_rois.hdf5',\n",
       " 'D:\\\\Drohnendaten\\\\10_WZE-UAV\\\\Auswertung_findatree\\\\Datasplit\\\\ROI\\\\rgb-nir\\\\2021\\\\tnr9477_rois.hdf5',\n",
       " 'D:\\\\Drohnendaten\\\\10_WZE-UAV\\\\Auswertung_findatree\\\\Datasplit\\\\ROI\\\\rgb-nir\\\\2021\\\\tnr9479_rois.hdf5',\n",
       " 'D:\\\\Drohnendaten\\\\10_WZE-UAV\\\\Auswertung_findatree\\\\Datasplit\\\\ROI\\\\rgb-nir\\\\2021\\\\tnr9489_rois.hdf5',\n",
       " 'D:\\\\Drohnendaten\\\\10_WZE-UAV\\\\Auswertung_findatree\\\\Datasplit\\\\ROI\\\\rgb-nir\\\\2021\\\\tnr9493_rois.hdf5',\n",
       " 'D:\\\\Drohnendaten\\\\10_WZE-UAV\\\\Auswertung_findatree\\\\Datasplit\\\\ROI\\\\rgb-nir\\\\2021\\\\tnr9509_rois.hdf5',\n",
       " 'D:\\\\Drohnendaten\\\\10_WZE-UAV\\\\Auswertung_findatree\\\\Datasplit\\\\ROI\\\\rgb-nir\\\\2021\\\\tnr9515_rois.hdf5',\n",
       " 'D:\\\\Drohnendaten\\\\10_WZE-UAV\\\\Auswertung_findatree\\\\Datasplit\\\\ROI\\\\rgb-nir\\\\2021\\\\tnr9517_rois.hdf5',\n",
       " 'D:\\\\Drohnendaten\\\\10_WZE-UAV\\\\Auswertung_findatree\\\\Datasplit\\\\ROI\\\\rgb-nir\\\\2021\\\\tnr9948_rois.hdf5',\n",
       " 'D:\\\\Drohnendaten\\\\10_WZE-UAV\\\\Auswertung_findatree\\\\Datasplit\\\\ROI\\\\rgb-nir\\\\2021\\\\tnr9958_rois.hdf5',\n",
       " 'D:\\\\Drohnendaten\\\\10_WZE-UAV\\\\Auswertung_findatree\\\\Datasplit\\\\ROI\\\\rgb-nir\\\\2021\\\\tnr9966_rois.hdf5',\n",
       " 'D:\\\\Drohnendaten\\\\10_WZE-UAV\\\\Auswertung_findatree\\\\Datasplit\\\\ROI\\\\rgb-nir\\\\2021\\\\tnr9973_rois.hdf5',\n",
       " 'D:\\\\Drohnendaten\\\\10_WZE-UAV\\\\Auswertung_findatree\\\\Datasplit\\\\ROI\\\\rgb-nir\\\\2021\\\\tnr9980_rois.hdf5',\n",
       " 'D:\\\\Drohnendaten\\\\10_WZE-UAV\\\\Auswertung_findatree\\\\Datasplit\\\\ROI\\\\rgb-nir\\\\2021\\\\tnr9984_rois.hdf5',\n",
       " 'D:\\\\Drohnendaten\\\\10_WZE-UAV\\\\Auswertung_findatree\\\\Datasplit\\\\ROI\\\\rgb-nir\\\\2021\\\\tnr9986_rois.hdf5',\n",
       " 'D:\\\\Drohnendaten\\\\10_WZE-UAV\\\\Auswertung_findatree\\\\Datasplit\\\\ROI\\\\rgb-nir\\\\2021\\\\tnr9988_rois.hdf5',\n",
       " 'D:\\\\Drohnendaten\\\\10_WZE-UAV\\\\Auswertung_findatree\\\\Datasplit\\\\ROI\\\\rgb-nir\\\\2021\\\\tnr9996_rois.hdf5',\n",
       " 'D:\\\\Drohnendaten\\\\10_WZE-UAV\\\\Auswertung_findatree\\\\Datasplit\\\\ROI\\\\rgb-nir\\\\2022\\\\tnr10527_rois.hdf5',\n",
       " 'D:\\\\Drohnendaten\\\\10_WZE-UAV\\\\Auswertung_findatree\\\\Datasplit\\\\ROI\\\\rgb-nir\\\\2022\\\\tnr10533_rois.hdf5',\n",
       " 'D:\\\\Drohnendaten\\\\10_WZE-UAV\\\\Auswertung_findatree\\\\Datasplit\\\\ROI\\\\rgb-nir\\\\2022\\\\tnr10545_rois.hdf5',\n",
       " 'D:\\\\Drohnendaten\\\\10_WZE-UAV\\\\Auswertung_findatree\\\\Datasplit\\\\ROI\\\\rgb-nir\\\\2022\\\\tnr10547_rois.hdf5',\n",
       " 'D:\\\\Drohnendaten\\\\10_WZE-UAV\\\\Auswertung_findatree\\\\Datasplit\\\\ROI\\\\rgb-nir\\\\2022\\\\tnr10912_rois.hdf5',\n",
       " 'D:\\\\Drohnendaten\\\\10_WZE-UAV\\\\Auswertung_findatree\\\\Datasplit\\\\ROI\\\\rgb-nir\\\\2022\\\\tnr11032_rois.hdf5',\n",
       " 'D:\\\\Drohnendaten\\\\10_WZE-UAV\\\\Auswertung_findatree\\\\Datasplit\\\\ROI\\\\rgb-nir\\\\2022\\\\tnr11040_rois.hdf5',\n",
       " 'D:\\\\Drohnendaten\\\\10_WZE-UAV\\\\Auswertung_findatree\\\\Datasplit\\\\ROI\\\\rgb-nir\\\\2022\\\\tnr11044_rois.hdf5',\n",
       " 'D:\\\\Drohnendaten\\\\10_WZE-UAV\\\\Auswertung_findatree\\\\Datasplit\\\\ROI\\\\rgb-nir\\\\2022\\\\tnr11048_rois.hdf5',\n",
       " 'D:\\\\Drohnendaten\\\\10_WZE-UAV\\\\Auswertung_findatree\\\\Datasplit\\\\ROI\\\\rgb-nir\\\\2022\\\\tnr11052_rois.hdf5',\n",
       " 'D:\\\\Drohnendaten\\\\10_WZE-UAV\\\\Auswertung_findatree\\\\Datasplit\\\\ROI\\\\rgb-nir\\\\2022\\\\tnr11056_rois.hdf5',\n",
       " 'D:\\\\Drohnendaten\\\\10_WZE-UAV\\\\Auswertung_findatree\\\\Datasplit\\\\ROI\\\\rgb-nir\\\\2022\\\\tnr11078_rois.hdf5',\n",
       " 'D:\\\\Drohnendaten\\\\10_WZE-UAV\\\\Auswertung_findatree\\\\Datasplit\\\\ROI\\\\rgb-nir\\\\2022\\\\tnr11080_rois.hdf5',\n",
       " 'D:\\\\Drohnendaten\\\\10_WZE-UAV\\\\Auswertung_findatree\\\\Datasplit\\\\ROI\\\\rgb-nir\\\\2022\\\\tnr11090_rois.hdf5',\n",
       " 'D:\\\\Drohnendaten\\\\10_WZE-UAV\\\\Auswertung_findatree\\\\Datasplit\\\\ROI\\\\rgb-nir\\\\2022\\\\tnr11092_rois.hdf5',\n",
       " 'D:\\\\Drohnendaten\\\\10_WZE-UAV\\\\Auswertung_findatree\\\\Datasplit\\\\ROI\\\\rgb-nir\\\\2022\\\\tnr11179_rois.hdf5',\n",
       " 'D:\\\\Drohnendaten\\\\10_WZE-UAV\\\\Auswertung_findatree\\\\Datasplit\\\\ROI\\\\rgb-nir\\\\2022\\\\tnr11189_rois.hdf5',\n",
       " 'D:\\\\Drohnendaten\\\\10_WZE-UAV\\\\Auswertung_findatree\\\\Datasplit\\\\ROI\\\\rgb-nir\\\\2022\\\\tnr11325_rois.hdf5',\n",
       " 'D:\\\\Drohnendaten\\\\10_WZE-UAV\\\\Auswertung_findatree\\\\Datasplit\\\\ROI\\\\rgb-nir\\\\2022\\\\tnr11453_rois.hdf5',\n",
       " 'D:\\\\Drohnendaten\\\\10_WZE-UAV\\\\Auswertung_findatree\\\\Datasplit\\\\ROI\\\\rgb-nir\\\\2022\\\\tnr11459_rois.hdf5',\n",
       " 'D:\\\\Drohnendaten\\\\10_WZE-UAV\\\\Auswertung_findatree\\\\Datasplit\\\\ROI\\\\rgb-nir\\\\2022\\\\tnr11576_rois.hdf5',\n",
       " 'D:\\\\Drohnendaten\\\\10_WZE-UAV\\\\Auswertung_findatree\\\\Datasplit\\\\ROI\\\\rgb-nir\\\\2022\\\\tnr11581_rois.hdf5',\n",
       " 'D:\\\\Drohnendaten\\\\10_WZE-UAV\\\\Auswertung_findatree\\\\Datasplit\\\\ROI\\\\rgb-nir\\\\2022\\\\tnr11597_rois.hdf5',\n",
       " 'D:\\\\Drohnendaten\\\\10_WZE-UAV\\\\Auswertung_findatree\\\\Datasplit\\\\ROI\\\\rgb-nir\\\\2022\\\\tnr11601_rois.hdf5',\n",
       " 'D:\\\\Drohnendaten\\\\10_WZE-UAV\\\\Auswertung_findatree\\\\Datasplit\\\\ROI\\\\rgb-nir\\\\2022\\\\tnr11622_rois.hdf5',\n",
       " 'D:\\\\Drohnendaten\\\\10_WZE-UAV\\\\Auswertung_findatree\\\\Datasplit\\\\ROI\\\\rgb-nir\\\\2022\\\\tnr11626_rois.hdf5',\n",
       " 'D:\\\\Drohnendaten\\\\10_WZE-UAV\\\\Auswertung_findatree\\\\Datasplit\\\\ROI\\\\rgb-nir\\\\2022\\\\tnr11638_rois.hdf5',\n",
       " 'D:\\\\Drohnendaten\\\\10_WZE-UAV\\\\Auswertung_findatree\\\\Datasplit\\\\ROI\\\\rgb-nir\\\\2022\\\\tnr11640_rois.hdf5',\n",
       " 'D:\\\\Drohnendaten\\\\10_WZE-UAV\\\\Auswertung_findatree\\\\Datasplit\\\\ROI\\\\rgb-nir\\\\2022\\\\tnr11727_rois.hdf5',\n",
       " 'D:\\\\Drohnendaten\\\\10_WZE-UAV\\\\Auswertung_findatree\\\\Datasplit\\\\ROI\\\\rgb-nir\\\\2022\\\\tnr11733_rois.hdf5',\n",
       " 'D:\\\\Drohnendaten\\\\10_WZE-UAV\\\\Auswertung_findatree\\\\Datasplit\\\\ROI\\\\rgb-nir\\\\2022\\\\tnr11866_rois.hdf5',\n",
       " 'D:\\\\Drohnendaten\\\\10_WZE-UAV\\\\Auswertung_findatree\\\\Datasplit\\\\ROI\\\\rgb-nir\\\\2022\\\\tnr11874_rois.hdf5',\n",
       " 'D:\\\\Drohnendaten\\\\10_WZE-UAV\\\\Auswertung_findatree\\\\Datasplit\\\\ROI\\\\rgb-nir\\\\2022\\\\tnr11878_rois.hdf5',\n",
       " 'D:\\\\Drohnendaten\\\\10_WZE-UAV\\\\Auswertung_findatree\\\\Datasplit\\\\ROI\\\\rgb-nir\\\\2022\\\\tnr12013_rois.hdf5',\n",
       " 'D:\\\\Drohnendaten\\\\10_WZE-UAV\\\\Auswertung_findatree\\\\Datasplit\\\\ROI\\\\rgb-nir\\\\2022\\\\tnr12019_rois.hdf5',\n",
       " 'D:\\\\Drohnendaten\\\\10_WZE-UAV\\\\Auswertung_findatree\\\\Datasplit\\\\ROI\\\\rgb-nir\\\\2022\\\\tnr12120_rois.hdf5',\n",
       " 'D:\\\\Drohnendaten\\\\10_WZE-UAV\\\\Auswertung_findatree\\\\Datasplit\\\\ROI\\\\rgb-nir\\\\2022\\\\tnr12124_rois.hdf5',\n",
       " 'D:\\\\Drohnendaten\\\\10_WZE-UAV\\\\Auswertung_findatree\\\\Datasplit\\\\ROI\\\\rgb-nir\\\\2022\\\\tnr12153_rois.hdf5',\n",
       " 'D:\\\\Drohnendaten\\\\10_WZE-UAV\\\\Auswertung_findatree\\\\Datasplit\\\\ROI\\\\rgb-nir\\\\2022\\\\tnr12161_rois.hdf5',\n",
       " 'D:\\\\Drohnendaten\\\\10_WZE-UAV\\\\Auswertung_findatree\\\\Datasplit\\\\ROI\\\\rgb-nir\\\\2022\\\\tnr12169_rois.hdf5',\n",
       " 'D:\\\\Drohnendaten\\\\10_WZE-UAV\\\\Auswertung_findatree\\\\Datasplit\\\\ROI\\\\rgb-nir\\\\2022\\\\tnr12179_rois.hdf5',\n",
       " 'D:\\\\Drohnendaten\\\\10_WZE-UAV\\\\Auswertung_findatree\\\\Datasplit\\\\ROI\\\\rgb-nir\\\\2022\\\\tnr12285_rois.hdf5',\n",
       " 'D:\\\\Drohnendaten\\\\10_WZE-UAV\\\\Auswertung_findatree\\\\Datasplit\\\\ROI\\\\rgb-nir\\\\2022\\\\tnr12426_rois.hdf5',\n",
       " 'D:\\\\Drohnendaten\\\\10_WZE-UAV\\\\Auswertung_findatree\\\\Datasplit\\\\ROI\\\\rgb-nir\\\\2022\\\\tnr12549_rois.hdf5',\n",
       " 'D:\\\\Drohnendaten\\\\10_WZE-UAV\\\\Auswertung_findatree\\\\Datasplit\\\\ROI\\\\rgb-nir\\\\2022\\\\tnr12553_rois.hdf5',\n",
       " 'D:\\\\Drohnendaten\\\\10_WZE-UAV\\\\Auswertung_findatree\\\\Datasplit\\\\ROI\\\\rgb-nir\\\\2022\\\\tnr12694_rois.hdf5',\n",
       " 'D:\\\\Drohnendaten\\\\10_WZE-UAV\\\\Auswertung_findatree\\\\Datasplit\\\\ROI\\\\rgb-nir\\\\2022\\\\tnr12702_rois.hdf5',\n",
       " 'D:\\\\Drohnendaten\\\\10_WZE-UAV\\\\Auswertung_findatree\\\\Datasplit\\\\ROI\\\\rgb-nir\\\\2022\\\\tnr12715_rois.hdf5',\n",
       " 'D:\\\\Drohnendaten\\\\10_WZE-UAV\\\\Auswertung_findatree\\\\Datasplit\\\\ROI\\\\rgb-nir\\\\2022\\\\tnr12717_rois.hdf5',\n",
       " 'D:\\\\Drohnendaten\\\\10_WZE-UAV\\\\Auswertung_findatree\\\\Datasplit\\\\ROI\\\\rgb-nir\\\\2022\\\\tnr12719_rois.hdf5',\n",
       " 'D:\\\\Drohnendaten\\\\10_WZE-UAV\\\\Auswertung_findatree\\\\Datasplit\\\\ROI\\\\rgb-nir\\\\2022\\\\tnr12950_rois.hdf5',\n",
       " 'D:\\\\Drohnendaten\\\\10_WZE-UAV\\\\Auswertung_findatree\\\\Datasplit\\\\ROI\\\\rgb-nir\\\\2022\\\\tnr12960_rois.hdf5',\n",
       " 'D:\\\\Drohnendaten\\\\10_WZE-UAV\\\\Auswertung_findatree\\\\Datasplit\\\\ROI\\\\rgb-nir\\\\2022\\\\tnr13212_rois.hdf5',\n",
       " 'D:\\\\Drohnendaten\\\\10_WZE-UAV\\\\Auswertung_findatree\\\\Datasplit\\\\ROI\\\\rgb-nir\\\\2022\\\\tnr13233_rois.hdf5',\n",
       " 'D:\\\\Drohnendaten\\\\10_WZE-UAV\\\\Auswertung_findatree\\\\Datasplit\\\\ROI\\\\rgb-nir\\\\2022\\\\tnr13259_rois.hdf5',\n",
       " 'D:\\\\Drohnendaten\\\\10_WZE-UAV\\\\Auswertung_findatree\\\\Datasplit\\\\ROI\\\\rgb-nir\\\\2022\\\\tnr13508_rois.hdf5',\n",
       " 'D:\\\\Drohnendaten\\\\10_WZE-UAV\\\\Auswertung_findatree\\\\Datasplit\\\\ROI\\\\rgb-nir\\\\2022\\\\tnr13758_rois.hdf5',\n",
       " 'D:\\\\Drohnendaten\\\\10_WZE-UAV\\\\Auswertung_findatree\\\\Datasplit\\\\ROI\\\\rgb-nir\\\\2022\\\\tnr13766_rois.hdf5',\n",
       " 'D:\\\\Drohnendaten\\\\10_WZE-UAV\\\\Auswertung_findatree\\\\Datasplit\\\\ROI\\\\rgb-nir\\\\2022\\\\tnr13779_rois.hdf5',\n",
       " 'D:\\\\Drohnendaten\\\\10_WZE-UAV\\\\Auswertung_findatree\\\\Datasplit\\\\ROI\\\\rgb-nir\\\\2022\\\\tnr13819_rois.hdf5',\n",
       " 'D:\\\\Drohnendaten\\\\10_WZE-UAV\\\\Auswertung_findatree\\\\Datasplit\\\\ROI\\\\rgb-nir\\\\2022\\\\tnr13825_rois.hdf5',\n",
       " 'D:\\\\Drohnendaten\\\\10_WZE-UAV\\\\Auswertung_findatree\\\\Datasplit\\\\ROI\\\\rgb-nir\\\\2022\\\\tnr13898_rois.hdf5',\n",
       " 'D:\\\\Drohnendaten\\\\10_WZE-UAV\\\\Auswertung_findatree\\\\Datasplit\\\\ROI\\\\rgb-nir\\\\2022\\\\tnr13922_rois.hdf5',\n",
       " 'D:\\\\Drohnendaten\\\\10_WZE-UAV\\\\Auswertung_findatree\\\\Datasplit\\\\ROI\\\\rgb-nir\\\\2022\\\\tnr14156_rois.hdf5',\n",
       " 'D:\\\\Drohnendaten\\\\10_WZE-UAV\\\\Auswertung_findatree\\\\Datasplit\\\\ROI\\\\rgb-nir\\\\2022\\\\tnr14293_rois.hdf5',\n",
       " 'D:\\\\Drohnendaten\\\\10_WZE-UAV\\\\Auswertung_findatree\\\\Datasplit\\\\ROI\\\\rgb-nir\\\\2022\\\\tnr14327_rois.hdf5',\n",
       " 'D:\\\\Drohnendaten\\\\10_WZE-UAV\\\\Auswertung_findatree\\\\Datasplit\\\\ROI\\\\rgb-nir\\\\2022\\\\tnr14666_rois.hdf5',\n",
       " 'D:\\\\Drohnendaten\\\\10_WZE-UAV\\\\Auswertung_findatree\\\\Datasplit\\\\ROI\\\\rgb-nir\\\\2022\\\\tnr14723_rois.hdf5',\n",
       " 'D:\\\\Drohnendaten\\\\10_WZE-UAV\\\\Auswertung_findatree\\\\Datasplit\\\\ROI\\\\rgb-nir\\\\2022\\\\tnr14727_rois.hdf5',\n",
       " 'D:\\\\Drohnendaten\\\\10_WZE-UAV\\\\Auswertung_findatree\\\\Datasplit\\\\ROI\\\\rgb-nir\\\\2022\\\\tnr14732_rois.hdf5',\n",
       " 'D:\\\\Drohnendaten\\\\10_WZE-UAV\\\\Auswertung_findatree\\\\Datasplit\\\\ROI\\\\rgb-nir\\\\2022\\\\tnr14781_rois.hdf5',\n",
       " 'D:\\\\Drohnendaten\\\\10_WZE-UAV\\\\Auswertung_findatree\\\\Datasplit\\\\ROI\\\\rgb-nir\\\\2022\\\\tnr14877_rois.hdf5',\n",
       " 'D:\\\\Drohnendaten\\\\10_WZE-UAV\\\\Auswertung_findatree\\\\Datasplit\\\\ROI\\\\rgb-nir\\\\2022\\\\tnr14879_rois.hdf5',\n",
       " 'D:\\\\Drohnendaten\\\\10_WZE-UAV\\\\Auswertung_findatree\\\\Datasplit\\\\ROI\\\\rgb-nir\\\\2022\\\\tnr14887_rois.hdf5',\n",
       " 'D:\\\\Drohnendaten\\\\10_WZE-UAV\\\\Auswertung_findatree\\\\Datasplit\\\\ROI\\\\rgb-nir\\\\2022\\\\tnr15020_rois.hdf5',\n",
       " 'D:\\\\Drohnendaten\\\\10_WZE-UAV\\\\Auswertung_findatree\\\\Datasplit\\\\ROI\\\\rgb-nir\\\\2022\\\\tnr15027_rois.hdf5',\n",
       " 'D:\\\\Drohnendaten\\\\10_WZE-UAV\\\\Auswertung_findatree\\\\Datasplit\\\\ROI\\\\rgb-nir\\\\2022\\\\tnr15031_rois.hdf5',\n",
       " 'D:\\\\Drohnendaten\\\\10_WZE-UAV\\\\Auswertung_findatree\\\\Datasplit\\\\ROI\\\\rgb-nir\\\\2022\\\\tnr15035_rois.hdf5',\n",
       " 'D:\\\\Drohnendaten\\\\10_WZE-UAV\\\\Auswertung_findatree\\\\Datasplit\\\\ROI\\\\rgb-nir\\\\2022\\\\tnr15039_rois.hdf5',\n",
       " 'D:\\\\Drohnendaten\\\\10_WZE-UAV\\\\Auswertung_findatree\\\\Datasplit\\\\ROI\\\\rgb-nir\\\\2022\\\\tnr15043_rois.hdf5',\n",
       " 'D:\\\\Drohnendaten\\\\10_WZE-UAV\\\\Auswertung_findatree\\\\Datasplit\\\\ROI\\\\rgb-nir\\\\2022\\\\tnr15046_rois.hdf5',\n",
       " 'D:\\\\Drohnendaten\\\\10_WZE-UAV\\\\Auswertung_findatree\\\\Datasplit\\\\ROI\\\\rgb-nir\\\\2022\\\\tnr15050_rois.hdf5',\n",
       " 'D:\\\\Drohnendaten\\\\10_WZE-UAV\\\\Auswertung_findatree\\\\Datasplit\\\\ROI\\\\rgb-nir\\\\2022\\\\tnr15101_rois.hdf5',\n",
       " 'D:\\\\Drohnendaten\\\\10_WZE-UAV\\\\Auswertung_findatree\\\\Datasplit\\\\ROI\\\\rgb-nir\\\\2022\\\\tnr15273_rois.hdf5',\n",
       " 'D:\\\\Drohnendaten\\\\10_WZE-UAV\\\\Auswertung_findatree\\\\Datasplit\\\\ROI\\\\rgb-nir\\\\2022\\\\tnr15277_rois.hdf5',\n",
       " 'D:\\\\Drohnendaten\\\\10_WZE-UAV\\\\Auswertung_findatree\\\\Datasplit\\\\ROI\\\\rgb-nir\\\\2022\\\\tnr15297_rois.hdf5',\n",
       " 'D:\\\\Drohnendaten\\\\10_WZE-UAV\\\\Auswertung_findatree\\\\Datasplit\\\\ROI\\\\rgb-nir\\\\2022\\\\tnr15299_rois.hdf5',\n",
       " 'D:\\\\Drohnendaten\\\\10_WZE-UAV\\\\Auswertung_findatree\\\\Datasplit\\\\ROI\\\\rgb-nir\\\\2022\\\\tnr15301_rois.hdf5',\n",
       " 'D:\\\\Drohnendaten\\\\10_WZE-UAV\\\\Auswertung_findatree\\\\Datasplit\\\\ROI\\\\rgb-nir\\\\2022\\\\tnr15303_rois.hdf5',\n",
       " 'D:\\\\Drohnendaten\\\\10_WZE-UAV\\\\Auswertung_findatree\\\\Datasplit\\\\ROI\\\\rgb-nir\\\\2022\\\\tnr15306_rois.hdf5',\n",
       " 'D:\\\\Drohnendaten\\\\10_WZE-UAV\\\\Auswertung_findatree\\\\Datasplit\\\\ROI\\\\rgb-nir\\\\2022\\\\tnr15311_rois.hdf5',\n",
       " 'D:\\\\Drohnendaten\\\\10_WZE-UAV\\\\Auswertung_findatree\\\\Datasplit\\\\ROI\\\\rgb-nir\\\\2022\\\\tnr15313_rois.hdf5',\n",
       " 'D:\\\\Drohnendaten\\\\10_WZE-UAV\\\\Auswertung_findatree\\\\Datasplit\\\\ROI\\\\rgb-nir\\\\2022\\\\tnr15319_rois.hdf5',\n",
       " 'D:\\\\Drohnendaten\\\\10_WZE-UAV\\\\Auswertung_findatree\\\\Datasplit\\\\ROI\\\\rgb-nir\\\\2022\\\\tnr15327_rois.hdf5',\n",
       " 'D:\\\\Drohnendaten\\\\10_WZE-UAV\\\\Auswertung_findatree\\\\Datasplit\\\\ROI\\\\rgb-nir\\\\2022\\\\tnr15519_rois.hdf5',\n",
       " 'D:\\\\Drohnendaten\\\\10_WZE-UAV\\\\Auswertung_findatree\\\\Datasplit\\\\ROI\\\\rgb-nir\\\\2022\\\\tnr15521_rois.hdf5',\n",
       " 'D:\\\\Drohnendaten\\\\10_WZE-UAV\\\\Auswertung_findatree\\\\Datasplit\\\\ROI\\\\rgb-nir\\\\2022\\\\tnr15531_rois.hdf5',\n",
       " 'D:\\\\Drohnendaten\\\\10_WZE-UAV\\\\Auswertung_findatree\\\\Datasplit\\\\ROI\\\\rgb-nir\\\\2022\\\\tnr15537_rois.hdf5',\n",
       " 'D:\\\\Drohnendaten\\\\10_WZE-UAV\\\\Auswertung_findatree\\\\Datasplit\\\\ROI\\\\rgb-nir\\\\2022\\\\tnr15730_rois.hdf5',\n",
       " 'D:\\\\Drohnendaten\\\\10_WZE-UAV\\\\Auswertung_findatree\\\\Datasplit\\\\ROI\\\\rgb-nir\\\\2022\\\\tnr15736_rois.hdf5',\n",
       " 'D:\\\\Drohnendaten\\\\10_WZE-UAV\\\\Auswertung_findatree\\\\Datasplit\\\\ROI\\\\rgb-nir\\\\2022\\\\tnr15746_rois.hdf5',\n",
       " 'D:\\\\Drohnendaten\\\\10_WZE-UAV\\\\Auswertung_findatree\\\\Datasplit\\\\ROI\\\\rgb-nir\\\\2022\\\\tnr15748_rois.hdf5',\n",
       " 'D:\\\\Drohnendaten\\\\10_WZE-UAV\\\\Auswertung_findatree\\\\Datasplit\\\\ROI\\\\rgb-nir\\\\2022\\\\tnr15780_rois.hdf5',\n",
       " 'D:\\\\Drohnendaten\\\\10_WZE-UAV\\\\Auswertung_findatree\\\\Datasplit\\\\ROI\\\\rgb-nir\\\\2022\\\\tnr15966_rois.hdf5',\n",
       " 'D:\\\\Drohnendaten\\\\10_WZE-UAV\\\\Auswertung_findatree\\\\Datasplit\\\\ROI\\\\rgb-nir\\\\2022\\\\tnr15974_rois.hdf5',\n",
       " 'D:\\\\Drohnendaten\\\\10_WZE-UAV\\\\Auswertung_findatree\\\\Datasplit\\\\ROI\\\\rgb-nir\\\\2022\\\\tnr15986_rois.hdf5',\n",
       " 'D:\\\\Drohnendaten\\\\10_WZE-UAV\\\\Auswertung_findatree\\\\Datasplit\\\\ROI\\\\rgb-nir\\\\2022\\\\tnr15988_rois.hdf5',\n",
       " 'D:\\\\Drohnendaten\\\\10_WZE-UAV\\\\Auswertung_findatree\\\\Datasplit\\\\ROI\\\\rgb-nir\\\\2022\\\\tnr15998_rois.hdf5',\n",
       " 'D:\\\\Drohnendaten\\\\10_WZE-UAV\\\\Auswertung_findatree\\\\Datasplit\\\\ROI\\\\rgb-nir\\\\2022\\\\tnr16173_rois.hdf5',\n",
       " 'D:\\\\Drohnendaten\\\\10_WZE-UAV\\\\Auswertung_findatree\\\\Datasplit\\\\ROI\\\\rgb-nir\\\\2022\\\\tnr16181_rois.hdf5',\n",
       " 'D:\\\\Drohnendaten\\\\10_WZE-UAV\\\\Auswertung_findatree\\\\Datasplit\\\\ROI\\\\rgb-nir\\\\2022\\\\tnr16193_rois.hdf5',\n",
       " 'D:\\\\Drohnendaten\\\\10_WZE-UAV\\\\Auswertung_findatree\\\\Datasplit\\\\ROI\\\\rgb-nir\\\\2022\\\\tnr16197_rois.hdf5',\n",
       " 'D:\\\\Drohnendaten\\\\10_WZE-UAV\\\\Auswertung_findatree\\\\Datasplit\\\\ROI\\\\rgb-nir\\\\2022\\\\tnr16205_rois.hdf5',\n",
       " 'D:\\\\Drohnendaten\\\\10_WZE-UAV\\\\Auswertung_findatree\\\\Datasplit\\\\ROI\\\\rgb-nir\\\\2022\\\\tnr16211_rois.hdf5',\n",
       " 'D:\\\\Drohnendaten\\\\10_WZE-UAV\\\\Auswertung_findatree\\\\Datasplit\\\\ROI\\\\rgb-nir\\\\2022\\\\tnr16223_rois.hdf5',\n",
       " 'D:\\\\Drohnendaten\\\\10_WZE-UAV\\\\Auswertung_findatree\\\\Datasplit\\\\ROI\\\\rgb-nir\\\\2022\\\\tnr16227_rois.hdf5',\n",
       " 'D:\\\\Drohnendaten\\\\10_WZE-UAV\\\\Auswertung_findatree\\\\Datasplit\\\\ROI\\\\rgb-nir\\\\2022\\\\tnr16400_rois.hdf5',\n",
       " 'D:\\\\Drohnendaten\\\\10_WZE-UAV\\\\Auswertung_findatree\\\\Datasplit\\\\ROI\\\\rgb-nir\\\\2022\\\\tnr16404_rois.hdf5',\n",
       " 'D:\\\\Drohnendaten\\\\10_WZE-UAV\\\\Auswertung_findatree\\\\Datasplit\\\\ROI\\\\rgb-nir\\\\2022\\\\tnr16412_rois.hdf5',\n",
       " 'D:\\\\Drohnendaten\\\\10_WZE-UAV\\\\Auswertung_findatree\\\\Datasplit\\\\ROI\\\\rgb-nir\\\\2022\\\\tnr16422_rois.hdf5',\n",
       " 'D:\\\\Drohnendaten\\\\10_WZE-UAV\\\\Auswertung_findatree\\\\Datasplit\\\\ROI\\\\rgb-nir\\\\2022\\\\tnr16426_rois.hdf5',\n",
       " 'D:\\\\Drohnendaten\\\\10_WZE-UAV\\\\Auswertung_findatree\\\\Datasplit\\\\ROI\\\\rgb-nir\\\\2022\\\\tnr16620_rois.hdf5',\n",
       " 'D:\\\\Drohnendaten\\\\10_WZE-UAV\\\\Auswertung_findatree\\\\Datasplit\\\\ROI\\\\rgb-nir\\\\2022\\\\tnr16624_rois.hdf5',\n",
       " 'D:\\\\Drohnendaten\\\\10_WZE-UAV\\\\Auswertung_findatree\\\\Datasplit\\\\ROI\\\\rgb-nir\\\\2022\\\\tnr16632_rois.hdf5',\n",
       " 'D:\\\\Drohnendaten\\\\10_WZE-UAV\\\\Auswertung_findatree\\\\Datasplit\\\\ROI\\\\rgb-nir\\\\2022\\\\tnr16636_rois.hdf5',\n",
       " 'D:\\\\Drohnendaten\\\\10_WZE-UAV\\\\Auswertung_findatree\\\\Datasplit\\\\ROI\\\\rgb-nir\\\\2022\\\\tnr16639_rois.hdf5',\n",
       " 'D:\\\\Drohnendaten\\\\10_WZE-UAV\\\\Auswertung_findatree\\\\Datasplit\\\\ROI\\\\rgb-nir\\\\2022\\\\tnr16643_rois.hdf5',\n",
       " 'D:\\\\Drohnendaten\\\\10_WZE-UAV\\\\Auswertung_findatree\\\\Datasplit\\\\ROI\\\\rgb-nir\\\\2022\\\\tnr16645_rois.hdf5',\n",
       " 'D:\\\\Drohnendaten\\\\10_WZE-UAV\\\\Auswertung_findatree\\\\Datasplit\\\\ROI\\\\rgb-nir\\\\2022\\\\tnr16649_rois.hdf5',\n",
       " 'D:\\\\Drohnendaten\\\\10_WZE-UAV\\\\Auswertung_findatree\\\\Datasplit\\\\ROI\\\\rgb-nir\\\\2022\\\\tnr16657_rois.hdf5',\n",
       " 'D:\\\\Drohnendaten\\\\10_WZE-UAV\\\\Auswertung_findatree\\\\Datasplit\\\\ROI\\\\rgb-nir\\\\2022\\\\tnr16829_rois.hdf5',\n",
       " 'D:\\\\Drohnendaten\\\\10_WZE-UAV\\\\Auswertung_findatree\\\\Datasplit\\\\ROI\\\\rgb-nir\\\\2022\\\\tnr16833_rois.hdf5',\n",
       " 'D:\\\\Drohnendaten\\\\10_WZE-UAV\\\\Auswertung_findatree\\\\Datasplit\\\\ROI\\\\rgb-nir\\\\2022\\\\tnr16838_rois.hdf5',\n",
       " 'D:\\\\Drohnendaten\\\\10_WZE-UAV\\\\Auswertung_findatree\\\\Datasplit\\\\ROI\\\\rgb-nir\\\\2022\\\\tnr17019_rois.hdf5',\n",
       " 'D:\\\\Drohnendaten\\\\10_WZE-UAV\\\\Auswertung_findatree\\\\Datasplit\\\\ROI\\\\rgb-nir\\\\2022\\\\tnr17032_rois.hdf5',\n",
       " 'D:\\\\Drohnendaten\\\\10_WZE-UAV\\\\Auswertung_findatree\\\\Datasplit\\\\ROI\\\\rgb-nir\\\\2022\\\\tnr17034_rois.hdf5',\n",
       " 'D:\\\\Drohnendaten\\\\10_WZE-UAV\\\\Auswertung_findatree\\\\Datasplit\\\\ROI\\\\rgb-nir\\\\2022\\\\tnr17042_rois.hdf5',\n",
       " 'D:\\\\Drohnendaten\\\\10_WZE-UAV\\\\Auswertung_findatree\\\\Datasplit\\\\ROI\\\\rgb-nir\\\\2022\\\\tnr17339_rois.hdf5',\n",
       " 'D:\\\\Drohnendaten\\\\10_WZE-UAV\\\\Auswertung_findatree\\\\Datasplit\\\\ROI\\\\rgb-nir\\\\2022\\\\tnr1898_rois.hdf5',\n",
       " 'D:\\\\Drohnendaten\\\\10_WZE-UAV\\\\Auswertung_findatree\\\\Datasplit\\\\ROI\\\\rgb-nir\\\\2022\\\\tnr2386_rois.hdf5',\n",
       " 'D:\\\\Drohnendaten\\\\10_WZE-UAV\\\\Auswertung_findatree\\\\Datasplit\\\\ROI\\\\rgb-nir\\\\2022\\\\tnr2399_rois.hdf5',\n",
       " 'D:\\\\Drohnendaten\\\\10_WZE-UAV\\\\Auswertung_findatree\\\\Datasplit\\\\ROI\\\\rgb-nir\\\\2022\\\\tnr2411_rois.hdf5',\n",
       " 'D:\\\\Drohnendaten\\\\10_WZE-UAV\\\\Auswertung_findatree\\\\Datasplit\\\\ROI\\\\rgb-nir\\\\2022\\\\tnr2413_rois.hdf5',\n",
       " 'D:\\\\Drohnendaten\\\\10_WZE-UAV\\\\Auswertung_findatree\\\\Datasplit\\\\ROI\\\\rgb-nir\\\\2022\\\\tnr3398_rois.hdf5',\n",
       " 'D:\\\\Drohnendaten\\\\10_WZE-UAV\\\\Auswertung_findatree\\\\Datasplit\\\\ROI\\\\rgb-nir\\\\2022\\\\tnr3418_rois.hdf5',\n",
       " 'D:\\\\Drohnendaten\\\\10_WZE-UAV\\\\Auswertung_findatree\\\\Datasplit\\\\ROI\\\\rgb-nir\\\\2022\\\\tnr3430_rois.hdf5',\n",
       " 'D:\\\\Drohnendaten\\\\10_WZE-UAV\\\\Auswertung_findatree\\\\Datasplit\\\\ROI\\\\rgb-nir\\\\2022\\\\tnr3930_rois.hdf5',\n",
       " 'D:\\\\Drohnendaten\\\\10_WZE-UAV\\\\Auswertung_findatree\\\\Datasplit\\\\ROI\\\\rgb-nir\\\\2022\\\\tnr4412_rois.hdf5',\n",
       " 'D:\\\\Drohnendaten\\\\10_WZE-UAV\\\\Auswertung_findatree\\\\Datasplit\\\\ROI\\\\rgb-nir\\\\2022\\\\tnr4436_rois.hdf5',\n",
       " 'D:\\\\Drohnendaten\\\\10_WZE-UAV\\\\Auswertung_findatree\\\\Datasplit\\\\ROI\\\\rgb-nir\\\\2022\\\\tnr4444_rois.hdf5',\n",
       " 'D:\\\\Drohnendaten\\\\10_WZE-UAV\\\\Auswertung_findatree\\\\Datasplit\\\\ROI\\\\rgb-nir\\\\2022\\\\tnr5449_rois.hdf5',\n",
       " 'D:\\\\Drohnendaten\\\\10_WZE-UAV\\\\Auswertung_findatree\\\\Datasplit\\\\ROI\\\\rgb-nir\\\\2022\\\\tnr5930_rois.hdf5',\n",
       " 'D:\\\\Drohnendaten\\\\10_WZE-UAV\\\\Auswertung_findatree\\\\Datasplit\\\\ROI\\\\rgb-nir\\\\2022\\\\tnr5946_rois.hdf5',\n",
       " 'D:\\\\Drohnendaten\\\\10_WZE-UAV\\\\Auswertung_findatree\\\\Datasplit\\\\ROI\\\\rgb-nir\\\\2022\\\\tnr6430_rois.hdf5',\n",
       " 'D:\\\\Drohnendaten\\\\10_WZE-UAV\\\\Auswertung_findatree\\\\Datasplit\\\\ROI\\\\rgb-nir\\\\2022\\\\tnr6462_rois.hdf5',\n",
       " 'D:\\\\Drohnendaten\\\\10_WZE-UAV\\\\Auswertung_findatree\\\\Datasplit\\\\ROI\\\\rgb-nir\\\\2022\\\\tnr6466_rois.hdf5',\n",
       " 'D:\\\\Drohnendaten\\\\10_WZE-UAV\\\\Auswertung_findatree\\\\Datasplit\\\\ROI\\\\rgb-nir\\\\2022\\\\tnr6468_rois.hdf5',\n",
       " 'D:\\\\Drohnendaten\\\\10_WZE-UAV\\\\Auswertung_findatree\\\\Datasplit\\\\ROI\\\\rgb-nir\\\\2022\\\\tnr6470_rois.hdf5',\n",
       " 'D:\\\\Drohnendaten\\\\10_WZE-UAV\\\\Auswertung_findatree\\\\Datasplit\\\\ROI\\\\rgb-nir\\\\2022\\\\tnr6474_rois.hdf5',\n",
       " 'D:\\\\Drohnendaten\\\\10_WZE-UAV\\\\Auswertung_findatree\\\\Datasplit\\\\ROI\\\\rgb-nir\\\\2022\\\\tnr6478_rois.hdf5',\n",
       " 'D:\\\\Drohnendaten\\\\10_WZE-UAV\\\\Auswertung_findatree\\\\Datasplit\\\\ROI\\\\rgb-nir\\\\2022\\\\tnr6969_rois.hdf5',\n",
       " 'D:\\\\Drohnendaten\\\\10_WZE-UAV\\\\Auswertung_findatree\\\\Datasplit\\\\ROI\\\\rgb-nir\\\\2022\\\\tnr6971_rois.hdf5',\n",
       " 'D:\\\\Drohnendaten\\\\10_WZE-UAV\\\\Auswertung_findatree\\\\Datasplit\\\\ROI\\\\rgb-nir\\\\2022\\\\tnr6977_rois.hdf5',\n",
       " 'D:\\\\Drohnendaten\\\\10_WZE-UAV\\\\Auswertung_findatree\\\\Datasplit\\\\ROI\\\\rgb-nir\\\\2022\\\\tnr7002_rois.hdf5',\n",
       " 'D:\\\\Drohnendaten\\\\10_WZE-UAV\\\\Auswertung_findatree\\\\Datasplit\\\\ROI\\\\rgb-nir\\\\2022\\\\tnr7475_rois.hdf5',\n",
       " 'D:\\\\Drohnendaten\\\\10_WZE-UAV\\\\Auswertung_findatree\\\\Datasplit\\\\ROI\\\\rgb-nir\\\\2022\\\\tnr7511_rois.hdf5',\n",
       " 'D:\\\\Drohnendaten\\\\10_WZE-UAV\\\\Auswertung_findatree\\\\Datasplit\\\\ROI\\\\rgb-nir\\\\2022\\\\tnr7517_rois.hdf5',\n",
       " 'D:\\\\Drohnendaten\\\\10_WZE-UAV\\\\Auswertung_findatree\\\\Datasplit\\\\ROI\\\\rgb-nir\\\\2022\\\\tnr7521_rois.hdf5',\n",
       " 'D:\\\\Drohnendaten\\\\10_WZE-UAV\\\\Auswertung_findatree\\\\Datasplit\\\\ROI\\\\rgb-nir\\\\2022\\\\tnr7525_rois.hdf5',\n",
       " 'D:\\\\Drohnendaten\\\\10_WZE-UAV\\\\Auswertung_findatree\\\\Datasplit\\\\ROI\\\\rgb-nir\\\\2022\\\\tnr8040_rois.hdf5',\n",
       " 'D:\\\\Drohnendaten\\\\10_WZE-UAV\\\\Auswertung_findatree\\\\Datasplit\\\\ROI\\\\rgb-nir\\\\2022\\\\tnr8492_rois.hdf5',\n",
       " 'D:\\\\Drohnendaten\\\\10_WZE-UAV\\\\Auswertung_findatree\\\\Datasplit\\\\ROI\\\\rgb-nir\\\\2022\\\\tnr8494_rois.hdf5',\n",
       " 'D:\\\\Drohnendaten\\\\10_WZE-UAV\\\\Auswertung_findatree\\\\Datasplit\\\\ROI\\\\rgb-nir\\\\2022\\\\tnr8498_rois.hdf5',\n",
       " 'D:\\\\Drohnendaten\\\\10_WZE-UAV\\\\Auswertung_findatree\\\\Datasplit\\\\ROI\\\\rgb-nir\\\\2022\\\\tnr8532_rois.hdf5',\n",
       " 'D:\\\\Drohnendaten\\\\10_WZE-UAV\\\\Auswertung_findatree\\\\Datasplit\\\\ROI\\\\rgb-nir\\\\2022\\\\tnr8973_rois.hdf5',\n",
       " 'D:\\\\Drohnendaten\\\\10_WZE-UAV\\\\Auswertung_findatree\\\\Datasplit\\\\ROI\\\\rgb-nir\\\\2022\\\\tnr8979_rois.hdf5',\n",
       " 'D:\\\\Drohnendaten\\\\10_WZE-UAV\\\\Auswertung_findatree\\\\Datasplit\\\\ROI\\\\rgb-nir\\\\2022\\\\tnr8981_rois.hdf5',\n",
       " 'D:\\\\Drohnendaten\\\\10_WZE-UAV\\\\Auswertung_findatree\\\\Datasplit\\\\ROI\\\\rgb-nir\\\\2022\\\\tnr8989_rois.hdf5',\n",
       " 'D:\\\\Drohnendaten\\\\10_WZE-UAV\\\\Auswertung_findatree\\\\Datasplit\\\\ROI\\\\rgb-nir\\\\2022\\\\tnr9025_rois.hdf5',\n",
       " 'D:\\\\Drohnendaten\\\\10_WZE-UAV\\\\Auswertung_findatree\\\\Datasplit\\\\ROI\\\\rgb-nir\\\\2022\\\\tnr9464_rois.hdf5',\n",
       " 'D:\\\\Drohnendaten\\\\10_WZE-UAV\\\\Auswertung_findatree\\\\Datasplit\\\\ROI\\\\rgb-nir\\\\2022\\\\tnr9468_rois.hdf5',\n",
       " 'D:\\\\Drohnendaten\\\\10_WZE-UAV\\\\Auswertung_findatree\\\\Datasplit\\\\ROI\\\\rgb-nir\\\\2022\\\\tnr9472_rois.hdf5',\n",
       " 'D:\\\\Drohnendaten\\\\10_WZE-UAV\\\\Auswertung_findatree\\\\Datasplit\\\\ROI\\\\rgb-nir\\\\2022\\\\tnr9477_rois.hdf5',\n",
       " 'D:\\\\Drohnendaten\\\\10_WZE-UAV\\\\Auswertung_findatree\\\\Datasplit\\\\ROI\\\\rgb-nir\\\\2022\\\\tnr9489_rois.hdf5',\n",
       " 'D:\\\\Drohnendaten\\\\10_WZE-UAV\\\\Auswertung_findatree\\\\Datasplit\\\\ROI\\\\rgb-nir\\\\2022\\\\tnr9493_rois.hdf5',\n",
       " 'D:\\\\Drohnendaten\\\\10_WZE-UAV\\\\Auswertung_findatree\\\\Datasplit\\\\ROI\\\\rgb-nir\\\\2022\\\\tnr9509_rois.hdf5',\n",
       " 'D:\\\\Drohnendaten\\\\10_WZE-UAV\\\\Auswertung_findatree\\\\Datasplit\\\\ROI\\\\rgb-nir\\\\2022\\\\tnr9515_rois.hdf5',\n",
       " 'D:\\\\Drohnendaten\\\\10_WZE-UAV\\\\Auswertung_findatree\\\\Datasplit\\\\ROI\\\\rgb-nir\\\\2022\\\\tnr9517_rois.hdf5',\n",
       " 'D:\\\\Drohnendaten\\\\10_WZE-UAV\\\\Auswertung_findatree\\\\Datasplit\\\\ROI\\\\rgb-nir\\\\2022\\\\tnr9948_rois.hdf5',\n",
       " 'D:\\\\Drohnendaten\\\\10_WZE-UAV\\\\Auswertung_findatree\\\\Datasplit\\\\ROI\\\\rgb-nir\\\\2022\\\\tnr9958_rois.hdf5',\n",
       " 'D:\\\\Drohnendaten\\\\10_WZE-UAV\\\\Auswertung_findatree\\\\Datasplit\\\\ROI\\\\rgb-nir\\\\2022\\\\tnr9966_rois.hdf5',\n",
       " 'D:\\\\Drohnendaten\\\\10_WZE-UAV\\\\Auswertung_findatree\\\\Datasplit\\\\ROI\\\\rgb-nir\\\\2022\\\\tnr9984_rois.hdf5',\n",
       " 'D:\\\\Drohnendaten\\\\10_WZE-UAV\\\\Auswertung_findatree\\\\Datasplit\\\\ROI\\\\rgb-nir\\\\2022\\\\tnr9986_rois.hdf5',\n",
       " 'D:\\\\Drohnendaten\\\\10_WZE-UAV\\\\Auswertung_findatree\\\\Datasplit\\\\ROI\\\\rgb-nir\\\\2022\\\\tnr9988_rois.hdf5',\n",
       " 'D:\\\\Drohnendaten\\\\10_WZE-UAV\\\\Auswertung_findatree\\\\Datasplit\\\\ROI\\\\rgb-nir\\\\2022\\\\tnr9996_rois.hdf5']"
      ]
     },
     "execution_count": 10,
     "metadata": {},
     "output_type": "execute_result"
    }
   ],
   "source": [
    "path_list"
   ]
  },
  {
   "cell_type": "markdown",
   "id": "f3937a44",
   "metadata": {},
   "source": [
    "#### Create unique hash IDs for every individual tree"
   ]
  },
  {
   "cell_type": "code",
   "execution_count": 11,
   "id": "8a50f1d7",
   "metadata": {},
   "outputs": [
    {
     "data": {
      "application/vnd.jupyter.widget-view+json": {
       "model_id": "881c971a938f45ffa1cdf55ecbfea477",
       "version_major": 2,
       "version_minor": 0
      },
      "text/plain": [
       "Creating unique tree IDs...:   0%|          | 0/647 [00:00<?, ?it/s]"
      ]
     },
     "metadata": {},
     "output_type": "display_data"
    }
   ],
   "source": [
    "hashID_dict = data_loader.get_unique_treeID(path_list)"
   ]
  },
  {
   "cell_type": "markdown",
   "id": "6f4cea00",
   "metadata": {},
   "source": [
    "#### Import all imagery, labels and other features from hdf5 files"
   ]
  },
  {
   "cell_type": "code",
   "execution_count": 12,
   "id": "94e3eecf",
   "metadata": {},
   "outputs": [
    {
     "data": {
      "application/vnd.jupyter.widget-view+json": {
       "model_id": "f245e68438354dba95bd2dcb0026155c",
       "version_major": 2,
       "version_minor": 0
      },
      "text/plain": [
       "Processing hdf5 datasets:   0%|          | 0/647 [00:00<?, ?it/s]"
      ]
     },
     "metadata": {},
     "output_type": "display_data"
    }
   ],
   "source": [
    "image_set, label_set, species_set, kkl_set, bk_set, hash_id = data_loader.hdf5_to_img_label(path_list,\n",
    "                                                                                               hashID_dict,\n",
    "                                                                                               load_sets=[\"images_masked\"])"
   ]
  },
  {
   "cell_type": "markdown",
   "id": "6a90e2b7",
   "metadata": {},
   "source": [
    "#### Convert nbv to classes"
   ]
  },
  {
   "cell_type": "code",
   "execution_count": 13,
   "id": "0224972a",
   "metadata": {},
   "outputs": [],
   "source": [
    "label_set = nbv_to_sst_3classes(label_set)"
   ]
  },
  {
   "cell_type": "markdown",
   "id": "c6b4cd85",
   "metadata": {},
   "source": [
    "#### Split data into a sub set and a test dataset"
   ]
  },
  {
   "cell_type": "code",
   "execution_count": 14,
   "id": "d06eda54",
   "metadata": {},
   "outputs": [
    {
     "name": "stdout",
     "output_type": "stream",
     "text": [
      "There are 7087 unique values within hash_id.\n",
      "Number of True in sub_indices: 15659\n",
      "Number of False in sub_indices: 3146\n",
      "Number of True in test_indices: 1056\n",
      "Number of False in test_indices: 17749\n",
      "Check shapes:\n",
      "\n",
      "Images sub dataset: (15659, 250, 250, 4)\n",
      "Labels sub dataset: (15659, 1)\n",
      "\n",
      "Images test dataset: (1056, 250, 250, 4)\n",
      "Labels test dataset: (1056, 1)\n",
      "\n",
      "--------------------------------------------------\n",
      "Check if the split was stratified: (random_state=42)\n",
      "Healthy trees in sub dataset: 9232\n",
      "Stressed trees in sub dataset: 6166\n",
      "Dead trees in sub dataset: 261\n",
      "Healthy trees in test dataset: 612\n",
      "Stressed trees in test dataset: 429\n",
      "Dead trees in test dataset: 15\n",
      "Ratio health trees in test dataset: 0.06629116117850953\n",
      "Ratio stressed trees in test dataset: 0.0695750891988323\n",
      "Ratio dead trees in test dataset: 0.05747126436781609\n"
     ]
    }
   ],
   "source": [
    "sub_image_set, sub_label_set, sub_hash_id, sub_species_set, test_image_set, test_label_set, test_hash_id, test_species_set = data_split(image_set, label_set, hash_id, species_set, test_size=0.1667, random_state=42, seed=2)\n"
   ]
  },
  {
   "cell_type": "markdown",
   "id": "c48fbb5b",
   "metadata": {},
   "source": [
    "#### Check if any hash ID is in both sub and test dataset"
   ]
  },
  {
   "cell_type": "code",
   "execution_count": 15,
   "id": "874367cf",
   "metadata": {},
   "outputs": [
    {
     "name": "stdout",
     "output_type": "stream",
     "text": [
      "There are no hash_id values in both train and test datasets. The datasplit was successful\n"
     ]
    }
   ],
   "source": [
    "hash_set = set(sub_hash_id[:,0].flatten())\n",
    "test_hash_set = set(test_hash_id[:,0].flatten())\n",
    "intersection = hash_set.intersection(test_hash_set)\n",
    "if intersection:\n",
    "    print(f\"Hash_id values in both train and test sets: {intersection}\")\n",
    "else:\n",
    "    print(\"There are no hash_id values in both train and test datasets. The datasplit was successful\")"
   ]
  },
  {
   "cell_type": "markdown",
   "id": "9e5b64d4",
   "metadata": {},
   "source": [
    "#### Check feature distribution of the Test dataset"
   ]
  },
  {
   "cell_type": "code",
   "execution_count": 16,
   "id": "a33ff5cb",
   "metadata": {},
   "outputs": [
    {
     "name": "stdout",
     "output_type": "stream",
     "text": [
      "Test dataset\n",
      "Test data healthy trees: 612\n",
      "Test data stressed trees: 429\n",
      "Test data dead trees: 15\n",
      "Test data pine trees: 278\n",
      "Test data spruces: 388\n",
      "--------------------------------------------------\n",
      "Remaining dataset\n",
      "Remaining data healthy trees: 9232\n",
      "Remaining data stressed trees: 6166\n",
      "Remaining data dead trees: 261\n",
      "Remaining data pine trees: 3960\n",
      "Remaining data spruces: 5833\n",
      "--------------------------------------------------\n"
     ]
    }
   ],
   "source": [
    "def count_occurrences(data, value):\n",
    "    count = 0\n",
    "    for item in data:\n",
    "        if item == value:\n",
    "            count += 1\n",
    "    return count\n",
    "\n",
    "print(\"Test dataset\")\n",
    "print(f\"Test data healthy trees: {count_occurrences(test_label_set, 0)}\")\n",
    "print(f\"Test data stressed trees: {count_occurrences(test_label_set, 1)}\")\n",
    "print(f\"Test data dead trees: {count_occurrences(test_label_set, 2)}\")\n",
    "print(f\"Test data pine trees: {count_occurrences(test_species_set, 134)}\")\n",
    "print(f\"Test data spruces: {count_occurrences(test_species_set, 118)}\")\n",
    "print(\"-\"*50)\n",
    "\n",
    "print(\"Remaining dataset\")\n",
    "print(f\"Remaining data healthy trees: {count_occurrences(sub_label_set, 0)}\")\n",
    "print(f\"Remaining data stressed trees: {count_occurrences(sub_label_set, 1)}\")\n",
    "print(f\"Remaining data dead trees: {count_occurrences(sub_label_set, 2)}\")\n",
    "print(f\"Remaining data pine trees: {count_occurrences(sub_species_set, 134)}\")\n",
    "print(f\"Remaining data spruces: {count_occurrences(sub_species_set, 118)}\")\n",
    "print(\"-\"*50)"
   ]
  },
  {
   "cell_type": "code",
   "execution_count": 17,
   "id": "e08fcf57",
   "metadata": {},
   "outputs": [],
   "source": [
    "# train transform with augmentation. \n",
    "transform_train = transforms.Compose([transforms.ToTensor(), transforms.RandomHorizontalFlip(p=0.5), transforms.RandomVerticalFlip(p=0.5),\n",
    "                                      transforms.RandomRotation(degrees=[0,360])])\n",
    "\n",
    "# test and val dataset transform without augmentation. \n",
    "transform = transforms.Compose([transforms.ToTensor()])\n",
    "\n",
    "# class names need to fit the customDataset class used e.g. 3 classes -> use CustomDataset3Classes\n",
    "#class_names = ['healthy', 'slightly_stressed', 'moderately_stressed', 'highly_stressed', 'dead']\n",
    "#class_names = ['healthy', 'moderately_stressed', 'highly_stressed', 'dead']\n",
    "class_names = ['healthy', 'stressed', 'dead']\n",
    "\n",
    "# set seeds\n",
    "g = torch.Generator()\n",
    "g.manual_seed(42)\n",
    "NUM_WORKERS=3 # should be changed, depending on the system used\n",
    "batch_size=32"
   ]
  },
  {
   "cell_type": "markdown",
   "id": "31779c05",
   "metadata": {},
   "source": [
    "#### Define variables and parameters"
   ]
  },
  {
   "cell_type": "code",
   "execution_count": 18,
   "id": "10ae4379",
   "metadata": {},
   "outputs": [
    {
     "name": "stdout",
     "output_type": "stream",
     "text": [
      "Memory allocated: 0 bytes\n"
     ]
    }
   ],
   "source": [
    "# 1. Define number of epochs\n",
    "epochs = 50\n",
    "n_bands = sub_image_set[0].shape[2] # get number of bands\n",
    "\n",
    "# 2. Define model\n",
    "num_classes = len(class_names)\n",
    "unfreeze = True # all layer weights get updated\n",
    "dropout_rate = 0.45 #define dropout rate\n",
    "model_name = \"EffNet_b7_RGB-NIR_3classes_lr005\"\n",
    "\n",
    "# 3. Define loss, optimizer and learning rate scheduler\n",
    "lr = 0.005 # define learning rate\n",
    "min_lr = 1e-6 # minimum learning rate threshold\n",
    "gamma = 0.75 # how fast the learning rate decreases per epoch (low number=faster decrease)\n",
    "patience = 10\n",
    "\n",
    "# 4. Create target folder name were to save the tensorboard event files\n",
    "experiment_name = 'RGB-NIR_3classes_v3_lr005'\n",
    "extra = \"new_classes_lr005\"\n",
    "\n",
    "#----------------------------------------------------------------------\n",
    "#torch.cuda.empty_cache()\n",
    "print(f\"Memory allocated: {torch.cuda.memory_allocated()} bytes\") \n",
    "\n"
   ]
  },
  {
   "cell_type": "markdown",
   "id": "09768b1a",
   "metadata": {},
   "source": [
    "#### Run k-Fold cross-validation on EfficientNet"
   ]
  },
  {
   "cell_type": "code",
   "execution_count": 20,
   "id": "9c29c81d",
   "metadata": {},
   "outputs": [
    {
     "name": "stdout",
     "output_type": "stream",
     "text": [
      "There are 5905 unique values within hash_id.\n",
      "\n"
     ]
    },
    {
     "data": {
      "text/html": [
       "Finishing last run (ID:bn8hyv9b) before initializing another..."
      ],
      "text/plain": [
       "<IPython.core.display.HTML object>"
      ]
     },
     "metadata": {},
     "output_type": "display_data"
    },
    {
     "data": {
      "text/html": [
       "Waiting for W&B process to finish... <strong style=\"color:green\">(success).</strong>"
      ],
      "text/plain": [
       "<IPython.core.display.HTML object>"
      ]
     },
     "metadata": {},
     "output_type": "display_data"
    },
    {
     "data": {
      "application/vnd.jupyter.widget-view+json": {
       "model_id": "713ec624184345b2b3a6e67c9bd35b4c",
       "version_major": 2,
       "version_minor": 0
      },
      "text/plain": [
       "VBox(children=(Label(value='0.001 MB of 0.001 MB uploaded (0.000 MB deduped)\\r'), FloatProgress(value=1.0, max…"
      ]
     },
     "metadata": {},
     "output_type": "display_data"
    },
    {
     "data": {
      "text/html": [
       " View run <strong style=\"color:#cdcd00\">peach-waterfall-81</strong> at: <a href='https://wandb.ai/simon-ecke/wze-uav/runs/bn8hyv9b' target=\"_blank\">https://wandb.ai/simon-ecke/wze-uav/runs/bn8hyv9b</a><br/>Synced 5 W&B file(s), 0 media file(s), 0 artifact file(s) and 0 other file(s)"
      ],
      "text/plain": [
       "<IPython.core.display.HTML object>"
      ]
     },
     "metadata": {},
     "output_type": "display_data"
    },
    {
     "data": {
      "text/html": [
       "Find logs at: <code>.\\wandb\\run-20230416_092910-bn8hyv9b\\logs</code>"
      ],
      "text/plain": [
       "<IPython.core.display.HTML object>"
      ]
     },
     "metadata": {},
     "output_type": "display_data"
    },
    {
     "data": {
      "text/html": [
       "Successfully finished last run (ID:bn8hyv9b). Initializing new run:<br/>"
      ],
      "text/plain": [
       "<IPython.core.display.HTML object>"
      ]
     },
     "metadata": {},
     "output_type": "display_data"
    },
    {
     "data": {
      "text/html": [
       "Tracking run with wandb version 0.14.2"
      ],
      "text/plain": [
       "<IPython.core.display.HTML object>"
      ]
     },
     "metadata": {},
     "output_type": "display_data"
    },
    {
     "data": {
      "text/html": [
       "Run data is saved locally in <code>C:\\Users\\lwfeckesim\\01_PyTorch\\wze-uav\\wze-uav-master\\wandb\\run-20230416_101640-z4mh568t</code>"
      ],
      "text/plain": [
       "<IPython.core.display.HTML object>"
      ]
     },
     "metadata": {},
     "output_type": "display_data"
    },
    {
     "data": {
      "text/html": [
       "Syncing run <strong><a href='https://wandb.ai/simon-ecke/wze-uav/runs/z4mh568t' target=\"_blank\">fold_1_new_classes_lr005</a></strong> to <a href='https://wandb.ai/simon-ecke/wze-uav' target=\"_blank\">Weights & Biases</a> (<a href='https://wandb.me/run' target=\"_blank\">docs</a>)<br/>"
      ],
      "text/plain": [
       "<IPython.core.display.HTML object>"
      ]
     },
     "metadata": {},
     "output_type": "display_data"
    },
    {
     "data": {
      "text/html": [
       " View project at <a href='https://wandb.ai/simon-ecke/wze-uav' target=\"_blank\">https://wandb.ai/simon-ecke/wze-uav</a>"
      ],
      "text/plain": [
       "<IPython.core.display.HTML object>"
      ]
     },
     "metadata": {},
     "output_type": "display_data"
    },
    {
     "data": {
      "text/html": [
       " View run at <a href='https://wandb.ai/simon-ecke/wze-uav/runs/z4mh568t' target=\"_blank\">https://wandb.ai/simon-ecke/wze-uav/runs/z4mh568t</a>"
      ],
      "text/plain": [
       "<IPython.core.display.HTML object>"
      ]
     },
     "metadata": {},
     "output_type": "display_data"
    },
    {
     "name": "stdout",
     "output_type": "stream",
     "text": [
      "Check shapes:\n",
      "\n",
      "Images train dataset: (12564, 250, 250, 4)\n",
      "Labels train dataset: (12564, 1)\n",
      "\n",
      "Images validation dataset: (1043, 250, 250, 4)\n",
      "Labels validation dataset: (1043, 1)\n",
      "\n",
      "--------------------------------------------------\n",
      "Check if the split was stratified: (random_state=42)\n",
      "Healthy trees in train dataset: 7401\n",
      "Stressed trees in train dataset: 4959\n",
      "Dead trees in train dataset: 204\n",
      "Healthy trees in validation dataset: 618\n",
      "Stressed trees in validation dataset: 404\n",
      "Dead trees in validation dataset: 21\n",
      "Ratio health trees in validation dataset: 0.06694107452339688\n",
      "Ratio stressed trees in validation dataset: 0.06552059682127798\n",
      "Ratio dead trees in validation dataset: 0.08045977011494253\n",
      "--------------------------------------------------\n",
      "\n",
      "Creating datasets for fold: 1\n",
      "\n",
      "Creating dataloaders for fold: 1\n",
      "\n",
      "Loaded pretrained weights for efficientnet-b7\n",
      "\n",
      "[INFO] Fold number: 1\n",
      "[INFO] Number of epochs: 50\n",
      "[INFO] Batch_size: 32\n",
      "[INFO] Number of bands: 4\n",
      "[INFO] Dropout rate: 0.5\n",
      "[INFO] Gamma learning rate: 0.75\n",
      "[INFO] Memory allocated: 0 bytes\n"
     ]
    },
    {
     "data": {
      "application/vnd.jupyter.widget-view+json": {
       "model_id": "366acecd069245c3873368027cc7b8dd",
       "version_major": 2,
       "version_minor": 0
      },
      "text/plain": [
       "  0%|          | 0/50 [00:00<?, ?it/s]"
      ]
     },
     "metadata": {},
     "output_type": "display_data"
    },
    {
     "name": "stdout",
     "output_type": "stream",
     "text": [
      "Epoch: 1 \n",
      "Learning rate: 0.005\n",
      "Train loss: 0.7921 | Train precision: 0.5012 | Train recall: 0.4461 | Train f1score: 0.4661 | Train acc: 0.5264 | Train kappa: 0.1606 \n",
      "Val loss: 1.9899 | Val precision: 0.2653 | Val recall: 0.6134 | Val f1score: 0.3489 | Val acc: 0.5713 | Val kappa: 0.2147 \n",
      "\n",
      "Epoch: 2 \n",
      "Learning rate: 0.00375\n",
      "Train loss: 0.6875 | Train precision: 0.6591 | Train recall: 0.6093 | Train f1score: 0.6309 | Train acc: 0.6231 | Train kappa: 0.3633 \n",
      "Val loss: 0.7293 | Val precision: 0.5782 | Val recall: 0.4365 | Val f1score: 0.4357 | Val acc: 0.6035 | Val kappa: 0.2701 \n",
      "\n",
      "Epoch: 3 \n",
      "Learning rate: 0.0028125\n",
      "Train loss: 0.6662 | Train precision: 0.6784 | Train recall: 0.6389 | Train f1score: 0.6566 | Train acc: 0.6323 | Train kappa: 0.3910 \n",
      "Val loss: 0.6537 | Val precision: 0.6162 | Val recall: 0.7217 | Val f1score: 0.6564 | Val acc: 0.6357 | Val kappa: 0.3457 \n",
      "\n",
      "Epoch: 4 \n",
      "Learning rate: 0.002109375\n",
      "Train loss: 0.6573 | Train precision: 0.6873 | Train recall: 0.6599 | Train f1score: 0.6725 | Train acc: 0.6393 | Train kappa: 0.4083 \n",
      "Val loss: 0.6654 | Val precision: 0.6751 | Val recall: 0.4719 | Val f1score: 0.5085 | Val acc: 0.6377 | Val kappa: 0.2944 \n",
      "\n",
      "Epoch: 5 \n",
      "Learning rate: 0.00158203125\n",
      "Train loss: 0.6339 | Train precision: 0.7092 | Train recall: 0.6800 | Train f1score: 0.6935 | Train acc: 0.6552 | Train kappa: 0.4297 \n",
      "Val loss: 0.6929 | Val precision: 0.4167 | Val recall: 0.4183 | Val f1score: 0.4148 | Val acc: 0.6475 | Val kappa: 0.3092 \n",
      "\n",
      "Epoch: 6 \n",
      "Learning rate: 0.0011865234375\n",
      "Train loss: 0.6256 | Train precision: 0.7174 | Train recall: 0.7097 | Train f1score: 0.7131 | Train acc: 0.6630 | Train kappa: 0.4514 \n",
      "Val loss: 0.8102 | Val precision: 0.4721 | Val recall: 0.6751 | Val f1score: 0.4576 | Val acc: 0.6055 | Val kappa: 0.3671 \n",
      "\n",
      "Epoch: 7 \n",
      "Learning rate: 0.0008898925781250001\n",
      "Train loss: 0.6213 | Train precision: 0.7325 | Train recall: 0.7225 | Train f1score: 0.7272 | Train acc: 0.6676 | Train kappa: 0.4561 \n",
      "Val loss: 0.7118 | Val precision: 0.4143 | Val recall: 0.4248 | Val f1score: 0.4139 | Val acc: 0.6182 | Val kappa: 0.2889 \n",
      "\n",
      "Epoch: 8 \n",
      "Learning rate: 0.0006674194335937501\n",
      "Train loss: 0.6187 | Train precision: 0.7300 | Train recall: 0.7244 | Train f1score: 0.7267 | Train acc: 0.6636 | Train kappa: 0.4467 \n",
      "Val loss: 0.6641 | Val precision: 0.7505 | Val recall: 0.4777 | Val f1score: 0.5181 | Val acc: 0.6494 | Val kappa: 0.3165 \n",
      "\n",
      "Epoch: 9 \n",
      "Learning rate: 0.0005005645751953126\n",
      "Train loss: 0.6125 | Train precision: 0.7366 | Train recall: 0.7306 | Train f1score: 0.7334 | Train acc: 0.6716 | Train kappa: 0.4728 \n",
      "Val loss: 0.6946 | Val precision: 0.5736 | Val recall: 0.7053 | Val f1score: 0.5836 | Val acc: 0.6455 | Val kappa: 0.3486 \n",
      "\n",
      "Epoch: 10 \n",
      "Learning rate: 0.00037542343139648445\n",
      "Train loss: 0.6082 | Train precision: 0.7422 | Train recall: 0.7381 | Train f1score: 0.7399 | Train acc: 0.6703 | Train kappa: 0.4589 \n",
      "Val loss: 0.6133 | Val precision: 0.7341 | Val recall: 0.6213 | Val f1score: 0.6634 | Val acc: 0.6621 | Val kappa: 0.3721 \n",
      "\n",
      "Epoch: 11 \n",
      "Learning rate: 0.00028156757354736334\n",
      "Train loss: 0.5959 | Train precision: 0.7484 | Train recall: 0.7392 | Train f1score: 0.7436 | Train acc: 0.6830 | Train kappa: 0.4870 \n",
      "Val loss: 0.6443 | Val precision: 0.6725 | Val recall: 0.7465 | Val f1score: 0.6981 | Val acc: 0.6406 | Val kappa: 0.3846 \n",
      "\n",
      "Epoch: 12 \n",
      "Learning rate: 0.0002111756801605225\n",
      "Train loss: 0.6033 | Train precision: 0.7356 | Train recall: 0.7326 | Train f1score: 0.7338 | Train acc: 0.6727 | Train kappa: 0.4675 \n",
      "Val loss: 0.6029 | Val precision: 0.7123 | Val recall: 0.7286 | Val f1score: 0.7196 | Val acc: 0.6543 | Val kappa: 0.3898 \n",
      "\n",
      "Epoch: 13 \n",
      "Learning rate: 0.00015838176012039187\n",
      "Train loss: 0.5937 | Train precision: 0.7539 | Train recall: 0.7441 | Train f1score: 0.7487 | Train acc: 0.6842 | Train kappa: 0.4896 \n",
      "Val loss: 0.6285 | Val precision: 0.6388 | Val recall: 0.7431 | Val f1score: 0.6787 | Val acc: 0.6484 | Val kappa: 0.3979 \n",
      "\n",
      "Epoch: 14 \n",
      "Learning rate: 0.00011878632009029391\n",
      "Train loss: 0.5988 | Train precision: 0.7444 | Train recall: 0.7403 | Train f1score: 0.7422 | Train acc: 0.6793 | Train kappa: 0.4829 \n",
      "Val loss: 0.6264 | Val precision: 0.6671 | Val recall: 0.7501 | Val f1score: 0.6993 | Val acc: 0.6533 | Val kappa: 0.3977 \n",
      "\n",
      "Epoch: 15 \n",
      "Learning rate: 8.908974006772043e-05\n",
      "Train loss: 0.5914 | Train precision: 0.7543 | Train recall: 0.7479 | Train f1score: 0.7507 | Train acc: 0.6822 | Train kappa: 0.4919 \n",
      "Val loss: 0.6009 | Val precision: 0.7443 | Val recall: 0.7156 | Val f1score: 0.7288 | Val acc: 0.6611 | Val kappa: 0.3981 \n",
      "\n",
      "Epoch: 16 \n",
      "Learning rate: 6.681730505079033e-05\n",
      "Train loss: 0.5967 | Train precision: 0.7514 | Train recall: 0.7451 | Train f1score: 0.7478 | Train acc: 0.6827 | Train kappa: 0.4906 \n",
      "Val loss: 0.5992 | Val precision: 0.7331 | Val recall: 0.7211 | Val f1score: 0.7263 | Val acc: 0.6670 | Val kappa: 0.4068 \n",
      "\n",
      "Epoch: 17 \n",
      "Learning rate: 5.011297878809274e-05\n",
      "Train loss: 0.5885 | Train precision: 0.7531 | Train recall: 0.7516 | Train f1score: 0.7523 | Train acc: 0.6834 | Train kappa: 0.4897 \n",
      "Val loss: 0.6017 | Val precision: 0.7500 | Val recall: 0.7061 | Val f1score: 0.7259 | Val acc: 0.6709 | Val kappa: 0.4127 \n",
      "\n",
      "Epoch: 18 \n",
      "Learning rate: 3.758473409106956e-05\n",
      "Train loss: 0.5903 | Train precision: 0.7505 | Train recall: 0.7473 | Train f1score: 0.7487 | Train acc: 0.6822 | Train kappa: 0.4787 \n",
      "Val loss: 0.6036 | Val precision: 0.7355 | Val recall: 0.7392 | Val f1score: 0.7357 | Val acc: 0.6650 | Val kappa: 0.4091 \n",
      "\n",
      "Epoch: 19 \n",
      "Learning rate: 2.818855056830217e-05\n",
      "Train loss: 0.5912 | Train precision: 0.7467 | Train recall: 0.7450 | Train f1score: 0.7456 | Train acc: 0.6796 | Train kappa: 0.4715 \n",
      "Val loss: 0.5996 | Val precision: 0.7306 | Val recall: 0.7183 | Val f1score: 0.7238 | Val acc: 0.6641 | Val kappa: 0.4010 \n",
      "\n",
      "Epoch: 20 \n",
      "Learning rate: 2.1141412926226628e-05\n",
      "Train loss: 0.5908 | Train precision: 0.7560 | Train recall: 0.7522 | Train f1score: 0.7541 | Train acc: 0.6846 | Train kappa: 0.4827 \n",
      "Val loss: 0.6032 | Val precision: 0.7457 | Val recall: 0.7031 | Val f1score: 0.7212 | Val acc: 0.6611 | Val kappa: 0.3995 \n",
      "\n",
      "Epoch: 21 \n",
      "Learning rate: 1.5856059694669972e-05\n",
      "Train loss: 0.5949 | Train precision: 0.7535 | Train recall: 0.7443 | Train f1score: 0.7487 | Train acc: 0.6847 | Train kappa: 0.4893 \n",
      "Val loss: 0.6033 | Val precision: 0.7478 | Val recall: 0.7053 | Val f1score: 0.7233 | Val acc: 0.6641 | Val kappa: 0.4048 \n",
      "\n",
      "Epoch: 22 \n",
      "Learning rate: 1.1892044771002478e-05\n",
      "Train loss: 0.5941 | Train precision: 0.7520 | Train recall: 0.7449 | Train f1score: 0.7479 | Train acc: 0.6810 | Train kappa: 0.4779 \n",
      "Val loss: 0.6023 | Val precision: 0.7455 | Val recall: 0.7028 | Val f1score: 0.7211 | Val acc: 0.6611 | Val kappa: 0.3992 \n",
      "\n",
      "Epoch: 23 \n",
      "Learning rate: 8.919033578251859e-06\n",
      "Train loss: 0.5922 | Train precision: 0.7490 | Train recall: 0.7468 | Train f1score: 0.7477 | Train acc: 0.6826 | Train kappa: 0.4908 \n",
      "Val loss: 0.6020 | Val precision: 0.7311 | Val recall: 0.7197 | Val f1score: 0.7240 | Val acc: 0.6621 | Val kappa: 0.4004 \n",
      "\n",
      "Epoch: 24 \n",
      "Learning rate: 6.6892751836888935e-06\n",
      "Train loss: 0.5856 | Train precision: 0.7581 | Train recall: 0.7580 | Train f1score: 0.7579 | Train acc: 0.6851 | Train kappa: 0.4875 \n",
      "Val loss: 0.6043 | Val precision: 0.7192 | Val recall: 0.7364 | Val f1score: 0.7262 | Val acc: 0.6621 | Val kappa: 0.4056 \n",
      "\n",
      "Epoch: 25 \n",
      "Learning rate: 5.01695638776667e-06\n",
      "Train loss: 0.5905 | Train precision: 0.7528 | Train recall: 0.7463 | Train f1score: 0.7495 | Train acc: 0.6837 | Train kappa: 0.4956 \n",
      "Val loss: 0.6002 | Val precision: 0.7290 | Val recall: 0.7025 | Val f1score: 0.7145 | Val acc: 0.6641 | Val kappa: 0.3990 \n",
      "\n",
      "Epoch: 26 \n",
      "Learning rate: 3.7627172908250023e-06\n",
      "Train loss: 0.5963 | Train precision: 0.7489 | Train recall: 0.7429 | Train f1score: 0.7458 | Train acc: 0.6791 | Train kappa: 0.4766 \n",
      "Val loss: 0.6008 | Val precision: 0.7332 | Val recall: 0.7361 | Val f1score: 0.7338 | Val acc: 0.6641 | Val kappa: 0.4050 \n",
      "\n",
      "Epoch: 27 \n",
      "Learning rate: 2.822037968118752e-06\n",
      "Train loss: 0.5972 | Train precision: 0.7505 | Train recall: 0.7476 | Train f1score: 0.7490 | Train acc: 0.6799 | Train kappa: 0.4787 \n",
      "Val loss: 0.6028 | Val precision: 0.7342 | Val recall: 0.7375 | Val f1score: 0.7345 | Val acc: 0.6641 | Val kappa: 0.4064 \n",
      "\n"
     ]
    },
    {
     "name": "stdout",
     "output_type": "stream",
     "text": [
      "Epoch: 28 \n",
      "Learning rate: 2.1165284760890638e-06\n",
      "Train loss: 0.5871 | Train precision: 0.7574 | Train recall: 0.7530 | Train f1score: 0.7550 | Train acc: 0.6846 | Train kappa: 0.4905 \n",
      "Val loss: 0.6015 | Val precision: 0.7330 | Val recall: 0.7361 | Val f1score: 0.7335 | Val acc: 0.6631 | Val kappa: 0.4040 \n",
      "\n",
      "Early stopping after epoch 28\n"
     ]
    },
    {
     "data": {
      "text/html": [
       "Waiting for W&B process to finish... <strong style=\"color:green\">(success).</strong>"
      ],
      "text/plain": [
       "<IPython.core.display.HTML object>"
      ]
     },
     "metadata": {},
     "output_type": "display_data"
    },
    {
     "data": {
      "application/vnd.jupyter.widget-view+json": {
       "model_id": "4018cc422a8b4c49a5f4aaedba274c98",
       "version_major": 2,
       "version_minor": 0
      },
      "text/plain": [
       "VBox(children=(Label(value='0.001 MB of 0.001 MB uploaded (0.000 MB deduped)\\r'), FloatProgress(value=1.0, max…"
      ]
     },
     "metadata": {},
     "output_type": "display_data"
    },
    {
     "data": {
      "text/html": [
       "<style>\n",
       "    table.wandb td:nth-child(1) { padding: 0 10px; text-align: left ; width: auto;} td:nth-child(2) {text-align: left ; width: 100%}\n",
       "    .wandb-row { display: flex; flex-direction: row; flex-wrap: wrap; justify-content: flex-start; width: 100% }\n",
       "    .wandb-col { display: flex; flex-direction: column; flex-basis: 100%; flex: 1; padding: 10px; }\n",
       "    </style>\n",
       "<div class=\"wandb-row\"><div class=\"wandb-col\"><h3>Run history:</h3><br/><table class=\"wandb\"><tr><td>learning_rate</td><td>█▆▅▄▃▃▂▂▂▂▁▁▁▁▁▁▁▁▁▁▁▁▁▁▁▁▁▁</td></tr><tr><td>train_f1_score</td><td>▁▅▆▆▆▇▇▇▇██▇████████████████</td></tr><tr><td>train_loss</td><td>█▄▄▃▃▂▂▂▂▂▁▂▁▁▁▁▁▁▁▁▁▁▁▁▁▁▁▁</td></tr><tr><td>val_f1_score</td><td>▁▃▇▄▂▃▂▄▅▇▇█▇▇██████████████</td></tr><tr><td>val_loss</td><td>█▂▁▁▁▂▂▁▁▁▁▁▁▁▁▁▁▁▁▁▁▁▁▁▁▁▁▁</td></tr></table><br/></div><div class=\"wandb-col\"><h3>Run summary:</h3><br/><table class=\"wandb\"><tr><td>learning_rate</td><td>0.0</td></tr><tr><td>train_f1_score</td><td>0.75502</td></tr><tr><td>train_loss</td><td>0.58705</td></tr><tr><td>val_f1_score</td><td>0.7335</td></tr><tr><td>val_loss</td><td>0.60151</td></tr></table><br/></div></div>"
      ],
      "text/plain": [
       "<IPython.core.display.HTML object>"
      ]
     },
     "metadata": {},
     "output_type": "display_data"
    },
    {
     "data": {
      "text/html": [
       " View run <strong style=\"color:#cdcd00\">fold_1_new_classes_lr005</strong> at: <a href='https://wandb.ai/simon-ecke/wze-uav/runs/z4mh568t' target=\"_blank\">https://wandb.ai/simon-ecke/wze-uav/runs/z4mh568t</a><br/>Synced 5 W&B file(s), 0 media file(s), 0 artifact file(s) and 0 other file(s)"
      ],
      "text/plain": [
       "<IPython.core.display.HTML object>"
      ]
     },
     "metadata": {},
     "output_type": "display_data"
    },
    {
     "data": {
      "text/html": [
       "Find logs at: <code>.\\wandb\\run-20230416_101640-z4mh568t\\logs</code>"
      ],
      "text/plain": [
       "<IPython.core.display.HTML object>"
      ]
     },
     "metadata": {},
     "output_type": "display_data"
    },
    {
     "name": "stdout",
     "output_type": "stream",
     "text": [
      "Deleting variables and emptying cache\n",
      "Memory allocated: 1046864896 bytes\n",
      "--------------------------------------------------\n",
      "\n"
     ]
    },
    {
     "data": {
      "text/html": [
       "Tracking run with wandb version 0.14.2"
      ],
      "text/plain": [
       "<IPython.core.display.HTML object>"
      ]
     },
     "metadata": {},
     "output_type": "display_data"
    },
    {
     "data": {
      "text/html": [
       "Run data is saved locally in <code>C:\\Users\\lwfeckesim\\01_PyTorch\\wze-uav\\wze-uav-master\\wandb\\run-20230416_124556-4vzo7zo9</code>"
      ],
      "text/plain": [
       "<IPython.core.display.HTML object>"
      ]
     },
     "metadata": {},
     "output_type": "display_data"
    },
    {
     "data": {
      "text/html": [
       "Syncing run <strong><a href='https://wandb.ai/simon-ecke/wze-uav/runs/4vzo7zo9' target=\"_blank\">fold_2_new_classes_lr005</a></strong> to <a href='https://wandb.ai/simon-ecke/wze-uav' target=\"_blank\">Weights & Biases</a> (<a href='https://wandb.me/run' target=\"_blank\">docs</a>)<br/>"
      ],
      "text/plain": [
       "<IPython.core.display.HTML object>"
      ]
     },
     "metadata": {},
     "output_type": "display_data"
    },
    {
     "data": {
      "text/html": [
       " View project at <a href='https://wandb.ai/simon-ecke/wze-uav' target=\"_blank\">https://wandb.ai/simon-ecke/wze-uav</a>"
      ],
      "text/plain": [
       "<IPython.core.display.HTML object>"
      ]
     },
     "metadata": {},
     "output_type": "display_data"
    },
    {
     "data": {
      "text/html": [
       " View run at <a href='https://wandb.ai/simon-ecke/wze-uav/runs/4vzo7zo9' target=\"_blank\">https://wandb.ai/simon-ecke/wze-uav/runs/4vzo7zo9</a>"
      ],
      "text/plain": [
       "<IPython.core.display.HTML object>"
      ]
     },
     "metadata": {},
     "output_type": "display_data"
    },
    {
     "name": "stdout",
     "output_type": "stream",
     "text": [
      "Check shapes:\n",
      "\n",
      "Images train dataset: (12489, 250, 250, 4)\n",
      "Labels train dataset: (12489, 1)\n",
      "\n",
      "Images validation dataset: (1056, 250, 250, 4)\n",
      "Labels validation dataset: (1056, 1)\n",
      "\n",
      "--------------------------------------------------\n",
      "Check if the split was stratified: (random_state=42)\n",
      "Healthy trees in train dataset: 7358\n",
      "Stressed trees in train dataset: 4926\n",
      "Dead trees in train dataset: 205\n",
      "Healthy trees in validation dataset: 627\n",
      "Stressed trees in validation dataset: 409\n",
      "Dead trees in validation dataset: 20\n",
      "Ratio health trees in validation dataset: 0.0679159445407279\n",
      "Ratio stressed trees in validation dataset: 0.06633149529678885\n",
      "Ratio dead trees in validation dataset: 0.07662835249042145\n",
      "--------------------------------------------------\n",
      "\n",
      "Creating datasets for fold: 2\n",
      "\n",
      "Creating dataloaders for fold: 2\n",
      "\n",
      "Loaded pretrained weights for efficientnet-b7\n",
      "\n",
      "[INFO] Fold number: 2\n",
      "[INFO] Number of epochs: 50\n",
      "[INFO] Batch_size: 32\n",
      "[INFO] Number of bands: 4\n",
      "[INFO] Dropout rate: 0.5\n",
      "[INFO] Gamma learning rate: 0.75\n",
      "[INFO] Memory allocated: 0 bytes\n"
     ]
    },
    {
     "data": {
      "application/vnd.jupyter.widget-view+json": {
       "model_id": "829f6169832f42e2b4dca1a2337f6f2f",
       "version_major": 2,
       "version_minor": 0
      },
      "text/plain": [
       "  0%|          | 0/50 [00:00<?, ?it/s]"
      ]
     },
     "metadata": {},
     "output_type": "display_data"
    },
    {
     "name": "stdout",
     "output_type": "stream",
     "text": [
      "Epoch: 1 \n",
      "Learning rate: 0.005\n",
      "Train loss: 0.7818 | Train precision: 0.5208 | Train recall: 0.4617 | Train f1score: 0.4827 | Train acc: 0.5472 | Train kappa: 0.2023 \n",
      "Val loss: 0.9768 | Val precision: 0.3597 | Val recall: 0.3366 | Val f1score: 0.2060 | Val acc: 0.3977 | Val kappa: 0.0104 \n",
      "\n",
      "Epoch: 2 \n",
      "Learning rate: 0.00375\n",
      "Train loss: 0.6872 | Train precision: 0.6502 | Train recall: 0.6069 | Train f1score: 0.6258 | Train acc: 0.6173 | Train kappa: 0.3565 \n",
      "Val loss: 0.7164 | Val precision: 0.5896 | Val recall: 0.6616 | Val f1score: 0.6145 | Val acc: 0.6525 | Val kappa: 0.3709 \n",
      "\n",
      "Epoch: 3 \n",
      "Learning rate: 0.0028125\n",
      "Train loss: 0.6565 | Train precision: 0.6835 | Train recall: 0.6589 | Train f1score: 0.6699 | Train acc: 0.6412 | Train kappa: 0.4065 \n",
      "Val loss: 0.6444 | Val precision: 0.6712 | Val recall: 0.7309 | Val f1score: 0.6854 | Val acc: 0.6326 | Val kappa: 0.3874 \n",
      "\n",
      "Epoch: 4 \n",
      "Learning rate: 0.002109375\n",
      "Train loss: 0.6345 | Train precision: 0.7149 | Train recall: 0.6979 | Train f1score: 0.7057 | Train acc: 0.6587 | Train kappa: 0.4442 \n",
      "Val loss: 0.6440 | Val precision: 0.7670 | Val recall: 0.5426 | Val f1score: 0.5813 | Val acc: 0.6402 | Val kappa: 0.3399 \n",
      "\n",
      "Epoch: 5 \n",
      "Learning rate: 0.00158203125\n",
      "Train loss: 0.6266 | Train precision: 0.7201 | Train recall: 0.7039 | Train f1score: 0.7116 | Train acc: 0.6590 | Train kappa: 0.4400 \n",
      "Val loss: 0.5986 | Val precision: 0.7104 | Val recall: 0.7153 | Val f1score: 0.6774 | Val acc: 0.6695 | Val kappa: 0.3876 \n",
      "\n",
      "Epoch: 6 \n",
      "Learning rate: 0.0011865234375\n",
      "Train loss: 0.6203 | Train precision: 0.7227 | Train recall: 0.7192 | Train f1score: 0.7208 | Train acc: 0.6629 | Train kappa: 0.4529 \n",
      "Val loss: 0.6324 | Val precision: 0.7431 | Val recall: 0.7259 | Val f1score: 0.7112 | Val acc: 0.6354 | Val kappa: 0.3882 \n",
      "\n",
      "Epoch: 7 \n",
      "Learning rate: 0.0008898925781250001\n",
      "Train loss: 0.6157 | Train precision: 0.7291 | Train recall: 0.7266 | Train f1score: 0.7274 | Train acc: 0.6680 | Train kappa: 0.4601 \n",
      "Val loss: 0.5965 | Val precision: 0.7280 | Val recall: 0.7313 | Val f1score: 0.7287 | Val acc: 0.6809 | Val kappa: 0.4413 \n",
      "\n",
      "Epoch: 8 \n",
      "Learning rate: 0.0006674194335937501\n",
      "Train loss: 0.6004 | Train precision: 0.7383 | Train recall: 0.7506 | Train f1score: 0.7441 | Train acc: 0.6774 | Train kappa: 0.4786 \n",
      "Val loss: 0.6014 | Val precision: 0.7415 | Val recall: 0.7178 | Val f1score: 0.7237 | Val acc: 0.6714 | Val kappa: 0.4196 \n",
      "\n",
      "Epoch: 9 \n",
      "Learning rate: 0.0005005645751953126\n",
      "Train loss: 0.6058 | Train precision: 0.7408 | Train recall: 0.7346 | Train f1score: 0.7376 | Train acc: 0.6721 | Train kappa: 0.4675 \n",
      "Val loss: 0.5942 | Val precision: 0.7522 | Val recall: 0.7574 | Val f1score: 0.7489 | Val acc: 0.6809 | Val kappa: 0.4509 \n",
      "\n",
      "Epoch: 10 \n",
      "Learning rate: 0.00037542343139648445\n",
      "Train loss: 0.5910 | Train precision: 0.7526 | Train recall: 0.7486 | Train f1score: 0.7502 | Train acc: 0.6867 | Train kappa: 0.4886 \n",
      "Val loss: 0.5877 | Val precision: 0.7416 | Val recall: 0.7306 | Val f1score: 0.7348 | Val acc: 0.6790 | Val kappa: 0.4364 \n",
      "\n",
      "Epoch: 11 \n",
      "Learning rate: 0.00028156757354736334\n",
      "Train loss: 0.5936 | Train precision: 0.7454 | Train recall: 0.7465 | Train f1score: 0.7457 | Train acc: 0.6835 | Train kappa: 0.4871 \n",
      "Val loss: 0.6055 | Val precision: 0.7351 | Val recall: 0.7535 | Val f1score: 0.7361 | Val acc: 0.6714 | Val kappa: 0.4394 \n",
      "\n",
      "Epoch: 12 \n",
      "Learning rate: 0.0002111756801605225\n",
      "Train loss: 0.5965 | Train precision: 0.7508 | Train recall: 0.7463 | Train f1score: 0.7482 | Train acc: 0.6818 | Train kappa: 0.4850 \n",
      "Val loss: 0.5810 | Val precision: 0.7887 | Val recall: 0.7434 | Val f1score: 0.7633 | Val acc: 0.6989 | Val kappa: 0.4661 \n",
      "\n",
      "Epoch: 13 \n",
      "Learning rate: 0.00015838176012039187\n",
      "Train loss: 0.5847 | Train precision: 0.7489 | Train recall: 0.7506 | Train f1score: 0.7492 | Train acc: 0.6877 | Train kappa: 0.4936 \n",
      "Val loss: 0.5761 | Val precision: 0.7484 | Val recall: 0.7794 | Val f1score: 0.7626 | Val acc: 0.7055 | Val kappa: 0.4868 \n",
      "\n",
      "Epoch: 14 \n",
      "Learning rate: 0.00011878632009029391\n",
      "Train loss: 0.5845 | Train precision: 0.7505 | Train recall: 0.7561 | Train f1score: 0.7530 | Train acc: 0.6866 | Train kappa: 0.4965 \n",
      "Val loss: 0.5821 | Val precision: 0.7887 | Val recall: 0.7450 | Val f1score: 0.7623 | Val acc: 0.6941 | Val kappa: 0.4624 \n",
      "\n",
      "Epoch: 15 \n",
      "Learning rate: 8.908974006772043e-05\n",
      "Train loss: 0.5795 | Train precision: 0.7620 | Train recall: 0.7585 | Train f1score: 0.7598 | Train acc: 0.6935 | Train kappa: 0.5133 \n",
      "Val loss: 0.5795 | Val precision: 0.7457 | Val recall: 0.7352 | Val f1score: 0.7387 | Val acc: 0.6837 | Val kappa: 0.4460 \n",
      "\n",
      "Epoch: 16 \n",
      "Learning rate: 6.681730505079033e-05\n",
      "Train loss: 0.5859 | Train precision: 0.7534 | Train recall: 0.7531 | Train f1score: 0.7529 | Train acc: 0.6848 | Train kappa: 0.4930 \n",
      "Val loss: 0.5825 | Val precision: 0.7841 | Val recall: 0.7395 | Val f1score: 0.7584 | Val acc: 0.6903 | Val kappa: 0.4530 \n",
      "\n",
      "Epoch: 17 \n",
      "Learning rate: 5.011297878809274e-05\n",
      "Train loss: 0.5864 | Train precision: 0.7539 | Train recall: 0.7555 | Train f1score: 0.7542 | Train acc: 0.6833 | Train kappa: 0.4788 \n",
      "Val loss: 0.5823 | Val precision: 0.7718 | Val recall: 0.7464 | Val f1score: 0.7550 | Val acc: 0.6941 | Val kappa: 0.4658 \n",
      "\n",
      "Epoch: 18 \n",
      "Learning rate: 3.758473409106956e-05\n",
      "Train loss: 0.5840 | Train precision: 0.7538 | Train recall: 0.7535 | Train f1score: 0.7533 | Train acc: 0.6842 | Train kappa: 0.4962 \n",
      "Val loss: 0.5856 | Val precision: 0.7469 | Val recall: 0.7374 | Val f1score: 0.7369 | Val acc: 0.6771 | Val kappa: 0.4412 \n",
      "\n",
      "Epoch: 19 \n",
      "Learning rate: 2.818855056830217e-05\n",
      "Train loss: 0.5844 | Train precision: 0.7454 | Train recall: 0.7542 | Train f1score: 0.7489 | Train acc: 0.6836 | Train kappa: 0.4869 \n",
      "Val loss: 0.5824 | Val precision: 0.7918 | Val recall: 0.7486 | Val f1score: 0.7648 | Val acc: 0.6970 | Val kappa: 0.4688 \n",
      "\n",
      "Epoch: 20 \n",
      "Learning rate: 2.1141412926226628e-05\n",
      "Train loss: 0.5886 | Train precision: 0.7548 | Train recall: 0.7477 | Train f1score: 0.7508 | Train acc: 0.6832 | Train kappa: 0.4838 \n",
      "Val loss: 0.5833 | Val precision: 0.7907 | Val recall: 0.7476 | Val f1score: 0.7633 | Val acc: 0.6941 | Val kappa: 0.4648 \n",
      "\n",
      "Epoch: 21 \n",
      "Learning rate: 1.5856059694669972e-05\n",
      "Train loss: 0.5850 | Train precision: 0.7559 | Train recall: 0.7500 | Train f1score: 0.7526 | Train acc: 0.6825 | Train kappa: 0.4949 \n",
      "Val loss: 0.5816 | Val precision: 0.7596 | Val recall: 0.7650 | Val f1score: 0.7591 | Val acc: 0.6979 | Val kappa: 0.4761 \n",
      "\n",
      "Epoch: 22 \n",
      "Learning rate: 1.1892044771002478e-05\n",
      "Train loss: 0.5900 | Train precision: 0.7470 | Train recall: 0.7583 | Train f1score: 0.7523 | Train acc: 0.6811 | Train kappa: 0.4929 \n",
      "Val loss: 0.5822 | Val precision: 0.7583 | Val recall: 0.7491 | Val f1score: 0.7505 | Val acc: 0.6989 | Val kappa: 0.4754 \n",
      "\n",
      "Epoch: 23 \n",
      "Learning rate: 8.919033578251859e-06\n",
      "Train loss: 0.5841 | Train precision: 0.7523 | Train recall: 0.7522 | Train f1score: 0.7516 | Train acc: 0.6845 | Train kappa: 0.4908 \n",
      "Val loss: 0.5870 | Val precision: 0.7527 | Val recall: 0.7579 | Val f1score: 0.7495 | Val acc: 0.6818 | Val kappa: 0.4524 \n",
      "\n",
      "Epoch: 24 \n",
      "Learning rate: 6.6892751836888935e-06\n",
      "Train loss: 0.5915 | Train precision: 0.7493 | Train recall: 0.7515 | Train f1score: 0.7499 | Train acc: 0.6888 | Train kappa: 0.4975 \n",
      "Val loss: 0.5860 | Val precision: 0.7493 | Val recall: 0.7399 | Val f1score: 0.7390 | Val acc: 0.6799 | Val kappa: 0.4465 \n",
      "\n",
      "Epoch: 25 \n",
      "Learning rate: 5.01695638776667e-06\n",
      "Train loss: 0.5828 | Train precision: 0.7557 | Train recall: 0.7600 | Train f1score: 0.7573 | Train acc: 0.6848 | Train kappa: 0.4905 \n",
      "Val loss: 0.5839 | Val precision: 0.7536 | Val recall: 0.7589 | Val f1score: 0.7520 | Val acc: 0.6866 | Val kappa: 0.4583 \n",
      "\n",
      "Epoch: 26 \n",
      "Learning rate: 3.7627172908250023e-06\n",
      "Train loss: 0.5841 | Train precision: 0.7466 | Train recall: 0.7650 | Train f1score: 0.7550 | Train acc: 0.6914 | Train kappa: 0.5012 \n",
      "Val loss: 0.5836 | Val precision: 0.7541 | Val recall: 0.7449 | Val f1score: 0.7453 | Val acc: 0.6903 | Val kappa: 0.4623 \n",
      "\n",
      "Epoch: 27 \n",
      "Learning rate: 2.822037968118752e-06\n",
      "Train loss: 0.5769 | Train precision: 0.7559 | Train recall: 0.7659 | Train f1score: 0.7604 | Train acc: 0.6944 | Train kappa: 0.5053 \n",
      "Val loss: 0.5835 | Val precision: 0.7715 | Val recall: 0.7462 | Val f1score: 0.7545 | Val acc: 0.6932 | Val kappa: 0.4645 \n",
      "\n"
     ]
    },
    {
     "name": "stdout",
     "output_type": "stream",
     "text": [
      "Epoch: 28 \n",
      "Learning rate: 2.1165284760890638e-06\n",
      "Train loss: 0.5784 | Train precision: 0.7551 | Train recall: 0.7670 | Train f1score: 0.7607 | Train acc: 0.6903 | Train kappa: 0.5030 \n",
      "Val loss: 0.5811 | Val precision: 0.7909 | Val recall: 0.7475 | Val f1score: 0.7644 | Val acc: 0.6970 | Val kappa: 0.4678 \n",
      "\n",
      "Epoch: 29 \n",
      "Learning rate: 1.587396357066798e-06\n",
      "Train loss: 0.5918 | Train precision: 0.7505 | Train recall: 0.7524 | Train f1score: 0.7510 | Train acc: 0.6806 | Train kappa: 0.4746 \n",
      "Val loss: 0.5836 | Val precision: 0.7748 | Val recall: 0.7497 | Val f1score: 0.7574 | Val acc: 0.6970 | Val kappa: 0.4719 \n",
      "\n",
      "Early stopping after epoch 29\n"
     ]
    },
    {
     "data": {
      "text/html": [
       "Waiting for W&B process to finish... <strong style=\"color:green\">(success).</strong>"
      ],
      "text/plain": [
       "<IPython.core.display.HTML object>"
      ]
     },
     "metadata": {},
     "output_type": "display_data"
    },
    {
     "data": {
      "application/vnd.jupyter.widget-view+json": {
       "model_id": "546e8a2d3bf54b6bad762cae4da74402",
       "version_major": 2,
       "version_minor": 0
      },
      "text/plain": [
       "VBox(children=(Label(value='0.001 MB of 0.001 MB uploaded (0.000 MB deduped)\\r'), FloatProgress(value=1.0, max…"
      ]
     },
     "metadata": {},
     "output_type": "display_data"
    },
    {
     "data": {
      "text/html": [
       "<style>\n",
       "    table.wandb td:nth-child(1) { padding: 0 10px; text-align: left ; width: auto;} td:nth-child(2) {text-align: left ; width: 100%}\n",
       "    .wandb-row { display: flex; flex-direction: row; flex-wrap: wrap; justify-content: flex-start; width: 100% }\n",
       "    .wandb-col { display: flex; flex-direction: column; flex-basis: 100%; flex: 1; padding: 10px; }\n",
       "    </style>\n",
       "<div class=\"wandb-row\"><div class=\"wandb-col\"><h3>Run history:</h3><br/><table class=\"wandb\"><tr><td>learning_rate</td><td>█▆▅▄▃▃▂▂▂▂▁▁▁▁▁▁▁▁▁▁▁▁▁▁▁▁▁▁▁</td></tr><tr><td>train_f1_score</td><td>▁▅▆▇▇▇▇█▇████████████████████</td></tr><tr><td>train_loss</td><td>█▅▄▃▃▂▂▂▂▁▂▂▁▁▁▁▁▁▁▁▁▁▁▂▁▁▁▁▂</td></tr><tr><td>val_f1_score</td><td>▁▆▇▆▇▇█▇█████████████████████</td></tr><tr><td>val_loss</td><td>█▃▂▂▁▂▁▁▁▁▂▁▁▁▁▁▁▁▁▁▁▁▁▁▁▁▁▁▁</td></tr></table><br/></div><div class=\"wandb-col\"><h3>Run summary:</h3><br/><table class=\"wandb\"><tr><td>learning_rate</td><td>0.0</td></tr><tr><td>train_f1_score</td><td>0.75096</td></tr><tr><td>train_loss</td><td>0.59175</td></tr><tr><td>val_f1_score</td><td>0.7574</td></tr><tr><td>val_loss</td><td>0.58361</td></tr></table><br/></div></div>"
      ],
      "text/plain": [
       "<IPython.core.display.HTML object>"
      ]
     },
     "metadata": {},
     "output_type": "display_data"
    },
    {
     "data": {
      "text/html": [
       " View run <strong style=\"color:#cdcd00\">fold_2_new_classes_lr005</strong> at: <a href='https://wandb.ai/simon-ecke/wze-uav/runs/4vzo7zo9' target=\"_blank\">https://wandb.ai/simon-ecke/wze-uav/runs/4vzo7zo9</a><br/>Synced 5 W&B file(s), 0 media file(s), 0 artifact file(s) and 0 other file(s)"
      ],
      "text/plain": [
       "<IPython.core.display.HTML object>"
      ]
     },
     "metadata": {},
     "output_type": "display_data"
    },
    {
     "data": {
      "text/html": [
       "Find logs at: <code>.\\wandb\\run-20230416_124556-4vzo7zo9\\logs</code>"
      ],
      "text/plain": [
       "<IPython.core.display.HTML object>"
      ]
     },
     "metadata": {},
     "output_type": "display_data"
    },
    {
     "name": "stdout",
     "output_type": "stream",
     "text": [
      "Deleting variables and emptying cache\n",
      "Memory allocated: 1053492224 bytes\n",
      "--------------------------------------------------\n",
      "\n"
     ]
    },
    {
     "data": {
      "text/html": [
       "Tracking run with wandb version 0.14.2"
      ],
      "text/plain": [
       "<IPython.core.display.HTML object>"
      ]
     },
     "metadata": {},
     "output_type": "display_data"
    },
    {
     "data": {
      "text/html": [
       "Run data is saved locally in <code>C:\\Users\\lwfeckesim\\01_PyTorch\\wze-uav\\wze-uav-master\\wandb\\run-20230416_152242-nmmkiedp</code>"
      ],
      "text/plain": [
       "<IPython.core.display.HTML object>"
      ]
     },
     "metadata": {},
     "output_type": "display_data"
    },
    {
     "data": {
      "text/html": [
       "Syncing run <strong><a href='https://wandb.ai/simon-ecke/wze-uav/runs/nmmkiedp' target=\"_blank\">fold_3_new_classes_lr005</a></strong> to <a href='https://wandb.ai/simon-ecke/wze-uav' target=\"_blank\">Weights & Biases</a> (<a href='https://wandb.me/run' target=\"_blank\">docs</a>)<br/>"
      ],
      "text/plain": [
       "<IPython.core.display.HTML object>"
      ]
     },
     "metadata": {},
     "output_type": "display_data"
    },
    {
     "data": {
      "text/html": [
       " View project at <a href='https://wandb.ai/simon-ecke/wze-uav' target=\"_blank\">https://wandb.ai/simon-ecke/wze-uav</a>"
      ],
      "text/plain": [
       "<IPython.core.display.HTML object>"
      ]
     },
     "metadata": {},
     "output_type": "display_data"
    },
    {
     "data": {
      "text/html": [
       " View run at <a href='https://wandb.ai/simon-ecke/wze-uav/runs/nmmkiedp' target=\"_blank\">https://wandb.ai/simon-ecke/wze-uav/runs/nmmkiedp</a>"
      ],
      "text/plain": [
       "<IPython.core.display.HTML object>"
      ]
     },
     "metadata": {},
     "output_type": "display_data"
    },
    {
     "name": "stdout",
     "output_type": "stream",
     "text": [
      "Check shapes:\n",
      "\n",
      "Images train dataset: (12563, 250, 250, 4)\n",
      "Labels train dataset: (12563, 1)\n",
      "\n",
      "Images validation dataset: (1027, 250, 250, 4)\n",
      "Labels validation dataset: (1027, 1)\n",
      "\n",
      "--------------------------------------------------\n",
      "Check if the split was stratified: (random_state=42)\n",
      "Healthy trees in train dataset: 7393\n",
      "Stressed trees in train dataset: 4955\n",
      "Dead trees in train dataset: 215\n",
      "Healthy trees in validation dataset: 608\n",
      "Stressed trees in validation dataset: 406\n",
      "Dead trees in validation dataset: 13\n",
      "Ratio health trees in validation dataset: 0.0658578856152513\n",
      "Ratio stressed trees in validation dataset: 0.06584495621148233\n",
      "Ratio dead trees in validation dataset: 0.04980842911877394\n",
      "--------------------------------------------------\n",
      "\n",
      "Creating datasets for fold: 3\n",
      "\n",
      "Creating dataloaders for fold: 3\n",
      "\n",
      "Loaded pretrained weights for efficientnet-b7\n",
      "\n",
      "[INFO] Fold number: 3\n",
      "[INFO] Number of epochs: 50\n",
      "[INFO] Batch_size: 32\n",
      "[INFO] Number of bands: 4\n",
      "[INFO] Dropout rate: 0.5\n",
      "[INFO] Gamma learning rate: 0.75\n",
      "[INFO] Memory allocated: 0 bytes\n"
     ]
    },
    {
     "data": {
      "application/vnd.jupyter.widget-view+json": {
       "model_id": "1c2ac06f9d47463f9172ebf8790983d8",
       "version_major": 2,
       "version_minor": 0
      },
      "text/plain": [
       "  0%|          | 0/50 [00:00<?, ?it/s]"
      ]
     },
     "metadata": {},
     "output_type": "display_data"
    },
    {
     "name": "stdout",
     "output_type": "stream",
     "text": [
      "Epoch: 1 \n",
      "Learning rate: 0.005\n",
      "Train loss: 0.8232 | Train precision: 0.4430 | Train recall: 0.3835 | Train f1score: 0.3899 | Train acc: 0.5341 | Train kappa: 0.1214 \n",
      "Val loss: 3.3167 | Val precision: 0.1322 | Val recall: 0.3333 | Val f1score: 0.1893 | Val acc: 0.3965 | Val kappa: 0.0000 \n",
      "\n",
      "Epoch: 2 \n",
      "Learning rate: 0.00375\n",
      "Train loss: 0.7062 | Train precision: 0.6166 | Train recall: 0.5730 | Train f1score: 0.5915 | Train acc: 0.6095 | Train kappa: 0.3401 \n",
      "Val loss: 0.7196 | Val precision: 0.4798 | Val recall: 0.5785 | Val f1score: 0.4137 | Val acc: 0.6084 | Val kappa: 0.2545 \n",
      "\n",
      "Epoch: 3 \n",
      "Learning rate: 0.0028125\n",
      "Train loss: 0.6750 | Train precision: 0.6693 | Train recall: 0.6380 | Train f1score: 0.6523 | Train acc: 0.6257 | Train kappa: 0.3845 \n",
      "Val loss: 0.6399 | Val precision: 0.7628 | Val recall: 0.5643 | Val f1score: 0.6172 | Val acc: 0.6602 | Val kappa: 0.3185 \n",
      "\n",
      "Epoch: 4 \n",
      "Learning rate: 0.002109375\n",
      "Train loss: 0.6533 | Train precision: 0.7015 | Train recall: 0.6834 | Train f1score: 0.6914 | Train acc: 0.6444 | Train kappa: 0.4239 \n",
      "Val loss: 0.6310 | Val precision: 0.5901 | Val recall: 0.7070 | Val f1score: 0.6069 | Val acc: 0.6543 | Val kappa: 0.3509 \n",
      "\n",
      "Epoch: 5 \n",
      "Learning rate: 0.00158203125\n",
      "Train loss: 0.6332 | Train precision: 0.7134 | Train recall: 0.7115 | Train f1score: 0.7123 | Train acc: 0.6596 | Train kappa: 0.4517 \n",
      "Val loss: 0.6161 | Val precision: 0.7129 | Val recall: 0.6573 | Val f1score: 0.6772 | Val acc: 0.6758 | Val kappa: 0.3677 \n",
      "\n",
      "Epoch: 6 \n",
      "Learning rate: 0.0011865234375\n",
      "Train loss: 0.6385 | Train precision: 0.7148 | Train recall: 0.7023 | Train f1score: 0.7082 | Train acc: 0.6535 | Train kappa: 0.4411 \n",
      "Val loss: 0.6345 | Val precision: 0.5791 | Val recall: 0.7299 | Val f1score: 0.6245 | Val acc: 0.6328 | Val kappa: 0.3697 \n",
      "\n",
      "Epoch: 7 \n",
      "Learning rate: 0.0008898925781250001\n",
      "Train loss: 0.6175 | Train precision: 0.7400 | Train recall: 0.7307 | Train f1score: 0.7350 | Train acc: 0.6704 | Train kappa: 0.4649 \n",
      "Val loss: 0.6043 | Val precision: 0.7356 | Val recall: 0.6442 | Val f1score: 0.6718 | Val acc: 0.6670 | Val kappa: 0.3439 \n",
      "\n",
      "Epoch: 8 \n",
      "Learning rate: 0.0006674194335937501\n",
      "Train loss: 0.6211 | Train precision: 0.7313 | Train recall: 0.7254 | Train f1score: 0.7283 | Train acc: 0.6616 | Train kappa: 0.4582 \n",
      "Val loss: 0.5901 | Val precision: 0.7169 | Val recall: 0.7030 | Val f1score: 0.6904 | Val acc: 0.6836 | Val kappa: 0.3833 \n",
      "\n",
      "Epoch: 9 \n",
      "Learning rate: 0.0005005645751953126\n",
      "Train loss: 0.6084 | Train precision: 0.7394 | Train recall: 0.7356 | Train f1score: 0.7374 | Train acc: 0.6745 | Train kappa: 0.4652 \n",
      "Val loss: 0.5906 | Val precision: 0.7241 | Val recall: 0.7251 | Val f1score: 0.7245 | Val acc: 0.6777 | Val kappa: 0.4037 \n",
      "\n",
      "Epoch: 10 \n",
      "Learning rate: 0.00037542343139648445\n",
      "Train loss: 0.6080 | Train precision: 0.7476 | Train recall: 0.7331 | Train f1score: 0.7400 | Train acc: 0.6751 | Train kappa: 0.4738 \n",
      "Val loss: 0.5990 | Val precision: 0.7170 | Val recall: 0.6799 | Val f1score: 0.6939 | Val acc: 0.6719 | Val kappa: 0.3993 \n",
      "\n",
      "Epoch: 11 \n",
      "Learning rate: 0.00028156757354736334\n",
      "Train loss: 0.6037 | Train precision: 0.7441 | Train recall: 0.7396 | Train f1score: 0.7415 | Train acc: 0.6724 | Train kappa: 0.4743 \n",
      "Val loss: 0.5932 | Val precision: 0.6882 | Val recall: 0.7277 | Val f1score: 0.7058 | Val acc: 0.6758 | Val kappa: 0.4100 \n",
      "\n",
      "Epoch: 12 \n",
      "Learning rate: 0.0002111756801605225\n",
      "Train loss: 0.6005 | Train precision: 0.7545 | Train recall: 0.7402 | Train f1score: 0.7471 | Train acc: 0.6817 | Train kappa: 0.4932 \n",
      "Val loss: 0.5836 | Val precision: 0.7294 | Val recall: 0.7209 | Val f1score: 0.7227 | Val acc: 0.6875 | Val kappa: 0.4080 \n",
      "\n",
      "Epoch: 13 \n",
      "Learning rate: 0.00015838176012039187\n",
      "Train loss: 0.6037 | Train precision: 0.7596 | Train recall: 0.7429 | Train f1score: 0.7509 | Train acc: 0.6799 | Train kappa: 0.4863 \n",
      "Val loss: 0.5848 | Val precision: 0.7141 | Val recall: 0.7081 | Val f1score: 0.6976 | Val acc: 0.6855 | Val kappa: 0.3922 \n",
      "\n",
      "Epoch: 14 \n",
      "Learning rate: 0.00011878632009029391\n",
      "Train loss: 0.6001 | Train precision: 0.7622 | Train recall: 0.7490 | Train f1score: 0.7554 | Train acc: 0.6835 | Train kappa: 0.4858 \n",
      "Val loss: 0.5807 | Val precision: 0.7345 | Val recall: 0.7261 | Val f1score: 0.7280 | Val acc: 0.6943 | Val kappa: 0.4215 \n",
      "\n",
      "Epoch: 15 \n",
      "Learning rate: 8.908974006772043e-05\n",
      "Train loss: 0.5927 | Train precision: 0.7606 | Train recall: 0.7470 | Train f1score: 0.7536 | Train acc: 0.6857 | Train kappa: 0.4918 \n",
      "Val loss: 0.5848 | Val precision: 0.7133 | Val recall: 0.7330 | Val f1score: 0.7228 | Val acc: 0.6914 | Val kappa: 0.4294 \n",
      "\n",
      "Epoch: 16 \n",
      "Learning rate: 6.681730505079033e-05\n",
      "Train loss: 0.6016 | Train precision: 0.7570 | Train recall: 0.7422 | Train f1score: 0.7492 | Train acc: 0.6828 | Train kappa: 0.4927 \n",
      "Val loss: 0.5831 | Val precision: 0.7078 | Val recall: 0.7257 | Val f1score: 0.7162 | Val acc: 0.6846 | Val kappa: 0.4136 \n",
      "\n",
      "Epoch: 17 \n",
      "Learning rate: 5.011297878809274e-05\n",
      "Train loss: 0.5989 | Train precision: 0.7480 | Train recall: 0.7443 | Train f1score: 0.7459 | Train acc: 0.6786 | Train kappa: 0.4824 \n",
      "Val loss: 0.5877 | Val precision: 0.7076 | Val recall: 0.7305 | Val f1score: 0.7177 | Val acc: 0.6787 | Val kappa: 0.4137 \n",
      "\n",
      "Epoch: 18 \n",
      "Learning rate: 3.758473409106956e-05\n",
      "Train loss: 0.5873 | Train precision: 0.7643 | Train recall: 0.7541 | Train f1score: 0.7588 | Train acc: 0.6920 | Train kappa: 0.5052 \n",
      "Val loss: 0.5785 | Val precision: 0.7088 | Val recall: 0.7249 | Val f1score: 0.7159 | Val acc: 0.6865 | Val kappa: 0.4146 \n",
      "\n",
      "Epoch: 19 \n",
      "Learning rate: 2.818855056830217e-05\n",
      "Train loss: 0.5971 | Train precision: 0.7610 | Train recall: 0.7473 | Train f1score: 0.7538 | Train acc: 0.6806 | Train kappa: 0.4798 \n",
      "Val loss: 0.5826 | Val precision: 0.7111 | Val recall: 0.7306 | Val f1score: 0.7205 | Val acc: 0.6885 | Val kappa: 0.4235 \n",
      "\n",
      "Epoch: 20 \n",
      "Learning rate: 2.1141412926226628e-05\n",
      "Train loss: 0.5879 | Train precision: 0.7687 | Train recall: 0.7576 | Train f1score: 0.7630 | Train acc: 0.6860 | Train kappa: 0.4988 \n",
      "Val loss: 0.5826 | Val precision: 0.7120 | Val recall: 0.7301 | Val f1score: 0.7205 | Val acc: 0.6904 | Val kappa: 0.4248 \n",
      "\n",
      "Epoch: 21 \n",
      "Learning rate: 1.5856059694669972e-05\n",
      "Train loss: 0.5895 | Train precision: 0.7667 | Train recall: 0.7580 | Train f1score: 0.7622 | Train acc: 0.6860 | Train kappa: 0.5016 \n",
      "Val loss: 0.5811 | Val precision: 0.7126 | Val recall: 0.7301 | Val f1score: 0.7207 | Val acc: 0.6914 | Val kappa: 0.4258 \n",
      "\n",
      "Epoch: 22 \n",
      "Learning rate: 1.1892044771002478e-05\n",
      "Train loss: 0.5922 | Train precision: 0.7557 | Train recall: 0.7516 | Train f1score: 0.7536 | Train acc: 0.6824 | Train kappa: 0.4941 \n",
      "Val loss: 0.5803 | Val precision: 0.7098 | Val recall: 0.7273 | Val f1score: 0.7180 | Val acc: 0.6875 | Val kappa: 0.4186 \n",
      "\n",
      "Epoch: 23 \n",
      "Learning rate: 8.919033578251859e-06\n",
      "Train loss: 0.5949 | Train precision: 0.7582 | Train recall: 0.7476 | Train f1score: 0.7528 | Train acc: 0.6811 | Train kappa: 0.4914 \n",
      "Val loss: 0.5811 | Val precision: 0.7110 | Val recall: 0.7303 | Val f1score: 0.7203 | Val acc: 0.6885 | Val kappa: 0.4232 \n",
      "\n",
      "Epoch: 24 \n",
      "Learning rate: 6.6892751836888935e-06\n",
      "Train loss: 0.5922 | Train precision: 0.7606 | Train recall: 0.7450 | Train f1score: 0.7524 | Train acc: 0.6851 | Train kappa: 0.4951 \n",
      "Val loss: 0.5805 | Val precision: 0.7115 | Val recall: 0.7301 | Val f1score: 0.7203 | Val acc: 0.6895 | Val kappa: 0.4238 \n",
      "\n",
      "Epoch: 25 \n",
      "Learning rate: 5.01695638776667e-06\n",
      "Train loss: 0.5953 | Train precision: 0.7518 | Train recall: 0.7474 | Train f1score: 0.7494 | Train acc: 0.6816 | Train kappa: 0.4805 \n",
      "Val loss: 0.5822 | Val precision: 0.7072 | Val recall: 0.7281 | Val f1score: 0.7172 | Val acc: 0.6816 | Val kappa: 0.4137 \n",
      "\n",
      "Epoch: 26 \n",
      "Learning rate: 3.7627172908250023e-06\n",
      "Train loss: 0.6001 | Train precision: 0.7560 | Train recall: 0.7433 | Train f1score: 0.7493 | Train acc: 0.6790 | Train kappa: 0.4932 \n",
      "Val loss: 0.5811 | Val precision: 0.7125 | Val recall: 0.7320 | Val f1score: 0.7218 | Val acc: 0.6904 | Val kappa: 0.4271 \n",
      "\n",
      "Epoch: 27 \n",
      "Learning rate: 2.822037968118752e-06\n",
      "Train loss: 0.5946 | Train precision: 0.7686 | Train recall: 0.7518 | Train f1score: 0.7599 | Train acc: 0.6853 | Train kappa: 0.5042 \n",
      "Val loss: 0.5802 | Val precision: 0.7344 | Val recall: 0.7269 | Val f1score: 0.7288 | Val acc: 0.6943 | Val kappa: 0.4225 \n",
      "\n"
     ]
    },
    {
     "name": "stdout",
     "output_type": "stream",
     "text": [
      "Epoch: 28 \n",
      "Learning rate: 2.1165284760890638e-06\n",
      "Train loss: 0.5938 | Train precision: 0.7565 | Train recall: 0.7535 | Train f1score: 0.7547 | Train acc: 0.6816 | Train kappa: 0.4852 \n",
      "Val loss: 0.5805 | Val precision: 0.7097 | Val recall: 0.7271 | Val f1score: 0.7177 | Val acc: 0.6875 | Val kappa: 0.4182 \n",
      "\n",
      "Epoch: 29 \n",
      "Learning rate: 1.587396357066798e-06\n",
      "Train loss: 0.5969 | Train precision: 0.7567 | Train recall: 0.7400 | Train f1score: 0.7481 | Train acc: 0.6774 | Train kappa: 0.4771 \n",
      "Val loss: 0.5815 | Val precision: 0.7099 | Val recall: 0.7298 | Val f1score: 0.7195 | Val acc: 0.6865 | Val kappa: 0.4205 \n",
      "\n",
      "Epoch: 30 \n",
      "Learning rate: 1.1905472678000983e-06\n",
      "Train loss: 0.5957 | Train precision: 0.7572 | Train recall: 0.7516 | Train f1score: 0.7543 | Train acc: 0.6801 | Train kappa: 0.4853 \n",
      "Val loss: 0.5814 | Val precision: 0.7115 | Val recall: 0.7303 | Val f1score: 0.7205 | Val acc: 0.6895 | Val kappa: 0.4242 \n",
      "\n",
      "Epoch: 31 \n",
      "Learning rate: 8.929104508500738e-07\n",
      "Train loss: 0.5966 | Train precision: 0.7562 | Train recall: 0.7494 | Train f1score: 0.7527 | Train acc: 0.6779 | Train kappa: 0.4769 \n",
      "Val loss: 0.5825 | Val precision: 0.7071 | Val recall: 0.7278 | Val f1score: 0.7170 | Val acc: 0.6816 | Val kappa: 0.4133 \n",
      "\n",
      "Epoch: 32 \n",
      "Learning rate: 6.696828381375553e-07\n",
      "Train loss: 0.5965 | Train precision: 0.7596 | Train recall: 0.7533 | Train f1score: 0.7562 | Train acc: 0.6783 | Train kappa: 0.4843 \n",
      "Val loss: 0.5827 | Val precision: 0.7078 | Val recall: 0.7286 | Val f1score: 0.7178 | Val acc: 0.6826 | Val kappa: 0.4153 \n",
      "\n",
      "Epoch: 33 \n",
      "Learning rate: 5.022621286031665e-07\n",
      "Train loss: 0.5894 | Train precision: 0.7563 | Train recall: 0.7608 | Train f1score: 0.7583 | Train acc: 0.6853 | Train kappa: 0.5005 \n",
      "Val loss: 0.5811 | Val precision: 0.7102 | Val recall: 0.7290 | Val f1score: 0.7191 | Val acc: 0.6875 | Val kappa: 0.4206 \n",
      "\n",
      "Epoch: 34 \n",
      "Learning rate: 3.766965964523749e-07\n",
      "Train loss: 0.5931 | Train precision: 0.7600 | Train recall: 0.7501 | Train f1score: 0.7550 | Train acc: 0.6822 | Train kappa: 0.4935 \n",
      "Val loss: 0.5807 | Val precision: 0.7098 | Val recall: 0.7276 | Val f1score: 0.7182 | Val acc: 0.6875 | Val kappa: 0.4189 \n",
      "\n",
      "Epoch: 35 \n",
      "Learning rate: 2.8252244733928117e-07\n",
      "Train loss: 0.5908 | Train precision: 0.7593 | Train recall: 0.7613 | Train f1score: 0.7603 | Train acc: 0.6869 | Train kappa: 0.4991 \n",
      "Val loss: 0.5807 | Val precision: 0.7345 | Val recall: 0.7263 | Val f1score: 0.7283 | Val acc: 0.6943 | Val kappa: 0.4218 \n",
      "\n",
      "Epoch: 36 \n",
      "Learning rate: 2.1189183550446086e-07\n",
      "Train loss: 0.5900 | Train precision: 0.7660 | Train recall: 0.7475 | Train f1score: 0.7564 | Train acc: 0.6857 | Train kappa: 0.4953 \n",
      "Val loss: 0.5819 | Val precision: 0.7082 | Val recall: 0.7273 | Val f1score: 0.7174 | Val acc: 0.6846 | Val kappa: 0.4156 \n",
      "\n",
      "Epoch: 37 \n",
      "Learning rate: 1.5891887662834566e-07\n",
      "Train loss: 0.5968 | Train precision: 0.7622 | Train recall: 0.7472 | Train f1score: 0.7544 | Train acc: 0.6821 | Train kappa: 0.4914 \n",
      "Val loss: 0.5821 | Val precision: 0.7078 | Val recall: 0.7286 | Val f1score: 0.7178 | Val acc: 0.6826 | Val kappa: 0.4153 \n",
      "\n",
      "Early stopping after epoch 37\n"
     ]
    },
    {
     "data": {
      "text/html": [
       "Waiting for W&B process to finish... <strong style=\"color:green\">(success).</strong>"
      ],
      "text/plain": [
       "<IPython.core.display.HTML object>"
      ]
     },
     "metadata": {},
     "output_type": "display_data"
    },
    {
     "data": {
      "application/vnd.jupyter.widget-view+json": {
       "model_id": "4352df8ba2ee4b9b9189ac09cabca53f",
       "version_major": 2,
       "version_minor": 0
      },
      "text/plain": [
       "VBox(children=(Label(value='0.001 MB of 0.001 MB uploaded (0.000 MB deduped)\\r'), FloatProgress(value=1.0, max…"
      ]
     },
     "metadata": {},
     "output_type": "display_data"
    },
    {
     "data": {
      "text/html": [
       "<style>\n",
       "    table.wandb td:nth-child(1) { padding: 0 10px; text-align: left ; width: auto;} td:nth-child(2) {text-align: left ; width: 100%}\n",
       "    .wandb-row { display: flex; flex-direction: row; flex-wrap: wrap; justify-content: flex-start; width: 100% }\n",
       "    .wandb-col { display: flex; flex-direction: column; flex-basis: 100%; flex: 1; padding: 10px; }\n",
       "    </style>\n",
       "<div class=\"wandb-row\"><div class=\"wandb-col\"><h3>Run history:</h3><br/><table class=\"wandb\"><tr><td>learning_rate</td><td>█▆▅▄▃▃▂▂▂▂▁▁▁▁▁▁▁▁▁▁▁▁▁▁▁▁▁▁▁▁▁▁▁▁▁▁▁</td></tr><tr><td>train_f1_score</td><td>▁▅▆▇▇▇▇▇█████████████████████████████</td></tr><tr><td>train_loss</td><td>█▅▄▃▂▃▂▂▂▂▁▁▁▁▁▁▁▁▁▁▁▁▁▁▁▁▁▁▁▁▁▁▁▁▁▁▁</td></tr><tr><td>val_f1_score</td><td>▁▄▇▆▇▇▇██████████████████████████████</td></tr><tr><td>val_loss</td><td>█▁▁▁▁▁▁▁▁▁▁▁▁▁▁▁▁▁▁▁▁▁▁▁▁▁▁▁▁▁▁▁▁▁▁▁▁</td></tr></table><br/></div><div class=\"wandb-col\"><h3>Run summary:</h3><br/><table class=\"wandb\"><tr><td>learning_rate</td><td>0.0</td></tr><tr><td>train_f1_score</td><td>0.75443</td></tr><tr><td>train_loss</td><td>0.59677</td></tr><tr><td>val_f1_score</td><td>0.71777</td></tr><tr><td>val_loss</td><td>0.58205</td></tr></table><br/></div></div>"
      ],
      "text/plain": [
       "<IPython.core.display.HTML object>"
      ]
     },
     "metadata": {},
     "output_type": "display_data"
    },
    {
     "data": {
      "text/html": [
       " View run <strong style=\"color:#cdcd00\">fold_3_new_classes_lr005</strong> at: <a href='https://wandb.ai/simon-ecke/wze-uav/runs/nmmkiedp' target=\"_blank\">https://wandb.ai/simon-ecke/wze-uav/runs/nmmkiedp</a><br/>Synced 5 W&B file(s), 0 media file(s), 0 artifact file(s) and 0 other file(s)"
      ],
      "text/plain": [
       "<IPython.core.display.HTML object>"
      ]
     },
     "metadata": {},
     "output_type": "display_data"
    },
    {
     "data": {
      "text/html": [
       "Find logs at: <code>.\\wandb\\run-20230416_152242-nmmkiedp\\logs</code>"
      ],
      "text/plain": [
       "<IPython.core.display.HTML object>"
      ]
     },
     "metadata": {},
     "output_type": "display_data"
    },
    {
     "name": "stdout",
     "output_type": "stream",
     "text": [
      "Deleting variables and emptying cache\n",
      "Memory allocated: 1055169536 bytes\n",
      "--------------------------------------------------\n",
      "\n"
     ]
    },
    {
     "data": {
      "text/html": [
       "Tracking run with wandb version 0.14.2"
      ],
      "text/plain": [
       "<IPython.core.display.HTML object>"
      ]
     },
     "metadata": {},
     "output_type": "display_data"
    },
    {
     "data": {
      "text/html": [
       "Run data is saved locally in <code>C:\\Users\\lwfeckesim\\01_PyTorch\\wze-uav\\wze-uav-master\\wandb\\run-20230416_184151-599cm8xk</code>"
      ],
      "text/plain": [
       "<IPython.core.display.HTML object>"
      ]
     },
     "metadata": {},
     "output_type": "display_data"
    },
    {
     "data": {
      "text/html": [
       "Syncing run <strong><a href='https://wandb.ai/simon-ecke/wze-uav/runs/599cm8xk' target=\"_blank\">fold_4_new_classes_lr005</a></strong> to <a href='https://wandb.ai/simon-ecke/wze-uav' target=\"_blank\">Weights & Biases</a> (<a href='https://wandb.me/run' target=\"_blank\">docs</a>)<br/>"
      ],
      "text/plain": [
       "<IPython.core.display.HTML object>"
      ]
     },
     "metadata": {},
     "output_type": "display_data"
    },
    {
     "data": {
      "text/html": [
       " View project at <a href='https://wandb.ai/simon-ecke/wze-uav' target=\"_blank\">https://wandb.ai/simon-ecke/wze-uav</a>"
      ],
      "text/plain": [
       "<IPython.core.display.HTML object>"
      ]
     },
     "metadata": {},
     "output_type": "display_data"
    },
    {
     "data": {
      "text/html": [
       " View run at <a href='https://wandb.ai/simon-ecke/wze-uav/runs/599cm8xk' target=\"_blank\">https://wandb.ai/simon-ecke/wze-uav/runs/599cm8xk</a>"
      ],
      "text/plain": [
       "<IPython.core.display.HTML object>"
      ]
     },
     "metadata": {},
     "output_type": "display_data"
    },
    {
     "name": "stdout",
     "output_type": "stream",
     "text": [
      "Check shapes:\n",
      "\n",
      "Images train dataset: (12498, 250, 250, 4)\n",
      "Labels train dataset: (12498, 1)\n",
      "\n",
      "Images validation dataset: (1065, 250, 250, 4)\n",
      "Labels validation dataset: (1065, 1)\n",
      "\n",
      "--------------------------------------------------\n",
      "Check if the split was stratified: (random_state=42)\n",
      "Healthy trees in train dataset: 7407\n",
      "Stressed trees in train dataset: 4870\n",
      "Dead trees in train dataset: 221\n",
      "Healthy trees in validation dataset: 620\n",
      "Stressed trees in validation dataset: 431\n",
      "Dead trees in validation dataset: 14\n",
      "Ratio health trees in validation dataset: 0.067157712305026\n",
      "Ratio stressed trees in validation dataset: 0.06989944858903666\n",
      "Ratio dead trees in validation dataset: 0.05363984674329502\n",
      "--------------------------------------------------\n",
      "\n",
      "Creating datasets for fold: 4\n",
      "\n",
      "Creating dataloaders for fold: 4\n",
      "\n",
      "Loaded pretrained weights for efficientnet-b7\n",
      "\n",
      "[INFO] Fold number: 4\n",
      "[INFO] Number of epochs: 50\n",
      "[INFO] Batch_size: 32\n",
      "[INFO] Number of bands: 4\n",
      "[INFO] Dropout rate: 0.5\n",
      "[INFO] Gamma learning rate: 0.75\n",
      "[INFO] Memory allocated: 0 bytes\n"
     ]
    },
    {
     "data": {
      "application/vnd.jupyter.widget-view+json": {
       "model_id": "d22be9a3107f4ef788226149973f6722",
       "version_major": 2,
       "version_minor": 0
      },
      "text/plain": [
       "  0%|          | 0/50 [00:00<?, ?it/s]"
      ]
     },
     "metadata": {},
     "output_type": "display_data"
    },
    {
     "name": "stdout",
     "output_type": "stream",
     "text": [
      "Epoch: 1 \n",
      "Learning rate: 0.005\n",
      "Train loss: 0.8184 | Train precision: 0.5209 | Train recall: 0.4203 | Train f1score: 0.4463 | Train acc: 0.5181 | Train kappa: 0.1098 \n",
      "Val loss: 0.9000 | Val precision: 0.1355 | Val recall: 0.3326 | Val f1score: 0.1926 | Val acc: 0.4062 | Val kappa: -0.0018 \n",
      "\n",
      "Epoch: 2 \n",
      "Learning rate: 0.00375\n",
      "Train loss: 0.7032 | Train precision: 0.6380 | Train recall: 0.6167 | Train f1score: 0.6264 | Train acc: 0.6006 | Train kappa: 0.3502 \n",
      "Val loss: 0.6714 | Val precision: 0.6626 | Val recall: 0.5681 | Val f1score: 0.5542 | Val acc: 0.6316 | Val kappa: 0.2357 \n",
      "\n",
      "Epoch: 3 \n",
      "Learning rate: 0.0028125\n",
      "Train loss: 0.6698 | Train precision: 0.6704 | Train recall: 0.6600 | Train f1score: 0.6650 | Train acc: 0.6251 | Train kappa: 0.3997 \n",
      "Val loss: 0.7278 | Val precision: 0.7721 | Val recall: 0.5238 | Val f1score: 0.5232 | Val acc: 0.6127 | Val kappa: 0.1902 \n",
      "\n",
      "Epoch: 4 \n",
      "Learning rate: 0.002109375\n",
      "Train loss: 0.6571 | Train precision: 0.6882 | Train recall: 0.6817 | Train f1score: 0.6844 | Train acc: 0.6341 | Train kappa: 0.3997 \n",
      "Val loss: 0.7195 | Val precision: 0.5695 | Val recall: 0.5971 | Val f1score: 0.5686 | Val acc: 0.5218 | Val kappa: 0.1618 \n",
      "\n",
      "Epoch: 5 \n",
      "Learning rate: 0.00158203125\n",
      "Train loss: 0.6400 | Train precision: 0.7229 | Train recall: 0.7131 | Train f1score: 0.7175 | Train acc: 0.6573 | Train kappa: 0.4573 \n",
      "Val loss: 0.6266 | Val precision: 0.7467 | Val recall: 0.7039 | Val f1score: 0.7109 | Val acc: 0.6458 | Val kappa: 0.3701 \n",
      "\n",
      "Epoch: 6 \n",
      "Learning rate: 0.0011865234375\n",
      "Train loss: 0.6329 | Train precision: 0.7220 | Train recall: 0.7063 | Train f1score: 0.7139 | Train acc: 0.6549 | Train kappa: 0.4497 \n",
      "Val loss: 0.6125 | Val precision: 0.6566 | Val recall: 0.7646 | Val f1score: 0.6995 | Val acc: 0.6629 | Val kappa: 0.3862 \n",
      "\n",
      "Epoch: 7 \n",
      "Learning rate: 0.0008898925781250001\n",
      "Train loss: 0.6274 | Train precision: 0.7315 | Train recall: 0.7170 | Train f1score: 0.7237 | Train acc: 0.6534 | Train kappa: 0.4415 \n",
      "Val loss: 0.6193 | Val precision: 0.6482 | Val recall: 0.7751 | Val f1score: 0.6958 | Val acc: 0.6771 | Val kappa: 0.4220 \n",
      "\n",
      "Epoch: 8 \n",
      "Learning rate: 0.0006674194335937501\n",
      "Train loss: 0.6158 | Train precision: 0.7435 | Train recall: 0.7278 | Train f1score: 0.7352 | Train acc: 0.6682 | Train kappa: 0.4697 \n",
      "Val loss: 0.6083 | Val precision: 0.6865 | Val recall: 0.7749 | Val f1score: 0.7176 | Val acc: 0.6562 | Val kappa: 0.3874 \n",
      "\n",
      "Epoch: 9 \n",
      "Learning rate: 0.0005005645751953126\n",
      "Train loss: 0.6164 | Train precision: 0.7371 | Train recall: 0.7274 | Train f1score: 0.7318 | Train acc: 0.6670 | Train kappa: 0.4663 \n",
      "Val loss: 0.6171 | Val precision: 0.6588 | Val recall: 0.7729 | Val f1score: 0.7016 | Val acc: 0.6809 | Val kappa: 0.4158 \n",
      "\n",
      "Epoch: 10 \n",
      "Learning rate: 0.00037542343139648445\n",
      "Train loss: 0.6083 | Train precision: 0.7518 | Train recall: 0.7369 | Train f1score: 0.7440 | Train acc: 0.6763 | Train kappa: 0.4834 \n",
      "Val loss: 0.5988 | Val precision: 0.7299 | Val recall: 0.7526 | Val f1score: 0.7399 | Val acc: 0.6705 | Val kappa: 0.4034 \n",
      "\n",
      "Epoch: 11 \n",
      "Learning rate: 0.00028156757354736334\n",
      "Train loss: 0.6088 | Train precision: 0.7498 | Train recall: 0.7372 | Train f1score: 0.7430 | Train acc: 0.6724 | Train kappa: 0.4741 \n",
      "Val loss: 0.6053 | Val precision: 0.6689 | Val recall: 0.7782 | Val f1score: 0.7123 | Val acc: 0.6790 | Val kappa: 0.4178 \n",
      "\n",
      "Epoch: 12 \n",
      "Learning rate: 0.0002111756801605225\n",
      "Train loss: 0.5994 | Train precision: 0.7472 | Train recall: 0.7457 | Train f1score: 0.7463 | Train acc: 0.6790 | Train kappa: 0.4792 \n",
      "Val loss: 0.6063 | Val precision: 0.7008 | Val recall: 0.7756 | Val f1score: 0.7326 | Val acc: 0.6705 | Val kappa: 0.4100 \n",
      "\n",
      "Epoch: 13 \n",
      "Learning rate: 0.00015838176012039187\n",
      "Train loss: 0.6017 | Train precision: 0.7446 | Train recall: 0.7349 | Train f1score: 0.7395 | Train acc: 0.6760 | Train kappa: 0.4777 \n",
      "Val loss: 0.6033 | Val precision: 0.7003 | Val recall: 0.7750 | Val f1score: 0.7323 | Val acc: 0.6705 | Val kappa: 0.4040 \n",
      "\n",
      "Epoch: 14 \n",
      "Learning rate: 0.00011878632009029391\n",
      "Train loss: 0.5998 | Train precision: 0.7482 | Train recall: 0.7343 | Train f1score: 0.7409 | Train acc: 0.6730 | Train kappa: 0.4840 \n",
      "Val loss: 0.6161 | Val precision: 0.7155 | Val recall: 0.7743 | Val f1score: 0.7315 | Val acc: 0.6496 | Val kappa: 0.3810 \n",
      "\n",
      "Epoch: 15 \n",
      "Learning rate: 8.908974006772043e-05\n",
      "Train loss: 0.5963 | Train precision: 0.7468 | Train recall: 0.7441 | Train f1score: 0.7454 | Train acc: 0.6765 | Train kappa: 0.4856 \n",
      "Val loss: 0.6167 | Val precision: 0.7035 | Val recall: 0.7783 | Val f1score: 0.7284 | Val acc: 0.6591 | Val kappa: 0.3918 \n",
      "\n",
      "Epoch: 16 \n",
      "Learning rate: 6.681730505079033e-05\n",
      "Train loss: 0.5968 | Train precision: 0.7522 | Train recall: 0.7491 | Train f1score: 0.7503 | Train acc: 0.6779 | Train kappa: 0.4807 \n",
      "Val loss: 0.6063 | Val precision: 0.7096 | Val recall: 0.7854 | Val f1score: 0.7401 | Val acc: 0.6790 | Val kappa: 0.4244 \n",
      "\n",
      "Epoch: 17 \n",
      "Learning rate: 5.011297878809274e-05\n",
      "Train loss: 0.6009 | Train precision: 0.7469 | Train recall: 0.7409 | Train f1score: 0.7438 | Train acc: 0.6763 | Train kappa: 0.4829 \n",
      "Val loss: 0.6064 | Val precision: 0.7065 | Val recall: 0.7822 | Val f1score: 0.7370 | Val acc: 0.6742 | Val kappa: 0.4161 \n",
      "\n",
      "Epoch: 18 \n",
      "Learning rate: 3.758473409106956e-05\n",
      "Train loss: 0.5975 | Train precision: 0.7478 | Train recall: 0.7387 | Train f1score: 0.7430 | Train acc: 0.6736 | Train kappa: 0.4669 \n",
      "Val loss: 0.6118 | Val precision: 0.6995 | Val recall: 0.7747 | Val f1score: 0.7267 | Val acc: 0.6572 | Val kappa: 0.3909 \n",
      "\n",
      "Epoch: 19 \n",
      "Learning rate: 2.818855056830217e-05\n",
      "Train loss: 0.6008 | Train precision: 0.7476 | Train recall: 0.7403 | Train f1score: 0.7437 | Train acc: 0.6749 | Train kappa: 0.4926 \n",
      "Val loss: 0.6118 | Val precision: 0.7018 | Val recall: 0.7770 | Val f1score: 0.7287 | Val acc: 0.6600 | Val kappa: 0.3964 \n",
      "\n",
      "Epoch: 20 \n",
      "Learning rate: 2.1141412926226628e-05\n",
      "Train loss: 0.5982 | Train precision: 0.7476 | Train recall: 0.7462 | Train f1score: 0.7467 | Train acc: 0.6796 | Train kappa: 0.4910 \n",
      "Val loss: 0.6066 | Val precision: 0.7011 | Val recall: 0.7767 | Val f1score: 0.7304 | Val acc: 0.6638 | Val kappa: 0.3996 \n",
      "\n",
      "Epoch: 21 \n",
      "Learning rate: 1.5856059694669972e-05\n",
      "Train loss: 0.5863 | Train precision: 0.7632 | Train recall: 0.7570 | Train f1score: 0.7600 | Train acc: 0.6877 | Train kappa: 0.5002 \n",
      "Val loss: 0.6121 | Val precision: 0.7054 | Val recall: 0.7808 | Val f1score: 0.7325 | Val acc: 0.6657 | Val kappa: 0.4061 \n",
      "\n",
      "Epoch: 22 \n",
      "Learning rate: 1.1892044771002478e-05\n",
      "Train loss: 0.5895 | Train precision: 0.7557 | Train recall: 0.7549 | Train f1score: 0.7551 | Train acc: 0.6857 | Train kappa: 0.5021 \n",
      "Val loss: 0.6149 | Val precision: 0.7074 | Val recall: 0.7825 | Val f1score: 0.7334 | Val acc: 0.6667 | Val kappa: 0.4089 \n",
      "\n",
      "Epoch: 23 \n",
      "Learning rate: 8.919033578251859e-06\n",
      "Train loss: 0.5960 | Train precision: 0.7530 | Train recall: 0.7417 | Train f1score: 0.7470 | Train acc: 0.6794 | Train kappa: 0.4884 \n",
      "Val loss: 0.6139 | Val precision: 0.6932 | Val recall: 0.7818 | Val f1score: 0.7246 | Val acc: 0.6667 | Val kappa: 0.4053 \n",
      "\n",
      "Epoch: 24 \n",
      "Learning rate: 6.6892751836888935e-06\n",
      "Train loss: 0.6019 | Train precision: 0.7372 | Train recall: 0.7468 | Train f1score: 0.7418 | Train acc: 0.6755 | Train kappa: 0.4728 \n",
      "Val loss: 0.6101 | Val precision: 0.6895 | Val recall: 0.7784 | Val f1score: 0.7228 | Val acc: 0.6648 | Val kappa: 0.3996 \n",
      "\n",
      "Epoch: 25 \n",
      "Learning rate: 5.01695638776667e-06\n",
      "Train loss: 0.5925 | Train precision: 0.7430 | Train recall: 0.7525 | Train f1score: 0.7475 | Train acc: 0.6786 | Train kappa: 0.4841 \n",
      "Val loss: 0.6099 | Val precision: 0.7054 | Val recall: 0.7809 | Val f1score: 0.7335 | Val acc: 0.6676 | Val kappa: 0.4081 \n",
      "\n",
      "Epoch: 26 \n",
      "Learning rate: 3.7627172908250023e-06\n",
      "Train loss: 0.5911 | Train precision: 0.7495 | Train recall: 0.7513 | Train f1score: 0.7503 | Train acc: 0.6828 | Train kappa: 0.4916 \n",
      "Val loss: 0.6107 | Val precision: 0.7054 | Val recall: 0.7809 | Val f1score: 0.7335 | Val acc: 0.6676 | Val kappa: 0.4081 \n",
      "\n",
      "Early stopping after epoch 26\n"
     ]
    },
    {
     "data": {
      "text/html": [
       "Waiting for W&B process to finish... <strong style=\"color:green\">(success).</strong>"
      ],
      "text/plain": [
       "<IPython.core.display.HTML object>"
      ]
     },
     "metadata": {},
     "output_type": "display_data"
    },
    {
     "data": {
      "application/vnd.jupyter.widget-view+json": {
       "model_id": "b5561898569b48d0be7607cd0490e0d0",
       "version_major": 2,
       "version_minor": 0
      },
      "text/plain": [
       "VBox(children=(Label(value='0.001 MB of 0.013 MB uploaded (0.000 MB deduped)\\r'), FloatProgress(value=0.095444…"
      ]
     },
     "metadata": {},
     "output_type": "display_data"
    },
    {
     "data": {
      "text/html": [
       "<style>\n",
       "    table.wandb td:nth-child(1) { padding: 0 10px; text-align: left ; width: auto;} td:nth-child(2) {text-align: left ; width: 100%}\n",
       "    .wandb-row { display: flex; flex-direction: row; flex-wrap: wrap; justify-content: flex-start; width: 100% }\n",
       "    .wandb-col { display: flex; flex-direction: column; flex-basis: 100%; flex: 1; padding: 10px; }\n",
       "    </style>\n",
       "<div class=\"wandb-row\"><div class=\"wandb-col\"><h3>Run history:</h3><br/><table class=\"wandb\"><tr><td>learning_rate</td><td>█▆▅▄▃▃▂▂▂▂▁▁▁▁▁▁▁▁▁▁▁▁▁▁▁▁</td></tr><tr><td>train_f1_score</td><td>▁▅▆▆▇▇▇▇▇█████████████████</td></tr><tr><td>train_loss</td><td>█▅▄▃▃▂▂▂▂▂▂▁▁▁▁▁▁▁▁▁▁▁▁▁▁▁</td></tr><tr><td>val_f1_score</td><td>▁▆▅▆█▇▇███████████████████</td></tr><tr><td>val_loss</td><td>█▃▄▄▂▁▁▁▁▁▁▁▁▁▁▁▁▁▁▁▁▁▁▁▁▁</td></tr></table><br/></div><div class=\"wandb-col\"><h3>Run summary:</h3><br/><table class=\"wandb\"><tr><td>learning_rate</td><td>0.0</td></tr><tr><td>train_f1_score</td><td>0.75028</td></tr><tr><td>train_loss</td><td>0.59111</td></tr><tr><td>val_f1_score</td><td>0.73349</td></tr><tr><td>val_loss</td><td>0.61067</td></tr></table><br/></div></div>"
      ],
      "text/plain": [
       "<IPython.core.display.HTML object>"
      ]
     },
     "metadata": {},
     "output_type": "display_data"
    },
    {
     "data": {
      "text/html": [
       " View run <strong style=\"color:#cdcd00\">fold_4_new_classes_lr005</strong> at: <a href='https://wandb.ai/simon-ecke/wze-uav/runs/599cm8xk' target=\"_blank\">https://wandb.ai/simon-ecke/wze-uav/runs/599cm8xk</a><br/>Synced 5 W&B file(s), 0 media file(s), 0 artifact file(s) and 0 other file(s)"
      ],
      "text/plain": [
       "<IPython.core.display.HTML object>"
      ]
     },
     "metadata": {},
     "output_type": "display_data"
    },
    {
     "data": {
      "text/html": [
       "Find logs at: <code>.\\wandb\\run-20230416_184151-599cm8xk\\logs</code>"
      ],
      "text/plain": [
       "<IPython.core.display.HTML object>"
      ]
     },
     "metadata": {},
     "output_type": "display_data"
    },
    {
     "name": "stdout",
     "output_type": "stream",
     "text": [
      "Deleting variables and emptying cache\n",
      "Memory allocated: 1056959488 bytes\n",
      "--------------------------------------------------\n",
      "\n"
     ]
    },
    {
     "data": {
      "text/html": [
       "Tracking run with wandb version 0.14.2"
      ],
      "text/plain": [
       "<IPython.core.display.HTML object>"
      ]
     },
     "metadata": {},
     "output_type": "display_data"
    },
    {
     "data": {
      "text/html": [
       "Run data is saved locally in <code>C:\\Users\\lwfeckesim\\01_PyTorch\\wze-uav\\wze-uav-master\\wandb\\run-20230416_210055-fyn2oqqv</code>"
      ],
      "text/plain": [
       "<IPython.core.display.HTML object>"
      ]
     },
     "metadata": {},
     "output_type": "display_data"
    },
    {
     "data": {
      "text/html": [
       "Syncing run <strong><a href='https://wandb.ai/simon-ecke/wze-uav/runs/fyn2oqqv' target=\"_blank\">fold_5_new_classes_lr005</a></strong> to <a href='https://wandb.ai/simon-ecke/wze-uav' target=\"_blank\">Weights & Biases</a> (<a href='https://wandb.me/run' target=\"_blank\">docs</a>)<br/>"
      ],
      "text/plain": [
       "<IPython.core.display.HTML object>"
      ]
     },
     "metadata": {},
     "output_type": "display_data"
    },
    {
     "data": {
      "text/html": [
       " View project at <a href='https://wandb.ai/simon-ecke/wze-uav' target=\"_blank\">https://wandb.ai/simon-ecke/wze-uav</a>"
      ],
      "text/plain": [
       "<IPython.core.display.HTML object>"
      ]
     },
     "metadata": {},
     "output_type": "display_data"
    },
    {
     "data": {
      "text/html": [
       " View run at <a href='https://wandb.ai/simon-ecke/wze-uav/runs/fyn2oqqv' target=\"_blank\">https://wandb.ai/simon-ecke/wze-uav/runs/fyn2oqqv</a>"
      ],
      "text/plain": [
       "<IPython.core.display.HTML object>"
      ]
     },
     "metadata": {},
     "output_type": "display_data"
    },
    {
     "name": "stdout",
     "output_type": "stream",
     "text": [
      "Check shapes:\n",
      "\n",
      "Images train dataset: (12522, 250, 250, 4)\n",
      "Labels train dataset: (12522, 1)\n",
      "\n",
      "Images validation dataset: (1040, 250, 250, 4)\n",
      "Labels validation dataset: (1040, 1)\n",
      "\n",
      "--------------------------------------------------\n",
      "Check if the split was stratified: (random_state=42)\n",
      "Healthy trees in train dataset: 7369\n",
      "Stressed trees in train dataset: 4954\n",
      "Dead trees in train dataset: 199\n",
      "Healthy trees in validation dataset: 618\n",
      "Stressed trees in validation dataset: 401\n",
      "Dead trees in validation dataset: 21\n",
      "Ratio health trees in validation dataset: 0.06694107452339688\n",
      "Ratio stressed trees in validation dataset: 0.06503405773597146\n",
      "Ratio dead trees in validation dataset: 0.08045977011494253\n",
      "--------------------------------------------------\n",
      "\n",
      "Creating datasets for fold: 5\n",
      "\n",
      "Creating dataloaders for fold: 5\n",
      "\n",
      "Loaded pretrained weights for efficientnet-b7\n",
      "\n",
      "[INFO] Fold number: 5\n",
      "[INFO] Number of epochs: 50\n",
      "[INFO] Batch_size: 32\n",
      "[INFO] Number of bands: 4\n",
      "[INFO] Dropout rate: 0.5\n",
      "[INFO] Gamma learning rate: 0.75\n",
      "[INFO] Memory allocated: 0 bytes\n"
     ]
    },
    {
     "data": {
      "application/vnd.jupyter.widget-view+json": {
       "model_id": "d675094d3d2143f58492e61aac8efb14",
       "version_major": 2,
       "version_minor": 0
      },
      "text/plain": [
       "  0%|          | 0/50 [00:00<?, ?it/s]"
      ]
     },
     "metadata": {},
     "output_type": "display_data"
    },
    {
     "name": "stdout",
     "output_type": "stream",
     "text": [
      "Epoch: 1 \n",
      "Learning rate: 0.005\n",
      "Train loss: 0.8055 | Train precision: 0.5121 | Train recall: 0.4323 | Train f1score: 0.4573 | Train acc: 0.5157 | Train kappa: 0.1120 \n",
      "Val loss: 0.9765 | Val precision: 0.1969 | Val recall: 0.3509 | Val f1score: 0.2150 | Val acc: 0.3896 | Val kappa: -0.0004 \n",
      "\n",
      "Epoch: 2 \n",
      "Learning rate: 0.00375\n",
      "Train loss: 0.6937 | Train precision: 0.6683 | Train recall: 0.6347 | Train f1score: 0.6494 | Train acc: 0.6006 | Train kappa: 0.3327 \n",
      "Val loss: 0.6951 | Val precision: 0.6542 | Val recall: 0.6554 | Val f1score: 0.6544 | Val acc: 0.6035 | Val kappa: 0.2861 \n",
      "\n",
      "Epoch: 3 \n",
      "Learning rate: 0.0028125\n",
      "Train loss: 0.6533 | Train precision: 0.7017 | Train recall: 0.6934 | Train f1score: 0.6967 | Train acc: 0.6407 | Train kappa: 0.4179 \n",
      "Val loss: 0.7669 | Val precision: 0.6373 | Val recall: 0.6759 | Val f1score: 0.5869 | Val acc: 0.5098 | Val kappa: 0.2011 \n",
      "\n",
      "Epoch: 4 \n",
      "Learning rate: 0.002109375\n",
      "Train loss: 0.6366 | Train precision: 0.7130 | Train recall: 0.7180 | Train f1score: 0.7149 | Train acc: 0.6487 | Train kappa: 0.4288 \n",
      "Val loss: 0.6580 | Val precision: 0.7579 | Val recall: 0.5375 | Val f1score: 0.5878 | Val acc: 0.6514 | Val kappa: 0.3544 \n",
      "\n",
      "Epoch: 5 \n",
      "Learning rate: 0.00158203125\n",
      "Train loss: 0.6339 | Train precision: 0.7156 | Train recall: 0.7105 | Train f1score: 0.7129 | Train acc: 0.6551 | Train kappa: 0.4363 \n",
      "Val loss: 0.6907 | Val precision: 0.7421 | Val recall: 0.6754 | Val f1score: 0.6572 | Val acc: 0.5693 | Val kappa: 0.2892 \n",
      "\n",
      "Epoch: 6 \n",
      "Learning rate: 0.0011865234375\n",
      "Train loss: 0.6176 | Train precision: 0.7320 | Train recall: 0.7327 | Train f1score: 0.7314 | Train acc: 0.6622 | Train kappa: 0.4523 \n",
      "Val loss: 0.6240 | Val precision: 0.7045 | Val recall: 0.6578 | Val f1score: 0.6692 | Val acc: 0.6436 | Val kappa: 0.3311 \n",
      "\n",
      "Epoch: 7 \n",
      "Learning rate: 0.0008898925781250001\n",
      "Train loss: 0.6186 | Train precision: 0.7445 | Train recall: 0.7343 | Train f1score: 0.7387 | Train acc: 0.6691 | Train kappa: 0.4691 \n",
      "Val loss: 0.6189 | Val precision: 0.7418 | Val recall: 0.6461 | Val f1score: 0.6847 | Val acc: 0.6709 | Val kappa: 0.3944 \n",
      "\n",
      "Epoch: 8 \n",
      "Learning rate: 0.0006674194335937501\n",
      "Train loss: 0.6132 | Train precision: 0.7387 | Train recall: 0.7251 | Train f1score: 0.7310 | Train acc: 0.6662 | Train kappa: 0.4484 \n",
      "Val loss: 0.6340 | Val precision: 0.7704 | Val recall: 0.7062 | Val f1score: 0.7268 | Val acc: 0.6553 | Val kappa: 0.3986 \n",
      "\n",
      "Epoch: 9 \n",
      "Learning rate: 0.0005005645751953126\n",
      "Train loss: 0.6171 | Train precision: 0.7295 | Train recall: 0.7278 | Train f1score: 0.7285 | Train acc: 0.6621 | Train kappa: 0.4438 \n",
      "Val loss: 0.6114 | Val precision: 0.7394 | Val recall: 0.7412 | Val f1score: 0.7401 | Val acc: 0.6787 | Val kappa: 0.4276 \n",
      "\n",
      "Epoch: 10 \n",
      "Learning rate: 0.00037542343139648445\n",
      "Train loss: 0.6070 | Train precision: 0.7452 | Train recall: 0.7372 | Train f1score: 0.7405 | Train acc: 0.6730 | Train kappa: 0.4636 \n",
      "Val loss: 0.6022 | Val precision: 0.7521 | Val recall: 0.7026 | Val f1score: 0.7251 | Val acc: 0.6797 | Val kappa: 0.4223 \n",
      "\n",
      "Epoch: 11 \n",
      "Learning rate: 0.00028156757354736334\n",
      "Train loss: 0.5961 | Train precision: 0.7575 | Train recall: 0.7534 | Train f1score: 0.7552 | Train acc: 0.6824 | Train kappa: 0.4798 \n",
      "Val loss: 0.6123 | Val precision: 0.7312 | Val recall: 0.7185 | Val f1score: 0.7241 | Val acc: 0.6680 | Val kappa: 0.4082 \n",
      "\n",
      "Epoch: 12 \n",
      "Learning rate: 0.0002111756801605225\n",
      "Train loss: 0.5970 | Train precision: 0.7501 | Train recall: 0.7445 | Train f1score: 0.7471 | Train acc: 0.6777 | Train kappa: 0.4717 \n",
      "Val loss: 0.6048 | Val precision: 0.7383 | Val recall: 0.7215 | Val f1score: 0.7296 | Val acc: 0.6826 | Val kappa: 0.4266 \n",
      "\n",
      "Epoch: 13 \n",
      "Learning rate: 0.00015838176012039187\n",
      "Train loss: 0.6036 | Train precision: 0.7468 | Train recall: 0.7456 | Train f1score: 0.7459 | Train acc: 0.6808 | Train kappa: 0.4799 \n",
      "Val loss: 0.6127 | Val precision: 0.7378 | Val recall: 0.7270 | Val f1score: 0.7297 | Val acc: 0.6719 | Val kappa: 0.4211 \n",
      "\n",
      "Epoch: 14 \n",
      "Learning rate: 0.00011878632009029391\n",
      "Train loss: 0.5929 | Train precision: 0.7579 | Train recall: 0.7548 | Train f1score: 0.7551 | Train acc: 0.6838 | Train kappa: 0.4812 \n",
      "Val loss: 0.6149 | Val precision: 0.7344 | Val recall: 0.7389 | Val f1score: 0.7320 | Val acc: 0.6592 | Val kappa: 0.4053 \n",
      "\n",
      "Epoch: 15 \n",
      "Learning rate: 8.908974006772043e-05\n",
      "Train loss: 0.5944 | Train precision: 0.7510 | Train recall: 0.7487 | Train f1score: 0.7496 | Train acc: 0.6789 | Train kappa: 0.4800 \n",
      "Val loss: 0.5978 | Val precision: 0.7373 | Val recall: 0.7216 | Val f1score: 0.7292 | Val acc: 0.6807 | Val kappa: 0.4246 \n",
      "\n",
      "Epoch: 16 \n",
      "Learning rate: 6.681730505079033e-05\n",
      "Train loss: 0.5963 | Train precision: 0.7552 | Train recall: 0.7506 | Train f1score: 0.7525 | Train acc: 0.6847 | Train kappa: 0.4930 \n",
      "Val loss: 0.6086 | Val precision: 0.7398 | Val recall: 0.7293 | Val f1score: 0.7314 | Val acc: 0.6738 | Val kappa: 0.4254 \n",
      "\n",
      "Epoch: 17 \n",
      "Learning rate: 5.011297878809274e-05\n",
      "Train loss: 0.5917 | Train precision: 0.7601 | Train recall: 0.7560 | Train f1score: 0.7578 | Train acc: 0.6861 | Train kappa: 0.4828 \n",
      "Val loss: 0.6068 | Val precision: 0.7404 | Val recall: 0.7445 | Val f1score: 0.7406 | Val acc: 0.6748 | Val kappa: 0.4268 \n",
      "\n",
      "Epoch: 18 \n",
      "Learning rate: 3.758473409106956e-05\n",
      "Train loss: 0.5924 | Train precision: 0.7547 | Train recall: 0.7502 | Train f1score: 0.7521 | Train acc: 0.6804 | Train kappa: 0.4826 \n",
      "Val loss: 0.5982 | Val precision: 0.7555 | Val recall: 0.7239 | Val f1score: 0.7388 | Val acc: 0.6816 | Val kappa: 0.4311 \n",
      "\n",
      "Epoch: 19 \n",
      "Learning rate: 2.818855056830217e-05\n",
      "Train loss: 0.5916 | Train precision: 0.7647 | Train recall: 0.7516 | Train f1score: 0.7577 | Train acc: 0.6859 | Train kappa: 0.4865 \n",
      "Val loss: 0.6044 | Val precision: 0.7396 | Val recall: 0.7421 | Val f1score: 0.7403 | Val acc: 0.6777 | Val kappa: 0.4275 \n",
      "\n",
      "Epoch: 20 \n",
      "Learning rate: 2.1141412926226628e-05\n",
      "Train loss: 0.5937 | Train precision: 0.7582 | Train recall: 0.7481 | Train f1score: 0.7527 | Train acc: 0.6812 | Train kappa: 0.4789 \n",
      "Val loss: 0.6041 | Val precision: 0.7454 | Val recall: 0.7488 | Val f1score: 0.7461 | Val acc: 0.6846 | Val kappa: 0.4413 \n",
      "\n",
      "Epoch: 21 \n",
      "Learning rate: 1.5856059694669972e-05\n",
      "Train loss: 0.5926 | Train precision: 0.7477 | Train recall: 0.7508 | Train f1score: 0.7487 | Train acc: 0.6810 | Train kappa: 0.4730 \n",
      "Val loss: 0.6029 | Val precision: 0.7430 | Val recall: 0.7457 | Val f1score: 0.7438 | Val acc: 0.6826 | Val kappa: 0.4362 \n",
      "\n",
      "Epoch: 22 \n",
      "Learning rate: 1.1892044771002478e-05\n",
      "Train loss: 0.5925 | Train precision: 0.7532 | Train recall: 0.7512 | Train f1score: 0.7517 | Train acc: 0.6811 | Train kappa: 0.4784 \n",
      "Val loss: 0.6035 | Val precision: 0.7377 | Val recall: 0.7254 | Val f1score: 0.7306 | Val acc: 0.6768 | Val kappa: 0.4245 \n",
      "\n",
      "Epoch: 23 \n",
      "Learning rate: 8.919033578251859e-06\n",
      "Train loss: 0.5979 | Train precision: 0.7585 | Train recall: 0.7459 | Train f1score: 0.7518 | Train acc: 0.6825 | Train kappa: 0.4792 \n",
      "Val loss: 0.5998 | Val precision: 0.7413 | Val recall: 0.7275 | Val f1score: 0.7341 | Val acc: 0.6846 | Val kappa: 0.4348 \n",
      "\n",
      "Epoch: 24 \n",
      "Learning rate: 6.6892751836888935e-06\n",
      "Train loss: 0.5904 | Train precision: 0.7567 | Train recall: 0.7534 | Train f1score: 0.7547 | Train acc: 0.6894 | Train kappa: 0.4921 \n",
      "Val loss: 0.6011 | Val precision: 0.7388 | Val recall: 0.7259 | Val f1score: 0.7318 | Val acc: 0.6797 | Val kappa: 0.4281 \n",
      "\n",
      "Epoch: 25 \n",
      "Learning rate: 5.01695638776667e-06\n",
      "Train loss: 0.5845 | Train precision: 0.7547 | Train recall: 0.7622 | Train f1score: 0.7580 | Train acc: 0.6861 | Train kappa: 0.4916 \n",
      "Val loss: 0.6080 | Val precision: 0.7387 | Val recall: 0.7425 | Val f1score: 0.7390 | Val acc: 0.6729 | Val kappa: 0.4228 \n",
      "\n",
      "Epoch: 26 \n",
      "Learning rate: 3.7627172908250023e-06\n",
      "Train loss: 0.5912 | Train precision: 0.7580 | Train recall: 0.7535 | Train f1score: 0.7555 | Train acc: 0.6828 | Train kappa: 0.4890 \n",
      "Val loss: 0.6018 | Val precision: 0.7408 | Val recall: 0.7279 | Val f1score: 0.7337 | Val acc: 0.6826 | Val kappa: 0.4331 \n",
      "\n",
      "Epoch: 27 \n",
      "Learning rate: 2.822037968118752e-06\n",
      "Train loss: 0.5941 | Train precision: 0.7555 | Train recall: 0.7553 | Train f1score: 0.7553 | Train acc: 0.6841 | Train kappa: 0.4890 \n",
      "Val loss: 0.6014 | Val precision: 0.7423 | Val recall: 0.7295 | Val f1score: 0.7353 | Val acc: 0.6846 | Val kappa: 0.4368 \n",
      "\n"
     ]
    },
    {
     "name": "stdout",
     "output_type": "stream",
     "text": [
      "Epoch: 28 \n",
      "Learning rate: 2.1165284760890638e-06\n",
      "Train loss: 0.5890 | Train precision: 0.7562 | Train recall: 0.7439 | Train f1score: 0.7498 | Train acc: 0.6817 | Train kappa: 0.4778 \n",
      "Val loss: 0.6016 | Val precision: 0.7411 | Val recall: 0.7284 | Val f1score: 0.7341 | Val acc: 0.6826 | Val kappa: 0.4337 \n",
      "\n",
      "Epoch: 29 \n",
      "Learning rate: 1.587396357066798e-06\n",
      "Train loss: 0.5919 | Train precision: 0.7542 | Train recall: 0.7490 | Train f1score: 0.7514 | Train acc: 0.6745 | Train kappa: 0.4614 \n",
      "Val loss: 0.6067 | Val precision: 0.7409 | Val recall: 0.7447 | Val f1score: 0.7414 | Val acc: 0.6768 | Val kappa: 0.4291 \n",
      "\n",
      "Epoch: 30 \n",
      "Learning rate: 1.1905472678000983e-06\n",
      "Train loss: 0.5885 | Train precision: 0.7608 | Train recall: 0.7542 | Train f1score: 0.7571 | Train acc: 0.6847 | Train kappa: 0.4935 \n",
      "Val loss: 0.6046 | Val precision: 0.7407 | Val recall: 0.7288 | Val f1score: 0.7336 | Val acc: 0.6807 | Val kappa: 0.4320 \n",
      "\n",
      "Early stopping after epoch 30\n"
     ]
    },
    {
     "data": {
      "text/html": [
       "Waiting for W&B process to finish... <strong style=\"color:green\">(success).</strong>"
      ],
      "text/plain": [
       "<IPython.core.display.HTML object>"
      ]
     },
     "metadata": {},
     "output_type": "display_data"
    },
    {
     "data": {
      "application/vnd.jupyter.widget-view+json": {
       "model_id": "ed4a341ac08e455ca508e38143849d07",
       "version_major": 2,
       "version_minor": 0
      },
      "text/plain": [
       "VBox(children=(Label(value='0.001 MB of 0.014 MB uploaded (0.000 MB deduped)\\r'), FloatProgress(value=0.087726…"
      ]
     },
     "metadata": {},
     "output_type": "display_data"
    },
    {
     "data": {
      "text/html": [
       "<style>\n",
       "    table.wandb td:nth-child(1) { padding: 0 10px; text-align: left ; width: auto;} td:nth-child(2) {text-align: left ; width: 100%}\n",
       "    .wandb-row { display: flex; flex-direction: row; flex-wrap: wrap; justify-content: flex-start; width: 100% }\n",
       "    .wandb-col { display: flex; flex-direction: column; flex-basis: 100%; flex: 1; padding: 10px; }\n",
       "    </style>\n",
       "<div class=\"wandb-row\"><div class=\"wandb-col\"><h3>Run history:</h3><br/><table class=\"wandb\"><tr><td>learning_rate</td><td>█▆▅▄▃▃▂▂▂▂▁▁▁▁▁▁▁▁▁▁▁▁▁▁▁▁▁▁▁▁</td></tr><tr><td>train_f1_score</td><td>▁▅▇▇▇▇█▇▇█████████████████████</td></tr><tr><td>train_loss</td><td>█▄▃▃▃▂▂▂▂▂▁▁▂▁▁▁▁▁▁▁▁▁▁▁▁▁▁▁▁▁</td></tr><tr><td>val_f1_score</td><td>▁▇▆▆▇▇▇███████████████████████</td></tr><tr><td>val_loss</td><td>█▃▄▂▃▁▁▂▁▁▁▁▁▁▁▁▁▁▁▁▁▁▁▁▁▁▁▁▁▁</td></tr></table><br/></div><div class=\"wandb-col\"><h3>Run summary:</h3><br/><table class=\"wandb\"><tr><td>learning_rate</td><td>0.0</td></tr><tr><td>train_f1_score</td><td>0.75711</td></tr><tr><td>train_loss</td><td>0.58852</td></tr><tr><td>val_f1_score</td><td>0.73365</td></tr><tr><td>val_loss</td><td>0.60456</td></tr></table><br/></div></div>"
      ],
      "text/plain": [
       "<IPython.core.display.HTML object>"
      ]
     },
     "metadata": {},
     "output_type": "display_data"
    },
    {
     "data": {
      "text/html": [
       " View run <strong style=\"color:#cdcd00\">fold_5_new_classes_lr005</strong> at: <a href='https://wandb.ai/simon-ecke/wze-uav/runs/fyn2oqqv' target=\"_blank\">https://wandb.ai/simon-ecke/wze-uav/runs/fyn2oqqv</a><br/>Synced 5 W&B file(s), 0 media file(s), 0 artifact file(s) and 0 other file(s)"
      ],
      "text/plain": [
       "<IPython.core.display.HTML object>"
      ]
     },
     "metadata": {},
     "output_type": "display_data"
    },
    {
     "data": {
      "text/html": [
       "Find logs at: <code>.\\wandb\\run-20230416_210055-fyn2oqqv\\logs</code>"
      ],
      "text/plain": [
       "<IPython.core.display.HTML object>"
      ]
     },
     "metadata": {},
     "output_type": "display_data"
    },
    {
     "name": "stdout",
     "output_type": "stream",
     "text": [
      "Deleting variables and emptying cache\n",
      "Memory allocated: 1055400960 bytes\n",
      "--------------------------------------------------\n",
      "\n",
      "CPU times: total: 6h 23min 29s\n",
      "Wall time: 13h 23min 33s\n"
     ]
    }
   ],
   "source": [
    "%%time\n",
    "\n",
    "# Set the random seeds\n",
    "set_seeds(42)\n",
    "\n",
    "# Define the number of folds\n",
    "num_folds = 5\n",
    "\n",
    "# Create a KFold object\n",
    "kf = KFold(n_splits=num_folds, shuffle=True, random_state=42)\n",
    "\n",
    "unique_values = np.unique(sub_hash_id[:,0]) # now there are less unique values left because we seperated the test dataset\n",
    "num_unique = len(unique_values)\n",
    "print(f\"There are {num_unique} unique values within hash_id.\\n\")\n",
    "\n",
    "# Loop over each fold\n",
    "for fold, (train_ids, val_ids) in enumerate(kf.split(unique_values)):\n",
    "    torch.cuda.empty_cache()\n",
    "    \n",
    "    # Initialize a new wandb run for this fold\n",
    "    wandb.init(project='wze-uav', name=f\"fold_{fold + 1}_{extra}\")\n",
    "    \n",
    "    # 1. Split data into train and validation set\n",
    "    # Get the training and testing data for this fold\n",
    "    # Use np.isin() to create boolean arrays indicating which indices belong to train or test sets\n",
    "    train_indices = np.isin(sub_hash_id[:,0], unique_values[train_ids])\n",
    "    \n",
    "    val_indices = np.zeros_like(train_indices)  # initialize to all False\n",
    "    for hash_id_val in unique_values[val_ids]:\n",
    "        # select one image ID randomly from either 2020 or 2021 or 2022 for each unique hash ID in the test set\n",
    "        year = np.random.choice(['2020', '2021', '2022'])\n",
    "        image_ids = sub_hash_id[(sub_hash_id[:,0] == hash_id_val) & (sub_hash_id[:,1] == year), 0]\n",
    "    \n",
    "        # mark the index corresponding to the selected image ID and hash ID as True in the test indices array\n",
    "        val_indices[(sub_hash_id[:,0] == hash_id_val) & (sub_hash_id[:,1] == year) & (np.isin(sub_hash_id[:,0], image_ids))] = True \n",
    "    \n",
    "    # Reshape boolean arrays to match shape of image_set and label_set\n",
    "    train_indices = train_indices.reshape(-1, 1)\n",
    "    val_indices = val_indices.reshape(-1, 1)\n",
    "    \n",
    "    # Select images and labels for train and validation sets\n",
    "    train_image_set = sub_image_set[train_indices[:, 0]]\n",
    "    train_label_set = sub_label_set[train_indices[:, 0]]\n",
    "    train_hash_id = sub_hash_id[train_indices[:, 0]][:,0]\n",
    "    train_species_set = sub_species_set[train_indices[:, 0]]\n",
    "    val_image_set = sub_image_set[val_indices[:, 0]]\n",
    "    val_label_set = sub_label_set[val_indices[:, 0]]\n",
    "    val_hash_id = sub_hash_id[val_indices[:, 0]][:,0]\n",
    "    val_species_set = sub_species_set[val_indices[:, 0]]\n",
    "    # reshape \n",
    "    train_label_set = train_label_set.reshape(-1, 1)\n",
    "    val_label_set = val_label_set.reshape(-1, 1)\n",
    "    train_species_set = train_species_set.reshape(-1, 1)\n",
    "    val_species_set = val_species_set.reshape(-1, 1)\n",
    "\n",
    "         \n",
    "    print(\"Check shapes:\\n\")\n",
    "    print(f\"Images train dataset: {train_image_set.shape}\")\n",
    "    print(f\"Labels train dataset: {train_label_set.shape}\\n\")\n",
    "    \n",
    "    print(f\"Images validation dataset: {val_image_set.shape}\")\n",
    "    print(f\"Labels validation dataset: {val_label_set.shape}\\n\")\n",
    "    print('-'*50)\n",
    "    print (f\"Check if the split was stratified: (random_state=42)\")\n",
    "    print(f\"Healthy trees in train dataset: {np.count_nonzero(train_label_set == 0)}\")\n",
    "    print(f\"Stressed trees in train dataset: {np.count_nonzero(train_label_set == 1)}\")\n",
    "    print(f\"Dead trees in train dataset: {np.count_nonzero(train_label_set == 2)}\")\n",
    "    print(f\"Healthy trees in validation dataset: {np.count_nonzero(val_label_set == 0)}\")\n",
    "    print(f\"Stressed trees in validation dataset: {np.count_nonzero(val_label_set == 1)}\")\n",
    "    print(f\"Dead trees in validation dataset: {np.count_nonzero(val_label_set == 2)}\")\n",
    "    print(f\"Ratio health trees in validation dataset: {np.count_nonzero(val_label_set == 0)/np.count_nonzero(sub_label_set == 0)}\")\n",
    "    print(f\"Ratio stressed trees in validation dataset: {np.count_nonzero(val_label_set == 1)/np.count_nonzero(sub_label_set == 1)}\")\n",
    "    print(f\"Ratio dead trees in validation dataset: {np.count_nonzero(val_label_set == 2)/np.count_nonzero(sub_label_set == 2)}\")\n",
    "    print(\"-\"*50)\n",
    "   \n",
    "    # 2. Create train and validation dataset. (choose custom dataset loader with 3 - 5 classes)\n",
    "    print(f\"\\nCreating datasets for fold: {fold + 1}\\n\")\n",
    "    train_dataset = data_loader.CustomDataset(data=train_image_set, labels=train_label_set, class_names=class_names, species = train_species_set,\n",
    "                                                         transform=transform_train)\n",
    "    \n",
    "    val_dataset = data_loader.CustomDataset(data=val_image_set, labels=val_label_set, class_names=class_names,\n",
    "                                                       species = val_species_set, transform=transform)\n",
    "   \n",
    "    # 3. Create train and validation dataloader\n",
    "    # create sampler for oversampling of the minority classes\n",
    "    sampler = data_loader.data_sampler(dataset=train_dataset, class_names=class_names)\n",
    "    print(f\"Creating dataloaders for fold: {fold +1}\\n\")\n",
    "    train_dataloader = DataLoader(train_dataset, batch_size=batch_size, persistent_workers=True, pin_memory=True, num_workers=NUM_WORKERS, generator=g,\n",
    "                              sampler=sampler, shuffle=False, drop_last=True) # shuffle false because of the sampler\n",
    "\n",
    "    val_dataloader = DataLoader(val_dataset, batch_size=batch_size, persistent_workers=True, pin_memory=True, num_workers=NUM_WORKERS, shuffle=False,\n",
    "                             drop_last=True)\n",
    "    \n",
    "    model = model_effnet.EfficientNet.from_pretrained('efficientnet-b7', in_channels=n_bands, num_classes=num_classes, dropout_rate=dropout_rate)\n",
    "    loss_fn = nn.CrossEntropyLoss()\n",
    "    optimizer = torch.optim.Adam(params=model.parameters(), lr=lr)\n",
    "    #lr_scheduler = StepLR(optimizer, step_size=step_size, gamma=gamma)\n",
    "    lr_scheduler = ExponentialLR(optimizer, gamma=gamma)\n",
    "\n",
    "    fold += 1\n",
    "    print(f\"\\n[INFO] Fold number: {fold}\")\n",
    "    print(f\"[INFO] Number of epochs: {epochs}\")\n",
    "    print(f\"[INFO] Batch_size: {batch_size}\")\n",
    "    print(f\"[INFO] Number of bands: {n_bands}\")\n",
    "    print(f\"[INFO] Dropout rate: {dropout_rate}\")\n",
    "    print(f\"[INFO] Gamma learning rate: {gamma}\")\n",
    "    print(f\"[INFO] Memory allocated: {torch.cuda.memory_allocated()} bytes\")\n",
    "    # 4. Train model with k fold dataloaders and track experiments\n",
    "    \n",
    "    if fold == 1:\n",
    "        fold1_results = train(model=model, model_name=model_name, n_bands=n_bands, batch_size=batch_size,train_dataloader=train_dataloader, val_dataloader=val_dataloader, \n",
    "                        optimizer=optimizer, loss_fn=loss_fn, lr_scheduler=lr_scheduler, num_classes=num_classes, epochs=epochs, experiment_num=fold, device=device,\n",
    "                        writer=None, early_stop_patience = patience)\n",
    "       \n",
    "    elif fold == 2:\n",
    "        fold2_results = train(model=model, model_name=model_name, n_bands=n_bands, batch_size=batch_size,train_dataloader=train_dataloader, val_dataloader=val_dataloader, \n",
    "                        optimizer=optimizer, loss_fn=loss_fn, lr_scheduler=lr_scheduler, num_classes=num_classes, epochs=epochs, experiment_num=fold, device=device,\n",
    "                        writer=None, early_stop_patience = patience)\n",
    "    elif fold == 3:\n",
    "        fold3_results = train(model=model, model_name=model_name, n_bands=n_bands, batch_size=batch_size,train_dataloader=train_dataloader, val_dataloader=val_dataloader, \n",
    "                        optimizer=optimizer, loss_fn=loss_fn, lr_scheduler=lr_scheduler, num_classes=num_classes, epochs=epochs, experiment_num=fold, device=device,\n",
    "                        writer=None, early_stop_patience = patience)\n",
    "    elif fold == 4:\n",
    "        fold4_results = train(model=model, model_name=model_name, n_bands=n_bands, batch_size=batch_size,train_dataloader=train_dataloader, val_dataloader=val_dataloader, \n",
    "                        optimizer=optimizer, loss_fn=loss_fn, lr_scheduler=lr_scheduler, num_classes=num_classes, epochs=epochs, experiment_num=fold, device=device,\n",
    "                        writer=None, early_stop_patience = patience)\n",
    "    else:\n",
    "        fold5_results = train(model=model, model_name=model_name, n_bands=n_bands, batch_size=batch_size,train_dataloader=train_dataloader, val_dataloader=val_dataloader, \n",
    "                        optimizer=optimizer, loss_fn=loss_fn, lr_scheduler=lr_scheduler, num_classes=num_classes, epochs=epochs, experiment_num=fold, device=device,\n",
    "                        writer=None, early_stop_patience = patience)\n",
    "    \n",
    "    del train_indices, val_indices, train_image_set, train_label_set, train_hash_id, train_species_set, val_image_set, val_label_set, val_hash_id, val_species_set,\n",
    "    train_dataset, val_dataset, sampler, train_dataloader, val_dataloader, model, loss_fn, optimizer, lr_scheduler\n",
    "    \n",
    "    #finish the wandb run\n",
    "    wandb.finish()\n",
    "    print(\"Deleting variables and emptying cache\")\n",
    "    gc.collect()\n",
    "    torch.cuda.empty_cache()\n",
    "    print(f\"Memory allocated: {torch.cuda.memory_allocated()} bytes\")\n",
    "    print(\"-\"*50 + \"\\n\")\n",
    "    \n"
   ]
  },
  {
   "cell_type": "code",
   "execution_count": null,
   "id": "1885cc98",
   "metadata": {},
   "outputs": [],
   "source": [
    "# Create a graph to visualize the training and validation loss for each fold\n",
    "wandb.run.summary[\"graph\"] = wandb.plot.line_series(\n",
    "    xs=\"epoch\",\n",
    "    ys=[\"train_loss\", \"val_loss\"],\n",
    "    group=\"fold\",\n",
    "    xaxis=\"Epoch\",\n",
    "    yaxis=\"Loss\",\n",
    "    title=\"Training and Validation Loss by Fold\",\n",
    ")\n",
    "\n",
    "# Create a graph to visualize the training and validation f1 score for each fold\n",
    "wandb.run.summary[\"graph\"] = wandb.plot.line_series(\n",
    "    xs=\"epoch\",\n",
    "    ys=[\"train_f1_score\", \"val_f1_score\"],\n",
    "    group=\"fold\",\n",
    "    xaxis=\"Epoch\",\n",
    "    yaxis=\"Loss\",\n",
    "    title=\"Training and Validation F1-Score by Fold\",\n",
    ")"
   ]
  },
  {
   "cell_type": "code",
   "execution_count": null,
   "id": "c0c36ebb",
   "metadata": {},
   "outputs": [],
   "source": [
    "# create test dataset\n",
    "test_dataset = data_loader.CustomTestDataset(\n",
    "    data = test_image_set,\n",
    "    labels = test_label_set,\n",
    "    class_names=class_names, \n",
    "    species = test_species_set,\n",
    "    kkl = None,\n",
    "    transform=transform\n",
    ")\n",
    "\n",
    "# create test dataloader\n",
    "test_dataloader = DataLoader(test_dataset,\n",
    "                             batch_size=batch_size,\n",
    "                             persistent_workers=True,\n",
    "                             pin_memory=True,\n",
    "                             num_workers=NUM_WORKERS,\n",
    "                             shuffle=False,\n",
    "                             drop_last=True)"
   ]
  },
  {
   "cell_type": "code",
   "execution_count": null,
   "id": "67db5af2",
   "metadata": {},
   "outputs": [],
   "source": [
    "# Setup the best model filepath\n",
    "best_model_path = r\"C:\\Users\\lwfeckesim\\01_PyTorch\\wze-uav\\wze-uav-master\\effnet_b0\\01_18_epochs.pth\"\n",
    "\n",
    "# Instantiate a new instance of EffNetB0 (to load the saved state_dict() to)\n",
    "unfreeze=True\n",
    "best_model = models.create_effnetb0(output_shape=num_classes, unfreeze=unfreeze, dropout_rate=dropout_rate, device=device)\n",
    "\n",
    "# Load the saved best model state_dict()\n",
    "best_model.load_state_dict(torch.load(best_model_path))"
   ]
  },
  {
   "cell_type": "code",
   "execution_count": null,
   "id": "6dfbc663",
   "metadata": {},
   "outputs": [],
   "source": [
    "def make_predictions(model: torch.nn.Module, \n",
    "                     test_dataloader: torch.utils.data.DataLoader,\n",
    "                     device: torch.device):\n",
    "    # 1. Make predictions with trained model\n",
    "    y_preds = []\n",
    "    y_labels = []\n",
    "    species_list = []\n",
    "    test_loss, test_precision, test_recall, test_f1_score, test_acc = 0, 0, 0, 0, 0\n",
    "    count = 0\n",
    "    model.eval()\n",
    "    with torch.inference_mode():\n",
    "        for X, y, species in tqdm(test_dataloader, desc=\"Making predictions\"):\n",
    "            # Send data and targets to target device\n",
    "            X, y = X.to(device), y.to(device)\n",
    "            # Do the forward pass\n",
    "            y_logit = model(X)\n",
    "            # Turn predictions from logits -> prediction probabilities -> predictions labels\n",
    "            y_pred = torch.softmax(y_logit, dim=1).argmax(dim=1)\n",
    "            # Put predictions on CPU for evaluation\n",
    "            y_preds.append(y_pred.cpu())\n",
    "            y_labels.append(y.cpu())\n",
    "            species_list.append(species)\n",
    "            \n",
    "            #other metrics\n",
    "            test_acc += ((y_pred == y).sum().item()/len(y_pred))\n",
    "            y_pred_class = y_pred.detach().cpu().numpy() \n",
    "            y_class = y.detach().cpu().numpy()\n",
    "            labels = np.array([0])\n",
    "            test_precision += precision_score(y_class, y_pred_class, average='macro', zero_division=0, labels=[0,1,2])\n",
    "            test_recall += recall_score(y_class, y_pred_class, average='macro', zero_division=0, labels=[0,1,2])\n",
    "            #test_f1_score += f1_score(y_class, y_pred_class, average='macro', zero_division=1, labels=labels)\n",
    "            \n",
    "            #if count >= 1:\n",
    "            #    y_set = torch.cat((y_set, y))\n",
    "            #    count = count + 1\n",
    "            #else:\n",
    "            #    y_set = y\n",
    "            #    count = count + 1\n",
    "            \n",
    "    test_loss = test_loss / len(test_dataloader)\n",
    "    test_precision = test_precision / len(test_dataloader)\n",
    "    test_recall = test_recall / len(test_dataloader)\n",
    "    test_f1_score = test_f1_score / len(test_dataloader)\n",
    "    #test_kappa = test_kappa / len(dataloader)\n",
    "    test_acc = test_acc / len(test_dataloader)\n",
    "    # Concatenate list of predictions into a tensor\n",
    "    y_pred_tensor = torch.cat(y_preds)\n",
    "    y_labels_tensor = torch.cat(y_labels)\n",
    "    test_f1_score = f1_score(y_labels_tensor.detach().cpu().numpy(), y_pred_tensor.cpu().numpy(), average='macro', zero_division=1, labels=[0,1,2])\n",
    "    \n",
    "    # Print classification report\n",
    "    y_true = y_labels_tensor.detach().cpu().numpy()\n",
    "    report = classification_report(y_true, y_pred_tensor.cpu().numpy(), target_names=class_names)\n",
    "    print(report)\n",
    "    \n",
    "    return y_pred_tensor, y_labels_tensor, test_loss, test_recall, test_precision, test_f1_score, test_acc, y_logit, y_pred, y, y_preds"
   ]
  },
  {
   "cell_type": "code",
   "execution_count": null,
   "id": "aab9e321",
   "metadata": {},
   "outputs": [],
   "source": [
    "# 2. Setup confusion matrix instance and compare predictions to targets\n",
    "#from wze_uav.analysis import *\n",
    "y_pred_tensor, y_labels_tensor, test_loss, test_recall, test_precision, test_f1_score, test_acc, y_logit, y_pred, y, y_preds = make_predictions(model=best_model,\n",
    "                                 test_dataloader=test_dataloader, \n",
    "                                 device=device)\n",
    "\n",
    "y_labels_tensor = y_labels_tensor.detach().cpu().numpy()\n",
    "y_pred_tensor = y_pred_tensor.detach().cpu().numpy()\n",
    "\n",
    "#confmat = ConfusionMatrix(num_classes=num_classes, task='multiclass')\n",
    "#confmat_tensor = confmat(preds=y_pred_tensor,\n",
    "#                         target=test_labels)\n",
    "labels = np.array([0,1,2])\n",
    "confmat = confusion_matrix(y_labels_tensor, y_pred_tensor, labels=labels)\n",
    "\n",
    "# 3. Plot the confusion matrix\n",
    "fig, ax = plot_confusion_matrix(\n",
    "    conf_mat=confmat, # matplotlib likes working with NumPy \n",
    "    class_names=class_names, # turn the row and column labels into class names\n",
    "    figsize=(10, 7)\n",
    ");\n",
    "\n",
    "print(f\"Test loss: {test_loss}\")\n",
    "print(f\"Test precision: {test_precision}\")\n",
    "print(f\"Test recall: {test_recall}\")\n",
    "print(f\"Test F1score: {test_f1_score}\")\n",
    "#print(f\"Test Kappa: {test_kappa}\")\n",
    "print(f\"Test Accuracy: {test_acc}\")\n",
    "print(f\"Test Logits: {y_logit}\")\n",
    "print(f\"Test Predictions: {y_pred}\")\n",
    "print(f\"Test Labels: {y}\")"
   ]
  },
  {
   "cell_type": "code",
   "execution_count": null,
   "id": "8d4173b3",
   "metadata": {},
   "outputs": [],
   "source": [
    "len(y_preds)"
   ]
  },
  {
   "cell_type": "code",
   "execution_count": null,
   "id": "7588116f",
   "metadata": {},
   "outputs": [],
   "source": [
    "y_set.cpu()"
   ]
  },
  {
   "cell_type": "code",
   "execution_count": null,
   "id": "1c195b3e",
   "metadata": {},
   "outputs": [],
   "source": [
    "test_dataset.labels"
   ]
  },
  {
   "cell_type": "code",
   "execution_count": null,
   "id": "975ec08c",
   "metadata": {},
   "outputs": [],
   "source": []
  },
  {
   "cell_type": "code",
   "execution_count": null,
   "id": "6da05604",
   "metadata": {},
   "outputs": [],
   "source": [
    "y_preds = []\n",
    "y_labels = []\n",
    "labels = np.array([0,1,2])\n",
    "test_loss, test_precision, test_recall, test_f1_score, test_acc = 0, 0, 0, 0, 0\n",
    "count = 0\n",
    "model.eval()\n",
    "with torch.inference_mode():\n",
    "    for X, y in tqdm(test_dataloader, desc=\"Making predictions\"):\n",
    "        # Send data and targets to target device\n",
    "        X, y = X.to(device), y.to(device)\n",
    "        # Do the forward pass\n",
    "        y_logit = model(X)\n",
    "        # Turn predictions from logits -> prediction probabilities -> predictions labels\n",
    "        y_pred = torch.softmax(y_logit, dim=1).argmax(dim=1)\n",
    "        # Put predictions on CPU for evaluation\n",
    "        y_preds.append(y_pred.cpu())\n",
    "        y_labels.append(y.cpu())\n",
    "        \n",
    "        #other metrics\n",
    "        test_acc += ((y_pred == y).sum().item()/len(y_pred))\n",
    "        y_pred_class = y_pred.detach().cpu().numpy() \n",
    "        y_class = y.detach().cpu().numpy()\n",
    "        test_precision += precision_score(y_class, y_pred_class, average='macro', zero_division=1, labels=labels)\n",
    "        test_recall += recall_score(y_class, y_pred_class, average='macro', zero_division=1, labels=labels)\n",
    "        #test_f1_score += f1_score(y_class, y_pred_class, average='macro', zero_division=1, labels=labels)\n",
    "        \n",
    "        #if count >= 1:\n",
    "        #    y_set = torch.cat((y_set, y))\n",
    "        #    count = count + 1\n",
    "        #else:\n",
    "        #    y_set = y\n",
    "        #    count = count + 1\n",
    "        \n",
    "test_loss = test_loss / len(test_dataloader)\n",
    "test_precision = test_precision / len(test_dataloader)\n",
    "test_recall = test_recall / len(test_dataloader)\n",
    "#test_f1_score = test_f1_score / len(test_dataloader)\n",
    "#test_kappa = test_kappa / len(dataloader)\n",
    "test_acc = test_acc / len(test_dataloader)\n",
    "# Concatenate list of predictions into a tensor\n",
    "y_pred_tensor = torch.cat(y_preds)\n",
    "test_f1_score = f1_score(y_set.detach().cpu().numpy(), y_pred_tensor.cpu().numpy(), average='macro', zero_division=0, labels=[0,1,2])\n",
    "\n",
    "# Print classification report\n",
    "y_true = y_set.detach().cpu().numpy()\n",
    "report = classification_report(y_true, y_pred_tensor.cpu().numpy(), target_names=class_names)\n",
    "print(report)"
   ]
  },
  {
   "cell_type": "code",
   "execution_count": null,
   "id": "6ae97fab",
   "metadata": {},
   "outputs": [],
   "source": [
    "test_f1_score"
   ]
  },
  {
   "cell_type": "code",
   "execution_count": null,
   "id": "7ebafd9b",
   "metadata": {},
   "outputs": [],
   "source": [
    "make = (y_class == y_pred_class)\n",
    "make"
   ]
  },
  {
   "cell_type": "code",
   "execution_count": null,
   "id": "4f8aa759",
   "metadata": {},
   "outputs": [],
   "source": [
    "torch.softmax(y_logit, dim=1).argmax(dim=1)"
   ]
  },
  {
   "cell_type": "code",
   "execution_count": null,
   "id": "f90a54b2",
   "metadata": {},
   "outputs": [],
   "source": [
    "y"
   ]
  },
  {
   "cell_type": "code",
   "execution_count": null,
   "id": "5a806154",
   "metadata": {},
   "outputs": [],
   "source": [
    "test = (y_pred == y).sum().item()/16"
   ]
  },
  {
   "cell_type": "code",
   "execution_count": null,
   "id": "1da35c56",
   "metadata": {},
   "outputs": [],
   "source": [
    "test"
   ]
  },
  {
   "cell_type": "code",
   "execution_count": null,
   "id": "b1eb246e",
   "metadata": {},
   "outputs": [],
   "source": [
    " y_pred_class = y_pred.detach().cpu().numpy() "
   ]
  },
  {
   "cell_type": "code",
   "execution_count": null,
   "id": "602e096f",
   "metadata": {},
   "outputs": [],
   "source": [
    "y_pred_class"
   ]
  },
  {
   "cell_type": "code",
   "execution_count": null,
   "id": "eaf1af09",
   "metadata": {},
   "outputs": [],
   "source": []
  }
 ],
 "metadata": {
  "kernelspec": {
   "display_name": "Python 3 (ipykernel)",
   "language": "python",
   "name": "python3"
  },
  "language_info": {
   "codemirror_mode": {
    "name": "ipython",
    "version": 3
   },
   "file_extension": ".py",
   "mimetype": "text/x-python",
   "name": "python",
   "nbconvert_exporter": "python",
   "pygments_lexer": "ipython3",
   "version": "3.9.16"
  }
 },
 "nbformat": 4,
 "nbformat_minor": 5
}
