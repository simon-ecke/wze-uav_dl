{
 "cells": [
  {
   "cell_type": "markdown",
   "id": "c1acdaa3",
   "metadata": {},
   "source": [
    "# WZE-UAV Image Classification using Deep Learning"
   ]
  },
  {
   "cell_type": "code",
   "execution_count": 1,
   "id": "2159aac5",
   "metadata": {},
   "outputs": [],
   "source": [
    "import os\n",
    "import gc\n",
    "import glob\n",
    "import numpy as np\n",
    "from pathlib import Path\n",
    "from tqdm.auto import tqdm\n",
    "from sklearn.metrics import confusion_matrix, classification_report\n",
    "from sklearn.model_selection import KFold"
   ]
  },
  {
   "cell_type": "code",
   "execution_count": 2,
   "id": "0026f7a9",
   "metadata": {},
   "outputs": [],
   "source": [
    "import torch\n",
    "import torchvision.transforms as T\n",
    "import torchvision\n",
    "from torch import nn\n",
    "from torch.utils.data import DataLoader\n",
    "from torchvision import datasets, transforms\n",
    "from torch.utils.data import Dataset\n",
    "import torch.optim as optim\n",
    "from torch.optim.lr_scheduler import ExponentialLR\n",
    "from mlxtend.plotting import plot_confusion_matrix"
   ]
  },
  {
   "cell_type": "code",
   "execution_count": 3,
   "id": "b160d7b4",
   "metadata": {},
   "outputs": [],
   "source": [
    "import wze_uav.data_loader as data_loader\n",
    "import wze_uav.models as models\n",
    "from wze_uav.engine import *\n",
    "from wze_uav.utils2 import *\n",
    "#from wze_uav.log_writer import create_writer\n",
    "from wze_uav.datasplit import *\n",
    "from efficientnet import model_effnet #for custom effnet with n_channels input\n",
    "import wandb"
   ]
  },
  {
   "cell_type": "markdown",
   "id": "2bd4fb2f",
   "metadata": {},
   "source": [
    "#### Get PyTorch version"
   ]
  },
  {
   "cell_type": "code",
   "execution_count": 4,
   "id": "c10886b1",
   "metadata": {},
   "outputs": [
    {
     "name": "stdout",
     "output_type": "stream",
     "text": [
      "torch version: 1.13.1+cu116\n",
      "torchvision version: 0.14.1+cu116\n"
     ]
    }
   ],
   "source": [
    "print(f\"torch version: {torch.__version__}\")\n",
    "print(f\"torchvision version: {torchvision.__version__}\")"
   ]
  },
  {
   "cell_type": "markdown",
   "id": "aa6a83cf",
   "metadata": {},
   "source": [
    "#### Preparing device agnostic code "
   ]
  },
  {
   "cell_type": "code",
   "execution_count": 5,
   "id": "13d5de88",
   "metadata": {},
   "outputs": [
    {
     "name": "stdout",
     "output_type": "stream",
     "text": [
      "cuda\n",
      "Index of current divice: 0\n",
      "Number of GPUs available: 1\n",
      "GPU Model: Quadro RTX 8000\n"
     ]
    }
   ],
   "source": [
    "# ensure device agnostic code\n",
    "device = 'cuda' if torch.cuda.is_available() else 'cpu'\n",
    "print(device)\n",
    "\n",
    "# get index of currently selected device\n",
    "print(f\"Index of current divice: {torch.cuda.current_device()}\")\n",
    "# get number of GPUs available\n",
    "print(f\"Number of GPUs available: {torch.cuda.device_count()}\")\n",
    "# get the name of the device\n",
    "print(f\"GPU Model: {torch.cuda.get_device_name(0)}\")"
   ]
  },
  {
   "cell_type": "markdown",
   "id": "8ef6b169",
   "metadata": {},
   "source": [
    "#### Login to Weights & Biases to track results"
   ]
  },
  {
   "cell_type": "code",
   "execution_count": 6,
   "id": "a59d27cf",
   "metadata": {},
   "outputs": [
    {
     "name": "stderr",
     "output_type": "stream",
     "text": [
      "Failed to detect the name of this notebook, you can set it manually with the WANDB_NOTEBOOK_NAME environment variable to enable code saving.\n",
      "\u001b[34m\u001b[1mwandb\u001b[0m: Currently logged in as: \u001b[33msimon-ecke\u001b[0m. Use \u001b[1m`wandb login --relogin`\u001b[0m to force relogin\n"
     ]
    },
    {
     "data": {
      "text/html": [
       "wandb version 0.15.2 is available!  To upgrade, please run:\n",
       " $ pip install wandb --upgrade"
      ],
      "text/plain": [
       "<IPython.core.display.HTML object>"
      ]
     },
     "metadata": {},
     "output_type": "display_data"
    },
    {
     "data": {
      "text/html": [
       "Tracking run with wandb version 0.14.2"
      ],
      "text/plain": [
       "<IPython.core.display.HTML object>"
      ]
     },
     "metadata": {},
     "output_type": "display_data"
    },
    {
     "data": {
      "text/html": [
       "Run data is saved locally in <code>C:\\Users\\lwfeckesim\\01_PyTorch\\wze-uav\\wze-uav-master\\wandb\\run-20230516_073611-ltiszu69</code>"
      ],
      "text/plain": [
       "<IPython.core.display.HTML object>"
      ]
     },
     "metadata": {},
     "output_type": "display_data"
    },
    {
     "data": {
      "text/html": [
       "Syncing run <strong><a href='https://wandb.ai/simon-ecke/wze-uav-combined_v2/runs/ltiszu69' target=\"_blank\">blooming-snowball-7</a></strong> to <a href='https://wandb.ai/simon-ecke/wze-uav-combined_v2' target=\"_blank\">Weights & Biases</a> (<a href='https://wandb.me/run' target=\"_blank\">docs</a>)<br/>"
      ],
      "text/plain": [
       "<IPython.core.display.HTML object>"
      ]
     },
     "metadata": {},
     "output_type": "display_data"
    },
    {
     "data": {
      "text/html": [
       " View project at <a href='https://wandb.ai/simon-ecke/wze-uav-combined_v2' target=\"_blank\">https://wandb.ai/simon-ecke/wze-uav-combined_v2</a>"
      ],
      "text/plain": [
       "<IPython.core.display.HTML object>"
      ]
     },
     "metadata": {},
     "output_type": "display_data"
    },
    {
     "data": {
      "text/html": [
       " View run at <a href='https://wandb.ai/simon-ecke/wze-uav-combined_v2/runs/ltiszu69' target=\"_blank\">https://wandb.ai/simon-ecke/wze-uav-combined_v2/runs/ltiszu69</a>"
      ],
      "text/plain": [
       "<IPython.core.display.HTML object>"
      ]
     },
     "metadata": {},
     "output_type": "display_data"
    },
    {
     "data": {
      "text/html": [
       "<button onClick=\"this.nextSibling.style.display='block';this.style.display='none';\">Display W&B run</button><iframe src='https://wandb.ai/simon-ecke/wze-uav-combined_v2/runs/ltiszu69?jupyter=true' style='border:none;width:100%;height:420px;display:none;'></iframe>"
      ],
      "text/plain": [
       "<wandb.sdk.wandb_run.Run at 0x15863b632e0>"
      ]
     },
     "execution_count": 6,
     "metadata": {},
     "output_type": "execute_result"
    }
   ],
   "source": [
    "# IMPORTANT: The proxy needs to be set in anaconda!\n",
    "# copy paste this in anaconda and restart jupyter notebook\n",
    "#set http_proxy=http://www-proxy.bayern.de:80\n",
    "#set https_proxy=http://www-proxy.bayern.de:80\n",
    "wandb.login()\n",
    "#wandb.init(settings=wandb.Settings(start_method=\"thread\"))\n",
    "wandb.init(project='wze-uav-combined_v2', entity='simon-ecke')"
   ]
  },
  {
   "cell_type": "markdown",
   "id": "a26a6a34",
   "metadata": {},
   "source": [
    "#### Ensure reproducibility "
   ]
  },
  {
   "cell_type": "code",
   "execution_count": 7,
   "id": "dd4656a7",
   "metadata": {},
   "outputs": [],
   "source": [
    "# for more information, see also: https://pytorch.org/docs/stable/notes/randomness.html\n",
    "\n",
    "# Set seeds\n",
    "def set_seeds(seed: int=42):\n",
    "    \"\"\"Sets random sets for torch operations.\n",
    "\n",
    "    Args:\n",
    "        seed (int, optional): Random seed to set. Defaults to 42.\n",
    "    \"\"\"\n",
    "    # Set the seed for general torch operations\n",
    "    torch.manual_seed(seed)\n",
    "    # Set the seed for CUDA torch operations (ones that happen on the GPU)\n",
    "    torch.cuda.manual_seed(seed)\n",
    "    # seed for numpy\n",
    "    np.random.seed(seed)\n",
    "\n",
    "set_seeds(42) \n",
    "\n",
    "# Set to true -> might speed up the process but should be set to False if reproducible results are desired\n",
    "torch.backends.cudnn.benchmark = False\n"
   ]
  },
  {
   "cell_type": "markdown",
   "id": "8be33671",
   "metadata": {},
   "source": [
    "#### Define file directory"
   ]
  },
  {
   "cell_type": "code",
   "execution_count": 8,
   "id": "30645f36",
   "metadata": {},
   "outputs": [],
   "source": [
    "#####################################################################################\n",
    "# 3 channel input (r-g-b)\n",
    "data_path = r\"D:\\Drohnendaten\\10_WZE-UAV\\Auswertung_findatree\\Datasplit\\ROI\\rgb\"\n",
    "\n",
    "# 4 channel input (r-g-b-nir)\n",
    "#data_path = r\"D:\\Drohnendaten\\10_WZE-UAV\\Auswertung_findatree\\Datasplit\\ROI\\rgb-nir\"\n",
    "\n",
    "# 5 channel input (r-g-b-re-nir)\n",
    "#data_path = r\"D:\\Drohnendaten\\10_WZE-UAV\\Auswertung_findatree\\Datasplit\\ROI\\rgb-re-nir\"\n",
    "\n",
    "# 6 channel input (r-g-b-re-nir)\n",
    "#data_path = r\"D:\\Drohnendaten\\10_WZE-UAV\\Auswertung_findatree\\Datasplit\\ROI\\rgb-re-nir-chm\"\n",
    "\n",
    "#####################################################################################"
   ]
  },
  {
   "cell_type": "markdown",
   "id": "4560ce64",
   "metadata": {},
   "source": [
    "#### Get all file paths, years and plotIDs"
   ]
  },
  {
   "cell_type": "code",
   "execution_count": 9,
   "id": "aa072e4c",
   "metadata": {},
   "outputs": [],
   "source": [
    "fn_list = os.listdir(data_path)\n",
    "path_list = []\n",
    "# Iterate over all datafiles\n",
    "for year in fn_list:\n",
    "    year_dir = f'{data_path}\\\\{year}'\n",
    "    for filename in os.listdir(year_dir):\n",
    "        path = f'{year_dir}\\\\{filename}'\n",
    "        #plotID = path.rsplit('_',1)[0].rsplit('r',1)[1]\n",
    "        path_list.append(path)\n",
    "        #year_list.append(year)\n",
    "        #plotID_list.append(plotID)"
   ]
  },
  {
   "cell_type": "markdown",
   "id": "f3937a44",
   "metadata": {},
   "source": [
    "#### Get unique plotIDs and years per available trees"
   ]
  },
  {
   "cell_type": "code",
   "execution_count": 10,
   "id": "8a50f1d7",
   "metadata": {},
   "outputs": [
    {
     "data": {
      "application/vnd.jupyter.widget-view+json": {
       "model_id": "02d9399969f44d3d850e2049edd6a229",
       "version_major": 2,
       "version_minor": 0
      },
      "text/plain": [
       "Creating unique tree IDs...:   0%|          | 0/647 [00:00<?, ?it/s]"
      ]
     },
     "metadata": {},
     "output_type": "display_data"
    }
   ],
   "source": [
    "plotID_dict = data_loader.get_plotID(path_list)"
   ]
  },
  {
   "cell_type": "markdown",
   "id": "6f4cea00",
   "metadata": {},
   "source": [
    "#### Import all imagery, labels and other features from hdf5 files"
   ]
  },
  {
   "cell_type": "code",
   "execution_count": 11,
   "id": "94e3eecf",
   "metadata": {},
   "outputs": [
    {
     "data": {
      "application/vnd.jupyter.widget-view+json": {
       "model_id": "83a38838962d48fc90a4160a41ebef18",
       "version_major": 2,
       "version_minor": 0
      },
      "text/plain": [
       "Processing hdf5 datasets:   0%|          | 0/647 [00:00<?, ?it/s]"
      ]
     },
     "metadata": {},
     "output_type": "display_data"
    }
   ],
   "source": [
    "image_set, label_set, species_set, kkl_set, bk_set, hash_id = data_loader.hdf5_to_img_label_5species(path_list,\n",
    "                                                                                               plotID_dict,\n",
    "                                                                                               load_sets=[\"images_masked\"])"
   ]
  },
  {
   "cell_type": "markdown",
   "id": "6a90e2b7",
   "metadata": {},
   "source": [
    "#### Convert nbv to classes"
   ]
  },
  {
   "cell_type": "code",
   "execution_count": 12,
   "id": "0224972a",
   "metadata": {},
   "outputs": [],
   "source": [
    "nbv_set = label_set\n",
    "label_set = combined_to_classes(species_set, nbv_set)"
   ]
  },
  {
   "cell_type": "markdown",
   "id": "c6b4cd85",
   "metadata": {},
   "source": [
    "#### Split data into subset (used for training and validation in the 5-fold cross-validation) and test set"
   ]
  },
  {
   "cell_type": "code",
   "execution_count": 13,
   "id": "d06eda54",
   "metadata": {},
   "outputs": [
    {
     "name": "stdout",
     "output_type": "stream",
     "text": [
      "ORIGINAL POSITIVE RATIO: 2.9288929440389295\n",
      "Fold : 0\n",
      "TRAIN POSITIVE RATIO: 2.80895675043834\n",
      "TEST POSITIVE RATIO : 3.525436046511628\n",
      "LENGTH TRAIN GROUPS : 197\n",
      "LENGTH TEST GROUPS  : 38\n",
      "Number of True in sub_indices: 13688\n",
      "Number of False in sub_indices: 2752\n",
      "Number of True in test_indices: 952\n",
      "Number of False in test_indices: 15488\n",
      "Check shapes:\n",
      "\n",
      "Images sub dataset: (13688, 250, 250, 3)\n",
      "Labels sub dataset: (13688, 1)\n",
      "\n",
      "Images test dataset: (952, 250, 250, 3)\n",
      "Labels test dataset: (952, 1)\n",
      "\n",
      "--------------------------------------------------\n",
      "Check if the split was stratified: (random_state=42)\n",
      "Healthy trees in sub dataset: 3713\n",
      "Stressed trees in sub dataset: 2004\n",
      "Dead trees in sub dataset: 1927\n",
      "Healthy trees in test dataset: 277\n",
      "Stressed trees in test dataset: 132\n",
      "Dead trees in test dataset: 78\n",
      "Ratio health trees in test dataset: 0.07460274710476704\n",
      "Ratio stressed trees in test dataset: 0.0658682634730539\n",
      "Ratio dead trees in test dataset: 0.040477426050856254\n"
     ]
    }
   ],
   "source": [
    "sub_image_set, sub_label_set, sub_hash_id, sub_species_set, test_image_set, test_label_set, test_hash_id, test_species_set = data_split(image_set, label_set, hash_id, species_set, n_splits=6, random_state=42, seed=42)\n"
   ]
  },
  {
   "cell_type": "markdown",
   "id": "c48fbb5b",
   "metadata": {},
   "source": [
    "#### Check if any hash ID is in both sub and test dataset"
   ]
  },
  {
   "cell_type": "code",
   "execution_count": 14,
   "id": "874367cf",
   "metadata": {},
   "outputs": [
    {
     "name": "stdout",
     "output_type": "stream",
     "text": [
      "There are no hash_id values in both train and test datasets. The datasplit was successful\n"
     ]
    }
   ],
   "source": [
    "hash_set = set(sub_hash_id[:,0].flatten())\n",
    "test_hash_set = set(test_hash_id[:,0].flatten())\n",
    "intersection = hash_set.intersection(test_hash_set)\n",
    "if intersection:\n",
    "    print(f\"Hash_id values in both train and test sets: {len(intersection)}\")\n",
    "else:\n",
    "    print(\"There are no hash_id values in both train and test datasets. The datasplit was successful\")"
   ]
  },
  {
   "cell_type": "markdown",
   "id": "9e5b64d4",
   "metadata": {},
   "source": [
    "#### Check feature distribution of the Test dataset"
   ]
  },
  {
   "cell_type": "code",
   "execution_count": 15,
   "id": "a33ff5cb",
   "metadata": {},
   "outputs": [
    {
     "name": "stdout",
     "output_type": "stream",
     "text": [
      "Test dataset\n",
      "Test data Picea abies healthy: 277\n",
      "Test data Picea abies stressed: 132\n",
      "Test data Pinus sylvestris healthy: 78\n",
      "Test data Pinus sylvestris stressed: 61\n",
      "Test data Abies alba healthy: 23\n",
      "Test data Abies alba stressed: 13\n",
      "Test data Fagus sylvatica healthy: 188\n",
      "Test data Fagus sylvatica stressed: 56\n",
      "Test data Quercus robur/petraea healthy: 85\n",
      "Test data Quercus robur/petraea stressed: 29\n",
      "Test data dead trees: 10\n",
      "--------------------------------------------------\n",
      "Remaining dataset\n",
      "Remaining data Picea abies healthy: 3713\n",
      "Remaining data Picea abies stressed: 2004\n",
      "Remaining data Pinus sylvestris healthy: 1927\n",
      "Remaining data Pinus sylvestris stressed: 2320\n",
      "Remaining data Abies alba healthy: 433\n",
      "Remaining data Abies alba stressed: 138\n",
      "Remaining data Fagus sylvatica healthy: 1045\n",
      "Remaining data Fagus sylvatica stressed: 808\n",
      "Remaining data Quercus robur/petraea healthy: 663\n",
      "Remaining data Quercus robur/petraea stressed: 391\n",
      "Remaining data dead trees: 246\n",
      "--------------------------------------------------\n"
     ]
    }
   ],
   "source": [
    "def count_occurrences(data, value):\n",
    "    count = 0\n",
    "    for item in data:\n",
    "        if item == value:\n",
    "            count += 1\n",
    "    return count\n",
    "\n",
    "print(\"Test dataset\")\n",
    "print(f\"Test data Picea abies healthy: {count_occurrences(test_label_set, 0)}\")\n",
    "print(f\"Test data Picea abies stressed: {count_occurrences(test_label_set, 1)}\")\n",
    "print(f\"Test data Pinus sylvestris healthy: {count_occurrences(test_label_set, 2)}\")\n",
    "print(f\"Test data Pinus sylvestris stressed: {count_occurrences(test_label_set, 3)}\")\n",
    "print(f\"Test data Abies alba healthy: {count_occurrences(test_label_set, 4)}\")\n",
    "print(f\"Test data Abies alba stressed: {count_occurrences(test_label_set, 5)}\")\n",
    "print(f\"Test data Fagus sylvatica healthy: {count_occurrences(test_label_set, 6)}\")\n",
    "print(f\"Test data Fagus sylvatica stressed: {count_occurrences(test_label_set, 7)}\")\n",
    "print(f\"Test data Quercus robur/petraea healthy: {count_occurrences(test_label_set, 8)}\")\n",
    "print(f\"Test data Quercus robur/petraea stressed: {count_occurrences(test_label_set, 9)}\")\n",
    "print(f\"Test data dead trees: {count_occurrences(test_label_set, 10)}\")\n",
    "print(\"-\"*50)\n",
    "\n",
    "print(\"Remaining dataset\")\n",
    "print(f\"Remaining data Picea abies healthy: {count_occurrences(sub_label_set, 0)}\")\n",
    "print(f\"Remaining data Picea abies stressed: {count_occurrences(sub_label_set, 1)}\")\n",
    "print(f\"Remaining data Pinus sylvestris healthy: {count_occurrences(sub_label_set, 2)}\")\n",
    "print(f\"Remaining data Pinus sylvestris stressed: {count_occurrences(sub_label_set, 3)}\")\n",
    "print(f\"Remaining data Abies alba healthy: {count_occurrences(sub_label_set, 4)}\")\n",
    "print(f\"Remaining data Abies alba stressed: {count_occurrences(sub_label_set, 5)}\")\n",
    "print(f\"Remaining data Fagus sylvatica healthy: {count_occurrences(sub_label_set, 6)}\")\n",
    "print(f\"Remaining data Fagus sylvatica stressed: {count_occurrences(sub_label_set, 7)}\")\n",
    "print(f\"Remaining data Quercus robur/petraea healthy: {count_occurrences(sub_label_set, 8)}\")\n",
    "print(f\"Remaining data Quercus robur/petraea stressed: {count_occurrences(sub_label_set, 9)}\")\n",
    "print(f\"Remaining data dead trees: {count_occurrences(sub_label_set, 10)}\")\n",
    "print(\"-\"*50)"
   ]
  },
  {
   "cell_type": "code",
   "execution_count": 16,
   "id": "e08fcf57",
   "metadata": {},
   "outputs": [],
   "source": [
    "# train transform with augmentation. \n",
    "transform_train = transforms.Compose([transforms.ToTensor(), transforms.RandomHorizontalFlip(p=0.5), transforms.RandomVerticalFlip(p=0.5),\n",
    "                                      transforms.RandomRotation(degrees=[0,360])])\n",
    "\n",
    "# test and val dataset transform without augmentation. \n",
    "transform = transforms.Compose([transforms.ToTensor()])\n",
    "\n",
    "# class names need to fit the customDataset class used e.g. 3 classes -> use CustomDataset3Classes\n",
    "#class_names = ['healthy', 'slightly_stressed', 'moderately_stressed', 'highly_stressed', 'dead']\n",
    "#class_names = ['healthy', 'moderately_stressed', 'highly_stressed', 'dead']\n",
    "#class_names = ['healthy', 'moderate stress', 'severe stress', 'dead']\n",
    "class_names = ['Picea abies healthy', 'Picea abies stressed', 'Pinus sylvestris healthy', 'Pinus sylvestris stressed', \n",
    "               'Abies alba healthy', 'Abies alba stressed', 'Fagus sylvatica healthy', 'Fagus sylvatica stressed',\n",
    "               'Quercus robur/petraea healthy', 'Quercus robur/petraea stressed', 'dead trees']\n",
    "\n",
    "# set seeds\n",
    "g = torch.Generator()\n",
    "g.manual_seed(42)\n",
    "NUM_WORKERS=3 # should be changed, depending on the system used\n",
    "batch_size=32"
   ]
  },
  {
   "cell_type": "markdown",
   "id": "31779c05",
   "metadata": {},
   "source": [
    "#### Define variables and parameters"
   ]
  },
  {
   "cell_type": "code",
   "execution_count": 17,
   "id": "10ae4379",
   "metadata": {},
   "outputs": [
    {
     "name": "stdout",
     "output_type": "stream",
     "text": [
      "Memory allocated: 0 bytes\n"
     ]
    }
   ],
   "source": [
    "# 1. Define number of epochs\n",
    "epochs = 50\n",
    "n_bands = sub_image_set[0].shape[2] # get number of bands\n",
    "\n",
    "# 2. Define model\n",
    "num_classes = len(class_names)\n",
    "unfreeze = True # all layer weights get updated\n",
    "dropout_rate = 0.5 #define dropout rate\n",
    "model_name = \"EffNet_b7_RGB-5species-combined_v2_plotsplit_001\"\n",
    "\n",
    "# 3. Define loss, optimizer and learning rate scheduler\n",
    "lr = 0.001 # define learning rate\n",
    "min_lr = 1e-6 # minimum learning rate threshold\n",
    "gamma = 0.75 # how fast the learning rate decreases per epoch (low number=faster decrease)\n",
    "patience = 10\n",
    "\n",
    "# 4. Create target folder name were to save the tensorboard event files\n",
    "experiment_name = 'RGB-5species-combined_v2_plotsplit_001'\n",
    "extra = \"RGB-5species-combined_v2_plotsplit_001\"\n",
    "\n",
    "#----------------------------------------------------------------------\n",
    "#torch.cuda.empty_cache()\n",
    "print(f\"Memory allocated: {torch.cuda.memory_allocated()} bytes\") "
   ]
  },
  {
   "cell_type": "markdown",
   "id": "09768b1a",
   "metadata": {},
   "source": [
    "#### Run k-Fold cross-validation on EfficientNet"
   ]
  },
  {
   "cell_type": "code",
   "execution_count": 18,
   "id": "9c29c81d",
   "metadata": {},
   "outputs": [
    {
     "name": "stdout",
     "output_type": "stream",
     "text": [
      "ORIGINAL POSITIVE RATIO: 2.80895675043834\n",
      "Fold : 1\n",
      "TRAIN POSITIVE RATIO: 2.877106871642897\n",
      "VAL POSITIVE RATIO  : 2.5543252595155708\n",
      "LENGTH TRAIN GROUPS : 160\n",
      "LENGTH VAL GROUPS   : 37\n"
     ]
    },
    {
     "data": {
      "text/html": [
       "Finishing last run (ID:ltiszu69) before initializing another..."
      ],
      "text/plain": [
       "<IPython.core.display.HTML object>"
      ]
     },
     "metadata": {},
     "output_type": "display_data"
    },
    {
     "data": {
      "text/html": [
       "Waiting for W&B process to finish... <strong style=\"color:green\">(success).</strong>"
      ],
      "text/plain": [
       "<IPython.core.display.HTML object>"
      ]
     },
     "metadata": {},
     "output_type": "display_data"
    },
    {
     "data": {
      "application/vnd.jupyter.widget-view+json": {
       "model_id": "4d457a5c7f9948c6b24e5b25fe331866",
       "version_major": 2,
       "version_minor": 0
      },
      "text/plain": [
       "VBox(children=(Label(value='0.001 MB of 0.001 MB uploaded (0.000 MB deduped)\\r'), FloatProgress(value=1.0, max…"
      ]
     },
     "metadata": {},
     "output_type": "display_data"
    },
    {
     "data": {
      "text/html": [
       " View run <strong style=\"color:#cdcd00\">blooming-snowball-7</strong> at: <a href='https://wandb.ai/simon-ecke/wze-uav-combined_v2/runs/ltiszu69' target=\"_blank\">https://wandb.ai/simon-ecke/wze-uav-combined_v2/runs/ltiszu69</a><br/>Synced 5 W&B file(s), 0 media file(s), 0 artifact file(s) and 0 other file(s)"
      ],
      "text/plain": [
       "<IPython.core.display.HTML object>"
      ]
     },
     "metadata": {},
     "output_type": "display_data"
    },
    {
     "data": {
      "text/html": [
       "Find logs at: <code>.\\wandb\\run-20230516_073611-ltiszu69\\logs</code>"
      ],
      "text/plain": [
       "<IPython.core.display.HTML object>"
      ]
     },
     "metadata": {},
     "output_type": "display_data"
    },
    {
     "data": {
      "text/html": [
       "Successfully finished last run (ID:ltiszu69). Initializing new run:<br/>"
      ],
      "text/plain": [
       "<IPython.core.display.HTML object>"
      ]
     },
     "metadata": {},
     "output_type": "display_data"
    },
    {
     "data": {
      "application/vnd.jupyter.widget-view+json": {
       "model_id": "dcf9a6095f2b43d2a4207212b7c141c7",
       "version_major": 2,
       "version_minor": 0
      },
      "text/plain": [
       "VBox(children=(Label(value='Waiting for wandb.init()...\\r'), FloatProgress(value=0.016666666666666666, max=1.0…"
      ]
     },
     "metadata": {},
     "output_type": "display_data"
    },
    {
     "data": {
      "text/html": [
       "wandb version 0.15.2 is available!  To upgrade, please run:\n",
       " $ pip install wandb --upgrade"
      ],
      "text/plain": [
       "<IPython.core.display.HTML object>"
      ]
     },
     "metadata": {},
     "output_type": "display_data"
    },
    {
     "data": {
      "text/html": [
       "Tracking run with wandb version 0.14.2"
      ],
      "text/plain": [
       "<IPython.core.display.HTML object>"
      ]
     },
     "metadata": {},
     "output_type": "display_data"
    },
    {
     "data": {
      "text/html": [
       "Run data is saved locally in <code>C:\\Users\\lwfeckesim\\01_PyTorch\\wze-uav\\wze-uav-master\\wandb\\run-20230516_081315-73yb4ezu</code>"
      ],
      "text/plain": [
       "<IPython.core.display.HTML object>"
      ]
     },
     "metadata": {},
     "output_type": "display_data"
    },
    {
     "data": {
      "text/html": [
       "Syncing run <strong><a href='https://wandb.ai/simon-ecke/wze-uav-combined_v2/runs/73yb4ezu' target=\"_blank\">fold_1_RGB-5species-combined_v2_plotsplit_001</a></strong> to <a href='https://wandb.ai/simon-ecke/wze-uav-combined_v2' target=\"_blank\">Weights & Biases</a> (<a href='https://wandb.me/run' target=\"_blank\">docs</a>)<br/>"
      ],
      "text/plain": [
       "<IPython.core.display.HTML object>"
      ]
     },
     "metadata": {},
     "output_type": "display_data"
    },
    {
     "data": {
      "text/html": [
       " View project at <a href='https://wandb.ai/simon-ecke/wze-uav-combined_v2' target=\"_blank\">https://wandb.ai/simon-ecke/wze-uav-combined_v2</a>"
      ],
      "text/plain": [
       "<IPython.core.display.HTML object>"
      ]
     },
     "metadata": {},
     "output_type": "display_data"
    },
    {
     "data": {
      "text/html": [
       " View run at <a href='https://wandb.ai/simon-ecke/wze-uav-combined_v2/runs/73yb4ezu' target=\"_blank\">https://wandb.ai/simon-ecke/wze-uav-combined_v2/runs/73yb4ezu</a>"
      ],
      "text/plain": [
       "<IPython.core.display.HTML object>"
      ]
     },
     "metadata": {},
     "output_type": "display_data"
    },
    {
     "name": "stdout",
     "output_type": "stream",
     "text": [
      "There are no same hash_id values in train, val or test datasets. The datasplit was successful\n",
      "Check shapes:\n",
      "\n",
      "Images train dataset: (10798, 250, 250, 3)\n",
      "Labels train dataset: (10798, 1)\n",
      "\n",
      "Images validation dataset: (1074, 250, 250, 3)\n",
      "Labels validation dataset: (1074, 1)\n",
      "\n",
      "--------------------------------------------------\n",
      "Check if the split was stratified: (random_state=42)\n",
      "Picea abies healthy in train dataset: 2856\n",
      "Picea abies stressed in train dataset: 1629\n",
      "Pinus sylvestris healthy in train dataset: 1545\n",
      "Pinus sylvestris stressed in train dataset: 1692\n",
      "Abies alba healthy in train dataset: 310\n",
      "Abies alba stressed in train dataset: 104\n",
      "Fagus sylvatica healthy in train dataset: 921\n",
      "Fagus sylvatica stressed in train dataset: 686\n",
      "Quercus robur/petraea healthy in train dataset: 518\n",
      "Quercus robur/petraea stressed in train dataset: 330\n",
      "Dead trees in train dataset: 207\n",
      "Picea abies healthy in validation dataset: 330\n",
      "Picea abies stressed in validation dataset: 142\n",
      "Pinus sylvestris healthy in validation dataset: 147\n",
      "Pinus sylvestris stressed in validation dataset: 193\n",
      "Abies alba healthy in validation dataset: 53\n",
      "Abies alba stressed in validation dataset: 17\n",
      "Fagus sylvatica healthy in validation dataset: 46\n",
      "Fagus sylvatica stressed in validation dataset: 59\n",
      "Quercus robur/petraea healthy in validation dataset: 52\n",
      "Quercus robur/petraea stressed in validation dataset: 22\n",
      "Dead trees in validation dataset: 13\n",
      "--------------------------------------------------\n",
      "\n",
      "Creating datasets for fold: 1\n",
      "\n",
      "Creating dataloaders for fold: 1\n",
      "\n",
      "Loaded pretrained weights for efficientnet-b7\n",
      "\n",
      "[INFO] Fold number: 1\n",
      "[INFO] Number of epochs: 50\n",
      "[INFO] Batch_size: 32\n",
      "[INFO] Number of bands: 3\n",
      "[INFO] Dropout rate: 0.5\n",
      "[INFO] Gamma learning rate: 0.75\n",
      "[INFO] Memory allocated: 0 bytes\n"
     ]
    },
    {
     "data": {
      "application/vnd.jupyter.widget-view+json": {
       "model_id": "83d2fd0aa9d1427193cfaaf8f0e6d766",
       "version_major": 2,
       "version_minor": 0
      },
      "text/plain": [
       "  0%|          | 0/50 [00:00<?, ?it/s]"
      ]
     },
     "metadata": {},
     "output_type": "display_data"
    },
    {
     "name": "stdout",
     "output_type": "stream",
     "text": [
      "Epoch: 1 \n",
      "Learning rate: 0.001\n",
      "Train loss: 1.3694 | Train precision: 0.4035 | Train recall: 0.3744 | Train f1score: 0.3817 | Train acc: 0.4552 | Train kappa: 0.7192 \n",
      "Val loss: 1.7195 | Val precision: 0.2347 | Val recall: 0.1914 | Val f1score: 0.1480 | Val acc: 0.3210 | Val kappa: 0.5518 \n",
      "\n",
      "Epoch: 2 \n",
      "Learning rate: 0.00075\n",
      "Train loss: 1.1229 | Train precision: 0.4870 | Train recall: 0.4597 | Train f1score: 0.4665 | Train acc: 0.5258 | Train kappa: 0.8106 \n",
      "Val loss: 1.4775 | Val precision: 0.3559 | Val recall: 0.4023 | Val f1score: 0.3442 | Val acc: 0.4593 | Val kappa: 0.7007 \n",
      "\n",
      "Epoch: 3 \n",
      "Learning rate: 0.0005625000000000001\n",
      "Train loss: 1.0167 | Train precision: 0.5366 | Train recall: 0.5019 | Train f1score: 0.5055 | Train acc: 0.5677 | Train kappa: 0.8509 \n",
      "Val loss: 1.0839 | Val precision: 0.4615 | Val recall: 0.4062 | Val f1score: 0.4080 | Val acc: 0.5606 | Val kappa: 0.8081 \n",
      "\n",
      "Epoch: 4 \n",
      "Learning rate: 0.000421875\n",
      "Train loss: 0.9687 | Train precision: 0.5474 | Train recall: 0.5223 | Train f1score: 0.5254 | Train acc: 0.5747 | Train kappa: 0.8624 \n",
      "Val loss: 1.2017 | Val precision: 0.5308 | Val recall: 0.4084 | Val f1score: 0.3888 | Val acc: 0.5000 | Val kappa: 0.7442 \n",
      "\n",
      "Epoch: 5 \n",
      "Learning rate: 0.00031640625\n",
      "Train loss: 0.9181 | Train precision: 0.5860 | Train recall: 0.5588 | Train f1score: 0.5666 | Train acc: 0.5978 | Train kappa: 0.8789 \n",
      "Val loss: 1.0803 | Val precision: 0.6010 | Val recall: 0.4647 | Val f1score: 0.4700 | Val acc: 0.5502 | Val kappa: 0.7661 \n",
      "\n",
      "Epoch: 6 \n",
      "Learning rate: 0.0002373046875\n",
      "Train loss: 0.8627 | Train precision: 0.6149 | Train recall: 0.5794 | Train f1score: 0.5902 | Train acc: 0.6174 | Train kappa: 0.8935 \n",
      "Val loss: 1.0122 | Val precision: 0.5219 | Val recall: 0.4975 | Val f1score: 0.4876 | Val acc: 0.5795 | Val kappa: 0.8036 \n",
      "\n",
      "Epoch: 7 \n",
      "Learning rate: 0.000177978515625\n",
      "Train loss: 0.8242 | Train precision: 0.6402 | Train recall: 0.6059 | Train f1score: 0.6165 | Train acc: 0.6332 | Train kappa: 0.9039 \n",
      "Val loss: 0.9889 | Val precision: 0.5933 | Val recall: 0.5280 | Val f1score: 0.5157 | Val acc: 0.6193 | Val kappa: 0.8221 \n",
      "\n",
      "Epoch: 8 \n",
      "Learning rate: 0.00013348388671875\n",
      "Train loss: 0.8018 | Train precision: 0.6460 | Train recall: 0.6208 | Train f1score: 0.6285 | Train acc: 0.6450 | Train kappa: 0.9171 \n",
      "Val loss: 1.0331 | Val precision: 0.5612 | Val recall: 0.5108 | Val f1score: 0.5106 | Val acc: 0.5928 | Val kappa: 0.8233 \n",
      "\n",
      "Epoch: 9 \n",
      "Learning rate: 0.0001001129150390625\n",
      "Train loss: 0.7739 | Train precision: 0.6572 | Train recall: 0.6337 | Train f1score: 0.6416 | Train acc: 0.6505 | Train kappa: 0.9170 \n",
      "Val loss: 0.9789 | Val precision: 0.5729 | Val recall: 0.5273 | Val f1score: 0.5276 | Val acc: 0.6212 | Val kappa: 0.8448 \n",
      "\n",
      "Epoch: 10 \n",
      "Learning rate: 7.508468627929687e-05\n",
      "Train loss: 0.7557 | Train precision: 0.6737 | Train recall: 0.6484 | Train f1score: 0.6559 | Train acc: 0.6616 | Train kappa: 0.9243 \n",
      "Val loss: 0.9702 | Val precision: 0.5779 | Val recall: 0.5502 | Val f1score: 0.5489 | Val acc: 0.6136 | Val kappa: 0.8449 \n",
      "\n",
      "Epoch: 11 \n",
      "Learning rate: 5.6313514709472656e-05\n",
      "Train loss: 0.7444 | Train precision: 0.6729 | Train recall: 0.6481 | Train f1score: 0.6565 | Train acc: 0.6625 | Train kappa: 0.9270 \n",
      "Val loss: 0.9956 | Val precision: 0.5900 | Val recall: 0.5460 | Val f1score: 0.5426 | Val acc: 0.6165 | Val kappa: 0.8366 \n",
      "\n",
      "Epoch: 12 \n",
      "Learning rate: 4.223513603210449e-05\n",
      "Train loss: 0.7262 | Train precision: 0.6848 | Train recall: 0.6616 | Train f1score: 0.6698 | Train acc: 0.6706 | Train kappa: 0.9266 \n",
      "Val loss: 0.9847 | Val precision: 0.5916 | Val recall: 0.5584 | Val f1score: 0.5571 | Val acc: 0.6259 | Val kappa: 0.8324 \n",
      "\n",
      "Epoch: 13 \n",
      "Learning rate: 3.167635202407837e-05\n",
      "Train loss: 0.7155 | Train precision: 0.7026 | Train recall: 0.6718 | Train f1score: 0.6833 | Train acc: 0.6788 | Train kappa: 0.9341 \n",
      "Val loss: 0.9819 | Val precision: 0.5870 | Val recall: 0.5494 | Val f1score: 0.5450 | Val acc: 0.6193 | Val kappa: 0.8355 \n",
      "\n",
      "Epoch: 14 \n",
      "Learning rate: 2.3757264018058778e-05\n",
      "Train loss: 0.7095 | Train precision: 0.7019 | Train recall: 0.6709 | Train f1score: 0.6821 | Train acc: 0.6795 | Train kappa: 0.9305 \n",
      "Val loss: 0.9986 | Val precision: 0.6008 | Val recall: 0.5655 | Val f1score: 0.5638 | Val acc: 0.6241 | Val kappa: 0.8327 \n",
      "\n",
      "Epoch: 15 \n",
      "Learning rate: 1.7817948013544083e-05\n",
      "Train loss: 0.7031 | Train precision: 0.6989 | Train recall: 0.6660 | Train f1score: 0.6767 | Train acc: 0.6865 | Train kappa: 0.9309 \n",
      "Val loss: 0.9915 | Val precision: 0.5650 | Val recall: 0.5503 | Val f1score: 0.5468 | Val acc: 0.6184 | Val kappa: 0.8401 \n",
      "\n",
      "Epoch: 16 \n",
      "Learning rate: 1.3363461010158063e-05\n",
      "Train loss: 0.7095 | Train precision: 0.6953 | Train recall: 0.6758 | Train f1score: 0.6821 | Train acc: 0.6818 | Train kappa: 0.9365 \n",
      "Val loss: 0.9909 | Val precision: 0.5664 | Val recall: 0.5501 | Val f1score: 0.5465 | Val acc: 0.6184 | Val kappa: 0.8343 \n",
      "\n",
      "Epoch: 17 \n",
      "Learning rate: 1.0022595757618546e-05\n",
      "Train loss: 0.6792 | Train precision: 0.7162 | Train recall: 0.6919 | Train f1score: 0.7000 | Train acc: 0.6928 | Train kappa: 0.9419 \n",
      "Val loss: 0.9897 | Val precision: 0.5976 | Val recall: 0.5558 | Val f1score: 0.5573 | Val acc: 0.6259 | Val kappa: 0.8404 \n",
      "\n",
      "Epoch: 18 \n",
      "Learning rate: 7.51694681821391e-06\n",
      "Train loss: 0.6781 | Train precision: 0.7193 | Train recall: 0.6918 | Train f1score: 0.7024 | Train acc: 0.6880 | Train kappa: 0.9419 \n",
      "Val loss: 0.9986 | Val precision: 0.5996 | Val recall: 0.5531 | Val f1score: 0.5547 | Val acc: 0.6212 | Val kappa: 0.8397 \n",
      "\n",
      "Epoch: 19 \n",
      "Learning rate: 5.637710113660432e-06\n",
      "Train loss: 0.6875 | Train precision: 0.7188 | Train recall: 0.6890 | Train f1score: 0.6990 | Train acc: 0.6891 | Train kappa: 0.9404 \n",
      "Val loss: 0.9989 | Val precision: 0.5861 | Val recall: 0.5469 | Val f1score: 0.5456 | Val acc: 0.6184 | Val kappa: 0.8431 \n",
      "\n",
      "Epoch: 20 \n",
      "Learning rate: 4.228282585245324e-06\n",
      "Train loss: 0.6870 | Train precision: 0.7103 | Train recall: 0.6791 | Train f1score: 0.6894 | Train acc: 0.6828 | Train kappa: 0.9351 \n",
      "Val loss: 1.0018 | Val precision: 0.5772 | Val recall: 0.5570 | Val f1score: 0.5587 | Val acc: 0.6174 | Val kappa: 0.8436 \n",
      "\n",
      "Early stopping after epoch 20\n"
     ]
    },
    {
     "data": {
      "text/html": [
       "Waiting for W&B process to finish... <strong style=\"color:green\">(success).</strong>"
      ],
      "text/plain": [
       "<IPython.core.display.HTML object>"
      ]
     },
     "metadata": {},
     "output_type": "display_data"
    },
    {
     "data": {
      "application/vnd.jupyter.widget-view+json": {
       "model_id": "324fec750d0e4b698a6d1a0391bd1e6b",
       "version_major": 2,
       "version_minor": 0
      },
      "text/plain": [
       "VBox(children=(Label(value='0.001 MB of 0.001 MB uploaded (0.000 MB deduped)\\r'), FloatProgress(value=1.0, max…"
      ]
     },
     "metadata": {},
     "output_type": "display_data"
    },
    {
     "data": {
      "text/html": [
       "<style>\n",
       "    table.wandb td:nth-child(1) { padding: 0 10px; text-align: left ; width: auto;} td:nth-child(2) {text-align: left ; width: 100%}\n",
       "    .wandb-row { display: flex; flex-direction: row; flex-wrap: wrap; justify-content: flex-start; width: 100% }\n",
       "    .wandb-col { display: flex; flex-direction: column; flex-basis: 100%; flex: 1; padding: 10px; }\n",
       "    </style>\n",
       "<div class=\"wandb-row\"><div class=\"wandb-col\"><h3>Run history:</h3><br/><table class=\"wandb\"><tr><td>learning_rate</td><td>█▆▅▄▃▃▂▂▂▁▁▁▁▁▁▁▁▁▁▁</td></tr><tr><td>train_f1_score</td><td>▁▃▄▄▅▆▆▆▇▇▇▇██▇█████</td></tr><tr><td>train_loss</td><td>█▆▄▄▃▃▂▂▂▂▂▁▁▁▁▁▁▁▁▁</td></tr><tr><td>val_f1_score</td><td>▁▄▅▅▆▇▇▇▇███████████</td></tr><tr><td>val_loss</td><td>█▆▂▃▂▁▁▂▁▁▁▁▁▁▁▁▁▁▁▁</td></tr></table><br/></div><div class=\"wandb-col\"><h3>Run summary:</h3><br/><table class=\"wandb\"><tr><td>learning_rate</td><td>0.0</td></tr><tr><td>train_f1_score</td><td>0.68942</td></tr><tr><td>train_loss</td><td>0.68701</td></tr><tr><td>val_f1_score</td><td>0.55866</td></tr><tr><td>val_loss</td><td>1.0018</td></tr></table><br/></div></div>"
      ],
      "text/plain": [
       "<IPython.core.display.HTML object>"
      ]
     },
     "metadata": {},
     "output_type": "display_data"
    },
    {
     "data": {
      "text/html": [
       " View run <strong style=\"color:#cdcd00\">fold_1_RGB-5species-combined_v2_plotsplit_001</strong> at: <a href='https://wandb.ai/simon-ecke/wze-uav-combined_v2/runs/73yb4ezu' target=\"_blank\">https://wandb.ai/simon-ecke/wze-uav-combined_v2/runs/73yb4ezu</a><br/>Synced 5 W&B file(s), 0 media file(s), 0 artifact file(s) and 0 other file(s)"
      ],
      "text/plain": [
       "<IPython.core.display.HTML object>"
      ]
     },
     "metadata": {},
     "output_type": "display_data"
    },
    {
     "data": {
      "text/html": [
       "Find logs at: <code>.\\wandb\\run-20230516_081315-73yb4ezu\\logs</code>"
      ],
      "text/plain": [
       "<IPython.core.display.HTML object>"
      ]
     },
     "metadata": {},
     "output_type": "display_data"
    },
    {
     "name": "stdout",
     "output_type": "stream",
     "text": [
      "Deleting variables and emptying cache\n",
      "Memory allocated: 1047879168 bytes\n",
      "--------------------------------------------------\n",
      "\n",
      "Fold : 2\n",
      "TRAIN POSITIVE RATIO: 2.786750398018751\n",
      "VAL POSITIVE RATIO  : 2.9143576826196473\n",
      "LENGTH TRAIN GROUPS : 157\n",
      "LENGTH VAL GROUPS   : 40\n"
     ]
    },
    {
     "data": {
      "text/html": [
       "wandb version 0.15.2 is available!  To upgrade, please run:\n",
       " $ pip install wandb --upgrade"
      ],
      "text/plain": [
       "<IPython.core.display.HTML object>"
      ]
     },
     "metadata": {},
     "output_type": "display_data"
    },
    {
     "data": {
      "text/html": [
       "Tracking run with wandb version 0.14.2"
      ],
      "text/plain": [
       "<IPython.core.display.HTML object>"
      ]
     },
     "metadata": {},
     "output_type": "display_data"
    },
    {
     "data": {
      "text/html": [
       "Run data is saved locally in <code>C:\\Users\\lwfeckesim\\01_PyTorch\\wze-uav\\wze-uav-master\\wandb\\run-20230516_100123-qmvvv30p</code>"
      ],
      "text/plain": [
       "<IPython.core.display.HTML object>"
      ]
     },
     "metadata": {},
     "output_type": "display_data"
    },
    {
     "data": {
      "text/html": [
       "Syncing run <strong><a href='https://wandb.ai/simon-ecke/wze-uav-combined_v2/runs/qmvvv30p' target=\"_blank\">fold_2_RGB-5species-combined_v2_plotsplit_001</a></strong> to <a href='https://wandb.ai/simon-ecke/wze-uav-combined_v2' target=\"_blank\">Weights & Biases</a> (<a href='https://wandb.me/run' target=\"_blank\">docs</a>)<br/>"
      ],
      "text/plain": [
       "<IPython.core.display.HTML object>"
      ]
     },
     "metadata": {},
     "output_type": "display_data"
    },
    {
     "data": {
      "text/html": [
       " View project at <a href='https://wandb.ai/simon-ecke/wze-uav-combined_v2' target=\"_blank\">https://wandb.ai/simon-ecke/wze-uav-combined_v2</a>"
      ],
      "text/plain": [
       "<IPython.core.display.HTML object>"
      ]
     },
     "metadata": {},
     "output_type": "display_data"
    },
    {
     "data": {
      "text/html": [
       " View run at <a href='https://wandb.ai/simon-ecke/wze-uav-combined_v2/runs/qmvvv30p' target=\"_blank\">https://wandb.ai/simon-ecke/wze-uav-combined_v2/runs/qmvvv30p</a>"
      ],
      "text/plain": [
       "<IPython.core.display.HTML object>"
      ]
     },
     "metadata": {},
     "output_type": "display_data"
    },
    {
     "name": "stdout",
     "output_type": "stream",
     "text": [
      "There are no same hash_id values in train, val or test datasets. The datasplit was successful\n",
      "Check shapes:\n",
      "\n",
      "Images train dataset: (11306, 250, 250, 3)\n",
      "Labels train dataset: (11306, 1)\n",
      "\n",
      "Images validation dataset: (908, 250, 250, 3)\n",
      "Labels validation dataset: (908, 1)\n",
      "\n",
      "--------------------------------------------------\n",
      "Check if the split was stratified: (random_state=42)\n",
      "Picea abies healthy in train dataset: 3271\n",
      "Picea abies stressed in train dataset: 1621\n",
      "Pinus sylvestris healthy in train dataset: 1525\n",
      "Pinus sylvestris stressed in train dataset: 1844\n",
      "Abies alba healthy in train dataset: 315\n",
      "Abies alba stressed in train dataset: 62\n",
      "Fagus sylvatica healthy in train dataset: 833\n",
      "Fagus sylvatica stressed in train dataset: 710\n",
      "Quercus robur/petraea healthy in train dataset: 570\n",
      "Quercus robur/petraea stressed in train dataset: 344\n",
      "Dead trees in train dataset: 211\n",
      "Picea abies healthy in validation dataset: 170\n",
      "Picea abies stressed in validation dataset: 172\n",
      "Pinus sylvestris healthy in validation dataset: 144\n",
      "Pinus sylvestris stressed in validation dataset: 174\n",
      "Abies alba healthy in validation dataset: 43\n",
      "Abies alba stressed in validation dataset: 26\n",
      "Fagus sylvatica healthy in validation dataset: 78\n",
      "Fagus sylvatica stressed in validation dataset: 38\n",
      "Quercus robur/petraea healthy in validation dataset: 27\n",
      "Quercus robur/petraea stressed in validation dataset: 23\n",
      "Dead trees in validation dataset: 13\n",
      "--------------------------------------------------\n",
      "\n",
      "Creating datasets for fold: 2\n",
      "\n",
      "Creating dataloaders for fold: 2\n",
      "\n",
      "Loaded pretrained weights for efficientnet-b7\n",
      "\n",
      "[INFO] Fold number: 2\n",
      "[INFO] Number of epochs: 50\n",
      "[INFO] Batch_size: 32\n",
      "[INFO] Number of bands: 3\n",
      "[INFO] Dropout rate: 0.5\n",
      "[INFO] Gamma learning rate: 0.75\n",
      "[INFO] Memory allocated: 0 bytes\n"
     ]
    },
    {
     "data": {
      "application/vnd.jupyter.widget-view+json": {
       "model_id": "acb1f48503404b4fba17f81523c7e0ca",
       "version_major": 2,
       "version_minor": 0
      },
      "text/plain": [
       "  0%|          | 0/50 [00:00<?, ?it/s]"
      ]
     },
     "metadata": {},
     "output_type": "display_data"
    },
    {
     "name": "stdout",
     "output_type": "stream",
     "text": [
      "Epoch: 1 \n",
      "Learning rate: 0.001\n",
      "Train loss: 1.3780 | Train precision: 0.3753 | Train recall: 0.3341 | Train f1score: 0.3422 | Train acc: 0.4441 | Train kappa: 0.6983 \n",
      "Val loss: 1.5929 | Val precision: 0.4323 | Val recall: 0.2905 | Val f1score: 0.2407 | Val acc: 0.4018 | Val kappa: 0.6349 \n",
      "\n",
      "Epoch: 2 \n",
      "Learning rate: 0.00075\n",
      "Train loss: 1.1340 | Train precision: 0.4550 | Train recall: 0.4443 | Train f1score: 0.4450 | Train acc: 0.5259 | Train kappa: 0.8060 \n",
      "Val loss: 1.2345 | Val precision: 0.3945 | Val recall: 0.4560 | Val f1score: 0.3861 | Val acc: 0.4844 | Val kappa: 0.7495 \n",
      "\n",
      "Epoch: 3 \n",
      "Learning rate: 0.0005625000000000001\n",
      "Train loss: 1.0332 | Train precision: 0.5107 | Train recall: 0.4897 | Train f1score: 0.4907 | Train acc: 0.5587 | Train kappa: 0.8425 \n",
      "Val loss: 1.1973 | Val precision: 0.4132 | Val recall: 0.4538 | Val f1score: 0.3951 | Val acc: 0.4944 | Val kappa: 0.7200 \n",
      "\n",
      "Epoch: 4 \n",
      "Learning rate: 0.000421875\n",
      "Train loss: 0.9411 | Train precision: 0.5580 | Train recall: 0.5183 | Train f1score: 0.5200 | Train acc: 0.5862 | Train kappa: 0.8671 \n",
      "Val loss: 1.1402 | Val precision: 0.5112 | Val recall: 0.5107 | Val f1score: 0.4660 | Val acc: 0.5246 | Val kappa: 0.6785 \n",
      "\n",
      "Epoch: 5 \n",
      "Learning rate: 0.00031640625\n",
      "Train loss: 0.9021 | Train precision: 0.5835 | Train recall: 0.5450 | Train f1score: 0.5500 | Train acc: 0.6086 | Train kappa: 0.8789 \n",
      "Val loss: 1.0262 | Val precision: 0.4540 | Val recall: 0.4595 | Val f1score: 0.4443 | Val acc: 0.5368 | Val kappa: 0.8109 \n",
      "\n",
      "Epoch: 6 \n",
      "Learning rate: 0.0002373046875\n",
      "Train loss: 0.8611 | Train precision: 0.6084 | Train recall: 0.5652 | Train f1score: 0.5743 | Train acc: 0.6182 | Train kappa: 0.8979 \n",
      "Val loss: 1.0054 | Val precision: 0.4408 | Val recall: 0.4672 | Val f1score: 0.4463 | Val acc: 0.5558 | Val kappa: 0.7624 \n",
      "\n",
      "Epoch: 7 \n",
      "Learning rate: 0.000177978515625\n",
      "Train loss: 0.8248 | Train precision: 0.6311 | Train recall: 0.5904 | Train f1score: 0.5998 | Train acc: 0.6342 | Train kappa: 0.8968 \n",
      "Val loss: 1.0515 | Val precision: 0.5730 | Val recall: 0.5155 | Val f1score: 0.5120 | Val acc: 0.5703 | Val kappa: 0.8070 \n",
      "\n",
      "Epoch: 8 \n",
      "Learning rate: 0.00013348388671875\n",
      "Train loss: 0.7890 | Train precision: 0.6454 | Train recall: 0.6099 | Train f1score: 0.6169 | Train acc: 0.6529 | Train kappa: 0.9172 \n",
      "Val loss: 0.9563 | Val precision: 0.5519 | Val recall: 0.5388 | Val f1score: 0.5316 | Val acc: 0.5871 | Val kappa: 0.8297 \n",
      "\n",
      "Epoch: 9 \n",
      "Learning rate: 0.0001001129150390625\n",
      "Train loss: 0.7773 | Train precision: 0.6363 | Train recall: 0.6008 | Train f1score: 0.6094 | Train acc: 0.6435 | Train kappa: 0.9191 \n",
      "Val loss: 0.9875 | Val precision: 0.5706 | Val recall: 0.5444 | Val f1score: 0.5383 | Val acc: 0.5871 | Val kappa: 0.8036 \n",
      "\n",
      "Epoch: 10 \n",
      "Learning rate: 7.508468627929687e-05\n",
      "Train loss: 0.7492 | Train precision: 0.6597 | Train recall: 0.6232 | Train f1score: 0.6334 | Train acc: 0.6655 | Train kappa: 0.9171 \n",
      "Val loss: 0.9379 | Val precision: 0.6005 | Val recall: 0.5359 | Val f1score: 0.5239 | Val acc: 0.5904 | Val kappa: 0.8373 \n",
      "\n",
      "Epoch: 11 \n",
      "Learning rate: 5.6313514709472656e-05\n",
      "Train loss: 0.7333 | Train precision: 0.6739 | Train recall: 0.6319 | Train f1score: 0.6414 | Train acc: 0.6729 | Train kappa: 0.9256 \n",
      "Val loss: 0.9631 | Val precision: 0.5699 | Val recall: 0.5181 | Val f1score: 0.5047 | Val acc: 0.5770 | Val kappa: 0.8080 \n",
      "\n",
      "Epoch: 12 \n",
      "Learning rate: 4.223513603210449e-05\n",
      "Train loss: 0.7128 | Train precision: 0.7038 | Train recall: 0.6462 | Train f1score: 0.6618 | Train acc: 0.6815 | Train kappa: 0.9290 \n",
      "Val loss: 0.9782 | Val precision: 0.5815 | Val recall: 0.5329 | Val f1score: 0.5173 | Val acc: 0.5781 | Val kappa: 0.8418 \n",
      "\n",
      "Epoch: 13 \n",
      "Learning rate: 3.167635202407837e-05\n",
      "Train loss: 0.7133 | Train precision: 0.6997 | Train recall: 0.6576 | Train f1score: 0.6707 | Train acc: 0.6860 | Train kappa: 0.9283 \n",
      "Val loss: 0.9469 | Val precision: 0.5873 | Val recall: 0.5484 | Val f1score: 0.5377 | Val acc: 0.5938 | Val kappa: 0.8445 \n",
      "\n",
      "Epoch: 14 \n",
      "Learning rate: 2.3757264018058778e-05\n",
      "Train loss: 0.6992 | Train precision: 0.6874 | Train recall: 0.6536 | Train f1score: 0.6642 | Train acc: 0.6827 | Train kappa: 0.9316 \n",
      "Val loss: 0.9713 | Val precision: 0.5823 | Val recall: 0.5320 | Val f1score: 0.5268 | Val acc: 0.5815 | Val kappa: 0.8222 \n",
      "\n",
      "Epoch: 15 \n",
      "Learning rate: 1.7817948013544083e-05\n",
      "Train loss: 0.6927 | Train precision: 0.7005 | Train recall: 0.6635 | Train f1score: 0.6757 | Train acc: 0.6917 | Train kappa: 0.9306 \n",
      "Val loss: 0.9525 | Val precision: 0.5777 | Val recall: 0.5375 | Val f1score: 0.5296 | Val acc: 0.5826 | Val kappa: 0.8365 \n",
      "\n",
      "Epoch: 16 \n",
      "Learning rate: 1.3363461010158063e-05\n",
      "Train loss: 0.6876 | Train precision: 0.6995 | Train recall: 0.6622 | Train f1score: 0.6711 | Train acc: 0.6898 | Train kappa: 0.9292 \n",
      "Val loss: 0.9720 | Val precision: 0.5873 | Val recall: 0.5506 | Val f1score: 0.5497 | Val acc: 0.5904 | Val kappa: 0.8386 \n",
      "\n",
      "Epoch: 17 \n",
      "Learning rate: 1.0022595757618546e-05\n",
      "Train loss: 0.6724 | Train precision: 0.7095 | Train recall: 0.6788 | Train f1score: 0.6883 | Train acc: 0.7013 | Train kappa: 0.9375 \n",
      "Val loss: 0.9644 | Val precision: 0.5940 | Val recall: 0.5497 | Val f1score: 0.5516 | Val acc: 0.5882 | Val kappa: 0.8407 \n",
      "\n",
      "Epoch: 18 \n",
      "Learning rate: 7.51694681821391e-06\n",
      "Train loss: 0.6703 | Train precision: 0.7096 | Train recall: 0.6792 | Train f1score: 0.6894 | Train acc: 0.7017 | Train kappa: 0.9361 \n",
      "Val loss: 0.9709 | Val precision: 0.5643 | Val recall: 0.5268 | Val f1score: 0.5255 | Val acc: 0.5748 | Val kappa: 0.8336 \n",
      "\n",
      "Epoch: 19 \n",
      "Learning rate: 5.637710113660432e-06\n",
      "Train loss: 0.6703 | Train precision: 0.7085 | Train recall: 0.6753 | Train f1score: 0.6868 | Train acc: 0.6995 | Train kappa: 0.9418 \n",
      "Val loss: 0.9725 | Val precision: 0.5712 | Val recall: 0.5331 | Val f1score: 0.5299 | Val acc: 0.5759 | Val kappa: 0.8355 \n",
      "\n",
      "Epoch: 20 \n",
      "Learning rate: 4.228282585245324e-06\n",
      "Train loss: 0.6798 | Train precision: 0.7143 | Train recall: 0.6757 | Train f1score: 0.6883 | Train acc: 0.6990 | Train kappa: 0.9344 \n",
      "Val loss: 0.9618 | Val precision: 0.5782 | Val recall: 0.5484 | Val f1score: 0.5419 | Val acc: 0.5826 | Val kappa: 0.8361 \n",
      "\n",
      "Early stopping after epoch 20\n"
     ]
    },
    {
     "data": {
      "text/html": [
       "Waiting for W&B process to finish... <strong style=\"color:green\">(success).</strong>"
      ],
      "text/plain": [
       "<IPython.core.display.HTML object>"
      ]
     },
     "metadata": {},
     "output_type": "display_data"
    },
    {
     "data": {
      "application/vnd.jupyter.widget-view+json": {
       "model_id": "73fd1c0342f7413684e4ebb2fe8f288e",
       "version_major": 2,
       "version_minor": 0
      },
      "text/plain": [
       "VBox(children=(Label(value='0.001 MB of 0.012 MB uploaded (0.000 MB deduped)\\r'), FloatProgress(value=0.106156…"
      ]
     },
     "metadata": {},
     "output_type": "display_data"
    },
    {
     "data": {
      "text/html": [
       "<style>\n",
       "    table.wandb td:nth-child(1) { padding: 0 10px; text-align: left ; width: auto;} td:nth-child(2) {text-align: left ; width: 100%}\n",
       "    .wandb-row { display: flex; flex-direction: row; flex-wrap: wrap; justify-content: flex-start; width: 100% }\n",
       "    .wandb-col { display: flex; flex-direction: column; flex-basis: 100%; flex: 1; padding: 10px; }\n",
       "    </style>\n",
       "<div class=\"wandb-row\"><div class=\"wandb-col\"><h3>Run history:</h3><br/><table class=\"wandb\"><tr><td>learning_rate</td><td>█▆▅▄▃▃▂▂▂▁▁▁▁▁▁▁▁▁▁▁</td></tr><tr><td>train_f1_score</td><td>▁▃▄▅▅▆▆▇▆▇▇▇█▇██████</td></tr><tr><td>train_loss</td><td>█▆▅▄▃▃▃▂▂▂▂▁▁▁▁▁▁▁▁▁</td></tr><tr><td>val_f1_score</td><td>▁▄▄▆▆▆▇██▇▇▇█▇███▇██</td></tr><tr><td>val_loss</td><td>█▄▄▃▂▂▂▁▂▁▁▁▁▁▁▁▁▁▁▁</td></tr></table><br/></div><div class=\"wandb-col\"><h3>Run summary:</h3><br/><table class=\"wandb\"><tr><td>learning_rate</td><td>0.0</td></tr><tr><td>train_f1_score</td><td>0.68831</td></tr><tr><td>train_loss</td><td>0.67976</td></tr><tr><td>val_f1_score</td><td>0.54192</td></tr><tr><td>val_loss</td><td>0.96178</td></tr></table><br/></div></div>"
      ],
      "text/plain": [
       "<IPython.core.display.HTML object>"
      ]
     },
     "metadata": {},
     "output_type": "display_data"
    },
    {
     "data": {
      "text/html": [
       " View run <strong style=\"color:#cdcd00\">fold_2_RGB-5species-combined_v2_plotsplit_001</strong> at: <a href='https://wandb.ai/simon-ecke/wze-uav-combined_v2/runs/qmvvv30p' target=\"_blank\">https://wandb.ai/simon-ecke/wze-uav-combined_v2/runs/qmvvv30p</a><br/>Synced 5 W&B file(s), 0 media file(s), 0 artifact file(s) and 0 other file(s)"
      ],
      "text/plain": [
       "<IPython.core.display.HTML object>"
      ]
     },
     "metadata": {},
     "output_type": "display_data"
    },
    {
     "data": {
      "text/html": [
       "Find logs at: <code>.\\wandb\\run-20230516_100123-qmvvv30p\\logs</code>"
      ],
      "text/plain": [
       "<IPython.core.display.HTML object>"
      ]
     },
     "metadata": {},
     "output_type": "display_data"
    },
    {
     "name": "stdout",
     "output_type": "stream",
     "text": [
      "Deleting variables and emptying cache\n",
      "Memory allocated: 1058010624 bytes\n",
      "--------------------------------------------------\n",
      "\n",
      "Fold : 3\n",
      "TRAIN POSITIVE RATIO: 2.8065014074275854\n",
      "VAL POSITIVE RATIO  : 2.8190654205607477\n",
      "LENGTH TRAIN GROUPS : 158\n",
      "LENGTH VAL GROUPS   : 39\n"
     ]
    },
    {
     "data": {
      "text/html": [
       "wandb version 0.15.2 is available!  To upgrade, please run:\n",
       " $ pip install wandb --upgrade"
      ],
      "text/plain": [
       "<IPython.core.display.HTML object>"
      ]
     },
     "metadata": {},
     "output_type": "display_data"
    },
    {
     "data": {
      "text/html": [
       "Tracking run with wandb version 0.14.2"
      ],
      "text/plain": [
       "<IPython.core.display.HTML object>"
      ]
     },
     "metadata": {},
     "output_type": "display_data"
    },
    {
     "data": {
      "text/html": [
       "Run data is saved locally in <code>C:\\Users\\lwfeckesim\\01_PyTorch\\wze-uav\\wze-uav-master\\wandb\\run-20230516_113738-mo230xh9</code>"
      ],
      "text/plain": [
       "<IPython.core.display.HTML object>"
      ]
     },
     "metadata": {},
     "output_type": "display_data"
    },
    {
     "data": {
      "text/html": [
       "Syncing run <strong><a href='https://wandb.ai/simon-ecke/wze-uav-combined_v2/runs/mo230xh9' target=\"_blank\">fold_3_RGB-5species-combined_v2_plotsplit_001</a></strong> to <a href='https://wandb.ai/simon-ecke/wze-uav-combined_v2' target=\"_blank\">Weights & Biases</a> (<a href='https://wandb.me/run' target=\"_blank\">docs</a>)<br/>"
      ],
      "text/plain": [
       "<IPython.core.display.HTML object>"
      ]
     },
     "metadata": {},
     "output_type": "display_data"
    },
    {
     "data": {
      "text/html": [
       " View project at <a href='https://wandb.ai/simon-ecke/wze-uav-combined_v2' target=\"_blank\">https://wandb.ai/simon-ecke/wze-uav-combined_v2</a>"
      ],
      "text/plain": [
       "<IPython.core.display.HTML object>"
      ]
     },
     "metadata": {},
     "output_type": "display_data"
    },
    {
     "data": {
      "text/html": [
       " View run at <a href='https://wandb.ai/simon-ecke/wze-uav-combined_v2/runs/mo230xh9' target=\"_blank\">https://wandb.ai/simon-ecke/wze-uav-combined_v2/runs/mo230xh9</a>"
      ],
      "text/plain": [
       "<IPython.core.display.HTML object>"
      ]
     },
     "metadata": {},
     "output_type": "display_data"
    },
    {
     "name": "stdout",
     "output_type": "stream",
     "text": [
      "There are no same hash_id values in train, val or test datasets. The datasplit was successful\n",
      "Check shapes:\n",
      "\n",
      "Images train dataset: (11013, 250, 250, 3)\n",
      "Labels train dataset: (11013, 1)\n",
      "\n",
      "Images validation dataset: (1001, 250, 250, 3)\n",
      "Labels validation dataset: (1001, 1)\n",
      "\n",
      "--------------------------------------------------\n",
      "Check if the split was stratified: (random_state=42)\n",
      "Picea abies healthy in train dataset: 2846\n",
      "Picea abies stressed in train dataset: 1621\n",
      "Pinus sylvestris healthy in train dataset: 1565\n",
      "Pinus sylvestris stressed in train dataset: 2038\n",
      "Abies alba healthy in train dataset: 383\n",
      "Abies alba stressed in train dataset: 131\n",
      "Fagus sylvatica healthy in train dataset: 810\n",
      "Fagus sylvatica stressed in train dataset: 637\n",
      "Quercus robur/petraea healthy in train dataset: 490\n",
      "Quercus robur/petraea stressed in train dataset: 303\n",
      "Dead trees in train dataset: 189\n",
      "Picea abies healthy in validation dataset: 320\n",
      "Picea abies stressed in validation dataset: 155\n",
      "Pinus sylvestris healthy in validation dataset: 123\n",
      "Pinus sylvestris stressed in validation dataset: 105\n",
      "Abies alba healthy in validation dataset: 23\n",
      "Abies alba stressed in validation dataset: 2\n",
      "Fagus sylvatica healthy in validation dataset: 72\n",
      "Fagus sylvatica stressed in validation dataset: 76\n",
      "Quercus robur/petraea healthy in validation dataset: 68\n",
      "Quercus robur/petraea stressed in validation dataset: 34\n",
      "Dead trees in validation dataset: 23\n",
      "--------------------------------------------------\n",
      "\n",
      "Creating datasets for fold: 3\n",
      "\n",
      "Creating dataloaders for fold: 3\n",
      "\n",
      "Loaded pretrained weights for efficientnet-b7\n",
      "\n",
      "[INFO] Fold number: 3\n",
      "[INFO] Number of epochs: 50\n",
      "[INFO] Batch_size: 32\n",
      "[INFO] Number of bands: 3\n",
      "[INFO] Dropout rate: 0.5\n",
      "[INFO] Gamma learning rate: 0.75\n",
      "[INFO] Memory allocated: 0 bytes\n"
     ]
    },
    {
     "data": {
      "application/vnd.jupyter.widget-view+json": {
       "model_id": "b81fc29a23d74d86b071759d0b7291e5",
       "version_major": 2,
       "version_minor": 0
      },
      "text/plain": [
       "  0%|          | 0/50 [00:00<?, ?it/s]"
      ]
     },
     "metadata": {},
     "output_type": "display_data"
    },
    {
     "name": "stdout",
     "output_type": "stream",
     "text": [
      "Epoch: 1 \n",
      "Learning rate: 0.001\n",
      "Train loss: 1.4049 | Train precision: 0.3807 | Train recall: 0.3383 | Train f1score: 0.3448 | Train acc: 0.4354 | Train kappa: 0.6906 \n",
      "Val loss: 1.5913 | Val precision: 0.2546 | Val recall: 0.2100 | Val f1score: 0.1645 | Val acc: 0.4315 | Val kappa: 0.5311 \n",
      "\n",
      "Epoch: 2 \n",
      "Learning rate: 0.00075\n",
      "Train loss: 1.1409 | Train precision: 0.4817 | Train recall: 0.4380 | Train f1score: 0.4420 | Train acc: 0.5140 | Train kappa: 0.7882 \n",
      "Val loss: 1.5735 | Val precision: 0.3131 | Val recall: 0.3058 | Val f1score: 0.2155 | Val acc: 0.4052 | Val kappa: 0.6371 \n",
      "\n",
      "Epoch: 3 \n",
      "Learning rate: 0.0005625000000000001\n",
      "Train loss: 1.0495 | Train precision: 0.5216 | Train recall: 0.4936 | Train f1score: 0.4972 | Train acc: 0.5579 | Train kappa: 0.8117 \n",
      "Val loss: 1.1384 | Val precision: 0.4658 | Val recall: 0.4834 | Val f1score: 0.4278 | Val acc: 0.5071 | Val kappa: 0.8063 \n",
      "\n",
      "Epoch: 4 \n",
      "Learning rate: 0.000421875\n",
      "Train loss: 0.9527 | Train precision: 0.5685 | Train recall: 0.5376 | Train f1score: 0.5461 | Train acc: 0.5817 | Train kappa: 0.8575 \n",
      "Val loss: 1.1123 | Val precision: 0.5307 | Val recall: 0.5190 | Val f1score: 0.5030 | Val acc: 0.5091 | Val kappa: 0.8538 \n",
      "\n",
      "Epoch: 5 \n",
      "Learning rate: 0.00031640625\n",
      "Train loss: 0.9075 | Train precision: 0.5833 | Train recall: 0.5578 | Train f1score: 0.5651 | Train acc: 0.6004 | Train kappa: 0.8681 \n",
      "Val loss: 0.9771 | Val precision: 0.5495 | Val recall: 0.5195 | Val f1score: 0.5056 | Val acc: 0.5554 | Val kappa: 0.8579 \n",
      "\n",
      "Epoch: 6 \n",
      "Learning rate: 0.0002373046875\n",
      "Train loss: 0.8780 | Train precision: 0.5966 | Train recall: 0.5697 | Train f1score: 0.5771 | Train acc: 0.6093 | Train kappa: 0.8770 \n",
      "Val loss: 0.9962 | Val precision: 0.5301 | Val recall: 0.5422 | Val f1score: 0.5021 | Val acc: 0.5877 | Val kappa: 0.8413 \n",
      "\n",
      "Epoch: 7 \n",
      "Learning rate: 0.000177978515625\n",
      "Train loss: 0.8380 | Train precision: 0.6303 | Train recall: 0.6013 | Train f1score: 0.6102 | Train acc: 0.6319 | Train kappa: 0.8963 \n",
      "Val loss: 0.9403 | Val precision: 0.5188 | Val recall: 0.5618 | Val f1score: 0.5183 | Val acc: 0.5867 | Val kappa: 0.8667 \n",
      "\n",
      "Epoch: 8 \n",
      "Learning rate: 0.00013348388671875\n",
      "Train loss: 0.8195 | Train precision: 0.6358 | Train recall: 0.6051 | Train f1score: 0.6147 | Train acc: 0.6374 | Train kappa: 0.8958 \n",
      "Val loss: 0.9699 | Val precision: 0.5281 | Val recall: 0.5375 | Val f1score: 0.4995 | Val acc: 0.5565 | Val kappa: 0.8477 \n",
      "\n",
      "Epoch: 9 \n",
      "Learning rate: 0.0001001129150390625\n",
      "Train loss: 0.7794 | Train precision: 0.6529 | Train recall: 0.6270 | Train f1score: 0.6352 | Train acc: 0.6573 | Train kappa: 0.9054 \n",
      "Val loss: 0.9508 | Val precision: 0.5694 | Val recall: 0.6188 | Val f1score: 0.5518 | Val acc: 0.6008 | Val kappa: 0.8906 \n",
      "\n",
      "Epoch: 10 \n",
      "Learning rate: 7.508468627929687e-05\n",
      "Train loss: 0.7774 | Train precision: 0.6596 | Train recall: 0.6337 | Train f1score: 0.6408 | Train acc: 0.6516 | Train kappa: 0.9039 \n",
      "Val loss: 0.9202 | Val precision: 0.5633 | Val recall: 0.6083 | Val f1score: 0.5493 | Val acc: 0.6139 | Val kappa: 0.8834 \n",
      "\n",
      "Epoch: 11 \n",
      "Learning rate: 5.6313514709472656e-05\n",
      "Train loss: 0.7468 | Train precision: 0.6661 | Train recall: 0.6425 | Train f1score: 0.6499 | Train acc: 0.6671 | Train kappa: 0.9181 \n",
      "Val loss: 0.9102 | Val precision: 0.5420 | Val recall: 0.5443 | Val f1score: 0.5244 | Val acc: 0.6099 | Val kappa: 0.8716 \n",
      "\n",
      "Epoch: 12 \n",
      "Learning rate: 4.223513603210449e-05\n",
      "Train loss: 0.7293 | Train precision: 0.6829 | Train recall: 0.6581 | Train f1score: 0.6665 | Train acc: 0.6684 | Train kappa: 0.9208 \n",
      "Val loss: 0.9210 | Val precision: 0.5373 | Val recall: 0.5532 | Val f1score: 0.5238 | Val acc: 0.6129 | Val kappa: 0.8797 \n",
      "\n",
      "Epoch: 13 \n",
      "Learning rate: 3.167635202407837e-05\n",
      "Train loss: 0.7294 | Train precision: 0.6865 | Train recall: 0.6567 | Train f1score: 0.6669 | Train acc: 0.6741 | Train kappa: 0.9226 \n",
      "Val loss: 0.9235 | Val precision: 0.5325 | Val recall: 0.5598 | Val f1score: 0.5229 | Val acc: 0.6058 | Val kappa: 0.8780 \n",
      "\n",
      "Epoch: 14 \n",
      "Learning rate: 2.3757264018058778e-05\n",
      "Train loss: 0.7005 | Train precision: 0.7011 | Train recall: 0.6780 | Train f1score: 0.6865 | Train acc: 0.6897 | Train kappa: 0.9195 \n",
      "Val loss: 0.9238 | Val precision: 0.5416 | Val recall: 0.5558 | Val f1score: 0.5258 | Val acc: 0.6169 | Val kappa: 0.8726 \n",
      "\n",
      "Epoch: 15 \n",
      "Learning rate: 1.7817948013544083e-05\n",
      "Train loss: 0.7022 | Train precision: 0.7023 | Train recall: 0.6783 | Train f1score: 0.6874 | Train acc: 0.6801 | Train kappa: 0.9266 \n",
      "Val loss: 0.9160 | Val precision: 0.5359 | Val recall: 0.5749 | Val f1score: 0.5351 | Val acc: 0.6119 | Val kappa: 0.8654 \n",
      "\n",
      "Epoch: 16 \n",
      "Learning rate: 1.3363461010158063e-05\n",
      "Train loss: 0.6985 | Train precision: 0.6983 | Train recall: 0.6683 | Train f1score: 0.6787 | Train acc: 0.6903 | Train kappa: 0.9250 \n",
      "Val loss: 0.9288 | Val precision: 0.5293 | Val recall: 0.5578 | Val f1score: 0.5154 | Val acc: 0.6129 | Val kappa: 0.8673 \n",
      "\n",
      "Epoch: 17 \n",
      "Learning rate: 1.0022595757618546e-05\n",
      "Train loss: 0.6934 | Train precision: 0.7010 | Train recall: 0.6772 | Train f1score: 0.6860 | Train acc: 0.6892 | Train kappa: 0.9219 \n",
      "Val loss: 0.9115 | Val precision: 0.5529 | Val recall: 0.6115 | Val f1score: 0.5531 | Val acc: 0.6179 | Val kappa: 0.8680 \n",
      "\n",
      "Epoch: 18 \n",
      "Learning rate: 7.51694681821391e-06\n",
      "Train loss: 0.6918 | Train precision: 0.7075 | Train recall: 0.6834 | Train f1score: 0.6932 | Train acc: 0.6934 | Train kappa: 0.9263 \n",
      "Val loss: 0.9151 | Val precision: 0.5484 | Val recall: 0.6143 | Val f1score: 0.5445 | Val acc: 0.6200 | Val kappa: 0.8656 \n",
      "\n",
      "Epoch: 19 \n",
      "Learning rate: 5.637710113660432e-06\n",
      "Train loss: 0.6869 | Train precision: 0.7192 | Train recall: 0.6892 | Train f1score: 0.6990 | Train acc: 0.6944 | Train kappa: 0.9377 \n",
      "Val loss: 0.9204 | Val precision: 0.5354 | Val recall: 0.5975 | Val f1score: 0.5275 | Val acc: 0.6129 | Val kappa: 0.8640 \n",
      "\n",
      "Epoch: 20 \n",
      "Learning rate: 4.228282585245324e-06\n",
      "Train loss: 0.6776 | Train precision: 0.7065 | Train recall: 0.6848 | Train f1score: 0.6935 | Train acc: 0.6897 | Train kappa: 0.9320 \n",
      "Val loss: 0.9182 | Val precision: 0.5383 | Val recall: 0.5702 | Val f1score: 0.5315 | Val acc: 0.6169 | Val kappa: 0.8695 \n",
      "\n",
      "Epoch: 21 \n",
      "Learning rate: 3.1712119389339933e-06\n",
      "Train loss: 0.6871 | Train precision: 0.7013 | Train recall: 0.6823 | Train f1score: 0.6887 | Train acc: 0.6870 | Train kappa: 0.9308 \n",
      "Val loss: 0.9160 | Val precision: 0.5515 | Val recall: 0.5842 | Val f1score: 0.5439 | Val acc: 0.6270 | Val kappa: 0.8711 \n",
      "\n",
      "Early stopping after epoch 21\n"
     ]
    },
    {
     "data": {
      "text/html": [
       "Waiting for W&B process to finish... <strong style=\"color:green\">(success).</strong>"
      ],
      "text/plain": [
       "<IPython.core.display.HTML object>"
      ]
     },
     "metadata": {},
     "output_type": "display_data"
    },
    {
     "data": {
      "application/vnd.jupyter.widget-view+json": {
       "model_id": "9c6830271d874e7b89e5ba716c20ceb2",
       "version_major": 2,
       "version_minor": 0
      },
      "text/plain": [
       "VBox(children=(Label(value='0.001 MB of 0.001 MB uploaded (0.000 MB deduped)\\r'), FloatProgress(value=1.0, max…"
      ]
     },
     "metadata": {},
     "output_type": "display_data"
    },
    {
     "data": {
      "text/html": [
       "<style>\n",
       "    table.wandb td:nth-child(1) { padding: 0 10px; text-align: left ; width: auto;} td:nth-child(2) {text-align: left ; width: 100%}\n",
       "    .wandb-row { display: flex; flex-direction: row; flex-wrap: wrap; justify-content: flex-start; width: 100% }\n",
       "    .wandb-col { display: flex; flex-direction: column; flex-basis: 100%; flex: 1; padding: 10px; }\n",
       "    </style>\n",
       "<div class=\"wandb-row\"><div class=\"wandb-col\"><h3>Run history:</h3><br/><table class=\"wandb\"><tr><td>learning_rate</td><td>█▆▅▄▃▃▂▂▂▂▁▁▁▁▁▁▁▁▁▁▁</td></tr><tr><td>train_f1_score</td><td>▁▃▄▅▅▆▆▆▇▇▇▇▇████████</td></tr><tr><td>train_loss</td><td>█▅▅▄▃▃▃▂▂▂▂▁▁▁▁▁▁▁▁▁▁</td></tr><tr><td>val_f1_score</td><td>▁▂▆▇▇▇▇▇██▇▇▇██▇█████</td></tr><tr><td>val_loss</td><td>██▃▃▂▂▁▂▁▁▁▁▁▁▁▁▁▁▁▁▁</td></tr></table><br/></div><div class=\"wandb-col\"><h3>Run summary:</h3><br/><table class=\"wandb\"><tr><td>learning_rate</td><td>0.0</td></tr><tr><td>train_f1_score</td><td>0.68865</td></tr><tr><td>train_loss</td><td>0.6871</td></tr><tr><td>val_f1_score</td><td>0.5439</td></tr><tr><td>val_loss</td><td>0.91597</td></tr></table><br/></div></div>"
      ],
      "text/plain": [
       "<IPython.core.display.HTML object>"
      ]
     },
     "metadata": {},
     "output_type": "display_data"
    },
    {
     "data": {
      "text/html": [
       " View run <strong style=\"color:#cdcd00\">fold_3_RGB-5species-combined_v2_plotsplit_001</strong> at: <a href='https://wandb.ai/simon-ecke/wze-uav-combined_v2/runs/mo230xh9' target=\"_blank\">https://wandb.ai/simon-ecke/wze-uav-combined_v2/runs/mo230xh9</a><br/>Synced 5 W&B file(s), 0 media file(s), 0 artifact file(s) and 0 other file(s)"
      ],
      "text/plain": [
       "<IPython.core.display.HTML object>"
      ]
     },
     "metadata": {},
     "output_type": "display_data"
    },
    {
     "data": {
      "text/html": [
       "Find logs at: <code>.\\wandb\\run-20230516_113738-mo230xh9\\logs</code>"
      ],
      "text/plain": [
       "<IPython.core.display.HTML object>"
      ]
     },
     "metadata": {},
     "output_type": "display_data"
    },
    {
     "name": "stdout",
     "output_type": "stream",
     "text": [
      "Deleting variables and emptying cache\n",
      "Memory allocated: 1052198400 bytes\n",
      "--------------------------------------------------\n",
      "\n",
      "Fold : 4\n",
      "TRAIN POSITIVE RATIO: 2.738104089219331\n",
      "VAL POSITIVE RATIO  : 3.0693306010928962\n",
      "LENGTH TRAIN GROUPS : 156\n",
      "LENGTH VAL GROUPS   : 41\n"
     ]
    },
    {
     "data": {
      "text/html": [
       "wandb version 0.15.2 is available!  To upgrade, please run:\n",
       " $ pip install wandb --upgrade"
      ],
      "text/plain": [
       "<IPython.core.display.HTML object>"
      ]
     },
     "metadata": {},
     "output_type": "display_data"
    },
    {
     "data": {
      "text/html": [
       "Tracking run with wandb version 0.14.2"
      ],
      "text/plain": [
       "<IPython.core.display.HTML object>"
      ]
     },
     "metadata": {},
     "output_type": "display_data"
    },
    {
     "data": {
      "text/html": [
       "Run data is saved locally in <code>C:\\Users\\lwfeckesim\\01_PyTorch\\wze-uav\\wze-uav-master\\wandb\\run-20230516_132336-gs3cd7vi</code>"
      ],
      "text/plain": [
       "<IPython.core.display.HTML object>"
      ]
     },
     "metadata": {},
     "output_type": "display_data"
    },
    {
     "data": {
      "text/html": [
       "Syncing run <strong><a href='https://wandb.ai/simon-ecke/wze-uav-combined_v2/runs/gs3cd7vi' target=\"_blank\">fold_4_RGB-5species-combined_v2_plotsplit_001</a></strong> to <a href='https://wandb.ai/simon-ecke/wze-uav-combined_v2' target=\"_blank\">Weights & Biases</a> (<a href='https://wandb.me/run' target=\"_blank\">docs</a>)<br/>"
      ],
      "text/plain": [
       "<IPython.core.display.HTML object>"
      ]
     },
     "metadata": {},
     "output_type": "display_data"
    },
    {
     "data": {
      "text/html": [
       " View project at <a href='https://wandb.ai/simon-ecke/wze-uav-combined_v2' target=\"_blank\">https://wandb.ai/simon-ecke/wze-uav-combined_v2</a>"
      ],
      "text/plain": [
       "<IPython.core.display.HTML object>"
      ]
     },
     "metadata": {},
     "output_type": "display_data"
    },
    {
     "data": {
      "text/html": [
       " View run at <a href='https://wandb.ai/simon-ecke/wze-uav-combined_v2/runs/gs3cd7vi' target=\"_blank\">https://wandb.ai/simon-ecke/wze-uav-combined_v2/runs/gs3cd7vi</a>"
      ],
      "text/plain": [
       "<IPython.core.display.HTML object>"
      ]
     },
     "metadata": {},
     "output_type": "display_data"
    },
    {
     "name": "stdout",
     "output_type": "stream",
     "text": [
      "There are no same hash_id values in train, val or test datasets. The datasplit was successful\n",
      "Check shapes:\n",
      "\n",
      "Images train dataset: (10760, 250, 250, 3)\n",
      "Labels train dataset: (10760, 1)\n",
      "\n",
      "Images validation dataset: (1020, 250, 250, 3)\n",
      "Labels validation dataset: (1020, 1)\n",
      "\n",
      "--------------------------------------------------\n",
      "Check if the split was stratified: (random_state=42)\n",
      "Picea abies healthy in train dataset: 2982\n",
      "Picea abies stressed in train dataset: 1660\n",
      "Pinus sylvestris healthy in train dataset: 1456\n",
      "Pinus sylvestris stressed in train dataset: 1795\n",
      "Abies alba healthy in train dataset: 361\n",
      "Abies alba stressed in train dataset: 132\n",
      "Fagus sylvatica healthy in train dataset: 843\n",
      "Fagus sylvatica stressed in train dataset: 539\n",
      "Quercus robur/petraea healthy in train dataset: 519\n",
      "Quercus robur/petraea stressed in train dataset: 312\n",
      "Dead trees in train dataset: 161\n",
      "Picea abies healthy in validation dataset: 263\n",
      "Picea abies stressed in validation dataset: 112\n",
      "Pinus sylvestris healthy in validation dataset: 176\n",
      "Pinus sylvestris stressed in validation dataset: 164\n",
      "Abies alba healthy in validation dataset: 29\n",
      "Abies alba stressed in validation dataset: 3\n",
      "Fagus sylvatica healthy in validation dataset: 73\n",
      "Fagus sylvatica stressed in validation dataset: 95\n",
      "Quercus robur/petraea healthy in validation dataset: 49\n",
      "Quercus robur/petraea stressed in validation dataset: 25\n",
      "Dead trees in validation dataset: 31\n",
      "--------------------------------------------------\n",
      "\n",
      "Creating datasets for fold: 4\n",
      "\n",
      "Creating dataloaders for fold: 4\n",
      "\n",
      "Loaded pretrained weights for efficientnet-b7\n",
      "\n",
      "[INFO] Fold number: 4\n",
      "[INFO] Number of epochs: 50\n",
      "[INFO] Batch_size: 32\n",
      "[INFO] Number of bands: 3\n",
      "[INFO] Dropout rate: 0.5\n",
      "[INFO] Gamma learning rate: 0.75\n",
      "[INFO] Memory allocated: 0 bytes\n"
     ]
    },
    {
     "data": {
      "application/vnd.jupyter.widget-view+json": {
       "model_id": "332c6ad9208f47e3a4096e9787ff0aca",
       "version_major": 2,
       "version_minor": 0
      },
      "text/plain": [
       "  0%|          | 0/50 [00:00<?, ?it/s]"
      ]
     },
     "metadata": {},
     "output_type": "display_data"
    },
    {
     "name": "stdout",
     "output_type": "stream",
     "text": [
      "Epoch: 1 \n",
      "Learning rate: 0.001\n",
      "Train loss: 1.4200 | Train precision: 0.3650 | Train recall: 0.3223 | Train f1score: 0.3335 | Train acc: 0.4316 | Train kappa: 0.6773 \n",
      "Val loss: 1.7138 | Val precision: 0.1955 | Val recall: 0.2063 | Val f1score: 0.1644 | Val acc: 0.3216 | Val kappa: 0.5047 \n",
      "\n",
      "Epoch: 2 \n",
      "Learning rate: 0.00075\n",
      "Train loss: 1.1425 | Train precision: 0.4691 | Train recall: 0.4363 | Train f1score: 0.4444 | Train acc: 0.5100 | Train kappa: 0.7952 \n",
      "Val loss: 1.3517 | Val precision: 0.3655 | Val recall: 0.3448 | Val f1score: 0.2916 | Val acc: 0.4002 | Val kappa: 0.7664 \n",
      "\n",
      "Epoch: 3 \n",
      "Learning rate: 0.0005625000000000001\n",
      "Train loss: 1.0366 | Train precision: 0.5307 | Train recall: 0.5033 | Train f1score: 0.5101 | Train acc: 0.5547 | Train kappa: 0.8185 \n",
      "Val loss: 1.1631 | Val precision: 0.4693 | Val recall: 0.4685 | Val f1score: 0.4385 | Val acc: 0.5454 | Val kappa: 0.8698 \n",
      "\n",
      "Epoch: 4 \n",
      "Learning rate: 0.000421875\n",
      "Train loss: 0.9470 | Train precision: 0.5646 | Train recall: 0.5310 | Train f1score: 0.5413 | Train acc: 0.5904 | Train kappa: 0.8608 \n",
      "Val loss: 1.1630 | Val precision: 0.4562 | Val recall: 0.4678 | Val f1score: 0.4254 | Val acc: 0.5000 | Val kappa: 0.8352 \n",
      "\n",
      "Epoch: 5 \n",
      "Learning rate: 0.00031640625\n",
      "Train loss: 0.9112 | Train precision: 0.5926 | Train recall: 0.5651 | Train f1score: 0.5729 | Train acc: 0.6018 | Train kappa: 0.8715 \n",
      "Val loss: 0.9813 | Val precision: 0.5259 | Val recall: 0.5051 | Val f1score: 0.4861 | Val acc: 0.5534 | Val kappa: 0.9127 \n",
      "\n",
      "Epoch: 6 \n",
      "Learning rate: 0.0002373046875\n",
      "Train loss: 0.8691 | Train precision: 0.6021 | Train recall: 0.5697 | Train f1score: 0.5793 | Train acc: 0.6190 | Train kappa: 0.8743 \n",
      "Val loss: 0.9744 | Val precision: 0.5131 | Val recall: 0.5068 | Val f1score: 0.4954 | Val acc: 0.5806 | Val kappa: 0.8848 \n",
      "\n",
      "Epoch: 7 \n",
      "Learning rate: 0.000177978515625\n",
      "Train loss: 0.8299 | Train precision: 0.6356 | Train recall: 0.6050 | Train f1score: 0.6146 | Train acc: 0.6436 | Train kappa: 0.8964 \n",
      "Val loss: 0.9600 | Val precision: 0.5375 | Val recall: 0.5155 | Val f1score: 0.5119 | Val acc: 0.6119 | Val kappa: 0.8740 \n",
      "\n",
      "Epoch: 8 \n",
      "Learning rate: 0.00013348388671875\n",
      "Train loss: 0.8024 | Train precision: 0.6371 | Train recall: 0.6032 | Train f1score: 0.6142 | Train acc: 0.6433 | Train kappa: 0.9028 \n",
      "Val loss: 1.0667 | Val precision: 0.5074 | Val recall: 0.4973 | Val f1score: 0.4918 | Val acc: 0.5766 | Val kappa: 0.8698 \n",
      "\n",
      "Epoch: 9 \n",
      "Learning rate: 0.0001001129150390625\n",
      "Train loss: 0.8023 | Train precision: 0.6438 | Train recall: 0.6104 | Train f1score: 0.6219 | Train acc: 0.6443 | Train kappa: 0.8982 \n",
      "Val loss: 0.9394 | Val precision: 0.5457 | Val recall: 0.5259 | Val f1score: 0.5251 | Val acc: 0.5998 | Val kappa: 0.8985 \n",
      "\n",
      "Epoch: 10 \n",
      "Learning rate: 7.508468627929687e-05\n",
      "Train loss: 0.7870 | Train precision: 0.6581 | Train recall: 0.6270 | Train f1score: 0.6375 | Train acc: 0.6534 | Train kappa: 0.9007 \n",
      "Val loss: 0.8897 | Val precision: 0.5708 | Val recall: 0.5530 | Val f1score: 0.5528 | Val acc: 0.6220 | Val kappa: 0.9150 \n",
      "\n",
      "Epoch: 11 \n",
      "Learning rate: 5.6313514709472656e-05\n",
      "Train loss: 0.7457 | Train precision: 0.6824 | Train recall: 0.6536 | Train f1score: 0.6644 | Train acc: 0.6681 | Train kappa: 0.9113 \n",
      "Val loss: 0.9789 | Val precision: 0.5411 | Val recall: 0.5388 | Val f1score: 0.5274 | Val acc: 0.6038 | Val kappa: 0.9157 \n",
      "\n",
      "Epoch: 12 \n",
      "Learning rate: 4.223513603210449e-05\n",
      "Train loss: 0.7347 | Train precision: 0.6773 | Train recall: 0.6497 | Train f1score: 0.6600 | Train acc: 0.6718 | Train kappa: 0.9205 \n",
      "Val loss: 0.9364 | Val precision: 0.5294 | Val recall: 0.5269 | Val f1score: 0.5231 | Val acc: 0.6008 | Val kappa: 0.9032 \n",
      "\n",
      "Epoch: 13 \n",
      "Learning rate: 3.167635202407837e-05\n",
      "Train loss: 0.7283 | Train precision: 0.6784 | Train recall: 0.6517 | Train f1score: 0.6609 | Train acc: 0.6813 | Train kappa: 0.9197 \n",
      "Val loss: 0.9330 | Val precision: 0.5244 | Val recall: 0.5287 | Val f1score: 0.5204 | Val acc: 0.5938 | Val kappa: 0.9124 \n",
      "\n",
      "Epoch: 14 \n",
      "Learning rate: 2.3757264018058778e-05\n",
      "Train loss: 0.7172 | Train precision: 0.6990 | Train recall: 0.6620 | Train f1score: 0.6743 | Train acc: 0.6842 | Train kappa: 0.9257 \n",
      "Val loss: 0.9260 | Val precision: 0.5372 | Val recall: 0.5368 | Val f1score: 0.5285 | Val acc: 0.6058 | Val kappa: 0.9126 \n",
      "\n",
      "Epoch: 15 \n",
      "Learning rate: 1.7817948013544083e-05\n",
      "Train loss: 0.7148 | Train precision: 0.6997 | Train recall: 0.6715 | Train f1score: 0.6820 | Train acc: 0.6845 | Train kappa: 0.9221 \n",
      "Val loss: 0.9073 | Val precision: 0.5460 | Val recall: 0.5388 | Val f1score: 0.5350 | Val acc: 0.6058 | Val kappa: 0.9139 \n",
      "\n",
      "Epoch: 16 \n",
      "Learning rate: 1.3363461010158063e-05\n",
      "Train loss: 0.7174 | Train precision: 0.6984 | Train recall: 0.6630 | Train f1score: 0.6754 | Train acc: 0.6837 | Train kappa: 0.9204 \n",
      "Val loss: 0.9107 | Val precision: 0.5401 | Val recall: 0.5355 | Val f1score: 0.5310 | Val acc: 0.6048 | Val kappa: 0.9186 \n",
      "\n",
      "Epoch: 17 \n",
      "Learning rate: 1.0022595757618546e-05\n",
      "Train loss: 0.7151 | Train precision: 0.6990 | Train recall: 0.6691 | Train f1score: 0.6803 | Train acc: 0.6830 | Train kappa: 0.9279 \n",
      "Val loss: 0.9019 | Val precision: 0.5493 | Val recall: 0.5472 | Val f1score: 0.5405 | Val acc: 0.6179 | Val kappa: 0.9186 \n",
      "\n",
      "Epoch: 18 \n",
      "Learning rate: 7.51694681821391e-06\n",
      "Train loss: 0.7054 | Train precision: 0.6945 | Train recall: 0.6650 | Train f1score: 0.6747 | Train acc: 0.6876 | Train kappa: 0.9281 \n",
      "Val loss: 0.9111 | Val precision: 0.5393 | Val recall: 0.5432 | Val f1score: 0.5344 | Val acc: 0.6119 | Val kappa: 0.9170 \n",
      "\n",
      "Epoch: 19 \n",
      "Learning rate: 5.637710113660432e-06\n",
      "Train loss: 0.7088 | Train precision: 0.6987 | Train recall: 0.6707 | Train f1score: 0.6815 | Train acc: 0.6874 | Train kappa: 0.9238 \n",
      "Val loss: 0.9130 | Val precision: 0.5435 | Val recall: 0.5419 | Val f1score: 0.5372 | Val acc: 0.6099 | Val kappa: 0.9162 \n",
      "\n",
      "Epoch: 20 \n",
      "Learning rate: 4.228282585245324e-06\n",
      "Train loss: 0.7142 | Train precision: 0.6844 | Train recall: 0.6564 | Train f1score: 0.6667 | Train acc: 0.6802 | Train kappa: 0.9222 \n",
      "Val loss: 0.9162 | Val precision: 0.5416 | Val recall: 0.5393 | Val f1score: 0.5342 | Val acc: 0.6069 | Val kappa: 0.9154 \n",
      "\n",
      "Early stopping after epoch 20\n"
     ]
    },
    {
     "data": {
      "text/html": [
       "Waiting for W&B process to finish... <strong style=\"color:green\">(success).</strong>"
      ],
      "text/plain": [
       "<IPython.core.display.HTML object>"
      ]
     },
     "metadata": {},
     "output_type": "display_data"
    },
    {
     "data": {
      "application/vnd.jupyter.widget-view+json": {
       "model_id": "95b9f27522b74a67bf139c864fe710db",
       "version_major": 2,
       "version_minor": 0
      },
      "text/plain": [
       "VBox(children=(Label(value='0.001 MB of 0.001 MB uploaded (0.000 MB deduped)\\r'), FloatProgress(value=1.0, max…"
      ]
     },
     "metadata": {},
     "output_type": "display_data"
    },
    {
     "data": {
      "text/html": [
       "<style>\n",
       "    table.wandb td:nth-child(1) { padding: 0 10px; text-align: left ; width: auto;} td:nth-child(2) {text-align: left ; width: 100%}\n",
       "    .wandb-row { display: flex; flex-direction: row; flex-wrap: wrap; justify-content: flex-start; width: 100% }\n",
       "    .wandb-col { display: flex; flex-direction: column; flex-basis: 100%; flex: 1; padding: 10px; }\n",
       "    </style>\n",
       "<div class=\"wandb-row\"><div class=\"wandb-col\"><h3>Run history:</h3><br/><table class=\"wandb\"><tr><td>learning_rate</td><td>█▆▅▄▃▃▂▂▂▁▁▁▁▁▁▁▁▁▁▁</td></tr><tr><td>train_f1_score</td><td>▁▃▅▅▆▆▇▇▇▇██████████</td></tr><tr><td>train_loss</td><td>█▅▄▃▃▃▂▂▂▂▁▁▁▁▁▁▁▁▁▁</td></tr><tr><td>val_f1_score</td><td>▁▃▆▆▇▇▇▇███▇▇███████</td></tr><tr><td>val_loss</td><td>█▅▃▃▂▂▂▃▁▁▂▁▁▁▁▁▁▁▁▁</td></tr></table><br/></div><div class=\"wandb-col\"><h3>Run summary:</h3><br/><table class=\"wandb\"><tr><td>learning_rate</td><td>0.0</td></tr><tr><td>train_f1_score</td><td>0.66668</td></tr><tr><td>train_loss</td><td>0.71421</td></tr><tr><td>val_f1_score</td><td>0.53423</td></tr><tr><td>val_loss</td><td>0.91616</td></tr></table><br/></div></div>"
      ],
      "text/plain": [
       "<IPython.core.display.HTML object>"
      ]
     },
     "metadata": {},
     "output_type": "display_data"
    },
    {
     "data": {
      "text/html": [
       " View run <strong style=\"color:#cdcd00\">fold_4_RGB-5species-combined_v2_plotsplit_001</strong> at: <a href='https://wandb.ai/simon-ecke/wze-uav-combined_v2/runs/gs3cd7vi' target=\"_blank\">https://wandb.ai/simon-ecke/wze-uav-combined_v2/runs/gs3cd7vi</a><br/>Synced 5 W&B file(s), 0 media file(s), 0 artifact file(s) and 0 other file(s)"
      ],
      "text/plain": [
       "<IPython.core.display.HTML object>"
      ]
     },
     "metadata": {},
     "output_type": "display_data"
    },
    {
     "data": {
      "text/html": [
       "Find logs at: <code>.\\wandb\\run-20230516_132336-gs3cd7vi\\logs</code>"
      ],
      "text/plain": [
       "<IPython.core.display.HTML object>"
      ]
     },
     "metadata": {},
     "output_type": "display_data"
    },
    {
     "name": "stdout",
     "output_type": "stream",
     "text": [
      "Deleting variables and emptying cache\n",
      "Memory allocated: 1054073344 bytes\n",
      "--------------------------------------------------\n",
      "\n",
      "Fold : 5\n",
      "TRAIN POSITIVE RATIO: 2.8369655172413792\n",
      "VAL POSITIVE RATIO  : 2.700675435478137\n",
      "LENGTH TRAIN GROUPS : 157\n",
      "LENGTH VAL GROUPS   : 40\n"
     ]
    },
    {
     "data": {
      "text/html": [
       "wandb version 0.15.2 is available!  To upgrade, please run:\n",
       " $ pip install wandb --upgrade"
      ],
      "text/plain": [
       "<IPython.core.display.HTML object>"
      ]
     },
     "metadata": {},
     "output_type": "display_data"
    },
    {
     "data": {
      "text/html": [
       "Tracking run with wandb version 0.14.2"
      ],
      "text/plain": [
       "<IPython.core.display.HTML object>"
      ]
     },
     "metadata": {},
     "output_type": "display_data"
    },
    {
     "data": {
      "text/html": [
       "Run data is saved locally in <code>C:\\Users\\lwfeckesim\\01_PyTorch\\wze-uav\\wze-uav-master\\wandb\\run-20230516_145714-c4vdygo8</code>"
      ],
      "text/plain": [
       "<IPython.core.display.HTML object>"
      ]
     },
     "metadata": {},
     "output_type": "display_data"
    },
    {
     "data": {
      "text/html": [
       "Syncing run <strong><a href='https://wandb.ai/simon-ecke/wze-uav-combined_v2/runs/c4vdygo8' target=\"_blank\">fold_5_RGB-5species-combined_v2_plotsplit_001</a></strong> to <a href='https://wandb.ai/simon-ecke/wze-uav-combined_v2' target=\"_blank\">Weights & Biases</a> (<a href='https://wandb.me/run' target=\"_blank\">docs</a>)<br/>"
      ],
      "text/plain": [
       "<IPython.core.display.HTML object>"
      ]
     },
     "metadata": {},
     "output_type": "display_data"
    },
    {
     "data": {
      "text/html": [
       " View project at <a href='https://wandb.ai/simon-ecke/wze-uav-combined_v2' target=\"_blank\">https://wandb.ai/simon-ecke/wze-uav-combined_v2</a>"
      ],
      "text/plain": [
       "<IPython.core.display.HTML object>"
      ]
     },
     "metadata": {},
     "output_type": "display_data"
    },
    {
     "data": {
      "text/html": [
       " View run at <a href='https://wandb.ai/simon-ecke/wze-uav-combined_v2/runs/c4vdygo8' target=\"_blank\">https://wandb.ai/simon-ecke/wze-uav-combined_v2/runs/c4vdygo8</a>"
      ],
      "text/plain": [
       "<IPython.core.display.HTML object>"
      ]
     },
     "metadata": {},
     "output_type": "display_data"
    },
    {
     "name": "stdout",
     "output_type": "stream",
     "text": [
      "There are no same hash_id values in train, val or test datasets. The datasplit was successful\n",
      "Check shapes:\n",
      "\n",
      "Images train dataset: (10875, 250, 250, 3)\n",
      "Labels train dataset: (10875, 1)\n",
      "\n",
      "Images validation dataset: (1048, 250, 250, 3)\n",
      "Labels validation dataset: (1048, 1)\n",
      "\n",
      "--------------------------------------------------\n",
      "Check if the split was stratified: (random_state=42)\n",
      "Picea abies healthy in train dataset: 2897\n",
      "Picea abies stressed in train dataset: 1485\n",
      "Pinus sylvestris healthy in train dataset: 1617\n",
      "Pinus sylvestris stressed in train dataset: 1911\n",
      "Abies alba healthy in train dataset: 363\n",
      "Abies alba stressed in train dataset: 123\n",
      "Fagus sylvatica healthy in train dataset: 773\n",
      "Fagus sylvatica stressed in train dataset: 660\n",
      "Quercus robur/petraea healthy in train dataset: 555\n",
      "Quercus robur/petraea stressed in train dataset: 275\n",
      "Dead trees in train dataset: 216\n",
      "Picea abies healthy in validation dataset: 319\n",
      "Picea abies stressed in validation dataset: 165\n",
      "Pinus sylvestris healthy in validation dataset: 122\n",
      "Pinus sylvestris stressed in validation dataset: 158\n",
      "Abies alba healthy in validation dataset: 29\n",
      "Abies alba stressed in validation dataset: 3\n",
      "Fagus sylvatica healthy in validation dataset: 110\n",
      "Fagus sylvatica stressed in validation dataset: 45\n",
      "Quercus robur/petraea healthy in validation dataset: 53\n",
      "Quercus robur/petraea stressed in validation dataset: 34\n",
      "Dead trees in validation dataset: 10\n",
      "--------------------------------------------------\n",
      "\n",
      "Creating datasets for fold: 5\n",
      "\n",
      "Creating dataloaders for fold: 5\n",
      "\n",
      "Loaded pretrained weights for efficientnet-b7\n",
      "\n",
      "[INFO] Fold number: 5\n",
      "[INFO] Number of epochs: 50\n",
      "[INFO] Batch_size: 32\n",
      "[INFO] Number of bands: 3\n",
      "[INFO] Dropout rate: 0.5\n",
      "[INFO] Gamma learning rate: 0.75\n",
      "[INFO] Memory allocated: 0 bytes\n"
     ]
    },
    {
     "data": {
      "application/vnd.jupyter.widget-view+json": {
       "model_id": "3e3c5106f8d040d286a837c4e4433f4d",
       "version_major": 2,
       "version_minor": 0
      },
      "text/plain": [
       "  0%|          | 0/50 [00:00<?, ?it/s]"
      ]
     },
     "metadata": {},
     "output_type": "display_data"
    },
    {
     "name": "stdout",
     "output_type": "stream",
     "text": [
      "Epoch: 1 \n",
      "Learning rate: 0.001\n",
      "Train loss: 1.3678 | Train precision: 0.3836 | Train recall: 0.3524 | Train f1score: 0.3550 | Train acc: 0.4485 | Train kappa: 0.7090 \n",
      "Val loss: 1.6699 | Val precision: 0.3640 | Val recall: 0.1915 | Val f1score: 0.1793 | Val acc: 0.4219 | Val kappa: 0.2530 \n",
      "\n",
      "Epoch: 2 \n",
      "Learning rate: 0.00075\n",
      "Train loss: 1.1096 | Train precision: 0.4980 | Train recall: 0.4677 | Train f1score: 0.4718 | Train acc: 0.5373 | Train kappa: 0.8081 \n",
      "Val loss: 1.3070 | Val precision: 0.3572 | Val recall: 0.2762 | Val f1score: 0.2228 | Val acc: 0.4814 | Val kappa: 0.6839 \n",
      "\n",
      "Epoch: 3 \n",
      "Learning rate: 0.0005625000000000001\n",
      "Train loss: 1.0134 | Train precision: 0.5418 | Train recall: 0.5038 | Train f1score: 0.5114 | Train acc: 0.5690 | Train kappa: 0.8415 \n",
      "Val loss: 1.2360 | Val precision: 0.4081 | Val recall: 0.4341 | Val f1score: 0.3623 | Val acc: 0.5010 | Val kappa: 0.6505 \n",
      "\n",
      "Epoch: 4 \n",
      "Learning rate: 0.000421875\n",
      "Train loss: 0.9464 | Train precision: 0.5654 | Train recall: 0.5354 | Train f1score: 0.5408 | Train acc: 0.5911 | Train kappa: 0.8681 \n",
      "Val loss: 1.0920 | Val precision: 0.4745 | Val recall: 0.5223 | Val f1score: 0.4565 | Val acc: 0.4961 | Val kappa: 0.8586 \n",
      "\n",
      "Epoch: 5 \n",
      "Learning rate: 0.00031640625\n",
      "Train loss: 0.8704 | Train precision: 0.6003 | Train recall: 0.5717 | Train f1score: 0.5756 | Train acc: 0.6193 | Train kappa: 0.8879 \n",
      "Val loss: 1.0499 | Val precision: 0.5586 | Val recall: 0.4905 | Val f1score: 0.4840 | Val acc: 0.5615 | Val kappa: 0.8094 \n",
      "\n",
      "Epoch: 6 \n",
      "Learning rate: 0.0002373046875\n",
      "Train loss: 0.8575 | Train precision: 0.6210 | Train recall: 0.5842 | Train f1score: 0.5915 | Train acc: 0.6251 | Train kappa: 0.8948 \n",
      "Val loss: 1.0166 | Val precision: 0.4559 | Val recall: 0.4341 | Val f1score: 0.4182 | Val acc: 0.5771 | Val kappa: 0.8134 \n",
      "\n",
      "Epoch: 7 \n",
      "Learning rate: 0.000177978515625\n",
      "Train loss: 0.8144 | Train precision: 0.6399 | Train recall: 0.6034 | Train f1score: 0.6132 | Train acc: 0.6416 | Train kappa: 0.9081 \n",
      "Val loss: 0.9628 | Val precision: 0.4832 | Val recall: 0.4949 | Val f1score: 0.4284 | Val acc: 0.5625 | Val kappa: 0.8430 \n",
      "\n",
      "Epoch: 8 \n",
      "Learning rate: 0.00013348388671875\n",
      "Train loss: 0.7883 | Train precision: 0.6397 | Train recall: 0.6105 | Train f1score: 0.6142 | Train acc: 0.6564 | Train kappa: 0.9097 \n",
      "Val loss: 0.9135 | Val precision: 0.5399 | Val recall: 0.5581 | Val f1score: 0.5047 | Val acc: 0.6094 | Val kappa: 0.8576 \n",
      "\n",
      "Epoch: 9 \n",
      "Learning rate: 0.0001001129150390625\n",
      "Train loss: 0.7771 | Train precision: 0.6592 | Train recall: 0.6335 | Train f1score: 0.6408 | Train acc: 0.6621 | Train kappa: 0.9081 \n",
      "Val loss: 0.9525 | Val precision: 0.5359 | Val recall: 0.5027 | Val f1score: 0.4704 | Val acc: 0.5850 | Val kappa: 0.8457 \n",
      "\n",
      "Epoch: 10 \n",
      "Learning rate: 7.508468627929687e-05\n",
      "Train loss: 0.7398 | Train precision: 0.6783 | Train recall: 0.6446 | Train f1score: 0.6537 | Train acc: 0.6747 | Train kappa: 0.9201 \n",
      "Val loss: 0.9195 | Val precision: 0.5381 | Val recall: 0.5151 | Val f1score: 0.4980 | Val acc: 0.5879 | Val kappa: 0.8540 \n",
      "\n",
      "Epoch: 11 \n",
      "Learning rate: 5.6313514709472656e-05\n",
      "Train loss: 0.7253 | Train precision: 0.6861 | Train recall: 0.6537 | Train f1score: 0.6625 | Train acc: 0.6751 | Train kappa: 0.9262 \n",
      "Val loss: 0.9367 | Val precision: 0.5171 | Val recall: 0.4937 | Val f1score: 0.4831 | Val acc: 0.6025 | Val kappa: 0.8455 \n",
      "\n",
      "Epoch: 12 \n",
      "Learning rate: 4.223513603210449e-05\n",
      "Train loss: 0.7113 | Train precision: 0.7001 | Train recall: 0.6681 | Train f1score: 0.6765 | Train acc: 0.6870 | Train kappa: 0.9278 \n",
      "Val loss: 0.9379 | Val precision: 0.5404 | Val recall: 0.5369 | Val f1score: 0.5152 | Val acc: 0.5947 | Val kappa: 0.8489 \n",
      "\n",
      "Epoch: 13 \n",
      "Learning rate: 3.167635202407837e-05\n",
      "Train loss: 0.6958 | Train precision: 0.6978 | Train recall: 0.6715 | Train f1score: 0.6793 | Train acc: 0.6984 | Train kappa: 0.9313 \n",
      "Val loss: 0.9297 | Val precision: 0.5450 | Val recall: 0.5481 | Val f1score: 0.5293 | Val acc: 0.6035 | Val kappa: 0.8557 \n",
      "\n",
      "Epoch: 14 \n",
      "Learning rate: 2.3757264018058778e-05\n",
      "Train loss: 0.7001 | Train precision: 0.6966 | Train recall: 0.6669 | Train f1score: 0.6769 | Train acc: 0.6889 | Train kappa: 0.9275 \n",
      "Val loss: 0.9495 | Val precision: 0.5123 | Val recall: 0.5434 | Val f1score: 0.4995 | Val acc: 0.5811 | Val kappa: 0.8523 \n",
      "\n",
      "Epoch: 15 \n",
      "Learning rate: 1.7817948013544083e-05\n",
      "Train loss: 0.6738 | Train precision: 0.6989 | Train recall: 0.6744 | Train f1score: 0.6813 | Train acc: 0.6941 | Train kappa: 0.9339 \n",
      "Val loss: 0.9505 | Val precision: 0.5200 | Val recall: 0.5405 | Val f1score: 0.5125 | Val acc: 0.5830 | Val kappa: 0.8594 \n",
      "\n",
      "Epoch: 16 \n",
      "Learning rate: 1.3363461010158063e-05\n",
      "Train loss: 0.6902 | Train precision: 0.7042 | Train recall: 0.6820 | Train f1score: 0.6902 | Train acc: 0.6955 | Train kappa: 0.9334 \n",
      "Val loss: 0.9391 | Val precision: 0.5463 | Val recall: 0.5447 | Val f1score: 0.5239 | Val acc: 0.5928 | Val kappa: 0.8553 \n",
      "\n",
      "Epoch: 17 \n",
      "Learning rate: 1.0022595757618546e-05\n",
      "Train loss: 0.6640 | Train precision: 0.7058 | Train recall: 0.6750 | Train f1score: 0.6852 | Train acc: 0.7000 | Train kappa: 0.9427 \n",
      "Val loss: 0.9388 | Val precision: 0.5401 | Val recall: 0.5381 | Val f1score: 0.5157 | Val acc: 0.5947 | Val kappa: 0.8532 \n",
      "\n",
      "Epoch: 18 \n",
      "Learning rate: 7.51694681821391e-06\n",
      "Train loss: 0.6888 | Train precision: 0.7100 | Train recall: 0.6786 | Train f1score: 0.6888 | Train acc: 0.6940 | Train kappa: 0.9317 \n",
      "Val loss: 0.9469 | Val precision: 0.5223 | Val recall: 0.5243 | Val f1score: 0.5022 | Val acc: 0.5879 | Val kappa: 0.8504 \n",
      "\n",
      "Early stopping after epoch 18\n"
     ]
    },
    {
     "data": {
      "text/html": [
       "Waiting for W&B process to finish... <strong style=\"color:green\">(success).</strong>"
      ],
      "text/plain": [
       "<IPython.core.display.HTML object>"
      ]
     },
     "metadata": {},
     "output_type": "display_data"
    },
    {
     "data": {
      "application/vnd.jupyter.widget-view+json": {
       "model_id": "4b6d31fb70e04a8690958f70820928fb",
       "version_major": 2,
       "version_minor": 0
      },
      "text/plain": [
       "VBox(children=(Label(value='0.001 MB of 0.001 MB uploaded (0.000 MB deduped)\\r'), FloatProgress(value=1.0, max…"
      ]
     },
     "metadata": {},
     "output_type": "display_data"
    },
    {
     "data": {
      "text/html": [
       "<style>\n",
       "    table.wandb td:nth-child(1) { padding: 0 10px; text-align: left ; width: auto;} td:nth-child(2) {text-align: left ; width: 100%}\n",
       "    .wandb-row { display: flex; flex-direction: row; flex-wrap: wrap; justify-content: flex-start; width: 100% }\n",
       "    .wandb-col { display: flex; flex-direction: column; flex-basis: 100%; flex: 1; padding: 10px; }\n",
       "    </style>\n",
       "<div class=\"wandb-row\"><div class=\"wandb-col\"><h3>Run history:</h3><br/><table class=\"wandb\"><tr><td>learning_rate</td><td>█▆▅▄▃▃▂▂▂▁▁▁▁▁▁▁▁▁</td></tr><tr><td>train_f1_score</td><td>▁▃▄▅▆▆▆▆▇▇▇███████</td></tr><tr><td>train_loss</td><td>█▅▄▄▃▃▂▂▂▂▂▁▁▁▁▁▁▁</td></tr><tr><td>val_f1_score</td><td>▁▂▅▇▇▆▆█▇▇▇██▇███▇</td></tr><tr><td>val_loss</td><td>█▅▄▃▂▂▁▁▁▁▁▁▁▁▁▁▁▁</td></tr></table><br/></div><div class=\"wandb-col\"><h3>Run summary:</h3><br/><table class=\"wandb\"><tr><td>learning_rate</td><td>1e-05</td></tr><tr><td>train_f1_score</td><td>0.6888</td></tr><tr><td>train_loss</td><td>0.68882</td></tr><tr><td>val_f1_score</td><td>0.50222</td></tr><tr><td>val_loss</td><td>0.94687</td></tr></table><br/></div></div>"
      ],
      "text/plain": [
       "<IPython.core.display.HTML object>"
      ]
     },
     "metadata": {},
     "output_type": "display_data"
    },
    {
     "data": {
      "text/html": [
       " View run <strong style=\"color:#cdcd00\">fold_5_RGB-5species-combined_v2_plotsplit_001</strong> at: <a href='https://wandb.ai/simon-ecke/wze-uav-combined_v2/runs/c4vdygo8' target=\"_blank\">https://wandb.ai/simon-ecke/wze-uav-combined_v2/runs/c4vdygo8</a><br/>Synced 5 W&B file(s), 0 media file(s), 0 artifact file(s) and 0 other file(s)"
      ],
      "text/plain": [
       "<IPython.core.display.HTML object>"
      ]
     },
     "metadata": {},
     "output_type": "display_data"
    },
    {
     "data": {
      "text/html": [
       "Find logs at: <code>.\\wandb\\run-20230516_145714-c4vdygo8\\logs</code>"
      ],
      "text/plain": [
       "<IPython.core.display.HTML object>"
      ]
     },
     "metadata": {},
     "output_type": "display_data"
    },
    {
     "name": "stdout",
     "output_type": "stream",
     "text": [
      "Deleting variables and emptying cache\n",
      "Memory allocated: 1052041728 bytes\n",
      "--------------------------------------------------\n",
      "\n",
      "CPU times: total: 3h 48min 22s\n",
      "Wall time: 8h 13min 52s\n"
     ]
    }
   ],
   "source": [
    "%%time\n",
    "\n",
    "# Set the random seeds\n",
    "set_seeds(42)\n",
    "\n",
    "# Define the number of folds\n",
    "num_folds = 5\n",
    "\n",
    "# group the hashIDs to get the unique values of hashIDs remaining in the subset  \n",
    "groups = sub_hash_id[:, 0] \n",
    "print(\"ORIGINAL POSITIVE RATIO:\", sub_label_set.mean())\n",
    "# create a StratifiedGroupKFold instance\n",
    "kf = StratifiedGroupKFold(n_splits=num_folds, shuffle=True, random_state=42)\n",
    "\n",
    "# loop through the folds\n",
    "for fold, (train_ids, val_ids) in enumerate(kf.split(sub_image_set, sub_label_set, groups)):\n",
    "    print(\"Fold :\", fold+1)\n",
    "    print(\"TRAIN POSITIVE RATIO:\", sub_label_set[train_ids].mean())\n",
    "    print(\"VAL POSITIVE RATIO  :\", sub_label_set[val_ids].mean())\n",
    "    print(\"LENGTH TRAIN GROUPS :\", len(set(groups[train_ids])))\n",
    "    print(\"LENGTH VAL GROUPS   :\", len(set(groups[val_ids])))\n",
    "    \n",
    "    train_ids = sub_hash_id[:, 0][train_ids]\n",
    "    val_ids = np.unique(sub_hash_id[:, 0][val_ids])\n",
    "\n",
    "    torch.cuda.empty_cache()\n",
    "    \n",
    "    # Initialize a new wandb run for this fold\n",
    "    wandb.init(project='wze-uav-combined_v2', name=f\"fold_{fold + 1}_{extra}\")\n",
    "    \n",
    "    # 1. Split data into train and validation set\n",
    "    # Get the training and testing data for this fold\n",
    "    # Use np.isin() to create boolean arrays indicating which indices belong to train or test sets\n",
    "    train_indices = np.isin(sub_hash_id[:,0], train_ids)\n",
    "    \n",
    "    val_indices = np.zeros_like(train_indices)  # initialize to all False\n",
    "    for hash_id_val in val_ids:\n",
    "        # select one image ID randomly from either 2020 or 2021 or 2022 for each unique hash ID in the test set\n",
    "        temp = np.unique(sub_hash_id[(sub_hash_id[:, 0] == hash_id_val), 1]) # check how many years are available per hashID\n",
    "        if len(temp) == 1:\n",
    "            year = temp[0]\n",
    "        elif len(temp) == 2:\n",
    "            year = np.random.choice(temp)\n",
    "        else:\n",
    "            year = np.random.choice(temp)\n",
    "        \n",
    "        # select image ID using the conditions\n",
    "        image_ids = sub_hash_id[(sub_hash_id[:,0] == hash_id_val) & (sub_hash_id[:,1] == year), 0]\n",
    "    \n",
    "        # mark the index corresponding to the selected image ID and hash ID as True in the test indices array\n",
    "        val_indices[(sub_hash_id[:,0] == hash_id_val) & (sub_hash_id[:,1] == year) & (np.isin(sub_hash_id[:,0], image_ids))] = True \n",
    "    \n",
    "    # Reshape boolean arrays to match shape of image_set and label_set\n",
    "    train_indices = train_indices.reshape(-1, 1)\n",
    "    val_indices = val_indices.reshape(-1, 1)\n",
    "    \n",
    "    # Select images and labels for train and validation sets\n",
    "    train_image_set = sub_image_set[train_indices[:, 0]]\n",
    "    train_label_set = sub_label_set[train_indices[:, 0]]\n",
    "    train_hash_id = sub_hash_id[train_indices[:, 0]][:,0]\n",
    "    train_species_set = sub_species_set[train_indices[:, 0]]\n",
    "    val_image_set = sub_image_set[val_indices[:, 0]]\n",
    "    val_label_set = sub_label_set[val_indices[:, 0]]\n",
    "    val_hash_id = sub_hash_id[val_indices[:, 0]][:,0]\n",
    "    val_species_set = sub_species_set[val_indices[:, 0]]\n",
    "    # reshape \n",
    "    train_label_set = train_label_set.reshape(-1, 1)\n",
    "    val_label_set = val_label_set.reshape(-1, 1)\n",
    "    train_species_set = train_species_set.reshape(-1, 1)\n",
    "    val_species_set = val_species_set.reshape(-1, 1)\n",
    "    \n",
    "    # check if there are any group overlaps between the data splits\n",
    "    hash_set = set(train_hash_id)\n",
    "    val_hash_set = set(val_hash_id)\n",
    "    test_hash_set = set(test_hash_id[:, 0].flatten())\n",
    "    intersection = hash_set.intersection(val_hash_set)\n",
    "    intersection2 = test_hash_set.intersection(val_hash_set)\n",
    "    intersection3 = hash_set.intersection(test_hash_set)\n",
    "    if intersection:\n",
    "        print(f\"Hash_id values in both train and val sets: {len(intersection)}\")\n",
    "        print(f\"Hash_id values in both test and val sets: {len(intersection2)}\")\n",
    "        print(f\"Hash_id values in both train and test sets: {len(intersection3)}\")\n",
    "    else:\n",
    "        print(\"There are no same hash_id values in train, val or test datasets. The datasplit was successful\")\n",
    "    \n",
    "         \n",
    "    print(\"Check shapes:\\n\")\n",
    "    print(f\"Images train dataset: {train_image_set.shape}\")\n",
    "    print(f\"Labels train dataset: {train_label_set.shape}\\n\")\n",
    "    \n",
    "    print(f\"Images validation dataset: {val_image_set.shape}\")\n",
    "    print(f\"Labels validation dataset: {val_label_set.shape}\\n\")\n",
    "    print('-'*50)\n",
    "    print (f\"Check if the split was stratified: (random_state=42)\")\n",
    "    print(f\"Picea abies healthy in train dataset: {np.count_nonzero(train_label_set == 0)}\")\n",
    "    print(f\"Picea abies stressed in train dataset: {np.count_nonzero(train_label_set == 1)}\")\n",
    "    print(f\"Pinus sylvestris healthy in train dataset: {np.count_nonzero(train_label_set == 2)}\")\n",
    "    print(f\"Pinus sylvestris stressed in train dataset: {np.count_nonzero(train_label_set == 3)}\")\n",
    "    print(f\"Abies alba healthy in train dataset: {np.count_nonzero(train_label_set == 4)}\")\n",
    "    print(f\"Abies alba stressed in train dataset: {np.count_nonzero(train_label_set == 5)}\")\n",
    "    print(f\"Fagus sylvatica healthy in train dataset: {np.count_nonzero(train_label_set == 6)}\")\n",
    "    print(f\"Fagus sylvatica stressed in train dataset: {np.count_nonzero(train_label_set == 7)}\")\n",
    "    print(f\"Quercus robur/petraea healthy in train dataset: {np.count_nonzero(train_label_set == 8)}\")\n",
    "    print(f\"Quercus robur/petraea stressed in train dataset: {np.count_nonzero(train_label_set == 9)}\")\n",
    "    print(f\"Dead trees in train dataset: {np.count_nonzero(train_label_set == 10)}\")\n",
    "    print(f\"Picea abies healthy in validation dataset: {np.count_nonzero(val_label_set == 0)}\")\n",
    "    print(f\"Picea abies stressed in validation dataset: {np.count_nonzero(val_label_set == 1)}\")\n",
    "    print(f\"Pinus sylvestris healthy in validation dataset: {np.count_nonzero(val_label_set == 2)}\")\n",
    "    print(f\"Pinus sylvestris stressed in validation dataset: {np.count_nonzero(val_label_set == 3)}\")\n",
    "    print(f\"Abies alba healthy in validation dataset: {np.count_nonzero(val_label_set == 4)}\")\n",
    "    print(f\"Abies alba stressed in validation dataset: {np.count_nonzero(val_label_set == 5)}\")\n",
    "    print(f\"Fagus sylvatica healthy in validation dataset: {np.count_nonzero(val_label_set == 6)}\")\n",
    "    print(f\"Fagus sylvatica stressed in validation dataset: {np.count_nonzero(val_label_set == 7)}\")\n",
    "    print(f\"Quercus robur/petraea healthy in validation dataset: {np.count_nonzero(val_label_set == 8)}\")\n",
    "    print(f\"Quercus robur/petraea stressed in validation dataset: {np.count_nonzero(val_label_set == 9)}\")\n",
    "    print(f\"Dead trees in validation dataset: {np.count_nonzero(val_label_set == 10)}\")\n",
    "    #print(f\"Ratio health trees in validation dataset: {np.count_nonzero(val_label_set == 0)/np.count_nonzero(sub_label_set == 0)}\")\n",
    "    #print(f\"Ratio moderately stressed trees in validation dataset: {np.count_nonzero(val_label_set == 1)/np.count_nonzero(sub_label_set == 1)}\")\n",
    "    #print(f\"Ratio severely stressed trees in validation dataset: {np.count_nonzero(val_label_set == 1)/np.count_nonzero(sub_label_set == 2)}\")\n",
    "    #print(f\"Ratio dead trees in validation dataset: {np.count_nonzero(val_label_set == 2)/np.count_nonzero(sub_label_set == 3)}\")\n",
    "    print(\"-\"*50)\n",
    "   \n",
    "    # 2. Create train and validation dataset. (choose custom dataset loader with 3 - 5 classes)\n",
    "    print(f\"\\nCreating datasets for fold: {fold + 1}\\n\")\n",
    "    train_dataset = data_loader.CustomDataset(data=train_image_set, labels=train_label_set, class_names=class_names, species = train_species_set,\n",
    "                                                         transform=transform_train)\n",
    "    \n",
    "    val_dataset = data_loader.CustomDataset(data=val_image_set, labels=val_label_set, class_names=class_names,\n",
    "                                                       species = val_species_set, transform=transform)\n",
    "   \n",
    "    # 3. Create train and validation dataloader\n",
    "    # create sampler for oversampling of the minority classes\n",
    "    sampler = data_loader.data_sampler(dataset=train_dataset, class_names=class_names)\n",
    "    print(f\"Creating dataloaders for fold: {fold +1}\\n\")\n",
    "    train_dataloader = DataLoader(train_dataset, batch_size=batch_size, persistent_workers=True, pin_memory=True, num_workers=NUM_WORKERS, generator=g,\n",
    "                              sampler=sampler, shuffle=False, drop_last=True) # shuffle false because of the sampler\n",
    "\n",
    "    val_dataloader = DataLoader(val_dataset, batch_size=batch_size, persistent_workers=True, pin_memory=True, num_workers=NUM_WORKERS, shuffle=False,\n",
    "                             drop_last=True)\n",
    "    \n",
    "    model = model_effnet.EfficientNet.from_pretrained('efficientnet-b7', in_channels=n_bands, num_classes=num_classes, dropout_rate=dropout_rate)\n",
    "    #model = models.create_effnetb7(output_shape=num_classes, unfreeze=True, dropout_rate=dropout_rate, device=device)\n",
    "   \n",
    "    loss_fn = nn.CrossEntropyLoss()\n",
    "    optimizer = torch.optim.Adam(params=model.parameters(), lr=lr)\n",
    "    lr_scheduler = CustomExponentialLR(optimizer, gamma=gamma, min_lr=min_lr)\n",
    "\n",
    "    fold += 1\n",
    "    print(f\"\\n[INFO] Fold number: {fold}\")\n",
    "    print(f\"[INFO] Number of epochs: {epochs}\")\n",
    "    print(f\"[INFO] Batch_size: {batch_size}\")\n",
    "    print(f\"[INFO] Number of bands: {n_bands}\")\n",
    "    print(f\"[INFO] Dropout rate: {dropout_rate}\")\n",
    "    print(f\"[INFO] Gamma learning rate: {gamma}\")\n",
    "    print(f\"[INFO] Memory allocated: {torch.cuda.memory_allocated()} bytes\")\n",
    "    # 4. Train model with k fold dataloaders and track experiments\n",
    "    \n",
    "    if fold == 1:\n",
    "        fold1_results = train(model=model, model_name=model_name, n_bands=n_bands, batch_size=batch_size,train_dataloader=train_dataloader, val_dataloader=val_dataloader, \n",
    "                        optimizer=optimizer, loss_fn=loss_fn, lr_scheduler=lr_scheduler, num_classes=num_classes, epochs=epochs, experiment_num=fold, device=device,\n",
    "                        writer=None, early_stop_patience = patience)\n",
    "       \n",
    "    elif fold == 2:\n",
    "        fold2_results = train(model=model, model_name=model_name, n_bands=n_bands, batch_size=batch_size,train_dataloader=train_dataloader, val_dataloader=val_dataloader, \n",
    "                        optimizer=optimizer, loss_fn=loss_fn, lr_scheduler=lr_scheduler, num_classes=num_classes, epochs=epochs, experiment_num=fold, device=device,\n",
    "                        writer=None, early_stop_patience = patience)\n",
    "    elif fold == 3:\n",
    "        fold3_results = train(model=model, model_name=model_name, n_bands=n_bands, batch_size=batch_size,train_dataloader=train_dataloader, val_dataloader=val_dataloader, \n",
    "                        optimizer=optimizer, loss_fn=loss_fn, lr_scheduler=lr_scheduler, num_classes=num_classes, epochs=epochs, experiment_num=fold, device=device,\n",
    "                        writer=None, early_stop_patience = patience)\n",
    "    elif fold == 4:\n",
    "        fold4_results = train(model=model, model_name=model_name, n_bands=n_bands, batch_size=batch_size,train_dataloader=train_dataloader, val_dataloader=val_dataloader, \n",
    "                        optimizer=optimizer, loss_fn=loss_fn, lr_scheduler=lr_scheduler, num_classes=num_classes, epochs=epochs, experiment_num=fold, device=device,\n",
    "                        writer=None, early_stop_patience = patience)\n",
    "    else:\n",
    "        fold5_results = train(model=model, model_name=model_name, n_bands=n_bands, batch_size=batch_size,train_dataloader=train_dataloader, val_dataloader=val_dataloader, \n",
    "                        optimizer=optimizer, loss_fn=loss_fn, lr_scheduler=lr_scheduler, num_classes=num_classes, epochs=epochs, experiment_num=fold, device=device,\n",
    "                        writer=None, early_stop_patience = patience)\n",
    "    \n",
    "    del train_indices, val_indices, train_image_set, train_label_set, train_hash_id, train_species_set, val_image_set, val_label_set, val_hash_id, val_species_set,\n",
    "    train_dataset, val_dataset, sampler, train_dataloader, val_dataloader, model, loss_fn, optimizer, lr_scheduler\n",
    "    \n",
    "    #finish the wandb run\n",
    "    wandb.finish()\n",
    "    print(\"Deleting variables and emptying cache\")\n",
    "    gc.collect()\n",
    "    torch.cuda.empty_cache()\n",
    "    print(f\"Memory allocated: {torch.cuda.memory_allocated()} bytes\")\n",
    "    print(\"-\"*50 + \"\\n\")"
   ]
  },
  {
   "cell_type": "markdown",
   "id": "a36b9b92",
   "metadata": {},
   "source": [
    "#### Create test dataset and test dataloader "
   ]
  },
  {
   "cell_type": "code",
   "execution_count": 19,
   "id": "c0c36ebb",
   "metadata": {},
   "outputs": [],
   "source": [
    "# create test dataset\n",
    "test_dataset = data_loader.CustomTestDataset(\n",
    "    data = test_image_set,\n",
    "    labels = test_label_set,\n",
    "    class_names=class_names, \n",
    "    species = test_species_set,\n",
    "    kkl = None,\n",
    "    transform=transform\n",
    ")\n",
    "\n",
    "# create test dataloader\n",
    "test_dataloader = DataLoader(test_dataset,\n",
    "                             batch_size=batch_size,\n",
    "                             persistent_workers=True,\n",
    "                             pin_memory=True,\n",
    "                             num_workers=NUM_WORKERS,\n",
    "                             shuffle=False,\n",
    "                             drop_last=True)"
   ]
  },
  {
   "cell_type": "markdown",
   "id": "22cdaac7",
   "metadata": {},
   "source": [
    "#### Perform ensembling of the five best models"
   ]
  },
  {
   "cell_type": "code",
   "execution_count": 20,
   "id": "67db5af2",
   "metadata": {},
   "outputs": [
    {
     "name": "stdout",
     "output_type": "stream",
     "text": [
      "Loaded pretrained weights for efficientnet-b7\n",
      "Loaded pretrained weights for efficientnet-b7\n",
      "Loaded pretrained weights for efficientnet-b7\n",
      "Loaded pretrained weights for efficientnet-b7\n",
      "Loaded pretrained weights for efficientnet-b7\n",
      "              precision    recall  f1-score   support\n",
      "\n",
      "           0       0.71      0.84      0.77       275\n",
      "           1       0.68      0.39      0.50       132\n",
      "           2       0.47      0.45      0.46        78\n",
      "           3       0.38      0.49      0.43        61\n",
      "           4       0.50      0.61      0.55        23\n",
      "           5       0.57      0.31      0.40        13\n",
      "           6       0.74      0.65      0.69       166\n",
      "           7       0.54      0.48      0.51        56\n",
      "           8       0.50      0.62      0.55        85\n",
      "           9       0.29      0.14      0.19        29\n",
      "          10       0.44      0.80      0.57        10\n",
      "\n",
      "    accuracy                           0.61       928\n",
      "   macro avg       0.53      0.53      0.51       928\n",
      "weighted avg       0.62      0.61      0.60       928\n",
      "\n",
      "[[232  22   5   5   2   1   1   0   0   0   7]\n",
      " [ 75  52   1   1   1   0   2   0   0   0   0]\n",
      " [  2   1  35  39   0   0   1   0   0   0   0]\n",
      " [  2   0  28  30   0   0   0   0   0   0   1]\n",
      " [  3   1   0   0  14   2   3   0   0   0   0]\n",
      " [  0   0   0   0   7   4   1   1   0   0   0]\n",
      " [  4   0   4   1   0   0 108   9  37   2   1]\n",
      " [  1   0   0   1   2   0  20  27   4   1   0]\n",
      " [  7   0   2   1   1   0   7   6  53   7   1]\n",
      " [  2   0   0   0   1   0   3   7  12   4   0]\n",
      " [  1   0   0   1   0   0   0   0   0   0   8]]\n"
     ]
    }
   ],
   "source": [
    "# Setup the best model filepaths\n",
    "best_model1_path = r\"C:\\Users\\lwfeckesim\\01_PyTorch\\wze-uav\\wze-uav-master\\models\\EffNet_b7_RGB-5species-combined_v2_plotsplit_001\\1_EffNet_b7_RGB-5species-combined_v2_plotsplit_001_10_epochs.pth\"\n",
    "best_model2_path = r\"C:\\Users\\lwfeckesim\\01_PyTorch\\wze-uav\\wze-uav-master\\models\\EffNet_b7_RGB-5species-combined_v2_plotsplit_001\\2_EffNet_b7_RGB-5species-combined_v2_plotsplit_001_10_epochs.pth\"\n",
    "best_model3_path = r\"C:\\Users\\lwfeckesim\\01_PyTorch\\wze-uav\\wze-uav-master\\models\\EffNet_b7_RGB-5species-combined_v2_plotsplit_001\\3_EffNet_b7_RGB-5species-combined_v2_plotsplit_001_11_epochs.pth\"\n",
    "best_model4_path = r\"C:\\Users\\lwfeckesim\\01_PyTorch\\wze-uav\\wze-uav-master\\models\\EffNet_b7_RGB-5species-combined_v2_plotsplit_001\\4_EffNet_b7_RGB-5species-combined_v2_plotsplit_001_10_epochs.pth\"\n",
    "best_model5_path = r\"C:\\Users\\lwfeckesim\\01_PyTorch\\wze-uav\\wze-uav-master\\models\\EffNet_b7_RGB-5species-combined_v2_plotsplit_001\\5_EffNet_b7_RGB-5species-combined_v2_plotsplit_001_8_epochs.pth\"\n",
    "\n",
    "# Instantiate a new instance of EffNetB7 (to load the saved state_dict() to)\n",
    "#model1 = models.create_effnetb7(output_shape=num_classes, unfreeze=unfreeze, dropout_rate=dropout_rate, device=device)\n",
    "#model2 = models.create_effnetb7(output_shape=num_classes, unfreeze=unfreeze, dropout_rate=dropout_rate, device=device)\n",
    "#model3 = models.create_effnetb7(output_shape=num_classes, unfreeze=unfreeze, dropout_rate=dropout_rate, device=device)\n",
    "#model4 = models.create_effnetb7(output_shape=num_classes, unfreeze=unfreeze, dropout_rate=dropout_rate, device=device)\n",
    "#model5 = models.create_effnetb7(output_shape=num_classes, unfreeze=unfreeze, dropout_rate=dropout_rate, device=device)\n",
    "# for custom models with more than three bands as input\n",
    "model1 = model_effnet.EfficientNet.from_pretrained('efficientnet-b7', in_channels=n_bands, num_classes=num_classes, dropout_rate=dropout_rate)\n",
    "model2 = model_effnet.EfficientNet.from_pretrained('efficientnet-b7', in_channels=n_bands, num_classes=num_classes, dropout_rate=dropout_rate)\n",
    "model3 = model_effnet.EfficientNet.from_pretrained('efficientnet-b7', in_channels=n_bands, num_classes=num_classes, dropout_rate=dropout_rate)\n",
    "model4 = model_effnet.EfficientNet.from_pretrained('efficientnet-b7', in_channels=n_bands, num_classes=num_classes, dropout_rate=dropout_rate)\n",
    "model5 = model_effnet.EfficientNet.from_pretrained('efficientnet-b7', in_channels=n_bands, num_classes=num_classes, dropout_rate=dropout_rate)\n",
    "\n",
    "# Load the saved best model state_dict()\n",
    "model1.load_state_dict(torch.load(best_model1_path))\n",
    "model2.load_state_dict(torch.load(best_model2_path))\n",
    "model3.load_state_dict(torch.load(best_model3_path))\n",
    "model4.load_state_dict(torch.load(best_model4_path))\n",
    "model5.load_state_dict(torch.load(best_model5_path))\n",
    "\n",
    "model1.to(device)\n",
    "model2.to(device)\n",
    "model3.to(device)\n",
    "model4.to(device)\n",
    "model5.to(device)\n",
    "\n",
    "model1.eval()\n",
    "model2.eval()\n",
    "model3.eval()\n",
    "model4.eval()\n",
    "model5.eval()\n",
    "\n",
    "# Initialize the lists to store the predictions\n",
    "all_preds_model1 = []\n",
    "all_preds_model2 = []\n",
    "all_preds_model3 = []\n",
    "all_preds_model4 = []\n",
    "all_preds_model5 = []\n",
    "all_true_labels = []\n",
    "\n",
    "# Loop through the test dataset and generate predictions for each model\n",
    "with torch.no_grad():\n",
    "    for batch in test_dataloader:\n",
    "        inputs, labels, species = batch\n",
    "        inputs, labels, species = inputs.to(device), labels.to(device), species\n",
    "        \n",
    "        # Generate predictions for each model\n",
    "        preds_model1 = model1(inputs)\n",
    "        preds_model2 = model2(inputs)\n",
    "        preds_model3 = model3(inputs)\n",
    "        preds_model4 = model4(inputs)\n",
    "        preds_model5 = model5(inputs)\n",
    "\n",
    "        # Append the predictions to the corresponding list\n",
    "        all_preds_model1.append(preds_model1.cpu().numpy())\n",
    "        all_preds_model2.append(preds_model2.cpu().numpy())\n",
    "        all_preds_model3.append(preds_model3.cpu().numpy())\n",
    "        all_preds_model4.append(preds_model4.cpu().numpy())\n",
    "        all_preds_model5.append(preds_model5.cpu().numpy())\n",
    "        \n",
    "        all_true_labels.append(labels.cpu().numpy())\n",
    "\n",
    "# Concatenate the predictions from all the models\n",
    "all_preds_model1 = np.concatenate(all_preds_model1)\n",
    "all_preds_model2 = np.concatenate(all_preds_model2)\n",
    "all_preds_model3 = np.concatenate(all_preds_model3)\n",
    "all_preds_model4 = np.concatenate(all_preds_model4)\n",
    "all_preds_model5 = np.concatenate(all_preds_model5)\n",
    "\n",
    "all_true_labels = np.concatenate(all_true_labels)\n",
    "\n",
    "# Calculate the ensemble predictions\n",
    "ensemble_preds = np.mean([all_preds_model1, all_preds_model2, all_preds_model3, all_preds_model4, all_preds_model5], axis=0)\n",
    "ensemble_labels = np.argmax(ensemble_preds, axis=1)\n",
    "\n",
    "# Calculate the evaluation metrics for the ensemble model\n",
    "from sklearn.metrics import classification_report, confusion_matrix\n",
    "\n",
    "print(classification_report(all_true_labels, ensemble_labels))\n",
    "print(confusion_matrix(all_true_labels, ensemble_labels))\n",
    "\n",
    "\n",
    "\n",
    "\n"
   ]
  },
  {
   "cell_type": "code",
   "execution_count": 22,
   "id": "6dfbc663",
   "metadata": {},
   "outputs": [
    {
     "name": "stdout",
     "output_type": "stream",
     "text": [
      "              precision    recall  f1-score   support\n",
      "\n",
      "           0       0.71      0.84      0.77       275\n",
      "           1       0.68      0.39      0.50       132\n",
      "           2       0.47      0.45      0.46        78\n",
      "           3       0.38      0.49      0.43        61\n",
      "           4       0.50      0.61      0.55        23\n",
      "           5       0.57      0.31      0.40        13\n",
      "           6       0.74      0.65      0.69       166\n",
      "           7       0.54      0.48      0.51        56\n",
      "           8       0.50      0.62      0.55        85\n",
      "           9       0.29      0.14      0.19        29\n",
      "          10       0.44      0.80      0.57        10\n",
      "\n",
      "    accuracy                           0.61       928\n",
      "   macro avg       0.53      0.53      0.51       928\n",
      "weighted avg       0.62      0.61      0.60       928\n",
      "\n"
     ]
    },
    {
     "data": {
      "image/png": "[encoded data removed]",
      "text/plain": [
       "<Figure size 720x504 with 1 Axes>"
      ]
     },
     "metadata": {
      "needs_background": "light"
     },
     "output_type": "display_data"
    }
   ],
   "source": [
    "import matplotlib.pyplot as plt\n",
    "import pandas as pd\n",
    "# Calculate the evaluation metrics for the ensemble model\n",
    "\n",
    "report = classification_report(all_true_labels, ensemble_labels)\n",
    "print(report)\n",
    "#print(confusion_matrix(all_true_labels, ensemble_labels))\n",
    "\n",
    "# Save the report to a file\n",
    "with open(r'C:\\Users\\lwfeckesim\\01_PyTorch\\wze-uav\\wze-uav-master\\plots\\report_RGB_5species_combined_plotsplit_001.txt', 'w') as f:\n",
    "    f.write(report)\n",
    "\n",
    "labels = np.array([0,1,2,3,4,5,6,7,8,9,10])\n",
    "confmat = confusion_matrix(all_true_labels, ensemble_labels, labels=labels)\n",
    "\n",
    "# 3. Plot the confusion matrix\n",
    "fig, ax = plot_confusion_matrix(\n",
    "    conf_mat=confmat, # matplotlib likes working with NumPy \n",
    "    class_names=class_names, # turn the row and column labels into class names\n",
    "    figsize=(10, 7)\n",
    ");\n",
    "\n",
    "# add title to confusion matrix plot\n",
    "plt.title(\"Main tree species and Health Status Classification using RGB Bands\", fontsize=16)\n",
    "\n",
    "fig.savefig(r'C:\\Users\\lwfeckesim\\01_PyTorch\\wze-uav\\wze-uav-master\\plots\\confmat_RGB_5species_combined_plotsplit_001.png', dpi=300, bbox_inches='tight')\n",
    "\n",
    "# Create a DataFrame from the confusion matrix\n",
    "df_cm = pd.DataFrame(confmat)\n",
    "\n",
    "# Export the confusion matrix to a CSV file\n",
    "df_cm.to_csv(r'C:\\Users\\lwfeckesim\\01_PyTorch\\wze-uav\\wze-uav-master\\plots\\confmat_RGB_5species_combined_001.csv', index=False)"
   ]
  },
  {
   "cell_type": "code",
   "execution_count": 23,
   "id": "aab9e321",
   "metadata": {},
   "outputs": [
    {
     "ename": "NameError",
     "evalue": "name 'best_model' is not defined",
     "output_type": "error",
     "traceback": [
      "\u001b[1;31m---------------------------------------------------------------------------\u001b[0m",
      "\u001b[1;31mNameError\u001b[0m                                 Traceback (most recent call last)",
      "Input \u001b[1;32mIn [23]\u001b[0m, in \u001b[0;36m<cell line: 3>\u001b[1;34m()\u001b[0m\n\u001b[0;32m      1\u001b[0m \u001b[38;5;66;03m# 2. Setup confusion matrix instance and compare predictions to targets\u001b[39;00m\n\u001b[0;32m      2\u001b[0m \u001b[38;5;66;03m#from wze_uav.analysis import *\u001b[39;00m\n\u001b[1;32m----> 3\u001b[0m y_pred_tensor, y_labels_tensor, test_loss, test_recall, test_precision, test_f1_score, test_acc, y_logit, y_pred, y, y_preds \u001b[38;5;241m=\u001b[39m make_predictions(model\u001b[38;5;241m=\u001b[39m\u001b[43mbest_model\u001b[49m,\n\u001b[0;32m      4\u001b[0m                                  test_dataloader\u001b[38;5;241m=\u001b[39mtest_dataloader, \n\u001b[0;32m      5\u001b[0m                                  device\u001b[38;5;241m=\u001b[39mdevice)\n\u001b[0;32m      7\u001b[0m y_labels_tensor \u001b[38;5;241m=\u001b[39m y_labels_tensor\u001b[38;5;241m.\u001b[39mdetach()\u001b[38;5;241m.\u001b[39mcpu()\u001b[38;5;241m.\u001b[39mnumpy()\n\u001b[0;32m      8\u001b[0m y_pred_tensor \u001b[38;5;241m=\u001b[39m y_pred_tensor\u001b[38;5;241m.\u001b[39mdetach()\u001b[38;5;241m.\u001b[39mcpu()\u001b[38;5;241m.\u001b[39mnumpy()\n",
      "\u001b[1;31mNameError\u001b[0m: name 'best_model' is not defined"
     ]
    }
   ],
   "source": [
    "# 2. Setup confusion matrix instance and compare predictions to targets\n",
    "#from wze_uav.analysis import *\n",
    "y_pred_tensor, y_labels_tensor, test_loss, test_recall, test_precision, test_f1_score, test_acc, y_logit, y_pred, y, y_preds = make_predictions(model=best_model,\n",
    "                                 test_dataloader=test_dataloader, \n",
    "                                 device=device)\n",
    "\n",
    "y_labels_tensor = y_labels_tensor.detach().cpu().numpy()\n",
    "y_pred_tensor = y_pred_tensor.detach().cpu().numpy()\n",
    "\n",
    "#confmat = ConfusionMatrix(num_classes=num_classes, task='multiclass')\n",
    "#confmat_tensor = confmat(preds=y_pred_tensor,\n",
    "#                         target=test_labels)\n",
    "labels = np.array([0,1,2])\n",
    "confmat = confusion_matrix(y_labels_tensor, y_pred_tensor, labels=labels)\n",
    "\n",
    "# 3. Plot the confusion matrix\n",
    "fig, ax = plot_confusion_matrix(\n",
    "    conf_mat=confmat, # matplotlib likes working with NumPy \n",
    "    class_names=class_names, # turn the row and column labels into class names\n",
    "    figsize=(10, 7)\n",
    ");\n",
    "\n",
    "print(f\"Test loss: {test_loss}\")\n",
    "print(f\"Test precision: {test_precision}\")\n",
    "print(f\"Test recall: {test_recall}\")\n",
    "print(f\"Test F1score: {test_f1_score}\")\n",
    "#print(f\"Test Kappa: {test_kappa}\")\n",
    "print(f\"Test Accuracy: {test_acc}\")\n",
    "print(f\"Test Logits: {y_logit}\")\n",
    "print(f\"Test Predictions: {y_pred}\")\n",
    "print(f\"Test Labels: {y}\")"
   ]
  },
  {
   "cell_type": "code",
   "execution_count": null,
   "id": "8d4173b3",
   "metadata": {},
   "outputs": [],
   "source": [
    "len(y_preds)"
   ]
  },
  {
   "cell_type": "code",
   "execution_count": null,
   "id": "7588116f",
   "metadata": {},
   "outputs": [],
   "source": [
    "y_set.cpu()"
   ]
  },
  {
   "cell_type": "code",
   "execution_count": null,
   "id": "1c195b3e",
   "metadata": {},
   "outputs": [],
   "source": [
    "test_dataset.labels"
   ]
  },
  {
   "cell_type": "code",
   "execution_count": null,
   "id": "975ec08c",
   "metadata": {},
   "outputs": [],
   "source": []
  },
  {
   "cell_type": "code",
   "execution_count": null,
   "id": "6da05604",
   "metadata": {},
   "outputs": [],
   "source": [
    "y_preds = []\n",
    "y_labels = []\n",
    "labels = np.array([0,1,2])\n",
    "test_loss, test_precision, test_recall, test_f1_score, test_acc = 0, 0, 0, 0, 0\n",
    "count = 0\n",
    "model.eval()\n",
    "with torch.inference_mode():\n",
    "    for X, y in tqdm(test_dataloader, desc=\"Making predictions\"):\n",
    "        # Send data and targets to target device\n",
    "        X, y = X.to(device), y.to(device)\n",
    "        # Do the forward pass\n",
    "        y_logit = model(X)\n",
    "        # Turn predictions from logits -> prediction probabilities -> predictions labels\n",
    "        y_pred = torch.softmax(y_logit, dim=1).argmax(dim=1)\n",
    "        # Put predictions on CPU for evaluation\n",
    "        y_preds.append(y_pred.cpu())\n",
    "        y_labels.append(y.cpu())\n",
    "        \n",
    "        #other metrics\n",
    "        test_acc += ((y_pred == y).sum().item()/len(y_pred))\n",
    "        y_pred_class = y_pred.detach().cpu().numpy() \n",
    "        y_class = y.detach().cpu().numpy()\n",
    "        test_precision += precision_score(y_class, y_pred_class, average='macro', zero_division=1, labels=labels)\n",
    "        test_recall += recall_score(y_class, y_pred_class, average='macro', zero_division=1, labels=labels)\n",
    "        #test_f1_score += f1_score(y_class, y_pred_class, average='macro', zero_division=1, labels=labels)\n",
    "        \n",
    "        #if count >= 1:\n",
    "        #    y_set = torch.cat((y_set, y))\n",
    "        #    count = count + 1\n",
    "        #else:\n",
    "        #    y_set = y\n",
    "        #    count = count + 1\n",
    "        \n",
    "test_loss = test_loss / len(test_dataloader)\n",
    "test_precision = test_precision / len(test_dataloader)\n",
    "test_recall = test_recall / len(test_dataloader)\n",
    "#test_f1_score = test_f1_score / len(test_dataloader)\n",
    "#test_kappa = test_kappa / len(dataloader)\n",
    "test_acc = test_acc / len(test_dataloader)\n",
    "# Concatenate list of predictions into a tensor\n",
    "y_pred_tensor = torch.cat(y_preds)\n",
    "test_f1_score = f1_score(y_set.detach().cpu().numpy(), y_pred_tensor.cpu().numpy(), average='macro', zero_division=0, labels=[0,1,2])\n",
    "\n",
    "# Print classification report\n",
    "y_true = y_set.detach().cpu().numpy()\n",
    "report = classification_report(y_true, y_pred_tensor.cpu().numpy(), target_names=class_names)\n",
    "print(report)"
   ]
  },
  {
   "cell_type": "code",
   "execution_count": null,
   "id": "6ae97fab",
   "metadata": {},
   "outputs": [],
   "source": [
    "test_f1_score"
   ]
  },
  {
   "cell_type": "code",
   "execution_count": null,
   "id": "7ebafd9b",
   "metadata": {},
   "outputs": [],
   "source": [
    "make = (y_class == y_pred_class)\n",
    "make"
   ]
  },
  {
   "cell_type": "code",
   "execution_count": null,
   "id": "4f8aa759",
   "metadata": {},
   "outputs": [],
   "source": [
    "torch.softmax(y_logit, dim=1).argmax(dim=1)"
   ]
  },
  {
   "cell_type": "code",
   "execution_count": null,
   "id": "f90a54b2",
   "metadata": {},
   "outputs": [],
   "source": [
    "y"
   ]
  },
  {
   "cell_type": "code",
   "execution_count": null,
   "id": "5a806154",
   "metadata": {},
   "outputs": [],
   "source": [
    "test = (y_pred == y).sum().item()/16"
   ]
  },
  {
   "cell_type": "code",
   "execution_count": null,
   "id": "1da35c56",
   "metadata": {},
   "outputs": [],
   "source": [
    "test"
   ]
  },
  {
   "cell_type": "code",
   "execution_count": null,
   "id": "b1eb246e",
   "metadata": {},
   "outputs": [],
   "source": [
    " y_pred_class = y_pred.detach().cpu().numpy() "
   ]
  },
  {
   "cell_type": "code",
   "execution_count": null,
   "id": "602e096f",
   "metadata": {},
   "outputs": [],
   "source": [
    "y_pred_class"
   ]
  },
  {
   "cell_type": "code",
   "execution_count": null,
   "id": "eaf1af09",
   "metadata": {},
   "outputs": [],
   "source": []
  }
 ],
 "metadata": {
  "kernelspec": {
   "display_name": "Python 3 (ipykernel)",
   "language": "python",
   "name": "python3"
  },
  "language_info": {
   "codemirror_mode": {
    "name": "ipython",
    "version": 3
   },
   "file_extension": ".py",
   "mimetype": "text/x-python",
   "name": "python",
   "nbconvert_exporter": "python",
   "pygments_lexer": "ipython3",
   "version": "3.9.16"
  }
 },
 "nbformat": 4,
 "nbformat_minor": 5
}
