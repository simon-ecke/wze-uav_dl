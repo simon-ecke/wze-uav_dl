{
 "cells": [
  {
   "cell_type": "markdown",
   "id": "c1acdaa3",
   "metadata": {},
   "source": [
    "# WZE-UAV Image Classification using Deep Learning"
   ]
  },
  {
   "cell_type": "code",
   "execution_count": 1,
   "id": "2159aac5",
   "metadata": {},
   "outputs": [],
   "source": [
    "import os\n",
    "import gc\n",
    "import glob\n",
    "import numpy as np\n",
    "from pathlib import Path\n",
    "from tqdm.auto import tqdm\n",
    "from sklearn.metrics import confusion_matrix, classification_report\n",
    "from sklearn.model_selection import KFold"
   ]
  },
  {
   "cell_type": "code",
   "execution_count": 2,
   "id": "0026f7a9",
   "metadata": {},
   "outputs": [],
   "source": [
    "import torch\n",
    "import torchvision.transforms as T\n",
    "import torchvision\n",
    "from torch import nn\n",
    "from torch.utils.data import DataLoader\n",
    "from torchvision import datasets, transforms\n",
    "from torch.utils.data import Dataset\n",
    "import torch.optim as optim\n",
    "from torch.optim.lr_scheduler import ExponentialLR\n",
    "from mlxtend.plotting import plot_confusion_matrix"
   ]
  },
  {
   "cell_type": "code",
   "execution_count": 3,
   "id": "b160d7b4",
   "metadata": {},
   "outputs": [],
   "source": [
    "import wze_uav.data_loader as data_loader\n",
    "import wze_uav.models as models\n",
    "from wze_uav.engine import *\n",
    "from wze_uav.utils2 import *\n",
    "#from wze_uav.log_writer import create_writer\n",
    "from wze_uav.datasplit import *\n",
    "from efficientnet import model_effnet #for custom effnet with n_channels input\n",
    "import wandb"
   ]
  },
  {
   "cell_type": "markdown",
   "id": "2bd4fb2f",
   "metadata": {},
   "source": [
    "#### Get PyTorch version"
   ]
  },
  {
   "cell_type": "code",
   "execution_count": 4,
   "id": "c10886b1",
   "metadata": {},
   "outputs": [
    {
     "name": "stdout",
     "output_type": "stream",
     "text": [
      "torch version: 1.13.1+cu116\n",
      "torchvision version: 0.14.1+cu116\n"
     ]
    }
   ],
   "source": [
    "print(f\"torch version: {torch.__version__}\")\n",
    "print(f\"torchvision version: {torchvision.__version__}\")"
   ]
  },
  {
   "cell_type": "markdown",
   "id": "aa6a83cf",
   "metadata": {},
   "source": [
    "#### Preparing device agnostic code "
   ]
  },
  {
   "cell_type": "code",
   "execution_count": 5,
   "id": "13d5de88",
   "metadata": {},
   "outputs": [
    {
     "name": "stdout",
     "output_type": "stream",
     "text": [
      "cuda\n",
      "Index of current divice: 0\n",
      "Number of GPUs available: 1\n",
      "GPU Model: Quadro RTX 8000\n"
     ]
    }
   ],
   "source": [
    "# ensure device agnostic code\n",
    "device = 'cuda' if torch.cuda.is_available() else 'cpu'\n",
    "print(device)\n",
    "\n",
    "# get index of currently selected device\n",
    "print(f\"Index of current divice: {torch.cuda.current_device()}\")\n",
    "# get number of GPUs available\n",
    "print(f\"Number of GPUs available: {torch.cuda.device_count()}\")\n",
    "# get the name of the device\n",
    "print(f\"GPU Model: {torch.cuda.get_device_name(0)}\")"
   ]
  },
  {
   "cell_type": "markdown",
   "id": "8ef6b169",
   "metadata": {},
   "source": [
    "#### Login to Weights & Biases to track results"
   ]
  },
  {
   "cell_type": "code",
   "execution_count": 6,
   "id": "a59d27cf",
   "metadata": {},
   "outputs": [
    {
     "name": "stderr",
     "output_type": "stream",
     "text": [
      "Failed to detect the name of this notebook, you can set it manually with the WANDB_NOTEBOOK_NAME environment variable to enable code saving.\n",
      "\u001b[34m\u001b[1mwandb\u001b[0m: Currently logged in as: \u001b[33msimon-ecke\u001b[0m. Use \u001b[1m`wandb login --relogin`\u001b[0m to force relogin\n"
     ]
    },
    {
     "data": {
      "text/html": [
       "Tracking run with wandb version 0.14.2"
      ],
      "text/plain": [
       "<IPython.core.display.HTML object>"
      ]
     },
     "metadata": {},
     "output_type": "display_data"
    },
    {
     "data": {
      "text/html": [
       "Run data is saved locally in <code>C:\\Users\\lwfeckesim\\01_PyTorch\\wze-uav\\wze-uav-master\\wandb\\run-20230420_001418-7n6kqf0d</code>"
      ],
      "text/plain": [
       "<IPython.core.display.HTML object>"
      ]
     },
     "metadata": {},
     "output_type": "display_data"
    },
    {
     "data": {
      "text/html": [
       "Syncing run <strong><a href='https://wandb.ai/simon-ecke/wze-uav-v2/runs/7n6kqf0d' target=\"_blank\">good-haze-28</a></strong> to <a href='https://wandb.ai/simon-ecke/wze-uav-v2' target=\"_blank\">Weights & Biases</a> (<a href='https://wandb.me/run' target=\"_blank\">docs</a>)<br/>"
      ],
      "text/plain": [
       "<IPython.core.display.HTML object>"
      ]
     },
     "metadata": {},
     "output_type": "display_data"
    },
    {
     "data": {
      "text/html": [
       " View project at <a href='https://wandb.ai/simon-ecke/wze-uav-v2' target=\"_blank\">https://wandb.ai/simon-ecke/wze-uav-v2</a>"
      ],
      "text/plain": [
       "<IPython.core.display.HTML object>"
      ]
     },
     "metadata": {},
     "output_type": "display_data"
    },
    {
     "data": {
      "text/html": [
       " View run at <a href='https://wandb.ai/simon-ecke/wze-uav-v2/runs/7n6kqf0d' target=\"_blank\">https://wandb.ai/simon-ecke/wze-uav-v2/runs/7n6kqf0d</a>"
      ],
      "text/plain": [
       "<IPython.core.display.HTML object>"
      ]
     },
     "metadata": {},
     "output_type": "display_data"
    },
    {
     "data": {
      "text/html": [
       "<button onClick=\"this.nextSibling.style.display='block';this.style.display='none';\">Display W&B run</button><iframe src='https://wandb.ai/simon-ecke/wze-uav-v2/runs/7n6kqf0d?jupyter=true' style='border:none;width:100%;height:420px;display:none;'></iframe>"
      ],
      "text/plain": [
       "<wandb.sdk.wandb_run.Run at 0x1ae4164c670>"
      ]
     },
     "execution_count": 6,
     "metadata": {},
     "output_type": "execute_result"
    }
   ],
   "source": [
    "# IMPORTANT: The proxy needs to be set in anaconda!\n",
    "# copy paste this in anaconda and restart jupyter notebook\n",
    "#set http_proxy=http://www-proxy.bayern.de:80\n",
    "#set https_proxy=http://www-proxy.bayern.de:80\n",
    "wandb.login()\n",
    "#wandb.init(settings=wandb.Settings(start_method=\"thread\"))\n",
    "wandb.init(project='wze-uav-v2', entity='simon-ecke')"
   ]
  },
  {
   "cell_type": "markdown",
   "id": "a26a6a34",
   "metadata": {},
   "source": [
    "#### Ensure reproducibility "
   ]
  },
  {
   "cell_type": "code",
   "execution_count": 7,
   "id": "dd4656a7",
   "metadata": {},
   "outputs": [],
   "source": [
    "# for more information, see also: https://pytorch.org/docs/stable/notes/randomness.html\n",
    "\n",
    "# Set seeds\n",
    "def set_seeds(seed: int=42):\n",
    "    \"\"\"Sets random sets for torch operations.\n",
    "\n",
    "    Args:\n",
    "        seed (int, optional): Random seed to set. Defaults to 42.\n",
    "    \"\"\"\n",
    "    # Set the seed for general torch operations\n",
    "    torch.manual_seed(seed)\n",
    "    # Set the seed for CUDA torch operations (ones that happen on the GPU)\n",
    "    torch.cuda.manual_seed(seed)\n",
    "    # seed for numpy\n",
    "    np.random.seed(seed)\n",
    "\n",
    "set_seeds(42) \n",
    "\n",
    "# Set to true -> might speed up the process but should be set to False if reproducible results are desired\n",
    "torch.backends.cudnn.benchmark = False\n"
   ]
  },
  {
   "cell_type": "markdown",
   "id": "8be33671",
   "metadata": {},
   "source": [
    "#### Define file directory"
   ]
  },
  {
   "cell_type": "code",
   "execution_count": 8,
   "id": "30645f36",
   "metadata": {},
   "outputs": [],
   "source": [
    "#####################################################################################\n",
    "# 3 channel input (r-g-b)\n",
    "#data_path = r\"D:\\Drohnendaten\\10_WZE-UAV\\Auswertung_findatree\\Datasplit\\ROI\\rgb\"\n",
    "\n",
    "# 4 channel input (r-g-b-nir)\n",
    "#data_path = r\"D:\\Drohnendaten\\10_WZE-UAV\\Auswertung_findatree\\Datasplit\\ROI\\rgb-nir\"\n",
    "\n",
    "# 5 channel input (r-g-b-re-nir)\n",
    "#data_path = r\"D:\\Drohnendaten\\10_WZE-UAV\\Auswertung_findatree\\Datasplit\\ROI\\rgb-re-nir\"\n",
    "\n",
    "# 6 channel input (r-g-b-re-nir-chm)\n",
    "data_path = r\"D:\\Drohnendaten\\10_WZE-UAV\\Auswertung_findatree\\Datasplit\\ROI\\rgb-re-nir-chm\"\n",
    "#####################################################################################"
   ]
  },
  {
   "cell_type": "markdown",
   "id": "4560ce64",
   "metadata": {},
   "source": [
    "#### Get all file paths"
   ]
  },
  {
   "cell_type": "code",
   "execution_count": 9,
   "id": "aa072e4c",
   "metadata": {},
   "outputs": [],
   "source": [
    "fn_list = os.listdir(data_path)\n",
    "path_list = []\n",
    "# Iterate over all datafiles\n",
    "for year in fn_list:\n",
    "    year_dir = f'{data_path}\\\\{year}'\n",
    "    for filename in os.listdir(year_dir):\n",
    "        path = f'{year_dir}\\\\{filename}'\n",
    "        path_list.append(path)"
   ]
  },
  {
   "cell_type": "markdown",
   "id": "f3937a44",
   "metadata": {},
   "source": [
    "#### Create unique hash IDs for every individual tree"
   ]
  },
  {
   "cell_type": "code",
   "execution_count": 11,
   "id": "8a50f1d7",
   "metadata": {},
   "outputs": [
    {
     "data": {
      "application/vnd.jupyter.widget-view+json": {
       "model_id": "dc8510d878bf48a087ff71a3fc3cc301",
       "version_major": 2,
       "version_minor": 0
      },
      "text/plain": [
       "Creating unique tree IDs...:   0%|          | 0/647 [00:00<?, ?it/s]"
      ]
     },
     "metadata": {},
     "output_type": "display_data"
    }
   ],
   "source": [
    "hashID_dict = data_loader.get_unique_treeID(path_list)"
   ]
  },
  {
   "cell_type": "markdown",
   "id": "6f4cea00",
   "metadata": {},
   "source": [
    "#### Import all imagery, labels and other features from hdf5 files"
   ]
  },
  {
   "cell_type": "code",
   "execution_count": 12,
   "id": "94e3eecf",
   "metadata": {},
   "outputs": [
    {
     "data": {
      "application/vnd.jupyter.widget-view+json": {
       "model_id": "ffa7f5914bff44008b19610fff8b1b32",
       "version_major": 2,
       "version_minor": 0
      },
      "text/plain": [
       "Processing hdf5 datasets:   0%|          | 0/647 [00:00<?, ?it/s]"
      ]
     },
     "metadata": {},
     "output_type": "display_data"
    }
   ],
   "source": [
    "image_set, label_set, species_set, kkl_set, bk_set, hash_id = data_loader.hdf5_to_img_label(path_list,\n",
    "                                                                                               hashID_dict,\n",
    "                                                                                               load_sets=[\"images_masked\"])"
   ]
  },
  {
   "cell_type": "markdown",
   "id": "6a90e2b7",
   "metadata": {},
   "source": [
    "#### Convert nbv to classes"
   ]
  },
  {
   "cell_type": "code",
   "execution_count": 13,
   "id": "0224972a",
   "metadata": {},
   "outputs": [],
   "source": [
    "label_set = nbv_to_sst_3classes(label_set)"
   ]
  },
  {
   "cell_type": "markdown",
   "id": "c6b4cd85",
   "metadata": {},
   "source": [
    "#### Split data into a sub set and a test dataset"
   ]
  },
  {
   "cell_type": "code",
   "execution_count": 14,
   "id": "d06eda54",
   "metadata": {},
   "outputs": [
    {
     "name": "stdout",
     "output_type": "stream",
     "text": [
      "ORIGINAL POSITIVE RATIO: 0.42823717096516883\n",
      "Fold : 0\n",
      "TRAIN POSITIVE RATIO: 0.4286353181702019\n",
      "TEST POSITIVE RATIO : 0.4262607040913416\n",
      "LENGTH TRAIN GROUPS : 5900\n",
      "LENGTH TEST GROUPS  : 1187\n",
      "Number of True in sub_indices: 15652\n",
      "Number of False in sub_indices: 3153\n",
      "Number of True in test_indices: 1187\n",
      "Number of False in test_indices: 17618\n",
      "Check shapes:\n",
      "\n",
      "Images sub dataset: (15652, 250, 250, 6)\n",
      "Labels sub dataset: (15652, 1)\n",
      "\n",
      "Images test dataset: (1187, 250, 250, 6)\n",
      "Labels test dataset: (1187, 1)\n",
      "\n",
      "--------------------------------------------------\n",
      "Check if the split was stratified: (random_state=42)\n",
      "Healthy trees in sub dataset: 9208\n",
      "Stressed trees in sub dataset: 6179\n",
      "Dead trees in sub dataset: 265\n",
      "Healthy trees in test dataset: 685\n",
      "Stressed trees in test dataset: 483\n",
      "Dead trees in test dataset: 19\n",
      "Ratio health trees in test dataset: 0.07439183318853171\n",
      "Ratio stressed trees in test dataset: 0.07816798834762907\n",
      "Ratio dead trees in test dataset: 0.07169811320754717\n"
     ]
    }
   ],
   "source": [
    "sub_image_set, sub_label_set, sub_hash_id, sub_species_set, test_image_set, test_label_set, test_hash_id, test_species_set = data_split(image_set, label_set, hash_id, species_set, n_splits=6, random_state=42, seed=2)\n"
   ]
  },
  {
   "cell_type": "markdown",
   "id": "c48fbb5b",
   "metadata": {},
   "source": [
    "#### Check if any hash ID is in both sub and test dataset"
   ]
  },
  {
   "cell_type": "code",
   "execution_count": 15,
   "id": "874367cf",
   "metadata": {},
   "outputs": [
    {
     "name": "stdout",
     "output_type": "stream",
     "text": [
      "There are no hash_id values in both train and test datasets. The datasplit was successful\n"
     ]
    }
   ],
   "source": [
    "hash_set = set(sub_hash_id[:,0].flatten())\n",
    "test_hash_set = set(test_hash_id[:,0].flatten())\n",
    "intersection = hash_set.intersection(test_hash_set)\n",
    "if intersection:\n",
    "    print(f\"Hash_id values in both train and test sets: {len(intersection)}\")\n",
    "else:\n",
    "    print(\"There are no hash_id values in both train and test datasets. The datasplit was successful\")"
   ]
  },
  {
   "cell_type": "markdown",
   "id": "9e5b64d4",
   "metadata": {},
   "source": [
    "#### Check feature distribution of the Test dataset"
   ]
  },
  {
   "cell_type": "code",
   "execution_count": 16,
   "id": "a33ff5cb",
   "metadata": {},
   "outputs": [
    {
     "name": "stdout",
     "output_type": "stream",
     "text": [
      "Test dataset\n",
      "Test data healthy trees: 685\n",
      "Test data stressed trees: 483\n",
      "Test data dead trees: 19\n",
      "Test data pine trees: 301\n",
      "Test data spruces: 468\n",
      "--------------------------------------------------\n",
      "Remaining dataset\n",
      "Remaining data healthy trees: 9208\n",
      "Remaining data stressed trees: 6179\n",
      "Remaining data dead trees: 265\n",
      "Remaining data pine trees: 3958\n",
      "Remaining data spruces: 5791\n",
      "--------------------------------------------------\n"
     ]
    }
   ],
   "source": [
    "def count_occurrences(data, value):\n",
    "    count = 0\n",
    "    for item in data:\n",
    "        if item == value:\n",
    "            count += 1\n",
    "    return count\n",
    "\n",
    "print(\"Test dataset\")\n",
    "print(f\"Test data healthy trees: {count_occurrences(test_label_set, 0)}\")\n",
    "print(f\"Test data stressed trees: {count_occurrences(test_label_set, 1)}\")\n",
    "print(f\"Test data dead trees: {count_occurrences(test_label_set, 2)}\")\n",
    "print(f\"Test data pine trees: {count_occurrences(test_species_set, 134)}\")\n",
    "print(f\"Test data spruces: {count_occurrences(test_species_set, 118)}\")\n",
    "print(\"-\"*50)\n",
    "\n",
    "print(\"Remaining dataset\")\n",
    "print(f\"Remaining data healthy trees: {count_occurrences(sub_label_set, 0)}\")\n",
    "print(f\"Remaining data stressed trees: {count_occurrences(sub_label_set, 1)}\")\n",
    "print(f\"Remaining data dead trees: {count_occurrences(sub_label_set, 2)}\")\n",
    "print(f\"Remaining data pine trees: {count_occurrences(sub_species_set, 134)}\")\n",
    "print(f\"Remaining data spruces: {count_occurrences(sub_species_set, 118)}\")\n",
    "print(\"-\"*50)"
   ]
  },
  {
   "cell_type": "code",
   "execution_count": 17,
   "id": "e08fcf57",
   "metadata": {},
   "outputs": [],
   "source": [
    "# train transform with augmentation. \n",
    "transform_train = transforms.Compose([transforms.ToTensor(), transforms.RandomHorizontalFlip(p=0.5), transforms.RandomVerticalFlip(p=0.5),\n",
    "                                      transforms.RandomRotation(degrees=[0,360])])\n",
    "\n",
    "# test and val dataset transform without augmentation. \n",
    "transform = transforms.Compose([transforms.ToTensor()])\n",
    "\n",
    "# class names need to fit the customDataset class used e.g. 3 classes -> use CustomDataset3Classes\n",
    "#class_names = ['healthy', 'slightly_stressed', 'moderately_stressed', 'highly_stressed', 'dead']\n",
    "#class_names = ['healthy', 'moderately_stressed', 'highly_stressed', 'dead']\n",
    "class_names = ['healthy', 'stressed', 'dead']\n",
    "\n",
    "# set seeds\n",
    "g = torch.Generator()\n",
    "g.manual_seed(42)\n",
    "NUM_WORKERS=3 # should be changed, depending on the system used\n",
    "batch_size=32"
   ]
  },
  {
   "cell_type": "markdown",
   "id": "31779c05",
   "metadata": {},
   "source": [
    "#### Define variables and parameters"
   ]
  },
  {
   "cell_type": "code",
   "execution_count": 18,
   "id": "10ae4379",
   "metadata": {},
   "outputs": [
    {
     "name": "stdout",
     "output_type": "stream",
     "text": [
      "Memory allocated: 0 bytes\n"
     ]
    },
    {
     "data": {
      "text/html": [
       "Waiting for W&B process to finish... <strong style=\"color:green\">(success).</strong>"
      ],
      "text/plain": [
       "<IPython.core.display.HTML object>"
      ]
     },
     "metadata": {},
     "output_type": "display_data"
    },
    {
     "data": {
      "application/vnd.jupyter.widget-view+json": {
       "model_id": "be006eaab03b457f9ed0315010f51c70",
       "version_major": 2,
       "version_minor": 0
      },
      "text/plain": [
       "VBox(children=(Label(value='0.001 MB of 0.001 MB uploaded (0.000 MB deduped)\\r'), FloatProgress(value=1.0, max…"
      ]
     },
     "metadata": {},
     "output_type": "display_data"
    },
    {
     "data": {
      "text/html": [
       " View run <strong style=\"color:#cdcd00\">good-haze-28</strong> at: <a href='https://wandb.ai/simon-ecke/wze-uav-v2/runs/7n6kqf0d' target=\"_blank\">https://wandb.ai/simon-ecke/wze-uav-v2/runs/7n6kqf0d</a><br/>Synced 5 W&B file(s), 0 media file(s), 0 artifact file(s) and 0 other file(s)"
      ],
      "text/plain": [
       "<IPython.core.display.HTML object>"
      ]
     },
     "metadata": {},
     "output_type": "display_data"
    },
    {
     "data": {
      "text/html": [
       "Find logs at: <code>.\\wandb\\run-20230420_001418-7n6kqf0d\\logs</code>"
      ],
      "text/plain": [
       "<IPython.core.display.HTML object>"
      ]
     },
     "metadata": {},
     "output_type": "display_data"
    }
   ],
   "source": [
    "# 1. Define number of epochs\n",
    "epochs = 50\n",
    "n_bands = sub_image_set[0].shape[2] # get number of bands\n",
    "\n",
    "# 2. Define model\n",
    "num_classes = len(class_names)\n",
    "unfreeze = True # all layer weights get updated\n",
    "dropout_rate = 0.5 #define dropout rate\n",
    "model_name = \"EffNet_b7_RGB-RE-NIR-CHM_3classes\"\n",
    "\n",
    "# 3. Define loss, optimizer and learning rate scheduler\n",
    "lr = 0.005 # define learning rate\n",
    "min_lr = 1e-6 # minimum learning rate threshold\n",
    "gamma = 0.75 # how fast the learning rate decreases per epoch (low number=faster decrease)\n",
    "patience = 10\n",
    "\n",
    "# 4. Create target folder name were to save the tensorboard event files\n",
    "experiment_name = 'RGB-RE-NIR-CHM_3classes'\n",
    "extra = \"RGB-RE-NIR-CHM_3classes\"\n",
    "\n",
    "#----------------------------------------------------------------------\n",
    "#torch.cuda.empty_cache()\n",
    "print(f\"Memory allocated: {torch.cuda.memory_allocated()} bytes\") \n",
    "\n",
    "wandb.finish()"
   ]
  },
  {
   "cell_type": "markdown",
   "id": "09768b1a",
   "metadata": {},
   "source": [
    "#### Run k-Fold cross-validation on EfficientNet"
   ]
  },
  {
   "cell_type": "code",
   "execution_count": 19,
   "id": "9c29c81d",
   "metadata": {},
   "outputs": [
    {
     "name": "stdout",
     "output_type": "stream",
     "text": [
      "ORIGINAL POSITIVE RATIO: 0.4286353181702019\n",
      "Fold : 0\n",
      "TRAIN POSITIVE RATIO: 0.43211854225070084\n",
      "VAL POSITIVE RATIO  : 0.41490369434796337\n",
      "LENGTH TRAIN GROUPS : 4710\n",
      "LENGTH VAL GROUPS   : 1190\n"
     ]
    },
    {
     "data": {
      "text/html": [
       "wandb version 0.15.0 is available!  To upgrade, please run:\n",
       " $ pip install wandb --upgrade"
      ],
      "text/plain": [
       "<IPython.core.display.HTML object>"
      ]
     },
     "metadata": {},
     "output_type": "display_data"
    },
    {
     "data": {
      "text/html": [
       "Tracking run with wandb version 0.14.2"
      ],
      "text/plain": [
       "<IPython.core.display.HTML object>"
      ]
     },
     "metadata": {},
     "output_type": "display_data"
    },
    {
     "data": {
      "text/html": [
       "Run data is saved locally in <code>C:\\Users\\lwfeckesim\\01_PyTorch\\wze-uav\\wze-uav-master\\wandb\\run-20230420_012354-j11q8bgp</code>"
      ],
      "text/plain": [
       "<IPython.core.display.HTML object>"
      ]
     },
     "metadata": {},
     "output_type": "display_data"
    },
    {
     "data": {
      "text/html": [
       "Syncing run <strong><a href='https://wandb.ai/simon-ecke/wze-uav-v2/runs/j11q8bgp' target=\"_blank\">fold_1_RGB-RE-NIR-CHM_3classes</a></strong> to <a href='https://wandb.ai/simon-ecke/wze-uav-v2' target=\"_blank\">Weights & Biases</a> (<a href='https://wandb.me/run' target=\"_blank\">docs</a>)<br/>"
      ],
      "text/plain": [
       "<IPython.core.display.HTML object>"
      ]
     },
     "metadata": {},
     "output_type": "display_data"
    },
    {
     "data": {
      "text/html": [
       " View project at <a href='https://wandb.ai/simon-ecke/wze-uav-v2' target=\"_blank\">https://wandb.ai/simon-ecke/wze-uav-v2</a>"
      ],
      "text/plain": [
       "<IPython.core.display.HTML object>"
      ]
     },
     "metadata": {},
     "output_type": "display_data"
    },
    {
     "data": {
      "text/html": [
       " View run at <a href='https://wandb.ai/simon-ecke/wze-uav-v2/runs/j11q8bgp' target=\"_blank\">https://wandb.ai/simon-ecke/wze-uav-v2/runs/j11q8bgp</a>"
      ],
      "text/plain": [
       "<IPython.core.display.HTML object>"
      ]
     },
     "metadata": {},
     "output_type": "display_data"
    },
    {
     "name": "stdout",
     "output_type": "stream",
     "text": [
      "There are no same hash_id values in train, val or test datasets. The datasplit was successful\n",
      "Check shapes:\n",
      "\n",
      "Images train dataset: (12485, 250, 250, 6)\n",
      "Labels train dataset: (12485, 1)\n",
      "\n",
      "Images validation dataset: (1190, 250, 250, 6)\n",
      "Labels validation dataset: (1190, 1)\n",
      "\n",
      "--------------------------------------------------\n",
      "Check if the split was stratified: (random_state=42)\n",
      "Healthy trees in train dataset: 7285\n",
      "Stressed trees in train dataset: 5005\n",
      "Dead trees in train dataset: 195\n",
      "Healthy trees in validation dataset: 724\n",
      "Stressed trees in validation dataset: 437\n",
      "Dead trees in validation dataset: 29\n",
      "Ratio health trees in validation dataset: 0.078627280625543\n",
      "Ratio stressed trees in validation dataset: 0.07072341802880724\n",
      "Ratio dead trees in validation dataset: 0.10943396226415095\n",
      "--------------------------------------------------\n",
      "\n",
      "Creating datasets for fold: 1\n",
      "\n",
      "Creating dataloaders for fold: 1\n",
      "\n",
      "Loaded pretrained weights for efficientnet-b7\n",
      "\n",
      "[INFO] Fold number: 1\n",
      "[INFO] Number of epochs: 50\n",
      "[INFO] Batch_size: 32\n",
      "[INFO] Number of bands: 6\n",
      "[INFO] Dropout rate: 0.5\n",
      "[INFO] Gamma learning rate: 0.75\n",
      "[INFO] Memory allocated: 0 bytes\n"
     ]
    },
    {
     "data": {
      "application/vnd.jupyter.widget-view+json": {
       "model_id": "545071cda13e4075ad2633f869da1ca9",
       "version_major": 2,
       "version_minor": 0
      },
      "text/plain": [
       "  0%|          | 0/50 [00:00<?, ?it/s]"
      ]
     },
     "metadata": {},
     "output_type": "display_data"
    },
    {
     "name": "stdout",
     "output_type": "stream",
     "text": [
      "Epoch: 1 \n",
      "Learning rate: 0.005\n",
      "Train loss: 0.8361 | Train precision: 0.3659 | Train recall: 0.3500 | Train f1score: 0.3463 | Train acc: 0.5063 | Train kappa: 0.0112 \n",
      "Val loss: 0.7571 | Val precision: 0.3715 | Val recall: 0.3675 | Val f1score: 0.3587 | Val acc: 0.5988 | Val kappa: 0.0576 \n",
      "\n",
      "Epoch: 2 \n",
      "Learning rate: 0.00375\n",
      "Train loss: 0.8003 | Train precision: 0.3706 | Train recall: 0.3584 | Train f1score: 0.3536 | Train acc: 0.5199 | Train kappa: 0.0293 \n",
      "Val loss: 0.8036 | Val precision: 0.3126 | Val recall: 0.3310 | Val f1score: 0.2008 | Val acc: 0.3750 | Val kappa: -0.0042 \n",
      "\n",
      "Epoch: 3 \n",
      "Learning rate: 0.0028125\n",
      "Train loss: 0.7956 | Train precision: 0.3997 | Train recall: 0.3642 | Train f1score: 0.3592 | Train acc: 0.5279 | Train kappa: 0.0473 \n",
      "Val loss: 0.8161 | Val precision: 0.4113 | Val recall: 0.3670 | Val f1score: 0.2624 | Val acc: 0.4367 | Val kappa: 0.0651 \n",
      "\n",
      "Epoch: 4 \n",
      "Learning rate: 0.002109375\n",
      "Train loss: 0.7836 | Train precision: 0.4176 | Train recall: 0.3632 | Train f1score: 0.3580 | Train acc: 0.5260 | Train kappa: 0.0415 \n",
      "Val loss: 0.7374 | Val precision: 0.3796 | Val recall: 0.3931 | Val f1score: 0.3837 | Val acc: 0.5785 | Val kappa: 0.1051 \n",
      "\n",
      "Epoch: 5 \n",
      "Learning rate: 0.00158203125\n",
      "Train loss: 0.7722 | Train precision: 0.5166 | Train recall: 0.3838 | Train f1score: 0.3872 | Train acc: 0.5421 | Train kappa: 0.0913 \n",
      "Val loss: 0.8385 | Val precision: 0.3726 | Val recall: 0.3420 | Val f1score: 0.2752 | Val acc: 0.6149 | Val kappa: 0.0736 \n",
      "\n",
      "Epoch: 6 \n",
      "Learning rate: 0.0011865234375\n",
      "Train loss: 0.6982 | Train precision: 0.6055 | Train recall: 0.5471 | Train f1score: 0.5694 | Train acc: 0.6018 | Train kappa: 0.3114 \n",
      "Val loss: 1.0284 | Val precision: 0.3821 | Val recall: 0.3509 | Val f1score: 0.2952 | Val acc: 0.6233 | Val kappa: 0.1412 \n",
      "\n",
      "Epoch: 7 \n",
      "Learning rate: 0.000889892578125\n",
      "Train loss: 0.6585 | Train precision: 0.6622 | Train recall: 0.6264 | Train f1score: 0.6425 | Train acc: 0.6353 | Train kappa: 0.3867 \n",
      "Val loss: 0.6707 | Val precision: 0.3937 | Val recall: 0.3798 | Val f1score: 0.3607 | Val acc: 0.6377 | Val kappa: 0.2596 \n",
      "\n",
      "Epoch: 8 \n",
      "Learning rate: 0.00066741943359375\n",
      "Train loss: 0.6527 | Train precision: 0.6854 | Train recall: 0.6524 | Train f1score: 0.6672 | Train acc: 0.6373 | Train kappa: 0.4006 \n",
      "Val loss: 0.6346 | Val precision: 0.6813 | Val recall: 0.6123 | Val f1score: 0.6347 | Val acc: 0.6639 | Val kappa: 0.3816 \n",
      "\n",
      "Epoch: 9 \n",
      "Learning rate: 0.0005005645751953125\n",
      "Train loss: 0.6324 | Train precision: 0.7024 | Train recall: 0.6864 | Train f1score: 0.6935 | Train acc: 0.6542 | Train kappa: 0.4405 \n",
      "Val loss: 0.7183 | Val precision: 0.6375 | Val recall: 0.6095 | Val f1score: 0.5735 | Val acc: 0.5296 | Val kappa: 0.2417 \n",
      "\n",
      "Epoch: 10 \n",
      "Learning rate: 0.0003754234313964844\n",
      "Train loss: 0.6253 | Train precision: 0.7117 | Train recall: 0.6991 | Train f1score: 0.7051 | Train acc: 0.6567 | Train kappa: 0.4422 \n",
      "Val loss: 1.1348 | Val precision: 0.4489 | Val recall: 0.6109 | Val f1score: 0.3481 | Val acc: 0.4054 | Val kappa: 0.1818 \n",
      "\n",
      "Epoch: 11 \n",
      "Learning rate: 0.0002815675735473633\n",
      "Train loss: 0.6190 | Train precision: 0.7170 | Train recall: 0.7177 | Train f1score: 0.7173 | Train acc: 0.6575 | Train kappa: 0.4542 \n",
      "Val loss: 0.6453 | Val precision: 0.5995 | Val recall: 0.7130 | Val f1score: 0.6203 | Val acc: 0.6715 | Val kappa: 0.4326 \n",
      "\n",
      "Epoch: 12 \n",
      "Learning rate: 0.00021117568016052246\n",
      "Train loss: 0.6222 | Train precision: 0.7145 | Train recall: 0.7022 | Train f1score: 0.7081 | Train acc: 0.6586 | Train kappa: 0.4352 \n",
      "Val loss: 0.6946 | Val precision: 0.7295 | Val recall: 0.6445 | Val f1score: 0.6324 | Val acc: 0.5650 | Val kappa: 0.3013 \n",
      "\n",
      "Epoch: 13 \n",
      "Learning rate: 0.00015838176012039184\n",
      "Train loss: 0.6188 | Train precision: 0.7276 | Train recall: 0.7177 | Train f1score: 0.7218 | Train acc: 0.6667 | Train kappa: 0.4460 \n",
      "Val loss: 0.6955 | Val precision: 0.5573 | Val recall: 0.7184 | Val f1score: 0.5946 | Val acc: 0.6073 | Val kappa: 0.3794 \n",
      "\n",
      "Epoch: 14 \n",
      "Learning rate: 0.00011878632009029388\n",
      "Train loss: 0.6120 | Train precision: 0.7175 | Train recall: 0.7057 | Train f1score: 0.7114 | Train acc: 0.6599 | Train kappa: 0.4409 \n",
      "Val loss: 0.6657 | Val precision: 0.7221 | Val recall: 0.6319 | Val f1score: 0.6450 | Val acc: 0.6030 | Val kappa: 0.3400 \n",
      "\n",
      "Epoch: 15 \n",
      "Learning rate: 8.908974006772042e-05\n",
      "Train loss: 0.6102 | Train precision: 0.7322 | Train recall: 0.7129 | Train f1score: 0.7221 | Train acc: 0.6692 | Train kappa: 0.4627 \n",
      "Val loss: 0.5993 | Val precision: 0.7494 | Val recall: 0.6295 | Val f1score: 0.6747 | Val acc: 0.6807 | Val kappa: 0.4222 \n",
      "\n",
      "Epoch: 16 \n",
      "Learning rate: 6.681730505079031e-05\n",
      "Train loss: 0.6103 | Train precision: 0.7257 | Train recall: 0.7211 | Train f1score: 0.7234 | Train acc: 0.6684 | Train kappa: 0.4680 \n",
      "Val loss: 0.6081 | Val precision: 0.6873 | Val recall: 0.7256 | Val f1score: 0.7042 | Val acc: 0.6562 | Val kappa: 0.4185 \n",
      "\n",
      "Epoch: 17 \n",
      "Learning rate: 5.0112978788092735e-05\n",
      "Train loss: 0.6121 | Train precision: 0.7268 | Train recall: 0.7277 | Train f1score: 0.7270 | Train acc: 0.6674 | Train kappa: 0.4565 \n",
      "Val loss: 0.6347 | Val precision: 0.7022 | Val recall: 0.7058 | Val f1score: 0.6888 | Val acc: 0.6258 | Val kappa: 0.3830 \n",
      "\n",
      "Epoch: 18 \n",
      "Learning rate: 3.758473409106955e-05\n",
      "Train loss: 0.6076 | Train precision: 0.7273 | Train recall: 0.7297 | Train f1score: 0.7281 | Train acc: 0.6727 | Train kappa: 0.4617 \n",
      "Val loss: 0.6158 | Val precision: 0.7307 | Val recall: 0.6847 | Val f1score: 0.7023 | Val acc: 0.6529 | Val kappa: 0.4049 \n",
      "\n",
      "Epoch: 19 \n",
      "Learning rate: 2.8188550568302163e-05\n",
      "Train loss: 0.6088 | Train precision: 0.7229 | Train recall: 0.7283 | Train f1score: 0.7254 | Train acc: 0.6599 | Train kappa: 0.4497 \n",
      "Val loss: 0.6267 | Val precision: 0.7090 | Val recall: 0.6954 | Val f1score: 0.6950 | Val acc: 0.6419 | Val kappa: 0.3995 \n",
      "\n",
      "Epoch: 20 \n",
      "Learning rate: 2.114141292622662e-05\n",
      "Train loss: 0.6062 | Train precision: 0.7301 | Train recall: 0.7248 | Train f1score: 0.7272 | Train acc: 0.6630 | Train kappa: 0.4506 \n",
      "Val loss: 0.6057 | Val precision: 0.7259 | Val recall: 0.6994 | Val f1score: 0.7113 | Val acc: 0.6689 | Val kappa: 0.4288 \n",
      "\n",
      "Epoch: 21 \n",
      "Learning rate: 1.5856059694669965e-05\n",
      "Train loss: 0.6035 | Train precision: 0.7378 | Train recall: 0.7369 | Train f1score: 0.7373 | Train acc: 0.6759 | Train kappa: 0.4628 \n",
      "Val loss: 0.6148 | Val precision: 0.7209 | Val recall: 0.6870 | Val f1score: 0.6994 | Val acc: 0.6554 | Val kappa: 0.4116 \n",
      "\n",
      "Epoch: 22 \n",
      "Learning rate: 1.1892044771002475e-05\n",
      "Train loss: 0.6019 | Train precision: 0.7419 | Train recall: 0.7263 | Train f1score: 0.7336 | Train acc: 0.6757 | Train kappa: 0.4610 \n",
      "Val loss: 0.6072 | Val precision: 0.7265 | Val recall: 0.7008 | Val f1score: 0.7118 | Val acc: 0.6681 | Val kappa: 0.4292 \n",
      "\n",
      "Epoch: 23 \n",
      "Learning rate: 8.919033578251857e-06\n",
      "Train loss: 0.5995 | Train precision: 0.7375 | Train recall: 0.7353 | Train f1score: 0.7363 | Train acc: 0.6711 | Train kappa: 0.4650 \n",
      "Val loss: 0.6091 | Val precision: 0.7227 | Val recall: 0.6969 | Val f1score: 0.7079 | Val acc: 0.6622 | Val kappa: 0.4195 \n",
      "\n",
      "Epoch: 24 \n",
      "Learning rate: 6.689275183688892e-06\n",
      "Train loss: 0.5968 | Train precision: 0.7435 | Train recall: 0.7404 | Train f1score: 0.7419 | Train acc: 0.6775 | Train kappa: 0.4723 \n",
      "Val loss: 0.6040 | Val precision: 0.7176 | Val recall: 0.7011 | Val f1score: 0.7087 | Val acc: 0.6731 | Val kappa: 0.4368 \n",
      "\n",
      "Epoch: 25 \n",
      "Learning rate: 5.016956387766669e-06\n",
      "Train loss: 0.6066 | Train precision: 0.7219 | Train recall: 0.7307 | Train f1score: 0.7262 | Train acc: 0.6717 | Train kappa: 0.4625 \n",
      "Val loss: 0.6091 | Val precision: 0.7246 | Val recall: 0.6993 | Val f1score: 0.7097 | Val acc: 0.6639 | Val kappa: 0.4235 \n",
      "\n",
      "Epoch: 26 \n",
      "Learning rate: 3.762717290825002e-06\n",
      "Train loss: 0.6048 | Train precision: 0.7306 | Train recall: 0.7297 | Train f1score: 0.7300 | Train acc: 0.6716 | Train kappa: 0.4574 \n",
      "Val loss: 0.6074 | Val precision: 0.7268 | Val recall: 0.7009 | Val f1score: 0.7122 | Val acc: 0.6689 | Val kappa: 0.4302 \n",
      "\n",
      "Epoch: 27 \n",
      "Learning rate: 2.8220379681187514e-06\n",
      "Train loss: 0.6043 | Train precision: 0.7368 | Train recall: 0.7221 | Train f1score: 0.7292 | Train acc: 0.6701 | Train kappa: 0.4704 \n",
      "Val loss: 0.6040 | Val precision: 0.7286 | Val recall: 0.7020 | Val f1score: 0.7140 | Val acc: 0.6731 | Val kappa: 0.4357 \n",
      "\n"
     ]
    },
    {
     "name": "stdout",
     "output_type": "stream",
     "text": [
      "Epoch: 28 \n",
      "Learning rate: 2.1165284760890633e-06\n",
      "Train loss: 0.6035 | Train precision: 0.7334 | Train recall: 0.7296 | Train f1score: 0.7315 | Train acc: 0.6709 | Train kappa: 0.4601 \n",
      "Val loss: 0.6118 | Val precision: 0.7109 | Val recall: 0.6964 | Val f1score: 0.7015 | Val acc: 0.6579 | Val kappa: 0.4166 \n",
      "\n",
      "Epoch: 29 \n",
      "Learning rate: 1.5873963570667977e-06\n",
      "Train loss: 0.6076 | Train precision: 0.7384 | Train recall: 0.7237 | Train f1score: 0.7308 | Train acc: 0.6715 | Train kappa: 0.4622 \n",
      "Val loss: 0.6116 | Val precision: 0.7231 | Val recall: 0.6981 | Val f1score: 0.7080 | Val acc: 0.6605 | Val kappa: 0.4188 \n",
      "\n",
      "Epoch: 30 \n",
      "Learning rate: 1.1905472678000981e-06\n",
      "Train loss: 0.6048 | Train precision: 0.7371 | Train recall: 0.7453 | Train f1score: 0.7411 | Train acc: 0.6727 | Train kappa: 0.4633 \n",
      "Val loss: 0.6094 | Val precision: 0.7244 | Val recall: 0.6990 | Val f1score: 0.7096 | Val acc: 0.6639 | Val kappa: 0.4232 \n",
      "\n",
      "Epoch: 31 \n",
      "Learning rate: 1e-06\n",
      "Train loss: 0.6070 | Train precision: 0.7357 | Train recall: 0.7185 | Train f1score: 0.7267 | Train acc: 0.6707 | Train kappa: 0.4548 \n",
      "Val loss: 0.6129 | Val precision: 0.7111 | Val recall: 0.6968 | Val f1score: 0.7014 | Val acc: 0.6571 | Val kappa: 0.4162 \n",
      "\n",
      "Epoch: 32 \n",
      "Learning rate: 1e-06\n",
      "Train loss: 0.6028 | Train precision: 0.7242 | Train recall: 0.7281 | Train f1score: 0.7260 | Train acc: 0.6722 | Train kappa: 0.4648 \n",
      "Val loss: 0.6126 | Val precision: 0.7205 | Val recall: 0.6956 | Val f1score: 0.7051 | Val acc: 0.6554 | Val kappa: 0.4113 \n",
      "\n",
      "Epoch: 33 \n",
      "Learning rate: 1e-06\n",
      "Train loss: 0.6020 | Train precision: 0.7311 | Train recall: 0.7336 | Train f1score: 0.7322 | Train acc: 0.6764 | Train kappa: 0.4784 \n",
      "Val loss: 0.6084 | Val precision: 0.7261 | Val recall: 0.7007 | Val f1score: 0.7113 | Val acc: 0.6664 | Val kappa: 0.4274 \n",
      "\n",
      "Epoch: 34 \n",
      "Learning rate: 1e-06\n",
      "Train loss: 0.6023 | Train precision: 0.7312 | Train recall: 0.7264 | Train f1score: 0.7287 | Train acc: 0.6702 | Train kappa: 0.4558 \n",
      "Val loss: 0.6082 | Val precision: 0.7247 | Val recall: 0.6992 | Val f1score: 0.7099 | Val acc: 0.6647 | Val kappa: 0.4242 \n",
      "\n",
      "Epoch: 35 \n",
      "Learning rate: 1e-06\n",
      "Train loss: 0.6064 | Train precision: 0.7353 | Train recall: 0.7274 | Train f1score: 0.7310 | Train acc: 0.6674 | Train kappa: 0.4533 \n",
      "Val loss: 0.6086 | Val precision: 0.7246 | Val recall: 0.6993 | Val f1score: 0.7097 | Val acc: 0.6639 | Val kappa: 0.4235 \n",
      "\n",
      "Epoch: 36 \n",
      "Learning rate: 1e-06\n",
      "Train loss: 0.6116 | Train precision: 0.7315 | Train recall: 0.7208 | Train f1score: 0.7259 | Train acc: 0.6624 | Train kappa: 0.4521 \n",
      "Val loss: 0.6087 | Val precision: 0.7134 | Val recall: 0.6986 | Val f1score: 0.7043 | Val acc: 0.6630 | Val kappa: 0.4238 \n",
      "\n",
      "Epoch: 37 \n",
      "Learning rate: 1e-06\n",
      "Train loss: 0.6001 | Train precision: 0.7387 | Train recall: 0.7337 | Train f1score: 0.7360 | Train acc: 0.6739 | Train kappa: 0.4736 \n",
      "Val loss: 0.6096 | Val precision: 0.7246 | Val recall: 0.6993 | Val f1score: 0.7097 | Val acc: 0.6639 | Val kappa: 0.4235 \n",
      "\n",
      "Early stopping after epoch 37\n"
     ]
    },
    {
     "data": {
      "text/html": [
       "Waiting for W&B process to finish... <strong style=\"color:green\">(success).</strong>"
      ],
      "text/plain": [
       "<IPython.core.display.HTML object>"
      ]
     },
     "metadata": {},
     "output_type": "display_data"
    },
    {
     "data": {
      "application/vnd.jupyter.widget-view+json": {
       "model_id": "21ed80b0bd8a435a8546d055fd60dce8",
       "version_major": 2,
       "version_minor": 0
      },
      "text/plain": [
       "VBox(children=(Label(value='0.001 MB of 0.016 MB uploaded (0.000 MB deduped)\\r'), FloatProgress(value=0.078293…"
      ]
     },
     "metadata": {},
     "output_type": "display_data"
    },
    {
     "data": {
      "text/html": [
       "<style>\n",
       "    table.wandb td:nth-child(1) { padding: 0 10px; text-align: left ; width: auto;} td:nth-child(2) {text-align: left ; width: 100%}\n",
       "    .wandb-row { display: flex; flex-direction: row; flex-wrap: wrap; justify-content: flex-start; width: 100% }\n",
       "    .wandb-col { display: flex; flex-direction: column; flex-basis: 100%; flex: 1; padding: 10px; }\n",
       "    </style>\n",
       "<div class=\"wandb-row\"><div class=\"wandb-col\"><h3>Run history:</h3><br/><table class=\"wandb\"><tr><td>learning_rate</td><td>█▆▅▄▃▃▂▂▂▂▁▁▁▁▁▁▁▁▁▁▁▁▁▁▁▁▁▁▁▁▁▁▁▁▁▁▁</td></tr><tr><td>train_f1_score</td><td>▁▁▁▁▂▅▆▇▇▇█▇█▇███████████████████████</td></tr><tr><td>train_loss</td><td>█▇▇▆▆▄▃▃▂▂▂▂▂▁▁▁▁▁▁▁▁▁▁▁▁▁▁▁▁▁▁▁▁▁▁▁▁</td></tr><tr><td>val_f1_score</td><td>▃▁▂▃▂▂▃▇▆▃▇▇▆▇▇██████████████████████</td></tr><tr><td>val_loss</td><td>▃▄▄▃▄▇▂▁▃█▂▂▂▂▁▁▁▁▁▁▁▁▁▁▁▁▁▁▁▁▁▁▁▁▁▁▁</td></tr></table><br/></div><div class=\"wandb-col\"><h3>Run summary:</h3><br/><table class=\"wandb\"><tr><td>learning_rate</td><td>0.0</td></tr><tr><td>train_f1_score</td><td>0.73596</td></tr><tr><td>train_loss</td><td>0.60014</td></tr><tr><td>val_f1_score</td><td>0.70975</td></tr><tr><td>val_loss</td><td>0.60963</td></tr></table><br/></div></div>"
      ],
      "text/plain": [
       "<IPython.core.display.HTML object>"
      ]
     },
     "metadata": {},
     "output_type": "display_data"
    },
    {
     "data": {
      "text/html": [
       " View run <strong style=\"color:#cdcd00\">fold_1_RGB-RE-NIR-CHM_3classes</strong> at: <a href='https://wandb.ai/simon-ecke/wze-uav-v2/runs/j11q8bgp' target=\"_blank\">https://wandb.ai/simon-ecke/wze-uav-v2/runs/j11q8bgp</a><br/>Synced 5 W&B file(s), 0 media file(s), 0 artifact file(s) and 0 other file(s)"
      ],
      "text/plain": [
       "<IPython.core.display.HTML object>"
      ]
     },
     "metadata": {},
     "output_type": "display_data"
    },
    {
     "data": {
      "text/html": [
       "Find logs at: <code>.\\wandb\\run-20230420_012354-j11q8bgp\\logs</code>"
      ],
      "text/plain": [
       "<IPython.core.display.HTML object>"
      ]
     },
     "metadata": {},
     "output_type": "display_data"
    },
    {
     "name": "stdout",
     "output_type": "stream",
     "text": [
      "Deleting variables and emptying cache\n",
      "Memory allocated: 1047578112 bytes\n",
      "--------------------------------------------------\n",
      "\n",
      "Fold : 1\n",
      "TRAIN POSITIVE RATIO: 0.4259363220787553\n",
      "VAL POSITIVE RATIO  : 0.43920829406220546\n",
      "LENGTH TRAIN GROUPS : 4712\n",
      "LENGTH VAL GROUPS   : 1188\n"
     ]
    },
    {
     "data": {
      "text/html": [
       "wandb version 0.15.0 is available!  To upgrade, please run:\n",
       " $ pip install wandb --upgrade"
      ],
      "text/plain": [
       "<IPython.core.display.HTML object>"
      ]
     },
     "metadata": {},
     "output_type": "display_data"
    },
    {
     "data": {
      "text/html": [
       "Tracking run with wandb version 0.14.2"
      ],
      "text/plain": [
       "<IPython.core.display.HTML object>"
      ]
     },
     "metadata": {},
     "output_type": "display_data"
    },
    {
     "data": {
      "text/html": [
       "Run data is saved locally in <code>C:\\Users\\lwfeckesim\\01_PyTorch\\wze-uav\\wze-uav-master\\wandb\\run-20230420_053712-otesh39k</code>"
      ],
      "text/plain": [
       "<IPython.core.display.HTML object>"
      ]
     },
     "metadata": {},
     "output_type": "display_data"
    },
    {
     "data": {
      "text/html": [
       "Syncing run <strong><a href='https://wandb.ai/simon-ecke/wze-uav-v2/runs/otesh39k' target=\"_blank\">fold_2_RGB-RE-NIR-CHM_3classes</a></strong> to <a href='https://wandb.ai/simon-ecke/wze-uav-v2' target=\"_blank\">Weights & Biases</a> (<a href='https://wandb.me/run' target=\"_blank\">docs</a>)<br/>"
      ],
      "text/plain": [
       "<IPython.core.display.HTML object>"
      ]
     },
     "metadata": {},
     "output_type": "display_data"
    },
    {
     "data": {
      "text/html": [
       " View project at <a href='https://wandb.ai/simon-ecke/wze-uav-v2' target=\"_blank\">https://wandb.ai/simon-ecke/wze-uav-v2</a>"
      ],
      "text/plain": [
       "<IPython.core.display.HTML object>"
      ]
     },
     "metadata": {},
     "output_type": "display_data"
    },
    {
     "data": {
      "text/html": [
       " View run at <a href='https://wandb.ai/simon-ecke/wze-uav-v2/runs/otesh39k' target=\"_blank\">https://wandb.ai/simon-ecke/wze-uav-v2/runs/otesh39k</a>"
      ],
      "text/plain": [
       "<IPython.core.display.HTML object>"
      ]
     },
     "metadata": {},
     "output_type": "display_data"
    },
    {
     "name": "stdout",
     "output_type": "stream",
     "text": [
      "There are no same hash_id values in train, val or test datasets. The datasplit was successful\n",
      "Check shapes:\n",
      "\n",
      "Images train dataset: (12469, 250, 250, 6)\n",
      "Labels train dataset: (12469, 1)\n",
      "\n",
      "Images validation dataset: (1188, 250, 250, 6)\n",
      "Labels validation dataset: (1188, 1)\n",
      "\n",
      "--------------------------------------------------\n",
      "Check if the split was stratified: (random_state=42)\n",
      "Healthy trees in train dataset: 7359\n",
      "Stressed trees in train dataset: 4909\n",
      "Dead trees in train dataset: 201\n",
      "Healthy trees in validation dataset: 660\n",
      "Stressed trees in validation dataset: 502\n",
      "Dead trees in validation dataset: 26\n",
      "Ratio health trees in validation dataset: 0.07167680278019113\n",
      "Ratio stressed trees in validation dataset: 0.08124291956627286\n",
      "Ratio dead trees in validation dataset: 0.09811320754716982\n",
      "--------------------------------------------------\n",
      "\n",
      "Creating datasets for fold: 2\n",
      "\n",
      "Creating dataloaders for fold: 2\n",
      "\n",
      "Loaded pretrained weights for efficientnet-b7\n",
      "\n",
      "[INFO] Fold number: 2\n",
      "[INFO] Number of epochs: 50\n",
      "[INFO] Batch_size: 32\n",
      "[INFO] Number of bands: 6\n",
      "[INFO] Dropout rate: 0.5\n",
      "[INFO] Gamma learning rate: 0.75\n",
      "[INFO] Memory allocated: 0 bytes\n"
     ]
    },
    {
     "data": {
      "application/vnd.jupyter.widget-view+json": {
       "model_id": "b3490d2214c84a1693bc24ee9a8dcdb7",
       "version_major": 2,
       "version_minor": 0
      },
      "text/plain": [
       "  0%|          | 0/50 [00:00<?, ?it/s]"
      ]
     },
     "metadata": {},
     "output_type": "display_data"
    },
    {
     "name": "stdout",
     "output_type": "stream",
     "text": [
      "Epoch: 1 \n",
      "Learning rate: 0.005\n",
      "Train loss: 0.8304 | Train precision: 0.3816 | Train recall: 0.3562 | Train f1score: 0.3537 | Train acc: 0.5125 | Train kappa: 0.0249 \n",
      "Val loss: 0.8277 | Val precision: 0.3891 | Val recall: 0.3548 | Val f1score: 0.2608 | Val acc: 0.4637 | Val kappa: 0.0310 \n",
      "\n",
      "Epoch: 2 \n",
      "Learning rate: 0.00375\n",
      "Train loss: 0.8006 | Train precision: 0.3431 | Train recall: 0.3543 | Train f1score: 0.3485 | Train acc: 0.5149 | Train kappa: 0.0102 \n",
      "Val loss: 0.7965 | Val precision: 0.3856 | Val recall: 0.3624 | Val f1score: 0.2825 | Val acc: 0.4789 | Val kappa: 0.0359 \n",
      "\n",
      "Epoch: 3 \n",
      "Learning rate: 0.0028125\n",
      "Train loss: 0.8016 | Train precision: 0.4604 | Train recall: 0.3638 | Train f1score: 0.3597 | Train acc: 0.5239 | Train kappa: 0.0308 \n",
      "Val loss: 0.8478 | Val precision: 0.4031 | Val recall: 0.3464 | Val f1score: 0.2311 | Val acc: 0.4459 | Val kappa: 0.0138 \n",
      "\n",
      "Epoch: 4 \n",
      "Learning rate: 0.002109375\n",
      "Train loss: 0.7977 | Train precision: 0.3465 | Train recall: 0.3594 | Train f1score: 0.3525 | Train acc: 0.5198 | Train kappa: 0.0209 \n",
      "Val loss: 0.7582 | Val precision: 0.3723 | Val recall: 0.3515 | Val f1score: 0.3098 | Val acc: 0.5659 | Val kappa: 0.0355 \n",
      "\n",
      "Epoch: 5 \n",
      "Learning rate: 0.00158203125\n",
      "Train loss: 0.7904 | Train precision: 0.3472 | Train recall: 0.3596 | Train f1score: 0.3529 | Train acc: 0.5209 | Train kappa: 0.0166 \n",
      "Val loss: 0.7596 | Val precision: 0.3581 | Val recall: 0.3659 | Val f1score: 0.3620 | Val acc: 0.5448 | Val kappa: 0.0426 \n",
      "\n",
      "Epoch: 6 \n",
      "Learning rate: 0.0011865234375\n",
      "Train loss: 0.7533 | Train precision: 0.4981 | Train recall: 0.4125 | Train f1score: 0.4268 | Train acc: 0.5539 | Train kappa: 0.1325 \n",
      "Val loss: 1.4420 | Val precision: 0.4603 | Val recall: 0.4299 | Val f1score: 0.2012 | Val acc: 0.2424 | Val kappa: 0.0173 \n",
      "\n",
      "Epoch: 7 \n",
      "Learning rate: 0.000889892578125\n",
      "Train loss: 0.6936 | Train precision: 0.6092 | Train recall: 0.5849 | Train f1score: 0.5937 | Train acc: 0.6048 | Train kappa: 0.3254 \n",
      "Val loss: 0.7452 | Val precision: 0.5911 | Val recall: 0.6912 | Val f1score: 0.5560 | Val acc: 0.5414 | Val kappa: 0.2342 \n",
      "\n",
      "Epoch: 8 \n",
      "Learning rate: 0.00066741943359375\n",
      "Train loss: 0.6607 | Train precision: 0.6600 | Train recall: 0.6523 | Train f1score: 0.6549 | Train acc: 0.6277 | Train kappa: 0.3875 \n",
      "Val loss: 0.6458 | Val precision: 0.6400 | Val recall: 0.7162 | Val f1score: 0.6670 | Val acc: 0.6554 | Val kappa: 0.3959 \n",
      "\n",
      "Epoch: 9 \n",
      "Learning rate: 0.0005005645751953125\n",
      "Train loss: 0.6407 | Train precision: 0.7052 | Train recall: 0.6856 | Train f1score: 0.6938 | Train acc: 0.6534 | Train kappa: 0.4298 \n",
      "Val loss: 0.6205 | Val precision: 0.7153 | Val recall: 0.6565 | Val f1score: 0.6733 | Val acc: 0.6655 | Val kappa: 0.3856 \n",
      "\n",
      "Epoch: 10 \n",
      "Learning rate: 0.0003754234313964844\n",
      "Train loss: 0.6277 | Train precision: 0.7149 | Train recall: 0.7013 | Train f1score: 0.7072 | Train acc: 0.6615 | Train kappa: 0.4452 \n",
      "Val loss: 0.6664 | Val precision: 0.7255 | Val recall: 0.6507 | Val f1score: 0.6350 | Val acc: 0.6242 | Val kappa: 0.3098 \n",
      "\n",
      "Epoch: 11 \n",
      "Learning rate: 0.0002815675735473633\n",
      "Train loss: 0.6295 | Train precision: 0.7070 | Train recall: 0.6941 | Train f1score: 0.7002 | Train acc: 0.6564 | Train kappa: 0.4332 \n",
      "Val loss: 0.8316 | Val precision: 0.6410 | Val recall: 0.6729 | Val f1score: 0.5215 | Val acc: 0.5017 | Val kappa: 0.1915 \n",
      "\n",
      "Epoch: 12 \n",
      "Learning rate: 0.00021117568016052246\n",
      "Train loss: 0.6113 | Train precision: 0.7374 | Train recall: 0.7303 | Train f1score: 0.7332 | Train acc: 0.6712 | Train kappa: 0.4623 \n",
      "Val loss: 0.6261 | Val precision: 0.7384 | Val recall: 0.7495 | Val f1score: 0.7362 | Val acc: 0.6571 | Val kappa: 0.4161 \n",
      "\n",
      "Epoch: 13 \n",
      "Learning rate: 0.00015838176012039184\n",
      "Train loss: 0.6150 | Train precision: 0.7234 | Train recall: 0.7114 | Train f1score: 0.7167 | Train acc: 0.6654 | Train kappa: 0.4525 \n",
      "Val loss: 0.6075 | Val precision: 0.7376 | Val recall: 0.7352 | Val f1score: 0.7359 | Val acc: 0.6757 | Val kappa: 0.4313 \n",
      "\n",
      "Epoch: 14 \n",
      "Learning rate: 0.00011878632009029388\n",
      "Train loss: 0.6107 | Train precision: 0.7334 | Train recall: 0.7288 | Train f1score: 0.7309 | Train acc: 0.6694 | Train kappa: 0.4582 \n",
      "Val loss: 0.6107 | Val precision: 0.7322 | Val recall: 0.7324 | Val f1score: 0.7277 | Val acc: 0.6799 | Val kappa: 0.4319 \n",
      "\n",
      "Epoch: 15 \n",
      "Learning rate: 8.908974006772042e-05\n",
      "Train loss: 0.6031 | Train precision: 0.7238 | Train recall: 0.7150 | Train f1score: 0.7189 | Train acc: 0.6719 | Train kappa: 0.4591 \n",
      "Val loss: 0.6099 | Val precision: 0.7391 | Val recall: 0.7410 | Val f1score: 0.7374 | Val acc: 0.6698 | Val kappa: 0.4323 \n",
      "\n",
      "Epoch: 16 \n",
      "Learning rate: 6.681730505079031e-05\n",
      "Train loss: 0.6031 | Train precision: 0.7381 | Train recall: 0.7192 | Train f1score: 0.7279 | Train acc: 0.6726 | Train kappa: 0.4617 \n",
      "Val loss: 0.6128 | Val precision: 0.7210 | Val recall: 0.7537 | Val f1score: 0.7344 | Val acc: 0.6715 | Val kappa: 0.4354 \n",
      "\n",
      "Epoch: 17 \n",
      "Learning rate: 5.0112978788092735e-05\n",
      "Train loss: 0.6093 | Train precision: 0.7287 | Train recall: 0.7176 | Train f1score: 0.7224 | Train acc: 0.6673 | Train kappa: 0.4581 \n",
      "Val loss: 0.6185 | Val precision: 0.7425 | Val recall: 0.7531 | Val f1score: 0.7390 | Val acc: 0.6613 | Val kappa: 0.4237 \n",
      "\n",
      "Epoch: 18 \n",
      "Learning rate: 3.758473409106955e-05\n",
      "Train loss: 0.6014 | Train precision: 0.7403 | Train recall: 0.7341 | Train f1score: 0.7366 | Train acc: 0.6759 | Train kappa: 0.4624 \n",
      "Val loss: 0.6011 | Val precision: 0.7455 | Val recall: 0.7525 | Val f1score: 0.7478 | Val acc: 0.6850 | Val kappa: 0.4523 \n",
      "\n",
      "Epoch: 19 \n",
      "Learning rate: 2.8188550568302163e-05\n",
      "Train loss: 0.6126 | Train precision: 0.7348 | Train recall: 0.7155 | Train f1score: 0.7243 | Train acc: 0.6717 | Train kappa: 0.4593 \n",
      "Val loss: 0.6049 | Val precision: 0.7244 | Val recall: 0.7655 | Val f1score: 0.7434 | Val acc: 0.6799 | Val kappa: 0.4472 \n",
      "\n",
      "Epoch: 20 \n",
      "Learning rate: 2.114141292622662e-05\n",
      "Train loss: 0.5935 | Train precision: 0.7412 | Train recall: 0.7370 | Train f1score: 0.7389 | Train acc: 0.6807 | Train kappa: 0.4867 \n",
      "Val loss: 0.6170 | Val precision: 0.7203 | Val recall: 0.7523 | Val f1score: 0.7305 | Val acc: 0.6647 | Val kappa: 0.4263 \n",
      "\n",
      "Epoch: 21 \n",
      "Learning rate: 1.5856059694669965e-05\n",
      "Train loss: 0.6006 | Train precision: 0.7406 | Train recall: 0.7367 | Train f1score: 0.7383 | Train acc: 0.6789 | Train kappa: 0.4765 \n",
      "Val loss: 0.6273 | Val precision: 0.7298 | Val recall: 0.7492 | Val f1score: 0.7277 | Val acc: 0.6529 | Val kappa: 0.4083 \n",
      "\n",
      "Epoch: 22 \n",
      "Learning rate: 1.1892044771002475e-05\n",
      "Train loss: 0.6046 | Train precision: 0.7334 | Train recall: 0.7301 | Train f1score: 0.7312 | Train acc: 0.6752 | Train kappa: 0.4707 \n",
      "Val loss: 0.6078 | Val precision: 0.7390 | Val recall: 0.7517 | Val f1score: 0.7445 | Val acc: 0.6723 | Val kappa: 0.4360 \n",
      "\n",
      "Epoch: 23 \n",
      "Learning rate: 8.919033578251857e-06\n",
      "Train loss: 0.5959 | Train precision: 0.7455 | Train recall: 0.7413 | Train f1score: 0.7431 | Train acc: 0.6807 | Train kappa: 0.4864 \n",
      "Val loss: 0.6108 | Val precision: 0.7335 | Val recall: 0.7568 | Val f1score: 0.7433 | Val acc: 0.6774 | Val kappa: 0.4430 \n",
      "\n",
      "Epoch: 24 \n",
      "Learning rate: 6.689275183688892e-06\n",
      "Train loss: 0.6033 | Train precision: 0.7367 | Train recall: 0.7289 | Train f1score: 0.7326 | Train acc: 0.6726 | Train kappa: 0.4588 \n",
      "Val loss: 0.6092 | Val precision: 0.7328 | Val recall: 0.7560 | Val f1score: 0.7429 | Val acc: 0.6774 | Val kappa: 0.4425 \n",
      "\n",
      "Epoch: 25 \n",
      "Learning rate: 5.016956387766669e-06\n",
      "Train loss: 0.5935 | Train precision: 0.7553 | Train recall: 0.7402 | Train f1score: 0.7474 | Train acc: 0.6839 | Train kappa: 0.4892 \n",
      "Val loss: 0.6092 | Val precision: 0.7426 | Val recall: 0.7556 | Val f1score: 0.7475 | Val acc: 0.6757 | Val kappa: 0.4428 \n",
      "\n",
      "Epoch: 26 \n",
      "Learning rate: 3.762717290825002e-06\n",
      "Train loss: 0.5914 | Train precision: 0.7408 | Train recall: 0.7384 | Train f1score: 0.7394 | Train acc: 0.6795 | Train kappa: 0.4779 \n",
      "Val loss: 0.6174 | Val precision: 0.7308 | Val recall: 0.7529 | Val f1score: 0.7353 | Val acc: 0.6639 | Val kappa: 0.4240 \n",
      "\n",
      "Epoch: 27 \n",
      "Learning rate: 2.8220379681187514e-06\n",
      "Train loss: 0.5873 | Train precision: 0.7464 | Train recall: 0.7388 | Train f1score: 0.7424 | Train acc: 0.6809 | Train kappa: 0.4797 \n",
      "Val loss: 0.6142 | Val precision: 0.7350 | Val recall: 0.7581 | Val f1score: 0.7424 | Val acc: 0.6748 | Val kappa: 0.4408 \n",
      "\n"
     ]
    },
    {
     "name": "stdout",
     "output_type": "stream",
     "text": [
      "Epoch: 28 \n",
      "Learning rate: 2.1165284760890633e-06\n",
      "Train loss: 0.6036 | Train precision: 0.7428 | Train recall: 0.7266 | Train f1score: 0.7343 | Train acc: 0.6746 | Train kappa: 0.4721 \n",
      "Val loss: 0.6105 | Val precision: 0.7334 | Val recall: 0.7567 | Val f1score: 0.7425 | Val acc: 0.6757 | Val kappa: 0.4409 \n",
      "\n",
      "Early stopping after epoch 28\n"
     ]
    },
    {
     "data": {
      "text/html": [
       "Waiting for W&B process to finish... <strong style=\"color:green\">(success).</strong>"
      ],
      "text/plain": [
       "<IPython.core.display.HTML object>"
      ]
     },
     "metadata": {},
     "output_type": "display_data"
    },
    {
     "data": {
      "application/vnd.jupyter.widget-view+json": {
       "model_id": "22d63ae858634a41bf71fba3cea49a1f",
       "version_major": 2,
       "version_minor": 0
      },
      "text/plain": [
       "VBox(children=(Label(value='0.001 MB of 0.014 MB uploaded (0.000 MB deduped)\\r'), FloatProgress(value=0.092763…"
      ]
     },
     "metadata": {},
     "output_type": "display_data"
    },
    {
     "data": {
      "text/html": [
       "<style>\n",
       "    table.wandb td:nth-child(1) { padding: 0 10px; text-align: left ; width: auto;} td:nth-child(2) {text-align: left ; width: 100%}\n",
       "    .wandb-row { display: flex; flex-direction: row; flex-wrap: wrap; justify-content: flex-start; width: 100% }\n",
       "    .wandb-col { display: flex; flex-direction: column; flex-basis: 100%; flex: 1; padding: 10px; }\n",
       "    </style>\n",
       "<div class=\"wandb-row\"><div class=\"wandb-col\"><h3>Run history:</h3><br/><table class=\"wandb\"><tr><td>learning_rate</td><td>█▆▅▄▃▃▂▂▂▂▁▁▁▁▁▁▁▁▁▁▁▁▁▁▁▁▁▁</td></tr><tr><td>train_f1_score</td><td>▁▁▁▁▁▂▅▆▇▇▇█▇███████████████</td></tr><tr><td>train_loss</td><td>█▇▇▇▇▆▄▃▃▂▂▂▂▂▁▁▂▁▂▁▁▁▁▁▁▁▁▁</td></tr><tr><td>val_f1_score</td><td>▂▂▁▂▃▁▆▇▇▇▅█████████████████</td></tr><tr><td>val_loss</td><td>▃▃▃▂▂█▂▁▁▂▃▁▁▁▁▁▁▁▁▁▁▁▁▁▁▁▁▁</td></tr></table><br/></div><div class=\"wandb-col\"><h3>Run summary:</h3><br/><table class=\"wandb\"><tr><td>learning_rate</td><td>0.0</td></tr><tr><td>train_f1_score</td><td>0.7343</td></tr><tr><td>train_loss</td><td>0.60356</td></tr><tr><td>val_f1_score</td><td>0.74248</td></tr><tr><td>val_loss</td><td>0.6105</td></tr></table><br/></div></div>"
      ],
      "text/plain": [
       "<IPython.core.display.HTML object>"
      ]
     },
     "metadata": {},
     "output_type": "display_data"
    },
    {
     "data": {
      "text/html": [
       " View run <strong style=\"color:#cdcd00\">fold_2_RGB-RE-NIR-CHM_3classes</strong> at: <a href='https://wandb.ai/simon-ecke/wze-uav-v2/runs/otesh39k' target=\"_blank\">https://wandb.ai/simon-ecke/wze-uav-v2/runs/otesh39k</a><br/>Synced 5 W&B file(s), 0 media file(s), 0 artifact file(s) and 0 other file(s)"
      ],
      "text/plain": [
       "<IPython.core.display.HTML object>"
      ]
     },
     "metadata": {},
     "output_type": "display_data"
    },
    {
     "data": {
      "text/html": [
       "Find logs at: <code>.\\wandb\\run-20230420_053712-otesh39k\\logs</code>"
      ],
      "text/plain": [
       "<IPython.core.display.HTML object>"
      ]
     },
     "metadata": {},
     "output_type": "display_data"
    },
    {
     "name": "stdout",
     "output_type": "stream",
     "text": [
      "Deleting variables and emptying cache\n",
      "Memory allocated: 1053625856 bytes\n",
      "--------------------------------------------------\n",
      "\n",
      "Fold : 2\n",
      "TRAIN POSITIVE RATIO: 0.42986172168491726\n",
      "VAL POSITIVE RATIO  : 0.42375039796243236\n",
      "LENGTH TRAIN GROUPS : 4713\n",
      "LENGTH VAL GROUPS   : 1187\n"
     ]
    },
    {
     "data": {
      "text/html": [
       "wandb version 0.15.0 is available!  To upgrade, please run:\n",
       " $ pip install wandb --upgrade"
      ],
      "text/plain": [
       "<IPython.core.display.HTML object>"
      ]
     },
     "metadata": {},
     "output_type": "display_data"
    },
    {
     "data": {
      "text/html": [
       "Tracking run with wandb version 0.14.2"
      ],
      "text/plain": [
       "<IPython.core.display.HTML object>"
      ]
     },
     "metadata": {},
     "output_type": "display_data"
    },
    {
     "data": {
      "text/html": [
       "Run data is saved locally in <code>C:\\Users\\lwfeckesim\\01_PyTorch\\wze-uav\\wze-uav-master\\wandb\\run-20230420_082214-q1fgmesr</code>"
      ],
      "text/plain": [
       "<IPython.core.display.HTML object>"
      ]
     },
     "metadata": {},
     "output_type": "display_data"
    },
    {
     "data": {
      "text/html": [
       "Syncing run <strong><a href='https://wandb.ai/simon-ecke/wze-uav-v2/runs/q1fgmesr' target=\"_blank\">fold_3_RGB-RE-NIR-CHM_3classes</a></strong> to <a href='https://wandb.ai/simon-ecke/wze-uav-v2' target=\"_blank\">Weights & Biases</a> (<a href='https://wandb.me/run' target=\"_blank\">docs</a>)<br/>"
      ],
      "text/plain": [
       "<IPython.core.display.HTML object>"
      ]
     },
     "metadata": {},
     "output_type": "display_data"
    },
    {
     "data": {
      "text/html": [
       " View project at <a href='https://wandb.ai/simon-ecke/wze-uav-v2' target=\"_blank\">https://wandb.ai/simon-ecke/wze-uav-v2</a>"
      ],
      "text/plain": [
       "<IPython.core.display.HTML object>"
      ]
     },
     "metadata": {},
     "output_type": "display_data"
    },
    {
     "data": {
      "text/html": [
       " View run at <a href='https://wandb.ai/simon-ecke/wze-uav-v2/runs/q1fgmesr' target=\"_blank\">https://wandb.ai/simon-ecke/wze-uav-v2/runs/q1fgmesr</a>"
      ],
      "text/plain": [
       "<IPython.core.display.HTML object>"
      ]
     },
     "metadata": {},
     "output_type": "display_data"
    },
    {
     "name": "stdout",
     "output_type": "stream",
     "text": [
      "There are no same hash_id values in train, val or test datasets. The datasplit was successful\n",
      "Check shapes:\n",
      "\n",
      "Images train dataset: (12511, 250, 250, 6)\n",
      "Labels train dataset: (12511, 1)\n",
      "\n",
      "Images validation dataset: (1187, 250, 250, 6)\n",
      "Labels validation dataset: (1187, 1)\n",
      "\n",
      "--------------------------------------------------\n",
      "Check if the split was stratified: (random_state=42)\n",
      "Healthy trees in train dataset: 7352\n",
      "Stressed trees in train dataset: 4940\n",
      "Dead trees in train dataset: 219\n",
      "Healthy trees in validation dataset: 691\n",
      "Stressed trees in validation dataset: 472\n",
      "Dead trees in validation dataset: 24\n",
      "Ratio health trees in validation dataset: 0.07504344048653346\n",
      "Ratio stressed trees in validation dataset: 0.0763877650105195\n",
      "Ratio dead trees in validation dataset: 0.09056603773584905\n",
      "--------------------------------------------------\n",
      "\n",
      "Creating datasets for fold: 3\n",
      "\n",
      "Creating dataloaders for fold: 3\n",
      "\n",
      "Loaded pretrained weights for efficientnet-b7\n",
      "\n",
      "[INFO] Fold number: 3\n",
      "[INFO] Number of epochs: 50\n",
      "[INFO] Batch_size: 32\n",
      "[INFO] Number of bands: 6\n",
      "[INFO] Dropout rate: 0.5\n",
      "[INFO] Gamma learning rate: 0.75\n",
      "[INFO] Memory allocated: 0 bytes\n"
     ]
    },
    {
     "data": {
      "application/vnd.jupyter.widget-view+json": {
       "model_id": "730571e80ca348f788ad65e464e89bd0",
       "version_major": 2,
       "version_minor": 0
      },
      "text/plain": [
       "  0%|          | 0/50 [00:00<?, ?it/s]"
      ]
     },
     "metadata": {},
     "output_type": "display_data"
    },
    {
     "name": "stdout",
     "output_type": "stream",
     "text": [
      "Epoch: 1 \n",
      "Learning rate: 0.005\n",
      "Train loss: 0.8379 | Train precision: 0.3817 | Train recall: 0.3587 | Train f1score: 0.3563 | Train acc: 0.5143 | Train kappa: 0.0229 \n",
      "Val loss: 0.8785 | Val precision: 0.3627 | Val recall: 0.3462 | Val f1score: 0.2317 | Val acc: 0.4257 | Val kappa: -0.0041 \n",
      "\n",
      "Epoch: 2 \n",
      "Learning rate: 0.00375\n",
      "Train loss: 0.8060 | Train precision: 0.3490 | Train recall: 0.3617 | Train f1score: 0.3551 | Train acc: 0.5236 | Train kappa: 0.0202 \n",
      "Val loss: 0.7642 | Val precision: 0.3797 | Val recall: 0.3784 | Val f1score: 0.3291 | Val acc: 0.5042 | Val kappa: 0.0632 \n",
      "\n",
      "Epoch: 3 \n",
      "Learning rate: 0.0028125\n",
      "Train loss: 0.7916 | Train precision: 0.3528 | Train recall: 0.3642 | Train f1score: 0.3584 | Train acc: 0.5292 | Train kappa: 0.0404 \n",
      "Val loss: 0.7748 | Val precision: 0.3844 | Val recall: 0.3743 | Val f1score: 0.3096 | Val acc: 0.4882 | Val kappa: 0.0554 \n",
      "\n",
      "Epoch: 4 \n",
      "Learning rate: 0.002109375\n",
      "Train loss: 0.7914 | Train precision: 0.3567 | Train recall: 0.3685 | Train f1score: 0.3594 | Train acc: 0.5356 | Train kappa: 0.0545 \n",
      "Val loss: 1.1516 | Val precision: 0.1329 | Val recall: 0.3333 | Val f1score: 0.1900 | Val acc: 0.3986 | Val kappa: 0.0000 \n",
      "\n",
      "Epoch: 5 \n",
      "Learning rate: 0.00158203125\n",
      "Train loss: 0.7870 | Train precision: 0.5440 | Train recall: 0.3826 | Train f1score: 0.3839 | Train acc: 0.5385 | Train kappa: 0.0630 \n",
      "Val loss: 1.0369 | Val precision: 0.3834 | Val recall: 0.3356 | Val f1score: 0.1988 | Val acc: 0.4037 | Val kappa: 0.0064 \n",
      "\n",
      "Epoch: 6 \n",
      "Learning rate: 0.0011865234375\n",
      "Train loss: 0.6941 | Train precision: 0.6288 | Train recall: 0.5990 | Train f1score: 0.6119 | Train acc: 0.5972 | Train kappa: 0.3218 \n",
      "Val loss: 0.6872 | Val precision: 0.6217 | Val recall: 0.5831 | Val f1score: 0.5027 | Val acc: 0.6073 | Val kappa: 0.2296 \n",
      "\n",
      "Epoch: 7 \n",
      "Learning rate: 0.000889892578125\n",
      "Train loss: 0.6489 | Train precision: 0.6864 | Train recall: 0.6775 | Train f1score: 0.6805 | Train acc: 0.6358 | Train kappa: 0.4064 \n",
      "Val loss: 0.6749 | Val precision: 0.7436 | Val recall: 0.6090 | Val f1score: 0.6477 | Val acc: 0.6486 | Val kappa: 0.3826 \n",
      "\n",
      "Epoch: 8 \n",
      "Learning rate: 0.00066741943359375\n",
      "Train loss: 0.6474 | Train precision: 0.6985 | Train recall: 0.6759 | Train f1score: 0.6864 | Train acc: 0.6413 | Train kappa: 0.4095 \n",
      "Val loss: 0.6512 | Val precision: 0.7412 | Val recall: 0.5318 | Val f1score: 0.5647 | Val acc: 0.6478 | Val kappa: 0.2915 \n",
      "\n",
      "Epoch: 9 \n",
      "Learning rate: 0.0005005645751953125\n",
      "Train loss: 0.6336 | Train precision: 0.7111 | Train recall: 0.6962 | Train f1score: 0.7028 | Train acc: 0.6473 | Train kappa: 0.4249 \n",
      "Val loss: 0.6291 | Val precision: 0.6351 | Val recall: 0.7005 | Val f1score: 0.6310 | Val acc: 0.6689 | Val kappa: 0.4029 \n",
      "\n",
      "Epoch: 10 \n",
      "Learning rate: 0.0003754234313964844\n",
      "Train loss: 0.6277 | Train precision: 0.7169 | Train recall: 0.7016 | Train f1score: 0.7083 | Train acc: 0.6540 | Train kappa: 0.4381 \n",
      "Val loss: 0.5849 | Val precision: 0.7474 | Val recall: 0.6818 | Val f1score: 0.7098 | Val acc: 0.6900 | Val kappa: 0.4360 \n",
      "\n",
      "Epoch: 11 \n",
      "Learning rate: 0.0002815675735473633\n",
      "Train loss: 0.6216 | Train precision: 0.7222 | Train recall: 0.7102 | Train f1score: 0.7156 | Train acc: 0.6538 | Train kappa: 0.4505 \n",
      "Val loss: 0.6561 | Val precision: 0.6423 | Val recall: 0.7152 | Val f1score: 0.6541 | Val acc: 0.6157 | Val kappa: 0.3668 \n",
      "\n",
      "Epoch: 12 \n",
      "Learning rate: 0.00021117568016052246\n",
      "Train loss: 0.6091 | Train precision: 0.7265 | Train recall: 0.7271 | Train f1score: 0.7268 | Train acc: 0.6680 | Train kappa: 0.4693 \n",
      "Val loss: 0.5966 | Val precision: 0.6606 | Val recall: 0.7317 | Val f1score: 0.6908 | Val acc: 0.6731 | Val kappa: 0.4250 \n",
      "\n",
      "Epoch: 13 \n",
      "Learning rate: 0.00015838176012039184\n",
      "Train loss: 0.6093 | Train precision: 0.7310 | Train recall: 0.7224 | Train f1score: 0.7260 | Train acc: 0.6622 | Train kappa: 0.4626 \n",
      "Val loss: 0.5942 | Val precision: 0.6622 | Val recall: 0.7263 | Val f1score: 0.6900 | Val acc: 0.6664 | Val kappa: 0.4199 \n",
      "\n",
      "Epoch: 14 \n",
      "Learning rate: 0.00011878632009029388\n",
      "Train loss: 0.6076 | Train precision: 0.7450 | Train recall: 0.7363 | Train f1score: 0.7403 | Train acc: 0.6709 | Train kappa: 0.4747 \n",
      "Val loss: 0.6270 | Val precision: 0.6635 | Val recall: 0.7325 | Val f1score: 0.6779 | Val acc: 0.6444 | Val kappa: 0.4048 \n",
      "\n",
      "Epoch: 15 \n",
      "Learning rate: 8.908974006772042e-05\n",
      "Train loss: 0.6022 | Train precision: 0.7525 | Train recall: 0.7403 | Train f1score: 0.7457 | Train acc: 0.6747 | Train kappa: 0.4816 \n",
      "Val loss: 0.6018 | Val precision: 0.6810 | Val recall: 0.7323 | Val f1score: 0.7029 | Val acc: 0.6672 | Val kappa: 0.4225 \n",
      "\n",
      "Epoch: 16 \n",
      "Learning rate: 6.681730505079031e-05\n",
      "Train loss: 0.5941 | Train precision: 0.7422 | Train recall: 0.7371 | Train f1score: 0.7393 | Train acc: 0.6761 | Train kappa: 0.4771 \n",
      "Val loss: 0.5800 | Val precision: 0.7085 | Val recall: 0.7316 | Val f1score: 0.7167 | Val acc: 0.6883 | Val kappa: 0.4410 \n",
      "\n",
      "Epoch: 17 \n",
      "Learning rate: 5.0112978788092735e-05\n",
      "Train loss: 0.6067 | Train precision: 0.7391 | Train recall: 0.7314 | Train f1score: 0.7351 | Train acc: 0.6643 | Train kappa: 0.4687 \n",
      "Val loss: 0.6070 | Val precision: 0.7253 | Val recall: 0.7278 | Val f1score: 0.7170 | Val acc: 0.6630 | Val kappa: 0.4213 \n",
      "\n",
      "Epoch: 18 \n",
      "Learning rate: 3.758473409106955e-05\n",
      "Train loss: 0.6015 | Train precision: 0.7444 | Train recall: 0.7349 | Train f1score: 0.7391 | Train acc: 0.6668 | Train kappa: 0.4683 \n",
      "Val loss: 0.5940 | Val precision: 0.6844 | Val recall: 0.7353 | Val f1score: 0.7067 | Val acc: 0.6740 | Val kappa: 0.4324 \n",
      "\n",
      "Epoch: 19 \n",
      "Learning rate: 2.8188550568302163e-05\n",
      "Train loss: 0.6005 | Train precision: 0.7388 | Train recall: 0.7312 | Train f1score: 0.7348 | Train acc: 0.6662 | Train kappa: 0.4751 \n",
      "Val loss: 0.5914 | Val precision: 0.6930 | Val recall: 0.7363 | Val f1score: 0.7115 | Val acc: 0.6723 | Val kappa: 0.4297 \n",
      "\n",
      "Epoch: 20 \n",
      "Learning rate: 2.114141292622662e-05\n",
      "Train loss: 0.6052 | Train precision: 0.7386 | Train recall: 0.7320 | Train f1score: 0.7345 | Train acc: 0.6708 | Train kappa: 0.4710 \n",
      "Val loss: 0.5885 | Val precision: 0.7066 | Val recall: 0.7407 | Val f1score: 0.7218 | Val acc: 0.6807 | Val kappa: 0.4409 \n",
      "\n",
      "Epoch: 21 \n",
      "Learning rate: 1.5856059694669965e-05\n",
      "Train loss: 0.6023 | Train precision: 0.7445 | Train recall: 0.7318 | Train f1score: 0.7372 | Train acc: 0.6656 | Train kappa: 0.4520 \n",
      "Val loss: 0.5867 | Val precision: 0.7042 | Val recall: 0.7379 | Val f1score: 0.7195 | Val acc: 0.6782 | Val kappa: 0.4357 \n",
      "\n",
      "Epoch: 22 \n",
      "Learning rate: 1.1892044771002475e-05\n",
      "Train loss: 0.6018 | Train precision: 0.7398 | Train recall: 0.7310 | Train f1score: 0.7347 | Train acc: 0.6696 | Train kappa: 0.4651 \n",
      "Val loss: 0.5927 | Val precision: 0.7124 | Val recall: 0.7378 | Val f1score: 0.7219 | Val acc: 0.6706 | Val kappa: 0.4255 \n",
      "\n",
      "Epoch: 23 \n",
      "Learning rate: 8.919033578251857e-06\n",
      "Train loss: 0.5947 | Train precision: 0.7542 | Train recall: 0.7458 | Train f1score: 0.7495 | Train acc: 0.6737 | Train kappa: 0.4797 \n",
      "Val loss: 0.5973 | Val precision: 0.6826 | Val recall: 0.7344 | Val f1score: 0.7032 | Val acc: 0.6655 | Val kappa: 0.4227 \n",
      "\n",
      "Epoch: 24 \n",
      "Learning rate: 6.689275183688892e-06\n",
      "Train loss: 0.6053 | Train precision: 0.7381 | Train recall: 0.7322 | Train f1score: 0.7345 | Train acc: 0.6719 | Train kappa: 0.4665 \n",
      "Val loss: 0.5951 | Val precision: 0.6986 | Val recall: 0.7335 | Val f1score: 0.7121 | Val acc: 0.6639 | Val kappa: 0.4163 \n",
      "\n",
      "Epoch: 25 \n",
      "Learning rate: 5.016956387766669e-06\n",
      "Train loss: 0.5994 | Train precision: 0.7471 | Train recall: 0.7388 | Train f1score: 0.7424 | Train acc: 0.6687 | Train kappa: 0.4659 \n",
      "Val loss: 0.5929 | Val precision: 0.6930 | Val recall: 0.7366 | Val f1score: 0.7107 | Val acc: 0.6698 | Val kappa: 0.4273 \n",
      "\n",
      "Epoch: 26 \n",
      "Learning rate: 3.762717290825002e-06\n",
      "Train loss: 0.5992 | Train precision: 0.7475 | Train recall: 0.7298 | Train f1score: 0.7380 | Train acc: 0.6714 | Train kappa: 0.4732 \n",
      "Val loss: 0.5920 | Val precision: 0.6846 | Val recall: 0.7359 | Val f1score: 0.7067 | Val acc: 0.6731 | Val kappa: 0.4321 \n",
      "\n",
      "Epoch: 27 \n",
      "Learning rate: 2.8220379681187514e-06\n",
      "Train loss: 0.5921 | Train precision: 0.7455 | Train recall: 0.7410 | Train f1score: 0.7427 | Train acc: 0.6760 | Train kappa: 0.4818 \n",
      "Val loss: 0.5947 | Val precision: 0.6840 | Val recall: 0.7358 | Val f1score: 0.7054 | Val acc: 0.6698 | Val kappa: 0.4283 \n",
      "\n"
     ]
    },
    {
     "name": "stdout",
     "output_type": "stream",
     "text": [
      "Epoch: 28 \n",
      "Learning rate: 2.1165284760890633e-06\n",
      "Train loss: 0.5981 | Train precision: 0.7443 | Train recall: 0.7434 | Train f1score: 0.7437 | Train acc: 0.6767 | Train kappa: 0.4854 \n",
      "Val loss: 0.5900 | Val precision: 0.6949 | Val recall: 0.7379 | Val f1score: 0.7138 | Val acc: 0.6765 | Val kappa: 0.4356 \n",
      "\n",
      "Epoch: 29 \n",
      "Learning rate: 1.5873963570667977e-06\n",
      "Train loss: 0.6068 | Train precision: 0.7402 | Train recall: 0.7260 | Train f1score: 0.7321 | Train acc: 0.6640 | Train kappa: 0.4563 \n",
      "Val loss: 0.5937 | Val precision: 0.6842 | Val recall: 0.7360 | Val f1score: 0.7055 | Val acc: 0.6698 | Val kappa: 0.4285 \n",
      "\n",
      "Epoch: 30 \n",
      "Learning rate: 1.1905472678000981e-06\n",
      "Train loss: 0.5949 | Train precision: 0.7531 | Train recall: 0.7462 | Train f1score: 0.7492 | Train acc: 0.6768 | Train kappa: 0.4910 \n",
      "Val loss: 0.5906 | Val precision: 0.6945 | Val recall: 0.7376 | Val f1score: 0.7134 | Val acc: 0.6757 | Val kappa: 0.4345 \n",
      "\n",
      "Epoch: 31 \n",
      "Learning rate: 1e-06\n",
      "Train loss: 0.5906 | Train precision: 0.7587 | Train recall: 0.7414 | Train f1score: 0.7493 | Train acc: 0.6806 | Train kappa: 0.4893 \n",
      "Val loss: 0.5903 | Val precision: 0.7035 | Val recall: 0.7380 | Val f1score: 0.7183 | Val acc: 0.6748 | Val kappa: 0.4321 \n",
      "\n",
      "Epoch: 32 \n",
      "Learning rate: 1e-06\n",
      "Train loss: 0.5999 | Train precision: 0.7500 | Train recall: 0.7372 | Train f1score: 0.7427 | Train acc: 0.6709 | Train kappa: 0.4726 \n",
      "Val loss: 0.5963 | Val precision: 0.6839 | Val recall: 0.7359 | Val f1score: 0.7045 | Val acc: 0.6672 | Val kappa: 0.4257 \n",
      "\n",
      "Early stopping after epoch 32\n"
     ]
    },
    {
     "data": {
      "text/html": [
       "Waiting for W&B process to finish... <strong style=\"color:green\">(success).</strong>"
      ],
      "text/plain": [
       "<IPython.core.display.HTML object>"
      ]
     },
     "metadata": {},
     "output_type": "display_data"
    },
    {
     "data": {
      "application/vnd.jupyter.widget-view+json": {
       "model_id": "acf39610e92c40ce83de2fbb3c727400",
       "version_major": 2,
       "version_minor": 0
      },
      "text/plain": [
       "VBox(children=(Label(value='0.001 MB of 0.001 MB uploaded (0.000 MB deduped)\\r'), FloatProgress(value=1.0, max…"
      ]
     },
     "metadata": {},
     "output_type": "display_data"
    },
    {
     "data": {
      "text/html": [
       "<style>\n",
       "    table.wandb td:nth-child(1) { padding: 0 10px; text-align: left ; width: auto;} td:nth-child(2) {text-align: left ; width: 100%}\n",
       "    .wandb-row { display: flex; flex-direction: row; flex-wrap: wrap; justify-content: flex-start; width: 100% }\n",
       "    .wandb-col { display: flex; flex-direction: column; flex-basis: 100%; flex: 1; padding: 10px; }\n",
       "    </style>\n",
       "<div class=\"wandb-row\"><div class=\"wandb-col\"><h3>Run history:</h3><br/><table class=\"wandb\"><tr><td>learning_rate</td><td>█▆▅▄▃▃▂▂▂▂▁▁▁▁▁▁▁▁▁▁▁▁▁▁▁▁▁▁▁▁▁▁</td></tr><tr><td>train_f1_score</td><td>▁▁▁▁▂▆▇▇▇▇▇█████████████████████</td></tr><tr><td>train_loss</td><td>█▇▇▇▇▄▃▃▂▂▂▂▂▁▁▁▁▁▁▁▁▁▁▁▁▁▁▁▁▁▁▁</td></tr><tr><td>val_f1_score</td><td>▂▃▃▁▁▅▇▆▇█▇██▇██████████████████</td></tr><tr><td>val_loss</td><td>▅▃▃█▇▂▂▂▂▁▂▁▁▂▁▁▁▁▁▁▁▁▁▁▁▁▁▁▁▁▁▁</td></tr></table><br/></div><div class=\"wandb-col\"><h3>Run summary:</h3><br/><table class=\"wandb\"><tr><td>learning_rate</td><td>0.0</td></tr><tr><td>train_f1_score</td><td>0.74272</td></tr><tr><td>train_loss</td><td>0.5999</td></tr><tr><td>val_f1_score</td><td>0.70446</td></tr><tr><td>val_loss</td><td>0.59632</td></tr></table><br/></div></div>"
      ],
      "text/plain": [
       "<IPython.core.display.HTML object>"
      ]
     },
     "metadata": {},
     "output_type": "display_data"
    },
    {
     "data": {
      "text/html": [
       " View run <strong style=\"color:#cdcd00\">fold_3_RGB-RE-NIR-CHM_3classes</strong> at: <a href='https://wandb.ai/simon-ecke/wze-uav-v2/runs/q1fgmesr' target=\"_blank\">https://wandb.ai/simon-ecke/wze-uav-v2/runs/q1fgmesr</a><br/>Synced 5 W&B file(s), 0 media file(s), 0 artifact file(s) and 0 other file(s)"
      ],
      "text/plain": [
       "<IPython.core.display.HTML object>"
      ]
     },
     "metadata": {},
     "output_type": "display_data"
    },
    {
     "data": {
      "text/html": [
       "Find logs at: <code>.\\wandb\\run-20230420_082214-q1fgmesr\\logs</code>"
      ],
      "text/plain": [
       "<IPython.core.display.HTML object>"
      ]
     },
     "metadata": {},
     "output_type": "display_data"
    },
    {
     "name": "stdout",
     "output_type": "stream",
     "text": [
      "Deleting variables and emptying cache\n",
      "Memory allocated: 1053398528 bytes\n",
      "--------------------------------------------------\n",
      "\n",
      "Fold : 3\n",
      "TRAIN POSITIVE RATIO: 0.42982176957352003\n",
      "VAL POSITIVE RATIO  : 0.42380025940337224\n",
      "LENGTH TRAIN GROUPS : 4733\n",
      "LENGTH VAL GROUPS   : 1167\n"
     ]
    },
    {
     "data": {
      "text/html": [
       "wandb version 0.15.0 is available!  To upgrade, please run:\n",
       " $ pip install wandb --upgrade"
      ],
      "text/plain": [
       "<IPython.core.display.HTML object>"
      ]
     },
     "metadata": {},
     "output_type": "display_data"
    },
    {
     "data": {
      "text/html": [
       "Tracking run with wandb version 0.14.2"
      ],
      "text/plain": [
       "<IPython.core.display.HTML object>"
      ]
     },
     "metadata": {},
     "output_type": "display_data"
    },
    {
     "data": {
      "text/html": [
       "Run data is saved locally in <code>C:\\Users\\lwfeckesim\\01_PyTorch\\wze-uav\\wze-uav-master\\wandb\\run-20230420_113820-2h9brn2z</code>"
      ],
      "text/plain": [
       "<IPython.core.display.HTML object>"
      ]
     },
     "metadata": {},
     "output_type": "display_data"
    },
    {
     "data": {
      "text/html": [
       "Syncing run <strong><a href='https://wandb.ai/simon-ecke/wze-uav-v2/runs/2h9brn2z' target=\"_blank\">fold_4_RGB-RE-NIR-CHM_3classes</a></strong> to <a href='https://wandb.ai/simon-ecke/wze-uav-v2' target=\"_blank\">Weights & Biases</a> (<a href='https://wandb.me/run' target=\"_blank\">docs</a>)<br/>"
      ],
      "text/plain": [
       "<IPython.core.display.HTML object>"
      ]
     },
     "metadata": {},
     "output_type": "display_data"
    },
    {
     "data": {
      "text/html": [
       " View project at <a href='https://wandb.ai/simon-ecke/wze-uav-v2' target=\"_blank\">https://wandb.ai/simon-ecke/wze-uav-v2</a>"
      ],
      "text/plain": [
       "<IPython.core.display.HTML object>"
      ]
     },
     "metadata": {},
     "output_type": "display_data"
    },
    {
     "data": {
      "text/html": [
       " View run at <a href='https://wandb.ai/simon-ecke/wze-uav-v2/runs/2h9brn2z' target=\"_blank\">https://wandb.ai/simon-ecke/wze-uav-v2/runs/2h9brn2z</a>"
      ],
      "text/plain": [
       "<IPython.core.display.HTML object>"
      ]
     },
     "metadata": {},
     "output_type": "display_data"
    },
    {
     "name": "stdout",
     "output_type": "stream",
     "text": [
      "There are no same hash_id values in train, val or test datasets. The datasplit was successful\n",
      "Check shapes:\n",
      "\n",
      "Images train dataset: (12568, 250, 250, 6)\n",
      "Labels train dataset: (12568, 1)\n",
      "\n",
      "Images validation dataset: (1167, 250, 250, 6)\n",
      "Labels validation dataset: (1167, 1)\n",
      "\n",
      "--------------------------------------------------\n",
      "Check if the split was stratified: (random_state=42)\n",
      "Healthy trees in train dataset: 7387\n",
      "Stressed trees in train dataset: 4960\n",
      "Dead trees in train dataset: 221\n",
      "Healthy trees in validation dataset: 685\n",
      "Stressed trees in validation dataset: 464\n",
      "Dead trees in validation dataset: 18\n",
      "Ratio health trees in validation dataset: 0.07439183318853171\n",
      "Ratio stressed trees in validation dataset: 0.07509305712898527\n",
      "Ratio dead trees in validation dataset: 0.06792452830188679\n",
      "--------------------------------------------------\n",
      "\n",
      "Creating datasets for fold: 4\n",
      "\n",
      "Creating dataloaders for fold: 4\n",
      "\n",
      "Loaded pretrained weights for efficientnet-b7\n",
      "\n",
      "[INFO] Fold number: 4\n",
      "[INFO] Number of epochs: 50\n",
      "[INFO] Batch_size: 32\n",
      "[INFO] Number of bands: 6\n",
      "[INFO] Dropout rate: 0.5\n",
      "[INFO] Gamma learning rate: 0.75\n",
      "[INFO] Memory allocated: 0 bytes\n"
     ]
    },
    {
     "data": {
      "application/vnd.jupyter.widget-view+json": {
       "model_id": "6f4987020b3141e8b10b91285188ef92",
       "version_major": 2,
       "version_minor": 0
      },
      "text/plain": [
       "  0%|          | 0/50 [00:00<?, ?it/s]"
      ]
     },
     "metadata": {},
     "output_type": "display_data"
    },
    {
     "name": "stdout",
     "output_type": "stream",
     "text": [
      "Epoch: 1 \n",
      "Learning rate: 0.005\n",
      "Train loss: 0.8505 | Train precision: 0.3621 | Train recall: 0.3465 | Train f1score: 0.3430 | Train acc: 0.4993 | Train kappa: 0.0062 \n",
      "Val loss: 14.4256 | Val precision: 0.3891 | Val recall: 0.3532 | Val f1score: 0.2493 | Val acc: 0.4392 | Val kappa: 0.0306 \n",
      "\n",
      "Epoch: 2 \n",
      "Learning rate: 0.00375\n",
      "Train loss: 0.8165 | Train precision: 0.3710 | Train recall: 0.3507 | Train f1score: 0.3451 | Train acc: 0.5063 | Train kappa: 0.0003 \n",
      "Val loss: 0.7957 | Val precision: 0.3485 | Val recall: 0.3499 | Val f1score: 0.2973 | Val acc: 0.4618 | Val kappa: 0.0215 \n",
      "\n",
      "Epoch: 3 \n",
      "Learning rate: 0.0028125\n",
      "Train loss: 0.8036 | Train precision: 0.4495 | Train recall: 0.3529 | Train f1score: 0.3520 | Train acc: 0.5015 | Train kappa: -0.0046 \n",
      "Val loss: 0.8510 | Val precision: 0.3819 | Val recall: 0.3383 | Val f1score: 0.2664 | Val acc: 0.5894 | Val kappa: 0.0128 \n",
      "\n",
      "Epoch: 4 \n",
      "Learning rate: 0.002109375\n",
      "Train loss: 0.7311 | Train precision: 0.5798 | Train recall: 0.5314 | Train f1score: 0.5512 | Train acc: 0.5741 | Train kappa: 0.2476 \n",
      "Val loss: 2.1380 | Val precision: 0.4186 | Val recall: 0.4118 | Val f1score: 0.1382 | Val acc: 0.1293 | Val kappa: 0.0562 \n",
      "\n",
      "Epoch: 5 \n",
      "Learning rate: 0.00158203125\n",
      "Train loss: 0.6948 | Train precision: 0.6377 | Train recall: 0.6303 | Train f1score: 0.6325 | Train acc: 0.5962 | Train kappa: 0.3449 \n",
      "Val loss: 1.5235 | Val precision: 0.4445 | Val recall: 0.5728 | Val f1score: 0.2998 | Val acc: 0.3611 | Val kappa: 0.1431 \n",
      "\n",
      "Epoch: 6 \n",
      "Learning rate: 0.0011865234375\n",
      "Train loss: 0.6643 | Train precision: 0.6799 | Train recall: 0.6696 | Train f1score: 0.6738 | Train acc: 0.6295 | Train kappa: 0.4047 \n",
      "Val loss: 0.9119 | Val precision: 0.4176 | Val recall: 0.3522 | Val f1score: 0.2409 | Val acc: 0.4349 | Val kappa: 0.0497 \n",
      "\n",
      "Epoch: 7 \n",
      "Learning rate: 0.000889892578125\n",
      "Train loss: 0.6458 | Train precision: 0.6914 | Train recall: 0.6921 | Train f1score: 0.6914 | Train acc: 0.6368 | Train kappa: 0.4226 \n",
      "Val loss: 0.6337 | Val precision: 0.6193 | Val recall: 0.7015 | Val f1score: 0.6526 | Val acc: 0.6528 | Val kappa: 0.3651 \n",
      "\n",
      "Epoch: 8 \n",
      "Learning rate: 0.00066741943359375\n",
      "Train loss: 0.6335 | Train precision: 0.7131 | Train recall: 0.7040 | Train f1score: 0.7083 | Train acc: 0.6483 | Train kappa: 0.4330 \n",
      "Val loss: 0.9504 | Val precision: 0.3992 | Val recall: 0.3528 | Val f1score: 0.2501 | Val acc: 0.4392 | Val kappa: 0.0528 \n",
      "\n",
      "Epoch: 9 \n",
      "Learning rate: 0.0005005645751953125\n",
      "Train loss: 0.6264 | Train precision: 0.7216 | Train recall: 0.7190 | Train f1score: 0.7202 | Train acc: 0.6585 | Train kappa: 0.4508 \n",
      "Val loss: 0.6698 | Val precision: 0.6286 | Val recall: 0.7256 | Val f1score: 0.6419 | Val acc: 0.6172 | Val kappa: 0.3447 \n",
      "\n",
      "Epoch: 10 \n",
      "Learning rate: 0.0003754234313964844\n",
      "Train loss: 0.6200 | Train precision: 0.7247 | Train recall: 0.7139 | Train f1score: 0.7190 | Train acc: 0.6604 | Train kappa: 0.4564 \n",
      "Val loss: 0.6488 | Val precision: 0.7548 | Val recall: 0.5553 | Val f1score: 0.5973 | Val acc: 0.6155 | Val kappa: 0.3082 \n",
      "\n",
      "Epoch: 11 \n",
      "Learning rate: 0.0002815675735473633\n",
      "Train loss: 0.6171 | Train precision: 0.7292 | Train recall: 0.7152 | Train f1score: 0.7219 | Train acc: 0.6579 | Train kappa: 0.4475 \n",
      "Val loss: 0.6484 | Val precision: 0.6103 | Val recall: 0.7264 | Val f1score: 0.6529 | Val acc: 0.6554 | Val kappa: 0.3886 \n",
      "\n",
      "Epoch: 12 \n",
      "Learning rate: 0.00021117568016052246\n",
      "Train loss: 0.6063 | Train precision: 0.7390 | Train recall: 0.7261 | Train f1score: 0.7324 | Train acc: 0.6633 | Train kappa: 0.4545 \n",
      "Val loss: 0.6212 | Val precision: 0.7039 | Val recall: 0.6893 | Val f1score: 0.6964 | Val acc: 0.6597 | Val kappa: 0.3777 \n",
      "\n",
      "Epoch: 13 \n",
      "Learning rate: 0.00015838176012039184\n",
      "Train loss: 0.6078 | Train precision: 0.7396 | Train recall: 0.7307 | Train f1score: 0.7350 | Train acc: 0.6641 | Train kappa: 0.4590 \n",
      "Val loss: 0.6900 | Val precision: 0.6798 | Val recall: 0.6870 | Val f1score: 0.6340 | Val acc: 0.5686 | Val kappa: 0.2758 \n",
      "\n",
      "Epoch: 14 \n",
      "Learning rate: 0.00011878632009029388\n",
      "Train loss: 0.6115 | Train precision: 0.7351 | Train recall: 0.7306 | Train f1score: 0.7327 | Train acc: 0.6634 | Train kappa: 0.4651 \n",
      "Val loss: 0.6181 | Val precision: 0.7051 | Val recall: 0.6779 | Val f1score: 0.6901 | Val acc: 0.6632 | Val kappa: 0.3819 \n",
      "\n",
      "Epoch: 15 \n",
      "Learning rate: 8.908974006772042e-05\n",
      "Train loss: 0.6050 | Train precision: 0.7366 | Train recall: 0.7309 | Train f1score: 0.7333 | Train acc: 0.6631 | Train kappa: 0.4605 \n",
      "Val loss: 0.6254 | Val precision: 0.6892 | Val recall: 0.7200 | Val f1score: 0.6998 | Val acc: 0.6606 | Val kappa: 0.3949 \n",
      "\n",
      "Epoch: 16 \n",
      "Learning rate: 6.681730505079031e-05\n",
      "Train loss: 0.6010 | Train precision: 0.7489 | Train recall: 0.7456 | Train f1score: 0.7471 | Train acc: 0.6722 | Train kappa: 0.4823 \n",
      "Val loss: 0.6304 | Val precision: 0.6886 | Val recall: 0.7183 | Val f1score: 0.6943 | Val acc: 0.6502 | Val kappa: 0.3877 \n",
      "\n",
      "Epoch: 17 \n",
      "Learning rate: 5.0112978788092735e-05\n",
      "Train loss: 0.6020 | Train precision: 0.7476 | Train recall: 0.7386 | Train f1score: 0.7428 | Train acc: 0.6682 | Train kappa: 0.4681 \n",
      "Val loss: 0.6161 | Val precision: 0.6826 | Val recall: 0.7107 | Val f1score: 0.6958 | Val acc: 0.6623 | Val kappa: 0.3860 \n",
      "\n",
      "Epoch: 18 \n",
      "Learning rate: 3.758473409106955e-05\n",
      "Train loss: 0.6033 | Train precision: 0.7372 | Train recall: 0.7359 | Train f1score: 0.7364 | Train acc: 0.6676 | Train kappa: 0.4720 \n",
      "Val loss: 0.6203 | Val precision: 0.6824 | Val recall: 0.7124 | Val f1score: 0.6953 | Val acc: 0.6571 | Val kappa: 0.3829 \n",
      "\n",
      "Epoch: 19 \n",
      "Learning rate: 2.8188550568302163e-05\n",
      "Train loss: 0.5989 | Train precision: 0.7370 | Train recall: 0.7381 | Train f1score: 0.7374 | Train acc: 0.6703 | Train kappa: 0.4710 \n",
      "Val loss: 0.6227 | Val precision: 0.7172 | Val recall: 0.7209 | Val f1score: 0.7165 | Val acc: 0.6658 | Val kappa: 0.4015 \n",
      "\n",
      "Epoch: 20 \n",
      "Learning rate: 2.114141292622662e-05\n",
      "Train loss: 0.5997 | Train precision: 0.7456 | Train recall: 0.7417 | Train f1score: 0.7435 | Train acc: 0.6692 | Train kappa: 0.4750 \n",
      "Val loss: 0.6211 | Val precision: 0.6862 | Val recall: 0.7157 | Val f1score: 0.6995 | Val acc: 0.6649 | Val kappa: 0.3943 \n",
      "\n",
      "Epoch: 21 \n",
      "Learning rate: 1.5856059694669965e-05\n",
      "Train loss: 0.6022 | Train precision: 0.7363 | Train recall: 0.7316 | Train f1score: 0.7339 | Train acc: 0.6702 | Train kappa: 0.4703 \n",
      "Val loss: 0.6238 | Val precision: 0.6871 | Val recall: 0.7175 | Val f1score: 0.6995 | Val acc: 0.6623 | Val kappa: 0.3938 \n",
      "\n",
      "Epoch: 22 \n",
      "Learning rate: 1.1892044771002475e-05\n",
      "Train loss: 0.5987 | Train precision: 0.7349 | Train recall: 0.7403 | Train f1score: 0.7375 | Train acc: 0.6693 | Train kappa: 0.4737 \n",
      "Val loss: 0.6239 | Val precision: 0.6989 | Val recall: 0.7165 | Val f1score: 0.7050 | Val acc: 0.6597 | Val kappa: 0.3975 \n",
      "\n",
      "Epoch: 23 \n",
      "Learning rate: 8.919033578251857e-06\n",
      "Train loss: 0.5972 | Train precision: 0.7508 | Train recall: 0.7387 | Train f1score: 0.7442 | Train acc: 0.6728 | Train kappa: 0.4789 \n",
      "Val loss: 0.6222 | Val precision: 0.6908 | Val recall: 0.7205 | Val f1score: 0.7040 | Val acc: 0.6710 | Val kappa: 0.4057 \n",
      "\n",
      "Epoch: 24 \n",
      "Learning rate: 6.689275183688892e-06\n",
      "Train loss: 0.5963 | Train precision: 0.7503 | Train recall: 0.7447 | Train f1score: 0.7474 | Train acc: 0.6781 | Train kappa: 0.4807 \n",
      "Val loss: 0.6183 | Val precision: 0.6902 | Val recall: 0.7201 | Val f1score: 0.7035 | Val acc: 0.6701 | Val kappa: 0.4043 \n",
      "\n",
      "Epoch: 25 \n",
      "Learning rate: 5.016956387766669e-06\n",
      "Train loss: 0.5982 | Train precision: 0.7456 | Train recall: 0.7391 | Train f1score: 0.7421 | Train acc: 0.6733 | Train kappa: 0.4821 \n",
      "Val loss: 0.6198 | Val precision: 0.7052 | Val recall: 0.7223 | Val f1score: 0.7127 | Val acc: 0.6736 | Val kappa: 0.4129 \n",
      "\n",
      "Epoch: 26 \n",
      "Learning rate: 3.762717290825002e-06\n",
      "Train loss: 0.5977 | Train precision: 0.7544 | Train recall: 0.7470 | Train f1score: 0.7507 | Train acc: 0.6806 | Train kappa: 0.4911 \n",
      "Val loss: 0.6198 | Val precision: 0.7018 | Val recall: 0.7190 | Val f1score: 0.7090 | Val acc: 0.6675 | Val kappa: 0.4033 \n",
      "\n",
      "Epoch: 27 \n",
      "Learning rate: 2.8220379681187514e-06\n",
      "Train loss: 0.5959 | Train precision: 0.7457 | Train recall: 0.7403 | Train f1score: 0.7430 | Train acc: 0.6700 | Train kappa: 0.4697 \n",
      "Val loss: 0.6224 | Val precision: 0.6995 | Val recall: 0.7170 | Val f1score: 0.7062 | Val acc: 0.6623 | Val kappa: 0.4006 \n",
      "\n"
     ]
    },
    {
     "name": "stdout",
     "output_type": "stream",
     "text": [
      "Epoch: 28 \n",
      "Learning rate: 2.1165284760890633e-06\n",
      "Train loss: 0.5909 | Train precision: 0.7460 | Train recall: 0.7445 | Train f1score: 0.7450 | Train acc: 0.6756 | Train kappa: 0.4769 \n",
      "Val loss: 0.6257 | Val precision: 0.7005 | Val recall: 0.7182 | Val f1score: 0.7067 | Val acc: 0.6623 | Val kappa: 0.4019 \n",
      "\n",
      "Epoch: 29 \n",
      "Learning rate: 1.5873963570667977e-06\n",
      "Train loss: 0.6019 | Train precision: 0.7425 | Train recall: 0.7361 | Train f1score: 0.7392 | Train acc: 0.6700 | Train kappa: 0.4881 \n",
      "Val loss: 0.6210 | Val precision: 0.7003 | Val recall: 0.7176 | Val f1score: 0.7074 | Val acc: 0.6649 | Val kappa: 0.3990 \n",
      "\n",
      "Early stopping after epoch 29\n"
     ]
    },
    {
     "data": {
      "text/html": [
       "Waiting for W&B process to finish... <strong style=\"color:green\">(success).</strong>"
      ],
      "text/plain": [
       "<IPython.core.display.HTML object>"
      ]
     },
     "metadata": {},
     "output_type": "display_data"
    },
    {
     "data": {
      "application/vnd.jupyter.widget-view+json": {
       "model_id": "548c3d5ad6dc4cd2972ee60e24b060b4",
       "version_major": 2,
       "version_minor": 0
      },
      "text/plain": [
       "VBox(children=(Label(value='0.001 MB of 0.001 MB uploaded (0.000 MB deduped)\\r'), FloatProgress(value=1.0, max…"
      ]
     },
     "metadata": {},
     "output_type": "display_data"
    },
    {
     "data": {
      "text/html": [
       "<style>\n",
       "    table.wandb td:nth-child(1) { padding: 0 10px; text-align: left ; width: auto;} td:nth-child(2) {text-align: left ; width: 100%}\n",
       "    .wandb-row { display: flex; flex-direction: row; flex-wrap: wrap; justify-content: flex-start; width: 100% }\n",
       "    .wandb-col { display: flex; flex-direction: column; flex-basis: 100%; flex: 1; padding: 10px; }\n",
       "    </style>\n",
       "<div class=\"wandb-row\"><div class=\"wandb-col\"><h3>Run history:</h3><br/><table class=\"wandb\"><tr><td>learning_rate</td><td>█▆▅▄▃▃▂▂▂▂▁▁▁▁▁▁▁▁▁▁▁▁▁▁▁▁▁▁▁</td></tr><tr><td>train_f1_score</td><td>▁▁▁▅▆▇▇▇▇▇███████████████████</td></tr><tr><td>train_loss</td><td>█▇▇▅▄▃▂▂▂▂▂▁▁▂▁▁▁▁▁▁▁▁▁▁▁▁▁▁▁</td></tr><tr><td>val_f1_score</td><td>▂▃▃▁▃▂▇▂▇▇▇█▇████████████████</td></tr><tr><td>val_loss</td><td>█▁▁▂▁▁▁▁▁▁▁▁▁▁▁▁▁▁▁▁▁▁▁▁▁▁▁▁▁</td></tr></table><br/></div><div class=\"wandb-col\"><h3>Run summary:</h3><br/><table class=\"wandb\"><tr><td>learning_rate</td><td>0.0</td></tr><tr><td>train_f1_score</td><td>0.73924</td></tr><tr><td>train_loss</td><td>0.60191</td></tr><tr><td>val_f1_score</td><td>0.70739</td></tr><tr><td>val_loss</td><td>0.621</td></tr></table><br/></div></div>"
      ],
      "text/plain": [
       "<IPython.core.display.HTML object>"
      ]
     },
     "metadata": {},
     "output_type": "display_data"
    },
    {
     "data": {
      "text/html": [
       " View run <strong style=\"color:#cdcd00\">fold_4_RGB-RE-NIR-CHM_3classes</strong> at: <a href='https://wandb.ai/simon-ecke/wze-uav-v2/runs/2h9brn2z' target=\"_blank\">https://wandb.ai/simon-ecke/wze-uav-v2/runs/2h9brn2z</a><br/>Synced 5 W&B file(s), 0 media file(s), 0 artifact file(s) and 0 other file(s)"
      ],
      "text/plain": [
       "<IPython.core.display.HTML object>"
      ]
     },
     "metadata": {},
     "output_type": "display_data"
    },
    {
     "data": {
      "text/html": [
       "Find logs at: <code>.\\wandb\\run-20230420_113820-2h9brn2z\\logs</code>"
      ],
      "text/plain": [
       "<IPython.core.display.HTML object>"
      ]
     },
     "metadata": {},
     "output_type": "display_data"
    },
    {
     "name": "stdout",
     "output_type": "stream",
     "text": [
      "Deleting variables and emptying cache\n",
      "Memory allocated: 1055989248 bytes\n",
      "--------------------------------------------------\n",
      "\n",
      "Fold : 4\n",
      "TRAIN POSITIVE RATIO: 0.4254473161033797\n",
      "VAL POSITIVE RATIO  : 0.44166395840103995\n",
      "LENGTH TRAIN GROUPS : 4732\n",
      "LENGTH VAL GROUPS   : 1168\n"
     ]
    },
    {
     "data": {
      "text/html": [
       "wandb version 0.15.0 is available!  To upgrade, please run:\n",
       " $ pip install wandb --upgrade"
      ],
      "text/plain": [
       "<IPython.core.display.HTML object>"
      ]
     },
     "metadata": {},
     "output_type": "display_data"
    },
    {
     "data": {
      "text/html": [
       "Tracking run with wandb version 0.14.2"
      ],
      "text/plain": [
       "<IPython.core.display.HTML object>"
      ]
     },
     "metadata": {},
     "output_type": "display_data"
    },
    {
     "data": {
      "text/html": [
       "Run data is saved locally in <code>C:\\Users\\lwfeckesim\\01_PyTorch\\wze-uav\\wze-uav-master\\wandb\\run-20230420_144942-j8d66497</code>"
      ],
      "text/plain": [
       "<IPython.core.display.HTML object>"
      ]
     },
     "metadata": {},
     "output_type": "display_data"
    },
    {
     "data": {
      "text/html": [
       "Syncing run <strong><a href='https://wandb.ai/simon-ecke/wze-uav-v2/runs/j8d66497' target=\"_blank\">fold_5_RGB-RE-NIR-CHM_3classes</a></strong> to <a href='https://wandb.ai/simon-ecke/wze-uav-v2' target=\"_blank\">Weights & Biases</a> (<a href='https://wandb.me/run' target=\"_blank\">docs</a>)<br/>"
      ],
      "text/plain": [
       "<IPython.core.display.HTML object>"
      ]
     },
     "metadata": {},
     "output_type": "display_data"
    },
    {
     "data": {
      "text/html": [
       " View project at <a href='https://wandb.ai/simon-ecke/wze-uav-v2' target=\"_blank\">https://wandb.ai/simon-ecke/wze-uav-v2</a>"
      ],
      "text/plain": [
       "<IPython.core.display.HTML object>"
      ]
     },
     "metadata": {},
     "output_type": "display_data"
    },
    {
     "data": {
      "text/html": [
       " View run at <a href='https://wandb.ai/simon-ecke/wze-uav-v2/runs/j8d66497' target=\"_blank\">https://wandb.ai/simon-ecke/wze-uav-v2/runs/j8d66497</a>"
      ],
      "text/plain": [
       "<IPython.core.display.HTML object>"
      ]
     },
     "metadata": {},
     "output_type": "display_data"
    },
    {
     "name": "stdout",
     "output_type": "stream",
     "text": [
      "There are no same hash_id values in train, val or test datasets. The datasplit was successful\n",
      "Check shapes:\n",
      "\n",
      "Images train dataset: (12575, 250, 250, 6)\n",
      "Labels train dataset: (12575, 1)\n",
      "\n",
      "Images validation dataset: (1169, 250, 250, 6)\n",
      "Labels validation dataset: (1169, 1)\n",
      "\n",
      "--------------------------------------------------\n",
      "Check if the split was stratified: (random_state=42)\n",
      "Healthy trees in train dataset: 7449\n",
      "Stressed trees in train dataset: 4902\n",
      "Dead trees in train dataset: 224\n",
      "Healthy trees in validation dataset: 672\n",
      "Stressed trees in validation dataset: 480\n",
      "Dead trees in validation dataset: 17\n",
      "Ratio health trees in validation dataset: 0.07298001737619461\n",
      "Ratio stressed trees in validation dataset: 0.07768247289205372\n",
      "Ratio dead trees in validation dataset: 0.06415094339622641\n",
      "--------------------------------------------------\n",
      "\n",
      "Creating datasets for fold: 5\n",
      "\n",
      "Creating dataloaders for fold: 5\n",
      "\n",
      "Loaded pretrained weights for efficientnet-b7\n",
      "\n",
      "[INFO] Fold number: 5\n",
      "[INFO] Number of epochs: 50\n",
      "[INFO] Batch_size: 32\n",
      "[INFO] Number of bands: 6\n",
      "[INFO] Dropout rate: 0.5\n",
      "[INFO] Gamma learning rate: 0.75\n",
      "[INFO] Memory allocated: 0 bytes\n"
     ]
    },
    {
     "data": {
      "application/vnd.jupyter.widget-view+json": {
       "model_id": "acdc816733b7444192b8f5d9fd444fed",
       "version_major": 2,
       "version_minor": 0
      },
      "text/plain": [
       "  0%|          | 0/50 [00:00<?, ?it/s]"
      ]
     },
     "metadata": {},
     "output_type": "display_data"
    },
    {
     "name": "stdout",
     "output_type": "stream",
     "text": [
      "Epoch: 1 \n",
      "Learning rate: 0.005\n",
      "Train loss: 0.8520 | Train precision: 0.3726 | Train recall: 0.3506 | Train f1score: 0.3484 | Train acc: 0.4994 | Train kappa: 0.0018 \n",
      "Val loss: 1.2365 | Val precision: 0.1374 | Val recall: 0.3333 | Val f1score: 0.1946 | Val acc: 0.4123 | Val kappa: 0.0000 \n",
      "\n",
      "Epoch: 2 \n",
      "Learning rate: 0.00375\n",
      "Train loss: 0.7966 | Train precision: 0.4854 | Train recall: 0.3771 | Train f1score: 0.3850 | Train acc: 0.5222 | Train kappa: 0.0618 \n",
      "Val loss: 0.9411 | Val precision: 0.1374 | Val recall: 0.3333 | Val f1score: 0.1946 | Val acc: 0.4123 | Val kappa: 0.0000 \n",
      "\n",
      "Epoch: 3 \n",
      "Learning rate: 0.0028125\n",
      "Train loss: 0.7711 | Train precision: 0.4903 | Train recall: 0.4098 | Train f1score: 0.4231 | Train acc: 0.5515 | Train kappa: 0.1476 \n",
      "Val loss: 0.9211 | Val precision: 0.3661 | Val recall: 0.3357 | Val f1score: 0.2072 | Val acc: 0.4184 | Val kappa: 0.0070 \n",
      "\n",
      "Epoch: 4 \n",
      "Learning rate: 0.002109375\n",
      "Train loss: 0.7015 | Train precision: 0.5946 | Train recall: 0.5738 | Train f1score: 0.5829 | Train acc: 0.5954 | Train kappa: 0.3279 \n",
      "Val loss: 1.2134 | Val precision: 0.4693 | Val recall: 0.3240 | Val f1score: 0.1925 | Val acc: 0.4010 | Val kappa: 0.0144 \n",
      "\n",
      "Epoch: 5 \n",
      "Learning rate: 0.00158203125\n",
      "Train loss: 0.6691 | Train precision: 0.6642 | Train recall: 0.6464 | Train f1score: 0.6537 | Train acc: 0.6276 | Train kappa: 0.3952 \n",
      "Val loss: 1.5065 | Val precision: 0.1396 | Val recall: 0.3322 | Val f1score: 0.1932 | Val acc: 0.3611 | Val kappa: 0.0222 \n",
      "\n",
      "Epoch: 6 \n",
      "Learning rate: 0.0011865234375\n",
      "Train loss: 0.6525 | Train precision: 0.6919 | Train recall: 0.6560 | Train f1score: 0.6719 | Train acc: 0.6342 | Train kappa: 0.4044 \n",
      "Val loss: 0.6934 | Val precision: 0.7442 | Val recall: 0.5580 | Val f1score: 0.5562 | Val acc: 0.5642 | Val kappa: 0.2471 \n",
      "\n",
      "Epoch: 7 \n",
      "Learning rate: 0.000889892578125\n",
      "Train loss: 0.6403 | Train precision: 0.7022 | Train recall: 0.6908 | Train f1score: 0.6961 | Train acc: 0.6454 | Train kappa: 0.4256 \n",
      "Val loss: 0.6872 | Val precision: 0.5350 | Val recall: 0.6895 | Val f1score: 0.5771 | Val acc: 0.6372 | Val kappa: 0.3617 \n",
      "\n",
      "Epoch: 8 \n",
      "Learning rate: 0.00066741943359375\n",
      "Train loss: 0.6308 | Train precision: 0.7122 | Train recall: 0.6964 | Train f1score: 0.7039 | Train acc: 0.6509 | Train kappa: 0.4373 \n",
      "Val loss: 0.9588 | Val precision: 0.5810 | Val recall: 0.6805 | Val f1score: 0.4594 | Val acc: 0.4922 | Val kappa: 0.1743 \n",
      "\n",
      "Epoch: 9 \n",
      "Learning rate: 0.0005005645751953125\n",
      "Train loss: 0.6233 | Train precision: 0.7225 | Train recall: 0.7252 | Train f1score: 0.7236 | Train acc: 0.6598 | Train kappa: 0.4649 \n",
      "Val loss: 0.6397 | Val precision: 0.7118 | Val recall: 0.7097 | Val f1score: 0.6963 | Val acc: 0.6406 | Val kappa: 0.3693 \n",
      "\n",
      "Epoch: 10 \n",
      "Learning rate: 0.0003754234313964844\n",
      "Train loss: 0.6140 | Train precision: 0.7286 | Train recall: 0.7181 | Train f1score: 0.7231 | Train acc: 0.6622 | Train kappa: 0.4616 \n",
      "Val loss: 0.6409 | Val precision: 0.6963 | Val recall: 0.7103 | Val f1score: 0.6894 | Val acc: 0.6424 | Val kappa: 0.3691 \n",
      "\n",
      "Epoch: 11 \n",
      "Learning rate: 0.0002815675735473633\n",
      "Train loss: 0.6030 | Train precision: 0.7405 | Train recall: 0.7300 | Train f1score: 0.7346 | Train acc: 0.6716 | Train kappa: 0.4719 \n",
      "Val loss: 0.6245 | Val precision: 0.7487 | Val recall: 0.6937 | Val f1score: 0.7105 | Val acc: 0.6545 | Val kappa: 0.3812 \n",
      "\n",
      "Epoch: 12 \n",
      "Learning rate: 0.00021117568016052246\n",
      "Train loss: 0.6013 | Train precision: 0.7387 | Train recall: 0.7297 | Train f1score: 0.7341 | Train acc: 0.6696 | Train kappa: 0.4881 \n",
      "Val loss: 0.6093 | Val precision: 0.7124 | Val recall: 0.7151 | Val f1score: 0.7102 | Val acc: 0.6632 | Val kappa: 0.3927 \n",
      "\n",
      "Epoch: 13 \n",
      "Learning rate: 0.00015838176012039184\n",
      "Train loss: 0.5983 | Train precision: 0.7466 | Train recall: 0.7395 | Train f1score: 0.7428 | Train acc: 0.6777 | Train kappa: 0.4883 \n",
      "Val loss: 0.6379 | Val precision: 0.7338 | Val recall: 0.7082 | Val f1score: 0.6968 | Val acc: 0.6302 | Val kappa: 0.3556 \n",
      "\n",
      "Epoch: 14 \n",
      "Learning rate: 0.00011878632009029388\n",
      "Train loss: 0.6027 | Train precision: 0.7451 | Train recall: 0.7319 | Train f1score: 0.7383 | Train acc: 0.6735 | Train kappa: 0.4769 \n",
      "Val loss: 0.6553 | Val precision: 0.6993 | Val recall: 0.7212 | Val f1score: 0.6822 | Val acc: 0.6172 | Val kappa: 0.3371 \n",
      "\n",
      "Epoch: 15 \n",
      "Learning rate: 8.908974006772042e-05\n",
      "Train loss: 0.6017 | Train precision: 0.7336 | Train recall: 0.7386 | Train f1score: 0.7361 | Train acc: 0.6702 | Train kappa: 0.4807 \n",
      "Val loss: 0.6423 | Val precision: 0.6895 | Val recall: 0.7302 | Val f1score: 0.6894 | Val acc: 0.6372 | Val kappa: 0.3634 \n",
      "\n",
      "Epoch: 16 \n",
      "Learning rate: 6.681730505079031e-05\n",
      "Train loss: 0.5984 | Train precision: 0.7461 | Train recall: 0.7402 | Train f1score: 0.7428 | Train acc: 0.6781 | Train kappa: 0.4905 \n",
      "Val loss: 0.6084 | Val precision: 0.7196 | Val recall: 0.7225 | Val f1score: 0.7177 | Val acc: 0.6745 | Val kappa: 0.4171 \n",
      "\n",
      "Epoch: 17 \n",
      "Learning rate: 5.0112978788092735e-05\n",
      "Train loss: 0.5911 | Train precision: 0.7506 | Train recall: 0.7484 | Train f1score: 0.7494 | Train acc: 0.6826 | Train kappa: 0.4871 \n",
      "Val loss: 0.6127 | Val precision: 0.7180 | Val recall: 0.7204 | Val f1score: 0.7138 | Val acc: 0.6675 | Val kappa: 0.4078 \n",
      "\n",
      "Epoch: 18 \n",
      "Learning rate: 3.758473409106955e-05\n",
      "Train loss: 0.5922 | Train precision: 0.7465 | Train recall: 0.7412 | Train f1score: 0.7436 | Train acc: 0.6783 | Train kappa: 0.4903 \n",
      "Val loss: 0.6019 | Val precision: 0.6954 | Val recall: 0.7125 | Val f1score: 0.7033 | Val acc: 0.6693 | Val kappa: 0.3979 \n",
      "\n",
      "Epoch: 19 \n",
      "Learning rate: 2.8188550568302163e-05\n",
      "Train loss: 0.5965 | Train precision: 0.7528 | Train recall: 0.7452 | Train f1score: 0.7488 | Train acc: 0.6790 | Train kappa: 0.4950 \n",
      "Val loss: 0.6185 | Val precision: 0.6943 | Val recall: 0.7409 | Val f1score: 0.7077 | Val acc: 0.6641 | Val kappa: 0.4012 \n",
      "\n",
      "Epoch: 20 \n",
      "Learning rate: 2.114141292622662e-05\n",
      "Train loss: 0.5936 | Train precision: 0.7440 | Train recall: 0.7444 | Train f1score: 0.7439 | Train acc: 0.6771 | Train kappa: 0.4847 \n",
      "Val loss: 0.6028 | Val precision: 0.7196 | Val recall: 0.7226 | Val f1score: 0.7181 | Val acc: 0.6753 | Val kappa: 0.4134 \n",
      "\n",
      "Epoch: 21 \n",
      "Learning rate: 1.5856059694669965e-05\n",
      "Train loss: 0.5896 | Train precision: 0.7523 | Train recall: 0.7502 | Train f1score: 0.7510 | Train acc: 0.6838 | Train kappa: 0.4972 \n",
      "Val loss: 0.6179 | Val precision: 0.6901 | Val recall: 0.7365 | Val f1score: 0.7031 | Val acc: 0.6571 | Val kappa: 0.3894 \n",
      "\n",
      "Epoch: 22 \n",
      "Learning rate: 1.1892044771002475e-05\n",
      "Train loss: 0.5957 | Train precision: 0.7489 | Train recall: 0.7450 | Train f1score: 0.7466 | Train acc: 0.6799 | Train kappa: 0.4906 \n",
      "Val loss: 0.6095 | Val precision: 0.6921 | Val recall: 0.7395 | Val f1score: 0.7084 | Val acc: 0.6658 | Val kappa: 0.4014 \n",
      "\n",
      "Epoch: 23 \n",
      "Learning rate: 8.919033578251857e-06\n",
      "Train loss: 0.5947 | Train precision: 0.7532 | Train recall: 0.7448 | Train f1score: 0.7488 | Train acc: 0.6807 | Train kappa: 0.4965 \n",
      "Val loss: 0.6108 | Val precision: 0.6912 | Val recall: 0.7386 | Val f1score: 0.7078 | Val acc: 0.6649 | Val kappa: 0.3995 \n",
      "\n",
      "Epoch: 24 \n",
      "Learning rate: 6.689275183688892e-06\n",
      "Train loss: 0.5917 | Train precision: 0.7457 | Train recall: 0.7448 | Train f1score: 0.7451 | Train acc: 0.6771 | Train kappa: 0.4889 \n",
      "Val loss: 0.6129 | Val precision: 0.6917 | Val recall: 0.7388 | Val f1score: 0.7069 | Val acc: 0.6632 | Val kappa: 0.3980 \n",
      "\n",
      "Epoch: 25 \n",
      "Learning rate: 5.016956387766669e-06\n",
      "Train loss: 0.5967 | Train precision: 0.7476 | Train recall: 0.7387 | Train f1score: 0.7426 | Train acc: 0.6811 | Train kappa: 0.4876 \n",
      "Val loss: 0.6113 | Val precision: 0.6921 | Val recall: 0.7395 | Val f1score: 0.7084 | Val acc: 0.6658 | Val kappa: 0.4014 \n",
      "\n",
      "Epoch: 26 \n",
      "Learning rate: 3.762717290825002e-06\n",
      "Train loss: 0.5910 | Train precision: 0.7511 | Train recall: 0.7521 | Train f1score: 0.7514 | Train acc: 0.6792 | Train kappa: 0.4947 \n",
      "Val loss: 0.6081 | Val precision: 0.6933 | Val recall: 0.7409 | Val f1score: 0.7106 | Val acc: 0.6693 | Val kappa: 0.4064 \n",
      "\n",
      "Epoch: 27 \n",
      "Learning rate: 2.8220379681187514e-06\n",
      "Train loss: 0.5942 | Train precision: 0.7457 | Train recall: 0.7448 | Train f1score: 0.7450 | Train acc: 0.6778 | Train kappa: 0.4903 \n",
      "Val loss: 0.6105 | Val precision: 0.6928 | Val recall: 0.7403 | Val f1score: 0.7095 | Val acc: 0.6675 | Val kappa: 0.4040 \n",
      "\n"
     ]
    },
    {
     "name": "stdout",
     "output_type": "stream",
     "text": [
      "Epoch: 28 \n",
      "Learning rate: 2.1165284760890633e-06\n",
      "Train loss: 0.5856 | Train precision: 0.7573 | Train recall: 0.7562 | Train f1score: 0.7565 | Train acc: 0.6857 | Train kappa: 0.4907 \n",
      "Val loss: 0.6091 | Val precision: 0.6926 | Val recall: 0.7402 | Val f1score: 0.7099 | Val acc: 0.6684 | Val kappa: 0.4048 \n",
      "\n",
      "Epoch: 29 \n",
      "Learning rate: 1.5873963570667977e-06\n",
      "Train loss: 0.5904 | Train precision: 0.7442 | Train recall: 0.7395 | Train f1score: 0.7415 | Train acc: 0.6766 | Train kappa: 0.4884 \n",
      "Val loss: 0.6148 | Val precision: 0.6892 | Val recall: 0.7361 | Val f1score: 0.7040 | Val acc: 0.6589 | Val kappa: 0.3907 \n",
      "\n",
      "Epoch: 30 \n",
      "Learning rate: 1.1905472678000981e-06\n",
      "Train loss: 0.5948 | Train precision: 0.7430 | Train recall: 0.7466 | Train f1score: 0.7445 | Train acc: 0.6745 | Train kappa: 0.4807 \n",
      "Val loss: 0.6107 | Val precision: 0.6926 | Val recall: 0.7401 | Val f1score: 0.7095 | Val acc: 0.6675 | Val kappa: 0.4038 \n",
      "\n",
      "Early stopping after epoch 30\n"
     ]
    },
    {
     "data": {
      "text/html": [
       "Waiting for W&B process to finish... <strong style=\"color:green\">(success).</strong>"
      ],
      "text/plain": [
       "<IPython.core.display.HTML object>"
      ]
     },
     "metadata": {},
     "output_type": "display_data"
    },
    {
     "data": {
      "application/vnd.jupyter.widget-view+json": {
       "model_id": "9151feb8e65c4620b1fe0525a62678db",
       "version_major": 2,
       "version_minor": 0
      },
      "text/plain": [
       "VBox(children=(Label(value='0.001 MB of 0.001 MB uploaded (0.000 MB deduped)\\r'), FloatProgress(value=1.0, max…"
      ]
     },
     "metadata": {},
     "output_type": "display_data"
    },
    {
     "data": {
      "text/html": [
       "<style>\n",
       "    table.wandb td:nth-child(1) { padding: 0 10px; text-align: left ; width: auto;} td:nth-child(2) {text-align: left ; width: 100%}\n",
       "    .wandb-row { display: flex; flex-direction: row; flex-wrap: wrap; justify-content: flex-start; width: 100% }\n",
       "    .wandb-col { display: flex; flex-direction: column; flex-basis: 100%; flex: 1; padding: 10px; }\n",
       "    </style>\n",
       "<div class=\"wandb-row\"><div class=\"wandb-col\"><h3>Run history:</h3><br/><table class=\"wandb\"><tr><td>learning_rate</td><td>█▆▅▄▃▃▂▂▂▂▁▁▁▁▁▁▁▁▁▁▁▁▁▁▁▁▁▁▁▁</td></tr><tr><td>train_f1_score</td><td>▁▂▂▅▆▇▇▇▇▇████████████████████</td></tr><tr><td>train_loss</td><td>█▇▆▄▃▃▂▂▂▂▁▁▁▁▁▁▁▁▁▁▁▁▁▁▁▁▁▁▁▁</td></tr><tr><td>val_f1_score</td><td>▁▁▁▁▁▆▆▅██████████████████████</td></tr><tr><td>val_loss</td><td>▆▄▃▆█▂▂▄▁▁▁▁▁▁▁▁▁▁▁▁▁▁▁▁▁▁▁▁▁▁</td></tr></table><br/></div><div class=\"wandb-col\"><h3>Run summary:</h3><br/><table class=\"wandb\"><tr><td>learning_rate</td><td>0.0</td></tr><tr><td>train_f1_score</td><td>0.74447</td></tr><tr><td>train_loss</td><td>0.59476</td></tr><tr><td>val_f1_score</td><td>0.70948</td></tr><tr><td>val_loss</td><td>0.61073</td></tr></table><br/></div></div>"
      ],
      "text/plain": [
       "<IPython.core.display.HTML object>"
      ]
     },
     "metadata": {},
     "output_type": "display_data"
    },
    {
     "data": {
      "text/html": [
       " View run <strong style=\"color:#cdcd00\">fold_5_RGB-RE-NIR-CHM_3classes</strong> at: <a href='https://wandb.ai/simon-ecke/wze-uav-v2/runs/j8d66497' target=\"_blank\">https://wandb.ai/simon-ecke/wze-uav-v2/runs/j8d66497</a><br/>Synced 5 W&B file(s), 0 media file(s), 0 artifact file(s) and 0 other file(s)"
      ],
      "text/plain": [
       "<IPython.core.display.HTML object>"
      ]
     },
     "metadata": {},
     "output_type": "display_data"
    },
    {
     "data": {
      "text/html": [
       "Find logs at: <code>.\\wandb\\run-20230420_144942-j8d66497\\logs</code>"
      ],
      "text/plain": [
       "<IPython.core.display.HTML object>"
      ]
     },
     "metadata": {},
     "output_type": "display_data"
    },
    {
     "name": "stdout",
     "output_type": "stream",
     "text": [
      "Deleting variables and emptying cache\n",
      "Memory allocated: 1053126144 bytes\n",
      "--------------------------------------------------\n",
      "\n",
      "CPU times: total: 7h 49min 37s\n",
      "Wall time: 17h 56s\n"
     ]
    }
   ],
   "source": [
    "%%time\n",
    "\n",
    "# Set the random seeds\n",
    "set_seeds(42)\n",
    "\n",
    "# Define the number of folds\n",
    "num_folds = 5\n",
    "\n",
    "# group the hashIDs to get the unique values of hashIDs remaining in the subset  \n",
    "groups = sub_hash_id[:, 0] \n",
    "print(\"ORIGINAL POSITIVE RATIO:\", sub_label_set.mean())\n",
    "# create a StratifiedGroupKFold instance\n",
    "kf = StratifiedGroupKFold(n_splits=num_folds, shuffle=True, random_state=42)\n",
    "\n",
    "# loop through the folds\n",
    "for fold, (train_ids, val_ids) in enumerate(kf.split(sub_image_set, sub_label_set, groups)):\n",
    "    print(\"Fold :\", fold)\n",
    "    print(\"TRAIN POSITIVE RATIO:\", sub_label_set[train_ids].mean())\n",
    "    print(\"VAL POSITIVE RATIO  :\", sub_label_set[val_ids].mean())\n",
    "    print(\"LENGTH TRAIN GROUPS :\", len(set(groups[train_ids])))\n",
    "    print(\"LENGTH VAL GROUPS   :\", len(set(groups[val_ids])))\n",
    "    \n",
    "    train_ids = sub_hash_id[:, 0][train_ids]\n",
    "    val_ids = np.unique(sub_hash_id[:, 0][val_ids])\n",
    "\n",
    "    torch.cuda.empty_cache()\n",
    "    \n",
    "    # Initialize a new wandb run for this fold\n",
    "    wandb.init(project='wze-uav-v2', name=f\"fold_{fold + 1}_{extra}\")\n",
    "    \n",
    "    # 1. Split data into train and validation set\n",
    "    # Get the training and testing data for this fold\n",
    "    # Use np.isin() to create boolean arrays indicating which indices belong to train or test sets\n",
    "    train_indices = np.isin(sub_hash_id[:,0], train_ids)\n",
    "    \n",
    "    val_indices = np.zeros_like(train_indices)  # initialize to all False\n",
    "    for hash_id_val in val_ids:\n",
    "        # select one image ID randomly from either 2020 or 2021 or 2022 for each unique hash ID in the test set\n",
    "        temp = np.unique(sub_hash_id[(sub_hash_id[:, 0] == hash_id_val), 1]) # check how many years are available per hashID\n",
    "        if len(temp) == 1:\n",
    "            year = temp[0]\n",
    "        elif len(temp) == 2:\n",
    "            year = np.random.choice(temp)\n",
    "        else:\n",
    "            year = np.random.choice(temp)\n",
    "        \n",
    "        # select image ID using the conditions\n",
    "        image_ids = sub_hash_id[(sub_hash_id[:,0] == hash_id_val) & (sub_hash_id[:,1] == year), 0]\n",
    "    \n",
    "        # mark the index corresponding to the selected image ID and hash ID as True in the test indices array\n",
    "        val_indices[(sub_hash_id[:,0] == hash_id_val) & (sub_hash_id[:,1] == year) & (np.isin(sub_hash_id[:,0], image_ids))] = True \n",
    "    \n",
    "    # Reshape boolean arrays to match shape of image_set and label_set\n",
    "    train_indices = train_indices.reshape(-1, 1)\n",
    "    val_indices = val_indices.reshape(-1, 1)\n",
    "    \n",
    "    # Select images and labels for train and validation sets\n",
    "    train_image_set = sub_image_set[train_indices[:, 0]]\n",
    "    train_label_set = sub_label_set[train_indices[:, 0]]\n",
    "    train_hash_id = sub_hash_id[train_indices[:, 0]][:,0]\n",
    "    train_species_set = sub_species_set[train_indices[:, 0]]\n",
    "    val_image_set = sub_image_set[val_indices[:, 0]]\n",
    "    val_label_set = sub_label_set[val_indices[:, 0]]\n",
    "    val_hash_id = sub_hash_id[val_indices[:, 0]][:,0]\n",
    "    val_species_set = sub_species_set[val_indices[:, 0]]\n",
    "    # reshape \n",
    "    train_label_set = train_label_set.reshape(-1, 1)\n",
    "    val_label_set = val_label_set.reshape(-1, 1)\n",
    "    train_species_set = train_species_set.reshape(-1, 1)\n",
    "    val_species_set = val_species_set.reshape(-1, 1)\n",
    "    \n",
    "    # check if there are any group overlaps between the data splits\n",
    "    hash_set = set(train_hash_id)\n",
    "    val_hash_set = set(val_hash_id)\n",
    "    test_hash_set = set(test_hash_id[:, 0].flatten())\n",
    "    intersection = hash_set.intersection(val_hash_set)\n",
    "    intersection2 = test_hash_set.intersection(val_hash_set)\n",
    "    intersection3 = hash_set.intersection(test_hash_set)\n",
    "    if intersection:\n",
    "        print(f\"Hash_id values in both train and val sets: {len(intersection)}\")\n",
    "        print(f\"Hash_id values in both test and val sets: {len(intersection2)}\")\n",
    "        print(f\"Hash_id values in both train and test sets: {len(intersection3)}\")\n",
    "    else:\n",
    "        print(\"There are no same hash_id values in train, val or test datasets. The datasplit was successful\")\n",
    "    \n",
    "         \n",
    "    print(\"Check shapes:\\n\")\n",
    "    print(f\"Images train dataset: {train_image_set.shape}\")\n",
    "    print(f\"Labels train dataset: {train_label_set.shape}\\n\")\n",
    "    \n",
    "    print(f\"Images validation dataset: {val_image_set.shape}\")\n",
    "    print(f\"Labels validation dataset: {val_label_set.shape}\\n\")\n",
    "    print('-'*50)\n",
    "    print (f\"Check if the split was stratified: (random_state=42)\")\n",
    "    print(f\"Healthy trees in train dataset: {np.count_nonzero(train_label_set == 0)}\")\n",
    "    print(f\"Stressed trees in train dataset: {np.count_nonzero(train_label_set == 1)}\")\n",
    "    print(f\"Dead trees in train dataset: {np.count_nonzero(train_label_set == 2)}\")\n",
    "    print(f\"Healthy trees in validation dataset: {np.count_nonzero(val_label_set == 0)}\")\n",
    "    print(f\"Stressed trees in validation dataset: {np.count_nonzero(val_label_set == 1)}\")\n",
    "    print(f\"Dead trees in validation dataset: {np.count_nonzero(val_label_set == 2)}\")\n",
    "    print(f\"Ratio health trees in validation dataset: {np.count_nonzero(val_label_set == 0)/np.count_nonzero(sub_label_set == 0)}\")\n",
    "    print(f\"Ratio stressed trees in validation dataset: {np.count_nonzero(val_label_set == 1)/np.count_nonzero(sub_label_set == 1)}\")\n",
    "    print(f\"Ratio dead trees in validation dataset: {np.count_nonzero(val_label_set == 2)/np.count_nonzero(sub_label_set == 2)}\")\n",
    "    print(\"-\"*50)\n",
    "   \n",
    "    # 2. Create train and validation dataset. (choose custom dataset loader with 3 - 5 classes)\n",
    "    print(f\"\\nCreating datasets for fold: {fold + 1}\\n\")\n",
    "    train_dataset = data_loader.CustomDataset(data=train_image_set, labels=train_label_set, class_names=class_names, species = train_species_set,\n",
    "                                                         transform=transform_train)\n",
    "    \n",
    "    val_dataset = data_loader.CustomDataset(data=val_image_set, labels=val_label_set, class_names=class_names,\n",
    "                                                       species = val_species_set, transform=transform)\n",
    "   \n",
    "    # 3. Create train and validation dataloader\n",
    "    # create sampler for oversampling of the minority classes\n",
    "    sampler = data_loader.data_sampler(dataset=train_dataset, class_names=class_names)\n",
    "    print(f\"Creating dataloaders for fold: {fold +1}\\n\")\n",
    "    train_dataloader = DataLoader(train_dataset, batch_size=batch_size, persistent_workers=True, pin_memory=True, num_workers=NUM_WORKERS, generator=g,\n",
    "                              sampler=sampler, shuffle=False, drop_last=True) # shuffle false because of the sampler\n",
    "\n",
    "    val_dataloader = DataLoader(val_dataset, batch_size=batch_size, persistent_workers=True, pin_memory=True, num_workers=NUM_WORKERS, shuffle=False,\n",
    "                             drop_last=True)\n",
    "    \n",
    "    model = model_effnet.EfficientNet.from_pretrained('efficientnet-b7', in_channels=n_bands, num_classes=num_classes, dropout_rate=dropout_rate)\n",
    "    loss_fn = nn.CrossEntropyLoss()\n",
    "    optimizer = torch.optim.Adam(params=model.parameters(), lr=lr)\n",
    "    lr_scheduler = CustomExponentialLR(optimizer, gamma=gamma, min_lr=min_lr)\n",
    "\n",
    "    fold += 1\n",
    "    print(f\"\\n[INFO] Fold number: {fold}\")\n",
    "    print(f\"[INFO] Number of epochs: {epochs}\")\n",
    "    print(f\"[INFO] Batch_size: {batch_size}\")\n",
    "    print(f\"[INFO] Number of bands: {n_bands}\")\n",
    "    print(f\"[INFO] Dropout rate: {dropout_rate}\")\n",
    "    print(f\"[INFO] Gamma learning rate: {gamma}\")\n",
    "    print(f\"[INFO] Memory allocated: {torch.cuda.memory_allocated()} bytes\")\n",
    "    # 4. Train model with k fold dataloaders and track experiments\n",
    "    \n",
    "    if fold == 1:\n",
    "        fold1_results = train(model=model, model_name=model_name, n_bands=n_bands, batch_size=batch_size,train_dataloader=train_dataloader, val_dataloader=val_dataloader, \n",
    "                        optimizer=optimizer, loss_fn=loss_fn, lr_scheduler=lr_scheduler, num_classes=num_classes, epochs=epochs, experiment_num=fold, device=device,\n",
    "                        writer=None, early_stop_patience = patience)\n",
    "       \n",
    "    elif fold == 2:\n",
    "        fold2_results = train(model=model, model_name=model_name, n_bands=n_bands, batch_size=batch_size,train_dataloader=train_dataloader, val_dataloader=val_dataloader, \n",
    "                        optimizer=optimizer, loss_fn=loss_fn, lr_scheduler=lr_scheduler, num_classes=num_classes, epochs=epochs, experiment_num=fold, device=device,\n",
    "                        writer=None, early_stop_patience = patience)\n",
    "    elif fold == 3:\n",
    "        fold3_results = train(model=model, model_name=model_name, n_bands=n_bands, batch_size=batch_size,train_dataloader=train_dataloader, val_dataloader=val_dataloader, \n",
    "                        optimizer=optimizer, loss_fn=loss_fn, lr_scheduler=lr_scheduler, num_classes=num_classes, epochs=epochs, experiment_num=fold, device=device,\n",
    "                        writer=None, early_stop_patience = patience)\n",
    "    elif fold == 4:\n",
    "        fold4_results = train(model=model, model_name=model_name, n_bands=n_bands, batch_size=batch_size,train_dataloader=train_dataloader, val_dataloader=val_dataloader, \n",
    "                        optimizer=optimizer, loss_fn=loss_fn, lr_scheduler=lr_scheduler, num_classes=num_classes, epochs=epochs, experiment_num=fold, device=device,\n",
    "                        writer=None, early_stop_patience = patience)\n",
    "    else:\n",
    "        fold5_results = train(model=model, model_name=model_name, n_bands=n_bands, batch_size=batch_size,train_dataloader=train_dataloader, val_dataloader=val_dataloader, \n",
    "                        optimizer=optimizer, loss_fn=loss_fn, lr_scheduler=lr_scheduler, num_classes=num_classes, epochs=epochs, experiment_num=fold, device=device,\n",
    "                        writer=None, early_stop_patience = patience)\n",
    "    \n",
    "    del train_indices, val_indices, train_image_set, train_label_set, train_hash_id, train_species_set, val_image_set, val_label_set, val_hash_id, val_species_set,\n",
    "    train_dataset, val_dataset, sampler, train_dataloader, val_dataloader, model, loss_fn, optimizer, lr_scheduler\n",
    "    \n",
    "    #finish the wandb run\n",
    "    wandb.finish()\n",
    "    print(\"Deleting variables and emptying cache\")\n",
    "    gc.collect()\n",
    "    torch.cuda.empty_cache()\n",
    "    print(f\"Memory allocated: {torch.cuda.memory_allocated()} bytes\")\n",
    "    print(\"-\"*50 + \"\\n\")\n",
    "    \n"
   ]
  },
  {
   "cell_type": "code",
   "execution_count": null,
   "id": "1885cc98",
   "metadata": {},
   "outputs": [],
   "source": [
    "# Create a graph to visualize the training and validation loss for each fold\n",
    "wandb.run.summary[\"graph\"] = wandb.plot.line_series(\n",
    "    xs=\"epoch\",\n",
    "    ys=[\"train_loss\", \"val_loss\"],\n",
    "    group=\"fold\",\n",
    "    xaxis=\"Epoch\",\n",
    "    yaxis=\"Loss\",\n",
    "    title=\"Training and Validation Loss by Fold\",\n",
    ")\n",
    "\n",
    "# Create a graph to visualize the training and validation f1 score for each fold\n",
    "wandb.run.summary[\"graph\"] = wandb.plot.line_series(\n",
    "    xs=\"epoch\",\n",
    "    ys=[\"train_f1_score\", \"val_f1_score\"],\n",
    "    group=\"fold\",\n",
    "    xaxis=\"Epoch\",\n",
    "    yaxis=\"Loss\",\n",
    "    title=\"Training and Validation F1-Score by Fold\",\n",
    ")"
   ]
  },
  {
   "cell_type": "code",
   "execution_count": null,
   "id": "c0c36ebb",
   "metadata": {},
   "outputs": [],
   "source": [
    "# create test dataset\n",
    "test_dataset = data_loader.CustomTestDataset(\n",
    "    data = test_image_set,\n",
    "    labels = test_label_set,\n",
    "    class_names=class_names, \n",
    "    species = test_species_set,\n",
    "    kkl = None,\n",
    "    transform=transform\n",
    ")\n",
    "\n",
    "# create test dataloader\n",
    "test_dataloader = DataLoader(test_dataset,\n",
    "                             batch_size=batch_size,\n",
    "                             persistent_workers=True,\n",
    "                             pin_memory=True,\n",
    "                             num_workers=NUM_WORKERS,\n",
    "                             shuffle=False,\n",
    "                             drop_last=True)"
   ]
  },
  {
   "cell_type": "code",
   "execution_count": null,
   "id": "67db5af2",
   "metadata": {},
   "outputs": [],
   "source": [
    "# Setup the best model filepath\n",
    "best_model_path = r\"C:\\Users\\lwfeckesim\\01_PyTorch\\wze-uav\\wze-uav-master\\effnet_b0\\01_18_epochs.pth\"\n",
    "\n",
    "# Instantiate a new instance of EffNetB0 (to load the saved state_dict() to)\n",
    "unfreeze=True\n",
    "best_model = models.create_effnetb0(output_shape=num_classes, unfreeze=unfreeze, dropout_rate=dropout_rate, device=device)\n",
    "\n",
    "# Load the saved best model state_dict()\n",
    "best_model.load_state_dict(torch.load(best_model_path))"
   ]
  },
  {
   "cell_type": "code",
   "execution_count": null,
   "id": "6dfbc663",
   "metadata": {},
   "outputs": [],
   "source": [
    "def make_predictions(model: torch.nn.Module, \n",
    "                     test_dataloader: torch.utils.data.DataLoader,\n",
    "                     device: torch.device):\n",
    "    # 1. Make predictions with trained model\n",
    "    y_preds = []\n",
    "    y_labels = []\n",
    "    species_list = []\n",
    "    test_loss, test_precision, test_recall, test_f1_score, test_acc = 0, 0, 0, 0, 0\n",
    "    count = 0\n",
    "    model.eval()\n",
    "    with torch.inference_mode():\n",
    "        for X, y, species in tqdm(test_dataloader, desc=\"Making predictions\"):\n",
    "            # Send data and targets to target device\n",
    "            X, y = X.to(device), y.to(device)\n",
    "            # Do the forward pass\n",
    "            y_logit = model(X)\n",
    "            # Turn predictions from logits -> prediction probabilities -> predictions labels\n",
    "            y_pred = torch.softmax(y_logit, dim=1).argmax(dim=1)\n",
    "            # Put predictions on CPU for evaluation\n",
    "            y_preds.append(y_pred.cpu())\n",
    "            y_labels.append(y.cpu())\n",
    "            species_list.append(species)\n",
    "            \n",
    "            #other metrics\n",
    "            test_acc += ((y_pred == y).sum().item()/len(y_pred))\n",
    "            y_pred_class = y_pred.detach().cpu().numpy() \n",
    "            y_class = y.detach().cpu().numpy()\n",
    "            labels = np.array([0])\n",
    "            test_precision += precision_score(y_class, y_pred_class, average='macro', zero_division=0, labels=[0,1,2])\n",
    "            test_recall += recall_score(y_class, y_pred_class, average='macro', zero_division=0, labels=[0,1,2])\n",
    "            #test_f1_score += f1_score(y_class, y_pred_class, average='macro', zero_division=1, labels=labels)\n",
    "            \n",
    "            #if count >= 1:\n",
    "            #    y_set = torch.cat((y_set, y))\n",
    "            #    count = count + 1\n",
    "            #else:\n",
    "            #    y_set = y\n",
    "            #    count = count + 1\n",
    "            \n",
    "    test_loss = test_loss / len(test_dataloader)\n",
    "    test_precision = test_precision / len(test_dataloader)\n",
    "    test_recall = test_recall / len(test_dataloader)\n",
    "    test_f1_score = test_f1_score / len(test_dataloader)\n",
    "    #test_kappa = test_kappa / len(dataloader)\n",
    "    test_acc = test_acc / len(test_dataloader)\n",
    "    # Concatenate list of predictions into a tensor\n",
    "    y_pred_tensor = torch.cat(y_preds)\n",
    "    y_labels_tensor = torch.cat(y_labels)\n",
    "    test_f1_score = f1_score(y_labels_tensor.detach().cpu().numpy(), y_pred_tensor.cpu().numpy(), average='macro', zero_division=1, labels=[0,1,2])\n",
    "    \n",
    "    # Print classification report\n",
    "    y_true = y_labels_tensor.detach().cpu().numpy()\n",
    "    report = classification_report(y_true, y_pred_tensor.cpu().numpy(), target_names=class_names)\n",
    "    print(report)\n",
    "    \n",
    "    return y_pred_tensor, y_labels_tensor, test_loss, test_recall, test_precision, test_f1_score, test_acc, y_logit, y_pred, y, y_preds"
   ]
  },
  {
   "cell_type": "code",
   "execution_count": null,
   "id": "aab9e321",
   "metadata": {},
   "outputs": [],
   "source": [
    "# 2. Setup confusion matrix instance and compare predictions to targets\n",
    "#from wze_uav.analysis import *\n",
    "y_pred_tensor, y_labels_tensor, test_loss, test_recall, test_precision, test_f1_score, test_acc, y_logit, y_pred, y, y_preds = make_predictions(model=best_model,\n",
    "                                 test_dataloader=test_dataloader, \n",
    "                                 device=device)\n",
    "\n",
    "y_labels_tensor = y_labels_tensor.detach().cpu().numpy()\n",
    "y_pred_tensor = y_pred_tensor.detach().cpu().numpy()\n",
    "\n",
    "#confmat = ConfusionMatrix(num_classes=num_classes, task='multiclass')\n",
    "#confmat_tensor = confmat(preds=y_pred_tensor,\n",
    "#                         target=test_labels)\n",
    "labels = np.array([0,1,2])\n",
    "confmat = confusion_matrix(y_labels_tensor, y_pred_tensor, labels=labels)\n",
    "\n",
    "# 3. Plot the confusion matrix\n",
    "fig, ax = plot_confusion_matrix(\n",
    "    conf_mat=confmat, # matplotlib likes working with NumPy \n",
    "    class_names=class_names, # turn the row and column labels into class names\n",
    "    figsize=(10, 7)\n",
    ");\n",
    "\n",
    "print(f\"Test loss: {test_loss}\")\n",
    "print(f\"Test precision: {test_precision}\")\n",
    "print(f\"Test recall: {test_recall}\")\n",
    "print(f\"Test F1score: {test_f1_score}\")\n",
    "#print(f\"Test Kappa: {test_kappa}\")\n",
    "print(f\"Test Accuracy: {test_acc}\")\n",
    "print(f\"Test Logits: {y_logit}\")\n",
    "print(f\"Test Predictions: {y_pred}\")\n",
    "print(f\"Test Labels: {y}\")"
   ]
  },
  {
   "cell_type": "code",
   "execution_count": null,
   "id": "8d4173b3",
   "metadata": {},
   "outputs": [],
   "source": [
    "len(y_preds)"
   ]
  },
  {
   "cell_type": "code",
   "execution_count": null,
   "id": "7588116f",
   "metadata": {},
   "outputs": [],
   "source": [
    "y_set.cpu()"
   ]
  },
  {
   "cell_type": "code",
   "execution_count": null,
   "id": "1c195b3e",
   "metadata": {},
   "outputs": [],
   "source": [
    "test_dataset.labels"
   ]
  },
  {
   "cell_type": "code",
   "execution_count": null,
   "id": "975ec08c",
   "metadata": {},
   "outputs": [],
   "source": []
  },
  {
   "cell_type": "code",
   "execution_count": null,
   "id": "6da05604",
   "metadata": {},
   "outputs": [],
   "source": [
    "y_preds = []\n",
    "y_labels = []\n",
    "labels = np.array([0,1,2])\n",
    "test_loss, test_precision, test_recall, test_f1_score, test_acc = 0, 0, 0, 0, 0\n",
    "count = 0\n",
    "model.eval()\n",
    "with torch.inference_mode():\n",
    "    for X, y in tqdm(test_dataloader, desc=\"Making predictions\"):\n",
    "        # Send data and targets to target device\n",
    "        X, y = X.to(device), y.to(device)\n",
    "        # Do the forward pass\n",
    "        y_logit = model(X)\n",
    "        # Turn predictions from logits -> prediction probabilities -> predictions labels\n",
    "        y_pred = torch.softmax(y_logit, dim=1).argmax(dim=1)\n",
    "        # Put predictions on CPU for evaluation\n",
    "        y_preds.append(y_pred.cpu())\n",
    "        y_labels.append(y.cpu())\n",
    "        \n",
    "        #other metrics\n",
    "        test_acc += ((y_pred == y).sum().item()/len(y_pred))\n",
    "        y_pred_class = y_pred.detach().cpu().numpy() \n",
    "        y_class = y.detach().cpu().numpy()\n",
    "        test_precision += precision_score(y_class, y_pred_class, average='macro', zero_division=1, labels=labels)\n",
    "        test_recall += recall_score(y_class, y_pred_class, average='macro', zero_division=1, labels=labels)\n",
    "        #test_f1_score += f1_score(y_class, y_pred_class, average='macro', zero_division=1, labels=labels)\n",
    "        \n",
    "        #if count >= 1:\n",
    "        #    y_set = torch.cat((y_set, y))\n",
    "        #    count = count + 1\n",
    "        #else:\n",
    "        #    y_set = y\n",
    "        #    count = count + 1\n",
    "        \n",
    "test_loss = test_loss / len(test_dataloader)\n",
    "test_precision = test_precision / len(test_dataloader)\n",
    "test_recall = test_recall / len(test_dataloader)\n",
    "#test_f1_score = test_f1_score / len(test_dataloader)\n",
    "#test_kappa = test_kappa / len(dataloader)\n",
    "test_acc = test_acc / len(test_dataloader)\n",
    "# Concatenate list of predictions into a tensor\n",
    "y_pred_tensor = torch.cat(y_preds)\n",
    "test_f1_score = f1_score(y_set.detach().cpu().numpy(), y_pred_tensor.cpu().numpy(), average='macro', zero_division=0, labels=[0,1,2])\n",
    "\n",
    "# Print classification report\n",
    "y_true = y_set.detach().cpu().numpy()\n",
    "report = classification_report(y_true, y_pred_tensor.cpu().numpy(), target_names=class_names)\n",
    "print(report)"
   ]
  },
  {
   "cell_type": "code",
   "execution_count": null,
   "id": "6ae97fab",
   "metadata": {},
   "outputs": [],
   "source": [
    "test_f1_score"
   ]
  },
  {
   "cell_type": "code",
   "execution_count": null,
   "id": "7ebafd9b",
   "metadata": {},
   "outputs": [],
   "source": [
    "make = (y_class == y_pred_class)\n",
    "make"
   ]
  },
  {
   "cell_type": "code",
   "execution_count": null,
   "id": "4f8aa759",
   "metadata": {},
   "outputs": [],
   "source": [
    "torch.softmax(y_logit, dim=1).argmax(dim=1)"
   ]
  },
  {
   "cell_type": "code",
   "execution_count": null,
   "id": "f90a54b2",
   "metadata": {},
   "outputs": [],
   "source": [
    "y"
   ]
  },
  {
   "cell_type": "code",
   "execution_count": null,
   "id": "5a806154",
   "metadata": {},
   "outputs": [],
   "source": [
    "test = (y_pred == y).sum().item()/16"
   ]
  },
  {
   "cell_type": "code",
   "execution_count": null,
   "id": "1da35c56",
   "metadata": {},
   "outputs": [],
   "source": [
    "test"
   ]
  },
  {
   "cell_type": "code",
   "execution_count": null,
   "id": "b1eb246e",
   "metadata": {},
   "outputs": [],
   "source": [
    " y_pred_class = y_pred.detach().cpu().numpy() "
   ]
  },
  {
   "cell_type": "code",
   "execution_count": null,
   "id": "602e096f",
   "metadata": {},
   "outputs": [],
   "source": [
    "y_pred_class"
   ]
  },
  {
   "cell_type": "code",
   "execution_count": null,
   "id": "eaf1af09",
   "metadata": {},
   "outputs": [],
   "source": []
  }
 ],
 "metadata": {
  "kernelspec": {
   "display_name": "Python 3 (ipykernel)",
   "language": "python",
   "name": "python3"
  },
  "language_info": {
   "codemirror_mode": {
    "name": "ipython",
    "version": 3
   },
   "file_extension": ".py",
   "mimetype": "text/x-python",
   "name": "python",
   "nbconvert_exporter": "python",
   "pygments_lexer": "ipython3",
   "version": "3.9.16"
  }
 },
 "nbformat": 4,
 "nbformat_minor": 5
}
