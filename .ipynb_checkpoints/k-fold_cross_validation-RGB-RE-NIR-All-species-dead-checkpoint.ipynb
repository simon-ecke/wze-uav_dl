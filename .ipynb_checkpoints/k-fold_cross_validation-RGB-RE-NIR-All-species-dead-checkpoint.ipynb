{
 "cells": [
  {
   "cell_type": "markdown",
   "id": "c1acdaa3",
   "metadata": {},
   "source": [
    "# WZE-UAV Image Classification using Deep Learning"
   ]
  },
  {
   "cell_type": "code",
   "execution_count": 5,
   "id": "2159aac5",
   "metadata": {},
   "outputs": [],
   "source": [
    "import os\n",
    "import gc\n",
    "import glob\n",
    "import numpy as np\n",
    "from pathlib import Path\n",
    "from tqdm.auto import tqdm\n",
    "from sklearn.metrics import confusion_matrix, classification_report\n",
    "from sklearn.model_selection import KFold"
   ]
  },
  {
   "cell_type": "code",
   "execution_count": 6,
   "id": "0026f7a9",
   "metadata": {},
   "outputs": [],
   "source": [
    "import torch\n",
    "import torchvision.transforms as T\n",
    "import torchvision\n",
    "from torch import nn\n",
    "from torch.utils.data import DataLoader\n",
    "from torchvision import datasets, transforms\n",
    "from torch.utils.data import Dataset\n",
    "import torch.optim as optim\n",
    "from torch.optim.lr_scheduler import ExponentialLR\n",
    "from mlxtend.plotting import plot_confusion_matrix"
   ]
  },
  {
   "cell_type": "code",
   "execution_count": 7,
   "id": "b160d7b4",
   "metadata": {},
   "outputs": [],
   "source": [
    "import wze_uav.data_loader as data_loader\n",
    "import wze_uav.models as models\n",
    "from wze_uav.engine import *\n",
    "from wze_uav.utils2 import *\n",
    "#from wze_uav.log_writer import create_writer\n",
    "from wze_uav.datasplit import *\n",
    "from efficientnet import model_effnet #for custom effnet with n_channels input\n",
    "import wandb"
   ]
  },
  {
   "cell_type": "markdown",
   "id": "2bd4fb2f",
   "metadata": {},
   "source": [
    "#### Get PyTorch version"
   ]
  },
  {
   "cell_type": "code",
   "execution_count": 8,
   "id": "c10886b1",
   "metadata": {},
   "outputs": [
    {
     "name": "stdout",
     "output_type": "stream",
     "text": [
      "torch version: 1.13.1+cu116\n",
      "torchvision version: 0.14.1+cu116\n"
     ]
    }
   ],
   "source": [
    "print(f\"torch version: {torch.__version__}\")\n",
    "print(f\"torchvision version: {torchvision.__version__}\")"
   ]
  },
  {
   "cell_type": "markdown",
   "id": "aa6a83cf",
   "metadata": {},
   "source": [
    "#### Preparing device agnostic code "
   ]
  },
  {
   "cell_type": "code",
   "execution_count": 9,
   "id": "13d5de88",
   "metadata": {},
   "outputs": [
    {
     "name": "stdout",
     "output_type": "stream",
     "text": [
      "cuda\n",
      "Index of current divice: 0\n",
      "Number of GPUs available: 1\n",
      "GPU Model: Quadro RTX 8000\n"
     ]
    }
   ],
   "source": [
    "# ensure device agnostic code\n",
    "device = 'cuda' if torch.cuda.is_available() else 'cpu'\n",
    "print(device)\n",
    "\n",
    "# get index of currently selected device\n",
    "print(f\"Index of current divice: {torch.cuda.current_device()}\")\n",
    "# get number of GPUs available\n",
    "print(f\"Number of GPUs available: {torch.cuda.device_count()}\")\n",
    "# get the name of the device\n",
    "print(f\"GPU Model: {torch.cuda.get_device_name(0)}\")"
   ]
  },
  {
   "cell_type": "markdown",
   "id": "8ef6b169",
   "metadata": {},
   "source": [
    "#### Login to Weights & Biases to track results"
   ]
  },
  {
   "cell_type": "code",
   "execution_count": 10,
   "id": "a59d27cf",
   "metadata": {},
   "outputs": [
    {
     "name": "stderr",
     "output_type": "stream",
     "text": [
      "Failed to detect the name of this notebook, you can set it manually with the WANDB_NOTEBOOK_NAME environment variable to enable code saving.\n",
      "\u001b[34m\u001b[1mwandb\u001b[0m: Currently logged in as: \u001b[33msimon-ecke\u001b[0m. Use \u001b[1m`wandb login --relogin`\u001b[0m to force relogin\n"
     ]
    },
    {
     "data": {
      "text/html": [
       "wandb version 0.15.1 is available!  To upgrade, please run:\n",
       " $ pip install wandb --upgrade"
      ],
      "text/plain": [
       "<IPython.core.display.HTML object>"
      ]
     },
     "metadata": {},
     "output_type": "display_data"
    },
    {
     "data": {
      "text/html": [
       "Tracking run with wandb version 0.14.2"
      ],
      "text/plain": [
       "<IPython.core.display.HTML object>"
      ]
     },
     "metadata": {},
     "output_type": "display_data"
    },
    {
     "data": {
      "text/html": [
       "Run data is saved locally in <code>C:\\Users\\lwfeckesim\\01_PyTorch\\wze-uav\\wze-uav-master\\wandb\\run-20230505_092711-ywjkma9r</code>"
      ],
      "text/plain": [
       "<IPython.core.display.HTML object>"
      ]
     },
     "metadata": {},
     "output_type": "display_data"
    },
    {
     "data": {
      "text/html": [
       "Syncing run <strong><a href='https://wandb.ai/simon-ecke/wze-uav-species/runs/ywjkma9r' target=\"_blank\">old-trooper-34</a></strong> to <a href='https://wandb.ai/simon-ecke/wze-uav-species' target=\"_blank\">Weights & Biases</a> (<a href='https://wandb.me/run' target=\"_blank\">docs</a>)<br/>"
      ],
      "text/plain": [
       "<IPython.core.display.HTML object>"
      ]
     },
     "metadata": {},
     "output_type": "display_data"
    },
    {
     "data": {
      "text/html": [
       " View project at <a href='https://wandb.ai/simon-ecke/wze-uav-species' target=\"_blank\">https://wandb.ai/simon-ecke/wze-uav-species</a>"
      ],
      "text/plain": [
       "<IPython.core.display.HTML object>"
      ]
     },
     "metadata": {},
     "output_type": "display_data"
    },
    {
     "data": {
      "text/html": [
       " View run at <a href='https://wandb.ai/simon-ecke/wze-uav-species/runs/ywjkma9r' target=\"_blank\">https://wandb.ai/simon-ecke/wze-uav-species/runs/ywjkma9r</a>"
      ],
      "text/plain": [
       "<IPython.core.display.HTML object>"
      ]
     },
     "metadata": {},
     "output_type": "display_data"
    },
    {
     "data": {
      "text/html": [
       "<button onClick=\"this.nextSibling.style.display='block';this.style.display='none';\">Display W&B run</button><iframe src='https://wandb.ai/simon-ecke/wze-uav-species/runs/ywjkma9r?jupyter=true' style='border:none;width:100%;height:420px;display:none;'></iframe>"
      ],
      "text/plain": [
       "<wandb.sdk.wandb_run.Run at 0x2b3187ce0d0>"
      ]
     },
     "execution_count": 10,
     "metadata": {},
     "output_type": "execute_result"
    }
   ],
   "source": [
    "# IMPORTANT: The proxy needs to be set in anaconda!\n",
    "# copy paste this in anaconda and restart jupyter notebook\n",
    "#set http_proxy=http://www-proxy.bayern.de:80\n",
    "#set https_proxy=http://www-proxy.bayern.de:80\n",
    "wandb.login()\n",
    "#wandb.init(settings=wandb.Settings(start_method=\"thread\"))\n",
    "wandb.init(project='wze-uav-species', entity='simon-ecke')"
   ]
  },
  {
   "cell_type": "markdown",
   "id": "a26a6a34",
   "metadata": {},
   "source": [
    "#### Ensure reproducibility "
   ]
  },
  {
   "cell_type": "code",
   "execution_count": 11,
   "id": "dd4656a7",
   "metadata": {},
   "outputs": [],
   "source": [
    "# for more information, see also: https://pytorch.org/docs/stable/notes/randomness.html\n",
    "\n",
    "# Set seeds\n",
    "def set_seeds(seed: int=42):\n",
    "    \"\"\"Sets random sets for torch operations.\n",
    "\n",
    "    Args:\n",
    "        seed (int, optional): Random seed to set. Defaults to 42.\n",
    "    \"\"\"\n",
    "    # Set the seed for general torch operations\n",
    "    torch.manual_seed(seed)\n",
    "    # Set the seed for CUDA torch operations (ones that happen on the GPU)\n",
    "    torch.cuda.manual_seed(seed)\n",
    "    # seed for numpy\n",
    "    np.random.seed(seed)\n",
    "\n",
    "set_seeds(42) \n",
    "\n",
    "# Set to true -> might speed up the process but should be set to False if reproducible results are desired\n",
    "torch.backends.cudnn.benchmark = False\n"
   ]
  },
  {
   "cell_type": "markdown",
   "id": "8be33671",
   "metadata": {},
   "source": [
    "#### Define file directory"
   ]
  },
  {
   "cell_type": "code",
   "execution_count": 12,
   "id": "30645f36",
   "metadata": {},
   "outputs": [],
   "source": [
    "#####################################################################################\n",
    "# 3 channel input (r-g-b)\n",
    "#data_path = r\"D:\\Drohnendaten\\10_WZE-UAV\\Auswertung_findatree\\Datasplit\\ROI\\rgb\"\n",
    "\n",
    "# 4 channel input (r-g-b-nir)\n",
    "#data_path = r\"D:\\Drohnendaten\\10_WZE-UAV\\Auswertung_findatree\\Datasplit\\ROI\\rgb-nir\"\n",
    "\n",
    "# 5 channel input (r-g-b-re-nir)\n",
    "data_path = r\"D:\\Drohnendaten\\10_WZE-UAV\\Auswertung_findatree\\Datasplit\\ROI\\rgb-re-nir\"\n",
    "\n",
    "#####################################################################################"
   ]
  },
  {
   "cell_type": "markdown",
   "id": "4560ce64",
   "metadata": {},
   "source": [
    "#### Get all file paths"
   ]
  },
  {
   "cell_type": "code",
   "execution_count": 13,
   "id": "aa072e4c",
   "metadata": {},
   "outputs": [],
   "source": [
    "fn_list = os.listdir(data_path)\n",
    "path_list = []\n",
    "# Iterate over all datafiles\n",
    "for year in fn_list:\n",
    "    year_dir = f'{data_path}\\\\{year}'\n",
    "    for filename in os.listdir(year_dir):\n",
    "        path = f'{year_dir}\\\\{filename}'\n",
    "        path_list.append(path)"
   ]
  },
  {
   "cell_type": "markdown",
   "id": "f3937a44",
   "metadata": {},
   "source": [
    "#### Create unique hash IDs for every individual tree"
   ]
  },
  {
   "cell_type": "code",
   "execution_count": 14,
   "id": "8a50f1d7",
   "metadata": {},
   "outputs": [
    {
     "data": {
      "application/vnd.jupyter.widget-view+json": {
       "model_id": "c2a499ea68f04ac4a9d62217a258498e",
       "version_major": 2,
       "version_minor": 0
      },
      "text/plain": [
       "Creating unique tree IDs...:   0%|          | 0/647 [00:00<?, ?it/s]"
      ]
     },
     "metadata": {},
     "output_type": "display_data"
    }
   ],
   "source": [
    "hashID_dict = data_loader.get_unique_treeID(path_list)"
   ]
  },
  {
   "cell_type": "markdown",
   "id": "6f4cea00",
   "metadata": {},
   "source": [
    "#### Import all imagery, labels and other features from hdf5 files"
   ]
  },
  {
   "cell_type": "code",
   "execution_count": 15,
   "id": "94e3eecf",
   "metadata": {},
   "outputs": [
    {
     "data": {
      "application/vnd.jupyter.widget-view+json": {
       "model_id": "7396f372e3f343dd9057cc39a5515e48",
       "version_major": 2,
       "version_minor": 0
      },
      "text/plain": [
       "Processing hdf5 datasets:   0%|          | 0/647 [00:00<?, ?it/s]"
      ]
     },
     "metadata": {},
     "output_type": "display_data"
    }
   ],
   "source": [
    "image_set, label_set, species_set, kkl_set, bk_set, hash_id = data_loader.hdf5_to_img_label_species(path_list,\n",
    "                                                                                               hashID_dict,\n",
    "                                                                                               load_sets=[\"images_masked\"])"
   ]
  },
  {
   "cell_type": "markdown",
   "id": "6a90e2b7",
   "metadata": {},
   "source": [
    "#### Convert nbv to classes"
   ]
  },
  {
   "cell_type": "code",
   "execution_count": 16,
   "id": "0224972a",
   "metadata": {},
   "outputs": [],
   "source": [
    "nbv_set = label_set\n",
    "label_set = species_to_classes(species_set, nbv_set)"
   ]
  },
  {
   "cell_type": "markdown",
   "id": "c6b4cd85",
   "metadata": {},
   "source": [
    "#### Split data into a sub set and a test dataset"
   ]
  },
  {
   "cell_type": "code",
   "execution_count": 17,
   "id": "d06eda54",
   "metadata": {},
   "outputs": [
    {
     "name": "stdout",
     "output_type": "stream",
     "text": [
      "ORIGINAL POSITIVE RATIO: 2.26717598033978\n",
      "Fold : 0\n",
      "TRAIN POSITIVE RATIO: 2.2408262766230433\n",
      "TEST POSITIVE RATIO : 2.3984025559105433\n",
      "LENGTH TRAIN GROUPS : 5903\n",
      "LENGTH TEST GROUPS  : 1177\n",
      "Number of True in sub_indices: 15588\n",
      "Number of False in sub_indices: 3130\n",
      "Number of True in test_indices: 1178\n",
      "Number of False in test_indices: 17540\n",
      "Check shapes:\n",
      "\n",
      "Images sub dataset: (15588, 250, 250, 5)\n",
      "Labels sub dataset: (15588, 1)\n",
      "\n",
      "Images test dataset: (1178, 250, 250, 5)\n",
      "Labels test dataset: (1178, 1)\n",
      "\n",
      "--------------------------------------------------\n",
      "Check if the split was stratified: (random_state=42)\n",
      "Healthy trees in sub dataset: 5811\n",
      "Stressed trees in sub dataset: 3807\n",
      "Dead trees in sub dataset: 571\n",
      "Healthy trees in test dataset: 401\n",
      "Stressed trees in test dataset: 302\n",
      "Dead trees in test dataset: 39\n",
      "Ratio health trees in test dataset: 0.0690070555842368\n",
      "Ratio stressed trees in test dataset: 0.07932755450485947\n",
      "Ratio dead trees in test dataset: 0.06830122591943957\n"
     ]
    }
   ],
   "source": [
    "sub_image_set, sub_label_set, sub_hash_id, sub_species_set, test_image_set, test_label_set, test_hash_id, test_species_set = data_split(image_set, label_set, hash_id, species_set, n_splits=6, random_state=42, seed=2)\n"
   ]
  },
  {
   "cell_type": "markdown",
   "id": "c48fbb5b",
   "metadata": {},
   "source": [
    "#### Check if any hash ID is in both sub and test dataset"
   ]
  },
  {
   "cell_type": "code",
   "execution_count": 18,
   "id": "874367cf",
   "metadata": {},
   "outputs": [
    {
     "name": "stdout",
     "output_type": "stream",
     "text": [
      "There are no hash_id values in both train and test datasets. The datasplit was successful\n"
     ]
    }
   ],
   "source": [
    "hash_set = set(sub_hash_id[:,0].flatten())\n",
    "test_hash_set = set(test_hash_id[:,0].flatten())\n",
    "intersection = hash_set.intersection(test_hash_set)\n",
    "if intersection:\n",
    "    print(f\"Hash_id values in both train and test sets: {len(intersection)}\")\n",
    "else:\n",
    "    print(\"There are no hash_id values in both train and test datasets. The datasplit was successful\")"
   ]
  },
  {
   "cell_type": "markdown",
   "id": "9e5b64d4",
   "metadata": {},
   "source": [
    "#### Check feature distribution of the Test dataset"
   ]
  },
  {
   "cell_type": "code",
   "execution_count": 19,
   "id": "a33ff5cb",
   "metadata": {},
   "outputs": [
    {
     "name": "stdout",
     "output_type": "stream",
     "text": [
      "Test dataset\n",
      "Test data Picea abies: 401\n",
      "Test data Pinus sylvestris: 302\n",
      "Test data Abies alba: 39\n",
      "Test data Larix: 31\n",
      "Test data Fagus sylvatica: 175\n",
      "Test data Quercus robur/petraea: 96\n",
      "Test data Acer pseudoplatanus: 16\n",
      "Test data Betula pendula: 20\n",
      "Test data other conifers: 15\n",
      "Test data other broad-leaved trees: 54\n",
      "Test data dead trees: 29\n",
      "--------------------------------------------------\n",
      "Remaining dataset\n",
      "Remaining data Picea abies: 5811\n",
      "Remaining data Pinus sylvestris: 3807\n",
      "Remaining data Abies alba: 571\n",
      "Remaining data Larix: 412\n",
      "Remaining data Fagus sylvatica: 2097\n",
      "Remaining data Quercus robur/petraea: 1127\n",
      "Remaining data Acer pseudoplatanus: 230\n",
      "Remaining data Betula pendula: 224\n",
      "Remaining data other conifers: 256\n",
      "Remaining data other broad-leaved trees: 804\n",
      "Remaining data dead trees: 249\n",
      "--------------------------------------------------\n"
     ]
    }
   ],
   "source": [
    "def count_occurrences(data, value):\n",
    "    count = 0\n",
    "    for item in data:\n",
    "        if item == value:\n",
    "            count += 1\n",
    "    return count\n",
    "\n",
    "print(\"Test dataset\")\n",
    "print(f\"Test data Picea abies: {count_occurrences(test_label_set, 0)}\")\n",
    "print(f\"Test data Pinus sylvestris: {count_occurrences(test_label_set, 1)}\")\n",
    "print(f\"Test data Abies alba: {count_occurrences(test_label_set, 2)}\")\n",
    "print(f\"Test data Larix: {count_occurrences(test_label_set, 3)}\")\n",
    "print(f\"Test data Fagus sylvatica: {count_occurrences(test_label_set, 4)}\")\n",
    "print(f\"Test data Quercus robur/petraea: {count_occurrences(test_label_set, 5)}\")\n",
    "print(f\"Test data Acer pseudoplatanus: {count_occurrences(test_label_set, 6)}\")\n",
    "print(f\"Test data Betula pendula: {count_occurrences(test_label_set, 7)}\")\n",
    "print(f\"Test data other conifers: {count_occurrences(test_label_set, 8)}\")\n",
    "print(f\"Test data other broad-leaved trees: {count_occurrences(test_label_set, 9)}\")\n",
    "print(f\"Test data dead trees: {count_occurrences(test_label_set, 10)}\")\n",
    "print(\"-\"*50)\n",
    "\n",
    "print(\"Remaining dataset\")\n",
    "print(f\"Remaining data Picea abies: {count_occurrences(sub_label_set, 0)}\")\n",
    "print(f\"Remaining data Pinus sylvestris: {count_occurrences(sub_label_set, 1)}\")\n",
    "print(f\"Remaining data Abies alba: {count_occurrences(sub_label_set, 2)}\")\n",
    "print(f\"Remaining data Larix: {count_occurrences(sub_label_set, 3)}\")\n",
    "print(f\"Remaining data Fagus sylvatica: {count_occurrences(sub_label_set, 4)}\")\n",
    "print(f\"Remaining data Quercus robur/petraea: {count_occurrences(sub_label_set, 5)}\")\n",
    "print(f\"Remaining data Acer pseudoplatanus: {count_occurrences(sub_label_set, 6)}\")\n",
    "print(f\"Remaining data Betula pendula: {count_occurrences(sub_label_set, 7)}\")\n",
    "print(f\"Remaining data other conifers: {count_occurrences(sub_label_set, 8)}\")\n",
    "print(f\"Remaining data other broad-leaved trees: {count_occurrences(sub_label_set, 9)}\")\n",
    "print(f\"Remaining data dead trees: {count_occurrences(sub_label_set, 10)}\")\n",
    "print(\"-\"*50)"
   ]
  },
  {
   "cell_type": "code",
   "execution_count": 20,
   "id": "e08fcf57",
   "metadata": {},
   "outputs": [],
   "source": [
    "# train transform with augmentation. \n",
    "transform_train = transforms.Compose([transforms.ToTensor(), transforms.RandomHorizontalFlip(p=0.5), transforms.RandomVerticalFlip(p=0.5),\n",
    "                                      transforms.RandomRotation(degrees=[0,360])])\n",
    "\n",
    "# test and val dataset transform without augmentation. \n",
    "transform = transforms.Compose([transforms.ToTensor()])\n",
    "\n",
    "# class names need to fit the customDataset class used e.g. 3 classes -> use CustomDataset3Classes\n",
    "#class_names = ['healthy', 'slightly_stressed', 'moderately_stressed', 'highly_stressed', 'dead']\n",
    "#class_names = ['healthy', 'moderately_stressed', 'highly_stressed', 'dead']\n",
    "#class_names = ['healthy', 'moderate stress', 'severe stress', 'dead']\n",
    "class_names = ['Picea abies', 'Pinus sylvestris', 'Abies alba', 'Larix decidua/kaempferi', 'Fagus sylvatica', 'Quercus robur/petraea', 'Acer pseudoplatanus', 'Betula pendula', 'other conifers', 'other broad-leaved trees', 'dead trees']\n",
    "\n",
    "# set seeds\n",
    "g = torch.Generator()\n",
    "g.manual_seed(42)\n",
    "NUM_WORKERS=3 # should be changed, depending on the system used\n",
    "batch_size=32"
   ]
  },
  {
   "cell_type": "markdown",
   "id": "31779c05",
   "metadata": {},
   "source": [
    "#### Define variables and parameters"
   ]
  },
  {
   "cell_type": "code",
   "execution_count": 21,
   "id": "10ae4379",
   "metadata": {},
   "outputs": [
    {
     "name": "stdout",
     "output_type": "stream",
     "text": [
      "Memory allocated: 0 bytes\n"
     ]
    }
   ],
   "source": [
    "# 1. Define number of epochs\n",
    "epochs = 50\n",
    "n_bands = sub_image_set[0].shape[2] # get number of bands\n",
    "\n",
    "# 2. Define model\n",
    "num_classes = len(class_names)\n",
    "unfreeze = True # all layer weights get updated\n",
    "dropout_rate = 0.5 #define dropout rate\n",
    "model_name = \"EffNet_b7_RGB-RE-NIR-all_species-dead\"\n",
    "\n",
    "# 3. Define loss, optimizer and learning rate scheduler\n",
    "lr = 0.001 # define learning rate\n",
    "min_lr = 1e-6 # minimum learning rate threshold\n",
    "gamma = 0.75 # how fast the learning rate decreases per epoch (low number=faster decrease)\n",
    "patience = 10\n",
    "\n",
    "# 4. Create target folder name were to save the tensorboard event files\n",
    "experiment_name = 'RGB-RE-NIR-all_species-dead'\n",
    "extra = \"RGB-RE-NIR-all_species-dead\"\n",
    "\n",
    "#----------------------------------------------------------------------\n",
    "#torch.cuda.empty_cache()\n",
    "print(f\"Memory allocated: {torch.cuda.memory_allocated()} bytes\") "
   ]
  },
  {
   "cell_type": "markdown",
   "id": "09768b1a",
   "metadata": {},
   "source": [
    "#### Run k-Fold cross-validation on EfficientNet"
   ]
  },
  {
   "cell_type": "code",
   "execution_count": null,
   "id": "9c29c81d",
   "metadata": {},
   "outputs": [
    {
     "name": "stdout",
     "output_type": "stream",
     "text": [
      "ORIGINAL POSITIVE RATIO: 2.2408262766230433\n",
      "Fold : 1\n",
      "TRAIN POSITIVE RATIO: 2.2553841208614593\n",
      "VAL POSITIVE RATIO  : 2.183206106870229\n",
      "LENGTH TRAIN GROUPS : 4722\n",
      "LENGTH VAL GROUPS   : 1181\n"
     ]
    },
    {
     "data": {
      "text/html": [
       "Finishing last run (ID:ywjkma9r) before initializing another..."
      ],
      "text/plain": [
       "<IPython.core.display.HTML object>"
      ]
     },
     "metadata": {},
     "output_type": "display_data"
    },
    {
     "data": {
      "text/html": [
       "Waiting for W&B process to finish... <strong style=\"color:green\">(success).</strong>"
      ],
      "text/plain": [
       "<IPython.core.display.HTML object>"
      ]
     },
     "metadata": {},
     "output_type": "display_data"
    },
    {
     "data": {
      "text/html": [
       " View run <strong style=\"color:#cdcd00\">old-trooper-34</strong> at: <a href='https://wandb.ai/simon-ecke/wze-uav-species/runs/ywjkma9r' target=\"_blank\">https://wandb.ai/simon-ecke/wze-uav-species/runs/ywjkma9r</a><br/>Synced 5 W&B file(s), 0 media file(s), 0 artifact file(s) and 0 other file(s)"
      ],
      "text/plain": [
       "<IPython.core.display.HTML object>"
      ]
     },
     "metadata": {},
     "output_type": "display_data"
    },
    {
     "data": {
      "text/html": [
       "Find logs at: <code>.\\wandb\\run-20230505_092711-ywjkma9r\\logs</code>"
      ],
      "text/plain": [
       "<IPython.core.display.HTML object>"
      ]
     },
     "metadata": {},
     "output_type": "display_data"
    },
    {
     "data": {
      "text/html": [
       "Successfully finished last run (ID:ywjkma9r). Initializing new run:<br/>"
      ],
      "text/plain": [
       "<IPython.core.display.HTML object>"
      ]
     },
     "metadata": {},
     "output_type": "display_data"
    },
    {
     "data": {
      "application/vnd.jupyter.widget-view+json": {
       "model_id": "b28e9dbd223b444d8aafcc557c345b2c",
       "version_major": 2,
       "version_minor": 0
      },
      "text/plain": [
       "VBox(children=(Label(value='Waiting for wandb.init()...\\r'), FloatProgress(value=0.016666666666666666, max=1.0…"
      ]
     },
     "metadata": {},
     "output_type": "display_data"
    },
    {
     "data": {
      "text/html": [
       "wandb version 0.15.1 is available!  To upgrade, please run:\n",
       " $ pip install wandb --upgrade"
      ],
      "text/plain": [
       "<IPython.core.display.HTML object>"
      ]
     },
     "metadata": {},
     "output_type": "display_data"
    },
    {
     "data": {
      "text/html": [
       "Tracking run with wandb version 0.14.2"
      ],
      "text/plain": [
       "<IPython.core.display.HTML object>"
      ]
     },
     "metadata": {},
     "output_type": "display_data"
    },
    {
     "data": {
      "text/html": [
       "Run data is saved locally in <code>C:\\Users\\lwfeckesim\\01_PyTorch\\wze-uav\\wze-uav-master\\wandb\\run-20230505_102559-2kffipwv</code>"
      ],
      "text/plain": [
       "<IPython.core.display.HTML object>"
      ]
     },
     "metadata": {},
     "output_type": "display_data"
    },
    {
     "data": {
      "text/html": [
       "Syncing run <strong><a href='https://wandb.ai/simon-ecke/wze-uav-species/runs/2kffipwv' target=\"_blank\">fold_1_RGB-RE-NIR-all_species-dead</a></strong> to <a href='https://wandb.ai/simon-ecke/wze-uav-species' target=\"_blank\">Weights & Biases</a> (<a href='https://wandb.me/run' target=\"_blank\">docs</a>)<br/>"
      ],
      "text/plain": [
       "<IPython.core.display.HTML object>"
      ]
     },
     "metadata": {},
     "output_type": "display_data"
    },
    {
     "data": {
      "text/html": [
       " View project at <a href='https://wandb.ai/simon-ecke/wze-uav-species' target=\"_blank\">https://wandb.ai/simon-ecke/wze-uav-species</a>"
      ],
      "text/plain": [
       "<IPython.core.display.HTML object>"
      ]
     },
     "metadata": {},
     "output_type": "display_data"
    },
    {
     "data": {
      "text/html": [
       " View run at <a href='https://wandb.ai/simon-ecke/wze-uav-species/runs/2kffipwv' target=\"_blank\">https://wandb.ai/simon-ecke/wze-uav-species/runs/2kffipwv</a>"
      ],
      "text/plain": [
       "<IPython.core.display.HTML object>"
      ]
     },
     "metadata": {},
     "output_type": "display_data"
    },
    {
     "name": "stdout",
     "output_type": "stream",
     "text": [
      "There are no same hash_id values in train, val or test datasets. The datasplit was successful\n",
      "Check shapes:\n",
      "\n",
      "Images train dataset: (12444, 250, 250, 5)\n",
      "Labels train dataset: (12444, 1)\n",
      "\n",
      "Images validation dataset: (1181, 250, 250, 5)\n",
      "Labels validation dataset: (1181, 1)\n",
      "\n",
      "--------------------------------------------------\n",
      "Check if the split was stratified: (random_state=42)\n",
      "Healthy trees in train dataset: 4597\n",
      "Moderately stressed trees in train dataset: 3047\n",
      "Severely stressed trees in train dataset: 460\n",
      "Dead trees in train dataset: 342\n",
      "Healthy trees in validation dataset: 465\n",
      "Moderately stressed trees in validation dataset: 281\n",
      "Severely stressed trees in validation dataset: 44\n",
      "Dead trees in validation dataset: 24\n",
      "Ratio health trees in validation dataset: 0.08002065049044915\n",
      "Ratio moderately stressed trees in validation dataset: 0.07381140005253481\n",
      "Ratio severely stressed trees in validation dataset: 0.4921190893169877\n",
      "Ratio dead trees in validation dataset: 0.10679611650485436\n",
      "--------------------------------------------------\n",
      "\n",
      "Creating datasets for fold: 1\n",
      "\n",
      "Creating dataloaders for fold: 1\n",
      "\n",
      "Loaded pretrained weights for efficientnet-b7\n",
      "\n",
      "[INFO] Fold number: 1\n",
      "[INFO] Number of epochs: 50\n",
      "[INFO] Batch_size: 32\n",
      "[INFO] Number of bands: 5\n",
      "[INFO] Dropout rate: 0.5\n",
      "[INFO] Gamma learning rate: 0.75\n",
      "[INFO] Memory allocated: 0 bytes\n"
     ]
    },
    {
     "data": {
      "application/vnd.jupyter.widget-view+json": {
       "model_id": "4aaefb4778b94f2fa9e3c8fab299eef9",
       "version_major": 2,
       "version_minor": 0
      },
      "text/plain": [
       "  0%|          | 0/50 [00:00<?, ?it/s]"
      ]
     },
     "metadata": {},
     "output_type": "display_data"
    },
    {
     "name": "stdout",
     "output_type": "stream",
     "text": [
      "Epoch: 1 \n",
      "Learning rate: 0.001\n",
      "Train loss: 1.3140 | Train precision: 0.3333 | Train recall: 0.2874 | Train f1score: 0.2879 | Train acc: 0.5515 | Train kappa: 0.5078 \n",
      "Val loss: 1.8579 | Val precision: 0.1118 | Val recall: 0.1852 | Val f1score: 0.1118 | Val acc: 0.3420 | Val kappa: -0.0067 \n",
      "\n",
      "Epoch: 2 \n",
      "Learning rate: 0.00075\n",
      "Train loss: 1.0242 | Train precision: 0.4663 | Train recall: 0.4093 | Train f1score: 0.4116 | Train acc: 0.6539 | Train kappa: 0.6224 \n",
      "Val loss: 1.4481 | Val precision: 0.2874 | Val recall: 0.2651 | Val f1score: 0.2192 | Val acc: 0.5686 | Val kappa: 0.2313 \n",
      "\n",
      "Epoch: 3 \n",
      "Learning rate: 0.0005625000000000001\n",
      "Train loss: 0.8746 | Train precision: 0.5669 | Train recall: 0.4724 | Train f1score: 0.4808 | Train acc: 0.7030 | Train kappa: 0.6820 \n",
      "Val loss: 0.7421 | Val precision: 0.5039 | Val recall: 0.4366 | Val f1score: 0.4494 | Val acc: 0.7491 | Val kappa: 0.6877 \n",
      "\n",
      "Epoch: 4 \n",
      "Learning rate: 0.000421875\n",
      "Train loss: 0.7755 | Train precision: 0.6189 | Train recall: 0.5289 | Train f1score: 0.5395 | Train acc: 0.7386 | Train kappa: 0.7221 \n",
      "Val loss: 0.9116 | Val precision: 0.5004 | Val recall: 0.4265 | Val f1score: 0.4091 | Val acc: 0.7214 | Val kappa: 0.6042 \n",
      "\n",
      "Epoch: 5 \n",
      "Learning rate: 0.00031640625\n",
      "Train loss: 0.6946 | Train precision: 0.6586 | Train recall: 0.5736 | Train f1score: 0.5913 | Train acc: 0.7622 | Train kappa: 0.7518 \n",
      "Val loss: 0.6417 | Val precision: 0.5764 | Val recall: 0.5490 | Val f1score: 0.5502 | Val acc: 0.7830 | Val kappa: 0.7818 \n",
      "\n",
      "Epoch: 6 \n",
      "Learning rate: 0.0002373046875\n",
      "Train loss: 0.6589 | Train precision: 0.6863 | Train recall: 0.6074 | Train f1score: 0.6299 | Train acc: 0.7780 | Train kappa: 0.7665 \n",
      "Val loss: 0.6262 | Val precision: 0.6154 | Val recall: 0.6250 | Val f1score: 0.6123 | Val acc: 0.7899 | Val kappa: 0.8057 \n",
      "\n",
      "Epoch: 7 \n",
      "Learning rate: 0.000177978515625\n",
      "Train loss: 0.5800 | Train precision: 0.7122 | Train recall: 0.6513 | Train f1score: 0.6735 | Train acc: 0.7986 | Train kappa: 0.7862 \n",
      "Val loss: 0.6783 | Val precision: 0.5740 | Val recall: 0.5240 | Val f1score: 0.5301 | Val acc: 0.7873 | Val kappa: 0.7167 \n",
      "\n",
      "Epoch: 8 \n",
      "Learning rate: 0.00013348388671875\n",
      "Train loss: 0.5540 | Train precision: 0.7297 | Train recall: 0.6718 | Train f1score: 0.6931 | Train acc: 0.8068 | Train kappa: 0.7961 \n",
      "Val loss: 0.6106 | Val precision: 0.6029 | Val recall: 0.6149 | Val f1score: 0.5966 | Val acc: 0.7847 | Val kappa: 0.7856 \n",
      "\n",
      "Epoch: 9 \n",
      "Learning rate: 0.0001001129150390625\n",
      "Train loss: 0.5090 | Train precision: 0.7426 | Train recall: 0.6901 | Train f1score: 0.7109 | Train acc: 0.8226 | Train kappa: 0.8227 \n",
      "Val loss: 0.5912 | Val precision: 0.6214 | Val recall: 0.5878 | Val f1score: 0.5854 | Val acc: 0.8030 | Val kappa: 0.7943 \n",
      "\n",
      "Epoch: 10 \n",
      "Learning rate: 7.508468627929687e-05\n",
      "Train loss: 0.4780 | Train precision: 0.7558 | Train recall: 0.7025 | Train f1score: 0.7231 | Train acc: 0.8317 | Train kappa: 0.8345 \n",
      "Val loss: 0.5512 | Val precision: 0.6935 | Val recall: 0.6276 | Val f1score: 0.6500 | Val acc: 0.8194 | Val kappa: 0.8054 \n",
      "\n",
      "Epoch: 11 \n",
      "Learning rate: 5.6313514709472656e-05\n",
      "Train loss: 0.4609 | Train precision: 0.7769 | Train recall: 0.7240 | Train f1score: 0.7464 | Train acc: 0.8403 | Train kappa: 0.8446 \n",
      "Val loss: 0.5325 | Val precision: 0.6751 | Val recall: 0.5994 | Val f1score: 0.6179 | Val acc: 0.8220 | Val kappa: 0.7779 \n",
      "\n",
      "Epoch: 12 \n",
      "Learning rate: 4.223513603210449e-05\n",
      "Train loss: 0.4586 | Train precision: 0.7737 | Train recall: 0.7299 | Train f1score: 0.7485 | Train acc: 0.8407 | Train kappa: 0.8477 \n",
      "Val loss: 0.5244 | Val precision: 0.6728 | Val recall: 0.6131 | Val f1score: 0.6260 | Val acc: 0.8281 | Val kappa: 0.7983 \n",
      "\n",
      "Epoch: 13 \n",
      "Learning rate: 3.167635202407837e-05\n",
      "Train loss: 0.4468 | Train precision: 0.7871 | Train recall: 0.7442 | Train f1score: 0.7627 | Train acc: 0.8475 | Train kappa: 0.8436 \n",
      "Val loss: 0.5532 | Val precision: 0.6347 | Val recall: 0.5751 | Val f1score: 0.5854 | Val acc: 0.8151 | Val kappa: 0.7755 \n",
      "\n",
      "Epoch: 14 \n",
      "Learning rate: 2.3757264018058778e-05\n",
      "Train loss: 0.4522 | Train precision: 0.7915 | Train recall: 0.7415 | Train f1score: 0.7631 | Train acc: 0.8443 | Train kappa: 0.8494 \n",
      "Val loss: 0.5333 | Val precision: 0.6605 | Val recall: 0.5937 | Val f1score: 0.6086 | Val acc: 0.8220 | Val kappa: 0.8061 \n",
      "\n",
      "Epoch: 15 \n",
      "Learning rate: 1.7817948013544083e-05\n",
      "Train loss: 0.4347 | Train precision: 0.8017 | Train recall: 0.7579 | Train f1score: 0.7769 | Train acc: 0.8508 | Train kappa: 0.8493 \n",
      "Val loss: 0.5219 | Val precision: 0.6735 | Val recall: 0.6101 | Val f1score: 0.6295 | Val acc: 0.8238 | Val kappa: 0.8039 \n",
      "\n",
      "Epoch: 16 \n",
      "Learning rate: 1.3363461010158063e-05\n",
      "Train loss: 0.4270 | Train precision: 0.7912 | Train recall: 0.7522 | Train f1score: 0.7690 | Train acc: 0.8516 | Train kappa: 0.8582 \n",
      "Val loss: 0.5287 | Val precision: 0.7037 | Val recall: 0.6259 | Val f1score: 0.6491 | Val acc: 0.8247 | Val kappa: 0.8118 \n",
      "\n",
      "Epoch: 17 \n",
      "Learning rate: 1.0022595757618546e-05\n",
      "Train loss: 0.4123 | Train precision: 0.8009 | Train recall: 0.7550 | Train f1score: 0.7749 | Train acc: 0.8557 | Train kappa: 0.8569 \n",
      "Val loss: 0.5298 | Val precision: 0.7141 | Val recall: 0.6043 | Val f1score: 0.6249 | Val acc: 0.8281 | Val kappa: 0.8022 \n",
      "\n",
      "Epoch: 18 \n",
      "Learning rate: 7.51694681821391e-06\n",
      "Train loss: 0.4193 | Train precision: 0.8020 | Train recall: 0.7538 | Train f1score: 0.7747 | Train acc: 0.8545 | Train kappa: 0.8623 \n",
      "Val loss: 0.5340 | Val precision: 0.6769 | Val recall: 0.5979 | Val f1score: 0.6151 | Val acc: 0.8229 | Val kappa: 0.8020 \n",
      "\n",
      "Epoch: 19 \n",
      "Learning rate: 5.637710113660432e-06\n",
      "Train loss: 0.4003 | Train precision: 0.8063 | Train recall: 0.7636 | Train f1score: 0.7820 | Train acc: 0.8599 | Train kappa: 0.8622 \n",
      "Val loss: 0.5257 | Val precision: 0.6829 | Val recall: 0.6081 | Val f1score: 0.6285 | Val acc: 0.8281 | Val kappa: 0.8172 \n",
      "\n",
      "Epoch: 20 \n",
      "Learning rate: 4.228282585245324e-06\n",
      "Train loss: 0.4184 | Train precision: 0.8103 | Train recall: 0.7604 | Train f1score: 0.7819 | Train acc: 0.8538 | Train kappa: 0.8618 \n",
      "Val loss: 0.5255 | Val precision: 0.6828 | Val recall: 0.6049 | Val f1score: 0.6249 | Val acc: 0.8299 | Val kappa: 0.8136 \n",
      "\n",
      "Epoch: 21 \n",
      "Learning rate: 3.1712119389339933e-06\n",
      "Train loss: 0.4105 | Train precision: 0.8082 | Train recall: 0.7644 | Train f1score: 0.7832 | Train acc: 0.8570 | Train kappa: 0.8611 \n",
      "Val loss: 0.5234 | Val precision: 0.6906 | Val recall: 0.6114 | Val f1score: 0.6319 | Val acc: 0.8299 | Val kappa: 0.8166 \n",
      "\n",
      "Epoch: 22 \n",
      "Learning rate: 2.378408954200495e-06\n",
      "Train loss: 0.4052 | Train precision: 0.8040 | Train recall: 0.7639 | Train f1score: 0.7808 | Train acc: 0.8566 | Train kappa: 0.8622 \n",
      "Val loss: 0.5188 | Val precision: 0.6666 | Val recall: 0.6229 | Val f1score: 0.6377 | Val acc: 0.8333 | Val kappa: 0.8289 \n",
      "\n"
     ]
    }
   ],
   "source": [
    "%%time\n",
    "\n",
    "# Set the random seeds\n",
    "set_seeds(42)\n",
    "\n",
    "# Define the number of folds\n",
    "num_folds = 5\n",
    "\n",
    "# group the hashIDs to get the unique values of hashIDs remaining in the subset  \n",
    "groups = sub_hash_id[:, 0] \n",
    "print(\"ORIGINAL POSITIVE RATIO:\", sub_label_set.mean())\n",
    "# create a StratifiedGroupKFold instance\n",
    "kf = StratifiedGroupKFold(n_splits=num_folds, shuffle=True, random_state=42)\n",
    "\n",
    "# loop through the folds\n",
    "for fold, (train_ids, val_ids) in enumerate(kf.split(sub_image_set, sub_label_set, groups)):\n",
    "    print(\"Fold :\", fold+1)\n",
    "    print(\"TRAIN POSITIVE RATIO:\", sub_label_set[train_ids].mean())\n",
    "    print(\"VAL POSITIVE RATIO  :\", sub_label_set[val_ids].mean())\n",
    "    print(\"LENGTH TRAIN GROUPS :\", len(set(groups[train_ids])))\n",
    "    print(\"LENGTH VAL GROUPS   :\", len(set(groups[val_ids])))\n",
    "    \n",
    "    train_ids = sub_hash_id[:, 0][train_ids]\n",
    "    val_ids = np.unique(sub_hash_id[:, 0][val_ids])\n",
    "\n",
    "    torch.cuda.empty_cache()\n",
    "    \n",
    "    # Initialize a new wandb run for this fold\n",
    "    wandb.init(project='wze-uav-species', name=f\"fold_{fold + 1}_{extra}\")\n",
    "    \n",
    "    # 1. Split data into train and validation set\n",
    "    # Get the training and testing data for this fold\n",
    "    # Use np.isin() to create boolean arrays indicating which indices belong to train or test sets\n",
    "    train_indices = np.isin(sub_hash_id[:,0], train_ids)\n",
    "    \n",
    "    val_indices = np.zeros_like(train_indices)  # initialize to all False\n",
    "    for hash_id_val in val_ids:\n",
    "        # select one image ID randomly from either 2020 or 2021 or 2022 for each unique hash ID in the test set\n",
    "        temp = np.unique(sub_hash_id[(sub_hash_id[:, 0] == hash_id_val), 1]) # check how many years are available per hashID\n",
    "        if len(temp) == 1:\n",
    "            year = temp[0]\n",
    "        elif len(temp) == 2:\n",
    "            year = np.random.choice(temp)\n",
    "        else:\n",
    "            year = np.random.choice(temp)\n",
    "        \n",
    "        # select image ID using the conditions\n",
    "        image_ids = sub_hash_id[(sub_hash_id[:,0] == hash_id_val) & (sub_hash_id[:,1] == year), 0]\n",
    "    \n",
    "        # mark the index corresponding to the selected image ID and hash ID as True in the test indices array\n",
    "        val_indices[(sub_hash_id[:,0] == hash_id_val) & (sub_hash_id[:,1] == year) & (np.isin(sub_hash_id[:,0], image_ids))] = True \n",
    "    \n",
    "    # Reshape boolean arrays to match shape of image_set and label_set\n",
    "    train_indices = train_indices.reshape(-1, 1)\n",
    "    val_indices = val_indices.reshape(-1, 1)\n",
    "    \n",
    "    # Select images and labels for train and validation sets\n",
    "    train_image_set = sub_image_set[train_indices[:, 0]]\n",
    "    train_label_set = sub_label_set[train_indices[:, 0]]\n",
    "    train_hash_id = sub_hash_id[train_indices[:, 0]][:,0]\n",
    "    train_species_set = sub_species_set[train_indices[:, 0]]\n",
    "    val_image_set = sub_image_set[val_indices[:, 0]]\n",
    "    val_label_set = sub_label_set[val_indices[:, 0]]\n",
    "    val_hash_id = sub_hash_id[val_indices[:, 0]][:,0]\n",
    "    val_species_set = sub_species_set[val_indices[:, 0]]\n",
    "    # reshape \n",
    "    train_label_set = train_label_set.reshape(-1, 1)\n",
    "    val_label_set = val_label_set.reshape(-1, 1)\n",
    "    train_species_set = train_species_set.reshape(-1, 1)\n",
    "    val_species_set = val_species_set.reshape(-1, 1)\n",
    "    \n",
    "    # check if there are any group overlaps between the data splits\n",
    "    hash_set = set(train_hash_id)\n",
    "    val_hash_set = set(val_hash_id)\n",
    "    test_hash_set = set(test_hash_id[:, 0].flatten())\n",
    "    intersection = hash_set.intersection(val_hash_set)\n",
    "    intersection2 = test_hash_set.intersection(val_hash_set)\n",
    "    intersection3 = hash_set.intersection(test_hash_set)\n",
    "    if intersection:\n",
    "        print(f\"Hash_id values in both train and val sets: {len(intersection)}\")\n",
    "        print(f\"Hash_id values in both test and val sets: {len(intersection2)}\")\n",
    "        print(f\"Hash_id values in both train and test sets: {len(intersection3)}\")\n",
    "    else:\n",
    "        print(\"There are no same hash_id values in train, val or test datasets. The datasplit was successful\")\n",
    "    \n",
    "         \n",
    "    print(\"Check shapes:\\n\")\n",
    "    print(f\"Images train dataset: {train_image_set.shape}\")\n",
    "    print(f\"Labels train dataset: {train_label_set.shape}\\n\")\n",
    "    \n",
    "    print(f\"Images validation dataset: {val_image_set.shape}\")\n",
    "    print(f\"Labels validation dataset: {val_label_set.shape}\\n\")\n",
    "    print('-'*50)\n",
    "    print (f\"Check if the split was stratified: (random_state=42)\")\n",
    "    print(f\"Healthy trees in train dataset: {np.count_nonzero(train_label_set == 0)}\")\n",
    "    print(f\"Moderately stressed trees in train dataset: {np.count_nonzero(train_label_set == 1)}\")\n",
    "    print(f\"Severely stressed trees in train dataset: {np.count_nonzero(train_label_set == 2)}\")\n",
    "    print(f\"Dead trees in train dataset: {np.count_nonzero(train_label_set == 3)}\")\n",
    "    print(f\"Healthy trees in validation dataset: {np.count_nonzero(val_label_set == 0)}\")\n",
    "    print(f\"Moderately stressed trees in validation dataset: {np.count_nonzero(val_label_set == 1)}\")\n",
    "    print(f\"Severely stressed trees in validation dataset: {np.count_nonzero(val_label_set == 2)}\")\n",
    "    print(f\"Dead trees in validation dataset: {np.count_nonzero(val_label_set == 3)}\")\n",
    "    print(f\"Ratio health trees in validation dataset: {np.count_nonzero(val_label_set == 0)/np.count_nonzero(sub_label_set == 0)}\")\n",
    "    print(f\"Ratio moderately stressed trees in validation dataset: {np.count_nonzero(val_label_set == 1)/np.count_nonzero(sub_label_set == 1)}\")\n",
    "    print(f\"Ratio severely stressed trees in validation dataset: {np.count_nonzero(val_label_set == 1)/np.count_nonzero(sub_label_set == 2)}\")\n",
    "    print(f\"Ratio dead trees in validation dataset: {np.count_nonzero(val_label_set == 2)/np.count_nonzero(sub_label_set == 3)}\")\n",
    "    print(\"-\"*50)\n",
    "   \n",
    "    # 2. Create train and validation dataset. (choose custom dataset loader with 3 - 5 classes)\n",
    "    print(f\"\\nCreating datasets for fold: {fold + 1}\\n\")\n",
    "    train_dataset = data_loader.CustomDataset(data=train_image_set, labels=train_label_set, class_names=class_names, species = train_species_set,\n",
    "                                                         transform=transform_train)\n",
    "    \n",
    "    val_dataset = data_loader.CustomDataset(data=val_image_set, labels=val_label_set, class_names=class_names,\n",
    "                                                       species = val_species_set, transform=transform)\n",
    "   \n",
    "    # 3. Create train and validation dataloader\n",
    "    # create sampler for oversampling of the minority classes\n",
    "    sampler = data_loader.data_sampler(dataset=train_dataset, class_names=class_names)\n",
    "    print(f\"Creating dataloaders for fold: {fold +1}\\n\")\n",
    "    train_dataloader = DataLoader(train_dataset, batch_size=batch_size, persistent_workers=True, pin_memory=True, num_workers=NUM_WORKERS, generator=g,\n",
    "                              sampler=sampler, shuffle=False, drop_last=True) # shuffle false because of the sampler\n",
    "\n",
    "    val_dataloader = DataLoader(val_dataset, batch_size=batch_size, persistent_workers=True, pin_memory=True, num_workers=NUM_WORKERS, shuffle=False,\n",
    "                             drop_last=True)\n",
    "    \n",
    "    model = model_effnet.EfficientNet.from_pretrained('efficientnet-b7', in_channels=n_bands, num_classes=num_classes, dropout_rate=dropout_rate)\n",
    "    #model = models.create_effnetb7(output_shape=num_classes, unfreeze=True, dropout_rate=dropout_rate, device=device)\n",
    "   \n",
    "    loss_fn = nn.CrossEntropyLoss()\n",
    "    optimizer = torch.optim.Adam(params=model.parameters(), lr=lr)\n",
    "    lr_scheduler = CustomExponentialLR(optimizer, gamma=gamma, min_lr=min_lr)\n",
    "\n",
    "    fold += 1\n",
    "    print(f\"\\n[INFO] Fold number: {fold}\")\n",
    "    print(f\"[INFO] Number of epochs: {epochs}\")\n",
    "    print(f\"[INFO] Batch_size: {batch_size}\")\n",
    "    print(f\"[INFO] Number of bands: {n_bands}\")\n",
    "    print(f\"[INFO] Dropout rate: {dropout_rate}\")\n",
    "    print(f\"[INFO] Gamma learning rate: {gamma}\")\n",
    "    print(f\"[INFO] Memory allocated: {torch.cuda.memory_allocated()} bytes\")\n",
    "    # 4. Train model with k fold dataloaders and track experiments\n",
    "    \n",
    "    if fold == 1:\n",
    "        fold1_results = train(model=model, model_name=model_name, n_bands=n_bands, batch_size=batch_size,train_dataloader=train_dataloader, val_dataloader=val_dataloader, \n",
    "                        optimizer=optimizer, loss_fn=loss_fn, lr_scheduler=lr_scheduler, num_classes=num_classes, epochs=epochs, experiment_num=fold, device=device,\n",
    "                        writer=None, early_stop_patience = patience)\n",
    "       \n",
    "    elif fold == 2:\n",
    "        fold2_results = train(model=model, model_name=model_name, n_bands=n_bands, batch_size=batch_size,train_dataloader=train_dataloader, val_dataloader=val_dataloader, \n",
    "                        optimizer=optimizer, loss_fn=loss_fn, lr_scheduler=lr_scheduler, num_classes=num_classes, epochs=epochs, experiment_num=fold, device=device,\n",
    "                        writer=None, early_stop_patience = patience)\n",
    "    elif fold == 3:\n",
    "        fold3_results = train(model=model, model_name=model_name, n_bands=n_bands, batch_size=batch_size,train_dataloader=train_dataloader, val_dataloader=val_dataloader, \n",
    "                        optimizer=optimizer, loss_fn=loss_fn, lr_scheduler=lr_scheduler, num_classes=num_classes, epochs=epochs, experiment_num=fold, device=device,\n",
    "                        writer=None, early_stop_patience = patience)\n",
    "    elif fold == 4:\n",
    "        fold4_results = train(model=model, model_name=model_name, n_bands=n_bands, batch_size=batch_size,train_dataloader=train_dataloader, val_dataloader=val_dataloader, \n",
    "                        optimizer=optimizer, loss_fn=loss_fn, lr_scheduler=lr_scheduler, num_classes=num_classes, epochs=epochs, experiment_num=fold, device=device,\n",
    "                        writer=None, early_stop_patience = patience)\n",
    "    else:\n",
    "        fold5_results = train(model=model, model_name=model_name, n_bands=n_bands, batch_size=batch_size,train_dataloader=train_dataloader, val_dataloader=val_dataloader, \n",
    "                        optimizer=optimizer, loss_fn=loss_fn, lr_scheduler=lr_scheduler, num_classes=num_classes, epochs=epochs, experiment_num=fold, device=device,\n",
    "                        writer=None, early_stop_patience = patience)\n",
    "    \n",
    "    del train_indices, val_indices, train_image_set, train_label_set, train_hash_id, train_species_set, val_image_set, val_label_set, val_hash_id, val_species_set,\n",
    "    train_dataset, val_dataset, sampler, train_dataloader, val_dataloader, model, loss_fn, optimizer, lr_scheduler\n",
    "    \n",
    "    #finish the wandb run\n",
    "    wandb.finish()\n",
    "    print(\"Deleting variables and emptying cache\")\n",
    "    gc.collect()\n",
    "    torch.cuda.empty_cache()\n",
    "    print(f\"Memory allocated: {torch.cuda.memory_allocated()} bytes\")\n",
    "    print(\"-\"*50 + \"\\n\")"
   ]
  },
  {
   "cell_type": "code",
   "execution_count": null,
   "id": "397945d6",
   "metadata": {},
   "outputs": [],
   "source": []
  },
  {
   "cell_type": "markdown",
   "id": "a36b9b92",
   "metadata": {},
   "source": [
    "#### Create test dataset and test dataloader "
   ]
  },
  {
   "cell_type": "code",
   "execution_count": 21,
   "id": "c0c36ebb",
   "metadata": {},
   "outputs": [],
   "source": [
    "# create test dataset\n",
    "test_dataset = data_loader.CustomTestDataset(\n",
    "    data = test_image_set,\n",
    "    labels = test_label_set,\n",
    "    class_names=class_names, \n",
    "    species = test_species_set,\n",
    "    kkl = None,\n",
    "    transform=transform\n",
    ")\n",
    "\n",
    "# create test dataloader\n",
    "test_dataloader = DataLoader(test_dataset,\n",
    "                             batch_size=batch_size,\n",
    "                             persistent_workers=True,\n",
    "                             pin_memory=True,\n",
    "                             num_workers=NUM_WORKERS,\n",
    "                             shuffle=False,\n",
    "                             drop_last=True)"
   ]
  },
  {
   "cell_type": "markdown",
   "id": "22cdaac7",
   "metadata": {},
   "source": [
    "#### Perform ensembling of the five best models"
   ]
  },
  {
   "cell_type": "code",
   "execution_count": 22,
   "id": "67db5af2",
   "metadata": {},
   "outputs": [
    {
     "name": "stdout",
     "output_type": "stream",
     "text": [
      "Loaded pretrained weights for efficientnet-b7\n",
      "Loaded pretrained weights for efficientnet-b7\n",
      "Loaded pretrained weights for efficientnet-b7\n",
      "Loaded pretrained weights for efficientnet-b7\n",
      "Loaded pretrained weights for efficientnet-b7\n",
      "              precision    recall  f1-score   support\n",
      "\n",
      "           0       0.90      0.96      0.93       391\n",
      "           1       0.92      0.94      0.93       299\n",
      "           2       0.71      0.79      0.75        38\n",
      "           3       0.89      0.52      0.65        31\n",
      "           4       0.78      0.80      0.79       169\n",
      "           5       0.79      0.69      0.74        95\n",
      "           6       0.50      0.38      0.43        13\n",
      "           7       0.74      0.70      0.72        20\n",
      "           8       1.00      0.33      0.50        15\n",
      "           9       0.43      0.40      0.41        53\n",
      "          10       0.93      0.93      0.93        28\n",
      "\n",
      "    accuracy                           0.85      1152\n",
      "   macro avg       0.78      0.68      0.71      1152\n",
      "weighted avg       0.84      0.85      0.84      1152\n",
      "\n",
      "[[374  11   5   1   0   0   0   0   0   0   0]\n",
      " [ 16 281   1   0   0   0   0   0   0   0   1]\n",
      " [  3   0  30   0   1   1   1   0   0   2   0]\n",
      " [  6   6   0  16   0   0   0   0   0   2   1]\n",
      " [  6   1   4   0 136  12   2   1   0   7   0]\n",
      " [  0   1   2   0  12  66   1   0   0  13   0]\n",
      " [  0   0   0   0   7   0   5   0   0   1   0]\n",
      " [  2   0   0   0   1   0   0  14   0   3   0]\n",
      " [  7   2   0   1   0   0   0   0   5   0   0]\n",
      " [  2   2   0   0  18   5   1   4   0  21   0]\n",
      " [  0   2   0   0   0   0   0   0   0   0  26]]\n"
     ]
    }
   ],
   "source": [
    "# Setup the best model filepaths\n",
    "best_model1_path = r\"C:\\Users\\lwfeckesim\\01_PyTorch\\wze-uav\\wze-uav-master\\models\\EffNet_b7_RGB-RE-NIR-all_species-dead\\1_EffNet_b7_RGB-RE-NIR-all_species-dead_16_epochs.pth\"\n",
    "best_model2_path = r\"C:\\Users\\lwfeckesim\\01_PyTorch\\wze-uav\\wze-uav-master\\models\\EffNet_b7_RGB-RE-NIR-all_species-dead\\2_EffNet_b7_RGB-RE-NIR-all_species-dead_12_epochs.pth\"\n",
    "best_model3_path = r\"C:\\Users\\lwfeckesim\\01_PyTorch\\wze-uav\\wze-uav-master\\models\\EffNet_b7_RGB-RE-NIR-all_species-dead\\3_EffNet_b7_RGB-RE-NIR-all_species-dead_12_epochs.pth\"\n",
    "best_model4_path = r\"C:\\Users\\lwfeckesim\\01_PyTorch\\wze-uav\\wze-uav-master\\models\\EffNet_b7_RGB-RE-NIR-all_species-dead\\4_EffNet_b7_RGB-RE-NIR-all_species-dead_10_epochs.pth\"\n",
    "best_model5_path = r\"C:\\Users\\lwfeckesim\\01_PyTorch\\wze-uav\\wze-uav-master\\models\\EffNet_b7_RGB-RE-NIR-all_species-dead\\5_EffNet_b7_RGB-RE-NIR-all_species-dead_10_epochs.pth\"\n",
    "\n",
    "# Instantiate a new instance of EffNetB7 (to load the saved state_dict() to)\n",
    "#model1 = models.create_effnetb7(output_shape=num_classes, unfreeze=unfreeze, dropout_rate=dropout_rate, device=device)\n",
    "#model2 = models.create_effnetb7(output_shape=num_classes, unfreeze=unfreeze, dropout_rate=dropout_rate, device=device)\n",
    "#model3 = models.create_effnetb7(output_shape=num_classes, unfreeze=unfreeze, dropout_rate=dropout_rate, device=device)\n",
    "#model4 = models.create_effnetb7(output_shape=num_classes, unfreeze=unfreeze, dropout_rate=dropout_rate, device=device)\n",
    "#model5 = models.create_effnetb7(output_shape=num_classes, unfreeze=unfreeze, dropout_rate=dropout_rate, device=device)\n",
    "# for custom models with more than three bands as input\n",
    "model1 = model_effnet.EfficientNet.from_pretrained('efficientnet-b7', in_channels=n_bands, num_classes=num_classes, dropout_rate=dropout_rate)\n",
    "model2 = model_effnet.EfficientNet.from_pretrained('efficientnet-b7', in_channels=n_bands, num_classes=num_classes, dropout_rate=dropout_rate)\n",
    "model3 = model_effnet.EfficientNet.from_pretrained('efficientnet-b7', in_channels=n_bands, num_classes=num_classes, dropout_rate=dropout_rate)\n",
    "model4 = model_effnet.EfficientNet.from_pretrained('efficientnet-b7', in_channels=n_bands, num_classes=num_classes, dropout_rate=dropout_rate)\n",
    "model5 = model_effnet.EfficientNet.from_pretrained('efficientnet-b7', in_channels=n_bands, num_classes=num_classes, dropout_rate=dropout_rate)\n",
    "\n",
    "# Load the saved best model state_dict()\n",
    "model1.load_state_dict(torch.load(best_model1_path))\n",
    "model2.load_state_dict(torch.load(best_model2_path))\n",
    "model3.load_state_dict(torch.load(best_model3_path))\n",
    "model4.load_state_dict(torch.load(best_model4_path))\n",
    "model5.load_state_dict(torch.load(best_model5_path))\n",
    "\n",
    "model1.to(device)\n",
    "model2.to(device)\n",
    "model3.to(device)\n",
    "model4.to(device)\n",
    "model5.to(device)\n",
    "\n",
    "model1.eval()\n",
    "model2.eval()\n",
    "model3.eval()\n",
    "model4.eval()\n",
    "model5.eval()\n",
    "\n",
    "# Initialize the lists to store the predictions\n",
    "all_preds_model1 = []\n",
    "all_preds_model2 = []\n",
    "all_preds_model3 = []\n",
    "all_preds_model4 = []\n",
    "all_preds_model5 = []\n",
    "all_true_labels = []\n",
    "\n",
    "# Loop through the test dataset and generate predictions for each model\n",
    "with torch.no_grad():\n",
    "    for batch in test_dataloader:\n",
    "        inputs, labels, species = batch\n",
    "        inputs, labels, species = inputs.to(device), labels.to(device), species\n",
    "        \n",
    "        # Generate predictions for each model\n",
    "        preds_model1 = model1(inputs)\n",
    "        preds_model2 = model2(inputs)\n",
    "        preds_model3 = model3(inputs)\n",
    "        preds_model4 = model4(inputs)\n",
    "        preds_model5 = model5(inputs)\n",
    "\n",
    "        # Append the predictions to the corresponding list\n",
    "        all_preds_model1.append(preds_model1.cpu().numpy())\n",
    "        all_preds_model2.append(preds_model2.cpu().numpy())\n",
    "        all_preds_model3.append(preds_model3.cpu().numpy())\n",
    "        all_preds_model4.append(preds_model4.cpu().numpy())\n",
    "        all_preds_model5.append(preds_model5.cpu().numpy())\n",
    "        \n",
    "        all_true_labels.append(labels.cpu().numpy())\n",
    "\n",
    "# Concatenate the predictions from all the models\n",
    "all_preds_model1 = np.concatenate(all_preds_model1)\n",
    "all_preds_model2 = np.concatenate(all_preds_model2)\n",
    "all_preds_model3 = np.concatenate(all_preds_model3)\n",
    "all_preds_model4 = np.concatenate(all_preds_model4)\n",
    "all_preds_model5 = np.concatenate(all_preds_model5)\n",
    "\n",
    "all_true_labels = np.concatenate(all_true_labels)\n",
    "\n",
    "# Calculate the ensemble predictions\n",
    "ensemble_preds = np.mean([all_preds_model1, all_preds_model2, all_preds_model3, all_preds_model4, all_preds_model5], axis=0)\n",
    "ensemble_labels = np.argmax(ensemble_preds, axis=1)\n",
    "\n",
    "# Calculate the evaluation metrics for the ensemble model\n",
    "from sklearn.metrics import classification_report, confusion_matrix\n",
    "\n",
    "print(classification_report(all_true_labels, ensemble_labels))\n",
    "print(confusion_matrix(all_true_labels, ensemble_labels))\n",
    "\n",
    "\n",
    "\n",
    "\n"
   ]
  },
  {
   "cell_type": "code",
   "execution_count": 25,
   "id": "6dfbc663",
   "metadata": {},
   "outputs": [
    {
     "name": "stdout",
     "output_type": "stream",
     "text": [
      "              precision    recall  f1-score   support\n",
      "\n",
      "           0       0.90      0.96      0.93       391\n",
      "           1       0.92      0.94      0.93       299\n",
      "           2       0.71      0.79      0.75        38\n",
      "           3       0.89      0.52      0.65        31\n",
      "           4       0.78      0.80      0.79       169\n",
      "           5       0.79      0.69      0.74        95\n",
      "           6       0.50      0.38      0.43        13\n",
      "           7       0.74      0.70      0.72        20\n",
      "           8       1.00      0.33      0.50        15\n",
      "           9       0.43      0.40      0.41        53\n",
      "          10       0.93      0.93      0.93        28\n",
      "\n",
      "    accuracy                           0.85      1152\n",
      "   macro avg       0.78      0.68      0.71      1152\n",
      "weighted avg       0.84      0.85      0.84      1152\n",
      "\n"
     ]
    },
    {
     "data": {
      "image/png": "[encoded data removed]",
      "text/plain": [
       "<Figure size 720x504 with 1 Axes>"
      ]
     },
     "metadata": {
      "needs_background": "light"
     },
     "output_type": "display_data"
    }
   ],
   "source": [
    "import matplotlib.pyplot as plt\n",
    "# Calculate the evaluation metrics for the ensemble model\n",
    "print(classification_report(all_true_labels, ensemble_labels))\n",
    "#print(confusion_matrix(all_true_labels, ensemble_labels))\n",
    "\n",
    "# Save the report to a file\n",
    "with open(r'C:\\Users\\lwfeckesim\\01_PyTorch\\wze-uav\\wze-uav-master\\plots\\classification_report.txt', 'w') as f:\n",
    "    f.write(report)\n",
    "\n",
    "labels = np.array([0,1,2,3,4,5,6,7,8,9,10])\n",
    "confmat = confusion_matrix(all_true_labels, ensemble_labels, labels=labels)\n",
    "\n",
    "# 3. Plot the confusion matrix\n",
    "fig, ax = plot_confusion_matrix(\n",
    "    conf_mat=confmat, # matplotlib likes working with NumPy \n",
    "    class_names=class_names, # turn the row and column labels into class names\n",
    "    figsize=(10, 7)\n",
    ");\n",
    "\n",
    "# add title to confusion matrix plot\n",
    "plt.title(\"Confusion Matrix of the Results for Species Classification\", fontsize=16)\n",
    "\n",
    "fig.savefig(r'C:\\Users\\lwfeckesim\\01_PyTorch\\wze-uav\\wze-uav-master\\plots\\confmat_all_species_dead.png', dpi=300, bbox_inches='tight')\n",
    "\n"
   ]
  },
  {
   "cell_type": "code",
   "execution_count": null,
   "id": "aab9e321",
   "metadata": {},
   "outputs": [],
   "source": [
    "# 2. Setup confusion matrix instance and compare predictions to targets\n",
    "#from wze_uav.analysis import *\n",
    "y_pred_tensor, y_labels_tensor, test_loss, test_recall, test_precision, test_f1_score, test_acc, y_logit, y_pred, y, y_preds = make_predictions(model=best_model,\n",
    "                                 test_dataloader=test_dataloader, \n",
    "                                 device=device)\n",
    "\n",
    "y_labels_tensor = y_labels_tensor.detach().cpu().numpy()\n",
    "y_pred_tensor = y_pred_tensor.detach().cpu().numpy()\n",
    "\n",
    "#confmat = ConfusionMatrix(num_classes=num_classes, task='multiclass')\n",
    "#confmat_tensor = confmat(preds=y_pred_tensor,\n",
    "#                         target=test_labels)\n",
    "labels = np.array([0,1,2])\n",
    "confmat = confusion_matrix(y_labels_tensor, y_pred_tensor, labels=labels)\n",
    "\n",
    "# 3. Plot the confusion matrix\n",
    "fig, ax = plot_confusion_matrix(\n",
    "    conf_mat=confmat, # matplotlib likes working with NumPy \n",
    "    class_names=class_names, # turn the row and column labels into class names\n",
    "    figsize=(10, 7)\n",
    ");\n",
    "\n",
    "print(f\"Test loss: {test_loss}\")\n",
    "print(f\"Test precision: {test_precision}\")\n",
    "print(f\"Test recall: {test_recall}\")\n",
    "print(f\"Test F1score: {test_f1_score}\")\n",
    "#print(f\"Test Kappa: {test_kappa}\")\n",
    "print(f\"Test Accuracy: {test_acc}\")\n",
    "print(f\"Test Logits: {y_logit}\")\n",
    "print(f\"Test Predictions: {y_pred}\")\n",
    "print(f\"Test Labels: {y}\")"
   ]
  },
  {
   "cell_type": "code",
   "execution_count": null,
   "id": "8d4173b3",
   "metadata": {},
   "outputs": [],
   "source": [
    "len(y_preds)"
   ]
  },
  {
   "cell_type": "code",
   "execution_count": null,
   "id": "7588116f",
   "metadata": {},
   "outputs": [],
   "source": [
    "y_set.cpu()"
   ]
  },
  {
   "cell_type": "code",
   "execution_count": null,
   "id": "1c195b3e",
   "metadata": {},
   "outputs": [],
   "source": [
    "test_dataset.labels"
   ]
  },
  {
   "cell_type": "code",
   "execution_count": null,
   "id": "975ec08c",
   "metadata": {},
   "outputs": [],
   "source": []
  },
  {
   "cell_type": "code",
   "execution_count": null,
   "id": "6da05604",
   "metadata": {},
   "outputs": [],
   "source": [
    "y_preds = []\n",
    "y_labels = []\n",
    "labels = np.array([0,1,2])\n",
    "test_loss, test_precision, test_recall, test_f1_score, test_acc = 0, 0, 0, 0, 0\n",
    "count = 0\n",
    "model.eval()\n",
    "with torch.inference_mode():\n",
    "    for X, y in tqdm(test_dataloader, desc=\"Making predictions\"):\n",
    "        # Send data and targets to target device\n",
    "        X, y = X.to(device), y.to(device)\n",
    "        # Do the forward pass\n",
    "        y_logit = model(X)\n",
    "        # Turn predictions from logits -> prediction probabilities -> predictions labels\n",
    "        y_pred = torch.softmax(y_logit, dim=1).argmax(dim=1)\n",
    "        # Put predictions on CPU for evaluation\n",
    "        y_preds.append(y_pred.cpu())\n",
    "        y_labels.append(y.cpu())\n",
    "        \n",
    "        #other metrics\n",
    "        test_acc += ((y_pred == y).sum().item()/len(y_pred))\n",
    "        y_pred_class = y_pred.detach().cpu().numpy() \n",
    "        y_class = y.detach().cpu().numpy()\n",
    "        test_precision += precision_score(y_class, y_pred_class, average='macro', zero_division=1, labels=labels)\n",
    "        test_recall += recall_score(y_class, y_pred_class, average='macro', zero_division=1, labels=labels)\n",
    "        #test_f1_score += f1_score(y_class, y_pred_class, average='macro', zero_division=1, labels=labels)\n",
    "        \n",
    "        #if count >= 1:\n",
    "        #    y_set = torch.cat((y_set, y))\n",
    "        #    count = count + 1\n",
    "        #else:\n",
    "        #    y_set = y\n",
    "        #    count = count + 1\n",
    "        \n",
    "test_loss = test_loss / len(test_dataloader)\n",
    "test_precision = test_precision / len(test_dataloader)\n",
    "test_recall = test_recall / len(test_dataloader)\n",
    "#test_f1_score = test_f1_score / len(test_dataloader)\n",
    "#test_kappa = test_kappa / len(dataloader)\n",
    "test_acc = test_acc / len(test_dataloader)\n",
    "# Concatenate list of predictions into a tensor\n",
    "y_pred_tensor = torch.cat(y_preds)\n",
    "test_f1_score = f1_score(y_set.detach().cpu().numpy(), y_pred_tensor.cpu().numpy(), average='macro', zero_division=0, labels=[0,1,2])\n",
    "\n",
    "# Print classification report\n",
    "y_true = y_set.detach().cpu().numpy()\n",
    "report = classification_report(y_true, y_pred_tensor.cpu().numpy(), target_names=class_names)\n",
    "print(report)"
   ]
  },
  {
   "cell_type": "code",
   "execution_count": null,
   "id": "6ae97fab",
   "metadata": {},
   "outputs": [],
   "source": [
    "test_f1_score"
   ]
  },
  {
   "cell_type": "code",
   "execution_count": null,
   "id": "7ebafd9b",
   "metadata": {},
   "outputs": [],
   "source": [
    "make = (y_class == y_pred_class)\n",
    "make"
   ]
  },
  {
   "cell_type": "code",
   "execution_count": null,
   "id": "4f8aa759",
   "metadata": {},
   "outputs": [],
   "source": [
    "torch.softmax(y_logit, dim=1).argmax(dim=1)"
   ]
  },
  {
   "cell_type": "code",
   "execution_count": null,
   "id": "f90a54b2",
   "metadata": {},
   "outputs": [],
   "source": [
    "y"
   ]
  },
  {
   "cell_type": "code",
   "execution_count": null,
   "id": "5a806154",
   "metadata": {},
   "outputs": [],
   "source": [
    "test = (y_pred == y).sum().item()/16"
   ]
  },
  {
   "cell_type": "code",
   "execution_count": null,
   "id": "1da35c56",
   "metadata": {},
   "outputs": [],
   "source": [
    "test"
   ]
  },
  {
   "cell_type": "code",
   "execution_count": null,
   "id": "b1eb246e",
   "metadata": {},
   "outputs": [],
   "source": [
    " y_pred_class = y_pred.detach().cpu().numpy() "
   ]
  },
  {
   "cell_type": "code",
   "execution_count": null,
   "id": "602e096f",
   "metadata": {},
   "outputs": [],
   "source": [
    "y_pred_class"
   ]
  },
  {
   "cell_type": "code",
   "execution_count": null,
   "id": "eaf1af09",
   "metadata": {},
   "outputs": [],
   "source": []
  }
 ],
 "metadata": {
  "kernelspec": {
   "display_name": "Python 3 (ipykernel)",
   "language": "python",
   "name": "python3"
  },
  "language_info": {
   "codemirror_mode": {
    "name": "ipython",
    "version": 3
   },
   "file_extension": ".py",
   "mimetype": "text/x-python",
   "name": "python",
   "nbconvert_exporter": "python",
   "pygments_lexer": "ipython3",
   "version": "3.9.16"
  }
 },
 "nbformat": 4,
 "nbformat_minor": 5
}
