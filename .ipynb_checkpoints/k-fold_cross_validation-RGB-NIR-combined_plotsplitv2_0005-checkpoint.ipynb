{
 "cells": [
  {
   "cell_type": "markdown",
   "id": "c1acdaa3",
   "metadata": {},
   "source": [
    "# WZE-UAV Image Classification using Deep Learning"
   ]
  },
  {
   "cell_type": "code",
   "execution_count": 1,
   "id": "2159aac5",
   "metadata": {},
   "outputs": [],
   "source": [
    "import os\n",
    "import gc\n",
    "import glob\n",
    "import numpy as np\n",
    "from pathlib import Path\n",
    "from tqdm.auto import tqdm\n",
    "from sklearn.metrics import confusion_matrix, classification_report\n",
    "from sklearn.model_selection import KFold"
   ]
  },
  {
   "cell_type": "code",
   "execution_count": 2,
   "id": "0026f7a9",
   "metadata": {},
   "outputs": [],
   "source": [
    "import torch\n",
    "import torchvision.transforms as T\n",
    "import torchvision\n",
    "from torch import nn\n",
    "from torch.utils.data import DataLoader\n",
    "from torchvision import datasets, transforms\n",
    "from torch.utils.data import Dataset\n",
    "import torch.optim as optim\n",
    "from torch.optim.lr_scheduler import ExponentialLR\n",
    "from mlxtend.plotting import plot_confusion_matrix"
   ]
  },
  {
   "cell_type": "code",
   "execution_count": 3,
   "id": "b160d7b4",
   "metadata": {},
   "outputs": [],
   "source": [
    "import wze_uav.data_loader as data_loader\n",
    "import wze_uav.models as models\n",
    "from wze_uav.engine import *\n",
    "from wze_uav.utils2 import *\n",
    "#from wze_uav.log_writer import create_writer\n",
    "from wze_uav.datasplit import *\n",
    "from efficientnet import model_effnet #for custom effnet with n_channels input\n",
    "import wandb"
   ]
  },
  {
   "cell_type": "markdown",
   "id": "2bd4fb2f",
   "metadata": {},
   "source": [
    "#### Get PyTorch version"
   ]
  },
  {
   "cell_type": "code",
   "execution_count": 4,
   "id": "c10886b1",
   "metadata": {},
   "outputs": [
    {
     "name": "stdout",
     "output_type": "stream",
     "text": [
      "torch version: 1.13.1+cu116\n",
      "torchvision version: 0.14.1+cu116\n"
     ]
    }
   ],
   "source": [
    "print(f\"torch version: {torch.__version__}\")\n",
    "print(f\"torchvision version: {torchvision.__version__}\")"
   ]
  },
  {
   "cell_type": "markdown",
   "id": "aa6a83cf",
   "metadata": {},
   "source": [
    "#### Preparing device agnostic code "
   ]
  },
  {
   "cell_type": "code",
   "execution_count": 5,
   "id": "13d5de88",
   "metadata": {},
   "outputs": [
    {
     "name": "stdout",
     "output_type": "stream",
     "text": [
      "cuda\n",
      "Index of current divice: 0\n",
      "Number of GPUs available: 1\n",
      "GPU Model: Quadro RTX 8000\n"
     ]
    }
   ],
   "source": [
    "# ensure device agnostic code\n",
    "device = 'cuda' if torch.cuda.is_available() else 'cpu'\n",
    "print(device)\n",
    "\n",
    "# get index of currently selected device\n",
    "print(f\"Index of current divice: {torch.cuda.current_device()}\")\n",
    "# get number of GPUs available\n",
    "print(f\"Number of GPUs available: {torch.cuda.device_count()}\")\n",
    "# get the name of the device\n",
    "print(f\"GPU Model: {torch.cuda.get_device_name(0)}\")"
   ]
  },
  {
   "cell_type": "markdown",
   "id": "8ef6b169",
   "metadata": {},
   "source": [
    "#### Login to Weights & Biases to track results"
   ]
  },
  {
   "cell_type": "code",
   "execution_count": 6,
   "id": "a59d27cf",
   "metadata": {},
   "outputs": [
    {
     "name": "stderr",
     "output_type": "stream",
     "text": [
      "Failed to detect the name of this notebook, you can set it manually with the WANDB_NOTEBOOK_NAME environment variable to enable code saving.\n",
      "\u001b[34m\u001b[1mwandb\u001b[0m: Currently logged in as: \u001b[33msimon-ecke\u001b[0m. Use \u001b[1m`wandb login --relogin`\u001b[0m to force relogin\n"
     ]
    },
    {
     "data": {
      "text/html": [
       "wandb version 0.15.2 is available!  To upgrade, please run:\n",
       " $ pip install wandb --upgrade"
      ],
      "text/plain": [
       "<IPython.core.display.HTML object>"
      ]
     },
     "metadata": {},
     "output_type": "display_data"
    },
    {
     "data": {
      "text/html": [
       "Tracking run with wandb version 0.14.2"
      ],
      "text/plain": [
       "<IPython.core.display.HTML object>"
      ]
     },
     "metadata": {},
     "output_type": "display_data"
    },
    {
     "data": {
      "text/html": [
       "Run data is saved locally in <code>C:\\Users\\lwfeckesim\\01_PyTorch\\wze-uav\\wze-uav-master\\wandb\\run-20230517_005822-sohzeh6h</code>"
      ],
      "text/plain": [
       "<IPython.core.display.HTML object>"
      ]
     },
     "metadata": {},
     "output_type": "display_data"
    },
    {
     "data": {
      "text/html": [
       "Syncing run <strong><a href='https://wandb.ai/simon-ecke/wze-uav-combined_v2/runs/sohzeh6h' target=\"_blank\">major-paper-16</a></strong> to <a href='https://wandb.ai/simon-ecke/wze-uav-combined_v2' target=\"_blank\">Weights & Biases</a> (<a href='https://wandb.me/run' target=\"_blank\">docs</a>)<br/>"
      ],
      "text/plain": [
       "<IPython.core.display.HTML object>"
      ]
     },
     "metadata": {},
     "output_type": "display_data"
    },
    {
     "data": {
      "text/html": [
       " View project at <a href='https://wandb.ai/simon-ecke/wze-uav-combined_v2' target=\"_blank\">https://wandb.ai/simon-ecke/wze-uav-combined_v2</a>"
      ],
      "text/plain": [
       "<IPython.core.display.HTML object>"
      ]
     },
     "metadata": {},
     "output_type": "display_data"
    },
    {
     "data": {
      "text/html": [
       " View run at <a href='https://wandb.ai/simon-ecke/wze-uav-combined_v2/runs/sohzeh6h' target=\"_blank\">https://wandb.ai/simon-ecke/wze-uav-combined_v2/runs/sohzeh6h</a>"
      ],
      "text/plain": [
       "<IPython.core.display.HTML object>"
      ]
     },
     "metadata": {},
     "output_type": "display_data"
    },
    {
     "data": {
      "text/html": [
       "<button onClick=\"this.nextSibling.style.display='block';this.style.display='none';\">Display W&B run</button><iframe src='https://wandb.ai/simon-ecke/wze-uav-combined_v2/runs/sohzeh6h?jupyter=true' style='border:none;width:100%;height:420px;display:none;'></iframe>"
      ],
      "text/plain": [
       "<wandb.sdk.wandb_run.Run at 0x2cf4c163a90>"
      ]
     },
     "execution_count": 6,
     "metadata": {},
     "output_type": "execute_result"
    }
   ],
   "source": [
    "# IMPORTANT: The proxy needs to be set in anaconda!\n",
    "# copy paste this in anaconda and restart jupyter notebook\n",
    "#set http_proxy=http://www-proxy.bayern.de:80\n",
    "#set https_proxy=http://www-proxy.bayern.de:80\n",
    "wandb.login()\n",
    "#wandb.init(settings=wandb.Settings(start_method=\"thread\"))\n",
    "wandb.init(project='wze-uav-combined_v2', entity='simon-ecke')"
   ]
  },
  {
   "cell_type": "markdown",
   "id": "a26a6a34",
   "metadata": {},
   "source": [
    "#### Ensure reproducibility "
   ]
  },
  {
   "cell_type": "code",
   "execution_count": 7,
   "id": "dd4656a7",
   "metadata": {},
   "outputs": [],
   "source": [
    "# for more information, see also: https://pytorch.org/docs/stable/notes/randomness.html\n",
    "\n",
    "# Set seeds\n",
    "def set_seeds(seed: int=42):\n",
    "    \"\"\"Sets random sets for torch operations.\n",
    "\n",
    "    Args:\n",
    "        seed (int, optional): Random seed to set. Defaults to 42.\n",
    "    \"\"\"\n",
    "    # Set the seed for general torch operations\n",
    "    torch.manual_seed(seed)\n",
    "    # Set the seed for CUDA torch operations (ones that happen on the GPU)\n",
    "    torch.cuda.manual_seed(seed)\n",
    "    # seed for numpy\n",
    "    np.random.seed(seed)\n",
    "\n",
    "set_seeds(42) \n",
    "\n",
    "# Set to true -> might speed up the process but should be set to False if reproducible results are desired\n",
    "torch.backends.cudnn.benchmark = False\n"
   ]
  },
  {
   "cell_type": "markdown",
   "id": "8be33671",
   "metadata": {},
   "source": [
    "#### Define file directory"
   ]
  },
  {
   "cell_type": "code",
   "execution_count": 8,
   "id": "30645f36",
   "metadata": {},
   "outputs": [],
   "source": [
    "#####################################################################################\n",
    "# 3 channel input (r-g-b)\n",
    "#data_path = r\"D:\\Drohnendaten\\10_WZE-UAV\\Auswertung_findatree\\Datasplit\\ROI\\rgb\"\n",
    "\n",
    "# 4 channel input (r-g-b-nir)\n",
    "data_path = r\"D:\\Drohnendaten\\10_WZE-UAV\\Auswertung_findatree\\Datasplit\\ROI\\rgb-nir\"\n",
    "\n",
    "# 5 channel input (r-g-b-re-nir)\n",
    "#data_path = r\"D:\\Drohnendaten\\10_WZE-UAV\\Auswertung_findatree\\Datasplit\\ROI\\rgb-re-nir\"\n",
    "\n",
    "# 6 channel input (r-g-b-re-nir)\n",
    "#data_path = r\"D:\\Drohnendaten\\10_WZE-UAV\\Auswertung_findatree\\Datasplit\\ROI\\rgb-re-nir-chm\"\n",
    "\n",
    "#####################################################################################"
   ]
  },
  {
   "cell_type": "markdown",
   "id": "4560ce64",
   "metadata": {},
   "source": [
    "#### Get all file paths, years and plotIDs"
   ]
  },
  {
   "cell_type": "code",
   "execution_count": 9,
   "id": "aa072e4c",
   "metadata": {},
   "outputs": [],
   "source": [
    "fn_list = os.listdir(data_path)\n",
    "path_list = []\n",
    "# Iterate over all datafiles\n",
    "for year in fn_list:\n",
    "    year_dir = f'{data_path}\\\\{year}'\n",
    "    for filename in os.listdir(year_dir):\n",
    "        path = f'{year_dir}\\\\{filename}'\n",
    "        #plotID = path.rsplit('_',1)[0].rsplit('r',1)[1]\n",
    "        path_list.append(path)\n",
    "        #year_list.append(year)\n",
    "        #plotID_list.append(plotID)"
   ]
  },
  {
   "cell_type": "markdown",
   "id": "f3937a44",
   "metadata": {},
   "source": [
    "#### Get unique plotIDs and years per available trees"
   ]
  },
  {
   "cell_type": "code",
   "execution_count": 10,
   "id": "8a50f1d7",
   "metadata": {},
   "outputs": [
    {
     "data": {
      "application/vnd.jupyter.widget-view+json": {
       "model_id": "93515b234e534f8aa1496ee1416a3aee",
       "version_major": 2,
       "version_minor": 0
      },
      "text/plain": [
       "Creating unique tree IDs...:   0%|          | 0/647 [00:00<?, ?it/s]"
      ]
     },
     "metadata": {},
     "output_type": "display_data"
    }
   ],
   "source": [
    "plotID_dict = data_loader.get_plotID(path_list)"
   ]
  },
  {
   "cell_type": "markdown",
   "id": "6f4cea00",
   "metadata": {},
   "source": [
    "#### Import all imagery, labels and other features from hdf5 files"
   ]
  },
  {
   "cell_type": "code",
   "execution_count": 11,
   "id": "94e3eecf",
   "metadata": {},
   "outputs": [
    {
     "data": {
      "application/vnd.jupyter.widget-view+json": {
       "model_id": "7d8fc248942847ec83bd790b58e15c76",
       "version_major": 2,
       "version_minor": 0
      },
      "text/plain": [
       "Processing hdf5 datasets:   0%|          | 0/647 [00:00<?, ?it/s]"
      ]
     },
     "metadata": {},
     "output_type": "display_data"
    }
   ],
   "source": [
    "image_set, label_set, species_set, kkl_set, bk_set, hash_id = data_loader.hdf5_to_img_label_5species(path_list,\n",
    "                                                                                               plotID_dict,\n",
    "                                                                                               load_sets=[\"images_masked\"])"
   ]
  },
  {
   "cell_type": "markdown",
   "id": "6a90e2b7",
   "metadata": {},
   "source": [
    "#### Convert nbv to classes"
   ]
  },
  {
   "cell_type": "code",
   "execution_count": 12,
   "id": "0224972a",
   "metadata": {},
   "outputs": [],
   "source": [
    "nbv_set = label_set\n",
    "label_set = combined_to_classes(species_set, nbv_set)"
   ]
  },
  {
   "cell_type": "markdown",
   "id": "c6b4cd85",
   "metadata": {},
   "source": [
    "#### Split data into subset (used for training and validation in the 5-fold cross-validation) and test set"
   ]
  },
  {
   "cell_type": "code",
   "execution_count": 13,
   "id": "d06eda54",
   "metadata": {},
   "outputs": [
    {
     "name": "stdout",
     "output_type": "stream",
     "text": [
      "ORIGINAL POSITIVE RATIO: 2.9288929440389295\n",
      "Fold : 0\n",
      "TRAIN POSITIVE RATIO: 2.80895675043834\n",
      "TEST POSITIVE RATIO : 3.525436046511628\n",
      "LENGTH TRAIN GROUPS : 197\n",
      "LENGTH TEST GROUPS  : 38\n",
      "Number of True in sub_indices: 13688\n",
      "Number of False in sub_indices: 2752\n",
      "Number of True in test_indices: 952\n",
      "Number of False in test_indices: 15488\n",
      "Check shapes:\n",
      "\n",
      "Images sub dataset: (13688, 250, 250, 4)\n",
      "Labels sub dataset: (13688, 1)\n",
      "\n",
      "Images test dataset: (952, 250, 250, 4)\n",
      "Labels test dataset: (952, 1)\n",
      "\n",
      "--------------------------------------------------\n",
      "Check if the split was stratified: (random_state=42)\n",
      "Healthy trees in sub dataset: 3713\n",
      "Stressed trees in sub dataset: 2004\n",
      "Dead trees in sub dataset: 1927\n",
      "Healthy trees in test dataset: 277\n",
      "Stressed trees in test dataset: 132\n",
      "Dead trees in test dataset: 78\n",
      "Ratio health trees in test dataset: 0.07460274710476704\n",
      "Ratio stressed trees in test dataset: 0.0658682634730539\n",
      "Ratio dead trees in test dataset: 0.040477426050856254\n"
     ]
    }
   ],
   "source": [
    "sub_image_set, sub_label_set, sub_hash_id, sub_species_set, test_image_set, test_label_set, test_hash_id, test_species_set = data_split(image_set, label_set, hash_id, species_set, n_splits=6, random_state=42, seed=42)\n"
   ]
  },
  {
   "cell_type": "markdown",
   "id": "c48fbb5b",
   "metadata": {},
   "source": [
    "#### Check if any hash ID is in both sub and test dataset"
   ]
  },
  {
   "cell_type": "code",
   "execution_count": 14,
   "id": "874367cf",
   "metadata": {},
   "outputs": [
    {
     "name": "stdout",
     "output_type": "stream",
     "text": [
      "There are no hash_id values in both train and test datasets. The datasplit was successful\n"
     ]
    }
   ],
   "source": [
    "hash_set = set(sub_hash_id[:,0].flatten())\n",
    "test_hash_set = set(test_hash_id[:,0].flatten())\n",
    "intersection = hash_set.intersection(test_hash_set)\n",
    "if intersection:\n",
    "    print(f\"Hash_id values in both train and test sets: {len(intersection)}\")\n",
    "else:\n",
    "    print(\"There are no hash_id values in both train and test datasets. The datasplit was successful\")"
   ]
  },
  {
   "cell_type": "markdown",
   "id": "9e5b64d4",
   "metadata": {},
   "source": [
    "#### Check feature distribution of the Test dataset"
   ]
  },
  {
   "cell_type": "code",
   "execution_count": 15,
   "id": "a33ff5cb",
   "metadata": {},
   "outputs": [
    {
     "name": "stdout",
     "output_type": "stream",
     "text": [
      "Test dataset\n",
      "Test data Picea abies healthy: 277\n",
      "Test data Picea abies stressed: 132\n",
      "Test data Pinus sylvestris healthy: 78\n",
      "Test data Pinus sylvestris stressed: 61\n",
      "Test data Abies alba healthy: 23\n",
      "Test data Abies alba stressed: 13\n",
      "Test data Fagus sylvatica healthy: 188\n",
      "Test data Fagus sylvatica stressed: 56\n",
      "Test data Quercus robur/petraea healthy: 85\n",
      "Test data Quercus robur/petraea stressed: 29\n",
      "Test data dead trees: 10\n",
      "--------------------------------------------------\n",
      "Remaining dataset\n",
      "Remaining data Picea abies healthy: 3713\n",
      "Remaining data Picea abies stressed: 2004\n",
      "Remaining data Pinus sylvestris healthy: 1927\n",
      "Remaining data Pinus sylvestris stressed: 2320\n",
      "Remaining data Abies alba healthy: 433\n",
      "Remaining data Abies alba stressed: 138\n",
      "Remaining data Fagus sylvatica healthy: 1045\n",
      "Remaining data Fagus sylvatica stressed: 808\n",
      "Remaining data Quercus robur/petraea healthy: 663\n",
      "Remaining data Quercus robur/petraea stressed: 391\n",
      "Remaining data dead trees: 246\n",
      "--------------------------------------------------\n"
     ]
    }
   ],
   "source": [
    "def count_occurrences(data, value):\n",
    "    count = 0\n",
    "    for item in data:\n",
    "        if item == value:\n",
    "            count += 1\n",
    "    return count\n",
    "\n",
    "print(\"Test dataset\")\n",
    "print(f\"Test data Picea abies healthy: {count_occurrences(test_label_set, 0)}\")\n",
    "print(f\"Test data Picea abies stressed: {count_occurrences(test_label_set, 1)}\")\n",
    "print(f\"Test data Pinus sylvestris healthy: {count_occurrences(test_label_set, 2)}\")\n",
    "print(f\"Test data Pinus sylvestris stressed: {count_occurrences(test_label_set, 3)}\")\n",
    "print(f\"Test data Abies alba healthy: {count_occurrences(test_label_set, 4)}\")\n",
    "print(f\"Test data Abies alba stressed: {count_occurrences(test_label_set, 5)}\")\n",
    "print(f\"Test data Fagus sylvatica healthy: {count_occurrences(test_label_set, 6)}\")\n",
    "print(f\"Test data Fagus sylvatica stressed: {count_occurrences(test_label_set, 7)}\")\n",
    "print(f\"Test data Quercus robur/petraea healthy: {count_occurrences(test_label_set, 8)}\")\n",
    "print(f\"Test data Quercus robur/petraea stressed: {count_occurrences(test_label_set, 9)}\")\n",
    "print(f\"Test data dead trees: {count_occurrences(test_label_set, 10)}\")\n",
    "print(\"-\"*50)\n",
    "\n",
    "print(\"Remaining dataset\")\n",
    "print(f\"Remaining data Picea abies healthy: {count_occurrences(sub_label_set, 0)}\")\n",
    "print(f\"Remaining data Picea abies stressed: {count_occurrences(sub_label_set, 1)}\")\n",
    "print(f\"Remaining data Pinus sylvestris healthy: {count_occurrences(sub_label_set, 2)}\")\n",
    "print(f\"Remaining data Pinus sylvestris stressed: {count_occurrences(sub_label_set, 3)}\")\n",
    "print(f\"Remaining data Abies alba healthy: {count_occurrences(sub_label_set, 4)}\")\n",
    "print(f\"Remaining data Abies alba stressed: {count_occurrences(sub_label_set, 5)}\")\n",
    "print(f\"Remaining data Fagus sylvatica healthy: {count_occurrences(sub_label_set, 6)}\")\n",
    "print(f\"Remaining data Fagus sylvatica stressed: {count_occurrences(sub_label_set, 7)}\")\n",
    "print(f\"Remaining data Quercus robur/petraea healthy: {count_occurrences(sub_label_set, 8)}\")\n",
    "print(f\"Remaining data Quercus robur/petraea stressed: {count_occurrences(sub_label_set, 9)}\")\n",
    "print(f\"Remaining data dead trees: {count_occurrences(sub_label_set, 10)}\")\n",
    "print(\"-\"*50)"
   ]
  },
  {
   "cell_type": "code",
   "execution_count": 16,
   "id": "e08fcf57",
   "metadata": {},
   "outputs": [],
   "source": [
    "# train transform with augmentation. \n",
    "transform_train = transforms.Compose([transforms.ToTensor(), transforms.RandomHorizontalFlip(p=0.5), transforms.RandomVerticalFlip(p=0.5),\n",
    "                                      transforms.RandomRotation(degrees=[0,360])])\n",
    "\n",
    "# test and val dataset transform without augmentation. \n",
    "transform = transforms.Compose([transforms.ToTensor()])\n",
    "\n",
    "# class names need to fit the customDataset class used e.g. 3 classes -> use CustomDataset3Classes\n",
    "#class_names = ['healthy', 'slightly_stressed', 'moderately_stressed', 'highly_stressed', 'dead']\n",
    "#class_names = ['healthy', 'moderately_stressed', 'highly_stressed', 'dead']\n",
    "#class_names = ['healthy', 'moderate stress', 'severe stress', 'dead']\n",
    "class_names = ['Picea abies healthy', 'Picea abies stressed', 'Pinus sylvestris healthy', 'Pinus sylvestris stressed', \n",
    "               'Abies alba healthy', 'Abies alba stressed', 'Fagus sylvatica healthy', 'Fagus sylvatica stressed',\n",
    "               'Quercus robur/petraea healthy', 'Quercus robur/petraea stressed', 'dead trees']\n",
    "\n",
    "# set seeds\n",
    "g = torch.Generator()\n",
    "g.manual_seed(42)\n",
    "NUM_WORKERS=3 # should be changed, depending on the system used\n",
    "batch_size=32"
   ]
  },
  {
   "cell_type": "markdown",
   "id": "31779c05",
   "metadata": {},
   "source": [
    "#### Define variables and parameters"
   ]
  },
  {
   "cell_type": "code",
   "execution_count": 17,
   "id": "10ae4379",
   "metadata": {},
   "outputs": [
    {
     "name": "stdout",
     "output_type": "stream",
     "text": [
      "Memory allocated: 0 bytes\n"
     ]
    }
   ],
   "source": [
    "# 1. Define number of epochs\n",
    "epochs = 50\n",
    "n_bands = sub_image_set[0].shape[2] # get number of bands\n",
    "\n",
    "# 2. Define model\n",
    "num_classes = len(class_names)\n",
    "unfreeze = True # all layer weights get updated\n",
    "dropout_rate = 0.5 #define dropout rate\n",
    "model_name = \"EffNet_b7_RGB-NIR-5species-combined_v2_plotsplit\"\n",
    "\n",
    "# 3. Define loss, optimizer and learning rate scheduler\n",
    "lr = 0.001 # define learning rate\n",
    "min_lr = 1e-6 # minimum learning rate threshold\n",
    "gamma = 0.75 # how fast the learning rate decreases per epoch (low number=faster decrease)\n",
    "patience = 10\n",
    "\n",
    "# 4. Create target folder name were to save the tensorboard event files\n",
    "experiment_name = 'RGB-NIR-5species-combined_v2_plotsplit'\n",
    "extra = \"RGB-NIR-5species-combined_v2_plotsplit\"\n",
    "\n",
    "#----------------------------------------------------------------------\n",
    "#torch.cuda.empty_cache()\n",
    "print(f\"Memory allocated: {torch.cuda.memory_allocated()} bytes\") "
   ]
  },
  {
   "cell_type": "markdown",
   "id": "09768b1a",
   "metadata": {},
   "source": [
    "#### Run k-Fold cross-validation on EfficientNet"
   ]
  },
  {
   "cell_type": "code",
   "execution_count": 18,
   "id": "9c29c81d",
   "metadata": {},
   "outputs": [
    {
     "name": "stdout",
     "output_type": "stream",
     "text": [
      "ORIGINAL POSITIVE RATIO: 2.80895675043834\n",
      "Fold : 1\n",
      "TRAIN POSITIVE RATIO: 2.877106871642897\n",
      "VAL POSITIVE RATIO  : 2.5543252595155708\n",
      "LENGTH TRAIN GROUPS : 160\n",
      "LENGTH VAL GROUPS   : 37\n"
     ]
    },
    {
     "data": {
      "text/html": [
       "Finishing last run (ID:sohzeh6h) before initializing another..."
      ],
      "text/plain": [
       "<IPython.core.display.HTML object>"
      ]
     },
     "metadata": {},
     "output_type": "display_data"
    },
    {
     "data": {
      "text/html": [
       "Waiting for W&B process to finish... <strong style=\"color:green\">(success).</strong>"
      ],
      "text/plain": [
       "<IPython.core.display.HTML object>"
      ]
     },
     "metadata": {},
     "output_type": "display_data"
    },
    {
     "data": {
      "application/vnd.jupyter.widget-view+json": {
       "model_id": "022bdf872aa34bb88a2666fa7e41cc23",
       "version_major": 2,
       "version_minor": 0
      },
      "text/plain": [
       "VBox(children=(Label(value='0.001 MB of 0.007 MB uploaded (0.000 MB deduped)\\r'), FloatProgress(value=0.191221…"
      ]
     },
     "metadata": {},
     "output_type": "display_data"
    },
    {
     "data": {
      "text/html": [
       " View run <strong style=\"color:#cdcd00\">major-paper-16</strong> at: <a href='https://wandb.ai/simon-ecke/wze-uav-combined_v2/runs/sohzeh6h' target=\"_blank\">https://wandb.ai/simon-ecke/wze-uav-combined_v2/runs/sohzeh6h</a><br/>Synced 5 W&B file(s), 0 media file(s), 0 artifact file(s) and 0 other file(s)"
      ],
      "text/plain": [
       "<IPython.core.display.HTML object>"
      ]
     },
     "metadata": {},
     "output_type": "display_data"
    },
    {
     "data": {
      "text/html": [
       "Find logs at: <code>.\\wandb\\run-20230517_005822-sohzeh6h\\logs</code>"
      ],
      "text/plain": [
       "<IPython.core.display.HTML object>"
      ]
     },
     "metadata": {},
     "output_type": "display_data"
    },
    {
     "data": {
      "text/html": [
       "Successfully finished last run (ID:sohzeh6h). Initializing new run:<br/>"
      ],
      "text/plain": [
       "<IPython.core.display.HTML object>"
      ]
     },
     "metadata": {},
     "output_type": "display_data"
    },
    {
     "data": {
      "text/html": [
       "wandb version 0.15.2 is available!  To upgrade, please run:\n",
       " $ pip install wandb --upgrade"
      ],
      "text/plain": [
       "<IPython.core.display.HTML object>"
      ]
     },
     "metadata": {},
     "output_type": "display_data"
    },
    {
     "data": {
      "text/html": [
       "Tracking run with wandb version 0.14.2"
      ],
      "text/plain": [
       "<IPython.core.display.HTML object>"
      ]
     },
     "metadata": {},
     "output_type": "display_data"
    },
    {
     "data": {
      "text/html": [
       "Run data is saved locally in <code>C:\\Users\\lwfeckesim\\01_PyTorch\\wze-uav\\wze-uav-master\\wandb\\run-20230517_014544-zcnfd85u</code>"
      ],
      "text/plain": [
       "<IPython.core.display.HTML object>"
      ]
     },
     "metadata": {},
     "output_type": "display_data"
    },
    {
     "data": {
      "text/html": [
       "Syncing run <strong><a href='https://wandb.ai/simon-ecke/wze-uav-combined_v2/runs/zcnfd85u' target=\"_blank\">fold_1_RGB-NIR-5species-combined_v2_plotsplit</a></strong> to <a href='https://wandb.ai/simon-ecke/wze-uav-combined_v2' target=\"_blank\">Weights & Biases</a> (<a href='https://wandb.me/run' target=\"_blank\">docs</a>)<br/>"
      ],
      "text/plain": [
       "<IPython.core.display.HTML object>"
      ]
     },
     "metadata": {},
     "output_type": "display_data"
    },
    {
     "data": {
      "text/html": [
       " View project at <a href='https://wandb.ai/simon-ecke/wze-uav-combined_v2' target=\"_blank\">https://wandb.ai/simon-ecke/wze-uav-combined_v2</a>"
      ],
      "text/plain": [
       "<IPython.core.display.HTML object>"
      ]
     },
     "metadata": {},
     "output_type": "display_data"
    },
    {
     "data": {
      "text/html": [
       " View run at <a href='https://wandb.ai/simon-ecke/wze-uav-combined_v2/runs/zcnfd85u' target=\"_blank\">https://wandb.ai/simon-ecke/wze-uav-combined_v2/runs/zcnfd85u</a>"
      ],
      "text/plain": [
       "<IPython.core.display.HTML object>"
      ]
     },
     "metadata": {},
     "output_type": "display_data"
    },
    {
     "name": "stdout",
     "output_type": "stream",
     "text": [
      "There are no same hash_id values in train, val or test datasets. The datasplit was successful\n",
      "Check shapes:\n",
      "\n",
      "Images train dataset: (10798, 250, 250, 4)\n",
      "Labels train dataset: (10798, 1)\n",
      "\n",
      "Images validation dataset: (1074, 250, 250, 4)\n",
      "Labels validation dataset: (1074, 1)\n",
      "\n",
      "--------------------------------------------------\n",
      "Check if the split was stratified: (random_state=42)\n",
      "Picea abies healthy in train dataset: 2856\n",
      "Picea abies stressed in train dataset: 1629\n",
      "Pinus sylvestris healthy in train dataset: 1545\n",
      "Pinus sylvestris stressed in train dataset: 1692\n",
      "Abies alba healthy in train dataset: 310\n",
      "Abies alba stressed in train dataset: 104\n",
      "Fagus sylvatica healthy in train dataset: 921\n",
      "Fagus sylvatica stressed in train dataset: 686\n",
      "Quercus robur/petraea healthy in train dataset: 518\n",
      "Quercus robur/petraea stressed in train dataset: 330\n",
      "Dead trees in train dataset: 207\n",
      "Picea abies healthy in validation dataset: 330\n",
      "Picea abies stressed in validation dataset: 142\n",
      "Pinus sylvestris healthy in validation dataset: 147\n",
      "Pinus sylvestris stressed in validation dataset: 193\n",
      "Abies alba healthy in validation dataset: 53\n",
      "Abies alba stressed in validation dataset: 17\n",
      "Fagus sylvatica healthy in validation dataset: 46\n",
      "Fagus sylvatica stressed in validation dataset: 59\n",
      "Quercus robur/petraea healthy in validation dataset: 52\n",
      "Quercus robur/petraea stressed in validation dataset: 22\n",
      "Dead trees in validation dataset: 13\n",
      "--------------------------------------------------\n",
      "\n",
      "Creating datasets for fold: 1\n",
      "\n",
      "Creating dataloaders for fold: 1\n",
      "\n",
      "Loaded pretrained weights for efficientnet-b7\n",
      "\n",
      "[INFO] Fold number: 1\n",
      "[INFO] Number of epochs: 50\n",
      "[INFO] Batch_size: 32\n",
      "[INFO] Number of bands: 4\n",
      "[INFO] Dropout rate: 0.5\n",
      "[INFO] Gamma learning rate: 0.75\n",
      "[INFO] Memory allocated: 0 bytes\n"
     ]
    },
    {
     "data": {
      "application/vnd.jupyter.widget-view+json": {
       "model_id": "11756ee5a88e4ccb95fc6f75fb9f9def",
       "version_major": 2,
       "version_minor": 0
      },
      "text/plain": [
       "  0%|          | 0/50 [00:00<?, ?it/s]"
      ]
     },
     "metadata": {},
     "output_type": "display_data"
    },
    {
     "name": "stdout",
     "output_type": "stream",
     "text": [
      "Epoch: 1 \n",
      "Learning rate: 0.001\n",
      "Train loss: 1.4606 | Train precision: 0.3717 | Train recall: 0.3371 | Train f1score: 0.3402 | Train acc: 0.4194 | Train kappa: 0.7055 \n",
      "Val loss: 3.0453 | Val precision: 0.1203 | Val recall: 0.1538 | Val f1score: 0.0959 | Val acc: 0.2225 | Val kappa: 0.2839 \n",
      "\n",
      "Epoch: 2 \n",
      "Learning rate: 0.00075\n",
      "Train loss: 1.1650 | Train precision: 0.4697 | Train recall: 0.4418 | Train f1score: 0.4475 | Train acc: 0.5064 | Train kappa: 0.8200 \n",
      "Val loss: 2.4047 | Val precision: 0.2418 | Val recall: 0.2457 | Val f1score: 0.1994 | Val acc: 0.3087 | Val kappa: 0.5737 \n",
      "\n",
      "Epoch: 3 \n",
      "Learning rate: 0.0005625000000000001\n",
      "Train loss: 1.0444 | Train precision: 0.5388 | Train recall: 0.5019 | Train f1score: 0.5114 | Train acc: 0.5515 | Train kappa: 0.8573 \n",
      "Val loss: 1.4475 | Val precision: 0.3753 | Val recall: 0.3543 | Val f1score: 0.3202 | Val acc: 0.4347 | Val kappa: 0.7627 \n",
      "\n",
      "Epoch: 4 \n",
      "Learning rate: 0.000421875\n",
      "Train loss: 0.9842 | Train precision: 0.5611 | Train recall: 0.5317 | Train f1score: 0.5388 | Train acc: 0.5674 | Train kappa: 0.8761 \n",
      "Val loss: 1.1747 | Val precision: 0.5209 | Val recall: 0.4374 | Val f1score: 0.4474 | Val acc: 0.5322 | Val kappa: 0.8348 \n",
      "\n",
      "Epoch: 5 \n",
      "Learning rate: 0.00031640625\n",
      "Train loss: 0.9369 | Train precision: 0.5836 | Train recall: 0.5558 | Train f1score: 0.5648 | Train acc: 0.5834 | Train kappa: 0.8936 \n",
      "Val loss: 1.2265 | Val precision: 0.4815 | Val recall: 0.4545 | Val f1score: 0.4341 | Val acc: 0.5038 | Val kappa: 0.7892 \n",
      "\n",
      "Epoch: 6 \n",
      "Learning rate: 0.0002373046875\n",
      "Train loss: 0.8933 | Train precision: 0.6046 | Train recall: 0.5799 | Train f1score: 0.5877 | Train acc: 0.6029 | Train kappa: 0.8996 \n",
      "Val loss: 1.1437 | Val precision: 0.5259 | Val recall: 0.4795 | Val f1score: 0.4634 | Val acc: 0.5417 | Val kappa: 0.8362 \n",
      "\n",
      "Epoch: 7 \n",
      "Learning rate: 0.000177978515625\n",
      "Train loss: 0.8638 | Train precision: 0.6188 | Train recall: 0.5898 | Train f1score: 0.5992 | Train acc: 0.6109 | Train kappa: 0.9034 \n",
      "Val loss: 1.0899 | Val precision: 0.5051 | Val recall: 0.4788 | Val f1score: 0.4638 | Val acc: 0.5436 | Val kappa: 0.8349 \n",
      "\n",
      "Epoch: 8 \n",
      "Learning rate: 0.00013348388671875\n",
      "Train loss: 0.8373 | Train precision: 0.6336 | Train recall: 0.6076 | Train f1score: 0.6160 | Train acc: 0.6205 | Train kappa: 0.9107 \n",
      "Val loss: 1.0692 | Val precision: 0.5353 | Val recall: 0.5069 | Val f1score: 0.5026 | Val acc: 0.5616 | Val kappa: 0.8339 \n",
      "\n",
      "Epoch: 9 \n",
      "Learning rate: 0.0001001129150390625\n",
      "Train loss: 0.8117 | Train precision: 0.6431 | Train recall: 0.6205 | Train f1score: 0.6285 | Train acc: 0.6346 | Train kappa: 0.9148 \n",
      "Val loss: 1.0486 | Val precision: 0.5394 | Val recall: 0.5107 | Val f1score: 0.5097 | Val acc: 0.5739 | Val kappa: 0.8449 \n",
      "\n",
      "Epoch: 10 \n",
      "Learning rate: 7.508468627929687e-05\n",
      "Train loss: 0.7967 | Train precision: 0.6599 | Train recall: 0.6311 | Train f1score: 0.6408 | Train acc: 0.6363 | Train kappa: 0.9204 \n",
      "Val loss: 1.0527 | Val precision: 0.5349 | Val recall: 0.5365 | Val f1score: 0.5263 | Val acc: 0.5786 | Val kappa: 0.8377 \n",
      "\n",
      "Epoch: 11 \n",
      "Learning rate: 5.6313514709472656e-05\n",
      "Train loss: 0.7842 | Train precision: 0.6594 | Train recall: 0.6295 | Train f1score: 0.6399 | Train acc: 0.6412 | Train kappa: 0.9257 \n",
      "Val loss: 1.0745 | Val precision: 0.5262 | Val recall: 0.5246 | Val f1score: 0.5120 | Val acc: 0.5597 | Val kappa: 0.8469 \n",
      "\n",
      "Epoch: 12 \n",
      "Learning rate: 4.223513603210449e-05\n",
      "Train loss: 0.7736 | Train precision: 0.6764 | Train recall: 0.6485 | Train f1score: 0.6582 | Train acc: 0.6485 | Train kappa: 0.9196 \n",
      "Val loss: 1.0584 | Val precision: 0.5194 | Val recall: 0.4916 | Val f1score: 0.4932 | Val acc: 0.5691 | Val kappa: 0.8356 \n",
      "\n",
      "Epoch: 13 \n",
      "Learning rate: 3.167635202407837e-05\n",
      "Train loss: 0.7600 | Train precision: 0.6913 | Train recall: 0.6530 | Train f1score: 0.6666 | Train acc: 0.6573 | Train kappa: 0.9268 \n",
      "Val loss: 1.0409 | Val precision: 0.5485 | Val recall: 0.5264 | Val f1score: 0.5218 | Val acc: 0.5814 | Val kappa: 0.8412 \n",
      "\n",
      "Epoch: 14 \n",
      "Learning rate: 2.3757264018058778e-05\n",
      "Train loss: 0.7513 | Train precision: 0.6769 | Train recall: 0.6554 | Train f1score: 0.6623 | Train acc: 0.6618 | Train kappa: 0.9295 \n",
      "Val loss: 1.0503 | Val precision: 0.5449 | Val recall: 0.5217 | Val f1score: 0.5206 | Val acc: 0.5814 | Val kappa: 0.8468 \n",
      "\n",
      "Epoch: 15 \n",
      "Learning rate: 1.7817948013544083e-05\n",
      "Train loss: 0.7564 | Train precision: 0.6730 | Train recall: 0.6404 | Train f1score: 0.6517 | Train acc: 0.6638 | Train kappa: 0.9323 \n",
      "Val loss: 1.0542 | Val precision: 0.5187 | Val recall: 0.5166 | Val f1score: 0.5057 | Val acc: 0.5710 | Val kappa: 0.8459 \n",
      "\n",
      "Epoch: 16 \n",
      "Learning rate: 1.3363461010158063e-05\n",
      "Train loss: 0.7488 | Train precision: 0.6819 | Train recall: 0.6596 | Train f1score: 0.6664 | Train acc: 0.6614 | Train kappa: 0.9291 \n",
      "Val loss: 1.0435 | Val precision: 0.5556 | Val recall: 0.5372 | Val f1score: 0.5336 | Val acc: 0.5928 | Val kappa: 0.8524 \n",
      "\n",
      "Epoch: 17 \n",
      "Learning rate: 1.0022595757618546e-05\n",
      "Train loss: 0.7316 | Train precision: 0.6840 | Train recall: 0.6600 | Train f1score: 0.6687 | Train acc: 0.6656 | Train kappa: 0.9336 \n",
      "Val loss: 1.0388 | Val precision: 0.5412 | Val recall: 0.5274 | Val f1score: 0.5228 | Val acc: 0.5900 | Val kappa: 0.8594 \n",
      "\n",
      "Epoch: 18 \n",
      "Learning rate: 7.51694681821391e-06\n",
      "Train loss: 0.7423 | Train precision: 0.6920 | Train recall: 0.6608 | Train f1score: 0.6717 | Train acc: 0.6620 | Train kappa: 0.9341 \n",
      "Val loss: 1.0393 | Val precision: 0.5591 | Val recall: 0.5379 | Val f1score: 0.5371 | Val acc: 0.5881 | Val kappa: 0.8608 \n",
      "\n",
      "Epoch: 19 \n",
      "Learning rate: 5.637710113660432e-06\n",
      "Train loss: 0.7319 | Train precision: 0.6941 | Train recall: 0.6677 | Train f1score: 0.6765 | Train acc: 0.6648 | Train kappa: 0.9379 \n",
      "Val loss: 1.0458 | Val precision: 0.5459 | Val recall: 0.5334 | Val f1score: 0.5303 | Val acc: 0.5805 | Val kappa: 0.8584 \n",
      "\n",
      "Epoch: 20 \n",
      "Learning rate: 4.228282585245324e-06\n",
      "Train loss: 0.7389 | Train precision: 0.6842 | Train recall: 0.6638 | Train f1score: 0.6703 | Train acc: 0.6635 | Train kappa: 0.9312 \n",
      "Val loss: 1.0471 | Val precision: 0.5534 | Val recall: 0.5349 | Val f1score: 0.5331 | Val acc: 0.5805 | Val kappa: 0.8582 \n",
      "\n",
      "Epoch: 21 \n",
      "Learning rate: 3.1712119389339933e-06\n",
      "Train loss: 0.7399 | Train precision: 0.6852 | Train recall: 0.6650 | Train f1score: 0.6724 | Train acc: 0.6621 | Train kappa: 0.9307 \n",
      "Val loss: 1.0548 | Val precision: 0.5298 | Val recall: 0.5203 | Val f1score: 0.5131 | Val acc: 0.5729 | Val kappa: 0.8518 \n",
      "\n",
      "Epoch: 22 \n",
      "Learning rate: 2.378408954200495e-06\n",
      "Train loss: 0.7470 | Train precision: 0.6821 | Train recall: 0.6568 | Train f1score: 0.6654 | Train acc: 0.6612 | Train kappa: 0.9308 \n",
      "Val loss: 1.0515 | Val precision: 0.5370 | Val recall: 0.5231 | Val f1score: 0.5183 | Val acc: 0.5729 | Val kappa: 0.8493 \n",
      "\n",
      "Epoch: 23 \n",
      "Learning rate: 1.7838067156503713e-06\n",
      "Train loss: 0.7304 | Train precision: 0.6975 | Train recall: 0.6725 | Train f1score: 0.6815 | Train acc: 0.6708 | Train kappa: 0.9368 \n",
      "Val loss: 1.0526 | Val precision: 0.5390 | Val recall: 0.5260 | Val f1score: 0.5211 | Val acc: 0.5748 | Val kappa: 0.8539 \n",
      "\n",
      "Epoch: 24 \n",
      "Learning rate: 1.3378550367377785e-06\n",
      "Train loss: 0.7253 | Train precision: 0.6993 | Train recall: 0.6696 | Train f1score: 0.6801 | Train acc: 0.6677 | Train kappa: 0.9319 \n",
      "Val loss: 1.0488 | Val precision: 0.5299 | Val recall: 0.5224 | Val f1score: 0.5174 | Val acc: 0.5748 | Val kappa: 0.8534 \n",
      "\n",
      "Epoch: 25 \n",
      "Learning rate: 1.0033912775533338e-06\n",
      "Train loss: 0.7315 | Train precision: 0.6959 | Train recall: 0.6647 | Train f1score: 0.6740 | Train acc: 0.6673 | Train kappa: 0.9355 \n",
      "Val loss: 1.0531 | Val precision: 0.5363 | Val recall: 0.5245 | Val f1score: 0.5192 | Val acc: 0.5748 | Val kappa: 0.8542 \n",
      "\n",
      "Epoch: 26 \n",
      "Learning rate: 1e-06\n",
      "Train loss: 0.7270 | Train precision: 0.6924 | Train recall: 0.6672 | Train f1score: 0.6766 | Train acc: 0.6662 | Train kappa: 0.9346 \n",
      "Val loss: 1.0525 | Val precision: 0.5301 | Val recall: 0.5245 | Val f1score: 0.5187 | Val acc: 0.5739 | Val kappa: 0.8601 \n",
      "\n",
      "Epoch: 27 \n",
      "Learning rate: 1e-06\n",
      "Train loss: 0.7340 | Train precision: 0.6877 | Train recall: 0.6654 | Train f1score: 0.6736 | Train acc: 0.6640 | Train kappa: 0.9372 \n",
      "Val loss: 1.0468 | Val precision: 0.5376 | Val recall: 0.5296 | Val f1score: 0.5249 | Val acc: 0.5795 | Val kappa: 0.8565 \n",
      "\n",
      "Early stopping after epoch 27\n"
     ]
    },
    {
     "data": {
      "text/html": [
       "Waiting for W&B process to finish... <strong style=\"color:green\">(success).</strong>"
      ],
      "text/plain": [
       "<IPython.core.display.HTML object>"
      ]
     },
     "metadata": {},
     "output_type": "display_data"
    },
    {
     "data": {
      "application/vnd.jupyter.widget-view+json": {
       "model_id": "84d8ec97845544cbb080a6a6696c1861",
       "version_major": 2,
       "version_minor": 0
      },
      "text/plain": [
       "VBox(children=(Label(value='0.001 MB of 0.001 MB uploaded (0.000 MB deduped)\\r'), FloatProgress(value=1.0, max…"
      ]
     },
     "metadata": {},
     "output_type": "display_data"
    },
    {
     "data": {
      "text/html": [
       "<style>\n",
       "    table.wandb td:nth-child(1) { padding: 0 10px; text-align: left ; width: auto;} td:nth-child(2) {text-align: left ; width: 100%}\n",
       "    .wandb-row { display: flex; flex-direction: row; flex-wrap: wrap; justify-content: flex-start; width: 100% }\n",
       "    .wandb-col { display: flex; flex-direction: column; flex-basis: 100%; flex: 1; padding: 10px; }\n",
       "    </style>\n",
       "<div class=\"wandb-row\"><div class=\"wandb-col\"><h3>Run history:</h3><br/><table class=\"wandb\"><tr><td>learning_rate</td><td>█▆▅▄▃▃▂▂▂▂▁▁▁▁▁▁▁▁▁▁▁▁▁▁▁▁▁</td></tr><tr><td>train_f1_score</td><td>▁▃▅▅▆▆▆▇▇▇▇███▇████████████</td></tr><tr><td>train_loss</td><td>█▅▄▃▃▃▂▂▂▂▂▁▁▁▁▁▁▁▁▁▁▁▁▁▁▁▁</td></tr><tr><td>val_f1_score</td><td>▁▃▅▇▆▇▇▇███▇███████████████</td></tr><tr><td>val_loss</td><td>█▆▂▁▂▁▁▁▁▁▁▁▁▁▁▁▁▁▁▁▁▁▁▁▁▁▁</td></tr></table><br/></div><div class=\"wandb-col\"><h3>Run summary:</h3><br/><table class=\"wandb\"><tr><td>learning_rate</td><td>0.0</td></tr><tr><td>train_f1_score</td><td>0.67362</td></tr><tr><td>train_loss</td><td>0.73395</td></tr><tr><td>val_f1_score</td><td>0.52487</td></tr><tr><td>val_loss</td><td>1.0468</td></tr></table><br/></div></div>"
      ],
      "text/plain": [
       "<IPython.core.display.HTML object>"
      ]
     },
     "metadata": {},
     "output_type": "display_data"
    },
    {
     "data": {
      "text/html": [
       " View run <strong style=\"color:#cdcd00\">fold_1_RGB-NIR-5species-combined_v2_plotsplit</strong> at: <a href='https://wandb.ai/simon-ecke/wze-uav-combined_v2/runs/zcnfd85u' target=\"_blank\">https://wandb.ai/simon-ecke/wze-uav-combined_v2/runs/zcnfd85u</a><br/>Synced 5 W&B file(s), 0 media file(s), 0 artifact file(s) and 0 other file(s)"
      ],
      "text/plain": [
       "<IPython.core.display.HTML object>"
      ]
     },
     "metadata": {},
     "output_type": "display_data"
    },
    {
     "data": {
      "text/html": [
       "Find logs at: <code>.\\wandb\\run-20230517_014544-zcnfd85u\\logs</code>"
      ],
      "text/plain": [
       "<IPython.core.display.HTML object>"
      ]
     },
     "metadata": {},
     "output_type": "display_data"
    },
    {
     "name": "stdout",
     "output_type": "stream",
     "text": [
      "Deleting variables and emptying cache\n",
      "Memory allocated: 1047192576 bytes\n",
      "--------------------------------------------------\n",
      "\n",
      "Fold : 2\n",
      "TRAIN POSITIVE RATIO: 2.786750398018751\n",
      "VAL POSITIVE RATIO  : 2.9143576826196473\n",
      "LENGTH TRAIN GROUPS : 157\n",
      "LENGTH VAL GROUPS   : 40\n"
     ]
    },
    {
     "data": {
      "text/html": [
       "wandb version 0.15.2 is available!  To upgrade, please run:\n",
       " $ pip install wandb --upgrade"
      ],
      "text/plain": [
       "<IPython.core.display.HTML object>"
      ]
     },
     "metadata": {},
     "output_type": "display_data"
    },
    {
     "data": {
      "text/html": [
       "Tracking run with wandb version 0.14.2"
      ],
      "text/plain": [
       "<IPython.core.display.HTML object>"
      ]
     },
     "metadata": {},
     "output_type": "display_data"
    },
    {
     "data": {
      "text/html": [
       "Run data is saved locally in <code>C:\\Users\\lwfeckesim\\01_PyTorch\\wze-uav\\wze-uav-master\\wandb\\run-20230517_034956-e5xcjnr1</code>"
      ],
      "text/plain": [
       "<IPython.core.display.HTML object>"
      ]
     },
     "metadata": {},
     "output_type": "display_data"
    },
    {
     "data": {
      "text/html": [
       "Syncing run <strong><a href='https://wandb.ai/simon-ecke/wze-uav-combined_v2/runs/e5xcjnr1' target=\"_blank\">fold_2_RGB-NIR-5species-combined_v2_plotsplit</a></strong> to <a href='https://wandb.ai/simon-ecke/wze-uav-combined_v2' target=\"_blank\">Weights & Biases</a> (<a href='https://wandb.me/run' target=\"_blank\">docs</a>)<br/>"
      ],
      "text/plain": [
       "<IPython.core.display.HTML object>"
      ]
     },
     "metadata": {},
     "output_type": "display_data"
    },
    {
     "data": {
      "text/html": [
       " View project at <a href='https://wandb.ai/simon-ecke/wze-uav-combined_v2' target=\"_blank\">https://wandb.ai/simon-ecke/wze-uav-combined_v2</a>"
      ],
      "text/plain": [
       "<IPython.core.display.HTML object>"
      ]
     },
     "metadata": {},
     "output_type": "display_data"
    },
    {
     "data": {
      "text/html": [
       " View run at <a href='https://wandb.ai/simon-ecke/wze-uav-combined_v2/runs/e5xcjnr1' target=\"_blank\">https://wandb.ai/simon-ecke/wze-uav-combined_v2/runs/e5xcjnr1</a>"
      ],
      "text/plain": [
       "<IPython.core.display.HTML object>"
      ]
     },
     "metadata": {},
     "output_type": "display_data"
    },
    {
     "name": "stdout",
     "output_type": "stream",
     "text": [
      "There are no same hash_id values in train, val or test datasets. The datasplit was successful\n",
      "Check shapes:\n",
      "\n",
      "Images train dataset: (11306, 250, 250, 4)\n",
      "Labels train dataset: (11306, 1)\n",
      "\n",
      "Images validation dataset: (908, 250, 250, 4)\n",
      "Labels validation dataset: (908, 1)\n",
      "\n",
      "--------------------------------------------------\n",
      "Check if the split was stratified: (random_state=42)\n",
      "Picea abies healthy in train dataset: 3271\n",
      "Picea abies stressed in train dataset: 1621\n",
      "Pinus sylvestris healthy in train dataset: 1525\n",
      "Pinus sylvestris stressed in train dataset: 1844\n",
      "Abies alba healthy in train dataset: 315\n",
      "Abies alba stressed in train dataset: 62\n",
      "Fagus sylvatica healthy in train dataset: 833\n",
      "Fagus sylvatica stressed in train dataset: 710\n",
      "Quercus robur/petraea healthy in train dataset: 570\n",
      "Quercus robur/petraea stressed in train dataset: 344\n",
      "Dead trees in train dataset: 211\n",
      "Picea abies healthy in validation dataset: 170\n",
      "Picea abies stressed in validation dataset: 172\n",
      "Pinus sylvestris healthy in validation dataset: 144\n",
      "Pinus sylvestris stressed in validation dataset: 174\n",
      "Abies alba healthy in validation dataset: 43\n",
      "Abies alba stressed in validation dataset: 26\n",
      "Fagus sylvatica healthy in validation dataset: 78\n",
      "Fagus sylvatica stressed in validation dataset: 38\n",
      "Quercus robur/petraea healthy in validation dataset: 27\n",
      "Quercus robur/petraea stressed in validation dataset: 23\n",
      "Dead trees in validation dataset: 13\n",
      "--------------------------------------------------\n",
      "\n",
      "Creating datasets for fold: 2\n",
      "\n",
      "Creating dataloaders for fold: 2\n",
      "\n",
      "Loaded pretrained weights for efficientnet-b7\n",
      "\n",
      "[INFO] Fold number: 2\n",
      "[INFO] Number of epochs: 50\n",
      "[INFO] Batch_size: 32\n",
      "[INFO] Number of bands: 4\n",
      "[INFO] Dropout rate: 0.5\n",
      "[INFO] Gamma learning rate: 0.75\n",
      "[INFO] Memory allocated: 0 bytes\n"
     ]
    },
    {
     "data": {
      "application/vnd.jupyter.widget-view+json": {
       "model_id": "7c7e205b935c4aec8d206f0256ece31e",
       "version_major": 2,
       "version_minor": 0
      },
      "text/plain": [
       "  0%|          | 0/50 [00:00<?, ?it/s]"
      ]
     },
     "metadata": {},
     "output_type": "display_data"
    },
    {
     "name": "stdout",
     "output_type": "stream",
     "text": [
      "Epoch: 1 \n",
      "Learning rate: 0.001\n",
      "Train loss: 1.4423 | Train precision: 0.3401 | Train recall: 0.3190 | Train f1score: 0.3215 | Train acc: 0.4240 | Train kappa: 0.7004 \n",
      "Val loss: 2.3325 | Val precision: 0.2302 | Val recall: 0.1919 | Val f1score: 0.1367 | Val acc: 0.2545 | Val kappa: 0.5323 \n",
      "\n",
      "Epoch: 2 \n",
      "Learning rate: 0.00075\n",
      "Train loss: 1.1708 | Train precision: 0.4386 | Train recall: 0.4295 | Train f1score: 0.4294 | Train acc: 0.5017 | Train kappa: 0.8315 \n",
      "Val loss: 1.6632 | Val precision: 0.3491 | Val recall: 0.3117 | Val f1score: 0.2799 | Val acc: 0.3170 | Val kappa: 0.6025 \n",
      "\n",
      "Epoch: 3 \n",
      "Learning rate: 0.0005625000000000001\n",
      "Train loss: 1.0560 | Train precision: 0.5139 | Train recall: 0.4803 | Train f1score: 0.4858 | Train acc: 0.5485 | Train kappa: 0.8479 \n",
      "Val loss: 1.3108 | Val precision: 0.4632 | Val recall: 0.3727 | Val f1score: 0.3205 | Val acc: 0.3828 | Val kappa: 0.8124 \n",
      "\n",
      "Epoch: 4 \n",
      "Learning rate: 0.000421875\n",
      "Train loss: 0.9721 | Train precision: 0.5704 | Train recall: 0.5320 | Train f1score: 0.5388 | Train acc: 0.5814 | Train kappa: 0.8806 \n",
      "Val loss: 1.3828 | Val precision: 0.4103 | Val recall: 0.3515 | Val f1score: 0.3119 | Val acc: 0.4609 | Val kappa: 0.8170 \n",
      "\n",
      "Epoch: 5 \n",
      "Learning rate: 0.00031640625\n",
      "Train loss: 0.9045 | Train precision: 0.5644 | Train recall: 0.5383 | Train f1score: 0.5431 | Train acc: 0.5943 | Train kappa: 0.8924 \n",
      "Val loss: 1.1261 | Val precision: 0.4895 | Val recall: 0.5053 | Val f1score: 0.4595 | Val acc: 0.5301 | Val kappa: 0.8501 \n",
      "\n",
      "Epoch: 6 \n",
      "Learning rate: 0.0002373046875\n",
      "Train loss: 0.8813 | Train precision: 0.5997 | Train recall: 0.5584 | Train f1score: 0.5655 | Train acc: 0.6083 | Train kappa: 0.9018 \n",
      "Val loss: 1.0655 | Val precision: 0.5821 | Val recall: 0.4819 | Val f1score: 0.4675 | Val acc: 0.5592 | Val kappa: 0.8683 \n",
      "\n",
      "Epoch: 7 \n",
      "Learning rate: 0.000177978515625\n",
      "Train loss: 0.8455 | Train precision: 0.6343 | Train recall: 0.5999 | Train f1score: 0.6102 | Train acc: 0.6288 | Train kappa: 0.9090 \n",
      "Val loss: 1.0003 | Val precision: 0.5777 | Val recall: 0.5273 | Val f1score: 0.5038 | Val acc: 0.5714 | Val kappa: 0.8535 \n",
      "\n",
      "Epoch: 8 \n",
      "Learning rate: 0.00013348388671875\n",
      "Train loss: 0.8134 | Train precision: 0.6437 | Train recall: 0.6015 | Train f1score: 0.6119 | Train acc: 0.6323 | Train kappa: 0.9128 \n",
      "Val loss: 0.9839 | Val precision: 0.4993 | Val recall: 0.5308 | Val f1score: 0.5027 | Val acc: 0.5558 | Val kappa: 0.8398 \n",
      "\n",
      "Epoch: 9 \n",
      "Learning rate: 0.0001001129150390625\n",
      "Train loss: 0.7912 | Train precision: 0.6506 | Train recall: 0.6244 | Train f1score: 0.6321 | Train acc: 0.6471 | Train kappa: 0.9191 \n",
      "Val loss: 1.0269 | Val precision: 0.6331 | Val recall: 0.5538 | Val f1score: 0.5525 | Val acc: 0.5625 | Val kappa: 0.8666 \n",
      "\n",
      "Epoch: 10 \n",
      "Learning rate: 7.508468627929687e-05\n",
      "Train loss: 0.7643 | Train precision: 0.6609 | Train recall: 0.6304 | Train f1score: 0.6397 | Train acc: 0.6609 | Train kappa: 0.9270 \n",
      "Val loss: 0.9606 | Val precision: 0.6051 | Val recall: 0.5687 | Val f1score: 0.5662 | Val acc: 0.5926 | Val kappa: 0.8710 \n",
      "\n",
      "Epoch: 11 \n",
      "Learning rate: 5.6313514709472656e-05\n",
      "Train loss: 0.7532 | Train precision: 0.6771 | Train recall: 0.6524 | Train f1score: 0.6617 | Train acc: 0.6645 | Train kappa: 0.9241 \n",
      "Val loss: 0.9808 | Val precision: 0.5952 | Val recall: 0.5703 | Val f1score: 0.5562 | Val acc: 0.5915 | Val kappa: 0.8622 \n",
      "\n",
      "Epoch: 12 \n",
      "Learning rate: 4.223513603210449e-05\n",
      "Train loss: 0.7413 | Train precision: 0.6761 | Train recall: 0.6397 | Train f1score: 0.6501 | Train acc: 0.6682 | Train kappa: 0.9296 \n",
      "Val loss: 0.9796 | Val precision: 0.6037 | Val recall: 0.5607 | Val f1score: 0.5626 | Val acc: 0.5859 | Val kappa: 0.8562 \n",
      "\n",
      "Epoch: 13 \n",
      "Learning rate: 3.167635202407837e-05\n",
      "Train loss: 0.7282 | Train precision: 0.6882 | Train recall: 0.6554 | Train f1score: 0.6664 | Train acc: 0.6733 | Train kappa: 0.9339 \n",
      "Val loss: 0.9823 | Val precision: 0.6052 | Val recall: 0.5638 | Val f1score: 0.5637 | Val acc: 0.5982 | Val kappa: 0.8639 \n",
      "\n",
      "Epoch: 14 \n",
      "Learning rate: 2.3757264018058778e-05\n",
      "Train loss: 0.7221 | Train precision: 0.6933 | Train recall: 0.6590 | Train f1score: 0.6714 | Train acc: 0.6774 | Train kappa: 0.9319 \n",
      "Val loss: 0.9500 | Val precision: 0.5839 | Val recall: 0.5692 | Val f1score: 0.5640 | Val acc: 0.5938 | Val kappa: 0.8748 \n",
      "\n",
      "Epoch: 15 \n",
      "Learning rate: 1.7817948013544083e-05\n",
      "Train loss: 0.7378 | Train precision: 0.6786 | Train recall: 0.6480 | Train f1score: 0.6590 | Train acc: 0.6691 | Train kappa: 0.9335 \n",
      "Val loss: 0.9679 | Val precision: 0.5923 | Val recall: 0.5674 | Val f1score: 0.5654 | Val acc: 0.5938 | Val kappa: 0.8695 \n",
      "\n",
      "Epoch: 16 \n",
      "Learning rate: 1.3363461010158063e-05\n",
      "Train loss: 0.7165 | Train precision: 0.6947 | Train recall: 0.6744 | Train f1score: 0.6823 | Train acc: 0.6789 | Train kappa: 0.9336 \n",
      "Val loss: 0.9561 | Val precision: 0.5935 | Val recall: 0.5719 | Val f1score: 0.5692 | Val acc: 0.5949 | Val kappa: 0.8749 \n",
      "\n",
      "Epoch: 17 \n",
      "Learning rate: 1.0022595757618546e-05\n",
      "Train loss: 0.7126 | Train precision: 0.7037 | Train recall: 0.6690 | Train f1score: 0.6818 | Train acc: 0.6782 | Train kappa: 0.9386 \n",
      "Val loss: 0.9595 | Val precision: 0.6060 | Val recall: 0.5759 | Val f1score: 0.5743 | Val acc: 0.6038 | Val kappa: 0.8796 \n",
      "\n",
      "Epoch: 18 \n",
      "Learning rate: 7.51694681821391e-06\n",
      "Train loss: 0.7187 | Train precision: 0.6962 | Train recall: 0.6693 | Train f1score: 0.6800 | Train acc: 0.6839 | Train kappa: 0.9365 \n",
      "Val loss: 0.9623 | Val precision: 0.6070 | Val recall: 0.5789 | Val f1score: 0.5750 | Val acc: 0.6016 | Val kappa: 0.8653 \n",
      "\n",
      "Epoch: 19 \n",
      "Learning rate: 5.637710113660432e-06\n",
      "Train loss: 0.6967 | Train precision: 0.6941 | Train recall: 0.6653 | Train f1score: 0.6755 | Train acc: 0.6819 | Train kappa: 0.9380 \n",
      "Val loss: 0.9638 | Val precision: 0.6213 | Val recall: 0.5745 | Val f1score: 0.5759 | Val acc: 0.6027 | Val kappa: 0.8725 \n",
      "\n",
      "Epoch: 20 \n",
      "Learning rate: 4.228282585245324e-06\n",
      "Train loss: 0.6987 | Train precision: 0.7105 | Train recall: 0.6826 | Train f1score: 0.6924 | Train acc: 0.6868 | Train kappa: 0.9394 \n",
      "Val loss: 0.9613 | Val precision: 0.5877 | Val recall: 0.5663 | Val f1score: 0.5605 | Val acc: 0.5893 | Val kappa: 0.8615 \n",
      "\n",
      "Epoch: 21 \n",
      "Learning rate: 3.1712119389339933e-06\n",
      "Train loss: 0.7166 | Train precision: 0.7149 | Train recall: 0.6780 | Train f1score: 0.6904 | Train acc: 0.6825 | Train kappa: 0.9368 \n",
      "Val loss: 0.9667 | Val precision: 0.5967 | Val recall: 0.5732 | Val f1score: 0.5685 | Val acc: 0.5971 | Val kappa: 0.8681 \n",
      "\n",
      "Epoch: 22 \n",
      "Learning rate: 2.378408954200495e-06\n",
      "Train loss: 0.7059 | Train precision: 0.7039 | Train recall: 0.6731 | Train f1score: 0.6854 | Train acc: 0.6823 | Train kappa: 0.9383 \n",
      "Val loss: 0.9593 | Val precision: 0.5948 | Val recall: 0.5742 | Val f1score: 0.5697 | Val acc: 0.5982 | Val kappa: 0.8761 \n",
      "\n",
      "Epoch: 23 \n",
      "Learning rate: 1.7838067156503713e-06\n",
      "Train loss: 0.6973 | Train precision: 0.6925 | Train recall: 0.6660 | Train f1score: 0.6760 | Train acc: 0.6835 | Train kappa: 0.9418 \n",
      "Val loss: 0.9644 | Val precision: 0.6039 | Val recall: 0.5697 | Val f1score: 0.5692 | Val acc: 0.5949 | Val kappa: 0.8745 \n",
      "\n",
      "Epoch: 24 \n",
      "Learning rate: 1.3378550367377785e-06\n",
      "Train loss: 0.7076 | Train precision: 0.7001 | Train recall: 0.6720 | Train f1score: 0.6821 | Train acc: 0.6851 | Train kappa: 0.9399 \n",
      "Val loss: 0.9667 | Val precision: 0.6058 | Val recall: 0.5709 | Val f1score: 0.5708 | Val acc: 0.5982 | Val kappa: 0.8769 \n",
      "\n",
      "Early stopping after epoch 24\n"
     ]
    },
    {
     "data": {
      "text/html": [
       "Waiting for W&B process to finish... <strong style=\"color:green\">(success).</strong>"
      ],
      "text/plain": [
       "<IPython.core.display.HTML object>"
      ]
     },
     "metadata": {},
     "output_type": "display_data"
    },
    {
     "data": {
      "application/vnd.jupyter.widget-view+json": {
       "model_id": "b7b3934159ef48b58d029e3351cfeb19",
       "version_major": 2,
       "version_minor": 0
      },
      "text/plain": [
       "VBox(children=(Label(value='0.002 MB of 0.013 MB uploaded (0.000 MB deduped)\\r'), FloatProgress(value=0.133194…"
      ]
     },
     "metadata": {},
     "output_type": "display_data"
    },
    {
     "data": {
      "text/html": [
       "<style>\n",
       "    table.wandb td:nth-child(1) { padding: 0 10px; text-align: left ; width: auto;} td:nth-child(2) {text-align: left ; width: 100%}\n",
       "    .wandb-row { display: flex; flex-direction: row; flex-wrap: wrap; justify-content: flex-start; width: 100% }\n",
       "    .wandb-col { display: flex; flex-direction: column; flex-basis: 100%; flex: 1; padding: 10px; }\n",
       "    </style>\n",
       "<div class=\"wandb-row\"><div class=\"wandb-col\"><h3>Run history:</h3><br/><table class=\"wandb\"><tr><td>learning_rate</td><td>█▆▅▄▃▃▂▂▂▂▁▁▁▁▁▁▁▁▁▁▁▁▁▁</td></tr><tr><td>train_f1_score</td><td>▁▃▄▅▅▆▆▆▇▇▇▇██▇█████████</td></tr><tr><td>train_loss</td><td>█▅▄▄▃▃▂▂▂▂▂▁▁▁▁▁▁▁▁▁▁▁▁▁</td></tr><tr><td>val_f1_score</td><td>▁▃▄▄▆▆▇▇████████████████</td></tr><tr><td>val_loss</td><td>█▅▃▃▂▂▁▁▁▁▁▁▁▁▁▁▁▁▁▁▁▁▁▁</td></tr></table><br/></div><div class=\"wandb-col\"><h3>Run summary:</h3><br/><table class=\"wandb\"><tr><td>learning_rate</td><td>0.0</td></tr><tr><td>train_f1_score</td><td>0.68206</td></tr><tr><td>train_loss</td><td>0.7076</td></tr><tr><td>val_f1_score</td><td>0.57077</td></tr><tr><td>val_loss</td><td>0.96673</td></tr></table><br/></div></div>"
      ],
      "text/plain": [
       "<IPython.core.display.HTML object>"
      ]
     },
     "metadata": {},
     "output_type": "display_data"
    },
    {
     "data": {
      "text/html": [
       " View run <strong style=\"color:#cdcd00\">fold_2_RGB-NIR-5species-combined_v2_plotsplit</strong> at: <a href='https://wandb.ai/simon-ecke/wze-uav-combined_v2/runs/e5xcjnr1' target=\"_blank\">https://wandb.ai/simon-ecke/wze-uav-combined_v2/runs/e5xcjnr1</a><br/>Synced 5 W&B file(s), 0 media file(s), 0 artifact file(s) and 0 other file(s)"
      ],
      "text/plain": [
       "<IPython.core.display.HTML object>"
      ]
     },
     "metadata": {},
     "output_type": "display_data"
    },
    {
     "data": {
      "text/html": [
       "Find logs at: <code>.\\wandb\\run-20230517_034956-e5xcjnr1\\logs</code>"
      ],
      "text/plain": [
       "<IPython.core.display.HTML object>"
      ]
     },
     "metadata": {},
     "output_type": "display_data"
    },
    {
     "name": "stdout",
     "output_type": "stream",
     "text": [
      "Deleting variables and emptying cache\n",
      "Memory allocated: 1053819904 bytes\n",
      "--------------------------------------------------\n",
      "\n",
      "Fold : 3\n",
      "TRAIN POSITIVE RATIO: 2.8065014074275854\n",
      "VAL POSITIVE RATIO  : 2.8190654205607477\n",
      "LENGTH TRAIN GROUPS : 158\n",
      "LENGTH VAL GROUPS   : 39\n"
     ]
    },
    {
     "data": {
      "text/html": [
       "wandb version 0.15.2 is available!  To upgrade, please run:\n",
       " $ pip install wandb --upgrade"
      ],
      "text/plain": [
       "<IPython.core.display.HTML object>"
      ]
     },
     "metadata": {},
     "output_type": "display_data"
    },
    {
     "data": {
      "text/html": [
       "Tracking run with wandb version 0.14.2"
      ],
      "text/plain": [
       "<IPython.core.display.HTML object>"
      ]
     },
     "metadata": {},
     "output_type": "display_data"
    },
    {
     "data": {
      "text/html": [
       "Run data is saved locally in <code>C:\\Users\\lwfeckesim\\01_PyTorch\\wze-uav\\wze-uav-master\\wandb\\run-20230517_054504-v89cxja5</code>"
      ],
      "text/plain": [
       "<IPython.core.display.HTML object>"
      ]
     },
     "metadata": {},
     "output_type": "display_data"
    },
    {
     "data": {
      "text/html": [
       "Syncing run <strong><a href='https://wandb.ai/simon-ecke/wze-uav-combined_v2/runs/v89cxja5' target=\"_blank\">fold_3_RGB-NIR-5species-combined_v2_plotsplit</a></strong> to <a href='https://wandb.ai/simon-ecke/wze-uav-combined_v2' target=\"_blank\">Weights & Biases</a> (<a href='https://wandb.me/run' target=\"_blank\">docs</a>)<br/>"
      ],
      "text/plain": [
       "<IPython.core.display.HTML object>"
      ]
     },
     "metadata": {},
     "output_type": "display_data"
    },
    {
     "data": {
      "text/html": [
       " View project at <a href='https://wandb.ai/simon-ecke/wze-uav-combined_v2' target=\"_blank\">https://wandb.ai/simon-ecke/wze-uav-combined_v2</a>"
      ],
      "text/plain": [
       "<IPython.core.display.HTML object>"
      ]
     },
     "metadata": {},
     "output_type": "display_data"
    },
    {
     "data": {
      "text/html": [
       " View run at <a href='https://wandb.ai/simon-ecke/wze-uav-combined_v2/runs/v89cxja5' target=\"_blank\">https://wandb.ai/simon-ecke/wze-uav-combined_v2/runs/v89cxja5</a>"
      ],
      "text/plain": [
       "<IPython.core.display.HTML object>"
      ]
     },
     "metadata": {},
     "output_type": "display_data"
    },
    {
     "name": "stdout",
     "output_type": "stream",
     "text": [
      "There are no same hash_id values in train, val or test datasets. The datasplit was successful\n",
      "Check shapes:\n",
      "\n",
      "Images train dataset: (11013, 250, 250, 4)\n",
      "Labels train dataset: (11013, 1)\n",
      "\n",
      "Images validation dataset: (1001, 250, 250, 4)\n",
      "Labels validation dataset: (1001, 1)\n",
      "\n",
      "--------------------------------------------------\n",
      "Check if the split was stratified: (random_state=42)\n",
      "Picea abies healthy in train dataset: 2846\n",
      "Picea abies stressed in train dataset: 1621\n",
      "Pinus sylvestris healthy in train dataset: 1565\n",
      "Pinus sylvestris stressed in train dataset: 2038\n",
      "Abies alba healthy in train dataset: 383\n",
      "Abies alba stressed in train dataset: 131\n",
      "Fagus sylvatica healthy in train dataset: 810\n",
      "Fagus sylvatica stressed in train dataset: 637\n",
      "Quercus robur/petraea healthy in train dataset: 490\n",
      "Quercus robur/petraea stressed in train dataset: 303\n",
      "Dead trees in train dataset: 189\n",
      "Picea abies healthy in validation dataset: 320\n",
      "Picea abies stressed in validation dataset: 155\n",
      "Pinus sylvestris healthy in validation dataset: 123\n",
      "Pinus sylvestris stressed in validation dataset: 105\n",
      "Abies alba healthy in validation dataset: 23\n",
      "Abies alba stressed in validation dataset: 2\n",
      "Fagus sylvatica healthy in validation dataset: 72\n",
      "Fagus sylvatica stressed in validation dataset: 76\n",
      "Quercus robur/petraea healthy in validation dataset: 68\n",
      "Quercus robur/petraea stressed in validation dataset: 34\n",
      "Dead trees in validation dataset: 23\n",
      "--------------------------------------------------\n",
      "\n",
      "Creating datasets for fold: 3\n",
      "\n",
      "Creating dataloaders for fold: 3\n",
      "\n",
      "Loaded pretrained weights for efficientnet-b7\n",
      "\n",
      "[INFO] Fold number: 3\n",
      "[INFO] Number of epochs: 50\n",
      "[INFO] Batch_size: 32\n",
      "[INFO] Number of bands: 4\n",
      "[INFO] Dropout rate: 0.5\n",
      "[INFO] Gamma learning rate: 0.75\n",
      "[INFO] Memory allocated: 0 bytes\n"
     ]
    },
    {
     "data": {
      "application/vnd.jupyter.widget-view+json": {
       "model_id": "9249a4fdc0f048a9871ab10e834a303a",
       "version_major": 2,
       "version_minor": 0
      },
      "text/plain": [
       "  0%|          | 0/50 [00:00<?, ?it/s]"
      ]
     },
     "metadata": {},
     "output_type": "display_data"
    },
    {
     "name": "stdout",
     "output_type": "stream",
     "text": [
      "Epoch: 1 \n",
      "Learning rate: 0.001\n",
      "Train loss: 1.4863 | Train precision: 0.3237 | Train recall: 0.2970 | Train f1score: 0.2982 | Train acc: 0.3920 | Train kappa: 0.6755 \n",
      "Val loss: 2.2723 | Val precision: 0.3019 | Val recall: 0.2721 | Val f1score: 0.1525 | Val acc: 0.2621 | Val kappa: 0.4478 \n",
      "\n",
      "Epoch: 2 \n",
      "Learning rate: 0.00075\n",
      "Train loss: 1.2087 | Train precision: 0.4357 | Train recall: 0.4077 | Train f1score: 0.4104 | Train acc: 0.4814 | Train kappa: 0.7942 \n",
      "Val loss: 1.2477 | Val precision: 0.4496 | Val recall: 0.4706 | Val f1score: 0.3925 | Val acc: 0.4970 | Val kappa: 0.8088 \n",
      "\n",
      "Epoch: 3 \n",
      "Learning rate: 0.0005625000000000001\n",
      "Train loss: 1.0702 | Train precision: 0.5123 | Train recall: 0.4903 | Train f1score: 0.4950 | Train acc: 0.5339 | Train kappa: 0.8356 \n",
      "Val loss: 1.0843 | Val precision: 0.5570 | Val recall: 0.4742 | Val f1score: 0.4594 | Val acc: 0.5282 | Val kappa: 0.8141 \n",
      "\n",
      "Epoch: 4 \n",
      "Learning rate: 0.000421875\n",
      "Train loss: 0.9972 | Train precision: 0.5584 | Train recall: 0.5257 | Train f1score: 0.5331 | Train acc: 0.5670 | Train kappa: 0.8682 \n",
      "Val loss: 0.9664 | Val precision: 0.5372 | Val recall: 0.6046 | Val f1score: 0.5557 | Val acc: 0.6200 | Val kappa: 0.8835 \n",
      "\n",
      "Epoch: 5 \n",
      "Learning rate: 0.00031640625\n",
      "Train loss: 0.9312 | Train precision: 0.5788 | Train recall: 0.5548 | Train f1score: 0.5608 | Train acc: 0.5903 | Train kappa: 0.8856 \n",
      "Val loss: 0.9808 | Val precision: 0.6375 | Val recall: 0.5380 | Val f1score: 0.5590 | Val acc: 0.5847 | Val kappa: 0.8766 \n",
      "\n",
      "Epoch: 6 \n",
      "Learning rate: 0.0002373046875\n",
      "Train loss: 0.8970 | Train precision: 0.5997 | Train recall: 0.5769 | Train f1score: 0.5835 | Train acc: 0.5987 | Train kappa: 0.8967 \n",
      "Val loss: 0.9181 | Val precision: 0.5859 | Val recall: 0.5362 | Val f1score: 0.5374 | Val acc: 0.6210 | Val kappa: 0.8912 \n",
      "\n",
      "Epoch: 7 \n",
      "Learning rate: 0.000177978515625\n",
      "Train loss: 0.8556 | Train precision: 0.6197 | Train recall: 0.5976 | Train f1score: 0.6047 | Train acc: 0.6204 | Train kappa: 0.9105 \n",
      "Val loss: 0.9067 | Val precision: 0.5577 | Val recall: 0.6152 | Val f1score: 0.5392 | Val acc: 0.6038 | Val kappa: 0.8933 \n",
      "\n",
      "Epoch: 8 \n",
      "Learning rate: 0.00013348388671875\n",
      "Train loss: 0.8257 | Train precision: 0.6298 | Train recall: 0.6040 | Train f1score: 0.6112 | Train acc: 0.6252 | Train kappa: 0.9144 \n",
      "Val loss: 0.9807 | Val precision: 0.6127 | Val recall: 0.5421 | Val f1score: 0.5583 | Val acc: 0.5907 | Val kappa: 0.8817 \n",
      "\n",
      "Epoch: 9 \n",
      "Learning rate: 0.0001001129150390625\n",
      "Train loss: 0.8028 | Train precision: 0.6402 | Train recall: 0.6156 | Train f1score: 0.6236 | Train acc: 0.6310 | Train kappa: 0.9195 \n",
      "Val loss: 0.8922 | Val precision: 0.5910 | Val recall: 0.5595 | Val f1score: 0.5683 | Val acc: 0.6230 | Val kappa: 0.8975 \n",
      "\n",
      "Epoch: 10 \n",
      "Learning rate: 7.508468627929687e-05\n",
      "Train loss: 0.7931 | Train precision: 0.6533 | Train recall: 0.6344 | Train f1score: 0.6401 | Train acc: 0.6382 | Train kappa: 0.9221 \n",
      "Val loss: 0.9015 | Val precision: 0.5988 | Val recall: 0.6225 | Val f1score: 0.5961 | Val acc: 0.6391 | Val kappa: 0.8963 \n",
      "\n",
      "Epoch: 11 \n",
      "Learning rate: 5.6313514709472656e-05\n",
      "Train loss: 0.7848 | Train precision: 0.6525 | Train recall: 0.6332 | Train f1score: 0.6399 | Train acc: 0.6463 | Train kappa: 0.9135 \n",
      "Val loss: 0.8968 | Val precision: 0.5493 | Val recall: 0.5627 | Val f1score: 0.5367 | Val acc: 0.6190 | Val kappa: 0.8699 \n",
      "\n",
      "Epoch: 12 \n",
      "Learning rate: 4.223513603210449e-05\n",
      "Train loss: 0.7526 | Train precision: 0.6778 | Train recall: 0.6519 | Train f1score: 0.6610 | Train acc: 0.6638 | Train kappa: 0.9301 \n",
      "Val loss: 0.8895 | Val precision: 0.5860 | Val recall: 0.5833 | Val f1score: 0.5708 | Val acc: 0.6361 | Val kappa: 0.9100 \n",
      "\n",
      "Epoch: 13 \n",
      "Learning rate: 3.167635202407837e-05\n",
      "Train loss: 0.7482 | Train precision: 0.6723 | Train recall: 0.6497 | Train f1score: 0.6569 | Train acc: 0.6573 | Train kappa: 0.9313 \n",
      "Val loss: 0.8981 | Val precision: 0.5778 | Val recall: 0.5705 | Val f1score: 0.5626 | Val acc: 0.6310 | Val kappa: 0.8994 \n",
      "\n",
      "Epoch: 14 \n",
      "Learning rate: 2.3757264018058778e-05\n",
      "Train loss: 0.7380 | Train precision: 0.6854 | Train recall: 0.6563 | Train f1score: 0.6660 | Train acc: 0.6674 | Train kappa: 0.9330 \n",
      "Val loss: 0.8958 | Val precision: 0.5721 | Val recall: 0.5692 | Val f1score: 0.5548 | Val acc: 0.6381 | Val kappa: 0.9000 \n",
      "\n",
      "Epoch: 15 \n",
      "Learning rate: 1.7817948013544083e-05\n",
      "Train loss: 0.7525 | Train precision: 0.6858 | Train recall: 0.6616 | Train f1score: 0.6707 | Train acc: 0.6602 | Train kappa: 0.9324 \n",
      "Val loss: 0.8815 | Val precision: 0.5534 | Val recall: 0.5722 | Val f1score: 0.5447 | Val acc: 0.6300 | Val kappa: 0.9000 \n",
      "\n",
      "Epoch: 16 \n",
      "Learning rate: 1.3363461010158063e-05\n",
      "Train loss: 0.7316 | Train precision: 0.6931 | Train recall: 0.6684 | Train f1score: 0.6771 | Train acc: 0.6691 | Train kappa: 0.9301 \n",
      "Val loss: 0.8946 | Val precision: 0.5617 | Val recall: 0.5632 | Val f1score: 0.5502 | Val acc: 0.6250 | Val kappa: 0.9029 \n",
      "\n",
      "Epoch: 17 \n",
      "Learning rate: 1.0022595757618546e-05\n",
      "Train loss: 0.7304 | Train precision: 0.6965 | Train recall: 0.6638 | Train f1score: 0.6754 | Train acc: 0.6664 | Train kappa: 0.9327 \n",
      "Val loss: 0.9023 | Val precision: 0.5798 | Val recall: 0.5820 | Val f1score: 0.5697 | Val acc: 0.6351 | Val kappa: 0.9057 \n",
      "\n",
      "Epoch: 18 \n",
      "Learning rate: 7.51694681821391e-06\n",
      "Train loss: 0.7227 | Train precision: 0.6933 | Train recall: 0.6703 | Train f1score: 0.6789 | Train acc: 0.6716 | Train kappa: 0.9341 \n",
      "Val loss: 0.9045 | Val precision: 0.5616 | Val recall: 0.5778 | Val f1score: 0.5546 | Val acc: 0.6250 | Val kappa: 0.9067 \n",
      "\n",
      "Epoch: 19 \n",
      "Learning rate: 5.637710113660432e-06\n",
      "Train loss: 0.7321 | Train precision: 0.6824 | Train recall: 0.6617 | Train f1score: 0.6690 | Train acc: 0.6635 | Train kappa: 0.9301 \n",
      "Val loss: 0.9047 | Val precision: 0.5716 | Val recall: 0.5791 | Val f1score: 0.5584 | Val acc: 0.6351 | Val kappa: 0.9016 \n",
      "\n",
      "Epoch: 20 \n",
      "Learning rate: 4.228282585245324e-06\n",
      "Train loss: 0.7180 | Train precision: 0.6990 | Train recall: 0.6819 | Train f1score: 0.6876 | Train acc: 0.6749 | Train kappa: 0.9386 \n",
      "Val loss: 0.9050 | Val precision: 0.5600 | Val recall: 0.5725 | Val f1score: 0.5503 | Val acc: 0.6240 | Val kappa: 0.8969 \n",
      "\n",
      "Epoch: 21 \n",
      "Learning rate: 3.1712119389339933e-06\n",
      "Train loss: 0.7290 | Train precision: 0.6954 | Train recall: 0.6708 | Train f1score: 0.6789 | Train acc: 0.6695 | Train kappa: 0.9289 \n",
      "Val loss: 0.9006 | Val precision: 0.5704 | Val recall: 0.5763 | Val f1score: 0.5617 | Val acc: 0.6361 | Val kappa: 0.9012 \n",
      "\n",
      "Epoch: 22 \n",
      "Learning rate: 2.378408954200495e-06\n",
      "Train loss: 0.7332 | Train precision: 0.6915 | Train recall: 0.6657 | Train f1score: 0.6751 | Train acc: 0.6662 | Train kappa: 0.9362 \n",
      "Val loss: 0.9038 | Val precision: 0.5610 | Val recall: 0.5654 | Val f1score: 0.5496 | Val acc: 0.6290 | Val kappa: 0.9005 \n",
      "\n",
      "Epoch: 23 \n",
      "Learning rate: 1.7838067156503713e-06\n",
      "Train loss: 0.7327 | Train precision: 0.6967 | Train recall: 0.6691 | Train f1score: 0.6775 | Train acc: 0.6730 | Train kappa: 0.9346 \n",
      "Val loss: 0.9086 | Val precision: 0.5661 | Val recall: 0.5670 | Val f1score: 0.5527 | Val acc: 0.6290 | Val kappa: 0.9005 \n",
      "\n",
      "Epoch: 24 \n",
      "Learning rate: 1.3378550367377785e-06\n",
      "Train loss: 0.7098 | Train precision: 0.7049 | Train recall: 0.6851 | Train f1score: 0.6922 | Train acc: 0.6784 | Train kappa: 0.9373 \n",
      "Val loss: 0.9045 | Val precision: 0.5661 | Val recall: 0.5707 | Val f1score: 0.5557 | Val acc: 0.6310 | Val kappa: 0.9040 \n",
      "\n",
      "Epoch: 25 \n",
      "Learning rate: 1.0033912775533338e-06\n",
      "Train loss: 0.7131 | Train precision: 0.6937 | Train recall: 0.6761 | Train f1score: 0.6828 | Train acc: 0.6788 | Train kappa: 0.9343 \n",
      "Val loss: 0.9076 | Val precision: 0.5680 | Val recall: 0.5662 | Val f1score: 0.5524 | Val acc: 0.6270 | Val kappa: 0.8990 \n",
      "\n",
      "Early stopping after epoch 25\n"
     ]
    },
    {
     "data": {
      "text/html": [
       "Waiting for W&B process to finish... <strong style=\"color:green\">(success).</strong>"
      ],
      "text/plain": [
       "<IPython.core.display.HTML object>"
      ]
     },
     "metadata": {},
     "output_type": "display_data"
    },
    {
     "data": {
      "application/vnd.jupyter.widget-view+json": {
       "model_id": "f66fd7a2df6540c9ab4ea1bd0b55a07e",
       "version_major": 2,
       "version_minor": 0
      },
      "text/plain": [
       "VBox(children=(Label(value='0.001 MB of 0.001 MB uploaded (0.000 MB deduped)\\r'), FloatProgress(value=1.0, max…"
      ]
     },
     "metadata": {},
     "output_type": "display_data"
    },
    {
     "data": {
      "text/html": [
       "<style>\n",
       "    table.wandb td:nth-child(1) { padding: 0 10px; text-align: left ; width: auto;} td:nth-child(2) {text-align: left ; width: 100%}\n",
       "    .wandb-row { display: flex; flex-direction: row; flex-wrap: wrap; justify-content: flex-start; width: 100% }\n",
       "    .wandb-col { display: flex; flex-direction: column; flex-basis: 100%; flex: 1; padding: 10px; }\n",
       "    </style>\n",
       "<div class=\"wandb-row\"><div class=\"wandb-col\"><h3>Run history:</h3><br/><table class=\"wandb\"><tr><td>learning_rate</td><td>█▆▅▄▃▃▂▂▂▂▁▁▁▁▁▁▁▁▁▁▁▁▁▁▁</td></tr><tr><td>train_f1_score</td><td>▁▃▄▅▆▆▆▇▇▇▇▇▇████████████</td></tr><tr><td>train_loss</td><td>█▅▄▄▃▃▂▂▂▂▂▁▁▁▁▁▁▁▁▁▁▁▁▁▁</td></tr><tr><td>val_f1_score</td><td>▁▅▆▇▇▇▇▇██▇█▇▇▇▇█▇▇▇▇▇▇▇▇</td></tr><tr><td>val_loss</td><td>█▃▂▁▁▁▁▁▁▁▁▁▁▁▁▁▁▁▁▁▁▁▁▁▁</td></tr></table><br/></div><div class=\"wandb-col\"><h3>Run summary:</h3><br/><table class=\"wandb\"><tr><td>learning_rate</td><td>0.0</td></tr><tr><td>train_f1_score</td><td>0.6828</td></tr><tr><td>train_loss</td><td>0.71306</td></tr><tr><td>val_f1_score</td><td>0.55238</td></tr><tr><td>val_loss</td><td>0.90762</td></tr></table><br/></div></div>"
      ],
      "text/plain": [
       "<IPython.core.display.HTML object>"
      ]
     },
     "metadata": {},
     "output_type": "display_data"
    },
    {
     "data": {
      "text/html": [
       " View run <strong style=\"color:#cdcd00\">fold_3_RGB-NIR-5species-combined_v2_plotsplit</strong> at: <a href='https://wandb.ai/simon-ecke/wze-uav-combined_v2/runs/v89cxja5' target=\"_blank\">https://wandb.ai/simon-ecke/wze-uav-combined_v2/runs/v89cxja5</a><br/>Synced 5 W&B file(s), 0 media file(s), 0 artifact file(s) and 0 other file(s)"
      ],
      "text/plain": [
       "<IPython.core.display.HTML object>"
      ]
     },
     "metadata": {},
     "output_type": "display_data"
    },
    {
     "data": {
      "text/html": [
       "Find logs at: <code>.\\wandb\\run-20230517_054504-v89cxja5\\logs</code>"
      ],
      "text/plain": [
       "<IPython.core.display.HTML object>"
      ]
     },
     "metadata": {},
     "output_type": "display_data"
    },
    {
     "name": "stdout",
     "output_type": "stream",
     "text": [
      "Deleting variables and emptying cache\n",
      "Memory allocated: 1055497216 bytes\n",
      "--------------------------------------------------\n",
      "\n",
      "Fold : 4\n",
      "TRAIN POSITIVE RATIO: 2.738104089219331\n",
      "VAL POSITIVE RATIO  : 3.0693306010928962\n",
      "LENGTH TRAIN GROUPS : 156\n",
      "LENGTH VAL GROUPS   : 41\n"
     ]
    },
    {
     "data": {
      "text/html": [
       "wandb version 0.15.2 is available!  To upgrade, please run:\n",
       " $ pip install wandb --upgrade"
      ],
      "text/plain": [
       "<IPython.core.display.HTML object>"
      ]
     },
     "metadata": {},
     "output_type": "display_data"
    },
    {
     "data": {
      "text/html": [
       "Tracking run with wandb version 0.14.2"
      ],
      "text/plain": [
       "<IPython.core.display.HTML object>"
      ]
     },
     "metadata": {},
     "output_type": "display_data"
    },
    {
     "data": {
      "text/html": [
       "Run data is saved locally in <code>C:\\Users\\lwfeckesim\\01_PyTorch\\wze-uav\\wze-uav-master\\wandb\\run-20230517_075642-jaqndtd2</code>"
      ],
      "text/plain": [
       "<IPython.core.display.HTML object>"
      ]
     },
     "metadata": {},
     "output_type": "display_data"
    },
    {
     "data": {
      "text/html": [
       "Syncing run <strong><a href='https://wandb.ai/simon-ecke/wze-uav-combined_v2/runs/jaqndtd2' target=\"_blank\">fold_4_RGB-NIR-5species-combined_v2_plotsplit</a></strong> to <a href='https://wandb.ai/simon-ecke/wze-uav-combined_v2' target=\"_blank\">Weights & Biases</a> (<a href='https://wandb.me/run' target=\"_blank\">docs</a>)<br/>"
      ],
      "text/plain": [
       "<IPython.core.display.HTML object>"
      ]
     },
     "metadata": {},
     "output_type": "display_data"
    },
    {
     "data": {
      "text/html": [
       " View project at <a href='https://wandb.ai/simon-ecke/wze-uav-combined_v2' target=\"_blank\">https://wandb.ai/simon-ecke/wze-uav-combined_v2</a>"
      ],
      "text/plain": [
       "<IPython.core.display.HTML object>"
      ]
     },
     "metadata": {},
     "output_type": "display_data"
    },
    {
     "data": {
      "text/html": [
       " View run at <a href='https://wandb.ai/simon-ecke/wze-uav-combined_v2/runs/jaqndtd2' target=\"_blank\">https://wandb.ai/simon-ecke/wze-uav-combined_v2/runs/jaqndtd2</a>"
      ],
      "text/plain": [
       "<IPython.core.display.HTML object>"
      ]
     },
     "metadata": {},
     "output_type": "display_data"
    },
    {
     "name": "stdout",
     "output_type": "stream",
     "text": [
      "There are no same hash_id values in train, val or test datasets. The datasplit was successful\n",
      "Check shapes:\n",
      "\n",
      "Images train dataset: (10760, 250, 250, 4)\n",
      "Labels train dataset: (10760, 1)\n",
      "\n",
      "Images validation dataset: (1020, 250, 250, 4)\n",
      "Labels validation dataset: (1020, 1)\n",
      "\n",
      "--------------------------------------------------\n",
      "Check if the split was stratified: (random_state=42)\n",
      "Picea abies healthy in train dataset: 2982\n",
      "Picea abies stressed in train dataset: 1660\n",
      "Pinus sylvestris healthy in train dataset: 1456\n",
      "Pinus sylvestris stressed in train dataset: 1795\n",
      "Abies alba healthy in train dataset: 361\n",
      "Abies alba stressed in train dataset: 132\n",
      "Fagus sylvatica healthy in train dataset: 843\n",
      "Fagus sylvatica stressed in train dataset: 539\n",
      "Quercus robur/petraea healthy in train dataset: 519\n",
      "Quercus robur/petraea stressed in train dataset: 312\n",
      "Dead trees in train dataset: 161\n",
      "Picea abies healthy in validation dataset: 263\n",
      "Picea abies stressed in validation dataset: 112\n",
      "Pinus sylvestris healthy in validation dataset: 176\n",
      "Pinus sylvestris stressed in validation dataset: 164\n",
      "Abies alba healthy in validation dataset: 29\n",
      "Abies alba stressed in validation dataset: 3\n",
      "Fagus sylvatica healthy in validation dataset: 73\n",
      "Fagus sylvatica stressed in validation dataset: 95\n",
      "Quercus robur/petraea healthy in validation dataset: 49\n",
      "Quercus robur/petraea stressed in validation dataset: 25\n",
      "Dead trees in validation dataset: 31\n",
      "--------------------------------------------------\n",
      "\n",
      "Creating datasets for fold: 4\n",
      "\n",
      "Creating dataloaders for fold: 4\n",
      "\n",
      "Loaded pretrained weights for efficientnet-b7\n",
      "\n",
      "[INFO] Fold number: 4\n",
      "[INFO] Number of epochs: 50\n",
      "[INFO] Batch_size: 32\n",
      "[INFO] Number of bands: 4\n",
      "[INFO] Dropout rate: 0.5\n",
      "[INFO] Gamma learning rate: 0.75\n",
      "[INFO] Memory allocated: 0 bytes\n"
     ]
    },
    {
     "data": {
      "application/vnd.jupyter.widget-view+json": {
       "model_id": "7e58f0d6b5ae4719b5cee4dec307dd79",
       "version_major": 2,
       "version_minor": 0
      },
      "text/plain": [
       "  0%|          | 0/50 [00:00<?, ?it/s]"
      ]
     },
     "metadata": {},
     "output_type": "display_data"
    },
    {
     "name": "stdout",
     "output_type": "stream",
     "text": [
      "Epoch: 1 \n",
      "Learning rate: 0.001\n",
      "Train loss: 1.5330 | Train precision: 0.3148 | Train recall: 0.2752 | Train f1score: 0.2814 | Train acc: 0.3834 | Train kappa: 0.6314 \n",
      "Val loss: 2.0438 | Val precision: 0.0988 | Val recall: 0.1346 | Val f1score: 0.0851 | Val acc: 0.2823 | Val kappa: 0.3680 \n",
      "\n",
      "Epoch: 2 \n",
      "Learning rate: 0.00075\n",
      "Train loss: 1.2055 | Train precision: 0.4736 | Train recall: 0.4286 | Train f1score: 0.4363 | Train acc: 0.4874 | Train kappa: 0.8064 \n",
      "Val loss: 1.5980 | Val precision: 0.3638 | Val recall: 0.2699 | Val f1score: 0.2476 | Val acc: 0.3468 | Val kappa: 0.5519 \n",
      "\n",
      "Epoch: 3 \n",
      "Learning rate: 0.0005625000000000001\n",
      "Train loss: 1.0863 | Train precision: 0.5007 | Train recall: 0.4693 | Train f1score: 0.4775 | Train acc: 0.5286 | Train kappa: 0.8451 \n",
      "Val loss: 1.7337 | Val precision: 0.4332 | Val recall: 0.3657 | Val f1score: 0.3121 | Val acc: 0.4133 | Val kappa: 0.7480 \n",
      "\n",
      "Epoch: 4 \n",
      "Learning rate: 0.000421875\n",
      "Train loss: 1.0174 | Train precision: 0.5446 | Train recall: 0.5092 | Train f1score: 0.5184 | Train acc: 0.5606 | Train kappa: 0.8518 \n",
      "Val loss: 1.2053 | Val precision: 0.4714 | Val recall: 0.4551 | Val f1score: 0.4260 | Val acc: 0.5333 | Val kappa: 0.8307 \n",
      "\n",
      "Epoch: 5 \n",
      "Learning rate: 0.00031640625\n",
      "Train loss: 0.9544 | Train precision: 0.5766 | Train recall: 0.5456 | Train f1score: 0.5552 | Train acc: 0.5791 | Train kappa: 0.8721 \n",
      "Val loss: 1.1410 | Val precision: 0.4902 | Val recall: 0.5249 | Val f1score: 0.4739 | Val acc: 0.5353 | Val kappa: 0.8595 \n",
      "\n",
      "Epoch: 6 \n",
      "Learning rate: 0.0002373046875\n",
      "Train loss: 0.8998 | Train precision: 0.6119 | Train recall: 0.5785 | Train f1score: 0.5905 | Train acc: 0.6078 | Train kappa: 0.8923 \n",
      "Val loss: 1.0045 | Val precision: 0.5309 | Val recall: 0.5494 | Val f1score: 0.5207 | Val acc: 0.5655 | Val kappa: 0.8815 \n",
      "\n",
      "Epoch: 7 \n",
      "Learning rate: 0.000177978515625\n",
      "Train loss: 0.8663 | Train precision: 0.6238 | Train recall: 0.5836 | Train f1score: 0.5947 | Train acc: 0.6187 | Train kappa: 0.8970 \n",
      "Val loss: 1.3208 | Val precision: 0.4682 | Val recall: 0.5202 | Val f1score: 0.4498 | Val acc: 0.5020 | Val kappa: 0.8261 \n",
      "\n",
      "Epoch: 8 \n",
      "Learning rate: 0.00013348388671875\n",
      "Train loss: 0.8457 | Train precision: 0.6323 | Train recall: 0.6009 | Train f1score: 0.6119 | Train acc: 0.6310 | Train kappa: 0.9011 \n",
      "Val loss: 1.1784 | Val precision: 0.5161 | Val recall: 0.5515 | Val f1score: 0.5031 | Val acc: 0.5423 | Val kappa: 0.8581 \n",
      "\n",
      "Epoch: 9 \n",
      "Learning rate: 0.0001001129150390625\n",
      "Train loss: 0.8317 | Train precision: 0.6442 | Train recall: 0.6172 | Train f1score: 0.6269 | Train acc: 0.6325 | Train kappa: 0.9051 \n",
      "Val loss: 0.9701 | Val precision: 0.5117 | Val recall: 0.5205 | Val f1score: 0.5071 | Val acc: 0.5675 | Val kappa: 0.8779 \n",
      "\n",
      "Epoch: 10 \n",
      "Learning rate: 7.508468627929687e-05\n",
      "Train loss: 0.8032 | Train precision: 0.6608 | Train recall: 0.6291 | Train f1score: 0.6415 | Train acc: 0.6449 | Train kappa: 0.9111 \n",
      "Val loss: 1.0513 | Val precision: 0.5500 | Val recall: 0.5525 | Val f1score: 0.5333 | Val acc: 0.5696 | Val kappa: 0.8768 \n",
      "\n",
      "Epoch: 11 \n",
      "Learning rate: 5.6313514709472656e-05\n",
      "Train loss: 0.7772 | Train precision: 0.6699 | Train recall: 0.6406 | Train f1score: 0.6510 | Train acc: 0.6616 | Train kappa: 0.9195 \n",
      "Val loss: 0.9505 | Val precision: 0.5724 | Val recall: 0.6086 | Val f1score: 0.5785 | Val acc: 0.5948 | Val kappa: 0.8905 \n",
      "\n",
      "Epoch: 12 \n",
      "Learning rate: 4.223513603210449e-05\n",
      "Train loss: 0.7732 | Train precision: 0.6805 | Train recall: 0.6532 | Train f1score: 0.6643 | Train acc: 0.6583 | Train kappa: 0.9210 \n",
      "Val loss: 0.9402 | Val precision: 0.5706 | Val recall: 0.5826 | Val f1score: 0.5652 | Val acc: 0.5968 | Val kappa: 0.8916 \n",
      "\n",
      "Epoch: 13 \n",
      "Learning rate: 3.167635202407837e-05\n",
      "Train loss: 0.7629 | Train precision: 0.6806 | Train recall: 0.6587 | Train f1score: 0.6665 | Train acc: 0.6632 | Train kappa: 0.9262 \n",
      "Val loss: 0.9792 | Val precision: 0.5531 | Val recall: 0.5734 | Val f1score: 0.5548 | Val acc: 0.5897 | Val kappa: 0.8819 \n",
      "\n",
      "Epoch: 14 \n",
      "Learning rate: 2.3757264018058778e-05\n",
      "Train loss: 0.7554 | Train precision: 0.6738 | Train recall: 0.6463 | Train f1score: 0.6575 | Train acc: 0.6633 | Train kappa: 0.9271 \n",
      "Val loss: 0.9633 | Val precision: 0.5620 | Val recall: 0.5817 | Val f1score: 0.5660 | Val acc: 0.5958 | Val kappa: 0.8917 \n",
      "\n",
      "Epoch: 15 \n",
      "Learning rate: 1.7817948013544083e-05\n",
      "Train loss: 0.7500 | Train precision: 0.6930 | Train recall: 0.6591 | Train f1score: 0.6711 | Train acc: 0.6732 | Train kappa: 0.9236 \n",
      "Val loss: 0.9859 | Val precision: 0.5460 | Val recall: 0.5775 | Val f1score: 0.5489 | Val acc: 0.5948 | Val kappa: 0.8836 \n",
      "\n",
      "Epoch: 16 \n",
      "Learning rate: 1.3363461010158063e-05\n",
      "Train loss: 0.7387 | Train precision: 0.6914 | Train recall: 0.6596 | Train f1score: 0.6709 | Train acc: 0.6715 | Train kappa: 0.9269 \n",
      "Val loss: 0.9640 | Val precision: 0.5525 | Val recall: 0.5776 | Val f1score: 0.5547 | Val acc: 0.5948 | Val kappa: 0.8865 \n",
      "\n",
      "Epoch: 17 \n",
      "Learning rate: 1.0022595757618546e-05\n",
      "Train loss: 0.7423 | Train precision: 0.6901 | Train recall: 0.6572 | Train f1score: 0.6698 | Train acc: 0.6708 | Train kappa: 0.9210 \n",
      "Val loss: 0.9693 | Val precision: 0.5576 | Val recall: 0.5823 | Val f1score: 0.5594 | Val acc: 0.5958 | Val kappa: 0.8869 \n",
      "\n",
      "Epoch: 18 \n",
      "Learning rate: 7.51694681821391e-06\n",
      "Train loss: 0.7588 | Train precision: 0.6874 | Train recall: 0.6557 | Train f1score: 0.6672 | Train acc: 0.6618 | Train kappa: 0.9190 \n",
      "Val loss: 0.9753 | Val precision: 0.5419 | Val recall: 0.5690 | Val f1score: 0.5452 | Val acc: 0.5857 | Val kappa: 0.8819 \n",
      "\n",
      "Epoch: 19 \n",
      "Learning rate: 5.637710113660432e-06\n",
      "Train loss: 0.7457 | Train precision: 0.6855 | Train recall: 0.6579 | Train f1score: 0.6690 | Train acc: 0.6713 | Train kappa: 0.9268 \n",
      "Val loss: 0.9744 | Val precision: 0.5372 | Val recall: 0.5652 | Val f1score: 0.5384 | Val acc: 0.5827 | Val kappa: 0.8822 \n",
      "\n",
      "Epoch: 20 \n",
      "Learning rate: 4.228282585245324e-06\n",
      "Train loss: 0.7400 | Train precision: 0.6864 | Train recall: 0.6642 | Train f1score: 0.6721 | Train acc: 0.6679 | Train kappa: 0.9266 \n",
      "Val loss: 0.9688 | Val precision: 0.5423 | Val recall: 0.5692 | Val f1score: 0.5439 | Val acc: 0.5867 | Val kappa: 0.8824 \n",
      "\n",
      "Epoch: 21 \n",
      "Learning rate: 3.1712119389339933e-06\n",
      "Train loss: 0.7246 | Train precision: 0.7065 | Train recall: 0.6746 | Train f1score: 0.6858 | Train acc: 0.6796 | Train kappa: 0.9237 \n",
      "Val loss: 0.9687 | Val precision: 0.5538 | Val recall: 0.5761 | Val f1score: 0.5553 | Val acc: 0.5927 | Val kappa: 0.8870 \n",
      "\n",
      "Epoch: 22 \n",
      "Learning rate: 2.378408954200495e-06\n",
      "Train loss: 0.7364 | Train precision: 0.6896 | Train recall: 0.6601 | Train f1score: 0.6721 | Train acc: 0.6714 | Train kappa: 0.9264 \n",
      "Val loss: 0.9608 | Val precision: 0.5584 | Val recall: 0.5844 | Val f1score: 0.5624 | Val acc: 0.6008 | Val kappa: 0.8927 \n",
      "\n",
      "Early stopping after epoch 22\n"
     ]
    },
    {
     "data": {
      "text/html": [
       "Waiting for W&B process to finish... <strong style=\"color:green\">(success).</strong>"
      ],
      "text/plain": [
       "<IPython.core.display.HTML object>"
      ]
     },
     "metadata": {},
     "output_type": "display_data"
    },
    {
     "data": {
      "application/vnd.jupyter.widget-view+json": {
       "model_id": "ccdde5982e13410c9e8d23ae696c2e9f",
       "version_major": 2,
       "version_minor": 0
      },
      "text/plain": [
       "VBox(children=(Label(value='0.001 MB of 0.001 MB uploaded (0.000 MB deduped)\\r'), FloatProgress(value=1.0, max…"
      ]
     },
     "metadata": {},
     "output_type": "display_data"
    },
    {
     "data": {
      "text/html": [
       "<style>\n",
       "    table.wandb td:nth-child(1) { padding: 0 10px; text-align: left ; width: auto;} td:nth-child(2) {text-align: left ; width: 100%}\n",
       "    .wandb-row { display: flex; flex-direction: row; flex-wrap: wrap; justify-content: flex-start; width: 100% }\n",
       "    .wandb-col { display: flex; flex-direction: column; flex-basis: 100%; flex: 1; padding: 10px; }\n",
       "    </style>\n",
       "<div class=\"wandb-row\"><div class=\"wandb-col\"><h3>Run history:</h3><br/><table class=\"wandb\"><tr><td>learning_rate</td><td>█▆▅▄▃▃▂▂▂▂▁▁▁▁▁▁▁▁▁▁▁▁</td></tr><tr><td>train_f1_score</td><td>▁▄▄▅▆▆▆▇▇▇▇███████████</td></tr><tr><td>train_loss</td><td>█▅▄▄▃▃▂▂▂▂▁▁▁▁▁▁▁▁▁▁▁▁</td></tr><tr><td>val_f1_score</td><td>▁▃▄▆▇▇▆▇▇▇████████▇███</td></tr><tr><td>val_loss</td><td>█▅▆▃▂▁▃▃▁▂▁▁▁▁▁▁▁▁▁▁▁▁</td></tr></table><br/></div><div class=\"wandb-col\"><h3>Run summary:</h3><br/><table class=\"wandb\"><tr><td>learning_rate</td><td>0.0</td></tr><tr><td>train_f1_score</td><td>0.67208</td></tr><tr><td>train_loss</td><td>0.73639</td></tr><tr><td>val_f1_score</td><td>0.5624</td></tr><tr><td>val_loss</td><td>0.96079</td></tr></table><br/></div></div>"
      ],
      "text/plain": [
       "<IPython.core.display.HTML object>"
      ]
     },
     "metadata": {},
     "output_type": "display_data"
    },
    {
     "data": {
      "text/html": [
       " View run <strong style=\"color:#cdcd00\">fold_4_RGB-NIR-5species-combined_v2_plotsplit</strong> at: <a href='https://wandb.ai/simon-ecke/wze-uav-combined_v2/runs/jaqndtd2' target=\"_blank\">https://wandb.ai/simon-ecke/wze-uav-combined_v2/runs/jaqndtd2</a><br/>Synced 5 W&B file(s), 0 media file(s), 0 artifact file(s) and 0 other file(s)"
      ],
      "text/plain": [
       "<IPython.core.display.HTML object>"
      ]
     },
     "metadata": {},
     "output_type": "display_data"
    },
    {
     "data": {
      "text/html": [
       "Find logs at: <code>.\\wandb\\run-20230517_075642-jaqndtd2\\logs</code>"
      ],
      "text/plain": [
       "<IPython.core.display.HTML object>"
      ]
     },
     "metadata": {},
     "output_type": "display_data"
    },
    {
     "name": "stdout",
     "output_type": "stream",
     "text": [
      "Deleting variables and emptying cache\n",
      "Memory allocated: 1057287168 bytes\n",
      "--------------------------------------------------\n",
      "\n",
      "Fold : 5\n",
      "TRAIN POSITIVE RATIO: 2.8369655172413792\n",
      "VAL POSITIVE RATIO  : 2.700675435478137\n",
      "LENGTH TRAIN GROUPS : 157\n",
      "LENGTH VAL GROUPS   : 40\n"
     ]
    },
    {
     "data": {
      "text/html": [
       "wandb version 0.15.2 is available!  To upgrade, please run:\n",
       " $ pip install wandb --upgrade"
      ],
      "text/plain": [
       "<IPython.core.display.HTML object>"
      ]
     },
     "metadata": {},
     "output_type": "display_data"
    },
    {
     "data": {
      "text/html": [
       "Tracking run with wandb version 0.14.2"
      ],
      "text/plain": [
       "<IPython.core.display.HTML object>"
      ]
     },
     "metadata": {},
     "output_type": "display_data"
    },
    {
     "data": {
      "text/html": [
       "Run data is saved locally in <code>C:\\Users\\lwfeckesim\\01_PyTorch\\wze-uav\\wze-uav-master\\wandb\\run-20230517_095704-3z9mtpfc</code>"
      ],
      "text/plain": [
       "<IPython.core.display.HTML object>"
      ]
     },
     "metadata": {},
     "output_type": "display_data"
    },
    {
     "data": {
      "text/html": [
       "Syncing run <strong><a href='https://wandb.ai/simon-ecke/wze-uav-combined_v2/runs/3z9mtpfc' target=\"_blank\">fold_5_RGB-NIR-5species-combined_v2_plotsplit</a></strong> to <a href='https://wandb.ai/simon-ecke/wze-uav-combined_v2' target=\"_blank\">Weights & Biases</a> (<a href='https://wandb.me/run' target=\"_blank\">docs</a>)<br/>"
      ],
      "text/plain": [
       "<IPython.core.display.HTML object>"
      ]
     },
     "metadata": {},
     "output_type": "display_data"
    },
    {
     "data": {
      "text/html": [
       " View project at <a href='https://wandb.ai/simon-ecke/wze-uav-combined_v2' target=\"_blank\">https://wandb.ai/simon-ecke/wze-uav-combined_v2</a>"
      ],
      "text/plain": [
       "<IPython.core.display.HTML object>"
      ]
     },
     "metadata": {},
     "output_type": "display_data"
    },
    {
     "data": {
      "text/html": [
       " View run at <a href='https://wandb.ai/simon-ecke/wze-uav-combined_v2/runs/3z9mtpfc' target=\"_blank\">https://wandb.ai/simon-ecke/wze-uav-combined_v2/runs/3z9mtpfc</a>"
      ],
      "text/plain": [
       "<IPython.core.display.HTML object>"
      ]
     },
     "metadata": {},
     "output_type": "display_data"
    },
    {
     "name": "stdout",
     "output_type": "stream",
     "text": [
      "There are no same hash_id values in train, val or test datasets. The datasplit was successful\n",
      "Check shapes:\n",
      "\n",
      "Images train dataset: (10875, 250, 250, 4)\n",
      "Labels train dataset: (10875, 1)\n",
      "\n",
      "Images validation dataset: (1048, 250, 250, 4)\n",
      "Labels validation dataset: (1048, 1)\n",
      "\n",
      "--------------------------------------------------\n",
      "Check if the split was stratified: (random_state=42)\n",
      "Picea abies healthy in train dataset: 2897\n",
      "Picea abies stressed in train dataset: 1485\n",
      "Pinus sylvestris healthy in train dataset: 1617\n",
      "Pinus sylvestris stressed in train dataset: 1911\n",
      "Abies alba healthy in train dataset: 363\n",
      "Abies alba stressed in train dataset: 123\n",
      "Fagus sylvatica healthy in train dataset: 773\n",
      "Fagus sylvatica stressed in train dataset: 660\n",
      "Quercus robur/petraea healthy in train dataset: 555\n",
      "Quercus robur/petraea stressed in train dataset: 275\n",
      "Dead trees in train dataset: 216\n",
      "Picea abies healthy in validation dataset: 319\n",
      "Picea abies stressed in validation dataset: 165\n",
      "Pinus sylvestris healthy in validation dataset: 122\n",
      "Pinus sylvestris stressed in validation dataset: 158\n",
      "Abies alba healthy in validation dataset: 29\n",
      "Abies alba stressed in validation dataset: 3\n",
      "Fagus sylvatica healthy in validation dataset: 110\n",
      "Fagus sylvatica stressed in validation dataset: 45\n",
      "Quercus robur/petraea healthy in validation dataset: 53\n",
      "Quercus robur/petraea stressed in validation dataset: 34\n",
      "Dead trees in validation dataset: 10\n",
      "--------------------------------------------------\n",
      "\n",
      "Creating datasets for fold: 5\n",
      "\n",
      "Creating dataloaders for fold: 5\n",
      "\n",
      "Loaded pretrained weights for efficientnet-b7\n",
      "\n",
      "[INFO] Fold number: 5\n",
      "[INFO] Number of epochs: 50\n",
      "[INFO] Batch_size: 32\n",
      "[INFO] Number of bands: 4\n",
      "[INFO] Dropout rate: 0.5\n",
      "[INFO] Gamma learning rate: 0.75\n",
      "[INFO] Memory allocated: 0 bytes\n"
     ]
    },
    {
     "data": {
      "application/vnd.jupyter.widget-view+json": {
       "model_id": "a4f8c76eadf5400fb179ae4667361af2",
       "version_major": 2,
       "version_minor": 0
      },
      "text/plain": [
       "  0%|          | 0/50 [00:00<?, ?it/s]"
      ]
     },
     "metadata": {},
     "output_type": "display_data"
    },
    {
     "name": "stdout",
     "output_type": "stream",
     "text": [
      "Epoch: 1 \n",
      "Learning rate: 0.001\n",
      "Train loss: 1.4828 | Train precision: 0.3594 | Train recall: 0.3277 | Train f1score: 0.3290 | Train acc: 0.4091 | Train kappa: 0.6899 \n",
      "Val loss: 1.9435 | Val precision: 0.1635 | Val recall: 0.1891 | Val f1score: 0.1123 | Val acc: 0.3408 | Val kappa: 0.5113 \n",
      "\n",
      "Epoch: 2 \n",
      "Learning rate: 0.00075\n",
      "Train loss: 1.1653 | Train precision: 0.4803 | Train recall: 0.4474 | Train f1score: 0.4501 | Train acc: 0.5098 | Train kappa: 0.8193 \n",
      "Val loss: 1.4030 | Val precision: 0.3320 | Val recall: 0.2561 | Val f1score: 0.2425 | Val acc: 0.4756 | Val kappa: 0.6084 \n",
      "\n",
      "Epoch: 3 \n",
      "Learning rate: 0.0005625000000000001\n",
      "Train loss: 1.0729 | Train precision: 0.5241 | Train recall: 0.4926 | Train f1score: 0.4988 | Train acc: 0.5418 | Train kappa: 0.8392 \n",
      "Val loss: 1.1631 | Val precision: 0.3047 | Val recall: 0.3332 | Val f1score: 0.3002 | Val acc: 0.5146 | Val kappa: 0.7624 \n",
      "\n",
      "Epoch: 4 \n",
      "Learning rate: 0.000421875\n",
      "Train loss: 0.9878 | Train precision: 0.5618 | Train recall: 0.5318 | Train f1score: 0.5392 | Train acc: 0.5741 | Train kappa: 0.8674 \n",
      "Val loss: 1.1334 | Val precision: 0.4458 | Val recall: 0.4536 | Val f1score: 0.4081 | Val acc: 0.5400 | Val kappa: 0.8051 \n",
      "\n",
      "Epoch: 5 \n",
      "Learning rate: 0.00031640625\n",
      "Train loss: 0.9315 | Train precision: 0.6059 | Train recall: 0.5707 | Train f1score: 0.5791 | Train acc: 0.5991 | Train kappa: 0.8880 \n",
      "Val loss: 1.1131 | Val precision: 0.4117 | Val recall: 0.4097 | Val f1score: 0.3471 | Val acc: 0.5088 | Val kappa: 0.8631 \n",
      "\n",
      "Epoch: 6 \n",
      "Learning rate: 0.0002373046875\n",
      "Train loss: 0.8862 | Train precision: 0.6145 | Train recall: 0.5802 | Train f1score: 0.5877 | Train acc: 0.6136 | Train kappa: 0.8947 \n",
      "Val loss: 0.9571 | Val precision: 0.4641 | Val recall: 0.4668 | Val f1score: 0.4581 | Val acc: 0.5576 | Val kappa: 0.8603 \n",
      "\n",
      "Epoch: 7 \n",
      "Learning rate: 0.000177978515625\n",
      "Train loss: 0.8643 | Train precision: 0.6307 | Train recall: 0.5985 | Train f1score: 0.6044 | Train acc: 0.6247 | Train kappa: 0.9050 \n",
      "Val loss: 0.9392 | Val precision: 0.4433 | Val recall: 0.4543 | Val f1score: 0.4333 | Val acc: 0.5410 | Val kappa: 0.8747 \n",
      "\n",
      "Epoch: 8 \n",
      "Learning rate: 0.00013348388671875\n",
      "Train loss: 0.8368 | Train precision: 0.6565 | Train recall: 0.6092 | Train f1score: 0.6196 | Train acc: 0.6397 | Train kappa: 0.9060 \n",
      "Val loss: 0.9530 | Val precision: 0.4554 | Val recall: 0.4820 | Val f1score: 0.4456 | Val acc: 0.5400 | Val kappa: 0.8772 \n",
      "\n",
      "Epoch: 9 \n",
      "Learning rate: 0.0001001129150390625\n",
      "Train loss: 0.8020 | Train precision: 0.6531 | Train recall: 0.6256 | Train f1score: 0.6338 | Train acc: 0.6438 | Train kappa: 0.9194 \n",
      "Val loss: 0.9723 | Val precision: 0.4949 | Val recall: 0.4658 | Val f1score: 0.4566 | Val acc: 0.5557 | Val kappa: 0.8792 \n",
      "\n",
      "Epoch: 10 \n",
      "Learning rate: 7.508468627929687e-05\n",
      "Train loss: 0.7894 | Train precision: 0.6627 | Train recall: 0.6294 | Train f1score: 0.6370 | Train acc: 0.6497 | Train kappa: 0.9245 \n",
      "Val loss: 0.9330 | Val precision: 0.4436 | Val recall: 0.4256 | Val f1score: 0.4102 | Val acc: 0.5498 | Val kappa: 0.8700 \n",
      "\n",
      "Epoch: 11 \n",
      "Learning rate: 5.6313514709472656e-05\n",
      "Train loss: 0.7698 | Train precision: 0.6713 | Train recall: 0.6388 | Train f1score: 0.6477 | Train acc: 0.6579 | Train kappa: 0.9258 \n",
      "Val loss: 0.9642 | Val precision: 0.5145 | Val recall: 0.4844 | Val f1score: 0.4800 | Val acc: 0.5576 | Val kappa: 0.8799 \n",
      "\n",
      "Epoch: 12 \n",
      "Learning rate: 4.223513603210449e-05\n",
      "Train loss: 0.7565 | Train precision: 0.6915 | Train recall: 0.6553 | Train f1score: 0.6674 | Train acc: 0.6679 | Train kappa: 0.9215 \n",
      "Val loss: 0.9278 | Val precision: 0.4337 | Val recall: 0.4358 | Val f1score: 0.4239 | Val acc: 0.5488 | Val kappa: 0.8724 \n",
      "\n",
      "Epoch: 13 \n",
      "Learning rate: 3.167635202407837e-05\n",
      "Train loss: 0.7657 | Train precision: 0.6833 | Train recall: 0.6429 | Train f1score: 0.6535 | Train acc: 0.6634 | Train kappa: 0.9242 \n",
      "Val loss: 0.9214 | Val precision: 0.4814 | Val recall: 0.5313 | Val f1score: 0.4821 | Val acc: 0.5664 | Val kappa: 0.8716 \n",
      "\n",
      "Epoch: 14 \n",
      "Learning rate: 2.3757264018058778e-05\n",
      "Train loss: 0.7511 | Train precision: 0.6774 | Train recall: 0.6569 | Train f1score: 0.6634 | Train acc: 0.6660 | Train kappa: 0.9217 \n",
      "Val loss: 0.9275 | Val precision: 0.4503 | Val recall: 0.4394 | Val f1score: 0.4264 | Val acc: 0.5654 | Val kappa: 0.8671 \n",
      "\n",
      "Epoch: 15 \n",
      "Learning rate: 1.7817948013544083e-05\n",
      "Train loss: 0.7393 | Train precision: 0.6950 | Train recall: 0.6551 | Train f1score: 0.6673 | Train acc: 0.6725 | Train kappa: 0.9213 \n",
      "Val loss: 0.9103 | Val precision: 0.4860 | Val recall: 0.4897 | Val f1score: 0.4733 | Val acc: 0.5771 | Val kappa: 0.8764 \n",
      "\n",
      "Epoch: 16 \n",
      "Learning rate: 1.3363461010158063e-05\n",
      "Train loss: 0.7257 | Train precision: 0.6959 | Train recall: 0.6641 | Train f1score: 0.6743 | Train acc: 0.6793 | Train kappa: 0.9331 \n",
      "Val loss: 0.9233 | Val precision: 0.5038 | Val recall: 0.4923 | Val f1score: 0.4845 | Val acc: 0.5693 | Val kappa: 0.8756 \n",
      "\n",
      "Epoch: 17 \n",
      "Learning rate: 1.0022595757618546e-05\n",
      "Train loss: 0.7347 | Train precision: 0.7000 | Train recall: 0.6681 | Train f1score: 0.6782 | Train acc: 0.6818 | Train kappa: 0.9223 \n",
      "Val loss: 0.9179 | Val precision: 0.5057 | Val recall: 0.4967 | Val f1score: 0.4888 | Val acc: 0.5732 | Val kappa: 0.8726 \n",
      "\n",
      "Epoch: 18 \n",
      "Learning rate: 7.51694681821391e-06\n",
      "Train loss: 0.7333 | Train precision: 0.6915 | Train recall: 0.6562 | Train f1score: 0.6666 | Train acc: 0.6748 | Train kappa: 0.9272 \n",
      "Val loss: 0.9103 | Val precision: 0.4924 | Val recall: 0.4809 | Val f1score: 0.4744 | Val acc: 0.5674 | Val kappa: 0.8681 \n",
      "\n",
      "Epoch: 19 \n",
      "Learning rate: 5.637710113660432e-06\n",
      "Train loss: 0.7216 | Train precision: 0.7031 | Train recall: 0.6660 | Train f1score: 0.6783 | Train acc: 0.6819 | Train kappa: 0.9272 \n",
      "Val loss: 0.9166 | Val precision: 0.4826 | Val recall: 0.4876 | Val f1score: 0.4710 | Val acc: 0.5732 | Val kappa: 0.8678 \n",
      "\n",
      "Epoch: 20 \n",
      "Learning rate: 4.228282585245324e-06\n",
      "Train loss: 0.7085 | Train precision: 0.7043 | Train recall: 0.6790 | Train f1score: 0.6871 | Train acc: 0.6855 | Train kappa: 0.9324 \n",
      "Val loss: 0.9135 | Val precision: 0.4825 | Val recall: 0.4890 | Val f1score: 0.4719 | Val acc: 0.5732 | Val kappa: 0.8701 \n",
      "\n",
      "Epoch: 21 \n",
      "Learning rate: 3.1712119389339933e-06\n",
      "Train loss: 0.7335 | Train precision: 0.6995 | Train recall: 0.6658 | Train f1score: 0.6768 | Train acc: 0.6815 | Train kappa: 0.9297 \n",
      "Val loss: 0.9206 | Val precision: 0.4883 | Val recall: 0.4817 | Val f1score: 0.4726 | Val acc: 0.5674 | Val kappa: 0.8670 \n",
      "\n",
      "Epoch: 22 \n",
      "Learning rate: 2.378408954200495e-06\n",
      "Train loss: 0.7126 | Train precision: 0.6901 | Train recall: 0.6643 | Train f1score: 0.6721 | Train acc: 0.6789 | Train kappa: 0.9301 \n",
      "Val loss: 0.9200 | Val precision: 0.4786 | Val recall: 0.4787 | Val f1score: 0.4644 | Val acc: 0.5693 | Val kappa: 0.8718 \n",
      "\n",
      "Epoch: 23 \n",
      "Learning rate: 1.7838067156503713e-06\n",
      "Train loss: 0.7169 | Train precision: 0.6992 | Train recall: 0.6706 | Train f1score: 0.6795 | Train acc: 0.6814 | Train kappa: 0.9294 \n",
      "Val loss: 0.9217 | Val precision: 0.4962 | Val recall: 0.4867 | Val f1score: 0.4775 | Val acc: 0.5693 | Val kappa: 0.8689 \n",
      "\n",
      "Epoch: 24 \n",
      "Learning rate: 1.3378550367377785e-06\n",
      "Train loss: 0.7128 | Train precision: 0.7031 | Train recall: 0.6765 | Train f1score: 0.6854 | Train acc: 0.6843 | Train kappa: 0.9323 \n",
      "Val loss: 0.9163 | Val precision: 0.4751 | Val recall: 0.4782 | Val f1score: 0.4634 | Val acc: 0.5693 | Val kappa: 0.8654 \n",
      "\n",
      "Epoch: 25 \n",
      "Learning rate: 1.0033912775533338e-06\n",
      "Train loss: 0.7179 | Train precision: 0.7115 | Train recall: 0.6776 | Train f1score: 0.6889 | Train acc: 0.6847 | Train kappa: 0.9339 \n",
      "Val loss: 0.9177 | Val precision: 0.4738 | Val recall: 0.4774 | Val f1score: 0.4618 | Val acc: 0.5674 | Val kappa: 0.8681 \n",
      "\n",
      "Early stopping after epoch 25\n"
     ]
    },
    {
     "data": {
      "text/html": [
       "Waiting for W&B process to finish... <strong style=\"color:green\">(success).</strong>"
      ],
      "text/plain": [
       "<IPython.core.display.HTML object>"
      ]
     },
     "metadata": {},
     "output_type": "display_data"
    },
    {
     "data": {
      "text/html": [
       "<style>\n",
       "    table.wandb td:nth-child(1) { padding: 0 10px; text-align: left ; width: auto;} td:nth-child(2) {text-align: left ; width: 100%}\n",
       "    .wandb-row { display: flex; flex-direction: row; flex-wrap: wrap; justify-content: flex-start; width: 100% }\n",
       "    .wandb-col { display: flex; flex-direction: column; flex-basis: 100%; flex: 1; padding: 10px; }\n",
       "    </style>\n",
       "<div class=\"wandb-row\"><div class=\"wandb-col\"><h3>Run history:</h3><br/><table class=\"wandb\"><tr><td>learning_rate</td><td>█▆▅▄▃▃▂▂▂▂▁▁▁▁▁▁▁▁▁▁▁▁▁▁▁</td></tr><tr><td>train_f1_score</td><td>▁▃▄▅▆▆▆▇▇▇▇█▇████████████</td></tr><tr><td>train_loss</td><td>█▅▄▄▃▃▂▂▂▂▂▁▂▁▁▁▁▁▁▁▁▁▁▁▁</td></tr><tr><td>val_f1_score</td><td>▁▃▄▆▅▇▇▇▇▇█▇█▇██████████▇</td></tr><tr><td>val_loss</td><td>█▄▃▃▂▁▁▁▁▁▁▁▁▁▁▁▁▁▁▁▁▁▁▁▁</td></tr></table><br/></div><div class=\"wandb-col\"><h3>Run summary:</h3><br/><table class=\"wandb\"><tr><td>learning_rate</td><td>0.0</td></tr><tr><td>train_f1_score</td><td>0.68887</td></tr><tr><td>train_loss</td><td>0.71787</td></tr><tr><td>val_f1_score</td><td>0.4618</td></tr><tr><td>val_loss</td><td>0.91768</td></tr></table><br/></div></div>"
      ],
      "text/plain": [
       "<IPython.core.display.HTML object>"
      ]
     },
     "metadata": {},
     "output_type": "display_data"
    },
    {
     "data": {
      "text/html": [
       " View run <strong style=\"color:#cdcd00\">fold_5_RGB-NIR-5species-combined_v2_plotsplit</strong> at: <a href='https://wandb.ai/simon-ecke/wze-uav-combined_v2/runs/3z9mtpfc' target=\"_blank\">https://wandb.ai/simon-ecke/wze-uav-combined_v2/runs/3z9mtpfc</a><br/>Synced 5 W&B file(s), 0 media file(s), 0 artifact file(s) and 0 other file(s)"
      ],
      "text/plain": [
       "<IPython.core.display.HTML object>"
      ]
     },
     "metadata": {},
     "output_type": "display_data"
    },
    {
     "data": {
      "text/html": [
       "Find logs at: <code>.\\wandb\\run-20230517_095704-3z9mtpfc\\logs</code>"
      ],
      "text/plain": [
       "<IPython.core.display.HTML object>"
      ]
     },
     "metadata": {},
     "output_type": "display_data"
    },
    {
     "name": "stdout",
     "output_type": "stream",
     "text": [
      "Deleting variables and emptying cache\n",
      "Memory allocated: 1055728640 bytes\n",
      "--------------------------------------------------\n",
      "\n",
      "CPU times: total: 4h 54min 11s\n",
      "Wall time: 10h 23min 14s\n"
     ]
    }
   ],
   "source": [
    "%%time\n",
    "\n",
    "# Set the random seeds\n",
    "set_seeds(42)\n",
    "\n",
    "# Define the number of folds\n",
    "num_folds = 5\n",
    "\n",
    "# group the hashIDs to get the unique values of hashIDs remaining in the subset  \n",
    "groups = sub_hash_id[:, 0] \n",
    "print(\"ORIGINAL POSITIVE RATIO:\", sub_label_set.mean())\n",
    "# create a StratifiedGroupKFold instance\n",
    "kf = StratifiedGroupKFold(n_splits=num_folds, shuffle=True, random_state=42)\n",
    "\n",
    "# loop through the folds\n",
    "for fold, (train_ids, val_ids) in enumerate(kf.split(sub_image_set, sub_label_set, groups)):\n",
    "    print(\"Fold :\", fold+1)\n",
    "    print(\"TRAIN POSITIVE RATIO:\", sub_label_set[train_ids].mean())\n",
    "    print(\"VAL POSITIVE RATIO  :\", sub_label_set[val_ids].mean())\n",
    "    print(\"LENGTH TRAIN GROUPS :\", len(set(groups[train_ids])))\n",
    "    print(\"LENGTH VAL GROUPS   :\", len(set(groups[val_ids])))\n",
    "    \n",
    "    train_ids = sub_hash_id[:, 0][train_ids]\n",
    "    val_ids = np.unique(sub_hash_id[:, 0][val_ids])\n",
    "\n",
    "    torch.cuda.empty_cache()\n",
    "    \n",
    "    # Initialize a new wandb run for this fold\n",
    "    wandb.init(project='wze-uav-combined_v2', name=f\"fold_{fold + 1}_{extra}\")\n",
    "    \n",
    "    # 1. Split data into train and validation set\n",
    "    # Get the training and testing data for this fold\n",
    "    # Use np.isin() to create boolean arrays indicating which indices belong to train or test sets\n",
    "    train_indices = np.isin(sub_hash_id[:,0], train_ids)\n",
    "    \n",
    "    val_indices = np.zeros_like(train_indices)  # initialize to all False\n",
    "    for hash_id_val in val_ids:\n",
    "        # select one image ID randomly from either 2020 or 2021 or 2022 for each unique hash ID in the test set\n",
    "        temp = np.unique(sub_hash_id[(sub_hash_id[:, 0] == hash_id_val), 1]) # check how many years are available per hashID\n",
    "        if len(temp) == 1:\n",
    "            year = temp[0]\n",
    "        elif len(temp) == 2:\n",
    "            year = np.random.choice(temp)\n",
    "        else:\n",
    "            year = np.random.choice(temp)\n",
    "        \n",
    "        # select image ID using the conditions\n",
    "        image_ids = sub_hash_id[(sub_hash_id[:,0] == hash_id_val) & (sub_hash_id[:,1] == year), 0]\n",
    "    \n",
    "        # mark the index corresponding to the selected image ID and hash ID as True in the test indices array\n",
    "        val_indices[(sub_hash_id[:,0] == hash_id_val) & (sub_hash_id[:,1] == year) & (np.isin(sub_hash_id[:,0], image_ids))] = True \n",
    "    \n",
    "    # Reshape boolean arrays to match shape of image_set and label_set\n",
    "    train_indices = train_indices.reshape(-1, 1)\n",
    "    val_indices = val_indices.reshape(-1, 1)\n",
    "    \n",
    "    # Select images and labels for train and validation sets\n",
    "    train_image_set = sub_image_set[train_indices[:, 0]]\n",
    "    train_label_set = sub_label_set[train_indices[:, 0]]\n",
    "    train_hash_id = sub_hash_id[train_indices[:, 0]][:,0]\n",
    "    train_species_set = sub_species_set[train_indices[:, 0]]\n",
    "    val_image_set = sub_image_set[val_indices[:, 0]]\n",
    "    val_label_set = sub_label_set[val_indices[:, 0]]\n",
    "    val_hash_id = sub_hash_id[val_indices[:, 0]][:,0]\n",
    "    val_species_set = sub_species_set[val_indices[:, 0]]\n",
    "    # reshape \n",
    "    train_label_set = train_label_set.reshape(-1, 1)\n",
    "    val_label_set = val_label_set.reshape(-1, 1)\n",
    "    train_species_set = train_species_set.reshape(-1, 1)\n",
    "    val_species_set = val_species_set.reshape(-1, 1)\n",
    "    \n",
    "    # check if there are any group overlaps between the data splits\n",
    "    hash_set = set(train_hash_id)\n",
    "    val_hash_set = set(val_hash_id)\n",
    "    test_hash_set = set(test_hash_id[:, 0].flatten())\n",
    "    intersection = hash_set.intersection(val_hash_set)\n",
    "    intersection2 = test_hash_set.intersection(val_hash_set)\n",
    "    intersection3 = hash_set.intersection(test_hash_set)\n",
    "    if intersection:\n",
    "        print(f\"Hash_id values in both train and val sets: {len(intersection)}\")\n",
    "        print(f\"Hash_id values in both test and val sets: {len(intersection2)}\")\n",
    "        print(f\"Hash_id values in both train and test sets: {len(intersection3)}\")\n",
    "    else:\n",
    "        print(\"There are no same hash_id values in train, val or test datasets. The datasplit was successful\")\n",
    "    \n",
    "         \n",
    "    print(\"Check shapes:\\n\")\n",
    "    print(f\"Images train dataset: {train_image_set.shape}\")\n",
    "    print(f\"Labels train dataset: {train_label_set.shape}\\n\")\n",
    "    \n",
    "    print(f\"Images validation dataset: {val_image_set.shape}\")\n",
    "    print(f\"Labels validation dataset: {val_label_set.shape}\\n\")\n",
    "    print('-'*50)\n",
    "    print (f\"Check if the split was stratified: (random_state=42)\")\n",
    "    print(f\"Picea abies healthy in train dataset: {np.count_nonzero(train_label_set == 0)}\")\n",
    "    print(f\"Picea abies stressed in train dataset: {np.count_nonzero(train_label_set == 1)}\")\n",
    "    print(f\"Pinus sylvestris healthy in train dataset: {np.count_nonzero(train_label_set == 2)}\")\n",
    "    print(f\"Pinus sylvestris stressed in train dataset: {np.count_nonzero(train_label_set == 3)}\")\n",
    "    print(f\"Abies alba healthy in train dataset: {np.count_nonzero(train_label_set == 4)}\")\n",
    "    print(f\"Abies alba stressed in train dataset: {np.count_nonzero(train_label_set == 5)}\")\n",
    "    print(f\"Fagus sylvatica healthy in train dataset: {np.count_nonzero(train_label_set == 6)}\")\n",
    "    print(f\"Fagus sylvatica stressed in train dataset: {np.count_nonzero(train_label_set == 7)}\")\n",
    "    print(f\"Quercus robur/petraea healthy in train dataset: {np.count_nonzero(train_label_set == 8)}\")\n",
    "    print(f\"Quercus robur/petraea stressed in train dataset: {np.count_nonzero(train_label_set == 9)}\")\n",
    "    print(f\"Dead trees in train dataset: {np.count_nonzero(train_label_set == 10)}\")\n",
    "    print(f\"Picea abies healthy in validation dataset: {np.count_nonzero(val_label_set == 0)}\")\n",
    "    print(f\"Picea abies stressed in validation dataset: {np.count_nonzero(val_label_set == 1)}\")\n",
    "    print(f\"Pinus sylvestris healthy in validation dataset: {np.count_nonzero(val_label_set == 2)}\")\n",
    "    print(f\"Pinus sylvestris stressed in validation dataset: {np.count_nonzero(val_label_set == 3)}\")\n",
    "    print(f\"Abies alba healthy in validation dataset: {np.count_nonzero(val_label_set == 4)}\")\n",
    "    print(f\"Abies alba stressed in validation dataset: {np.count_nonzero(val_label_set == 5)}\")\n",
    "    print(f\"Fagus sylvatica healthy in validation dataset: {np.count_nonzero(val_label_set == 6)}\")\n",
    "    print(f\"Fagus sylvatica stressed in validation dataset: {np.count_nonzero(val_label_set == 7)}\")\n",
    "    print(f\"Quercus robur/petraea healthy in validation dataset: {np.count_nonzero(val_label_set == 8)}\")\n",
    "    print(f\"Quercus robur/petraea stressed in validation dataset: {np.count_nonzero(val_label_set == 9)}\")\n",
    "    print(f\"Dead trees in validation dataset: {np.count_nonzero(val_label_set == 10)}\")\n",
    "    #print(f\"Ratio health trees in validation dataset: {np.count_nonzero(val_label_set == 0)/np.count_nonzero(sub_label_set == 0)}\")\n",
    "    #print(f\"Ratio moderately stressed trees in validation dataset: {np.count_nonzero(val_label_set == 1)/np.count_nonzero(sub_label_set == 1)}\")\n",
    "    #print(f\"Ratio severely stressed trees in validation dataset: {np.count_nonzero(val_label_set == 1)/np.count_nonzero(sub_label_set == 2)}\")\n",
    "    #print(f\"Ratio dead trees in validation dataset: {np.count_nonzero(val_label_set == 2)/np.count_nonzero(sub_label_set == 3)}\")\n",
    "    print(\"-\"*50)\n",
    "   \n",
    "    # 2. Create train and validation dataset. (choose custom dataset loader with 3 - 5 classes)\n",
    "    print(f\"\\nCreating datasets for fold: {fold + 1}\\n\")\n",
    "    train_dataset = data_loader.CustomDataset(data=train_image_set, labels=train_label_set, class_names=class_names, species = train_species_set,\n",
    "                                                         transform=transform_train)\n",
    "    \n",
    "    val_dataset = data_loader.CustomDataset(data=val_image_set, labels=val_label_set, class_names=class_names,\n",
    "                                                       species = val_species_set, transform=transform)\n",
    "   \n",
    "    # 3. Create train and validation dataloader\n",
    "    # create sampler for oversampling of the minority classes\n",
    "    sampler = data_loader.data_sampler(dataset=train_dataset, class_names=class_names)\n",
    "    print(f\"Creating dataloaders for fold: {fold +1}\\n\")\n",
    "    train_dataloader = DataLoader(train_dataset, batch_size=batch_size, persistent_workers=True, pin_memory=True, num_workers=NUM_WORKERS, generator=g,\n",
    "                              sampler=sampler, shuffle=False, drop_last=True) # shuffle false because of the sampler\n",
    "\n",
    "    val_dataloader = DataLoader(val_dataset, batch_size=batch_size, persistent_workers=True, pin_memory=True, num_workers=NUM_WORKERS, shuffle=False,\n",
    "                             drop_last=True)\n",
    "    \n",
    "    model = model_effnet.EfficientNet.from_pretrained('efficientnet-b7', in_channels=n_bands, num_classes=num_classes, dropout_rate=dropout_rate)\n",
    "    #model = models.create_effnetb7(output_shape=num_classes, unfreeze=True, dropout_rate=dropout_rate, device=device)\n",
    "   \n",
    "    loss_fn = nn.CrossEntropyLoss()\n",
    "    optimizer = torch.optim.Adam(params=model.parameters(), lr=lr)\n",
    "    lr_scheduler = CustomExponentialLR(optimizer, gamma=gamma, min_lr=min_lr)\n",
    "\n",
    "    fold += 1\n",
    "    print(f\"\\n[INFO] Fold number: {fold}\")\n",
    "    print(f\"[INFO] Number of epochs: {epochs}\")\n",
    "    print(f\"[INFO] Batch_size: {batch_size}\")\n",
    "    print(f\"[INFO] Number of bands: {n_bands}\")\n",
    "    print(f\"[INFO] Dropout rate: {dropout_rate}\")\n",
    "    print(f\"[INFO] Gamma learning rate: {gamma}\")\n",
    "    print(f\"[INFO] Memory allocated: {torch.cuda.memory_allocated()} bytes\")\n",
    "    # 4. Train model with k fold dataloaders and track experiments\n",
    "    \n",
    "    if fold == 1:\n",
    "        fold1_results = train(model=model, model_name=model_name, n_bands=n_bands, batch_size=batch_size,train_dataloader=train_dataloader, val_dataloader=val_dataloader, \n",
    "                        optimizer=optimizer, loss_fn=loss_fn, lr_scheduler=lr_scheduler, num_classes=num_classes, epochs=epochs, experiment_num=fold, device=device,\n",
    "                        writer=None, early_stop_patience = patience)\n",
    "       \n",
    "    elif fold == 2:\n",
    "        fold2_results = train(model=model, model_name=model_name, n_bands=n_bands, batch_size=batch_size,train_dataloader=train_dataloader, val_dataloader=val_dataloader, \n",
    "                        optimizer=optimizer, loss_fn=loss_fn, lr_scheduler=lr_scheduler, num_classes=num_classes, epochs=epochs, experiment_num=fold, device=device,\n",
    "                        writer=None, early_stop_patience = patience)\n",
    "    elif fold == 3:\n",
    "        fold3_results = train(model=model, model_name=model_name, n_bands=n_bands, batch_size=batch_size,train_dataloader=train_dataloader, val_dataloader=val_dataloader, \n",
    "                        optimizer=optimizer, loss_fn=loss_fn, lr_scheduler=lr_scheduler, num_classes=num_classes, epochs=epochs, experiment_num=fold, device=device,\n",
    "                        writer=None, early_stop_patience = patience)\n",
    "    elif fold == 4:\n",
    "        fold4_results = train(model=model, model_name=model_name, n_bands=n_bands, batch_size=batch_size,train_dataloader=train_dataloader, val_dataloader=val_dataloader, \n",
    "                        optimizer=optimizer, loss_fn=loss_fn, lr_scheduler=lr_scheduler, num_classes=num_classes, epochs=epochs, experiment_num=fold, device=device,\n",
    "                        writer=None, early_stop_patience = patience)\n",
    "    else:\n",
    "        fold5_results = train(model=model, model_name=model_name, n_bands=n_bands, batch_size=batch_size,train_dataloader=train_dataloader, val_dataloader=val_dataloader, \n",
    "                        optimizer=optimizer, loss_fn=loss_fn, lr_scheduler=lr_scheduler, num_classes=num_classes, epochs=epochs, experiment_num=fold, device=device,\n",
    "                        writer=None, early_stop_patience = patience)\n",
    "    \n",
    "    del train_indices, val_indices, train_image_set, train_label_set, train_hash_id, train_species_set, val_image_set, val_label_set, val_hash_id, val_species_set,\n",
    "    train_dataset, val_dataset, sampler, train_dataloader, val_dataloader, model, loss_fn, optimizer, lr_scheduler\n",
    "    \n",
    "    #finish the wandb run\n",
    "    wandb.finish()\n",
    "    print(\"Deleting variables and emptying cache\")\n",
    "    gc.collect()\n",
    "    torch.cuda.empty_cache()\n",
    "    print(f\"Memory allocated: {torch.cuda.memory_allocated()} bytes\")\n",
    "    print(\"-\"*50 + \"\\n\")"
   ]
  },
  {
   "cell_type": "markdown",
   "id": "a36b9b92",
   "metadata": {},
   "source": [
    "#### Create test dataset and test dataloader "
   ]
  },
  {
   "cell_type": "code",
   "execution_count": 19,
   "id": "c0c36ebb",
   "metadata": {},
   "outputs": [],
   "source": [
    "# create test dataset\n",
    "test_dataset = data_loader.CustomTestDataset(\n",
    "    data = test_image_set,\n",
    "    labels = test_label_set,\n",
    "    class_names=class_names, \n",
    "    species = test_species_set,\n",
    "    kkl = None,\n",
    "    transform=transform\n",
    ")\n",
    "\n",
    "# create test dataloader\n",
    "test_dataloader = DataLoader(test_dataset,\n",
    "                             batch_size=batch_size,\n",
    "                             persistent_workers=True,\n",
    "                             pin_memory=True,\n",
    "                             num_workers=NUM_WORKERS,\n",
    "                             shuffle=False,\n",
    "                             drop_last=True)"
   ]
  },
  {
   "cell_type": "markdown",
   "id": "22cdaac7",
   "metadata": {},
   "source": [
    "#### Perform ensembling of the five best models"
   ]
  },
  {
   "cell_type": "code",
   "execution_count": 20,
   "id": "67db5af2",
   "metadata": {},
   "outputs": [
    {
     "name": "stdout",
     "output_type": "stream",
     "text": [
      "Loaded pretrained weights for efficientnet-b7\n",
      "Loaded pretrained weights for efficientnet-b7\n",
      "Loaded pretrained weights for efficientnet-b7\n",
      "Loaded pretrained weights for efficientnet-b7\n",
      "Loaded pretrained weights for efficientnet-b7\n",
      "              precision    recall  f1-score   support\n",
      "\n",
      "           0       0.72      0.81      0.76       275\n",
      "           1       0.59      0.41      0.48       132\n",
      "           2       0.56      0.60      0.58        78\n",
      "           3       0.50      0.49      0.50        61\n",
      "           4       0.49      0.74      0.59        23\n",
      "           5       0.71      0.38      0.50        13\n",
      "           6       0.74      0.70      0.72       166\n",
      "           7       0.56      0.52      0.54        56\n",
      "           8       0.48      0.53      0.50        85\n",
      "           9       0.25      0.17      0.20        29\n",
      "          10       0.69      0.90      0.78        10\n",
      "\n",
      "    accuracy                           0.63       928\n",
      "   macro avg       0.57      0.57      0.56       928\n",
      "weighted avg       0.62      0.63      0.62       928\n",
      "\n",
      "[[224  33   6   5   3   1   0   1   0   0   2]\n",
      " [ 72  54   1   1   2   0   0   1   0   0   1]\n",
      " [  2   3  47  23   0   0   0   1   2   0   0]\n",
      " [  2   0  28  30   0   0   0   0   0   0   1]\n",
      " [  5   1   0   0  17   0   0   0   0   0   0]\n",
      " [  0   0   0   0   7   5   0   1   0   0   0]\n",
      " [  1   0   1   0   2   1 117   8  33   3   0]\n",
      " [  1   1   1   0   1   0  19  29   4   0   0]\n",
      " [  5   0   0   0   3   0  15   5  45  12   0]\n",
      " [  0   0   0   0   0   0   8   6  10   5   0]\n",
      " [  0   0   0   1   0   0   0   0   0   0   9]]\n"
     ]
    }
   ],
   "source": [
    "# Setup the best model filepaths\n",
    "best_model1_path = r\"C:\\Users\\lwfeckesim\\01_PyTorch\\wze-uav\\wze-uav-master\\models\\EffNet_b7_RGB-NIR-5species-combined_v2_plotsplit\\1_EffNet_b7_RGB-NIR-5species-combined_v2_plotsplit_18_epochs.pth\"\n",
    "best_model2_path = r\"C:\\Users\\lwfeckesim\\01_PyTorch\\wze-uav\\wze-uav-master\\models\\EffNet_b7_RGB-NIR-5species-combined_v2_plotsplit\\2_EffNet_b7_RGB-NIR-5species-combined_v2_plotsplit_14_epochs.pth\"\n",
    "best_model3_path = r\"C:\\Users\\lwfeckesim\\01_PyTorch\\wze-uav\\wze-uav-master\\models\\EffNet_b7_RGB-NIR-5species-combined_v2_plotsplit\\3_EffNet_b7_RGB-NIR-5species-combined_v2_plotsplit_15_epochs.pth\"\n",
    "best_model4_path = r\"C:\\Users\\lwfeckesim\\01_PyTorch\\wze-uav\\wze-uav-master\\models\\EffNet_b7_RGB-NIR-5species-combined_v2_plotsplit\\4_EffNet_b7_RGB-NIR-5species-combined_v2_plotsplit_12_epochs.pth\"\n",
    "best_model5_path = r\"C:\\Users\\lwfeckesim\\01_PyTorch\\wze-uav\\wze-uav-master\\models\\EffNet_b7_RGB-NIR-5species-combined_v2_plotsplit\\5_EffNet_b7_RGB-NIR-5species-combined_v2_plotsplit_15_epochs.pth\"\n",
    "\n",
    "# Instantiate a new instance of EffNetB7 (to load the saved state_dict() to)\n",
    "#model1 = models.create_effnetb7(output_shape=num_classes, unfreeze=unfreeze, dropout_rate=dropout_rate, device=device)\n",
    "#model2 = models.create_effnetb7(output_shape=num_classes, unfreeze=unfreeze, dropout_rate=dropout_rate, device=device)\n",
    "#model3 = models.create_effnetb7(output_shape=num_classes, unfreeze=unfreeze, dropout_rate=dropout_rate, device=device)\n",
    "#model4 = models.create_effnetb7(output_shape=num_classes, unfreeze=unfreeze, dropout_rate=dropout_rate, device=device)\n",
    "#model5 = models.create_effnetb7(output_shape=num_classes, unfreeze=unfreeze, dropout_rate=dropout_rate, device=device)\n",
    "# for custom models with more than three bands as input\n",
    "model1 = model_effnet.EfficientNet.from_pretrained('efficientnet-b7', in_channels=n_bands, num_classes=num_classes, dropout_rate=dropout_rate)\n",
    "model2 = model_effnet.EfficientNet.from_pretrained('efficientnet-b7', in_channels=n_bands, num_classes=num_classes, dropout_rate=dropout_rate)\n",
    "model3 = model_effnet.EfficientNet.from_pretrained('efficientnet-b7', in_channels=n_bands, num_classes=num_classes, dropout_rate=dropout_rate)\n",
    "model4 = model_effnet.EfficientNet.from_pretrained('efficientnet-b7', in_channels=n_bands, num_classes=num_classes, dropout_rate=dropout_rate)\n",
    "model5 = model_effnet.EfficientNet.from_pretrained('efficientnet-b7', in_channels=n_bands, num_classes=num_classes, dropout_rate=dropout_rate)\n",
    "\n",
    "# Load the saved best model state_dict()\n",
    "model1.load_state_dict(torch.load(best_model1_path))\n",
    "model2.load_state_dict(torch.load(best_model2_path))\n",
    "model3.load_state_dict(torch.load(best_model3_path))\n",
    "model4.load_state_dict(torch.load(best_model4_path))\n",
    "model5.load_state_dict(torch.load(best_model5_path))\n",
    "\n",
    "model1.to(device)\n",
    "model2.to(device)\n",
    "model3.to(device)\n",
    "model4.to(device)\n",
    "model5.to(device)\n",
    "\n",
    "model1.eval()\n",
    "model2.eval()\n",
    "model3.eval()\n",
    "model4.eval()\n",
    "model5.eval()\n",
    "\n",
    "# Initialize the lists to store the predictions\n",
    "all_preds_model1 = []\n",
    "all_preds_model2 = []\n",
    "all_preds_model3 = []\n",
    "all_preds_model4 = []\n",
    "all_preds_model5 = []\n",
    "all_true_labels = []\n",
    "\n",
    "# Loop through the test dataset and generate predictions for each model\n",
    "with torch.no_grad():\n",
    "    for batch in test_dataloader:\n",
    "        inputs, labels, species = batch\n",
    "        inputs, labels, species = inputs.to(device), labels.to(device), species\n",
    "        \n",
    "        # Generate predictions for each model\n",
    "        preds_model1 = model1(inputs)\n",
    "        preds_model2 = model2(inputs)\n",
    "        preds_model3 = model3(inputs)\n",
    "        preds_model4 = model4(inputs)\n",
    "        preds_model5 = model5(inputs)\n",
    "\n",
    "        # Append the predictions to the corresponding list\n",
    "        all_preds_model1.append(preds_model1.cpu().numpy())\n",
    "        all_preds_model2.append(preds_model2.cpu().numpy())\n",
    "        all_preds_model3.append(preds_model3.cpu().numpy())\n",
    "        all_preds_model4.append(preds_model4.cpu().numpy())\n",
    "        all_preds_model5.append(preds_model5.cpu().numpy())\n",
    "        \n",
    "        all_true_labels.append(labels.cpu().numpy())\n",
    "\n",
    "# Concatenate the predictions from all the models\n",
    "all_preds_model1 = np.concatenate(all_preds_model1)\n",
    "all_preds_model2 = np.concatenate(all_preds_model2)\n",
    "all_preds_model3 = np.concatenate(all_preds_model3)\n",
    "all_preds_model4 = np.concatenate(all_preds_model4)\n",
    "all_preds_model5 = np.concatenate(all_preds_model5)\n",
    "\n",
    "all_true_labels = np.concatenate(all_true_labels)\n",
    "\n",
    "# Calculate the ensemble predictions\n",
    "ensemble_preds = np.mean([all_preds_model1, all_preds_model2, all_preds_model3, all_preds_model4, all_preds_model5], axis=0)\n",
    "ensemble_labels = np.argmax(ensemble_preds, axis=1)\n",
    "\n",
    "# Calculate the evaluation metrics for the ensemble model\n",
    "from sklearn.metrics import classification_report, confusion_matrix\n",
    "\n",
    "print(classification_report(all_true_labels, ensemble_labels))\n",
    "print(confusion_matrix(all_true_labels, ensemble_labels))\n",
    "\n",
    "\n",
    "\n",
    "\n"
   ]
  },
  {
   "cell_type": "code",
   "execution_count": 21,
   "id": "6dfbc663",
   "metadata": {},
   "outputs": [
    {
     "name": "stdout",
     "output_type": "stream",
     "text": [
      "              precision    recall  f1-score   support\n",
      "\n",
      "           0       0.72      0.81      0.76       275\n",
      "           1       0.59      0.41      0.48       132\n",
      "           2       0.56      0.60      0.58        78\n",
      "           3       0.50      0.49      0.50        61\n",
      "           4       0.49      0.74      0.59        23\n",
      "           5       0.71      0.38      0.50        13\n",
      "           6       0.74      0.70      0.72       166\n",
      "           7       0.56      0.52      0.54        56\n",
      "           8       0.48      0.53      0.50        85\n",
      "           9       0.25      0.17      0.20        29\n",
      "          10       0.69      0.90      0.78        10\n",
      "\n",
      "    accuracy                           0.63       928\n",
      "   macro avg       0.57      0.57      0.56       928\n",
      "weighted avg       0.62      0.63      0.62       928\n",
      "\n"
     ]
    },
    {
     "data": {
      "image/png": "[encoded data removed]",
      "text/plain": [
       "<Figure size 720x504 with 1 Axes>"
      ]
     },
     "metadata": {
      "needs_background": "light"
     },
     "output_type": "display_data"
    }
   ],
   "source": [
    "import matplotlib.pyplot as plt\n",
    "import pandas as pd\n",
    "# Calculate the evaluation metrics for the ensemble model\n",
    "\n",
    "report = classification_report(all_true_labels, ensemble_labels)\n",
    "print(report)\n",
    "#print(confusion_matrix(all_true_labels, ensemble_labels))\n",
    "\n",
    "# Save the report to a file\n",
    "with open(r'C:\\Users\\lwfeckesim\\01_PyTorch\\wze-uav\\wze-uav-master\\plots\\report_RGB-NIR_5species_combined_plotsplit.txt', 'w') as f:\n",
    "    f.write(report)\n",
    "\n",
    "labels = np.array([0,1,2,3,4,5,6,7,8,9,10])\n",
    "confmat = confusion_matrix(all_true_labels, ensemble_labels, labels=labels)\n",
    "\n",
    "# 3. Plot the confusion matrix\n",
    "fig, ax = plot_confusion_matrix(\n",
    "    conf_mat=confmat, # matplotlib likes working with NumPy \n",
    "    class_names=class_names, # turn the row and column labels into class names\n",
    "    figsize=(10, 7)\n",
    ");\n",
    "\n",
    "# add title to confusion matrix plot\n",
    "plt.title(\"Main tree species and Health Status Classification using RGB-NIR Bands\", fontsize=16)\n",
    "\n",
    "fig.savefig(r'C:\\Users\\lwfeckesim\\01_PyTorch\\wze-uav\\wze-uav-master\\plots\\confmat_RGB-NIR_5species_combined_plotsplit.png', dpi=300, bbox_inches='tight')\n",
    "\n",
    "# Create a DataFrame from the confusion matrix\n",
    "df_cm = pd.DataFrame(confmat)\n",
    "\n",
    "# Export the confusion matrix to a CSV file\n",
    "df_cm.to_csv(r'C:\\Users\\lwfeckesim\\01_PyTorch\\wze-uav\\wze-uav-master\\plots\\confmat_RGB_NIR_5species_combined.csv', index=False)"
   ]
  },
  {
   "cell_type": "code",
   "execution_count": 23,
   "id": "aab9e321",
   "metadata": {},
   "outputs": [
    {
     "ename": "NameError",
     "evalue": "name 'best_model' is not defined",
     "output_type": "error",
     "traceback": [
      "\u001b[1;31m---------------------------------------------------------------------------\u001b[0m",
      "\u001b[1;31mNameError\u001b[0m                                 Traceback (most recent call last)",
      "Input \u001b[1;32mIn [23]\u001b[0m, in \u001b[0;36m<cell line: 3>\u001b[1;34m()\u001b[0m\n\u001b[0;32m      1\u001b[0m \u001b[38;5;66;03m# 2. Setup confusion matrix instance and compare predictions to targets\u001b[39;00m\n\u001b[0;32m      2\u001b[0m \u001b[38;5;66;03m#from wze_uav.analysis import *\u001b[39;00m\n\u001b[1;32m----> 3\u001b[0m y_pred_tensor, y_labels_tensor, test_loss, test_recall, test_precision, test_f1_score, test_acc, y_logit, y_pred, y, y_preds \u001b[38;5;241m=\u001b[39m make_predictions(model\u001b[38;5;241m=\u001b[39m\u001b[43mbest_model\u001b[49m,\n\u001b[0;32m      4\u001b[0m                                  test_dataloader\u001b[38;5;241m=\u001b[39mtest_dataloader, \n\u001b[0;32m      5\u001b[0m                                  device\u001b[38;5;241m=\u001b[39mdevice)\n\u001b[0;32m      7\u001b[0m y_labels_tensor \u001b[38;5;241m=\u001b[39m y_labels_tensor\u001b[38;5;241m.\u001b[39mdetach()\u001b[38;5;241m.\u001b[39mcpu()\u001b[38;5;241m.\u001b[39mnumpy()\n\u001b[0;32m      8\u001b[0m y_pred_tensor \u001b[38;5;241m=\u001b[39m y_pred_tensor\u001b[38;5;241m.\u001b[39mdetach()\u001b[38;5;241m.\u001b[39mcpu()\u001b[38;5;241m.\u001b[39mnumpy()\n",
      "\u001b[1;31mNameError\u001b[0m: name 'best_model' is not defined"
     ]
    }
   ],
   "source": [
    "# 2. Setup confusion matrix instance and compare predictions to targets\n",
    "#from wze_uav.analysis import *\n",
    "y_pred_tensor, y_labels_tensor, test_loss, test_recall, test_precision, test_f1_score, test_acc, y_logit, y_pred, y, y_preds = make_predictions(model=best_model,\n",
    "                                 test_dataloader=test_dataloader, \n",
    "                                 device=device)\n",
    "\n",
    "y_labels_tensor = y_labels_tensor.detach().cpu().numpy()\n",
    "y_pred_tensor = y_pred_tensor.detach().cpu().numpy()\n",
    "\n",
    "#confmat = ConfusionMatrix(num_classes=num_classes, task='multiclass')\n",
    "#confmat_tensor = confmat(preds=y_pred_tensor,\n",
    "#                         target=test_labels)\n",
    "labels = np.array([0,1,2])\n",
    "confmat = confusion_matrix(y_labels_tensor, y_pred_tensor, labels=labels)\n",
    "\n",
    "# 3. Plot the confusion matrix\n",
    "fig, ax = plot_confusion_matrix(\n",
    "    conf_mat=confmat, # matplotlib likes working with NumPy \n",
    "    class_names=class_names, # turn the row and column labels into class names\n",
    "    figsize=(10, 7)\n",
    ");\n",
    "\n",
    "print(f\"Test loss: {test_loss}\")\n",
    "print(f\"Test precision: {test_precision}\")\n",
    "print(f\"Test recall: {test_recall}\")\n",
    "print(f\"Test F1score: {test_f1_score}\")\n",
    "#print(f\"Test Kappa: {test_kappa}\")\n",
    "print(f\"Test Accuracy: {test_acc}\")\n",
    "print(f\"Test Logits: {y_logit}\")\n",
    "print(f\"Test Predictions: {y_pred}\")\n",
    "print(f\"Test Labels: {y}\")"
   ]
  },
  {
   "cell_type": "code",
   "execution_count": null,
   "id": "8d4173b3",
   "metadata": {},
   "outputs": [],
   "source": [
    "len(y_preds)"
   ]
  },
  {
   "cell_type": "code",
   "execution_count": null,
   "id": "7588116f",
   "metadata": {},
   "outputs": [],
   "source": [
    "y_set.cpu()"
   ]
  },
  {
   "cell_type": "code",
   "execution_count": null,
   "id": "1c195b3e",
   "metadata": {},
   "outputs": [],
   "source": [
    "test_dataset.labels"
   ]
  },
  {
   "cell_type": "code",
   "execution_count": null,
   "id": "975ec08c",
   "metadata": {},
   "outputs": [],
   "source": []
  },
  {
   "cell_type": "code",
   "execution_count": null,
   "id": "6da05604",
   "metadata": {},
   "outputs": [],
   "source": [
    "y_preds = []\n",
    "y_labels = []\n",
    "labels = np.array([0,1,2])\n",
    "test_loss, test_precision, test_recall, test_f1_score, test_acc = 0, 0, 0, 0, 0\n",
    "count = 0\n",
    "model.eval()\n",
    "with torch.inference_mode():\n",
    "    for X, y in tqdm(test_dataloader, desc=\"Making predictions\"):\n",
    "        # Send data and targets to target device\n",
    "        X, y = X.to(device), y.to(device)\n",
    "        # Do the forward pass\n",
    "        y_logit = model(X)\n",
    "        # Turn predictions from logits -> prediction probabilities -> predictions labels\n",
    "        y_pred = torch.softmax(y_logit, dim=1).argmax(dim=1)\n",
    "        # Put predictions on CPU for evaluation\n",
    "        y_preds.append(y_pred.cpu())\n",
    "        y_labels.append(y.cpu())\n",
    "        \n",
    "        #other metrics\n",
    "        test_acc += ((y_pred == y).sum().item()/len(y_pred))\n",
    "        y_pred_class = y_pred.detach().cpu().numpy() \n",
    "        y_class = y.detach().cpu().numpy()\n",
    "        test_precision += precision_score(y_class, y_pred_class, average='macro', zero_division=1, labels=labels)\n",
    "        test_recall += recall_score(y_class, y_pred_class, average='macro', zero_division=1, labels=labels)\n",
    "        #test_f1_score += f1_score(y_class, y_pred_class, average='macro', zero_division=1, labels=labels)\n",
    "        \n",
    "        #if count >= 1:\n",
    "        #    y_set = torch.cat((y_set, y))\n",
    "        #    count = count + 1\n",
    "        #else:\n",
    "        #    y_set = y\n",
    "        #    count = count + 1\n",
    "        \n",
    "test_loss = test_loss / len(test_dataloader)\n",
    "test_precision = test_precision / len(test_dataloader)\n",
    "test_recall = test_recall / len(test_dataloader)\n",
    "#test_f1_score = test_f1_score / len(test_dataloader)\n",
    "#test_kappa = test_kappa / len(dataloader)\n",
    "test_acc = test_acc / len(test_dataloader)\n",
    "# Concatenate list of predictions into a tensor\n",
    "y_pred_tensor = torch.cat(y_preds)\n",
    "test_f1_score = f1_score(y_set.detach().cpu().numpy(), y_pred_tensor.cpu().numpy(), average='macro', zero_division=0, labels=[0,1,2])\n",
    "\n",
    "# Print classification report\n",
    "y_true = y_set.detach().cpu().numpy()\n",
    "report = classification_report(y_true, y_pred_tensor.cpu().numpy(), target_names=class_names)\n",
    "print(report)"
   ]
  },
  {
   "cell_type": "code",
   "execution_count": null,
   "id": "6ae97fab",
   "metadata": {},
   "outputs": [],
   "source": [
    "test_f1_score"
   ]
  },
  {
   "cell_type": "code",
   "execution_count": null,
   "id": "7ebafd9b",
   "metadata": {},
   "outputs": [],
   "source": [
    "make = (y_class == y_pred_class)\n",
    "make"
   ]
  },
  {
   "cell_type": "code",
   "execution_count": null,
   "id": "4f8aa759",
   "metadata": {},
   "outputs": [],
   "source": [
    "torch.softmax(y_logit, dim=1).argmax(dim=1)"
   ]
  },
  {
   "cell_type": "code",
   "execution_count": null,
   "id": "f90a54b2",
   "metadata": {},
   "outputs": [],
   "source": [
    "y"
   ]
  },
  {
   "cell_type": "code",
   "execution_count": null,
   "id": "5a806154",
   "metadata": {},
   "outputs": [],
   "source": [
    "test = (y_pred == y).sum().item()/16"
   ]
  },
  {
   "cell_type": "code",
   "execution_count": null,
   "id": "1da35c56",
   "metadata": {},
   "outputs": [],
   "source": [
    "test"
   ]
  },
  {
   "cell_type": "code",
   "execution_count": null,
   "id": "b1eb246e",
   "metadata": {},
   "outputs": [],
   "source": [
    " y_pred_class = y_pred.detach().cpu().numpy() "
   ]
  },
  {
   "cell_type": "code",
   "execution_count": null,
   "id": "602e096f",
   "metadata": {},
   "outputs": [],
   "source": [
    "y_pred_class"
   ]
  },
  {
   "cell_type": "code",
   "execution_count": null,
   "id": "eaf1af09",
   "metadata": {},
   "outputs": [],
   "source": []
  }
 ],
 "metadata": {
  "kernelspec": {
   "display_name": "Python 3 (ipykernel)",
   "language": "python",
   "name": "python3"
  },
  "language_info": {
   "codemirror_mode": {
    "name": "ipython",
    "version": 3
   },
   "file_extension": ".py",
   "mimetype": "text/x-python",
   "name": "python",
   "nbconvert_exporter": "python",
   "pygments_lexer": "ipython3",
   "version": "3.9.16"
  }
 },
 "nbformat": 4,
 "nbformat_minor": 5
}
