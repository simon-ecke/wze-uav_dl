{
 "cells": [
  {
   "cell_type": "markdown",
   "id": "c1acdaa3",
   "metadata": {},
   "source": [
    "# WZE-UAV Image Classification using Deep Learning"
   ]
  },
  {
   "cell_type": "code",
   "execution_count": 1,
   "id": "2159aac5",
   "metadata": {},
   "outputs": [],
   "source": [
    "import os\n",
    "import gc\n",
    "import glob\n",
    "import numpy as np\n",
    "from pathlib import Path\n",
    "from tqdm.auto import tqdm\n",
    "from sklearn.metrics import confusion_matrix, classification_report\n",
    "from sklearn.model_selection import KFold"
   ]
  },
  {
   "cell_type": "code",
   "execution_count": 2,
   "id": "0026f7a9",
   "metadata": {},
   "outputs": [],
   "source": [
    "import torch\n",
    "import torchvision.transforms as T\n",
    "import torchvision\n",
    "from torch import nn\n",
    "from torch.utils.data import DataLoader\n",
    "from torchvision import datasets, transforms\n",
    "from torch.utils.data import Dataset\n",
    "import torch.optim as optim\n",
    "from torch.optim.lr_scheduler import ExponentialLR\n",
    "from mlxtend.plotting import plot_confusion_matrix"
   ]
  },
  {
   "cell_type": "code",
   "execution_count": 3,
   "id": "b160d7b4",
   "metadata": {},
   "outputs": [],
   "source": [
    "import wze_uav.data_loader as data_loader\n",
    "import wze_uav.models as models\n",
    "from wze_uav.engine import *\n",
    "from wze_uav.utils2 import *\n",
    "#from wze_uav.log_writer import create_writer\n",
    "from wze_uav.datasplit import *\n",
    "from efficientnet import model_effnet #for custom effnet with n_channels input\n",
    "import wandb"
   ]
  },
  {
   "cell_type": "markdown",
   "id": "2bd4fb2f",
   "metadata": {},
   "source": [
    "#### Get PyTorch version"
   ]
  },
  {
   "cell_type": "code",
   "execution_count": 4,
   "id": "c10886b1",
   "metadata": {},
   "outputs": [
    {
     "name": "stdout",
     "output_type": "stream",
     "text": [
      "torch version: 1.13.1+cu116\n",
      "torchvision version: 0.14.1+cu116\n"
     ]
    }
   ],
   "source": [
    "print(f\"torch version: {torch.__version__}\")\n",
    "print(f\"torchvision version: {torchvision.__version__}\")"
   ]
  },
  {
   "cell_type": "markdown",
   "id": "aa6a83cf",
   "metadata": {},
   "source": [
    "#### Preparing device agnostic code "
   ]
  },
  {
   "cell_type": "code",
   "execution_count": 5,
   "id": "13d5de88",
   "metadata": {},
   "outputs": [
    {
     "name": "stdout",
     "output_type": "stream",
     "text": [
      "cuda\n",
      "Index of current divice: 0\n",
      "Number of GPUs available: 1\n",
      "GPU Model: Quadro RTX 8000\n"
     ]
    }
   ],
   "source": [
    "# ensure device agnostic code\n",
    "device = 'cuda' if torch.cuda.is_available() else 'cpu'\n",
    "print(device)\n",
    "\n",
    "# get index of currently selected device\n",
    "print(f\"Index of current divice: {torch.cuda.current_device()}\")\n",
    "# get number of GPUs available\n",
    "print(f\"Number of GPUs available: {torch.cuda.device_count()}\")\n",
    "# get the name of the device\n",
    "print(f\"GPU Model: {torch.cuda.get_device_name(0)}\")"
   ]
  },
  {
   "cell_type": "markdown",
   "id": "8ef6b169",
   "metadata": {},
   "source": [
    "#### Login to Weights & Biases to track results"
   ]
  },
  {
   "cell_type": "code",
   "execution_count": 6,
   "id": "a59d27cf",
   "metadata": {},
   "outputs": [
    {
     "name": "stderr",
     "output_type": "stream",
     "text": [
      "Failed to detect the name of this notebook, you can set it manually with the WANDB_NOTEBOOK_NAME environment variable to enable code saving.\n",
      "\u001b[34m\u001b[1mwandb\u001b[0m: Currently logged in as: \u001b[33msimon-ecke\u001b[0m. Use \u001b[1m`wandb login --relogin`\u001b[0m to force relogin\n"
     ]
    },
    {
     "data": {
      "text/html": [
       "wandb version 0.15.3 is available!  To upgrade, please run:\n",
       " $ pip install wandb --upgrade"
      ],
      "text/plain": [
       "<IPython.core.display.HTML object>"
      ]
     },
     "metadata": {},
     "output_type": "display_data"
    },
    {
     "data": {
      "text/html": [
       "Tracking run with wandb version 0.14.2"
      ],
      "text/plain": [
       "<IPython.core.display.HTML object>"
      ]
     },
     "metadata": {},
     "output_type": "display_data"
    },
    {
     "data": {
      "text/html": [
       "Run data is saved locally in <code>C:\\Users\\lwfeckesim\\01_PyTorch\\wze-uav\\wze-uav-master\\wandb\\run-20230527_002252-s7i3mf9d</code>"
      ],
      "text/plain": [
       "<IPython.core.display.HTML object>"
      ]
     },
     "metadata": {},
     "output_type": "display_data"
    },
    {
     "data": {
      "text/html": [
       "Syncing run <strong><a href='https://wandb.ai/simon-ecke/wze-uav-combined-11classes/runs/s7i3mf9d' target=\"_blank\">dashing-glitter-14</a></strong> to <a href='https://wandb.ai/simon-ecke/wze-uav-combined-11classes' target=\"_blank\">Weights & Biases</a> (<a href='https://wandb.me/run' target=\"_blank\">docs</a>)<br/>"
      ],
      "text/plain": [
       "<IPython.core.display.HTML object>"
      ]
     },
     "metadata": {},
     "output_type": "display_data"
    },
    {
     "data": {
      "text/html": [
       " View project at <a href='https://wandb.ai/simon-ecke/wze-uav-combined-11classes' target=\"_blank\">https://wandb.ai/simon-ecke/wze-uav-combined-11classes</a>"
      ],
      "text/plain": [
       "<IPython.core.display.HTML object>"
      ]
     },
     "metadata": {},
     "output_type": "display_data"
    },
    {
     "data": {
      "text/html": [
       " View run at <a href='https://wandb.ai/simon-ecke/wze-uav-combined-11classes/runs/s7i3mf9d' target=\"_blank\">https://wandb.ai/simon-ecke/wze-uav-combined-11classes/runs/s7i3mf9d</a>"
      ],
      "text/plain": [
       "<IPython.core.display.HTML object>"
      ]
     },
     "metadata": {},
     "output_type": "display_data"
    },
    {
     "data": {
      "text/html": [
       "<button onClick=\"this.nextSibling.style.display='block';this.style.display='none';\">Display W&B run</button><iframe src='https://wandb.ai/simon-ecke/wze-uav-combined-11classes/runs/s7i3mf9d?jupyter=true' style='border:none;width:100%;height:420px;display:none;'></iframe>"
      ],
      "text/plain": [
       "<wandb.sdk.wandb_run.Run at 0x15babf97070>"
      ]
     },
     "execution_count": 6,
     "metadata": {},
     "output_type": "execute_result"
    }
   ],
   "source": [
    "# IMPORTANT: The proxy needs to be set in anaconda!\n",
    "# copy paste this in anaconda and restart jupyter notebook\n",
    "#set http_proxy=http://www-proxy.bayern.de:80\n",
    "#set https_proxy=http://www-proxy.bayern.de:80\n",
    "wandb.login()\n",
    "#wandb.init(settings=wandb.Settings(start_method=\"thread\"))\n",
    "wandb.init(project='wze-uav-combined-11classes', entity='simon-ecke')"
   ]
  },
  {
   "cell_type": "markdown",
   "id": "a26a6a34",
   "metadata": {},
   "source": [
    "#### Ensure reproducibility "
   ]
  },
  {
   "cell_type": "code",
   "execution_count": 7,
   "id": "dd4656a7",
   "metadata": {},
   "outputs": [],
   "source": [
    "# for more information, see also: https://pytorch.org/docs/stable/notes/randomness.html\n",
    "\n",
    "# Set seeds\n",
    "def set_seeds(seed: int=42):\n",
    "    \"\"\"Sets random sets for torch operations.\n",
    "\n",
    "    Args:\n",
    "        seed (int, optional): Random seed to set. Defaults to 42.\n",
    "    \"\"\"\n",
    "    # Set the seed for general torch operations\n",
    "    torch.manual_seed(seed)\n",
    "    # Set the seed for CUDA torch operations (ones that happen on the GPU)\n",
    "    torch.cuda.manual_seed(seed)\n",
    "    # seed for numpy\n",
    "    np.random.seed(seed)\n",
    "\n",
    "set_seeds(42) \n",
    "\n",
    "# Set to true -> might speed up the process but should be set to False if reproducible results are desired\n",
    "torch.backends.cudnn.benchmark = False\n"
   ]
  },
  {
   "cell_type": "markdown",
   "id": "8be33671",
   "metadata": {},
   "source": [
    "#### Define file directory"
   ]
  },
  {
   "cell_type": "code",
   "execution_count": 8,
   "id": "30645f36",
   "metadata": {},
   "outputs": [],
   "source": [
    "#####################################################################################\n",
    "# 3 channel input (r-g-b)\n",
    "#data_path = r\"D:\\Drohnendaten\\10_WZE-UAV\\Auswertung_findatree\\Datasplit\\ROI\\rgb\"\n",
    "\n",
    "# 4 channel input (r-g-b-nir)\n",
    "data_path = r\"D:\\Drohnendaten\\10_WZE-UAV\\Auswertung_findatree\\Datasplit\\ROI\\rgb-nir\"\n",
    "\n",
    "# 5 channel input (r-g-b-re-nir)\n",
    "#data_path = r\"D:\\Drohnendaten\\10_WZE-UAV\\Auswertung_findatree\\Datasplit\\ROI\\rgb-re-nir\"\n",
    "\n",
    "# 6 channel input (r-g-b-re-nir)\n",
    "#data_path = r\"D:\\Drohnendaten\\10_WZE-UAV\\Auswertung_findatree\\Datasplit\\ROI\\rgb-re-nir-chm\"\n",
    "\n",
    "#####################################################################################"
   ]
  },
  {
   "cell_type": "markdown",
   "id": "4560ce64",
   "metadata": {},
   "source": [
    "#### Get all file paths, years and plotIDs"
   ]
  },
  {
   "cell_type": "code",
   "execution_count": 9,
   "id": "aa072e4c",
   "metadata": {},
   "outputs": [],
   "source": [
    "fn_list = os.listdir(data_path)\n",
    "path_list = []\n",
    "#year_list = []\n",
    "#plotID_list = []\n",
    "# Iterate over all datafiles\n",
    "for year in fn_list:\n",
    "    year_dir = f'{data_path}\\\\{year}'\n",
    "    for filename in os.listdir(year_dir):\n",
    "        path = f'{year_dir}\\\\{filename}'\n",
    "        #plotID = path.rsplit('_',1)[0].rsplit('r',1)[1]\n",
    "        path_list.append(path)\n",
    "        #year_list.append(year)\n",
    "        #plotID_list.append(plotID)"
   ]
  },
  {
   "cell_type": "markdown",
   "id": "f3937a44",
   "metadata": {},
   "source": [
    "#### Get unique plotIDs and years per available trees"
   ]
  },
  {
   "cell_type": "code",
   "execution_count": 10,
   "id": "8a50f1d7",
   "metadata": {},
   "outputs": [
    {
     "data": {
      "application/vnd.jupyter.widget-view+json": {
       "model_id": "d1c2c173dbdf4d2ea58ee53860b9bc45",
       "version_major": 2,
       "version_minor": 0
      },
      "text/plain": [
       "Creating unique tree IDs...:   0%|          | 0/647 [00:00<?, ?it/s]"
      ]
     },
     "metadata": {},
     "output_type": "display_data"
    }
   ],
   "source": [
    "plotID_dict = data_loader.get_plotID(path_list)"
   ]
  },
  {
   "cell_type": "markdown",
   "id": "6f4cea00",
   "metadata": {},
   "source": [
    "#### Import all imagery, labels and other features from hdf5 files"
   ]
  },
  {
   "cell_type": "code",
   "execution_count": 11,
   "id": "94e3eecf",
   "metadata": {},
   "outputs": [
    {
     "data": {
      "application/vnd.jupyter.widget-view+json": {
       "model_id": "6f380fd657054dd68e3f1208ee878d96",
       "version_major": 2,
       "version_minor": 0
      },
      "text/plain": [
       "Processing hdf5 datasets:   0%|          | 0/647 [00:00<?, ?it/s]"
      ]
     },
     "metadata": {},
     "output_type": "display_data"
    }
   ],
   "source": [
    "image_set, label_set, species_set, kkl_set, bk_set, hash_id = data_loader.hdf5_to_img_label(path_list,\n",
    "                                                                                               plotID_dict,\n",
    "                                                                                               load_sets=[\"images_masked\"])"
   ]
  },
  {
   "cell_type": "markdown",
   "id": "6a90e2b7",
   "metadata": {},
   "source": [
    "#### Convert nbv to classes"
   ]
  },
  {
   "cell_type": "code",
   "execution_count": 12,
   "id": "0224972a",
   "metadata": {},
   "outputs": [],
   "source": [
    "nbv_set = label_set\n",
    "image_set, label_set, species_set, kkl_set, bk_set, hash_id = combined_to_classesv2(species_set, nbv_set, image_set, kkl_set, bk_set, hash_id)"
   ]
  },
  {
   "cell_type": "markdown",
   "id": "c6b4cd85",
   "metadata": {},
   "source": [
    "#### Split data into subset (used for training and validation in the 5-fold cross-validation) and test set"
   ]
  },
  {
   "cell_type": "code",
   "execution_count": 13,
   "id": "d06eda54",
   "metadata": {},
   "outputs": [
    {
     "name": "stdout",
     "output_type": "stream",
     "text": [
      "ORIGINAL POSITIVE RATIO: 3.5131213512441195\n",
      "Fold : 0\n",
      "TRAIN POSITIVE RATIO: 3.4969274887341255\n",
      "TEST POSITIVE RATIO : 3.592258925592259\n",
      "LENGTH TRAIN GROUPS : 195\n",
      "LENGTH TEST GROUPS  : 40\n",
      "Number of True in sub_indices: 14646\n",
      "Number of False in sub_indices: 2997\n",
      "Number of True in test_indices: 1102\n",
      "Number of False in test_indices: 16541\n",
      "Check shapes:\n",
      "\n",
      "Images sub dataset: (14646, 250, 250, 4)\n",
      "Labels sub dataset: (14646, 1)\n",
      "\n",
      "Images test dataset: (1102, 250, 250, 4)\n",
      "Labels test dataset: (1102, 1)\n",
      "\n",
      "--------------------------------------------------\n",
      "Check if the split was stratified: (random_state=42)\n",
      "Healthy trees in sub dataset: 3561\n",
      "Stressed trees in sub dataset: 2068\n",
      "Dead trees in sub dataset: 1834\n",
      "Healthy trees in test dataset: 338\n",
      "Stressed trees in test dataset: 147\n",
      "Dead trees in test dataset: 107\n",
      "Ratio health trees in test dataset: 0.09491715810165684\n",
      "Ratio stressed trees in test dataset: 0.07108317214700194\n",
      "Ratio dead trees in test dataset: 0.05834242093784078\n"
     ]
    }
   ],
   "source": [
    "sub_image_set, sub_label_set, sub_hash_id, sub_species_set, test_image_set, test_label_set, test_hash_id, test_species_set = data_split(image_set, label_set, hash_id, species_set, n_splits=6, random_state=42, seed=2)\n"
   ]
  },
  {
   "cell_type": "markdown",
   "id": "c48fbb5b",
   "metadata": {},
   "source": [
    "#### Check if any hash ID is in both sub and test dataset"
   ]
  },
  {
   "cell_type": "code",
   "execution_count": 14,
   "id": "874367cf",
   "metadata": {},
   "outputs": [
    {
     "name": "stdout",
     "output_type": "stream",
     "text": [
      "There are no hash_id values in both train and test datasets. The datasplit was successful\n"
     ]
    }
   ],
   "source": [
    "hash_set = set(sub_hash_id[:,0].flatten())\n",
    "test_hash_set = set(test_hash_id[:,0].flatten())\n",
    "intersection = hash_set.intersection(test_hash_set)\n",
    "if intersection:\n",
    "    print(f\"Hash_id values in both train and test sets: {len(intersection)}\")\n",
    "else:\n",
    "    print(\"There are no hash_id values in both train and test datasets. The datasplit was successful\")"
   ]
  },
  {
   "cell_type": "markdown",
   "id": "9e5b64d4",
   "metadata": {},
   "source": [
    "#### Check feature distribution of the Test dataset"
   ]
  },
  {
   "cell_type": "code",
   "execution_count": 15,
   "id": "a33ff5cb",
   "metadata": {},
   "outputs": [
    {
     "name": "stdout",
     "output_type": "stream",
     "text": [
      "Test dataset\n",
      "Test data Picea abies healthy: 338\n",
      "Test data Picea abies stressed: 147\n",
      "Test data Pinus sylvestris healthy: 107\n",
      "Test data Pinus sylvestris stressed: 166\n",
      "Test data Abies alba healthy: 19\n",
      "Test data Abies alba stressed: 15\n",
      "Test data Fagus sylvatica healthy: 76\n",
      "Test data Fagus sylvatica stressed: 44\n",
      "Test data Quercus robur/petraea healthy: 61\n",
      "Test data Quercus robur/petraea stressed: 20\n",
      "Test data Larix spp.: 45\n",
      "Test data Acer spp.: 20\n",
      "Test data Betula pendula: 13\n",
      "Test data dead trees: 31\n",
      "--------------------------------------------------\n",
      "Remaining dataset\n",
      "Remaining data Picea abies healthy: 3561\n",
      "Remaining data Picea abies stressed: 2068\n",
      "Remaining data Pinus sylvestris healthy: 1834\n",
      "Remaining data Pinus sylvestris stressed: 2073\n",
      "Remaining data Abies alba healthy: 437\n",
      "Remaining data Abies alba stressed: 140\n",
      "Remaining data Fagus sylvatica healthy: 1287\n",
      "Remaining data Fagus sylvatica stressed: 953\n",
      "Remaining data Quercus robur/petraea healthy: 735\n",
      "Remaining data Quercus robur/petraea stressed: 413\n",
      "Test data Larix spp.: 447\n",
      "Test data Acer spp.: 244\n",
      "Test data Betula pendula: 233\n",
      "Remaining data dead trees: 221\n",
      "--------------------------------------------------\n"
     ]
    }
   ],
   "source": [
    "def count_occurrences(data, value):\n",
    "    count = 0\n",
    "    for item in data:\n",
    "        if item == value:\n",
    "            count += 1\n",
    "    return count\n",
    "\n",
    "print(\"Test dataset\")\n",
    "print(f\"Test data Picea abies healthy: {count_occurrences(test_label_set, 0)}\")\n",
    "print(f\"Test data Picea abies stressed: {count_occurrences(test_label_set, 1)}\")\n",
    "print(f\"Test data Pinus sylvestris healthy: {count_occurrences(test_label_set, 2)}\")\n",
    "print(f\"Test data Pinus sylvestris stressed: {count_occurrences(test_label_set, 3)}\")\n",
    "print(f\"Test data Abies alba healthy: {count_occurrences(test_label_set, 4)}\")\n",
    "print(f\"Test data Abies alba stressed: {count_occurrences(test_label_set, 5)}\")\n",
    "print(f\"Test data Fagus sylvatica healthy: {count_occurrences(test_label_set, 6)}\")\n",
    "print(f\"Test data Fagus sylvatica stressed: {count_occurrences(test_label_set, 7)}\")\n",
    "print(f\"Test data Quercus robur/petraea healthy: {count_occurrences(test_label_set, 8)}\")\n",
    "print(f\"Test data Quercus robur/petraea stressed: {count_occurrences(test_label_set, 9)}\")\n",
    "print(f\"Test data Larix spp.: {count_occurrences(test_label_set, 10)}\")\n",
    "print(f\"Test data Acer spp.: {count_occurrences(test_label_set, 11)}\")\n",
    "print(f\"Test data Betula pendula: {count_occurrences(test_label_set, 12)}\")\n",
    "print(f\"Test data dead trees: {count_occurrences(test_label_set, 13)}\")\n",
    "print(\"-\"*50)\n",
    "\n",
    "print(\"Remaining dataset\")\n",
    "print(f\"Remaining data Picea abies healthy: {count_occurrences(sub_label_set, 0)}\")\n",
    "print(f\"Remaining data Picea abies stressed: {count_occurrences(sub_label_set, 1)}\")\n",
    "print(f\"Remaining data Pinus sylvestris healthy: {count_occurrences(sub_label_set, 2)}\")\n",
    "print(f\"Remaining data Pinus sylvestris stressed: {count_occurrences(sub_label_set, 3)}\")\n",
    "print(f\"Remaining data Abies alba healthy: {count_occurrences(sub_label_set, 4)}\")\n",
    "print(f\"Remaining data Abies alba stressed: {count_occurrences(sub_label_set, 5)}\")\n",
    "print(f\"Remaining data Fagus sylvatica healthy: {count_occurrences(sub_label_set, 6)}\")\n",
    "print(f\"Remaining data Fagus sylvatica stressed: {count_occurrences(sub_label_set, 7)}\")\n",
    "print(f\"Remaining data Quercus robur/petraea healthy: {count_occurrences(sub_label_set, 8)}\")\n",
    "print(f\"Remaining data Quercus robur/petraea stressed: {count_occurrences(sub_label_set, 9)}\")\n",
    "print(f\"Test data Larix spp.: {count_occurrences(sub_label_set, 10)}\")\n",
    "print(f\"Test data Acer spp.: {count_occurrences(sub_label_set, 11)}\")\n",
    "print(f\"Test data Betula pendula: {count_occurrences(sub_label_set, 12)}\")\n",
    "print(f\"Remaining data dead trees: {count_occurrences(sub_label_set, 13)}\")\n",
    "print(\"-\"*50)"
   ]
  },
  {
   "cell_type": "code",
   "execution_count": 16,
   "id": "e08fcf57",
   "metadata": {},
   "outputs": [],
   "source": [
    "# train transform with augmentation. \n",
    "transform_train = transforms.Compose([transforms.ToTensor(), transforms.RandomHorizontalFlip(p=0.5), transforms.RandomVerticalFlip(p=0.5),\n",
    "                                      transforms.RandomRotation(degrees=[0,360])])\n",
    "\n",
    "# test and val dataset transform without augmentation. \n",
    "transform = transforms.Compose([transforms.ToTensor()])\n",
    "\n",
    "# class names need to fit the customDataset class used e.g. 3 classes -> use CustomDataset3Classes\n",
    "#class_names = ['healthy', 'slightly_stressed', 'moderately_stressed', 'highly_stressed', 'dead']\n",
    "#class_names = ['healthy', 'moderately_stressed', 'highly_stressed', 'dead']\n",
    "#class_names = ['healthy', 'moderate stress', 'severe stress', 'dead']\n",
    "class_names = ['Picea abies healthy', 'Picea abies stressed', 'Pinus sylvestris healthy', 'Pinus sylvestris stressed', \n",
    "               'Abies alba healthy', 'Abies alba stressed', 'Fagus sylvatica healthy', 'Fagus sylvatica stressed',\n",
    "               'Quercus robur/petraea healthy', 'Quercus robur/petraea stressed', 'dead trees']\n",
    "\n",
    "# set seeds\n",
    "g = torch.Generator()\n",
    "g.manual_seed(42)\n",
    "NUM_WORKERS=3 # should be changed, depending on the system used\n",
    "batch_size=32"
   ]
  },
  {
   "cell_type": "markdown",
   "id": "31779c05",
   "metadata": {},
   "source": [
    "#### Define variables and parameters"
   ]
  },
  {
   "cell_type": "code",
   "execution_count": 17,
   "id": "10ae4379",
   "metadata": {},
   "outputs": [
    {
     "name": "stdout",
     "output_type": "stream",
     "text": [
      "Memory allocated: 0 bytes\n"
     ]
    }
   ],
   "source": [
    "# 1. Define number of epochs\n",
    "epochs = 50\n",
    "n_bands = sub_image_set[0].shape[2] # get number of bands\n",
    "\n",
    "# 2. Define model\n",
    "num_classes = len(class_names)\n",
    "unfreeze = True # all layer weights get updated\n",
    "dropout_rate = 0.5 #define dropout rate\n",
    "model_name = \"EffNet_b7_RGB-NIR-11classes-combined_plotsplit\"\n",
    "\n",
    "# 3. Define loss, optimizer and learning rate scheduler\n",
    "lr = 0.001 # define learning rate\n",
    "min_lr = 1e-6 # minimum learning rate threshold\n",
    "gamma = 0.75 # how fast the learning rate decreases per epoch (low number=faster decrease)\n",
    "patience = 10\n",
    "\n",
    "# 4. Create target folder name were to save the tensorboard event files\n",
    "experiment_name = 'RGB-NIR-11classes-combined_plotsplit'\n",
    "extra = \"RGB-NIR-11classes-combined_plotsplit\"\n",
    "\n",
    "#----------------------------------------------------------------------\n",
    "#torch.cuda.empty_cache()\n",
    "print(f\"Memory allocated: {torch.cuda.memory_allocated()} bytes\") "
   ]
  },
  {
   "cell_type": "markdown",
   "id": "09768b1a",
   "metadata": {},
   "source": [
    "#### Run k-Fold cross-validation on EfficientNet"
   ]
  },
  {
   "cell_type": "code",
   "execution_count": 18,
   "id": "9c29c81d",
   "metadata": {},
   "outputs": [
    {
     "name": "stdout",
     "output_type": "stream",
     "text": [
      "ORIGINAL POSITIVE RATIO: 3.4969274887341255\n",
      "Fold : 1\n",
      "TRAIN POSITIVE RATIO: 3.3526866833953446\n",
      "VAL POSITIVE RATIO  : 4.036581417934607\n",
      "LENGTH TRAIN GROUPS : 156\n",
      "LENGTH VAL GROUPS   : 39\n"
     ]
    },
    {
     "data": {
      "text/html": [
       "Finishing last run (ID:s7i3mf9d) before initializing another..."
      ],
      "text/plain": [
       "<IPython.core.display.HTML object>"
      ]
     },
     "metadata": {},
     "output_type": "display_data"
    },
    {
     "data": {
      "text/html": [
       "Waiting for W&B process to finish... <strong style=\"color:green\">(success).</strong>"
      ],
      "text/plain": [
       "<IPython.core.display.HTML object>"
      ]
     },
     "metadata": {},
     "output_type": "display_data"
    },
    {
     "data": {
      "text/html": [
       " View run <strong style=\"color:#cdcd00\">dashing-glitter-14</strong> at: <a href='https://wandb.ai/simon-ecke/wze-uav-combined-11classes/runs/s7i3mf9d' target=\"_blank\">https://wandb.ai/simon-ecke/wze-uav-combined-11classes/runs/s7i3mf9d</a><br/>Synced 5 W&B file(s), 0 media file(s), 0 artifact file(s) and 0 other file(s)"
      ],
      "text/plain": [
       "<IPython.core.display.HTML object>"
      ]
     },
     "metadata": {},
     "output_type": "display_data"
    },
    {
     "data": {
      "text/html": [
       "Find logs at: <code>.\\wandb\\run-20230527_002252-s7i3mf9d\\logs</code>"
      ],
      "text/plain": [
       "<IPython.core.display.HTML object>"
      ]
     },
     "metadata": {},
     "output_type": "display_data"
    },
    {
     "data": {
      "text/html": [
       "Successfully finished last run (ID:s7i3mf9d). Initializing new run:<br/>"
      ],
      "text/plain": [
       "<IPython.core.display.HTML object>"
      ]
     },
     "metadata": {},
     "output_type": "display_data"
    },
    {
     "data": {
      "application/vnd.jupyter.widget-view+json": {
       "model_id": "26bcac3ea063485c865b17448235867e",
       "version_major": 2,
       "version_minor": 0
      },
      "text/plain": [
       "VBox(children=(Label(value='Waiting for wandb.init()...\\r'), FloatProgress(value=0.016666666666666666, max=1.0…"
      ]
     },
     "metadata": {},
     "output_type": "display_data"
    },
    {
     "data": {
      "text/html": [
       "wandb version 0.15.3 is available!  To upgrade, please run:\n",
       " $ pip install wandb --upgrade"
      ],
      "text/plain": [
       "<IPython.core.display.HTML object>"
      ]
     },
     "metadata": {},
     "output_type": "display_data"
    },
    {
     "data": {
      "text/html": [
       "Tracking run with wandb version 0.14.2"
      ],
      "text/plain": [
       "<IPython.core.display.HTML object>"
      ]
     },
     "metadata": {},
     "output_type": "display_data"
    },
    {
     "data": {
      "text/html": [
       "Run data is saved locally in <code>C:\\Users\\lwfeckesim\\01_PyTorch\\wze-uav\\wze-uav-master\\wandb\\run-20230527_011044-o4bdjjbu</code>"
      ],
      "text/plain": [
       "<IPython.core.display.HTML object>"
      ]
     },
     "metadata": {},
     "output_type": "display_data"
    },
    {
     "data": {
      "text/html": [
       "Syncing run <strong><a href='https://wandb.ai/simon-ecke/wze-uav-combined-11classes/runs/o4bdjjbu' target=\"_blank\">fold_1_RGB-NIR-11classes-combined_plotsplit</a></strong> to <a href='https://wandb.ai/simon-ecke/wze-uav-combined-11classes' target=\"_blank\">Weights & Biases</a> (<a href='https://wandb.me/run' target=\"_blank\">docs</a>)<br/>"
      ],
      "text/plain": [
       "<IPython.core.display.HTML object>"
      ]
     },
     "metadata": {},
     "output_type": "display_data"
    },
    {
     "data": {
      "text/html": [
       " View project at <a href='https://wandb.ai/simon-ecke/wze-uav-combined-11classes' target=\"_blank\">https://wandb.ai/simon-ecke/wze-uav-combined-11classes</a>"
      ],
      "text/plain": [
       "<IPython.core.display.HTML object>"
      ]
     },
     "metadata": {},
     "output_type": "display_data"
    },
    {
     "data": {
      "text/html": [
       " View run at <a href='https://wandb.ai/simon-ecke/wze-uav-combined-11classes/runs/o4bdjjbu' target=\"_blank\">https://wandb.ai/simon-ecke/wze-uav-combined-11classes/runs/o4bdjjbu</a>"
      ],
      "text/plain": [
       "<IPython.core.display.HTML object>"
      ]
     },
     "metadata": {},
     "output_type": "display_data"
    },
    {
     "name": "stdout",
     "output_type": "stream",
     "text": [
      "There are no same hash_id values in train, val or test datasets. The datasplit was successful\n",
      "Check shapes:\n",
      "\n",
      "Images train dataset: (11557, 250, 250, 4)\n",
      "Labels train dataset: (11557, 1)\n",
      "\n",
      "Images validation dataset: (1104, 250, 250, 4)\n",
      "Labels validation dataset: (1104, 1)\n",
      "\n",
      "--------------------------------------------------\n",
      "Check if the split was stratified: (random_state=42)\n",
      "Picea abies healthy in train dataset: 2879\n",
      "Picea abies stressed in train dataset: 1542\n",
      "Pinus sylvestris healthy in train dataset: 1540\n",
      "Pinus sylvestris stressed in train dataset: 1835\n",
      "Abies alba healthy in train dataset: 392\n",
      "Abies alba stressed in train dataset: 125\n",
      "Fagus sylvatica healthy in train dataset: 974\n",
      "Fagus sylvatica stressed in train dataset: 631\n",
      "Quercus robur/petraea healthy in train dataset: 532\n",
      "Quercus robur/petraea stressed in train dataset: 273\n",
      "Larix spp. in train dataset: 265\n",
      "Acer spp. in train dataset: 196\n",
      "Betula pendula in train dataset: 202\n",
      "Dead trees in train dataset: 171\n",
      "Picea abies healthy in validation dataset: 255\n",
      "Picea abies stressed in validation dataset: 174\n",
      "Pinus sylvestris healthy in validation dataset: 136\n",
      "Pinus sylvestris stressed in validation dataset: 82\n",
      "Abies alba healthy in validation dataset: 17\n",
      "Abies alba stressed in validation dataset: 4\n",
      "Fagus sylvatica healthy in validation dataset: 102\n",
      "Fagus sylvatica stressed in validation dataset: 116\n",
      "Quercus robur/petraea healthy in validation dataset: 60\n",
      "Quercus robur/petraea stressed in validation dataset: 53\n",
      "Larix spp. in validation dataset: 62\n",
      "Acer spp. in validation dataset: 16\n",
      "Betula pendula in validation dataset: 10\n",
      "Dead trees in validation dataset: 17\n",
      "--------------------------------------------------\n",
      "\n",
      "Creating datasets for fold: 1\n",
      "\n",
      "Creating dataloaders for fold: 1\n",
      "\n",
      "Loaded pretrained weights for efficientnet-b7\n",
      "\n",
      "[INFO] Fold number: 1\n",
      "[INFO] Number of epochs: 50\n",
      "[INFO] Batch_size: 32\n",
      "[INFO] Number of bands: 4\n",
      "[INFO] Dropout rate: 0.5\n",
      "[INFO] Gamma learning rate: 0.75\n",
      "[INFO] Memory allocated: 0 bytes\n"
     ]
    },
    {
     "data": {
      "application/vnd.jupyter.widget-view+json": {
       "model_id": "9412fe30c0bc4c3f81be996e3c477f25",
       "version_major": 2,
       "version_minor": 0
      },
      "text/plain": [
       "  0%|          | 0/50 [00:00<?, ?it/s]"
      ]
     },
     "metadata": {},
     "output_type": "display_data"
    },
    {
     "name": "stdout",
     "output_type": "stream",
     "text": [
      "Epoch: 1 \n",
      "Learning rate: 0.001\n",
      "Train loss: 1.5500 | Train precision: 0.3106 | Train recall: 0.2806 | Train f1score: 0.2772 | Train acc: 0.3902 | Train kappa: 0.6436 \n",
      "Val loss: 2.3333 | Val precision: 0.1940 | Val recall: 0.2017 | Val f1score: 0.1257 | Val acc: 0.2379 | Val kappa: 0.2620 \n",
      "\n",
      "Epoch: 2 \n",
      "Learning rate: 0.00075\n",
      "Train loss: 1.2279 | Train precision: 0.4225 | Train recall: 0.3956 | Train f1score: 0.3957 | Train acc: 0.4809 | Train kappa: 0.7881 \n",
      "Val loss: 1.5662 | Val precision: 0.3522 | Val recall: 0.3258 | Val f1score: 0.2910 | Val acc: 0.4304 | Val kappa: 0.7460 \n",
      "\n",
      "Epoch: 3 \n",
      "Learning rate: 0.0005625000000000001\n",
      "Train loss: 1.0976 | Train precision: 0.5013 | Train recall: 0.4680 | Train f1score: 0.4744 | Train acc: 0.5222 | Train kappa: 0.8341 \n",
      "Val loss: 1.2298 | Val precision: 0.3846 | Val recall: 0.4440 | Val f1score: 0.3815 | Val acc: 0.5202 | Val kappa: 0.8389 \n",
      "\n",
      "Epoch: 4 \n",
      "Learning rate: 0.000421875\n",
      "Train loss: 1.0278 | Train precision: 0.5302 | Train recall: 0.5007 | Train f1score: 0.5060 | Train acc: 0.5535 | Train kappa: 0.8608 \n",
      "Val loss: 1.1168 | Val precision: 0.4479 | Val recall: 0.4785 | Val f1score: 0.4322 | Val acc: 0.5333 | Val kappa: 0.8766 \n",
      "\n",
      "Epoch: 5 \n",
      "Learning rate: 0.00031640625\n",
      "Train loss: 0.9543 | Train precision: 0.5802 | Train recall: 0.5492 | Train f1score: 0.5571 | Train acc: 0.5787 | Train kappa: 0.8823 \n",
      "Val loss: 1.0626 | Val precision: 0.5011 | Val recall: 0.5229 | Val f1score: 0.4938 | Val acc: 0.5524 | Val kappa: 0.8664 \n",
      "\n",
      "Epoch: 6 \n",
      "Learning rate: 0.0002373046875\n",
      "Train loss: 0.9133 | Train precision: 0.5941 | Train recall: 0.5650 | Train f1score: 0.5720 | Train acc: 0.5983 | Train kappa: 0.8872 \n",
      "Val loss: 1.0196 | Val precision: 0.5587 | Val recall: 0.5358 | Val f1score: 0.5157 | Val acc: 0.5685 | Val kappa: 0.8784 \n",
      "\n",
      "Epoch: 7 \n",
      "Learning rate: 0.000177978515625\n",
      "Train loss: 0.8829 | Train precision: 0.6190 | Train recall: 0.5852 | Train f1score: 0.5942 | Train acc: 0.6166 | Train kappa: 0.8925 \n",
      "Val loss: 1.0265 | Val precision: 0.5524 | Val recall: 0.5615 | Val f1score: 0.5225 | Val acc: 0.5685 | Val kappa: 0.8915 \n",
      "\n",
      "Epoch: 8 \n",
      "Learning rate: 0.00013348388671875\n",
      "Train loss: 0.8744 | Train precision: 0.6152 | Train recall: 0.5843 | Train f1score: 0.5938 | Train acc: 0.6135 | Train kappa: 0.9004 \n",
      "Val loss: 1.0345 | Val precision: 0.5170 | Val recall: 0.5417 | Val f1score: 0.4933 | Val acc: 0.5474 | Val kappa: 0.9073 \n",
      "\n",
      "Epoch: 9 \n",
      "Learning rate: 0.0001001129150390625\n",
      "Train loss: 0.8331 | Train precision: 0.6320 | Train recall: 0.6090 | Train f1score: 0.6158 | Train acc: 0.6276 | Train kappa: 0.9127 \n",
      "Val loss: 1.0507 | Val precision: 0.5056 | Val recall: 0.5127 | Val f1score: 0.4782 | Val acc: 0.5454 | Val kappa: 0.8890 \n",
      "\n",
      "Epoch: 10 \n",
      "Learning rate: 7.508468627929687e-05\n",
      "Train loss: 0.8326 | Train precision: 0.6357 | Train recall: 0.6061 | Train f1score: 0.6151 | Train acc: 0.6314 | Train kappa: 0.9102 \n",
      "Val loss: 1.0530 | Val precision: 0.5242 | Val recall: 0.5615 | Val f1score: 0.5120 | Val acc: 0.5554 | Val kappa: 0.9009 \n",
      "\n",
      "Epoch: 11 \n",
      "Learning rate: 5.6313514709472656e-05\n",
      "Train loss: 0.7997 | Train precision: 0.6474 | Train recall: 0.6260 | Train f1score: 0.6334 | Train acc: 0.6402 | Train kappa: 0.9164 \n",
      "Val loss: 1.0535 | Val precision: 0.5256 | Val recall: 0.5238 | Val f1score: 0.4995 | Val acc: 0.5595 | Val kappa: 0.9056 \n",
      "\n",
      "Epoch: 12 \n",
      "Learning rate: 4.223513603210449e-05\n",
      "Train loss: 0.8106 | Train precision: 0.6628 | Train recall: 0.6366 | Train f1score: 0.6455 | Train acc: 0.6454 | Train kappa: 0.9176 \n",
      "Val loss: 1.0179 | Val precision: 0.5166 | Val recall: 0.5452 | Val f1score: 0.5086 | Val acc: 0.5675 | Val kappa: 0.9070 \n",
      "\n",
      "Epoch: 13 \n",
      "Learning rate: 3.167635202407837e-05\n",
      "Train loss: 0.7773 | Train precision: 0.6607 | Train recall: 0.6381 | Train f1score: 0.6458 | Train acc: 0.6504 | Train kappa: 0.9253 \n",
      "Val loss: 1.0207 | Val precision: 0.5446 | Val recall: 0.5666 | Val f1score: 0.5385 | Val acc: 0.5726 | Val kappa: 0.9057 \n",
      "\n",
      "Epoch: 14 \n",
      "Learning rate: 2.3757264018058778e-05\n",
      "Train loss: 0.7671 | Train precision: 0.6688 | Train recall: 0.6381 | Train f1score: 0.6479 | Train acc: 0.6519 | Train kappa: 0.9287 \n",
      "Val loss: 1.0283 | Val precision: 0.5231 | Val recall: 0.5464 | Val f1score: 0.5130 | Val acc: 0.5575 | Val kappa: 0.9046 \n",
      "\n",
      "Epoch: 15 \n",
      "Learning rate: 1.7817948013544083e-05\n",
      "Train loss: 0.7710 | Train precision: 0.6691 | Train recall: 0.6446 | Train f1score: 0.6525 | Train acc: 0.6593 | Train kappa: 0.9309 \n",
      "Val loss: 1.0474 | Val precision: 0.5299 | Val recall: 0.5579 | Val f1score: 0.5168 | Val acc: 0.5665 | Val kappa: 0.9032 \n",
      "\n",
      "Epoch: 16 \n",
      "Learning rate: 1.3363461010158063e-05\n",
      "Train loss: 0.7566 | Train precision: 0.6746 | Train recall: 0.6528 | Train f1score: 0.6605 | Train acc: 0.6620 | Train kappa: 0.9228 \n",
      "Val loss: 1.0693 | Val precision: 0.5226 | Val recall: 0.5338 | Val f1score: 0.5014 | Val acc: 0.5554 | Val kappa: 0.9024 \n",
      "\n",
      "Epoch: 17 \n",
      "Learning rate: 1.0022595757618546e-05\n",
      "Train loss: 0.7599 | Train precision: 0.6890 | Train recall: 0.6539 | Train f1score: 0.6657 | Train acc: 0.6666 | Train kappa: 0.9292 \n",
      "Val loss: 1.0497 | Val precision: 0.5332 | Val recall: 0.5438 | Val f1score: 0.5140 | Val acc: 0.5655 | Val kappa: 0.9083 \n",
      "\n",
      "Epoch: 18 \n",
      "Learning rate: 7.51694681821391e-06\n",
      "Train loss: 0.7657 | Train precision: 0.6782 | Train recall: 0.6460 | Train f1score: 0.6569 | Train acc: 0.6620 | Train kappa: 0.9232 \n",
      "Val loss: 1.0503 | Val precision: 0.5253 | Val recall: 0.5382 | Val f1score: 0.5078 | Val acc: 0.5595 | Val kappa: 0.9064 \n",
      "\n",
      "Epoch: 19 \n",
      "Learning rate: 5.637710113660432e-06\n",
      "Train loss: 0.7561 | Train precision: 0.6872 | Train recall: 0.6582 | Train f1score: 0.6688 | Train acc: 0.6666 | Train kappa: 0.9279 \n",
      "Val loss: 1.0495 | Val precision: 0.5192 | Val recall: 0.5381 | Val f1score: 0.5066 | Val acc: 0.5645 | Val kappa: 0.9078 \n",
      "\n",
      "Epoch: 20 \n",
      "Learning rate: 4.228282585245324e-06\n",
      "Train loss: 0.7621 | Train precision: 0.6719 | Train recall: 0.6503 | Train f1score: 0.6573 | Train acc: 0.6551 | Train kappa: 0.9303 \n",
      "Val loss: 1.0506 | Val precision: 0.5209 | Val recall: 0.5429 | Val f1score: 0.5072 | Val acc: 0.5635 | Val kappa: 0.9055 \n",
      "\n",
      "Epoch: 21 \n",
      "Learning rate: 3.1712119389339933e-06\n",
      "Train loss: 0.7488 | Train precision: 0.6807 | Train recall: 0.6603 | Train f1score: 0.6683 | Train acc: 0.6658 | Train kappa: 0.9296 \n",
      "Val loss: 1.0503 | Val precision: 0.5272 | Val recall: 0.5442 | Val f1score: 0.5119 | Val acc: 0.5696 | Val kappa: 0.9085 \n",
      "\n",
      "Epoch: 22 \n",
      "Learning rate: 2.378408954200495e-06\n",
      "Train loss: 0.7587 | Train precision: 0.6759 | Train recall: 0.6466 | Train f1score: 0.6554 | Train acc: 0.6610 | Train kappa: 0.9315 \n",
      "Val loss: 1.0437 | Val precision: 0.5181 | Val recall: 0.5378 | Val f1score: 0.5089 | Val acc: 0.5625 | Val kappa: 0.9095 \n",
      "\n",
      "Early stopping after epoch 22\n"
     ]
    },
    {
     "data": {
      "text/html": [
       "Waiting for W&B process to finish... <strong style=\"color:green\">(success).</strong>"
      ],
      "text/plain": [
       "<IPython.core.display.HTML object>"
      ]
     },
     "metadata": {},
     "output_type": "display_data"
    },
    {
     "data": {
      "application/vnd.jupyter.widget-view+json": {
       "model_id": "3e24498bbf344d4796f3cc1db03850fe",
       "version_major": 2,
       "version_minor": 0
      },
      "text/plain": [
       "VBox(children=(Label(value='0.001 MB of 0.013 MB uploaded (0.000 MB deduped)\\r'), FloatProgress(value=0.097436…"
      ]
     },
     "metadata": {},
     "output_type": "display_data"
    },
    {
     "data": {
      "text/html": [
       "<style>\n",
       "    table.wandb td:nth-child(1) { padding: 0 10px; text-align: left ; width: auto;} td:nth-child(2) {text-align: left ; width: 100%}\n",
       "    .wandb-row { display: flex; flex-direction: row; flex-wrap: wrap; justify-content: flex-start; width: 100% }\n",
       "    .wandb-col { display: flex; flex-direction: column; flex-basis: 100%; flex: 1; padding: 10px; }\n",
       "    </style>\n",
       "<div class=\"wandb-row\"><div class=\"wandb-col\"><h3>Run history:</h3><br/><table class=\"wandb\"><tr><td>learning_rate</td><td>█▆▅▄▃▃▂▂▂▂▁▁▁▁▁▁▁▁▁▁▁▁</td></tr><tr><td>train_f1_score</td><td>▁▃▅▅▆▆▇▇▇▇▇███████████</td></tr><tr><td>train_loss</td><td>█▅▄▃▃▂▂▂▂▂▁▂▁▁▁▁▁▁▁▁▁▁</td></tr><tr><td>val_f1_score</td><td>▁▄▅▆▇██▇▇█▇▇███▇█▇▇▇█▇</td></tr><tr><td>val_loss</td><td>█▄▂▂▁▁▁▁▁▁▁▁▁▁▁▁▁▁▁▁▁▁</td></tr></table><br/></div><div class=\"wandb-col\"><h3>Run summary:</h3><br/><table class=\"wandb\"><tr><td>learning_rate</td><td>0.0</td></tr><tr><td>train_f1_score</td><td>0.65538</td></tr><tr><td>train_loss</td><td>0.75868</td></tr><tr><td>val_f1_score</td><td>0.5089</td></tr><tr><td>val_loss</td><td>1.04367</td></tr></table><br/></div></div>"
      ],
      "text/plain": [
       "<IPython.core.display.HTML object>"
      ]
     },
     "metadata": {},
     "output_type": "display_data"
    },
    {
     "data": {
      "text/html": [
       " View run <strong style=\"color:#cdcd00\">fold_1_RGB-NIR-11classes-combined_plotsplit</strong> at: <a href='https://wandb.ai/simon-ecke/wze-uav-combined-11classes/runs/o4bdjjbu' target=\"_blank\">https://wandb.ai/simon-ecke/wze-uav-combined-11classes/runs/o4bdjjbu</a><br/>Synced 5 W&B file(s), 0 media file(s), 0 artifact file(s) and 0 other file(s)"
      ],
      "text/plain": [
       "<IPython.core.display.HTML object>"
      ]
     },
     "metadata": {},
     "output_type": "display_data"
    },
    {
     "data": {
      "text/html": [
       "Find logs at: <code>.\\wandb\\run-20230527_011044-o4bdjjbu\\logs</code>"
      ],
      "text/plain": [
       "<IPython.core.display.HTML object>"
      ]
     },
     "metadata": {},
     "output_type": "display_data"
    },
    {
     "name": "stdout",
     "output_type": "stream",
     "text": [
      "Deleting variables and emptying cache\n",
      "Memory allocated: 1047192576 bytes\n",
      "--------------------------------------------------\n",
      "\n",
      "Fold : 2\n",
      "TRAIN POSITIVE RATIO: 3.58949900464499\n",
      "VAL POSITIVE RATIO  : 3.066023166023166\n",
      "LENGTH TRAIN GROUPS : 158\n",
      "LENGTH VAL GROUPS   : 37\n"
     ]
    },
    {
     "data": {
      "text/html": [
       "wandb version 0.15.3 is available!  To upgrade, please run:\n",
       " $ pip install wandb --upgrade"
      ],
      "text/plain": [
       "<IPython.core.display.HTML object>"
      ]
     },
     "metadata": {},
     "output_type": "display_data"
    },
    {
     "data": {
      "text/html": [
       "Tracking run with wandb version 0.14.2"
      ],
      "text/plain": [
       "<IPython.core.display.HTML object>"
      ]
     },
     "metadata": {},
     "output_type": "display_data"
    },
    {
     "data": {
      "text/html": [
       "Run data is saved locally in <code>C:\\Users\\lwfeckesim\\01_PyTorch\\wze-uav\\wze-uav-master\\wandb\\run-20230527_025301-6jzul5g8</code>"
      ],
      "text/plain": [
       "<IPython.core.display.HTML object>"
      ]
     },
     "metadata": {},
     "output_type": "display_data"
    },
    {
     "data": {
      "text/html": [
       "Syncing run <strong><a href='https://wandb.ai/simon-ecke/wze-uav-combined-11classes/runs/6jzul5g8' target=\"_blank\">fold_2_RGB-NIR-11classes-combined_plotsplit</a></strong> to <a href='https://wandb.ai/simon-ecke/wze-uav-combined-11classes' target=\"_blank\">Weights & Biases</a> (<a href='https://wandb.me/run' target=\"_blank\">docs</a>)<br/>"
      ],
      "text/plain": [
       "<IPython.core.display.HTML object>"
      ]
     },
     "metadata": {},
     "output_type": "display_data"
    },
    {
     "data": {
      "text/html": [
       " View project at <a href='https://wandb.ai/simon-ecke/wze-uav-combined-11classes' target=\"_blank\">https://wandb.ai/simon-ecke/wze-uav-combined-11classes</a>"
      ],
      "text/plain": [
       "<IPython.core.display.HTML object>"
      ]
     },
     "metadata": {},
     "output_type": "display_data"
    },
    {
     "data": {
      "text/html": [
       " View run at <a href='https://wandb.ai/simon-ecke/wze-uav-combined-11classes/runs/6jzul5g8' target=\"_blank\">https://wandb.ai/simon-ecke/wze-uav-combined-11classes/runs/6jzul5g8</a>"
      ],
      "text/plain": [
       "<IPython.core.display.HTML object>"
      ]
     },
     "metadata": {},
     "output_type": "display_data"
    },
    {
     "name": "stdout",
     "output_type": "stream",
     "text": [
      "There are no same hash_id values in train, val or test datasets. The datasplit was successful\n",
      "Check shapes:\n",
      "\n",
      "Images train dataset: (12056, 250, 250, 4)\n",
      "Labels train dataset: (12056, 1)\n",
      "\n",
      "Images validation dataset: (917, 250, 250, 4)\n",
      "Labels validation dataset: (917, 1)\n",
      "\n",
      "--------------------------------------------------\n",
      "Check if the split was stratified: (random_state=42)\n",
      "Picea abies healthy in train dataset: 2915\n",
      "Picea abies stressed in train dataset: 1589\n",
      "Pinus sylvestris healthy in train dataset: 1458\n",
      "Pinus sylvestris stressed in train dataset: 1695\n",
      "Abies alba healthy in train dataset: 400\n",
      "Abies alba stressed in train dataset: 136\n",
      "Fagus sylvatica healthy in train dataset: 1106\n",
      "Fagus sylvatica stressed in train dataset: 786\n",
      "Quercus robur/petraea healthy in train dataset: 615\n",
      "Quercus robur/petraea stressed in train dataset: 356\n",
      "Larix spp. in train dataset: 417\n",
      "Acer spp. in train dataset: 223\n",
      "Betula pendula in train dataset: 160\n",
      "Dead trees in train dataset: 200\n",
      "Picea abies healthy in validation dataset: 227\n",
      "Picea abies stressed in validation dataset: 171\n",
      "Pinus sylvestris healthy in validation dataset: 123\n",
      "Pinus sylvestris stressed in validation dataset: 138\n",
      "Abies alba healthy in validation dataset: 14\n",
      "Abies alba stressed in validation dataset: 1\n",
      "Fagus sylvatica healthy in validation dataset: 61\n",
      "Fagus sylvatica stressed in validation dataset: 71\n",
      "Quercus robur/petraea healthy in validation dataset: 36\n",
      "Quercus robur/petraea stressed in validation dataset: 28\n",
      "Larix spp. in validation dataset: 8\n",
      "Acer spp. in validation dataset: 7\n",
      "Betula pendula in validation dataset: 23\n",
      "Dead trees in validation dataset: 9\n",
      "--------------------------------------------------\n",
      "\n",
      "Creating datasets for fold: 2\n",
      "\n",
      "Creating dataloaders for fold: 2\n",
      "\n",
      "Loaded pretrained weights for efficientnet-b7\n",
      "\n",
      "[INFO] Fold number: 2\n",
      "[INFO] Number of epochs: 50\n",
      "[INFO] Batch_size: 32\n",
      "[INFO] Number of bands: 4\n",
      "[INFO] Dropout rate: 0.5\n",
      "[INFO] Gamma learning rate: 0.75\n",
      "[INFO] Memory allocated: 0 bytes\n"
     ]
    },
    {
     "data": {
      "application/vnd.jupyter.widget-view+json": {
       "model_id": "1a096f7c562b4f81b1ffd7b3122609d3",
       "version_major": 2,
       "version_minor": 0
      },
      "text/plain": [
       "  0%|          | 0/50 [00:00<?, ?it/s]"
      ]
     },
     "metadata": {},
     "output_type": "display_data"
    },
    {
     "name": "stdout",
     "output_type": "stream",
     "text": [
      "Epoch: 1 \n",
      "Learning rate: 0.001\n",
      "Train loss: 1.5525 | Train precision: 0.3238 | Train recall: 0.2931 | Train f1score: 0.2977 | Train acc: 0.3861 | Train kappa: 0.6789 \n",
      "Val loss: 1.7369 | Val precision: 0.1869 | Val recall: 0.1773 | Val f1score: 0.1300 | Val acc: 0.3866 | Val kappa: 0.1679 \n",
      "\n",
      "Epoch: 2 \n",
      "Learning rate: 0.00075\n",
      "Train loss: 1.2298 | Train precision: 0.4365 | Train recall: 0.4126 | Train f1score: 0.4134 | Train acc: 0.4789 | Train kappa: 0.7900 \n",
      "Val loss: 1.3533 | Val precision: 0.2631 | Val recall: 0.3464 | Val f1score: 0.2655 | Val acc: 0.4178 | Val kappa: 0.7220 \n",
      "\n",
      "Epoch: 3 \n",
      "Learning rate: 0.0005625000000000001\n",
      "Train loss: 1.0951 | Train precision: 0.5178 | Train recall: 0.4873 | Train f1score: 0.4937 | Train acc: 0.5394 | Train kappa: 0.8426 \n",
      "Val loss: 1.2607 | Val precision: 0.4516 | Val recall: 0.4562 | Val f1score: 0.3940 | Val acc: 0.5000 | Val kappa: 0.7723 \n",
      "\n",
      "Epoch: 4 \n",
      "Learning rate: 0.000421875\n",
      "Train loss: 1.0407 | Train precision: 0.5443 | Train recall: 0.5169 | Train f1score: 0.5225 | Train acc: 0.5517 | Train kappa: 0.8642 \n",
      "Val loss: 1.0651 | Val precision: 0.4858 | Val recall: 0.4570 | Val f1score: 0.4314 | Val acc: 0.5463 | Val kappa: 0.8550 \n",
      "\n",
      "Epoch: 5 \n",
      "Learning rate: 0.00031640625\n",
      "Train loss: 0.9662 | Train precision: 0.5767 | Train recall: 0.5544 | Train f1score: 0.5597 | Train acc: 0.5826 | Train kappa: 0.8876 \n",
      "Val loss: 1.1780 | Val precision: 0.4396 | Val recall: 0.4526 | Val f1score: 0.4285 | Val acc: 0.5243 | Val kappa: 0.7706 \n",
      "\n",
      "Epoch: 6 \n",
      "Learning rate: 0.0002373046875\n",
      "Train loss: 0.9216 | Train precision: 0.6015 | Train recall: 0.5704 | Train f1score: 0.5774 | Train acc: 0.6004 | Train kappa: 0.8984 \n",
      "Val loss: 0.9763 | Val precision: 0.5364 | Val recall: 0.5007 | Val f1score: 0.4871 | Val acc: 0.5787 | Val kappa: 0.8714 \n",
      "\n",
      "Epoch: 7 \n",
      "Learning rate: 0.000177978515625\n",
      "Train loss: 0.8834 | Train precision: 0.6119 | Train recall: 0.5815 | Train f1score: 0.5879 | Train acc: 0.6137 | Train kappa: 0.9061 \n",
      "Val loss: 1.1059 | Val precision: 0.4497 | Val recall: 0.4675 | Val f1score: 0.4414 | Val acc: 0.5590 | Val kappa: 0.8276 \n",
      "\n",
      "Epoch: 8 \n",
      "Learning rate: 0.00013348388671875\n",
      "Train loss: 0.8394 | Train precision: 0.6400 | Train recall: 0.6121 | Train f1score: 0.6188 | Train acc: 0.6348 | Train kappa: 0.9224 \n",
      "Val loss: 0.9774 | Val precision: 0.5360 | Val recall: 0.5490 | Val f1score: 0.5277 | Val acc: 0.6019 | Val kappa: 0.8646 \n",
      "\n",
      "Epoch: 9 \n",
      "Learning rate: 0.0001001129150390625\n",
      "Train loss: 0.8336 | Train precision: 0.6488 | Train recall: 0.6194 | Train f1score: 0.6287 | Train acc: 0.6366 | Train kappa: 0.9161 \n",
      "Val loss: 1.0095 | Val precision: 0.5834 | Val recall: 0.5147 | Val f1score: 0.5161 | Val acc: 0.5891 | Val kappa: 0.8589 \n",
      "\n",
      "Epoch: 10 \n",
      "Learning rate: 7.508468627929687e-05\n",
      "Train loss: 0.8155 | Train precision: 0.6614 | Train recall: 0.6316 | Train f1score: 0.6406 | Train acc: 0.6441 | Train kappa: 0.9205 \n",
      "Val loss: 1.0099 | Val precision: 0.5546 | Val recall: 0.5364 | Val f1score: 0.5144 | Val acc: 0.6019 | Val kappa: 0.8371 \n",
      "\n",
      "Epoch: 11 \n",
      "Learning rate: 5.6313514709472656e-05\n",
      "Train loss: 0.7985 | Train precision: 0.6600 | Train recall: 0.6342 | Train f1score: 0.6429 | Train acc: 0.6500 | Train kappa: 0.9215 \n",
      "Val loss: 0.9949 | Val precision: 0.5922 | Val recall: 0.5392 | Val f1score: 0.5312 | Val acc: 0.6019 | Val kappa: 0.8652 \n",
      "\n",
      "Epoch: 12 \n",
      "Learning rate: 4.223513603210449e-05\n",
      "Train loss: 0.7975 | Train precision: 0.6579 | Train recall: 0.6362 | Train f1score: 0.6420 | Train acc: 0.6465 | Train kappa: 0.9262 \n",
      "Val loss: 0.9733 | Val precision: 0.5715 | Val recall: 0.5389 | Val f1score: 0.5363 | Val acc: 0.6100 | Val kappa: 0.8733 \n",
      "\n",
      "Epoch: 13 \n",
      "Learning rate: 3.167635202407837e-05\n",
      "Train loss: 0.7928 | Train precision: 0.6715 | Train recall: 0.6456 | Train f1score: 0.6534 | Train acc: 0.6522 | Train kappa: 0.9271 \n",
      "Val loss: 0.9398 | Val precision: 0.5793 | Val recall: 0.5528 | Val f1score: 0.5480 | Val acc: 0.6157 | Val kappa: 0.8847 \n",
      "\n",
      "Epoch: 14 \n",
      "Learning rate: 2.3757264018058778e-05\n",
      "Train loss: 0.7760 | Train precision: 0.6787 | Train recall: 0.6518 | Train f1score: 0.6608 | Train acc: 0.6569 | Train kappa: 0.9265 \n",
      "Val loss: 0.9750 | Val precision: 0.5864 | Val recall: 0.5393 | Val f1score: 0.5379 | Val acc: 0.6100 | Val kappa: 0.8676 \n",
      "\n",
      "Epoch: 15 \n",
      "Learning rate: 1.7817948013544083e-05\n",
      "Train loss: 0.7800 | Train precision: 0.6719 | Train recall: 0.6445 | Train f1score: 0.6535 | Train acc: 0.6554 | Train kappa: 0.9327 \n",
      "Val loss: 0.9704 | Val precision: 0.5713 | Val recall: 0.5445 | Val f1score: 0.5446 | Val acc: 0.6146 | Val kappa: 0.8703 \n",
      "\n",
      "Epoch: 16 \n",
      "Learning rate: 1.3363461010158063e-05\n",
      "Train loss: 0.7580 | Train precision: 0.6792 | Train recall: 0.6576 | Train f1score: 0.6643 | Train acc: 0.6631 | Train kappa: 0.9350 \n",
      "Val loss: 0.9716 | Val precision: 0.5606 | Val recall: 0.5314 | Val f1score: 0.5318 | Val acc: 0.6030 | Val kappa: 0.8663 \n",
      "\n",
      "Epoch: 17 \n",
      "Learning rate: 1.0022595757618546e-05\n",
      "Train loss: 0.7634 | Train precision: 0.6757 | Train recall: 0.6478 | Train f1score: 0.6563 | Train acc: 0.6607 | Train kappa: 0.9288 \n",
      "Val loss: 0.9721 | Val precision: 0.5693 | Val recall: 0.5367 | Val f1score: 0.5368 | Val acc: 0.6123 | Val kappa: 0.8639 \n",
      "\n",
      "Epoch: 18 \n",
      "Learning rate: 7.51694681821391e-06\n",
      "Train loss: 0.7681 | Train precision: 0.6825 | Train recall: 0.6526 | Train f1score: 0.6625 | Train acc: 0.6649 | Train kappa: 0.9312 \n",
      "Val loss: 0.9638 | Val precision: 0.5836 | Val recall: 0.5516 | Val f1score: 0.5472 | Val acc: 0.6134 | Val kappa: 0.8742 \n",
      "\n",
      "Epoch: 19 \n",
      "Learning rate: 5.637710113660432e-06\n",
      "Train loss: 0.7498 | Train precision: 0.6819 | Train recall: 0.6630 | Train f1score: 0.6691 | Train acc: 0.6703 | Train kappa: 0.9310 \n",
      "Val loss: 0.9703 | Val precision: 0.5641 | Val recall: 0.5364 | Val f1score: 0.5322 | Val acc: 0.6100 | Val kappa: 0.8700 \n",
      "\n",
      "Epoch: 20 \n",
      "Learning rate: 4.228282585245324e-06\n",
      "Train loss: 0.7595 | Train precision: 0.6778 | Train recall: 0.6527 | Train f1score: 0.6601 | Train acc: 0.6654 | Train kappa: 0.9273 \n",
      "Val loss: 0.9622 | Val precision: 0.5790 | Val recall: 0.5459 | Val f1score: 0.5466 | Val acc: 0.6157 | Val kappa: 0.8728 \n",
      "\n",
      "Epoch: 21 \n",
      "Learning rate: 3.1712119389339933e-06\n",
      "Train loss: 0.7705 | Train precision: 0.6795 | Train recall: 0.6503 | Train f1score: 0.6595 | Train acc: 0.6605 | Train kappa: 0.9293 \n",
      "Val loss: 0.9639 | Val precision: 0.5758 | Val recall: 0.5382 | Val f1score: 0.5418 | Val acc: 0.6123 | Val kappa: 0.8714 \n",
      "\n",
      "Epoch: 22 \n",
      "Learning rate: 2.378408954200495e-06\n",
      "Train loss: 0.7652 | Train precision: 0.6717 | Train recall: 0.6470 | Train f1score: 0.6550 | Train acc: 0.6588 | Train kappa: 0.9287 \n",
      "Val loss: 0.9634 | Val precision: 0.5786 | Val recall: 0.5423 | Val f1score: 0.5428 | Val acc: 0.6146 | Val kappa: 0.8708 \n",
      "\n",
      "Epoch: 23 \n",
      "Learning rate: 1.7838067156503713e-06\n",
      "Train loss: 0.7518 | Train precision: 0.6893 | Train recall: 0.6604 | Train f1score: 0.6705 | Train acc: 0.6665 | Train kappa: 0.9324 \n",
      "Val loss: 0.9633 | Val precision: 0.5900 | Val recall: 0.5503 | Val f1score: 0.5536 | Val acc: 0.6192 | Val kappa: 0.8723 \n",
      "\n",
      "Early stopping after epoch 23\n"
     ]
    },
    {
     "data": {
      "text/html": [
       "Waiting for W&B process to finish... <strong style=\"color:green\">(success).</strong>"
      ],
      "text/plain": [
       "<IPython.core.display.HTML object>"
      ]
     },
     "metadata": {},
     "output_type": "display_data"
    },
    {
     "data": {
      "text/html": [
       "<style>\n",
       "    table.wandb td:nth-child(1) { padding: 0 10px; text-align: left ; width: auto;} td:nth-child(2) {text-align: left ; width: 100%}\n",
       "    .wandb-row { display: flex; flex-direction: row; flex-wrap: wrap; justify-content: flex-start; width: 100% }\n",
       "    .wandb-col { display: flex; flex-direction: column; flex-basis: 100%; flex: 1; padding: 10px; }\n",
       "    </style>\n",
       "<div class=\"wandb-row\"><div class=\"wandb-col\"><h3>Run history:</h3><br/><table class=\"wandb\"><tr><td>learning_rate</td><td>█▆▅▄▃▃▂▂▂▂▁▁▁▁▁▁▁▁▁▁▁▁▁</td></tr><tr><td>train_f1_score</td><td>▁▃▅▅▆▆▆▇▇▇▇▇███████████</td></tr><tr><td>train_loss</td><td>█▅▄▄▃▂▂▂▂▂▁▁▁▁▁▁▁▁▁▁▁▁▁</td></tr><tr><td>val_f1_score</td><td>▁▃▅▆▆▇▆█▇▇█████████████</td></tr><tr><td>val_loss</td><td>█▅▄▂▃▁▂▁▂▂▁▁▁▁▁▁▁▁▁▁▁▁▁</td></tr></table><br/></div><div class=\"wandb-col\"><h3>Run summary:</h3><br/><table class=\"wandb\"><tr><td>learning_rate</td><td>0.0</td></tr><tr><td>train_f1_score</td><td>0.67052</td></tr><tr><td>train_loss</td><td>0.75177</td></tr><tr><td>val_f1_score</td><td>0.55358</td></tr><tr><td>val_loss</td><td>0.96326</td></tr></table><br/></div></div>"
      ],
      "text/plain": [
       "<IPython.core.display.HTML object>"
      ]
     },
     "metadata": {},
     "output_type": "display_data"
    },
    {
     "data": {
      "text/html": [
       " View run <strong style=\"color:#cdcd00\">fold_2_RGB-NIR-11classes-combined_plotsplit</strong> at: <a href='https://wandb.ai/simon-ecke/wze-uav-combined-11classes/runs/6jzul5g8' target=\"_blank\">https://wandb.ai/simon-ecke/wze-uav-combined-11classes/runs/6jzul5g8</a><br/>Synced 5 W&B file(s), 0 media file(s), 0 artifact file(s) and 0 other file(s)"
      ],
      "text/plain": [
       "<IPython.core.display.HTML object>"
      ]
     },
     "metadata": {},
     "output_type": "display_data"
    },
    {
     "data": {
      "text/html": [
       "Find logs at: <code>.\\wandb\\run-20230527_025301-6jzul5g8\\logs</code>"
      ],
      "text/plain": [
       "<IPython.core.display.HTML object>"
      ]
     },
     "metadata": {},
     "output_type": "display_data"
    },
    {
     "name": "stdout",
     "output_type": "stream",
     "text": [
      "Deleting variables and emptying cache\n",
      "Memory allocated: 1053819904 bytes\n",
      "--------------------------------------------------\n",
      "\n",
      "Fold : 3\n",
      "TRAIN POSITIVE RATIO: 3.5173116089613035\n",
      "VAL POSITIVE RATIO  : 3.4129979035639413\n",
      "LENGTH TRAIN GROUPS : 156\n",
      "LENGTH VAL GROUPS   : 39\n"
     ]
    },
    {
     "data": {
      "text/html": [
       "wandb version 0.15.3 is available!  To upgrade, please run:\n",
       " $ pip install wandb --upgrade"
      ],
      "text/plain": [
       "<IPython.core.display.HTML object>"
      ]
     },
     "metadata": {},
     "output_type": "display_data"
    },
    {
     "data": {
      "text/html": [
       "Tracking run with wandb version 0.14.2"
      ],
      "text/plain": [
       "<IPython.core.display.HTML object>"
      ]
     },
     "metadata": {},
     "output_type": "display_data"
    },
    {
     "data": {
      "text/html": [
       "Run data is saved locally in <code>C:\\Users\\lwfeckesim\\01_PyTorch\\wze-uav\\wze-uav-master\\wandb\\run-20230527_044248-dvyg1kzr</code>"
      ],
      "text/plain": [
       "<IPython.core.display.HTML object>"
      ]
     },
     "metadata": {},
     "output_type": "display_data"
    },
    {
     "data": {
      "text/html": [
       "Syncing run <strong><a href='https://wandb.ai/simon-ecke/wze-uav-combined-11classes/runs/dvyg1kzr' target=\"_blank\">fold_3_RGB-NIR-11classes-combined_plotsplit</a></strong> to <a href='https://wandb.ai/simon-ecke/wze-uav-combined-11classes' target=\"_blank\">Weights & Biases</a> (<a href='https://wandb.me/run' target=\"_blank\">docs</a>)<br/>"
      ],
      "text/plain": [
       "<IPython.core.display.HTML object>"
      ]
     },
     "metadata": {},
     "output_type": "display_data"
    },
    {
     "data": {
      "text/html": [
       " View project at <a href='https://wandb.ai/simon-ecke/wze-uav-combined-11classes' target=\"_blank\">https://wandb.ai/simon-ecke/wze-uav-combined-11classes</a>"
      ],
      "text/plain": [
       "<IPython.core.display.HTML object>"
      ]
     },
     "metadata": {},
     "output_type": "display_data"
    },
    {
     "data": {
      "text/html": [
       " View run at <a href='https://wandb.ai/simon-ecke/wze-uav-combined-11classes/runs/dvyg1kzr' target=\"_blank\">https://wandb.ai/simon-ecke/wze-uav-combined-11classes/runs/dvyg1kzr</a>"
      ],
      "text/plain": [
       "<IPython.core.display.HTML object>"
      ]
     },
     "metadata": {},
     "output_type": "display_data"
    },
    {
     "name": "stdout",
     "output_type": "stream",
     "text": [
      "There are no same hash_id values in train, val or test datasets. The datasplit was successful\n",
      "Check shapes:\n",
      "\n",
      "Images train dataset: (11784, 250, 250, 4)\n",
      "Labels train dataset: (11784, 1)\n",
      "\n",
      "Images validation dataset: (1030, 250, 250, 4)\n",
      "Labels validation dataset: (1030, 1)\n",
      "\n",
      "--------------------------------------------------\n",
      "Check if the split was stratified: (random_state=42)\n",
      "Picea abies healthy in train dataset: 2861\n",
      "Picea abies stressed in train dataset: 1735\n",
      "Pinus sylvestris healthy in train dataset: 1503\n",
      "Pinus sylvestris stressed in train dataset: 1475\n",
      "Abies alba healthy in train dataset: 345\n",
      "Abies alba stressed in train dataset: 87\n",
      "Fagus sylvatica healthy in train dataset: 1110\n",
      "Fagus sylvatica stressed in train dataset: 824\n",
      "Quercus robur/petraea healthy in train dataset: 575\n",
      "Quercus robur/petraea stressed in train dataset: 346\n",
      "Larix spp. in train dataset: 356\n",
      "Acer spp. in train dataset: 208\n",
      "Betula pendula in train dataset: 190\n",
      "Dead trees in train dataset: 169\n",
      "Picea abies healthy in validation dataset: 282\n",
      "Picea abies stressed in validation dataset: 105\n",
      "Pinus sylvestris healthy in validation dataset: 128\n",
      "Pinus sylvestris stressed in validation dataset: 194\n",
      "Abies alba healthy in validation dataset: 36\n",
      "Abies alba stressed in validation dataset: 14\n",
      "Fagus sylvatica healthy in validation dataset: 63\n",
      "Fagus sylvatica stressed in validation dataset: 51\n",
      "Quercus robur/petraea healthy in validation dataset: 48\n",
      "Quercus robur/petraea stressed in validation dataset: 28\n",
      "Larix spp. in validation dataset: 32\n",
      "Acer spp. in validation dataset: 16\n",
      "Betula pendula in validation dataset: 15\n",
      "Dead trees in validation dataset: 18\n",
      "--------------------------------------------------\n",
      "\n",
      "Creating datasets for fold: 3\n",
      "\n",
      "Creating dataloaders for fold: 3\n",
      "\n",
      "Loaded pretrained weights for efficientnet-b7\n",
      "\n",
      "[INFO] Fold number: 3\n",
      "[INFO] Number of epochs: 50\n",
      "[INFO] Batch_size: 32\n",
      "[INFO] Number of bands: 4\n",
      "[INFO] Dropout rate: 0.5\n",
      "[INFO] Gamma learning rate: 0.75\n",
      "[INFO] Memory allocated: 0 bytes\n"
     ]
    },
    {
     "data": {
      "application/vnd.jupyter.widget-view+json": {
       "model_id": "14a60b6be741458bbb765a5701d20366",
       "version_major": 2,
       "version_minor": 0
      },
      "text/plain": [
       "  0%|          | 0/50 [00:00<?, ?it/s]"
      ]
     },
     "metadata": {},
     "output_type": "display_data"
    },
    {
     "name": "stdout",
     "output_type": "stream",
     "text": [
      "Epoch: 1 \n",
      "Learning rate: 0.001\n",
      "Train loss: 1.5186 | Train precision: 0.3175 | Train recall: 0.2795 | Train f1score: 0.2827 | Train acc: 0.3981 | Train kappa: 0.6629 \n",
      "Val loss: 1.8958 | Val precision: 0.2208 | Val recall: 0.1698 | Val f1score: 0.1322 | Val acc: 0.3458 | Val kappa: 0.4348 \n",
      "\n",
      "Epoch: 2 \n",
      "Learning rate: 0.00075\n",
      "Train loss: 1.1876 | Train precision: 0.4426 | Train recall: 0.4245 | Train f1score: 0.4264 | Train acc: 0.4969 | Train kappa: 0.8089 \n",
      "Val loss: 1.3534 | Val precision: 0.3748 | Val recall: 0.3158 | Val f1score: 0.3086 | Val acc: 0.4479 | Val kappa: 0.6501 \n",
      "\n",
      "Epoch: 3 \n",
      "Learning rate: 0.0005625000000000001\n",
      "Train loss: 1.0714 | Train precision: 0.4953 | Train recall: 0.4764 | Train f1score: 0.4790 | Train acc: 0.5383 | Train kappa: 0.8487 \n",
      "Val loss: 1.1973 | Val precision: 0.5236 | Val recall: 0.4298 | Val f1score: 0.4556 | Val acc: 0.5552 | Val kappa: 0.7867 \n",
      "\n",
      "Epoch: 4 \n",
      "Learning rate: 0.000421875\n",
      "Train loss: 1.0048 | Train precision: 0.5530 | Train recall: 0.5186 | Train f1score: 0.5244 | Train acc: 0.5618 | Train kappa: 0.8692 \n",
      "Val loss: 1.0440 | Val precision: 0.4853 | Val recall: 0.4705 | Val f1score: 0.4498 | Val acc: 0.5573 | Val kappa: 0.8477 \n",
      "\n",
      "Epoch: 5 \n",
      "Learning rate: 0.00031640625\n",
      "Train loss: 0.9381 | Train precision: 0.5712 | Train recall: 0.5423 | Train f1score: 0.5452 | Train acc: 0.5893 | Train kappa: 0.8781 \n",
      "Val loss: 1.0270 | Val precision: 0.5485 | Val recall: 0.5058 | Val f1score: 0.4933 | Val acc: 0.5437 | Val kappa: 0.8577 \n",
      "\n",
      "Epoch: 6 \n",
      "Learning rate: 0.0002373046875\n",
      "Train loss: 0.8895 | Train precision: 0.5947 | Train recall: 0.5669 | Train f1score: 0.5707 | Train acc: 0.6076 | Train kappa: 0.9039 \n",
      "Val loss: 0.9708 | Val precision: 0.5804 | Val recall: 0.5073 | Val f1score: 0.5048 | Val acc: 0.5729 | Val kappa: 0.8785 \n",
      "\n",
      "Epoch: 7 \n",
      "Learning rate: 0.000177978515625\n",
      "Train loss: 0.8538 | Train precision: 0.6126 | Train recall: 0.5886 | Train f1score: 0.5927 | Train acc: 0.6206 | Train kappa: 0.9136 \n",
      "Val loss: 0.9590 | Val precision: 0.5977 | Val recall: 0.5459 | Val f1score: 0.5508 | Val acc: 0.5969 | Val kappa: 0.8704 \n",
      "\n",
      "Epoch: 8 \n",
      "Learning rate: 0.00013348388671875\n",
      "Train loss: 0.8373 | Train precision: 0.6167 | Train recall: 0.5870 | Train f1score: 0.5942 | Train acc: 0.6223 | Train kappa: 0.9179 \n",
      "Val loss: 0.9530 | Val precision: 0.5721 | Val recall: 0.5291 | Val f1score: 0.5312 | Val acc: 0.5833 | Val kappa: 0.8608 \n",
      "\n",
      "Epoch: 9 \n",
      "Learning rate: 0.0001001129150390625\n",
      "Train loss: 0.8189 | Train precision: 0.6569 | Train recall: 0.6077 | Train f1score: 0.6199 | Train acc: 0.6400 | Train kappa: 0.9123 \n",
      "Val loss: 0.9502 | Val precision: 0.5682 | Val recall: 0.5021 | Val f1score: 0.5147 | Val acc: 0.5802 | Val kappa: 0.8753 \n",
      "\n",
      "Epoch: 10 \n",
      "Learning rate: 7.508468627929687e-05\n",
      "Train loss: 0.8122 | Train precision: 0.6457 | Train recall: 0.6220 | Train f1score: 0.6294 | Train acc: 0.6377 | Train kappa: 0.9214 \n",
      "Val loss: 0.9522 | Val precision: 0.5897 | Val recall: 0.5666 | Val f1score: 0.5622 | Val acc: 0.6042 | Val kappa: 0.8677 \n",
      "\n",
      "Epoch: 11 \n",
      "Learning rate: 5.6313514709472656e-05\n",
      "Train loss: 0.7907 | Train precision: 0.6576 | Train recall: 0.6263 | Train f1score: 0.6347 | Train acc: 0.6473 | Train kappa: 0.9283 \n",
      "Val loss: 0.9394 | Val precision: 0.6094 | Val recall: 0.5461 | Val f1score: 0.5424 | Val acc: 0.5958 | Val kappa: 0.8819 \n",
      "\n",
      "Epoch: 12 \n",
      "Learning rate: 4.223513603210449e-05\n",
      "Train loss: 0.7787 | Train precision: 0.6585 | Train recall: 0.6249 | Train f1score: 0.6323 | Train acc: 0.6500 | Train kappa: 0.9275 \n",
      "Val loss: 0.9460 | Val precision: 0.5751 | Val recall: 0.5400 | Val f1score: 0.5390 | Val acc: 0.5833 | Val kappa: 0.8826 \n",
      "\n",
      "Epoch: 13 \n",
      "Learning rate: 3.167635202407837e-05\n",
      "Train loss: 0.7715 | Train precision: 0.6585 | Train recall: 0.6265 | Train f1score: 0.6347 | Train acc: 0.6513 | Train kappa: 0.9379 \n",
      "Val loss: 0.9546 | Val precision: 0.5927 | Val recall: 0.5363 | Val f1score: 0.5325 | Val acc: 0.5906 | Val kappa: 0.8715 \n",
      "\n",
      "Epoch: 14 \n",
      "Learning rate: 2.3757264018058778e-05\n",
      "Train loss: 0.7571 | Train precision: 0.6808 | Train recall: 0.6482 | Train f1score: 0.6582 | Train acc: 0.6587 | Train kappa: 0.9337 \n",
      "Val loss: 0.9504 | Val precision: 0.5927 | Val recall: 0.5601 | Val f1score: 0.5581 | Val acc: 0.5896 | Val kappa: 0.8858 \n",
      "\n",
      "Epoch: 15 \n",
      "Learning rate: 1.7817948013544083e-05\n",
      "Train loss: 0.7587 | Train precision: 0.6617 | Train recall: 0.6322 | Train f1score: 0.6413 | Train acc: 0.6588 | Train kappa: 0.9310 \n",
      "Val loss: 0.9398 | Val precision: 0.6089 | Val recall: 0.5587 | Val f1score: 0.5571 | Val acc: 0.5990 | Val kappa: 0.8819 \n",
      "\n",
      "Epoch: 16 \n",
      "Learning rate: 1.3363461010158063e-05\n",
      "Train loss: 0.7482 | Train precision: 0.6758 | Train recall: 0.6420 | Train f1score: 0.6518 | Train acc: 0.6660 | Train kappa: 0.9323 \n",
      "Val loss: 0.9340 | Val precision: 0.5821 | Val recall: 0.5496 | Val f1score: 0.5501 | Val acc: 0.6031 | Val kappa: 0.8840 \n",
      "\n",
      "Epoch: 17 \n",
      "Learning rate: 1.0022595757618546e-05\n",
      "Train loss: 0.7415 | Train precision: 0.6933 | Train recall: 0.6511 | Train f1score: 0.6634 | Train acc: 0.6632 | Train kappa: 0.9393 \n",
      "Val loss: 0.9432 | Val precision: 0.5805 | Val recall: 0.5409 | Val f1score: 0.5397 | Val acc: 0.5865 | Val kappa: 0.8818 \n",
      "\n",
      "Epoch: 18 \n",
      "Learning rate: 7.51694681821391e-06\n",
      "Train loss: 0.7418 | Train precision: 0.6867 | Train recall: 0.6550 | Train f1score: 0.6640 | Train acc: 0.6604 | Train kappa: 0.9361 \n",
      "Val loss: 0.9383 | Val precision: 0.5869 | Val recall: 0.5682 | Val f1score: 0.5651 | Val acc: 0.6000 | Val kappa: 0.8814 \n",
      "\n",
      "Epoch: 19 \n",
      "Learning rate: 5.637710113660432e-06\n",
      "Train loss: 0.7565 | Train precision: 0.6649 | Train recall: 0.6368 | Train f1score: 0.6441 | Train acc: 0.6584 | Train kappa: 0.9333 \n",
      "Val loss: 0.9359 | Val precision: 0.6031 | Val recall: 0.5729 | Val f1score: 0.5747 | Val acc: 0.6042 | Val kappa: 0.8845 \n",
      "\n",
      "Epoch: 20 \n",
      "Learning rate: 4.228282585245324e-06\n",
      "Train loss: 0.7434 | Train precision: 0.6732 | Train recall: 0.6415 | Train f1score: 0.6512 | Train acc: 0.6688 | Train kappa: 0.9374 \n",
      "Val loss: 0.9415 | Val precision: 0.5867 | Val recall: 0.5570 | Val f1score: 0.5563 | Val acc: 0.6000 | Val kappa: 0.8854 \n",
      "\n",
      "Epoch: 21 \n",
      "Learning rate: 3.1712119389339933e-06\n",
      "Train loss: 0.7582 | Train precision: 0.6886 | Train recall: 0.6508 | Train f1score: 0.6623 | Train acc: 0.6634 | Train kappa: 0.9345 \n",
      "Val loss: 0.9458 | Val precision: 0.5798 | Val recall: 0.5491 | Val f1score: 0.5474 | Val acc: 0.5938 | Val kappa: 0.8855 \n",
      "\n",
      "Epoch: 22 \n",
      "Learning rate: 2.378408954200495e-06\n",
      "Train loss: 0.7311 | Train precision: 0.6922 | Train recall: 0.6522 | Train f1score: 0.6632 | Train acc: 0.6681 | Train kappa: 0.9403 \n",
      "Val loss: 0.9429 | Val precision: 0.5915 | Val recall: 0.5676 | Val f1score: 0.5667 | Val acc: 0.6010 | Val kappa: 0.8851 \n",
      "\n",
      "Epoch: 23 \n",
      "Learning rate: 1.7838067156503713e-06\n",
      "Train loss: 0.7387 | Train precision: 0.6825 | Train recall: 0.6525 | Train f1score: 0.6618 | Train acc: 0.6672 | Train kappa: 0.9377 \n",
      "Val loss: 0.9415 | Val precision: 0.5942 | Val recall: 0.5674 | Val f1score: 0.5681 | Val acc: 0.6010 | Val kappa: 0.8890 \n",
      "\n",
      "Epoch: 24 \n",
      "Learning rate: 1.3378550367377785e-06\n",
      "Train loss: 0.7391 | Train precision: 0.6721 | Train recall: 0.6470 | Train f1score: 0.6543 | Train acc: 0.6646 | Train kappa: 0.9355 \n",
      "Val loss: 0.9404 | Val precision: 0.5835 | Val recall: 0.5599 | Val f1score: 0.5601 | Val acc: 0.5958 | Val kappa: 0.8870 \n",
      "\n",
      "Epoch: 25 \n",
      "Learning rate: 1.0033912775533338e-06\n",
      "Train loss: 0.7342 | Train precision: 0.7057 | Train recall: 0.6571 | Train f1score: 0.6709 | Train acc: 0.6631 | Train kappa: 0.9336 \n",
      "Val loss: 0.9447 | Val precision: 0.5859 | Val recall: 0.5656 | Val f1score: 0.5634 | Val acc: 0.5969 | Val kappa: 0.8814 \n",
      "\n",
      "Epoch: 26 \n",
      "Learning rate: 1e-06\n",
      "Train loss: 0.7383 | Train precision: 0.6942 | Train recall: 0.6652 | Train f1score: 0.6747 | Train acc: 0.6699 | Train kappa: 0.9416 \n",
      "Val loss: 0.9384 | Val precision: 0.5923 | Val recall: 0.5713 | Val f1score: 0.5718 | Val acc: 0.6021 | Val kappa: 0.8876 \n",
      "\n",
      "Early stopping after epoch 26\n"
     ]
    },
    {
     "data": {
      "text/html": [
       "Waiting for W&B process to finish... <strong style=\"color:green\">(success).</strong>"
      ],
      "text/plain": [
       "<IPython.core.display.HTML object>"
      ]
     },
     "metadata": {},
     "output_type": "display_data"
    },
    {
     "data": {
      "text/html": [
       "<style>\n",
       "    table.wandb td:nth-child(1) { padding: 0 10px; text-align: left ; width: auto;} td:nth-child(2) {text-align: left ; width: 100%}\n",
       "    .wandb-row { display: flex; flex-direction: row; flex-wrap: wrap; justify-content: flex-start; width: 100% }\n",
       "    .wandb-col { display: flex; flex-direction: column; flex-basis: 100%; flex: 1; padding: 10px; }\n",
       "    </style>\n",
       "<div class=\"wandb-row\"><div class=\"wandb-col\"><h3>Run history:</h3><br/><table class=\"wandb\"><tr><td>learning_rate</td><td>█▆▅▄▃▃▂▂▂▂▁▁▁▁▁▁▁▁▁▁▁▁▁▁▁▁</td></tr><tr><td>train_f1_score</td><td>▁▄▅▅▆▆▇▇▇▇▇▇▇█▇███▇███████</td></tr><tr><td>train_loss</td><td>█▅▄▃▃▂▂▂▂▂▂▁▁▁▁▁▁▁▁▁▁▁▁▁▁▁</td></tr><tr><td>val_f1_score</td><td>▁▄▆▆▇▇█▇▇█▇▇▇███▇█████████</td></tr><tr><td>val_loss</td><td>█▄▃▂▂▁▁▁▁▁▁▁▁▁▁▁▁▁▁▁▁▁▁▁▁▁</td></tr></table><br/></div><div class=\"wandb-col\"><h3>Run summary:</h3><br/><table class=\"wandb\"><tr><td>learning_rate</td><td>0.0</td></tr><tr><td>train_f1_score</td><td>0.67466</td></tr><tr><td>train_loss</td><td>0.73829</td></tr><tr><td>val_f1_score</td><td>0.57175</td></tr><tr><td>val_loss</td><td>0.9384</td></tr></table><br/></div></div>"
      ],
      "text/plain": [
       "<IPython.core.display.HTML object>"
      ]
     },
     "metadata": {},
     "output_type": "display_data"
    },
    {
     "data": {
      "text/html": [
       " View run <strong style=\"color:#cdcd00\">fold_3_RGB-NIR-11classes-combined_plotsplit</strong> at: <a href='https://wandb.ai/simon-ecke/wze-uav-combined-11classes/runs/dvyg1kzr' target=\"_blank\">https://wandb.ai/simon-ecke/wze-uav-combined-11classes/runs/dvyg1kzr</a><br/>Synced 5 W&B file(s), 0 media file(s), 0 artifact file(s) and 0 other file(s)"
      ],
      "text/plain": [
       "<IPython.core.display.HTML object>"
      ]
     },
     "metadata": {},
     "output_type": "display_data"
    },
    {
     "data": {
      "text/html": [
       "Find logs at: <code>.\\wandb\\run-20230527_044248-dvyg1kzr\\logs</code>"
      ],
      "text/plain": [
       "<IPython.core.display.HTML object>"
      ]
     },
     "metadata": {},
     "output_type": "display_data"
    },
    {
     "name": "stdout",
     "output_type": "stream",
     "text": [
      "Deleting variables and emptying cache\n",
      "Memory allocated: 1055497216 bytes\n",
      "--------------------------------------------------\n",
      "\n",
      "Fold : 4\n",
      "TRAIN POSITIVE RATIO: 3.4601372532407013\n",
      "VAL POSITIVE RATIO  : 3.64966584593739\n",
      "LENGTH TRAIN GROUPS : 158\n",
      "LENGTH VAL GROUPS   : 37\n"
     ]
    },
    {
     "data": {
      "text/html": [
       "wandb version 0.15.3 is available!  To upgrade, please run:\n",
       " $ pip install wandb --upgrade"
      ],
      "text/plain": [
       "<IPython.core.display.HTML object>"
      ]
     },
     "metadata": {},
     "output_type": "display_data"
    },
    {
     "data": {
      "text/html": [
       "Tracking run with wandb version 0.14.2"
      ],
      "text/plain": [
       "<IPython.core.display.HTML object>"
      ]
     },
     "metadata": {},
     "output_type": "display_data"
    },
    {
     "data": {
      "text/html": [
       "Run data is saved locally in <code>C:\\Users\\lwfeckesim\\01_PyTorch\\wze-uav\\wze-uav-master\\wandb\\run-20230527_064439-oiqmi0sf</code>"
      ],
      "text/plain": [
       "<IPython.core.display.HTML object>"
      ]
     },
     "metadata": {},
     "output_type": "display_data"
    },
    {
     "data": {
      "text/html": [
       "Syncing run <strong><a href='https://wandb.ai/simon-ecke/wze-uav-combined-11classes/runs/oiqmi0sf' target=\"_blank\">fold_4_RGB-NIR-11classes-combined_plotsplit</a></strong> to <a href='https://wandb.ai/simon-ecke/wze-uav-combined-11classes' target=\"_blank\">Weights & Biases</a> (<a href='https://wandb.me/run' target=\"_blank\">docs</a>)<br/>"
      ],
      "text/plain": [
       "<IPython.core.display.HTML object>"
      ]
     },
     "metadata": {},
     "output_type": "display_data"
    },
    {
     "data": {
      "text/html": [
       " View project at <a href='https://wandb.ai/simon-ecke/wze-uav-combined-11classes' target=\"_blank\">https://wandb.ai/simon-ecke/wze-uav-combined-11classes</a>"
      ],
      "text/plain": [
       "<IPython.core.display.HTML object>"
      ]
     },
     "metadata": {},
     "output_type": "display_data"
    },
    {
     "data": {
      "text/html": [
       " View run at <a href='https://wandb.ai/simon-ecke/wze-uav-combined-11classes/runs/oiqmi0sf' target=\"_blank\">https://wandb.ai/simon-ecke/wze-uav-combined-11classes/runs/oiqmi0sf</a>"
      ],
      "text/plain": [
       "<IPython.core.display.HTML object>"
      ]
     },
     "metadata": {},
     "output_type": "display_data"
    },
    {
     "name": "stdout",
     "output_type": "stream",
     "text": [
      "There are no same hash_id values in train, val or test datasets. The datasplit was successful\n",
      "Check shapes:\n",
      "\n",
      "Images train dataset: (11803, 250, 250, 4)\n",
      "Labels train dataset: (11803, 1)\n",
      "\n",
      "Images validation dataset: (1054, 250, 250, 4)\n",
      "Labels validation dataset: (1054, 1)\n",
      "\n",
      "--------------------------------------------------\n",
      "Check if the split was stratified: (random_state=42)\n",
      "Picea abies healthy in train dataset: 3039\n",
      "Picea abies stressed in train dataset: 1752\n",
      "Pinus sylvestris healthy in train dataset: 1314\n",
      "Pinus sylvestris stressed in train dataset: 1570\n",
      "Abies alba healthy in train dataset: 344\n",
      "Abies alba stressed in train dataset: 117\n",
      "Fagus sylvatica healthy in train dataset: 980\n",
      "Fagus sylvatica stressed in train dataset: 767\n",
      "Quercus robur/petraea healthy in train dataset: 652\n",
      "Quercus robur/petraea stressed in train dataset: 383\n",
      "Larix spp. in train dataset: 343\n",
      "Acer spp. in train dataset: 212\n",
      "Betula pendula in train dataset: 175\n",
      "Dead trees in train dataset: 155\n",
      "Picea abies healthy in validation dataset: 225\n",
      "Picea abies stressed in validation dataset: 119\n",
      "Pinus sylvestris healthy in validation dataset: 172\n",
      "Pinus sylvestris stressed in validation dataset: 172\n",
      "Abies alba healthy in validation dataset: 41\n",
      "Abies alba stressed in validation dataset: 6\n",
      "Fagus sylvatica healthy in validation dataset: 126\n",
      "Fagus sylvatica stressed in validation dataset: 60\n",
      "Quercus robur/petraea healthy in validation dataset: 30\n",
      "Quercus robur/petraea stressed in validation dataset: 9\n",
      "Larix spp. in validation dataset: 39\n",
      "Acer spp. in validation dataset: 11\n",
      "Betula pendula in validation dataset: 20\n",
      "Dead trees in validation dataset: 24\n",
      "--------------------------------------------------\n",
      "\n",
      "Creating datasets for fold: 4\n",
      "\n",
      "Creating dataloaders for fold: 4\n",
      "\n",
      "Loaded pretrained weights for efficientnet-b7\n",
      "\n",
      "[INFO] Fold number: 4\n",
      "[INFO] Number of epochs: 50\n",
      "[INFO] Batch_size: 32\n",
      "[INFO] Number of bands: 4\n",
      "[INFO] Dropout rate: 0.5\n",
      "[INFO] Gamma learning rate: 0.75\n",
      "[INFO] Memory allocated: 0 bytes\n"
     ]
    },
    {
     "data": {
      "application/vnd.jupyter.widget-view+json": {
       "model_id": "d2dd74db2ffb4a8f98d69cc6d322e830",
       "version_major": 2,
       "version_minor": 0
      },
      "text/plain": [
       "  0%|          | 0/50 [00:00<?, ?it/s]"
      ]
     },
     "metadata": {},
     "output_type": "display_data"
    },
    {
     "name": "stdout",
     "output_type": "stream",
     "text": [
      "Epoch: 1 \n",
      "Learning rate: 0.001\n",
      "Train loss: 1.4713 | Train precision: 0.3491 | Train recall: 0.3099 | Train f1score: 0.3158 | Train acc: 0.4022 | Train kappa: 0.7255 \n",
      "Val loss: 1.6330 | Val precision: 0.1743 | Val recall: 0.2471 | Val f1score: 0.1826 | Val acc: 0.4062 | Val kappa: 0.5149 \n",
      "\n",
      "Epoch: 2 \n",
      "Learning rate: 0.00075\n",
      "Train loss: 1.1834 | Train precision: 0.4666 | Train recall: 0.4378 | Train f1score: 0.4437 | Train acc: 0.4973 | Train kappa: 0.8190 \n",
      "Val loss: 1.5978 | Val precision: 0.3085 | Val recall: 0.3954 | Val f1score: 0.2734 | Val acc: 0.3427 | Val kappa: 0.6625 \n",
      "\n",
      "Epoch: 3 \n",
      "Learning rate: 0.0005625000000000001\n",
      "Train loss: 1.0734 | Train precision: 0.5188 | Train recall: 0.4941 | Train f1score: 0.5002 | Train acc: 0.5367 | Train kappa: 0.8559 \n",
      "Val loss: 1.1788 | Val precision: 0.4217 | Val recall: 0.4418 | Val f1score: 0.3998 | Val acc: 0.5125 | Val kappa: 0.6959 \n",
      "\n",
      "Epoch: 4 \n",
      "Learning rate: 0.000421875\n",
      "Train loss: 1.0163 | Train precision: 0.5401 | Train recall: 0.5171 | Train f1score: 0.5232 | Train acc: 0.5540 | Train kappa: 0.8716 \n",
      "Val loss: 1.1494 | Val precision: 0.4800 | Val recall: 0.4210 | Val f1score: 0.3862 | Val acc: 0.5135 | Val kappa: 0.7443 \n",
      "\n",
      "Epoch: 5 \n",
      "Learning rate: 0.00031640625\n",
      "Train loss: 0.9467 | Train precision: 0.5762 | Train recall: 0.5538 | Train f1score: 0.5605 | Train acc: 0.5880 | Train kappa: 0.8884 \n",
      "Val loss: 1.0657 | Val precision: 0.4116 | Val recall: 0.4486 | Val f1score: 0.4121 | Val acc: 0.5365 | Val kappa: 0.7872 \n",
      "\n",
      "Epoch: 6 \n",
      "Learning rate: 0.0002373046875\n",
      "Train loss: 0.9160 | Train precision: 0.6031 | Train recall: 0.5763 | Train f1score: 0.5838 | Train acc: 0.6011 | Train kappa: 0.8983 \n",
      "Val loss: 1.2878 | Val precision: 0.4596 | Val recall: 0.4554 | Val f1score: 0.4074 | Val acc: 0.5417 | Val kappa: 0.6928 \n",
      "\n",
      "Epoch: 7 \n",
      "Learning rate: 0.000177978515625\n",
      "Train loss: 0.8659 | Train precision: 0.6272 | Train recall: 0.6003 | Train f1score: 0.6066 | Train acc: 0.6189 | Train kappa: 0.9068 \n",
      "Val loss: 1.0586 | Val precision: 0.4791 | Val recall: 0.5033 | Val f1score: 0.4705 | Val acc: 0.5396 | Val kappa: 0.8142 \n",
      "\n",
      "Epoch: 8 \n",
      "Learning rate: 0.00013348388671875\n",
      "Train loss: 0.8513 | Train precision: 0.6251 | Train recall: 0.6006 | Train f1score: 0.6087 | Train acc: 0.6217 | Train kappa: 0.9107 \n",
      "Val loss: 1.0917 | Val precision: 0.4613 | Val recall: 0.4816 | Val f1score: 0.4500 | Val acc: 0.5344 | Val kappa: 0.8426 \n",
      "\n",
      "Epoch: 9 \n",
      "Learning rate: 0.0001001129150390625\n",
      "Train loss: 0.8232 | Train precision: 0.6381 | Train recall: 0.6146 | Train f1score: 0.6212 | Train acc: 0.6355 | Train kappa: 0.9160 \n",
      "Val loss: 1.0269 | Val precision: 0.4839 | Val recall: 0.4886 | Val f1score: 0.4659 | Val acc: 0.5469 | Val kappa: 0.8428 \n",
      "\n",
      "Epoch: 10 \n",
      "Learning rate: 7.508468627929687e-05\n",
      "Train loss: 0.8019 | Train precision: 0.6617 | Train recall: 0.6353 | Train f1score: 0.6446 | Train acc: 0.6496 | Train kappa: 0.9265 \n",
      "Val loss: 1.0388 | Val precision: 0.4975 | Val recall: 0.4908 | Val f1score: 0.4774 | Val acc: 0.5552 | Val kappa: 0.8452 \n",
      "\n",
      "Epoch: 11 \n",
      "Learning rate: 5.6313514709472656e-05\n",
      "Train loss: 0.7931 | Train precision: 0.6531 | Train recall: 0.6332 | Train f1score: 0.6391 | Train acc: 0.6445 | Train kappa: 0.9268 \n",
      "Val loss: 1.0614 | Val precision: 0.5256 | Val recall: 0.4896 | Val f1score: 0.4864 | Val acc: 0.5417 | Val kappa: 0.8159 \n",
      "\n",
      "Epoch: 12 \n",
      "Learning rate: 4.223513603210449e-05\n",
      "Train loss: 0.7683 | Train precision: 0.6767 | Train recall: 0.6529 | Train f1score: 0.6591 | Train acc: 0.6614 | Train kappa: 0.9307 \n",
      "Val loss: 1.0792 | Val precision: 0.5175 | Val recall: 0.5180 | Val f1score: 0.5028 | Val acc: 0.5667 | Val kappa: 0.8442 \n",
      "\n",
      "Epoch: 13 \n",
      "Learning rate: 3.167635202407837e-05\n",
      "Train loss: 0.7691 | Train precision: 0.6823 | Train recall: 0.6554 | Train f1score: 0.6644 | Train acc: 0.6604 | Train kappa: 0.9290 \n",
      "Val loss: 1.0545 | Val precision: 0.5073 | Val recall: 0.4949 | Val f1score: 0.4837 | Val acc: 0.5542 | Val kappa: 0.8271 \n",
      "\n",
      "Epoch: 14 \n",
      "Learning rate: 2.3757264018058778e-05\n",
      "Train loss: 0.7802 | Train precision: 0.6770 | Train recall: 0.6527 | Train f1score: 0.6614 | Train acc: 0.6555 | Train kappa: 0.9258 \n",
      "Val loss: 1.1065 | Val precision: 0.4769 | Val recall: 0.4866 | Val f1score: 0.4637 | Val acc: 0.5281 | Val kappa: 0.8056 \n",
      "\n",
      "Epoch: 15 \n",
      "Learning rate: 1.7817948013544083e-05\n",
      "Train loss: 0.7767 | Train precision: 0.6650 | Train recall: 0.6370 | Train f1score: 0.6463 | Train acc: 0.6571 | Train kappa: 0.9275 \n",
      "Val loss: 1.0763 | Val precision: 0.4958 | Val recall: 0.4993 | Val f1score: 0.4815 | Val acc: 0.5490 | Val kappa: 0.8130 \n",
      "\n",
      "Epoch: 16 \n",
      "Learning rate: 1.3363461010158063e-05\n",
      "Train loss: 0.7397 | Train precision: 0.6972 | Train recall: 0.6731 | Train f1score: 0.6809 | Train acc: 0.6730 | Train kappa: 0.9379 \n",
      "Val loss: 1.0772 | Val precision: 0.4927 | Val recall: 0.4932 | Val f1score: 0.4788 | Val acc: 0.5510 | Val kappa: 0.8139 \n",
      "\n",
      "Epoch: 17 \n",
      "Learning rate: 1.0022595757618546e-05\n",
      "Train loss: 0.7387 | Train precision: 0.6814 | Train recall: 0.6591 | Train f1score: 0.6666 | Train acc: 0.6693 | Train kappa: 0.9336 \n",
      "Val loss: 1.0662 | Val precision: 0.5055 | Val recall: 0.5090 | Val f1score: 0.4915 | Val acc: 0.5688 | Val kappa: 0.8233 \n",
      "\n",
      "Epoch: 18 \n",
      "Learning rate: 7.51694681821391e-06\n",
      "Train loss: 0.7405 | Train precision: 0.6912 | Train recall: 0.6633 | Train f1score: 0.6718 | Train acc: 0.6760 | Train kappa: 0.9336 \n",
      "Val loss: 1.0789 | Val precision: 0.4988 | Val recall: 0.5005 | Val f1score: 0.4842 | Val acc: 0.5562 | Val kappa: 0.8312 \n",
      "\n",
      "Epoch: 19 \n",
      "Learning rate: 5.637710113660432e-06\n",
      "Train loss: 0.7301 | Train precision: 0.6884 | Train recall: 0.6622 | Train f1score: 0.6711 | Train acc: 0.6729 | Train kappa: 0.9389 \n",
      "Val loss: 1.0880 | Val precision: 0.4949 | Val recall: 0.4997 | Val f1score: 0.4816 | Val acc: 0.5542 | Val kappa: 0.8199 \n",
      "\n",
      "Early stopping after epoch 19\n"
     ]
    },
    {
     "data": {
      "text/html": [
       "Waiting for W&B process to finish... <strong style=\"color:green\">(success).</strong>"
      ],
      "text/plain": [
       "<IPython.core.display.HTML object>"
      ]
     },
     "metadata": {},
     "output_type": "display_data"
    },
    {
     "data": {
      "application/vnd.jupyter.widget-view+json": {
       "model_id": "a8019f8a9e964369afd44f4ee86ee451",
       "version_major": 2,
       "version_minor": 0
      },
      "text/plain": [
       "VBox(children=(Label(value='0.001 MB of 0.001 MB uploaded (0.000 MB deduped)\\r'), FloatProgress(value=1.0, max…"
      ]
     },
     "metadata": {},
     "output_type": "display_data"
    },
    {
     "data": {
      "text/html": [
       "<style>\n",
       "    table.wandb td:nth-child(1) { padding: 0 10px; text-align: left ; width: auto;} td:nth-child(2) {text-align: left ; width: 100%}\n",
       "    .wandb-row { display: flex; flex-direction: row; flex-wrap: wrap; justify-content: flex-start; width: 100% }\n",
       "    .wandb-col { display: flex; flex-direction: column; flex-basis: 100%; flex: 1; padding: 10px; }\n",
       "    </style>\n",
       "<div class=\"wandb-row\"><div class=\"wandb-col\"><h3>Run history:</h3><br/><table class=\"wandb\"><tr><td>learning_rate</td><td>█▆▅▄▃▃▂▂▂▁▁▁▁▁▁▁▁▁▁</td></tr><tr><td>train_f1_score</td><td>▁▃▅▅▆▆▇▇▇▇▇███▇████</td></tr><tr><td>train_loss</td><td>█▅▄▄▃▃▂▂▂▂▂▁▁▁▁▁▁▁▁</td></tr><tr><td>val_f1_score</td><td>▁▃▆▅▆▆▇▇▇▇███▇█▇███</td></tr><tr><td>val_loss</td><td>██▃▂▁▄▁▂▁▁▁▂▁▂▂▂▁▂▂</td></tr></table><br/></div><div class=\"wandb-col\"><h3>Run summary:</h3><br/><table class=\"wandb\"><tr><td>learning_rate</td><td>1e-05</td></tr><tr><td>train_f1_score</td><td>0.6711</td></tr><tr><td>train_loss</td><td>0.7301</td></tr><tr><td>val_f1_score</td><td>0.48159</td></tr><tr><td>val_loss</td><td>1.08804</td></tr></table><br/></div></div>"
      ],
      "text/plain": [
       "<IPython.core.display.HTML object>"
      ]
     },
     "metadata": {},
     "output_type": "display_data"
    },
    {
     "data": {
      "text/html": [
       " View run <strong style=\"color:#cdcd00\">fold_4_RGB-NIR-11classes-combined_plotsplit</strong> at: <a href='https://wandb.ai/simon-ecke/wze-uav-combined-11classes/runs/oiqmi0sf' target=\"_blank\">https://wandb.ai/simon-ecke/wze-uav-combined-11classes/runs/oiqmi0sf</a><br/>Synced 5 W&B file(s), 0 media file(s), 0 artifact file(s) and 0 other file(s)"
      ],
      "text/plain": [
       "<IPython.core.display.HTML object>"
      ]
     },
     "metadata": {},
     "output_type": "display_data"
    },
    {
     "data": {
      "text/html": [
       "Find logs at: <code>.\\wandb\\run-20230527_064439-oiqmi0sf\\logs</code>"
      ],
      "text/plain": [
       "<IPython.core.display.HTML object>"
      ]
     },
     "metadata": {},
     "output_type": "display_data"
    },
    {
     "name": "stdout",
     "output_type": "stream",
     "text": [
      "Deleting variables and emptying cache\n",
      "Memory allocated: 1057287168 bytes\n",
      "--------------------------------------------------\n",
      "\n",
      "Fold : 5\n",
      "TRAIN POSITIVE RATIO: 3.5623682361208715\n",
      "VAL POSITIVE RATIO  : 3.2685469037400368\n",
      "LENGTH TRAIN GROUPS : 152\n",
      "LENGTH VAL GROUPS   : 43\n"
     ]
    },
    {
     "data": {
      "text/html": [
       "wandb version 0.15.3 is available!  To upgrade, please run:\n",
       " $ pip install wandb --upgrade"
      ],
      "text/plain": [
       "<IPython.core.display.HTML object>"
      ]
     },
     "metadata": {},
     "output_type": "display_data"
    },
    {
     "data": {
      "text/html": [
       "Tracking run with wandb version 0.14.2"
      ],
      "text/plain": [
       "<IPython.core.display.HTML object>"
      ]
     },
     "metadata": {},
     "output_type": "display_data"
    },
    {
     "data": {
      "text/html": [
       "Run data is saved locally in <code>C:\\Users\\lwfeckesim\\01_PyTorch\\wze-uav\\wze-uav-master\\wandb\\run-20230527_081425-1zziaxxp</code>"
      ],
      "text/plain": [
       "<IPython.core.display.HTML object>"
      ]
     },
     "metadata": {},
     "output_type": "display_data"
    },
    {
     "data": {
      "text/html": [
       "Syncing run <strong><a href='https://wandb.ai/simon-ecke/wze-uav-combined-11classes/runs/1zziaxxp' target=\"_blank\">fold_5_RGB-NIR-11classes-combined_plotsplit</a></strong> to <a href='https://wandb.ai/simon-ecke/wze-uav-combined-11classes' target=\"_blank\">Weights & Biases</a> (<a href='https://wandb.me/run' target=\"_blank\">docs</a>)<br/>"
      ],
      "text/plain": [
       "<IPython.core.display.HTML object>"
      ]
     },
     "metadata": {},
     "output_type": "display_data"
    },
    {
     "data": {
      "text/html": [
       " View project at <a href='https://wandb.ai/simon-ecke/wze-uav-combined-11classes' target=\"_blank\">https://wandb.ai/simon-ecke/wze-uav-combined-11classes</a>"
      ],
      "text/plain": [
       "<IPython.core.display.HTML object>"
      ]
     },
     "metadata": {},
     "output_type": "display_data"
    },
    {
     "data": {
      "text/html": [
       " View run at <a href='https://wandb.ai/simon-ecke/wze-uav-combined-11classes/runs/1zziaxxp' target=\"_blank\">https://wandb.ai/simon-ecke/wze-uav-combined-11classes/runs/1zziaxxp</a>"
      ],
      "text/plain": [
       "<IPython.core.display.HTML object>"
      ]
     },
     "metadata": {},
     "output_type": "display_data"
    },
    {
     "name": "stdout",
     "output_type": "stream",
     "text": [
      "There are no same hash_id values in train, val or test datasets. The datasplit was successful\n",
      "Check shapes:\n",
      "\n",
      "Images train dataset: (11384, 250, 250, 4)\n",
      "Labels train dataset: (11384, 1)\n",
      "\n",
      "Images validation dataset: (1215, 250, 250, 4)\n",
      "Labels validation dataset: (1215, 1)\n",
      "\n",
      "--------------------------------------------------\n",
      "Check if the split was stratified: (random_state=42)\n",
      "Picea abies healthy in train dataset: 2550\n",
      "Picea abies stressed in train dataset: 1654\n",
      "Pinus sylvestris healthy in train dataset: 1521\n",
      "Pinus sylvestris stressed in train dataset: 1717\n",
      "Abies alba healthy in train dataset: 267\n",
      "Abies alba stressed in train dataset: 95\n",
      "Fagus sylvatica healthy in train dataset: 978\n",
      "Fagus sylvatica stressed in train dataset: 804\n",
      "Quercus robur/petraea healthy in train dataset: 566\n",
      "Quercus robur/petraea stressed in train dataset: 294\n",
      "Larix spp. in train dataset: 407\n",
      "Acer spp. in train dataset: 137\n",
      "Betula pendula in train dataset: 205\n",
      "Dead trees in train dataset: 189\n",
      "Picea abies healthy in validation dataset: 353\n",
      "Picea abies stressed in validation dataset: 183\n",
      "Pinus sylvestris healthy in validation dataset: 102\n",
      "Pinus sylvestris stressed in validation dataset: 125\n",
      "Abies alba healthy in validation dataset: 78\n",
      "Abies alba stressed in validation dataset: 19\n",
      "Fagus sylvatica healthy in validation dataset: 119\n",
      "Fagus sylvatica stressed in validation dataset: 50\n",
      "Quercus robur/petraea healthy in validation dataset: 63\n",
      "Quercus robur/petraea stressed in validation dataset: 45\n",
      "Larix spp. in validation dataset: 11\n",
      "Acer spp. in validation dataset: 48\n",
      "Betula pendula in validation dataset: 9\n",
      "Dead trees in validation dataset: 10\n",
      "--------------------------------------------------\n",
      "\n",
      "Creating datasets for fold: 5\n",
      "\n",
      "Creating dataloaders for fold: 5\n",
      "\n",
      "Loaded pretrained weights for efficientnet-b7\n",
      "\n",
      "[INFO] Fold number: 5\n",
      "[INFO] Number of epochs: 50\n",
      "[INFO] Batch_size: 32\n",
      "[INFO] Number of bands: 4\n",
      "[INFO] Dropout rate: 0.5\n",
      "[INFO] Gamma learning rate: 0.75\n",
      "[INFO] Memory allocated: 0 bytes\n"
     ]
    },
    {
     "data": {
      "application/vnd.jupyter.widget-view+json": {
       "model_id": "2f6690288db449858218d6763a7a6c1f",
       "version_major": 2,
       "version_minor": 0
      },
      "text/plain": [
       "  0%|          | 0/50 [00:00<?, ?it/s]"
      ]
     },
     "metadata": {},
     "output_type": "display_data"
    },
    {
     "name": "stdout",
     "output_type": "stream",
     "text": [
      "Epoch: 1 \n",
      "Learning rate: 0.001\n",
      "Train loss: 1.5024 | Train precision: 0.3218 | Train recall: 0.3053 | Train f1score: 0.3043 | Train acc: 0.3934 | Train kappa: 0.6791 \n",
      "Val loss: 2.2998 | Val precision: 0.1781 | Val recall: 0.1328 | Val f1score: 0.1108 | Val acc: 0.3161 | Val kappa: 0.2465 \n",
      "\n",
      "Epoch: 2 \n",
      "Learning rate: 0.00075\n",
      "Train loss: 1.2165 | Train precision: 0.4586 | Train recall: 0.4182 | Train f1score: 0.4225 | Train acc: 0.4819 | Train kappa: 0.8032 \n",
      "Val loss: 1.7761 | Val precision: 0.1981 | Val recall: 0.2354 | Val f1score: 0.1852 | Val acc: 0.3696 | Val kappa: 0.4804 \n",
      "\n",
      "Epoch: 3 \n",
      "Learning rate: 0.0005625000000000001\n",
      "Train loss: 1.1018 | Train precision: 0.5137 | Train recall: 0.4834 | Train f1score: 0.4882 | Train acc: 0.5260 | Train kappa: 0.8446 \n",
      "Val loss: 1.3503 | Val precision: 0.4149 | Val recall: 0.3837 | Val f1score: 0.3359 | Val acc: 0.4946 | Val kappa: 0.8123 \n",
      "\n",
      "Epoch: 4 \n",
      "Learning rate: 0.000421875\n",
      "Train loss: 1.0161 | Train precision: 0.5493 | Train recall: 0.5178 | Train f1score: 0.5210 | Train acc: 0.5553 | Train kappa: 0.8664 \n",
      "Val loss: 1.1774 | Val precision: 0.4922 | Val recall: 0.4442 | Val f1score: 0.4248 | Val acc: 0.5348 | Val kappa: 0.8533 \n",
      "\n",
      "Epoch: 5 \n",
      "Learning rate: 0.00031640625\n",
      "Train loss: 0.9579 | Train precision: 0.5763 | Train recall: 0.5435 | Train f1score: 0.5488 | Train acc: 0.5751 | Train kappa: 0.8813 \n",
      "Val loss: 1.2652 | Val precision: 0.5957 | Val recall: 0.4116 | Val f1score: 0.4157 | Val acc: 0.5125 | Val kappa: 0.8313 \n",
      "\n",
      "Epoch: 6 \n",
      "Learning rate: 0.0002373046875\n",
      "Train loss: 0.9279 | Train precision: 0.5821 | Train recall: 0.5555 | Train f1score: 0.5609 | Train acc: 0.5867 | Train kappa: 0.8931 \n",
      "Val loss: 1.0395 | Val precision: 0.6031 | Val recall: 0.4963 | Val f1score: 0.4937 | Val acc: 0.5946 | Val kappa: 0.8664 \n",
      "\n",
      "Epoch: 7 \n",
      "Learning rate: 0.000177978515625\n",
      "Train loss: 0.8839 | Train precision: 0.6140 | Train recall: 0.5845 | Train f1score: 0.5911 | Train acc: 0.6133 | Train kappa: 0.9032 \n",
      "Val loss: 1.0437 | Val precision: 0.5565 | Val recall: 0.5028 | Val f1score: 0.5062 | Val acc: 0.5714 | Val kappa: 0.8758 \n",
      "\n",
      "Epoch: 8 \n",
      "Learning rate: 0.00013348388671875\n",
      "Train loss: 0.8677 | Train precision: 0.6195 | Train recall: 0.5912 | Train f1score: 0.5988 | Train acc: 0.6126 | Train kappa: 0.9019 \n",
      "Val loss: 1.0030 | Val precision: 0.5412 | Val recall: 0.5352 | Val f1score: 0.5206 | Val acc: 0.5955 | Val kappa: 0.8692 \n",
      "\n",
      "Epoch: 9 \n",
      "Learning rate: 0.0001001129150390625\n",
      "Train loss: 0.8405 | Train precision: 0.6493 | Train recall: 0.6230 | Train f1score: 0.6303 | Train acc: 0.6227 | Train kappa: 0.9132 \n",
      "Val loss: 1.0148 | Val precision: 0.5663 | Val recall: 0.5179 | Val f1score: 0.5203 | Val acc: 0.6054 | Val kappa: 0.8874 \n",
      "\n",
      "Epoch: 10 \n",
      "Learning rate: 7.508468627929687e-05\n",
      "Train loss: 0.8154 | Train precision: 0.6454 | Train recall: 0.6205 | Train f1score: 0.6279 | Train acc: 0.6292 | Train kappa: 0.9175 \n",
      "Val loss: 1.0207 | Val precision: 0.5750 | Val recall: 0.5154 | Val f1score: 0.5155 | Val acc: 0.5759 | Val kappa: 0.8855 \n",
      "\n",
      "Epoch: 11 \n",
      "Learning rate: 5.6313514709472656e-05\n",
      "Train loss: 0.8070 | Train precision: 0.6547 | Train recall: 0.6304 | Train f1score: 0.6373 | Train acc: 0.6356 | Train kappa: 0.9194 \n",
      "Val loss: 1.0142 | Val precision: 0.5597 | Val recall: 0.5199 | Val f1score: 0.5148 | Val acc: 0.6027 | Val kappa: 0.8843 \n",
      "\n",
      "Epoch: 12 \n",
      "Learning rate: 4.223513603210449e-05\n",
      "Train loss: 0.7823 | Train precision: 0.6639 | Train recall: 0.6357 | Train f1score: 0.6429 | Train acc: 0.6463 | Train kappa: 0.9250 \n",
      "Val loss: 1.0213 | Val precision: 0.5990 | Val recall: 0.5353 | Val f1score: 0.5372 | Val acc: 0.6045 | Val kappa: 0.9005 \n",
      "\n",
      "Epoch: 13 \n",
      "Learning rate: 3.167635202407837e-05\n",
      "Train loss: 0.7869 | Train precision: 0.6776 | Train recall: 0.6492 | Train f1score: 0.6580 | Train acc: 0.6501 | Train kappa: 0.9200 \n",
      "Val loss: 1.0087 | Val precision: 0.5737 | Val recall: 0.5275 | Val f1score: 0.5366 | Val acc: 0.5982 | Val kappa: 0.8937 \n",
      "\n",
      "Epoch: 14 \n",
      "Learning rate: 2.3757264018058778e-05\n",
      "Train loss: 0.7819 | Train precision: 0.6784 | Train recall: 0.6503 | Train f1score: 0.6584 | Train acc: 0.6508 | Train kappa: 0.9220 \n",
      "Val loss: 1.0000 | Val precision: 0.5621 | Val recall: 0.5393 | Val f1score: 0.5369 | Val acc: 0.5955 | Val kappa: 0.8899 \n",
      "\n",
      "Epoch: 15 \n",
      "Learning rate: 1.7817948013544083e-05\n",
      "Train loss: 0.7747 | Train precision: 0.6670 | Train recall: 0.6533 | Train f1score: 0.6574 | Train acc: 0.6504 | Train kappa: 0.9272 \n",
      "Val loss: 0.9890 | Val precision: 0.5737 | Val recall: 0.5143 | Val f1score: 0.5245 | Val acc: 0.5929 | Val kappa: 0.8941 \n",
      "\n",
      "Epoch: 16 \n",
      "Learning rate: 1.3363461010158063e-05\n",
      "Train loss: 0.7704 | Train precision: 0.6898 | Train recall: 0.6595 | Train f1score: 0.6703 | Train acc: 0.6575 | Train kappa: 0.9303 \n",
      "Val loss: 0.9820 | Val precision: 0.5569 | Val recall: 0.5314 | Val f1score: 0.5301 | Val acc: 0.5973 | Val kappa: 0.8935 \n",
      "\n",
      "Epoch: 17 \n",
      "Learning rate: 1.0022595757618546e-05\n",
      "Train loss: 0.7713 | Train precision: 0.6779 | Train recall: 0.6510 | Train f1score: 0.6605 | Train acc: 0.6523 | Train kappa: 0.9267 \n",
      "Val loss: 0.9903 | Val precision: 0.5663 | Val recall: 0.5284 | Val f1score: 0.5322 | Val acc: 0.5982 | Val kappa: 0.8901 \n",
      "\n",
      "Epoch: 18 \n",
      "Learning rate: 7.51694681821391e-06\n",
      "Train loss: 0.7567 | Train precision: 0.6812 | Train recall: 0.6601 | Train f1score: 0.6663 | Train acc: 0.6586 | Train kappa: 0.9235 \n",
      "Val loss: 0.9984 | Val precision: 0.5503 | Val recall: 0.5177 | Val f1score: 0.5197 | Val acc: 0.5911 | Val kappa: 0.8888 \n",
      "\n",
      "Epoch: 19 \n",
      "Learning rate: 5.637710113660432e-06\n",
      "Train loss: 0.7580 | Train precision: 0.6870 | Train recall: 0.6586 | Train f1score: 0.6671 | Train acc: 0.6604 | Train kappa: 0.9271 \n",
      "Val loss: 0.9978 | Val precision: 0.5586 | Val recall: 0.5216 | Val f1score: 0.5238 | Val acc: 0.5946 | Val kappa: 0.8912 \n",
      "\n",
      "Epoch: 20 \n",
      "Learning rate: 4.228282585245324e-06\n",
      "Train loss: 0.7614 | Train precision: 0.6810 | Train recall: 0.6593 | Train f1score: 0.6664 | Train acc: 0.6593 | Train kappa: 0.9248 \n",
      "Val loss: 1.0012 | Val precision: 0.5656 | Val recall: 0.5247 | Val f1score: 0.5311 | Val acc: 0.5955 | Val kappa: 0.8909 \n",
      "\n",
      "Epoch: 21 \n",
      "Learning rate: 3.1712119389339933e-06\n",
      "Train loss: 0.7561 | Train precision: 0.6805 | Train recall: 0.6585 | Train f1score: 0.6664 | Train acc: 0.6593 | Train kappa: 0.9346 \n",
      "Val loss: 1.0049 | Val precision: 0.5656 | Val recall: 0.5279 | Val f1score: 0.5313 | Val acc: 0.5982 | Val kappa: 0.8896 \n",
      "\n",
      "Epoch: 22 \n",
      "Learning rate: 2.378408954200495e-06\n",
      "Train loss: 0.7602 | Train precision: 0.6803 | Train recall: 0.6536 | Train f1score: 0.6621 | Train acc: 0.6541 | Train kappa: 0.9301 \n",
      "Val loss: 1.0034 | Val precision: 0.5566 | Val recall: 0.5225 | Val f1score: 0.5247 | Val acc: 0.5973 | Val kappa: 0.8892 \n",
      "\n",
      "Epoch: 23 \n",
      "Learning rate: 1.7838067156503713e-06\n",
      "Train loss: 0.7517 | Train precision: 0.6747 | Train recall: 0.6575 | Train f1score: 0.6626 | Train acc: 0.6611 | Train kappa: 0.9288 \n",
      "Val loss: 1.0020 | Val precision: 0.5661 | Val recall: 0.5189 | Val f1score: 0.5259 | Val acc: 0.5920 | Val kappa: 0.8922 \n",
      "\n",
      "Epoch: 24 \n",
      "Learning rate: 1.3378550367377785e-06\n",
      "Train loss: 0.7483 | Train precision: 0.6854 | Train recall: 0.6578 | Train f1score: 0.6668 | Train acc: 0.6612 | Train kappa: 0.9295 \n",
      "Val loss: 1.0041 | Val precision: 0.5536 | Val recall: 0.5160 | Val f1score: 0.5176 | Val acc: 0.5938 | Val kappa: 0.8886 \n",
      "\n",
      "Epoch: 25 \n",
      "Learning rate: 1.0033912775533338e-06\n",
      "Train loss: 0.7498 | Train precision: 0.6784 | Train recall: 0.6564 | Train f1score: 0.6633 | Train acc: 0.6614 | Train kappa: 0.9307 \n",
      "Val loss: 1.0014 | Val precision: 0.5561 | Val recall: 0.5224 | Val f1score: 0.5246 | Val acc: 0.5955 | Val kappa: 0.8893 \n",
      "\n",
      "Epoch: 26 \n",
      "Learning rate: 1e-06\n",
      "Train loss: 0.7557 | Train precision: 0.6761 | Train recall: 0.6487 | Train f1score: 0.6552 | Train acc: 0.6586 | Train kappa: 0.9324 \n",
      "Val loss: 1.0033 | Val precision: 0.5580 | Val recall: 0.5219 | Val f1score: 0.5234 | Val acc: 0.5938 | Val kappa: 0.8891 \n",
      "\n",
      "Early stopping after epoch 26\n"
     ]
    },
    {
     "data": {
      "text/html": [
       "Waiting for W&B process to finish... <strong style=\"color:green\">(success).</strong>"
      ],
      "text/plain": [
       "<IPython.core.display.HTML object>"
      ]
     },
     "metadata": {},
     "output_type": "display_data"
    },
    {
     "data": {
      "application/vnd.jupyter.widget-view+json": {
       "model_id": "ebd1fe37112247998aa3a861a69e1b4a",
       "version_major": 2,
       "version_minor": 0
      },
      "text/plain": [
       "VBox(children=(Label(value='0.001 MB of 0.001 MB uploaded (0.000 MB deduped)\\r'), FloatProgress(value=1.0, max…"
      ]
     },
     "metadata": {},
     "output_type": "display_data"
    },
    {
     "data": {
      "text/html": [
       "<style>\n",
       "    table.wandb td:nth-child(1) { padding: 0 10px; text-align: left ; width: auto;} td:nth-child(2) {text-align: left ; width: 100%}\n",
       "    .wandb-row { display: flex; flex-direction: row; flex-wrap: wrap; justify-content: flex-start; width: 100% }\n",
       "    .wandb-col { display: flex; flex-direction: column; flex-basis: 100%; flex: 1; padding: 10px; }\n",
       "    </style>\n",
       "<div class=\"wandb-row\"><div class=\"wandb-col\"><h3>Run history:</h3><br/><table class=\"wandb\"><tr><td>learning_rate</td><td>█▆▅▄▃▃▂▂▂▂▁▁▁▁▁▁▁▁▁▁▁▁▁▁▁▁</td></tr><tr><td>train_f1_score</td><td>▁▃▅▅▆▆▆▇▇▇▇▇██████████████</td></tr><tr><td>train_loss</td><td>█▅▄▃▃▃▂▂▂▂▂▁▁▁▁▁▁▁▁▁▁▁▁▁▁▁</td></tr><tr><td>val_f1_score</td><td>▁▂▅▆▆▇▇███████████████████</td></tr><tr><td>val_loss</td><td>█▅▃▂▃▁▁▁▁▁▁▁▁▁▁▁▁▁▁▁▁▁▁▁▁▁</td></tr></table><br/></div><div class=\"wandb-col\"><h3>Run summary:</h3><br/><table class=\"wandb\"><tr><td>learning_rate</td><td>0.0</td></tr><tr><td>train_f1_score</td><td>0.65522</td></tr><tr><td>train_loss</td><td>0.75565</td></tr><tr><td>val_f1_score</td><td>0.52335</td></tr><tr><td>val_loss</td><td>1.00328</td></tr></table><br/></div></div>"
      ],
      "text/plain": [
       "<IPython.core.display.HTML object>"
      ]
     },
     "metadata": {},
     "output_type": "display_data"
    },
    {
     "data": {
      "text/html": [
       " View run <strong style=\"color:#cdcd00\">fold_5_RGB-NIR-11classes-combined_plotsplit</strong> at: <a href='https://wandb.ai/simon-ecke/wze-uav-combined-11classes/runs/1zziaxxp' target=\"_blank\">https://wandb.ai/simon-ecke/wze-uav-combined-11classes/runs/1zziaxxp</a><br/>Synced 5 W&B file(s), 0 media file(s), 0 artifact file(s) and 0 other file(s)"
      ],
      "text/plain": [
       "<IPython.core.display.HTML object>"
      ]
     },
     "metadata": {},
     "output_type": "display_data"
    },
    {
     "data": {
      "text/html": [
       "Find logs at: <code>.\\wandb\\run-20230527_081425-1zziaxxp\\logs</code>"
      ],
      "text/plain": [
       "<IPython.core.display.HTML object>"
      ]
     },
     "metadata": {},
     "output_type": "display_data"
    },
    {
     "name": "stdout",
     "output_type": "stream",
     "text": [
      "Deleting variables and emptying cache\n",
      "Memory allocated: 1055728640 bytes\n",
      "--------------------------------------------------\n",
      "\n",
      "CPU times: total: 4h 25min 35s\n",
      "Wall time: 9h 2min 9s\n"
     ]
    }
   ],
   "source": [
    "%%time\n",
    "\n",
    "# Set the random seeds\n",
    "set_seeds(42)\n",
    "\n",
    "# Define the number of folds\n",
    "num_folds = 5\n",
    "\n",
    "# group the hashIDs to get the unique values of hashIDs remaining in the subset  \n",
    "groups = sub_hash_id[:, 0] \n",
    "print(\"ORIGINAL POSITIVE RATIO:\", sub_label_set.mean())\n",
    "# create a StratifiedGroupKFold instance\n",
    "kf = StratifiedGroupKFold(n_splits=num_folds, shuffle=True, random_state=42)\n",
    "\n",
    "# loop through the folds\n",
    "for fold, (train_ids, val_ids) in enumerate(kf.split(sub_image_set, sub_label_set, groups)):\n",
    "    print(\"Fold :\", fold+1)\n",
    "    print(\"TRAIN POSITIVE RATIO:\", sub_label_set[train_ids].mean())\n",
    "    print(\"VAL POSITIVE RATIO  :\", sub_label_set[val_ids].mean())\n",
    "    print(\"LENGTH TRAIN GROUPS :\", len(set(groups[train_ids])))\n",
    "    print(\"LENGTH VAL GROUPS   :\", len(set(groups[val_ids])))\n",
    "    \n",
    "    train_ids = sub_hash_id[:, 0][train_ids]\n",
    "    val_ids = np.unique(sub_hash_id[:, 0][val_ids])\n",
    "\n",
    "    torch.cuda.empty_cache()\n",
    "    \n",
    "    # Initialize a new wandb run for this fold\n",
    "    wandb.init(project='wze-uav-combined-11classes', name=f\"fold_{fold + 1}_{extra}\")\n",
    "    \n",
    "    # 1. Split data into train and validation set\n",
    "    # Get the training and testing data for this fold\n",
    "    # Use np.isin() to create boolean arrays indicating which indices belong to train or test sets\n",
    "    train_indices = np.isin(sub_hash_id[:,0], train_ids)\n",
    "    \n",
    "    val_indices = np.zeros_like(train_indices)  # initialize to all False\n",
    "    for hash_id_val in val_ids:\n",
    "        # select one image ID randomly from either 2020 or 2021 or 2022 for each unique hash ID in the test set\n",
    "        temp = np.unique(sub_hash_id[(sub_hash_id[:, 0] == hash_id_val), 1]) # check how many years are available per hashID\n",
    "        if len(temp) == 1:\n",
    "            year = temp[0]\n",
    "        elif len(temp) == 2:\n",
    "            year = np.random.choice(temp)\n",
    "        else:\n",
    "            year = np.random.choice(temp)\n",
    "        \n",
    "        # select image ID using the conditions\n",
    "        image_ids = sub_hash_id[(sub_hash_id[:,0] == hash_id_val) & (sub_hash_id[:,1] == year), 0]\n",
    "    \n",
    "        # mark the index corresponding to the selected image ID and hash ID as True in the test indices array\n",
    "        val_indices[(sub_hash_id[:,0] == hash_id_val) & (sub_hash_id[:,1] == year) & (np.isin(sub_hash_id[:,0], image_ids))] = True \n",
    "    \n",
    "    # Reshape boolean arrays to match shape of image_set and label_set\n",
    "    train_indices = train_indices.reshape(-1, 1)\n",
    "    val_indices = val_indices.reshape(-1, 1)\n",
    "    \n",
    "    # Select images and labels for train and validation sets\n",
    "    train_image_set = sub_image_set[train_indices[:, 0]]\n",
    "    train_label_set = sub_label_set[train_indices[:, 0]]\n",
    "    train_hash_id = sub_hash_id[train_indices[:, 0]][:,0]\n",
    "    train_species_set = sub_species_set[train_indices[:, 0]]\n",
    "    val_image_set = sub_image_set[val_indices[:, 0]]\n",
    "    val_label_set = sub_label_set[val_indices[:, 0]]\n",
    "    val_hash_id = sub_hash_id[val_indices[:, 0]][:,0]\n",
    "    val_species_set = sub_species_set[val_indices[:, 0]]\n",
    "    # reshape \n",
    "    train_label_set = train_label_set.reshape(-1, 1)\n",
    "    val_label_set = val_label_set.reshape(-1, 1)\n",
    "    train_species_set = train_species_set.reshape(-1, 1)\n",
    "    val_species_set = val_species_set.reshape(-1, 1)\n",
    "    \n",
    "    # check if there are any group overlaps between the data splits\n",
    "    hash_set = set(train_hash_id)\n",
    "    val_hash_set = set(val_hash_id)\n",
    "    test_hash_set = set(test_hash_id[:, 0].flatten())\n",
    "    intersection = hash_set.intersection(val_hash_set)\n",
    "    intersection2 = test_hash_set.intersection(val_hash_set)\n",
    "    intersection3 = hash_set.intersection(test_hash_set)\n",
    "    if intersection:\n",
    "        print(f\"Hash_id values in both train and val sets: {len(intersection)}\")\n",
    "        print(f\"Hash_id values in both test and val sets: {len(intersection2)}\")\n",
    "        print(f\"Hash_id values in both train and test sets: {len(intersection3)}\")\n",
    "    else:\n",
    "        print(\"There are no same hash_id values in train, val or test datasets. The datasplit was successful\")\n",
    "    \n",
    "         \n",
    "    print(\"Check shapes:\\n\")\n",
    "    print(f\"Images train dataset: {train_image_set.shape}\")\n",
    "    print(f\"Labels train dataset: {train_label_set.shape}\\n\")\n",
    "    \n",
    "    print(f\"Images validation dataset: {val_image_set.shape}\")\n",
    "    print(f\"Labels validation dataset: {val_label_set.shape}\\n\")\n",
    "    print('-'*50)\n",
    "    print (f\"Check if the split was stratified: (random_state=42)\")\n",
    "    print(f\"Picea abies healthy in train dataset: {np.count_nonzero(train_label_set == 0)}\")\n",
    "    print(f\"Picea abies stressed in train dataset: {np.count_nonzero(train_label_set == 1)}\")\n",
    "    print(f\"Pinus sylvestris healthy in train dataset: {np.count_nonzero(train_label_set == 2)}\")\n",
    "    print(f\"Pinus sylvestris stressed in train dataset: {np.count_nonzero(train_label_set == 3)}\")\n",
    "    print(f\"Abies alba healthy in train dataset: {np.count_nonzero(train_label_set == 4)}\")\n",
    "    print(f\"Abies alba stressed in train dataset: {np.count_nonzero(train_label_set == 5)}\")\n",
    "    print(f\"Fagus sylvatica healthy in train dataset: {np.count_nonzero(train_label_set == 6)}\")\n",
    "    print(f\"Fagus sylvatica stressed in train dataset: {np.count_nonzero(train_label_set == 7)}\")\n",
    "    print(f\"Quercus robur/petraea healthy in train dataset: {np.count_nonzero(train_label_set == 8)}\")\n",
    "    print(f\"Quercus robur/petraea stressed in train dataset: {np.count_nonzero(train_label_set == 9)}\")\n",
    "    print(f\"Larix spp. in train dataset: {np.count_nonzero(train_label_set == 10)}\")\n",
    "    print(f\"Acer spp. in train dataset: {np.count_nonzero(train_label_set == 11)}\")\n",
    "    print(f\"Betula pendula in train dataset: {np.count_nonzero(train_label_set == 12)}\")\n",
    "    print(f\"Dead trees in train dataset: {np.count_nonzero(train_label_set == 13)}\")\n",
    "    print(f\"Picea abies healthy in validation dataset: {np.count_nonzero(val_label_set == 0)}\")\n",
    "    print(f\"Picea abies stressed in validation dataset: {np.count_nonzero(val_label_set == 1)}\")\n",
    "    print(f\"Pinus sylvestris healthy in validation dataset: {np.count_nonzero(val_label_set == 2)}\")\n",
    "    print(f\"Pinus sylvestris stressed in validation dataset: {np.count_nonzero(val_label_set == 3)}\")\n",
    "    print(f\"Abies alba healthy in validation dataset: {np.count_nonzero(val_label_set == 4)}\")\n",
    "    print(f\"Abies alba stressed in validation dataset: {np.count_nonzero(val_label_set == 5)}\")\n",
    "    print(f\"Fagus sylvatica healthy in validation dataset: {np.count_nonzero(val_label_set == 6)}\")\n",
    "    print(f\"Fagus sylvatica stressed in validation dataset: {np.count_nonzero(val_label_set == 7)}\")\n",
    "    print(f\"Quercus robur/petraea healthy in validation dataset: {np.count_nonzero(val_label_set == 8)}\")\n",
    "    print(f\"Quercus robur/petraea stressed in validation dataset: {np.count_nonzero(val_label_set == 9)}\")\n",
    "    print(f\"Larix spp. in validation dataset: {np.count_nonzero(val_label_set == 10)}\")\n",
    "    print(f\"Acer spp. in validation dataset: {np.count_nonzero(val_label_set == 11)}\")\n",
    "    print(f\"Betula pendula in validation dataset: {np.count_nonzero(val_label_set == 12)}\")\n",
    "    print(f\"Dead trees in validation dataset: {np.count_nonzero(val_label_set == 13)}\")\n",
    "    #print(f\"Ratio health trees in validation dataset: {np.count_nonzero(val_label_set == 0)/np.count_nonzero(sub_label_set == 0)}\")\n",
    "    #print(f\"Ratio moderately stressed trees in validation dataset: {np.count_nonzero(val_label_set == 1)/np.count_nonzero(sub_label_set == 1)}\")\n",
    "    #print(f\"Ratio severely stressed trees in validation dataset: {np.count_nonzero(val_label_set == 1)/np.count_nonzero(sub_label_set == 2)}\")\n",
    "    #print(f\"Ratio dead trees in validation dataset: {np.count_nonzero(val_label_set == 2)/np.count_nonzero(sub_label_set == 3)}\")\n",
    "    print(\"-\"*50)\n",
    "   \n",
    "    # 2. Create train and validation dataset. (choose custom dataset loader with 3 - 5 classes)\n",
    "    print(f\"\\nCreating datasets for fold: {fold + 1}\\n\")\n",
    "    train_dataset = data_loader.FilteredDataset(data=train_image_set, labels=train_label_set, class_names=class_names, species = train_species_set,\n",
    "                                                         transform=transform_train)\n",
    "    \n",
    "    val_dataset = data_loader.FilteredDataset(data=val_image_set, labels=val_label_set, class_names=class_names,\n",
    "                                                       species = val_species_set, transform=transform)\n",
    "   \n",
    "    # 3. Create train and validation dataloader\n",
    "    # create sampler for oversampling of the minority classes\n",
    "    sampler = data_loader.data_sampler(dataset=train_dataset, class_names=class_names)\n",
    "    print(f\"Creating dataloaders for fold: {fold +1}\\n\")\n",
    "    train_dataloader = DataLoader(train_dataset, batch_size=batch_size, persistent_workers=True, pin_memory=True, num_workers=NUM_WORKERS, generator=g,\n",
    "                              sampler=sampler, shuffle=False, drop_last=True) # shuffle false because of the sampler\n",
    "\n",
    "    val_dataloader = DataLoader(val_dataset, batch_size=batch_size, persistent_workers=True, pin_memory=True, num_workers=NUM_WORKERS, shuffle=False,\n",
    "                             drop_last=True)\n",
    "    \n",
    "    model = model_effnet.EfficientNet.from_pretrained('efficientnet-b7', in_channels=n_bands, num_classes=num_classes, dropout_rate=dropout_rate)\n",
    "    #model = models.create_effnetb7(output_shape=num_classes, unfreeze=True, dropout_rate=dropout_rate, device=device)\n",
    "   \n",
    "    loss_fn = nn.CrossEntropyLoss()\n",
    "    optimizer = torch.optim.Adam(params=model.parameters(), lr=lr)\n",
    "    lr_scheduler = CustomExponentialLR(optimizer, gamma=gamma, min_lr=min_lr)\n",
    "\n",
    "    fold += 1\n",
    "    print(f\"\\n[INFO] Fold number: {fold}\")\n",
    "    print(f\"[INFO] Number of epochs: {epochs}\")\n",
    "    print(f\"[INFO] Batch_size: {batch_size}\")\n",
    "    print(f\"[INFO] Number of bands: {n_bands}\")\n",
    "    print(f\"[INFO] Dropout rate: {dropout_rate}\")\n",
    "    print(f\"[INFO] Gamma learning rate: {gamma}\")\n",
    "    print(f\"[INFO] Memory allocated: {torch.cuda.memory_allocated()} bytes\")\n",
    "    # 4. Train model with k fold dataloaders and track experiments\n",
    "    \n",
    "    if fold == 1:\n",
    "        fold1_results = train(model=model, model_name=model_name, n_bands=n_bands, batch_size=batch_size,train_dataloader=train_dataloader, val_dataloader=val_dataloader, \n",
    "                        optimizer=optimizer, loss_fn=loss_fn, lr_scheduler=lr_scheduler, num_classes=num_classes, epochs=epochs, experiment_num=fold, device=device,\n",
    "                        writer=None, early_stop_patience = patience)\n",
    "       \n",
    "    elif fold == 2:\n",
    "        fold2_results = train(model=model, model_name=model_name, n_bands=n_bands, batch_size=batch_size,train_dataloader=train_dataloader, val_dataloader=val_dataloader, \n",
    "                        optimizer=optimizer, loss_fn=loss_fn, lr_scheduler=lr_scheduler, num_classes=num_classes, epochs=epochs, experiment_num=fold, device=device,\n",
    "                        writer=None, early_stop_patience = patience)\n",
    "    elif fold == 3:\n",
    "        fold3_results = train(model=model, model_name=model_name, n_bands=n_bands, batch_size=batch_size,train_dataloader=train_dataloader, val_dataloader=val_dataloader, \n",
    "                        optimizer=optimizer, loss_fn=loss_fn, lr_scheduler=lr_scheduler, num_classes=num_classes, epochs=epochs, experiment_num=fold, device=device,\n",
    "                        writer=None, early_stop_patience = patience)\n",
    "    elif fold == 4:\n",
    "        fold4_results = train(model=model, model_name=model_name, n_bands=n_bands, batch_size=batch_size,train_dataloader=train_dataloader, val_dataloader=val_dataloader, \n",
    "                        optimizer=optimizer, loss_fn=loss_fn, lr_scheduler=lr_scheduler, num_classes=num_classes, epochs=epochs, experiment_num=fold, device=device,\n",
    "                        writer=None, early_stop_patience = patience)\n",
    "    else:\n",
    "        fold5_results = train(model=model, model_name=model_name, n_bands=n_bands, batch_size=batch_size,train_dataloader=train_dataloader, val_dataloader=val_dataloader, \n",
    "                        optimizer=optimizer, loss_fn=loss_fn, lr_scheduler=lr_scheduler, num_classes=num_classes, epochs=epochs, experiment_num=fold, device=device,\n",
    "                        writer=None, early_stop_patience = patience)\n",
    "    \n",
    "    del train_indices, val_indices, train_image_set, train_label_set, train_hash_id, train_species_set, val_image_set, val_label_set, val_hash_id, val_species_set,\n",
    "    train_dataset, val_dataset, sampler, train_dataloader, val_dataloader, model, loss_fn, optimizer, lr_scheduler\n",
    "    \n",
    "    #finish the wandb run\n",
    "    wandb.finish()\n",
    "    print(\"Deleting variables and emptying cache\")\n",
    "    gc.collect()\n",
    "    torch.cuda.empty_cache()\n",
    "    print(f\"Memory allocated: {torch.cuda.memory_allocated()} bytes\")\n",
    "    print(\"-\"*50 + \"\\n\")"
   ]
  },
  {
   "cell_type": "markdown",
   "id": "609fc3db",
   "metadata": {},
   "source": [
    "#### Create test dataset and test dataloader "
   ]
  },
  {
   "cell_type": "code",
   "execution_count": 116,
   "id": "0530d99a",
   "metadata": {},
   "outputs": [],
   "source": [
    "import numpy as np\n",
    "\n",
    "class FilteredDatasetv6(Dataset):\n",
    "    def __init__(self, data, labels, species=None, class_names=None, kkl=None, transform=None):\n",
    "        self.data = data\n",
    "        self.species = species\n",
    "        self.class_names = class_names\n",
    "        self.kkl = kkl\n",
    "        self.transform = transform\n",
    "\n",
    "        self.filtered_indices, self.filtered_labels = self._filter_indices_and_labels(labels)\n",
    "\n",
    "    def _filter_indices_and_labels(self, labels):\n",
    "        filtered_indices = []\n",
    "        filtered_labels = []\n",
    "        for i, label in enumerate(labels):\n",
    "            if label not in [10, 11, 12]:\n",
    "                filtered_indices.append(i)\n",
    "                if label == 13:\n",
    "                    filtered_labels.append(10)\n",
    "                else:\n",
    "                    filtered_labels.append(label)\n",
    "\n",
    "        return filtered_indices, np.array(filtered_labels, dtype=object)\n",
    "\n",
    "    def __len__(self) -> int:\n",
    "        return len(self.filtered_indices)\n",
    "\n",
    "    def __getitem__(self, index: int) -> Tuple[torch.Tensor, int, int]:\n",
    "        filtered_index = self.filtered_indices[index]\n",
    "        img = self.data[filtered_index]\n",
    "        label = self.filtered_labels[index]\n",
    "        species = self.species[filtered_index]\n",
    "        label = int(label)\n",
    "        species = int(species)\n",
    "\n",
    "        if self.transform:\n",
    "            return self.transform(img), label, species\n",
    "        else:\n",
    "            return img, label, species\n",
    "\n",
    "    @property\n",
    "    def labels(self):\n",
    "        return np.array(self.filtered_labels.tolist(), dtype=np.int32).reshape(-1, 1)\n",
    "\n"
   ]
  },
  {
   "cell_type": "code",
   "execution_count": 19,
   "id": "c0c36ebb",
   "metadata": {},
   "outputs": [],
   "source": [
    "# create test dataset\n",
    "test_dataset = data_loader.FilteredDataset(\n",
    "    data = test_image_set,\n",
    "    labels = test_label_set,\n",
    "    class_names=class_names, \n",
    "    species = test_species_set,\n",
    "    kkl = None,\n",
    "    transform=transform\n",
    ")\n",
    "\n",
    "# create test dataloader\n",
    "test_dataloader = DataLoader(test_dataset,\n",
    "                             batch_size=batch_size,\n",
    "                             persistent_workers=True,\n",
    "                             pin_memory=True,\n",
    "                             num_workers=NUM_WORKERS,\n",
    "                             shuffle=False,\n",
    "                             drop_last=False)"
   ]
  },
  {
   "cell_type": "code",
   "execution_count": 21,
   "id": "414f367e",
   "metadata": {},
   "outputs": [
    {
     "data": {
      "text/plain": [
       "3"
      ]
     },
     "execution_count": 21,
     "metadata": {},
     "output_type": "execute_result"
    }
   ],
   "source": [
    "test_dataset[100][1]"
   ]
  },
  {
   "cell_type": "code",
   "execution_count": 119,
   "id": "88b1322e",
   "metadata": {},
   "outputs": [
    {
     "name": "stdout",
     "output_type": "stream",
     "text": [
      "Unique values: [ 0  1  2  3  4  5  6  7  8  9 10]\n",
      "Number of unique values: 11\n"
     ]
    },
    {
     "name": "stderr",
     "output_type": "stream",
     "text": [
      "C:\\Users\\lwfeckesim\\AppData\\Local\\Temp\\2\\ipykernel_22800\\2072873391.py:44: DeprecationWarning: setting an array element with a sequence. This was supported in some cases where the elements are arrays with a single element. For example `np.array([1, np.array([2])], dtype=int)`. In the future this will raise the same ValueError as `np.array([1, [2]], dtype=int)`.\n",
      "  return np.array(self.filtered_labels.tolist(), dtype=np.int32).reshape(-1, 1)\n"
     ]
    }
   ],
   "source": [
    "# Get the unique values\n",
    "unique_values = np.unique(test_dataset.labels)\n",
    "\n",
    "# Get the number of unique values\n",
    "num_unique_values = len(unique_values)\n",
    "\n",
    "print(\"Unique values:\", unique_values)\n",
    "print(\"Number of unique values:\", num_unique_values)"
   ]
  },
  {
   "cell_type": "markdown",
   "id": "22cdaac7",
   "metadata": {},
   "source": [
    "#### Perform ensembling of the five best models"
   ]
  },
  {
   "cell_type": "code",
   "execution_count": 23,
   "id": "67db5af2",
   "metadata": {},
   "outputs": [
    {
     "name": "stdout",
     "output_type": "stream",
     "text": [
      "Loaded pretrained weights for efficientnet-b7\n",
      "Loaded pretrained weights for efficientnet-b7\n",
      "Loaded pretrained weights for efficientnet-b7\n",
      "Loaded pretrained weights for efficientnet-b7\n",
      "Loaded pretrained weights for efficientnet-b7\n",
      "              precision    recall  f1-score   support\n",
      "\n",
      "           0       0.80      0.83      0.82       338\n",
      "           1       0.65      0.55      0.60       147\n",
      "           2       0.41      0.58      0.48       107\n",
      "           3       0.65      0.49      0.56       166\n",
      "           4       0.46      0.68      0.55        19\n",
      "           5       0.67      0.67      0.67        15\n",
      "           6       0.65      0.72      0.69        76\n",
      "           7       0.56      0.57      0.56        44\n",
      "           8       0.74      0.57      0.65        61\n",
      "           9       0.60      0.45      0.51        20\n",
      "          10       0.97      0.97      0.97        31\n",
      "\n",
      "    accuracy                           0.67      1024\n",
      "   macro avg       0.65      0.64      0.64      1024\n",
      "weighted avg       0.68      0.67      0.67      1024\n",
      "\n",
      "[[282  38   9   1   7   1   0   0   0   0   0]\n",
      " [ 59  81   2   1   2   0   0   2   0   0   0]\n",
      " [  1   0  62  43   0   0   0   1   0   0   0]\n",
      " [  5   3  76  82   0   0   0   0   0   0   0]\n",
      " [  2   0   1   0  13   2   1   0   0   0   0]\n",
      " [  0   0   1   0   4  10   0   0   0   0   0]\n",
      " [  4   1   0   0   0   0  55  12   3   1   0]\n",
      " [  0   2   1   0   2   2  11  25   1   0   0]\n",
      " [  0   0   1   0   0   0  16   4  35   5   0]\n",
      " [  0   0   0   0   0   0   1   1   8   9   1]\n",
      " [  1   0   0   0   0   0   0   0   0   0  30]]\n"
     ]
    }
   ],
   "source": [
    "# Setup the best model filepaths\n",
    "best_model1_path = r\"C:\\Users\\lwfeckesim\\01_PyTorch\\wze-uav\\wze-uav-master\\models\\EffNet_b7_RGB-NIR-11classes-combined_plotsplit\\1_EffNet_b7_RGB-NIR-11classes-combined_plotsplit_12_epochs.pth\"\n",
    "best_model2_path = r\"C:\\Users\\lwfeckesim\\01_PyTorch\\wze-uav\\wze-uav-master\\models\\EffNet_b7_RGB-NIR-11classes-combined_plotsplit\\2_EffNet_b7_RGB-NIR-11classes-combined_plotsplit_13_epochs.pth\"\n",
    "best_model3_path = r\"C:\\Users\\lwfeckesim\\01_PyTorch\\wze-uav\\wze-uav-master\\models\\EffNet_b7_RGB-NIR-11classes-combined_plotsplit\\3_EffNet_b7_RGB-NIR-11classes-combined_plotsplit_16_epochs.pth\"\n",
    "best_model4_path = r\"C:\\Users\\lwfeckesim\\01_PyTorch\\wze-uav\\wze-uav-master\\models\\EffNet_b7_RGB-NIR-11classes-combined_plotsplit\\4_EffNet_b7_RGB-NIR-11classes-combined_plotsplit_9_epochs.pth\"\n",
    "best_model5_path = r\"C:\\Users\\lwfeckesim\\01_PyTorch\\wze-uav\\wze-uav-master\\models\\EffNet_b7_RGB-NIR-11classes-combined_plotsplit\\5_EffNet_b7_RGB-NIR-11classes-combined_plotsplit_16_epochs.pth\"\n",
    "\n",
    "# Instantiate a new instance of EffNetB7 (to load the saved state_dict() to)\n",
    "#model1 = models.create_effnetb7(output_shape=num_classes, unfreeze=unfreeze, dropout_rate=dropout_rate, device=device)\n",
    "#model2 = models.create_effnetb7(output_shape=num_classes, unfreeze=unfreeze, dropout_rate=dropout_rate, device=device)\n",
    "#model3 = models.create_effnetb7(output_shape=num_classes, unfreeze=unfreeze, dropout_rate=dropout_rate, device=device)\n",
    "#model4 = models.create_effnetb7(output_shape=num_classes, unfreeze=unfreeze, dropout_rate=dropout_rate, device=device)\n",
    "#model5 = models.create_effnetb7(output_shape=num_classes, unfreeze=unfreeze, dropout_rate=dropout_rate, device=device)\n",
    "# for custom models with more than three bands as input\n",
    "model1 = model_effnet.EfficientNet.from_pretrained('efficientnet-b7', in_channels=n_bands, num_classes=num_classes, dropout_rate=dropout_rate)\n",
    "model2 = model_effnet.EfficientNet.from_pretrained('efficientnet-b7', in_channels=n_bands, num_classes=num_classes, dropout_rate=dropout_rate)\n",
    "model3 = model_effnet.EfficientNet.from_pretrained('efficientnet-b7', in_channels=n_bands, num_classes=num_classes, dropout_rate=dropout_rate)\n",
    "model4 = model_effnet.EfficientNet.from_pretrained('efficientnet-b7', in_channels=n_bands, num_classes=num_classes, dropout_rate=dropout_rate)\n",
    "model5 = model_effnet.EfficientNet.from_pretrained('efficientnet-b7', in_channels=n_bands, num_classes=num_classes, dropout_rate=dropout_rate)\n",
    "\n",
    "# Load the saved best model state_dict()\n",
    "model1.load_state_dict(torch.load(best_model1_path))\n",
    "model2.load_state_dict(torch.load(best_model2_path))\n",
    "model3.load_state_dict(torch.load(best_model3_path))\n",
    "model4.load_state_dict(torch.load(best_model4_path))\n",
    "model5.load_state_dict(torch.load(best_model5_path))\n",
    "\n",
    "model1.to(device)\n",
    "model2.to(device)\n",
    "model3.to(device)\n",
    "model4.to(device)\n",
    "model5.to(device)\n",
    "\n",
    "model1.eval()\n",
    "model2.eval()\n",
    "model3.eval()\n",
    "model4.eval()\n",
    "model5.eval()\n",
    "\n",
    "# Initialize the lists to store the predictions\n",
    "all_preds_model1 = []\n",
    "all_preds_model2 = []\n",
    "all_preds_model3 = []\n",
    "all_preds_model4 = []\n",
    "all_preds_model5 = []\n",
    "all_true_labels = []\n",
    "\n",
    "# Loop through the test dataset and generate predictions for each model\n",
    "with torch.no_grad():\n",
    "    for batch in test_dataloader:\n",
    "        inputs, labels = batch\n",
    "        inputs, labels = inputs.to(device), labels.to(device)\n",
    "        \n",
    "        # Generate predictions for each model\n",
    "        preds_model1 = model1(inputs)\n",
    "        preds_model2 = model2(inputs)\n",
    "        preds_model3 = model3(inputs)\n",
    "        preds_model4 = model4(inputs)\n",
    "        preds_model5 = model5(inputs)\n",
    "\n",
    "        # Append the predictions to the corresponding list\n",
    "        all_preds_model1.append(preds_model1.cpu().numpy())\n",
    "        all_preds_model2.append(preds_model2.cpu().numpy())\n",
    "        all_preds_model3.append(preds_model3.cpu().numpy())\n",
    "        all_preds_model4.append(preds_model4.cpu().numpy())\n",
    "        all_preds_model5.append(preds_model5.cpu().numpy())\n",
    "        \n",
    "        all_true_labels.append(labels.cpu().numpy())\n",
    "\n",
    "# Concatenate the predictions from all the models\n",
    "all_preds_model1 = np.concatenate(all_preds_model1)\n",
    "all_preds_model2 = np.concatenate(all_preds_model2)\n",
    "all_preds_model3 = np.concatenate(all_preds_model3)\n",
    "all_preds_model4 = np.concatenate(all_preds_model4)\n",
    "all_preds_model5 = np.concatenate(all_preds_model5)\n",
    "\n",
    "all_true_labels = np.concatenate(all_true_labels)\n",
    "\n",
    "# Calculate the ensemble predictions\n",
    "ensemble_preds = np.mean([all_preds_model1, all_preds_model2, all_preds_model3, all_preds_model4, all_preds_model5], axis=0)\n",
    "ensemble_labels = np.argmax(ensemble_preds, axis=1)\n",
    "\n",
    "# Calculate the evaluation metrics for the ensemble model\n",
    "from sklearn.metrics import classification_report, confusion_matrix\n",
    "\n",
    "print(classification_report(all_true_labels, ensemble_labels))\n",
    "print(confusion_matrix(all_true_labels, ensemble_labels))\n",
    "\n",
    "\n",
    "\n",
    "\n"
   ]
  },
  {
   "cell_type": "code",
   "execution_count": 24,
   "id": "6dfbc663",
   "metadata": {},
   "outputs": [
    {
     "name": "stdout",
     "output_type": "stream",
     "text": [
      "              precision    recall  f1-score   support\n",
      "\n",
      "           0       0.80      0.83      0.82       338\n",
      "           1       0.65      0.55      0.60       147\n",
      "           2       0.41      0.58      0.48       107\n",
      "           3       0.65      0.49      0.56       166\n",
      "           4       0.46      0.68      0.55        19\n",
      "           5       0.67      0.67      0.67        15\n",
      "           6       0.65      0.72      0.69        76\n",
      "           7       0.56      0.57      0.56        44\n",
      "           8       0.74      0.57      0.65        61\n",
      "           9       0.60      0.45      0.51        20\n",
      "          10       0.97      0.97      0.97        31\n",
      "\n",
      "    accuracy                           0.67      1024\n",
      "   macro avg       0.65      0.64      0.64      1024\n",
      "weighted avg       0.68      0.67      0.67      1024\n",
      "\n"
     ]
    },
    {
     "data": {
      "image/png": "[encoded data removed]",
      "text/plain": [
       "<Figure size 720x504 with 1 Axes>"
      ]
     },
     "metadata": {
      "needs_background": "light"
     },
     "output_type": "display_data"
    }
   ],
   "source": [
    "import matplotlib.pyplot as plt\n",
    "import pandas as pd\n",
    "# Calculate the evaluation metrics for the ensemble model\n",
    "\n",
    "report = classification_report(all_true_labels, ensemble_labels)\n",
    "print(report)\n",
    "#print(confusion_matrix(all_true_labels, ensemble_labels))\n",
    "\n",
    "# Save the report to a file\n",
    "with open(r'C:\\Users\\lwfeckesim\\01_PyTorch\\wze-uav\\wze-uav-master\\plots\\report_RGB-NIR_combined_11classes_plotsplit.txt', 'w') as f:\n",
    "    f.write(report)\n",
    "\n",
    "labels = np.array([0,1,2,3,4,5,6,7,8,9,10])\n",
    "confmat = confusion_matrix(all_true_labels, ensemble_labels, labels=labels)\n",
    "\n",
    "# 3. Plot the confusion matrix\n",
    "fig, ax = plot_confusion_matrix(\n",
    "    conf_mat=confmat, # matplotlib likes working with NumPy \n",
    "    class_names=class_names, # turn the row and column labels into class names\n",
    "    figsize=(10, 7)\n",
    ");\n",
    "\n",
    "# add title to confusion matrix plot\n",
    "plt.title(\"Main tree species and Health Status Classification using RGB-NIR Bands\", fontsize=16)\n",
    "\n",
    "fig.savefig(r'C:\\Users\\lwfeckesim\\01_PyTorch\\wze-uav\\wze-uav-master\\plots\\confmat_RGB-NIR_combined_11classes_plotsplit.png', dpi=300, bbox_inches='tight')\n",
    "\n",
    "# Create a DataFrame from the confusion matrix\n",
    "df_cm = pd.DataFrame(confmat)\n",
    "\n",
    "# Export the confusion matrix to a CSV file\n",
    "df_cm.to_csv(r'C:\\Users\\lwfeckesim\\01_PyTorch\\wze-uav\\wze-uav-master\\plots\\confmat_RGB-NIR_combined_11classes_plotsplit.csv', index=False)\n"
   ]
  },
  {
   "cell_type": "code",
   "execution_count": 23,
   "id": "aab9e321",
   "metadata": {},
   "outputs": [
    {
     "ename": "NameError",
     "evalue": "name 'best_model' is not defined",
     "output_type": "error",
     "traceback": [
      "\u001b[1;31m---------------------------------------------------------------------------\u001b[0m",
      "\u001b[1;31mNameError\u001b[0m                                 Traceback (most recent call last)",
      "Input \u001b[1;32mIn [23]\u001b[0m, in \u001b[0;36m<cell line: 3>\u001b[1;34m()\u001b[0m\n\u001b[0;32m      1\u001b[0m \u001b[38;5;66;03m# 2. Setup confusion matrix instance and compare predictions to targets\u001b[39;00m\n\u001b[0;32m      2\u001b[0m \u001b[38;5;66;03m#from wze_uav.analysis import *\u001b[39;00m\n\u001b[1;32m----> 3\u001b[0m y_pred_tensor, y_labels_tensor, test_loss, test_recall, test_precision, test_f1_score, test_acc, y_logit, y_pred, y, y_preds \u001b[38;5;241m=\u001b[39m make_predictions(model\u001b[38;5;241m=\u001b[39m\u001b[43mbest_model\u001b[49m,\n\u001b[0;32m      4\u001b[0m                                  test_dataloader\u001b[38;5;241m=\u001b[39mtest_dataloader, \n\u001b[0;32m      5\u001b[0m                                  device\u001b[38;5;241m=\u001b[39mdevice)\n\u001b[0;32m      7\u001b[0m y_labels_tensor \u001b[38;5;241m=\u001b[39m y_labels_tensor\u001b[38;5;241m.\u001b[39mdetach()\u001b[38;5;241m.\u001b[39mcpu()\u001b[38;5;241m.\u001b[39mnumpy()\n\u001b[0;32m      8\u001b[0m y_pred_tensor \u001b[38;5;241m=\u001b[39m y_pred_tensor\u001b[38;5;241m.\u001b[39mdetach()\u001b[38;5;241m.\u001b[39mcpu()\u001b[38;5;241m.\u001b[39mnumpy()\n",
      "\u001b[1;31mNameError\u001b[0m: name 'best_model' is not defined"
     ]
    }
   ],
   "source": [
    "# 2. Setup confusion matrix instance and compare predictions to targets\n",
    "#from wze_uav.analysis import *\n",
    "y_pred_tensor, y_labels_tensor, test_loss, test_recall, test_precision, test_f1_score, test_acc, y_logit, y_pred, y, y_preds = make_predictions(model=best_model,\n",
    "                                 test_dataloader=test_dataloader, \n",
    "                                 device=device)\n",
    "\n",
    "y_labels_tensor = y_labels_tensor.detach().cpu().numpy()\n",
    "y_pred_tensor = y_pred_tensor.detach().cpu().numpy()\n",
    "\n",
    "#confmat = ConfusionMatrix(num_classes=num_classes, task='multiclass')\n",
    "#confmat_tensor = confmat(preds=y_pred_tensor,\n",
    "#                         target=test_labels)\n",
    "labels = np.array([0,1,2])\n",
    "confmat = confusion_matrix(y_labels_tensor, y_pred_tensor, labels=labels)\n",
    "\n",
    "# 3. Plot the confusion matrix\n",
    "fig, ax = plot_confusion_matrix(\n",
    "    conf_mat=confmat, # matplotlib likes working with NumPy \n",
    "    class_names=class_names, # turn the row and column labels into class names\n",
    "    figsize=(10, 7)\n",
    ");\n",
    "\n",
    "print(f\"Test loss: {test_loss}\")\n",
    "print(f\"Test precision: {test_precision}\")\n",
    "print(f\"Test recall: {test_recall}\")\n",
    "print(f\"Test F1score: {test_f1_score}\")\n",
    "#print(f\"Test Kappa: {test_kappa}\")\n",
    "print(f\"Test Accuracy: {test_acc}\")\n",
    "print(f\"Test Logits: {y_logit}\")\n",
    "print(f\"Test Predictions: {y_pred}\")\n",
    "print(f\"Test Labels: {y}\")"
   ]
  },
  {
   "cell_type": "code",
   "execution_count": null,
   "id": "8d4173b3",
   "metadata": {},
   "outputs": [],
   "source": [
    "len(y_preds)"
   ]
  },
  {
   "cell_type": "code",
   "execution_count": null,
   "id": "7588116f",
   "metadata": {},
   "outputs": [],
   "source": [
    "y_set.cpu()"
   ]
  },
  {
   "cell_type": "code",
   "execution_count": null,
   "id": "1c195b3e",
   "metadata": {},
   "outputs": [],
   "source": [
    "test_dataset.labels"
   ]
  },
  {
   "cell_type": "code",
   "execution_count": null,
   "id": "975ec08c",
   "metadata": {},
   "outputs": [],
   "source": []
  },
  {
   "cell_type": "code",
   "execution_count": null,
   "id": "6da05604",
   "metadata": {},
   "outputs": [],
   "source": [
    "y_preds = []\n",
    "y_labels = []\n",
    "labels = np.array([0,1,2])\n",
    "test_loss, test_precision, test_recall, test_f1_score, test_acc = 0, 0, 0, 0, 0\n",
    "count = 0\n",
    "model.eval()\n",
    "with torch.inference_mode():\n",
    "    for X, y in tqdm(test_dataloader, desc=\"Making predictions\"):\n",
    "        # Send data and targets to target device\n",
    "        X, y = X.to(device), y.to(device)\n",
    "        # Do the forward pass\n",
    "        y_logit = model(X)\n",
    "        # Turn predictions from logits -> prediction probabilities -> predictions labels\n",
    "        y_pred = torch.softmax(y_logit, dim=1).argmax(dim=1)\n",
    "        # Put predictions on CPU for evaluation\n",
    "        y_preds.append(y_pred.cpu())\n",
    "        y_labels.append(y.cpu())\n",
    "        \n",
    "        #other metrics\n",
    "        test_acc += ((y_pred == y).sum().item()/len(y_pred))\n",
    "        y_pred_class = y_pred.detach().cpu().numpy() \n",
    "        y_class = y.detach().cpu().numpy()\n",
    "        test_precision += precision_score(y_class, y_pred_class, average='macro', zero_division=1, labels=labels)\n",
    "        test_recall += recall_score(y_class, y_pred_class, average='macro', zero_division=1, labels=labels)\n",
    "        #test_f1_score += f1_score(y_class, y_pred_class, average='macro', zero_division=1, labels=labels)\n",
    "        \n",
    "        #if count >= 1:\n",
    "        #    y_set = torch.cat((y_set, y))\n",
    "        #    count = count + 1\n",
    "        #else:\n",
    "        #    y_set = y\n",
    "        #    count = count + 1\n",
    "        \n",
    "test_loss = test_loss / len(test_dataloader)\n",
    "test_precision = test_precision / len(test_dataloader)\n",
    "test_recall = test_recall / len(test_dataloader)\n",
    "#test_f1_score = test_f1_score / len(test_dataloader)\n",
    "#test_kappa = test_kappa / len(dataloader)\n",
    "test_acc = test_acc / len(test_dataloader)\n",
    "# Concatenate list of predictions into a tensor\n",
    "y_pred_tensor = torch.cat(y_preds)\n",
    "test_f1_score = f1_score(y_set.detach().cpu().numpy(), y_pred_tensor.cpu().numpy(), average='macro', zero_division=0, labels=[0,1,2])\n",
    "\n",
    "# Print classification report\n",
    "y_true = y_set.detach().cpu().numpy()\n",
    "report = classification_report(y_true, y_pred_tensor.cpu().numpy(), target_names=class_names)\n",
    "print(report)"
   ]
  },
  {
   "cell_type": "code",
   "execution_count": null,
   "id": "6ae97fab",
   "metadata": {},
   "outputs": [],
   "source": [
    "test_f1_score"
   ]
  },
  {
   "cell_type": "code",
   "execution_count": null,
   "id": "7ebafd9b",
   "metadata": {},
   "outputs": [],
   "source": [
    "make = (y_class == y_pred_class)\n",
    "make"
   ]
  },
  {
   "cell_type": "code",
   "execution_count": null,
   "id": "4f8aa759",
   "metadata": {},
   "outputs": [],
   "source": [
    "torch.softmax(y_logit, dim=1).argmax(dim=1)"
   ]
  },
  {
   "cell_type": "code",
   "execution_count": null,
   "id": "f90a54b2",
   "metadata": {},
   "outputs": [],
   "source": [
    "y"
   ]
  },
  {
   "cell_type": "code",
   "execution_count": null,
   "id": "5a806154",
   "metadata": {},
   "outputs": [],
   "source": [
    "test = (y_pred == y).sum().item()/16"
   ]
  },
  {
   "cell_type": "code",
   "execution_count": null,
   "id": "1da35c56",
   "metadata": {},
   "outputs": [],
   "source": [
    "test"
   ]
  },
  {
   "cell_type": "code",
   "execution_count": null,
   "id": "b1eb246e",
   "metadata": {},
   "outputs": [],
   "source": [
    " y_pred_class = y_pred.detach().cpu().numpy() "
   ]
  },
  {
   "cell_type": "code",
   "execution_count": null,
   "id": "602e096f",
   "metadata": {},
   "outputs": [],
   "source": [
    "y_pred_class"
   ]
  },
  {
   "cell_type": "code",
   "execution_count": null,
   "id": "eaf1af09",
   "metadata": {},
   "outputs": [],
   "source": []
  }
 ],
 "metadata": {
  "kernelspec": {
   "display_name": "Python 3 (ipykernel)",
   "language": "python",
   "name": "python3"
  },
  "language_info": {
   "codemirror_mode": {
    "name": "ipython",
    "version": 3
   },
   "file_extension": ".py",
   "mimetype": "text/x-python",
   "name": "python",
   "nbconvert_exporter": "python",
   "pygments_lexer": "ipython3",
   "version": "3.9.16"
  }
 },
 "nbformat": 4,
 "nbformat_minor": 5
}
