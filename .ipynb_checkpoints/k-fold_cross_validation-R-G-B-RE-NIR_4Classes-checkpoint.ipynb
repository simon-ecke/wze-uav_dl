{
 "cells": [
  {
   "cell_type": "markdown",
   "id": "c1acdaa3",
   "metadata": {},
   "source": [
    "# WZE-UAV Image Classification using Deep Learning"
   ]
  },
  {
   "cell_type": "code",
   "execution_count": 1,
   "id": "2159aac5",
   "metadata": {},
   "outputs": [],
   "source": [
    "import os\n",
    "import gc\n",
    "import glob\n",
    "import numpy as np\n",
    "from pathlib import Path\n",
    "from tqdm.auto import tqdm\n",
    "from sklearn.metrics import confusion_matrix, classification_report\n",
    "from sklearn.model_selection import KFold"
   ]
  },
  {
   "cell_type": "code",
   "execution_count": 2,
   "id": "0026f7a9",
   "metadata": {},
   "outputs": [],
   "source": [
    "import torch\n",
    "import torchvision.transforms as T\n",
    "import torchvision\n",
    "from torch import nn\n",
    "from torch.utils.data import DataLoader\n",
    "from torchvision import datasets, transforms\n",
    "from torch.utils.data import Dataset\n",
    "import torch.optim as optim\n",
    "from torch.optim.lr_scheduler import ExponentialLR\n",
    "from mlxtend.plotting import plot_confusion_matrix"
   ]
  },
  {
   "cell_type": "code",
   "execution_count": 3,
   "id": "b160d7b4",
   "metadata": {},
   "outputs": [],
   "source": [
    "import wze_uav.data_loader as data_loader\n",
    "import wze_uav.models as models\n",
    "from wze_uav.engine import *\n",
    "from wze_uav.utils2 import *\n",
    "#from wze_uav.log_writer import create_writer\n",
    "from wze_uav.datasplit import *\n",
    "from efficientnet import model_effnet #for custom effnet with n_channels input\n",
    "import wandb"
   ]
  },
  {
   "cell_type": "markdown",
   "id": "2bd4fb2f",
   "metadata": {},
   "source": [
    "#### Get PyTorch version"
   ]
  },
  {
   "cell_type": "code",
   "execution_count": 4,
   "id": "c10886b1",
   "metadata": {},
   "outputs": [
    {
     "name": "stdout",
     "output_type": "stream",
     "text": [
      "torch version: 1.13.1+cu116\n",
      "torchvision version: 0.14.1+cu116\n"
     ]
    }
   ],
   "source": [
    "print(f\"torch version: {torch.__version__}\")\n",
    "print(f\"torchvision version: {torchvision.__version__}\")"
   ]
  },
  {
   "cell_type": "markdown",
   "id": "aa6a83cf",
   "metadata": {},
   "source": [
    "#### Preparing device agnostic code "
   ]
  },
  {
   "cell_type": "code",
   "execution_count": 5,
   "id": "13d5de88",
   "metadata": {},
   "outputs": [
    {
     "name": "stdout",
     "output_type": "stream",
     "text": [
      "cuda\n",
      "Index of current divice: 0\n",
      "Number of GPUs available: 1\n",
      "GPU Model: Quadro RTX 8000\n"
     ]
    }
   ],
   "source": [
    "# ensure device agnostic code\n",
    "device = 'cuda' if torch.cuda.is_available() else 'cpu'\n",
    "print(device)\n",
    "\n",
    "# get index of currently selected device\n",
    "print(f\"Index of current divice: {torch.cuda.current_device()}\")\n",
    "# get number of GPUs available\n",
    "print(f\"Number of GPUs available: {torch.cuda.device_count()}\")\n",
    "# get the name of the device\n",
    "print(f\"GPU Model: {torch.cuda.get_device_name(0)}\")"
   ]
  },
  {
   "cell_type": "markdown",
   "id": "8ef6b169",
   "metadata": {},
   "source": [
    "#### Login to Weights & Biases to track results"
   ]
  },
  {
   "cell_type": "code",
   "execution_count": 6,
   "id": "a59d27cf",
   "metadata": {},
   "outputs": [
    {
     "name": "stderr",
     "output_type": "stream",
     "text": [
      "Failed to detect the name of this notebook, you can set it manually with the WANDB_NOTEBOOK_NAME environment variable to enable code saving.\n",
      "\u001b[34m\u001b[1mwandb\u001b[0m: Currently logged in as: \u001b[33msimon-ecke\u001b[0m. Use \u001b[1m`wandb login --relogin`\u001b[0m to force relogin\n"
     ]
    },
    {
     "data": {
      "text/html": [
       "wandb version 0.15.0 is available!  To upgrade, please run:\n",
       " $ pip install wandb --upgrade"
      ],
      "text/plain": [
       "<IPython.core.display.HTML object>"
      ]
     },
     "metadata": {},
     "output_type": "display_data"
    },
    {
     "data": {
      "text/html": [
       "Tracking run with wandb version 0.14.2"
      ],
      "text/plain": [
       "<IPython.core.display.HTML object>"
      ]
     },
     "metadata": {},
     "output_type": "display_data"
    },
    {
     "data": {
      "text/html": [
       "Run data is saved locally in <code>C:\\Users\\lwfeckesim\\01_PyTorch\\wze-uav\\wze-uav-master\\wandb\\run-20230422_095039-ah4s7qe6</code>"
      ],
      "text/plain": [
       "<IPython.core.display.HTML object>"
      ]
     },
     "metadata": {},
     "output_type": "display_data"
    },
    {
     "data": {
      "text/html": [
       "Syncing run <strong><a href='https://wandb.ai/simon-ecke/wze-uav-4classes/runs/ah4s7qe6' target=\"_blank\">wise-pyramid-11</a></strong> to <a href='https://wandb.ai/simon-ecke/wze-uav-4classes' target=\"_blank\">Weights & Biases</a> (<a href='https://wandb.me/run' target=\"_blank\">docs</a>)<br/>"
      ],
      "text/plain": [
       "<IPython.core.display.HTML object>"
      ]
     },
     "metadata": {},
     "output_type": "display_data"
    },
    {
     "data": {
      "text/html": [
       " View project at <a href='https://wandb.ai/simon-ecke/wze-uav-4classes' target=\"_blank\">https://wandb.ai/simon-ecke/wze-uav-4classes</a>"
      ],
      "text/plain": [
       "<IPython.core.display.HTML object>"
      ]
     },
     "metadata": {},
     "output_type": "display_data"
    },
    {
     "data": {
      "text/html": [
       " View run at <a href='https://wandb.ai/simon-ecke/wze-uav-4classes/runs/ah4s7qe6' target=\"_blank\">https://wandb.ai/simon-ecke/wze-uav-4classes/runs/ah4s7qe6</a>"
      ],
      "text/plain": [
       "<IPython.core.display.HTML object>"
      ]
     },
     "metadata": {},
     "output_type": "display_data"
    },
    {
     "data": {
      "text/html": [
       "<button onClick=\"this.nextSibling.style.display='block';this.style.display='none';\">Display W&B run</button><iframe src='https://wandb.ai/simon-ecke/wze-uav-4classes/runs/ah4s7qe6?jupyter=true' style='border:none;width:100%;height:420px;display:none;'></iframe>"
      ],
      "text/plain": [
       "<wandb.sdk.wandb_run.Run at 0x245b9019820>"
      ]
     },
     "execution_count": 6,
     "metadata": {},
     "output_type": "execute_result"
    }
   ],
   "source": [
    "# IMPORTANT: The proxy needs to be set in anaconda!\n",
    "# copy paste this in anaconda and restart jupyter notebook\n",
    "#set http_proxy=http://www-proxy.bayern.de:80\n",
    "#set https_proxy=http://www-proxy.bayern.de:80\n",
    "wandb.login()\n",
    "#wandb.init(settings=wandb.Settings(start_method=\"thread\"))\n",
    "wandb.init(project='wze-uav-4classes', entity='simon-ecke')"
   ]
  },
  {
   "cell_type": "markdown",
   "id": "a26a6a34",
   "metadata": {},
   "source": [
    "#### Ensure reproducibility "
   ]
  },
  {
   "cell_type": "code",
   "execution_count": 7,
   "id": "dd4656a7",
   "metadata": {},
   "outputs": [],
   "source": [
    "# for more information, see also: https://pytorch.org/docs/stable/notes/randomness.html\n",
    "\n",
    "# Set seeds\n",
    "def set_seeds(seed: int=42):\n",
    "    \"\"\"Sets random sets for torch operations.\n",
    "\n",
    "    Args:\n",
    "        seed (int, optional): Random seed to set. Defaults to 42.\n",
    "    \"\"\"\n",
    "    # Set the seed for general torch operations\n",
    "    torch.manual_seed(seed)\n",
    "    # Set the seed for CUDA torch operations (ones that happen on the GPU)\n",
    "    torch.cuda.manual_seed(seed)\n",
    "    # seed for numpy\n",
    "    np.random.seed(seed)\n",
    "\n",
    "set_seeds(42) \n",
    "\n",
    "# Set to true -> might speed up the process but should be set to False if reproducible results are desired\n",
    "torch.backends.cudnn.benchmark = False\n"
   ]
  },
  {
   "cell_type": "markdown",
   "id": "8be33671",
   "metadata": {},
   "source": [
    "#### Define file directory"
   ]
  },
  {
   "cell_type": "code",
   "execution_count": 8,
   "id": "30645f36",
   "metadata": {},
   "outputs": [],
   "source": [
    "#####################################################################################\n",
    "# 3 channel input (r-g-b)\n",
    "#data_path = r\"D:\\Drohnendaten\\10_WZE-UAV\\Auswertung_findatree\\Datasplit\\ROI\\rgb\"\n",
    "\n",
    "# 4 channel input (r-g-b-nir)\n",
    "data_path = r\"D:\\Drohnendaten\\10_WZE-UAV\\Auswertung_findatree\\Datasplit\\ROI\\rgb-nir\"\n",
    "\n",
    "# 5 channel input (r-g-b-re-nir)\n",
    "#data_path = r\"D:\\Drohnendaten\\10_WZE-UAV\\Auswertung_findatree\\Datasplit\\ROI\\rgb-re-nir\"\n",
    "#####################################################################################"
   ]
  },
  {
   "cell_type": "markdown",
   "id": "4560ce64",
   "metadata": {},
   "source": [
    "#### Get all file paths"
   ]
  },
  {
   "cell_type": "code",
   "execution_count": 9,
   "id": "aa072e4c",
   "metadata": {},
   "outputs": [],
   "source": [
    "fn_list = os.listdir(data_path)\n",
    "path_list = []\n",
    "# Iterate over all datafiles\n",
    "for year in fn_list:\n",
    "    year_dir = f'{data_path}\\\\{year}'\n",
    "    for filename in os.listdir(year_dir):\n",
    "        path = f'{year_dir}\\\\{filename}'\n",
    "        path_list.append(path)"
   ]
  },
  {
   "cell_type": "markdown",
   "id": "f3937a44",
   "metadata": {},
   "source": [
    "#### Create unique hash IDs for every individual tree"
   ]
  },
  {
   "cell_type": "code",
   "execution_count": 10,
   "id": "8a50f1d7",
   "metadata": {},
   "outputs": [
    {
     "data": {
      "application/vnd.jupyter.widget-view+json": {
       "model_id": "13e0a68964ad43e69f33a503d19548fa",
       "version_major": 2,
       "version_minor": 0
      },
      "text/plain": [
       "Creating unique tree IDs...:   0%|          | 0/647 [00:00<?, ?it/s]"
      ]
     },
     "metadata": {},
     "output_type": "display_data"
    }
   ],
   "source": [
    "hashID_dict = data_loader.get_unique_treeID(path_list)"
   ]
  },
  {
   "cell_type": "markdown",
   "id": "6f4cea00",
   "metadata": {},
   "source": [
    "#### Import all imagery, labels and other features from hdf5 files"
   ]
  },
  {
   "cell_type": "code",
   "execution_count": 11,
   "id": "94e3eecf",
   "metadata": {},
   "outputs": [
    {
     "data": {
      "application/vnd.jupyter.widget-view+json": {
       "model_id": "82259a1281d94955b891e9e11cb8cff2",
       "version_major": 2,
       "version_minor": 0
      },
      "text/plain": [
       "Processing hdf5 datasets:   0%|          | 0/647 [00:00<?, ?it/s]"
      ]
     },
     "metadata": {},
     "output_type": "display_data"
    }
   ],
   "source": [
    "image_set, label_set, species_set, kkl_set, bk_set, hash_id = data_loader.hdf5_to_img_label(path_list,\n",
    "                                                                                               hashID_dict,\n",
    "                                                                                               load_sets=[\"images_masked\"])"
   ]
  },
  {
   "cell_type": "markdown",
   "id": "6a90e2b7",
   "metadata": {},
   "source": [
    "#### Convert nbv to classes"
   ]
  },
  {
   "cell_type": "code",
   "execution_count": 12,
   "id": "0224972a",
   "metadata": {},
   "outputs": [],
   "source": [
    "label_set = nbv_to_sst_4classes(label_set)"
   ]
  },
  {
   "cell_type": "markdown",
   "id": "c6b4cd85",
   "metadata": {},
   "source": [
    "#### Split data into a sub set and a test dataset"
   ]
  },
  {
   "cell_type": "code",
   "execution_count": 13,
   "id": "d06eda54",
   "metadata": {},
   "outputs": [
    {
     "name": "stdout",
     "output_type": "stream",
     "text": [
      "ORIGINAL POSITIVE RATIO: 0.47428875299122575\n",
      "Fold : 0\n",
      "TRAIN POSITIVE RATIO: 0.4728771324516005\n",
      "TEST POSITIVE RATIO : 0.48129359543436906\n",
      "LENGTH TRAIN GROUPS : 5904\n",
      "LENGTH TEST GROUPS  : 1183\n",
      "Number of True in sub_indices: 15651\n",
      "Number of False in sub_indices: 3154\n",
      "Number of True in test_indices: 1183\n",
      "Number of False in test_indices: 17622\n",
      "Check shapes:\n",
      "\n",
      "Images sub dataset: (15651, 250, 250, 4)\n",
      "Labels sub dataset: (15651, 1)\n",
      "\n",
      "Images test dataset: (1183, 250, 250, 4)\n",
      "Labels test dataset: (1183, 1)\n",
      "\n",
      "--------------------------------------------------\n",
      "Check if the split was stratified: (random_state=42)\n",
      "Healthy trees in sub dataset: 9216\n",
      "Stressed trees in sub dataset: 5722\n",
      "Dead trees in sub dataset: 460\n",
      "Healthy trees in test dataset: 682\n",
      "Stressed trees in test dataset: 444\n",
      "Dead trees in test dataset: 36\n",
      "Ratio health trees in test dataset: 0.0740017361111111\n",
      "Ratio stressed trees in test dataset: 0.0775952464173366\n",
      "Ratio dead trees in test dataset: 0.0782608695652174\n"
     ]
    }
   ],
   "source": [
    "sub_image_set, sub_label_set, sub_hash_id, sub_species_set, test_image_set, test_label_set, test_hash_id, test_species_set = data_split(image_set, label_set, hash_id, species_set, n_splits=6, random_state=42, seed=2)\n"
   ]
  },
  {
   "cell_type": "markdown",
   "id": "c48fbb5b",
   "metadata": {},
   "source": [
    "#### Check if any hash ID is in both sub and test dataset"
   ]
  },
  {
   "cell_type": "code",
   "execution_count": 14,
   "id": "874367cf",
   "metadata": {},
   "outputs": [
    {
     "name": "stdout",
     "output_type": "stream",
     "text": [
      "There are no hash_id values in both train and test datasets. The datasplit was successful\n"
     ]
    }
   ],
   "source": [
    "hash_set = set(sub_hash_id[:,0].flatten())\n",
    "test_hash_set = set(test_hash_id[:,0].flatten())\n",
    "intersection = hash_set.intersection(test_hash_set)\n",
    "if intersection:\n",
    "    print(f\"Hash_id values in both train and test sets: {len(intersection)}\")\n",
    "else:\n",
    "    print(\"There are no hash_id values in both train and test datasets. The datasplit was successful\")"
   ]
  },
  {
   "cell_type": "markdown",
   "id": "9e5b64d4",
   "metadata": {},
   "source": [
    "#### Check feature distribution of the Test dataset"
   ]
  },
  {
   "cell_type": "code",
   "execution_count": 15,
   "id": "a33ff5cb",
   "metadata": {},
   "outputs": [
    {
     "name": "stdout",
     "output_type": "stream",
     "text": [
      "Test dataset\n",
      "Test data healthy trees: 682\n",
      "Test data moderately stressed trees: 444\n",
      "Test data severely stressed trees: 36\n",
      "Test data dead trees: 21\n",
      "Test data pine trees: 309\n",
      "Test data spruces: 440\n",
      "--------------------------------------------------\n",
      "Remaining dataset\n",
      "Remaining data healthy trees: 9216\n",
      "Remaining data moderately stressed trees: 5722\n",
      "Remaining data severley stressed trees: 460\n",
      "Remaining data dead trees: 253\n",
      "Remaining data pine trees: 3949\n",
      "Remaining data spruces: 5864\n",
      "--------------------------------------------------\n"
     ]
    }
   ],
   "source": [
    "def count_occurrences(data, value):\n",
    "    count = 0\n",
    "    for item in data:\n",
    "        if item == value:\n",
    "            count += 1\n",
    "    return count\n",
    "\n",
    "print(\"Test dataset\")\n",
    "print(f\"Test data healthy trees: {count_occurrences(test_label_set, 0)}\")\n",
    "print(f\"Test data moderately stressed trees: {count_occurrences(test_label_set, 1)}\")\n",
    "print(f\"Test data severely stressed trees: {count_occurrences(test_label_set, 2)}\")\n",
    "print(f\"Test data dead trees: {count_occurrences(test_label_set, 3)}\")\n",
    "print(f\"Test data pine trees: {count_occurrences(test_species_set, 134)}\")\n",
    "print(f\"Test data spruces: {count_occurrences(test_species_set, 118)}\")\n",
    "print(\"-\"*50)\n",
    "\n",
    "print(\"Remaining dataset\")\n",
    "print(f\"Remaining data healthy trees: {count_occurrences(sub_label_set, 0)}\")\n",
    "print(f\"Remaining data moderately stressed trees: {count_occurrences(sub_label_set, 1)}\")\n",
    "print(f\"Remaining data severley stressed trees: {count_occurrences(sub_label_set, 2)}\")\n",
    "print(f\"Remaining data dead trees: {count_occurrences(sub_label_set, 3)}\")\n",
    "print(f\"Remaining data pine trees: {count_occurrences(sub_species_set, 134)}\")\n",
    "print(f\"Remaining data spruces: {count_occurrences(sub_species_set, 118)}\")\n",
    "print(\"-\"*50)"
   ]
  },
  {
   "cell_type": "code",
   "execution_count": 16,
   "id": "e08fcf57",
   "metadata": {},
   "outputs": [],
   "source": [
    "# train transform with augmentation. \n",
    "transform_train = transforms.Compose([transforms.ToTensor(), transforms.RandomHorizontalFlip(p=0.5), transforms.RandomVerticalFlip(p=0.5),\n",
    "                                      transforms.RandomRotation(degrees=[0,360])])\n",
    "\n",
    "# test and val dataset transform without augmentation. \n",
    "transform = transforms.Compose([transforms.ToTensor()])\n",
    "\n",
    "# class names need to fit the customDataset class used e.g. 3 classes -> use CustomDataset3Classes\n",
    "#class_names = ['healthy', 'slightly_stressed', 'moderately_stressed', 'highly_stressed', 'dead']\n",
    "#class_names = ['healthy', 'moderately_stressed', 'highly_stressed', 'dead']\n",
    "class_names = ['healthy', 'moderate stress', 'severe stress', 'dead']\n",
    "\n",
    "# set seeds\n",
    "g = torch.Generator()\n",
    "g.manual_seed(42)\n",
    "NUM_WORKERS=3 # should be changed, depending on the system used\n",
    "batch_size=32"
   ]
  },
  {
   "cell_type": "markdown",
   "id": "31779c05",
   "metadata": {},
   "source": [
    "#### Define variables and parameters"
   ]
  },
  {
   "cell_type": "code",
   "execution_count": 17,
   "id": "10ae4379",
   "metadata": {},
   "outputs": [
    {
     "name": "stdout",
     "output_type": "stream",
     "text": [
      "Memory allocated: 0 bytes\n"
     ]
    }
   ],
   "source": [
    "# 1. Define number of epochs\n",
    "epochs = 50\n",
    "n_bands = sub_image_set[0].shape[2] # get number of bands\n",
    "\n",
    "# 2. Define model\n",
    "num_classes = len(class_names)\n",
    "unfreeze = True # all layer weights get updated\n",
    "dropout_rate = 0.5 #define dropout rate\n",
    "model_name = \"EffNet_b7_RGB-NIR_4classes\"\n",
    "\n",
    "# 3. Define loss, optimizer and learning rate scheduler\n",
    "lr = 0.005 # define learning rate\n",
    "min_lr = 1e-6 # minimum learning rate threshold\n",
    "gamma = 0.75 # how fast the learning rate decreases per epoch (low number=faster decrease)\n",
    "patience = 10\n",
    "\n",
    "# 4. Create target folder name were to save the tensorboard event files\n",
    "experiment_name = 'RGB-NIR_4classes'\n",
    "extra = \"RGB-NIR_4classes\"\n",
    "\n",
    "#----------------------------------------------------------------------\n",
    "#torch.cuda.empty_cache()\n",
    "print(f\"Memory allocated: {torch.cuda.memory_allocated()} bytes\") "
   ]
  },
  {
   "cell_type": "markdown",
   "id": "09768b1a",
   "metadata": {},
   "source": [
    "#### Run k-Fold cross-validation on EfficientNet"
   ]
  },
  {
   "cell_type": "code",
   "execution_count": 18,
   "id": "9c29c81d",
   "metadata": {},
   "outputs": [
    {
     "name": "stdout",
     "output_type": "stream",
     "text": [
      "ORIGINAL POSITIVE RATIO: 0.4728771324516005\n",
      "Fold : 1\n",
      "TRAIN POSITIVE RATIO: 0.4768688970705939\n",
      "VAL POSITIVE RATIO  : 0.4570795058599937\n",
      "LENGTH TRAIN GROUPS : 4720\n",
      "LENGTH VAL GROUPS   : 1184\n"
     ]
    },
    {
     "data": {
      "text/html": [
       "Finishing last run (ID:ah4s7qe6) before initializing another..."
      ],
      "text/plain": [
       "<IPython.core.display.HTML object>"
      ]
     },
     "metadata": {},
     "output_type": "display_data"
    },
    {
     "data": {
      "text/html": [
       "Waiting for W&B process to finish... <strong style=\"color:green\">(success).</strong>"
      ],
      "text/plain": [
       "<IPython.core.display.HTML object>"
      ]
     },
     "metadata": {},
     "output_type": "display_data"
    },
    {
     "data": {
      "text/html": [
       " View run <strong style=\"color:#cdcd00\">wise-pyramid-11</strong> at: <a href='https://wandb.ai/simon-ecke/wze-uav-4classes/runs/ah4s7qe6' target=\"_blank\">https://wandb.ai/simon-ecke/wze-uav-4classes/runs/ah4s7qe6</a><br/>Synced 5 W&B file(s), 0 media file(s), 0 artifact file(s) and 0 other file(s)"
      ],
      "text/plain": [
       "<IPython.core.display.HTML object>"
      ]
     },
     "metadata": {},
     "output_type": "display_data"
    },
    {
     "data": {
      "text/html": [
       "Find logs at: <code>.\\wandb\\run-20230422_095039-ah4s7qe6\\logs</code>"
      ],
      "text/plain": [
       "<IPython.core.display.HTML object>"
      ]
     },
     "metadata": {},
     "output_type": "display_data"
    },
    {
     "data": {
      "text/html": [
       "Successfully finished last run (ID:ah4s7qe6). Initializing new run:<br/>"
      ],
      "text/plain": [
       "<IPython.core.display.HTML object>"
      ]
     },
     "metadata": {},
     "output_type": "display_data"
    },
    {
     "data": {
      "application/vnd.jupyter.widget-view+json": {
       "model_id": "aa281b419f7f49749318ba42f840f33f",
       "version_major": 2,
       "version_minor": 0
      },
      "text/plain": [
       "VBox(children=(Label(value='Waiting for wandb.init()...\\r'), FloatProgress(value=0.016666666666666666, max=1.0…"
      ]
     },
     "metadata": {},
     "output_type": "display_data"
    },
    {
     "data": {
      "text/html": [
       "wandb version 0.15.0 is available!  To upgrade, please run:\n",
       " $ pip install wandb --upgrade"
      ],
      "text/plain": [
       "<IPython.core.display.HTML object>"
      ]
     },
     "metadata": {},
     "output_type": "display_data"
    },
    {
     "data": {
      "text/html": [
       "Tracking run with wandb version 0.14.2"
      ],
      "text/plain": [
       "<IPython.core.display.HTML object>"
      ]
     },
     "metadata": {},
     "output_type": "display_data"
    },
    {
     "data": {
      "text/html": [
       "Run data is saved locally in <code>C:\\Users\\lwfeckesim\\01_PyTorch\\wze-uav\\wze-uav-master\\wandb\\run-20230422_103832-imz1jkfa</code>"
      ],
      "text/plain": [
       "<IPython.core.display.HTML object>"
      ]
     },
     "metadata": {},
     "output_type": "display_data"
    },
    {
     "data": {
      "text/html": [
       "Syncing run <strong><a href='https://wandb.ai/simon-ecke/wze-uav-4classes/runs/imz1jkfa' target=\"_blank\">fold_1_RGB-NIR_4classes</a></strong> to <a href='https://wandb.ai/simon-ecke/wze-uav-4classes' target=\"_blank\">Weights & Biases</a> (<a href='https://wandb.me/run' target=\"_blank\">docs</a>)<br/>"
      ],
      "text/plain": [
       "<IPython.core.display.HTML object>"
      ]
     },
     "metadata": {},
     "output_type": "display_data"
    },
    {
     "data": {
      "text/html": [
       " View project at <a href='https://wandb.ai/simon-ecke/wze-uav-4classes' target=\"_blank\">https://wandb.ai/simon-ecke/wze-uav-4classes</a>"
      ],
      "text/plain": [
       "<IPython.core.display.HTML object>"
      ]
     },
     "metadata": {},
     "output_type": "display_data"
    },
    {
     "data": {
      "text/html": [
       " View run at <a href='https://wandb.ai/simon-ecke/wze-uav-4classes/runs/imz1jkfa' target=\"_blank\">https://wandb.ai/simon-ecke/wze-uav-4classes/runs/imz1jkfa</a>"
      ],
      "text/plain": [
       "<IPython.core.display.HTML object>"
      ]
     },
     "metadata": {},
     "output_type": "display_data"
    },
    {
     "name": "stdout",
     "output_type": "stream",
     "text": [
      "There are no same hash_id values in train, val or test datasets. The datasplit was successful\n",
      "Check shapes:\n",
      "\n",
      "Images train dataset: (12494, 250, 250, 4)\n",
      "Labels train dataset: (12494, 1)\n",
      "\n",
      "Images validation dataset: (1184, 250, 250, 4)\n",
      "Labels validation dataset: (1184, 1)\n",
      "\n",
      "--------------------------------------------------\n",
      "Check if the split was stratified: (random_state=42)\n",
      "Healthy trees in train dataset: 7322\n",
      "Moderately stressed trees in train dataset: 4596\n",
      "Severely stressed trees in train dataset: 366\n",
      "Dead trees in train dataset: 210\n",
      "Healthy trees in validation dataset: 701\n",
      "Moderately stressed trees in validation dataset: 428\n",
      "Severely stressed trees in validation dataset: 36\n",
      "Dead trees in validation dataset: 19\n",
      "Ratio health trees in validation dataset: 0.07606336805555555\n",
      "Ratio moderately stressed trees in validation dataset: 0.07479902132121635\n",
      "Ratio severely stressed trees in validation dataset: 0.9304347826086956\n",
      "Ratio dead trees in validation dataset: 0.1422924901185771\n",
      "--------------------------------------------------\n",
      "\n",
      "Creating datasets for fold: 1\n",
      "\n",
      "Creating dataloaders for fold: 1\n",
      "\n",
      "Loaded pretrained weights for efficientnet-b7\n",
      "\n",
      "[INFO] Fold number: 1\n",
      "[INFO] Number of epochs: 50\n",
      "[INFO] Batch_size: 32\n",
      "[INFO] Number of bands: 4\n",
      "[INFO] Dropout rate: 0.5\n",
      "[INFO] Gamma learning rate: 0.75\n",
      "[INFO] Memory allocated: 0 bytes\n"
     ]
    },
    {
     "data": {
      "application/vnd.jupyter.widget-view+json": {
       "model_id": "bc7ec490b6c34b688a67a5f9dc417f71",
       "version_major": 2,
       "version_minor": 0
      },
      "text/plain": [
       "  0%|          | 0/50 [00:00<?, ?it/s]"
      ]
     },
     "metadata": {},
     "output_type": "display_data"
    },
    {
     "name": "stdout",
     "output_type": "stream",
     "text": [
      "Epoch: 1 \n",
      "Learning rate: 0.005\n",
      "Train loss: 0.9431 | Train precision: 0.4056 | Train recall: 0.3598 | Train f1score: 0.3670 | Train acc: 0.5090 | Train kappa: 0.2891 \n",
      "Val loss: 1.4356 | Val precision: 0.1529 | Val recall: 0.3608 | Val f1score: 0.2135 | Val acc: 0.3581 | Val kappa: 0.1125 \n",
      "\n",
      "Epoch: 2 \n",
      "Learning rate: 0.00375\n",
      "Train loss: 0.8431 | Train precision: 0.4964 | Train recall: 0.4630 | Train f1score: 0.4602 | Train acc: 0.5782 | Train kappa: 0.4780 \n",
      "Val loss: 0.9118 | Val precision: 0.4933 | Val recall: 0.3897 | Val f1score: 0.3081 | Val acc: 0.3919 | Val kappa: 0.1651 \n",
      "\n",
      "Epoch: 3 \n",
      "Learning rate: 0.0028125\n",
      "Train loss: 0.8077 | Train precision: 0.5239 | Train recall: 0.4971 | Train f1score: 0.4908 | Train acc: 0.5883 | Train kappa: 0.5127 \n",
      "Val loss: 0.7648 | Val precision: 0.4926 | Val recall: 0.3533 | Val f1score: 0.3658 | Val acc: 0.6166 | Val kappa: 0.3681 \n",
      "\n",
      "Epoch: 4 \n",
      "Learning rate: 0.002109375\n",
      "Train loss: 0.7885 | Train precision: 0.5819 | Train recall: 0.5315 | Train f1score: 0.5266 | Train acc: 0.6058 | Train kappa: 0.5471 \n",
      "Val loss: 0.6968 | Val precision: 0.6625 | Val recall: 0.5268 | Val f1score: 0.5540 | Val acc: 0.6681 | Val kappa: 0.5135 \n",
      "\n",
      "Epoch: 5 \n",
      "Learning rate: 0.00158203125\n",
      "Train loss: 0.7703 | Train precision: 0.6073 | Train recall: 0.5453 | Train f1score: 0.5425 | Train acc: 0.6178 | Train kappa: 0.5739 \n",
      "Val loss: 0.6893 | Val precision: 0.5064 | Val recall: 0.5830 | Val f1score: 0.5393 | Val acc: 0.6689 | Val kappa: 0.5465 \n",
      "\n",
      "Epoch: 6 \n",
      "Learning rate: 0.0011865234375\n",
      "Train loss: 0.7646 | Train precision: 0.6101 | Train recall: 0.5559 | Train f1score: 0.5507 | Train acc: 0.6245 | Train kappa: 0.5923 \n",
      "Val loss: 0.7122 | Val precision: 0.6423 | Val recall: 0.5520 | Val f1score: 0.5669 | Val acc: 0.6351 | Val kappa: 0.5079 \n",
      "\n",
      "Epoch: 7 \n",
      "Learning rate: 0.000889892578125\n",
      "Train loss: 0.7554 | Train precision: 0.6254 | Train recall: 0.5601 | Train f1score: 0.5619 | Train acc: 0.6175 | Train kappa: 0.5750 \n",
      "Val loss: 0.7319 | Val precision: 0.6474 | Val recall: 0.5804 | Val f1score: 0.5564 | Val acc: 0.5988 | Val kappa: 0.4819 \n",
      "\n",
      "Epoch: 8 \n",
      "Learning rate: 0.00066741943359375\n",
      "Train loss: 0.7345 | Train precision: 0.6520 | Train recall: 0.5794 | Train f1score: 0.5873 | Train acc: 0.6350 | Train kappa: 0.6101 \n",
      "Val loss: 0.6796 | Val precision: 0.6751 | Val recall: 0.5992 | Val f1score: 0.5668 | Val acc: 0.6706 | Val kappa: 0.5501 \n",
      "\n",
      "Epoch: 9 \n",
      "Learning rate: 0.0005005645751953125\n",
      "Train loss: 0.7312 | Train precision: 0.6512 | Train recall: 0.5808 | Train f1score: 0.5914 | Train acc: 0.6329 | Train kappa: 0.5970 \n",
      "Val loss: 0.6851 | Val precision: 0.5872 | Val recall: 0.6010 | Val f1score: 0.5678 | Val acc: 0.6512 | Val kappa: 0.5419 \n",
      "\n",
      "Epoch: 10 \n",
      "Learning rate: 0.0003754234313964844\n",
      "Train loss: 0.7146 | Train precision: 0.6776 | Train recall: 0.5910 | Train f1score: 0.6049 | Train acc: 0.6490 | Train kappa: 0.6098 \n",
      "Val loss: 0.6936 | Val precision: 0.5944 | Val recall: 0.6146 | Val f1score: 0.5815 | Val acc: 0.6529 | Val kappa: 0.5445 \n",
      "\n",
      "Epoch: 11 \n",
      "Learning rate: 0.0002815675735473633\n",
      "Train loss: 0.7256 | Train precision: 0.6736 | Train recall: 0.5947 | Train f1score: 0.6100 | Train acc: 0.6460 | Train kappa: 0.6236 \n",
      "Val loss: 0.6748 | Val precision: 0.5722 | Val recall: 0.5957 | Val f1score: 0.5735 | Val acc: 0.6765 | Val kappa: 0.5709 \n",
      "\n",
      "Epoch: 12 \n",
      "Learning rate: 0.00021117568016052246\n",
      "Train loss: 0.7180 | Train precision: 0.6892 | Train recall: 0.6003 | Train f1score: 0.6158 | Train acc: 0.6478 | Train kappa: 0.6114 \n",
      "Val loss: 0.6639 | Val precision: 0.5930 | Val recall: 0.5690 | Val f1score: 0.5595 | Val acc: 0.6807 | Val kappa: 0.5580 \n",
      "\n",
      "Epoch: 13 \n",
      "Learning rate: 0.00015838176012039184\n",
      "Train loss: 0.7217 | Train precision: 0.6729 | Train recall: 0.5989 | Train f1score: 0.6137 | Train acc: 0.6396 | Train kappa: 0.6163 \n",
      "Val loss: 0.6771 | Val precision: 0.5941 | Val recall: 0.6028 | Val f1score: 0.5919 | Val acc: 0.6672 | Val kappa: 0.5662 \n",
      "\n",
      "Epoch: 14 \n",
      "Learning rate: 0.00011878632009029388\n",
      "Train loss: 0.7139 | Train precision: 0.6814 | Train recall: 0.6033 | Train f1score: 0.6220 | Train acc: 0.6437 | Train kappa: 0.6105 \n",
      "Val loss: 0.6599 | Val precision: 0.6576 | Val recall: 0.5906 | Val f1score: 0.5970 | Val acc: 0.6858 | Val kappa: 0.5711 \n",
      "\n",
      "Epoch: 15 \n",
      "Learning rate: 8.908974006772042e-05\n",
      "Train loss: 0.7179 | Train precision: 0.6684 | Train recall: 0.5989 | Train f1score: 0.6143 | Train acc: 0.6401 | Train kappa: 0.5992 \n",
      "Val loss: 0.6792 | Val precision: 0.6383 | Val recall: 0.6207 | Val f1score: 0.6245 | Val acc: 0.6596 | Val kappa: 0.5556 \n",
      "\n",
      "Epoch: 16 \n",
      "Learning rate: 6.681730505079031e-05\n",
      "Train loss: 0.7138 | Train precision: 0.6858 | Train recall: 0.6076 | Train f1score: 0.6295 | Train acc: 0.6432 | Train kappa: 0.6164 \n",
      "Val loss: 0.6671 | Val precision: 0.6565 | Val recall: 0.6251 | Val f1score: 0.6325 | Val acc: 0.6765 | Val kappa: 0.5694 \n",
      "\n",
      "Epoch: 17 \n",
      "Learning rate: 5.0112978788092735e-05\n",
      "Train loss: 0.7009 | Train precision: 0.6804 | Train recall: 0.6093 | Train f1score: 0.6250 | Train acc: 0.6504 | Train kappa: 0.6224 \n",
      "Val loss: 0.6701 | Val precision: 0.6362 | Val recall: 0.6288 | Val f1score: 0.6273 | Val acc: 0.6706 | Val kappa: 0.5687 \n",
      "\n",
      "Epoch: 18 \n",
      "Learning rate: 3.758473409106955e-05\n",
      "Train loss: 0.7157 | Train precision: 0.6816 | Train recall: 0.5968 | Train f1score: 0.6186 | Train acc: 0.6390 | Train kappa: 0.6072 \n",
      "Val loss: 0.6619 | Val precision: 0.6449 | Val recall: 0.6293 | Val f1score: 0.6322 | Val acc: 0.6875 | Val kappa: 0.5868 \n",
      "\n",
      "Epoch: 19 \n",
      "Learning rate: 2.8188550568302163e-05\n",
      "Train loss: 0.7181 | Train precision: 0.6816 | Train recall: 0.6023 | Train f1score: 0.6212 | Train acc: 0.6404 | Train kappa: 0.6186 \n",
      "Val loss: 0.6636 | Val precision: 0.6453 | Val recall: 0.6211 | Val f1score: 0.6282 | Val acc: 0.6799 | Val kappa: 0.5742 \n",
      "\n",
      "Epoch: 20 \n",
      "Learning rate: 2.114141292622662e-05\n",
      "Train loss: 0.7112 | Train precision: 0.6957 | Train recall: 0.6091 | Train f1score: 0.6300 | Train acc: 0.6474 | Train kappa: 0.6228 \n",
      "Val loss: 0.6721 | Val precision: 0.6341 | Val recall: 0.6302 | Val f1score: 0.6281 | Val acc: 0.6757 | Val kappa: 0.5788 \n",
      "\n",
      "Epoch: 21 \n",
      "Learning rate: 1.5856059694669965e-05\n",
      "Train loss: 0.7007 | Train precision: 0.7062 | Train recall: 0.6153 | Train f1score: 0.6368 | Train acc: 0.6533 | Train kappa: 0.6165 \n",
      "Val loss: 0.6672 | Val precision: 0.6264 | Val recall: 0.6282 | Val f1score: 0.6249 | Val acc: 0.6774 | Val kappa: 0.5789 \n",
      "\n",
      "Epoch: 22 \n",
      "Learning rate: 1.1892044771002475e-05\n",
      "Train loss: 0.7036 | Train precision: 0.6892 | Train recall: 0.6138 | Train f1score: 0.6326 | Train acc: 0.6509 | Train kappa: 0.6244 \n",
      "Val loss: 0.6691 | Val precision: 0.6321 | Val recall: 0.6278 | Val f1score: 0.6261 | Val acc: 0.6731 | Val kappa: 0.5754 \n",
      "\n",
      "Epoch: 23 \n",
      "Learning rate: 8.919033578251857e-06\n",
      "Train loss: 0.7014 | Train precision: 0.6915 | Train recall: 0.6133 | Train f1score: 0.6330 | Train acc: 0.6483 | Train kappa: 0.6293 \n",
      "Val loss: 0.6655 | Val precision: 0.6386 | Val recall: 0.6162 | Val f1score: 0.6190 | Val acc: 0.6791 | Val kappa: 0.5735 \n",
      "\n",
      "Epoch: 24 \n",
      "Learning rate: 6.689275183688892e-06\n",
      "Train loss: 0.7063 | Train precision: 0.6952 | Train recall: 0.6110 | Train f1score: 0.6311 | Train acc: 0.6479 | Train kappa: 0.6078 \n",
      "Val loss: 0.6641 | Val precision: 0.6452 | Val recall: 0.6214 | Val f1score: 0.6283 | Val acc: 0.6791 | Val kappa: 0.5733 \n",
      "\n",
      "Epoch: 25 \n",
      "Learning rate: 5.016956387766669e-06\n",
      "Train loss: 0.6978 | Train precision: 0.6894 | Train recall: 0.6122 | Train f1score: 0.6290 | Train acc: 0.6453 | Train kappa: 0.6285 \n",
      "Val loss: 0.6624 | Val precision: 0.6513 | Val recall: 0.6226 | Val f1score: 0.6309 | Val acc: 0.6824 | Val kappa: 0.5764 \n",
      "\n",
      "Epoch: 26 \n",
      "Learning rate: 3.762717290825002e-06\n",
      "Train loss: 0.7036 | Train precision: 0.6972 | Train recall: 0.6128 | Train f1score: 0.6300 | Train acc: 0.6489 | Train kappa: 0.6118 \n",
      "Val loss: 0.6633 | Val precision: 0.6543 | Val recall: 0.6212 | Val f1score: 0.6303 | Val acc: 0.6774 | Val kappa: 0.5694 \n",
      "\n",
      "Early stopping after epoch 26\n"
     ]
    },
    {
     "data": {
      "text/html": [
       "Waiting for W&B process to finish... <strong style=\"color:green\">(success).</strong>"
      ],
      "text/plain": [
       "<IPython.core.display.HTML object>"
      ]
     },
     "metadata": {},
     "output_type": "display_data"
    },
    {
     "data": {
      "text/html": [
       "<style>\n",
       "    table.wandb td:nth-child(1) { padding: 0 10px; text-align: left ; width: auto;} td:nth-child(2) {text-align: left ; width: 100%}\n",
       "    .wandb-row { display: flex; flex-direction: row; flex-wrap: wrap; justify-content: flex-start; width: 100% }\n",
       "    .wandb-col { display: flex; flex-direction: column; flex-basis: 100%; flex: 1; padding: 10px; }\n",
       "    </style>\n",
       "<div class=\"wandb-row\"><div class=\"wandb-col\"><h3>Run history:</h3><br/><table class=\"wandb\"><tr><td>learning_rate</td><td>█▆▅▄▃▃▂▂▂▂▁▁▁▁▁▁▁▁▁▁▁▁▁▁▁▁</td></tr><tr><td>train_f1_score</td><td>▁▃▄▅▆▆▆▇▇▇▇▇▇█▇███████████</td></tr><tr><td>train_loss</td><td>█▅▄▄▃▃▃▂▂▁▂▂▂▁▂▁▁▂▂▁▁▁▁▁▁▁</td></tr><tr><td>val_f1_score</td><td>▁▃▄▇▆▇▇▇▇▇▇▇▇▇████████████</td></tr><tr><td>val_loss</td><td>█▃▂▁▁▁▂▁▁▁▁▁▁▁▁▁▁▁▁▁▁▁▁▁▁▁</td></tr></table><br/></div><div class=\"wandb-col\"><h3>Run summary:</h3><br/><table class=\"wandb\"><tr><td>learning_rate</td><td>0.0</td></tr><tr><td>train_f1_score</td><td>0.63002</td></tr><tr><td>train_loss</td><td>0.70357</td></tr><tr><td>val_f1_score</td><td>0.63029</td></tr><tr><td>val_loss</td><td>0.66334</td></tr></table><br/></div></div>"
      ],
      "text/plain": [
       "<IPython.core.display.HTML object>"
      ]
     },
     "metadata": {},
     "output_type": "display_data"
    },
    {
     "data": {
      "text/html": [
       " View run <strong style=\"color:#cdcd00\">fold_1_RGB-NIR_4classes</strong> at: <a href='https://wandb.ai/simon-ecke/wze-uav-4classes/runs/imz1jkfa' target=\"_blank\">https://wandb.ai/simon-ecke/wze-uav-4classes/runs/imz1jkfa</a><br/>Synced 5 W&B file(s), 0 media file(s), 0 artifact file(s) and 0 other file(s)"
      ],
      "text/plain": [
       "<IPython.core.display.HTML object>"
      ]
     },
     "metadata": {},
     "output_type": "display_data"
    },
    {
     "data": {
      "text/html": [
       "Find logs at: <code>.\\wandb\\run-20230422_103832-imz1jkfa\\logs</code>"
      ],
      "text/plain": [
       "<IPython.core.display.HTML object>"
      ]
     },
     "metadata": {},
     "output_type": "display_data"
    },
    {
     "name": "stdout",
     "output_type": "stream",
     "text": [
      "Deleting variables and emptying cache\n",
      "Memory allocated: 1046905856 bytes\n",
      "--------------------------------------------------\n",
      "\n",
      "Fold : 2\n",
      "TRAIN POSITIVE RATIO: 0.4656177621595719\n",
      "VAL POSITIVE RATIO  : 0.5019169329073483\n",
      "LENGTH TRAIN GROUPS : 4722\n",
      "LENGTH VAL GROUPS   : 1182\n"
     ]
    },
    {
     "data": {
      "text/html": [
       "wandb version 0.15.0 is available!  To upgrade, please run:\n",
       " $ pip install wandb --upgrade"
      ],
      "text/plain": [
       "<IPython.core.display.HTML object>"
      ]
     },
     "metadata": {},
     "output_type": "display_data"
    },
    {
     "data": {
      "text/html": [
       "Tracking run with wandb version 0.14.2"
      ],
      "text/plain": [
       "<IPython.core.display.HTML object>"
      ]
     },
     "metadata": {},
     "output_type": "display_data"
    },
    {
     "data": {
      "text/html": [
       "Run data is saved locally in <code>C:\\Users\\lwfeckesim\\01_PyTorch\\wze-uav\\wze-uav-master\\wandb\\run-20230422_125610-ye25da7a</code>"
      ],
      "text/plain": [
       "<IPython.core.display.HTML object>"
      ]
     },
     "metadata": {},
     "output_type": "display_data"
    },
    {
     "data": {
      "text/html": [
       "Syncing run <strong><a href='https://wandb.ai/simon-ecke/wze-uav-4classes/runs/ye25da7a' target=\"_blank\">fold_2_RGB-NIR_4classes</a></strong> to <a href='https://wandb.ai/simon-ecke/wze-uav-4classes' target=\"_blank\">Weights & Biases</a> (<a href='https://wandb.me/run' target=\"_blank\">docs</a>)<br/>"
      ],
      "text/plain": [
       "<IPython.core.display.HTML object>"
      ]
     },
     "metadata": {},
     "output_type": "display_data"
    },
    {
     "data": {
      "text/html": [
       " View project at <a href='https://wandb.ai/simon-ecke/wze-uav-4classes' target=\"_blank\">https://wandb.ai/simon-ecke/wze-uav-4classes</a>"
      ],
      "text/plain": [
       "<IPython.core.display.HTML object>"
      ]
     },
     "metadata": {},
     "output_type": "display_data"
    },
    {
     "data": {
      "text/html": [
       " View run at <a href='https://wandb.ai/simon-ecke/wze-uav-4classes/runs/ye25da7a' target=\"_blank\">https://wandb.ai/simon-ecke/wze-uav-4classes/runs/ye25da7a</a>"
      ],
      "text/plain": [
       "<IPython.core.display.HTML object>"
      ]
     },
     "metadata": {},
     "output_type": "display_data"
    },
    {
     "name": "stdout",
     "output_type": "stream",
     "text": [
      "There are no same hash_id values in train, val or test datasets. The datasplit was successful\n",
      "Check shapes:\n",
      "\n",
      "Images train dataset: (12521, 250, 250, 4)\n",
      "Labels train dataset: (12521, 1)\n",
      "\n",
      "Images validation dataset: (1182, 250, 250, 4)\n",
      "Labels validation dataset: (1182, 1)\n",
      "\n",
      "--------------------------------------------------\n",
      "Check if the split was stratified: (random_state=42)\n",
      "Healthy trees in train dataset: 7425\n",
      "Moderately stressed trees in train dataset: 4551\n",
      "Severely stressed trees in train dataset: 356\n",
      "Dead trees in train dataset: 189\n",
      "Healthy trees in validation dataset: 675\n",
      "Moderately stressed trees in validation dataset: 439\n",
      "Severely stressed trees in validation dataset: 41\n",
      "Dead trees in validation dataset: 27\n",
      "Ratio health trees in validation dataset: 0.0732421875\n",
      "Ratio moderately stressed trees in validation dataset: 0.07672142607479902\n",
      "Ratio severely stressed trees in validation dataset: 0.9543478260869566\n",
      "Ratio dead trees in validation dataset: 0.16205533596837945\n",
      "--------------------------------------------------\n",
      "\n",
      "Creating datasets for fold: 2\n",
      "\n",
      "Creating dataloaders for fold: 2\n",
      "\n",
      "Loaded pretrained weights for efficientnet-b7\n",
      "\n",
      "[INFO] Fold number: 2\n",
      "[INFO] Number of epochs: 50\n",
      "[INFO] Batch_size: 32\n",
      "[INFO] Number of bands: 4\n",
      "[INFO] Dropout rate: 0.5\n",
      "[INFO] Gamma learning rate: 0.75\n",
      "[INFO] Memory allocated: 0 bytes\n"
     ]
    },
    {
     "data": {
      "application/vnd.jupyter.widget-view+json": {
       "model_id": "bf95f9714f74416fb4d6e381ac27dc6a",
       "version_major": 2,
       "version_minor": 0
      },
      "text/plain": [
       "  0%|          | 0/50 [00:00<?, ?it/s]"
      ]
     },
     "metadata": {},
     "output_type": "display_data"
    },
    {
     "name": "stdout",
     "output_type": "stream",
     "text": [
      "Epoch: 1 \n",
      "Learning rate: 0.005\n",
      "Train loss: 0.9794 | Train precision: 0.3536 | Train recall: 0.3033 | Train f1score: 0.3111 | Train acc: 0.4887 | Train kappa: 0.1083 \n",
      "Val loss: 0.9020 | Val precision: 0.3415 | Val recall: 0.2828 | Val f1score: 0.2826 | Val acc: 0.5339 | Val kappa: 0.2117 \n",
      "\n",
      "Epoch: 2 \n",
      "Learning rate: 0.00375\n",
      "Train loss: 0.8408 | Train precision: 0.5253 | Train recall: 0.4825 | Train f1score: 0.4726 | Train acc: 0.5719 | Train kappa: 0.4446 \n",
      "Val loss: 1.5554 | Val precision: 0.7306 | Val recall: 0.4474 | Val f1score: 0.4168 | Val acc: 0.5929 | Val kappa: 0.3860 \n",
      "\n",
      "Epoch: 3 \n",
      "Learning rate: 0.0028125\n",
      "Train loss: 0.8120 | Train precision: 0.5326 | Train recall: 0.5160 | Train f1score: 0.4999 | Train acc: 0.5876 | Train kappa: 0.4985 \n",
      "Val loss: 0.7753 | Val precision: 0.4784 | Val recall: 0.5584 | Val f1score: 0.5062 | Val acc: 0.6120 | Val kappa: 0.5435 \n",
      "\n",
      "Epoch: 4 \n",
      "Learning rate: 0.002109375\n",
      "Train loss: 0.7833 | Train precision: 0.5905 | Train recall: 0.5364 | Train f1score: 0.5284 | Train acc: 0.6150 | Train kappa: 0.5327 \n",
      "Val loss: 1.0981 | Val precision: 0.4602 | Val recall: 0.5305 | Val f1score: 0.4031 | Val acc: 0.4931 | Val kappa: 0.4091 \n",
      "\n",
      "Epoch: 5 \n",
      "Learning rate: 0.00158203125\n",
      "Train loss: 0.7646 | Train precision: 0.6179 | Train recall: 0.5535 | Train f1score: 0.5491 | Train acc: 0.6235 | Train kappa: 0.5599 \n",
      "Val loss: 0.7949 | Val precision: 0.5301 | Val recall: 0.5549 | Val f1score: 0.4921 | Val acc: 0.5564 | Val kappa: 0.4488 \n",
      "\n",
      "Epoch: 6 \n",
      "Learning rate: 0.0011865234375\n",
      "Train loss: 0.7614 | Train precision: 0.6268 | Train recall: 0.5618 | Train f1score: 0.5593 | Train acc: 0.6230 | Train kappa: 0.5626 \n",
      "Val loss: 0.7001 | Val precision: 0.6072 | Val recall: 0.5709 | Val f1score: 0.5622 | Val acc: 0.6363 | Val kappa: 0.5681 \n",
      "\n",
      "Epoch: 7 \n",
      "Learning rate: 0.000889892578125\n",
      "Train loss: 0.7493 | Train precision: 0.6357 | Train recall: 0.5712 | Train f1score: 0.5721 | Train acc: 0.6243 | Train kappa: 0.5710 \n",
      "Val loss: 0.7890 | Val precision: 0.5565 | Val recall: 0.5486 | Val f1score: 0.5115 | Val acc: 0.5729 | Val kappa: 0.4859 \n",
      "\n",
      "Epoch: 8 \n",
      "Learning rate: 0.00066741943359375\n",
      "Train loss: 0.7374 | Train precision: 0.6543 | Train recall: 0.5768 | Train f1score: 0.5859 | Train acc: 0.6332 | Train kappa: 0.5854 \n",
      "Val loss: 0.6976 | Val precision: 0.6113 | Val recall: 0.5385 | Val f1score: 0.5618 | Val acc: 0.6432 | Val kappa: 0.5692 \n",
      "\n",
      "Epoch: 9 \n",
      "Learning rate: 0.0005005645751953125\n",
      "Train loss: 0.7466 | Train precision: 0.6359 | Train recall: 0.5713 | Train f1score: 0.5755 | Train acc: 0.6264 | Train kappa: 0.5791 \n",
      "Val loss: 0.7312 | Val precision: 0.5444 | Val recall: 0.5729 | Val f1score: 0.5417 | Val acc: 0.6102 | Val kappa: 0.5468 \n",
      "\n",
      "Epoch: 10 \n",
      "Learning rate: 0.0003754234313964844\n",
      "Train loss: 0.7320 | Train precision: 0.6331 | Train recall: 0.5761 | Train f1score: 0.5813 | Train acc: 0.6355 | Train kappa: 0.5931 \n",
      "Val loss: 0.6992 | Val precision: 0.6002 | Val recall: 0.5743 | Val f1score: 0.5771 | Val acc: 0.6389 | Val kappa: 0.5745 \n",
      "\n",
      "Epoch: 11 \n",
      "Learning rate: 0.0002815675735473633\n",
      "Train loss: 0.7237 | Train precision: 0.6637 | Train recall: 0.5914 | Train f1score: 0.6023 | Train acc: 0.6362 | Train kappa: 0.5918 \n",
      "Val loss: 0.7301 | Val precision: 0.5910 | Val recall: 0.5690 | Val f1score: 0.5633 | Val acc: 0.6007 | Val kappa: 0.5361 \n",
      "\n",
      "Epoch: 12 \n",
      "Learning rate: 0.00021117568016052246\n",
      "Train loss: 0.7225 | Train precision: 0.6791 | Train recall: 0.5899 | Train f1score: 0.6022 | Train acc: 0.6393 | Train kappa: 0.5978 \n",
      "Val loss: 0.7227 | Val precision: 0.5863 | Val recall: 0.5772 | Val f1score: 0.5706 | Val acc: 0.6016 | Val kappa: 0.5418 \n",
      "\n",
      "Epoch: 13 \n",
      "Learning rate: 0.00015838176012039184\n",
      "Train loss: 0.7167 | Train precision: 0.6762 | Train recall: 0.6028 | Train f1score: 0.6144 | Train acc: 0.6452 | Train kappa: 0.6002 \n",
      "Val loss: 0.7081 | Val precision: 0.6133 | Val recall: 0.5631 | Val f1score: 0.5770 | Val acc: 0.6207 | Val kappa: 0.5526 \n",
      "\n",
      "Epoch: 14 \n",
      "Learning rate: 0.00011878632009029388\n",
      "Train loss: 0.7107 | Train precision: 0.6733 | Train recall: 0.6038 | Train f1score: 0.6163 | Train acc: 0.6444 | Train kappa: 0.5982 \n",
      "Val loss: 0.7384 | Val precision: 0.6362 | Val recall: 0.5812 | Val f1score: 0.5875 | Val acc: 0.6033 | Val kappa: 0.5332 \n",
      "\n",
      "Epoch: 15 \n",
      "Learning rate: 8.908974006772042e-05\n",
      "Train loss: 0.7132 | Train precision: 0.6640 | Train recall: 0.5973 | Train f1score: 0.6108 | Train acc: 0.6499 | Train kappa: 0.6140 \n",
      "Val loss: 0.7150 | Val precision: 0.6065 | Val recall: 0.5684 | Val f1score: 0.5766 | Val acc: 0.6285 | Val kappa: 0.5620 \n",
      "\n",
      "Epoch: 16 \n",
      "Learning rate: 6.681730505079031e-05\n",
      "Train loss: 0.7161 | Train precision: 0.6703 | Train recall: 0.5928 | Train f1score: 0.6044 | Train acc: 0.6435 | Train kappa: 0.5971 \n",
      "Val loss: 0.7207 | Val precision: 0.6406 | Val recall: 0.5709 | Val f1score: 0.5826 | Val acc: 0.6233 | Val kappa: 0.5502 \n",
      "\n",
      "Epoch: 17 \n",
      "Learning rate: 5.0112978788092735e-05\n",
      "Train loss: 0.7150 | Train precision: 0.7056 | Train recall: 0.6075 | Train f1score: 0.6255 | Train acc: 0.6503 | Train kappa: 0.6047 \n",
      "Val loss: 0.7071 | Val precision: 0.6299 | Val recall: 0.5789 | Val f1score: 0.5965 | Val acc: 0.6354 | Val kappa: 0.5698 \n",
      "\n",
      "Epoch: 18 \n",
      "Learning rate: 3.758473409106955e-05\n",
      "Train loss: 0.7120 | Train precision: 0.6864 | Train recall: 0.6086 | Train f1score: 0.6283 | Train acc: 0.6447 | Train kappa: 0.6119 \n",
      "Val loss: 0.7116 | Val precision: 0.6017 | Val recall: 0.5848 | Val f1score: 0.5792 | Val acc: 0.6198 | Val kappa: 0.5615 \n",
      "\n",
      "Epoch: 19 \n",
      "Learning rate: 2.8188550568302163e-05\n",
      "Train loss: 0.7059 | Train precision: 0.6903 | Train recall: 0.6185 | Train f1score: 0.6335 | Train acc: 0.6461 | Train kappa: 0.6007 \n",
      "Val loss: 0.7214 | Val precision: 0.6034 | Val recall: 0.5652 | Val f1score: 0.5678 | Val acc: 0.6111 | Val kappa: 0.5457 \n",
      "\n",
      "Epoch: 20 \n",
      "Learning rate: 2.114141292622662e-05\n",
      "Train loss: 0.7089 | Train precision: 0.6915 | Train recall: 0.6302 | Train f1score: 0.6444 | Train acc: 0.6549 | Train kappa: 0.6166 \n",
      "Val loss: 0.7218 | Val precision: 0.6227 | Val recall: 0.5728 | Val f1score: 0.5835 | Val acc: 0.6198 | Val kappa: 0.5505 \n",
      "\n",
      "Epoch: 21 \n",
      "Learning rate: 1.5856059694669965e-05\n",
      "Train loss: 0.7159 | Train precision: 0.6785 | Train recall: 0.6050 | Train f1score: 0.6241 | Train acc: 0.6479 | Train kappa: 0.6161 \n",
      "Val loss: 0.7323 | Val precision: 0.6284 | Val recall: 0.5726 | Val f1score: 0.5832 | Val acc: 0.6163 | Val kappa: 0.5445 \n",
      "\n",
      "Epoch: 22 \n",
      "Learning rate: 1.1892044771002475e-05\n",
      "Train loss: 0.7106 | Train precision: 0.6975 | Train recall: 0.6174 | Train f1score: 0.6371 | Train acc: 0.6469 | Train kappa: 0.6067 \n",
      "Val loss: 0.7233 | Val precision: 0.6062 | Val recall: 0.5701 | Val f1score: 0.5754 | Val acc: 0.6146 | Val kappa: 0.5459 \n",
      "\n",
      "Epoch: 23 \n",
      "Learning rate: 8.919033578251857e-06\n",
      "Train loss: 0.7102 | Train precision: 0.6773 | Train recall: 0.6050 | Train f1score: 0.6235 | Train acc: 0.6469 | Train kappa: 0.6082 \n",
      "Val loss: 0.7313 | Val precision: 0.6303 | Val recall: 0.5757 | Val f1score: 0.5875 | Val acc: 0.6250 | Val kappa: 0.5548 \n",
      "\n",
      "Epoch: 24 \n",
      "Learning rate: 6.689275183688892e-06\n",
      "Train loss: 0.7089 | Train precision: 0.6812 | Train recall: 0.6086 | Train f1score: 0.6229 | Train acc: 0.6515 | Train kappa: 0.6107 \n",
      "Val loss: 0.7982 | Val precision: 0.6213 | Val recall: 0.5724 | Val f1score: 0.5842 | Val acc: 0.6215 | Val kappa: 0.5497 \n",
      "\n",
      "Epoch: 25 \n",
      "Learning rate: 5.016956387766669e-06\n",
      "Train loss: 0.6983 | Train precision: 0.7061 | Train recall: 0.6232 | Train f1score: 0.6416 | Train acc: 0.6577 | Train kappa: 0.6192 \n",
      "Val loss: 0.7368 | Val precision: 0.6102 | Val recall: 0.5684 | Val f1score: 0.5751 | Val acc: 0.6233 | Val kappa: 0.5547 \n",
      "\n",
      "Epoch: 26 \n",
      "Learning rate: 3.762717290825002e-06\n",
      "Train loss: 0.7171 | Train precision: 0.6794 | Train recall: 0.6091 | Train f1score: 0.6229 | Train acc: 0.6427 | Train kappa: 0.5926 \n",
      "Val loss: 0.7650 | Val precision: 0.6223 | Val recall: 0.5738 | Val f1score: 0.5859 | Val acc: 0.6250 | Val kappa: 0.5538 \n",
      "\n",
      "Epoch: 27 \n",
      "Learning rate: 2.8220379681187514e-06\n",
      "Train loss: 0.7136 | Train precision: 0.6919 | Train recall: 0.6068 | Train f1score: 0.6264 | Train acc: 0.6471 | Train kappa: 0.6150 \n",
      "Val loss: 0.7372 | Val precision: 0.6257 | Val recall: 0.5742 | Val f1score: 0.5862 | Val acc: 0.6241 | Val kappa: 0.5548 \n",
      "\n",
      "Early stopping after epoch 27\n"
     ]
    },
    {
     "data": {
      "text/html": [
       "Waiting for W&B process to finish... <strong style=\"color:green\">(success).</strong>"
      ],
      "text/plain": [
       "<IPython.core.display.HTML object>"
      ]
     },
     "metadata": {},
     "output_type": "display_data"
    },
    {
     "data": {
      "application/vnd.jupyter.widget-view+json": {
       "model_id": "33dad5df171444ac8f697f1cf0a50c37",
       "version_major": 2,
       "version_minor": 0
      },
      "text/plain": [
       "VBox(children=(Label(value='0.001 MB of 0.013 MB uploaded (0.000 MB deduped)\\r'), FloatProgress(value=0.093422…"
      ]
     },
     "metadata": {},
     "output_type": "display_data"
    },
    {
     "data": {
      "text/html": [
       "<style>\n",
       "    table.wandb td:nth-child(1) { padding: 0 10px; text-align: left ; width: auto;} td:nth-child(2) {text-align: left ; width: 100%}\n",
       "    .wandb-row { display: flex; flex-direction: row; flex-wrap: wrap; justify-content: flex-start; width: 100% }\n",
       "    .wandb-col { display: flex; flex-direction: column; flex-basis: 100%; flex: 1; padding: 10px; }\n",
       "    </style>\n",
       "<div class=\"wandb-row\"><div class=\"wandb-col\"><h3>Run history:</h3><br/><table class=\"wandb\"><tr><td>learning_rate</td><td>█▆▅▄▃▃▂▂▂▂▁▁▁▁▁▁▁▁▁▁▁▁▁▁▁▁▁</td></tr><tr><td>train_f1_score</td><td>▁▄▅▆▆▆▆▇▇▇▇▇▇▇▇▇███████████</td></tr><tr><td>train_loss</td><td>█▅▄▃▃▃▂▂▂▂▂▂▁▁▁▁▁▁▁▁▁▁▁▁▁▁▁</td></tr><tr><td>val_f1_score</td><td>▁▄▆▄▆▇▆▇▇█▇▇██████▇████████</td></tr><tr><td>val_loss</td><td>▃█▂▄▂▁▂▁▁▁▁▁▁▁▁▁▁▁▁▁▁▁▁▂▁▂▁</td></tr></table><br/></div><div class=\"wandb-col\"><h3>Run summary:</h3><br/><table class=\"wandb\"><tr><td>learning_rate</td><td>0.0</td></tr><tr><td>train_f1_score</td><td>0.62638</td></tr><tr><td>train_loss</td><td>0.71365</td></tr><tr><td>val_f1_score</td><td>0.5862</td></tr><tr><td>val_loss</td><td>0.73716</td></tr></table><br/></div></div>"
      ],
      "text/plain": [
       "<IPython.core.display.HTML object>"
      ]
     },
     "metadata": {},
     "output_type": "display_data"
    },
    {
     "data": {
      "text/html": [
       " View run <strong style=\"color:#cdcd00\">fold_2_RGB-NIR_4classes</strong> at: <a href='https://wandb.ai/simon-ecke/wze-uav-4classes/runs/ye25da7a' target=\"_blank\">https://wandb.ai/simon-ecke/wze-uav-4classes/runs/ye25da7a</a><br/>Synced 5 W&B file(s), 0 media file(s), 0 artifact file(s) and 0 other file(s)"
      ],
      "text/plain": [
       "<IPython.core.display.HTML object>"
      ]
     },
     "metadata": {},
     "output_type": "display_data"
    },
    {
     "data": {
      "text/html": [
       "Find logs at: <code>.\\wandb\\run-20230422_125610-ye25da7a\\logs</code>"
      ],
      "text/plain": [
       "<IPython.core.display.HTML object>"
      ]
     },
     "metadata": {},
     "output_type": "display_data"
    },
    {
     "name": "stdout",
     "output_type": "stream",
     "text": [
      "Deleting variables and emptying cache\n",
      "Memory allocated: 1053533184 bytes\n",
      "--------------------------------------------------\n",
      "\n",
      "Fold : 3\n",
      "TRAIN POSITIVE RATIO: 0.4734866634722888\n",
      "VAL POSITIVE RATIO  : 0.47043783956535634\n",
      "LENGTH TRAIN GROUPS : 4722\n",
      "LENGTH VAL GROUPS   : 1182\n"
     ]
    },
    {
     "data": {
      "text/html": [
       "wandb version 0.15.0 is available!  To upgrade, please run:\n",
       " $ pip install wandb --upgrade"
      ],
      "text/plain": [
       "<IPython.core.display.HTML object>"
      ]
     },
     "metadata": {},
     "output_type": "display_data"
    },
    {
     "data": {
      "text/html": [
       "Tracking run with wandb version 0.14.2"
      ],
      "text/plain": [
       "<IPython.core.display.HTML object>"
      ]
     },
     "metadata": {},
     "output_type": "display_data"
    },
    {
     "data": {
      "text/html": [
       "Run data is saved locally in <code>C:\\Users\\lwfeckesim\\01_PyTorch\\wze-uav\\wze-uav-master\\wandb\\run-20230422_151954-id73h5cg</code>"
      ],
      "text/plain": [
       "<IPython.core.display.HTML object>"
      ]
     },
     "metadata": {},
     "output_type": "display_data"
    },
    {
     "data": {
      "text/html": [
       "Syncing run <strong><a href='https://wandb.ai/simon-ecke/wze-uav-4classes/runs/id73h5cg' target=\"_blank\">fold_3_RGB-NIR_4classes</a></strong> to <a href='https://wandb.ai/simon-ecke/wze-uav-4classes' target=\"_blank\">Weights & Biases</a> (<a href='https://wandb.me/run' target=\"_blank\">docs</a>)<br/>"
      ],
      "text/plain": [
       "<IPython.core.display.HTML object>"
      ]
     },
     "metadata": {},
     "output_type": "display_data"
    },
    {
     "data": {
      "text/html": [
       " View project at <a href='https://wandb.ai/simon-ecke/wze-uav-4classes' target=\"_blank\">https://wandb.ai/simon-ecke/wze-uav-4classes</a>"
      ],
      "text/plain": [
       "<IPython.core.display.HTML object>"
      ]
     },
     "metadata": {},
     "output_type": "display_data"
    },
    {
     "data": {
      "text/html": [
       " View run at <a href='https://wandb.ai/simon-ecke/wze-uav-4classes/runs/id73h5cg' target=\"_blank\">https://wandb.ai/simon-ecke/wze-uav-4classes/runs/id73h5cg</a>"
      ],
      "text/plain": [
       "<IPython.core.display.HTML object>"
      ]
     },
     "metadata": {},
     "output_type": "display_data"
    },
    {
     "name": "stdout",
     "output_type": "stream",
     "text": [
      "There are no same hash_id values in train, val or test datasets. The datasplit was successful\n",
      "Check shapes:\n",
      "\n",
      "Images train dataset: (12522, 250, 250, 4)\n",
      "Labels train dataset: (12522, 1)\n",
      "\n",
      "Images validation dataset: (1183, 250, 250, 4)\n",
      "Labels validation dataset: (1183, 1)\n",
      "\n",
      "--------------------------------------------------\n",
      "Check if the split was stratified: (random_state=42)\n",
      "Healthy trees in train dataset: 7357\n",
      "Moderately stressed trees in train dataset: 4601\n",
      "Severely stressed trees in train dataset: 364\n",
      "Dead trees in train dataset: 200\n",
      "Healthy trees in validation dataset: 691\n",
      "Moderately stressed trees in validation dataset: 431\n",
      "Severely stressed trees in validation dataset: 38\n",
      "Dead trees in validation dataset: 23\n",
      "Ratio health trees in validation dataset: 0.0749782986111111\n",
      "Ratio moderately stressed trees in validation dataset: 0.0753233135267389\n",
      "Ratio severely stressed trees in validation dataset: 0.9369565217391305\n",
      "Ratio dead trees in validation dataset: 0.15019762845849802\n",
      "--------------------------------------------------\n",
      "\n",
      "Creating datasets for fold: 3\n",
      "\n",
      "Creating dataloaders for fold: 3\n",
      "\n",
      "Loaded pretrained weights for efficientnet-b7\n",
      "\n",
      "[INFO] Fold number: 3\n",
      "[INFO] Number of epochs: 50\n",
      "[INFO] Batch_size: 32\n",
      "[INFO] Number of bands: 4\n",
      "[INFO] Dropout rate: 0.5\n",
      "[INFO] Gamma learning rate: 0.75\n",
      "[INFO] Memory allocated: 0 bytes\n"
     ]
    },
    {
     "data": {
      "application/vnd.jupyter.widget-view+json": {
       "model_id": "f462a4f93e55458dad7bffa003acde3f",
       "version_major": 2,
       "version_minor": 0
      },
      "text/plain": [
       "  0%|          | 0/50 [00:00<?, ?it/s]"
      ]
     },
     "metadata": {},
     "output_type": "display_data"
    },
    {
     "name": "stdout",
     "output_type": "stream",
     "text": [
      "Epoch: 1 \n",
      "Learning rate: 0.005\n",
      "Train loss: 0.9667 | Train precision: 0.4230 | Train recall: 0.3522 | Train f1score: 0.3625 | Train acc: 0.5086 | Train kappa: 0.2370 \n",
      "Val loss: 1.0266 | Val precision: 0.2959 | Val recall: 0.2614 | Val f1score: 0.1705 | Val acc: 0.4028 | Val kappa: 0.0461 \n",
      "\n",
      "Epoch: 2 \n",
      "Learning rate: 0.00375\n",
      "Train loss: 0.8344 | Train precision: 0.4892 | Train recall: 0.4743 | Train f1score: 0.4707 | Train acc: 0.5786 | Train kappa: 0.4615 \n",
      "Val loss: 0.8951 | Val precision: 0.2508 | Val recall: 0.2652 | Val f1score: 0.2508 | Val acc: 0.5599 | Val kappa: 0.1928 \n",
      "\n",
      "Epoch: 3 \n",
      "Learning rate: 0.0028125\n",
      "Train loss: 0.8066 | Train precision: 0.5395 | Train recall: 0.5220 | Train f1score: 0.5062 | Train acc: 0.5947 | Train kappa: 0.5283 \n",
      "Val loss: 0.8424 | Val precision: 0.5698 | Val recall: 0.3320 | Val f1score: 0.3119 | Val acc: 0.5660 | Val kappa: 0.3387 \n",
      "\n",
      "Epoch: 4 \n",
      "Learning rate: 0.002109375\n",
      "Train loss: 0.7757 | Train precision: 0.5792 | Train recall: 0.5384 | Train f1score: 0.5331 | Train acc: 0.6061 | Train kappa: 0.5542 \n",
      "Val loss: 0.9620 | Val precision: 0.4299 | Val recall: 0.3138 | Val f1score: 0.2849 | Val acc: 0.4219 | Val kappa: 0.2028 \n",
      "\n",
      "Epoch: 5 \n",
      "Learning rate: 0.00158203125\n",
      "Train loss: 0.7715 | Train precision: 0.5953 | Train recall: 0.5479 | Train f1score: 0.5467 | Train acc: 0.6158 | Train kappa: 0.5638 \n",
      "Val loss: 0.7754 | Val precision: 0.6885 | Val recall: 0.5754 | Val f1score: 0.5840 | Val acc: 0.6233 | Val kappa: 0.5004 \n",
      "\n",
      "Epoch: 6 \n",
      "Learning rate: 0.0011865234375\n",
      "Train loss: 0.7562 | Train precision: 0.6138 | Train recall: 0.5602 | Train f1score: 0.5567 | Train acc: 0.6252 | Train kappa: 0.5757 \n",
      "Val loss: 0.7231 | Val precision: 0.5894 | Val recall: 0.5678 | Val f1score: 0.5559 | Val acc: 0.6415 | Val kappa: 0.5355 \n",
      "\n",
      "Epoch: 7 \n",
      "Learning rate: 0.000889892578125\n",
      "Train loss: 0.7398 | Train precision: 0.6344 | Train recall: 0.5708 | Train f1score: 0.5743 | Train acc: 0.6310 | Train kappa: 0.5933 \n",
      "Val loss: 0.8032 | Val precision: 0.5883 | Val recall: 0.5790 | Val f1score: 0.5393 | Val acc: 0.5929 | Val kappa: 0.4890 \n",
      "\n",
      "Epoch: 8 \n",
      "Learning rate: 0.00066741943359375\n",
      "Train loss: 0.7414 | Train precision: 0.6591 | Train recall: 0.5714 | Train f1score: 0.5818 | Train acc: 0.6311 | Train kappa: 0.5834 \n",
      "Val loss: 0.7094 | Val precision: 0.6047 | Val recall: 0.5544 | Val f1score: 0.5462 | Val acc: 0.6476 | Val kappa: 0.5325 \n",
      "\n",
      "Epoch: 9 \n",
      "Learning rate: 0.0005005645751953125\n",
      "Train loss: 0.7375 | Train precision: 0.6198 | Train recall: 0.5745 | Train f1score: 0.5724 | Train acc: 0.6333 | Train kappa: 0.5875 \n",
      "Val loss: 0.7237 | Val precision: 0.6004 | Val recall: 0.5864 | Val f1score: 0.5723 | Val acc: 0.6345 | Val kappa: 0.5247 \n",
      "\n",
      "Epoch: 10 \n",
      "Learning rate: 0.0003754234313964844\n",
      "Train loss: 0.7330 | Train precision: 0.6378 | Train recall: 0.5749 | Train f1score: 0.5800 | Train acc: 0.6295 | Train kappa: 0.6001 \n",
      "Val loss: 0.7146 | Val precision: 0.6436 | Val recall: 0.5816 | Val f1score: 0.5893 | Val acc: 0.6372 | Val kappa: 0.5199 \n",
      "\n",
      "Epoch: 11 \n",
      "Learning rate: 0.0002815675735473633\n",
      "Train loss: 0.7252 | Train precision: 0.6825 | Train recall: 0.6016 | Train f1score: 0.6151 | Train acc: 0.6373 | Train kappa: 0.6111 \n",
      "Val loss: 0.7170 | Val precision: 0.5733 | Val recall: 0.6181 | Val f1score: 0.5924 | Val acc: 0.6363 | Val kappa: 0.5381 \n",
      "\n",
      "Epoch: 12 \n",
      "Learning rate: 0.00021117568016052246\n",
      "Train loss: 0.7174 | Train precision: 0.6770 | Train recall: 0.6123 | Train f1score: 0.6278 | Train acc: 0.6422 | Train kappa: 0.6175 \n",
      "Val loss: 0.7312 | Val precision: 0.5938 | Val recall: 0.6116 | Val f1score: 0.5937 | Val acc: 0.6337 | Val kappa: 0.5331 \n",
      "\n",
      "Epoch: 13 \n",
      "Learning rate: 0.00015838176012039184\n",
      "Train loss: 0.7224 | Train precision: 0.6598 | Train recall: 0.5959 | Train f1score: 0.6043 | Train acc: 0.6454 | Train kappa: 0.6107 \n",
      "Val loss: 0.7246 | Val precision: 0.5847 | Val recall: 0.6028 | Val f1score: 0.5858 | Val acc: 0.6328 | Val kappa: 0.5311 \n",
      "\n",
      "Epoch: 14 \n",
      "Learning rate: 0.00011878632009029388\n",
      "Train loss: 0.7258 | Train precision: 0.6606 | Train recall: 0.5957 | Train f1score: 0.6055 | Train acc: 0.6336 | Train kappa: 0.6033 \n",
      "Val loss: 0.7115 | Val precision: 0.5870 | Val recall: 0.5792 | Val f1score: 0.5626 | Val acc: 0.6328 | Val kappa: 0.5278 \n",
      "\n",
      "Epoch: 15 \n",
      "Learning rate: 8.908974006772042e-05\n",
      "Train loss: 0.7187 | Train precision: 0.6611 | Train recall: 0.5936 | Train f1score: 0.6031 | Train acc: 0.6404 | Train kappa: 0.6064 \n",
      "Val loss: 0.7086 | Val precision: 0.5960 | Val recall: 0.6008 | Val f1score: 0.5895 | Val acc: 0.6528 | Val kappa: 0.5492 \n",
      "\n",
      "Epoch: 16 \n",
      "Learning rate: 6.681730505079031e-05\n",
      "Train loss: 0.7227 | Train precision: 0.6850 | Train recall: 0.5942 | Train f1score: 0.6110 | Train acc: 0.6377 | Train kappa: 0.6095 \n",
      "Val loss: 0.7210 | Val precision: 0.5961 | Val recall: 0.6039 | Val f1score: 0.5884 | Val acc: 0.6311 | Val kappa: 0.5353 \n",
      "\n",
      "Epoch: 17 \n",
      "Learning rate: 5.0112978788092735e-05\n",
      "Train loss: 0.7237 | Train precision: 0.6747 | Train recall: 0.6043 | Train f1score: 0.6183 | Train acc: 0.6397 | Train kappa: 0.6126 \n",
      "Val loss: 0.7145 | Val precision: 0.5988 | Val recall: 0.6099 | Val f1score: 0.5974 | Val acc: 0.6354 | Val kappa: 0.5441 \n",
      "\n",
      "Epoch: 18 \n",
      "Learning rate: 3.758473409106955e-05\n",
      "Train loss: 0.7180 | Train precision: 0.6863 | Train recall: 0.6107 | Train f1score: 0.6256 | Train acc: 0.6420 | Train kappa: 0.6098 \n",
      "Val loss: 0.7139 | Val precision: 0.5949 | Val recall: 0.6094 | Val f1score: 0.5947 | Val acc: 0.6372 | Val kappa: 0.5449 \n",
      "\n",
      "Epoch: 19 \n",
      "Learning rate: 2.8188550568302163e-05\n",
      "Train loss: 0.7123 | Train precision: 0.6793 | Train recall: 0.6065 | Train f1score: 0.6230 | Train acc: 0.6437 | Train kappa: 0.6238 \n",
      "Val loss: 0.7144 | Val precision: 0.5969 | Val recall: 0.6115 | Val f1score: 0.5964 | Val acc: 0.6398 | Val kappa: 0.5479 \n",
      "\n",
      "Epoch: 20 \n",
      "Learning rate: 2.114141292622662e-05\n",
      "Train loss: 0.7227 | Train precision: 0.6864 | Train recall: 0.6032 | Train f1score: 0.6223 | Train acc: 0.6344 | Train kappa: 0.5995 \n",
      "Val loss: 0.7194 | Val precision: 0.5975 | Val recall: 0.6085 | Val f1score: 0.5941 | Val acc: 0.6328 | Val kappa: 0.5391 \n",
      "\n",
      "Epoch: 21 \n",
      "Learning rate: 1.5856059694669965e-05\n",
      "Train loss: 0.7226 | Train precision: 0.6748 | Train recall: 0.6038 | Train f1score: 0.6193 | Train acc: 0.6337 | Train kappa: 0.5919 \n",
      "Val loss: 0.7124 | Val precision: 0.6001 | Val recall: 0.6052 | Val f1score: 0.5944 | Val acc: 0.6389 | Val kappa: 0.5453 \n",
      "\n",
      "Epoch: 22 \n",
      "Learning rate: 1.1892044771002475e-05\n",
      "Train loss: 0.7142 | Train precision: 0.6706 | Train recall: 0.5997 | Train f1score: 0.6146 | Train acc: 0.6435 | Train kappa: 0.6127 \n",
      "Val loss: 0.7147 | Val precision: 0.6048 | Val recall: 0.6063 | Val f1score: 0.5963 | Val acc: 0.6406 | Val kappa: 0.5434 \n",
      "\n",
      "Epoch: 23 \n",
      "Learning rate: 8.919033578251857e-06\n",
      "Train loss: 0.7162 | Train precision: 0.6715 | Train recall: 0.6079 | Train f1score: 0.6200 | Train acc: 0.6443 | Train kappa: 0.6155 \n",
      "Val loss: 0.7133 | Val precision: 0.6044 | Val recall: 0.6060 | Val f1score: 0.5959 | Val acc: 0.6398 | Val kappa: 0.5424 \n",
      "\n",
      "Epoch: 24 \n",
      "Learning rate: 6.689275183688892e-06\n",
      "Train loss: 0.7144 | Train precision: 0.6855 | Train recall: 0.6018 | Train f1score: 0.6195 | Train acc: 0.6492 | Train kappa: 0.6186 \n",
      "Val loss: 0.7122 | Val precision: 0.5892 | Val recall: 0.5941 | Val f1score: 0.5825 | Val acc: 0.6424 | Val kappa: 0.5436 \n",
      "\n",
      "Epoch: 25 \n",
      "Learning rate: 5.016956387766669e-06\n",
      "Train loss: 0.7187 | Train precision: 0.6781 | Train recall: 0.5964 | Train f1score: 0.6127 | Train acc: 0.6359 | Train kappa: 0.6062 \n",
      "Val loss: 0.7154 | Val precision: 0.6010 | Val recall: 0.6051 | Val f1score: 0.5918 | Val acc: 0.6372 | Val kappa: 0.5413 \n",
      "\n",
      "Epoch: 26 \n",
      "Learning rate: 3.762717290825002e-06\n",
      "Train loss: 0.7230 | Train precision: 0.6810 | Train recall: 0.6022 | Train f1score: 0.6171 | Train acc: 0.6395 | Train kappa: 0.6031 \n",
      "Val loss: 0.7152 | Val precision: 0.5956 | Val recall: 0.5982 | Val f1score: 0.5874 | Val acc: 0.6372 | Val kappa: 0.5415 \n",
      "\n",
      "Epoch: 27 \n",
      "Learning rate: 2.8220379681187514e-06\n",
      "Train loss: 0.7197 | Train precision: 0.6822 | Train recall: 0.6051 | Train f1score: 0.6189 | Train acc: 0.6431 | Train kappa: 0.6104 \n",
      "Val loss: 0.7167 | Val precision: 0.5985 | Val recall: 0.6035 | Val f1score: 0.5924 | Val acc: 0.6345 | Val kappa: 0.5404 \n",
      "\n",
      "Early stopping after epoch 27\n"
     ]
    },
    {
     "data": {
      "text/html": [
       "Waiting for W&B process to finish... <strong style=\"color:green\">(success).</strong>"
      ],
      "text/plain": [
       "<IPython.core.display.HTML object>"
      ]
     },
     "metadata": {},
     "output_type": "display_data"
    },
    {
     "data": {
      "application/vnd.jupyter.widget-view+json": {
       "model_id": "24ef5cf8f44b42409882588fb29c44c6",
       "version_major": 2,
       "version_minor": 0
      },
      "text/plain": [
       "VBox(children=(Label(value='0.001 MB of 0.001 MB uploaded (0.000 MB deduped)\\r'), FloatProgress(value=1.0, max…"
      ]
     },
     "metadata": {},
     "output_type": "display_data"
    },
    {
     "data": {
      "text/html": [
       "<style>\n",
       "    table.wandb td:nth-child(1) { padding: 0 10px; text-align: left ; width: auto;} td:nth-child(2) {text-align: left ; width: 100%}\n",
       "    .wandb-row { display: flex; flex-direction: row; flex-wrap: wrap; justify-content: flex-start; width: 100% }\n",
       "    .wandb-col { display: flex; flex-direction: column; flex-basis: 100%; flex: 1; padding: 10px; }\n",
       "    </style>\n",
       "<div class=\"wandb-row\"><div class=\"wandb-col\"><h3>Run history:</h3><br/><table class=\"wandb\"><tr><td>learning_rate</td><td>█▆▅▄▃▃▂▂▂▂▁▁▁▁▁▁▁▁▁▁▁▁▁▁▁▁▁</td></tr><tr><td>train_f1_score</td><td>▁▄▅▆▆▆▇▇▇▇██▇▇▇████████████</td></tr><tr><td>train_loss</td><td>█▄▄▃▃▂▂▂▂▂▁▁▁▁▁▁▁▁▁▁▁▁▁▁▁▁▁</td></tr><tr><td>val_f1_score</td><td>▁▂▃▃█▇▇▇█████▇█████████████</td></tr><tr><td>val_loss</td><td>█▅▄▇▂▁▃▁▁▁▁▁▁▁▁▁▁▁▁▁▁▁▁▁▁▁▁</td></tr></table><br/></div><div class=\"wandb-col\"><h3>Run summary:</h3><br/><table class=\"wandb\"><tr><td>learning_rate</td><td>0.0</td></tr><tr><td>train_f1_score</td><td>0.61889</td></tr><tr><td>train_loss</td><td>0.71975</td></tr><tr><td>val_f1_score</td><td>0.59236</td></tr><tr><td>val_loss</td><td>0.71671</td></tr></table><br/></div></div>"
      ],
      "text/plain": [
       "<IPython.core.display.HTML object>"
      ]
     },
     "metadata": {},
     "output_type": "display_data"
    },
    {
     "data": {
      "text/html": [
       " View run <strong style=\"color:#cdcd00\">fold_3_RGB-NIR_4classes</strong> at: <a href='https://wandb.ai/simon-ecke/wze-uav-4classes/runs/id73h5cg' target=\"_blank\">https://wandb.ai/simon-ecke/wze-uav-4classes/runs/id73h5cg</a><br/>Synced 5 W&B file(s), 0 media file(s), 0 artifact file(s) and 0 other file(s)"
      ],
      "text/plain": [
       "<IPython.core.display.HTML object>"
      ]
     },
     "metadata": {},
     "output_type": "display_data"
    },
    {
     "data": {
      "text/html": [
       "Find logs at: <code>.\\wandb\\run-20230422_151954-id73h5cg\\logs</code>"
      ],
      "text/plain": [
       "<IPython.core.display.HTML object>"
      ]
     },
     "metadata": {},
     "output_type": "display_data"
    },
    {
     "name": "stdout",
     "output_type": "stream",
     "text": [
      "Deleting variables and emptying cache\n",
      "Memory allocated: 1055210496 bytes\n",
      "--------------------------------------------------\n",
      "\n",
      "Fold : 4\n",
      "TRAIN POSITIVE RATIO: 0.4704565443351723\n",
      "VAL POSITIVE RATIO  : 0.4825063613231552\n",
      "LENGTH TRAIN GROUPS : 4724\n",
      "LENGTH VAL GROUPS   : 1180\n"
     ]
    },
    {
     "data": {
      "text/html": [
       "wandb version 0.15.0 is available!  To upgrade, please run:\n",
       " $ pip install wandb --upgrade"
      ],
      "text/plain": [
       "<IPython.core.display.HTML object>"
      ]
     },
     "metadata": {},
     "output_type": "display_data"
    },
    {
     "data": {
      "text/html": [
       "Tracking run with wandb version 0.14.2"
      ],
      "text/plain": [
       "<IPython.core.display.HTML object>"
      ]
     },
     "metadata": {},
     "output_type": "display_data"
    },
    {
     "data": {
      "text/html": [
       "Run data is saved locally in <code>C:\\Users\\lwfeckesim\\01_PyTorch\\wze-uav\\wze-uav-master\\wandb\\run-20230422_174329-cf9t7g3f</code>"
      ],
      "text/plain": [
       "<IPython.core.display.HTML object>"
      ]
     },
     "metadata": {},
     "output_type": "display_data"
    },
    {
     "data": {
      "text/html": [
       "Syncing run <strong><a href='https://wandb.ai/simon-ecke/wze-uav-4classes/runs/cf9t7g3f' target=\"_blank\">fold_4_RGB-NIR_4classes</a></strong> to <a href='https://wandb.ai/simon-ecke/wze-uav-4classes' target=\"_blank\">Weights & Biases</a> (<a href='https://wandb.me/run' target=\"_blank\">docs</a>)<br/>"
      ],
      "text/plain": [
       "<IPython.core.display.HTML object>"
      ]
     },
     "metadata": {},
     "output_type": "display_data"
    },
    {
     "data": {
      "text/html": [
       " View project at <a href='https://wandb.ai/simon-ecke/wze-uav-4classes' target=\"_blank\">https://wandb.ai/simon-ecke/wze-uav-4classes</a>"
      ],
      "text/plain": [
       "<IPython.core.display.HTML object>"
      ]
     },
     "metadata": {},
     "output_type": "display_data"
    },
    {
     "data": {
      "text/html": [
       " View run at <a href='https://wandb.ai/simon-ecke/wze-uav-4classes/runs/cf9t7g3f' target=\"_blank\">https://wandb.ai/simon-ecke/wze-uav-4classes/runs/cf9t7g3f</a>"
      ],
      "text/plain": [
       "<IPython.core.display.HTML object>"
      ]
     },
     "metadata": {},
     "output_type": "display_data"
    },
    {
     "name": "stdout",
     "output_type": "stream",
     "text": [
      "There are no same hash_id values in train, val or test datasets. The datasplit was successful\n",
      "Check shapes:\n",
      "\n",
      "Images train dataset: (12507, 250, 250, 4)\n",
      "Labels train dataset: (12507, 1)\n",
      "\n",
      "Images validation dataset: (1180, 250, 250, 4)\n",
      "Labels validation dataset: (1180, 1)\n",
      "\n",
      "--------------------------------------------------\n",
      "Check if the split was stratified: (random_state=42)\n",
      "Healthy trees in train dataset: 7396\n",
      "Moderately stressed trees in train dataset: 4543\n",
      "Severely stressed trees in train dataset: 363\n",
      "Dead trees in train dataset: 205\n",
      "Healthy trees in validation dataset: 683\n",
      "Moderately stressed trees in validation dataset: 436\n",
      "Severely stressed trees in validation dataset: 40\n",
      "Dead trees in validation dataset: 21\n",
      "Ratio health trees in validation dataset: 0.07411024305555555\n",
      "Ratio moderately stressed trees in validation dataset: 0.07619713386927647\n",
      "Ratio severely stressed trees in validation dataset: 0.9478260869565217\n",
      "Ratio dead trees in validation dataset: 0.15810276679841898\n",
      "--------------------------------------------------\n",
      "\n",
      "Creating datasets for fold: 4\n",
      "\n",
      "Creating dataloaders for fold: 4\n",
      "\n",
      "Loaded pretrained weights for efficientnet-b7\n",
      "\n",
      "[INFO] Fold number: 4\n",
      "[INFO] Number of epochs: 50\n",
      "[INFO] Batch_size: 32\n",
      "[INFO] Number of bands: 4\n",
      "[INFO] Dropout rate: 0.5\n",
      "[INFO] Gamma learning rate: 0.75\n",
      "[INFO] Memory allocated: 0 bytes\n"
     ]
    },
    {
     "data": {
      "application/vnd.jupyter.widget-view+json": {
       "model_id": "48fa9bcfe6454e2795d6277cd97a4cb4",
       "version_major": 2,
       "version_minor": 0
      },
      "text/plain": [
       "  0%|          | 0/50 [00:00<?, ?it/s]"
      ]
     },
     "metadata": {},
     "output_type": "display_data"
    },
    {
     "name": "stdout",
     "output_type": "stream",
     "text": [
      "Epoch: 1 \n",
      "Learning rate: 0.005\n",
      "Train loss: 0.9729 | Train precision: 0.4219 | Train recall: 0.3327 | Train f1score: 0.3473 | Train acc: 0.4965 | Train kappa: 0.1699 \n",
      "Val loss: 0.8908 | Val precision: 0.1539 | Val recall: 0.2449 | Val f1score: 0.1815 | Val acc: 0.5616 | Val kappa: 0.0233 \n",
      "\n",
      "Epoch: 2 \n",
      "Learning rate: 0.00375\n",
      "Train loss: 0.8562 | Train precision: 0.5333 | Train recall: 0.4838 | Train f1score: 0.4763 | Train acc: 0.5602 | Train kappa: 0.4548 \n",
      "Val loss: 0.7810 | Val precision: 0.4722 | Val recall: 0.4342 | Val f1score: 0.4124 | Val acc: 0.6085 | Val kappa: 0.3464 \n",
      "\n",
      "Epoch: 3 \n",
      "Learning rate: 0.0028125\n",
      "Train loss: 0.8070 | Train precision: 0.5928 | Train recall: 0.5296 | Train f1score: 0.5219 | Train acc: 0.6024 | Train kappa: 0.5381 \n",
      "Val loss: 0.7174 | Val precision: 0.5429 | Val recall: 0.5596 | Val f1score: 0.5285 | Val acc: 0.6302 | Val kappa: 0.4845 \n",
      "\n",
      "Epoch: 4 \n",
      "Learning rate: 0.002109375\n",
      "Train loss: 0.7749 | Train precision: 0.6070 | Train recall: 0.5501 | Train f1score: 0.5571 | Train acc: 0.6089 | Train kappa: 0.5542 \n",
      "Val loss: 0.7311 | Val precision: 0.5000 | Val recall: 0.5674 | Val f1score: 0.5252 | Val acc: 0.6111 | Val kappa: 0.4607 \n",
      "\n",
      "Epoch: 5 \n",
      "Learning rate: 0.00158203125\n",
      "Train loss: 0.7678 | Train precision: 0.6119 | Train recall: 0.5597 | Train f1score: 0.5622 | Train acc: 0.6205 | Train kappa: 0.5746 \n",
      "Val loss: 0.7357 | Val precision: 0.5789 | Val recall: 0.3966 | Val f1score: 0.4327 | Val acc: 0.6345 | Val kappa: 0.4228 \n",
      "\n",
      "Epoch: 6 \n",
      "Learning rate: 0.0011865234375\n",
      "Train loss: 0.7675 | Train precision: 0.6148 | Train recall: 0.5591 | Train f1score: 0.5636 | Train acc: 0.6143 | Train kappa: 0.5713 \n",
      "Val loss: 0.7381 | Val precision: 0.5817 | Val recall: 0.5912 | Val f1score: 0.5623 | Val acc: 0.6267 | Val kappa: 0.4865 \n",
      "\n",
      "Epoch: 7 \n",
      "Learning rate: 0.000889892578125\n",
      "Train loss: 0.7538 | Train precision: 0.6520 | Train recall: 0.5706 | Train f1score: 0.5805 | Train acc: 0.6282 | Train kappa: 0.5787 \n",
      "Val loss: 0.7167 | Val precision: 0.5809 | Val recall: 0.5762 | Val f1score: 0.5556 | Val acc: 0.6328 | Val kappa: 0.4986 \n",
      "\n",
      "Epoch: 8 \n",
      "Learning rate: 0.00066741943359375\n",
      "Train loss: 0.7501 | Train precision: 0.6409 | Train recall: 0.5761 | Train f1score: 0.5839 | Train acc: 0.6271 | Train kappa: 0.5910 \n",
      "Val loss: 0.7404 | Val precision: 0.6090 | Val recall: 0.6194 | Val f1score: 0.5814 | Val acc: 0.6241 | Val kappa: 0.4989 \n",
      "\n",
      "Epoch: 9 \n",
      "Learning rate: 0.0005005645751953125\n",
      "Train loss: 0.7348 | Train precision: 0.6539 | Train recall: 0.5860 | Train f1score: 0.5968 | Train acc: 0.6376 | Train kappa: 0.5998 \n",
      "Val loss: 0.7226 | Val precision: 0.4997 | Val recall: 0.5425 | Val f1score: 0.5119 | Val acc: 0.6432 | Val kappa: 0.4808 \n",
      "\n",
      "Epoch: 10 \n",
      "Learning rate: 0.0003754234313964844\n",
      "Train loss: 0.7410 | Train precision: 0.6715 | Train recall: 0.5842 | Train f1score: 0.5996 | Train acc: 0.6276 | Train kappa: 0.5825 \n",
      "Val loss: 0.8877 | Val precision: 0.6129 | Val recall: 0.6036 | Val f1score: 0.5796 | Val acc: 0.6424 | Val kappa: 0.4978 \n",
      "\n",
      "Epoch: 11 \n",
      "Learning rate: 0.0002815675735473633\n",
      "Train loss: 0.7282 | Train precision: 0.6688 | Train recall: 0.5927 | Train f1score: 0.6075 | Train acc: 0.6312 | Train kappa: 0.5940 \n",
      "Val loss: 0.7401 | Val precision: 0.6009 | Val recall: 0.5787 | Val f1score: 0.5459 | Val acc: 0.6102 | Val kappa: 0.4768 \n",
      "\n",
      "Epoch: 12 \n",
      "Learning rate: 0.00021117568016052246\n",
      "Train loss: 0.7259 | Train precision: 0.6563 | Train recall: 0.5857 | Train f1score: 0.5974 | Train acc: 0.6371 | Train kappa: 0.6074 \n",
      "Val loss: 0.6914 | Val precision: 0.6141 | Val recall: 0.5827 | Val f1score: 0.5609 | Val acc: 0.6580 | Val kappa: 0.5269 \n",
      "\n",
      "Epoch: 13 \n",
      "Learning rate: 0.00015838176012039184\n",
      "Train loss: 0.7213 | Train precision: 0.6689 | Train recall: 0.5998 | Train f1score: 0.6130 | Train acc: 0.6387 | Train kappa: 0.6145 \n",
      "Val loss: 0.6902 | Val precision: 0.6084 | Val recall: 0.5766 | Val f1score: 0.5546 | Val acc: 0.6450 | Val kappa: 0.5136 \n",
      "\n",
      "Epoch: 14 \n",
      "Learning rate: 0.00011878632009029388\n",
      "Train loss: 0.7303 | Train precision: 0.6731 | Train recall: 0.5980 | Train f1score: 0.6142 | Train acc: 0.6430 | Train kappa: 0.6077 \n",
      "Val loss: 0.6993 | Val precision: 0.5959 | Val recall: 0.5848 | Val f1score: 0.5678 | Val acc: 0.6398 | Val kappa: 0.5097 \n",
      "\n",
      "Epoch: 15 \n",
      "Learning rate: 8.908974006772042e-05\n",
      "Train loss: 0.7254 | Train precision: 0.6716 | Train recall: 0.5988 | Train f1score: 0.6144 | Train acc: 0.6409 | Train kappa: 0.6163 \n",
      "Val loss: 0.6869 | Val precision: 0.6030 | Val recall: 0.5826 | Val f1score: 0.5647 | Val acc: 0.6493 | Val kappa: 0.5155 \n",
      "\n",
      "Epoch: 16 \n",
      "Learning rate: 6.681730505079031e-05\n",
      "Train loss: 0.7209 | Train precision: 0.6827 | Train recall: 0.6038 | Train f1score: 0.6186 | Train acc: 0.6431 | Train kappa: 0.6162 \n",
      "Val loss: 0.6929 | Val precision: 0.6168 | Val recall: 0.5836 | Val f1score: 0.5656 | Val acc: 0.6484 | Val kappa: 0.5168 \n",
      "\n",
      "Epoch: 17 \n",
      "Learning rate: 5.0112978788092735e-05\n",
      "Train loss: 0.7191 | Train precision: 0.6875 | Train recall: 0.6078 | Train f1score: 0.6252 | Train acc: 0.6377 | Train kappa: 0.6112 \n",
      "Val loss: 0.6882 | Val precision: 0.5964 | Val recall: 0.5864 | Val f1score: 0.5679 | Val acc: 0.6562 | Val kappa: 0.5222 \n",
      "\n",
      "Epoch: 18 \n",
      "Learning rate: 3.758473409106955e-05\n",
      "Train loss: 0.7220 | Train precision: 0.6436 | Train recall: 0.5846 | Train f1score: 0.5942 | Train acc: 0.6393 | Train kappa: 0.6006 \n",
      "Val loss: 0.7115 | Val precision: 0.5973 | Val recall: 0.5932 | Val f1score: 0.5748 | Val acc: 0.6502 | Val kappa: 0.5181 \n",
      "\n",
      "Epoch: 19 \n",
      "Learning rate: 2.8188550568302163e-05\n",
      "Train loss: 0.7160 | Train precision: 0.6889 | Train recall: 0.6123 | Train f1score: 0.6288 | Train acc: 0.6441 | Train kappa: 0.6206 \n",
      "Val loss: 0.7303 | Val precision: 0.5846 | Val recall: 0.5898 | Val f1score: 0.5681 | Val acc: 0.6536 | Val kappa: 0.5215 \n",
      "\n",
      "Epoch: 20 \n",
      "Learning rate: 2.114141292622662e-05\n",
      "Train loss: 0.7302 | Train precision: 0.6776 | Train recall: 0.5928 | Train f1score: 0.6075 | Train acc: 0.6323 | Train kappa: 0.6083 \n",
      "Val loss: 0.7276 | Val precision: 0.6099 | Val recall: 0.5985 | Val f1score: 0.5845 | Val acc: 0.6562 | Val kappa: 0.5265 \n",
      "\n",
      "Epoch: 21 \n",
      "Learning rate: 1.5856059694669965e-05\n",
      "Train loss: 0.7175 | Train precision: 0.6899 | Train recall: 0.6031 | Train f1score: 0.6206 | Train acc: 0.6463 | Train kappa: 0.6041 \n",
      "Val loss: 0.7224 | Val precision: 0.5998 | Val recall: 0.5905 | Val f1score: 0.5705 | Val acc: 0.6580 | Val kappa: 0.5247 \n",
      "\n",
      "Epoch: 22 \n",
      "Learning rate: 1.1892044771002475e-05\n",
      "Train loss: 0.7200 | Train precision: 0.6814 | Train recall: 0.5998 | Train f1score: 0.6174 | Train acc: 0.6399 | Train kappa: 0.5969 \n",
      "Val loss: 0.6998 | Val precision: 0.5894 | Val recall: 0.5878 | Val f1score: 0.5682 | Val acc: 0.6562 | Val kappa: 0.5234 \n",
      "\n",
      "Epoch: 23 \n",
      "Learning rate: 8.919033578251857e-06\n",
      "Train loss: 0.7141 | Train precision: 0.6778 | Train recall: 0.6006 | Train f1score: 0.6176 | Train acc: 0.6433 | Train kappa: 0.6090 \n",
      "Val loss: 0.7192 | Val precision: 0.6053 | Val recall: 0.5939 | Val f1score: 0.5767 | Val acc: 0.6536 | Val kappa: 0.5213 \n",
      "\n",
      "Epoch: 24 \n",
      "Learning rate: 6.689275183688892e-06\n",
      "Train loss: 0.7266 | Train precision: 0.6887 | Train recall: 0.6010 | Train f1score: 0.6218 | Train acc: 0.6384 | Train kappa: 0.6082 \n",
      "Val loss: 0.7172 | Val precision: 0.6102 | Val recall: 0.5993 | Val f1score: 0.5831 | Val acc: 0.6493 | Val kappa: 0.5181 \n",
      "\n",
      "Epoch: 25 \n",
      "Learning rate: 5.016956387766669e-06\n",
      "Train loss: 0.7289 | Train precision: 0.6683 | Train recall: 0.5968 | Train f1score: 0.6105 | Train acc: 0.6308 | Train kappa: 0.5970 \n",
      "Val loss: 0.6970 | Val precision: 0.6170 | Val recall: 0.5969 | Val f1score: 0.5804 | Val acc: 0.6597 | Val kappa: 0.5313 \n",
      "\n",
      "Epoch: 26 \n",
      "Learning rate: 3.762717290825002e-06\n",
      "Train loss: 0.7165 | Train precision: 0.6736 | Train recall: 0.5972 | Train f1score: 0.6150 | Train acc: 0.6329 | Train kappa: 0.6031 \n",
      "Val loss: 0.7095 | Val precision: 0.6194 | Val recall: 0.6007 | Val f1score: 0.5860 | Val acc: 0.6545 | Val kappa: 0.5268 \n",
      "\n",
      "Epoch: 27 \n",
      "Learning rate: 2.8220379681187514e-06\n",
      "Train loss: 0.7235 | Train precision: 0.7019 | Train recall: 0.6142 | Train f1score: 0.6326 | Train acc: 0.6458 | Train kappa: 0.6151 \n",
      "Val loss: 0.7070 | Val precision: 0.6210 | Val recall: 0.6024 | Val f1score: 0.5884 | Val acc: 0.6606 | Val kappa: 0.5311 \n",
      "\n"
     ]
    },
    {
     "name": "stdout",
     "output_type": "stream",
     "text": [
      "Epoch: 28 \n",
      "Learning rate: 2.1165284760890633e-06\n",
      "Train loss: 0.7201 | Train precision: 0.6880 | Train recall: 0.6059 | Train f1score: 0.6273 | Train acc: 0.6415 | Train kappa: 0.6165 \n",
      "Val loss: 0.7098 | Val precision: 0.6091 | Val recall: 0.5981 | Val f1score: 0.5821 | Val acc: 0.6476 | Val kappa: 0.5159 \n",
      "\n",
      "Epoch: 29 \n",
      "Learning rate: 1.5873963570667977e-06\n",
      "Train loss: 0.7208 | Train precision: 0.6882 | Train recall: 0.6065 | Train f1score: 0.6265 | Train acc: 0.6385 | Train kappa: 0.6060 \n",
      "Val loss: 0.7104 | Val precision: 0.6107 | Val recall: 0.5998 | Val f1score: 0.5841 | Val acc: 0.6519 | Val kappa: 0.5214 \n",
      "\n",
      "Epoch: 30 \n",
      "Learning rate: 1.1905472678000981e-06\n",
      "Train loss: 0.7201 | Train precision: 0.6704 | Train recall: 0.6008 | Train f1score: 0.6153 | Train acc: 0.6367 | Train kappa: 0.6022 \n",
      "Val loss: 0.7073 | Val precision: 0.6199 | Val recall: 0.6013 | Val f1score: 0.5869 | Val acc: 0.6571 | Val kappa: 0.5267 \n",
      "\n",
      "Epoch: 31 \n",
      "Learning rate: 1e-06\n",
      "Train loss: 0.7283 | Train precision: 0.6740 | Train recall: 0.5953 | Train f1score: 0.6137 | Train acc: 0.6371 | Train kappa: 0.6028 \n",
      "Val loss: 0.7081 | Val precision: 0.5904 | Val recall: 0.5890 | Val f1score: 0.5691 | Val acc: 0.6571 | Val kappa: 0.5245 \n",
      "\n",
      "Epoch: 32 \n",
      "Learning rate: 1e-06\n",
      "Train loss: 0.7246 | Train precision: 0.6896 | Train recall: 0.6043 | Train f1score: 0.6246 | Train acc: 0.6385 | Train kappa: 0.6073 \n",
      "Val loss: 0.7187 | Val precision: 0.6116 | Val recall: 0.6007 | Val f1score: 0.5855 | Val acc: 0.6554 | Val kappa: 0.5256 \n",
      "\n",
      "Epoch: 33 \n",
      "Learning rate: 1e-06\n",
      "Train loss: 0.7090 | Train precision: 0.6839 | Train recall: 0.6144 | Train f1score: 0.6308 | Train acc: 0.6455 | Train kappa: 0.6163 \n",
      "Val loss: 0.7178 | Val precision: 0.5909 | Val recall: 0.5895 | Val f1score: 0.5694 | Val acc: 0.6571 | Val kappa: 0.5246 \n",
      "\n",
      "Epoch: 34 \n",
      "Learning rate: 1e-06\n",
      "Train loss: 0.7192 | Train precision: 0.6756 | Train recall: 0.5995 | Train f1score: 0.6174 | Train acc: 0.6404 | Train kappa: 0.6039 \n",
      "Val loss: 0.7132 | Val precision: 0.5902 | Val recall: 0.5888 | Val f1score: 0.5683 | Val acc: 0.6545 | Val kappa: 0.5214 \n",
      "\n",
      "Epoch: 35 \n",
      "Learning rate: 1e-06\n",
      "Train loss: 0.7179 | Train precision: 0.6605 | Train recall: 0.5939 | Train f1score: 0.6041 | Train acc: 0.6399 | Train kappa: 0.6042 \n",
      "Val loss: 0.7094 | Val precision: 0.5898 | Val recall: 0.5884 | Val f1score: 0.5679 | Val acc: 0.6536 | Val kappa: 0.5203 \n",
      "\n",
      "Epoch: 36 \n",
      "Learning rate: 1e-06\n",
      "Train loss: 0.7280 | Train precision: 0.7034 | Train recall: 0.6089 | Train f1score: 0.6310 | Train acc: 0.6438 | Train kappa: 0.6131 \n",
      "Val loss: 0.7043 | Val precision: 0.6199 | Val recall: 0.6013 | Val f1score: 0.5867 | Val acc: 0.6562 | Val kappa: 0.5257 \n",
      "\n",
      "Epoch: 37 \n",
      "Learning rate: 1e-06\n",
      "Train loss: 0.7186 | Train precision: 0.6909 | Train recall: 0.6010 | Train f1score: 0.6222 | Train acc: 0.6411 | Train kappa: 0.6052 \n",
      "Val loss: 0.7383 | Val precision: 0.6093 | Val recall: 0.5983 | Val f1score: 0.5822 | Val acc: 0.6476 | Val kappa: 0.5160 \n",
      "\n",
      "Early stopping after epoch 37\n"
     ]
    },
    {
     "data": {
      "text/html": [
       "Waiting for W&B process to finish... <strong style=\"color:green\">(success).</strong>"
      ],
      "text/plain": [
       "<IPython.core.display.HTML object>"
      ]
     },
     "metadata": {},
     "output_type": "display_data"
    },
    {
     "data": {
      "text/html": [
       "<style>\n",
       "    table.wandb td:nth-child(1) { padding: 0 10px; text-align: left ; width: auto;} td:nth-child(2) {text-align: left ; width: 100%}\n",
       "    .wandb-row { display: flex; flex-direction: row; flex-wrap: wrap; justify-content: flex-start; width: 100% }\n",
       "    .wandb-col { display: flex; flex-direction: column; flex-basis: 100%; flex: 1; padding: 10px; }\n",
       "    </style>\n",
       "<div class=\"wandb-row\"><div class=\"wandb-col\"><h3>Run history:</h3><br/><table class=\"wandb\"><tr><td>learning_rate</td><td>█▆▅▄▃▃▂▂▂▂▁▁▁▁▁▁▁▁▁▁▁▁▁▁▁▁▁▁▁▁▁▁▁▁▁▁▁</td></tr><tr><td>train_f1_score</td><td>▁▄▅▆▆▆▇▇▇▇▇▇█████▇█▇████▇█████████▇██</td></tr><tr><td>train_loss</td><td>█▅▄▃▃▃▂▂▂▂▂▁▁▂▁▁▁▁▁▂▁▁▁▁▂▁▁▁▁▁▂▁▁▁▁▂▁</td></tr><tr><td>val_f1_score</td><td>▁▅▇▇▅█▇█▇█▇█▇████████████████████████</td></tr><tr><td>val_loss</td><td>█▄▂▃▃▃▂▃▂█▃▁▁▁▁▁▁▂▂▂▂▁▂▂▁▂▂▂▂▂▂▂▂▂▂▂▃</td></tr></table><br/></div><div class=\"wandb-col\"><h3>Run summary:</h3><br/><table class=\"wandb\"><tr><td>learning_rate</td><td>0.0</td></tr><tr><td>train_f1_score</td><td>0.62224</td></tr><tr><td>train_loss</td><td>0.71856</td></tr><tr><td>val_f1_score</td><td>0.58219</td></tr><tr><td>val_loss</td><td>0.73835</td></tr></table><br/></div></div>"
      ],
      "text/plain": [
       "<IPython.core.display.HTML object>"
      ]
     },
     "metadata": {},
     "output_type": "display_data"
    },
    {
     "data": {
      "text/html": [
       " View run <strong style=\"color:#cdcd00\">fold_4_RGB-NIR_4classes</strong> at: <a href='https://wandb.ai/simon-ecke/wze-uav-4classes/runs/cf9t7g3f' target=\"_blank\">https://wandb.ai/simon-ecke/wze-uav-4classes/runs/cf9t7g3f</a><br/>Synced 5 W&B file(s), 0 media file(s), 0 artifact file(s) and 0 other file(s)"
      ],
      "text/plain": [
       "<IPython.core.display.HTML object>"
      ]
     },
     "metadata": {},
     "output_type": "display_data"
    },
    {
     "data": {
      "text/html": [
       "Find logs at: <code>.\\wandb\\run-20230422_174329-cf9t7g3f\\logs</code>"
      ],
      "text/plain": [
       "<IPython.core.display.HTML object>"
      ]
     },
     "metadata": {},
     "output_type": "display_data"
    },
    {
     "name": "stdout",
     "output_type": "stream",
     "text": [
      "Deleting variables and emptying cache\n",
      "Memory allocated: 1057000448 bytes\n",
      "--------------------------------------------------\n",
      "\n",
      "Fold : 5\n",
      "TRAIN POSITIVE RATIO: 0.47794585987261146\n",
      "VAL POSITIVE RATIO  : 0.45228081527013914\n",
      "LENGTH TRAIN GROUPS : 4728\n",
      "LENGTH VAL GROUPS   : 1176\n"
     ]
    },
    {
     "data": {
      "text/html": [
       "wandb version 0.15.0 is available!  To upgrade, please run:\n",
       " $ pip install wandb --upgrade"
      ],
      "text/plain": [
       "<IPython.core.display.HTML object>"
      ]
     },
     "metadata": {},
     "output_type": "display_data"
    },
    {
     "data": {
      "text/html": [
       "Tracking run with wandb version 0.14.2"
      ],
      "text/plain": [
       "<IPython.core.display.HTML object>"
      ]
     },
     "metadata": {},
     "output_type": "display_data"
    },
    {
     "data": {
      "text/html": [
       "Run data is saved locally in <code>C:\\Users\\lwfeckesim\\01_PyTorch\\wze-uav\\wze-uav-master\\wandb\\run-20230422_205850-jk0xxjfh</code>"
      ],
      "text/plain": [
       "<IPython.core.display.HTML object>"
      ]
     },
     "metadata": {},
     "output_type": "display_data"
    },
    {
     "data": {
      "text/html": [
       "Syncing run <strong><a href='https://wandb.ai/simon-ecke/wze-uav-4classes/runs/jk0xxjfh' target=\"_blank\">fold_5_RGB-NIR_4classes</a></strong> to <a href='https://wandb.ai/simon-ecke/wze-uav-4classes' target=\"_blank\">Weights & Biases</a> (<a href='https://wandb.me/run' target=\"_blank\">docs</a>)<br/>"
      ],
      "text/plain": [
       "<IPython.core.display.HTML object>"
      ]
     },
     "metadata": {},
     "output_type": "display_data"
    },
    {
     "data": {
      "text/html": [
       " View project at <a href='https://wandb.ai/simon-ecke/wze-uav-4classes' target=\"_blank\">https://wandb.ai/simon-ecke/wze-uav-4classes</a>"
      ],
      "text/plain": [
       "<IPython.core.display.HTML object>"
      ]
     },
     "metadata": {},
     "output_type": "display_data"
    },
    {
     "data": {
      "text/html": [
       " View run at <a href='https://wandb.ai/simon-ecke/wze-uav-4classes/runs/jk0xxjfh' target=\"_blank\">https://wandb.ai/simon-ecke/wze-uav-4classes/runs/jk0xxjfh</a>"
      ],
      "text/plain": [
       "<IPython.core.display.HTML object>"
      ]
     },
     "metadata": {},
     "output_type": "display_data"
    },
    {
     "name": "stdout",
     "output_type": "stream",
     "text": [
      "There are no same hash_id values in train, val or test datasets. The datasplit was successful\n",
      "Check shapes:\n",
      "\n",
      "Images train dataset: (12560, 250, 250, 4)\n",
      "Labels train dataset: (12560, 1)\n",
      "\n",
      "Images validation dataset: (1176, 250, 250, 4)\n",
      "Labels validation dataset: (1176, 1)\n",
      "\n",
      "--------------------------------------------------\n",
      "Check if the split was stratified: (random_state=42)\n",
      "Healthy trees in train dataset: 7364\n",
      "Moderately stressed trees in train dataset: 4597\n",
      "Severely stressed trees in train dataset: 391\n",
      "Dead trees in train dataset: 208\n",
      "Healthy trees in validation dataset: 698\n",
      "Moderately stressed trees in validation dataset: 433\n",
      "Severely stressed trees in validation dataset: 24\n",
      "Dead trees in validation dataset: 21\n",
      "Ratio health trees in validation dataset: 0.07573784722222222\n",
      "Ratio moderately stressed trees in validation dataset: 0.07567284166375393\n",
      "Ratio severely stressed trees in validation dataset: 0.941304347826087\n",
      "Ratio dead trees in validation dataset: 0.09486166007905138\n",
      "--------------------------------------------------\n",
      "\n",
      "Creating datasets for fold: 5\n",
      "\n",
      "Creating dataloaders for fold: 5\n",
      "\n",
      "Loaded pretrained weights for efficientnet-b7\n",
      "\n",
      "[INFO] Fold number: 5\n",
      "[INFO] Number of epochs: 50\n",
      "[INFO] Batch_size: 32\n",
      "[INFO] Number of bands: 4\n",
      "[INFO] Dropout rate: 0.5\n",
      "[INFO] Gamma learning rate: 0.75\n",
      "[INFO] Memory allocated: 0 bytes\n"
     ]
    },
    {
     "data": {
      "application/vnd.jupyter.widget-view+json": {
       "model_id": "b732ae656c3e4771a7c5f6332955ad8d",
       "version_major": 2,
       "version_minor": 0
      },
      "text/plain": [
       "  0%|          | 0/50 [00:00<?, ?it/s]"
      ]
     },
     "metadata": {},
     "output_type": "display_data"
    },
    {
     "name": "stdout",
     "output_type": "stream",
     "text": [
      "Epoch: 1 \n",
      "Learning rate: 0.005\n",
      "Train loss: 1.0120 | Train precision: 0.3376 | Train recall: 0.2877 | Train f1score: 0.2908 | Train acc: 0.4828 | Train kappa: 0.1157 \n",
      "Val loss: 6.5661 | Val precision: 0.1469 | Val recall: 0.2500 | Val f1score: 0.1851 | Val acc: 0.5877 | Val kappa: 0.0000 \n",
      "\n",
      "Epoch: 2 \n",
      "Learning rate: 0.00375\n",
      "Train loss: 0.8670 | Train precision: 0.4448 | Train recall: 0.4435 | Train f1score: 0.4332 | Train acc: 0.5554 | Train kappa: 0.4200 \n",
      "Val loss: 0.9110 | Val precision: 0.5530 | Val recall: 0.3014 | Val f1score: 0.2279 | Val acc: 0.3880 | Val kappa: 0.0636 \n",
      "\n",
      "Epoch: 3 \n",
      "Learning rate: 0.0028125\n",
      "Train loss: 0.8277 | Train precision: 0.5478 | Train recall: 0.5008 | Train f1score: 0.4969 | Train acc: 0.5892 | Train kappa: 0.5027 \n",
      "Val loss: 0.7269 | Val precision: 0.5237 | Val recall: 0.5379 | Val f1score: 0.5116 | Val acc: 0.6380 | Val kappa: 0.4772 \n",
      "\n",
      "Epoch: 4 \n",
      "Learning rate: 0.002109375\n",
      "Train loss: 0.8028 | Train precision: 0.5628 | Train recall: 0.5315 | Train f1score: 0.5228 | Train acc: 0.5942 | Train kappa: 0.5508 \n",
      "Val loss: 0.8191 | Val precision: 0.2644 | Val recall: 0.2619 | Val f1score: 0.2146 | Val acc: 0.6033 | Val kappa: 0.1894 \n",
      "\n",
      "Epoch: 5 \n",
      "Learning rate: 0.00158203125\n",
      "Train loss: 0.7868 | Train precision: 0.5880 | Train recall: 0.5465 | Train f1score: 0.5352 | Train acc: 0.6100 | Train kappa: 0.5677 \n",
      "Val loss: 0.7321 | Val precision: 0.5559 | Val recall: 0.3234 | Val f1score: 0.3322 | Val acc: 0.6415 | Val kappa: 0.3532 \n",
      "\n",
      "Epoch: 6 \n",
      "Learning rate: 0.0011865234375\n",
      "Train loss: 0.7752 | Train precision: 0.6173 | Train recall: 0.5535 | Train f1score: 0.5528 | Train acc: 0.6118 | Train kappa: 0.5492 \n",
      "Val loss: 0.6931 | Val precision: 0.5745 | Val recall: 0.5385 | Val f1score: 0.5209 | Val acc: 0.6519 | Val kappa: 0.4888 \n",
      "\n",
      "Epoch: 7 \n",
      "Learning rate: 0.000889892578125\n",
      "Train loss: 0.7633 | Train precision: 0.6225 | Train recall: 0.5600 | Train f1score: 0.5596 | Train acc: 0.6198 | Train kappa: 0.5840 \n",
      "Val loss: 0.8077 | Val precision: 0.5615 | Val recall: 0.5514 | Val f1score: 0.5165 | Val acc: 0.5425 | Val kappa: 0.4116 \n",
      "\n",
      "Epoch: 8 \n",
      "Learning rate: 0.00066741943359375\n",
      "Train loss: 0.7529 | Train precision: 0.6296 | Train recall: 0.5772 | Train f1score: 0.5814 | Train acc: 0.6204 | Train kappa: 0.5838 \n",
      "Val loss: 0.6881 | Val precision: 0.5619 | Val recall: 0.5702 | Val f1score: 0.5622 | Val acc: 0.6302 | Val kappa: 0.5098 \n",
      "\n",
      "Epoch: 9 \n",
      "Learning rate: 0.0005005645751953125\n",
      "Train loss: 0.7599 | Train precision: 0.6383 | Train recall: 0.5699 | Train f1score: 0.5738 | Train acc: 0.6259 | Train kappa: 0.5920 \n",
      "Val loss: 0.6744 | Val precision: 0.5567 | Val recall: 0.5630 | Val f1score: 0.5598 | Val acc: 0.6380 | Val kappa: 0.5163 \n",
      "\n",
      "Epoch: 10 \n",
      "Learning rate: 0.0003754234313964844\n",
      "Train loss: 0.7375 | Train precision: 0.6470 | Train recall: 0.5756 | Train f1score: 0.5826 | Train acc: 0.6323 | Train kappa: 0.5867 \n",
      "Val loss: 0.6652 | Val precision: 0.5631 | Val recall: 0.5525 | Val f1score: 0.5561 | Val acc: 0.6562 | Val kappa: 0.5318 \n",
      "\n",
      "Epoch: 11 \n",
      "Learning rate: 0.0002815675735473633\n",
      "Train loss: 0.7480 | Train precision: 0.6488 | Train recall: 0.5848 | Train f1score: 0.5930 | Train acc: 0.6342 | Train kappa: 0.5944 \n",
      "Val loss: 0.6792 | Val precision: 0.5531 | Val recall: 0.5703 | Val f1score: 0.5611 | Val acc: 0.6458 | Val kappa: 0.5297 \n",
      "\n",
      "Epoch: 12 \n",
      "Learning rate: 0.00021117568016052246\n",
      "Train loss: 0.7457 | Train precision: 0.6362 | Train recall: 0.5752 | Train f1score: 0.5808 | Train acc: 0.6291 | Train kappa: 0.5990 \n",
      "Val loss: 0.6853 | Val precision: 0.5920 | Val recall: 0.5840 | Val f1score: 0.5827 | Val acc: 0.6415 | Val kappa: 0.5293 \n",
      "\n",
      "Epoch: 13 \n",
      "Learning rate: 0.00015838176012039184\n",
      "Train loss: 0.7352 | Train precision: 0.6588 | Train recall: 0.5896 | Train f1score: 0.5955 | Train acc: 0.6338 | Train kappa: 0.6049 \n",
      "Val loss: 0.6791 | Val precision: 0.5837 | Val recall: 0.5801 | Val f1score: 0.5794 | Val acc: 0.6398 | Val kappa: 0.5295 \n",
      "\n",
      "Epoch: 14 \n",
      "Learning rate: 0.00011878632009029388\n",
      "Train loss: 0.7288 | Train precision: 0.6516 | Train recall: 0.5881 | Train f1score: 0.5941 | Train acc: 0.6403 | Train kappa: 0.5895 \n",
      "Val loss: 0.6771 | Val precision: 0.6058 | Val recall: 0.5822 | Val f1score: 0.5831 | Val acc: 0.6406 | Val kappa: 0.5266 \n",
      "\n",
      "Epoch: 15 \n",
      "Learning rate: 8.908974006772042e-05\n",
      "Train loss: 0.7343 | Train precision: 0.6670 | Train recall: 0.5880 | Train f1score: 0.6025 | Train acc: 0.6347 | Train kappa: 0.5985 \n",
      "Val loss: 0.6885 | Val precision: 0.5910 | Val recall: 0.5887 | Val f1score: 0.5805 | Val acc: 0.6441 | Val kappa: 0.5279 \n",
      "\n",
      "Epoch: 16 \n",
      "Learning rate: 6.681730505079031e-05\n",
      "Train loss: 0.7320 | Train precision: 0.6877 | Train recall: 0.5937 | Train f1score: 0.6117 | Train acc: 0.6357 | Train kappa: 0.6015 \n",
      "Val loss: 0.6847 | Val precision: 0.5921 | Val recall: 0.5815 | Val f1score: 0.5798 | Val acc: 0.6337 | Val kappa: 0.5187 \n",
      "\n",
      "Epoch: 17 \n",
      "Learning rate: 5.0112978788092735e-05\n",
      "Train loss: 0.7354 | Train precision: 0.6643 | Train recall: 0.5868 | Train f1score: 0.6008 | Train acc: 0.6328 | Train kappa: 0.5959 \n",
      "Val loss: 0.6809 | Val precision: 0.5916 | Val recall: 0.5857 | Val f1score: 0.5842 | Val acc: 0.6450 | Val kappa: 0.5348 \n",
      "\n",
      "Epoch: 18 \n",
      "Learning rate: 3.758473409106955e-05\n",
      "Train loss: 0.7370 | Train precision: 0.6629 | Train recall: 0.5882 | Train f1score: 0.6017 | Train acc: 0.6350 | Train kappa: 0.5974 \n",
      "Val loss: 0.6861 | Val precision: 0.5889 | Val recall: 0.5821 | Val f1score: 0.5756 | Val acc: 0.6354 | Val kappa: 0.5185 \n",
      "\n",
      "Epoch: 19 \n",
      "Learning rate: 2.8188550568302163e-05\n",
      "Train loss: 0.7317 | Train precision: 0.6762 | Train recall: 0.5928 | Train f1score: 0.6053 | Train acc: 0.6322 | Train kappa: 0.5948 \n",
      "Val loss: 0.6868 | Val precision: 0.5846 | Val recall: 0.5800 | Val f1score: 0.5786 | Val acc: 0.6354 | Val kappa: 0.5201 \n",
      "\n",
      "Epoch: 20 \n",
      "Learning rate: 2.114141292622662e-05\n",
      "Train loss: 0.7333 | Train precision: 0.6682 | Train recall: 0.5912 | Train f1score: 0.6069 | Train acc: 0.6335 | Train kappa: 0.6003 \n",
      "Val loss: 0.6812 | Val precision: 0.5893 | Val recall: 0.5811 | Val f1score: 0.5804 | Val acc: 0.6380 | Val kappa: 0.5245 \n",
      "\n",
      "Epoch: 21 \n",
      "Learning rate: 1.5856059694669965e-05\n",
      "Train loss: 0.7309 | Train precision: 0.6680 | Train recall: 0.5926 | Train f1score: 0.6079 | Train acc: 0.6362 | Train kappa: 0.5987 \n",
      "Val loss: 0.6862 | Val precision: 0.5937 | Val recall: 0.5859 | Val f1score: 0.5838 | Val acc: 0.6424 | Val kappa: 0.5308 \n",
      "\n",
      "Epoch: 22 \n",
      "Learning rate: 1.1892044771002475e-05\n",
      "Train loss: 0.7268 | Train precision: 0.6834 | Train recall: 0.6066 | Train f1score: 0.6216 | Train acc: 0.6413 | Train kappa: 0.5975 \n",
      "Val loss: 0.6865 | Val precision: 0.5945 | Val recall: 0.5841 | Val f1score: 0.5819 | Val acc: 0.6372 | Val kappa: 0.5233 \n",
      "\n",
      "Epoch: 23 \n",
      "Learning rate: 8.919033578251857e-06\n",
      "Train loss: 0.7251 | Train precision: 0.6672 | Train recall: 0.5878 | Train f1score: 0.6041 | Train acc: 0.6364 | Train kappa: 0.6037 \n",
      "Val loss: 0.6814 | Val precision: 0.5899 | Val recall: 0.5831 | Val f1score: 0.5770 | Val acc: 0.6389 | Val kappa: 0.5227 \n",
      "\n",
      "Epoch: 24 \n",
      "Learning rate: 6.689275183688892e-06\n",
      "Train loss: 0.7391 | Train precision: 0.6662 | Train recall: 0.5872 | Train f1score: 0.6007 | Train acc: 0.6340 | Train kappa: 0.6026 \n",
      "Val loss: 0.6820 | Val precision: 0.5939 | Val recall: 0.5834 | Val f1score: 0.5826 | Val acc: 0.6406 | Val kappa: 0.5270 \n",
      "\n",
      "Epoch: 25 \n",
      "Learning rate: 5.016956387766669e-06\n",
      "Train loss: 0.7278 | Train precision: 0.6677 | Train recall: 0.5920 | Train f1score: 0.6044 | Train acc: 0.6326 | Train kappa: 0.6006 \n",
      "Val loss: 0.6836 | Val precision: 0.5963 | Val recall: 0.5860 | Val f1score: 0.5845 | Val acc: 0.6432 | Val kappa: 0.5307 \n",
      "\n",
      "Epoch: 26 \n",
      "Learning rate: 3.762717290825002e-06\n",
      "Train loss: 0.7199 | Train precision: 0.6783 | Train recall: 0.6070 | Train f1score: 0.6184 | Train acc: 0.6464 | Train kappa: 0.6039 \n",
      "Val loss: 0.6805 | Val precision: 0.5940 | Val recall: 0.5802 | Val f1score: 0.5800 | Val acc: 0.6354 | Val kappa: 0.5190 \n",
      "\n",
      "Epoch: 27 \n",
      "Learning rate: 2.8220379681187514e-06\n",
      "Train loss: 0.7311 | Train precision: 0.6758 | Train recall: 0.5931 | Train f1score: 0.6104 | Train acc: 0.6375 | Train kappa: 0.6079 \n",
      "Val loss: 0.6810 | Val precision: 0.5953 | Val recall: 0.5815 | Val f1score: 0.5813 | Val acc: 0.6380 | Val kappa: 0.5224 \n",
      "\n"
     ]
    },
    {
     "name": "stdout",
     "output_type": "stream",
     "text": [
      "Epoch: 28 \n",
      "Learning rate: 2.1165284760890633e-06\n",
      "Train loss: 0.7222 | Train precision: 0.6595 | Train recall: 0.5954 | Train f1score: 0.6060 | Train acc: 0.6357 | Train kappa: 0.5939 \n",
      "Val loss: 0.6821 | Val precision: 0.5966 | Val recall: 0.5829 | Val f1score: 0.5822 | Val acc: 0.6389 | Val kappa: 0.5238 \n",
      "\n",
      "Epoch: 29 \n",
      "Learning rate: 1.5873963570667977e-06\n",
      "Train loss: 0.7265 | Train precision: 0.6872 | Train recall: 0.6021 | Train f1score: 0.6185 | Train acc: 0.6438 | Train kappa: 0.6026 \n",
      "Val loss: 0.6820 | Val precision: 0.5893 | Val recall: 0.5811 | Val f1score: 0.5802 | Val acc: 0.6372 | Val kappa: 0.5235 \n",
      "\n",
      "Epoch: 30 \n",
      "Learning rate: 1.1905472678000981e-06\n",
      "Train loss: 0.7294 | Train precision: 0.6875 | Train recall: 0.6002 | Train f1score: 0.6153 | Train acc: 0.6433 | Train kappa: 0.6073 \n",
      "Val loss: 0.6796 | Val precision: 0.5914 | Val recall: 0.5807 | Val f1score: 0.5803 | Val acc: 0.6372 | Val kappa: 0.5223 \n",
      "\n",
      "Epoch: 31 \n",
      "Learning rate: 1e-06\n",
      "Train loss: 0.7234 | Train precision: 0.6779 | Train recall: 0.5986 | Train f1score: 0.6136 | Train acc: 0.6467 | Train kappa: 0.6089 \n",
      "Val loss: 0.6867 | Val precision: 0.5928 | Val recall: 0.5822 | Val f1score: 0.5801 | Val acc: 0.6337 | Val kappa: 0.5189 \n",
      "\n",
      "Epoch: 32 \n",
      "Learning rate: 1e-06\n",
      "Train loss: 0.7368 | Train precision: 0.6661 | Train recall: 0.5859 | Train f1score: 0.6027 | Train acc: 0.6338 | Train kappa: 0.6018 \n",
      "Val loss: 0.6803 | Val precision: 0.5949 | Val recall: 0.5811 | Val f1score: 0.5809 | Val acc: 0.6372 | Val kappa: 0.5213 \n",
      "\n",
      "Epoch: 33 \n",
      "Learning rate: 1e-06\n",
      "Train loss: 0.7314 | Train precision: 0.6738 | Train recall: 0.5946 | Train f1score: 0.6106 | Train acc: 0.6311 | Train kappa: 0.5984 \n",
      "Val loss: 0.6815 | Val precision: 0.5980 | Val recall: 0.5844 | Val f1score: 0.5836 | Val acc: 0.6415 | Val kappa: 0.5272 \n",
      "\n",
      "Epoch: 34 \n",
      "Learning rate: 1e-06\n",
      "Train loss: 0.7320 | Train precision: 0.6691 | Train recall: 0.5944 | Train f1score: 0.6065 | Train acc: 0.6388 | Train kappa: 0.6074 \n",
      "Val loss: 0.6819 | Val precision: 0.5948 | Val recall: 0.5844 | Val f1score: 0.5835 | Val acc: 0.6424 | Val kappa: 0.5292 \n",
      "\n",
      "Epoch: 35 \n",
      "Learning rate: 1e-06\n",
      "Train loss: 0.7353 | Train precision: 0.6691 | Train recall: 0.5918 | Train f1score: 0.6027 | Train acc: 0.6345 | Train kappa: 0.5931 \n",
      "Val loss: 0.6792 | Val precision: 0.5935 | Val recall: 0.5830 | Val f1score: 0.5826 | Val acc: 0.6415 | Val kappa: 0.5278 \n",
      "\n",
      "Early stopping after epoch 35\n"
     ]
    },
    {
     "data": {
      "text/html": [
       "Waiting for W&B process to finish... <strong style=\"color:green\">(success).</strong>"
      ],
      "text/plain": [
       "<IPython.core.display.HTML object>"
      ]
     },
     "metadata": {},
     "output_type": "display_data"
    },
    {
     "data": {
      "application/vnd.jupyter.widget-view+json": {
       "model_id": "4ffd5afd3aca4dcdb54f3f86d8acd286",
       "version_major": 2,
       "version_minor": 0
      },
      "text/plain": [
       "VBox(children=(Label(value='0.001 MB of 0.001 MB uploaded (0.000 MB deduped)\\r'), FloatProgress(value=1.0, max…"
      ]
     },
     "metadata": {},
     "output_type": "display_data"
    },
    {
     "data": {
      "text/html": [
       "<style>\n",
       "    table.wandb td:nth-child(1) { padding: 0 10px; text-align: left ; width: auto;} td:nth-child(2) {text-align: left ; width: 100%}\n",
       "    .wandb-row { display: flex; flex-direction: row; flex-wrap: wrap; justify-content: flex-start; width: 100% }\n",
       "    .wandb-col { display: flex; flex-direction: column; flex-basis: 100%; flex: 1; padding: 10px; }\n",
       "    </style>\n",
       "<div class=\"wandb-row\"><div class=\"wandb-col\"><h3>Run history:</h3><br/><table class=\"wandb\"><tr><td>learning_rate</td><td>█▆▅▄▃▃▂▂▂▂▁▁▁▁▁▁▁▁▁▁▁▁▁▁▁▁▁▁▁▁▁▁▁▁▁</td></tr><tr><td>train_f1_score</td><td>▁▄▅▆▆▇▇▇▇▇▇▇▇▇█████████████████████</td></tr><tr><td>train_loss</td><td>█▅▄▃▃▂▂▂▂▁▂▂▁▁▁▁▁▁▁▁▁▁▁▁▁▁▁▁▁▁▁▁▁▁▁</td></tr><tr><td>val_f1_score</td><td>▁▂▇▂▄▇▇████████████████████████████</td></tr><tr><td>val_loss</td><td>█▁▁▁▁▁▁▁▁▁▁▁▁▁▁▁▁▁▁▁▁▁▁▁▁▁▁▁▁▁▁▁▁▁▁</td></tr></table><br/></div><div class=\"wandb-col\"><h3>Run summary:</h3><br/><table class=\"wandb\"><tr><td>learning_rate</td><td>0.0</td></tr><tr><td>train_f1_score</td><td>0.60269</td></tr><tr><td>train_loss</td><td>0.73529</td></tr><tr><td>val_f1_score</td><td>0.58256</td></tr><tr><td>val_loss</td><td>0.6792</td></tr></table><br/></div></div>"
      ],
      "text/plain": [
       "<IPython.core.display.HTML object>"
      ]
     },
     "metadata": {},
     "output_type": "display_data"
    },
    {
     "data": {
      "text/html": [
       " View run <strong style=\"color:#cdcd00\">fold_5_RGB-NIR_4classes</strong> at: <a href='https://wandb.ai/simon-ecke/wze-uav-4classes/runs/jk0xxjfh' target=\"_blank\">https://wandb.ai/simon-ecke/wze-uav-4classes/runs/jk0xxjfh</a><br/>Synced 5 W&B file(s), 0 media file(s), 0 artifact file(s) and 0 other file(s)"
      ],
      "text/plain": [
       "<IPython.core.display.HTML object>"
      ]
     },
     "metadata": {},
     "output_type": "display_data"
    },
    {
     "data": {
      "text/html": [
       "Find logs at: <code>.\\wandb\\run-20230422_205850-jk0xxjfh\\logs</code>"
      ],
      "text/plain": [
       "<IPython.core.display.HTML object>"
      ]
     },
     "metadata": {},
     "output_type": "display_data"
    },
    {
     "name": "stdout",
     "output_type": "stream",
     "text": [
      "Deleting variables and emptying cache\n",
      "Memory allocated: 1055441920 bytes\n",
      "--------------------------------------------------\n",
      "\n",
      "CPU times: total: 6h 28min 48s\n",
      "Wall time: 13h 26min 11s\n"
     ]
    }
   ],
   "source": [
    "%%time\n",
    "\n",
    "# Set the random seeds\n",
    "set_seeds(42)\n",
    "\n",
    "# Define the number of folds\n",
    "num_folds = 5\n",
    "\n",
    "# group the hashIDs to get the unique values of hashIDs remaining in the subset  \n",
    "groups = sub_hash_id[:, 0] \n",
    "print(\"ORIGINAL POSITIVE RATIO:\", sub_label_set.mean())\n",
    "# create a StratifiedGroupKFold instance\n",
    "kf = StratifiedGroupKFold(n_splits=num_folds, shuffle=True, random_state=42)\n",
    "\n",
    "# loop through the folds\n",
    "for fold, (train_ids, val_ids) in enumerate(kf.split(sub_image_set, sub_label_set, groups)):\n",
    "    print(\"Fold :\", fold+1)\n",
    "    print(\"TRAIN POSITIVE RATIO:\", sub_label_set[train_ids].mean())\n",
    "    print(\"VAL POSITIVE RATIO  :\", sub_label_set[val_ids].mean())\n",
    "    print(\"LENGTH TRAIN GROUPS :\", len(set(groups[train_ids])))\n",
    "    print(\"LENGTH VAL GROUPS   :\", len(set(groups[val_ids])))\n",
    "    \n",
    "    train_ids = sub_hash_id[:, 0][train_ids]\n",
    "    val_ids = np.unique(sub_hash_id[:, 0][val_ids])\n",
    "\n",
    "    torch.cuda.empty_cache()\n",
    "    \n",
    "    # Initialize a new wandb run for this fold\n",
    "    wandb.init(project='wze-uav-4classes', name=f\"fold_{fold + 1}_{extra}\")\n",
    "    \n",
    "    # 1. Split data into train and validation set\n",
    "    # Get the training and testing data for this fold\n",
    "    # Use np.isin() to create boolean arrays indicating which indices belong to train or test sets\n",
    "    train_indices = np.isin(sub_hash_id[:,0], train_ids)\n",
    "    \n",
    "    val_indices = np.zeros_like(train_indices)  # initialize to all False\n",
    "    for hash_id_val in val_ids:\n",
    "        # select one image ID randomly from either 2020 or 2021 or 2022 for each unique hash ID in the test set\n",
    "        temp = np.unique(sub_hash_id[(sub_hash_id[:, 0] == hash_id_val), 1]) # check how many years are available per hashID\n",
    "        if len(temp) == 1:\n",
    "            year = temp[0]\n",
    "        elif len(temp) == 2:\n",
    "            year = np.random.choice(temp)\n",
    "        else:\n",
    "            year = np.random.choice(temp)\n",
    "        \n",
    "        # select image ID using the conditions\n",
    "        image_ids = sub_hash_id[(sub_hash_id[:,0] == hash_id_val) & (sub_hash_id[:,1] == year), 0]\n",
    "    \n",
    "        # mark the index corresponding to the selected image ID and hash ID as True in the test indices array\n",
    "        val_indices[(sub_hash_id[:,0] == hash_id_val) & (sub_hash_id[:,1] == year) & (np.isin(sub_hash_id[:,0], image_ids))] = True \n",
    "    \n",
    "    # Reshape boolean arrays to match shape of image_set and label_set\n",
    "    train_indices = train_indices.reshape(-1, 1)\n",
    "    val_indices = val_indices.reshape(-1, 1)\n",
    "    \n",
    "    # Select images and labels for train and validation sets\n",
    "    train_image_set = sub_image_set[train_indices[:, 0]]\n",
    "    train_label_set = sub_label_set[train_indices[:, 0]]\n",
    "    train_hash_id = sub_hash_id[train_indices[:, 0]][:,0]\n",
    "    train_species_set = sub_species_set[train_indices[:, 0]]\n",
    "    val_image_set = sub_image_set[val_indices[:, 0]]\n",
    "    val_label_set = sub_label_set[val_indices[:, 0]]\n",
    "    val_hash_id = sub_hash_id[val_indices[:, 0]][:,0]\n",
    "    val_species_set = sub_species_set[val_indices[:, 0]]\n",
    "    # reshape \n",
    "    train_label_set = train_label_set.reshape(-1, 1)\n",
    "    val_label_set = val_label_set.reshape(-1, 1)\n",
    "    train_species_set = train_species_set.reshape(-1, 1)\n",
    "    val_species_set = val_species_set.reshape(-1, 1)\n",
    "    \n",
    "    # check if there are any group overlaps between the data splits\n",
    "    hash_set = set(train_hash_id)\n",
    "    val_hash_set = set(val_hash_id)\n",
    "    test_hash_set = set(test_hash_id[:, 0].flatten())\n",
    "    intersection = hash_set.intersection(val_hash_set)\n",
    "    intersection2 = test_hash_set.intersection(val_hash_set)\n",
    "    intersection3 = hash_set.intersection(test_hash_set)\n",
    "    if intersection:\n",
    "        print(f\"Hash_id values in both train and val sets: {len(intersection)}\")\n",
    "        print(f\"Hash_id values in both test and val sets: {len(intersection2)}\")\n",
    "        print(f\"Hash_id values in both train and test sets: {len(intersection3)}\")\n",
    "    else:\n",
    "        print(\"There are no same hash_id values in train, val or test datasets. The datasplit was successful\")\n",
    "    \n",
    "         \n",
    "    print(\"Check shapes:\\n\")\n",
    "    print(f\"Images train dataset: {train_image_set.shape}\")\n",
    "    print(f\"Labels train dataset: {train_label_set.shape}\\n\")\n",
    "    \n",
    "    print(f\"Images validation dataset: {val_image_set.shape}\")\n",
    "    print(f\"Labels validation dataset: {val_label_set.shape}\\n\")\n",
    "    print('-'*50)\n",
    "    print (f\"Check if the split was stratified: (random_state=42)\")\n",
    "    print(f\"Healthy trees in train dataset: {np.count_nonzero(train_label_set == 0)}\")\n",
    "    print(f\"Moderately stressed trees in train dataset: {np.count_nonzero(train_label_set == 1)}\")\n",
    "    print(f\"Severely stressed trees in train dataset: {np.count_nonzero(train_label_set == 2)}\")\n",
    "    print(f\"Dead trees in train dataset: {np.count_nonzero(train_label_set == 3)}\")\n",
    "    print(f\"Healthy trees in validation dataset: {np.count_nonzero(val_label_set == 0)}\")\n",
    "    print(f\"Moderately stressed trees in validation dataset: {np.count_nonzero(val_label_set == 1)}\")\n",
    "    print(f\"Severely stressed trees in validation dataset: {np.count_nonzero(val_label_set == 2)}\")\n",
    "    print(f\"Dead trees in validation dataset: {np.count_nonzero(val_label_set == 3)}\")\n",
    "    print(f\"Ratio health trees in validation dataset: {np.count_nonzero(val_label_set == 0)/np.count_nonzero(sub_label_set == 0)}\")\n",
    "    print(f\"Ratio moderately stressed trees in validation dataset: {np.count_nonzero(val_label_set == 1)/np.count_nonzero(sub_label_set == 1)}\")\n",
    "    print(f\"Ratio severely stressed trees in validation dataset: {np.count_nonzero(val_label_set == 1)/np.count_nonzero(sub_label_set == 2)}\")\n",
    "    print(f\"Ratio dead trees in validation dataset: {np.count_nonzero(val_label_set == 2)/np.count_nonzero(sub_label_set == 3)}\")\n",
    "    print(\"-\"*50)\n",
    "   \n",
    "    # 2. Create train and validation dataset. (choose custom dataset loader with 3 - 5 classes)\n",
    "    print(f\"\\nCreating datasets for fold: {fold + 1}\\n\")\n",
    "    train_dataset = data_loader.CustomDataset(data=train_image_set, labels=train_label_set, class_names=class_names, species = train_species_set,\n",
    "                                                         transform=transform_train)\n",
    "    \n",
    "    val_dataset = data_loader.CustomDataset(data=val_image_set, labels=val_label_set, class_names=class_names,\n",
    "                                                       species = val_species_set, transform=transform)\n",
    "   \n",
    "    # 3. Create train and validation dataloader\n",
    "    # create sampler for oversampling of the minority classes\n",
    "    sampler = data_loader.data_sampler(dataset=train_dataset, class_names=class_names)\n",
    "    print(f\"Creating dataloaders for fold: {fold +1}\\n\")\n",
    "    train_dataloader = DataLoader(train_dataset, batch_size=batch_size, persistent_workers=True, pin_memory=True, num_workers=NUM_WORKERS, generator=g,\n",
    "                              sampler=sampler, shuffle=False, drop_last=True) # shuffle false because of the sampler\n",
    "\n",
    "    val_dataloader = DataLoader(val_dataset, batch_size=batch_size, persistent_workers=True, pin_memory=True, num_workers=NUM_WORKERS, shuffle=False,\n",
    "                             drop_last=True)\n",
    "    \n",
    "    model = model_effnet.EfficientNet.from_pretrained('efficientnet-b7', in_channels=n_bands, num_classes=num_classes, dropout_rate=dropout_rate)\n",
    "    #model = models.create_effnetb7(output_shape=num_classes, unfreeze=True, dropout_rate=dropout_rate, device=device)\n",
    "   \n",
    "    loss_fn = nn.CrossEntropyLoss()\n",
    "    optimizer = torch.optim.Adam(params=model.parameters(), lr=lr)\n",
    "    lr_scheduler = CustomExponentialLR(optimizer, gamma=gamma, min_lr=min_lr)\n",
    "\n",
    "    fold += 1\n",
    "    print(f\"\\n[INFO] Fold number: {fold}\")\n",
    "    print(f\"[INFO] Number of epochs: {epochs}\")\n",
    "    print(f\"[INFO] Batch_size: {batch_size}\")\n",
    "    print(f\"[INFO] Number of bands: {n_bands}\")\n",
    "    print(f\"[INFO] Dropout rate: {dropout_rate}\")\n",
    "    print(f\"[INFO] Gamma learning rate: {gamma}\")\n",
    "    print(f\"[INFO] Memory allocated: {torch.cuda.memory_allocated()} bytes\")\n",
    "    # 4. Train model with k fold dataloaders and track experiments\n",
    "    \n",
    "    if fold == 1:\n",
    "        fold1_results = train(model=model, model_name=model_name, n_bands=n_bands, batch_size=batch_size,train_dataloader=train_dataloader, val_dataloader=val_dataloader, \n",
    "                        optimizer=optimizer, loss_fn=loss_fn, lr_scheduler=lr_scheduler, num_classes=num_classes, epochs=epochs, experiment_num=fold, device=device,\n",
    "                        writer=None, early_stop_patience = patience)\n",
    "       \n",
    "    elif fold == 2:\n",
    "        fold2_results = train(model=model, model_name=model_name, n_bands=n_bands, batch_size=batch_size,train_dataloader=train_dataloader, val_dataloader=val_dataloader, \n",
    "                        optimizer=optimizer, loss_fn=loss_fn, lr_scheduler=lr_scheduler, num_classes=num_classes, epochs=epochs, experiment_num=fold, device=device,\n",
    "                        writer=None, early_stop_patience = patience)\n",
    "    elif fold == 3:\n",
    "        fold3_results = train(model=model, model_name=model_name, n_bands=n_bands, batch_size=batch_size,train_dataloader=train_dataloader, val_dataloader=val_dataloader, \n",
    "                        optimizer=optimizer, loss_fn=loss_fn, lr_scheduler=lr_scheduler, num_classes=num_classes, epochs=epochs, experiment_num=fold, device=device,\n",
    "                        writer=None, early_stop_patience = patience)\n",
    "    elif fold == 4:\n",
    "        fold4_results = train(model=model, model_name=model_name, n_bands=n_bands, batch_size=batch_size,train_dataloader=train_dataloader, val_dataloader=val_dataloader, \n",
    "                        optimizer=optimizer, loss_fn=loss_fn, lr_scheduler=lr_scheduler, num_classes=num_classes, epochs=epochs, experiment_num=fold, device=device,\n",
    "                        writer=None, early_stop_patience = patience)\n",
    "    else:\n",
    "        fold5_results = train(model=model, model_name=model_name, n_bands=n_bands, batch_size=batch_size,train_dataloader=train_dataloader, val_dataloader=val_dataloader, \n",
    "                        optimizer=optimizer, loss_fn=loss_fn, lr_scheduler=lr_scheduler, num_classes=num_classes, epochs=epochs, experiment_num=fold, device=device,\n",
    "                        writer=None, early_stop_patience = patience)\n",
    "    \n",
    "    del train_indices, val_indices, train_image_set, train_label_set, train_hash_id, train_species_set, val_image_set, val_label_set, val_hash_id, val_species_set,\n",
    "    train_dataset, val_dataset, sampler, train_dataloader, val_dataloader, model, loss_fn, optimizer, lr_scheduler\n",
    "    \n",
    "    #finish the wandb run\n",
    "    wandb.finish()\n",
    "    print(\"Deleting variables and emptying cache\")\n",
    "    gc.collect()\n",
    "    torch.cuda.empty_cache()\n",
    "    print(f\"Memory allocated: {torch.cuda.memory_allocated()} bytes\")\n",
    "    print(\"-\"*50 + \"\\n\")"
   ]
  },
  {
   "cell_type": "markdown",
   "id": "d7402d31",
   "metadata": {},
   "source": [
    "#### Create test dataset and test dataloader "
   ]
  },
  {
   "cell_type": "code",
   "execution_count": null,
   "id": "c0c36ebb",
   "metadata": {},
   "outputs": [],
   "source": [
    "# create test dataset\n",
    "test_dataset = data_loader.CustomTestDataset(\n",
    "    data = test_image_set,\n",
    "    labels = test_label_set,\n",
    "    class_names=class_names, \n",
    "    species = test_species_set,\n",
    "    kkl = None,\n",
    "    transform=transform\n",
    ")\n",
    "\n",
    "# create test dataloader\n",
    "test_dataloader = DataLoader(test_dataset,\n",
    "                             batch_size=batch_size,\n",
    "                             persistent_workers=True,\n",
    "                             pin_memory=True,\n",
    "                             num_workers=NUM_WORKERS,\n",
    "                             shuffle=False,\n",
    "                             drop_last=True)"
   ]
  },
  {
   "cell_type": "markdown",
   "id": "22cdaac7",
   "metadata": {},
   "source": [
    "#### Perform ensembling of the five best models"
   ]
  },
  {
   "cell_type": "code",
   "execution_count": null,
   "id": "67db5af2",
   "metadata": {},
   "outputs": [],
   "source": [
    "# Setup the best model filepaths\n",
    "best_model1_path = r\"C:\\Users\\lwfeckesim\\01_PyTorch\\wze-uav\\wze-uav-master\\effnet_b0\\01_18_epochs.pth\"\n",
    "best_model2_path = r\"C:\\Users\\lwfeckesim\\01_PyTorch\\wze-uav\\wze-uav-master\\effnet_b0\\01_18_epochs.pth\"\n",
    "best_model3_path = r\"C:\\Users\\lwfeckesim\\01_PyTorch\\wze-uav\\wze-uav-master\\effnet_b0\\01_18_epochs.pth\"\n",
    "best_model4_path = r\"C:\\Users\\lwfeckesim\\01_PyTorch\\wze-uav\\wze-uav-master\\effnet_b0\\01_18_epochs.pth\"\n",
    "best_model5_path = r\"C:\\Users\\lwfeckesim\\01_PyTorch\\wze-uav\\wze-uav-master\\effnet_b0\\01_18_epochs.pth\"\n",
    "\n",
    "# Instantiate a new instance of EffNetB7 (to load the saved state_dict() to)\n",
    "model1 = models.create_effnetb7(output_shape=num_classes, unfreeze=unfreeze, dropout_rate=dropout_rate, device=device)\n",
    "model2 = models.create_effnetb7(output_shape=num_classes, unfreeze=unfreeze, dropout_rate=dropout_rate, device=device)\n",
    "model3 = models.create_effnetb7(output_shape=num_classes, unfreeze=unfreeze, dropout_rate=dropout_rate, device=device)\n",
    "model4 = models.create_effnetb7(output_shape=num_classes, unfreeze=unfreeze, dropout_rate=dropout_rate, device=device)\n",
    "model5 = models.create_effnetb7(output_shape=num_classes, unfreeze=unfreeze, dropout_rate=dropout_rate, device=device)\n",
    "# for custom models with more than three bands as input\n",
    "#model1 = model_effnet.EfficientNet.from_pretrained('efficientnet-b7', in_channels=n_bands, num_classes=num_classes, dropout_rate=dropout_rate)\n",
    "#model2 = model_effnet.EfficientNet.from_pretrained('efficientnet-b7', in_channels=n_bands, num_classes=num_classes, dropout_rate=dropout_rate)\n",
    "#model3 = model_effnet.EfficientNet.from_pretrained('efficientnet-b7', in_channels=n_bands, num_classes=num_classes, dropout_rate=dropout_rate)\n",
    "#model4 = model_effnet.EfficientNet.from_pretrained('efficientnet-b7', in_channels=n_bands, num_classes=num_classes, dropout_rate=dropout_rate)\n",
    "#model5 = model_effnet.EfficientNet.from_pretrained('efficientnet-b7', in_channels=n_bands, num_classes=num_classes, dropout_rate=dropout_rate)\n",
    "\n",
    "# Load the saved best model state_dict()\n",
    "model1.load_state_dict(torch.load(best_model1_path))\n",
    "model2.load_state_dict(torch.load(best_model2_path))\n",
    "model3.load_state_dict(torch.load(best_model3_path))\n",
    "model4.load_state_dict(torch.load(best_model4_path))\n",
    "model5.load_state_dict(torch.load(best_model5_path))\n",
    "\n",
    "model1.eval()\n",
    "model2.eval()\n",
    "model3.eval()\n",
    "model4.eval()\n",
    "model5.eval()\n",
    "\n",
    "# Initialize the lists to store the predictions\n",
    "all_preds_model1 = []\n",
    "all_preds_model2 = []\n",
    "all_preds_model3 = []\n",
    "all_preds_model4 = []\n",
    "all_preds_model5 = []\n",
    "\n",
    "# Loop through the test dataset and generate predictions for each model\n",
    "with torch.no_grad():\n",
    "    for batch in test_dataloader:\n",
    "        inputs, labels = batch\n",
    "        inputs, labels = inputs.to(device), labels.to(device)\n",
    "        \n",
    "        # Generate predictions for each model\n",
    "        preds_model1 = model1(inputs)\n",
    "        preds_model2 = model2(inputs)\n",
    "        preds_model3 = model3(inputs)\n",
    "        preds_model4 = model4(inputs)\n",
    "        preds_model5 = model5(inputs)\n",
    "\n",
    "        # Append the predictions to the corresponding list\n",
    "        all_preds_model1.append(preds_model1.cpu().numpy())\n",
    "        all_preds_model2.append(preds_model2.cpu().numpy())\n",
    "        all_preds_model3.append(preds_model3.cpu().numpy())\n",
    "        all_preds_model4.append(preds_model4.cpu().numpy())\n",
    "        all_preds_model5.append(preds_model5.cpu().numpy())\n",
    "\n",
    "# Concatenate the predictions from all the models\n",
    "all_preds_model1 = np.concatenate(all_preds_model1)\n",
    "all_preds_model2 = np.concatenate(all_preds_model2)\n",
    "all_preds_model3 = np.concatenate(all_preds_model3)\n",
    "all_preds_model4 = np.concatenate(all_preds_model4)\n",
    "all_preds_model5 = np.concatenate(all_preds_model5)\n",
    "\n",
    "# Calculate the ensemble predictions\n",
    "ensemble_preds = np.mean([all_preds_model1, all_preds_model2, all_preds_model3, all_preds_model4, all_preds_model5], axis=0)\n",
    "ensemble_labels = np.argmax(ensemble_preds, axis=1)\n",
    "\n",
    "# Calculate the evaluation metrics for the ensemble model\n",
    "from sklearn.metrics import classification_report, confusion_matrix\n",
    "\n",
    "print(classification_report(test_labels, ensemble_labels))\n",
    "print(confusion_matrix(test_labels, ensemble_labels))\n",
    "\n",
    "\n",
    "\n",
    "\n"
   ]
  },
  {
   "cell_type": "code",
   "execution_count": null,
   "id": "6dfbc663",
   "metadata": {},
   "outputs": [],
   "source": [
    "def make_predictions(model: torch.nn.Module, \n",
    "                     test_dataloader: torch.utils.data.DataLoader,\n",
    "                     device: torch.device):\n",
    "    # 1. Make predictions with trained model\n",
    "    y_preds = []\n",
    "    y_labels = []\n",
    "    species_list = []\n",
    "    test_loss, test_precision, test_recall, test_f1_score, test_acc = 0, 0, 0, 0, 0\n",
    "    count = 0\n",
    "    model.eval()\n",
    "    with torch.inference_mode():\n",
    "        for X, y, species in tqdm(test_dataloader, desc=\"Making predictions\"):\n",
    "            # Send data and targets to target device\n",
    "            X, y = X.to(device), y.to(device)\n",
    "            # Do the forward pass\n",
    "            y_logit = model(X)\n",
    "            # Turn predictions from logits -> prediction probabilities -> predictions labels\n",
    "            y_pred = torch.softmax(y_logit, dim=1).argmax(dim=1)\n",
    "            # Put predictions on CPU for evaluation\n",
    "            y_preds.append(y_pred.cpu())\n",
    "            y_labels.append(y.cpu())\n",
    "            species_list.append(species)\n",
    "            \n",
    "            #other metrics\n",
    "            test_acc += ((y_pred == y).sum().item()/len(y_pred))\n",
    "            y_pred_class = y_pred.detach().cpu().numpy() \n",
    "            y_class = y.detach().cpu().numpy()\n",
    "            labels = np.array([0])\n",
    "            test_precision += precision_score(y_class, y_pred_class, average='macro', zero_division=0, labels=[0,1,2])\n",
    "            test_recall += recall_score(y_class, y_pred_class, average='macro', zero_division=0, labels=[0,1,2])\n",
    "            #test_f1_score += f1_score(y_class, y_pred_class, average='macro', zero_division=1, labels=labels)\n",
    "            \n",
    "            #if count >= 1:\n",
    "            #    y_set = torch.cat((y_set, y))\n",
    "            #    count = count + 1\n",
    "            #else:\n",
    "            #    y_set = y\n",
    "            #    count = count + 1\n",
    "            \n",
    "    test_loss = test_loss / len(test_dataloader)\n",
    "    test_precision = test_precision / len(test_dataloader)\n",
    "    test_recall = test_recall / len(test_dataloader)\n",
    "    test_f1_score = test_f1_score / len(test_dataloader)\n",
    "    #test_kappa = test_kappa / len(dataloader)\n",
    "    test_acc = test_acc / len(test_dataloader)\n",
    "    # Concatenate list of predictions into a tensor\n",
    "    y_pred_tensor = torch.cat(y_preds)\n",
    "    y_labels_tensor = torch.cat(y_labels)\n",
    "    test_f1_score = f1_score(y_labels_tensor.detach().cpu().numpy(), y_pred_tensor.cpu().numpy(), average='macro', zero_division=1, labels=[0,1,2])\n",
    "    \n",
    "    # Print classification report\n",
    "    y_true = y_labels_tensor.detach().cpu().numpy()\n",
    "    report = classification_report(y_true, y_pred_tensor.cpu().numpy(), target_names=class_names)\n",
    "    print(report)\n",
    "    \n",
    "    return y_pred_tensor, y_labels_tensor, test_loss, test_recall, test_precision, test_f1_score, test_acc, y_logit, y_pred, y, y_preds"
   ]
  },
  {
   "cell_type": "code",
   "execution_count": null,
   "id": "aab9e321",
   "metadata": {},
   "outputs": [],
   "source": [
    "# 2. Setup confusion matrix instance and compare predictions to targets\n",
    "#from wze_uav.analysis import *\n",
    "y_pred_tensor, y_labels_tensor, test_loss, test_recall, test_precision, test_f1_score, test_acc, y_logit, y_pred, y, y_preds = make_predictions(model=best_model,\n",
    "                                 test_dataloader=test_dataloader, \n",
    "                                 device=device)\n",
    "\n",
    "y_labels_tensor = y_labels_tensor.detach().cpu().numpy()\n",
    "y_pred_tensor = y_pred_tensor.detach().cpu().numpy()\n",
    "\n",
    "#confmat = ConfusionMatrix(num_classes=num_classes, task='multiclass')\n",
    "#confmat_tensor = confmat(preds=y_pred_tensor,\n",
    "#                         target=test_labels)\n",
    "labels = np.array([0,1,2])\n",
    "confmat = confusion_matrix(y_labels_tensor, y_pred_tensor, labels=labels)\n",
    "\n",
    "# 3. Plot the confusion matrix\n",
    "fig, ax = plot_confusion_matrix(\n",
    "    conf_mat=confmat, # matplotlib likes working with NumPy \n",
    "    class_names=class_names, # turn the row and column labels into class names\n",
    "    figsize=(10, 7)\n",
    ");\n",
    "\n",
    "print(f\"Test loss: {test_loss}\")\n",
    "print(f\"Test precision: {test_precision}\")\n",
    "print(f\"Test recall: {test_recall}\")\n",
    "print(f\"Test F1score: {test_f1_score}\")\n",
    "#print(f\"Test Kappa: {test_kappa}\")\n",
    "print(f\"Test Accuracy: {test_acc}\")\n",
    "print(f\"Test Logits: {y_logit}\")\n",
    "print(f\"Test Predictions: {y_pred}\")\n",
    "print(f\"Test Labels: {y}\")"
   ]
  },
  {
   "cell_type": "code",
   "execution_count": null,
   "id": "8d4173b3",
   "metadata": {},
   "outputs": [],
   "source": [
    "len(y_preds)"
   ]
  },
  {
   "cell_type": "code",
   "execution_count": null,
   "id": "7588116f",
   "metadata": {},
   "outputs": [],
   "source": [
    "y_set.cpu()"
   ]
  },
  {
   "cell_type": "code",
   "execution_count": null,
   "id": "1c195b3e",
   "metadata": {},
   "outputs": [],
   "source": [
    "test_dataset.labels"
   ]
  },
  {
   "cell_type": "code",
   "execution_count": null,
   "id": "975ec08c",
   "metadata": {},
   "outputs": [],
   "source": []
  },
  {
   "cell_type": "code",
   "execution_count": null,
   "id": "6da05604",
   "metadata": {},
   "outputs": [],
   "source": [
    "y_preds = []\n",
    "y_labels = []\n",
    "labels = np.array([0,1,2])\n",
    "test_loss, test_precision, test_recall, test_f1_score, test_acc = 0, 0, 0, 0, 0\n",
    "count = 0\n",
    "model.eval()\n",
    "with torch.inference_mode():\n",
    "    for X, y in tqdm(test_dataloader, desc=\"Making predictions\"):\n",
    "        # Send data and targets to target device\n",
    "        X, y = X.to(device), y.to(device)\n",
    "        # Do the forward pass\n",
    "        y_logit = model(X)\n",
    "        # Turn predictions from logits -> prediction probabilities -> predictions labels\n",
    "        y_pred = torch.softmax(y_logit, dim=1).argmax(dim=1)\n",
    "        # Put predictions on CPU for evaluation\n",
    "        y_preds.append(y_pred.cpu())\n",
    "        y_labels.append(y.cpu())\n",
    "        \n",
    "        #other metrics\n",
    "        test_acc += ((y_pred == y).sum().item()/len(y_pred))\n",
    "        y_pred_class = y_pred.detach().cpu().numpy() \n",
    "        y_class = y.detach().cpu().numpy()\n",
    "        test_precision += precision_score(y_class, y_pred_class, average='macro', zero_division=1, labels=labels)\n",
    "        test_recall += recall_score(y_class, y_pred_class, average='macro', zero_division=1, labels=labels)\n",
    "        #test_f1_score += f1_score(y_class, y_pred_class, average='macro', zero_division=1, labels=labels)\n",
    "        \n",
    "        #if count >= 1:\n",
    "        #    y_set = torch.cat((y_set, y))\n",
    "        #    count = count + 1\n",
    "        #else:\n",
    "        #    y_set = y\n",
    "        #    count = count + 1\n",
    "        \n",
    "test_loss = test_loss / len(test_dataloader)\n",
    "test_precision = test_precision / len(test_dataloader)\n",
    "test_recall = test_recall / len(test_dataloader)\n",
    "#test_f1_score = test_f1_score / len(test_dataloader)\n",
    "#test_kappa = test_kappa / len(dataloader)\n",
    "test_acc = test_acc / len(test_dataloader)\n",
    "# Concatenate list of predictions into a tensor\n",
    "y_pred_tensor = torch.cat(y_preds)\n",
    "test_f1_score = f1_score(y_set.detach().cpu().numpy(), y_pred_tensor.cpu().numpy(), average='macro', zero_division=0, labels=[0,1,2])\n",
    "\n",
    "# Print classification report\n",
    "y_true = y_set.detach().cpu().numpy()\n",
    "report = classification_report(y_true, y_pred_tensor.cpu().numpy(), target_names=class_names)\n",
    "print(report)"
   ]
  },
  {
   "cell_type": "code",
   "execution_count": null,
   "id": "6ae97fab",
   "metadata": {},
   "outputs": [],
   "source": [
    "test_f1_score"
   ]
  },
  {
   "cell_type": "code",
   "execution_count": null,
   "id": "7ebafd9b",
   "metadata": {},
   "outputs": [],
   "source": [
    "make = (y_class == y_pred_class)\n",
    "make"
   ]
  },
  {
   "cell_type": "code",
   "execution_count": null,
   "id": "4f8aa759",
   "metadata": {},
   "outputs": [],
   "source": [
    "torch.softmax(y_logit, dim=1).argmax(dim=1)"
   ]
  },
  {
   "cell_type": "code",
   "execution_count": null,
   "id": "f90a54b2",
   "metadata": {},
   "outputs": [],
   "source": [
    "y"
   ]
  },
  {
   "cell_type": "code",
   "execution_count": null,
   "id": "5a806154",
   "metadata": {},
   "outputs": [],
   "source": [
    "test = (y_pred == y).sum().item()/16"
   ]
  },
  {
   "cell_type": "code",
   "execution_count": null,
   "id": "1da35c56",
   "metadata": {},
   "outputs": [],
   "source": [
    "test"
   ]
  },
  {
   "cell_type": "code",
   "execution_count": null,
   "id": "b1eb246e",
   "metadata": {},
   "outputs": [],
   "source": [
    " y_pred_class = y_pred.detach().cpu().numpy() "
   ]
  },
  {
   "cell_type": "code",
   "execution_count": null,
   "id": "602e096f",
   "metadata": {},
   "outputs": [],
   "source": [
    "y_pred_class"
   ]
  },
  {
   "cell_type": "code",
   "execution_count": null,
   "id": "eaf1af09",
   "metadata": {},
   "outputs": [],
   "source": []
  }
 ],
 "metadata": {
  "kernelspec": {
   "display_name": "Python 3 (ipykernel)",
   "language": "python",
   "name": "python3"
  },
  "language_info": {
   "codemirror_mode": {
    "name": "ipython",
    "version": 3
   },
   "file_extension": ".py",
   "mimetype": "text/x-python",
   "name": "python",
   "nbconvert_exporter": "python",
   "pygments_lexer": "ipython3",
   "version": "3.9.16"
  }
 },
 "nbformat": 4,
 "nbformat_minor": 5
}
