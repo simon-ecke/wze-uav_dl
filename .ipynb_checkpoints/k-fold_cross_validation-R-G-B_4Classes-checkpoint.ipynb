{
 "cells": [
  {
   "cell_type": "markdown",
   "id": "c1acdaa3",
   "metadata": {},
   "source": [
    "# WZE-UAV Image Classification using Deep Learning"
   ]
  },
  {
   "cell_type": "code",
   "execution_count": 1,
   "id": "2159aac5",
   "metadata": {},
   "outputs": [],
   "source": [
    "import os\n",
    "import gc\n",
    "import glob\n",
    "import numpy as np\n",
    "from pathlib import Path\n",
    "from tqdm.auto import tqdm\n",
    "from sklearn.metrics import confusion_matrix, classification_report\n",
    "from sklearn.model_selection import KFold"
   ]
  },
  {
   "cell_type": "code",
   "execution_count": 2,
   "id": "0026f7a9",
   "metadata": {},
   "outputs": [],
   "source": [
    "import torch\n",
    "import torchvision.transforms as T\n",
    "import torchvision\n",
    "from torch import nn\n",
    "from torch.utils.data import DataLoader\n",
    "from torchvision import datasets, transforms\n",
    "from torch.utils.data import Dataset\n",
    "import torch.optim as optim\n",
    "from torch.optim.lr_scheduler import ExponentialLR\n",
    "from mlxtend.plotting import plot_confusion_matrix"
   ]
  },
  {
   "cell_type": "code",
   "execution_count": 3,
   "id": "b160d7b4",
   "metadata": {},
   "outputs": [],
   "source": [
    "import wze_uav.data_loader as data_loader\n",
    "import wze_uav.models as models\n",
    "from wze_uav.engine import *\n",
    "from wze_uav.utils2 import *\n",
    "#from wze_uav.log_writer import create_writer\n",
    "from wze_uav.datasplit import *\n",
    "from efficientnet import model_effnet #for custom effnet with n_channels input\n",
    "import wandb"
   ]
  },
  {
   "cell_type": "markdown",
   "id": "2bd4fb2f",
   "metadata": {},
   "source": [
    "#### Get PyTorch version"
   ]
  },
  {
   "cell_type": "code",
   "execution_count": 4,
   "id": "c10886b1",
   "metadata": {},
   "outputs": [
    {
     "name": "stdout",
     "output_type": "stream",
     "text": [
      "torch version: 1.13.1+cu116\n",
      "torchvision version: 0.14.1+cu116\n"
     ]
    }
   ],
   "source": [
    "print(f\"torch version: {torch.__version__}\")\n",
    "print(f\"torchvision version: {torchvision.__version__}\")"
   ]
  },
  {
   "cell_type": "markdown",
   "id": "aa6a83cf",
   "metadata": {},
   "source": [
    "#### Preparing device agnostic code "
   ]
  },
  {
   "cell_type": "code",
   "execution_count": 5,
   "id": "13d5de88",
   "metadata": {},
   "outputs": [
    {
     "name": "stdout",
     "output_type": "stream",
     "text": [
      "cuda\n",
      "Index of current divice: 0\n",
      "Number of GPUs available: 1\n",
      "GPU Model: Quadro RTX 8000\n"
     ]
    }
   ],
   "source": [
    "# ensure device agnostic code\n",
    "device = 'cuda' if torch.cuda.is_available() else 'cpu'\n",
    "print(device)\n",
    "\n",
    "# get index of currently selected device\n",
    "print(f\"Index of current divice: {torch.cuda.current_device()}\")\n",
    "# get number of GPUs available\n",
    "print(f\"Number of GPUs available: {torch.cuda.device_count()}\")\n",
    "# get the name of the device\n",
    "print(f\"GPU Model: {torch.cuda.get_device_name(0)}\")"
   ]
  },
  {
   "cell_type": "markdown",
   "id": "8ef6b169",
   "metadata": {},
   "source": [
    "#### Login to Weights & Biases to track results"
   ]
  },
  {
   "cell_type": "code",
   "execution_count": 6,
   "id": "a59d27cf",
   "metadata": {},
   "outputs": [
    {
     "name": "stderr",
     "output_type": "stream",
     "text": [
      "Failed to detect the name of this notebook, you can set it manually with the WANDB_NOTEBOOK_NAME environment variable to enable code saving.\n",
      "\u001b[34m\u001b[1mwandb\u001b[0m: Currently logged in as: \u001b[33msimon-ecke\u001b[0m. Use \u001b[1m`wandb login --relogin`\u001b[0m to force relogin\n"
     ]
    },
    {
     "data": {
      "text/html": [
       "Tracking run with wandb version 0.14.2"
      ],
      "text/plain": [
       "<IPython.core.display.HTML object>"
      ]
     },
     "metadata": {},
     "output_type": "display_data"
    },
    {
     "data": {
      "text/html": [
       "Run data is saved locally in <code>C:\\Users\\lwfeckesim\\01_PyTorch\\wze-uav\\wze-uav-master\\wandb\\run-20230419_104102-8cnlr1rp</code>"
      ],
      "text/plain": [
       "<IPython.core.display.HTML object>"
      ]
     },
     "metadata": {},
     "output_type": "display_data"
    },
    {
     "data": {
      "text/html": [
       "Syncing run <strong><a href='https://wandb.ai/simon-ecke/wze-uav-v2/runs/8cnlr1rp' target=\"_blank\">fast-glitter-22</a></strong> to <a href='https://wandb.ai/simon-ecke/wze-uav-v2' target=\"_blank\">Weights & Biases</a> (<a href='https://wandb.me/run' target=\"_blank\">docs</a>)<br/>"
      ],
      "text/plain": [
       "<IPython.core.display.HTML object>"
      ]
     },
     "metadata": {},
     "output_type": "display_data"
    },
    {
     "data": {
      "text/html": [
       " View project at <a href='https://wandb.ai/simon-ecke/wze-uav-v2' target=\"_blank\">https://wandb.ai/simon-ecke/wze-uav-v2</a>"
      ],
      "text/plain": [
       "<IPython.core.display.HTML object>"
      ]
     },
     "metadata": {},
     "output_type": "display_data"
    },
    {
     "data": {
      "text/html": [
       " View run at <a href='https://wandb.ai/simon-ecke/wze-uav-v2/runs/8cnlr1rp' target=\"_blank\">https://wandb.ai/simon-ecke/wze-uav-v2/runs/8cnlr1rp</a>"
      ],
      "text/plain": [
       "<IPython.core.display.HTML object>"
      ]
     },
     "metadata": {},
     "output_type": "display_data"
    },
    {
     "data": {
      "text/html": [
       "<button onClick=\"this.nextSibling.style.display='block';this.style.display='none';\">Display W&B run</button><iframe src='https://wandb.ai/simon-ecke/wze-uav-v2/runs/8cnlr1rp?jupyter=true' style='border:none;width:100%;height:420px;display:none;'></iframe>"
      ],
      "text/plain": [
       "<wandb.sdk.wandb_run.Run at 0x19f457db790>"
      ]
     },
     "execution_count": 6,
     "metadata": {},
     "output_type": "execute_result"
    }
   ],
   "source": [
    "# IMPORTANT: The proxy needs to be set in anaconda!\n",
    "# copy paste this in anaconda and restart jupyter notebook\n",
    "#set http_proxy=http://www-proxy.bayern.de:80\n",
    "#set https_proxy=http://www-proxy.bayern.de:80\n",
    "wandb.login()\n",
    "#wandb.init(settings=wandb.Settings(start_method=\"thread\"))\n",
    "wandb.init(project='wze-uav-v2', entity='simon-ecke')"
   ]
  },
  {
   "cell_type": "markdown",
   "id": "a26a6a34",
   "metadata": {},
   "source": [
    "#### Ensure reproducibility "
   ]
  },
  {
   "cell_type": "code",
   "execution_count": 7,
   "id": "dd4656a7",
   "metadata": {},
   "outputs": [],
   "source": [
    "# for more information, see also: https://pytorch.org/docs/stable/notes/randomness.html\n",
    "\n",
    "# Set seeds\n",
    "def set_seeds(seed: int=42):\n",
    "    \"\"\"Sets random sets for torch operations.\n",
    "\n",
    "    Args:\n",
    "        seed (int, optional): Random seed to set. Defaults to 42.\n",
    "    \"\"\"\n",
    "    # Set the seed for general torch operations\n",
    "    torch.manual_seed(seed)\n",
    "    # Set the seed for CUDA torch operations (ones that happen on the GPU)\n",
    "    torch.cuda.manual_seed(seed)\n",
    "    # seed for numpy\n",
    "    np.random.seed(seed)\n",
    "\n",
    "set_seeds(42) \n",
    "\n",
    "# Set to true -> might speed up the process but should be set to False if reproducible results are desired\n",
    "torch.backends.cudnn.benchmark = False\n"
   ]
  },
  {
   "cell_type": "markdown",
   "id": "8be33671",
   "metadata": {},
   "source": [
    "#### Define file directory"
   ]
  },
  {
   "cell_type": "code",
   "execution_count": 8,
   "id": "30645f36",
   "metadata": {},
   "outputs": [],
   "source": [
    "#####################################################################################\n",
    "# 3 channel input (r-g-b)\n",
    "data_path = r\"D:\\Drohnendaten\\10_WZE-UAV\\Auswertung_findatree\\Datasplit\\ROI\\rgb\"\n",
    "\n",
    "# 4 channel input (r-g-b-nir)\n",
    "#data_path = r\"D:\\Drohnendaten\\10_WZE-UAV\\Auswertung_findatree\\Datasplit\\ROI\\rgb-nir\"\n",
    "\n",
    "# 5 channel input (r-g-b-re-nir)\n",
    "#data_path = r\"D:\\Drohnendaten\\10_WZE-UAV\\Auswertung_findatree\\Datasplit\\ROI\\rgb-re-nir\"\n",
    "#####################################################################################"
   ]
  },
  {
   "cell_type": "markdown",
   "id": "4560ce64",
   "metadata": {},
   "source": [
    "#### Get all file paths"
   ]
  },
  {
   "cell_type": "code",
   "execution_count": 9,
   "id": "aa072e4c",
   "metadata": {},
   "outputs": [],
   "source": [
    "fn_list = os.listdir(data_path)\n",
    "path_list = []\n",
    "# Iterate over all datafiles\n",
    "for year in fn_list:\n",
    "    year_dir = f'{data_path}\\\\{year}'\n",
    "    for filename in os.listdir(year_dir):\n",
    "        path = f'{year_dir}\\\\{filename}'\n",
    "        path_list.append(path)"
   ]
  },
  {
   "cell_type": "markdown",
   "id": "f3937a44",
   "metadata": {},
   "source": [
    "#### Create unique hash IDs for every individual tree"
   ]
  },
  {
   "cell_type": "code",
   "execution_count": 10,
   "id": "8a50f1d7",
   "metadata": {},
   "outputs": [
    {
     "data": {
      "application/vnd.jupyter.widget-view+json": {
       "model_id": "3630b036398f47f894078f3cfe8d964d",
       "version_major": 2,
       "version_minor": 0
      },
      "text/plain": [
       "Creating unique tree IDs...:   0%|          | 0/647 [00:00<?, ?it/s]"
      ]
     },
     "metadata": {},
     "output_type": "display_data"
    }
   ],
   "source": [
    "hashID_dict = data_loader.get_unique_treeID(path_list)"
   ]
  },
  {
   "cell_type": "markdown",
   "id": "6f4cea00",
   "metadata": {},
   "source": [
    "#### Import all imagery, labels and other features from hdf5 files"
   ]
  },
  {
   "cell_type": "code",
   "execution_count": 11,
   "id": "94e3eecf",
   "metadata": {},
   "outputs": [
    {
     "data": {
      "application/vnd.jupyter.widget-view+json": {
       "model_id": "8a64d2180779432d872362c68795e56f",
       "version_major": 2,
       "version_minor": 0
      },
      "text/plain": [
       "Processing hdf5 datasets:   0%|          | 0/647 [00:00<?, ?it/s]"
      ]
     },
     "metadata": {},
     "output_type": "display_data"
    }
   ],
   "source": [
    "image_set, label_set, species_set, kkl_set, bk_set, hash_id = data_loader.hdf5_to_img_label(path_list,\n",
    "                                                                                               hashID_dict,\n",
    "                                                                                               load_sets=[\"images_masked\"])"
   ]
  },
  {
   "cell_type": "markdown",
   "id": "6a90e2b7",
   "metadata": {},
   "source": [
    "#### Convert nbv to classes"
   ]
  },
  {
   "cell_type": "code",
   "execution_count": 12,
   "id": "0224972a",
   "metadata": {},
   "outputs": [],
   "source": [
    "label_set = nbv_to_sst_3classes(label_set)"
   ]
  },
  {
   "cell_type": "markdown",
   "id": "c6b4cd85",
   "metadata": {},
   "source": [
    "#### Split data into a sub set and a test dataset"
   ]
  },
  {
   "cell_type": "code",
   "execution_count": 13,
   "id": "d06eda54",
   "metadata": {},
   "outputs": [
    {
     "name": "stdout",
     "output_type": "stream",
     "text": [
      "ORIGINAL POSITIVE RATIO: 0.42823717096516883\n",
      "Fold : 0\n",
      "TRAIN POSITIVE RATIO: 0.4286353181702019\n",
      "TEST POSITIVE RATIO : 0.4262607040913416\n",
      "LENGTH TRAIN GROUPS : 5900\n",
      "LENGTH TEST GROUPS  : 1187\n",
      "Number of True in sub_indices: 15652\n",
      "Number of False in sub_indices: 3153\n",
      "Number of True in test_indices: 1187\n",
      "Number of False in test_indices: 17618\n",
      "Check shapes:\n",
      "\n",
      "Images sub dataset: (15652, 250, 250, 3)\n",
      "Labels sub dataset: (15652, 1)\n",
      "\n",
      "Images test dataset: (1187, 250, 250, 3)\n",
      "Labels test dataset: (1187, 1)\n",
      "\n",
      "--------------------------------------------------\n",
      "Check if the split was stratified: (random_state=42)\n",
      "Healthy trees in sub dataset: 9208\n",
      "Stressed trees in sub dataset: 6179\n",
      "Dead trees in sub dataset: 265\n",
      "Healthy trees in test dataset: 685\n",
      "Stressed trees in test dataset: 483\n",
      "Dead trees in test dataset: 19\n",
      "Ratio health trees in test dataset: 0.07439183318853171\n",
      "Ratio stressed trees in test dataset: 0.07816798834762907\n",
      "Ratio dead trees in test dataset: 0.07169811320754717\n"
     ]
    }
   ],
   "source": [
    "sub_image_set, sub_label_set, sub_hash_id, sub_species_set, test_image_set, test_label_set, test_hash_id, test_species_set = data_split(image_set, label_set, hash_id, species_set, n_splits=6, random_state=42, seed=2)\n"
   ]
  },
  {
   "cell_type": "markdown",
   "id": "c48fbb5b",
   "metadata": {},
   "source": [
    "#### Check if any hash ID is in both sub and test dataset"
   ]
  },
  {
   "cell_type": "code",
   "execution_count": 14,
   "id": "874367cf",
   "metadata": {},
   "outputs": [
    {
     "name": "stdout",
     "output_type": "stream",
     "text": [
      "There are no hash_id values in both train and test datasets. The datasplit was successful\n"
     ]
    }
   ],
   "source": [
    "hash_set = set(sub_hash_id[:,0].flatten())\n",
    "test_hash_set = set(test_hash_id[:,0].flatten())\n",
    "intersection = hash_set.intersection(test_hash_set)\n",
    "if intersection:\n",
    "    print(f\"Hash_id values in both train and test sets: {len(intersection)}\")\n",
    "else:\n",
    "    print(\"There are no hash_id values in both train and test datasets. The datasplit was successful\")"
   ]
  },
  {
   "cell_type": "markdown",
   "id": "9e5b64d4",
   "metadata": {},
   "source": [
    "#### Check feature distribution of the Test dataset"
   ]
  },
  {
   "cell_type": "code",
   "execution_count": 15,
   "id": "a33ff5cb",
   "metadata": {},
   "outputs": [
    {
     "name": "stdout",
     "output_type": "stream",
     "text": [
      "Test dataset\n",
      "Test data healthy trees: 685\n",
      "Test data stressed trees: 483\n",
      "Test data dead trees: 19\n",
      "Test data pine trees: 301\n",
      "Test data spruces: 468\n",
      "--------------------------------------------------\n",
      "Remaining dataset\n",
      "Remaining data healthy trees: 9208\n",
      "Remaining data stressed trees: 6179\n",
      "Remaining data dead trees: 265\n",
      "Remaining data pine trees: 3958\n",
      "Remaining data spruces: 5791\n",
      "--------------------------------------------------\n"
     ]
    }
   ],
   "source": [
    "def count_occurrences(data, value):\n",
    "    count = 0\n",
    "    for item in data:\n",
    "        if item == value:\n",
    "            count += 1\n",
    "    return count\n",
    "\n",
    "print(\"Test dataset\")\n",
    "print(f\"Test data healthy trees: {count_occurrences(test_label_set, 0)}\")\n",
    "print(f\"Test data stressed trees: {count_occurrences(test_label_set, 1)}\")\n",
    "print(f\"Test data dead trees: {count_occurrences(test_label_set, 2)}\")\n",
    "print(f\"Test data pine trees: {count_occurrences(test_species_set, 134)}\")\n",
    "print(f\"Test data spruces: {count_occurrences(test_species_set, 118)}\")\n",
    "print(\"-\"*50)\n",
    "\n",
    "print(\"Remaining dataset\")\n",
    "print(f\"Remaining data healthy trees: {count_occurrences(sub_label_set, 0)}\")\n",
    "print(f\"Remaining data stressed trees: {count_occurrences(sub_label_set, 1)}\")\n",
    "print(f\"Remaining data dead trees: {count_occurrences(sub_label_set, 2)}\")\n",
    "print(f\"Remaining data pine trees: {count_occurrences(sub_species_set, 134)}\")\n",
    "print(f\"Remaining data spruces: {count_occurrences(sub_species_set, 118)}\")\n",
    "print(\"-\"*50)"
   ]
  },
  {
   "cell_type": "code",
   "execution_count": 16,
   "id": "e08fcf57",
   "metadata": {},
   "outputs": [],
   "source": [
    "# train transform with augmentation. \n",
    "transform_train = transforms.Compose([transforms.ToTensor(), transforms.RandomHorizontalFlip(p=0.5), transforms.RandomVerticalFlip(p=0.5),\n",
    "                                      transforms.RandomRotation(degrees=[0,360])])\n",
    "\n",
    "# test and val dataset transform without augmentation. \n",
    "transform = transforms.Compose([transforms.ToTensor()])\n",
    "\n",
    "# class names need to fit the customDataset class used e.g. 3 classes -> use CustomDataset3Classes\n",
    "#class_names = ['healthy', 'slightly_stressed', 'moderately_stressed', 'highly_stressed', 'dead']\n",
    "#class_names = ['healthy', 'moderately_stressed', 'highly_stressed', 'dead']\n",
    "class_names = ['healthy', 'stressed', 'dead']\n",
    "\n",
    "# set seeds\n",
    "g = torch.Generator()\n",
    "g.manual_seed(42)\n",
    "NUM_WORKERS=3 # should be changed, depending on the system used\n",
    "batch_size=32"
   ]
  },
  {
   "cell_type": "markdown",
   "id": "31779c05",
   "metadata": {},
   "source": [
    "#### Define variables and parameters"
   ]
  },
  {
   "cell_type": "code",
   "execution_count": 17,
   "id": "10ae4379",
   "metadata": {},
   "outputs": [
    {
     "name": "stdout",
     "output_type": "stream",
     "text": [
      "Memory allocated: 0 bytes\n"
     ]
    }
   ],
   "source": [
    "# 1. Define number of epochs\n",
    "epochs = 50\n",
    "n_bands = sub_image_set[0].shape[2] # get number of bands\n",
    "\n",
    "# 2. Define model\n",
    "num_classes = len(class_names)\n",
    "unfreeze = True # all layer weights get updated\n",
    "dropout_rate = 0.5 #define dropout rate\n",
    "model_name = \"EffNet_b7_RGB_3classes_v2\"\n",
    "\n",
    "# 3. Define loss, optimizer and learning rate scheduler\n",
    "lr = 0.005 # define learning rate\n",
    "min_lr = 1e-6 # minimum learning rate threshold\n",
    "gamma = 0.75 # how fast the learning rate decreases per epoch (low number=faster decrease)\n",
    "patience = 10\n",
    "\n",
    "# 4. Create target folder name were to save the tensorboard event files\n",
    "experiment_name = 'RGB_3classes_v2'\n",
    "extra = \"RGB_3classes_v2\"\n",
    "\n",
    "#----------------------------------------------------------------------\n",
    "#torch.cuda.empty_cache()\n",
    "print(f\"Memory allocated: {torch.cuda.memory_allocated()} bytes\") "
   ]
  },
  {
   "cell_type": "markdown",
   "id": "09768b1a",
   "metadata": {},
   "source": [
    "#### Run k-Fold cross-validation on EfficientNet"
   ]
  },
  {
   "cell_type": "code",
   "execution_count": null,
   "id": "9c29c81d",
   "metadata": {},
   "outputs": [
    {
     "name": "stdout",
     "output_type": "stream",
     "text": [
      "ORIGINAL POSITIVE RATIO: 0.4286353181702019\n",
      "Fold : 0\n",
      "TRAIN POSITIVE RATIO: 0.43211854225070084\n",
      "VAL POSITIVE RATIO  : 0.41490369434796337\n",
      "LENGTH TRAIN GROUPS : 4710\n",
      "LENGTH VAL GROUPS   : 1190\n"
     ]
    },
    {
     "data": {
      "text/html": [
       "Finishing last run (ID:8cnlr1rp) before initializing another..."
      ],
      "text/plain": [
       "<IPython.core.display.HTML object>"
      ]
     },
     "metadata": {},
     "output_type": "display_data"
    },
    {
     "data": {
      "text/html": [
       "Waiting for W&B process to finish... <strong style=\"color:green\">(success).</strong>"
      ],
      "text/plain": [
       "<IPython.core.display.HTML object>"
      ]
     },
     "metadata": {},
     "output_type": "display_data"
    },
    {
     "data": {
      "application/vnd.jupyter.widget-view+json": {
       "model_id": "77a4180af10347acabbd4b75c324d6d5",
       "version_major": 2,
       "version_minor": 0
      },
      "text/plain": [
       "VBox(children=(Label(value='0.001 MB of 0.006 MB uploaded (0.000 MB deduped)\\r'), FloatProgress(value=0.209206…"
      ]
     },
     "metadata": {},
     "output_type": "display_data"
    },
    {
     "data": {
      "text/html": [
       " View run <strong style=\"color:#cdcd00\">fast-glitter-22</strong> at: <a href='https://wandb.ai/simon-ecke/wze-uav-v2/runs/8cnlr1rp' target=\"_blank\">https://wandb.ai/simon-ecke/wze-uav-v2/runs/8cnlr1rp</a><br/>Synced 5 W&B file(s), 0 media file(s), 0 artifact file(s) and 0 other file(s)"
      ],
      "text/plain": [
       "<IPython.core.display.HTML object>"
      ]
     },
     "metadata": {},
     "output_type": "display_data"
    },
    {
     "data": {
      "text/html": [
       "Find logs at: <code>.\\wandb\\run-20230419_104102-8cnlr1rp\\logs</code>"
      ],
      "text/plain": [
       "<IPython.core.display.HTML object>"
      ]
     },
     "metadata": {},
     "output_type": "display_data"
    },
    {
     "data": {
      "text/html": [
       "Successfully finished last run (ID:8cnlr1rp). Initializing new run:<br/>"
      ],
      "text/plain": [
       "<IPython.core.display.HTML object>"
      ]
     },
     "metadata": {},
     "output_type": "display_data"
    },
    {
     "data": {
      "application/vnd.jupyter.widget-view+json": {
       "model_id": "d5b40822769c43348d8220d04cf203fb",
       "version_major": 2,
       "version_minor": 0
      },
      "text/plain": [
       "VBox(children=(Label(value='Waiting for wandb.init()...\\r'), FloatProgress(value=0.016666666666666666, max=1.0…"
      ]
     },
     "metadata": {},
     "output_type": "display_data"
    },
    {
     "data": {
      "text/html": [
       "Tracking run with wandb version 0.14.2"
      ],
      "text/plain": [
       "<IPython.core.display.HTML object>"
      ]
     },
     "metadata": {},
     "output_type": "display_data"
    },
    {
     "data": {
      "text/html": [
       "Run data is saved locally in <code>C:\\Users\\lwfeckesim\\01_PyTorch\\wze-uav\\wze-uav-master\\wandb\\run-20230419_112051-ueekcybx</code>"
      ],
      "text/plain": [
       "<IPython.core.display.HTML object>"
      ]
     },
     "metadata": {},
     "output_type": "display_data"
    },
    {
     "data": {
      "text/html": [
       "Syncing run <strong><a href='https://wandb.ai/simon-ecke/wze-uav-v2/runs/ueekcybx' target=\"_blank\">fold_1_RGB_3classes_v2</a></strong> to <a href='https://wandb.ai/simon-ecke/wze-uav-v2' target=\"_blank\">Weights & Biases</a> (<a href='https://wandb.me/run' target=\"_blank\">docs</a>)<br/>"
      ],
      "text/plain": [
       "<IPython.core.display.HTML object>"
      ]
     },
     "metadata": {},
     "output_type": "display_data"
    },
    {
     "data": {
      "text/html": [
       " View project at <a href='https://wandb.ai/simon-ecke/wze-uav-v2' target=\"_blank\">https://wandb.ai/simon-ecke/wze-uav-v2</a>"
      ],
      "text/plain": [
       "<IPython.core.display.HTML object>"
      ]
     },
     "metadata": {},
     "output_type": "display_data"
    },
    {
     "data": {
      "text/html": [
       " View run at <a href='https://wandb.ai/simon-ecke/wze-uav-v2/runs/ueekcybx' target=\"_blank\">https://wandb.ai/simon-ecke/wze-uav-v2/runs/ueekcybx</a>"
      ],
      "text/plain": [
       "<IPython.core.display.HTML object>"
      ]
     },
     "metadata": {},
     "output_type": "display_data"
    },
    {
     "name": "stdout",
     "output_type": "stream",
     "text": [
      "There are no same hash_id values in train, val or test datasets. The datasplit was successful\n",
      "Check shapes:\n",
      "\n",
      "Images train dataset: (12485, 250, 250, 3)\n",
      "Labels train dataset: (12485, 1)\n",
      "\n",
      "Images validation dataset: (1190, 250, 250, 3)\n",
      "Labels validation dataset: (1190, 1)\n",
      "\n",
      "--------------------------------------------------\n",
      "Check if the split was stratified: (random_state=42)\n",
      "Healthy trees in train dataset: 7285\n",
      "Stressed trees in train dataset: 5005\n",
      "Dead trees in train dataset: 195\n",
      "Healthy trees in validation dataset: 724\n",
      "Stressed trees in validation dataset: 437\n",
      "Dead trees in validation dataset: 29\n",
      "Ratio health trees in validation dataset: 0.078627280625543\n",
      "Ratio stressed trees in validation dataset: 0.07072341802880724\n",
      "Ratio dead trees in validation dataset: 0.10943396226415095\n",
      "--------------------------------------------------\n",
      "\n",
      "Creating datasets for fold: 1\n",
      "\n",
      "Creating dataloaders for fold: 1\n",
      "\n",
      "[INFO] Created new effnet_b7 model.\n",
      "\n",
      "[INFO] Fold number: 1\n",
      "[INFO] Number of epochs: 50\n",
      "[INFO] Batch_size: 32\n",
      "[INFO] Number of bands: 3\n",
      "[INFO] Dropout rate: 0.5\n",
      "[INFO] Gamma learning rate: 0.75\n",
      "[INFO] Memory allocated: 260440064 bytes\n"
     ]
    },
    {
     "data": {
      "application/vnd.jupyter.widget-view+json": {
       "model_id": "441eeb35776f44c68e9aba889f547cae",
       "version_major": 2,
       "version_minor": 0
      },
      "text/plain": [
       "  0%|          | 0/50 [00:00<?, ?it/s]"
      ]
     },
     "metadata": {},
     "output_type": "display_data"
    },
    {
     "name": "stdout",
     "output_type": "stream",
     "text": [
      "Epoch: 1 \n",
      "Learning rate: 0.005\n",
      "Train loss: 0.7745 | Train precision: 0.5220 | Train recall: 0.4636 | Train f1score: 0.4840 | Train acc: 0.5612 | Train kappa: 0.1989 \n",
      "Val loss: 0.8488 | Val precision: 0.1224 | Val recall: 0.3318 | Val f1score: 0.1788 | Val acc: 0.3666 | Val kappa: 0.0000 \n",
      "\n",
      "Epoch: 2 \n",
      "Learning rate: 0.00375\n",
      "Train loss: 0.7064 | Train precision: 0.6059 | Train recall: 0.5611 | Train f1score: 0.5803 | Train acc: 0.6031 | Train kappa: 0.3339 \n",
      "Val loss: 1.4486 | Val precision: 0.4507 | Val recall: 0.6372 | Val f1score: 0.3994 | Val acc: 0.4671 | Val kappa: 0.2243 \n",
      "\n",
      "Epoch: 3 \n",
      "Learning rate: 0.0028125\n",
      "Train loss: 0.6695 | Train precision: 0.6660 | Train recall: 0.6407 | Train f1score: 0.6525 | Train acc: 0.6380 | Train kappa: 0.3973 \n",
      "Val loss: 0.9433 | Val precision: 0.4196 | Val recall: 0.3577 | Val f1score: 0.2419 | Val acc: 0.4181 | Val kappa: 0.0625 \n",
      "\n",
      "Epoch: 4 \n",
      "Learning rate: 0.002109375\n",
      "Train loss: 0.6512 | Train precision: 0.6951 | Train recall: 0.6829 | Train f1score: 0.6886 | Train acc: 0.6416 | Train kappa: 0.4090 \n",
      "Val loss: 0.8628 | Val precision: 0.4300 | Val recall: 0.3831 | Val f1score: 0.2947 | Val acc: 0.4688 | Val kappa: 0.1292 \n",
      "\n",
      "Epoch: 5 \n",
      "Learning rate: 0.00158203125\n",
      "Train loss: 0.6459 | Train precision: 0.6975 | Train recall: 0.6784 | Train f1score: 0.6875 | Train acc: 0.6514 | Train kappa: 0.4188 \n",
      "Val loss: 0.7603 | Val precision: 0.4124 | Val recall: 0.4259 | Val f1score: 0.4097 | Val acc: 0.6115 | Val kappa: 0.2933 \n",
      "\n",
      "Epoch: 6 \n",
      "Learning rate: 0.0011865234375\n",
      "Train loss: 0.6382 | Train precision: 0.7094 | Train recall: 0.6938 | Train f1score: 0.7014 | Train acc: 0.6530 | Train kappa: 0.4303 \n",
      "Val loss: 0.6506 | Val precision: 0.7237 | Val recall: 0.6999 | Val f1score: 0.7013 | Val acc: 0.6419 | Val kappa: 0.3931 \n",
      "\n",
      "Epoch: 7 \n",
      "Learning rate: 0.000889892578125\n",
      "Train loss: 0.6239 | Train precision: 0.7161 | Train recall: 0.7107 | Train f1score: 0.7134 | Train acc: 0.6615 | Train kappa: 0.4469 \n",
      "Val loss: 0.6226 | Val precision: 0.7068 | Val recall: 0.6812 | Val f1score: 0.6928 | Val acc: 0.6596 | Val kappa: 0.4035 \n",
      "\n",
      "Epoch: 8 \n",
      "Learning rate: 0.00066741943359375\n",
      "Train loss: 0.6055 | Train precision: 0.7339 | Train recall: 0.7294 | Train f1score: 0.7315 | Train acc: 0.6749 | Train kappa: 0.4683 \n",
      "Val loss: 0.6465 | Val precision: 0.7598 | Val recall: 0.4796 | Val f1score: 0.5186 | Val acc: 0.6698 | Val kappa: 0.3527 \n",
      "\n",
      "Epoch: 9 \n",
      "Learning rate: 0.0005005645751953125\n",
      "Train loss: 0.6153 | Train precision: 0.7329 | Train recall: 0.7218 | Train f1score: 0.7272 | Train acc: 0.6666 | Train kappa: 0.4579 \n",
      "Val loss: 0.6418 | Val precision: 0.6484 | Val recall: 0.7193 | Val f1score: 0.6779 | Val acc: 0.6470 | Val kappa: 0.4045 \n",
      "\n",
      "Epoch: 10 \n",
      "Learning rate: 0.0003754234313964844\n",
      "Train loss: 0.6142 | Train precision: 0.7277 | Train recall: 0.7225 | Train f1score: 0.7249 | Train acc: 0.6675 | Train kappa: 0.4528 \n",
      "Val loss: 0.6216 | Val precision: 0.6978 | Val recall: 0.6841 | Val f1score: 0.6890 | Val acc: 0.6562 | Val kappa: 0.4005 \n",
      "\n",
      "Epoch: 11 \n",
      "Learning rate: 0.0002815675735473633\n",
      "Train loss: 0.6052 | Train precision: 0.7380 | Train recall: 0.7270 | Train f1score: 0.7323 | Train acc: 0.6765 | Train kappa: 0.4671 \n",
      "Val loss: 0.6131 | Val precision: 0.7067 | Val recall: 0.7003 | Val f1score: 0.7030 | Val acc: 0.6706 | Val kappa: 0.4219 \n",
      "\n",
      "Epoch: 12 \n",
      "Learning rate: 0.00021117568016052246\n",
      "Train loss: 0.6051 | Train precision: 0.7354 | Train recall: 0.7229 | Train f1score: 0.7290 | Train acc: 0.6745 | Train kappa: 0.4714 \n",
      "Val loss: 0.6467 | Val precision: 0.7715 | Val recall: 0.5410 | Val f1score: 0.5872 | Val acc: 0.6774 | Val kappa: 0.4082 \n",
      "\n",
      "Epoch: 13 \n",
      "Learning rate: 0.00015838176012039184\n",
      "Train loss: 0.6006 | Train precision: 0.7393 | Train recall: 0.7356 | Train f1score: 0.7373 | Train acc: 0.6804 | Train kappa: 0.4790 \n",
      "Val loss: 0.6136 | Val precision: 0.7051 | Val recall: 0.7000 | Val f1score: 0.7012 | Val acc: 0.6655 | Val kappa: 0.4208 \n",
      "\n",
      "Epoch: 14 \n",
      "Learning rate: 0.00011878632009029388\n",
      "Train loss: 0.6035 | Train precision: 0.7437 | Train recall: 0.7339 | Train f1score: 0.7387 | Train acc: 0.6776 | Train kappa: 0.4779 \n",
      "Val loss: 0.6025 | Val precision: 0.7339 | Val recall: 0.6933 | Val f1score: 0.7120 | Val acc: 0.6867 | Val kappa: 0.4367 \n",
      "\n",
      "Epoch: 15 \n",
      "Learning rate: 8.908974006772042e-05\n",
      "Train loss: 0.5965 | Train precision: 0.7507 | Train recall: 0.7375 | Train f1score: 0.7439 | Train acc: 0.6800 | Train kappa: 0.4793 \n",
      "Val loss: 0.6091 | Val precision: 0.7172 | Val recall: 0.6970 | Val f1score: 0.7066 | Val acc: 0.6765 | Val kappa: 0.4276 \n",
      "\n",
      "Epoch: 16 \n",
      "Learning rate: 6.681730505079031e-05\n",
      "Train loss: 0.5925 | Train precision: 0.7454 | Train recall: 0.7400 | Train f1score: 0.7426 | Train acc: 0.6825 | Train kappa: 0.4777 \n",
      "Val loss: 0.6098 | Val precision: 0.7279 | Val recall: 0.6713 | Val f1score: 0.6961 | Val acc: 0.6807 | Val kappa: 0.4311 \n",
      "\n",
      "Epoch: 17 \n",
      "Learning rate: 5.0112978788092735e-05\n",
      "Train loss: 0.5971 | Train precision: 0.7517 | Train recall: 0.7391 | Train f1score: 0.7452 | Train acc: 0.6828 | Train kappa: 0.4846 \n",
      "Val loss: 0.6046 | Val precision: 0.7326 | Val recall: 0.6996 | Val f1score: 0.7148 | Val acc: 0.6841 | Val kappa: 0.4362 \n",
      "\n",
      "Epoch: 18 \n",
      "Learning rate: 3.758473409106955e-05\n",
      "Train loss: 0.5907 | Train precision: 0.7491 | Train recall: 0.7443 | Train f1score: 0.7466 | Train acc: 0.6832 | Train kappa: 0.4918 \n",
      "Val loss: 0.6052 | Val precision: 0.7345 | Val recall: 0.7033 | Val f1score: 0.7179 | Val acc: 0.6858 | Val kappa: 0.4413 \n",
      "\n",
      "Epoch: 19 \n",
      "Learning rate: 2.8188550568302163e-05\n",
      "Train loss: 0.5895 | Train precision: 0.7606 | Train recall: 0.7394 | Train f1score: 0.7496 | Train acc: 0.6870 | Train kappa: 0.4910 \n",
      "Val loss: 0.6082 | Val precision: 0.7266 | Val recall: 0.6978 | Val f1score: 0.7114 | Val acc: 0.6731 | Val kappa: 0.4228 \n",
      "\n",
      "Epoch: 20 \n",
      "Learning rate: 2.114141292622662e-05\n",
      "Train loss: 0.5898 | Train precision: 0.7592 | Train recall: 0.7564 | Train f1score: 0.7578 | Train acc: 0.6868 | Train kappa: 0.4978 \n",
      "Val loss: 0.6053 | Val precision: 0.7327 | Val recall: 0.7019 | Val f1score: 0.7164 | Val acc: 0.6833 | Val kappa: 0.4373 \n",
      "\n",
      "Epoch: 21 \n",
      "Learning rate: 1.5856059694669965e-05\n",
      "Train loss: 0.5903 | Train precision: 0.7550 | Train recall: 0.7468 | Train f1score: 0.7508 | Train acc: 0.6843 | Train kappa: 0.4859 \n",
      "Val loss: 0.6086 | Val precision: 0.7313 | Val recall: 0.7032 | Val f1score: 0.7164 | Val acc: 0.6791 | Val kappa: 0.4340 \n",
      "\n",
      "Epoch: 22 \n",
      "Learning rate: 1.1892044771002475e-05\n",
      "Train loss: 0.5940 | Train precision: 0.7486 | Train recall: 0.7425 | Train f1score: 0.7455 | Train acc: 0.6827 | Train kappa: 0.4778 \n",
      "Val loss: 0.6089 | Val precision: 0.7311 | Val recall: 0.7026 | Val f1score: 0.7160 | Val acc: 0.6791 | Val kappa: 0.4334 \n",
      "\n",
      "Epoch: 23 \n",
      "Learning rate: 8.919033578251857e-06\n",
      "Train loss: 0.5961 | Train precision: 0.7488 | Train recall: 0.7348 | Train f1score: 0.7416 | Train acc: 0.6799 | Train kappa: 0.4814 \n",
      "Val loss: 0.6092 | Val precision: 0.7292 | Val recall: 0.6998 | Val f1score: 0.7137 | Val acc: 0.6774 | Val kappa: 0.4292 \n",
      "\n",
      "Epoch: 24 \n",
      "Learning rate: 6.689275183688892e-06\n",
      "Train loss: 0.5961 | Train precision: 0.7424 | Train recall: 0.7368 | Train f1score: 0.7395 | Train acc: 0.6802 | Train kappa: 0.4818 \n",
      "Val loss: 0.6082 | Val precision: 0.7201 | Val recall: 0.7006 | Val f1score: 0.7100 | Val acc: 0.6799 | Val kappa: 0.4345 \n",
      "\n",
      "Epoch: 25 \n",
      "Learning rate: 5.016956387766669e-06\n",
      "Train loss: 0.5949 | Train precision: 0.7410 | Train recall: 0.7424 | Train f1score: 0.7417 | Train acc: 0.6803 | Train kappa: 0.4757 \n",
      "Val loss: 0.6077 | Val precision: 0.7298 | Val recall: 0.7003 | Val f1score: 0.7142 | Val acc: 0.6782 | Val kappa: 0.4305 \n",
      "\n",
      "Epoch: 26 \n",
      "Learning rate: 3.762717290825002e-06\n",
      "Train loss: 0.6020 | Train precision: 0.7373 | Train recall: 0.7304 | Train f1score: 0.7337 | Train acc: 0.6757 | Train kappa: 0.4638 \n",
      "Val loss: 0.6088 | Val precision: 0.7184 | Val recall: 0.7000 | Val f1score: 0.7088 | Val acc: 0.6765 | Val kappa: 0.4303 \n",
      "\n",
      "Epoch: 27 \n",
      "Learning rate: 2.8220379681187514e-06\n",
      "Train loss: 0.5934 | Train precision: 0.7495 | Train recall: 0.7293 | Train f1score: 0.7389 | Train acc: 0.6793 | Train kappa: 0.4750 \n",
      "Val loss: 0.6094 | Val precision: 0.7302 | Val recall: 0.6991 | Val f1score: 0.7137 | Val acc: 0.6799 | Val kappa: 0.4312 \n",
      "\n"
     ]
    },
    {
     "name": "stdout",
     "output_type": "stream",
     "text": [
      "Epoch: 28 \n",
      "Learning rate: 2.1165284760890633e-06\n",
      "Train loss: 0.6015 | Train precision: 0.7464 | Train recall: 0.7314 | Train f1score: 0.7387 | Train acc: 0.6826 | Train kappa: 0.4846 \n",
      "Val loss: 0.6084 | Val precision: 0.7300 | Val recall: 0.7009 | Val f1score: 0.7146 | Val acc: 0.6782 | Val kappa: 0.4310 \n",
      "\n",
      "Early stopping after epoch 28\n"
     ]
    },
    {
     "data": {
      "text/html": [
       "Waiting for W&B process to finish... <strong style=\"color:green\">(success).</strong>"
      ],
      "text/plain": [
       "<IPython.core.display.HTML object>"
      ]
     },
     "metadata": {},
     "output_type": "display_data"
    },
    {
     "data": {
      "text/html": [
       "<style>\n",
       "    table.wandb td:nth-child(1) { padding: 0 10px; text-align: left ; width: auto;} td:nth-child(2) {text-align: left ; width: 100%}\n",
       "    .wandb-row { display: flex; flex-direction: row; flex-wrap: wrap; justify-content: flex-start; width: 100% }\n",
       "    .wandb-col { display: flex; flex-direction: column; flex-basis: 100%; flex: 1; padding: 10px; }\n",
       "    </style>\n",
       "<div class=\"wandb-row\"><div class=\"wandb-col\"><h3>Run history:</h3><br/><table class=\"wandb\"><tr><td>learning_rate</td><td>█▆▅▄▃▃▂▂▂▂▁▁▁▁▁▁▁▁▁▁▁▁▁▁▁▁▁▁</td></tr><tr><td>train_f1_score</td><td>▁▃▅▆▆▇▇▇▇▇▇▇▇████████████▇██</td></tr><tr><td>train_loss</td><td>█▅▄▃▃▃▂▂▂▂▂▂▁▂▁▁▁▁▁▁▁▁▁▁▁▁▁▁</td></tr><tr><td>val_f1_score</td><td>▁▄▂▃▄██▅▇██▆████████████████</td></tr><tr><td>val_loss</td><td>▃█▄▃▂▁▁▁▁▁▁▁▁▁▁▁▁▁▁▁▁▁▁▁▁▁▁▁</td></tr></table><br/></div><div class=\"wandb-col\"><h3>Run summary:</h3><br/><table class=\"wandb\"><tr><td>learning_rate</td><td>0.0</td></tr><tr><td>train_f1_score</td><td>0.73868</td></tr><tr><td>train_loss</td><td>0.6015</td></tr><tr><td>val_f1_score</td><td>0.71463</td></tr><tr><td>val_loss</td><td>0.60835</td></tr></table><br/></div></div>"
      ],
      "text/plain": [
       "<IPython.core.display.HTML object>"
      ]
     },
     "metadata": {},
     "output_type": "display_data"
    },
    {
     "data": {
      "text/html": [
       " View run <strong style=\"color:#cdcd00\">fold_1_RGB_3classes_v2</strong> at: <a href='https://wandb.ai/simon-ecke/wze-uav-v2/runs/ueekcybx' target=\"_blank\">https://wandb.ai/simon-ecke/wze-uav-v2/runs/ueekcybx</a><br/>Synced 5 W&B file(s), 0 media file(s), 0 artifact file(s) and 0 other file(s)"
      ],
      "text/plain": [
       "<IPython.core.display.HTML object>"
      ]
     },
     "metadata": {},
     "output_type": "display_data"
    },
    {
     "data": {
      "text/html": [
       "Find logs at: <code>.\\wandb\\run-20230419_112051-ueekcybx\\logs</code>"
      ],
      "text/plain": [
       "<IPython.core.display.HTML object>"
      ]
     },
     "metadata": {},
     "output_type": "display_data"
    },
    {
     "name": "stdout",
     "output_type": "stream",
     "text": [
      "Deleting variables and emptying cache\n",
      "Memory allocated: 1059180032 bytes\n",
      "--------------------------------------------------\n",
      "\n",
      "Fold : 1\n",
      "TRAIN POSITIVE RATIO: 0.4259363220787553\n",
      "VAL POSITIVE RATIO  : 0.43920829406220546\n",
      "LENGTH TRAIN GROUPS : 4712\n",
      "LENGTH VAL GROUPS   : 1188\n"
     ]
    },
    {
     "data": {
      "text/html": [
       "Tracking run with wandb version 0.14.2"
      ],
      "text/plain": [
       "<IPython.core.display.HTML object>"
      ]
     },
     "metadata": {},
     "output_type": "display_data"
    },
    {
     "data": {
      "text/html": [
       "Run data is saved locally in <code>C:\\Users\\lwfeckesim\\01_PyTorch\\wze-uav\\wze-uav-master\\wandb\\run-20230419_141312-u6f25f39</code>"
      ],
      "text/plain": [
       "<IPython.core.display.HTML object>"
      ]
     },
     "metadata": {},
     "output_type": "display_data"
    },
    {
     "data": {
      "text/html": [
       "Syncing run <strong><a href='https://wandb.ai/simon-ecke/wze-uav-v2/runs/u6f25f39' target=\"_blank\">fold_2_RGB_3classes_v2</a></strong> to <a href='https://wandb.ai/simon-ecke/wze-uav-v2' target=\"_blank\">Weights & Biases</a> (<a href='https://wandb.me/run' target=\"_blank\">docs</a>)<br/>"
      ],
      "text/plain": [
       "<IPython.core.display.HTML object>"
      ]
     },
     "metadata": {},
     "output_type": "display_data"
    },
    {
     "data": {
      "text/html": [
       " View project at <a href='https://wandb.ai/simon-ecke/wze-uav-v2' target=\"_blank\">https://wandb.ai/simon-ecke/wze-uav-v2</a>"
      ],
      "text/plain": [
       "<IPython.core.display.HTML object>"
      ]
     },
     "metadata": {},
     "output_type": "display_data"
    },
    {
     "data": {
      "text/html": [
       " View run at <a href='https://wandb.ai/simon-ecke/wze-uav-v2/runs/u6f25f39' target=\"_blank\">https://wandb.ai/simon-ecke/wze-uav-v2/runs/u6f25f39</a>"
      ],
      "text/plain": [
       "<IPython.core.display.HTML object>"
      ]
     },
     "metadata": {},
     "output_type": "display_data"
    },
    {
     "name": "stdout",
     "output_type": "stream",
     "text": [
      "There are no same hash_id values in train, val or test datasets. The datasplit was successful\n",
      "Check shapes:\n",
      "\n",
      "Images train dataset: (12469, 250, 250, 3)\n",
      "Labels train dataset: (12469, 1)\n",
      "\n",
      "Images validation dataset: (1188, 250, 250, 3)\n",
      "Labels validation dataset: (1188, 1)\n",
      "\n",
      "--------------------------------------------------\n",
      "Check if the split was stratified: (random_state=42)\n",
      "Healthy trees in train dataset: 7359\n",
      "Stressed trees in train dataset: 4909\n",
      "Dead trees in train dataset: 201\n",
      "Healthy trees in validation dataset: 660\n",
      "Stressed trees in validation dataset: 502\n",
      "Dead trees in validation dataset: 26\n",
      "Ratio health trees in validation dataset: 0.07167680278019113\n",
      "Ratio stressed trees in validation dataset: 0.08124291956627286\n",
      "Ratio dead trees in validation dataset: 0.09811320754716982\n",
      "--------------------------------------------------\n",
      "\n",
      "Creating datasets for fold: 2\n",
      "\n",
      "Creating dataloaders for fold: 2\n",
      "\n",
      "[INFO] Created new effnet_b7 model.\n",
      "\n",
      "[INFO] Fold number: 2\n",
      "[INFO] Number of epochs: 50\n",
      "[INFO] Batch_size: 32\n",
      "[INFO] Number of bands: 3\n",
      "[INFO] Dropout rate: 0.5\n",
      "[INFO] Gamma learning rate: 0.75\n",
      "[INFO] Memory allocated: 262709248 bytes\n"
     ]
    },
    {
     "data": {
      "application/vnd.jupyter.widget-view+json": {
       "model_id": "3ae823fa88694d7f832dc8c6a959f6fe",
       "version_major": 2,
       "version_minor": 0
      },
      "text/plain": [
       "  0%|          | 0/50 [00:00<?, ?it/s]"
      ]
     },
     "metadata": {},
     "output_type": "display_data"
    },
    {
     "name": "stdout",
     "output_type": "stream",
     "text": [
      "Epoch: 1 \n",
      "Learning rate: 0.005\n",
      "Train loss: 0.8153 | Train precision: 0.4519 | Train recall: 0.3994 | Train f1score: 0.4123 | Train acc: 0.5305 | Train kappa: 0.1306 \n",
      "Val loss: 0.9768 | Val precision: 0.3179 | Val recall: 0.3321 | Val f1score: 0.2461 | Val acc: 0.5507 | Val kappa: -0.0075 \n",
      "\n",
      "Epoch: 2 \n",
      "Learning rate: 0.00375\n",
      "Train loss: 0.7104 | Train precision: 0.5888 | Train recall: 0.5680 | Train f1score: 0.5772 | Train acc: 0.6105 | Train kappa: 0.3351 \n",
      "Val loss: 0.6870 | Val precision: 0.5794 | Val recall: 0.6609 | Val f1score: 0.5827 | Val acc: 0.6267 | Val kappa: 0.3299 \n",
      "\n",
      "Epoch: 3 \n",
      "Learning rate: 0.0028125\n",
      "Train loss: 0.6837 | Train precision: 0.6300 | Train recall: 0.6023 | Train f1score: 0.6147 | Train acc: 0.6237 | Train kappa: 0.3660 \n",
      "Val loss: 0.7274 | Val precision: 0.4264 | Val recall: 0.4368 | Val f1score: 0.4291 | Val acc: 0.6385 | Val kappa: 0.3313 \n",
      "\n",
      "Epoch: 4 \n",
      "Learning rate: 0.002109375\n",
      "Train loss: 0.6592 | Train precision: 0.6724 | Train recall: 0.6387 | Train f1score: 0.6539 | Train acc: 0.6330 | Train kappa: 0.3921 \n",
      "Val loss: 0.6380 | Val precision: 0.7073 | Val recall: 0.6777 | Val f1score: 0.6574 | Val acc: 0.6394 | Val kappa: 0.3555 \n",
      "\n",
      "Epoch: 5 \n",
      "Learning rate: 0.00158203125\n",
      "Train loss: 0.6470 | Train precision: 0.7023 | Train recall: 0.6728 | Train f1score: 0.6865 | Train acc: 0.6508 | Train kappa: 0.4234 \n",
      "Val loss: 0.6569 | Val precision: 0.6563 | Val recall: 0.7113 | Val f1score: 0.6743 | Val acc: 0.6571 | Val kappa: 0.4087 \n",
      "\n",
      "Epoch: 6 \n",
      "Learning rate: 0.0011865234375\n",
      "Train loss: 0.6393 | Train precision: 0.6955 | Train recall: 0.6647 | Train f1score: 0.6790 | Train acc: 0.6516 | Train kappa: 0.4229 \n",
      "Val loss: 0.6190 | Val precision: 0.7592 | Val recall: 0.6453 | Val f1score: 0.6808 | Val acc: 0.6689 | Val kappa: 0.4056 \n",
      "\n",
      "Epoch: 7 \n",
      "Learning rate: 0.000889892578125\n",
      "Train loss: 0.6329 | Train precision: 0.7112 | Train recall: 0.6867 | Train f1score: 0.6983 | Train acc: 0.6591 | Train kappa: 0.4381 \n",
      "Val loss: 0.6074 | Val precision: 0.7276 | Val recall: 0.7403 | Val f1score: 0.7134 | Val acc: 0.6681 | Val kappa: 0.4154 \n",
      "\n",
      "Epoch: 8 \n",
      "Learning rate: 0.00066741943359375\n",
      "Train loss: 0.6337 | Train precision: 0.7051 | Train recall: 0.6864 | Train f1score: 0.6953 | Train acc: 0.6551 | Train kappa: 0.4330 \n",
      "Val loss: 0.6068 | Val precision: 0.7442 | Val recall: 0.7273 | Val f1score: 0.7090 | Val acc: 0.6706 | Val kappa: 0.4143 \n",
      "\n",
      "Epoch: 9 \n",
      "Learning rate: 0.0005005645751953125\n",
      "Train loss: 0.6183 | Train precision: 0.7398 | Train recall: 0.7216 | Train f1score: 0.7303 | Train acc: 0.6681 | Train kappa: 0.4652 \n",
      "Val loss: 0.6018 | Val precision: 0.7223 | Val recall: 0.7483 | Val f1score: 0.7330 | Val acc: 0.6799 | Val kappa: 0.4422 \n",
      "\n",
      "Epoch: 10 \n",
      "Learning rate: 0.0003754234313964844\n",
      "Train loss: 0.6194 | Train precision: 0.7245 | Train recall: 0.7178 | Train f1score: 0.7211 | Train acc: 0.6678 | Train kappa: 0.4616 \n",
      "Val loss: 0.6013 | Val precision: 0.7642 | Val recall: 0.7180 | Val f1score: 0.7388 | Val acc: 0.6791 | Val kappa: 0.4424 \n",
      "\n",
      "Epoch: 11 \n",
      "Learning rate: 0.0002815675735473633\n",
      "Train loss: 0.6120 | Train precision: 0.7323 | Train recall: 0.7235 | Train f1score: 0.7277 | Train acc: 0.6701 | Train kappa: 0.4590 \n",
      "Val loss: 0.6009 | Val precision: 0.7698 | Val recall: 0.7593 | Val f1score: 0.7595 | Val acc: 0.6748 | Val kappa: 0.4452 \n",
      "\n",
      "Epoch: 12 \n",
      "Learning rate: 0.00021117568016052246\n",
      "Train loss: 0.6076 | Train precision: 0.7380 | Train recall: 0.7280 | Train f1score: 0.7325 | Train acc: 0.6751 | Train kappa: 0.4704 \n",
      "Val loss: 0.5927 | Val precision: 0.7622 | Val recall: 0.7747 | Val f1score: 0.7682 | Val acc: 0.6909 | Val kappa: 0.4704 \n",
      "\n",
      "Epoch: 13 \n",
      "Learning rate: 0.00015838176012039184\n",
      "Train loss: 0.5992 | Train precision: 0.7474 | Train recall: 0.7430 | Train f1score: 0.7452 | Train acc: 0.6819 | Train kappa: 0.4855 \n",
      "Val loss: 0.5935 | Val precision: 0.7716 | Val recall: 0.7335 | Val f1score: 0.7509 | Val acc: 0.6909 | Val kappa: 0.4611 \n",
      "\n",
      "Epoch: 14 \n",
      "Learning rate: 0.00011878632009029388\n",
      "Train loss: 0.6091 | Train precision: 0.7402 | Train recall: 0.7264 | Train f1score: 0.7331 | Train acc: 0.6667 | Train kappa: 0.4584 \n",
      "Val loss: 0.5912 | Val precision: 0.7738 | Val recall: 0.7748 | Val f1score: 0.7742 | Val acc: 0.6909 | Val kappa: 0.4689 \n",
      "\n",
      "Epoch: 15 \n",
      "Learning rate: 8.908974006772042e-05\n",
      "Train loss: 0.6036 | Train precision: 0.7460 | Train recall: 0.7257 | Train f1score: 0.7354 | Train acc: 0.6738 | Train kappa: 0.4674 \n",
      "Val loss: 0.5941 | Val precision: 0.7721 | Val recall: 0.7736 | Val f1score: 0.7724 | Val acc: 0.6875 | Val kappa: 0.4639 \n",
      "\n",
      "Epoch: 16 \n",
      "Learning rate: 6.681730505079031e-05\n",
      "Train loss: 0.6066 | Train precision: 0.7340 | Train recall: 0.7150 | Train f1score: 0.7241 | Train acc: 0.6720 | Train kappa: 0.4597 \n",
      "Val loss: 0.5924 | Val precision: 0.7531 | Val recall: 0.7742 | Val f1score: 0.7631 | Val acc: 0.6943 | Val kappa: 0.4760 \n",
      "\n",
      "Epoch: 17 \n",
      "Learning rate: 5.0112978788092735e-05\n",
      "Train loss: 0.6040 | Train precision: 0.7373 | Train recall: 0.7322 | Train f1score: 0.7347 | Train acc: 0.6747 | Train kappa: 0.4818 \n",
      "Val loss: 0.5950 | Val precision: 0.7615 | Val recall: 0.7747 | Val f1score: 0.7674 | Val acc: 0.6883 | Val kappa: 0.4673 \n",
      "\n",
      "Epoch: 18 \n",
      "Learning rate: 3.758473409106955e-05\n",
      "Train loss: 0.6050 | Train precision: 0.7427 | Train recall: 0.7322 | Train f1score: 0.7372 | Train acc: 0.6719 | Train kappa: 0.4699 \n",
      "Val loss: 0.5923 | Val precision: 0.7738 | Val recall: 0.7754 | Val f1score: 0.7742 | Val acc: 0.6900 | Val kappa: 0.4682 \n",
      "\n",
      "Epoch: 19 \n",
      "Learning rate: 2.8188550568302163e-05\n",
      "Train loss: 0.5986 | Train precision: 0.7522 | Train recall: 0.7403 | Train f1score: 0.7460 | Train acc: 0.6814 | Train kappa: 0.4741 \n",
      "Val loss: 0.5924 | Val precision: 0.7715 | Val recall: 0.7731 | Val f1score: 0.7719 | Val acc: 0.6867 | Val kappa: 0.4625 \n",
      "\n",
      "Epoch: 20 \n",
      "Learning rate: 2.114141292622662e-05\n",
      "Train loss: 0.6001 | Train precision: 0.7508 | Train recall: 0.7369 | Train f1score: 0.7437 | Train acc: 0.6748 | Train kappa: 0.4674 \n",
      "Val loss: 0.5923 | Val precision: 0.7765 | Val recall: 0.7774 | Val f1score: 0.7769 | Val acc: 0.6951 | Val kappa: 0.4759 \n",
      "\n",
      "Epoch: 21 \n",
      "Learning rate: 1.5856059694669965e-05\n",
      "Train loss: 0.6028 | Train precision: 0.7479 | Train recall: 0.7308 | Train f1score: 0.7390 | Train acc: 0.6750 | Train kappa: 0.4689 \n",
      "Val loss: 0.5927 | Val precision: 0.7739 | Val recall: 0.7751 | Val f1score: 0.7743 | Val acc: 0.6909 | Val kappa: 0.4691 \n",
      "\n",
      "Epoch: 22 \n",
      "Learning rate: 1.1892044771002475e-05\n",
      "Train loss: 0.6037 | Train precision: 0.7445 | Train recall: 0.7326 | Train f1score: 0.7383 | Train acc: 0.6707 | Train kappa: 0.4699 \n",
      "Val loss: 0.5914 | Val precision: 0.7762 | Val recall: 0.7764 | Val f1score: 0.7763 | Val acc: 0.6951 | Val kappa: 0.4753 \n",
      "\n",
      "Epoch: 23 \n",
      "Learning rate: 8.919033578251857e-06\n",
      "Train loss: 0.6018 | Train precision: 0.7416 | Train recall: 0.7291 | Train f1score: 0.7351 | Train acc: 0.6766 | Train kappa: 0.4757 \n",
      "Val loss: 0.5922 | Val precision: 0.7756 | Val recall: 0.7759 | Val f1score: 0.7758 | Val acc: 0.6943 | Val kappa: 0.4739 \n",
      "\n",
      "Epoch: 24 \n",
      "Learning rate: 6.689275183688892e-06\n",
      "Train loss: 0.5992 | Train precision: 0.7449 | Train recall: 0.7270 | Train f1score: 0.7356 | Train acc: 0.6755 | Train kappa: 0.4801 \n",
      "Val loss: 0.5900 | Val precision: 0.7769 | Val recall: 0.7774 | Val f1score: 0.7771 | Val acc: 0.6959 | Val kappa: 0.4770 \n",
      "\n",
      "Epoch: 25 \n",
      "Learning rate: 5.016956387766669e-06\n",
      "Train loss: 0.6003 | Train precision: 0.7420 | Train recall: 0.7397 | Train f1score: 0.7408 | Train acc: 0.6803 | Train kappa: 0.4770 \n",
      "Val loss: 0.5925 | Val precision: 0.7732 | Val recall: 0.7748 | Val f1score: 0.7736 | Val acc: 0.6892 | Val kappa: 0.4668 \n",
      "\n",
      "Epoch: 26 \n",
      "Learning rate: 3.762717290825002e-06\n",
      "Train loss: 0.6094 | Train precision: 0.7464 | Train recall: 0.7302 | Train f1score: 0.7379 | Train acc: 0.6760 | Train kappa: 0.4749 \n",
      "Val loss: 0.5916 | Val precision: 0.7773 | Val recall: 0.7774 | Val f1score: 0.7774 | Val acc: 0.6968 | Val kappa: 0.4781 \n",
      "\n",
      "Epoch: 27 \n",
      "Learning rate: 2.8220379681187514e-06\n",
      "Train loss: 0.5984 | Train precision: 0.7406 | Train recall: 0.7371 | Train f1score: 0.7388 | Train acc: 0.6764 | Train kappa: 0.4786 \n",
      "Val loss: 0.5895 | Val precision: 0.7745 | Val recall: 0.7756 | Val f1score: 0.7749 | Val acc: 0.6917 | Val kappa: 0.4705 \n",
      "\n"
     ]
    },
    {
     "name": "stdout",
     "output_type": "stream",
     "text": [
      "Epoch: 28 \n",
      "Learning rate: 2.1165284760890633e-06\n",
      "Train loss: 0.6059 | Train precision: 0.7363 | Train recall: 0.7281 | Train f1score: 0.7322 | Train acc: 0.6669 | Train kappa: 0.4577 \n",
      "Val loss: 0.5907 | Val precision: 0.7784 | Val recall: 0.7794 | Val f1score: 0.7787 | Val acc: 0.6976 | Val kappa: 0.4803 \n",
      "\n",
      "Epoch: 29 \n",
      "Learning rate: 1.5873963570667977e-06\n",
      "Train loss: 0.5916 | Train precision: 0.7562 | Train recall: 0.7390 | Train f1score: 0.7473 | Train acc: 0.6890 | Train kappa: 0.4914 \n",
      "Val loss: 0.5912 | Val precision: 0.7778 | Val recall: 0.7788 | Val f1score: 0.7782 | Val acc: 0.6968 | Val kappa: 0.4789 \n",
      "\n",
      "Epoch: 30 \n",
      "Learning rate: 1.1905472678000981e-06\n",
      "Train loss: 0.6057 | Train precision: 0.7356 | Train recall: 0.7240 | Train f1score: 0.7297 | Train acc: 0.6719 | Train kappa: 0.4645 \n",
      "Val loss: 0.5919 | Val precision: 0.7732 | Val recall: 0.7748 | Val f1score: 0.7736 | Val acc: 0.6892 | Val kappa: 0.4668 \n",
      "\n",
      "Epoch: 31 \n",
      "Learning rate: 1e-06\n",
      "Train loss: 0.6018 | Train precision: 0.7532 | Train recall: 0.7262 | Train f1score: 0.7389 | Train acc: 0.6763 | Train kappa: 0.4790 \n",
      "Val loss: 0.5908 | Val precision: 0.7746 | Val recall: 0.7758 | Val f1score: 0.7749 | Val acc: 0.6917 | Val kappa: 0.4706 \n",
      "\n",
      "Epoch: 32 \n",
      "Learning rate: 1e-06\n",
      "Train loss: 0.6002 | Train precision: 0.7514 | Train recall: 0.7362 | Train f1score: 0.7435 | Train acc: 0.6799 | Train kappa: 0.4832 \n",
      "Val loss: 0.5905 | Val precision: 0.7753 | Val recall: 0.7766 | Val f1score: 0.7757 | Val acc: 0.6926 | Val kappa: 0.4722 \n",
      "\n",
      "Epoch: 33 \n",
      "Learning rate: 1e-06\n",
      "Train loss: 0.6034 | Train precision: 0.7393 | Train recall: 0.7307 | Train f1score: 0.7349 | Train acc: 0.6783 | Train kappa: 0.4759 \n",
      "Val loss: 0.5910 | Val precision: 0.7733 | Val recall: 0.7749 | Val f1score: 0.7736 | Val acc: 0.6892 | Val kappa: 0.4669 \n",
      "\n",
      "Epoch: 34 \n",
      "Learning rate: 1e-06\n",
      "Train loss: 0.5981 | Train precision: 0.7543 | Train recall: 0.7307 | Train f1score: 0.7419 | Train acc: 0.6779 | Train kappa: 0.4748 \n",
      "Val loss: 0.5907 | Val precision: 0.7754 | Val recall: 0.7763 | Val f1score: 0.7758 | Val acc: 0.6934 | Val kappa: 0.4731 \n",
      "\n",
      "Epoch: 35 \n",
      "Learning rate: 1e-06\n",
      "Train loss: 0.6101 | Train precision: 0.7357 | Train recall: 0.7259 | Train f1score: 0.7306 | Train acc: 0.6718 | Train kappa: 0.4658 \n",
      "Val loss: 0.5907 | Val precision: 0.7756 | Val recall: 0.7767 | Val f1score: 0.7759 | Val acc: 0.6934 | Val kappa: 0.4733 \n",
      "\n",
      "Epoch: 36 \n",
      "Learning rate: 1e-06\n",
      "Train loss: 0.5979 | Train precision: 0.7441 | Train recall: 0.7425 | Train f1score: 0.7433 | Train acc: 0.6763 | Train kappa: 0.4658 \n",
      "Val loss: 0.5932 | Val precision: 0.7740 | Val recall: 0.7745 | Val f1score: 0.7742 | Val acc: 0.6917 | Val kappa: 0.4698 \n",
      "\n",
      "Epoch: 37 \n",
      "Learning rate: 1e-06\n",
      "Train loss: 0.5997 | Train precision: 0.7543 | Train recall: 0.7350 | Train f1score: 0.7440 | Train acc: 0.6775 | Train kappa: 0.4742 \n",
      "Val loss: 0.5936 | Val precision: 0.7724 | Val recall: 0.7738 | Val f1score: 0.7728 | Val acc: 0.6883 | Val kappa: 0.4651 \n",
      "\n",
      "Epoch: 38 \n",
      "Learning rate: 1e-06\n",
      "Train loss: 0.6001 | Train precision: 0.7471 | Train recall: 0.7351 | Train f1score: 0.7408 | Train acc: 0.6749 | Train kappa: 0.4762 \n",
      "Val loss: 0.5912 | Val precision: 0.7761 | Val recall: 0.7772 | Val f1score: 0.7765 | Val acc: 0.6943 | Val kappa: 0.4747 \n",
      "\n",
      "Early stopping after epoch 38\n"
     ]
    },
    {
     "data": {
      "text/html": [
       "Waiting for W&B process to finish... <strong style=\"color:green\">(success).</strong>"
      ],
      "text/plain": [
       "<IPython.core.display.HTML object>"
      ]
     },
     "metadata": {},
     "output_type": "display_data"
    },
    {
     "data": {
      "application/vnd.jupyter.widget-view+json": {
       "model_id": "861f82aed8554467b75ac89ac23df94e",
       "version_major": 2,
       "version_minor": 0
      },
      "text/plain": [
       "VBox(children=(Label(value='0.001 MB of 0.001 MB uploaded (0.000 MB deduped)\\r'), FloatProgress(value=1.0, max…"
      ]
     },
     "metadata": {},
     "output_type": "display_data"
    },
    {
     "data": {
      "text/html": [
       "<style>\n",
       "    table.wandb td:nth-child(1) { padding: 0 10px; text-align: left ; width: auto;} td:nth-child(2) {text-align: left ; width: 100%}\n",
       "    .wandb-row { display: flex; flex-direction: row; flex-wrap: wrap; justify-content: flex-start; width: 100% }\n",
       "    .wandb-col { display: flex; flex-direction: column; flex-basis: 100%; flex: 1; padding: 10px; }\n",
       "    </style>\n",
       "<div class=\"wandb-row\"><div class=\"wandb-col\"><h3>Run history:</h3><br/><table class=\"wandb\"><tr><td>learning_rate</td><td>█▆▅▄▃▃▂▂▂▂▁▁▁▁▁▁▁▁▁▁▁▁▁▁▁▁▁▁▁▁▁▁▁▁▁▁▁▁</td></tr><tr><td>train_f1_score</td><td>▁▄▅▆▇▇▇▇█▇████████████████████████████</td></tr><tr><td>train_loss</td><td>█▅▄▃▃▂▂▂▂▂▂▁▁▂▁▁▁▁▁▁▁▁▁▁▁▂▁▁▁▁▁▁▁▁▂▁▁▁</td></tr><tr><td>val_f1_score</td><td>▁▅▃▆▇▇▇▇▇▇████████████████████████████</td></tr><tr><td>val_loss</td><td>█▃▃▂▂▂▁▁▁▁▁▁▁▁▁▁▁▁▁▁▁▁▁▁▁▁▁▁▁▁▁▁▁▁▁▁▁▁</td></tr></table><br/></div><div class=\"wandb-col\"><h3>Run summary:</h3><br/><table class=\"wandb\"><tr><td>learning_rate</td><td>0.0</td></tr><tr><td>train_f1_score</td><td>0.74078</td></tr><tr><td>train_loss</td><td>0.60007</td></tr><tr><td>val_f1_score</td><td>0.77649</td></tr><tr><td>val_loss</td><td>0.59116</td></tr></table><br/></div></div>"
      ],
      "text/plain": [
       "<IPython.core.display.HTML object>"
      ]
     },
     "metadata": {},
     "output_type": "display_data"
    },
    {
     "data": {
      "text/html": [
       " View run <strong style=\"color:#cdcd00\">fold_2_RGB_3classes_v2</strong> at: <a href='https://wandb.ai/simon-ecke/wze-uav-v2/runs/u6f25f39' target=\"_blank\">https://wandb.ai/simon-ecke/wze-uav-v2/runs/u6f25f39</a><br/>Synced 5 W&B file(s), 0 media file(s), 0 artifact file(s) and 0 other file(s)"
      ],
      "text/plain": [
       "<IPython.core.display.HTML object>"
      ]
     },
     "metadata": {},
     "output_type": "display_data"
    },
    {
     "data": {
      "text/html": [
       "Find logs at: <code>.\\wandb\\run-20230419_141312-u6f25f39\\logs</code>"
      ],
      "text/plain": [
       "<IPython.core.display.HTML object>"
      ]
     },
     "metadata": {},
     "output_type": "display_data"
    },
    {
     "name": "stdout",
     "output_type": "stream",
     "text": [
      "Deleting variables and emptying cache\n",
      "Memory allocated: 1067544064 bytes\n",
      "--------------------------------------------------\n",
      "\n",
      "Fold : 2\n",
      "TRAIN POSITIVE RATIO: 0.42986172168491726\n",
      "VAL POSITIVE RATIO  : 0.42375039796243236\n",
      "LENGTH TRAIN GROUPS : 4713\n",
      "LENGTH VAL GROUPS   : 1187\n"
     ]
    },
    {
     "data": {
      "text/html": [
       "Tracking run with wandb version 0.14.2"
      ],
      "text/plain": [
       "<IPython.core.display.HTML object>"
      ]
     },
     "metadata": {},
     "output_type": "display_data"
    },
    {
     "data": {
      "text/html": [
       "Run data is saved locally in <code>C:\\Users\\lwfeckesim\\01_PyTorch\\wze-uav\\wze-uav-master\\wandb\\run-20230419_172240-wt3sny0k</code>"
      ],
      "text/plain": [
       "<IPython.core.display.HTML object>"
      ]
     },
     "metadata": {},
     "output_type": "display_data"
    },
    {
     "data": {
      "text/html": [
       "Syncing run <strong><a href='https://wandb.ai/simon-ecke/wze-uav-v2/runs/wt3sny0k' target=\"_blank\">fold_3_RGB_3classes_v2</a></strong> to <a href='https://wandb.ai/simon-ecke/wze-uav-v2' target=\"_blank\">Weights & Biases</a> (<a href='https://wandb.me/run' target=\"_blank\">docs</a>)<br/>"
      ],
      "text/plain": [
       "<IPython.core.display.HTML object>"
      ]
     },
     "metadata": {},
     "output_type": "display_data"
    },
    {
     "data": {
      "text/html": [
       " View project at <a href='https://wandb.ai/simon-ecke/wze-uav-v2' target=\"_blank\">https://wandb.ai/simon-ecke/wze-uav-v2</a>"
      ],
      "text/plain": [
       "<IPython.core.display.HTML object>"
      ]
     },
     "metadata": {},
     "output_type": "display_data"
    },
    {
     "data": {
      "text/html": [
       " View run at <a href='https://wandb.ai/simon-ecke/wze-uav-v2/runs/wt3sny0k' target=\"_blank\">https://wandb.ai/simon-ecke/wze-uav-v2/runs/wt3sny0k</a>"
      ],
      "text/plain": [
       "<IPython.core.display.HTML object>"
      ]
     },
     "metadata": {},
     "output_type": "display_data"
    },
    {
     "name": "stdout",
     "output_type": "stream",
     "text": [
      "There are no same hash_id values in train, val or test datasets. The datasplit was successful\n",
      "Check shapes:\n",
      "\n",
      "Images train dataset: (12511, 250, 250, 3)\n",
      "Labels train dataset: (12511, 1)\n",
      "\n",
      "Images validation dataset: (1187, 250, 250, 3)\n",
      "Labels validation dataset: (1187, 1)\n",
      "\n",
      "--------------------------------------------------\n",
      "Check if the split was stratified: (random_state=42)\n",
      "Healthy trees in train dataset: 7352\n",
      "Stressed trees in train dataset: 4940\n",
      "Dead trees in train dataset: 219\n",
      "Healthy trees in validation dataset: 691\n",
      "Stressed trees in validation dataset: 472\n",
      "Dead trees in validation dataset: 24\n",
      "Ratio health trees in validation dataset: 0.07504344048653346\n",
      "Ratio stressed trees in validation dataset: 0.0763877650105195\n",
      "Ratio dead trees in validation dataset: 0.09056603773584905\n",
      "--------------------------------------------------\n",
      "\n",
      "Creating datasets for fold: 3\n",
      "\n",
      "Creating dataloaders for fold: 3\n",
      "\n",
      "[INFO] Created new effnet_b7 model.\n",
      "\n",
      "[INFO] Fold number: 3\n",
      "[INFO] Number of epochs: 50\n",
      "[INFO] Batch_size: 32\n",
      "[INFO] Number of bands: 3\n",
      "[INFO] Dropout rate: 0.5\n",
      "[INFO] Gamma learning rate: 0.75\n",
      "[INFO] Memory allocated: 263217152 bytes\n"
     ]
    },
    {
     "data": {
      "application/vnd.jupyter.widget-view+json": {
       "model_id": "17cd7854e65b4d9b8c221e0db1362a57",
       "version_major": 2,
       "version_minor": 0
      },
      "text/plain": [
       "  0%|          | 0/50 [00:00<?, ?it/s]"
      ]
     },
     "metadata": {},
     "output_type": "display_data"
    },
    {
     "name": "stdout",
     "output_type": "stream",
     "text": [
      "Epoch: 1 \n",
      "Learning rate: 0.005\n",
      "Train loss: 0.8061 | Train precision: 0.4933 | Train recall: 0.4173 | Train f1score: 0.4369 | Train acc: 0.5330 | Train kappa: 0.1483 \n",
      "Val loss: 1.0668 | Val precision: 0.1329 | Val recall: 0.3333 | Val f1score: 0.1900 | Val acc: 0.3986 | Val kappa: 0.0000 \n",
      "\n",
      "Epoch: 2 \n",
      "Learning rate: 0.00375\n",
      "Train loss: 0.7198 | Train precision: 0.5826 | Train recall: 0.5641 | Train f1score: 0.5721 | Train acc: 0.5901 | Train kappa: 0.3190 \n",
      "Val loss: 0.6971 | Val precision: 0.7312 | Val recall: 0.4194 | Val f1score: 0.4014 | Val acc: 0.6030 | Val kappa: 0.1609 \n",
      "\n",
      "Epoch: 3 \n",
      "Learning rate: 0.0028125\n",
      "Train loss: 0.6871 | Train precision: 0.6542 | Train recall: 0.6244 | Train f1score: 0.6376 | Train acc: 0.6151 | Train kappa: 0.3655 \n",
      "Val loss: 0.6716 | Val precision: 0.5732 | Val recall: 0.6883 | Val f1score: 0.6080 | Val acc: 0.6478 | Val kappa: 0.3828 \n",
      "\n",
      "Epoch: 4 \n",
      "Learning rate: 0.002109375\n",
      "Train loss: 0.6648 | Train precision: 0.6821 | Train recall: 0.6525 | Train f1score: 0.6656 | Train acc: 0.6356 | Train kappa: 0.3973 \n",
      "Val loss: 0.6418 | Val precision: 0.7369 | Val recall: 0.5735 | Val f1score: 0.6065 | Val acc: 0.6461 | Val kappa: 0.3141 \n",
      "\n",
      "Epoch: 5 \n",
      "Learning rate: 0.00158203125\n",
      "Train loss: 0.6457 | Train precision: 0.7072 | Train recall: 0.6869 | Train f1score: 0.6965 | Train acc: 0.6459 | Train kappa: 0.4345 \n",
      "Val loss: 0.6714 | Val precision: 0.7626 | Val recall: 0.6109 | Val f1score: 0.6454 | Val acc: 0.6182 | Val kappa: 0.3399 \n",
      "\n",
      "Epoch: 6 \n",
      "Learning rate: 0.0011865234375\n",
      "Train loss: 0.6382 | Train precision: 0.7286 | Train recall: 0.7173 | Train f1score: 0.7228 | Train acc: 0.6570 | Train kappa: 0.4469 \n",
      "Val loss: 0.6384 | Val precision: 0.7190 | Val recall: 0.6763 | Val f1score: 0.6903 | Val acc: 0.6537 | Val kappa: 0.4022 \n",
      "\n",
      "Epoch: 7 \n",
      "Learning rate: 0.000889892578125\n",
      "Train loss: 0.6336 | Train precision: 0.7208 | Train recall: 0.7076 | Train f1score: 0.7139 | Train acc: 0.6501 | Train kappa: 0.4312 \n",
      "Val loss: 0.6595 | Val precision: 0.7039 | Val recall: 0.6561 | Val f1score: 0.6564 | Val acc: 0.6233 | Val kappa: 0.3646 \n",
      "\n",
      "Epoch: 8 \n",
      "Learning rate: 0.00066741943359375\n",
      "Train loss: 0.6245 | Train precision: 0.7329 | Train recall: 0.7224 | Train f1score: 0.7274 | Train acc: 0.6659 | Train kappa: 0.4639 \n",
      "Val loss: 0.6090 | Val precision: 0.7128 | Val recall: 0.6928 | Val f1score: 0.6994 | Val acc: 0.6740 | Val kappa: 0.4200 \n",
      "\n",
      "Epoch: 9 \n",
      "Learning rate: 0.0005005645751953125\n",
      "Train loss: 0.6267 | Train precision: 0.7272 | Train recall: 0.7107 | Train f1score: 0.7187 | Train acc: 0.6604 | Train kappa: 0.4493 \n",
      "Val loss: 0.6572 | Val precision: 0.6772 | Val recall: 0.7325 | Val f1score: 0.6868 | Val acc: 0.6444 | Val kappa: 0.4054 \n",
      "\n",
      "Epoch: 10 \n",
      "Learning rate: 0.0003754234313964844\n",
      "Train loss: 0.6090 | Train precision: 0.7501 | Train recall: 0.7343 | Train f1score: 0.7420 | Train acc: 0.6748 | Train kappa: 0.4973 \n",
      "Val loss: 0.6132 | Val precision: 0.6712 | Val recall: 0.6664 | Val f1score: 0.6675 | Val acc: 0.6689 | Val kappa: 0.4077 \n",
      "\n",
      "Epoch: 11 \n",
      "Learning rate: 0.0002815675735473633\n",
      "Train loss: 0.6084 | Train precision: 0.7557 | Train recall: 0.7370 | Train f1score: 0.7460 | Train acc: 0.6766 | Train kappa: 0.4858 \n",
      "Val loss: 0.6123 | Val precision: 0.6876 | Val recall: 0.7201 | Val f1score: 0.7018 | Val acc: 0.6698 | Val kappa: 0.4315 \n",
      "\n",
      "Epoch: 12 \n",
      "Learning rate: 0.00021117568016052246\n",
      "Train loss: 0.6102 | Train precision: 0.7423 | Train recall: 0.7276 | Train f1score: 0.7347 | Train acc: 0.6734 | Train kappa: 0.4691 \n",
      "Val loss: 0.6052 | Val precision: 0.6843 | Val recall: 0.7028 | Val f1score: 0.6931 | Val acc: 0.6757 | Val kappa: 0.4325 \n",
      "\n",
      "Epoch: 13 \n",
      "Learning rate: 0.00015838176012039184\n",
      "Train loss: 0.6043 | Train precision: 0.7531 | Train recall: 0.7375 | Train f1score: 0.7451 | Train acc: 0.6794 | Train kappa: 0.4852 \n",
      "Val loss: 0.6091 | Val precision: 0.7045 | Val recall: 0.7070 | Val f1score: 0.7049 | Val acc: 0.6715 | Val kappa: 0.4280 \n",
      "\n",
      "Epoch: 14 \n",
      "Learning rate: 0.00011878632009029388\n",
      "Train loss: 0.6070 | Train precision: 0.7521 | Train recall: 0.7243 | Train f1score: 0.7375 | Train acc: 0.6740 | Train kappa: 0.4700 \n",
      "Val loss: 0.6141 | Val precision: 0.6900 | Val recall: 0.7214 | Val f1score: 0.7045 | Val acc: 0.6765 | Val kappa: 0.4399 \n",
      "\n",
      "Epoch: 15 \n",
      "Learning rate: 8.908974006772042e-05\n",
      "Train loss: 0.6053 | Train precision: 0.7514 | Train recall: 0.7317 | Train f1score: 0.7412 | Train acc: 0.6793 | Train kappa: 0.4902 \n",
      "Val loss: 0.6139 | Val precision: 0.7084 | Val recall: 0.7007 | Val f1score: 0.7034 | Val acc: 0.6807 | Val kappa: 0.4472 \n",
      "\n",
      "Epoch: 16 \n",
      "Learning rate: 6.681730505079031e-05\n",
      "Train loss: 0.5999 | Train precision: 0.7548 | Train recall: 0.7377 | Train f1score: 0.7459 | Train acc: 0.6844 | Train kappa: 0.4986 \n",
      "Val loss: 0.6072 | Val precision: 0.7001 | Val recall: 0.6893 | Val f1score: 0.6946 | Val acc: 0.6740 | Val kappa: 0.4294 \n",
      "\n",
      "Epoch: 17 \n",
      "Learning rate: 5.0112978788092735e-05\n",
      "Train loss: 0.6014 | Train precision: 0.7510 | Train recall: 0.7393 | Train f1score: 0.7449 | Train acc: 0.6761 | Train kappa: 0.4804 \n",
      "Val loss: 0.6072 | Val precision: 0.6910 | Val recall: 0.6886 | Val f1score: 0.6895 | Val acc: 0.6774 | Val kappa: 0.4344 \n",
      "\n",
      "Epoch: 18 \n",
      "Learning rate: 3.758473409106955e-05\n",
      "Train loss: 0.5862 | Train precision: 0.7633 | Train recall: 0.7469 | Train f1score: 0.7549 | Train acc: 0.6893 | Train kappa: 0.5098 \n",
      "Val loss: 0.6074 | Val precision: 0.6950 | Val recall: 0.7141 | Val f1score: 0.7040 | Val acc: 0.6740 | Val kappa: 0.4332 \n",
      "\n",
      "Epoch: 19 \n",
      "Learning rate: 2.8188550568302163e-05\n",
      "Train loss: 0.5957 | Train precision: 0.7544 | Train recall: 0.7462 | Train f1score: 0.7502 | Train acc: 0.6800 | Train kappa: 0.4896 \n",
      "Val loss: 0.6063 | Val precision: 0.7035 | Val recall: 0.7019 | Val f1score: 0.7026 | Val acc: 0.6757 | Val kappa: 0.4324 \n",
      "\n",
      "Epoch: 20 \n",
      "Learning rate: 2.114141292622662e-05\n",
      "Train loss: 0.5931 | Train precision: 0.7608 | Train recall: 0.7475 | Train f1score: 0.7540 | Train acc: 0.6879 | Train kappa: 0.5019 \n",
      "Val loss: 0.6077 | Val precision: 0.6909 | Val recall: 0.7297 | Val f1score: 0.7085 | Val acc: 0.6765 | Val kappa: 0.4371 \n",
      "\n",
      "Epoch: 21 \n",
      "Learning rate: 1.5856059694669965e-05\n",
      "Train loss: 0.5942 | Train precision: 0.7600 | Train recall: 0.7428 | Train f1score: 0.7511 | Train acc: 0.6858 | Train kappa: 0.5043 \n",
      "Val loss: 0.6083 | Val precision: 0.6912 | Val recall: 0.7004 | Val f1score: 0.6956 | Val acc: 0.6723 | Val kappa: 0.4292 \n",
      "\n",
      "Epoch: 22 \n",
      "Learning rate: 1.1892044771002475e-05\n",
      "Train loss: 0.5991 | Train precision: 0.7536 | Train recall: 0.7401 | Train f1score: 0.7467 | Train acc: 0.6788 | Train kappa: 0.4825 \n",
      "Val loss: 0.6083 | Val precision: 0.6983 | Val recall: 0.7179 | Val f1score: 0.7076 | Val acc: 0.6782 | Val kappa: 0.4413 \n",
      "\n",
      "Epoch: 23 \n",
      "Learning rate: 8.919033578251857e-06\n",
      "Train loss: 0.5962 | Train precision: 0.7512 | Train recall: 0.7411 | Train f1score: 0.7460 | Train acc: 0.6808 | Train kappa: 0.4890 \n",
      "Val loss: 0.6069 | Val precision: 0.6951 | Val recall: 0.7144 | Val f1score: 0.7042 | Val acc: 0.6740 | Val kappa: 0.4334 \n",
      "\n",
      "Epoch: 24 \n",
      "Learning rate: 6.689275183688892e-06\n",
      "Train loss: 0.5984 | Train precision: 0.7571 | Train recall: 0.7458 | Train f1score: 0.7513 | Train acc: 0.6795 | Train kappa: 0.4969 \n",
      "Val loss: 0.6071 | Val precision: 0.6925 | Val recall: 0.7021 | Val f1score: 0.6972 | Val acc: 0.6740 | Val kappa: 0.4326 \n",
      "\n",
      "Epoch: 25 \n",
      "Learning rate: 5.016956387766669e-06\n",
      "Train loss: 0.5967 | Train precision: 0.7555 | Train recall: 0.7391 | Train f1score: 0.7470 | Train acc: 0.6810 | Train kappa: 0.4875 \n",
      "Val loss: 0.6073 | Val precision: 0.6954 | Val recall: 0.7152 | Val f1score: 0.7049 | Val acc: 0.6740 | Val kappa: 0.4342 \n",
      "\n",
      "Epoch: 26 \n",
      "Learning rate: 3.762717290825002e-06\n",
      "Train loss: 0.6058 | Train precision: 0.7454 | Train recall: 0.7373 | Train f1score: 0.7413 | Train acc: 0.6713 | Train kappa: 0.4720 \n",
      "Val loss: 0.6094 | Val precision: 0.6969 | Val recall: 0.7068 | Val f1score: 0.7017 | Val acc: 0.6799 | Val kappa: 0.4434 \n",
      "\n",
      "Epoch: 27 \n",
      "Learning rate: 2.8220379681187514e-06\n",
      "Train loss: 0.5894 | Train precision: 0.7633 | Train recall: 0.7565 | Train f1score: 0.7598 | Train acc: 0.6864 | Train kappa: 0.5018 \n",
      "Val loss: 0.6076 | Val precision: 0.6921 | Val recall: 0.7018 | Val f1score: 0.6968 | Val acc: 0.6731 | Val kappa: 0.4314 \n",
      "\n"
     ]
    },
    {
     "name": "stdout",
     "output_type": "stream",
     "text": [
      "Epoch: 28 \n",
      "Learning rate: 2.1165284760890633e-06\n",
      "Train loss: 0.5921 | Train precision: 0.7609 | Train recall: 0.7502 | Train f1score: 0.7555 | Train acc: 0.6856 | Train kappa: 0.4986 \n",
      "Val loss: 0.6068 | Val precision: 0.6965 | Val recall: 0.7162 | Val f1score: 0.7059 | Val acc: 0.6757 | Val kappa: 0.4370 \n",
      "\n",
      "Epoch: 29 \n",
      "Learning rate: 1.5873963570667977e-06\n",
      "Train loss: 0.5964 | Train precision: 0.7625 | Train recall: 0.7390 | Train f1score: 0.7502 | Train acc: 0.6832 | Train kappa: 0.4889 \n",
      "Val loss: 0.6070 | Val precision: 0.6973 | Val recall: 0.7174 | Val f1score: 0.7069 | Val acc: 0.6765 | Val kappa: 0.4389 \n",
      "\n",
      "Epoch: 30 \n",
      "Learning rate: 1.1905472678000981e-06\n",
      "Train loss: 0.5982 | Train precision: 0.7492 | Train recall: 0.7443 | Train f1score: 0.7467 | Train acc: 0.6809 | Train kappa: 0.4952 \n",
      "Val loss: 0.6070 | Val precision: 0.6899 | Val recall: 0.6891 | Val f1score: 0.6895 | Val acc: 0.6748 | Val kappa: 0.4321 \n",
      "\n",
      "Early stopping after epoch 30\n"
     ]
    },
    {
     "data": {
      "text/html": [
       "Waiting for W&B process to finish... <strong style=\"color:green\">(success).</strong>"
      ],
      "text/plain": [
       "<IPython.core.display.HTML object>"
      ]
     },
     "metadata": {},
     "output_type": "display_data"
    },
    {
     "data": {
      "application/vnd.jupyter.widget-view+json": {
       "model_id": "f967ccff8e464769b35c4bf401f275b2",
       "version_major": 2,
       "version_minor": 0
      },
      "text/plain": [
       "VBox(children=(Label(value='0.001 MB of 0.001 MB uploaded (0.000 MB deduped)\\r'), FloatProgress(value=1.0, max…"
      ]
     },
     "metadata": {},
     "output_type": "display_data"
    },
    {
     "data": {
      "text/html": [
       "<style>\n",
       "    table.wandb td:nth-child(1) { padding: 0 10px; text-align: left ; width: auto;} td:nth-child(2) {text-align: left ; width: 100%}\n",
       "    .wandb-row { display: flex; flex-direction: row; flex-wrap: wrap; justify-content: flex-start; width: 100% }\n",
       "    .wandb-col { display: flex; flex-direction: column; flex-basis: 100%; flex: 1; padding: 10px; }\n",
       "    </style>\n",
       "<div class=\"wandb-row\"><div class=\"wandb-col\"><h3>Run history:</h3><br/><table class=\"wandb\"><tr><td>learning_rate</td><td>█▆▅▄▃▃▂▂▂▂▁▁▁▁▁▁▁▁▁▁▁▁▁▁▁▁▁▁▁▁</td></tr><tr><td>train_f1_score</td><td>▁▄▅▆▇▇▇▇▇██▇██████████████████</td></tr><tr><td>train_loss</td><td>█▅▄▄▃▃▃▂▂▂▂▂▂▂▂▁▁▁▁▁▁▁▁▁▁▂▁▁▁▁</td></tr><tr><td>val_f1_score</td><td>▁▄▇▇▇█▇██▇████████████████████</td></tr><tr><td>val_loss</td><td>█▂▂▂▂▂▂▁▂▁▁▁▁▁▁▁▁▁▁▁▁▁▁▁▁▁▁▁▁▁</td></tr></table><br/></div><div class=\"wandb-col\"><h3>Run summary:</h3><br/><table class=\"wandb\"><tr><td>learning_rate</td><td>0.0</td></tr><tr><td>train_f1_score</td><td>0.74671</td></tr><tr><td>train_loss</td><td>0.59818</td></tr><tr><td>val_f1_score</td><td>0.68948</td></tr><tr><td>val_loss</td><td>0.60695</td></tr></table><br/></div></div>"
      ],
      "text/plain": [
       "<IPython.core.display.HTML object>"
      ]
     },
     "metadata": {},
     "output_type": "display_data"
    },
    {
     "data": {
      "text/html": [
       " View run <strong style=\"color:#cdcd00\">fold_3_RGB_3classes_v2</strong> at: <a href='https://wandb.ai/simon-ecke/wze-uav-v2/runs/wt3sny0k' target=\"_blank\">https://wandb.ai/simon-ecke/wze-uav-v2/runs/wt3sny0k</a><br/>Synced 5 W&B file(s), 0 media file(s), 0 artifact file(s) and 0 other file(s)"
      ],
      "text/plain": [
       "<IPython.core.display.HTML object>"
      ]
     },
     "metadata": {},
     "output_type": "display_data"
    },
    {
     "data": {
      "text/html": [
       "Find logs at: <code>.\\wandb\\run-20230419_172240-wt3sny0k\\logs</code>"
      ],
      "text/plain": [
       "<IPython.core.display.HTML object>"
      ]
     },
     "metadata": {},
     "output_type": "display_data"
    },
    {
     "name": "stdout",
     "output_type": "stream",
     "text": [
      "Deleting variables and emptying cache\n",
      "Memory allocated: 1069084160 bytes\n",
      "--------------------------------------------------\n",
      "\n",
      "Fold : 3\n",
      "TRAIN POSITIVE RATIO: 0.42982176957352003\n",
      "VAL POSITIVE RATIO  : 0.42380025940337224\n",
      "LENGTH TRAIN GROUPS : 4733\n",
      "LENGTH VAL GROUPS   : 1167\n"
     ]
    },
    {
     "data": {
      "text/html": [
       "Tracking run with wandb version 0.14.2"
      ],
      "text/plain": [
       "<IPython.core.display.HTML object>"
      ]
     },
     "metadata": {},
     "output_type": "display_data"
    },
    {
     "data": {
      "text/html": [
       "Run data is saved locally in <code>C:\\Users\\lwfeckesim\\01_PyTorch\\wze-uav\\wze-uav-master\\wandb\\run-20230419_193903-ejw5ehef</code>"
      ],
      "text/plain": [
       "<IPython.core.display.HTML object>"
      ]
     },
     "metadata": {},
     "output_type": "display_data"
    },
    {
     "data": {
      "text/html": [
       "Syncing run <strong><a href='https://wandb.ai/simon-ecke/wze-uav-v2/runs/ejw5ehef' target=\"_blank\">fold_4_RGB_3classes_v2</a></strong> to <a href='https://wandb.ai/simon-ecke/wze-uav-v2' target=\"_blank\">Weights & Biases</a> (<a href='https://wandb.me/run' target=\"_blank\">docs</a>)<br/>"
      ],
      "text/plain": [
       "<IPython.core.display.HTML object>"
      ]
     },
     "metadata": {},
     "output_type": "display_data"
    },
    {
     "data": {
      "text/html": [
       " View project at <a href='https://wandb.ai/simon-ecke/wze-uav-v2' target=\"_blank\">https://wandb.ai/simon-ecke/wze-uav-v2</a>"
      ],
      "text/plain": [
       "<IPython.core.display.HTML object>"
      ]
     },
     "metadata": {},
     "output_type": "display_data"
    },
    {
     "data": {
      "text/html": [
       " View run at <a href='https://wandb.ai/simon-ecke/wze-uav-v2/runs/ejw5ehef' target=\"_blank\">https://wandb.ai/simon-ecke/wze-uav-v2/runs/ejw5ehef</a>"
      ],
      "text/plain": [
       "<IPython.core.display.HTML object>"
      ]
     },
     "metadata": {},
     "output_type": "display_data"
    },
    {
     "name": "stdout",
     "output_type": "stream",
     "text": [
      "There are no same hash_id values in train, val or test datasets. The datasplit was successful\n",
      "Check shapes:\n",
      "\n",
      "Images train dataset: (12568, 250, 250, 3)\n",
      "Labels train dataset: (12568, 1)\n",
      "\n",
      "Images validation dataset: (1167, 250, 250, 3)\n",
      "Labels validation dataset: (1167, 1)\n",
      "\n",
      "--------------------------------------------------\n",
      "Check if the split was stratified: (random_state=42)\n",
      "Healthy trees in train dataset: 7387\n",
      "Stressed trees in train dataset: 4960\n",
      "Dead trees in train dataset: 221\n",
      "Healthy trees in validation dataset: 685\n",
      "Stressed trees in validation dataset: 464\n",
      "Dead trees in validation dataset: 18\n",
      "Ratio health trees in validation dataset: 0.07439183318853171\n",
      "Ratio stressed trees in validation dataset: 0.07509305712898527\n",
      "Ratio dead trees in validation dataset: 0.06792452830188679\n",
      "--------------------------------------------------\n",
      "\n",
      "Creating datasets for fold: 4\n",
      "\n",
      "Creating dataloaders for fold: 4\n",
      "\n",
      "[INFO] Created new effnet_b7 model.\n",
      "\n",
      "[INFO] Fold number: 4\n",
      "[INFO] Number of epochs: 50\n",
      "[INFO] Batch_size: 32\n",
      "[INFO] Number of bands: 3\n",
      "[INFO] Dropout rate: 0.5\n",
      "[INFO] Gamma learning rate: 0.75\n",
      "[INFO] Memory allocated: 261996544 bytes\n"
     ]
    },
    {
     "data": {
      "application/vnd.jupyter.widget-view+json": {
       "model_id": "7b8a05c7928d4e818d5b5189e863bb6a",
       "version_major": 2,
       "version_minor": 0
      },
      "text/plain": [
       "  0%|          | 0/50 [00:00<?, ?it/s]"
      ]
     },
     "metadata": {},
     "output_type": "display_data"
    },
    {
     "name": "stdout",
     "output_type": "stream",
     "text": [
      "Epoch: 1 \n",
      "Learning rate: 0.005\n",
      "Train loss: 0.8011 | Train precision: 0.5121 | Train recall: 0.4784 | Train f1score: 0.4928 | Train acc: 0.5289 | Train kappa: 0.1924 \n",
      "Val loss: 1.2825 | Val precision: 0.1956 | Val recall: 0.3333 | Val f1score: 0.2465 | Val acc: 0.5868 | Val kappa: 0.0000 \n",
      "\n",
      "Epoch: 2 \n",
      "Learning rate: 0.00375\n",
      "Train loss: 0.7049 | Train precision: 0.6383 | Train recall: 0.6204 | Train f1score: 0.6288 | Train acc: 0.6067 | Train kappa: 0.3640 \n",
      "Val loss: 0.6621 | Val precision: 0.7319 | Val recall: 0.5271 | Val f1score: 0.5478 | Val acc: 0.6389 | Val kappa: 0.2577 \n",
      "\n",
      "Epoch: 3 \n",
      "Learning rate: 0.0028125\n",
      "Train loss: 0.6658 | Train precision: 0.6852 | Train recall: 0.6637 | Train f1score: 0.6739 | Train acc: 0.6374 | Train kappa: 0.4237 \n",
      "Val loss: 1.0282 | Val precision: 0.4243 | Val recall: 0.6202 | Val f1score: 0.3842 | Val acc: 0.4896 | Val kappa: 0.3116 \n",
      "\n",
      "Epoch: 4 \n",
      "Learning rate: 0.002109375\n",
      "Train loss: 0.6488 | Train precision: 0.7055 | Train recall: 0.6853 | Train f1score: 0.6950 | Train acc: 0.6427 | Train kappa: 0.4192 \n",
      "Val loss: 0.6088 | Val precision: 0.7020 | Val recall: 0.6775 | Val f1score: 0.6760 | Val acc: 0.6736 | Val kappa: 0.3795 \n",
      "\n",
      "Epoch: 5 \n",
      "Learning rate: 0.00158203125\n",
      "Train loss: 0.6411 | Train precision: 0.7169 | Train recall: 0.7010 | Train f1score: 0.7086 | Train acc: 0.6464 | Train kappa: 0.4319 \n",
      "Val loss: 0.6086 | Val precision: 0.7167 | Val recall: 0.6980 | Val f1score: 0.6790 | Val acc: 0.6866 | Val kappa: 0.3955 \n",
      "\n",
      "Epoch: 6 \n",
      "Learning rate: 0.0011865234375\n",
      "Train loss: 0.6380 | Train precision: 0.7101 | Train recall: 0.6958 | Train f1score: 0.7026 | Train acc: 0.6452 | Train kappa: 0.4214 \n",
      "Val loss: 0.5967 | Val precision: 0.7135 | Val recall: 0.7317 | Val f1score: 0.7181 | Val acc: 0.6858 | Val kappa: 0.4229 \n",
      "\n",
      "Epoch: 7 \n",
      "Learning rate: 0.000889892578125\n",
      "Train loss: 0.6231 | Train precision: 0.7301 | Train recall: 0.7160 | Train f1score: 0.7228 | Train acc: 0.6617 | Train kappa: 0.4558 \n",
      "Val loss: 0.6084 | Val precision: 0.7807 | Val recall: 0.5702 | Val f1score: 0.6267 | Val acc: 0.6866 | Val kappa: 0.3960 \n",
      "\n",
      "Epoch: 8 \n",
      "Learning rate: 0.00066741943359375\n",
      "Train loss: 0.6227 | Train precision: 0.7349 | Train recall: 0.7287 | Train f1score: 0.7318 | Train acc: 0.6629 | Train kappa: 0.4560 \n",
      "Val loss: 0.6380 | Val precision: 0.6428 | Val recall: 0.7335 | Val f1score: 0.6725 | Val acc: 0.6484 | Val kappa: 0.3954 \n",
      "\n",
      "Epoch: 9 \n",
      "Learning rate: 0.0005005645751953125\n",
      "Train loss: 0.6261 | Train precision: 0.7311 | Train recall: 0.7204 | Train f1score: 0.7256 | Train acc: 0.6607 | Train kappa: 0.4587 \n",
      "Val loss: 0.6074 | Val precision: 0.6496 | Val recall: 0.7560 | Val f1score: 0.6903 | Val acc: 0.6832 | Val kappa: 0.4336 \n",
      "\n",
      "Epoch: 10 \n",
      "Learning rate: 0.0003754234313964844\n",
      "Train loss: 0.6148 | Train precision: 0.7320 | Train recall: 0.7254 | Train f1score: 0.7286 | Train acc: 0.6649 | Train kappa: 0.4585 \n",
      "Val loss: 0.6797 | Val precision: 0.4272 | Val recall: 0.4360 | Val f1score: 0.4240 | Val acc: 0.6328 | Val kappa: 0.3154 \n",
      "\n",
      "Epoch: 11 \n",
      "Learning rate: 0.0002815675735473633\n",
      "Train loss: 0.6189 | Train precision: 0.7341 | Train recall: 0.7184 | Train f1score: 0.7260 | Train acc: 0.6646 | Train kappa: 0.4556 \n",
      "Val loss: 0.5868 | Val precision: 0.7374 | Val recall: 0.7289 | Val f1score: 0.7310 | Val acc: 0.7031 | Val kappa: 0.4442 \n",
      "\n",
      "Epoch: 12 \n",
      "Learning rate: 0.00021117568016052246\n",
      "Train loss: 0.6118 | Train precision: 0.7458 | Train recall: 0.7310 | Train f1score: 0.7381 | Train acc: 0.6710 | Train kappa: 0.4672 \n",
      "Val loss: 0.5969 | Val precision: 0.7356 | Val recall: 0.6496 | Val f1score: 0.6834 | Val acc: 0.6944 | Val kappa: 0.4162 \n",
      "\n",
      "Epoch: 13 \n",
      "Learning rate: 0.00015838176012039184\n",
      "Train loss: 0.6102 | Train precision: 0.7386 | Train recall: 0.7272 | Train f1score: 0.7327 | Train acc: 0.6671 | Train kappa: 0.4631 \n",
      "Val loss: 0.5945 | Val precision: 0.7508 | Val recall: 0.6523 | Val f1score: 0.6913 | Val acc: 0.6823 | Val kappa: 0.4143 \n",
      "\n",
      "Epoch: 14 \n",
      "Learning rate: 0.00011878632009029388\n",
      "Train loss: 0.6067 | Train precision: 0.7457 | Train recall: 0.7333 | Train f1score: 0.7393 | Train acc: 0.6758 | Train kappa: 0.4728 \n",
      "Val loss: 0.5905 | Val precision: 0.7290 | Val recall: 0.7442 | Val f1score: 0.7364 | Val acc: 0.6875 | Val kappa: 0.4363 \n",
      "\n",
      "Epoch: 15 \n",
      "Learning rate: 8.908974006772042e-05\n",
      "Train loss: 0.6058 | Train precision: 0.7409 | Train recall: 0.7285 | Train f1score: 0.7344 | Train acc: 0.6768 | Train kappa: 0.4798 \n",
      "Val loss: 0.5964 | Val precision: 0.6921 | Val recall: 0.7509 | Val f1score: 0.7171 | Val acc: 0.6606 | Val kappa: 0.3981 \n",
      "\n",
      "Epoch: 16 \n",
      "Learning rate: 6.681730505079031e-05\n",
      "Train loss: 0.6001 | Train precision: 0.7463 | Train recall: 0.7402 | Train f1score: 0.7429 | Train acc: 0.6798 | Train kappa: 0.4866 \n",
      "Val loss: 0.5896 | Val precision: 0.7541 | Val recall: 0.6881 | Val f1score: 0.7167 | Val acc: 0.6814 | Val kappa: 0.4174 \n",
      "\n",
      "Epoch: 17 \n",
      "Learning rate: 5.0112978788092735e-05\n",
      "Train loss: 0.6014 | Train precision: 0.7509 | Train recall: 0.7371 | Train f1score: 0.7437 | Train acc: 0.6765 | Train kappa: 0.4742 \n",
      "Val loss: 0.5923 | Val precision: 0.7103 | Val recall: 0.7645 | Val f1score: 0.7344 | Val acc: 0.6936 | Val kappa: 0.4463 \n",
      "\n",
      "Epoch: 18 \n",
      "Learning rate: 3.758473409106955e-05\n",
      "Train loss: 0.5987 | Train precision: 0.7441 | Train recall: 0.7352 | Train f1score: 0.7396 | Train acc: 0.6755 | Train kappa: 0.4771 \n",
      "Val loss: 0.5928 | Val precision: 0.7408 | Val recall: 0.7256 | Val f1score: 0.7330 | Val acc: 0.6849 | Val kappa: 0.4240 \n",
      "\n",
      "Epoch: 19 \n",
      "Learning rate: 2.8188550568302163e-05\n",
      "Train loss: 0.5946 | Train precision: 0.7589 | Train recall: 0.7438 | Train f1score: 0.7510 | Train acc: 0.6844 | Train kappa: 0.4877 \n",
      "Val loss: 0.5935 | Val precision: 0.6804 | Val recall: 0.7584 | Val f1score: 0.7135 | Val acc: 0.6780 | Val kappa: 0.4277 \n",
      "\n",
      "Epoch: 20 \n",
      "Learning rate: 2.114141292622662e-05\n",
      "Train loss: 0.6041 | Train precision: 0.7412 | Train recall: 0.7387 | Train f1score: 0.7397 | Train acc: 0.6705 | Train kappa: 0.4820 \n",
      "Val loss: 0.5912 | Val precision: 0.7022 | Val recall: 0.7594 | Val f1score: 0.7277 | Val acc: 0.6797 | Val kappa: 0.4265 \n",
      "\n",
      "Epoch: 21 \n",
      "Learning rate: 1.5856059694669965e-05\n",
      "Train loss: 0.6023 | Train precision: 0.7419 | Train recall: 0.7352 | Train f1score: 0.7384 | Train acc: 0.6747 | Train kappa: 0.4772 \n",
      "Val loss: 0.5910 | Val precision: 0.7494 | Val recall: 0.7661 | Val f1score: 0.7575 | Val acc: 0.6918 | Val kappa: 0.4402 \n",
      "\n",
      "Epoch: 22 \n",
      "Learning rate: 1.1892044771002475e-05\n",
      "Train loss: 0.5965 | Train precision: 0.7518 | Train recall: 0.7401 | Train f1score: 0.7456 | Train acc: 0.6797 | Train kappa: 0.4779 \n",
      "Val loss: 0.5920 | Val precision: 0.6895 | Val recall: 0.7575 | Val f1score: 0.7191 | Val acc: 0.6771 | Val kappa: 0.4237 \n",
      "\n",
      "Epoch: 23 \n",
      "Learning rate: 8.919033578251857e-06\n",
      "Train loss: 0.6011 | Train precision: 0.7365 | Train recall: 0.7350 | Train f1score: 0.7356 | Train acc: 0.6699 | Train kappa: 0.4676 \n",
      "Val loss: 0.5912 | Val precision: 0.7444 | Val recall: 0.7619 | Val f1score: 0.7528 | Val acc: 0.6840 | Val kappa: 0.4275 \n",
      "\n",
      "Epoch: 24 \n",
      "Learning rate: 6.689275183688892e-06\n",
      "Train loss: 0.6041 | Train precision: 0.7417 | Train recall: 0.7266 | Train f1score: 0.7338 | Train acc: 0.6702 | Train kappa: 0.4634 \n",
      "Val loss: 0.5918 | Val precision: 0.7143 | Val recall: 0.7592 | Val f1score: 0.7349 | Val acc: 0.6806 | Val kappa: 0.4251 \n",
      "\n",
      "Epoch: 25 \n",
      "Learning rate: 5.016956387766669e-06\n",
      "Train loss: 0.6015 | Train precision: 0.7462 | Train recall: 0.7362 | Train f1score: 0.7411 | Train acc: 0.6736 | Train kappa: 0.4758 \n",
      "Val loss: 0.5925 | Val precision: 0.6917 | Val recall: 0.7601 | Val f1score: 0.7214 | Val acc: 0.6797 | Val kappa: 0.4292 \n",
      "\n",
      "Epoch: 26 \n",
      "Learning rate: 3.762717290825002e-06\n",
      "Train loss: 0.6015 | Train precision: 0.7478 | Train recall: 0.7307 | Train f1score: 0.7386 | Train acc: 0.6698 | Train kappa: 0.4679 \n",
      "Val loss: 0.5933 | Val precision: 0.6793 | Val recall: 0.7574 | Val f1score: 0.7124 | Val acc: 0.6762 | Val kappa: 0.4248 \n",
      "\n",
      "Epoch: 27 \n",
      "Learning rate: 2.8220379681187514e-06\n",
      "Train loss: 0.6020 | Train precision: 0.7470 | Train recall: 0.7397 | Train f1score: 0.7428 | Train acc: 0.6760 | Train kappa: 0.4737 \n",
      "Val loss: 0.5929 | Val precision: 0.6792 | Val recall: 0.7568 | Val f1score: 0.7123 | Val acc: 0.6771 | Val kappa: 0.4250 \n",
      "\n"
     ]
    },
    {
     "name": "stdout",
     "output_type": "stream",
     "text": [
      "Epoch: 28 \n",
      "Learning rate: 2.1165284760890633e-06\n",
      "Train loss: 0.5972 | Train precision: 0.7550 | Train recall: 0.7367 | Train f1score: 0.7453 | Train acc: 0.6787 | Train kappa: 0.4899 \n",
      "Val loss: 0.5933 | Val precision: 0.6816 | Val recall: 0.7590 | Val f1score: 0.7146 | Val acc: 0.6806 | Val kappa: 0.4309 \n",
      "\n",
      "Epoch: 29 \n",
      "Learning rate: 1.5873963570667977e-06\n",
      "Train loss: 0.5967 | Train precision: 0.7519 | Train recall: 0.7309 | Train f1score: 0.7408 | Train acc: 0.6751 | Train kappa: 0.4850 \n",
      "Val loss: 0.5916 | Val precision: 0.7071 | Val recall: 0.7627 | Val f1score: 0.7320 | Val acc: 0.6884 | Val kappa: 0.4389 \n",
      "\n",
      "Epoch: 30 \n",
      "Learning rate: 1.1905472678000981e-06\n",
      "Train loss: 0.5976 | Train precision: 0.7492 | Train recall: 0.7421 | Train f1score: 0.7456 | Train acc: 0.6786 | Train kappa: 0.4890 \n",
      "Val loss: 0.5947 | Val precision: 0.6704 | Val recall: 0.7577 | Val f1score: 0.7065 | Val acc: 0.6762 | Val kappa: 0.4271 \n",
      "\n",
      "Epoch: 31 \n",
      "Learning rate: 1e-06\n",
      "Train loss: 0.5999 | Train precision: 0.7398 | Train recall: 0.7414 | Train f1score: 0.7404 | Train acc: 0.6728 | Train kappa: 0.4785 \n",
      "Val loss: 0.5909 | Val precision: 0.6947 | Val recall: 0.7603 | Val f1score: 0.7233 | Val acc: 0.6866 | Val kappa: 0.4366 \n",
      "\n",
      "Early stopping after epoch 31\n"
     ]
    },
    {
     "data": {
      "text/html": [
       "Waiting for W&B process to finish... <strong style=\"color:green\">(success).</strong>"
      ],
      "text/plain": [
       "<IPython.core.display.HTML object>"
      ]
     },
     "metadata": {},
     "output_type": "display_data"
    },
    {
     "data": {
      "application/vnd.jupyter.widget-view+json": {
       "model_id": "1018e9074231407fb74dee899f157e8a",
       "version_major": 2,
       "version_minor": 0
      },
      "text/plain": [
       "VBox(children=(Label(value='0.001 MB of 0.001 MB uploaded (0.000 MB deduped)\\r'), FloatProgress(value=1.0, max…"
      ]
     },
     "metadata": {},
     "output_type": "display_data"
    },
    {
     "data": {
      "text/html": [
       "<style>\n",
       "    table.wandb td:nth-child(1) { padding: 0 10px; text-align: left ; width: auto;} td:nth-child(2) {text-align: left ; width: 100%}\n",
       "    .wandb-row { display: flex; flex-direction: row; flex-wrap: wrap; justify-content: flex-start; width: 100% }\n",
       "    .wandb-col { display: flex; flex-direction: column; flex-basis: 100%; flex: 1; padding: 10px; }\n",
       "    </style>\n",
       "<div class=\"wandb-row\"><div class=\"wandb-col\"><h3>Run history:</h3><br/><table class=\"wandb\"><tr><td>learning_rate</td><td>█▆▅▄▃▃▂▂▂▂▁▁▁▁▁▁▁▁▁▁▁▁▁▁▁▁▁▁▁▁▁</td></tr><tr><td>train_f1_score</td><td>▁▅▆▆▇▇▇▇▇▇▇████████████████████</td></tr><tr><td>train_loss</td><td>█▅▃▃▃▂▂▂▂▂▂▂▂▁▁▁▁▁▁▁▁▁▁▁▁▁▁▁▁▁▁</td></tr><tr><td>val_f1_score</td><td>▁▅▃▇▇▇▆▇▇▃█▇▇█▇▇██▇██▇███▇▇▇█▇█</td></tr><tr><td>val_loss</td><td>█▂▅▁▁▁▁▂▁▂▁▁▁▁▁▁▁▁▁▁▁▁▁▁▁▁▁▁▁▁▁</td></tr></table><br/></div><div class=\"wandb-col\"><h3>Run summary:</h3><br/><table class=\"wandb\"><tr><td>learning_rate</td><td>0.0</td></tr><tr><td>train_f1_score</td><td>0.74039</td></tr><tr><td>train_loss</td><td>0.59994</td></tr><tr><td>val_f1_score</td><td>0.72327</td></tr><tr><td>val_loss</td><td>0.59086</td></tr></table><br/></div></div>"
      ],
      "text/plain": [
       "<IPython.core.display.HTML object>"
      ]
     },
     "metadata": {},
     "output_type": "display_data"
    },
    {
     "data": {
      "text/html": [
       " View run <strong style=\"color:#cdcd00\">fold_4_RGB_3classes_v2</strong> at: <a href='https://wandb.ai/simon-ecke/wze-uav-v2/runs/ejw5ehef' target=\"_blank\">https://wandb.ai/simon-ecke/wze-uav-v2/runs/ejw5ehef</a><br/>Synced 5 W&B file(s), 0 media file(s), 0 artifact file(s) and 0 other file(s)"
      ],
      "text/plain": [
       "<IPython.core.display.HTML object>"
      ]
     },
     "metadata": {},
     "output_type": "display_data"
    },
    {
     "data": {
      "text/html": [
       "Find logs at: <code>.\\wandb\\run-20230419_193903-ejw5ehef\\logs</code>"
      ],
      "text/plain": [
       "<IPython.core.display.HTML object>"
      ]
     },
     "metadata": {},
     "output_type": "display_data"
    },
    {
     "name": "stdout",
     "output_type": "stream",
     "text": [
      "Deleting variables and emptying cache\n",
      "Memory allocated: 1063552512 bytes\n",
      "--------------------------------------------------\n",
      "\n",
      "Fold : 4\n",
      "TRAIN POSITIVE RATIO: 0.4254473161033797\n",
      "VAL POSITIVE RATIO  : 0.44166395840103995\n",
      "LENGTH TRAIN GROUPS : 4732\n",
      "LENGTH VAL GROUPS   : 1168\n"
     ]
    },
    {
     "data": {
      "text/html": [
       "Tracking run with wandb version 0.14.2"
      ],
      "text/plain": [
       "<IPython.core.display.HTML object>"
      ]
     },
     "metadata": {},
     "output_type": "display_data"
    },
    {
     "data": {
      "text/html": [
       "Run data is saved locally in <code>C:\\Users\\lwfeckesim\\01_PyTorch\\wze-uav\\wze-uav-master\\wandb\\run-20230419_220053-vxly5qmu</code>"
      ],
      "text/plain": [
       "<IPython.core.display.HTML object>"
      ]
     },
     "metadata": {},
     "output_type": "display_data"
    },
    {
     "data": {
      "text/html": [
       "Syncing run <strong><a href='https://wandb.ai/simon-ecke/wze-uav-v2/runs/vxly5qmu' target=\"_blank\">fold_5_RGB_3classes_v2</a></strong> to <a href='https://wandb.ai/simon-ecke/wze-uav-v2' target=\"_blank\">Weights & Biases</a> (<a href='https://wandb.me/run' target=\"_blank\">docs</a>)<br/>"
      ],
      "text/plain": [
       "<IPython.core.display.HTML object>"
      ]
     },
     "metadata": {},
     "output_type": "display_data"
    },
    {
     "data": {
      "text/html": [
       " View project at <a href='https://wandb.ai/simon-ecke/wze-uav-v2' target=\"_blank\">https://wandb.ai/simon-ecke/wze-uav-v2</a>"
      ],
      "text/plain": [
       "<IPython.core.display.HTML object>"
      ]
     },
     "metadata": {},
     "output_type": "display_data"
    },
    {
     "data": {
      "text/html": [
       " View run at <a href='https://wandb.ai/simon-ecke/wze-uav-v2/runs/vxly5qmu' target=\"_blank\">https://wandb.ai/simon-ecke/wze-uav-v2/runs/vxly5qmu</a>"
      ],
      "text/plain": [
       "<IPython.core.display.HTML object>"
      ]
     },
     "metadata": {},
     "output_type": "display_data"
    },
    {
     "name": "stdout",
     "output_type": "stream",
     "text": [
      "There are no same hash_id values in train, val or test datasets. The datasplit was successful\n",
      "Check shapes:\n",
      "\n",
      "Images train dataset: (12575, 250, 250, 3)\n",
      "Labels train dataset: (12575, 1)\n",
      "\n",
      "Images validation dataset: (1169, 250, 250, 3)\n",
      "Labels validation dataset: (1169, 1)\n",
      "\n",
      "--------------------------------------------------\n",
      "Check if the split was stratified: (random_state=42)\n",
      "Healthy trees in train dataset: 7449\n",
      "Stressed trees in train dataset: 4902\n",
      "Dead trees in train dataset: 224\n",
      "Healthy trees in validation dataset: 672\n",
      "Stressed trees in validation dataset: 480\n",
      "Dead trees in validation dataset: 17\n",
      "Ratio health trees in validation dataset: 0.07298001737619461\n",
      "Ratio stressed trees in validation dataset: 0.07768247289205372\n",
      "Ratio dead trees in validation dataset: 0.06415094339622641\n",
      "--------------------------------------------------\n",
      "\n",
      "Creating datasets for fold: 5\n",
      "\n",
      "Creating dataloaders for fold: 5\n",
      "\n",
      "[INFO] Created new effnet_b7 model.\n",
      "\n",
      "[INFO] Fold number: 5\n",
      "[INFO] Number of epochs: 50\n",
      "[INFO] Batch_size: 32\n",
      "[INFO] Number of bands: 3\n",
      "[INFO] Dropout rate: 0.5\n",
      "[INFO] Gamma learning rate: 0.75\n",
      "[INFO] Memory allocated: 260161536 bytes\n"
     ]
    },
    {
     "data": {
      "application/vnd.jupyter.widget-view+json": {
       "model_id": "3f284104129c4c029bc19ff988d63afa",
       "version_major": 2,
       "version_minor": 0
      },
      "text/plain": [
       "  0%|          | 0/50 [00:00<?, ?it/s]"
      ]
     },
     "metadata": {},
     "output_type": "display_data"
    },
    {
     "name": "stdout",
     "output_type": "stream",
     "text": [
      "Epoch: 1 \n",
      "Learning rate: 0.005\n",
      "Train loss: 0.8048 | Train precision: 0.5267 | Train recall: 0.4415 | Train f1score: 0.4686 | Train acc: 0.5195 | Train kappa: 0.1217 \n",
      "Val loss: 1.0228 | Val precision: 0.3189 | Val recall: 0.6028 | Val f1score: 0.2540 | Val acc: 0.3750 | Val kappa: 0.0128 \n",
      "\n",
      "Epoch: 2 \n",
      "Learning rate: 0.00375\n",
      "Train loss: 0.7075 | Train precision: 0.6405 | Train recall: 0.5924 | Train f1score: 0.6133 | Train acc: 0.6062 | Train kappa: 0.3397 \n",
      "Val loss: 0.6651 | Val precision: 0.7108 | Val recall: 0.5631 | Val f1score: 0.6025 | Val acc: 0.6337 | Val kappa: 0.2716 \n",
      "\n",
      "Epoch: 3 \n",
      "Learning rate: 0.0028125\n",
      "Train loss: 0.6851 | Train precision: 0.6738 | Train recall: 0.6540 | Train f1score: 0.6634 | Train acc: 0.6190 | Train kappa: 0.3974 \n",
      "Val loss: 0.6702 | Val precision: 0.7282 | Val recall: 0.4476 | Val f1score: 0.4641 | Val acc: 0.6033 | Val kappa: 0.1692 \n",
      "\n",
      "Epoch: 4 \n",
      "Learning rate: 0.002109375\n",
      "Train loss: 0.6564 | Train precision: 0.7014 | Train recall: 0.6776 | Train f1score: 0.6889 | Train acc: 0.6421 | Train kappa: 0.4205 \n",
      "Val loss: 0.7299 | Val precision: 0.7156 | Val recall: 0.7156 | Val f1score: 0.6210 | Val acc: 0.5200 | Val kappa: 0.2077 \n",
      "\n",
      "Epoch: 5 \n",
      "Learning rate: 0.00158203125\n",
      "Train loss: 0.6477 | Train precision: 0.7202 | Train recall: 0.6936 | Train f1score: 0.7061 | Train acc: 0.6579 | Train kappa: 0.4534 \n",
      "Val loss: 0.6352 | Val precision: 0.6364 | Val recall: 0.7527 | Val f1score: 0.6813 | Val acc: 0.6450 | Val kappa: 0.3576 \n",
      "\n",
      "Epoch: 6 \n",
      "Learning rate: 0.0011865234375\n",
      "Train loss: 0.6309 | Train precision: 0.7353 | Train recall: 0.7069 | Train f1score: 0.7200 | Train acc: 0.6595 | Train kappa: 0.4517 \n",
      "Val loss: 0.6528 | Val precision: 0.6157 | Val recall: 0.7476 | Val f1score: 0.6643 | Val acc: 0.6363 | Val kappa: 0.3432 \n",
      "\n",
      "Epoch: 7 \n",
      "Learning rate: 0.000889892578125\n",
      "Train loss: 0.6190 | Train precision: 0.7338 | Train recall: 0.7169 | Train f1score: 0.7250 | Train acc: 0.6634 | Train kappa: 0.4605 \n",
      "Val loss: 0.6283 | Val precision: 0.7016 | Val recall: 0.7695 | Val f1score: 0.7287 | Val acc: 0.6545 | Val kappa: 0.3803 \n",
      "\n",
      "Epoch: 8 \n",
      "Learning rate: 0.00066741943359375\n",
      "Train loss: 0.6283 | Train precision: 0.7277 | Train recall: 0.7109 | Train f1score: 0.7190 | Train acc: 0.6568 | Train kappa: 0.4568 \n",
      "Val loss: 0.6880 | Val precision: 0.7030 | Val recall: 0.7546 | Val f1score: 0.6915 | Val acc: 0.6024 | Val kappa: 0.3200 \n",
      "\n",
      "Epoch: 9 \n",
      "Learning rate: 0.0005005645751953125\n",
      "Train loss: 0.6096 | Train precision: 0.7489 | Train recall: 0.7328 | Train f1score: 0.7405 | Train acc: 0.6749 | Train kappa: 0.4803 \n",
      "Val loss: 0.6367 | Val precision: 0.6797 | Val recall: 0.7706 | Val f1score: 0.7121 | Val acc: 0.6510 | Val kappa: 0.3779 \n",
      "\n",
      "Epoch: 10 \n",
      "Learning rate: 0.0003754234313964844\n",
      "Train loss: 0.6099 | Train precision: 0.7453 | Train recall: 0.7261 | Train f1score: 0.7352 | Train acc: 0.6719 | Train kappa: 0.4741 \n",
      "Val loss: 0.6420 | Val precision: 0.7141 | Val recall: 0.7673 | Val f1score: 0.7306 | Val acc: 0.6432 | Val kappa: 0.3649 \n",
      "\n",
      "Epoch: 11 \n",
      "Learning rate: 0.0002815675735473633\n",
      "Train loss: 0.6021 | Train precision: 0.7577 | Train recall: 0.7391 | Train f1score: 0.7480 | Train acc: 0.6785 | Train kappa: 0.4864 \n",
      "Val loss: 0.6158 | Val precision: 0.7339 | Val recall: 0.7715 | Val f1score: 0.7514 | Val acc: 0.6675 | Val kappa: 0.3960 \n",
      "\n",
      "Epoch: 12 \n",
      "Learning rate: 0.00021117568016052246\n",
      "Train loss: 0.6040 | Train precision: 0.7528 | Train recall: 0.7380 | Train f1score: 0.7451 | Train acc: 0.6788 | Train kappa: 0.4875 \n",
      "Val loss: 0.6160 | Val precision: 0.7518 | Val recall: 0.7729 | Val f1score: 0.7615 | Val acc: 0.6675 | Val kappa: 0.4003 \n",
      "\n",
      "Epoch: 13 \n",
      "Learning rate: 0.00015838176012039184\n",
      "Train loss: 0.6017 | Train precision: 0.7528 | Train recall: 0.7389 | Train f1score: 0.7456 | Train acc: 0.6771 | Train kappa: 0.4860 \n",
      "Val loss: 0.6173 | Val precision: 0.7059 | Val recall: 0.7735 | Val f1score: 0.7348 | Val acc: 0.6658 | Val kappa: 0.3959 \n",
      "\n",
      "Epoch: 14 \n",
      "Learning rate: 0.00011878632009029388\n",
      "Train loss: 0.5945 | Train precision: 0.7579 | Train recall: 0.7432 | Train f1score: 0.7503 | Train acc: 0.6857 | Train kappa: 0.4919 \n",
      "Val loss: 0.6246 | Val precision: 0.7070 | Val recall: 0.7738 | Val f1score: 0.7288 | Val acc: 0.6528 | Val kappa: 0.3836 \n",
      "\n",
      "Epoch: 15 \n",
      "Learning rate: 8.908974006772042e-05\n",
      "Train loss: 0.6001 | Train precision: 0.7485 | Train recall: 0.7375 | Train f1score: 0.7429 | Train acc: 0.6802 | Train kappa: 0.4913 \n",
      "Val loss: 0.6093 | Val precision: 0.7498 | Val recall: 0.7524 | Val f1score: 0.7495 | Val acc: 0.6632 | Val kappa: 0.3936 \n",
      "\n",
      "Epoch: 16 \n",
      "Learning rate: 6.681730505079031e-05\n",
      "Train loss: 0.6008 | Train precision: 0.7523 | Train recall: 0.7368 | Train f1score: 0.7442 | Train acc: 0.6762 | Train kappa: 0.4866 \n",
      "Val loss: 0.6232 | Val precision: 0.7074 | Val recall: 0.7744 | Val f1score: 0.7299 | Val acc: 0.6545 | Val kappa: 0.3860 \n",
      "\n",
      "Epoch: 17 \n",
      "Learning rate: 5.0112978788092735e-05\n",
      "Train loss: 0.5897 | Train precision: 0.7604 | Train recall: 0.7505 | Train f1score: 0.7552 | Train acc: 0.6837 | Train kappa: 0.4932 \n",
      "Val loss: 0.6141 | Val precision: 0.7208 | Val recall: 0.7750 | Val f1score: 0.7441 | Val acc: 0.6667 | Val kappa: 0.4012 \n",
      "\n",
      "Epoch: 18 \n",
      "Learning rate: 3.758473409106955e-05\n",
      "Train loss: 0.5968 | Train precision: 0.7566 | Train recall: 0.7410 | Train f1score: 0.7485 | Train acc: 0.6822 | Train kappa: 0.4849 \n",
      "Val loss: 0.6108 | Val precision: 0.7034 | Val recall: 0.7709 | Val f1score: 0.7324 | Val acc: 0.6623 | Val kappa: 0.3895 \n",
      "\n",
      "Epoch: 19 \n",
      "Learning rate: 2.8188550568302163e-05\n",
      "Train loss: 0.5894 | Train precision: 0.7580 | Train recall: 0.7456 | Train f1score: 0.7517 | Train acc: 0.6822 | Train kappa: 0.4852 \n",
      "Val loss: 0.6126 | Val precision: 0.7344 | Val recall: 0.7732 | Val f1score: 0.7511 | Val acc: 0.6641 | Val kappa: 0.3993 \n",
      "\n",
      "Epoch: 20 \n",
      "Learning rate: 2.114141292622662e-05\n",
      "Train loss: 0.5882 | Train precision: 0.7660 | Train recall: 0.7517 | Train f1score: 0.7586 | Train acc: 0.6847 | Train kappa: 0.5013 \n",
      "Val loss: 0.6104 | Val precision: 0.7075 | Val recall: 0.7754 | Val f1score: 0.7357 | Val acc: 0.6658 | Val kappa: 0.3982 \n",
      "\n",
      "Epoch: 21 \n",
      "Learning rate: 1.5856059694669965e-05\n",
      "Train loss: 0.5855 | Train precision: 0.7603 | Train recall: 0.7507 | Train f1score: 0.7553 | Train acc: 0.6866 | Train kappa: 0.5034 \n",
      "Val loss: 0.6122 | Val precision: 0.7065 | Val recall: 0.7744 | Val f1score: 0.7346 | Val acc: 0.6641 | Val kappa: 0.3953 \n",
      "\n",
      "Epoch: 22 \n",
      "Learning rate: 1.1892044771002475e-05\n",
      "Train loss: 0.5916 | Train precision: 0.7669 | Train recall: 0.7501 | Train f1score: 0.7582 | Train acc: 0.6894 | Train kappa: 0.5068 \n",
      "Val loss: 0.6072 | Val precision: 0.7079 | Val recall: 0.7756 | Val f1score: 0.7368 | Val acc: 0.6684 | Val kappa: 0.4009 \n",
      "\n",
      "Epoch: 23 \n",
      "Learning rate: 8.919033578251857e-06\n",
      "Train loss: 0.5923 | Train precision: 0.7582 | Train recall: 0.7472 | Train f1score: 0.7525 | Train acc: 0.6823 | Train kappa: 0.4849 \n",
      "Val loss: 0.6112 | Val precision: 0.7191 | Val recall: 0.7735 | Val f1score: 0.7414 | Val acc: 0.6615 | Val kappa: 0.3896 \n",
      "\n",
      "Epoch: 24 \n",
      "Learning rate: 6.689275183688892e-06\n",
      "Train loss: 0.5893 | Train precision: 0.7599 | Train recall: 0.7462 | Train f1score: 0.7528 | Train acc: 0.6857 | Train kappa: 0.5033 \n",
      "Val loss: 0.6087 | Val precision: 0.7040 | Val recall: 0.7716 | Val f1score: 0.7327 | Val acc: 0.6623 | Val kappa: 0.3904 \n",
      "\n",
      "Epoch: 25 \n",
      "Learning rate: 5.016956387766669e-06\n",
      "Train loss: 0.5890 | Train precision: 0.7628 | Train recall: 0.7468 | Train f1score: 0.7546 | Train acc: 0.6921 | Train kappa: 0.5076 \n",
      "Val loss: 0.6105 | Val precision: 0.7201 | Val recall: 0.7744 | Val f1score: 0.7429 | Val acc: 0.6641 | Val kappa: 0.3932 \n",
      "\n",
      "Epoch: 26 \n",
      "Learning rate: 3.762717290825002e-06\n",
      "Train loss: 0.5889 | Train precision: 0.7647 | Train recall: 0.7523 | Train f1score: 0.7583 | Train acc: 0.6872 | Train kappa: 0.5056 \n",
      "Val loss: 0.6100 | Val precision: 0.7056 | Val recall: 0.7734 | Val f1score: 0.7342 | Val acc: 0.6641 | Val kappa: 0.3942 \n",
      "\n",
      "Epoch: 27 \n",
      "Learning rate: 2.8220379681187514e-06\n",
      "Train loss: 0.5905 | Train precision: 0.7698 | Train recall: 0.7459 | Train f1score: 0.7574 | Train acc: 0.6901 | Train kappa: 0.5154 \n",
      "Val loss: 0.6080 | Val precision: 0.7206 | Val recall: 0.7745 | Val f1score: 0.7442 | Val acc: 0.6675 | Val kappa: 0.3967 \n",
      "\n"
     ]
    }
   ],
   "source": [
    "%%time\n",
    "\n",
    "# Set the random seeds\n",
    "set_seeds(42)\n",
    "\n",
    "# Define the number of folds\n",
    "num_folds = 5\n",
    "\n",
    "# group the hashIDs to get the unique values of hashIDs remaining in the subset  \n",
    "groups = sub_hash_id[:, 0] \n",
    "print(\"ORIGINAL POSITIVE RATIO:\", sub_label_set.mean())\n",
    "# create a StratifiedGroupKFold instance\n",
    "kf = StratifiedGroupKFold(n_splits=num_folds, shuffle=True, random_state=42)\n",
    "\n",
    "# loop through the folds\n",
    "for fold, (train_ids, val_ids) in enumerate(kf.split(sub_image_set, sub_label_set, groups)):\n",
    "    print(\"Fold :\", fold)\n",
    "    print(\"TRAIN POSITIVE RATIO:\", sub_label_set[train_ids].mean())\n",
    "    print(\"VAL POSITIVE RATIO  :\", sub_label_set[val_ids].mean())\n",
    "    print(\"LENGTH TRAIN GROUPS :\", len(set(groups[train_ids])))\n",
    "    print(\"LENGTH VAL GROUPS   :\", len(set(groups[val_ids])))\n",
    "    \n",
    "    train_ids = sub_hash_id[:, 0][train_ids]\n",
    "    val_ids = np.unique(sub_hash_id[:, 0][val_ids])\n",
    "\n",
    "    torch.cuda.empty_cache()\n",
    "    \n",
    "    # Initialize a new wandb run for this fold\n",
    "    wandb.init(project='wze-uav-v2', name=f\"fold_{fold + 1}_{extra}\")\n",
    "    \n",
    "    # 1. Split data into train and validation set\n",
    "    # Get the training and testing data for this fold\n",
    "    # Use np.isin() to create boolean arrays indicating which indices belong to train or test sets\n",
    "    train_indices = np.isin(sub_hash_id[:,0], train_ids)\n",
    "    \n",
    "    val_indices = np.zeros_like(train_indices)  # initialize to all False\n",
    "    for hash_id_val in val_ids:\n",
    "        # select one image ID randomly from either 2020 or 2021 or 2022 for each unique hash ID in the test set\n",
    "        temp = np.unique(sub_hash_id[(sub_hash_id[:, 0] == hash_id_val), 1]) # check how many years are available per hashID\n",
    "        if len(temp) == 1:\n",
    "            year = temp[0]\n",
    "        elif len(temp) == 2:\n",
    "            year = np.random.choice(temp)\n",
    "        else:\n",
    "            year = np.random.choice(temp)\n",
    "        \n",
    "        # select image ID using the conditions\n",
    "        image_ids = sub_hash_id[(sub_hash_id[:,0] == hash_id_val) & (sub_hash_id[:,1] == year), 0]\n",
    "    \n",
    "        # mark the index corresponding to the selected image ID and hash ID as True in the test indices array\n",
    "        val_indices[(sub_hash_id[:,0] == hash_id_val) & (sub_hash_id[:,1] == year) & (np.isin(sub_hash_id[:,0], image_ids))] = True \n",
    "    \n",
    "    # Reshape boolean arrays to match shape of image_set and label_set\n",
    "    train_indices = train_indices.reshape(-1, 1)\n",
    "    val_indices = val_indices.reshape(-1, 1)\n",
    "    \n",
    "    # Select images and labels for train and validation sets\n",
    "    train_image_set = sub_image_set[train_indices[:, 0]]\n",
    "    train_label_set = sub_label_set[train_indices[:, 0]]\n",
    "    train_hash_id = sub_hash_id[train_indices[:, 0]][:,0]\n",
    "    train_species_set = sub_species_set[train_indices[:, 0]]\n",
    "    val_image_set = sub_image_set[val_indices[:, 0]]\n",
    "    val_label_set = sub_label_set[val_indices[:, 0]]\n",
    "    val_hash_id = sub_hash_id[val_indices[:, 0]][:,0]\n",
    "    val_species_set = sub_species_set[val_indices[:, 0]]\n",
    "    # reshape \n",
    "    train_label_set = train_label_set.reshape(-1, 1)\n",
    "    val_label_set = val_label_set.reshape(-1, 1)\n",
    "    train_species_set = train_species_set.reshape(-1, 1)\n",
    "    val_species_set = val_species_set.reshape(-1, 1)\n",
    "    \n",
    "    # check if there are any group overlaps between the data splits\n",
    "    hash_set = set(train_hash_id)\n",
    "    val_hash_set = set(val_hash_id)\n",
    "    test_hash_set = set(test_hash_id[:, 0].flatten())\n",
    "    intersection = hash_set.intersection(val_hash_set)\n",
    "    intersection2 = test_hash_set.intersection(val_hash_set)\n",
    "    intersection3 = hash_set.intersection(test_hash_set)\n",
    "    if intersection:\n",
    "        print(f\"Hash_id values in both train and val sets: {len(intersection)}\")\n",
    "        print(f\"Hash_id values in both test and val sets: {len(intersection2)}\")\n",
    "        print(f\"Hash_id values in both train and test sets: {len(intersection3)}\")\n",
    "    else:\n",
    "        print(\"There are no same hash_id values in train, val or test datasets. The datasplit was successful\")\n",
    "    \n",
    "         \n",
    "    print(\"Check shapes:\\n\")\n",
    "    print(f\"Images train dataset: {train_image_set.shape}\")\n",
    "    print(f\"Labels train dataset: {train_label_set.shape}\\n\")\n",
    "    \n",
    "    print(f\"Images validation dataset: {val_image_set.shape}\")\n",
    "    print(f\"Labels validation dataset: {val_label_set.shape}\\n\")\n",
    "    print('-'*50)\n",
    "    print (f\"Check if the split was stratified: (random_state=42)\")\n",
    "    print(f\"Healthy trees in train dataset: {np.count_nonzero(train_label_set == 0)}\")\n",
    "    print(f\"Stressed trees in train dataset: {np.count_nonzero(train_label_set == 1)}\")\n",
    "    print(f\"Dead trees in train dataset: {np.count_nonzero(train_label_set == 2)}\")\n",
    "    print(f\"Healthy trees in validation dataset: {np.count_nonzero(val_label_set == 0)}\")\n",
    "    print(f\"Stressed trees in validation dataset: {np.count_nonzero(val_label_set == 1)}\")\n",
    "    print(f\"Dead trees in validation dataset: {np.count_nonzero(val_label_set == 2)}\")\n",
    "    print(f\"Ratio health trees in validation dataset: {np.count_nonzero(val_label_set == 0)/np.count_nonzero(sub_label_set == 0)}\")\n",
    "    print(f\"Ratio stressed trees in validation dataset: {np.count_nonzero(val_label_set == 1)/np.count_nonzero(sub_label_set == 1)}\")\n",
    "    print(f\"Ratio dead trees in validation dataset: {np.count_nonzero(val_label_set == 2)/np.count_nonzero(sub_label_set == 2)}\")\n",
    "    print(\"-\"*50)\n",
    "   \n",
    "    # 2. Create train and validation dataset. (choose custom dataset loader with 3 - 5 classes)\n",
    "    print(f\"\\nCreating datasets for fold: {fold + 1}\\n\")\n",
    "    train_dataset = data_loader.CustomDataset(data=train_image_set, labels=train_label_set, class_names=class_names, species = train_species_set,\n",
    "                                                         transform=transform_train)\n",
    "    \n",
    "    val_dataset = data_loader.CustomDataset(data=val_image_set, labels=val_label_set, class_names=class_names,\n",
    "                                                       species = val_species_set, transform=transform)\n",
    "   \n",
    "    # 3. Create train and validation dataloader\n",
    "    # create sampler for oversampling of the minority classes\n",
    "    sampler = data_loader.data_sampler(dataset=train_dataset, class_names=class_names)\n",
    "    print(f\"Creating dataloaders for fold: {fold +1}\\n\")\n",
    "    train_dataloader = DataLoader(train_dataset, batch_size=batch_size, persistent_workers=True, pin_memory=True, num_workers=NUM_WORKERS, generator=g,\n",
    "                              sampler=sampler, shuffle=False, drop_last=True) # shuffle false because of the sampler\n",
    "\n",
    "    val_dataloader = DataLoader(val_dataset, batch_size=batch_size, persistent_workers=True, pin_memory=True, num_workers=NUM_WORKERS, shuffle=False,\n",
    "                             drop_last=True)\n",
    "    \n",
    "    #model = model_effnet.EfficientNet.from_pretrained('efficientnet-b7', in_channels=n_bands, num_classes=num_classes, dropout_rate=dropout_rate)\n",
    "    model = models.create_effnetb7(output_shape=num_classes, unfreeze=True, dropout_rate=dropout_rate, device=device)\n",
    "    loss_fn = nn.CrossEntropyLoss()\n",
    "    optimizer = torch.optim.Adam(params=model.parameters(), lr=lr)\n",
    "    lr_scheduler = CustomExponentialLR(optimizer, gamma=gamma, min_lr=min_lr)\n",
    "\n",
    "    fold += 1\n",
    "    print(f\"\\n[INFO] Fold number: {fold}\")\n",
    "    print(f\"[INFO] Number of epochs: {epochs}\")\n",
    "    print(f\"[INFO] Batch_size: {batch_size}\")\n",
    "    print(f\"[INFO] Number of bands: {n_bands}\")\n",
    "    print(f\"[INFO] Dropout rate: {dropout_rate}\")\n",
    "    print(f\"[INFO] Gamma learning rate: {gamma}\")\n",
    "    print(f\"[INFO] Memory allocated: {torch.cuda.memory_allocated()} bytes\")\n",
    "    # 4. Train model with k fold dataloaders and track experiments\n",
    "    \n",
    "    if fold == 1:\n",
    "        fold1_results = train(model=model, model_name=model_name, n_bands=n_bands, batch_size=batch_size,train_dataloader=train_dataloader, val_dataloader=val_dataloader, \n",
    "                        optimizer=optimizer, loss_fn=loss_fn, lr_scheduler=lr_scheduler, num_classes=num_classes, epochs=epochs, experiment_num=fold, device=device,\n",
    "                        writer=None, early_stop_patience = patience)\n",
    "       \n",
    "    elif fold == 2:\n",
    "        fold2_results = train(model=model, model_name=model_name, n_bands=n_bands, batch_size=batch_size,train_dataloader=train_dataloader, val_dataloader=val_dataloader, \n",
    "                        optimizer=optimizer, loss_fn=loss_fn, lr_scheduler=lr_scheduler, num_classes=num_classes, epochs=epochs, experiment_num=fold, device=device,\n",
    "                        writer=None, early_stop_patience = patience)\n",
    "    elif fold == 3:\n",
    "        fold3_results = train(model=model, model_name=model_name, n_bands=n_bands, batch_size=batch_size,train_dataloader=train_dataloader, val_dataloader=val_dataloader, \n",
    "                        optimizer=optimizer, loss_fn=loss_fn, lr_scheduler=lr_scheduler, num_classes=num_classes, epochs=epochs, experiment_num=fold, device=device,\n",
    "                        writer=None, early_stop_patience = patience)\n",
    "    elif fold == 4:\n",
    "        fold4_results = train(model=model, model_name=model_name, n_bands=n_bands, batch_size=batch_size,train_dataloader=train_dataloader, val_dataloader=val_dataloader, \n",
    "                        optimizer=optimizer, loss_fn=loss_fn, lr_scheduler=lr_scheduler, num_classes=num_classes, epochs=epochs, experiment_num=fold, device=device,\n",
    "                        writer=None, early_stop_patience = patience)\n",
    "    else:\n",
    "        fold5_results = train(model=model, model_name=model_name, n_bands=n_bands, batch_size=batch_size,train_dataloader=train_dataloader, val_dataloader=val_dataloader, \n",
    "                        optimizer=optimizer, loss_fn=loss_fn, lr_scheduler=lr_scheduler, num_classes=num_classes, epochs=epochs, experiment_num=fold, device=device,\n",
    "                        writer=None, early_stop_patience = patience)\n",
    "    \n",
    "    del train_indices, val_indices, train_image_set, train_label_set, train_hash_id, train_species_set, val_image_set, val_label_set, val_hash_id, val_species_set,\n",
    "    train_dataset, val_dataset, sampler, train_dataloader, val_dataloader, model, loss_fn, optimizer, lr_scheduler\n",
    "    \n",
    "    #finish the wandb run\n",
    "    wandb.finish()\n",
    "    print(\"Deleting variables and emptying cache\")\n",
    "    gc.collect()\n",
    "    torch.cuda.empty_cache()\n",
    "    print(f\"Memory allocated: {torch.cuda.memory_allocated()} bytes\")\n",
    "    print(\"-\"*50 + \"\\n\")"
   ]
  },
  {
   "cell_type": "markdown",
   "id": "d7402d31",
   "metadata": {},
   "source": [
    "#### Create test dataset and test dataloader "
   ]
  },
  {
   "cell_type": "code",
   "execution_count": null,
   "id": "c0c36ebb",
   "metadata": {},
   "outputs": [],
   "source": [
    "# create test dataset\n",
    "test_dataset = data_loader.CustomTestDataset(\n",
    "    data = test_image_set,\n",
    "    labels = test_label_set,\n",
    "    class_names=class_names, \n",
    "    species = test_species_set,\n",
    "    kkl = None,\n",
    "    transform=transform\n",
    ")\n",
    "\n",
    "# create test dataloader\n",
    "test_dataloader = DataLoader(test_dataset,\n",
    "                             batch_size=batch_size,\n",
    "                             persistent_workers=True,\n",
    "                             pin_memory=True,\n",
    "                             num_workers=NUM_WORKERS,\n",
    "                             shuffle=False,\n",
    "                             drop_last=True)"
   ]
  },
  {
   "cell_type": "markdown",
   "id": "22cdaac7",
   "metadata": {},
   "source": [
    "#### Perform ensembling of the five best models"
   ]
  },
  {
   "cell_type": "code",
   "execution_count": null,
   "id": "67db5af2",
   "metadata": {},
   "outputs": [],
   "source": [
    "# Setup the best model filepaths\n",
    "best_model1_path = r\"C:\\Users\\lwfeckesim\\01_PyTorch\\wze-uav\\wze-uav-master\\effnet_b0\\01_18_epochs.pth\"\n",
    "best_model2_path = r\"C:\\Users\\lwfeckesim\\01_PyTorch\\wze-uav\\wze-uav-master\\effnet_b0\\01_18_epochs.pth\"\n",
    "best_model3_path = r\"C:\\Users\\lwfeckesim\\01_PyTorch\\wze-uav\\wze-uav-master\\effnet_b0\\01_18_epochs.pth\"\n",
    "best_model4_path = r\"C:\\Users\\lwfeckesim\\01_PyTorch\\wze-uav\\wze-uav-master\\effnet_b0\\01_18_epochs.pth\"\n",
    "best_model5_path = r\"C:\\Users\\lwfeckesim\\01_PyTorch\\wze-uav\\wze-uav-master\\effnet_b0\\01_18_epochs.pth\"\n",
    "\n",
    "# Instantiate a new instance of EffNetB7 (to load the saved state_dict() to)\n",
    "model1 = models.create_effnetb7(output_shape=num_classes, unfreeze=unfreeze, dropout_rate=dropout_rate, device=device)\n",
    "model2 = models.create_effnetb7(output_shape=num_classes, unfreeze=unfreeze, dropout_rate=dropout_rate, device=device)\n",
    "model3 = models.create_effnetb7(output_shape=num_classes, unfreeze=unfreeze, dropout_rate=dropout_rate, device=device)\n",
    "model4 = models.create_effnetb7(output_shape=num_classes, unfreeze=unfreeze, dropout_rate=dropout_rate, device=device)\n",
    "model5 = models.create_effnetb7(output_shape=num_classes, unfreeze=unfreeze, dropout_rate=dropout_rate, device=device)\n",
    "# for custom models with more than three bands as input\n",
    "#model1 = model_effnet.EfficientNet.from_pretrained('efficientnet-b7', in_channels=n_bands, num_classes=num_classes, dropout_rate=dropout_rate)\n",
    "#model2 = model_effnet.EfficientNet.from_pretrained('efficientnet-b7', in_channels=n_bands, num_classes=num_classes, dropout_rate=dropout_rate)\n",
    "#model3 = model_effnet.EfficientNet.from_pretrained('efficientnet-b7', in_channels=n_bands, num_classes=num_classes, dropout_rate=dropout_rate)\n",
    "#model4 = model_effnet.EfficientNet.from_pretrained('efficientnet-b7', in_channels=n_bands, num_classes=num_classes, dropout_rate=dropout_rate)\n",
    "#model5 = model_effnet.EfficientNet.from_pretrained('efficientnet-b7', in_channels=n_bands, num_classes=num_classes, dropout_rate=dropout_rate)\n",
    "\n",
    "# Load the saved best model state_dict()\n",
    "model1.load_state_dict(torch.load(best_model1_path))\n",
    "model2.load_state_dict(torch.load(best_model2_path))\n",
    "model3.load_state_dict(torch.load(best_model3_path))\n",
    "model4.load_state_dict(torch.load(best_model4_path))\n",
    "model5.load_state_dict(torch.load(best_model5_path))\n",
    "\n",
    "model1.eval()\n",
    "model2.eval()\n",
    "model3.eval()\n",
    "model4.eval()\n",
    "model5.eval()\n",
    "\n",
    "# Initialize the lists to store the predictions\n",
    "all_preds_model1 = []\n",
    "all_preds_model2 = []\n",
    "all_preds_model3 = []\n",
    "all_preds_model4 = []\n",
    "all_preds_model5 = []\n",
    "\n",
    "# Loop through the test dataset and generate predictions for each model\n",
    "with torch.no_grad():\n",
    "    for batch in test_dataloader:\n",
    "        inputs, labels = batch\n",
    "        inputs, labels = inputs.to(device), labels.to(device)\n",
    "        \n",
    "        # Generate predictions for each model\n",
    "        preds_model1 = model1(inputs)\n",
    "        preds_model2 = model2(inputs)\n",
    "        preds_model3 = model3(inputs)\n",
    "        preds_model4 = model4(inputs)\n",
    "        preds_model5 = model5(inputs)\n",
    "\n",
    "        # Append the predictions to the corresponding list\n",
    "        all_preds_model1.append(preds_model1.cpu().numpy())\n",
    "        all_preds_model2.append(preds_model2.cpu().numpy())\n",
    "        all_preds_model3.append(preds_model3.cpu().numpy())\n",
    "        all_preds_model4.append(preds_model4.cpu().numpy())\n",
    "        all_preds_model5.append(preds_model5.cpu().numpy())\n",
    "\n",
    "# Concatenate the predictions from all the models\n",
    "all_preds_model1 = np.concatenate(all_preds_model1)\n",
    "all_preds_model2 = np.concatenate(all_preds_model2)\n",
    "all_preds_model3 = np.concatenate(all_preds_model3)\n",
    "all_preds_model4 = np.concatenate(all_preds_model4)\n",
    "all_preds_model5 = np.concatenate(all_preds_model5)\n",
    "\n",
    "# Calculate the ensemble predictions\n",
    "ensemble_preds = np.mean([all_preds_model1, all_preds_model2, all_preds_model3, all_preds_model4, all_preds_model5], axis=0)\n",
    "ensemble_labels = np.argmax(ensemble_preds, axis=1)\n",
    "\n",
    "# Calculate the evaluation metrics for the ensemble model\n",
    "from sklearn.metrics import classification_report, confusion_matrix\n",
    "\n",
    "print(classification_report(test_labels, ensemble_labels))\n",
    "print(confusion_matrix(test_labels, ensemble_labels))\n",
    "\n",
    "\n",
    "\n",
    "\n"
   ]
  },
  {
   "cell_type": "code",
   "execution_count": null,
   "id": "6dfbc663",
   "metadata": {},
   "outputs": [],
   "source": [
    "def make_predictions(model: torch.nn.Module, \n",
    "                     test_dataloader: torch.utils.data.DataLoader,\n",
    "                     device: torch.device):\n",
    "    # 1. Make predictions with trained model\n",
    "    y_preds = []\n",
    "    y_labels = []\n",
    "    species_list = []\n",
    "    test_loss, test_precision, test_recall, test_f1_score, test_acc = 0, 0, 0, 0, 0\n",
    "    count = 0\n",
    "    model.eval()\n",
    "    with torch.inference_mode():\n",
    "        for X, y, species in tqdm(test_dataloader, desc=\"Making predictions\"):\n",
    "            # Send data and targets to target device\n",
    "            X, y = X.to(device), y.to(device)\n",
    "            # Do the forward pass\n",
    "            y_logit = model(X)\n",
    "            # Turn predictions from logits -> prediction probabilities -> predictions labels\n",
    "            y_pred = torch.softmax(y_logit, dim=1).argmax(dim=1)\n",
    "            # Put predictions on CPU for evaluation\n",
    "            y_preds.append(y_pred.cpu())\n",
    "            y_labels.append(y.cpu())\n",
    "            species_list.append(species)\n",
    "            \n",
    "            #other metrics\n",
    "            test_acc += ((y_pred == y).sum().item()/len(y_pred))\n",
    "            y_pred_class = y_pred.detach().cpu().numpy() \n",
    "            y_class = y.detach().cpu().numpy()\n",
    "            labels = np.array([0])\n",
    "            test_precision += precision_score(y_class, y_pred_class, average='macro', zero_division=0, labels=[0,1,2])\n",
    "            test_recall += recall_score(y_class, y_pred_class, average='macro', zero_division=0, labels=[0,1,2])\n",
    "            #test_f1_score += f1_score(y_class, y_pred_class, average='macro', zero_division=1, labels=labels)\n",
    "            \n",
    "            #if count >= 1:\n",
    "            #    y_set = torch.cat((y_set, y))\n",
    "            #    count = count + 1\n",
    "            #else:\n",
    "            #    y_set = y\n",
    "            #    count = count + 1\n",
    "            \n",
    "    test_loss = test_loss / len(test_dataloader)\n",
    "    test_precision = test_precision / len(test_dataloader)\n",
    "    test_recall = test_recall / len(test_dataloader)\n",
    "    test_f1_score = test_f1_score / len(test_dataloader)\n",
    "    #test_kappa = test_kappa / len(dataloader)\n",
    "    test_acc = test_acc / len(test_dataloader)\n",
    "    # Concatenate list of predictions into a tensor\n",
    "    y_pred_tensor = torch.cat(y_preds)\n",
    "    y_labels_tensor = torch.cat(y_labels)\n",
    "    test_f1_score = f1_score(y_labels_tensor.detach().cpu().numpy(), y_pred_tensor.cpu().numpy(), average='macro', zero_division=1, labels=[0,1,2])\n",
    "    \n",
    "    # Print classification report\n",
    "    y_true = y_labels_tensor.detach().cpu().numpy()\n",
    "    report = classification_report(y_true, y_pred_tensor.cpu().numpy(), target_names=class_names)\n",
    "    print(report)\n",
    "    \n",
    "    return y_pred_tensor, y_labels_tensor, test_loss, test_recall, test_precision, test_f1_score, test_acc, y_logit, y_pred, y, y_preds"
   ]
  },
  {
   "cell_type": "code",
   "execution_count": null,
   "id": "aab9e321",
   "metadata": {},
   "outputs": [],
   "source": [
    "# 2. Setup confusion matrix instance and compare predictions to targets\n",
    "#from wze_uav.analysis import *\n",
    "y_pred_tensor, y_labels_tensor, test_loss, test_recall, test_precision, test_f1_score, test_acc, y_logit, y_pred, y, y_preds = make_predictions(model=best_model,\n",
    "                                 test_dataloader=test_dataloader, \n",
    "                                 device=device)\n",
    "\n",
    "y_labels_tensor = y_labels_tensor.detach().cpu().numpy()\n",
    "y_pred_tensor = y_pred_tensor.detach().cpu().numpy()\n",
    "\n",
    "#confmat = ConfusionMatrix(num_classes=num_classes, task='multiclass')\n",
    "#confmat_tensor = confmat(preds=y_pred_tensor,\n",
    "#                         target=test_labels)\n",
    "labels = np.array([0,1,2])\n",
    "confmat = confusion_matrix(y_labels_tensor, y_pred_tensor, labels=labels)\n",
    "\n",
    "# 3. Plot the confusion matrix\n",
    "fig, ax = plot_confusion_matrix(\n",
    "    conf_mat=confmat, # matplotlib likes working with NumPy \n",
    "    class_names=class_names, # turn the row and column labels into class names\n",
    "    figsize=(10, 7)\n",
    ");\n",
    "\n",
    "print(f\"Test loss: {test_loss}\")\n",
    "print(f\"Test precision: {test_precision}\")\n",
    "print(f\"Test recall: {test_recall}\")\n",
    "print(f\"Test F1score: {test_f1_score}\")\n",
    "#print(f\"Test Kappa: {test_kappa}\")\n",
    "print(f\"Test Accuracy: {test_acc}\")\n",
    "print(f\"Test Logits: {y_logit}\")\n",
    "print(f\"Test Predictions: {y_pred}\")\n",
    "print(f\"Test Labels: {y}\")"
   ]
  },
  {
   "cell_type": "code",
   "execution_count": null,
   "id": "8d4173b3",
   "metadata": {},
   "outputs": [],
   "source": [
    "len(y_preds)"
   ]
  },
  {
   "cell_type": "code",
   "execution_count": null,
   "id": "7588116f",
   "metadata": {},
   "outputs": [],
   "source": [
    "y_set.cpu()"
   ]
  },
  {
   "cell_type": "code",
   "execution_count": null,
   "id": "1c195b3e",
   "metadata": {},
   "outputs": [],
   "source": [
    "test_dataset.labels"
   ]
  },
  {
   "cell_type": "code",
   "execution_count": null,
   "id": "975ec08c",
   "metadata": {},
   "outputs": [],
   "source": []
  },
  {
   "cell_type": "code",
   "execution_count": null,
   "id": "6da05604",
   "metadata": {},
   "outputs": [],
   "source": [
    "y_preds = []\n",
    "y_labels = []\n",
    "labels = np.array([0,1,2])\n",
    "test_loss, test_precision, test_recall, test_f1_score, test_acc = 0, 0, 0, 0, 0\n",
    "count = 0\n",
    "model.eval()\n",
    "with torch.inference_mode():\n",
    "    for X, y in tqdm(test_dataloader, desc=\"Making predictions\"):\n",
    "        # Send data and targets to target device\n",
    "        X, y = X.to(device), y.to(device)\n",
    "        # Do the forward pass\n",
    "        y_logit = model(X)\n",
    "        # Turn predictions from logits -> prediction probabilities -> predictions labels\n",
    "        y_pred = torch.softmax(y_logit, dim=1).argmax(dim=1)\n",
    "        # Put predictions on CPU for evaluation\n",
    "        y_preds.append(y_pred.cpu())\n",
    "        y_labels.append(y.cpu())\n",
    "        \n",
    "        #other metrics\n",
    "        test_acc += ((y_pred == y).sum().item()/len(y_pred))\n",
    "        y_pred_class = y_pred.detach().cpu().numpy() \n",
    "        y_class = y.detach().cpu().numpy()\n",
    "        test_precision += precision_score(y_class, y_pred_class, average='macro', zero_division=1, labels=labels)\n",
    "        test_recall += recall_score(y_class, y_pred_class, average='macro', zero_division=1, labels=labels)\n",
    "        #test_f1_score += f1_score(y_class, y_pred_class, average='macro', zero_division=1, labels=labels)\n",
    "        \n",
    "        #if count >= 1:\n",
    "        #    y_set = torch.cat((y_set, y))\n",
    "        #    count = count + 1\n",
    "        #else:\n",
    "        #    y_set = y\n",
    "        #    count = count + 1\n",
    "        \n",
    "test_loss = test_loss / len(test_dataloader)\n",
    "test_precision = test_precision / len(test_dataloader)\n",
    "test_recall = test_recall / len(test_dataloader)\n",
    "#test_f1_score = test_f1_score / len(test_dataloader)\n",
    "#test_kappa = test_kappa / len(dataloader)\n",
    "test_acc = test_acc / len(test_dataloader)\n",
    "# Concatenate list of predictions into a tensor\n",
    "y_pred_tensor = torch.cat(y_preds)\n",
    "test_f1_score = f1_score(y_set.detach().cpu().numpy(), y_pred_tensor.cpu().numpy(), average='macro', zero_division=0, labels=[0,1,2])\n",
    "\n",
    "# Print classification report\n",
    "y_true = y_set.detach().cpu().numpy()\n",
    "report = classification_report(y_true, y_pred_tensor.cpu().numpy(), target_names=class_names)\n",
    "print(report)"
   ]
  },
  {
   "cell_type": "code",
   "execution_count": null,
   "id": "6ae97fab",
   "metadata": {},
   "outputs": [],
   "source": [
    "test_f1_score"
   ]
  },
  {
   "cell_type": "code",
   "execution_count": null,
   "id": "7ebafd9b",
   "metadata": {},
   "outputs": [],
   "source": [
    "make = (y_class == y_pred_class)\n",
    "make"
   ]
  },
  {
   "cell_type": "code",
   "execution_count": null,
   "id": "4f8aa759",
   "metadata": {},
   "outputs": [],
   "source": [
    "torch.softmax(y_logit, dim=1).argmax(dim=1)"
   ]
  },
  {
   "cell_type": "code",
   "execution_count": null,
   "id": "f90a54b2",
   "metadata": {},
   "outputs": [],
   "source": [
    "y"
   ]
  },
  {
   "cell_type": "code",
   "execution_count": null,
   "id": "5a806154",
   "metadata": {},
   "outputs": [],
   "source": [
    "test = (y_pred == y).sum().item()/16"
   ]
  },
  {
   "cell_type": "code",
   "execution_count": null,
   "id": "1da35c56",
   "metadata": {},
   "outputs": [],
   "source": [
    "test"
   ]
  },
  {
   "cell_type": "code",
   "execution_count": null,
   "id": "b1eb246e",
   "metadata": {},
   "outputs": [],
   "source": [
    " y_pred_class = y_pred.detach().cpu().numpy() "
   ]
  },
  {
   "cell_type": "code",
   "execution_count": null,
   "id": "602e096f",
   "metadata": {},
   "outputs": [],
   "source": [
    "y_pred_class"
   ]
  },
  {
   "cell_type": "code",
   "execution_count": null,
   "id": "eaf1af09",
   "metadata": {},
   "outputs": [],
   "source": []
  }
 ],
 "metadata": {
  "kernelspec": {
   "display_name": "Python 3 (ipykernel)",
   "language": "python",
   "name": "python3"
  },
  "language_info": {
   "codemirror_mode": {
    "name": "ipython",
    "version": 3
   },
   "file_extension": ".py",
   "mimetype": "text/x-python",
   "name": "python",
   "nbconvert_exporter": "python",
   "pygments_lexer": "ipython3",
   "version": "3.9.16"
  }
 },
 "nbformat": 4,
 "nbformat_minor": 5
}
