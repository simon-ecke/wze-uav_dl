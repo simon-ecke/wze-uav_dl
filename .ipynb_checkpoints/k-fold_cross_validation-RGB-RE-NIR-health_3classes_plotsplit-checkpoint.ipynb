{
 "cells": [
  {
   "cell_type": "markdown",
   "id": "c1acdaa3",
   "metadata": {},
   "source": [
    "# WZE-UAV Image Classification using Deep Learning"
   ]
  },
  {
   "cell_type": "code",
   "execution_count": 1,
   "id": "2159aac5",
   "metadata": {},
   "outputs": [],
   "source": [
    "import os\n",
    "import gc\n",
    "import glob\n",
    "import numpy as np\n",
    "from pathlib import Path\n",
    "from tqdm.auto import tqdm\n",
    "from sklearn.metrics import confusion_matrix, classification_report\n",
    "from sklearn.model_selection import KFold"
   ]
  },
  {
   "cell_type": "code",
   "execution_count": 2,
   "id": "0026f7a9",
   "metadata": {},
   "outputs": [],
   "source": [
    "import torch\n",
    "import torchvision.transforms as T\n",
    "import torchvision\n",
    "from torch import nn\n",
    "from torch.utils.data import DataLoader\n",
    "from torchvision import datasets, transforms\n",
    "from torch.utils.data import Dataset\n",
    "import torch.optim as optim\n",
    "from torch.optim.lr_scheduler import ExponentialLR\n",
    "from mlxtend.plotting import plot_confusion_matrix"
   ]
  },
  {
   "cell_type": "code",
   "execution_count": 3,
   "id": "b160d7b4",
   "metadata": {},
   "outputs": [],
   "source": [
    "import wze_uav.data_loader as data_loader\n",
    "import wze_uav.models as models\n",
    "from wze_uav.engine import *\n",
    "from wze_uav.utils2 import *\n",
    "#from wze_uav.log_writer import create_writer\n",
    "from wze_uav.datasplit import *\n",
    "from efficientnet import model_effnet #for custom effnet with n_channels input\n",
    "import wandb"
   ]
  },
  {
   "cell_type": "markdown",
   "id": "2bd4fb2f",
   "metadata": {},
   "source": [
    "#### Get PyTorch version"
   ]
  },
  {
   "cell_type": "code",
   "execution_count": 4,
   "id": "c10886b1",
   "metadata": {},
   "outputs": [
    {
     "name": "stdout",
     "output_type": "stream",
     "text": [
      "torch version: 1.13.1+cu116\n",
      "torchvision version: 0.14.1+cu116\n"
     ]
    }
   ],
   "source": [
    "print(f\"torch version: {torch.__version__}\")\n",
    "print(f\"torchvision version: {torchvision.__version__}\")"
   ]
  },
  {
   "cell_type": "markdown",
   "id": "aa6a83cf",
   "metadata": {},
   "source": [
    "#### Preparing device agnostic code "
   ]
  },
  {
   "cell_type": "code",
   "execution_count": 5,
   "id": "13d5de88",
   "metadata": {},
   "outputs": [
    {
     "name": "stdout",
     "output_type": "stream",
     "text": [
      "cuda\n",
      "Index of current divice: 0\n",
      "Number of GPUs available: 1\n",
      "GPU Model: Quadro RTX 8000\n"
     ]
    }
   ],
   "source": [
    "# ensure device agnostic code\n",
    "device = 'cuda' if torch.cuda.is_available() else 'cpu'\n",
    "print(device)\n",
    "\n",
    "# get index of currently selected device\n",
    "print(f\"Index of current divice: {torch.cuda.current_device()}\")\n",
    "# get number of GPUs available\n",
    "print(f\"Number of GPUs available: {torch.cuda.device_count()}\")\n",
    "# get the name of the device\n",
    "print(f\"GPU Model: {torch.cuda.get_device_name(0)}\")"
   ]
  },
  {
   "cell_type": "markdown",
   "id": "8ef6b169",
   "metadata": {},
   "source": [
    "#### Login to Weights & Biases to track results"
   ]
  },
  {
   "cell_type": "code",
   "execution_count": 6,
   "id": "a59d27cf",
   "metadata": {},
   "outputs": [
    {
     "name": "stderr",
     "output_type": "stream",
     "text": [
      "Failed to detect the name of this notebook, you can set it manually with the WANDB_NOTEBOOK_NAME environment variable to enable code saving.\n",
      "\u001b[34m\u001b[1mwandb\u001b[0m: Currently logged in as: \u001b[33msimon-ecke\u001b[0m. Use \u001b[1m`wandb login --relogin`\u001b[0m to force relogin\n"
     ]
    },
    {
     "data": {
      "text/html": [
       "wandb version 0.15.3 is available!  To upgrade, please run:\n",
       " $ pip install wandb --upgrade"
      ],
      "text/plain": [
       "<IPython.core.display.HTML object>"
      ]
     },
     "metadata": {},
     "output_type": "display_data"
    },
    {
     "data": {
      "text/html": [
       "Tracking run with wandb version 0.14.2"
      ],
      "text/plain": [
       "<IPython.core.display.HTML object>"
      ]
     },
     "metadata": {},
     "output_type": "display_data"
    },
    {
     "data": {
      "text/html": [
       "Run data is saved locally in <code>C:\\Users\\lwfeckesim\\01_PyTorch\\wze-uav\\wze-uav-master\\wandb\\run-20230524_233905-oo5g7i55</code>"
      ],
      "text/plain": [
       "<IPython.core.display.HTML object>"
      ]
     },
     "metadata": {},
     "output_type": "display_data"
    },
    {
     "data": {
      "text/html": [
       "Syncing run <strong><a href='https://wandb.ai/simon-ecke/wze-uav-health-3classes/runs/oo5g7i55' target=\"_blank\">ruby-planet-7</a></strong> to <a href='https://wandb.ai/simon-ecke/wze-uav-health-3classes' target=\"_blank\">Weights & Biases</a> (<a href='https://wandb.me/run' target=\"_blank\">docs</a>)<br/>"
      ],
      "text/plain": [
       "<IPython.core.display.HTML object>"
      ]
     },
     "metadata": {},
     "output_type": "display_data"
    },
    {
     "data": {
      "text/html": [
       " View project at <a href='https://wandb.ai/simon-ecke/wze-uav-health-3classes' target=\"_blank\">https://wandb.ai/simon-ecke/wze-uav-health-3classes</a>"
      ],
      "text/plain": [
       "<IPython.core.display.HTML object>"
      ]
     },
     "metadata": {},
     "output_type": "display_data"
    },
    {
     "data": {
      "text/html": [
       " View run at <a href='https://wandb.ai/simon-ecke/wze-uav-health-3classes/runs/oo5g7i55' target=\"_blank\">https://wandb.ai/simon-ecke/wze-uav-health-3classes/runs/oo5g7i55</a>"
      ],
      "text/plain": [
       "<IPython.core.display.HTML object>"
      ]
     },
     "metadata": {},
     "output_type": "display_data"
    },
    {
     "data": {
      "text/html": [
       "<button onClick=\"this.nextSibling.style.display='block';this.style.display='none';\">Display W&B run</button><iframe src='https://wandb.ai/simon-ecke/wze-uav-health-3classes/runs/oo5g7i55?jupyter=true' style='border:none;width:100%;height:420px;display:none;'></iframe>"
      ],
      "text/plain": [
       "<wandb.sdk.wandb_run.Run at 0x1e58e24b760>"
      ]
     },
     "execution_count": 6,
     "metadata": {},
     "output_type": "execute_result"
    }
   ],
   "source": [
    "# IMPORTANT: The proxy needs to be set in anaconda!\n",
    "# copy paste this in anaconda and restart jupyter notebook\n",
    "#set http_proxy=http://www-proxy.bayern.de:80\n",
    "#set https_proxy=http://www-proxy.bayern.de:80\n",
    "wandb.login()\n",
    "#wandb.init(settings=wandb.Settings(start_method=\"thread\"))\n",
    "wandb.init(project='wze-uav-health-3classes', entity='simon-ecke')"
   ]
  },
  {
   "cell_type": "markdown",
   "id": "a26a6a34",
   "metadata": {},
   "source": [
    "#### Ensure reproducibility "
   ]
  },
  {
   "cell_type": "code",
   "execution_count": 7,
   "id": "dd4656a7",
   "metadata": {},
   "outputs": [],
   "source": [
    "# for more information, see also: https://pytorch.org/docs/stable/notes/randomness.html\n",
    "\n",
    "# Set seeds\n",
    "def set_seeds(seed: int=42):\n",
    "    \"\"\"Sets random sets for torch operations.\n",
    "\n",
    "    Args:\n",
    "        seed (int, optional): Random seed to set. Defaults to 42.\n",
    "    \"\"\"\n",
    "    # Set the seed for general torch operations\n",
    "    torch.manual_seed(seed)\n",
    "    # Set the seed for CUDA torch operations (ones that happen on the GPU)\n",
    "    torch.cuda.manual_seed(seed)\n",
    "    # seed for numpy\n",
    "    np.random.seed(seed)\n",
    "\n",
    "set_seeds(42) \n",
    "\n",
    "# Set to true -> might speed up the process but should be set to False if reproducible results are desired\n",
    "torch.backends.cudnn.benchmark = False\n"
   ]
  },
  {
   "cell_type": "markdown",
   "id": "8be33671",
   "metadata": {},
   "source": [
    "#### Define file directory"
   ]
  },
  {
   "cell_type": "code",
   "execution_count": 8,
   "id": "30645f36",
   "metadata": {},
   "outputs": [],
   "source": [
    "#####################################################################################\n",
    "# 3 channel input (r-g-b)\n",
    "#data_path = r\"D:\\Drohnendaten\\10_WZE-UAV\\Auswertung_findatree\\Datasplit\\ROI\\rgb\"\n",
    "\n",
    "# 4 channel input (r-g-b-nir)\n",
    "data_path = r\"D:\\Drohnendaten\\10_WZE-UAV\\Auswertung_findatree\\Datasplit\\ROI\\rgb-nir\"\n",
    "\n",
    "# 5 channel input (r-g-b-re-nir)\n",
    "#'data_path = r\"D:\\Drohnendaten\\10_WZE-UAV\\Auswertung_findatree\\Datasplit\\ROI\\rgb-re-nir\"\n",
    "\n",
    "# 6 channel input (r-g-b-re-nir)\n",
    "#data_path = r\"D:\\Drohnendaten\\10_WZE-UAV\\Auswertung_findatree\\Datasplit\\ROI\\rgb-re-nir-chm\"\n",
    "\n",
    "#####################################################################################"
   ]
  },
  {
   "cell_type": "markdown",
   "id": "4560ce64",
   "metadata": {},
   "source": [
    "#### Get all file paths, years and plotIDs"
   ]
  },
  {
   "cell_type": "code",
   "execution_count": 9,
   "id": "aa072e4c",
   "metadata": {},
   "outputs": [],
   "source": [
    "fn_list = os.listdir(data_path)\n",
    "path_list = []\n",
    "#year_list = []\n",
    "#plotID_list = []\n",
    "# Iterate over all datafiles\n",
    "for year in fn_list:\n",
    "    year_dir = f'{data_path}\\\\{year}'\n",
    "    for filename in os.listdir(year_dir):\n",
    "        path = f'{year_dir}\\\\{filename}'\n",
    "        #plotID = path.rsplit('_',1)[0].rsplit('r',1)[1]\n",
    "        path_list.append(path)\n",
    "        #year_list.append(year)\n",
    "        #plotID_list.append(plotID)"
   ]
  },
  {
   "cell_type": "markdown",
   "id": "f3937a44",
   "metadata": {},
   "source": [
    "#### Get unique plotIDs and years per available trees"
   ]
  },
  {
   "cell_type": "code",
   "execution_count": 10,
   "id": "8a50f1d7",
   "metadata": {},
   "outputs": [
    {
     "data": {
      "application/vnd.jupyter.widget-view+json": {
       "model_id": "6b3cb07f2e834a32b805611b247af94c",
       "version_major": 2,
       "version_minor": 0
      },
      "text/plain": [
       "Creating unique tree IDs...:   0%|          | 0/647 [00:00<?, ?it/s]"
      ]
     },
     "metadata": {},
     "output_type": "display_data"
    }
   ],
   "source": [
    "plotID_dict = data_loader.get_plotID(path_list)"
   ]
  },
  {
   "cell_type": "markdown",
   "id": "6f4cea00",
   "metadata": {},
   "source": [
    "#### Import all imagery, labels and other features from hdf5 files"
   ]
  },
  {
   "cell_type": "code",
   "execution_count": 11,
   "id": "94e3eecf",
   "metadata": {},
   "outputs": [
    {
     "data": {
      "application/vnd.jupyter.widget-view+json": {
       "model_id": "df8e357e8ed84db187af8706ed58b1b0",
       "version_major": 2,
       "version_minor": 0
      },
      "text/plain": [
       "Processing hdf5 datasets:   0%|          | 0/647 [00:00<?, ?it/s]"
      ]
     },
     "metadata": {},
     "output_type": "display_data"
    }
   ],
   "source": [
    "image_set, label_set, species_set, kkl_set, bk_set, hash_id = data_loader.hdf5_to_img_label(path_list,\n",
    "                                                                                               plotID_dict,\n",
    "                                                                                               load_sets=[\"images_masked\"])"
   ]
  },
  {
   "cell_type": "code",
   "execution_count": 12,
   "id": "5c38e564",
   "metadata": {},
   "outputs": [],
   "source": [
    "def nbv_to_sst_3classesv2(image_set: np.array, label_set: np.array, species_set: np.array, kkl_set: np.array, bk_set: np.array, hash_id: np.array):\n",
    "    \n",
    "    label_list = []\n",
    "    species_list = [20, 48, 51, 100, 118, 134]\n",
    "    for i in range(0, len(label_set)):\n",
    "        if label_set[i] >= 99: # all dead trees\n",
    "            label = 2\n",
    "            label_list.append(label)\n",
    "        elif species_set[i] in species_list and label_set[i] >= 0 and label_set[i] <= 25: # healthy trees\n",
    "            label = 0\n",
    "            label_list.append(label)\n",
    "        elif species_set[i] in species_list and label_set[i] >= 30 and label_set[i] <= 95: # stressed trees\n",
    "            label = 1\n",
    "            label_list.append(label)\n",
    "        else:\n",
    "            label = 999\n",
    "            label_list.append(label)\n",
    "            \n",
    "    label_set = np.array(label_list)\n",
    "    \n",
    "    np_filter = []\n",
    "    for i in range(0, len(bk_set)):\n",
    "        if label_set[i] in [0,1,2]:\n",
    "            np_filter.append(True)\n",
    "        else:\n",
    "            np_filter.append(False)\n",
    "         \n",
    "    image_set = image_set[np_filter]\n",
    "    label_set = label_set[np_filter]\n",
    "    species_set = species_set[np_filter]\n",
    "    kkl_set = kkl_set[np_filter]\n",
    "    bk_set = bk_set[np_filter]\n",
    "    hash_id = hash_id[np_filter]\n",
    "    \n",
    "    return image_set, label_set, species_set, kkl_set, bk_set, hash_id"
   ]
  },
  {
   "cell_type": "markdown",
   "id": "6a90e2b7",
   "metadata": {},
   "source": [
    "#### Convert nbv to classes"
   ]
  },
  {
   "cell_type": "code",
   "execution_count": 13,
   "id": "0224972a",
   "metadata": {},
   "outputs": [],
   "source": [
    "#nbv_set = label_set\n",
    "image_set, label_set, species_set, kkl_set, bk_set, hash_id = nbv_to_sst_3classesv2(image_set, label_set, species_set, kkl_set, bk_set, hash_id)"
   ]
  },
  {
   "cell_type": "markdown",
   "id": "c6b4cd85",
   "metadata": {},
   "source": [
    "#### Split data into subset (used for training and validation in the 5-fold cross-validation) and test set"
   ]
  },
  {
   "cell_type": "code",
   "execution_count": 14,
   "id": "d06eda54",
   "metadata": {},
   "outputs": [
    {
     "name": "stdout",
     "output_type": "stream",
     "text": [
      "ORIGINAL POSITIVE RATIO: 0.44291350531107737\n",
      "Fold : 0\n",
      "TRAIN POSITIVE RATIO: 0.45229863920559027\n",
      "TEST POSITIVE RATIO : 0.39861111111111114\n",
      "LENGTH TRAIN GROUPS : 194\n",
      "LENGTH TEST GROUPS  : 41\n",
      "Number of True in sub_indices: 13595\n",
      "Number of False in sub_indices: 2880\n",
      "Number of True in test_indices: 1061\n",
      "Number of False in test_indices: 15414\n",
      "Check shapes:\n",
      "\n",
      "Images sub dataset: (13595, 250, 250, 4)\n",
      "Labels sub dataset: (13595, 1)\n",
      "\n",
      "Images test dataset: (1061, 250, 250, 4)\n",
      "Labels test dataset: (1061, 1)\n",
      "\n",
      "--------------------------------------------------\n",
      "Check if the split was stratified: (random_state=42)\n",
      "Healthy trees in sub dataset: 7695\n",
      "Stressed trees in sub dataset: 5651\n",
      "Dead trees in sub dataset: 249\n",
      "Healthy trees in test dataset: 674\n",
      "Stressed trees in test dataset: 365\n",
      "Dead trees in test dataset: 22\n",
      "Ratio health trees in test dataset: 0.08758934372969461\n",
      "Ratio stressed trees in test dataset: 0.06459033799327553\n",
      "Ratio dead trees in test dataset: 0.08835341365461848\n"
     ]
    }
   ],
   "source": [
    "sub_image_set, sub_label_set, sub_hash_id, sub_species_set, test_image_set, test_label_set, test_hash_id, test_species_set = data_split(image_set, label_set, hash_id, species_set, n_splits=6, random_state=42, seed=2)\n"
   ]
  },
  {
   "cell_type": "markdown",
   "id": "c48fbb5b",
   "metadata": {},
   "source": [
    "#### Check if any hash ID is in both sub and test dataset"
   ]
  },
  {
   "cell_type": "code",
   "execution_count": 15,
   "id": "874367cf",
   "metadata": {},
   "outputs": [
    {
     "name": "stdout",
     "output_type": "stream",
     "text": [
      "There are no hash_id values in both train and test datasets. The datasplit was successful\n"
     ]
    }
   ],
   "source": [
    "hash_set = set(sub_hash_id[:,0].flatten())\n",
    "test_hash_set = set(test_hash_id[:,0].flatten())\n",
    "intersection = hash_set.intersection(test_hash_set)\n",
    "if intersection:\n",
    "    print(f\"Hash_id values in both train and test sets: {len(intersection)}\")\n",
    "else:\n",
    "    print(\"There are no hash_id values in both train and test datasets. The datasplit was successful\")"
   ]
  },
  {
   "cell_type": "markdown",
   "id": "9e5b64d4",
   "metadata": {},
   "source": [
    "#### Check feature distribution of the Test dataset"
   ]
  },
  {
   "cell_type": "code",
   "execution_count": 16,
   "id": "a33ff5cb",
   "metadata": {},
   "outputs": [
    {
     "name": "stdout",
     "output_type": "stream",
     "text": [
      "Test dataset\n",
      "Test data healthy trees: 674\n",
      "Test data stressed trees: 365\n",
      "Test data dead trees: 22\n",
      "--------------------------------------------------\n",
      "Remaining dataset\n",
      "Remaining data healthy trees: 7695\n",
      "Remaining data stressed trees: 5651\n",
      "Remaining data dead trees: 249\n",
      "--------------------------------------------------\n"
     ]
    }
   ],
   "source": [
    "def count_occurrences(data, value):\n",
    "    count = 0\n",
    "    for item in data:\n",
    "        if item == value:\n",
    "            count += 1\n",
    "    return count\n",
    "\n",
    "print(\"Test dataset\")\n",
    "#print(f\"Test data Picea abies healthy: {count_occurrences(test_label_set, 0)}\")\n",
    "#print(f\"Test data Picea abies stressed: {count_occurrences(test_label_set, 1)}\")\n",
    "#print(f\"Test data Pinus sylvestris healthy: {count_occurrences(test_label_set, 2)}\")\n",
    "#print(f\"Test data Pinus sylvestris stressed: {count_occurrences(test_label_set, 3)}\")\n",
    "#print(f\"Test data Abies alba healthy: {count_occurrences(test_label_set, 4)}\")\n",
    "#print(f\"Test data Abies alba stressed: {count_occurrences(test_label_set, 5)}\")\n",
    "#print(f\"Test data Fagus sylvatica healthy: {count_occurrences(test_label_set, 6)}\")\n",
    "#print(f\"Test data Fagus sylvatica stressed: {count_occurrences(test_label_set, 7)}\")\n",
    "#print(f\"Test data Quercus robur/petraea healthy: {count_occurrences(test_label_set, 8)}\")\n",
    "#print(f\"Test data Quercus robur/petraea stressed: {count_occurrences(test_label_set, 9)}\")\n",
    "#print(f\"Test data Larix spp.: {count_occurrences(test_label_set, 10)}\")\n",
    "#print(f\"Test data Acer spp.: {count_occurrences(test_label_set, 11)}\")\n",
    "#print(f\"Test data Betula pendula: {count_occurrences(test_label_set, 12)}\")\n",
    "print(f\"Test data healthy trees: {count_occurrences(test_label_set, 0)}\")\n",
    "print(f\"Test data stressed trees: {count_occurrences(test_label_set, 1)}\")\n",
    "print(f\"Test data dead trees: {count_occurrences(test_label_set, 2)}\")\n",
    "print(\"-\"*50)\n",
    "\n",
    "print(\"Remaining dataset\")\n",
    "#print(f\"Remaining data Picea abies healthy: {count_occurrences(sub_label_set, 0)}\")\n",
    "#print(f\"Remaining data Picea abies stressed: {count_occurrences(sub_label_set, 1)}\")\n",
    "#print(f\"Remaining data Pinus sylvestris healthy: {count_occurrences(sub_label_set, 2)}\")\n",
    "#print(f\"Remaining data Pinus sylvestris stressed: {count_occurrences(sub_label_set, 3)}\")\n",
    "#print(f\"Remaining data Abies alba healthy: {count_occurrences(sub_label_set, 4)}\")\n",
    "#print(f\"Remaining data Abies alba stressed: {count_occurrences(sub_label_set, 5)}\")\n",
    "#print(f\"Remaining data Fagus sylvatica healthy: {count_occurrences(sub_label_set, 6)}\")\n",
    "#print(f\"Remaining data Fagus sylvatica stressed: {count_occurrences(sub_label_set, 7)}\")\n",
    "#print(f\"Remaining data Quercus robur/petraea healthy: {count_occurrences(sub_label_set, 8)}\")\n",
    "#print(f\"Remaining data Quercus robur/petraea stressed: {count_occurrences(sub_label_set, 9)}\")\n",
    "#print(f\"Test data Larix spp.: {count_occurrences(sub_label_set, 10)}\")\n",
    "#print(f\"Test data Acer spp.: {count_occurrences(sub_label_set, 11)}\")\n",
    "#print(f\"Test data Betula pendula: {count_occurrences(sub_label_set, 12)}\")\n",
    "print(f\"Remaining data healthy trees: {count_occurrences(sub_label_set, 0)}\")\n",
    "print(f\"Remaining data stressed trees: {count_occurrences(sub_label_set, 1)}\")\n",
    "print(f\"Remaining data dead trees: {count_occurrences(sub_label_set, 2)}\")\n",
    "print(\"-\"*50)"
   ]
  },
  {
   "cell_type": "code",
   "execution_count": 17,
   "id": "e08fcf57",
   "metadata": {},
   "outputs": [],
   "source": [
    "# train transform with augmentation. \n",
    "transform_train = transforms.Compose([transforms.ToTensor(), transforms.RandomHorizontalFlip(p=0.5), transforms.RandomVerticalFlip(p=0.5),\n",
    "                                      transforms.RandomRotation(degrees=[0,360])])\n",
    "\n",
    "# test and val dataset transform without augmentation. \n",
    "transform = transforms.Compose([transforms.ToTensor()])\n",
    "\n",
    "# class names need to fit the customDataset class used e.g. 3 classes -> use CustomDataset3Classes\n",
    "#class_names = ['healthy', 'slightly_stressed', 'moderately_stressed', 'highly_stressed', 'dead']\n",
    "#class_names = ['healthy', 'moderately_stressed', 'highly_stressed', 'dead']\n",
    "class_names = ['healthy', 'stressed', 'dead']\n",
    "#class_names = ['Picea abies healthy', 'Picea abies stressed', 'Pinus sylvestris healthy', 'Pinus sylvestris stressed', \n",
    "#               'Abies alba healthy', 'Abies alba stressed', 'Fagus sylvatica healthy', 'Fagus sylvatica stressed',\n",
    "#               'Quercus robur/petraea healthy', 'Quercus robur/petraea stressed', 'Larix spp.', 'Acer spp.',\n",
    "#               'Betula pendula', 'dead trees']\n",
    "\n",
    "# set seeds\n",
    "g = torch.Generator()\n",
    "g.manual_seed(42)\n",
    "NUM_WORKERS=3 # should be changed, depending on the system used\n",
    "batch_size=32"
   ]
  },
  {
   "cell_type": "markdown",
   "id": "31779c05",
   "metadata": {},
   "source": [
    "#### Define variables and parameters"
   ]
  },
  {
   "cell_type": "code",
   "execution_count": 18,
   "id": "10ae4379",
   "metadata": {},
   "outputs": [
    {
     "name": "stdout",
     "output_type": "stream",
     "text": [
      "Memory allocated: 0 bytes\n"
     ]
    }
   ],
   "source": [
    "# 1. Define number of epochs\n",
    "epochs = 50\n",
    "n_bands = sub_image_set[0].shape[2] # get number of bands\n",
    "\n",
    "# 2. Define model\n",
    "num_classes = len(class_names)\n",
    "unfreeze = True # all layer weights get updated\n",
    "dropout_rate = 0.5 #define dropout rate\n",
    "model_name = \"EffNet_b7_RGB-NIR-3classes_health_plotsplit\"\n",
    "\n",
    "# 3. Define loss, optimizer and learning rate scheduler\n",
    "lr = 0.001 # define learning rate\n",
    "min_lr = 1e-6 # minimum learning rate threshold\n",
    "gamma = 0.75 # how fast the learning rate decreases per epoch (low number=faster decrease)\n",
    "patience = 10\n",
    "\n",
    "# 4. Create target folder name were to save the tensorboard event files\n",
    "experiment_name = 'RGB-NIR-3classes_health_plotsplit'\n",
    "extra = \"RGB-NIR-3classes_health_plotsplit\"\n",
    "\n",
    "#----------------------------------------------------------------------\n",
    "#torch.cuda.empty_cache()\n",
    "print(f\"Memory allocated: {torch.cuda.memory_allocated()} bytes\") "
   ]
  },
  {
   "cell_type": "markdown",
   "id": "09768b1a",
   "metadata": {},
   "source": [
    "#### Run k-Fold cross-validation on EfficientNet"
   ]
  },
  {
   "cell_type": "code",
   "execution_count": 19,
   "id": "9c29c81d",
   "metadata": {},
   "outputs": [
    {
     "name": "stdout",
     "output_type": "stream",
     "text": [
      "ORIGINAL POSITIVE RATIO: 0.45229863920559027\n",
      "Fold : 1\n",
      "TRAIN POSITIVE RATIO: 0.45625111150631337\n",
      "VAL POSITIVE RATIO  : 0.4333759046402725\n",
      "LENGTH TRAIN GROUPS : 154\n",
      "LENGTH VAL GROUPS   : 40\n"
     ]
    },
    {
     "data": {
      "text/html": [
       "Finishing last run (ID:oo5g7i55) before initializing another..."
      ],
      "text/plain": [
       "<IPython.core.display.HTML object>"
      ]
     },
     "metadata": {},
     "output_type": "display_data"
    },
    {
     "data": {
      "text/html": [
       "Waiting for W&B process to finish... <strong style=\"color:green\">(success).</strong>"
      ],
      "text/plain": [
       "<IPython.core.display.HTML object>"
      ]
     },
     "metadata": {},
     "output_type": "display_data"
    },
    {
     "data": {
      "application/vnd.jupyter.widget-view+json": {
       "model_id": "be7742eca7804571a7a20f4585d17eec",
       "version_major": 2,
       "version_minor": 0
      },
      "text/plain": [
       "VBox(children=(Label(value='0.001 MB of 0.003 MB uploaded (0.000 MB deduped)\\r'), FloatProgress(value=0.388169…"
      ]
     },
     "metadata": {},
     "output_type": "display_data"
    },
    {
     "data": {
      "text/html": [
       " View run <strong style=\"color:#cdcd00\">ruby-planet-7</strong> at: <a href='https://wandb.ai/simon-ecke/wze-uav-health-3classes/runs/oo5g7i55' target=\"_blank\">https://wandb.ai/simon-ecke/wze-uav-health-3classes/runs/oo5g7i55</a><br/>Synced 5 W&B file(s), 0 media file(s), 0 artifact file(s) and 0 other file(s)"
      ],
      "text/plain": [
       "<IPython.core.display.HTML object>"
      ]
     },
     "metadata": {},
     "output_type": "display_data"
    },
    {
     "data": {
      "text/html": [
       "Find logs at: <code>.\\wandb\\run-20230524_233905-oo5g7i55\\logs</code>"
      ],
      "text/plain": [
       "<IPython.core.display.HTML object>"
      ]
     },
     "metadata": {},
     "output_type": "display_data"
    },
    {
     "data": {
      "text/html": [
       "Successfully finished last run (ID:oo5g7i55). Initializing new run:<br/>"
      ],
      "text/plain": [
       "<IPython.core.display.HTML object>"
      ]
     },
     "metadata": {},
     "output_type": "display_data"
    },
    {
     "data": {
      "application/vnd.jupyter.widget-view+json": {
       "model_id": "57c811abd1364b57b381b6ba002f21e8",
       "version_major": 2,
       "version_minor": 0
      },
      "text/plain": [
       "VBox(children=(Label(value='Waiting for wandb.init()...\\r'), FloatProgress(value=0.016666666666666666, max=1.0…"
      ]
     },
     "metadata": {},
     "output_type": "display_data"
    },
    {
     "data": {
      "text/html": [
       "wandb version 0.15.3 is available!  To upgrade, please run:\n",
       " $ pip install wandb --upgrade"
      ],
      "text/plain": [
       "<IPython.core.display.HTML object>"
      ]
     },
     "metadata": {},
     "output_type": "display_data"
    },
    {
     "data": {
      "text/html": [
       "Tracking run with wandb version 0.14.2"
      ],
      "text/plain": [
       "<IPython.core.display.HTML object>"
      ]
     },
     "metadata": {},
     "output_type": "display_data"
    },
    {
     "data": {
      "text/html": [
       "Run data is saved locally in <code>C:\\Users\\lwfeckesim\\01_PyTorch\\wze-uav\\wze-uav-master\\wandb\\run-20230525_002631-lrqiqiwf</code>"
      ],
      "text/plain": [
       "<IPython.core.display.HTML object>"
      ]
     },
     "metadata": {},
     "output_type": "display_data"
    },
    {
     "data": {
      "text/html": [
       "Syncing run <strong><a href='https://wandb.ai/simon-ecke/wze-uav-health-3classes/runs/lrqiqiwf' target=\"_blank\">fold_1_RGB-NIR-3classes_health_plotsplit</a></strong> to <a href='https://wandb.ai/simon-ecke/wze-uav-health-3classes' target=\"_blank\">Weights & Biases</a> (<a href='https://wandb.me/run' target=\"_blank\">docs</a>)<br/>"
      ],
      "text/plain": [
       "<IPython.core.display.HTML object>"
      ]
     },
     "metadata": {},
     "output_type": "display_data"
    },
    {
     "data": {
      "text/html": [
       " View project at <a href='https://wandb.ai/simon-ecke/wze-uav-health-3classes' target=\"_blank\">https://wandb.ai/simon-ecke/wze-uav-health-3classes</a>"
      ],
      "text/plain": [
       "<IPython.core.display.HTML object>"
      ]
     },
     "metadata": {},
     "output_type": "display_data"
    },
    {
     "data": {
      "text/html": [
       " View run at <a href='https://wandb.ai/simon-ecke/wze-uav-health-3classes/runs/lrqiqiwf' target=\"_blank\">https://wandb.ai/simon-ecke/wze-uav-health-3classes/runs/lrqiqiwf</a>"
      ],
      "text/plain": [
       "<IPython.core.display.HTML object>"
      ]
     },
     "metadata": {},
     "output_type": "display_data"
    },
    {
     "name": "stdout",
     "output_type": "stream",
     "text": [
      "There are no same hash_id values in train, val or test datasets. The datasplit was successful\n",
      "Check shapes:\n",
      "\n",
      "Images train dataset: (11246, 250, 250, 4)\n",
      "Labels train dataset: (11246, 1)\n",
      "\n",
      "Images validation dataset: (876, 250, 250, 4)\n",
      "Labels validation dataset: (876, 1)\n",
      "\n",
      "--------------------------------------------------\n",
      "Check if the split was stratified: (random_state=42)\n",
      "Healthy trees in train dataset: 6337\n",
      "Stressed trees in train dataset: 4687\n",
      "Dead trees in train dataset: 222\n",
      "Healthy trees in validation dataset: 510\n",
      "Stressed trees in validation dataset: 356\n",
      "Dead trees in validation dataset: 10\n",
      "--------------------------------------------------\n",
      "\n",
      "Creating datasets for fold: 1\n",
      "\n",
      "Creating dataloaders for fold: 1\n",
      "\n",
      "Loaded pretrained weights for efficientnet-b7\n",
      "\n",
      "[INFO] Fold number: 1\n",
      "[INFO] Number of epochs: 50\n",
      "[INFO] Batch_size: 32\n",
      "[INFO] Number of bands: 4\n",
      "[INFO] Dropout rate: 0.5\n",
      "[INFO] Gamma learning rate: 0.75\n",
      "[INFO] Memory allocated: 0 bytes\n"
     ]
    },
    {
     "data": {
      "application/vnd.jupyter.widget-view+json": {
       "model_id": "0196515a8e3a452199999189bb53ade8",
       "version_major": 2,
       "version_minor": 0
      },
      "text/plain": [
       "  0%|          | 0/50 [00:00<?, ?it/s]"
      ]
     },
     "metadata": {},
     "output_type": "display_data"
    },
    {
     "name": "stdout",
     "output_type": "stream",
     "text": [
      "Epoch: 1 \n",
      "Learning rate: 0.001\n",
      "Train loss: 0.7323 | Train precision: 0.6109 | Train recall: 0.5836 | Train f1score: 0.5962 | Train acc: 0.5882 | Train kappa: 0.3071 \n",
      "Val loss: 0.8385 | Val precision: 0.4199 | Val recall: 0.5321 | Val f1score: 0.3743 | Val acc: 0.5590 | Val kappa: 0.0695 \n",
      "\n",
      "Epoch: 2 \n",
      "Learning rate: 0.00075\n",
      "Train loss: 0.6616 | Train precision: 0.7001 | Train recall: 0.6824 | Train f1score: 0.6903 | Train acc: 0.6363 | Train kappa: 0.4153 \n",
      "Val loss: 0.6236 | Val precision: 0.7611 | Val recall: 0.7204 | Val f1score: 0.7366 | Val acc: 0.6574 | Val kappa: 0.3472 \n",
      "\n",
      "Epoch: 3 \n",
      "Learning rate: 0.0005625000000000001\n",
      "Train loss: 0.6365 | Train precision: 0.7205 | Train recall: 0.7193 | Train f1score: 0.7189 | Train acc: 0.6542 | Train kappa: 0.4535 \n",
      "Val loss: 0.6435 | Val precision: 0.7379 | Val recall: 0.7401 | Val f1score: 0.7327 | Val acc: 0.6528 | Val kappa: 0.3723 \n",
      "\n",
      "Epoch: 4 \n",
      "Learning rate: 0.000421875\n",
      "Train loss: 0.6273 | Train precision: 0.7298 | Train recall: 0.7234 | Train f1score: 0.7264 | Train acc: 0.6528 | Train kappa: 0.4477 \n",
      "Val loss: 0.6021 | Val precision: 0.7115 | Val recall: 0.7405 | Val f1score: 0.7244 | Val acc: 0.6655 | Val kappa: 0.3878 \n",
      "\n",
      "Epoch: 5 \n",
      "Learning rate: 0.00031640625\n",
      "Train loss: 0.6195 | Train precision: 0.7374 | Train recall: 0.7310 | Train f1score: 0.7339 | Train acc: 0.6608 | Train kappa: 0.4621 \n",
      "Val loss: 0.5979 | Val precision: 0.7178 | Val recall: 0.7461 | Val f1score: 0.7310 | Val acc: 0.6771 | Val kappa: 0.4060 \n",
      "\n",
      "Epoch: 6 \n",
      "Learning rate: 0.0002373046875\n",
      "Train loss: 0.6066 | Train precision: 0.7433 | Train recall: 0.7439 | Train f1score: 0.7435 | Train acc: 0.6644 | Train kappa: 0.4751 \n",
      "Val loss: 0.5968 | Val precision: 0.7552 | Val recall: 0.7204 | Val f1score: 0.7160 | Val acc: 0.6759 | Val kappa: 0.3683 \n",
      "\n",
      "Epoch: 7 \n",
      "Learning rate: 0.000177978515625\n",
      "Train loss: 0.5995 | Train precision: 0.7560 | Train recall: 0.7424 | Train f1score: 0.7486 | Train acc: 0.6761 | Train kappa: 0.4857 \n",
      "Val loss: 0.6053 | Val precision: 0.7219 | Val recall: 0.7503 | Val f1score: 0.7351 | Val acc: 0.6829 | Val kappa: 0.4168 \n",
      "\n",
      "Epoch: 8 \n",
      "Learning rate: 0.00013348388671875\n",
      "Train loss: 0.5954 | Train precision: 0.7497 | Train recall: 0.7551 | Train f1score: 0.7523 | Train acc: 0.6803 | Train kappa: 0.4972 \n",
      "Val loss: 0.6140 | Val precision: 0.7111 | Val recall: 0.7396 | Val f1score: 0.7173 | Val acc: 0.6505 | Val kappa: 0.3725 \n",
      "\n",
      "Epoch: 9 \n",
      "Learning rate: 0.0001001129150390625\n",
      "Train loss: 0.5825 | Train precision: 0.7727 | Train recall: 0.7692 | Train f1score: 0.7709 | Train acc: 0.6925 | Train kappa: 0.5220 \n",
      "Val loss: 0.5970 | Val precision: 0.7526 | Val recall: 0.7467 | Val f1score: 0.7481 | Val acc: 0.6910 | Val kappa: 0.4179 \n",
      "\n",
      "Epoch: 10 \n",
      "Learning rate: 7.508468627929687e-05\n",
      "Train loss: 0.5897 | Train precision: 0.7638 | Train recall: 0.7596 | Train f1score: 0.7616 | Train acc: 0.6863 | Train kappa: 0.5058 \n",
      "Val loss: 0.5933 | Val precision: 0.7295 | Val recall: 0.7458 | Val f1score: 0.7333 | Val acc: 0.6944 | Val kappa: 0.4232 \n",
      "\n",
      "Epoch: 11 \n",
      "Learning rate: 5.6313514709472656e-05\n",
      "Train loss: 0.5820 | Train precision: 0.7658 | Train recall: 0.7637 | Train f1score: 0.7647 | Train acc: 0.6911 | Train kappa: 0.5201 \n",
      "Val loss: 0.5977 | Val precision: 0.7164 | Val recall: 0.7441 | Val f1score: 0.7295 | Val acc: 0.6759 | Val kappa: 0.4024 \n",
      "\n",
      "Epoch: 12 \n",
      "Learning rate: 4.223513603210449e-05\n",
      "Train loss: 0.5780 | Train precision: 0.7715 | Train recall: 0.7631 | Train f1score: 0.7671 | Train acc: 0.6922 | Train kappa: 0.5240 \n",
      "Val loss: 0.5983 | Val precision: 0.7246 | Val recall: 0.7430 | Val f1score: 0.7304 | Val acc: 0.6887 | Val kappa: 0.4137 \n",
      "\n",
      "Epoch: 13 \n",
      "Learning rate: 3.167635202407837e-05\n",
      "Train loss: 0.5829 | Train precision: 0.7655 | Train recall: 0.7641 | Train f1score: 0.7647 | Train acc: 0.6958 | Train kappa: 0.5288 \n",
      "Val loss: 0.5957 | Val precision: 0.7241 | Val recall: 0.7451 | Val f1score: 0.7325 | Val acc: 0.6887 | Val kappa: 0.4164 \n",
      "\n",
      "Epoch: 14 \n",
      "Learning rate: 2.3757264018058778e-05\n",
      "Train loss: 0.5755 | Train precision: 0.7718 | Train recall: 0.7715 | Train f1score: 0.7714 | Train acc: 0.6951 | Train kappa: 0.5185 \n",
      "Val loss: 0.5966 | Val precision: 0.7223 | Val recall: 0.7464 | Val f1score: 0.7333 | Val acc: 0.6863 | Val kappa: 0.4156 \n",
      "\n",
      "Epoch: 15 \n",
      "Learning rate: 1.7817948013544083e-05\n",
      "Train loss: 0.5792 | Train precision: 0.7739 | Train recall: 0.7717 | Train f1score: 0.7721 | Train acc: 0.6953 | Train kappa: 0.5129 \n",
      "Val loss: 0.5970 | Val precision: 0.7282 | Val recall: 0.7498 | Val f1score: 0.7371 | Val acc: 0.6944 | Val kappa: 0.4280 \n",
      "\n",
      "Epoch: 16 \n",
      "Learning rate: 1.3363461010158063e-05\n",
      "Train loss: 0.5716 | Train precision: 0.7810 | Train recall: 0.7753 | Train f1score: 0.7781 | Train acc: 0.7051 | Train kappa: 0.5348 \n",
      "Val loss: 0.5976 | Val precision: 0.7588 | Val recall: 0.7514 | Val f1score: 0.7530 | Val acc: 0.6991 | Val kappa: 0.4320 \n",
      "\n",
      "Epoch: 17 \n",
      "Learning rate: 1.0022595757618546e-05\n",
      "Train loss: 0.5628 | Train precision: 0.7810 | Train recall: 0.7764 | Train f1score: 0.7785 | Train acc: 0.6995 | Train kappa: 0.5258 \n",
      "Val loss: 0.5991 | Val precision: 0.7265 | Val recall: 0.7479 | Val f1score: 0.7353 | Val acc: 0.6921 | Val kappa: 0.4234 \n",
      "\n",
      "Epoch: 18 \n",
      "Learning rate: 7.51694681821391e-06\n",
      "Train loss: 0.5671 | Train precision: 0.7726 | Train recall: 0.7719 | Train f1score: 0.7722 | Train acc: 0.6978 | Train kappa: 0.5333 \n",
      "Val loss: 0.6005 | Val precision: 0.7264 | Val recall: 0.7500 | Val f1score: 0.7371 | Val acc: 0.6921 | Val kappa: 0.4259 \n",
      "\n",
      "Epoch: 19 \n",
      "Learning rate: 5.637710113660432e-06\n",
      "Train loss: 0.5733 | Train precision: 0.7741 | Train recall: 0.7646 | Train f1score: 0.7691 | Train acc: 0.6912 | Train kappa: 0.5185 \n",
      "Val loss: 0.5991 | Val precision: 0.7327 | Val recall: 0.7526 | Val f1score: 0.7402 | Val acc: 0.7002 | Val kappa: 0.4374 \n",
      "\n",
      "Epoch: 20 \n",
      "Learning rate: 4.228282585245324e-06\n",
      "Train loss: 0.5739 | Train precision: 0.7717 | Train recall: 0.7693 | Train f1score: 0.7704 | Train acc: 0.6952 | Train kappa: 0.5103 \n",
      "Val loss: 0.5979 | Val precision: 0.7342 | Val recall: 0.7547 | Val f1score: 0.7423 | Val acc: 0.7025 | Val kappa: 0.4424 \n",
      "\n",
      "Early stopping after epoch 20\n"
     ]
    },
    {
     "data": {
      "text/html": [
       "Waiting for W&B process to finish... <strong style=\"color:green\">(success).</strong>"
      ],
      "text/plain": [
       "<IPython.core.display.HTML object>"
      ]
     },
     "metadata": {},
     "output_type": "display_data"
    },
    {
     "data": {
      "application/vnd.jupyter.widget-view+json": {
       "model_id": "3095ec479e42487d9b0a9d8be60be928",
       "version_major": 2,
       "version_minor": 0
      },
      "text/plain": [
       "VBox(children=(Label(value='0.001 MB of 0.001 MB uploaded (0.000 MB deduped)\\r'), FloatProgress(value=1.0, max…"
      ]
     },
     "metadata": {},
     "output_type": "display_data"
    },
    {
     "data": {
      "text/html": [
       "<style>\n",
       "    table.wandb td:nth-child(1) { padding: 0 10px; text-align: left ; width: auto;} td:nth-child(2) {text-align: left ; width: 100%}\n",
       "    .wandb-row { display: flex; flex-direction: row; flex-wrap: wrap; justify-content: flex-start; width: 100% }\n",
       "    .wandb-col { display: flex; flex-direction: column; flex-basis: 100%; flex: 1; padding: 10px; }\n",
       "    </style>\n",
       "<div class=\"wandb-row\"><div class=\"wandb-col\"><h3>Run history:</h3><br/><table class=\"wandb\"><tr><td>learning_rate</td><td>█▆▅▄▃▃▂▂▂▁▁▁▁▁▁▁▁▁▁▁</td></tr><tr><td>train_f1_score</td><td>▁▅▆▆▆▇▇▇█▇▇█▇███████</td></tr><tr><td>train_loss</td><td>█▅▄▄▃▃▃▂▂▂▂▂▂▂▂▁▁▁▁▁</td></tr><tr><td>val_f1_score</td><td>▁██▇█▇█▇████████████</td></tr><tr><td>val_loss</td><td>█▂▂▁▁▁▁▂▁▁▁▁▁▁▁▁▁▁▁▁</td></tr></table><br/></div><div class=\"wandb-col\"><h3>Run summary:</h3><br/><table class=\"wandb\"><tr><td>learning_rate</td><td>0.0</td></tr><tr><td>train_f1_score</td><td>0.77038</td></tr><tr><td>train_loss</td><td>0.57388</td></tr><tr><td>val_f1_score</td><td>0.7423</td></tr><tr><td>val_loss</td><td>0.59789</td></tr></table><br/></div></div>"
      ],
      "text/plain": [
       "<IPython.core.display.HTML object>"
      ]
     },
     "metadata": {},
     "output_type": "display_data"
    },
    {
     "data": {
      "text/html": [
       " View run <strong style=\"color:#cdcd00\">fold_1_RGB-NIR-3classes_health_plotsplit</strong> at: <a href='https://wandb.ai/simon-ecke/wze-uav-health-3classes/runs/lrqiqiwf' target=\"_blank\">https://wandb.ai/simon-ecke/wze-uav-health-3classes/runs/lrqiqiwf</a><br/>Synced 5 W&B file(s), 0 media file(s), 0 artifact file(s) and 0 other file(s)"
      ],
      "text/plain": [
       "<IPython.core.display.HTML object>"
      ]
     },
     "metadata": {},
     "output_type": "display_data"
    },
    {
     "data": {
      "text/html": [
       "Find logs at: <code>.\\wandb\\run-20230525_002631-lrqiqiwf\\logs</code>"
      ],
      "text/plain": [
       "<IPython.core.display.HTML object>"
      ]
     },
     "metadata": {},
     "output_type": "display_data"
    },
    {
     "name": "stdout",
     "output_type": "stream",
     "text": [
      "Deleting variables and emptying cache\n",
      "Memory allocated: 1046864896 bytes\n",
      "--------------------------------------------------\n",
      "\n",
      "Fold : 2\n",
      "TRAIN POSITIVE RATIO: 0.44192477876106195\n",
      "VAL POSITIVE RATIO  : 0.4932653804149982\n",
      "LENGTH TRAIN GROUPS : 158\n",
      "LENGTH VAL GROUPS   : 36\n"
     ]
    },
    {
     "data": {
      "text/html": [
       "wandb version 0.15.3 is available!  To upgrade, please run:\n",
       " $ pip install wandb --upgrade"
      ],
      "text/plain": [
       "<IPython.core.display.HTML object>"
      ]
     },
     "metadata": {},
     "output_type": "display_data"
    },
    {
     "data": {
      "text/html": [
       "Tracking run with wandb version 0.14.2"
      ],
      "text/plain": [
       "<IPython.core.display.HTML object>"
      ]
     },
     "metadata": {},
     "output_type": "display_data"
    },
    {
     "data": {
      "text/html": [
       "Run data is saved locally in <code>C:\\Users\\lwfeckesim\\01_PyTorch\\wze-uav\\wze-uav-master\\wandb\\run-20230525_020245-5x5gm9jb</code>"
      ],
      "text/plain": [
       "<IPython.core.display.HTML object>"
      ]
     },
     "metadata": {},
     "output_type": "display_data"
    },
    {
     "data": {
      "text/html": [
       "Syncing run <strong><a href='https://wandb.ai/simon-ecke/wze-uav-health-3classes/runs/5x5gm9jb' target=\"_blank\">fold_2_RGB-NIR-3classes_health_plotsplit</a></strong> to <a href='https://wandb.ai/simon-ecke/wze-uav-health-3classes' target=\"_blank\">Weights & Biases</a> (<a href='https://wandb.me/run' target=\"_blank\">docs</a>)<br/>"
      ],
      "text/plain": [
       "<IPython.core.display.HTML object>"
      ]
     },
     "metadata": {},
     "output_type": "display_data"
    },
    {
     "data": {
      "text/html": [
       " View project at <a href='https://wandb.ai/simon-ecke/wze-uav-health-3classes' target=\"_blank\">https://wandb.ai/simon-ecke/wze-uav-health-3classes</a>"
      ],
      "text/plain": [
       "<IPython.core.display.HTML object>"
      ]
     },
     "metadata": {},
     "output_type": "display_data"
    },
    {
     "data": {
      "text/html": [
       " View run at <a href='https://wandb.ai/simon-ecke/wze-uav-health-3classes/runs/5x5gm9jb' target=\"_blank\">https://wandb.ai/simon-ecke/wze-uav-health-3classes/runs/5x5gm9jb</a>"
      ],
      "text/plain": [
       "<IPython.core.display.HTML object>"
      ]
     },
     "metadata": {},
     "output_type": "display_data"
    },
    {
     "name": "stdout",
     "output_type": "stream",
     "text": [
      "There are no same hash_id values in train, val or test datasets. The datasplit was successful\n",
      "Check shapes:\n",
      "\n",
      "Images train dataset: (10848, 250, 250, 4)\n",
      "Labels train dataset: (10848, 1)\n",
      "\n",
      "Images validation dataset: (939, 250, 250, 4)\n",
      "Labels validation dataset: (939, 1)\n",
      "\n",
      "--------------------------------------------------\n",
      "Check if the split was stratified: (random_state=42)\n",
      "Healthy trees in train dataset: 6211\n",
      "Stressed trees in train dataset: 4480\n",
      "Dead trees in train dataset: 157\n",
      "Healthy trees in validation dataset: 521\n",
      "Stressed trees in validation dataset: 384\n",
      "Dead trees in validation dataset: 34\n",
      "--------------------------------------------------\n",
      "\n",
      "Creating datasets for fold: 2\n",
      "\n",
      "Creating dataloaders for fold: 2\n",
      "\n",
      "Loaded pretrained weights for efficientnet-b7\n",
      "\n",
      "[INFO] Fold number: 2\n",
      "[INFO] Number of epochs: 50\n",
      "[INFO] Batch_size: 32\n",
      "[INFO] Number of bands: 4\n",
      "[INFO] Dropout rate: 0.5\n",
      "[INFO] Gamma learning rate: 0.75\n",
      "[INFO] Memory allocated: 0 bytes\n"
     ]
    },
    {
     "data": {
      "application/vnd.jupyter.widget-view+json": {
       "model_id": "eacda8a63be048e781d325a30d4d7116",
       "version_major": 2,
       "version_minor": 0
      },
      "text/plain": [
       "  0%|          | 0/50 [00:00<?, ?it/s]"
      ]
     },
     "metadata": {},
     "output_type": "display_data"
    },
    {
     "name": "stdout",
     "output_type": "stream",
     "text": [
      "Epoch: 1 \n",
      "Learning rate: 0.001\n",
      "Train loss: 0.7464 | Train precision: 0.5490 | Train recall: 0.5045 | Train f1score: 0.5224 | Train acc: 0.5769 | Train kappa: 0.2425 \n",
      "Val loss: 0.8021 | Val precision: 0.7395 | Val recall: 0.4180 | Val f1score: 0.3925 | Val acc: 0.5399 | Val kappa: 0.1754 \n",
      "\n",
      "Epoch: 2 \n",
      "Learning rate: 0.00075\n",
      "Train loss: 0.6747 | Train precision: 0.6598 | Train recall: 0.6330 | Train f1score: 0.6455 | Train acc: 0.6214 | Train kappa: 0.3422 \n",
      "Val loss: 0.7133 | Val precision: 0.6553 | Val recall: 0.5222 | Val f1score: 0.5672 | Val acc: 0.5582 | Val kappa: 0.2708 \n",
      "\n",
      "Epoch: 3 \n",
      "Learning rate: 0.0005625000000000001\n",
      "Train loss: 0.6494 | Train precision: 0.7057 | Train recall: 0.6877 | Train f1score: 0.6963 | Train acc: 0.6464 | Train kappa: 0.3944 \n",
      "Val loss: 0.6410 | Val precision: 0.7150 | Val recall: 0.6599 | Val f1score: 0.6524 | Val acc: 0.6196 | Val kappa: 0.3930 \n",
      "\n",
      "Epoch: 4 \n",
      "Learning rate: 0.000421875\n",
      "Train loss: 0.6392 | Train precision: 0.7118 | Train recall: 0.6978 | Train f1score: 0.7045 | Train acc: 0.6549 | Train kappa: 0.4210 \n",
      "Val loss: 0.6366 | Val precision: 0.7620 | Val recall: 0.7036 | Val f1score: 0.7171 | Val acc: 0.6336 | Val kappa: 0.4257 \n",
      "\n",
      "Epoch: 5 \n",
      "Learning rate: 0.00031640625\n",
      "Train loss: 0.6254 | Train precision: 0.7304 | Train recall: 0.6947 | Train f1score: 0.7111 | Train acc: 0.6646 | Train kappa: 0.4332 \n",
      "Val loss: 0.6288 | Val precision: 0.7474 | Val recall: 0.7067 | Val f1score: 0.7092 | Val acc: 0.6218 | Val kappa: 0.4118 \n",
      "\n",
      "Epoch: 6 \n",
      "Learning rate: 0.0002373046875\n",
      "Train loss: 0.6197 | Train precision: 0.7225 | Train recall: 0.7110 | Train f1score: 0.7166 | Train acc: 0.6652 | Train kappa: 0.4411 \n",
      "Val loss: 0.6334 | Val precision: 0.7437 | Val recall: 0.6825 | Val f1score: 0.6997 | Val acc: 0.6498 | Val kappa: 0.4395 \n",
      "\n",
      "Epoch: 7 \n",
      "Learning rate: 0.000177978515625\n",
      "Train loss: 0.6019 | Train precision: 0.7485 | Train recall: 0.7327 | Train f1score: 0.7403 | Train acc: 0.6764 | Train kappa: 0.4611 \n",
      "Val loss: 0.6127 | Val precision: 0.7510 | Val recall: 0.7219 | Val f1score: 0.7224 | Val acc: 0.6466 | Val kappa: 0.4517 \n",
      "\n",
      "Epoch: 8 \n",
      "Learning rate: 0.00013348388671875\n",
      "Train loss: 0.5991 | Train precision: 0.7481 | Train recall: 0.7390 | Train f1score: 0.7434 | Train acc: 0.6750 | Train kappa: 0.4542 \n",
      "Val loss: 0.6243 | Val precision: 0.7622 | Val recall: 0.7263 | Val f1score: 0.7208 | Val acc: 0.6325 | Val kappa: 0.4313 \n",
      "\n",
      "Epoch: 9 \n",
      "Learning rate: 0.0001001129150390625\n",
      "Train loss: 0.5965 | Train precision: 0.7526 | Train recall: 0.7460 | Train f1score: 0.7490 | Train acc: 0.6812 | Train kappa: 0.4716 \n",
      "Val loss: 0.5994 | Val precision: 0.7413 | Val recall: 0.7414 | Val f1score: 0.7335 | Val acc: 0.6412 | Val kappa: 0.4480 \n",
      "\n",
      "Epoch: 10 \n",
      "Learning rate: 7.508468627929687e-05\n",
      "Train loss: 0.5966 | Train precision: 0.7543 | Train recall: 0.7473 | Train f1score: 0.7507 | Train acc: 0.6845 | Train kappa: 0.4698 \n",
      "Val loss: 0.6189 | Val precision: 0.7363 | Val recall: 0.7279 | Val f1score: 0.7250 | Val acc: 0.6358 | Val kappa: 0.4376 \n",
      "\n",
      "Epoch: 11 \n",
      "Learning rate: 5.6313514709472656e-05\n",
      "Train loss: 0.5966 | Train precision: 0.7533 | Train recall: 0.7423 | Train f1score: 0.7477 | Train acc: 0.6787 | Train kappa: 0.4677 \n",
      "Val loss: 0.6081 | Val precision: 0.7572 | Val recall: 0.7297 | Val f1score: 0.7335 | Val acc: 0.6487 | Val kappa: 0.4543 \n",
      "\n",
      "Epoch: 12 \n",
      "Learning rate: 4.223513603210449e-05\n",
      "Train loss: 0.5906 | Train precision: 0.7555 | Train recall: 0.7471 | Train f1score: 0.7510 | Train acc: 0.6893 | Train kappa: 0.4854 \n",
      "Val loss: 0.6061 | Val precision: 0.7489 | Val recall: 0.7393 | Val f1score: 0.7340 | Val acc: 0.6487 | Val kappa: 0.4581 \n",
      "\n",
      "Epoch: 13 \n",
      "Learning rate: 3.167635202407837e-05\n",
      "Train loss: 0.5809 | Train precision: 0.7664 | Train recall: 0.7619 | Train f1score: 0.7641 | Train acc: 0.6998 | Train kappa: 0.5044 \n",
      "Val loss: 0.6278 | Val precision: 0.7559 | Val recall: 0.7237 | Val f1score: 0.7217 | Val acc: 0.6325 | Val kappa: 0.4306 \n",
      "\n",
      "Epoch: 14 \n",
      "Learning rate: 2.3757264018058778e-05\n",
      "Train loss: 0.5859 | Train precision: 0.7447 | Train recall: 0.7450 | Train f1score: 0.7444 | Train acc: 0.6908 | Train kappa: 0.4881 \n",
      "Val loss: 0.6115 | Val precision: 0.7569 | Val recall: 0.7098 | Val f1score: 0.7226 | Val acc: 0.6336 | Val kappa: 0.4269 \n",
      "\n",
      "Epoch: 15 \n",
      "Learning rate: 1.7817948013544083e-05\n",
      "Train loss: 0.5819 | Train precision: 0.7654 | Train recall: 0.7553 | Train f1score: 0.7602 | Train acc: 0.6928 | Train kappa: 0.4857 \n",
      "Val loss: 0.6093 | Val precision: 0.7468 | Val recall: 0.7288 | Val f1score: 0.7295 | Val acc: 0.6358 | Val kappa: 0.4359 \n",
      "\n",
      "Epoch: 16 \n",
      "Learning rate: 1.3363461010158063e-05\n",
      "Train loss: 0.5843 | Train precision: 0.7627 | Train recall: 0.7507 | Train f1score: 0.7565 | Train acc: 0.6915 | Train kappa: 0.4877 \n",
      "Val loss: 0.6144 | Val precision: 0.7623 | Val recall: 0.7146 | Val f1score: 0.7263 | Val acc: 0.6390 | Val kappa: 0.4356 \n",
      "\n",
      "Epoch: 17 \n",
      "Learning rate: 1.0022595757618546e-05\n",
      "Train loss: 0.5743 | Train precision: 0.7740 | Train recall: 0.7663 | Train f1score: 0.7699 | Train acc: 0.6994 | Train kappa: 0.4941 \n",
      "Val loss: 0.6182 | Val precision: 0.7625 | Val recall: 0.7234 | Val f1score: 0.7298 | Val acc: 0.6369 | Val kappa: 0.4345 \n",
      "\n",
      "Epoch: 18 \n",
      "Learning rate: 7.51694681821391e-06\n",
      "Train loss: 0.5741 | Train precision: 0.7621 | Train recall: 0.7639 | Train f1score: 0.7626 | Train acc: 0.6944 | Train kappa: 0.4875 \n",
      "Val loss: 0.6174 | Val precision: 0.7587 | Val recall: 0.7109 | Val f1score: 0.7226 | Val acc: 0.6336 | Val kappa: 0.4272 \n",
      "\n",
      "Epoch: 19 \n",
      "Learning rate: 5.637710113660432e-06\n",
      "Train loss: 0.5828 | Train precision: 0.7623 | Train recall: 0.7491 | Train f1score: 0.7554 | Train acc: 0.6903 | Train kappa: 0.4806 \n",
      "Val loss: 0.6132 | Val precision: 0.7632 | Val recall: 0.7245 | Val f1score: 0.7314 | Val acc: 0.6390 | Val kappa: 0.4377 \n",
      "\n",
      "Early stopping after epoch 19\n"
     ]
    },
    {
     "data": {
      "text/html": [
       "Waiting for W&B process to finish... <strong style=\"color:green\">(success).</strong>"
      ],
      "text/plain": [
       "<IPython.core.display.HTML object>"
      ]
     },
     "metadata": {},
     "output_type": "display_data"
    },
    {
     "data": {
      "application/vnd.jupyter.widget-view+json": {
       "model_id": "6869518a63504eb18274ac282ffa52c2",
       "version_major": 2,
       "version_minor": 0
      },
      "text/plain": [
       "VBox(children=(Label(value='0.001 MB of 0.011 MB uploaded (0.000 MB deduped)\\r'), FloatProgress(value=0.116612…"
      ]
     },
     "metadata": {},
     "output_type": "display_data"
    },
    {
     "data": {
      "text/html": [
       "<style>\n",
       "    table.wandb td:nth-child(1) { padding: 0 10px; text-align: left ; width: auto;} td:nth-child(2) {text-align: left ; width: 100%}\n",
       "    .wandb-row { display: flex; flex-direction: row; flex-wrap: wrap; justify-content: flex-start; width: 100% }\n",
       "    .wandb-col { display: flex; flex-direction: column; flex-basis: 100%; flex: 1; padding: 10px; }\n",
       "    </style>\n",
       "<div class=\"wandb-row\"><div class=\"wandb-col\"><h3>Run history:</h3><br/><table class=\"wandb\"><tr><td>learning_rate</td><td>█▆▅▄▃▃▂▂▂▁▁▁▁▁▁▁▁▁▁</td></tr><tr><td>train_f1_score</td><td>▁▄▆▆▆▆▇▇▇▇▇▇█▇█████</td></tr><tr><td>train_loss</td><td>█▅▄▄▃▃▂▂▂▂▂▂▁▁▁▁▁▁▁</td></tr><tr><td>val_f1_score</td><td>▁▅▆█▇▇█████████████</td></tr><tr><td>val_loss</td><td>█▅▂▂▂▂▁▂▁▂▁▁▂▁▁▂▂▂▁</td></tr></table><br/></div><div class=\"wandb-col\"><h3>Run summary:</h3><br/><table class=\"wandb\"><tr><td>learning_rate</td><td>1e-05</td></tr><tr><td>train_f1_score</td><td>0.75543</td></tr><tr><td>train_loss</td><td>0.58284</td></tr><tr><td>val_f1_score</td><td>0.73135</td></tr><tr><td>val_loss</td><td>0.61323</td></tr></table><br/></div></div>"
      ],
      "text/plain": [
       "<IPython.core.display.HTML object>"
      ]
     },
     "metadata": {},
     "output_type": "display_data"
    },
    {
     "data": {
      "text/html": [
       " View run <strong style=\"color:#cdcd00\">fold_2_RGB-NIR-3classes_health_plotsplit</strong> at: <a href='https://wandb.ai/simon-ecke/wze-uav-health-3classes/runs/5x5gm9jb' target=\"_blank\">https://wandb.ai/simon-ecke/wze-uav-health-3classes/runs/5x5gm9jb</a><br/>Synced 5 W&B file(s), 0 media file(s), 0 artifact file(s) and 0 other file(s)"
      ],
      "text/plain": [
       "<IPython.core.display.HTML object>"
      ]
     },
     "metadata": {},
     "output_type": "display_data"
    },
    {
     "data": {
      "text/html": [
       "Find logs at: <code>.\\wandb\\run-20230525_020245-5x5gm9jb\\logs</code>"
      ],
      "text/plain": [
       "<IPython.core.display.HTML object>"
      ]
     },
     "metadata": {},
     "output_type": "display_data"
    },
    {
     "name": "stdout",
     "output_type": "stream",
     "text": [
      "Deleting variables and emptying cache\n",
      "Memory allocated: 1053492224 bytes\n",
      "--------------------------------------------------\n",
      "\n",
      "Fold : 3\n",
      "TRAIN POSITIVE RATIO: 0.4569357177380377\n",
      "VAL POSITIVE RATIO  : 0.43753846153846154\n",
      "LENGTH TRAIN GROUPS : 155\n",
      "LENGTH VAL GROUPS   : 39\n"
     ]
    },
    {
     "data": {
      "text/html": [
       "wandb version 0.15.3 is available!  To upgrade, please run:\n",
       " $ pip install wandb --upgrade"
      ],
      "text/plain": [
       "<IPython.core.display.HTML object>"
      ]
     },
     "metadata": {},
     "output_type": "display_data"
    },
    {
     "data": {
      "text/html": [
       "Tracking run with wandb version 0.14.2"
      ],
      "text/plain": [
       "<IPython.core.display.HTML object>"
      ]
     },
     "metadata": {},
     "output_type": "display_data"
    },
    {
     "data": {
      "text/html": [
       "Run data is saved locally in <code>C:\\Users\\lwfeckesim\\01_PyTorch\\wze-uav\\wze-uav-master\\wandb\\run-20230525_033036-07hh6r7w</code>"
      ],
      "text/plain": [
       "<IPython.core.display.HTML object>"
      ]
     },
     "metadata": {},
     "output_type": "display_data"
    },
    {
     "data": {
      "text/html": [
       "Syncing run <strong><a href='https://wandb.ai/simon-ecke/wze-uav-health-3classes/runs/07hh6r7w' target=\"_blank\">fold_3_RGB-NIR-3classes_health_plotsplit</a></strong> to <a href='https://wandb.ai/simon-ecke/wze-uav-health-3classes' target=\"_blank\">Weights & Biases</a> (<a href='https://wandb.me/run' target=\"_blank\">docs</a>)<br/>"
      ],
      "text/plain": [
       "<IPython.core.display.HTML object>"
      ]
     },
     "metadata": {},
     "output_type": "display_data"
    },
    {
     "data": {
      "text/html": [
       " View project at <a href='https://wandb.ai/simon-ecke/wze-uav-health-3classes' target=\"_blank\">https://wandb.ai/simon-ecke/wze-uav-health-3classes</a>"
      ],
      "text/plain": [
       "<IPython.core.display.HTML object>"
      ]
     },
     "metadata": {},
     "output_type": "display_data"
    },
    {
     "data": {
      "text/html": [
       " View run at <a href='https://wandb.ai/simon-ecke/wze-uav-health-3classes/runs/07hh6r7w' target=\"_blank\">https://wandb.ai/simon-ecke/wze-uav-health-3classes/runs/07hh6r7w</a>"
      ],
      "text/plain": [
       "<IPython.core.display.HTML object>"
      ]
     },
     "metadata": {},
     "output_type": "display_data"
    },
    {
     "name": "stdout",
     "output_type": "stream",
     "text": [
      "There are no same hash_id values in train, val or test datasets. The datasplit was successful\n",
      "Check shapes:\n",
      "\n",
      "Images train dataset: (10345, 250, 250, 4)\n",
      "Labels train dataset: (10345, 1)\n",
      "\n",
      "Images validation dataset: (1213, 250, 250, 4)\n",
      "Labels validation dataset: (1213, 1)\n",
      "\n",
      "--------------------------------------------------\n",
      "Check if the split was stratified: (random_state=42)\n",
      "Healthy trees in train dataset: 5823\n",
      "Stressed trees in train dataset: 4317\n",
      "Dead trees in train dataset: 205\n",
      "Healthy trees in validation dataset: 673\n",
      "Stressed trees in validation dataset: 518\n",
      "Dead trees in validation dataset: 22\n",
      "--------------------------------------------------\n",
      "\n",
      "Creating datasets for fold: 3\n",
      "\n",
      "Creating dataloaders for fold: 3\n",
      "\n",
      "Loaded pretrained weights for efficientnet-b7\n",
      "\n",
      "[INFO] Fold number: 3\n",
      "[INFO] Number of epochs: 50\n",
      "[INFO] Batch_size: 32\n",
      "[INFO] Number of bands: 4\n",
      "[INFO] Dropout rate: 0.5\n",
      "[INFO] Gamma learning rate: 0.75\n",
      "[INFO] Memory allocated: 0 bytes\n"
     ]
    },
    {
     "data": {
      "application/vnd.jupyter.widget-view+json": {
       "model_id": "3174444a817347dbaae272cf3db78fde",
       "version_major": 2,
       "version_minor": 0
      },
      "text/plain": [
       "  0%|          | 0/50 [00:00<?, ?it/s]"
      ]
     },
     "metadata": {},
     "output_type": "display_data"
    },
    {
     "name": "stdout",
     "output_type": "stream",
     "text": [
      "Epoch: 1 \n",
      "Learning rate: 0.001\n",
      "Train loss: 0.7149 | Train precision: 0.6078 | Train recall: 0.5911 | Train f1score: 0.5988 | Train acc: 0.6001 | Train kappa: 0.3508 \n",
      "Val loss: 0.8446 | Val precision: 0.3261 | Val recall: 0.3353 | Val f1score: 0.2403 | Val acc: 0.5490 | Val kappa: 0.0255 \n",
      "\n",
      "Epoch: 2 \n",
      "Learning rate: 0.00075\n",
      "Train loss: 0.6425 | Train precision: 0.7046 | Train recall: 0.6915 | Train f1score: 0.6977 | Train acc: 0.6493 | Train kappa: 0.4435 \n",
      "Val loss: 0.6754 | Val precision: 0.7491 | Val recall: 0.5716 | Val f1score: 0.6200 | Val acc: 0.6292 | Val kappa: 0.3096 \n",
      "\n",
      "Epoch: 3 \n",
      "Learning rate: 0.0005625000000000001\n",
      "Train loss: 0.6198 | Train precision: 0.7288 | Train recall: 0.7265 | Train f1score: 0.7274 | Train acc: 0.6604 | Train kappa: 0.4691 \n",
      "Val loss: 0.6709 | Val precision: 0.7131 | Val recall: 0.6443 | Val f1score: 0.6724 | Val acc: 0.6030 | Val kappa: 0.2916 \n",
      "\n",
      "Epoch: 4 \n",
      "Learning rate: 0.000421875\n",
      "Train loss: 0.6089 | Train precision: 0.7476 | Train recall: 0.7409 | Train f1score: 0.7442 | Train acc: 0.6708 | Train kappa: 0.4939 \n",
      "Val loss: 0.6474 | Val precision: 0.7067 | Val recall: 0.7075 | Val f1score: 0.7067 | Val acc: 0.6351 | Val kappa: 0.3560 \n",
      "\n",
      "Epoch: 5 \n",
      "Learning rate: 0.00031640625\n",
      "Train loss: 0.5968 | Train precision: 0.7559 | Train recall: 0.7547 | Train f1score: 0.7549 | Train acc: 0.6830 | Train kappa: 0.5027 \n",
      "Val loss: 0.6361 | Val precision: 0.7540 | Val recall: 0.6513 | Val f1score: 0.6898 | Val acc: 0.6326 | Val kappa: 0.3451 \n",
      "\n",
      "Epoch: 6 \n",
      "Learning rate: 0.0002373046875\n",
      "Train loss: 0.5946 | Train precision: 0.7537 | Train recall: 0.7516 | Train f1score: 0.7522 | Train acc: 0.6772 | Train kappa: 0.4905 \n",
      "Val loss: 0.6647 | Val precision: 0.6310 | Val recall: 0.7255 | Val f1score: 0.6613 | Val acc: 0.6073 | Val kappa: 0.3261 \n",
      "\n",
      "Epoch: 7 \n",
      "Learning rate: 0.000177978515625\n",
      "Train loss: 0.5927 | Train precision: 0.7597 | Train recall: 0.7556 | Train f1score: 0.7567 | Train acc: 0.6903 | Train kappa: 0.5156 \n",
      "Val loss: 0.6620 | Val precision: 0.6707 | Val recall: 0.7337 | Val f1score: 0.6983 | Val acc: 0.6546 | Val kappa: 0.3953 \n",
      "\n",
      "Epoch: 8 \n",
      "Learning rate: 0.00013348388671875\n",
      "Train loss: 0.5795 | Train precision: 0.7641 | Train recall: 0.7629 | Train f1score: 0.7630 | Train acc: 0.6883 | Train kappa: 0.5097 \n",
      "Val loss: 0.6843 | Val precision: 0.7176 | Val recall: 0.7187 | Val f1score: 0.7160 | Val acc: 0.6470 | Val kappa: 0.3790 \n",
      "\n",
      "Epoch: 9 \n",
      "Learning rate: 0.0001001129150390625\n",
      "Train loss: 0.5731 | Train precision: 0.7736 | Train recall: 0.7724 | Train f1score: 0.7726 | Train acc: 0.6989 | Train kappa: 0.5317 \n",
      "Val loss: 0.6690 | Val precision: 0.6997 | Val recall: 0.7123 | Val f1score: 0.7058 | Val acc: 0.6444 | Val kappa: 0.3729 \n",
      "\n",
      "Epoch: 10 \n",
      "Learning rate: 7.508468627929687e-05\n",
      "Train loss: 0.5786 | Train precision: 0.7668 | Train recall: 0.7656 | Train f1score: 0.7658 | Train acc: 0.6965 | Train kappa: 0.5215 \n",
      "Val loss: 0.6510 | Val precision: 0.7432 | Val recall: 0.7162 | Val f1score: 0.7270 | Val acc: 0.6436 | Val kappa: 0.3736 \n",
      "\n",
      "Epoch: 11 \n",
      "Learning rate: 5.6313514709472656e-05\n",
      "Train loss: 0.5647 | Train precision: 0.7838 | Train recall: 0.7758 | Train f1score: 0.7794 | Train acc: 0.7053 | Train kappa: 0.5294 \n",
      "Val loss: 0.6411 | Val precision: 0.6887 | Val recall: 0.7345 | Val f1score: 0.7095 | Val acc: 0.6546 | Val kappa: 0.3878 \n",
      "\n",
      "Epoch: 12 \n",
      "Learning rate: 4.223513603210449e-05\n",
      "Train loss: 0.5615 | Train precision: 0.7816 | Train recall: 0.7784 | Train f1score: 0.7796 | Train acc: 0.7137 | Train kappa: 0.5550 \n",
      "Val loss: 0.6505 | Val precision: 0.6677 | Val recall: 0.7388 | Val f1score: 0.6982 | Val acc: 0.6613 | Val kappa: 0.4002 \n",
      "\n",
      "Epoch: 13 \n",
      "Learning rate: 3.167635202407837e-05\n",
      "Train loss: 0.5550 | Train precision: 0.7867 | Train recall: 0.7894 | Train f1score: 0.7879 | Train acc: 0.7129 | Train kappa: 0.5512 \n",
      "Val loss: 0.6556 | Val precision: 0.7224 | Val recall: 0.7364 | Val f1score: 0.7270 | Val acc: 0.6512 | Val kappa: 0.3839 \n",
      "\n",
      "Epoch: 14 \n",
      "Learning rate: 2.3757264018058778e-05\n",
      "Train loss: 0.5614 | Train precision: 0.7764 | Train recall: 0.7776 | Train f1score: 0.7768 | Train acc: 0.7062 | Train kappa: 0.5408 \n",
      "Val loss: 0.6432 | Val precision: 0.7123 | Val recall: 0.7362 | Val f1score: 0.7236 | Val acc: 0.6605 | Val kappa: 0.4013 \n",
      "\n",
      "Epoch: 15 \n",
      "Learning rate: 1.7817948013544083e-05\n",
      "Train loss: 0.5637 | Train precision: 0.7761 | Train recall: 0.7737 | Train f1score: 0.7746 | Train acc: 0.7050 | Train kappa: 0.5375 \n",
      "Val loss: 0.6613 | Val precision: 0.6878 | Val recall: 0.7341 | Val f1score: 0.7075 | Val acc: 0.6495 | Val kappa: 0.3902 \n",
      "\n",
      "Early stopping after epoch 15\n"
     ]
    },
    {
     "data": {
      "text/html": [
       "Waiting for W&B process to finish... <strong style=\"color:green\">(success).</strong>"
      ],
      "text/plain": [
       "<IPython.core.display.HTML object>"
      ]
     },
     "metadata": {},
     "output_type": "display_data"
    },
    {
     "data": {
      "application/vnd.jupyter.widget-view+json": {
       "model_id": "165f450771b14d829a3cf382f22d0cb5",
       "version_major": 2,
       "version_minor": 0
      },
      "text/plain": [
       "VBox(children=(Label(value='0.001 MB of 0.001 MB uploaded (0.000 MB deduped)\\r'), FloatProgress(value=1.0, max…"
      ]
     },
     "metadata": {},
     "output_type": "display_data"
    },
    {
     "data": {
      "text/html": [
       "<style>\n",
       "    table.wandb td:nth-child(1) { padding: 0 10px; text-align: left ; width: auto;} td:nth-child(2) {text-align: left ; width: 100%}\n",
       "    .wandb-row { display: flex; flex-direction: row; flex-wrap: wrap; justify-content: flex-start; width: 100% }\n",
       "    .wandb-col { display: flex; flex-direction: column; flex-basis: 100%; flex: 1; padding: 10px; }\n",
       "    </style>\n",
       "<div class=\"wandb-row\"><div class=\"wandb-col\"><h3>Run history:</h3><br/><table class=\"wandb\"><tr><td>learning_rate</td><td>█▆▅▄▃▃▂▂▂▁▁▁▁▁▁</td></tr><tr><td>train_f1_score</td><td>▁▅▆▆▇▇▇▇▇▇█████</td></tr><tr><td>train_loss</td><td>█▅▄▃▃▃▃▂▂▂▁▁▁▁▁</td></tr><tr><td>val_f1_score</td><td>▁▆▇█▇▇█████████</td></tr><tr><td>val_loss</td><td>█▂▂▁▁▂▂▃▂▁▁▁▂▁▂</td></tr></table><br/></div><div class=\"wandb-col\"><h3>Run summary:</h3><br/><table class=\"wandb\"><tr><td>learning_rate</td><td>2e-05</td></tr><tr><td>train_f1_score</td><td>0.77462</td></tr><tr><td>train_loss</td><td>0.5637</td></tr><tr><td>val_f1_score</td><td>0.70748</td></tr><tr><td>val_loss</td><td>0.66134</td></tr></table><br/></div></div>"
      ],
      "text/plain": [
       "<IPython.core.display.HTML object>"
      ]
     },
     "metadata": {},
     "output_type": "display_data"
    },
    {
     "data": {
      "text/html": [
       " View run <strong style=\"color:#cdcd00\">fold_3_RGB-NIR-3classes_health_plotsplit</strong> at: <a href='https://wandb.ai/simon-ecke/wze-uav-health-3classes/runs/07hh6r7w' target=\"_blank\">https://wandb.ai/simon-ecke/wze-uav-health-3classes/runs/07hh6r7w</a><br/>Synced 5 W&B file(s), 0 media file(s), 0 artifact file(s) and 0 other file(s)"
      ],
      "text/plain": [
       "<IPython.core.display.HTML object>"
      ]
     },
     "metadata": {},
     "output_type": "display_data"
    },
    {
     "data": {
      "text/html": [
       "Find logs at: <code>.\\wandb\\run-20230525_033036-07hh6r7w\\logs</code>"
      ],
      "text/plain": [
       "<IPython.core.display.HTML object>"
      ]
     },
     "metadata": {},
     "output_type": "display_data"
    },
    {
     "name": "stdout",
     "output_type": "stream",
     "text": [
      "Deleting variables and emptying cache\n",
      "Memory allocated: 1055169536 bytes\n",
      "--------------------------------------------------\n",
      "\n",
      "Fold : 4\n",
      "TRAIN POSITIVE RATIO: 0.4568810636004312\n",
      "VAL POSITIVE RATIO  : 0.43158749492488835\n",
      "LENGTH TRAIN GROUPS : 155\n",
      "LENGTH VAL GROUPS   : 39\n"
     ]
    },
    {
     "data": {
      "text/html": [
       "wandb version 0.15.3 is available!  To upgrade, please run:\n",
       " $ pip install wandb --upgrade"
      ],
      "text/plain": [
       "<IPython.core.display.HTML object>"
      ]
     },
     "metadata": {},
     "output_type": "display_data"
    },
    {
     "data": {
      "text/html": [
       "Tracking run with wandb version 0.14.2"
      ],
      "text/plain": [
       "<IPython.core.display.HTML object>"
      ]
     },
     "metadata": {},
     "output_type": "display_data"
    },
    {
     "data": {
      "text/html": [
       "Run data is saved locally in <code>C:\\Users\\lwfeckesim\\01_PyTorch\\wze-uav\\wze-uav-master\\wandb\\run-20230525_043729-f4fx22yt</code>"
      ],
      "text/plain": [
       "<IPython.core.display.HTML object>"
      ]
     },
     "metadata": {},
     "output_type": "display_data"
    },
    {
     "data": {
      "text/html": [
       "Syncing run <strong><a href='https://wandb.ai/simon-ecke/wze-uav-health-3classes/runs/f4fx22yt' target=\"_blank\">fold_4_RGB-NIR-3classes_health_plotsplit</a></strong> to <a href='https://wandb.ai/simon-ecke/wze-uav-health-3classes' target=\"_blank\">Weights & Biases</a> (<a href='https://wandb.me/run' target=\"_blank\">docs</a>)<br/>"
      ],
      "text/plain": [
       "<IPython.core.display.HTML object>"
      ]
     },
     "metadata": {},
     "output_type": "display_data"
    },
    {
     "data": {
      "text/html": [
       " View project at <a href='https://wandb.ai/simon-ecke/wze-uav-health-3classes' target=\"_blank\">https://wandb.ai/simon-ecke/wze-uav-health-3classes</a>"
      ],
      "text/plain": [
       "<IPython.core.display.HTML object>"
      ]
     },
     "metadata": {},
     "output_type": "display_data"
    },
    {
     "data": {
      "text/html": [
       " View run at <a href='https://wandb.ai/simon-ecke/wze-uav-health-3classes/runs/f4fx22yt' target=\"_blank\">https://wandb.ai/simon-ecke/wze-uav-health-3classes/runs/f4fx22yt</a>"
      ],
      "text/plain": [
       "<IPython.core.display.HTML object>"
      ]
     },
     "metadata": {},
     "output_type": "display_data"
    },
    {
     "name": "stdout",
     "output_type": "stream",
     "text": [
      "There are no same hash_id values in train, val or test datasets. The datasplit was successful\n",
      "Check shapes:\n",
      "\n",
      "Images train dataset: (11132, 250, 250, 4)\n",
      "Labels train dataset: (11132, 1)\n",
      "\n",
      "Images validation dataset: (877, 250, 250, 4)\n",
      "Labels validation dataset: (877, 1)\n",
      "\n",
      "--------------------------------------------------\n",
      "Check if the split was stratified: (random_state=42)\n",
      "Healthy trees in train dataset: 6259\n",
      "Stressed trees in train dataset: 4660\n",
      "Dead trees in train dataset: 213\n",
      "Healthy trees in validation dataset: 533\n",
      "Stressed trees in validation dataset: 332\n",
      "Dead trees in validation dataset: 12\n",
      "--------------------------------------------------\n",
      "\n",
      "Creating datasets for fold: 4\n",
      "\n",
      "Creating dataloaders for fold: 4\n",
      "\n",
      "Loaded pretrained weights for efficientnet-b7\n",
      "\n",
      "[INFO] Fold number: 4\n",
      "[INFO] Number of epochs: 50\n",
      "[INFO] Batch_size: 32\n",
      "[INFO] Number of bands: 4\n",
      "[INFO] Dropout rate: 0.5\n",
      "[INFO] Gamma learning rate: 0.75\n",
      "[INFO] Memory allocated: 0 bytes\n"
     ]
    },
    {
     "data": {
      "application/vnd.jupyter.widget-view+json": {
       "model_id": "379f14f2611e4aaaab84ea782f1964a0",
       "version_major": 2,
       "version_minor": 0
      },
      "text/plain": [
       "  0%|          | 0/50 [00:00<?, ?it/s]"
      ]
     },
     "metadata": {},
     "output_type": "display_data"
    },
    {
     "name": "stdout",
     "output_type": "stream",
     "text": [
      "Epoch: 1 \n",
      "Learning rate: 0.001\n",
      "Train loss: 0.7370 | Train precision: 0.6089 | Train recall: 0.5718 | Train f1score: 0.5882 | Train acc: 0.5754 | Train kappa: 0.2904 \n",
      "Val loss: 0.6737 | Val precision: 0.8259 | Val recall: 0.5347 | Val f1score: 0.5682 | Val acc: 0.6759 | Val kappa: 0.3036 \n",
      "\n",
      "Epoch: 2 \n",
      "Learning rate: 0.00075\n",
      "Train loss: 0.6554 | Train precision: 0.6969 | Train recall: 0.6934 | Train f1score: 0.6949 | Train acc: 0.6347 | Train kappa: 0.4153 \n",
      "Val loss: 0.6591 | Val precision: 0.7042 | Val recall: 0.6495 | Val f1score: 0.6725 | Val acc: 0.6354 | Val kappa: 0.2966 \n",
      "\n",
      "Epoch: 3 \n",
      "Learning rate: 0.0005625000000000001\n",
      "Train loss: 0.6312 | Train precision: 0.7268 | Train recall: 0.7224 | Train f1score: 0.7243 | Train acc: 0.6544 | Train kappa: 0.4518 \n",
      "Val loss: 0.7313 | Val precision: 0.7346 | Val recall: 0.6436 | Val f1score: 0.6420 | Val acc: 0.5428 | Val kappa: 0.2162 \n",
      "\n",
      "Epoch: 4 \n",
      "Learning rate: 0.000421875\n",
      "Train loss: 0.6160 | Train precision: 0.7380 | Train recall: 0.7309 | Train f1score: 0.7342 | Train acc: 0.6642 | Train kappa: 0.4678 \n",
      "Val loss: 0.7225 | Val precision: 0.6390 | Val recall: 0.6573 | Val f1score: 0.6225 | Val acc: 0.5382 | Val kappa: 0.2076 \n",
      "\n",
      "Epoch: 5 \n",
      "Learning rate: 0.00031640625\n",
      "Train loss: 0.6085 | Train precision: 0.7515 | Train recall: 0.7459 | Train f1score: 0.7487 | Train acc: 0.6735 | Train kappa: 0.4907 \n",
      "Val loss: 0.6318 | Val precision: 0.7363 | Val recall: 0.6799 | Val f1score: 0.6877 | Val acc: 0.6655 | Val kappa: 0.3244 \n",
      "\n",
      "Epoch: 6 \n",
      "Learning rate: 0.0002373046875\n",
      "Train loss: 0.6015 | Train precision: 0.7487 | Train recall: 0.7412 | Train f1score: 0.7448 | Train acc: 0.6713 | Train kappa: 0.4868 \n",
      "Val loss: 0.6877 | Val precision: 0.6378 | Val recall: 0.6792 | Val f1score: 0.6476 | Val acc: 0.5914 | Val kappa: 0.2733 \n",
      "\n",
      "Epoch: 7 \n",
      "Learning rate: 0.000177978515625\n",
      "Train loss: 0.6022 | Train precision: 0.7537 | Train recall: 0.7461 | Train f1score: 0.7497 | Train acc: 0.6717 | Train kappa: 0.4822 \n",
      "Val loss: 0.6485 | Val precision: 0.7413 | Val recall: 0.6877 | Val f1score: 0.7119 | Val acc: 0.6331 | Val kappa: 0.3042 \n",
      "\n",
      "Epoch: 8 \n",
      "Learning rate: 0.00013348388671875\n",
      "Train loss: 0.5994 | Train precision: 0.7591 | Train recall: 0.7424 | Train f1score: 0.7504 | Train acc: 0.6782 | Train kappa: 0.4956 \n",
      "Val loss: 0.6458 | Val precision: 0.7147 | Val recall: 0.6923 | Val f1score: 0.7023 | Val acc: 0.6343 | Val kappa: 0.3219 \n",
      "\n",
      "Epoch: 9 \n",
      "Learning rate: 0.0001001129150390625\n",
      "Train loss: 0.5882 | Train precision: 0.7679 | Train recall: 0.7590 | Train f1score: 0.7634 | Train acc: 0.6858 | Train kappa: 0.5050 \n",
      "Val loss: 0.6940 | Val precision: 0.7153 | Val recall: 0.6927 | Val f1score: 0.6898 | Val acc: 0.6042 | Val kappa: 0.2981 \n",
      "\n",
      "Epoch: 10 \n",
      "Learning rate: 7.508468627929687e-05\n",
      "Train loss: 0.5852 | Train precision: 0.7684 | Train recall: 0.7559 | Train f1score: 0.7620 | Train acc: 0.6843 | Train kappa: 0.5045 \n",
      "Val loss: 0.6407 | Val precision: 0.7145 | Val recall: 0.6920 | Val f1score: 0.7020 | Val acc: 0.6343 | Val kappa: 0.3214 \n",
      "\n",
      "Epoch: 11 \n",
      "Learning rate: 5.6313514709472656e-05\n",
      "Train loss: 0.5848 | Train precision: 0.7649 | Train recall: 0.7575 | Train f1score: 0.7610 | Train acc: 0.6880 | Train kappa: 0.5083 \n",
      "Val loss: 0.6555 | Val precision: 0.7170 | Val recall: 0.6946 | Val f1score: 0.7046 | Val acc: 0.6377 | Val kappa: 0.3280 \n",
      "\n",
      "Epoch: 12 \n",
      "Learning rate: 4.223513603210449e-05\n",
      "Train loss: 0.5808 | Train precision: 0.7646 | Train recall: 0.7631 | Train f1score: 0.7638 | Train acc: 0.6885 | Train kappa: 0.5121 \n",
      "Val loss: 0.6548 | Val precision: 0.7078 | Val recall: 0.6846 | Val f1score: 0.6953 | Val acc: 0.6262 | Val kappa: 0.3042 \n",
      "\n",
      "Epoch: 13 \n",
      "Learning rate: 3.167635202407837e-05\n",
      "Train loss: 0.5786 | Train precision: 0.7701 | Train recall: 0.7679 | Train f1score: 0.7690 | Train acc: 0.6916 | Train kappa: 0.5193 \n",
      "Val loss: 0.6443 | Val precision: 0.7239 | Val recall: 0.6990 | Val f1score: 0.7109 | Val acc: 0.6528 | Val kappa: 0.3471 \n",
      "\n",
      "Epoch: 14 \n",
      "Learning rate: 2.3757264018058778e-05\n",
      "Train loss: 0.5804 | Train precision: 0.7732 | Train recall: 0.7573 | Train f1score: 0.7650 | Train acc: 0.6951 | Train kappa: 0.5147 \n",
      "Val loss: 0.6812 | Val precision: 0.7116 | Val recall: 0.6896 | Val f1score: 0.6886 | Val acc: 0.6030 | Val kappa: 0.2928 \n",
      "\n",
      "Epoch: 15 \n",
      "Learning rate: 1.7817948013544083e-05\n",
      "Train loss: 0.5810 | Train precision: 0.7698 | Train recall: 0.7613 | Train f1score: 0.7653 | Train acc: 0.6895 | Train kappa: 0.5161 \n",
      "Val loss: 0.6600 | Val precision: 0.7183 | Val recall: 0.6977 | Val f1score: 0.7021 | Val acc: 0.6262 | Val kappa: 0.3225 \n",
      "\n",
      "Early stopping after epoch 15\n"
     ]
    },
    {
     "data": {
      "text/html": [
       "Waiting for W&B process to finish... <strong style=\"color:green\">(success).</strong>"
      ],
      "text/plain": [
       "<IPython.core.display.HTML object>"
      ]
     },
     "metadata": {},
     "output_type": "display_data"
    },
    {
     "data": {
      "text/html": [
       "<style>\n",
       "    table.wandb td:nth-child(1) { padding: 0 10px; text-align: left ; width: auto;} td:nth-child(2) {text-align: left ; width: 100%}\n",
       "    .wandb-row { display: flex; flex-direction: row; flex-wrap: wrap; justify-content: flex-start; width: 100% }\n",
       "    .wandb-col { display: flex; flex-direction: column; flex-basis: 100%; flex: 1; padding: 10px; }\n",
       "    </style>\n",
       "<div class=\"wandb-row\"><div class=\"wandb-col\"><h3>Run history:</h3><br/><table class=\"wandb\"><tr><td>learning_rate</td><td>█▆▅▄▃▃▂▂▂▁▁▁▁▁▁</td></tr><tr><td>train_f1_score</td><td>▁▅▆▇▇▇▇▇███████</td></tr><tr><td>train_loss</td><td>█▄▃▃▂▂▂▂▁▁▁▁▁▁▁</td></tr><tr><td>val_f1_score</td><td>▁▆▅▄▇▅██▇██▇█▇█</td></tr><tr><td>val_loss</td><td>▄▃█▇▁▅▂▂▅▂▃▃▂▄▃</td></tr></table><br/></div><div class=\"wandb-col\"><h3>Run summary:</h3><br/><table class=\"wandb\"><tr><td>learning_rate</td><td>2e-05</td></tr><tr><td>train_f1_score</td><td>0.76528</td></tr><tr><td>train_loss</td><td>0.58101</td></tr><tr><td>val_f1_score</td><td>0.70207</td></tr><tr><td>val_loss</td><td>0.66002</td></tr></table><br/></div></div>"
      ],
      "text/plain": [
       "<IPython.core.display.HTML object>"
      ]
     },
     "metadata": {},
     "output_type": "display_data"
    },
    {
     "data": {
      "text/html": [
       " View run <strong style=\"color:#cdcd00\">fold_4_RGB-NIR-3classes_health_plotsplit</strong> at: <a href='https://wandb.ai/simon-ecke/wze-uav-health-3classes/runs/f4fx22yt' target=\"_blank\">https://wandb.ai/simon-ecke/wze-uav-health-3classes/runs/f4fx22yt</a><br/>Synced 5 W&B file(s), 0 media file(s), 0 artifact file(s) and 0 other file(s)"
      ],
      "text/plain": [
       "<IPython.core.display.HTML object>"
      ]
     },
     "metadata": {},
     "output_type": "display_data"
    },
    {
     "data": {
      "text/html": [
       "Find logs at: <code>.\\wandb\\run-20230525_043729-f4fx22yt\\logs</code>"
      ],
      "text/plain": [
       "<IPython.core.display.HTML object>"
      ]
     },
     "metadata": {},
     "output_type": "display_data"
    },
    {
     "name": "stdout",
     "output_type": "stream",
     "text": [
      "Deleting variables and emptying cache\n",
      "Memory allocated: 1056959488 bytes\n",
      "--------------------------------------------------\n",
      "\n",
      "Fold : 5\n",
      "TRAIN POSITIVE RATIO: 0.4494402812471089\n",
      "VAL POSITIVE RATIO  : 0.4633883704235463\n",
      "LENGTH TRAIN GROUPS : 154\n",
      "LENGTH VAL GROUPS   : 40\n"
     ]
    },
    {
     "data": {
      "text/html": [
       "wandb version 0.15.3 is available!  To upgrade, please run:\n",
       " $ pip install wandb --upgrade"
      ],
      "text/plain": [
       "<IPython.core.display.HTML object>"
      ]
     },
     "metadata": {},
     "output_type": "display_data"
    },
    {
     "data": {
      "text/html": [
       "Tracking run with wandb version 0.14.2"
      ],
      "text/plain": [
       "<IPython.core.display.HTML object>"
      ]
     },
     "metadata": {},
     "output_type": "display_data"
    },
    {
     "data": {
      "text/html": [
       "Run data is saved locally in <code>C:\\Users\\lwfeckesim\\01_PyTorch\\wze-uav\\wze-uav-master\\wandb\\run-20230525_054828-s5ydqk1a</code>"
      ],
      "text/plain": [
       "<IPython.core.display.HTML object>"
      ]
     },
     "metadata": {},
     "output_type": "display_data"
    },
    {
     "data": {
      "text/html": [
       "Syncing run <strong><a href='https://wandb.ai/simon-ecke/wze-uav-health-3classes/runs/s5ydqk1a' target=\"_blank\">fold_5_RGB-NIR-3classes_health_plotsplit</a></strong> to <a href='https://wandb.ai/simon-ecke/wze-uav-health-3classes' target=\"_blank\">Weights & Biases</a> (<a href='https://wandb.me/run' target=\"_blank\">docs</a>)<br/>"
      ],
      "text/plain": [
       "<IPython.core.display.HTML object>"
      ]
     },
     "metadata": {},
     "output_type": "display_data"
    },
    {
     "data": {
      "text/html": [
       " View project at <a href='https://wandb.ai/simon-ecke/wze-uav-health-3classes' target=\"_blank\">https://wandb.ai/simon-ecke/wze-uav-health-3classes</a>"
      ],
      "text/plain": [
       "<IPython.core.display.HTML object>"
      ]
     },
     "metadata": {},
     "output_type": "display_data"
    },
    {
     "data": {
      "text/html": [
       " View run at <a href='https://wandb.ai/simon-ecke/wze-uav-health-3classes/runs/s5ydqk1a' target=\"_blank\">https://wandb.ai/simon-ecke/wze-uav-health-3classes/runs/s5ydqk1a</a>"
      ],
      "text/plain": [
       "<IPython.core.display.HTML object>"
      ]
     },
     "metadata": {},
     "output_type": "display_data"
    },
    {
     "name": "stdout",
     "output_type": "stream",
     "text": [
      "There are no same hash_id values in train, val or test datasets. The datasplit was successful\n",
      "Check shapes:\n",
      "\n",
      "Images train dataset: (10809, 250, 250, 4)\n",
      "Labels train dataset: (10809, 1)\n",
      "\n",
      "Images validation dataset: (1040, 250, 250, 4)\n",
      "Labels validation dataset: (1040, 1)\n",
      "\n",
      "--------------------------------------------------\n",
      "Check if the split was stratified: (random_state=42)\n",
      "Healthy trees in train dataset: 6150\n",
      "Stressed trees in train dataset: 4460\n",
      "Dead trees in train dataset: 199\n",
      "Healthy trees in validation dataset: 586\n",
      "Stressed trees in validation dataset: 436\n",
      "Dead trees in validation dataset: 18\n",
      "--------------------------------------------------\n",
      "\n",
      "Creating datasets for fold: 5\n",
      "\n",
      "Creating dataloaders for fold: 5\n",
      "\n",
      "Loaded pretrained weights for efficientnet-b7\n",
      "\n",
      "[INFO] Fold number: 5\n",
      "[INFO] Number of epochs: 50\n",
      "[INFO] Batch_size: 32\n",
      "[INFO] Number of bands: 4\n",
      "[INFO] Dropout rate: 0.5\n",
      "[INFO] Gamma learning rate: 0.75\n",
      "[INFO] Memory allocated: 0 bytes\n"
     ]
    },
    {
     "data": {
      "application/vnd.jupyter.widget-view+json": {
       "model_id": "964a8b1cda80480b867d8b0f9e35fa4f",
       "version_major": 2,
       "version_minor": 0
      },
      "text/plain": [
       "  0%|          | 0/50 [00:00<?, ?it/s]"
      ]
     },
     "metadata": {},
     "output_type": "display_data"
    },
    {
     "name": "stdout",
     "output_type": "stream",
     "text": [
      "Epoch: 1 \n",
      "Learning rate: 0.001\n",
      "Train loss: 0.7346 | Train precision: 0.5894 | Train recall: 0.5731 | Train f1score: 0.5804 | Train acc: 0.5784 | Train kappa: 0.2928 \n",
      "Val loss: 0.8116 | Val precision: 0.4532 | Val recall: 0.3920 | Val f1score: 0.2853 | Val acc: 0.4297 | Val kappa: 0.0081 \n",
      "\n",
      "Epoch: 2 \n",
      "Learning rate: 0.00075\n",
      "Train loss: 0.6587 | Train precision: 0.6920 | Train recall: 0.6794 | Train f1score: 0.6843 | Train acc: 0.6327 | Train kappa: 0.4095 \n",
      "Val loss: 1.0399 | Val precision: 0.6684 | Val recall: 0.5435 | Val f1score: 0.4030 | Val acc: 0.4297 | Val kappa: 0.0693 \n",
      "\n",
      "Epoch: 3 \n",
      "Learning rate: 0.0005625000000000001\n",
      "Train loss: 0.6404 | Train precision: 0.7162 | Train recall: 0.7031 | Train f1score: 0.7084 | Train acc: 0.6432 | Train kappa: 0.4205 \n",
      "Val loss: 0.7276 | Val precision: 0.6797 | Val recall: 0.5801 | Val f1score: 0.5000 | Val acc: 0.4922 | Val kappa: 0.1496 \n",
      "\n",
      "Epoch: 4 \n",
      "Learning rate: 0.000421875\n",
      "Train loss: 0.6258 | Train precision: 0.7254 | Train recall: 0.7194 | Train f1score: 0.7219 | Train acc: 0.6534 | Train kappa: 0.4479 \n",
      "Val loss: 0.6566 | Val precision: 0.5510 | Val recall: 0.7289 | Val f1score: 0.5930 | Val acc: 0.6455 | Val kappa: 0.3952 \n",
      "\n",
      "Epoch: 5 \n",
      "Learning rate: 0.00031640625\n",
      "Train loss: 0.6168 | Train precision: 0.7370 | Train recall: 0.7264 | Train f1score: 0.7315 | Train acc: 0.6617 | Train kappa: 0.4635 \n",
      "Val loss: 0.6270 | Val precision: 0.7144 | Val recall: 0.7154 | Val f1score: 0.7099 | Val acc: 0.6562 | Val kappa: 0.3935 \n",
      "\n",
      "Epoch: 6 \n",
      "Learning rate: 0.0002373046875\n",
      "Train loss: 0.6135 | Train precision: 0.7335 | Train recall: 0.7282 | Train f1score: 0.7308 | Train acc: 0.6559 | Train kappa: 0.4525 \n",
      "Val loss: 0.6510 | Val precision: 0.6506 | Val recall: 0.7481 | Val f1score: 0.6701 | Val acc: 0.6367 | Val kappa: 0.3825 \n",
      "\n",
      "Epoch: 7 \n",
      "Learning rate: 0.000177978515625\n",
      "Train loss: 0.5907 | Train precision: 0.7607 | Train recall: 0.7577 | Train f1score: 0.7587 | Train acc: 0.6806 | Train kappa: 0.4862 \n",
      "Val loss: 0.6063 | Val precision: 0.7226 | Val recall: 0.7142 | Val f1score: 0.7149 | Val acc: 0.6797 | Val kappa: 0.4189 \n",
      "\n",
      "Epoch: 8 \n",
      "Learning rate: 0.00013348388671875\n",
      "Train loss: 0.6026 | Train precision: 0.7501 | Train recall: 0.7436 | Train f1score: 0.7467 | Train acc: 0.6713 | Train kappa: 0.4678 \n",
      "Val loss: 0.6338 | Val precision: 0.6880 | Val recall: 0.7395 | Val f1score: 0.6988 | Val acc: 0.6562 | Val kappa: 0.4018 \n",
      "\n",
      "Epoch: 9 \n",
      "Learning rate: 0.0001001129150390625\n",
      "Train loss: 0.5897 | Train precision: 0.7581 | Train recall: 0.7516 | Train f1score: 0.7545 | Train acc: 0.6797 | Train kappa: 0.4870 \n",
      "Val loss: 0.6238 | Val precision: 0.7172 | Val recall: 0.7282 | Val f1score: 0.7070 | Val acc: 0.6367 | Val kappa: 0.3739 \n",
      "\n",
      "Epoch: 10 \n",
      "Learning rate: 7.508468627929687e-05\n",
      "Train loss: 0.5906 | Train precision: 0.7629 | Train recall: 0.7604 | Train f1score: 0.7608 | Train acc: 0.6801 | Train kappa: 0.4817 \n",
      "Val loss: 0.6038 | Val precision: 0.7176 | Val recall: 0.7350 | Val f1score: 0.7254 | Val acc: 0.6660 | Val kappa: 0.4124 \n",
      "\n",
      "Epoch: 11 \n",
      "Learning rate: 5.6313514709472656e-05\n",
      "Train loss: 0.5849 | Train precision: 0.7612 | Train recall: 0.7459 | Train f1score: 0.7531 | Train acc: 0.6787 | Train kappa: 0.4874 \n",
      "Val loss: 0.6265 | Val precision: 0.6889 | Val recall: 0.7289 | Val f1score: 0.6951 | Val acc: 0.6406 | Val kappa: 0.3781 \n",
      "\n",
      "Epoch: 12 \n",
      "Learning rate: 4.223513603210449e-05\n",
      "Train loss: 0.5821 | Train precision: 0.7554 | Train recall: 0.7489 | Train f1score: 0.7521 | Train acc: 0.6820 | Train kappa: 0.4969 \n",
      "Val loss: 0.6093 | Val precision: 0.7162 | Val recall: 0.7338 | Val f1score: 0.7233 | Val acc: 0.6621 | Val kappa: 0.4068 \n",
      "\n",
      "Epoch: 13 \n",
      "Learning rate: 3.167635202407837e-05\n",
      "Train loss: 0.5820 | Train precision: 0.7664 | Train recall: 0.7564 | Train f1score: 0.7609 | Train acc: 0.6843 | Train kappa: 0.4898 \n",
      "Val loss: 0.6183 | Val precision: 0.6784 | Val recall: 0.7326 | Val f1score: 0.6956 | Val acc: 0.6514 | Val kappa: 0.3953 \n",
      "\n",
      "Epoch: 14 \n",
      "Learning rate: 2.3757264018058778e-05\n",
      "Train loss: 0.5781 | Train precision: 0.7635 | Train recall: 0.7612 | Train f1score: 0.7622 | Train acc: 0.6851 | Train kappa: 0.5025 \n",
      "Val loss: 0.6021 | Val precision: 0.7180 | Val recall: 0.7351 | Val f1score: 0.7260 | Val acc: 0.6680 | Val kappa: 0.4147 \n",
      "\n",
      "Epoch: 15 \n",
      "Learning rate: 1.7817948013544083e-05\n",
      "Train loss: 0.5758 | Train precision: 0.7700 | Train recall: 0.7596 | Train f1score: 0.7643 | Train acc: 0.6939 | Train kappa: 0.5038 \n",
      "Val loss: 0.6061 | Val precision: 0.7219 | Val recall: 0.7396 | Val f1score: 0.7292 | Val acc: 0.6709 | Val kappa: 0.4220 \n",
      "\n",
      "Epoch: 16 \n",
      "Learning rate: 1.3363461010158063e-05\n",
      "Train loss: 0.5703 | Train precision: 0.7714 | Train recall: 0.7610 | Train f1score: 0.7657 | Train acc: 0.6959 | Train kappa: 0.5108 \n",
      "Val loss: 0.6095 | Val precision: 0.7201 | Val recall: 0.7377 | Val f1score: 0.7265 | Val acc: 0.6660 | Val kappa: 0.4148 \n",
      "\n",
      "Epoch: 17 \n",
      "Learning rate: 1.0022595757618546e-05\n",
      "Train loss: 0.5700 | Train precision: 0.7779 | Train recall: 0.7714 | Train f1score: 0.7746 | Train acc: 0.6971 | Train kappa: 0.5268 \n",
      "Val loss: 0.6069 | Val precision: 0.6893 | Val recall: 0.7335 | Val f1score: 0.7089 | Val acc: 0.6641 | Val kappa: 0.4131 \n",
      "\n",
      "Epoch: 18 \n",
      "Learning rate: 7.51694681821391e-06\n",
      "Train loss: 0.5771 | Train precision: 0.7648 | Train recall: 0.7583 | Train f1score: 0.7613 | Train acc: 0.6851 | Train kappa: 0.4934 \n",
      "Val loss: 0.6069 | Val precision: 0.7036 | Val recall: 0.7352 | Val f1score: 0.7177 | Val acc: 0.6660 | Val kappa: 0.4147 \n",
      "\n",
      "Epoch: 19 \n",
      "Learning rate: 5.637710113660432e-06\n",
      "Train loss: 0.5702 | Train precision: 0.7748 | Train recall: 0.7684 | Train f1score: 0.7714 | Train acc: 0.6983 | Train kappa: 0.5172 \n",
      "Val loss: 0.6076 | Val precision: 0.7035 | Val recall: 0.7349 | Val f1score: 0.7179 | Val acc: 0.6670 | Val kappa: 0.4155 \n",
      "\n",
      "Epoch: 20 \n",
      "Learning rate: 4.228282585245324e-06\n",
      "Train loss: 0.5680 | Train precision: 0.7747 | Train recall: 0.7659 | Train f1score: 0.7701 | Train acc: 0.6914 | Train kappa: 0.5077 \n",
      "Val loss: 0.6094 | Val precision: 0.7024 | Val recall: 0.7339 | Val f1score: 0.7167 | Val acc: 0.6650 | Val kappa: 0.4124 \n",
      "\n",
      "Epoch: 21 \n",
      "Learning rate: 3.1712119389339933e-06\n",
      "Train loss: 0.5739 | Train precision: 0.7634 | Train recall: 0.7608 | Train f1score: 0.7620 | Train acc: 0.6862 | Train kappa: 0.4921 \n",
      "Val loss: 0.6082 | Val precision: 0.7063 | Val recall: 0.7377 | Val f1score: 0.7207 | Val acc: 0.6709 | Val kappa: 0.4225 \n",
      "\n",
      "Epoch: 22 \n",
      "Learning rate: 2.378408954200495e-06\n",
      "Train loss: 0.5720 | Train precision: 0.7745 | Train recall: 0.7650 | Train f1score: 0.7696 | Train acc: 0.6936 | Train kappa: 0.5114 \n",
      "Val loss: 0.6088 | Val precision: 0.7036 | Val recall: 0.7352 | Val f1score: 0.7177 | Val acc: 0.6660 | Val kappa: 0.4147 \n",
      "\n",
      "Epoch: 23 \n",
      "Learning rate: 1.7838067156503713e-06\n",
      "Train loss: 0.5677 | Train precision: 0.7800 | Train recall: 0.7699 | Train f1score: 0.7747 | Train acc: 0.7029 | Train kappa: 0.5364 \n",
      "Val loss: 0.6093 | Val precision: 0.7175 | Val recall: 0.7350 | Val f1score: 0.7250 | Val acc: 0.6650 | Val kappa: 0.4112 \n",
      "\n",
      "Epoch: 24 \n",
      "Learning rate: 1.3378550367377785e-06\n",
      "Train loss: 0.5730 | Train precision: 0.7739 | Train recall: 0.7672 | Train f1score: 0.7702 | Train acc: 0.6929 | Train kappa: 0.5157 \n",
      "Val loss: 0.6107 | Val precision: 0.7039 | Val recall: 0.7356 | Val f1score: 0.7179 | Val acc: 0.6660 | Val kappa: 0.4150 \n",
      "\n",
      "Early stopping after epoch 24\n"
     ]
    },
    {
     "data": {
      "text/html": [
       "Waiting for W&B process to finish... <strong style=\"color:green\">(success).</strong>"
      ],
      "text/plain": [
       "<IPython.core.display.HTML object>"
      ]
     },
     "metadata": {},
     "output_type": "display_data"
    },
    {
     "data": {
      "application/vnd.jupyter.widget-view+json": {
       "model_id": "280a932b0efd4b658005a59f2673d8b8",
       "version_major": 2,
       "version_minor": 0
      },
      "text/plain": [
       "VBox(children=(Label(value='0.001 MB of 0.001 MB uploaded (0.000 MB deduped)\\r'), FloatProgress(value=1.0, max…"
      ]
     },
     "metadata": {},
     "output_type": "display_data"
    },
    {
     "data": {
      "text/html": [
       "<style>\n",
       "    table.wandb td:nth-child(1) { padding: 0 10px; text-align: left ; width: auto;} td:nth-child(2) {text-align: left ; width: 100%}\n",
       "    .wandb-row { display: flex; flex-direction: row; flex-wrap: wrap; justify-content: flex-start; width: 100% }\n",
       "    .wandb-col { display: flex; flex-direction: column; flex-basis: 100%; flex: 1; padding: 10px; }\n",
       "    </style>\n",
       "<div class=\"wandb-row\"><div class=\"wandb-col\"><h3>Run history:</h3><br/><table class=\"wandb\"><tr><td>learning_rate</td><td>█▆▅▄▃▃▂▂▂▂▁▁▁▁▁▁▁▁▁▁▁▁▁▁</td></tr><tr><td>train_f1_score</td><td>▁▅▆▆▆▆▇▇▇▇▇▇████████████</td></tr><tr><td>train_loss</td><td>█▅▄▃▃▃▂▂▂▂▂▂▂▁▁▁▁▁▁▁▁▁▁▁</td></tr><tr><td>val_f1_score</td><td>▁▃▄▆█▇████▇█▇███████████</td></tr><tr><td>val_loss</td><td>▄█▃▂▁▂▁▂▁▁▁▁▁▁▁▁▁▁▁▁▁▁▁▁</td></tr></table><br/></div><div class=\"wandb-col\"><h3>Run summary:</h3><br/><table class=\"wandb\"><tr><td>learning_rate</td><td>0.0</td></tr><tr><td>train_f1_score</td><td>0.77021</td></tr><tr><td>train_loss</td><td>0.573</td></tr><tr><td>val_f1_score</td><td>0.71788</td></tr><tr><td>val_loss</td><td>0.6107</td></tr></table><br/></div></div>"
      ],
      "text/plain": [
       "<IPython.core.display.HTML object>"
      ]
     },
     "metadata": {},
     "output_type": "display_data"
    },
    {
     "data": {
      "text/html": [
       " View run <strong style=\"color:#cdcd00\">fold_5_RGB-NIR-3classes_health_plotsplit</strong> at: <a href='https://wandb.ai/simon-ecke/wze-uav-health-3classes/runs/s5ydqk1a' target=\"_blank\">https://wandb.ai/simon-ecke/wze-uav-health-3classes/runs/s5ydqk1a</a><br/>Synced 5 W&B file(s), 0 media file(s), 0 artifact file(s) and 0 other file(s)"
      ],
      "text/plain": [
       "<IPython.core.display.HTML object>"
      ]
     },
     "metadata": {},
     "output_type": "display_data"
    },
    {
     "data": {
      "text/html": [
       "Find logs at: <code>.\\wandb\\run-20230525_054828-s5ydqk1a\\logs</code>"
      ],
      "text/plain": [
       "<IPython.core.display.HTML object>"
      ]
     },
     "metadata": {},
     "output_type": "display_data"
    },
    {
     "name": "stdout",
     "output_type": "stream",
     "text": [
      "Deleting variables and emptying cache\n",
      "Memory allocated: 1055400960 bytes\n",
      "--------------------------------------------------\n",
      "\n",
      "CPU times: total: 3h 30min 25s\n",
      "Wall time: 7h 13min 11s\n"
     ]
    }
   ],
   "source": [
    "%%time\n",
    "\n",
    "# Set the random seeds\n",
    "set_seeds(42)\n",
    "\n",
    "# Define the number of folds\n",
    "num_folds = 5\n",
    "\n",
    "# group the hashIDs to get the unique values of hashIDs remaining in the subset  \n",
    "groups = sub_hash_id[:, 0] \n",
    "print(\"ORIGINAL POSITIVE RATIO:\", sub_label_set.mean())\n",
    "# create a StratifiedGroupKFold instance\n",
    "kf = StratifiedGroupKFold(n_splits=num_folds, shuffle=True, random_state=42)\n",
    "\n",
    "# loop through the folds\n",
    "for fold, (train_ids, val_ids) in enumerate(kf.split(sub_image_set, sub_label_set, groups)):\n",
    "    print(\"Fold :\", fold+1)\n",
    "    print(\"TRAIN POSITIVE RATIO:\", sub_label_set[train_ids].mean())\n",
    "    print(\"VAL POSITIVE RATIO  :\", sub_label_set[val_ids].mean())\n",
    "    print(\"LENGTH TRAIN GROUPS :\", len(set(groups[train_ids])))\n",
    "    print(\"LENGTH VAL GROUPS   :\", len(set(groups[val_ids])))\n",
    "    \n",
    "    train_ids = sub_hash_id[:, 0][train_ids]\n",
    "    val_ids = np.unique(sub_hash_id[:, 0][val_ids])\n",
    "\n",
    "    torch.cuda.empty_cache()\n",
    "    \n",
    "    # Initialize a new wandb run for this fold\n",
    "    wandb.init(project='wze-uav-health-3classes', name=f\"fold_{fold + 1}_{extra}\")\n",
    "    \n",
    "    # 1. Split data into train and validation set\n",
    "    # Get the training and testing data for this fold\n",
    "    # Use np.isin() to create boolean arrays indicating which indices belong to train or test sets\n",
    "    train_indices = np.isin(sub_hash_id[:,0], train_ids)\n",
    "    \n",
    "    val_indices = np.zeros_like(train_indices)  # initialize to all False\n",
    "    for hash_id_val in val_ids:\n",
    "        # select one image ID randomly from either 2020 or 2021 or 2022 for each unique hash ID in the test set\n",
    "        temp = np.unique(sub_hash_id[(sub_hash_id[:, 0] == hash_id_val), 1]) # check how many years are available per hashID\n",
    "        if len(temp) == 1:\n",
    "            year = temp[0]\n",
    "        elif len(temp) == 2:\n",
    "            year = np.random.choice(temp)\n",
    "        else:\n",
    "            year = np.random.choice(temp)\n",
    "        \n",
    "        # select image ID using the conditions\n",
    "        image_ids = sub_hash_id[(sub_hash_id[:,0] == hash_id_val) & (sub_hash_id[:,1] == year), 0]\n",
    "    \n",
    "        # mark the index corresponding to the selected image ID and hash ID as True in the test indices array\n",
    "        val_indices[(sub_hash_id[:,0] == hash_id_val) & (sub_hash_id[:,1] == year) & (np.isin(sub_hash_id[:,0], image_ids))] = True \n",
    "    \n",
    "    # Reshape boolean arrays to match shape of image_set and label_set\n",
    "    train_indices = train_indices.reshape(-1, 1)\n",
    "    val_indices = val_indices.reshape(-1, 1)\n",
    "    \n",
    "    # Select images and labels for train and validation sets\n",
    "    train_image_set = sub_image_set[train_indices[:, 0]]\n",
    "    train_label_set = sub_label_set[train_indices[:, 0]]\n",
    "    train_hash_id = sub_hash_id[train_indices[:, 0]][:,0]\n",
    "    train_species_set = sub_species_set[train_indices[:, 0]]\n",
    "    val_image_set = sub_image_set[val_indices[:, 0]]\n",
    "    val_label_set = sub_label_set[val_indices[:, 0]]\n",
    "    val_hash_id = sub_hash_id[val_indices[:, 0]][:,0]\n",
    "    val_species_set = sub_species_set[val_indices[:, 0]]\n",
    "    # reshape \n",
    "    train_label_set = train_label_set.reshape(-1, 1)\n",
    "    val_label_set = val_label_set.reshape(-1, 1)\n",
    "    train_species_set = train_species_set.reshape(-1, 1)\n",
    "    val_species_set = val_species_set.reshape(-1, 1)\n",
    "    \n",
    "    # check if there are any group overlaps between the data splits\n",
    "    hash_set = set(train_hash_id)\n",
    "    val_hash_set = set(val_hash_id)\n",
    "    test_hash_set = set(test_hash_id[:, 0].flatten())\n",
    "    intersection = hash_set.intersection(val_hash_set)\n",
    "    intersection2 = test_hash_set.intersection(val_hash_set)\n",
    "    intersection3 = hash_set.intersection(test_hash_set)\n",
    "    if intersection:\n",
    "        print(f\"Hash_id values in both train and val sets: {len(intersection)}\")\n",
    "        print(f\"Hash_id values in both test and val sets: {len(intersection2)}\")\n",
    "        print(f\"Hash_id values in both train and test sets: {len(intersection3)}\")\n",
    "    else:\n",
    "        print(\"There are no same hash_id values in train, val or test datasets. The datasplit was successful\")\n",
    "    \n",
    "         \n",
    "    print(\"Check shapes:\\n\")\n",
    "    print(f\"Images train dataset: {train_image_set.shape}\")\n",
    "    print(f\"Labels train dataset: {train_label_set.shape}\\n\")\n",
    "    \n",
    "    print(f\"Images validation dataset: {val_image_set.shape}\")\n",
    "    print(f\"Labels validation dataset: {val_label_set.shape}\\n\")\n",
    "    print('-'*50)\n",
    "    print (f\"Check if the split was stratified: (random_state=42)\")\n",
    "   #print(f\"Picea abies healthy in train dataset: {np.count_nonzero(train_label_set == 0)}\")\n",
    "   #print(f\"Picea abies stressed in train dataset: {np.count_nonzero(train_label_set == 1)}\")\n",
    "   #print(f\"Pinus sylvestris healthy in train dataset: {np.count_nonzero(train_label_set == 2)}\")\n",
    "   #print(f\"Pinus sylvestris stressed in train dataset: {np.count_nonzero(train_label_set == 3)}\")\n",
    "   #print(f\"Abies alba healthy in train dataset: {np.count_nonzero(train_label_set == 4)}\")\n",
    "   #print(f\"Abies alba stressed in train dataset: {np.count_nonzero(train_label_set == 5)}\")\n",
    "   #print(f\"Fagus sylvatica healthy in train dataset: {np.count_nonzero(train_label_set == 6)}\")\n",
    "   #print(f\"Fagus sylvatica stressed in train dataset: {np.count_nonzero(train_label_set == 7)}\")\n",
    "   #print(f\"Quercus robur/petraea healthy in train dataset: {np.count_nonzero(train_label_set == 8)}\")\n",
    "   #print(f\"Quercus robur/petraea stressed in train dataset: {np.count_nonzero(train_label_set == 9)}\")\n",
    "   #print(f\"Larix spp. in train dataset: {np.count_nonzero(train_label_set == 10)}\")\n",
    "   #print(f\"Acer spp. in train dataset: {np.count_nonzero(train_label_set == 11)}\")\n",
    "   #print(f\"Betula pendula in train dataset: {np.count_nonzero(train_label_set == 12)}\")\n",
    "    print(f\"Healthy trees in train dataset: {np.count_nonzero(train_label_set == 0)}\")\n",
    "    print(f\"Stressed trees in train dataset: {np.count_nonzero(train_label_set == 1)}\")\n",
    "    print(f\"Dead trees in train dataset: {np.count_nonzero(train_label_set == 2)}\")\n",
    "    #print(f\"Picea abies healthy in validation dataset: {np.count_nonzero(val_label_set == 0)}\")\n",
    "    #print(f\"Picea abies stressed in validation dataset: {np.count_nonzero(val_label_set == 1)}\")\n",
    "    #print(f\"Pinus sylvestris healthy in validation dataset: {np.count_nonzero(val_label_set == 2)}\")\n",
    "    #print(f\"Pinus sylvestris stressed in validation dataset: {np.count_nonzero(val_label_set == 3)}\")\n",
    "    #print(f\"Abies alba healthy in validation dataset: {np.count_nonzero(val_label_set == 4)}\")\n",
    "    #print(f\"Abies alba stressed in validation dataset: {np.count_nonzero(val_label_set == 5)}\")\n",
    "    #print(f\"Fagus sylvatica healthy in validation dataset: {np.count_nonzero(val_label_set == 6)}\")\n",
    "    #print(f\"Fagus sylvatica stressed in validation dataset: {np.count_nonzero(val_label_set == 7)}\")\n",
    "    #print(f\"Quercus robur/petraea healthy in validation dataset: {np.count_nonzero(val_label_set == 8)}\")\n",
    "    #print(f\"Quercus robur/petraea stressed in validation dataset: {np.count_nonzero(val_label_set == 9)}\")\n",
    "    #print(f\"Larix spp. in validation dataset: {np.count_nonzero(val_label_set == 10)}\")\n",
    "    #print(f\"Acer spp. in validation dataset: {np.count_nonzero(val_label_set == 11)}\")\n",
    "    #print(f\"Betula pendula in validation dataset: {np.count_nonzero(val_label_set == 12)}\")\n",
    "    print(f\"Healthy trees in validation dataset: {np.count_nonzero(val_label_set == 0)}\")\n",
    "    print(f\"Stressed trees in validation dataset: {np.count_nonzero(val_label_set == 1)}\")\n",
    "    print(f\"Dead trees in validation dataset: {np.count_nonzero(val_label_set == 2)}\")\n",
    "    #print(f\"Ratio health trees in validation dataset: {np.count_nonzero(val_label_set == 0)/np.count_nonzero(sub_label_set == 0)}\")\n",
    "    #print(f\"Ratio moderately stressed trees in validation dataset: {np.count_nonzero(val_label_set == 1)/np.count_nonzero(sub_label_set == 1)}\")\n",
    "    #print(f\"Ratio severely stressed trees in validation dataset: {np.count_nonzero(val_label_set == 1)/np.count_nonzero(sub_label_set == 2)}\")\n",
    "    #print(f\"Ratio dead trees in validation dataset: {np.count_nonzero(val_label_set == 2)/np.count_nonzero(sub_label_set == 3)}\")\n",
    "    print(\"-\"*50)\n",
    "   \n",
    "    # 2. Create train and validation dataset. (choose custom dataset loader with 3 - 5 classes)\n",
    "    print(f\"\\nCreating datasets for fold: {fold + 1}\\n\")\n",
    "    train_dataset = data_loader.CustomDataset(data=train_image_set, labels=train_label_set, class_names=class_names, species = train_species_set,\n",
    "                                                         transform=transform_train)\n",
    "    \n",
    "    val_dataset = data_loader.CustomDataset(data=val_image_set, labels=val_label_set, class_names=class_names,\n",
    "                                                       species = val_species_set, transform=transform)\n",
    "   \n",
    "    # 3. Create train and validation dataloader\n",
    "    # create sampler for oversampling of the minority classes\n",
    "    sampler = data_loader.data_sampler(dataset=train_dataset, class_names=class_names)\n",
    "    print(f\"Creating dataloaders for fold: {fold +1}\\n\")\n",
    "    train_dataloader = DataLoader(train_dataset, batch_size=batch_size, persistent_workers=True, pin_memory=True, num_workers=NUM_WORKERS, generator=g,\n",
    "                              sampler=sampler, shuffle=False, drop_last=True) # shuffle false because of the sampler\n",
    "\n",
    "    val_dataloader = DataLoader(val_dataset, batch_size=batch_size, persistent_workers=True, pin_memory=True, num_workers=NUM_WORKERS, shuffle=False,\n",
    "                             drop_last=True)\n",
    "    \n",
    "    model = model_effnet.EfficientNet.from_pretrained('efficientnet-b7', in_channels=n_bands, num_classes=num_classes, dropout_rate=dropout_rate)\n",
    "    #model = models.create_effnetb7(output_shape=num_classes, unfreeze=True, dropout_rate=dropout_rate, device=device)\n",
    "   \n",
    "    loss_fn = nn.CrossEntropyLoss()\n",
    "    optimizer = torch.optim.Adam(params=model.parameters(), lr=lr)\n",
    "    lr_scheduler = CustomExponentialLR(optimizer, gamma=gamma, min_lr=min_lr)\n",
    "\n",
    "    fold += 1\n",
    "    print(f\"\\n[INFO] Fold number: {fold}\")\n",
    "    print(f\"[INFO] Number of epochs: {epochs}\")\n",
    "    print(f\"[INFO] Batch_size: {batch_size}\")\n",
    "    print(f\"[INFO] Number of bands: {n_bands}\")\n",
    "    print(f\"[INFO] Dropout rate: {dropout_rate}\")\n",
    "    print(f\"[INFO] Gamma learning rate: {gamma}\")\n",
    "    print(f\"[INFO] Memory allocated: {torch.cuda.memory_allocated()} bytes\")\n",
    "    # 4. Train model with k fold dataloaders and track experiments\n",
    "    \n",
    "    if fold == 1:\n",
    "        fold1_results = train(model=model, model_name=model_name, n_bands=n_bands, batch_size=batch_size,train_dataloader=train_dataloader, val_dataloader=val_dataloader, \n",
    "                        optimizer=optimizer, loss_fn=loss_fn, lr_scheduler=lr_scheduler, num_classes=num_classes, epochs=epochs, experiment_num=fold, device=device,\n",
    "                        writer=None, early_stop_patience = patience)\n",
    "       \n",
    "    elif fold == 2:\n",
    "        fold2_results = train(model=model, model_name=model_name, n_bands=n_bands, batch_size=batch_size,train_dataloader=train_dataloader, val_dataloader=val_dataloader, \n",
    "                        optimizer=optimizer, loss_fn=loss_fn, lr_scheduler=lr_scheduler, num_classes=num_classes, epochs=epochs, experiment_num=fold, device=device,\n",
    "                        writer=None, early_stop_patience = patience)\n",
    "    elif fold == 3:\n",
    "        fold3_results = train(model=model, model_name=model_name, n_bands=n_bands, batch_size=batch_size,train_dataloader=train_dataloader, val_dataloader=val_dataloader, \n",
    "                        optimizer=optimizer, loss_fn=loss_fn, lr_scheduler=lr_scheduler, num_classes=num_classes, epochs=epochs, experiment_num=fold, device=device,\n",
    "                        writer=None, early_stop_patience = patience)\n",
    "    elif fold == 4:\n",
    "        fold4_results = train(model=model, model_name=model_name, n_bands=n_bands, batch_size=batch_size,train_dataloader=train_dataloader, val_dataloader=val_dataloader, \n",
    "                        optimizer=optimizer, loss_fn=loss_fn, lr_scheduler=lr_scheduler, num_classes=num_classes, epochs=epochs, experiment_num=fold, device=device,\n",
    "                        writer=None, early_stop_patience = patience)\n",
    "    else:\n",
    "        fold5_results = train(model=model, model_name=model_name, n_bands=n_bands, batch_size=batch_size,train_dataloader=train_dataloader, val_dataloader=val_dataloader, \n",
    "                        optimizer=optimizer, loss_fn=loss_fn, lr_scheduler=lr_scheduler, num_classes=num_classes, epochs=epochs, experiment_num=fold, device=device,\n",
    "                        writer=None, early_stop_patience = patience)\n",
    "    \n",
    "    del train_indices, val_indices, train_image_set, train_label_set, train_hash_id, train_species_set, val_image_set, val_label_set, val_hash_id, val_species_set,\n",
    "    train_dataset, val_dataset, sampler, train_dataloader, val_dataloader, model, loss_fn, optimizer, lr_scheduler\n",
    "    \n",
    "    #finish the wandb run\n",
    "    wandb.finish()\n",
    "    print(\"Deleting variables and emptying cache\")\n",
    "    gc.collect()\n",
    "    torch.cuda.empty_cache()\n",
    "    print(f\"Memory allocated: {torch.cuda.memory_allocated()} bytes\")\n",
    "    print(\"-\"*50 + \"\\n\")"
   ]
  },
  {
   "cell_type": "markdown",
   "id": "609fc3db",
   "metadata": {},
   "source": [
    "#### Create test dataset and test dataloader "
   ]
  },
  {
   "cell_type": "code",
   "execution_count": 20,
   "id": "c0c36ebb",
   "metadata": {},
   "outputs": [],
   "source": [
    "# create test dataset\n",
    "test_dataset = data_loader.CustomTestDataset(\n",
    "    data = test_image_set,\n",
    "    labels = test_label_set,\n",
    "    class_names=class_names, \n",
    "    species = test_species_set,\n",
    "    kkl = None,\n",
    "    transform=transform\n",
    ")\n",
    "\n",
    "# create test dataloader\n",
    "test_dataloader = DataLoader(test_dataset,\n",
    "                             batch_size=batch_size,\n",
    "                             persistent_workers=True,\n",
    "                             pin_memory=True,\n",
    "                             num_workers=NUM_WORKERS,\n",
    "                             shuffle=False,\n",
    "                             drop_last=False)"
   ]
  },
  {
   "cell_type": "markdown",
   "id": "22cdaac7",
   "metadata": {},
   "source": [
    "#### Perform ensembling of the five best models"
   ]
  },
  {
   "cell_type": "code",
   "execution_count": null,
   "id": "67db5af2",
   "metadata": {},
   "outputs": [
    {
     "name": "stdout",
     "output_type": "stream",
     "text": [
      "Loaded pretrained weights for efficientnet-b7\n",
      "Loaded pretrained weights for efficientnet-b7\n",
      "Loaded pretrained weights for efficientnet-b7\n",
      "Loaded pretrained weights for efficientnet-b7\n",
      "Loaded pretrained weights for efficientnet-b7\n"
     ]
    }
   ],
   "source": [
    "# Setup the best model filepaths\n",
    "best_model1_path = r\"C:\\Users\\lwfeckesim\\01_PyTorch\\wze-uav\\wze-uav-master\\models\\EffNet_b7_RGB-NIR-3classes_health_plotsplit\\1_EffNet_b7_RGB-NIR-3classes_health_plotsplit_10_epochs.pth\"\n",
    "best_model2_path = r\"C:\\Users\\lwfeckesim\\01_PyTorch\\wze-uav\\wze-uav-master\\models\\EffNet_b7_RGB-NIR-3classes_health_plotsplit\\2_EffNet_b7_RGB-NIR-3classes_health_plotsplit_9_epochs.pth\"\n",
    "best_model3_path = r\"C:\\Users\\lwfeckesim\\01_PyTorch\\wze-uav\\wze-uav-master\\models\\EffNet_b7_RGB-NIR-3classes_health_plotsplit\\3_EffNet_b7_RGB-NIR-3classes_health_plotsplit_5_epochs.pth\"\n",
    "best_model4_path = r\"C:\\Users\\lwfeckesim\\01_PyTorch\\wze-uav\\wze-uav-master\\models\\EffNet_b7_RGB-NIR-3classes_health_plotsplit\\4_EffNet_b7_RGB-NIR-3classes_health_plotsplit_5_epochs.pth\"\n",
    "best_model5_path = r\"C:\\Users\\lwfeckesim\\01_PyTorch\\wze-uav\\wze-uav-master\\models\\EffNet_b7_RGB-NIR-3classes_health_plotsplit\\5_EffNet_b7_RGB-NIR-3classes_health_plotsplit_14_epochs.pth\"\n",
    "\n",
    "# Instantiate a new instance of EffNetB7 (to load the saved state_dict() to)\n",
    "#model1 = models.create_effnetb7(output_shape=num_classes, unfreeze=unfreeze, dropout_rate=dropout_rate, device=device)\n",
    "#model2 = models.create_effnetb7(output_shape=num_classes, unfreeze=unfreeze, dropout_rate=dropout_rate, device=device)\n",
    "#model3 = models.create_effnetb7(output_shape=num_classes, unfreeze=unfreeze, dropout_rate=dropout_rate, device=device)\n",
    "#model4 = models.create_effnetb7(output_shape=num_classes, unfreeze=unfreeze, dropout_rate=dropout_rate, device=device)\n",
    "#model5 = models.create_effnetb7(output_shape=num_classes, unfreeze=unfreeze, dropout_rate=dropout_rate, device=device)\n",
    "# for custom models with more than three bands as input\n",
    "model1 = model_effnet.EfficientNet.from_pretrained('efficientnet-b7', in_channels=n_bands, num_classes=num_classes, dropout_rate=dropout_rate)\n",
    "model2 = model_effnet.EfficientNet.from_pretrained('efficientnet-b7', in_channels=n_bands, num_classes=num_classes, dropout_rate=dropout_rate)\n",
    "model3 = model_effnet.EfficientNet.from_pretrained('efficientnet-b7', in_channels=n_bands, num_classes=num_classes, dropout_rate=dropout_rate)\n",
    "model4 = model_effnet.EfficientNet.from_pretrained('efficientnet-b7', in_channels=n_bands, num_classes=num_classes, dropout_rate=dropout_rate)\n",
    "model5 = model_effnet.EfficientNet.from_pretrained('efficientnet-b7', in_channels=n_bands, num_classes=num_classes, dropout_rate=dropout_rate)\n",
    "\n",
    "# Load the saved best model state_dict()\n",
    "model1.load_state_dict(torch.load(best_model1_path))\n",
    "model2.load_state_dict(torch.load(best_model2_path))\n",
    "model3.load_state_dict(torch.load(best_model3_path))\n",
    "model4.load_state_dict(torch.load(best_model4_path))\n",
    "model5.load_state_dict(torch.load(best_model5_path))\n",
    "\n",
    "model1.to(device)\n",
    "model2.to(device)\n",
    "model3.to(device)\n",
    "model4.to(device)\n",
    "model5.to(device)\n",
    "\n",
    "model1.eval()\n",
    "model2.eval()\n",
    "model3.eval()\n",
    "model4.eval()\n",
    "model5.eval()\n",
    "\n",
    "# Initialize the lists to store the predictions\n",
    "all_preds_model1 = []\n",
    "all_preds_model2 = []\n",
    "all_preds_model3 = []\n",
    "all_preds_model4 = []\n",
    "all_preds_model5 = []\n",
    "all_true_labels = []\n",
    "\n",
    "# Loop through the test dataset and generate predictions for each model\n",
    "with torch.no_grad():\n",
    "    for batch in test_dataloader:\n",
    "        inputs, labels, species = batch\n",
    "        inputs, labels, species = inputs.to(device), labels.to(device), species\n",
    "        \n",
    "        # Generate predictions for each model\n",
    "        preds_model1 = model1(inputs)\n",
    "        preds_model2 = model2(inputs)\n",
    "        preds_model3 = model3(inputs)\n",
    "        preds_model4 = model4(inputs)\n",
    "        preds_model5 = model5(inputs)\n",
    "\n",
    "        # Append the predictions to the corresponding list\n",
    "        all_preds_model1.append(preds_model1.cpu().numpy())\n",
    "        all_preds_model2.append(preds_model2.cpu().numpy())\n",
    "        all_preds_model3.append(preds_model3.cpu().numpy())\n",
    "        all_preds_model4.append(preds_model4.cpu().numpy())\n",
    "        all_preds_model5.append(preds_model5.cpu().numpy())\n",
    "        \n",
    "        all_true_labels.append(labels.cpu().numpy())\n",
    "\n",
    "# Concatenate the predictions from all the models\n",
    "all_preds_model1 = np.concatenate(all_preds_model1)\n",
    "all_preds_model2 = np.concatenate(all_preds_model2)\n",
    "all_preds_model3 = np.concatenate(all_preds_model3)\n",
    "all_preds_model4 = np.concatenate(all_preds_model4)\n",
    "all_preds_model5 = np.concatenate(all_preds_model5)\n",
    "\n",
    "all_true_labels = np.concatenate(all_true_labels)\n",
    "\n",
    "# Calculate the ensemble predictions\n",
    "ensemble_preds = np.mean([all_preds_model1, all_preds_model2, all_preds_model3, all_preds_model4, all_preds_model5], axis=0)\n",
    "ensemble_labels = np.argmax(ensemble_preds, axis=1)\n",
    "\n",
    "# Calculate the evaluation metrics for the ensemble model\n",
    "from sklearn.metrics import classification_report, confusion_matrix\n",
    "\n",
    "print(classification_report(all_true_labels, ensemble_labels))\n",
    "print(confusion_matrix(all_true_labels, ensemble_labels))\n",
    "\n",
    "\n",
    "\n",
    "\n"
   ]
  },
  {
   "cell_type": "code",
   "execution_count": 28,
   "id": "6dfbc663",
   "metadata": {},
   "outputs": [
    {
     "name": "stdout",
     "output_type": "stream",
     "text": [
      "              precision    recall  f1-score   support\n",
      "\n",
      "           0       0.80      0.64      0.71       674\n",
      "           1       0.51      0.69      0.59       365\n",
      "           2       0.78      0.95      0.86        22\n",
      "\n",
      "    accuracy                           0.66      1061\n",
      "   macro avg       0.69      0.76      0.72      1061\n",
      "weighted avg       0.70      0.66      0.67      1061\n",
      "\n"
     ]
    },
    {
     "data": {
      "image/png": "[encoded data removed]",
      "text/plain": [
       "<Figure size 720x504 with 1 Axes>"
      ]
     },
     "metadata": {
      "needs_background": "light"
     },
     "output_type": "display_data"
    }
   ],
   "source": [
    "import matplotlib.pyplot as plt\n",
    "import pandas as pd\n",
    "# Calculate the evaluation metrics for the ensemble model\n",
    "\n",
    "report = classification_report(all_true_labels, ensemble_labels)\n",
    "print(report)\n",
    "#print(confusion_matrix(all_true_labels, ensemble_labels))\n",
    "\n",
    "# Save the report to a file\n",
    "with open(r'C:\\Users\\lwfeckesim\\01_PyTorch\\wze-uav\\wze-uav-master\\plots\\report_RGB-NIR_health_3classes_plotsplit.txt', 'w') as f:\n",
    "    f.write(report)\n",
    "\n",
    "labels = np.array([0,1,2])\n",
    "confmat = confusion_matrix(all_true_labels, ensemble_labels, labels=labels)\n",
    "\n",
    "# 3. Plot the confusion matrix\n",
    "fig, ax = plot_confusion_matrix(\n",
    "    conf_mat=confmat, # matplotlib likes working with NumPy \n",
    "    class_names=class_names, # turn the row and column labels into class names\n",
    "    figsize=(10, 7)\n",
    ");\n",
    "\n",
    "# add title to confusion matrix plot\n",
    "plt.title(\"Main tree species and Health Status Classification using RGB-NIR Bands\", fontsize=16)\n",
    "\n",
    "fig.savefig(r'C:\\Users\\lwfeckesim\\01_PyTorch\\wze-uav\\wze-uav-master\\plots\\confmat_RGB_health_3classes_plotsplit.png', dpi=300, bbox_inches='tight')\n",
    "\n",
    "# Create a DataFrame from the confusion matrix\n",
    "df_cm = pd.DataFrame(confmat)\n",
    "\n",
    "# Export the confusion matrix to a CSV file\n",
    "df_cm.to_csv(r'C:\\Users\\lwfeckesim\\01_PyTorch\\wze-uav\\wze-uav-master\\plots\\confmat_RGB_health_3classes_plotsplit.csv', index=False)\n"
   ]
  },
  {
   "cell_type": "code",
   "execution_count": 23,
   "id": "aab9e321",
   "metadata": {},
   "outputs": [
    {
     "ename": "NameError",
     "evalue": "name 'best_model' is not defined",
     "output_type": "error",
     "traceback": [
      "\u001b[1;31m---------------------------------------------------------------------------\u001b[0m",
      "\u001b[1;31mNameError\u001b[0m                                 Traceback (most recent call last)",
      "Input \u001b[1;32mIn [23]\u001b[0m, in \u001b[0;36m<cell line: 3>\u001b[1;34m()\u001b[0m\n\u001b[0;32m      1\u001b[0m \u001b[38;5;66;03m# 2. Setup confusion matrix instance and compare predictions to targets\u001b[39;00m\n\u001b[0;32m      2\u001b[0m \u001b[38;5;66;03m#from wze_uav.analysis import *\u001b[39;00m\n\u001b[1;32m----> 3\u001b[0m y_pred_tensor, y_labels_tensor, test_loss, test_recall, test_precision, test_f1_score, test_acc, y_logit, y_pred, y, y_preds \u001b[38;5;241m=\u001b[39m make_predictions(model\u001b[38;5;241m=\u001b[39m\u001b[43mbest_model\u001b[49m,\n\u001b[0;32m      4\u001b[0m                                  test_dataloader\u001b[38;5;241m=\u001b[39mtest_dataloader, \n\u001b[0;32m      5\u001b[0m                                  device\u001b[38;5;241m=\u001b[39mdevice)\n\u001b[0;32m      7\u001b[0m y_labels_tensor \u001b[38;5;241m=\u001b[39m y_labels_tensor\u001b[38;5;241m.\u001b[39mdetach()\u001b[38;5;241m.\u001b[39mcpu()\u001b[38;5;241m.\u001b[39mnumpy()\n\u001b[0;32m      8\u001b[0m y_pred_tensor \u001b[38;5;241m=\u001b[39m y_pred_tensor\u001b[38;5;241m.\u001b[39mdetach()\u001b[38;5;241m.\u001b[39mcpu()\u001b[38;5;241m.\u001b[39mnumpy()\n",
      "\u001b[1;31mNameError\u001b[0m: name 'best_model' is not defined"
     ]
    }
   ],
   "source": [
    "# 2. Setup confusion matrix instance and compare predictions to targets\n",
    "#from wze_uav.analysis import *\n",
    "y_pred_tensor, y_labels_tensor, test_loss, test_recall, test_precision, test_f1_score, test_acc, y_logit, y_pred, y, y_preds = make_predictions(model=best_model,\n",
    "                                 test_dataloader=test_dataloader, \n",
    "                                 device=device)\n",
    "\n",
    "y_labels_tensor = y_labels_tensor.detach().cpu().numpy()\n",
    "y_pred_tensor = y_pred_tensor.detach().cpu().numpy()\n",
    "\n",
    "#confmat = ConfusionMatrix(num_classes=num_classes, task='multiclass')\n",
    "#confmat_tensor = confmat(preds=y_pred_tensor,\n",
    "#                         target=test_labels)\n",
    "labels = np.array([0,1,2])\n",
    "confmat = confusion_matrix(y_labels_tensor, y_pred_tensor, labels=labels)\n",
    "\n",
    "# 3. Plot the confusion matrix\n",
    "fig, ax = plot_confusion_matrix(\n",
    "    conf_mat=confmat, # matplotlib likes working with NumPy \n",
    "    class_names=class_names, # turn the row and column labels into class names\n",
    "    figsize=(10, 7)\n",
    ");\n",
    "\n",
    "print(f\"Test loss: {test_loss}\")\n",
    "print(f\"Test precision: {test_precision}\")\n",
    "print(f\"Test recall: {test_recall}\")\n",
    "print(f\"Test F1score: {test_f1_score}\")\n",
    "#print(f\"Test Kappa: {test_kappa}\")\n",
    "print(f\"Test Accuracy: {test_acc}\")\n",
    "print(f\"Test Logits: {y_logit}\")\n",
    "print(f\"Test Predictions: {y_pred}\")\n",
    "print(f\"Test Labels: {y}\")"
   ]
  },
  {
   "cell_type": "code",
   "execution_count": null,
   "id": "8d4173b3",
   "metadata": {},
   "outputs": [],
   "source": [
    "len(y_preds)"
   ]
  },
  {
   "cell_type": "code",
   "execution_count": null,
   "id": "7588116f",
   "metadata": {},
   "outputs": [],
   "source": [
    "y_set.cpu()"
   ]
  },
  {
   "cell_type": "code",
   "execution_count": null,
   "id": "1c195b3e",
   "metadata": {},
   "outputs": [],
   "source": [
    "test_dataset.labels"
   ]
  },
  {
   "cell_type": "code",
   "execution_count": null,
   "id": "975ec08c",
   "metadata": {},
   "outputs": [],
   "source": []
  },
  {
   "cell_type": "code",
   "execution_count": null,
   "id": "6da05604",
   "metadata": {},
   "outputs": [],
   "source": [
    "y_preds = []\n",
    "y_labels = []\n",
    "labels = np.array([0,1,2])\n",
    "test_loss, test_precision, test_recall, test_f1_score, test_acc = 0, 0, 0, 0, 0\n",
    "count = 0\n",
    "model.eval()\n",
    "with torch.inference_mode():\n",
    "    for X, y in tqdm(test_dataloader, desc=\"Making predictions\"):\n",
    "        # Send data and targets to target device\n",
    "        X, y = X.to(device), y.to(device)\n",
    "        # Do the forward pass\n",
    "        y_logit = model(X)\n",
    "        # Turn predictions from logits -> prediction probabilities -> predictions labels\n",
    "        y_pred = torch.softmax(y_logit, dim=1).argmax(dim=1)\n",
    "        # Put predictions on CPU for evaluation\n",
    "        y_preds.append(y_pred.cpu())\n",
    "        y_labels.append(y.cpu())\n",
    "        \n",
    "        #other metrics\n",
    "        test_acc += ((y_pred == y).sum().item()/len(y_pred))\n",
    "        y_pred_class = y_pred.detach().cpu().numpy() \n",
    "        y_class = y.detach().cpu().numpy()\n",
    "        test_precision += precision_score(y_class, y_pred_class, average='macro', zero_division=1, labels=labels)\n",
    "        test_recall += recall_score(y_class, y_pred_class, average='macro', zero_division=1, labels=labels)\n",
    "        #test_f1_score += f1_score(y_class, y_pred_class, average='macro', zero_division=1, labels=labels)\n",
    "        \n",
    "        #if count >= 1:\n",
    "        #    y_set = torch.cat((y_set, y))\n",
    "        #    count = count + 1\n",
    "        #else:\n",
    "        #    y_set = y\n",
    "        #    count = count + 1\n",
    "        \n",
    "test_loss = test_loss / len(test_dataloader)\n",
    "test_precision = test_precision / len(test_dataloader)\n",
    "test_recall = test_recall / len(test_dataloader)\n",
    "#test_f1_score = test_f1_score / len(test_dataloader)\n",
    "#test_kappa = test_kappa / len(dataloader)\n",
    "test_acc = test_acc / len(test_dataloader)\n",
    "# Concatenate list of predictions into a tensor\n",
    "y_pred_tensor = torch.cat(y_preds)\n",
    "test_f1_score = f1_score(y_set.detach().cpu().numpy(), y_pred_tensor.cpu().numpy(), average='macro', zero_division=0, labels=[0,1,2])\n",
    "\n",
    "# Print classification report\n",
    "y_true = y_set.detach().cpu().numpy()\n",
    "report = classification_report(y_true, y_pred_tensor.cpu().numpy(), target_names=class_names)\n",
    "print(report)"
   ]
  },
  {
   "cell_type": "code",
   "execution_count": null,
   "id": "6ae97fab",
   "metadata": {},
   "outputs": [],
   "source": [
    "test_f1_score"
   ]
  },
  {
   "cell_type": "code",
   "execution_count": null,
   "id": "7ebafd9b",
   "metadata": {},
   "outputs": [],
   "source": [
    "make = (y_class == y_pred_class)\n",
    "make"
   ]
  },
  {
   "cell_type": "code",
   "execution_count": null,
   "id": "4f8aa759",
   "metadata": {},
   "outputs": [],
   "source": [
    "torch.softmax(y_logit, dim=1).argmax(dim=1)"
   ]
  },
  {
   "cell_type": "code",
   "execution_count": null,
   "id": "f90a54b2",
   "metadata": {},
   "outputs": [],
   "source": [
    "y"
   ]
  },
  {
   "cell_type": "code",
   "execution_count": null,
   "id": "5a806154",
   "metadata": {},
   "outputs": [],
   "source": [
    "test = (y_pred == y).sum().item()/16"
   ]
  },
  {
   "cell_type": "code",
   "execution_count": null,
   "id": "1da35c56",
   "metadata": {},
   "outputs": [],
   "source": [
    "test"
   ]
  },
  {
   "cell_type": "code",
   "execution_count": null,
   "id": "b1eb246e",
   "metadata": {},
   "outputs": [],
   "source": [
    " y_pred_class = y_pred.detach().cpu().numpy() "
   ]
  },
  {
   "cell_type": "code",
   "execution_count": null,
   "id": "602e096f",
   "metadata": {},
   "outputs": [],
   "source": [
    "y_pred_class"
   ]
  },
  {
   "cell_type": "code",
   "execution_count": null,
   "id": "eaf1af09",
   "metadata": {},
   "outputs": [],
   "source": []
  }
 ],
 "metadata": {
  "kernelspec": {
   "display_name": "Python 3 (ipykernel)",
   "language": "python",
   "name": "python3"
  },
  "language_info": {
   "codemirror_mode": {
    "name": "ipython",
    "version": 3
   },
   "file_extension": ".py",
   "mimetype": "text/x-python",
   "name": "python",
   "nbconvert_exporter": "python",
   "pygments_lexer": "ipython3",
   "version": "3.9.16"
  }
 },
 "nbformat": 4,
 "nbformat_minor": 5
}
