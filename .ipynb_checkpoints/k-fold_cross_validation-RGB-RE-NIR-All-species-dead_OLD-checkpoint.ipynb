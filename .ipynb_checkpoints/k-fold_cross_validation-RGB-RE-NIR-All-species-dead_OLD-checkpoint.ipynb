{
 "cells": [
  {
   "cell_type": "markdown",
   "id": "c1acdaa3",
   "metadata": {},
   "source": [
    "# WZE-UAV Image Classification using Deep Learning"
   ]
  },
  {
   "cell_type": "code",
   "execution_count": 14,
   "id": "2159aac5",
   "metadata": {},
   "outputs": [],
   "source": [
    "import os\n",
    "import gc\n",
    "import glob\n",
    "import numpy as np\n",
    "from pathlib import Path\n",
    "from tqdm.auto import tqdm\n",
    "from sklearn.metrics import confusion_matrix, classification_report\n",
    "from sklearn.model_selection import KFold"
   ]
  },
  {
   "cell_type": "code",
   "execution_count": 15,
   "id": "0026f7a9",
   "metadata": {},
   "outputs": [],
   "source": [
    "import torch\n",
    "import torchvision.transforms as T\n",
    "import torchvision\n",
    "from torch import nn\n",
    "from torch.utils.data import DataLoader\n",
    "from torchvision import datasets, transforms\n",
    "from torch.utils.data import Dataset\n",
    "import torch.optim as optim\n",
    "from torch.optim.lr_scheduler import ExponentialLR\n",
    "from mlxtend.plotting import plot_confusion_matrix"
   ]
  },
  {
   "cell_type": "code",
   "execution_count": 16,
   "id": "b160d7b4",
   "metadata": {},
   "outputs": [],
   "source": [
    "import wze_uav.data_loader as data_loader\n",
    "import wze_uav.models as models\n",
    "from wze_uav.engine import *\n",
    "from wze_uav.utils2 import *\n",
    "#from wze_uav.log_writer import create_writer\n",
    "from wze_uav.datasplit import *\n",
    "from efficientnet import model_effnet #for custom effnet with n_channels input\n",
    "import wandb"
   ]
  },
  {
   "cell_type": "markdown",
   "id": "2bd4fb2f",
   "metadata": {},
   "source": [
    "#### Get PyTorch version"
   ]
  },
  {
   "cell_type": "code",
   "execution_count": 17,
   "id": "c10886b1",
   "metadata": {},
   "outputs": [
    {
     "name": "stdout",
     "output_type": "stream",
     "text": [
      "torch version: 1.13.1+cu116\n",
      "torchvision version: 0.14.1+cu116\n"
     ]
    }
   ],
   "source": [
    "print(f\"torch version: {torch.__version__}\")\n",
    "print(f\"torchvision version: {torchvision.__version__}\")"
   ]
  },
  {
   "cell_type": "markdown",
   "id": "aa6a83cf",
   "metadata": {},
   "source": [
    "#### Preparing device agnostic code "
   ]
  },
  {
   "cell_type": "code",
   "execution_count": 18,
   "id": "13d5de88",
   "metadata": {},
   "outputs": [
    {
     "name": "stdout",
     "output_type": "stream",
     "text": [
      "cuda\n",
      "Index of current divice: 0\n",
      "Number of GPUs available: 1\n",
      "GPU Model: Quadro RTX 8000\n"
     ]
    }
   ],
   "source": [
    "# ensure device agnostic code\n",
    "device = 'cuda' if torch.cuda.is_available() else 'cpu'\n",
    "print(device)\n",
    "\n",
    "# get index of currently selected device\n",
    "print(f\"Index of current divice: {torch.cuda.current_device()}\")\n",
    "# get number of GPUs available\n",
    "print(f\"Number of GPUs available: {torch.cuda.device_count()}\")\n",
    "# get the name of the device\n",
    "print(f\"GPU Model: {torch.cuda.get_device_name(0)}\")"
   ]
  },
  {
   "cell_type": "markdown",
   "id": "8ef6b169",
   "metadata": {},
   "source": [
    "#### Login to Weights & Biases to track results"
   ]
  },
  {
   "cell_type": "code",
   "execution_count": 19,
   "id": "a59d27cf",
   "metadata": {},
   "outputs": [
    {
     "name": "stderr",
     "output_type": "stream",
     "text": [
      "\u001b[34m\u001b[1mwandb\u001b[0m: \u001b[33mWARNING\u001b[0m Calling wandb.login() after wandb.init() has no effect.\n"
     ]
    },
    {
     "data": {
      "text/html": [
       "Finishing last run (ID:f0zdlhzx) before initializing another..."
      ],
      "text/plain": [
       "<IPython.core.display.HTML object>"
      ]
     },
     "metadata": {},
     "output_type": "display_data"
    },
    {
     "data": {
      "text/html": [
       "Waiting for W&B process to finish... <strong style=\"color:green\">(success).</strong>"
      ],
      "text/plain": [
       "<IPython.core.display.HTML object>"
      ]
     },
     "metadata": {},
     "output_type": "display_data"
    },
    {
     "data": {
      "application/vnd.jupyter.widget-view+json": {
       "model_id": "644788aa9e8845af89692d7885ef1f81",
       "version_major": 2,
       "version_minor": 0
      },
      "text/plain": [
       "VBox(children=(Label(value='0.001 MB of 0.001 MB uploaded (0.000 MB deduped)\\r'), FloatProgress(value=1.0, max…"
      ]
     },
     "metadata": {},
     "output_type": "display_data"
    },
    {
     "data": {
      "text/html": [
       " View run <strong style=\"color:#cdcd00\">fallen-dragon-21</strong> at: <a href='https://wandb.ai/simon-ecke/wze-uav-species/runs/f0zdlhzx' target=\"_blank\">https://wandb.ai/simon-ecke/wze-uav-species/runs/f0zdlhzx</a><br/>Synced 5 W&B file(s), 0 media file(s), 0 artifact file(s) and 0 other file(s)"
      ],
      "text/plain": [
       "<IPython.core.display.HTML object>"
      ]
     },
     "metadata": {},
     "output_type": "display_data"
    },
    {
     "data": {
      "text/html": [
       "Find logs at: <code>.\\wandb\\run-20230503_155547-f0zdlhzx\\logs</code>"
      ],
      "text/plain": [
       "<IPython.core.display.HTML object>"
      ]
     },
     "metadata": {},
     "output_type": "display_data"
    },
    {
     "data": {
      "text/html": [
       "Successfully finished last run (ID:f0zdlhzx). Initializing new run:<br/>"
      ],
      "text/plain": [
       "<IPython.core.display.HTML object>"
      ]
     },
     "metadata": {},
     "output_type": "display_data"
    },
    {
     "data": {
      "application/vnd.jupyter.widget-view+json": {
       "model_id": "dbde267b8e58403f9cd6383c2c6359f9",
       "version_major": 2,
       "version_minor": 0
      },
      "text/plain": [
       "VBox(children=(Label(value='Waiting for wandb.init()...\\r'), FloatProgress(value=0.016666666666666666, max=1.0…"
      ]
     },
     "metadata": {},
     "output_type": "display_data"
    },
    {
     "data": {
      "text/html": [
       "wandb version 0.15.1 is available!  To upgrade, please run:\n",
       " $ pip install wandb --upgrade"
      ],
      "text/plain": [
       "<IPython.core.display.HTML object>"
      ]
     },
     "metadata": {},
     "output_type": "display_data"
    },
    {
     "data": {
      "text/html": [
       "Tracking run with wandb version 0.14.2"
      ],
      "text/plain": [
       "<IPython.core.display.HTML object>"
      ]
     },
     "metadata": {},
     "output_type": "display_data"
    },
    {
     "data": {
      "text/html": [
       "Run data is saved locally in <code>C:\\Users\\lwfeckesim\\01_PyTorch\\wze-uav\\wze-uav-master\\wandb\\run-20230503_155637-wwavwuz3</code>"
      ],
      "text/plain": [
       "<IPython.core.display.HTML object>"
      ]
     },
     "metadata": {},
     "output_type": "display_data"
    },
    {
     "data": {
      "text/html": [
       "Syncing run <strong><a href='https://wandb.ai/simon-ecke/wze-uav-species/runs/wwavwuz3' target=\"_blank\">likely-wood-22</a></strong> to <a href='https://wandb.ai/simon-ecke/wze-uav-species' target=\"_blank\">Weights & Biases</a> (<a href='https://wandb.me/run' target=\"_blank\">docs</a>)<br/>"
      ],
      "text/plain": [
       "<IPython.core.display.HTML object>"
      ]
     },
     "metadata": {},
     "output_type": "display_data"
    },
    {
     "data": {
      "text/html": [
       " View project at <a href='https://wandb.ai/simon-ecke/wze-uav-species' target=\"_blank\">https://wandb.ai/simon-ecke/wze-uav-species</a>"
      ],
      "text/plain": [
       "<IPython.core.display.HTML object>"
      ]
     },
     "metadata": {},
     "output_type": "display_data"
    },
    {
     "data": {
      "text/html": [
       " View run at <a href='https://wandb.ai/simon-ecke/wze-uav-species/runs/wwavwuz3' target=\"_blank\">https://wandb.ai/simon-ecke/wze-uav-species/runs/wwavwuz3</a>"
      ],
      "text/plain": [
       "<IPython.core.display.HTML object>"
      ]
     },
     "metadata": {},
     "output_type": "display_data"
    },
    {
     "data": {
      "text/html": [
       "<button onClick=\"this.nextSibling.style.display='block';this.style.display='none';\">Display W&B run</button><iframe src='https://wandb.ai/simon-ecke/wze-uav-species/runs/wwavwuz3?jupyter=true' style='border:none;width:100%;height:420px;display:none;'></iframe>"
      ],
      "text/plain": [
       "<wandb.sdk.wandb_run.Run at 0x1aa5f4f1b80>"
      ]
     },
     "execution_count": 19,
     "metadata": {},
     "output_type": "execute_result"
    }
   ],
   "source": [
    "# IMPORTANT: The proxy needs to be set in anaconda!\n",
    "# copy paste this in anaconda and restart jupyter notebook\n",
    "#set http_proxy=http://www-proxy.bayern.de:80\n",
    "#set https_proxy=http://www-proxy.bayern.de:80\n",
    "wandb.login()\n",
    "#wandb.init(settings=wandb.Settings(start_method=\"thread\"))\n",
    "wandb.init(project='wze-uav-species', entity='simon-ecke')"
   ]
  },
  {
   "cell_type": "markdown",
   "id": "a26a6a34",
   "metadata": {},
   "source": [
    "#### Ensure reproducibility "
   ]
  },
  {
   "cell_type": "code",
   "execution_count": 20,
   "id": "dd4656a7",
   "metadata": {},
   "outputs": [],
   "source": [
    "# for more information, see also: https://pytorch.org/docs/stable/notes/randomness.html\n",
    "\n",
    "# Set seeds\n",
    "def set_seeds(seed: int=42):\n",
    "    \"\"\"Sets random sets for torch operations.\n",
    "\n",
    "    Args:\n",
    "        seed (int, optional): Random seed to set. Defaults to 42.\n",
    "    \"\"\"\n",
    "    # Set the seed for general torch operations\n",
    "    torch.manual_seed(seed)\n",
    "    # Set the seed for CUDA torch operations (ones that happen on the GPU)\n",
    "    torch.cuda.manual_seed(seed)\n",
    "    # seed for numpy\n",
    "    np.random.seed(seed)\n",
    "\n",
    "set_seeds(42) \n",
    "\n",
    "# Set to true -> might speed up the process but should be set to False if reproducible results are desired\n",
    "torch.backends.cudnn.benchmark = False\n"
   ]
  },
  {
   "cell_type": "markdown",
   "id": "8be33671",
   "metadata": {},
   "source": [
    "#### Define file directory"
   ]
  },
  {
   "cell_type": "code",
   "execution_count": 21,
   "id": "30645f36",
   "metadata": {},
   "outputs": [],
   "source": [
    "#####################################################################################\n",
    "# 3 channel input (r-g-b)\n",
    "#data_path = r\"D:\\Drohnendaten\\10_WZE-UAV\\Auswertung_findatree\\Datasplit\\ROI\\rgb\"\n",
    "\n",
    "# 4 channel input (r-g-b-nir)\n",
    "#data_path = r\"D:\\Drohnendaten\\10_WZE-UAV\\Auswertung_findatree\\Datasplit\\ROI\\rgb-nir\"\n",
    "\n",
    "# 5 channel input (r-g-b-re-nir)\n",
    "data_path = r\"D:\\Drohnendaten\\10_WZE-UAV\\Auswertung_findatree\\Datasplit\\ROI\\rgb-re-nir\"\n",
    "\n",
    "#####################################################################################"
   ]
  },
  {
   "cell_type": "markdown",
   "id": "4560ce64",
   "metadata": {},
   "source": [
    "#### Get all file paths"
   ]
  },
  {
   "cell_type": "code",
   "execution_count": 22,
   "id": "aa072e4c",
   "metadata": {},
   "outputs": [],
   "source": [
    "fn_list = os.listdir(data_path)\n",
    "path_list = []\n",
    "# Iterate over all datafiles\n",
    "for year in fn_list:\n",
    "    year_dir = f'{data_path}\\\\{year}'\n",
    "    for filename in os.listdir(year_dir):\n",
    "        path = f'{year_dir}\\\\{filename}'\n",
    "        path_list.append(path)"
   ]
  },
  {
   "cell_type": "markdown",
   "id": "f3937a44",
   "metadata": {},
   "source": [
    "#### Create unique hash IDs for every individual tree"
   ]
  },
  {
   "cell_type": "code",
   "execution_count": 23,
   "id": "8a50f1d7",
   "metadata": {},
   "outputs": [
    {
     "data": {
      "application/vnd.jupyter.widget-view+json": {
       "model_id": "a5dd3f0a557e49379f93fdbd74a258c4",
       "version_major": 2,
       "version_minor": 0
      },
      "text/plain": [
       "Creating unique tree IDs...:   0%|          | 0/647 [00:00<?, ?it/s]"
      ]
     },
     "metadata": {},
     "output_type": "display_data"
    }
   ],
   "source": [
    "hashID_dict = data_loader.get_unique_treeID(path_list)"
   ]
  },
  {
   "cell_type": "markdown",
   "id": "6f4cea00",
   "metadata": {},
   "source": [
    "#### Import all imagery, labels and other features from hdf5 files"
   ]
  },
  {
   "cell_type": "code",
   "execution_count": 24,
   "id": "94e3eecf",
   "metadata": {},
   "outputs": [
    {
     "data": {
      "application/vnd.jupyter.widget-view+json": {
       "model_id": "f5affcbc36364925ab74110a002e875b",
       "version_major": 2,
       "version_minor": 0
      },
      "text/plain": [
       "Processing hdf5 datasets:   0%|          | 0/647 [00:00<?, ?it/s]"
      ]
     },
     "metadata": {},
     "output_type": "display_data"
    }
   ],
   "source": [
    "image_set, label_set, species_set, kkl_set, bk_set, hash_id = data_loader.hdf5_to_img_label_species(path_list,\n",
    "                                                                                               hashID_dict,\n",
    "                                                                                               load_sets=[\"images_masked\"])"
   ]
  },
  {
   "cell_type": "markdown",
   "id": "6a90e2b7",
   "metadata": {},
   "source": [
    "#### Convert nbv to classes"
   ]
  },
  {
   "cell_type": "code",
   "execution_count": 25,
   "id": "0224972a",
   "metadata": {},
   "outputs": [],
   "source": [
    "nbv_set = label_set\n",
    "label_set = species_to_classes(species_set, nbv_set)"
   ]
  },
  {
   "cell_type": "markdown",
   "id": "c6b4cd85",
   "metadata": {},
   "source": [
    "#### Split data into a sub set and a test dataset"
   ]
  },
  {
   "cell_type": "code",
   "execution_count": 26,
   "id": "d06eda54",
   "metadata": {},
   "outputs": [
    {
     "name": "stdout",
     "output_type": "stream",
     "text": [
      "ORIGINAL POSITIVE RATIO: 1.3902872371927746\n",
      "Fold : 0\n",
      "TRAIN POSITIVE RATIO: 1.390398293029872\n",
      "TEST POSITIVE RATIO : 1.3897345132743364\n",
      "LENGTH TRAIN GROUPS : 5344\n",
      "LENGTH TEST GROUPS  : 1066\n",
      "Number of True in sub_indices: 14060\n",
      "Number of False in sub_indices: 2825\n",
      "Number of True in test_indices: 1066\n",
      "Number of False in test_indices: 15819\n",
      "Check shapes:\n",
      "\n",
      "Images sub dataset: (14060, 250, 250, 5)\n",
      "Labels sub dataset: (14060, 1)\n",
      "\n",
      "Images test dataset: (1066, 250, 250, 5)\n",
      "Labels test dataset: (1066, 1)\n",
      "\n",
      "--------------------------------------------------\n",
      "Check if the split was stratified: (random_state=42)\n",
      "Healthy trees in sub dataset: 5641\n",
      "Stressed trees in sub dataset: 3937\n",
      "Dead trees in sub dataset: 553\n",
      "Healthy trees in test dataset: 458\n",
      "Stressed trees in test dataset: 258\n",
      "Dead trees in test dataset: 46\n",
      "Ratio health trees in test dataset: 0.08119127814217338\n",
      "Ratio stressed trees in test dataset: 0.06553213106426213\n",
      "Ratio dead trees in test dataset: 0.08318264014466546\n"
     ]
    }
   ],
   "source": [
    "sub_image_set, sub_label_set, sub_hash_id, sub_species_set, test_image_set, test_label_set, test_hash_id, test_species_set = data_split(image_set, label_set, hash_id, species_set, n_splits=6, random_state=42, seed=2)\n"
   ]
  },
  {
   "cell_type": "markdown",
   "id": "c48fbb5b",
   "metadata": {},
   "source": [
    "#### Check if any hash ID is in both sub and test dataset"
   ]
  },
  {
   "cell_type": "code",
   "execution_count": 27,
   "id": "874367cf",
   "metadata": {},
   "outputs": [
    {
     "name": "stdout",
     "output_type": "stream",
     "text": [
      "There are no hash_id values in both train and test datasets. The datasplit was successful\n"
     ]
    }
   ],
   "source": [
    "hash_set = set(sub_hash_id[:,0].flatten())\n",
    "test_hash_set = set(test_hash_id[:,0].flatten())\n",
    "intersection = hash_set.intersection(test_hash_set)\n",
    "if intersection:\n",
    "    print(f\"Hash_id values in both train and test sets: {len(intersection)}\")\n",
    "else:\n",
    "    print(\"There are no hash_id values in both train and test datasets. The datasplit was successful\")"
   ]
  },
  {
   "cell_type": "markdown",
   "id": "9e5b64d4",
   "metadata": {},
   "source": [
    "#### Check feature distribution of the Test dataset"
   ]
  },
  {
   "cell_type": "code",
   "execution_count": 28,
   "id": "a33ff5cb",
   "metadata": {},
   "outputs": [
    {
     "name": "stdout",
     "output_type": "stream",
     "text": [
      "Test dataset\n",
      "Test data Picea abies: 458\n",
      "Test data Pinus sylvestris: 258\n",
      "Test data Abies alba: 46\n",
      "Test data Fagus sylvatica: 162\n",
      "Test data Quercus robur/petraea: 98\n",
      "Test data Larix: 22\n",
      "Test data dead trees: 22\n",
      "--------------------------------------------------\n",
      "Remaining dataset\n",
      "Remaining data Picea abies: 5641\n",
      "Remaining data Pinus sylvestris: 3937\n",
      "Remaining data Abies alba: 553\n",
      "Remaining data Fagus sylvatica: 2127\n",
      "Remaining data Quercus robur/petraea: 1124\n",
      "Remaining data Larix: 439\n",
      "Remaining data dead trees: 239\n",
      "--------------------------------------------------\n"
     ]
    }
   ],
   "source": [
    "def count_occurrences(data, value):\n",
    "    count = 0\n",
    "    for item in data:\n",
    "        if item == value:\n",
    "            count += 1\n",
    "    return count\n",
    "\n",
    "print(\"Test dataset\")\n",
    "print(f\"Test data Picea abies: {count_occurrences(test_label_set, 0)}\")\n",
    "print(f\"Test data Pinus sylvestris: {count_occurrences(test_label_set, 1)}\")\n",
    "print(f\"Test data Abies alba: {count_occurrences(test_label_set, 2)}\")\n",
    "print(f\"Test data Fagus sylvatica: {count_occurrences(test_label_set, 3)}\")\n",
    "print(f\"Test data Quercus robur/petraea: {count_occurrences(test_label_set, 4)}\")\n",
    "print(f\"Test data Larix: {count_occurrences(test_label_set, 5)}\")\n",
    "print(f\"Test data dead trees: {count_occurrences(test_label_set, 6)}\")\n",
    "print(\"-\"*50)\n",
    "\n",
    "print(\"Remaining dataset\")\n",
    "print(f\"Remaining data Picea abies: {count_occurrences(sub_label_set, 0)}\")\n",
    "print(f\"Remaining data Pinus sylvestris: {count_occurrences(sub_label_set, 1)}\")\n",
    "print(f\"Remaining data Abies alba: {count_occurrences(sub_label_set, 2)}\")\n",
    "print(f\"Remaining data Fagus sylvatica: {count_occurrences(sub_label_set, 3)}\")\n",
    "print(f\"Remaining data Quercus robur/petraea: {count_occurrences(sub_label_set, 4)}\")\n",
    "print(f\"Remaining data Larix: {count_occurrences(sub_label_set, 5)}\")\n",
    "print(f\"Remaining data dead trees: {count_occurrences(sub_label_set, 6)}\")\n",
    "print(\"-\"*50)"
   ]
  },
  {
   "cell_type": "code",
   "execution_count": 29,
   "id": "e08fcf57",
   "metadata": {},
   "outputs": [],
   "source": [
    "# train transform with augmentation. \n",
    "transform_train = transforms.Compose([transforms.ToTensor(), transforms.RandomHorizontalFlip(p=0.5), transforms.RandomVerticalFlip(p=0.5),\n",
    "                                      transforms.RandomRotation(degrees=[0,360])])\n",
    "\n",
    "# test and val dataset transform without augmentation. \n",
    "transform = transforms.Compose([transforms.ToTensor()])\n",
    "\n",
    "# class names need to fit the customDataset class used e.g. 3 classes -> use CustomDataset3Classes\n",
    "#class_names = ['healthy', 'slightly_stressed', 'moderately_stressed', 'highly_stressed', 'dead']\n",
    "#class_names = ['healthy', 'moderately_stressed', 'highly_stressed', 'dead']\n",
    "#class_names = ['healthy', 'moderate stress', 'severe stress', 'dead']\n",
    "class_names = ['Picea abies', 'Pinus sylvestris', 'Abies alba', 'Fagus sylvatica', 'Quercus robur/petraea', 'Larix', 'dead']\n",
    "\n",
    "# set seeds\n",
    "g = torch.Generator()\n",
    "g.manual_seed(42)\n",
    "NUM_WORKERS=3 # should be changed, depending on the system used\n",
    "batch_size=32"
   ]
  },
  {
   "cell_type": "markdown",
   "id": "31779c05",
   "metadata": {},
   "source": [
    "#### Define variables and parameters"
   ]
  },
  {
   "cell_type": "code",
   "execution_count": 30,
   "id": "10ae4379",
   "metadata": {},
   "outputs": [
    {
     "name": "stdout",
     "output_type": "stream",
     "text": [
      "Memory allocated: 0 bytes\n"
     ]
    }
   ],
   "source": [
    "# 1. Define number of epochs\n",
    "epochs = 50\n",
    "n_bands = sub_image_set[0].shape[2] # get number of bands\n",
    "\n",
    "# 2. Define model\n",
    "num_classes = len(class_names)\n",
    "unfreeze = True # all layer weights get updated\n",
    "dropout_rate = 0.5 #define dropout rate\n",
    "model_name = \"EffNet_b7_RGB-RE-NIR-6species-dead\"\n",
    "\n",
    "# 3. Define loss, optimizer and learning rate scheduler\n",
    "lr = 0.001 # define learning rate\n",
    "min_lr = 1e-6 # minimum learning rate threshold\n",
    "gamma = 0.75 # how fast the learning rate decreases per epoch (low number=faster decrease)\n",
    "patience = 10\n",
    "\n",
    "# 4. Create target folder name were to save the tensorboard event files\n",
    "experiment_name = 'RGB-RE-NIR-6species-dead'\n",
    "extra = \"RGB-RE-NIR-6species-dead\"\n",
    "\n",
    "#----------------------------------------------------------------------\n",
    "#torch.cuda.empty_cache()\n",
    "print(f\"Memory allocated: {torch.cuda.memory_allocated()} bytes\") "
   ]
  },
  {
   "cell_type": "markdown",
   "id": "09768b1a",
   "metadata": {},
   "source": [
    "#### Run k-Fold cross-validation on EfficientNet"
   ]
  },
  {
   "cell_type": "code",
   "execution_count": 31,
   "id": "9c29c81d",
   "metadata": {},
   "outputs": [
    {
     "name": "stdout",
     "output_type": "stream",
     "text": [
      "ORIGINAL POSITIVE RATIO: 1.390398293029872\n",
      "Fold : 1\n",
      "TRAIN POSITIVE RATIO: 1.3829088650279528\n",
      "VAL POSITIVE RATIO  : 1.420637764242207\n",
      "LENGTH TRAIN GROUPS : 4277\n",
      "LENGTH VAL GROUPS   : 1067\n"
     ]
    },
    {
     "data": {
      "text/html": [
       "Finishing last run (ID:wwavwuz3) before initializing another..."
      ],
      "text/plain": [
       "<IPython.core.display.HTML object>"
      ]
     },
     "metadata": {},
     "output_type": "display_data"
    },
    {
     "data": {
      "text/html": [
       "Waiting for W&B process to finish... <strong style=\"color:green\">(success).</strong>"
      ],
      "text/plain": [
       "<IPython.core.display.HTML object>"
      ]
     },
     "metadata": {},
     "output_type": "display_data"
    },
    {
     "data": {
      "application/vnd.jupyter.widget-view+json": {
       "model_id": "54490136ee6c48bd9075f449de09982a",
       "version_major": 2,
       "version_minor": 0
      },
      "text/plain": [
       "VBox(children=(Label(value='0.001 MB of 0.001 MB uploaded (0.000 MB deduped)\\r'), FloatProgress(value=1.0, max…"
      ]
     },
     "metadata": {},
     "output_type": "display_data"
    },
    {
     "data": {
      "text/html": [
       " View run <strong style=\"color:#cdcd00\">likely-wood-22</strong> at: <a href='https://wandb.ai/simon-ecke/wze-uav-species/runs/wwavwuz3' target=\"_blank\">https://wandb.ai/simon-ecke/wze-uav-species/runs/wwavwuz3</a><br/>Synced 5 W&B file(s), 0 media file(s), 0 artifact file(s) and 0 other file(s)"
      ],
      "text/plain": [
       "<IPython.core.display.HTML object>"
      ]
     },
     "metadata": {},
     "output_type": "display_data"
    },
    {
     "data": {
      "text/html": [
       "Find logs at: <code>.\\wandb\\run-20230503_155637-wwavwuz3\\logs</code>"
      ],
      "text/plain": [
       "<IPython.core.display.HTML object>"
      ]
     },
     "metadata": {},
     "output_type": "display_data"
    },
    {
     "data": {
      "text/html": [
       "Successfully finished last run (ID:wwavwuz3). Initializing new run:<br/>"
      ],
      "text/plain": [
       "<IPython.core.display.HTML object>"
      ]
     },
     "metadata": {},
     "output_type": "display_data"
    },
    {
     "data": {
      "application/vnd.jupyter.widget-view+json": {
       "model_id": "db0ead66c5834d78a39bf8411587fe79",
       "version_major": 2,
       "version_minor": 0
      },
      "text/plain": [
       "VBox(children=(Label(value='Waiting for wandb.init()...\\r'), FloatProgress(value=0.016666666666666666, max=1.0…"
      ]
     },
     "metadata": {},
     "output_type": "display_data"
    },
    {
     "data": {
      "text/html": [
       "wandb version 0.15.1 is available!  To upgrade, please run:\n",
       " $ pip install wandb --upgrade"
      ],
      "text/plain": [
       "<IPython.core.display.HTML object>"
      ]
     },
     "metadata": {},
     "output_type": "display_data"
    },
    {
     "data": {
      "text/html": [
       "Tracking run with wandb version 0.14.2"
      ],
      "text/plain": [
       "<IPython.core.display.HTML object>"
      ]
     },
     "metadata": {},
     "output_type": "display_data"
    },
    {
     "data": {
      "text/html": [
       "Run data is saved locally in <code>C:\\Users\\lwfeckesim\\01_PyTorch\\wze-uav\\wze-uav-master\\wandb\\run-20230503_165537-uknscoxg</code>"
      ],
      "text/plain": [
       "<IPython.core.display.HTML object>"
      ]
     },
     "metadata": {},
     "output_type": "display_data"
    },
    {
     "data": {
      "text/html": [
       "Syncing run <strong><a href='https://wandb.ai/simon-ecke/wze-uav-species/runs/uknscoxg' target=\"_blank\">fold_1_RGB-RE-NIR-6species-dead</a></strong> to <a href='https://wandb.ai/simon-ecke/wze-uav-species' target=\"_blank\">Weights & Biases</a> (<a href='https://wandb.me/run' target=\"_blank\">docs</a>)<br/>"
      ],
      "text/plain": [
       "<IPython.core.display.HTML object>"
      ]
     },
     "metadata": {},
     "output_type": "display_data"
    },
    {
     "data": {
      "text/html": [
       " View project at <a href='https://wandb.ai/simon-ecke/wze-uav-species' target=\"_blank\">https://wandb.ai/simon-ecke/wze-uav-species</a>"
      ],
      "text/plain": [
       "<IPython.core.display.HTML object>"
      ]
     },
     "metadata": {},
     "output_type": "display_data"
    },
    {
     "data": {
      "text/html": [
       " View run at <a href='https://wandb.ai/simon-ecke/wze-uav-species/runs/uknscoxg' target=\"_blank\">https://wandb.ai/simon-ecke/wze-uav-species/runs/uknscoxg</a>"
      ],
      "text/plain": [
       "<IPython.core.display.HTML object>"
      ]
     },
     "metadata": {},
     "output_type": "display_data"
    },
    {
     "name": "stdout",
     "output_type": "stream",
     "text": [
      "There are no same hash_id values in train, val or test datasets. The datasplit was successful\n",
      "Check shapes:\n",
      "\n",
      "Images train dataset: (11269, 250, 250, 5)\n",
      "Labels train dataset: (11269, 1)\n",
      "\n",
      "Images validation dataset: (1067, 250, 250, 5)\n",
      "Labels validation dataset: (1067, 1)\n",
      "\n",
      "--------------------------------------------------\n",
      "Check if the split was stratified: (random_state=42)\n",
      "Healthy trees in train dataset: 4520\n",
      "Moderately stressed trees in train dataset: 3179\n",
      "Severely stressed trees in train dataset: 463\n",
      "Dead trees in train dataset: 1679\n",
      "Healthy trees in validation dataset: 447\n",
      "Moderately stressed trees in validation dataset: 277\n",
      "Severely stressed trees in validation dataset: 35\n",
      "Dead trees in validation dataset: 167\n",
      "Ratio health trees in validation dataset: 0.07924126927849671\n",
      "Ratio moderately stressed trees in validation dataset: 0.07035814071628144\n",
      "Ratio severely stressed trees in validation dataset: 0.5009041591320073\n",
      "Ratio dead trees in validation dataset: 0.016455101081335213\n",
      "--------------------------------------------------\n",
      "\n",
      "Creating datasets for fold: 1\n",
      "\n",
      "Creating dataloaders for fold: 1\n",
      "\n",
      "Loaded pretrained weights for efficientnet-b7\n",
      "\n",
      "[INFO] Fold number: 1\n",
      "[INFO] Number of epochs: 50\n",
      "[INFO] Batch_size: 32\n",
      "[INFO] Number of bands: 5\n",
      "[INFO] Dropout rate: 0.5\n",
      "[INFO] Gamma learning rate: 0.75\n",
      "[INFO] Memory allocated: 0 bytes\n"
     ]
    },
    {
     "data": {
      "application/vnd.jupyter.widget-view+json": {
       "model_id": "6b896b1f7d05407f9d8a4cdf6d86474c",
       "version_major": 2,
       "version_minor": 0
      },
      "text/plain": [
       "  0%|          | 0/50 [00:00<?, ?it/s]"
      ]
     },
     "metadata": {},
     "output_type": "display_data"
    },
    {
     "name": "stdout",
     "output_type": "stream",
     "text": [
      "Epoch: 1 \n",
      "Learning rate: 0.001\n",
      "Train loss: 0.9662 | Train precision: 0.5575 | Train recall: 0.4626 | Train f1score: 0.4806 | Train acc: 0.6468 | Train kappa: 0.6127 \n",
      "Val loss: 2.2894 | Val precision: 0.3439 | Val recall: 0.1805 | Val f1score: 0.1473 | Val acc: 0.4356 | Val kappa: 0.0602 \n",
      "\n",
      "Epoch: 2 \n",
      "Learning rate: 0.00075\n",
      "Train loss: 0.6475 | Train precision: 0.7021 | Train recall: 0.6520 | Train f1score: 0.6687 | Train acc: 0.7660 | Train kappa: 0.7567 \n",
      "Val loss: 0.8096 | Val precision: 0.5879 | Val recall: 0.6094 | Val f1score: 0.5037 | Val acc: 0.7102 | Val kappa: 0.5966 \n",
      "\n",
      "Epoch: 3 \n",
      "Learning rate: 0.0005625000000000001\n",
      "Train loss: 0.5611 | Train precision: 0.7480 | Train recall: 0.7139 | Train f1score: 0.7268 | Train acc: 0.7962 | Train kappa: 0.7818 \n",
      "Val loss: 0.5531 | Val precision: 0.7696 | Val recall: 0.7056 | Val f1score: 0.7203 | Val acc: 0.8125 | Val kappa: 0.7749 \n",
      "\n",
      "Epoch: 4 \n",
      "Learning rate: 0.000421875\n",
      "Train loss: 0.4730 | Train precision: 0.7939 | Train recall: 0.7566 | Train f1score: 0.7718 | Train acc: 0.8295 | Train kappa: 0.8258 \n",
      "Val loss: 0.9240 | Val precision: 0.7493 | Val recall: 0.6128 | Val f1score: 0.6288 | Val acc: 0.6790 | Val kappa: 0.7193 \n",
      "\n",
      "Epoch: 5 \n",
      "Learning rate: 0.00031640625\n",
      "Train loss: 0.4158 | Train precision: 0.8201 | Train recall: 0.7903 | Train f1score: 0.8031 | Train acc: 0.8527 | Train kappa: 0.8448 \n",
      "Val loss: 0.4608 | Val precision: 0.8173 | Val recall: 0.7579 | Val f1score: 0.7614 | Val acc: 0.8447 | Val kappa: 0.8243 \n",
      "\n",
      "Epoch: 6 \n",
      "Learning rate: 0.0002373046875\n",
      "Train loss: 0.3804 | Train precision: 0.8342 | Train recall: 0.8067 | Train f1score: 0.8186 | Train acc: 0.8617 | Train kappa: 0.8501 \n",
      "Val loss: 0.4199 | Val precision: 0.8311 | Val recall: 0.7515 | Val f1score: 0.7727 | Val acc: 0.8485 | Val kappa: 0.8255 \n",
      "\n",
      "Epoch: 7 \n",
      "Learning rate: 0.000177978515625\n",
      "Train loss: 0.3579 | Train precision: 0.8464 | Train recall: 0.8257 | Train f1score: 0.8343 | Train acc: 0.8704 | Train kappa: 0.8686 \n",
      "Val loss: 0.3608 | Val precision: 0.8378 | Val recall: 0.8034 | Val f1score: 0.8097 | Val acc: 0.8722 | Val kappa: 0.8654 \n",
      "\n",
      "Epoch: 8 \n",
      "Learning rate: 0.00013348388671875\n",
      "Train loss: 0.3272 | Train precision: 0.8671 | Train recall: 0.8427 | Train f1score: 0.8532 | Train acc: 0.8856 | Train kappa: 0.8767 \n",
      "Val loss: 0.4411 | Val precision: 0.8405 | Val recall: 0.7487 | Val f1score: 0.7584 | Val acc: 0.8551 | Val kappa: 0.8250 \n",
      "\n",
      "Epoch: 9 \n",
      "Learning rate: 0.0001001129150390625\n",
      "Train loss: 0.2999 | Train precision: 0.8780 | Train recall: 0.8574 | Train f1score: 0.8664 | Train acc: 0.8936 | Train kappa: 0.8937 \n",
      "Val loss: 0.3536 | Val precision: 0.8135 | Val recall: 0.8194 | Val f1score: 0.8120 | Val acc: 0.8759 | Val kappa: 0.8289 \n",
      "\n",
      "Epoch: 10 \n",
      "Learning rate: 7.508468627929687e-05\n",
      "Train loss: 0.2988 | Train precision: 0.8803 | Train recall: 0.8634 | Train f1score: 0.8712 | Train acc: 0.8931 | Train kappa: 0.8939 \n",
      "Val loss: 0.3277 | Val precision: 0.8652 | Val recall: 0.8249 | Val f1score: 0.8383 | Val acc: 0.8939 | Val kappa: 0.8786 \n",
      "\n",
      "Epoch: 11 \n",
      "Learning rate: 5.6313514709472656e-05\n",
      "Train loss: 0.2745 | Train precision: 0.8895 | Train recall: 0.8644 | Train f1score: 0.8757 | Train acc: 0.9044 | Train kappa: 0.8902 \n",
      "Val loss: 0.3350 | Val precision: 0.8376 | Val recall: 0.8311 | Val f1score: 0.8253 | Val acc: 0.8864 | Val kappa: 0.8472 \n",
      "\n",
      "Epoch: 12 \n",
      "Learning rate: 4.223513603210449e-05\n",
      "Train loss: 0.2581 | Train precision: 0.8944 | Train recall: 0.8735 | Train f1score: 0.8828 | Train acc: 0.9078 | Train kappa: 0.8966 \n",
      "Val loss: 0.3284 | Val precision: 0.8599 | Val recall: 0.8401 | Val f1score: 0.8454 | Val acc: 0.8977 | Val kappa: 0.8633 \n",
      "\n",
      "Epoch: 13 \n",
      "Learning rate: 3.167635202407837e-05\n",
      "Train loss: 0.2600 | Train precision: 0.8952 | Train recall: 0.8731 | Train f1score: 0.8832 | Train acc: 0.9079 | Train kappa: 0.8973 \n",
      "Val loss: 0.3265 | Val precision: 0.8456 | Val recall: 0.8269 | Val f1score: 0.8304 | Val acc: 0.8911 | Val kappa: 0.8602 \n",
      "\n",
      "Epoch: 14 \n",
      "Learning rate: 2.3757264018058778e-05\n",
      "Train loss: 0.2447 | Train precision: 0.8992 | Train recall: 0.8867 | Train f1score: 0.8924 | Train acc: 0.9145 | Train kappa: 0.9051 \n",
      "Val loss: 0.3210 | Val precision: 0.8463 | Val recall: 0.8256 | Val f1score: 0.8322 | Val acc: 0.8930 | Val kappa: 0.8529 \n",
      "\n",
      "Epoch: 15 \n",
      "Learning rate: 1.7817948013544083e-05\n",
      "Train loss: 0.2407 | Train precision: 0.9019 | Train recall: 0.8831 | Train f1score: 0.8917 | Train acc: 0.9150 | Train kappa: 0.9086 \n",
      "Val loss: 0.3191 | Val precision: 0.8467 | Val recall: 0.8269 | Val f1score: 0.8324 | Val acc: 0.8902 | Val kappa: 0.8544 \n",
      "\n",
      "Epoch: 16 \n",
      "Learning rate: 1.3363461010158063e-05\n",
      "Train loss: 0.2494 | Train precision: 0.8983 | Train recall: 0.8848 | Train f1score: 0.8908 | Train acc: 0.9092 | Train kappa: 0.9127 \n",
      "Val loss: 0.3136 | Val precision: 0.8470 | Val recall: 0.8362 | Val f1score: 0.8381 | Val acc: 0.8930 | Val kappa: 0.8587 \n",
      "\n",
      "Epoch: 17 \n",
      "Learning rate: 1.0022595757618546e-05\n",
      "Train loss: 0.2379 | Train precision: 0.9084 | Train recall: 0.8921 | Train f1score: 0.8998 | Train acc: 0.9154 | Train kappa: 0.9111 \n",
      "Val loss: 0.3170 | Val precision: 0.8481 | Val recall: 0.8294 | Val f1score: 0.8343 | Val acc: 0.8911 | Val kappa: 0.8618 \n",
      "\n",
      "Epoch: 18 \n",
      "Learning rate: 7.51694681821391e-06\n",
      "Train loss: 0.2361 | Train precision: 0.9007 | Train recall: 0.8818 | Train f1score: 0.8905 | Train acc: 0.9155 | Train kappa: 0.9067 \n",
      "Val loss: 0.3141 | Val precision: 0.8565 | Val recall: 0.8347 | Val f1score: 0.8415 | Val acc: 0.8949 | Val kappa: 0.8593 \n",
      "\n",
      "Epoch: 19 \n",
      "Learning rate: 5.637710113660432e-06\n",
      "Train loss: 0.2277 | Train precision: 0.9082 | Train recall: 0.8904 | Train f1score: 0.8987 | Train acc: 0.9180 | Train kappa: 0.9186 \n",
      "Val loss: 0.3159 | Val precision: 0.8599 | Val recall: 0.8282 | Val f1score: 0.8385 | Val acc: 0.8920 | Val kappa: 0.8683 \n",
      "\n",
      "Epoch: 20 \n",
      "Learning rate: 4.228282585245324e-06\n",
      "Train loss: 0.2322 | Train precision: 0.9022 | Train recall: 0.8850 | Train f1score: 0.8929 | Train acc: 0.9132 | Train kappa: 0.9093 \n",
      "Val loss: 0.3161 | Val precision: 0.8550 | Val recall: 0.8378 | Val f1score: 0.8426 | Val acc: 0.8939 | Val kappa: 0.8654 \n",
      "\n",
      "Epoch: 21 \n",
      "Learning rate: 3.1712119389339933e-06\n",
      "Train loss: 0.2358 | Train precision: 0.9081 | Train recall: 0.8860 | Train f1score: 0.8960 | Train acc: 0.9161 | Train kappa: 0.9121 \n",
      "Val loss: 0.3158 | Val precision: 0.8520 | Val recall: 0.8310 | Val f1score: 0.8374 | Val acc: 0.8930 | Val kappa: 0.8650 \n",
      "\n",
      "Epoch: 22 \n",
      "Learning rate: 2.378408954200495e-06\n",
      "Train loss: 0.2280 | Train precision: 0.9070 | Train recall: 0.8910 | Train f1score: 0.8984 | Train acc: 0.9174 | Train kappa: 0.9174 \n",
      "Val loss: 0.3126 | Val precision: 0.8486 | Val recall: 0.8372 | Val f1score: 0.8412 | Val acc: 0.8968 | Val kappa: 0.8630 \n",
      "\n",
      "Epoch: 23 \n",
      "Learning rate: 1.7838067156503713e-06\n",
      "Train loss: 0.2335 | Train precision: 0.9060 | Train recall: 0.8909 | Train f1score: 0.8978 | Train acc: 0.9158 | Train kappa: 0.9145 \n",
      "Val loss: 0.3153 | Val precision: 0.8517 | Val recall: 0.8306 | Val f1score: 0.8370 | Val acc: 0.8930 | Val kappa: 0.8612 \n",
      "\n",
      "Epoch: 24 \n",
      "Learning rate: 1.3378550367377785e-06\n",
      "Train loss: 0.2283 | Train precision: 0.9102 | Train recall: 0.8887 | Train f1score: 0.8987 | Train acc: 0.9202 | Train kappa: 0.9158 \n",
      "Val loss: 0.3131 | Val precision: 0.8505 | Val recall: 0.8352 | Val f1score: 0.8399 | Val acc: 0.8939 | Val kappa: 0.8618 \n",
      "\n",
      "Epoch: 25 \n",
      "Learning rate: 1.0033912775533338e-06\n",
      "Train loss: 0.2300 | Train precision: 0.9090 | Train recall: 0.8956 | Train f1score: 0.9020 | Train acc: 0.9181 | Train kappa: 0.9152 \n",
      "Val loss: 0.3122 | Val precision: 0.8613 | Val recall: 0.8374 | Val f1score: 0.8454 | Val acc: 0.8977 | Val kappa: 0.8690 \n",
      "\n",
      "Epoch: 26 \n",
      "Learning rate: 1e-06\n",
      "Train loss: 0.2311 | Train precision: 0.9098 | Train recall: 0.8883 | Train f1score: 0.8982 | Train acc: 0.9169 | Train kappa: 0.9096 \n",
      "Val loss: 0.3117 | Val precision: 0.8470 | Val recall: 0.8362 | Val f1score: 0.8390 | Val acc: 0.8958 | Val kappa: 0.8545 \n",
      "\n",
      "Epoch: 27 \n",
      "Learning rate: 1e-06\n",
      "Train loss: 0.2293 | Train precision: 0.9055 | Train recall: 0.8896 | Train f1score: 0.8970 | Train acc: 0.9171 | Train kappa: 0.9179 \n",
      "Val loss: 0.3135 | Val precision: 0.8483 | Val recall: 0.8333 | Val f1score: 0.8371 | Val acc: 0.8949 | Val kappa: 0.8588 \n",
      "\n"
     ]
    },
    {
     "name": "stdout",
     "output_type": "stream",
     "text": [
      "Epoch: 28 \n",
      "Learning rate: 1e-06\n",
      "Train loss: 0.2354 | Train precision: 0.9010 | Train recall: 0.8873 | Train f1score: 0.8934 | Train acc: 0.9146 | Train kappa: 0.9129 \n",
      "Val loss: 0.3128 | Val precision: 0.8562 | Val recall: 0.8384 | Val f1score: 0.8446 | Val acc: 0.8977 | Val kappa: 0.8618 \n",
      "\n",
      "Epoch: 29 \n",
      "Learning rate: 1e-06\n",
      "Train loss: 0.2300 | Train precision: 0.9034 | Train recall: 0.8838 | Train f1score: 0.8930 | Train acc: 0.9132 | Train kappa: 0.9114 \n",
      "Val loss: 0.3146 | Val precision: 0.8600 | Val recall: 0.8331 | Val f1score: 0.8404 | Val acc: 0.8949 | Val kappa: 0.8644 \n",
      "\n",
      "Epoch: 30 \n",
      "Learning rate: 1e-06\n",
      "Train loss: 0.2309 | Train precision: 0.9067 | Train recall: 0.8852 | Train f1score: 0.8951 | Train acc: 0.9175 | Train kappa: 0.9077 \n",
      "Val loss: 0.3145 | Val precision: 0.8464 | Val recall: 0.8278 | Val f1score: 0.8328 | Val acc: 0.8902 | Val kappa: 0.8617 \n",
      "\n",
      "Epoch: 31 \n",
      "Learning rate: 1e-06\n",
      "Train loss: 0.2358 | Train precision: 0.9063 | Train recall: 0.8874 | Train f1score: 0.8963 | Train acc: 0.9171 | Train kappa: 0.9142 \n",
      "Val loss: 0.3116 | Val precision: 0.8525 | Val recall: 0.8301 | Val f1score: 0.8374 | Val acc: 0.8939 | Val kappa: 0.8618 \n",
      "\n",
      "Epoch: 32 \n",
      "Learning rate: 1e-06\n",
      "Train loss: 0.2231 | Train precision: 0.9087 | Train recall: 0.8939 | Train f1score: 0.9006 | Train acc: 0.9188 | Train kappa: 0.9170 \n",
      "Val loss: 0.3132 | Val precision: 0.8543 | Val recall: 0.8356 | Val f1score: 0.8414 | Val acc: 0.8949 | Val kappa: 0.8647 \n",
      "\n",
      "Epoch: 33 \n",
      "Learning rate: 1e-06\n",
      "Train loss: 0.2245 | Train precision: 0.9091 | Train recall: 0.8900 | Train f1score: 0.8983 | Train acc: 0.9189 | Train kappa: 0.9106 \n",
      "Val loss: 0.3150 | Val precision: 0.8621 | Val recall: 0.8375 | Val f1score: 0.8444 | Val acc: 0.8968 | Val kappa: 0.8679 \n",
      "\n",
      "Epoch: 34 \n",
      "Learning rate: 1e-06\n",
      "Train loss: 0.2388 | Train precision: 0.9032 | Train recall: 0.8853 | Train f1score: 0.8936 | Train acc: 0.9138 | Train kappa: 0.9067 \n",
      "Val loss: 0.3133 | Val precision: 0.8629 | Val recall: 0.8347 | Val f1score: 0.8440 | Val acc: 0.8977 | Val kappa: 0.8653 \n",
      "\n",
      "Epoch: 35 \n",
      "Learning rate: 1e-06\n",
      "Train loss: 0.2287 | Train precision: 0.9031 | Train recall: 0.8928 | Train f1score: 0.8975 | Train acc: 0.9174 | Train kappa: 0.9120 \n",
      "Val loss: 0.3140 | Val precision: 0.8552 | Val recall: 0.8318 | Val f1score: 0.8395 | Val acc: 0.8949 | Val kappa: 0.8599 \n",
      "\n",
      "Epoch: 36 \n",
      "Learning rate: 1e-06\n",
      "Train loss: 0.2304 | Train precision: 0.9107 | Train recall: 0.8901 | Train f1score: 0.8994 | Train acc: 0.9166 | Train kappa: 0.9125 \n",
      "Val loss: 0.3117 | Val precision: 0.8611 | Val recall: 0.8335 | Val f1score: 0.8427 | Val acc: 0.8968 | Val kappa: 0.8666 \n",
      "\n",
      "Epoch: 37 \n",
      "Learning rate: 1e-06\n",
      "Train loss: 0.2128 | Train precision: 0.9107 | Train recall: 0.8979 | Train f1score: 0.9038 | Train acc: 0.9237 | Train kappa: 0.9203 \n",
      "Val loss: 0.3124 | Val precision: 0.8579 | Val recall: 0.8393 | Val f1score: 0.8459 | Val acc: 0.8987 | Val kappa: 0.8632 \n",
      "\n",
      "Epoch: 38 \n",
      "Learning rate: 1e-06\n",
      "Train loss: 0.2318 | Train precision: 0.9122 | Train recall: 0.8923 | Train f1score: 0.9014 | Train acc: 0.9190 | Train kappa: 0.9166 \n",
      "Val loss: 0.3125 | Val precision: 0.8600 | Val recall: 0.8427 | Val f1score: 0.8486 | Val acc: 0.8996 | Val kappa: 0.8636 \n",
      "\n",
      "Epoch: 39 \n",
      "Learning rate: 1e-06\n",
      "Train loss: 0.2249 | Train precision: 0.9087 | Train recall: 0.8947 | Train f1score: 0.9011 | Train acc: 0.9196 | Train kappa: 0.9155 \n",
      "Val loss: 0.3125 | Val precision: 0.8605 | Val recall: 0.8384 | Val f1score: 0.8452 | Val acc: 0.8977 | Val kappa: 0.8657 \n",
      "\n",
      "Epoch: 40 \n",
      "Learning rate: 1e-06\n",
      "Train loss: 0.2197 | Train precision: 0.9081 | Train recall: 0.8952 | Train f1score: 0.9012 | Train acc: 0.9199 | Train kappa: 0.9187 \n",
      "Val loss: 0.3132 | Val precision: 0.8521 | Val recall: 0.8367 | Val f1score: 0.8413 | Val acc: 0.8958 | Val kappa: 0.8628 \n",
      "\n",
      "Epoch: 41 \n",
      "Learning rate: 1e-06\n",
      "Train loss: 0.2288 | Train precision: 0.9111 | Train recall: 0.8869 | Train f1score: 0.8978 | Train acc: 0.9180 | Train kappa: 0.9095 \n",
      "Val loss: 0.3150 | Val precision: 0.8625 | Val recall: 0.8403 | Val f1score: 0.8473 | Val acc: 0.8996 | Val kappa: 0.8696 \n",
      "\n",
      "Epoch: 42 \n",
      "Learning rate: 1e-06\n",
      "Train loss: 0.2272 | Train precision: 0.9064 | Train recall: 0.8923 | Train f1score: 0.8986 | Train acc: 0.9183 | Train kappa: 0.9162 \n",
      "Val loss: 0.3139 | Val precision: 0.8559 | Val recall: 0.8315 | Val f1score: 0.8387 | Val acc: 0.8939 | Val kappa: 0.8618 \n",
      "\n",
      "Epoch: 43 \n",
      "Learning rate: 1e-06\n",
      "Train loss: 0.2171 | Train precision: 0.9131 | Train recall: 0.8951 | Train f1score: 0.9034 | Train acc: 0.9208 | Train kappa: 0.9243 \n",
      "Val loss: 0.3146 | Val precision: 0.8610 | Val recall: 0.8320 | Val f1score: 0.8406 | Val acc: 0.8949 | Val kappa: 0.8645 \n",
      "\n",
      "Epoch: 44 \n",
      "Learning rate: 1e-06\n",
      "Train loss: 0.2298 | Train precision: 0.9020 | Train recall: 0.8875 | Train f1score: 0.8945 | Train acc: 0.9135 | Train kappa: 0.9125 \n",
      "Val loss: 0.3135 | Val precision: 0.8622 | Val recall: 0.8401 | Val f1score: 0.8479 | Val acc: 0.8996 | Val kappa: 0.8637 \n",
      "\n",
      "Epoch: 45 \n",
      "Learning rate: 1e-06\n",
      "Train loss: 0.2296 | Train precision: 0.9062 | Train recall: 0.8897 | Train f1score: 0.8972 | Train acc: 0.9173 | Train kappa: 0.9077 \n",
      "Val loss: 0.3138 | Val precision: 0.8580 | Val recall: 0.8405 | Val f1score: 0.8465 | Val acc: 0.8987 | Val kappa: 0.8635 \n",
      "\n",
      "Epoch: 46 \n",
      "Learning rate: 1e-06\n",
      "Train loss: 0.2251 | Train precision: 0.9070 | Train recall: 0.8899 | Train f1score: 0.8978 | Train acc: 0.9191 | Train kappa: 0.9150 \n",
      "Val loss: 0.3130 | Val precision: 0.8601 | Val recall: 0.8376 | Val f1score: 0.8457 | Val acc: 0.8977 | Val kappa: 0.8656 \n",
      "\n",
      "Epoch: 47 \n",
      "Learning rate: 1e-06\n",
      "Train loss: 0.2231 | Train precision: 0.9117 | Train recall: 0.8944 | Train f1score: 0.9023 | Train acc: 0.9205 | Train kappa: 0.9175 \n",
      "Val loss: 0.3161 | Val precision: 0.8571 | Val recall: 0.8331 | Val f1score: 0.8401 | Val acc: 0.8949 | Val kappa: 0.8621 \n",
      "\n",
      "Epoch: 48 \n",
      "Learning rate: 1e-06\n",
      "Train loss: 0.2212 | Train precision: 0.9157 | Train recall: 0.8954 | Train f1score: 0.9047 | Train acc: 0.9208 | Train kappa: 0.9199 \n",
      "Val loss: 0.3140 | Val precision: 0.8543 | Val recall: 0.8340 | Val f1score: 0.8401 | Val acc: 0.8958 | Val kappa: 0.8657 \n",
      "\n",
      "Early stopping after epoch 48\n"
     ]
    },
    {
     "data": {
      "text/html": [
       "Waiting for W&B process to finish... <strong style=\"color:green\">(success).</strong>"
      ],
      "text/plain": [
       "<IPython.core.display.HTML object>"
      ]
     },
     "metadata": {},
     "output_type": "display_data"
    },
    {
     "data": {
      "application/vnd.jupyter.widget-view+json": {
       "model_id": "27d29522dd35484bb7532d24c91861b9",
       "version_major": 2,
       "version_minor": 0
      },
      "text/plain": [
       "VBox(children=(Label(value='0.001 MB of 0.019 MB uploaded (0.000 MB deduped)\\r'), FloatProgress(value=0.065583…"
      ]
     },
     "metadata": {},
     "output_type": "display_data"
    },
    {
     "data": {
      "text/html": [
       "<style>\n",
       "    table.wandb td:nth-child(1) { padding: 0 10px; text-align: left ; width: auto;} td:nth-child(2) {text-align: left ; width: 100%}\n",
       "    .wandb-row { display: flex; flex-direction: row; flex-wrap: wrap; justify-content: flex-start; width: 100% }\n",
       "    .wandb-col { display: flex; flex-direction: column; flex-basis: 100%; flex: 1; padding: 10px; }\n",
       "    </style>\n",
       "<div class=\"wandb-row\"><div class=\"wandb-col\"><h3>Run history:</h3><br/><table class=\"wandb\"><tr><td>learning_rate</td><td>█▆▅▄▃▂▂▂▂▁▁▁▁▁▁▁▁▁▁▁▁▁▁▁▁▁▁▁▁▁▁▁▁▁▁▁▁▁▁▁</td></tr><tr><td>train_f1_score</td><td>▁▄▅▆▆▇▇▇▇███████████████████████████████</td></tr><tr><td>train_loss</td><td>█▅▄▃▃▂▂▂▂▂▁▁▁▁▁▁▁▁▁▁▁▁▁▁▁▁▁▁▁▁▁▁▁▁▁▁▁▁▁▁</td></tr><tr><td>val_f1_score</td><td>▁▅▇▆▇█▇█████████████████████████████████</td></tr><tr><td>val_loss</td><td>█▃▂▃▂▁▁▁▁▁▁▁▁▁▁▁▁▁▁▁▁▁▁▁▁▁▁▁▁▁▁▁▁▁▁▁▁▁▁▁</td></tr></table><br/></div><div class=\"wandb-col\"><h3>Run summary:</h3><br/><table class=\"wandb\"><tr><td>learning_rate</td><td>0.0</td></tr><tr><td>train_f1_score</td><td>0.90467</td></tr><tr><td>train_loss</td><td>0.22118</td></tr><tr><td>val_f1_score</td><td>0.84013</td></tr><tr><td>val_loss</td><td>0.31401</td></tr></table><br/></div></div>"
      ],
      "text/plain": [
       "<IPython.core.display.HTML object>"
      ]
     },
     "metadata": {},
     "output_type": "display_data"
    },
    {
     "data": {
      "text/html": [
       " View run <strong style=\"color:#cdcd00\">fold_1_RGB-RE-NIR-6species-dead</strong> at: <a href='https://wandb.ai/simon-ecke/wze-uav-species/runs/uknscoxg' target=\"_blank\">https://wandb.ai/simon-ecke/wze-uav-species/runs/uknscoxg</a><br/>Synced 5 W&B file(s), 0 media file(s), 0 artifact file(s) and 0 other file(s)"
      ],
      "text/plain": [
       "<IPython.core.display.HTML object>"
      ]
     },
     "metadata": {},
     "output_type": "display_data"
    },
    {
     "data": {
      "text/html": [
       "Find logs at: <code>.\\wandb\\run-20230503_165537-uknscoxg\\logs</code>"
      ],
      "text/plain": [
       "<IPython.core.display.HTML object>"
      ]
     },
     "metadata": {},
     "output_type": "display_data"
    },
    {
     "name": "stdout",
     "output_type": "stream",
     "text": [
      "Deleting variables and emptying cache\n",
      "Memory allocated: 1049336832 bytes\n",
      "--------------------------------------------------\n",
      "\n",
      "Fold : 2\n",
      "TRAIN POSITIVE RATIO: 1.4026470065731036\n",
      "VAL POSITIVE RATIO  : 1.3411848679514633\n",
      "LENGTH TRAIN GROUPS : 4276\n",
      "LENGTH VAL GROUPS   : 1068\n"
     ]
    },
    {
     "data": {
      "text/html": [
       "wandb version 0.15.1 is available!  To upgrade, please run:\n",
       " $ pip install wandb --upgrade"
      ],
      "text/plain": [
       "<IPython.core.display.HTML object>"
      ]
     },
     "metadata": {},
     "output_type": "display_data"
    },
    {
     "data": {
      "text/html": [
       "Tracking run with wandb version 0.14.2"
      ],
      "text/plain": [
       "<IPython.core.display.HTML object>"
      ]
     },
     "metadata": {},
     "output_type": "display_data"
    },
    {
     "data": {
      "text/html": [
       "Run data is saved locally in <code>C:\\Users\\lwfeckesim\\01_PyTorch\\wze-uav\\wze-uav-master\\wandb\\run-20230503_205909-n7dhmaot</code>"
      ],
      "text/plain": [
       "<IPython.core.display.HTML object>"
      ]
     },
     "metadata": {},
     "output_type": "display_data"
    },
    {
     "data": {
      "text/html": [
       "Syncing run <strong><a href='https://wandb.ai/simon-ecke/wze-uav-species/runs/n7dhmaot' target=\"_blank\">fold_2_RGB-RE-NIR-6species-dead</a></strong> to <a href='https://wandb.ai/simon-ecke/wze-uav-species' target=\"_blank\">Weights & Biases</a> (<a href='https://wandb.me/run' target=\"_blank\">docs</a>)<br/>"
      ],
      "text/plain": [
       "<IPython.core.display.HTML object>"
      ]
     },
     "metadata": {},
     "output_type": "display_data"
    },
    {
     "data": {
      "text/html": [
       " View project at <a href='https://wandb.ai/simon-ecke/wze-uav-species' target=\"_blank\">https://wandb.ai/simon-ecke/wze-uav-species</a>"
      ],
      "text/plain": [
       "<IPython.core.display.HTML object>"
      ]
     },
     "metadata": {},
     "output_type": "display_data"
    },
    {
     "data": {
      "text/html": [
       " View run at <a href='https://wandb.ai/simon-ecke/wze-uav-species/runs/n7dhmaot' target=\"_blank\">https://wandb.ai/simon-ecke/wze-uav-species/runs/n7dhmaot</a>"
      ],
      "text/plain": [
       "<IPython.core.display.HTML object>"
      ]
     },
     "metadata": {},
     "output_type": "display_data"
    },
    {
     "name": "stdout",
     "output_type": "stream",
     "text": [
      "There are no same hash_id values in train, val or test datasets. The datasplit was successful\n",
      "Check shapes:\n",
      "\n",
      "Images train dataset: (11258, 250, 250, 5)\n",
      "Labels train dataset: (11258, 1)\n",
      "\n",
      "Images validation dataset: (1068, 250, 250, 5)\n",
      "Labels validation dataset: (1068, 1)\n",
      "\n",
      "--------------------------------------------------\n",
      "Check if the split was stratified: (random_state=42)\n",
      "Healthy trees in train dataset: 4495\n",
      "Moderately stressed trees in train dataset: 3135\n",
      "Severely stressed trees in train dataset: 468\n",
      "Dead trees in train dataset: 1683\n",
      "Healthy trees in validation dataset: 449\n",
      "Moderately stressed trees in validation dataset: 298\n",
      "Severely stressed trees in validation dataset: 36\n",
      "Dead trees in validation dataset: 164\n",
      "Ratio health trees in validation dataset: 0.07959581634461975\n",
      "Ratio moderately stressed trees in validation dataset: 0.07569215138430277\n",
      "Ratio severely stressed trees in validation dataset: 0.538878842676311\n",
      "Ratio dead trees in validation dataset: 0.01692524682651622\n",
      "--------------------------------------------------\n",
      "\n",
      "Creating datasets for fold: 2\n",
      "\n",
      "Creating dataloaders for fold: 2\n",
      "\n",
      "Loaded pretrained weights for efficientnet-b7\n",
      "\n",
      "[INFO] Fold number: 2\n",
      "[INFO] Number of epochs: 50\n",
      "[INFO] Batch_size: 32\n",
      "[INFO] Number of bands: 5\n",
      "[INFO] Dropout rate: 0.5\n",
      "[INFO] Gamma learning rate: 0.75\n",
      "[INFO] Memory allocated: 0 bytes\n"
     ]
    },
    {
     "data": {
      "application/vnd.jupyter.widget-view+json": {
       "model_id": "e87715dbe2ce4a92a3460d0ccd8d1f83",
       "version_major": 2,
       "version_minor": 0
      },
      "text/plain": [
       "  0%|          | 0/50 [00:00<?, ?it/s]"
      ]
     },
     "metadata": {},
     "output_type": "display_data"
    },
    {
     "name": "stdout",
     "output_type": "stream",
     "text": [
      "Epoch: 1 \n",
      "Learning rate: 0.001\n",
      "Train loss: 0.9803 | Train precision: 0.5597 | Train recall: 0.4971 | Train f1score: 0.5118 | Train acc: 0.6302 | Train kappa: 0.6174 \n",
      "Val loss: 1.3718 | Val precision: 0.2955 | Val recall: 0.1852 | Val f1score: 0.1468 | Val acc: 0.4659 | Val kappa: 0.2112 \n",
      "\n",
      "Epoch: 2 \n",
      "Learning rate: 0.00075\n",
      "Train loss: 0.6532 | Train precision: 0.7161 | Train recall: 0.6731 | Train f1score: 0.6888 | Train acc: 0.7591 | Train kappa: 0.7725 \n",
      "Val loss: 0.8153 | Val precision: 0.6746 | Val recall: 0.5496 | Val f1score: 0.4984 | Val acc: 0.7197 | Val kappa: 0.7416 \n",
      "\n",
      "Epoch: 3 \n",
      "Learning rate: 0.0005625000000000001\n",
      "Train loss: 0.5239 | Train precision: 0.7762 | Train recall: 0.7378 | Train f1score: 0.7538 | Train acc: 0.8109 | Train kappa: 0.8054 \n",
      "Val loss: 0.6225 | Val precision: 0.7193 | Val recall: 0.6177 | Val f1score: 0.6266 | Val acc: 0.8068 | Val kappa: 0.7355 \n",
      "\n",
      "Epoch: 4 \n",
      "Learning rate: 0.000421875\n",
      "Train loss: 0.4564 | Train precision: 0.8095 | Train recall: 0.7783 | Train f1score: 0.7916 | Train acc: 0.8338 | Train kappa: 0.8256 \n",
      "Val loss: 0.6587 | Val precision: 0.6230 | Val recall: 0.6270 | Val f1score: 0.5889 | Val acc: 0.7869 | Val kappa: 0.7491 \n",
      "\n",
      "Epoch: 5 \n",
      "Learning rate: 0.00031640625\n",
      "Train loss: 0.4203 | Train precision: 0.8223 | Train recall: 0.7943 | Train f1score: 0.8063 | Train acc: 0.8467 | Train kappa: 0.8397 \n",
      "Val loss: 0.6497 | Val precision: 0.6072 | Val recall: 0.7364 | Val f1score: 0.6384 | Val acc: 0.7642 | Val kappa: 0.7057 \n",
      "\n",
      "Epoch: 6 \n",
      "Learning rate: 0.0002373046875\n",
      "Train loss: 0.3802 | Train precision: 0.8510 | Train recall: 0.8213 | Train f1score: 0.8344 | Train acc: 0.8658 | Train kappa: 0.8557 \n",
      "Val loss: 0.4293 | Val precision: 0.7751 | Val recall: 0.7285 | Val f1score: 0.7143 | Val acc: 0.8494 | Val kappa: 0.8448 \n",
      "\n",
      "Epoch: 7 \n",
      "Learning rate: 0.000177978515625\n",
      "Train loss: 0.3406 | Train precision: 0.8597 | Train recall: 0.8298 | Train f1score: 0.8429 | Train acc: 0.8763 | Train kappa: 0.8720 \n",
      "Val loss: 0.4079 | Val precision: 0.7658 | Val recall: 0.7342 | Val f1score: 0.7409 | Val acc: 0.8589 | Val kappa: 0.8415 \n",
      "\n",
      "Epoch: 8 \n",
      "Learning rate: 0.00013348388671875\n",
      "Train loss: 0.3263 | Train precision: 0.8677 | Train recall: 0.8470 | Train f1score: 0.8565 | Train acc: 0.8835 | Train kappa: 0.8751 \n",
      "Val loss: 0.3834 | Val precision: 0.7647 | Val recall: 0.8015 | Val f1score: 0.7741 | Val acc: 0.8778 | Val kappa: 0.8374 \n",
      "\n",
      "Epoch: 9 \n",
      "Learning rate: 0.0001001129150390625\n",
      "Train loss: 0.2882 | Train precision: 0.8884 | Train recall: 0.8604 | Train f1score: 0.8730 | Train acc: 0.8986 | Train kappa: 0.8946 \n",
      "Val loss: 0.3232 | Val precision: 0.8079 | Val recall: 0.7876 | Val f1score: 0.7887 | Val acc: 0.8892 | Val kappa: 0.8685 \n",
      "\n",
      "Epoch: 10 \n",
      "Learning rate: 7.508468627929687e-05\n",
      "Train loss: 0.2919 | Train precision: 0.8928 | Train recall: 0.8680 | Train f1score: 0.8793 | Train acc: 0.8989 | Train kappa: 0.8956 \n",
      "Val loss: 0.3376 | Val precision: 0.8309 | Val recall: 0.7765 | Val f1score: 0.7681 | Val acc: 0.8864 | Val kappa: 0.8630 \n",
      "\n",
      "Epoch: 11 \n",
      "Learning rate: 5.6313514709472656e-05\n",
      "Train loss: 0.2627 | Train precision: 0.9007 | Train recall: 0.8734 | Train f1score: 0.8861 | Train acc: 0.9088 | Train kappa: 0.9059 \n",
      "Val loss: 0.3416 | Val precision: 0.7988 | Val recall: 0.8324 | Val f1score: 0.8057 | Val acc: 0.8930 | Val kappa: 0.8680 \n",
      "\n",
      "Epoch: 12 \n",
      "Learning rate: 4.223513603210449e-05\n",
      "Train loss: 0.2574 | Train precision: 0.8981 | Train recall: 0.8789 | Train f1score: 0.8878 | Train acc: 0.9087 | Train kappa: 0.9068 \n",
      "Val loss: 0.3408 | Val precision: 0.8281 | Val recall: 0.8018 | Val f1score: 0.8033 | Val acc: 0.8958 | Val kappa: 0.8674 \n",
      "\n",
      "Epoch: 13 \n",
      "Learning rate: 3.167635202407837e-05\n",
      "Train loss: 0.2496 | Train precision: 0.9051 | Train recall: 0.8777 | Train f1score: 0.8905 | Train acc: 0.9138 | Train kappa: 0.9051 \n",
      "Val loss: 0.3210 | Val precision: 0.8120 | Val recall: 0.8133 | Val f1score: 0.8050 | Val acc: 0.8977 | Val kappa: 0.8636 \n",
      "\n",
      "Epoch: 14 \n",
      "Learning rate: 2.3757264018058778e-05\n",
      "Train loss: 0.2340 | Train precision: 0.9105 | Train recall: 0.8937 | Train f1score: 0.9016 | Train acc: 0.9162 | Train kappa: 0.9176 \n",
      "Val loss: 0.3247 | Val precision: 0.8044 | Val recall: 0.8205 | Val f1score: 0.8073 | Val acc: 0.8920 | Val kappa: 0.8641 \n",
      "\n",
      "Epoch: 15 \n",
      "Learning rate: 1.7817948013544083e-05\n",
      "Train loss: 0.2342 | Train precision: 0.9073 | Train recall: 0.8912 | Train f1score: 0.8989 | Train acc: 0.9160 | Train kappa: 0.9090 \n",
      "Val loss: 0.3296 | Val precision: 0.8055 | Val recall: 0.8104 | Val f1score: 0.7993 | Val acc: 0.8939 | Val kappa: 0.8676 \n",
      "\n",
      "Epoch: 16 \n",
      "Learning rate: 1.3363461010158063e-05\n",
      "Train loss: 0.2294 | Train precision: 0.9125 | Train recall: 0.8955 | Train f1score: 0.9034 | Train acc: 0.9198 | Train kappa: 0.9147 \n",
      "Val loss: 0.3250 | Val precision: 0.8113 | Val recall: 0.8209 | Val f1score: 0.8075 | Val acc: 0.8939 | Val kappa: 0.8716 \n",
      "\n",
      "Epoch: 17 \n",
      "Learning rate: 1.0022595757618546e-05\n",
      "Train loss: 0.2226 | Train precision: 0.9103 | Train recall: 0.8930 | Train f1score: 0.9011 | Train acc: 0.9197 | Train kappa: 0.9072 \n",
      "Val loss: 0.3319 | Val precision: 0.8061 | Val recall: 0.8112 | Val f1score: 0.8006 | Val acc: 0.8902 | Val kappa: 0.8561 \n",
      "\n",
      "Epoch: 18 \n",
      "Learning rate: 7.51694681821391e-06\n",
      "Train loss: 0.2282 | Train precision: 0.9139 | Train recall: 0.8927 | Train f1score: 0.9025 | Train acc: 0.9188 | Train kappa: 0.9149 \n",
      "Val loss: 0.3263 | Val precision: 0.8073 | Val recall: 0.8207 | Val f1score: 0.8074 | Val acc: 0.8930 | Val kappa: 0.8684 \n",
      "\n",
      "Epoch: 19 \n",
      "Learning rate: 5.637710113660432e-06\n",
      "Train loss: 0.2214 | Train precision: 0.9161 | Train recall: 0.8961 | Train f1score: 0.9055 | Train acc: 0.9193 | Train kappa: 0.9182 \n",
      "Val loss: 0.3268 | Val precision: 0.7957 | Val recall: 0.8146 | Val f1score: 0.7990 | Val acc: 0.8920 | Val kappa: 0.8558 \n",
      "\n",
      "Epoch: 20 \n",
      "Learning rate: 4.228282585245324e-06\n",
      "Train loss: 0.2267 | Train precision: 0.9055 | Train recall: 0.8926 | Train f1score: 0.8988 | Train acc: 0.9176 | Train kappa: 0.9129 \n",
      "Val loss: 0.3291 | Val precision: 0.7995 | Val recall: 0.8097 | Val f1score: 0.7977 | Val acc: 0.8902 | Val kappa: 0.8597 \n",
      "\n",
      "Epoch: 21 \n",
      "Learning rate: 3.1712119389339933e-06\n",
      "Train loss: 0.2245 | Train precision: 0.9172 | Train recall: 0.8922 | Train f1score: 0.9040 | Train acc: 0.9203 | Train kappa: 0.9141 \n",
      "Val loss: 0.3230 | Val precision: 0.8043 | Val recall: 0.8132 | Val f1score: 0.8025 | Val acc: 0.8939 | Val kappa: 0.8603 \n",
      "\n",
      "Epoch: 22 \n",
      "Learning rate: 2.378408954200495e-06\n",
      "Train loss: 0.2249 | Train precision: 0.9136 | Train recall: 0.8999 | Train f1score: 0.9066 | Train acc: 0.9224 | Train kappa: 0.9137 \n",
      "Val loss: 0.3230 | Val precision: 0.8075 | Val recall: 0.8178 | Val f1score: 0.8061 | Val acc: 0.8968 | Val kappa: 0.8630 \n",
      "\n",
      "Epoch: 23 \n",
      "Learning rate: 1.7838067156503713e-06\n",
      "Train loss: 0.2143 | Train precision: 0.9195 | Train recall: 0.9022 | Train f1score: 0.9103 | Train acc: 0.9264 | Train kappa: 0.9208 \n",
      "Val loss: 0.3208 | Val precision: 0.8089 | Val recall: 0.8237 | Val f1score: 0.8096 | Val acc: 0.8968 | Val kappa: 0.8698 \n",
      "\n",
      "Epoch: 24 \n",
      "Learning rate: 1.3378550367377785e-06\n",
      "Train loss: 0.2167 | Train precision: 0.9165 | Train recall: 0.8994 | Train f1score: 0.9076 | Train acc: 0.9239 | Train kappa: 0.9203 \n",
      "Val loss: 0.3288 | Val precision: 0.8040 | Val recall: 0.8169 | Val f1score: 0.8033 | Val acc: 0.8939 | Val kappa: 0.8615 \n",
      "\n",
      "Epoch: 25 \n",
      "Learning rate: 1.0033912775533338e-06\n",
      "Train loss: 0.2123 | Train precision: 0.9182 | Train recall: 0.9036 | Train f1score: 0.9105 | Train acc: 0.9256 | Train kappa: 0.9227 \n",
      "Val loss: 0.3290 | Val precision: 0.8049 | Val recall: 0.8139 | Val f1score: 0.8024 | Val acc: 0.8892 | Val kappa: 0.8612 \n",
      "\n",
      "Epoch: 26 \n",
      "Learning rate: 1e-06\n",
      "Train loss: 0.2237 | Train precision: 0.9112 | Train recall: 0.8987 | Train f1score: 0.9047 | Train acc: 0.9210 | Train kappa: 0.9142 \n",
      "Val loss: 0.3265 | Val precision: 0.8007 | Val recall: 0.8141 | Val f1score: 0.8004 | Val acc: 0.8911 | Val kappa: 0.8599 \n",
      "\n",
      "Epoch: 27 \n",
      "Learning rate: 1e-06\n",
      "Train loss: 0.2272 | Train precision: 0.9096 | Train recall: 0.8963 | Train f1score: 0.9027 | Train acc: 0.9193 | Train kappa: 0.9164 \n",
      "Val loss: 0.3214 | Val precision: 0.8152 | Val recall: 0.8261 | Val f1score: 0.8147 | Val acc: 0.8987 | Val kappa: 0.8714 \n",
      "\n"
     ]
    },
    {
     "name": "stdout",
     "output_type": "stream",
     "text": [
      "Epoch: 28 \n",
      "Learning rate: 1e-06\n",
      "Train loss: 0.2207 | Train precision: 0.9109 | Train recall: 0.8983 | Train f1score: 0.9041 | Train acc: 0.9220 | Train kappa: 0.9169 \n",
      "Val loss: 0.3298 | Val precision: 0.8018 | Val recall: 0.8106 | Val f1score: 0.7997 | Val acc: 0.8911 | Val kappa: 0.8592 \n",
      "\n",
      "Epoch: 29 \n",
      "Learning rate: 1e-06\n",
      "Train loss: 0.2138 | Train precision: 0.9133 | Train recall: 0.8955 | Train f1score: 0.9038 | Train acc: 0.9243 | Train kappa: 0.9179 \n",
      "Val loss: 0.3258 | Val precision: 0.8040 | Val recall: 0.8148 | Val f1score: 0.8029 | Val acc: 0.8920 | Val kappa: 0.8563 \n",
      "\n",
      "Epoch: 30 \n",
      "Learning rate: 1e-06\n",
      "Train loss: 0.2138 | Train precision: 0.9173 | Train recall: 0.9026 | Train f1score: 0.9097 | Train acc: 0.9233 | Train kappa: 0.9248 \n",
      "Val loss: 0.3350 | Val precision: 0.8052 | Val recall: 0.8095 | Val f1score: 0.7993 | Val acc: 0.8883 | Val kappa: 0.8578 \n",
      "\n",
      "Epoch: 31 \n",
      "Learning rate: 1e-06\n",
      "Train loss: 0.2053 | Train precision: 0.9223 | Train recall: 0.9015 | Train f1score: 0.9113 | Train acc: 0.9267 | Train kappa: 0.9238 \n",
      "Val loss: 0.3314 | Val precision: 0.8105 | Val recall: 0.8155 | Val f1score: 0.8050 | Val acc: 0.8920 | Val kappa: 0.8570 \n",
      "\n",
      "Epoch: 32 \n",
      "Learning rate: 1e-06\n",
      "Train loss: 0.2172 | Train precision: 0.9155 | Train recall: 0.8922 | Train f1score: 0.9030 | Train acc: 0.9223 | Train kappa: 0.9134 \n",
      "Val loss: 0.3303 | Val precision: 0.7981 | Val recall: 0.8096 | Val f1score: 0.7971 | Val acc: 0.8892 | Val kappa: 0.8559 \n",
      "\n",
      "Epoch: 33 \n",
      "Learning rate: 1e-06\n",
      "Train loss: 0.2098 | Train precision: 0.9203 | Train recall: 0.9042 | Train f1score: 0.9119 | Train acc: 0.9249 | Train kappa: 0.9185 \n",
      "Val loss: 0.3305 | Val precision: 0.7970 | Val recall: 0.8043 | Val f1score: 0.7929 | Val acc: 0.8892 | Val kappa: 0.8544 \n",
      "\n",
      "Epoch: 34 \n",
      "Learning rate: 1e-06\n",
      "Train loss: 0.2181 | Train precision: 0.9139 | Train recall: 0.8991 | Train f1score: 0.9062 | Train acc: 0.9223 | Train kappa: 0.9140 \n",
      "Val loss: 0.3288 | Val precision: 0.8000 | Val recall: 0.8106 | Val f1score: 0.7984 | Val acc: 0.8911 | Val kappa: 0.8570 \n",
      "\n",
      "Epoch: 35 \n",
      "Learning rate: 1e-06\n",
      "Train loss: 0.2247 | Train precision: 0.9114 | Train recall: 0.8947 | Train f1score: 0.9028 | Train acc: 0.9200 | Train kappa: 0.9162 \n",
      "Val loss: 0.3271 | Val precision: 0.8062 | Val recall: 0.8243 | Val f1score: 0.8080 | Val acc: 0.8930 | Val kappa: 0.8659 \n",
      "\n",
      "Epoch: 36 \n",
      "Learning rate: 1e-06\n",
      "Train loss: 0.2193 | Train precision: 0.9159 | Train recall: 0.8939 | Train f1score: 0.9043 | Train acc: 0.9220 | Train kappa: 0.9201 \n",
      "Val loss: 0.3213 | Val precision: 0.8111 | Val recall: 0.8235 | Val f1score: 0.8111 | Val acc: 0.8977 | Val kappa: 0.8705 \n",
      "\n",
      "Epoch: 37 \n",
      "Learning rate: 1e-06\n",
      "Train loss: 0.2193 | Train precision: 0.9081 | Train recall: 0.8996 | Train f1score: 0.9036 | Train acc: 0.9189 | Train kappa: 0.9176 \n",
      "Val loss: 0.3184 | Val precision: 0.8168 | Val recall: 0.8291 | Val f1score: 0.8167 | Val acc: 0.9015 | Val kappa: 0.8726 \n",
      "\n",
      "Epoch: 38 \n",
      "Learning rate: 1e-06\n",
      "Train loss: 0.2268 | Train precision: 0.9182 | Train recall: 0.8941 | Train f1score: 0.9053 | Train acc: 0.9211 | Train kappa: 0.9191 \n",
      "Val loss: 0.3187 | Val precision: 0.8094 | Val recall: 0.8230 | Val f1score: 0.8099 | Val acc: 0.8968 | Val kappa: 0.8686 \n",
      "\n",
      "Epoch: 39 \n",
      "Learning rate: 1e-06\n",
      "Train loss: 0.2147 | Train precision: 0.9182 | Train recall: 0.9007 | Train f1score: 0.9091 | Train acc: 0.9247 | Train kappa: 0.9175 \n",
      "Val loss: 0.3339 | Val precision: 0.8092 | Val recall: 0.8203 | Val f1score: 0.8064 | Val acc: 0.8911 | Val kappa: 0.8673 \n",
      "\n",
      "Epoch: 40 \n",
      "Learning rate: 1e-06\n",
      "Train loss: 0.2133 | Train precision: 0.9211 | Train recall: 0.9010 | Train f1score: 0.9105 | Train acc: 0.9209 | Train kappa: 0.9265 \n",
      "Val loss: 0.3216 | Val precision: 0.8082 | Val recall: 0.8257 | Val f1score: 0.8099 | Val acc: 0.8968 | Val kappa: 0.8702 \n",
      "\n",
      "Epoch: 41 \n",
      "Learning rate: 1e-06\n",
      "Train loss: 0.2208 | Train precision: 0.9090 | Train recall: 0.8932 | Train f1score: 0.9006 | Train acc: 0.9200 | Train kappa: 0.9139 \n",
      "Val loss: 0.3286 | Val precision: 0.8040 | Val recall: 0.8193 | Val f1score: 0.8056 | Val acc: 0.8911 | Val kappa: 0.8620 \n",
      "\n",
      "Epoch: 42 \n",
      "Learning rate: 1e-06\n",
      "Train loss: 0.2159 | Train precision: 0.9209 | Train recall: 0.8991 | Train f1score: 0.9094 | Train acc: 0.9242 | Train kappa: 0.9201 \n",
      "Val loss: 0.3272 | Val precision: 0.8082 | Val recall: 0.8252 | Val f1score: 0.8095 | Val acc: 0.8958 | Val kappa: 0.8704 \n",
      "\n",
      "Epoch: 43 \n",
      "Learning rate: 1e-06\n",
      "Train loss: 0.2198 | Train precision: 0.9139 | Train recall: 0.8982 | Train f1score: 0.9057 | Train acc: 0.9221 | Train kappa: 0.9170 \n",
      "Val loss: 0.3283 | Val precision: 0.8036 | Val recall: 0.8197 | Val f1score: 0.8055 | Val acc: 0.8911 | Val kappa: 0.8632 \n",
      "\n",
      "Epoch: 44 \n",
      "Learning rate: 1e-06\n",
      "Train loss: 0.2130 | Train precision: 0.9204 | Train recall: 0.8986 | Train f1score: 0.9088 | Train acc: 0.9233 | Train kappa: 0.9188 \n",
      "Val loss: 0.3240 | Val precision: 0.8046 | Val recall: 0.8159 | Val f1score: 0.8034 | Val acc: 0.8949 | Val kappa: 0.8605 \n",
      "\n",
      "Epoch: 45 \n",
      "Learning rate: 1e-06\n",
      "Train loss: 0.2085 | Train precision: 0.9184 | Train recall: 0.8984 | Train f1score: 0.9080 | Train acc: 0.9256 | Train kappa: 0.9144 \n",
      "Val loss: 0.3239 | Val precision: 0.8066 | Val recall: 0.8249 | Val f1score: 0.8085 | Val acc: 0.8949 | Val kappa: 0.8696 \n",
      "\n",
      "Epoch: 46 \n",
      "Learning rate: 1e-06\n",
      "Train loss: 0.2054 | Train precision: 0.9148 | Train recall: 0.9007 | Train f1score: 0.9071 | Train acc: 0.9263 | Train kappa: 0.9173 \n",
      "Val loss: 0.3199 | Val precision: 0.8087 | Val recall: 0.8170 | Val f1score: 0.8065 | Val acc: 0.8977 | Val kappa: 0.8646 \n",
      "\n",
      "Epoch: 47 \n",
      "Learning rate: 1e-06\n",
      "Train loss: 0.2168 | Train precision: 0.9134 | Train recall: 0.8929 | Train f1score: 0.9027 | Train acc: 0.9208 | Train kappa: 0.9180 \n",
      "Val loss: 0.3279 | Val precision: 0.8067 | Val recall: 0.8274 | Val f1score: 0.8109 | Val acc: 0.8939 | Val kappa: 0.8722 \n",
      "\n",
      "Early stopping after epoch 47\n"
     ]
    },
    {
     "data": {
      "text/html": [
       "Waiting for W&B process to finish... <strong style=\"color:green\">(success).</strong>"
      ],
      "text/plain": [
       "<IPython.core.display.HTML object>"
      ]
     },
     "metadata": {},
     "output_type": "display_data"
    },
    {
     "data": {
      "text/html": [
       "<style>\n",
       "    table.wandb td:nth-child(1) { padding: 0 10px; text-align: left ; width: auto;} td:nth-child(2) {text-align: left ; width: 100%}\n",
       "    .wandb-row { display: flex; flex-direction: row; flex-wrap: wrap; justify-content: flex-start; width: 100% }\n",
       "    .wandb-col { display: flex; flex-direction: column; flex-basis: 100%; flex: 1; padding: 10px; }\n",
       "    </style>\n",
       "<div class=\"wandb-row\"><div class=\"wandb-col\"><h3>Run history:</h3><br/><table class=\"wandb\"><tr><td>learning_rate</td><td>█▆▅▄▃▃▂▂▂▁▁▁▁▁▁▁▁▁▁▁▁▁▁▁▁▁▁▁▁▁▁▁▁▁▁▁▁▁▁▁</td></tr><tr><td>train_f1_score</td><td>▁▄▅▆▆▇▇▇▇███████████████████████████████</td></tr><tr><td>train_loss</td><td>█▅▄▃▃▃▂▂▂▂▁▁▁▁▁▁▁▁▁▁▁▁▁▁▁▁▁▁▁▁▁▁▁▁▁▁▁▁▁▁</td></tr><tr><td>val_f1_score</td><td>▁▅▆▆▆▇██▇███████████████████████████████</td></tr><tr><td>val_loss</td><td>█▄▃▃▃▂▁▁▁▁▁▁▁▁▁▁▁▁▁▁▁▁▁▁▁▁▁▁▁▁▁▁▁▁▁▁▁▁▁▁</td></tr></table><br/></div><div class=\"wandb-col\"><h3>Run summary:</h3><br/><table class=\"wandb\"><tr><td>learning_rate</td><td>0.0</td></tr><tr><td>train_f1_score</td><td>0.90266</td></tr><tr><td>train_loss</td><td>0.21675</td></tr><tr><td>val_f1_score</td><td>0.81093</td></tr><tr><td>val_loss</td><td>0.32786</td></tr></table><br/></div></div>"
      ],
      "text/plain": [
       "<IPython.core.display.HTML object>"
      ]
     },
     "metadata": {},
     "output_type": "display_data"
    },
    {
     "data": {
      "text/html": [
       " View run <strong style=\"color:#cdcd00\">fold_2_RGB-RE-NIR-6species-dead</strong> at: <a href='https://wandb.ai/simon-ecke/wze-uav-species/runs/n7dhmaot' target=\"_blank\">https://wandb.ai/simon-ecke/wze-uav-species/runs/n7dhmaot</a><br/>Synced 5 W&B file(s), 0 media file(s), 0 artifact file(s) and 0 other file(s)"
      ],
      "text/plain": [
       "<IPython.core.display.HTML object>"
      ]
     },
     "metadata": {},
     "output_type": "display_data"
    },
    {
     "data": {
      "text/html": [
       "Find logs at: <code>.\\wandb\\run-20230503_205909-n7dhmaot\\logs</code>"
      ],
      "text/plain": [
       "<IPython.core.display.HTML object>"
      ]
     },
     "metadata": {},
     "output_type": "display_data"
    },
    {
     "name": "stdout",
     "output_type": "stream",
     "text": [
      "Deleting variables and emptying cache\n",
      "Memory allocated: 1054643200 bytes\n",
      "--------------------------------------------------\n",
      "\n",
      "Fold : 3\n",
      "TRAIN POSITIVE RATIO: 1.3774239459170965\n",
      "VAL POSITIVE RATIO  : 1.4421575585521647\n",
      "LENGTH TRAIN GROUPS : 4274\n",
      "LENGTH VAL GROUPS   : 1070\n"
     ]
    },
    {
     "data": {
      "text/html": [
       "wandb version 0.15.1 is available!  To upgrade, please run:\n",
       " $ pip install wandb --upgrade"
      ],
      "text/plain": [
       "<IPython.core.display.HTML object>"
      ]
     },
     "metadata": {},
     "output_type": "display_data"
    },
    {
     "data": {
      "text/html": [
       "Tracking run with wandb version 0.14.2"
      ],
      "text/plain": [
       "<IPython.core.display.HTML object>"
      ]
     },
     "metadata": {},
     "output_type": "display_data"
    },
    {
     "data": {
      "text/html": [
       "Run data is saved locally in <code>C:\\Users\\lwfeckesim\\01_PyTorch\\wze-uav\\wze-uav-master\\wandb\\run-20230504_004423-wr5tgono</code>"
      ],
      "text/plain": [
       "<IPython.core.display.HTML object>"
      ]
     },
     "metadata": {},
     "output_type": "display_data"
    },
    {
     "data": {
      "text/html": [
       "Syncing run <strong><a href='https://wandb.ai/simon-ecke/wze-uav-species/runs/wr5tgono' target=\"_blank\">fold_3_RGB-RE-NIR-6species-dead</a></strong> to <a href='https://wandb.ai/simon-ecke/wze-uav-species' target=\"_blank\">Weights & Biases</a> (<a href='https://wandb.me/run' target=\"_blank\">docs</a>)<br/>"
      ],
      "text/plain": [
       "<IPython.core.display.HTML object>"
      ]
     },
     "metadata": {},
     "output_type": "display_data"
    },
    {
     "data": {
      "text/html": [
       " View project at <a href='https://wandb.ai/simon-ecke/wze-uav-species' target=\"_blank\">https://wandb.ai/simon-ecke/wze-uav-species</a>"
      ],
      "text/plain": [
       "<IPython.core.display.HTML object>"
      ]
     },
     "metadata": {},
     "output_type": "display_data"
    },
    {
     "data": {
      "text/html": [
       " View run at <a href='https://wandb.ai/simon-ecke/wze-uav-species/runs/wr5tgono' target=\"_blank\">https://wandb.ai/simon-ecke/wze-uav-species/runs/wr5tgono</a>"
      ],
      "text/plain": [
       "<IPython.core.display.HTML object>"
      ]
     },
     "metadata": {},
     "output_type": "display_data"
    },
    {
     "name": "stdout",
     "output_type": "stream",
     "text": [
      "There are no same hash_id values in train, val or test datasets. The datasplit was successful\n",
      "Check shapes:\n",
      "\n",
      "Images train dataset: (11242, 250, 250, 5)\n",
      "Labels train dataset: (11242, 1)\n",
      "\n",
      "Images validation dataset: (1071, 250, 250, 5)\n",
      "Labels validation dataset: (1071, 1)\n",
      "\n",
      "--------------------------------------------------\n",
      "Check if the split was stratified: (random_state=42)\n",
      "Healthy trees in train dataset: 4562\n",
      "Moderately stressed trees in train dataset: 3136\n",
      "Severely stressed trees in train dataset: 422\n",
      "Dead trees in train dataset: 1695\n",
      "Healthy trees in validation dataset: 429\n",
      "Moderately stressed trees in validation dataset: 289\n",
      "Severely stressed trees in validation dataset: 53\n",
      "Dead trees in validation dataset: 160\n",
      "Ratio health trees in validation dataset: 0.07605034568338948\n",
      "Ratio moderately stressed trees in validation dataset: 0.07340614681229363\n",
      "Ratio severely stressed trees in validation dataset: 0.5226039783001808\n",
      "Ratio dead trees in validation dataset: 0.024917724494593323\n",
      "--------------------------------------------------\n",
      "\n",
      "Creating datasets for fold: 3\n",
      "\n",
      "Creating dataloaders for fold: 3\n",
      "\n",
      "Loaded pretrained weights for efficientnet-b7\n",
      "\n",
      "[INFO] Fold number: 3\n",
      "[INFO] Number of epochs: 50\n",
      "[INFO] Batch_size: 32\n",
      "[INFO] Number of bands: 5\n",
      "[INFO] Dropout rate: 0.5\n",
      "[INFO] Gamma learning rate: 0.75\n",
      "[INFO] Memory allocated: 0 bytes\n"
     ]
    },
    {
     "data": {
      "application/vnd.jupyter.widget-view+json": {
       "model_id": "51b10d2abdd845e382f95c8611b2e80b",
       "version_major": 2,
       "version_minor": 0
      },
      "text/plain": [
       "  0%|          | 0/50 [00:00<?, ?it/s]"
      ]
     },
     "metadata": {},
     "output_type": "display_data"
    },
    {
     "name": "stdout",
     "output_type": "stream",
     "text": [
      "Epoch: 1 \n",
      "Learning rate: 0.001\n",
      "Train loss: 0.9723 | Train precision: 0.5388 | Train recall: 0.4604 | Train f1score: 0.4764 | Train acc: 0.6295 | Train kappa: 0.5985 \n",
      "Val loss: 1.5398 | Val precision: 0.2978 | Val recall: 0.2640 | Val f1score: 0.2063 | Val acc: 0.4138 | Val kappa: 0.3609 \n",
      "\n",
      "Epoch: 2 \n",
      "Learning rate: 0.00075\n",
      "Train loss: 0.6986 | Train precision: 0.6654 | Train recall: 0.6173 | Train f1score: 0.6305 | Train acc: 0.7402 | Train kappa: 0.7174 \n",
      "Val loss: 0.7207 | Val precision: 0.7401 | Val recall: 0.5565 | Val f1score: 0.5753 | Val acc: 0.7434 | Val kappa: 0.7059 \n",
      "\n",
      "Epoch: 3 \n",
      "Learning rate: 0.0005625000000000001\n",
      "Train loss: 0.5834 | Train precision: 0.7336 | Train recall: 0.6925 | Train f1score: 0.7086 | Train acc: 0.7861 | Train kappa: 0.7782 \n",
      "Val loss: 0.8468 | Val precision: 0.6974 | Val recall: 0.6657 | Val f1score: 0.6090 | Val acc: 0.6941 | Val kappa: 0.7134 \n",
      "\n",
      "Epoch: 4 \n",
      "Learning rate: 0.000421875\n",
      "Train loss: 0.5103 | Train precision: 0.7792 | Train recall: 0.7263 | Train f1score: 0.7467 | Train acc: 0.8170 | Train kappa: 0.8115 \n",
      "Val loss: 0.5781 | Val precision: 0.8022 | Val recall: 0.6509 | Val f1score: 0.6727 | Val acc: 0.7983 | Val kappa: 0.7266 \n",
      "\n",
      "Epoch: 5 \n",
      "Learning rate: 0.00031640625\n",
      "Train loss: 0.4560 | Train precision: 0.8057 | Train recall: 0.7659 | Train f1score: 0.7821 | Train acc: 0.8386 | Train kappa: 0.8357 \n",
      "Val loss: 0.4026 | Val precision: 0.8165 | Val recall: 0.7610 | Val f1score: 0.7724 | Val acc: 0.8513 | Val kappa: 0.7874 \n",
      "\n",
      "Epoch: 6 \n",
      "Learning rate: 0.0002373046875\n",
      "Train loss: 0.4164 | Train precision: 0.8258 | Train recall: 0.7864 | Train f1score: 0.8030 | Train acc: 0.8511 | Train kappa: 0.8521 \n",
      "Val loss: 0.4353 | Val precision: 0.7867 | Val recall: 0.7736 | Val f1score: 0.7647 | Val acc: 0.8371 | Val kappa: 0.7977 \n",
      "\n",
      "Epoch: 7 \n",
      "Learning rate: 0.000177978515625\n",
      "Train loss: 0.3841 | Train precision: 0.8501 | Train recall: 0.8021 | Train f1score: 0.8224 | Train acc: 0.8626 | Train kappa: 0.8640 \n",
      "Val loss: 0.3586 | Val precision: 0.8218 | Val recall: 0.8133 | Val f1score: 0.8097 | Val acc: 0.8703 | Val kappa: 0.8169 \n",
      "\n",
      "Epoch: 8 \n",
      "Learning rate: 0.00013348388671875\n",
      "Train loss: 0.3555 | Train precision: 0.8488 | Train recall: 0.8198 | Train f1score: 0.8326 | Train acc: 0.8713 | Train kappa: 0.8678 \n",
      "Val loss: 0.3996 | Val precision: 0.8090 | Val recall: 0.7871 | Val f1score: 0.7770 | Val acc: 0.8485 | Val kappa: 0.8184 \n",
      "\n",
      "Epoch: 9 \n",
      "Learning rate: 0.0001001129150390625\n",
      "Train loss: 0.3367 | Train precision: 0.8586 | Train recall: 0.8313 | Train f1score: 0.8431 | Train acc: 0.8803 | Train kappa: 0.8774 \n",
      "Val loss: 0.3435 | Val precision: 0.8184 | Val recall: 0.8290 | Val f1score: 0.8205 | Val acc: 0.8759 | Val kappa: 0.8438 \n",
      "\n",
      "Epoch: 10 \n",
      "Learning rate: 7.508468627929687e-05\n",
      "Train loss: 0.3290 | Train precision: 0.8619 | Train recall: 0.8374 | Train f1score: 0.8487 | Train acc: 0.8810 | Train kappa: 0.8774 \n",
      "Val loss: 0.3417 | Val precision: 0.8455 | Val recall: 0.8107 | Val f1score: 0.8142 | Val acc: 0.8816 | Val kappa: 0.8353 \n",
      "\n",
      "Epoch: 11 \n",
      "Learning rate: 5.6313514709472656e-05\n",
      "Train loss: 0.3140 | Train precision: 0.8710 | Train recall: 0.8338 | Train f1score: 0.8504 | Train acc: 0.8860 | Train kappa: 0.8828 \n",
      "Val loss: 0.3265 | Val precision: 0.8369 | Val recall: 0.8261 | Val f1score: 0.8243 | Val acc: 0.8816 | Val kappa: 0.8481 \n",
      "\n",
      "Epoch: 12 \n",
      "Learning rate: 4.223513603210449e-05\n",
      "Train loss: 0.3028 | Train precision: 0.8811 | Train recall: 0.8503 | Train f1score: 0.8643 | Train acc: 0.8933 | Train kappa: 0.8869 \n",
      "Val loss: 0.3114 | Val precision: 0.8221 | Val recall: 0.8572 | Val f1score: 0.8380 | Val acc: 0.8892 | Val kappa: 0.8439 \n",
      "\n",
      "Epoch: 13 \n",
      "Learning rate: 3.167635202407837e-05\n",
      "Train loss: 0.2889 | Train precision: 0.8806 | Train recall: 0.8578 | Train f1score: 0.8682 | Train acc: 0.8965 | Train kappa: 0.8886 \n",
      "Val loss: 0.3329 | Val precision: 0.8111 | Val recall: 0.8453 | Val f1score: 0.8250 | Val acc: 0.8797 | Val kappa: 0.8462 \n",
      "\n",
      "Epoch: 14 \n",
      "Learning rate: 2.3757264018058778e-05\n",
      "Train loss: 0.2801 | Train precision: 0.8859 | Train recall: 0.8622 | Train f1score: 0.8731 | Train acc: 0.8997 | Train kappa: 0.8993 \n",
      "Val loss: 0.3043 | Val precision: 0.8386 | Val recall: 0.8395 | Val f1score: 0.8371 | Val acc: 0.8911 | Val kappa: 0.8447 \n",
      "\n",
      "Epoch: 15 \n",
      "Learning rate: 1.7817948013544083e-05\n",
      "Train loss: 0.2808 | Train precision: 0.8875 | Train recall: 0.8586 | Train f1score: 0.8715 | Train acc: 0.8984 | Train kappa: 0.8973 \n",
      "Val loss: 0.2952 | Val precision: 0.8456 | Val recall: 0.8410 | Val f1score: 0.8415 | Val acc: 0.8892 | Val kappa: 0.8554 \n",
      "\n",
      "Epoch: 16 \n",
      "Learning rate: 1.3363461010158063e-05\n",
      "Train loss: 0.2780 | Train precision: 0.8907 | Train recall: 0.8621 | Train f1score: 0.8752 | Train acc: 0.8997 | Train kappa: 0.9022 \n",
      "Val loss: 0.2954 | Val precision: 0.8536 | Val recall: 0.8506 | Val f1score: 0.8498 | Val acc: 0.8958 | Val kappa: 0.8567 \n",
      "\n",
      "Epoch: 17 \n",
      "Learning rate: 1.0022595757618546e-05\n",
      "Train loss: 0.2703 | Train precision: 0.8839 | Train recall: 0.8629 | Train f1score: 0.8725 | Train acc: 0.9032 | Train kappa: 0.8895 \n",
      "Val loss: 0.2960 | Val precision: 0.8551 | Val recall: 0.8461 | Val f1score: 0.8494 | Val acc: 0.8968 | Val kappa: 0.8606 \n",
      "\n",
      "Epoch: 18 \n",
      "Learning rate: 7.51694681821391e-06\n",
      "Train loss: 0.2643 | Train precision: 0.8934 | Train recall: 0.8719 | Train f1score: 0.8816 | Train acc: 0.9057 | Train kappa: 0.9119 \n",
      "Val loss: 0.2945 | Val precision: 0.8695 | Val recall: 0.8380 | Val f1score: 0.8493 | Val acc: 0.8958 | Val kappa: 0.8665 \n",
      "\n",
      "Epoch: 19 \n",
      "Learning rate: 5.637710113660432e-06\n",
      "Train loss: 0.2705 | Train precision: 0.8915 | Train recall: 0.8579 | Train f1score: 0.8729 | Train acc: 0.9019 | Train kappa: 0.8955 \n",
      "Val loss: 0.2945 | Val precision: 0.8655 | Val recall: 0.8423 | Val f1score: 0.8512 | Val acc: 0.8987 | Val kappa: 0.8651 \n",
      "\n",
      "Epoch: 20 \n",
      "Learning rate: 4.228282585245324e-06\n",
      "Train loss: 0.2544 | Train precision: 0.9001 | Train recall: 0.8730 | Train f1score: 0.8855 | Train acc: 0.9089 | Train kappa: 0.9113 \n",
      "Val loss: 0.2952 | Val precision: 0.8754 | Val recall: 0.8502 | Val f1score: 0.8584 | Val acc: 0.8996 | Val kappa: 0.8783 \n",
      "\n",
      "Epoch: 21 \n",
      "Learning rate: 3.1712119389339933e-06\n",
      "Train loss: 0.2660 | Train precision: 0.8943 | Train recall: 0.8625 | Train f1score: 0.8770 | Train acc: 0.9045 | Train kappa: 0.8989 \n",
      "Val loss: 0.2957 | Val precision: 0.8568 | Val recall: 0.8480 | Val f1score: 0.8493 | Val acc: 0.8958 | Val kappa: 0.8635 \n",
      "\n",
      "Epoch: 22 \n",
      "Learning rate: 2.378408954200495e-06\n",
      "Train loss: 0.2658 | Train precision: 0.8989 | Train recall: 0.8685 | Train f1score: 0.8826 | Train acc: 0.9072 | Train kappa: 0.9033 \n",
      "Val loss: 0.2943 | Val precision: 0.8514 | Val recall: 0.8417 | Val f1score: 0.8452 | Val acc: 0.8949 | Val kappa: 0.8541 \n",
      "\n",
      "Epoch: 23 \n",
      "Learning rate: 1.7838067156503713e-06\n",
      "Train loss: 0.2663 | Train precision: 0.8847 | Train recall: 0.8731 | Train f1score: 0.8781 | Train acc: 0.9046 | Train kappa: 0.8985 \n",
      "Val loss: 0.2954 | Val precision: 0.8652 | Val recall: 0.8510 | Val f1score: 0.8545 | Val acc: 0.9025 | Val kappa: 0.8637 \n",
      "\n",
      "Epoch: 24 \n",
      "Learning rate: 1.3378550367377785e-06\n",
      "Train loss: 0.2590 | Train precision: 0.8910 | Train recall: 0.8685 | Train f1score: 0.8787 | Train acc: 0.9037 | Train kappa: 0.9033 \n",
      "Val loss: 0.2939 | Val precision: 0.8589 | Val recall: 0.8431 | Val f1score: 0.8493 | Val acc: 0.8968 | Val kappa: 0.8579 \n",
      "\n",
      "Epoch: 25 \n",
      "Learning rate: 1.0033912775533338e-06\n",
      "Train loss: 0.2532 | Train precision: 0.9009 | Train recall: 0.8721 | Train f1score: 0.8853 | Train acc: 0.9111 | Train kappa: 0.9046 \n",
      "Val loss: 0.2949 | Val precision: 0.8611 | Val recall: 0.8505 | Val f1score: 0.8525 | Val acc: 0.8977 | Val kappa: 0.8628 \n",
      "\n",
      "Epoch: 26 \n",
      "Learning rate: 1e-06\n",
      "Train loss: 0.2579 | Train precision: 0.8943 | Train recall: 0.8770 | Train f1score: 0.8849 | Train acc: 0.9079 | Train kappa: 0.9006 \n",
      "Val loss: 0.2935 | Val precision: 0.8585 | Val recall: 0.8430 | Val f1score: 0.8489 | Val acc: 0.8968 | Val kappa: 0.8601 \n",
      "\n",
      "Epoch: 27 \n",
      "Learning rate: 1e-06\n",
      "Train loss: 0.2660 | Train precision: 0.8938 | Train recall: 0.8582 | Train f1score: 0.8743 | Train acc: 0.9012 | Train kappa: 0.9018 \n",
      "Val loss: 0.2945 | Val precision: 0.8593 | Val recall: 0.8492 | Val f1score: 0.8518 | Val acc: 0.8968 | Val kappa: 0.8624 \n",
      "\n"
     ]
    },
    {
     "name": "stdout",
     "output_type": "stream",
     "text": [
      "Epoch: 28 \n",
      "Learning rate: 1e-06\n",
      "Train loss: 0.2703 | Train precision: 0.8942 | Train recall: 0.8658 | Train f1score: 0.8789 | Train acc: 0.9033 | Train kappa: 0.9033 \n",
      "Val loss: 0.2936 | Val precision: 0.8568 | Val recall: 0.8494 | Val f1score: 0.8510 | Val acc: 0.8958 | Val kappa: 0.8652 \n",
      "\n",
      "Epoch: 29 \n",
      "Learning rate: 1e-06\n",
      "Train loss: 0.2649 | Train precision: 0.8908 | Train recall: 0.8726 | Train f1score: 0.8806 | Train acc: 0.9064 | Train kappa: 0.9022 \n",
      "Val loss: 0.2930 | Val precision: 0.8647 | Val recall: 0.8528 | Val f1score: 0.8564 | Val acc: 0.9015 | Val kappa: 0.8650 \n",
      "\n",
      "Epoch: 30 \n",
      "Learning rate: 1e-06\n",
      "Train loss: 0.2501 | Train precision: 0.9038 | Train recall: 0.8749 | Train f1score: 0.8881 | Train acc: 0.9111 | Train kappa: 0.9043 \n",
      "Val loss: 0.2935 | Val precision: 0.8579 | Val recall: 0.8484 | Val f1score: 0.8520 | Val acc: 0.8968 | Val kappa: 0.8567 \n",
      "\n",
      "Epoch: 31 \n",
      "Learning rate: 1e-06\n",
      "Train loss: 0.2587 | Train precision: 0.8966 | Train recall: 0.8700 | Train f1score: 0.8820 | Train acc: 0.9072 | Train kappa: 0.8980 \n",
      "Val loss: 0.2953 | Val precision: 0.8654 | Val recall: 0.8511 | Val f1score: 0.8546 | Val acc: 0.9006 | Val kappa: 0.8639 \n",
      "\n",
      "Epoch: 32 \n",
      "Learning rate: 1e-06\n",
      "Train loss: 0.2527 | Train precision: 0.8922 | Train recall: 0.8707 | Train f1score: 0.8806 | Train acc: 0.9065 | Train kappa: 0.9010 \n",
      "Val loss: 0.2933 | Val precision: 0.8604 | Val recall: 0.8509 | Val f1score: 0.8535 | Val acc: 0.8996 | Val kappa: 0.8638 \n",
      "\n",
      "Epoch: 33 \n",
      "Learning rate: 1e-06\n",
      "Train loss: 0.2646 | Train precision: 0.8948 | Train recall: 0.8711 | Train f1score: 0.8822 | Train acc: 0.9054 | Train kappa: 0.8991 \n",
      "Val loss: 0.2939 | Val precision: 0.8443 | Val recall: 0.8478 | Val f1score: 0.8442 | Val acc: 0.8930 | Val kappa: 0.8550 \n",
      "\n",
      "Epoch: 34 \n",
      "Learning rate: 1e-06\n",
      "Train loss: 0.2510 | Train precision: 0.8995 | Train recall: 0.8774 | Train f1score: 0.8876 | Train acc: 0.9090 | Train kappa: 0.9071 \n",
      "Val loss: 0.2939 | Val precision: 0.8504 | Val recall: 0.8471 | Val f1score: 0.8462 | Val acc: 0.8939 | Val kappa: 0.8594 \n",
      "\n",
      "Epoch: 35 \n",
      "Learning rate: 1e-06\n",
      "Train loss: 0.2679 | Train precision: 0.8885 | Train recall: 0.8709 | Train f1score: 0.8786 | Train acc: 0.9031 | Train kappa: 0.9004 \n",
      "Val loss: 0.2934 | Val precision: 0.8633 | Val recall: 0.8496 | Val f1score: 0.8530 | Val acc: 0.9006 | Val kappa: 0.8646 \n",
      "\n",
      "Epoch: 36 \n",
      "Learning rate: 1e-06\n",
      "Train loss: 0.2559 | Train precision: 0.8941 | Train recall: 0.8759 | Train f1score: 0.8846 | Train acc: 0.9102 | Train kappa: 0.9091 \n",
      "Val loss: 0.2924 | Val precision: 0.8688 | Val recall: 0.8518 | Val f1score: 0.8574 | Val acc: 0.9015 | Val kappa: 0.8712 \n",
      "\n",
      "Epoch: 37 \n",
      "Learning rate: 1e-06\n",
      "Train loss: 0.2592 | Train precision: 0.8890 | Train recall: 0.8657 | Train f1score: 0.8766 | Train acc: 0.9029 | Train kappa: 0.8964 \n",
      "Val loss: 0.2938 | Val precision: 0.8685 | Val recall: 0.8518 | Val f1score: 0.8571 | Val acc: 0.9025 | Val kappa: 0.8700 \n",
      "\n",
      "Epoch: 38 \n",
      "Learning rate: 1e-06\n",
      "Train loss: 0.2597 | Train precision: 0.8919 | Train recall: 0.8713 | Train f1score: 0.8807 | Train acc: 0.9069 | Train kappa: 0.9009 \n",
      "Val loss: 0.2932 | Val precision: 0.8633 | Val recall: 0.8443 | Val f1score: 0.8517 | Val acc: 0.8996 | Val kappa: 0.8625 \n",
      "\n",
      "Epoch: 39 \n",
      "Learning rate: 1e-06\n",
      "Train loss: 0.2654 | Train precision: 0.8937 | Train recall: 0.8648 | Train f1score: 0.8778 | Train acc: 0.9038 | Train kappa: 0.8988 \n",
      "Val loss: 0.2950 | Val precision: 0.8691 | Val recall: 0.8503 | Val f1score: 0.8565 | Val acc: 0.9015 | Val kappa: 0.8698 \n",
      "\n",
      "Epoch: 40 \n",
      "Learning rate: 1e-06\n",
      "Train loss: 0.2538 | Train precision: 0.8965 | Train recall: 0.8732 | Train f1score: 0.8840 | Train acc: 0.9082 | Train kappa: 0.9037 \n",
      "Val loss: 0.2933 | Val precision: 0.8559 | Val recall: 0.8446 | Val f1score: 0.8490 | Val acc: 0.8958 | Val kappa: 0.8588 \n",
      "\n",
      "Epoch: 41 \n",
      "Learning rate: 1e-06\n",
      "Train loss: 0.2554 | Train precision: 0.9007 | Train recall: 0.8765 | Train f1score: 0.8877 | Train acc: 0.9081 | Train kappa: 0.9123 \n",
      "Val loss: 0.2955 | Val precision: 0.8524 | Val recall: 0.8472 | Val f1score: 0.8481 | Val acc: 0.8968 | Val kappa: 0.8626 \n",
      "\n",
      "Epoch: 42 \n",
      "Learning rate: 1e-06\n",
      "Train loss: 0.2499 | Train precision: 0.8951 | Train recall: 0.8743 | Train f1score: 0.8841 | Train acc: 0.9063 | Train kappa: 0.9099 \n",
      "Val loss: 0.2938 | Val precision: 0.8613 | Val recall: 0.8484 | Val f1score: 0.8524 | Val acc: 0.8987 | Val kappa: 0.8678 \n",
      "\n",
      "Epoch: 43 \n",
      "Learning rate: 1e-06\n",
      "Train loss: 0.2590 | Train precision: 0.8986 | Train recall: 0.8666 | Train f1score: 0.8813 | Train acc: 0.9075 | Train kappa: 0.8971 \n",
      "Val loss: 0.2949 | Val precision: 0.8606 | Val recall: 0.8498 | Val f1score: 0.8527 | Val acc: 0.8977 | Val kappa: 0.8662 \n",
      "\n",
      "Epoch: 44 \n",
      "Learning rate: 1e-06\n",
      "Train loss: 0.2583 | Train precision: 0.8943 | Train recall: 0.8721 | Train f1score: 0.8824 | Train acc: 0.9046 | Train kappa: 0.9016 \n",
      "Val loss: 0.2944 | Val precision: 0.8514 | Val recall: 0.8491 | Val f1score: 0.8482 | Val acc: 0.8939 | Val kappa: 0.8664 \n",
      "\n",
      "Epoch: 45 \n",
      "Learning rate: 1e-06\n",
      "Train loss: 0.2598 | Train precision: 0.8942 | Train recall: 0.8721 | Train f1score: 0.8823 | Train acc: 0.9070 | Train kappa: 0.8951 \n",
      "Val loss: 0.2942 | Val precision: 0.8558 | Val recall: 0.8502 | Val f1score: 0.8514 | Val acc: 0.8968 | Val kappa: 0.8654 \n",
      "\n",
      "Epoch: 46 \n",
      "Learning rate: 1e-06\n",
      "Train loss: 0.2627 | Train precision: 0.8936 | Train recall: 0.8643 | Train f1score: 0.8774 | Train acc: 0.9030 | Train kappa: 0.8942 \n",
      "Val loss: 0.2943 | Val precision: 0.8640 | Val recall: 0.8501 | Val f1score: 0.8535 | Val acc: 0.9006 | Val kappa: 0.8636 \n",
      "\n",
      "Early stopping after epoch 46\n"
     ]
    },
    {
     "data": {
      "text/html": [
       "Waiting for W&B process to finish... <strong style=\"color:green\">(success).</strong>"
      ],
      "text/plain": [
       "<IPython.core.display.HTML object>"
      ]
     },
     "metadata": {},
     "output_type": "display_data"
    },
    {
     "data": {
      "application/vnd.jupyter.widget-view+json": {
       "model_id": "a4312f7fcb094762aa57fc3284a06f77",
       "version_major": 2,
       "version_minor": 0
      },
      "text/plain": [
       "VBox(children=(Label(value='0.001 MB of 0.001 MB uploaded (0.000 MB deduped)\\r'), FloatProgress(value=1.0, max…"
      ]
     },
     "metadata": {},
     "output_type": "display_data"
    },
    {
     "data": {
      "text/html": [
       "<style>\n",
       "    table.wandb td:nth-child(1) { padding: 0 10px; text-align: left ; width: auto;} td:nth-child(2) {text-align: left ; width: 100%}\n",
       "    .wandb-row { display: flex; flex-direction: row; flex-wrap: wrap; justify-content: flex-start; width: 100% }\n",
       "    .wandb-col { display: flex; flex-direction: column; flex-basis: 100%; flex: 1; padding: 10px; }\n",
       "    </style>\n",
       "<div class=\"wandb-row\"><div class=\"wandb-col\"><h3>Run history:</h3><br/><table class=\"wandb\"><tr><td>learning_rate</td><td>█▆▅▄▃▃▂▂▂▁▁▁▁▁▁▁▁▁▁▁▁▁▁▁▁▁▁▁▁▁▁▁▁▁▁▁▁▁▁▁</td></tr><tr><td>train_f1_score</td><td>▁▄▅▆▆▇▇▇▇▇██████████████████████████████</td></tr><tr><td>train_loss</td><td>█▅▄▄▃▃▂▂▂▂▂▁▁▁▁▁▁▁▁▁▁▁▁▁▁▁▁▁▁▁▁▁▁▁▁▁▁▁▁▁</td></tr><tr><td>val_f1_score</td><td>▁▅▅▆▇▇▇█████████████████████████████████</td></tr><tr><td>val_loss</td><td>█▃▄▃▂▂▁▁▁▁▁▁▁▁▁▁▁▁▁▁▁▁▁▁▁▁▁▁▁▁▁▁▁▁▁▁▁▁▁▁</td></tr></table><br/></div><div class=\"wandb-col\"><h3>Run summary:</h3><br/><table class=\"wandb\"><tr><td>learning_rate</td><td>0.0</td></tr><tr><td>train_f1_score</td><td>0.87744</td></tr><tr><td>train_loss</td><td>0.26266</td></tr><tr><td>val_f1_score</td><td>0.85347</td></tr><tr><td>val_loss</td><td>0.29428</td></tr></table><br/></div></div>"
      ],
      "text/plain": [
       "<IPython.core.display.HTML object>"
      ]
     },
     "metadata": {},
     "output_type": "display_data"
    },
    {
     "data": {
      "text/html": [
       " View run <strong style=\"color:#cdcd00\">fold_3_RGB-RE-NIR-6species-dead</strong> at: <a href='https://wandb.ai/simon-ecke/wze-uav-species/runs/wr5tgono' target=\"_blank\">https://wandb.ai/simon-ecke/wze-uav-species/runs/wr5tgono</a><br/>Synced 5 W&B file(s), 0 media file(s), 0 artifact file(s) and 0 other file(s)"
      ],
      "text/plain": [
       "<IPython.core.display.HTML object>"
      ]
     },
     "metadata": {},
     "output_type": "display_data"
    },
    {
     "data": {
      "text/html": [
       "Find logs at: <code>.\\wandb\\run-20230504_004423-wr5tgono\\logs</code>"
      ],
      "text/plain": [
       "<IPython.core.display.HTML object>"
      ]
     },
     "metadata": {},
     "output_type": "display_data"
    },
    {
     "name": "stdout",
     "output_type": "stream",
     "text": [
      "Deleting variables and emptying cache\n",
      "Memory allocated: 1052701696 bytes\n",
      "--------------------------------------------------\n",
      "\n",
      "Fold : 4\n",
      "TRAIN POSITIVE RATIO: 1.4003205413587392\n",
      "VAL POSITIVE RATIO  : 1.3510074231177094\n",
      "LENGTH TRAIN GROUPS : 4275\n",
      "LENGTH VAL GROUPS   : 1069\n"
     ]
    },
    {
     "data": {
      "text/html": [
       "wandb version 0.15.1 is available!  To upgrade, please run:\n",
       " $ pip install wandb --upgrade"
      ],
      "text/plain": [
       "<IPython.core.display.HTML object>"
      ]
     },
     "metadata": {},
     "output_type": "display_data"
    },
    {
     "data": {
      "text/html": [
       "Tracking run with wandb version 0.14.2"
      ],
      "text/plain": [
       "<IPython.core.display.HTML object>"
      ]
     },
     "metadata": {},
     "output_type": "display_data"
    },
    {
     "data": {
      "text/html": [
       "Run data is saved locally in <code>C:\\Users\\lwfeckesim\\01_PyTorch\\wze-uav\\wze-uav-master\\wandb\\run-20230504_042340-ia5xpbgj</code>"
      ],
      "text/plain": [
       "<IPython.core.display.HTML object>"
      ]
     },
     "metadata": {},
     "output_type": "display_data"
    },
    {
     "data": {
      "text/html": [
       "Syncing run <strong><a href='https://wandb.ai/simon-ecke/wze-uav-species/runs/ia5xpbgj' target=\"_blank\">fold_4_RGB-RE-NIR-6species-dead</a></strong> to <a href='https://wandb.ai/simon-ecke/wze-uav-species' target=\"_blank\">Weights & Biases</a> (<a href='https://wandb.me/run' target=\"_blank\">docs</a>)<br/>"
      ],
      "text/plain": [
       "<IPython.core.display.HTML object>"
      ]
     },
     "metadata": {},
     "output_type": "display_data"
    },
    {
     "data": {
      "text/html": [
       " View project at <a href='https://wandb.ai/simon-ecke/wze-uav-species' target=\"_blank\">https://wandb.ai/simon-ecke/wze-uav-species</a>"
      ],
      "text/plain": [
       "<IPython.core.display.HTML object>"
      ]
     },
     "metadata": {},
     "output_type": "display_data"
    },
    {
     "data": {
      "text/html": [
       " View run at <a href='https://wandb.ai/simon-ecke/wze-uav-species/runs/ia5xpbgj' target=\"_blank\">https://wandb.ai/simon-ecke/wze-uav-species/runs/ia5xpbgj</a>"
      ],
      "text/plain": [
       "<IPython.core.display.HTML object>"
      ]
     },
     "metadata": {},
     "output_type": "display_data"
    },
    {
     "name": "stdout",
     "output_type": "stream",
     "text": [
      "There are no same hash_id values in train, val or test datasets. The datasplit was successful\n",
      "Check shapes:\n",
      "\n",
      "Images train dataset: (11231, 250, 250, 5)\n",
      "Labels train dataset: (11231, 1)\n",
      "\n",
      "Images validation dataset: (1069, 250, 250, 5)\n",
      "Labels validation dataset: (1069, 1)\n",
      "\n",
      "--------------------------------------------------\n",
      "Check if the split was stratified: (random_state=42)\n",
      "Healthy trees in train dataset: 4491\n",
      "Moderately stressed trees in train dataset: 3143\n",
      "Severely stressed trees in train dataset: 409\n",
      "Dead trees in train dataset: 1706\n",
      "Healthy trees in validation dataset: 447\n",
      "Moderately stressed trees in validation dataset: 284\n",
      "Severely stressed trees in validation dataset: 57\n",
      "Dead trees in validation dataset: 157\n",
      "Ratio health trees in validation dataset: 0.07924126927849671\n",
      "Ratio moderately stressed trees in validation dataset: 0.07213614427228854\n",
      "Ratio severely stressed trees in validation dataset: 0.5135623869801085\n",
      "Ratio dead trees in validation dataset: 0.02679830747531735\n",
      "--------------------------------------------------\n",
      "\n",
      "Creating datasets for fold: 4\n",
      "\n",
      "Creating dataloaders for fold: 4\n",
      "\n",
      "Loaded pretrained weights for efficientnet-b7\n",
      "\n",
      "[INFO] Fold number: 4\n",
      "[INFO] Number of epochs: 50\n",
      "[INFO] Batch_size: 32\n",
      "[INFO] Number of bands: 5\n",
      "[INFO] Dropout rate: 0.5\n",
      "[INFO] Gamma learning rate: 0.75\n",
      "[INFO] Memory allocated: 0 bytes\n"
     ]
    },
    {
     "data": {
      "application/vnd.jupyter.widget-view+json": {
       "model_id": "0e794b83e1224dc7a53daa15f76d60f7",
       "version_major": 2,
       "version_minor": 0
      },
      "text/plain": [
       "  0%|          | 0/50 [00:00<?, ?it/s]"
      ]
     },
     "metadata": {},
     "output_type": "display_data"
    },
    {
     "name": "stdout",
     "output_type": "stream",
     "text": [
      "Epoch: 1 \n",
      "Learning rate: 0.001\n",
      "Train loss: 1.0299 | Train precision: 0.4928 | Train recall: 0.4267 | Train f1score: 0.4381 | Train acc: 0.6029 | Train kappa: 0.5643 \n",
      "Val loss: 1.8301 | Val precision: 0.2676 | Val recall: 0.1917 | Val f1score: 0.1657 | Val acc: 0.4527 | Val kappa: 0.1515 \n",
      "\n",
      "Epoch: 2 \n",
      "Learning rate: 0.00075\n",
      "Train loss: 0.7040 | Train precision: 0.6778 | Train recall: 0.6320 | Train f1score: 0.6452 | Train acc: 0.7443 | Train kappa: 0.7331 \n",
      "Val loss: 0.9069 | Val precision: 0.6347 | Val recall: 0.4917 | Val f1score: 0.4874 | Val acc: 0.6866 | Val kappa: 0.6498 \n",
      "\n",
      "Epoch: 3 \n",
      "Learning rate: 0.0005625000000000001\n",
      "Train loss: 0.5903 | Train precision: 0.7426 | Train recall: 0.6943 | Train f1score: 0.7126 | Train acc: 0.7856 | Train kappa: 0.7795 \n",
      "Val loss: 0.5814 | Val precision: 0.7267 | Val recall: 0.7556 | Val f1score: 0.7135 | Val acc: 0.7907 | Val kappa: 0.7267 \n",
      "\n",
      "Epoch: 4 \n",
      "Learning rate: 0.000421875\n",
      "Train loss: 0.4875 | Train precision: 0.7868 | Train recall: 0.7533 | Train f1score: 0.7674 | Train acc: 0.8269 | Train kappa: 0.8206 \n",
      "Val loss: 0.5138 | Val precision: 0.7327 | Val recall: 0.7757 | Val f1score: 0.7491 | Val acc: 0.8248 | Val kappa: 0.8195 \n",
      "\n",
      "Epoch: 5 \n",
      "Learning rate: 0.00031640625\n",
      "Train loss: 0.4519 | Train precision: 0.8025 | Train recall: 0.7692 | Train f1score: 0.7827 | Train acc: 0.8346 | Train kappa: 0.8239 \n",
      "Val loss: 0.5123 | Val precision: 0.7971 | Val recall: 0.7302 | Val f1score: 0.7493 | Val acc: 0.8314 | Val kappa: 0.8168 \n",
      "\n",
      "Epoch: 6 \n",
      "Learning rate: 0.0002373046875\n",
      "Train loss: 0.3956 | Train precision: 0.8199 | Train recall: 0.7905 | Train f1score: 0.8032 | Train acc: 0.8541 | Train kappa: 0.8426 \n",
      "Val loss: 0.5249 | Val precision: 0.7764 | Val recall: 0.7628 | Val f1score: 0.7609 | Val acc: 0.8343 | Val kappa: 0.8161 \n",
      "\n",
      "Epoch: 7 \n",
      "Learning rate: 0.000177978515625\n",
      "Train loss: 0.3643 | Train precision: 0.8493 | Train recall: 0.8236 | Train f1score: 0.8344 | Train acc: 0.8705 | Train kappa: 0.8534 \n",
      "Val loss: 0.3658 | Val precision: 0.8072 | Val recall: 0.8033 | Val f1score: 0.8041 | Val acc: 0.8674 | Val kappa: 0.8618 \n",
      "\n",
      "Epoch: 8 \n",
      "Learning rate: 0.00013348388671875\n",
      "Train loss: 0.3432 | Train precision: 0.8576 | Train recall: 0.8312 | Train f1score: 0.8430 | Train acc: 0.8788 | Train kappa: 0.8617 \n",
      "Val loss: 0.4400 | Val precision: 0.8497 | Val recall: 0.7568 | Val f1score: 0.7780 | Val acc: 0.8580 | Val kappa: 0.8679 \n",
      "\n",
      "Epoch: 9 \n",
      "Learning rate: 0.0001001129150390625\n",
      "Train loss: 0.3231 | Train precision: 0.8723 | Train recall: 0.8446 | Train f1score: 0.8570 | Train acc: 0.8872 | Train kappa: 0.8814 \n",
      "Val loss: 0.3745 | Val precision: 0.8571 | Val recall: 0.7919 | Val f1score: 0.8122 | Val acc: 0.8750 | Val kappa: 0.8693 \n",
      "\n",
      "Epoch: 10 \n",
      "Learning rate: 7.508468627929687e-05\n",
      "Train loss: 0.3178 | Train precision: 0.8689 | Train recall: 0.8360 | Train f1score: 0.8506 | Train acc: 0.8856 | Train kappa: 0.8654 \n",
      "Val loss: 0.3404 | Val precision: 0.8281 | Val recall: 0.8384 | Val f1score: 0.8296 | Val acc: 0.8911 | Val kappa: 0.8578 \n",
      "\n",
      "Epoch: 11 \n",
      "Learning rate: 5.6313514709472656e-05\n",
      "Train loss: 0.2977 | Train precision: 0.8773 | Train recall: 0.8566 | Train f1score: 0.8659 | Train acc: 0.8948 | Train kappa: 0.8787 \n",
      "Val loss: 0.3518 | Val precision: 0.8295 | Val recall: 0.8324 | Val f1score: 0.8279 | Val acc: 0.8873 | Val kappa: 0.8566 \n",
      "\n",
      "Epoch: 12 \n",
      "Learning rate: 4.223513603210449e-05\n",
      "Train loss: 0.2829 | Train precision: 0.8849 | Train recall: 0.8559 | Train f1score: 0.8686 | Train acc: 0.8977 | Train kappa: 0.8891 \n",
      "Val loss: 0.3331 | Val precision: 0.8332 | Val recall: 0.8192 | Val f1score: 0.8229 | Val acc: 0.8845 | Val kappa: 0.8751 \n",
      "\n",
      "Epoch: 13 \n",
      "Learning rate: 3.167635202407837e-05\n",
      "Train loss: 0.2731 | Train precision: 0.8908 | Train recall: 0.8636 | Train f1score: 0.8756 | Train acc: 0.9023 | Train kappa: 0.8928 \n",
      "Val loss: 0.3339 | Val precision: 0.8343 | Val recall: 0.8377 | Val f1score: 0.8332 | Val acc: 0.8883 | Val kappa: 0.8820 \n",
      "\n",
      "Epoch: 14 \n",
      "Learning rate: 2.3757264018058778e-05\n",
      "Train loss: 0.2681 | Train precision: 0.8931 | Train recall: 0.8649 | Train f1score: 0.8773 | Train acc: 0.9052 | Train kappa: 0.8869 \n",
      "Val loss: 0.3258 | Val precision: 0.8241 | Val recall: 0.8356 | Val f1score: 0.8275 | Val acc: 0.8883 | Val kappa: 0.8734 \n",
      "\n",
      "Epoch: 15 \n",
      "Learning rate: 1.7817948013544083e-05\n",
      "Train loss: 0.2489 | Train precision: 0.8976 | Train recall: 0.8739 | Train f1score: 0.8845 | Train acc: 0.9078 | Train kappa: 0.9009 \n",
      "Val loss: 0.3351 | Val precision: 0.8397 | Val recall: 0.8234 | Val f1score: 0.8277 | Val acc: 0.8864 | Val kappa: 0.8831 \n",
      "\n",
      "Epoch: 16 \n",
      "Learning rate: 1.3363461010158063e-05\n",
      "Train loss: 0.2576 | Train precision: 0.8974 | Train recall: 0.8737 | Train f1score: 0.8844 | Train acc: 0.9087 | Train kappa: 0.8951 \n",
      "Val loss: 0.3244 | Val precision: 0.8354 | Val recall: 0.8331 | Val f1score: 0.8330 | Val acc: 0.8873 | Val kappa: 0.8725 \n",
      "\n",
      "Epoch: 17 \n",
      "Learning rate: 1.0022595757618546e-05\n",
      "Train loss: 0.2593 | Train precision: 0.8988 | Train recall: 0.8729 | Train f1score: 0.8847 | Train acc: 0.9071 | Train kappa: 0.9023 \n",
      "Val loss: 0.3245 | Val precision: 0.8420 | Val recall: 0.8358 | Val f1score: 0.8371 | Val acc: 0.8911 | Val kappa: 0.8798 \n",
      "\n",
      "Epoch: 18 \n",
      "Learning rate: 7.51694681821391e-06\n",
      "Train loss: 0.2536 | Train precision: 0.8973 | Train recall: 0.8712 | Train f1score: 0.8830 | Train acc: 0.9081 | Train kappa: 0.8962 \n",
      "Val loss: 0.3272 | Val precision: 0.8399 | Val recall: 0.8428 | Val f1score: 0.8400 | Val acc: 0.8920 | Val kappa: 0.8739 \n",
      "\n",
      "Epoch: 19 \n",
      "Learning rate: 5.637710113660432e-06\n",
      "Train loss: 0.2514 | Train precision: 0.8950 | Train recall: 0.8756 | Train f1score: 0.8845 | Train acc: 0.9094 | Train kappa: 0.8959 \n",
      "Val loss: 0.3229 | Val precision: 0.8446 | Val recall: 0.8425 | Val f1score: 0.8421 | Val acc: 0.8930 | Val kappa: 0.8826 \n",
      "\n",
      "Epoch: 20 \n",
      "Learning rate: 4.228282585245324e-06\n",
      "Train loss: 0.2513 | Train precision: 0.8997 | Train recall: 0.8763 | Train f1score: 0.8871 | Train acc: 0.9095 | Train kappa: 0.8991 \n",
      "Val loss: 0.3351 | Val precision: 0.8401 | Val recall: 0.8361 | Val f1score: 0.8356 | Val acc: 0.8883 | Val kappa: 0.8835 \n",
      "\n",
      "Epoch: 21 \n",
      "Learning rate: 3.1712119389339933e-06\n",
      "Train loss: 0.2514 | Train precision: 0.8970 | Train recall: 0.8774 | Train f1score: 0.8858 | Train acc: 0.9090 | Train kappa: 0.8996 \n",
      "Val loss: 0.3268 | Val precision: 0.8397 | Val recall: 0.8403 | Val f1score: 0.8387 | Val acc: 0.8902 | Val kappa: 0.8826 \n",
      "\n",
      "Epoch: 22 \n",
      "Learning rate: 2.378408954200495e-06\n",
      "Train loss: 0.2415 | Train precision: 0.9004 | Train recall: 0.8905 | Train f1score: 0.8949 | Train acc: 0.9137 | Train kappa: 0.9086 \n",
      "Val loss: 0.3255 | Val precision: 0.8417 | Val recall: 0.8421 | Val f1score: 0.8407 | Val acc: 0.8920 | Val kappa: 0.8818 \n",
      "\n",
      "Epoch: 23 \n",
      "Learning rate: 1.7838067156503713e-06\n",
      "Train loss: 0.2494 | Train precision: 0.9078 | Train recall: 0.8775 | Train f1score: 0.8909 | Train acc: 0.9120 | Train kappa: 0.9034 \n",
      "Val loss: 0.3278 | Val precision: 0.8411 | Val recall: 0.8425 | Val f1score: 0.8400 | Val acc: 0.8911 | Val kappa: 0.8783 \n",
      "\n",
      "Epoch: 24 \n",
      "Learning rate: 1.3378550367377785e-06\n",
      "Train loss: 0.2388 | Train precision: 0.9019 | Train recall: 0.8784 | Train f1score: 0.8893 | Train acc: 0.9132 | Train kappa: 0.9004 \n",
      "Val loss: 0.3260 | Val precision: 0.8458 | Val recall: 0.8422 | Val f1score: 0.8424 | Val acc: 0.8930 | Val kappa: 0.8853 \n",
      "\n",
      "Epoch: 25 \n",
      "Learning rate: 1.0033912775533338e-06\n",
      "Train loss: 0.2516 | Train precision: 0.8934 | Train recall: 0.8724 | Train f1score: 0.8819 | Train acc: 0.9082 | Train kappa: 0.8972 \n",
      "Val loss: 0.3240 | Val precision: 0.8438 | Val recall: 0.8431 | Val f1score: 0.8423 | Val acc: 0.8930 | Val kappa: 0.8824 \n",
      "\n",
      "Epoch: 26 \n",
      "Learning rate: 1e-06\n",
      "Train loss: 0.2495 | Train precision: 0.8981 | Train recall: 0.8796 | Train f1score: 0.8881 | Train acc: 0.9111 | Train kappa: 0.9024 \n",
      "Val loss: 0.3244 | Val precision: 0.8403 | Val recall: 0.8442 | Val f1score: 0.8408 | Val acc: 0.8930 | Val kappa: 0.8801 \n",
      "\n",
      "Epoch: 27 \n",
      "Learning rate: 1e-06\n",
      "Train loss: 0.2460 | Train precision: 0.9080 | Train recall: 0.8769 | Train f1score: 0.8908 | Train acc: 0.9144 | Train kappa: 0.8995 \n",
      "Val loss: 0.3252 | Val precision: 0.8371 | Val recall: 0.8474 | Val f1score: 0.8401 | Val acc: 0.8920 | Val kappa: 0.8763 \n",
      "\n"
     ]
    },
    {
     "name": "stdout",
     "output_type": "stream",
     "text": [
      "Epoch: 28 \n",
      "Learning rate: 1e-06\n",
      "Train loss: 0.2453 | Train precision: 0.9005 | Train recall: 0.8813 | Train f1score: 0.8904 | Train acc: 0.9122 | Train kappa: 0.9035 \n",
      "Val loss: 0.3242 | Val precision: 0.8461 | Val recall: 0.8436 | Val f1score: 0.8435 | Val acc: 0.8939 | Val kappa: 0.8826 \n",
      "\n",
      "Epoch: 29 \n",
      "Learning rate: 1e-06\n",
      "Train loss: 0.2467 | Train precision: 0.9054 | Train recall: 0.8739 | Train f1score: 0.8883 | Train acc: 0.9074 | Train kappa: 0.8994 \n",
      "Val loss: 0.3266 | Val precision: 0.8435 | Val recall: 0.8429 | Val f1score: 0.8418 | Val acc: 0.8920 | Val kappa: 0.8766 \n",
      "\n",
      "Epoch: 30 \n",
      "Learning rate: 1e-06\n",
      "Train loss: 0.2565 | Train precision: 0.8952 | Train recall: 0.8747 | Train f1score: 0.8838 | Train acc: 0.9066 | Train kappa: 0.8977 \n",
      "Val loss: 0.3235 | Val precision: 0.8467 | Val recall: 0.8480 | Val f1score: 0.8459 | Val acc: 0.8930 | Val kappa: 0.8841 \n",
      "\n",
      "Epoch: 31 \n",
      "Learning rate: 1e-06\n",
      "Train loss: 0.2465 | Train precision: 0.9025 | Train recall: 0.8770 | Train f1score: 0.8888 | Train acc: 0.9120 | Train kappa: 0.9013 \n",
      "Val loss: 0.3250 | Val precision: 0.8446 | Val recall: 0.8426 | Val f1score: 0.8422 | Val acc: 0.8930 | Val kappa: 0.8825 \n",
      "\n",
      "Epoch: 32 \n",
      "Learning rate: 1e-06\n",
      "Train loss: 0.2459 | Train precision: 0.9022 | Train recall: 0.8816 | Train f1score: 0.8912 | Train acc: 0.9120 | Train kappa: 0.9059 \n",
      "Val loss: 0.3262 | Val precision: 0.8376 | Val recall: 0.8409 | Val f1score: 0.8375 | Val acc: 0.8902 | Val kappa: 0.8782 \n",
      "\n",
      "Epoch: 33 \n",
      "Learning rate: 1e-06\n",
      "Train loss: 0.2549 | Train precision: 0.8956 | Train recall: 0.8732 | Train f1score: 0.8832 | Train acc: 0.9082 | Train kappa: 0.8934 \n",
      "Val loss: 0.3275 | Val precision: 0.8398 | Val recall: 0.8429 | Val f1score: 0.8398 | Val acc: 0.8920 | Val kappa: 0.8739 \n",
      "\n",
      "Epoch: 34 \n",
      "Learning rate: 1e-06\n",
      "Train loss: 0.2379 | Train precision: 0.9016 | Train recall: 0.8850 | Train f1score: 0.8927 | Train acc: 0.9151 | Train kappa: 0.9032 \n",
      "Val loss: 0.3244 | Val precision: 0.8421 | Val recall: 0.8417 | Val f1score: 0.8407 | Val acc: 0.8920 | Val kappa: 0.8823 \n",
      "\n",
      "Epoch: 35 \n",
      "Learning rate: 1e-06\n",
      "Train loss: 0.2404 | Train precision: 0.9069 | Train recall: 0.8810 | Train f1score: 0.8931 | Train acc: 0.9143 | Train kappa: 0.9133 \n",
      "Val loss: 0.3223 | Val precision: 0.8347 | Val recall: 0.8401 | Val f1score: 0.8361 | Val acc: 0.8902 | Val kappa: 0.8806 \n",
      "\n",
      "Epoch: 36 \n",
      "Learning rate: 1e-06\n",
      "Train loss: 0.2499 | Train precision: 0.9085 | Train recall: 0.8821 | Train f1score: 0.8942 | Train acc: 0.9129 | Train kappa: 0.9018 \n",
      "Val loss: 0.3225 | Val precision: 0.8381 | Val recall: 0.8425 | Val f1score: 0.8391 | Val acc: 0.8930 | Val kappa: 0.8809 \n",
      "\n",
      "Epoch: 37 \n",
      "Learning rate: 1e-06\n",
      "Train loss: 0.2403 | Train precision: 0.8981 | Train recall: 0.8907 | Train f1score: 0.8938 | Train acc: 0.9143 | Train kappa: 0.9061 \n",
      "Val loss: 0.3238 | Val precision: 0.8398 | Val recall: 0.8423 | Val f1score: 0.8398 | Val acc: 0.8920 | Val kappa: 0.8765 \n",
      "\n",
      "Epoch: 38 \n",
      "Learning rate: 1e-06\n",
      "Train loss: 0.2394 | Train precision: 0.9015 | Train recall: 0.8819 | Train f1score: 0.8911 | Train acc: 0.9106 | Train kappa: 0.9030 \n",
      "Val loss: 0.3235 | Val precision: 0.8413 | Val recall: 0.8447 | Val f1score: 0.8416 | Val acc: 0.8939 | Val kappa: 0.8795 \n",
      "\n",
      "Epoch: 39 \n",
      "Learning rate: 1e-06\n",
      "Train loss: 0.2497 | Train precision: 0.9012 | Train recall: 0.8806 | Train f1score: 0.8901 | Train acc: 0.9113 | Train kappa: 0.9018 \n",
      "Val loss: 0.3198 | Val precision: 0.8334 | Val recall: 0.8503 | Val f1score: 0.8399 | Val acc: 0.8920 | Val kappa: 0.8748 \n",
      "\n",
      "Epoch: 40 \n",
      "Learning rate: 1e-06\n",
      "Train loss: 0.2467 | Train precision: 0.8958 | Train recall: 0.8752 | Train f1score: 0.8847 | Train acc: 0.9107 | Train kappa: 0.9007 \n",
      "Val loss: 0.3248 | Val precision: 0.8432 | Val recall: 0.8423 | Val f1score: 0.8413 | Val acc: 0.8920 | Val kappa: 0.8814 \n",
      "\n",
      "Epoch: 41 \n",
      "Learning rate: 1e-06\n",
      "Train loss: 0.2456 | Train precision: 0.9057 | Train recall: 0.8786 | Train f1score: 0.8912 | Train acc: 0.9118 | Train kappa: 0.9006 \n",
      "Val loss: 0.3233 | Val precision: 0.8383 | Val recall: 0.8460 | Val f1score: 0.8409 | Val acc: 0.8911 | Val kappa: 0.8822 \n",
      "\n",
      "Epoch: 42 \n",
      "Learning rate: 1e-06\n",
      "Train loss: 0.2417 | Train precision: 0.9049 | Train recall: 0.8777 | Train f1score: 0.8898 | Train acc: 0.9152 | Train kappa: 0.8984 \n",
      "Val loss: 0.3226 | Val precision: 0.8428 | Val recall: 0.8430 | Val f1score: 0.8419 | Val acc: 0.8939 | Val kappa: 0.8835 \n",
      "\n",
      "Epoch: 43 \n",
      "Learning rate: 1e-06\n",
      "Train loss: 0.2475 | Train precision: 0.9041 | Train recall: 0.8843 | Train f1score: 0.8932 | Train acc: 0.9119 | Train kappa: 0.9076 \n",
      "Val loss: 0.3248 | Val precision: 0.8415 | Val recall: 0.8420 | Val f1score: 0.8405 | Val acc: 0.8930 | Val kappa: 0.8826 \n",
      "\n",
      "Epoch: 44 \n",
      "Learning rate: 1e-06\n",
      "Train loss: 0.2444 | Train precision: 0.9006 | Train recall: 0.8798 | Train f1score: 0.8892 | Train acc: 0.9120 | Train kappa: 0.9070 \n",
      "Val loss: 0.3257 | Val precision: 0.8443 | Val recall: 0.8441 | Val f1score: 0.8432 | Val acc: 0.8949 | Val kappa: 0.8835 \n",
      "\n",
      "Epoch: 45 \n",
      "Learning rate: 1e-06\n",
      "Train loss: 0.2564 | Train precision: 0.8970 | Train recall: 0.8715 | Train f1score: 0.8833 | Train acc: 0.9101 | Train kappa: 0.8898 \n",
      "Val loss: 0.3236 | Val precision: 0.8469 | Val recall: 0.8432 | Val f1score: 0.8438 | Val acc: 0.8939 | Val kappa: 0.8861 \n",
      "\n",
      "Epoch: 46 \n",
      "Learning rate: 1e-06\n",
      "Train loss: 0.2328 | Train precision: 0.9059 | Train recall: 0.8862 | Train f1score: 0.8951 | Train acc: 0.9162 | Train kappa: 0.9095 \n",
      "Val loss: 0.3245 | Val precision: 0.8405 | Val recall: 0.8413 | Val f1score: 0.8394 | Val acc: 0.8920 | Val kappa: 0.8834 \n",
      "\n",
      "Epoch: 47 \n",
      "Learning rate: 1e-06\n",
      "Train loss: 0.2407 | Train precision: 0.8988 | Train recall: 0.8749 | Train f1score: 0.8858 | Train acc: 0.9123 | Train kappa: 0.8971 \n",
      "Val loss: 0.3227 | Val precision: 0.8405 | Val recall: 0.8410 | Val f1score: 0.8397 | Val acc: 0.8911 | Val kappa: 0.8831 \n",
      "\n",
      "Epoch: 48 \n",
      "Learning rate: 1e-06\n",
      "Train loss: 0.2495 | Train precision: 0.8927 | Train recall: 0.8733 | Train f1score: 0.8821 | Train acc: 0.9080 | Train kappa: 0.8914 \n",
      "Val loss: 0.3237 | Val precision: 0.8371 | Val recall: 0.8411 | Val f1score: 0.8381 | Val acc: 0.8902 | Val kappa: 0.8794 \n",
      "\n",
      "Epoch: 49 \n",
      "Learning rate: 1e-06\n",
      "Train loss: 0.2500 | Train precision: 0.9011 | Train recall: 0.8723 | Train f1score: 0.8855 | Train acc: 0.9074 | Train kappa: 0.9008 \n",
      "Val loss: 0.3240 | Val precision: 0.8362 | Val recall: 0.8417 | Val f1score: 0.8376 | Val acc: 0.8902 | Val kappa: 0.8741 \n",
      "\n",
      "Early stopping after epoch 49\n"
     ]
    },
    {
     "data": {
      "text/html": [
       "Waiting for W&B process to finish... <strong style=\"color:green\">(success).</strong>"
      ],
      "text/plain": [
       "<IPython.core.display.HTML object>"
      ]
     },
     "metadata": {},
     "output_type": "display_data"
    },
    {
     "data": {
      "application/vnd.jupyter.widget-view+json": {
       "model_id": "95d6ff0f5bdd4ec2a7f50867e88656b9",
       "version_major": 2,
       "version_minor": 0
      },
      "text/plain": [
       "VBox(children=(Label(value='0.001 MB of 0.020 MB uploaded (0.000 MB deduped)\\r'), FloatProgress(value=0.063766…"
      ]
     },
     "metadata": {},
     "output_type": "display_data"
    },
    {
     "data": {
      "text/html": [
       "<style>\n",
       "    table.wandb td:nth-child(1) { padding: 0 10px; text-align: left ; width: auto;} td:nth-child(2) {text-align: left ; width: 100%}\n",
       "    .wandb-row { display: flex; flex-direction: row; flex-wrap: wrap; justify-content: flex-start; width: 100% }\n",
       "    .wandb-col { display: flex; flex-direction: column; flex-basis: 100%; flex: 1; padding: 10px; }\n",
       "    </style>\n",
       "<div class=\"wandb-row\"><div class=\"wandb-col\"><h3>Run history:</h3><br/><table class=\"wandb\"><tr><td>learning_rate</td><td>█▆▅▄▃▂▂▂▂▁▁▁▁▁▁▁▁▁▁▁▁▁▁▁▁▁▁▁▁▁▁▁▁▁▁▁▁▁▁▁</td></tr><tr><td>train_f1_score</td><td>▁▄▅▆▆▇▇▇▇███████████████████████████████</td></tr><tr><td>train_loss</td><td>█▅▄▃▃▂▂▂▂▁▁▁▁▁▁▁▁▁▁▁▁▁▁▁▁▁▁▁▁▁▁▁▁▁▁▁▁▁▁▁</td></tr><tr><td>val_f1_score</td><td>▁▄▇▇▇█▇█████████████████████████████████</td></tr><tr><td>val_loss</td><td>█▄▂▂▂▁▂▁▁▁▁▁▁▁▁▁▁▁▁▁▁▁▁▁▁▁▁▁▁▁▁▁▁▁▁▁▁▁▁▁</td></tr></table><br/></div><div class=\"wandb-col\"><h3>Run summary:</h3><br/><table class=\"wandb\"><tr><td>learning_rate</td><td>0.0</td></tr><tr><td>train_f1_score</td><td>0.88545</td></tr><tr><td>train_loss</td><td>0.25002</td></tr><tr><td>val_f1_score</td><td>0.83758</td></tr><tr><td>val_loss</td><td>0.32398</td></tr></table><br/></div></div>"
      ],
      "text/plain": [
       "<IPython.core.display.HTML object>"
      ]
     },
     "metadata": {},
     "output_type": "display_data"
    },
    {
     "data": {
      "text/html": [
       " View run <strong style=\"color:#cdcd00\">fold_4_RGB-RE-NIR-6species-dead</strong> at: <a href='https://wandb.ai/simon-ecke/wze-uav-species/runs/ia5xpbgj' target=\"_blank\">https://wandb.ai/simon-ecke/wze-uav-species/runs/ia5xpbgj</a><br/>Synced 5 W&B file(s), 0 media file(s), 0 artifact file(s) and 0 other file(s)"
      ],
      "text/plain": [
       "<IPython.core.display.HTML object>"
      ]
     },
     "metadata": {},
     "output_type": "display_data"
    },
    {
     "data": {
      "text/html": [
       "Find logs at: <code>.\\wandb\\run-20230504_042340-ia5xpbgj\\logs</code>"
      ],
      "text/plain": [
       "<IPython.core.display.HTML object>"
      ]
     },
     "metadata": {},
     "output_type": "display_data"
    },
    {
     "name": "stdout",
     "output_type": "stream",
     "text": [
      "Deleting variables and emptying cache\n",
      "Memory allocated: 1054524416 bytes\n",
      "--------------------------------------------------\n",
      "\n",
      "Fold : 5\n",
      "TRAIN POSITIVE RATIO: 1.3887010676156584\n",
      "VAL POSITIVE RATIO  : 1.3971631205673758\n",
      "LENGTH TRAIN GROUPS : 4274\n",
      "LENGTH VAL GROUPS   : 1070\n"
     ]
    },
    {
     "data": {
      "application/vnd.jupyter.widget-view+json": {
       "model_id": "21ab8248d9bb44948148f078c482e1f9",
       "version_major": 2,
       "version_minor": 0
      },
      "text/plain": [
       "VBox(children=(Label(value='Waiting for wandb.init()...\\r'), FloatProgress(value=0.016666666666666666, max=1.0…"
      ]
     },
     "metadata": {},
     "output_type": "display_data"
    },
    {
     "data": {
      "text/html": [
       "wandb version 0.15.1 is available!  To upgrade, please run:\n",
       " $ pip install wandb --upgrade"
      ],
      "text/plain": [
       "<IPython.core.display.HTML object>"
      ]
     },
     "metadata": {},
     "output_type": "display_data"
    },
    {
     "data": {
      "text/html": [
       "Tracking run with wandb version 0.14.2"
      ],
      "text/plain": [
       "<IPython.core.display.HTML object>"
      ]
     },
     "metadata": {},
     "output_type": "display_data"
    },
    {
     "data": {
      "text/html": [
       "Run data is saved locally in <code>C:\\Users\\lwfeckesim\\01_PyTorch\\wze-uav\\wze-uav-master\\wandb\\run-20230504_081628-u76pmxfz</code>"
      ],
      "text/plain": [
       "<IPython.core.display.HTML object>"
      ]
     },
     "metadata": {},
     "output_type": "display_data"
    },
    {
     "data": {
      "text/html": [
       "Syncing run <strong><a href='https://wandb.ai/simon-ecke/wze-uav-species/runs/u76pmxfz' target=\"_blank\">fold_5_RGB-RE-NIR-6species-dead</a></strong> to <a href='https://wandb.ai/simon-ecke/wze-uav-species' target=\"_blank\">Weights & Biases</a> (<a href='https://wandb.me/run' target=\"_blank\">docs</a>)<br/>"
      ],
      "text/plain": [
       "<IPython.core.display.HTML object>"
      ]
     },
     "metadata": {},
     "output_type": "display_data"
    },
    {
     "data": {
      "text/html": [
       " View project at <a href='https://wandb.ai/simon-ecke/wze-uav-species' target=\"_blank\">https://wandb.ai/simon-ecke/wze-uav-species</a>"
      ],
      "text/plain": [
       "<IPython.core.display.HTML object>"
      ]
     },
     "metadata": {},
     "output_type": "display_data"
    },
    {
     "data": {
      "text/html": [
       " View run at <a href='https://wandb.ai/simon-ecke/wze-uav-species/runs/u76pmxfz' target=\"_blank\">https://wandb.ai/simon-ecke/wze-uav-species/runs/u76pmxfz</a>"
      ],
      "text/plain": [
       "<IPython.core.display.HTML object>"
      ]
     },
     "metadata": {},
     "output_type": "display_data"
    },
    {
     "name": "stdout",
     "output_type": "stream",
     "text": [
      "There are no same hash_id values in train, val or test datasets. The datasplit was successful\n",
      "Check shapes:\n",
      "\n",
      "Images train dataset: (11240, 250, 250, 5)\n",
      "Labels train dataset: (11240, 1)\n",
      "\n",
      "Images validation dataset: (1070, 250, 250, 5)\n",
      "Labels validation dataset: (1070, 1)\n",
      "\n",
      "--------------------------------------------------\n",
      "Check if the split was stratified: (random_state=42)\n",
      "Healthy trees in train dataset: 4496\n",
      "Moderately stressed trees in train dataset: 3155\n",
      "Severely stressed trees in train dataset: 450\n",
      "Dead trees in train dataset: 1745\n",
      "Healthy trees in validation dataset: 446\n",
      "Moderately stressed trees in validation dataset: 287\n",
      "Severely stressed trees in validation dataset: 42\n",
      "Dead trees in validation dataset: 144\n",
      "Ratio health trees in validation dataset: 0.07906399574543521\n",
      "Ratio moderately stressed trees in validation dataset: 0.07289814579629159\n",
      "Ratio severely stressed trees in validation dataset: 0.5189873417721519\n",
      "Ratio dead trees in validation dataset: 0.019746121297602257\n",
      "--------------------------------------------------\n",
      "\n",
      "Creating datasets for fold: 5\n",
      "\n",
      "Creating dataloaders for fold: 5\n",
      "\n",
      "Loaded pretrained weights for efficientnet-b7\n",
      "\n",
      "[INFO] Fold number: 5\n",
      "[INFO] Number of epochs: 50\n",
      "[INFO] Batch_size: 32\n",
      "[INFO] Number of bands: 5\n",
      "[INFO] Dropout rate: 0.5\n",
      "[INFO] Gamma learning rate: 0.75\n",
      "[INFO] Memory allocated: 0 bytes\n"
     ]
    },
    {
     "data": {
      "application/vnd.jupyter.widget-view+json": {
       "model_id": "37085746fc4a419dbfb496d8c7abad5b",
       "version_major": 2,
       "version_minor": 0
      },
      "text/plain": [
       "  0%|          | 0/50 [00:00<?, ?it/s]"
      ]
     },
     "metadata": {},
     "output_type": "display_data"
    },
    {
     "name": "stdout",
     "output_type": "stream",
     "text": [
      "Epoch: 1 \n",
      "Learning rate: 0.001\n",
      "Train loss: 1.0132 | Train precision: 0.5289 | Train recall: 0.4558 | Train f1score: 0.4630 | Train acc: 0.6183 | Train kappa: 0.6175 \n",
      "Val loss: 1.8261 | Val precision: 0.2059 | Val recall: 0.2165 | Val f1score: 0.1455 | Val acc: 0.3778 | Val kappa: 0.3317 \n",
      "\n",
      "Epoch: 2 \n",
      "Learning rate: 0.00075\n",
      "Train loss: 0.7149 | Train precision: 0.6685 | Train recall: 0.6112 | Train f1score: 0.6248 | Train acc: 0.7342 | Train kappa: 0.7511 \n",
      "Val loss: 1.0630 | Val precision: 0.4712 | Val recall: 0.4585 | Val f1score: 0.4357 | Val acc: 0.6515 | Val kappa: 0.5814 \n",
      "\n",
      "Epoch: 3 \n",
      "Learning rate: 0.0005625000000000001\n",
      "Train loss: 0.6121 | Train precision: 0.7203 | Train recall: 0.6728 | Train f1score: 0.6899 | Train acc: 0.7772 | Train kappa: 0.7598 \n",
      "Val loss: 0.9997 | Val precision: 0.7117 | Val recall: 0.5102 | Val f1score: 0.4891 | Val acc: 0.6903 | Val kappa: 0.6937 \n",
      "\n",
      "Epoch: 4 \n",
      "Learning rate: 0.000421875\n",
      "Train loss: 0.5183 | Train precision: 0.7659 | Train recall: 0.7309 | Train f1score: 0.7452 | Train acc: 0.8060 | Train kappa: 0.8017 \n",
      "Val loss: 0.5564 | Val precision: 0.7268 | Val recall: 0.7113 | Val f1score: 0.6775 | Val acc: 0.7869 | Val kappa: 0.8046 \n",
      "\n",
      "Epoch: 5 \n",
      "Learning rate: 0.00031640625\n",
      "Train loss: 0.4559 | Train precision: 0.7966 | Train recall: 0.7592 | Train f1score: 0.7739 | Train acc: 0.8353 | Train kappa: 0.8228 \n",
      "Val loss: 0.5665 | Val precision: 0.7452 | Val recall: 0.6768 | Val f1score: 0.6601 | Val acc: 0.8106 | Val kappa: 0.7420 \n",
      "\n",
      "Epoch: 6 \n",
      "Learning rate: 0.0002373046875\n",
      "Train loss: 0.4365 | Train precision: 0.8039 | Train recall: 0.7755 | Train f1score: 0.7876 | Train acc: 0.8429 | Train kappa: 0.8303 \n",
      "Val loss: 0.3970 | Val precision: 0.7823 | Val recall: 0.8217 | Val f1score: 0.7969 | Val acc: 0.8608 | Val kappa: 0.8558 \n",
      "\n",
      "Epoch: 7 \n",
      "Learning rate: 0.000177978515625\n",
      "Train loss: 0.3963 | Train precision: 0.8313 | Train recall: 0.8023 | Train f1score: 0.8146 | Train acc: 0.8551 | Train kappa: 0.8520 \n",
      "Val loss: 0.4221 | Val precision: 0.7833 | Val recall: 0.8129 | Val f1score: 0.7947 | Val acc: 0.8494 | Val kappa: 0.8371 \n",
      "\n",
      "Epoch: 8 \n",
      "Learning rate: 0.00013348388671875\n",
      "Train loss: 0.3646 | Train precision: 0.8395 | Train recall: 0.8109 | Train f1score: 0.8235 | Train acc: 0.8667 | Train kappa: 0.8580 \n",
      "Val loss: 0.3718 | Val precision: 0.8087 | Val recall: 0.8189 | Val f1score: 0.8044 | Val acc: 0.8703 | Val kappa: 0.8468 \n",
      "\n",
      "Epoch: 9 \n",
      "Learning rate: 0.0001001129150390625\n",
      "Train loss: 0.3557 | Train precision: 0.8548 | Train recall: 0.8196 | Train f1score: 0.8349 | Train acc: 0.8743 | Train kappa: 0.8612 \n",
      "Val loss: 0.3985 | Val precision: 0.7915 | Val recall: 0.8014 | Val f1score: 0.7788 | Val acc: 0.8580 | Val kappa: 0.8259 \n",
      "\n",
      "Epoch: 10 \n",
      "Learning rate: 7.508468627929687e-05\n",
      "Train loss: 0.3256 | Train precision: 0.8576 | Train recall: 0.8293 | Train f1score: 0.8418 | Train acc: 0.8803 | Train kappa: 0.8697 \n",
      "Val loss: 0.3844 | Val precision: 0.8026 | Val recall: 0.7845 | Val f1score: 0.7858 | Val acc: 0.8636 | Val kappa: 0.8315 \n",
      "\n",
      "Epoch: 11 \n",
      "Learning rate: 5.6313514709472656e-05\n",
      "Train loss: 0.3203 | Train precision: 0.8669 | Train recall: 0.8390 | Train f1score: 0.8517 | Train acc: 0.8847 | Train kappa: 0.8809 \n",
      "Val loss: 0.3662 | Val precision: 0.7933 | Val recall: 0.8485 | Val f1score: 0.8121 | Val acc: 0.8741 | Val kappa: 0.8596 \n",
      "\n",
      "Epoch: 12 \n",
      "Learning rate: 4.223513603210449e-05\n",
      "Train loss: 0.3180 | Train precision: 0.8680 | Train recall: 0.8431 | Train f1score: 0.8548 | Train acc: 0.8861 | Train kappa: 0.8704 \n",
      "Val loss: 0.3435 | Val precision: 0.7937 | Val recall: 0.8369 | Val f1score: 0.8100 | Val acc: 0.8750 | Val kappa: 0.8503 \n",
      "\n",
      "Epoch: 13 \n",
      "Learning rate: 3.167635202407837e-05\n",
      "Train loss: 0.2826 | Train precision: 0.8789 | Train recall: 0.8587 | Train f1score: 0.8681 | Train acc: 0.8970 | Train kappa: 0.8838 \n",
      "Val loss: 0.3367 | Val precision: 0.8118 | Val recall: 0.8403 | Val f1score: 0.8215 | Val acc: 0.8797 | Val kappa: 0.8609 \n",
      "\n",
      "Epoch: 14 \n",
      "Learning rate: 2.3757264018058778e-05\n",
      "Train loss: 0.3032 | Train precision: 0.8766 | Train recall: 0.8505 | Train f1score: 0.8623 | Train acc: 0.8925 | Train kappa: 0.8841 \n",
      "Val loss: 0.3227 | Val precision: 0.8237 | Val recall: 0.8348 | Val f1score: 0.8262 | Val acc: 0.8930 | Val kappa: 0.8738 \n",
      "\n",
      "Epoch: 15 \n",
      "Learning rate: 1.7817948013544083e-05\n",
      "Train loss: 0.2934 | Train precision: 0.8812 | Train recall: 0.8605 | Train f1score: 0.8703 | Train acc: 0.8938 | Train kappa: 0.8941 \n",
      "Val loss: 0.3278 | Val precision: 0.8376 | Val recall: 0.8512 | Val f1score: 0.8414 | Val acc: 0.8958 | Val kappa: 0.8797 \n",
      "\n",
      "Epoch: 16 \n",
      "Learning rate: 1.3363461010158063e-05\n",
      "Train loss: 0.2811 | Train precision: 0.8869 | Train recall: 0.8604 | Train f1score: 0.8727 | Train acc: 0.9008 | Train kappa: 0.8914 \n",
      "Val loss: 0.3351 | Val precision: 0.8242 | Val recall: 0.8402 | Val f1score: 0.8271 | Val acc: 0.8873 | Val kappa: 0.8736 \n",
      "\n",
      "Epoch: 17 \n",
      "Learning rate: 1.0022595757618546e-05\n",
      "Train loss: 0.2770 | Train precision: 0.8841 | Train recall: 0.8657 | Train f1score: 0.8740 | Train acc: 0.9017 | Train kappa: 0.8955 \n",
      "Val loss: 0.3305 | Val precision: 0.8222 | Val recall: 0.8463 | Val f1score: 0.8294 | Val acc: 0.8864 | Val kappa: 0.8710 \n",
      "\n",
      "Epoch: 18 \n",
      "Learning rate: 7.51694681821391e-06\n",
      "Train loss: 0.2770 | Train precision: 0.8794 | Train recall: 0.8617 | Train f1score: 0.8701 | Train acc: 0.8979 | Train kappa: 0.8890 \n",
      "Val loss: 0.3326 | Val precision: 0.8322 | Val recall: 0.8478 | Val f1score: 0.8339 | Val acc: 0.8892 | Val kappa: 0.8811 \n",
      "\n",
      "Epoch: 19 \n",
      "Learning rate: 5.637710113660432e-06\n",
      "Train loss: 0.2743 | Train precision: 0.8882 | Train recall: 0.8727 | Train f1score: 0.8799 | Train acc: 0.9031 | Train kappa: 0.8987 \n",
      "Val loss: 0.3282 | Val precision: 0.8252 | Val recall: 0.8395 | Val f1score: 0.8284 | Val acc: 0.8911 | Val kappa: 0.8708 \n",
      "\n",
      "Epoch: 20 \n",
      "Learning rate: 4.228282585245324e-06\n",
      "Train loss: 0.2818 | Train precision: 0.8817 | Train recall: 0.8534 | Train f1score: 0.8662 | Train acc: 0.8988 | Train kappa: 0.8887 \n",
      "Val loss: 0.3294 | Val precision: 0.8184 | Val recall: 0.8407 | Val f1score: 0.8252 | Val acc: 0.8864 | Val kappa: 0.8679 \n",
      "\n",
      "Epoch: 21 \n",
      "Learning rate: 3.1712119389339933e-06\n",
      "Train loss: 0.2770 | Train precision: 0.8845 | Train recall: 0.8636 | Train f1score: 0.8733 | Train acc: 0.8978 | Train kappa: 0.9027 \n",
      "Val loss: 0.3278 | Val precision: 0.8216 | Val recall: 0.8396 | Val f1score: 0.8266 | Val acc: 0.8873 | Val kappa: 0.8692 \n",
      "\n",
      "Epoch: 22 \n",
      "Learning rate: 2.378408954200495e-06\n",
      "Train loss: 0.2759 | Train precision: 0.8883 | Train recall: 0.8587 | Train f1score: 0.8717 | Train acc: 0.9013 | Train kappa: 0.8879 \n",
      "Val loss: 0.3304 | Val precision: 0.8183 | Val recall: 0.8426 | Val f1score: 0.8262 | Val acc: 0.8883 | Val kappa: 0.8656 \n",
      "\n",
      "Epoch: 23 \n",
      "Learning rate: 1.7838067156503713e-06\n",
      "Train loss: 0.2699 | Train precision: 0.8866 | Train recall: 0.8678 | Train f1score: 0.8762 | Train acc: 0.9023 | Train kappa: 0.8943 \n",
      "Val loss: 0.3254 | Val precision: 0.8279 | Val recall: 0.8453 | Val f1score: 0.8324 | Val acc: 0.8902 | Val kappa: 0.8737 \n",
      "\n",
      "Epoch: 24 \n",
      "Learning rate: 1.3378550367377785e-06\n",
      "Train loss: 0.2707 | Train precision: 0.8875 | Train recall: 0.8639 | Train f1score: 0.8751 | Train acc: 0.9046 | Train kappa: 0.8937 \n",
      "Val loss: 0.3271 | Val precision: 0.8351 | Val recall: 0.8426 | Val f1score: 0.8349 | Val acc: 0.8911 | Val kappa: 0.8743 \n",
      "\n",
      "Epoch: 25 \n",
      "Learning rate: 1.0033912775533338e-06\n",
      "Train loss: 0.2636 | Train precision: 0.8881 | Train recall: 0.8722 | Train f1score: 0.8795 | Train acc: 0.9055 | Train kappa: 0.8939 \n",
      "Val loss: 0.3291 | Val precision: 0.8258 | Val recall: 0.8405 | Val f1score: 0.8288 | Val acc: 0.8920 | Val kappa: 0.8681 \n",
      "\n",
      "Early stopping after epoch 25\n"
     ]
    },
    {
     "data": {
      "text/html": [
       "Waiting for W&B process to finish... <strong style=\"color:green\">(success).</strong>"
      ],
      "text/plain": [
       "<IPython.core.display.HTML object>"
      ]
     },
     "metadata": {},
     "output_type": "display_data"
    },
    {
     "data": {
      "text/html": [
       "<style>\n",
       "    table.wandb td:nth-child(1) { padding: 0 10px; text-align: left ; width: auto;} td:nth-child(2) {text-align: left ; width: 100%}\n",
       "    .wandb-row { display: flex; flex-direction: row; flex-wrap: wrap; justify-content: flex-start; width: 100% }\n",
       "    .wandb-col { display: flex; flex-direction: column; flex-basis: 100%; flex: 1; padding: 10px; }\n",
       "    </style>\n",
       "<div class=\"wandb-row\"><div class=\"wandb-col\"><h3>Run history:</h3><br/><table class=\"wandb\"><tr><td>learning_rate</td><td>█▆▅▄▃▃▂▂▂▂▁▁▁▁▁▁▁▁▁▁▁▁▁▁▁</td></tr><tr><td>train_f1_score</td><td>▁▄▅▆▆▆▇▇▇▇███████████████</td></tr><tr><td>train_loss</td><td>█▅▄▃▃▃▂▂▂▂▂▂▁▁▁▁▁▁▁▁▁▁▁▁▁</td></tr><tr><td>val_f1_score</td><td>▁▄▄▆▆███▇▇███████████████</td></tr><tr><td>val_loss</td><td>█▄▄▂▂▁▁▁▁▁▁▁▁▁▁▁▁▁▁▁▁▁▁▁▁</td></tr></table><br/></div><div class=\"wandb-col\"><h3>Run summary:</h3><br/><table class=\"wandb\"><tr><td>learning_rate</td><td>0.0</td></tr><tr><td>train_f1_score</td><td>0.87948</td></tr><tr><td>train_loss</td><td>0.26357</td></tr><tr><td>val_f1_score</td><td>0.82876</td></tr><tr><td>val_loss</td><td>0.32909</td></tr></table><br/></div></div>"
      ],
      "text/plain": [
       "<IPython.core.display.HTML object>"
      ]
     },
     "metadata": {},
     "output_type": "display_data"
    },
    {
     "data": {
      "text/html": [
       " View run <strong style=\"color:#cdcd00\">fold_5_RGB-RE-NIR-6species-dead</strong> at: <a href='https://wandb.ai/simon-ecke/wze-uav-species/runs/u76pmxfz' target=\"_blank\">https://wandb.ai/simon-ecke/wze-uav-species/runs/u76pmxfz</a><br/>Synced 5 W&B file(s), 0 media file(s), 0 artifact file(s) and 0 other file(s)"
      ],
      "text/plain": [
       "<IPython.core.display.HTML object>"
      ]
     },
     "metadata": {},
     "output_type": "display_data"
    },
    {
     "data": {
      "text/html": [
       "Find logs at: <code>.\\wandb\\run-20230504_081628-u76pmxfz\\logs</code>"
      ],
      "text/plain": [
       "<IPython.core.display.HTML object>"
      ]
     },
     "metadata": {},
     "output_type": "display_data"
    },
    {
     "name": "stdout",
     "output_type": "stream",
     "text": [
      "Deleting variables and emptying cache\n",
      "Memory allocated: 1057416192 bytes\n",
      "--------------------------------------------------\n",
      "\n",
      "CPU times: total: 8h 24min 2s\n",
      "Wall time: 17h 21min 21s\n"
     ]
    }
   ],
   "source": [
    "%%time\n",
    "\n",
    "# Set the random seeds\n",
    "set_seeds(42)\n",
    "\n",
    "# Define the number of folds\n",
    "num_folds = 5\n",
    "\n",
    "# group the hashIDs to get the unique values of hashIDs remaining in the subset  \n",
    "groups = sub_hash_id[:, 0] \n",
    "print(\"ORIGINAL POSITIVE RATIO:\", sub_label_set.mean())\n",
    "# create a StratifiedGroupKFold instance\n",
    "kf = StratifiedGroupKFold(n_splits=num_folds, shuffle=True, random_state=42)\n",
    "\n",
    "# loop through the folds\n",
    "for fold, (train_ids, val_ids) in enumerate(kf.split(sub_image_set, sub_label_set, groups)):\n",
    "    print(\"Fold :\", fold+1)\n",
    "    print(\"TRAIN POSITIVE RATIO:\", sub_label_set[train_ids].mean())\n",
    "    print(\"VAL POSITIVE RATIO  :\", sub_label_set[val_ids].mean())\n",
    "    print(\"LENGTH TRAIN GROUPS :\", len(set(groups[train_ids])))\n",
    "    print(\"LENGTH VAL GROUPS   :\", len(set(groups[val_ids])))\n",
    "    \n",
    "    train_ids = sub_hash_id[:, 0][train_ids]\n",
    "    val_ids = np.unique(sub_hash_id[:, 0][val_ids])\n",
    "\n",
    "    torch.cuda.empty_cache()\n",
    "    \n",
    "    # Initialize a new wandb run for this fold\n",
    "    wandb.init(project='wze-uav-species', name=f\"fold_{fold + 1}_{extra}\")\n",
    "    \n",
    "    # 1. Split data into train and validation set\n",
    "    # Get the training and testing data for this fold\n",
    "    # Use np.isin() to create boolean arrays indicating which indices belong to train or test sets\n",
    "    train_indices = np.isin(sub_hash_id[:,0], train_ids)\n",
    "    \n",
    "    val_indices = np.zeros_like(train_indices)  # initialize to all False\n",
    "    for hash_id_val in val_ids:\n",
    "        # select one image ID randomly from either 2020 or 2021 or 2022 for each unique hash ID in the test set\n",
    "        temp = np.unique(sub_hash_id[(sub_hash_id[:, 0] == hash_id_val), 1]) # check how many years are available per hashID\n",
    "        if len(temp) == 1:\n",
    "            year = temp[0]\n",
    "        elif len(temp) == 2:\n",
    "            year = np.random.choice(temp)\n",
    "        else:\n",
    "            year = np.random.choice(temp)\n",
    "        \n",
    "        # select image ID using the conditions\n",
    "        image_ids = sub_hash_id[(sub_hash_id[:,0] == hash_id_val) & (sub_hash_id[:,1] == year), 0]\n",
    "    \n",
    "        # mark the index corresponding to the selected image ID and hash ID as True in the test indices array\n",
    "        val_indices[(sub_hash_id[:,0] == hash_id_val) & (sub_hash_id[:,1] == year) & (np.isin(sub_hash_id[:,0], image_ids))] = True \n",
    "    \n",
    "    # Reshape boolean arrays to match shape of image_set and label_set\n",
    "    train_indices = train_indices.reshape(-1, 1)\n",
    "    val_indices = val_indices.reshape(-1, 1)\n",
    "    \n",
    "    # Select images and labels for train and validation sets\n",
    "    train_image_set = sub_image_set[train_indices[:, 0]]\n",
    "    train_label_set = sub_label_set[train_indices[:, 0]]\n",
    "    train_hash_id = sub_hash_id[train_indices[:, 0]][:,0]\n",
    "    train_species_set = sub_species_set[train_indices[:, 0]]\n",
    "    val_image_set = sub_image_set[val_indices[:, 0]]\n",
    "    val_label_set = sub_label_set[val_indices[:, 0]]\n",
    "    val_hash_id = sub_hash_id[val_indices[:, 0]][:,0]\n",
    "    val_species_set = sub_species_set[val_indices[:, 0]]\n",
    "    # reshape \n",
    "    train_label_set = train_label_set.reshape(-1, 1)\n",
    "    val_label_set = val_label_set.reshape(-1, 1)\n",
    "    train_species_set = train_species_set.reshape(-1, 1)\n",
    "    val_species_set = val_species_set.reshape(-1, 1)\n",
    "    \n",
    "    # check if there are any group overlaps between the data splits\n",
    "    hash_set = set(train_hash_id)\n",
    "    val_hash_set = set(val_hash_id)\n",
    "    test_hash_set = set(test_hash_id[:, 0].flatten())\n",
    "    intersection = hash_set.intersection(val_hash_set)\n",
    "    intersection2 = test_hash_set.intersection(val_hash_set)\n",
    "    intersection3 = hash_set.intersection(test_hash_set)\n",
    "    if intersection:\n",
    "        print(f\"Hash_id values in both train and val sets: {len(intersection)}\")\n",
    "        print(f\"Hash_id values in both test and val sets: {len(intersection2)}\")\n",
    "        print(f\"Hash_id values in both train and test sets: {len(intersection3)}\")\n",
    "    else:\n",
    "        print(\"There are no same hash_id values in train, val or test datasets. The datasplit was successful\")\n",
    "    \n",
    "         \n",
    "    print(\"Check shapes:\\n\")\n",
    "    print(f\"Images train dataset: {train_image_set.shape}\")\n",
    "    print(f\"Labels train dataset: {train_label_set.shape}\\n\")\n",
    "    \n",
    "    print(f\"Images validation dataset: {val_image_set.shape}\")\n",
    "    print(f\"Labels validation dataset: {val_label_set.shape}\\n\")\n",
    "    print('-'*50)\n",
    "    print (f\"Check if the split was stratified: (random_state=42)\")\n",
    "    print(f\"Healthy trees in train dataset: {np.count_nonzero(train_label_set == 0)}\")\n",
    "    print(f\"Moderately stressed trees in train dataset: {np.count_nonzero(train_label_set == 1)}\")\n",
    "    print(f\"Severely stressed trees in train dataset: {np.count_nonzero(train_label_set == 2)}\")\n",
    "    print(f\"Dead trees in train dataset: {np.count_nonzero(train_label_set == 3)}\")\n",
    "    print(f\"Healthy trees in validation dataset: {np.count_nonzero(val_label_set == 0)}\")\n",
    "    print(f\"Moderately stressed trees in validation dataset: {np.count_nonzero(val_label_set == 1)}\")\n",
    "    print(f\"Severely stressed trees in validation dataset: {np.count_nonzero(val_label_set == 2)}\")\n",
    "    print(f\"Dead trees in validation dataset: {np.count_nonzero(val_label_set == 3)}\")\n",
    "    print(f\"Ratio health trees in validation dataset: {np.count_nonzero(val_label_set == 0)/np.count_nonzero(sub_label_set == 0)}\")\n",
    "    print(f\"Ratio moderately stressed trees in validation dataset: {np.count_nonzero(val_label_set == 1)/np.count_nonzero(sub_label_set == 1)}\")\n",
    "    print(f\"Ratio severely stressed trees in validation dataset: {np.count_nonzero(val_label_set == 1)/np.count_nonzero(sub_label_set == 2)}\")\n",
    "    print(f\"Ratio dead trees in validation dataset: {np.count_nonzero(val_label_set == 2)/np.count_nonzero(sub_label_set == 3)}\")\n",
    "    print(\"-\"*50)\n",
    "   \n",
    "    # 2. Create train and validation dataset. (choose custom dataset loader with 3 - 5 classes)\n",
    "    print(f\"\\nCreating datasets for fold: {fold + 1}\\n\")\n",
    "    train_dataset = data_loader.CustomDataset(data=train_image_set, labels=train_label_set, class_names=class_names, species = train_species_set,\n",
    "                                                         transform=transform_train)\n",
    "    \n",
    "    val_dataset = data_loader.CustomDataset(data=val_image_set, labels=val_label_set, class_names=class_names,\n",
    "                                                       species = val_species_set, transform=transform)\n",
    "   \n",
    "    # 3. Create train and validation dataloader\n",
    "    # create sampler for oversampling of the minority classes\n",
    "    sampler = data_loader.data_sampler(dataset=train_dataset, class_names=class_names)\n",
    "    print(f\"Creating dataloaders for fold: {fold +1}\\n\")\n",
    "    train_dataloader = DataLoader(train_dataset, batch_size=batch_size, persistent_workers=True, pin_memory=True, num_workers=NUM_WORKERS, generator=g,\n",
    "                              sampler=sampler, shuffle=False, drop_last=True) # shuffle false because of the sampler\n",
    "\n",
    "    val_dataloader = DataLoader(val_dataset, batch_size=batch_size, persistent_workers=True, pin_memory=True, num_workers=NUM_WORKERS, shuffle=False,\n",
    "                             drop_last=True)\n",
    "    \n",
    "    model = model_effnet.EfficientNet.from_pretrained('efficientnet-b7', in_channels=n_bands, num_classes=num_classes, dropout_rate=dropout_rate)\n",
    "    #model = models.create_effnetb7(output_shape=num_classes, unfreeze=True, dropout_rate=dropout_rate, device=device)\n",
    "   \n",
    "    loss_fn = nn.CrossEntropyLoss()\n",
    "    optimizer = torch.optim.Adam(params=model.parameters(), lr=lr)\n",
    "    lr_scheduler = CustomExponentialLR(optimizer, gamma=gamma, min_lr=min_lr)\n",
    "\n",
    "    fold += 1\n",
    "    print(f\"\\n[INFO] Fold number: {fold}\")\n",
    "    print(f\"[INFO] Number of epochs: {epochs}\")\n",
    "    print(f\"[INFO] Batch_size: {batch_size}\")\n",
    "    print(f\"[INFO] Number of bands: {n_bands}\")\n",
    "    print(f\"[INFO] Dropout rate: {dropout_rate}\")\n",
    "    print(f\"[INFO] Gamma learning rate: {gamma}\")\n",
    "    print(f\"[INFO] Memory allocated: {torch.cuda.memory_allocated()} bytes\")\n",
    "    # 4. Train model with k fold dataloaders and track experiments\n",
    "    \n",
    "    if fold == 1:\n",
    "        fold1_results = train(model=model, model_name=model_name, n_bands=n_bands, batch_size=batch_size,train_dataloader=train_dataloader, val_dataloader=val_dataloader, \n",
    "                        optimizer=optimizer, loss_fn=loss_fn, lr_scheduler=lr_scheduler, num_classes=num_classes, epochs=epochs, experiment_num=fold, device=device,\n",
    "                        writer=None, early_stop_patience = patience)\n",
    "       \n",
    "    elif fold == 2:\n",
    "        fold2_results = train(model=model, model_name=model_name, n_bands=n_bands, batch_size=batch_size,train_dataloader=train_dataloader, val_dataloader=val_dataloader, \n",
    "                        optimizer=optimizer, loss_fn=loss_fn, lr_scheduler=lr_scheduler, num_classes=num_classes, epochs=epochs, experiment_num=fold, device=device,\n",
    "                        writer=None, early_stop_patience = patience)\n",
    "    elif fold == 3:\n",
    "        fold3_results = train(model=model, model_name=model_name, n_bands=n_bands, batch_size=batch_size,train_dataloader=train_dataloader, val_dataloader=val_dataloader, \n",
    "                        optimizer=optimizer, loss_fn=loss_fn, lr_scheduler=lr_scheduler, num_classes=num_classes, epochs=epochs, experiment_num=fold, device=device,\n",
    "                        writer=None, early_stop_patience = patience)\n",
    "    elif fold == 4:\n",
    "        fold4_results = train(model=model, model_name=model_name, n_bands=n_bands, batch_size=batch_size,train_dataloader=train_dataloader, val_dataloader=val_dataloader, \n",
    "                        optimizer=optimizer, loss_fn=loss_fn, lr_scheduler=lr_scheduler, num_classes=num_classes, epochs=epochs, experiment_num=fold, device=device,\n",
    "                        writer=None, early_stop_patience = patience)\n",
    "    else:\n",
    "        fold5_results = train(model=model, model_name=model_name, n_bands=n_bands, batch_size=batch_size,train_dataloader=train_dataloader, val_dataloader=val_dataloader, \n",
    "                        optimizer=optimizer, loss_fn=loss_fn, lr_scheduler=lr_scheduler, num_classes=num_classes, epochs=epochs, experiment_num=fold, device=device,\n",
    "                        writer=None, early_stop_patience = patience)\n",
    "    \n",
    "    del train_indices, val_indices, train_image_set, train_label_set, train_hash_id, train_species_set, val_image_set, val_label_set, val_hash_id, val_species_set,\n",
    "    train_dataset, val_dataset, sampler, train_dataloader, val_dataloader, model, loss_fn, optimizer, lr_scheduler\n",
    "    \n",
    "    #finish the wandb run\n",
    "    wandb.finish()\n",
    "    print(\"Deleting variables and emptying cache\")\n",
    "    gc.collect()\n",
    "    torch.cuda.empty_cache()\n",
    "    print(f\"Memory allocated: {torch.cuda.memory_allocated()} bytes\")\n",
    "    print(\"-\"*50 + \"\\n\")"
   ]
  },
  {
   "cell_type": "code",
   "execution_count": null,
   "id": "397945d6",
   "metadata": {},
   "outputs": [],
   "source": []
  },
  {
   "cell_type": "raw",
   "id": "8937f989",
   "metadata": {},
   "source": [
    "#### Create test dataset and test dataloader "
   ]
  },
  {
   "cell_type": "code",
   "execution_count": 32,
   "id": "c0c36ebb",
   "metadata": {},
   "outputs": [],
   "source": [
    "# create test dataset\n",
    "test_dataset = data_loader.CustomTestDataset(\n",
    "    data = test_image_set,\n",
    "    labels = test_label_set,\n",
    "    class_names=class_names, \n",
    "    species = test_species_set,\n",
    "    kkl = None,\n",
    "    transform=transform\n",
    ")\n",
    "\n",
    "# create test dataloader\n",
    "test_dataloader = DataLoader(test_dataset,\n",
    "                             batch_size=batch_size,\n",
    "                             persistent_workers=True,\n",
    "                             pin_memory=True,\n",
    "                             num_workers=NUM_WORKERS,\n",
    "                             shuffle=False,\n",
    "                             drop_last=True)"
   ]
  },
  {
   "cell_type": "markdown",
   "id": "22cdaac7",
   "metadata": {},
   "source": [
    "#### Perform ensembling of the five best models"
   ]
  },
  {
   "cell_type": "code",
   "execution_count": 39,
   "id": "67db5af2",
   "metadata": {},
   "outputs": [
    {
     "name": "stdout",
     "output_type": "stream",
     "text": [
      "Loaded pretrained weights for efficientnet-b7\n",
      "Loaded pretrained weights for efficientnet-b7\n",
      "Loaded pretrained weights for efficientnet-b7\n",
      "Loaded pretrained weights for efficientnet-b7\n",
      "Loaded pretrained weights for efficientnet-b7\n",
      "              precision    recall  f1-score   support\n",
      "\n",
      "           0       0.95      0.95      0.95       454\n",
      "           1       0.93      0.95      0.94       256\n",
      "           2       0.89      0.87      0.88        45\n",
      "           3       0.88      0.90      0.89       160\n",
      "           4       0.87      0.83      0.85        98\n",
      "           5       0.72      0.62      0.67        21\n",
      "           6       0.91      0.91      0.91        22\n",
      "\n",
      "    accuracy                           0.92      1056\n",
      "   macro avg       0.88      0.86      0.87      1056\n",
      "weighted avg       0.92      0.92      0.92      1056\n",
      "\n",
      "[[433  12   2   3   0   4   0]\n",
      " [ 10 243   1   0   0   1   1]\n",
      " [  3   1  39   1   1   0   0]\n",
      " [  2   2   1 144  11   0   0]\n",
      " [  1   1   1  14  81   0   0]\n",
      " [  5   2   0   0   0  13   1]\n",
      " [  1   0   0   1   0   0  20]]\n"
     ]
    }
   ],
   "source": [
    "# Setup the best model filepaths\n",
    "best_model1_path = r\"C:\\Users\\lwfeckesim\\01_PyTorch\\wze-uav\\wze-uav-master\\models\\EffNet_b7_RGB-RE-NIR-6species-dead\\1_EffNet_b7_RGB-RE-NIR-6species-dead_10_epochs.pth\"\n",
    "best_model2_path = r\"C:\\Users\\lwfeckesim\\01_PyTorch\\wze-uav\\wze-uav-master\\models\\EffNet_b7_RGB-RE-NIR-6species-dead\\2_EffNet_b7_RGB-RE-NIR-6species-dead_9_epochs.pth\"\n",
    "best_model3_path = r\"C:\\Users\\lwfeckesim\\01_PyTorch\\wze-uav\\wze-uav-master\\models\\EffNet_b7_RGB-RE-NIR-6species-dead\\3_EffNet_b7_RGB-RE-NIR-6species-dead_16_epochs.pth\"\n",
    "best_model4_path = r\"C:\\Users\\lwfeckesim\\01_PyTorch\\wze-uav\\wze-uav-master\\models\\EffNet_b7_RGB-RE-NIR-6species-dead\\4_EffNet_b7_RGB-RE-NIR-6species-dead_10_epochs.pth\"\n",
    "best_model5_path = r\"C:\\Users\\lwfeckesim\\01_PyTorch\\wze-uav\\wze-uav-master\\models\\EffNet_b7_RGB-RE-NIR-6species-dead\\5_EffNet_b7_RGB-RE-NIR-6species-dead_14_epochs.pth\"\n",
    "\n",
    "# Instantiate a new instance of EffNetB7 (to load the saved state_dict() to)\n",
    "#model1 = models.create_effnetb7(output_shape=num_classes, unfreeze=unfreeze, dropout_rate=dropout_rate, device=device)\n",
    "#model2 = models.create_effnetb7(output_shape=num_classes, unfreeze=unfreeze, dropout_rate=dropout_rate, device=device)\n",
    "#model3 = models.create_effnetb7(output_shape=num_classes, unfreeze=unfreeze, dropout_rate=dropout_rate, device=device)\n",
    "#model4 = models.create_effnetb7(output_shape=num_classes, unfreeze=unfreeze, dropout_rate=dropout_rate, device=device)\n",
    "#model5 = models.create_effnetb7(output_shape=num_classes, unfreeze=unfreeze, dropout_rate=dropout_rate, device=device)\n",
    "# for custom models with more than three bands as input\n",
    "model1 = model_effnet.EfficientNet.from_pretrained('efficientnet-b7', in_channels=n_bands, num_classes=num_classes, dropout_rate=dropout_rate)\n",
    "model2 = model_effnet.EfficientNet.from_pretrained('efficientnet-b7', in_channels=n_bands, num_classes=num_classes, dropout_rate=dropout_rate)\n",
    "model3 = model_effnet.EfficientNet.from_pretrained('efficientnet-b7', in_channels=n_bands, num_classes=num_classes, dropout_rate=dropout_rate)\n",
    "model4 = model_effnet.EfficientNet.from_pretrained('efficientnet-b7', in_channels=n_bands, num_classes=num_classes, dropout_rate=dropout_rate)\n",
    "model5 = model_effnet.EfficientNet.from_pretrained('efficientnet-b7', in_channels=n_bands, num_classes=num_classes, dropout_rate=dropout_rate)\n",
    "\n",
    "# Load the saved best model state_dict()\n",
    "model1.load_state_dict(torch.load(best_model1_path))\n",
    "model2.load_state_dict(torch.load(best_model2_path))\n",
    "model3.load_state_dict(torch.load(best_model3_path))\n",
    "model4.load_state_dict(torch.load(best_model4_path))\n",
    "model5.load_state_dict(torch.load(best_model5_path))\n",
    "\n",
    "model1.to(device)\n",
    "model2.to(device)\n",
    "model3.to(device)\n",
    "model4.to(device)\n",
    "model5.to(device)\n",
    "\n",
    "model1.eval()\n",
    "model2.eval()\n",
    "model3.eval()\n",
    "model4.eval()\n",
    "model5.eval()\n",
    "\n",
    "# Initialize the lists to store the predictions\n",
    "all_preds_model1 = []\n",
    "all_preds_model2 = []\n",
    "all_preds_model3 = []\n",
    "all_preds_model4 = []\n",
    "all_preds_model5 = []\n",
    "all_true_labels = []\n",
    "\n",
    "# Loop through the test dataset and generate predictions for each model\n",
    "with torch.no_grad():\n",
    "    for batch in test_dataloader:\n",
    "        inputs, labels, species = batch\n",
    "        inputs, labels, species = inputs.to(device), labels.to(device), species\n",
    "        \n",
    "        # Generate predictions for each model\n",
    "        preds_model1 = model1(inputs)\n",
    "        preds_model2 = model2(inputs)\n",
    "        preds_model3 = model3(inputs)\n",
    "        preds_model4 = model4(inputs)\n",
    "        preds_model5 = model5(inputs)\n",
    "\n",
    "        # Append the predictions to the corresponding list\n",
    "        all_preds_model1.append(preds_model1.cpu().numpy())\n",
    "        all_preds_model2.append(preds_model2.cpu().numpy())\n",
    "        all_preds_model3.append(preds_model3.cpu().numpy())\n",
    "        all_preds_model4.append(preds_model4.cpu().numpy())\n",
    "        all_preds_model5.append(preds_model5.cpu().numpy())\n",
    "        \n",
    "        all_true_labels.append(labels.cpu().numpy())\n",
    "\n",
    "# Concatenate the predictions from all the models\n",
    "all_preds_model1 = np.concatenate(all_preds_model1)\n",
    "all_preds_model2 = np.concatenate(all_preds_model2)\n",
    "all_preds_model3 = np.concatenate(all_preds_model3)\n",
    "all_preds_model4 = np.concatenate(all_preds_model4)\n",
    "all_preds_model5 = np.concatenate(all_preds_model5)\n",
    "\n",
    "all_true_labels = np.concatenate(all_true_labels)\n",
    "\n",
    "# Calculate the ensemble predictions\n",
    "ensemble_preds = np.mean([all_preds_model1, all_preds_model2, all_preds_model3, all_preds_model4, all_preds_model5], axis=0)\n",
    "ensemble_labels = np.argmax(ensemble_preds, axis=1)\n",
    "\n",
    "# Calculate the evaluation metrics for the ensemble model\n",
    "from sklearn.metrics import classification_report, confusion_matrix\n",
    "\n",
    "print(classification_report(all_true_labels, ensemble_labels))\n",
    "print(confusion_matrix(all_true_labels, ensemble_labels))\n",
    "\n",
    "\n",
    "\n",
    "\n"
   ]
  },
  {
   "cell_type": "code",
   "execution_count": 47,
   "id": "6dfbc663",
   "metadata": {},
   "outputs": [
    {
     "name": "stdout",
     "output_type": "stream",
     "text": [
      "              precision    recall  f1-score   support\n",
      "\n",
      "           0       0.95      0.95      0.95       454\n",
      "           1       0.93      0.95      0.94       256\n",
      "           2       0.89      0.87      0.88        45\n",
      "           3       0.88      0.90      0.89       160\n",
      "           4       0.87      0.83      0.85        98\n",
      "           5       0.72      0.62      0.67        21\n",
      "           6       0.91      0.91      0.91        22\n",
      "\n",
      "    accuracy                           0.92      1056\n",
      "   macro avg       0.88      0.86      0.87      1056\n",
      "weighted avg       0.92      0.92      0.92      1056\n",
      "\n"
     ]
    },
    {
     "data": {
      "image/png": "[encoded data removed]",
      "text/plain": [
       "<Figure size 720x504 with 1 Axes>"
      ]
     },
     "metadata": {
      "needs_background": "light"
     },
     "output_type": "display_data"
    }
   ],
   "source": [
    "import matplotlib.pyplot as plt\n",
    "# Calculate the evaluation metrics for the ensemble model\n",
    "print(classification_report(all_true_labels, ensemble_labels))\n",
    "#print(confusion_matrix(all_true_labels, ensemble_labels))\n",
    "\n",
    "labels = np.array([0,1,2,3,4,5,6])\n",
    "confmat = confusion_matrix(all_true_labels, ensemble_labels, labels=labels)\n",
    "\n",
    "# 3. Plot the confusion matrix\n",
    "fig, ax = plot_confusion_matrix(\n",
    "    conf_mat=confmat, # matplotlib likes working with NumPy \n",
    "    class_names=class_names, # turn the row and column labels into class names\n",
    "    figsize=(10, 7)\n",
    ");\n",
    "\n",
    "# add title to confusion matrix plot\n",
    "plt.title(\"Confusion Matrix of the Results for Species Classification\", fontsize=16)\n",
    "\n",
    "fig.savefig(r'C:\\Users\\lwfeckesim\\01_PyTorch\\wze-uav\\wze-uav-master\\plots\\confmat_6species_dead.png', dpi=300, bbox_inches='tight')\n",
    "\n"
   ]
  },
  {
   "cell_type": "code",
   "execution_count": null,
   "id": "aab9e321",
   "metadata": {},
   "outputs": [],
   "source": [
    "# 2. Setup confusion matrix instance and compare predictions to targets\n",
    "#from wze_uav.analysis import *\n",
    "y_pred_tensor, y_labels_tensor, test_loss, test_recall, test_precision, test_f1_score, test_acc, y_logit, y_pred, y, y_preds = make_predictions(model=best_model,\n",
    "                                 test_dataloader=test_dataloader, \n",
    "                                 device=device)\n",
    "\n",
    "y_labels_tensor = y_labels_tensor.detach().cpu().numpy()\n",
    "y_pred_tensor = y_pred_tensor.detach().cpu().numpy()\n",
    "\n",
    "#confmat = ConfusionMatrix(num_classes=num_classes, task='multiclass')\n",
    "#confmat_tensor = confmat(preds=y_pred_tensor,\n",
    "#                         target=test_labels)\n",
    "labels = np.array([0,1,2])\n",
    "confmat = confusion_matrix(y_labels_tensor, y_pred_tensor, labels=labels)\n",
    "\n",
    "# 3. Plot the confusion matrix\n",
    "fig, ax = plot_confusion_matrix(\n",
    "    conf_mat=confmat, # matplotlib likes working with NumPy \n",
    "    class_names=class_names, # turn the row and column labels into class names\n",
    "    figsize=(10, 7)\n",
    ");\n",
    "\n",
    "print(f\"Test loss: {test_loss}\")\n",
    "print(f\"Test precision: {test_precision}\")\n",
    "print(f\"Test recall: {test_recall}\")\n",
    "print(f\"Test F1score: {test_f1_score}\")\n",
    "#print(f\"Test Kappa: {test_kappa}\")\n",
    "print(f\"Test Accuracy: {test_acc}\")\n",
    "print(f\"Test Logits: {y_logit}\")\n",
    "print(f\"Test Predictions: {y_pred}\")\n",
    "print(f\"Test Labels: {y}\")"
   ]
  },
  {
   "cell_type": "code",
   "execution_count": null,
   "id": "8d4173b3",
   "metadata": {},
   "outputs": [],
   "source": [
    "len(y_preds)"
   ]
  },
  {
   "cell_type": "code",
   "execution_count": null,
   "id": "7588116f",
   "metadata": {},
   "outputs": [],
   "source": [
    "y_set.cpu()"
   ]
  },
  {
   "cell_type": "code",
   "execution_count": null,
   "id": "1c195b3e",
   "metadata": {},
   "outputs": [],
   "source": [
    "test_dataset.labels"
   ]
  },
  {
   "cell_type": "code",
   "execution_count": null,
   "id": "975ec08c",
   "metadata": {},
   "outputs": [],
   "source": []
  },
  {
   "cell_type": "code",
   "execution_count": null,
   "id": "6da05604",
   "metadata": {},
   "outputs": [],
   "source": [
    "y_preds = []\n",
    "y_labels = []\n",
    "labels = np.array([0,1,2])\n",
    "test_loss, test_precision, test_recall, test_f1_score, test_acc = 0, 0, 0, 0, 0\n",
    "count = 0\n",
    "model.eval()\n",
    "with torch.inference_mode():\n",
    "    for X, y in tqdm(test_dataloader, desc=\"Making predictions\"):\n",
    "        # Send data and targets to target device\n",
    "        X, y = X.to(device), y.to(device)\n",
    "        # Do the forward pass\n",
    "        y_logit = model(X)\n",
    "        # Turn predictions from logits -> prediction probabilities -> predictions labels\n",
    "        y_pred = torch.softmax(y_logit, dim=1).argmax(dim=1)\n",
    "        # Put predictions on CPU for evaluation\n",
    "        y_preds.append(y_pred.cpu())\n",
    "        y_labels.append(y.cpu())\n",
    "        \n",
    "        #other metrics\n",
    "        test_acc += ((y_pred == y).sum().item()/len(y_pred))\n",
    "        y_pred_class = y_pred.detach().cpu().numpy() \n",
    "        y_class = y.detach().cpu().numpy()\n",
    "        test_precision += precision_score(y_class, y_pred_class, average='macro', zero_division=1, labels=labels)\n",
    "        test_recall += recall_score(y_class, y_pred_class, average='macro', zero_division=1, labels=labels)\n",
    "        #test_f1_score += f1_score(y_class, y_pred_class, average='macro', zero_division=1, labels=labels)\n",
    "        \n",
    "        #if count >= 1:\n",
    "        #    y_set = torch.cat((y_set, y))\n",
    "        #    count = count + 1\n",
    "        #else:\n",
    "        #    y_set = y\n",
    "        #    count = count + 1\n",
    "        \n",
    "test_loss = test_loss / len(test_dataloader)\n",
    "test_precision = test_precision / len(test_dataloader)\n",
    "test_recall = test_recall / len(test_dataloader)\n",
    "#test_f1_score = test_f1_score / len(test_dataloader)\n",
    "#test_kappa = test_kappa / len(dataloader)\n",
    "test_acc = test_acc / len(test_dataloader)\n",
    "# Concatenate list of predictions into a tensor\n",
    "y_pred_tensor = torch.cat(y_preds)\n",
    "test_f1_score = f1_score(y_set.detach().cpu().numpy(), y_pred_tensor.cpu().numpy(), average='macro', zero_division=0, labels=[0,1,2])\n",
    "\n",
    "# Print classification report\n",
    "y_true = y_set.detach().cpu().numpy()\n",
    "report = classification_report(y_true, y_pred_tensor.cpu().numpy(), target_names=class_names)\n",
    "print(report)"
   ]
  },
  {
   "cell_type": "code",
   "execution_count": null,
   "id": "6ae97fab",
   "metadata": {},
   "outputs": [],
   "source": [
    "test_f1_score"
   ]
  },
  {
   "cell_type": "code",
   "execution_count": null,
   "id": "7ebafd9b",
   "metadata": {},
   "outputs": [],
   "source": [
    "make = (y_class == y_pred_class)\n",
    "make"
   ]
  },
  {
   "cell_type": "code",
   "execution_count": null,
   "id": "4f8aa759",
   "metadata": {},
   "outputs": [],
   "source": [
    "torch.softmax(y_logit, dim=1).argmax(dim=1)"
   ]
  },
  {
   "cell_type": "code",
   "execution_count": null,
   "id": "f90a54b2",
   "metadata": {},
   "outputs": [],
   "source": [
    "y"
   ]
  },
  {
   "cell_type": "code",
   "execution_count": null,
   "id": "5a806154",
   "metadata": {},
   "outputs": [],
   "source": [
    "test = (y_pred == y).sum().item()/16"
   ]
  },
  {
   "cell_type": "code",
   "execution_count": null,
   "id": "1da35c56",
   "metadata": {},
   "outputs": [],
   "source": [
    "test"
   ]
  },
  {
   "cell_type": "code",
   "execution_count": null,
   "id": "b1eb246e",
   "metadata": {},
   "outputs": [],
   "source": [
    " y_pred_class = y_pred.detach().cpu().numpy() "
   ]
  },
  {
   "cell_type": "code",
   "execution_count": null,
   "id": "602e096f",
   "metadata": {},
   "outputs": [],
   "source": [
    "y_pred_class"
   ]
  },
  {
   "cell_type": "code",
   "execution_count": null,
   "id": "eaf1af09",
   "metadata": {},
   "outputs": [],
   "source": []
  }
 ],
 "metadata": {
  "kernelspec": {
   "display_name": "Python 3 (ipykernel)",
   "language": "python",
   "name": "python3"
  },
  "language_info": {
   "codemirror_mode": {
    "name": "ipython",
    "version": 3
   },
   "file_extension": ".py",
   "mimetype": "text/x-python",
   "name": "python",
   "nbconvert_exporter": "python",
   "pygments_lexer": "ipython3",
   "version": "3.9.16"
  }
 },
 "nbformat": 4,
 "nbformat_minor": 5
}
