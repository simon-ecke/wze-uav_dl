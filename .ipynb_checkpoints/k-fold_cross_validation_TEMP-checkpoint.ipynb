{
 "cells": [
  {
   "cell_type": "markdown",
   "id": "c1acdaa3",
   "metadata": {},
   "source": [
    "# WZE-UAV Image Classification using Deep Learning"
   ]
  },
  {
   "cell_type": "code",
   "execution_count": 1,
   "id": "2159aac5",
   "metadata": {},
   "outputs": [],
   "source": [
    "import os\n",
    "import gc\n",
    "import glob\n",
    "import numpy as np\n",
    "from pathlib import Path\n",
    "from tqdm.auto import tqdm\n",
    "from sklearn.metrics import confusion_matrix, classification_report\n",
    "from sklearn.model_selection import KFold"
   ]
  },
  {
   "cell_type": "code",
   "execution_count": 2,
   "id": "0026f7a9",
   "metadata": {},
   "outputs": [],
   "source": [
    "import torch\n",
    "import torchvision.transforms as T\n",
    "import torchvision\n",
    "from torch import nn\n",
    "from torch.utils.data import DataLoader\n",
    "from torchvision import datasets, transforms\n",
    "from torch.utils.data import Dataset\n",
    "import torch.optim as optim\n",
    "from torch.optim.lr_scheduler import ExponentialLR\n",
    "from mlxtend.plotting import plot_confusion_matrix"
   ]
  },
  {
   "cell_type": "code",
   "execution_count": 3,
   "id": "b160d7b4",
   "metadata": {},
   "outputs": [],
   "source": [
    "import wze_uav.data_loader as data_loader\n",
    "import wze_uav.models as models\n",
    "from wze_uav.engine import *\n",
    "from wze_uav.utils2 import *\n",
    "from wze_uav.log_writer import create_writer\n",
    "from wze_uav.datasplit import *"
   ]
  },
  {
   "cell_type": "markdown",
   "id": "2bd4fb2f",
   "metadata": {},
   "source": [
    "#### Get PyTorch version"
   ]
  },
  {
   "cell_type": "code",
   "execution_count": 4,
   "id": "c10886b1",
   "metadata": {},
   "outputs": [
    {
     "name": "stdout",
     "output_type": "stream",
     "text": [
      "torch version: 1.13.1+cu116\n",
      "torchvision version: 0.14.1+cu116\n"
     ]
    }
   ],
   "source": [
    "print(f\"torch version: {torch.__version__}\")\n",
    "print(f\"torchvision version: {torchvision.__version__}\")"
   ]
  },
  {
   "cell_type": "markdown",
   "id": "aa6a83cf",
   "metadata": {},
   "source": [
    "#### Preparing device agnostic code "
   ]
  },
  {
   "cell_type": "code",
   "execution_count": 5,
   "id": "13d5de88",
   "metadata": {},
   "outputs": [
    {
     "name": "stdout",
     "output_type": "stream",
     "text": [
      "cuda\n",
      "Index of current divice: 0\n",
      "Number of GPUs available: 1\n",
      "GPU Model: Quadro RTX 8000\n"
     ]
    }
   ],
   "source": [
    "# ensure device agnostic code\n",
    "device = 'cuda' if torch.cuda.is_available() else 'cpu'\n",
    "print(device)\n",
    "\n",
    "# get index of currently selected device\n",
    "print(f\"Index of current divice: {torch.cuda.current_device()}\")\n",
    "# get number of GPUs available\n",
    "print(f\"Number of GPUs available: {torch.cuda.device_count()}\")\n",
    "# get the name of the device\n",
    "print(f\"GPU Model: {torch.cuda.get_device_name(0)}\")"
   ]
  },
  {
   "cell_type": "markdown",
   "id": "a26a6a34",
   "metadata": {},
   "source": [
    "#### Ensure reproducibility "
   ]
  },
  {
   "cell_type": "code",
   "execution_count": 6,
   "id": "dd4656a7",
   "metadata": {},
   "outputs": [],
   "source": [
    "# for more information, see also: https://pytorch.org/docs/stable/notes/randomness.html\n",
    "\n",
    "# Set seeds\n",
    "def set_seeds(seed: int=42):\n",
    "    \"\"\"Sets random sets for torch operations.\n",
    "\n",
    "    Args:\n",
    "        seed (int, optional): Random seed to set. Defaults to 42.\n",
    "    \"\"\"\n",
    "    # Set the seed for general torch operations\n",
    "    torch.manual_seed(seed)\n",
    "    # Set the seed for CUDA torch operations (ones that happen on the GPU)\n",
    "    torch.cuda.manual_seed(seed)\n",
    "    # seed for numpy\n",
    "    np.random.seed(seed)\n",
    "\n",
    "set_seeds() \n",
    "\n",
    "# Set to true -> might speed up the process but should be set to False if reproducible results are desired\n",
    "torch.backends.cudnn.benchmark = False\n"
   ]
  },
  {
   "cell_type": "markdown",
   "id": "8be33671",
   "metadata": {},
   "source": [
    "#### Define file directory"
   ]
  },
  {
   "cell_type": "code",
   "execution_count": 7,
   "id": "30645f36",
   "metadata": {},
   "outputs": [],
   "source": [
    "#####################################################################################\n",
    "# 3 channel input (r-g-b)\n",
    "data_path = r\"D:\\Drohnendaten\\10_WZE-UAV\\Auswertung_findatree\\Datasplit\\ROI\\rgb\"\n",
    "\n",
    "# 4 channel input (r-g-b-nir)\n",
    "#data_path = r\"D:\\Drohnendaten\\10_WZE-UAV\\Auswertung_findatree\\Datasplit\\ROI\\rgb-nir\"\n",
    "\n",
    "# 5 channel input (r-g-b-re-nir)\n",
    "#data_path = r\"D:\\Drohnendaten\\10_WZE-UAV\\Auswertung_findatree\\Datasplit\\ROI\\rgb-re-nir\"\n",
    "#####################################################################################"
   ]
  },
  {
   "cell_type": "markdown",
   "id": "4560ce64",
   "metadata": {},
   "source": [
    "#### Get all file paths"
   ]
  },
  {
   "cell_type": "code",
   "execution_count": 8,
   "id": "aa072e4c",
   "metadata": {},
   "outputs": [],
   "source": [
    "fn_list = os.listdir(data_path)\n",
    "path_list = []\n",
    "# Iterate over all datafiles\n",
    "for year in fn_list:\n",
    "    year_dir = f'{data_path}\\\\{year}'\n",
    "    for filename in os.listdir(year_dir):\n",
    "        path = f'{year_dir}\\\\{filename}'\n",
    "        path_list.append(path)"
   ]
  },
  {
   "cell_type": "markdown",
   "id": "f3937a44",
   "metadata": {},
   "source": [
    "#### Create unique hash IDs for every individual tree"
   ]
  },
  {
   "cell_type": "code",
   "execution_count": 9,
   "id": "8a50f1d7",
   "metadata": {},
   "outputs": [
    {
     "data": {
      "application/vnd.jupyter.widget-view+json": {
       "model_id": "6ebf262e67524eafaff50c1180e88d2c",
       "version_major": 2,
       "version_minor": 0
      },
      "text/plain": [
       "Creating unique tree IDs...:   0%|          | 0/647 [00:00<?, ?it/s]"
      ]
     },
     "metadata": {},
     "output_type": "display_data"
    }
   ],
   "source": [
    "hashID_dict = data_loader.get_unique_treeID(path_list)"
   ]
  },
  {
   "cell_type": "markdown",
   "id": "6f4cea00",
   "metadata": {},
   "source": [
    "#### Import all imagery, labels and other features from hdf5 files"
   ]
  },
  {
   "cell_type": "code",
   "execution_count": 10,
   "id": "94e3eecf",
   "metadata": {},
   "outputs": [
    {
     "data": {
      "application/vnd.jupyter.widget-view+json": {
       "model_id": "2d6adb720062437f94dd640a952811ef",
       "version_major": 2,
       "version_minor": 0
      },
      "text/plain": [
       "Processing hdf5 datasets:   0%|          | 0/647 [00:00<?, ?it/s]"
      ]
     },
     "metadata": {},
     "output_type": "display_data"
    }
   ],
   "source": [
    "image_set, label_set, species_set, kkl_set, bk_set, hash_id = data_loader.hdf5_to_img_label_v2(path_list,\n",
    "                                                                                               hashID_dict,\n",
    "                                                                                               load_sets=[\"images_masked\"])"
   ]
  },
  {
   "cell_type": "markdown",
   "id": "6a90e2b7",
   "metadata": {},
   "source": [
    "#### Convert nbv to classes"
   ]
  },
  {
   "cell_type": "code",
   "execution_count": 11,
   "id": "0224972a",
   "metadata": {},
   "outputs": [],
   "source": [
    "label_set = nbv_to_sst_3classes(label_set)"
   ]
  },
  {
   "cell_type": "markdown",
   "id": "c6b4cd85",
   "metadata": {},
   "source": [
    "#### Split data and seperate a test dataset"
   ]
  },
  {
   "cell_type": "code",
   "execution_count": 12,
   "id": "d06eda54",
   "metadata": {},
   "outputs": [
    {
     "name": "stdout",
     "output_type": "stream",
     "text": [
      "There are 7087 unique values within hash_id.\n",
      "Check shapes:\n",
      "\n",
      "Images train dataset: (15973, 250, 250, 3)\n",
      "Labels train dataset: (15973, 1)\n",
      "\n",
      "Images test dataset: (2832, 250, 250, 3)\n",
      "Labels test dataset: (2832, 1)\n",
      "\n",
      "--------------------------------------------------\n",
      "Check if the split was stratified: (random_state=42)\n",
      "Healthy trees in train dataset: 14465\n",
      "Stressed trees in train dataset: 1240\n",
      "Dead trees in train dataset: 268\n",
      "Healthy trees in test dataset: 2551\n",
      "Stressed trees in test dataset: 237\n",
      "Dead trees in test dataset: 44\n",
      "Ratio health trees in test dataset: 0.1499177244945933\n",
      "Ratio stressed trees in test dataset: 0.16046039268788084\n",
      "Ratio dead trees in test dataset: 0.14102564102564102\n"
     ]
    }
   ],
   "source": [
    "image_set, label_set, hash_id, species_set, test_image_set, test_label_set, test_hash_id, test_species_set = data_split(image_set, label_set, hash_id, species_set, test_size=0.15, random_state=42)\n"
   ]
  },
  {
   "cell_type": "markdown",
   "id": "c48fbb5b",
   "metadata": {},
   "source": [
    "#### Check if any hash ID is in both train and test dataset"
   ]
  },
  {
   "cell_type": "code",
   "execution_count": 13,
   "id": "874367cf",
   "metadata": {},
   "outputs": [
    {
     "name": "stdout",
     "output_type": "stream",
     "text": [
      "There are no hash_id values in both train and test datasets. The datasplit was successful\n"
     ]
    }
   ],
   "source": [
    "hash_set = set(hash_id.flatten())\n",
    "test_hash_set = set(test_hash_id.flatten())\n",
    "intersection = hash_set.intersection(test_hash_set)\n",
    "if intersection:\n",
    "    print(f\"Hash_id values in both train and test sets: {intersection}\")\n",
    "else:\n",
    "    print(\"There are no hash_id values in both train and test datasets. The datasplit was successful\")"
   ]
  },
  {
   "cell_type": "markdown",
   "id": "9e5b64d4",
   "metadata": {},
   "source": [
    "#### Check feature distribution of the Test dataset"
   ]
  },
  {
   "cell_type": "code",
   "execution_count": 14,
   "id": "a33ff5cb",
   "metadata": {},
   "outputs": [
    {
     "name": "stdout",
     "output_type": "stream",
     "text": [
      "Test dataset\n",
      "Test data healthy trees: 2551\n",
      "Test data stressed trees: 237\n",
      "Test data dead trees: 44\n",
      "Test data pine trees: 755\n",
      "Test data spruces: 1041\n",
      "--------------------------------------------------\n",
      "Remaining dataset\n",
      "Remaining data healthy trees: 14465\n",
      "Remaining data stressed trees: 1240\n",
      "Remaining data dead trees: 268\n",
      "Remaining data pine trees: 4036\n",
      "Remaining data spruces: 5942\n",
      "--------------------------------------------------\n"
     ]
    }
   ],
   "source": [
    "def count_occurrences(data, value):\n",
    "    count = 0\n",
    "    for item in data:\n",
    "        if item == value:\n",
    "            count += 1\n",
    "    return count\n",
    "\n",
    "print(\"Test dataset\")\n",
    "print(f\"Test data healthy trees: {count_occurrences(test_label_set, 0)}\")\n",
    "print(f\"Test data stressed trees: {count_occurrences(test_label_set, 1)}\")\n",
    "print(f\"Test data dead trees: {count_occurrences(test_label_set, 2)}\")\n",
    "print(f\"Test data pine trees: {count_occurrences(test_species_set, 134)}\")\n",
    "print(f\"Test data spruces: {count_occurrences(test_species_set, 118)}\")\n",
    "print(\"-\"*50)\n",
    "\n",
    "print(\"Remaining dataset\")\n",
    "print(f\"Remaining data healthy trees: {count_occurrences(label_set, 0)}\")\n",
    "print(f\"Remaining data stressed trees: {count_occurrences(label_set, 1)}\")\n",
    "print(f\"Remaining data dead trees: {count_occurrences(label_set, 2)}\")\n",
    "print(f\"Remaining data pine trees: {count_occurrences(species_set, 134)}\")\n",
    "print(f\"Remaining data spruces: {count_occurrences(species_set, 118)}\")\n",
    "print(\"-\"*50)"
   ]
  },
  {
   "cell_type": "code",
   "execution_count": 15,
   "id": "e08fcf57",
   "metadata": {},
   "outputs": [],
   "source": [
    "# train transform with augmentation. \n",
    "transform_train = transforms.Compose([transforms.ToTensor(), transforms.RandomHorizontalFlip(p=0.5), transforms.RandomVerticalFlip(p=0.5),\n",
    "                                      transforms.RandomRotation(degrees=[0,360])])\n",
    "\n",
    "# test and val dataset transform without augmentation. \n",
    "transform = transforms.Compose([transforms.ToTensor()])\n",
    "\n",
    "# class names need to fit the customDataset class used e.g. 3 classes -> use CustomDataset3Classes\n",
    "#class_names = ['healthy', 'slightly_stressed', 'moderately_stressed', 'highly_stressed', 'dead']\n",
    "#class_names = ['healthy', 'moderately_stressed', 'highly_stressed', 'dead']\n",
    "class_names = ['healthy', 'stressed', 'dead']\n",
    "\n",
    "# set seeds\n",
    "g = torch.Generator()\n",
    "g.manual_seed(42)\n",
    "NUM_WORKERS=3 # should be changed, depending on the system used\n",
    "batch_size=32"
   ]
  },
  {
   "cell_type": "markdown",
   "id": "31779c05",
   "metadata": {},
   "source": [
    "#### Define variables and parameters"
   ]
  },
  {
   "cell_type": "code",
   "execution_count": 16,
   "id": "10ae4379",
   "metadata": {},
   "outputs": [
    {
     "name": "stdout",
     "output_type": "stream",
     "text": [
      "Memory allocated: 0 bytes\n"
     ]
    }
   ],
   "source": [
    "# 1. Define number of epochs\n",
    "epochs = 50\n",
    "n_bands = image_set[0].shape[2] # get number of bands\n",
    "\n",
    "# 2. Define model\n",
    "num_classes = len(class_names)\n",
    "unfreeze = True # all layer weights get updated\n",
    "dropout_rate = 0.45 #define dropout rate\n",
    "model_name = \"EffNet_b7_RGB_3classes\"\n",
    "\n",
    "# 3. Define loss, optimizer and learning rate scheduler\n",
    "lr = 0.0011 # define learning rate\n",
    "min_lr = 1e-5 # minimum learning rate threshold\n",
    "gamma = 0.85 # how fast the learning rate decreases per epoch (low number=faster decrease)\n",
    "patience = 10\n",
    "\n",
    "# 4. Create target folder name were to save the tensorboard event files\n",
    "\n",
    "experiment_name = 'RGB_3classes'\n",
    "extra = \"\"\n",
    "\n",
    "#----------------------------------------------------------------------\n",
    "#torch.cuda.empty_cache()\n",
    "print(f\"Memory allocated: {torch.cuda.memory_allocated()} bytes\") \n",
    "\n",
    "\n"
   ]
  },
  {
   "cell_type": "markdown",
   "id": "09768b1a",
   "metadata": {},
   "source": [
    "#### Run k-Fold cross-validation on EfficientNet"
   ]
  },
  {
   "cell_type": "code",
   "execution_count": 17,
   "id": "9c29c81d",
   "metadata": {},
   "outputs": [
    {
     "name": "stdout",
     "output_type": "stream",
     "text": [
      "There are 6023 unique values within hash_id.\n",
      "\n",
      "Check shapes:\n",
      "\n",
      "Images train dataset: (12770, 250, 250, 3)\n",
      "Labels train dataset: (12770, 1)\n",
      "\n",
      "Images validation dataset: (3203, 250, 250, 3)\n",
      "Labels validation dataset: (3203, 1)\n",
      "\n",
      "--------------------------------------------------\n",
      "Check if the split was stratified: (random_state=42)\n",
      "Healthy trees in train dataset: 11550\n",
      "Stressed trees in train dataset: 983\n",
      "Dead trees in train dataset: 237\n",
      "Healthy trees in validation dataset: 2915\n",
      "Stressed trees in validation dataset: 257\n",
      "Dead trees in validation dataset: 31\n",
      "Ratio health trees in validation dataset: 0.20152091254752852\n",
      "Ratio stressed trees in validation dataset: 0.20725806451612902\n",
      "Ratio dead trees in validation dataset: 0.11567164179104478\n",
      "--------------------------------------------------\n",
      "\n",
      "Creating datasets for fold: 1\n",
      "\n",
      "Creating dataloaders for fold: 1\n",
      "\n",
      "[INFO] Created new effnet_b7 model.\n",
      "\n",
      "[INFO] Fold number: 1\n",
      "[INFO] Number of epochs: 50\n",
      "[INFO] Batch_size: 32\n",
      "[INFO] Number of bands: 3\n",
      "[INFO] Dropout rate: 0.45\n",
      "[INFO] Gamma learning rate: 0.85\n",
      "[INFO] Created SummaryWriter, saving to: runs\\2023-04-08\\RGB_3classes\\EffNet_b7_RGB_3classes...\n"
     ]
    },
    {
     "data": {
      "application/vnd.jupyter.widget-view+json": {
       "model_id": "81d33c10764d4e7da538894fe4e4daac",
       "version_major": 2,
       "version_minor": 0
      },
      "text/plain": [
       "  0%|          | 0/50 [00:00<?, ?it/s]"
      ]
     },
     "metadata": {},
     "output_type": "display_data"
    },
    {
     "name": "stdout",
     "output_type": "stream",
     "text": [
      "Epoch: 1 \n",
      "Learning rate: 0.0011\n",
      "Train loss: 0.6712 | Train precision: 0.6988 | Train recall: 0.6975 | Train f1score: 0.6981 | Train acc: 0.6823 | Train kappa: 0.5998 \n",
      "Val loss: 0.4979 | Val precision: 0.4388 | Val recall: 0.7358 | Val f1score: 0.4716 | Val acc: 0.7887 | Val kappa: 0.3140 \n",
      "\n",
      "Epoch: 2 \n",
      "Learning rate: 0.0009350000000000001\n",
      "Train loss: 0.5820 | Train precision: 0.7601 | Train recall: 0.7571 | Train f1score: 0.7585 | Train acc: 0.7264 | Train kappa: 0.6798 \n",
      "Val loss: 0.4650 | Val precision: 0.5660 | Val recall: 0.7884 | Val f1score: 0.6303 | Val acc: 0.8225 | Val kappa: 0.4212 \n",
      "\n",
      "Epoch: 3 \n",
      "Learning rate: 0.00079475\n",
      "Train loss: 0.5369 | Train precision: 0.7829 | Train recall: 0.7787 | Train f1score: 0.7808 | Train acc: 0.7488 | Train kappa: 0.6939 \n",
      "Val loss: 1.4066 | Val precision: 0.4560 | Val recall: 0.7207 | Val f1score: 0.3664 | Val acc: 0.3731 | Val kappa: 0.1274 \n",
      "\n",
      "Epoch: 4 \n",
      "Learning rate: 0.0006755375\n",
      "Train loss: 0.5135 | Train precision: 0.7942 | Train recall: 0.7895 | Train f1score: 0.7918 | Train acc: 0.7583 | Train kappa: 0.7153 \n",
      "Val loss: 0.4466 | Val precision: 0.5656 | Val recall: 0.8124 | Val f1score: 0.6197 | Val acc: 0.7688 | Val kappa: 0.3604 \n",
      "\n",
      "Epoch: 5 \n",
      "Learning rate: 0.0005742068749999999\n",
      "Train loss: 0.4900 | Train precision: 0.8051 | Train recall: 0.8003 | Train f1score: 0.8027 | Train acc: 0.7690 | Train kappa: 0.7283 \n",
      "Val loss: 0.4134 | Val precision: 0.6411 | Val recall: 0.7942 | Val f1score: 0.6779 | Val acc: 0.7997 | Val kappa: 0.3911 \n",
      "\n",
      "Epoch: 6 \n",
      "Learning rate: 0.0004880758437499999\n",
      "Train loss: 0.4642 | Train precision: 0.8190 | Train recall: 0.8185 | Train f1score: 0.8188 | Train acc: 0.7849 | Train kappa: 0.7469 \n",
      "Val loss: 0.3222 | Val precision: 0.6011 | Val recall: 0.7567 | Val f1score: 0.6569 | Val acc: 0.8847 | Val kappa: 0.4943 \n",
      "\n",
      "Epoch: 7 \n",
      "Learning rate: 0.0004148644671874999\n",
      "Train loss: 0.4389 | Train precision: 0.8334 | Train recall: 0.8329 | Train f1score: 0.8331 | Train acc: 0.7984 | Train kappa: 0.7618 \n",
      "Val loss: 0.3582 | Val precision: 0.6350 | Val recall: 0.7931 | Val f1score: 0.6927 | Val acc: 0.8581 | Val kappa: 0.4659 \n",
      "\n",
      "Epoch: 8 \n",
      "Learning rate: 0.0003526347971093749\n",
      "Train loss: 0.4306 | Train precision: 0.8418 | Train recall: 0.8413 | Train f1score: 0.8415 | Train acc: 0.8040 | Train kappa: 0.7706 \n",
      "Val loss: 0.3919 | Val precision: 0.6223 | Val recall: 0.8059 | Val f1score: 0.6861 | Val acc: 0.8575 | Val kappa: 0.4719 \n",
      "\n",
      "Epoch: 9 \n",
      "Learning rate: 0.0002997395775429687\n",
      "Train loss: 0.4114 | Train precision: 0.8448 | Train recall: 0.8458 | Train f1score: 0.8453 | Train acc: 0.8105 | Train kappa: 0.7766 \n",
      "Val loss: 0.5093 | Val precision: 0.5827 | Val recall: 0.7825 | Val f1score: 0.6192 | Val acc: 0.7419 | Val kappa: 0.3225 \n",
      "\n",
      "Epoch: 10 \n",
      "Learning rate: 0.0002547786409115234\n",
      "Train loss: 0.3795 | Train precision: 0.8612 | Train recall: 0.8645 | Train f1score: 0.8627 | Train acc: 0.8302 | Train kappa: 0.8017 \n",
      "Val loss: 0.6020 | Val precision: 0.5365 | Val recall: 0.8073 | Val f1score: 0.5694 | Val acc: 0.6869 | Val kappa: 0.2846 \n",
      "\n",
      "Epoch: 11 \n",
      "Learning rate: 0.00021656184477479486\n",
      "Train loss: 0.3649 | Train precision: 0.8687 | Train recall: 0.8710 | Train f1score: 0.8697 | Train acc: 0.8376 | Train kappa: 0.8080 \n",
      "Val loss: 0.4346 | Val precision: 0.5912 | Val recall: 0.8002 | Val f1score: 0.6445 | Val acc: 0.7872 | Val kappa: 0.3734 \n",
      "\n",
      "Epoch: 12 \n",
      "Learning rate: 0.00018407756805857562\n",
      "Train loss: 0.3414 | Train precision: 0.8780 | Train recall: 0.8808 | Train f1score: 0.8792 | Train acc: 0.8489 | Train kappa: 0.8192 \n",
      "Val loss: 0.4026 | Val precision: 0.6056 | Val recall: 0.7967 | Val f1score: 0.6661 | Val acc: 0.8356 | Val kappa: 0.4318 \n",
      "\n",
      "Epoch: 13 \n",
      "Learning rate: 0.00015646593284978928\n",
      "Train loss: 0.3323 | Train precision: 0.8844 | Train recall: 0.8857 | Train f1score: 0.8849 | Train acc: 0.8541 | Train kappa: 0.8245 \n",
      "Val loss: 0.3811 | Val precision: 0.6173 | Val recall: 0.7921 | Val f1score: 0.6746 | Val acc: 0.8391 | Val kappa: 0.4411 \n",
      "\n",
      "Epoch: 14 \n",
      "Learning rate: 0.0001329960429223209\n",
      "Train loss: 0.3121 | Train precision: 0.8935 | Train recall: 0.8966 | Train f1score: 0.8946 | Train acc: 0.8658 | Train kappa: 0.8394 \n",
      "Val loss: 0.4111 | Val precision: 0.6126 | Val recall: 0.7889 | Val f1score: 0.6650 | Val acc: 0.8175 | Val kappa: 0.4160 \n",
      "\n",
      "Epoch: 15 \n",
      "Learning rate: 0.00011304663648397275\n",
      "Train loss: 0.3093 | Train precision: 0.8932 | Train recall: 0.8966 | Train f1score: 0.8945 | Train acc: 0.8666 | Train kappa: 0.8476 \n",
      "Val loss: 0.3737 | Val precision: 0.5491 | Val recall: 0.7732 | Val f1score: 0.6154 | Val acc: 0.8522 | Val kappa: 0.4158 \n",
      "\n",
      "Epoch: 16 \n",
      "Learning rate: 9.608964101137683e-05\n",
      "Train loss: 0.2889 | Train precision: 0.9012 | Train recall: 0.9061 | Train f1score: 0.9034 | Train acc: 0.8757 | Train kappa: 0.8561 \n",
      "Val loss: 0.4136 | Val precision: 0.6400 | Val recall: 0.7833 | Val f1score: 0.6809 | Val acc: 0.8247 | Val kappa: 0.4203 \n",
      "\n",
      "Epoch: 17 \n",
      "Learning rate: 8.16761948596703e-05\n",
      "Train loss: 0.2741 | Train precision: 0.9089 | Train recall: 0.9119 | Train f1score: 0.9100 | Train acc: 0.8832 | Train kappa: 0.8609 \n",
      "Val loss: 0.3931 | Val precision: 0.6520 | Val recall: 0.7845 | Val f1score: 0.6978 | Val acc: 0.8444 | Val kappa: 0.4431 \n",
      "\n",
      "Epoch: 18 \n",
      "Learning rate: 6.942476563071976e-05\n",
      "Train loss: 0.2648 | Train precision: 0.9118 | Train recall: 0.9159 | Train f1score: 0.9134 | Train acc: 0.8888 | Train kappa: 0.8689 \n",
      "Val loss: 0.4352 | Val precision: 0.6353 | Val recall: 0.7724 | Val f1score: 0.6774 | Val acc: 0.8241 | Val kappa: 0.4115 \n",
      "\n",
      "Epoch: 19 \n",
      "Learning rate: 5.9011050786111795e-05\n",
      "Train loss: 0.2545 | Train precision: 0.9158 | Train recall: 0.9185 | Train f1score: 0.9167 | Train acc: 0.8922 | Train kappa: 0.8710 \n",
      "Val loss: 0.4140 | Val precision: 0.6240 | Val recall: 0.7836 | Val f1score: 0.6763 | Val acc: 0.8384 | Val kappa: 0.4321 \n",
      "\n",
      "Epoch: 20 \n",
      "Learning rate: 5.015939316819502e-05\n",
      "Train loss: 0.2365 | Train precision: 0.9255 | Train recall: 0.9289 | Train f1score: 0.9267 | Train acc: 0.9048 | Train kappa: 0.8890 \n",
      "Val loss: 0.4145 | Val precision: 0.6203 | Val recall: 0.7853 | Val f1score: 0.6733 | Val acc: 0.8303 | Val kappa: 0.4257 \n",
      "\n",
      "Epoch: 21 \n",
      "Learning rate: 4.2635484192965766e-05\n",
      "Train loss: 0.2368 | Train precision: 0.9211 | Train recall: 0.9246 | Train f1score: 0.9223 | Train acc: 0.9002 | Train kappa: 0.8829 \n",
      "Val loss: 0.4211 | Val precision: 0.6478 | Val recall: 0.7845 | Val f1score: 0.6899 | Val acc: 0.8313 | Val kappa: 0.4258 \n",
      "\n",
      "Epoch: 22 \n",
      "Learning rate: 3.62401615640209e-05\n",
      "Train loss: 0.2246 | Train precision: 0.9279 | Train recall: 0.9301 | Train f1score: 0.9285 | Train acc: 0.9067 | Train kappa: 0.8927 \n",
      "Val loss: 0.3901 | Val precision: 0.6262 | Val recall: 0.7758 | Val f1score: 0.6816 | Val acc: 0.8594 | Val kappa: 0.4627 \n",
      "\n",
      "Epoch: 23 \n",
      "Learning rate: 3.080413732941777e-05\n",
      "Train loss: 0.2150 | Train precision: 0.9310 | Train recall: 0.9346 | Train f1score: 0.9323 | Train acc: 0.9110 | Train kappa: 0.8973 \n",
      "Val loss: 0.4446 | Val precision: 0.6240 | Val recall: 0.7819 | Val f1score: 0.6753 | Val acc: 0.8306 | Val kappa: 0.4214 \n",
      "\n",
      "Epoch: 24 \n",
      "Learning rate: 2.61835167300051e-05\n",
      "Train loss: 0.2187 | Train precision: 0.9287 | Train recall: 0.9335 | Train f1score: 0.9304 | Train acc: 0.9094 | Train kappa: 0.8937 \n",
      "Val loss: 0.3954 | Val precision: 0.6470 | Val recall: 0.7409 | Val f1score: 0.6792 | Val acc: 0.8447 | Val kappa: 0.4212 \n",
      "\n",
      "Epoch: 25 \n",
      "Learning rate: 2.2255989220504335e-05\n",
      "Train loss: 0.2082 | Train precision: 0.9330 | Train recall: 0.9360 | Train f1score: 0.9340 | Train acc: 0.9142 | Train kappa: 0.8979 \n",
      "Val loss: 0.4194 | Val precision: 0.6354 | Val recall: 0.7432 | Val f1score: 0.6729 | Val acc: 0.8444 | Val kappa: 0.4196 \n",
      "\n",
      "Epoch: 26 \n",
      "Learning rate: 1.8917590837428684e-05\n",
      "Train loss: 0.2012 | Train precision: 0.9361 | Train recall: 0.9382 | Train f1score: 0.9367 | Train acc: 0.9174 | Train kappa: 0.9039 \n",
      "Val loss: 0.4215 | Val precision: 0.6312 | Val recall: 0.7460 | Val f1score: 0.6713 | Val acc: 0.8456 | Val kappa: 0.4300 \n",
      "\n",
      "Epoch: 27 \n",
      "Learning rate: 1.6079952211814382e-05\n",
      "Train loss: 0.2002 | Train precision: 0.9395 | Train recall: 0.9425 | Train f1score: 0.9405 | Train acc: 0.9221 | Train kappa: 0.9120 \n",
      "Val loss: 0.4319 | Val precision: 0.6361 | Val recall: 0.7501 | Val f1score: 0.6740 | Val acc: 0.8406 | Val kappa: 0.4234 \n",
      "\n"
     ]
    },
    {
     "name": "stdout",
     "output_type": "stream",
     "text": [
      "Early stopping after epoch 27\n",
      "Deleting variables and emptying cache\n",
      "Memory allocated: 1059180032 bytes\n",
      "--------------------------------------------------\n",
      "\n",
      "Check shapes:\n",
      "\n",
      "Images train dataset: (12801, 250, 250, 3)\n",
      "Labels train dataset: (12801, 1)\n",
      "\n",
      "Images validation dataset: (3172, 250, 250, 3)\n",
      "Labels validation dataset: (3172, 1)\n",
      "\n",
      "--------------------------------------------------\n",
      "Check if the split was stratified: (random_state=42)\n",
      "Healthy trees in train dataset: 11597\n",
      "Stressed trees in train dataset: 996\n",
      "Dead trees in train dataset: 208\n",
      "Healthy trees in validation dataset: 2868\n",
      "Stressed trees in validation dataset: 244\n",
      "Dead trees in validation dataset: 60\n",
      "Ratio health trees in validation dataset: 0.19827169028689942\n",
      "Ratio stressed trees in validation dataset: 0.1967741935483871\n",
      "Ratio dead trees in validation dataset: 0.22388059701492538\n",
      "--------------------------------------------------\n",
      "\n",
      "Creating datasets for fold: 2\n",
      "\n",
      "Creating dataloaders for fold: 2\n",
      "\n",
      "[INFO] Created new effnet_b7 model.\n",
      "\n",
      "[INFO] Fold number: 2\n",
      "[INFO] Number of epochs: 50\n",
      "[INFO] Batch_size: 32\n",
      "[INFO] Number of bands: 3\n",
      "[INFO] Dropout rate: 0.45\n",
      "[INFO] Gamma learning rate: 0.85\n",
      "[INFO] Created SummaryWriter, saving to: runs\\2023-04-08\\RGB_3classes\\EffNet_b7_RGB_3classes...\n"
     ]
    },
    {
     "data": {
      "application/vnd.jupyter.widget-view+json": {
       "model_id": "309f8753f1a74ebe8bcd991485c4855c",
       "version_major": 2,
       "version_minor": 0
      },
      "text/plain": [
       "  0%|          | 0/50 [00:00<?, ?it/s]"
      ]
     },
     "metadata": {},
     "output_type": "display_data"
    },
    {
     "name": "stdout",
     "output_type": "stream",
     "text": [
      "Epoch: 1 \n",
      "Learning rate: 0.0011\n",
      "Train loss: 0.6654 | Train precision: 0.6889 | Train recall: 0.6853 | Train f1score: 0.6871 | Train acc: 0.6781 | Train kappa: 0.5791 \n",
      "Val loss: 0.3492 | Val precision: 0.6627 | Val recall: 0.5155 | Val f1score: 0.5602 | Val acc: 0.8860 | Val kappa: 0.4336 \n",
      "\n",
      "Epoch: 2 \n",
      "Learning rate: 0.0009350000000000001\n",
      "Train loss: 0.5776 | Train precision: 0.7593 | Train recall: 0.7601 | Train f1score: 0.7597 | Train acc: 0.7305 | Train kappa: 0.6644 \n",
      "Val loss: 0.6037 | Val precision: 0.6848 | Val recall: 0.6542 | Val f1score: 0.5669 | Val acc: 0.6834 | Val kappa: 0.3205 \n",
      "\n",
      "Epoch: 3 \n",
      "Learning rate: 0.00079475\n",
      "Train loss: 0.5451 | Train precision: 0.7814 | Train recall: 0.7786 | Train f1score: 0.7800 | Train acc: 0.7474 | Train kappa: 0.6864 \n",
      "Val loss: 0.3769 | Val precision: 0.6956 | Val recall: 0.7209 | Val f1score: 0.6885 | Val acc: 0.8450 | Val kappa: 0.5197 \n",
      "\n",
      "Epoch: 4 \n",
      "Learning rate: 0.0006755375\n",
      "Train loss: 0.5027 | Train precision: 0.8092 | Train recall: 0.7988 | Train f1score: 0.8038 | Train acc: 0.7684 | Train kappa: 0.7138 \n",
      "Val loss: 0.3746 | Val precision: 0.6734 | Val recall: 0.7300 | Val f1score: 0.6848 | Val acc: 0.8472 | Val kappa: 0.5303 \n",
      "\n",
      "Epoch: 5 \n",
      "Learning rate: 0.0005742068749999999\n",
      "Train loss: 0.4995 | Train precision: 0.8052 | Train recall: 0.7998 | Train f1score: 0.8025 | Train acc: 0.7666 | Train kappa: 0.7157 \n",
      "Val loss: 0.4611 | Val precision: 0.6426 | Val recall: 0.7490 | Val f1score: 0.6745 | Val acc: 0.8362 | Val kappa: 0.5230 \n",
      "\n",
      "Epoch: 6 \n",
      "Learning rate: 0.0004880758437499999\n",
      "Train loss: 0.4691 | Train precision: 0.8215 | Train recall: 0.8147 | Train f1score: 0.8180 | Train acc: 0.7839 | Train kappa: 0.7331 \n",
      "Val loss: 0.3694 | Val precision: 0.6773 | Val recall: 0.7664 | Val f1score: 0.7054 | Val acc: 0.8494 | Val kappa: 0.5452 \n",
      "\n",
      "Epoch: 7 \n",
      "Learning rate: 0.0004148644671874999\n",
      "Train loss: 0.4459 | Train precision: 0.8292 | Train recall: 0.8263 | Train f1score: 0.8277 | Train acc: 0.7916 | Train kappa: 0.7422 \n",
      "Val loss: 0.5320 | Val precision: 0.7018 | Val recall: 0.7153 | Val f1score: 0.6474 | Val acc: 0.7614 | Val kappa: 0.4137 \n",
      "\n",
      "Epoch: 8 \n",
      "Learning rate: 0.0003526347971093749\n",
      "Train loss: 0.4259 | Train precision: 0.8387 | Train recall: 0.8388 | Train f1score: 0.8387 | Train acc: 0.8020 | Train kappa: 0.7610 \n",
      "Val loss: 0.3955 | Val precision: 0.7135 | Val recall: 0.7220 | Val f1score: 0.6931 | Val acc: 0.8516 | Val kappa: 0.5423 \n",
      "\n",
      "Epoch: 9 \n",
      "Learning rate: 0.0002997395775429687\n",
      "Train loss: 0.4072 | Train precision: 0.8500 | Train recall: 0.8497 | Train f1score: 0.8497 | Train acc: 0.8120 | Train kappa: 0.7694 \n",
      "Val loss: 0.5294 | Val precision: 0.6454 | Val recall: 0.7430 | Val f1score: 0.6290 | Val acc: 0.7210 | Val kappa: 0.3816 \n",
      "\n",
      "Epoch: 10 \n",
      "Learning rate: 0.0002547786409115234\n",
      "Train loss: 0.3864 | Train precision: 0.8594 | Train recall: 0.8596 | Train f1score: 0.8594 | Train acc: 0.8249 | Train kappa: 0.7900 \n",
      "Val loss: 0.4580 | Val precision: 0.6092 | Val recall: 0.7719 | Val f1score: 0.6445 | Val acc: 0.7958 | Val kappa: 0.4579 \n",
      "\n",
      "Epoch: 11 \n",
      "Learning rate: 0.00021656184477479486\n",
      "Train loss: 0.3697 | Train precision: 0.8697 | Train recall: 0.8745 | Train f1score: 0.8718 | Train acc: 0.8364 | Train kappa: 0.8012 \n",
      "Val loss: 0.3705 | Val precision: 0.6958 | Val recall: 0.7317 | Val f1score: 0.6886 | Val acc: 0.8371 | Val kappa: 0.5189 \n",
      "\n",
      "Epoch: 12 \n",
      "Learning rate: 0.00018407756805857562\n",
      "Train loss: 0.3523 | Train precision: 0.8764 | Train recall: 0.8805 | Train f1score: 0.8780 | Train acc: 0.8442 | Train kappa: 0.8119 \n",
      "Val loss: 0.3236 | Val precision: 0.7057 | Val recall: 0.7450 | Val f1score: 0.7181 | Val acc: 0.8715 | Val kappa: 0.5758 \n",
      "\n",
      "Epoch: 13 \n",
      "Learning rate: 0.00015646593284978928\n",
      "Train loss: 0.3405 | Train precision: 0.8790 | Train recall: 0.8834 | Train f1score: 0.8808 | Train acc: 0.8482 | Train kappa: 0.8157 \n",
      "Val loss: 0.3589 | Val precision: 0.6144 | Val recall: 0.7340 | Val f1score: 0.6560 | Val acc: 0.8501 | Val kappa: 0.5069 \n",
      "\n",
      "Epoch: 14 \n",
      "Learning rate: 0.0001329960429223209\n",
      "Train loss: 0.3229 | Train precision: 0.8866 | Train recall: 0.8899 | Train f1score: 0.8878 | Train acc: 0.8552 | Train kappa: 0.8235 \n",
      "Val loss: 0.3043 | Val precision: 0.6913 | Val recall: 0.7029 | Val f1score: 0.6957 | Val acc: 0.8902 | Val kappa: 0.5792 \n",
      "\n",
      "Epoch: 15 \n",
      "Learning rate: 0.00011304663648397275\n",
      "Train loss: 0.3058 | Train precision: 0.8968 | Train recall: 0.9000 | Train f1score: 0.8978 | Train acc: 0.8664 | Train kappa: 0.8375 \n",
      "Val loss: 0.3798 | Val precision: 0.6487 | Val recall: 0.7524 | Val f1score: 0.6817 | Val acc: 0.8409 | Val kappa: 0.5115 \n",
      "\n",
      "Epoch: 16 \n",
      "Learning rate: 9.608964101137683e-05\n",
      "Train loss: 0.2949 | Train precision: 0.9022 | Train recall: 0.9072 | Train f1score: 0.9040 | Train acc: 0.8749 | Train kappa: 0.8448 \n",
      "Val loss: 0.3609 | Val precision: 0.6977 | Val recall: 0.7489 | Val f1score: 0.7082 | Val acc: 0.8586 | Val kappa: 0.5559 \n",
      "\n",
      "Epoch: 17 \n",
      "Learning rate: 8.16761948596703e-05\n",
      "Train loss: 0.2777 | Train precision: 0.9091 | Train recall: 0.9127 | Train f1score: 0.9102 | Train acc: 0.8816 | Train kappa: 0.8566 \n",
      "Val loss: 0.3477 | Val precision: 0.6721 | Val recall: 0.7597 | Val f1score: 0.7044 | Val acc: 0.8674 | Val kappa: 0.5631 \n",
      "\n",
      "Epoch: 18 \n",
      "Learning rate: 6.942476563071976e-05\n",
      "Train loss: 0.2660 | Train precision: 0.9118 | Train recall: 0.9168 | Train f1score: 0.9136 | Train acc: 0.8877 | Train kappa: 0.8607 \n",
      "Val loss: 0.3783 | Val precision: 0.6825 | Val recall: 0.7432 | Val f1score: 0.6984 | Val acc: 0.8523 | Val kappa: 0.5372 \n",
      "\n",
      "Epoch: 19 \n",
      "Learning rate: 5.9011050786111795e-05\n",
      "Train loss: 0.2550 | Train precision: 0.9163 | Train recall: 0.9208 | Train f1score: 0.9178 | Train acc: 0.8916 | Train kappa: 0.8679 \n",
      "Val loss: 0.3741 | Val precision: 0.6595 | Val recall: 0.7477 | Val f1score: 0.6912 | Val acc: 0.8542 | Val kappa: 0.5259 \n",
      "\n",
      "Epoch: 20 \n",
      "Learning rate: 5.015939316819502e-05\n",
      "Train loss: 0.2384 | Train precision: 0.9225 | Train recall: 0.9259 | Train f1score: 0.9237 | Train acc: 0.9010 | Train kappa: 0.8800 \n",
      "Val loss: 0.3982 | Val precision: 0.6922 | Val recall: 0.7412 | Val f1score: 0.7059 | Val acc: 0.8636 | Val kappa: 0.5645 \n",
      "\n",
      "Epoch: 21 \n",
      "Learning rate: 4.2635484192965766e-05\n",
      "Train loss: 0.2345 | Train precision: 0.9236 | Train recall: 0.9286 | Train f1score: 0.9256 | Train acc: 0.9032 | Train kappa: 0.8840 \n",
      "Val loss: 0.3564 | Val precision: 0.7019 | Val recall: 0.7326 | Val f1score: 0.7148 | Val acc: 0.8867 | Val kappa: 0.5922 \n",
      "\n",
      "Epoch: 22 \n",
      "Learning rate: 3.62401615640209e-05\n",
      "Train loss: 0.2295 | Train precision: 0.9239 | Train recall: 0.9294 | Train f1score: 0.9261 | Train acc: 0.9034 | Train kappa: 0.8828 \n",
      "Val loss: 0.3616 | Val precision: 0.7179 | Val recall: 0.7153 | Val f1score: 0.7154 | Val acc: 0.8930 | Val kappa: 0.6018 \n",
      "\n",
      "Epoch: 23 \n",
      "Learning rate: 3.080413732941777e-05\n",
      "Train loss: 0.2129 | Train precision: 0.9347 | Train recall: 0.9378 | Train f1score: 0.9359 | Train acc: 0.9159 | Train kappa: 0.8978 \n",
      "Val loss: 0.3595 | Val precision: 0.7048 | Val recall: 0.7347 | Val f1score: 0.7164 | Val acc: 0.8810 | Val kappa: 0.5840 \n",
      "\n",
      "Epoch: 24 \n",
      "Learning rate: 2.61835167300051e-05\n",
      "Train loss: 0.2131 | Train precision: 0.9327 | Train recall: 0.9356 | Train f1score: 0.9335 | Train acc: 0.9125 | Train kappa: 0.8943 \n",
      "Val loss: 0.3708 | Val precision: 0.6901 | Val recall: 0.7375 | Val f1score: 0.7079 | Val acc: 0.8715 | Val kappa: 0.5596 \n",
      "\n",
      "Early stopping after epoch 24\n",
      "Deleting variables and emptying cache\n",
      "Memory allocated: 1067544064 bytes\n",
      "--------------------------------------------------\n",
      "\n",
      "Check shapes:\n",
      "\n",
      "Images train dataset: (12775, 250, 250, 3)\n",
      "Labels train dataset: (12775, 1)\n",
      "\n",
      "Images validation dataset: (3198, 250, 250, 3)\n",
      "Labels validation dataset: (3198, 1)\n",
      "\n",
      "--------------------------------------------------\n",
      "Check if the split was stratified: (random_state=42)\n",
      "Healthy trees in train dataset: 11557\n",
      "Stressed trees in train dataset: 1022\n",
      "Dead trees in train dataset: 196\n",
      "Healthy trees in validation dataset: 2908\n",
      "Stressed trees in validation dataset: 218\n",
      "Dead trees in validation dataset: 72\n",
      "Ratio health trees in validation dataset: 0.20103698582786036\n",
      "Ratio stressed trees in validation dataset: 0.17580645161290323\n",
      "Ratio dead trees in validation dataset: 0.26865671641791045\n",
      "--------------------------------------------------\n",
      "\n",
      "Creating datasets for fold: 3\n",
      "\n",
      "Creating dataloaders for fold: 3\n",
      "\n"
     ]
    },
    {
     "name": "stdout",
     "output_type": "stream",
     "text": [
      "[INFO] Created new effnet_b7 model.\n",
      "\n",
      "[INFO] Fold number: 3\n",
      "[INFO] Number of epochs: 50\n",
      "[INFO] Batch_size: 32\n",
      "[INFO] Number of bands: 3\n",
      "[INFO] Dropout rate: 0.45\n",
      "[INFO] Gamma learning rate: 0.85\n",
      "[INFO] Created SummaryWriter, saving to: runs\\2023-04-08\\RGB_3classes\\EffNet_b7_RGB_3classes...\n"
     ]
    },
    {
     "data": {
      "application/vnd.jupyter.widget-view+json": {
       "model_id": "ddf1f09072504e1d963834580977eda7",
       "version_major": 2,
       "version_minor": 0
      },
      "text/plain": [
       "  0%|          | 0/50 [00:00<?, ?it/s]"
      ]
     },
     "metadata": {},
     "output_type": "display_data"
    },
    {
     "name": "stdout",
     "output_type": "stream",
     "text": [
      "Epoch: 1 \n",
      "Learning rate: 0.0011\n",
      "Train loss: 0.6748 | Train precision: 0.6834 | Train recall: 0.6857 | Train f1score: 0.6845 | Train acc: 0.6734 | Train kappa: 0.5691 \n",
      "Val loss: 0.2610 | Val precision: 0.7453 | Val recall: 0.5725 | Val f1score: 0.6153 | Val acc: 0.9211 | Val kappa: 0.5470 \n",
      "\n",
      "Epoch: 2 \n",
      "Learning rate: 0.0009350000000000001\n",
      "Train loss: 0.5845 | Train precision: 0.7566 | Train recall: 0.7495 | Train f1score: 0.7530 | Train acc: 0.7233 | Train kappa: 0.6454 \n",
      "Val loss: 0.3913 | Val precision: 0.6461 | Val recall: 0.7570 | Val f1score: 0.6705 | Val acc: 0.8018 | Val kappa: 0.4834 \n",
      "\n",
      "Epoch: 3 \n",
      "Learning rate: 0.00079475\n",
      "Train loss: 0.5367 | Train precision: 0.7797 | Train recall: 0.7806 | Train f1score: 0.7801 | Train acc: 0.7495 | Train kappa: 0.6826 \n",
      "Val loss: 0.7563 | Val precision: 0.5532 | Val recall: 0.7619 | Val f1score: 0.5386 | Val acc: 0.5735 | Val kappa: 0.2864 \n",
      "\n",
      "Epoch: 4 \n",
      "Learning rate: 0.0006755375\n",
      "Train loss: 0.5183 | Train precision: 0.7929 | Train recall: 0.7922 | Train f1score: 0.7925 | Train acc: 0.7586 | Train kappa: 0.6960 \n",
      "Val loss: 0.6944 | Val precision: 0.6264 | Val recall: 0.7662 | Val f1score: 0.5712 | Val acc: 0.5325 | Val kappa: 0.2631 \n",
      "\n",
      "Epoch: 5 \n",
      "Learning rate: 0.0005742068749999999\n",
      "Train loss: 0.4969 | Train precision: 0.8023 | Train recall: 0.8055 | Train f1score: 0.8038 | Train acc: 0.7706 | Train kappa: 0.7104 \n",
      "Val loss: 0.6133 | Val precision: 0.5947 | Val recall: 0.7892 | Val f1score: 0.6132 | Val acc: 0.6985 | Val kappa: 0.3785 \n",
      "\n",
      "Epoch: 6 \n",
      "Learning rate: 0.0004880758437499999\n",
      "Train loss: 0.4707 | Train precision: 0.8151 | Train recall: 0.8196 | Train f1score: 0.8173 | Train acc: 0.7800 | Train kappa: 0.7267 \n",
      "Val loss: 0.3459 | Val precision: 0.6864 | Val recall: 0.7860 | Val f1score: 0.7173 | Val acc: 0.8576 | Val kappa: 0.5771 \n",
      "\n",
      "Epoch: 7 \n",
      "Learning rate: 0.0004148644671874999\n",
      "Train loss: 0.4464 | Train precision: 0.8314 | Train recall: 0.8311 | Train f1score: 0.8312 | Train acc: 0.7964 | Train kappa: 0.7422 \n",
      "Val loss: 0.4405 | Val precision: 0.6898 | Val recall: 0.7914 | Val f1score: 0.6996 | Val acc: 0.8040 | Val kappa: 0.5001 \n",
      "\n",
      "Epoch: 8 \n",
      "Learning rate: 0.0003526347971093749\n",
      "Train loss: 0.4255 | Train precision: 0.8424 | Train recall: 0.8468 | Train f1score: 0.8446 | Train acc: 0.8109 | Train kappa: 0.7614 \n",
      "Val loss: 0.4104 | Val precision: 0.7066 | Val recall: 0.8022 | Val f1score: 0.7148 | Val acc: 0.8134 | Val kappa: 0.5158 \n",
      "\n",
      "Epoch: 9 \n",
      "Learning rate: 0.0002997395775429687\n",
      "Train loss: 0.4064 | Train precision: 0.8498 | Train recall: 0.8548 | Train f1score: 0.8522 | Train acc: 0.8159 | Train kappa: 0.7686 \n",
      "Val loss: 0.4193 | Val precision: 0.7092 | Val recall: 0.8207 | Val f1score: 0.7082 | Val acc: 0.7825 | Val kappa: 0.4812 \n",
      "\n",
      "Epoch: 10 \n",
      "Learning rate: 0.0002547786409115234\n",
      "Train loss: 0.3880 | Train precision: 0.8617 | Train recall: 0.8649 | Train f1score: 0.8632 | Train acc: 0.8282 | Train kappa: 0.7872 \n",
      "Val loss: 0.4142 | Val precision: 0.6508 | Val recall: 0.7988 | Val f1score: 0.6780 | Val acc: 0.7917 | Val kappa: 0.4857 \n",
      "\n",
      "Epoch: 11 \n",
      "Learning rate: 0.00021656184477479486\n",
      "Train loss: 0.3669 | Train precision: 0.8732 | Train recall: 0.8776 | Train f1score: 0.8751 | Train acc: 0.8412 | Train kappa: 0.8013 \n",
      "Val loss: 0.3281 | Val precision: 0.7151 | Val recall: 0.7845 | Val f1score: 0.7351 | Val acc: 0.8696 | Val kappa: 0.5964 \n",
      "\n",
      "Epoch: 12 \n",
      "Learning rate: 0.00018407756805857562\n",
      "Train loss: 0.3437 | Train precision: 0.8800 | Train recall: 0.8841 | Train f1score: 0.8815 | Train acc: 0.8498 | Train kappa: 0.8108 \n",
      "Val loss: 0.3315 | Val precision: 0.7071 | Val recall: 0.7644 | Val f1score: 0.7229 | Val acc: 0.8658 | Val kappa: 0.5848 \n",
      "\n",
      "Epoch: 13 \n",
      "Learning rate: 0.00015646593284978928\n",
      "Train loss: 0.3277 | Train precision: 0.8868 | Train recall: 0.8912 | Train f1score: 0.8888 | Train acc: 0.8578 | Train kappa: 0.8230 \n",
      "Val loss: 0.3794 | Val precision: 0.7109 | Val recall: 0.7920 | Val f1score: 0.7185 | Val acc: 0.8242 | Val kappa: 0.5285 \n",
      "\n",
      "Epoch: 14 \n",
      "Learning rate: 0.0001329960429223209\n",
      "Train loss: 0.3008 | Train precision: 0.8991 | Train recall: 0.9029 | Train f1score: 0.9006 | Train acc: 0.8714 | Train kappa: 0.8415 \n",
      "Val loss: 0.3362 | Val precision: 0.6906 | Val recall: 0.7918 | Val f1score: 0.7217 | Val acc: 0.8573 | Val kappa: 0.5829 \n",
      "\n",
      "Epoch: 15 \n",
      "Learning rate: 0.00011304663648397275\n",
      "Train loss: 0.2925 | Train precision: 0.9005 | Train recall: 0.9057 | Train f1score: 0.9025 | Train acc: 0.8752 | Train kappa: 0.8444 \n",
      "Val loss: 0.4732 | Val precision: 0.6399 | Val recall: 0.8093 | Val f1score: 0.6746 | Val acc: 0.7926 | Val kappa: 0.4874 \n",
      "\n",
      "Epoch: 16 \n",
      "Learning rate: 9.608964101137683e-05\n",
      "Train loss: 0.2675 | Train precision: 0.9125 | Train recall: 0.9184 | Train f1score: 0.9148 | Train acc: 0.8912 | Train kappa: 0.8630 \n",
      "Val loss: 0.4098 | Val precision: 0.7043 | Val recall: 0.7894 | Val f1score: 0.7156 | Val acc: 0.8295 | Val kappa: 0.5305 \n",
      "\n",
      "Epoch: 17 \n",
      "Learning rate: 8.16761948596703e-05\n",
      "Train loss: 0.2608 | Train precision: 0.9149 | Train recall: 0.9189 | Train f1score: 0.9162 | Train acc: 0.8922 | Train kappa: 0.8629 \n",
      "Val loss: 0.3424 | Val precision: 0.6869 | Val recall: 0.7941 | Val f1score: 0.7236 | Val acc: 0.8674 | Val kappa: 0.5995 \n",
      "\n",
      "Epoch: 18 \n",
      "Learning rate: 6.942476563071976e-05\n",
      "Train loss: 0.2342 | Train precision: 0.9256 | Train recall: 0.9296 | Train f1score: 0.9270 | Train acc: 0.9058 | Train kappa: 0.8814 \n",
      "Val loss: 0.3941 | Val precision: 0.6977 | Val recall: 0.7998 | Val f1score: 0.7212 | Val acc: 0.8409 | Val kappa: 0.5498 \n",
      "\n",
      "Epoch: 19 \n",
      "Learning rate: 5.9011050786111795e-05\n",
      "Train loss: 0.2252 | Train precision: 0.9307 | Train recall: 0.9328 | Train f1score: 0.9311 | Train acc: 0.9091 | Train kappa: 0.8865 \n",
      "Val loss: 0.3509 | Val precision: 0.7013 | Val recall: 0.7858 | Val f1score: 0.7301 | Val acc: 0.8725 | Val kappa: 0.6039 \n",
      "\n",
      "Epoch: 20 \n",
      "Learning rate: 5.015939316819502e-05\n",
      "Train loss: 0.2128 | Train precision: 0.9322 | Train recall: 0.9354 | Train f1score: 0.9332 | Train acc: 0.9124 | Train kappa: 0.8908 \n",
      "Val loss: 0.3705 | Val precision: 0.7086 | Val recall: 0.7491 | Val f1score: 0.7166 | Val acc: 0.8696 | Val kappa: 0.5813 \n",
      "\n",
      "Epoch: 21 \n",
      "Learning rate: 4.2635484192965766e-05\n",
      "Train loss: 0.2079 | Train precision: 0.9370 | Train recall: 0.9398 | Train f1score: 0.9379 | Train acc: 0.9180 | Train kappa: 0.8959 \n",
      "Val loss: 0.3709 | Val precision: 0.7057 | Val recall: 0.7789 | Val f1score: 0.7289 | Val acc: 0.8699 | Val kappa: 0.5944 \n",
      "\n",
      "Early stopping after epoch 21\n",
      "Deleting variables and emptying cache\n",
      "Memory allocated: 1069084160 bytes\n",
      "--------------------------------------------------\n",
      "\n",
      "Check shapes:\n",
      "\n",
      "Images train dataset: (12782, 250, 250, 3)\n",
      "Labels train dataset: (12782, 1)\n",
      "\n",
      "Images validation dataset: (3191, 250, 250, 3)\n",
      "Labels validation dataset: (3191, 1)\n",
      "\n",
      "--------------------------------------------------\n",
      "Check if the split was stratified: (random_state=42)\n",
      "Healthy trees in train dataset: 11582\n",
      "Stressed trees in train dataset: 985\n",
      "Dead trees in train dataset: 215\n",
      "Healthy trees in validation dataset: 2883\n",
      "Stressed trees in validation dataset: 255\n",
      "Dead trees in validation dataset: 53\n",
      "Ratio health trees in validation dataset: 0.19930867611475978\n",
      "Ratio stressed trees in validation dataset: 0.2056451612903226\n",
      "Ratio dead trees in validation dataset: 0.19776119402985073\n",
      "--------------------------------------------------\n",
      "\n",
      "Creating datasets for fold: 4\n",
      "\n",
      "Creating dataloaders for fold: 4\n",
      "\n",
      "[INFO] Created new effnet_b7 model.\n",
      "\n",
      "[INFO] Fold number: 4\n",
      "[INFO] Number of epochs: 50\n",
      "[INFO] Batch_size: 32\n",
      "[INFO] Number of bands: 3\n",
      "[INFO] Dropout rate: 0.45\n",
      "[INFO] Gamma learning rate: 0.85\n",
      "[INFO] Created SummaryWriter, saving to: runs\\2023-04-08\\RGB_3classes\\EffNet_b7_RGB_3classes...\n"
     ]
    },
    {
     "data": {
      "application/vnd.jupyter.widget-view+json": {
       "model_id": "f25aa9714c1844abb5fd95e91d18455c",
       "version_major": 2,
       "version_minor": 0
      },
      "text/plain": [
       "  0%|          | 0/50 [00:00<?, ?it/s]"
      ]
     },
     "metadata": {},
     "output_type": "display_data"
    },
    {
     "name": "stdout",
     "output_type": "stream",
     "text": [
      "Epoch: 1 \n",
      "Learning rate: 0.0011\n",
      "Train loss: 0.6844 | Train precision: 0.6731 | Train recall: 0.6740 | Train f1score: 0.6735 | Train acc: 0.6605 | Train kappa: 0.5635 \n",
      "Val loss: 0.3881 | Val precision: 0.6872 | Val recall: 0.5868 | Val f1score: 0.6233 | Val acc: 0.9015 | Val kappa: 0.5154 \n",
      "\n",
      "Epoch: 2 \n",
      "Learning rate: 0.0009350000000000001\n",
      "Train loss: 0.5812 | Train precision: 0.7512 | Train recall: 0.7518 | Train f1score: 0.7515 | Train acc: 0.7252 | Train kappa: 0.6686 \n",
      "Val loss: 0.3710 | Val precision: 0.6955 | Val recall: 0.6042 | Val f1score: 0.6051 | Val acc: 0.8090 | Val kappa: 0.3885 \n",
      "\n",
      "Epoch: 3 \n",
      "Learning rate: 0.00079475\n",
      "Train loss: 0.5309 | Train precision: 0.7892 | Train recall: 0.7845 | Train f1score: 0.7868 | Train acc: 0.7554 | Train kappa: 0.6950 \n",
      "Val loss: 0.6941 | Val precision: 0.5197 | Val recall: 0.7670 | Val f1score: 0.5286 | Val acc: 0.6234 | Val kappa: 0.2780 \n",
      "\n",
      "Epoch: 4 \n",
      "Learning rate: 0.0006755375\n",
      "Train loss: 0.5244 | Train precision: 0.7949 | Train recall: 0.7886 | Train f1score: 0.7917 | Train acc: 0.7548 | Train kappa: 0.6915 \n",
      "Val loss: 0.4482 | Val precision: 0.5890 | Val recall: 0.7674 | Val f1score: 0.6420 | Val acc: 0.8109 | Val kappa: 0.4683 \n",
      "\n",
      "Epoch: 5 \n",
      "Learning rate: 0.0005742068749999999\n",
      "Train loss: 0.4893 | Train precision: 0.8104 | Train recall: 0.8095 | Train f1score: 0.8100 | Train acc: 0.7722 | Train kappa: 0.7274 \n",
      "Val loss: 0.3370 | Val precision: 0.6500 | Val recall: 0.7493 | Val f1score: 0.6875 | Val acc: 0.8535 | Val kappa: 0.5273 \n",
      "\n",
      "Epoch: 6 \n",
      "Learning rate: 0.0004880758437499999\n",
      "Train loss: 0.4695 | Train precision: 0.8192 | Train recall: 0.8209 | Train f1score: 0.8200 | Train acc: 0.7816 | Train kappa: 0.7367 \n",
      "Val loss: 0.4857 | Val precision: 0.6038 | Val recall: 0.7728 | Val f1score: 0.6474 | Val acc: 0.7945 | Val kappa: 0.4492 \n",
      "\n",
      "Epoch: 7 \n",
      "Learning rate: 0.0004148644671874999\n",
      "Train loss: 0.4484 | Train precision: 0.8305 | Train recall: 0.8304 | Train f1score: 0.8304 | Train acc: 0.7933 | Train kappa: 0.7544 \n",
      "Val loss: 0.3179 | Val precision: 0.6175 | Val recall: 0.7266 | Val f1score: 0.6616 | Val acc: 0.8769 | Val kappa: 0.5373 \n",
      "\n",
      "Epoch: 8 \n",
      "Learning rate: 0.0003526347971093749\n",
      "Train loss: 0.4450 | Train precision: 0.8327 | Train recall: 0.8308 | Train f1score: 0.8317 | Train acc: 0.7933 | Train kappa: 0.7422 \n",
      "Val loss: 0.3537 | Val precision: 0.6901 | Val recall: 0.7509 | Val f1score: 0.7127 | Val acc: 0.8687 | Val kappa: 0.5550 \n",
      "\n",
      "Epoch: 9 \n",
      "Learning rate: 0.0002997395775429687\n",
      "Train loss: 0.4156 | Train precision: 0.8410 | Train recall: 0.8418 | Train f1score: 0.8413 | Train acc: 0.8066 | Train kappa: 0.7620 \n",
      "Val loss: 0.4596 | Val precision: 0.5788 | Val recall: 0.7572 | Val f1score: 0.6201 | Val acc: 0.7683 | Val kappa: 0.4041 \n",
      "\n",
      "Epoch: 10 \n",
      "Learning rate: 0.0002547786409115234\n",
      "Train loss: 0.3955 | Train precision: 0.8561 | Train recall: 0.8588 | Train f1score: 0.8570 | Train acc: 0.8246 | Train kappa: 0.7829 \n",
      "Val loss: 0.4947 | Val precision: 0.5952 | Val recall: 0.7550 | Val f1score: 0.6227 | Val acc: 0.7475 | Val kappa: 0.3831 \n",
      "\n",
      "Epoch: 11 \n",
      "Learning rate: 0.00021656184477479486\n",
      "Train loss: 0.3832 | Train precision: 0.8616 | Train recall: 0.8627 | Train f1score: 0.8617 | Train acc: 0.8264 | Train kappa: 0.7859 \n",
      "Val loss: 0.4352 | Val precision: 0.6558 | Val recall: 0.7322 | Val f1score: 0.6596 | Val acc: 0.7882 | Val kappa: 0.4258 \n",
      "\n",
      "Epoch: 12 \n",
      "Learning rate: 0.00018407756805857562\n",
      "Train loss: 0.3602 | Train precision: 0.8718 | Train recall: 0.8725 | Train f1score: 0.8720 | Train acc: 0.8397 | Train kappa: 0.8021 \n",
      "Val loss: 0.4056 | Val precision: 0.6241 | Val recall: 0.7524 | Val f1score: 0.6662 | Val acc: 0.8340 | Val kappa: 0.4836 \n",
      "\n",
      "Epoch: 13 \n",
      "Learning rate: 0.00015646593284978928\n",
      "Train loss: 0.3414 | Train precision: 0.8800 | Train recall: 0.8843 | Train f1score: 0.8818 | Train acc: 0.8494 | Train kappa: 0.8191 \n",
      "Val loss: 0.4186 | Val precision: 0.6631 | Val recall: 0.7471 | Val f1score: 0.6754 | Val acc: 0.8046 | Val kappa: 0.4516 \n",
      "\n",
      "Epoch: 14 \n",
      "Learning rate: 0.0001329960429223209\n",
      "Train loss: 0.3265 | Train precision: 0.8901 | Train recall: 0.8915 | Train f1score: 0.8898 | Train acc: 0.8582 | Train kappa: 0.8240 \n",
      "Val loss: 0.3818 | Val precision: 0.6546 | Val recall: 0.7438 | Val f1score: 0.6770 | Val acc: 0.8248 | Val kappa: 0.4678 \n",
      "\n",
      "Epoch: 15 \n",
      "Learning rate: 0.00011304663648397275\n",
      "Train loss: 0.3162 | Train precision: 0.8933 | Train recall: 0.8953 | Train f1score: 0.8937 | Train acc: 0.8630 | Train kappa: 0.8324 \n",
      "Val loss: 0.4189 | Val precision: 0.6738 | Val recall: 0.7470 | Val f1score: 0.6872 | Val acc: 0.8239 | Val kappa: 0.4739 \n",
      "\n",
      "Epoch: 16 \n",
      "Learning rate: 9.608964101137683e-05\n",
      "Train loss: 0.2927 | Train precision: 0.9011 | Train recall: 0.9035 | Train f1score: 0.9019 | Train acc: 0.8728 | Train kappa: 0.8473 \n",
      "Val loss: 0.4779 | Val precision: 0.6423 | Val recall: 0.7455 | Val f1score: 0.6568 | Val acc: 0.7771 | Val kappa: 0.4193 \n",
      "\n",
      "Epoch: 17 \n",
      "Learning rate: 8.16761948596703e-05\n",
      "Train loss: 0.2876 | Train precision: 0.9044 | Train recall: 0.9067 | Train f1score: 0.9050 | Train acc: 0.8763 | Train kappa: 0.8488 \n",
      "Val loss: 0.3977 | Val precision: 0.6823 | Val recall: 0.7217 | Val f1score: 0.6878 | Val acc: 0.8396 | Val kappa: 0.4840 \n",
      "\n",
      "Epoch: 18 \n",
      "Learning rate: 6.942476563071976e-05\n",
      "Train loss: 0.2811 | Train precision: 0.9058 | Train recall: 0.9088 | Train f1score: 0.9068 | Train acc: 0.8802 | Train kappa: 0.8531 \n",
      "Val loss: 0.4182 | Val precision: 0.6823 | Val recall: 0.7324 | Val f1score: 0.6876 | Val acc: 0.8299 | Val kappa: 0.4819 \n",
      "\n",
      "Early stopping after epoch 18\n",
      "Deleting variables and emptying cache\n",
      "Memory allocated: 1063552512 bytes\n",
      "--------------------------------------------------\n",
      "\n",
      "Check shapes:\n",
      "\n",
      "Images train dataset: (12764, 250, 250, 3)\n",
      "Labels train dataset: (12764, 1)\n",
      "\n",
      "Images validation dataset: (3209, 250, 250, 3)\n",
      "Labels validation dataset: (3209, 1)\n",
      "\n",
      "--------------------------------------------------\n",
      "Check if the split was stratified: (random_state=42)\n",
      "Healthy trees in train dataset: 11574\n",
      "Stressed trees in train dataset: 974\n",
      "Dead trees in train dataset: 216\n",
      "Healthy trees in validation dataset: 2891\n",
      "Stressed trees in validation dataset: 266\n",
      "Dead trees in validation dataset: 52\n",
      "Ratio health trees in validation dataset: 0.19986173522295195\n",
      "Ratio stressed trees in validation dataset: 0.21451612903225806\n",
      "Ratio dead trees in validation dataset: 0.19402985074626866\n",
      "--------------------------------------------------\n",
      "\n",
      "Creating datasets for fold: 5\n",
      "\n",
      "Creating dataloaders for fold: 5\n",
      "\n",
      "[INFO] Created new effnet_b7 model.\n",
      "\n",
      "[INFO] Fold number: 5\n",
      "[INFO] Number of epochs: 50\n",
      "[INFO] Batch_size: 32\n",
      "[INFO] Number of bands: 3\n",
      "[INFO] Dropout rate: 0.45\n",
      "[INFO] Gamma learning rate: 0.85\n",
      "[INFO] Created SummaryWriter, saving to: runs\\2023-04-08\\RGB_3classes\\EffNet_b7_RGB_3classes...\n"
     ]
    },
    {
     "data": {
      "application/vnd.jupyter.widget-view+json": {
       "model_id": "607285fb4d7543479861d5902d9a952f",
       "version_major": 2,
       "version_minor": 0
      },
      "text/plain": [
       "  0%|          | 0/50 [00:00<?, ?it/s]"
      ]
     },
     "metadata": {},
     "output_type": "display_data"
    },
    {
     "name": "stdout",
     "output_type": "stream",
     "text": [
      "Epoch: 1 \n",
      "Learning rate: 0.0011\n",
      "Train loss: 0.6750 | Train precision: 0.6968 | Train recall: 0.6867 | Train f1score: 0.6916 | Train acc: 0.6790 | Train kappa: 0.5928 \n",
      "Val loss: 0.4389 | Val precision: 0.6167 | Val recall: 0.6731 | Val f1score: 0.6235 | Val acc: 0.7975 | Val kappa: 0.4096 \n",
      "\n",
      "Epoch: 2 \n",
      "Learning rate: 0.0009350000000000001\n",
      "Train loss: 0.5636 | Train precision: 0.7616 | Train recall: 0.7638 | Train f1score: 0.7627 | Train acc: 0.7340 | Train kappa: 0.6738 \n",
      "Val loss: 0.3907 | Val precision: 0.6080 | Val recall: 0.7414 | Val f1score: 0.6571 | Val acc: 0.8413 | Val kappa: 0.4812 \n",
      "\n",
      "Epoch: 3 \n",
      "Learning rate: 0.00079475\n",
      "Train loss: 0.5449 | Train precision: 0.7744 | Train recall: 0.7715 | Train f1score: 0.7728 | Train acc: 0.7410 | Train kappa: 0.6895 \n",
      "Val loss: 0.3774 | Val precision: 0.6357 | Val recall: 0.7453 | Val f1score: 0.6776 | Val acc: 0.8441 | Val kappa: 0.5023 \n",
      "\n",
      "Epoch: 4 \n",
      "Learning rate: 0.0006755375\n",
      "Train loss: 0.5185 | Train precision: 0.7932 | Train recall: 0.7906 | Train f1score: 0.7917 | Train acc: 0.7608 | Train kappa: 0.7086 \n",
      "Val loss: 0.4169 | Val precision: 0.6827 | Val recall: 0.6990 | Val f1score: 0.6847 | Val acc: 0.8484 | Val kappa: 0.4836 \n",
      "\n",
      "Epoch: 5 \n",
      "Learning rate: 0.0005742068749999999\n",
      "Train loss: 0.4833 | Train precision: 0.8097 | Train recall: 0.8044 | Train f1score: 0.8068 | Train acc: 0.7742 | Train kappa: 0.7304 \n",
      "Val loss: 0.3164 | Val precision: 0.6900 | Val recall: 0.6991 | Val f1score: 0.6941 | Val acc: 0.8869 | Val kappa: 0.5561 \n",
      "\n",
      "Epoch: 6 \n",
      "Learning rate: 0.0004880758437499999\n",
      "Train loss: 0.4538 | Train precision: 0.8255 | Train recall: 0.8235 | Train f1score: 0.8245 | Train acc: 0.7908 | Train kappa: 0.7478 \n",
      "Val loss: 0.3974 | Val precision: 0.6056 | Val recall: 0.7339 | Val f1score: 0.6549 | Val acc: 0.8516 | Val kappa: 0.4799 \n",
      "\n",
      "Epoch: 7 \n",
      "Learning rate: 0.0004148644671874999\n",
      "Train loss: 0.4342 | Train precision: 0.8367 | Train recall: 0.8380 | Train f1score: 0.8374 | Train acc: 0.8044 | Train kappa: 0.7680 \n",
      "Val loss: 0.3639 | Val precision: 0.6564 | Val recall: 0.7569 | Val f1score: 0.6912 | Val acc: 0.8369 | Val kappa: 0.4921 \n",
      "\n",
      "Epoch: 8 \n",
      "Learning rate: 0.0003526347971093749\n",
      "Train loss: 0.4227 | Train precision: 0.8419 | Train recall: 0.8421 | Train f1score: 0.8420 | Train acc: 0.8052 | Train kappa: 0.7601 \n",
      "Val loss: 0.3749 | Val precision: 0.6731 | Val recall: 0.7617 | Val f1score: 0.7086 | Val acc: 0.8606 | Val kappa: 0.5375 \n",
      "\n",
      "Epoch: 9 \n",
      "Learning rate: 0.0002997395775429687\n",
      "Train loss: 0.3979 | Train precision: 0.8503 | Train recall: 0.8518 | Train f1score: 0.8510 | Train acc: 0.8179 | Train kappa: 0.7794 \n",
      "Val loss: 0.4766 | Val precision: 0.6345 | Val recall: 0.7926 | Val f1score: 0.6677 | Val acc: 0.7719 | Val kappa: 0.4160 \n",
      "\n",
      "Epoch: 10 \n",
      "Learning rate: 0.0002547786409115234\n",
      "Train loss: 0.3707 | Train precision: 0.8666 | Train recall: 0.8697 | Train f1score: 0.8681 | Train acc: 0.8347 | Train kappa: 0.7990 \n",
      "Val loss: 0.4329 | Val precision: 0.6020 | Val recall: 0.7760 | Val f1score: 0.6550 | Val acc: 0.8131 | Val kappa: 0.4514 \n",
      "\n",
      "Epoch: 11 \n",
      "Learning rate: 0.00021656184477479486\n",
      "Train loss: 0.3507 | Train precision: 0.8763 | Train recall: 0.8804 | Train f1score: 0.8781 | Train acc: 0.8456 | Train kappa: 0.8150 \n",
      "Val loss: 0.5030 | Val precision: 0.6490 | Val recall: 0.7904 | Val f1score: 0.6662 | Val acc: 0.7462 | Val kappa: 0.3898 \n",
      "\n",
      "Epoch: 12 \n",
      "Learning rate: 0.00018407756805857562\n",
      "Train loss: 0.3265 | Train precision: 0.8870 | Train recall: 0.8917 | Train f1score: 0.8891 | Train acc: 0.8586 | Train kappa: 0.8347 \n",
      "Val loss: 0.3869 | Val precision: 0.6398 | Val recall: 0.7757 | Val f1score: 0.6860 | Val acc: 0.8338 | Val kappa: 0.4852 \n",
      "\n",
      "Epoch: 13 \n",
      "Learning rate: 0.00015646593284978928\n",
      "Train loss: 0.3208 | Train precision: 0.8894 | Train recall: 0.8949 | Train f1score: 0.8918 | Train acc: 0.8628 | Train kappa: 0.8348 \n",
      "Val loss: 0.4691 | Val precision: 0.6117 | Val recall: 0.7761 | Val f1score: 0.6527 | Val acc: 0.7797 | Val kappa: 0.4138 \n",
      "\n",
      "Epoch: 14 \n",
      "Learning rate: 0.0001329960429223209\n",
      "Train loss: 0.3015 | Train precision: 0.8958 | Train recall: 0.9008 | Train f1score: 0.8980 | Train acc: 0.8692 | Train kappa: 0.8444 \n",
      "Val loss: 0.4860 | Val precision: 0.6085 | Val recall: 0.7707 | Val f1score: 0.6469 | Val acc: 0.7713 | Val kappa: 0.4142 \n",
      "\n",
      "Epoch: 15 \n",
      "Learning rate: 0.00011304663648397275\n",
      "Train loss: 0.2804 | Train precision: 0.9070 | Train recall: 0.9123 | Train f1score: 0.9092 | Train acc: 0.8821 | Train kappa: 0.8626 \n",
      "Val loss: 0.4700 | Val precision: 0.6395 | Val recall: 0.7857 | Val f1score: 0.6696 | Val acc: 0.7719 | Val kappa: 0.4166 \n",
      "\n",
      "Epoch: 16 \n",
      "Learning rate: 9.608964101137683e-05\n",
      "Train loss: 0.2767 | Train precision: 0.9060 | Train recall: 0.9121 | Train f1score: 0.9086 | Train acc: 0.8842 | Train kappa: 0.8610 \n",
      "Val loss: 0.3871 | Val precision: 0.6192 | Val recall: 0.7587 | Val f1score: 0.6707 | Val acc: 0.8462 | Val kappa: 0.4897 \n",
      "\n",
      "Epoch: 17 \n",
      "Learning rate: 8.16761948596703e-05\n",
      "Train loss: 0.2670 | Train precision: 0.9125 | Train recall: 0.9167 | Train f1score: 0.9143 | Train acc: 0.8895 | Train kappa: 0.8679 \n",
      "Val loss: 0.3982 | Val precision: 0.6381 | Val recall: 0.7693 | Val f1score: 0.6837 | Val acc: 0.8350 | Val kappa: 0.4831 \n",
      "\n",
      "Epoch: 18 \n",
      "Learning rate: 6.942476563071976e-05\n",
      "Train loss: 0.2560 | Train precision: 0.9175 | Train recall: 0.9212 | Train f1score: 0.9189 | Train acc: 0.8963 | Train kappa: 0.8799 \n",
      "Val loss: 0.4271 | Val precision: 0.6333 | Val recall: 0.7684 | Val f1score: 0.6749 | Val acc: 0.8141 | Val kappa: 0.4600 \n",
      "\n",
      "Early stopping after epoch 18\n",
      "Deleting variables and emptying cache\n",
      "Memory allocated: 1066247680 bytes\n",
      "--------------------------------------------------\n",
      "\n",
      "CPU times: total: 5h 30min 5s\n",
      "Wall time: 8h 17min 6s\n"
     ]
    }
   ],
   "source": [
    "%%time\n",
    "\n",
    "# Set the random seeds\n",
    "set_seeds(42)\n",
    "\n",
    "# Define the number of folds\n",
    "num_folds = 5\n",
    "\n",
    "# Create a KFold object\n",
    "kf = KFold(n_splits=num_folds, shuffle=True, random_state=42)\n",
    "\n",
    "unique_values = np.unique(hash_id) # now there are less unique values left because we seperated the test dataset\n",
    "num_unique = len(unique_values)\n",
    "print(f\"There are {num_unique} unique values within hash_id.\\n\")\n",
    "\n",
    "# Loop over each fold\n",
    "for fold, (train_ids, val_ids) in enumerate(kf.split(unique_values)):\n",
    "    torch.cuda.empty_cache()\n",
    "    \n",
    "    # 1. Split data into train and validation set\n",
    "    # Get the training and testing data for this fold\n",
    "    # Use np.isin() to create boolean arrays indicating which indices belong to train or test sets\n",
    "    train_indices = np.isin(hash_id, unique_values[train_ids])\n",
    "    val_indices = np.isin(hash_id, unique_values[val_ids])\n",
    "    \n",
    "    # Reshape boolean arrays to match shape of image_set and label_set\n",
    "    train_indices = train_indices.reshape(-1, 1)\n",
    "    val_indices = val_indices.reshape(-1, 1)\n",
    "  \n",
    "    # Select images and labels for train and validation sets\n",
    "    train_image_set = image_set[train_indices[:, 0]]\n",
    "    train_label_set = label_set[train_indices[:, 0]]\n",
    "    train_hash_id = hash_id[train_indices[:, 0]]\n",
    "    train_species_set = species_set[train_indices[:, 0]]\n",
    "    val_image_set = image_set[val_indices[:, 0]]\n",
    "    val_label_set = label_set[val_indices[:, 0]]\n",
    "    val_hash_id = hash_id[val_indices[:, 0]]\n",
    "    val_species_set = species_set[val_indices[:, 0]]\n",
    "    train_label_set = train_label_set.reshape(-1, 1)\n",
    "    val_label_set = val_label_set.reshape(-1, 1)\n",
    "    train_hash_id = train_hash_id.reshape(-1, 1)\n",
    "    val_hash_id = val_hash_id.reshape(-1, 1)\n",
    "    train_species_set = train_species_set.reshape(-1, 1)\n",
    "    val_species_set = val_species_set.reshape(-1, 1)\n",
    "            \n",
    "    print(\"Check shapes:\\n\")\n",
    "    print(f\"Images train dataset: {train_image_set.shape}\")\n",
    "    print(f\"Labels train dataset: {train_label_set.shape}\\n\")\n",
    "    \n",
    "    print(f\"Images validation dataset: {val_image_set.shape}\")\n",
    "    print(f\"Labels validation dataset: {val_label_set.shape}\\n\")\n",
    "    print('-'*50)\n",
    "    print (f\"Check if the split was stratified: (random_state=42)\")\n",
    "    print(f\"Healthy trees in train dataset: {np.count_nonzero(train_label_set == 0)}\")\n",
    "    print(f\"Stressed trees in train dataset: {np.count_nonzero(train_label_set == 1)}\")\n",
    "    print(f\"Dead trees in train dataset: {np.count_nonzero(train_label_set == 2)}\")\n",
    "    print(f\"Healthy trees in validation dataset: {np.count_nonzero(val_label_set == 0)}\")\n",
    "    print(f\"Stressed trees in validation dataset: {np.count_nonzero(val_label_set == 1)}\")\n",
    "    print(f\"Dead trees in validation dataset: {np.count_nonzero(val_label_set == 2)}\")\n",
    "    print(f\"Ratio health trees in validation dataset: {np.count_nonzero(val_label_set == 0)/np.count_nonzero(label_set == 0)}\")\n",
    "    print(f\"Ratio stressed trees in validation dataset: {np.count_nonzero(val_label_set == 1)/np.count_nonzero(label_set == 1)}\")\n",
    "    print(f\"Ratio dead trees in validation dataset: {np.count_nonzero(val_label_set == 2)/np.count_nonzero(label_set == 2)}\")\n",
    "    print(\"-\"*50)\n",
    "    \n",
    "    \n",
    "    # 2. Create train and validation dataset. (choose custom dataset loader with 3 - 5 classes)\n",
    "    print(f\"\\nCreating datasets for fold: {fold + 1}\\n\")\n",
    "    train_dataset = data_loader.CustomDataset3Classes_v2(data=train_image_set, labels=train_label_set, class_names=class_names, species = train_species_set,\n",
    "                                                         transform=transform_train)\n",
    "    \n",
    "    val_dataset = data_loader.CustomDataset3Classes_v2(data=val_image_set, labels=val_label_set, class_names=class_names,\n",
    "                                                       species = val_species_set, transform=transform)\n",
    "   \n",
    "    # 3. Create train and validation dataloader\n",
    "    # create sampler for oversampling of the minority classes\n",
    "    sampler = data_loader.data_sampler(dataset=train_dataset, class_names=class_names)\n",
    "    print(f\"Creating dataloaders for fold: {fold +1}\\n\")\n",
    "    train_dataloader = DataLoader(train_dataset, batch_size=batch_size, persistent_workers=True, pin_memory=True, num_workers=NUM_WORKERS, generator=g,\n",
    "                              sampler=sampler, shuffle=False, drop_last=True) # shuffle false because of the sampler\n",
    "\n",
    "    val_dataloader = DataLoader(val_dataset, batch_size=batch_size, persistent_workers=True, pin_memory=True, num_workers=NUM_WORKERS, shuffle=False,\n",
    "                             drop_last=True)\n",
    "    \n",
    "    model = models.create_effnetb7(output_shape=num_classes, unfreeze=unfreeze, dropout_rate=dropout_rate, device=device)\n",
    "    loss_fn = nn.CrossEntropyLoss()\n",
    "    optimizer = torch.optim.Adam(params=model.parameters(), lr=lr)\n",
    "    #lr_scheduler = StepLR(optimizer, step_size=step_size, gamma=gamma)\n",
    "    lr_scheduler = ExponentialLR(optimizer, gamma=gamma)\n",
    "\n",
    "    fold += 1\n",
    "    print(f\"\\n[INFO] Fold number: {fold}\")\n",
    "    print(f\"[INFO] Number of epochs: {epochs}\")\n",
    "    print(f\"[INFO] Batch_size: {batch_size}\")\n",
    "    print(f\"[INFO] Number of bands: {n_bands}\")\n",
    "    print(f\"[INFO] Dropout rate: {dropout_rate}\")\n",
    "    print(f\"[INFO] Gamma learning rate: {gamma}\")\n",
    "    # 4. Train model with k fold dataloaders and track experiments\n",
    "    if fold == 1:\n",
    "        fold1_results = train(model=model, model_name=model_name, n_bands=n_bands, batch_size=batch_size,train_dataloader=train_dataloader, val_dataloader=val_dataloader, \n",
    "                        optimizer=optimizer, loss_fn=loss_fn, lr_scheduler=lr_scheduler, num_classes=num_classes, epochs=epochs, experiment_num=fold, device=device,\n",
    "                        writer=create_writer(experiment_name=experiment_name, model_name=model_name, extra=extra), early_stop_patience = patience)\n",
    "       \n",
    "    elif fold == 2:\n",
    "        fold2_results = train(model=model, model_name=model_name, n_bands=n_bands, batch_size=batch_size,train_dataloader=train_dataloader, val_dataloader=val_dataloader, \n",
    "                        optimizer=optimizer, loss_fn=loss_fn, lr_scheduler=lr_scheduler, num_classes=num_classes, epochs=epochs, experiment_num=fold, device=device,\n",
    "                        writer=create_writer(experiment_name=experiment_name, model_name=model_name, extra=extra), early_stop_patience = patience)\n",
    "    elif fold == 3:\n",
    "        fold3_results = train(model=model, model_name=model_name, n_bands=n_bands, batch_size=batch_size,train_dataloader=train_dataloader, val_dataloader=val_dataloader, \n",
    "                        optimizer=optimizer, loss_fn=loss_fn, lr_scheduler=lr_scheduler, num_classes=num_classes, epochs=epochs, experiment_num=fold, device=device,\n",
    "                        writer=create_writer(experiment_name=experiment_name, model_name=model_name, extra=extra), early_stop_patience = patience)\n",
    "    elif fold == 4:\n",
    "        fold4_results = train(model=model, model_name=model_name, n_bands=n_bands, batch_size=batch_size,train_dataloader=train_dataloader, val_dataloader=val_dataloader, \n",
    "                        optimizer=optimizer, loss_fn=loss_fn, lr_scheduler=lr_scheduler, num_classes=num_classes, epochs=epochs, experiment_num=fold, device=device,\n",
    "                        writer=create_writer(experiment_name=experiment_name, model_name=model_name, extra=extra), early_stop_patience = patience)\n",
    "    else:\n",
    "        fold5_results = train(model=model, model_name=model_name, n_bands=n_bands, batch_size=batch_size,train_dataloader=train_dataloader, val_dataloader=val_dataloader, \n",
    "                        optimizer=optimizer, loss_fn=loss_fn, lr_scheduler=lr_scheduler, num_classes=num_classes, epochs=epochs, experiment_num=fold, device=device,\n",
    "                        writer=create_writer(experiment_name=experiment_name, model_name=model_name, extra=extra), early_stop_patience = patience)\n",
    "    \n",
    "    del train_indices, val_indices, train_image_set, train_label_set, train_hash_id, train_species_set, val_image_set, val_label_set, val_hash_id, val_species_set,\n",
    "    train_dataset, val_dataset, sampler, train_dataloader, val_dataloader, model, loss_fn, optimizer, lr_scheduler\n",
    "\n",
    "    print(\"Deleting variables and emptying cache\")\n",
    "    gc.collect()\n",
    "    torch.cuda.empty_cache()\n",
    "    print(f\"Memory allocated: {torch.cuda.memory_allocated()} bytes\")\n",
    "    print(\"-\"*50 + \"\\n\")"
   ]
  },
  {
   "cell_type": "code",
   "execution_count": null,
   "id": "c0c36ebb",
   "metadata": {},
   "outputs": [],
   "source": [
    "# create test dataset\n",
    "test_dataset = data_loader.CustomDataset3Classes(\n",
    "    data = test_image_set,\n",
    "    labels = test_label_set,\n",
    "    class_names=class_names, \n",
    "    species = test_species_set,\n",
    "    kkl = test_kkl_set,\n",
    "    transform=transform\n",
    ")\n",
    "\n",
    "# create test dataloader\n",
    "test_dataloader = DataLoader(test_dataset,\n",
    "                             batch_size=batch_size,\n",
    "                             persistent_workers=True,\n",
    "                             pin_memory=True,\n",
    "                             num_workers=NUM_WORKERS,\n",
    "                             shuffle=False,\n",
    "                             drop_last=True)"
   ]
  },
  {
   "cell_type": "code",
   "execution_count": 60,
   "id": "67db5af2",
   "metadata": {},
   "outputs": [
    {
     "name": "stdout",
     "output_type": "stream",
     "text": [
      "[INFO] Created new effnet_b0 model.\n"
     ]
    },
    {
     "data": {
      "text/plain": [
       "<All keys matched successfully>"
      ]
     },
     "execution_count": 60,
     "metadata": {},
     "output_type": "execute_result"
    }
   ],
   "source": [
    "# Setup the best model filepath\n",
    "best_model_path = r\"C:\\Users\\lwfeckesim\\01_PyTorch\\wze-uav\\wze-uav-master\\effnet_b0\\01_18_epochs.pth\"\n",
    "\n",
    "# Instantiate a new instance of EffNetB0 (to load the saved state_dict() to)\n",
    "unfreeze=True\n",
    "best_model = models.create_effnetb0(output_shape=num_classes, unfreeze=unfreeze, dropout_rate=dropout_rate, device=device)\n",
    "\n",
    "# Load the saved best model state_dict()\n",
    "best_model.load_state_dict(torch.load(best_model_path))"
   ]
  },
  {
   "cell_type": "code",
   "execution_count": 61,
   "id": "6dfbc663",
   "metadata": {},
   "outputs": [],
   "source": [
    "def make_predictions(model: torch.nn.Module, \n",
    "                     test_dataloader: torch.utils.data.DataLoader,\n",
    "                     device: torch.device):\n",
    "    # 1. Make predictions with trained model\n",
    "    y_preds = []\n",
    "    y_labels = []\n",
    "    test_loss, test_precision, test_recall, test_f1_score, test_acc = 0, 0, 0, 0, 0\n",
    "    count = 0\n",
    "    model.eval()\n",
    "    with torch.inference_mode():\n",
    "        for X, y in tqdm(test_dataloader, desc=\"Making predictions\"):\n",
    "            # Send data and targets to target device\n",
    "            X, y = X.to(device), y.to(device)\n",
    "            # Do the forward pass\n",
    "            y_logit = model(X)\n",
    "            # Turn predictions from logits -> prediction probabilities -> predictions labels\n",
    "            y_pred = torch.softmax(y_logit, dim=1).argmax(dim=1)\n",
    "            # Put predictions on CPU for evaluation\n",
    "            y_preds.append(y_pred.cpu())\n",
    "            y_labels.append(y.cpu())\n",
    "            \n",
    "            #other metrics\n",
    "            test_acc += ((y_pred == y).sum().item()/len(y_pred))\n",
    "            y_pred_class = y_pred.detach().cpu().numpy() \n",
    "            y_class = y.detach().cpu().numpy()\n",
    "            labels = np.array([0])\n",
    "            test_precision += precision_score(y_class, y_pred_class, average='macro', zero_division=0, labels=[0,1,2])\n",
    "            test_recall += recall_score(y_class, y_pred_class, average='macro', zero_division=0, labels=[0,1,2])\n",
    "            #test_f1_score += f1_score(y_class, y_pred_class, average='macro', zero_division=1, labels=labels)\n",
    "            \n",
    "            #if count >= 1:\n",
    "            #    y_set = torch.cat((y_set, y))\n",
    "            #    count = count + 1\n",
    "            #else:\n",
    "            #    y_set = y\n",
    "            #    count = count + 1\n",
    "            \n",
    "    test_loss = test_loss / len(test_dataloader)\n",
    "    test_precision = test_precision / len(test_dataloader)\n",
    "    test_recall = test_recall / len(test_dataloader)\n",
    "    test_f1_score = test_f1_score / len(test_dataloader)\n",
    "    #test_kappa = test_kappa / len(dataloader)\n",
    "    test_acc = test_acc / len(test_dataloader)\n",
    "    # Concatenate list of predictions into a tensor\n",
    "    y_pred_tensor = torch.cat(y_preds)\n",
    "    y_labels_tensor = torch.cat(y_labels)\n",
    "    test_f1_score = f1_score(y_labels_tensor.detach().cpu().numpy(), y_pred_tensor.cpu().numpy(), average='macro', zero_division=1, labels=[0,1,2])\n",
    "    \n",
    "    # Print classification report\n",
    "    y_true = y_labels_tensor.detach().cpu().numpy()\n",
    "    report = classification_report(y_true, y_pred_tensor.cpu().numpy(), target_names=class_names)\n",
    "    print(report)\n",
    "    \n",
    "    return y_pred_tensor, y_labels_tensor, test_loss, test_recall, test_precision, test_f1_score, test_acc, y_logit, y_pred, y, y_preds"
   ]
  },
  {
   "cell_type": "code",
   "execution_count": 62,
   "id": "aab9e321",
   "metadata": {},
   "outputs": [
    {
     "data": {
      "application/vnd.jupyter.widget-view+json": {
       "model_id": "46b3144341ab41f3b234434aa09299e1",
       "version_major": 2,
       "version_minor": 0
      },
      "text/plain": [
       "Making predictions:   0%|          | 0/156 [00:00<?, ?it/s]"
      ]
     },
     "metadata": {},
     "output_type": "display_data"
    },
    {
     "name": "stdout",
     "output_type": "stream",
     "text": [
      "              precision    recall  f1-score   support\n",
      "\n",
      "     healthy       0.95      0.88      0.92      2228\n",
      "    stressed       0.32      0.56      0.41       226\n",
      "        dead       0.84      0.86      0.85        42\n",
      "\n",
      "    accuracy                           0.85      2496\n",
      "   macro avg       0.70      0.77      0.72      2496\n",
      "weighted avg       0.89      0.85      0.87      2496\n",
      "\n",
      "Test loss: 0.0\n",
      "Test precision: 0.4154684139459786\n",
      "Test recall: 0.41671078506014464\n",
      "Test F1score: 0.7247865216737815\n",
      "Test Accuracy: 0.8525641025641025\n",
      "Test Logits: tensor([[ 1.7014,  0.8877, -5.1889],\n",
      "        [ 2.3632,  0.8889, -6.1630],\n",
      "        [ 2.2219,  0.9962, -6.0906],\n",
      "        [-0.6744,  0.1306,  0.6790],\n",
      "        [ 0.9584,  1.0023, -4.1342],\n",
      "        [ 1.1653,  0.9413, -4.2456],\n",
      "        [ 1.9196,  1.0043, -5.6535],\n",
      "        [ 0.5722,  0.7214, -2.7888],\n",
      "        [ 2.0116,  1.1527, -6.1480],\n",
      "        [ 2.0599,  1.0727, -6.0320],\n",
      "        [ 2.1480,  0.9218, -5.8122],\n",
      "        [ 1.8820,  0.8687, -5.2790],\n",
      "        [ 1.5475,  1.0596, -5.1709],\n",
      "        [ 1.8884,  0.9385, -5.4567],\n",
      "        [ 1.7652,  1.0623, -5.5407],\n",
      "        [ 1.1063,  0.8732, -4.0481]], device='cuda:0')\n",
      "Test Predictions: tensor([0, 0, 0, 2, 1, 0, 0, 1, 0, 0, 0, 0, 0, 0, 0, 0], device='cuda:0')\n",
      "Test Labels: tensor([0, 0, 0, 0, 0, 0, 0, 0, 0, 0, 0, 0, 0, 0, 0, 0], device='cuda:0')\n"
     ]
    },
    {
     "data": {
      "image/png": "[encoded data removed]",
      "text/plain": [
       "<Figure size 720x504 with 1 Axes>"
      ]
     },
     "metadata": {
      "needs_background": "light"
     },
     "output_type": "display_data"
    }
   ],
   "source": [
    "# 2. Setup confusion matrix instance and compare predictions to targets\n",
    "#from wze_uav.analysis import *\n",
    "y_pred_tensor, y_labels_tensor, test_loss, test_recall, test_precision, test_f1_score, test_acc, y_logit, y_pred, y, y_preds = make_predictions(model=best_model,\n",
    "                                 test_dataloader=test_dataloader, \n",
    "                                 device=device)\n",
    "\n",
    "y_labels_tensor = y_labels_tensor.detach().cpu().numpy()\n",
    "y_pred_tensor = y_pred_tensor.detach().cpu().numpy()\n",
    "\n",
    "#confmat = ConfusionMatrix(num_classes=num_classes, task='multiclass')\n",
    "#confmat_tensor = confmat(preds=y_pred_tensor,\n",
    "#                         target=test_labels)\n",
    "labels = np.array([0,1,2])\n",
    "confmat = confusion_matrix(y_labels_tensor, y_pred_tensor, labels=labels)\n",
    "\n",
    "# 3. Plot the confusion matrix\n",
    "fig, ax = plot_confusion_matrix(\n",
    "    conf_mat=confmat, # matplotlib likes working with NumPy \n",
    "    class_names=class_names, # turn the row and column labels into class names\n",
    "    figsize=(10, 7)\n",
    ");\n",
    "\n",
    "print(f\"Test loss: {test_loss}\")\n",
    "print(f\"Test precision: {test_precision}\")\n",
    "print(f\"Test recall: {test_recall}\")\n",
    "print(f\"Test F1score: {test_f1_score}\")\n",
    "#print(f\"Test Kappa: {test_kappa}\")\n",
    "print(f\"Test Accuracy: {test_acc}\")\n",
    "print(f\"Test Logits: {y_logit}\")\n",
    "print(f\"Test Predictions: {y_pred}\")\n",
    "print(f\"Test Labels: {y}\")"
   ]
  },
  {
   "cell_type": "code",
   "execution_count": 48,
   "id": "8d4173b3",
   "metadata": {},
   "outputs": [
    {
     "data": {
      "text/plain": [
       "156"
      ]
     },
     "execution_count": 48,
     "metadata": {},
     "output_type": "execute_result"
    }
   ],
   "source": [
    "len(y_preds)"
   ]
  },
  {
   "cell_type": "code",
   "execution_count": 92,
   "id": "7588116f",
   "metadata": {},
   "outputs": [
    {
     "ename": "NameError",
     "evalue": "name 'y_set' is not defined",
     "output_type": "error",
     "traceback": [
      "\u001b[1;31m---------------------------------------------------------------------------\u001b[0m",
      "\u001b[1;31mNameError\u001b[0m                                 Traceback (most recent call last)",
      "Input \u001b[1;32mIn [92]\u001b[0m, in \u001b[0;36m<cell line: 1>\u001b[1;34m()\u001b[0m\n\u001b[1;32m----> 1\u001b[0m \u001b[43my_set\u001b[49m\u001b[38;5;241m.\u001b[39mcpu()\n",
      "\u001b[1;31mNameError\u001b[0m: name 'y_set' is not defined"
     ]
    }
   ],
   "source": [
    "y_set.cpu()"
   ]
  },
  {
   "cell_type": "code",
   "execution_count": 141,
   "id": "1c195b3e",
   "metadata": {},
   "outputs": [
    {
     "data": {
      "text/plain": [
       "tensor([1, 0, 1,  ..., 0, 0, 0])"
      ]
     },
     "execution_count": 141,
     "metadata": {},
     "output_type": "execute_result"
    }
   ],
   "source": [
    "test_dataset.labels"
   ]
  },
  {
   "cell_type": "code",
   "execution_count": null,
   "id": "975ec08c",
   "metadata": {},
   "outputs": [],
   "source": []
  },
  {
   "cell_type": "code",
   "execution_count": 139,
   "id": "6da05604",
   "metadata": {},
   "outputs": [
    {
     "data": {
      "application/vnd.jupyter.widget-view+json": {
       "model_id": "a223988f3a8b4b2eae8b8b3b3f7776de",
       "version_major": 2,
       "version_minor": 0
      },
      "text/plain": [
       "Making predictions:   0%|          | 0/156 [00:00<?, ?it/s]"
      ]
     },
     "metadata": {},
     "output_type": "display_data"
    },
    {
     "name": "stdout",
     "output_type": "stream",
     "text": [
      "              precision    recall  f1-score   support\n",
      "\n",
      "     healthy       0.94      0.90      0.92      2228\n",
      "    stressed       0.42      0.31      0.35       226\n",
      "        dead       0.19      0.83      0.32        42\n",
      "\n",
      "    accuracy                           0.85      2496\n",
      "   macro avg       0.52      0.68      0.53      2496\n",
      "weighted avg       0.88      0.85      0.86      2496\n",
      "\n"
     ]
    }
   ],
   "source": [
    "y_preds = []\n",
    "y_labels = []\n",
    "labels = np.array([0,1,2])\n",
    "test_loss, test_precision, test_recall, test_f1_score, test_acc = 0, 0, 0, 0, 0\n",
    "count = 0\n",
    "model.eval()\n",
    "with torch.inference_mode():\n",
    "    for X, y in tqdm(test_dataloader, desc=\"Making predictions\"):\n",
    "        # Send data and targets to target device\n",
    "        X, y = X.to(device), y.to(device)\n",
    "        # Do the forward pass\n",
    "        y_logit = model(X)\n",
    "        # Turn predictions from logits -> prediction probabilities -> predictions labels\n",
    "        y_pred = torch.softmax(y_logit, dim=1).argmax(dim=1)\n",
    "        # Put predictions on CPU for evaluation\n",
    "        y_preds.append(y_pred.cpu())\n",
    "        y_labels.append(y.cpu())\n",
    "        \n",
    "        #other metrics\n",
    "        test_acc += ((y_pred == y).sum().item()/len(y_pred))\n",
    "        y_pred_class = y_pred.detach().cpu().numpy() \n",
    "        y_class = y.detach().cpu().numpy()\n",
    "        test_precision += precision_score(y_class, y_pred_class, average='macro', zero_division=1, labels=labels)\n",
    "        test_recall += recall_score(y_class, y_pred_class, average='macro', zero_division=1, labels=labels)\n",
    "        #test_f1_score += f1_score(y_class, y_pred_class, average='macro', zero_division=1, labels=labels)\n",
    "        \n",
    "        #if count >= 1:\n",
    "        #    y_set = torch.cat((y_set, y))\n",
    "        #    count = count + 1\n",
    "        #else:\n",
    "        #    y_set = y\n",
    "        #    count = count + 1\n",
    "        \n",
    "test_loss = test_loss / len(test_dataloader)\n",
    "test_precision = test_precision / len(test_dataloader)\n",
    "test_recall = test_recall / len(test_dataloader)\n",
    "#test_f1_score = test_f1_score / len(test_dataloader)\n",
    "#test_kappa = test_kappa / len(dataloader)\n",
    "test_acc = test_acc / len(test_dataloader)\n",
    "# Concatenate list of predictions into a tensor\n",
    "y_pred_tensor = torch.cat(y_preds)\n",
    "test_f1_score = f1_score(y_set.detach().cpu().numpy(), y_pred_tensor.cpu().numpy(), average='macro', zero_division=0, labels=[0,1,2])\n",
    "\n",
    "# Print classification report\n",
    "y_true = y_set.detach().cpu().numpy()\n",
    "report = classification_report(y_true, y_pred_tensor.cpu().numpy(), target_names=class_names)\n",
    "print(report)"
   ]
  },
  {
   "cell_type": "code",
   "execution_count": 140,
   "id": "6ae97fab",
   "metadata": {},
   "outputs": [
    {
     "data": {
      "text/plain": [
       "0.528680154128826"
      ]
     },
     "execution_count": 140,
     "metadata": {},
     "output_type": "execute_result"
    }
   ],
   "source": [
    "test_f1_score"
   ]
  },
  {
   "cell_type": "code",
   "execution_count": 122,
   "id": "7ebafd9b",
   "metadata": {},
   "outputs": [
    {
     "data": {
      "text/plain": [
       "array([ True,  True,  True, False,  True, False,  True, False,  True,\n",
       "        True,  True,  True,  True,  True,  True,  True])"
      ]
     },
     "execution_count": 122,
     "metadata": {},
     "output_type": "execute_result"
    }
   ],
   "source": [
    "make = (y_class == y_pred_class)\n",
    "make"
   ]
  },
  {
   "cell_type": "code",
   "execution_count": 99,
   "id": "4f8aa759",
   "metadata": {},
   "outputs": [
    {
     "data": {
      "text/plain": [
       "tensor([0, 0, 0, 2, 0, 1, 0, 1, 0, 0, 0, 0, 0, 0, 0, 0], device='cuda:0')"
      ]
     },
     "execution_count": 99,
     "metadata": {},
     "output_type": "execute_result"
    }
   ],
   "source": [
    "torch.softmax(y_logit, dim=1).argmax(dim=1)"
   ]
  },
  {
   "cell_type": "code",
   "execution_count": 101,
   "id": "f90a54b2",
   "metadata": {},
   "outputs": [
    {
     "data": {
      "text/plain": [
       "tensor([0, 0, 0, 0, 0, 0, 0, 0, 0, 0, 0, 0, 0, 0, 0, 0], device='cuda:0')"
      ]
     },
     "execution_count": 101,
     "metadata": {},
     "output_type": "execute_result"
    }
   ],
   "source": [
    "y"
   ]
  },
  {
   "cell_type": "code",
   "execution_count": 112,
   "id": "5a806154",
   "metadata": {},
   "outputs": [],
   "source": [
    "test = (y_pred == y).sum().item()/16"
   ]
  },
  {
   "cell_type": "code",
   "execution_count": 113,
   "id": "1da35c56",
   "metadata": {},
   "outputs": [
    {
     "data": {
      "text/plain": [
       "0.8125"
      ]
     },
     "execution_count": 113,
     "metadata": {},
     "output_type": "execute_result"
    }
   ],
   "source": [
    "test"
   ]
  },
  {
   "cell_type": "code",
   "execution_count": 114,
   "id": "b1eb246e",
   "metadata": {},
   "outputs": [],
   "source": [
    " y_pred_class = y_pred.detach().cpu().numpy() "
   ]
  },
  {
   "cell_type": "code",
   "execution_count": 115,
   "id": "602e096f",
   "metadata": {},
   "outputs": [
    {
     "data": {
      "text/plain": [
       "array([0, 0, 0, 2, 0, 1, 0, 1, 0, 0, 0, 0, 0, 0, 0, 0], dtype=int64)"
      ]
     },
     "execution_count": 115,
     "metadata": {},
     "output_type": "execute_result"
    }
   ],
   "source": [
    "y_pred_class"
   ]
  },
  {
   "cell_type": "code",
   "execution_count": null,
   "id": "eaf1af09",
   "metadata": {},
   "outputs": [],
   "source": []
  }
 ],
 "metadata": {
  "kernelspec": {
   "display_name": "Python 3 (ipykernel)",
   "language": "python",
   "name": "python3"
  },
  "language_info": {
   "codemirror_mode": {
    "name": "ipython",
    "version": 3
   },
   "file_extension": ".py",
   "mimetype": "text/x-python",
   "name": "python",
   "nbconvert_exporter": "python",
   "pygments_lexer": "ipython3",
   "version": "3.9.16"
  }
 },
 "nbformat": 4,
 "nbformat_minor": 5
}
