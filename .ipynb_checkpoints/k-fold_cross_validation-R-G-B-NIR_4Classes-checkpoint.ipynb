{
 "cells": [
  {
   "cell_type": "markdown",
   "id": "c1acdaa3",
   "metadata": {},
   "source": [
    "# WZE-UAV Image Classification using Deep Learning"
   ]
  },
  {
   "cell_type": "code",
   "execution_count": 1,
   "id": "2159aac5",
   "metadata": {},
   "outputs": [],
   "source": [
    "import os\n",
    "import gc\n",
    "import glob\n",
    "import numpy as np\n",
    "from pathlib import Path\n",
    "from tqdm.auto import tqdm\n",
    "from sklearn.metrics import confusion_matrix, classification_report\n",
    "from sklearn.model_selection import KFold"
   ]
  },
  {
   "cell_type": "code",
   "execution_count": 2,
   "id": "0026f7a9",
   "metadata": {},
   "outputs": [],
   "source": [
    "import torch\n",
    "import torchvision.transforms as T\n",
    "import torchvision\n",
    "from torch import nn\n",
    "from torch.utils.data import DataLoader\n",
    "from torchvision import datasets, transforms\n",
    "from torch.utils.data import Dataset\n",
    "import torch.optim as optim\n",
    "from torch.optim.lr_scheduler import ExponentialLR\n",
    "from mlxtend.plotting import plot_confusion_matrix"
   ]
  },
  {
   "cell_type": "code",
   "execution_count": 3,
   "id": "b160d7b4",
   "metadata": {},
   "outputs": [],
   "source": [
    "import wze_uav.data_loader as data_loader\n",
    "import wze_uav.models as models\n",
    "from wze_uav.engine import *\n",
    "from wze_uav.utils2 import *\n",
    "#from wze_uav.log_writer import create_writer\n",
    "from wze_uav.datasplit import *\n",
    "from efficientnet import model_effnet #for custom effnet with n_channels input\n",
    "import wandb"
   ]
  },
  {
   "cell_type": "markdown",
   "id": "2bd4fb2f",
   "metadata": {},
   "source": [
    "#### Get PyTorch version"
   ]
  },
  {
   "cell_type": "code",
   "execution_count": 4,
   "id": "c10886b1",
   "metadata": {},
   "outputs": [
    {
     "name": "stdout",
     "output_type": "stream",
     "text": [
      "torch version: 1.13.1+cu116\n",
      "torchvision version: 0.14.1+cu116\n"
     ]
    }
   ],
   "source": [
    "print(f\"torch version: {torch.__version__}\")\n",
    "print(f\"torchvision version: {torchvision.__version__}\")"
   ]
  },
  {
   "cell_type": "markdown",
   "id": "aa6a83cf",
   "metadata": {},
   "source": [
    "#### Preparing device agnostic code "
   ]
  },
  {
   "cell_type": "code",
   "execution_count": 5,
   "id": "13d5de88",
   "metadata": {},
   "outputs": [
    {
     "name": "stdout",
     "output_type": "stream",
     "text": [
      "cuda\n",
      "Index of current divice: 0\n",
      "Number of GPUs available: 1\n",
      "GPU Model: Quadro RTX 8000\n"
     ]
    }
   ],
   "source": [
    "# ensure device agnostic code\n",
    "device = 'cuda' if torch.cuda.is_available() else 'cpu'\n",
    "print(device)\n",
    "\n",
    "# get index of currently selected device\n",
    "print(f\"Index of current divice: {torch.cuda.current_device()}\")\n",
    "# get number of GPUs available\n",
    "print(f\"Number of GPUs available: {torch.cuda.device_count()}\")\n",
    "# get the name of the device\n",
    "print(f\"GPU Model: {torch.cuda.get_device_name(0)}\")"
   ]
  },
  {
   "cell_type": "markdown",
   "id": "8ef6b169",
   "metadata": {},
   "source": [
    "#### Login to Weights & Biases to track results"
   ]
  },
  {
   "cell_type": "code",
   "execution_count": 6,
   "id": "a59d27cf",
   "metadata": {},
   "outputs": [
    {
     "name": "stderr",
     "output_type": "stream",
     "text": [
      "Failed to detect the name of this notebook, you can set it manually with the WANDB_NOTEBOOK_NAME environment variable to enable code saving.\n",
      "\u001b[34m\u001b[1mwandb\u001b[0m: Currently logged in as: \u001b[33msimon-ecke\u001b[0m. Use \u001b[1m`wandb login --relogin`\u001b[0m to force relogin\n"
     ]
    },
    {
     "data": {
      "text/html": [
       "wandb version 0.15.0 is available!  To upgrade, please run:\n",
       " $ pip install wandb --upgrade"
      ],
      "text/plain": [
       "<IPython.core.display.HTML object>"
      ]
     },
     "metadata": {},
     "output_type": "display_data"
    },
    {
     "data": {
      "text/html": [
       "Tracking run with wandb version 0.14.2"
      ],
      "text/plain": [
       "<IPython.core.display.HTML object>"
      ]
     },
     "metadata": {},
     "output_type": "display_data"
    },
    {
     "data": {
      "text/html": [
       "Run data is saved locally in <code>C:\\Users\\lwfeckesim\\01_PyTorch\\wze-uav\\wze-uav-master\\wandb\\run-20230421_224418-482txq1a</code>"
      ],
      "text/plain": [
       "<IPython.core.display.HTML object>"
      ]
     },
     "metadata": {},
     "output_type": "display_data"
    },
    {
     "data": {
      "text/html": [
       "Syncing run <strong><a href='https://wandb.ai/simon-ecke/wze-uav-v2/runs/482txq1a' target=\"_blank\">wobbly-shape-46</a></strong> to <a href='https://wandb.ai/simon-ecke/wze-uav-v2' target=\"_blank\">Weights & Biases</a> (<a href='https://wandb.me/run' target=\"_blank\">docs</a>)<br/>"
      ],
      "text/plain": [
       "<IPython.core.display.HTML object>"
      ]
     },
     "metadata": {},
     "output_type": "display_data"
    },
    {
     "data": {
      "text/html": [
       " View project at <a href='https://wandb.ai/simon-ecke/wze-uav-v2' target=\"_blank\">https://wandb.ai/simon-ecke/wze-uav-v2</a>"
      ],
      "text/plain": [
       "<IPython.core.display.HTML object>"
      ]
     },
     "metadata": {},
     "output_type": "display_data"
    },
    {
     "data": {
      "text/html": [
       " View run at <a href='https://wandb.ai/simon-ecke/wze-uav-v2/runs/482txq1a' target=\"_blank\">https://wandb.ai/simon-ecke/wze-uav-v2/runs/482txq1a</a>"
      ],
      "text/plain": [
       "<IPython.core.display.HTML object>"
      ]
     },
     "metadata": {},
     "output_type": "display_data"
    },
    {
     "data": {
      "text/html": [
       "<button onClick=\"this.nextSibling.style.display='block';this.style.display='none';\">Display W&B run</button><iframe src='https://wandb.ai/simon-ecke/wze-uav-v2/runs/482txq1a?jupyter=true' style='border:none;width:100%;height:420px;display:none;'></iframe>"
      ],
      "text/plain": [
       "<wandb.sdk.wandb_run.Run at 0x2a1ceaf3fa0>"
      ]
     },
     "execution_count": 6,
     "metadata": {},
     "output_type": "execute_result"
    }
   ],
   "source": [
    "# IMPORTANT: The proxy needs to be set in anaconda!\n",
    "# copy paste this in anaconda and restart jupyter notebook\n",
    "#set http_proxy=http://www-proxy.bayern.de:80\n",
    "#set https_proxy=http://www-proxy.bayern.de:80\n",
    "wandb.login()\n",
    "#wandb.init(settings=wandb.Settings(start_method=\"thread\"))\n",
    "wandb.init(project='wze-uav-4classes', entity='simon-ecke')"
   ]
  },
  {
   "cell_type": "markdown",
   "id": "a26a6a34",
   "metadata": {},
   "source": [
    "#### Ensure reproducibility "
   ]
  },
  {
   "cell_type": "code",
   "execution_count": 7,
   "id": "dd4656a7",
   "metadata": {},
   "outputs": [],
   "source": [
    "# for more information, see also: https://pytorch.org/docs/stable/notes/randomness.html\n",
    "\n",
    "# Set seeds\n",
    "def set_seeds(seed: int=42):\n",
    "    \"\"\"Sets random sets for torch operations.\n",
    "\n",
    "    Args:\n",
    "        seed (int, optional): Random seed to set. Defaults to 42.\n",
    "    \"\"\"\n",
    "    # Set the seed for general torch operations\n",
    "    torch.manual_seed(seed)\n",
    "    # Set the seed for CUDA torch operations (ones that happen on the GPU)\n",
    "    torch.cuda.manual_seed(seed)\n",
    "    # seed for numpy\n",
    "    np.random.seed(seed)\n",
    "\n",
    "set_seeds(42) \n",
    "\n",
    "# Set to true -> might speed up the process but should be set to False if reproducible results are desired\n",
    "torch.backends.cudnn.benchmark = False\n"
   ]
  },
  {
   "cell_type": "markdown",
   "id": "8be33671",
   "metadata": {},
   "source": [
    "#### Define file directory"
   ]
  },
  {
   "cell_type": "code",
   "execution_count": 8,
   "id": "30645f36",
   "metadata": {},
   "outputs": [],
   "source": [
    "#####################################################################################\n",
    "# 3 channel input (r-g-b)\n",
    "data_path = r\"D:\\Drohnendaten\\10_WZE-UAV\\Auswertung_findatree\\Datasplit\\ROI\\rgb\"\n",
    "\n",
    "# 4 channel input (r-g-b-nir)\n",
    "#data_path = r\"D:\\Drohnendaten\\10_WZE-UAV\\Auswertung_findatree\\Datasplit\\ROI\\rgb-nir\"\n",
    "\n",
    "# 5 channel input (r-g-b-re-nir)\n",
    "#data_path = r\"D:\\Drohnendaten\\10_WZE-UAV\\Auswertung_findatree\\Datasplit\\ROI\\rgb-re-nir\"\n",
    "#####################################################################################"
   ]
  },
  {
   "cell_type": "markdown",
   "id": "4560ce64",
   "metadata": {},
   "source": [
    "#### Get all file paths"
   ]
  },
  {
   "cell_type": "code",
   "execution_count": 9,
   "id": "aa072e4c",
   "metadata": {},
   "outputs": [],
   "source": [
    "fn_list = os.listdir(data_path)\n",
    "path_list = []\n",
    "# Iterate over all datafiles\n",
    "for year in fn_list:\n",
    "    year_dir = f'{data_path}\\\\{year}'\n",
    "    for filename in os.listdir(year_dir):\n",
    "        path = f'{year_dir}\\\\{filename}'\n",
    "        path_list.append(path)"
   ]
  },
  {
   "cell_type": "markdown",
   "id": "f3937a44",
   "metadata": {},
   "source": [
    "#### Create unique hash IDs for every individual tree"
   ]
  },
  {
   "cell_type": "code",
   "execution_count": 10,
   "id": "8a50f1d7",
   "metadata": {},
   "outputs": [
    {
     "data": {
      "application/vnd.jupyter.widget-view+json": {
       "model_id": "1f5de676e24949b497c39226c58c7543",
       "version_major": 2,
       "version_minor": 0
      },
      "text/plain": [
       "Creating unique tree IDs...:   0%|          | 0/647 [00:00<?, ?it/s]"
      ]
     },
     "metadata": {},
     "output_type": "display_data"
    }
   ],
   "source": [
    "hashID_dict = data_loader.get_unique_treeID(path_list)"
   ]
  },
  {
   "cell_type": "markdown",
   "id": "6f4cea00",
   "metadata": {},
   "source": [
    "#### Import all imagery, labels and other features from hdf5 files"
   ]
  },
  {
   "cell_type": "code",
   "execution_count": 11,
   "id": "94e3eecf",
   "metadata": {},
   "outputs": [
    {
     "data": {
      "application/vnd.jupyter.widget-view+json": {
       "model_id": "c61ea086136647f4ac4192262c5e52f7",
       "version_major": 2,
       "version_minor": 0
      },
      "text/plain": [
       "Processing hdf5 datasets:   0%|          | 0/647 [00:00<?, ?it/s]"
      ]
     },
     "metadata": {},
     "output_type": "display_data"
    }
   ],
   "source": [
    "image_set, label_set, species_set, kkl_set, bk_set, hash_id = data_loader.hdf5_to_img_label(path_list,\n",
    "                                                                                               hashID_dict,\n",
    "                                                                                               load_sets=[\"images_masked\"])"
   ]
  },
  {
   "cell_type": "markdown",
   "id": "6a90e2b7",
   "metadata": {},
   "source": [
    "#### Convert nbv to classes"
   ]
  },
  {
   "cell_type": "code",
   "execution_count": 12,
   "id": "0224972a",
   "metadata": {},
   "outputs": [],
   "source": [
    "label_set = nbv_to_sst_4classes(label_set)"
   ]
  },
  {
   "cell_type": "markdown",
   "id": "c6b4cd85",
   "metadata": {},
   "source": [
    "#### Split data into a sub set and a test dataset"
   ]
  },
  {
   "cell_type": "code",
   "execution_count": 13,
   "id": "d06eda54",
   "metadata": {},
   "outputs": [
    {
     "name": "stdout",
     "output_type": "stream",
     "text": [
      "ORIGINAL POSITIVE RATIO: 0.47428875299122575\n",
      "Fold : 0\n",
      "TRAIN POSITIVE RATIO: 0.4728771324516005\n",
      "TEST POSITIVE RATIO : 0.48129359543436906\n",
      "LENGTH TRAIN GROUPS : 5904\n",
      "LENGTH TEST GROUPS  : 1183\n",
      "Number of True in sub_indices: 15651\n",
      "Number of False in sub_indices: 3154\n",
      "Number of True in test_indices: 1183\n",
      "Number of False in test_indices: 17622\n",
      "Check shapes:\n",
      "\n",
      "Images sub dataset: (15651, 250, 250, 3)\n",
      "Labels sub dataset: (15651, 1)\n",
      "\n",
      "Images test dataset: (1183, 250, 250, 3)\n",
      "Labels test dataset: (1183, 1)\n",
      "\n",
      "--------------------------------------------------\n",
      "Check if the split was stratified: (random_state=42)\n",
      "Healthy trees in sub dataset: 9216\n",
      "Stressed trees in sub dataset: 5722\n",
      "Dead trees in sub dataset: 460\n",
      "Healthy trees in test dataset: 682\n",
      "Stressed trees in test dataset: 444\n",
      "Dead trees in test dataset: 36\n",
      "Ratio health trees in test dataset: 0.0740017361111111\n",
      "Ratio stressed trees in test dataset: 0.0775952464173366\n",
      "Ratio dead trees in test dataset: 0.0782608695652174\n"
     ]
    }
   ],
   "source": [
    "sub_image_set, sub_label_set, sub_hash_id, sub_species_set, test_image_set, test_label_set, test_hash_id, test_species_set = data_split(image_set, label_set, hash_id, species_set, n_splits=6, random_state=42, seed=2)\n"
   ]
  },
  {
   "cell_type": "markdown",
   "id": "c48fbb5b",
   "metadata": {},
   "source": [
    "#### Check if any hash ID is in both sub and test dataset"
   ]
  },
  {
   "cell_type": "code",
   "execution_count": 14,
   "id": "874367cf",
   "metadata": {},
   "outputs": [
    {
     "name": "stdout",
     "output_type": "stream",
     "text": [
      "There are no hash_id values in both train and test datasets. The datasplit was successful\n"
     ]
    }
   ],
   "source": [
    "hash_set = set(sub_hash_id[:,0].flatten())\n",
    "test_hash_set = set(test_hash_id[:,0].flatten())\n",
    "intersection = hash_set.intersection(test_hash_set)\n",
    "if intersection:\n",
    "    print(f\"Hash_id values in both train and test sets: {len(intersection)}\")\n",
    "else:\n",
    "    print(\"There are no hash_id values in both train and test datasets. The datasplit was successful\")"
   ]
  },
  {
   "cell_type": "markdown",
   "id": "9e5b64d4",
   "metadata": {},
   "source": [
    "#### Check feature distribution of the Test dataset"
   ]
  },
  {
   "cell_type": "code",
   "execution_count": 15,
   "id": "a33ff5cb",
   "metadata": {},
   "outputs": [
    {
     "name": "stdout",
     "output_type": "stream",
     "text": [
      "Test dataset\n",
      "Test data healthy trees: 682\n",
      "Test data moderately stressed trees: 444\n",
      "Test data severely stressed trees: 36\n",
      "Test data dead trees: 21\n",
      "Test data pine trees: 309\n",
      "Test data spruces: 440\n",
      "--------------------------------------------------\n",
      "Remaining dataset\n",
      "Remaining data healthy trees: 9216\n",
      "Remaining data moderately stressed trees: 5722\n",
      "Remaining data severley stressed trees: 460\n",
      "Remaining data dead trees: 253\n",
      "Remaining data pine trees: 3949\n",
      "Remaining data spruces: 5864\n",
      "--------------------------------------------------\n"
     ]
    }
   ],
   "source": [
    "def count_occurrences(data, value):\n",
    "    count = 0\n",
    "    for item in data:\n",
    "        if item == value:\n",
    "            count += 1\n",
    "    return count\n",
    "\n",
    "print(\"Test dataset\")\n",
    "print(f\"Test data healthy trees: {count_occurrences(test_label_set, 0)}\")\n",
    "print(f\"Test data moderately stressed trees: {count_occurrences(test_label_set, 1)}\")\n",
    "print(f\"Test data severely stressed trees: {count_occurrences(test_label_set, 2)}\")\n",
    "print(f\"Test data dead trees: {count_occurrences(test_label_set, 3)}\")\n",
    "print(f\"Test data pine trees: {count_occurrences(test_species_set, 134)}\")\n",
    "print(f\"Test data spruces: {count_occurrences(test_species_set, 118)}\")\n",
    "print(\"-\"*50)\n",
    "\n",
    "print(\"Remaining dataset\")\n",
    "print(f\"Remaining data healthy trees: {count_occurrences(sub_label_set, 0)}\")\n",
    "print(f\"Remaining data moderately stressed trees: {count_occurrences(sub_label_set, 1)}\")\n",
    "print(f\"Remaining data severley stressed trees: {count_occurrences(sub_label_set, 2)}\")\n",
    "print(f\"Remaining data dead trees: {count_occurrences(sub_label_set, 3)}\")\n",
    "print(f\"Remaining data pine trees: {count_occurrences(sub_species_set, 134)}\")\n",
    "print(f\"Remaining data spruces: {count_occurrences(sub_species_set, 118)}\")\n",
    "print(\"-\"*50)"
   ]
  },
  {
   "cell_type": "code",
   "execution_count": 19,
   "id": "e08fcf57",
   "metadata": {},
   "outputs": [],
   "source": [
    "# train transform with augmentation. \n",
    "transform_train = transforms.Compose([transforms.ToTensor(), transforms.RandomHorizontalFlip(p=0.5), transforms.RandomVerticalFlip(p=0.5),\n",
    "                                      transforms.RandomRotation(degrees=[0,360])])\n",
    "\n",
    "# test and val dataset transform without augmentation. \n",
    "transform = transforms.Compose([transforms.ToTensor()])\n",
    "\n",
    "# class names need to fit the customDataset class used e.g. 3 classes -> use CustomDataset3Classes\n",
    "#class_names = ['healthy', 'slightly_stressed', 'moderately_stressed', 'highly_stressed', 'dead']\n",
    "#class_names = ['healthy', 'moderately_stressed', 'highly_stressed', 'dead']\n",
    "class_names = ['healthy', 'moderate stress', 'severe stress', 'dead']\n",
    "\n",
    "# set seeds\n",
    "g = torch.Generator()\n",
    "g.manual_seed(42)\n",
    "NUM_WORKERS=3 # should be changed, depending on the system used\n",
    "batch_size=32"
   ]
  },
  {
   "cell_type": "markdown",
   "id": "31779c05",
   "metadata": {},
   "source": [
    "#### Define variables and parameters"
   ]
  },
  {
   "cell_type": "code",
   "execution_count": 38,
   "id": "10ae4379",
   "metadata": {},
   "outputs": [
    {
     "name": "stdout",
     "output_type": "stream",
     "text": [
      "Memory allocated: 2124300288 bytes\n"
     ]
    }
   ],
   "source": [
    "# 1. Define number of epochs\n",
    "epochs = 50\n",
    "n_bands = sub_image_set[0].shape[2] # get number of bands\n",
    "\n",
    "# 2. Define model\n",
    "num_classes = len(class_names)\n",
    "unfreeze = True # all layer weights get updated\n",
    "dropout_rate = 0.5 #define dropout rate\n",
    "model_name = \"EffNet_b7_RGB_4classes\"\n",
    "\n",
    "# 3. Define loss, optimizer and learning rate scheduler\n",
    "lr = 0.005 # define learning rate\n",
    "min_lr = 1e-6 # minimum learning rate threshold\n",
    "gamma = 0.75 # how fast the learning rate decreases per epoch (low number=faster decrease)\n",
    "patience = 10\n",
    "\n",
    "# 4. Create target folder name were to save the tensorboard event files\n",
    "experiment_name = 'RGB_4classes'\n",
    "extra = \"RGB_4classes\"\n",
    "\n",
    "#----------------------------------------------------------------------\n",
    "#torch.cuda.empty_cache()\n",
    "print(f\"Memory allocated: {torch.cuda.memory_allocated()} bytes\") "
   ]
  },
  {
   "cell_type": "markdown",
   "id": "09768b1a",
   "metadata": {},
   "source": [
    "#### Run k-Fold cross-validation on EfficientNet"
   ]
  },
  {
   "cell_type": "code",
   "execution_count": 39,
   "id": "9c29c81d",
   "metadata": {},
   "outputs": [
    {
     "name": "stdout",
     "output_type": "stream",
     "text": [
      "ORIGINAL POSITIVE RATIO: 0.4728771324516005\n",
      "Fold : 1\n",
      "TRAIN POSITIVE RATIO: 0.4768688970705939\n",
      "VAL POSITIVE RATIO  : 0.4570795058599937\n",
      "LENGTH TRAIN GROUPS : 4720\n",
      "LENGTH VAL GROUPS   : 1184\n"
     ]
    },
    {
     "data": {
      "text/html": [
       "wandb version 0.15.0 is available!  To upgrade, please run:\n",
       " $ pip install wandb --upgrade"
      ],
      "text/plain": [
       "<IPython.core.display.HTML object>"
      ]
     },
     "metadata": {},
     "output_type": "display_data"
    },
    {
     "data": {
      "text/html": [
       "Tracking run with wandb version 0.14.2"
      ],
      "text/plain": [
       "<IPython.core.display.HTML object>"
      ]
     },
     "metadata": {},
     "output_type": "display_data"
    },
    {
     "data": {
      "text/html": [
       "Run data is saved locally in <code>C:\\Users\\lwfeckesim\\01_PyTorch\\wze-uav\\wze-uav-master\\wandb\\run-20230421_235620-n5zr5lpf</code>"
      ],
      "text/plain": [
       "<IPython.core.display.HTML object>"
      ]
     },
     "metadata": {},
     "output_type": "display_data"
    },
    {
     "data": {
      "text/html": [
       "Syncing run <strong><a href='https://wandb.ai/simon-ecke/wze-uav-4classes/runs/n5zr5lpf' target=\"_blank\">fold_1_RGB_4classes</a></strong> to <a href='https://wandb.ai/simon-ecke/wze-uav-4classes' target=\"_blank\">Weights & Biases</a> (<a href='https://wandb.me/run' target=\"_blank\">docs</a>)<br/>"
      ],
      "text/plain": [
       "<IPython.core.display.HTML object>"
      ]
     },
     "metadata": {},
     "output_type": "display_data"
    },
    {
     "data": {
      "text/html": [
       " View project at <a href='https://wandb.ai/simon-ecke/wze-uav-4classes' target=\"_blank\">https://wandb.ai/simon-ecke/wze-uav-4classes</a>"
      ],
      "text/plain": [
       "<IPython.core.display.HTML object>"
      ]
     },
     "metadata": {},
     "output_type": "display_data"
    },
    {
     "data": {
      "text/html": [
       " View run at <a href='https://wandb.ai/simon-ecke/wze-uav-4classes/runs/n5zr5lpf' target=\"_blank\">https://wandb.ai/simon-ecke/wze-uav-4classes/runs/n5zr5lpf</a>"
      ],
      "text/plain": [
       "<IPython.core.display.HTML object>"
      ]
     },
     "metadata": {},
     "output_type": "display_data"
    },
    {
     "name": "stdout",
     "output_type": "stream",
     "text": [
      "There are no same hash_id values in train, val or test datasets. The datasplit was successful\n",
      "Check shapes:\n",
      "\n",
      "Images train dataset: (12494, 250, 250, 3)\n",
      "Labels train dataset: (12494, 1)\n",
      "\n",
      "Images validation dataset: (1184, 250, 250, 3)\n",
      "Labels validation dataset: (1184, 1)\n",
      "\n",
      "--------------------------------------------------\n",
      "Check if the split was stratified: (random_state=42)\n",
      "Healthy trees in train dataset: 7322\n",
      "Moderately stressed trees in train dataset: 4596\n",
      "Severely stressed trees in train dataset: 366\n",
      "Dead trees in train dataset: 210\n",
      "Healthy trees in validation dataset: 701\n",
      "Moderately stressed trees in validation dataset: 428\n",
      "Severely stressed trees in validation dataset: 36\n",
      "Dead trees in validation dataset: 19\n",
      "Ratio health trees in validation dataset: 0.07606336805555555\n",
      "Ratio moderately stressed trees in validation dataset: 0.07479902132121635\n",
      "Ratio severely stressed trees in validation dataset: 0.9304347826086956\n",
      "Ratio dead trees in validation dataset: 0.1422924901185771\n",
      "--------------------------------------------------\n",
      "\n",
      "Creating datasets for fold: 1\n",
      "\n",
      "Creating dataloaders for fold: 1\n",
      "\n",
      "[INFO] Created new effnet_b7 model.\n",
      "\n",
      "[INFO] Fold number: 1\n",
      "[INFO] Number of epochs: 50\n",
      "[INFO] Batch_size: 32\n",
      "[INFO] Number of bands: 3\n",
      "[INFO] Dropout rate: 0.5\n",
      "[INFO] Gamma learning rate: 0.75\n",
      "[INFO] Memory allocated: 2395949056 bytes\n"
     ]
    },
    {
     "data": {
      "application/vnd.jupyter.widget-view+json": {
       "model_id": "44c44e1a435a45d58cac199200b3c120",
       "version_major": 2,
       "version_minor": 0
      },
      "text/plain": [
       "  0%|          | 0/50 [00:00<?, ?it/s]"
      ]
     },
     "metadata": {},
     "output_type": "display_data"
    },
    {
     "name": "stdout",
     "output_type": "stream",
     "text": [
      "Epoch: 1 \n",
      "Learning rate: 0.005\n",
      "Train loss: 0.9268 | Train precision: 0.4031 | Train recall: 0.3784 | Train f1score: 0.3819 | Train acc: 0.5288 | Train kappa: 0.3158 \n",
      "Val loss: 1.0444 | Val precision: 0.3404 | Val recall: 0.2632 | Val f1score: 0.1578 | Val acc: 0.3623 | Val kappa: 0.0124 \n",
      "\n",
      "Epoch: 2 \n",
      "Learning rate: 0.00375\n",
      "Train loss: 0.8515 | Train precision: 0.5047 | Train recall: 0.4553 | Train f1score: 0.4578 | Train acc: 0.5757 | Train kappa: 0.4469 \n",
      "Val loss: 0.7574 | Val precision: 0.5187 | Val recall: 0.3957 | Val f1score: 0.4261 | Val acc: 0.6394 | Val kappa: 0.3806 \n",
      "\n",
      "Epoch: 3 \n",
      "Learning rate: 0.0028125\n",
      "Train loss: 0.8333 | Train precision: 0.5444 | Train recall: 0.4834 | Train f1score: 0.4824 | Train acc: 0.5809 | Train kappa: 0.4780 \n",
      "Val loss: 0.7803 | Val precision: 0.6153 | Val recall: 0.5667 | Val f1score: 0.4964 | Val acc: 0.5895 | Val kappa: 0.4570 \n",
      "\n",
      "Epoch: 4 \n",
      "Learning rate: 0.002109375\n",
      "Train loss: 0.7901 | Train precision: 0.6131 | Train recall: 0.5349 | Train f1score: 0.5337 | Train acc: 0.6061 | Train kappa: 0.5430 \n",
      "Val loss: 0.7121 | Val precision: 0.7926 | Val recall: 0.5347 | Val f1score: 0.5425 | Val acc: 0.6715 | Val kappa: 0.4943 \n",
      "\n",
      "Epoch: 5 \n",
      "Learning rate: 0.00158203125\n",
      "Train loss: 0.7788 | Train precision: 0.6024 | Train recall: 0.5439 | Train f1score: 0.5475 | Train acc: 0.6121 | Train kappa: 0.5521 \n",
      "Val loss: 0.7308 | Val precision: 0.6267 | Val recall: 0.5753 | Val f1score: 0.5889 | Val acc: 0.6529 | Val kappa: 0.5147 \n",
      "\n",
      "Epoch: 6 \n",
      "Learning rate: 0.0011865234375\n",
      "Train loss: 0.7667 | Train precision: 0.6291 | Train recall: 0.5543 | Train f1score: 0.5605 | Train acc: 0.6185 | Train kappa: 0.5749 \n",
      "Val loss: 0.6958 | Val precision: 0.6906 | Val recall: 0.5862 | Val f1score: 0.6135 | Val acc: 0.6723 | Val kappa: 0.5306 \n",
      "\n",
      "Epoch: 7 \n",
      "Learning rate: 0.000889892578125\n",
      "Train loss: 0.7594 | Train precision: 0.6291 | Train recall: 0.5578 | Train f1score: 0.5655 | Train acc: 0.6286 | Train kappa: 0.5779 \n",
      "Val loss: 0.7450 | Val precision: 0.6421 | Val recall: 0.5167 | Val f1score: 0.5375 | Val acc: 0.5988 | Val kappa: 0.4375 \n",
      "\n",
      "Epoch: 8 \n",
      "Learning rate: 0.00066741943359375\n",
      "Train loss: 0.7495 | Train precision: 0.6415 | Train recall: 0.5694 | Train f1score: 0.5789 | Train acc: 0.6161 | Train kappa: 0.5646 \n",
      "Val loss: 0.7134 | Val precision: 0.5420 | Val recall: 0.6051 | Val f1score: 0.5406 | Val acc: 0.6681 | Val kappa: 0.5453 \n",
      "\n",
      "Epoch: 9 \n",
      "Learning rate: 0.0005005645751953125\n",
      "Train loss: 0.7385 | Train precision: 0.6563 | Train recall: 0.5873 | Train f1score: 0.5995 | Train acc: 0.6361 | Train kappa: 0.5992 \n",
      "Val loss: 0.7253 | Val precision: 0.5577 | Val recall: 0.5955 | Val f1score: 0.5601 | Val acc: 0.6267 | Val kappa: 0.5251 \n",
      "\n",
      "Epoch: 10 \n",
      "Learning rate: 0.0003754234313964844\n",
      "Train loss: 0.7307 | Train precision: 0.6584 | Train recall: 0.5846 | Train f1score: 0.5999 | Train acc: 0.6404 | Train kappa: 0.5998 \n",
      "Val loss: 0.6801 | Val precision: 0.6778 | Val recall: 0.6063 | Val f1score: 0.6304 | Val acc: 0.6740 | Val kappa: 0.5480 \n",
      "\n",
      "Epoch: 11 \n",
      "Learning rate: 0.0002815675735473633\n",
      "Train loss: 0.7223 | Train precision: 0.6699 | Train recall: 0.5929 | Train f1score: 0.6122 | Train acc: 0.6389 | Train kappa: 0.6018 \n",
      "Val loss: 0.6670 | Val precision: 0.5760 | Val recall: 0.5854 | Val f1score: 0.5667 | Val acc: 0.6748 | Val kappa: 0.5593 \n",
      "\n",
      "Epoch: 12 \n",
      "Learning rate: 0.00021117568016052246\n",
      "Train loss: 0.7264 | Train precision: 0.6733 | Train recall: 0.6001 | Train f1score: 0.6147 | Train acc: 0.6450 | Train kappa: 0.6206 \n",
      "Val loss: 0.6800 | Val precision: 0.6588 | Val recall: 0.6117 | Val f1score: 0.6245 | Val acc: 0.6807 | Val kappa: 0.5516 \n",
      "\n",
      "Epoch: 13 \n",
      "Learning rate: 0.00015838176012039184\n",
      "Train loss: 0.7238 | Train precision: 0.6978 | Train recall: 0.6066 | Train f1score: 0.6246 | Train acc: 0.6438 | Train kappa: 0.6118 \n",
      "Val loss: 0.6740 | Val precision: 0.6581 | Val recall: 0.6240 | Val f1score: 0.6263 | Val acc: 0.6807 | Val kappa: 0.5624 \n",
      "\n",
      "Epoch: 14 \n",
      "Learning rate: 0.00011878632009029388\n",
      "Train loss: 0.7163 | Train precision: 0.6858 | Train recall: 0.6029 | Train f1score: 0.6216 | Train acc: 0.6416 | Train kappa: 0.6077 \n",
      "Val loss: 0.6770 | Val precision: 0.6651 | Val recall: 0.6270 | Val f1score: 0.6409 | Val acc: 0.6765 | Val kappa: 0.5626 \n",
      "\n",
      "Epoch: 15 \n",
      "Learning rate: 8.908974006772042e-05\n",
      "Train loss: 0.7203 | Train precision: 0.6812 | Train recall: 0.6019 | Train f1score: 0.6190 | Train acc: 0.6447 | Train kappa: 0.6168 \n",
      "Val loss: 0.6712 | Val precision: 0.7010 | Val recall: 0.6180 | Val f1score: 0.6483 | Val acc: 0.6757 | Val kappa: 0.5526 \n",
      "\n",
      "Epoch: 16 \n",
      "Learning rate: 6.681730505079031e-05\n",
      "Train loss: 0.7102 | Train precision: 0.6809 | Train recall: 0.6027 | Train f1score: 0.6212 | Train acc: 0.6433 | Train kappa: 0.6003 \n",
      "Val loss: 0.6721 | Val precision: 0.6330 | Val recall: 0.6226 | Val f1score: 0.6200 | Val acc: 0.6791 | Val kappa: 0.5705 \n",
      "\n",
      "Epoch: 17 \n",
      "Learning rate: 5.0112978788092735e-05\n",
      "Train loss: 0.7101 | Train precision: 0.7018 | Train recall: 0.6209 | Train f1score: 0.6418 | Train acc: 0.6482 | Train kappa: 0.6215 \n",
      "Val loss: 0.6750 | Val precision: 0.6520 | Val recall: 0.6295 | Val f1score: 0.6329 | Val acc: 0.6706 | Val kappa: 0.5615 \n",
      "\n",
      "Epoch: 18 \n",
      "Learning rate: 3.758473409106955e-05\n",
      "Train loss: 0.7120 | Train precision: 0.6898 | Train recall: 0.6087 | Train f1score: 0.6278 | Train acc: 0.6413 | Train kappa: 0.6050 \n",
      "Val loss: 0.6772 | Val precision: 0.6799 | Val recall: 0.6152 | Val f1score: 0.6350 | Val acc: 0.6723 | Val kappa: 0.5541 \n",
      "\n",
      "Epoch: 19 \n",
      "Learning rate: 2.8188550568302163e-05\n",
      "Train loss: 0.7081 | Train precision: 0.6810 | Train recall: 0.6029 | Train f1score: 0.6235 | Train acc: 0.6436 | Train kappa: 0.6049 \n",
      "Val loss: 0.6795 | Val precision: 0.6677 | Val recall: 0.6171 | Val f1score: 0.6337 | Val acc: 0.6731 | Val kappa: 0.5543 \n",
      "\n",
      "Epoch: 20 \n",
      "Learning rate: 2.114141292622662e-05\n",
      "Train loss: 0.7014 | Train precision: 0.7149 | Train recall: 0.6227 | Train f1score: 0.6474 | Train acc: 0.6510 | Train kappa: 0.6184 \n",
      "Val loss: 0.6753 | Val precision: 0.6506 | Val recall: 0.6259 | Val f1score: 0.6360 | Val acc: 0.6816 | Val kappa: 0.5682 \n",
      "\n",
      "Epoch: 21 \n",
      "Learning rate: 1.5856059694669965e-05\n",
      "Train loss: 0.7145 | Train precision: 0.6930 | Train recall: 0.6099 | Train f1score: 0.6314 | Train acc: 0.6452 | Train kappa: 0.6045 \n",
      "Val loss: 0.6785 | Val precision: 0.6720 | Val recall: 0.6248 | Val f1score: 0.6439 | Val acc: 0.6757 | Val kappa: 0.5672 \n",
      "\n",
      "Epoch: 22 \n",
      "Learning rate: 1.1892044771002475e-05\n",
      "Train loss: 0.7117 | Train precision: 0.6824 | Train recall: 0.6059 | Train f1score: 0.6248 | Train acc: 0.6497 | Train kappa: 0.6289 \n",
      "Val loss: 0.6753 | Val precision: 0.6658 | Val recall: 0.6258 | Val f1score: 0.6405 | Val acc: 0.6782 | Val kappa: 0.5636 \n",
      "\n",
      "Epoch: 23 \n",
      "Learning rate: 8.919033578251857e-06\n",
      "Train loss: 0.7074 | Train precision: 0.7061 | Train recall: 0.6150 | Train f1score: 0.6394 | Train acc: 0.6548 | Train kappa: 0.6224 \n",
      "Val loss: 0.6762 | Val precision: 0.6658 | Val recall: 0.6381 | Val f1score: 0.6464 | Val acc: 0.6748 | Val kappa: 0.5626 \n",
      "\n",
      "Epoch: 24 \n",
      "Learning rate: 6.689275183688892e-06\n",
      "Train loss: 0.7112 | Train precision: 0.6957 | Train recall: 0.6128 | Train f1score: 0.6351 | Train acc: 0.6516 | Train kappa: 0.6227 \n",
      "Val loss: 0.6771 | Val precision: 0.6592 | Val recall: 0.6122 | Val f1score: 0.6284 | Val acc: 0.6706 | Val kappa: 0.5512 \n",
      "\n",
      "Epoch: 25 \n",
      "Learning rate: 5.016956387766669e-06\n",
      "Train loss: 0.7136 | Train precision: 0.6935 | Train recall: 0.6086 | Train f1score: 0.6299 | Train acc: 0.6465 | Train kappa: 0.6046 \n",
      "Val loss: 0.6790 | Val precision: 0.6539 | Val recall: 0.6223 | Val f1score: 0.6346 | Val acc: 0.6731 | Val kappa: 0.5558 \n",
      "\n",
      "Early stopping after epoch 25\n"
     ]
    },
    {
     "data": {
      "text/html": [
       "Waiting for W&B process to finish... <strong style=\"color:green\">(success).</strong>"
      ],
      "text/plain": [
       "<IPython.core.display.HTML object>"
      ]
     },
     "metadata": {},
     "output_type": "display_data"
    },
    {
     "data": {
      "text/html": [
       "<style>\n",
       "    table.wandb td:nth-child(1) { padding: 0 10px; text-align: left ; width: auto;} td:nth-child(2) {text-align: left ; width: 100%}\n",
       "    .wandb-row { display: flex; flex-direction: row; flex-wrap: wrap; justify-content: flex-start; width: 100% }\n",
       "    .wandb-col { display: flex; flex-direction: column; flex-basis: 100%; flex: 1; padding: 10px; }\n",
       "    </style>\n",
       "<div class=\"wandb-row\"><div class=\"wandb-col\"><h3>Run history:</h3><br/><table class=\"wandb\"><tr><td>learning_rate</td><td>█▆▅▄▃▃▂▂▂▂▁▁▁▁▁▁▁▁▁▁▁▁▁▁▁</td></tr><tr><td>train_f1_score</td><td>▁▃▄▅▅▆▆▆▇▇▇▇▇▇▇▇█▇▇██▇███</td></tr><tr><td>train_loss</td><td>█▆▅▄▃▃▃▂▂▂▂▂▂▁▂▁▁▁▁▁▁▁▁▁▁</td></tr><tr><td>val_f1_score</td><td>▁▅▆▆▇█▆▆▇█▇██████████████</td></tr><tr><td>val_loss</td><td>█▃▃▂▂▂▂▂▂▁▁▁▁▁▁▁▁▁▁▁▁▁▁▁▁</td></tr></table><br/></div><div class=\"wandb-col\"><h3>Run summary:</h3><br/><table class=\"wandb\"><tr><td>learning_rate</td><td>1e-05</td></tr><tr><td>train_f1_score</td><td>0.62986</td></tr><tr><td>train_loss</td><td>0.71364</td></tr><tr><td>val_f1_score</td><td>0.63462</td></tr><tr><td>val_loss</td><td>0.67895</td></tr></table><br/></div></div>"
      ],
      "text/plain": [
       "<IPython.core.display.HTML object>"
      ]
     },
     "metadata": {},
     "output_type": "display_data"
    },
    {
     "data": {
      "text/html": [
       " View run <strong style=\"color:#cdcd00\">fold_1_RGB_4classes</strong> at: <a href='https://wandb.ai/simon-ecke/wze-uav-4classes/runs/n5zr5lpf' target=\"_blank\">https://wandb.ai/simon-ecke/wze-uav-4classes/runs/n5zr5lpf</a><br/>Synced 5 W&B file(s), 0 media file(s), 0 artifact file(s) and 0 other file(s)"
      ],
      "text/plain": [
       "<IPython.core.display.HTML object>"
      ]
     },
     "metadata": {},
     "output_type": "display_data"
    },
    {
     "data": {
      "text/html": [
       "Find logs at: <code>.\\wandb\\run-20230421_235620-n5zr5lpf\\logs</code>"
      ],
      "text/plain": [
       "<IPython.core.display.HTML object>"
      ]
     },
     "metadata": {},
     "output_type": "display_data"
    },
    {
     "name": "stdout",
     "output_type": "stream",
     "text": [
      "Deleting variables and emptying cache\n",
      "Memory allocated: 3193936384 bytes\n",
      "--------------------------------------------------\n",
      "\n",
      "Fold : 2\n",
      "TRAIN POSITIVE RATIO: 0.4656177621595719\n",
      "VAL POSITIVE RATIO  : 0.5019169329073483\n",
      "LENGTH TRAIN GROUPS : 4722\n",
      "LENGTH VAL GROUPS   : 1182\n"
     ]
    },
    {
     "data": {
      "text/html": [
       "wandb version 0.15.0 is available!  To upgrade, please run:\n",
       " $ pip install wandb --upgrade"
      ],
      "text/plain": [
       "<IPython.core.display.HTML object>"
      ]
     },
     "metadata": {},
     "output_type": "display_data"
    },
    {
     "data": {
      "text/html": [
       "Tracking run with wandb version 0.14.2"
      ],
      "text/plain": [
       "<IPython.core.display.HTML object>"
      ]
     },
     "metadata": {},
     "output_type": "display_data"
    },
    {
     "data": {
      "text/html": [
       "Run data is saved locally in <code>C:\\Users\\lwfeckesim\\01_PyTorch\\wze-uav\\wze-uav-master\\wandb\\run-20230422_013859-9xgwcepp</code>"
      ],
      "text/plain": [
       "<IPython.core.display.HTML object>"
      ]
     },
     "metadata": {},
     "output_type": "display_data"
    },
    {
     "data": {
      "text/html": [
       "Syncing run <strong><a href='https://wandb.ai/simon-ecke/wze-uav-4classes/runs/9xgwcepp' target=\"_blank\">fold_2_RGB_4classes</a></strong> to <a href='https://wandb.ai/simon-ecke/wze-uav-4classes' target=\"_blank\">Weights & Biases</a> (<a href='https://wandb.me/run' target=\"_blank\">docs</a>)<br/>"
      ],
      "text/plain": [
       "<IPython.core.display.HTML object>"
      ]
     },
     "metadata": {},
     "output_type": "display_data"
    },
    {
     "data": {
      "text/html": [
       " View project at <a href='https://wandb.ai/simon-ecke/wze-uav-4classes' target=\"_blank\">https://wandb.ai/simon-ecke/wze-uav-4classes</a>"
      ],
      "text/plain": [
       "<IPython.core.display.HTML object>"
      ]
     },
     "metadata": {},
     "output_type": "display_data"
    },
    {
     "data": {
      "text/html": [
       " View run at <a href='https://wandb.ai/simon-ecke/wze-uav-4classes/runs/9xgwcepp' target=\"_blank\">https://wandb.ai/simon-ecke/wze-uav-4classes/runs/9xgwcepp</a>"
      ],
      "text/plain": [
       "<IPython.core.display.HTML object>"
      ]
     },
     "metadata": {},
     "output_type": "display_data"
    },
    {
     "name": "stdout",
     "output_type": "stream",
     "text": [
      "There are no same hash_id values in train, val or test datasets. The datasplit was successful\n",
      "Check shapes:\n",
      "\n",
      "Images train dataset: (12521, 250, 250, 3)\n",
      "Labels train dataset: (12521, 1)\n",
      "\n",
      "Images validation dataset: (1182, 250, 250, 3)\n",
      "Labels validation dataset: (1182, 1)\n",
      "\n",
      "--------------------------------------------------\n",
      "Check if the split was stratified: (random_state=42)\n",
      "Healthy trees in train dataset: 7425\n",
      "Moderately stressed trees in train dataset: 4551\n",
      "Severely stressed trees in train dataset: 356\n",
      "Dead trees in train dataset: 189\n",
      "Healthy trees in validation dataset: 675\n",
      "Moderately stressed trees in validation dataset: 439\n",
      "Severely stressed trees in validation dataset: 41\n",
      "Dead trees in validation dataset: 27\n",
      "Ratio health trees in validation dataset: 0.0732421875\n",
      "Ratio moderately stressed trees in validation dataset: 0.07672142607479902\n",
      "Ratio severely stressed trees in validation dataset: 0.9543478260869566\n",
      "Ratio dead trees in validation dataset: 0.16205533596837945\n",
      "--------------------------------------------------\n",
      "\n",
      "Creating datasets for fold: 2\n",
      "\n",
      "Creating dataloaders for fold: 2\n",
      "\n",
      "[INFO] Created new effnet_b7 model.\n",
      "\n",
      "[INFO] Fold number: 2\n",
      "[INFO] Number of epochs: 50\n",
      "[INFO] Batch_size: 32\n",
      "[INFO] Number of bands: 3\n",
      "[INFO] Dropout rate: 0.5\n",
      "[INFO] Gamma learning rate: 0.75\n",
      "[INFO] Memory allocated: 2386379264 bytes\n"
     ]
    },
    {
     "data": {
      "application/vnd.jupyter.widget-view+json": {
       "model_id": "f3733fa883bb48a28eac0bdfe325f1be",
       "version_major": 2,
       "version_minor": 0
      },
      "text/plain": [
       "  0%|          | 0/50 [00:00<?, ?it/s]"
      ]
     },
     "metadata": {},
     "output_type": "display_data"
    },
    {
     "name": "stdout",
     "output_type": "stream",
     "text": [
      "Epoch: 1 \n",
      "Learning rate: 0.005\n",
      "Train loss: 0.9482 | Train precision: 0.3825 | Train recall: 0.3405 | Train f1score: 0.3472 | Train acc: 0.5252 | Train kappa: 0.2434 \n",
      "Val loss: 0.8574 | Val precision: 0.3821 | Val recall: 0.3479 | Val f1score: 0.3147 | Val acc: 0.5842 | Val kappa: 0.2616 \n",
      "\n",
      "Epoch: 2 \n",
      "Learning rate: 0.00375\n",
      "Train loss: 0.8505 | Train precision: 0.4876 | Train recall: 0.4500 | Train f1score: 0.4454 | Train acc: 0.5776 | Train kappa: 0.4263 \n",
      "Val loss: 0.8824 | Val precision: 0.2845 | Val recall: 0.3020 | Val f1score: 0.2930 | Val acc: 0.5859 | Val kappa: 0.1720 \n",
      "\n",
      "Epoch: 3 \n",
      "Learning rate: 0.0028125\n",
      "Train loss: 0.8164 | Train precision: 0.5405 | Train recall: 0.5055 | Train f1score: 0.4955 | Train acc: 0.5949 | Train kappa: 0.4942 \n",
      "Val loss: 0.7725 | Val precision: 0.5348 | Val recall: 0.4514 | Val f1score: 0.4787 | Val acc: 0.6163 | Val kappa: 0.4549 \n",
      "\n",
      "Epoch: 4 \n",
      "Learning rate: 0.002109375\n",
      "Train loss: 0.7960 | Train precision: 0.5849 | Train recall: 0.5271 | Train f1score: 0.5165 | Train acc: 0.6047 | Train kappa: 0.5306 \n",
      "Val loss: 0.7446 | Val precision: 0.4093 | Val recall: 0.5457 | Val f1score: 0.4514 | Val acc: 0.6163 | Val kappa: 0.4885 \n",
      "\n",
      "Epoch: 5 \n",
      "Learning rate: 0.00158203125\n",
      "Train loss: 0.7791 | Train precision: 0.5984 | Train recall: 0.5408 | Train f1score: 0.5350 | Train acc: 0.6101 | Train kappa: 0.5445 \n",
      "Val loss: 0.8931 | Val precision: 0.5065 | Val recall: 0.5540 | Val f1score: 0.4649 | Val acc: 0.5399 | Val kappa: 0.4343 \n",
      "\n",
      "Epoch: 6 \n",
      "Learning rate: 0.0011865234375\n",
      "Train loss: 0.7695 | Train precision: 0.5865 | Train recall: 0.5384 | Train f1score: 0.5275 | Train acc: 0.6129 | Train kappa: 0.5382 \n",
      "Val loss: 0.7338 | Val precision: 0.4962 | Val recall: 0.5305 | Val f1score: 0.5114 | Val acc: 0.6085 | Val kappa: 0.5127 \n",
      "\n",
      "Epoch: 7 \n",
      "Learning rate: 0.000889892578125\n",
      "Train loss: 0.7534 | Train precision: 0.6423 | Train recall: 0.5601 | Train f1score: 0.5660 | Train acc: 0.6201 | Train kappa: 0.5561 \n",
      "Val loss: 0.7747 | Val precision: 0.6015 | Val recall: 0.5504 | Val f1score: 0.5570 | Val acc: 0.6033 | Val kappa: 0.5133 \n",
      "\n",
      "Epoch: 8 \n",
      "Learning rate: 0.00066741943359375\n",
      "Train loss: 0.7439 | Train precision: 0.6416 | Train recall: 0.5628 | Train f1score: 0.5681 | Train acc: 0.6296 | Train kappa: 0.5546 \n",
      "Val loss: 0.7530 | Val precision: 0.5612 | Val recall: 0.5134 | Val f1score: 0.5046 | Val acc: 0.5807 | Val kappa: 0.4686 \n",
      "\n",
      "Epoch: 9 \n",
      "Learning rate: 0.0005005645751953125\n",
      "Train loss: 0.7425 | Train precision: 0.6480 | Train recall: 0.5727 | Train f1score: 0.5810 | Train acc: 0.6268 | Train kappa: 0.5681 \n",
      "Val loss: 0.7265 | Val precision: 0.5450 | Val recall: 0.5041 | Val f1score: 0.5207 | Val acc: 0.6354 | Val kappa: 0.5124 \n",
      "\n",
      "Epoch: 10 \n",
      "Learning rate: 0.0003754234313964844\n",
      "Train loss: 0.7445 | Train precision: 0.6409 | Train recall: 0.5671 | Train f1score: 0.5765 | Train acc: 0.6296 | Train kappa: 0.5605 \n",
      "Val loss: 0.7240 | Val precision: 0.5744 | Val recall: 0.5125 | Val f1score: 0.5242 | Val acc: 0.6172 | Val kappa: 0.5108 \n",
      "\n",
      "Epoch: 11 \n",
      "Learning rate: 0.0002815675735473633\n",
      "Train loss: 0.7300 | Train precision: 0.6606 | Train recall: 0.5823 | Train f1score: 0.5930 | Train acc: 0.6386 | Train kappa: 0.5700 \n",
      "Val loss: 0.7170 | Val precision: 0.5846 | Val recall: 0.5575 | Val f1score: 0.5589 | Val acc: 0.6215 | Val kappa: 0.5371 \n",
      "\n",
      "Epoch: 12 \n",
      "Learning rate: 0.00021117568016052246\n",
      "Train loss: 0.7242 | Train precision: 0.6570 | Train recall: 0.5812 | Train f1score: 0.5895 | Train acc: 0.6411 | Train kappa: 0.5773 \n",
      "Val loss: 0.7061 | Val precision: 0.5798 | Val recall: 0.5759 | Val f1score: 0.5589 | Val acc: 0.6380 | Val kappa: 0.5507 \n",
      "\n",
      "Epoch: 13 \n",
      "Learning rate: 0.00015838176012039184\n",
      "Train loss: 0.7218 | Train precision: 0.6690 | Train recall: 0.5823 | Train f1score: 0.5886 | Train acc: 0.6438 | Train kappa: 0.5817 \n",
      "Val loss: 0.6992 | Val precision: 0.5881 | Val recall: 0.5664 | Val f1score: 0.5676 | Val acc: 0.6337 | Val kappa: 0.5509 \n",
      "\n",
      "Epoch: 14 \n",
      "Learning rate: 0.00011878632009029388\n",
      "Train loss: 0.7185 | Train precision: 0.6883 | Train recall: 0.6001 | Train f1score: 0.6148 | Train acc: 0.6447 | Train kappa: 0.5963 \n",
      "Val loss: 0.7083 | Val precision: 0.5894 | Val recall: 0.5432 | Val f1score: 0.5541 | Val acc: 0.6328 | Val kappa: 0.5481 \n",
      "\n",
      "Epoch: 15 \n",
      "Learning rate: 8.908974006772042e-05\n",
      "Train loss: 0.7177 | Train precision: 0.6697 | Train recall: 0.5989 | Train f1score: 0.6144 | Train acc: 0.6415 | Train kappa: 0.5927 \n",
      "Val loss: 0.7030 | Val precision: 0.5913 | Val recall: 0.5591 | Val f1score: 0.5596 | Val acc: 0.6311 | Val kappa: 0.5466 \n",
      "\n",
      "Epoch: 16 \n",
      "Learning rate: 6.681730505079031e-05\n",
      "Train loss: 0.7202 | Train precision: 0.6682 | Train recall: 0.5871 | Train f1score: 0.6005 | Train acc: 0.6426 | Train kappa: 0.5823 \n",
      "Val loss: 0.7125 | Val precision: 0.6126 | Val recall: 0.5693 | Val f1score: 0.5818 | Val acc: 0.6311 | Val kappa: 0.5483 \n",
      "\n",
      "Epoch: 17 \n",
      "Learning rate: 5.0112978788092735e-05\n",
      "Train loss: 0.7110 | Train precision: 0.7038 | Train recall: 0.6181 | Train f1score: 0.6348 | Train acc: 0.6459 | Train kappa: 0.6006 \n",
      "Val loss: 0.7057 | Val precision: 0.5870 | Val recall: 0.5474 | Val f1score: 0.5575 | Val acc: 0.6241 | Val kappa: 0.5359 \n",
      "\n",
      "Epoch: 18 \n",
      "Learning rate: 3.758473409106955e-05\n",
      "Train loss: 0.7132 | Train precision: 0.6840 | Train recall: 0.6083 | Train f1score: 0.6246 | Train acc: 0.6494 | Train kappa: 0.6031 \n",
      "Val loss: 0.7043 | Val precision: 0.6002 | Val recall: 0.5506 | Val f1score: 0.5627 | Val acc: 0.6328 | Val kappa: 0.5496 \n",
      "\n",
      "Epoch: 19 \n",
      "Learning rate: 2.8188550568302163e-05\n",
      "Train loss: 0.7126 | Train precision: 0.6836 | Train recall: 0.6105 | Train f1score: 0.6217 | Train acc: 0.6443 | Train kappa: 0.6006 \n",
      "Val loss: 0.7061 | Val precision: 0.5808 | Val recall: 0.5429 | Val f1score: 0.5509 | Val acc: 0.6189 | Val kappa: 0.5280 \n",
      "\n",
      "Epoch: 20 \n",
      "Learning rate: 2.114141292622662e-05\n",
      "Train loss: 0.7127 | Train precision: 0.6997 | Train recall: 0.6084 | Train f1score: 0.6260 | Train acc: 0.6480 | Train kappa: 0.5961 \n",
      "Val loss: 0.7059 | Val precision: 0.6106 | Val recall: 0.5676 | Val f1score: 0.5828 | Val acc: 0.6380 | Val kappa: 0.5571 \n",
      "\n",
      "Epoch: 21 \n",
      "Learning rate: 1.5856059694669965e-05\n",
      "Train loss: 0.7110 | Train precision: 0.6830 | Train recall: 0.5994 | Train f1score: 0.6168 | Train acc: 0.6464 | Train kappa: 0.5999 \n",
      "Val loss: 0.7078 | Val precision: 0.5948 | Val recall: 0.5458 | Val f1score: 0.5604 | Val acc: 0.6224 | Val kappa: 0.5373 \n",
      "\n",
      "Epoch: 22 \n",
      "Learning rate: 1.1892044771002475e-05\n",
      "Train loss: 0.7142 | Train precision: 0.6929 | Train recall: 0.6075 | Train f1score: 0.6246 | Train acc: 0.6471 | Train kappa: 0.5771 \n",
      "Val loss: 0.7058 | Val precision: 0.5928 | Val recall: 0.5540 | Val f1score: 0.5634 | Val acc: 0.6293 | Val kappa: 0.5450 \n",
      "\n",
      "Epoch: 23 \n",
      "Learning rate: 8.919033578251857e-06\n",
      "Train loss: 0.7090 | Train precision: 0.7099 | Train recall: 0.6154 | Train f1score: 0.6361 | Train acc: 0.6525 | Train kappa: 0.6089 \n",
      "Val loss: 0.7055 | Val precision: 0.5836 | Val recall: 0.5468 | Val f1score: 0.5581 | Val acc: 0.6293 | Val kappa: 0.5434 \n",
      "\n",
      "Epoch: 24 \n",
      "Learning rate: 6.689275183688892e-06\n",
      "Train loss: 0.7081 | Train precision: 0.6868 | Train recall: 0.6150 | Train f1score: 0.6321 | Train acc: 0.6482 | Train kappa: 0.5948 \n",
      "Val loss: 0.7056 | Val precision: 0.5947 | Val recall: 0.5487 | Val f1score: 0.5637 | Val acc: 0.6311 | Val kappa: 0.5456 \n",
      "\n",
      "Epoch: 25 \n",
      "Learning rate: 5.016956387766669e-06\n",
      "Train loss: 0.7077 | Train precision: 0.6925 | Train recall: 0.6067 | Train f1score: 0.6277 | Train acc: 0.6491 | Train kappa: 0.6036 \n",
      "Val loss: 0.7071 | Val precision: 0.5782 | Val recall: 0.5439 | Val f1score: 0.5514 | Val acc: 0.6207 | Val kappa: 0.5340 \n",
      "\n",
      "Epoch: 26 \n",
      "Learning rate: 3.762717290825002e-06\n",
      "Train loss: 0.7098 | Train precision: 0.7018 | Train recall: 0.6142 | Train f1score: 0.6324 | Train acc: 0.6527 | Train kappa: 0.6037 \n",
      "Val loss: 0.7049 | Val precision: 0.6064 | Val recall: 0.5565 | Val f1score: 0.5735 | Val acc: 0.6363 | Val kappa: 0.5527 \n",
      "\n",
      "Epoch: 27 \n",
      "Learning rate: 2.8220379681187514e-06\n",
      "Train loss: 0.7152 | Train precision: 0.6816 | Train recall: 0.6029 | Train f1score: 0.6179 | Train acc: 0.6439 | Train kappa: 0.5990 \n",
      "Val loss: 0.7046 | Val precision: 0.5807 | Val recall: 0.5466 | Val f1score: 0.5547 | Val acc: 0.6285 | Val kappa: 0.5433 \n",
      "\n"
     ]
    },
    {
     "name": "stdout",
     "output_type": "stream",
     "text": [
      "Epoch: 28 \n",
      "Learning rate: 2.1165284760890633e-06\n",
      "Train loss: 0.7057 | Train precision: 0.6956 | Train recall: 0.6108 | Train f1score: 0.6283 | Train acc: 0.6526 | Train kappa: 0.6054 \n",
      "Val loss: 0.7043 | Val precision: 0.5904 | Val recall: 0.5512 | Val f1score: 0.5628 | Val acc: 0.6372 | Val kappa: 0.5516 \n",
      "\n",
      "Epoch: 29 \n",
      "Learning rate: 1.5873963570667977e-06\n",
      "Train loss: 0.7100 | Train precision: 0.6720 | Train recall: 0.6021 | Train f1score: 0.6131 | Train acc: 0.6420 | Train kappa: 0.6054 \n",
      "Val loss: 0.7065 | Val precision: 0.5890 | Val recall: 0.5497 | Val f1score: 0.5604 | Val acc: 0.6311 | Val kappa: 0.5442 \n",
      "\n",
      "Epoch: 30 \n",
      "Learning rate: 1.1905472678000981e-06\n",
      "Train loss: 0.7144 | Train precision: 0.6935 | Train recall: 0.6041 | Train f1score: 0.6256 | Train acc: 0.6479 | Train kappa: 0.6070 \n",
      "Val loss: 0.7054 | Val precision: 0.5977 | Val recall: 0.5491 | Val f1score: 0.5643 | Val acc: 0.6311 | Val kappa: 0.5477 \n",
      "\n",
      "Early stopping after epoch 30\n"
     ]
    },
    {
     "data": {
      "text/html": [
       "Waiting for W&B process to finish... <strong style=\"color:green\">(success).</strong>"
      ],
      "text/plain": [
       "<IPython.core.display.HTML object>"
      ]
     },
     "metadata": {},
     "output_type": "display_data"
    },
    {
     "data": {
      "text/html": [
       "<style>\n",
       "    table.wandb td:nth-child(1) { padding: 0 10px; text-align: left ; width: auto;} td:nth-child(2) {text-align: left ; width: 100%}\n",
       "    .wandb-row { display: flex; flex-direction: row; flex-wrap: wrap; justify-content: flex-start; width: 100% }\n",
       "    .wandb-col { display: flex; flex-direction: column; flex-basis: 100%; flex: 1; padding: 10px; }\n",
       "    </style>\n",
       "<div class=\"wandb-row\"><div class=\"wandb-col\"><h3>Run history:</h3><br/><table class=\"wandb\"><tr><td>learning_rate</td><td>█▆▅▄▃▃▂▂▂▂▁▁▁▁▁▁▁▁▁▁▁▁▁▁▁▁▁▁▁▁</td></tr><tr><td>train_f1_score</td><td>▁▃▅▅▆▅▆▆▇▇▇▇▇▇▇▇████████████▇█</td></tr><tr><td>train_loss</td><td>█▅▄▄▃▃▂▂▂▂▂▂▁▁▁▁▁▁▁▁▁▁▁▁▁▁▁▁▁▁</td></tr><tr><td>val_f1_score</td><td>▂▁▅▅▅▆▇▆▆▇▇▇█▇▇█▇█▇█▇█▇█▇█▇█▇█</td></tr><tr><td>val_loss</td><td>▇█▄▃█▂▄▃▂▂▂▁▁▁▁▁▁▁▁▁▁▁▁▁▁▁▁▁▁▁</td></tr></table><br/></div><div class=\"wandb-col\"><h3>Run summary:</h3><br/><table class=\"wandb\"><tr><td>learning_rate</td><td>0.0</td></tr><tr><td>train_f1_score</td><td>0.62558</td></tr><tr><td>train_loss</td><td>0.71443</td></tr><tr><td>val_f1_score</td><td>0.5643</td></tr><tr><td>val_loss</td><td>0.7054</td></tr></table><br/></div></div>"
      ],
      "text/plain": [
       "<IPython.core.display.HTML object>"
      ]
     },
     "metadata": {},
     "output_type": "display_data"
    },
    {
     "data": {
      "text/html": [
       " View run <strong style=\"color:#cdcd00\">fold_2_RGB_4classes</strong> at: <a href='https://wandb.ai/simon-ecke/wze-uav-4classes/runs/9xgwcepp' target=\"_blank\">https://wandb.ai/simon-ecke/wze-uav-4classes/runs/9xgwcepp</a><br/>Synced 5 W&B file(s), 0 media file(s), 0 artifact file(s) and 0 other file(s)"
      ],
      "text/plain": [
       "<IPython.core.display.HTML object>"
      ]
     },
     "metadata": {},
     "output_type": "display_data"
    },
    {
     "data": {
      "text/html": [
       "Find logs at: <code>.\\wandb\\run-20230422_013859-9xgwcepp\\logs</code>"
      ],
      "text/plain": [
       "<IPython.core.display.HTML object>"
      ]
     },
     "metadata": {},
     "output_type": "display_data"
    },
    {
     "name": "stdout",
     "output_type": "stream",
     "text": [
      "Deleting variables and emptying cache\n",
      "Memory allocated: 3200143872 bytes\n",
      "--------------------------------------------------\n",
      "\n",
      "Fold : 3\n",
      "TRAIN POSITIVE RATIO: 0.4734866634722888\n",
      "VAL POSITIVE RATIO  : 0.47043783956535634\n",
      "LENGTH TRAIN GROUPS : 4722\n",
      "LENGTH VAL GROUPS   : 1182\n"
     ]
    },
    {
     "data": {
      "text/html": [
       "wandb version 0.15.0 is available!  To upgrade, please run:\n",
       " $ pip install wandb --upgrade"
      ],
      "text/plain": [
       "<IPython.core.display.HTML object>"
      ]
     },
     "metadata": {},
     "output_type": "display_data"
    },
    {
     "data": {
      "text/html": [
       "Tracking run with wandb version 0.14.2"
      ],
      "text/plain": [
       "<IPython.core.display.HTML object>"
      ]
     },
     "metadata": {},
     "output_type": "display_data"
    },
    {
     "data": {
      "text/html": [
       "Run data is saved locally in <code>C:\\Users\\lwfeckesim\\01_PyTorch\\wze-uav\\wze-uav-master\\wandb\\run-20230422_034212-w8y0b68j</code>"
      ],
      "text/plain": [
       "<IPython.core.display.HTML object>"
      ]
     },
     "metadata": {},
     "output_type": "display_data"
    },
    {
     "data": {
      "text/html": [
       "Syncing run <strong><a href='https://wandb.ai/simon-ecke/wze-uav-4classes/runs/w8y0b68j' target=\"_blank\">fold_3_RGB_4classes</a></strong> to <a href='https://wandb.ai/simon-ecke/wze-uav-4classes' target=\"_blank\">Weights & Biases</a> (<a href='https://wandb.me/run' target=\"_blank\">docs</a>)<br/>"
      ],
      "text/plain": [
       "<IPython.core.display.HTML object>"
      ]
     },
     "metadata": {},
     "output_type": "display_data"
    },
    {
     "data": {
      "text/html": [
       " View project at <a href='https://wandb.ai/simon-ecke/wze-uav-4classes' target=\"_blank\">https://wandb.ai/simon-ecke/wze-uav-4classes</a>"
      ],
      "text/plain": [
       "<IPython.core.display.HTML object>"
      ]
     },
     "metadata": {},
     "output_type": "display_data"
    },
    {
     "data": {
      "text/html": [
       " View run at <a href='https://wandb.ai/simon-ecke/wze-uav-4classes/runs/w8y0b68j' target=\"_blank\">https://wandb.ai/simon-ecke/wze-uav-4classes/runs/w8y0b68j</a>"
      ],
      "text/plain": [
       "<IPython.core.display.HTML object>"
      ]
     },
     "metadata": {},
     "output_type": "display_data"
    },
    {
     "name": "stdout",
     "output_type": "stream",
     "text": [
      "There are no same hash_id values in train, val or test datasets. The datasplit was successful\n",
      "Check shapes:\n",
      "\n",
      "Images train dataset: (12522, 250, 250, 3)\n",
      "Labels train dataset: (12522, 1)\n",
      "\n",
      "Images validation dataset: (1183, 250, 250, 3)\n",
      "Labels validation dataset: (1183, 1)\n",
      "\n",
      "--------------------------------------------------\n",
      "Check if the split was stratified: (random_state=42)\n",
      "Healthy trees in train dataset: 7357\n",
      "Moderately stressed trees in train dataset: 4601\n",
      "Severely stressed trees in train dataset: 364\n",
      "Dead trees in train dataset: 200\n",
      "Healthy trees in validation dataset: 691\n",
      "Moderately stressed trees in validation dataset: 431\n",
      "Severely stressed trees in validation dataset: 38\n",
      "Dead trees in validation dataset: 23\n",
      "Ratio health trees in validation dataset: 0.0749782986111111\n",
      "Ratio moderately stressed trees in validation dataset: 0.0753233135267389\n",
      "Ratio severely stressed trees in validation dataset: 0.9369565217391305\n",
      "Ratio dead trees in validation dataset: 0.15019762845849802\n",
      "--------------------------------------------------\n",
      "\n",
      "Creating datasets for fold: 3\n",
      "\n",
      "Creating dataloaders for fold: 3\n",
      "\n",
      "[INFO] Created new effnet_b7 model.\n",
      "\n",
      "[INFO] Fold number: 3\n",
      "[INFO] Number of epochs: 50\n",
      "[INFO] Batch_size: 32\n",
      "[INFO] Number of bands: 3\n",
      "[INFO] Dropout rate: 0.5\n",
      "[INFO] Gamma learning rate: 0.75\n",
      "[INFO] Memory allocated: 2387201024 bytes\n"
     ]
    },
    {
     "data": {
      "application/vnd.jupyter.widget-view+json": {
       "model_id": "3da912a603514a3bb7ad0d8f32639386",
       "version_major": 2,
       "version_minor": 0
      },
      "text/plain": [
       "  0%|          | 0/50 [00:00<?, ?it/s]"
      ]
     },
     "metadata": {},
     "output_type": "display_data"
    },
    {
     "name": "stdout",
     "output_type": "stream",
     "text": [
      "Epoch: 1 \n",
      "Learning rate: 0.005\n",
      "Train loss: 0.9532 | Train precision: 0.4027 | Train recall: 0.3472 | Train f1score: 0.3567 | Train acc: 0.5125 | Train kappa: 0.2529 \n",
      "Val loss: 1.1564 | Val precision: 0.2462 | Val recall: 0.2573 | Val f1score: 0.2160 | Val acc: 0.5764 | Val kappa: 0.1088 \n",
      "\n",
      "Epoch: 2 \n",
      "Learning rate: 0.00375\n",
      "Train loss: 0.8444 | Train precision: 0.4734 | Train recall: 0.4607 | Train f1score: 0.4545 | Train acc: 0.5807 | Train kappa: 0.4579 \n",
      "Val loss: 0.9041 | Val precision: 0.3359 | Val recall: 0.3890 | Val f1score: 0.3490 | Val acc: 0.5573 | Val kappa: 0.3219 \n",
      "\n",
      "Epoch: 3 \n",
      "Learning rate: 0.0028125\n",
      "Train loss: 0.8182 | Train precision: 0.5606 | Train recall: 0.4974 | Train f1score: 0.4920 | Train acc: 0.5909 | Train kappa: 0.4977 \n",
      "Val loss: 0.8713 | Val precision: 0.4896 | Val recall: 0.4181 | Val f1score: 0.4187 | Val acc: 0.5764 | Val kappa: 0.3590 \n",
      "\n",
      "Epoch: 4 \n",
      "Learning rate: 0.002109375\n",
      "Train loss: 0.8027 | Train precision: 0.5525 | Train recall: 0.5074 | Train f1score: 0.5023 | Train acc: 0.5951 | Train kappa: 0.5226 \n",
      "Val loss: 0.8095 | Val precision: 0.5295 | Val recall: 0.3718 | Val f1score: 0.4011 | Val acc: 0.5885 | Val kappa: 0.3527 \n",
      "\n",
      "Epoch: 5 \n",
      "Learning rate: 0.00158203125\n",
      "Train loss: 0.7901 | Train precision: 0.5678 | Train recall: 0.5188 | Train f1score: 0.5153 | Train acc: 0.6069 | Train kappa: 0.5358 \n",
      "Val loss: 0.9099 | Val precision: 0.4087 | Val recall: 0.5229 | Val f1score: 0.3940 | Val acc: 0.5720 | Val kappa: 0.4042 \n",
      "\n",
      "Epoch: 6 \n",
      "Learning rate: 0.0011865234375\n",
      "Train loss: 0.7779 | Train precision: 0.5781 | Train recall: 0.5308 | Train f1score: 0.5231 | Train acc: 0.6142 | Train kappa: 0.5432 \n",
      "Val loss: 0.8452 | Val precision: 0.5247 | Val recall: 0.5086 | Val f1score: 0.4274 | Val acc: 0.5252 | Val kappa: 0.3688 \n",
      "\n",
      "Epoch: 7 \n",
      "Learning rate: 0.000889892578125\n",
      "Train loss: 0.7795 | Train precision: 0.6025 | Train recall: 0.5360 | Train f1score: 0.5331 | Train acc: 0.6161 | Train kappa: 0.5491 \n",
      "Val loss: 0.7445 | Val precision: 0.5876 | Val recall: 0.4244 | Val f1score: 0.4620 | Val acc: 0.6215 | Val kappa: 0.4115 \n",
      "\n",
      "Epoch: 8 \n",
      "Learning rate: 0.00066741943359375\n",
      "Train loss: 0.7584 | Train precision: 0.5807 | Train recall: 0.5393 | Train f1score: 0.5320 | Train acc: 0.6166 | Train kappa: 0.5424 \n",
      "Val loss: 0.7877 | Val precision: 0.5132 | Val recall: 0.4106 | Val f1score: 0.4413 | Val acc: 0.6189 | Val kappa: 0.3976 \n",
      "\n",
      "Epoch: 9 \n",
      "Learning rate: 0.0005005645751953125\n",
      "Train loss: 0.7564 | Train precision: 0.6068 | Train recall: 0.5506 | Train f1score: 0.5448 | Train acc: 0.6212 | Train kappa: 0.5611 \n",
      "Val loss: 0.7829 | Val precision: 0.5796 | Val recall: 0.3986 | Val f1score: 0.4381 | Val acc: 0.6198 | Val kappa: 0.3764 \n",
      "\n",
      "Epoch: 10 \n",
      "Learning rate: 0.0003754234313964844\n",
      "Train loss: 0.7544 | Train precision: 0.6243 | Train recall: 0.5557 | Train f1score: 0.5576 | Train acc: 0.6273 | Train kappa: 0.5760 \n",
      "Val loss: 0.7707 | Val precision: 0.4998 | Val recall: 0.4135 | Val f1score: 0.4418 | Val acc: 0.6016 | Val kappa: 0.3917 \n",
      "\n",
      "Epoch: 11 \n",
      "Learning rate: 0.0002815675735473633\n",
      "Train loss: 0.7445 | Train precision: 0.6333 | Train recall: 0.5703 | Train f1score: 0.5752 | Train acc: 0.6258 | Train kappa: 0.5725 \n",
      "Val loss: 0.7297 | Val precision: 0.5646 | Val recall: 0.4992 | Val f1score: 0.5114 | Val acc: 0.6250 | Val kappa: 0.4632 \n",
      "\n",
      "Epoch: 12 \n",
      "Learning rate: 0.00021117568016052246\n",
      "Train loss: 0.7468 | Train precision: 0.6359 | Train recall: 0.5624 | Train f1score: 0.5610 | Train acc: 0.6300 | Train kappa: 0.5773 \n",
      "Val loss: 0.7386 | Val precision: 0.5458 | Val recall: 0.5858 | Val f1score: 0.5426 | Val acc: 0.6328 | Val kappa: 0.5122 \n",
      "\n",
      "Epoch: 13 \n",
      "Learning rate: 0.00015838176012039184\n",
      "Train loss: 0.7377 | Train precision: 0.6560 | Train recall: 0.5765 | Train f1score: 0.5873 | Train acc: 0.6273 | Train kappa: 0.5802 \n",
      "Val loss: 0.7383 | Val precision: 0.5641 | Val recall: 0.5670 | Val f1score: 0.5503 | Val acc: 0.6076 | Val kappa: 0.4781 \n",
      "\n",
      "Epoch: 14 \n",
      "Learning rate: 0.00011878632009029388\n",
      "Train loss: 0.7321 | Train precision: 0.6510 | Train recall: 0.5769 | Train f1score: 0.5844 | Train acc: 0.6312 | Train kappa: 0.5860 \n",
      "Val loss: 0.7127 | Val precision: 0.6065 | Val recall: 0.5682 | Val f1score: 0.5582 | Val acc: 0.6267 | Val kappa: 0.4997 \n",
      "\n",
      "Epoch: 15 \n",
      "Learning rate: 8.908974006772042e-05\n",
      "Train loss: 0.7312 | Train precision: 0.6391 | Train recall: 0.5672 | Train f1score: 0.5738 | Train acc: 0.6325 | Train kappa: 0.5799 \n",
      "Val loss: 0.7331 | Val precision: 0.5669 | Val recall: 0.5364 | Val f1score: 0.5484 | Val acc: 0.6155 | Val kappa: 0.4711 \n",
      "\n",
      "Epoch: 16 \n",
      "Learning rate: 6.681730505079031e-05\n",
      "Train loss: 0.7319 | Train precision: 0.6511 | Train recall: 0.5844 | Train f1score: 0.5958 | Train acc: 0.6348 | Train kappa: 0.5918 \n",
      "Val loss: 0.7246 | Val precision: 0.6114 | Val recall: 0.5967 | Val f1score: 0.5846 | Val acc: 0.6215 | Val kappa: 0.5062 \n",
      "\n",
      "Epoch: 17 \n",
      "Learning rate: 5.0112978788092735e-05\n",
      "Train loss: 0.7354 | Train precision: 0.6454 | Train recall: 0.5759 | Train f1score: 0.5854 | Train acc: 0.6316 | Train kappa: 0.5905 \n",
      "Val loss: 0.7306 | Val precision: 0.6044 | Val recall: 0.6026 | Val f1score: 0.5944 | Val acc: 0.6198 | Val kappa: 0.5042 \n",
      "\n",
      "Epoch: 18 \n",
      "Learning rate: 3.758473409106955e-05\n",
      "Train loss: 0.7190 | Train precision: 0.6592 | Train recall: 0.5874 | Train f1score: 0.5971 | Train acc: 0.6429 | Train kappa: 0.6189 \n",
      "Val loss: 0.7295 | Val precision: 0.5807 | Val recall: 0.5614 | Val f1score: 0.5637 | Val acc: 0.6189 | Val kappa: 0.4837 \n",
      "\n",
      "Epoch: 19 \n",
      "Learning rate: 2.8188550568302163e-05\n",
      "Train loss: 0.7348 | Train precision: 0.6671 | Train recall: 0.5838 | Train f1score: 0.5945 | Train acc: 0.6294 | Train kappa: 0.5785 \n",
      "Val loss: 0.7181 | Val precision: 0.6229 | Val recall: 0.5779 | Val f1score: 0.5767 | Val acc: 0.6267 | Val kappa: 0.4938 \n",
      "\n",
      "Epoch: 20 \n",
      "Learning rate: 2.114141292622662e-05\n",
      "Train loss: 0.7320 | Train precision: 0.6531 | Train recall: 0.5666 | Train f1score: 0.5734 | Train acc: 0.6318 | Train kappa: 0.5752 \n",
      "Val loss: 0.7160 | Val precision: 0.6194 | Val recall: 0.5835 | Val f1score: 0.5716 | Val acc: 0.6293 | Val kappa: 0.5040 \n",
      "\n",
      "Epoch: 21 \n",
      "Learning rate: 1.5856059694669965e-05\n",
      "Train loss: 0.7335 | Train precision: 0.6586 | Train recall: 0.5810 | Train f1score: 0.5841 | Train acc: 0.6320 | Train kappa: 0.5835 \n",
      "Val loss: 0.7231 | Val precision: 0.6203 | Val recall: 0.5963 | Val f1score: 0.5871 | Val acc: 0.6311 | Val kappa: 0.5100 \n",
      "\n",
      "Epoch: 22 \n",
      "Learning rate: 1.1892044771002475e-05\n",
      "Train loss: 0.7266 | Train precision: 0.6587 | Train recall: 0.5792 | Train f1score: 0.5862 | Train acc: 0.6362 | Train kappa: 0.5897 \n",
      "Val loss: 0.7221 | Val precision: 0.6182 | Val recall: 0.5892 | Val f1score: 0.5780 | Val acc: 0.6224 | Val kappa: 0.4980 \n",
      "\n",
      "Epoch: 23 \n",
      "Learning rate: 8.919033578251857e-06\n",
      "Train loss: 0.7221 | Train precision: 0.6698 | Train recall: 0.5879 | Train f1score: 0.5972 | Train acc: 0.6355 | Train kappa: 0.5959 \n",
      "Val loss: 0.7227 | Val precision: 0.6178 | Val recall: 0.5886 | Val f1score: 0.5776 | Val acc: 0.6224 | Val kappa: 0.4980 \n",
      "\n",
      "Epoch: 24 \n",
      "Learning rate: 6.689275183688892e-06\n",
      "Train loss: 0.7200 | Train precision: 0.6734 | Train recall: 0.5842 | Train f1score: 0.5933 | Train acc: 0.6403 | Train kappa: 0.6085 \n",
      "Val loss: 0.7203 | Val precision: 0.6196 | Val recall: 0.5900 | Val f1score: 0.5795 | Val acc: 0.6285 | Val kappa: 0.5050 \n",
      "\n",
      "Epoch: 25 \n",
      "Learning rate: 5.016956387766669e-06\n",
      "Train loss: 0.7270 | Train precision: 0.6580 | Train recall: 0.5805 | Train f1score: 0.5890 | Train acc: 0.6365 | Train kappa: 0.5857 \n",
      "Val loss: 0.7198 | Val precision: 0.6078 | Val recall: 0.5794 | Val f1score: 0.5726 | Val acc: 0.6259 | Val kappa: 0.5031 \n",
      "\n",
      "Epoch: 26 \n",
      "Learning rate: 3.762717290825002e-06\n",
      "Train loss: 0.7288 | Train precision: 0.6646 | Train recall: 0.5802 | Train f1score: 0.5923 | Train acc: 0.6328 | Train kappa: 0.5901 \n",
      "Val loss: 0.7193 | Val precision: 0.5990 | Val recall: 0.5784 | Val f1score: 0.5708 | Val acc: 0.6250 | Val kappa: 0.5000 \n",
      "\n",
      "Epoch: 27 \n",
      "Learning rate: 2.8220379681187514e-06\n",
      "Train loss: 0.7372 | Train precision: 0.6565 | Train recall: 0.5823 | Train f1score: 0.5905 | Train acc: 0.6284 | Train kappa: 0.5809 \n",
      "Val loss: 0.7188 | Val precision: 0.6234 | Val recall: 0.5935 | Val f1score: 0.5833 | Val acc: 0.6372 | Val kappa: 0.5151 \n",
      "\n",
      "Early stopping after epoch 27\n"
     ]
    },
    {
     "data": {
      "text/html": [
       "Waiting for W&B process to finish... <strong style=\"color:green\">(success).</strong>"
      ],
      "text/plain": [
       "<IPython.core.display.HTML object>"
      ]
     },
     "metadata": {},
     "output_type": "display_data"
    },
    {
     "data": {
      "text/html": [
       "<style>\n",
       "    table.wandb td:nth-child(1) { padding: 0 10px; text-align: left ; width: auto;} td:nth-child(2) {text-align: left ; width: 100%}\n",
       "    .wandb-row { display: flex; flex-direction: row; flex-wrap: wrap; justify-content: flex-start; width: 100% }\n",
       "    .wandb-col { display: flex; flex-direction: column; flex-basis: 100%; flex: 1; padding: 10px; }\n",
       "    </style>\n",
       "<div class=\"wandb-row\"><div class=\"wandb-col\"><h3>Run history:</h3><br/><table class=\"wandb\"><tr><td>learning_rate</td><td>█▆▅▄▃▃▂▂▂▂▁▁▁▁▁▁▁▁▁▁▁▁▁▁▁▁▁</td></tr><tr><td>train_f1_score</td><td>▁▄▅▅▆▆▆▆▆▇▇▇██▇████▇███████</td></tr><tr><td>train_loss</td><td>█▅▄▄▃▃▃▂▂▂▂▂▂▁▁▁▁▁▁▁▁▁▁▁▁▁▂</td></tr><tr><td>val_f1_score</td><td>▁▃▅▄▄▅▆▅▅▅▆▇▇▇▇██▇█████████</td></tr><tr><td>val_loss</td><td>█▄▄▃▄▃▂▂▂▂▁▁▁▁▁▁▁▁▁▁▁▁▁▁▁▁▁</td></tr></table><br/></div><div class=\"wandb-col\"><h3>Run summary:</h3><br/><table class=\"wandb\"><tr><td>learning_rate</td><td>0.0</td></tr><tr><td>train_f1_score</td><td>0.59048</td></tr><tr><td>train_loss</td><td>0.73723</td></tr><tr><td>val_f1_score</td><td>0.58333</td></tr><tr><td>val_loss</td><td>0.71878</td></tr></table><br/></div></div>"
      ],
      "text/plain": [
       "<IPython.core.display.HTML object>"
      ]
     },
     "metadata": {},
     "output_type": "display_data"
    },
    {
     "data": {
      "text/html": [
       " View run <strong style=\"color:#cdcd00\">fold_3_RGB_4classes</strong> at: <a href='https://wandb.ai/simon-ecke/wze-uav-4classes/runs/w8y0b68j' target=\"_blank\">https://wandb.ai/simon-ecke/wze-uav-4classes/runs/w8y0b68j</a><br/>Synced 5 W&B file(s), 0 media file(s), 0 artifact file(s) and 0 other file(s)"
      ],
      "text/plain": [
       "<IPython.core.display.HTML object>"
      ]
     },
     "metadata": {},
     "output_type": "display_data"
    },
    {
     "data": {
      "text/html": [
       "Find logs at: <code>.\\wandb\\run-20230422_034212-w8y0b68j\\logs</code>"
      ],
      "text/plain": [
       "<IPython.core.display.HTML object>"
      ]
     },
     "metadata": {},
     "output_type": "display_data"
    },
    {
     "name": "stdout",
     "output_type": "stream",
     "text": [
      "Deleting variables and emptying cache\n",
      "Memory allocated: 3197114880 bytes\n",
      "--------------------------------------------------\n",
      "\n",
      "Fold : 4\n",
      "TRAIN POSITIVE RATIO: 0.4704565443351723\n",
      "VAL POSITIVE RATIO  : 0.4825063613231552\n",
      "LENGTH TRAIN GROUPS : 4724\n",
      "LENGTH VAL GROUPS   : 1180\n"
     ]
    },
    {
     "data": {
      "application/vnd.jupyter.widget-view+json": {
       "model_id": "f4dc9e5193394468867ac5d1e2a038dc",
       "version_major": 2,
       "version_minor": 0
      },
      "text/plain": [
       "VBox(children=(Label(value='Waiting for wandb.init()...\\r'), FloatProgress(value=0.01693333333435779, max=1.0)…"
      ]
     },
     "metadata": {},
     "output_type": "display_data"
    },
    {
     "data": {
      "text/html": [
       "wandb version 0.15.0 is available!  To upgrade, please run:\n",
       " $ pip install wandb --upgrade"
      ],
      "text/plain": [
       "<IPython.core.display.HTML object>"
      ]
     },
     "metadata": {},
     "output_type": "display_data"
    },
    {
     "data": {
      "text/html": [
       "Tracking run with wandb version 0.14.2"
      ],
      "text/plain": [
       "<IPython.core.display.HTML object>"
      ]
     },
     "metadata": {},
     "output_type": "display_data"
    },
    {
     "data": {
      "text/html": [
       "Run data is saved locally in <code>C:\\Users\\lwfeckesim\\01_PyTorch\\wze-uav\\wze-uav-master\\wandb\\run-20230422_053308-vz3w3vz6</code>"
      ],
      "text/plain": [
       "<IPython.core.display.HTML object>"
      ]
     },
     "metadata": {},
     "output_type": "display_data"
    },
    {
     "data": {
      "text/html": [
       "Syncing run <strong><a href='https://wandb.ai/simon-ecke/wze-uav-4classes/runs/vz3w3vz6' target=\"_blank\">fold_4_RGB_4classes</a></strong> to <a href='https://wandb.ai/simon-ecke/wze-uav-4classes' target=\"_blank\">Weights & Biases</a> (<a href='https://wandb.me/run' target=\"_blank\">docs</a>)<br/>"
      ],
      "text/plain": [
       "<IPython.core.display.HTML object>"
      ]
     },
     "metadata": {},
     "output_type": "display_data"
    },
    {
     "data": {
      "text/html": [
       " View project at <a href='https://wandb.ai/simon-ecke/wze-uav-4classes' target=\"_blank\">https://wandb.ai/simon-ecke/wze-uav-4classes</a>"
      ],
      "text/plain": [
       "<IPython.core.display.HTML object>"
      ]
     },
     "metadata": {},
     "output_type": "display_data"
    },
    {
     "data": {
      "text/html": [
       " View run at <a href='https://wandb.ai/simon-ecke/wze-uav-4classes/runs/vz3w3vz6' target=\"_blank\">https://wandb.ai/simon-ecke/wze-uav-4classes/runs/vz3w3vz6</a>"
      ],
      "text/plain": [
       "<IPython.core.display.HTML object>"
      ]
     },
     "metadata": {},
     "output_type": "display_data"
    },
    {
     "name": "stdout",
     "output_type": "stream",
     "text": [
      "There are no same hash_id values in train, val or test datasets. The datasplit was successful\n",
      "Check shapes:\n",
      "\n",
      "Images train dataset: (12507, 250, 250, 3)\n",
      "Labels train dataset: (12507, 1)\n",
      "\n",
      "Images validation dataset: (1180, 250, 250, 3)\n",
      "Labels validation dataset: (1180, 1)\n",
      "\n",
      "--------------------------------------------------\n",
      "Check if the split was stratified: (random_state=42)\n",
      "Healthy trees in train dataset: 7396\n",
      "Moderately stressed trees in train dataset: 4543\n",
      "Severely stressed trees in train dataset: 363\n",
      "Dead trees in train dataset: 205\n",
      "Healthy trees in validation dataset: 683\n",
      "Moderately stressed trees in validation dataset: 436\n",
      "Severely stressed trees in validation dataset: 40\n",
      "Dead trees in validation dataset: 21\n",
      "Ratio health trees in validation dataset: 0.07411024305555555\n",
      "Ratio moderately stressed trees in validation dataset: 0.07619713386927647\n",
      "Ratio severely stressed trees in validation dataset: 0.9478260869565217\n",
      "Ratio dead trees in validation dataset: 0.15810276679841898\n",
      "--------------------------------------------------\n",
      "\n",
      "Creating datasets for fold: 4\n",
      "\n",
      "Creating dataloaders for fold: 4\n",
      "\n",
      "[INFO] Created new effnet_b7 model.\n",
      "\n",
      "[INFO] Fold number: 4\n",
      "[INFO] Number of epochs: 50\n",
      "[INFO] Batch_size: 32\n",
      "[INFO] Number of bands: 3\n",
      "[INFO] Dropout rate: 0.5\n",
      "[INFO] Gamma learning rate: 0.75\n",
      "[INFO] Memory allocated: 2387145216 bytes\n"
     ]
    },
    {
     "data": {
      "application/vnd.jupyter.widget-view+json": {
       "model_id": "05563b8a890046faa842511dad821a1a",
       "version_major": 2,
       "version_minor": 0
      },
      "text/plain": [
       "  0%|          | 0/50 [00:00<?, ?it/s]"
      ]
     },
     "metadata": {},
     "output_type": "display_data"
    },
    {
     "name": "stdout",
     "output_type": "stream",
     "text": [
      "Epoch: 1 \n",
      "Learning rate: 0.005\n",
      "Train loss: 0.9548 | Train precision: 0.3935 | Train recall: 0.3437 | Train f1score: 0.3536 | Train acc: 0.5096 | Train kappa: 0.2365 \n",
      "Val loss: 0.9283 | Val precision: 0.3890 | Val recall: 0.4471 | Val f1score: 0.3359 | Val acc: 0.5868 | Val kappa: 0.2665 \n",
      "\n",
      "Epoch: 2 \n",
      "Learning rate: 0.00375\n",
      "Train loss: 0.8506 | Train precision: 0.5084 | Train recall: 0.4593 | Train f1score: 0.4550 | Train acc: 0.5751 | Train kappa: 0.4601 \n",
      "Val loss: 0.8463 | Val precision: 0.4045 | Val recall: 0.3162 | Val f1score: 0.2933 | Val acc: 0.5825 | Val kappa: 0.1933 \n",
      "\n",
      "Epoch: 3 \n",
      "Learning rate: 0.0028125\n",
      "Train loss: 0.8231 | Train precision: 0.5495 | Train recall: 0.4960 | Train f1score: 0.4893 | Train acc: 0.5984 | Train kappa: 0.4852 \n",
      "Val loss: 0.7733 | Val precision: 0.4872 | Val recall: 0.3906 | Val f1score: 0.4123 | Val acc: 0.6311 | Val kappa: 0.3768 \n",
      "\n",
      "Epoch: 4 \n",
      "Learning rate: 0.002109375\n",
      "Train loss: 0.7994 | Train precision: 0.5278 | Train recall: 0.5174 | Train f1score: 0.5064 | Train acc: 0.6061 | Train kappa: 0.5283 \n",
      "Val loss: 0.7443 | Val precision: 0.5952 | Val recall: 0.4688 | Val f1score: 0.4772 | Val acc: 0.6215 | Val kappa: 0.4161 \n",
      "\n",
      "Epoch: 5 \n",
      "Learning rate: 0.00158203125\n",
      "Train loss: 0.7904 | Train precision: 0.5811 | Train recall: 0.5243 | Train f1score: 0.5199 | Train acc: 0.6064 | Train kappa: 0.5394 \n",
      "Val loss: 0.8254 | Val precision: 0.4294 | Val recall: 0.5923 | Val f1score: 0.4605 | Val acc: 0.5799 | Val kappa: 0.4380 \n",
      "\n",
      "Epoch: 6 \n",
      "Learning rate: 0.0011865234375\n",
      "Train loss: 0.7752 | Train precision: 0.5968 | Train recall: 0.5445 | Train f1score: 0.5436 | Train acc: 0.6187 | Train kappa: 0.5627 \n",
      "Val loss: 0.7057 | Val precision: 0.6190 | Val recall: 0.5435 | Val f1score: 0.5413 | Val acc: 0.6389 | Val kappa: 0.4801 \n",
      "\n",
      "Epoch: 7 \n",
      "Learning rate: 0.000889892578125\n",
      "Train loss: 0.7683 | Train precision: 0.6136 | Train recall: 0.5544 | Train f1score: 0.5504 | Train acc: 0.6097 | Train kappa: 0.5508 \n",
      "Val loss: 0.7101 | Val precision: 0.6184 | Val recall: 0.5324 | Val f1score: 0.5207 | Val acc: 0.6345 | Val kappa: 0.4733 \n",
      "\n",
      "Epoch: 8 \n",
      "Learning rate: 0.00066741943359375\n",
      "Train loss: 0.7596 | Train precision: 0.6467 | Train recall: 0.5629 | Train f1score: 0.5732 | Train acc: 0.6231 | Train kappa: 0.5811 \n",
      "Val loss: 0.7173 | Val precision: 0.6768 | Val recall: 0.5451 | Val f1score: 0.5368 | Val acc: 0.6215 | Val kappa: 0.4622 \n",
      "\n",
      "Epoch: 9 \n",
      "Learning rate: 0.0005005645751953125\n",
      "Train loss: 0.7398 | Train precision: 0.6376 | Train recall: 0.5775 | Train f1score: 0.5845 | Train acc: 0.6334 | Train kappa: 0.5798 \n",
      "Val loss: 0.7107 | Val precision: 0.7650 | Val recall: 0.5458 | Val f1score: 0.5544 | Val acc: 0.6302 | Val kappa: 0.4781 \n",
      "\n",
      "Epoch: 10 \n",
      "Learning rate: 0.0003754234313964844\n",
      "Train loss: 0.7563 | Train precision: 0.6277 | Train recall: 0.5543 | Train f1score: 0.5612 | Train acc: 0.6251 | Train kappa: 0.5706 \n",
      "Val loss: 0.7102 | Val precision: 0.5738 | Val recall: 0.5845 | Val f1score: 0.5536 | Val acc: 0.6406 | Val kappa: 0.5089 \n",
      "\n",
      "Epoch: 11 \n",
      "Learning rate: 0.0002815675735473633\n",
      "Train loss: 0.7493 | Train precision: 0.6386 | Train recall: 0.5710 | Train f1score: 0.5815 | Train acc: 0.6300 | Train kappa: 0.5919 \n",
      "Val loss: 0.6947 | Val precision: 0.6246 | Val recall: 0.5517 | Val f1score: 0.5400 | Val acc: 0.6476 | Val kappa: 0.5010 \n",
      "\n",
      "Epoch: 12 \n",
      "Learning rate: 0.00021117568016052246\n",
      "Train loss: 0.7332 | Train precision: 0.6608 | Train recall: 0.5780 | Train f1score: 0.5856 | Train acc: 0.6357 | Train kappa: 0.5824 \n",
      "Val loss: 0.6935 | Val precision: 0.6016 | Val recall: 0.5565 | Val f1score: 0.5530 | Val acc: 0.6432 | Val kappa: 0.5035 \n",
      "\n",
      "Epoch: 13 \n",
      "Learning rate: 0.00015838176012039184\n",
      "Train loss: 0.7312 | Train precision: 0.6499 | Train recall: 0.5772 | Train f1score: 0.5912 | Train acc: 0.6383 | Train kappa: 0.5989 \n",
      "Val loss: 0.6940 | Val precision: 0.5843 | Val recall: 0.5418 | Val f1score: 0.5240 | Val acc: 0.6380 | Val kappa: 0.4837 \n",
      "\n",
      "Epoch: 14 \n",
      "Learning rate: 0.00011878632009029388\n",
      "Train loss: 0.7345 | Train precision: 0.6704 | Train recall: 0.5922 | Train f1score: 0.6046 | Train acc: 0.6251 | Train kappa: 0.5862 \n",
      "Val loss: 0.6882 | Val precision: 0.5911 | Val recall: 0.5628 | Val f1score: 0.5606 | Val acc: 0.6398 | Val kappa: 0.5004 \n",
      "\n",
      "Epoch: 15 \n",
      "Learning rate: 8.908974006772042e-05\n",
      "Train loss: 0.7224 | Train precision: 0.6594 | Train recall: 0.5884 | Train f1score: 0.6038 | Train acc: 0.6395 | Train kappa: 0.5999 \n",
      "Val loss: 0.6881 | Val precision: 0.6098 | Val recall: 0.5767 | Val f1score: 0.5783 | Val acc: 0.6432 | Val kappa: 0.5116 \n",
      "\n",
      "Epoch: 16 \n",
      "Learning rate: 6.681730505079031e-05\n",
      "Train loss: 0.7324 | Train precision: 0.6618 | Train recall: 0.5775 | Train f1score: 0.5955 | Train acc: 0.6301 | Train kappa: 0.5810 \n",
      "Val loss: 0.6787 | Val precision: 0.6091 | Val recall: 0.5530 | Val f1score: 0.5554 | Val acc: 0.6380 | Val kappa: 0.4966 \n",
      "\n",
      "Epoch: 17 \n",
      "Learning rate: 5.0112978788092735e-05\n",
      "Train loss: 0.7228 | Train precision: 0.6727 | Train recall: 0.5899 | Train f1score: 0.6069 | Train acc: 0.6422 | Train kappa: 0.5814 \n",
      "Val loss: 0.6828 | Val precision: 0.5812 | Val recall: 0.5631 | Val f1score: 0.5550 | Val acc: 0.6380 | Val kappa: 0.5028 \n",
      "\n",
      "Epoch: 18 \n",
      "Learning rate: 3.758473409106955e-05\n",
      "Train loss: 0.7293 | Train precision: 0.6780 | Train recall: 0.5974 | Train f1score: 0.6154 | Train acc: 0.6418 | Train kappa: 0.6054 \n",
      "Val loss: 0.6840 | Val precision: 0.5937 | Val recall: 0.5584 | Val f1score: 0.5494 | Val acc: 0.6458 | Val kappa: 0.5013 \n",
      "\n",
      "Epoch: 19 \n",
      "Learning rate: 2.8188550568302163e-05\n",
      "Train loss: 0.7326 | Train precision: 0.6726 | Train recall: 0.5884 | Train f1score: 0.6069 | Train acc: 0.6393 | Train kappa: 0.5952 \n",
      "Val loss: 0.6843 | Val precision: 0.5877 | Val recall: 0.5625 | Val f1score: 0.5550 | Val acc: 0.6354 | Val kappa: 0.4951 \n",
      "\n",
      "Epoch: 20 \n",
      "Learning rate: 2.114141292622662e-05\n",
      "Train loss: 0.7254 | Train precision: 0.6831 | Train recall: 0.5904 | Train f1score: 0.6053 | Train acc: 0.6456 | Train kappa: 0.6156 \n",
      "Val loss: 0.6855 | Val precision: 0.5930 | Val recall: 0.5687 | Val f1score: 0.5604 | Val acc: 0.6424 | Val kappa: 0.5110 \n",
      "\n",
      "Epoch: 21 \n",
      "Learning rate: 1.5856059694669965e-05\n",
      "Train loss: 0.7246 | Train precision: 0.6972 | Train recall: 0.5944 | Train f1score: 0.6141 | Train acc: 0.6340 | Train kappa: 0.5990 \n",
      "Val loss: 0.6832 | Val precision: 0.6020 | Val recall: 0.5650 | Val f1score: 0.5637 | Val acc: 0.6484 | Val kappa: 0.5102 \n",
      "\n",
      "Epoch: 22 \n",
      "Learning rate: 1.1892044771002475e-05\n",
      "Train loss: 0.7273 | Train precision: 0.6662 | Train recall: 0.5901 | Train f1score: 0.6055 | Train acc: 0.6422 | Train kappa: 0.6088 \n",
      "Val loss: 0.6797 | Val precision: 0.6084 | Val recall: 0.5640 | Val f1score: 0.5630 | Val acc: 0.6424 | Val kappa: 0.5082 \n",
      "\n",
      "Epoch: 23 \n",
      "Learning rate: 8.919033578251857e-06\n",
      "Train loss: 0.7270 | Train precision: 0.6804 | Train recall: 0.5957 | Train f1score: 0.6112 | Train acc: 0.6369 | Train kappa: 0.6029 \n",
      "Val loss: 0.6806 | Val precision: 0.6194 | Val recall: 0.5648 | Val f1score: 0.5693 | Val acc: 0.6415 | Val kappa: 0.5107 \n",
      "\n",
      "Epoch: 24 \n",
      "Learning rate: 6.689275183688892e-06\n",
      "Train loss: 0.7294 | Train precision: 0.6808 | Train recall: 0.5923 | Train f1score: 0.6088 | Train acc: 0.6343 | Train kappa: 0.6010 \n",
      "Val loss: 0.6845 | Val precision: 0.5885 | Val recall: 0.5697 | Val f1score: 0.5637 | Val acc: 0.6415 | Val kappa: 0.5060 \n",
      "\n",
      "Epoch: 25 \n",
      "Learning rate: 5.016956387766669e-06\n",
      "Train loss: 0.7314 | Train precision: 0.6634 | Train recall: 0.5927 | Train f1score: 0.6082 | Train acc: 0.6338 | Train kappa: 0.6042 \n",
      "Val loss: 0.6851 | Val precision: 0.5994 | Val recall: 0.5757 | Val f1score: 0.5720 | Val acc: 0.6424 | Val kappa: 0.5082 \n",
      "\n",
      "Epoch: 26 \n",
      "Learning rate: 3.762717290825002e-06\n",
      "Train loss: 0.7249 | Train precision: 0.6823 | Train recall: 0.6045 | Train f1score: 0.6189 | Train acc: 0.6389 | Train kappa: 0.5967 \n",
      "Val loss: 0.6816 | Val precision: 0.6579 | Val recall: 0.5776 | Val f1score: 0.5941 | Val acc: 0.6467 | Val kappa: 0.5162 \n",
      "\n",
      "Epoch: 27 \n",
      "Learning rate: 2.8220379681187514e-06\n",
      "Train loss: 0.7226 | Train precision: 0.6755 | Train recall: 0.5912 | Train f1score: 0.6070 | Train acc: 0.6377 | Train kappa: 0.6014 \n",
      "Val loss: 0.6815 | Val precision: 0.5914 | Val recall: 0.5630 | Val f1score: 0.5608 | Val acc: 0.6406 | Val kappa: 0.5049 \n",
      "\n"
     ]
    },
    {
     "name": "stdout",
     "output_type": "stream",
     "text": [
      "Epoch: 28 \n",
      "Learning rate: 2.1165284760890633e-06\n",
      "Train loss: 0.7243 | Train precision: 0.6688 | Train recall: 0.5989 | Train f1score: 0.6118 | Train acc: 0.6351 | Train kappa: 0.6020 \n",
      "Val loss: 0.6836 | Val precision: 0.5757 | Val recall: 0.5641 | Val f1score: 0.5552 | Val acc: 0.6380 | Val kappa: 0.5041 \n",
      "\n",
      "Epoch: 29 \n",
      "Learning rate: 1.5873963570667977e-06\n",
      "Train loss: 0.7155 | Train precision: 0.6725 | Train recall: 0.6005 | Train f1score: 0.6155 | Train acc: 0.6473 | Train kappa: 0.6034 \n",
      "Val loss: 0.6828 | Val precision: 0.5931 | Val recall: 0.5658 | Val f1score: 0.5630 | Val acc: 0.6415 | Val kappa: 0.5096 \n",
      "\n",
      "Epoch: 30 \n",
      "Learning rate: 1.1905472678000981e-06\n",
      "Train loss: 0.7291 | Train precision: 0.6896 | Train recall: 0.5969 | Train f1score: 0.6133 | Train acc: 0.6424 | Train kappa: 0.6032 \n",
      "Val loss: 0.6845 | Val precision: 0.5771 | Val recall: 0.5646 | Val f1score: 0.5562 | Val acc: 0.6432 | Val kappa: 0.5071 \n",
      "\n",
      "Epoch: 31 \n",
      "Learning rate: 1e-06\n",
      "Train loss: 0.7285 | Train precision: 0.6775 | Train recall: 0.6037 | Train f1score: 0.6196 | Train acc: 0.6373 | Train kappa: 0.5923 \n",
      "Val loss: 0.6819 | Val precision: 0.6244 | Val recall: 0.5723 | Val f1score: 0.5783 | Val acc: 0.6398 | Val kappa: 0.5143 \n",
      "\n",
      "Epoch: 32 \n",
      "Learning rate: 1e-06\n",
      "Train loss: 0.7299 | Train precision: 0.6821 | Train recall: 0.5980 | Train f1score: 0.6168 | Train acc: 0.6353 | Train kappa: 0.6072 \n",
      "Val loss: 0.6834 | Val precision: 0.5909 | Val recall: 0.5656 | Val f1score: 0.5581 | Val acc: 0.6424 | Val kappa: 0.5039 \n",
      "\n",
      "Epoch: 33 \n",
      "Learning rate: 1e-06\n",
      "Train loss: 0.7324 | Train precision: 0.6605 | Train recall: 0.5889 | Train f1score: 0.6015 | Train acc: 0.6315 | Train kappa: 0.5838 \n",
      "Val loss: 0.6841 | Val precision: 0.5849 | Val recall: 0.5678 | Val f1score: 0.5590 | Val acc: 0.6415 | Val kappa: 0.5109 \n",
      "\n",
      "Epoch: 34 \n",
      "Learning rate: 1e-06\n",
      "Train loss: 0.7242 | Train precision: 0.6542 | Train recall: 0.5949 | Train f1score: 0.6063 | Train acc: 0.6433 | Train kappa: 0.5959 \n",
      "Val loss: 0.6834 | Val precision: 0.5750 | Val recall: 0.5633 | Val f1score: 0.5545 | Val acc: 0.6372 | Val kappa: 0.5029 \n",
      "\n",
      "Epoch: 35 \n",
      "Learning rate: 1e-06\n",
      "Train loss: 0.7181 | Train precision: 0.6662 | Train recall: 0.5923 | Train f1score: 0.6048 | Train acc: 0.6404 | Train kappa: 0.6016 \n",
      "Val loss: 0.6859 | Val precision: 0.5902 | Val recall: 0.5727 | Val f1score: 0.5659 | Val acc: 0.6406 | Val kappa: 0.5086 \n",
      "\n",
      "Epoch: 36 \n",
      "Learning rate: 1e-06\n",
      "Train loss: 0.7286 | Train precision: 0.6782 | Train recall: 0.5947 | Train f1score: 0.6131 | Train acc: 0.6449 | Train kappa: 0.5924 \n",
      "Val loss: 0.6818 | Val precision: 0.6006 | Val recall: 0.5645 | Val f1score: 0.5630 | Val acc: 0.6450 | Val kappa: 0.5093 \n",
      "\n",
      "Early stopping after epoch 36\n"
     ]
    },
    {
     "data": {
      "text/html": [
       "Waiting for W&B process to finish... <strong style=\"color:green\">(success).</strong>"
      ],
      "text/plain": [
       "<IPython.core.display.HTML object>"
      ]
     },
     "metadata": {},
     "output_type": "display_data"
    },
    {
     "data": {
      "text/html": [
       "<style>\n",
       "    table.wandb td:nth-child(1) { padding: 0 10px; text-align: left ; width: auto;} td:nth-child(2) {text-align: left ; width: 100%}\n",
       "    .wandb-row { display: flex; flex-direction: row; flex-wrap: wrap; justify-content: flex-start; width: 100% }\n",
       "    .wandb-col { display: flex; flex-direction: column; flex-basis: 100%; flex: 1; padding: 10px; }\n",
       "    </style>\n",
       "<div class=\"wandb-row\"><div class=\"wandb-col\"><h3>Run history:</h3><br/><table class=\"wandb\"><tr><td>learning_rate</td><td>█▆▅▄▃▃▂▂▂▂▁▁▁▁▁▁▁▁▁▁▁▁▁▁▁▁▁▁▁▁▁▁▁▁▁▁</td></tr><tr><td>train_f1_score</td><td>▁▄▅▅▅▆▆▇▇▆▇▇▇██▇████████████████████</td></tr><tr><td>train_loss</td><td>█▅▄▃▃▃▃▂▂▂▂▂▁▂▁▁▁▁▁▁▁▁▁▁▁▁▁▁▁▁▁▁▁▁▁▁</td></tr><tr><td>val_f1_score</td><td>▂▁▄▅▅▇▆▇▇▇▇▇▆▇█▇▇▇▇▇▇▇▇▇▇█▇▇▇▇█▇▇▇▇▇</td></tr><tr><td>val_loss</td><td>█▆▄▃▅▂▂▂▂▂▁▁▁▁▁▁▁▁▁▁▁▁▁▁▁▁▁▁▁▁▁▁▁▁▁▁</td></tr></table><br/></div><div class=\"wandb-col\"><h3>Run summary:</h3><br/><table class=\"wandb\"><tr><td>learning_rate</td><td>0.0</td></tr><tr><td>train_f1_score</td><td>0.61313</td></tr><tr><td>train_loss</td><td>0.72861</td></tr><tr><td>val_f1_score</td><td>0.56299</td></tr><tr><td>val_loss</td><td>0.68178</td></tr></table><br/></div></div>"
      ],
      "text/plain": [
       "<IPython.core.display.HTML object>"
      ]
     },
     "metadata": {},
     "output_type": "display_data"
    },
    {
     "data": {
      "text/html": [
       " View run <strong style=\"color:#cdcd00\">fold_4_RGB_4classes</strong> at: <a href='https://wandb.ai/simon-ecke/wze-uav-4classes/runs/vz3w3vz6' target=\"_blank\">https://wandb.ai/simon-ecke/wze-uav-4classes/runs/vz3w3vz6</a><br/>Synced 5 W&B file(s), 0 media file(s), 0 artifact file(s) and 0 other file(s)"
      ],
      "text/plain": [
       "<IPython.core.display.HTML object>"
      ]
     },
     "metadata": {},
     "output_type": "display_data"
    },
    {
     "data": {
      "text/html": [
       "Find logs at: <code>.\\wandb\\run-20230422_053308-vz3w3vz6\\logs</code>"
      ],
      "text/plain": [
       "<IPython.core.display.HTML object>"
      ]
     },
     "metadata": {},
     "output_type": "display_data"
    },
    {
     "name": "stdout",
     "output_type": "stream",
     "text": [
      "Deleting variables and emptying cache\n",
      "Memory allocated: 3200961024 bytes\n",
      "--------------------------------------------------\n",
      "\n",
      "Fold : 5\n",
      "TRAIN POSITIVE RATIO: 0.47794585987261146\n",
      "VAL POSITIVE RATIO  : 0.45228081527013914\n",
      "LENGTH TRAIN GROUPS : 4728\n",
      "LENGTH VAL GROUPS   : 1176\n"
     ]
    },
    {
     "data": {
      "text/html": [
       "wandb version 0.15.0 is available!  To upgrade, please run:\n",
       " $ pip install wandb --upgrade"
      ],
      "text/plain": [
       "<IPython.core.display.HTML object>"
      ]
     },
     "metadata": {},
     "output_type": "display_data"
    },
    {
     "data": {
      "text/html": [
       "Tracking run with wandb version 0.14.2"
      ],
      "text/plain": [
       "<IPython.core.display.HTML object>"
      ]
     },
     "metadata": {},
     "output_type": "display_data"
    },
    {
     "data": {
      "text/html": [
       "Run data is saved locally in <code>C:\\Users\\lwfeckesim\\01_PyTorch\\wze-uav\\wze-uav-master\\wandb\\run-20230422_080014-z5evhx7z</code>"
      ],
      "text/plain": [
       "<IPython.core.display.HTML object>"
      ]
     },
     "metadata": {},
     "output_type": "display_data"
    },
    {
     "data": {
      "text/html": [
       "Syncing run <strong><a href='https://wandb.ai/simon-ecke/wze-uav-4classes/runs/z5evhx7z' target=\"_blank\">fold_5_RGB_4classes</a></strong> to <a href='https://wandb.ai/simon-ecke/wze-uav-4classes' target=\"_blank\">Weights & Biases</a> (<a href='https://wandb.me/run' target=\"_blank\">docs</a>)<br/>"
      ],
      "text/plain": [
       "<IPython.core.display.HTML object>"
      ]
     },
     "metadata": {},
     "output_type": "display_data"
    },
    {
     "data": {
      "text/html": [
       " View project at <a href='https://wandb.ai/simon-ecke/wze-uav-4classes' target=\"_blank\">https://wandb.ai/simon-ecke/wze-uav-4classes</a>"
      ],
      "text/plain": [
       "<IPython.core.display.HTML object>"
      ]
     },
     "metadata": {},
     "output_type": "display_data"
    },
    {
     "data": {
      "text/html": [
       " View run at <a href='https://wandb.ai/simon-ecke/wze-uav-4classes/runs/z5evhx7z' target=\"_blank\">https://wandb.ai/simon-ecke/wze-uav-4classes/runs/z5evhx7z</a>"
      ],
      "text/plain": [
       "<IPython.core.display.HTML object>"
      ]
     },
     "metadata": {},
     "output_type": "display_data"
    },
    {
     "name": "stdout",
     "output_type": "stream",
     "text": [
      "There are no same hash_id values in train, val or test datasets. The datasplit was successful\n",
      "Check shapes:\n",
      "\n",
      "Images train dataset: (12560, 250, 250, 3)\n",
      "Labels train dataset: (12560, 1)\n",
      "\n",
      "Images validation dataset: (1176, 250, 250, 3)\n",
      "Labels validation dataset: (1176, 1)\n",
      "\n",
      "--------------------------------------------------\n",
      "Check if the split was stratified: (random_state=42)\n",
      "Healthy trees in train dataset: 7364\n",
      "Moderately stressed trees in train dataset: 4597\n",
      "Severely stressed trees in train dataset: 391\n",
      "Dead trees in train dataset: 208\n",
      "Healthy trees in validation dataset: 698\n",
      "Moderately stressed trees in validation dataset: 433\n",
      "Severely stressed trees in validation dataset: 24\n",
      "Dead trees in validation dataset: 21\n",
      "Ratio health trees in validation dataset: 0.07573784722222222\n",
      "Ratio moderately stressed trees in validation dataset: 0.07567284166375393\n",
      "Ratio severely stressed trees in validation dataset: 0.941304347826087\n",
      "Ratio dead trees in validation dataset: 0.09486166007905138\n",
      "--------------------------------------------------\n",
      "\n",
      "Creating datasets for fold: 5\n",
      "\n",
      "Creating dataloaders for fold: 5\n",
      "\n",
      "[INFO] Created new effnet_b7 model.\n",
      "\n",
      "[INFO] Fold number: 5\n",
      "[INFO] Number of epochs: 50\n",
      "[INFO] Batch_size: 32\n",
      "[INFO] Number of bands: 3\n",
      "[INFO] Dropout rate: 0.5\n",
      "[INFO] Gamma learning rate: 0.75\n",
      "[INFO] Memory allocated: 2389433344 bytes\n"
     ]
    },
    {
     "data": {
      "application/vnd.jupyter.widget-view+json": {
       "model_id": "47088ab527c540e2ae571aaf3df681ab",
       "version_major": 2,
       "version_minor": 0
      },
      "text/plain": [
       "  0%|          | 0/50 [00:00<?, ?it/s]"
      ]
     },
     "metadata": {},
     "output_type": "display_data"
    },
    {
     "name": "stdout",
     "output_type": "stream",
     "text": [
      "Epoch: 1 \n",
      "Learning rate: 0.005\n",
      "Train loss: 0.9894 | Train precision: 0.3869 | Train recall: 0.3355 | Train f1score: 0.3424 | Train acc: 0.4898 | Train kappa: 0.2128 \n",
      "Val loss: 1.2780 | Val precision: 0.2947 | Val recall: 0.2718 | Val f1score: 0.2376 | Val acc: 0.6137 | Val kappa: 0.1737 \n",
      "\n",
      "Epoch: 2 \n",
      "Learning rate: 0.00375\n",
      "Train loss: 0.8638 | Train precision: 0.4607 | Train recall: 0.4253 | Train f1score: 0.4233 | Train acc: 0.5639 | Train kappa: 0.4043 \n",
      "Val loss: 1.4371 | Val precision: 0.3232 | Val recall: 0.4467 | Val f1score: 0.2496 | Val acc: 0.3898 | Val kappa: 0.2157 \n",
      "\n",
      "Epoch: 3 \n",
      "Learning rate: 0.0028125\n",
      "Train loss: 0.8459 | Train precision: 0.4701 | Train recall: 0.4553 | Train f1score: 0.4486 | Train acc: 0.5734 | Train kappa: 0.4627 \n",
      "Val loss: 0.7636 | Val precision: 0.5139 | Val recall: 0.5125 | Val f1score: 0.5061 | Val acc: 0.6207 | Val kappa: 0.4532 \n",
      "\n",
      "Epoch: 4 \n",
      "Learning rate: 0.002109375\n",
      "Train loss: 0.8132 | Train precision: 0.5482 | Train recall: 0.5068 | Train f1score: 0.4935 | Train acc: 0.6012 | Train kappa: 0.5172 \n",
      "Val loss: 0.7300 | Val precision: 0.5244 | Val recall: 0.4917 | Val f1score: 0.5042 | Val acc: 0.6207 | Val kappa: 0.4410 \n",
      "\n",
      "Epoch: 5 \n",
      "Learning rate: 0.00158203125\n",
      "Train loss: 0.7916 | Train precision: 0.5811 | Train recall: 0.5248 | Train f1score: 0.5200 | Train acc: 0.6050 | Train kappa: 0.5309 \n",
      "Val loss: 0.7369 | Val precision: 0.5528 | Val recall: 0.3795 | Val f1score: 0.4141 | Val acc: 0.6372 | Val kappa: 0.3698 \n",
      "\n",
      "Epoch: 6 \n",
      "Learning rate: 0.0011865234375\n",
      "Train loss: 0.7891 | Train precision: 0.5837 | Train recall: 0.5315 | Train f1score: 0.5277 | Train acc: 0.6096 | Train kappa: 0.5501 \n",
      "Val loss: 0.7130 | Val precision: 0.5607 | Val recall: 0.3810 | Val f1score: 0.4130 | Val acc: 0.6424 | Val kappa: 0.4030 \n",
      "\n",
      "Epoch: 7 \n",
      "Learning rate: 0.000889892578125\n",
      "Train loss: 0.7735 | Train precision: 0.6004 | Train recall: 0.5498 | Train f1score: 0.5480 | Train acc: 0.6165 | Train kappa: 0.5690 \n",
      "Val loss: 0.6996 | Val precision: 0.5633 | Val recall: 0.4831 | Val f1score: 0.5133 | Val acc: 0.6554 | Val kappa: 0.4768 \n",
      "\n",
      "Epoch: 8 \n",
      "Learning rate: 0.00066741943359375\n",
      "Train loss: 0.7651 | Train precision: 0.5888 | Train recall: 0.5384 | Train f1score: 0.5387 | Train acc: 0.6117 | Train kappa: 0.5547 \n",
      "Val loss: 0.7210 | Val precision: 0.5640 | Val recall: 0.4784 | Val f1score: 0.5050 | Val acc: 0.6259 | Val kappa: 0.4605 \n",
      "\n",
      "Epoch: 9 \n",
      "Learning rate: 0.0005005645751953125\n",
      "Train loss: 0.7660 | Train precision: 0.6118 | Train recall: 0.5491 | Train f1score: 0.5567 | Train acc: 0.6167 | Train kappa: 0.5668 \n",
      "Val loss: 0.7018 | Val precision: 0.5637 | Val recall: 0.4543 | Val f1score: 0.4899 | Val acc: 0.6424 | Val kappa: 0.4629 \n",
      "\n",
      "Epoch: 10 \n",
      "Learning rate: 0.0003754234313964844\n",
      "Train loss: 0.7508 | Train precision: 0.6411 | Train recall: 0.5720 | Train f1score: 0.5838 | Train acc: 0.6286 | Train kappa: 0.5909 \n",
      "Val loss: 0.6766 | Val precision: 0.5327 | Val recall: 0.5287 | Val f1score: 0.5268 | Val acc: 0.6615 | Val kappa: 0.5154 \n",
      "\n",
      "Epoch: 11 \n",
      "Learning rate: 0.0002815675735473633\n",
      "Train loss: 0.7459 | Train precision: 0.6502 | Train recall: 0.5798 | Train f1score: 0.5948 | Train acc: 0.6278 | Train kappa: 0.5927 \n",
      "Val loss: 0.6868 | Val precision: 0.5607 | Val recall: 0.4561 | Val f1score: 0.4866 | Val acc: 0.6467 | Val kappa: 0.4754 \n",
      "\n",
      "Epoch: 12 \n",
      "Learning rate: 0.00021117568016052246\n",
      "Train loss: 0.7492 | Train precision: 0.6390 | Train recall: 0.5664 | Train f1score: 0.5808 | Train acc: 0.6240 | Train kappa: 0.5731 \n",
      "Val loss: 0.6700 | Val precision: 0.5916 | Val recall: 0.5469 | Val f1score: 0.5565 | Val acc: 0.6554 | Val kappa: 0.5099 \n",
      "\n",
      "Epoch: 13 \n",
      "Learning rate: 0.00015838176012039184\n",
      "Train loss: 0.7359 | Train precision: 0.6439 | Train recall: 0.5821 | Train f1score: 0.5932 | Train acc: 0.6358 | Train kappa: 0.6054 \n",
      "Val loss: 0.6722 | Val precision: 0.5663 | Val recall: 0.5207 | Val f1score: 0.5399 | Val acc: 0.6580 | Val kappa: 0.5115 \n",
      "\n",
      "Epoch: 14 \n",
      "Learning rate: 0.00011878632009029388\n",
      "Train loss: 0.7290 | Train precision: 0.6561 | Train recall: 0.5891 | Train f1score: 0.6009 | Train acc: 0.6386 | Train kappa: 0.6095 \n",
      "Val loss: 0.6879 | Val precision: 0.5667 | Val recall: 0.5368 | Val f1score: 0.5497 | Val acc: 0.6458 | Val kappa: 0.5098 \n",
      "\n",
      "Epoch: 15 \n",
      "Learning rate: 8.908974006772042e-05\n",
      "Train loss: 0.7441 | Train precision: 0.6485 | Train recall: 0.5802 | Train f1score: 0.5965 | Train acc: 0.6283 | Train kappa: 0.5863 \n",
      "Val loss: 0.6788 | Val precision: 0.5836 | Val recall: 0.5459 | Val f1score: 0.5592 | Val acc: 0.6510 | Val kappa: 0.5140 \n",
      "\n",
      "Epoch: 16 \n",
      "Learning rate: 6.681730505079031e-05\n",
      "Train loss: 0.7319 | Train precision: 0.6675 | Train recall: 0.5916 | Train f1score: 0.6088 | Train acc: 0.6406 | Train kappa: 0.6016 \n",
      "Val loss: 0.6755 | Val precision: 0.5668 | Val recall: 0.5229 | Val f1score: 0.5420 | Val acc: 0.6571 | Val kappa: 0.5159 \n",
      "\n",
      "Epoch: 17 \n",
      "Learning rate: 5.0112978788092735e-05\n",
      "Train loss: 0.7324 | Train precision: 0.6533 | Train recall: 0.5839 | Train f1score: 0.5978 | Train acc: 0.6329 | Train kappa: 0.5873 \n",
      "Val loss: 0.6712 | Val precision: 0.5847 | Val recall: 0.5443 | Val f1score: 0.5585 | Val acc: 0.6571 | Val kappa: 0.5169 \n",
      "\n",
      "Epoch: 18 \n",
      "Learning rate: 3.758473409106955e-05\n",
      "Train loss: 0.7266 | Train precision: 0.6703 | Train recall: 0.5908 | Train f1score: 0.6105 | Train acc: 0.6415 | Train kappa: 0.6063 \n",
      "Val loss: 0.6719 | Val precision: 0.5504 | Val recall: 0.5291 | Val f1score: 0.5378 | Val acc: 0.6545 | Val kappa: 0.5123 \n",
      "\n",
      "Epoch: 19 \n",
      "Learning rate: 2.8188550568302163e-05\n",
      "Train loss: 0.7321 | Train precision: 0.6661 | Train recall: 0.5963 | Train f1score: 0.6119 | Train acc: 0.6344 | Train kappa: 0.6000 \n",
      "Val loss: 0.6735 | Val precision: 0.5913 | Val recall: 0.5388 | Val f1score: 0.5584 | Val acc: 0.6536 | Val kappa: 0.5123 \n",
      "\n",
      "Epoch: 20 \n",
      "Learning rate: 2.114141292622662e-05\n",
      "Train loss: 0.7313 | Train precision: 0.6767 | Train recall: 0.5989 | Train f1score: 0.6203 | Train acc: 0.6375 | Train kappa: 0.6028 \n",
      "Val loss: 0.6736 | Val precision: 0.5664 | Val recall: 0.5210 | Val f1score: 0.5406 | Val acc: 0.6562 | Val kappa: 0.5132 \n",
      "\n",
      "Epoch: 21 \n",
      "Learning rate: 1.5856059694669965e-05\n",
      "Train loss: 0.7282 | Train precision: 0.6744 | Train recall: 0.6042 | Train f1score: 0.6251 | Train acc: 0.6400 | Train kappa: 0.6075 \n",
      "Val loss: 0.6726 | Val precision: 0.5648 | Val recall: 0.5199 | Val f1score: 0.5391 | Val acc: 0.6545 | Val kappa: 0.5119 \n",
      "\n",
      "Epoch: 22 \n",
      "Learning rate: 1.1892044771002475e-05\n",
      "Train loss: 0.7285 | Train precision: 0.6755 | Train recall: 0.5951 | Train f1score: 0.6168 | Train acc: 0.6354 | Train kappa: 0.5891 \n",
      "Val loss: 0.6729 | Val precision: 0.5652 | Val recall: 0.5202 | Val f1score: 0.5395 | Val acc: 0.6554 | Val kappa: 0.5130 \n",
      "\n",
      "Epoch: 23 \n",
      "Learning rate: 8.919033578251857e-06\n",
      "Train loss: 0.7314 | Train precision: 0.6557 | Train recall: 0.5894 | Train f1score: 0.6034 | Train acc: 0.6390 | Train kappa: 0.6020 \n",
      "Val loss: 0.6740 | Val precision: 0.5693 | Val recall: 0.5393 | Val f1score: 0.5529 | Val acc: 0.6597 | Val kappa: 0.5229 \n",
      "\n",
      "Epoch: 24 \n",
      "Learning rate: 6.689275183688892e-06\n",
      "Train loss: 0.7365 | Train precision: 0.6479 | Train recall: 0.5796 | Train f1score: 0.5960 | Train acc: 0.6276 | Train kappa: 0.5864 \n",
      "Val loss: 0.6735 | Val precision: 0.5683 | Val recall: 0.5372 | Val f1score: 0.5513 | Val acc: 0.6597 | Val kappa: 0.5222 \n",
      "\n",
      "Epoch: 25 \n",
      "Learning rate: 5.016956387766669e-06\n",
      "Train loss: 0.7295 | Train precision: 0.6566 | Train recall: 0.5925 | Train f1score: 0.6066 | Train acc: 0.6373 | Train kappa: 0.5948 \n",
      "Val loss: 0.6744 | Val precision: 0.5673 | Val recall: 0.5234 | Val f1score: 0.5425 | Val acc: 0.6580 | Val kappa: 0.5171 \n",
      "\n",
      "Early stopping after epoch 25\n"
     ]
    },
    {
     "data": {
      "text/html": [
       "Waiting for W&B process to finish... <strong style=\"color:green\">(success).</strong>"
      ],
      "text/plain": [
       "<IPython.core.display.HTML object>"
      ]
     },
     "metadata": {},
     "output_type": "display_data"
    },
    {
     "data": {
      "text/html": [
       "<style>\n",
       "    table.wandb td:nth-child(1) { padding: 0 10px; text-align: left ; width: auto;} td:nth-child(2) {text-align: left ; width: 100%}\n",
       "    .wandb-row { display: flex; flex-direction: row; flex-wrap: wrap; justify-content: flex-start; width: 100% }\n",
       "    .wandb-col { display: flex; flex-direction: column; flex-basis: 100%; flex: 1; padding: 10px; }\n",
       "    </style>\n",
       "<div class=\"wandb-row\"><div class=\"wandb-col\"><h3>Run history:</h3><br/><table class=\"wandb\"><tr><td>learning_rate</td><td>█▆▅▄▃▃▂▂▂▂▁▁▁▁▁▁▁▁▁▁▁▁▁▁▁</td></tr><tr><td>train_f1_score</td><td>▁▃▄▅▅▆▆▆▆▇▇▇▇▇▇█▇█████▇▇█</td></tr><tr><td>train_loss</td><td>█▅▄▃▃▃▂▂▂▂▂▂▁▁▁▁▁▁▁▁▁▁▁▁▁</td></tr><tr><td>val_f1_score</td><td>▁▁▇▇▅▅▇▇▆▇▆██████████████</td></tr><tr><td>val_loss</td><td>▇█▂▂▂▁▁▁▁▁▁▁▁▁▁▁▁▁▁▁▁▁▁▁▁</td></tr></table><br/></div><div class=\"wandb-col\"><h3>Run summary:</h3><br/><table class=\"wandb\"><tr><td>learning_rate</td><td>1e-05</td></tr><tr><td>train_f1_score</td><td>0.60665</td></tr><tr><td>train_loss</td><td>0.72947</td></tr><tr><td>val_f1_score</td><td>0.54254</td></tr><tr><td>val_loss</td><td>0.67443</td></tr></table><br/></div></div>"
      ],
      "text/plain": [
       "<IPython.core.display.HTML object>"
      ]
     },
     "metadata": {},
     "output_type": "display_data"
    },
    {
     "data": {
      "text/html": [
       " View run <strong style=\"color:#cdcd00\">fold_5_RGB_4classes</strong> at: <a href='https://wandb.ai/simon-ecke/wze-uav-4classes/runs/z5evhx7z' target=\"_blank\">https://wandb.ai/simon-ecke/wze-uav-4classes/runs/z5evhx7z</a><br/>Synced 5 W&B file(s), 0 media file(s), 0 artifact file(s) and 0 other file(s)"
      ],
      "text/plain": [
       "<IPython.core.display.HTML object>"
      ]
     },
     "metadata": {},
     "output_type": "display_data"
    },
    {
     "data": {
      "text/html": [
       "Find logs at: <code>.\\wandb\\run-20230422_080014-z5evhx7z\\logs</code>"
      ],
      "text/plain": [
       "<IPython.core.display.HTML object>"
      ]
     },
     "metadata": {},
     "output_type": "display_data"
    },
    {
     "name": "stdout",
     "output_type": "stream",
     "text": [
      "Deleting variables and emptying cache\n",
      "Memory allocated: 3196934656 bytes\n",
      "--------------------------------------------------\n",
      "\n",
      "CPU times: total: 5h 16min 19s\n",
      "Wall time: 9h 47min 19s\n"
     ]
    }
   ],
   "source": [
    "%%time\n",
    "\n",
    "# Set the random seeds\n",
    "set_seeds(42)\n",
    "\n",
    "# Define the number of folds\n",
    "num_folds = 5\n",
    "\n",
    "# group the hashIDs to get the unique values of hashIDs remaining in the subset  \n",
    "groups = sub_hash_id[:, 0] \n",
    "print(\"ORIGINAL POSITIVE RATIO:\", sub_label_set.mean())\n",
    "# create a StratifiedGroupKFold instance\n",
    "kf = StratifiedGroupKFold(n_splits=num_folds, shuffle=True, random_state=42)\n",
    "\n",
    "# loop through the folds\n",
    "for fold, (train_ids, val_ids) in enumerate(kf.split(sub_image_set, sub_label_set, groups)):\n",
    "    print(\"Fold :\", fold+1)\n",
    "    print(\"TRAIN POSITIVE RATIO:\", sub_label_set[train_ids].mean())\n",
    "    print(\"VAL POSITIVE RATIO  :\", sub_label_set[val_ids].mean())\n",
    "    print(\"LENGTH TRAIN GROUPS :\", len(set(groups[train_ids])))\n",
    "    print(\"LENGTH VAL GROUPS   :\", len(set(groups[val_ids])))\n",
    "    \n",
    "    train_ids = sub_hash_id[:, 0][train_ids]\n",
    "    val_ids = np.unique(sub_hash_id[:, 0][val_ids])\n",
    "\n",
    "    torch.cuda.empty_cache()\n",
    "    \n",
    "    # Initialize a new wandb run for this fold\n",
    "    wandb.init(project='wze-uav-4classes', name=f\"fold_{fold + 1}_{extra}\")\n",
    "    \n",
    "    # 1. Split data into train and validation set\n",
    "    # Get the training and testing data for this fold\n",
    "    # Use np.isin() to create boolean arrays indicating which indices belong to train or test sets\n",
    "    train_indices = np.isin(sub_hash_id[:,0], train_ids)\n",
    "    \n",
    "    val_indices = np.zeros_like(train_indices)  # initialize to all False\n",
    "    for hash_id_val in val_ids:\n",
    "        # select one image ID randomly from either 2020 or 2021 or 2022 for each unique hash ID in the test set\n",
    "        temp = np.unique(sub_hash_id[(sub_hash_id[:, 0] == hash_id_val), 1]) # check how many years are available per hashID\n",
    "        if len(temp) == 1:\n",
    "            year = temp[0]\n",
    "        elif len(temp) == 2:\n",
    "            year = np.random.choice(temp)\n",
    "        else:\n",
    "            year = np.random.choice(temp)\n",
    "        \n",
    "        # select image ID using the conditions\n",
    "        image_ids = sub_hash_id[(sub_hash_id[:,0] == hash_id_val) & (sub_hash_id[:,1] == year), 0]\n",
    "    \n",
    "        # mark the index corresponding to the selected image ID and hash ID as True in the test indices array\n",
    "        val_indices[(sub_hash_id[:,0] == hash_id_val) & (sub_hash_id[:,1] == year) & (np.isin(sub_hash_id[:,0], image_ids))] = True \n",
    "    \n",
    "    # Reshape boolean arrays to match shape of image_set and label_set\n",
    "    train_indices = train_indices.reshape(-1, 1)\n",
    "    val_indices = val_indices.reshape(-1, 1)\n",
    "    \n",
    "    # Select images and labels for train and validation sets\n",
    "    train_image_set = sub_image_set[train_indices[:, 0]]\n",
    "    train_label_set = sub_label_set[train_indices[:, 0]]\n",
    "    train_hash_id = sub_hash_id[train_indices[:, 0]][:,0]\n",
    "    train_species_set = sub_species_set[train_indices[:, 0]]\n",
    "    val_image_set = sub_image_set[val_indices[:, 0]]\n",
    "    val_label_set = sub_label_set[val_indices[:, 0]]\n",
    "    val_hash_id = sub_hash_id[val_indices[:, 0]][:,0]\n",
    "    val_species_set = sub_species_set[val_indices[:, 0]]\n",
    "    # reshape \n",
    "    train_label_set = train_label_set.reshape(-1, 1)\n",
    "    val_label_set = val_label_set.reshape(-1, 1)\n",
    "    train_species_set = train_species_set.reshape(-1, 1)\n",
    "    val_species_set = val_species_set.reshape(-1, 1)\n",
    "    \n",
    "    # check if there are any group overlaps between the data splits\n",
    "    hash_set = set(train_hash_id)\n",
    "    val_hash_set = set(val_hash_id)\n",
    "    test_hash_set = set(test_hash_id[:, 0].flatten())\n",
    "    intersection = hash_set.intersection(val_hash_set)\n",
    "    intersection2 = test_hash_set.intersection(val_hash_set)\n",
    "    intersection3 = hash_set.intersection(test_hash_set)\n",
    "    if intersection:\n",
    "        print(f\"Hash_id values in both train and val sets: {len(intersection)}\")\n",
    "        print(f\"Hash_id values in both test and val sets: {len(intersection2)}\")\n",
    "        print(f\"Hash_id values in both train and test sets: {len(intersection3)}\")\n",
    "    else:\n",
    "        print(\"There are no same hash_id values in train, val or test datasets. The datasplit was successful\")\n",
    "    \n",
    "         \n",
    "    print(\"Check shapes:\\n\")\n",
    "    print(f\"Images train dataset: {train_image_set.shape}\")\n",
    "    print(f\"Labels train dataset: {train_label_set.shape}\\n\")\n",
    "    \n",
    "    print(f\"Images validation dataset: {val_image_set.shape}\")\n",
    "    print(f\"Labels validation dataset: {val_label_set.shape}\\n\")\n",
    "    print('-'*50)\n",
    "    print (f\"Check if the split was stratified: (random_state=42)\")\n",
    "    print(f\"Healthy trees in train dataset: {np.count_nonzero(train_label_set == 0)}\")\n",
    "    print(f\"Moderately stressed trees in train dataset: {np.count_nonzero(train_label_set == 1)}\")\n",
    "    print(f\"Severely stressed trees in train dataset: {np.count_nonzero(train_label_set == 2)}\")\n",
    "    print(f\"Dead trees in train dataset: {np.count_nonzero(train_label_set == 3)}\")\n",
    "    print(f\"Healthy trees in validation dataset: {np.count_nonzero(val_label_set == 0)}\")\n",
    "    print(f\"Moderately stressed trees in validation dataset: {np.count_nonzero(val_label_set == 1)}\")\n",
    "    print(f\"Severely stressed trees in validation dataset: {np.count_nonzero(val_label_set == 2)}\")\n",
    "    print(f\"Dead trees in validation dataset: {np.count_nonzero(val_label_set == 3)}\")\n",
    "    print(f\"Ratio health trees in validation dataset: {np.count_nonzero(val_label_set == 0)/np.count_nonzero(sub_label_set == 0)}\")\n",
    "    print(f\"Ratio moderately stressed trees in validation dataset: {np.count_nonzero(val_label_set == 1)/np.count_nonzero(sub_label_set == 1)}\")\n",
    "    print(f\"Ratio severely stressed trees in validation dataset: {np.count_nonzero(val_label_set == 1)/np.count_nonzero(sub_label_set == 2)}\")\n",
    "    print(f\"Ratio dead trees in validation dataset: {np.count_nonzero(val_label_set == 2)/np.count_nonzero(sub_label_set == 3)}\")\n",
    "    print(\"-\"*50)\n",
    "   \n",
    "    # 2. Create train and validation dataset. (choose custom dataset loader with 3 - 5 classes)\n",
    "    print(f\"\\nCreating datasets for fold: {fold + 1}\\n\")\n",
    "    train_dataset = data_loader.CustomDataset(data=train_image_set, labels=train_label_set, class_names=class_names, species = train_species_set,\n",
    "                                                         transform=transform_train)\n",
    "    \n",
    "    val_dataset = data_loader.CustomDataset(data=val_image_set, labels=val_label_set, class_names=class_names,\n",
    "                                                       species = val_species_set, transform=transform)\n",
    "   \n",
    "    # 3. Create train and validation dataloader\n",
    "    # create sampler for oversampling of the minority classes\n",
    "    sampler = data_loader.data_sampler(dataset=train_dataset, class_names=class_names)\n",
    "    print(f\"Creating dataloaders for fold: {fold +1}\\n\")\n",
    "    train_dataloader = DataLoader(train_dataset, batch_size=batch_size, persistent_workers=True, pin_memory=True, num_workers=NUM_WORKERS, generator=g,\n",
    "                              sampler=sampler, shuffle=False, drop_last=True) # shuffle false because of the sampler\n",
    "\n",
    "    val_dataloader = DataLoader(val_dataset, batch_size=batch_size, persistent_workers=True, pin_memory=True, num_workers=NUM_WORKERS, shuffle=False,\n",
    "                             drop_last=True)\n",
    "    \n",
    "    #model = model_effnet.EfficientNet.from_pretrained('efficientnet-b7', in_channels=n_bands, num_classes=num_classes, dropout_rate=dropout_rate)\n",
    "    model = models.create_effnetb7(output_shape=num_classes, unfreeze=True, dropout_rate=dropout_rate, device=device)\n",
    "    loss_fn = nn.CrossEntropyLoss()\n",
    "    optimizer = torch.optim.Adam(params=model.parameters(), lr=lr)\n",
    "    lr_scheduler = CustomExponentialLR(optimizer, gamma=gamma, min_lr=min_lr)\n",
    "\n",
    "    fold += 1\n",
    "    print(f\"\\n[INFO] Fold number: {fold}\")\n",
    "    print(f\"[INFO] Number of epochs: {epochs}\")\n",
    "    print(f\"[INFO] Batch_size: {batch_size}\")\n",
    "    print(f\"[INFO] Number of bands: {n_bands}\")\n",
    "    print(f\"[INFO] Dropout rate: {dropout_rate}\")\n",
    "    print(f\"[INFO] Gamma learning rate: {gamma}\")\n",
    "    print(f\"[INFO] Memory allocated: {torch.cuda.memory_allocated()} bytes\")\n",
    "    # 4. Train model with k fold dataloaders and track experiments\n",
    "    \n",
    "    if fold == 1:\n",
    "        fold1_results = train(model=model, model_name=model_name, n_bands=n_bands, batch_size=batch_size,train_dataloader=train_dataloader, val_dataloader=val_dataloader, \n",
    "                        optimizer=optimizer, loss_fn=loss_fn, lr_scheduler=lr_scheduler, num_classes=num_classes, epochs=epochs, experiment_num=fold, device=device,\n",
    "                        writer=None, early_stop_patience = patience)\n",
    "       \n",
    "    elif fold == 2:\n",
    "        fold2_results = train(model=model, model_name=model_name, n_bands=n_bands, batch_size=batch_size,train_dataloader=train_dataloader, val_dataloader=val_dataloader, \n",
    "                        optimizer=optimizer, loss_fn=loss_fn, lr_scheduler=lr_scheduler, num_classes=num_classes, epochs=epochs, experiment_num=fold, device=device,\n",
    "                        writer=None, early_stop_patience = patience)\n",
    "    elif fold == 3:\n",
    "        fold3_results = train(model=model, model_name=model_name, n_bands=n_bands, batch_size=batch_size,train_dataloader=train_dataloader, val_dataloader=val_dataloader, \n",
    "                        optimizer=optimizer, loss_fn=loss_fn, lr_scheduler=lr_scheduler, num_classes=num_classes, epochs=epochs, experiment_num=fold, device=device,\n",
    "                        writer=None, early_stop_patience = patience)\n",
    "    elif fold == 4:\n",
    "        fold4_results = train(model=model, model_name=model_name, n_bands=n_bands, batch_size=batch_size,train_dataloader=train_dataloader, val_dataloader=val_dataloader, \n",
    "                        optimizer=optimizer, loss_fn=loss_fn, lr_scheduler=lr_scheduler, num_classes=num_classes, epochs=epochs, experiment_num=fold, device=device,\n",
    "                        writer=None, early_stop_patience = patience)\n",
    "    else:\n",
    "        fold5_results = train(model=model, model_name=model_name, n_bands=n_bands, batch_size=batch_size,train_dataloader=train_dataloader, val_dataloader=val_dataloader, \n",
    "                        optimizer=optimizer, loss_fn=loss_fn, lr_scheduler=lr_scheduler, num_classes=num_classes, epochs=epochs, experiment_num=fold, device=device,\n",
    "                        writer=None, early_stop_patience = patience)\n",
    "    \n",
    "    del train_indices, val_indices, train_image_set, train_label_set, train_hash_id, train_species_set, val_image_set, val_label_set, val_hash_id, val_species_set,\n",
    "    train_dataset, val_dataset, sampler, train_dataloader, val_dataloader, model, loss_fn, optimizer, lr_scheduler\n",
    "    \n",
    "    #finish the wandb run\n",
    "    wandb.finish()\n",
    "    print(\"Deleting variables and emptying cache\")\n",
    "    gc.collect()\n",
    "    torch.cuda.empty_cache()\n",
    "    print(f\"Memory allocated: {torch.cuda.memory_allocated()} bytes\")\n",
    "    print(\"-\"*50 + \"\\n\")"
   ]
  },
  {
   "cell_type": "markdown",
   "id": "d7402d31",
   "metadata": {},
   "source": [
    "#### Create test dataset and test dataloader "
   ]
  },
  {
   "cell_type": "code",
   "execution_count": null,
   "id": "c0c36ebb",
   "metadata": {},
   "outputs": [],
   "source": [
    "# create test dataset\n",
    "test_dataset = data_loader.CustomTestDataset(\n",
    "    data = test_image_set,\n",
    "    labels = test_label_set,\n",
    "    class_names=class_names, \n",
    "    species = test_species_set,\n",
    "    kkl = None,\n",
    "    transform=transform\n",
    ")\n",
    "\n",
    "# create test dataloader\n",
    "test_dataloader = DataLoader(test_dataset,\n",
    "                             batch_size=batch_size,\n",
    "                             persistent_workers=True,\n",
    "                             pin_memory=True,\n",
    "                             num_workers=NUM_WORKERS,\n",
    "                             shuffle=False,\n",
    "                             drop_last=True)"
   ]
  },
  {
   "cell_type": "markdown",
   "id": "22cdaac7",
   "metadata": {},
   "source": [
    "#### Perform ensembling of the five best models"
   ]
  },
  {
   "cell_type": "code",
   "execution_count": null,
   "id": "67db5af2",
   "metadata": {},
   "outputs": [],
   "source": [
    "# Setup the best model filepaths\n",
    "best_model1_path = r\"C:\\Users\\lwfeckesim\\01_PyTorch\\wze-uav\\wze-uav-master\\effnet_b0\\01_18_epochs.pth\"\n",
    "best_model2_path = r\"C:\\Users\\lwfeckesim\\01_PyTorch\\wze-uav\\wze-uav-master\\effnet_b0\\01_18_epochs.pth\"\n",
    "best_model3_path = r\"C:\\Users\\lwfeckesim\\01_PyTorch\\wze-uav\\wze-uav-master\\effnet_b0\\01_18_epochs.pth\"\n",
    "best_model4_path = r\"C:\\Users\\lwfeckesim\\01_PyTorch\\wze-uav\\wze-uav-master\\effnet_b0\\01_18_epochs.pth\"\n",
    "best_model5_path = r\"C:\\Users\\lwfeckesim\\01_PyTorch\\wze-uav\\wze-uav-master\\effnet_b0\\01_18_epochs.pth\"\n",
    "\n",
    "# Instantiate a new instance of EffNetB7 (to load the saved state_dict() to)\n",
    "model1 = models.create_effnetb7(output_shape=num_classes, unfreeze=unfreeze, dropout_rate=dropout_rate, device=device)\n",
    "model2 = models.create_effnetb7(output_shape=num_classes, unfreeze=unfreeze, dropout_rate=dropout_rate, device=device)\n",
    "model3 = models.create_effnetb7(output_shape=num_classes, unfreeze=unfreeze, dropout_rate=dropout_rate, device=device)\n",
    "model4 = models.create_effnetb7(output_shape=num_classes, unfreeze=unfreeze, dropout_rate=dropout_rate, device=device)\n",
    "model5 = models.create_effnetb7(output_shape=num_classes, unfreeze=unfreeze, dropout_rate=dropout_rate, device=device)\n",
    "# for custom models with more than three bands as input\n",
    "#model1 = model_effnet.EfficientNet.from_pretrained('efficientnet-b7', in_channels=n_bands, num_classes=num_classes, dropout_rate=dropout_rate)\n",
    "#model2 = model_effnet.EfficientNet.from_pretrained('efficientnet-b7', in_channels=n_bands, num_classes=num_classes, dropout_rate=dropout_rate)\n",
    "#model3 = model_effnet.EfficientNet.from_pretrained('efficientnet-b7', in_channels=n_bands, num_classes=num_classes, dropout_rate=dropout_rate)\n",
    "#model4 = model_effnet.EfficientNet.from_pretrained('efficientnet-b7', in_channels=n_bands, num_classes=num_classes, dropout_rate=dropout_rate)\n",
    "#model5 = model_effnet.EfficientNet.from_pretrained('efficientnet-b7', in_channels=n_bands, num_classes=num_classes, dropout_rate=dropout_rate)\n",
    "\n",
    "# Load the saved best model state_dict()\n",
    "model1.load_state_dict(torch.load(best_model1_path))\n",
    "model2.load_state_dict(torch.load(best_model2_path))\n",
    "model3.load_state_dict(torch.load(best_model3_path))\n",
    "model4.load_state_dict(torch.load(best_model4_path))\n",
    "model5.load_state_dict(torch.load(best_model5_path))\n",
    "\n",
    "model1.eval()\n",
    "model2.eval()\n",
    "model3.eval()\n",
    "model4.eval()\n",
    "model5.eval()\n",
    "\n",
    "# Initialize the lists to store the predictions\n",
    "all_preds_model1 = []\n",
    "all_preds_model2 = []\n",
    "all_preds_model3 = []\n",
    "all_preds_model4 = []\n",
    "all_preds_model5 = []\n",
    "\n",
    "# Loop through the test dataset and generate predictions for each model\n",
    "with torch.no_grad():\n",
    "    for batch in test_dataloader:\n",
    "        inputs, labels = batch\n",
    "        inputs, labels = inputs.to(device), labels.to(device)\n",
    "        \n",
    "        # Generate predictions for each model\n",
    "        preds_model1 = model1(inputs)\n",
    "        preds_model2 = model2(inputs)\n",
    "        preds_model3 = model3(inputs)\n",
    "        preds_model4 = model4(inputs)\n",
    "        preds_model5 = model5(inputs)\n",
    "\n",
    "        # Append the predictions to the corresponding list\n",
    "        all_preds_model1.append(preds_model1.cpu().numpy())\n",
    "        all_preds_model2.append(preds_model2.cpu().numpy())\n",
    "        all_preds_model3.append(preds_model3.cpu().numpy())\n",
    "        all_preds_model4.append(preds_model4.cpu().numpy())\n",
    "        all_preds_model5.append(preds_model5.cpu().numpy())\n",
    "\n",
    "# Concatenate the predictions from all the models\n",
    "all_preds_model1 = np.concatenate(all_preds_model1)\n",
    "all_preds_model2 = np.concatenate(all_preds_model2)\n",
    "all_preds_model3 = np.concatenate(all_preds_model3)\n",
    "all_preds_model4 = np.concatenate(all_preds_model4)\n",
    "all_preds_model5 = np.concatenate(all_preds_model5)\n",
    "\n",
    "# Calculate the ensemble predictions\n",
    "ensemble_preds = np.mean([all_preds_model1, all_preds_model2, all_preds_model3, all_preds_model4, all_preds_model5], axis=0)\n",
    "ensemble_labels = np.argmax(ensemble_preds, axis=1)\n",
    "\n",
    "# Calculate the evaluation metrics for the ensemble model\n",
    "from sklearn.metrics import classification_report, confusion_matrix\n",
    "\n",
    "print(classification_report(test_labels, ensemble_labels))\n",
    "print(confusion_matrix(test_labels, ensemble_labels))\n",
    "\n",
    "\n",
    "\n",
    "\n"
   ]
  },
  {
   "cell_type": "code",
   "execution_count": null,
   "id": "6dfbc663",
   "metadata": {},
   "outputs": [],
   "source": [
    "def make_predictions(model: torch.nn.Module, \n",
    "                     test_dataloader: torch.utils.data.DataLoader,\n",
    "                     device: torch.device):\n",
    "    # 1. Make predictions with trained model\n",
    "    y_preds = []\n",
    "    y_labels = []\n",
    "    species_list = []\n",
    "    test_loss, test_precision, test_recall, test_f1_score, test_acc = 0, 0, 0, 0, 0\n",
    "    count = 0\n",
    "    model.eval()\n",
    "    with torch.inference_mode():\n",
    "        for X, y, species in tqdm(test_dataloader, desc=\"Making predictions\"):\n",
    "            # Send data and targets to target device\n",
    "            X, y = X.to(device), y.to(device)\n",
    "            # Do the forward pass\n",
    "            y_logit = model(X)\n",
    "            # Turn predictions from logits -> prediction probabilities -> predictions labels\n",
    "            y_pred = torch.softmax(y_logit, dim=1).argmax(dim=1)\n",
    "            # Put predictions on CPU for evaluation\n",
    "            y_preds.append(y_pred.cpu())\n",
    "            y_labels.append(y.cpu())\n",
    "            species_list.append(species)\n",
    "            \n",
    "            #other metrics\n",
    "            test_acc += ((y_pred == y).sum().item()/len(y_pred))\n",
    "            y_pred_class = y_pred.detach().cpu().numpy() \n",
    "            y_class = y.detach().cpu().numpy()\n",
    "            labels = np.array([0])\n",
    "            test_precision += precision_score(y_class, y_pred_class, average='macro', zero_division=0, labels=[0,1,2])\n",
    "            test_recall += recall_score(y_class, y_pred_class, average='macro', zero_division=0, labels=[0,1,2])\n",
    "            #test_f1_score += f1_score(y_class, y_pred_class, average='macro', zero_division=1, labels=labels)\n",
    "            \n",
    "            #if count >= 1:\n",
    "            #    y_set = torch.cat((y_set, y))\n",
    "            #    count = count + 1\n",
    "            #else:\n",
    "            #    y_set = y\n",
    "            #    count = count + 1\n",
    "            \n",
    "    test_loss = test_loss / len(test_dataloader)\n",
    "    test_precision = test_precision / len(test_dataloader)\n",
    "    test_recall = test_recall / len(test_dataloader)\n",
    "    test_f1_score = test_f1_score / len(test_dataloader)\n",
    "    #test_kappa = test_kappa / len(dataloader)\n",
    "    test_acc = test_acc / len(test_dataloader)\n",
    "    # Concatenate list of predictions into a tensor\n",
    "    y_pred_tensor = torch.cat(y_preds)\n",
    "    y_labels_tensor = torch.cat(y_labels)\n",
    "    test_f1_score = f1_score(y_labels_tensor.detach().cpu().numpy(), y_pred_tensor.cpu().numpy(), average='macro', zero_division=1, labels=[0,1,2])\n",
    "    \n",
    "    # Print classification report\n",
    "    y_true = y_labels_tensor.detach().cpu().numpy()\n",
    "    report = classification_report(y_true, y_pred_tensor.cpu().numpy(), target_names=class_names)\n",
    "    print(report)\n",
    "    \n",
    "    return y_pred_tensor, y_labels_tensor, test_loss, test_recall, test_precision, test_f1_score, test_acc, y_logit, y_pred, y, y_preds"
   ]
  },
  {
   "cell_type": "code",
   "execution_count": null,
   "id": "aab9e321",
   "metadata": {},
   "outputs": [],
   "source": [
    "# 2. Setup confusion matrix instance and compare predictions to targets\n",
    "#from wze_uav.analysis import *\n",
    "y_pred_tensor, y_labels_tensor, test_loss, test_recall, test_precision, test_f1_score, test_acc, y_logit, y_pred, y, y_preds = make_predictions(model=best_model,\n",
    "                                 test_dataloader=test_dataloader, \n",
    "                                 device=device)\n",
    "\n",
    "y_labels_tensor = y_labels_tensor.detach().cpu().numpy()\n",
    "y_pred_tensor = y_pred_tensor.detach().cpu().numpy()\n",
    "\n",
    "#confmat = ConfusionMatrix(num_classes=num_classes, task='multiclass')\n",
    "#confmat_tensor = confmat(preds=y_pred_tensor,\n",
    "#                         target=test_labels)\n",
    "labels = np.array([0,1,2])\n",
    "confmat = confusion_matrix(y_labels_tensor, y_pred_tensor, labels=labels)\n",
    "\n",
    "# 3. Plot the confusion matrix\n",
    "fig, ax = plot_confusion_matrix(\n",
    "    conf_mat=confmat, # matplotlib likes working with NumPy \n",
    "    class_names=class_names, # turn the row and column labels into class names\n",
    "    figsize=(10, 7)\n",
    ");\n",
    "\n",
    "print(f\"Test loss: {test_loss}\")\n",
    "print(f\"Test precision: {test_precision}\")\n",
    "print(f\"Test recall: {test_recall}\")\n",
    "print(f\"Test F1score: {test_f1_score}\")\n",
    "#print(f\"Test Kappa: {test_kappa}\")\n",
    "print(f\"Test Accuracy: {test_acc}\")\n",
    "print(f\"Test Logits: {y_logit}\")\n",
    "print(f\"Test Predictions: {y_pred}\")\n",
    "print(f\"Test Labels: {y}\")"
   ]
  },
  {
   "cell_type": "code",
   "execution_count": null,
   "id": "8d4173b3",
   "metadata": {},
   "outputs": [],
   "source": [
    "len(y_preds)"
   ]
  },
  {
   "cell_type": "code",
   "execution_count": null,
   "id": "7588116f",
   "metadata": {},
   "outputs": [],
   "source": [
    "y_set.cpu()"
   ]
  },
  {
   "cell_type": "code",
   "execution_count": null,
   "id": "1c195b3e",
   "metadata": {},
   "outputs": [],
   "source": [
    "test_dataset.labels"
   ]
  },
  {
   "cell_type": "code",
   "execution_count": null,
   "id": "975ec08c",
   "metadata": {},
   "outputs": [],
   "source": []
  },
  {
   "cell_type": "code",
   "execution_count": null,
   "id": "6da05604",
   "metadata": {},
   "outputs": [],
   "source": [
    "y_preds = []\n",
    "y_labels = []\n",
    "labels = np.array([0,1,2])\n",
    "test_loss, test_precision, test_recall, test_f1_score, test_acc = 0, 0, 0, 0, 0\n",
    "count = 0\n",
    "model.eval()\n",
    "with torch.inference_mode():\n",
    "    for X, y in tqdm(test_dataloader, desc=\"Making predictions\"):\n",
    "        # Send data and targets to target device\n",
    "        X, y = X.to(device), y.to(device)\n",
    "        # Do the forward pass\n",
    "        y_logit = model(X)\n",
    "        # Turn predictions from logits -> prediction probabilities -> predictions labels\n",
    "        y_pred = torch.softmax(y_logit, dim=1).argmax(dim=1)\n",
    "        # Put predictions on CPU for evaluation\n",
    "        y_preds.append(y_pred.cpu())\n",
    "        y_labels.append(y.cpu())\n",
    "        \n",
    "        #other metrics\n",
    "        test_acc += ((y_pred == y).sum().item()/len(y_pred))\n",
    "        y_pred_class = y_pred.detach().cpu().numpy() \n",
    "        y_class = y.detach().cpu().numpy()\n",
    "        test_precision += precision_score(y_class, y_pred_class, average='macro', zero_division=1, labels=labels)\n",
    "        test_recall += recall_score(y_class, y_pred_class, average='macro', zero_division=1, labels=labels)\n",
    "        #test_f1_score += f1_score(y_class, y_pred_class, average='macro', zero_division=1, labels=labels)\n",
    "        \n",
    "        #if count >= 1:\n",
    "        #    y_set = torch.cat((y_set, y))\n",
    "        #    count = count + 1\n",
    "        #else:\n",
    "        #    y_set = y\n",
    "        #    count = count + 1\n",
    "        \n",
    "test_loss = test_loss / len(test_dataloader)\n",
    "test_precision = test_precision / len(test_dataloader)\n",
    "test_recall = test_recall / len(test_dataloader)\n",
    "#test_f1_score = test_f1_score / len(test_dataloader)\n",
    "#test_kappa = test_kappa / len(dataloader)\n",
    "test_acc = test_acc / len(test_dataloader)\n",
    "# Concatenate list of predictions into a tensor\n",
    "y_pred_tensor = torch.cat(y_preds)\n",
    "test_f1_score = f1_score(y_set.detach().cpu().numpy(), y_pred_tensor.cpu().numpy(), average='macro', zero_division=0, labels=[0,1,2])\n",
    "\n",
    "# Print classification report\n",
    "y_true = y_set.detach().cpu().numpy()\n",
    "report = classification_report(y_true, y_pred_tensor.cpu().numpy(), target_names=class_names)\n",
    "print(report)"
   ]
  },
  {
   "cell_type": "code",
   "execution_count": null,
   "id": "6ae97fab",
   "metadata": {},
   "outputs": [],
   "source": [
    "test_f1_score"
   ]
  },
  {
   "cell_type": "code",
   "execution_count": null,
   "id": "7ebafd9b",
   "metadata": {},
   "outputs": [],
   "source": [
    "make = (y_class == y_pred_class)\n",
    "make"
   ]
  },
  {
   "cell_type": "code",
   "execution_count": null,
   "id": "4f8aa759",
   "metadata": {},
   "outputs": [],
   "source": [
    "torch.softmax(y_logit, dim=1).argmax(dim=1)"
   ]
  },
  {
   "cell_type": "code",
   "execution_count": null,
   "id": "f90a54b2",
   "metadata": {},
   "outputs": [],
   "source": [
    "y"
   ]
  },
  {
   "cell_type": "code",
   "execution_count": null,
   "id": "5a806154",
   "metadata": {},
   "outputs": [],
   "source": [
    "test = (y_pred == y).sum().item()/16"
   ]
  },
  {
   "cell_type": "code",
   "execution_count": null,
   "id": "1da35c56",
   "metadata": {},
   "outputs": [],
   "source": [
    "test"
   ]
  },
  {
   "cell_type": "code",
   "execution_count": null,
   "id": "b1eb246e",
   "metadata": {},
   "outputs": [],
   "source": [
    " y_pred_class = y_pred.detach().cpu().numpy() "
   ]
  },
  {
   "cell_type": "code",
   "execution_count": null,
   "id": "602e096f",
   "metadata": {},
   "outputs": [],
   "source": [
    "y_pred_class"
   ]
  },
  {
   "cell_type": "code",
   "execution_count": null,
   "id": "eaf1af09",
   "metadata": {},
   "outputs": [],
   "source": []
  }
 ],
 "metadata": {
  "kernelspec": {
   "display_name": "Python 3 (ipykernel)",
   "language": "python",
   "name": "python3"
  },
  "language_info": {
   "codemirror_mode": {
    "name": "ipython",
    "version": 3
   },
   "file_extension": ".py",
   "mimetype": "text/x-python",
   "name": "python",
   "nbconvert_exporter": "python",
   "pygments_lexer": "ipython3",
   "version": "3.9.16"
  }
 },
 "nbformat": 4,
 "nbformat_minor": 5
}
