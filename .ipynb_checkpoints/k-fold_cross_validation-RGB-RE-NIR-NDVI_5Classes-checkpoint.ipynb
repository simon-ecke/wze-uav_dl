{
 "cells": [
  {
   "cell_type": "markdown",
   "id": "c1acdaa3",
   "metadata": {},
   "source": [
    "# WZE-UAV Image Classification using Deep Learning"
   ]
  },
  {
   "cell_type": "code",
   "execution_count": 1,
   "id": "2159aac5",
   "metadata": {},
   "outputs": [],
   "source": [
    "import os\n",
    "import gc\n",
    "import glob\n",
    "import numpy as np\n",
    "from pathlib import Path\n",
    "from tqdm.auto import tqdm\n",
    "from sklearn.metrics import confusion_matrix, classification_report\n",
    "from sklearn.model_selection import KFold"
   ]
  },
  {
   "cell_type": "code",
   "execution_count": 2,
   "id": "0026f7a9",
   "metadata": {},
   "outputs": [],
   "source": [
    "import torch\n",
    "import torchvision.transforms as T\n",
    "import torchvision\n",
    "from torch import nn\n",
    "from torch.utils.data import DataLoader\n",
    "from torchvision import datasets, transforms\n",
    "from torch.utils.data import Dataset\n",
    "import torch.optim as optim\n",
    "from torch.optim.lr_scheduler import ExponentialLR\n",
    "from mlxtend.plotting import plot_confusion_matrix"
   ]
  },
  {
   "cell_type": "code",
   "execution_count": 3,
   "id": "b160d7b4",
   "metadata": {},
   "outputs": [],
   "source": [
    "import wze_uav.data_loader as data_loader\n",
    "import wze_uav.models as models\n",
    "from wze_uav.engine import *\n",
    "from wze_uav.utils2 import *\n",
    "#from wze_uav.log_writer import create_writer\n",
    "from wze_uav.datasplit import *\n",
    "from efficientnet import model_effnet #for custom effnet with n_channels input\n",
    "import wandb"
   ]
  },
  {
   "cell_type": "markdown",
   "id": "2bd4fb2f",
   "metadata": {},
   "source": [
    "#### Get PyTorch version"
   ]
  },
  {
   "cell_type": "code",
   "execution_count": 4,
   "id": "c10886b1",
   "metadata": {},
   "outputs": [
    {
     "name": "stdout",
     "output_type": "stream",
     "text": [
      "torch version: 1.13.1+cu116\n",
      "torchvision version: 0.14.1+cu116\n"
     ]
    }
   ],
   "source": [
    "print(f\"torch version: {torch.__version__}\")\n",
    "print(f\"torchvision version: {torchvision.__version__}\")"
   ]
  },
  {
   "cell_type": "markdown",
   "id": "aa6a83cf",
   "metadata": {},
   "source": [
    "#### Preparing device agnostic code "
   ]
  },
  {
   "cell_type": "code",
   "execution_count": 5,
   "id": "13d5de88",
   "metadata": {},
   "outputs": [
    {
     "name": "stdout",
     "output_type": "stream",
     "text": [
      "cuda\n",
      "Index of current divice: 0\n",
      "Number of GPUs available: 1\n",
      "GPU Model: Quadro RTX 8000\n"
     ]
    }
   ],
   "source": [
    "# ensure device agnostic code\n",
    "device = 'cuda' if torch.cuda.is_available() else 'cpu'\n",
    "print(device)\n",
    "\n",
    "# get index of currently selected device\n",
    "print(f\"Index of current divice: {torch.cuda.current_device()}\")\n",
    "# get number of GPUs available\n",
    "print(f\"Number of GPUs available: {torch.cuda.device_count()}\")\n",
    "# get the name of the device\n",
    "print(f\"GPU Model: {torch.cuda.get_device_name(0)}\")"
   ]
  },
  {
   "cell_type": "markdown",
   "id": "8ef6b169",
   "metadata": {},
   "source": [
    "#### Login to Weights & Biases to track results"
   ]
  },
  {
   "cell_type": "code",
   "execution_count": 6,
   "id": "a59d27cf",
   "metadata": {},
   "outputs": [
    {
     "name": "stderr",
     "output_type": "stream",
     "text": [
      "Failed to detect the name of this notebook, you can set it manually with the WANDB_NOTEBOOK_NAME environment variable to enable code saving.\n",
      "\u001b[34m\u001b[1mwandb\u001b[0m: Currently logged in as: \u001b[33msimon-ecke\u001b[0m. Use \u001b[1m`wandb login --relogin`\u001b[0m to force relogin\n"
     ]
    },
    {
     "data": {
      "text/html": [
       "wandb version 0.15.0 is available!  To upgrade, please run:\n",
       " $ pip install wandb --upgrade"
      ],
      "text/plain": [
       "<IPython.core.display.HTML object>"
      ]
     },
     "metadata": {},
     "output_type": "display_data"
    },
    {
     "data": {
      "text/html": [
       "Tracking run with wandb version 0.14.2"
      ],
      "text/plain": [
       "<IPython.core.display.HTML object>"
      ]
     },
     "metadata": {},
     "output_type": "display_data"
    },
    {
     "data": {
      "text/html": [
       "Run data is saved locally in <code>C:\\Users\\lwfeckesim\\01_PyTorch\\wze-uav\\wze-uav-master\\wandb\\run-20230429_120323-khr2660a</code>"
      ],
      "text/plain": [
       "<IPython.core.display.HTML object>"
      ]
     },
     "metadata": {},
     "output_type": "display_data"
    },
    {
     "data": {
      "text/html": [
       "Syncing run <strong><a href='https://wandb.ai/simon-ecke/wze-uav-5classes/runs/khr2660a' target=\"_blank\">crisp-bush-13</a></strong> to <a href='https://wandb.ai/simon-ecke/wze-uav-5classes' target=\"_blank\">Weights & Biases</a> (<a href='https://wandb.me/run' target=\"_blank\">docs</a>)<br/>"
      ],
      "text/plain": [
       "<IPython.core.display.HTML object>"
      ]
     },
     "metadata": {},
     "output_type": "display_data"
    },
    {
     "data": {
      "text/html": [
       " View project at <a href='https://wandb.ai/simon-ecke/wze-uav-5classes' target=\"_blank\">https://wandb.ai/simon-ecke/wze-uav-5classes</a>"
      ],
      "text/plain": [
       "<IPython.core.display.HTML object>"
      ]
     },
     "metadata": {},
     "output_type": "display_data"
    },
    {
     "data": {
      "text/html": [
       " View run at <a href='https://wandb.ai/simon-ecke/wze-uav-5classes/runs/khr2660a' target=\"_blank\">https://wandb.ai/simon-ecke/wze-uav-5classes/runs/khr2660a</a>"
      ],
      "text/plain": [
       "<IPython.core.display.HTML object>"
      ]
     },
     "metadata": {},
     "output_type": "display_data"
    },
    {
     "data": {
      "text/html": [
       "<button onClick=\"this.nextSibling.style.display='block';this.style.display='none';\">Display W&B run</button><iframe src='https://wandb.ai/simon-ecke/wze-uav-5classes/runs/khr2660a?jupyter=true' style='border:none;width:100%;height:420px;display:none;'></iframe>"
      ],
      "text/plain": [
       "<wandb.sdk.wandb_run.Run at 0x1cdd5895fa0>"
      ]
     },
     "execution_count": 6,
     "metadata": {},
     "output_type": "execute_result"
    }
   ],
   "source": [
    "# IMPORTANT: The proxy needs to be set in anaconda!\n",
    "# copy paste this in anaconda and restart jupyter notebook\n",
    "#set http_proxy=http://www-proxy.bayern.de:80\n",
    "#set https_proxy=http://www-proxy.bayern.de:80\n",
    "wandb.login()\n",
    "#wandb.init(settings=wandb.Settings(start_method=\"thread\"))\n",
    "wandb.init(project='wze-uav-5classes', entity='simon-ecke')"
   ]
  },
  {
   "cell_type": "markdown",
   "id": "a26a6a34",
   "metadata": {},
   "source": [
    "#### Ensure reproducibility "
   ]
  },
  {
   "cell_type": "code",
   "execution_count": 7,
   "id": "dd4656a7",
   "metadata": {},
   "outputs": [],
   "source": [
    "# for more information, see also: https://pytorch.org/docs/stable/notes/randomness.html\n",
    "\n",
    "# Set seeds\n",
    "def set_seeds(seed: int=42):\n",
    "    \"\"\"Sets random sets for torch operations.\n",
    "\n",
    "    Args:\n",
    "        seed (int, optional): Random seed to set. Defaults to 42.\n",
    "    \"\"\"\n",
    "    # Set the seed for general torch operations\n",
    "    torch.manual_seed(seed)\n",
    "    # Set the seed for CUDA torch operations (ones that happen on the GPU)\n",
    "    torch.cuda.manual_seed(seed)\n",
    "    # seed for numpy\n",
    "    np.random.seed(seed)\n",
    "\n",
    "set_seeds(42) \n",
    "\n",
    "# Set to true -> might speed up the process but should be set to False if reproducible results are desired\n",
    "torch.backends.cudnn.benchmark = False\n"
   ]
  },
  {
   "cell_type": "markdown",
   "id": "8be33671",
   "metadata": {},
   "source": [
    "#### Define file directory"
   ]
  },
  {
   "cell_type": "code",
   "execution_count": 8,
   "id": "30645f36",
   "metadata": {},
   "outputs": [],
   "source": [
    "#####################################################################################\n",
    "# 3 channel input (r-g-b)\n",
    "#data_path = r\"D:\\Drohnendaten\\10_WZE-UAV\\Auswertung_findatree\\Datasplit\\ROI\\rgb\"\n",
    "\n",
    "# 4 channel input (r-g-b-nir)\n",
    "#data_path = r\"D:\\Drohnendaten\\10_WZE-UAV\\Auswertung_findatree\\Datasplit\\ROI\\rgb-nir\"\n",
    "\n",
    "# 5 channel input (r-g-b-re-nir)\n",
    "data_path = r\"D:\\Drohnendaten\\10_WZE-UAV\\Auswertung_findatree\\Datasplit\\ROI\\rgb-re-nir\"\n",
    "\n",
    "# 6 channel input (r-g-b-re-nir)\n",
    "#data_path = r\"D:\\Drohnendaten\\10_WZE-UAV\\Auswertung_findatree\\Datasplit\\ROI\\rgb-re-nir-ndvi\"\n",
    "#####################################################################################"
   ]
  },
  {
   "cell_type": "markdown",
   "id": "4560ce64",
   "metadata": {},
   "source": [
    "#### Get all file paths"
   ]
  },
  {
   "cell_type": "code",
   "execution_count": 9,
   "id": "aa072e4c",
   "metadata": {},
   "outputs": [],
   "source": [
    "fn_list = os.listdir(data_path)\n",
    "path_list = []\n",
    "# Iterate over all datafiles\n",
    "for year in fn_list:\n",
    "    year_dir = f'{data_path}\\\\{year}'\n",
    "    for filename in os.listdir(year_dir):\n",
    "        path = f'{year_dir}\\\\{filename}'\n",
    "        path_list.append(path)"
   ]
  },
  {
   "cell_type": "markdown",
   "id": "f3937a44",
   "metadata": {},
   "source": [
    "#### Create unique hash IDs for every individual tree"
   ]
  },
  {
   "cell_type": "code",
   "execution_count": 10,
   "id": "8a50f1d7",
   "metadata": {},
   "outputs": [
    {
     "data": {
      "application/vnd.jupyter.widget-view+json": {
       "model_id": "82419c9a4e4c44a2b543efdd457e5e7b",
       "version_major": 2,
       "version_minor": 0
      },
      "text/plain": [
       "Creating unique tree IDs...:   0%|          | 0/647 [00:00<?, ?it/s]"
      ]
     },
     "metadata": {},
     "output_type": "display_data"
    }
   ],
   "source": [
    "hashID_dict = data_loader.get_unique_treeID(path_list)"
   ]
  },
  {
   "cell_type": "markdown",
   "id": "6f4cea00",
   "metadata": {},
   "source": [
    "#### Import all imagery, labels and other features from hdf5 files"
   ]
  },
  {
   "cell_type": "code",
   "execution_count": 11,
   "id": "94e3eecf",
   "metadata": {},
   "outputs": [
    {
     "data": {
      "application/vnd.jupyter.widget-view+json": {
       "model_id": "96adb6f3d0744e33a391ed360af182bc",
       "version_major": 2,
       "version_minor": 0
      },
      "text/plain": [
       "Processing hdf5 datasets:   0%|          | 0/647 [00:00<?, ?it/s]"
      ]
     },
     "metadata": {},
     "output_type": "display_data"
    }
   ],
   "source": [
    "image_set, label_set, species_set, kkl_set, bk_set, hash_id = data_loader.hdf5_to_img_label(path_list,\n",
    "                                                                                               hashID_dict,\n",
    "                                                                                               load_sets=[\"images_masked\"])"
   ]
  },
  {
   "cell_type": "markdown",
   "id": "6a90e2b7",
   "metadata": {},
   "source": [
    "#### Convert nbv to classes"
   ]
  },
  {
   "cell_type": "code",
   "execution_count": 12,
   "id": "0224972a",
   "metadata": {},
   "outputs": [],
   "source": [
    "label_set = nbv_to_sst_5classes(label_set)"
   ]
  },
  {
   "cell_type": "markdown",
   "id": "c6b4cd85",
   "metadata": {},
   "source": [
    "#### Split data into a sub set and a test dataset"
   ]
  },
  {
   "cell_type": "code",
   "execution_count": 13,
   "id": "d06eda54",
   "metadata": {},
   "outputs": [
    {
     "name": "stdout",
     "output_type": "stream",
     "text": [
      "ORIGINAL POSITIVE RATIO: 1.2873703802180272\n",
      "Fold : 0\n",
      "TRAIN POSITIVE RATIO: 1.2826295278860282\n",
      "TEST POSITIVE RATIO : 1.3109137055837563\n",
      "LENGTH TRAIN GROUPS : 5903\n",
      "LENGTH TEST GROUPS  : 1184\n",
      "Number of True in sub_indices: 15653\n",
      "Number of False in sub_indices: 3152\n",
      "Number of True in test_indices: 1185\n",
      "Number of False in test_indices: 17620\n",
      "Check shapes:\n",
      "\n",
      "Images sub dataset: (15653, 250, 250, 5)\n",
      "Labels sub dataset: (15653, 1)\n",
      "\n",
      "Images test dataset: (1185, 250, 250, 5)\n",
      "Labels test dataset: (1185, 1)\n",
      "\n",
      "--------------------------------------------------\n",
      "Check if the split was stratified: (random_state=42)\n",
      "Healthy trees in sub dataset: 2973\n",
      "Stressed trees in sub dataset: 6234\n",
      "Dead trees in sub dataset: 5743\n",
      "Healthy trees in test dataset: 193\n",
      "Stressed trees in test dataset: 503\n",
      "Dead trees in test dataset: 423\n",
      "Ratio health trees in test dataset: 0.06491759165825765\n",
      "Ratio stressed trees in test dataset: 0.08068655758742381\n",
      "Ratio dead trees in test dataset: 0.07365488420686053\n"
     ]
    }
   ],
   "source": [
    "sub_image_set, sub_label_set, sub_hash_id, sub_species_set, test_image_set, test_label_set, test_hash_id, test_species_set = data_split(image_set, label_set, hash_id, species_set, n_splits=6, random_state=42, seed=2)\n"
   ]
  },
  {
   "cell_type": "markdown",
   "id": "c48fbb5b",
   "metadata": {},
   "source": [
    "#### Check if any hash ID is in both sub and test dataset"
   ]
  },
  {
   "cell_type": "code",
   "execution_count": 14,
   "id": "874367cf",
   "metadata": {},
   "outputs": [
    {
     "name": "stdout",
     "output_type": "stream",
     "text": [
      "There are no hash_id values in both train and test datasets. The datasplit was successful\n"
     ]
    }
   ],
   "source": [
    "hash_set = set(sub_hash_id[:,0].flatten())\n",
    "test_hash_set = set(test_hash_id[:,0].flatten())\n",
    "intersection = hash_set.intersection(test_hash_set)\n",
    "if intersection:\n",
    "    print(f\"Hash_id values in both train and test sets: {len(intersection)}\")\n",
    "else:\n",
    "    print(\"There are no hash_id values in both train and test datasets. The datasplit was successful\")"
   ]
  },
  {
   "cell_type": "markdown",
   "id": "9e5b64d4",
   "metadata": {},
   "source": [
    "#### Check feature distribution of the Test dataset"
   ]
  },
  {
   "cell_type": "code",
   "execution_count": 15,
   "id": "a33ff5cb",
   "metadata": {},
   "outputs": [
    {
     "name": "stdout",
     "output_type": "stream",
     "text": [
      "Test dataset\n",
      "Test data healthy trees: 193\n",
      "Test data moderately stressed trees: 503\n",
      "Test data severely stressed trees: 423\n",
      "Test data dead trees: 39\n",
      "Test data pine trees: 281\n",
      "Test data spruces: 475\n",
      "--------------------------------------------------\n",
      "Remaining dataset\n",
      "Remaining data healthy trees: 2973\n",
      "Remaining data moderately stressed trees: 6234\n",
      "Remaining data severley stressed trees: 5743\n",
      "Remaining data dead trees: 455\n",
      "Remaining data pine trees: 4011\n",
      "Remaining data spruces: 5763\n",
      "--------------------------------------------------\n"
     ]
    }
   ],
   "source": [
    "def count_occurrences(data, value):\n",
    "    count = 0\n",
    "    for item in data:\n",
    "        if item == value:\n",
    "            count += 1\n",
    "    return count\n",
    "\n",
    "print(\"Test dataset\")\n",
    "print(f\"Test data healthy trees: {count_occurrences(test_label_set, 0)}\")\n",
    "print(f\"Test data moderately stressed trees: {count_occurrences(test_label_set, 1)}\")\n",
    "print(f\"Test data severely stressed trees: {count_occurrences(test_label_set, 2)}\")\n",
    "print(f\"Test data dead trees: {count_occurrences(test_label_set, 3)}\")\n",
    "print(f\"Test data pine trees: {count_occurrences(test_species_set, 134)}\")\n",
    "print(f\"Test data spruces: {count_occurrences(test_species_set, 118)}\")\n",
    "print(\"-\"*50)\n",
    "\n",
    "print(\"Remaining dataset\")\n",
    "print(f\"Remaining data healthy trees: {count_occurrences(sub_label_set, 0)}\")\n",
    "print(f\"Remaining data moderately stressed trees: {count_occurrences(sub_label_set, 1)}\")\n",
    "print(f\"Remaining data severley stressed trees: {count_occurrences(sub_label_set, 2)}\")\n",
    "print(f\"Remaining data dead trees: {count_occurrences(sub_label_set, 3)}\")\n",
    "print(f\"Remaining data pine trees: {count_occurrences(sub_species_set, 134)}\")\n",
    "print(f\"Remaining data spruces: {count_occurrences(sub_species_set, 118)}\")\n",
    "print(\"-\"*50)"
   ]
  },
  {
   "cell_type": "code",
   "execution_count": 16,
   "id": "e08fcf57",
   "metadata": {},
   "outputs": [],
   "source": [
    "# train transform with augmentation. \n",
    "transform_train = transforms.Compose([transforms.ToTensor(), transforms.RandomHorizontalFlip(p=0.5), transforms.RandomVerticalFlip(p=0.5),\n",
    "                                      transforms.RandomRotation(degrees=[0,360])])\n",
    "\n",
    "# test and val dataset transform without augmentation. \n",
    "transform = transforms.Compose([transforms.ToTensor()])\n",
    "\n",
    "# class names need to fit the customDataset class used e.g. 3 classes -> use CustomDataset3Classes\n",
    "#class_names = ['healthy', 'slightly_stressed', 'moderately_stressed', 'highly_stressed', 'dead']\n",
    "#class_names = ['healthy', 'moderately_stressed', 'highly_stressed', 'dead']\n",
    "class_names = ['healthy', 'low stress', 'moderate stress', 'severe stress', 'dead']\n",
    "\n",
    "# set seeds\n",
    "g = torch.Generator()\n",
    "g.manual_seed(42)\n",
    "NUM_WORKERS=3 # should be changed, depending on the system used\n",
    "batch_size=32"
   ]
  },
  {
   "cell_type": "markdown",
   "id": "31779c05",
   "metadata": {},
   "source": [
    "#### Define variables and parameters"
   ]
  },
  {
   "cell_type": "code",
   "execution_count": 17,
   "id": "10ae4379",
   "metadata": {},
   "outputs": [
    {
     "name": "stdout",
     "output_type": "stream",
     "text": [
      "Memory allocated: 0 bytes\n"
     ]
    }
   ],
   "source": [
    "# 1. Define number of epochs\n",
    "epochs = 50\n",
    "n_bands = sub_image_set[0].shape[2] # get number of bands\n",
    "\n",
    "# 2. Define model\n",
    "num_classes = len(class_names)\n",
    "unfreeze = True # all layer weights get updated\n",
    "dropout_rate = 0.5 #define dropout rate\n",
    "model_name = \"EffNet_b7_RGB-RE-NIR_5classes\"\n",
    "\n",
    "# 3. Define loss, optimizer and learning rate scheduler\n",
    "lr = 0.005 # define learning rate\n",
    "min_lr = 1e-6 # minimum learning rate threshold\n",
    "gamma = 0.75 # how fast the learning rate decreases per epoch (low number=faster decrease)\n",
    "patience = 10\n",
    "\n",
    "# 4. Create target folder name were to save the tensorboard event files\n",
    "experiment_name = 'RGB-RE-NIR_5classes'\n",
    "extra = \"RGB-RE-NIR_5classes\"\n",
    "\n",
    "#----------------------------------------------------------------------\n",
    "#torch.cuda.empty_cache()\n",
    "print(f\"Memory allocated: {torch.cuda.memory_allocated()} bytes\") "
   ]
  },
  {
   "cell_type": "markdown",
   "id": "09768b1a",
   "metadata": {},
   "source": [
    "#### Run k-Fold cross-validation on EfficientNet"
   ]
  },
  {
   "cell_type": "code",
   "execution_count": 18,
   "id": "9c29c81d",
   "metadata": {},
   "outputs": [
    {
     "name": "stdout",
     "output_type": "stream",
     "text": [
      "ORIGINAL POSITIVE RATIO: 1.2826295278860282\n",
      "Fold : 1\n",
      "TRAIN POSITIVE RATIO: 1.2815572787592933\n",
      "VAL POSITIVE RATIO  : 1.2868956743002544\n",
      "LENGTH TRAIN GROUPS : 4720\n",
      "LENGTH VAL GROUPS   : 1183\n"
     ]
    },
    {
     "data": {
      "text/html": [
       "Finishing last run (ID:khr2660a) before initializing another..."
      ],
      "text/plain": [
       "<IPython.core.display.HTML object>"
      ]
     },
     "metadata": {},
     "output_type": "display_data"
    },
    {
     "data": {
      "text/html": [
       "Waiting for W&B process to finish... <strong style=\"color:green\">(success).</strong>"
      ],
      "text/plain": [
       "<IPython.core.display.HTML object>"
      ]
     },
     "metadata": {},
     "output_type": "display_data"
    },
    {
     "data": {
      "application/vnd.jupyter.widget-view+json": {
       "model_id": "9dda619236b14ebbb05988d164f0e2f8",
       "version_major": 2,
       "version_minor": 0
      },
      "text/plain": [
       "VBox(children=(Label(value='0.001 MB of 0.006 MB uploaded (0.000 MB deduped)\\r'), FloatProgress(value=0.205900…"
      ]
     },
     "metadata": {},
     "output_type": "display_data"
    },
    {
     "data": {
      "text/html": [
       " View run <strong style=\"color:#cdcd00\">crisp-bush-13</strong> at: <a href='https://wandb.ai/simon-ecke/wze-uav-5classes/runs/khr2660a' target=\"_blank\">https://wandb.ai/simon-ecke/wze-uav-5classes/runs/khr2660a</a><br/>Synced 5 W&B file(s), 0 media file(s), 0 artifact file(s) and 0 other file(s)"
      ],
      "text/plain": [
       "<IPython.core.display.HTML object>"
      ]
     },
     "metadata": {},
     "output_type": "display_data"
    },
    {
     "data": {
      "text/html": [
       "Find logs at: <code>.\\wandb\\run-20230429_120323-khr2660a\\logs</code>"
      ],
      "text/plain": [
       "<IPython.core.display.HTML object>"
      ]
     },
     "metadata": {},
     "output_type": "display_data"
    },
    {
     "data": {
      "text/html": [
       "Successfully finished last run (ID:khr2660a). Initializing new run:<br/>"
      ],
      "text/plain": [
       "<IPython.core.display.HTML object>"
      ]
     },
     "metadata": {},
     "output_type": "display_data"
    },
    {
     "data": {
      "application/vnd.jupyter.widget-view+json": {
       "model_id": "86b4013146a9453c8c7ff0cf48c5b190",
       "version_major": 2,
       "version_minor": 0
      },
      "text/plain": [
       "VBox(children=(Label(value='Waiting for wandb.init()...\\r'), FloatProgress(value=0.016666666666666666, max=1.0…"
      ]
     },
     "metadata": {},
     "output_type": "display_data"
    },
    {
     "data": {
      "text/html": [
       "wandb version 0.15.0 is available!  To upgrade, please run:\n",
       " $ pip install wandb --upgrade"
      ],
      "text/plain": [
       "<IPython.core.display.HTML object>"
      ]
     },
     "metadata": {},
     "output_type": "display_data"
    },
    {
     "data": {
      "text/html": [
       "Tracking run with wandb version 0.14.2"
      ],
      "text/plain": [
       "<IPython.core.display.HTML object>"
      ]
     },
     "metadata": {},
     "output_type": "display_data"
    },
    {
     "data": {
      "text/html": [
       "Run data is saved locally in <code>C:\\Users\\lwfeckesim\\01_PyTorch\\wze-uav\\wze-uav-master\\wandb\\run-20230429_130220-vhmly7xx</code>"
      ],
      "text/plain": [
       "<IPython.core.display.HTML object>"
      ]
     },
     "metadata": {},
     "output_type": "display_data"
    },
    {
     "data": {
      "text/html": [
       "Syncing run <strong><a href='https://wandb.ai/simon-ecke/wze-uav-5classes/runs/vhmly7xx' target=\"_blank\">fold_1_RGB-RE-NIR_5classes</a></strong> to <a href='https://wandb.ai/simon-ecke/wze-uav-5classes' target=\"_blank\">Weights & Biases</a> (<a href='https://wandb.me/run' target=\"_blank\">docs</a>)<br/>"
      ],
      "text/plain": [
       "<IPython.core.display.HTML object>"
      ]
     },
     "metadata": {},
     "output_type": "display_data"
    },
    {
     "data": {
      "text/html": [
       " View project at <a href='https://wandb.ai/simon-ecke/wze-uav-5classes' target=\"_blank\">https://wandb.ai/simon-ecke/wze-uav-5classes</a>"
      ],
      "text/plain": [
       "<IPython.core.display.HTML object>"
      ]
     },
     "metadata": {},
     "output_type": "display_data"
    },
    {
     "data": {
      "text/html": [
       " View run at <a href='https://wandb.ai/simon-ecke/wze-uav-5classes/runs/vhmly7xx' target=\"_blank\">https://wandb.ai/simon-ecke/wze-uav-5classes/runs/vhmly7xx</a>"
      ],
      "text/plain": [
       "<IPython.core.display.HTML object>"
      ]
     },
     "metadata": {},
     "output_type": "display_data"
    },
    {
     "name": "stdout",
     "output_type": "stream",
     "text": [
      "There are no same hash_id values in train, val or test datasets. The datasplit was successful\n",
      "Check shapes:\n",
      "\n",
      "Images train dataset: (12509, 250, 250, 5)\n",
      "Labels train dataset: (12509, 1)\n",
      "\n",
      "Images validation dataset: (1183, 250, 250, 5)\n",
      "Labels validation dataset: (1183, 1)\n",
      "\n",
      "--------------------------------------------------\n",
      "Check if the split was stratified: (random_state=42)\n",
      "Healthy trees in train dataset: 2355\n",
      "Moderately stressed trees in train dataset: 5000\n",
      "Severely stressed trees in train dataset: 4618\n",
      "Dead trees in train dataset: 349\n",
      "Healthy trees in validation dataset: 227\n",
      "Moderately stressed trees in validation dataset: 467\n",
      "Severely stressed trees in validation dataset: 421\n",
      "Dead trees in validation dataset: 43\n",
      "Ratio health trees in validation dataset: 0.07635385132862428\n",
      "Ratio moderately stressed trees in validation dataset: 0.07491177414180301\n",
      "Ratio severely stressed trees in validation dataset: 0.08131638516454814\n",
      "Ratio dead trees in validation dataset: 0.9252747252747253\n",
      "--------------------------------------------------\n",
      "\n",
      "Creating datasets for fold: 1\n",
      "\n",
      "Creating dataloaders for fold: 1\n",
      "\n",
      "Loaded pretrained weights for efficientnet-b7\n",
      "\n",
      "[INFO] Fold number: 1\n",
      "[INFO] Number of epochs: 50\n",
      "[INFO] Number of classes: 5\n",
      "[INFO] Batch_size: 32\n",
      "[INFO] Number of bands: 5\n",
      "[INFO] Dropout rate: 0.5\n",
      "[INFO] Gamma learning rate: 0.75\n",
      "[INFO] Memory allocated: 0 bytes\n"
     ]
    },
    {
     "data": {
      "application/vnd.jupyter.widget-view+json": {
       "model_id": "e6fe426bdf4042aeb8a21028bd161682",
       "version_major": 2,
       "version_minor": 0
      },
      "text/plain": [
       "  0%|          | 0/50 [00:00<?, ?it/s]"
      ]
     },
     "metadata": {},
     "output_type": "display_data"
    },
    {
     "name": "stdout",
     "output_type": "stream",
     "text": [
      "Epoch: 1 \n",
      "Learning rate: 0.005\n",
      "Train loss: 1.2882 | Train precision: 0.3199 | Train recall: 0.2519 | Train f1score: 0.2584 | Train acc: 0.3808 | Train kappa: 0.1939 \n",
      "Val loss: 1.4324 | Val precision: 0.2355 | Val recall: 0.2299 | Val f1score: 0.1424 | Val acc: 0.2717 | Val kappa: 0.0564 \n",
      "\n",
      "Epoch: 2 \n",
      "Learning rate: 0.00375\n",
      "Train loss: 1.1559 | Train precision: 0.4276 | Train recall: 0.3688 | Train f1score: 0.3768 | Train acc: 0.4468 | Train kappa: 0.4176 \n",
      "Val loss: 1.1942 | Val precision: 0.3797 | Val recall: 0.3322 | Val f1score: 0.3446 | Val acc: 0.4132 | Val kappa: 0.3720 \n",
      "\n",
      "Epoch: 3 \n",
      "Learning rate: 0.0028125\n",
      "Train loss: 1.1284 | Train precision: 0.4736 | Train recall: 0.4156 | Train f1score: 0.4199 | Train acc: 0.4638 | Train kappa: 0.4641 \n",
      "Val loss: 1.0761 | Val precision: 0.4672 | Val recall: 0.4961 | Val f1score: 0.4552 | Val acc: 0.5226 | Val kappa: 0.5269 \n",
      "\n",
      "Epoch: 4 \n",
      "Learning rate: 0.002109375\n",
      "Train loss: 1.1002 | Train precision: 0.4753 | Train recall: 0.4347 | Train f1score: 0.4358 | Train acc: 0.4738 | Train kappa: 0.4971 \n",
      "Val loss: 1.0853 | Val precision: 0.4883 | Val recall: 0.4576 | Val f1score: 0.4423 | Val acc: 0.4870 | Val kappa: 0.5026 \n",
      "\n",
      "Epoch: 5 \n",
      "Learning rate: 0.00158203125\n",
      "Train loss: 1.0926 | Train precision: 0.5129 | Train recall: 0.4580 | Train f1score: 0.4589 | Train acc: 0.4812 | Train kappa: 0.5127 \n",
      "Val loss: 1.1373 | Val precision: 0.4552 | Val recall: 0.4664 | Val f1score: 0.4399 | Val acc: 0.4436 | Val kappa: 0.4842 \n",
      "\n",
      "Epoch: 6 \n",
      "Learning rate: 0.0011865234375\n",
      "Train loss: 1.0711 | Train precision: 0.5026 | Train recall: 0.4578 | Train f1score: 0.4556 | Train acc: 0.4929 | Train kappa: 0.5268 \n",
      "Val loss: 1.0537 | Val precision: 0.4596 | Val recall: 0.4900 | Val f1score: 0.4673 | Val acc: 0.4905 | Val kappa: 0.5461 \n",
      "\n",
      "Epoch: 7 \n",
      "Learning rate: 0.000889892578125\n",
      "Train loss: 1.0678 | Train precision: 0.5464 | Train recall: 0.4685 | Train f1score: 0.4753 | Train acc: 0.4908 | Train kappa: 0.5361 \n",
      "Val loss: 1.0367 | Val precision: 0.5954 | Val recall: 0.4637 | Val f1score: 0.4826 | Val acc: 0.5356 | Val kappa: 0.5164 \n",
      "\n",
      "Epoch: 8 \n",
      "Learning rate: 0.00066741943359375\n",
      "Train loss: 1.0557 | Train precision: 0.5438 | Train recall: 0.4706 | Train f1score: 0.4776 | Train acc: 0.5014 | Train kappa: 0.5424 \n",
      "Val loss: 1.1489 | Val precision: 0.3905 | Val recall: 0.3956 | Val f1score: 0.3701 | Val acc: 0.4349 | Val kappa: 0.3390 \n",
      "\n",
      "Epoch: 9 \n",
      "Learning rate: 0.0005005645751953125\n",
      "Train loss: 1.0488 | Train precision: 0.5627 | Train recall: 0.4873 | Train f1score: 0.4901 | Train acc: 0.5103 | Train kappa: 0.5494 \n",
      "Val loss: 1.0421 | Val precision: 0.5371 | Val recall: 0.4878 | Val f1score: 0.4820 | Val acc: 0.5139 | Val kappa: 0.4982 \n",
      "\n",
      "Epoch: 10 \n",
      "Learning rate: 0.0003754234313964844\n",
      "Train loss: 1.0395 | Train precision: 0.5826 | Train recall: 0.4829 | Train f1score: 0.4972 | Train acc: 0.5111 | Train kappa: 0.5586 \n",
      "Val loss: 1.0018 | Val precision: 0.5738 | Val recall: 0.5205 | Val f1score: 0.5006 | Val acc: 0.5269 | Val kappa: 0.5757 \n",
      "\n",
      "Epoch: 11 \n",
      "Learning rate: 0.0002815675735473633\n",
      "Train loss: 1.0289 | Train precision: 0.5702 | Train recall: 0.4881 | Train f1score: 0.4971 | Train acc: 0.5138 | Train kappa: 0.5659 \n",
      "Val loss: 0.9934 | Val precision: 0.6410 | Val recall: 0.5367 | Val f1score: 0.5347 | Val acc: 0.5391 | Val kappa: 0.5743 \n",
      "\n",
      "Epoch: 12 \n",
      "Learning rate: 0.00021117568016052246\n",
      "Train loss: 1.0339 | Train precision: 0.5813 | Train recall: 0.4937 | Train f1score: 0.5018 | Train acc: 0.5132 | Train kappa: 0.5601 \n",
      "Val loss: 0.9954 | Val precision: 0.5625 | Val recall: 0.5068 | Val f1score: 0.5122 | Val acc: 0.5417 | Val kappa: 0.5737 \n",
      "\n",
      "Epoch: 13 \n",
      "Learning rate: 0.00015838176012039184\n",
      "Train loss: 1.0207 | Train precision: 0.5937 | Train recall: 0.4896 | Train f1score: 0.5021 | Train acc: 0.5182 | Train kappa: 0.5740 \n",
      "Val loss: 0.9836 | Val precision: 0.6450 | Val recall: 0.5441 | Val f1score: 0.5476 | Val acc: 0.5530 | Val kappa: 0.5812 \n",
      "\n",
      "Epoch: 14 \n",
      "Learning rate: 0.00011878632009029388\n",
      "Train loss: 1.0270 | Train precision: 0.5753 | Train recall: 0.4959 | Train f1score: 0.5049 | Train acc: 0.5055 | Train kappa: 0.5755 \n",
      "Val loss: 0.9729 | Val precision: 0.6570 | Val recall: 0.5556 | Val f1score: 0.5583 | Val acc: 0.5738 | Val kappa: 0.5994 \n",
      "\n",
      "Epoch: 15 \n",
      "Learning rate: 8.908974006772042e-05\n",
      "Train loss: 1.0255 | Train precision: 0.5787 | Train recall: 0.4948 | Train f1score: 0.5030 | Train acc: 0.5113 | Train kappa: 0.5688 \n",
      "Val loss: 0.9833 | Val precision: 0.6368 | Val recall: 0.5488 | Val f1score: 0.5480 | Val acc: 0.5521 | Val kappa: 0.5857 \n",
      "\n",
      "Epoch: 16 \n",
      "Learning rate: 6.681730505079031e-05\n",
      "Train loss: 1.0321 | Train precision: 0.5866 | Train recall: 0.5046 | Train f1score: 0.5200 | Train acc: 0.5052 | Train kappa: 0.5660 \n",
      "Val loss: 0.9853 | Val precision: 0.6043 | Val recall: 0.5460 | Val f1score: 0.5414 | Val acc: 0.5530 | Val kappa: 0.5891 \n",
      "\n",
      "Epoch: 17 \n",
      "Learning rate: 5.0112978788092735e-05\n",
      "Train loss: 1.0276 | Train precision: 0.5866 | Train recall: 0.5032 | Train f1score: 0.5179 | Train acc: 0.5099 | Train kappa: 0.5662 \n",
      "Val loss: 0.9879 | Val precision: 0.6190 | Val recall: 0.5366 | Val f1score: 0.5343 | Val acc: 0.5443 | Val kappa: 0.5852 \n",
      "\n",
      "Epoch: 18 \n",
      "Learning rate: 3.758473409106955e-05\n",
      "Train loss: 1.0185 | Train precision: 0.6136 | Train recall: 0.5203 | Train f1score: 0.5381 | Train acc: 0.5200 | Train kappa: 0.5868 \n",
      "Val loss: 0.9809 | Val precision: 0.6504 | Val recall: 0.5499 | Val f1score: 0.5542 | Val acc: 0.5590 | Val kappa: 0.5834 \n",
      "\n",
      "Epoch: 19 \n",
      "Learning rate: 2.8188550568302163e-05\n",
      "Train loss: 1.0287 | Train precision: 0.5947 | Train recall: 0.5059 | Train f1score: 0.5223 | Train acc: 0.5105 | Train kappa: 0.5664 \n",
      "Val loss: 0.9835 | Val precision: 0.6391 | Val recall: 0.5484 | Val f1score: 0.5484 | Val acc: 0.5547 | Val kappa: 0.5875 \n",
      "\n",
      "Epoch: 20 \n",
      "Learning rate: 2.114141292622662e-05\n",
      "Train loss: 1.0210 | Train precision: 0.5955 | Train recall: 0.5020 | Train f1score: 0.5227 | Train acc: 0.5215 | Train kappa: 0.5715 \n",
      "Val loss: 0.9789 | Val precision: 0.6319 | Val recall: 0.5434 | Val f1score: 0.5424 | Val acc: 0.5582 | Val kappa: 0.5909 \n",
      "\n",
      "Epoch: 21 \n",
      "Learning rate: 1.5856059694669965e-05\n",
      "Train loss: 1.0169 | Train precision: 0.6018 | Train recall: 0.5159 | Train f1score: 0.5321 | Train acc: 0.5176 | Train kappa: 0.5923 \n",
      "Val loss: 0.9821 | Val precision: 0.6171 | Val recall: 0.5498 | Val f1score: 0.5527 | Val acc: 0.5521 | Val kappa: 0.5919 \n",
      "\n",
      "Epoch: 22 \n",
      "Learning rate: 1.1892044771002475e-05\n",
      "Train loss: 1.0189 | Train precision: 0.5854 | Train recall: 0.5073 | Train f1score: 0.5176 | Train acc: 0.5143 | Train kappa: 0.5738 \n",
      "Val loss: 0.9823 | Val precision: 0.6514 | Val recall: 0.5486 | Val f1score: 0.5545 | Val acc: 0.5599 | Val kappa: 0.5943 \n",
      "\n",
      "Epoch: 23 \n",
      "Learning rate: 8.919033578251857e-06\n",
      "Train loss: 1.0210 | Train precision: 0.5914 | Train recall: 0.5045 | Train f1score: 0.5235 | Train acc: 0.5134 | Train kappa: 0.5776 \n",
      "Val loss: 0.9835 | Val precision: 0.6315 | Val recall: 0.5454 | Val f1score: 0.5442 | Val acc: 0.5599 | Val kappa: 0.5947 \n",
      "\n",
      "Epoch: 24 \n",
      "Learning rate: 6.689275183688892e-06\n",
      "Train loss: 1.0240 | Train precision: 0.5818 | Train recall: 0.5019 | Train f1score: 0.5163 | Train acc: 0.5125 | Train kappa: 0.5687 \n",
      "Val loss: 0.9818 | Val precision: 0.6289 | Val recall: 0.5379 | Val f1score: 0.5469 | Val acc: 0.5556 | Val kappa: 0.5867 \n",
      "\n",
      "Early stopping after epoch 24\n"
     ]
    },
    {
     "data": {
      "text/html": [
       "Waiting for W&B process to finish... <strong style=\"color:green\">(success).</strong>"
      ],
      "text/plain": [
       "<IPython.core.display.HTML object>"
      ]
     },
     "metadata": {},
     "output_type": "display_data"
    },
    {
     "data": {
      "application/vnd.jupyter.widget-view+json": {
       "model_id": "832e894a094c4d179bcbd4b1e532c769",
       "version_major": 2,
       "version_minor": 0
      },
      "text/plain": [
       "VBox(children=(Label(value='0.001 MB of 0.013 MB uploaded (0.000 MB deduped)\\r'), FloatProgress(value=0.099652…"
      ]
     },
     "metadata": {},
     "output_type": "display_data"
    },
    {
     "data": {
      "text/html": [
       "<style>\n",
       "    table.wandb td:nth-child(1) { padding: 0 10px; text-align: left ; width: auto;} td:nth-child(2) {text-align: left ; width: 100%}\n",
       "    .wandb-row { display: flex; flex-direction: row; flex-wrap: wrap; justify-content: flex-start; width: 100% }\n",
       "    .wandb-col { display: flex; flex-direction: column; flex-basis: 100%; flex: 1; padding: 10px; }\n",
       "    </style>\n",
       "<div class=\"wandb-row\"><div class=\"wandb-col\"><h3>Run history:</h3><br/><table class=\"wandb\"><tr><td>learning_rate</td><td>█▆▅▄▃▃▂▂▂▂▁▁▁▁▁▁▁▁▁▁▁▁▁▁</td></tr><tr><td>train_f1_score</td><td>▁▄▅▅▆▆▆▆▇▇▇▇▇▇▇█▇████▇█▇</td></tr><tr><td>train_loss</td><td>█▅▄▃▃▂▂▂▂▂▁▁▁▁▁▁▁▁▁▁▁▁▁▁</td></tr><tr><td>val_f1_score</td><td>▁▄▆▆▆▆▇▅▇▇█▇████████████</td></tr><tr><td>val_loss</td><td>█▄▃▃▄▂▂▄▂▁▁▁▁▁▁▁▁▁▁▁▁▁▁▁</td></tr></table><br/></div><div class=\"wandb-col\"><h3>Run summary:</h3><br/><table class=\"wandb\"><tr><td>learning_rate</td><td>1e-05</td></tr><tr><td>train_f1_score</td><td>0.51633</td></tr><tr><td>train_loss</td><td>1.02403</td></tr><tr><td>val_f1_score</td><td>0.54691</td></tr><tr><td>val_loss</td><td>0.98185</td></tr></table><br/></div></div>"
      ],
      "text/plain": [
       "<IPython.core.display.HTML object>"
      ]
     },
     "metadata": {},
     "output_type": "display_data"
    },
    {
     "data": {
      "text/html": [
       " View run <strong style=\"color:#cdcd00\">fold_1_RGB-RE-NIR_5classes</strong> at: <a href='https://wandb.ai/simon-ecke/wze-uav-5classes/runs/vhmly7xx' target=\"_blank\">https://wandb.ai/simon-ecke/wze-uav-5classes/runs/vhmly7xx</a><br/>Synced 5 W&B file(s), 0 media file(s), 0 artifact file(s) and 0 other file(s)"
      ],
      "text/plain": [
       "<IPython.core.display.HTML object>"
      ]
     },
     "metadata": {},
     "output_type": "display_data"
    },
    {
     "data": {
      "text/html": [
       "Find logs at: <code>.\\wandb\\run-20230429_130220-vhmly7xx\\logs</code>"
      ],
      "text/plain": [
       "<IPython.core.display.HTML object>"
      ]
     },
     "metadata": {},
     "output_type": "display_data"
    },
    {
     "name": "stdout",
     "output_type": "stream",
     "text": [
      "Deleting variables and emptying cache\n",
      "Memory allocated: 1049254912 bytes\n",
      "--------------------------------------------------\n",
      "\n",
      "Fold : 2\n",
      "TRAIN POSITIVE RATIO: 1.2782225780624499\n",
      "VAL POSITIVE RATIO  : 1.300031615554853\n",
      "LENGTH TRAIN GROUPS : 4720\n",
      "LENGTH VAL GROUPS   : 1183\n"
     ]
    },
    {
     "data": {
      "text/html": [
       "wandb version 0.15.0 is available!  To upgrade, please run:\n",
       " $ pip install wandb --upgrade"
      ],
      "text/plain": [
       "<IPython.core.display.HTML object>"
      ]
     },
     "metadata": {},
     "output_type": "display_data"
    },
    {
     "data": {
      "text/html": [
       "Tracking run with wandb version 0.14.2"
      ],
      "text/plain": [
       "<IPython.core.display.HTML object>"
      ]
     },
     "metadata": {},
     "output_type": "display_data"
    },
    {
     "data": {
      "text/html": [
       "Run data is saved locally in <code>C:\\Users\\lwfeckesim\\01_PyTorch\\wze-uav\\wze-uav-master\\wandb\\run-20230429_151854-qyhokpv0</code>"
      ],
      "text/plain": [
       "<IPython.core.display.HTML object>"
      ]
     },
     "metadata": {},
     "output_type": "display_data"
    },
    {
     "data": {
      "text/html": [
       "Syncing run <strong><a href='https://wandb.ai/simon-ecke/wze-uav-5classes/runs/qyhokpv0' target=\"_blank\">fold_2_RGB-RE-NIR_5classes</a></strong> to <a href='https://wandb.ai/simon-ecke/wze-uav-5classes' target=\"_blank\">Weights & Biases</a> (<a href='https://wandb.me/run' target=\"_blank\">docs</a>)<br/>"
      ],
      "text/plain": [
       "<IPython.core.display.HTML object>"
      ]
     },
     "metadata": {},
     "output_type": "display_data"
    },
    {
     "data": {
      "text/html": [
       " View project at <a href='https://wandb.ai/simon-ecke/wze-uav-5classes' target=\"_blank\">https://wandb.ai/simon-ecke/wze-uav-5classes</a>"
      ],
      "text/plain": [
       "<IPython.core.display.HTML object>"
      ]
     },
     "metadata": {},
     "output_type": "display_data"
    },
    {
     "data": {
      "text/html": [
       " View run at <a href='https://wandb.ai/simon-ecke/wze-uav-5classes/runs/qyhokpv0' target=\"_blank\">https://wandb.ai/simon-ecke/wze-uav-5classes/runs/qyhokpv0</a>"
      ],
      "text/plain": [
       "<IPython.core.display.HTML object>"
      ]
     },
     "metadata": {},
     "output_type": "display_data"
    },
    {
     "name": "stdout",
     "output_type": "stream",
     "text": [
      "There are no same hash_id values in train, val or test datasets. The datasplit was successful\n",
      "Check shapes:\n",
      "\n",
      "Images train dataset: (12490, 250, 250, 5)\n",
      "Labels train dataset: (12490, 1)\n",
      "\n",
      "Images validation dataset: (1183, 250, 250, 5)\n",
      "Labels validation dataset: (1183, 1)\n",
      "\n",
      "--------------------------------------------------\n",
      "Check if the split was stratified: (random_state=42)\n",
      "Healthy trees in train dataset: 2399\n",
      "Moderately stressed trees in train dataset: 4995\n",
      "Severely stressed trees in train dataset: 4522\n",
      "Dead trees in train dataset: 370\n",
      "Healthy trees in validation dataset: 211\n",
      "Moderately stressed trees in validation dataset: 447\n",
      "Severely stressed trees in validation dataset: 472\n",
      "Dead trees in validation dataset: 33\n",
      "Ratio health trees in validation dataset: 0.07097208207198116\n",
      "Ratio moderately stressed trees in validation dataset: 0.07170356111645813\n",
      "Ratio severely stressed trees in validation dataset: 0.0778338847292356\n",
      "Ratio dead trees in validation dataset: 1.0373626373626375\n",
      "--------------------------------------------------\n",
      "\n",
      "Creating datasets for fold: 2\n",
      "\n",
      "Creating dataloaders for fold: 2\n",
      "\n",
      "Loaded pretrained weights for efficientnet-b7\n",
      "\n",
      "[INFO] Fold number: 2\n",
      "[INFO] Number of epochs: 50\n",
      "[INFO] Number of classes: 5\n",
      "[INFO] Batch_size: 32\n",
      "[INFO] Number of bands: 5\n",
      "[INFO] Dropout rate: 0.5\n",
      "[INFO] Gamma learning rate: 0.75\n",
      "[INFO] Memory allocated: 0 bytes\n"
     ]
    },
    {
     "data": {
      "application/vnd.jupyter.widget-view+json": {
       "model_id": "10575052fb334d128dd015a3e3813dd5",
       "version_major": 2,
       "version_minor": 0
      },
      "text/plain": [
       "  0%|          | 0/50 [00:00<?, ?it/s]"
      ]
     },
     "metadata": {},
     "output_type": "display_data"
    },
    {
     "name": "stdout",
     "output_type": "stream",
     "text": [
      "Epoch: 1 \n",
      "Learning rate: 0.005\n",
      "Train loss: 1.2741 | Train precision: 0.2999 | Train recall: 0.2507 | Train f1score: 0.2522 | Train acc: 0.3946 | Train kappa: 0.1747 \n",
      "Val loss: 2.5806 | Val precision: 0.0767 | Val recall: 0.2000 | Val f1score: 0.1109 | Val acc: 0.3837 | Val kappa: 0.0000 \n",
      "\n",
      "Epoch: 2 \n",
      "Learning rate: 0.00375\n",
      "Train loss: 1.1589 | Train precision: 0.4263 | Train recall: 0.3777 | Train f1score: 0.3834 | Train acc: 0.4476 | Train kappa: 0.4167 \n",
      "Val loss: 1.1024 | Val precision: 0.3978 | Val recall: 0.4603 | Val f1score: 0.4004 | Val acc: 0.5069 | Val kappa: 0.4323 \n",
      "\n",
      "Epoch: 3 \n",
      "Learning rate: 0.0028125\n",
      "Train loss: 1.1154 | Train precision: 0.4609 | Train recall: 0.4208 | Train f1score: 0.4213 | Train acc: 0.4672 | Train kappa: 0.4720 \n",
      "Val loss: 1.3229 | Val precision: 0.4400 | Val recall: 0.5192 | Val f1score: 0.3992 | Val acc: 0.4158 | Val kappa: 0.3992 \n",
      "\n",
      "Epoch: 4 \n",
      "Learning rate: 0.002109375\n",
      "Train loss: 1.0935 | Train precision: 0.5275 | Train recall: 0.4553 | Train f1score: 0.4600 | Train acc: 0.4779 | Train kappa: 0.5048 \n",
      "Val loss: 1.0228 | Val precision: 0.5329 | Val recall: 0.5216 | Val f1score: 0.4964 | Val acc: 0.5295 | Val kappa: 0.5013 \n",
      "\n",
      "Epoch: 5 \n",
      "Learning rate: 0.00158203125\n",
      "Train loss: 1.0758 | Train precision: 0.5208 | Train recall: 0.4607 | Train f1score: 0.4684 | Train acc: 0.4844 | Train kappa: 0.5259 \n",
      "Val loss: 1.0089 | Val precision: 0.5954 | Val recall: 0.5274 | Val f1score: 0.5319 | Val acc: 0.5148 | Val kappa: 0.5184 \n",
      "\n",
      "Epoch: 6 \n",
      "Learning rate: 0.0011865234375\n",
      "Train loss: 1.0748 | Train precision: 0.5548 | Train recall: 0.4745 | Train f1score: 0.4835 | Train acc: 0.4876 | Train kappa: 0.5487 \n",
      "Val loss: 1.0047 | Val precision: 0.4997 | Val recall: 0.5236 | Val f1score: 0.4964 | Val acc: 0.5469 | Val kappa: 0.5173 \n",
      "\n",
      "Epoch: 7 \n",
      "Learning rate: 0.000889892578125\n",
      "Train loss: 1.0533 | Train precision: 0.5528 | Train recall: 0.4804 | Train f1score: 0.4914 | Train acc: 0.5010 | Train kappa: 0.5487 \n",
      "Val loss: 1.0035 | Val precision: 0.6084 | Val recall: 0.4979 | Val f1score: 0.4963 | Val acc: 0.5321 | Val kappa: 0.4753 \n",
      "\n",
      "Epoch: 8 \n",
      "Learning rate: 0.00066741943359375\n",
      "Train loss: 1.0381 | Train precision: 0.5663 | Train recall: 0.4957 | Train f1score: 0.5049 | Train acc: 0.5107 | Train kappa: 0.5817 \n",
      "Val loss: 1.0277 | Val precision: 0.5314 | Val recall: 0.5634 | Val f1score: 0.5378 | Val acc: 0.5399 | Val kappa: 0.5585 \n",
      "\n",
      "Epoch: 9 \n",
      "Learning rate: 0.0005005645751953125\n",
      "Train loss: 1.0360 | Train precision: 0.5690 | Train recall: 0.5003 | Train f1score: 0.5103 | Train acc: 0.5145 | Train kappa: 0.5725 \n",
      "Val loss: 1.0557 | Val precision: 0.5626 | Val recall: 0.5180 | Val f1score: 0.4846 | Val acc: 0.4878 | Val kappa: 0.5149 \n",
      "\n",
      "Epoch: 10 \n",
      "Learning rate: 0.0003754234313964844\n",
      "Train loss: 1.0385 | Train precision: 0.5763 | Train recall: 0.5008 | Train f1score: 0.5116 | Train acc: 0.5102 | Train kappa: 0.5714 \n",
      "Val loss: 0.9926 | Val precision: 0.5706 | Val recall: 0.5584 | Val f1score: 0.5510 | Val acc: 0.5634 | Val kappa: 0.5544 \n",
      "\n",
      "Epoch: 11 \n",
      "Learning rate: 0.0002815675735473633\n",
      "Train loss: 1.0238 | Train precision: 0.5877 | Train recall: 0.5075 | Train f1score: 0.5220 | Train acc: 0.5147 | Train kappa: 0.5794 \n",
      "Val loss: 0.9976 | Val precision: 0.6043 | Val recall: 0.5459 | Val f1score: 0.5448 | Val acc: 0.5286 | Val kappa: 0.5529 \n",
      "\n",
      "Epoch: 12 \n",
      "Learning rate: 0.00021117568016052246\n",
      "Train loss: 1.0274 | Train precision: 0.5714 | Train recall: 0.4948 | Train f1score: 0.5085 | Train acc: 0.5115 | Train kappa: 0.5776 \n",
      "Val loss: 0.9735 | Val precision: 0.6132 | Val recall: 0.5467 | Val f1score: 0.5537 | Val acc: 0.5616 | Val kappa: 0.5521 \n",
      "\n",
      "Epoch: 13 \n",
      "Learning rate: 0.00015838176012039184\n",
      "Train loss: 1.0199 | Train precision: 0.6081 | Train recall: 0.5115 | Train f1score: 0.5279 | Train acc: 0.5186 | Train kappa: 0.5897 \n",
      "Val loss: 0.9761 | Val precision: 0.5947 | Val recall: 0.5525 | Val f1score: 0.5592 | Val acc: 0.5530 | Val kappa: 0.5730 \n",
      "\n",
      "Epoch: 14 \n",
      "Learning rate: 0.00011878632009029388\n",
      "Train loss: 1.0214 | Train precision: 0.5657 | Train recall: 0.4970 | Train f1score: 0.5063 | Train acc: 0.5118 | Train kappa: 0.5808 \n",
      "Val loss: 0.9838 | Val precision: 0.6239 | Val recall: 0.5602 | Val f1score: 0.5608 | Val acc: 0.5503 | Val kappa: 0.5724 \n",
      "\n",
      "Epoch: 15 \n",
      "Learning rate: 8.908974006772042e-05\n",
      "Train loss: 1.0126 | Train precision: 0.5975 | Train recall: 0.5083 | Train f1score: 0.5221 | Train acc: 0.5161 | Train kappa: 0.5837 \n",
      "Val loss: 0.9771 | Val precision: 0.5966 | Val recall: 0.5568 | Val f1score: 0.5611 | Val acc: 0.5495 | Val kappa: 0.5664 \n",
      "\n",
      "Epoch: 16 \n",
      "Learning rate: 6.681730505079031e-05\n",
      "Train loss: 1.0233 | Train precision: 0.5955 | Train recall: 0.5048 | Train f1score: 0.5231 | Train acc: 0.5193 | Train kappa: 0.5889 \n",
      "Val loss: 0.9770 | Val precision: 0.5936 | Val recall: 0.5513 | Val f1score: 0.5554 | Val acc: 0.5382 | Val kappa: 0.5657 \n",
      "\n",
      "Epoch: 17 \n",
      "Learning rate: 5.0112978788092735e-05\n",
      "Train loss: 1.0099 | Train precision: 0.5956 | Train recall: 0.5180 | Train f1score: 0.5312 | Train acc: 0.5257 | Train kappa: 0.5886 \n",
      "Val loss: 0.9637 | Val precision: 0.6007 | Val recall: 0.5561 | Val f1score: 0.5649 | Val acc: 0.5547 | Val kappa: 0.5657 \n",
      "\n",
      "Epoch: 18 \n",
      "Learning rate: 3.758473409106955e-05\n",
      "Train loss: 1.0125 | Train precision: 0.5927 | Train recall: 0.5110 | Train f1score: 0.5261 | Train acc: 0.5220 | Train kappa: 0.5898 \n",
      "Val loss: 0.9649 | Val precision: 0.6215 | Val recall: 0.5545 | Val f1score: 0.5624 | Val acc: 0.5477 | Val kappa: 0.5595 \n",
      "\n",
      "Epoch: 19 \n",
      "Learning rate: 2.8188550568302163e-05\n",
      "Train loss: 1.0109 | Train precision: 0.6109 | Train recall: 0.5164 | Train f1score: 0.5326 | Train acc: 0.5318 | Train kappa: 0.5975 \n",
      "Val loss: 0.9715 | Val precision: 0.5844 | Val recall: 0.5514 | Val f1score: 0.5549 | Val acc: 0.5434 | Val kappa: 0.5573 \n",
      "\n",
      "Epoch: 20 \n",
      "Learning rate: 2.114141292622662e-05\n",
      "Train loss: 1.0191 | Train precision: 0.6064 | Train recall: 0.5181 | Train f1score: 0.5346 | Train acc: 0.5210 | Train kappa: 0.5859 \n",
      "Val loss: 0.9666 | Val precision: 0.6246 | Val recall: 0.5511 | Val f1score: 0.5606 | Val acc: 0.5486 | Val kappa: 0.5548 \n",
      "\n",
      "Epoch: 21 \n",
      "Learning rate: 1.5856059694669965e-05\n",
      "Train loss: 1.0243 | Train precision: 0.5860 | Train recall: 0.4983 | Train f1score: 0.5145 | Train acc: 0.5058 | Train kappa: 0.5771 \n",
      "Val loss: 0.9662 | Val precision: 0.6045 | Val recall: 0.5532 | Val f1score: 0.5596 | Val acc: 0.5512 | Val kappa: 0.5601 \n",
      "\n",
      "Epoch: 22 \n",
      "Learning rate: 1.1892044771002475e-05\n",
      "Train loss: 1.0203 | Train precision: 0.5912 | Train recall: 0.5041 | Train f1score: 0.5188 | Train acc: 0.5181 | Train kappa: 0.5869 \n",
      "Val loss: 0.9684 | Val precision: 0.5917 | Val recall: 0.5512 | Val f1score: 0.5560 | Val acc: 0.5443 | Val kappa: 0.5583 \n",
      "\n",
      "Epoch: 23 \n",
      "Learning rate: 8.919033578251857e-06\n",
      "Train loss: 1.0168 | Train precision: 0.5958 | Train recall: 0.5098 | Train f1score: 0.5263 | Train acc: 0.5148 | Train kappa: 0.5917 \n",
      "Val loss: 0.9681 | Val precision: 0.5967 | Val recall: 0.5539 | Val f1score: 0.5594 | Val acc: 0.5495 | Val kappa: 0.5601 \n",
      "\n",
      "Epoch: 24 \n",
      "Learning rate: 6.689275183688892e-06\n",
      "Train loss: 1.0161 | Train precision: 0.6056 | Train recall: 0.5139 | Train f1score: 0.5290 | Train acc: 0.5282 | Train kappa: 0.5884 \n",
      "Val loss: 0.9713 | Val precision: 0.5956 | Val recall: 0.5556 | Val f1score: 0.5602 | Val acc: 0.5512 | Val kappa: 0.5586 \n",
      "\n",
      "Epoch: 25 \n",
      "Learning rate: 5.016956387766669e-06\n",
      "Train loss: 1.0143 | Train precision: 0.5852 | Train recall: 0.5098 | Train f1score: 0.5219 | Train acc: 0.5242 | Train kappa: 0.5968 \n",
      "Val loss: 0.9680 | Val precision: 0.5960 | Val recall: 0.5526 | Val f1score: 0.5582 | Val acc: 0.5469 | Val kappa: 0.5578 \n",
      "\n",
      "Epoch: 26 \n",
      "Learning rate: 3.762717290825002e-06\n",
      "Train loss: 1.0239 | Train precision: 0.5899 | Train recall: 0.5076 | Train f1score: 0.5225 | Train acc: 0.5112 | Train kappa: 0.5723 \n",
      "Val loss: 0.9707 | Val precision: 0.5931 | Val recall: 0.5526 | Val f1score: 0.5573 | Val acc: 0.5469 | Val kappa: 0.5579 \n",
      "\n",
      "Epoch: 27 \n",
      "Learning rate: 2.8220379681187514e-06\n",
      "Train loss: 1.0080 | Train precision: 0.6060 | Train recall: 0.5170 | Train f1score: 0.5347 | Train acc: 0.5233 | Train kappa: 0.5913 \n",
      "Val loss: 0.9700 | Val precision: 0.5936 | Val recall: 0.5538 | Val f1score: 0.5585 | Val acc: 0.5469 | Val kappa: 0.5625 \n",
      "\n",
      "Early stopping after epoch 27\n"
     ]
    },
    {
     "data": {
      "text/html": [
       "Waiting for W&B process to finish... <strong style=\"color:green\">(success).</strong>"
      ],
      "text/plain": [
       "<IPython.core.display.HTML object>"
      ]
     },
     "metadata": {},
     "output_type": "display_data"
    },
    {
     "data": {
      "text/html": [
       "<style>\n",
       "    table.wandb td:nth-child(1) { padding: 0 10px; text-align: left ; width: auto;} td:nth-child(2) {text-align: left ; width: 100%}\n",
       "    .wandb-row { display: flex; flex-direction: row; flex-wrap: wrap; justify-content: flex-start; width: 100% }\n",
       "    .wandb-col { display: flex; flex-direction: column; flex-basis: 100%; flex: 1; padding: 10px; }\n",
       "    </style>\n",
       "<div class=\"wandb-row\"><div class=\"wandb-col\"><h3>Run history:</h3><br/><table class=\"wandb\"><tr><td>learning_rate</td><td>█▆▅▄▃▃▂▂▂▂▁▁▁▁▁▁▁▁▁▁▁▁▁▁▁▁▁</td></tr><tr><td>train_f1_score</td><td>▁▄▅▆▆▇▇▇▇▇█▇█▇██████▇██████</td></tr><tr><td>train_loss</td><td>█▅▄▃▃▃▂▂▂▂▁▂▁▁▁▁▁▁▁▁▁▁▁▁▁▁▁</td></tr><tr><td>val_f1_score</td><td>▁▅▅▇▇▇▇█▇██████████████████</td></tr><tr><td>val_loss</td><td>█▂▃▁▁▁▁▁▁▁▁▁▁▁▁▁▁▁▁▁▁▁▁▁▁▁▁</td></tr></table><br/></div><div class=\"wandb-col\"><h3>Run summary:</h3><br/><table class=\"wandb\"><tr><td>learning_rate</td><td>0.0</td></tr><tr><td>train_f1_score</td><td>0.53473</td></tr><tr><td>train_loss</td><td>1.00801</td></tr><tr><td>val_f1_score</td><td>0.55847</td></tr><tr><td>val_loss</td><td>0.97005</td></tr></table><br/></div></div>"
      ],
      "text/plain": [
       "<IPython.core.display.HTML object>"
      ]
     },
     "metadata": {},
     "output_type": "display_data"
    },
    {
     "data": {
      "text/html": [
       " View run <strong style=\"color:#cdcd00\">fold_2_RGB-RE-NIR_5classes</strong> at: <a href='https://wandb.ai/simon-ecke/wze-uav-5classes/runs/qyhokpv0' target=\"_blank\">https://wandb.ai/simon-ecke/wze-uav-5classes/runs/qyhokpv0</a><br/>Synced 5 W&B file(s), 0 media file(s), 0 artifact file(s) and 0 other file(s)"
      ],
      "text/plain": [
       "<IPython.core.display.HTML object>"
      ]
     },
     "metadata": {},
     "output_type": "display_data"
    },
    {
     "data": {
      "text/html": [
       "Find logs at: <code>.\\wandb\\run-20230429_151854-qyhokpv0\\logs</code>"
      ],
      "text/plain": [
       "<IPython.core.display.HTML object>"
      ]
     },
     "metadata": {},
     "output_type": "display_data"
    },
    {
     "name": "stdout",
     "output_type": "stream",
     "text": [
      "Deleting variables and emptying cache\n",
      "Memory allocated: 1054561280 bytes\n",
      "--------------------------------------------------\n",
      "\n",
      "Fold : 3\n",
      "TRAIN POSITIVE RATIO: 1.2821208975485108\n",
      "VAL POSITIVE RATIO  : 1.284664536741214\n",
      "LENGTH TRAIN GROUPS : 4722\n",
      "LENGTH VAL GROUPS   : 1181\n"
     ]
    },
    {
     "data": {
      "text/html": [
       "wandb version 0.15.0 is available!  To upgrade, please run:\n",
       " $ pip install wandb --upgrade"
      ],
      "text/plain": [
       "<IPython.core.display.HTML object>"
      ]
     },
     "metadata": {},
     "output_type": "display_data"
    },
    {
     "data": {
      "text/html": [
       "Tracking run with wandb version 0.14.2"
      ],
      "text/plain": [
       "<IPython.core.display.HTML object>"
      ]
     },
     "metadata": {},
     "output_type": "display_data"
    },
    {
     "data": {
      "text/html": [
       "Run data is saved locally in <code>C:\\Users\\lwfeckesim\\01_PyTorch\\wze-uav\\wze-uav-master\\wandb\\run-20230429_175153-q4oc18r9</code>"
      ],
      "text/plain": [
       "<IPython.core.display.HTML object>"
      ]
     },
     "metadata": {},
     "output_type": "display_data"
    },
    {
     "data": {
      "text/html": [
       "Syncing run <strong><a href='https://wandb.ai/simon-ecke/wze-uav-5classes/runs/q4oc18r9' target=\"_blank\">fold_3_RGB-RE-NIR_5classes</a></strong> to <a href='https://wandb.ai/simon-ecke/wze-uav-5classes' target=\"_blank\">Weights & Biases</a> (<a href='https://wandb.me/run' target=\"_blank\">docs</a>)<br/>"
      ],
      "text/plain": [
       "<IPython.core.display.HTML object>"
      ]
     },
     "metadata": {},
     "output_type": "display_data"
    },
    {
     "data": {
      "text/html": [
       " View project at <a href='https://wandb.ai/simon-ecke/wze-uav-5classes' target=\"_blank\">https://wandb.ai/simon-ecke/wze-uav-5classes</a>"
      ],
      "text/plain": [
       "<IPython.core.display.HTML object>"
      ]
     },
     "metadata": {},
     "output_type": "display_data"
    },
    {
     "data": {
      "text/html": [
       " View run at <a href='https://wandb.ai/simon-ecke/wze-uav-5classes/runs/q4oc18r9' target=\"_blank\">https://wandb.ai/simon-ecke/wze-uav-5classes/runs/q4oc18r9</a>"
      ],
      "text/plain": [
       "<IPython.core.display.HTML object>"
      ]
     },
     "metadata": {},
     "output_type": "display_data"
    },
    {
     "name": "stdout",
     "output_type": "stream",
     "text": [
      "There are no same hash_id values in train, val or test datasets. The datasplit was successful\n",
      "Check shapes:\n",
      "\n",
      "Images train dataset: (12523, 250, 250, 5)\n",
      "Labels train dataset: (12523, 1)\n",
      "\n",
      "Images validation dataset: (1181, 250, 250, 5)\n",
      "Labels validation dataset: (1181, 1)\n",
      "\n",
      "--------------------------------------------------\n",
      "Check if the split was stratified: (random_state=42)\n",
      "Healthy trees in train dataset: 2374\n",
      "Moderately stressed trees in train dataset: 4991\n",
      "Severely stressed trees in train dataset: 4605\n",
      "Dead trees in train dataset: 357\n",
      "Healthy trees in validation dataset: 208\n",
      "Moderately stressed trees in validation dataset: 472\n",
      "Severely stressed trees in validation dataset: 440\n",
      "Dead trees in validation dataset: 39\n",
      "Ratio health trees in validation dataset: 0.06996300033636058\n",
      "Ratio moderately stressed trees in validation dataset: 0.07571382739813924\n",
      "Ratio severely stressed trees in validation dataset: 0.08218701027337628\n",
      "Ratio dead trees in validation dataset: 0.967032967032967\n",
      "--------------------------------------------------\n",
      "\n",
      "Creating datasets for fold: 3\n",
      "\n",
      "Creating dataloaders for fold: 3\n",
      "\n",
      "Loaded pretrained weights for efficientnet-b7\n",
      "\n",
      "[INFO] Fold number: 3\n",
      "[INFO] Number of epochs: 50\n",
      "[INFO] Number of classes: 5\n",
      "[INFO] Batch_size: 32\n",
      "[INFO] Number of bands: 5\n",
      "[INFO] Dropout rate: 0.5\n",
      "[INFO] Gamma learning rate: 0.75\n",
      "[INFO] Memory allocated: 0 bytes\n"
     ]
    },
    {
     "data": {
      "application/vnd.jupyter.widget-view+json": {
       "model_id": "720704b70be94dfca466274188ebdaf7",
       "version_major": 2,
       "version_minor": 0
      },
      "text/plain": [
       "  0%|          | 0/50 [00:00<?, ?it/s]"
      ]
     },
     "metadata": {},
     "output_type": "display_data"
    },
    {
     "name": "stdout",
     "output_type": "stream",
     "text": [
      "Epoch: 1 \n",
      "Learning rate: 0.005\n",
      "Train loss: 1.2830 | Train precision: 0.3228 | Train recall: 0.2544 | Train f1score: 0.2589 | Train acc: 0.3899 | Train kappa: 0.1817 \n",
      "Val loss: 2.6492 | Val precision: 0.1818 | Val recall: 0.1719 | Val f1score: 0.1593 | Val acc: 0.2578 | Val kappa: -0.2211 \n",
      "\n",
      "Epoch: 2 \n",
      "Learning rate: 0.00375\n",
      "Train loss: 1.1681 | Train precision: 0.4125 | Train recall: 0.3600 | Train f1score: 0.3684 | Train acc: 0.4442 | Train kappa: 0.4108 \n",
      "Val loss: 1.2409 | Val precision: 0.2954 | Val recall: 0.4432 | Val f1score: 0.2752 | Val acc: 0.3672 | Val kappa: 0.3835 \n",
      "\n",
      "Epoch: 3 \n",
      "Learning rate: 0.0028125\n",
      "Train loss: 1.1193 | Train precision: 0.4608 | Train recall: 0.4100 | Train f1score: 0.4060 | Train acc: 0.4559 | Train kappa: 0.4541 \n",
      "Val loss: 1.1130 | Val precision: 0.4304 | Val recall: 0.3942 | Val f1score: 0.4026 | Val acc: 0.5035 | Val kappa: 0.4460 \n",
      "\n",
      "Epoch: 4 \n",
      "Learning rate: 0.002109375\n",
      "Train loss: 1.0968 | Train precision: 0.5013 | Train recall: 0.4419 | Train f1score: 0.4418 | Train acc: 0.4791 | Train kappa: 0.4970 \n",
      "Val loss: 1.1110 | Val precision: 0.5000 | Val recall: 0.4394 | Val f1score: 0.4024 | Val acc: 0.4679 | Val kappa: 0.4477 \n",
      "\n",
      "Epoch: 5 \n",
      "Learning rate: 0.00158203125\n",
      "Train loss: 1.0834 | Train precision: 0.4990 | Train recall: 0.4554 | Train f1score: 0.4538 | Train acc: 0.4878 | Train kappa: 0.5180 \n",
      "Val loss: 1.1916 | Val precision: 0.4240 | Val recall: 0.4603 | Val f1score: 0.3871 | Val acc: 0.4227 | Val kappa: 0.4596 \n",
      "\n",
      "Epoch: 6 \n",
      "Learning rate: 0.0011865234375\n",
      "Train loss: 1.0716 | Train precision: 0.5117 | Train recall: 0.4597 | Train f1score: 0.4636 | Train acc: 0.4831 | Train kappa: 0.5237 \n",
      "Val loss: 1.0878 | Val precision: 0.4784 | Val recall: 0.4872 | Val f1score: 0.4686 | Val acc: 0.4774 | Val kappa: 0.5172 \n",
      "\n",
      "Epoch: 7 \n",
      "Learning rate: 0.000889892578125\n",
      "Train loss: 1.0589 | Train precision: 0.5453 | Train recall: 0.4779 | Train f1score: 0.4847 | Train acc: 0.4956 | Train kappa: 0.5443 \n",
      "Val loss: 1.0560 | Val precision: 0.4995 | Val recall: 0.4425 | Val f1score: 0.4448 | Val acc: 0.4835 | Val kappa: 0.4779 \n",
      "\n",
      "Epoch: 8 \n",
      "Learning rate: 0.00066741943359375\n",
      "Train loss: 1.0518 | Train precision: 0.5589 | Train recall: 0.4859 | Train f1score: 0.4902 | Train acc: 0.5049 | Train kappa: 0.5503 \n",
      "Val loss: 1.0972 | Val precision: 0.4370 | Val recall: 0.5035 | Val f1score: 0.4466 | Val acc: 0.4887 | Val kappa: 0.5095 \n",
      "\n",
      "Epoch: 9 \n",
      "Learning rate: 0.0005005645751953125\n",
      "Train loss: 1.0352 | Train precision: 0.5736 | Train recall: 0.5000 | Train f1score: 0.5115 | Train acc: 0.5080 | Train kappa: 0.5590 \n",
      "Val loss: 1.0516 | Val precision: 0.5250 | Val recall: 0.4878 | Val f1score: 0.4949 | Val acc: 0.5061 | Val kappa: 0.5045 \n",
      "\n",
      "Epoch: 10 \n",
      "Learning rate: 0.0003754234313964844\n",
      "Train loss: 1.0420 | Train precision: 0.5697 | Train recall: 0.4971 | Train f1score: 0.5086 | Train acc: 0.5064 | Train kappa: 0.5615 \n",
      "Val loss: 1.0571 | Val precision: 0.5023 | Val recall: 0.4795 | Val f1score: 0.4615 | Val acc: 0.4931 | Val kappa: 0.5151 \n",
      "\n",
      "Epoch: 11 \n",
      "Learning rate: 0.0002815675735473633\n",
      "Train loss: 1.0353 | Train precision: 0.5796 | Train recall: 0.5018 | Train f1score: 0.5109 | Train acc: 0.5104 | Train kappa: 0.5697 \n",
      "Val loss: 1.0380 | Val precision: 0.5211 | Val recall: 0.4891 | Val f1score: 0.4903 | Val acc: 0.5243 | Val kappa: 0.5399 \n",
      "\n",
      "Epoch: 12 \n",
      "Learning rate: 0.00021117568016052246\n",
      "Train loss: 1.0147 | Train precision: 0.5924 | Train recall: 0.5173 | Train f1score: 0.5315 | Train acc: 0.5157 | Train kappa: 0.5885 \n",
      "Val loss: 1.0347 | Val precision: 0.5285 | Val recall: 0.5135 | Val f1score: 0.5157 | Val acc: 0.5312 | Val kappa: 0.5604 \n",
      "\n",
      "Epoch: 13 \n",
      "Learning rate: 0.00015838176012039184\n",
      "Train loss: 1.0175 | Train precision: 0.5864 | Train recall: 0.5107 | Train f1score: 0.5230 | Train acc: 0.5157 | Train kappa: 0.5811 \n",
      "Val loss: 1.0279 | Val precision: 0.5054 | Val recall: 0.4975 | Val f1score: 0.4932 | Val acc: 0.5295 | Val kappa: 0.5551 \n",
      "\n",
      "Epoch: 14 \n",
      "Learning rate: 0.00011878632009029388\n",
      "Train loss: 1.0157 | Train precision: 0.5869 | Train recall: 0.5098 | Train f1score: 0.5223 | Train acc: 0.5165 | Train kappa: 0.5781 \n",
      "Val loss: 1.0394 | Val precision: 0.5092 | Val recall: 0.5037 | Val f1score: 0.5031 | Val acc: 0.5087 | Val kappa: 0.5430 \n",
      "\n",
      "Epoch: 15 \n",
      "Learning rate: 8.908974006772042e-05\n",
      "Train loss: 1.0102 | Train precision: 0.5950 | Train recall: 0.5222 | Train f1score: 0.5353 | Train acc: 0.5258 | Train kappa: 0.5844 \n",
      "Val loss: 1.0204 | Val precision: 0.4981 | Val recall: 0.4885 | Val f1score: 0.4865 | Val acc: 0.5278 | Val kappa: 0.5580 \n",
      "\n",
      "Epoch: 16 \n",
      "Learning rate: 6.681730505079031e-05\n",
      "Train loss: 1.0042 | Train precision: 0.6046 | Train recall: 0.5249 | Train f1score: 0.5396 | Train acc: 0.5203 | Train kappa: 0.5988 \n",
      "Val loss: 1.0339 | Val precision: 0.5061 | Val recall: 0.4975 | Val f1score: 0.4968 | Val acc: 0.5052 | Val kappa: 0.5486 \n",
      "\n",
      "Epoch: 17 \n",
      "Learning rate: 5.0112978788092735e-05\n",
      "Train loss: 1.0106 | Train precision: 0.6058 | Train recall: 0.5240 | Train f1score: 0.5427 | Train acc: 0.5269 | Train kappa: 0.5984 \n",
      "Val loss: 1.0327 | Val precision: 0.5014 | Val recall: 0.4927 | Val f1score: 0.4921 | Val acc: 0.5095 | Val kappa: 0.5351 \n",
      "\n",
      "Epoch: 18 \n",
      "Learning rate: 3.758473409106955e-05\n",
      "Train loss: 1.0088 | Train precision: 0.6064 | Train recall: 0.5215 | Train f1score: 0.5382 | Train acc: 0.5248 | Train kappa: 0.5808 \n",
      "Val loss: 1.0328 | Val precision: 0.5006 | Val recall: 0.4940 | Val f1score: 0.4925 | Val acc: 0.5087 | Val kappa: 0.5477 \n",
      "\n",
      "Epoch: 19 \n",
      "Learning rate: 2.8188550568302163e-05\n",
      "Train loss: 1.0169 | Train precision: 0.5899 | Train recall: 0.5117 | Train f1score: 0.5259 | Train acc: 0.5183 | Train kappa: 0.5764 \n",
      "Val loss: 1.0453 | Val precision: 0.4997 | Val recall: 0.5028 | Val f1score: 0.4970 | Val acc: 0.4991 | Val kappa: 0.5394 \n",
      "\n",
      "Epoch: 20 \n",
      "Learning rate: 2.114141292622662e-05\n",
      "Train loss: 1.0145 | Train precision: 0.5941 | Train recall: 0.5152 | Train f1score: 0.5329 | Train acc: 0.5243 | Train kappa: 0.5777 \n",
      "Val loss: 1.0326 | Val precision: 0.4902 | Val recall: 0.4844 | Val f1score: 0.4821 | Val acc: 0.5017 | Val kappa: 0.5308 \n",
      "\n",
      "Epoch: 21 \n",
      "Learning rate: 1.5856059694669965e-05\n",
      "Train loss: 1.0143 | Train precision: 0.6123 | Train recall: 0.5205 | Train f1score: 0.5356 | Train acc: 0.5235 | Train kappa: 0.5844 \n",
      "Val loss: 1.0393 | Val precision: 0.5075 | Val recall: 0.4997 | Val f1score: 0.4993 | Val acc: 0.5035 | Val kappa: 0.5443 \n",
      "\n",
      "Epoch: 22 \n",
      "Learning rate: 1.1892044771002475e-05\n",
      "Train loss: 1.0089 | Train precision: 0.6028 | Train recall: 0.5299 | Train f1score: 0.5453 | Train acc: 0.5258 | Train kappa: 0.5947 \n",
      "Val loss: 1.0298 | Val precision: 0.4992 | Val recall: 0.4927 | Val f1score: 0.4917 | Val acc: 0.5087 | Val kappa: 0.5443 \n",
      "\n",
      "Epoch: 23 \n",
      "Learning rate: 8.919033578251857e-06\n",
      "Train loss: 1.0022 | Train precision: 0.6103 | Train recall: 0.5235 | Train f1score: 0.5424 | Train acc: 0.5305 | Train kappa: 0.5925 \n",
      "Val loss: 1.0297 | Val precision: 0.5109 | Val recall: 0.4992 | Val f1score: 0.4999 | Val acc: 0.5130 | Val kappa: 0.5445 \n",
      "\n",
      "Epoch: 24 \n",
      "Learning rate: 6.689275183688892e-06\n",
      "Train loss: 1.0123 | Train precision: 0.6091 | Train recall: 0.5268 | Train f1score: 0.5420 | Train acc: 0.5281 | Train kappa: 0.5942 \n",
      "Val loss: 1.0285 | Val precision: 0.5004 | Val recall: 0.4895 | Val f1score: 0.4898 | Val acc: 0.5078 | Val kappa: 0.5445 \n",
      "\n",
      "Epoch: 25 \n",
      "Learning rate: 5.016956387766669e-06\n",
      "Train loss: 1.0186 | Train precision: 0.6055 | Train recall: 0.5171 | Train f1score: 0.5381 | Train acc: 0.5233 | Train kappa: 0.5870 \n",
      "Val loss: 1.0339 | Val precision: 0.5000 | Val recall: 0.4929 | Val f1score: 0.4916 | Val acc: 0.5069 | Val kappa: 0.5470 \n",
      "\n",
      "Early stopping after epoch 25\n"
     ]
    },
    {
     "data": {
      "text/html": [
       "Waiting for W&B process to finish... <strong style=\"color:green\">(success).</strong>"
      ],
      "text/plain": [
       "<IPython.core.display.HTML object>"
      ]
     },
     "metadata": {},
     "output_type": "display_data"
    },
    {
     "data": {
      "application/vnd.jupyter.widget-view+json": {
       "model_id": "c178d68abe85414b902be43fc4686267",
       "version_major": 2,
       "version_minor": 0
      },
      "text/plain": [
       "VBox(children=(Label(value='0.001 MB of 0.001 MB uploaded (0.000 MB deduped)\\r'), FloatProgress(value=1.0, max…"
      ]
     },
     "metadata": {},
     "output_type": "display_data"
    },
    {
     "data": {
      "text/html": [
       "<style>\n",
       "    table.wandb td:nth-child(1) { padding: 0 10px; text-align: left ; width: auto;} td:nth-child(2) {text-align: left ; width: 100%}\n",
       "    .wandb-row { display: flex; flex-direction: row; flex-wrap: wrap; justify-content: flex-start; width: 100% }\n",
       "    .wandb-col { display: flex; flex-direction: column; flex-basis: 100%; flex: 1; padding: 10px; }\n",
       "    </style>\n",
       "<div class=\"wandb-row\"><div class=\"wandb-col\"><h3>Run history:</h3><br/><table class=\"wandb\"><tr><td>learning_rate</td><td>█▆▅▄▃▃▂▂▂▂▁▁▁▁▁▁▁▁▁▁▁▁▁▁▁</td></tr><tr><td>train_f1_score</td><td>▁▄▅▅▆▆▇▇▇▇▇█▇▇███████████</td></tr><tr><td>train_loss</td><td>█▅▄▃▃▃▂▂▂▂▂▁▁▁▁▁▁▁▁▁▁▁▁▁▁</td></tr><tr><td>val_f1_score</td><td>▁▃▆▆▅▇▇▇█▇▇███▇████▇███▇█</td></tr><tr><td>val_loss</td><td>█▂▁▁▂▁▁▁▁▁▁▁▁▁▁▁▁▁▁▁▁▁▁▁▁</td></tr></table><br/></div><div class=\"wandb-col\"><h3>Run summary:</h3><br/><table class=\"wandb\"><tr><td>learning_rate</td><td>1e-05</td></tr><tr><td>train_f1_score</td><td>0.53805</td></tr><tr><td>train_loss</td><td>1.01858</td></tr><tr><td>val_f1_score</td><td>0.49158</td></tr><tr><td>val_loss</td><td>1.03392</td></tr></table><br/></div></div>"
      ],
      "text/plain": [
       "<IPython.core.display.HTML object>"
      ]
     },
     "metadata": {},
     "output_type": "display_data"
    },
    {
     "data": {
      "text/html": [
       " View run <strong style=\"color:#cdcd00\">fold_3_RGB-RE-NIR_5classes</strong> at: <a href='https://wandb.ai/simon-ecke/wze-uav-5classes/runs/q4oc18r9' target=\"_blank\">https://wandb.ai/simon-ecke/wze-uav-5classes/runs/q4oc18r9</a><br/>Synced 5 W&B file(s), 0 media file(s), 0 artifact file(s) and 0 other file(s)"
      ],
      "text/plain": [
       "<IPython.core.display.HTML object>"
      ]
     },
     "metadata": {},
     "output_type": "display_data"
    },
    {
     "data": {
      "text/html": [
       "Find logs at: <code>.\\wandb\\run-20230429_175153-q4oc18r9\\logs</code>"
      ],
      "text/plain": [
       "<IPython.core.display.HTML object>"
      ]
     },
     "metadata": {},
     "output_type": "display_data"
    },
    {
     "name": "stdout",
     "output_type": "stream",
     "text": [
      "Deleting variables and emptying cache\n",
      "Memory allocated: 1052619776 bytes\n",
      "--------------------------------------------------\n",
      "\n",
      "Fold : 4\n",
      "TRAIN POSITIVE RATIO: 1.2837428206764518\n",
      "VAL POSITIVE RATIO  : 1.2781520692974013\n",
      "LENGTH TRAIN GROUPS : 4726\n",
      "LENGTH VAL GROUPS   : 1177\n"
     ]
    },
    {
     "data": {
      "text/html": [
       "wandb version 0.15.0 is available!  To upgrade, please run:\n",
       " $ pip install wandb --upgrade"
      ],
      "text/plain": [
       "<IPython.core.display.HTML object>"
      ]
     },
     "metadata": {},
     "output_type": "display_data"
    },
    {
     "data": {
      "text/html": [
       "Tracking run with wandb version 0.14.2"
      ],
      "text/plain": [
       "<IPython.core.display.HTML object>"
      ]
     },
     "metadata": {},
     "output_type": "display_data"
    },
    {
     "data": {
      "text/html": [
       "Run data is saved locally in <code>C:\\Users\\lwfeckesim\\01_PyTorch\\wze-uav\\wze-uav-master\\wandb\\run-20230429_201346-0ezwyjli</code>"
      ],
      "text/plain": [
       "<IPython.core.display.HTML object>"
      ]
     },
     "metadata": {},
     "output_type": "display_data"
    },
    {
     "data": {
      "text/html": [
       "Syncing run <strong><a href='https://wandb.ai/simon-ecke/wze-uav-5classes/runs/0ezwyjli' target=\"_blank\">fold_4_RGB-RE-NIR_5classes</a></strong> to <a href='https://wandb.ai/simon-ecke/wze-uav-5classes' target=\"_blank\">Weights & Biases</a> (<a href='https://wandb.me/run' target=\"_blank\">docs</a>)<br/>"
      ],
      "text/plain": [
       "<IPython.core.display.HTML object>"
      ]
     },
     "metadata": {},
     "output_type": "display_data"
    },
    {
     "data": {
      "text/html": [
       " View project at <a href='https://wandb.ai/simon-ecke/wze-uav-5classes' target=\"_blank\">https://wandb.ai/simon-ecke/wze-uav-5classes</a>"
      ],
      "text/plain": [
       "<IPython.core.display.HTML object>"
      ]
     },
     "metadata": {},
     "output_type": "display_data"
    },
    {
     "data": {
      "text/html": [
       " View run at <a href='https://wandb.ai/simon-ecke/wze-uav-5classes/runs/0ezwyjli' target=\"_blank\">https://wandb.ai/simon-ecke/wze-uav-5classes/runs/0ezwyjli</a>"
      ],
      "text/plain": [
       "<IPython.core.display.HTML object>"
      ]
     },
     "metadata": {},
     "output_type": "display_data"
    },
    {
     "name": "stdout",
     "output_type": "stream",
     "text": [
      "There are no same hash_id values in train, val or test datasets. The datasplit was successful\n",
      "Check shapes:\n",
      "\n",
      "Images train dataset: (12536, 250, 250, 5)\n",
      "Labels train dataset: (12536, 1)\n",
      "\n",
      "Images validation dataset: (1177, 250, 250, 5)\n",
      "Labels validation dataset: (1177, 1)\n",
      "\n",
      "--------------------------------------------------\n",
      "Check if the split was stratified: (random_state=42)\n",
      "Healthy trees in train dataset: 2397\n",
      "Moderately stressed trees in train dataset: 4984\n",
      "Severely stressed trees in train dataset: 4569\n",
      "Dead trees in train dataset: 373\n",
      "Healthy trees in validation dataset: 204\n",
      "Moderately stressed trees in validation dataset: 477\n",
      "Severely stressed trees in validation dataset: 449\n",
      "Dead trees in validation dataset: 32\n",
      "Ratio health trees in validation dataset: 0.06861755802219979\n",
      "Ratio moderately stressed trees in validation dataset: 0.07651588065447545\n",
      "Ratio severely stressed trees in validation dataset: 0.08305763538220443\n",
      "Ratio dead trees in validation dataset: 0.9868131868131869\n",
      "--------------------------------------------------\n",
      "\n",
      "Creating datasets for fold: 4\n",
      "\n",
      "Creating dataloaders for fold: 4\n",
      "\n",
      "Loaded pretrained weights for efficientnet-b7\n",
      "\n",
      "[INFO] Fold number: 4\n",
      "[INFO] Number of epochs: 50\n",
      "[INFO] Number of classes: 5\n",
      "[INFO] Batch_size: 32\n",
      "[INFO] Number of bands: 5\n",
      "[INFO] Dropout rate: 0.5\n",
      "[INFO] Gamma learning rate: 0.75\n",
      "[INFO] Memory allocated: 0 bytes\n"
     ]
    },
    {
     "data": {
      "application/vnd.jupyter.widget-view+json": {
       "model_id": "8c84846ef6324bc28f934cfb89d23061",
       "version_major": 2,
       "version_minor": 0
      },
      "text/plain": [
       "  0%|          | 0/50 [00:00<?, ?it/s]"
      ]
     },
     "metadata": {},
     "output_type": "display_data"
    },
    {
     "name": "stdout",
     "output_type": "stream",
     "text": [
      "Epoch: 1 \n",
      "Learning rate: 0.005\n",
      "Train loss: 1.3086 | Train precision: 0.3201 | Train recall: 0.2511 | Train f1score: 0.2559 | Train acc: 0.3791 | Train kappa: 0.1558 \n",
      "Val loss: 4.0366 | Val precision: 0.0774 | Val recall: 0.2000 | Val f1score: 0.1116 | Val acc: 0.3872 | Val kappa: 0.0000 \n",
      "\n",
      "Epoch: 2 \n",
      "Learning rate: 0.00375\n",
      "Train loss: 1.1544 | Train precision: 0.4576 | Train recall: 0.3923 | Train f1score: 0.3918 | Train acc: 0.4528 | Train kappa: 0.4341 \n",
      "Val loss: 1.4610 | Val precision: 0.3007 | Val recall: 0.3793 | Val f1score: 0.2367 | Val acc: 0.3576 | Val kappa: 0.2849 \n",
      "\n",
      "Epoch: 3 \n",
      "Learning rate: 0.0028125\n",
      "Train loss: 1.1132 | Train precision: 0.4937 | Train recall: 0.4406 | Train f1score: 0.4419 | Train acc: 0.4650 | Train kappa: 0.4866 \n",
      "Val loss: 1.0598 | Val precision: 0.5229 | Val recall: 0.4804 | Val f1score: 0.4810 | Val acc: 0.4974 | Val kappa: 0.4681 \n",
      "\n",
      "Epoch: 4 \n",
      "Learning rate: 0.002109375\n",
      "Train loss: 1.1112 | Train precision: 0.4933 | Train recall: 0.4470 | Train f1score: 0.4452 | Train acc: 0.4740 | Train kappa: 0.4841 \n",
      "Val loss: 1.1592 | Val precision: 0.5357 | Val recall: 0.4407 | Val f1score: 0.4191 | Val acc: 0.4401 | Val kappa: 0.4079 \n",
      "\n",
      "Epoch: 5 \n",
      "Learning rate: 0.00158203125\n",
      "Train loss: 1.0763 | Train precision: 0.5387 | Train recall: 0.4698 | Train f1score: 0.4763 | Train acc: 0.4871 | Train kappa: 0.5352 \n",
      "Val loss: 1.1285 | Val precision: 0.2770 | Val recall: 0.2458 | Val f1score: 0.2304 | Val acc: 0.4505 | Val kappa: 0.2860 \n",
      "\n",
      "Epoch: 6 \n",
      "Learning rate: 0.0011865234375\n",
      "Train loss: 1.0763 | Train precision: 0.5537 | Train recall: 0.4770 | Train f1score: 0.4882 | Train acc: 0.4879 | Train kappa: 0.5346 \n",
      "Val loss: 1.0558 | Val precision: 0.4991 | Val recall: 0.5079 | Val f1score: 0.4959 | Val acc: 0.4957 | Val kappa: 0.4854 \n",
      "\n",
      "Epoch: 7 \n",
      "Learning rate: 0.000889892578125\n",
      "Train loss: 1.0536 | Train precision: 0.5610 | Train recall: 0.4912 | Train f1score: 0.4988 | Train acc: 0.5009 | Train kappa: 0.5628 \n",
      "Val loss: 1.0205 | Val precision: 0.5188 | Val recall: 0.4758 | Val f1score: 0.4661 | Val acc: 0.5009 | Val kappa: 0.4768 \n",
      "\n",
      "Epoch: 8 \n",
      "Learning rate: 0.00066741943359375\n",
      "Train loss: 1.0390 | Train precision: 0.5812 | Train recall: 0.5022 | Train f1score: 0.5141 | Train acc: 0.5103 | Train kappa: 0.5583 \n",
      "Val loss: 1.0553 | Val precision: 0.4512 | Val recall: 0.5354 | Val f1score: 0.4776 | Val acc: 0.5026 | Val kappa: 0.5042 \n",
      "\n",
      "Epoch: 9 \n",
      "Learning rate: 0.0005005645751953125\n",
      "Train loss: 1.0391 | Train precision: 0.5722 | Train recall: 0.5067 | Train f1score: 0.5181 | Train acc: 0.5086 | Train kappa: 0.5809 \n",
      "Val loss: 1.0022 | Val precision: 0.5552 | Val recall: 0.4901 | Val f1score: 0.5016 | Val acc: 0.5165 | Val kappa: 0.5167 \n",
      "\n",
      "Epoch: 10 \n",
      "Learning rate: 0.0003754234313964844\n",
      "Train loss: 1.0418 | Train precision: 0.5695 | Train recall: 0.4994 | Train f1score: 0.5111 | Train acc: 0.5073 | Train kappa: 0.5737 \n",
      "Val loss: 1.0424 | Val precision: 0.4760 | Val recall: 0.5066 | Val f1score: 0.4832 | Val acc: 0.5000 | Val kappa: 0.5050 \n",
      "\n",
      "Epoch: 11 \n",
      "Learning rate: 0.0002815675735473633\n",
      "Train loss: 1.0308 | Train precision: 0.5872 | Train recall: 0.5110 | Train f1score: 0.5242 | Train acc: 0.5149 | Train kappa: 0.5822 \n",
      "Val loss: 1.0077 | Val precision: 0.5510 | Val recall: 0.4837 | Val f1score: 0.4920 | Val acc: 0.5000 | Val kappa: 0.5177 \n",
      "\n",
      "Epoch: 12 \n",
      "Learning rate: 0.00021117568016052246\n",
      "Train loss: 1.0181 | Train precision: 0.6035 | Train recall: 0.5221 | Train f1score: 0.5410 | Train acc: 0.5178 | Train kappa: 0.6004 \n",
      "Val loss: 1.0220 | Val precision: 0.5167 | Val recall: 0.5024 | Val f1score: 0.4770 | Val acc: 0.4974 | Val kappa: 0.4991 \n",
      "\n",
      "Epoch: 13 \n",
      "Learning rate: 0.00015838176012039184\n",
      "Train loss: 1.0239 | Train precision: 0.5919 | Train recall: 0.5049 | Train f1score: 0.5223 | Train acc: 0.5101 | Train kappa: 0.5781 \n",
      "Val loss: 1.0192 | Val precision: 0.4863 | Val recall: 0.4957 | Val f1score: 0.4845 | Val acc: 0.5035 | Val kappa: 0.5209 \n",
      "\n",
      "Epoch: 14 \n",
      "Learning rate: 0.00011878632009029388\n",
      "Train loss: 1.0213 | Train precision: 0.6003 | Train recall: 0.5235 | Train f1score: 0.5385 | Train acc: 0.5188 | Train kappa: 0.5942 \n",
      "Val loss: 1.0105 | Val precision: 0.4957 | Val recall: 0.5123 | Val f1score: 0.4989 | Val acc: 0.5130 | Val kappa: 0.5237 \n",
      "\n",
      "Epoch: 15 \n",
      "Learning rate: 8.908974006772042e-05\n",
      "Train loss: 1.0138 | Train precision: 0.6022 | Train recall: 0.5190 | Train f1score: 0.5339 | Train acc: 0.5177 | Train kappa: 0.5976 \n",
      "Val loss: 1.0034 | Val precision: 0.4944 | Val recall: 0.4870 | Val f1score: 0.4859 | Val acc: 0.5095 | Val kappa: 0.5141 \n",
      "\n",
      "Epoch: 16 \n",
      "Learning rate: 6.681730505079031e-05\n",
      "Train loss: 1.0004 | Train precision: 0.6073 | Train recall: 0.5251 | Train f1score: 0.5434 | Train acc: 0.5257 | Train kappa: 0.6042 \n",
      "Val loss: 1.0014 | Val precision: 0.5077 | Val recall: 0.5088 | Val f1score: 0.5024 | Val acc: 0.5139 | Val kappa: 0.5281 \n",
      "\n",
      "Epoch: 17 \n",
      "Learning rate: 5.0112978788092735e-05\n",
      "Train loss: 1.0148 | Train precision: 0.6033 | Train recall: 0.5176 | Train f1score: 0.5350 | Train acc: 0.5203 | Train kappa: 0.5947 \n",
      "Val loss: 1.0084 | Val precision: 0.5049 | Val recall: 0.5144 | Val f1score: 0.5037 | Val acc: 0.5061 | Val kappa: 0.5371 \n",
      "\n",
      "Epoch: 18 \n",
      "Learning rate: 3.758473409106955e-05\n",
      "Train loss: 1.0147 | Train precision: 0.5913 | Train recall: 0.5176 | Train f1score: 0.5310 | Train acc: 0.5164 | Train kappa: 0.5906 \n",
      "Val loss: 1.0041 | Val precision: 0.4983 | Val recall: 0.4958 | Val f1score: 0.4938 | Val acc: 0.5087 | Val kappa: 0.5299 \n",
      "\n",
      "Epoch: 19 \n",
      "Learning rate: 2.8188550568302163e-05\n",
      "Train loss: 1.0165 | Train precision: 0.6033 | Train recall: 0.5208 | Train f1score: 0.5391 | Train acc: 0.5253 | Train kappa: 0.5943 \n",
      "Val loss: 1.0054 | Val precision: 0.4953 | Val recall: 0.5105 | Val f1score: 0.4981 | Val acc: 0.5017 | Val kappa: 0.5211 \n",
      "\n",
      "Epoch: 20 \n",
      "Learning rate: 2.114141292622662e-05\n",
      "Train loss: 1.0123 | Train precision: 0.6040 | Train recall: 0.5256 | Train f1score: 0.5444 | Train acc: 0.5221 | Train kappa: 0.5945 \n",
      "Val loss: 1.0015 | Val precision: 0.4898 | Val recall: 0.4883 | Val f1score: 0.4852 | Val acc: 0.5061 | Val kappa: 0.5224 \n",
      "\n",
      "Epoch: 21 \n",
      "Learning rate: 1.5856059694669965e-05\n",
      "Train loss: 1.0208 | Train precision: 0.5880 | Train recall: 0.5131 | Train f1score: 0.5291 | Train acc: 0.5144 | Train kappa: 0.5949 \n",
      "Val loss: 1.0036 | Val precision: 0.4930 | Val recall: 0.4947 | Val f1score: 0.4885 | Val acc: 0.5061 | Val kappa: 0.5200 \n",
      "\n",
      "Epoch: 22 \n",
      "Learning rate: 1.1892044771002475e-05\n",
      "Train loss: 1.0198 | Train precision: 0.6072 | Train recall: 0.5200 | Train f1score: 0.5387 | Train acc: 0.5213 | Train kappa: 0.5955 \n",
      "Val loss: 1.0062 | Val precision: 0.4945 | Val recall: 0.5010 | Val f1score: 0.4940 | Val acc: 0.5069 | Val kappa: 0.5245 \n",
      "\n",
      "Epoch: 23 \n",
      "Learning rate: 8.919033578251857e-06\n",
      "Train loss: 1.0014 | Train precision: 0.6051 | Train recall: 0.5319 | Train f1score: 0.5497 | Train acc: 0.5288 | Train kappa: 0.6016 \n",
      "Val loss: 1.0074 | Val precision: 0.4851 | Val recall: 0.4903 | Val f1score: 0.4822 | Val acc: 0.5009 | Val kappa: 0.5240 \n",
      "\n",
      "Epoch: 24 \n",
      "Learning rate: 6.689275183688892e-06\n",
      "Train loss: 1.0088 | Train precision: 0.6033 | Train recall: 0.5280 | Train f1score: 0.5443 | Train acc: 0.5202 | Train kappa: 0.6005 \n",
      "Val loss: 1.0048 | Val precision: 0.4803 | Val recall: 0.4882 | Val f1score: 0.4798 | Val acc: 0.5035 | Val kappa: 0.5213 \n",
      "\n",
      "Epoch: 25 \n",
      "Learning rate: 5.016956387766669e-06\n",
      "Train loss: 1.0154 | Train precision: 0.5872 | Train recall: 0.5215 | Train f1score: 0.5326 | Train acc: 0.5193 | Train kappa: 0.6014 \n",
      "Val loss: 1.0102 | Val precision: 0.4791 | Val recall: 0.4914 | Val f1score: 0.4818 | Val acc: 0.5035 | Val kappa: 0.5271 \n",
      "\n",
      "Epoch: 26 \n",
      "Learning rate: 3.762717290825002e-06\n",
      "Train loss: 1.0053 | Train precision: 0.5919 | Train recall: 0.5199 | Train f1score: 0.5363 | Train acc: 0.5265 | Train kappa: 0.6021 \n",
      "Val loss: 1.0107 | Val precision: 0.4805 | Val recall: 0.4914 | Val f1score: 0.4821 | Val acc: 0.5035 | Val kappa: 0.5306 \n",
      "\n",
      "Epoch: 27 \n",
      "Learning rate: 2.8220379681187514e-06\n",
      "Train loss: 1.0140 | Train precision: 0.6137 | Train recall: 0.5277 | Train f1score: 0.5466 | Train acc: 0.5206 | Train kappa: 0.5971 \n",
      "Val loss: 1.0067 | Val precision: 0.4858 | Val recall: 0.4947 | Val f1score: 0.4867 | Val acc: 0.5026 | Val kappa: 0.5213 \n",
      "\n",
      "Early stopping after epoch 27\n"
     ]
    },
    {
     "data": {
      "text/html": [
       "Waiting for W&B process to finish... <strong style=\"color:green\">(success).</strong>"
      ],
      "text/plain": [
       "<IPython.core.display.HTML object>"
      ]
     },
     "metadata": {},
     "output_type": "display_data"
    },
    {
     "data": {
      "text/html": [
       "<style>\n",
       "    table.wandb td:nth-child(1) { padding: 0 10px; text-align: left ; width: auto;} td:nth-child(2) {text-align: left ; width: 100%}\n",
       "    .wandb-row { display: flex; flex-direction: row; flex-wrap: wrap; justify-content: flex-start; width: 100% }\n",
       "    .wandb-col { display: flex; flex-direction: column; flex-basis: 100%; flex: 1; padding: 10px; }\n",
       "    </style>\n",
       "<div class=\"wandb-row\"><div class=\"wandb-col\"><h3>Run history:</h3><br/><table class=\"wandb\"><tr><td>learning_rate</td><td>█▆▅▄▃▃▂▂▂▂▁▁▁▁▁▁▁▁▁▁▁▁▁▁▁▁▁</td></tr><tr><td>train_f1_score</td><td>▁▄▅▆▆▇▇▇▇▇▇█▇██████████████</td></tr><tr><td>train_loss</td><td>█▄▄▄▃▃▂▂▂▂▂▁▂▁▁▁▁▁▁▁▁▁▁▁▁▁▁</td></tr><tr><td>val_f1_score</td><td>▁▃█▆▃█▇████████████████████</td></tr><tr><td>val_loss</td><td>█▂▁▁▁▁▁▁▁▁▁▁▁▁▁▁▁▁▁▁▁▁▁▁▁▁▁</td></tr></table><br/></div><div class=\"wandb-col\"><h3>Run summary:</h3><br/><table class=\"wandb\"><tr><td>learning_rate</td><td>0.0</td></tr><tr><td>train_f1_score</td><td>0.54663</td></tr><tr><td>train_loss</td><td>1.01404</td></tr><tr><td>val_f1_score</td><td>0.4867</td></tr><tr><td>val_loss</td><td>1.00672</td></tr></table><br/></div></div>"
      ],
      "text/plain": [
       "<IPython.core.display.HTML object>"
      ]
     },
     "metadata": {},
     "output_type": "display_data"
    },
    {
     "data": {
      "text/html": [
       " View run <strong style=\"color:#cdcd00\">fold_4_RGB-RE-NIR_5classes</strong> at: <a href='https://wandb.ai/simon-ecke/wze-uav-5classes/runs/0ezwyjli' target=\"_blank\">https://wandb.ai/simon-ecke/wze-uav-5classes/runs/0ezwyjli</a><br/>Synced 5 W&B file(s), 0 media file(s), 0 artifact file(s) and 0 other file(s)"
      ],
      "text/plain": [
       "<IPython.core.display.HTML object>"
      ]
     },
     "metadata": {},
     "output_type": "display_data"
    },
    {
     "data": {
      "text/html": [
       "Find logs at: <code>.\\wandb\\run-20230429_201346-0ezwyjli\\logs</code>"
      ],
      "text/plain": [
       "<IPython.core.display.HTML object>"
      ]
     },
     "metadata": {},
     "output_type": "display_data"
    },
    {
     "name": "stdout",
     "output_type": "stream",
     "text": [
      "Deleting variables and emptying cache\n",
      "Memory allocated: 1054442496 bytes\n",
      "--------------------------------------------------\n",
      "\n",
      "Fold : 5\n",
      "TRAIN POSITIVE RATIO: 1.2874780946311932\n",
      "VAL POSITIVE RATIO  : 1.2629880606647306\n",
      "LENGTH TRAIN GROUPS : 4724\n",
      "LENGTH VAL GROUPS   : 1179\n"
     ]
    },
    {
     "data": {
      "text/html": [
       "wandb version 0.15.0 is available!  To upgrade, please run:\n",
       " $ pip install wandb --upgrade"
      ],
      "text/plain": [
       "<IPython.core.display.HTML object>"
      ]
     },
     "metadata": {},
     "output_type": "display_data"
    },
    {
     "data": {
      "text/html": [
       "Tracking run with wandb version 0.14.2"
      ],
      "text/plain": [
       "<IPython.core.display.HTML object>"
      ]
     },
     "metadata": {},
     "output_type": "display_data"
    },
    {
     "data": {
      "text/html": [
       "Run data is saved locally in <code>C:\\Users\\lwfeckesim\\01_PyTorch\\wze-uav\\wze-uav-master\\wandb\\run-20230429_224652-hi7a4kvk</code>"
      ],
      "text/plain": [
       "<IPython.core.display.HTML object>"
      ]
     },
     "metadata": {},
     "output_type": "display_data"
    },
    {
     "data": {
      "text/html": [
       "Syncing run <strong><a href='https://wandb.ai/simon-ecke/wze-uav-5classes/runs/hi7a4kvk' target=\"_blank\">fold_5_RGB-RE-NIR_5classes</a></strong> to <a href='https://wandb.ai/simon-ecke/wze-uav-5classes' target=\"_blank\">Weights & Biases</a> (<a href='https://wandb.me/run' target=\"_blank\">docs</a>)<br/>"
      ],
      "text/plain": [
       "<IPython.core.display.HTML object>"
      ]
     },
     "metadata": {},
     "output_type": "display_data"
    },
    {
     "data": {
      "text/html": [
       " View project at <a href='https://wandb.ai/simon-ecke/wze-uav-5classes' target=\"_blank\">https://wandb.ai/simon-ecke/wze-uav-5classes</a>"
      ],
      "text/plain": [
       "<IPython.core.display.HTML object>"
      ]
     },
     "metadata": {},
     "output_type": "display_data"
    },
    {
     "data": {
      "text/html": [
       " View run at <a href='https://wandb.ai/simon-ecke/wze-uav-5classes/runs/hi7a4kvk' target=\"_blank\">https://wandb.ai/simon-ecke/wze-uav-5classes/runs/hi7a4kvk</a>"
      ],
      "text/plain": [
       "<IPython.core.display.HTML object>"
      ]
     },
     "metadata": {},
     "output_type": "display_data"
    },
    {
     "name": "stdout",
     "output_type": "stream",
     "text": [
      "There are no same hash_id values in train, val or test datasets. The datasplit was successful\n",
      "Check shapes:\n",
      "\n",
      "Images train dataset: (12554, 250, 250, 5)\n",
      "Labels train dataset: (12554, 1)\n",
      "\n",
      "Images validation dataset: (1179, 250, 250, 5)\n",
      "Labels validation dataset: (1179, 1)\n",
      "\n",
      "--------------------------------------------------\n",
      "Check if the split was stratified: (random_state=42)\n",
      "Healthy trees in train dataset: 2367\n",
      "Moderately stressed trees in train dataset: 4966\n",
      "Severely stressed trees in train dataset: 4658\n",
      "Dead trees in train dataset: 371\n",
      "Healthy trees in validation dataset: 228\n",
      "Moderately stressed trees in validation dataset: 496\n",
      "Severely stressed trees in validation dataset: 404\n",
      "Dead trees in validation dataset: 29\n",
      "Ratio health trees in validation dataset: 0.07669021190716448\n",
      "Ratio moderately stressed trees in validation dataset: 0.0795636830285531\n",
      "Ratio severely stressed trees in validation dataset: 0.08636601079575135\n",
      "Ratio dead trees in validation dataset: 0.8879120879120879\n",
      "--------------------------------------------------\n",
      "\n",
      "Creating datasets for fold: 5\n",
      "\n",
      "Creating dataloaders for fold: 5\n",
      "\n",
      "Loaded pretrained weights for efficientnet-b7\n",
      "\n",
      "[INFO] Fold number: 5\n",
      "[INFO] Number of epochs: 50\n",
      "[INFO] Number of classes: 5\n",
      "[INFO] Batch_size: 32\n",
      "[INFO] Number of bands: 5\n",
      "[INFO] Dropout rate: 0.5\n",
      "[INFO] Gamma learning rate: 0.75\n",
      "[INFO] Memory allocated: 0 bytes\n"
     ]
    },
    {
     "data": {
      "application/vnd.jupyter.widget-view+json": {
       "model_id": "4f29cbd35ca64c2083fc7d2cc69c4417",
       "version_major": 2,
       "version_minor": 0
      },
      "text/plain": [
       "  0%|          | 0/50 [00:00<?, ?it/s]"
      ]
     },
     "metadata": {},
     "output_type": "display_data"
    },
    {
     "name": "stdout",
     "output_type": "stream",
     "text": [
      "Epoch: 1 \n",
      "Learning rate: 0.005\n",
      "Train loss: 1.2559 | Train precision: 0.3297 | Train recall: 0.2850 | Train f1score: 0.2930 | Train acc: 0.4021 | Train kappa: 0.2739 \n",
      "Val loss: 1.3899 | Val precision: 0.2776 | Val recall: 0.2554 | Val f1score: 0.2172 | Val acc: 0.4184 | Val kappa: 0.2393 \n",
      "\n",
      "Epoch: 2 \n",
      "Learning rate: 0.00375\n",
      "Train loss: 1.1761 | Train precision: 0.3958 | Train recall: 0.3521 | Train f1score: 0.3550 | Train acc: 0.4411 | Train kappa: 0.4033 \n",
      "Val loss: 1.1138 | Val precision: 0.3606 | Val recall: 0.4422 | Val f1score: 0.3408 | Val acc: 0.4861 | Val kappa: 0.4420 \n",
      "\n",
      "Epoch: 3 \n",
      "Learning rate: 0.0028125\n",
      "Train loss: 1.1184 | Train precision: 0.4693 | Train recall: 0.4256 | Train f1score: 0.4210 | Train acc: 0.4673 | Train kappa: 0.4896 \n",
      "Val loss: 1.1438 | Val precision: 0.4375 | Val recall: 0.4233 | Val f1score: 0.4115 | Val acc: 0.4470 | Val kappa: 0.4309 \n",
      "\n",
      "Epoch: 4 \n",
      "Learning rate: 0.002109375\n",
      "Train loss: 1.0990 | Train precision: 0.5193 | Train recall: 0.4527 | Train f1score: 0.4524 | Train acc: 0.4814 | Train kappa: 0.4948 \n",
      "Val loss: 1.1762 | Val precision: 0.5148 | Val recall: 0.4474 | Val f1score: 0.4383 | Val acc: 0.4618 | Val kappa: 0.4190 \n",
      "\n",
      "Epoch: 5 \n",
      "Learning rate: 0.00158203125\n",
      "Train loss: 1.0861 | Train precision: 0.5178 | Train recall: 0.4607 | Train f1score: 0.4638 | Train acc: 0.4795 | Train kappa: 0.5210 \n",
      "Val loss: 1.2395 | Val precision: 0.3410 | Val recall: 0.4928 | Val f1score: 0.3471 | Val acc: 0.4253 | Val kappa: 0.4154 \n",
      "\n",
      "Epoch: 6 \n",
      "Learning rate: 0.0011865234375\n",
      "Train loss: 1.0612 | Train precision: 0.5504 | Train recall: 0.4835 | Train f1score: 0.4923 | Train acc: 0.4964 | Train kappa: 0.5488 \n",
      "Val loss: 1.0365 | Val precision: 0.5163 | Val recall: 0.5155 | Val f1score: 0.4931 | Val acc: 0.5200 | Val kappa: 0.5065 \n",
      "\n",
      "Epoch: 7 \n",
      "Learning rate: 0.000889892578125\n",
      "Train loss: 1.0369 | Train precision: 0.5793 | Train recall: 0.5097 | Train f1score: 0.5220 | Train acc: 0.5064 | Train kappa: 0.5597 \n",
      "Val loss: 1.0213 | Val precision: 0.4808 | Val recall: 0.4715 | Val f1score: 0.4687 | Val acc: 0.5156 | Val kappa: 0.5184 \n",
      "\n",
      "Epoch: 8 \n",
      "Learning rate: 0.00066741943359375\n",
      "Train loss: 1.0405 | Train precision: 0.5718 | Train recall: 0.4977 | Train f1score: 0.5095 | Train acc: 0.5096 | Train kappa: 0.5633 \n",
      "Val loss: 1.0229 | Val precision: 0.5209 | Val recall: 0.4945 | Val f1score: 0.4890 | Val acc: 0.5122 | Val kappa: 0.5029 \n",
      "\n",
      "Epoch: 9 \n",
      "Learning rate: 0.0005005645751953125\n",
      "Train loss: 1.0349 | Train precision: 0.5747 | Train recall: 0.5043 | Train f1score: 0.5185 | Train acc: 0.5062 | Train kappa: 0.5618 \n",
      "Val loss: 1.0277 | Val precision: 0.4924 | Val recall: 0.4949 | Val f1score: 0.4803 | Val acc: 0.5069 | Val kappa: 0.5067 \n",
      "\n",
      "Epoch: 10 \n",
      "Learning rate: 0.0003754234313964844\n",
      "Train loss: 1.0282 | Train precision: 0.5714 | Train recall: 0.5035 | Train f1score: 0.5133 | Train acc: 0.5130 | Train kappa: 0.5631 \n",
      "Val loss: 1.0121 | Val precision: 0.5410 | Val recall: 0.4897 | Val f1score: 0.4981 | Val acc: 0.5174 | Val kappa: 0.5314 \n",
      "\n",
      "Epoch: 11 \n",
      "Learning rate: 0.0002815675735473633\n",
      "Train loss: 1.0248 | Train precision: 0.5956 | Train recall: 0.5158 | Train f1score: 0.5337 | Train acc: 0.5188 | Train kappa: 0.5737 \n",
      "Val loss: 1.0164 | Val precision: 0.5237 | Val recall: 0.5007 | Val f1score: 0.4970 | Val acc: 0.5182 | Val kappa: 0.5300 \n",
      "\n",
      "Epoch: 12 \n",
      "Learning rate: 0.00021117568016052246\n",
      "Train loss: 1.0116 | Train precision: 0.5939 | Train recall: 0.5121 | Train f1score: 0.5285 | Train acc: 0.5205 | Train kappa: 0.5742 \n",
      "Val loss: 1.0189 | Val precision: 0.5401 | Val recall: 0.5034 | Val f1score: 0.5032 | Val acc: 0.5200 | Val kappa: 0.5017 \n",
      "\n",
      "Epoch: 13 \n",
      "Learning rate: 0.00015838176012039184\n",
      "Train loss: 1.0114 | Train precision: 0.5901 | Train recall: 0.5071 | Train f1score: 0.5217 | Train acc: 0.5208 | Train kappa: 0.5852 \n",
      "Val loss: 1.0197 | Val precision: 0.5486 | Val recall: 0.5240 | Val f1score: 0.5185 | Val acc: 0.5356 | Val kappa: 0.5268 \n",
      "\n",
      "Epoch: 14 \n",
      "Learning rate: 0.00011878632009029388\n",
      "Train loss: 1.0040 | Train precision: 0.6116 | Train recall: 0.5295 | Train f1score: 0.5457 | Train acc: 0.5267 | Train kappa: 0.6042 \n",
      "Val loss: 1.0019 | Val precision: 0.5285 | Val recall: 0.5012 | Val f1score: 0.5007 | Val acc: 0.5373 | Val kappa: 0.5380 \n",
      "\n",
      "Epoch: 15 \n",
      "Learning rate: 8.908974006772042e-05\n",
      "Train loss: 1.0161 | Train precision: 0.6013 | Train recall: 0.5170 | Train f1score: 0.5363 | Train acc: 0.5144 | Train kappa: 0.5809 \n",
      "Val loss: 1.0253 | Val precision: 0.5205 | Val recall: 0.5115 | Val f1score: 0.5084 | Val acc: 0.5061 | Val kappa: 0.5216 \n",
      "\n",
      "Epoch: 16 \n",
      "Learning rate: 6.681730505079031e-05\n",
      "Train loss: 1.0082 | Train precision: 0.6147 | Train recall: 0.5271 | Train f1score: 0.5489 | Train acc: 0.5276 | Train kappa: 0.5930 \n",
      "Val loss: 1.0028 | Val precision: 0.5457 | Val recall: 0.5102 | Val f1score: 0.5206 | Val acc: 0.5365 | Val kappa: 0.5417 \n",
      "\n",
      "Epoch: 17 \n",
      "Learning rate: 5.0112978788092735e-05\n",
      "Train loss: 1.0073 | Train precision: 0.6309 | Train recall: 0.5295 | Train f1score: 0.5529 | Train acc: 0.5300 | Train kappa: 0.5836 \n",
      "Val loss: 0.9978 | Val precision: 0.5428 | Val recall: 0.5054 | Val f1score: 0.5151 | Val acc: 0.5347 | Val kappa: 0.5437 \n",
      "\n",
      "Epoch: 18 \n",
      "Learning rate: 3.758473409106955e-05\n",
      "Train loss: 1.0056 | Train precision: 0.5935 | Train recall: 0.5172 | Train f1score: 0.5345 | Train acc: 0.5228 | Train kappa: 0.5898 \n",
      "Val loss: 0.9969 | Val precision: 0.5541 | Val recall: 0.5069 | Val f1score: 0.5176 | Val acc: 0.5434 | Val kappa: 0.5457 \n",
      "\n",
      "Epoch: 19 \n",
      "Learning rate: 2.8188550568302163e-05\n",
      "Train loss: 1.0030 | Train precision: 0.6148 | Train recall: 0.5244 | Train f1score: 0.5434 | Train acc: 0.5267 | Train kappa: 0.5941 \n",
      "Val loss: 0.9975 | Val precision: 0.5413 | Val recall: 0.5048 | Val f1score: 0.5164 | Val acc: 0.5365 | Val kappa: 0.5435 \n",
      "\n",
      "Epoch: 20 \n",
      "Learning rate: 2.114141292622662e-05\n",
      "Train loss: 1.0119 | Train precision: 0.6075 | Train recall: 0.5254 | Train f1score: 0.5432 | Train acc: 0.5183 | Train kappa: 0.5808 \n",
      "Val loss: 0.9999 | Val precision: 0.5515 | Val recall: 0.4942 | Val f1score: 0.5141 | Val acc: 0.5356 | Val kappa: 0.5378 \n",
      "\n",
      "Epoch: 21 \n",
      "Learning rate: 1.5856059694669965e-05\n",
      "Train loss: 1.0050 | Train precision: 0.6161 | Train recall: 0.5334 | Train f1score: 0.5521 | Train acc: 0.5237 | Train kappa: 0.5913 \n",
      "Val loss: 0.9990 | Val precision: 0.5756 | Val recall: 0.5167 | Val f1score: 0.5388 | Val acc: 0.5417 | Val kappa: 0.5405 \n",
      "\n",
      "Epoch: 22 \n",
      "Learning rate: 1.1892044771002475e-05\n",
      "Train loss: 1.0073 | Train precision: 0.6090 | Train recall: 0.5285 | Train f1score: 0.5462 | Train acc: 0.5252 | Train kappa: 0.5951 \n",
      "Val loss: 0.9977 | Val precision: 0.5465 | Val recall: 0.4998 | Val f1score: 0.5173 | Val acc: 0.5330 | Val kappa: 0.5365 \n",
      "\n",
      "Epoch: 23 \n",
      "Learning rate: 8.919033578251857e-06\n",
      "Train loss: 0.9994 | Train precision: 0.6103 | Train recall: 0.5276 | Train f1score: 0.5475 | Train acc: 0.5258 | Train kappa: 0.5910 \n",
      "Val loss: 0.9982 | Val precision: 0.5518 | Val recall: 0.5124 | Val f1score: 0.5258 | Val acc: 0.5391 | Val kappa: 0.5504 \n",
      "\n",
      "Epoch: 24 \n",
      "Learning rate: 6.689275183688892e-06\n",
      "Train loss: 1.0067 | Train precision: 0.6092 | Train recall: 0.5281 | Train f1score: 0.5477 | Train acc: 0.5295 | Train kappa: 0.6007 \n",
      "Val loss: 0.9963 | Val precision: 0.5626 | Val recall: 0.5196 | Val f1score: 0.5350 | Val acc: 0.5399 | Val kappa: 0.5554 \n",
      "\n",
      "Epoch: 25 \n",
      "Learning rate: 5.016956387766669e-06\n",
      "Train loss: 1.0049 | Train precision: 0.6065 | Train recall: 0.5254 | Train f1score: 0.5437 | Train acc: 0.5230 | Train kappa: 0.5986 \n",
      "Val loss: 0.9975 | Val precision: 0.5603 | Val recall: 0.5186 | Val f1score: 0.5338 | Val acc: 0.5382 | Val kappa: 0.5547 \n",
      "\n",
      "Epoch: 26 \n",
      "Learning rate: 3.762717290825002e-06\n",
      "Train loss: 1.0051 | Train precision: 0.6080 | Train recall: 0.5303 | Train f1score: 0.5487 | Train acc: 0.5245 | Train kappa: 0.5970 \n",
      "Val loss: 0.9976 | Val precision: 0.5504 | Val recall: 0.5118 | Val f1score: 0.5253 | Val acc: 0.5373 | Val kappa: 0.5533 \n",
      "\n",
      "Epoch: 27 \n",
      "Learning rate: 2.8220379681187514e-06\n",
      "Train loss: 0.9984 | Train precision: 0.6043 | Train recall: 0.5302 | Train f1score: 0.5473 | Train acc: 0.5289 | Train kappa: 0.6102 \n",
      "Val loss: 0.9966 | Val precision: 0.5415 | Val recall: 0.5058 | Val f1score: 0.5177 | Val acc: 0.5382 | Val kappa: 0.5517 \n",
      "\n"
     ]
    },
    {
     "name": "stdout",
     "output_type": "stream",
     "text": [
      "Epoch: 28 \n",
      "Learning rate: 2.1165284760890633e-06\n",
      "Train loss: 1.0004 | Train precision: 0.6046 | Train recall: 0.5306 | Train f1score: 0.5480 | Train acc: 0.5304 | Train kappa: 0.5998 \n",
      "Val loss: 0.9969 | Val precision: 0.5589 | Val recall: 0.5195 | Val f1score: 0.5338 | Val acc: 0.5373 | Val kappa: 0.5556 \n",
      "\n",
      "Epoch: 29 \n",
      "Learning rate: 1.5873963570667977e-06\n",
      "Train loss: 1.0030 | Train precision: 0.6016 | Train recall: 0.5214 | Train f1score: 0.5391 | Train acc: 0.5238 | Train kappa: 0.5832 \n",
      "Val loss: 0.9973 | Val precision: 0.5409 | Val recall: 0.4951 | Val f1score: 0.5115 | Val acc: 0.5356 | Val kappa: 0.5398 \n",
      "\n",
      "Epoch: 30 \n",
      "Learning rate: 1.1905472678000981e-06\n",
      "Train loss: 1.0092 | Train precision: 0.5986 | Train recall: 0.5199 | Train f1score: 0.5385 | Train acc: 0.5233 | Train kappa: 0.5786 \n",
      "Val loss: 0.9973 | Val precision: 0.5412 | Val recall: 0.4967 | Val f1score: 0.5130 | Val acc: 0.5365 | Val kappa: 0.5434 \n",
      "\n",
      "Epoch: 31 \n",
      "Learning rate: 1e-06\n",
      "Train loss: 1.0130 | Train precision: 0.6302 | Train recall: 0.5264 | Train f1score: 0.5500 | Train acc: 0.5246 | Train kappa: 0.5802 \n",
      "Val loss: 0.9978 | Val precision: 0.5516 | Val recall: 0.5050 | Val f1score: 0.5215 | Val acc: 0.5356 | Val kappa: 0.5485 \n",
      "\n",
      "Epoch: 32 \n",
      "Learning rate: 1e-06\n",
      "Train loss: 1.0028 | Train precision: 0.6061 | Train recall: 0.5244 | Train f1score: 0.5441 | Train acc: 0.5226 | Train kappa: 0.5957 \n",
      "Val loss: 0.9963 | Val precision: 0.5396 | Val recall: 0.4946 | Val f1score: 0.5112 | Val acc: 0.5339 | Val kappa: 0.5402 \n",
      "\n",
      "Epoch: 33 \n",
      "Learning rate: 1e-06\n",
      "Train loss: 1.0040 | Train precision: 0.5926 | Train recall: 0.5176 | Train f1score: 0.5386 | Train acc: 0.5225 | Train kappa: 0.5917 \n",
      "Val loss: 0.9970 | Val precision: 0.5433 | Val recall: 0.5070 | Val f1score: 0.5187 | Val acc: 0.5399 | Val kappa: 0.5516 \n",
      "\n",
      "Epoch: 34 \n",
      "Learning rate: 1e-06\n",
      "Train loss: 1.0055 | Train precision: 0.5901 | Train recall: 0.5204 | Train f1score: 0.5331 | Train acc: 0.5178 | Train kappa: 0.5815 \n",
      "Val loss: 0.9971 | Val precision: 0.5427 | Val recall: 0.5052 | Val f1score: 0.5176 | Val acc: 0.5365 | Val kappa: 0.5520 \n",
      "\n",
      "Epoch: 35 \n",
      "Learning rate: 1e-06\n",
      "Train loss: 0.9886 | Train precision: 0.6219 | Train recall: 0.5345 | Train f1score: 0.5556 | Train acc: 0.5324 | Train kappa: 0.6097 \n",
      "Val loss: 0.9970 | Val precision: 0.5376 | Val recall: 0.4941 | Val f1score: 0.5100 | Val acc: 0.5321 | Val kappa: 0.5412 \n",
      "\n",
      "Epoch: 36 \n",
      "Learning rate: 1e-06\n",
      "Train loss: 0.9947 | Train precision: 0.6249 | Train recall: 0.5272 | Train f1score: 0.5509 | Train acc: 0.5309 | Train kappa: 0.6068 \n",
      "Val loss: 0.9973 | Val precision: 0.5472 | Val recall: 0.5027 | Val f1score: 0.5196 | Val acc: 0.5356 | Val kappa: 0.5451 \n",
      "\n",
      "Epoch: 37 \n",
      "Learning rate: 1e-06\n",
      "Train loss: 0.9962 | Train precision: 0.6093 | Train recall: 0.5280 | Train f1score: 0.5491 | Train acc: 0.5312 | Train kappa: 0.6101 \n",
      "Val loss: 0.9967 | Val precision: 0.5380 | Val recall: 0.5036 | Val f1score: 0.5152 | Val acc: 0.5330 | Val kappa: 0.5514 \n",
      "\n",
      "Epoch: 38 \n",
      "Learning rate: 1e-06\n",
      "Train loss: 1.0031 | Train precision: 0.5886 | Train recall: 0.5231 | Train f1score: 0.5363 | Train acc: 0.5254 | Train kappa: 0.5981 \n",
      "Val loss: 0.9979 | Val precision: 0.5359 | Val recall: 0.5027 | Val f1score: 0.5140 | Val acc: 0.5312 | Val kappa: 0.5492 \n",
      "\n",
      "Epoch: 39 \n",
      "Learning rate: 1e-06\n",
      "Train loss: 0.9984 | Train precision: 0.6107 | Train recall: 0.5304 | Train f1score: 0.5502 | Train acc: 0.5300 | Train kappa: 0.6049 \n",
      "Val loss: 0.9969 | Val precision: 0.5389 | Val recall: 0.5042 | Val f1score: 0.5157 | Val acc: 0.5347 | Val kappa: 0.5523 \n",
      "\n",
      "Epoch: 40 \n",
      "Learning rate: 1e-06\n",
      "Train loss: 1.0017 | Train precision: 0.6091 | Train recall: 0.5362 | Train f1score: 0.5545 | Train acc: 0.5387 | Train kappa: 0.5983 \n",
      "Val loss: 0.9969 | Val precision: 0.5362 | Val recall: 0.4931 | Val f1score: 0.5087 | Val acc: 0.5312 | Val kappa: 0.5366 \n",
      "\n",
      "Epoch: 41 \n",
      "Learning rate: 1e-06\n",
      "Train loss: 1.0018 | Train precision: 0.6126 | Train recall: 0.5259 | Train f1score: 0.5462 | Train acc: 0.5316 | Train kappa: 0.5939 \n",
      "Val loss: 0.9981 | Val precision: 0.5578 | Val recall: 0.5172 | Val f1score: 0.5315 | Val acc: 0.5321 | Val kappa: 0.5538 \n",
      "\n",
      "Epoch: 42 \n",
      "Learning rate: 1e-06\n",
      "Train loss: 1.0013 | Train precision: 0.6115 | Train recall: 0.5263 | Train f1score: 0.5487 | Train acc: 0.5321 | Train kappa: 0.6056 \n",
      "Val loss: 0.9980 | Val precision: 0.5403 | Val recall: 0.5048 | Val f1score: 0.5163 | Val acc: 0.5356 | Val kappa: 0.5492 \n",
      "\n",
      "Early stopping after epoch 42\n"
     ]
    },
    {
     "data": {
      "text/html": [
       "Waiting for W&B process to finish... <strong style=\"color:green\">(success).</strong>"
      ],
      "text/plain": [
       "<IPython.core.display.HTML object>"
      ]
     },
     "metadata": {},
     "output_type": "display_data"
    },
    {
     "data": {
      "application/vnd.jupyter.widget-view+json": {
       "model_id": "a99d7f8183e34dae82386532392a09ff",
       "version_major": 2,
       "version_minor": 0
      },
      "text/plain": [
       "VBox(children=(Label(value='0.001 MB of 0.018 MB uploaded (0.000 MB deduped)\\r'), FloatProgress(value=0.071293…"
      ]
     },
     "metadata": {},
     "output_type": "display_data"
    },
    {
     "data": {
      "text/html": [
       "<style>\n",
       "    table.wandb td:nth-child(1) { padding: 0 10px; text-align: left ; width: auto;} td:nth-child(2) {text-align: left ; width: 100%}\n",
       "    .wandb-row { display: flex; flex-direction: row; flex-wrap: wrap; justify-content: flex-start; width: 100% }\n",
       "    .wandb-col { display: flex; flex-direction: column; flex-basis: 100%; flex: 1; padding: 10px; }\n",
       "    </style>\n",
       "<div class=\"wandb-row\"><div class=\"wandb-col\"><h3>Run history:</h3><br/><table class=\"wandb\"><tr><td>learning_rate</td><td>█▆▅▄▃▃▂▂▂▂▁▁▁▁▁▁▁▁▁▁▁▁▁▁▁▁▁▁▁▁▁▁▁▁▁▁▁▁▁▁</td></tr><tr><td>train_f1_score</td><td>▁▃▄▅▆▆▇▇▇▇▇▇▇█▇██▇██████████████▇███▇███</td></tr><tr><td>train_loss</td><td>█▆▄▄▄▃▂▂▂▂▂▂▂▁▂▂▁▁▁▂▁▁▁▁▁▁▁▁▂▂▁▁▁▁▁▁▁▁▁▁</td></tr><tr><td>val_f1_score</td><td>▁▄▅▆▄▇▇▇▇▇▇▇█▇▇████████████▇██▇██▇████▇█</td></tr><tr><td>val_loss</td><td>█▃▄▄▅▂▁▁▂▁▁▁▁▁▂▁▁▁▁▁▁▁▁▁▁▁▁▁▁▁▁▁▁▁▁▁▁▁▁▁</td></tr></table><br/></div><div class=\"wandb-col\"><h3>Run summary:</h3><br/><table class=\"wandb\"><tr><td>learning_rate</td><td>0.0</td></tr><tr><td>train_f1_score</td><td>0.54874</td></tr><tr><td>train_loss</td><td>1.00133</td></tr><tr><td>val_f1_score</td><td>0.51627</td></tr><tr><td>val_loss</td><td>0.998</td></tr></table><br/></div></div>"
      ],
      "text/plain": [
       "<IPython.core.display.HTML object>"
      ]
     },
     "metadata": {},
     "output_type": "display_data"
    },
    {
     "data": {
      "text/html": [
       " View run <strong style=\"color:#cdcd00\">fold_5_RGB-RE-NIR_5classes</strong> at: <a href='https://wandb.ai/simon-ecke/wze-uav-5classes/runs/hi7a4kvk' target=\"_blank\">https://wandb.ai/simon-ecke/wze-uav-5classes/runs/hi7a4kvk</a><br/>Synced 5 W&B file(s), 0 media file(s), 0 artifact file(s) and 0 other file(s)"
      ],
      "text/plain": [
       "<IPython.core.display.HTML object>"
      ]
     },
     "metadata": {},
     "output_type": "display_data"
    },
    {
     "data": {
      "text/html": [
       "Find logs at: <code>.\\wandb\\run-20230429_224652-hi7a4kvk\\logs</code>"
      ],
      "text/plain": [
       "<IPython.core.display.HTML object>"
      ]
     },
     "metadata": {},
     "output_type": "display_data"
    },
    {
     "name": "stdout",
     "output_type": "stream",
     "text": [
      "Deleting variables and emptying cache\n",
      "Memory allocated: 1057334272 bytes\n",
      "--------------------------------------------------\n",
      "\n",
      "CPU times: total: 6h 25min 41s\n",
      "Wall time: 13h 42min 38s\n"
     ]
    }
   ],
   "source": [
    "%%time\n",
    "\n",
    "# Set the random seeds\n",
    "set_seeds(42)\n",
    "\n",
    "# Define the number of folds\n",
    "num_folds = 5\n",
    "\n",
    "# group the hashIDs to get the unique values of hashIDs remaining in the subset  \n",
    "groups = sub_hash_id[:, 0] \n",
    "print(\"ORIGINAL POSITIVE RATIO:\", sub_label_set.mean())\n",
    "# create a StratifiedGroupKFold instance\n",
    "kf = StratifiedGroupKFold(n_splits=num_folds, shuffle=True, random_state=42)\n",
    "\n",
    "# loop through the folds\n",
    "for fold, (train_ids, val_ids) in enumerate(kf.split(sub_image_set, sub_label_set, groups)):\n",
    "    print(\"Fold :\", fold+1)\n",
    "    print(\"TRAIN POSITIVE RATIO:\", sub_label_set[train_ids].mean())\n",
    "    print(\"VAL POSITIVE RATIO  :\", sub_label_set[val_ids].mean())\n",
    "    print(\"LENGTH TRAIN GROUPS :\", len(set(groups[train_ids])))\n",
    "    print(\"LENGTH VAL GROUPS   :\", len(set(groups[val_ids])))\n",
    "    \n",
    "    train_ids = sub_hash_id[:, 0][train_ids]\n",
    "    val_ids = np.unique(sub_hash_id[:, 0][val_ids])\n",
    "\n",
    "    torch.cuda.empty_cache()\n",
    "    \n",
    "    # Initialize a new wandb run for this fold\n",
    "    wandb.init(project='wze-uav-5classes', name=f\"fold_{fold + 1}_{extra}\")\n",
    "    \n",
    "    # 1. Split data into train and validation set\n",
    "    # Get the training and testing data for this fold\n",
    "    # Use np.isin() to create boolean arrays indicating which indices belong to train or test sets\n",
    "    train_indices = np.isin(sub_hash_id[:,0], train_ids)\n",
    "    \n",
    "    val_indices = np.zeros_like(train_indices)  # initialize to all False\n",
    "    for hash_id_val in val_ids:\n",
    "        # select one image ID randomly from either 2020 or 2021 or 2022 for each unique hash ID in the test set\n",
    "        temp = np.unique(sub_hash_id[(sub_hash_id[:, 0] == hash_id_val), 1]) # check how many years are available per hashID\n",
    "        if len(temp) == 1:\n",
    "            year = temp[0]\n",
    "        elif len(temp) == 2:\n",
    "            year = np.random.choice(temp)\n",
    "        else:\n",
    "            year = np.random.choice(temp)\n",
    "        \n",
    "        # select image ID using the conditions\n",
    "        image_ids = sub_hash_id[(sub_hash_id[:,0] == hash_id_val) & (sub_hash_id[:,1] == year), 0]\n",
    "    \n",
    "        # mark the index corresponding to the selected image ID and hash ID as True in the test indices array\n",
    "        val_indices[(sub_hash_id[:,0] == hash_id_val) & (sub_hash_id[:,1] == year) & (np.isin(sub_hash_id[:,0], image_ids))] = True \n",
    "    \n",
    "    # Reshape boolean arrays to match shape of image_set and label_set\n",
    "    train_indices = train_indices.reshape(-1, 1)\n",
    "    val_indices = val_indices.reshape(-1, 1)\n",
    "    \n",
    "    # Select images and labels for train and validation sets\n",
    "    train_image_set = sub_image_set[train_indices[:, 0]]\n",
    "    train_label_set = sub_label_set[train_indices[:, 0]]\n",
    "    train_hash_id = sub_hash_id[train_indices[:, 0]][:,0]\n",
    "    train_species_set = sub_species_set[train_indices[:, 0]]\n",
    "    val_image_set = sub_image_set[val_indices[:, 0]]\n",
    "    val_label_set = sub_label_set[val_indices[:, 0]]\n",
    "    val_hash_id = sub_hash_id[val_indices[:, 0]][:,0]\n",
    "    val_species_set = sub_species_set[val_indices[:, 0]]\n",
    "    # reshape \n",
    "    train_label_set = train_label_set.reshape(-1, 1)\n",
    "    val_label_set = val_label_set.reshape(-1, 1)\n",
    "    train_species_set = train_species_set.reshape(-1, 1)\n",
    "    val_species_set = val_species_set.reshape(-1, 1)\n",
    "    \n",
    "    # check if there are any group overlaps between the data splits\n",
    "    hash_set = set(train_hash_id)\n",
    "    val_hash_set = set(val_hash_id)\n",
    "    test_hash_set = set(test_hash_id[:, 0].flatten())\n",
    "    intersection = hash_set.intersection(val_hash_set)\n",
    "    intersection2 = test_hash_set.intersection(val_hash_set)\n",
    "    intersection3 = hash_set.intersection(test_hash_set)\n",
    "    if intersection:\n",
    "        print(f\"Hash_id values in both train and val sets: {len(intersection)}\")\n",
    "        print(f\"Hash_id values in both test and val sets: {len(intersection2)}\")\n",
    "        print(f\"Hash_id values in both train and test sets: {len(intersection3)}\")\n",
    "    else:\n",
    "        print(\"There are no same hash_id values in train, val or test datasets. The datasplit was successful\")\n",
    "    \n",
    "         \n",
    "    print(\"Check shapes:\\n\")\n",
    "    print(f\"Images train dataset: {train_image_set.shape}\")\n",
    "    print(f\"Labels train dataset: {train_label_set.shape}\\n\")\n",
    "    \n",
    "    print(f\"Images validation dataset: {val_image_set.shape}\")\n",
    "    print(f\"Labels validation dataset: {val_label_set.shape}\\n\")\n",
    "    print('-'*50)\n",
    "    print (f\"Check if the split was stratified: (random_state=42)\")\n",
    "    print(f\"Healthy trees in train dataset: {np.count_nonzero(train_label_set == 0)}\")\n",
    "    print(f\"Moderately stressed trees in train dataset: {np.count_nonzero(train_label_set == 1)}\")\n",
    "    print(f\"Severely stressed trees in train dataset: {np.count_nonzero(train_label_set == 2)}\")\n",
    "    print(f\"Dead trees in train dataset: {np.count_nonzero(train_label_set == 3)}\")\n",
    "    print(f\"Healthy trees in validation dataset: {np.count_nonzero(val_label_set == 0)}\")\n",
    "    print(f\"Moderately stressed trees in validation dataset: {np.count_nonzero(val_label_set == 1)}\")\n",
    "    print(f\"Severely stressed trees in validation dataset: {np.count_nonzero(val_label_set == 2)}\")\n",
    "    print(f\"Dead trees in validation dataset: {np.count_nonzero(val_label_set == 3)}\")\n",
    "    print(f\"Ratio health trees in validation dataset: {np.count_nonzero(val_label_set == 0)/np.count_nonzero(sub_label_set == 0)}\")\n",
    "    print(f\"Ratio moderately stressed trees in validation dataset: {np.count_nonzero(val_label_set == 1)/np.count_nonzero(sub_label_set == 1)}\")\n",
    "    print(f\"Ratio severely stressed trees in validation dataset: {np.count_nonzero(val_label_set == 1)/np.count_nonzero(sub_label_set == 2)}\")\n",
    "    print(f\"Ratio dead trees in validation dataset: {np.count_nonzero(val_label_set == 2)/np.count_nonzero(sub_label_set == 3)}\")\n",
    "    print(\"-\"*50)\n",
    "   \n",
    "    # 2. Create train and validation dataset. (choose custom dataset loader with 3 - 5 classes)\n",
    "    print(f\"\\nCreating datasets for fold: {fold + 1}\\n\")\n",
    "    train_dataset = data_loader.CustomDataset(data=train_image_set, labels=train_label_set, class_names=class_names, species = train_species_set,\n",
    "                                                         transform=transform_train)\n",
    "    \n",
    "    val_dataset = data_loader.CustomDataset(data=val_image_set, labels=val_label_set, class_names=class_names,\n",
    "                                                       species = val_species_set, transform=transform)\n",
    "   \n",
    "    # 3. Create train and validation dataloader\n",
    "    # create sampler for oversampling of the minority classes\n",
    "    sampler = data_loader.data_sampler(dataset=train_dataset, class_names=class_names)\n",
    "    print(f\"Creating dataloaders for fold: {fold +1}\\n\")\n",
    "    train_dataloader = DataLoader(train_dataset, batch_size=batch_size, persistent_workers=True, pin_memory=True, num_workers=NUM_WORKERS, generator=g,\n",
    "                              sampler=sampler, shuffle=False, drop_last=True) # shuffle false because of the sampler\n",
    "\n",
    "    val_dataloader = DataLoader(val_dataset, batch_size=batch_size, persistent_workers=True, pin_memory=True, num_workers=NUM_WORKERS, shuffle=False,\n",
    "                             drop_last=True)\n",
    "    \n",
    "    model = model_effnet.EfficientNet.from_pretrained('efficientnet-b7', in_channels=n_bands, num_classes=num_classes, dropout_rate=dropout_rate)\n",
    "    #model = models.create_effnetb7(output_shape=num_classes, unfreeze=True, dropout_rate=dropout_rate, device=device)\n",
    "   \n",
    "    loss_fn = nn.CrossEntropyLoss()\n",
    "    optimizer = torch.optim.Adam(params=model.parameters(), lr=lr)\n",
    "    lr_scheduler = CustomExponentialLR(optimizer, gamma=gamma, min_lr=min_lr)\n",
    "\n",
    "    fold += 1\n",
    "    print(f\"\\n[INFO] Fold number: {fold}\")\n",
    "    print(f\"[INFO] Number of epochs: {epochs}\")\n",
    "    print(f\"[INFO] Number of classes: {num_classes}\")\n",
    "    print(f\"[INFO] Batch_size: {batch_size}\")\n",
    "    print(f\"[INFO] Number of bands: {n_bands}\")\n",
    "    print(f\"[INFO] Dropout rate: {dropout_rate}\")\n",
    "    print(f\"[INFO] Gamma learning rate: {gamma}\")\n",
    "    print(f\"[INFO] Memory allocated: {torch.cuda.memory_allocated()} bytes\")\n",
    "    # 4. Train model with k fold dataloaders and track experiments\n",
    "    \n",
    "    if fold == 1:\n",
    "        fold1_results = train(model=model, model_name=model_name, n_bands=n_bands, batch_size=batch_size,train_dataloader=train_dataloader, val_dataloader=val_dataloader, \n",
    "                        optimizer=optimizer, loss_fn=loss_fn, lr_scheduler=lr_scheduler, num_classes=num_classes, epochs=epochs, experiment_num=fold, device=device,\n",
    "                        writer=None, early_stop_patience = patience)\n",
    "       \n",
    "    elif fold == 2:\n",
    "        fold2_results = train(model=model, model_name=model_name, n_bands=n_bands, batch_size=batch_size,train_dataloader=train_dataloader, val_dataloader=val_dataloader, \n",
    "                        optimizer=optimizer, loss_fn=loss_fn, lr_scheduler=lr_scheduler, num_classes=num_classes, epochs=epochs, experiment_num=fold, device=device,\n",
    "                        writer=None, early_stop_patience = patience)\n",
    "    elif fold == 3:\n",
    "        fold3_results = train(model=model, model_name=model_name, n_bands=n_bands, batch_size=batch_size,train_dataloader=train_dataloader, val_dataloader=val_dataloader, \n",
    "                        optimizer=optimizer, loss_fn=loss_fn, lr_scheduler=lr_scheduler, num_classes=num_classes, epochs=epochs, experiment_num=fold, device=device,\n",
    "                        writer=None, early_stop_patience = patience)\n",
    "    elif fold == 4:\n",
    "        fold4_results = train(model=model, model_name=model_name, n_bands=n_bands, batch_size=batch_size,train_dataloader=train_dataloader, val_dataloader=val_dataloader, \n",
    "                        optimizer=optimizer, loss_fn=loss_fn, lr_scheduler=lr_scheduler, num_classes=num_classes, epochs=epochs, experiment_num=fold, device=device,\n",
    "                        writer=None, early_stop_patience = patience)\n",
    "    else:\n",
    "        fold5_results = train(model=model, model_name=model_name, n_bands=n_bands, batch_size=batch_size,train_dataloader=train_dataloader, val_dataloader=val_dataloader, \n",
    "                        optimizer=optimizer, loss_fn=loss_fn, lr_scheduler=lr_scheduler, num_classes=num_classes, epochs=epochs, experiment_num=fold, device=device,\n",
    "                        writer=None, early_stop_patience = patience)\n",
    "    \n",
    "    del train_indices, val_indices, train_image_set, train_label_set, train_hash_id, train_species_set, val_image_set, val_label_set, val_hash_id, val_species_set,\n",
    "    train_dataset, val_dataset, sampler, train_dataloader, val_dataloader, model, loss_fn, optimizer, lr_scheduler\n",
    "    \n",
    "    #finish the wandb run\n",
    "    wandb.finish()\n",
    "    print(\"Deleting variables and emptying cache\")\n",
    "    gc.collect()\n",
    "    torch.cuda.empty_cache()\n",
    "    print(f\"Memory allocated: {torch.cuda.memory_allocated()} bytes\")\n",
    "    print(\"-\"*50 + \"\\n\")"
   ]
  },
  {
   "cell_type": "markdown",
   "id": "d7402d31",
   "metadata": {},
   "source": [
    "#### Create test dataset and test dataloader "
   ]
  },
  {
   "cell_type": "code",
   "execution_count": null,
   "id": "c0c36ebb",
   "metadata": {},
   "outputs": [],
   "source": [
    "# create test dataset\n",
    "test_dataset = data_loader.CustomTestDataset(\n",
    "    data = test_image_set,\n",
    "    labels = test_label_set,\n",
    "    class_names=class_names, \n",
    "    species = test_species_set,\n",
    "    kkl = None,\n",
    "    transform=transform\n",
    ")\n",
    "\n"
   ]
  },
  {
   "cell_type": "code",
   "execution_count": null,
   "id": "5745d555",
   "metadata": {},
   "outputs": [],
   "source": [
    "# create test dataloader\n",
    "test_dataloader = DataLoader(test_dataset,\n",
    "                             batch_size=batch_size,\n",
    "                             persistent_workers=True,\n",
    "                             pin_memory=True,\n",
    "                             num_workers=NUM_WORKERS,\n",
    "                             shuffle=False,\n",
    "                             drop_last=True)"
   ]
  },
  {
   "cell_type": "markdown",
   "id": "22cdaac7",
   "metadata": {},
   "source": [
    "#### Perform ensembling of the five best models"
   ]
  },
  {
   "cell_type": "code",
   "execution_count": null,
   "id": "67db5af2",
   "metadata": {},
   "outputs": [],
   "source": [
    "# Setup the best model filepaths\n",
    "best_model1_path = r\"C:\\Users\\lwfeckesim\\01_PyTorch\\wze-uav\\wze-uav-master\\effnet_b0\\01_18_epochs.pth\"\n",
    "best_model2_path = r\"C:\\Users\\lwfeckesim\\01_PyTorch\\wze-uav\\wze-uav-master\\effnet_b0\\01_18_epochs.pth\"\n",
    "best_model3_path = r\"C:\\Users\\lwfeckesim\\01_PyTorch\\wze-uav\\wze-uav-master\\effnet_b0\\01_18_epochs.pth\"\n",
    "best_model4_path = r\"C:\\Users\\lwfeckesim\\01_PyTorch\\wze-uav\\wze-uav-master\\effnet_b0\\01_18_epochs.pth\"\n",
    "best_model5_path = r\"C:\\Users\\lwfeckesim\\01_PyTorch\\wze-uav\\wze-uav-master\\effnet_b0\\01_18_epochs.pth\"\n",
    "\n",
    "# Instantiate a new instance of EffNetB7 (to load the saved state_dict() to)\n",
    "model1 = models.create_effnetb7(output_shape=num_classes, unfreeze=unfreeze, dropout_rate=dropout_rate, device=device)\n",
    "model2 = models.create_effnetb7(output_shape=num_classes, unfreeze=unfreeze, dropout_rate=dropout_rate, device=device)\n",
    "model3 = models.create_effnetb7(output_shape=num_classes, unfreeze=unfreeze, dropout_rate=dropout_rate, device=device)\n",
    "model4 = models.create_effnetb7(output_shape=num_classes, unfreeze=unfreeze, dropout_rate=dropout_rate, device=device)\n",
    "model5 = models.create_effnetb7(output_shape=num_classes, unfreeze=unfreeze, dropout_rate=dropout_rate, device=device)\n",
    "# for custom models with more than three bands as input\n",
    "#model1 = model_effnet.EfficientNet.from_pretrained('efficientnet-b7', in_channels=n_bands, num_classes=num_classes, dropout_rate=dropout_rate)\n",
    "#model2 = model_effnet.EfficientNet.from_pretrained('efficientnet-b7', in_channels=n_bands, num_classes=num_classes, dropout_rate=dropout_rate)\n",
    "#model3 = model_effnet.EfficientNet.from_pretrained('efficientnet-b7', in_channels=n_bands, num_classes=num_classes, dropout_rate=dropout_rate)\n",
    "#model4 = model_effnet.EfficientNet.from_pretrained('efficientnet-b7', in_channels=n_bands, num_classes=num_classes, dropout_rate=dropout_rate)\n",
    "#model5 = model_effnet.EfficientNet.from_pretrained('efficientnet-b7', in_channels=n_bands, num_classes=num_classes, dropout_rate=dropout_rate)\n",
    "\n",
    "# Load the saved best model state_dict()\n",
    "model1.load_state_dict(torch.load(best_model1_path))\n",
    "model2.load_state_dict(torch.load(best_model2_path))\n",
    "model3.load_state_dict(torch.load(best_model3_path))\n",
    "model4.load_state_dict(torch.load(best_model4_path))\n",
    "model5.load_state_dict(torch.load(best_model5_path))\n",
    "\n",
    "model1.eval()\n",
    "model2.eval()\n",
    "model3.eval()\n",
    "model4.eval()\n",
    "model5.eval()\n",
    "\n",
    "# Initialize the lists to store the predictions\n",
    "all_preds_model1 = []\n",
    "all_preds_model2 = []\n",
    "all_preds_model3 = []\n",
    "all_preds_model4 = []\n",
    "all_preds_model5 = []\n",
    "\n",
    "# Loop through the test dataset and generate predictions for each model\n",
    "with torch.no_grad():\n",
    "    for batch in test_dataloader:\n",
    "        inputs, labels = batch\n",
    "        inputs, labels = inputs.to(device), labels.to(device)\n",
    "        \n",
    "        # Generate predictions for each model\n",
    "        preds_model1 = model1(inputs)\n",
    "        preds_model2 = model2(inputs)\n",
    "        preds_model3 = model3(inputs)\n",
    "        preds_model4 = model4(inputs)\n",
    "        preds_model5 = model5(inputs)\n",
    "\n",
    "        # Append the predictions to the corresponding list\n",
    "        all_preds_model1.append(preds_model1.cpu().numpy())\n",
    "        all_preds_model2.append(preds_model2.cpu().numpy())\n",
    "        all_preds_model3.append(preds_model3.cpu().numpy())\n",
    "        all_preds_model4.append(preds_model4.cpu().numpy())\n",
    "        all_preds_model5.append(preds_model5.cpu().numpy())\n",
    "\n",
    "# Concatenate the predictions from all the models\n",
    "all_preds_model1 = np.concatenate(all_preds_model1)\n",
    "all_preds_model2 = np.concatenate(all_preds_model2)\n",
    "all_preds_model3 = np.concatenate(all_preds_model3)\n",
    "all_preds_model4 = np.concatenate(all_preds_model4)\n",
    "all_preds_model5 = np.concatenate(all_preds_model5)\n",
    "\n",
    "# Calculate the ensemble predictions\n",
    "ensemble_preds = np.mean([all_preds_model1, all_preds_model2, all_preds_model3, all_preds_model4, all_preds_model5], axis=0)\n",
    "ensemble_labels = np.argmax(ensemble_preds, axis=1)\n",
    "\n",
    "# Calculate the evaluation metrics for the ensemble model\n",
    "from sklearn.metrics import classification_report, confusion_matrix\n",
    "\n",
    "print(classification_report(test_labels, ensemble_labels))\n",
    "print(confusion_matrix(test_labels, ensemble_labels))\n",
    "\n",
    "\n",
    "\n",
    "\n"
   ]
  },
  {
   "cell_type": "code",
   "execution_count": null,
   "id": "6dfbc663",
   "metadata": {},
   "outputs": [],
   "source": [
    "def make_predictions(model: torch.nn.Module, \n",
    "                     test_dataloader: torch.utils.data.DataLoader,\n",
    "                     device: torch.device):\n",
    "    # 1. Make predictions with trained model\n",
    "    y_preds = []\n",
    "    y_labels = []\n",
    "    species_list = []\n",
    "    test_loss, test_precision, test_recall, test_f1_score, test_acc = 0, 0, 0, 0, 0\n",
    "    count = 0\n",
    "    model.eval()\n",
    "    with torch.inference_mode():\n",
    "        for X, y, species in tqdm(test_dataloader, desc=\"Making predictions\"):\n",
    "            # Send data and targets to target device\n",
    "            X, y = X.to(device), y.to(device)\n",
    "            # Do the forward pass\n",
    "            y_logit = model(X)\n",
    "            # Turn predictions from logits -> prediction probabilities -> predictions labels\n",
    "            y_pred = torch.softmax(y_logit, dim=1).argmax(dim=1)\n",
    "            # Put predictions on CPU for evaluation\n",
    "            y_preds.append(y_pred.cpu())\n",
    "            y_labels.append(y.cpu())\n",
    "            species_list.append(species)\n",
    "            \n",
    "            #other metrics\n",
    "            test_acc += ((y_pred == y).sum().item()/len(y_pred))\n",
    "            y_pred_class = y_pred.detach().cpu().numpy() \n",
    "            y_class = y.detach().cpu().numpy()\n",
    "            labels = np.array([0])\n",
    "            test_precision += precision_score(y_class, y_pred_class, average='macro', zero_division=0, labels=[0,1,2])\n",
    "            test_recall += recall_score(y_class, y_pred_class, average='macro', zero_division=0, labels=[0,1,2])\n",
    "            #test_f1_score += f1_score(y_class, y_pred_class, average='macro', zero_division=1, labels=labels)\n",
    "            \n",
    "            #if count >= 1:\n",
    "            #    y_set = torch.cat((y_set, y))\n",
    "            #    count = count + 1\n",
    "            #else:\n",
    "            #    y_set = y\n",
    "            #    count = count + 1\n",
    "            \n",
    "    test_loss = test_loss / len(test_dataloader)\n",
    "    test_precision = test_precision / len(test_dataloader)\n",
    "    test_recall = test_recall / len(test_dataloader)\n",
    "    test_f1_score = test_f1_score / len(test_dataloader)\n",
    "    #test_kappa = test_kappa / len(dataloader)\n",
    "    test_acc = test_acc / len(test_dataloader)\n",
    "    # Concatenate list of predictions into a tensor\n",
    "    y_pred_tensor = torch.cat(y_preds)\n",
    "    y_labels_tensor = torch.cat(y_labels)\n",
    "    test_f1_score = f1_score(y_labels_tensor.detach().cpu().numpy(), y_pred_tensor.cpu().numpy(), average='macro', zero_division=1, labels=[0,1,2])\n",
    "    \n",
    "    # Print classification report\n",
    "    y_true = y_labels_tensor.detach().cpu().numpy()\n",
    "    report = classification_report(y_true, y_pred_tensor.cpu().numpy(), target_names=class_names)\n",
    "    print(report)\n",
    "    \n",
    "    return y_pred_tensor, y_labels_tensor, test_loss, test_recall, test_precision, test_f1_score, test_acc, y_logit, y_pred, y, y_preds"
   ]
  },
  {
   "cell_type": "code",
   "execution_count": null,
   "id": "aab9e321",
   "metadata": {},
   "outputs": [],
   "source": [
    "# 2. Setup confusion matrix instance and compare predictions to targets\n",
    "#from wze_uav.analysis import *\n",
    "y_pred_tensor, y_labels_tensor, test_loss, test_recall, test_precision, test_f1_score, test_acc, y_logit, y_pred, y, y_preds = make_predictions(model=best_model,\n",
    "                                 test_dataloader=test_dataloader, \n",
    "                                 device=device)\n",
    "\n",
    "y_labels_tensor = y_labels_tensor.detach().cpu().numpy()\n",
    "y_pred_tensor = y_pred_tensor.detach().cpu().numpy()\n",
    "\n",
    "#confmat = ConfusionMatrix(num_classes=num_classes, task='multiclass')\n",
    "#confmat_tensor = confmat(preds=y_pred_tensor,\n",
    "#                         target=test_labels)\n",
    "labels = np.array([0,1,2])\n",
    "confmat = confusion_matrix(y_labels_tensor, y_pred_tensor, labels=labels)\n",
    "\n",
    "# 3. Plot the confusion matrix\n",
    "fig, ax = plot_confusion_matrix(\n",
    "    conf_mat=confmat, # matplotlib likes working with NumPy \n",
    "    class_names=class_names, # turn the row and column labels into class names\n",
    "    figsize=(10, 7)\n",
    ");\n",
    "\n",
    "print(f\"Test loss: {test_loss}\")\n",
    "print(f\"Test precision: {test_precision}\")\n",
    "print(f\"Test recall: {test_recall}\")\n",
    "print(f\"Test F1score: {test_f1_score}\")\n",
    "#print(f\"Test Kappa: {test_kappa}\")\n",
    "print(f\"Test Accuracy: {test_acc}\")\n",
    "print(f\"Test Logits: {y_logit}\")\n",
    "print(f\"Test Predictions: {y_pred}\")\n",
    "print(f\"Test Labels: {y}\")"
   ]
  },
  {
   "cell_type": "code",
   "execution_count": null,
   "id": "8d4173b3",
   "metadata": {},
   "outputs": [],
   "source": [
    "len(y_preds)"
   ]
  },
  {
   "cell_type": "code",
   "execution_count": null,
   "id": "7588116f",
   "metadata": {},
   "outputs": [],
   "source": [
    "y_set.cpu()"
   ]
  },
  {
   "cell_type": "code",
   "execution_count": null,
   "id": "1c195b3e",
   "metadata": {},
   "outputs": [],
   "source": [
    "test_dataset.labels"
   ]
  },
  {
   "cell_type": "code",
   "execution_count": null,
   "id": "975ec08c",
   "metadata": {},
   "outputs": [],
   "source": []
  },
  {
   "cell_type": "code",
   "execution_count": null,
   "id": "6da05604",
   "metadata": {},
   "outputs": [],
   "source": [
    "y_preds = []\n",
    "y_labels = []\n",
    "labels = np.array([0,1,2])\n",
    "test_loss, test_precision, test_recall, test_f1_score, test_acc = 0, 0, 0, 0, 0\n",
    "count = 0\n",
    "model.eval()\n",
    "with torch.inference_mode():\n",
    "    for X, y in tqdm(test_dataloader, desc=\"Making predictions\"):\n",
    "        # Send data and targets to target device\n",
    "        X, y = X.to(device), y.to(device)\n",
    "        # Do the forward pass\n",
    "        y_logit = model(X)\n",
    "        # Turn predictions from logits -> prediction probabilities -> predictions labels\n",
    "        y_pred = torch.softmax(y_logit, dim=1).argmax(dim=1)\n",
    "        # Put predictions on CPU for evaluation\n",
    "        y_preds.append(y_pred.cpu())\n",
    "        y_labels.append(y.cpu())\n",
    "        \n",
    "        #other metrics\n",
    "        test_acc += ((y_pred == y).sum().item()/len(y_pred))\n",
    "        y_pred_class = y_pred.detach().cpu().numpy() \n",
    "        y_class = y.detach().cpu().numpy()\n",
    "        test_precision += precision_score(y_class, y_pred_class, average='macro', zero_division=1, labels=labels)\n",
    "        test_recall += recall_score(y_class, y_pred_class, average='macro', zero_division=1, labels=labels)\n",
    "        #test_f1_score += f1_score(y_class, y_pred_class, average='macro', zero_division=1, labels=labels)\n",
    "        \n",
    "        #if count >= 1:\n",
    "        #    y_set = torch.cat((y_set, y))\n",
    "        #    count = count + 1\n",
    "        #else:\n",
    "        #    y_set = y\n",
    "        #    count = count + 1\n",
    "        \n",
    "test_loss = test_loss / len(test_dataloader)\n",
    "test_precision = test_precision / len(test_dataloader)\n",
    "test_recall = test_recall / len(test_dataloader)\n",
    "#test_f1_score = test_f1_score / len(test_dataloader)\n",
    "#test_kappa = test_kappa / len(dataloader)\n",
    "test_acc = test_acc / len(test_dataloader)\n",
    "# Concatenate list of predictions into a tensor\n",
    "y_pred_tensor = torch.cat(y_preds)\n",
    "test_f1_score = f1_score(y_set.detach().cpu().numpy(), y_pred_tensor.cpu().numpy(), average='macro', zero_division=0, labels=[0,1,2])\n",
    "\n",
    "# Print classification report\n",
    "y_true = y_set.detach().cpu().numpy()\n",
    "report = classification_report(y_true, y_pred_tensor.cpu().numpy(), target_names=class_names)\n",
    "print(report)"
   ]
  },
  {
   "cell_type": "code",
   "execution_count": null,
   "id": "6ae97fab",
   "metadata": {},
   "outputs": [],
   "source": [
    "test_f1_score"
   ]
  },
  {
   "cell_type": "code",
   "execution_count": null,
   "id": "7ebafd9b",
   "metadata": {},
   "outputs": [],
   "source": [
    "make = (y_class == y_pred_class)\n",
    "make"
   ]
  },
  {
   "cell_type": "code",
   "execution_count": null,
   "id": "4f8aa759",
   "metadata": {},
   "outputs": [],
   "source": [
    "torch.softmax(y_logit, dim=1).argmax(dim=1)"
   ]
  },
  {
   "cell_type": "code",
   "execution_count": null,
   "id": "f90a54b2",
   "metadata": {},
   "outputs": [],
   "source": [
    "y"
   ]
  },
  {
   "cell_type": "code",
   "execution_count": null,
   "id": "5a806154",
   "metadata": {},
   "outputs": [],
   "source": [
    "test = (y_pred == y).sum().item()/16"
   ]
  },
  {
   "cell_type": "code",
   "execution_count": null,
   "id": "1da35c56",
   "metadata": {},
   "outputs": [],
   "source": [
    "test"
   ]
  },
  {
   "cell_type": "code",
   "execution_count": null,
   "id": "b1eb246e",
   "metadata": {},
   "outputs": [],
   "source": [
    " y_pred_class = y_pred.detach().cpu().numpy() "
   ]
  },
  {
   "cell_type": "code",
   "execution_count": null,
   "id": "602e096f",
   "metadata": {},
   "outputs": [],
   "source": [
    "y_pred_class"
   ]
  },
  {
   "cell_type": "code",
   "execution_count": null,
   "id": "eaf1af09",
   "metadata": {},
   "outputs": [],
   "source": []
  }
 ],
 "metadata": {
  "kernelspec": {
   "display_name": "Python 3 (ipykernel)",
   "language": "python",
   "name": "python3"
  },
  "language_info": {
   "codemirror_mode": {
    "name": "ipython",
    "version": 3
   },
   "file_extension": ".py",
   "mimetype": "text/x-python",
   "name": "python",
   "nbconvert_exporter": "python",
   "pygments_lexer": "ipython3",
   "version": "3.9.16"
  }
 },
 "nbformat": 4,
 "nbformat_minor": 5
}
