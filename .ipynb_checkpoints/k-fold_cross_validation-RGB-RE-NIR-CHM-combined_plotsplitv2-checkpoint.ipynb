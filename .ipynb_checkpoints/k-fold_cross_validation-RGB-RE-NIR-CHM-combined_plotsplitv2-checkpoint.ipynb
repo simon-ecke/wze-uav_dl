{
 "cells": [
  {
   "cell_type": "markdown",
   "id": "c1acdaa3",
   "metadata": {},
   "source": [
    "# WZE-UAV Image Classification using Deep Learning"
   ]
  },
  {
   "cell_type": "code",
   "execution_count": 1,
   "id": "2159aac5",
   "metadata": {},
   "outputs": [],
   "source": [
    "import os\n",
    "import gc\n",
    "import glob\n",
    "import numpy as np\n",
    "from pathlib import Path\n",
    "from tqdm.auto import tqdm\n",
    "from sklearn.metrics import confusion_matrix, classification_report\n",
    "from sklearn.model_selection import KFold"
   ]
  },
  {
   "cell_type": "code",
   "execution_count": 2,
   "id": "0026f7a9",
   "metadata": {},
   "outputs": [],
   "source": [
    "import torch\n",
    "import torchvision.transforms as T\n",
    "import torchvision\n",
    "from torch import nn\n",
    "from torch.utils.data import DataLoader\n",
    "from torchvision import datasets, transforms\n",
    "from torch.utils.data import Dataset\n",
    "import torch.optim as optim\n",
    "from torch.optim.lr_scheduler import ExponentialLR\n",
    "from mlxtend.plotting import plot_confusion_matrix"
   ]
  },
  {
   "cell_type": "code",
   "execution_count": 3,
   "id": "b160d7b4",
   "metadata": {},
   "outputs": [],
   "source": [
    "import wze_uav.data_loader as data_loader\n",
    "import wze_uav.models as models\n",
    "from wze_uav.engine import *\n",
    "from wze_uav.utils2 import *\n",
    "#from wze_uav.log_writer import create_writer\n",
    "from wze_uav.datasplit import *\n",
    "from efficientnet import model_effnet #for custom effnet with n_channels input\n",
    "import wandb"
   ]
  },
  {
   "cell_type": "markdown",
   "id": "2bd4fb2f",
   "metadata": {},
   "source": [
    "#### Get PyTorch version"
   ]
  },
  {
   "cell_type": "code",
   "execution_count": 4,
   "id": "c10886b1",
   "metadata": {},
   "outputs": [
    {
     "name": "stdout",
     "output_type": "stream",
     "text": [
      "torch version: 1.13.1+cu116\n",
      "torchvision version: 0.14.1+cu116\n"
     ]
    }
   ],
   "source": [
    "print(f\"torch version: {torch.__version__}\")\n",
    "print(f\"torchvision version: {torchvision.__version__}\")"
   ]
  },
  {
   "cell_type": "markdown",
   "id": "aa6a83cf",
   "metadata": {},
   "source": [
    "#### Preparing device agnostic code "
   ]
  },
  {
   "cell_type": "code",
   "execution_count": 5,
   "id": "13d5de88",
   "metadata": {},
   "outputs": [
    {
     "name": "stdout",
     "output_type": "stream",
     "text": [
      "cuda\n",
      "Index of current divice: 0\n",
      "Number of GPUs available: 1\n",
      "GPU Model: Quadro RTX 8000\n"
     ]
    }
   ],
   "source": [
    "# ensure device agnostic code\n",
    "device = 'cuda' if torch.cuda.is_available() else 'cpu'\n",
    "print(device)\n",
    "\n",
    "# get index of currently selected device\n",
    "print(f\"Index of current divice: {torch.cuda.current_device()}\")\n",
    "# get number of GPUs available\n",
    "print(f\"Number of GPUs available: {torch.cuda.device_count()}\")\n",
    "# get the name of the device\n",
    "print(f\"GPU Model: {torch.cuda.get_device_name(0)}\")"
   ]
  },
  {
   "cell_type": "markdown",
   "id": "8ef6b169",
   "metadata": {},
   "source": [
    "#### Login to Weights & Biases to track results"
   ]
  },
  {
   "cell_type": "code",
   "execution_count": 6,
   "id": "a59d27cf",
   "metadata": {},
   "outputs": [
    {
     "name": "stderr",
     "output_type": "stream",
     "text": [
      "Failed to detect the name of this notebook, you can set it manually with the WANDB_NOTEBOOK_NAME environment variable to enable code saving.\n",
      "\u001b[34m\u001b[1mwandb\u001b[0m: Currently logged in as: \u001b[33msimon-ecke\u001b[0m. Use \u001b[1m`wandb login --relogin`\u001b[0m to force relogin\n"
     ]
    },
    {
     "data": {
      "text/html": [
       "wandb version 0.15.2 is available!  To upgrade, please run:\n",
       " $ pip install wandb --upgrade"
      ],
      "text/plain": [
       "<IPython.core.display.HTML object>"
      ]
     },
     "metadata": {},
     "output_type": "display_data"
    },
    {
     "data": {
      "text/html": [
       "Tracking run with wandb version 0.14.2"
      ],
      "text/plain": [
       "<IPython.core.display.HTML object>"
      ]
     },
     "metadata": {},
     "output_type": "display_data"
    },
    {
     "data": {
      "text/html": [
       "Run data is saved locally in <code>C:\\Users\\lwfeckesim\\01_PyTorch\\wze-uav\\wze-uav-master\\wandb\\run-20230517_143700-4mfecb7r</code>"
      ],
      "text/plain": [
       "<IPython.core.display.HTML object>"
      ]
     },
     "metadata": {},
     "output_type": "display_data"
    },
    {
     "data": {
      "text/html": [
       "Syncing run <strong><a href='https://wandb.ai/simon-ecke/wze-uav-combined_v2/runs/4mfecb7r' target=\"_blank\">astral-capybara-22</a></strong> to <a href='https://wandb.ai/simon-ecke/wze-uav-combined_v2' target=\"_blank\">Weights & Biases</a> (<a href='https://wandb.me/run' target=\"_blank\">docs</a>)<br/>"
      ],
      "text/plain": [
       "<IPython.core.display.HTML object>"
      ]
     },
     "metadata": {},
     "output_type": "display_data"
    },
    {
     "data": {
      "text/html": [
       " View project at <a href='https://wandb.ai/simon-ecke/wze-uav-combined_v2' target=\"_blank\">https://wandb.ai/simon-ecke/wze-uav-combined_v2</a>"
      ],
      "text/plain": [
       "<IPython.core.display.HTML object>"
      ]
     },
     "metadata": {},
     "output_type": "display_data"
    },
    {
     "data": {
      "text/html": [
       " View run at <a href='https://wandb.ai/simon-ecke/wze-uav-combined_v2/runs/4mfecb7r' target=\"_blank\">https://wandb.ai/simon-ecke/wze-uav-combined_v2/runs/4mfecb7r</a>"
      ],
      "text/plain": [
       "<IPython.core.display.HTML object>"
      ]
     },
     "metadata": {},
     "output_type": "display_data"
    },
    {
     "data": {
      "text/html": [
       "<button onClick=\"this.nextSibling.style.display='block';this.style.display='none';\">Display W&B run</button><iframe src='https://wandb.ai/simon-ecke/wze-uav-combined_v2/runs/4mfecb7r?jupyter=true' style='border:none;width:100%;height:420px;display:none;'></iframe>"
      ],
      "text/plain": [
       "<wandb.sdk.wandb_run.Run at 0x1acba6ae6a0>"
      ]
     },
     "execution_count": 6,
     "metadata": {},
     "output_type": "execute_result"
    }
   ],
   "source": [
    "# IMPORTANT: The proxy needs to be set in anaconda!\n",
    "# copy paste this in anaconda and restart jupyter notebook\n",
    "#set http_proxy=http://www-proxy.bayern.de:80\n",
    "#set https_proxy=http://www-proxy.bayern.de:80\n",
    "wandb.login()\n",
    "#wandb.init(settings=wandb.Settings(start_method=\"thread\"))\n",
    "wandb.init(project='wze-uav-combined_v2', entity='simon-ecke')"
   ]
  },
  {
   "cell_type": "markdown",
   "id": "a26a6a34",
   "metadata": {},
   "source": [
    "#### Ensure reproducibility "
   ]
  },
  {
   "cell_type": "code",
   "execution_count": 7,
   "id": "dd4656a7",
   "metadata": {},
   "outputs": [],
   "source": [
    "# for more information, see also: https://pytorch.org/docs/stable/notes/randomness.html\n",
    "\n",
    "# Set seeds\n",
    "def set_seeds(seed: int=42):\n",
    "    \"\"\"Sets random sets for torch operations.\n",
    "\n",
    "    Args:\n",
    "        seed (int, optional): Random seed to set. Defaults to 42.\n",
    "    \"\"\"\n",
    "    # Set the seed for general torch operations\n",
    "    torch.manual_seed(seed)\n",
    "    # Set the seed for CUDA torch operations (ones that happen on the GPU)\n",
    "    torch.cuda.manual_seed(seed)\n",
    "    # seed for numpy\n",
    "    np.random.seed(seed)\n",
    "\n",
    "set_seeds(42) \n",
    "\n",
    "# Set to true -> might speed up the process but should be set to False if reproducible results are desired\n",
    "torch.backends.cudnn.benchmark = False\n"
   ]
  },
  {
   "cell_type": "markdown",
   "id": "8be33671",
   "metadata": {},
   "source": [
    "#### Define file directory"
   ]
  },
  {
   "cell_type": "code",
   "execution_count": 8,
   "id": "30645f36",
   "metadata": {},
   "outputs": [],
   "source": [
    "#####################################################################################\n",
    "# 3 channel input (r-g-b)\n",
    "#data_path = r\"D:\\Drohnendaten\\10_WZE-UAV\\Auswertung_findatree\\Datasplit\\ROI\\rgb\"\n",
    "\n",
    "# 4 channel input (r-g-b-nir)\n",
    "\n",
    "#data_path = r\"D:\\Drohnendaten\\10_WZE-UAV\\Auswertung_findatree\\Datasplit\\ROI\\rgb-nir\"\n",
    "\n",
    "# 5 channel input (r-g-b-re-nir)\n",
    "data_path = r\"D:\\Drohnendaten\\10_WZE-UAV\\Auswertung_findatree\\Datasplit\\ROI\\rgb-re-nir\"\n",
    "\n",
    "# 6 channel input (r-g-b-re-nir)\n",
    "#data_path = r\"D:\\Drohnendaten\\10_WZE-UAV\\Auswertung_findatree\\Datasplit\\ROI\\rgb-re-nir-chm\"\n",
    "\n",
    "#####################################################################################"
   ]
  },
  {
   "cell_type": "markdown",
   "id": "4560ce64",
   "metadata": {},
   "source": [
    "#### Get all file paths, years and plotIDs"
   ]
  },
  {
   "cell_type": "code",
   "execution_count": 9,
   "id": "aa072e4c",
   "metadata": {},
   "outputs": [],
   "source": [
    "fn_list = os.listdir(data_path)\n",
    "path_list = []\n",
    "# Iterate over all datafiles\n",
    "for year in fn_list:\n",
    "    year_dir = f'{data_path}\\\\{year}'\n",
    "    for filename in os.listdir(year_dir):\n",
    "        path = f'{year_dir}\\\\{filename}'\n",
    "        #plotID = path.rsplit('_',1)[0].rsplit('r',1)[1]\n",
    "        path_list.append(path)\n",
    "        #year_list.append(year)\n",
    "        #plotID_list.append(plotID)"
   ]
  },
  {
   "cell_type": "markdown",
   "id": "f3937a44",
   "metadata": {},
   "source": [
    "#### Get unique plotIDs and years per available trees"
   ]
  },
  {
   "cell_type": "code",
   "execution_count": 10,
   "id": "8a50f1d7",
   "metadata": {},
   "outputs": [
    {
     "data": {
      "application/vnd.jupyter.widget-view+json": {
       "model_id": "e7449ceefed740d5bb212278a5b525d4",
       "version_major": 2,
       "version_minor": 0
      },
      "text/plain": [
       "Creating unique tree IDs...:   0%|          | 0/647 [00:00<?, ?it/s]"
      ]
     },
     "metadata": {},
     "output_type": "display_data"
    }
   ],
   "source": [
    "plotID_dict = data_loader.get_plotID(path_list)"
   ]
  },
  {
   "cell_type": "markdown",
   "id": "6f4cea00",
   "metadata": {},
   "source": [
    "#### Import all imagery, labels and other features from hdf5 files"
   ]
  },
  {
   "cell_type": "code",
   "execution_count": 11,
   "id": "94e3eecf",
   "metadata": {},
   "outputs": [
    {
     "data": {
      "application/vnd.jupyter.widget-view+json": {
       "model_id": "f94d6526b13e42c7aeb2f1e4a03c490a",
       "version_major": 2,
       "version_minor": 0
      },
      "text/plain": [
       "Processing hdf5 datasets:   0%|          | 0/647 [00:00<?, ?it/s]"
      ]
     },
     "metadata": {},
     "output_type": "display_data"
    }
   ],
   "source": [
    "image_set, label_set, species_set, kkl_set, bk_set, hash_id = data_loader.hdf5_to_img_label_5species(path_list,\n",
    "                                                                                               plotID_dict,\n",
    "                                                                                               load_sets=[\"images_masked\"])"
   ]
  },
  {
   "cell_type": "markdown",
   "id": "6a90e2b7",
   "metadata": {},
   "source": [
    "#### Convert nbv to classes"
   ]
  },
  {
   "cell_type": "code",
   "execution_count": 12,
   "id": "0224972a",
   "metadata": {},
   "outputs": [],
   "source": [
    "nbv_set = label_set\n",
    "label_set = combined_to_classes(species_set, nbv_set)"
   ]
  },
  {
   "cell_type": "markdown",
   "id": "c6b4cd85",
   "metadata": {},
   "source": [
    "#### Split data into subset (used for training and validation in the 5-fold cross-validation) and test set"
   ]
  },
  {
   "cell_type": "code",
   "execution_count": 13,
   "id": "d06eda54",
   "metadata": {},
   "outputs": [
    {
     "name": "stdout",
     "output_type": "stream",
     "text": [
      "ORIGINAL POSITIVE RATIO: 2.9288929440389295\n",
      "Fold : 0\n",
      "TRAIN POSITIVE RATIO: 2.80895675043834\n",
      "TEST POSITIVE RATIO : 3.525436046511628\n",
      "LENGTH TRAIN GROUPS : 197\n",
      "LENGTH TEST GROUPS  : 38\n",
      "Number of True in sub_indices: 13688\n",
      "Number of False in sub_indices: 2752\n",
      "Number of True in test_indices: 952\n",
      "Number of False in test_indices: 15488\n",
      "Check shapes:\n",
      "\n",
      "Images sub dataset: (13688, 250, 250, 5)\n",
      "Labels sub dataset: (13688, 1)\n",
      "\n",
      "Images test dataset: (952, 250, 250, 5)\n",
      "Labels test dataset: (952, 1)\n",
      "\n",
      "--------------------------------------------------\n",
      "Check if the split was stratified: (random_state=42)\n",
      "Healthy trees in sub dataset: 3713\n",
      "Stressed trees in sub dataset: 2004\n",
      "Dead trees in sub dataset: 1927\n",
      "Healthy trees in test dataset: 277\n",
      "Stressed trees in test dataset: 132\n",
      "Dead trees in test dataset: 78\n",
      "Ratio health trees in test dataset: 0.07460274710476704\n",
      "Ratio stressed trees in test dataset: 0.0658682634730539\n",
      "Ratio dead trees in test dataset: 0.040477426050856254\n"
     ]
    }
   ],
   "source": [
    "sub_image_set, sub_label_set, sub_hash_id, sub_species_set, test_image_set, test_label_set, test_hash_id, test_species_set = data_split(image_set, label_set, hash_id, species_set, n_splits=6, random_state=42, seed=42)\n"
   ]
  },
  {
   "cell_type": "markdown",
   "id": "c48fbb5b",
   "metadata": {},
   "source": [
    "#### Check if any hash ID is in both sub and test dataset"
   ]
  },
  {
   "cell_type": "code",
   "execution_count": 14,
   "id": "874367cf",
   "metadata": {},
   "outputs": [
    {
     "name": "stdout",
     "output_type": "stream",
     "text": [
      "There are no hash_id values in both train and test datasets. The datasplit was successful\n"
     ]
    }
   ],
   "source": [
    "hash_set = set(sub_hash_id[:,0].flatten())\n",
    "test_hash_set = set(test_hash_id[:,0].flatten())\n",
    "intersection = hash_set.intersection(test_hash_set)\n",
    "if intersection:\n",
    "    print(f\"Hash_id values in both train and test sets: {len(intersection)}\")\n",
    "else:\n",
    "    print(\"There are no hash_id values in both train and test datasets. The datasplit was successful\")"
   ]
  },
  {
   "cell_type": "markdown",
   "id": "9e5b64d4",
   "metadata": {},
   "source": [
    "#### Check feature distribution of the Test dataset"
   ]
  },
  {
   "cell_type": "code",
   "execution_count": 15,
   "id": "a33ff5cb",
   "metadata": {},
   "outputs": [
    {
     "name": "stdout",
     "output_type": "stream",
     "text": [
      "Test dataset\n",
      "Test data Picea abies healthy: 277\n",
      "Test data Picea abies stressed: 132\n",
      "Test data Pinus sylvestris healthy: 78\n",
      "Test data Pinus sylvestris stressed: 61\n",
      "Test data Abies alba healthy: 23\n",
      "Test data Abies alba stressed: 13\n",
      "Test data Fagus sylvatica healthy: 188\n",
      "Test data Fagus sylvatica stressed: 56\n",
      "Test data Quercus robur/petraea healthy: 85\n",
      "Test data Quercus robur/petraea stressed: 29\n",
      "Test data dead trees: 10\n",
      "--------------------------------------------------\n",
      "Remaining dataset\n",
      "Remaining data Picea abies healthy: 3713\n",
      "Remaining data Picea abies stressed: 2004\n",
      "Remaining data Pinus sylvestris healthy: 1927\n",
      "Remaining data Pinus sylvestris stressed: 2320\n",
      "Remaining data Abies alba healthy: 433\n",
      "Remaining data Abies alba stressed: 138\n",
      "Remaining data Fagus sylvatica healthy: 1045\n",
      "Remaining data Fagus sylvatica stressed: 808\n",
      "Remaining data Quercus robur/petraea healthy: 663\n",
      "Remaining data Quercus robur/petraea stressed: 391\n",
      "Remaining data dead trees: 246\n",
      "--------------------------------------------------\n"
     ]
    }
   ],
   "source": [
    "def count_occurrences(data, value):\n",
    "    count = 0\n",
    "    for item in data:\n",
    "        if item == value:\n",
    "            count += 1\n",
    "    return count\n",
    "\n",
    "print(\"Test dataset\")\n",
    "print(f\"Test data Picea abies healthy: {count_occurrences(test_label_set, 0)}\")\n",
    "print(f\"Test data Picea abies stressed: {count_occurrences(test_label_set, 1)}\")\n",
    "print(f\"Test data Pinus sylvestris healthy: {count_occurrences(test_label_set, 2)}\")\n",
    "print(f\"Test data Pinus sylvestris stressed: {count_occurrences(test_label_set, 3)}\")\n",
    "print(f\"Test data Abies alba healthy: {count_occurrences(test_label_set, 4)}\")\n",
    "print(f\"Test data Abies alba stressed: {count_occurrences(test_label_set, 5)}\")\n",
    "print(f\"Test data Fagus sylvatica healthy: {count_occurrences(test_label_set, 6)}\")\n",
    "print(f\"Test data Fagus sylvatica stressed: {count_occurrences(test_label_set, 7)}\")\n",
    "print(f\"Test data Quercus robur/petraea healthy: {count_occurrences(test_label_set, 8)}\")\n",
    "print(f\"Test data Quercus robur/petraea stressed: {count_occurrences(test_label_set, 9)}\")\n",
    "print(f\"Test data dead trees: {count_occurrences(test_label_set, 10)}\")\n",
    "print(\"-\"*50)\n",
    "\n",
    "print(\"Remaining dataset\")\n",
    "print(f\"Remaining data Picea abies healthy: {count_occurrences(sub_label_set, 0)}\")\n",
    "print(f\"Remaining data Picea abies stressed: {count_occurrences(sub_label_set, 1)}\")\n",
    "print(f\"Remaining data Pinus sylvestris healthy: {count_occurrences(sub_label_set, 2)}\")\n",
    "print(f\"Remaining data Pinus sylvestris stressed: {count_occurrences(sub_label_set, 3)}\")\n",
    "print(f\"Remaining data Abies alba healthy: {count_occurrences(sub_label_set, 4)}\")\n",
    "print(f\"Remaining data Abies alba stressed: {count_occurrences(sub_label_set, 5)}\")\n",
    "print(f\"Remaining data Fagus sylvatica healthy: {count_occurrences(sub_label_set, 6)}\")\n",
    "print(f\"Remaining data Fagus sylvatica stressed: {count_occurrences(sub_label_set, 7)}\")\n",
    "print(f\"Remaining data Quercus robur/petraea healthy: {count_occurrences(sub_label_set, 8)}\")\n",
    "print(f\"Remaining data Quercus robur/petraea stressed: {count_occurrences(sub_label_set, 9)}\")\n",
    "print(f\"Remaining data dead trees: {count_occurrences(sub_label_set, 10)}\")\n",
    "print(\"-\"*50)"
   ]
  },
  {
   "cell_type": "code",
   "execution_count": 16,
   "id": "e08fcf57",
   "metadata": {},
   "outputs": [],
   "source": [
    "# train transform with augmentation. \n",
    "transform_train = transforms.Compose([transforms.ToTensor(), transforms.RandomHorizontalFlip(p=0.5), transforms.RandomVerticalFlip(p=0.5),\n",
    "                                      transforms.RandomRotation(degrees=[0,360])])\n",
    "\n",
    "# test and val dataset transform without augmentation. \n",
    "transform = transforms.Compose([transforms.ToTensor()])\n",
    "\n",
    "# class names need to fit the customDataset class used e.g. 3 classes -> use CustomDataset3Classes\n",
    "#class_names = ['healthy', 'slightly_stressed', 'moderately_stressed', 'highly_stressed', 'dead']\n",
    "#class_names = ['healthy', 'moderately_stressed', 'highly_stressed', 'dead']\n",
    "#class_names = ['healthy', 'moderate stress', 'severe stress', 'dead']\n",
    "class_names = ['Picea abies healthy', 'Picea abies stressed', 'Pinus sylvestris healthy', 'Pinus sylvestris stressed', \n",
    "               'Abies alba healthy', 'Abies alba stressed', 'Fagus sylvatica healthy', 'Fagus sylvatica stressed',\n",
    "               'Quercus robur/petraea healthy', 'Quercus robur/petraea stressed', 'dead trees']\n",
    "\n",
    "# set seeds\n",
    "g = torch.Generator()\n",
    "g.manual_seed(42)\n",
    "NUM_WORKERS=3 # should be changed, depending on the system used\n",
    "batch_size=32"
   ]
  },
  {
   "cell_type": "markdown",
   "id": "31779c05",
   "metadata": {},
   "source": [
    "#### Define variables and parameters"
   ]
  },
  {
   "cell_type": "code",
   "execution_count": 17,
   "id": "10ae4379",
   "metadata": {},
   "outputs": [
    {
     "name": "stdout",
     "output_type": "stream",
     "text": [
      "Memory allocated: 0 bytes\n"
     ]
    }
   ],
   "source": [
    "# 1. Define number of epochs\n",
    "epochs = 50\n",
    "n_bands = sub_image_set[0].shape[2] # get number of bands\n",
    "\n",
    "# 2. Define model\n",
    "num_classes = len(class_names)\n",
    "unfreeze = True # all layer weights get updated\n",
    "dropout_rate = 0.5 #define dropout rate\n",
    "model_name = \"EffNet_b7_RGB-RE-NIR-5species-combined_v2_plotsplit\"\n",
    "\n",
    "# 3. Define loss, optimizer and learning rate scheduler\n",
    "lr = 0.001 # define learning rate\n",
    "min_lr = 1e-6 # minimum learning rate threshold\n",
    "gamma = 0.75 # how fast the learning rate decreases per epoch (low number=faster decrease)\n",
    "patience = 10\n",
    "\n",
    "# 4. Create target folder name were to save the tensorboard event files\n",
    "experiment_name = 'RGB-RE-NIR-5species-combined_v2_plotsplit'\n",
    "extra = \"RGB-RE-NIR-5species-combined_v2_plotsplit\"\n",
    "\n",
    "#----------------------------------------------------------------------\n",
    "#torch.cuda.empty_cache()\n",
    "print(f\"Memory allocated: {torch.cuda.memory_allocated()} bytes\") "
   ]
  },
  {
   "cell_type": "markdown",
   "id": "09768b1a",
   "metadata": {},
   "source": [
    "#### Run k-Fold cross-validation on EfficientNet"
   ]
  },
  {
   "cell_type": "code",
   "execution_count": 18,
   "id": "9c29c81d",
   "metadata": {},
   "outputs": [
    {
     "name": "stdout",
     "output_type": "stream",
     "text": [
      "ORIGINAL POSITIVE RATIO: 2.80895675043834\n",
      "Fold : 1\n",
      "TRAIN POSITIVE RATIO: 2.877106871642897\n",
      "VAL POSITIVE RATIO  : 2.5543252595155708\n",
      "LENGTH TRAIN GROUPS : 160\n",
      "LENGTH VAL GROUPS   : 37\n"
     ]
    },
    {
     "data": {
      "text/html": [
       "Finishing last run (ID:4mfecb7r) before initializing another..."
      ],
      "text/plain": [
       "<IPython.core.display.HTML object>"
      ]
     },
     "metadata": {},
     "output_type": "display_data"
    },
    {
     "data": {
      "text/html": [
       "Waiting for W&B process to finish... <strong style=\"color:green\">(success).</strong>"
      ],
      "text/plain": [
       "<IPython.core.display.HTML object>"
      ]
     },
     "metadata": {},
     "output_type": "display_data"
    },
    {
     "data": {
      "application/vnd.jupyter.widget-view+json": {
       "model_id": "cfcbc06a5cf243098da159610ebf4546",
       "version_major": 2,
       "version_minor": 0
      },
      "text/plain": [
       "VBox(children=(Label(value='0.001 MB of 0.001 MB uploaded (0.000 MB deduped)\\r'), FloatProgress(value=1.0, max…"
      ]
     },
     "metadata": {},
     "output_type": "display_data"
    },
    {
     "data": {
      "text/html": [
       " View run <strong style=\"color:#cdcd00\">astral-capybara-22</strong> at: <a href='https://wandb.ai/simon-ecke/wze-uav-combined_v2/runs/4mfecb7r' target=\"_blank\">https://wandb.ai/simon-ecke/wze-uav-combined_v2/runs/4mfecb7r</a><br/>Synced 5 W&B file(s), 0 media file(s), 0 artifact file(s) and 0 other file(s)"
      ],
      "text/plain": [
       "<IPython.core.display.HTML object>"
      ]
     },
     "metadata": {},
     "output_type": "display_data"
    },
    {
     "data": {
      "text/html": [
       "Find logs at: <code>.\\wandb\\run-20230517_143700-4mfecb7r\\logs</code>"
      ],
      "text/plain": [
       "<IPython.core.display.HTML object>"
      ]
     },
     "metadata": {},
     "output_type": "display_data"
    },
    {
     "data": {
      "text/html": [
       "Successfully finished last run (ID:4mfecb7r). Initializing new run:<br/>"
      ],
      "text/plain": [
       "<IPython.core.display.HTML object>"
      ]
     },
     "metadata": {},
     "output_type": "display_data"
    },
    {
     "data": {
      "application/vnd.jupyter.widget-view+json": {
       "model_id": "72fce1a656774d63948a99b611888274",
       "version_major": 2,
       "version_minor": 0
      },
      "text/plain": [
       "VBox(children=(Label(value='Waiting for wandb.init()...\\r'), FloatProgress(value=0.016666666666666666, max=1.0…"
      ]
     },
     "metadata": {},
     "output_type": "display_data"
    },
    {
     "data": {
      "text/html": [
       "wandb version 0.15.2 is available!  To upgrade, please run:\n",
       " $ pip install wandb --upgrade"
      ],
      "text/plain": [
       "<IPython.core.display.HTML object>"
      ]
     },
     "metadata": {},
     "output_type": "display_data"
    },
    {
     "data": {
      "text/html": [
       "Tracking run with wandb version 0.14.2"
      ],
      "text/plain": [
       "<IPython.core.display.HTML object>"
      ]
     },
     "metadata": {},
     "output_type": "display_data"
    },
    {
     "data": {
      "text/html": [
       "Run data is saved locally in <code>C:\\Users\\lwfeckesim\\01_PyTorch\\wze-uav\\wze-uav-master\\wandb\\run-20230517_153609-pqdm5nki</code>"
      ],
      "text/plain": [
       "<IPython.core.display.HTML object>"
      ]
     },
     "metadata": {},
     "output_type": "display_data"
    },
    {
     "data": {
      "text/html": [
       "Syncing run <strong><a href='https://wandb.ai/simon-ecke/wze-uav-combined_v2/runs/pqdm5nki' target=\"_blank\">fold_1_RGB-RE-NIR-5species-combined_v2_plotsplit</a></strong> to <a href='https://wandb.ai/simon-ecke/wze-uav-combined_v2' target=\"_blank\">Weights & Biases</a> (<a href='https://wandb.me/run' target=\"_blank\">docs</a>)<br/>"
      ],
      "text/plain": [
       "<IPython.core.display.HTML object>"
      ]
     },
     "metadata": {},
     "output_type": "display_data"
    },
    {
     "data": {
      "text/html": [
       " View project at <a href='https://wandb.ai/simon-ecke/wze-uav-combined_v2' target=\"_blank\">https://wandb.ai/simon-ecke/wze-uav-combined_v2</a>"
      ],
      "text/plain": [
       "<IPython.core.display.HTML object>"
      ]
     },
     "metadata": {},
     "output_type": "display_data"
    },
    {
     "data": {
      "text/html": [
       " View run at <a href='https://wandb.ai/simon-ecke/wze-uav-combined_v2/runs/pqdm5nki' target=\"_blank\">https://wandb.ai/simon-ecke/wze-uav-combined_v2/runs/pqdm5nki</a>"
      ],
      "text/plain": [
       "<IPython.core.display.HTML object>"
      ]
     },
     "metadata": {},
     "output_type": "display_data"
    },
    {
     "name": "stdout",
     "output_type": "stream",
     "text": [
      "There are no same hash_id values in train, val or test datasets. The datasplit was successful\n",
      "Check shapes:\n",
      "\n",
      "Images train dataset: (10798, 250, 250, 5)\n",
      "Labels train dataset: (10798, 1)\n",
      "\n",
      "Images validation dataset: (1074, 250, 250, 5)\n",
      "Labels validation dataset: (1074, 1)\n",
      "\n",
      "--------------------------------------------------\n",
      "Check if the split was stratified: (random_state=42)\n",
      "Picea abies healthy in train dataset: 2856\n",
      "Picea abies stressed in train dataset: 1629\n",
      "Pinus sylvestris healthy in train dataset: 1545\n",
      "Pinus sylvestris stressed in train dataset: 1692\n",
      "Abies alba healthy in train dataset: 310\n",
      "Abies alba stressed in train dataset: 104\n",
      "Fagus sylvatica healthy in train dataset: 921\n",
      "Fagus sylvatica stressed in train dataset: 686\n",
      "Quercus robur/petraea healthy in train dataset: 518\n",
      "Quercus robur/petraea stressed in train dataset: 330\n",
      "Dead trees in train dataset: 207\n",
      "Picea abies healthy in validation dataset: 330\n",
      "Picea abies stressed in validation dataset: 142\n",
      "Pinus sylvestris healthy in validation dataset: 147\n",
      "Pinus sylvestris stressed in validation dataset: 193\n",
      "Abies alba healthy in validation dataset: 53\n",
      "Abies alba stressed in validation dataset: 17\n",
      "Fagus sylvatica healthy in validation dataset: 46\n",
      "Fagus sylvatica stressed in validation dataset: 59\n",
      "Quercus robur/petraea healthy in validation dataset: 52\n",
      "Quercus robur/petraea stressed in validation dataset: 22\n",
      "Dead trees in validation dataset: 13\n",
      "--------------------------------------------------\n",
      "\n",
      "Creating datasets for fold: 1\n",
      "\n",
      "Creating dataloaders for fold: 1\n",
      "\n",
      "Loaded pretrained weights for efficientnet-b7\n",
      "\n",
      "[INFO] Fold number: 1\n",
      "[INFO] Number of epochs: 50\n",
      "[INFO] Batch_size: 32\n",
      "[INFO] Number of bands: 5\n",
      "[INFO] Dropout rate: 0.5\n",
      "[INFO] Gamma learning rate: 0.75\n",
      "[INFO] Memory allocated: 0 bytes\n"
     ]
    },
    {
     "data": {
      "application/vnd.jupyter.widget-view+json": {
       "model_id": "2c27a7a9aafb460f8869f57696fdd98e",
       "version_major": 2,
       "version_minor": 0
      },
      "text/plain": [
       "  0%|          | 0/50 [00:00<?, ?it/s]"
      ]
     },
     "metadata": {},
     "output_type": "display_data"
    },
    {
     "name": "stdout",
     "output_type": "stream",
     "text": [
      "Epoch: 1 \n",
      "Learning rate: 0.001\n",
      "Train loss: 1.4831 | Train precision: 0.3577 | Train recall: 0.3179 | Train f1score: 0.3257 | Train acc: 0.4106 | Train kappa: 0.6837 \n",
      "Val loss: 2.5076 | Val precision: 0.1633 | Val recall: 0.1691 | Val f1score: 0.1248 | Val acc: 0.2983 | Val kappa: 0.4113 \n",
      "\n",
      "Epoch: 2 \n",
      "Learning rate: 0.00075\n",
      "Train loss: 1.1755 | Train precision: 0.4614 | Train recall: 0.4347 | Train f1score: 0.4383 | Train acc: 0.4994 | Train kappa: 0.8039 \n",
      "Val loss: 2.0344 | Val precision: 0.1626 | Val recall: 0.2470 | Val f1score: 0.1484 | Val acc: 0.2481 | Val kappa: 0.4225 \n",
      "\n",
      "Epoch: 3 \n",
      "Learning rate: 0.0005625000000000001\n",
      "Train loss: 1.0657 | Train precision: 0.5240 | Train recall: 0.4843 | Train f1score: 0.4900 | Train acc: 0.5402 | Train kappa: 0.8532 \n",
      "Val loss: 1.1769 | Val precision: 0.4275 | Val recall: 0.4528 | Val f1score: 0.4177 | Val acc: 0.5133 | Val kappa: 0.8168 \n",
      "\n",
      "Epoch: 4 \n",
      "Learning rate: 0.000421875\n",
      "Train loss: 1.0010 | Train precision: 0.5382 | Train recall: 0.5164 | Train f1score: 0.5205 | Train acc: 0.5576 | Train kappa: 0.8674 \n",
      "Val loss: 1.1720 | Val precision: 0.4732 | Val recall: 0.4518 | Val f1score: 0.4228 | Val acc: 0.5038 | Val kappa: 0.8195 \n",
      "\n",
      "Epoch: 5 \n",
      "Learning rate: 0.00031640625\n",
      "Train loss: 0.9464 | Train precision: 0.5640 | Train recall: 0.5427 | Train f1score: 0.5479 | Train acc: 0.5782 | Train kappa: 0.8847 \n",
      "Val loss: 1.2185 | Val precision: 0.4837 | Val recall: 0.4328 | Val f1score: 0.3911 | Val acc: 0.5038 | Val kappa: 0.7838 \n",
      "\n",
      "Epoch: 6 \n",
      "Learning rate: 0.0002373046875\n",
      "Train loss: 0.9091 | Train precision: 0.5961 | Train recall: 0.5725 | Train f1score: 0.5799 | Train acc: 0.5960 | Train kappa: 0.8961 \n",
      "Val loss: 1.0325 | Val precision: 0.5140 | Val recall: 0.4739 | Val f1score: 0.4743 | Val acc: 0.5492 | Val kappa: 0.8271 \n",
      "\n",
      "Epoch: 7 \n",
      "Learning rate: 0.000177978515625\n",
      "Train loss: 0.8642 | Train precision: 0.6176 | Train recall: 0.5877 | Train f1score: 0.5968 | Train acc: 0.6146 | Train kappa: 0.9041 \n",
      "Val loss: 1.1147 | Val precision: 0.5049 | Val recall: 0.4794 | Val f1score: 0.4547 | Val acc: 0.5616 | Val kappa: 0.8205 \n",
      "\n",
      "Epoch: 8 \n",
      "Learning rate: 0.00013348388671875\n",
      "Train loss: 0.8370 | Train precision: 0.6321 | Train recall: 0.6138 | Train f1score: 0.6190 | Train acc: 0.6231 | Train kappa: 0.9174 \n",
      "Val loss: 1.0003 | Val precision: 0.5509 | Val recall: 0.5369 | Val f1score: 0.5221 | Val acc: 0.5947 | Val kappa: 0.8570 \n",
      "\n",
      "Epoch: 9 \n",
      "Learning rate: 0.0001001129150390625\n",
      "Train loss: 0.8139 | Train precision: 0.6488 | Train recall: 0.6201 | Train f1score: 0.6296 | Train acc: 0.6348 | Train kappa: 0.9159 \n",
      "Val loss: 0.9957 | Val precision: 0.5476 | Val recall: 0.5564 | Val f1score: 0.5458 | Val acc: 0.6004 | Val kappa: 0.8604 \n",
      "\n",
      "Epoch: 10 \n",
      "Learning rate: 7.508468627929687e-05\n",
      "Train loss: 0.7987 | Train precision: 0.6445 | Train recall: 0.6205 | Train f1score: 0.6283 | Train acc: 0.6358 | Train kappa: 0.9251 \n",
      "Val loss: 1.0442 | Val precision: 0.5614 | Val recall: 0.5004 | Val f1score: 0.4907 | Val acc: 0.5701 | Val kappa: 0.8553 \n",
      "\n",
      "Epoch: 11 \n",
      "Learning rate: 5.6313514709472656e-05\n",
      "Train loss: 0.7820 | Train precision: 0.6613 | Train recall: 0.6335 | Train f1score: 0.6437 | Train acc: 0.6452 | Train kappa: 0.9177 \n",
      "Val loss: 1.0714 | Val precision: 0.5659 | Val recall: 0.5233 | Val f1score: 0.5139 | Val acc: 0.5597 | Val kappa: 0.8412 \n",
      "\n",
      "Epoch: 12 \n",
      "Learning rate: 4.223513603210449e-05\n",
      "Train loss: 0.7744 | Train precision: 0.6756 | Train recall: 0.6525 | Train f1score: 0.6605 | Train acc: 0.6577 | Train kappa: 0.9238 \n",
      "Val loss: 0.9928 | Val precision: 0.5320 | Val recall: 0.5276 | Val f1score: 0.5211 | Val acc: 0.5758 | Val kappa: 0.8619 \n",
      "\n",
      "Epoch: 13 \n",
      "Learning rate: 3.167635202407837e-05\n",
      "Train loss: 0.7614 | Train precision: 0.6796 | Train recall: 0.6515 | Train f1score: 0.6619 | Train acc: 0.6550 | Train kappa: 0.9273 \n",
      "Val loss: 0.9945 | Val precision: 0.5582 | Val recall: 0.5424 | Val f1score: 0.5385 | Val acc: 0.6089 | Val kappa: 0.8716 \n",
      "\n",
      "Epoch: 14 \n",
      "Learning rate: 2.3757264018058778e-05\n",
      "Train loss: 0.7511 | Train precision: 0.6874 | Train recall: 0.6649 | Train f1score: 0.6723 | Train acc: 0.6626 | Train kappa: 0.9268 \n",
      "Val loss: 1.0114 | Val precision: 0.5421 | Val recall: 0.5297 | Val f1score: 0.5212 | Val acc: 0.5881 | Val kappa: 0.8634 \n",
      "\n",
      "Epoch: 15 \n",
      "Learning rate: 1.7817948013544083e-05\n",
      "Train loss: 0.7503 | Train precision: 0.6881 | Train recall: 0.6542 | Train f1score: 0.6670 | Train acc: 0.6658 | Train kappa: 0.9291 \n",
      "Val loss: 1.0055 | Val precision: 0.5468 | Val recall: 0.5387 | Val f1score: 0.5289 | Val acc: 0.5928 | Val kappa: 0.8656 \n",
      "\n",
      "Epoch: 16 \n",
      "Learning rate: 1.3363461010158063e-05\n",
      "Train loss: 0.7492 | Train precision: 0.6931 | Train recall: 0.6648 | Train f1score: 0.6745 | Train acc: 0.6610 | Train kappa: 0.9238 \n",
      "Val loss: 1.0043 | Val precision: 0.5670 | Val recall: 0.5363 | Val f1score: 0.5331 | Val acc: 0.6023 | Val kappa: 0.8676 \n",
      "\n",
      "Epoch: 17 \n",
      "Learning rate: 1.0022595757618546e-05\n",
      "Train loss: 0.7373 | Train precision: 0.6896 | Train recall: 0.6693 | Train f1score: 0.6770 | Train acc: 0.6714 | Train kappa: 0.9362 \n",
      "Val loss: 1.0046 | Val precision: 0.5648 | Val recall: 0.5394 | Val f1score: 0.5352 | Val acc: 0.6032 | Val kappa: 0.8676 \n",
      "\n",
      "Epoch: 18 \n",
      "Learning rate: 7.51694681821391e-06\n",
      "Train loss: 0.7395 | Train precision: 0.6995 | Train recall: 0.6711 | Train f1score: 0.6816 | Train acc: 0.6674 | Train kappa: 0.9319 \n",
      "Val loss: 1.0120 | Val precision: 0.5705 | Val recall: 0.5378 | Val f1score: 0.5329 | Val acc: 0.5985 | Val kappa: 0.8688 \n",
      "\n",
      "Epoch: 19 \n",
      "Learning rate: 5.637710113660432e-06\n",
      "Train loss: 0.7235 | Train precision: 0.7026 | Train recall: 0.6802 | Train f1score: 0.6878 | Train acc: 0.6727 | Train kappa: 0.9356 \n",
      "Val loss: 1.0133 | Val precision: 0.5699 | Val recall: 0.5418 | Val f1score: 0.5360 | Val acc: 0.6013 | Val kappa: 0.8664 \n",
      "\n",
      "Epoch: 20 \n",
      "Learning rate: 4.228282585245324e-06\n",
      "Train loss: 0.7323 | Train precision: 0.6967 | Train recall: 0.6747 | Train f1score: 0.6830 | Train acc: 0.6704 | Train kappa: 0.9354 \n",
      "Val loss: 1.0087 | Val precision: 0.5735 | Val recall: 0.5469 | Val f1score: 0.5406 | Val acc: 0.6023 | Val kappa: 0.8658 \n",
      "\n",
      "Epoch: 21 \n",
      "Learning rate: 3.1712119389339933e-06\n",
      "Train loss: 0.7314 | Train precision: 0.7016 | Train recall: 0.6739 | Train f1score: 0.6842 | Train acc: 0.6720 | Train kappa: 0.9313 \n",
      "Val loss: 1.0165 | Val precision: 0.5670 | Val recall: 0.5368 | Val f1score: 0.5313 | Val acc: 0.5909 | Val kappa: 0.8655 \n",
      "\n",
      "Epoch: 22 \n",
      "Learning rate: 2.378408954200495e-06\n",
      "Train loss: 0.7473 | Train precision: 0.6897 | Train recall: 0.6598 | Train f1score: 0.6714 | Train acc: 0.6611 | Train kappa: 0.9290 \n",
      "Val loss: 1.0145 | Val precision: 0.5675 | Val recall: 0.5403 | Val f1score: 0.5346 | Val acc: 0.5956 | Val kappa: 0.8627 \n",
      "\n",
      "Early stopping after epoch 22\n"
     ]
    },
    {
     "data": {
      "text/html": [
       "Waiting for W&B process to finish... <strong style=\"color:green\">(success).</strong>"
      ],
      "text/plain": [
       "<IPython.core.display.HTML object>"
      ]
     },
     "metadata": {},
     "output_type": "display_data"
    },
    {
     "data": {
      "text/html": [
       "<style>\n",
       "    table.wandb td:nth-child(1) { padding: 0 10px; text-align: left ; width: auto;} td:nth-child(2) {text-align: left ; width: 100%}\n",
       "    .wandb-row { display: flex; flex-direction: row; flex-wrap: wrap; justify-content: flex-start; width: 100% }\n",
       "    .wandb-col { display: flex; flex-direction: column; flex-basis: 100%; flex: 1; padding: 10px; }\n",
       "    </style>\n",
       "<div class=\"wandb-row\"><div class=\"wandb-col\"><h3>Run history:</h3><br/><table class=\"wandb\"><tr><td>learning_rate</td><td>█▆▅▄▃▃▂▂▂▂▁▁▁▁▁▁▁▁▁▁▁▁</td></tr><tr><td>train_f1_score</td><td>▁▃▄▅▅▆▆▇▇▇▇▇▇█████████</td></tr><tr><td>train_loss</td><td>█▅▄▄▃▃▂▂▂▂▂▁▁▁▁▁▁▁▁▁▁▁</td></tr><tr><td>val_f1_score</td><td>▁▁▆▆▅▇▆██▇▇███████████</td></tr><tr><td>val_loss</td><td>█▆▂▂▂▁▂▁▁▁▁▁▁▁▁▁▁▁▁▁▁▁</td></tr></table><br/></div><div class=\"wandb-col\"><h3>Run summary:</h3><br/><table class=\"wandb\"><tr><td>learning_rate</td><td>0.0</td></tr><tr><td>train_f1_score</td><td>0.67142</td></tr><tr><td>train_loss</td><td>0.74729</td></tr><tr><td>val_f1_score</td><td>0.53464</td></tr><tr><td>val_loss</td><td>1.01454</td></tr></table><br/></div></div>"
      ],
      "text/plain": [
       "<IPython.core.display.HTML object>"
      ]
     },
     "metadata": {},
     "output_type": "display_data"
    },
    {
     "data": {
      "text/html": [
       " View run <strong style=\"color:#cdcd00\">fold_1_RGB-RE-NIR-5species-combined_v2_plotsplit</strong> at: <a href='https://wandb.ai/simon-ecke/wze-uav-combined_v2/runs/pqdm5nki' target=\"_blank\">https://wandb.ai/simon-ecke/wze-uav-combined_v2/runs/pqdm5nki</a><br/>Synced 5 W&B file(s), 0 media file(s), 0 artifact file(s) and 0 other file(s)"
      ],
      "text/plain": [
       "<IPython.core.display.HTML object>"
      ]
     },
     "metadata": {},
     "output_type": "display_data"
    },
    {
     "data": {
      "text/html": [
       "Find logs at: <code>.\\wandb\\run-20230517_153609-pqdm5nki\\logs</code>"
      ],
      "text/plain": [
       "<IPython.core.display.HTML object>"
      ]
     },
     "metadata": {},
     "output_type": "display_data"
    },
    {
     "name": "stdout",
     "output_type": "stream",
     "text": [
      "Deleting variables and emptying cache\n",
      "Memory allocated: 1049500672 bytes\n",
      "--------------------------------------------------\n",
      "\n",
      "Fold : 2\n",
      "TRAIN POSITIVE RATIO: 2.786750398018751\n",
      "VAL POSITIVE RATIO  : 2.9143576826196473\n",
      "LENGTH TRAIN GROUPS : 157\n",
      "LENGTH VAL GROUPS   : 40\n"
     ]
    },
    {
     "data": {
      "text/html": [
       "wandb version 0.15.2 is available!  To upgrade, please run:\n",
       " $ pip install wandb --upgrade"
      ],
      "text/plain": [
       "<IPython.core.display.HTML object>"
      ]
     },
     "metadata": {},
     "output_type": "display_data"
    },
    {
     "data": {
      "text/html": [
       "Tracking run with wandb version 0.14.2"
      ],
      "text/plain": [
       "<IPython.core.display.HTML object>"
      ]
     },
     "metadata": {},
     "output_type": "display_data"
    },
    {
     "data": {
      "text/html": [
       "Run data is saved locally in <code>C:\\Users\\lwfeckesim\\01_PyTorch\\wze-uav\\wze-uav-master\\wandb\\run-20230517_173827-m5h9h2pm</code>"
      ],
      "text/plain": [
       "<IPython.core.display.HTML object>"
      ]
     },
     "metadata": {},
     "output_type": "display_data"
    },
    {
     "data": {
      "text/html": [
       "Syncing run <strong><a href='https://wandb.ai/simon-ecke/wze-uav-combined_v2/runs/m5h9h2pm' target=\"_blank\">fold_2_RGB-RE-NIR-5species-combined_v2_plotsplit</a></strong> to <a href='https://wandb.ai/simon-ecke/wze-uav-combined_v2' target=\"_blank\">Weights & Biases</a> (<a href='https://wandb.me/run' target=\"_blank\">docs</a>)<br/>"
      ],
      "text/plain": [
       "<IPython.core.display.HTML object>"
      ]
     },
     "metadata": {},
     "output_type": "display_data"
    },
    {
     "data": {
      "text/html": [
       " View project at <a href='https://wandb.ai/simon-ecke/wze-uav-combined_v2' target=\"_blank\">https://wandb.ai/simon-ecke/wze-uav-combined_v2</a>"
      ],
      "text/plain": [
       "<IPython.core.display.HTML object>"
      ]
     },
     "metadata": {},
     "output_type": "display_data"
    },
    {
     "data": {
      "text/html": [
       " View run at <a href='https://wandb.ai/simon-ecke/wze-uav-combined_v2/runs/m5h9h2pm' target=\"_blank\">https://wandb.ai/simon-ecke/wze-uav-combined_v2/runs/m5h9h2pm</a>"
      ],
      "text/plain": [
       "<IPython.core.display.HTML object>"
      ]
     },
     "metadata": {},
     "output_type": "display_data"
    },
    {
     "name": "stdout",
     "output_type": "stream",
     "text": [
      "There are no same hash_id values in train, val or test datasets. The datasplit was successful\n",
      "Check shapes:\n",
      "\n",
      "Images train dataset: (11306, 250, 250, 5)\n",
      "Labels train dataset: (11306, 1)\n",
      "\n",
      "Images validation dataset: (908, 250, 250, 5)\n",
      "Labels validation dataset: (908, 1)\n",
      "\n",
      "--------------------------------------------------\n",
      "Check if the split was stratified: (random_state=42)\n",
      "Picea abies healthy in train dataset: 3271\n",
      "Picea abies stressed in train dataset: 1621\n",
      "Pinus sylvestris healthy in train dataset: 1525\n",
      "Pinus sylvestris stressed in train dataset: 1844\n",
      "Abies alba healthy in train dataset: 315\n",
      "Abies alba stressed in train dataset: 62\n",
      "Fagus sylvatica healthy in train dataset: 833\n",
      "Fagus sylvatica stressed in train dataset: 710\n",
      "Quercus robur/petraea healthy in train dataset: 570\n",
      "Quercus robur/petraea stressed in train dataset: 344\n",
      "Dead trees in train dataset: 211\n",
      "Picea abies healthy in validation dataset: 170\n",
      "Picea abies stressed in validation dataset: 172\n",
      "Pinus sylvestris healthy in validation dataset: 144\n",
      "Pinus sylvestris stressed in validation dataset: 174\n",
      "Abies alba healthy in validation dataset: 43\n",
      "Abies alba stressed in validation dataset: 26\n",
      "Fagus sylvatica healthy in validation dataset: 78\n",
      "Fagus sylvatica stressed in validation dataset: 38\n",
      "Quercus robur/petraea healthy in validation dataset: 27\n",
      "Quercus robur/petraea stressed in validation dataset: 23\n",
      "Dead trees in validation dataset: 13\n",
      "--------------------------------------------------\n",
      "\n",
      "Creating datasets for fold: 2\n",
      "\n",
      "Creating dataloaders for fold: 2\n",
      "\n",
      "Loaded pretrained weights for efficientnet-b7\n",
      "\n",
      "[INFO] Fold number: 2\n",
      "[INFO] Number of epochs: 50\n",
      "[INFO] Batch_size: 32\n",
      "[INFO] Number of bands: 5\n",
      "[INFO] Dropout rate: 0.5\n",
      "[INFO] Gamma learning rate: 0.75\n",
      "[INFO] Memory allocated: 0 bytes\n"
     ]
    },
    {
     "data": {
      "application/vnd.jupyter.widget-view+json": {
       "model_id": "be54ef0f89874425bf7e0a5025203ac4",
       "version_major": 2,
       "version_minor": 0
      },
      "text/plain": [
       "  0%|          | 0/50 [00:00<?, ?it/s]"
      ]
     },
     "metadata": {},
     "output_type": "display_data"
    },
    {
     "name": "stdout",
     "output_type": "stream",
     "text": [
      "Epoch: 1 \n",
      "Learning rate: 0.001\n",
      "Train loss: 1.4878 | Train precision: 0.3284 | Train recall: 0.3048 | Train f1score: 0.3031 | Train acc: 0.4070 | Train kappa: 0.6868 \n",
      "Val loss: 2.2237 | Val precision: 0.2308 | Val recall: 0.1332 | Val f1score: 0.0783 | Val acc: 0.1417 | Val kappa: 0.1891 \n",
      "\n",
      "Epoch: 2 \n",
      "Learning rate: 0.00075\n",
      "Train loss: 1.2027 | Train precision: 0.4187 | Train recall: 0.4045 | Train f1score: 0.4046 | Train acc: 0.4894 | Train kappa: 0.8116 \n",
      "Val loss: 1.6448 | Val precision: 0.3563 | Val recall: 0.3055 | Val f1score: 0.2629 | Val acc: 0.4040 | Val kappa: 0.5104 \n",
      "\n",
      "Epoch: 3 \n",
      "Learning rate: 0.0005625000000000001\n",
      "Train loss: 1.0660 | Train precision: 0.4930 | Train recall: 0.4726 | Train f1score: 0.4731 | Train acc: 0.5421 | Train kappa: 0.8523 \n",
      "Val loss: 1.2587 | Val precision: 0.5025 | Val recall: 0.4083 | Val f1score: 0.3593 | Val acc: 0.4397 | Val kappa: 0.8071 \n",
      "\n",
      "Epoch: 4 \n",
      "Learning rate: 0.000421875\n",
      "Train loss: 1.0050 | Train precision: 0.5451 | Train recall: 0.5062 | Train f1score: 0.5117 | Train acc: 0.5621 | Train kappa: 0.8732 \n",
      "Val loss: 1.1747 | Val precision: 0.4740 | Val recall: 0.5142 | Val f1score: 0.4614 | Val acc: 0.5145 | Val kappa: 0.7994 \n",
      "\n",
      "Epoch: 5 \n",
      "Learning rate: 0.00031640625\n",
      "Train loss: 0.9426 | Train precision: 0.5716 | Train recall: 0.5434 | Train f1score: 0.5502 | Train acc: 0.5885 | Train kappa: 0.8900 \n",
      "Val loss: 1.1588 | Val precision: 0.5101 | Val recall: 0.4230 | Val f1score: 0.4140 | Val acc: 0.4866 | Val kappa: 0.8320 \n",
      "\n",
      "Epoch: 6 \n",
      "Learning rate: 0.0002373046875\n",
      "Train loss: 0.9020 | Train precision: 0.5804 | Train recall: 0.5541 | Train f1score: 0.5595 | Train acc: 0.6038 | Train kappa: 0.9047 \n",
      "Val loss: 1.0242 | Val precision: 0.5324 | Val recall: 0.4653 | Val f1score: 0.4300 | Val acc: 0.5335 | Val kappa: 0.8558 \n",
      "\n",
      "Epoch: 7 \n",
      "Learning rate: 0.000177978515625\n",
      "Train loss: 0.8749 | Train precision: 0.6162 | Train recall: 0.5711 | Train f1score: 0.5789 | Train acc: 0.6083 | Train kappa: 0.9128 \n",
      "Val loss: 1.0241 | Val precision: 0.5471 | Val recall: 0.5343 | Val f1score: 0.5057 | Val acc: 0.5446 | Val kappa: 0.8259 \n",
      "\n",
      "Epoch: 8 \n",
      "Learning rate: 0.00013348388671875\n",
      "Train loss: 0.8346 | Train precision: 0.6329 | Train recall: 0.5890 | Train f1score: 0.5989 | Train acc: 0.6272 | Train kappa: 0.9119 \n",
      "Val loss: 0.9274 | Val precision: 0.6047 | Val recall: 0.5325 | Val f1score: 0.5279 | Val acc: 0.5636 | Val kappa: 0.8867 \n",
      "\n",
      "Epoch: 9 \n",
      "Learning rate: 0.0001001129150390625\n",
      "Train loss: 0.8230 | Train precision: 0.6244 | Train recall: 0.5934 | Train f1score: 0.6019 | Train acc: 0.6318 | Train kappa: 0.9231 \n",
      "Val loss: 0.9593 | Val precision: 0.5488 | Val recall: 0.5258 | Val f1score: 0.5179 | Val acc: 0.5580 | Val kappa: 0.8644 \n",
      "\n",
      "Epoch: 10 \n",
      "Learning rate: 7.508468627929687e-05\n",
      "Train loss: 0.7949 | Train precision: 0.6585 | Train recall: 0.6080 | Train f1score: 0.6202 | Train acc: 0.6413 | Train kappa: 0.9205 \n",
      "Val loss: 0.9544 | Val precision: 0.6256 | Val recall: 0.5150 | Val f1score: 0.5159 | Val acc: 0.5502 | Val kappa: 0.8838 \n",
      "\n",
      "Epoch: 11 \n",
      "Learning rate: 5.6313514709472656e-05\n",
      "Train loss: 0.7833 | Train precision: 0.6596 | Train recall: 0.6185 | Train f1score: 0.6308 | Train acc: 0.6430 | Train kappa: 0.9225 \n",
      "Val loss: 0.9491 | Val precision: 0.5880 | Val recall: 0.5140 | Val f1score: 0.5116 | Val acc: 0.5513 | Val kappa: 0.8757 \n",
      "\n",
      "Epoch: 12 \n",
      "Learning rate: 4.223513603210449e-05\n",
      "Train loss: 0.7755 | Train precision: 0.6772 | Train recall: 0.6305 | Train f1score: 0.6435 | Train acc: 0.6524 | Train kappa: 0.9272 \n",
      "Val loss: 0.9251 | Val precision: 0.6201 | Val recall: 0.5370 | Val f1score: 0.5384 | Val acc: 0.5580 | Val kappa: 0.8918 \n",
      "\n",
      "Epoch: 13 \n",
      "Learning rate: 3.167635202407837e-05\n",
      "Train loss: 0.7642 | Train precision: 0.6791 | Train recall: 0.6328 | Train f1score: 0.6463 | Train acc: 0.6554 | Train kappa: 0.9271 \n",
      "Val loss: 0.9414 | Val precision: 0.6377 | Val recall: 0.5477 | Val f1score: 0.5528 | Val acc: 0.5759 | Val kappa: 0.8805 \n",
      "\n",
      "Epoch: 14 \n",
      "Learning rate: 2.3757264018058778e-05\n",
      "Train loss: 0.7573 | Train precision: 0.6720 | Train recall: 0.6397 | Train f1score: 0.6491 | Train acc: 0.6588 | Train kappa: 0.9310 \n",
      "Val loss: 0.9485 | Val precision: 0.6200 | Val recall: 0.5525 | Val f1score: 0.5573 | Val acc: 0.5759 | Val kappa: 0.8813 \n",
      "\n",
      "Epoch: 15 \n",
      "Learning rate: 1.7817948013544083e-05\n",
      "Train loss: 0.7430 | Train precision: 0.6902 | Train recall: 0.6579 | Train f1score: 0.6687 | Train acc: 0.6725 | Train kappa: 0.9364 \n",
      "Val loss: 0.9360 | Val precision: 0.6328 | Val recall: 0.5555 | Val f1score: 0.5713 | Val acc: 0.5815 | Val kappa: 0.8822 \n",
      "\n",
      "Epoch: 16 \n",
      "Learning rate: 1.3363461010158063e-05\n",
      "Train loss: 0.7376 | Train precision: 0.6780 | Train recall: 0.6487 | Train f1score: 0.6587 | Train acc: 0.6663 | Train kappa: 0.9348 \n",
      "Val loss: 0.9535 | Val precision: 0.6002 | Val recall: 0.5449 | Val f1score: 0.5478 | Val acc: 0.5603 | Val kappa: 0.8824 \n",
      "\n",
      "Epoch: 17 \n",
      "Learning rate: 1.0022595757618546e-05\n",
      "Train loss: 0.7381 | Train precision: 0.7090 | Train recall: 0.6585 | Train f1score: 0.6743 | Train acc: 0.6665 | Train kappa: 0.9364 \n",
      "Val loss: 0.9302 | Val precision: 0.6264 | Val recall: 0.5447 | Val f1score: 0.5549 | Val acc: 0.5826 | Val kappa: 0.8829 \n",
      "\n",
      "Epoch: 18 \n",
      "Learning rate: 7.51694681821391e-06\n",
      "Train loss: 0.7307 | Train precision: 0.6949 | Train recall: 0.6613 | Train f1score: 0.6726 | Train acc: 0.6742 | Train kappa: 0.9366 \n",
      "Val loss: 0.9407 | Val precision: 0.6295 | Val recall: 0.5583 | Val f1score: 0.5693 | Val acc: 0.5737 | Val kappa: 0.8786 \n",
      "\n",
      "Epoch: 19 \n",
      "Learning rate: 5.637710113660432e-06\n",
      "Train loss: 0.7339 | Train precision: 0.6917 | Train recall: 0.6507 | Train f1score: 0.6645 | Train acc: 0.6727 | Train kappa: 0.9356 \n",
      "Val loss: 0.9429 | Val precision: 0.6326 | Val recall: 0.5648 | Val f1score: 0.5804 | Val acc: 0.5837 | Val kappa: 0.8792 \n",
      "\n",
      "Epoch: 20 \n",
      "Learning rate: 4.228282585245324e-06\n",
      "Train loss: 0.7412 | Train precision: 0.6840 | Train recall: 0.6496 | Train f1score: 0.6611 | Train acc: 0.6701 | Train kappa: 0.9363 \n",
      "Val loss: 0.9373 | Val precision: 0.6309 | Val recall: 0.5657 | Val f1score: 0.5789 | Val acc: 0.5826 | Val kappa: 0.8813 \n",
      "\n",
      "Epoch: 21 \n",
      "Learning rate: 3.1712119389339933e-06\n",
      "Train loss: 0.7340 | Train precision: 0.6891 | Train recall: 0.6503 | Train f1score: 0.6633 | Train acc: 0.6666 | Train kappa: 0.9361 \n",
      "Val loss: 0.9329 | Val precision: 0.6299 | Val recall: 0.5719 | Val f1score: 0.5842 | Val acc: 0.5949 | Val kappa: 0.8829 \n",
      "\n",
      "Epoch: 22 \n",
      "Learning rate: 2.378408954200495e-06\n",
      "Train loss: 0.7327 | Train precision: 0.6949 | Train recall: 0.6571 | Train f1score: 0.6698 | Train acc: 0.6737 | Train kappa: 0.9343 \n",
      "Val loss: 0.9430 | Val precision: 0.6302 | Val recall: 0.5611 | Val f1score: 0.5747 | Val acc: 0.5770 | Val kappa: 0.8790 \n",
      "\n",
      "Early stopping after epoch 22\n"
     ]
    },
    {
     "data": {
      "text/html": [
       "Waiting for W&B process to finish... <strong style=\"color:green\">(success).</strong>"
      ],
      "text/plain": [
       "<IPython.core.display.HTML object>"
      ]
     },
     "metadata": {},
     "output_type": "display_data"
    },
    {
     "data": {
      "application/vnd.jupyter.widget-view+json": {
       "model_id": "eee6c2f2f41a469ca4ee5e325c4be9aa",
       "version_major": 2,
       "version_minor": 0
      },
      "text/plain": [
       "VBox(children=(Label(value='0.001 MB of 0.012 MB uploaded (0.000 MB deduped)\\r'), FloatProgress(value=0.101281…"
      ]
     },
     "metadata": {},
     "output_type": "display_data"
    },
    {
     "data": {
      "text/html": [
       "<style>\n",
       "    table.wandb td:nth-child(1) { padding: 0 10px; text-align: left ; width: auto;} td:nth-child(2) {text-align: left ; width: 100%}\n",
       "    .wandb-row { display: flex; flex-direction: row; flex-wrap: wrap; justify-content: flex-start; width: 100% }\n",
       "    .wandb-col { display: flex; flex-direction: column; flex-basis: 100%; flex: 1; padding: 10px; }\n",
       "    </style>\n",
       "<div class=\"wandb-row\"><div class=\"wandb-col\"><h3>Run history:</h3><br/><table class=\"wandb\"><tr><td>learning_rate</td><td>█▆▅▄▃▃▂▂▂▂▁▁▁▁▁▁▁▁▁▁▁▁</td></tr><tr><td>train_f1_score</td><td>▁▃▄▅▆▆▆▇▇▇▇▇▇█████████</td></tr><tr><td>train_loss</td><td>█▅▄▄▃▃▂▂▂▂▁▁▁▁▁▁▁▁▁▁▁▁</td></tr><tr><td>val_f1_score</td><td>▁▄▅▆▆▆▇▇▇▇▇▇███▇██████</td></tr><tr><td>val_loss</td><td>█▅▃▂▂▂▂▁▁▁▁▁▁▁▁▁▁▁▁▁▁▁</td></tr></table><br/></div><div class=\"wandb-col\"><h3>Run summary:</h3><br/><table class=\"wandb\"><tr><td>learning_rate</td><td>0.0</td></tr><tr><td>train_f1_score</td><td>0.66979</td></tr><tr><td>train_loss</td><td>0.73271</td></tr><tr><td>val_f1_score</td><td>0.5747</td></tr><tr><td>val_loss</td><td>0.94301</td></tr></table><br/></div></div>"
      ],
      "text/plain": [
       "<IPython.core.display.HTML object>"
      ]
     },
     "metadata": {},
     "output_type": "display_data"
    },
    {
     "data": {
      "text/html": [
       " View run <strong style=\"color:#cdcd00\">fold_2_RGB-RE-NIR-5species-combined_v2_plotsplit</strong> at: <a href='https://wandb.ai/simon-ecke/wze-uav-combined_v2/runs/m5h9h2pm' target=\"_blank\">https://wandb.ai/simon-ecke/wze-uav-combined_v2/runs/m5h9h2pm</a><br/>Synced 5 W&B file(s), 0 media file(s), 0 artifact file(s) and 0 other file(s)"
      ],
      "text/plain": [
       "<IPython.core.display.HTML object>"
      ]
     },
     "metadata": {},
     "output_type": "display_data"
    },
    {
     "data": {
      "text/html": [
       "Find logs at: <code>.\\wandb\\run-20230517_173827-m5h9h2pm\\logs</code>"
      ],
      "text/plain": [
       "<IPython.core.display.HTML object>"
      ]
     },
     "metadata": {},
     "output_type": "display_data"
    },
    {
     "name": "stdout",
     "output_type": "stream",
     "text": [
      "Deleting variables and emptying cache\n",
      "Memory allocated: 1054807040 bytes\n",
      "--------------------------------------------------\n",
      "\n",
      "Fold : 3\n",
      "TRAIN POSITIVE RATIO: 2.8065014074275854\n",
      "VAL POSITIVE RATIO  : 2.8190654205607477\n",
      "LENGTH TRAIN GROUPS : 158\n",
      "LENGTH VAL GROUPS   : 39\n"
     ]
    },
    {
     "data": {
      "text/html": [
       "wandb version 0.15.2 is available!  To upgrade, please run:\n",
       " $ pip install wandb --upgrade"
      ],
      "text/plain": [
       "<IPython.core.display.HTML object>"
      ]
     },
     "metadata": {},
     "output_type": "display_data"
    },
    {
     "data": {
      "text/html": [
       "Tracking run with wandb version 0.14.2"
      ],
      "text/plain": [
       "<IPython.core.display.HTML object>"
      ]
     },
     "metadata": {},
     "output_type": "display_data"
    },
    {
     "data": {
      "text/html": [
       "Run data is saved locally in <code>C:\\Users\\lwfeckesim\\01_PyTorch\\wze-uav\\wze-uav-master\\wandb\\run-20230517_192443-0jpm58wm</code>"
      ],
      "text/plain": [
       "<IPython.core.display.HTML object>"
      ]
     },
     "metadata": {},
     "output_type": "display_data"
    },
    {
     "data": {
      "text/html": [
       "Syncing run <strong><a href='https://wandb.ai/simon-ecke/wze-uav-combined_v2/runs/0jpm58wm' target=\"_blank\">fold_3_RGB-RE-NIR-5species-combined_v2_plotsplit</a></strong> to <a href='https://wandb.ai/simon-ecke/wze-uav-combined_v2' target=\"_blank\">Weights & Biases</a> (<a href='https://wandb.me/run' target=\"_blank\">docs</a>)<br/>"
      ],
      "text/plain": [
       "<IPython.core.display.HTML object>"
      ]
     },
     "metadata": {},
     "output_type": "display_data"
    },
    {
     "data": {
      "text/html": [
       " View project at <a href='https://wandb.ai/simon-ecke/wze-uav-combined_v2' target=\"_blank\">https://wandb.ai/simon-ecke/wze-uav-combined_v2</a>"
      ],
      "text/plain": [
       "<IPython.core.display.HTML object>"
      ]
     },
     "metadata": {},
     "output_type": "display_data"
    },
    {
     "data": {
      "text/html": [
       " View run at <a href='https://wandb.ai/simon-ecke/wze-uav-combined_v2/runs/0jpm58wm' target=\"_blank\">https://wandb.ai/simon-ecke/wze-uav-combined_v2/runs/0jpm58wm</a>"
      ],
      "text/plain": [
       "<IPython.core.display.HTML object>"
      ]
     },
     "metadata": {},
     "output_type": "display_data"
    },
    {
     "name": "stdout",
     "output_type": "stream",
     "text": [
      "There are no same hash_id values in train, val or test datasets. The datasplit was successful\n",
      "Check shapes:\n",
      "\n",
      "Images train dataset: (11013, 250, 250, 5)\n",
      "Labels train dataset: (11013, 1)\n",
      "\n",
      "Images validation dataset: (1001, 250, 250, 5)\n",
      "Labels validation dataset: (1001, 1)\n",
      "\n",
      "--------------------------------------------------\n",
      "Check if the split was stratified: (random_state=42)\n",
      "Picea abies healthy in train dataset: 2846\n",
      "Picea abies stressed in train dataset: 1621\n",
      "Pinus sylvestris healthy in train dataset: 1565\n",
      "Pinus sylvestris stressed in train dataset: 2038\n",
      "Abies alba healthy in train dataset: 383\n",
      "Abies alba stressed in train dataset: 131\n",
      "Fagus sylvatica healthy in train dataset: 810\n",
      "Fagus sylvatica stressed in train dataset: 637\n",
      "Quercus robur/petraea healthy in train dataset: 490\n",
      "Quercus robur/petraea stressed in train dataset: 303\n",
      "Dead trees in train dataset: 189\n",
      "Picea abies healthy in validation dataset: 320\n",
      "Picea abies stressed in validation dataset: 155\n",
      "Pinus sylvestris healthy in validation dataset: 123\n",
      "Pinus sylvestris stressed in validation dataset: 105\n",
      "Abies alba healthy in validation dataset: 23\n",
      "Abies alba stressed in validation dataset: 2\n",
      "Fagus sylvatica healthy in validation dataset: 72\n",
      "Fagus sylvatica stressed in validation dataset: 76\n",
      "Quercus robur/petraea healthy in validation dataset: 68\n",
      "Quercus robur/petraea stressed in validation dataset: 34\n",
      "Dead trees in validation dataset: 23\n",
      "--------------------------------------------------\n",
      "\n",
      "Creating datasets for fold: 3\n",
      "\n",
      "Creating dataloaders for fold: 3\n",
      "\n",
      "Loaded pretrained weights for efficientnet-b7\n",
      "\n",
      "[INFO] Fold number: 3\n",
      "[INFO] Number of epochs: 50\n",
      "[INFO] Batch_size: 32\n",
      "[INFO] Number of bands: 5\n",
      "[INFO] Dropout rate: 0.5\n",
      "[INFO] Gamma learning rate: 0.75\n",
      "[INFO] Memory allocated: 0 bytes\n"
     ]
    },
    {
     "data": {
      "application/vnd.jupyter.widget-view+json": {
       "model_id": "ff6b16dbc9a7420a93d729a20a182f2d",
       "version_major": 2,
       "version_minor": 0
      },
      "text/plain": [
       "  0%|          | 0/50 [00:00<?, ?it/s]"
      ]
     },
     "metadata": {},
     "output_type": "display_data"
    },
    {
     "name": "stdout",
     "output_type": "stream",
     "text": [
      "Epoch: 1 \n",
      "Learning rate: 0.001\n",
      "Train loss: 1.4666 | Train precision: 0.3500 | Train recall: 0.3237 | Train f1score: 0.3239 | Train acc: 0.4037 | Train kappa: 0.6710 \n",
      "Val loss: 2.3577 | Val precision: 0.2561 | Val recall: 0.1638 | Val f1score: 0.1367 | Val acc: 0.2883 | Val kappa: 0.2941 \n",
      "\n",
      "Epoch: 2 \n",
      "Learning rate: 0.00075\n",
      "Train loss: 1.1984 | Train precision: 0.4401 | Train recall: 0.4179 | Train f1score: 0.4216 | Train acc: 0.4825 | Train kappa: 0.7960 \n",
      "Val loss: 2.0952 | Val precision: 0.2441 | Val recall: 0.2482 | Val f1score: 0.2166 | Val acc: 0.4103 | Val kappa: 0.3775 \n",
      "\n",
      "Epoch: 3 \n",
      "Learning rate: 0.0005625000000000001\n",
      "Train loss: 1.0952 | Train precision: 0.5017 | Train recall: 0.4718 | Train f1score: 0.4782 | Train acc: 0.5240 | Train kappa: 0.8318 \n",
      "Val loss: 1.1423 | Val precision: 0.4831 | Val recall: 0.4601 | Val f1score: 0.4444 | Val acc: 0.5151 | Val kappa: 0.7901 \n",
      "\n",
      "Epoch: 4 \n",
      "Learning rate: 0.000421875\n",
      "Train loss: 1.0076 | Train precision: 0.5425 | Train recall: 0.5162 | Train f1score: 0.5223 | Train acc: 0.5526 | Train kappa: 0.8611 \n",
      "Val loss: 1.0404 | Val precision: 0.5817 | Val recall: 0.4832 | Val f1score: 0.4842 | Val acc: 0.5635 | Val kappa: 0.7965 \n",
      "\n",
      "Epoch: 5 \n",
      "Learning rate: 0.00031640625\n",
      "Train loss: 0.9537 | Train precision: 0.5665 | Train recall: 0.5438 | Train f1score: 0.5498 | Train acc: 0.5763 | Train kappa: 0.8783 \n",
      "Val loss: 0.9559 | Val precision: 0.5299 | Val recall: 0.5929 | Val f1score: 0.5353 | Val acc: 0.5877 | Val kappa: 0.8745 \n",
      "\n",
      "Epoch: 6 \n",
      "Learning rate: 0.0002373046875\n",
      "Train loss: 0.9128 | Train precision: 0.6025 | Train recall: 0.5839 | Train f1score: 0.5891 | Train acc: 0.5994 | Train kappa: 0.8926 \n",
      "Val loss: 1.0097 | Val precision: 0.5291 | Val recall: 0.5605 | Val f1score: 0.4948 | Val acc: 0.5857 | Val kappa: 0.8521 \n",
      "\n",
      "Epoch: 7 \n",
      "Learning rate: 0.000177978515625\n",
      "Train loss: 0.8724 | Train precision: 0.6128 | Train recall: 0.5837 | Train f1score: 0.5916 | Train acc: 0.6080 | Train kappa: 0.8948 \n",
      "Val loss: 0.9135 | Val precision: 0.5646 | Val recall: 0.6386 | Val f1score: 0.5644 | Val acc: 0.5938 | Val kappa: 0.8910 \n",
      "\n",
      "Epoch: 8 \n",
      "Learning rate: 0.00013348388671875\n",
      "Train loss: 0.8429 | Train precision: 0.6333 | Train recall: 0.6123 | Train f1score: 0.6194 | Train acc: 0.6224 | Train kappa: 0.9056 \n",
      "Val loss: 0.8784 | Val precision: 0.5692 | Val recall: 0.5647 | Val f1score: 0.5410 | Val acc: 0.6058 | Val kappa: 0.8908 \n",
      "\n",
      "Epoch: 9 \n",
      "Learning rate: 0.0001001129150390625\n",
      "Train loss: 0.8167 | Train precision: 0.6445 | Train recall: 0.6163 | Train f1score: 0.6255 | Train acc: 0.6350 | Train kappa: 0.9093 \n",
      "Val loss: 0.8676 | Val precision: 0.5621 | Val recall: 0.6137 | Val f1score: 0.5532 | Val acc: 0.6169 | Val kappa: 0.9012 \n",
      "\n",
      "Epoch: 10 \n",
      "Learning rate: 7.508468627929687e-05\n",
      "Train loss: 0.8001 | Train precision: 0.6576 | Train recall: 0.6347 | Train f1score: 0.6428 | Train acc: 0.6395 | Train kappa: 0.9126 \n",
      "Val loss: 0.8625 | Val precision: 0.5731 | Val recall: 0.5779 | Val f1score: 0.5603 | Val acc: 0.6179 | Val kappa: 0.9030 \n",
      "\n",
      "Epoch: 11 \n",
      "Learning rate: 5.6313514709472656e-05\n",
      "Train loss: 0.7989 | Train precision: 0.6624 | Train recall: 0.6302 | Train f1score: 0.6408 | Train acc: 0.6399 | Train kappa: 0.9144 \n",
      "Val loss: 0.8345 | Val precision: 0.5935 | Val recall: 0.5961 | Val f1score: 0.5869 | Val acc: 0.6401 | Val kappa: 0.9051 \n",
      "\n",
      "Epoch: 12 \n",
      "Learning rate: 4.223513603210449e-05\n",
      "Train loss: 0.7730 | Train precision: 0.6749 | Train recall: 0.6488 | Train f1score: 0.6571 | Train acc: 0.6576 | Train kappa: 0.9221 \n",
      "Val loss: 0.8417 | Val precision: 0.6051 | Val recall: 0.5684 | Val f1score: 0.5777 | Val acc: 0.6169 | Val kappa: 0.9051 \n",
      "\n",
      "Epoch: 13 \n",
      "Learning rate: 3.167635202407837e-05\n",
      "Train loss: 0.7616 | Train precision: 0.6787 | Train recall: 0.6521 | Train f1score: 0.6623 | Train acc: 0.6567 | Train kappa: 0.9220 \n",
      "Val loss: 0.8430 | Val precision: 0.5807 | Val recall: 0.6227 | Val f1score: 0.5850 | Val acc: 0.6210 | Val kappa: 0.9073 \n",
      "\n",
      "Epoch: 14 \n",
      "Learning rate: 2.3757264018058778e-05\n",
      "Train loss: 0.7523 | Train precision: 0.6817 | Train recall: 0.6615 | Train f1score: 0.6686 | Train acc: 0.6616 | Train kappa: 0.9269 \n",
      "Val loss: 0.8338 | Val precision: 0.5811 | Val recall: 0.5846 | Val f1score: 0.5709 | Val acc: 0.6310 | Val kappa: 0.9120 \n",
      "\n",
      "Epoch: 15 \n",
      "Learning rate: 1.7817948013544083e-05\n",
      "Train loss: 0.7521 | Train precision: 0.6789 | Train recall: 0.6534 | Train f1score: 0.6623 | Train acc: 0.6593 | Train kappa: 0.9274 \n",
      "Val loss: 0.8534 | Val precision: 0.5935 | Val recall: 0.5753 | Val f1score: 0.5736 | Val acc: 0.6230 | Val kappa: 0.9043 \n",
      "\n",
      "Epoch: 16 \n",
      "Learning rate: 1.3363461010158063e-05\n",
      "Train loss: 0.7396 | Train precision: 0.6956 | Train recall: 0.6715 | Train f1score: 0.6799 | Train acc: 0.6679 | Train kappa: 0.9325 \n",
      "Val loss: 0.8456 | Val precision: 0.5928 | Val recall: 0.5815 | Val f1score: 0.5797 | Val acc: 0.6331 | Val kappa: 0.9085 \n",
      "\n",
      "Epoch: 17 \n",
      "Learning rate: 1.0022595757618546e-05\n",
      "Train loss: 0.7497 | Train precision: 0.6801 | Train recall: 0.6611 | Train f1score: 0.6677 | Train acc: 0.6579 | Train kappa: 0.9297 \n",
      "Val loss: 0.8491 | Val precision: 0.5776 | Val recall: 0.5672 | Val f1score: 0.5624 | Val acc: 0.6240 | Val kappa: 0.9017 \n",
      "\n",
      "Epoch: 18 \n",
      "Learning rate: 7.51694681821391e-06\n",
      "Train loss: 0.7425 | Train precision: 0.6859 | Train recall: 0.6612 | Train f1score: 0.6707 | Train acc: 0.6615 | Train kappa: 0.9272 \n",
      "Val loss: 0.8492 | Val precision: 0.5741 | Val recall: 0.5688 | Val f1score: 0.5623 | Val acc: 0.6210 | Val kappa: 0.9043 \n",
      "\n",
      "Epoch: 19 \n",
      "Learning rate: 5.637710113660432e-06\n",
      "Train loss: 0.7360 | Train precision: 0.6911 | Train recall: 0.6682 | Train f1score: 0.6766 | Train acc: 0.6663 | Train kappa: 0.9299 \n",
      "Val loss: 0.8468 | Val precision: 0.5869 | Val recall: 0.5795 | Val f1score: 0.5763 | Val acc: 0.6260 | Val kappa: 0.9037 \n",
      "\n",
      "Epoch: 20 \n",
      "Learning rate: 4.228282585245324e-06\n",
      "Train loss: 0.7300 | Train precision: 0.6883 | Train recall: 0.6667 | Train f1score: 0.6732 | Train acc: 0.6642 | Train kappa: 0.9331 \n",
      "Val loss: 0.8439 | Val precision: 0.5834 | Val recall: 0.5786 | Val f1score: 0.5716 | Val acc: 0.6331 | Val kappa: 0.9043 \n",
      "\n",
      "Epoch: 21 \n",
      "Learning rate: 3.1712119389339933e-06\n",
      "Train loss: 0.7405 | Train precision: 0.6880 | Train recall: 0.6558 | Train f1score: 0.6673 | Train acc: 0.6614 | Train kappa: 0.9286 \n",
      "Val loss: 0.8414 | Val precision: 0.5829 | Val recall: 0.5753 | Val f1score: 0.5699 | Val acc: 0.6280 | Val kappa: 0.9036 \n",
      "\n",
      "Epoch: 22 \n",
      "Learning rate: 2.378408954200495e-06\n",
      "Train loss: 0.7441 | Train precision: 0.6927 | Train recall: 0.6660 | Train f1score: 0.6760 | Train acc: 0.6619 | Train kappa: 0.9271 \n",
      "Val loss: 0.8441 | Val precision: 0.5892 | Val recall: 0.5756 | Val f1score: 0.5753 | Val acc: 0.6250 | Val kappa: 0.9039 \n",
      "\n",
      "Epoch: 23 \n",
      "Learning rate: 1.7838067156503713e-06\n",
      "Train loss: 0.7385 | Train precision: 0.6888 | Train recall: 0.6645 | Train f1score: 0.6730 | Train acc: 0.6655 | Train kappa: 0.9323 \n",
      "Val loss: 0.8432 | Val precision: 0.5887 | Val recall: 0.5757 | Val f1score: 0.5743 | Val acc: 0.6260 | Val kappa: 0.8980 \n",
      "\n",
      "Epoch: 24 \n",
      "Learning rate: 1.3378550367377785e-06\n",
      "Train loss: 0.7372 | Train precision: 0.6955 | Train recall: 0.6664 | Train f1score: 0.6775 | Train acc: 0.6649 | Train kappa: 0.9294 \n",
      "Val loss: 0.8443 | Val precision: 0.5829 | Val recall: 0.5751 | Val f1score: 0.5722 | Val acc: 0.6220 | Val kappa: 0.9005 \n",
      "\n",
      "Early stopping after epoch 24\n"
     ]
    },
    {
     "data": {
      "text/html": [
       "Waiting for W&B process to finish... <strong style=\"color:green\">(success).</strong>"
      ],
      "text/plain": [
       "<IPython.core.display.HTML object>"
      ]
     },
     "metadata": {},
     "output_type": "display_data"
    },
    {
     "data": {
      "application/vnd.jupyter.widget-view+json": {
       "model_id": "3ad5dc3a36624f8ab312bb3976abc9f1",
       "version_major": 2,
       "version_minor": 0
      },
      "text/plain": [
       "VBox(children=(Label(value='0.001 MB of 0.001 MB uploaded (0.000 MB deduped)\\r'), FloatProgress(value=1.0, max…"
      ]
     },
     "metadata": {},
     "output_type": "display_data"
    },
    {
     "data": {
      "text/html": [
       "<style>\n",
       "    table.wandb td:nth-child(1) { padding: 0 10px; text-align: left ; width: auto;} td:nth-child(2) {text-align: left ; width: 100%}\n",
       "    .wandb-row { display: flex; flex-direction: row; flex-wrap: wrap; justify-content: flex-start; width: 100% }\n",
       "    .wandb-col { display: flex; flex-direction: column; flex-basis: 100%; flex: 1; padding: 10px; }\n",
       "    </style>\n",
       "<div class=\"wandb-row\"><div class=\"wandb-col\"><h3>Run history:</h3><br/><table class=\"wandb\"><tr><td>learning_rate</td><td>█▆▅▄▃▃▂▂▂▂▁▁▁▁▁▁▁▁▁▁▁▁▁▁</td></tr><tr><td>train_f1_score</td><td>▁▃▄▅▅▆▆▇▇▇▇█████████████</td></tr><tr><td>train_loss</td><td>█▅▄▄▃▃▂▂▂▂▂▁▁▁▁▁▁▁▁▁▁▁▁▁</td></tr><tr><td>val_f1_score</td><td>▁▂▆▆▇▇█▇▇███████████████</td></tr><tr><td>val_loss</td><td>█▇▂▂▂▂▁▁▁▁▁▁▁▁▁▁▁▁▁▁▁▁▁▁</td></tr></table><br/></div><div class=\"wandb-col\"><h3>Run summary:</h3><br/><table class=\"wandb\"><tr><td>learning_rate</td><td>0.0</td></tr><tr><td>train_f1_score</td><td>0.67751</td></tr><tr><td>train_loss</td><td>0.73716</td></tr><tr><td>val_f1_score</td><td>0.57216</td></tr><tr><td>val_loss</td><td>0.84431</td></tr></table><br/></div></div>"
      ],
      "text/plain": [
       "<IPython.core.display.HTML object>"
      ]
     },
     "metadata": {},
     "output_type": "display_data"
    },
    {
     "data": {
      "text/html": [
       " View run <strong style=\"color:#cdcd00\">fold_3_RGB-RE-NIR-5species-combined_v2_plotsplit</strong> at: <a href='https://wandb.ai/simon-ecke/wze-uav-combined_v2/runs/0jpm58wm' target=\"_blank\">https://wandb.ai/simon-ecke/wze-uav-combined_v2/runs/0jpm58wm</a><br/>Synced 5 W&B file(s), 0 media file(s), 0 artifact file(s) and 0 other file(s)"
      ],
      "text/plain": [
       "<IPython.core.display.HTML object>"
      ]
     },
     "metadata": {},
     "output_type": "display_data"
    },
    {
     "data": {
      "text/html": [
       "Find logs at: <code>.\\wandb\\run-20230517_192443-0jpm58wm\\logs</code>"
      ],
      "text/plain": [
       "<IPython.core.display.HTML object>"
      ]
     },
     "metadata": {},
     "output_type": "display_data"
    },
    {
     "name": "stdout",
     "output_type": "stream",
     "text": [
      "Deleting variables and emptying cache\n",
      "Memory allocated: 1052865536 bytes\n",
      "--------------------------------------------------\n",
      "\n",
      "Fold : 4\n",
      "TRAIN POSITIVE RATIO: 2.738104089219331\n",
      "VAL POSITIVE RATIO  : 3.0693306010928962\n",
      "LENGTH TRAIN GROUPS : 156\n",
      "LENGTH VAL GROUPS   : 41\n"
     ]
    },
    {
     "data": {
      "text/html": [
       "wandb version 0.15.2 is available!  To upgrade, please run:\n",
       " $ pip install wandb --upgrade"
      ],
      "text/plain": [
       "<IPython.core.display.HTML object>"
      ]
     },
     "metadata": {},
     "output_type": "display_data"
    },
    {
     "data": {
      "text/html": [
       "Tracking run with wandb version 0.14.2"
      ],
      "text/plain": [
       "<IPython.core.display.HTML object>"
      ]
     },
     "metadata": {},
     "output_type": "display_data"
    },
    {
     "data": {
      "text/html": [
       "Run data is saved locally in <code>C:\\Users\\lwfeckesim\\01_PyTorch\\wze-uav\\wze-uav-master\\wandb\\run-20230517_211733-1wajp9rv</code>"
      ],
      "text/plain": [
       "<IPython.core.display.HTML object>"
      ]
     },
     "metadata": {},
     "output_type": "display_data"
    },
    {
     "data": {
      "text/html": [
       "Syncing run <strong><a href='https://wandb.ai/simon-ecke/wze-uav-combined_v2/runs/1wajp9rv' target=\"_blank\">fold_4_RGB-RE-NIR-5species-combined_v2_plotsplit</a></strong> to <a href='https://wandb.ai/simon-ecke/wze-uav-combined_v2' target=\"_blank\">Weights & Biases</a> (<a href='https://wandb.me/run' target=\"_blank\">docs</a>)<br/>"
      ],
      "text/plain": [
       "<IPython.core.display.HTML object>"
      ]
     },
     "metadata": {},
     "output_type": "display_data"
    },
    {
     "data": {
      "text/html": [
       " View project at <a href='https://wandb.ai/simon-ecke/wze-uav-combined_v2' target=\"_blank\">https://wandb.ai/simon-ecke/wze-uav-combined_v2</a>"
      ],
      "text/plain": [
       "<IPython.core.display.HTML object>"
      ]
     },
     "metadata": {},
     "output_type": "display_data"
    },
    {
     "data": {
      "text/html": [
       " View run at <a href='https://wandb.ai/simon-ecke/wze-uav-combined_v2/runs/1wajp9rv' target=\"_blank\">https://wandb.ai/simon-ecke/wze-uav-combined_v2/runs/1wajp9rv</a>"
      ],
      "text/plain": [
       "<IPython.core.display.HTML object>"
      ]
     },
     "metadata": {},
     "output_type": "display_data"
    },
    {
     "name": "stdout",
     "output_type": "stream",
     "text": [
      "There are no same hash_id values in train, val or test datasets. The datasplit was successful\n",
      "Check shapes:\n",
      "\n",
      "Images train dataset: (10760, 250, 250, 5)\n",
      "Labels train dataset: (10760, 1)\n",
      "\n",
      "Images validation dataset: (1020, 250, 250, 5)\n",
      "Labels validation dataset: (1020, 1)\n",
      "\n",
      "--------------------------------------------------\n",
      "Check if the split was stratified: (random_state=42)\n",
      "Picea abies healthy in train dataset: 2982\n",
      "Picea abies stressed in train dataset: 1660\n",
      "Pinus sylvestris healthy in train dataset: 1456\n",
      "Pinus sylvestris stressed in train dataset: 1795\n",
      "Abies alba healthy in train dataset: 361\n",
      "Abies alba stressed in train dataset: 132\n",
      "Fagus sylvatica healthy in train dataset: 843\n",
      "Fagus sylvatica stressed in train dataset: 539\n",
      "Quercus robur/petraea healthy in train dataset: 519\n",
      "Quercus robur/petraea stressed in train dataset: 312\n",
      "Dead trees in train dataset: 161\n",
      "Picea abies healthy in validation dataset: 263\n",
      "Picea abies stressed in validation dataset: 112\n",
      "Pinus sylvestris healthy in validation dataset: 176\n",
      "Pinus sylvestris stressed in validation dataset: 164\n",
      "Abies alba healthy in validation dataset: 29\n",
      "Abies alba stressed in validation dataset: 3\n",
      "Fagus sylvatica healthy in validation dataset: 73\n",
      "Fagus sylvatica stressed in validation dataset: 95\n",
      "Quercus robur/petraea healthy in validation dataset: 49\n",
      "Quercus robur/petraea stressed in validation dataset: 25\n",
      "Dead trees in validation dataset: 31\n",
      "--------------------------------------------------\n",
      "\n",
      "Creating datasets for fold: 4\n",
      "\n",
      "Creating dataloaders for fold: 4\n",
      "\n",
      "Loaded pretrained weights for efficientnet-b7\n",
      "\n",
      "[INFO] Fold number: 4\n",
      "[INFO] Number of epochs: 50\n",
      "[INFO] Batch_size: 32\n",
      "[INFO] Number of bands: 5\n",
      "[INFO] Dropout rate: 0.5\n",
      "[INFO] Gamma learning rate: 0.75\n",
      "[INFO] Memory allocated: 0 bytes\n"
     ]
    },
    {
     "data": {
      "application/vnd.jupyter.widget-view+json": {
       "model_id": "95be906694994f55b866fa87a8313086",
       "version_major": 2,
       "version_minor": 0
      },
      "text/plain": [
       "  0%|          | 0/50 [00:00<?, ?it/s]"
      ]
     },
     "metadata": {},
     "output_type": "display_data"
    },
    {
     "name": "stdout",
     "output_type": "stream",
     "text": [
      "Epoch: 1 \n",
      "Learning rate: 0.001\n",
      "Train loss: 1.5187 | Train precision: 0.3253 | Train recall: 0.3055 | Train f1score: 0.3066 | Train acc: 0.4006 | Train kappa: 0.6570 \n",
      "Val loss: 1.9247 | Val precision: 0.1499 | Val recall: 0.1680 | Val f1score: 0.1389 | Val acc: 0.3579 | Val kappa: 0.2782 \n",
      "\n",
      "Epoch: 2 \n",
      "Learning rate: 0.00075\n",
      "Train loss: 1.2027 | Train precision: 0.4632 | Train recall: 0.4280 | Train f1score: 0.4360 | Train acc: 0.4852 | Train kappa: 0.7952 \n",
      "Val loss: 1.8854 | Val precision: 0.3937 | Val recall: 0.3396 | Val f1score: 0.2824 | Val acc: 0.3236 | Val kappa: 0.5330 \n",
      "\n",
      "Epoch: 3 \n",
      "Learning rate: 0.0005625000000000001\n",
      "Train loss: 1.0804 | Train precision: 0.5208 | Train recall: 0.4878 | Train f1score: 0.4972 | Train acc: 0.5333 | Train kappa: 0.8342 \n",
      "Val loss: 1.2699 | Val precision: 0.4476 | Val recall: 0.4283 | Val f1score: 0.3940 | Val acc: 0.4577 | Val kappa: 0.7892 \n",
      "\n",
      "Epoch: 4 \n",
      "Learning rate: 0.000421875\n",
      "Train loss: 0.9833 | Train precision: 0.5740 | Train recall: 0.5412 | Train f1score: 0.5517 | Train acc: 0.5721 | Train kappa: 0.8768 \n",
      "Val loss: 1.3064 | Val precision: 0.4374 | Val recall: 0.4511 | Val f1score: 0.4188 | Val acc: 0.4960 | Val kappa: 0.7942 \n",
      "\n",
      "Epoch: 5 \n",
      "Learning rate: 0.00031640625\n",
      "Train loss: 0.9275 | Train precision: 0.5976 | Train recall: 0.5709 | Train f1score: 0.5795 | Train acc: 0.6002 | Train kappa: 0.8870 \n",
      "Val loss: 1.1970 | Val precision: 0.4849 | Val recall: 0.5137 | Val f1score: 0.4561 | Val acc: 0.4919 | Val kappa: 0.8587 \n",
      "\n",
      "Epoch: 6 \n",
      "Learning rate: 0.0002373046875\n",
      "Train loss: 0.9020 | Train precision: 0.6162 | Train recall: 0.5785 | Train f1score: 0.5907 | Train acc: 0.6097 | Train kappa: 0.8872 \n",
      "Val loss: 1.0368 | Val precision: 0.5252 | Val recall: 0.5885 | Val f1score: 0.5230 | Val acc: 0.5706 | Val kappa: 0.8826 \n",
      "\n",
      "Epoch: 7 \n",
      "Learning rate: 0.000177978515625\n",
      "Train loss: 0.8485 | Train precision: 0.6429 | Train recall: 0.6098 | Train f1score: 0.6204 | Train acc: 0.6320 | Train kappa: 0.9112 \n",
      "Val loss: 0.9981 | Val precision: 0.5090 | Val recall: 0.5078 | Val f1score: 0.4999 | Val acc: 0.5615 | Val kappa: 0.8884 \n",
      "\n",
      "Epoch: 8 \n",
      "Learning rate: 0.00013348388671875\n",
      "Train loss: 0.8465 | Train precision: 0.6281 | Train recall: 0.5996 | Train f1score: 0.6093 | Train acc: 0.6320 | Train kappa: 0.9085 \n",
      "Val loss: 0.9570 | Val precision: 0.5338 | Val recall: 0.5380 | Val f1score: 0.5253 | Val acc: 0.5968 | Val kappa: 0.8880 \n",
      "\n",
      "Epoch: 9 \n",
      "Learning rate: 0.0001001129150390625\n",
      "Train loss: 0.8144 | Train precision: 0.6645 | Train recall: 0.6316 | Train f1score: 0.6438 | Train acc: 0.6432 | Train kappa: 0.9172 \n",
      "Val loss: 0.9550 | Val precision: 0.5106 | Val recall: 0.5867 | Val f1score: 0.5226 | Val acc: 0.5877 | Val kappa: 0.9031 \n",
      "\n",
      "Epoch: 10 \n",
      "Learning rate: 7.508468627929687e-05\n",
      "Train loss: 0.7866 | Train precision: 0.6662 | Train recall: 0.6390 | Train f1score: 0.6492 | Train acc: 0.6530 | Train kappa: 0.9223 \n",
      "Val loss: 0.9508 | Val precision: 0.5622 | Val recall: 0.5918 | Val f1score: 0.5703 | Val acc: 0.5968 | Val kappa: 0.9005 \n",
      "\n",
      "Epoch: 11 \n",
      "Learning rate: 5.6313514709472656e-05\n",
      "Train loss: 0.7927 | Train precision: 0.6607 | Train recall: 0.6307 | Train f1score: 0.6422 | Train acc: 0.6482 | Train kappa: 0.9187 \n",
      "Val loss: 0.9250 | Val precision: 0.5689 | Val recall: 0.5968 | Val f1score: 0.5718 | Val acc: 0.5998 | Val kappa: 0.9117 \n",
      "\n",
      "Epoch: 12 \n",
      "Learning rate: 4.223513603210449e-05\n",
      "Train loss: 0.7714 | Train precision: 0.6674 | Train recall: 0.6446 | Train f1score: 0.6533 | Train acc: 0.6522 | Train kappa: 0.9243 \n",
      "Val loss: 0.9691 | Val precision: 0.5526 | Val recall: 0.5911 | Val f1score: 0.5592 | Val acc: 0.6109 | Val kappa: 0.9019 \n",
      "\n",
      "Epoch: 13 \n",
      "Learning rate: 3.167635202407837e-05\n",
      "Train loss: 0.7526 | Train precision: 0.6811 | Train recall: 0.6542 | Train f1score: 0.6636 | Train acc: 0.6611 | Train kappa: 0.9312 \n",
      "Val loss: 0.9572 | Val precision: 0.5401 | Val recall: 0.5857 | Val f1score: 0.5512 | Val acc: 0.5877 | Val kappa: 0.9064 \n",
      "\n",
      "Epoch: 14 \n",
      "Learning rate: 2.3757264018058778e-05\n",
      "Train loss: 0.7433 | Train precision: 0.6840 | Train recall: 0.6544 | Train f1score: 0.6658 | Train acc: 0.6673 | Train kappa: 0.9268 \n",
      "Val loss: 0.9545 | Val precision: 0.5753 | Val recall: 0.6302 | Val f1score: 0.5888 | Val acc: 0.6058 | Val kappa: 0.9117 \n",
      "\n",
      "Epoch: 15 \n",
      "Learning rate: 1.7817948013544083e-05\n",
      "Train loss: 0.7383 | Train precision: 0.6870 | Train recall: 0.6576 | Train f1score: 0.6680 | Train acc: 0.6702 | Train kappa: 0.9288 \n",
      "Val loss: 0.9380 | Val precision: 0.5573 | Val recall: 0.5916 | Val f1score: 0.5651 | Val acc: 0.6018 | Val kappa: 0.9115 \n",
      "\n",
      "Epoch: 16 \n",
      "Learning rate: 1.3363461010158063e-05\n",
      "Train loss: 0.7360 | Train precision: 0.6858 | Train recall: 0.6600 | Train f1score: 0.6697 | Train acc: 0.6709 | Train kappa: 0.9311 \n",
      "Val loss: 0.9597 | Val precision: 0.5720 | Val recall: 0.6278 | Val f1score: 0.5858 | Val acc: 0.6079 | Val kappa: 0.9145 \n",
      "\n",
      "Epoch: 17 \n",
      "Learning rate: 1.0022595757618546e-05\n",
      "Train loss: 0.7553 | Train precision: 0.6878 | Train recall: 0.6611 | Train f1score: 0.6719 | Train acc: 0.6669 | Train kappa: 0.9260 \n",
      "Val loss: 0.9476 | Val precision: 0.5641 | Val recall: 0.5956 | Val f1score: 0.5697 | Val acc: 0.6038 | Val kappa: 0.9140 \n",
      "\n",
      "Epoch: 18 \n",
      "Learning rate: 7.51694681821391e-06\n",
      "Train loss: 0.7360 | Train precision: 0.6940 | Train recall: 0.6657 | Train f1score: 0.6765 | Train acc: 0.6783 | Train kappa: 0.9282 \n",
      "Val loss: 0.9375 | Val precision: 0.5716 | Val recall: 0.6034 | Val f1score: 0.5793 | Val acc: 0.6038 | Val kappa: 0.9190 \n",
      "\n",
      "Epoch: 19 \n",
      "Learning rate: 5.637710113660432e-06\n",
      "Train loss: 0.7185 | Train precision: 0.6956 | Train recall: 0.6677 | Train f1score: 0.6777 | Train acc: 0.6790 | Train kappa: 0.9348 \n",
      "Val loss: 0.9380 | Val precision: 0.5636 | Val recall: 0.5923 | Val f1score: 0.5712 | Val acc: 0.6018 | Val kappa: 0.9131 \n",
      "\n",
      "Epoch: 20 \n",
      "Learning rate: 4.228282585245324e-06\n",
      "Train loss: 0.7233 | Train precision: 0.6925 | Train recall: 0.6665 | Train f1score: 0.6763 | Train acc: 0.6775 | Train kappa: 0.9352 \n",
      "Val loss: 0.9405 | Val precision: 0.5699 | Val recall: 0.6049 | Val f1score: 0.5801 | Val acc: 0.6129 | Val kappa: 0.9168 \n",
      "\n",
      "Epoch: 21 \n",
      "Learning rate: 3.1712119389339933e-06\n",
      "Train loss: 0.7276 | Train precision: 0.6993 | Train recall: 0.6732 | Train f1score: 0.6831 | Train acc: 0.6757 | Train kappa: 0.9345 \n",
      "Val loss: 0.9384 | Val precision: 0.5646 | Val recall: 0.5958 | Val f1score: 0.5735 | Val acc: 0.6008 | Val kappa: 0.9123 \n",
      "\n",
      "Early stopping after epoch 21\n"
     ]
    },
    {
     "data": {
      "text/html": [
       "Waiting for W&B process to finish... <strong style=\"color:green\">(success).</strong>"
      ],
      "text/plain": [
       "<IPython.core.display.HTML object>"
      ]
     },
     "metadata": {},
     "output_type": "display_data"
    },
    {
     "data": {
      "application/vnd.jupyter.widget-view+json": {
       "model_id": "8e843426fb4a4ff3a35cd4ac25212a82",
       "version_major": 2,
       "version_minor": 0
      },
      "text/plain": [
       "VBox(children=(Label(value='0.001 MB of 0.001 MB uploaded (0.000 MB deduped)\\r'), FloatProgress(value=1.0, max…"
      ]
     },
     "metadata": {},
     "output_type": "display_data"
    },
    {
     "data": {
      "text/html": [
       "<style>\n",
       "    table.wandb td:nth-child(1) { padding: 0 10px; text-align: left ; width: auto;} td:nth-child(2) {text-align: left ; width: 100%}\n",
       "    .wandb-row { display: flex; flex-direction: row; flex-wrap: wrap; justify-content: flex-start; width: 100% }\n",
       "    .wandb-col { display: flex; flex-direction: column; flex-basis: 100%; flex: 1; padding: 10px; }\n",
       "    </style>\n",
       "<div class=\"wandb-row\"><div class=\"wandb-col\"><h3>Run history:</h3><br/><table class=\"wandb\"><tr><td>learning_rate</td><td>█▆▅▄▃▃▂▂▂▂▁▁▁▁▁▁▁▁▁▁▁</td></tr><tr><td>train_f1_score</td><td>▁▃▅▆▆▆▇▇▇▇▇▇█████████</td></tr><tr><td>train_loss</td><td>█▅▄▃▃▃▂▂▂▂▂▁▁▁▁▁▁▁▁▁▁</td></tr><tr><td>val_f1_score</td><td>▁▃▅▅▆▇▇▇▇███▇████████</td></tr><tr><td>val_loss</td><td>██▃▄▃▂▂▁▁▁▁▁▁▁▁▁▁▁▁▁▁</td></tr></table><br/></div><div class=\"wandb-col\"><h3>Run summary:</h3><br/><table class=\"wandb\"><tr><td>learning_rate</td><td>0.0</td></tr><tr><td>train_f1_score</td><td>0.6831</td></tr><tr><td>train_loss</td><td>0.72756</td></tr><tr><td>val_f1_score</td><td>0.57349</td></tr><tr><td>val_loss</td><td>0.93838</td></tr></table><br/></div></div>"
      ],
      "text/plain": [
       "<IPython.core.display.HTML object>"
      ]
     },
     "metadata": {},
     "output_type": "display_data"
    },
    {
     "data": {
      "text/html": [
       " View run <strong style=\"color:#cdcd00\">fold_4_RGB-RE-NIR-5species-combined_v2_plotsplit</strong> at: <a href='https://wandb.ai/simon-ecke/wze-uav-combined_v2/runs/1wajp9rv' target=\"_blank\">https://wandb.ai/simon-ecke/wze-uav-combined_v2/runs/1wajp9rv</a><br/>Synced 5 W&B file(s), 0 media file(s), 0 artifact file(s) and 0 other file(s)"
      ],
      "text/plain": [
       "<IPython.core.display.HTML object>"
      ]
     },
     "metadata": {},
     "output_type": "display_data"
    },
    {
     "data": {
      "text/html": [
       "Find logs at: <code>.\\wandb\\run-20230517_211733-1wajp9rv\\logs</code>"
      ],
      "text/plain": [
       "<IPython.core.display.HTML object>"
      ]
     },
     "metadata": {},
     "output_type": "display_data"
    },
    {
     "name": "stdout",
     "output_type": "stream",
     "text": [
      "Deleting variables and emptying cache\n",
      "Memory allocated: 1054688256 bytes\n",
      "--------------------------------------------------\n",
      "\n",
      "Fold : 5\n",
      "TRAIN POSITIVE RATIO: 2.8369655172413792\n",
      "VAL POSITIVE RATIO  : 2.700675435478137\n",
      "LENGTH TRAIN GROUPS : 157\n",
      "LENGTH VAL GROUPS   : 40\n"
     ]
    },
    {
     "data": {
      "application/vnd.jupyter.widget-view+json": {
       "model_id": "9c56e71fba304d77a51dabef23ed3977",
       "version_major": 2,
       "version_minor": 0
      },
      "text/plain": [
       "VBox(children=(Label(value='Waiting for wandb.init()...\\r'), FloatProgress(value=0.016666666666666666, max=1.0…"
      ]
     },
     "metadata": {},
     "output_type": "display_data"
    },
    {
     "data": {
      "text/html": [
       "wandb version 0.15.2 is available!  To upgrade, please run:\n",
       " $ pip install wandb --upgrade"
      ],
      "text/plain": [
       "<IPython.core.display.HTML object>"
      ]
     },
     "metadata": {},
     "output_type": "display_data"
    },
    {
     "data": {
      "text/html": [
       "Tracking run with wandb version 0.14.2"
      ],
      "text/plain": [
       "<IPython.core.display.HTML object>"
      ]
     },
     "metadata": {},
     "output_type": "display_data"
    },
    {
     "data": {
      "text/html": [
       "Run data is saved locally in <code>C:\\Users\\lwfeckesim\\01_PyTorch\\wze-uav\\wze-uav-master\\wandb\\run-20230517_225420-b57c1cev</code>"
      ],
      "text/plain": [
       "<IPython.core.display.HTML object>"
      ]
     },
     "metadata": {},
     "output_type": "display_data"
    },
    {
     "data": {
      "text/html": [
       "Syncing run <strong><a href='https://wandb.ai/simon-ecke/wze-uav-combined_v2/runs/b57c1cev' target=\"_blank\">fold_5_RGB-RE-NIR-5species-combined_v2_plotsplit</a></strong> to <a href='https://wandb.ai/simon-ecke/wze-uav-combined_v2' target=\"_blank\">Weights & Biases</a> (<a href='https://wandb.me/run' target=\"_blank\">docs</a>)<br/>"
      ],
      "text/plain": [
       "<IPython.core.display.HTML object>"
      ]
     },
     "metadata": {},
     "output_type": "display_data"
    },
    {
     "data": {
      "text/html": [
       " View project at <a href='https://wandb.ai/simon-ecke/wze-uav-combined_v2' target=\"_blank\">https://wandb.ai/simon-ecke/wze-uav-combined_v2</a>"
      ],
      "text/plain": [
       "<IPython.core.display.HTML object>"
      ]
     },
     "metadata": {},
     "output_type": "display_data"
    },
    {
     "data": {
      "text/html": [
       " View run at <a href='https://wandb.ai/simon-ecke/wze-uav-combined_v2/runs/b57c1cev' target=\"_blank\">https://wandb.ai/simon-ecke/wze-uav-combined_v2/runs/b57c1cev</a>"
      ],
      "text/plain": [
       "<IPython.core.display.HTML object>"
      ]
     },
     "metadata": {},
     "output_type": "display_data"
    },
    {
     "name": "stdout",
     "output_type": "stream",
     "text": [
      "There are no same hash_id values in train, val or test datasets. The datasplit was successful\n",
      "Check shapes:\n",
      "\n",
      "Images train dataset: (10875, 250, 250, 5)\n",
      "Labels train dataset: (10875, 1)\n",
      "\n",
      "Images validation dataset: (1048, 250, 250, 5)\n",
      "Labels validation dataset: (1048, 1)\n",
      "\n",
      "--------------------------------------------------\n",
      "Check if the split was stratified: (random_state=42)\n",
      "Picea abies healthy in train dataset: 2897\n",
      "Picea abies stressed in train dataset: 1485\n",
      "Pinus sylvestris healthy in train dataset: 1617\n",
      "Pinus sylvestris stressed in train dataset: 1911\n",
      "Abies alba healthy in train dataset: 363\n",
      "Abies alba stressed in train dataset: 123\n",
      "Fagus sylvatica healthy in train dataset: 773\n",
      "Fagus sylvatica stressed in train dataset: 660\n",
      "Quercus robur/petraea healthy in train dataset: 555\n",
      "Quercus robur/petraea stressed in train dataset: 275\n",
      "Dead trees in train dataset: 216\n",
      "Picea abies healthy in validation dataset: 319\n",
      "Picea abies stressed in validation dataset: 165\n",
      "Pinus sylvestris healthy in validation dataset: 122\n",
      "Pinus sylvestris stressed in validation dataset: 158\n",
      "Abies alba healthy in validation dataset: 29\n",
      "Abies alba stressed in validation dataset: 3\n",
      "Fagus sylvatica healthy in validation dataset: 110\n",
      "Fagus sylvatica stressed in validation dataset: 45\n",
      "Quercus robur/petraea healthy in validation dataset: 53\n",
      "Quercus robur/petraea stressed in validation dataset: 34\n",
      "Dead trees in validation dataset: 10\n",
      "--------------------------------------------------\n",
      "\n",
      "Creating datasets for fold: 5\n",
      "\n",
      "Creating dataloaders for fold: 5\n",
      "\n",
      "Loaded pretrained weights for efficientnet-b7\n",
      "\n",
      "[INFO] Fold number: 5\n",
      "[INFO] Number of epochs: 50\n",
      "[INFO] Batch_size: 32\n",
      "[INFO] Number of bands: 5\n",
      "[INFO] Dropout rate: 0.5\n",
      "[INFO] Gamma learning rate: 0.75\n",
      "[INFO] Memory allocated: 0 bytes\n"
     ]
    },
    {
     "data": {
      "application/vnd.jupyter.widget-view+json": {
       "model_id": "af56ca5529ea4f22aa70091ab45338c0",
       "version_major": 2,
       "version_minor": 0
      },
      "text/plain": [
       "  0%|          | 0/50 [00:00<?, ?it/s]"
      ]
     },
     "metadata": {},
     "output_type": "display_data"
    },
    {
     "name": "stdout",
     "output_type": "stream",
     "text": [
      "Epoch: 1 \n",
      "Learning rate: 0.001\n",
      "Train loss: 1.4632 | Train precision: 0.3532 | Train recall: 0.3207 | Train f1score: 0.3246 | Train acc: 0.4220 | Train kappa: 0.6713 \n",
      "Val loss: 2.8173 | Val precision: 0.2416 | Val recall: 0.1626 | Val f1score: 0.1312 | Val acc: 0.3076 | Val kappa: 0.3213 \n",
      "\n",
      "Epoch: 2 \n",
      "Learning rate: 0.00075\n",
      "Train loss: 1.1392 | Train precision: 0.4722 | Train recall: 0.4490 | Train f1score: 0.4513 | Train acc: 0.5180 | Train kappa: 0.8210 \n",
      "Val loss: 2.3829 | Val precision: 0.1130 | Val recall: 0.1241 | Val f1score: 0.0941 | Val acc: 0.3340 | Val kappa: 0.1367 \n",
      "\n",
      "Epoch: 3 \n",
      "Learning rate: 0.0005625000000000001\n",
      "Train loss: 1.0429 | Train precision: 0.5417 | Train recall: 0.5107 | Train f1score: 0.5173 | Train acc: 0.5611 | Train kappa: 0.8562 \n",
      "Val loss: 1.0526 | Val precision: 0.4457 | Val recall: 0.4311 | Val f1score: 0.3918 | Val acc: 0.5400 | Val kappa: 0.8237 \n",
      "\n",
      "Epoch: 4 \n",
      "Learning rate: 0.000421875\n",
      "Train loss: 0.9383 | Train precision: 0.5835 | Train recall: 0.5475 | Train f1score: 0.5557 | Train acc: 0.6005 | Train kappa: 0.8903 \n",
      "Val loss: 1.1168 | Val precision: 0.4012 | Val recall: 0.3947 | Val f1score: 0.3455 | Val acc: 0.5146 | Val kappa: 0.7859 \n",
      "\n",
      "Epoch: 5 \n",
      "Learning rate: 0.00031640625\n",
      "Train loss: 0.9001 | Train precision: 0.6087 | Train recall: 0.5729 | Train f1score: 0.5825 | Train acc: 0.6150 | Train kappa: 0.8924 \n",
      "Val loss: 0.9748 | Val precision: 0.4748 | Val recall: 0.4904 | Val f1score: 0.4385 | Val acc: 0.5527 | Val kappa: 0.9064 \n",
      "\n",
      "Epoch: 6 \n",
      "Learning rate: 0.0002373046875\n",
      "Train loss: 0.8525 | Train precision: 0.6237 | Train recall: 0.5948 | Train f1score: 0.6027 | Train acc: 0.6279 | Train kappa: 0.9076 \n",
      "Val loss: 0.9373 | Val precision: 0.3923 | Val recall: 0.4281 | Val f1score: 0.3989 | Val acc: 0.5361 | Val kappa: 0.8803 \n",
      "\n",
      "Epoch: 7 \n",
      "Learning rate: 0.000177978515625\n",
      "Train loss: 0.8144 | Train precision: 0.6557 | Train recall: 0.6222 | Train f1score: 0.6328 | Train acc: 0.6401 | Train kappa: 0.9173 \n",
      "Val loss: 0.9504 | Val precision: 0.4640 | Val recall: 0.4095 | Val f1score: 0.4035 | Val acc: 0.5439 | Val kappa: 0.9028 \n",
      "\n",
      "Epoch: 8 \n",
      "Learning rate: 0.00013348388671875\n",
      "Train loss: 0.7929 | Train precision: 0.6482 | Train recall: 0.6141 | Train f1score: 0.6234 | Train acc: 0.6464 | Train kappa: 0.9219 \n",
      "Val loss: 0.9418 | Val precision: 0.4759 | Val recall: 0.4900 | Val f1score: 0.4699 | Val acc: 0.5615 | Val kappa: 0.8800 \n",
      "\n",
      "Epoch: 9 \n",
      "Learning rate: 0.0001001129150390625\n",
      "Train loss: 0.7814 | Train precision: 0.6644 | Train recall: 0.6276 | Train f1score: 0.6382 | Train acc: 0.6534 | Train kappa: 0.9260 \n",
      "Val loss: 0.9257 | Val precision: 0.4696 | Val recall: 0.4306 | Val f1score: 0.4240 | Val acc: 0.5693 | Val kappa: 0.8904 \n",
      "\n",
      "Epoch: 10 \n",
      "Learning rate: 7.508468627929687e-05\n",
      "Train loss: 0.7664 | Train precision: 0.6746 | Train recall: 0.6465 | Train f1score: 0.6552 | Train acc: 0.6597 | Train kappa: 0.9283 \n",
      "Val loss: 0.8867 | Val precision: 0.5257 | Val recall: 0.4893 | Val f1score: 0.4884 | Val acc: 0.5771 | Val kappa: 0.9059 \n",
      "\n",
      "Epoch: 11 \n",
      "Learning rate: 5.6313514709472656e-05\n",
      "Train loss: 0.7338 | Train precision: 0.6833 | Train recall: 0.6477 | Train f1score: 0.6585 | Train acc: 0.6704 | Train kappa: 0.9374 \n",
      "Val loss: 0.9037 | Val precision: 0.4987 | Val recall: 0.4948 | Val f1score: 0.4848 | Val acc: 0.5664 | Val kappa: 0.9034 \n",
      "\n",
      "Epoch: 12 \n",
      "Learning rate: 4.223513603210449e-05\n",
      "Train loss: 0.7411 | Train precision: 0.6833 | Train recall: 0.6536 | Train f1score: 0.6623 | Train acc: 0.6659 | Train kappa: 0.9350 \n",
      "Val loss: 0.9073 | Val precision: 0.4899 | Val recall: 0.4964 | Val f1score: 0.4766 | Val acc: 0.5771 | Val kappa: 0.9065 \n",
      "\n",
      "Epoch: 13 \n",
      "Learning rate: 3.167635202407837e-05\n",
      "Train loss: 0.7251 | Train precision: 0.7003 | Train recall: 0.6684 | Train f1score: 0.6778 | Train acc: 0.6820 | Train kappa: 0.9364 \n",
      "Val loss: 0.9106 | Val precision: 0.5357 | Val recall: 0.4941 | Val f1score: 0.4991 | Val acc: 0.5703 | Val kappa: 0.9082 \n",
      "\n",
      "Epoch: 14 \n",
      "Learning rate: 2.3757264018058778e-05\n",
      "Train loss: 0.7076 | Train precision: 0.7080 | Train recall: 0.6790 | Train f1score: 0.6896 | Train acc: 0.6874 | Train kappa: 0.9426 \n",
      "Val loss: 0.8958 | Val precision: 0.5520 | Val recall: 0.4960 | Val f1score: 0.5005 | Val acc: 0.5859 | Val kappa: 0.9103 \n",
      "\n",
      "Epoch: 15 \n",
      "Learning rate: 1.7817948013544083e-05\n",
      "Train loss: 0.7119 | Train precision: 0.6975 | Train recall: 0.6629 | Train f1score: 0.6745 | Train acc: 0.6815 | Train kappa: 0.9398 \n",
      "Val loss: 0.9059 | Val precision: 0.5281 | Val recall: 0.4841 | Val f1score: 0.4896 | Val acc: 0.5752 | Val kappa: 0.9038 \n",
      "\n",
      "Epoch: 16 \n",
      "Learning rate: 1.3363461010158063e-05\n",
      "Train loss: 0.7050 | Train precision: 0.7085 | Train recall: 0.6822 | Train f1score: 0.6911 | Train acc: 0.6839 | Train kappa: 0.9410 \n",
      "Val loss: 0.9001 | Val precision: 0.5364 | Val recall: 0.5028 | Val f1score: 0.5078 | Val acc: 0.5801 | Val kappa: 0.9123 \n",
      "\n",
      "Epoch: 17 \n",
      "Learning rate: 1.0022595757618546e-05\n",
      "Train loss: 0.7045 | Train precision: 0.6991 | Train recall: 0.6681 | Train f1score: 0.6781 | Train acc: 0.6864 | Train kappa: 0.9411 \n",
      "Val loss: 0.8996 | Val precision: 0.5254 | Val recall: 0.4846 | Val f1score: 0.4879 | Val acc: 0.5752 | Val kappa: 0.9105 \n",
      "\n",
      "Epoch: 18 \n",
      "Learning rate: 7.51694681821391e-06\n",
      "Train loss: 0.6954 | Train precision: 0.7052 | Train recall: 0.6733 | Train f1score: 0.6841 | Train acc: 0.6936 | Train kappa: 0.9440 \n",
      "Val loss: 0.9029 | Val precision: 0.5390 | Val recall: 0.4922 | Val f1score: 0.4963 | Val acc: 0.5811 | Val kappa: 0.9170 \n",
      "\n",
      "Epoch: 19 \n",
      "Learning rate: 5.637710113660432e-06\n",
      "Train loss: 0.7076 | Train precision: 0.7041 | Train recall: 0.6708 | Train f1score: 0.6811 | Train acc: 0.6825 | Train kappa: 0.9472 \n",
      "Val loss: 0.9081 | Val precision: 0.5309 | Val recall: 0.4903 | Val f1score: 0.4944 | Val acc: 0.5781 | Val kappa: 0.9086 \n",
      "\n",
      "Epoch: 20 \n",
      "Learning rate: 4.228282585245324e-06\n",
      "Train loss: 0.6909 | Train precision: 0.7091 | Train recall: 0.6693 | Train f1score: 0.6814 | Train acc: 0.6868 | Train kappa: 0.9431 \n",
      "Val loss: 0.9029 | Val precision: 0.5313 | Val recall: 0.4938 | Val f1score: 0.4971 | Val acc: 0.5820 | Val kappa: 0.9085 \n",
      "\n",
      "Early stopping after epoch 20\n"
     ]
    },
    {
     "data": {
      "text/html": [
       "Waiting for W&B process to finish... <strong style=\"color:green\">(success).</strong>"
      ],
      "text/plain": [
       "<IPython.core.display.HTML object>"
      ]
     },
     "metadata": {},
     "output_type": "display_data"
    },
    {
     "data": {
      "application/vnd.jupyter.widget-view+json": {
       "model_id": "6d3c55e1cd7f41f3905d649c3c95eb7b",
       "version_major": 2,
       "version_minor": 0
      },
      "text/plain": [
       "VBox(children=(Label(value='0.001 MB of 0.009 MB uploaded (0.000 MB deduped)\\r'), FloatProgress(value=0.136915…"
      ]
     },
     "metadata": {},
     "output_type": "display_data"
    },
    {
     "data": {
      "text/html": [
       "<style>\n",
       "    table.wandb td:nth-child(1) { padding: 0 10px; text-align: left ; width: auto;} td:nth-child(2) {text-align: left ; width: 100%}\n",
       "    .wandb-row { display: flex; flex-direction: row; flex-wrap: wrap; justify-content: flex-start; width: 100% }\n",
       "    .wandb-col { display: flex; flex-direction: column; flex-basis: 100%; flex: 1; padding: 10px; }\n",
       "    </style>\n",
       "<div class=\"wandb-row\"><div class=\"wandb-col\"><h3>Run history:</h3><br/><table class=\"wandb\"><tr><td>learning_rate</td><td>█▆▅▄▃▃▂▂▂▁▁▁▁▁▁▁▁▁▁▁</td></tr><tr><td>train_f1_score</td><td>▁▃▅▅▆▆▇▇▇▇▇▇████████</td></tr><tr><td>train_loss</td><td>█▅▄▃▃▂▂▂▂▂▁▁▁▁▁▁▁▁▁▁</td></tr><tr><td>val_f1_score</td><td>▂▁▆▅▇▆▆▇▇██▇████████</td></tr><tr><td>val_loss</td><td>█▆▂▂▁▁▁▁▁▁▁▁▁▁▁▁▁▁▁▁</td></tr></table><br/></div><div class=\"wandb-col\"><h3>Run summary:</h3><br/><table class=\"wandb\"><tr><td>learning_rate</td><td>0.0</td></tr><tr><td>train_f1_score</td><td>0.68145</td></tr><tr><td>train_loss</td><td>0.69091</td></tr><tr><td>val_f1_score</td><td>0.49712</td></tr><tr><td>val_loss</td><td>0.90287</td></tr></table><br/></div></div>"
      ],
      "text/plain": [
       "<IPython.core.display.HTML object>"
      ]
     },
     "metadata": {},
     "output_type": "display_data"
    },
    {
     "data": {
      "text/html": [
       " View run <strong style=\"color:#cdcd00\">fold_5_RGB-RE-NIR-5species-combined_v2_plotsplit</strong> at: <a href='https://wandb.ai/simon-ecke/wze-uav-combined_v2/runs/b57c1cev' target=\"_blank\">https://wandb.ai/simon-ecke/wze-uav-combined_v2/runs/b57c1cev</a><br/>Synced 5 W&B file(s), 0 media file(s), 0 artifact file(s) and 0 other file(s)"
      ],
      "text/plain": [
       "<IPython.core.display.HTML object>"
      ]
     },
     "metadata": {},
     "output_type": "display_data"
    },
    {
     "data": {
      "text/html": [
       "Find logs at: <code>.\\wandb\\run-20230517_225420-b57c1cev\\logs</code>"
      ],
      "text/plain": [
       "<IPython.core.display.HTML object>"
      ]
     },
     "metadata": {},
     "output_type": "display_data"
    },
    {
     "name": "stdout",
     "output_type": "stream",
     "text": [
      "Deleting variables and emptying cache\n",
      "Memory allocated: 1056451584 bytes\n",
      "--------------------------------------------------\n",
      "\n",
      "CPU times: total: 4h 20min 49s\n",
      "Wall time: 8h 51min 12s\n"
     ]
    }
   ],
   "source": [
    "%%time\n",
    "\n",
    "# Set the random seeds\n",
    "set_seeds(42)\n",
    "\n",
    "# Define the number of folds\n",
    "num_folds = 5\n",
    "\n",
    "# group the hashIDs to get the unique values of hashIDs remaining in the subset  \n",
    "groups = sub_hash_id[:, 0] \n",
    "print(\"ORIGINAL POSITIVE RATIO:\", sub_label_set.mean())\n",
    "# create a StratifiedGroupKFold instance\n",
    "kf = StratifiedGroupKFold(n_splits=num_folds, shuffle=True, random_state=42)\n",
    "\n",
    "# loop through the folds\n",
    "for fold, (train_ids, val_ids) in enumerate(kf.split(sub_image_set, sub_label_set, groups)):\n",
    "    print(\"Fold :\", fold+1)\n",
    "    print(\"TRAIN POSITIVE RATIO:\", sub_label_set[train_ids].mean())\n",
    "    print(\"VAL POSITIVE RATIO  :\", sub_label_set[val_ids].mean())\n",
    "    print(\"LENGTH TRAIN GROUPS :\", len(set(groups[train_ids])))\n",
    "    print(\"LENGTH VAL GROUPS   :\", len(set(groups[val_ids])))\n",
    "    \n",
    "    train_ids = sub_hash_id[:, 0][train_ids]\n",
    "    val_ids = np.unique(sub_hash_id[:, 0][val_ids])\n",
    "\n",
    "    torch.cuda.empty_cache()\n",
    "    \n",
    "    # Initialize a new wandb run for this fold\n",
    "    wandb.init(project='wze-uav-combined_v2', name=f\"fold_{fold + 1}_{extra}\")\n",
    "    \n",
    "    # 1. Split data into train and validation set\n",
    "    # Get the training and testing data for this fold\n",
    "    # Use np.isin() to create boolean arrays indicating which indices belong to train or test sets\n",
    "    train_indices = np.isin(sub_hash_id[:,0], train_ids)\n",
    "    \n",
    "    val_indices = np.zeros_like(train_indices)  # initialize to all False\n",
    "    for hash_id_val in val_ids:\n",
    "        # select one image ID randomly from either 2020 or 2021 or 2022 for each unique hash ID in the test set\n",
    "        temp = np.unique(sub_hash_id[(sub_hash_id[:, 0] == hash_id_val), 1]) # check how many years are available per hashID\n",
    "        if len(temp) == 1:\n",
    "            year = temp[0]\n",
    "        elif len(temp) == 2:\n",
    "            year = np.random.choice(temp)\n",
    "        else:\n",
    "            year = np.random.choice(temp)\n",
    "        \n",
    "        # select image ID using the conditions\n",
    "        image_ids = sub_hash_id[(sub_hash_id[:,0] == hash_id_val) & (sub_hash_id[:,1] == year), 0]\n",
    "    \n",
    "        # mark the index corresponding to the selected image ID and hash ID as True in the test indices array\n",
    "        val_indices[(sub_hash_id[:,0] == hash_id_val) & (sub_hash_id[:,1] == year) & (np.isin(sub_hash_id[:,0], image_ids))] = True \n",
    "    \n",
    "    # Reshape boolean arrays to match shape of image_set and label_set\n",
    "    train_indices = train_indices.reshape(-1, 1)\n",
    "    val_indices = val_indices.reshape(-1, 1)\n",
    "    \n",
    "    # Select images and labels for train and validation sets\n",
    "    train_image_set = sub_image_set[train_indices[:, 0]]\n",
    "    train_label_set = sub_label_set[train_indices[:, 0]]\n",
    "    train_hash_id = sub_hash_id[train_indices[:, 0]][:,0]\n",
    "    train_species_set = sub_species_set[train_indices[:, 0]]\n",
    "    val_image_set = sub_image_set[val_indices[:, 0]]\n",
    "    val_label_set = sub_label_set[val_indices[:, 0]]\n",
    "    val_hash_id = sub_hash_id[val_indices[:, 0]][:,0]\n",
    "    val_species_set = sub_species_set[val_indices[:, 0]]\n",
    "    # reshape \n",
    "    train_label_set = train_label_set.reshape(-1, 1)\n",
    "    val_label_set = val_label_set.reshape(-1, 1)\n",
    "    train_species_set = train_species_set.reshape(-1, 1)\n",
    "    val_species_set = val_species_set.reshape(-1, 1)\n",
    "    \n",
    "    # check if there are any group overlaps between the data splits\n",
    "    hash_set = set(train_hash_id)\n",
    "    val_hash_set = set(val_hash_id)\n",
    "    test_hash_set = set(test_hash_id[:, 0].flatten())\n",
    "    intersection = hash_set.intersection(val_hash_set)\n",
    "    intersection2 = test_hash_set.intersection(val_hash_set)\n",
    "    intersection3 = hash_set.intersection(test_hash_set)\n",
    "    if intersection:\n",
    "        print(f\"Hash_id values in both train and val sets: {len(intersection)}\")\n",
    "        print(f\"Hash_id values in both test and val sets: {len(intersection2)}\")\n",
    "        print(f\"Hash_id values in both train and test sets: {len(intersection3)}\")\n",
    "    else:\n",
    "        print(\"There are no same hash_id values in train, val or test datasets. The datasplit was successful\")\n",
    "    \n",
    "         \n",
    "    print(\"Check shapes:\\n\")\n",
    "    print(f\"Images train dataset: {train_image_set.shape}\")\n",
    "    print(f\"Labels train dataset: {train_label_set.shape}\\n\")\n",
    "    \n",
    "    print(f\"Images validation dataset: {val_image_set.shape}\")\n",
    "    print(f\"Labels validation dataset: {val_label_set.shape}\\n\")\n",
    "    print('-'*50)\n",
    "    print (f\"Check if the split was stratified: (random_state=42)\")\n",
    "    print(f\"Picea abies healthy in train dataset: {np.count_nonzero(train_label_set == 0)}\")\n",
    "    print(f\"Picea abies stressed in train dataset: {np.count_nonzero(train_label_set == 1)}\")\n",
    "    print(f\"Pinus sylvestris healthy in train dataset: {np.count_nonzero(train_label_set == 2)}\")\n",
    "    print(f\"Pinus sylvestris stressed in train dataset: {np.count_nonzero(train_label_set == 3)}\")\n",
    "    print(f\"Abies alba healthy in train dataset: {np.count_nonzero(train_label_set == 4)}\")\n",
    "    print(f\"Abies alba stressed in train dataset: {np.count_nonzero(train_label_set == 5)}\")\n",
    "    print(f\"Fagus sylvatica healthy in train dataset: {np.count_nonzero(train_label_set == 6)}\")\n",
    "    print(f\"Fagus sylvatica stressed in train dataset: {np.count_nonzero(train_label_set == 7)}\")\n",
    "    print(f\"Quercus robur/petraea healthy in train dataset: {np.count_nonzero(train_label_set == 8)}\")\n",
    "    print(f\"Quercus robur/petraea stressed in train dataset: {np.count_nonzero(train_label_set == 9)}\")\n",
    "    print(f\"Dead trees in train dataset: {np.count_nonzero(train_label_set == 10)}\")\n",
    "    print(f\"Picea abies healthy in validation dataset: {np.count_nonzero(val_label_set == 0)}\")\n",
    "    print(f\"Picea abies stressed in validation dataset: {np.count_nonzero(val_label_set == 1)}\")\n",
    "    print(f\"Pinus sylvestris healthy in validation dataset: {np.count_nonzero(val_label_set == 2)}\")\n",
    "    print(f\"Pinus sylvestris stressed in validation dataset: {np.count_nonzero(val_label_set == 3)}\")\n",
    "    print(f\"Abies alba healthy in validation dataset: {np.count_nonzero(val_label_set == 4)}\")\n",
    "    print(f\"Abies alba stressed in validation dataset: {np.count_nonzero(val_label_set == 5)}\")\n",
    "    print(f\"Fagus sylvatica healthy in validation dataset: {np.count_nonzero(val_label_set == 6)}\")\n",
    "    print(f\"Fagus sylvatica stressed in validation dataset: {np.count_nonzero(val_label_set == 7)}\")\n",
    "    print(f\"Quercus robur/petraea healthy in validation dataset: {np.count_nonzero(val_label_set == 8)}\")\n",
    "    print(f\"Quercus robur/petraea stressed in validation dataset: {np.count_nonzero(val_label_set == 9)}\")\n",
    "    print(f\"Dead trees in validation dataset: {np.count_nonzero(val_label_set == 10)}\")\n",
    "    #print(f\"Ratio health trees in validation dataset: {np.count_nonzero(val_label_set == 0)/np.count_nonzero(sub_label_set == 0)}\")\n",
    "    #print(f\"Ratio moderately stressed trees in validation dataset: {np.count_nonzero(val_label_set == 1)/np.count_nonzero(sub_label_set == 1)}\")\n",
    "    #print(f\"Ratio severely stressed trees in validation dataset: {np.count_nonzero(val_label_set == 1)/np.count_nonzero(sub_label_set == 2)}\")\n",
    "    #print(f\"Ratio dead trees in validation dataset: {np.count_nonzero(val_label_set == 2)/np.count_nonzero(sub_label_set == 3)}\")\n",
    "    print(\"-\"*50)\n",
    "   \n",
    "    # 2. Create train and validation dataset. (choose custom dataset loader with 3 - 5 classes)\n",
    "    print(f\"\\nCreating datasets for fold: {fold + 1}\\n\")\n",
    "    train_dataset = data_loader.CustomDataset(data=train_image_set, labels=train_label_set, class_names=class_names, species = train_species_set,\n",
    "                                                         transform=transform_train)\n",
    "    \n",
    "    val_dataset = data_loader.CustomDataset(data=val_image_set, labels=val_label_set, class_names=class_names,\n",
    "                                                       species = val_species_set, transform=transform)\n",
    "   \n",
    "    # 3. Create train and validation dataloader\n",
    "    # create sampler for oversampling of the minority classes\n",
    "    sampler = data_loader.data_sampler(dataset=train_dataset, class_names=class_names)\n",
    "    print(f\"Creating dataloaders for fold: {fold +1}\\n\")\n",
    "    train_dataloader = DataLoader(train_dataset, batch_size=batch_size, persistent_workers=True, pin_memory=True, num_workers=NUM_WORKERS, generator=g,\n",
    "                              sampler=sampler, shuffle=False, drop_last=True) # shuffle false because of the sampler\n",
    "\n",
    "    val_dataloader = DataLoader(val_dataset, batch_size=batch_size, persistent_workers=True, pin_memory=True, num_workers=NUM_WORKERS, shuffle=False,\n",
    "                             drop_last=True)\n",
    "    \n",
    "    model = model_effnet.EfficientNet.from_pretrained('efficientnet-b7', in_channels=n_bands, num_classes=num_classes, dropout_rate=dropout_rate)\n",
    "    #model = models.create_effnetb7(output_shape=num_classes, unfreeze=True, dropout_rate=dropout_rate, device=device)\n",
    "   \n",
    "    loss_fn = nn.CrossEntropyLoss()\n",
    "    optimizer = torch.optim.Adam(params=model.parameters(), lr=lr)\n",
    "    lr_scheduler = CustomExponentialLR(optimizer, gamma=gamma, min_lr=min_lr)\n",
    "\n",
    "    fold += 1\n",
    "    print(f\"\\n[INFO] Fold number: {fold}\")\n",
    "    print(f\"[INFO] Number of epochs: {epochs}\")\n",
    "    print(f\"[INFO] Batch_size: {batch_size}\")\n",
    "    print(f\"[INFO] Number of bands: {n_bands}\")\n",
    "    print(f\"[INFO] Dropout rate: {dropout_rate}\")\n",
    "    print(f\"[INFO] Gamma learning rate: {gamma}\")\n",
    "    print(f\"[INFO] Memory allocated: {torch.cuda.memory_allocated()} bytes\")\n",
    "    # 4. Train model with k fold dataloaders and track experiments\n",
    "    \n",
    "    if fold == 1:\n",
    "        fold1_results = train(model=model, model_name=model_name, n_bands=n_bands, batch_size=batch_size,train_dataloader=train_dataloader, val_dataloader=val_dataloader, \n",
    "                        optimizer=optimizer, loss_fn=loss_fn, lr_scheduler=lr_scheduler, num_classes=num_classes, epochs=epochs, experiment_num=fold, device=device,\n",
    "                        writer=None, early_stop_patience = patience)\n",
    "       \n",
    "    elif fold == 2:\n",
    "        fold2_results = train(model=model, model_name=model_name, n_bands=n_bands, batch_size=batch_size,train_dataloader=train_dataloader, val_dataloader=val_dataloader, \n",
    "                        optimizer=optimizer, loss_fn=loss_fn, lr_scheduler=lr_scheduler, num_classes=num_classes, epochs=epochs, experiment_num=fold, device=device,\n",
    "                        writer=None, early_stop_patience = patience)\n",
    "    elif fold == 3:\n",
    "        fold3_results = train(model=model, model_name=model_name, n_bands=n_bands, batch_size=batch_size,train_dataloader=train_dataloader, val_dataloader=val_dataloader, \n",
    "                        optimizer=optimizer, loss_fn=loss_fn, lr_scheduler=lr_scheduler, num_classes=num_classes, epochs=epochs, experiment_num=fold, device=device,\n",
    "                        writer=None, early_stop_patience = patience)\n",
    "    elif fold == 4:\n",
    "        fold4_results = train(model=model, model_name=model_name, n_bands=n_bands, batch_size=batch_size,train_dataloader=train_dataloader, val_dataloader=val_dataloader, \n",
    "                        optimizer=optimizer, loss_fn=loss_fn, lr_scheduler=lr_scheduler, num_classes=num_classes, epochs=epochs, experiment_num=fold, device=device,\n",
    "                        writer=None, early_stop_patience = patience)\n",
    "    else:\n",
    "        fold5_results = train(model=model, model_name=model_name, n_bands=n_bands, batch_size=batch_size,train_dataloader=train_dataloader, val_dataloader=val_dataloader, \n",
    "                        optimizer=optimizer, loss_fn=loss_fn, lr_scheduler=lr_scheduler, num_classes=num_classes, epochs=epochs, experiment_num=fold, device=device,\n",
    "                        writer=None, early_stop_patience = patience)\n",
    "    \n",
    "    del train_indices, val_indices, train_image_set, train_label_set, train_hash_id, train_species_set, val_image_set, val_label_set, val_hash_id, val_species_set,\n",
    "    train_dataset, val_dataset, sampler, train_dataloader, val_dataloader, model, loss_fn, optimizer, lr_scheduler\n",
    "    \n",
    "    #finish the wandb run\n",
    "    wandb.finish()\n",
    "    print(\"Deleting variables and emptying cache\")\n",
    "    gc.collect()\n",
    "    torch.cuda.empty_cache()\n",
    "    print(f\"Memory allocated: {torch.cuda.memory_allocated()} bytes\")\n",
    "    print(\"-\"*50 + \"\\n\")"
   ]
  },
  {
   "cell_type": "markdown",
   "id": "a36b9b92",
   "metadata": {},
   "source": [
    "#### Create test dataset and test dataloader "
   ]
  },
  {
   "cell_type": "code",
   "execution_count": 19,
   "id": "c0c36ebb",
   "metadata": {},
   "outputs": [],
   "source": [
    "# create test dataset\n",
    "test_dataset = data_loader.CustomTestDataset(\n",
    "    data = test_image_set,\n",
    "    labels = test_label_set,\n",
    "    class_names=class_names, \n",
    "    species = test_species_set,\n",
    "    kkl = None,\n",
    "    transform=transform\n",
    ")\n",
    "\n",
    "# create test dataloader\n",
    "test_dataloader = DataLoader(test_dataset,\n",
    "                             batch_size=batch_size,\n",
    "                             persistent_workers=True,\n",
    "                             pin_memory=True,\n",
    "                             num_workers=NUM_WORKERS,\n",
    "                             shuffle=False,\n",
    "                             drop_last=True)"
   ]
  },
  {
   "cell_type": "markdown",
   "id": "22cdaac7",
   "metadata": {},
   "source": [
    "#### Perform ensembling of the five best models"
   ]
  },
  {
   "cell_type": "code",
   "execution_count": 20,
   "id": "67db5af2",
   "metadata": {},
   "outputs": [
    {
     "name": "stdout",
     "output_type": "stream",
     "text": [
      "Loaded pretrained weights for efficientnet-b7\n",
      "Loaded pretrained weights for efficientnet-b7\n",
      "Loaded pretrained weights for efficientnet-b7\n",
      "Loaded pretrained weights for efficientnet-b7\n",
      "Loaded pretrained weights for efficientnet-b7\n",
      "              precision    recall  f1-score   support\n",
      "\n",
      "           0       0.72      0.81      0.76       275\n",
      "           1       0.59      0.41      0.48       132\n",
      "           2       0.56      0.60      0.58        78\n",
      "           3       0.50      0.49      0.50        61\n",
      "           4       0.49      0.74      0.59        23\n",
      "           5       0.71      0.38      0.50        13\n",
      "           6       0.74      0.70      0.72       166\n",
      "           7       0.56      0.52      0.54        56\n",
      "           8       0.48      0.53      0.50        85\n",
      "           9       0.25      0.17      0.20        29\n",
      "          10       0.69      0.90      0.78        10\n",
      "\n",
      "    accuracy                           0.63       928\n",
      "   macro avg       0.57      0.57      0.56       928\n",
      "weighted avg       0.62      0.63      0.62       928\n",
      "\n",
      "[[224  33   6   5   3   1   0   1   0   0   2]\n",
      " [ 72  54   1   1   2   0   0   1   0   0   1]\n",
      " [  2   3  47  23   0   0   0   1   2   0   0]\n",
      " [  2   0  28  30   0   0   0   0   0   0   1]\n",
      " [  5   1   0   0  17   0   0   0   0   0   0]\n",
      " [  0   0   0   0   7   5   0   1   0   0   0]\n",
      " [  1   0   1   0   2   1 117   8  33   3   0]\n",
      " [  1   1   1   0   1   0  19  29   4   0   0]\n",
      " [  5   0   0   0   3   0  15   5  45  12   0]\n",
      " [  0   0   0   0   0   0   8   6  10   5   0]\n",
      " [  0   0   0   1   0   0   0   0   0   0   9]]\n"
     ]
    }
   ],
   "source": [
    "# Setup the best model filepaths\n",
    "best_model1_path = r\"C:\\Users\\lwfeckesim\\01_PyTorch\\wze-uav\\wze-uav-master\\models\\EffNet_b7_RGB-RE-NIR-5species-combined_v2_plotsplit\\1_EffNet_b7_RGB-RE-NIR-5species-combined_v2_plotsplit_12_epochs.pth\"\n",
    "best_model2_path = r\"C:\\Users\\lwfeckesim\\01_PyTorch\\wze-uav\\wze-uav-master\\models\\EffNet_b7_RGB-RE-NIR-5species-combined_v2_plotsplit\\2_EffNet_b7_RGB-RE-NIR-5species-combined_v2_plotsplit_12_epochs.pth\"\n",
    "best_model3_path = r\"C:\\Users\\lwfeckesim\\01_PyTorch\\wze-uav\\wze-uav-master\\models\\EffNet_b7_RGB-RE-NIR-5species-combined_v2_plotsplit\\3_EffNet_b7_RGB-RE-NIR-5species-combined_v2_plotsplit_11_epochs.pth\"\n",
    "best_model4_path = r\"C:\\Users\\lwfeckesim\\01_PyTorch\\wze-uav\\wze-uav-master\\models\\EffNet_b7_RGB-RE-NIR-5species-combined_v2_plotsplit\\4_EffNet_b7_RGB-RE-NIR-5species-combined_v2_plotsplit_12_epochs.pth\"\n",
    "best_model5_path = r\"C:\\Users\\lwfeckesim\\01_PyTorch\\wze-uav\\wze-uav-master\\models\\EffNet_b7_RGB-RE-NIR-5species-combined_v2_plotsplit\\5_EffNet_b7_RGB-RE-NIR-5species-combined_v2_plotsplit_12_epochs.pth\"\n",
    "\n",
    "# Instantiate a new instance of EffNetB7 (to load the saved state_dict() to)\n",
    "#model1 = models.create_effnetb7(output_shape=num_classes, unfreeze=unfreeze, dropout_rate=dropout_rate, device=device)\n",
    "#model2 = models.create_effnetb7(output_shape=num_classes, unfreeze=unfreeze, dropout_rate=dropout_rate, device=device)\n",
    "#model3 = models.create_effnetb7(output_shape=num_classes, unfreeze=unfreeze, dropout_rate=dropout_rate, device=device)\n",
    "#model4 = models.create_effnetb7(output_shape=num_classes, unfreeze=unfreeze, dropout_rate=dropout_rate, device=device)\n",
    "#model5 = models.create_effnetb7(output_shape=num_classes, unfreeze=unfreeze, dropout_rate=dropout_rate, device=device)\n",
    "# for custom models with more than three bands as input\n",
    "model1 = model_effnet.EfficientNet.from_pretrained('efficientnet-b7', in_channels=n_bands, num_classes=num_classes, dropout_rate=dropout_rate)\n",
    "model2 = model_effnet.EfficientNet.from_pretrained('efficientnet-b7', in_channels=n_bands, num_classes=num_classes, dropout_rate=dropout_rate)\n",
    "model3 = model_effnet.EfficientNet.from_pretrained('efficientnet-b7', in_channels=n_bands, num_classes=num_classes, dropout_rate=dropout_rate)\n",
    "model4 = model_effnet.EfficientNet.from_pretrained('efficientnet-b7', in_channels=n_bands, num_classes=num_classes, dropout_rate=dropout_rate)\n",
    "model5 = model_effnet.EfficientNet.from_pretrained('efficientnet-b7', in_channels=n_bands, num_classes=num_classes, dropout_rate=dropout_rate)\n",
    "\n",
    "# Load the saved best model state_dict()\n",
    "model1.load_state_dict(torch.load(best_model1_path))\n",
    "model2.load_state_dict(torch.load(best_model2_path))\n",
    "model3.load_state_dict(torch.load(best_model3_path))\n",
    "model4.load_state_dict(torch.load(best_model4_path))\n",
    "model5.load_state_dict(torch.load(best_model5_path))\n",
    "\n",
    "model1.to(device)\n",
    "model2.to(device)\n",
    "model3.to(device)\n",
    "model4.to(device)\n",
    "model5.to(device)\n",
    "\n",
    "model1.eval()\n",
    "model2.eval()\n",
    "model3.eval()\n",
    "model4.eval()\n",
    "model5.eval()\n",
    "\n",
    "# Initialize the lists to store the predictions\n",
    "all_preds_model1 = []\n",
    "all_preds_model2 = []\n",
    "all_preds_model3 = []\n",
    "all_preds_model4 = []\n",
    "all_preds_model5 = []\n",
    "all_true_labels = []\n",
    "\n",
    "# Loop through the test dataset and generate predictions for each model\n",
    "with torch.no_grad():\n",
    "    for batch in test_dataloader:\n",
    "        inputs, labels, species = batch\n",
    "        inputs, labels, species = inputs.to(device), labels.to(device), species\n",
    "        \n",
    "        # Generate predictions for each model\n",
    "        preds_model1 = model1(inputs)\n",
    "        preds_model2 = model2(inputs)\n",
    "        preds_model3 = model3(inputs)\n",
    "        preds_model4 = model4(inputs)\n",
    "        preds_model5 = model5(inputs)\n",
    "\n",
    "        # Append the predictions to the corresponding list\n",
    "        all_preds_model1.append(preds_model1.cpu().numpy())\n",
    "        all_preds_model2.append(preds_model2.cpu().numpy())\n",
    "        all_preds_model3.append(preds_model3.cpu().numpy())\n",
    "        all_preds_model4.append(preds_model4.cpu().numpy())\n",
    "        all_preds_model5.append(preds_model5.cpu().numpy())\n",
    "        \n",
    "        all_true_labels.append(labels.cpu().numpy())\n",
    "\n",
    "# Concatenate the predictions from all the models\n",
    "all_preds_model1 = np.concatenate(all_preds_model1)\n",
    "all_preds_model2 = np.concatenate(all_preds_model2)\n",
    "all_preds_model3 = np.concatenate(all_preds_model3)\n",
    "all_preds_model4 = np.concatenate(all_preds_model4)\n",
    "all_preds_model5 = np.concatenate(all_preds_model5)\n",
    "\n",
    "all_true_labels = np.concatenate(all_true_labels)\n",
    "\n",
    "# Calculate the ensemble predictions\n",
    "ensemble_preds = np.mean([all_preds_model1, all_preds_model2, all_preds_model3, all_preds_model4, all_preds_model5], axis=0)\n",
    "ensemble_labels = np.argmax(ensemble_preds, axis=1)\n",
    "\n",
    "# Calculate the evaluation metrics for the ensemble model\n",
    "from sklearn.metrics import classification_report, confusion_matrix\n",
    "\n",
    "print(classification_report(all_true_labels, ensemble_labels))\n",
    "print(confusion_matrix(all_true_labels, ensemble_labels))\n",
    "\n",
    "\n",
    "\n",
    "\n"
   ]
  },
  {
   "cell_type": "code",
   "execution_count": 21,
   "id": "6dfbc663",
   "metadata": {},
   "outputs": [
    {
     "name": "stdout",
     "output_type": "stream",
     "text": [
      "              precision    recall  f1-score   support\n",
      "\n",
      "           0       0.72      0.81      0.76       275\n",
      "           1       0.59      0.41      0.48       132\n",
      "           2       0.56      0.60      0.58        78\n",
      "           3       0.50      0.49      0.50        61\n",
      "           4       0.49      0.74      0.59        23\n",
      "           5       0.71      0.38      0.50        13\n",
      "           6       0.74      0.70      0.72       166\n",
      "           7       0.56      0.52      0.54        56\n",
      "           8       0.48      0.53      0.50        85\n",
      "           9       0.25      0.17      0.20        29\n",
      "          10       0.69      0.90      0.78        10\n",
      "\n",
      "    accuracy                           0.63       928\n",
      "   macro avg       0.57      0.57      0.56       928\n",
      "weighted avg       0.62      0.63      0.62       928\n",
      "\n"
     ]
    },
    {
     "data": {
      "image/png": "[encoded data removed]",
      "text/plain": [
       "<Figure size 720x504 with 1 Axes>"
      ]
     },
     "metadata": {
      "needs_background": "light"
     },
     "output_type": "display_data"
    }
   ],
   "source": [
    "import matplotlib.pyplot as plt\n",
    "import pandas as pd\n",
    "# Calculate the evaluation metrics for the ensemble model\n",
    "\n",
    "report = classification_report(all_true_labels, ensemble_labels)\n",
    "print(report)\n",
    "#print(confusion_matrix(all_true_labels, ensemble_labels))\n",
    "\n",
    "# Save the report to a file\n",
    "with open(r'C:\\Users\\lwfeckesim\\01_PyTorch\\wze-uav\\wze-uav-master\\plots\\report_RGB-NIR_5species_combined_plotsplit.txt', 'w') as f:\n",
    "    f.write(report)\n",
    "\n",
    "labels = np.array([0,1,2,3,4,5,6,7,8,9,10])\n",
    "confmat = confusion_matrix(all_true_labels, ensemble_labels, labels=labels)\n",
    "\n",
    "# 3. Plot the confusion matrix\n",
    "fig, ax = plot_confusion_matrix(\n",
    "    conf_mat=confmat, # matplotlib likes working with NumPy \n",
    "    class_names=class_names, # turn the row and column labels into class names\n",
    "    figsize=(10, 7)\n",
    ");\n",
    "\n",
    "# add title to confusion matrix plot\n",
    "plt.title(\"Main tree species and Health Status Classification using RGB-NIR Bands\", fontsize=16)\n",
    "\n",
    "fig.savefig(r'C:\\Users\\lwfeckesim\\01_PyTorch\\wze-uav\\wze-uav-master\\plots\\confmat_RGB-NIR_5species_combined_plotsplit.png', dpi=300, bbox_inches='tight')\n",
    "\n",
    "# Create a DataFrame from the confusion matrix\n",
    "df_cm = pd.DataFrame(confmat)\n",
    "\n",
    "# Export the confusion matrix to a CSV file\n",
    "df_cm.to_csv(r'C:\\Users\\lwfeckesim\\01_PyTorch\\wze-uav\\wze-uav-master\\plots\\confmat_RGB_NIR_5species_combined.csv', index=False)"
   ]
  },
  {
   "cell_type": "code",
   "execution_count": 23,
   "id": "aab9e321",
   "metadata": {},
   "outputs": [
    {
     "ename": "NameError",
     "evalue": "name 'best_model' is not defined",
     "output_type": "error",
     "traceback": [
      "\u001b[1;31m---------------------------------------------------------------------------\u001b[0m",
      "\u001b[1;31mNameError\u001b[0m                                 Traceback (most recent call last)",
      "Input \u001b[1;32mIn [23]\u001b[0m, in \u001b[0;36m<cell line: 3>\u001b[1;34m()\u001b[0m\n\u001b[0;32m      1\u001b[0m \u001b[38;5;66;03m# 2. Setup confusion matrix instance and compare predictions to targets\u001b[39;00m\n\u001b[0;32m      2\u001b[0m \u001b[38;5;66;03m#from wze_uav.analysis import *\u001b[39;00m\n\u001b[1;32m----> 3\u001b[0m y_pred_tensor, y_labels_tensor, test_loss, test_recall, test_precision, test_f1_score, test_acc, y_logit, y_pred, y, y_preds \u001b[38;5;241m=\u001b[39m make_predictions(model\u001b[38;5;241m=\u001b[39m\u001b[43mbest_model\u001b[49m,\n\u001b[0;32m      4\u001b[0m                                  test_dataloader\u001b[38;5;241m=\u001b[39mtest_dataloader, \n\u001b[0;32m      5\u001b[0m                                  device\u001b[38;5;241m=\u001b[39mdevice)\n\u001b[0;32m      7\u001b[0m y_labels_tensor \u001b[38;5;241m=\u001b[39m y_labels_tensor\u001b[38;5;241m.\u001b[39mdetach()\u001b[38;5;241m.\u001b[39mcpu()\u001b[38;5;241m.\u001b[39mnumpy()\n\u001b[0;32m      8\u001b[0m y_pred_tensor \u001b[38;5;241m=\u001b[39m y_pred_tensor\u001b[38;5;241m.\u001b[39mdetach()\u001b[38;5;241m.\u001b[39mcpu()\u001b[38;5;241m.\u001b[39mnumpy()\n",
      "\u001b[1;31mNameError\u001b[0m: name 'best_model' is not defined"
     ]
    }
   ],
   "source": [
    "# 2. Setup confusion matrix instance and compare predictions to targets\n",
    "#from wze_uav.analysis import *\n",
    "y_pred_tensor, y_labels_tensor, test_loss, test_recall, test_precision, test_f1_score, test_acc, y_logit, y_pred, y, y_preds = make_predictions(model=best_model,\n",
    "                                 test_dataloader=test_dataloader, \n",
    "                                 device=device)\n",
    "\n",
    "y_labels_tensor = y_labels_tensor.detach().cpu().numpy()\n",
    "y_pred_tensor = y_pred_tensor.detach().cpu().numpy()\n",
    "\n",
    "#confmat = ConfusionMatrix(num_classes=num_classes, task='multiclass')\n",
    "#confmat_tensor = confmat(preds=y_pred_tensor,\n",
    "#                         target=test_labels)\n",
    "labels = np.array([0,1,2])\n",
    "confmat = confusion_matrix(y_labels_tensor, y_pred_tensor, labels=labels)\n",
    "\n",
    "# 3. Plot the confusion matrix\n",
    "fig, ax = plot_confusion_matrix(\n",
    "    conf_mat=confmat, # matplotlib likes working with NumPy \n",
    "    class_names=class_names, # turn the row and column labels into class names\n",
    "    figsize=(10, 7)\n",
    ");\n",
    "\n",
    "print(f\"Test loss: {test_loss}\")\n",
    "print(f\"Test precision: {test_precision}\")\n",
    "print(f\"Test recall: {test_recall}\")\n",
    "print(f\"Test F1score: {test_f1_score}\")\n",
    "#print(f\"Test Kappa: {test_kappa}\")\n",
    "print(f\"Test Accuracy: {test_acc}\")\n",
    "print(f\"Test Logits: {y_logit}\")\n",
    "print(f\"Test Predictions: {y_pred}\")\n",
    "print(f\"Test Labels: {y}\")"
   ]
  },
  {
   "cell_type": "code",
   "execution_count": null,
   "id": "8d4173b3",
   "metadata": {},
   "outputs": [],
   "source": [
    "len(y_preds)"
   ]
  },
  {
   "cell_type": "code",
   "execution_count": null,
   "id": "7588116f",
   "metadata": {},
   "outputs": [],
   "source": [
    "y_set.cpu()"
   ]
  },
  {
   "cell_type": "code",
   "execution_count": null,
   "id": "1c195b3e",
   "metadata": {},
   "outputs": [],
   "source": [
    "test_dataset.labels"
   ]
  },
  {
   "cell_type": "code",
   "execution_count": null,
   "id": "975ec08c",
   "metadata": {},
   "outputs": [],
   "source": []
  },
  {
   "cell_type": "code",
   "execution_count": null,
   "id": "6da05604",
   "metadata": {},
   "outputs": [],
   "source": [
    "y_preds = []\n",
    "y_labels = []\n",
    "labels = np.array([0,1,2])\n",
    "test_loss, test_precision, test_recall, test_f1_score, test_acc = 0, 0, 0, 0, 0\n",
    "count = 0\n",
    "model.eval()\n",
    "with torch.inference_mode():\n",
    "    for X, y in tqdm(test_dataloader, desc=\"Making predictions\"):\n",
    "        # Send data and targets to target device\n",
    "        X, y = X.to(device), y.to(device)\n",
    "        # Do the forward pass\n",
    "        y_logit = model(X)\n",
    "        # Turn predictions from logits -> prediction probabilities -> predictions labels\n",
    "        y_pred = torch.softmax(y_logit, dim=1).argmax(dim=1)\n",
    "        # Put predictions on CPU for evaluation\n",
    "        y_preds.append(y_pred.cpu())\n",
    "        y_labels.append(y.cpu())\n",
    "        \n",
    "        #other metrics\n",
    "        test_acc += ((y_pred == y).sum().item()/len(y_pred))\n",
    "        y_pred_class = y_pred.detach().cpu().numpy() \n",
    "        y_class = y.detach().cpu().numpy()\n",
    "        test_precision += precision_score(y_class, y_pred_class, average='macro', zero_division=1, labels=labels)\n",
    "        test_recall += recall_score(y_class, y_pred_class, average='macro', zero_division=1, labels=labels)\n",
    "        #test_f1_score += f1_score(y_class, y_pred_class, average='macro', zero_division=1, labels=labels)\n",
    "        \n",
    "        #if count >= 1:\n",
    "        #    y_set = torch.cat((y_set, y))\n",
    "        #    count = count + 1\n",
    "        #else:\n",
    "        #    y_set = y\n",
    "        #    count = count + 1\n",
    "        \n",
    "test_loss = test_loss / len(test_dataloader)\n",
    "test_precision = test_precision / len(test_dataloader)\n",
    "test_recall = test_recall / len(test_dataloader)\n",
    "#test_f1_score = test_f1_score / len(test_dataloader)\n",
    "#test_kappa = test_kappa / len(dataloader)\n",
    "test_acc = test_acc / len(test_dataloader)\n",
    "# Concatenate list of predictions into a tensor\n",
    "y_pred_tensor = torch.cat(y_preds)\n",
    "test_f1_score = f1_score(y_set.detach().cpu().numpy(), y_pred_tensor.cpu().numpy(), average='macro', zero_division=0, labels=[0,1,2])\n",
    "\n",
    "# Print classification report\n",
    "y_true = y_set.detach().cpu().numpy()\n",
    "report = classification_report(y_true, y_pred_tensor.cpu().numpy(), target_names=class_names)\n",
    "print(report)"
   ]
  },
  {
   "cell_type": "code",
   "execution_count": null,
   "id": "6ae97fab",
   "metadata": {},
   "outputs": [],
   "source": [
    "test_f1_score"
   ]
  },
  {
   "cell_type": "code",
   "execution_count": null,
   "id": "7ebafd9b",
   "metadata": {},
   "outputs": [],
   "source": [
    "make = (y_class == y_pred_class)\n",
    "make"
   ]
  },
  {
   "cell_type": "code",
   "execution_count": null,
   "id": "4f8aa759",
   "metadata": {},
   "outputs": [],
   "source": [
    "torch.softmax(y_logit, dim=1).argmax(dim=1)"
   ]
  },
  {
   "cell_type": "code",
   "execution_count": null,
   "id": "f90a54b2",
   "metadata": {},
   "outputs": [],
   "source": [
    "y"
   ]
  },
  {
   "cell_type": "code",
   "execution_count": null,
   "id": "5a806154",
   "metadata": {},
   "outputs": [],
   "source": [
    "test = (y_pred == y).sum().item()/16"
   ]
  },
  {
   "cell_type": "code",
   "execution_count": null,
   "id": "1da35c56",
   "metadata": {},
   "outputs": [],
   "source": [
    "test"
   ]
  },
  {
   "cell_type": "code",
   "execution_count": null,
   "id": "b1eb246e",
   "metadata": {},
   "outputs": [],
   "source": [
    " y_pred_class = y_pred.detach().cpu().numpy() "
   ]
  },
  {
   "cell_type": "code",
   "execution_count": null,
   "id": "602e096f",
   "metadata": {},
   "outputs": [],
   "source": [
    "y_pred_class"
   ]
  },
  {
   "cell_type": "code",
   "execution_count": null,
   "id": "eaf1af09",
   "metadata": {},
   "outputs": [],
   "source": []
  }
 ],
 "metadata": {
  "kernelspec": {
   "display_name": "Python 3 (ipykernel)",
   "language": "python",
   "name": "python3"
  },
  "language_info": {
   "codemirror_mode": {
    "name": "ipython",
    "version": 3
   },
   "file_extension": ".py",
   "mimetype": "text/x-python",
   "name": "python",
   "nbconvert_exporter": "python",
   "pygments_lexer": "ipython3",
   "version": "3.9.16"
  }
 },
 "nbformat": 4,
 "nbformat_minor": 5
}
