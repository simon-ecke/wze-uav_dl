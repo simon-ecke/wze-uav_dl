{
 "cells": [
  {
   "cell_type": "markdown",
   "id": "c1acdaa3",
   "metadata": {},
   "source": [
    "# WZE-UAV Image Classification using Deep Learning"
   ]
  },
  {
   "cell_type": "code",
   "execution_count": 1,
   "id": "2159aac5",
   "metadata": {},
   "outputs": [],
   "source": [
    "import os\n",
    "import gc\n",
    "import glob\n",
    "import numpy as np\n",
    "from pathlib import Path\n",
    "from tqdm.auto import tqdm\n",
    "from sklearn.metrics import confusion_matrix, classification_report\n",
    "from sklearn.model_selection import KFold"
   ]
  },
  {
   "cell_type": "code",
   "execution_count": 2,
   "id": "0026f7a9",
   "metadata": {},
   "outputs": [],
   "source": [
    "import torch\n",
    "import torchvision.transforms as T\n",
    "import torchvision\n",
    "from torch import nn\n",
    "from torch.utils.data import DataLoader\n",
    "from torchvision import datasets, transforms\n",
    "from torch.utils.data import Dataset\n",
    "import torch.optim as optim\n",
    "from torch.optim.lr_scheduler import ExponentialLR\n",
    "from mlxtend.plotting import plot_confusion_matrix"
   ]
  },
  {
   "cell_type": "code",
   "execution_count": 3,
   "id": "b160d7b4",
   "metadata": {},
   "outputs": [],
   "source": [
    "import wze_uav.data_loader as data_loader\n",
    "import wze_uav.models as models\n",
    "from wze_uav.engine import *\n",
    "from wze_uav.utils2 import *\n",
    "#from wze_uav.log_writer import create_writer\n",
    "from wze_uav.datasplit import *\n",
    "from efficientnet import model_effnet #for custom effnet with n_channels input\n",
    "import wandb"
   ]
  },
  {
   "cell_type": "markdown",
   "id": "2bd4fb2f",
   "metadata": {},
   "source": [
    "#### Get PyTorch version"
   ]
  },
  {
   "cell_type": "code",
   "execution_count": 4,
   "id": "c10886b1",
   "metadata": {},
   "outputs": [
    {
     "name": "stdout",
     "output_type": "stream",
     "text": [
      "torch version: 1.13.1+cu116\n",
      "torchvision version: 0.14.1+cu116\n"
     ]
    }
   ],
   "source": [
    "print(f\"torch version: {torch.__version__}\")\n",
    "print(f\"torchvision version: {torchvision.__version__}\")"
   ]
  },
  {
   "cell_type": "markdown",
   "id": "aa6a83cf",
   "metadata": {},
   "source": [
    "#### Preparing device agnostic code "
   ]
  },
  {
   "cell_type": "code",
   "execution_count": 5,
   "id": "13d5de88",
   "metadata": {},
   "outputs": [
    {
     "name": "stdout",
     "output_type": "stream",
     "text": [
      "cuda\n",
      "Index of current divice: 0\n",
      "Number of GPUs available: 1\n",
      "GPU Model: Quadro RTX 8000\n"
     ]
    }
   ],
   "source": [
    "# ensure device agnostic code\n",
    "device = 'cuda' if torch.cuda.is_available() else 'cpu'\n",
    "print(device)\n",
    "\n",
    "# get index of currently selected device\n",
    "print(f\"Index of current divice: {torch.cuda.current_device()}\")\n",
    "# get number of GPUs available\n",
    "print(f\"Number of GPUs available: {torch.cuda.device_count()}\")\n",
    "# get the name of the device\n",
    "print(f\"GPU Model: {torch.cuda.get_device_name(0)}\")"
   ]
  },
  {
   "cell_type": "markdown",
   "id": "8ef6b169",
   "metadata": {},
   "source": [
    "#### Login to Weights & Biases to track results"
   ]
  },
  {
   "cell_type": "code",
   "execution_count": 6,
   "id": "a59d27cf",
   "metadata": {},
   "outputs": [
    {
     "name": "stderr",
     "output_type": "stream",
     "text": [
      "Failed to detect the name of this notebook, you can set it manually with the WANDB_NOTEBOOK_NAME environment variable to enable code saving.\n",
      "\u001b[34m\u001b[1mwandb\u001b[0m: Currently logged in as: \u001b[33msimon-ecke\u001b[0m. Use \u001b[1m`wandb login --relogin`\u001b[0m to force relogin\n"
     ]
    },
    {
     "data": {
      "application/vnd.jupyter.widget-view+json": {
       "model_id": "2c1af69f5c91491c8dfd222dfc26353c",
       "version_major": 2,
       "version_minor": 0
      },
      "text/plain": [
       "VBox(children=(Label(value='Waiting for wandb.init()...\\r'), FloatProgress(value=0.01691666666107873, max=1.0)…"
      ]
     },
     "metadata": {},
     "output_type": "display_data"
    },
    {
     "data": {
      "text/html": [
       "wandb version 0.15.3 is available!  To upgrade, please run:\n",
       " $ pip install wandb --upgrade"
      ],
      "text/plain": [
       "<IPython.core.display.HTML object>"
      ]
     },
     "metadata": {},
     "output_type": "display_data"
    },
    {
     "data": {
      "text/html": [
       "Tracking run with wandb version 0.14.2"
      ],
      "text/plain": [
       "<IPython.core.display.HTML object>"
      ]
     },
     "metadata": {},
     "output_type": "display_data"
    },
    {
     "data": {
      "text/html": [
       "Run data is saved locally in <code>C:\\Users\\lwfeckesim\\01_PyTorch\\wze-uav\\wze-uav-master\\wandb\\run-20230527_120014-v3clf47q</code>"
      ],
      "text/plain": [
       "<IPython.core.display.HTML object>"
      ]
     },
     "metadata": {},
     "output_type": "display_data"
    },
    {
     "data": {
      "text/html": [
       "Syncing run <strong><a href='https://wandb.ai/simon-ecke/wze-uav-combined-11classes/runs/v3clf47q' target=\"_blank\">good-sky-20</a></strong> to <a href='https://wandb.ai/simon-ecke/wze-uav-combined-11classes' target=\"_blank\">Weights & Biases</a> (<a href='https://wandb.me/run' target=\"_blank\">docs</a>)<br/>"
      ],
      "text/plain": [
       "<IPython.core.display.HTML object>"
      ]
     },
     "metadata": {},
     "output_type": "display_data"
    },
    {
     "data": {
      "text/html": [
       " View project at <a href='https://wandb.ai/simon-ecke/wze-uav-combined-11classes' target=\"_blank\">https://wandb.ai/simon-ecke/wze-uav-combined-11classes</a>"
      ],
      "text/plain": [
       "<IPython.core.display.HTML object>"
      ]
     },
     "metadata": {},
     "output_type": "display_data"
    },
    {
     "data": {
      "text/html": [
       " View run at <a href='https://wandb.ai/simon-ecke/wze-uav-combined-11classes/runs/v3clf47q' target=\"_blank\">https://wandb.ai/simon-ecke/wze-uav-combined-11classes/runs/v3clf47q</a>"
      ],
      "text/plain": [
       "<IPython.core.display.HTML object>"
      ]
     },
     "metadata": {},
     "output_type": "display_data"
    },
    {
     "data": {
      "text/html": [
       "<button onClick=\"this.nextSibling.style.display='block';this.style.display='none';\">Display W&B run</button><iframe src='https://wandb.ai/simon-ecke/wze-uav-combined-11classes/runs/v3clf47q?jupyter=true' style='border:none;width:100%;height:420px;display:none;'></iframe>"
      ],
      "text/plain": [
       "<wandb.sdk.wandb_run.Run at 0x24d6cb590d0>"
      ]
     },
     "execution_count": 6,
     "metadata": {},
     "output_type": "execute_result"
    }
   ],
   "source": [
    "# IMPORTANT: The proxy needs to be set in anaconda!\n",
    "# copy paste this in anaconda and restart jupyter notebook\n",
    "#set http_proxy=http://www-proxy.bayern.de:80\n",
    "#set https_proxy=http://www-proxy.bayern.de:80\n",
    "wandb.login()\n",
    "#wandb.init(settings=wandb.Settings(start_method=\"thread\"))\n",
    "wandb.init(project='wze-uav-combined-11classes', entity='simon-ecke')"
   ]
  },
  {
   "cell_type": "markdown",
   "id": "a26a6a34",
   "metadata": {},
   "source": [
    "#### Ensure reproducibility "
   ]
  },
  {
   "cell_type": "code",
   "execution_count": 7,
   "id": "dd4656a7",
   "metadata": {},
   "outputs": [],
   "source": [
    "# for more information, see also: https://pytorch.org/docs/stable/notes/randomness.html\n",
    "\n",
    "# Set seeds\n",
    "def set_seeds(seed: int=42):\n",
    "    \"\"\"Sets random sets for torch operations.\n",
    "\n",
    "    Args:\n",
    "        seed (int, optional): Random seed to set. Defaults to 42.\n",
    "    \"\"\"\n",
    "    # Set the seed for general torch operations\n",
    "    torch.manual_seed(seed)\n",
    "    # Set the seed for CUDA torch operations (ones that happen on the GPU)\n",
    "    torch.cuda.manual_seed(seed)\n",
    "    # seed for numpy\n",
    "    np.random.seed(seed)\n",
    "\n",
    "set_seeds(42) \n",
    "\n",
    "# Set to true -> might speed up the process but should be set to False if reproducible results are desired\n",
    "torch.backends.cudnn.benchmark = False\n"
   ]
  },
  {
   "cell_type": "markdown",
   "id": "8be33671",
   "metadata": {},
   "source": [
    "#### Define file directory"
   ]
  },
  {
   "cell_type": "code",
   "execution_count": 8,
   "id": "30645f36",
   "metadata": {},
   "outputs": [],
   "source": [
    "#####################################################################################\n",
    "# 3 channel input (r-g-b)\n",
    "data_path = r\"D:\\Drohnendaten\\10_WZE-UAV\\Auswertung_findatree\\Datasplit\\ROI\\rgb\"\n",
    "\n",
    "# 4 channel input (r-g-b-nir)\n",
    "#data_path = r\"D:\\Drohnendaten\\10_WZE-UAV\\Auswertung_findatree\\Datasplit\\ROI\\rgb-nir\"\n",
    "\n",
    "# 5 channel input (r-g-b-re-nir)\n",
    "#data_path = r\"D:\\Drohnendaten\\10_WZE-UAV\\Auswertung_findatree\\Datasplit\\ROI\\rgb-re-nir\"\n",
    "\n",
    "# 6 channel input (r-g-b-re-nir)\n",
    "#data_path = r\"D:\\Drohnendaten\\10_WZE-UAV\\Auswertung_findatree\\Datasplit\\ROI\\rgb-re-nir-chm\"\n",
    "\n",
    "#####################################################################################"
   ]
  },
  {
   "cell_type": "markdown",
   "id": "4560ce64",
   "metadata": {},
   "source": [
    "#### Get all file paths, years and plotIDs"
   ]
  },
  {
   "cell_type": "code",
   "execution_count": 9,
   "id": "aa072e4c",
   "metadata": {},
   "outputs": [],
   "source": [
    "fn_list = os.listdir(data_path)\n",
    "path_list = []\n",
    "#year_list = []\n",
    "#plotID_list = []\n",
    "# Iterate over all datafiles\n",
    "for year in fn_list:\n",
    "    year_dir = f'{data_path}\\\\{year}'\n",
    "    for filename in os.listdir(year_dir):\n",
    "        path = f'{year_dir}\\\\{filename}'\n",
    "        #plotID = path.rsplit('_',1)[0].rsplit('r',1)[1]\n",
    "        path_list.append(path)\n",
    "        #year_list.append(year)\n",
    "        #plotID_list.append(plotID)"
   ]
  },
  {
   "cell_type": "markdown",
   "id": "f3937a44",
   "metadata": {},
   "source": [
    "#### Get unique plotIDs and years per available trees"
   ]
  },
  {
   "cell_type": "code",
   "execution_count": 10,
   "id": "8a50f1d7",
   "metadata": {},
   "outputs": [
    {
     "data": {
      "application/vnd.jupyter.widget-view+json": {
       "model_id": "837f6187c15a4e07b311602f19ec5685",
       "version_major": 2,
       "version_minor": 0
      },
      "text/plain": [
       "Creating unique tree IDs...:   0%|          | 0/647 [00:00<?, ?it/s]"
      ]
     },
     "metadata": {},
     "output_type": "display_data"
    }
   ],
   "source": [
    "plotID_dict = data_loader.get_plotID(path_list)"
   ]
  },
  {
   "cell_type": "markdown",
   "id": "6f4cea00",
   "metadata": {},
   "source": [
    "#### Import all imagery, labels and other features from hdf5 files"
   ]
  },
  {
   "cell_type": "code",
   "execution_count": 11,
   "id": "94e3eecf",
   "metadata": {},
   "outputs": [
    {
     "data": {
      "application/vnd.jupyter.widget-view+json": {
       "model_id": "03149ab4c8de4013b0fb807ab9c94780",
       "version_major": 2,
       "version_minor": 0
      },
      "text/plain": [
       "Processing hdf5 datasets:   0%|          | 0/647 [00:00<?, ?it/s]"
      ]
     },
     "metadata": {},
     "output_type": "display_data"
    }
   ],
   "source": [
    "image_set, label_set, species_set, kkl_set, bk_set, hash_id = data_loader.hdf5_to_img_label(path_list,\n",
    "                                                                                               plotID_dict,\n",
    "                                                                                               load_sets=[\"images_masked\"])"
   ]
  },
  {
   "cell_type": "markdown",
   "id": "6a90e2b7",
   "metadata": {},
   "source": [
    "#### Convert nbv to classes"
   ]
  },
  {
   "cell_type": "code",
   "execution_count": 12,
   "id": "0224972a",
   "metadata": {},
   "outputs": [],
   "source": [
    "nbv_set = label_set\n",
    "image_set, label_set, species_set, kkl_set, bk_set, hash_id = combined_to_classesv2(species_set, nbv_set, image_set, kkl_set, bk_set, hash_id)"
   ]
  },
  {
   "cell_type": "markdown",
   "id": "c6b4cd85",
   "metadata": {},
   "source": [
    "#### Split data into subset (used for training and validation in the 5-fold cross-validation) and test set"
   ]
  },
  {
   "cell_type": "code",
   "execution_count": 13,
   "id": "d06eda54",
   "metadata": {},
   "outputs": [
    {
     "name": "stdout",
     "output_type": "stream",
     "text": [
      "ORIGINAL POSITIVE RATIO: 3.5131213512441195\n",
      "Fold : 0\n",
      "TRAIN POSITIVE RATIO: 3.4969274887341255\n",
      "TEST POSITIVE RATIO : 3.592258925592259\n",
      "LENGTH TRAIN GROUPS : 195\n",
      "LENGTH TEST GROUPS  : 40\n",
      "Number of True in sub_indices: 14646\n",
      "Number of False in sub_indices: 2997\n",
      "Number of True in test_indices: 1102\n",
      "Number of False in test_indices: 16541\n",
      "Check shapes:\n",
      "\n",
      "Images sub dataset: (14646, 250, 250, 3)\n",
      "Labels sub dataset: (14646, 1)\n",
      "\n",
      "Images test dataset: (1102, 250, 250, 3)\n",
      "Labels test dataset: (1102, 1)\n",
      "\n",
      "--------------------------------------------------\n",
      "Check if the split was stratified: (random_state=42)\n",
      "Healthy trees in sub dataset: 3561\n",
      "Stressed trees in sub dataset: 2068\n",
      "Dead trees in sub dataset: 1834\n",
      "Healthy trees in test dataset: 338\n",
      "Stressed trees in test dataset: 147\n",
      "Dead trees in test dataset: 107\n",
      "Ratio health trees in test dataset: 0.09491715810165684\n",
      "Ratio stressed trees in test dataset: 0.07108317214700194\n",
      "Ratio dead trees in test dataset: 0.05834242093784078\n"
     ]
    }
   ],
   "source": [
    "sub_image_set, sub_label_set, sub_hash_id, sub_species_set, test_image_set, test_label_set, test_hash_id, test_species_set = data_split(image_set, label_set, hash_id, species_set, n_splits=6, random_state=42, seed=2)\n"
   ]
  },
  {
   "cell_type": "markdown",
   "id": "c48fbb5b",
   "metadata": {},
   "source": [
    "#### Check if any hash ID is in both sub and test dataset"
   ]
  },
  {
   "cell_type": "code",
   "execution_count": 14,
   "id": "874367cf",
   "metadata": {},
   "outputs": [
    {
     "name": "stdout",
     "output_type": "stream",
     "text": [
      "There are no hash_id values in both train and test datasets. The datasplit was successful\n"
     ]
    }
   ],
   "source": [
    "hash_set = set(sub_hash_id[:,0].flatten())\n",
    "test_hash_set = set(test_hash_id[:,0].flatten())\n",
    "intersection = hash_set.intersection(test_hash_set)\n",
    "if intersection:\n",
    "    print(f\"Hash_id values in both train and test sets: {len(intersection)}\")\n",
    "else:\n",
    "    print(\"There are no hash_id values in both train and test datasets. The datasplit was successful\")"
   ]
  },
  {
   "cell_type": "markdown",
   "id": "9e5b64d4",
   "metadata": {},
   "source": [
    "#### Check feature distribution of the Test dataset"
   ]
  },
  {
   "cell_type": "code",
   "execution_count": 15,
   "id": "a33ff5cb",
   "metadata": {},
   "outputs": [
    {
     "name": "stdout",
     "output_type": "stream",
     "text": [
      "Test dataset\n",
      "Test data Picea abies healthy: 338\n",
      "Test data Picea abies stressed: 147\n",
      "Test data Pinus sylvestris healthy: 107\n",
      "Test data Pinus sylvestris stressed: 166\n",
      "Test data Abies alba healthy: 19\n",
      "Test data Abies alba stressed: 15\n",
      "Test data Fagus sylvatica healthy: 76\n",
      "Test data Fagus sylvatica stressed: 44\n",
      "Test data Quercus robur/petraea healthy: 61\n",
      "Test data Quercus robur/petraea stressed: 20\n",
      "Test data Larix spp.: 45\n",
      "Test data Acer spp.: 20\n",
      "Test data Betula pendula: 13\n",
      "Test data dead trees: 31\n",
      "--------------------------------------------------\n",
      "Remaining dataset\n",
      "Remaining data Picea abies healthy: 3561\n",
      "Remaining data Picea abies stressed: 2068\n",
      "Remaining data Pinus sylvestris healthy: 1834\n",
      "Remaining data Pinus sylvestris stressed: 2073\n",
      "Remaining data Abies alba healthy: 437\n",
      "Remaining data Abies alba stressed: 140\n",
      "Remaining data Fagus sylvatica healthy: 1287\n",
      "Remaining data Fagus sylvatica stressed: 953\n",
      "Remaining data Quercus robur/petraea healthy: 735\n",
      "Remaining data Quercus robur/petraea stressed: 413\n",
      "Test data Larix spp.: 447\n",
      "Test data Acer spp.: 244\n",
      "Test data Betula pendula: 233\n",
      "Remaining data dead trees: 221\n",
      "--------------------------------------------------\n"
     ]
    }
   ],
   "source": [
    "def count_occurrences(data, value):\n",
    "    count = 0\n",
    "    for item in data:\n",
    "        if item == value:\n",
    "            count += 1\n",
    "    return count\n",
    "\n",
    "print(\"Test dataset\")\n",
    "print(f\"Test data Picea abies healthy: {count_occurrences(test_label_set, 0)}\")\n",
    "print(f\"Test data Picea abies stressed: {count_occurrences(test_label_set, 1)}\")\n",
    "print(f\"Test data Pinus sylvestris healthy: {count_occurrences(test_label_set, 2)}\")\n",
    "print(f\"Test data Pinus sylvestris stressed: {count_occurrences(test_label_set, 3)}\")\n",
    "print(f\"Test data Abies alba healthy: {count_occurrences(test_label_set, 4)}\")\n",
    "print(f\"Test data Abies alba stressed: {count_occurrences(test_label_set, 5)}\")\n",
    "print(f\"Test data Fagus sylvatica healthy: {count_occurrences(test_label_set, 6)}\")\n",
    "print(f\"Test data Fagus sylvatica stressed: {count_occurrences(test_label_set, 7)}\")\n",
    "print(f\"Test data Quercus robur/petraea healthy: {count_occurrences(test_label_set, 8)}\")\n",
    "print(f\"Test data Quercus robur/petraea stressed: {count_occurrences(test_label_set, 9)}\")\n",
    "print(f\"Test data Larix spp.: {count_occurrences(test_label_set, 10)}\")\n",
    "print(f\"Test data Acer spp.: {count_occurrences(test_label_set, 11)}\")\n",
    "print(f\"Test data Betula pendula: {count_occurrences(test_label_set, 12)}\")\n",
    "print(f\"Test data dead trees: {count_occurrences(test_label_set, 13)}\")\n",
    "print(\"-\"*50)\n",
    "\n",
    "print(\"Remaining dataset\")\n",
    "print(f\"Remaining data Picea abies healthy: {count_occurrences(sub_label_set, 0)}\")\n",
    "print(f\"Remaining data Picea abies stressed: {count_occurrences(sub_label_set, 1)}\")\n",
    "print(f\"Remaining data Pinus sylvestris healthy: {count_occurrences(sub_label_set, 2)}\")\n",
    "print(f\"Remaining data Pinus sylvestris stressed: {count_occurrences(sub_label_set, 3)}\")\n",
    "print(f\"Remaining data Abies alba healthy: {count_occurrences(sub_label_set, 4)}\")\n",
    "print(f\"Remaining data Abies alba stressed: {count_occurrences(sub_label_set, 5)}\")\n",
    "print(f\"Remaining data Fagus sylvatica healthy: {count_occurrences(sub_label_set, 6)}\")\n",
    "print(f\"Remaining data Fagus sylvatica stressed: {count_occurrences(sub_label_set, 7)}\")\n",
    "print(f\"Remaining data Quercus robur/petraea healthy: {count_occurrences(sub_label_set, 8)}\")\n",
    "print(f\"Remaining data Quercus robur/petraea stressed: {count_occurrences(sub_label_set, 9)}\")\n",
    "print(f\"Test data Larix spp.: {count_occurrences(sub_label_set, 10)}\")\n",
    "print(f\"Test data Acer spp.: {count_occurrences(sub_label_set, 11)}\")\n",
    "print(f\"Test data Betula pendula: {count_occurrences(sub_label_set, 12)}\")\n",
    "print(f\"Remaining data dead trees: {count_occurrences(sub_label_set, 13)}\")\n",
    "print(\"-\"*50)"
   ]
  },
  {
   "cell_type": "code",
   "execution_count": 16,
   "id": "e08fcf57",
   "metadata": {},
   "outputs": [],
   "source": [
    "# train transform with augmentation. \n",
    "transform_train = transforms.Compose([transforms.ToTensor(), transforms.RandomHorizontalFlip(p=0.5), transforms.RandomVerticalFlip(p=0.5),\n",
    "                                      transforms.RandomRotation(degrees=[0,360])])\n",
    "\n",
    "# test and val dataset transform without augmentation. \n",
    "transform = transforms.Compose([transforms.ToTensor()])\n",
    "\n",
    "# class names need to fit the customDataset class used e.g. 3 classes -> use CustomDataset3Classes\n",
    "#class_names = ['healthy', 'slightly_stressed', 'moderately_stressed', 'highly_stressed', 'dead']\n",
    "#class_names = ['healthy', 'moderately_stressed', 'highly_stressed', 'dead']\n",
    "#class_names = ['healthy', 'moderate stress', 'severe stress', 'dead']\n",
    "class_names = ['Picea abies healthy', 'Picea abies stressed', 'Pinus sylvestris healthy', 'Pinus sylvestris stressed', \n",
    "               'Abies alba healthy', 'Abies alba stressed', 'Fagus sylvatica healthy', 'Fagus sylvatica stressed',\n",
    "               'Quercus robur/petraea healthy', 'Quercus robur/petraea stressed', 'dead trees']\n",
    "\n",
    "# set seeds\n",
    "g = torch.Generator()\n",
    "g.manual_seed(42)\n",
    "NUM_WORKERS=3 # should be changed, depending on the system used\n",
    "batch_size=32"
   ]
  },
  {
   "cell_type": "markdown",
   "id": "31779c05",
   "metadata": {},
   "source": [
    "#### Define variables and parameters"
   ]
  },
  {
   "cell_type": "code",
   "execution_count": 17,
   "id": "10ae4379",
   "metadata": {},
   "outputs": [
    {
     "name": "stdout",
     "output_type": "stream",
     "text": [
      "Memory allocated: 0 bytes\n"
     ]
    }
   ],
   "source": [
    "# 1. Define number of epochs\n",
    "epochs = 50\n",
    "n_bands = sub_image_set[0].shape[2] # get number of bands\n",
    "\n",
    "# 2. Define model\n",
    "num_classes = len(class_names)\n",
    "unfreeze = True # all layer weights get updated\n",
    "dropout_rate = 0.5 #define dropout rate\n",
    "model_name = \"EffNet_b7_RGB-11classes-combined_plotsplit\"\n",
    "\n",
    "# 3. Define loss, optimizer and learning rate scheduler\n",
    "lr = 0.001 # define learning rate\n",
    "min_lr = 1e-6 # minimum learning rate threshold\n",
    "gamma = 0.75 # how fast the learning rate decreases per epoch (low number=faster decrease)\n",
    "patience = 10\n",
    "\n",
    "# 4. Create target folder name were to save the tensorboard event files\n",
    "experiment_name = 'RGB-11classes-combined_plotsplit'\n",
    "extra = \"RGB-11classes-combined_plotsplit\"\n",
    "\n",
    "#----------------------------------------------------------------------\n",
    "#torch.cuda.empty_cache()\n",
    "print(f\"Memory allocated: {torch.cuda.memory_allocated()} bytes\") "
   ]
  },
  {
   "cell_type": "markdown",
   "id": "09768b1a",
   "metadata": {},
   "source": [
    "#### Run k-Fold cross-validation on EfficientNet"
   ]
  },
  {
   "cell_type": "code",
   "execution_count": 18,
   "id": "9c29c81d",
   "metadata": {},
   "outputs": [
    {
     "name": "stdout",
     "output_type": "stream",
     "text": [
      "ORIGINAL POSITIVE RATIO: 3.4969274887341255\n",
      "Fold : 1\n",
      "TRAIN POSITIVE RATIO: 3.3526866833953446\n",
      "VAL POSITIVE RATIO  : 4.036581417934607\n",
      "LENGTH TRAIN GROUPS : 156\n",
      "LENGTH VAL GROUPS   : 39\n"
     ]
    },
    {
     "data": {
      "text/html": [
       "Finishing last run (ID:v3clf47q) before initializing another..."
      ],
      "text/plain": [
       "<IPython.core.display.HTML object>"
      ]
     },
     "metadata": {},
     "output_type": "display_data"
    },
    {
     "data": {
      "text/html": [
       "Waiting for W&B process to finish... <strong style=\"color:green\">(success).</strong>"
      ],
      "text/plain": [
       "<IPython.core.display.HTML object>"
      ]
     },
     "metadata": {},
     "output_type": "display_data"
    },
    {
     "data": {
      "application/vnd.jupyter.widget-view+json": {
       "model_id": "b69aa74115dc432ea95bd5124f5b718a",
       "version_major": 2,
       "version_minor": 0
      },
      "text/plain": [
       "VBox(children=(Label(value='0.001 MB of 0.001 MB uploaded (0.000 MB deduped)\\r'), FloatProgress(value=1.0, max…"
      ]
     },
     "metadata": {},
     "output_type": "display_data"
    },
    {
     "data": {
      "text/html": [
       " View run <strong style=\"color:#cdcd00\">good-sky-20</strong> at: <a href='https://wandb.ai/simon-ecke/wze-uav-combined-11classes/runs/v3clf47q' target=\"_blank\">https://wandb.ai/simon-ecke/wze-uav-combined-11classes/runs/v3clf47q</a><br/>Synced 5 W&B file(s), 0 media file(s), 0 artifact file(s) and 0 other file(s)"
      ],
      "text/plain": [
       "<IPython.core.display.HTML object>"
      ]
     },
     "metadata": {},
     "output_type": "display_data"
    },
    {
     "data": {
      "text/html": [
       "Find logs at: <code>.\\wandb\\run-20230527_120014-v3clf47q\\logs</code>"
      ],
      "text/plain": [
       "<IPython.core.display.HTML object>"
      ]
     },
     "metadata": {},
     "output_type": "display_data"
    },
    {
     "data": {
      "text/html": [
       "Successfully finished last run (ID:v3clf47q). Initializing new run:<br/>"
      ],
      "text/plain": [
       "<IPython.core.display.HTML object>"
      ]
     },
     "metadata": {},
     "output_type": "display_data"
    },
    {
     "data": {
      "application/vnd.jupyter.widget-view+json": {
       "model_id": "e56afb215b6a4ebfaaffa35969df02c3",
       "version_major": 2,
       "version_minor": 0
      },
      "text/plain": [
       "VBox(children=(Label(value='Waiting for wandb.init()...\\r'), FloatProgress(value=0.016666666666666666, max=1.0…"
      ]
     },
     "metadata": {},
     "output_type": "display_data"
    },
    {
     "data": {
      "text/html": [
       "wandb version 0.15.3 is available!  To upgrade, please run:\n",
       " $ pip install wandb --upgrade"
      ],
      "text/plain": [
       "<IPython.core.display.HTML object>"
      ]
     },
     "metadata": {},
     "output_type": "display_data"
    },
    {
     "data": {
      "text/html": [
       "Tracking run with wandb version 0.14.2"
      ],
      "text/plain": [
       "<IPython.core.display.HTML object>"
      ]
     },
     "metadata": {},
     "output_type": "display_data"
    },
    {
     "data": {
      "text/html": [
       "Run data is saved locally in <code>C:\\Users\\lwfeckesim\\01_PyTorch\\wze-uav\\wze-uav-master\\wandb\\run-20230527_123535-6bckyzrr</code>"
      ],
      "text/plain": [
       "<IPython.core.display.HTML object>"
      ]
     },
     "metadata": {},
     "output_type": "display_data"
    },
    {
     "data": {
      "text/html": [
       "Syncing run <strong><a href='https://wandb.ai/simon-ecke/wze-uav-combined-11classes/runs/6bckyzrr' target=\"_blank\">fold_1_RGB-11classes-combined_plotsplit</a></strong> to <a href='https://wandb.ai/simon-ecke/wze-uav-combined-11classes' target=\"_blank\">Weights & Biases</a> (<a href='https://wandb.me/run' target=\"_blank\">docs</a>)<br/>"
      ],
      "text/plain": [
       "<IPython.core.display.HTML object>"
      ]
     },
     "metadata": {},
     "output_type": "display_data"
    },
    {
     "data": {
      "text/html": [
       " View project at <a href='https://wandb.ai/simon-ecke/wze-uav-combined-11classes' target=\"_blank\">https://wandb.ai/simon-ecke/wze-uav-combined-11classes</a>"
      ],
      "text/plain": [
       "<IPython.core.display.HTML object>"
      ]
     },
     "metadata": {},
     "output_type": "display_data"
    },
    {
     "data": {
      "text/html": [
       " View run at <a href='https://wandb.ai/simon-ecke/wze-uav-combined-11classes/runs/6bckyzrr' target=\"_blank\">https://wandb.ai/simon-ecke/wze-uav-combined-11classes/runs/6bckyzrr</a>"
      ],
      "text/plain": [
       "<IPython.core.display.HTML object>"
      ]
     },
     "metadata": {},
     "output_type": "display_data"
    },
    {
     "name": "stdout",
     "output_type": "stream",
     "text": [
      "There are no same hash_id values in train, val or test datasets. The datasplit was successful\n",
      "Check shapes:\n",
      "\n",
      "Images train dataset: (11557, 250, 250, 3)\n",
      "Labels train dataset: (11557, 1)\n",
      "\n",
      "Images validation dataset: (1104, 250, 250, 3)\n",
      "Labels validation dataset: (1104, 1)\n",
      "\n",
      "--------------------------------------------------\n",
      "Check if the split was stratified: (random_state=42)\n",
      "Picea abies healthy in train dataset: 2879\n",
      "Picea abies stressed in train dataset: 1542\n",
      "Pinus sylvestris healthy in train dataset: 1540\n",
      "Pinus sylvestris stressed in train dataset: 1835\n",
      "Abies alba healthy in train dataset: 392\n",
      "Abies alba stressed in train dataset: 125\n",
      "Fagus sylvatica healthy in train dataset: 974\n",
      "Fagus sylvatica stressed in train dataset: 631\n",
      "Quercus robur/petraea healthy in train dataset: 532\n",
      "Quercus robur/petraea stressed in train dataset: 273\n",
      "Larix spp. in train dataset: 265\n",
      "Acer spp. in train dataset: 196\n",
      "Betula pendula in train dataset: 202\n",
      "Dead trees in train dataset: 171\n",
      "Picea abies healthy in validation dataset: 255\n",
      "Picea abies stressed in validation dataset: 174\n",
      "Pinus sylvestris healthy in validation dataset: 136\n",
      "Pinus sylvestris stressed in validation dataset: 82\n",
      "Abies alba healthy in validation dataset: 17\n",
      "Abies alba stressed in validation dataset: 4\n",
      "Fagus sylvatica healthy in validation dataset: 102\n",
      "Fagus sylvatica stressed in validation dataset: 116\n",
      "Quercus robur/petraea healthy in validation dataset: 60\n",
      "Quercus robur/petraea stressed in validation dataset: 53\n",
      "Larix spp. in validation dataset: 62\n",
      "Acer spp. in validation dataset: 16\n",
      "Betula pendula in validation dataset: 10\n",
      "Dead trees in validation dataset: 17\n",
      "--------------------------------------------------\n",
      "\n",
      "Creating datasets for fold: 1\n",
      "\n",
      "Creating dataloaders for fold: 1\n",
      "\n",
      "Loaded pretrained weights for efficientnet-b7\n",
      "\n",
      "[INFO] Fold number: 1\n",
      "[INFO] Number of epochs: 50\n",
      "[INFO] Batch_size: 32\n",
      "[INFO] Number of bands: 3\n",
      "[INFO] Dropout rate: 0.5\n",
      "[INFO] Gamma learning rate: 0.75\n",
      "[INFO] Memory allocated: 0 bytes\n"
     ]
    },
    {
     "data": {
      "application/vnd.jupyter.widget-view+json": {
       "model_id": "ee5ade0509374c41908a0f51484a5912",
       "version_major": 2,
       "version_minor": 0
      },
      "text/plain": [
       "  0%|          | 0/50 [00:00<?, ?it/s]"
      ]
     },
     "metadata": {},
     "output_type": "display_data"
    },
    {
     "name": "stdout",
     "output_type": "stream",
     "text": [
      "Epoch: 1 \n",
      "Learning rate: 0.001\n",
      "Train loss: 1.4324 | Train precision: 0.3601 | Train recall: 0.3192 | Train f1score: 0.3278 | Train acc: 0.4290 | Train kappa: 0.6622 \n",
      "Val loss: 1.5370 | Val precision: 0.2871 | Val recall: 0.2394 | Val f1score: 0.1818 | Val acc: 0.3790 | Val kappa: 0.6642 \n",
      "\n",
      "Epoch: 2 \n",
      "Learning rate: 0.00075\n",
      "Train loss: 1.1384 | Train precision: 0.4666 | Train recall: 0.4397 | Train f1score: 0.4423 | Train acc: 0.5234 | Train kappa: 0.7877 \n",
      "Val loss: 1.3511 | Val precision: 0.4426 | Val recall: 0.3532 | Val f1score: 0.3588 | Val acc: 0.4859 | Val kappa: 0.7040 \n",
      "\n",
      "Epoch: 3 \n",
      "Learning rate: 0.0005625000000000001\n",
      "Train loss: 1.0352 | Train precision: 0.5257 | Train recall: 0.4931 | Train f1score: 0.4995 | Train acc: 0.5576 | Train kappa: 0.8275 \n",
      "Val loss: 1.3595 | Val precision: 0.4470 | Val recall: 0.4144 | Val f1score: 0.3744 | Val acc: 0.4486 | Val kappa: 0.7625 \n",
      "\n",
      "Epoch: 4 \n",
      "Learning rate: 0.000421875\n",
      "Train loss: 0.9760 | Train precision: 0.5600 | Train recall: 0.5246 | Train f1score: 0.5315 | Train acc: 0.5820 | Train kappa: 0.8496 \n",
      "Val loss: 1.1093 | Val precision: 0.5031 | Val recall: 0.5113 | Val f1score: 0.4475 | Val acc: 0.5423 | Val kappa: 0.8719 \n",
      "\n",
      "Epoch: 5 \n",
      "Learning rate: 0.00031640625\n",
      "Train loss: 0.8987 | Train precision: 0.6051 | Train recall: 0.5701 | Train f1score: 0.5794 | Train acc: 0.6112 | Train kappa: 0.8796 \n",
      "Val loss: 1.2304 | Val precision: 0.4937 | Val recall: 0.4546 | Val f1score: 0.4315 | Val acc: 0.5101 | Val kappa: 0.7683 \n",
      "\n",
      "Epoch: 6 \n",
      "Learning rate: 0.0002373046875\n",
      "Train loss: 0.8732 | Train precision: 0.6057 | Train recall: 0.5736 | Train f1score: 0.5808 | Train acc: 0.6152 | Train kappa: 0.8825 \n",
      "Val loss: 1.0227 | Val precision: 0.4951 | Val recall: 0.5016 | Val f1score: 0.4807 | Val acc: 0.5494 | Val kappa: 0.8638 \n",
      "\n",
      "Epoch: 7 \n",
      "Learning rate: 0.000177978515625\n",
      "Train loss: 0.8508 | Train precision: 0.6270 | Train recall: 0.5935 | Train f1score: 0.6033 | Train acc: 0.6339 | Train kappa: 0.8821 \n",
      "Val loss: 1.0431 | Val precision: 0.4648 | Val recall: 0.5195 | Val f1score: 0.4606 | Val acc: 0.5181 | Val kappa: 0.8726 \n",
      "\n",
      "Epoch: 8 \n",
      "Learning rate: 0.00013348388671875\n",
      "Train loss: 0.8237 | Train precision: 0.6417 | Train recall: 0.6037 | Train f1score: 0.6154 | Train acc: 0.6423 | Train kappa: 0.8895 \n",
      "Val loss: 0.9876 | Val precision: 0.5117 | Val recall: 0.4999 | Val f1score: 0.4766 | Val acc: 0.5655 | Val kappa: 0.8667 \n",
      "\n",
      "Epoch: 9 \n",
      "Learning rate: 0.0001001129150390625\n",
      "Train loss: 0.7884 | Train precision: 0.6648 | Train recall: 0.6301 | Train f1score: 0.6419 | Train acc: 0.6532 | Train kappa: 0.9075 \n",
      "Val loss: 0.9497 | Val precision: 0.5417 | Val recall: 0.5397 | Val f1score: 0.5183 | Val acc: 0.5917 | Val kappa: 0.8947 \n",
      "\n",
      "Epoch: 10 \n",
      "Learning rate: 7.508468627929687e-05\n",
      "Train loss: 0.7914 | Train precision: 0.6492 | Train recall: 0.6158 | Train f1score: 0.6264 | Train acc: 0.6478 | Train kappa: 0.9010 \n",
      "Val loss: 0.9954 | Val precision: 0.4979 | Val recall: 0.5290 | Val f1score: 0.4962 | Val acc: 0.5706 | Val kappa: 0.8515 \n",
      "\n",
      "Epoch: 11 \n",
      "Learning rate: 5.6313514709472656e-05\n",
      "Train loss: 0.7523 | Train precision: 0.6682 | Train recall: 0.6416 | Train f1score: 0.6510 | Train acc: 0.6678 | Train kappa: 0.9161 \n",
      "Val loss: 1.0123 | Val precision: 0.5112 | Val recall: 0.5036 | Val f1score: 0.4839 | Val acc: 0.5595 | Val kappa: 0.8798 \n",
      "\n",
      "Epoch: 12 \n",
      "Learning rate: 4.223513603210449e-05\n",
      "Train loss: 0.7455 | Train precision: 0.6868 | Train recall: 0.6512 | Train f1score: 0.6637 | Train acc: 0.6730 | Train kappa: 0.9144 \n",
      "Val loss: 0.9682 | Val precision: 0.5017 | Val recall: 0.5142 | Val f1score: 0.4919 | Val acc: 0.5726 | Val kappa: 0.8815 \n",
      "\n",
      "Epoch: 13 \n",
      "Learning rate: 3.167635202407837e-05\n",
      "Train loss: 0.7332 | Train precision: 0.6793 | Train recall: 0.6485 | Train f1score: 0.6591 | Train acc: 0.6722 | Train kappa: 0.9218 \n",
      "Val loss: 0.9651 | Val precision: 0.5215 | Val recall: 0.5380 | Val f1score: 0.5074 | Val acc: 0.5847 | Val kappa: 0.8826 \n",
      "\n",
      "Epoch: 14 \n",
      "Learning rate: 2.3757264018058778e-05\n",
      "Train loss: 0.7247 | Train precision: 0.6811 | Train recall: 0.6528 | Train f1score: 0.6619 | Train acc: 0.6680 | Train kappa: 0.9220 \n",
      "Val loss: 0.9638 | Val precision: 0.5205 | Val recall: 0.5229 | Val f1score: 0.5056 | Val acc: 0.5766 | Val kappa: 0.8910 \n",
      "\n",
      "Epoch: 15 \n",
      "Learning rate: 1.7817948013544083e-05\n",
      "Train loss: 0.7109 | Train precision: 0.6906 | Train recall: 0.6594 | Train f1score: 0.6701 | Train acc: 0.6811 | Train kappa: 0.9197 \n",
      "Val loss: 0.9876 | Val precision: 0.5128 | Val recall: 0.5264 | Val f1score: 0.4968 | Val acc: 0.5716 | Val kappa: 0.8799 \n",
      "\n",
      "Epoch: 16 \n",
      "Learning rate: 1.3363461010158063e-05\n",
      "Train loss: 0.7136 | Train precision: 0.6864 | Train recall: 0.6628 | Train f1score: 0.6708 | Train acc: 0.6775 | Train kappa: 0.9193 \n",
      "Val loss: 0.9837 | Val precision: 0.5089 | Val recall: 0.5262 | Val f1score: 0.4973 | Val acc: 0.5665 | Val kappa: 0.8883 \n",
      "\n",
      "Epoch: 17 \n",
      "Learning rate: 1.0022595757618546e-05\n",
      "Train loss: 0.7135 | Train precision: 0.6902 | Train recall: 0.6599 | Train f1score: 0.6710 | Train acc: 0.6869 | Train kappa: 0.9200 \n",
      "Val loss: 1.0001 | Val precision: 0.5015 | Val recall: 0.5160 | Val f1score: 0.4878 | Val acc: 0.5625 | Val kappa: 0.8722 \n",
      "\n",
      "Epoch: 18 \n",
      "Learning rate: 7.51694681821391e-06\n",
      "Train loss: 0.7033 | Train precision: 0.6960 | Train recall: 0.6627 | Train f1score: 0.6733 | Train acc: 0.6833 | Train kappa: 0.9229 \n",
      "Val loss: 0.9855 | Val precision: 0.5208 | Val recall: 0.5311 | Val f1score: 0.5027 | Val acc: 0.5685 | Val kappa: 0.8852 \n",
      "\n",
      "Epoch: 19 \n",
      "Learning rate: 5.637710113660432e-06\n",
      "Train loss: 0.7009 | Train precision: 0.7043 | Train recall: 0.6704 | Train f1score: 0.6810 | Train acc: 0.6831 | Train kappa: 0.9251 \n",
      "Val loss: 0.9932 | Val precision: 0.5178 | Val recall: 0.5235 | Val f1score: 0.5036 | Val acc: 0.5696 | Val kappa: 0.8870 \n",
      "\n",
      "Early stopping after epoch 19\n"
     ]
    },
    {
     "data": {
      "text/html": [
       "Waiting for W&B process to finish... <strong style=\"color:green\">(success).</strong>"
      ],
      "text/plain": [
       "<IPython.core.display.HTML object>"
      ]
     },
     "metadata": {},
     "output_type": "display_data"
    },
    {
     "data": {
      "text/html": [
       "<style>\n",
       "    table.wandb td:nth-child(1) { padding: 0 10px; text-align: left ; width: auto;} td:nth-child(2) {text-align: left ; width: 100%}\n",
       "    .wandb-row { display: flex; flex-direction: row; flex-wrap: wrap; justify-content: flex-start; width: 100% }\n",
       "    .wandb-col { display: flex; flex-direction: column; flex-basis: 100%; flex: 1; padding: 10px; }\n",
       "    </style>\n",
       "<div class=\"wandb-row\"><div class=\"wandb-col\"><h3>Run history:</h3><br/><table class=\"wandb\"><tr><td>learning_rate</td><td>█▆▅▄▃▃▂▂▂▁▁▁▁▁▁▁▁▁▁</td></tr><tr><td>train_f1_score</td><td>▁▃▄▅▆▆▆▇▇▇▇████████</td></tr><tr><td>train_loss</td><td>█▅▄▄▃▃▂▂▂▂▁▁▁▁▁▁▁▁▁</td></tr><tr><td>val_f1_score</td><td>▁▅▅▇▆▇▇▇██▇▇████▇██</td></tr><tr><td>val_loss</td><td>█▆▆▃▄▂▂▁▁▂▂▁▁▁▁▁▂▁▂</td></tr></table><br/></div><div class=\"wandb-col\"><h3>Run summary:</h3><br/><table class=\"wandb\"><tr><td>learning_rate</td><td>1e-05</td></tr><tr><td>train_f1_score</td><td>0.68095</td></tr><tr><td>train_loss</td><td>0.70094</td></tr><tr><td>val_f1_score</td><td>0.50364</td></tr><tr><td>val_loss</td><td>0.99318</td></tr></table><br/></div></div>"
      ],
      "text/plain": [
       "<IPython.core.display.HTML object>"
      ]
     },
     "metadata": {},
     "output_type": "display_data"
    },
    {
     "data": {
      "text/html": [
       " View run <strong style=\"color:#cdcd00\">fold_1_RGB-11classes-combined_plotsplit</strong> at: <a href='https://wandb.ai/simon-ecke/wze-uav-combined-11classes/runs/6bckyzrr' target=\"_blank\">https://wandb.ai/simon-ecke/wze-uav-combined-11classes/runs/6bckyzrr</a><br/>Synced 5 W&B file(s), 0 media file(s), 0 artifact file(s) and 0 other file(s)"
      ],
      "text/plain": [
       "<IPython.core.display.HTML object>"
      ]
     },
     "metadata": {},
     "output_type": "display_data"
    },
    {
     "data": {
      "text/html": [
       "Find logs at: <code>.\\wandb\\run-20230527_123535-6bckyzrr\\logs</code>"
      ],
      "text/plain": [
       "<IPython.core.display.HTML object>"
      ]
     },
     "metadata": {},
     "output_type": "display_data"
    },
    {
     "name": "stdout",
     "output_type": "stream",
     "text": [
      "Deleting variables and emptying cache\n",
      "Memory allocated: 1047879168 bytes\n",
      "--------------------------------------------------\n",
      "\n",
      "Fold : 2\n",
      "TRAIN POSITIVE RATIO: 3.58949900464499\n",
      "VAL POSITIVE RATIO  : 3.066023166023166\n",
      "LENGTH TRAIN GROUPS : 158\n",
      "LENGTH VAL GROUPS   : 37\n"
     ]
    },
    {
     "data": {
      "text/html": [
       "wandb version 0.15.3 is available!  To upgrade, please run:\n",
       " $ pip install wandb --upgrade"
      ],
      "text/plain": [
       "<IPython.core.display.HTML object>"
      ]
     },
     "metadata": {},
     "output_type": "display_data"
    },
    {
     "data": {
      "text/html": [
       "Tracking run with wandb version 0.14.2"
      ],
      "text/plain": [
       "<IPython.core.display.HTML object>"
      ]
     },
     "metadata": {},
     "output_type": "display_data"
    },
    {
     "data": {
      "text/html": [
       "Run data is saved locally in <code>C:\\Users\\lwfeckesim\\01_PyTorch\\wze-uav\\wze-uav-master\\wandb\\run-20230527_140410-oqq6tf7a</code>"
      ],
      "text/plain": [
       "<IPython.core.display.HTML object>"
      ]
     },
     "metadata": {},
     "output_type": "display_data"
    },
    {
     "data": {
      "text/html": [
       "Syncing run <strong><a href='https://wandb.ai/simon-ecke/wze-uav-combined-11classes/runs/oqq6tf7a' target=\"_blank\">fold_2_RGB-11classes-combined_plotsplit</a></strong> to <a href='https://wandb.ai/simon-ecke/wze-uav-combined-11classes' target=\"_blank\">Weights & Biases</a> (<a href='https://wandb.me/run' target=\"_blank\">docs</a>)<br/>"
      ],
      "text/plain": [
       "<IPython.core.display.HTML object>"
      ]
     },
     "metadata": {},
     "output_type": "display_data"
    },
    {
     "data": {
      "text/html": [
       " View project at <a href='https://wandb.ai/simon-ecke/wze-uav-combined-11classes' target=\"_blank\">https://wandb.ai/simon-ecke/wze-uav-combined-11classes</a>"
      ],
      "text/plain": [
       "<IPython.core.display.HTML object>"
      ]
     },
     "metadata": {},
     "output_type": "display_data"
    },
    {
     "data": {
      "text/html": [
       " View run at <a href='https://wandb.ai/simon-ecke/wze-uav-combined-11classes/runs/oqq6tf7a' target=\"_blank\">https://wandb.ai/simon-ecke/wze-uav-combined-11classes/runs/oqq6tf7a</a>"
      ],
      "text/plain": [
       "<IPython.core.display.HTML object>"
      ]
     },
     "metadata": {},
     "output_type": "display_data"
    },
    {
     "name": "stdout",
     "output_type": "stream",
     "text": [
      "There are no same hash_id values in train, val or test datasets. The datasplit was successful\n",
      "Check shapes:\n",
      "\n",
      "Images train dataset: (12056, 250, 250, 3)\n",
      "Labels train dataset: (12056, 1)\n",
      "\n",
      "Images validation dataset: (917, 250, 250, 3)\n",
      "Labels validation dataset: (917, 1)\n",
      "\n",
      "--------------------------------------------------\n",
      "Check if the split was stratified: (random_state=42)\n",
      "Picea abies healthy in train dataset: 2915\n",
      "Picea abies stressed in train dataset: 1589\n",
      "Pinus sylvestris healthy in train dataset: 1458\n",
      "Pinus sylvestris stressed in train dataset: 1695\n",
      "Abies alba healthy in train dataset: 400\n",
      "Abies alba stressed in train dataset: 136\n",
      "Fagus sylvatica healthy in train dataset: 1106\n",
      "Fagus sylvatica stressed in train dataset: 786\n",
      "Quercus robur/petraea healthy in train dataset: 615\n",
      "Quercus robur/petraea stressed in train dataset: 356\n",
      "Larix spp. in train dataset: 417\n",
      "Acer spp. in train dataset: 223\n",
      "Betula pendula in train dataset: 160\n",
      "Dead trees in train dataset: 200\n",
      "Picea abies healthy in validation dataset: 227\n",
      "Picea abies stressed in validation dataset: 171\n",
      "Pinus sylvestris healthy in validation dataset: 123\n",
      "Pinus sylvestris stressed in validation dataset: 138\n",
      "Abies alba healthy in validation dataset: 14\n",
      "Abies alba stressed in validation dataset: 1\n",
      "Fagus sylvatica healthy in validation dataset: 61\n",
      "Fagus sylvatica stressed in validation dataset: 71\n",
      "Quercus robur/petraea healthy in validation dataset: 36\n",
      "Quercus robur/petraea stressed in validation dataset: 28\n",
      "Larix spp. in validation dataset: 8\n",
      "Acer spp. in validation dataset: 7\n",
      "Betula pendula in validation dataset: 23\n",
      "Dead trees in validation dataset: 9\n",
      "--------------------------------------------------\n",
      "\n",
      "Creating datasets for fold: 2\n",
      "\n",
      "Creating dataloaders for fold: 2\n",
      "\n",
      "Loaded pretrained weights for efficientnet-b7\n",
      "\n",
      "[INFO] Fold number: 2\n",
      "[INFO] Number of epochs: 50\n",
      "[INFO] Batch_size: 32\n",
      "[INFO] Number of bands: 3\n",
      "[INFO] Dropout rate: 0.5\n",
      "[INFO] Gamma learning rate: 0.75\n",
      "[INFO] Memory allocated: 0 bytes\n"
     ]
    },
    {
     "data": {
      "application/vnd.jupyter.widget-view+json": {
       "model_id": "72177529c8444f5a8ecbea4e090af773",
       "version_major": 2,
       "version_minor": 0
      },
      "text/plain": [
       "  0%|          | 0/50 [00:00<?, ?it/s]"
      ]
     },
     "metadata": {},
     "output_type": "display_data"
    },
    {
     "name": "stdout",
     "output_type": "stream",
     "text": [
      "Epoch: 1 \n",
      "Learning rate: 0.001\n",
      "Train loss: 1.4230 | Train precision: 0.3652 | Train recall: 0.3453 | Train f1score: 0.3470 | Train acc: 0.4306 | Train kappa: 0.7025 \n",
      "Val loss: 1.9184 | Val precision: 0.1692 | Val recall: 0.2060 | Val f1score: 0.1361 | Val acc: 0.2674 | Val kappa: 0.4322 \n",
      "\n",
      "Epoch: 2 \n",
      "Learning rate: 0.00075\n",
      "Train loss: 1.1227 | Train precision: 0.4890 | Train recall: 0.4597 | Train f1score: 0.4621 | Train acc: 0.5256 | Train kappa: 0.8134 \n",
      "Val loss: 1.3525 | Val precision: 0.4638 | Val recall: 0.4179 | Val f1score: 0.3768 | Val acc: 0.4850 | Val kappa: 0.7882 \n",
      "\n",
      "Epoch: 3 \n",
      "Learning rate: 0.0005625000000000001\n",
      "Train loss: 1.0472 | Train precision: 0.5231 | Train recall: 0.4996 | Train f1score: 0.4991 | Train acc: 0.5579 | Train kappa: 0.8405 \n",
      "Val loss: 1.0748 | Val precision: 0.4496 | Val recall: 0.5382 | Val f1score: 0.4497 | Val acc: 0.5532 | Val kappa: 0.8414 \n",
      "\n",
      "Epoch: 4 \n",
      "Learning rate: 0.000421875\n",
      "Train loss: 0.9692 | Train precision: 0.5541 | Train recall: 0.5328 | Train f1score: 0.5339 | Train acc: 0.5797 | Train kappa: 0.8711 \n",
      "Val loss: 1.1419 | Val precision: 0.4479 | Val recall: 0.4381 | Val f1score: 0.3956 | Val acc: 0.5197 | Val kappa: 0.7757 \n",
      "\n",
      "Epoch: 5 \n",
      "Learning rate: 0.00031640625\n",
      "Train loss: 0.9010 | Train precision: 0.6018 | Train recall: 0.5720 | Train f1score: 0.5770 | Train acc: 0.6095 | Train kappa: 0.8808 \n",
      "Val loss: 1.1884 | Val precision: 0.5283 | Val recall: 0.4364 | Val f1score: 0.4208 | Val acc: 0.5359 | Val kappa: 0.8117 \n",
      "\n",
      "Epoch: 6 \n",
      "Learning rate: 0.0002373046875\n",
      "Train loss: 0.8748 | Train precision: 0.6132 | Train recall: 0.5869 | Train f1score: 0.5917 | Train acc: 0.6236 | Train kappa: 0.8929 \n",
      "Val loss: 0.9873 | Val precision: 0.5546 | Val recall: 0.4646 | Val f1score: 0.4522 | Val acc: 0.5764 | Val kappa: 0.8224 \n",
      "\n",
      "Epoch: 7 \n",
      "Learning rate: 0.000177978515625\n",
      "Train loss: 0.8426 | Train precision: 0.6204 | Train recall: 0.5979 | Train f1score: 0.6024 | Train acc: 0.6248 | Train kappa: 0.8928 \n",
      "Val loss: 0.9524 | Val precision: 0.5455 | Val recall: 0.5091 | Val f1score: 0.4756 | Val acc: 0.5903 | Val kappa: 0.8367 \n",
      "\n",
      "Epoch: 8 \n",
      "Learning rate: 0.00013348388671875\n",
      "Train loss: 0.8055 | Train precision: 0.6507 | Train recall: 0.6236 | Train f1score: 0.6305 | Train acc: 0.6428 | Train kappa: 0.9155 \n",
      "Val loss: 0.9958 | Val precision: 0.4795 | Val recall: 0.4970 | Val f1score: 0.4637 | Val acc: 0.5856 | Val kappa: 0.7998 \n",
      "\n",
      "Epoch: 9 \n",
      "Learning rate: 0.0001001129150390625\n",
      "Train loss: 0.7819 | Train precision: 0.6582 | Train recall: 0.6302 | Train f1score: 0.6360 | Train acc: 0.6613 | Train kappa: 0.9130 \n",
      "Val loss: 0.9667 | Val precision: 0.4842 | Val recall: 0.4558 | Val f1score: 0.4463 | Val acc: 0.5764 | Val kappa: 0.8447 \n",
      "\n",
      "Epoch: 10 \n",
      "Learning rate: 7.508468627929687e-05\n",
      "Train loss: 0.7561 | Train precision: 0.6757 | Train recall: 0.6434 | Train f1score: 0.6517 | Train acc: 0.6710 | Train kappa: 0.9185 \n",
      "Val loss: 0.9550 | Val precision: 0.4993 | Val recall: 0.4964 | Val f1score: 0.4905 | Val acc: 0.6030 | Val kappa: 0.8663 \n",
      "\n",
      "Epoch: 11 \n",
      "Learning rate: 5.6313514709472656e-05\n",
      "Train loss: 0.7368 | Train precision: 0.6760 | Train recall: 0.6486 | Train f1score: 0.6559 | Train acc: 0.6734 | Train kappa: 0.9261 \n",
      "Val loss: 0.9325 | Val precision: 0.5163 | Val recall: 0.5004 | Val f1score: 0.4943 | Val acc: 0.5938 | Val kappa: 0.8700 \n",
      "\n",
      "Epoch: 12 \n",
      "Learning rate: 4.223513603210449e-05\n",
      "Train loss: 0.7239 | Train precision: 0.6981 | Train recall: 0.6673 | Train f1score: 0.6766 | Train acc: 0.6816 | Train kappa: 0.9280 \n",
      "Val loss: 0.9523 | Val precision: 0.5108 | Val recall: 0.5100 | Val f1score: 0.4980 | Val acc: 0.5938 | Val kappa: 0.8701 \n",
      "\n",
      "Epoch: 13 \n",
      "Learning rate: 3.167635202407837e-05\n",
      "Train loss: 0.7093 | Train precision: 0.6953 | Train recall: 0.6767 | Train f1score: 0.6828 | Train acc: 0.6873 | Train kappa: 0.9262 \n",
      "Val loss: 0.9613 | Val precision: 0.5227 | Val recall: 0.4983 | Val f1score: 0.5004 | Val acc: 0.5949 | Val kappa: 0.8547 \n",
      "\n",
      "Epoch: 14 \n",
      "Learning rate: 2.3757264018058778e-05\n",
      "Train loss: 0.7018 | Train precision: 0.7067 | Train recall: 0.6761 | Train f1score: 0.6870 | Train acc: 0.6910 | Train kappa: 0.9262 \n",
      "Val loss: 0.9700 | Val precision: 0.5184 | Val recall: 0.4981 | Val f1score: 0.4920 | Val acc: 0.5984 | Val kappa: 0.8520 \n",
      "\n",
      "Epoch: 15 \n",
      "Learning rate: 1.7817948013544083e-05\n",
      "Train loss: 0.7014 | Train precision: 0.7043 | Train recall: 0.6778 | Train f1score: 0.6843 | Train acc: 0.6921 | Train kappa: 0.9317 \n",
      "Val loss: 0.9730 | Val precision: 0.5046 | Val recall: 0.4887 | Val f1score: 0.4827 | Val acc: 0.5833 | Val kappa: 0.8514 \n",
      "\n",
      "Epoch: 16 \n",
      "Learning rate: 1.3363461010158063e-05\n",
      "Train loss: 0.6915 | Train precision: 0.7095 | Train recall: 0.6827 | Train f1score: 0.6918 | Train acc: 0.6905 | Train kappa: 0.9381 \n",
      "Val loss: 0.9838 | Val precision: 0.5180 | Val recall: 0.4971 | Val f1score: 0.4840 | Val acc: 0.5903 | Val kappa: 0.8474 \n",
      "\n",
      "Epoch: 17 \n",
      "Learning rate: 1.0022595757618546e-05\n",
      "Train loss: 0.7006 | Train precision: 0.6917 | Train recall: 0.6698 | Train f1score: 0.6755 | Train acc: 0.6845 | Train kappa: 0.9333 \n",
      "Val loss: 0.9671 | Val precision: 0.5275 | Val recall: 0.5053 | Val f1score: 0.5010 | Val acc: 0.5914 | Val kappa: 0.8681 \n",
      "\n",
      "Epoch: 18 \n",
      "Learning rate: 7.51694681821391e-06\n",
      "Train loss: 0.6899 | Train precision: 0.7119 | Train recall: 0.6838 | Train f1score: 0.6937 | Train acc: 0.6929 | Train kappa: 0.9341 \n",
      "Val loss: 0.9695 | Val precision: 0.5144 | Val recall: 0.4953 | Val f1score: 0.4877 | Val acc: 0.5868 | Val kappa: 0.8560 \n",
      "\n",
      "Epoch: 19 \n",
      "Learning rate: 5.637710113660432e-06\n",
      "Train loss: 0.6776 | Train precision: 0.7129 | Train recall: 0.6823 | Train f1score: 0.6921 | Train acc: 0.6993 | Train kappa: 0.9358 \n",
      "Val loss: 0.9744 | Val precision: 0.5095 | Val recall: 0.4930 | Val f1score: 0.4882 | Val acc: 0.5810 | Val kappa: 0.8591 \n",
      "\n",
      "Epoch: 20 \n",
      "Learning rate: 4.228282585245324e-06\n",
      "Train loss: 0.6877 | Train precision: 0.6975 | Train recall: 0.6749 | Train f1score: 0.6821 | Train acc: 0.6918 | Train kappa: 0.9347 \n",
      "Val loss: 0.9666 | Val precision: 0.5183 | Val recall: 0.5016 | Val f1score: 0.4964 | Val acc: 0.5903 | Val kappa: 0.8686 \n",
      "\n",
      "Epoch: 21 \n",
      "Learning rate: 3.1712119389339933e-06\n",
      "Train loss: 0.6910 | Train precision: 0.7063 | Train recall: 0.6841 | Train f1score: 0.6919 | Train acc: 0.6960 | Train kappa: 0.9336 \n",
      "Val loss: 0.9629 | Val precision: 0.5189 | Val recall: 0.4985 | Val f1score: 0.4961 | Val acc: 0.5926 | Val kappa: 0.8614 \n",
      "\n",
      "Early stopping after epoch 21\n"
     ]
    },
    {
     "data": {
      "text/html": [
       "Waiting for W&B process to finish... <strong style=\"color:green\">(success).</strong>"
      ],
      "text/plain": [
       "<IPython.core.display.HTML object>"
      ]
     },
     "metadata": {},
     "output_type": "display_data"
    },
    {
     "data": {
      "application/vnd.jupyter.widget-view+json": {
       "model_id": "73f2f57de4ff41e3958d00b451bbdcfc",
       "version_major": 2,
       "version_minor": 0
      },
      "text/plain": [
       "VBox(children=(Label(value='0.001 MB of 0.001 MB uploaded (0.000 MB deduped)\\r'), FloatProgress(value=1.0, max…"
      ]
     },
     "metadata": {},
     "output_type": "display_data"
    },
    {
     "data": {
      "text/html": [
       "<style>\n",
       "    table.wandb td:nth-child(1) { padding: 0 10px; text-align: left ; width: auto;} td:nth-child(2) {text-align: left ; width: 100%}\n",
       "    .wandb-row { display: flex; flex-direction: row; flex-wrap: wrap; justify-content: flex-start; width: 100% }\n",
       "    .wandb-col { display: flex; flex-direction: column; flex-basis: 100%; flex: 1; padding: 10px; }\n",
       "    </style>\n",
       "<div class=\"wandb-row\"><div class=\"wandb-col\"><h3>Run history:</h3><br/><table class=\"wandb\"><tr><td>learning_rate</td><td>█▆▅▄▃▃▂▂▂▂▁▁▁▁▁▁▁▁▁▁▁</td></tr><tr><td>train_f1_score</td><td>▁▃▄▅▆▆▆▇▇▇▇██████████</td></tr><tr><td>train_loss</td><td>█▅▄▄▃▃▃▂▂▂▂▁▁▁▁▁▁▁▁▁▁</td></tr><tr><td>val_f1_score</td><td>▁▆▇▆▆▇█▇▇████████████</td></tr><tr><td>val_loss</td><td>█▄▂▂▃▁▁▁▁▁▁▁▁▁▁▁▁▁▁▁▁</td></tr></table><br/></div><div class=\"wandb-col\"><h3>Run summary:</h3><br/><table class=\"wandb\"><tr><td>learning_rate</td><td>0.0</td></tr><tr><td>train_f1_score</td><td>0.6919</td></tr><tr><td>train_loss</td><td>0.69103</td></tr><tr><td>val_f1_score</td><td>0.49607</td></tr><tr><td>val_loss</td><td>0.96289</td></tr></table><br/></div></div>"
      ],
      "text/plain": [
       "<IPython.core.display.HTML object>"
      ]
     },
     "metadata": {},
     "output_type": "display_data"
    },
    {
     "data": {
      "text/html": [
       " View run <strong style=\"color:#cdcd00\">fold_2_RGB-11classes-combined_plotsplit</strong> at: <a href='https://wandb.ai/simon-ecke/wze-uav-combined-11classes/runs/oqq6tf7a' target=\"_blank\">https://wandb.ai/simon-ecke/wze-uav-combined-11classes/runs/oqq6tf7a</a><br/>Synced 5 W&B file(s), 0 media file(s), 0 artifact file(s) and 0 other file(s)"
      ],
      "text/plain": [
       "<IPython.core.display.HTML object>"
      ]
     },
     "metadata": {},
     "output_type": "display_data"
    },
    {
     "data": {
      "text/html": [
       "Find logs at: <code>.\\wandb\\run-20230527_140410-oqq6tf7a\\logs</code>"
      ],
      "text/plain": [
       "<IPython.core.display.HTML object>"
      ]
     },
     "metadata": {},
     "output_type": "display_data"
    },
    {
     "name": "stdout",
     "output_type": "stream",
     "text": [
      "Deleting variables and emptying cache\n",
      "Memory allocated: 1058010624 bytes\n",
      "--------------------------------------------------\n",
      "\n",
      "Fold : 3\n",
      "TRAIN POSITIVE RATIO: 3.5173116089613035\n",
      "VAL POSITIVE RATIO  : 3.4129979035639413\n",
      "LENGTH TRAIN GROUPS : 156\n",
      "LENGTH VAL GROUPS   : 39\n"
     ]
    },
    {
     "data": {
      "text/html": [
       "wandb version 0.15.3 is available!  To upgrade, please run:\n",
       " $ pip install wandb --upgrade"
      ],
      "text/plain": [
       "<IPython.core.display.HTML object>"
      ]
     },
     "metadata": {},
     "output_type": "display_data"
    },
    {
     "data": {
      "text/html": [
       "Tracking run with wandb version 0.14.2"
      ],
      "text/plain": [
       "<IPython.core.display.HTML object>"
      ]
     },
     "metadata": {},
     "output_type": "display_data"
    },
    {
     "data": {
      "text/html": [
       "Run data is saved locally in <code>C:\\Users\\lwfeckesim\\01_PyTorch\\wze-uav\\wze-uav-master\\wandb\\run-20230527_154443-9r9dtrqd</code>"
      ],
      "text/plain": [
       "<IPython.core.display.HTML object>"
      ]
     },
     "metadata": {},
     "output_type": "display_data"
    },
    {
     "data": {
      "text/html": [
       "Syncing run <strong><a href='https://wandb.ai/simon-ecke/wze-uav-combined-11classes/runs/9r9dtrqd' target=\"_blank\">fold_3_RGB-11classes-combined_plotsplit</a></strong> to <a href='https://wandb.ai/simon-ecke/wze-uav-combined-11classes' target=\"_blank\">Weights & Biases</a> (<a href='https://wandb.me/run' target=\"_blank\">docs</a>)<br/>"
      ],
      "text/plain": [
       "<IPython.core.display.HTML object>"
      ]
     },
     "metadata": {},
     "output_type": "display_data"
    },
    {
     "data": {
      "text/html": [
       " View project at <a href='https://wandb.ai/simon-ecke/wze-uav-combined-11classes' target=\"_blank\">https://wandb.ai/simon-ecke/wze-uav-combined-11classes</a>"
      ],
      "text/plain": [
       "<IPython.core.display.HTML object>"
      ]
     },
     "metadata": {},
     "output_type": "display_data"
    },
    {
     "data": {
      "text/html": [
       " View run at <a href='https://wandb.ai/simon-ecke/wze-uav-combined-11classes/runs/9r9dtrqd' target=\"_blank\">https://wandb.ai/simon-ecke/wze-uav-combined-11classes/runs/9r9dtrqd</a>"
      ],
      "text/plain": [
       "<IPython.core.display.HTML object>"
      ]
     },
     "metadata": {},
     "output_type": "display_data"
    },
    {
     "name": "stdout",
     "output_type": "stream",
     "text": [
      "There are no same hash_id values in train, val or test datasets. The datasplit was successful\n",
      "Check shapes:\n",
      "\n",
      "Images train dataset: (11784, 250, 250, 3)\n",
      "Labels train dataset: (11784, 1)\n",
      "\n",
      "Images validation dataset: (1030, 250, 250, 3)\n",
      "Labels validation dataset: (1030, 1)\n",
      "\n",
      "--------------------------------------------------\n",
      "Check if the split was stratified: (random_state=42)\n",
      "Picea abies healthy in train dataset: 2861\n",
      "Picea abies stressed in train dataset: 1735\n",
      "Pinus sylvestris healthy in train dataset: 1503\n",
      "Pinus sylvestris stressed in train dataset: 1475\n",
      "Abies alba healthy in train dataset: 345\n",
      "Abies alba stressed in train dataset: 87\n",
      "Fagus sylvatica healthy in train dataset: 1110\n",
      "Fagus sylvatica stressed in train dataset: 824\n",
      "Quercus robur/petraea healthy in train dataset: 575\n",
      "Quercus robur/petraea stressed in train dataset: 346\n",
      "Larix spp. in train dataset: 356\n",
      "Acer spp. in train dataset: 208\n",
      "Betula pendula in train dataset: 190\n",
      "Dead trees in train dataset: 169\n",
      "Picea abies healthy in validation dataset: 282\n",
      "Picea abies stressed in validation dataset: 105\n",
      "Pinus sylvestris healthy in validation dataset: 128\n",
      "Pinus sylvestris stressed in validation dataset: 194\n",
      "Abies alba healthy in validation dataset: 36\n",
      "Abies alba stressed in validation dataset: 14\n",
      "Fagus sylvatica healthy in validation dataset: 63\n",
      "Fagus sylvatica stressed in validation dataset: 51\n",
      "Quercus robur/petraea healthy in validation dataset: 48\n",
      "Quercus robur/petraea stressed in validation dataset: 28\n",
      "Larix spp. in validation dataset: 32\n",
      "Acer spp. in validation dataset: 16\n",
      "Betula pendula in validation dataset: 15\n",
      "Dead trees in validation dataset: 18\n",
      "--------------------------------------------------\n",
      "\n",
      "Creating datasets for fold: 3\n",
      "\n",
      "Creating dataloaders for fold: 3\n",
      "\n",
      "Loaded pretrained weights for efficientnet-b7\n",
      "\n",
      "[INFO] Fold number: 3\n",
      "[INFO] Number of epochs: 50\n",
      "[INFO] Batch_size: 32\n",
      "[INFO] Number of bands: 3\n",
      "[INFO] Dropout rate: 0.5\n",
      "[INFO] Gamma learning rate: 0.75\n",
      "[INFO] Memory allocated: 0 bytes\n"
     ]
    },
    {
     "data": {
      "application/vnd.jupyter.widget-view+json": {
       "model_id": "e21ee39935f54e8db0ac4b4193677500",
       "version_major": 2,
       "version_minor": 0
      },
      "text/plain": [
       "  0%|          | 0/50 [00:00<?, ?it/s]"
      ]
     },
     "metadata": {},
     "output_type": "display_data"
    },
    {
     "name": "stdout",
     "output_type": "stream",
     "text": [
      "Epoch: 1 \n",
      "Learning rate: 0.001\n",
      "Train loss: 1.4033 | Train precision: 0.3714 | Train recall: 0.3392 | Train f1score: 0.3445 | Train acc: 0.4316 | Train kappa: 0.7107 \n",
      "Val loss: 1.5115 | Val precision: 0.3503 | Val recall: 0.2556 | Val f1score: 0.2313 | Val acc: 0.3969 | Val kappa: 0.6275 \n",
      "\n",
      "Epoch: 2 \n",
      "Learning rate: 0.00075\n",
      "Train loss: 1.1271 | Train precision: 0.4698 | Train recall: 0.4416 | Train f1score: 0.4472 | Train acc: 0.5158 | Train kappa: 0.8086 \n",
      "Val loss: 1.2707 | Val precision: 0.4312 | Val recall: 0.3377 | Val f1score: 0.3200 | Val acc: 0.4979 | Val kappa: 0.6527 \n",
      "\n",
      "Epoch: 3 \n",
      "Learning rate: 0.0005625000000000001\n",
      "Train loss: 1.0575 | Train precision: 0.5153 | Train recall: 0.4824 | Train f1score: 0.4886 | Train acc: 0.5479 | Train kappa: 0.8386 \n",
      "Val loss: 1.1838 | Val precision: 0.4471 | Val recall: 0.4618 | Val f1score: 0.3933 | Val acc: 0.4104 | Val kappa: 0.8222 \n",
      "\n",
      "Epoch: 4 \n",
      "Learning rate: 0.000421875\n",
      "Train loss: 0.9661 | Train precision: 0.5493 | Train recall: 0.5189 | Train f1score: 0.5223 | Train acc: 0.5761 | Train kappa: 0.8618 \n",
      "Val loss: 1.1087 | Val precision: 0.4743 | Val recall: 0.4826 | Val f1score: 0.4440 | Val acc: 0.4990 | Val kappa: 0.8186 \n",
      "\n",
      "Epoch: 5 \n",
      "Learning rate: 0.00031640625\n",
      "Train loss: 0.9215 | Train precision: 0.5686 | Train recall: 0.5462 | Train f1score: 0.5464 | Train acc: 0.6004 | Train kappa: 0.8824 \n",
      "Val loss: 0.9653 | Val precision: 0.5632 | Val recall: 0.4987 | Val f1score: 0.4829 | Val acc: 0.5865 | Val kappa: 0.8291 \n",
      "\n",
      "Epoch: 6 \n",
      "Learning rate: 0.0002373046875\n",
      "Train loss: 0.8660 | Train precision: 0.5924 | Train recall: 0.5603 | Train f1score: 0.5653 | Train acc: 0.6138 | Train kappa: 0.8923 \n",
      "Val loss: 0.9258 | Val precision: 0.5577 | Val recall: 0.5012 | Val f1score: 0.5020 | Val acc: 0.6115 | Val kappa: 0.8551 \n",
      "\n",
      "Epoch: 7 \n",
      "Learning rate: 0.000177978515625\n",
      "Train loss: 0.8351 | Train precision: 0.6336 | Train recall: 0.5938 | Train f1score: 0.6056 | Train acc: 0.6328 | Train kappa: 0.8938 \n",
      "Val loss: 1.0234 | Val precision: 0.5820 | Val recall: 0.5104 | Val f1score: 0.4785 | Val acc: 0.5094 | Val kappa: 0.8605 \n",
      "\n",
      "Epoch: 8 \n",
      "Learning rate: 0.00013348388671875\n",
      "Train loss: 0.8133 | Train precision: 0.6357 | Train recall: 0.5989 | Train f1score: 0.6083 | Train acc: 0.6424 | Train kappa: 0.9076 \n",
      "Val loss: 0.9044 | Val precision: 0.6168 | Val recall: 0.5601 | Val f1score: 0.5632 | Val acc: 0.6115 | Val kappa: 0.8605 \n",
      "\n",
      "Epoch: 9 \n",
      "Learning rate: 0.0001001129150390625\n",
      "Train loss: 0.7743 | Train precision: 0.6600 | Train recall: 0.6220 | Train f1score: 0.6330 | Train acc: 0.6508 | Train kappa: 0.9146 \n",
      "Val loss: 0.9054 | Val precision: 0.6249 | Val recall: 0.6011 | Val f1score: 0.5876 | Val acc: 0.6302 | Val kappa: 0.8724 \n",
      "\n",
      "Epoch: 10 \n",
      "Learning rate: 7.508468627929687e-05\n",
      "Train loss: 0.7698 | Train precision: 0.6592 | Train recall: 0.6261 | Train f1score: 0.6358 | Train acc: 0.6565 | Train kappa: 0.9039 \n",
      "Val loss: 0.8953 | Val precision: 0.6317 | Val recall: 0.5869 | Val f1score: 0.5955 | Val acc: 0.6427 | Val kappa: 0.8975 \n",
      "\n",
      "Epoch: 11 \n",
      "Learning rate: 5.6313514709472656e-05\n",
      "Train loss: 0.7377 | Train precision: 0.6765 | Train recall: 0.6452 | Train f1score: 0.6544 | Train acc: 0.6762 | Train kappa: 0.9248 \n",
      "Val loss: 0.9705 | Val precision: 0.5956 | Val recall: 0.5510 | Val f1score: 0.5431 | Val acc: 0.5729 | Val kappa: 0.8671 \n",
      "\n",
      "Epoch: 12 \n",
      "Learning rate: 4.223513603210449e-05\n",
      "Train loss: 0.7260 | Train precision: 0.6854 | Train recall: 0.6507 | Train f1score: 0.6609 | Train acc: 0.6756 | Train kappa: 0.9300 \n",
      "Val loss: 0.9037 | Val precision: 0.6287 | Val recall: 0.5886 | Val f1score: 0.5969 | Val acc: 0.6260 | Val kappa: 0.8898 \n",
      "\n",
      "Epoch: 13 \n",
      "Learning rate: 3.167635202407837e-05\n",
      "Train loss: 0.7183 | Train precision: 0.6758 | Train recall: 0.6498 | Train f1score: 0.6576 | Train acc: 0.6755 | Train kappa: 0.9280 \n",
      "Val loss: 0.8858 | Val precision: 0.6217 | Val recall: 0.5989 | Val f1score: 0.5941 | Val acc: 0.6313 | Val kappa: 0.8908 \n",
      "\n",
      "Epoch: 14 \n",
      "Learning rate: 2.3757264018058778e-05\n",
      "Train loss: 0.7155 | Train precision: 0.6881 | Train recall: 0.6523 | Train f1score: 0.6634 | Train acc: 0.6801 | Train kappa: 0.9267 \n",
      "Val loss: 0.8995 | Val precision: 0.6179 | Val recall: 0.5707 | Val f1score: 0.5773 | Val acc: 0.6187 | Val kappa: 0.8812 \n",
      "\n",
      "Epoch: 15 \n",
      "Learning rate: 1.7817948013544083e-05\n",
      "Train loss: 0.7136 | Train precision: 0.6983 | Train recall: 0.6627 | Train f1score: 0.6752 | Train acc: 0.6817 | Train kappa: 0.9319 \n",
      "Val loss: 0.9095 | Val precision: 0.6098 | Val recall: 0.5981 | Val f1score: 0.5949 | Val acc: 0.6240 | Val kappa: 0.8914 \n",
      "\n",
      "Epoch: 16 \n",
      "Learning rate: 1.3363461010158063e-05\n",
      "Train loss: 0.7026 | Train precision: 0.6847 | Train recall: 0.6596 | Train f1score: 0.6678 | Train acc: 0.6808 | Train kappa: 0.9311 \n",
      "Val loss: 0.9137 | Val precision: 0.6235 | Val recall: 0.5835 | Val f1score: 0.5913 | Val acc: 0.6250 | Val kappa: 0.8920 \n",
      "\n",
      "Epoch: 17 \n",
      "Learning rate: 1.0022595757618546e-05\n",
      "Train loss: 0.7135 | Train precision: 0.6933 | Train recall: 0.6566 | Train f1score: 0.6686 | Train acc: 0.6790 | Train kappa: 0.9341 \n",
      "Val loss: 0.9200 | Val precision: 0.6046 | Val recall: 0.5845 | Val f1score: 0.5838 | Val acc: 0.6250 | Val kappa: 0.8904 \n",
      "\n",
      "Epoch: 18 \n",
      "Learning rate: 7.51694681821391e-06\n",
      "Train loss: 0.6998 | Train precision: 0.6911 | Train recall: 0.6591 | Train f1score: 0.6689 | Train acc: 0.6830 | Train kappa: 0.9337 \n",
      "Val loss: 0.9150 | Val precision: 0.5958 | Val recall: 0.5745 | Val f1score: 0.5754 | Val acc: 0.6260 | Val kappa: 0.8826 \n",
      "\n",
      "Epoch: 19 \n",
      "Learning rate: 5.637710113660432e-06\n",
      "Train loss: 0.6948 | Train precision: 0.7013 | Train recall: 0.6650 | Train f1score: 0.6759 | Train acc: 0.6844 | Train kappa: 0.9381 \n",
      "Val loss: 0.9197 | Val precision: 0.6048 | Val recall: 0.5881 | Val f1score: 0.5848 | Val acc: 0.6167 | Val kappa: 0.8895 \n",
      "\n",
      "Epoch: 20 \n",
      "Learning rate: 4.228282585245324e-06\n",
      "Train loss: 0.6951 | Train precision: 0.7027 | Train recall: 0.6712 | Train f1score: 0.6831 | Train acc: 0.6826 | Train kappa: 0.9346 \n",
      "Val loss: 0.9139 | Val precision: 0.6027 | Val recall: 0.5893 | Val f1score: 0.5872 | Val acc: 0.6177 | Val kappa: 0.8863 \n",
      "\n",
      "Epoch: 21 \n",
      "Learning rate: 3.1712119389339933e-06\n",
      "Train loss: 0.6806 | Train precision: 0.6985 | Train recall: 0.6724 | Train f1score: 0.6809 | Train acc: 0.6956 | Train kappa: 0.9400 \n",
      "Val loss: 0.9127 | Val precision: 0.6133 | Val recall: 0.5937 | Val f1score: 0.5952 | Val acc: 0.6292 | Val kappa: 0.8917 \n",
      "\n",
      "Epoch: 22 \n",
      "Learning rate: 2.378408954200495e-06\n",
      "Train loss: 0.6905 | Train precision: 0.7121 | Train recall: 0.6758 | Train f1score: 0.6887 | Train acc: 0.6891 | Train kappa: 0.9347 \n",
      "Val loss: 0.9173 | Val precision: 0.6248 | Val recall: 0.5892 | Val f1score: 0.5935 | Val acc: 0.6250 | Val kappa: 0.8891 \n",
      "\n",
      "Epoch: 23 \n",
      "Learning rate: 1.7838067156503713e-06\n",
      "Train loss: 0.7028 | Train precision: 0.7138 | Train recall: 0.6741 | Train f1score: 0.6861 | Train acc: 0.6871 | Train kappa: 0.9283 \n",
      "Val loss: 0.9231 | Val precision: 0.5998 | Val recall: 0.5721 | Val f1score: 0.5757 | Val acc: 0.6240 | Val kappa: 0.8799 \n",
      "\n",
      "Early stopping after epoch 23\n"
     ]
    },
    {
     "data": {
      "text/html": [
       "Waiting for W&B process to finish... <strong style=\"color:green\">(success).</strong>"
      ],
      "text/plain": [
       "<IPython.core.display.HTML object>"
      ]
     },
     "metadata": {},
     "output_type": "display_data"
    },
    {
     "data": {
      "application/vnd.jupyter.widget-view+json": {
       "model_id": "27a166949dd84ed3a81612c4c631f3e1",
       "version_major": 2,
       "version_minor": 0
      },
      "text/plain": [
       "VBox(children=(Label(value='0.001 MB of 0.001 MB uploaded (0.000 MB deduped)\\r'), FloatProgress(value=1.0, max…"
      ]
     },
     "metadata": {},
     "output_type": "display_data"
    },
    {
     "data": {
      "text/html": [
       "<style>\n",
       "    table.wandb td:nth-child(1) { padding: 0 10px; text-align: left ; width: auto;} td:nth-child(2) {text-align: left ; width: 100%}\n",
       "    .wandb-row { display: flex; flex-direction: row; flex-wrap: wrap; justify-content: flex-start; width: 100% }\n",
       "    .wandb-col { display: flex; flex-direction: column; flex-basis: 100%; flex: 1; padding: 10px; }\n",
       "    </style>\n",
       "<div class=\"wandb-row\"><div class=\"wandb-col\"><h3>Run history:</h3><br/><table class=\"wandb\"><tr><td>learning_rate</td><td>█▆▅▄▃▃▂▂▂▂▁▁▁▁▁▁▁▁▁▁▁▁▁</td></tr><tr><td>train_f1_score</td><td>▁▃▄▅▅▅▆▆▇▇▇▇▇▇█████████</td></tr><tr><td>train_loss</td><td>█▅▅▄▃▃▂▂▂▂▂▁▁▁▁▁▁▁▁▁▁▁▁</td></tr><tr><td>val_f1_score</td><td>▁▃▄▅▆▆▆▇██▇████████████</td></tr><tr><td>val_loss</td><td>█▅▄▃▂▁▃▁▁▁▂▁▁▁▁▁▁▁▁▁▁▁▁</td></tr></table><br/></div><div class=\"wandb-col\"><h3>Run summary:</h3><br/><table class=\"wandb\"><tr><td>learning_rate</td><td>0.0</td></tr><tr><td>train_f1_score</td><td>0.68609</td></tr><tr><td>train_loss</td><td>0.70283</td></tr><tr><td>val_f1_score</td><td>0.57574</td></tr><tr><td>val_loss</td><td>0.92306</td></tr></table><br/></div></div>"
      ],
      "text/plain": [
       "<IPython.core.display.HTML object>"
      ]
     },
     "metadata": {},
     "output_type": "display_data"
    },
    {
     "data": {
      "text/html": [
       " View run <strong style=\"color:#cdcd00\">fold_3_RGB-11classes-combined_plotsplit</strong> at: <a href='https://wandb.ai/simon-ecke/wze-uav-combined-11classes/runs/9r9dtrqd' target=\"_blank\">https://wandb.ai/simon-ecke/wze-uav-combined-11classes/runs/9r9dtrqd</a><br/>Synced 5 W&B file(s), 0 media file(s), 0 artifact file(s) and 0 other file(s)"
      ],
      "text/plain": [
       "<IPython.core.display.HTML object>"
      ]
     },
     "metadata": {},
     "output_type": "display_data"
    },
    {
     "data": {
      "text/html": [
       "Find logs at: <code>.\\wandb\\run-20230527_154443-9r9dtrqd\\logs</code>"
      ],
      "text/plain": [
       "<IPython.core.display.HTML object>"
      ]
     },
     "metadata": {},
     "output_type": "display_data"
    },
    {
     "name": "stdout",
     "output_type": "stream",
     "text": [
      "Deleting variables and emptying cache\n",
      "Memory allocated: 1052198400 bytes\n",
      "--------------------------------------------------\n",
      "\n",
      "Fold : 4\n",
      "TRAIN POSITIVE RATIO: 3.4601372532407013\n",
      "VAL POSITIVE RATIO  : 3.64966584593739\n",
      "LENGTH TRAIN GROUPS : 158\n",
      "LENGTH VAL GROUPS   : 37\n"
     ]
    },
    {
     "data": {
      "text/html": [
       "wandb version 0.15.3 is available!  To upgrade, please run:\n",
       " $ pip install wandb --upgrade"
      ],
      "text/plain": [
       "<IPython.core.display.HTML object>"
      ]
     },
     "metadata": {},
     "output_type": "display_data"
    },
    {
     "data": {
      "text/html": [
       "Tracking run with wandb version 0.14.2"
      ],
      "text/plain": [
       "<IPython.core.display.HTML object>"
      ]
     },
     "metadata": {},
     "output_type": "display_data"
    },
    {
     "data": {
      "text/html": [
       "Run data is saved locally in <code>C:\\Users\\lwfeckesim\\01_PyTorch\\wze-uav\\wze-uav-master\\wandb\\run-20230527_173315-xqkfl5s6</code>"
      ],
      "text/plain": [
       "<IPython.core.display.HTML object>"
      ]
     },
     "metadata": {},
     "output_type": "display_data"
    },
    {
     "data": {
      "text/html": [
       "Syncing run <strong><a href='https://wandb.ai/simon-ecke/wze-uav-combined-11classes/runs/xqkfl5s6' target=\"_blank\">fold_4_RGB-11classes-combined_plotsplit</a></strong> to <a href='https://wandb.ai/simon-ecke/wze-uav-combined-11classes' target=\"_blank\">Weights & Biases</a> (<a href='https://wandb.me/run' target=\"_blank\">docs</a>)<br/>"
      ],
      "text/plain": [
       "<IPython.core.display.HTML object>"
      ]
     },
     "metadata": {},
     "output_type": "display_data"
    },
    {
     "data": {
      "text/html": [
       " View project at <a href='https://wandb.ai/simon-ecke/wze-uav-combined-11classes' target=\"_blank\">https://wandb.ai/simon-ecke/wze-uav-combined-11classes</a>"
      ],
      "text/plain": [
       "<IPython.core.display.HTML object>"
      ]
     },
     "metadata": {},
     "output_type": "display_data"
    },
    {
     "data": {
      "text/html": [
       " View run at <a href='https://wandb.ai/simon-ecke/wze-uav-combined-11classes/runs/xqkfl5s6' target=\"_blank\">https://wandb.ai/simon-ecke/wze-uav-combined-11classes/runs/xqkfl5s6</a>"
      ],
      "text/plain": [
       "<IPython.core.display.HTML object>"
      ]
     },
     "metadata": {},
     "output_type": "display_data"
    },
    {
     "name": "stdout",
     "output_type": "stream",
     "text": [
      "There are no same hash_id values in train, val or test datasets. The datasplit was successful\n",
      "Check shapes:\n",
      "\n",
      "Images train dataset: (11803, 250, 250, 3)\n",
      "Labels train dataset: (11803, 1)\n",
      "\n",
      "Images validation dataset: (1054, 250, 250, 3)\n",
      "Labels validation dataset: (1054, 1)\n",
      "\n",
      "--------------------------------------------------\n",
      "Check if the split was stratified: (random_state=42)\n",
      "Picea abies healthy in train dataset: 3039\n",
      "Picea abies stressed in train dataset: 1752\n",
      "Pinus sylvestris healthy in train dataset: 1314\n",
      "Pinus sylvestris stressed in train dataset: 1570\n",
      "Abies alba healthy in train dataset: 344\n",
      "Abies alba stressed in train dataset: 117\n",
      "Fagus sylvatica healthy in train dataset: 980\n",
      "Fagus sylvatica stressed in train dataset: 767\n",
      "Quercus robur/petraea healthy in train dataset: 652\n",
      "Quercus robur/petraea stressed in train dataset: 383\n",
      "Larix spp. in train dataset: 343\n",
      "Acer spp. in train dataset: 212\n",
      "Betula pendula in train dataset: 175\n",
      "Dead trees in train dataset: 155\n",
      "Picea abies healthy in validation dataset: 225\n",
      "Picea abies stressed in validation dataset: 119\n",
      "Pinus sylvestris healthy in validation dataset: 172\n",
      "Pinus sylvestris stressed in validation dataset: 172\n",
      "Abies alba healthy in validation dataset: 41\n",
      "Abies alba stressed in validation dataset: 6\n",
      "Fagus sylvatica healthy in validation dataset: 126\n",
      "Fagus sylvatica stressed in validation dataset: 60\n",
      "Quercus robur/petraea healthy in validation dataset: 30\n",
      "Quercus robur/petraea stressed in validation dataset: 9\n",
      "Larix spp. in validation dataset: 39\n",
      "Acer spp. in validation dataset: 11\n",
      "Betula pendula in validation dataset: 20\n",
      "Dead trees in validation dataset: 24\n",
      "--------------------------------------------------\n",
      "\n",
      "Creating datasets for fold: 4\n",
      "\n",
      "Creating dataloaders for fold: 4\n",
      "\n",
      "Loaded pretrained weights for efficientnet-b7\n",
      "\n",
      "[INFO] Fold number: 4\n",
      "[INFO] Number of epochs: 50\n",
      "[INFO] Batch_size: 32\n",
      "[INFO] Number of bands: 3\n",
      "[INFO] Dropout rate: 0.5\n",
      "[INFO] Gamma learning rate: 0.75\n",
      "[INFO] Memory allocated: 0 bytes\n"
     ]
    },
    {
     "data": {
      "application/vnd.jupyter.widget-view+json": {
       "model_id": "eb92f6717e55457a881d7d4416047962",
       "version_major": 2,
       "version_minor": 0
      },
      "text/plain": [
       "  0%|          | 0/50 [00:00<?, ?it/s]"
      ]
     },
     "metadata": {},
     "output_type": "display_data"
    },
    {
     "name": "stdout",
     "output_type": "stream",
     "text": [
      "Epoch: 1 \n",
      "Learning rate: 0.001\n",
      "Train loss: 1.4269 | Train precision: 0.3541 | Train recall: 0.3340 | Train f1score: 0.3366 | Train acc: 0.4269 | Train kappa: 0.6994 \n",
      "Val loss: 1.6882 | Val precision: 0.2932 | Val recall: 0.2797 | Val f1score: 0.2435 | Val acc: 0.3531 | Val kappa: 0.5575 \n",
      "\n",
      "Epoch: 2 \n",
      "Learning rate: 0.00075\n",
      "Train loss: 1.1319 | Train precision: 0.4767 | Train recall: 0.4461 | Train f1score: 0.4491 | Train acc: 0.5236 | Train kappa: 0.8020 \n",
      "Val loss: 1.4297 | Val precision: 0.4085 | Val recall: 0.3552 | Val f1score: 0.3204 | Val acc: 0.3844 | Val kappa: 0.6980 \n",
      "\n",
      "Epoch: 3 \n",
      "Learning rate: 0.0005625000000000001\n",
      "Train loss: 1.0392 | Train precision: 0.5369 | Train recall: 0.5158 | Train f1score: 0.5193 | Train acc: 0.5617 | Train kappa: 0.8500 \n",
      "Val loss: 1.3327 | Val precision: 0.4574 | Val recall: 0.4535 | Val f1score: 0.4021 | Val acc: 0.4969 | Val kappa: 0.7983 \n",
      "\n",
      "Epoch: 4 \n",
      "Learning rate: 0.000421875\n",
      "Train loss: 0.9775 | Train precision: 0.5776 | Train recall: 0.5449 | Train f1score: 0.5538 | Train acc: 0.5852 | Train kappa: 0.8548 \n",
      "Val loss: 1.0548 | Val precision: 0.5065 | Val recall: 0.4468 | Val f1score: 0.4494 | Val acc: 0.5437 | Val kappa: 0.8064 \n",
      "\n",
      "Epoch: 5 \n",
      "Learning rate: 0.00031640625\n",
      "Train loss: 0.9099 | Train precision: 0.5996 | Train recall: 0.5669 | Train f1score: 0.5741 | Train acc: 0.6119 | Train kappa: 0.8857 \n",
      "Val loss: 1.0820 | Val precision: 0.4817 | Val recall: 0.4827 | Val f1score: 0.4506 | Val acc: 0.5302 | Val kappa: 0.8480 \n",
      "\n",
      "Epoch: 6 \n",
      "Learning rate: 0.0002373046875\n",
      "Train loss: 0.8814 | Train precision: 0.6175 | Train recall: 0.5824 | Train f1score: 0.5933 | Train acc: 0.6181 | Train kappa: 0.8851 \n",
      "Val loss: 1.0525 | Val precision: 0.5171 | Val recall: 0.5090 | Val f1score: 0.4865 | Val acc: 0.5521 | Val kappa: 0.8631 \n",
      "\n",
      "Epoch: 7 \n",
      "Learning rate: 0.000177978515625\n",
      "Train loss: 0.8335 | Train precision: 0.6343 | Train recall: 0.6069 | Train f1score: 0.6146 | Train acc: 0.6335 | Train kappa: 0.8916 \n",
      "Val loss: 0.9813 | Val precision: 0.5168 | Val recall: 0.4967 | Val f1score: 0.4902 | Val acc: 0.5531 | Val kappa: 0.8650 \n",
      "\n",
      "Epoch: 8 \n",
      "Learning rate: 0.00013348388671875\n",
      "Train loss: 0.8066 | Train precision: 0.6530 | Train recall: 0.6227 | Train f1score: 0.6327 | Train acc: 0.6444 | Train kappa: 0.9137 \n",
      "Val loss: 0.9767 | Val precision: 0.5109 | Val recall: 0.4798 | Val f1score: 0.4756 | Val acc: 0.5792 | Val kappa: 0.8739 \n",
      "\n",
      "Epoch: 9 \n",
      "Learning rate: 0.0001001129150390625\n",
      "Train loss: 0.7818 | Train precision: 0.6694 | Train recall: 0.6435 | Train f1score: 0.6513 | Train acc: 0.6589 | Train kappa: 0.9128 \n",
      "Val loss: 0.9889 | Val precision: 0.5461 | Val recall: 0.5193 | Val f1score: 0.5049 | Val acc: 0.5854 | Val kappa: 0.8521 \n",
      "\n",
      "Epoch: 10 \n",
      "Learning rate: 7.508468627929687e-05\n",
      "Train loss: 0.7597 | Train precision: 0.6733 | Train recall: 0.6445 | Train f1score: 0.6537 | Train acc: 0.6657 | Train kappa: 0.9106 \n",
      "Val loss: 0.9939 | Val precision: 0.5264 | Val recall: 0.4915 | Val f1score: 0.4838 | Val acc: 0.5844 | Val kappa: 0.8729 \n",
      "\n",
      "Epoch: 11 \n",
      "Learning rate: 5.6313514709472656e-05\n",
      "Train loss: 0.7488 | Train precision: 0.6704 | Train recall: 0.6449 | Train f1score: 0.6530 | Train acc: 0.6679 | Train kappa: 0.9176 \n",
      "Val loss: 0.9595 | Val precision: 0.5252 | Val recall: 0.5025 | Val f1score: 0.4992 | Val acc: 0.5854 | Val kappa: 0.8815 \n",
      "\n",
      "Epoch: 12 \n",
      "Learning rate: 4.223513603210449e-05\n",
      "Train loss: 0.7359 | Train precision: 0.6883 | Train recall: 0.6652 | Train f1score: 0.6724 | Train acc: 0.6768 | Train kappa: 0.9239 \n",
      "Val loss: 0.9569 | Val precision: 0.5233 | Val recall: 0.5039 | Val f1score: 0.4938 | Val acc: 0.5802 | Val kappa: 0.8805 \n",
      "\n",
      "Epoch: 13 \n",
      "Learning rate: 3.167635202407837e-05\n",
      "Train loss: 0.7208 | Train precision: 0.6911 | Train recall: 0.6716 | Train f1score: 0.6787 | Train acc: 0.6814 | Train kappa: 0.9257 \n",
      "Val loss: 1.0098 | Val precision: 0.5203 | Val recall: 0.5158 | Val f1score: 0.4994 | Val acc: 0.5802 | Val kappa: 0.8681 \n",
      "\n",
      "Epoch: 14 \n",
      "Learning rate: 2.3757264018058778e-05\n",
      "Train loss: 0.7212 | Train precision: 0.6916 | Train recall: 0.6584 | Train f1score: 0.6692 | Train acc: 0.6788 | Train kappa: 0.9254 \n",
      "Val loss: 0.9934 | Val precision: 0.5352 | Val recall: 0.5287 | Val f1score: 0.5133 | Val acc: 0.5906 | Val kappa: 0.8733 \n",
      "\n",
      "Epoch: 15 \n",
      "Learning rate: 1.7817948013544083e-05\n",
      "Train loss: 0.7040 | Train precision: 0.6956 | Train recall: 0.6769 | Train f1score: 0.6832 | Train acc: 0.6839 | Train kappa: 0.9312 \n",
      "Val loss: 0.9911 | Val precision: 0.5207 | Val recall: 0.5016 | Val f1score: 0.4941 | Val acc: 0.5885 | Val kappa: 0.8739 \n",
      "\n",
      "Epoch: 16 \n",
      "Learning rate: 1.3363461010158063e-05\n",
      "Train loss: 0.7038 | Train precision: 0.6975 | Train recall: 0.6797 | Train f1score: 0.6861 | Train acc: 0.6899 | Train kappa: 0.9349 \n",
      "Val loss: 0.9913 | Val precision: 0.5207 | Val recall: 0.5020 | Val f1score: 0.4941 | Val acc: 0.5844 | Val kappa: 0.8791 \n",
      "\n",
      "Epoch: 17 \n",
      "Learning rate: 1.0022595757618546e-05\n",
      "Train loss: 0.6960 | Train precision: 0.7081 | Train recall: 0.6860 | Train f1score: 0.6937 | Train acc: 0.6971 | Train kappa: 0.9290 \n",
      "Val loss: 0.9924 | Val precision: 0.5340 | Val recall: 0.5183 | Val f1score: 0.5106 | Val acc: 0.6000 | Val kappa: 0.8847 \n",
      "\n",
      "Epoch: 18 \n",
      "Learning rate: 7.51694681821391e-06\n",
      "Train loss: 0.6920 | Train precision: 0.7097 | Train recall: 0.6791 | Train f1score: 0.6895 | Train acc: 0.6914 | Train kappa: 0.9348 \n",
      "Val loss: 0.9956 | Val precision: 0.5317 | Val recall: 0.5262 | Val f1score: 0.5159 | Val acc: 0.5969 | Val kappa: 0.8783 \n",
      "\n",
      "Epoch: 19 \n",
      "Learning rate: 5.637710113660432e-06\n",
      "Train loss: 0.6875 | Train precision: 0.7043 | Train recall: 0.6837 | Train f1score: 0.6903 | Train acc: 0.6931 | Train kappa: 0.9351 \n",
      "Val loss: 1.0047 | Val precision: 0.5321 | Val recall: 0.5249 | Val f1score: 0.5138 | Val acc: 0.5979 | Val kappa: 0.8819 \n",
      "\n",
      "Epoch: 20 \n",
      "Learning rate: 4.228282585245324e-06\n",
      "Train loss: 0.6866 | Train precision: 0.7023 | Train recall: 0.6821 | Train f1score: 0.6891 | Train acc: 0.6919 | Train kappa: 0.9349 \n",
      "Val loss: 0.9992 | Val precision: 0.5282 | Val recall: 0.5224 | Val f1score: 0.5112 | Val acc: 0.5990 | Val kappa: 0.8750 \n",
      "\n",
      "Epoch: 21 \n",
      "Learning rate: 3.1712119389339933e-06\n",
      "Train loss: 0.6920 | Train precision: 0.6992 | Train recall: 0.6769 | Train f1score: 0.6852 | Train acc: 0.6898 | Train kappa: 0.9286 \n",
      "Val loss: 1.0074 | Val precision: 0.5302 | Val recall: 0.5305 | Val f1score: 0.5147 | Val acc: 0.5917 | Val kappa: 0.8731 \n",
      "\n",
      "Epoch: 22 \n",
      "Learning rate: 2.378408954200495e-06\n",
      "Train loss: 0.7066 | Train precision: 0.6994 | Train recall: 0.6744 | Train f1score: 0.6839 | Train acc: 0.6860 | Train kappa: 0.9279 \n",
      "Val loss: 1.0054 | Val precision: 0.5313 | Val recall: 0.5330 | Val f1score: 0.5169 | Val acc: 0.5958 | Val kappa: 0.8742 \n",
      "\n",
      "Early stopping after epoch 22\n"
     ]
    },
    {
     "data": {
      "text/html": [
       "Waiting for W&B process to finish... <strong style=\"color:green\">(success).</strong>"
      ],
      "text/plain": [
       "<IPython.core.display.HTML object>"
      ]
     },
     "metadata": {},
     "output_type": "display_data"
    },
    {
     "data": {
      "application/vnd.jupyter.widget-view+json": {
       "model_id": "0315ed80ed7c4137b8c2aafe95a5df05",
       "version_major": 2,
       "version_minor": 0
      },
      "text/plain": [
       "VBox(children=(Label(value='0.001 MB of 0.013 MB uploaded (0.000 MB deduped)\\r'), FloatProgress(value=0.099547…"
      ]
     },
     "metadata": {},
     "output_type": "display_data"
    },
    {
     "data": {
      "text/html": [
       "<style>\n",
       "    table.wandb td:nth-child(1) { padding: 0 10px; text-align: left ; width: auto;} td:nth-child(2) {text-align: left ; width: 100%}\n",
       "    .wandb-row { display: flex; flex-direction: row; flex-wrap: wrap; justify-content: flex-start; width: 100% }\n",
       "    .wandb-col { display: flex; flex-direction: column; flex-basis: 100%; flex: 1; padding: 10px; }\n",
       "    </style>\n",
       "<div class=\"wandb-row\"><div class=\"wandb-col\"><h3>Run history:</h3><br/><table class=\"wandb\"><tr><td>learning_rate</td><td>█▆▅▄▃▃▂▂▂▂▁▁▁▁▁▁▁▁▁▁▁▁</td></tr><tr><td>train_f1_score</td><td>▁▃▅▅▆▆▆▇▇▇▇███████████</td></tr><tr><td>train_loss</td><td>█▅▄▄▃▃▂▂▂▂▂▁▁▁▁▁▁▁▁▁▁▁</td></tr><tr><td>val_f1_score</td><td>▁▃▅▆▆▇▇▇█▇█▇██▇▇██████</td></tr><tr><td>val_loss</td><td>█▆▅▂▂▂▁▁▁▁▁▁▂▁▁▁▁▁▁▁▁▁</td></tr></table><br/></div><div class=\"wandb-col\"><h3>Run summary:</h3><br/><table class=\"wandb\"><tr><td>learning_rate</td><td>0.0</td></tr><tr><td>train_f1_score</td><td>0.68393</td></tr><tr><td>train_loss</td><td>0.70665</td></tr><tr><td>val_f1_score</td><td>0.51688</td></tr><tr><td>val_loss</td><td>1.00539</td></tr></table><br/></div></div>"
      ],
      "text/plain": [
       "<IPython.core.display.HTML object>"
      ]
     },
     "metadata": {},
     "output_type": "display_data"
    },
    {
     "data": {
      "text/html": [
       " View run <strong style=\"color:#cdcd00\">fold_4_RGB-11classes-combined_plotsplit</strong> at: <a href='https://wandb.ai/simon-ecke/wze-uav-combined-11classes/runs/xqkfl5s6' target=\"_blank\">https://wandb.ai/simon-ecke/wze-uav-combined-11classes/runs/xqkfl5s6</a><br/>Synced 5 W&B file(s), 0 media file(s), 0 artifact file(s) and 0 other file(s)"
      ],
      "text/plain": [
       "<IPython.core.display.HTML object>"
      ]
     },
     "metadata": {},
     "output_type": "display_data"
    },
    {
     "data": {
      "text/html": [
       "Find logs at: <code>.\\wandb\\run-20230527_173315-xqkfl5s6\\logs</code>"
      ],
      "text/plain": [
       "<IPython.core.display.HTML object>"
      ]
     },
     "metadata": {},
     "output_type": "display_data"
    },
    {
     "name": "stdout",
     "output_type": "stream",
     "text": [
      "Deleting variables and emptying cache\n",
      "Memory allocated: 1054073344 bytes\n",
      "--------------------------------------------------\n",
      "\n",
      "Fold : 5\n",
      "TRAIN POSITIVE RATIO: 3.5623682361208715\n",
      "VAL POSITIVE RATIO  : 3.2685469037400368\n",
      "LENGTH TRAIN GROUPS : 152\n",
      "LENGTH VAL GROUPS   : 43\n"
     ]
    },
    {
     "data": {
      "text/html": [
       "wandb version 0.15.3 is available!  To upgrade, please run:\n",
       " $ pip install wandb --upgrade"
      ],
      "text/plain": [
       "<IPython.core.display.HTML object>"
      ]
     },
     "metadata": {},
     "output_type": "display_data"
    },
    {
     "data": {
      "text/html": [
       "Tracking run with wandb version 0.14.2"
      ],
      "text/plain": [
       "<IPython.core.display.HTML object>"
      ]
     },
     "metadata": {},
     "output_type": "display_data"
    },
    {
     "data": {
      "text/html": [
       "Run data is saved locally in <code>C:\\Users\\lwfeckesim\\01_PyTorch\\wze-uav\\wze-uav-master\\wandb\\run-20230527_191652-lz8x0yog</code>"
      ],
      "text/plain": [
       "<IPython.core.display.HTML object>"
      ]
     },
     "metadata": {},
     "output_type": "display_data"
    },
    {
     "data": {
      "text/html": [
       "Syncing run <strong><a href='https://wandb.ai/simon-ecke/wze-uav-combined-11classes/runs/lz8x0yog' target=\"_blank\">fold_5_RGB-11classes-combined_plotsplit</a></strong> to <a href='https://wandb.ai/simon-ecke/wze-uav-combined-11classes' target=\"_blank\">Weights & Biases</a> (<a href='https://wandb.me/run' target=\"_blank\">docs</a>)<br/>"
      ],
      "text/plain": [
       "<IPython.core.display.HTML object>"
      ]
     },
     "metadata": {},
     "output_type": "display_data"
    },
    {
     "data": {
      "text/html": [
       " View project at <a href='https://wandb.ai/simon-ecke/wze-uav-combined-11classes' target=\"_blank\">https://wandb.ai/simon-ecke/wze-uav-combined-11classes</a>"
      ],
      "text/plain": [
       "<IPython.core.display.HTML object>"
      ]
     },
     "metadata": {},
     "output_type": "display_data"
    },
    {
     "data": {
      "text/html": [
       " View run at <a href='https://wandb.ai/simon-ecke/wze-uav-combined-11classes/runs/lz8x0yog' target=\"_blank\">https://wandb.ai/simon-ecke/wze-uav-combined-11classes/runs/lz8x0yog</a>"
      ],
      "text/plain": [
       "<IPython.core.display.HTML object>"
      ]
     },
     "metadata": {},
     "output_type": "display_data"
    },
    {
     "name": "stdout",
     "output_type": "stream",
     "text": [
      "There are no same hash_id values in train, val or test datasets. The datasplit was successful\n",
      "Check shapes:\n",
      "\n",
      "Images train dataset: (11384, 250, 250, 3)\n",
      "Labels train dataset: (11384, 1)\n",
      "\n",
      "Images validation dataset: (1215, 250, 250, 3)\n",
      "Labels validation dataset: (1215, 1)\n",
      "\n",
      "--------------------------------------------------\n",
      "Check if the split was stratified: (random_state=42)\n",
      "Picea abies healthy in train dataset: 2550\n",
      "Picea abies stressed in train dataset: 1654\n",
      "Pinus sylvestris healthy in train dataset: 1521\n",
      "Pinus sylvestris stressed in train dataset: 1717\n",
      "Abies alba healthy in train dataset: 267\n",
      "Abies alba stressed in train dataset: 95\n",
      "Fagus sylvatica healthy in train dataset: 978\n",
      "Fagus sylvatica stressed in train dataset: 804\n",
      "Quercus robur/petraea healthy in train dataset: 566\n",
      "Quercus robur/petraea stressed in train dataset: 294\n",
      "Larix spp. in train dataset: 407\n",
      "Acer spp. in train dataset: 137\n",
      "Betula pendula in train dataset: 205\n",
      "Dead trees in train dataset: 189\n",
      "Picea abies healthy in validation dataset: 353\n",
      "Picea abies stressed in validation dataset: 183\n",
      "Pinus sylvestris healthy in validation dataset: 102\n",
      "Pinus sylvestris stressed in validation dataset: 125\n",
      "Abies alba healthy in validation dataset: 78\n",
      "Abies alba stressed in validation dataset: 19\n",
      "Fagus sylvatica healthy in validation dataset: 119\n",
      "Fagus sylvatica stressed in validation dataset: 50\n",
      "Quercus robur/petraea healthy in validation dataset: 63\n",
      "Quercus robur/petraea stressed in validation dataset: 45\n",
      "Larix spp. in validation dataset: 11\n",
      "Acer spp. in validation dataset: 48\n",
      "Betula pendula in validation dataset: 9\n",
      "Dead trees in validation dataset: 10\n",
      "--------------------------------------------------\n",
      "\n",
      "Creating datasets for fold: 5\n",
      "\n",
      "Creating dataloaders for fold: 5\n",
      "\n",
      "Loaded pretrained weights for efficientnet-b7\n",
      "\n",
      "[INFO] Fold number: 5\n",
      "[INFO] Number of epochs: 50\n",
      "[INFO] Batch_size: 32\n",
      "[INFO] Number of bands: 3\n",
      "[INFO] Dropout rate: 0.5\n",
      "[INFO] Gamma learning rate: 0.75\n",
      "[INFO] Memory allocated: 0 bytes\n"
     ]
    },
    {
     "data": {
      "application/vnd.jupyter.widget-view+json": {
       "model_id": "36b836a53dfd4ac2a70f6fd9315f2c92",
       "version_major": 2,
       "version_minor": 0
      },
      "text/plain": [
       "  0%|          | 0/50 [00:00<?, ?it/s]"
      ]
     },
     "metadata": {},
     "output_type": "display_data"
    },
    {
     "name": "stdout",
     "output_type": "stream",
     "text": [
      "Epoch: 1 \n",
      "Learning rate: 0.001\n",
      "Train loss: 1.3903 | Train precision: 0.3798 | Train recall: 0.3519 | Train f1score: 0.3574 | Train acc: 0.4352 | Train kappa: 0.6989 \n",
      "Val loss: 1.9473 | Val precision: 0.2739 | Val recall: 0.1592 | Val f1score: 0.1495 | Val acc: 0.3330 | Val kappa: 0.1941 \n",
      "\n",
      "Epoch: 2 \n",
      "Learning rate: 0.00075\n",
      "Train loss: 1.1323 | Train precision: 0.5011 | Train recall: 0.4647 | Train f1score: 0.4731 | Train acc: 0.5197 | Train kappa: 0.8042 \n",
      "Val loss: 1.5775 | Val precision: 0.3473 | Val recall: 0.3293 | Val f1score: 0.3063 | Val acc: 0.4384 | Val kappa: 0.5969 \n",
      "\n",
      "Epoch: 3 \n",
      "Learning rate: 0.0005625000000000001\n",
      "Train loss: 1.0293 | Train precision: 0.5340 | Train recall: 0.5085 | Train f1score: 0.5149 | Train acc: 0.5528 | Train kappa: 0.8315 \n",
      "Val loss: 1.1699 | Val precision: 0.5478 | Val recall: 0.4483 | Val f1score: 0.4358 | Val acc: 0.5429 | Val kappa: 0.7818 \n",
      "\n",
      "Epoch: 4 \n",
      "Learning rate: 0.000421875\n",
      "Train loss: 0.9579 | Train precision: 0.5538 | Train recall: 0.5299 | Train f1score: 0.5331 | Train acc: 0.5759 | Train kappa: 0.8640 \n",
      "Val loss: 1.1292 | Val precision: 0.4659 | Val recall: 0.4876 | Val f1score: 0.4473 | Val acc: 0.5554 | Val kappa: 0.8509 \n",
      "\n",
      "Epoch: 5 \n",
      "Learning rate: 0.00031640625\n",
      "Train loss: 0.9069 | Train precision: 0.5871 | Train recall: 0.5607 | Train f1score: 0.5662 | Train acc: 0.6015 | Train kappa: 0.8802 \n",
      "Val loss: 1.0588 | Val precision: 0.5035 | Val recall: 0.5203 | Val f1score: 0.4831 | Val acc: 0.5634 | Val kappa: 0.8323 \n",
      "\n",
      "Epoch: 6 \n",
      "Learning rate: 0.0002373046875\n",
      "Train loss: 0.8643 | Train precision: 0.6199 | Train recall: 0.5865 | Train f1score: 0.5931 | Train acc: 0.6177 | Train kappa: 0.8929 \n",
      "Val loss: 1.2270 | Val precision: 0.4342 | Val recall: 0.4355 | Val f1score: 0.4136 | Val acc: 0.5384 | Val kappa: 0.7792 \n",
      "\n",
      "Epoch: 7 \n",
      "Learning rate: 0.000177978515625\n",
      "Train loss: 0.8338 | Train precision: 0.6348 | Train recall: 0.6060 | Train f1score: 0.6136 | Train acc: 0.6328 | Train kappa: 0.8959 \n",
      "Val loss: 1.0269 | Val precision: 0.5105 | Val recall: 0.4974 | Val f1score: 0.4753 | Val acc: 0.5777 | Val kappa: 0.8719 \n",
      "\n",
      "Epoch: 8 \n",
      "Learning rate: 0.00013348388671875\n",
      "Train loss: 0.7882 | Train precision: 0.6605 | Train recall: 0.6256 | Train f1score: 0.6348 | Train acc: 0.6466 | Train kappa: 0.9120 \n",
      "Val loss: 0.9925 | Val precision: 0.5333 | Val recall: 0.4950 | Val f1score: 0.4918 | Val acc: 0.6009 | Val kappa: 0.8739 \n",
      "\n",
      "Epoch: 9 \n",
      "Learning rate: 0.0001001129150390625\n",
      "Train loss: 0.7772 | Train precision: 0.6680 | Train recall: 0.6389 | Train f1score: 0.6475 | Train acc: 0.6575 | Train kappa: 0.9133 \n",
      "Val loss: 1.0172 | Val precision: 0.5244 | Val recall: 0.5191 | Val f1score: 0.5016 | Val acc: 0.6009 | Val kappa: 0.8682 \n",
      "\n",
      "Epoch: 10 \n",
      "Learning rate: 7.508468627929687e-05\n",
      "Train loss: 0.7564 | Train precision: 0.6699 | Train recall: 0.6445 | Train f1score: 0.6532 | Train acc: 0.6591 | Train kappa: 0.9160 \n",
      "Val loss: 1.0310 | Val precision: 0.5508 | Val recall: 0.5235 | Val f1score: 0.5158 | Val acc: 0.6018 | Val kappa: 0.8687 \n",
      "\n",
      "Epoch: 11 \n",
      "Learning rate: 5.6313514709472656e-05\n",
      "Train loss: 0.7364 | Train precision: 0.6920 | Train recall: 0.6647 | Train f1score: 0.6736 | Train acc: 0.6721 | Train kappa: 0.9218 \n",
      "Val loss: 1.0038 | Val precision: 0.5235 | Val recall: 0.5145 | Val f1score: 0.5033 | Val acc: 0.5982 | Val kappa: 0.8851 \n",
      "\n",
      "Epoch: 12 \n",
      "Learning rate: 4.223513603210449e-05\n",
      "Train loss: 0.7238 | Train precision: 0.6907 | Train recall: 0.6626 | Train f1score: 0.6714 | Train acc: 0.6792 | Train kappa: 0.9302 \n",
      "Val loss: 1.0088 | Val precision: 0.5325 | Val recall: 0.5191 | Val f1score: 0.5087 | Val acc: 0.5929 | Val kappa: 0.8761 \n",
      "\n",
      "Epoch: 13 \n",
      "Learning rate: 3.167635202407837e-05\n",
      "Train loss: 0.7144 | Train precision: 0.7021 | Train recall: 0.6802 | Train f1score: 0.6876 | Train acc: 0.6839 | Train kappa: 0.9296 \n",
      "Val loss: 1.0140 | Val precision: 0.5409 | Val recall: 0.4966 | Val f1score: 0.4979 | Val acc: 0.5929 | Val kappa: 0.8695 \n",
      "\n",
      "Epoch: 14 \n",
      "Learning rate: 2.3757264018058778e-05\n",
      "Train loss: 0.7010 | Train precision: 0.7105 | Train recall: 0.6842 | Train f1score: 0.6934 | Train acc: 0.6877 | Train kappa: 0.9326 \n",
      "Val loss: 1.0189 | Val precision: 0.5331 | Val recall: 0.5265 | Val f1score: 0.5116 | Val acc: 0.6018 | Val kappa: 0.8845 \n",
      "\n",
      "Epoch: 15 \n",
      "Learning rate: 1.7817948013544083e-05\n",
      "Train loss: 0.6968 | Train precision: 0.7210 | Train recall: 0.6952 | Train f1score: 0.7041 | Train acc: 0.6885 | Train kappa: 0.9309 \n",
      "Val loss: 1.0253 | Val precision: 0.5772 | Val recall: 0.4988 | Val f1score: 0.5051 | Val acc: 0.5973 | Val kappa: 0.8905 \n",
      "\n",
      "Epoch: 16 \n",
      "Learning rate: 1.3363461010158063e-05\n",
      "Train loss: 0.6908 | Train precision: 0.7114 | Train recall: 0.6879 | Train f1score: 0.6962 | Train acc: 0.6857 | Train kappa: 0.9329 \n",
      "Val loss: 1.0234 | Val precision: 0.5832 | Val recall: 0.5033 | Val f1score: 0.5067 | Val acc: 0.6036 | Val kappa: 0.8859 \n",
      "\n",
      "Epoch: 17 \n",
      "Learning rate: 1.0022595757618546e-05\n",
      "Train loss: 0.6882 | Train precision: 0.7034 | Train recall: 0.6759 | Train f1score: 0.6842 | Train acc: 0.6873 | Train kappa: 0.9356 \n",
      "Val loss: 1.0433 | Val precision: 0.5395 | Val recall: 0.4975 | Val f1score: 0.4963 | Val acc: 0.5973 | Val kappa: 0.8783 \n",
      "\n",
      "Epoch: 18 \n",
      "Learning rate: 7.51694681821391e-06\n",
      "Train loss: 0.6841 | Train precision: 0.7170 | Train recall: 0.6971 | Train f1score: 0.7047 | Train acc: 0.6983 | Train kappa: 0.9307 \n",
      "Val loss: 1.0266 | Val precision: 0.5459 | Val recall: 0.4952 | Val f1score: 0.4971 | Val acc: 0.5938 | Val kappa: 0.8843 \n",
      "\n",
      "Early stopping after epoch 18\n"
     ]
    },
    {
     "data": {
      "text/html": [
       "Waiting for W&B process to finish... <strong style=\"color:green\">(success).</strong>"
      ],
      "text/plain": [
       "<IPython.core.display.HTML object>"
      ]
     },
     "metadata": {},
     "output_type": "display_data"
    },
    {
     "data": {
      "application/vnd.jupyter.widget-view+json": {
       "model_id": "7088abd257d54de49ec099f15e0379e1",
       "version_major": 2,
       "version_minor": 0
      },
      "text/plain": [
       "VBox(children=(Label(value='0.001 MB of 0.011 MB uploaded (0.000 MB deduped)\\r'), FloatProgress(value=0.109578…"
      ]
     },
     "metadata": {},
     "output_type": "display_data"
    },
    {
     "data": {
      "text/html": [
       "<style>\n",
       "    table.wandb td:nth-child(1) { padding: 0 10px; text-align: left ; width: auto;} td:nth-child(2) {text-align: left ; width: 100%}\n",
       "    .wandb-row { display: flex; flex-direction: row; flex-wrap: wrap; justify-content: flex-start; width: 100% }\n",
       "    .wandb-col { display: flex; flex-direction: column; flex-basis: 100%; flex: 1; padding: 10px; }\n",
       "    </style>\n",
       "<div class=\"wandb-row\"><div class=\"wandb-col\"><h3>Run history:</h3><br/><table class=\"wandb\"><tr><td>learning_rate</td><td>█▆▅▄▃▃▂▂▂▁▁▁▁▁▁▁▁▁</td></tr><tr><td>train_f1_score</td><td>▁▃▄▅▅▆▆▇▇▇▇▇██████</td></tr><tr><td>train_loss</td><td>█▅▄▄▃▃▂▂▂▂▂▁▁▁▁▁▁▁</td></tr><tr><td>val_f1_score</td><td>▁▄▆▇▇▆▇███████████</td></tr><tr><td>val_loss</td><td>█▅▂▂▁▃▁▁▁▁▁▁▁▁▁▁▁▁</td></tr></table><br/></div><div class=\"wandb-col\"><h3>Run summary:</h3><br/><table class=\"wandb\"><tr><td>learning_rate</td><td>1e-05</td></tr><tr><td>train_f1_score</td><td>0.7047</td></tr><tr><td>train_loss</td><td>0.68414</td></tr><tr><td>val_f1_score</td><td>0.49706</td></tr><tr><td>val_loss</td><td>1.02661</td></tr></table><br/></div></div>"
      ],
      "text/plain": [
       "<IPython.core.display.HTML object>"
      ]
     },
     "metadata": {},
     "output_type": "display_data"
    },
    {
     "data": {
      "text/html": [
       " View run <strong style=\"color:#cdcd00\">fold_5_RGB-11classes-combined_plotsplit</strong> at: <a href='https://wandb.ai/simon-ecke/wze-uav-combined-11classes/runs/lz8x0yog' target=\"_blank\">https://wandb.ai/simon-ecke/wze-uav-combined-11classes/runs/lz8x0yog</a><br/>Synced 5 W&B file(s), 0 media file(s), 0 artifact file(s) and 0 other file(s)"
      ],
      "text/plain": [
       "<IPython.core.display.HTML object>"
      ]
     },
     "metadata": {},
     "output_type": "display_data"
    },
    {
     "data": {
      "text/html": [
       "Find logs at: <code>.\\wandb\\run-20230527_191652-lz8x0yog\\logs</code>"
      ],
      "text/plain": [
       "<IPython.core.display.HTML object>"
      ]
     },
     "metadata": {},
     "output_type": "display_data"
    },
    {
     "name": "stdout",
     "output_type": "stream",
     "text": [
      "Deleting variables and emptying cache\n",
      "Memory allocated: 1052041728 bytes\n",
      "--------------------------------------------------\n",
      "\n",
      "CPU times: total: 3h 51min 14s\n",
      "Wall time: 8h 3min 15s\n"
     ]
    }
   ],
   "source": [
    "%%time\n",
    "\n",
    "# Set the random seeds\n",
    "set_seeds(42)\n",
    "\n",
    "# Define the number of folds\n",
    "num_folds = 5\n",
    "\n",
    "# group the hashIDs to get the unique values of hashIDs remaining in the subset  \n",
    "groups = sub_hash_id[:, 0] \n",
    "print(\"ORIGINAL POSITIVE RATIO:\", sub_label_set.mean())\n",
    "# create a StratifiedGroupKFold instance\n",
    "kf = StratifiedGroupKFold(n_splits=num_folds, shuffle=True, random_state=42)\n",
    "\n",
    "# loop through the folds\n",
    "for fold, (train_ids, val_ids) in enumerate(kf.split(sub_image_set, sub_label_set, groups)):\n",
    "    print(\"Fold :\", fold+1)\n",
    "    print(\"TRAIN POSITIVE RATIO:\", sub_label_set[train_ids].mean())\n",
    "    print(\"VAL POSITIVE RATIO  :\", sub_label_set[val_ids].mean())\n",
    "    print(\"LENGTH TRAIN GROUPS :\", len(set(groups[train_ids])))\n",
    "    print(\"LENGTH VAL GROUPS   :\", len(set(groups[val_ids])))\n",
    "    \n",
    "    train_ids = sub_hash_id[:, 0][train_ids]\n",
    "    val_ids = np.unique(sub_hash_id[:, 0][val_ids])\n",
    "\n",
    "    torch.cuda.empty_cache()\n",
    "    \n",
    "    # Initialize a new wandb run for this fold\n",
    "    wandb.init(project='wze-uav-combined-11classes', name=f\"fold_{fold + 1}_{extra}\")\n",
    "    \n",
    "    # 1. Split data into train and validation set\n",
    "    # Get the training and testing data for this fold\n",
    "    # Use np.isin() to create boolean arrays indicating which indices belong to train or test sets\n",
    "    train_indices = np.isin(sub_hash_id[:,0], train_ids)\n",
    "    \n",
    "    val_indices = np.zeros_like(train_indices)  # initialize to all False\n",
    "    for hash_id_val in val_ids:\n",
    "        # select one image ID randomly from either 2020 or 2021 or 2022 for each unique hash ID in the test set\n",
    "        temp = np.unique(sub_hash_id[(sub_hash_id[:, 0] == hash_id_val), 1]) # check how many years are available per hashID\n",
    "        if len(temp) == 1:\n",
    "            year = temp[0]\n",
    "        elif len(temp) == 2:\n",
    "            year = np.random.choice(temp)\n",
    "        else:\n",
    "            year = np.random.choice(temp)\n",
    "        \n",
    "        # select image ID using the conditions\n",
    "        image_ids = sub_hash_id[(sub_hash_id[:,0] == hash_id_val) & (sub_hash_id[:,1] == year), 0]\n",
    "    \n",
    "        # mark the index corresponding to the selected image ID and hash ID as True in the test indices array\n",
    "        val_indices[(sub_hash_id[:,0] == hash_id_val) & (sub_hash_id[:,1] == year) & (np.isin(sub_hash_id[:,0], image_ids))] = True \n",
    "    \n",
    "    # Reshape boolean arrays to match shape of image_set and label_set\n",
    "    train_indices = train_indices.reshape(-1, 1)\n",
    "    val_indices = val_indices.reshape(-1, 1)\n",
    "    \n",
    "    # Select images and labels for train and validation sets\n",
    "    train_image_set = sub_image_set[train_indices[:, 0]]\n",
    "    train_label_set = sub_label_set[train_indices[:, 0]]\n",
    "    train_hash_id = sub_hash_id[train_indices[:, 0]][:,0]\n",
    "    train_species_set = sub_species_set[train_indices[:, 0]]\n",
    "    val_image_set = sub_image_set[val_indices[:, 0]]\n",
    "    val_label_set = sub_label_set[val_indices[:, 0]]\n",
    "    val_hash_id = sub_hash_id[val_indices[:, 0]][:,0]\n",
    "    val_species_set = sub_species_set[val_indices[:, 0]]\n",
    "    # reshape \n",
    "    train_label_set = train_label_set.reshape(-1, 1)\n",
    "    val_label_set = val_label_set.reshape(-1, 1)\n",
    "    train_species_set = train_species_set.reshape(-1, 1)\n",
    "    val_species_set = val_species_set.reshape(-1, 1)\n",
    "    \n",
    "    # check if there are any group overlaps between the data splits\n",
    "    hash_set = set(train_hash_id)\n",
    "    val_hash_set = set(val_hash_id)\n",
    "    test_hash_set = set(test_hash_id[:, 0].flatten())\n",
    "    intersection = hash_set.intersection(val_hash_set)\n",
    "    intersection2 = test_hash_set.intersection(val_hash_set)\n",
    "    intersection3 = hash_set.intersection(test_hash_set)\n",
    "    if intersection:\n",
    "        print(f\"Hash_id values in both train and val sets: {len(intersection)}\")\n",
    "        print(f\"Hash_id values in both test and val sets: {len(intersection2)}\")\n",
    "        print(f\"Hash_id values in both train and test sets: {len(intersection3)}\")\n",
    "    else:\n",
    "        print(\"There are no same hash_id values in train, val or test datasets. The datasplit was successful\")\n",
    "    \n",
    "         \n",
    "    print(\"Check shapes:\\n\")\n",
    "    print(f\"Images train dataset: {train_image_set.shape}\")\n",
    "    print(f\"Labels train dataset: {train_label_set.shape}\\n\")\n",
    "    \n",
    "    print(f\"Images validation dataset: {val_image_set.shape}\")\n",
    "    print(f\"Labels validation dataset: {val_label_set.shape}\\n\")\n",
    "    print('-'*50)\n",
    "    print (f\"Check if the split was stratified: (random_state=42)\")\n",
    "    print(f\"Picea abies healthy in train dataset: {np.count_nonzero(train_label_set == 0)}\")\n",
    "    print(f\"Picea abies stressed in train dataset: {np.count_nonzero(train_label_set == 1)}\")\n",
    "    print(f\"Pinus sylvestris healthy in train dataset: {np.count_nonzero(train_label_set == 2)}\")\n",
    "    print(f\"Pinus sylvestris stressed in train dataset: {np.count_nonzero(train_label_set == 3)}\")\n",
    "    print(f\"Abies alba healthy in train dataset: {np.count_nonzero(train_label_set == 4)}\")\n",
    "    print(f\"Abies alba stressed in train dataset: {np.count_nonzero(train_label_set == 5)}\")\n",
    "    print(f\"Fagus sylvatica healthy in train dataset: {np.count_nonzero(train_label_set == 6)}\")\n",
    "    print(f\"Fagus sylvatica stressed in train dataset: {np.count_nonzero(train_label_set == 7)}\")\n",
    "    print(f\"Quercus robur/petraea healthy in train dataset: {np.count_nonzero(train_label_set == 8)}\")\n",
    "    print(f\"Quercus robur/petraea stressed in train dataset: {np.count_nonzero(train_label_set == 9)}\")\n",
    "    print(f\"Larix spp. in train dataset: {np.count_nonzero(train_label_set == 10)}\")\n",
    "    print(f\"Acer spp. in train dataset: {np.count_nonzero(train_label_set == 11)}\")\n",
    "    print(f\"Betula pendula in train dataset: {np.count_nonzero(train_label_set == 12)}\")\n",
    "    print(f\"Dead trees in train dataset: {np.count_nonzero(train_label_set == 13)}\")\n",
    "    print(f\"Picea abies healthy in validation dataset: {np.count_nonzero(val_label_set == 0)}\")\n",
    "    print(f\"Picea abies stressed in validation dataset: {np.count_nonzero(val_label_set == 1)}\")\n",
    "    print(f\"Pinus sylvestris healthy in validation dataset: {np.count_nonzero(val_label_set == 2)}\")\n",
    "    print(f\"Pinus sylvestris stressed in validation dataset: {np.count_nonzero(val_label_set == 3)}\")\n",
    "    print(f\"Abies alba healthy in validation dataset: {np.count_nonzero(val_label_set == 4)}\")\n",
    "    print(f\"Abies alba stressed in validation dataset: {np.count_nonzero(val_label_set == 5)}\")\n",
    "    print(f\"Fagus sylvatica healthy in validation dataset: {np.count_nonzero(val_label_set == 6)}\")\n",
    "    print(f\"Fagus sylvatica stressed in validation dataset: {np.count_nonzero(val_label_set == 7)}\")\n",
    "    print(f\"Quercus robur/petraea healthy in validation dataset: {np.count_nonzero(val_label_set == 8)}\")\n",
    "    print(f\"Quercus robur/petraea stressed in validation dataset: {np.count_nonzero(val_label_set == 9)}\")\n",
    "    print(f\"Larix spp. in validation dataset: {np.count_nonzero(val_label_set == 10)}\")\n",
    "    print(f\"Acer spp. in validation dataset: {np.count_nonzero(val_label_set == 11)}\")\n",
    "    print(f\"Betula pendula in validation dataset: {np.count_nonzero(val_label_set == 12)}\")\n",
    "    print(f\"Dead trees in validation dataset: {np.count_nonzero(val_label_set == 13)}\")\n",
    "    #print(f\"Ratio health trees in validation dataset: {np.count_nonzero(val_label_set == 0)/np.count_nonzero(sub_label_set == 0)}\")\n",
    "    #print(f\"Ratio moderately stressed trees in validation dataset: {np.count_nonzero(val_label_set == 1)/np.count_nonzero(sub_label_set == 1)}\")\n",
    "    #print(f\"Ratio severely stressed trees in validation dataset: {np.count_nonzero(val_label_set == 1)/np.count_nonzero(sub_label_set == 2)}\")\n",
    "    #print(f\"Ratio dead trees in validation dataset: {np.count_nonzero(val_label_set == 2)/np.count_nonzero(sub_label_set == 3)}\")\n",
    "    print(\"-\"*50)\n",
    "   \n",
    "    # 2. Create train and validation dataset. (choose custom dataset loader with 3 - 5 classes)\n",
    "    print(f\"\\nCreating datasets for fold: {fold + 1}\\n\")\n",
    "    train_dataset = data_loader.FilteredDataset(data=train_image_set, labels=train_label_set, class_names=class_names, species = train_species_set,\n",
    "                                                         transform=transform_train)\n",
    "    \n",
    "    val_dataset = data_loader.FilteredDataset(data=val_image_set, labels=val_label_set, class_names=class_names,\n",
    "                                                       species = val_species_set, transform=transform)\n",
    "   \n",
    "    # 3. Create train and validation dataloader\n",
    "    # create sampler for oversampling of the minority classes\n",
    "    sampler = data_loader.data_sampler(dataset=train_dataset, class_names=class_names)\n",
    "    print(f\"Creating dataloaders for fold: {fold +1}\\n\")\n",
    "    train_dataloader = DataLoader(train_dataset, batch_size=batch_size, persistent_workers=True, pin_memory=True, num_workers=NUM_WORKERS, generator=g,\n",
    "                              sampler=sampler, shuffle=False, drop_last=True) # shuffle false because of the sampler\n",
    "\n",
    "    val_dataloader = DataLoader(val_dataset, batch_size=batch_size, persistent_workers=True, pin_memory=True, num_workers=NUM_WORKERS, shuffle=False,\n",
    "                             drop_last=True)\n",
    "    \n",
    "    model = model_effnet.EfficientNet.from_pretrained('efficientnet-b7', in_channels=n_bands, num_classes=num_classes, dropout_rate=dropout_rate)\n",
    "    #model = models.create_effnetb7(output_shape=num_classes, unfreeze=True, dropout_rate=dropout_rate, device=device)\n",
    "   \n",
    "    loss_fn = nn.CrossEntropyLoss()\n",
    "    optimizer = torch.optim.Adam(params=model.parameters(), lr=lr)\n",
    "    lr_scheduler = CustomExponentialLR(optimizer, gamma=gamma, min_lr=min_lr)\n",
    "\n",
    "    fold += 1\n",
    "    print(f\"\\n[INFO] Fold number: {fold}\")\n",
    "    print(f\"[INFO] Number of epochs: {epochs}\")\n",
    "    print(f\"[INFO] Batch_size: {batch_size}\")\n",
    "    print(f\"[INFO] Number of bands: {n_bands}\")\n",
    "    print(f\"[INFO] Dropout rate: {dropout_rate}\")\n",
    "    print(f\"[INFO] Gamma learning rate: {gamma}\")\n",
    "    print(f\"[INFO] Memory allocated: {torch.cuda.memory_allocated()} bytes\")\n",
    "    # 4. Train model with k fold dataloaders and track experiments\n",
    "    \n",
    "    if fold == 1:\n",
    "        fold1_results = train(model=model, model_name=model_name, n_bands=n_bands, batch_size=batch_size,train_dataloader=train_dataloader, val_dataloader=val_dataloader, \n",
    "                        optimizer=optimizer, loss_fn=loss_fn, lr_scheduler=lr_scheduler, num_classes=num_classes, epochs=epochs, experiment_num=fold, device=device,\n",
    "                        writer=None, early_stop_patience = patience)\n",
    "       \n",
    "    elif fold == 2:\n",
    "        fold2_results = train(model=model, model_name=model_name, n_bands=n_bands, batch_size=batch_size,train_dataloader=train_dataloader, val_dataloader=val_dataloader, \n",
    "                        optimizer=optimizer, loss_fn=loss_fn, lr_scheduler=lr_scheduler, num_classes=num_classes, epochs=epochs, experiment_num=fold, device=device,\n",
    "                        writer=None, early_stop_patience = patience)\n",
    "    elif fold == 3:\n",
    "        fold3_results = train(model=model, model_name=model_name, n_bands=n_bands, batch_size=batch_size,train_dataloader=train_dataloader, val_dataloader=val_dataloader, \n",
    "                        optimizer=optimizer, loss_fn=loss_fn, lr_scheduler=lr_scheduler, num_classes=num_classes, epochs=epochs, experiment_num=fold, device=device,\n",
    "                        writer=None, early_stop_patience = patience)\n",
    "    elif fold == 4:\n",
    "        fold4_results = train(model=model, model_name=model_name, n_bands=n_bands, batch_size=batch_size,train_dataloader=train_dataloader, val_dataloader=val_dataloader, \n",
    "                        optimizer=optimizer, loss_fn=loss_fn, lr_scheduler=lr_scheduler, num_classes=num_classes, epochs=epochs, experiment_num=fold, device=device,\n",
    "                        writer=None, early_stop_patience = patience)\n",
    "    else:\n",
    "        fold5_results = train(model=model, model_name=model_name, n_bands=n_bands, batch_size=batch_size,train_dataloader=train_dataloader, val_dataloader=val_dataloader, \n",
    "                        optimizer=optimizer, loss_fn=loss_fn, lr_scheduler=lr_scheduler, num_classes=num_classes, epochs=epochs, experiment_num=fold, device=device,\n",
    "                        writer=None, early_stop_patience = patience)\n",
    "    \n",
    "    del train_indices, val_indices, train_image_set, train_label_set, train_hash_id, train_species_set, val_image_set, val_label_set, val_hash_id, val_species_set,\n",
    "    train_dataset, val_dataset, sampler, train_dataloader, val_dataloader, model, loss_fn, optimizer, lr_scheduler\n",
    "    \n",
    "    #finish the wandb run\n",
    "    wandb.finish()\n",
    "    print(\"Deleting variables and emptying cache\")\n",
    "    gc.collect()\n",
    "    torch.cuda.empty_cache()\n",
    "    print(f\"Memory allocated: {torch.cuda.memory_allocated()} bytes\")\n",
    "    print(\"-\"*50 + \"\\n\")"
   ]
  },
  {
   "cell_type": "markdown",
   "id": "609fc3db",
   "metadata": {},
   "source": [
    "#### Create test dataset and test dataloader "
   ]
  },
  {
   "cell_type": "code",
   "execution_count": 20,
   "id": "c0c36ebb",
   "metadata": {},
   "outputs": [],
   "source": [
    "# create test dataset\n",
    "test_dataset = data_loader.FilteredDataset(\n",
    "    data = test_image_set,\n",
    "    labels = test_label_set,\n",
    "    class_names=class_names, \n",
    "    species = test_species_set,\n",
    "    kkl = None,\n",
    "    transform=transform\n",
    ")\n",
    "\n",
    "# create test dataloader\n",
    "test_dataloader = DataLoader(test_dataset,\n",
    "                             batch_size=batch_size,\n",
    "                             persistent_workers=True,\n",
    "                             pin_memory=True,\n",
    "                             num_workers=NUM_WORKERS,\n",
    "                             shuffle=False,\n",
    "                             drop_last=False)"
   ]
  },
  {
   "cell_type": "markdown",
   "id": "22cdaac7",
   "metadata": {},
   "source": [
    "#### Perform ensembling of the five best models"
   ]
  },
  {
   "cell_type": "code",
   "execution_count": 19,
   "id": "67db5af2",
   "metadata": {},
   "outputs": [
    {
     "name": "stdout",
     "output_type": "stream",
     "text": [
      "Loaded pretrained weights for efficientnet-b7\n",
      "Loaded pretrained weights for efficientnet-b7\n",
      "Loaded pretrained weights for efficientnet-b7\n",
      "Loaded pretrained weights for efficientnet-b7\n",
      "Loaded pretrained weights for efficientnet-b7\n"
     ]
    },
    {
     "ename": "NameError",
     "evalue": "name 'test_dataloader' is not defined",
     "output_type": "error",
     "traceback": [
      "\u001b[1;31m---------------------------------------------------------------------------\u001b[0m",
      "\u001b[1;31mNameError\u001b[0m                                 Traceback (most recent call last)",
      "Input \u001b[1;32mIn [19]\u001b[0m, in \u001b[0;36m<cell line: 49>\u001b[1;34m()\u001b[0m\n\u001b[0;32m     48\u001b[0m \u001b[38;5;66;03m# Loop through the test dataset and generate predictions for each model\u001b[39;00m\n\u001b[0;32m     49\u001b[0m \u001b[38;5;28;01mwith\u001b[39;00m torch\u001b[38;5;241m.\u001b[39mno_grad():\n\u001b[1;32m---> 50\u001b[0m     \u001b[38;5;28;01mfor\u001b[39;00m batch \u001b[38;5;129;01min\u001b[39;00m \u001b[43mtest_dataloader\u001b[49m:\n\u001b[0;32m     51\u001b[0m         inputs, labels \u001b[38;5;241m=\u001b[39m batch\n\u001b[0;32m     52\u001b[0m         inputs, labels \u001b[38;5;241m=\u001b[39m inputs\u001b[38;5;241m.\u001b[39mto(device), labels\u001b[38;5;241m.\u001b[39mto(device)\n",
      "\u001b[1;31mNameError\u001b[0m: name 'test_dataloader' is not defined"
     ]
    }
   ],
   "source": [
    "# Setup the best model filepaths\n",
    "best_model1_path = r\"C:\\Users\\lwfeckesim\\01_PyTorch\\wze-uav\\wze-uav-master\\models\\EffNet_b7_RGB-11classes-combined_plotsplit\\1_EffNet_b7_RGB-11classes-combined_plotsplit_9_epochs.pth\"\n",
    "best_model2_path = r\"C:\\Users\\lwfeckesim\\01_PyTorch\\wze-uav\\wze-uav-master\\models\\EffNet_b7_RGB-11classes-combined_plotsplit\\2_EffNet_b7_RGB-11classes-combined_plotsplit_11_epochs.pth\"\n",
    "best_model3_path = r\"C:\\Users\\lwfeckesim\\01_PyTorch\\wze-uav\\wze-uav-master\\models\\EffNet_b7_RGB-11classes-combined_plotsplit\\3_EffNet_b7_RGB-11classes-combined_plotsplit_13_epochs.pth\"\n",
    "best_model4_path = r\"C:\\Users\\lwfeckesim\\01_PyTorch\\wze-uav\\wze-uav-master\\models\\EffNet_b7_RGB-11classes-combined_plotsplit\\4_EffNet_b7_RGB-11classes-combined_plotsplit_12_epochs.pth\"\n",
    "best_model5_path = r\"C:\\Users\\lwfeckesim\\01_PyTorch\\wze-uav\\wze-uav-master\\models\\EffNet_b7_RGB-11classes-combined_plotsplit\\5_EffNet_b7_RGB-11classes-combined_plotsplit_8_epochs.pth\"\n",
    "\n",
    "# Instantiate a new instance of EffNetB7 (to load the saved state_dict() to)\n",
    "#model1 = models.create_effnetb7(output_shape=num_classes, unfreeze=unfreeze, dropout_rate=dropout_rate, device=device)\n",
    "#model2 = models.create_effnetb7(output_shape=num_classes, unfreeze=unfreeze, dropout_rate=dropout_rate, device=device)\n",
    "#model3 = models.create_effnetb7(output_shape=num_classes, unfreeze=unfreeze, dropout_rate=dropout_rate, device=device)\n",
    "#model4 = models.create_effnetb7(output_shape=num_classes, unfreeze=unfreeze, dropout_rate=dropout_rate, device=device)\n",
    "#model5 = models.create_effnetb7(output_shape=num_classes, unfreeze=unfreeze, dropout_rate=dropout_rate, device=device)\n",
    "# for custom models with more than three bands as input\n",
    "model1 = model_effnet.EfficientNet.from_pretrained('efficientnet-b7', in_channels=n_bands, num_classes=num_classes, dropout_rate=dropout_rate)\n",
    "model2 = model_effnet.EfficientNet.from_pretrained('efficientnet-b7', in_channels=n_bands, num_classes=num_classes, dropout_rate=dropout_rate)\n",
    "model3 = model_effnet.EfficientNet.from_pretrained('efficientnet-b7', in_channels=n_bands, num_classes=num_classes, dropout_rate=dropout_rate)\n",
    "model4 = model_effnet.EfficientNet.from_pretrained('efficientnet-b7', in_channels=n_bands, num_classes=num_classes, dropout_rate=dropout_rate)\n",
    "model5 = model_effnet.EfficientNet.from_pretrained('efficientnet-b7', in_channels=n_bands, num_classes=num_classes, dropout_rate=dropout_rate)\n",
    "\n",
    "# Load the saved best model state_dict()\n",
    "model1.load_state_dict(torch.load(best_model1_path))\n",
    "model2.load_state_dict(torch.load(best_model2_path))\n",
    "model3.load_state_dict(torch.load(best_model3_path))\n",
    "model4.load_state_dict(torch.load(best_model4_path))\n",
    "model5.load_state_dict(torch.load(best_model5_path))\n",
    "\n",
    "model1.to(device)\n",
    "model2.to(device)\n",
    "model3.to(device)\n",
    "model4.to(device)\n",
    "model5.to(device)\n",
    "\n",
    "model1.eval()\n",
    "model2.eval()\n",
    "model3.eval()\n",
    "model4.eval()\n",
    "model5.eval()\n",
    "\n",
    "# Initialize the lists to store the predictions\n",
    "all_preds_model1 = []\n",
    "all_preds_model2 = []\n",
    "all_preds_model3 = []\n",
    "all_preds_model4 = []\n",
    "all_preds_model5 = []\n",
    "all_true_labels = []\n",
    "\n",
    "# Loop through the test dataset and generate predictions for each model\n",
    "with torch.no_grad():\n",
    "    for batch in test_dataloader:\n",
    "        inputs, labels = batch\n",
    "        inputs, labels = inputs.to(device), labels.to(device)\n",
    "        \n",
    "        # Generate predictions for each model\n",
    "        preds_model1 = model1(inputs)\n",
    "        preds_model2 = model2(inputs)\n",
    "        preds_model3 = model3(inputs)\n",
    "        preds_model4 = model4(inputs)\n",
    "        preds_model5 = model5(inputs)\n",
    "\n",
    "        # Append the predictions to the corresponding list\n",
    "        all_preds_model1.append(preds_model1.cpu().numpy())\n",
    "        all_preds_model2.append(preds_model2.cpu().numpy())\n",
    "        all_preds_model3.append(preds_model3.cpu().numpy())\n",
    "        all_preds_model4.append(preds_model4.cpu().numpy())\n",
    "        all_preds_model5.append(preds_model5.cpu().numpy())\n",
    "        \n",
    "        all_true_labels.append(labels.cpu().numpy())\n",
    "\n",
    "# Concatenate the predictions from all the models\n",
    "all_preds_model1 = np.concatenate(all_preds_model1)\n",
    "all_preds_model2 = np.concatenate(all_preds_model2)\n",
    "all_preds_model3 = np.concatenate(all_preds_model3)\n",
    "all_preds_model4 = np.concatenate(all_preds_model4)\n",
    "all_preds_model5 = np.concatenate(all_preds_model5)\n",
    "\n",
    "all_true_labels = np.concatenate(all_true_labels)\n",
    "\n",
    "# Calculate the ensemble predictions\n",
    "ensemble_preds = np.mean([all_preds_model1, all_preds_model2, all_preds_model3, all_preds_model4, all_preds_model5], axis=0)\n",
    "ensemble_labels = np.argmax(ensemble_preds, axis=1)\n",
    "\n",
    "# Calculate the evaluation metrics for the ensemble model\n",
    "from sklearn.metrics import classification_report, confusion_matrix\n",
    "\n",
    "print(classification_report(all_true_labels, ensemble_labels))\n",
    "print(confusion_matrix(all_true_labels, ensemble_labels))\n",
    "\n",
    "\n",
    "\n",
    "\n"
   ]
  },
  {
   "cell_type": "code",
   "execution_count": 24,
   "id": "6dfbc663",
   "metadata": {},
   "outputs": [
    {
     "name": "stdout",
     "output_type": "stream",
     "text": [
      "              precision    recall  f1-score   support\n",
      "\n",
      "           0       0.80      0.83      0.82       338\n",
      "           1       0.65      0.55      0.60       147\n",
      "           2       0.41      0.58      0.48       107\n",
      "           3       0.65      0.49      0.56       166\n",
      "           4       0.46      0.68      0.55        19\n",
      "           5       0.67      0.67      0.67        15\n",
      "           6       0.65      0.72      0.69        76\n",
      "           7       0.56      0.57      0.56        44\n",
      "           8       0.74      0.57      0.65        61\n",
      "           9       0.60      0.45      0.51        20\n",
      "          10       0.97      0.97      0.97        31\n",
      "\n",
      "    accuracy                           0.67      1024\n",
      "   macro avg       0.65      0.64      0.64      1024\n",
      "weighted avg       0.68      0.67      0.67      1024\n",
      "\n"
     ]
    },
    {
     "data": {
      "image/png": "[encoded data removed]",
      "text/plain": [
       "<Figure size 720x504 with 1 Axes>"
      ]
     },
     "metadata": {
      "needs_background": "light"
     },
     "output_type": "display_data"
    }
   ],
   "source": [
    "import matplotlib.pyplot as plt\n",
    "import pandas as pd\n",
    "# Calculate the evaluation metrics for the ensemble model\n",
    "\n",
    "report = classification_report(all_true_labels, ensemble_labels)\n",
    "print(report)\n",
    "#print(confusion_matrix(all_true_labels, ensemble_labels))\n",
    "\n",
    "# Save the report to a file\n",
    "with open(r'C:\\Users\\lwfeckesim\\01_PyTorch\\wze-uav\\wze-uav-master\\plots\\report_RGB_combined_11classes_plotsplit.txt', 'w') as f:\n",
    "    f.write(report)\n",
    "\n",
    "labels = np.array([0,1,2,3,4,5,6,7,8,9,10])\n",
    "confmat = confusion_matrix(all_true_labels, ensemble_labels, labels=labels)\n",
    "\n",
    "# 3. Plot the confusion matrix\n",
    "fig, ax = plot_confusion_matrix(\n",
    "    conf_mat=confmat, # matplotlib likes working with NumPy \n",
    "    class_names=class_names, # turn the row and column labels into class names\n",
    "    figsize=(10, 7)\n",
    ");\n",
    "\n",
    "# add title to confusion matrix plot\n",
    "plt.title(\"Main tree species and Health Status Classification using RGB-NIR Bands\", fontsize=16)\n",
    "\n",
    "fig.savefig(r'C:\\Users\\lwfeckesim\\01_PyTorch\\wze-uav\\wze-uav-master\\plots\\confmat_RGB_combined_11classes_plotsplit.png', dpi=300, bbox_inches='tight')\n",
    "\n",
    "# Create a DataFrame from the confusion matrix\n",
    "df_cm = pd.DataFrame(confmat)\n",
    "\n",
    "# Export the confusion matrix to a CSV file\n",
    "df_cm.to_csv(r'C:\\Users\\lwfeckesim\\01_PyTorch\\wze-uav\\wze-uav-master\\plots\\confmat_RGB-NIR_combined_11classes_plotsplit.csv', index=False)\n"
   ]
  },
  {
   "cell_type": "code",
   "execution_count": 23,
   "id": "aab9e321",
   "metadata": {},
   "outputs": [
    {
     "ename": "NameError",
     "evalue": "name 'best_model' is not defined",
     "output_type": "error",
     "traceback": [
      "\u001b[1;31m---------------------------------------------------------------------------\u001b[0m",
      "\u001b[1;31mNameError\u001b[0m                                 Traceback (most recent call last)",
      "Input \u001b[1;32mIn [23]\u001b[0m, in \u001b[0;36m<cell line: 3>\u001b[1;34m()\u001b[0m\n\u001b[0;32m      1\u001b[0m \u001b[38;5;66;03m# 2. Setup confusion matrix instance and compare predictions to targets\u001b[39;00m\n\u001b[0;32m      2\u001b[0m \u001b[38;5;66;03m#from wze_uav.analysis import *\u001b[39;00m\n\u001b[1;32m----> 3\u001b[0m y_pred_tensor, y_labels_tensor, test_loss, test_recall, test_precision, test_f1_score, test_acc, y_logit, y_pred, y, y_preds \u001b[38;5;241m=\u001b[39m make_predictions(model\u001b[38;5;241m=\u001b[39m\u001b[43mbest_model\u001b[49m,\n\u001b[0;32m      4\u001b[0m                                  test_dataloader\u001b[38;5;241m=\u001b[39mtest_dataloader, \n\u001b[0;32m      5\u001b[0m                                  device\u001b[38;5;241m=\u001b[39mdevice)\n\u001b[0;32m      7\u001b[0m y_labels_tensor \u001b[38;5;241m=\u001b[39m y_labels_tensor\u001b[38;5;241m.\u001b[39mdetach()\u001b[38;5;241m.\u001b[39mcpu()\u001b[38;5;241m.\u001b[39mnumpy()\n\u001b[0;32m      8\u001b[0m y_pred_tensor \u001b[38;5;241m=\u001b[39m y_pred_tensor\u001b[38;5;241m.\u001b[39mdetach()\u001b[38;5;241m.\u001b[39mcpu()\u001b[38;5;241m.\u001b[39mnumpy()\n",
      "\u001b[1;31mNameError\u001b[0m: name 'best_model' is not defined"
     ]
    }
   ],
   "source": [
    "# 2. Setup confusion matrix instance and compare predictions to targets\n",
    "#from wze_uav.analysis import *\n",
    "y_pred_tensor, y_labels_tensor, test_loss, test_recall, test_precision, test_f1_score, test_acc, y_logit, y_pred, y, y_preds = make_predictions(model=best_model,\n",
    "                                 test_dataloader=test_dataloader, \n",
    "                                 device=device)\n",
    "\n",
    "y_labels_tensor = y_labels_tensor.detach().cpu().numpy()\n",
    "y_pred_tensor = y_pred_tensor.detach().cpu().numpy()\n",
    "\n",
    "#confmat = ConfusionMatrix(num_classes=num_classes, task='multiclass')\n",
    "#confmat_tensor = confmat(preds=y_pred_tensor,\n",
    "#                         target=test_labels)\n",
    "labels = np.array([0,1,2])\n",
    "confmat = confusion_matrix(y_labels_tensor, y_pred_tensor, labels=labels)\n",
    "\n",
    "# 3. Plot the confusion matrix\n",
    "fig, ax = plot_confusion_matrix(\n",
    "    conf_mat=confmat, # matplotlib likes working with NumPy \n",
    "    class_names=class_names, # turn the row and column labels into class names\n",
    "    figsize=(10, 7)\n",
    ");\n",
    "\n",
    "print(f\"Test loss: {test_loss}\")\n",
    "print(f\"Test precision: {test_precision}\")\n",
    "print(f\"Test recall: {test_recall}\")\n",
    "print(f\"Test F1score: {test_f1_score}\")\n",
    "#print(f\"Test Kappa: {test_kappa}\")\n",
    "print(f\"Test Accuracy: {test_acc}\")\n",
    "print(f\"Test Logits: {y_logit}\")\n",
    "print(f\"Test Predictions: {y_pred}\")\n",
    "print(f\"Test Labels: {y}\")"
   ]
  },
  {
   "cell_type": "code",
   "execution_count": null,
   "id": "8d4173b3",
   "metadata": {},
   "outputs": [],
   "source": [
    "len(y_preds)"
   ]
  },
  {
   "cell_type": "code",
   "execution_count": null,
   "id": "7588116f",
   "metadata": {},
   "outputs": [],
   "source": [
    "y_set.cpu()"
   ]
  },
  {
   "cell_type": "code",
   "execution_count": null,
   "id": "1c195b3e",
   "metadata": {},
   "outputs": [],
   "source": [
    "test_dataset.labels"
   ]
  },
  {
   "cell_type": "code",
   "execution_count": null,
   "id": "975ec08c",
   "metadata": {},
   "outputs": [],
   "source": []
  },
  {
   "cell_type": "code",
   "execution_count": null,
   "id": "6da05604",
   "metadata": {},
   "outputs": [],
   "source": [
    "y_preds = []\n",
    "y_labels = []\n",
    "labels = np.array([0,1,2])\n",
    "test_loss, test_precision, test_recall, test_f1_score, test_acc = 0, 0, 0, 0, 0\n",
    "count = 0\n",
    "model.eval()\n",
    "with torch.inference_mode():\n",
    "    for X, y in tqdm(test_dataloader, desc=\"Making predictions\"):\n",
    "        # Send data and targets to target device\n",
    "        X, y = X.to(device), y.to(device)\n",
    "        # Do the forward pass\n",
    "        y_logit = model(X)\n",
    "        # Turn predictions from logits -> prediction probabilities -> predictions labels\n",
    "        y_pred = torch.softmax(y_logit, dim=1).argmax(dim=1)\n",
    "        # Put predictions on CPU for evaluation\n",
    "        y_preds.append(y_pred.cpu())\n",
    "        y_labels.append(y.cpu())\n",
    "        \n",
    "        #other metrics\n",
    "        test_acc += ((y_pred == y).sum().item()/len(y_pred))\n",
    "        y_pred_class = y_pred.detach().cpu().numpy() \n",
    "        y_class = y.detach().cpu().numpy()\n",
    "        test_precision += precision_score(y_class, y_pred_class, average='macro', zero_division=1, labels=labels)\n",
    "        test_recall += recall_score(y_class, y_pred_class, average='macro', zero_division=1, labels=labels)\n",
    "        #test_f1_score += f1_score(y_class, y_pred_class, average='macro', zero_division=1, labels=labels)\n",
    "        \n",
    "        #if count >= 1:\n",
    "        #    y_set = torch.cat((y_set, y))\n",
    "        #    count = count + 1\n",
    "        #else:\n",
    "        #    y_set = y\n",
    "        #    count = count + 1\n",
    "        \n",
    "test_loss = test_loss / len(test_dataloader)\n",
    "test_precision = test_precision / len(test_dataloader)\n",
    "test_recall = test_recall / len(test_dataloader)\n",
    "#test_f1_score = test_f1_score / len(test_dataloader)\n",
    "#test_kappa = test_kappa / len(dataloader)\n",
    "test_acc = test_acc / len(test_dataloader)\n",
    "# Concatenate list of predictions into a tensor\n",
    "y_pred_tensor = torch.cat(y_preds)\n",
    "test_f1_score = f1_score(y_set.detach().cpu().numpy(), y_pred_tensor.cpu().numpy(), average='macro', zero_division=0, labels=[0,1,2])\n",
    "\n",
    "# Print classification report\n",
    "y_true = y_set.detach().cpu().numpy()\n",
    "report = classification_report(y_true, y_pred_tensor.cpu().numpy(), target_names=class_names)\n",
    "print(report)"
   ]
  },
  {
   "cell_type": "code",
   "execution_count": null,
   "id": "6ae97fab",
   "metadata": {},
   "outputs": [],
   "source": [
    "test_f1_score"
   ]
  },
  {
   "cell_type": "code",
   "execution_count": null,
   "id": "7ebafd9b",
   "metadata": {},
   "outputs": [],
   "source": [
    "make = (y_class == y_pred_class)\n",
    "make"
   ]
  },
  {
   "cell_type": "code",
   "execution_count": null,
   "id": "4f8aa759",
   "metadata": {},
   "outputs": [],
   "source": [
    "torch.softmax(y_logit, dim=1).argmax(dim=1)"
   ]
  },
  {
   "cell_type": "code",
   "execution_count": null,
   "id": "f90a54b2",
   "metadata": {},
   "outputs": [],
   "source": [
    "y"
   ]
  },
  {
   "cell_type": "code",
   "execution_count": null,
   "id": "5a806154",
   "metadata": {},
   "outputs": [],
   "source": [
    "test = (y_pred == y).sum().item()/16"
   ]
  },
  {
   "cell_type": "code",
   "execution_count": null,
   "id": "1da35c56",
   "metadata": {},
   "outputs": [],
   "source": [
    "test"
   ]
  },
  {
   "cell_type": "code",
   "execution_count": null,
   "id": "b1eb246e",
   "metadata": {},
   "outputs": [],
   "source": [
    " y_pred_class = y_pred.detach().cpu().numpy() "
   ]
  },
  {
   "cell_type": "code",
   "execution_count": null,
   "id": "602e096f",
   "metadata": {},
   "outputs": [],
   "source": [
    "y_pred_class"
   ]
  },
  {
   "cell_type": "code",
   "execution_count": null,
   "id": "eaf1af09",
   "metadata": {},
   "outputs": [],
   "source": []
  }
 ],
 "metadata": {
  "kernelspec": {
   "display_name": "Python 3 (ipykernel)",
   "language": "python",
   "name": "python3"
  },
  "language_info": {
   "codemirror_mode": {
    "name": "ipython",
    "version": 3
   },
   "file_extension": ".py",
   "mimetype": "text/x-python",
   "name": "python",
   "nbconvert_exporter": "python",
   "pygments_lexer": "ipython3",
   "version": "3.9.16"
  }
 },
 "nbformat": 4,
 "nbformat_minor": 5
}
