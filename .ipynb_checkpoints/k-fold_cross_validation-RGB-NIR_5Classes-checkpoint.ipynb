{
 "cells": [
  {
   "cell_type": "markdown",
   "id": "c1acdaa3",
   "metadata": {},
   "source": [
    "# WZE-UAV Image Classification using Deep Learning"
   ]
  },
  {
   "cell_type": "code",
   "execution_count": 1,
   "id": "2159aac5",
   "metadata": {},
   "outputs": [],
   "source": [
    "import os\n",
    "import gc\n",
    "import glob\n",
    "import numpy as np\n",
    "from pathlib import Path\n",
    "from tqdm.auto import tqdm\n",
    "from sklearn.metrics import confusion_matrix, classification_report\n",
    "from sklearn.model_selection import KFold"
   ]
  },
  {
   "cell_type": "code",
   "execution_count": 2,
   "id": "0026f7a9",
   "metadata": {},
   "outputs": [],
   "source": [
    "import torch\n",
    "import torchvision.transforms as T\n",
    "import torchvision\n",
    "from torch import nn\n",
    "from torch.utils.data import DataLoader\n",
    "from torchvision import datasets, transforms\n",
    "from torch.utils.data import Dataset\n",
    "import torch.optim as optim\n",
    "from torch.optim.lr_scheduler import ExponentialLR\n",
    "from mlxtend.plotting import plot_confusion_matrix"
   ]
  },
  {
   "cell_type": "code",
   "execution_count": 3,
   "id": "b160d7b4",
   "metadata": {},
   "outputs": [],
   "source": [
    "import wze_uav.data_loader as data_loader\n",
    "import wze_uav.models as models\n",
    "from wze_uav.engine import *\n",
    "from wze_uav.utils2 import *\n",
    "#from wze_uav.log_writer import create_writer\n",
    "from wze_uav.datasplit import *\n",
    "from efficientnet import model_effnet #for custom effnet with n_channels input\n",
    "import wandb"
   ]
  },
  {
   "cell_type": "markdown",
   "id": "2bd4fb2f",
   "metadata": {},
   "source": [
    "#### Get PyTorch version"
   ]
  },
  {
   "cell_type": "code",
   "execution_count": 4,
   "id": "c10886b1",
   "metadata": {},
   "outputs": [
    {
     "name": "stdout",
     "output_type": "stream",
     "text": [
      "torch version: 1.13.1+cu116\n",
      "torchvision version: 0.14.1+cu116\n"
     ]
    }
   ],
   "source": [
    "print(f\"torch version: {torch.__version__}\")\n",
    "print(f\"torchvision version: {torchvision.__version__}\")"
   ]
  },
  {
   "cell_type": "markdown",
   "id": "aa6a83cf",
   "metadata": {},
   "source": [
    "#### Preparing device agnostic code "
   ]
  },
  {
   "cell_type": "code",
   "execution_count": 5,
   "id": "13d5de88",
   "metadata": {},
   "outputs": [
    {
     "name": "stdout",
     "output_type": "stream",
     "text": [
      "cuda\n",
      "Index of current divice: 0\n",
      "Number of GPUs available: 1\n",
      "GPU Model: Quadro RTX 8000\n"
     ]
    }
   ],
   "source": [
    "# ensure device agnostic code\n",
    "device = 'cuda' if torch.cuda.is_available() else 'cpu'\n",
    "print(device)\n",
    "\n",
    "# get index of currently selected device\n",
    "print(f\"Index of current divice: {torch.cuda.current_device()}\")\n",
    "# get number of GPUs available\n",
    "print(f\"Number of GPUs available: {torch.cuda.device_count()}\")\n",
    "# get the name of the device\n",
    "print(f\"GPU Model: {torch.cuda.get_device_name(0)}\")"
   ]
  },
  {
   "cell_type": "markdown",
   "id": "8ef6b169",
   "metadata": {},
   "source": [
    "#### Login to Weights & Biases to track results"
   ]
  },
  {
   "cell_type": "code",
   "execution_count": 6,
   "id": "a59d27cf",
   "metadata": {},
   "outputs": [
    {
     "name": "stderr",
     "output_type": "stream",
     "text": [
      "Failed to detect the name of this notebook, you can set it manually with the WANDB_NOTEBOOK_NAME environment variable to enable code saving.\n",
      "\u001b[34m\u001b[1mwandb\u001b[0m: Currently logged in as: \u001b[33msimon-ecke\u001b[0m. Use \u001b[1m`wandb login --relogin`\u001b[0m to force relogin\n"
     ]
    },
    {
     "data": {
      "text/html": [
       "wandb version 0.15.0 is available!  To upgrade, please run:\n",
       " $ pip install wandb --upgrade"
      ],
      "text/plain": [
       "<IPython.core.display.HTML object>"
      ]
     },
     "metadata": {},
     "output_type": "display_data"
    },
    {
     "data": {
      "text/html": [
       "Tracking run with wandb version 0.14.2"
      ],
      "text/plain": [
       "<IPython.core.display.HTML object>"
      ]
     },
     "metadata": {},
     "output_type": "display_data"
    },
    {
     "data": {
      "text/html": [
       "Run data is saved locally in <code>C:\\Users\\lwfeckesim\\01_PyTorch\\wze-uav\\wze-uav-master\\wandb\\run-20230427_102259-9v6tmla7</code>"
      ],
      "text/plain": [
       "<IPython.core.display.HTML object>"
      ]
     },
     "metadata": {},
     "output_type": "display_data"
    },
    {
     "data": {
      "text/html": [
       "Syncing run <strong><a href='https://wandb.ai/simon-ecke/wze-uav-5classes/runs/9v6tmla7' target=\"_blank\">gallant-butterfly-1</a></strong> to <a href='https://wandb.ai/simon-ecke/wze-uav-5classes' target=\"_blank\">Weights & Biases</a> (<a href='https://wandb.me/run' target=\"_blank\">docs</a>)<br/>"
      ],
      "text/plain": [
       "<IPython.core.display.HTML object>"
      ]
     },
     "metadata": {},
     "output_type": "display_data"
    },
    {
     "data": {
      "text/html": [
       " View project at <a href='https://wandb.ai/simon-ecke/wze-uav-5classes' target=\"_blank\">https://wandb.ai/simon-ecke/wze-uav-5classes</a>"
      ],
      "text/plain": [
       "<IPython.core.display.HTML object>"
      ]
     },
     "metadata": {},
     "output_type": "display_data"
    },
    {
     "data": {
      "text/html": [
       " View run at <a href='https://wandb.ai/simon-ecke/wze-uav-5classes/runs/9v6tmla7' target=\"_blank\">https://wandb.ai/simon-ecke/wze-uav-5classes/runs/9v6tmla7</a>"
      ],
      "text/plain": [
       "<IPython.core.display.HTML object>"
      ]
     },
     "metadata": {},
     "output_type": "display_data"
    },
    {
     "data": {
      "text/html": [
       "<button onClick=\"this.nextSibling.style.display='block';this.style.display='none';\">Display W&B run</button><iframe src='https://wandb.ai/simon-ecke/wze-uav-5classes/runs/9v6tmla7?jupyter=true' style='border:none;width:100%;height:420px;display:none;'></iframe>"
      ],
      "text/plain": [
       "<wandb.sdk.wandb_run.Run at 0x160224ea670>"
      ]
     },
     "execution_count": 6,
     "metadata": {},
     "output_type": "execute_result"
    }
   ],
   "source": [
    "# IMPORTANT: The proxy needs to be set in anaconda!\n",
    "# copy paste this in anaconda and restart jupyter notebook\n",
    "#set http_proxy=http://www-proxy.bayern.de:80\n",
    "#set https_proxy=http://www-proxy.bayern.de:80\n",
    "wandb.login()\n",
    "#wandb.init(settings=wandb.Settings(start_method=\"thread\"))\n",
    "wandb.init(project='wze-uav-5classes', entity='simon-ecke')"
   ]
  },
  {
   "cell_type": "markdown",
   "id": "a26a6a34",
   "metadata": {},
   "source": [
    "#### Ensure reproducibility "
   ]
  },
  {
   "cell_type": "code",
   "execution_count": 7,
   "id": "dd4656a7",
   "metadata": {},
   "outputs": [],
   "source": [
    "# for more information, see also: https://pytorch.org/docs/stable/notes/randomness.html\n",
    "\n",
    "# Set seeds\n",
    "def set_seeds(seed: int=42):\n",
    "    \"\"\"Sets random sets for torch operations.\n",
    "\n",
    "    Args:\n",
    "        seed (int, optional): Random seed to set. Defaults to 42.\n",
    "    \"\"\"\n",
    "    # Set the seed for general torch operations\n",
    "    torch.manual_seed(seed)\n",
    "    # Set the seed for CUDA torch operations (ones that happen on the GPU)\n",
    "    torch.cuda.manual_seed(seed)\n",
    "    # seed for numpy\n",
    "    np.random.seed(seed)\n",
    "\n",
    "set_seeds(42) \n",
    "\n",
    "# Set to true -> might speed up the process but should be set to False if reproducible results are desired\n",
    "torch.backends.cudnn.benchmark = False\n"
   ]
  },
  {
   "cell_type": "markdown",
   "id": "8be33671",
   "metadata": {},
   "source": [
    "#### Define file directory"
   ]
  },
  {
   "cell_type": "code",
   "execution_count": 8,
   "id": "30645f36",
   "metadata": {},
   "outputs": [],
   "source": [
    "#####################################################################################\n",
    "# 3 channel input (r-g-b)\n",
    "data_path = r\"D:\\Drohnendaten\\10_WZE-UAV\\Auswertung_findatree\\Datasplit\\ROI\\rgb\"\n",
    "\n",
    "# 4 channel input (r-g-b-nir)\n",
    "#data_path = r\"D:\\Drohnendaten\\10_WZE-UAV\\Auswertung_findatree\\Datasplit\\ROI\\rgb-nir\"\n",
    "\n",
    "# 5 channel input (r-g-b-re-nir)\n",
    "#data_path = r\"D:\\Drohnendaten\\10_WZE-UAV\\Auswertung_findatree\\Datasplit\\ROI\\rgb-re-nir\"\n",
    "\n",
    "# 6 channel input (r-g-b-re-nir)\n",
    "#data_path = r\"D:\\Drohnendaten\\10_WZE-UAV\\Auswertung_findatree\\Datasplit\\ROI\\rgb-re-nir-ndvi\"\n",
    "#####################################################################################"
   ]
  },
  {
   "cell_type": "markdown",
   "id": "4560ce64",
   "metadata": {},
   "source": [
    "#### Get all file paths"
   ]
  },
  {
   "cell_type": "code",
   "execution_count": 9,
   "id": "aa072e4c",
   "metadata": {},
   "outputs": [],
   "source": [
    "fn_list = os.listdir(data_path)\n",
    "path_list = []\n",
    "# Iterate over all datafiles\n",
    "for year in fn_list:\n",
    "    year_dir = f'{data_path}\\\\{year}'\n",
    "    for filename in os.listdir(year_dir):\n",
    "        path = f'{year_dir}\\\\{filename}'\n",
    "        path_list.append(path)"
   ]
  },
  {
   "cell_type": "markdown",
   "id": "f3937a44",
   "metadata": {},
   "source": [
    "#### Create unique hash IDs for every individual tree"
   ]
  },
  {
   "cell_type": "code",
   "execution_count": 10,
   "id": "8a50f1d7",
   "metadata": {},
   "outputs": [
    {
     "data": {
      "application/vnd.jupyter.widget-view+json": {
       "model_id": "4de336fdb20040a399e32a493b24d9e3",
       "version_major": 2,
       "version_minor": 0
      },
      "text/plain": [
       "Creating unique tree IDs...:   0%|          | 0/647 [00:00<?, ?it/s]"
      ]
     },
     "metadata": {},
     "output_type": "display_data"
    }
   ],
   "source": [
    "hashID_dict = data_loader.get_unique_treeID(path_list)"
   ]
  },
  {
   "cell_type": "markdown",
   "id": "6f4cea00",
   "metadata": {},
   "source": [
    "#### Import all imagery, labels and other features from hdf5 files"
   ]
  },
  {
   "cell_type": "code",
   "execution_count": 11,
   "id": "94e3eecf",
   "metadata": {},
   "outputs": [
    {
     "data": {
      "application/vnd.jupyter.widget-view+json": {
       "model_id": "e9a6cc389f4a440fbc250e20f3b74f0a",
       "version_major": 2,
       "version_minor": 0
      },
      "text/plain": [
       "Processing hdf5 datasets:   0%|          | 0/647 [00:00<?, ?it/s]"
      ]
     },
     "metadata": {},
     "output_type": "display_data"
    }
   ],
   "source": [
    "image_set, label_set, species_set, kkl_set, bk_set, hash_id = data_loader.hdf5_to_img_label(path_list,\n",
    "                                                                                               hashID_dict,\n",
    "                                                                                               load_sets=[\"images_masked\"])"
   ]
  },
  {
   "cell_type": "markdown",
   "id": "6a90e2b7",
   "metadata": {},
   "source": [
    "#### Convert nbv to classes"
   ]
  },
  {
   "cell_type": "code",
   "execution_count": 12,
   "id": "0224972a",
   "metadata": {},
   "outputs": [],
   "source": [
    "label_set = nbv_to_sst_5classes(label_set)"
   ]
  },
  {
   "cell_type": "markdown",
   "id": "c6b4cd85",
   "metadata": {},
   "source": [
    "#### Split data into a sub set and a test dataset"
   ]
  },
  {
   "cell_type": "code",
   "execution_count": 13,
   "id": "d06eda54",
   "metadata": {},
   "outputs": [
    {
     "name": "stdout",
     "output_type": "stream",
     "text": [
      "ORIGINAL POSITIVE RATIO: 1.2873703802180272\n",
      "Fold : 0\n",
      "TRAIN POSITIVE RATIO: 1.2826295278860282\n",
      "TEST POSITIVE RATIO : 1.3109137055837563\n",
      "LENGTH TRAIN GROUPS : 5903\n",
      "LENGTH TEST GROUPS  : 1184\n",
      "Number of True in sub_indices: 15653\n",
      "Number of False in sub_indices: 3152\n",
      "Number of True in test_indices: 1185\n",
      "Number of False in test_indices: 17620\n",
      "Check shapes:\n",
      "\n",
      "Images sub dataset: (15653, 250, 250, 3)\n",
      "Labels sub dataset: (15653, 1)\n",
      "\n",
      "Images test dataset: (1185, 250, 250, 3)\n",
      "Labels test dataset: (1185, 1)\n",
      "\n",
      "--------------------------------------------------\n",
      "Check if the split was stratified: (random_state=42)\n",
      "Healthy trees in sub dataset: 2973\n",
      "Stressed trees in sub dataset: 6234\n",
      "Dead trees in sub dataset: 5743\n",
      "Healthy trees in test dataset: 193\n",
      "Stressed trees in test dataset: 503\n",
      "Dead trees in test dataset: 423\n",
      "Ratio health trees in test dataset: 0.06491759165825765\n",
      "Ratio stressed trees in test dataset: 0.08068655758742381\n",
      "Ratio dead trees in test dataset: 0.07365488420686053\n"
     ]
    }
   ],
   "source": [
    "sub_image_set, sub_label_set, sub_hash_id, sub_species_set, test_image_set, test_label_set, test_hash_id, test_species_set = data_split(image_set, label_set, hash_id, species_set, n_splits=6, random_state=42, seed=2)\n"
   ]
  },
  {
   "cell_type": "markdown",
   "id": "c48fbb5b",
   "metadata": {},
   "source": [
    "#### Check if any hash ID is in both sub and test dataset"
   ]
  },
  {
   "cell_type": "code",
   "execution_count": 14,
   "id": "874367cf",
   "metadata": {},
   "outputs": [
    {
     "name": "stdout",
     "output_type": "stream",
     "text": [
      "There are no hash_id values in both train and test datasets. The datasplit was successful\n"
     ]
    }
   ],
   "source": [
    "hash_set = set(sub_hash_id[:,0].flatten())\n",
    "test_hash_set = set(test_hash_id[:,0].flatten())\n",
    "intersection = hash_set.intersection(test_hash_set)\n",
    "if intersection:\n",
    "    print(f\"Hash_id values in both train and test sets: {len(intersection)}\")\n",
    "else:\n",
    "    print(\"There are no hash_id values in both train and test datasets. The datasplit was successful\")"
   ]
  },
  {
   "cell_type": "markdown",
   "id": "9e5b64d4",
   "metadata": {},
   "source": [
    "#### Check feature distribution of the Test dataset"
   ]
  },
  {
   "cell_type": "code",
   "execution_count": 15,
   "id": "a33ff5cb",
   "metadata": {},
   "outputs": [
    {
     "name": "stdout",
     "output_type": "stream",
     "text": [
      "Test dataset\n",
      "Test data healthy trees: 193\n",
      "Test data moderately stressed trees: 503\n",
      "Test data severely stressed trees: 423\n",
      "Test data dead trees: 39\n",
      "Test data pine trees: 281\n",
      "Test data spruces: 475\n",
      "--------------------------------------------------\n",
      "Remaining dataset\n",
      "Remaining data healthy trees: 2973\n",
      "Remaining data moderately stressed trees: 6234\n",
      "Remaining data severley stressed trees: 5743\n",
      "Remaining data dead trees: 455\n",
      "Remaining data pine trees: 4011\n",
      "Remaining data spruces: 5763\n",
      "--------------------------------------------------\n"
     ]
    }
   ],
   "source": [
    "def count_occurrences(data, value):\n",
    "    count = 0\n",
    "    for item in data:\n",
    "        if item == value:\n",
    "            count += 1\n",
    "    return count\n",
    "\n",
    "print(\"Test dataset\")\n",
    "print(f\"Test data healthy trees: {count_occurrences(test_label_set, 0)}\")\n",
    "print(f\"Test data moderately stressed trees: {count_occurrences(test_label_set, 1)}\")\n",
    "print(f\"Test data severely stressed trees: {count_occurrences(test_label_set, 2)}\")\n",
    "print(f\"Test data dead trees: {count_occurrences(test_label_set, 3)}\")\n",
    "print(f\"Test data pine trees: {count_occurrences(test_species_set, 134)}\")\n",
    "print(f\"Test data spruces: {count_occurrences(test_species_set, 118)}\")\n",
    "print(\"-\"*50)\n",
    "\n",
    "print(\"Remaining dataset\")\n",
    "print(f\"Remaining data healthy trees: {count_occurrences(sub_label_set, 0)}\")\n",
    "print(f\"Remaining data moderately stressed trees: {count_occurrences(sub_label_set, 1)}\")\n",
    "print(f\"Remaining data severley stressed trees: {count_occurrences(sub_label_set, 2)}\")\n",
    "print(f\"Remaining data dead trees: {count_occurrences(sub_label_set, 3)}\")\n",
    "print(f\"Remaining data pine trees: {count_occurrences(sub_species_set, 134)}\")\n",
    "print(f\"Remaining data spruces: {count_occurrences(sub_species_set, 118)}\")\n",
    "print(\"-\"*50)"
   ]
  },
  {
   "cell_type": "code",
   "execution_count": 16,
   "id": "e08fcf57",
   "metadata": {},
   "outputs": [],
   "source": [
    "# train transform with augmentation. \n",
    "transform_train = transforms.Compose([transforms.ToTensor(), transforms.RandomHorizontalFlip(p=0.5), transforms.RandomVerticalFlip(p=0.5),\n",
    "                                      transforms.RandomRotation(degrees=[0,360])])\n",
    "\n",
    "# test and val dataset transform without augmentation. \n",
    "transform = transforms.Compose([transforms.ToTensor()])\n",
    "\n",
    "# class names need to fit the customDataset class used e.g. 3 classes -> use CustomDataset3Classes\n",
    "#class_names = ['healthy', 'slightly_stressed', 'moderately_stressed', 'highly_stressed', 'dead']\n",
    "#class_names = ['healthy', 'moderately_stressed', 'highly_stressed', 'dead']\n",
    "class_names = ['healthy', 'low stress', 'moderate stress', 'severe stress', 'dead']\n",
    "\n",
    "# set seeds\n",
    "g = torch.Generator()\n",
    "g.manual_seed(42)\n",
    "NUM_WORKERS=3 # should be changed, depending on the system used\n",
    "batch_size=32"
   ]
  },
  {
   "cell_type": "markdown",
   "id": "31779c05",
   "metadata": {},
   "source": [
    "#### Define variables and parameters"
   ]
  },
  {
   "cell_type": "code",
   "execution_count": 17,
   "id": "10ae4379",
   "metadata": {},
   "outputs": [
    {
     "name": "stdout",
     "output_type": "stream",
     "text": [
      "Memory allocated: 0 bytes\n"
     ]
    }
   ],
   "source": [
    "# 1. Define number of epochs\n",
    "epochs = 50\n",
    "n_bands = sub_image_set[0].shape[2] # get number of bands\n",
    "\n",
    "# 2. Define model\n",
    "num_classes = len(class_names)\n",
    "unfreeze = True # all layer weights get updated\n",
    "dropout_rate = 0.5 #define dropout rate\n",
    "model_name = \"EffNet_b7_RGB_5classes\"\n",
    "\n",
    "# 3. Define loss, optimizer and learning rate scheduler\n",
    "lr = 0.005 # define learning rate\n",
    "min_lr = 1e-6 # minimum learning rate threshold\n",
    "gamma = 0.75 # how fast the learning rate decreases per epoch (low number=faster decrease)\n",
    "patience = 10\n",
    "\n",
    "# 4. Create target folder name were to save the tensorboard event files\n",
    "experiment_name = 'RGB_5classes'\n",
    "extra = \"RGB_5classes\"\n",
    "\n",
    "#----------------------------------------------------------------------\n",
    "#torch.cuda.empty_cache()\n",
    "print(f\"Memory allocated: {torch.cuda.memory_allocated()} bytes\") "
   ]
  },
  {
   "cell_type": "markdown",
   "id": "09768b1a",
   "metadata": {},
   "source": [
    "#### Run k-Fold cross-validation on EfficientNet"
   ]
  },
  {
   "cell_type": "code",
   "execution_count": 18,
   "id": "9c29c81d",
   "metadata": {},
   "outputs": [
    {
     "name": "stdout",
     "output_type": "stream",
     "text": [
      "ORIGINAL POSITIVE RATIO: 1.2826295278860282\n",
      "Fold : 1\n",
      "TRAIN POSITIVE RATIO: 1.2815572787592933\n",
      "VAL POSITIVE RATIO  : 1.2868956743002544\n",
      "LENGTH TRAIN GROUPS : 4720\n",
      "LENGTH VAL GROUPS   : 1183\n"
     ]
    },
    {
     "data": {
      "text/html": [
       "Finishing last run (ID:9v6tmla7) before initializing another..."
      ],
      "text/plain": [
       "<IPython.core.display.HTML object>"
      ]
     },
     "metadata": {},
     "output_type": "display_data"
    },
    {
     "data": {
      "text/html": [
       "Waiting for W&B process to finish... <strong style=\"color:green\">(success).</strong>"
      ],
      "text/plain": [
       "<IPython.core.display.HTML object>"
      ]
     },
     "metadata": {},
     "output_type": "display_data"
    },
    {
     "data": {
      "application/vnd.jupyter.widget-view+json": {
       "model_id": "367b2c309a954fcbb3f776365c9924bd",
       "version_major": 2,
       "version_minor": 0
      },
      "text/plain": [
       "VBox(children=(Label(value='0.001 MB of 0.001 MB uploaded (0.000 MB deduped)\\r'), FloatProgress(value=1.0, max…"
      ]
     },
     "metadata": {},
     "output_type": "display_data"
    },
    {
     "data": {
      "text/html": [
       " View run <strong style=\"color:#cdcd00\">gallant-butterfly-1</strong> at: <a href='https://wandb.ai/simon-ecke/wze-uav-5classes/runs/9v6tmla7' target=\"_blank\">https://wandb.ai/simon-ecke/wze-uav-5classes/runs/9v6tmla7</a><br/>Synced 5 W&B file(s), 0 media file(s), 0 artifact file(s) and 0 other file(s)"
      ],
      "text/plain": [
       "<IPython.core.display.HTML object>"
      ]
     },
     "metadata": {},
     "output_type": "display_data"
    },
    {
     "data": {
      "text/html": [
       "Find logs at: <code>.\\wandb\\run-20230427_102259-9v6tmla7\\logs</code>"
      ],
      "text/plain": [
       "<IPython.core.display.HTML object>"
      ]
     },
     "metadata": {},
     "output_type": "display_data"
    },
    {
     "data": {
      "text/html": [
       "Successfully finished last run (ID:9v6tmla7). Initializing new run:<br/>"
      ],
      "text/plain": [
       "<IPython.core.display.HTML object>"
      ]
     },
     "metadata": {},
     "output_type": "display_data"
    },
    {
     "data": {
      "application/vnd.jupyter.widget-view+json": {
       "model_id": "947709a1f1654483b3be868ee3433c1b",
       "version_major": 2,
       "version_minor": 0
      },
      "text/plain": [
       "VBox(children=(Label(value='Waiting for wandb.init()...\\r'), FloatProgress(value=0.016666666666666666, max=1.0…"
      ]
     },
     "metadata": {},
     "output_type": "display_data"
    },
    {
     "data": {
      "text/html": [
       "wandb version 0.15.0 is available!  To upgrade, please run:\n",
       " $ pip install wandb --upgrade"
      ],
      "text/plain": [
       "<IPython.core.display.HTML object>"
      ]
     },
     "metadata": {},
     "output_type": "display_data"
    },
    {
     "data": {
      "text/html": [
       "Tracking run with wandb version 0.14.2"
      ],
      "text/plain": [
       "<IPython.core.display.HTML object>"
      ]
     },
     "metadata": {},
     "output_type": "display_data"
    },
    {
     "data": {
      "text/html": [
       "Run data is saved locally in <code>C:\\Users\\lwfeckesim\\01_PyTorch\\wze-uav\\wze-uav-master\\wandb\\run-20230427_105803-6yh3okx9</code>"
      ],
      "text/plain": [
       "<IPython.core.display.HTML object>"
      ]
     },
     "metadata": {},
     "output_type": "display_data"
    },
    {
     "data": {
      "text/html": [
       "Syncing run <strong><a href='https://wandb.ai/simon-ecke/wze-uav-5classes/runs/6yh3okx9' target=\"_blank\">fold_1_RGB_5classes</a></strong> to <a href='https://wandb.ai/simon-ecke/wze-uav-5classes' target=\"_blank\">Weights & Biases</a> (<a href='https://wandb.me/run' target=\"_blank\">docs</a>)<br/>"
      ],
      "text/plain": [
       "<IPython.core.display.HTML object>"
      ]
     },
     "metadata": {},
     "output_type": "display_data"
    },
    {
     "data": {
      "text/html": [
       " View project at <a href='https://wandb.ai/simon-ecke/wze-uav-5classes' target=\"_blank\">https://wandb.ai/simon-ecke/wze-uav-5classes</a>"
      ],
      "text/plain": [
       "<IPython.core.display.HTML object>"
      ]
     },
     "metadata": {},
     "output_type": "display_data"
    },
    {
     "data": {
      "text/html": [
       " View run at <a href='https://wandb.ai/simon-ecke/wze-uav-5classes/runs/6yh3okx9' target=\"_blank\">https://wandb.ai/simon-ecke/wze-uav-5classes/runs/6yh3okx9</a>"
      ],
      "text/plain": [
       "<IPython.core.display.HTML object>"
      ]
     },
     "metadata": {},
     "output_type": "display_data"
    },
    {
     "name": "stdout",
     "output_type": "stream",
     "text": [
      "There are no same hash_id values in train, val or test datasets. The datasplit was successful\n",
      "Check shapes:\n",
      "\n",
      "Images train dataset: (12509, 250, 250, 3)\n",
      "Labels train dataset: (12509, 1)\n",
      "\n",
      "Images validation dataset: (1183, 250, 250, 3)\n",
      "Labels validation dataset: (1183, 1)\n",
      "\n",
      "--------------------------------------------------\n",
      "Check if the split was stratified: (random_state=42)\n",
      "Healthy trees in train dataset: 2355\n",
      "Moderately stressed trees in train dataset: 5000\n",
      "Severely stressed trees in train dataset: 4618\n",
      "Dead trees in train dataset: 349\n",
      "Healthy trees in validation dataset: 227\n",
      "Moderately stressed trees in validation dataset: 467\n",
      "Severely stressed trees in validation dataset: 421\n",
      "Dead trees in validation dataset: 43\n",
      "Ratio health trees in validation dataset: 0.07635385132862428\n",
      "Ratio moderately stressed trees in validation dataset: 0.07491177414180301\n",
      "Ratio severely stressed trees in validation dataset: 0.08131638516454814\n",
      "Ratio dead trees in validation dataset: 0.9252747252747253\n",
      "--------------------------------------------------\n",
      "\n",
      "Creating datasets for fold: 1\n",
      "\n",
      "Creating dataloaders for fold: 1\n",
      "\n",
      "Loaded pretrained weights for efficientnet-b7\n",
      "\n",
      "[INFO] Fold number: 1\n",
      "[INFO] Number of epochs: 50\n",
      "[INFO] Number of classes: 5\n",
      "[INFO] Batch_size: 32\n",
      "[INFO] Number of bands: 3\n",
      "[INFO] Dropout rate: 0.5\n",
      "[INFO] Gamma learning rate: 0.75\n",
      "[INFO] Memory allocated: 0 bytes\n"
     ]
    },
    {
     "data": {
      "application/vnd.jupyter.widget-view+json": {
       "model_id": "025f0accc0724a6f8020815a1cadbbf5",
       "version_major": 2,
       "version_minor": 0
      },
      "text/plain": [
       "  0%|          | 0/50 [00:00<?, ?it/s]"
      ]
     },
     "metadata": {},
     "output_type": "display_data"
    },
    {
     "name": "stdout",
     "output_type": "stream",
     "text": [
      "Epoch: 1 \n",
      "Learning rate: 0.005\n",
      "Train loss: 1.3117 | Train precision: 0.2195 | Train recall: 0.2205 | Train f1score: 0.2130 | Train acc: 0.3659 | Train kappa: 0.0665 \n",
      "Val loss: 1.5675 | Val precision: 0.0729 | Val recall: 0.2000 | Val f1score: 0.1069 | Val acc: 0.3646 | Val kappa: 0.0000 \n",
      "\n",
      "Epoch: 2 \n",
      "Learning rate: 0.00375\n",
      "Train loss: 1.2672 | Train precision: 0.2385 | Train recall: 0.2352 | Train f1score: 0.2292 | Train acc: 0.3898 | Train kappa: 0.0807 \n",
      "Val loss: 1.2080 | Val precision: 0.2775 | Val recall: 0.2775 | Val f1score: 0.2696 | Val acc: 0.4618 | Val kappa: 0.2634 \n",
      "\n",
      "Epoch: 3 \n",
      "Learning rate: 0.0028125\n",
      "Train loss: 1.2069 | Train precision: 0.3492 | Train recall: 0.2998 | Train f1score: 0.3095 | Train acc: 0.4307 | Train kappa: 0.3097 \n",
      "Val loss: 1.5409 | Val precision: 0.3351 | Val recall: 0.4075 | Val f1score: 0.2090 | Val acc: 0.3273 | Val kappa: 0.1913 \n",
      "\n",
      "Epoch: 4 \n",
      "Learning rate: 0.002109375\n",
      "Train loss: 1.1512 | Train precision: 0.4255 | Train recall: 0.3685 | Train f1score: 0.3733 | Train acc: 0.4494 | Train kappa: 0.4088 \n",
      "Val loss: 1.0629 | Val precision: 0.4594 | Val recall: 0.4714 | Val f1score: 0.4633 | Val acc: 0.5069 | Val kappa: 0.5176 \n",
      "\n",
      "Epoch: 5 \n",
      "Learning rate: 0.00158203125\n",
      "Train loss: 1.1313 | Train precision: 0.4714 | Train recall: 0.4068 | Train f1score: 0.4081 | Train acc: 0.4578 | Train kappa: 0.4463 \n",
      "Val loss: 1.1114 | Val precision: 0.5019 | Val recall: 0.4344 | Val f1score: 0.4080 | Val acc: 0.4653 | Val kappa: 0.3989 \n",
      "\n",
      "Epoch: 6 \n",
      "Learning rate: 0.0011865234375\n",
      "Train loss: 1.1128 | Train precision: 0.4702 | Train recall: 0.4088 | Train f1score: 0.4097 | Train acc: 0.4681 | Train kappa: 0.4539 \n",
      "Val loss: 1.3256 | Val precision: 0.3229 | Val recall: 0.2082 | Val f1score: 0.1224 | Val acc: 0.3646 | Val kappa: 0.0107 \n",
      "\n",
      "Epoch: 7 \n",
      "Learning rate: 0.000889892578125\n",
      "Train loss: 1.1137 | Train precision: 0.4667 | Train recall: 0.4165 | Train f1score: 0.4142 | Train acc: 0.4717 | Train kappa: 0.4682 \n",
      "Val loss: 1.3440 | Val precision: 0.4618 | Val recall: 0.4458 | Val f1score: 0.4514 | Val acc: 0.5148 | Val kappa: 0.5115 \n",
      "\n",
      "Epoch: 8 \n",
      "Learning rate: 0.00066741943359375\n",
      "Train loss: 1.1022 | Train precision: 0.4968 | Train recall: 0.4219 | Train f1score: 0.4250 | Train acc: 0.4809 | Train kappa: 0.4765 \n",
      "Val loss: 1.2033 | Val precision: 0.4785 | Val recall: 0.4768 | Val f1score: 0.4264 | Val acc: 0.5130 | Val kappa: 0.4947 \n",
      "\n",
      "Epoch: 9 \n",
      "Learning rate: 0.0005005645751953125\n",
      "Train loss: 1.0934 | Train precision: 0.5139 | Train recall: 0.4303 | Train f1score: 0.4292 | Train acc: 0.4802 | Train kappa: 0.4839 \n",
      "Val loss: 1.1449 | Val precision: 0.3868 | Val recall: 0.5040 | Val f1score: 0.4141 | Val acc: 0.4844 | Val kappa: 0.5185 \n",
      "\n",
      "Epoch: 10 \n",
      "Learning rate: 0.0003754234313964844\n",
      "Train loss: 1.0860 | Train precision: 0.4973 | Train recall: 0.4368 | Train f1score: 0.4377 | Train acc: 0.4848 | Train kappa: 0.4999 \n",
      "Val loss: 1.0572 | Val precision: 0.4383 | Val recall: 0.4844 | Val f1score: 0.4561 | Val acc: 0.5035 | Val kappa: 0.5516 \n",
      "\n",
      "Epoch: 11 \n",
      "Learning rate: 0.0002815675735473633\n",
      "Train loss: 1.0739 | Train precision: 0.5202 | Train recall: 0.4349 | Train f1score: 0.4439 | Train acc: 0.4879 | Train kappa: 0.5067 \n",
      "Val loss: 1.0688 | Val precision: 0.5849 | Val recall: 0.4915 | Val f1score: 0.4866 | Val acc: 0.5321 | Val kappa: 0.5298 \n",
      "\n",
      "Epoch: 12 \n",
      "Learning rate: 0.00021117568016052246\n",
      "Train loss: 1.0765 | Train precision: 0.5468 | Train recall: 0.4614 | Train f1score: 0.4638 | Train acc: 0.4967 | Train kappa: 0.5121 \n",
      "Val loss: 1.0413 | Val precision: 0.4684 | Val recall: 0.5102 | Val f1score: 0.4823 | Val acc: 0.5356 | Val kappa: 0.5529 \n",
      "\n",
      "Epoch: 13 \n",
      "Learning rate: 0.00015838176012039184\n",
      "Train loss: 1.0653 | Train precision: 0.5282 | Train recall: 0.4580 | Train f1score: 0.4565 | Train acc: 0.5030 | Train kappa: 0.5231 \n",
      "Val loss: 1.0761 | Val precision: 0.4646 | Val recall: 0.5028 | Val f1score: 0.4802 | Val acc: 0.5243 | Val kappa: 0.5586 \n",
      "\n",
      "Epoch: 14 \n",
      "Learning rate: 0.00011878632009029388\n",
      "Train loss: 1.0644 | Train precision: 0.5163 | Train recall: 0.4634 | Train f1score: 0.4606 | Train acc: 0.4937 | Train kappa: 0.5312 \n",
      "Val loss: 1.1246 | Val precision: 0.5398 | Val recall: 0.5202 | Val f1score: 0.4751 | Val acc: 0.5295 | Val kappa: 0.5650 \n",
      "\n",
      "Epoch: 15 \n",
      "Learning rate: 8.908974006772042e-05\n",
      "Train loss: 1.0584 | Train precision: 0.5325 | Train recall: 0.4666 | Train f1score: 0.4661 | Train acc: 0.5007 | Train kappa: 0.5335 \n",
      "Val loss: 1.1451 | Val precision: 0.5719 | Val recall: 0.5117 | Val f1score: 0.4924 | Val acc: 0.5330 | Val kappa: 0.5419 \n",
      "\n",
      "Epoch: 16 \n",
      "Learning rate: 6.681730505079031e-05\n",
      "Train loss: 1.0693 | Train precision: 0.5492 | Train recall: 0.4714 | Train f1score: 0.4734 | Train acc: 0.4904 | Train kappa: 0.5285 \n",
      "Val loss: 1.1435 | Val precision: 0.5286 | Val recall: 0.5149 | Val f1score: 0.5036 | Val acc: 0.5304 | Val kappa: 0.5606 \n",
      "\n",
      "Epoch: 17 \n",
      "Learning rate: 5.0112978788092735e-05\n",
      "Train loss: 1.0664 | Train precision: 0.5529 | Train recall: 0.4614 | Train f1score: 0.4712 | Train acc: 0.4897 | Train kappa: 0.5216 \n",
      "Val loss: 1.2135 | Val precision: 0.5119 | Val recall: 0.5109 | Val f1score: 0.4787 | Val acc: 0.5304 | Val kappa: 0.5410 \n",
      "\n",
      "Epoch: 18 \n",
      "Learning rate: 3.758473409106955e-05\n",
      "Train loss: 1.0644 | Train precision: 0.5409 | Train recall: 0.4629 | Train f1score: 0.4639 | Train acc: 0.4968 | Train kappa: 0.5305 \n",
      "Val loss: 1.1436 | Val precision: 0.5031 | Val recall: 0.5182 | Val f1score: 0.4871 | Val acc: 0.5339 | Val kappa: 0.5565 \n",
      "\n",
      "Epoch: 19 \n",
      "Learning rate: 2.8188550568302163e-05\n",
      "Train loss: 1.0648 | Train precision: 0.5554 | Train recall: 0.4663 | Train f1score: 0.4672 | Train acc: 0.4925 | Train kappa: 0.5231 \n",
      "Val loss: 1.2181 | Val precision: 0.5307 | Val recall: 0.5156 | Val f1score: 0.4937 | Val acc: 0.5321 | Val kappa: 0.5556 \n",
      "\n",
      "Epoch: 20 \n",
      "Learning rate: 2.114141292622662e-05\n",
      "Train loss: 1.0569 | Train precision: 0.5407 | Train recall: 0.4653 | Train f1score: 0.4701 | Train acc: 0.5048 | Train kappa: 0.5304 \n",
      "Val loss: 1.1673 | Val precision: 0.5237 | Val recall: 0.5149 | Val f1score: 0.4937 | Val acc: 0.5339 | Val kappa: 0.5574 \n",
      "\n",
      "Epoch: 21 \n",
      "Learning rate: 1.5856059694669965e-05\n",
      "Train loss: 1.0631 | Train precision: 0.5299 | Train recall: 0.4573 | Train f1score: 0.4610 | Train acc: 0.4995 | Train kappa: 0.5307 \n",
      "Val loss: 1.1719 | Val precision: 0.4933 | Val recall: 0.5134 | Val f1score: 0.4855 | Val acc: 0.5339 | Val kappa: 0.5659 \n",
      "\n",
      "Epoch: 22 \n",
      "Learning rate: 1.1892044771002475e-05\n",
      "Train loss: 1.0617 | Train precision: 0.5181 | Train recall: 0.4664 | Train f1score: 0.4640 | Train acc: 0.4986 | Train kappa: 0.5264 \n",
      "Val loss: 1.1690 | Val precision: 0.4965 | Val recall: 0.5130 | Val f1score: 0.4864 | Val acc: 0.5373 | Val kappa: 0.5665 \n",
      "\n",
      "Epoch: 23 \n",
      "Learning rate: 8.919033578251857e-06\n",
      "Train loss: 1.0589 | Train precision: 0.5388 | Train recall: 0.4679 | Train f1score: 0.4679 | Train acc: 0.4993 | Train kappa: 0.5296 \n",
      "Val loss: 1.2009 | Val precision: 0.5094 | Val recall: 0.5251 | Val f1score: 0.4933 | Val acc: 0.5425 | Val kappa: 0.5669 \n",
      "\n",
      "Epoch: 24 \n",
      "Learning rate: 6.689275183688892e-06\n",
      "Train loss: 1.0648 | Train precision: 0.4991 | Train recall: 0.4597 | Train f1score: 0.4564 | Train acc: 0.4909 | Train kappa: 0.5137 \n",
      "Val loss: 1.1364 | Val precision: 0.5335 | Val recall: 0.5186 | Val f1score: 0.4971 | Val acc: 0.5373 | Val kappa: 0.5601 \n",
      "\n",
      "Epoch: 25 \n",
      "Learning rate: 5.016956387766669e-06\n",
      "Train loss: 1.0578 | Train precision: 0.5344 | Train recall: 0.4634 | Train f1score: 0.4699 | Train acc: 0.5047 | Train kappa: 0.5413 \n",
      "Val loss: 1.1768 | Val precision: 0.4981 | Val recall: 0.5126 | Val f1score: 0.4854 | Val acc: 0.5356 | Val kappa: 0.5585 \n",
      "\n",
      "Epoch: 26 \n",
      "Learning rate: 3.762717290825002e-06\n",
      "Train loss: 1.0520 | Train precision: 0.5500 | Train recall: 0.4660 | Train f1score: 0.4729 | Train acc: 0.5024 | Train kappa: 0.5312 \n",
      "Val loss: 1.1372 | Val precision: 0.4984 | Val recall: 0.5133 | Val f1score: 0.4864 | Val acc: 0.5382 | Val kappa: 0.5590 \n",
      "\n",
      "Early stopping after epoch 26\n"
     ]
    },
    {
     "data": {
      "text/html": [
       "Waiting for W&B process to finish... <strong style=\"color:green\">(success).</strong>"
      ],
      "text/plain": [
       "<IPython.core.display.HTML object>"
      ]
     },
     "metadata": {},
     "output_type": "display_data"
    },
    {
     "data": {
      "text/html": [
       "<style>\n",
       "    table.wandb td:nth-child(1) { padding: 0 10px; text-align: left ; width: auto;} td:nth-child(2) {text-align: left ; width: 100%}\n",
       "    .wandb-row { display: flex; flex-direction: row; flex-wrap: wrap; justify-content: flex-start; width: 100% }\n",
       "    .wandb-col { display: flex; flex-direction: column; flex-basis: 100%; flex: 1; padding: 10px; }\n",
       "    </style>\n",
       "<div class=\"wandb-row\"><div class=\"wandb-col\"><h3>Run history:</h3><br/><table class=\"wandb\"><tr><td>learning_rate</td><td>█▆▅▄▃▃▂▂▂▂▁▁▁▁▁▁▁▁▁▁▁▁▁▁▁▁</td></tr><tr><td>train_f1_score</td><td>▁▁▄▅▆▆▆▇▇▇▇███████████████</td></tr><tr><td>train_loss</td><td>█▇▅▄▃▃▃▂▂▂▂▂▁▁▁▁▁▁▁▁▁▁▁▁▁▁</td></tr><tr><td>val_f1_score</td><td>▁▄▃▇▆▁▇▇▆▇███▇████████████</td></tr><tr><td>val_loss</td><td>█▃█▁▂▅▅▃▂▁▁▁▁▂▂▂▃▂▃▃▃▃▃▂▃▂</td></tr></table><br/></div><div class=\"wandb-col\"><h3>Run summary:</h3><br/><table class=\"wandb\"><tr><td>learning_rate</td><td>0.0</td></tr><tr><td>train_f1_score</td><td>0.47285</td></tr><tr><td>train_loss</td><td>1.05196</td></tr><tr><td>val_f1_score</td><td>0.48637</td></tr><tr><td>val_loss</td><td>1.13725</td></tr></table><br/></div></div>"
      ],
      "text/plain": [
       "<IPython.core.display.HTML object>"
      ]
     },
     "metadata": {},
     "output_type": "display_data"
    },
    {
     "data": {
      "text/html": [
       " View run <strong style=\"color:#cdcd00\">fold_1_RGB_5classes</strong> at: <a href='https://wandb.ai/simon-ecke/wze-uav-5classes/runs/6yh3okx9' target=\"_blank\">https://wandb.ai/simon-ecke/wze-uav-5classes/runs/6yh3okx9</a><br/>Synced 5 W&B file(s), 0 media file(s), 0 artifact file(s) and 0 other file(s)"
      ],
      "text/plain": [
       "<IPython.core.display.HTML object>"
      ]
     },
     "metadata": {},
     "output_type": "display_data"
    },
    {
     "data": {
      "text/html": [
       "Find logs at: <code>.\\wandb\\run-20230427_105803-6yh3okx9\\logs</code>"
      ],
      "text/plain": [
       "<IPython.core.display.HTML object>"
      ]
     },
     "metadata": {},
     "output_type": "display_data"
    },
    {
     "name": "stdout",
     "output_type": "stream",
     "text": [
      "Deleting variables and emptying cache\n",
      "Memory allocated: 1047633408 bytes\n",
      "--------------------------------------------------\n",
      "\n",
      "Fold : 2\n",
      "TRAIN POSITIVE RATIO: 1.2782225780624499\n",
      "VAL POSITIVE RATIO  : 1.300031615554853\n",
      "LENGTH TRAIN GROUPS : 4720\n",
      "LENGTH VAL GROUPS   : 1183\n"
     ]
    },
    {
     "data": {
      "text/html": [
       "wandb version 0.15.0 is available!  To upgrade, please run:\n",
       " $ pip install wandb --upgrade"
      ],
      "text/plain": [
       "<IPython.core.display.HTML object>"
      ]
     },
     "metadata": {},
     "output_type": "display_data"
    },
    {
     "data": {
      "text/html": [
       "Tracking run with wandb version 0.14.2"
      ],
      "text/plain": [
       "<IPython.core.display.HTML object>"
      ]
     },
     "metadata": {},
     "output_type": "display_data"
    },
    {
     "data": {
      "text/html": [
       "Run data is saved locally in <code>C:\\Users\\lwfeckesim\\01_PyTorch\\wze-uav\\wze-uav-master\\wandb\\run-20230427_131730-cnsmoe2f</code>"
      ],
      "text/plain": [
       "<IPython.core.display.HTML object>"
      ]
     },
     "metadata": {},
     "output_type": "display_data"
    },
    {
     "data": {
      "text/html": [
       "Syncing run <strong><a href='https://wandb.ai/simon-ecke/wze-uav-5classes/runs/cnsmoe2f' target=\"_blank\">fold_2_RGB_5classes</a></strong> to <a href='https://wandb.ai/simon-ecke/wze-uav-5classes' target=\"_blank\">Weights & Biases</a> (<a href='https://wandb.me/run' target=\"_blank\">docs</a>)<br/>"
      ],
      "text/plain": [
       "<IPython.core.display.HTML object>"
      ]
     },
     "metadata": {},
     "output_type": "display_data"
    },
    {
     "data": {
      "text/html": [
       " View project at <a href='https://wandb.ai/simon-ecke/wze-uav-5classes' target=\"_blank\">https://wandb.ai/simon-ecke/wze-uav-5classes</a>"
      ],
      "text/plain": [
       "<IPython.core.display.HTML object>"
      ]
     },
     "metadata": {},
     "output_type": "display_data"
    },
    {
     "data": {
      "text/html": [
       " View run at <a href='https://wandb.ai/simon-ecke/wze-uav-5classes/runs/cnsmoe2f' target=\"_blank\">https://wandb.ai/simon-ecke/wze-uav-5classes/runs/cnsmoe2f</a>"
      ],
      "text/plain": [
       "<IPython.core.display.HTML object>"
      ]
     },
     "metadata": {},
     "output_type": "display_data"
    },
    {
     "name": "stdout",
     "output_type": "stream",
     "text": [
      "There are no same hash_id values in train, val or test datasets. The datasplit was successful\n",
      "Check shapes:\n",
      "\n",
      "Images train dataset: (12490, 250, 250, 3)\n",
      "Labels train dataset: (12490, 1)\n",
      "\n",
      "Images validation dataset: (1183, 250, 250, 3)\n",
      "Labels validation dataset: (1183, 1)\n",
      "\n",
      "--------------------------------------------------\n",
      "Check if the split was stratified: (random_state=42)\n",
      "Healthy trees in train dataset: 2399\n",
      "Moderately stressed trees in train dataset: 4995\n",
      "Severely stressed trees in train dataset: 4522\n",
      "Dead trees in train dataset: 370\n",
      "Healthy trees in validation dataset: 211\n",
      "Moderately stressed trees in validation dataset: 447\n",
      "Severely stressed trees in validation dataset: 472\n",
      "Dead trees in validation dataset: 33\n",
      "Ratio health trees in validation dataset: 0.07097208207198116\n",
      "Ratio moderately stressed trees in validation dataset: 0.07170356111645813\n",
      "Ratio severely stressed trees in validation dataset: 0.0778338847292356\n",
      "Ratio dead trees in validation dataset: 1.0373626373626375\n",
      "--------------------------------------------------\n",
      "\n",
      "Creating datasets for fold: 2\n",
      "\n",
      "Creating dataloaders for fold: 2\n",
      "\n",
      "Loaded pretrained weights for efficientnet-b7\n",
      "\n",
      "[INFO] Fold number: 2\n",
      "[INFO] Number of epochs: 50\n",
      "[INFO] Number of classes: 5\n",
      "[INFO] Batch_size: 32\n",
      "[INFO] Number of bands: 3\n",
      "[INFO] Dropout rate: 0.5\n",
      "[INFO] Gamma learning rate: 0.75\n",
      "[INFO] Memory allocated: 0 bytes\n"
     ]
    },
    {
     "data": {
      "application/vnd.jupyter.widget-view+json": {
       "model_id": "606482f7e846448fa5c84b7fc3da4ff5",
       "version_major": 2,
       "version_minor": 0
      },
      "text/plain": [
       "  0%|          | 0/50 [00:00<?, ?it/s]"
      ]
     },
     "metadata": {},
     "output_type": "display_data"
    },
    {
     "name": "stdout",
     "output_type": "stream",
     "text": [
      "Epoch: 1 \n",
      "Learning rate: 0.005\n",
      "Train loss: 1.3079 | Train precision: 0.2836 | Train recall: 0.2385 | Train f1score: 0.2378 | Train acc: 0.3808 | Train kappa: 0.1304 \n",
      "Val loss: 1.2799 | Val precision: 0.2018 | Val recall: 0.2024 | Val f1score: 0.1225 | Val acc: 0.3889 | Val kappa: 0.0141 \n",
      "\n",
      "Epoch: 2 \n",
      "Learning rate: 0.00375\n",
      "Train loss: 1.2015 | Train precision: 0.3920 | Train recall: 0.3231 | Train f1score: 0.3321 | Train acc: 0.4171 | Train kappa: 0.3526 \n",
      "Val loss: 1.1460 | Val precision: 0.2948 | Val recall: 0.2676 | Val f1score: 0.2500 | Val acc: 0.4601 | Val kappa: 0.2639 \n",
      "\n",
      "Epoch: 3 \n",
      "Learning rate: 0.0028125\n",
      "Train loss: 1.1464 | Train precision: 0.4026 | Train recall: 0.3728 | Train f1score: 0.3731 | Train acc: 0.4414 | Train kappa: 0.4285 \n",
      "Val loss: 1.1734 | Val precision: 0.1658 | Val recall: 0.2073 | Val f1score: 0.1379 | Val acc: 0.3993 | Val kappa: 0.1456 \n",
      "\n",
      "Epoch: 4 \n",
      "Learning rate: 0.002109375\n",
      "Train loss: 1.1366 | Train precision: 0.4371 | Train recall: 0.4015 | Train f1score: 0.3999 | Train acc: 0.4502 | Train kappa: 0.4567 \n",
      "Val loss: 1.1210 | Val precision: 0.2643 | Val recall: 0.4241 | Val f1score: 0.3033 | Val acc: 0.4974 | Val kappa: 0.4033 \n",
      "\n",
      "Epoch: 5 \n",
      "Learning rate: 0.00158203125\n",
      "Train loss: 1.1108 | Train precision: 0.4924 | Train recall: 0.4243 | Train f1score: 0.4214 | Train acc: 0.4780 | Train kappa: 0.4852 \n",
      "Val loss: 1.0678 | Val precision: 0.5284 | Val recall: 0.3659 | Val f1score: 0.3904 | Val acc: 0.5122 | Val kappa: 0.4300 \n",
      "\n",
      "Epoch: 6 \n",
      "Learning rate: 0.0011865234375\n",
      "Train loss: 1.0968 | Train precision: 0.5021 | Train recall: 0.4409 | Train f1score: 0.4416 | Train acc: 0.4731 | Train kappa: 0.5107 \n",
      "Val loss: 1.1002 | Val precision: 0.4752 | Val recall: 0.3334 | Val f1score: 0.3410 | Val acc: 0.4957 | Val kappa: 0.3757 \n",
      "\n",
      "Epoch: 7 \n",
      "Learning rate: 0.000889892578125\n",
      "Train loss: 1.0850 | Train precision: 0.5104 | Train recall: 0.4477 | Train f1score: 0.4504 | Train acc: 0.4775 | Train kappa: 0.5171 \n",
      "Val loss: 1.1109 | Val precision: 0.5402 | Val recall: 0.2714 | Val f1score: 0.2661 | Val acc: 0.4661 | Val kappa: 0.3209 \n",
      "\n",
      "Epoch: 8 \n",
      "Learning rate: 0.00066741943359375\n",
      "Train loss: 1.0800 | Train precision: 0.5138 | Train recall: 0.4511 | Train f1score: 0.4529 | Train acc: 0.4782 | Train kappa: 0.5106 \n",
      "Val loss: 1.0768 | Val precision: 0.4002 | Val recall: 0.4939 | Val f1score: 0.4323 | Val acc: 0.5035 | Val kappa: 0.5031 \n",
      "\n",
      "Epoch: 9 \n",
      "Learning rate: 0.0005005645751953125\n",
      "Train loss: 1.0753 | Train precision: 0.5143 | Train recall: 0.4595 | Train f1score: 0.4611 | Train acc: 0.4804 | Train kappa: 0.5270 \n",
      "Val loss: 1.0597 | Val precision: 0.5235 | Val recall: 0.3628 | Val f1score: 0.3964 | Val acc: 0.5035 | Val kappa: 0.4497 \n",
      "\n",
      "Epoch: 10 \n",
      "Learning rate: 0.0003754234313964844\n",
      "Train loss: 1.0567 | Train precision: 0.5511 | Train recall: 0.4732 | Train f1score: 0.4832 | Train acc: 0.4905 | Train kappa: 0.5326 \n",
      "Val loss: 1.0288 | Val precision: 0.5659 | Val recall: 0.4952 | Val f1score: 0.5027 | Val acc: 0.5312 | Val kappa: 0.5130 \n",
      "\n",
      "Epoch: 11 \n",
      "Learning rate: 0.0002815675735473633\n",
      "Train loss: 1.0597 | Train precision: 0.5435 | Train recall: 0.4698 | Train f1score: 0.4742 | Train acc: 0.4895 | Train kappa: 0.5372 \n",
      "Val loss: 1.2364 | Val precision: 0.3286 | Val recall: 0.4850 | Val f1score: 0.3538 | Val acc: 0.4644 | Val kappa: 0.4025 \n",
      "\n",
      "Epoch: 12 \n",
      "Learning rate: 0.00021117568016052246\n",
      "Train loss: 1.0471 | Train precision: 0.5507 | Train recall: 0.4741 | Train f1score: 0.4786 | Train acc: 0.4943 | Train kappa: 0.5532 \n",
      "Val loss: 1.0177 | Val precision: 0.4656 | Val recall: 0.4850 | Val f1score: 0.4571 | Val acc: 0.5278 | Val kappa: 0.5036 \n",
      "\n",
      "Epoch: 13 \n",
      "Learning rate: 0.00015838176012039184\n",
      "Train loss: 1.0425 | Train precision: 0.5736 | Train recall: 0.4803 | Train f1score: 0.4832 | Train acc: 0.4962 | Train kappa: 0.5477 \n",
      "Val loss: 1.0224 | Val precision: 0.4536 | Val recall: 0.4937 | Val f1score: 0.4717 | Val acc: 0.5156 | Val kappa: 0.5032 \n",
      "\n",
      "Epoch: 14 \n",
      "Learning rate: 0.00011878632009029388\n",
      "Train loss: 1.0436 | Train precision: 0.5767 | Train recall: 0.4845 | Train f1score: 0.4922 | Train acc: 0.5001 | Train kappa: 0.5600 \n",
      "Val loss: 1.0207 | Val precision: 0.5621 | Val recall: 0.4821 | Val f1score: 0.4968 | Val acc: 0.5130 | Val kappa: 0.4962 \n",
      "\n",
      "Epoch: 15 \n",
      "Learning rate: 8.908974006772042e-05\n",
      "Train loss: 1.0325 | Train precision: 0.5879 | Train recall: 0.5037 | Train f1score: 0.5120 | Train acc: 0.5129 | Train kappa: 0.5714 \n",
      "Val loss: 1.0214 | Val precision: 0.4986 | Val recall: 0.5028 | Val f1score: 0.4804 | Val acc: 0.5208 | Val kappa: 0.5147 \n",
      "\n",
      "Epoch: 16 \n",
      "Learning rate: 6.681730505079031e-05\n",
      "Train loss: 1.0457 | Train precision: 0.5690 | Train recall: 0.4876 | Train f1score: 0.4967 | Train acc: 0.4982 | Train kappa: 0.5581 \n",
      "Val loss: 1.0092 | Val precision: 0.5230 | Val recall: 0.5026 | Val f1score: 0.4933 | Val acc: 0.5278 | Val kappa: 0.5169 \n",
      "\n",
      "Epoch: 17 \n",
      "Learning rate: 5.0112978788092735e-05\n",
      "Train loss: 1.0273 | Train precision: 0.5754 | Train recall: 0.5007 | Train f1score: 0.5057 | Train acc: 0.5167 | Train kappa: 0.5699 \n",
      "Val loss: 1.0280 | Val precision: 0.4761 | Val recall: 0.4997 | Val f1score: 0.4633 | Val acc: 0.5139 | Val kappa: 0.4890 \n",
      "\n",
      "Epoch: 18 \n",
      "Learning rate: 3.758473409106955e-05\n",
      "Train loss: 1.0379 | Train precision: 0.5627 | Train recall: 0.4964 | Train f1score: 0.5045 | Train acc: 0.5091 | Train kappa: 0.5732 \n",
      "Val loss: 1.0131 | Val precision: 0.5315 | Val recall: 0.4993 | Val f1score: 0.4939 | Val acc: 0.5226 | Val kappa: 0.5164 \n",
      "\n",
      "Epoch: 19 \n",
      "Learning rate: 2.8188550568302163e-05\n",
      "Train loss: 1.0363 | Train precision: 0.5756 | Train recall: 0.4906 | Train f1score: 0.5042 | Train acc: 0.5027 | Train kappa: 0.5566 \n",
      "Val loss: 1.0173 | Val precision: 0.5319 | Val recall: 0.5042 | Val f1score: 0.5020 | Val acc: 0.5243 | Val kappa: 0.5169 \n",
      "\n",
      "Epoch: 20 \n",
      "Learning rate: 2.114141292622662e-05\n",
      "Train loss: 1.0456 | Train precision: 0.5603 | Train recall: 0.4836 | Train f1score: 0.4900 | Train acc: 0.5013 | Train kappa: 0.5489 \n",
      "Val loss: 1.0113 | Val precision: 0.5295 | Val recall: 0.5120 | Val f1score: 0.5010 | Val acc: 0.5278 | Val kappa: 0.5215 \n",
      "\n",
      "Epoch: 21 \n",
      "Learning rate: 1.5856059694669965e-05\n",
      "Train loss: 1.0329 | Train precision: 0.5629 | Train recall: 0.4993 | Train f1score: 0.5070 | Train acc: 0.5151 | Train kappa: 0.5825 \n",
      "Val loss: 1.0083 | Val precision: 0.5304 | Val recall: 0.5111 | Val f1score: 0.5010 | Val acc: 0.5286 | Val kappa: 0.5256 \n",
      "\n",
      "Epoch: 22 \n",
      "Learning rate: 1.1892044771002475e-05\n",
      "Train loss: 1.0369 | Train precision: 0.5684 | Train recall: 0.4929 | Train f1score: 0.5024 | Train acc: 0.5060 | Train kappa: 0.5720 \n",
      "Val loss: 1.0134 | Val precision: 0.5446 | Val recall: 0.5102 | Val f1score: 0.5036 | Val acc: 0.5260 | Val kappa: 0.5298 \n",
      "\n",
      "Epoch: 23 \n",
      "Learning rate: 8.919033578251857e-06\n",
      "Train loss: 1.0286 | Train precision: 0.5602 | Train recall: 0.4984 | Train f1score: 0.5056 | Train acc: 0.5147 | Train kappa: 0.5754 \n",
      "Val loss: 1.0158 | Val precision: 0.5217 | Val recall: 0.5083 | Val f1score: 0.4996 | Val acc: 0.5200 | Val kappa: 0.5204 \n",
      "\n",
      "Epoch: 24 \n",
      "Learning rate: 6.689275183688892e-06\n",
      "Train loss: 1.0385 | Train precision: 0.5968 | Train recall: 0.5133 | Train f1score: 0.5273 | Train acc: 0.5149 | Train kappa: 0.5691 \n",
      "Val loss: 1.0119 | Val precision: 0.5282 | Val recall: 0.5077 | Val f1score: 0.4978 | Val acc: 0.5278 | Val kappa: 0.5287 \n",
      "\n",
      "Epoch: 25 \n",
      "Learning rate: 5.016956387766669e-06\n",
      "Train loss: 1.0340 | Train precision: 0.5910 | Train recall: 0.5043 | Train f1score: 0.5167 | Train acc: 0.5022 | Train kappa: 0.5701 \n",
      "Val loss: 1.0118 | Val precision: 0.5275 | Val recall: 0.5144 | Val f1score: 0.5025 | Val acc: 0.5295 | Val kappa: 0.5250 \n",
      "\n",
      "Epoch: 26 \n",
      "Learning rate: 3.762717290825002e-06\n",
      "Train loss: 1.0357 | Train precision: 0.5711 | Train recall: 0.5001 | Train f1score: 0.5082 | Train acc: 0.5098 | Train kappa: 0.5736 \n",
      "Val loss: 1.0090 | Val precision: 0.5170 | Val recall: 0.5089 | Val f1score: 0.4974 | Val acc: 0.5252 | Val kappa: 0.5212 \n",
      "\n",
      "Epoch: 27 \n",
      "Learning rate: 2.8220379681187514e-06\n",
      "Train loss: 1.0271 | Train precision: 0.5939 | Train recall: 0.5047 | Train f1score: 0.5216 | Train acc: 0.5034 | Train kappa: 0.5695 \n",
      "Val loss: 1.0111 | Val precision: 0.5216 | Val recall: 0.5068 | Val f1score: 0.4925 | Val acc: 0.5269 | Val kappa: 0.5177 \n",
      "\n"
     ]
    },
    {
     "name": "stdout",
     "output_type": "stream",
     "text": [
      "Epoch: 28 \n",
      "Learning rate: 2.1165284760890633e-06\n",
      "Train loss: 1.0351 | Train precision: 0.5789 | Train recall: 0.5023 | Train f1score: 0.5149 | Train acc: 0.5068 | Train kappa: 0.5711 \n",
      "Val loss: 1.0090 | Val precision: 0.5274 | Val recall: 0.5147 | Val f1score: 0.5035 | Val acc: 0.5330 | Val kappa: 0.5277 \n",
      "\n",
      "Epoch: 29 \n",
      "Learning rate: 1.5873963570667977e-06\n",
      "Train loss: 1.0307 | Train precision: 0.5902 | Train recall: 0.5083 | Train f1score: 0.5206 | Train acc: 0.5092 | Train kappa: 0.5736 \n",
      "Val loss: 1.0099 | Val precision: 0.5057 | Val recall: 0.5041 | Val f1score: 0.4895 | Val acc: 0.5243 | Val kappa: 0.5193 \n",
      "\n",
      "Epoch: 30 \n",
      "Learning rate: 1.1905472678000981e-06\n",
      "Train loss: 1.0320 | Train precision: 0.5848 | Train recall: 0.5048 | Train f1score: 0.5116 | Train acc: 0.5113 | Train kappa: 0.5729 \n",
      "Val loss: 1.0034 | Val precision: 0.5138 | Val recall: 0.5096 | Val f1score: 0.4985 | Val acc: 0.5321 | Val kappa: 0.5286 \n",
      "\n",
      "Epoch: 31 \n",
      "Learning rate: 1e-06\n",
      "Train loss: 1.0293 | Train precision: 0.5581 | Train recall: 0.4870 | Train f1score: 0.4970 | Train acc: 0.5018 | Train kappa: 0.5584 \n",
      "Val loss: 1.0118 | Val precision: 0.5224 | Val recall: 0.5096 | Val f1score: 0.4949 | Val acc: 0.5278 | Val kappa: 0.5221 \n",
      "\n",
      "Epoch: 32 \n",
      "Learning rate: 1e-06\n",
      "Train loss: 1.0303 | Train precision: 0.5766 | Train recall: 0.5099 | Train f1score: 0.5174 | Train acc: 0.5093 | Train kappa: 0.5761 \n",
      "Val loss: 1.0076 | Val precision: 0.5325 | Val recall: 0.5141 | Val f1score: 0.5033 | Val acc: 0.5330 | Val kappa: 0.5258 \n",
      "\n",
      "Epoch: 33 \n",
      "Learning rate: 1e-06\n",
      "Train loss: 1.0337 | Train precision: 0.5660 | Train recall: 0.5020 | Train f1score: 0.5099 | Train acc: 0.5093 | Train kappa: 0.5742 \n",
      "Val loss: 1.0058 | Val precision: 0.5157 | Val recall: 0.5069 | Val f1score: 0.4936 | Val acc: 0.5312 | Val kappa: 0.5240 \n",
      "\n",
      "Epoch: 34 \n",
      "Learning rate: 1e-06\n",
      "Train loss: 1.0393 | Train precision: 0.5879 | Train recall: 0.5012 | Train f1score: 0.5091 | Train acc: 0.5061 | Train kappa: 0.5675 \n",
      "Val loss: 1.0088 | Val precision: 0.5233 | Val recall: 0.5082 | Val f1score: 0.4949 | Val acc: 0.5312 | Val kappa: 0.5245 \n",
      "\n",
      "Epoch: 35 \n",
      "Learning rate: 1e-06\n",
      "Train loss: 1.0319 | Train precision: 0.5834 | Train recall: 0.5019 | Train f1score: 0.5131 | Train acc: 0.5073 | Train kappa: 0.5689 \n",
      "Val loss: 1.0128 | Val precision: 0.5270 | Val recall: 0.5063 | Val f1score: 0.4960 | Val acc: 0.5260 | Val kappa: 0.5189 \n",
      "\n",
      "Epoch: 36 \n",
      "Learning rate: 1e-06\n",
      "Train loss: 1.0313 | Train precision: 0.5736 | Train recall: 0.4949 | Train f1score: 0.5028 | Train acc: 0.5063 | Train kappa: 0.5711 \n",
      "Val loss: 1.0088 | Val precision: 0.5328 | Val recall: 0.5142 | Val f1score: 0.5037 | Val acc: 0.5321 | Val kappa: 0.5273 \n",
      "\n",
      "Epoch: 37 \n",
      "Learning rate: 1e-06\n",
      "Train loss: 1.0394 | Train precision: 0.5755 | Train recall: 0.4997 | Train f1score: 0.5123 | Train acc: 0.5054 | Train kappa: 0.5727 \n",
      "Val loss: 1.0092 | Val precision: 0.5162 | Val recall: 0.5105 | Val f1score: 0.4959 | Val acc: 0.5321 | Val kappa: 0.5276 \n",
      "\n",
      "Epoch: 38 \n",
      "Learning rate: 1e-06\n",
      "Train loss: 1.0400 | Train precision: 0.5706 | Train recall: 0.4948 | Train f1score: 0.5051 | Train acc: 0.5042 | Train kappa: 0.5704 \n",
      "Val loss: 1.0104 | Val precision: 0.5287 | Val recall: 0.5058 | Val f1score: 0.4960 | Val acc: 0.5260 | Val kappa: 0.5196 \n",
      "\n",
      "Epoch: 39 \n",
      "Learning rate: 1e-06\n",
      "Train loss: 1.0276 | Train precision: 0.5795 | Train recall: 0.5029 | Train f1score: 0.5121 | Train acc: 0.5057 | Train kappa: 0.5715 \n",
      "Val loss: 1.0074 | Val precision: 0.5141 | Val recall: 0.5060 | Val f1score: 0.4925 | Val acc: 0.5295 | Val kappa: 0.5235 \n",
      "\n",
      "Epoch: 40 \n",
      "Learning rate: 1e-06\n",
      "Train loss: 1.0410 | Train precision: 0.5615 | Train recall: 0.4897 | Train f1score: 0.5013 | Train acc: 0.5034 | Train kappa: 0.5640 \n",
      "Val loss: 1.0115 | Val precision: 0.5139 | Val recall: 0.5048 | Val f1score: 0.4943 | Val acc: 0.5243 | Val kappa: 0.5258 \n",
      "\n",
      "Epoch: 41 \n",
      "Learning rate: 1e-06\n",
      "Train loss: 1.0417 | Train precision: 0.5645 | Train recall: 0.4890 | Train f1score: 0.4976 | Train acc: 0.5011 | Train kappa: 0.5474 \n",
      "Val loss: 1.0123 | Val precision: 0.5292 | Val recall: 0.5068 | Val f1score: 0.4969 | Val acc: 0.5269 | Val kappa: 0.5192 \n",
      "\n",
      "Epoch: 42 \n",
      "Learning rate: 1e-06\n",
      "Train loss: 1.0289 | Train precision: 0.5940 | Train recall: 0.4992 | Train f1score: 0.5148 | Train acc: 0.5069 | Train kappa: 0.5685 \n",
      "Val loss: 1.0073 | Val precision: 0.5091 | Val recall: 0.5066 | Val f1score: 0.4927 | Val acc: 0.5295 | Val kappa: 0.5210 \n",
      "\n",
      "Epoch: 43 \n",
      "Learning rate: 1e-06\n",
      "Train loss: 1.0345 | Train precision: 0.5905 | Train recall: 0.5090 | Train f1score: 0.5142 | Train acc: 0.5064 | Train kappa: 0.5730 \n",
      "Val loss: 1.0128 | Val precision: 0.5296 | Val recall: 0.5089 | Val f1score: 0.4985 | Val acc: 0.5286 | Val kappa: 0.5233 \n",
      "\n",
      "Epoch: 44 \n",
      "Learning rate: 1e-06\n",
      "Train loss: 1.0407 | Train precision: 0.5676 | Train recall: 0.4907 | Train f1score: 0.5029 | Train acc: 0.5064 | Train kappa: 0.5573 \n",
      "Val loss: 1.0072 | Val precision: 0.5065 | Val recall: 0.5073 | Val f1score: 0.4926 | Val acc: 0.5286 | Val kappa: 0.5271 \n",
      "\n",
      "Epoch: 45 \n",
      "Learning rate: 1e-06\n",
      "Train loss: 1.0423 | Train precision: 0.5841 | Train recall: 0.5039 | Train f1score: 0.5134 | Train acc: 0.5002 | Train kappa: 0.5566 \n",
      "Val loss: 1.0100 | Val precision: 0.5274 | Val recall: 0.5046 | Val f1score: 0.4949 | Val acc: 0.5260 | Val kappa: 0.5230 \n",
      "\n",
      "Epoch: 46 \n",
      "Learning rate: 1e-06\n",
      "Train loss: 1.0265 | Train precision: 0.5745 | Train recall: 0.5038 | Train f1score: 0.5149 | Train acc: 0.5164 | Train kappa: 0.5700 \n",
      "Val loss: 1.0051 | Val precision: 0.5073 | Val recall: 0.5036 | Val f1score: 0.4903 | Val acc: 0.5260 | Val kappa: 0.5207 \n",
      "\n",
      "Early stopping after epoch 46\n"
     ]
    },
    {
     "data": {
      "text/html": [
       "Waiting for W&B process to finish... <strong style=\"color:green\">(success).</strong>"
      ],
      "text/plain": [
       "<IPython.core.display.HTML object>"
      ]
     },
     "metadata": {},
     "output_type": "display_data"
    },
    {
     "data": {
      "text/html": [
       "<style>\n",
       "    table.wandb td:nth-child(1) { padding: 0 10px; text-align: left ; width: auto;} td:nth-child(2) {text-align: left ; width: 100%}\n",
       "    .wandb-row { display: flex; flex-direction: row; flex-wrap: wrap; justify-content: flex-start; width: 100% }\n",
       "    .wandb-col { display: flex; flex-direction: column; flex-basis: 100%; flex: 1; padding: 10px; }\n",
       "    </style>\n",
       "<div class=\"wandb-row\"><div class=\"wandb-col\"><h3>Run history:</h3><br/><table class=\"wandb\"><tr><td>learning_rate</td><td>█▆▅▄▃▃▂▂▂▁▁▁▁▁▁▁▁▁▁▁▁▁▁▁▁▁▁▁▁▁▁▁▁▁▁▁▁▁▁▁</td></tr><tr><td>train_f1_score</td><td>▁▃▄▅▅▆▆▆▇▇▇▇▇█▇▇▇▇█▇███████████▇██▇▇██▇█</td></tr><tr><td>train_loss</td><td>█▅▄▄▃▃▂▂▂▂▁▁▁▁▁▁▁▁▁▁▁▁▁▁▁▁▁▁▁▁▁▁▁▁▁▁▁▁▁▁</td></tr><tr><td>val_f1_score</td><td>▁▃▁▄▆▅▄▆█▅▇▇██▇█████████████████████████</td></tr><tr><td>val_loss</td><td>█▅▅▄▃▃▄▂▂▇▁▁▁▁▂▁▁▁▁▁▁▁▁▁▁▁▁▁▁▁▁▁▁▁▁▁▁▁▁▁</td></tr></table><br/></div><div class=\"wandb-col\"><h3>Run summary:</h3><br/><table class=\"wandb\"><tr><td>learning_rate</td><td>0.0</td></tr><tr><td>train_f1_score</td><td>0.51492</td></tr><tr><td>train_loss</td><td>1.02647</td></tr><tr><td>val_f1_score</td><td>0.49026</td></tr><tr><td>val_loss</td><td>1.00512</td></tr></table><br/></div></div>"
      ],
      "text/plain": [
       "<IPython.core.display.HTML object>"
      ]
     },
     "metadata": {},
     "output_type": "display_data"
    },
    {
     "data": {
      "text/html": [
       " View run <strong style=\"color:#cdcd00\">fold_2_RGB_5classes</strong> at: <a href='https://wandb.ai/simon-ecke/wze-uav-5classes/runs/cnsmoe2f' target=\"_blank\">https://wandb.ai/simon-ecke/wze-uav-5classes/runs/cnsmoe2f</a><br/>Synced 5 W&B file(s), 0 media file(s), 0 artifact file(s) and 0 other file(s)"
      ],
      "text/plain": [
       "<IPython.core.display.HTML object>"
      ]
     },
     "metadata": {},
     "output_type": "display_data"
    },
    {
     "data": {
      "text/html": [
       "Find logs at: <code>.\\wandb\\run-20230427_131730-cnsmoe2f\\logs</code>"
      ],
      "text/plain": [
       "<IPython.core.display.HTML object>"
      ]
     },
     "metadata": {},
     "output_type": "display_data"
    },
    {
     "name": "stdout",
     "output_type": "stream",
     "text": [
      "Deleting variables and emptying cache\n",
      "Memory allocated: 1057764864 bytes\n",
      "--------------------------------------------------\n",
      "\n",
      "Fold : 3\n",
      "TRAIN POSITIVE RATIO: 1.2821208975485108\n",
      "VAL POSITIVE RATIO  : 1.284664536741214\n",
      "LENGTH TRAIN GROUPS : 4722\n",
      "LENGTH VAL GROUPS   : 1181\n"
     ]
    },
    {
     "data": {
      "text/html": [
       "wandb version 0.15.0 is available!  To upgrade, please run:\n",
       " $ pip install wandb --upgrade"
      ],
      "text/plain": [
       "<IPython.core.display.HTML object>"
      ]
     },
     "metadata": {},
     "output_type": "display_data"
    },
    {
     "data": {
      "text/html": [
       "Tracking run with wandb version 0.14.2"
      ],
      "text/plain": [
       "<IPython.core.display.HTML object>"
      ]
     },
     "metadata": {},
     "output_type": "display_data"
    },
    {
     "data": {
      "text/html": [
       "Run data is saved locally in <code>C:\\Users\\lwfeckesim\\01_PyTorch\\wze-uav\\wze-uav-master\\wandb\\run-20230427_172028-qi8rx5gg</code>"
      ],
      "text/plain": [
       "<IPython.core.display.HTML object>"
      ]
     },
     "metadata": {},
     "output_type": "display_data"
    },
    {
     "data": {
      "text/html": [
       "Syncing run <strong><a href='https://wandb.ai/simon-ecke/wze-uav-5classes/runs/qi8rx5gg' target=\"_blank\">fold_3_RGB_5classes</a></strong> to <a href='https://wandb.ai/simon-ecke/wze-uav-5classes' target=\"_blank\">Weights & Biases</a> (<a href='https://wandb.me/run' target=\"_blank\">docs</a>)<br/>"
      ],
      "text/plain": [
       "<IPython.core.display.HTML object>"
      ]
     },
     "metadata": {},
     "output_type": "display_data"
    },
    {
     "data": {
      "text/html": [
       " View project at <a href='https://wandb.ai/simon-ecke/wze-uav-5classes' target=\"_blank\">https://wandb.ai/simon-ecke/wze-uav-5classes</a>"
      ],
      "text/plain": [
       "<IPython.core.display.HTML object>"
      ]
     },
     "metadata": {},
     "output_type": "display_data"
    },
    {
     "data": {
      "text/html": [
       " View run at <a href='https://wandb.ai/simon-ecke/wze-uav-5classes/runs/qi8rx5gg' target=\"_blank\">https://wandb.ai/simon-ecke/wze-uav-5classes/runs/qi8rx5gg</a>"
      ],
      "text/plain": [
       "<IPython.core.display.HTML object>"
      ]
     },
     "metadata": {},
     "output_type": "display_data"
    },
    {
     "name": "stdout",
     "output_type": "stream",
     "text": [
      "There are no same hash_id values in train, val or test datasets. The datasplit was successful\n",
      "Check shapes:\n",
      "\n",
      "Images train dataset: (12523, 250, 250, 3)\n",
      "Labels train dataset: (12523, 1)\n",
      "\n",
      "Images validation dataset: (1181, 250, 250, 3)\n",
      "Labels validation dataset: (1181, 1)\n",
      "\n",
      "--------------------------------------------------\n",
      "Check if the split was stratified: (random_state=42)\n",
      "Healthy trees in train dataset: 2374\n",
      "Moderately stressed trees in train dataset: 4991\n",
      "Severely stressed trees in train dataset: 4605\n",
      "Dead trees in train dataset: 357\n",
      "Healthy trees in validation dataset: 208\n",
      "Moderately stressed trees in validation dataset: 472\n",
      "Severely stressed trees in validation dataset: 440\n",
      "Dead trees in validation dataset: 39\n",
      "Ratio health trees in validation dataset: 0.06996300033636058\n",
      "Ratio moderately stressed trees in validation dataset: 0.07571382739813924\n",
      "Ratio severely stressed trees in validation dataset: 0.08218701027337628\n",
      "Ratio dead trees in validation dataset: 0.967032967032967\n",
      "--------------------------------------------------\n",
      "\n",
      "Creating datasets for fold: 3\n",
      "\n",
      "Creating dataloaders for fold: 3\n",
      "\n",
      "Loaded pretrained weights for efficientnet-b7\n",
      "\n",
      "[INFO] Fold number: 3\n",
      "[INFO] Number of epochs: 50\n",
      "[INFO] Number of classes: 5\n",
      "[INFO] Batch_size: 32\n",
      "[INFO] Number of bands: 3\n",
      "[INFO] Dropout rate: 0.5\n",
      "[INFO] Gamma learning rate: 0.75\n",
      "[INFO] Memory allocated: 0 bytes\n"
     ]
    },
    {
     "data": {
      "application/vnd.jupyter.widget-view+json": {
       "model_id": "a085389805e54b8fb77d431a5d3002f3",
       "version_major": 2,
       "version_minor": 0
      },
      "text/plain": [
       "  0%|          | 0/50 [00:00<?, ?it/s]"
      ]
     },
     "metadata": {},
     "output_type": "display_data"
    },
    {
     "name": "stdout",
     "output_type": "stream",
     "text": [
      "Epoch: 1 \n",
      "Learning rate: 0.005\n",
      "Train loss: 1.2981 | Train precision: 0.2692 | Train recall: 0.2381 | Train f1score: 0.2369 | Train acc: 0.3784 | Train kappa: 0.0959 \n",
      "Val loss: 2.0379 | Val precision: 0.2047 | Val recall: 0.2712 | Val f1score: 0.1483 | Val acc: 0.1988 | Val kappa: 0.0870 \n",
      "\n",
      "Epoch: 2 \n",
      "Learning rate: 0.00375\n",
      "Train loss: 1.1754 | Train precision: 0.3971 | Train recall: 0.3750 | Train f1score: 0.3695 | Train acc: 0.4352 | Train kappa: 0.3763 \n",
      "Val loss: 1.1993 | Val precision: 0.3582 | Val recall: 0.2505 | Val f1score: 0.2215 | Val acc: 0.4444 | Val kappa: 0.2144 \n",
      "\n",
      "Epoch: 3 \n",
      "Learning rate: 0.0028125\n",
      "Train loss: 1.1408 | Train precision: 0.4935 | Train recall: 0.4124 | Train f1score: 0.4185 | Train acc: 0.4583 | Train kappa: 0.4339 \n",
      "Val loss: 1.1664 | Val precision: 0.4252 | Val recall: 0.3654 | Val f1score: 0.3813 | Val acc: 0.4618 | Val kappa: 0.4227 \n",
      "\n",
      "Epoch: 4 \n",
      "Learning rate: 0.002109375\n",
      "Train loss: 1.1078 | Train precision: 0.5300 | Train recall: 0.4496 | Train f1score: 0.4559 | Train acc: 0.4760 | Train kappa: 0.5021 \n",
      "Val loss: 1.1246 | Val precision: 0.3837 | Val recall: 0.4521 | Val f1score: 0.3710 | Val acc: 0.4444 | Val kappa: 0.4139 \n",
      "\n",
      "Epoch: 5 \n",
      "Learning rate: 0.00158203125\n",
      "Train loss: 1.1100 | Train precision: 0.4789 | Train recall: 0.4385 | Train f1score: 0.4298 | Train acc: 0.4768 | Train kappa: 0.4932 \n",
      "Val loss: 1.1157 | Val precision: 0.4331 | Val recall: 0.4079 | Val f1score: 0.3936 | Val acc: 0.4688 | Val kappa: 0.4599 \n",
      "\n",
      "Epoch: 6 \n",
      "Learning rate: 0.0011865234375\n",
      "Train loss: 1.0832 | Train precision: 0.5181 | Train recall: 0.4562 | Train f1score: 0.4519 | Train acc: 0.4788 | Train kappa: 0.5066 \n",
      "Val loss: 1.0519 | Val precision: 0.4391 | Val recall: 0.4059 | Val f1score: 0.4148 | Val acc: 0.4965 | Val kappa: 0.4577 \n",
      "\n",
      "Epoch: 7 \n",
      "Learning rate: 0.000889892578125\n",
      "Train loss: 1.0740 | Train precision: 0.5562 | Train recall: 0.4725 | Train f1score: 0.4759 | Train acc: 0.4844 | Train kappa: 0.5305 \n",
      "Val loss: 1.0561 | Val precision: 0.5380 | Val recall: 0.4491 | Val f1score: 0.4408 | Val acc: 0.5078 | Val kappa: 0.4606 \n",
      "\n",
      "Epoch: 8 \n",
      "Learning rate: 0.00066741943359375\n",
      "Train loss: 1.0742 | Train precision: 0.5318 | Train recall: 0.4692 | Train f1score: 0.4691 | Train acc: 0.4910 | Train kappa: 0.5206 \n",
      "Val loss: 1.0525 | Val precision: 0.4360 | Val recall: 0.4390 | Val f1score: 0.4246 | Val acc: 0.5035 | Val kappa: 0.4664 \n",
      "\n",
      "Epoch: 9 \n",
      "Learning rate: 0.0005005645751953125\n",
      "Train loss: 1.0568 | Train precision: 0.5609 | Train recall: 0.4809 | Train f1score: 0.4887 | Train acc: 0.4910 | Train kappa: 0.5386 \n",
      "Val loss: 1.0773 | Val precision: 0.4316 | Val recall: 0.4711 | Val f1score: 0.4327 | Val acc: 0.4809 | Val kappa: 0.4544 \n",
      "\n",
      "Epoch: 10 \n",
      "Learning rate: 0.0003754234313964844\n",
      "Train loss: 1.0533 | Train precision: 0.5671 | Train recall: 0.4904 | Train f1score: 0.5018 | Train acc: 0.4980 | Train kappa: 0.5463 \n",
      "Val loss: 1.1100 | Val precision: 0.4314 | Val recall: 0.5085 | Val f1score: 0.4575 | Val acc: 0.4627 | Val kappa: 0.4888 \n",
      "\n",
      "Epoch: 11 \n",
      "Learning rate: 0.0002815675735473633\n",
      "Train loss: 1.0462 | Train precision: 0.5691 | Train recall: 0.4947 | Train f1score: 0.5034 | Train acc: 0.5056 | Train kappa: 0.5619 \n",
      "Val loss: 1.0519 | Val precision: 0.5047 | Val recall: 0.4466 | Val f1score: 0.4648 | Val acc: 0.5130 | Val kappa: 0.4936 \n",
      "\n",
      "Epoch: 12 \n",
      "Learning rate: 0.00021117568016052246\n",
      "Train loss: 1.0407 | Train precision: 0.5822 | Train recall: 0.4884 | Train f1score: 0.4988 | Train acc: 0.5066 | Train kappa: 0.5468 \n",
      "Val loss: 1.0523 | Val precision: 0.4785 | Val recall: 0.4773 | Val f1score: 0.4712 | Val acc: 0.5017 | Val kappa: 0.4960 \n",
      "\n",
      "Epoch: 13 \n",
      "Learning rate: 0.00015838176012039184\n",
      "Train loss: 1.0362 | Train precision: 0.5931 | Train recall: 0.4954 | Train f1score: 0.5107 | Train acc: 0.5060 | Train kappa: 0.5601 \n",
      "Val loss: 1.0759 | Val precision: 0.4617 | Val recall: 0.4938 | Val f1score: 0.4704 | Val acc: 0.4931 | Val kappa: 0.5006 \n",
      "\n",
      "Epoch: 14 \n",
      "Learning rate: 0.00011878632009029388\n",
      "Train loss: 1.0306 | Train precision: 0.5906 | Train recall: 0.5095 | Train f1score: 0.5250 | Train acc: 0.5105 | Train kappa: 0.5756 \n",
      "Val loss: 1.0721 | Val precision: 0.4636 | Val recall: 0.4763 | Val f1score: 0.4638 | Val acc: 0.4913 | Val kappa: 0.4938 \n",
      "\n",
      "Epoch: 15 \n",
      "Learning rate: 8.908974006772042e-05\n",
      "Train loss: 1.0299 | Train precision: 0.5904 | Train recall: 0.5057 | Train f1score: 0.5162 | Train acc: 0.5123 | Train kappa: 0.5618 \n",
      "Val loss: 1.0597 | Val precision: 0.4961 | Val recall: 0.4644 | Val f1score: 0.4751 | Val acc: 0.5069 | Val kappa: 0.5106 \n",
      "\n",
      "Epoch: 16 \n",
      "Learning rate: 6.681730505079031e-05\n",
      "Train loss: 1.0414 | Train precision: 0.5866 | Train recall: 0.4910 | Train f1score: 0.5077 | Train acc: 0.5069 | Train kappa: 0.5595 \n",
      "Val loss: 1.0556 | Val precision: 0.4927 | Val recall: 0.4716 | Val f1score: 0.4772 | Val acc: 0.5061 | Val kappa: 0.5061 \n",
      "\n",
      "Epoch: 17 \n",
      "Learning rate: 5.0112978788092735e-05\n",
      "Train loss: 1.0297 | Train precision: 0.5737 | Train recall: 0.4906 | Train f1score: 0.5047 | Train acc: 0.5092 | Train kappa: 0.5599 \n",
      "Val loss: 1.0497 | Val precision: 0.4927 | Val recall: 0.4739 | Val f1score: 0.4768 | Val acc: 0.5035 | Val kappa: 0.4930 \n",
      "\n",
      "Epoch: 18 \n",
      "Learning rate: 3.758473409106955e-05\n",
      "Train loss: 1.0290 | Train precision: 0.5895 | Train recall: 0.5038 | Train f1score: 0.5162 | Train acc: 0.5070 | Train kappa: 0.5645 \n",
      "Val loss: 1.0589 | Val precision: 0.4890 | Val recall: 0.4772 | Val f1score: 0.4781 | Val acc: 0.4948 | Val kappa: 0.4847 \n",
      "\n",
      "Epoch: 19 \n",
      "Learning rate: 2.8188550568302163e-05\n",
      "Train loss: 1.0207 | Train precision: 0.6021 | Train recall: 0.5176 | Train f1score: 0.5342 | Train acc: 0.5197 | Train kappa: 0.5805 \n",
      "Val loss: 1.0577 | Val precision: 0.4917 | Val recall: 0.4730 | Val f1score: 0.4774 | Val acc: 0.5017 | Val kappa: 0.4966 \n",
      "\n",
      "Epoch: 20 \n",
      "Learning rate: 2.114141292622662e-05\n",
      "Train loss: 1.0209 | Train precision: 0.5978 | Train recall: 0.5135 | Train f1score: 0.5300 | Train acc: 0.5207 | Train kappa: 0.5780 \n",
      "Val loss: 1.0544 | Val precision: 0.4910 | Val recall: 0.4715 | Val f1score: 0.4770 | Val acc: 0.5009 | Val kappa: 0.4946 \n",
      "\n",
      "Epoch: 21 \n",
      "Learning rate: 1.5856059694669965e-05\n",
      "Train loss: 1.0300 | Train precision: 0.5796 | Train recall: 0.4984 | Train f1score: 0.5159 | Train acc: 0.5074 | Train kappa: 0.5502 \n",
      "Val loss: 1.0538 | Val precision: 0.4826 | Val recall: 0.4661 | Val f1score: 0.4706 | Val acc: 0.5017 | Val kappa: 0.4953 \n",
      "\n",
      "Epoch: 22 \n",
      "Learning rate: 1.1892044771002475e-05\n",
      "Train loss: 1.0315 | Train precision: 0.5938 | Train recall: 0.5008 | Train f1score: 0.5176 | Train acc: 0.5078 | Train kappa: 0.5619 \n",
      "Val loss: 1.0566 | Val precision: 0.4865 | Val recall: 0.4690 | Val f1score: 0.4723 | Val acc: 0.5009 | Val kappa: 0.4990 \n",
      "\n",
      "Epoch: 23 \n",
      "Learning rate: 8.919033578251857e-06\n",
      "Train loss: 1.0242 | Train precision: 0.5944 | Train recall: 0.5064 | Train f1score: 0.5214 | Train acc: 0.5105 | Train kappa: 0.5652 \n",
      "Val loss: 1.0590 | Val precision: 0.4858 | Val recall: 0.4707 | Val f1score: 0.4734 | Val acc: 0.5009 | Val kappa: 0.4949 \n",
      "\n",
      "Epoch: 24 \n",
      "Learning rate: 6.689275183688892e-06\n",
      "Train loss: 1.0238 | Train precision: 0.5797 | Train recall: 0.5005 | Train f1score: 0.5163 | Train acc: 0.5104 | Train kappa: 0.5666 \n",
      "Val loss: 1.0535 | Val precision: 0.4894 | Val recall: 0.4696 | Val f1score: 0.4756 | Val acc: 0.5017 | Val kappa: 0.4956 \n",
      "\n",
      "Epoch: 25 \n",
      "Learning rate: 5.016956387766669e-06\n",
      "Train loss: 1.0208 | Train precision: 0.5852 | Train recall: 0.5082 | Train f1score: 0.5196 | Train acc: 0.5149 | Train kappa: 0.5691 \n",
      "Val loss: 1.0543 | Val precision: 0.4869 | Val recall: 0.4706 | Val f1score: 0.4740 | Val acc: 0.5026 | Val kappa: 0.4908 \n",
      "\n",
      "Epoch: 26 \n",
      "Learning rate: 3.762717290825002e-06\n",
      "Train loss: 1.0325 | Train precision: 0.5809 | Train recall: 0.4967 | Train f1score: 0.5127 | Train acc: 0.5070 | Train kappa: 0.5575 \n",
      "Val loss: 1.0496 | Val precision: 0.4908 | Val recall: 0.4627 | Val f1score: 0.4719 | Val acc: 0.5017 | Val kappa: 0.4970 \n",
      "\n",
      "Epoch: 27 \n",
      "Learning rate: 2.8220379681187514e-06\n",
      "Train loss: 1.0224 | Train precision: 0.5999 | Train recall: 0.5054 | Train f1score: 0.5248 | Train acc: 0.5180 | Train kappa: 0.5705 \n",
      "Val loss: 1.0544 | Val precision: 0.4975 | Val recall: 0.4721 | Val f1score: 0.4807 | Val acc: 0.5035 | Val kappa: 0.5040 \n",
      "\n"
     ]
    },
    {
     "name": "stdout",
     "output_type": "stream",
     "text": [
      "Epoch: 28 \n",
      "Learning rate: 2.1165284760890633e-06\n",
      "Train loss: 1.0236 | Train precision: 0.6051 | Train recall: 0.5061 | Train f1score: 0.5265 | Train acc: 0.5145 | Train kappa: 0.5747 \n",
      "Val loss: 1.0549 | Val precision: 0.4877 | Val recall: 0.4716 | Val f1score: 0.4749 | Val acc: 0.5035 | Val kappa: 0.4952 \n",
      "\n",
      "Epoch: 29 \n",
      "Learning rate: 1.5873963570667977e-06\n",
      "Train loss: 1.0298 | Train precision: 0.6031 | Train recall: 0.5104 | Train f1score: 0.5271 | Train acc: 0.5148 | Train kappa: 0.5677 \n",
      "Val loss: 1.0526 | Val precision: 0.4907 | Val recall: 0.4705 | Val f1score: 0.4765 | Val acc: 0.5035 | Val kappa: 0.4957 \n",
      "\n",
      "Epoch: 30 \n",
      "Learning rate: 1.1905472678000981e-06\n",
      "Train loss: 1.0368 | Train precision: 0.5928 | Train recall: 0.5011 | Train f1score: 0.5183 | Train acc: 0.5093 | Train kappa: 0.5702 \n",
      "Val loss: 1.0562 | Val precision: 0.4888 | Val recall: 0.4731 | Val f1score: 0.4761 | Val acc: 0.5043 | Val kappa: 0.4982 \n",
      "\n",
      "Epoch: 31 \n",
      "Learning rate: 1e-06\n",
      "Train loss: 1.0296 | Train precision: 0.5704 | Train recall: 0.4986 | Train f1score: 0.5064 | Train acc: 0.5105 | Train kappa: 0.5624 \n",
      "Val loss: 1.0547 | Val precision: 0.4865 | Val recall: 0.4703 | Val f1score: 0.4736 | Val acc: 0.5000 | Val kappa: 0.4945 \n",
      "\n",
      "Epoch: 32 \n",
      "Learning rate: 1e-06\n",
      "Train loss: 1.0252 | Train precision: 0.6080 | Train recall: 0.5118 | Train f1score: 0.5308 | Train acc: 0.5126 | Train kappa: 0.5707 \n",
      "Val loss: 1.0543 | Val precision: 0.4869 | Val recall: 0.4707 | Val f1score: 0.4740 | Val acc: 0.5017 | Val kappa: 0.4978 \n",
      "\n",
      "Epoch: 33 \n",
      "Learning rate: 1e-06\n",
      "Train loss: 1.0199 | Train precision: 0.5972 | Train recall: 0.5087 | Train f1score: 0.5227 | Train acc: 0.5082 | Train kappa: 0.5646 \n",
      "Val loss: 1.0561 | Val precision: 0.4870 | Val recall: 0.4712 | Val f1score: 0.4743 | Val acc: 0.5017 | Val kappa: 0.4999 \n",
      "\n",
      "Epoch: 34 \n",
      "Learning rate: 1e-06\n",
      "Train loss: 1.0282 | Train precision: 0.6018 | Train recall: 0.5112 | Train f1score: 0.5286 | Train acc: 0.5160 | Train kappa: 0.5700 \n",
      "Val loss: 1.0525 | Val precision: 0.4919 | Val recall: 0.4687 | Val f1score: 0.4754 | Val acc: 0.5000 | Val kappa: 0.4951 \n",
      "\n",
      "Epoch: 35 \n",
      "Learning rate: 1e-06\n",
      "Train loss: 1.0232 | Train precision: 0.5984 | Train recall: 0.5081 | Train f1score: 0.5242 | Train acc: 0.5131 | Train kappa: 0.5762 \n",
      "Val loss: 1.0550 | Val precision: 0.4884 | Val recall: 0.4726 | Val f1score: 0.4757 | Val acc: 0.5043 | Val kappa: 0.4980 \n",
      "\n",
      "Epoch: 36 \n",
      "Learning rate: 1e-06\n",
      "Train loss: 1.0244 | Train precision: 0.5814 | Train recall: 0.5033 | Train f1score: 0.5127 | Train acc: 0.5084 | Train kappa: 0.5619 \n",
      "Val loss: 1.0567 | Val precision: 0.4850 | Val recall: 0.4698 | Val f1score: 0.4725 | Val acc: 0.4991 | Val kappa: 0.4935 \n",
      "\n",
      "Epoch: 37 \n",
      "Learning rate: 1e-06\n",
      "Train loss: 1.0307 | Train precision: 0.5878 | Train recall: 0.5005 | Train f1score: 0.5185 | Train acc: 0.5073 | Train kappa: 0.5618 \n",
      "Val loss: 1.0541 | Val precision: 0.4835 | Val recall: 0.4716 | Val f1score: 0.4739 | Val acc: 0.5035 | Val kappa: 0.4981 \n",
      "\n",
      "Early stopping after epoch 37\n"
     ]
    },
    {
     "data": {
      "text/html": [
       "Waiting for W&B process to finish... <strong style=\"color:green\">(success).</strong>"
      ],
      "text/plain": [
       "<IPython.core.display.HTML object>"
      ]
     },
     "metadata": {},
     "output_type": "display_data"
    },
    {
     "data": {
      "application/vnd.jupyter.widget-view+json": {
       "model_id": "ea9f0abc2856469f8f24d32456422c04",
       "version_major": 2,
       "version_minor": 0
      },
      "text/plain": [
       "VBox(children=(Label(value='0.001 MB of 0.001 MB uploaded (0.000 MB deduped)\\r'), FloatProgress(value=1.0, max…"
      ]
     },
     "metadata": {},
     "output_type": "display_data"
    },
    {
     "data": {
      "text/html": [
       "<style>\n",
       "    table.wandb td:nth-child(1) { padding: 0 10px; text-align: left ; width: auto;} td:nth-child(2) {text-align: left ; width: 100%}\n",
       "    .wandb-row { display: flex; flex-direction: row; flex-wrap: wrap; justify-content: flex-start; width: 100% }\n",
       "    .wandb-col { display: flex; flex-direction: column; flex-basis: 100%; flex: 1; padding: 10px; }\n",
       "    </style>\n",
       "<div class=\"wandb-row\"><div class=\"wandb-col\"><h3>Run history:</h3><br/><table class=\"wandb\"><tr><td>learning_rate</td><td>█▆▅▄▃▃▂▂▂▂▁▁▁▁▁▁▁▁▁▁▁▁▁▁▁▁▁▁▁▁▁▁▁▁▁▁▁</td></tr><tr><td>train_f1_score</td><td>▁▄▅▆▆▆▇▆▇▇▇▇▇██▇▇████████▇████▇████▇█</td></tr><tr><td>train_loss</td><td>█▅▄▃▃▃▂▂▂▂▂▂▁▁▁▂▁▁▁▁▁▁▁▁▁▁▁▁▁▁▁▁▁▁▁▁▁</td></tr><tr><td>val_f1_score</td><td>▁▃▆▆▆▇▇▇▇████████████████████████████</td></tr><tr><td>val_loss</td><td>█▂▂▂▁▁▁▁▁▁▁▁▁▁▁▁▁▁▁▁▁▁▁▁▁▁▁▁▁▁▁▁▁▁▁▁▁</td></tr></table><br/></div><div class=\"wandb-col\"><h3>Run summary:</h3><br/><table class=\"wandb\"><tr><td>learning_rate</td><td>0.0</td></tr><tr><td>train_f1_score</td><td>0.51852</td></tr><tr><td>train_loss</td><td>1.03066</td></tr><tr><td>val_f1_score</td><td>0.47395</td></tr><tr><td>val_loss</td><td>1.05411</td></tr></table><br/></div></div>"
      ],
      "text/plain": [
       "<IPython.core.display.HTML object>"
      ]
     },
     "metadata": {},
     "output_type": "display_data"
    },
    {
     "data": {
      "text/html": [
       " View run <strong style=\"color:#cdcd00\">fold_3_RGB_5classes</strong> at: <a href='https://wandb.ai/simon-ecke/wze-uav-5classes/runs/qi8rx5gg' target=\"_blank\">https://wandb.ai/simon-ecke/wze-uav-5classes/runs/qi8rx5gg</a><br/>Synced 5 W&B file(s), 0 media file(s), 0 artifact file(s) and 0 other file(s)"
      ],
      "text/plain": [
       "<IPython.core.display.HTML object>"
      ]
     },
     "metadata": {},
     "output_type": "display_data"
    },
    {
     "data": {
      "text/html": [
       "Find logs at: <code>.\\wandb\\run-20230427_172028-qi8rx5gg\\logs</code>"
      ],
      "text/plain": [
       "<IPython.core.display.HTML object>"
      ]
     },
     "metadata": {},
     "output_type": "display_data"
    },
    {
     "name": "stdout",
     "output_type": "stream",
     "text": [
      "Deleting variables and emptying cache\n",
      "Memory allocated: 1051952640 bytes\n",
      "--------------------------------------------------\n",
      "\n",
      "Fold : 4\n",
      "TRAIN POSITIVE RATIO: 1.2837428206764518\n",
      "VAL POSITIVE RATIO  : 1.2781520692974013\n",
      "LENGTH TRAIN GROUPS : 4726\n",
      "LENGTH VAL GROUPS   : 1177\n"
     ]
    },
    {
     "data": {
      "text/html": [
       "wandb version 0.15.0 is available!  To upgrade, please run:\n",
       " $ pip install wandb --upgrade"
      ],
      "text/plain": [
       "<IPython.core.display.HTML object>"
      ]
     },
     "metadata": {},
     "output_type": "display_data"
    },
    {
     "data": {
      "text/html": [
       "Tracking run with wandb version 0.14.2"
      ],
      "text/plain": [
       "<IPython.core.display.HTML object>"
      ]
     },
     "metadata": {},
     "output_type": "display_data"
    },
    {
     "data": {
      "text/html": [
       "Run data is saved locally in <code>C:\\Users\\lwfeckesim\\01_PyTorch\\wze-uav\\wze-uav-master\\wandb\\run-20230427_203614-agylr7iv</code>"
      ],
      "text/plain": [
       "<IPython.core.display.HTML object>"
      ]
     },
     "metadata": {},
     "output_type": "display_data"
    },
    {
     "data": {
      "text/html": [
       "Syncing run <strong><a href='https://wandb.ai/simon-ecke/wze-uav-5classes/runs/agylr7iv' target=\"_blank\">fold_4_RGB_5classes</a></strong> to <a href='https://wandb.ai/simon-ecke/wze-uav-5classes' target=\"_blank\">Weights & Biases</a> (<a href='https://wandb.me/run' target=\"_blank\">docs</a>)<br/>"
      ],
      "text/plain": [
       "<IPython.core.display.HTML object>"
      ]
     },
     "metadata": {},
     "output_type": "display_data"
    },
    {
     "data": {
      "text/html": [
       " View project at <a href='https://wandb.ai/simon-ecke/wze-uav-5classes' target=\"_blank\">https://wandb.ai/simon-ecke/wze-uav-5classes</a>"
      ],
      "text/plain": [
       "<IPython.core.display.HTML object>"
      ]
     },
     "metadata": {},
     "output_type": "display_data"
    },
    {
     "data": {
      "text/html": [
       " View run at <a href='https://wandb.ai/simon-ecke/wze-uav-5classes/runs/agylr7iv' target=\"_blank\">https://wandb.ai/simon-ecke/wze-uav-5classes/runs/agylr7iv</a>"
      ],
      "text/plain": [
       "<IPython.core.display.HTML object>"
      ]
     },
     "metadata": {},
     "output_type": "display_data"
    },
    {
     "name": "stdout",
     "output_type": "stream",
     "text": [
      "There are no same hash_id values in train, val or test datasets. The datasplit was successful\n",
      "Check shapes:\n",
      "\n",
      "Images train dataset: (12536, 250, 250, 3)\n",
      "Labels train dataset: (12536, 1)\n",
      "\n",
      "Images validation dataset: (1177, 250, 250, 3)\n",
      "Labels validation dataset: (1177, 1)\n",
      "\n",
      "--------------------------------------------------\n",
      "Check if the split was stratified: (random_state=42)\n",
      "Healthy trees in train dataset: 2397\n",
      "Moderately stressed trees in train dataset: 4984\n",
      "Severely stressed trees in train dataset: 4569\n",
      "Dead trees in train dataset: 373\n",
      "Healthy trees in validation dataset: 204\n",
      "Moderately stressed trees in validation dataset: 477\n",
      "Severely stressed trees in validation dataset: 449\n",
      "Dead trees in validation dataset: 32\n",
      "Ratio health trees in validation dataset: 0.06861755802219979\n",
      "Ratio moderately stressed trees in validation dataset: 0.07651588065447545\n",
      "Ratio severely stressed trees in validation dataset: 0.08305763538220443\n",
      "Ratio dead trees in validation dataset: 0.9868131868131869\n",
      "--------------------------------------------------\n",
      "\n",
      "Creating datasets for fold: 4\n",
      "\n",
      "Creating dataloaders for fold: 4\n",
      "\n",
      "Loaded pretrained weights for efficientnet-b7\n",
      "\n",
      "[INFO] Fold number: 4\n",
      "[INFO] Number of epochs: 50\n",
      "[INFO] Number of classes: 5\n",
      "[INFO] Batch_size: 32\n",
      "[INFO] Number of bands: 3\n",
      "[INFO] Dropout rate: 0.5\n",
      "[INFO] Gamma learning rate: 0.75\n",
      "[INFO] Memory allocated: 0 bytes\n"
     ]
    },
    {
     "data": {
      "application/vnd.jupyter.widget-view+json": {
       "model_id": "f21be88d9073404394e56f09415bf16f",
       "version_major": 2,
       "version_minor": 0
      },
      "text/plain": [
       "  0%|          | 0/50 [00:00<?, ?it/s]"
      ]
     },
     "metadata": {},
     "output_type": "display_data"
    },
    {
     "name": "stdout",
     "output_type": "stream",
     "text": [
      "Epoch: 1 \n",
      "Learning rate: 0.005\n",
      "Train loss: 1.2624 | Train precision: 0.3342 | Train recall: 0.3037 | Train f1score: 0.3084 | Train acc: 0.3958 | Train kappa: 0.2855 \n",
      "Val loss: 1.5369 | Val precision: 0.3032 | Val recall: 0.3892 | Val f1score: 0.3039 | Val acc: 0.3342 | Val kappa: 0.3398 \n",
      "\n",
      "Epoch: 2 \n",
      "Learning rate: 0.00375\n",
      "Train loss: 1.1638 | Train precision: 0.4290 | Train recall: 0.3843 | Train f1score: 0.3851 | Train acc: 0.4486 | Train kappa: 0.4236 \n",
      "Val loss: 1.1136 | Val precision: 0.4949 | Val recall: 0.3581 | Val f1score: 0.3682 | Val acc: 0.4618 | Val kappa: 0.3470 \n",
      "\n",
      "Epoch: 3 \n",
      "Learning rate: 0.0028125\n",
      "Train loss: 1.1246 | Train precision: 0.4516 | Train recall: 0.4196 | Train f1score: 0.4169 | Train acc: 0.4723 | Train kappa: 0.4809 \n",
      "Val loss: 1.1661 | Val precision: 0.3593 | Val recall: 0.4504 | Val f1score: 0.3205 | Val acc: 0.4679 | Val kappa: 0.3887 \n",
      "\n",
      "Epoch: 4 \n",
      "Learning rate: 0.002109375\n",
      "Train loss: 1.1013 | Train precision: 0.4937 | Train recall: 0.4453 | Train f1score: 0.4447 | Train acc: 0.4747 | Train kappa: 0.5224 \n",
      "Val loss: 1.0835 | Val precision: 0.4023 | Val recall: 0.4612 | Val f1score: 0.3788 | Val acc: 0.4844 | Val kappa: 0.4514 \n",
      "\n",
      "Epoch: 5 \n",
      "Learning rate: 0.00158203125\n",
      "Train loss: 1.0931 | Train precision: 0.5030 | Train recall: 0.4516 | Train f1score: 0.4496 | Train acc: 0.4834 | Train kappa: 0.5107 \n",
      "Val loss: 1.1141 | Val precision: 0.4516 | Val recall: 0.5063 | Val f1score: 0.4385 | Val acc: 0.4392 | Val kappa: 0.4375 \n",
      "\n",
      "Epoch: 6 \n",
      "Learning rate: 0.0011865234375\n",
      "Train loss: 1.0780 | Train precision: 0.5429 | Train recall: 0.4708 | Train f1score: 0.4733 | Train acc: 0.4888 | Train kappa: 0.5398 \n",
      "Val loss: 1.0576 | Val precision: 0.4313 | Val recall: 0.4979 | Val f1score: 0.4519 | Val acc: 0.4740 | Val kappa: 0.4684 \n",
      "\n",
      "Epoch: 7 \n",
      "Learning rate: 0.000889892578125\n",
      "Train loss: 1.0667 | Train precision: 0.5577 | Train recall: 0.4750 | Train f1score: 0.4851 | Train acc: 0.4944 | Train kappa: 0.5332 \n",
      "Val loss: 1.0573 | Val precision: 0.4668 | Val recall: 0.4237 | Val f1score: 0.4160 | Val acc: 0.4748 | Val kappa: 0.4434 \n",
      "\n",
      "Epoch: 8 \n",
      "Learning rate: 0.00066741943359375\n",
      "Train loss: 1.0497 | Train precision: 0.5657 | Train recall: 0.4892 | Train f1score: 0.4973 | Train acc: 0.5010 | Train kappa: 0.5580 \n",
      "Val loss: 1.0642 | Val precision: 0.4520 | Val recall: 0.5077 | Val f1score: 0.4705 | Val acc: 0.4835 | Val kappa: 0.4762 \n",
      "\n",
      "Epoch: 9 \n",
      "Learning rate: 0.0005005645751953125\n",
      "Train loss: 1.0405 | Train precision: 0.5640 | Train recall: 0.4868 | Train f1score: 0.4986 | Train acc: 0.5088 | Train kappa: 0.5703 \n",
      "Val loss: 1.0919 | Val precision: 0.3827 | Val recall: 0.5044 | Val f1score: 0.4079 | Val acc: 0.4705 | Val kappa: 0.4585 \n",
      "\n",
      "Epoch: 10 \n",
      "Learning rate: 0.0003754234313964844\n",
      "Train loss: 1.0349 | Train precision: 0.5691 | Train recall: 0.5006 | Train f1score: 0.5082 | Train acc: 0.5114 | Train kappa: 0.5765 \n",
      "Val loss: 1.0269 | Val precision: 0.4726 | Val recall: 0.4840 | Val f1score: 0.4627 | Val acc: 0.4948 | Val kappa: 0.4873 \n",
      "\n",
      "Epoch: 11 \n",
      "Learning rate: 0.0002815675735473633\n",
      "Train loss: 1.0249 | Train precision: 0.6010 | Train recall: 0.5182 | Train f1score: 0.5357 | Train acc: 0.5210 | Train kappa: 0.5836 \n",
      "Val loss: 1.0254 | Val precision: 0.5091 | Val recall: 0.5063 | Val f1score: 0.4997 | Val acc: 0.5043 | Val kappa: 0.4860 \n",
      "\n",
      "Epoch: 12 \n",
      "Learning rate: 0.00021117568016052246\n",
      "Train loss: 1.0222 | Train precision: 0.5928 | Train recall: 0.5135 | Train f1score: 0.5294 | Train acc: 0.5198 | Train kappa: 0.5792 \n",
      "Val loss: 1.0298 | Val precision: 0.4890 | Val recall: 0.5147 | Val f1score: 0.4957 | Val acc: 0.4913 | Val kappa: 0.5105 \n",
      "\n",
      "Epoch: 13 \n",
      "Learning rate: 0.00015838176012039184\n",
      "Train loss: 1.0240 | Train precision: 0.5714 | Train recall: 0.5067 | Train f1score: 0.5215 | Train acc: 0.5116 | Train kappa: 0.5797 \n",
      "Val loss: 1.0198 | Val precision: 0.3943 | Val recall: 0.4816 | Val f1score: 0.4229 | Val acc: 0.4870 | Val kappa: 0.4845 \n",
      "\n",
      "Epoch: 14 \n",
      "Learning rate: 0.00011878632009029388\n",
      "Train loss: 1.0121 | Train precision: 0.5966 | Train recall: 0.5103 | Train f1score: 0.5276 | Train acc: 0.5177 | Train kappa: 0.5953 \n",
      "Val loss: 1.0279 | Val precision: 0.5002 | Val recall: 0.5340 | Val f1score: 0.4927 | Val acc: 0.5052 | Val kappa: 0.5278 \n",
      "\n",
      "Epoch: 15 \n",
      "Learning rate: 8.908974006772042e-05\n",
      "Train loss: 1.0041 | Train precision: 0.6015 | Train recall: 0.5269 | Train f1score: 0.5443 | Train acc: 0.5257 | Train kappa: 0.6008 \n",
      "Val loss: 1.0365 | Val precision: 0.4820 | Val recall: 0.5236 | Val f1score: 0.4981 | Val acc: 0.4809 | Val kappa: 0.4988 \n",
      "\n",
      "Epoch: 16 \n",
      "Learning rate: 6.681730505079031e-05\n",
      "Train loss: 1.0078 | Train precision: 0.6154 | Train recall: 0.5330 | Train f1score: 0.5529 | Train acc: 0.5289 | Train kappa: 0.5974 \n",
      "Val loss: 1.0198 | Val precision: 0.4697 | Val recall: 0.4983 | Val f1score: 0.4743 | Val acc: 0.4913 | Val kappa: 0.5069 \n",
      "\n",
      "Epoch: 17 \n",
      "Learning rate: 5.0112978788092735e-05\n",
      "Train loss: 1.0182 | Train precision: 0.5964 | Train recall: 0.5146 | Train f1score: 0.5334 | Train acc: 0.5148 | Train kappa: 0.5763 \n",
      "Val loss: 1.0267 | Val precision: 0.4494 | Val recall: 0.5145 | Val f1score: 0.4651 | Val acc: 0.4852 | Val kappa: 0.4981 \n",
      "\n",
      "Epoch: 18 \n",
      "Learning rate: 3.758473409106955e-05\n",
      "Train loss: 1.0238 | Train precision: 0.6091 | Train recall: 0.5307 | Train f1score: 0.5497 | Train acc: 0.5263 | Train kappa: 0.5854 \n",
      "Val loss: 1.0182 | Val precision: 0.4976 | Val recall: 0.4964 | Val f1score: 0.4903 | Val acc: 0.4965 | Val kappa: 0.4964 \n",
      "\n",
      "Epoch: 19 \n",
      "Learning rate: 2.8188550568302163e-05\n",
      "Train loss: 1.0081 | Train precision: 0.6007 | Train recall: 0.5317 | Train f1score: 0.5481 | Train acc: 0.5259 | Train kappa: 0.5941 \n",
      "Val loss: 1.0273 | Val precision: 0.4731 | Val recall: 0.5212 | Val f1score: 0.4910 | Val acc: 0.4931 | Val kappa: 0.5118 \n",
      "\n",
      "Epoch: 20 \n",
      "Learning rate: 2.114141292622662e-05\n",
      "Train loss: 1.0089 | Train precision: 0.6084 | Train recall: 0.5330 | Train f1score: 0.5527 | Train acc: 0.5238 | Train kappa: 0.6020 \n",
      "Val loss: 1.0242 | Val precision: 0.4796 | Val recall: 0.5202 | Val f1score: 0.4946 | Val acc: 0.4931 | Val kappa: 0.5095 \n",
      "\n",
      "Epoch: 21 \n",
      "Learning rate: 1.5856059694669965e-05\n",
      "Train loss: 1.0111 | Train precision: 0.6084 | Train recall: 0.5270 | Train f1score: 0.5468 | Train acc: 0.5261 | Train kappa: 0.6041 \n",
      "Val loss: 1.0257 | Val precision: 0.4654 | Val recall: 0.5207 | Val f1score: 0.4808 | Val acc: 0.4931 | Val kappa: 0.5150 \n",
      "\n",
      "Epoch: 22 \n",
      "Learning rate: 1.1892044771002475e-05\n",
      "Train loss: 1.0034 | Train precision: 0.6121 | Train recall: 0.5317 | Train f1score: 0.5514 | Train acc: 0.5209 | Train kappa: 0.6032 \n",
      "Val loss: 1.0221 | Val precision: 0.4890 | Val recall: 0.5146 | Val f1score: 0.4967 | Val acc: 0.4939 | Val kappa: 0.5071 \n",
      "\n",
      "Epoch: 23 \n",
      "Learning rate: 8.919033578251857e-06\n",
      "Train loss: 1.0050 | Train precision: 0.6237 | Train recall: 0.5402 | Train f1score: 0.5602 | Train acc: 0.5281 | Train kappa: 0.6016 \n",
      "Val loss: 1.0237 | Val precision: 0.4609 | Val recall: 0.5156 | Val f1score: 0.4734 | Val acc: 0.4957 | Val kappa: 0.5078 \n",
      "\n",
      "Epoch: 24 \n",
      "Learning rate: 6.689275183688892e-06\n",
      "Train loss: 1.0115 | Train precision: 0.5939 | Train recall: 0.5179 | Train f1score: 0.5383 | Train acc: 0.5207 | Train kappa: 0.5785 \n",
      "Val loss: 1.0236 | Val precision: 0.4680 | Val recall: 0.5157 | Val f1score: 0.4801 | Val acc: 0.4983 | Val kappa: 0.5085 \n",
      "\n",
      "Epoch: 25 \n",
      "Learning rate: 5.016956387766669e-06\n",
      "Train loss: 1.0059 | Train precision: 0.6212 | Train recall: 0.5336 | Train f1score: 0.5561 | Train acc: 0.5261 | Train kappa: 0.6012 \n",
      "Val loss: 1.0224 | Val precision: 0.4778 | Val recall: 0.5279 | Val f1score: 0.4898 | Val acc: 0.4991 | Val kappa: 0.5156 \n",
      "\n",
      "Epoch: 26 \n",
      "Learning rate: 3.762717290825002e-06\n",
      "Train loss: 1.0024 | Train precision: 0.5951 | Train recall: 0.5286 | Train f1score: 0.5442 | Train acc: 0.5195 | Train kappa: 0.5959 \n",
      "Val loss: 1.0205 | Val precision: 0.4713 | Val recall: 0.5207 | Val f1score: 0.4826 | Val acc: 0.4965 | Val kappa: 0.5116 \n",
      "\n",
      "Epoch: 27 \n",
      "Learning rate: 2.8220379681187514e-06\n",
      "Train loss: 1.0060 | Train precision: 0.6065 | Train recall: 0.5267 | Train f1score: 0.5473 | Train acc: 0.5244 | Train kappa: 0.5952 \n",
      "Val loss: 1.0228 | Val precision: 0.4627 | Val recall: 0.5141 | Val f1score: 0.4752 | Val acc: 0.4939 | Val kappa: 0.5103 \n",
      "\n"
     ]
    },
    {
     "name": "stdout",
     "output_type": "stream",
     "text": [
      "Epoch: 28 \n",
      "Learning rate: 2.1165284760890633e-06\n",
      "Train loss: 0.9948 | Train precision: 0.6201 | Train recall: 0.5338 | Train f1score: 0.5575 | Train acc: 0.5381 | Train kappa: 0.6003 \n",
      "Val loss: 1.0233 | Val precision: 0.4728 | Val recall: 0.5204 | Val f1score: 0.4829 | Val acc: 0.4948 | Val kappa: 0.5120 \n",
      "\n",
      "Early stopping after epoch 28\n"
     ]
    },
    {
     "data": {
      "text/html": [
       "Waiting for W&B process to finish... <strong style=\"color:green\">(success).</strong>"
      ],
      "text/plain": [
       "<IPython.core.display.HTML object>"
      ]
     },
     "metadata": {},
     "output_type": "display_data"
    },
    {
     "data": {
      "application/vnd.jupyter.widget-view+json": {
       "model_id": "280773e988a44c0f95971a1bb1c88346",
       "version_major": 2,
       "version_minor": 0
      },
      "text/plain": [
       "VBox(children=(Label(value='0.002 MB of 0.014 MB uploaded (0.000 MB deduped)\\r'), FloatProgress(value=0.125865…"
      ]
     },
     "metadata": {},
     "output_type": "display_data"
    },
    {
     "data": {
      "text/html": [
       "<style>\n",
       "    table.wandb td:nth-child(1) { padding: 0 10px; text-align: left ; width: auto;} td:nth-child(2) {text-align: left ; width: 100%}\n",
       "    .wandb-row { display: flex; flex-direction: row; flex-wrap: wrap; justify-content: flex-start; width: 100% }\n",
       "    .wandb-col { display: flex; flex-direction: column; flex-basis: 100%; flex: 1; padding: 10px; }\n",
       "    </style>\n",
       "<div class=\"wandb-row\"><div class=\"wandb-col\"><h3>Run history:</h3><br/><table class=\"wandb\"><tr><td>learning_rate</td><td>█▆▅▄▃▃▂▂▂▂▁▁▁▁▁▁▁▁▁▁▁▁▁▁▁▁▁▁</td></tr><tr><td>train_f1_score</td><td>▁▃▄▅▅▆▆▆▆▇▇▇▇▇██▇██████▇████</td></tr><tr><td>train_loss</td><td>█▅▄▄▄▃▃▂▂▂▂▂▂▁▁▁▂▂▁▁▁▁▁▁▁▁▁▁</td></tr><tr><td>val_f1_score</td><td>▁▃▂▄▆▆▅▇▅▇██▅██▇▇███▇█▇▇█▇▇▇</td></tr><tr><td>val_loss</td><td>█▂▃▂▂▂▂▂▂▁▁▁▁▁▁▁▁▁▁▁▁▁▁▁▁▁▁▁</td></tr></table><br/></div><div class=\"wandb-col\"><h3>Run summary:</h3><br/><table class=\"wandb\"><tr><td>learning_rate</td><td>0.0</td></tr><tr><td>train_f1_score</td><td>0.55749</td></tr><tr><td>train_loss</td><td>0.99482</td></tr><tr><td>val_f1_score</td><td>0.48287</td></tr><tr><td>val_loss</td><td>1.02327</td></tr></table><br/></div></div>"
      ],
      "text/plain": [
       "<IPython.core.display.HTML object>"
      ]
     },
     "metadata": {},
     "output_type": "display_data"
    },
    {
     "data": {
      "text/html": [
       " View run <strong style=\"color:#cdcd00\">fold_4_RGB_5classes</strong> at: <a href='https://wandb.ai/simon-ecke/wze-uav-5classes/runs/agylr7iv' target=\"_blank\">https://wandb.ai/simon-ecke/wze-uav-5classes/runs/agylr7iv</a><br/>Synced 5 W&B file(s), 0 media file(s), 0 artifact file(s) and 0 other file(s)"
      ],
      "text/plain": [
       "<IPython.core.display.HTML object>"
      ]
     },
     "metadata": {},
     "output_type": "display_data"
    },
    {
     "data": {
      "text/html": [
       "Find logs at: <code>.\\wandb\\run-20230427_203614-agylr7iv\\logs</code>"
      ],
      "text/plain": [
       "<IPython.core.display.HTML object>"
      ]
     },
     "metadata": {},
     "output_type": "display_data"
    },
    {
     "name": "stdout",
     "output_type": "stream",
     "text": [
      "Deleting variables and emptying cache\n",
      "Memory allocated: 1053827584 bytes\n",
      "--------------------------------------------------\n",
      "\n",
      "Fold : 5\n",
      "TRAIN POSITIVE RATIO: 1.2874780946311932\n",
      "VAL POSITIVE RATIO  : 1.2629880606647306\n",
      "LENGTH TRAIN GROUPS : 4724\n",
      "LENGTH VAL GROUPS   : 1179\n"
     ]
    },
    {
     "data": {
      "text/html": [
       "wandb version 0.15.0 is available!  To upgrade, please run:\n",
       " $ pip install wandb --upgrade"
      ],
      "text/plain": [
       "<IPython.core.display.HTML object>"
      ]
     },
     "metadata": {},
     "output_type": "display_data"
    },
    {
     "data": {
      "text/html": [
       "Tracking run with wandb version 0.14.2"
      ],
      "text/plain": [
       "<IPython.core.display.HTML object>"
      ]
     },
     "metadata": {},
     "output_type": "display_data"
    },
    {
     "data": {
      "text/html": [
       "Run data is saved locally in <code>C:\\Users\\lwfeckesim\\01_PyTorch\\wze-uav\\wze-uav-master\\wandb\\run-20230427_230442-8a7st2bm</code>"
      ],
      "text/plain": [
       "<IPython.core.display.HTML object>"
      ]
     },
     "metadata": {},
     "output_type": "display_data"
    },
    {
     "data": {
      "text/html": [
       "Syncing run <strong><a href='https://wandb.ai/simon-ecke/wze-uav-5classes/runs/8a7st2bm' target=\"_blank\">fold_5_RGB_5classes</a></strong> to <a href='https://wandb.ai/simon-ecke/wze-uav-5classes' target=\"_blank\">Weights & Biases</a> (<a href='https://wandb.me/run' target=\"_blank\">docs</a>)<br/>"
      ],
      "text/plain": [
       "<IPython.core.display.HTML object>"
      ]
     },
     "metadata": {},
     "output_type": "display_data"
    },
    {
     "data": {
      "text/html": [
       " View project at <a href='https://wandb.ai/simon-ecke/wze-uav-5classes' target=\"_blank\">https://wandb.ai/simon-ecke/wze-uav-5classes</a>"
      ],
      "text/plain": [
       "<IPython.core.display.HTML object>"
      ]
     },
     "metadata": {},
     "output_type": "display_data"
    },
    {
     "data": {
      "text/html": [
       " View run at <a href='https://wandb.ai/simon-ecke/wze-uav-5classes/runs/8a7st2bm' target=\"_blank\">https://wandb.ai/simon-ecke/wze-uav-5classes/runs/8a7st2bm</a>"
      ],
      "text/plain": [
       "<IPython.core.display.HTML object>"
      ]
     },
     "metadata": {},
     "output_type": "display_data"
    },
    {
     "name": "stdout",
     "output_type": "stream",
     "text": [
      "There are no same hash_id values in train, val or test datasets. The datasplit was successful\n",
      "Check shapes:\n",
      "\n",
      "Images train dataset: (12554, 250, 250, 3)\n",
      "Labels train dataset: (12554, 1)\n",
      "\n",
      "Images validation dataset: (1179, 250, 250, 3)\n",
      "Labels validation dataset: (1179, 1)\n",
      "\n",
      "--------------------------------------------------\n",
      "Check if the split was stratified: (random_state=42)\n",
      "Healthy trees in train dataset: 2367\n",
      "Moderately stressed trees in train dataset: 4966\n",
      "Severely stressed trees in train dataset: 4658\n",
      "Dead trees in train dataset: 371\n",
      "Healthy trees in validation dataset: 228\n",
      "Moderately stressed trees in validation dataset: 496\n",
      "Severely stressed trees in validation dataset: 404\n",
      "Dead trees in validation dataset: 29\n",
      "Ratio health trees in validation dataset: 0.07669021190716448\n",
      "Ratio moderately stressed trees in validation dataset: 0.0795636830285531\n",
      "Ratio severely stressed trees in validation dataset: 0.08636601079575135\n",
      "Ratio dead trees in validation dataset: 0.8879120879120879\n",
      "--------------------------------------------------\n",
      "\n",
      "Creating datasets for fold: 5\n",
      "\n",
      "Creating dataloaders for fold: 5\n",
      "\n",
      "Loaded pretrained weights for efficientnet-b7\n",
      "\n",
      "[INFO] Fold number: 5\n",
      "[INFO] Number of epochs: 50\n",
      "[INFO] Number of classes: 5\n",
      "[INFO] Batch_size: 32\n",
      "[INFO] Number of bands: 3\n",
      "[INFO] Dropout rate: 0.5\n",
      "[INFO] Gamma learning rate: 0.75\n",
      "[INFO] Memory allocated: 0 bytes\n"
     ]
    },
    {
     "data": {
      "application/vnd.jupyter.widget-view+json": {
       "model_id": "cd17ff584fc34286b21c361296706e7d",
       "version_major": 2,
       "version_minor": 0
      },
      "text/plain": [
       "  0%|          | 0/50 [00:00<?, ?it/s]"
      ]
     },
     "metadata": {},
     "output_type": "display_data"
    },
    {
     "name": "stdout",
     "output_type": "stream",
     "text": [
      "Epoch: 1 \n",
      "Learning rate: 0.005\n",
      "Train loss: 1.2734 | Train precision: 0.3235 | Train recall: 0.2709 | Train f1score: 0.2778 | Train acc: 0.3909 | Train kappa: 0.1985 \n",
      "Val loss: 1.3664 | Val precision: 0.1242 | Val recall: 0.2085 | Val f1score: 0.0936 | Val acc: 0.2083 | Val kappa: 0.0285 \n",
      "\n",
      "Epoch: 2 \n",
      "Learning rate: 0.00375\n",
      "Train loss: 1.1639 | Train precision: 0.4190 | Train recall: 0.3937 | Train f1score: 0.3876 | Train acc: 0.4424 | Train kappa: 0.4145 \n",
      "Val loss: 1.3713 | Val precision: 0.3244 | Val recall: 0.2692 | Val f1score: 0.2001 | Val acc: 0.3550 | Val kappa: 0.0574 \n",
      "\n",
      "Epoch: 3 \n",
      "Learning rate: 0.0028125\n",
      "Train loss: 1.1209 | Train precision: 0.4721 | Train recall: 0.4245 | Train f1score: 0.4240 | Train acc: 0.4597 | Train kappa: 0.4880 \n",
      "Val loss: 1.0866 | Val precision: 0.4070 | Val recall: 0.4520 | Val f1score: 0.4210 | Val acc: 0.4653 | Val kappa: 0.4660 \n",
      "\n",
      "Epoch: 4 \n",
      "Learning rate: 0.002109375\n",
      "Train loss: 1.1019 | Train precision: 0.5044 | Train recall: 0.4458 | Train f1score: 0.4484 | Train acc: 0.4850 | Train kappa: 0.5001 \n",
      "Val loss: 1.2586 | Val precision: 0.4089 | Val recall: 0.3547 | Val f1score: 0.3232 | Val acc: 0.3611 | Val kappa: 0.3203 \n",
      "\n",
      "Epoch: 5 \n",
      "Learning rate: 0.00158203125\n",
      "Train loss: 1.0875 | Train precision: 0.5146 | Train recall: 0.4543 | Train f1score: 0.4522 | Train acc: 0.4876 | Train kappa: 0.5158 \n",
      "Val loss: 1.0898 | Val precision: 0.4597 | Val recall: 0.4201 | Val f1score: 0.3787 | Val acc: 0.4340 | Val kappa: 0.3436 \n",
      "\n",
      "Epoch: 6 \n",
      "Learning rate: 0.0011865234375\n",
      "Train loss: 1.0776 | Train precision: 0.4946 | Train recall: 0.4597 | Train f1score: 0.4563 | Train acc: 0.4959 | Train kappa: 0.5317 \n",
      "Val loss: 1.0728 | Val precision: 0.4773 | Val recall: 0.4627 | Val f1score: 0.4590 | Val acc: 0.4757 | Val kappa: 0.4652 \n",
      "\n",
      "Epoch: 7 \n",
      "Learning rate: 0.000889892578125\n",
      "Train loss: 1.0670 | Train precision: 0.5331 | Train recall: 0.4718 | Train f1score: 0.4743 | Train acc: 0.4943 | Train kappa: 0.5239 \n",
      "Val loss: 1.0455 | Val precision: 0.4456 | Val recall: 0.4418 | Val f1score: 0.4290 | Val acc: 0.4948 | Val kappa: 0.4812 \n",
      "\n",
      "Epoch: 8 \n",
      "Learning rate: 0.00066741943359375\n",
      "Train loss: 1.0591 | Train precision: 0.5621 | Train recall: 0.4771 | Train f1score: 0.4883 | Train acc: 0.5029 | Train kappa: 0.5416 \n",
      "Val loss: 1.0643 | Val precision: 0.4814 | Val recall: 0.4608 | Val f1score: 0.4564 | Val acc: 0.4644 | Val kappa: 0.4909 \n",
      "\n",
      "Epoch: 9 \n",
      "Learning rate: 0.0005005645751953125\n",
      "Train loss: 1.0516 | Train precision: 0.5554 | Train recall: 0.4899 | Train f1score: 0.4982 | Train acc: 0.5078 | Train kappa: 0.5537 \n",
      "Val loss: 1.0486 | Val precision: 0.4562 | Val recall: 0.4457 | Val f1score: 0.4499 | Val acc: 0.4783 | Val kappa: 0.4740 \n",
      "\n",
      "Epoch: 10 \n",
      "Learning rate: 0.0003754234313964844\n",
      "Train loss: 1.0415 | Train precision: 0.5779 | Train recall: 0.4922 | Train f1score: 0.5005 | Train acc: 0.5126 | Train kappa: 0.5498 \n",
      "Val loss: 1.0375 | Val precision: 0.5172 | Val recall: 0.4753 | Val f1score: 0.4895 | Val acc: 0.4991 | Val kappa: 0.4919 \n",
      "\n",
      "Epoch: 11 \n",
      "Learning rate: 0.0002815675735473633\n",
      "Train loss: 1.0432 | Train precision: 0.5575 | Train recall: 0.4947 | Train f1score: 0.5051 | Train acc: 0.5022 | Train kappa: 0.5534 \n",
      "Val loss: 1.0344 | Val precision: 0.5073 | Val recall: 0.4824 | Val f1score: 0.4768 | Val acc: 0.4870 | Val kappa: 0.4968 \n",
      "\n",
      "Epoch: 12 \n",
      "Learning rate: 0.00021117568016052246\n",
      "Train loss: 1.0344 | Train precision: 0.5763 | Train recall: 0.5034 | Train f1score: 0.5156 | Train acc: 0.5120 | Train kappa: 0.5612 \n",
      "Val loss: 1.0169 | Val precision: 0.4639 | Val recall: 0.4594 | Val f1score: 0.4599 | Val acc: 0.5035 | Val kappa: 0.4857 \n",
      "\n",
      "Epoch: 13 \n",
      "Learning rate: 0.00015838176012039184\n",
      "Train loss: 1.0306 | Train precision: 0.5763 | Train recall: 0.4980 | Train f1score: 0.5087 | Train acc: 0.5098 | Train kappa: 0.5661 \n",
      "Val loss: 1.0371 | Val precision: 0.5295 | Val recall: 0.4993 | Val f1score: 0.5041 | Val acc: 0.4887 | Val kappa: 0.5186 \n",
      "\n",
      "Epoch: 14 \n",
      "Learning rate: 0.00011878632009029388\n",
      "Train loss: 1.0388 | Train precision: 0.5767 | Train recall: 0.4989 | Train f1score: 0.5158 | Train acc: 0.5092 | Train kappa: 0.5563 \n",
      "Val loss: 1.0386 | Val precision: 0.5169 | Val recall: 0.4724 | Val f1score: 0.4863 | Val acc: 0.4922 | Val kappa: 0.5179 \n",
      "\n",
      "Epoch: 15 \n",
      "Learning rate: 8.908974006772042e-05\n",
      "Train loss: 1.0143 | Train precision: 0.5755 | Train recall: 0.5036 | Train f1score: 0.5204 | Train acc: 0.5147 | Train kappa: 0.5719 \n",
      "Val loss: 1.0565 | Val precision: 0.5010 | Val recall: 0.4833 | Val f1score: 0.4782 | Val acc: 0.4731 | Val kappa: 0.5006 \n",
      "\n",
      "Epoch: 16 \n",
      "Learning rate: 6.681730505079031e-05\n",
      "Train loss: 1.0210 | Train precision: 0.5723 | Train recall: 0.5092 | Train f1score: 0.5221 | Train acc: 0.5116 | Train kappa: 0.5773 \n",
      "Val loss: 1.0483 | Val precision: 0.5093 | Val recall: 0.4814 | Val f1score: 0.4852 | Val acc: 0.4696 | Val kappa: 0.5176 \n",
      "\n",
      "Epoch: 17 \n",
      "Learning rate: 5.0112978788092735e-05\n",
      "Train loss: 1.0313 | Train precision: 0.5727 | Train recall: 0.5022 | Train f1score: 0.5178 | Train acc: 0.5124 | Train kappa: 0.5745 \n",
      "Val loss: 1.0328 | Val precision: 0.5289 | Val recall: 0.4737 | Val f1score: 0.4844 | Val acc: 0.4957 | Val kappa: 0.5186 \n",
      "\n",
      "Epoch: 18 \n",
      "Learning rate: 3.758473409106955e-05\n",
      "Train loss: 1.0183 | Train precision: 0.5782 | Train recall: 0.5133 | Train f1score: 0.5217 | Train acc: 0.5128 | Train kappa: 0.5804 \n",
      "Val loss: 1.0570 | Val precision: 0.5083 | Val recall: 0.4710 | Val f1score: 0.4787 | Val acc: 0.4714 | Val kappa: 0.5062 \n",
      "\n",
      "Epoch: 19 \n",
      "Learning rate: 2.8188550568302163e-05\n",
      "Train loss: 1.0228 | Train precision: 0.5947 | Train recall: 0.5137 | Train f1score: 0.5322 | Train acc: 0.5183 | Train kappa: 0.5833 \n",
      "Val loss: 1.0343 | Val precision: 0.5023 | Val recall: 0.4724 | Val f1score: 0.4820 | Val acc: 0.4948 | Val kappa: 0.5218 \n",
      "\n",
      "Epoch: 20 \n",
      "Learning rate: 2.114141292622662e-05\n",
      "Train loss: 1.0185 | Train precision: 0.5958 | Train recall: 0.5186 | Train f1score: 0.5348 | Train acc: 0.5206 | Train kappa: 0.5689 \n",
      "Val loss: 1.0379 | Val precision: 0.5128 | Val recall: 0.4874 | Val f1score: 0.4932 | Val acc: 0.4852 | Val kappa: 0.5253 \n",
      "\n",
      "Epoch: 21 \n",
      "Learning rate: 1.5856059694669965e-05\n",
      "Train loss: 1.0150 | Train precision: 0.5804 | Train recall: 0.5152 | Train f1score: 0.5260 | Train acc: 0.5218 | Train kappa: 0.5813 \n",
      "Val loss: 1.0419 | Val precision: 0.5103 | Val recall: 0.4751 | Val f1score: 0.4851 | Val acc: 0.4809 | Val kappa: 0.5161 \n",
      "\n",
      "Epoch: 22 \n",
      "Learning rate: 1.1892044771002475e-05\n",
      "Train loss: 1.0218 | Train precision: 0.5889 | Train recall: 0.5068 | Train f1score: 0.5250 | Train acc: 0.5165 | Train kappa: 0.5805 \n",
      "Val loss: 1.0550 | Val precision: 0.5250 | Val recall: 0.4756 | Val f1score: 0.4833 | Val acc: 0.4731 | Val kappa: 0.5167 \n",
      "\n",
      "Epoch: 23 \n",
      "Learning rate: 8.919033578251857e-06\n",
      "Train loss: 1.0206 | Train precision: 0.5883 | Train recall: 0.5179 | Train f1score: 0.5311 | Train acc: 0.5152 | Train kappa: 0.5735 \n",
      "Val loss: 1.0563 | Val precision: 0.5189 | Val recall: 0.4721 | Val f1score: 0.4808 | Val acc: 0.4722 | Val kappa: 0.5111 \n",
      "\n",
      "Early stopping after epoch 23\n"
     ]
    },
    {
     "data": {
      "text/html": [
       "Waiting for W&B process to finish... <strong style=\"color:green\">(success).</strong>"
      ],
      "text/plain": [
       "<IPython.core.display.HTML object>"
      ]
     },
     "metadata": {},
     "output_type": "display_data"
    },
    {
     "data": {
      "application/vnd.jupyter.widget-view+json": {
       "model_id": "4f04640816f44bdf9ef708ed54522b3a",
       "version_major": 2,
       "version_minor": 0
      },
      "text/plain": [
       "VBox(children=(Label(value='0.001 MB of 0.001 MB uploaded (0.000 MB deduped)\\r'), FloatProgress(value=1.0, max…"
      ]
     },
     "metadata": {},
     "output_type": "display_data"
    },
    {
     "data": {
      "text/html": [
       "<style>\n",
       "    table.wandb td:nth-child(1) { padding: 0 10px; text-align: left ; width: auto;} td:nth-child(2) {text-align: left ; width: 100%}\n",
       "    .wandb-row { display: flex; flex-direction: row; flex-wrap: wrap; justify-content: flex-start; width: 100% }\n",
       "    .wandb-col { display: flex; flex-direction: column; flex-basis: 100%; flex: 1; padding: 10px; }\n",
       "    </style>\n",
       "<div class=\"wandb-row\"><div class=\"wandb-col\"><h3>Run history:</h3><br/><table class=\"wandb\"><tr><td>learning_rate</td><td>█▆▅▄▃▃▂▂▂▂▁▁▁▁▁▁▁▁▁▁▁▁▁</td></tr><tr><td>train_f1_score</td><td>▁▄▅▆▆▆▆▇▇▇▇▇▇▇█████████</td></tr><tr><td>train_loss</td><td>█▅▄▃▃▃▂▂▂▂▂▂▁▂▁▁▁▁▁▁▁▁▁</td></tr><tr><td>val_f1_score</td><td>▁▃▇▅▆▇▇▇▇██▇███████████</td></tr><tr><td>val_loss</td><td>██▂▆▂▂▂▂▂▁▁▁▁▁▂▂▁▂▁▁▁▂▂</td></tr></table><br/></div><div class=\"wandb-col\"><h3>Run summary:</h3><br/><table class=\"wandb\"><tr><td>learning_rate</td><td>1e-05</td></tr><tr><td>train_f1_score</td><td>0.53108</td></tr><tr><td>train_loss</td><td>1.02063</td></tr><tr><td>val_f1_score</td><td>0.48075</td></tr><tr><td>val_loss</td><td>1.05631</td></tr></table><br/></div></div>"
      ],
      "text/plain": [
       "<IPython.core.display.HTML object>"
      ]
     },
     "metadata": {},
     "output_type": "display_data"
    },
    {
     "data": {
      "text/html": [
       " View run <strong style=\"color:#cdcd00\">fold_5_RGB_5classes</strong> at: <a href='https://wandb.ai/simon-ecke/wze-uav-5classes/runs/8a7st2bm' target=\"_blank\">https://wandb.ai/simon-ecke/wze-uav-5classes/runs/8a7st2bm</a><br/>Synced 5 W&B file(s), 0 media file(s), 0 artifact file(s) and 0 other file(s)"
      ],
      "text/plain": [
       "<IPython.core.display.HTML object>"
      ]
     },
     "metadata": {},
     "output_type": "display_data"
    },
    {
     "data": {
      "text/html": [
       "Find logs at: <code>.\\wandb\\run-20230427_230442-8a7st2bm\\logs</code>"
      ],
      "text/plain": [
       "<IPython.core.display.HTML object>"
      ]
     },
     "metadata": {},
     "output_type": "display_data"
    },
    {
     "name": "stdout",
     "output_type": "stream",
     "text": [
      "Deleting variables and emptying cache\n",
      "Memory allocated: 1051795968 bytes\n",
      "--------------------------------------------------\n",
      "\n",
      "CPU times: total: 6h 40min 33s\n",
      "Wall time: 14h 9min 1s\n"
     ]
    }
   ],
   "source": [
    "%%time\n",
    "\n",
    "# Set the random seeds\n",
    "set_seeds(42)\n",
    "\n",
    "# Define the number of folds\n",
    "num_folds = 5\n",
    "\n",
    "# group the hashIDs to get the unique values of hashIDs remaining in the subset  \n",
    "groups = sub_hash_id[:, 0] \n",
    "print(\"ORIGINAL POSITIVE RATIO:\", sub_label_set.mean())\n",
    "# create a StratifiedGroupKFold instance\n",
    "kf = StratifiedGroupKFold(n_splits=num_folds, shuffle=True, random_state=42)\n",
    "\n",
    "# loop through the folds\n",
    "for fold, (train_ids, val_ids) in enumerate(kf.split(sub_image_set, sub_label_set, groups)):\n",
    "    print(\"Fold :\", fold+1)\n",
    "    print(\"TRAIN POSITIVE RATIO:\", sub_label_set[train_ids].mean())\n",
    "    print(\"VAL POSITIVE RATIO  :\", sub_label_set[val_ids].mean())\n",
    "    print(\"LENGTH TRAIN GROUPS :\", len(set(groups[train_ids])))\n",
    "    print(\"LENGTH VAL GROUPS   :\", len(set(groups[val_ids])))\n",
    "    \n",
    "    train_ids = sub_hash_id[:, 0][train_ids]\n",
    "    val_ids = np.unique(sub_hash_id[:, 0][val_ids])\n",
    "\n",
    "    torch.cuda.empty_cache()\n",
    "    \n",
    "    # Initialize a new wandb run for this fold\n",
    "    wandb.init(project='wze-uav-5classes', name=f\"fold_{fold + 1}_{extra}\")\n",
    "    \n",
    "    # 1. Split data into train and validation set\n",
    "    # Get the training and testing data for this fold\n",
    "    # Use np.isin() to create boolean arrays indicating which indices belong to train or test sets\n",
    "    train_indices = np.isin(sub_hash_id[:,0], train_ids)\n",
    "    \n",
    "    val_indices = np.zeros_like(train_indices)  # initialize to all False\n",
    "    for hash_id_val in val_ids:\n",
    "        # select one image ID randomly from either 2020 or 2021 or 2022 for each unique hash ID in the test set\n",
    "        temp = np.unique(sub_hash_id[(sub_hash_id[:, 0] == hash_id_val), 1]) # check how many years are available per hashID\n",
    "        if len(temp) == 1:\n",
    "            year = temp[0]\n",
    "        elif len(temp) == 2:\n",
    "            year = np.random.choice(temp)\n",
    "        else:\n",
    "            year = np.random.choice(temp)\n",
    "        \n",
    "        # select image ID using the conditions\n",
    "        image_ids = sub_hash_id[(sub_hash_id[:,0] == hash_id_val) & (sub_hash_id[:,1] == year), 0]\n",
    "    \n",
    "        # mark the index corresponding to the selected image ID and hash ID as True in the test indices array\n",
    "        val_indices[(sub_hash_id[:,0] == hash_id_val) & (sub_hash_id[:,1] == year) & (np.isin(sub_hash_id[:,0], image_ids))] = True \n",
    "    \n",
    "    # Reshape boolean arrays to match shape of image_set and label_set\n",
    "    train_indices = train_indices.reshape(-1, 1)\n",
    "    val_indices = val_indices.reshape(-1, 1)\n",
    "    \n",
    "    # Select images and labels for train and validation sets\n",
    "    train_image_set = sub_image_set[train_indices[:, 0]]\n",
    "    train_label_set = sub_label_set[train_indices[:, 0]]\n",
    "    train_hash_id = sub_hash_id[train_indices[:, 0]][:,0]\n",
    "    train_species_set = sub_species_set[train_indices[:, 0]]\n",
    "    val_image_set = sub_image_set[val_indices[:, 0]]\n",
    "    val_label_set = sub_label_set[val_indices[:, 0]]\n",
    "    val_hash_id = sub_hash_id[val_indices[:, 0]][:,0]\n",
    "    val_species_set = sub_species_set[val_indices[:, 0]]\n",
    "    # reshape \n",
    "    train_label_set = train_label_set.reshape(-1, 1)\n",
    "    val_label_set = val_label_set.reshape(-1, 1)\n",
    "    train_species_set = train_species_set.reshape(-1, 1)\n",
    "    val_species_set = val_species_set.reshape(-1, 1)\n",
    "    \n",
    "    # check if there are any group overlaps between the data splits\n",
    "    hash_set = set(train_hash_id)\n",
    "    val_hash_set = set(val_hash_id)\n",
    "    test_hash_set = set(test_hash_id[:, 0].flatten())\n",
    "    intersection = hash_set.intersection(val_hash_set)\n",
    "    intersection2 = test_hash_set.intersection(val_hash_set)\n",
    "    intersection3 = hash_set.intersection(test_hash_set)\n",
    "    if intersection:\n",
    "        print(f\"Hash_id values in both train and val sets: {len(intersection)}\")\n",
    "        print(f\"Hash_id values in both test and val sets: {len(intersection2)}\")\n",
    "        print(f\"Hash_id values in both train and test sets: {len(intersection3)}\")\n",
    "    else:\n",
    "        print(\"There are no same hash_id values in train, val or test datasets. The datasplit was successful\")\n",
    "    \n",
    "         \n",
    "    print(\"Check shapes:\\n\")\n",
    "    print(f\"Images train dataset: {train_image_set.shape}\")\n",
    "    print(f\"Labels train dataset: {train_label_set.shape}\\n\")\n",
    "    \n",
    "    print(f\"Images validation dataset: {val_image_set.shape}\")\n",
    "    print(f\"Labels validation dataset: {val_label_set.shape}\\n\")\n",
    "    print('-'*50)\n",
    "    print (f\"Check if the split was stratified: (random_state=42)\")\n",
    "    print(f\"Healthy trees in train dataset: {np.count_nonzero(train_label_set == 0)}\")\n",
    "    print(f\"Moderately stressed trees in train dataset: {np.count_nonzero(train_label_set == 1)}\")\n",
    "    print(f\"Severely stressed trees in train dataset: {np.count_nonzero(train_label_set == 2)}\")\n",
    "    print(f\"Dead trees in train dataset: {np.count_nonzero(train_label_set == 3)}\")\n",
    "    print(f\"Healthy trees in validation dataset: {np.count_nonzero(val_label_set == 0)}\")\n",
    "    print(f\"Moderately stressed trees in validation dataset: {np.count_nonzero(val_label_set == 1)}\")\n",
    "    print(f\"Severely stressed trees in validation dataset: {np.count_nonzero(val_label_set == 2)}\")\n",
    "    print(f\"Dead trees in validation dataset: {np.count_nonzero(val_label_set == 3)}\")\n",
    "    print(f\"Ratio health trees in validation dataset: {np.count_nonzero(val_label_set == 0)/np.count_nonzero(sub_label_set == 0)}\")\n",
    "    print(f\"Ratio moderately stressed trees in validation dataset: {np.count_nonzero(val_label_set == 1)/np.count_nonzero(sub_label_set == 1)}\")\n",
    "    print(f\"Ratio severely stressed trees in validation dataset: {np.count_nonzero(val_label_set == 1)/np.count_nonzero(sub_label_set == 2)}\")\n",
    "    print(f\"Ratio dead trees in validation dataset: {np.count_nonzero(val_label_set == 2)/np.count_nonzero(sub_label_set == 3)}\")\n",
    "    print(\"-\"*50)\n",
    "   \n",
    "    # 2. Create train and validation dataset. (choose custom dataset loader with 3 - 5 classes)\n",
    "    print(f\"\\nCreating datasets for fold: {fold + 1}\\n\")\n",
    "    train_dataset = data_loader.CustomDataset(data=train_image_set, labels=train_label_set, class_names=class_names, species = train_species_set,\n",
    "                                                         transform=transform_train)\n",
    "    \n",
    "    val_dataset = data_loader.CustomDataset(data=val_image_set, labels=val_label_set, class_names=class_names,\n",
    "                                                       species = val_species_set, transform=transform)\n",
    "   \n",
    "    # 3. Create train and validation dataloader\n",
    "    # create sampler for oversampling of the minority classes\n",
    "    sampler = data_loader.data_sampler(dataset=train_dataset, class_names=class_names)\n",
    "    print(f\"Creating dataloaders for fold: {fold +1}\\n\")\n",
    "    train_dataloader = DataLoader(train_dataset, batch_size=batch_size, persistent_workers=True, pin_memory=True, num_workers=NUM_WORKERS, generator=g,\n",
    "                              sampler=sampler, shuffle=False, drop_last=True) # shuffle false because of the sampler\n",
    "\n",
    "    val_dataloader = DataLoader(val_dataset, batch_size=batch_size, persistent_workers=True, pin_memory=True, num_workers=NUM_WORKERS, shuffle=False,\n",
    "                             drop_last=True)\n",
    "    \n",
    "    model = model_effnet.EfficientNet.from_pretrained('efficientnet-b7', in_channels=n_bands, num_classes=num_classes, dropout_rate=dropout_rate)\n",
    "    #model = models.create_effnetb7(output_shape=num_classes, unfreeze=True, dropout_rate=dropout_rate, device=device)\n",
    "   \n",
    "    loss_fn = nn.CrossEntropyLoss()\n",
    "    optimizer = torch.optim.Adam(params=model.parameters(), lr=lr)\n",
    "    lr_scheduler = CustomExponentialLR(optimizer, gamma=gamma, min_lr=min_lr)\n",
    "\n",
    "    fold += 1\n",
    "    print(f\"\\n[INFO] Fold number: {fold}\")\n",
    "    print(f\"[INFO] Number of epochs: {epochs}\")\n",
    "    print(f\"[INFO] Number of classes: {num_classes}\")\n",
    "    print(f\"[INFO] Batch_size: {batch_size}\")\n",
    "    print(f\"[INFO] Number of bands: {n_bands}\")\n",
    "    print(f\"[INFO] Dropout rate: {dropout_rate}\")\n",
    "    print(f\"[INFO] Gamma learning rate: {gamma}\")\n",
    "    print(f\"[INFO] Memory allocated: {torch.cuda.memory_allocated()} bytes\")\n",
    "    # 4. Train model with k fold dataloaders and track experiments\n",
    "    \n",
    "    if fold == 1:\n",
    "        fold1_results = train(model=model, model_name=model_name, n_bands=n_bands, batch_size=batch_size,train_dataloader=train_dataloader, val_dataloader=val_dataloader, \n",
    "                        optimizer=optimizer, loss_fn=loss_fn, lr_scheduler=lr_scheduler, num_classes=num_classes, epochs=epochs, experiment_num=fold, device=device,\n",
    "                        writer=None, early_stop_patience = patience)\n",
    "       \n",
    "    elif fold == 2:\n",
    "        fold2_results = train(model=model, model_name=model_name, n_bands=n_bands, batch_size=batch_size,train_dataloader=train_dataloader, val_dataloader=val_dataloader, \n",
    "                        optimizer=optimizer, loss_fn=loss_fn, lr_scheduler=lr_scheduler, num_classes=num_classes, epochs=epochs, experiment_num=fold, device=device,\n",
    "                        writer=None, early_stop_patience = patience)\n",
    "    elif fold == 3:\n",
    "        fold3_results = train(model=model, model_name=model_name, n_bands=n_bands, batch_size=batch_size,train_dataloader=train_dataloader, val_dataloader=val_dataloader, \n",
    "                        optimizer=optimizer, loss_fn=loss_fn, lr_scheduler=lr_scheduler, num_classes=num_classes, epochs=epochs, experiment_num=fold, device=device,\n",
    "                        writer=None, early_stop_patience = patience)\n",
    "    elif fold == 4:\n",
    "        fold4_results = train(model=model, model_name=model_name, n_bands=n_bands, batch_size=batch_size,train_dataloader=train_dataloader, val_dataloader=val_dataloader, \n",
    "                        optimizer=optimizer, loss_fn=loss_fn, lr_scheduler=lr_scheduler, num_classes=num_classes, epochs=epochs, experiment_num=fold, device=device,\n",
    "                        writer=None, early_stop_patience = patience)\n",
    "    else:\n",
    "        fold5_results = train(model=model, model_name=model_name, n_bands=n_bands, batch_size=batch_size,train_dataloader=train_dataloader, val_dataloader=val_dataloader, \n",
    "                        optimizer=optimizer, loss_fn=loss_fn, lr_scheduler=lr_scheduler, num_classes=num_classes, epochs=epochs, experiment_num=fold, device=device,\n",
    "                        writer=None, early_stop_patience = patience)\n",
    "    \n",
    "    del train_indices, val_indices, train_image_set, train_label_set, train_hash_id, train_species_set, val_image_set, val_label_set, val_hash_id, val_species_set,\n",
    "    train_dataset, val_dataset, sampler, train_dataloader, val_dataloader, model, loss_fn, optimizer, lr_scheduler\n",
    "    \n",
    "    #finish the wandb run\n",
    "    wandb.finish()\n",
    "    print(\"Deleting variables and emptying cache\")\n",
    "    gc.collect()\n",
    "    torch.cuda.empty_cache()\n",
    "    print(f\"Memory allocated: {torch.cuda.memory_allocated()} bytes\")\n",
    "    print(\"-\"*50 + \"\\n\")"
   ]
  },
  {
   "cell_type": "markdown",
   "id": "d7402d31",
   "metadata": {},
   "source": [
    "#### Create test dataset and test dataloader "
   ]
  },
  {
   "cell_type": "code",
   "execution_count": null,
   "id": "c0c36ebb",
   "metadata": {},
   "outputs": [],
   "source": [
    "# create test dataset\n",
    "test_dataset = data_loader.CustomTestDataset(\n",
    "    data = test_image_set,\n",
    "    labels = test_label_set,\n",
    "    class_names=class_names, \n",
    "    species = test_species_set,\n",
    "    kkl = None,\n",
    "    transform=transform\n",
    ")\n",
    "\n"
   ]
  },
  {
   "cell_type": "code",
   "execution_count": null,
   "id": "5745d555",
   "metadata": {},
   "outputs": [],
   "source": [
    "# create test dataloader\n",
    "test_dataloader = DataLoader(test_dataset,\n",
    "                             batch_size=batch_size,\n",
    "                             persistent_workers=True,\n",
    "                             pin_memory=True,\n",
    "                             num_workers=NUM_WORKERS,\n",
    "                             shuffle=False,\n",
    "                             drop_last=True)"
   ]
  },
  {
   "cell_type": "markdown",
   "id": "22cdaac7",
   "metadata": {},
   "source": [
    "#### Perform ensembling of the five best models"
   ]
  },
  {
   "cell_type": "code",
   "execution_count": null,
   "id": "67db5af2",
   "metadata": {},
   "outputs": [],
   "source": [
    "# Setup the best model filepaths\n",
    "best_model1_path = r\"C:\\Users\\lwfeckesim\\01_PyTorch\\wze-uav\\wze-uav-master\\effnet_b0\\01_18_epochs.pth\"\n",
    "best_model2_path = r\"C:\\Users\\lwfeckesim\\01_PyTorch\\wze-uav\\wze-uav-master\\effnet_b0\\01_18_epochs.pth\"\n",
    "best_model3_path = r\"C:\\Users\\lwfeckesim\\01_PyTorch\\wze-uav\\wze-uav-master\\effnet_b0\\01_18_epochs.pth\"\n",
    "best_model4_path = r\"C:\\Users\\lwfeckesim\\01_PyTorch\\wze-uav\\wze-uav-master\\effnet_b0\\01_18_epochs.pth\"\n",
    "best_model5_path = r\"C:\\Users\\lwfeckesim\\01_PyTorch\\wze-uav\\wze-uav-master\\effnet_b0\\01_18_epochs.pth\"\n",
    "\n",
    "# Instantiate a new instance of EffNetB7 (to load the saved state_dict() to)\n",
    "model1 = models.create_effnetb7(output_shape=num_classes, unfreeze=unfreeze, dropout_rate=dropout_rate, device=device)\n",
    "model2 = models.create_effnetb7(output_shape=num_classes, unfreeze=unfreeze, dropout_rate=dropout_rate, device=device)\n",
    "model3 = models.create_effnetb7(output_shape=num_classes, unfreeze=unfreeze, dropout_rate=dropout_rate, device=device)\n",
    "model4 = models.create_effnetb7(output_shape=num_classes, unfreeze=unfreeze, dropout_rate=dropout_rate, device=device)\n",
    "model5 = models.create_effnetb7(output_shape=num_classes, unfreeze=unfreeze, dropout_rate=dropout_rate, device=device)\n",
    "# for custom models with more than three bands as input\n",
    "#model1 = model_effnet.EfficientNet.from_pretrained('efficientnet-b7', in_channels=n_bands, num_classes=num_classes, dropout_rate=dropout_rate)\n",
    "#model2 = model_effnet.EfficientNet.from_pretrained('efficientnet-b7', in_channels=n_bands, num_classes=num_classes, dropout_rate=dropout_rate)\n",
    "#model3 = model_effnet.EfficientNet.from_pretrained('efficientnet-b7', in_channels=n_bands, num_classes=num_classes, dropout_rate=dropout_rate)\n",
    "#model4 = model_effnet.EfficientNet.from_pretrained('efficientnet-b7', in_channels=n_bands, num_classes=num_classes, dropout_rate=dropout_rate)\n",
    "#model5 = model_effnet.EfficientNet.from_pretrained('efficientnet-b7', in_channels=n_bands, num_classes=num_classes, dropout_rate=dropout_rate)\n",
    "\n",
    "# Load the saved best model state_dict()\n",
    "model1.load_state_dict(torch.load(best_model1_path))\n",
    "model2.load_state_dict(torch.load(best_model2_path))\n",
    "model3.load_state_dict(torch.load(best_model3_path))\n",
    "model4.load_state_dict(torch.load(best_model4_path))\n",
    "model5.load_state_dict(torch.load(best_model5_path))\n",
    "\n",
    "model1.eval()\n",
    "model2.eval()\n",
    "model3.eval()\n",
    "model4.eval()\n",
    "model5.eval()\n",
    "\n",
    "# Initialize the lists to store the predictions\n",
    "all_preds_model1 = []\n",
    "all_preds_model2 = []\n",
    "all_preds_model3 = []\n",
    "all_preds_model4 = []\n",
    "all_preds_model5 = []\n",
    "\n",
    "# Loop through the test dataset and generate predictions for each model\n",
    "with torch.no_grad():\n",
    "    for batch in test_dataloader:\n",
    "        inputs, labels = batch\n",
    "        inputs, labels = inputs.to(device), labels.to(device)\n",
    "        \n",
    "        # Generate predictions for each model\n",
    "        preds_model1 = model1(inputs)\n",
    "        preds_model2 = model2(inputs)\n",
    "        preds_model3 = model3(inputs)\n",
    "        preds_model4 = model4(inputs)\n",
    "        preds_model5 = model5(inputs)\n",
    "\n",
    "        # Append the predictions to the corresponding list\n",
    "        all_preds_model1.append(preds_model1.cpu().numpy())\n",
    "        all_preds_model2.append(preds_model2.cpu().numpy())\n",
    "        all_preds_model3.append(preds_model3.cpu().numpy())\n",
    "        all_preds_model4.append(preds_model4.cpu().numpy())\n",
    "        all_preds_model5.append(preds_model5.cpu().numpy())\n",
    "\n",
    "# Concatenate the predictions from all the models\n",
    "all_preds_model1 = np.concatenate(all_preds_model1)\n",
    "all_preds_model2 = np.concatenate(all_preds_model2)\n",
    "all_preds_model3 = np.concatenate(all_preds_model3)\n",
    "all_preds_model4 = np.concatenate(all_preds_model4)\n",
    "all_preds_model5 = np.concatenate(all_preds_model5)\n",
    "\n",
    "# Calculate the ensemble predictions\n",
    "ensemble_preds = np.mean([all_preds_model1, all_preds_model2, all_preds_model3, all_preds_model4, all_preds_model5], axis=0)\n",
    "ensemble_labels = np.argmax(ensemble_preds, axis=1)\n",
    "\n",
    "# Calculate the evaluation metrics for the ensemble model\n",
    "from sklearn.metrics import classification_report, confusion_matrix\n",
    "\n",
    "print(classification_report(test_labels, ensemble_labels))\n",
    "print(confusion_matrix(test_labels, ensemble_labels))\n",
    "\n",
    "\n",
    "\n",
    "\n"
   ]
  },
  {
   "cell_type": "code",
   "execution_count": null,
   "id": "6dfbc663",
   "metadata": {},
   "outputs": [],
   "source": [
    "def make_predictions(model: torch.nn.Module, \n",
    "                     test_dataloader: torch.utils.data.DataLoader,\n",
    "                     device: torch.device):\n",
    "    # 1. Make predictions with trained model\n",
    "    y_preds = []\n",
    "    y_labels = []\n",
    "    species_list = []\n",
    "    test_loss, test_precision, test_recall, test_f1_score, test_acc = 0, 0, 0, 0, 0\n",
    "    count = 0\n",
    "    model.eval()\n",
    "    with torch.inference_mode():\n",
    "        for X, y, species in tqdm(test_dataloader, desc=\"Making predictions\"):\n",
    "            # Send data and targets to target device\n",
    "            X, y = X.to(device), y.to(device)\n",
    "            # Do the forward pass\n",
    "            y_logit = model(X)\n",
    "            # Turn predictions from logits -> prediction probabilities -> predictions labels\n",
    "            y_pred = torch.softmax(y_logit, dim=1).argmax(dim=1)\n",
    "            # Put predictions on CPU for evaluation\n",
    "            y_preds.append(y_pred.cpu())\n",
    "            y_labels.append(y.cpu())\n",
    "            species_list.append(species)\n",
    "            \n",
    "            #other metrics\n",
    "            test_acc += ((y_pred == y).sum().item()/len(y_pred))\n",
    "            y_pred_class = y_pred.detach().cpu().numpy() \n",
    "            y_class = y.detach().cpu().numpy()\n",
    "            labels = np.array([0])\n",
    "            test_precision += precision_score(y_class, y_pred_class, average='macro', zero_division=0, labels=[0,1,2])\n",
    "            test_recall += recall_score(y_class, y_pred_class, average='macro', zero_division=0, labels=[0,1,2])\n",
    "            #test_f1_score += f1_score(y_class, y_pred_class, average='macro', zero_division=1, labels=labels)\n",
    "            \n",
    "            #if count >= 1:\n",
    "            #    y_set = torch.cat((y_set, y))\n",
    "            #    count = count + 1\n",
    "            #else:\n",
    "            #    y_set = y\n",
    "            #    count = count + 1\n",
    "            \n",
    "    test_loss = test_loss / len(test_dataloader)\n",
    "    test_precision = test_precision / len(test_dataloader)\n",
    "    test_recall = test_recall / len(test_dataloader)\n",
    "    test_f1_score = test_f1_score / len(test_dataloader)\n",
    "    #test_kappa = test_kappa / len(dataloader)\n",
    "    test_acc = test_acc / len(test_dataloader)\n",
    "    # Concatenate list of predictions into a tensor\n",
    "    y_pred_tensor = torch.cat(y_preds)\n",
    "    y_labels_tensor = torch.cat(y_labels)\n",
    "    test_f1_score = f1_score(y_labels_tensor.detach().cpu().numpy(), y_pred_tensor.cpu().numpy(), average='macro', zero_division=1, labels=[0,1,2])\n",
    "    \n",
    "    # Print classification report\n",
    "    y_true = y_labels_tensor.detach().cpu().numpy()\n",
    "    report = classification_report(y_true, y_pred_tensor.cpu().numpy(), target_names=class_names)\n",
    "    print(report)\n",
    "    \n",
    "    return y_pred_tensor, y_labels_tensor, test_loss, test_recall, test_precision, test_f1_score, test_acc, y_logit, y_pred, y, y_preds"
   ]
  },
  {
   "cell_type": "code",
   "execution_count": null,
   "id": "aab9e321",
   "metadata": {},
   "outputs": [],
   "source": [
    "# 2. Setup confusion matrix instance and compare predictions to targets\n",
    "#from wze_uav.analysis import *\n",
    "y_pred_tensor, y_labels_tensor, test_loss, test_recall, test_precision, test_f1_score, test_acc, y_logit, y_pred, y, y_preds = make_predictions(model=best_model,\n",
    "                                 test_dataloader=test_dataloader, \n",
    "                                 device=device)\n",
    "\n",
    "y_labels_tensor = y_labels_tensor.detach().cpu().numpy()\n",
    "y_pred_tensor = y_pred_tensor.detach().cpu().numpy()\n",
    "\n",
    "#confmat = ConfusionMatrix(num_classes=num_classes, task='multiclass')\n",
    "#confmat_tensor = confmat(preds=y_pred_tensor,\n",
    "#                         target=test_labels)\n",
    "labels = np.array([0,1,2])\n",
    "confmat = confusion_matrix(y_labels_tensor, y_pred_tensor, labels=labels)\n",
    "\n",
    "# 3. Plot the confusion matrix\n",
    "fig, ax = plot_confusion_matrix(\n",
    "    conf_mat=confmat, # matplotlib likes working with NumPy \n",
    "    class_names=class_names, # turn the row and column labels into class names\n",
    "    figsize=(10, 7)\n",
    ");\n",
    "\n",
    "print(f\"Test loss: {test_loss}\")\n",
    "print(f\"Test precision: {test_precision}\")\n",
    "print(f\"Test recall: {test_recall}\")\n",
    "print(f\"Test F1score: {test_f1_score}\")\n",
    "#print(f\"Test Kappa: {test_kappa}\")\n",
    "print(f\"Test Accuracy: {test_acc}\")\n",
    "print(f\"Test Logits: {y_logit}\")\n",
    "print(f\"Test Predictions: {y_pred}\")\n",
    "print(f\"Test Labels: {y}\")"
   ]
  },
  {
   "cell_type": "code",
   "execution_count": null,
   "id": "8d4173b3",
   "metadata": {},
   "outputs": [],
   "source": [
    "len(y_preds)"
   ]
  },
  {
   "cell_type": "code",
   "execution_count": null,
   "id": "7588116f",
   "metadata": {},
   "outputs": [],
   "source": [
    "y_set.cpu()"
   ]
  },
  {
   "cell_type": "code",
   "execution_count": null,
   "id": "1c195b3e",
   "metadata": {},
   "outputs": [],
   "source": [
    "test_dataset.labels"
   ]
  },
  {
   "cell_type": "code",
   "execution_count": null,
   "id": "975ec08c",
   "metadata": {},
   "outputs": [],
   "source": []
  },
  {
   "cell_type": "code",
   "execution_count": null,
   "id": "6da05604",
   "metadata": {},
   "outputs": [],
   "source": [
    "y_preds = []\n",
    "y_labels = []\n",
    "labels = np.array([0,1,2])\n",
    "test_loss, test_precision, test_recall, test_f1_score, test_acc = 0, 0, 0, 0, 0\n",
    "count = 0\n",
    "model.eval()\n",
    "with torch.inference_mode():\n",
    "    for X, y in tqdm(test_dataloader, desc=\"Making predictions\"):\n",
    "        # Send data and targets to target device\n",
    "        X, y = X.to(device), y.to(device)\n",
    "        # Do the forward pass\n",
    "        y_logit = model(X)\n",
    "        # Turn predictions from logits -> prediction probabilities -> predictions labels\n",
    "        y_pred = torch.softmax(y_logit, dim=1).argmax(dim=1)\n",
    "        # Put predictions on CPU for evaluation\n",
    "        y_preds.append(y_pred.cpu())\n",
    "        y_labels.append(y.cpu())\n",
    "        \n",
    "        #other metrics\n",
    "        test_acc += ((y_pred == y).sum().item()/len(y_pred))\n",
    "        y_pred_class = y_pred.detach().cpu().numpy() \n",
    "        y_class = y.detach().cpu().numpy()\n",
    "        test_precision += precision_score(y_class, y_pred_class, average='macro', zero_division=1, labels=labels)\n",
    "        test_recall += recall_score(y_class, y_pred_class, average='macro', zero_division=1, labels=labels)\n",
    "        #test_f1_score += f1_score(y_class, y_pred_class, average='macro', zero_division=1, labels=labels)\n",
    "        \n",
    "        #if count >= 1:\n",
    "        #    y_set = torch.cat((y_set, y))\n",
    "        #    count = count + 1\n",
    "        #else:\n",
    "        #    y_set = y\n",
    "        #    count = count + 1\n",
    "        \n",
    "test_loss = test_loss / len(test_dataloader)\n",
    "test_precision = test_precision / len(test_dataloader)\n",
    "test_recall = test_recall / len(test_dataloader)\n",
    "#test_f1_score = test_f1_score / len(test_dataloader)\n",
    "#test_kappa = test_kappa / len(dataloader)\n",
    "test_acc = test_acc / len(test_dataloader)\n",
    "# Concatenate list of predictions into a tensor\n",
    "y_pred_tensor = torch.cat(y_preds)\n",
    "test_f1_score = f1_score(y_set.detach().cpu().numpy(), y_pred_tensor.cpu().numpy(), average='macro', zero_division=0, labels=[0,1,2])\n",
    "\n",
    "# Print classification report\n",
    "y_true = y_set.detach().cpu().numpy()\n",
    "report = classification_report(y_true, y_pred_tensor.cpu().numpy(), target_names=class_names)\n",
    "print(report)"
   ]
  },
  {
   "cell_type": "code",
   "execution_count": null,
   "id": "6ae97fab",
   "metadata": {},
   "outputs": [],
   "source": [
    "test_f1_score"
   ]
  },
  {
   "cell_type": "code",
   "execution_count": null,
   "id": "7ebafd9b",
   "metadata": {},
   "outputs": [],
   "source": [
    "make = (y_class == y_pred_class)\n",
    "make"
   ]
  },
  {
   "cell_type": "code",
   "execution_count": null,
   "id": "4f8aa759",
   "metadata": {},
   "outputs": [],
   "source": [
    "torch.softmax(y_logit, dim=1).argmax(dim=1)"
   ]
  },
  {
   "cell_type": "code",
   "execution_count": null,
   "id": "f90a54b2",
   "metadata": {},
   "outputs": [],
   "source": [
    "y"
   ]
  },
  {
   "cell_type": "code",
   "execution_count": null,
   "id": "5a806154",
   "metadata": {},
   "outputs": [],
   "source": [
    "test = (y_pred == y).sum().item()/16"
   ]
  },
  {
   "cell_type": "code",
   "execution_count": null,
   "id": "1da35c56",
   "metadata": {},
   "outputs": [],
   "source": [
    "test"
   ]
  },
  {
   "cell_type": "code",
   "execution_count": null,
   "id": "b1eb246e",
   "metadata": {},
   "outputs": [],
   "source": [
    " y_pred_class = y_pred.detach().cpu().numpy() "
   ]
  },
  {
   "cell_type": "code",
   "execution_count": null,
   "id": "602e096f",
   "metadata": {},
   "outputs": [],
   "source": [
    "y_pred_class"
   ]
  },
  {
   "cell_type": "code",
   "execution_count": null,
   "id": "eaf1af09",
   "metadata": {},
   "outputs": [],
   "source": []
  }
 ],
 "metadata": {
  "kernelspec": {
   "display_name": "Python 3 (ipykernel)",
   "language": "python",
   "name": "python3"
  },
  "language_info": {
   "codemirror_mode": {
    "name": "ipython",
    "version": 3
   },
   "file_extension": ".py",
   "mimetype": "text/x-python",
   "name": "python",
   "nbconvert_exporter": "python",
   "pygments_lexer": "ipython3",
   "version": "3.9.16"
  }
 },
 "nbformat": 4,
 "nbformat_minor": 5
}
