{
 "cells": [
  {
   "cell_type": "markdown",
   "id": "c1acdaa3",
   "metadata": {},
   "source": [
    "# WZE-UAV Image Classification using Deep Learning"
   ]
  },
  {
   "cell_type": "code",
   "execution_count": 1,
   "id": "2159aac5",
   "metadata": {},
   "outputs": [],
   "source": [
    "import os\n",
    "import gc\n",
    "import glob\n",
    "import numpy as np\n",
    "from pathlib import Path\n",
    "from tqdm.auto import tqdm\n",
    "from sklearn.metrics import confusion_matrix, classification_report\n",
    "from sklearn.model_selection import KFold"
   ]
  },
  {
   "cell_type": "code",
   "execution_count": 2,
   "id": "0026f7a9",
   "metadata": {},
   "outputs": [],
   "source": [
    "import torch\n",
    "import torchvision.transforms as T\n",
    "import torchvision\n",
    "from torch import nn\n",
    "from torch.utils.data import DataLoader\n",
    "from torchvision import datasets, transforms\n",
    "from torch.utils.data import Dataset\n",
    "import torch.optim as optim\n",
    "from torch.optim.lr_scheduler import ExponentialLR\n",
    "from mlxtend.plotting import plot_confusion_matrix"
   ]
  },
  {
   "cell_type": "code",
   "execution_count": 3,
   "id": "b160d7b4",
   "metadata": {},
   "outputs": [],
   "source": [
    "import wze_uav.data_loader as data_loader\n",
    "import wze_uav.models as models\n",
    "from wze_uav.engine import *\n",
    "from wze_uav.utils2 import *\n",
    "#from wze_uav.log_writer import create_writer\n",
    "from wze_uav.datasplit import *\n",
    "from efficientnet import model_effnet #for custom effnet with n_channels input\n",
    "import wandb"
   ]
  },
  {
   "cell_type": "markdown",
   "id": "2bd4fb2f",
   "metadata": {},
   "source": [
    "#### Get PyTorch version"
   ]
  },
  {
   "cell_type": "code",
   "execution_count": 4,
   "id": "c10886b1",
   "metadata": {},
   "outputs": [
    {
     "name": "stdout",
     "output_type": "stream",
     "text": [
      "torch version: 1.13.1+cu116\n",
      "torchvision version: 0.14.1+cu116\n"
     ]
    }
   ],
   "source": [
    "print(f\"torch version: {torch.__version__}\")\n",
    "print(f\"torchvision version: {torchvision.__version__}\")"
   ]
  },
  {
   "cell_type": "markdown",
   "id": "aa6a83cf",
   "metadata": {},
   "source": [
    "#### Preparing device agnostic code "
   ]
  },
  {
   "cell_type": "code",
   "execution_count": 5,
   "id": "13d5de88",
   "metadata": {},
   "outputs": [
    {
     "name": "stdout",
     "output_type": "stream",
     "text": [
      "cuda\n",
      "Index of current divice: 0\n",
      "Number of GPUs available: 1\n",
      "GPU Model: Quadro RTX 8000\n"
     ]
    }
   ],
   "source": [
    "# ensure device agnostic code\n",
    "device = 'cuda' if torch.cuda.is_available() else 'cpu'\n",
    "print(device)\n",
    "\n",
    "# get index of currently selected device\n",
    "print(f\"Index of current divice: {torch.cuda.current_device()}\")\n",
    "# get number of GPUs available\n",
    "print(f\"Number of GPUs available: {torch.cuda.device_count()}\")\n",
    "# get the name of the device\n",
    "print(f\"GPU Model: {torch.cuda.get_device_name(0)}\")"
   ]
  },
  {
   "cell_type": "markdown",
   "id": "8ef6b169",
   "metadata": {},
   "source": [
    "#### Login to Weights & Biases to track results"
   ]
  },
  {
   "cell_type": "code",
   "execution_count": 6,
   "id": "a59d27cf",
   "metadata": {},
   "outputs": [
    {
     "name": "stderr",
     "output_type": "stream",
     "text": [
      "Failed to detect the name of this notebook, you can set it manually with the WANDB_NOTEBOOK_NAME environment variable to enable code saving.\n",
      "\u001b[34m\u001b[1mwandb\u001b[0m: Currently logged in as: \u001b[33msimon-ecke\u001b[0m. Use \u001b[1m`wandb login --relogin`\u001b[0m to force relogin\n"
     ]
    },
    {
     "data": {
      "text/html": [
       "wandb version 0.15.3 is available!  To upgrade, please run:\n",
       " $ pip install wandb --upgrade"
      ],
      "text/plain": [
       "<IPython.core.display.HTML object>"
      ]
     },
     "metadata": {},
     "output_type": "display_data"
    },
    {
     "data": {
      "text/html": [
       "Tracking run with wandb version 0.14.2"
      ],
      "text/plain": [
       "<IPython.core.display.HTML object>"
      ]
     },
     "metadata": {},
     "output_type": "display_data"
    },
    {
     "data": {
      "text/html": [
       "Run data is saved locally in <code>C:\\Users\\lwfeckesim\\01_PyTorch\\wze-uav\\wze-uav-master\\wandb\\run-20230519_122641-w51k5cvn</code>"
      ],
      "text/plain": [
       "<IPython.core.display.HTML object>"
      ]
     },
     "metadata": {},
     "output_type": "display_data"
    },
    {
     "data": {
      "text/html": [
       "Syncing run <strong><a href='https://wandb.ai/simon-ecke/wze-uav-combined-treewise/runs/w51k5cvn' target=\"_blank\">chocolate-water-7</a></strong> to <a href='https://wandb.ai/simon-ecke/wze-uav-combined-treewise' target=\"_blank\">Weights & Biases</a> (<a href='https://wandb.me/run' target=\"_blank\">docs</a>)<br/>"
      ],
      "text/plain": [
       "<IPython.core.display.HTML object>"
      ]
     },
     "metadata": {},
     "output_type": "display_data"
    },
    {
     "data": {
      "text/html": [
       " View project at <a href='https://wandb.ai/simon-ecke/wze-uav-combined-treewise' target=\"_blank\">https://wandb.ai/simon-ecke/wze-uav-combined-treewise</a>"
      ],
      "text/plain": [
       "<IPython.core.display.HTML object>"
      ]
     },
     "metadata": {},
     "output_type": "display_data"
    },
    {
     "data": {
      "text/html": [
       " View run at <a href='https://wandb.ai/simon-ecke/wze-uav-combined-treewise/runs/w51k5cvn' target=\"_blank\">https://wandb.ai/simon-ecke/wze-uav-combined-treewise/runs/w51k5cvn</a>"
      ],
      "text/plain": [
       "<IPython.core.display.HTML object>"
      ]
     },
     "metadata": {},
     "output_type": "display_data"
    },
    {
     "data": {
      "text/html": [
       "<button onClick=\"this.nextSibling.style.display='block';this.style.display='none';\">Display W&B run</button><iframe src='https://wandb.ai/simon-ecke/wze-uav-combined-treewise/runs/w51k5cvn?jupyter=true' style='border:none;width:100%;height:420px;display:none;'></iframe>"
      ],
      "text/plain": [
       "<wandb.sdk.wandb_run.Run at 0x2a13e3e4880>"
      ]
     },
     "execution_count": 6,
     "metadata": {},
     "output_type": "execute_result"
    }
   ],
   "source": [
    "# IMPORTANT: The proxy needs to be set in anaconda!\n",
    "# copy paste this in anaconda and restart jupyter notebook\n",
    "#set http_proxy=http://www-proxy.bayern.de:80\n",
    "#set https_proxy=http://www-proxy.bayern.de:80\n",
    "wandb.login()\n",
    "#wandb.init(settings=wandb.Settings(start_method=\"thread\"))\n",
    "wandb.init(project='wze-uav-combined-treewise', entity='simon-ecke')"
   ]
  },
  {
   "cell_type": "markdown",
   "id": "a26a6a34",
   "metadata": {},
   "source": [
    "#### Ensure reproducibility "
   ]
  },
  {
   "cell_type": "code",
   "execution_count": 7,
   "id": "dd4656a7",
   "metadata": {},
   "outputs": [],
   "source": [
    "# for more information, see also: https://pytorch.org/docs/stable/notes/randomness.html\n",
    "\n",
    "# Set seeds\n",
    "def set_seeds(seed: int=42):\n",
    "    \"\"\"Sets random sets for torch operations.\n",
    "\n",
    "    Args:\n",
    "        seed (int, optional): Random seed to set. Defaults to 42.\n",
    "    \"\"\"\n",
    "    # Set the seed for general torch operations\n",
    "    torch.manual_seed(seed)\n",
    "    # Set the seed for CUDA torch operations (ones that happen on the GPU)\n",
    "    torch.cuda.manual_seed(seed)\n",
    "    # seed for numpy\n",
    "    np.random.seed(seed)\n",
    "\n",
    "set_seeds(42) \n",
    "\n",
    "# Set to true -> might speed up the process but should be set to False if reproducible results are desired\n",
    "torch.backends.cudnn.benchmark = False\n"
   ]
  },
  {
   "cell_type": "markdown",
   "id": "8be33671",
   "metadata": {},
   "source": [
    "#### Define file directory"
   ]
  },
  {
   "cell_type": "code",
   "execution_count": 8,
   "id": "30645f36",
   "metadata": {},
   "outputs": [],
   "source": [
    "#####################################################################################\n",
    "# 3 channel input (r-g-b)\n",
    "#data_path = r\"D:\\Drohnendaten\\10_WZE-UAV\\Auswertung_findatree\\Datasplit\\ROI\\rgb\"\n",
    "\n",
    "# 4 channel input (r-g-b-nir)\n",
    "data_path = r\"D:\\Drohnendaten\\10_WZE-UAV\\Auswertung_findatree\\Datasplit\\ROI\\rgb-nir\"\n",
    "\n",
    "# 5 channel input (r-g-b-re-nir)\n",
    "#data_path = r\"D:\\Drohnendaten\\10_WZE-UAV\\Auswertung_findatree\\Datasplit\\ROI\\rgb-re-nir\"\n",
    "\n",
    "# 6 channel input (r-g-b-re-nir)\n",
    "#data_path = r\"D:\\Drohnendaten\\10_WZE-UAV\\Auswertung_findatree\\Datasplit\\ROI\\rgb-re-nir-chm\"\n",
    "\n",
    "#####################################################################################"
   ]
  },
  {
   "cell_type": "markdown",
   "id": "4560ce64",
   "metadata": {},
   "source": [
    "#### Get all file paths"
   ]
  },
  {
   "cell_type": "code",
   "execution_count": 9,
   "id": "aa072e4c",
   "metadata": {},
   "outputs": [],
   "source": [
    "fn_list = os.listdir(data_path)\n",
    "path_list = []\n",
    "# Iterate over all datafiles\n",
    "for year in fn_list:\n",
    "    year_dir = f'{data_path}\\\\{year}'\n",
    "    for filename in os.listdir(year_dir):\n",
    "        path = f'{year_dir}\\\\{filename}'\n",
    "        path_list.append(path)"
   ]
  },
  {
   "cell_type": "markdown",
   "id": "f3937a44",
   "metadata": {},
   "source": [
    "#### Create unique hash IDs for every individual tree"
   ]
  },
  {
   "cell_type": "code",
   "execution_count": 10,
   "id": "8a50f1d7",
   "metadata": {},
   "outputs": [
    {
     "data": {
      "application/vnd.jupyter.widget-view+json": {
       "model_id": "09bce1b8b4cd497aaad6218e75ae6aba",
       "version_major": 2,
       "version_minor": 0
      },
      "text/plain": [
       "Creating unique tree IDs...:   0%|          | 0/647 [00:00<?, ?it/s]"
      ]
     },
     "metadata": {},
     "output_type": "display_data"
    }
   ],
   "source": [
    "hashID_dict = data_loader.get_unique_treeID(path_list)"
   ]
  },
  {
   "cell_type": "markdown",
   "id": "6f4cea00",
   "metadata": {},
   "source": [
    "#### Import all imagery, labels and other features from hdf5 files"
   ]
  },
  {
   "cell_type": "code",
   "execution_count": 11,
   "id": "94e3eecf",
   "metadata": {},
   "outputs": [
    {
     "data": {
      "application/vnd.jupyter.widget-view+json": {
       "model_id": "f3368a1ba42f4915ba27c9a0048fc8d0",
       "version_major": 2,
       "version_minor": 0
      },
      "text/plain": [
       "Processing hdf5 datasets:   0%|          | 0/647 [00:00<?, ?it/s]"
      ]
     },
     "metadata": {},
     "output_type": "display_data"
    }
   ],
   "source": [
    "image_set, label_set, species_set, kkl_set, bk_set, hash_id = data_loader.hdf5_to_img_label_5species(path_list,\n",
    "                                                                                               hashID_dict,\n",
    "                                                                                               load_sets=[\"images_masked\"])"
   ]
  },
  {
   "cell_type": "markdown",
   "id": "6a90e2b7",
   "metadata": {},
   "source": [
    "#### Convert nbv to classes"
   ]
  },
  {
   "cell_type": "code",
   "execution_count": 12,
   "id": "0224972a",
   "metadata": {},
   "outputs": [],
   "source": [
    "nbv_set = label_set\n",
    "label_set = combined_to_classes(species_set, nbv_set)"
   ]
  },
  {
   "cell_type": "markdown",
   "id": "c6b4cd85",
   "metadata": {},
   "source": [
    "#### Split data into a sub set and a test dataset"
   ]
  },
  {
   "cell_type": "code",
   "execution_count": 13,
   "id": "d06eda54",
   "metadata": {},
   "outputs": [
    {
     "name": "stdout",
     "output_type": "stream",
     "text": [
      "ORIGINAL POSITIVE RATIO: 2.9288929440389295\n",
      "Fold : 0\n",
      "TRAIN POSITIVE RATIO: 2.9223584354932868\n",
      "TEST POSITIVE RATIO : 2.9616228070175437\n",
      "LENGTH TRAIN GROUPS : 5197\n",
      "LENGTH TEST GROUPS  : 1037\n",
      "Number of True in sub_indices: 13704\n",
      "Number of False in sub_indices: 2736\n",
      "Number of True in test_indices: 1037\n",
      "Number of False in test_indices: 15403\n",
      "Check shapes:\n",
      "\n",
      "Images sub dataset: (13704, 250, 250, 4)\n",
      "Labels sub dataset: (13704, 1)\n",
      "\n",
      "Images test dataset: (1037, 250, 250, 4)\n",
      "Labels test dataset: (1037, 1)\n",
      "\n",
      "--------------------------------------------------\n",
      "Check if the split was stratified: (random_state=42)\n",
      "Healthy trees in sub dataset: 3722\n",
      "Stressed trees in sub dataset: 1941\n",
      "Dead trees in sub dataset: 1810\n",
      "Healthy trees in test dataset: 289\n",
      "Stressed trees in test dataset: 167\n",
      "Dead trees in test dataset: 121\n",
      "Ratio health trees in test dataset: 0.07764642665233745\n",
      "Ratio stressed trees in test dataset: 0.08603812467800102\n",
      "Ratio dead trees in test dataset: 0.06685082872928177\n"
     ]
    }
   ],
   "source": [
    "sub_image_set, sub_label_set, sub_hash_id, sub_species_set, test_image_set, test_label_set, test_hash_id, test_species_set = data_split(image_set, label_set, hash_id, species_set, n_splits=6, random_state=42, seed=2)\n"
   ]
  },
  {
   "cell_type": "markdown",
   "id": "c48fbb5b",
   "metadata": {},
   "source": [
    "#### Check if any hash ID is in both sub and test dataset"
   ]
  },
  {
   "cell_type": "code",
   "execution_count": 14,
   "id": "874367cf",
   "metadata": {},
   "outputs": [
    {
     "name": "stdout",
     "output_type": "stream",
     "text": [
      "There are no hash_id values in both train and test datasets. The datasplit was successful\n"
     ]
    }
   ],
   "source": [
    "hash_set = set(sub_hash_id[:,0].flatten())\n",
    "test_hash_set = set(test_hash_id[:,0].flatten())\n",
    "intersection = hash_set.intersection(test_hash_set)\n",
    "if intersection:\n",
    "    print(f\"Hash_id values in both train and test sets: {len(intersection)}\")\n",
    "else:\n",
    "    print(\"There are no hash_id values in both train and test datasets. The datasplit was successful\")"
   ]
  },
  {
   "cell_type": "markdown",
   "id": "9e5b64d4",
   "metadata": {},
   "source": [
    "#### Check feature distribution of the Test dataset"
   ]
  },
  {
   "cell_type": "code",
   "execution_count": 15,
   "id": "a33ff5cb",
   "metadata": {},
   "outputs": [
    {
     "name": "stdout",
     "output_type": "stream",
     "text": [
      "Test dataset\n",
      "Test data Picea abies healthy: 289\n",
      "Test data Picea abies stressed: 167\n",
      "Test data Pinus sylvestris healthy: 121\n",
      "Test data Pinus sylvestris stressed: 135\n",
      "Test data Abies alba healthy: 30\n",
      "Test data Abies alba stressed: 13\n",
      "Test data Fagus sylvatica healthy: 96\n",
      "Test data Fagus sylvatica stressed: 79\n",
      "Test data Quercus robur/petraea healthy: 58\n",
      "Test data Quercus robur/petraea stressed: 26\n",
      "Test data dead trees: 23\n",
      "--------------------------------------------------\n",
      "Remaining dataset\n",
      "Remaining data Picea abies healthy: 3722\n",
      "Remaining data Picea abies stressed: 1941\n",
      "Remaining data Pinus sylvestris healthy: 1810\n",
      "Remaining data Pinus sylvestris stressed: 2159\n",
      "Remaining data Abies alba healthy: 405\n",
      "Remaining data Abies alba stressed: 160\n",
      "Remaining data Fagus sylvatica healthy: 1230\n",
      "Remaining data Fagus sylvatica stressed: 883\n",
      "Remaining data Quercus robur/petraea healthy: 739\n",
      "Remaining data Quercus robur/petraea stressed: 433\n",
      "Remaining data dead trees: 222\n",
      "--------------------------------------------------\n"
     ]
    }
   ],
   "source": [
    "def count_occurrences(data, value):\n",
    "    count = 0\n",
    "    for item in data:\n",
    "        if item == value:\n",
    "            count += 1\n",
    "    return count\n",
    "\n",
    "print(\"Test dataset\")\n",
    "print(f\"Test data Picea abies healthy: {count_occurrences(test_label_set, 0)}\")\n",
    "print(f\"Test data Picea abies stressed: {count_occurrences(test_label_set, 1)}\")\n",
    "print(f\"Test data Pinus sylvestris healthy: {count_occurrences(test_label_set, 2)}\")\n",
    "print(f\"Test data Pinus sylvestris stressed: {count_occurrences(test_label_set, 3)}\")\n",
    "print(f\"Test data Abies alba healthy: {count_occurrences(test_label_set, 4)}\")\n",
    "print(f\"Test data Abies alba stressed: {count_occurrences(test_label_set, 5)}\")\n",
    "print(f\"Test data Fagus sylvatica healthy: {count_occurrences(test_label_set, 6)}\")\n",
    "print(f\"Test data Fagus sylvatica stressed: {count_occurrences(test_label_set, 7)}\")\n",
    "print(f\"Test data Quercus robur/petraea healthy: {count_occurrences(test_label_set, 8)}\")\n",
    "print(f\"Test data Quercus robur/petraea stressed: {count_occurrences(test_label_set, 9)}\")\n",
    "print(f\"Test data dead trees: {count_occurrences(test_label_set, 10)}\")\n",
    "print(\"-\"*50)\n",
    "\n",
    "print(\"Remaining dataset\")\n",
    "print(f\"Remaining data Picea abies healthy: {count_occurrences(sub_label_set, 0)}\")\n",
    "print(f\"Remaining data Picea abies stressed: {count_occurrences(sub_label_set, 1)}\")\n",
    "print(f\"Remaining data Pinus sylvestris healthy: {count_occurrences(sub_label_set, 2)}\")\n",
    "print(f\"Remaining data Pinus sylvestris stressed: {count_occurrences(sub_label_set, 3)}\")\n",
    "print(f\"Remaining data Abies alba healthy: {count_occurrences(sub_label_set, 4)}\")\n",
    "print(f\"Remaining data Abies alba stressed: {count_occurrences(sub_label_set, 5)}\")\n",
    "print(f\"Remaining data Fagus sylvatica healthy: {count_occurrences(sub_label_set, 6)}\")\n",
    "print(f\"Remaining data Fagus sylvatica stressed: {count_occurrences(sub_label_set, 7)}\")\n",
    "print(f\"Remaining data Quercus robur/petraea healthy: {count_occurrences(sub_label_set, 8)}\")\n",
    "print(f\"Remaining data Quercus robur/petraea stressed: {count_occurrences(sub_label_set, 9)}\")\n",
    "print(f\"Remaining data dead trees: {count_occurrences(sub_label_set, 10)}\")\n",
    "print(\"-\"*50)"
   ]
  },
  {
   "cell_type": "code",
   "execution_count": 16,
   "id": "e08fcf57",
   "metadata": {},
   "outputs": [],
   "source": [
    "# train transform with augmentation. \n",
    "transform_train = transforms.Compose([transforms.ToTensor(), transforms.RandomHorizontalFlip(p=0.5), transforms.RandomVerticalFlip(p=0.5),\n",
    "                                      transforms.RandomRotation(degrees=[0,360])])\n",
    "\n",
    "# test and val dataset transform without augmentation. \n",
    "transform = transforms.Compose([transforms.ToTensor()])\n",
    "\n",
    "# class names need to fit the customDataset class used e.g. 3 classes -> use CustomDataset3Classes\n",
    "#class_names = ['healthy', 'slightly_stressed', 'moderately_stressed', 'highly_stressed', 'dead']\n",
    "#class_names = ['healthy', 'moderately_stressed', 'highly_stressed', 'dead']\n",
    "#class_names = ['healthy', 'moderate stress', 'severe stress', 'dead']\n",
    "class_names = ['Picea abies healthy', 'Picea abies stressed', 'Pinus sylvestris healthy', 'Pinus sylvestris stressed', \n",
    "               'Abies alba healthy', 'Abies alba stressed', 'Fagus sylvatica healthy', 'Fagus sylvatica stressed',\n",
    "               'Quercus robur/petraea healthy', 'Quercus robur/petraea stressed', 'dead trees']\n",
    "\n",
    "# set seeds\n",
    "g = torch.Generator()\n",
    "g.manual_seed(42)\n",
    "NUM_WORKERS=3 # should be changed, depending on the system used\n",
    "batch_size=32"
   ]
  },
  {
   "cell_type": "markdown",
   "id": "31779c05",
   "metadata": {},
   "source": [
    "#### Define variables and parameters"
   ]
  },
  {
   "cell_type": "code",
   "execution_count": 17,
   "id": "10ae4379",
   "metadata": {},
   "outputs": [
    {
     "name": "stdout",
     "output_type": "stream",
     "text": [
      "Memory allocated: 0 bytes\n"
     ]
    }
   ],
   "source": [
    "# 1. Define number of epochs\n",
    "epochs = 50\n",
    "n_bands = sub_image_set[0].shape[2] # get number of bands\n",
    "\n",
    "# 2. Define model\n",
    "num_classes = len(class_names)\n",
    "unfreeze = True # all layer weights get updated\n",
    "dropout_rate = 0.5 #define dropout rate\n",
    "model_name = \"EffNet_b7_RGB-NIR-5species-combined\"\n",
    "\n",
    "# 3. Define loss, optimizer and learning rate scheduler\n",
    "lr = 0.001 # define learning rate\n",
    "min_lr = 1e-6 # minimum learning rate threshold\n",
    "gamma = 0.75 # how fast the learning rate decreases per epoch (low number=faster decrease)\n",
    "patience = 10\n",
    "\n",
    "# 4. Create target folder name were to save the tensorboard event files\n",
    "experiment_name = 'RGB-NIR-5species-combined'\n",
    "extra = \"RGB-NIR-5species-combined\"\n",
    "\n",
    "#----------------------------------------------------------------------\n",
    "#torch.cuda.empty_cache()\n",
    "print(f\"Memory allocated: {torch.cuda.memory_allocated()} bytes\") "
   ]
  },
  {
   "cell_type": "markdown",
   "id": "09768b1a",
   "metadata": {},
   "source": [
    "#### Run k-Fold cross-validation on EfficientNet"
   ]
  },
  {
   "cell_type": "code",
   "execution_count": null,
   "id": "9c29c81d",
   "metadata": {},
   "outputs": [
    {
     "name": "stdout",
     "output_type": "stream",
     "text": [
      "ORIGINAL POSITIVE RATIO: 2.9223584354932868\n",
      "Fold : 1\n",
      "TRAIN POSITIVE RATIO: 2.921033478893741\n",
      "VAL POSITIVE RATIO  : 2.9277286135693217\n",
      "LENGTH TRAIN GROUPS : 4158\n",
      "LENGTH VAL GROUPS   : 1039\n"
     ]
    },
    {
     "data": {
      "text/html": [
       "Finishing last run (ID:w51k5cvn) before initializing another..."
      ],
      "text/plain": [
       "<IPython.core.display.HTML object>"
      ]
     },
     "metadata": {},
     "output_type": "display_data"
    },
    {
     "data": {
      "text/html": [
       "Waiting for W&B process to finish... <strong style=\"color:green\">(success).</strong>"
      ],
      "text/plain": [
       "<IPython.core.display.HTML object>"
      ]
     },
     "metadata": {},
     "output_type": "display_data"
    },
    {
     "data": {
      "application/vnd.jupyter.widget-view+json": {
       "model_id": "a7ca79f8b9ec49129e09ca7175d091e6",
       "version_major": 2,
       "version_minor": 0
      },
      "text/plain": [
       "VBox(children=(Label(value='0.001 MB of 0.001 MB uploaded (0.000 MB deduped)\\r'), FloatProgress(value=1.0, max…"
      ]
     },
     "metadata": {},
     "output_type": "display_data"
    },
    {
     "data": {
      "text/html": [
       " View run <strong style=\"color:#cdcd00\">chocolate-water-7</strong> at: <a href='https://wandb.ai/simon-ecke/wze-uav-combined-treewise/runs/w51k5cvn' target=\"_blank\">https://wandb.ai/simon-ecke/wze-uav-combined-treewise/runs/w51k5cvn</a><br/>Synced 5 W&B file(s), 0 media file(s), 0 artifact file(s) and 0 other file(s)"
      ],
      "text/plain": [
       "<IPython.core.display.HTML object>"
      ]
     },
     "metadata": {},
     "output_type": "display_data"
    },
    {
     "data": {
      "text/html": [
       "Find logs at: <code>.\\wandb\\run-20230519_122641-w51k5cvn\\logs</code>"
      ],
      "text/plain": [
       "<IPython.core.display.HTML object>"
      ]
     },
     "metadata": {},
     "output_type": "display_data"
    },
    {
     "data": {
      "text/html": [
       "Successfully finished last run (ID:w51k5cvn). Initializing new run:<br/>"
      ],
      "text/plain": [
       "<IPython.core.display.HTML object>"
      ]
     },
     "metadata": {},
     "output_type": "display_data"
    },
    {
     "data": {
      "application/vnd.jupyter.widget-view+json": {
       "model_id": "a53a9a672aaa4a60af7e4ab54c4fe999",
       "version_major": 2,
       "version_minor": 0
      },
      "text/plain": [
       "VBox(children=(Label(value='Waiting for wandb.init()...\\r'), FloatProgress(value=0.01691666666107873, max=1.0)…"
      ]
     },
     "metadata": {},
     "output_type": "display_data"
    },
    {
     "data": {
      "text/html": [
       "wandb version 0.15.3 is available!  To upgrade, please run:\n",
       " $ pip install wandb --upgrade"
      ],
      "text/plain": [
       "<IPython.core.display.HTML object>"
      ]
     },
     "metadata": {},
     "output_type": "display_data"
    },
    {
     "data": {
      "text/html": [
       "Tracking run with wandb version 0.14.2"
      ],
      "text/plain": [
       "<IPython.core.display.HTML object>"
      ]
     },
     "metadata": {},
     "output_type": "display_data"
    },
    {
     "data": {
      "text/html": [
       "Run data is saved locally in <code>C:\\Users\\lwfeckesim\\01_PyTorch\\wze-uav\\wze-uav-master\\wandb\\run-20230519_131524-i10gn5do</code>"
      ],
      "text/plain": [
       "<IPython.core.display.HTML object>"
      ]
     },
     "metadata": {},
     "output_type": "display_data"
    },
    {
     "data": {
      "text/html": [
       "Syncing run <strong><a href='https://wandb.ai/simon-ecke/wze-uav-combined-treewise/runs/i10gn5do' target=\"_blank\">fold_1_RGB-NIR-5species-combined</a></strong> to <a href='https://wandb.ai/simon-ecke/wze-uav-combined-treewise' target=\"_blank\">Weights & Biases</a> (<a href='https://wandb.me/run' target=\"_blank\">docs</a>)<br/>"
      ],
      "text/plain": [
       "<IPython.core.display.HTML object>"
      ]
     },
     "metadata": {},
     "output_type": "display_data"
    },
    {
     "data": {
      "text/html": [
       " View project at <a href='https://wandb.ai/simon-ecke/wze-uav-combined-treewise' target=\"_blank\">https://wandb.ai/simon-ecke/wze-uav-combined-treewise</a>"
      ],
      "text/plain": [
       "<IPython.core.display.HTML object>"
      ]
     },
     "metadata": {},
     "output_type": "display_data"
    },
    {
     "data": {
      "text/html": [
       " View run at <a href='https://wandb.ai/simon-ecke/wze-uav-combined-treewise/runs/i10gn5do' target=\"_blank\">https://wandb.ai/simon-ecke/wze-uav-combined-treewise/runs/i10gn5do</a>"
      ],
      "text/plain": [
       "<IPython.core.display.HTML object>"
      ]
     },
     "metadata": {},
     "output_type": "display_data"
    },
    {
     "name": "stdout",
     "output_type": "stream",
     "text": [
      "There are no same hash_id values in train, val or test datasets. The datasplit was successful\n",
      "Check shapes:\n",
      "\n",
      "Images train dataset: (10992, 250, 250, 4)\n",
      "Labels train dataset: (10992, 1)\n",
      "\n",
      "Images validation dataset: (1039, 250, 250, 4)\n",
      "Labels validation dataset: (1039, 1)\n",
      "\n",
      "--------------------------------------------------\n",
      "Check if the split was stratified: (random_state=42)\n",
      "Picea abies healthy in train dataset: 2974\n",
      "Picea abies stressed in train dataset: 1549\n",
      "Pinus sylvestris healthy in train dataset: 1457\n",
      "Pinus sylvestris stressed in train dataset: 1739\n",
      "Abies alba healthy in train dataset: 336\n",
      "Abies alba stressed in train dataset: 124\n",
      "Fagus sylvatica healthy in train dataset: 987\n",
      "Fagus sylvatica stressed in train dataset: 737\n",
      "Quercus robur/petraea healthy in train dataset: 585\n",
      "Quercus robur/petraea stressed in train dataset: 337\n",
      "Dead trees in train dataset: 167\n",
      "Picea abies healthy in validation dataset: 289\n",
      "Picea abies stressed in validation dataset: 165\n",
      "Pinus sylvestris healthy in validation dataset: 119\n",
      "Pinus sylvestris stressed in validation dataset: 160\n",
      "Abies alba healthy in validation dataset: 29\n",
      "Abies alba stressed in validation dataset: 14\n",
      "Fagus sylvatica healthy in validation dataset: 91\n",
      "Fagus sylvatica stressed in validation dataset: 58\n",
      "Quercus robur/petraea healthy in validation dataset: 58\n",
      "Quercus robur/petraea stressed in validation dataset: 33\n",
      "Dead trees in validation dataset: 23\n",
      "--------------------------------------------------\n",
      "\n",
      "Creating datasets for fold: 1\n",
      "\n",
      "Creating dataloaders for fold: 1\n",
      "\n",
      "Loaded pretrained weights for efficientnet-b7\n",
      "\n",
      "[INFO] Fold number: 1\n",
      "[INFO] Number of epochs: 50\n",
      "[INFO] Batch_size: 32\n",
      "[INFO] Number of bands: 4\n",
      "[INFO] Dropout rate: 0.5\n",
      "[INFO] Gamma learning rate: 0.75\n",
      "[INFO] Memory allocated: 0 bytes\n"
     ]
    },
    {
     "data": {
      "application/vnd.jupyter.widget-view+json": {
       "model_id": "fa4ab23f770a49308bacd2c48609a55b",
       "version_major": 2,
       "version_minor": 0
      },
      "text/plain": [
       "  0%|          | 0/50 [00:00<?, ?it/s]"
      ]
     },
     "metadata": {},
     "output_type": "display_data"
    },
    {
     "name": "stdout",
     "output_type": "stream",
     "text": [
      "Epoch: 1 \n",
      "Learning rate: 0.001\n",
      "Train loss: 1.4781 | Train precision: 0.3620 | Train recall: 0.3234 | Train f1score: 0.3283 | Train acc: 0.4064 | Train kappa: 0.6931 \n",
      "Val loss: 3.3616 | Val precision: 0.0632 | Val recall: 0.1301 | Val f1score: 0.0536 | Val acc: 0.1016 | Val kappa: 0.1269 \n",
      "\n",
      "Epoch: 2 \n",
      "Learning rate: 0.00075\n",
      "Train loss: 1.1831 | Train precision: 0.4647 | Train recall: 0.4325 | Train f1score: 0.4390 | Train acc: 0.4972 | Train kappa: 0.8106 \n",
      "Val loss: 2.0323 | Val precision: 0.4703 | Val recall: 0.2369 | Val f1score: 0.2206 | Val acc: 0.2666 | Val kappa: 0.2309 \n",
      "\n",
      "Epoch: 3 \n",
      "Learning rate: 0.0005625000000000001\n",
      "Train loss: 1.0656 | Train precision: 0.5103 | Train recall: 0.4808 | Train f1score: 0.4877 | Train acc: 0.5346 | Train kappa: 0.8524 \n",
      "Val loss: 1.1536 | Val precision: 0.4540 | Val recall: 0.4009 | Val f1score: 0.3884 | Val acc: 0.5371 | Val kappa: 0.7612 \n",
      "\n",
      "Epoch: 4 \n",
      "Learning rate: 0.000421875\n",
      "Train loss: 1.0023 | Train precision: 0.5575 | Train recall: 0.5214 | Train f1score: 0.5311 | Train acc: 0.5649 | Train kappa: 0.8688 \n",
      "Val loss: 1.0506 | Val precision: 0.5503 | Val recall: 0.5179 | Val f1score: 0.4965 | Val acc: 0.5889 | Val kappa: 0.8484 \n",
      "\n",
      "Epoch: 5 \n",
      "Learning rate: 0.00031640625\n",
      "Train loss: 0.9659 | Train precision: 0.5616 | Train recall: 0.5342 | Train f1score: 0.5397 | Train acc: 0.5712 | Train kappa: 0.8871 \n",
      "Val loss: 1.0115 | Val precision: 0.5122 | Val recall: 0.5142 | Val f1score: 0.4786 | Val acc: 0.5635 | Val kappa: 0.8512 \n",
      "\n",
      "Epoch: 6 \n",
      "Learning rate: 0.0002373046875\n",
      "Train loss: 0.9210 | Train precision: 0.5830 | Train recall: 0.5627 | Train f1score: 0.5654 | Train acc: 0.5968 | Train kappa: 0.8964 \n",
      "Val loss: 0.9090 | Val precision: 0.5358 | Val recall: 0.5327 | Val f1score: 0.5122 | Val acc: 0.5977 | Val kappa: 0.8463 \n",
      "\n",
      "Epoch: 7 \n",
      "Learning rate: 0.000177978515625\n",
      "Train loss: 0.8908 | Train precision: 0.5969 | Train recall: 0.5689 | Train f1score: 0.5765 | Train acc: 0.6064 | Train kappa: 0.8951 \n",
      "Val loss: 0.9897 | Val precision: 0.5885 | Val recall: 0.5266 | Val f1score: 0.5258 | Val acc: 0.5771 | Val kappa: 0.8794 \n",
      "\n",
      "Epoch: 8 \n",
      "Learning rate: 0.00013348388671875\n",
      "Train loss: 0.8515 | Train precision: 0.6302 | Train recall: 0.6017 | Train f1score: 0.6106 | Train acc: 0.6194 | Train kappa: 0.9120 \n",
      "Val loss: 0.9245 | Val precision: 0.5517 | Val recall: 0.5497 | Val f1score: 0.5342 | Val acc: 0.5840 | Val kappa: 0.8730 \n",
      "\n",
      "Epoch: 9 \n",
      "Learning rate: 0.0001001129150390625\n",
      "Train loss: 0.8288 | Train precision: 0.6376 | Train recall: 0.6159 | Train f1score: 0.6236 | Train acc: 0.6318 | Train kappa: 0.9108 \n",
      "Val loss: 0.9126 | Val precision: 0.5768 | Val recall: 0.5671 | Val f1score: 0.5611 | Val acc: 0.6104 | Val kappa: 0.8754 \n",
      "\n",
      "Epoch: 10 \n",
      "Learning rate: 7.508468627929687e-05\n",
      "Train loss: 0.8240 | Train precision: 0.6457 | Train recall: 0.6186 | Train f1score: 0.6278 | Train acc: 0.6278 | Train kappa: 0.9135 \n",
      "Val loss: 0.8824 | Val precision: 0.5831 | Val recall: 0.5511 | Val f1score: 0.5561 | Val acc: 0.6182 | Val kappa: 0.8806 \n",
      "\n",
      "Epoch: 11 \n",
      "Learning rate: 5.6313514709472656e-05\n",
      "Train loss: 0.8091 | Train precision: 0.6471 | Train recall: 0.6207 | Train f1score: 0.6289 | Train acc: 0.6291 | Train kappa: 0.9191 \n",
      "Val loss: 0.8956 | Val precision: 0.5864 | Val recall: 0.5674 | Val f1score: 0.5610 | Val acc: 0.6152 | Val kappa: 0.8720 \n",
      "\n",
      "Epoch: 12 \n",
      "Learning rate: 4.223513603210449e-05\n",
      "Train loss: 0.7864 | Train precision: 0.6607 | Train recall: 0.6304 | Train f1score: 0.6391 | Train acc: 0.6530 | Train kappa: 0.9302 \n",
      "Val loss: 0.8857 | Val precision: 0.5922 | Val recall: 0.5834 | Val f1score: 0.5730 | Val acc: 0.6270 | Val kappa: 0.8748 \n",
      "\n",
      "Epoch: 13 \n",
      "Learning rate: 3.167635202407837e-05\n",
      "Train loss: 0.7916 | Train precision: 0.6582 | Train recall: 0.6341 | Train f1score: 0.6400 | Train acc: 0.6486 | Train kappa: 0.9230 \n",
      "Val loss: 0.8752 | Val precision: 0.5771 | Val recall: 0.5770 | Val f1score: 0.5694 | Val acc: 0.6221 | Val kappa: 0.8817 \n",
      "\n",
      "Epoch: 14 \n",
      "Learning rate: 2.3757264018058778e-05\n",
      "Train loss: 0.7697 | Train precision: 0.6715 | Train recall: 0.6469 | Train f1score: 0.6545 | Train acc: 0.6537 | Train kappa: 0.9288 \n",
      "Val loss: 0.8678 | Val precision: 0.5865 | Val recall: 0.5720 | Val f1score: 0.5719 | Val acc: 0.6211 | Val kappa: 0.8763 \n",
      "\n",
      "Epoch: 15 \n",
      "Learning rate: 1.7817948013544083e-05\n",
      "Train loss: 0.7806 | Train precision: 0.6686 | Train recall: 0.6402 | Train f1score: 0.6489 | Train acc: 0.6493 | Train kappa: 0.9236 \n",
      "Val loss: 0.8795 | Val precision: 0.5849 | Val recall: 0.5833 | Val f1score: 0.5764 | Val acc: 0.6260 | Val kappa: 0.8777 \n",
      "\n",
      "Epoch: 16 \n",
      "Learning rate: 1.3363461010158063e-05\n",
      "Train loss: 0.7795 | Train precision: 0.6643 | Train recall: 0.6368 | Train f1score: 0.6444 | Train acc: 0.6517 | Train kappa: 0.9261 \n",
      "Val loss: 0.8709 | Val precision: 0.5801 | Val recall: 0.5689 | Val f1score: 0.5643 | Val acc: 0.6191 | Val kappa: 0.8760 \n",
      "\n",
      "Epoch: 17 \n",
      "Learning rate: 1.0022595757618546e-05\n",
      "Train loss: 0.7715 | Train precision: 0.6624 | Train recall: 0.6376 | Train f1score: 0.6445 | Train acc: 0.6485 | Train kappa: 0.9238 \n",
      "Val loss: 0.8729 | Val precision: 0.5855 | Val recall: 0.5816 | Val f1score: 0.5759 | Val acc: 0.6221 | Val kappa: 0.8838 \n",
      "\n",
      "Epoch: 18 \n",
      "Learning rate: 7.51694681821391e-06\n",
      "Train loss: 0.7596 | Train precision: 0.6657 | Train recall: 0.6488 | Train f1score: 0.6535 | Train acc: 0.6521 | Train kappa: 0.9261 \n",
      "Val loss: 0.8761 | Val precision: 0.5819 | Val recall: 0.5774 | Val f1score: 0.5725 | Val acc: 0.6201 | Val kappa: 0.8776 \n",
      "\n",
      "Epoch: 19 \n",
      "Learning rate: 5.637710113660432e-06\n",
      "Train loss: 0.7657 | Train precision: 0.6758 | Train recall: 0.6522 | Train f1score: 0.6591 | Train acc: 0.6531 | Train kappa: 0.9343 \n",
      "Val loss: 0.8753 | Val precision: 0.5769 | Val recall: 0.5778 | Val f1score: 0.5716 | Val acc: 0.6172 | Val kappa: 0.8821 \n",
      "\n",
      "Epoch: 20 \n",
      "Learning rate: 4.228282585245324e-06\n",
      "Train loss: 0.7686 | Train precision: 0.6659 | Train recall: 0.6432 | Train f1score: 0.6505 | Train acc: 0.6545 | Train kappa: 0.9264 \n",
      "Val loss: 0.8738 | Val precision: 0.5872 | Val recall: 0.5858 | Val f1score: 0.5811 | Val acc: 0.6260 | Val kappa: 0.8799 \n",
      "\n",
      "Epoch: 21 \n",
      "Learning rate: 3.1712119389339933e-06\n",
      "Train loss: 0.7658 | Train precision: 0.6733 | Train recall: 0.6502 | Train f1score: 0.6572 | Train acc: 0.6561 | Train kappa: 0.9270 \n",
      "Val loss: 0.8745 | Val precision: 0.5897 | Val recall: 0.5864 | Val f1score: 0.5829 | Val acc: 0.6250 | Val kappa: 0.8800 \n",
      "\n",
      "Epoch: 22 \n",
      "Learning rate: 2.378408954200495e-06\n",
      "Train loss: 0.7533 | Train precision: 0.6754 | Train recall: 0.6530 | Train f1score: 0.6606 | Train acc: 0.6608 | Train kappa: 0.9273 \n",
      "Val loss: 0.8738 | Val precision: 0.5838 | Val recall: 0.5808 | Val f1score: 0.5766 | Val acc: 0.6191 | Val kappa: 0.8805 \n",
      "\n",
      "Epoch: 23 \n",
      "Learning rate: 1.7838067156503713e-06\n",
      "Train loss: 0.7543 | Train precision: 0.6786 | Train recall: 0.6558 | Train f1score: 0.6619 | Train acc: 0.6579 | Train kappa: 0.9272 \n",
      "Val loss: 0.8714 | Val precision: 0.5792 | Val recall: 0.5806 | Val f1score: 0.5749 | Val acc: 0.6172 | Val kappa: 0.8771 \n",
      "\n",
      "Epoch: 24 \n",
      "Learning rate: 1.3378550367377785e-06\n",
      "Train loss: 0.7629 | Train precision: 0.6744 | Train recall: 0.6496 | Train f1score: 0.6579 | Train acc: 0.6548 | Train kappa: 0.9272 \n",
      "Val loss: 0.8709 | Val precision: 0.5844 | Val recall: 0.5835 | Val f1score: 0.5788 | Val acc: 0.6230 | Val kappa: 0.8787 \n",
      "\n",
      "Early stopping after epoch 24\n"
     ]
    },
    {
     "data": {
      "text/html": [
       "Waiting for W&B process to finish... <strong style=\"color:green\">(success).</strong>"
      ],
      "text/plain": [
       "<IPython.core.display.HTML object>"
      ]
     },
     "metadata": {},
     "output_type": "display_data"
    },
    {
     "data": {
      "text/html": [
       "<style>\n",
       "    table.wandb td:nth-child(1) { padding: 0 10px; text-align: left ; width: auto;} td:nth-child(2) {text-align: left ; width: 100%}\n",
       "    .wandb-row { display: flex; flex-direction: row; flex-wrap: wrap; justify-content: flex-start; width: 100% }\n",
       "    .wandb-col { display: flex; flex-direction: column; flex-basis: 100%; flex: 1; padding: 10px; }\n",
       "    </style>\n",
       "<div class=\"wandb-row\"><div class=\"wandb-col\"><h3>Run history:</h3><br/><table class=\"wandb\"><tr><td>learning_rate</td><td>█▆▅▄▃▃▂▂▂▂▁▁▁▁▁▁▁▁▁▁▁▁▁▁</td></tr><tr><td>train_f1_score</td><td>▁▃▄▅▅▆▆▇▇▇▇█████████████</td></tr><tr><td>train_loss</td><td>█▅▄▃▃▃▂▂▂▂▂▁▁▁▁▁▁▁▁▁▁▁▁▁</td></tr><tr><td>val_f1_score</td><td>▁▃▅▇▇▇▇▇████████████████</td></tr><tr><td>val_loss</td><td>█▄▂▂▁▁▁▁▁▁▁▁▁▁▁▁▁▁▁▁▁▁▁▁</td></tr></table><br/></div><div class=\"wandb-col\"><h3>Run summary:</h3><br/><table class=\"wandb\"><tr><td>learning_rate</td><td>0.0</td></tr><tr><td>train_f1_score</td><td>0.65787</td></tr><tr><td>train_loss</td><td>0.76292</td></tr><tr><td>val_f1_score</td><td>0.57876</td></tr><tr><td>val_loss</td><td>0.87089</td></tr></table><br/></div></div>"
      ],
      "text/plain": [
       "<IPython.core.display.HTML object>"
      ]
     },
     "metadata": {},
     "output_type": "display_data"
    },
    {
     "data": {
      "text/html": [
       " View run <strong style=\"color:#cdcd00\">fold_1_RGB-NIR-5species-combined</strong> at: <a href='https://wandb.ai/simon-ecke/wze-uav-combined-treewise/runs/i10gn5do' target=\"_blank\">https://wandb.ai/simon-ecke/wze-uav-combined-treewise/runs/i10gn5do</a><br/>Synced 5 W&B file(s), 0 media file(s), 0 artifact file(s) and 0 other file(s)"
      ],
      "text/plain": [
       "<IPython.core.display.HTML object>"
      ]
     },
     "metadata": {},
     "output_type": "display_data"
    },
    {
     "data": {
      "text/html": [
       "Find logs at: <code>.\\wandb\\run-20230519_131524-i10gn5do\\logs</code>"
      ],
      "text/plain": [
       "<IPython.core.display.HTML object>"
      ]
     },
     "metadata": {},
     "output_type": "display_data"
    },
    {
     "name": "stdout",
     "output_type": "stream",
     "text": [
      "Deleting variables and emptying cache\n",
      "Memory allocated: 1047192576 bytes\n",
      "--------------------------------------------------\n",
      "\n",
      "Fold : 2\n",
      "TRAIN POSITIVE RATIO: 2.956775487871603\n",
      "VAL POSITIVE RATIO  : 2.7845142439737036\n",
      "LENGTH TRAIN GROUPS : 4159\n",
      "LENGTH VAL GROUPS   : 1038\n"
     ]
    },
    {
     "data": {
      "text/html": [
       "wandb version 0.15.3 is available!  To upgrade, please run:\n",
       " $ pip install wandb --upgrade"
      ],
      "text/plain": [
       "<IPython.core.display.HTML object>"
      ]
     },
     "metadata": {},
     "output_type": "display_data"
    },
    {
     "data": {
      "text/html": [
       "Tracking run with wandb version 0.14.2"
      ],
      "text/plain": [
       "<IPython.core.display.HTML object>"
      ]
     },
     "metadata": {},
     "output_type": "display_data"
    },
    {
     "data": {
      "text/html": [
       "Run data is saved locally in <code>C:\\Users\\lwfeckesim\\01_PyTorch\\wze-uav\\wze-uav-master\\wandb\\run-20230519_150912-ioifym5z</code>"
      ],
      "text/plain": [
       "<IPython.core.display.HTML object>"
      ]
     },
     "metadata": {},
     "output_type": "display_data"
    },
    {
     "data": {
      "text/html": [
       "Syncing run <strong><a href='https://wandb.ai/simon-ecke/wze-uav-combined-treewise/runs/ioifym5z' target=\"_blank\">fold_2_RGB-NIR-5species-combined</a></strong> to <a href='https://wandb.ai/simon-ecke/wze-uav-combined-treewise' target=\"_blank\">Weights & Biases</a> (<a href='https://wandb.me/run' target=\"_blank\">docs</a>)<br/>"
      ],
      "text/plain": [
       "<IPython.core.display.HTML object>"
      ]
     },
     "metadata": {},
     "output_type": "display_data"
    },
    {
     "data": {
      "text/html": [
       " View project at <a href='https://wandb.ai/simon-ecke/wze-uav-combined-treewise' target=\"_blank\">https://wandb.ai/simon-ecke/wze-uav-combined-treewise</a>"
      ],
      "text/plain": [
       "<IPython.core.display.HTML object>"
      ]
     },
     "metadata": {},
     "output_type": "display_data"
    },
    {
     "data": {
      "text/html": [
       " View run at <a href='https://wandb.ai/simon-ecke/wze-uav-combined-treewise/runs/ioifym5z' target=\"_blank\">https://wandb.ai/simon-ecke/wze-uav-combined-treewise/runs/ioifym5z</a>"
      ],
      "text/plain": [
       "<IPython.core.display.HTML object>"
      ]
     },
     "metadata": {},
     "output_type": "display_data"
    },
    {
     "name": "stdout",
     "output_type": "stream",
     "text": [
      "There are no same hash_id values in train, val or test datasets. The datasplit was successful\n",
      "Check shapes:\n",
      "\n",
      "Images train dataset: (10966, 250, 250, 4)\n",
      "Labels train dataset: (10966, 1)\n",
      "\n",
      "Images validation dataset: (1038, 250, 250, 4)\n",
      "Labels validation dataset: (1038, 1)\n",
      "\n",
      "--------------------------------------------------\n",
      "Check if the split was stratified: (random_state=42)\n",
      "Picea abies healthy in train dataset: 2919\n",
      "Picea abies stressed in train dataset: 1548\n",
      "Pinus sylvestris healthy in train dataset: 1474\n",
      "Pinus sylvestris stressed in train dataset: 1736\n",
      "Abies alba healthy in train dataset: 306\n",
      "Abies alba stressed in train dataset: 130\n",
      "Fagus sylvatica healthy in train dataset: 993\n",
      "Fagus sylvatica stressed in train dataset: 715\n",
      "Quercus robur/petraea healthy in train dataset: 606\n",
      "Quercus robur/petraea stressed in train dataset: 355\n",
      "Dead trees in train dataset: 184\n",
      "Picea abies healthy in validation dataset: 298\n",
      "Picea abies stressed in validation dataset: 170\n",
      "Pinus sylvestris healthy in validation dataset: 123\n",
      "Pinus sylvestris stressed in validation dataset: 153\n",
      "Abies alba healthy in validation dataset: 42\n",
      "Abies alba stressed in validation dataset: 10\n",
      "Fagus sylvatica healthy in validation dataset: 82\n",
      "Fagus sylvatica stressed in validation dataset: 64\n",
      "Quercus robur/petraea healthy in validation dataset: 46\n",
      "Quercus robur/petraea stressed in validation dataset: 33\n",
      "Dead trees in validation dataset: 17\n",
      "--------------------------------------------------\n",
      "\n",
      "Creating datasets for fold: 2\n",
      "\n",
      "Creating dataloaders for fold: 2\n",
      "\n",
      "Loaded pretrained weights for efficientnet-b7\n",
      "\n",
      "[INFO] Fold number: 2\n",
      "[INFO] Number of epochs: 50\n",
      "[INFO] Batch_size: 32\n",
      "[INFO] Number of bands: 4\n",
      "[INFO] Dropout rate: 0.5\n",
      "[INFO] Gamma learning rate: 0.75\n",
      "[INFO] Memory allocated: 0 bytes\n"
     ]
    },
    {
     "data": {
      "application/vnd.jupyter.widget-view+json": {
       "model_id": "41e2ac078ece41e18650b2a3a7a205f0",
       "version_major": 2,
       "version_minor": 0
      },
      "text/plain": [
       "  0%|          | 0/50 [00:00<?, ?it/s]"
      ]
     },
     "metadata": {},
     "output_type": "display_data"
    },
    {
     "name": "stdout",
     "output_type": "stream",
     "text": [
      "Epoch: 1 \n",
      "Learning rate: 0.001\n",
      "Train loss: 1.5156 | Train precision: 0.3410 | Train recall: 0.3032 | Train f1score: 0.3074 | Train acc: 0.3983 | Train kappa: 0.6487 \n",
      "Val loss: 2.3125 | Val precision: 0.1596 | Val recall: 0.1492 | Val f1score: 0.0752 | Val acc: 0.2705 | Val kappa: 0.4312 \n",
      "\n",
      "Epoch: 2 \n",
      "Learning rate: 0.00075\n",
      "Train loss: 1.1891 | Train precision: 0.4553 | Train recall: 0.4303 | Train f1score: 0.4357 | Train acc: 0.4915 | Train kappa: 0.8110 \n",
      "Val loss: 1.4434 | Val precision: 0.5773 | Val recall: 0.3181 | Val f1score: 0.3206 | Val acc: 0.4678 | Val kappa: 0.7192 \n",
      "\n",
      "Epoch: 3 \n",
      "Learning rate: 0.0005625000000000001\n",
      "Train loss: 1.0869 | Train precision: 0.5029 | Train recall: 0.4772 | Train f1score: 0.4845 | Train acc: 0.5256 | Train kappa: 0.8467 \n",
      "Val loss: 1.1568 | Val precision: 0.4944 | Val recall: 0.4096 | Val f1score: 0.3762 | Val acc: 0.5186 | Val kappa: 0.8370 \n",
      "\n",
      "Epoch: 4 \n",
      "Learning rate: 0.000421875\n",
      "Train loss: 1.0224 | Train precision: 0.5363 | Train recall: 0.5130 | Train f1score: 0.5183 | Train acc: 0.5508 | Train kappa: 0.8695 \n",
      "Val loss: 1.1294 | Val precision: 0.5664 | Val recall: 0.4865 | Val f1score: 0.4632 | Val acc: 0.5068 | Val kappa: 0.8587 \n",
      "\n",
      "Epoch: 5 \n",
      "Learning rate: 0.00031640625\n",
      "Train loss: 0.9754 | Train precision: 0.5696 | Train recall: 0.5413 | Train f1score: 0.5508 | Train acc: 0.5750 | Train kappa: 0.8798 \n",
      "Val loss: 1.0878 | Val precision: 0.5016 | Val recall: 0.4960 | Val f1score: 0.4646 | Val acc: 0.5303 | Val kappa: 0.8392 \n",
      "\n",
      "Epoch: 6 \n",
      "Learning rate: 0.0002373046875\n",
      "Train loss: 0.9355 | Train precision: 0.5845 | Train recall: 0.5591 | Train f1score: 0.5675 | Train acc: 0.5896 | Train kappa: 0.8867 \n",
      "Val loss: 0.9234 | Val precision: 0.5374 | Val recall: 0.5280 | Val f1score: 0.5232 | Val acc: 0.5869 | Val kappa: 0.8814 \n",
      "\n",
      "Epoch: 7 \n",
      "Learning rate: 0.000177978515625\n",
      "Train loss: 0.8819 | Train precision: 0.6109 | Train recall: 0.5872 | Train f1score: 0.5943 | Train acc: 0.6127 | Train kappa: 0.8976 \n",
      "Val loss: 0.8630 | Val precision: 0.6026 | Val recall: 0.6029 | Val f1score: 0.5941 | Val acc: 0.6250 | Val kappa: 0.9009 \n",
      "\n",
      "Epoch: 8 \n",
      "Learning rate: 0.00013348388671875\n",
      "Train loss: 0.8600 | Train precision: 0.6192 | Train recall: 0.5888 | Train f1score: 0.5981 | Train acc: 0.6134 | Train kappa: 0.9070 \n",
      "Val loss: 0.8494 | Val precision: 0.6085 | Val recall: 0.6313 | Val f1score: 0.6084 | Val acc: 0.6318 | Val kappa: 0.9055 \n",
      "\n",
      "Epoch: 9 \n",
      "Learning rate: 0.0001001129150390625\n",
      "Train loss: 0.8422 | Train precision: 0.6225 | Train recall: 0.5998 | Train f1score: 0.6084 | Train acc: 0.6195 | Train kappa: 0.9096 \n",
      "Val loss: 0.8386 | Val precision: 0.6143 | Val recall: 0.6300 | Val f1score: 0.6137 | Val acc: 0.6387 | Val kappa: 0.9112 \n",
      "\n",
      "Epoch: 10 \n",
      "Learning rate: 7.508468627929687e-05\n",
      "Train loss: 0.8140 | Train precision: 0.6438 | Train recall: 0.6254 | Train f1score: 0.6312 | Train acc: 0.6376 | Train kappa: 0.9150 \n",
      "Val loss: 0.8266 | Val precision: 0.6395 | Val recall: 0.6341 | Val f1score: 0.6246 | Val acc: 0.6455 | Val kappa: 0.9140 \n",
      "\n",
      "Epoch: 11 \n",
      "Learning rate: 5.6313514709472656e-05\n",
      "Train loss: 0.7968 | Train precision: 0.6520 | Train recall: 0.6314 | Train f1score: 0.6392 | Train acc: 0.6430 | Train kappa: 0.9227 \n",
      "Val loss: 0.8403 | Val precision: 0.6021 | Val recall: 0.6028 | Val f1score: 0.5896 | Val acc: 0.6201 | Val kappa: 0.9017 \n",
      "\n",
      "Epoch: 12 \n",
      "Learning rate: 4.223513603210449e-05\n",
      "Train loss: 0.7936 | Train precision: 0.6524 | Train recall: 0.6322 | Train f1score: 0.6394 | Train acc: 0.6415 | Train kappa: 0.9215 \n",
      "Val loss: 0.8183 | Val precision: 0.6408 | Val recall: 0.6223 | Val f1score: 0.6201 | Val acc: 0.6465 | Val kappa: 0.9209 \n",
      "\n",
      "Epoch: 13 \n",
      "Learning rate: 3.167635202407837e-05\n",
      "Train loss: 0.7898 | Train precision: 0.6577 | Train recall: 0.6366 | Train f1score: 0.6444 | Train acc: 0.6441 | Train kappa: 0.9203 \n",
      "Val loss: 0.8145 | Val precision: 0.6335 | Val recall: 0.6184 | Val f1score: 0.6202 | Val acc: 0.6436 | Val kappa: 0.9112 \n",
      "\n",
      "Epoch: 14 \n",
      "Learning rate: 2.3757264018058778e-05\n",
      "Train loss: 0.7816 | Train precision: 0.6662 | Train recall: 0.6382 | Train f1score: 0.6486 | Train acc: 0.6503 | Train kappa: 0.9285 \n",
      "Val loss: 0.8052 | Val precision: 0.6460 | Val recall: 0.6397 | Val f1score: 0.6297 | Val acc: 0.6523 | Val kappa: 0.9180 \n",
      "\n",
      "Epoch: 15 \n",
      "Learning rate: 1.7817948013544083e-05\n",
      "Train loss: 0.7764 | Train precision: 0.6649 | Train recall: 0.6413 | Train f1score: 0.6489 | Train acc: 0.6523 | Train kappa: 0.9262 \n",
      "Val loss: 0.8121 | Val precision: 0.6403 | Val recall: 0.6399 | Val f1score: 0.6300 | Val acc: 0.6582 | Val kappa: 0.9193 \n",
      "\n",
      "Epoch: 16 \n",
      "Learning rate: 1.3363461010158063e-05\n",
      "Train loss: 0.7584 | Train precision: 0.6809 | Train recall: 0.6574 | Train f1score: 0.6659 | Train acc: 0.6542 | Train kappa: 0.9323 \n",
      "Val loss: 0.8094 | Val precision: 0.6342 | Val recall: 0.6209 | Val f1score: 0.6155 | Val acc: 0.6426 | Val kappa: 0.9139 \n",
      "\n",
      "Epoch: 17 \n",
      "Learning rate: 1.0022595757618546e-05\n",
      "Train loss: 0.7749 | Train precision: 0.6689 | Train recall: 0.6446 | Train f1score: 0.6528 | Train acc: 0.6593 | Train kappa: 0.9226 \n",
      "Val loss: 0.8133 | Val precision: 0.6286 | Val recall: 0.6159 | Val f1score: 0.6106 | Val acc: 0.6387 | Val kappa: 0.9141 \n",
      "\n",
      "Epoch: 18 \n",
      "Learning rate: 7.51694681821391e-06\n",
      "Train loss: 0.7599 | Train precision: 0.6647 | Train recall: 0.6406 | Train f1score: 0.6495 | Train acc: 0.6589 | Train kappa: 0.9232 \n",
      "Val loss: 0.8189 | Val precision: 0.6247 | Val recall: 0.6280 | Val f1score: 0.6189 | Val acc: 0.6504 | Val kappa: 0.9141 \n",
      "\n",
      "Epoch: 19 \n",
      "Learning rate: 5.637710113660432e-06\n",
      "Train loss: 0.7649 | Train precision: 0.6792 | Train recall: 0.6529 | Train f1score: 0.6628 | Train acc: 0.6610 | Train kappa: 0.9313 \n",
      "Val loss: 0.8089 | Val precision: 0.6316 | Val recall: 0.6279 | Val f1score: 0.6218 | Val acc: 0.6494 | Val kappa: 0.9156 \n",
      "\n",
      "Epoch: 20 \n",
      "Learning rate: 4.228282585245324e-06\n",
      "Train loss: 0.7701 | Train precision: 0.6674 | Train recall: 0.6469 | Train f1score: 0.6552 | Train acc: 0.6501 | Train kappa: 0.9264 \n",
      "Val loss: 0.8123 | Val precision: 0.6297 | Val recall: 0.6263 | Val f1score: 0.6200 | Val acc: 0.6484 | Val kappa: 0.9168 \n",
      "\n",
      "Epoch: 21 \n",
      "Learning rate: 3.1712119389339933e-06\n",
      "Train loss: 0.7805 | Train precision: 0.6629 | Train recall: 0.6374 | Train f1score: 0.6461 | Train acc: 0.6467 | Train kappa: 0.9197 \n",
      "Val loss: 0.8072 | Val precision: 0.6425 | Val recall: 0.6332 | Val f1score: 0.6270 | Val acc: 0.6523 | Val kappa: 0.9156 \n",
      "\n",
      "Epoch: 22 \n",
      "Learning rate: 2.378408954200495e-06\n",
      "Train loss: 0.7550 | Train precision: 0.6818 | Train recall: 0.6575 | Train f1score: 0.6658 | Train acc: 0.6582 | Train kappa: 0.9321 \n",
      "Val loss: 0.8142 | Val precision: 0.6366 | Val recall: 0.6340 | Val f1score: 0.6256 | Val acc: 0.6533 | Val kappa: 0.9136 \n",
      "\n",
      "Epoch: 23 \n",
      "Learning rate: 1.7838067156503713e-06\n",
      "Train loss: 0.7674 | Train precision: 0.6685 | Train recall: 0.6475 | Train f1score: 0.6548 | Train acc: 0.6531 | Train kappa: 0.9217 \n",
      "Val loss: 0.8065 | Val precision: 0.6387 | Val recall: 0.6298 | Val f1score: 0.6237 | Val acc: 0.6494 | Val kappa: 0.9151 \n",
      "\n",
      "Epoch: 24 \n",
      "Learning rate: 1.3378550367377785e-06\n",
      "Train loss: 0.7659 | Train precision: 0.6783 | Train recall: 0.6517 | Train f1score: 0.6613 | Train acc: 0.6569 | Train kappa: 0.9252 \n",
      "Val loss: 0.8144 | Val precision: 0.6310 | Val recall: 0.6330 | Val f1score: 0.6232 | Val acc: 0.6523 | Val kappa: 0.9161 \n",
      "\n",
      "Early stopping after epoch 24\n"
     ]
    },
    {
     "data": {
      "text/html": [
       "Waiting for W&B process to finish... <strong style=\"color:green\">(success).</strong>"
      ],
      "text/plain": [
       "<IPython.core.display.HTML object>"
      ]
     },
     "metadata": {},
     "output_type": "display_data"
    },
    {
     "data": {
      "application/vnd.jupyter.widget-view+json": {
       "model_id": "5a84813bd7ce4e74896ca529f5bc5f49",
       "version_major": 2,
       "version_minor": 0
      },
      "text/plain": [
       "VBox(children=(Label(value='0.001 MB of 0.001 MB uploaded (0.000 MB deduped)\\r'), FloatProgress(value=1.0, max…"
      ]
     },
     "metadata": {},
     "output_type": "display_data"
    },
    {
     "data": {
      "text/html": [
       "<style>\n",
       "    table.wandb td:nth-child(1) { padding: 0 10px; text-align: left ; width: auto;} td:nth-child(2) {text-align: left ; width: 100%}\n",
       "    .wandb-row { display: flex; flex-direction: row; flex-wrap: wrap; justify-content: flex-start; width: 100% }\n",
       "    .wandb-col { display: flex; flex-direction: column; flex-basis: 100%; flex: 1; padding: 10px; }\n",
       "    </style>\n",
       "<div class=\"wandb-row\"><div class=\"wandb-col\"><h3>Run history:</h3><br/><table class=\"wandb\"><tr><td>learning_rate</td><td>█▆▅▄▃▃▂▂▂▂▁▁▁▁▁▁▁▁▁▁▁▁▁▁</td></tr><tr><td>train_f1_score</td><td>▁▄▄▅▆▆▇▇▇▇▇▇████████████</td></tr><tr><td>train_loss</td><td>█▅▄▃▃▃▂▂▂▂▁▁▁▁▁▁▁▁▁▁▁▁▁▁</td></tr><tr><td>val_f1_score</td><td>▁▄▅▆▆▇████▇█████████████</td></tr><tr><td>val_loss</td><td>█▄▃▃▂▂▁▁▁▁▁▁▁▁▁▁▁▁▁▁▁▁▁▁</td></tr></table><br/></div><div class=\"wandb-col\"><h3>Run summary:</h3><br/><table class=\"wandb\"><tr><td>learning_rate</td><td>0.0</td></tr><tr><td>train_f1_score</td><td>0.66131</td></tr><tr><td>train_loss</td><td>0.76592</td></tr><tr><td>val_f1_score</td><td>0.62323</td></tr><tr><td>val_loss</td><td>0.81444</td></tr></table><br/></div></div>"
      ],
      "text/plain": [
       "<IPython.core.display.HTML object>"
      ]
     },
     "metadata": {},
     "output_type": "display_data"
    },
    {
     "data": {
      "text/html": [
       " View run <strong style=\"color:#cdcd00\">fold_2_RGB-NIR-5species-combined</strong> at: <a href='https://wandb.ai/simon-ecke/wze-uav-combined-treewise/runs/ioifym5z' target=\"_blank\">https://wandb.ai/simon-ecke/wze-uav-combined-treewise/runs/ioifym5z</a><br/>Synced 5 W&B file(s), 0 media file(s), 0 artifact file(s) and 0 other file(s)"
      ],
      "text/plain": [
       "<IPython.core.display.HTML object>"
      ]
     },
     "metadata": {},
     "output_type": "display_data"
    },
    {
     "data": {
      "text/html": [
       "Find logs at: <code>.\\wandb\\run-20230519_150912-ioifym5z\\logs</code>"
      ],
      "text/plain": [
       "<IPython.core.display.HTML object>"
      ]
     },
     "metadata": {},
     "output_type": "display_data"
    },
    {
     "name": "stdout",
     "output_type": "stream",
     "text": [
      "Deleting variables and emptying cache\n",
      "Memory allocated: 1053819904 bytes\n",
      "--------------------------------------------------\n",
      "\n",
      "Fold : 3\n",
      "TRAIN POSITIVE RATIO: 2.9322698268003644\n",
      "VAL POSITIVE RATIO  : 2.8825896122896855\n",
      "LENGTH TRAIN GROUPS : 4158\n",
      "LENGTH VAL GROUPS   : 1039\n"
     ]
    },
    {
     "data": {
      "text/html": [
       "wandb version 0.15.3 is available!  To upgrade, please run:\n",
       " $ pip install wandb --upgrade"
      ],
      "text/plain": [
       "<IPython.core.display.HTML object>"
      ]
     },
     "metadata": {},
     "output_type": "display_data"
    },
    {
     "data": {
      "text/html": [
       "Tracking run with wandb version 0.14.2"
      ],
      "text/plain": [
       "<IPython.core.display.HTML object>"
      ]
     },
     "metadata": {},
     "output_type": "display_data"
    },
    {
     "data": {
      "text/html": [
       "Run data is saved locally in <code>C:\\Users\\lwfeckesim\\01_PyTorch\\wze-uav\\wze-uav-master\\wandb\\run-20230519_170410-rmu7by1h</code>"
      ],
      "text/plain": [
       "<IPython.core.display.HTML object>"
      ]
     },
     "metadata": {},
     "output_type": "display_data"
    },
    {
     "data": {
      "text/html": [
       "Syncing run <strong><a href='https://wandb.ai/simon-ecke/wze-uav-combined-treewise/runs/rmu7by1h' target=\"_blank\">fold_3_RGB-NIR-5species-combined</a></strong> to <a href='https://wandb.ai/simon-ecke/wze-uav-combined-treewise' target=\"_blank\">Weights & Biases</a> (<a href='https://wandb.me/run' target=\"_blank\">docs</a>)<br/>"
      ],
      "text/plain": [
       "<IPython.core.display.HTML object>"
      ]
     },
     "metadata": {},
     "output_type": "display_data"
    },
    {
     "data": {
      "text/html": [
       " View project at <a href='https://wandb.ai/simon-ecke/wze-uav-combined-treewise' target=\"_blank\">https://wandb.ai/simon-ecke/wze-uav-combined-treewise</a>"
      ],
      "text/plain": [
       "<IPython.core.display.HTML object>"
      ]
     },
     "metadata": {},
     "output_type": "display_data"
    },
    {
     "data": {
      "text/html": [
       " View run at <a href='https://wandb.ai/simon-ecke/wze-uav-combined-treewise/runs/rmu7by1h' target=\"_blank\">https://wandb.ai/simon-ecke/wze-uav-combined-treewise/runs/rmu7by1h</a>"
      ],
      "text/plain": [
       "<IPython.core.display.HTML object>"
      ]
     },
     "metadata": {},
     "output_type": "display_data"
    },
    {
     "name": "stdout",
     "output_type": "stream",
     "text": [
      "There are no same hash_id values in train, val or test datasets. The datasplit was successful\n",
      "Check shapes:\n",
      "\n",
      "Images train dataset: (10970, 250, 250, 4)\n",
      "Labels train dataset: (10970, 1)\n",
      "\n",
      "Images validation dataset: (1039, 250, 250, 4)\n",
      "Labels validation dataset: (1039, 1)\n",
      "\n",
      "--------------------------------------------------\n",
      "Check if the split was stratified: (random_state=42)\n",
      "Picea abies healthy in train dataset: 3011\n",
      "Picea abies stressed in train dataset: 1543\n",
      "Pinus sylvestris healthy in train dataset: 1388\n",
      "Pinus sylvestris stressed in train dataset: 1743\n",
      "Abies alba healthy in train dataset: 336\n",
      "Abies alba stressed in train dataset: 124\n",
      "Fagus sylvatica healthy in train dataset: 985\n",
      "Fagus sylvatica stressed in train dataset: 707\n",
      "Quercus robur/petraea healthy in train dataset: 587\n",
      "Quercus robur/petraea stressed in train dataset: 360\n",
      "Dead trees in train dataset: 186\n",
      "Picea abies healthy in validation dataset: 271\n",
      "Picea abies stressed in validation dataset: 164\n",
      "Pinus sylvestris healthy in validation dataset: 146\n",
      "Pinus sylvestris stressed in validation dataset: 159\n",
      "Abies alba healthy in validation dataset: 28\n",
      "Abies alba stressed in validation dataset: 16\n",
      "Fagus sylvatica healthy in validation dataset: 96\n",
      "Fagus sylvatica stressed in validation dataset: 61\n",
      "Quercus robur/petraea healthy in validation dataset: 58\n",
      "Quercus robur/petraea stressed in validation dataset: 26\n",
      "Dead trees in validation dataset: 14\n",
      "--------------------------------------------------\n",
      "\n",
      "Creating datasets for fold: 3\n",
      "\n",
      "Creating dataloaders for fold: 3\n",
      "\n",
      "Loaded pretrained weights for efficientnet-b7\n",
      "\n",
      "[INFO] Fold number: 3\n",
      "[INFO] Number of epochs: 50\n",
      "[INFO] Batch_size: 32\n",
      "[INFO] Number of bands: 4\n",
      "[INFO] Dropout rate: 0.5\n",
      "[INFO] Gamma learning rate: 0.75\n",
      "[INFO] Memory allocated: 0 bytes\n"
     ]
    },
    {
     "data": {
      "application/vnd.jupyter.widget-view+json": {
       "model_id": "2dda27e891e14b3ba62bbbe81b55abfb",
       "version_major": 2,
       "version_minor": 0
      },
      "text/plain": [
       "  0%|          | 0/50 [00:00<?, ?it/s]"
      ]
     },
     "metadata": {},
     "output_type": "display_data"
    },
    {
     "name": "stdout",
     "output_type": "stream",
     "text": [
      "Epoch: 1 \n",
      "Learning rate: 0.001\n",
      "Train loss: 1.5464 | Train precision: 0.3096 | Train recall: 0.2774 | Train f1score: 0.2788 | Train acc: 0.3894 | Train kappa: 0.6408 \n",
      "Val loss: 2.2774 | Val precision: 0.1663 | Val recall: 0.1693 | Val f1score: 0.1067 | Val acc: 0.1904 | Val kappa: 0.2728 \n",
      "\n",
      "Epoch: 2 \n",
      "Learning rate: 0.00075\n",
      "Train loss: 1.2106 | Train precision: 0.4432 | Train recall: 0.4136 | Train f1score: 0.4179 | Train acc: 0.4834 | Train kappa: 0.7984 \n",
      "Val loss: 2.0199 | Val precision: 0.3450 | Val recall: 0.2151 | Val f1score: 0.1811 | Val acc: 0.2773 | Val kappa: 0.2908 \n",
      "\n",
      "Epoch: 3 \n",
      "Learning rate: 0.0005625000000000001\n",
      "Train loss: 1.0889 | Train precision: 0.5068 | Train recall: 0.4832 | Train f1score: 0.4866 | Train acc: 0.5302 | Train kappa: 0.8411 \n",
      "Val loss: 1.1015 | Val precision: 0.4822 | Val recall: 0.4527 | Val f1score: 0.4205 | Val acc: 0.5273 | Val kappa: 0.8493 \n",
      "\n",
      "Epoch: 4 \n",
      "Learning rate: 0.000421875\n",
      "Train loss: 1.0142 | Train precision: 0.5415 | Train recall: 0.5168 | Train f1score: 0.5237 | Train acc: 0.5587 | Train kappa: 0.8598 \n",
      "Val loss: 1.0878 | Val precision: 0.5037 | Val recall: 0.5099 | Val f1score: 0.4773 | Val acc: 0.5322 | Val kappa: 0.8716 \n",
      "\n",
      "Epoch: 5 \n",
      "Learning rate: 0.00031640625\n",
      "Train loss: 0.9452 | Train precision: 0.5800 | Train recall: 0.5507 | Train f1score: 0.5603 | Train acc: 0.5889 | Train kappa: 0.8803 \n",
      "Val loss: 1.0623 | Val precision: 0.5198 | Val recall: 0.4663 | Val f1score: 0.4623 | Val acc: 0.5469 | Val kappa: 0.8139 \n",
      "\n",
      "Epoch: 6 \n",
      "Learning rate: 0.0002373046875\n",
      "Train loss: 0.9229 | Train precision: 0.5864 | Train recall: 0.5607 | Train f1score: 0.5685 | Train acc: 0.5868 | Train kappa: 0.8913 \n",
      "Val loss: 1.0062 | Val precision: 0.5431 | Val recall: 0.5367 | Val f1score: 0.5274 | Val acc: 0.5625 | Val kappa: 0.8933 \n",
      "\n",
      "Epoch: 7 \n",
      "Learning rate: 0.000177978515625\n",
      "Train loss: 0.8916 | Train precision: 0.6221 | Train recall: 0.5945 | Train f1score: 0.6030 | Train acc: 0.6227 | Train kappa: 0.8999 \n",
      "Val loss: 0.8976 | Val precision: 0.5830 | Val recall: 0.5696 | Val f1score: 0.5676 | Val acc: 0.5977 | Val kappa: 0.9013 \n",
      "\n",
      "Epoch: 8 \n",
      "Learning rate: 0.00013348388671875\n",
      "Train loss: 0.8626 | Train precision: 0.6361 | Train recall: 0.6079 | Train f1score: 0.6161 | Train acc: 0.6222 | Train kappa: 0.9064 \n",
      "Val loss: 0.8917 | Val precision: 0.5956 | Val recall: 0.5472 | Val f1score: 0.5545 | Val acc: 0.6035 | Val kappa: 0.9180 \n",
      "\n",
      "Epoch: 9 \n",
      "Learning rate: 0.0001001129150390625\n",
      "Train loss: 0.8356 | Train precision: 0.6341 | Train recall: 0.6074 | Train f1score: 0.6157 | Train acc: 0.6325 | Train kappa: 0.9040 \n",
      "Val loss: 0.8779 | Val precision: 0.6178 | Val recall: 0.5923 | Val f1score: 0.5919 | Val acc: 0.6064 | Val kappa: 0.9214 \n",
      "\n",
      "Epoch: 10 \n",
      "Learning rate: 7.508468627929687e-05\n",
      "Train loss: 0.8196 | Train precision: 0.6492 | Train recall: 0.6181 | Train f1score: 0.6276 | Train acc: 0.6329 | Train kappa: 0.9123 \n",
      "Val loss: 0.8812 | Val precision: 0.5991 | Val recall: 0.5797 | Val f1score: 0.5718 | Val acc: 0.6006 | Val kappa: 0.9182 \n",
      "\n",
      "Epoch: 11 \n",
      "Learning rate: 5.6313514709472656e-05\n",
      "Train loss: 0.8095 | Train precision: 0.6462 | Train recall: 0.6249 | Train f1score: 0.6318 | Train acc: 0.6368 | Train kappa: 0.9107 \n",
      "Val loss: 0.8673 | Val precision: 0.5968 | Val recall: 0.5820 | Val f1score: 0.5831 | Val acc: 0.6230 | Val kappa: 0.9207 \n",
      "\n",
      "Epoch: 12 \n",
      "Learning rate: 4.223513603210449e-05\n",
      "Train loss: 0.7917 | Train precision: 0.6655 | Train recall: 0.6347 | Train f1score: 0.6453 | Train acc: 0.6541 | Train kappa: 0.9164 \n",
      "Val loss: 0.8589 | Val precision: 0.6119 | Val recall: 0.5964 | Val f1score: 0.5995 | Val acc: 0.6318 | Val kappa: 0.9270 \n",
      "\n",
      "Epoch: 13 \n",
      "Learning rate: 3.167635202407837e-05\n",
      "Train loss: 0.7822 | Train precision: 0.6715 | Train recall: 0.6393 | Train f1score: 0.6499 | Train acc: 0.6492 | Train kappa: 0.9178 \n",
      "Val loss: 0.8620 | Val precision: 0.6117 | Val recall: 0.5960 | Val f1score: 0.5983 | Val acc: 0.6299 | Val kappa: 0.9342 \n",
      "\n",
      "Epoch: 14 \n",
      "Learning rate: 2.3757264018058778e-05\n",
      "Train loss: 0.7853 | Train precision: 0.6557 | Train recall: 0.6352 | Train f1score: 0.6407 | Train acc: 0.6467 | Train kappa: 0.9176 \n",
      "Val loss: 0.8583 | Val precision: 0.6142 | Val recall: 0.5868 | Val f1score: 0.5959 | Val acc: 0.6318 | Val kappa: 0.9307 \n",
      "\n",
      "Epoch: 15 \n",
      "Learning rate: 1.7817948013544083e-05\n",
      "Train loss: 0.7780 | Train precision: 0.6669 | Train recall: 0.6383 | Train f1score: 0.6467 | Train acc: 0.6540 | Train kappa: 0.9219 \n",
      "Val loss: 0.8580 | Val precision: 0.6175 | Val recall: 0.5804 | Val f1score: 0.5878 | Val acc: 0.6211 | Val kappa: 0.9259 \n",
      "\n",
      "Epoch: 16 \n",
      "Learning rate: 1.3363461010158063e-05\n",
      "Train loss: 0.7720 | Train precision: 0.6740 | Train recall: 0.6491 | Train f1score: 0.6564 | Train acc: 0.6567 | Train kappa: 0.9216 \n",
      "Val loss: 0.8617 | Val precision: 0.6099 | Val recall: 0.5880 | Val f1score: 0.5934 | Val acc: 0.6270 | Val kappa: 0.9303 \n",
      "\n",
      "Epoch: 17 \n",
      "Learning rate: 1.0022595757618546e-05\n",
      "Train loss: 0.7682 | Train precision: 0.6723 | Train recall: 0.6503 | Train f1score: 0.6565 | Train acc: 0.6549 | Train kappa: 0.9187 \n",
      "Val loss: 0.8609 | Val precision: 0.6291 | Val recall: 0.6009 | Val f1score: 0.6099 | Val acc: 0.6309 | Val kappa: 0.9328 \n",
      "\n",
      "Epoch: 18 \n",
      "Learning rate: 7.51694681821391e-06\n",
      "Train loss: 0.7703 | Train precision: 0.6715 | Train recall: 0.6479 | Train f1score: 0.6562 | Train acc: 0.6583 | Train kappa: 0.9219 \n",
      "Val loss: 0.8622 | Val precision: 0.6162 | Val recall: 0.5942 | Val f1score: 0.6007 | Val acc: 0.6270 | Val kappa: 0.9297 \n",
      "\n",
      "Epoch: 19 \n",
      "Learning rate: 5.637710113660432e-06\n",
      "Train loss: 0.7641 | Train precision: 0.6708 | Train recall: 0.6482 | Train f1score: 0.6559 | Train acc: 0.6609 | Train kappa: 0.9192 \n",
      "Val loss: 0.8611 | Val precision: 0.6162 | Val recall: 0.5922 | Val f1score: 0.5978 | Val acc: 0.6328 | Val kappa: 0.9363 \n",
      "\n",
      "Epoch: 20 \n",
      "Learning rate: 4.228282585245324e-06\n",
      "Train loss: 0.7588 | Train precision: 0.6734 | Train recall: 0.6517 | Train f1score: 0.6579 | Train acc: 0.6644 | Train kappa: 0.9229 \n",
      "Val loss: 0.8585 | Val precision: 0.6200 | Val recall: 0.5941 | Val f1score: 0.6026 | Val acc: 0.6318 | Val kappa: 0.9329 \n",
      "\n",
      "Epoch: 21 \n",
      "Learning rate: 3.1712119389339933e-06\n",
      "Train loss: 0.7664 | Train precision: 0.6685 | Train recall: 0.6483 | Train f1score: 0.6543 | Train acc: 0.6581 | Train kappa: 0.9205 \n",
      "Val loss: 0.8570 | Val precision: 0.6201 | Val recall: 0.5929 | Val f1score: 0.6015 | Val acc: 0.6260 | Val kappa: 0.9336 \n",
      "\n",
      "Epoch: 22 \n",
      "Learning rate: 2.378408954200495e-06\n",
      "Train loss: 0.7564 | Train precision: 0.6796 | Train recall: 0.6562 | Train f1score: 0.6636 | Train acc: 0.6646 | Train kappa: 0.9254 \n",
      "Val loss: 0.8571 | Val precision: 0.6177 | Val recall: 0.5907 | Val f1score: 0.5990 | Val acc: 0.6270 | Val kappa: 0.9352 \n",
      "\n",
      "Epoch: 23 \n",
      "Learning rate: 1.7838067156503713e-06\n",
      "Train loss: 0.7689 | Train precision: 0.6810 | Train recall: 0.6529 | Train f1score: 0.6620 | Train acc: 0.6576 | Train kappa: 0.9241 \n",
      "Val loss: 0.8581 | Val precision: 0.6242 | Val recall: 0.5991 | Val f1score: 0.6065 | Val acc: 0.6357 | Val kappa: 0.9363 \n",
      "\n",
      "Epoch: 24 \n",
      "Learning rate: 1.3378550367377785e-06\n",
      "Train loss: 0.7661 | Train precision: 0.6791 | Train recall: 0.6532 | Train f1score: 0.6625 | Train acc: 0.6579 | Train kappa: 0.9261 \n",
      "Val loss: 0.8566 | Val precision: 0.6200 | Val recall: 0.5937 | Val f1score: 0.6023 | Val acc: 0.6299 | Val kappa: 0.9355 \n",
      "\n",
      "Epoch: 25 \n",
      "Learning rate: 1.0033912775533338e-06\n",
      "Train loss: 0.7571 | Train precision: 0.6845 | Train recall: 0.6614 | Train f1score: 0.6699 | Train acc: 0.6597 | Train kappa: 0.9291 \n",
      "Val loss: 0.8580 | Val precision: 0.6243 | Val recall: 0.5990 | Val f1score: 0.6076 | Val acc: 0.6328 | Val kappa: 0.9368 \n",
      "\n",
      "Epoch: 26 \n",
      "Learning rate: 1e-06\n",
      "Train loss: 0.7503 | Train precision: 0.6766 | Train recall: 0.6570 | Train f1score: 0.6634 | Train acc: 0.6658 | Train kappa: 0.9242 \n",
      "Val loss: 0.8563 | Val precision: 0.6234 | Val recall: 0.5929 | Val f1score: 0.6027 | Val acc: 0.6309 | Val kappa: 0.9375 \n",
      "\n",
      "Epoch: 27 \n",
      "Learning rate: 1e-06\n",
      "Train loss: 0.7587 | Train precision: 0.6864 | Train recall: 0.6584 | Train f1score: 0.6686 | Train acc: 0.6640 | Train kappa: 0.9264 \n",
      "Val loss: 0.8560 | Val precision: 0.6249 | Val recall: 0.5930 | Val f1score: 0.6040 | Val acc: 0.6289 | Val kappa: 0.9359 \n",
      "\n"
     ]
    },
    {
     "name": "stdout",
     "output_type": "stream",
     "text": [
      "Epoch: 28 \n",
      "Learning rate: 1e-06\n",
      "Train loss: 0.7602 | Train precision: 0.6637 | Train recall: 0.6512 | Train f1score: 0.6541 | Train acc: 0.6614 | Train kappa: 0.9255 \n",
      "Val loss: 0.8566 | Val precision: 0.6157 | Val recall: 0.5922 | Val f1score: 0.6000 | Val acc: 0.6289 | Val kappa: 0.9360 \n",
      "\n",
      "Epoch: 29 \n",
      "Learning rate: 1e-06\n",
      "Train loss: 0.7616 | Train precision: 0.6804 | Train recall: 0.6546 | Train f1score: 0.6634 | Train acc: 0.6620 | Train kappa: 0.9250 \n",
      "Val loss: 0.8573 | Val precision: 0.6179 | Val recall: 0.5938 | Val f1score: 0.6008 | Val acc: 0.6289 | Val kappa: 0.9361 \n",
      "\n",
      "Epoch: 30 \n",
      "Learning rate: 1e-06\n",
      "Train loss: 0.7613 | Train precision: 0.6760 | Train recall: 0.6466 | Train f1score: 0.6562 | Train acc: 0.6601 | Train kappa: 0.9243 \n",
      "Val loss: 0.8546 | Val precision: 0.6287 | Val recall: 0.5990 | Val f1score: 0.6089 | Val acc: 0.6338 | Val kappa: 0.9362 \n",
      "\n",
      "Epoch: 31 \n",
      "Learning rate: 1e-06\n",
      "Train loss: 0.7649 | Train precision: 0.6842 | Train recall: 0.6541 | Train f1score: 0.6648 | Train acc: 0.6551 | Train kappa: 0.9261 \n",
      "Val loss: 0.8570 | Val precision: 0.6187 | Val recall: 0.5917 | Val f1score: 0.6005 | Val acc: 0.6289 | Val kappa: 0.9331 \n",
      "\n",
      "Epoch: 32 \n",
      "Learning rate: 1e-06\n",
      "Train loss: 0.7593 | Train precision: 0.6714 | Train recall: 0.6525 | Train f1score: 0.6590 | Train acc: 0.6560 | Train kappa: 0.9241 \n",
      "Val loss: 0.8547 | Val precision: 0.6249 | Val recall: 0.5943 | Val f1score: 0.6046 | Val acc: 0.6299 | Val kappa: 0.9329 \n",
      "\n",
      "Epoch: 33 \n",
      "Learning rate: 1e-06\n",
      "Train loss: 0.7653 | Train precision: 0.6790 | Train recall: 0.6573 | Train f1score: 0.6640 | Train acc: 0.6622 | Train kappa: 0.9254 \n",
      "Val loss: 0.8567 | Val precision: 0.6206 | Val recall: 0.5915 | Val f1score: 0.6014 | Val acc: 0.6289 | Val kappa: 0.9325 \n",
      "\n",
      "Epoch: 34 \n",
      "Learning rate: 1e-06\n",
      "Train loss: 0.7498 | Train precision: 0.6711 | Train recall: 0.6505 | Train f1score: 0.6578 | Train acc: 0.6558 | Train kappa: 0.9319 \n",
      "Val loss: 0.8557 | Val precision: 0.6269 | Val recall: 0.5957 | Val f1score: 0.6061 | Val acc: 0.6348 | Val kappa: 0.9383 \n",
      "\n",
      "Epoch: 35 \n",
      "Learning rate: 1e-06\n",
      "Train loss: 0.7613 | Train precision: 0.6810 | Train recall: 0.6473 | Train f1score: 0.6598 | Train acc: 0.6551 | Train kappa: 0.9228 \n",
      "Val loss: 0.8570 | Val precision: 0.6215 | Val recall: 0.5959 | Val f1score: 0.6033 | Val acc: 0.6309 | Val kappa: 0.9366 \n",
      "\n",
      "Epoch: 36 \n",
      "Learning rate: 1e-06\n",
      "Train loss: 0.7606 | Train precision: 0.6821 | Train recall: 0.6554 | Train f1score: 0.6644 | Train acc: 0.6617 | Train kappa: 0.9234 \n",
      "Val loss: 0.8559 | Val precision: 0.6251 | Val recall: 0.5991 | Val f1score: 0.6082 | Val acc: 0.6367 | Val kappa: 0.9331 \n",
      "\n",
      "Epoch: 37 \n",
      "Learning rate: 1e-06\n",
      "Train loss: 0.7614 | Train precision: 0.6806 | Train recall: 0.6583 | Train f1score: 0.6652 | Train acc: 0.6567 | Train kappa: 0.9291 \n",
      "Val loss: 0.8569 | Val precision: 0.6244 | Val recall: 0.5972 | Val f1score: 0.6056 | Val acc: 0.6328 | Val kappa: 0.9370 \n",
      "\n",
      "Epoch: 38 \n",
      "Learning rate: 1e-06\n",
      "Train loss: 0.7624 | Train precision: 0.6760 | Train recall: 0.6494 | Train f1score: 0.6589 | Train acc: 0.6605 | Train kappa: 0.9248 \n",
      "Val loss: 0.8550 | Val precision: 0.6251 | Val recall: 0.5986 | Val f1score: 0.6073 | Val acc: 0.6318 | Val kappa: 0.9341 \n",
      "\n",
      "Epoch: 39 \n",
      "Learning rate: 1e-06\n",
      "Train loss: 0.7509 | Train precision: 0.6888 | Train recall: 0.6554 | Train f1score: 0.6671 | Train acc: 0.6605 | Train kappa: 0.9260 \n",
      "Val loss: 0.8571 | Val precision: 0.6183 | Val recall: 0.5922 | Val f1score: 0.6004 | Val acc: 0.6299 | Val kappa: 0.9360 \n",
      "\n",
      "Epoch: 40 \n",
      "Learning rate: 1e-06\n",
      "Train loss: 0.7400 | Train precision: 0.6888 | Train recall: 0.6647 | Train f1score: 0.6738 | Train acc: 0.6721 | Train kappa: 0.9278 \n",
      "Val loss: 0.8555 | Val precision: 0.6239 | Val recall: 0.5964 | Val f1score: 0.6047 | Val acc: 0.6328 | Val kappa: 0.9355 \n",
      "\n",
      "Early stopping after epoch 40\n"
     ]
    },
    {
     "data": {
      "text/html": [
       "Waiting for W&B process to finish... <strong style=\"color:green\">(success).</strong>"
      ],
      "text/plain": [
       "<IPython.core.display.HTML object>"
      ]
     },
     "metadata": {},
     "output_type": "display_data"
    },
    {
     "data": {
      "application/vnd.jupyter.widget-view+json": {
       "model_id": "ec4b7d4c14cc46ecb829c8ddbc0f28c9",
       "version_major": 2,
       "version_minor": 0
      },
      "text/plain": [
       "VBox(children=(Label(value='0.001 MB of 0.001 MB uploaded (0.000 MB deduped)\\r'), FloatProgress(value=1.0, max…"
      ]
     },
     "metadata": {},
     "output_type": "display_data"
    },
    {
     "data": {
      "text/html": [
       "<style>\n",
       "    table.wandb td:nth-child(1) { padding: 0 10px; text-align: left ; width: auto;} td:nth-child(2) {text-align: left ; width: 100%}\n",
       "    .wandb-row { display: flex; flex-direction: row; flex-wrap: wrap; justify-content: flex-start; width: 100% }\n",
       "    .wandb-col { display: flex; flex-direction: column; flex-basis: 100%; flex: 1; padding: 10px; }\n",
       "    </style>\n",
       "<div class=\"wandb-row\"><div class=\"wandb-col\"><h3>Run history:</h3><br/><table class=\"wandb\"><tr><td>learning_rate</td><td>█▆▅▄▃▃▂▂▂▂▁▁▁▁▁▁▁▁▁▁▁▁▁▁▁▁▁▁▁▁▁▁▁▁▁▁▁▁▁▁</td></tr><tr><td>train_f1_score</td><td>▁▃▅▅▆▆▇▇▇▇▇▇█▇██████████████████████████</td></tr><tr><td>train_loss</td><td>█▅▄▃▃▃▂▂▂▂▂▁▁▁▁▁▁▁▁▁▁▁▁▁▁▁▁▁▁▁▁▁▁▁▁▁▁▁▁▁</td></tr><tr><td>val_f1_score</td><td>▁▂▅▆▆▇▇▇█▇██████████████████████████████</td></tr><tr><td>val_loss</td><td>█▇▂▂▂▂▁▁▁▁▁▁▁▁▁▁▁▁▁▁▁▁▁▁▁▁▁▁▁▁▁▁▁▁▁▁▁▁▁▁</td></tr></table><br/></div><div class=\"wandb-col\"><h3>Run summary:</h3><br/><table class=\"wandb\"><tr><td>learning_rate</td><td>0.0</td></tr><tr><td>train_f1_score</td><td>0.67383</td></tr><tr><td>train_loss</td><td>0.73998</td></tr><tr><td>val_f1_score</td><td>0.6047</td></tr><tr><td>val_loss</td><td>0.85546</td></tr></table><br/></div></div>"
      ],
      "text/plain": [
       "<IPython.core.display.HTML object>"
      ]
     },
     "metadata": {},
     "output_type": "display_data"
    },
    {
     "data": {
      "text/html": [
       " View run <strong style=\"color:#cdcd00\">fold_3_RGB-NIR-5species-combined</strong> at: <a href='https://wandb.ai/simon-ecke/wze-uav-combined-treewise/runs/rmu7by1h' target=\"_blank\">https://wandb.ai/simon-ecke/wze-uav-combined-treewise/runs/rmu7by1h</a><br/>Synced 5 W&B file(s), 0 media file(s), 0 artifact file(s) and 0 other file(s)"
      ],
      "text/plain": [
       "<IPython.core.display.HTML object>"
      ]
     },
     "metadata": {},
     "output_type": "display_data"
    },
    {
     "data": {
      "text/html": [
       "Find logs at: <code>.\\wandb\\run-20230519_170410-rmu7by1h\\logs</code>"
      ],
      "text/plain": [
       "<IPython.core.display.HTML object>"
      ]
     },
     "metadata": {},
     "output_type": "display_data"
    },
    {
     "name": "stdout",
     "output_type": "stream",
     "text": [
      "Deleting variables and emptying cache\n",
      "Memory allocated: 1055497216 bytes\n",
      "--------------------------------------------------\n",
      "\n",
      "Fold : 4\n",
      "TRAIN POSITIVE RATIO: 2.9034911350758543\n",
      "VAL POSITIVE RATIO  : 2.997103548153512\n",
      "LENGTH TRAIN GROUPS : 4156\n",
      "LENGTH VAL GROUPS   : 1041\n"
     ]
    },
    {
     "data": {
      "text/html": [
       "wandb version 0.15.3 is available!  To upgrade, please run:\n",
       " $ pip install wandb --upgrade"
      ],
      "text/plain": [
       "<IPython.core.display.HTML object>"
      ]
     },
     "metadata": {},
     "output_type": "display_data"
    },
    {
     "data": {
      "text/html": [
       "Tracking run with wandb version 0.14.2"
      ],
      "text/plain": [
       "<IPython.core.display.HTML object>"
      ]
     },
     "metadata": {},
     "output_type": "display_data"
    },
    {
     "data": {
      "text/html": [
       "Run data is saved locally in <code>C:\\Users\\lwfeckesim\\01_PyTorch\\wze-uav\\wze-uav-master\\wandb\\run-20230519_201054-vbnmwcjg</code>"
      ],
      "text/plain": [
       "<IPython.core.display.HTML object>"
      ]
     },
     "metadata": {},
     "output_type": "display_data"
    },
    {
     "data": {
      "text/html": [
       "Syncing run <strong><a href='https://wandb.ai/simon-ecke/wze-uav-combined-treewise/runs/vbnmwcjg' target=\"_blank\">fold_4_RGB-NIR-5species-combined</a></strong> to <a href='https://wandb.ai/simon-ecke/wze-uav-combined-treewise' target=\"_blank\">Weights & Biases</a> (<a href='https://wandb.me/run' target=\"_blank\">docs</a>)<br/>"
      ],
      "text/plain": [
       "<IPython.core.display.HTML object>"
      ]
     },
     "metadata": {},
     "output_type": "display_data"
    },
    {
     "data": {
      "text/html": [
       " View project at <a href='https://wandb.ai/simon-ecke/wze-uav-combined-treewise' target=\"_blank\">https://wandb.ai/simon-ecke/wze-uav-combined-treewise</a>"
      ],
      "text/plain": [
       "<IPython.core.display.HTML object>"
      ]
     },
     "metadata": {},
     "output_type": "display_data"
    },
    {
     "data": {
      "text/html": [
       " View run at <a href='https://wandb.ai/simon-ecke/wze-uav-combined-treewise/runs/vbnmwcjg' target=\"_blank\">https://wandb.ai/simon-ecke/wze-uav-combined-treewise/runs/vbnmwcjg</a>"
      ],
      "text/plain": [
       "<IPython.core.display.HTML object>"
      ]
     },
     "metadata": {},
     "output_type": "display_data"
    },
    {
     "name": "stdout",
     "output_type": "stream",
     "text": [
      "There are no same hash_id values in train, val or test datasets. The datasplit was successful\n",
      "Check shapes:\n",
      "\n",
      "Images train dataset: (10942, 250, 250, 4)\n",
      "Labels train dataset: (10942, 1)\n",
      "\n",
      "Images validation dataset: (1042, 250, 250, 4)\n",
      "Labels validation dataset: (1042, 1)\n",
      "\n",
      "--------------------------------------------------\n",
      "Check if the split was stratified: (random_state=42)\n",
      "Picea abies healthy in train dataset: 2996\n",
      "Picea abies stressed in train dataset: 1574\n",
      "Pinus sylvestris healthy in train dataset: 1433\n",
      "Pinus sylvestris stressed in train dataset: 1737\n",
      "Abies alba healthy in train dataset: 317\n",
      "Abies alba stressed in train dataset: 129\n",
      "Fagus sylvatica healthy in train dataset: 944\n",
      "Fagus sylvatica stressed in train dataset: 672\n",
      "Quercus robur/petraea healthy in train dataset: 604\n",
      "Quercus robur/petraea stressed in train dataset: 354\n",
      "Dead trees in train dataset: 182\n",
      "Picea abies healthy in validation dataset: 282\n",
      "Picea abies stressed in validation dataset: 144\n",
      "Pinus sylvestris healthy in validation dataset: 128\n",
      "Pinus sylvestris stressed in validation dataset: 165\n",
      "Abies alba healthy in validation dataset: 33\n",
      "Abies alba stressed in validation dataset: 12\n",
      "Fagus sylvatica healthy in validation dataset: 109\n",
      "Fagus sylvatica stressed in validation dataset: 72\n",
      "Quercus robur/petraea healthy in validation dataset: 46\n",
      "Quercus robur/petraea stressed in validation dataset: 33\n",
      "Dead trees in validation dataset: 18\n",
      "--------------------------------------------------\n",
      "\n",
      "Creating datasets for fold: 4\n",
      "\n",
      "Creating dataloaders for fold: 4\n",
      "\n",
      "Loaded pretrained weights for efficientnet-b7\n",
      "\n",
      "[INFO] Fold number: 4\n",
      "[INFO] Number of epochs: 50\n",
      "[INFO] Batch_size: 32\n",
      "[INFO] Number of bands: 4\n",
      "[INFO] Dropout rate: 0.5\n",
      "[INFO] Gamma learning rate: 0.75\n",
      "[INFO] Memory allocated: 0 bytes\n"
     ]
    },
    {
     "data": {
      "application/vnd.jupyter.widget-view+json": {
       "model_id": "6744b4284f524bf58e19d6a82ec8c57f",
       "version_major": 2,
       "version_minor": 0
      },
      "text/plain": [
       "  0%|          | 0/50 [00:00<?, ?it/s]"
      ]
     },
     "metadata": {},
     "output_type": "display_data"
    },
    {
     "name": "stdout",
     "output_type": "stream",
     "text": [
      "Epoch: 1 \n",
      "Learning rate: 0.001\n",
      "Train loss: 1.4843 | Train precision: 0.3414 | Train recall: 0.3192 | Train f1score: 0.3216 | Train acc: 0.4042 | Train kappa: 0.6972 \n",
      "Val loss: 2.1986 | Val precision: 0.3131 | Val recall: 0.1738 | Val f1score: 0.1426 | Val acc: 0.2002 | Val kappa: 0.2759 \n",
      "\n",
      "Epoch: 2 \n",
      "Learning rate: 0.00075\n",
      "Train loss: 1.1961 | Train precision: 0.4527 | Train recall: 0.4323 | Train f1score: 0.4348 | Train acc: 0.4984 | Train kappa: 0.8128 \n",
      "Val loss: 1.3205 | Val precision: 0.4081 | Val recall: 0.3795 | Val f1score: 0.3416 | Val acc: 0.4600 | Val kappa: 0.6988 \n",
      "\n",
      "Epoch: 3 \n",
      "Learning rate: 0.0005625000000000001\n",
      "Train loss: 1.0616 | Train precision: 0.5262 | Train recall: 0.4999 | Train f1score: 0.5074 | Train acc: 0.5421 | Train kappa: 0.8486 \n",
      "Val loss: 1.1721 | Val precision: 0.4466 | Val recall: 0.4255 | Val f1score: 0.3983 | Val acc: 0.5176 | Val kappa: 0.8146 \n",
      "\n",
      "Epoch: 4 \n",
      "Learning rate: 0.000421875\n",
      "Train loss: 1.0149 | Train precision: 0.5447 | Train recall: 0.5174 | Train f1score: 0.5251 | Train acc: 0.5579 | Train kappa: 0.8696 \n",
      "Val loss: 0.9500 | Val precision: 0.5962 | Val recall: 0.5298 | Val f1score: 0.5485 | Val acc: 0.6045 | Val kappa: 0.8873 \n",
      "\n",
      "Epoch: 5 \n",
      "Learning rate: 0.00031640625\n",
      "Train loss: 0.9451 | Train precision: 0.5793 | Train recall: 0.5521 | Train f1score: 0.5597 | Train acc: 0.5843 | Train kappa: 0.8866 \n",
      "Val loss: 0.9824 | Val precision: 0.5488 | Val recall: 0.5487 | Val f1score: 0.5343 | Val acc: 0.5781 | Val kappa: 0.8577 \n",
      "\n",
      "Epoch: 6 \n",
      "Learning rate: 0.0002373046875\n",
      "Train loss: 0.9218 | Train precision: 0.6175 | Train recall: 0.5864 | Train f1score: 0.5958 | Train acc: 0.6090 | Train kappa: 0.8905 \n",
      "Val loss: 0.9808 | Val precision: 0.5432 | Val recall: 0.5507 | Val f1score: 0.5191 | Val acc: 0.5645 | Val kappa: 0.8903 \n",
      "\n",
      "Epoch: 7 \n",
      "Learning rate: 0.000177978515625\n",
      "Train loss: 0.8700 | Train precision: 0.6128 | Train recall: 0.5885 | Train f1score: 0.5970 | Train acc: 0.6143 | Train kappa: 0.8971 \n",
      "Val loss: 0.9190 | Val precision: 0.6137 | Val recall: 0.5400 | Val f1score: 0.5669 | Val acc: 0.5996 | Val kappa: 0.8920 \n",
      "\n",
      "Epoch: 8 \n",
      "Learning rate: 0.00013348388671875\n",
      "Train loss: 0.8476 | Train precision: 0.6324 | Train recall: 0.6036 | Train f1score: 0.6135 | Train acc: 0.6264 | Train kappa: 0.9084 \n",
      "Val loss: 0.9091 | Val precision: 0.6371 | Val recall: 0.5566 | Val f1score: 0.5656 | Val acc: 0.5898 | Val kappa: 0.8971 \n",
      "\n",
      "Epoch: 9 \n",
      "Learning rate: 0.0001001129150390625\n",
      "Train loss: 0.8245 | Train precision: 0.6410 | Train recall: 0.6181 | Train f1score: 0.6264 | Train acc: 0.6341 | Train kappa: 0.9156 \n",
      "Val loss: 0.8576 | Val precision: 0.6620 | Val recall: 0.6014 | Val f1score: 0.6003 | Val acc: 0.6064 | Val kappa: 0.9152 \n",
      "\n",
      "Epoch: 10 \n",
      "Learning rate: 7.508468627929687e-05\n",
      "Train loss: 0.8248 | Train precision: 0.6495 | Train recall: 0.6207 | Train f1score: 0.6291 | Train acc: 0.6321 | Train kappa: 0.9197 \n",
      "Val loss: 0.8323 | Val precision: 0.6342 | Val recall: 0.5933 | Val f1score: 0.6072 | Val acc: 0.6211 | Val kappa: 0.9143 \n",
      "\n",
      "Epoch: 11 \n",
      "Learning rate: 5.6313514709472656e-05\n",
      "Train loss: 0.8035 | Train precision: 0.6592 | Train recall: 0.6296 | Train f1score: 0.6389 | Train acc: 0.6442 | Train kappa: 0.9194 \n",
      "Val loss: 0.8409 | Val precision: 0.6430 | Val recall: 0.5794 | Val f1score: 0.5896 | Val acc: 0.6201 | Val kappa: 0.9153 \n",
      "\n",
      "Epoch: 12 \n",
      "Learning rate: 4.223513603210449e-05\n",
      "Train loss: 0.7884 | Train precision: 0.6659 | Train recall: 0.6403 | Train f1score: 0.6486 | Train acc: 0.6497 | Train kappa: 0.9313 \n",
      "Val loss: 0.8190 | Val precision: 0.6548 | Val recall: 0.6038 | Val f1score: 0.6130 | Val acc: 0.6357 | Val kappa: 0.9254 \n",
      "\n",
      "Epoch: 13 \n",
      "Learning rate: 3.167635202407837e-05\n",
      "Train loss: 0.7798 | Train precision: 0.6633 | Train recall: 0.6409 | Train f1score: 0.6487 | Train acc: 0.6497 | Train kappa: 0.9257 \n",
      "Val loss: 0.8433 | Val precision: 0.6223 | Val recall: 0.5813 | Val f1score: 0.5880 | Val acc: 0.6143 | Val kappa: 0.9049 \n",
      "\n",
      "Epoch: 14 \n",
      "Learning rate: 2.3757264018058778e-05\n",
      "Train loss: 0.7758 | Train precision: 0.6727 | Train recall: 0.6456 | Train f1score: 0.6557 | Train acc: 0.6536 | Train kappa: 0.9284 \n",
      "Val loss: 0.8345 | Val precision: 0.6560 | Val recall: 0.5867 | Val f1score: 0.5994 | Val acc: 0.6221 | Val kappa: 0.9109 \n",
      "\n",
      "Epoch: 15 \n",
      "Learning rate: 1.7817948013544083e-05\n",
      "Train loss: 0.7655 | Train precision: 0.6753 | Train recall: 0.6509 | Train f1score: 0.6597 | Train acc: 0.6586 | Train kappa: 0.9299 \n",
      "Val loss: 0.8170 | Val precision: 0.6425 | Val recall: 0.5944 | Val f1score: 0.6058 | Val acc: 0.6367 | Val kappa: 0.9165 \n",
      "\n",
      "Epoch: 16 \n",
      "Learning rate: 1.3363461010158063e-05\n",
      "Train loss: 0.7638 | Train precision: 0.6819 | Train recall: 0.6538 | Train f1score: 0.6645 | Train acc: 0.6571 | Train kappa: 0.9339 \n",
      "Val loss: 0.8267 | Val precision: 0.6642 | Val recall: 0.6219 | Val f1score: 0.6329 | Val acc: 0.6426 | Val kappa: 0.9223 \n",
      "\n",
      "Epoch: 17 \n",
      "Learning rate: 1.0022595757618546e-05\n",
      "Train loss: 0.7689 | Train precision: 0.6609 | Train recall: 0.6491 | Train f1score: 0.6525 | Train acc: 0.6556 | Train kappa: 0.9295 \n",
      "Val loss: 0.8235 | Val precision: 0.6513 | Val recall: 0.5978 | Val f1score: 0.6138 | Val acc: 0.6367 | Val kappa: 0.9214 \n",
      "\n",
      "Epoch: 18 \n",
      "Learning rate: 7.51694681821391e-06\n",
      "Train loss: 0.7534 | Train precision: 0.6779 | Train recall: 0.6543 | Train f1score: 0.6628 | Train acc: 0.6593 | Train kappa: 0.9257 \n",
      "Val loss: 0.8130 | Val precision: 0.6549 | Val recall: 0.6125 | Val f1score: 0.6239 | Val acc: 0.6436 | Val kappa: 0.9252 \n",
      "\n",
      "Epoch: 19 \n",
      "Learning rate: 5.637710113660432e-06\n",
      "Train loss: 0.7561 | Train precision: 0.6704 | Train recall: 0.6488 | Train f1score: 0.6565 | Train acc: 0.6562 | Train kappa: 0.9274 \n",
      "Val loss: 0.8238 | Val precision: 0.6637 | Val recall: 0.5993 | Val f1score: 0.6140 | Val acc: 0.6348 | Val kappa: 0.9205 \n",
      "\n",
      "Epoch: 20 \n",
      "Learning rate: 4.228282585245324e-06\n",
      "Train loss: 0.7435 | Train precision: 0.6967 | Train recall: 0.6674 | Train f1score: 0.6783 | Train acc: 0.6683 | Train kappa: 0.9351 \n",
      "Val loss: 0.8126 | Val precision: 0.6655 | Val recall: 0.6218 | Val f1score: 0.6336 | Val acc: 0.6436 | Val kappa: 0.9178 \n",
      "\n",
      "Epoch: 21 \n",
      "Learning rate: 3.1712119389339933e-06\n",
      "Train loss: 0.7548 | Train precision: 0.6759 | Train recall: 0.6555 | Train f1score: 0.6623 | Train acc: 0.6615 | Train kappa: 0.9300 \n",
      "Val loss: 0.8172 | Val precision: 0.6691 | Val recall: 0.6259 | Val f1score: 0.6373 | Val acc: 0.6416 | Val kappa: 0.9176 \n",
      "\n",
      "Epoch: 22 \n",
      "Learning rate: 2.378408954200495e-06\n",
      "Train loss: 0.7469 | Train precision: 0.6907 | Train recall: 0.6622 | Train f1score: 0.6728 | Train acc: 0.6637 | Train kappa: 0.9318 \n",
      "Val loss: 0.8119 | Val precision: 0.6610 | Val recall: 0.6194 | Val f1score: 0.6312 | Val acc: 0.6426 | Val kappa: 0.9194 \n",
      "\n",
      "Epoch: 23 \n",
      "Learning rate: 1.7838067156503713e-06\n",
      "Train loss: 0.7408 | Train precision: 0.6831 | Train recall: 0.6569 | Train f1score: 0.6670 | Train acc: 0.6661 | Train kappa: 0.9302 \n",
      "Val loss: 0.8118 | Val precision: 0.6579 | Val recall: 0.6165 | Val f1score: 0.6274 | Val acc: 0.6406 | Val kappa: 0.9186 \n",
      "\n",
      "Epoch: 24 \n",
      "Learning rate: 1.3378550367377785e-06\n",
      "Train loss: 0.7443 | Train precision: 0.6774 | Train recall: 0.6566 | Train f1score: 0.6640 | Train acc: 0.6639 | Train kappa: 0.9314 \n",
      "Val loss: 0.8159 | Val precision: 0.6613 | Val recall: 0.6206 | Val f1score: 0.6310 | Val acc: 0.6387 | Val kappa: 0.9179 \n",
      "\n",
      "Epoch: 25 \n",
      "Learning rate: 1.0033912775533338e-06\n",
      "Train loss: 0.7474 | Train precision: 0.6915 | Train recall: 0.6579 | Train f1score: 0.6694 | Train acc: 0.6639 | Train kappa: 0.9318 \n",
      "Val loss: 0.8148 | Val precision: 0.6622 | Val recall: 0.6224 | Val f1score: 0.6341 | Val acc: 0.6406 | Val kappa: 0.9182 \n",
      "\n",
      "Epoch: 26 \n",
      "Learning rate: 1e-06\n",
      "Train loss: 0.7633 | Train precision: 0.6846 | Train recall: 0.6597 | Train f1score: 0.6687 | Train acc: 0.6603 | Train kappa: 0.9275 \n",
      "Val loss: 0.8211 | Val precision: 0.6674 | Val recall: 0.6183 | Val f1score: 0.6311 | Val acc: 0.6416 | Val kappa: 0.9166 \n",
      "\n",
      "Epoch: 27 \n",
      "Learning rate: 1e-06\n",
      "Train loss: 0.7550 | Train precision: 0.6801 | Train recall: 0.6503 | Train f1score: 0.6604 | Train acc: 0.6561 | Train kappa: 0.9308 \n",
      "Val loss: 0.8146 | Val precision: 0.6608 | Val recall: 0.6233 | Val f1score: 0.6327 | Val acc: 0.6416 | Val kappa: 0.9183 \n",
      "\n"
     ]
    },
    {
     "name": "stdout",
     "output_type": "stream",
     "text": [
      "Epoch: 28 \n",
      "Learning rate: 1e-06\n",
      "Train loss: 0.7397 | Train precision: 0.6908 | Train recall: 0.6661 | Train f1score: 0.6756 | Train acc: 0.6657 | Train kappa: 0.9301 \n",
      "Val loss: 0.8128 | Val precision: 0.6646 | Val recall: 0.6234 | Val f1score: 0.6357 | Val acc: 0.6426 | Val kappa: 0.9194 \n",
      "\n",
      "Epoch: 29 \n",
      "Learning rate: 1e-06\n",
      "Train loss: 0.7381 | Train precision: 0.6783 | Train recall: 0.6624 | Train f1score: 0.6684 | Train acc: 0.6621 | Train kappa: 0.9349 \n",
      "Val loss: 0.8120 | Val precision: 0.6648 | Val recall: 0.6265 | Val f1score: 0.6378 | Val acc: 0.6455 | Val kappa: 0.9200 \n",
      "\n",
      "Epoch: 30 \n",
      "Learning rate: 1e-06\n",
      "Train loss: 0.7446 | Train precision: 0.6803 | Train recall: 0.6584 | Train f1score: 0.6674 | Train acc: 0.6618 | Train kappa: 0.9337 \n",
      "Val loss: 0.8127 | Val precision: 0.6636 | Val recall: 0.6275 | Val f1score: 0.6372 | Val acc: 0.6455 | Val kappa: 0.9191 \n",
      "\n",
      "Epoch: 31 \n",
      "Learning rate: 1e-06\n",
      "Train loss: 0.7329 | Train precision: 0.6898 | Train recall: 0.6700 | Train f1score: 0.6781 | Train acc: 0.6694 | Train kappa: 0.9313 \n",
      "Val loss: 0.8181 | Val precision: 0.6654 | Val recall: 0.6190 | Val f1score: 0.6309 | Val acc: 0.6416 | Val kappa: 0.9180 \n",
      "\n",
      "Epoch: 32 \n",
      "Learning rate: 1e-06\n",
      "Train loss: 0.7512 | Train precision: 0.6855 | Train recall: 0.6611 | Train f1score: 0.6700 | Train acc: 0.6645 | Train kappa: 0.9312 \n",
      "Val loss: 0.8081 | Val precision: 0.6673 | Val recall: 0.6304 | Val f1score: 0.6410 | Val acc: 0.6504 | Val kappa: 0.9197 \n",
      "\n",
      "Epoch: 33 \n",
      "Learning rate: 1e-06\n",
      "Train loss: 0.7479 | Train precision: 0.6851 | Train recall: 0.6586 | Train f1score: 0.6693 | Train acc: 0.6670 | Train kappa: 0.9327 \n",
      "Val loss: 0.8148 | Val precision: 0.6638 | Val recall: 0.6235 | Val f1score: 0.6340 | Val acc: 0.6426 | Val kappa: 0.9183 \n",
      "\n",
      "Epoch: 34 \n",
      "Learning rate: 1e-06\n",
      "Train loss: 0.7498 | Train precision: 0.6840 | Train recall: 0.6623 | Train f1score: 0.6692 | Train acc: 0.6705 | Train kappa: 0.9311 \n",
      "Val loss: 0.8154 | Val precision: 0.6686 | Val recall: 0.6284 | Val f1score: 0.6398 | Val acc: 0.6426 | Val kappa: 0.9193 \n",
      "\n",
      "Epoch: 35 \n",
      "Learning rate: 1e-06\n",
      "Train loss: 0.7540 | Train precision: 0.6764 | Train recall: 0.6595 | Train f1score: 0.6652 | Train acc: 0.6562 | Train kappa: 0.9325 \n",
      "Val loss: 0.8184 | Val precision: 0.6656 | Val recall: 0.6292 | Val f1score: 0.6389 | Val acc: 0.6426 | Val kappa: 0.9177 \n",
      "\n",
      "Epoch: 36 \n",
      "Learning rate: 1e-06\n",
      "Train loss: 0.7486 | Train precision: 0.6831 | Train recall: 0.6632 | Train f1score: 0.6705 | Train acc: 0.6653 | Train kappa: 0.9291 \n",
      "Val loss: 0.8125 | Val precision: 0.6641 | Val recall: 0.6293 | Val f1score: 0.6396 | Val acc: 0.6475 | Val kappa: 0.9189 \n",
      "\n",
      "Epoch: 37 \n",
      "Learning rate: 1e-06\n",
      "Train loss: 0.7482 | Train precision: 0.6771 | Train recall: 0.6587 | Train f1score: 0.6659 | Train acc: 0.6566 | Train kappa: 0.9331 \n",
      "Val loss: 0.8140 | Val precision: 0.6656 | Val recall: 0.6267 | Val f1score: 0.6380 | Val acc: 0.6426 | Val kappa: 0.9202 \n",
      "\n",
      "Epoch: 38 \n",
      "Learning rate: 1e-06\n",
      "Train loss: 0.7595 | Train precision: 0.6810 | Train recall: 0.6511 | Train f1score: 0.6618 | Train acc: 0.6621 | Train kappa: 0.9259 \n",
      "Val loss: 0.8169 | Val precision: 0.6604 | Val recall: 0.6171 | Val f1score: 0.6284 | Val acc: 0.6396 | Val kappa: 0.9186 \n",
      "\n",
      "Epoch: 39 \n",
      "Learning rate: 1e-06\n",
      "Train loss: 0.7576 | Train precision: 0.6728 | Train recall: 0.6529 | Train f1score: 0.6602 | Train acc: 0.6583 | Train kappa: 0.9260 \n",
      "Val loss: 0.8240 | Val precision: 0.6584 | Val recall: 0.6127 | Val f1score: 0.6248 | Val acc: 0.6387 | Val kappa: 0.9165 \n",
      "\n",
      "Epoch: 40 \n",
      "Learning rate: 1e-06\n",
      "Train loss: 0.7492 | Train precision: 0.6918 | Train recall: 0.6747 | Train f1score: 0.6814 | Train acc: 0.6647 | Train kappa: 0.9275 \n",
      "Val loss: 0.8106 | Val precision: 0.6663 | Val recall: 0.6309 | Val f1score: 0.6416 | Val acc: 0.6484 | Val kappa: 0.9195 \n",
      "\n",
      "Epoch: 41 \n",
      "Learning rate: 1e-06\n",
      "Train loss: 0.7391 | Train precision: 0.6849 | Train recall: 0.6705 | Train f1score: 0.6757 | Train acc: 0.6632 | Train kappa: 0.9326 \n",
      "Val loss: 0.8185 | Val precision: 0.6572 | Val recall: 0.6125 | Val f1score: 0.6243 | Val acc: 0.6406 | Val kappa: 0.9177 \n",
      "\n",
      "Epoch: 42 \n",
      "Learning rate: 1e-06\n",
      "Train loss: 0.7529 | Train precision: 0.6775 | Train recall: 0.6517 | Train f1score: 0.6622 | Train acc: 0.6578 | Train kappa: 0.9261 \n",
      "Val loss: 0.8174 | Val precision: 0.6570 | Val recall: 0.6059 | Val f1score: 0.6175 | Val acc: 0.6436 | Val kappa: 0.9178 \n",
      "\n",
      "Early stopping after epoch 42\n"
     ]
    },
    {
     "data": {
      "text/html": [
       "Waiting for W&B process to finish... <strong style=\"color:green\">(success).</strong>"
      ],
      "text/plain": [
       "<IPython.core.display.HTML object>"
      ]
     },
     "metadata": {},
     "output_type": "display_data"
    },
    {
     "data": {
      "application/vnd.jupyter.widget-view+json": {
       "model_id": "53a96010824643e3b3c03b72ad641095",
       "version_major": 2,
       "version_minor": 0
      },
      "text/plain": [
       "VBox(children=(Label(value='0.001 MB of 0.018 MB uploaded (0.000 MB deduped)\\r'), FloatProgress(value=0.070108…"
      ]
     },
     "metadata": {},
     "output_type": "display_data"
    },
    {
     "data": {
      "text/html": [
       "<style>\n",
       "    table.wandb td:nth-child(1) { padding: 0 10px; text-align: left ; width: auto;} td:nth-child(2) {text-align: left ; width: 100%}\n",
       "    .wandb-row { display: flex; flex-direction: row; flex-wrap: wrap; justify-content: flex-start; width: 100% }\n",
       "    .wandb-col { display: flex; flex-direction: column; flex-basis: 100%; flex: 1; padding: 10px; }\n",
       "    </style>\n",
       "<div class=\"wandb-row\"><div class=\"wandb-col\"><h3>Run history:</h3><br/><table class=\"wandb\"><tr><td>learning_rate</td><td>█▆▅▄▃▃▂▂▂▂▁▁▁▁▁▁▁▁▁▁▁▁▁▁▁▁▁▁▁▁▁▁▁▁▁▁▁▁▁▁</td></tr><tr><td>train_f1_score</td><td>▁▃▅▅▆▆▆▇▇▇▇▇▇███▇███████████████████████</td></tr><tr><td>train_loss</td><td>█▅▄▄▃▃▂▂▂▂▂▂▁▁▁▁▁▁▁▁▁▁▁▁▁▁▁▁▁▁▁▁▁▁▁▁▁▁▁▁</td></tr><tr><td>val_f1_score</td><td>▁▄▅▇▆▆▇▇▇█▇█▇▇▇█████████████████████████</td></tr><tr><td>val_loss</td><td>█▄▃▂▂▂▂▂▁▁▁▁▁▁▁▁▁▁▁▁▁▁▁▁▁▁▁▁▁▁▁▁▁▁▁▁▁▁▁▁</td></tr></table><br/></div><div class=\"wandb-col\"><h3>Run summary:</h3><br/><table class=\"wandb\"><tr><td>learning_rate</td><td>0.0</td></tr><tr><td>train_f1_score</td><td>0.66218</td></tr><tr><td>train_loss</td><td>0.75292</td></tr><tr><td>val_f1_score</td><td>0.61755</td></tr><tr><td>val_loss</td><td>0.81739</td></tr></table><br/></div></div>"
      ],
      "text/plain": [
       "<IPython.core.display.HTML object>"
      ]
     },
     "metadata": {},
     "output_type": "display_data"
    },
    {
     "data": {
      "text/html": [
       " View run <strong style=\"color:#cdcd00\">fold_4_RGB-NIR-5species-combined</strong> at: <a href='https://wandb.ai/simon-ecke/wze-uav-combined-treewise/runs/vbnmwcjg' target=\"_blank\">https://wandb.ai/simon-ecke/wze-uav-combined-treewise/runs/vbnmwcjg</a><br/>Synced 5 W&B file(s), 0 media file(s), 0 artifact file(s) and 0 other file(s)"
      ],
      "text/plain": [
       "<IPython.core.display.HTML object>"
      ]
     },
     "metadata": {},
     "output_type": "display_data"
    },
    {
     "data": {
      "text/html": [
       "Find logs at: <code>.\\wandb\\run-20230519_201054-vbnmwcjg\\logs</code>"
      ],
      "text/plain": [
       "<IPython.core.display.HTML object>"
      ]
     },
     "metadata": {},
     "output_type": "display_data"
    },
    {
     "name": "stdout",
     "output_type": "stream",
     "text": [
      "Deleting variables and emptying cache\n",
      "Memory allocated: 1057287168 bytes\n",
      "--------------------------------------------------\n",
      "\n",
      "Fold : 5\n",
      "TRAIN POSITIVE RATIO: 2.898136305499726\n",
      "VAL POSITIVE RATIO  : 3.0184916606236403\n",
      "LENGTH TRAIN GROUPS : 4157\n",
      "LENGTH VAL GROUPS   : 1040\n"
     ]
    },
    {
     "data": {
      "text/html": [
       "wandb version 0.15.3 is available!  To upgrade, please run:\n",
       " $ pip install wandb --upgrade"
      ],
      "text/plain": [
       "<IPython.core.display.HTML object>"
      ]
     },
     "metadata": {},
     "output_type": "display_data"
    },
    {
     "data": {
      "text/html": [
       "Tracking run with wandb version 0.14.2"
      ],
      "text/plain": [
       "<IPython.core.display.HTML object>"
      ]
     },
     "metadata": {},
     "output_type": "display_data"
    },
    {
     "data": {
      "text/html": [
       "Run data is saved locally in <code>C:\\Users\\lwfeckesim\\01_PyTorch\\wze-uav\\wze-uav-master\\wandb\\run-20230519_232648-1dags5wc</code>"
      ],
      "text/plain": [
       "<IPython.core.display.HTML object>"
      ]
     },
     "metadata": {},
     "output_type": "display_data"
    },
    {
     "data": {
      "text/html": [
       "Syncing run <strong><a href='https://wandb.ai/simon-ecke/wze-uav-combined-treewise/runs/1dags5wc' target=\"_blank\">fold_5_RGB-NIR-5species-combined</a></strong> to <a href='https://wandb.ai/simon-ecke/wze-uav-combined-treewise' target=\"_blank\">Weights & Biases</a> (<a href='https://wandb.me/run' target=\"_blank\">docs</a>)<br/>"
      ],
      "text/plain": [
       "<IPython.core.display.HTML object>"
      ]
     },
     "metadata": {},
     "output_type": "display_data"
    },
    {
     "data": {
      "text/html": [
       " View project at <a href='https://wandb.ai/simon-ecke/wze-uav-combined-treewise' target=\"_blank\">https://wandb.ai/simon-ecke/wze-uav-combined-treewise</a>"
      ],
      "text/plain": [
       "<IPython.core.display.HTML object>"
      ]
     },
     "metadata": {},
     "output_type": "display_data"
    },
    {
     "data": {
      "text/html": [
       " View run at <a href='https://wandb.ai/simon-ecke/wze-uav-combined-treewise/runs/1dags5wc' target=\"_blank\">https://wandb.ai/simon-ecke/wze-uav-combined-treewise/runs/1dags5wc</a>"
      ],
      "text/plain": [
       "<IPython.core.display.HTML object>"
      ]
     },
     "metadata": {},
     "output_type": "display_data"
    },
    {
     "name": "stdout",
     "output_type": "stream",
     "text": [
      "There are no same hash_id values in train, val or test datasets. The datasplit was successful\n",
      "Check shapes:\n",
      "\n",
      "Images train dataset: (10946, 250, 250, 4)\n",
      "Labels train dataset: (10946, 1)\n",
      "\n",
      "Images validation dataset: (1040, 250, 250, 4)\n",
      "Labels validation dataset: (1040, 1)\n",
      "\n",
      "--------------------------------------------------\n",
      "Check if the split was stratified: (random_state=42)\n",
      "Picea abies healthy in train dataset: 2988\n",
      "Picea abies stressed in train dataset: 1550\n",
      "Pinus sylvestris healthy in train dataset: 1488\n",
      "Pinus sylvestris stressed in train dataset: 1681\n",
      "Abies alba healthy in train dataset: 325\n",
      "Abies alba stressed in train dataset: 133\n",
      "Fagus sylvatica healthy in train dataset: 1011\n",
      "Fagus sylvatica stressed in train dataset: 701\n",
      "Quercus robur/petraea healthy in train dataset: 574\n",
      "Quercus robur/petraea stressed in train dataset: 326\n",
      "Dead trees in train dataset: 169\n",
      "Picea abies healthy in validation dataset: 289\n",
      "Picea abies stressed in validation dataset: 150\n",
      "Pinus sylvestris healthy in validation dataset: 112\n",
      "Pinus sylvestris stressed in validation dataset: 176\n",
      "Abies alba healthy in validation dataset: 33\n",
      "Abies alba stressed in validation dataset: 11\n",
      "Fagus sylvatica healthy in validation dataset: 87\n",
      "Fagus sylvatica stressed in validation dataset: 60\n",
      "Quercus robur/petraea healthy in validation dataset: 68\n",
      "Quercus robur/petraea stressed in validation dataset: 32\n",
      "Dead trees in validation dataset: 22\n",
      "--------------------------------------------------\n",
      "\n",
      "Creating datasets for fold: 5\n",
      "\n",
      "Creating dataloaders for fold: 5\n",
      "\n",
      "Loaded pretrained weights for efficientnet-b7\n",
      "\n",
      "[INFO] Fold number: 5\n",
      "[INFO] Number of epochs: 50\n",
      "[INFO] Batch_size: 32\n",
      "[INFO] Number of bands: 4\n",
      "[INFO] Dropout rate: 0.5\n",
      "[INFO] Gamma learning rate: 0.75\n",
      "[INFO] Memory allocated: 0 bytes\n"
     ]
    },
    {
     "data": {
      "application/vnd.jupyter.widget-view+json": {
       "model_id": "310b12557a684782816d06116cbf3171",
       "version_major": 2,
       "version_minor": 0
      },
      "text/plain": [
       "  0%|          | 0/50 [00:00<?, ?it/s]"
      ]
     },
     "metadata": {},
     "output_type": "display_data"
    },
    {
     "name": "stdout",
     "output_type": "stream",
     "text": [
      "Epoch: 1 \n",
      "Learning rate: 0.001\n",
      "Train loss: 1.5360 | Train precision: 0.3232 | Train recall: 0.2742 | Train f1score: 0.2789 | Train acc: 0.3916 | Train kappa: 0.6602 \n",
      "Val loss: 2.9661 | Val precision: 0.0628 | Val recall: 0.1105 | Val f1score: 0.0726 | Val acc: 0.2852 | Val kappa: 0.0053 \n",
      "\n",
      "Epoch: 2 \n",
      "Learning rate: 0.00075\n",
      "Train loss: 1.2195 | Train precision: 0.4395 | Train recall: 0.4081 | Train f1score: 0.4122 | Train acc: 0.4842 | Train kappa: 0.7956 \n",
      "Val loss: 2.0522 | Val precision: 0.3676 | Val recall: 0.2459 | Val f1score: 0.2072 | Val acc: 0.3555 | Val kappa: 0.3464 \n",
      "\n",
      "Epoch: 3 \n",
      "Learning rate: 0.0005625000000000001\n",
      "Train loss: 1.0900 | Train precision: 0.4995 | Train recall: 0.4744 | Train f1score: 0.4805 | Train acc: 0.5233 | Train kappa: 0.8433 \n",
      "Val loss: 1.1270 | Val precision: 0.4776 | Val recall: 0.5170 | Val f1score: 0.4196 | Val acc: 0.5273 | Val kappa: 0.8378 \n",
      "\n",
      "Epoch: 4 \n",
      "Learning rate: 0.000421875\n",
      "Train loss: 1.0131 | Train precision: 0.5308 | Train recall: 0.5068 | Train f1score: 0.5133 | Train acc: 0.5552 | Train kappa: 0.8681 \n",
      "Val loss: 0.9554 | Val precision: 0.6363 | Val recall: 0.5052 | Val f1score: 0.4907 | Val acc: 0.5957 | Val kappa: 0.8783 \n",
      "\n",
      "Epoch: 5 \n",
      "Learning rate: 0.00031640625\n",
      "Train loss: 0.9505 | Train precision: 0.5750 | Train recall: 0.5436 | Train f1score: 0.5519 | Train acc: 0.5840 | Train kappa: 0.8751 \n",
      "Val loss: 1.0399 | Val precision: 0.6415 | Val recall: 0.4674 | Val f1score: 0.4762 | Val acc: 0.5420 | Val kappa: 0.8500 \n",
      "\n",
      "Epoch: 6 \n",
      "Learning rate: 0.0002373046875\n",
      "Train loss: 0.9060 | Train precision: 0.6136 | Train recall: 0.5859 | Train f1score: 0.5948 | Train acc: 0.6078 | Train kappa: 0.8926 \n",
      "Val loss: 0.8933 | Val precision: 0.5952 | Val recall: 0.5839 | Val f1score: 0.5746 | Val acc: 0.6006 | Val kappa: 0.8706 \n",
      "\n",
      "Epoch: 7 \n",
      "Learning rate: 0.000177978515625\n",
      "Train loss: 0.8612 | Train precision: 0.6149 | Train recall: 0.5837 | Train f1score: 0.5938 | Train acc: 0.6187 | Train kappa: 0.9015 \n",
      "Val loss: 0.9304 | Val precision: 0.6483 | Val recall: 0.5692 | Val f1score: 0.5762 | Val acc: 0.5957 | Val kappa: 0.8766 \n",
      "\n",
      "Epoch: 8 \n",
      "Learning rate: 0.00013348388671875\n",
      "Train loss: 0.8548 | Train precision: 0.6240 | Train recall: 0.5929 | Train f1score: 0.6007 | Train acc: 0.6264 | Train kappa: 0.9003 \n",
      "Val loss: 0.8735 | Val precision: 0.6085 | Val recall: 0.5818 | Val f1score: 0.5785 | Val acc: 0.6045 | Val kappa: 0.8911 \n",
      "\n",
      "Epoch: 9 \n",
      "Learning rate: 0.0001001129150390625\n",
      "Train loss: 0.8303 | Train precision: 0.6345 | Train recall: 0.6088 | Train f1score: 0.6174 | Train acc: 0.6285 | Train kappa: 0.9072 \n",
      "Val loss: 0.8894 | Val precision: 0.6471 | Val recall: 0.5517 | Val f1score: 0.5572 | Val acc: 0.5908 | Val kappa: 0.8762 \n",
      "\n",
      "Epoch: 10 \n",
      "Learning rate: 7.508468627929687e-05\n",
      "Train loss: 0.7987 | Train precision: 0.6569 | Train recall: 0.6284 | Train f1score: 0.6389 | Train acc: 0.6448 | Train kappa: 0.9149 \n",
      "Val loss: 0.8699 | Val precision: 0.6326 | Val recall: 0.5994 | Val f1score: 0.5939 | Val acc: 0.6279 | Val kappa: 0.9070 \n",
      "\n",
      "Epoch: 11 \n",
      "Learning rate: 5.6313514709472656e-05\n",
      "Train loss: 0.8030 | Train precision: 0.6545 | Train recall: 0.6242 | Train f1score: 0.6356 | Train acc: 0.6476 | Train kappa: 0.9189 \n",
      "Val loss: 0.8497 | Val precision: 0.6392 | Val recall: 0.5942 | Val f1score: 0.6036 | Val acc: 0.6299 | Val kappa: 0.8995 \n",
      "\n",
      "Epoch: 12 \n",
      "Learning rate: 4.223513603210449e-05\n",
      "Train loss: 0.7921 | Train precision: 0.6542 | Train recall: 0.6265 | Train f1score: 0.6366 | Train acc: 0.6479 | Train kappa: 0.9094 \n",
      "Val loss: 0.8393 | Val precision: 0.6420 | Val recall: 0.6019 | Val f1score: 0.6118 | Val acc: 0.6387 | Val kappa: 0.8989 \n",
      "\n",
      "Epoch: 13 \n",
      "Learning rate: 3.167635202407837e-05\n",
      "Train loss: 0.7720 | Train precision: 0.6726 | Train recall: 0.6410 | Train f1score: 0.6533 | Train acc: 0.6592 | Train kappa: 0.9206 \n",
      "Val loss: 0.8685 | Val precision: 0.6485 | Val recall: 0.5912 | Val f1score: 0.5926 | Val acc: 0.6172 | Val kappa: 0.9053 \n",
      "\n",
      "Epoch: 14 \n",
      "Learning rate: 2.3757264018058778e-05\n",
      "Train loss: 0.7802 | Train precision: 0.6574 | Train recall: 0.6342 | Train f1score: 0.6423 | Train acc: 0.6574 | Train kappa: 0.9165 \n",
      "Val loss: 0.8355 | Val precision: 0.6456 | Val recall: 0.6233 | Val f1score: 0.6281 | Val acc: 0.6475 | Val kappa: 0.9072 \n",
      "\n",
      "Epoch: 15 \n",
      "Learning rate: 1.7817948013544083e-05\n",
      "Train loss: 0.7628 | Train precision: 0.6743 | Train recall: 0.6419 | Train f1score: 0.6516 | Train acc: 0.6605 | Train kappa: 0.9288 \n",
      "Val loss: 0.8522 | Val precision: 0.6270 | Val recall: 0.5932 | Val f1score: 0.5962 | Val acc: 0.6250 | Val kappa: 0.8985 \n",
      "\n",
      "Epoch: 16 \n",
      "Learning rate: 1.3363461010158063e-05\n",
      "Train loss: 0.7458 | Train precision: 0.6761 | Train recall: 0.6533 | Train f1score: 0.6621 | Train acc: 0.6697 | Train kappa: 0.9248 \n",
      "Val loss: 0.8626 | Val precision: 0.6203 | Val recall: 0.5866 | Val f1score: 0.5871 | Val acc: 0.6123 | Val kappa: 0.8981 \n",
      "\n",
      "Epoch: 17 \n",
      "Learning rate: 1.0022595757618546e-05\n",
      "Train loss: 0.7508 | Train precision: 0.6733 | Train recall: 0.6428 | Train f1score: 0.6536 | Train acc: 0.6611 | Train kappa: 0.9233 \n",
      "Val loss: 0.8480 | Val precision: 0.6213 | Val recall: 0.5955 | Val f1score: 0.6002 | Val acc: 0.6279 | Val kappa: 0.9051 \n",
      "\n",
      "Epoch: 18 \n",
      "Learning rate: 7.51694681821391e-06\n",
      "Train loss: 0.7434 | Train precision: 0.6762 | Train recall: 0.6512 | Train f1score: 0.6604 | Train acc: 0.6643 | Train kappa: 0.9248 \n",
      "Val loss: 0.8459 | Val precision: 0.6740 | Val recall: 0.6097 | Val f1score: 0.6244 | Val acc: 0.6348 | Val kappa: 0.9108 \n",
      "\n"
     ]
    }
   ],
   "source": [
    "%%time\n",
    "\n",
    "# Set the random seeds\n",
    "set_seeds(42)\n",
    "\n",
    "# Define the number of folds\n",
    "num_folds = 5\n",
    "\n",
    "# group the hashIDs to get the unique values of hashIDs remaining in the subset  \n",
    "groups = sub_hash_id[:, 0] \n",
    "print(\"ORIGINAL POSITIVE RATIO:\", sub_label_set.mean())\n",
    "# create a StratifiedGroupKFold instance\n",
    "kf = StratifiedGroupKFold(n_splits=num_folds, shuffle=True, random_state=42)\n",
    "\n",
    "# loop through the folds\n",
    "for fold, (train_ids, val_ids) in enumerate(kf.split(sub_image_set, sub_label_set, groups)):\n",
    "    print(\"Fold :\", fold+1)\n",
    "    print(\"TRAIN POSITIVE RATIO:\", sub_label_set[train_ids].mean())\n",
    "    print(\"VAL POSITIVE RATIO  :\", sub_label_set[val_ids].mean())\n",
    "    print(\"LENGTH TRAIN GROUPS :\", len(set(groups[train_ids])))\n",
    "    print(\"LENGTH VAL GROUPS   :\", len(set(groups[val_ids])))\n",
    "    \n",
    "    train_ids = sub_hash_id[:, 0][train_ids]\n",
    "    val_ids = np.unique(sub_hash_id[:, 0][val_ids])\n",
    "\n",
    "    torch.cuda.empty_cache()\n",
    "    \n",
    "    # Initialize a new wandb run for this fold\n",
    "    wandb.init(project='wze-uav-combined-treewise', name=f\"fold_{fold + 1}_{extra}\")\n",
    "    \n",
    "    # 1. Split data into train and validation set\n",
    "    # Get the training and testing data for this fold\n",
    "    # Use np.isin() to create boolean arrays indicating which indices belong to train or test sets\n",
    "    train_indices = np.isin(sub_hash_id[:,0], train_ids)\n",
    "    \n",
    "    val_indices = np.zeros_like(train_indices)  # initialize to all False\n",
    "    for hash_id_val in val_ids:\n",
    "        # select one image ID randomly from either 2020 or 2021 or 2022 for each unique hash ID in the test set\n",
    "        temp = np.unique(sub_hash_id[(sub_hash_id[:, 0] == hash_id_val), 1]) # check how many years are available per hashID\n",
    "        if len(temp) == 1:\n",
    "            year = temp[0]\n",
    "        elif len(temp) == 2:\n",
    "            year = np.random.choice(temp)\n",
    "        else:\n",
    "            year = np.random.choice(temp)\n",
    "        \n",
    "        # select image ID using the conditions\n",
    "        image_ids = sub_hash_id[(sub_hash_id[:,0] == hash_id_val) & (sub_hash_id[:,1] == year), 0]\n",
    "    \n",
    "        # mark the index corresponding to the selected image ID and hash ID as True in the test indices array\n",
    "        val_indices[(sub_hash_id[:,0] == hash_id_val) & (sub_hash_id[:,1] == year) & (np.isin(sub_hash_id[:,0], image_ids))] = True \n",
    "    \n",
    "    # Reshape boolean arrays to match shape of image_set and label_set\n",
    "    train_indices = train_indices.reshape(-1, 1)\n",
    "    val_indices = val_indices.reshape(-1, 1)\n",
    "    \n",
    "    # Select images and labels for train and validation sets\n",
    "    train_image_set = sub_image_set[train_indices[:, 0]]\n",
    "    train_label_set = sub_label_set[train_indices[:, 0]]\n",
    "    train_hash_id = sub_hash_id[train_indices[:, 0]][:,0]\n",
    "    train_species_set = sub_species_set[train_indices[:, 0]]\n",
    "    val_image_set = sub_image_set[val_indices[:, 0]]\n",
    "    val_label_set = sub_label_set[val_indices[:, 0]]\n",
    "    val_hash_id = sub_hash_id[val_indices[:, 0]][:,0]\n",
    "    val_species_set = sub_species_set[val_indices[:, 0]]\n",
    "    # reshape \n",
    "    train_label_set = train_label_set.reshape(-1, 1)\n",
    "    val_label_set = val_label_set.reshape(-1, 1)\n",
    "    train_species_set = train_species_set.reshape(-1, 1)\n",
    "    val_species_set = val_species_set.reshape(-1, 1)\n",
    "    \n",
    "    # check if there are any group overlaps between the data splits\n",
    "    hash_set = set(train_hash_id)\n",
    "    val_hash_set = set(val_hash_id)\n",
    "    test_hash_set = set(test_hash_id[:, 0].flatten())\n",
    "    intersection = hash_set.intersection(val_hash_set)\n",
    "    intersection2 = test_hash_set.intersection(val_hash_set)\n",
    "    intersection3 = hash_set.intersection(test_hash_set)\n",
    "    if intersection:\n",
    "        print(f\"Hash_id values in both train and val sets: {len(intersection)}\")\n",
    "        print(f\"Hash_id values in both test and val sets: {len(intersection2)}\")\n",
    "        print(f\"Hash_id values in both train and test sets: {len(intersection3)}\")\n",
    "    else:\n",
    "        print(\"There are no same hash_id values in train, val or test datasets. The datasplit was successful\")\n",
    "    \n",
    "         \n",
    "    print(\"Check shapes:\\n\")\n",
    "    print(f\"Images train dataset: {train_image_set.shape}\")\n",
    "    print(f\"Labels train dataset: {train_label_set.shape}\\n\")\n",
    "    \n",
    "    print(f\"Images validation dataset: {val_image_set.shape}\")\n",
    "    print(f\"Labels validation dataset: {val_label_set.shape}\\n\")\n",
    "    print('-'*50)\n",
    "    print (f\"Check if the split was stratified: (random_state=42)\")\n",
    "    print(f\"Picea abies healthy in train dataset: {np.count_nonzero(train_label_set == 0)}\")\n",
    "    print(f\"Picea abies stressed in train dataset: {np.count_nonzero(train_label_set == 1)}\")\n",
    "    print(f\"Pinus sylvestris healthy in train dataset: {np.count_nonzero(train_label_set == 2)}\")\n",
    "    print(f\"Pinus sylvestris stressed in train dataset: {np.count_nonzero(train_label_set == 3)}\")\n",
    "    print(f\"Abies alba healthy in train dataset: {np.count_nonzero(train_label_set == 4)}\")\n",
    "    print(f\"Abies alba stressed in train dataset: {np.count_nonzero(train_label_set == 5)}\")\n",
    "    print(f\"Fagus sylvatica healthy in train dataset: {np.count_nonzero(train_label_set == 6)}\")\n",
    "    print(f\"Fagus sylvatica stressed in train dataset: {np.count_nonzero(train_label_set == 7)}\")\n",
    "    print(f\"Quercus robur/petraea healthy in train dataset: {np.count_nonzero(train_label_set == 8)}\")\n",
    "    print(f\"Quercus robur/petraea stressed in train dataset: {np.count_nonzero(train_label_set == 9)}\")\n",
    "    print(f\"Dead trees in train dataset: {np.count_nonzero(train_label_set == 10)}\")\n",
    "    print(f\"Picea abies healthy in validation dataset: {np.count_nonzero(val_label_set == 0)}\")\n",
    "    print(f\"Picea abies stressed in validation dataset: {np.count_nonzero(val_label_set == 1)}\")\n",
    "    print(f\"Pinus sylvestris healthy in validation dataset: {np.count_nonzero(val_label_set == 2)}\")\n",
    "    print(f\"Pinus sylvestris stressed in validation dataset: {np.count_nonzero(val_label_set == 3)}\")\n",
    "    print(f\"Abies alba healthy in validation dataset: {np.count_nonzero(val_label_set == 4)}\")\n",
    "    print(f\"Abies alba stressed in validation dataset: {np.count_nonzero(val_label_set == 5)}\")\n",
    "    print(f\"Fagus sylvatica healthy in validation dataset: {np.count_nonzero(val_label_set == 6)}\")\n",
    "    print(f\"Fagus sylvatica stressed in validation dataset: {np.count_nonzero(val_label_set == 7)}\")\n",
    "    print(f\"Quercus robur/petraea healthy in validation dataset: {np.count_nonzero(val_label_set == 8)}\")\n",
    "    print(f\"Quercus robur/petraea stressed in validation dataset: {np.count_nonzero(val_label_set == 9)}\")\n",
    "    print(f\"Dead trees in validation dataset: {np.count_nonzero(val_label_set == 10)}\")\n",
    "    print(\"-\"*50)\n",
    "   \n",
    "    # 2. Create train and validation dataset. (choose custom dataset loader with 3 - 5 classes)\n",
    "    print(f\"\\nCreating datasets for fold: {fold + 1}\\n\")\n",
    "    train_dataset = data_loader.CustomDataset(data=train_image_set, labels=train_label_set, class_names=class_names, species = train_species_set,\n",
    "                                                         transform=transform_train)\n",
    "    \n",
    "    val_dataset = data_loader.CustomDataset(data=val_image_set, labels=val_label_set, class_names=class_names,\n",
    "                                                       species = val_species_set, transform=transform)\n",
    "   \n",
    "    # 3. Create train and validation dataloader\n",
    "    # create sampler for oversampling of the minority classes\n",
    "    sampler = data_loader.data_sampler(dataset=train_dataset, class_names=class_names)\n",
    "    print(f\"Creating dataloaders for fold: {fold +1}\\n\")\n",
    "    train_dataloader = DataLoader(train_dataset, batch_size=batch_size, persistent_workers=True, pin_memory=True, num_workers=NUM_WORKERS, generator=g,\n",
    "                              sampler=sampler, shuffle=False, drop_last=True) # shuffle false because of the sampler\n",
    "\n",
    "    val_dataloader = DataLoader(val_dataset, batch_size=batch_size, persistent_workers=True, pin_memory=True, num_workers=NUM_WORKERS, shuffle=False,\n",
    "                             drop_last=True)\n",
    "    \n",
    "    model = model_effnet.EfficientNet.from_pretrained('efficientnet-b7', in_channels=n_bands, num_classes=num_classes, dropout_rate=dropout_rate)\n",
    "    #model = models.create_effnetb7(output_shape=num_classes, unfreeze=True, dropout_rate=dropout_rate, device=device)\n",
    "   \n",
    "    loss_fn = nn.CrossEntropyLoss()\n",
    "    optimizer = torch.optim.Adam(params=model.parameters(), lr=lr)\n",
    "    lr_scheduler = CustomExponentialLR(optimizer, gamma=gamma, min_lr=min_lr)\n",
    "\n",
    "    fold += 1\n",
    "    print(f\"\\n[INFO] Fold number: {fold}\")\n",
    "    print(f\"[INFO] Number of epochs: {epochs}\")\n",
    "    print(f\"[INFO] Batch_size: {batch_size}\")\n",
    "    print(f\"[INFO] Number of bands: {n_bands}\")\n",
    "    print(f\"[INFO] Dropout rate: {dropout_rate}\")\n",
    "    print(f\"[INFO] Gamma learning rate: {gamma}\")\n",
    "    print(f\"[INFO] Memory allocated: {torch.cuda.memory_allocated()} bytes\")\n",
    "    # 4. Train model with k fold dataloaders and track experiments\n",
    "    \n",
    "    if fold == 1:\n",
    "        fold1_results = train(model=model, model_name=model_name, n_bands=n_bands, batch_size=batch_size,train_dataloader=train_dataloader, val_dataloader=val_dataloader, \n",
    "                        optimizer=optimizer, loss_fn=loss_fn, lr_scheduler=lr_scheduler, num_classes=num_classes, epochs=epochs, experiment_num=fold, device=device,\n",
    "                        writer=None, early_stop_patience = patience)\n",
    "       \n",
    "    elif fold == 2:\n",
    "        fold2_results = train(model=model, model_name=model_name, n_bands=n_bands, batch_size=batch_size,train_dataloader=train_dataloader, val_dataloader=val_dataloader, \n",
    "                        optimizer=optimizer, loss_fn=loss_fn, lr_scheduler=lr_scheduler, num_classes=num_classes, epochs=epochs, experiment_num=fold, device=device,\n",
    "                        writer=None, early_stop_patience = patience)\n",
    "    elif fold == 3:\n",
    "        fold3_results = train(model=model, model_name=model_name, n_bands=n_bands, batch_size=batch_size,train_dataloader=train_dataloader, val_dataloader=val_dataloader, \n",
    "                        optimizer=optimizer, loss_fn=loss_fn, lr_scheduler=lr_scheduler, num_classes=num_classes, epochs=epochs, experiment_num=fold, device=device,\n",
    "                        writer=None, early_stop_patience = patience)\n",
    "    elif fold == 4:\n",
    "        fold4_results = train(model=model, model_name=model_name, n_bands=n_bands, batch_size=batch_size,train_dataloader=train_dataloader, val_dataloader=val_dataloader, \n",
    "                        optimizer=optimizer, loss_fn=loss_fn, lr_scheduler=lr_scheduler, num_classes=num_classes, epochs=epochs, experiment_num=fold, device=device,\n",
    "                        writer=None, early_stop_patience = patience)\n",
    "    else:\n",
    "        fold5_results = train(model=model, model_name=model_name, n_bands=n_bands, batch_size=batch_size,train_dataloader=train_dataloader, val_dataloader=val_dataloader, \n",
    "                        optimizer=optimizer, loss_fn=loss_fn, lr_scheduler=lr_scheduler, num_classes=num_classes, epochs=epochs, experiment_num=fold, device=device,\n",
    "                        writer=None, early_stop_patience = patience)\n",
    "    \n",
    "    del train_indices, val_indices, train_image_set, train_label_set, train_hash_id, train_species_set, val_image_set, val_label_set, val_hash_id, val_species_set,\n",
    "    train_dataset, val_dataset, sampler, train_dataloader, val_dataloader, model, loss_fn, optimizer, lr_scheduler\n",
    "    \n",
    "    #finish the wandb run\n",
    "    wandb.finish()\n",
    "    print(\"Deleting variables and emptying cache\")\n",
    "    gc.collect()\n",
    "    torch.cuda.empty_cache()\n",
    "    print(f\"Memory allocated: {torch.cuda.memory_allocated()} bytes\")\n",
    "    print(\"-\"*50 + \"\\n\")"
   ]
  },
  {
   "cell_type": "markdown",
   "id": "a36b9b92",
   "metadata": {},
   "source": [
    "#### Create test dataset and test dataloader "
   ]
  },
  {
   "cell_type": "code",
   "execution_count": 19,
   "id": "c0c36ebb",
   "metadata": {},
   "outputs": [],
   "source": [
    "# create test dataset\n",
    "test_dataset = data_loader.CustomTestDataset(\n",
    "    data = test_image_set,\n",
    "    labels = test_label_set,\n",
    "    class_names=class_names, \n",
    "    species = test_species_set,\n",
    "    kkl = None,\n",
    "    transform=transform\n",
    ")\n",
    "\n",
    "# create test dataloader\n",
    "test_dataloader = DataLoader(test_dataset,\n",
    "                             batch_size=batch_size,\n",
    "                             persistent_workers=True,\n",
    "                             pin_memory=True,\n",
    "                             num_workers=NUM_WORKERS,\n",
    "                             shuffle=False,\n",
    "                             drop_last=True)"
   ]
  },
  {
   "cell_type": "markdown",
   "id": "22cdaac7",
   "metadata": {},
   "source": [
    "#### Perform ensembling of the five best models"
   ]
  },
  {
   "cell_type": "code",
   "execution_count": 20,
   "id": "67db5af2",
   "metadata": {},
   "outputs": [
    {
     "name": "stdout",
     "output_type": "stream",
     "text": [
      "Loaded pretrained weights for efficientnet-b7\n",
      "Loaded pretrained weights for efficientnet-b7\n",
      "Loaded pretrained weights for efficientnet-b7\n",
      "Loaded pretrained weights for efficientnet-b7\n",
      "Loaded pretrained weights for efficientnet-b7\n",
      "              precision    recall  f1-score   support\n",
      "\n",
      "           0       0.73      0.82      0.77       284\n",
      "           1       0.69      0.58      0.63       166\n",
      "           2       0.60      0.47      0.53       119\n",
      "           3       0.61      0.75      0.67       135\n",
      "           4       0.75      0.80      0.77        30\n",
      "           5       1.00      0.15      0.27        13\n",
      "           6       0.61      0.68      0.64        93\n",
      "           7       0.66      0.53      0.59        78\n",
      "           8       0.61      0.71      0.66        58\n",
      "           9       0.47      0.27      0.34        26\n",
      "          10       0.91      0.91      0.91        22\n",
      "\n",
      "    accuracy                           0.67      1024\n",
      "   macro avg       0.69      0.61      0.62      1024\n",
      "weighted avg       0.67      0.67      0.66      1024\n",
      "\n",
      "[[234  37   5   5   1   0   0   1   0   0   1]\n",
      " [ 65  96   0   2   1   0   1   1   0   0   0]\n",
      " [  3   2  56  56   0   0   0   2   0   0   0]\n",
      " [  2   1  31 101   0   0   0   0   0   0   0]\n",
      " [  2   0   0   0  24   0   2   2   0   0   0]\n",
      " [  2   1   0   1   6   2   0   0   0   0   1]\n",
      " [  6   1   2   0   0   0  63  12   9   0   0]\n",
      " [  2   1   0   1   0   0  29  41   3   1   0]\n",
      " [  3   0   0   0   0   0   6   1  41   7   0]\n",
      " [  1   0   0   0   0   0   3   1  14   7   0]\n",
      " [  0   1   0   0   0   0   0   1   0   0  20]]\n"
     ]
    }
   ],
   "source": [
    "# Setup the best model filepaths\n",
    "best_model1_path = r\"C:\\Users\\lwfeckesim\\01_PyTorch\\wze-uav\\wze-uav-master\\models\\EffNet_b7_RGB-NIR-5species-combined\\1_EffNet_b7_RGB-NIR-5species-combined_14_epochs.pth\"\n",
    "best_model2_path = r\"C:\\Users\\lwfeckesim\\01_PyTorch\\wze-uav\\wze-uav-master\\models\\EffNet_b7_RGB-NIR-5species-combined\\2_EffNet_b7_RGB-NIR-5species-combined_14_epochs.pth\"\n",
    "best_model3_path = r\"C:\\Users\\lwfeckesim\\01_PyTorch\\wze-uav\\wze-uav-master\\models\\EffNet_b7_RGB-NIR-5species-combined\\3_EffNet_b7_RGB-NIR-5species-combined_30_epochs.pth\"\n",
    "best_model4_path = r\"C:\\Users\\lwfeckesim\\01_PyTorch\\wze-uav\\wze-uav-master\\models\\EffNet_b7_RGB-NIR-5species-combined\\4_EffNet_b7_RGB-NIR-5species-combined_14_epochs.pth\"\n",
    "best_model5_path = r\"C:\\Users\\lwfeckesim\\01_PyTorch\\wze-uav\\wze-uav-master\\models\\EffNet_b7_RGB-NIR-5species-combined\\5_EffNet_b7_RGB-NIR-5species-combined_14_epochs.pth\"\n",
    "\n",
    "# Instantiate a new instance of EffNetB7 (to load the saved state_dict() to)\n",
    "#model1 = models.create_effnetb7(output_shape=num_classes, unfreeze=unfreeze, dropout_rate=dropout_rate, device=device)\n",
    "#model2 = models.create_effnetb7(output_shape=num_classes, unfreeze=unfreeze, dropout_rate=dropout_rate, device=device)\n",
    "#model3 = models.create_effnetb7(output_shape=num_classes, unfreeze=unfreeze, dropout_rate=dropout_rate, device=device)\n",
    "#model4 = models.create_effnetb7(output_shape=num_classes, unfreeze=unfreeze, dropout_rate=dropout_rate, device=device)\n",
    "#model5 = models.create_effnetb7(output_shape=num_classes, unfreeze=unfreeze, dropout_rate=dropout_rate, device=device)\n",
    "# for custom models with more than three bands as input\n",
    "model1 = model_effnet.EfficientNet.from_pretrained('efficientnet-b7', in_channels=n_bands, num_classes=num_classes, dropout_rate=dropout_rate)\n",
    "model2 = model_effnet.EfficientNet.from_pretrained('efficientnet-b7', in_channels=n_bands, num_classes=num_classes, dropout_rate=dropout_rate)\n",
    "model3 = model_effnet.EfficientNet.from_pretrained('efficientnet-b7', in_channels=n_bands, num_classes=num_classes, dropout_rate=dropout_rate)\n",
    "model4 = model_effnet.EfficientNet.from_pretrained('efficientnet-b7', in_channels=n_bands, num_classes=num_classes, dropout_rate=dropout_rate)\n",
    "model5 = model_effnet.EfficientNet.from_pretrained('efficientnet-b7', in_channels=n_bands, num_classes=num_classes, dropout_rate=dropout_rate)\n",
    "\n",
    "# Load the saved best model state_dict()\n",
    "model1.load_state_dict(torch.load(best_model1_path))\n",
    "model2.load_state_dict(torch.load(best_model2_path))\n",
    "model3.load_state_dict(torch.load(best_model3_path))\n",
    "model4.load_state_dict(torch.load(best_model4_path))\n",
    "model5.load_state_dict(torch.load(best_model5_path))\n",
    "\n",
    "model1.to(device)\n",
    "model2.to(device)\n",
    "model3.to(device)\n",
    "model4.to(device)\n",
    "model5.to(device)\n",
    "\n",
    "model1.eval()\n",
    "model2.eval()\n",
    "model3.eval()\n",
    "model4.eval()\n",
    "model5.eval()\n",
    "\n",
    "# Initialize the lists to store the predictions\n",
    "all_preds_model1 = []\n",
    "all_preds_model2 = []\n",
    "all_preds_model3 = []\n",
    "all_preds_model4 = []\n",
    "all_preds_model5 = []\n",
    "all_true_labels = []\n",
    "\n",
    "# Loop through the test dataset and generate predictions for each model\n",
    "with torch.no_grad():\n",
    "    for batch in test_dataloader:\n",
    "        inputs, labels, species = batch\n",
    "        inputs, labels, species = inputs.to(device), labels.to(device), species\n",
    "        \n",
    "        # Generate predictions for each model\n",
    "        preds_model1 = model1(inputs)\n",
    "        preds_model2 = model2(inputs)\n",
    "        preds_model3 = model3(inputs)\n",
    "        preds_model4 = model4(inputs)\n",
    "        preds_model5 = model5(inputs)\n",
    "\n",
    "        # Append the predictions to the corresponding list\n",
    "        all_preds_model1.append(preds_model1.cpu().numpy())\n",
    "        all_preds_model2.append(preds_model2.cpu().numpy())\n",
    "        all_preds_model3.append(preds_model3.cpu().numpy())\n",
    "        all_preds_model4.append(preds_model4.cpu().numpy())\n",
    "        all_preds_model5.append(preds_model5.cpu().numpy())\n",
    "        \n",
    "        all_true_labels.append(labels.cpu().numpy())\n",
    "\n",
    "# Concatenate the predictions from all the models\n",
    "all_preds_model1 = np.concatenate(all_preds_model1)\n",
    "all_preds_model2 = np.concatenate(all_preds_model2)\n",
    "all_preds_model3 = np.concatenate(all_preds_model3)\n",
    "all_preds_model4 = np.concatenate(all_preds_model4)\n",
    "all_preds_model5 = np.concatenate(all_preds_model5)\n",
    "\n",
    "all_true_labels = np.concatenate(all_true_labels)\n",
    "\n",
    "# Calculate the ensemble predictions\n",
    "ensemble_preds = np.mean([all_preds_model1, all_preds_model2, all_preds_model3, all_preds_model4, all_preds_model5], axis=0)\n",
    "ensemble_labels = np.argmax(ensemble_preds, axis=1)\n",
    "\n",
    "# Calculate the evaluation metrics for the ensemble model\n",
    "from sklearn.metrics import classification_report, confusion_matrix\n",
    "\n",
    "print(classification_report(all_true_labels, ensemble_labels))\n",
    "print(confusion_matrix(all_true_labels, ensemble_labels))\n",
    "\n",
    "\n",
    "\n",
    "\n"
   ]
  },
  {
   "cell_type": "code",
   "execution_count": 21,
   "id": "6dfbc663",
   "metadata": {},
   "outputs": [
    {
     "name": "stdout",
     "output_type": "stream",
     "text": [
      "              precision    recall  f1-score   support\n",
      "\n",
      "           0       0.73      0.82      0.77       284\n",
      "           1       0.69      0.58      0.63       166\n",
      "           2       0.60      0.47      0.53       119\n",
      "           3       0.61      0.75      0.67       135\n",
      "           4       0.75      0.80      0.77        30\n",
      "           5       1.00      0.15      0.27        13\n",
      "           6       0.61      0.68      0.64        93\n",
      "           7       0.66      0.53      0.59        78\n",
      "           8       0.61      0.71      0.66        58\n",
      "           9       0.47      0.27      0.34        26\n",
      "          10       0.91      0.91      0.91        22\n",
      "\n",
      "    accuracy                           0.67      1024\n",
      "   macro avg       0.69      0.61      0.62      1024\n",
      "weighted avg       0.67      0.67      0.66      1024\n",
      "\n"
     ]
    },
    {
     "data": {
      "image/png": "[encoded data removed]",
      "text/plain": [
       "<Figure size 720x504 with 1 Axes>"
      ]
     },
     "metadata": {
      "needs_background": "light"
     },
     "output_type": "display_data"
    }
   ],
   "source": [
    "import matplotlib.pyplot as plt\n",
    "import pandas as pd\n",
    "# Calculate the evaluation metrics for the ensemble model\n",
    "\n",
    "report = classification_report(all_true_labels, ensemble_labels)\n",
    "print(report)\n",
    "#print(confusion_matrix(all_true_labels, ensemble_labels))\n",
    "\n",
    "# Save the report to a file\n",
    "with open(r'C:\\Users\\lwfeckesim\\01_PyTorch\\wze-uav\\wze-uav-master\\plots\\report_RGB_5species_combined.txt', 'w') as f:\n",
    "    f.write(report)\n",
    "\n",
    "labels = np.array([0,1,2,3,4,5,6,7,8,9,10])\n",
    "confmat = confusion_matrix(all_true_labels, ensemble_labels, labels=labels)\n",
    "\n",
    "# 3. Plot the confusion matrix\n",
    "fig, ax = plot_confusion_matrix(\n",
    "    conf_mat=confmat, # matplotlib likes working with NumPy \n",
    "    class_names=class_names, # turn the row and column labels into class names\n",
    "    figsize=(10, 7)\n",
    ");\n",
    "\n",
    "# add title to confusion matrix plot\n",
    "plt.title(\"Main tree species and Health Status Classification using RGB Bands\", fontsize=16)\n",
    "\n",
    "fig.savefig(r'C:\\Users\\lwfeckesim\\01_PyTorch\\wze-uav\\wze-uav-master\\plots\\confmat_RGB_5species_combined.png', dpi=300, bbox_inches='tight')\n",
    "\n",
    "# Create a DataFrame from the confusion matrix\n",
    "df_cm = pd.DataFrame(confmat)\n",
    "\n",
    "# Export the confusion matrix to a CSV file\n",
    "df_cm.to_csv(r'C:\\Users\\lwfeckesim\\01_PyTorch\\wze-uav\\wze-uav-master\\plots\\confmat_RGB_5species_combined.csv', index=False)\n"
   ]
  },
  {
   "cell_type": "code",
   "execution_count": 23,
   "id": "aab9e321",
   "metadata": {},
   "outputs": [
    {
     "ename": "NameError",
     "evalue": "name 'best_model' is not defined",
     "output_type": "error",
     "traceback": [
      "\u001b[1;31m---------------------------------------------------------------------------\u001b[0m",
      "\u001b[1;31mNameError\u001b[0m                                 Traceback (most recent call last)",
      "Input \u001b[1;32mIn [23]\u001b[0m, in \u001b[0;36m<cell line: 3>\u001b[1;34m()\u001b[0m\n\u001b[0;32m      1\u001b[0m \u001b[38;5;66;03m# 2. Setup confusion matrix instance and compare predictions to targets\u001b[39;00m\n\u001b[0;32m      2\u001b[0m \u001b[38;5;66;03m#from wze_uav.analysis import *\u001b[39;00m\n\u001b[1;32m----> 3\u001b[0m y_pred_tensor, y_labels_tensor, test_loss, test_recall, test_precision, test_f1_score, test_acc, y_logit, y_pred, y, y_preds \u001b[38;5;241m=\u001b[39m make_predictions(model\u001b[38;5;241m=\u001b[39m\u001b[43mbest_model\u001b[49m,\n\u001b[0;32m      4\u001b[0m                                  test_dataloader\u001b[38;5;241m=\u001b[39mtest_dataloader, \n\u001b[0;32m      5\u001b[0m                                  device\u001b[38;5;241m=\u001b[39mdevice)\n\u001b[0;32m      7\u001b[0m y_labels_tensor \u001b[38;5;241m=\u001b[39m y_labels_tensor\u001b[38;5;241m.\u001b[39mdetach()\u001b[38;5;241m.\u001b[39mcpu()\u001b[38;5;241m.\u001b[39mnumpy()\n\u001b[0;32m      8\u001b[0m y_pred_tensor \u001b[38;5;241m=\u001b[39m y_pred_tensor\u001b[38;5;241m.\u001b[39mdetach()\u001b[38;5;241m.\u001b[39mcpu()\u001b[38;5;241m.\u001b[39mnumpy()\n",
      "\u001b[1;31mNameError\u001b[0m: name 'best_model' is not defined"
     ]
    }
   ],
   "source": [
    "# 2. Setup confusion matrix instance and compare predictions to targets\n",
    "#from wze_uav.analysis import *\n",
    "y_pred_tensor, y_labels_tensor, test_loss, test_recall, test_precision, test_f1_score, test_acc, y_logit, y_pred, y, y_preds = make_predictions(model=best_model,\n",
    "                                 test_dataloader=test_dataloader, \n",
    "                                 device=device)\n",
    "\n",
    "y_labels_tensor = y_labels_tensor.detach().cpu().numpy()\n",
    "y_pred_tensor = y_pred_tensor.detach().cpu().numpy()\n",
    "\n",
    "#confmat = ConfusionMatrix(num_classes=num_classes, task='multiclass')\n",
    "#confmat_tensor = confmat(preds=y_pred_tensor,\n",
    "#                         target=test_labels)\n",
    "labels = np.array([0,1,2])\n",
    "confmat = confusion_matrix(y_labels_tensor, y_pred_tensor, labels=labels)\n",
    "\n",
    "# 3. Plot the confusion matrix\n",
    "fig, ax = plot_confusion_matrix(\n",
    "    conf_mat=confmat, # matplotlib likes working with NumPy \n",
    "    class_names=class_names, # turn the row and column labels into class names\n",
    "    figsize=(10, 7)\n",
    ");\n",
    "\n",
    "print(f\"Test loss: {test_loss}\")\n",
    "print(f\"Test precision: {test_precision}\")\n",
    "print(f\"Test recall: {test_recall}\")\n",
    "print(f\"Test F1score: {test_f1_score}\")\n",
    "#print(f\"Test Kappa: {test_kappa}\")\n",
    "print(f\"Test Accuracy: {test_acc}\")\n",
    "print(f\"Test Logits: {y_logit}\")\n",
    "print(f\"Test Predictions: {y_pred}\")\n",
    "print(f\"Test Labels: {y}\")"
   ]
  },
  {
   "cell_type": "code",
   "execution_count": null,
   "id": "8d4173b3",
   "metadata": {},
   "outputs": [],
   "source": [
    "len(y_preds)"
   ]
  },
  {
   "cell_type": "code",
   "execution_count": null,
   "id": "7588116f",
   "metadata": {},
   "outputs": [],
   "source": [
    "y_set.cpu()"
   ]
  },
  {
   "cell_type": "code",
   "execution_count": null,
   "id": "1c195b3e",
   "metadata": {},
   "outputs": [],
   "source": [
    "test_dataset.labels"
   ]
  },
  {
   "cell_type": "code",
   "execution_count": null,
   "id": "975ec08c",
   "metadata": {},
   "outputs": [],
   "source": []
  },
  {
   "cell_type": "code",
   "execution_count": null,
   "id": "6da05604",
   "metadata": {},
   "outputs": [],
   "source": [
    "y_preds = []\n",
    "y_labels = []\n",
    "labels = np.array([0,1,2])\n",
    "test_loss, test_precision, test_recall, test_f1_score, test_acc = 0, 0, 0, 0, 0\n",
    "count = 0\n",
    "model.eval()\n",
    "with torch.inference_mode():\n",
    "    for X, y in tqdm(test_dataloader, desc=\"Making predictions\"):\n",
    "        # Send data and targets to target device\n",
    "        X, y = X.to(device), y.to(device)\n",
    "        # Do the forward pass\n",
    "        y_logit = model(X)\n",
    "        # Turn predictions from logits -> prediction probabilities -> predictions labels\n",
    "        y_pred = torch.softmax(y_logit, dim=1).argmax(dim=1)\n",
    "        # Put predictions on CPU for evaluation\n",
    "        y_preds.append(y_pred.cpu())\n",
    "        y_labels.append(y.cpu())\n",
    "        \n",
    "        #other metrics\n",
    "        test_acc += ((y_pred == y).sum().item()/len(y_pred))\n",
    "        y_pred_class = y_pred.detach().cpu().numpy() \n",
    "        y_class = y.detach().cpu().numpy()\n",
    "        test_precision += precision_score(y_class, y_pred_class, average='macro', zero_division=1, labels=labels)\n",
    "        test_recall += recall_score(y_class, y_pred_class, average='macro', zero_division=1, labels=labels)\n",
    "        #test_f1_score += f1_score(y_class, y_pred_class, average='macro', zero_division=1, labels=labels)\n",
    "        \n",
    "        #if count >= 1:\n",
    "        #    y_set = torch.cat((y_set, y))\n",
    "        #    count = count + 1\n",
    "        #else:\n",
    "        #    y_set = y\n",
    "        #    count = count + 1\n",
    "        \n",
    "test_loss = test_loss / len(test_dataloader)\n",
    "test_precision = test_precision / len(test_dataloader)\n",
    "test_recall = test_recall / len(test_dataloader)\n",
    "#test_f1_score = test_f1_score / len(test_dataloader)\n",
    "#test_kappa = test_kappa / len(dataloader)\n",
    "test_acc = test_acc / len(test_dataloader)\n",
    "# Concatenate list of predictions into a tensor\n",
    "y_pred_tensor = torch.cat(y_preds)\n",
    "test_f1_score = f1_score(y_set.detach().cpu().numpy(), y_pred_tensor.cpu().numpy(), average='macro', zero_division=0, labels=[0,1,2])\n",
    "\n",
    "# Print classification report\n",
    "y_true = y_set.detach().cpu().numpy()\n",
    "report = classification_report(y_true, y_pred_tensor.cpu().numpy(), target_names=class_names)\n",
    "print(report)"
   ]
  },
  {
   "cell_type": "code",
   "execution_count": null,
   "id": "6ae97fab",
   "metadata": {},
   "outputs": [],
   "source": [
    "test_f1_score"
   ]
  },
  {
   "cell_type": "code",
   "execution_count": null,
   "id": "7ebafd9b",
   "metadata": {},
   "outputs": [],
   "source": [
    "make = (y_class == y_pred_class)\n",
    "make"
   ]
  },
  {
   "cell_type": "code",
   "execution_count": null,
   "id": "4f8aa759",
   "metadata": {},
   "outputs": [],
   "source": [
    "torch.softmax(y_logit, dim=1).argmax(dim=1)"
   ]
  },
  {
   "cell_type": "code",
   "execution_count": null,
   "id": "f90a54b2",
   "metadata": {},
   "outputs": [],
   "source": [
    "y"
   ]
  },
  {
   "cell_type": "code",
   "execution_count": null,
   "id": "5a806154",
   "metadata": {},
   "outputs": [],
   "source": [
    "test = (y_pred == y).sum().item()/16"
   ]
  },
  {
   "cell_type": "code",
   "execution_count": null,
   "id": "1da35c56",
   "metadata": {},
   "outputs": [],
   "source": [
    "test"
   ]
  },
  {
   "cell_type": "code",
   "execution_count": null,
   "id": "b1eb246e",
   "metadata": {},
   "outputs": [],
   "source": [
    " y_pred_class = y_pred.detach().cpu().numpy() "
   ]
  },
  {
   "cell_type": "code",
   "execution_count": null,
   "id": "602e096f",
   "metadata": {},
   "outputs": [],
   "source": [
    "y_pred_class"
   ]
  },
  {
   "cell_type": "code",
   "execution_count": null,
   "id": "eaf1af09",
   "metadata": {},
   "outputs": [],
   "source": []
  }
 ],
 "metadata": {
  "kernelspec": {
   "display_name": "Python 3 (ipykernel)",
   "language": "python",
   "name": "python3"
  },
  "language_info": {
   "codemirror_mode": {
    "name": "ipython",
    "version": 3
   },
   "file_extension": ".py",
   "mimetype": "text/x-python",
   "name": "python",
   "nbconvert_exporter": "python",
   "pygments_lexer": "ipython3",
   "version": "3.9.16"
  }
 },
 "nbformat": 4,
 "nbformat_minor": 5
}
