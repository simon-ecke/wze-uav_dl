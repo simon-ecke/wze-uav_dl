{
 "cells": [
  {
   "cell_type": "markdown",
   "id": "c1acdaa3",
   "metadata": {},
   "source": [
    "# WZE-UAV Image Classification using Deep Learning"
   ]
  },
  {
   "cell_type": "code",
   "execution_count": 1,
   "id": "2159aac5",
   "metadata": {},
   "outputs": [],
   "source": [
    "import os\n",
    "import gc\n",
    "import glob\n",
    "import numpy as np\n",
    "from pathlib import Path\n",
    "from tqdm.auto import tqdm\n",
    "from sklearn.metrics import confusion_matrix, classification_report\n",
    "from sklearn.model_selection import KFold"
   ]
  },
  {
   "cell_type": "code",
   "execution_count": 2,
   "id": "0026f7a9",
   "metadata": {},
   "outputs": [],
   "source": [
    "import torch\n",
    "import torchvision.transforms as T\n",
    "import torchvision\n",
    "from torch import nn\n",
    "from torch.utils.data import DataLoader\n",
    "from torchvision import datasets, transforms\n",
    "from torch.utils.data import Dataset\n",
    "import torch.optim as optim\n",
    "from torch.optim.lr_scheduler import ExponentialLR\n",
    "from mlxtend.plotting import plot_confusion_matrix"
   ]
  },
  {
   "cell_type": "code",
   "execution_count": 3,
   "id": "b160d7b4",
   "metadata": {},
   "outputs": [],
   "source": [
    "import wze_uav.data_loader as data_loader\n",
    "import wze_uav.models as models\n",
    "from wze_uav.engine import *\n",
    "from wze_uav.utils2 import *\n",
    "#from wze_uav.log_writer import create_writer\n",
    "from wze_uav.datasplit import *\n",
    "from efficientnet import model_effnet #for custom effnet with n_channels input\n",
    "import wandb"
   ]
  },
  {
   "cell_type": "markdown",
   "id": "2bd4fb2f",
   "metadata": {},
   "source": [
    "#### Get PyTorch version"
   ]
  },
  {
   "cell_type": "code",
   "execution_count": 4,
   "id": "c10886b1",
   "metadata": {},
   "outputs": [
    {
     "name": "stdout",
     "output_type": "stream",
     "text": [
      "torch version: 1.13.1+cu116\n",
      "torchvision version: 0.14.1+cu116\n"
     ]
    }
   ],
   "source": [
    "print(f\"torch version: {torch.__version__}\")\n",
    "print(f\"torchvision version: {torchvision.__version__}\")"
   ]
  },
  {
   "cell_type": "markdown",
   "id": "aa6a83cf",
   "metadata": {},
   "source": [
    "#### Preparing device agnostic code "
   ]
  },
  {
   "cell_type": "code",
   "execution_count": 5,
   "id": "13d5de88",
   "metadata": {},
   "outputs": [
    {
     "name": "stdout",
     "output_type": "stream",
     "text": [
      "cuda\n",
      "Index of current divice: 0\n",
      "Number of GPUs available: 1\n",
      "GPU Model: Quadro RTX 8000\n"
     ]
    }
   ],
   "source": [
    "# ensure device agnostic code\n",
    "device = 'cuda' if torch.cuda.is_available() else 'cpu'\n",
    "print(device)\n",
    "\n",
    "# get index of currently selected device\n",
    "print(f\"Index of current divice: {torch.cuda.current_device()}\")\n",
    "# get number of GPUs available\n",
    "print(f\"Number of GPUs available: {torch.cuda.device_count()}\")\n",
    "# get the name of the device\n",
    "print(f\"GPU Model: {torch.cuda.get_device_name(0)}\")"
   ]
  },
  {
   "cell_type": "markdown",
   "id": "8ef6b169",
   "metadata": {},
   "source": [
    "#### Login to Weights & Biases to track results"
   ]
  },
  {
   "cell_type": "code",
   "execution_count": 6,
   "id": "a59d27cf",
   "metadata": {},
   "outputs": [
    {
     "name": "stderr",
     "output_type": "stream",
     "text": [
      "Failed to detect the name of this notebook, you can set it manually with the WANDB_NOTEBOOK_NAME environment variable to enable code saving.\n",
      "\u001b[34m\u001b[1mwandb\u001b[0m: Currently logged in as: \u001b[33msimon-ecke\u001b[0m. Use \u001b[1m`wandb login --relogin`\u001b[0m to force relogin\n"
     ]
    },
    {
     "data": {
      "text/html": [
       "wandb version 0.15.0 is available!  To upgrade, please run:\n",
       " $ pip install wandb --upgrade"
      ],
      "text/plain": [
       "<IPython.core.display.HTML object>"
      ]
     },
     "metadata": {},
     "output_type": "display_data"
    },
    {
     "data": {
      "text/html": [
       "Tracking run with wandb version 0.14.2"
      ],
      "text/plain": [
       "<IPython.core.display.HTML object>"
      ]
     },
     "metadata": {},
     "output_type": "display_data"
    },
    {
     "data": {
      "text/html": [
       "Run data is saved locally in <code>C:\\Users\\lwfeckesim\\01_PyTorch\\wze-uav\\wze-uav-master\\wandb\\run-20230428_100243-vlhcy87v</code>"
      ],
      "text/plain": [
       "<IPython.core.display.HTML object>"
      ]
     },
     "metadata": {},
     "output_type": "display_data"
    },
    {
     "data": {
      "text/html": [
       "Syncing run <strong><a href='https://wandb.ai/simon-ecke/wze-uav-5classes/runs/vlhcy87v' target=\"_blank\">bright-microwave-7</a></strong> to <a href='https://wandb.ai/simon-ecke/wze-uav-5classes' target=\"_blank\">Weights & Biases</a> (<a href='https://wandb.me/run' target=\"_blank\">docs</a>)<br/>"
      ],
      "text/plain": [
       "<IPython.core.display.HTML object>"
      ]
     },
     "metadata": {},
     "output_type": "display_data"
    },
    {
     "data": {
      "text/html": [
       " View project at <a href='https://wandb.ai/simon-ecke/wze-uav-5classes' target=\"_blank\">https://wandb.ai/simon-ecke/wze-uav-5classes</a>"
      ],
      "text/plain": [
       "<IPython.core.display.HTML object>"
      ]
     },
     "metadata": {},
     "output_type": "display_data"
    },
    {
     "data": {
      "text/html": [
       " View run at <a href='https://wandb.ai/simon-ecke/wze-uav-5classes/runs/vlhcy87v' target=\"_blank\">https://wandb.ai/simon-ecke/wze-uav-5classes/runs/vlhcy87v</a>"
      ],
      "text/plain": [
       "<IPython.core.display.HTML object>"
      ]
     },
     "metadata": {},
     "output_type": "display_data"
    },
    {
     "data": {
      "text/html": [
       "<button onClick=\"this.nextSibling.style.display='block';this.style.display='none';\">Display W&B run</button><iframe src='https://wandb.ai/simon-ecke/wze-uav-5classes/runs/vlhcy87v?jupyter=true' style='border:none;width:100%;height:420px;display:none;'></iframe>"
      ],
      "text/plain": [
       "<wandb.sdk.wandb_run.Run at 0x20659874520>"
      ]
     },
     "execution_count": 6,
     "metadata": {},
     "output_type": "execute_result"
    }
   ],
   "source": [
    "# IMPORTANT: The proxy needs to be set in anaconda!\n",
    "# copy paste this in anaconda and restart jupyter notebook\n",
    "#set http_proxy=http://www-proxy.bayern.de:80\n",
    "#set https_proxy=http://www-proxy.bayern.de:80\n",
    "wandb.login()\n",
    "#wandb.init(settings=wandb.Settings(start_method=\"thread\"))\n",
    "wandb.init(project='wze-uav-5classes', entity='simon-ecke')"
   ]
  },
  {
   "cell_type": "markdown",
   "id": "a26a6a34",
   "metadata": {},
   "source": [
    "#### Ensure reproducibility "
   ]
  },
  {
   "cell_type": "code",
   "execution_count": 7,
   "id": "dd4656a7",
   "metadata": {},
   "outputs": [],
   "source": [
    "# for more information, see also: https://pytorch.org/docs/stable/notes/randomness.html\n",
    "\n",
    "# Set seeds\n",
    "def set_seeds(seed: int=42):\n",
    "    \"\"\"Sets random sets for torch operations.\n",
    "\n",
    "    Args:\n",
    "        seed (int, optional): Random seed to set. Defaults to 42.\n",
    "    \"\"\"\n",
    "    # Set the seed for general torch operations\n",
    "    torch.manual_seed(seed)\n",
    "    # Set the seed for CUDA torch operations (ones that happen on the GPU)\n",
    "    torch.cuda.manual_seed(seed)\n",
    "    # seed for numpy\n",
    "    np.random.seed(seed)\n",
    "\n",
    "set_seeds(42) \n",
    "\n",
    "# Set to true -> might speed up the process but should be set to False if reproducible results are desired\n",
    "torch.backends.cudnn.benchmark = False\n"
   ]
  },
  {
   "cell_type": "markdown",
   "id": "8be33671",
   "metadata": {},
   "source": [
    "#### Define file directory"
   ]
  },
  {
   "cell_type": "code",
   "execution_count": 8,
   "id": "30645f36",
   "metadata": {},
   "outputs": [],
   "source": [
    "#####################################################################################\n",
    "# 3 channel input (r-g-b)\n",
    "#data_path = r\"D:\\Drohnendaten\\10_WZE-UAV\\Auswertung_findatree\\Datasplit\\ROI\\rgb\"\n",
    "\n",
    "# 4 channel input (r-g-b-nir)\n",
    "data_path = r\"D:\\Drohnendaten\\10_WZE-UAV\\Auswertung_findatree\\Datasplit\\ROI\\rgb-nir\"\n",
    "\n",
    "# 5 channel input (r-g-b-re-nir)\n",
    "#data_path = r\"D:\\Drohnendaten\\10_WZE-UAV\\Auswertung_findatree\\Datasplit\\ROI\\rgb-re-nir\"\n",
    "\n",
    "# 6 channel input (r-g-b-re-nir)\n",
    "#data_path = r\"D:\\Drohnendaten\\10_WZE-UAV\\Auswertung_findatree\\Datasplit\\ROI\\rgb-re-nir-ndvi\"\n",
    "#####################################################################################"
   ]
  },
  {
   "cell_type": "markdown",
   "id": "4560ce64",
   "metadata": {},
   "source": [
    "#### Get all file paths"
   ]
  },
  {
   "cell_type": "code",
   "execution_count": 9,
   "id": "aa072e4c",
   "metadata": {},
   "outputs": [],
   "source": [
    "fn_list = os.listdir(data_path)\n",
    "path_list = []\n",
    "# Iterate over all datafiles\n",
    "for year in fn_list:\n",
    "    year_dir = f'{data_path}\\\\{year}'\n",
    "    for filename in os.listdir(year_dir):\n",
    "        path = f'{year_dir}\\\\{filename}'\n",
    "        path_list.append(path)"
   ]
  },
  {
   "cell_type": "markdown",
   "id": "f3937a44",
   "metadata": {},
   "source": [
    "#### Create unique hash IDs for every individual tree"
   ]
  },
  {
   "cell_type": "code",
   "execution_count": 10,
   "id": "8a50f1d7",
   "metadata": {},
   "outputs": [
    {
     "data": {
      "application/vnd.jupyter.widget-view+json": {
       "model_id": "132bcc143a644fb98ca164083f5a4b23",
       "version_major": 2,
       "version_minor": 0
      },
      "text/plain": [
       "Creating unique tree IDs...:   0%|          | 0/647 [00:00<?, ?it/s]"
      ]
     },
     "metadata": {},
     "output_type": "display_data"
    }
   ],
   "source": [
    "hashID_dict = data_loader.get_unique_treeID(path_list)"
   ]
  },
  {
   "cell_type": "markdown",
   "id": "6f4cea00",
   "metadata": {},
   "source": [
    "#### Import all imagery, labels and other features from hdf5 files"
   ]
  },
  {
   "cell_type": "code",
   "execution_count": 11,
   "id": "94e3eecf",
   "metadata": {},
   "outputs": [
    {
     "data": {
      "application/vnd.jupyter.widget-view+json": {
       "model_id": "60f431690fae4b6aa52c5823874c5564",
       "version_major": 2,
       "version_minor": 0
      },
      "text/plain": [
       "Processing hdf5 datasets:   0%|          | 0/647 [00:00<?, ?it/s]"
      ]
     },
     "metadata": {},
     "output_type": "display_data"
    }
   ],
   "source": [
    "image_set, label_set, species_set, kkl_set, bk_set, hash_id = data_loader.hdf5_to_img_label(path_list,\n",
    "                                                                                               hashID_dict,\n",
    "                                                                                               load_sets=[\"images_masked\"])"
   ]
  },
  {
   "cell_type": "markdown",
   "id": "6a90e2b7",
   "metadata": {},
   "source": [
    "#### Convert nbv to classes"
   ]
  },
  {
   "cell_type": "code",
   "execution_count": 12,
   "id": "0224972a",
   "metadata": {},
   "outputs": [],
   "source": [
    "label_set = nbv_to_sst_5classes(label_set)"
   ]
  },
  {
   "cell_type": "markdown",
   "id": "c6b4cd85",
   "metadata": {},
   "source": [
    "#### Split data into a sub set and a test dataset"
   ]
  },
  {
   "cell_type": "code",
   "execution_count": 13,
   "id": "d06eda54",
   "metadata": {},
   "outputs": [
    {
     "name": "stdout",
     "output_type": "stream",
     "text": [
      "ORIGINAL POSITIVE RATIO: 1.2873703802180272\n",
      "Fold : 0\n",
      "TRAIN POSITIVE RATIO: 1.2826295278860282\n",
      "TEST POSITIVE RATIO : 1.3109137055837563\n",
      "LENGTH TRAIN GROUPS : 5903\n",
      "LENGTH TEST GROUPS  : 1184\n",
      "Number of True in sub_indices: 15653\n",
      "Number of False in sub_indices: 3152\n",
      "Number of True in test_indices: 1185\n",
      "Number of False in test_indices: 17620\n",
      "Check shapes:\n",
      "\n",
      "Images sub dataset: (15653, 250, 250, 4)\n",
      "Labels sub dataset: (15653, 1)\n",
      "\n",
      "Images test dataset: (1185, 250, 250, 4)\n",
      "Labels test dataset: (1185, 1)\n",
      "\n",
      "--------------------------------------------------\n",
      "Check if the split was stratified: (random_state=42)\n",
      "Healthy trees in sub dataset: 2973\n",
      "Stressed trees in sub dataset: 6234\n",
      "Dead trees in sub dataset: 5743\n",
      "Healthy trees in test dataset: 193\n",
      "Stressed trees in test dataset: 503\n",
      "Dead trees in test dataset: 423\n",
      "Ratio health trees in test dataset: 0.06491759165825765\n",
      "Ratio stressed trees in test dataset: 0.08068655758742381\n",
      "Ratio dead trees in test dataset: 0.07365488420686053\n"
     ]
    }
   ],
   "source": [
    "sub_image_set, sub_label_set, sub_hash_id, sub_species_set, test_image_set, test_label_set, test_hash_id, test_species_set = data_split(image_set, label_set, hash_id, species_set, n_splits=6, random_state=42, seed=2)\n"
   ]
  },
  {
   "cell_type": "markdown",
   "id": "c48fbb5b",
   "metadata": {},
   "source": [
    "#### Check if any hash ID is in both sub and test dataset"
   ]
  },
  {
   "cell_type": "code",
   "execution_count": 14,
   "id": "874367cf",
   "metadata": {},
   "outputs": [
    {
     "name": "stdout",
     "output_type": "stream",
     "text": [
      "There are no hash_id values in both train and test datasets. The datasplit was successful\n"
     ]
    }
   ],
   "source": [
    "hash_set = set(sub_hash_id[:,0].flatten())\n",
    "test_hash_set = set(test_hash_id[:,0].flatten())\n",
    "intersection = hash_set.intersection(test_hash_set)\n",
    "if intersection:\n",
    "    print(f\"Hash_id values in both train and test sets: {len(intersection)}\")\n",
    "else:\n",
    "    print(\"There are no hash_id values in both train and test datasets. The datasplit was successful\")"
   ]
  },
  {
   "cell_type": "markdown",
   "id": "9e5b64d4",
   "metadata": {},
   "source": [
    "#### Check feature distribution of the Test dataset"
   ]
  },
  {
   "cell_type": "code",
   "execution_count": 15,
   "id": "a33ff5cb",
   "metadata": {},
   "outputs": [
    {
     "name": "stdout",
     "output_type": "stream",
     "text": [
      "Test dataset\n",
      "Test data healthy trees: 193\n",
      "Test data moderately stressed trees: 503\n",
      "Test data severely stressed trees: 423\n",
      "Test data dead trees: 39\n",
      "Test data pine trees: 281\n",
      "Test data spruces: 475\n",
      "--------------------------------------------------\n",
      "Remaining dataset\n",
      "Remaining data healthy trees: 2973\n",
      "Remaining data moderately stressed trees: 6234\n",
      "Remaining data severley stressed trees: 5743\n",
      "Remaining data dead trees: 455\n",
      "Remaining data pine trees: 4011\n",
      "Remaining data spruces: 5763\n",
      "--------------------------------------------------\n"
     ]
    }
   ],
   "source": [
    "def count_occurrences(data, value):\n",
    "    count = 0\n",
    "    for item in data:\n",
    "        if item == value:\n",
    "            count += 1\n",
    "    return count\n",
    "\n",
    "print(\"Test dataset\")\n",
    "print(f\"Test data healthy trees: {count_occurrences(test_label_set, 0)}\")\n",
    "print(f\"Test data moderately stressed trees: {count_occurrences(test_label_set, 1)}\")\n",
    "print(f\"Test data severely stressed trees: {count_occurrences(test_label_set, 2)}\")\n",
    "print(f\"Test data dead trees: {count_occurrences(test_label_set, 3)}\")\n",
    "print(f\"Test data pine trees: {count_occurrences(test_species_set, 134)}\")\n",
    "print(f\"Test data spruces: {count_occurrences(test_species_set, 118)}\")\n",
    "print(\"-\"*50)\n",
    "\n",
    "print(\"Remaining dataset\")\n",
    "print(f\"Remaining data healthy trees: {count_occurrences(sub_label_set, 0)}\")\n",
    "print(f\"Remaining data moderately stressed trees: {count_occurrences(sub_label_set, 1)}\")\n",
    "print(f\"Remaining data severley stressed trees: {count_occurrences(sub_label_set, 2)}\")\n",
    "print(f\"Remaining data dead trees: {count_occurrences(sub_label_set, 3)}\")\n",
    "print(f\"Remaining data pine trees: {count_occurrences(sub_species_set, 134)}\")\n",
    "print(f\"Remaining data spruces: {count_occurrences(sub_species_set, 118)}\")\n",
    "print(\"-\"*50)"
   ]
  },
  {
   "cell_type": "code",
   "execution_count": 16,
   "id": "e08fcf57",
   "metadata": {},
   "outputs": [],
   "source": [
    "# train transform with augmentation. \n",
    "transform_train = transforms.Compose([transforms.ToTensor(), transforms.RandomHorizontalFlip(p=0.5), transforms.RandomVerticalFlip(p=0.5),\n",
    "                                      transforms.RandomRotation(degrees=[0,360])])\n",
    "\n",
    "# test and val dataset transform without augmentation. \n",
    "transform = transforms.Compose([transforms.ToTensor()])\n",
    "\n",
    "# class names need to fit the customDataset class used e.g. 3 classes -> use CustomDataset3Classes\n",
    "#class_names = ['healthy', 'slightly_stressed', 'moderately_stressed', 'highly_stressed', 'dead']\n",
    "#class_names = ['healthy', 'moderately_stressed', 'highly_stressed', 'dead']\n",
    "class_names = ['healthy', 'low stress', 'moderate stress', 'severe stress', 'dead']\n",
    "\n",
    "# set seeds\n",
    "g = torch.Generator()\n",
    "g.manual_seed(42)\n",
    "NUM_WORKERS=3 # should be changed, depending on the system used\n",
    "batch_size=32"
   ]
  },
  {
   "cell_type": "markdown",
   "id": "31779c05",
   "metadata": {},
   "source": [
    "#### Define variables and parameters"
   ]
  },
  {
   "cell_type": "code",
   "execution_count": 17,
   "id": "10ae4379",
   "metadata": {},
   "outputs": [
    {
     "name": "stdout",
     "output_type": "stream",
     "text": [
      "Memory allocated: 0 bytes\n"
     ]
    }
   ],
   "source": [
    "# 1. Define number of epochs\n",
    "epochs = 50\n",
    "n_bands = sub_image_set[0].shape[2] # get number of bands\n",
    "\n",
    "# 2. Define model\n",
    "num_classes = len(class_names)\n",
    "unfreeze = True # all layer weights get updated\n",
    "dropout_rate = 0.5 #define dropout rate\n",
    "model_name = \"EffNet_b7_RGB-NIR_5classes\"\n",
    "\n",
    "# 3. Define loss, optimizer and learning rate scheduler\n",
    "lr = 0.005 # define learning rate\n",
    "min_lr = 1e-6 # minimum learning rate threshold\n",
    "gamma = 0.75 # how fast the learning rate decreases per epoch (low number=faster decrease)\n",
    "patience = 10\n",
    "\n",
    "# 4. Create target folder name were to save the tensorboard event files\n",
    "experiment_name = 'RGB-NIR_5classes'\n",
    "extra = \"RGB-NIR_5classes\"\n",
    "\n",
    "#----------------------------------------------------------------------\n",
    "#torch.cuda.empty_cache()\n",
    "print(f\"Memory allocated: {torch.cuda.memory_allocated()} bytes\") "
   ]
  },
  {
   "cell_type": "markdown",
   "id": "09768b1a",
   "metadata": {},
   "source": [
    "#### Run k-Fold cross-validation on EfficientNet"
   ]
  },
  {
   "cell_type": "code",
   "execution_count": 18,
   "id": "9c29c81d",
   "metadata": {},
   "outputs": [
    {
     "name": "stdout",
     "output_type": "stream",
     "text": [
      "ORIGINAL POSITIVE RATIO: 1.2826295278860282\n",
      "Fold : 1\n",
      "TRAIN POSITIVE RATIO: 1.2815572787592933\n",
      "VAL POSITIVE RATIO  : 1.2868956743002544\n",
      "LENGTH TRAIN GROUPS : 4720\n",
      "LENGTH VAL GROUPS   : 1183\n"
     ]
    },
    {
     "data": {
      "text/html": [
       "Finishing last run (ID:vlhcy87v) before initializing another..."
      ],
      "text/plain": [
       "<IPython.core.display.HTML object>"
      ]
     },
     "metadata": {},
     "output_type": "display_data"
    },
    {
     "data": {
      "text/html": [
       "Waiting for W&B process to finish... <strong style=\"color:green\">(success).</strong>"
      ],
      "text/plain": [
       "<IPython.core.display.HTML object>"
      ]
     },
     "metadata": {},
     "output_type": "display_data"
    },
    {
     "data": {
      "application/vnd.jupyter.widget-view+json": {
       "model_id": "ef9121b315d24c6f9649fb81b184d905",
       "version_major": 2,
       "version_minor": 0
      },
      "text/plain": [
       "VBox(children=(Label(value='0.001 MB of 0.006 MB uploaded (0.000 MB deduped)\\r'), FloatProgress(value=0.205900…"
      ]
     },
     "metadata": {},
     "output_type": "display_data"
    },
    {
     "data": {
      "text/html": [
       " View run <strong style=\"color:#cdcd00\">bright-microwave-7</strong> at: <a href='https://wandb.ai/simon-ecke/wze-uav-5classes/runs/vlhcy87v' target=\"_blank\">https://wandb.ai/simon-ecke/wze-uav-5classes/runs/vlhcy87v</a><br/>Synced 5 W&B file(s), 0 media file(s), 0 artifact file(s) and 0 other file(s)"
      ],
      "text/plain": [
       "<IPython.core.display.HTML object>"
      ]
     },
     "metadata": {},
     "output_type": "display_data"
    },
    {
     "data": {
      "text/html": [
       "Find logs at: <code>.\\wandb\\run-20230428_100243-vlhcy87v\\logs</code>"
      ],
      "text/plain": [
       "<IPython.core.display.HTML object>"
      ]
     },
     "metadata": {},
     "output_type": "display_data"
    },
    {
     "data": {
      "text/html": [
       "Successfully finished last run (ID:vlhcy87v). Initializing new run:<br/>"
      ],
      "text/plain": [
       "<IPython.core.display.HTML object>"
      ]
     },
     "metadata": {},
     "output_type": "display_data"
    },
    {
     "data": {
      "application/vnd.jupyter.widget-view+json": {
       "model_id": "d81a45451a674326a80c57e2d9d13569",
       "version_major": 2,
       "version_minor": 0
      },
      "text/plain": [
       "VBox(children=(Label(value='Waiting for wandb.init()...\\r'), FloatProgress(value=0.016666666666666666, max=1.0…"
      ]
     },
     "metadata": {},
     "output_type": "display_data"
    },
    {
     "data": {
      "text/html": [
       "wandb version 0.15.0 is available!  To upgrade, please run:\n",
       " $ pip install wandb --upgrade"
      ],
      "text/plain": [
       "<IPython.core.display.HTML object>"
      ]
     },
     "metadata": {},
     "output_type": "display_data"
    },
    {
     "data": {
      "text/html": [
       "Tracking run with wandb version 0.14.2"
      ],
      "text/plain": [
       "<IPython.core.display.HTML object>"
      ]
     },
     "metadata": {},
     "output_type": "display_data"
    },
    {
     "data": {
      "text/html": [
       "Run data is saved locally in <code>C:\\Users\\lwfeckesim\\01_PyTorch\\wze-uav\\wze-uav-master\\wandb\\run-20230428_105124-g1c0993e</code>"
      ],
      "text/plain": [
       "<IPython.core.display.HTML object>"
      ]
     },
     "metadata": {},
     "output_type": "display_data"
    },
    {
     "data": {
      "text/html": [
       "Syncing run <strong><a href='https://wandb.ai/simon-ecke/wze-uav-5classes/runs/g1c0993e' target=\"_blank\">fold_1_RGB-NIR_5classes</a></strong> to <a href='https://wandb.ai/simon-ecke/wze-uav-5classes' target=\"_blank\">Weights & Biases</a> (<a href='https://wandb.me/run' target=\"_blank\">docs</a>)<br/>"
      ],
      "text/plain": [
       "<IPython.core.display.HTML object>"
      ]
     },
     "metadata": {},
     "output_type": "display_data"
    },
    {
     "data": {
      "text/html": [
       " View project at <a href='https://wandb.ai/simon-ecke/wze-uav-5classes' target=\"_blank\">https://wandb.ai/simon-ecke/wze-uav-5classes</a>"
      ],
      "text/plain": [
       "<IPython.core.display.HTML object>"
      ]
     },
     "metadata": {},
     "output_type": "display_data"
    },
    {
     "data": {
      "text/html": [
       " View run at <a href='https://wandb.ai/simon-ecke/wze-uav-5classes/runs/g1c0993e' target=\"_blank\">https://wandb.ai/simon-ecke/wze-uav-5classes/runs/g1c0993e</a>"
      ],
      "text/plain": [
       "<IPython.core.display.HTML object>"
      ]
     },
     "metadata": {},
     "output_type": "display_data"
    },
    {
     "name": "stdout",
     "output_type": "stream",
     "text": [
      "There are no same hash_id values in train, val or test datasets. The datasplit was successful\n",
      "Check shapes:\n",
      "\n",
      "Images train dataset: (12509, 250, 250, 4)\n",
      "Labels train dataset: (12509, 1)\n",
      "\n",
      "Images validation dataset: (1183, 250, 250, 4)\n",
      "Labels validation dataset: (1183, 1)\n",
      "\n",
      "--------------------------------------------------\n",
      "Check if the split was stratified: (random_state=42)\n",
      "Healthy trees in train dataset: 2355\n",
      "Moderately stressed trees in train dataset: 5000\n",
      "Severely stressed trees in train dataset: 4618\n",
      "Dead trees in train dataset: 349\n",
      "Healthy trees in validation dataset: 227\n",
      "Moderately stressed trees in validation dataset: 467\n",
      "Severely stressed trees in validation dataset: 421\n",
      "Dead trees in validation dataset: 43\n",
      "Ratio health trees in validation dataset: 0.07635385132862428\n",
      "Ratio moderately stressed trees in validation dataset: 0.07491177414180301\n",
      "Ratio severely stressed trees in validation dataset: 0.08131638516454814\n",
      "Ratio dead trees in validation dataset: 0.9252747252747253\n",
      "--------------------------------------------------\n",
      "\n",
      "Creating datasets for fold: 1\n",
      "\n",
      "Creating dataloaders for fold: 1\n",
      "\n",
      "Loaded pretrained weights for efficientnet-b7\n",
      "\n",
      "[INFO] Fold number: 1\n",
      "[INFO] Number of epochs: 50\n",
      "[INFO] Number of classes: 5\n",
      "[INFO] Batch_size: 32\n",
      "[INFO] Number of bands: 4\n",
      "[INFO] Dropout rate: 0.5\n",
      "[INFO] Gamma learning rate: 0.75\n",
      "[INFO] Memory allocated: 0 bytes\n"
     ]
    },
    {
     "data": {
      "application/vnd.jupyter.widget-view+json": {
       "model_id": "ad455e94868948e5813f06524bd6e435",
       "version_major": 2,
       "version_minor": 0
      },
      "text/plain": [
       "  0%|          | 0/50 [00:00<?, ?it/s]"
      ]
     },
     "metadata": {},
     "output_type": "display_data"
    },
    {
     "name": "stdout",
     "output_type": "stream",
     "text": [
      "Epoch: 1 \n",
      "Learning rate: 0.005\n",
      "Train loss: 1.2904 | Train precision: 0.3131 | Train recall: 0.2453 | Train f1score: 0.2487 | Train acc: 0.3817 | Train kappa: 0.1729 \n",
      "Val loss: 1.3776 | Val precision: 0.0729 | Val recall: 0.2000 | Val f1score: 0.1069 | Val acc: 0.3646 | Val kappa: 0.0000 \n",
      "\n",
      "Epoch: 2 \n",
      "Learning rate: 0.00375\n",
      "Train loss: 1.1666 | Train precision: 0.4027 | Train recall: 0.3531 | Train f1score: 0.3604 | Train acc: 0.4444 | Train kappa: 0.3959 \n",
      "Val loss: 1.2752 | Val precision: 0.3763 | Val recall: 0.3220 | Val f1score: 0.2971 | Val acc: 0.4141 | Val kappa: 0.3366 \n",
      "\n",
      "Epoch: 3 \n",
      "Learning rate: 0.0028125\n",
      "Train loss: 1.1370 | Train precision: 0.4242 | Train recall: 0.3873 | Train f1score: 0.3896 | Train acc: 0.4566 | Train kappa: 0.4466 \n",
      "Val loss: 1.0466 | Val precision: 0.4725 | Val recall: 0.4921 | Val f1score: 0.4560 | Val acc: 0.4965 | Val kappa: 0.5058 \n",
      "\n",
      "Epoch: 4 \n",
      "Learning rate: 0.002109375\n",
      "Train loss: 1.1068 | Train precision: 0.4646 | Train recall: 0.4204 | Train f1score: 0.4183 | Train acc: 0.4705 | Train kappa: 0.4856 \n",
      "Val loss: 1.0350 | Val precision: 0.6347 | Val recall: 0.5027 | Val f1score: 0.5176 | Val acc: 0.5286 | Val kappa: 0.5407 \n",
      "\n",
      "Epoch: 5 \n",
      "Learning rate: 0.00158203125\n",
      "Train loss: 1.0922 | Train precision: 0.4981 | Train recall: 0.4483 | Train f1score: 0.4482 | Train acc: 0.4772 | Train kappa: 0.5120 \n",
      "Val loss: 1.0406 | Val precision: 0.4372 | Val recall: 0.4972 | Val f1score: 0.4417 | Val acc: 0.4922 | Val kappa: 0.4991 \n",
      "\n",
      "Epoch: 6 \n",
      "Learning rate: 0.0011865234375\n",
      "Train loss: 1.0718 | Train precision: 0.5012 | Train recall: 0.4556 | Train f1score: 0.4523 | Train acc: 0.4924 | Train kappa: 0.5260 \n",
      "Val loss: 1.0605 | Val precision: 0.4819 | Val recall: 0.5152 | Val f1score: 0.4760 | Val acc: 0.5009 | Val kappa: 0.5530 \n",
      "\n",
      "Epoch: 7 \n",
      "Learning rate: 0.000889892578125\n",
      "Train loss: 1.0708 | Train precision: 0.5345 | Train recall: 0.4618 | Train f1score: 0.4659 | Train acc: 0.4895 | Train kappa: 0.5352 \n",
      "Val loss: 1.0343 | Val precision: 0.5530 | Val recall: 0.4656 | Val f1score: 0.4855 | Val acc: 0.4905 | Val kappa: 0.5242 \n",
      "\n",
      "Epoch: 8 \n",
      "Learning rate: 0.00066741943359375\n",
      "Train loss: 1.0577 | Train precision: 0.5315 | Train recall: 0.4659 | Train f1score: 0.4723 | Train acc: 0.4971 | Train kappa: 0.5367 \n",
      "Val loss: 1.0439 | Val precision: 0.5587 | Val recall: 0.5273 | Val f1score: 0.4830 | Val acc: 0.5078 | Val kappa: 0.5345 \n",
      "\n",
      "Epoch: 9 \n",
      "Learning rate: 0.0005005645751953125\n",
      "Train loss: 1.0534 | Train precision: 0.5667 | Train recall: 0.4833 | Train f1score: 0.4876 | Train acc: 0.5082 | Train kappa: 0.5473 \n",
      "Val loss: 1.0046 | Val precision: 0.4908 | Val recall: 0.4981 | Val f1score: 0.4756 | Val acc: 0.5356 | Val kappa: 0.5482 \n",
      "\n",
      "Epoch: 10 \n",
      "Learning rate: 0.0003754234313964844\n",
      "Train loss: 1.0382 | Train precision: 0.5875 | Train recall: 0.4876 | Train f1score: 0.5014 | Train acc: 0.5133 | Train kappa: 0.5638 \n",
      "Val loss: 1.0022 | Val precision: 0.5913 | Val recall: 0.5131 | Val f1score: 0.5191 | Val acc: 0.5356 | Val kappa: 0.5806 \n",
      "\n",
      "Epoch: 11 \n",
      "Learning rate: 0.0002815675735473633\n",
      "Train loss: 1.0277 | Train precision: 0.5828 | Train recall: 0.4928 | Train f1score: 0.5003 | Train acc: 0.5172 | Train kappa: 0.5739 \n",
      "Val loss: 1.0275 | Val precision: 0.5572 | Val recall: 0.5412 | Val f1score: 0.5287 | Val acc: 0.5043 | Val kappa: 0.5563 \n",
      "\n",
      "Epoch: 12 \n",
      "Learning rate: 0.00021117568016052246\n",
      "Train loss: 1.0346 | Train precision: 0.5752 | Train recall: 0.4903 | Train f1score: 0.5004 | Train acc: 0.5142 | Train kappa: 0.5643 \n",
      "Val loss: 1.0019 | Val precision: 0.5584 | Val recall: 0.4994 | Val f1score: 0.5003 | Val acc: 0.5122 | Val kappa: 0.5722 \n",
      "\n",
      "Epoch: 13 \n",
      "Learning rate: 0.00015838176012039184\n",
      "Train loss: 1.0186 | Train precision: 0.5910 | Train recall: 0.4955 | Train f1score: 0.5082 | Train acc: 0.5178 | Train kappa: 0.5734 \n",
      "Val loss: 1.0010 | Val precision: 0.5745 | Val recall: 0.5305 | Val f1score: 0.5197 | Val acc: 0.5304 | Val kappa: 0.5586 \n",
      "\n",
      "Epoch: 14 \n",
      "Learning rate: 0.00011878632009029388\n",
      "Train loss: 1.0247 | Train precision: 0.5873 | Train recall: 0.5031 | Train f1score: 0.5167 | Train acc: 0.5108 | Train kappa: 0.5804 \n",
      "Val loss: 0.9974 | Val precision: 0.5781 | Val recall: 0.5411 | Val f1score: 0.5211 | Val acc: 0.5330 | Val kappa: 0.5705 \n",
      "\n",
      "Epoch: 15 \n",
      "Learning rate: 8.908974006772042e-05\n",
      "Train loss: 1.0214 | Train precision: 0.5977 | Train recall: 0.5110 | Train f1score: 0.5235 | Train acc: 0.5205 | Train kappa: 0.5734 \n",
      "Val loss: 0.9882 | Val precision: 0.5588 | Val recall: 0.5102 | Val f1score: 0.5144 | Val acc: 0.5243 | Val kappa: 0.5630 \n",
      "\n",
      "Epoch: 16 \n",
      "Learning rate: 6.681730505079031e-05\n",
      "Train loss: 1.0288 | Train precision: 0.5945 | Train recall: 0.5106 | Train f1score: 0.5273 | Train acc: 0.5105 | Train kappa: 0.5746 \n",
      "Val loss: 0.9916 | Val precision: 0.5669 | Val recall: 0.5048 | Val f1score: 0.5120 | Val acc: 0.5252 | Val kappa: 0.5681 \n",
      "\n",
      "Epoch: 17 \n",
      "Learning rate: 5.0112978788092735e-05\n",
      "Train loss: 1.0281 | Train precision: 0.5749 | Train recall: 0.5006 | Train f1score: 0.5147 | Train acc: 0.5110 | Train kappa: 0.5710 \n",
      "Val loss: 0.9914 | Val precision: 0.5573 | Val recall: 0.5179 | Val f1score: 0.5165 | Val acc: 0.5234 | Val kappa: 0.5587 \n",
      "\n",
      "Epoch: 18 \n",
      "Learning rate: 3.758473409106955e-05\n",
      "Train loss: 1.0152 | Train precision: 0.6055 | Train recall: 0.5159 | Train f1score: 0.5314 | Train acc: 0.5188 | Train kappa: 0.5971 \n",
      "Val loss: 0.9862 | Val precision: 0.5386 | Val recall: 0.5121 | Val f1score: 0.5087 | Val acc: 0.5347 | Val kappa: 0.5710 \n",
      "\n",
      "Epoch: 19 \n",
      "Learning rate: 2.8188550568302163e-05\n",
      "Train loss: 1.0214 | Train precision: 0.6017 | Train recall: 0.5151 | Train f1score: 0.5311 | Train acc: 0.5162 | Train kappa: 0.5798 \n",
      "Val loss: 0.9881 | Val precision: 0.5435 | Val recall: 0.5205 | Val f1score: 0.5138 | Val acc: 0.5347 | Val kappa: 0.5799 \n",
      "\n",
      "Epoch: 20 \n",
      "Learning rate: 2.114141292622662e-05\n",
      "Train loss: 1.0183 | Train precision: 0.6083 | Train recall: 0.5127 | Train f1score: 0.5328 | Train acc: 0.5238 | Train kappa: 0.5808 \n",
      "Val loss: 0.9859 | Val precision: 0.5381 | Val recall: 0.5090 | Val f1score: 0.5080 | Val acc: 0.5330 | Val kappa: 0.5692 \n",
      "\n",
      "Epoch: 21 \n",
      "Learning rate: 1.5856059694669965e-05\n",
      "Train loss: 1.0127 | Train precision: 0.5963 | Train recall: 0.5135 | Train f1score: 0.5291 | Train acc: 0.5151 | Train kappa: 0.5900 \n",
      "Val loss: 0.9860 | Val precision: 0.5590 | Val recall: 0.5279 | Val f1score: 0.5222 | Val acc: 0.5304 | Val kappa: 0.5682 \n",
      "\n",
      "Epoch: 22 \n",
      "Learning rate: 1.1892044771002475e-05\n",
      "Train loss: 1.0132 | Train precision: 0.5969 | Train recall: 0.5238 | Train f1score: 0.5345 | Train acc: 0.5221 | Train kappa: 0.5836 \n",
      "Val loss: 0.9852 | Val precision: 0.5777 | Val recall: 0.5200 | Val f1score: 0.5195 | Val acc: 0.5312 | Val kappa: 0.5701 \n",
      "\n",
      "Epoch: 23 \n",
      "Learning rate: 8.919033578251857e-06\n",
      "Train loss: 1.0175 | Train precision: 0.5994 | Train recall: 0.5135 | Train f1score: 0.5337 | Train acc: 0.5170 | Train kappa: 0.5819 \n",
      "Val loss: 0.9864 | Val precision: 0.5579 | Val recall: 0.5315 | Val f1score: 0.5217 | Val acc: 0.5373 | Val kappa: 0.5722 \n",
      "\n",
      "Epoch: 24 \n",
      "Learning rate: 6.689275183688892e-06\n",
      "Train loss: 1.0223 | Train precision: 0.5780 | Train recall: 0.5114 | Train f1score: 0.5209 | Train acc: 0.5180 | Train kappa: 0.5722 \n",
      "Val loss: 0.9861 | Val precision: 0.5573 | Val recall: 0.5143 | Val f1score: 0.5161 | Val acc: 0.5365 | Val kappa: 0.5760 \n",
      "\n",
      "Epoch: 25 \n",
      "Learning rate: 5.016956387766669e-06\n",
      "Train loss: 1.0120 | Train precision: 0.6007 | Train recall: 0.5078 | Train f1score: 0.5266 | Train acc: 0.5257 | Train kappa: 0.5950 \n",
      "Val loss: 0.9870 | Val precision: 0.5687 | Val recall: 0.5230 | Val f1score: 0.5142 | Val acc: 0.5365 | Val kappa: 0.5697 \n",
      "\n",
      "Epoch: 26 \n",
      "Learning rate: 3.762717290825002e-06\n",
      "Train loss: 1.0170 | Train precision: 0.5828 | Train recall: 0.5081 | Train f1score: 0.5222 | Train acc: 0.5126 | Train kappa: 0.5767 \n",
      "Val loss: 0.9849 | Val precision: 0.5709 | Val recall: 0.5234 | Val f1score: 0.5213 | Val acc: 0.5365 | Val kappa: 0.5704 \n",
      "\n",
      "Epoch: 27 \n",
      "Learning rate: 2.8220379681187514e-06\n",
      "Train loss: 1.0191 | Train precision: 0.6113 | Train recall: 0.5147 | Train f1score: 0.5345 | Train acc: 0.5224 | Train kappa: 0.5765 \n",
      "Val loss: 0.9859 | Val precision: 0.5789 | Val recall: 0.5227 | Val f1score: 0.5214 | Val acc: 0.5330 | Val kappa: 0.5709 \n",
      "\n"
     ]
    },
    {
     "name": "stdout",
     "output_type": "stream",
     "text": [
      "Epoch: 28 \n",
      "Learning rate: 2.1165284760890633e-06\n",
      "Train loss: 1.0196 | Train precision: 0.5892 | Train recall: 0.5077 | Train f1score: 0.5221 | Train acc: 0.5171 | Train kappa: 0.5831 \n",
      "Val loss: 0.9850 | Val precision: 0.5829 | Val recall: 0.5246 | Val f1score: 0.5236 | Val acc: 0.5373 | Val kappa: 0.5728 \n",
      "\n",
      "Epoch: 29 \n",
      "Learning rate: 1.5873963570667977e-06\n",
      "Train loss: 1.0065 | Train precision: 0.5881 | Train recall: 0.5139 | Train f1score: 0.5279 | Train acc: 0.5288 | Train kappa: 0.5902 \n",
      "Val loss: 0.9862 | Val precision: 0.5555 | Val recall: 0.5161 | Val f1score: 0.5171 | Val acc: 0.5382 | Val kappa: 0.5762 \n",
      "\n",
      "Epoch: 30 \n",
      "Learning rate: 1.1905472678000981e-06\n",
      "Train loss: 1.0084 | Train precision: 0.5958 | Train recall: 0.5230 | Train f1score: 0.5349 | Train acc: 0.5231 | Train kappa: 0.5839 \n",
      "Val loss: 0.9876 | Val precision: 0.5565 | Val recall: 0.5218 | Val f1score: 0.5121 | Val acc: 0.5339 | Val kappa: 0.5679 \n",
      "\n",
      "Epoch: 31 \n",
      "Learning rate: 1e-06\n",
      "Train loss: 1.0204 | Train precision: 0.5969 | Train recall: 0.5048 | Train f1score: 0.5226 | Train acc: 0.5163 | Train kappa: 0.5773 \n",
      "Val loss: 0.9849 | Val precision: 0.5552 | Val recall: 0.5145 | Val f1score: 0.5165 | Val acc: 0.5356 | Val kappa: 0.5711 \n",
      "\n",
      "Epoch: 32 \n",
      "Learning rate: 1e-06\n",
      "Train loss: 1.0034 | Train precision: 0.6014 | Train recall: 0.5137 | Train f1score: 0.5338 | Train acc: 0.5208 | Train kappa: 0.5862 \n",
      "Val loss: 0.9862 | Val precision: 0.5473 | Val recall: 0.5147 | Val f1score: 0.5124 | Val acc: 0.5347 | Val kappa: 0.5708 \n",
      "\n",
      "Epoch: 33 \n",
      "Learning rate: 1e-06\n",
      "Train loss: 1.0200 | Train precision: 0.5986 | Train recall: 0.5156 | Train f1score: 0.5280 | Train acc: 0.5116 | Train kappa: 0.5819 \n",
      "Val loss: 0.9859 | Val precision: 0.5513 | Val recall: 0.5234 | Val f1score: 0.5175 | Val acc: 0.5373 | Val kappa: 0.5745 \n",
      "\n",
      "Epoch: 34 \n",
      "Learning rate: 1e-06\n",
      "Train loss: 1.0083 | Train precision: 0.5955 | Train recall: 0.5079 | Train f1score: 0.5260 | Train acc: 0.5188 | Train kappa: 0.5765 \n",
      "Val loss: 0.9852 | Val precision: 0.5811 | Val recall: 0.5238 | Val f1score: 0.5222 | Val acc: 0.5365 | Val kappa: 0.5714 \n",
      "\n",
      "Epoch: 35 \n",
      "Learning rate: 1e-06\n",
      "Train loss: 1.0127 | Train precision: 0.5994 | Train recall: 0.5184 | Train f1score: 0.5299 | Train acc: 0.5232 | Train kappa: 0.5917 \n",
      "Val loss: 0.9862 | Val precision: 0.5484 | Val recall: 0.5152 | Val f1score: 0.5129 | Val acc: 0.5365 | Val kappa: 0.5715 \n",
      "\n",
      "Epoch: 36 \n",
      "Learning rate: 1e-06\n",
      "Train loss: 1.0163 | Train precision: 0.5832 | Train recall: 0.5102 | Train f1score: 0.5256 | Train acc: 0.5139 | Train kappa: 0.5736 \n",
      "Val loss: 0.9868 | Val precision: 0.5480 | Val recall: 0.5206 | Val f1score: 0.5136 | Val acc: 0.5312 | Val kappa: 0.5693 \n",
      "\n",
      "Epoch: 37 \n",
      "Learning rate: 1e-06\n",
      "Train loss: 1.0164 | Train precision: 0.6089 | Train recall: 0.5153 | Train f1score: 0.5331 | Train acc: 0.5119 | Train kappa: 0.5733 \n",
      "Val loss: 0.9863 | Val precision: 0.5487 | Val recall: 0.5231 | Val f1score: 0.5163 | Val acc: 0.5356 | Val kappa: 0.5740 \n",
      "\n",
      "Epoch: 38 \n",
      "Learning rate: 1e-06\n",
      "Train loss: 1.0275 | Train precision: 0.5983 | Train recall: 0.5036 | Train f1score: 0.5205 | Train acc: 0.5184 | Train kappa: 0.5778 \n",
      "Val loss: 0.9858 | Val precision: 0.5490 | Val recall: 0.5152 | Val f1score: 0.5129 | Val acc: 0.5373 | Val kappa: 0.5716 \n",
      "\n",
      "Epoch: 39 \n",
      "Learning rate: 1e-06\n",
      "Train loss: 1.0173 | Train precision: 0.5983 | Train recall: 0.5175 | Train f1score: 0.5290 | Train acc: 0.5230 | Train kappa: 0.5737 \n",
      "Val loss: 0.9862 | Val precision: 0.5496 | Val recall: 0.5166 | Val f1score: 0.5142 | Val acc: 0.5382 | Val kappa: 0.5732 \n",
      "\n",
      "Epoch: 40 \n",
      "Learning rate: 1e-06\n",
      "Train loss: 1.0143 | Train precision: 0.5959 | Train recall: 0.5167 | Train f1score: 0.5305 | Train acc: 0.5191 | Train kappa: 0.5911 \n",
      "Val loss: 0.9853 | Val precision: 0.5606 | Val recall: 0.5147 | Val f1score: 0.5164 | Val acc: 0.5347 | Val kappa: 0.5699 \n",
      "\n",
      "Epoch: 41 \n",
      "Learning rate: 1e-06\n",
      "Train loss: 1.0141 | Train precision: 0.5979 | Train recall: 0.5095 | Train f1score: 0.5294 | Train acc: 0.5215 | Train kappa: 0.5914 \n",
      "Val loss: 0.9859 | Val precision: 0.5387 | Val recall: 0.5096 | Val f1score: 0.5081 | Val acc: 0.5347 | Val kappa: 0.5722 \n",
      "\n",
      "Early stopping after epoch 41\n"
     ]
    },
    {
     "data": {
      "text/html": [
       "Waiting for W&B process to finish... <strong style=\"color:green\">(success).</strong>"
      ],
      "text/plain": [
       "<IPython.core.display.HTML object>"
      ]
     },
     "metadata": {},
     "output_type": "display_data"
    },
    {
     "data": {
      "application/vnd.jupyter.widget-view+json": {
       "model_id": "d3488cc1919f4b17a7776781e6cc377f",
       "version_major": 2,
       "version_minor": 0
      },
      "text/plain": [
       "VBox(children=(Label(value='0.001 MB of 0.001 MB uploaded (0.000 MB deduped)\\r'), FloatProgress(value=1.0, max…"
      ]
     },
     "metadata": {},
     "output_type": "display_data"
    },
    {
     "data": {
      "text/html": [
       "<style>\n",
       "    table.wandb td:nth-child(1) { padding: 0 10px; text-align: left ; width: auto;} td:nth-child(2) {text-align: left ; width: 100%}\n",
       "    .wandb-row { display: flex; flex-direction: row; flex-wrap: wrap; justify-content: flex-start; width: 100% }\n",
       "    .wandb-col { display: flex; flex-direction: column; flex-basis: 100%; flex: 1; padding: 10px; }\n",
       "    </style>\n",
       "<div class=\"wandb-row\"><div class=\"wandb-col\"><h3>Run history:</h3><br/><table class=\"wandb\"><tr><td>learning_rate</td><td>█▆▅▄▃▃▂▂▂▂▁▁▁▁▁▁▁▁▁▁▁▁▁▁▁▁▁▁▁▁▁▁▁▁▁▁▁▁▁▁</td></tr><tr><td>train_f1_score</td><td>▁▄▄▅▆▆▆▆▇▇▇▇▇███████████████████████████</td></tr><tr><td>train_loss</td><td>█▅▄▄▃▃▃▂▂▂▂▂▁▂▁▂▂▁▁▁▁▁▁▁▁▁▁▁▁▁▁▁▁▁▁▁▁▂▁▁</td></tr><tr><td>val_f1_score</td><td>▁▄▇█▇▇▇▇▇███████████████████████████████</td></tr><tr><td>val_loss</td><td>█▆▂▂▂▂▂▂▁▁▂▁▁▁▁▁▁▁▁▁▁▁▁▁▁▁▁▁▁▁▁▁▁▁▁▁▁▁▁▁</td></tr></table><br/></div><div class=\"wandb-col\"><h3>Run summary:</h3><br/><table class=\"wandb\"><tr><td>learning_rate</td><td>0.0</td></tr><tr><td>train_f1_score</td><td>0.52939</td></tr><tr><td>train_loss</td><td>1.01405</td></tr><tr><td>val_f1_score</td><td>0.50814</td></tr><tr><td>val_loss</td><td>0.98593</td></tr></table><br/></div></div>"
      ],
      "text/plain": [
       "<IPython.core.display.HTML object>"
      ]
     },
     "metadata": {},
     "output_type": "display_data"
    },
    {
     "data": {
      "text/html": [
       " View run <strong style=\"color:#cdcd00\">fold_1_RGB-NIR_5classes</strong> at: <a href='https://wandb.ai/simon-ecke/wze-uav-5classes/runs/g1c0993e' target=\"_blank\">https://wandb.ai/simon-ecke/wze-uav-5classes/runs/g1c0993e</a><br/>Synced 5 W&B file(s), 0 media file(s), 0 artifact file(s) and 0 other file(s)"
      ],
      "text/plain": [
       "<IPython.core.display.HTML object>"
      ]
     },
     "metadata": {},
     "output_type": "display_data"
    },
    {
     "data": {
      "text/html": [
       "Find logs at: <code>.\\wandb\\run-20230428_105124-g1c0993e\\logs</code>"
      ],
      "text/plain": [
       "<IPython.core.display.HTML object>"
      ]
     },
     "metadata": {},
     "output_type": "display_data"
    },
    {
     "name": "stdout",
     "output_type": "stream",
     "text": [
      "Deleting variables and emptying cache\n",
      "Memory allocated: 1046946816 bytes\n",
      "--------------------------------------------------\n",
      "\n",
      "Fold : 2\n",
      "TRAIN POSITIVE RATIO: 1.2782225780624499\n",
      "VAL POSITIVE RATIO  : 1.300031615554853\n",
      "LENGTH TRAIN GROUPS : 4720\n",
      "LENGTH VAL GROUPS   : 1183\n"
     ]
    },
    {
     "data": {
      "text/html": [
       "wandb version 0.15.0 is available!  To upgrade, please run:\n",
       " $ pip install wandb --upgrade"
      ],
      "text/plain": [
       "<IPython.core.display.HTML object>"
      ]
     },
     "metadata": {},
     "output_type": "display_data"
    },
    {
     "data": {
      "text/html": [
       "Tracking run with wandb version 0.14.2"
      ],
      "text/plain": [
       "<IPython.core.display.HTML object>"
      ]
     },
     "metadata": {},
     "output_type": "display_data"
    },
    {
     "data": {
      "text/html": [
       "Run data is saved locally in <code>C:\\Users\\lwfeckesim\\01_PyTorch\\wze-uav\\wze-uav-master\\wandb\\run-20230428_152714-768jncv1</code>"
      ],
      "text/plain": [
       "<IPython.core.display.HTML object>"
      ]
     },
     "metadata": {},
     "output_type": "display_data"
    },
    {
     "data": {
      "text/html": [
       "Syncing run <strong><a href='https://wandb.ai/simon-ecke/wze-uav-5classes/runs/768jncv1' target=\"_blank\">fold_2_RGB-NIR_5classes</a></strong> to <a href='https://wandb.ai/simon-ecke/wze-uav-5classes' target=\"_blank\">Weights & Biases</a> (<a href='https://wandb.me/run' target=\"_blank\">docs</a>)<br/>"
      ],
      "text/plain": [
       "<IPython.core.display.HTML object>"
      ]
     },
     "metadata": {},
     "output_type": "display_data"
    },
    {
     "data": {
      "text/html": [
       " View project at <a href='https://wandb.ai/simon-ecke/wze-uav-5classes' target=\"_blank\">https://wandb.ai/simon-ecke/wze-uav-5classes</a>"
      ],
      "text/plain": [
       "<IPython.core.display.HTML object>"
      ]
     },
     "metadata": {},
     "output_type": "display_data"
    },
    {
     "data": {
      "text/html": [
       " View run at <a href='https://wandb.ai/simon-ecke/wze-uav-5classes/runs/768jncv1' target=\"_blank\">https://wandb.ai/simon-ecke/wze-uav-5classes/runs/768jncv1</a>"
      ],
      "text/plain": [
       "<IPython.core.display.HTML object>"
      ]
     },
     "metadata": {},
     "output_type": "display_data"
    },
    {
     "name": "stdout",
     "output_type": "stream",
     "text": [
      "There are no same hash_id values in train, val or test datasets. The datasplit was successful\n",
      "Check shapes:\n",
      "\n",
      "Images train dataset: (12490, 250, 250, 4)\n",
      "Labels train dataset: (12490, 1)\n",
      "\n",
      "Images validation dataset: (1183, 250, 250, 4)\n",
      "Labels validation dataset: (1183, 1)\n",
      "\n",
      "--------------------------------------------------\n",
      "Check if the split was stratified: (random_state=42)\n",
      "Healthy trees in train dataset: 2399\n",
      "Moderately stressed trees in train dataset: 4995\n",
      "Severely stressed trees in train dataset: 4522\n",
      "Dead trees in train dataset: 370\n",
      "Healthy trees in validation dataset: 211\n",
      "Moderately stressed trees in validation dataset: 447\n",
      "Severely stressed trees in validation dataset: 472\n",
      "Dead trees in validation dataset: 33\n",
      "Ratio health trees in validation dataset: 0.07097208207198116\n",
      "Ratio moderately stressed trees in validation dataset: 0.07170356111645813\n",
      "Ratio severely stressed trees in validation dataset: 0.0778338847292356\n",
      "Ratio dead trees in validation dataset: 1.0373626373626375\n",
      "--------------------------------------------------\n",
      "\n",
      "Creating datasets for fold: 2\n",
      "\n",
      "Creating dataloaders for fold: 2\n",
      "\n",
      "Loaded pretrained weights for efficientnet-b7\n",
      "\n",
      "[INFO] Fold number: 2\n",
      "[INFO] Number of epochs: 50\n",
      "[INFO] Number of classes: 5\n",
      "[INFO] Batch_size: 32\n",
      "[INFO] Number of bands: 4\n",
      "[INFO] Dropout rate: 0.5\n",
      "[INFO] Gamma learning rate: 0.75\n",
      "[INFO] Memory allocated: 0 bytes\n"
     ]
    },
    {
     "data": {
      "application/vnd.jupyter.widget-view+json": {
       "model_id": "9d43b3510a7d4793a7f07d4fb7a17a98",
       "version_major": 2,
       "version_minor": 0
      },
      "text/plain": [
       "  0%|          | 0/50 [00:00<?, ?it/s]"
      ]
     },
     "metadata": {},
     "output_type": "display_data"
    },
    {
     "name": "stdout",
     "output_type": "stream",
     "text": [
      "Epoch: 1 \n",
      "Learning rate: 0.005\n",
      "Train loss: 1.3003 | Train precision: 0.2628 | Train recall: 0.2321 | Train f1score: 0.2291 | Train acc: 0.3736 | Train kappa: 0.0802 \n",
      "Val loss: 1.3174 | Val precision: 0.2228 | Val recall: 0.1993 | Val f1score: 0.1225 | Val acc: 0.3819 | Val kappa: 0.0243 \n",
      "\n",
      "Epoch: 2 \n",
      "Learning rate: 0.00375\n",
      "Train loss: 1.1926 | Train precision: 0.3989 | Train recall: 0.3379 | Train f1score: 0.3475 | Train acc: 0.4438 | Train kappa: 0.3300 \n",
      "Val loss: 1.1665 | Val precision: 0.3215 | Val recall: 0.2970 | Val f1score: 0.2631 | Val acc: 0.4054 | Val kappa: 0.1441 \n",
      "\n",
      "Epoch: 3 \n",
      "Learning rate: 0.0028125\n",
      "Train loss: 1.1521 | Train precision: 0.4466 | Train recall: 0.3984 | Train f1score: 0.4038 | Train acc: 0.4525 | Train kappa: 0.4348 \n",
      "Val loss: 1.2125 | Val precision: 0.0811 | Val recall: 0.2000 | Val f1score: 0.1154 | Val acc: 0.4054 | Val kappa: 0.0000 \n",
      "\n",
      "Epoch: 4 \n",
      "Learning rate: 0.002109375\n",
      "Train loss: 1.1211 | Train precision: 0.4873 | Train recall: 0.4173 | Train f1score: 0.4237 | Train acc: 0.4646 | Train kappa: 0.4636 \n",
      "Val loss: 1.0288 | Val precision: 0.5440 | Val recall: 0.5240 | Val f1score: 0.5136 | Val acc: 0.5295 | Val kappa: 0.4919 \n",
      "\n",
      "Epoch: 5 \n",
      "Learning rate: 0.00158203125\n",
      "Train loss: 1.1002 | Train precision: 0.5126 | Train recall: 0.4473 | Train f1score: 0.4489 | Train acc: 0.4785 | Train kappa: 0.4998 \n",
      "Val loss: 1.0797 | Val precision: 0.4245 | Val recall: 0.4825 | Val f1score: 0.3984 | Val acc: 0.4653 | Val kappa: 0.4741 \n",
      "\n",
      "Epoch: 6 \n",
      "Learning rate: 0.0011865234375\n",
      "Train loss: 1.0775 | Train precision: 0.5753 | Train recall: 0.4744 | Train f1score: 0.4822 | Train acc: 0.4898 | Train kappa: 0.5387 \n",
      "Val loss: 1.3922 | Val precision: 0.3264 | Val recall: 0.4439 | Val f1score: 0.2915 | Val acc: 0.3984 | Val kappa: 0.1555 \n",
      "\n",
      "Epoch: 7 \n",
      "Learning rate: 0.000889892578125\n",
      "Train loss: 1.0747 | Train precision: 0.5416 | Train recall: 0.4689 | Train f1score: 0.4761 | Train acc: 0.4912 | Train kappa: 0.5253 \n",
      "Val loss: 1.1267 | Val precision: 0.5017 | Val recall: 0.4990 | Val f1score: 0.4419 | Val acc: 0.4549 | Val kappa: 0.4007 \n",
      "\n",
      "Epoch: 8 \n",
      "Learning rate: 0.00066741943359375\n",
      "Train loss: 1.0636 | Train precision: 0.5349 | Train recall: 0.4762 | Train f1score: 0.4768 | Train acc: 0.4982 | Train kappa: 0.5527 \n",
      "Val loss: 1.1251 | Val precision: 0.4783 | Val recall: 0.4888 | Val f1score: 0.4144 | Val acc: 0.4826 | Val kappa: 0.4240 \n",
      "\n",
      "Epoch: 9 \n",
      "Learning rate: 0.0005005645751953125\n",
      "Train loss: 1.0693 | Train precision: 0.5504 | Train recall: 0.4783 | Train f1score: 0.4840 | Train acc: 0.4898 | Train kappa: 0.5294 \n",
      "Val loss: 1.0058 | Val precision: 0.4771 | Val recall: 0.4793 | Val f1score: 0.4436 | Val acc: 0.5252 | Val kappa: 0.4797 \n",
      "\n",
      "Epoch: 10 \n",
      "Learning rate: 0.0003754234313964844\n",
      "Train loss: 1.0463 | Train precision: 0.5669 | Train recall: 0.4917 | Train f1score: 0.4999 | Train acc: 0.5026 | Train kappa: 0.5630 \n",
      "Val loss: 1.0160 | Val precision: 0.5114 | Val recall: 0.5196 | Val f1score: 0.4908 | Val acc: 0.5304 | Val kappa: 0.5069 \n",
      "\n",
      "Epoch: 11 \n",
      "Learning rate: 0.0002815675735473633\n",
      "Train loss: 1.0415 | Train precision: 0.5624 | Train recall: 0.4890 | Train f1score: 0.4957 | Train acc: 0.5022 | Train kappa: 0.5741 \n",
      "Val loss: 0.9843 | Val precision: 0.5685 | Val recall: 0.5277 | Val f1score: 0.5302 | Val acc: 0.5373 | Val kappa: 0.5263 \n",
      "\n",
      "Epoch: 12 \n",
      "Learning rate: 0.00021117568016052246\n",
      "Train loss: 1.0371 | Train precision: 0.5789 | Train recall: 0.5030 | Train f1score: 0.5140 | Train acc: 0.5104 | Train kappa: 0.5665 \n",
      "Val loss: 0.9835 | Val precision: 0.6229 | Val recall: 0.5302 | Val f1score: 0.5322 | Val acc: 0.5547 | Val kappa: 0.5271 \n",
      "\n",
      "Epoch: 13 \n",
      "Learning rate: 0.00015838176012039184\n",
      "Train loss: 1.0379 | Train precision: 0.5871 | Train recall: 0.5016 | Train f1score: 0.5157 | Train acc: 0.5083 | Train kappa: 0.5815 \n",
      "Val loss: 1.0078 | Val precision: 0.5102 | Val recall: 0.5231 | Val f1score: 0.4882 | Val acc: 0.5365 | Val kappa: 0.5304 \n",
      "\n",
      "Epoch: 14 \n",
      "Learning rate: 0.00011878632009029388\n",
      "Train loss: 1.0284 | Train precision: 0.5925 | Train recall: 0.5127 | Train f1score: 0.5248 | Train acc: 0.5175 | Train kappa: 0.5834 \n",
      "Val loss: 1.0160 | Val precision: 0.4975 | Val recall: 0.5333 | Val f1score: 0.4952 | Val acc: 0.5312 | Val kappa: 0.5354 \n",
      "\n",
      "Epoch: 15 \n",
      "Learning rate: 8.908974006772042e-05\n",
      "Train loss: 1.0307 | Train precision: 0.5803 | Train recall: 0.5024 | Train f1score: 0.5154 | Train acc: 0.5076 | Train kappa: 0.5729 \n",
      "Val loss: 0.9961 | Val precision: 0.5548 | Val recall: 0.5267 | Val f1score: 0.5056 | Val acc: 0.5312 | Val kappa: 0.5179 \n",
      "\n",
      "Epoch: 16 \n",
      "Learning rate: 6.681730505079031e-05\n",
      "Train loss: 1.0268 | Train precision: 0.5975 | Train recall: 0.5043 | Train f1score: 0.5152 | Train acc: 0.5092 | Train kappa: 0.5787 \n",
      "Val loss: 0.9784 | Val precision: 0.5941 | Val recall: 0.5392 | Val f1score: 0.5414 | Val acc: 0.5495 | Val kappa: 0.5317 \n",
      "\n",
      "Epoch: 17 \n",
      "Learning rate: 5.0112978788092735e-05\n",
      "Train loss: 1.0239 | Train precision: 0.6049 | Train recall: 0.5127 | Train f1score: 0.5250 | Train acc: 0.5176 | Train kappa: 0.5799 \n",
      "Val loss: 0.9784 | Val precision: 0.5880 | Val recall: 0.5406 | Val f1score: 0.5460 | Val acc: 0.5451 | Val kappa: 0.5447 \n",
      "\n",
      "Epoch: 18 \n",
      "Learning rate: 3.758473409106955e-05\n",
      "Train loss: 1.0308 | Train precision: 0.5916 | Train recall: 0.5029 | Train f1score: 0.5202 | Train acc: 0.5120 | Train kappa: 0.5859 \n",
      "Val loss: 0.9825 | Val precision: 0.5731 | Val recall: 0.5448 | Val f1score: 0.5372 | Val acc: 0.5486 | Val kappa: 0.5487 \n",
      "\n",
      "Epoch: 19 \n",
      "Learning rate: 2.8188550568302163e-05\n",
      "Train loss: 1.0268 | Train precision: 0.5857 | Train recall: 0.5077 | Train f1score: 0.5180 | Train acc: 0.5145 | Train kappa: 0.5774 \n",
      "Val loss: 0.9793 | Val precision: 0.5594 | Val recall: 0.5345 | Val f1score: 0.5250 | Val acc: 0.5408 | Val kappa: 0.5312 \n",
      "\n",
      "Epoch: 20 \n",
      "Learning rate: 2.114141292622662e-05\n",
      "Train loss: 1.0169 | Train precision: 0.5993 | Train recall: 0.5106 | Train f1score: 0.5249 | Train acc: 0.5180 | Train kappa: 0.5861 \n",
      "Val loss: 0.9844 | Val precision: 0.5584 | Val recall: 0.5360 | Val f1score: 0.5247 | Val acc: 0.5373 | Val kappa: 0.5257 \n",
      "\n",
      "Epoch: 21 \n",
      "Learning rate: 1.5856059694669965e-05\n",
      "Train loss: 1.0256 | Train precision: 0.5897 | Train recall: 0.5067 | Train f1score: 0.5238 | Train acc: 0.5111 | Train kappa: 0.5825 \n",
      "Val loss: 0.9838 | Val precision: 0.5687 | Val recall: 0.5410 | Val f1score: 0.5327 | Val acc: 0.5443 | Val kappa: 0.5437 \n",
      "\n",
      "Epoch: 22 \n",
      "Learning rate: 1.1892044771002475e-05\n",
      "Train loss: 1.0264 | Train precision: 0.5873 | Train recall: 0.5144 | Train f1score: 0.5231 | Train acc: 0.5161 | Train kappa: 0.5928 \n",
      "Val loss: 0.9781 | Val precision: 0.5600 | Val recall: 0.5313 | Val f1score: 0.5216 | Val acc: 0.5382 | Val kappa: 0.5288 \n",
      "\n",
      "Epoch: 23 \n",
      "Learning rate: 8.919033578251857e-06\n",
      "Train loss: 1.0313 | Train precision: 0.5800 | Train recall: 0.4998 | Train f1score: 0.5121 | Train acc: 0.5103 | Train kappa: 0.5778 \n",
      "Val loss: 0.9791 | Val precision: 0.5620 | Val recall: 0.5347 | Val f1score: 0.5252 | Val acc: 0.5425 | Val kappa: 0.5336 \n",
      "\n",
      "Epoch: 24 \n",
      "Learning rate: 6.689275183688892e-06\n",
      "Train loss: 1.0228 | Train precision: 0.5967 | Train recall: 0.5046 | Train f1score: 0.5187 | Train acc: 0.5154 | Train kappa: 0.5836 \n",
      "Val loss: 0.9793 | Val precision: 0.5645 | Val recall: 0.5346 | Val f1score: 0.5253 | Val acc: 0.5434 | Val kappa: 0.5306 \n",
      "\n",
      "Epoch: 25 \n",
      "Learning rate: 5.016956387766669e-06\n",
      "Train loss: 1.0314 | Train precision: 0.5796 | Train recall: 0.4986 | Train f1score: 0.5126 | Train acc: 0.5063 | Train kappa: 0.5750 \n",
      "Val loss: 0.9844 | Val precision: 0.5668 | Val recall: 0.5381 | Val f1score: 0.5283 | Val acc: 0.5417 | Val kappa: 0.5281 \n",
      "\n",
      "Epoch: 26 \n",
      "Learning rate: 3.762717290825002e-06\n",
      "Train loss: 1.0330 | Train precision: 0.5763 | Train recall: 0.4939 | Train f1score: 0.5090 | Train acc: 0.5087 | Train kappa: 0.5553 \n",
      "Val loss: 0.9860 | Val precision: 0.5693 | Val recall: 0.5350 | Val f1score: 0.5243 | Val acc: 0.5417 | Val kappa: 0.5280 \n",
      "\n",
      "Epoch: 27 \n",
      "Learning rate: 2.8220379681187514e-06\n",
      "Train loss: 1.0225 | Train precision: 0.6045 | Train recall: 0.5089 | Train f1score: 0.5241 | Train acc: 0.5135 | Train kappa: 0.5834 \n",
      "Val loss: 0.9828 | Val precision: 0.5688 | Val recall: 0.5375 | Val f1score: 0.5289 | Val acc: 0.5382 | Val kappa: 0.5284 \n",
      "\n"
     ]
    },
    {
     "name": "stdout",
     "output_type": "stream",
     "text": [
      "Epoch: 28 \n",
      "Learning rate: 2.1165284760890633e-06\n",
      "Train loss: 1.0394 | Train precision: 0.5908 | Train recall: 0.5059 | Train f1score: 0.5183 | Train acc: 0.5115 | Train kappa: 0.5769 \n",
      "Val loss: 0.9801 | Val precision: 0.5624 | Val recall: 0.5350 | Val f1score: 0.5259 | Val acc: 0.5417 | Val kappa: 0.5325 \n",
      "\n",
      "Epoch: 29 \n",
      "Learning rate: 1.5873963570667977e-06\n",
      "Train loss: 1.0286 | Train precision: 0.5813 | Train recall: 0.5065 | Train f1score: 0.5163 | Train acc: 0.5089 | Train kappa: 0.5695 \n",
      "Val loss: 0.9811 | Val precision: 0.5615 | Val recall: 0.5342 | Val f1score: 0.5246 | Val acc: 0.5417 | Val kappa: 0.5315 \n",
      "\n",
      "Epoch: 30 \n",
      "Learning rate: 1.1905472678000981e-06\n",
      "Train loss: 1.0335 | Train precision: 0.5796 | Train recall: 0.5049 | Train f1score: 0.5159 | Train acc: 0.5058 | Train kappa: 0.5684 \n",
      "Val loss: 0.9799 | Val precision: 0.5615 | Val recall: 0.5329 | Val f1score: 0.5234 | Val acc: 0.5399 | Val kappa: 0.5321 \n",
      "\n",
      "Epoch: 31 \n",
      "Learning rate: 1e-06\n",
      "Train loss: 1.0221 | Train precision: 0.6001 | Train recall: 0.5107 | Train f1score: 0.5283 | Train acc: 0.5133 | Train kappa: 0.5795 \n",
      "Val loss: 0.9789 | Val precision: 0.5588 | Val recall: 0.5314 | Val f1score: 0.5217 | Val acc: 0.5373 | Val kappa: 0.5295 \n",
      "\n",
      "Epoch: 32 \n",
      "Learning rate: 1e-06\n",
      "Train loss: 1.0287 | Train precision: 0.5836 | Train recall: 0.4986 | Train f1score: 0.5141 | Train acc: 0.5121 | Train kappa: 0.5777 \n",
      "Val loss: 0.9839 | Val precision: 0.5696 | Val recall: 0.5370 | Val f1score: 0.5279 | Val acc: 0.5399 | Val kappa: 0.5271 \n",
      "\n",
      "Early stopping after epoch 32\n"
     ]
    },
    {
     "data": {
      "text/html": [
       "Waiting for W&B process to finish... <strong style=\"color:green\">(success).</strong>"
      ],
      "text/plain": [
       "<IPython.core.display.HTML object>"
      ]
     },
     "metadata": {},
     "output_type": "display_data"
    },
    {
     "data": {
      "text/html": [
       "<style>\n",
       "    table.wandb td:nth-child(1) { padding: 0 10px; text-align: left ; width: auto;} td:nth-child(2) {text-align: left ; width: 100%}\n",
       "    .wandb-row { display: flex; flex-direction: row; flex-wrap: wrap; justify-content: flex-start; width: 100% }\n",
       "    .wandb-col { display: flex; flex-direction: column; flex-basis: 100%; flex: 1; padding: 10px; }\n",
       "    </style>\n",
       "<div class=\"wandb-row\"><div class=\"wandb-col\"><h3>Run history:</h3><br/><table class=\"wandb\"><tr><td>learning_rate</td><td>█▆▅▄▃▃▂▂▂▂▁▁▁▁▁▁▁▁▁▁▁▁▁▁▁▁▁▁▁▁▁▁</td></tr><tr><td>train_f1_score</td><td>▁▄▅▆▆▇▇▇▇▇▇█████████████████████</td></tr><tr><td>train_loss</td><td>█▅▄▄▃▂▂▂▂▂▂▁▂▁▁▁▁▁▁▁▁▁▁▁▁▁▁▂▁▁▁▁</td></tr><tr><td>val_f1_score</td><td>▁▃▁▇▆▄▆▆▆▇██▇▇▇█████████████████</td></tr><tr><td>val_loss</td><td>▇▄▅▂▃█▄▃▁▂▁▁▂▂▁▁▁▁▁▁▁▁▁▁▁▁▁▁▁▁▁▁</td></tr></table><br/></div><div class=\"wandb-col\"><h3>Run summary:</h3><br/><table class=\"wandb\"><tr><td>learning_rate</td><td>0.0</td></tr><tr><td>train_f1_score</td><td>0.51412</td></tr><tr><td>train_loss</td><td>1.02871</td></tr><tr><td>val_f1_score</td><td>0.5279</td></tr><tr><td>val_loss</td><td>0.98395</td></tr></table><br/></div></div>"
      ],
      "text/plain": [
       "<IPython.core.display.HTML object>"
      ]
     },
     "metadata": {},
     "output_type": "display_data"
    },
    {
     "data": {
      "text/html": [
       " View run <strong style=\"color:#cdcd00\">fold_2_RGB-NIR_5classes</strong> at: <a href='https://wandb.ai/simon-ecke/wze-uav-5classes/runs/768jncv1' target=\"_blank\">https://wandb.ai/simon-ecke/wze-uav-5classes/runs/768jncv1</a><br/>Synced 5 W&B file(s), 0 media file(s), 0 artifact file(s) and 0 other file(s)"
      ],
      "text/plain": [
       "<IPython.core.display.HTML object>"
      ]
     },
     "metadata": {},
     "output_type": "display_data"
    },
    {
     "data": {
      "text/html": [
       "Find logs at: <code>.\\wandb\\run-20230428_152714-768jncv1\\logs</code>"
      ],
      "text/plain": [
       "<IPython.core.display.HTML object>"
      ]
     },
     "metadata": {},
     "output_type": "display_data"
    },
    {
     "name": "stdout",
     "output_type": "stream",
     "text": [
      "Deleting variables and emptying cache\n",
      "Memory allocated: 1053574144 bytes\n",
      "--------------------------------------------------\n",
      "\n",
      "Fold : 3\n",
      "TRAIN POSITIVE RATIO: 1.2821208975485108\n",
      "VAL POSITIVE RATIO  : 1.284664536741214\n",
      "LENGTH TRAIN GROUPS : 4722\n",
      "LENGTH VAL GROUPS   : 1181\n"
     ]
    },
    {
     "data": {
      "text/html": [
       "wandb version 0.15.0 is available!  To upgrade, please run:\n",
       " $ pip install wandb --upgrade"
      ],
      "text/plain": [
       "<IPython.core.display.HTML object>"
      ]
     },
     "metadata": {},
     "output_type": "display_data"
    },
    {
     "data": {
      "text/html": [
       "Tracking run with wandb version 0.14.2"
      ],
      "text/plain": [
       "<IPython.core.display.HTML object>"
      ]
     },
     "metadata": {},
     "output_type": "display_data"
    },
    {
     "data": {
      "text/html": [
       "Run data is saved locally in <code>C:\\Users\\lwfeckesim\\01_PyTorch\\wze-uav\\wze-uav-master\\wandb\\run-20230428_182755-g48ihefe</code>"
      ],
      "text/plain": [
       "<IPython.core.display.HTML object>"
      ]
     },
     "metadata": {},
     "output_type": "display_data"
    },
    {
     "data": {
      "text/html": [
       "Syncing run <strong><a href='https://wandb.ai/simon-ecke/wze-uav-5classes/runs/g48ihefe' target=\"_blank\">fold_3_RGB-NIR_5classes</a></strong> to <a href='https://wandb.ai/simon-ecke/wze-uav-5classes' target=\"_blank\">Weights & Biases</a> (<a href='https://wandb.me/run' target=\"_blank\">docs</a>)<br/>"
      ],
      "text/plain": [
       "<IPython.core.display.HTML object>"
      ]
     },
     "metadata": {},
     "output_type": "display_data"
    },
    {
     "data": {
      "text/html": [
       " View project at <a href='https://wandb.ai/simon-ecke/wze-uav-5classes' target=\"_blank\">https://wandb.ai/simon-ecke/wze-uav-5classes</a>"
      ],
      "text/plain": [
       "<IPython.core.display.HTML object>"
      ]
     },
     "metadata": {},
     "output_type": "display_data"
    },
    {
     "data": {
      "text/html": [
       " View run at <a href='https://wandb.ai/simon-ecke/wze-uav-5classes/runs/g48ihefe' target=\"_blank\">https://wandb.ai/simon-ecke/wze-uav-5classes/runs/g48ihefe</a>"
      ],
      "text/plain": [
       "<IPython.core.display.HTML object>"
      ]
     },
     "metadata": {},
     "output_type": "display_data"
    },
    {
     "name": "stdout",
     "output_type": "stream",
     "text": [
      "There are no same hash_id values in train, val or test datasets. The datasplit was successful\n",
      "Check shapes:\n",
      "\n",
      "Images train dataset: (12523, 250, 250, 4)\n",
      "Labels train dataset: (12523, 1)\n",
      "\n",
      "Images validation dataset: (1181, 250, 250, 4)\n",
      "Labels validation dataset: (1181, 1)\n",
      "\n",
      "--------------------------------------------------\n",
      "Check if the split was stratified: (random_state=42)\n",
      "Healthy trees in train dataset: 2374\n",
      "Moderately stressed trees in train dataset: 4991\n",
      "Severely stressed trees in train dataset: 4605\n",
      "Dead trees in train dataset: 357\n",
      "Healthy trees in validation dataset: 208\n",
      "Moderately stressed trees in validation dataset: 472\n",
      "Severely stressed trees in validation dataset: 440\n",
      "Dead trees in validation dataset: 39\n",
      "Ratio health trees in validation dataset: 0.06996300033636058\n",
      "Ratio moderately stressed trees in validation dataset: 0.07571382739813924\n",
      "Ratio severely stressed trees in validation dataset: 0.08218701027337628\n",
      "Ratio dead trees in validation dataset: 0.967032967032967\n",
      "--------------------------------------------------\n",
      "\n",
      "Creating datasets for fold: 3\n",
      "\n",
      "Creating dataloaders for fold: 3\n",
      "\n",
      "Loaded pretrained weights for efficientnet-b7\n",
      "\n",
      "[INFO] Fold number: 3\n",
      "[INFO] Number of epochs: 50\n",
      "[INFO] Number of classes: 5\n",
      "[INFO] Batch_size: 32\n",
      "[INFO] Number of bands: 4\n",
      "[INFO] Dropout rate: 0.5\n",
      "[INFO] Gamma learning rate: 0.75\n",
      "[INFO] Memory allocated: 0 bytes\n"
     ]
    },
    {
     "data": {
      "application/vnd.jupyter.widget-view+json": {
       "model_id": "41fb3be7d2cf4556bd3206fcc200b140",
       "version_major": 2,
       "version_minor": 0
      },
      "text/plain": [
       "  0%|          | 0/50 [00:00<?, ?it/s]"
      ]
     },
     "metadata": {},
     "output_type": "display_data"
    },
    {
     "name": "stdout",
     "output_type": "stream",
     "text": [
      "Epoch: 1 \n",
      "Learning rate: 0.005\n",
      "Train loss: 1.2746 | Train precision: 0.3366 | Train recall: 0.2643 | Train f1score: 0.2728 | Train acc: 0.3831 | Train kappa: 0.1662 \n",
      "Val loss: 1.3594 | Val precision: 0.1688 | Val recall: 0.2174 | Val f1score: 0.1901 | Val acc: 0.4210 | Val kappa: 0.0781 \n",
      "\n",
      "Epoch: 2 \n",
      "Learning rate: 0.00375\n",
      "Train loss: 1.1618 | Train precision: 0.4287 | Train recall: 0.3804 | Train f1score: 0.3836 | Train acc: 0.4377 | Train kappa: 0.4061 \n",
      "Val loss: 1.2346 | Val precision: 0.3680 | Val recall: 0.3759 | Val f1score: 0.2836 | Val acc: 0.2891 | Val kappa: 0.2789 \n",
      "\n",
      "Epoch: 3 \n",
      "Learning rate: 0.0028125\n",
      "Train loss: 1.1229 | Train precision: 0.4700 | Train recall: 0.4278 | Train f1score: 0.4253 | Train acc: 0.4572 | Train kappa: 0.4804 \n",
      "Val loss: 1.1340 | Val precision: 0.4204 | Val recall: 0.4741 | Val f1score: 0.4164 | Val acc: 0.4740 | Val kappa: 0.4684 \n",
      "\n",
      "Epoch: 4 \n",
      "Learning rate: 0.002109375\n",
      "Train loss: 1.1062 | Train precision: 0.4930 | Train recall: 0.4415 | Train f1score: 0.4396 | Train acc: 0.4756 | Train kappa: 0.4911 \n",
      "Val loss: 1.0909 | Val precision: 0.4283 | Val recall: 0.4369 | Val f1score: 0.4246 | Val acc: 0.4844 | Val kappa: 0.4656 \n",
      "\n",
      "Epoch: 5 \n",
      "Learning rate: 0.00158203125\n",
      "Train loss: 1.0709 | Train precision: 0.5480 | Train recall: 0.4730 | Train f1score: 0.4742 | Train acc: 0.4787 | Train kappa: 0.5132 \n",
      "Val loss: 1.1959 | Val precision: 0.4747 | Val recall: 0.4960 | Val f1score: 0.4217 | Val acc: 0.4314 | Val kappa: 0.3979 \n",
      "\n",
      "Epoch: 6 \n",
      "Learning rate: 0.0011865234375\n",
      "Train loss: 1.0744 | Train precision: 0.5292 | Train recall: 0.4715 | Train f1score: 0.4760 | Train acc: 0.4808 | Train kappa: 0.5276 \n",
      "Val loss: 1.1022 | Val precision: 0.4388 | Val recall: 0.3841 | Val f1score: 0.4012 | Val acc: 0.4644 | Val kappa: 0.4407 \n",
      "\n",
      "Epoch: 7 \n",
      "Learning rate: 0.000889892578125\n",
      "Train loss: 1.0639 | Train precision: 0.5425 | Train recall: 0.4792 | Train f1score: 0.4861 | Train acc: 0.4971 | Train kappa: 0.5372 \n",
      "Val loss: 1.0584 | Val precision: 0.5204 | Val recall: 0.4424 | Val f1score: 0.4392 | Val acc: 0.5260 | Val kappa: 0.4840 \n",
      "\n",
      "Epoch: 8 \n",
      "Learning rate: 0.00066741943359375\n",
      "Train loss: 1.0449 | Train precision: 0.5696 | Train recall: 0.4927 | Train f1score: 0.5030 | Train acc: 0.4977 | Train kappa: 0.5572 \n",
      "Val loss: 1.0879 | Val precision: 0.5059 | Val recall: 0.4840 | Val f1score: 0.4689 | Val acc: 0.4870 | Val kappa: 0.4442 \n",
      "\n",
      "Epoch: 9 \n",
      "Learning rate: 0.0005005645751953125\n",
      "Train loss: 1.0388 | Train precision: 0.5788 | Train recall: 0.5098 | Train f1score: 0.5240 | Train acc: 0.5038 | Train kappa: 0.5774 \n",
      "Val loss: 1.0476 | Val precision: 0.5135 | Val recall: 0.4697 | Val f1score: 0.4823 | Val acc: 0.5061 | Val kappa: 0.5180 \n",
      "\n",
      "Epoch: 10 \n",
      "Learning rate: 0.0003754234313964844\n",
      "Train loss: 1.0296 | Train precision: 0.5739 | Train recall: 0.5061 | Train f1score: 0.5158 | Train acc: 0.5149 | Train kappa: 0.5717 \n",
      "Val loss: 1.0431 | Val precision: 0.5250 | Val recall: 0.4737 | Val f1score: 0.4825 | Val acc: 0.5200 | Val kappa: 0.4853 \n",
      "\n",
      "Epoch: 11 \n",
      "Learning rate: 0.0002815675735473633\n",
      "Train loss: 1.0397 | Train precision: 0.5857 | Train recall: 0.4984 | Train f1score: 0.5115 | Train acc: 0.5059 | Train kappa: 0.5644 \n",
      "Val loss: 1.0490 | Val precision: 0.5097 | Val recall: 0.4826 | Val f1score: 0.4861 | Val acc: 0.5182 | Val kappa: 0.5235 \n",
      "\n",
      "Epoch: 12 \n",
      "Learning rate: 0.00021117568016052246\n",
      "Train loss: 1.0268 | Train precision: 0.5837 | Train recall: 0.5090 | Train f1score: 0.5247 | Train acc: 0.5069 | Train kappa: 0.5822 \n",
      "Val loss: 1.0531 | Val precision: 0.5182 | Val recall: 0.4568 | Val f1score: 0.4596 | Val acc: 0.5035 | Val kappa: 0.4813 \n",
      "\n",
      "Epoch: 13 \n",
      "Learning rate: 0.00015838176012039184\n",
      "Train loss: 1.0100 | Train precision: 0.6057 | Train recall: 0.5231 | Train f1score: 0.5415 | Train acc: 0.5197 | Train kappa: 0.5898 \n",
      "Val loss: 1.0423 | Val precision: 0.5196 | Val recall: 0.4628 | Val f1score: 0.4740 | Val acc: 0.5208 | Val kappa: 0.5194 \n",
      "\n",
      "Epoch: 14 \n",
      "Learning rate: 0.00011878632009029388\n",
      "Train loss: 1.0118 | Train precision: 0.6150 | Train recall: 0.5264 | Train f1score: 0.5473 | Train acc: 0.5209 | Train kappa: 0.5902 \n",
      "Val loss: 1.0428 | Val precision: 0.5201 | Val recall: 0.4806 | Val f1score: 0.4913 | Val acc: 0.5191 | Val kappa: 0.5216 \n",
      "\n",
      "Epoch: 15 \n",
      "Learning rate: 8.908974006772042e-05\n",
      "Train loss: 1.0188 | Train precision: 0.6096 | Train recall: 0.5176 | Train f1score: 0.5412 | Train acc: 0.5211 | Train kappa: 0.5737 \n",
      "Val loss: 1.0366 | Val precision: 0.5237 | Val recall: 0.4728 | Val f1score: 0.4814 | Val acc: 0.5295 | Val kappa: 0.5145 \n",
      "\n",
      "Epoch: 16 \n",
      "Learning rate: 6.681730505079031e-05\n",
      "Train loss: 1.0194 | Train precision: 0.5883 | Train recall: 0.5083 | Train f1score: 0.5225 | Train acc: 0.5179 | Train kappa: 0.5811 \n",
      "Val loss: 1.0344 | Val precision: 0.5160 | Val recall: 0.4786 | Val f1score: 0.4852 | Val acc: 0.5252 | Val kappa: 0.5222 \n",
      "\n",
      "Epoch: 17 \n",
      "Learning rate: 5.0112978788092735e-05\n",
      "Train loss: 1.0080 | Train precision: 0.6056 | Train recall: 0.5294 | Train f1score: 0.5463 | Train acc: 0.5261 | Train kappa: 0.5896 \n",
      "Val loss: 1.0337 | Val precision: 0.5088 | Val recall: 0.4723 | Val f1score: 0.4804 | Val acc: 0.5234 | Val kappa: 0.5298 \n",
      "\n",
      "Epoch: 18 \n",
      "Learning rate: 3.758473409106955e-05\n",
      "Train loss: 1.0167 | Train precision: 0.6043 | Train recall: 0.5208 | Train f1score: 0.5395 | Train acc: 0.5186 | Train kappa: 0.5880 \n",
      "Val loss: 1.0356 | Val precision: 0.5186 | Val recall: 0.4854 | Val f1score: 0.4938 | Val acc: 0.5269 | Val kappa: 0.5391 \n",
      "\n",
      "Epoch: 19 \n",
      "Learning rate: 2.8188550568302163e-05\n",
      "Train loss: 1.0104 | Train precision: 0.6065 | Train recall: 0.5227 | Train f1score: 0.5434 | Train acc: 0.5209 | Train kappa: 0.5902 \n",
      "Val loss: 1.0380 | Val precision: 0.5170 | Val recall: 0.4830 | Val f1score: 0.4910 | Val acc: 0.5226 | Val kappa: 0.5304 \n",
      "\n",
      "Epoch: 20 \n",
      "Learning rate: 2.114141292622662e-05\n",
      "Train loss: 1.0081 | Train precision: 0.6013 | Train recall: 0.5205 | Train f1score: 0.5387 | Train acc: 0.5210 | Train kappa: 0.5858 \n",
      "Val loss: 1.0301 | Val precision: 0.5076 | Val recall: 0.4648 | Val f1score: 0.4766 | Val acc: 0.5260 | Val kappa: 0.5309 \n",
      "\n",
      "Epoch: 21 \n",
      "Learning rate: 1.5856059694669965e-05\n",
      "Train loss: 1.0085 | Train precision: 0.6096 | Train recall: 0.5184 | Train f1score: 0.5413 | Train acc: 0.5224 | Train kappa: 0.5871 \n",
      "Val loss: 1.0320 | Val precision: 0.5172 | Val recall: 0.4782 | Val f1score: 0.4877 | Val acc: 0.5330 | Val kappa: 0.5283 \n",
      "\n",
      "Epoch: 22 \n",
      "Learning rate: 1.1892044771002475e-05\n",
      "Train loss: 1.0192 | Train precision: 0.5925 | Train recall: 0.5154 | Train f1score: 0.5298 | Train acc: 0.5143 | Train kappa: 0.5807 \n",
      "Val loss: 1.0352 | Val precision: 0.5116 | Val recall: 0.4711 | Val f1score: 0.4819 | Val acc: 0.5200 | Val kappa: 0.5145 \n",
      "\n",
      "Epoch: 23 \n",
      "Learning rate: 8.919033578251857e-06\n",
      "Train loss: 1.0096 | Train precision: 0.5923 | Train recall: 0.5234 | Train f1score: 0.5370 | Train acc: 0.5191 | Train kappa: 0.5868 \n",
      "Val loss: 1.0340 | Val precision: 0.5097 | Val recall: 0.4727 | Val f1score: 0.4835 | Val acc: 0.5208 | Val kappa: 0.5211 \n",
      "\n",
      "Epoch: 24 \n",
      "Learning rate: 6.689275183688892e-06\n",
      "Train loss: 1.0123 | Train precision: 0.6023 | Train recall: 0.5133 | Train f1score: 0.5321 | Train acc: 0.5201 | Train kappa: 0.5799 \n",
      "Val loss: 1.0343 | Val precision: 0.5194 | Val recall: 0.4768 | Val f1score: 0.4882 | Val acc: 0.5217 | Val kappa: 0.5158 \n",
      "\n",
      "Epoch: 25 \n",
      "Learning rate: 5.016956387766669e-06\n",
      "Train loss: 1.0133 | Train precision: 0.5966 | Train recall: 0.5226 | Train f1score: 0.5400 | Train acc: 0.5222 | Train kappa: 0.5831 \n",
      "Val loss: 1.0311 | Val precision: 0.5138 | Val recall: 0.4716 | Val f1score: 0.4832 | Val acc: 0.5208 | Val kappa: 0.5169 \n",
      "\n",
      "Epoch: 26 \n",
      "Learning rate: 3.762717290825002e-06\n",
      "Train loss: 1.0030 | Train precision: 0.6059 | Train recall: 0.5247 | Train f1score: 0.5435 | Train acc: 0.5290 | Train kappa: 0.6002 \n",
      "Val loss: 1.0314 | Val precision: 0.5183 | Val recall: 0.4725 | Val f1score: 0.4849 | Val acc: 0.5226 | Val kappa: 0.5175 \n",
      "\n",
      "Epoch: 27 \n",
      "Learning rate: 2.8220379681187514e-06\n",
      "Train loss: 1.0180 | Train precision: 0.6070 | Train recall: 0.5170 | Train f1score: 0.5340 | Train acc: 0.5172 | Train kappa: 0.5909 \n",
      "Val loss: 1.0335 | Val precision: 0.5099 | Val recall: 0.4738 | Val f1score: 0.4822 | Val acc: 0.5252 | Val kappa: 0.5369 \n",
      "\n"
     ]
    },
    {
     "name": "stdout",
     "output_type": "stream",
     "text": [
      "Epoch: 28 \n",
      "Learning rate: 2.1165284760890633e-06\n",
      "Train loss: 1.0229 | Train precision: 0.5894 | Train recall: 0.5146 | Train f1score: 0.5287 | Train acc: 0.5200 | Train kappa: 0.5789 \n",
      "Val loss: 1.0346 | Val precision: 0.5145 | Val recall: 0.4744 | Val f1score: 0.4852 | Val acc: 0.5174 | Val kappa: 0.5232 \n",
      "\n",
      "Epoch: 29 \n",
      "Learning rate: 1.5873963570667977e-06\n",
      "Train loss: 1.0147 | Train precision: 0.5936 | Train recall: 0.5171 | Train f1score: 0.5351 | Train acc: 0.5225 | Train kappa: 0.5956 \n",
      "Val loss: 1.0339 | Val precision: 0.5119 | Val recall: 0.4771 | Val f1score: 0.4854 | Val acc: 0.5226 | Val kappa: 0.5373 \n",
      "\n",
      "Epoch: 30 \n",
      "Learning rate: 1.1905472678000981e-06\n",
      "Train loss: 1.0080 | Train precision: 0.6220 | Train recall: 0.5269 | Train f1score: 0.5474 | Train acc: 0.5241 | Train kappa: 0.5982 \n",
      "Val loss: 1.0323 | Val precision: 0.5162 | Val recall: 0.4808 | Val f1score: 0.4893 | Val acc: 0.5286 | Val kappa: 0.5338 \n",
      "\n",
      "Early stopping after epoch 30\n"
     ]
    },
    {
     "data": {
      "text/html": [
       "Waiting for W&B process to finish... <strong style=\"color:green\">(success).</strong>"
      ],
      "text/plain": [
       "<IPython.core.display.HTML object>"
      ]
     },
     "metadata": {},
     "output_type": "display_data"
    },
    {
     "data": {
      "application/vnd.jupyter.widget-view+json": {
       "model_id": "e7ba3856e2984cb1812bf2a88f8829d6",
       "version_major": 2,
       "version_minor": 0
      },
      "text/plain": [
       "VBox(children=(Label(value='0.001 MB of 0.001 MB uploaded (0.000 MB deduped)\\r'), FloatProgress(value=1.0, max…"
      ]
     },
     "metadata": {},
     "output_type": "display_data"
    },
    {
     "data": {
      "text/html": [
       "<style>\n",
       "    table.wandb td:nth-child(1) { padding: 0 10px; text-align: left ; width: auto;} td:nth-child(2) {text-align: left ; width: 100%}\n",
       "    .wandb-row { display: flex; flex-direction: row; flex-wrap: wrap; justify-content: flex-start; width: 100% }\n",
       "    .wandb-col { display: flex; flex-direction: column; flex-basis: 100%; flex: 1; padding: 10px; }\n",
       "    </style>\n",
       "<div class=\"wandb-row\"><div class=\"wandb-col\"><h3>Run history:</h3><br/><table class=\"wandb\"><tr><td>learning_rate</td><td>█▆▅▄▃▃▂▂▂▂▁▁▁▁▁▁▁▁▁▁▁▁▁▁▁▁▁▁▁▁</td></tr><tr><td>train_f1_score</td><td>▁▄▅▅▆▆▆▇▇▇▇▇███▇██████████████</td></tr><tr><td>train_loss</td><td>█▅▄▄▃▃▃▂▂▂▂▂▁▁▁▁▁▁▁▁▁▁▁▁▁▁▁▂▁▁</td></tr><tr><td>val_f1_score</td><td>▁▃▆▆▆▆▇▇███▇██████████████████</td></tr><tr><td>val_loss</td><td>█▅▃▂▅▃▂▂▁▁▁▁▁▁▁▁▁▁▁▁▁▁▁▁▁▁▁▁▁▁</td></tr></table><br/></div><div class=\"wandb-col\"><h3>Run summary:</h3><br/><table class=\"wandb\"><tr><td>learning_rate</td><td>0.0</td></tr><tr><td>train_f1_score</td><td>0.54744</td></tr><tr><td>train_loss</td><td>1.00804</td></tr><tr><td>val_f1_score</td><td>0.48928</td></tr><tr><td>val_loss</td><td>1.03235</td></tr></table><br/></div></div>"
      ],
      "text/plain": [
       "<IPython.core.display.HTML object>"
      ]
     },
     "metadata": {},
     "output_type": "display_data"
    },
    {
     "data": {
      "text/html": [
       " View run <strong style=\"color:#cdcd00\">fold_3_RGB-NIR_5classes</strong> at: <a href='https://wandb.ai/simon-ecke/wze-uav-5classes/runs/g48ihefe' target=\"_blank\">https://wandb.ai/simon-ecke/wze-uav-5classes/runs/g48ihefe</a><br/>Synced 5 W&B file(s), 0 media file(s), 0 artifact file(s) and 0 other file(s)"
      ],
      "text/plain": [
       "<IPython.core.display.HTML object>"
      ]
     },
     "metadata": {},
     "output_type": "display_data"
    },
    {
     "data": {
      "text/html": [
       "Find logs at: <code>.\\wandb\\run-20230428_182755-g48ihefe\\logs</code>"
      ],
      "text/plain": [
       "<IPython.core.display.HTML object>"
      ]
     },
     "metadata": {},
     "output_type": "display_data"
    },
    {
     "name": "stdout",
     "output_type": "stream",
     "text": [
      "Deleting variables and emptying cache\n",
      "Memory allocated: 1055251456 bytes\n",
      "--------------------------------------------------\n",
      "\n",
      "Fold : 4\n",
      "TRAIN POSITIVE RATIO: 1.2837428206764518\n",
      "VAL POSITIVE RATIO  : 1.2781520692974013\n",
      "LENGTH TRAIN GROUPS : 4726\n",
      "LENGTH VAL GROUPS   : 1177\n"
     ]
    },
    {
     "data": {
      "text/html": [
       "wandb version 0.15.0 is available!  To upgrade, please run:\n",
       " $ pip install wandb --upgrade"
      ],
      "text/plain": [
       "<IPython.core.display.HTML object>"
      ]
     },
     "metadata": {},
     "output_type": "display_data"
    },
    {
     "data": {
      "text/html": [
       "Tracking run with wandb version 0.14.2"
      ],
      "text/plain": [
       "<IPython.core.display.HTML object>"
      ]
     },
     "metadata": {},
     "output_type": "display_data"
    },
    {
     "data": {
      "text/html": [
       "Run data is saved locally in <code>C:\\Users\\lwfeckesim\\01_PyTorch\\wze-uav\\wze-uav-master\\wandb\\run-20230428_211718-iweltp2w</code>"
      ],
      "text/plain": [
       "<IPython.core.display.HTML object>"
      ]
     },
     "metadata": {},
     "output_type": "display_data"
    },
    {
     "data": {
      "text/html": [
       "Syncing run <strong><a href='https://wandb.ai/simon-ecke/wze-uav-5classes/runs/iweltp2w' target=\"_blank\">fold_4_RGB-NIR_5classes</a></strong> to <a href='https://wandb.ai/simon-ecke/wze-uav-5classes' target=\"_blank\">Weights & Biases</a> (<a href='https://wandb.me/run' target=\"_blank\">docs</a>)<br/>"
      ],
      "text/plain": [
       "<IPython.core.display.HTML object>"
      ]
     },
     "metadata": {},
     "output_type": "display_data"
    },
    {
     "data": {
      "text/html": [
       " View project at <a href='https://wandb.ai/simon-ecke/wze-uav-5classes' target=\"_blank\">https://wandb.ai/simon-ecke/wze-uav-5classes</a>"
      ],
      "text/plain": [
       "<IPython.core.display.HTML object>"
      ]
     },
     "metadata": {},
     "output_type": "display_data"
    },
    {
     "data": {
      "text/html": [
       " View run at <a href='https://wandb.ai/simon-ecke/wze-uav-5classes/runs/iweltp2w' target=\"_blank\">https://wandb.ai/simon-ecke/wze-uav-5classes/runs/iweltp2w</a>"
      ],
      "text/plain": [
       "<IPython.core.display.HTML object>"
      ]
     },
     "metadata": {},
     "output_type": "display_data"
    },
    {
     "name": "stdout",
     "output_type": "stream",
     "text": [
      "There are no same hash_id values in train, val or test datasets. The datasplit was successful\n",
      "Check shapes:\n",
      "\n",
      "Images train dataset: (12536, 250, 250, 4)\n",
      "Labels train dataset: (12536, 1)\n",
      "\n",
      "Images validation dataset: (1177, 250, 250, 4)\n",
      "Labels validation dataset: (1177, 1)\n",
      "\n",
      "--------------------------------------------------\n",
      "Check if the split was stratified: (random_state=42)\n",
      "Healthy trees in train dataset: 2397\n",
      "Moderately stressed trees in train dataset: 4984\n",
      "Severely stressed trees in train dataset: 4569\n",
      "Dead trees in train dataset: 373\n",
      "Healthy trees in validation dataset: 204\n",
      "Moderately stressed trees in validation dataset: 477\n",
      "Severely stressed trees in validation dataset: 449\n",
      "Dead trees in validation dataset: 32\n",
      "Ratio health trees in validation dataset: 0.06861755802219979\n",
      "Ratio moderately stressed trees in validation dataset: 0.07651588065447545\n",
      "Ratio severely stressed trees in validation dataset: 0.08305763538220443\n",
      "Ratio dead trees in validation dataset: 0.9868131868131869\n",
      "--------------------------------------------------\n",
      "\n",
      "Creating datasets for fold: 4\n",
      "\n",
      "Creating dataloaders for fold: 4\n",
      "\n",
      "Loaded pretrained weights for efficientnet-b7\n",
      "\n",
      "[INFO] Fold number: 4\n",
      "[INFO] Number of epochs: 50\n",
      "[INFO] Number of classes: 5\n",
      "[INFO] Batch_size: 32\n",
      "[INFO] Number of bands: 4\n",
      "[INFO] Dropout rate: 0.5\n",
      "[INFO] Gamma learning rate: 0.75\n",
      "[INFO] Memory allocated: 0 bytes\n"
     ]
    },
    {
     "data": {
      "application/vnd.jupyter.widget-view+json": {
       "model_id": "bc0a25bea11542bf97f78ea5b261710b",
       "version_major": 2,
       "version_minor": 0
      },
      "text/plain": [
       "  0%|          | 0/50 [00:00<?, ?it/s]"
      ]
     },
     "metadata": {},
     "output_type": "display_data"
    },
    {
     "name": "stdout",
     "output_type": "stream",
     "text": [
      "Epoch: 1 \n",
      "Learning rate: 0.005\n",
      "Train loss: 1.2335 | Train precision: 0.3651 | Train recall: 0.3191 | Train f1score: 0.3263 | Train acc: 0.4071 | Train kappa: 0.3165 \n",
      "Val loss: 2.2921 | Val precision: 0.2318 | Val recall: 0.3450 | Val f1score: 0.1911 | Val acc: 0.4080 | Val kappa: 0.2353 \n",
      "\n",
      "Epoch: 2 \n",
      "Learning rate: 0.00375\n",
      "Train loss: 1.1501 | Train precision: 0.4299 | Train recall: 0.3849 | Train f1score: 0.3903 | Train acc: 0.4454 | Train kappa: 0.4519 \n",
      "Val loss: 1.5844 | Val precision: 0.1764 | Val recall: 0.3725 | Val f1score: 0.1852 | Val acc: 0.3099 | Val kappa: 0.2173 \n",
      "\n",
      "Epoch: 3 \n",
      "Learning rate: 0.0028125\n",
      "Train loss: 1.1186 | Train precision: 0.4653 | Train recall: 0.4294 | Train f1score: 0.4270 | Train acc: 0.4660 | Train kappa: 0.4934 \n",
      "Val loss: 1.0390 | Val precision: 0.5376 | Val recall: 0.3833 | Val f1score: 0.3707 | Val acc: 0.4913 | Val kappa: 0.3948 \n",
      "\n",
      "Epoch: 4 \n",
      "Learning rate: 0.002109375\n",
      "Train loss: 1.0989 | Train precision: 0.5195 | Train recall: 0.4520 | Train f1score: 0.4555 | Train acc: 0.4811 | Train kappa: 0.5175 \n",
      "Val loss: 1.1173 | Val precision: 0.4352 | Val recall: 0.5259 | Val f1score: 0.4557 | Val acc: 0.4731 | Val kappa: 0.4650 \n",
      "\n",
      "Epoch: 5 \n",
      "Learning rate: 0.00158203125\n",
      "Train loss: 1.0772 | Train precision: 0.5428 | Train recall: 0.4713 | Train f1score: 0.4769 | Train acc: 0.4934 | Train kappa: 0.5318 \n",
      "Val loss: 1.0323 | Val precision: 0.5417 | Val recall: 0.4803 | Val f1score: 0.4838 | Val acc: 0.5148 | Val kappa: 0.4837 \n",
      "\n",
      "Epoch: 6 \n",
      "Learning rate: 0.0011865234375\n",
      "Train loss: 1.0629 | Train precision: 0.5506 | Train recall: 0.4710 | Train f1score: 0.4817 | Train acc: 0.5030 | Train kappa: 0.5415 \n",
      "Val loss: 1.0190 | Val precision: 0.5606 | Val recall: 0.4961 | Val f1score: 0.4962 | Val acc: 0.5156 | Val kappa: 0.4869 \n",
      "\n",
      "Epoch: 7 \n",
      "Learning rate: 0.000889892578125\n",
      "Train loss: 1.0599 | Train precision: 0.5488 | Train recall: 0.4840 | Train f1score: 0.4888 | Train acc: 0.4985 | Train kappa: 0.5632 \n",
      "Val loss: 1.0379 | Val precision: 0.4820 | Val recall: 0.4563 | Val f1score: 0.4668 | Val acc: 0.5095 | Val kappa: 0.4956 \n",
      "\n",
      "Epoch: 8 \n",
      "Learning rate: 0.00066741943359375\n",
      "Train loss: 1.0604 | Train precision: 0.5501 | Train recall: 0.4789 | Train f1score: 0.4846 | Train acc: 0.5071 | Train kappa: 0.5601 \n",
      "Val loss: 1.0450 | Val precision: 0.4899 | Val recall: 0.4947 | Val f1score: 0.4467 | Val acc: 0.5208 | Val kappa: 0.4769 \n",
      "\n",
      "Epoch: 9 \n",
      "Learning rate: 0.0005005645751953125\n",
      "Train loss: 1.0307 | Train precision: 0.5889 | Train recall: 0.5019 | Train f1score: 0.5100 | Train acc: 0.5193 | Train kappa: 0.5868 \n",
      "Val loss: 1.0090 | Val precision: 0.5318 | Val recall: 0.4960 | Val f1score: 0.4821 | Val acc: 0.5217 | Val kappa: 0.5189 \n",
      "\n",
      "Epoch: 10 \n",
      "Learning rate: 0.0003754234313964844\n",
      "Train loss: 1.0316 | Train precision: 0.5933 | Train recall: 0.5033 | Train f1score: 0.5170 | Train acc: 0.5167 | Train kappa: 0.5889 \n",
      "Val loss: 1.0130 | Val precision: 0.5064 | Val recall: 0.4841 | Val f1score: 0.4817 | Val acc: 0.5052 | Val kappa: 0.4770 \n",
      "\n",
      "Epoch: 11 \n",
      "Learning rate: 0.0002815675735473633\n",
      "Train loss: 1.0391 | Train precision: 0.5847 | Train recall: 0.4997 | Train f1score: 0.5142 | Train acc: 0.5080 | Train kappa: 0.5712 \n",
      "Val loss: 1.0156 | Val precision: 0.5005 | Val recall: 0.4839 | Val f1score: 0.4779 | Val acc: 0.5148 | Val kappa: 0.4950 \n",
      "\n",
      "Epoch: 12 \n",
      "Learning rate: 0.00021117568016052246\n",
      "Train loss: 1.0239 | Train precision: 0.5988 | Train recall: 0.5114 | Train f1score: 0.5258 | Train acc: 0.5209 | Train kappa: 0.5893 \n",
      "Val loss: 1.0092 | Val precision: 0.4928 | Val recall: 0.4980 | Val f1score: 0.4886 | Val acc: 0.5078 | Val kappa: 0.5032 \n",
      "\n",
      "Epoch: 13 \n",
      "Learning rate: 0.00015838176012039184\n",
      "Train loss: 1.0324 | Train precision: 0.5980 | Train recall: 0.5154 | Train f1score: 0.5321 | Train acc: 0.5133 | Train kappa: 0.5796 \n",
      "Val loss: 1.0233 | Val precision: 0.4846 | Val recall: 0.4861 | Val f1score: 0.4694 | Val acc: 0.4974 | Val kappa: 0.4650 \n",
      "\n",
      "Epoch: 14 \n",
      "Learning rate: 0.00011878632009029388\n",
      "Train loss: 1.0156 | Train precision: 0.5997 | Train recall: 0.5099 | Train f1score: 0.5278 | Train acc: 0.5249 | Train kappa: 0.5930 \n",
      "Val loss: 1.0184 | Val precision: 0.4963 | Val recall: 0.4932 | Val f1score: 0.4764 | Val acc: 0.4913 | Val kappa: 0.4697 \n",
      "\n",
      "Epoch: 15 \n",
      "Learning rate: 8.908974006772042e-05\n",
      "Train loss: 1.0109 | Train precision: 0.5985 | Train recall: 0.5113 | Train f1score: 0.5295 | Train acc: 0.5244 | Train kappa: 0.5912 \n",
      "Val loss: 1.0219 | Val precision: 0.4613 | Val recall: 0.4867 | Val f1score: 0.4587 | Val acc: 0.4913 | Val kappa: 0.4774 \n",
      "\n",
      "Epoch: 16 \n",
      "Learning rate: 6.681730505079031e-05\n",
      "Train loss: 1.0153 | Train precision: 0.6108 | Train recall: 0.5250 | Train f1score: 0.5394 | Train acc: 0.5277 | Train kappa: 0.5954 \n",
      "Val loss: 1.0093 | Val precision: 0.5115 | Val recall: 0.5027 | Val f1score: 0.5014 | Val acc: 0.5200 | Val kappa: 0.5140 \n",
      "\n",
      "Epoch: 17 \n",
      "Learning rate: 5.0112978788092735e-05\n",
      "Train loss: 1.0060 | Train precision: 0.6204 | Train recall: 0.5279 | Train f1score: 0.5470 | Train acc: 0.5285 | Train kappa: 0.6079 \n",
      "Val loss: 1.0016 | Val precision: 0.4845 | Val recall: 0.4847 | Val f1score: 0.4740 | Val acc: 0.5191 | Val kappa: 0.5163 \n",
      "\n",
      "Epoch: 18 \n",
      "Learning rate: 3.758473409106955e-05\n",
      "Train loss: 1.0071 | Train precision: 0.5963 | Train recall: 0.5167 | Train f1score: 0.5299 | Train acc: 0.5214 | Train kappa: 0.5923 \n",
      "Val loss: 1.0017 | Val precision: 0.4962 | Val recall: 0.4663 | Val f1score: 0.4721 | Val acc: 0.5061 | Val kappa: 0.4852 \n",
      "\n",
      "Epoch: 19 \n",
      "Learning rate: 2.8188550568302163e-05\n",
      "Train loss: 1.0092 | Train precision: 0.5946 | Train recall: 0.5140 | Train f1score: 0.5317 | Train acc: 0.5256 | Train kappa: 0.5909 \n",
      "Val loss: 1.0045 | Val precision: 0.4808 | Val recall: 0.4798 | Val f1score: 0.4707 | Val acc: 0.5087 | Val kappa: 0.5054 \n",
      "\n",
      "Epoch: 20 \n",
      "Learning rate: 2.114141292622662e-05\n",
      "Train loss: 1.0020 | Train precision: 0.6038 | Train recall: 0.5204 | Train f1score: 0.5357 | Train acc: 0.5241 | Train kappa: 0.6044 \n",
      "Val loss: 1.0004 | Val precision: 0.5107 | Val recall: 0.4806 | Val f1score: 0.4885 | Val acc: 0.5130 | Val kappa: 0.5064 \n",
      "\n",
      "Epoch: 21 \n",
      "Learning rate: 1.5856059694669965e-05\n",
      "Train loss: 1.0068 | Train precision: 0.6284 | Train recall: 0.5286 | Train f1score: 0.5495 | Train acc: 0.5290 | Train kappa: 0.6053 \n",
      "Val loss: 1.0016 | Val precision: 0.4894 | Val recall: 0.4867 | Val f1score: 0.4796 | Val acc: 0.5113 | Val kappa: 0.5110 \n",
      "\n",
      "Epoch: 22 \n",
      "Learning rate: 1.1892044771002475e-05\n",
      "Train loss: 1.0105 | Train precision: 0.6184 | Train recall: 0.5261 | Train f1score: 0.5410 | Train acc: 0.5295 | Train kappa: 0.5843 \n",
      "Val loss: 1.0022 | Val precision: 0.5149 | Val recall: 0.4798 | Val f1score: 0.4874 | Val acc: 0.5122 | Val kappa: 0.4886 \n",
      "\n",
      "Epoch: 23 \n",
      "Learning rate: 8.919033578251857e-06\n",
      "Train loss: 1.0169 | Train precision: 0.6123 | Train recall: 0.5156 | Train f1score: 0.5371 | Train acc: 0.5231 | Train kappa: 0.5951 \n",
      "Val loss: 1.0022 | Val precision: 0.5086 | Val recall: 0.4790 | Val f1score: 0.4865 | Val acc: 0.5087 | Val kappa: 0.4960 \n",
      "\n",
      "Epoch: 24 \n",
      "Learning rate: 6.689275183688892e-06\n",
      "Train loss: 1.0175 | Train precision: 0.5950 | Train recall: 0.5115 | Train f1score: 0.5284 | Train acc: 0.5182 | Train kappa: 0.5849 \n",
      "Val loss: 1.0054 | Val precision: 0.4930 | Val recall: 0.4852 | Val f1score: 0.4806 | Val acc: 0.5078 | Val kappa: 0.4990 \n",
      "\n",
      "Epoch: 25 \n",
      "Learning rate: 5.016956387766669e-06\n",
      "Train loss: 1.0128 | Train precision: 0.6126 | Train recall: 0.5227 | Train f1score: 0.5413 | Train acc: 0.5267 | Train kappa: 0.5941 \n",
      "Val loss: 1.0031 | Val precision: 0.5063 | Val recall: 0.4791 | Val f1score: 0.4854 | Val acc: 0.5087 | Val kappa: 0.4967 \n",
      "\n",
      "Epoch: 26 \n",
      "Learning rate: 3.762717290825002e-06\n",
      "Train loss: 1.0066 | Train precision: 0.6010 | Train recall: 0.5251 | Train f1score: 0.5389 | Train acc: 0.5253 | Train kappa: 0.6105 \n",
      "Val loss: 1.0022 | Val precision: 0.5093 | Val recall: 0.4799 | Val f1score: 0.4873 | Val acc: 0.5104 | Val kappa: 0.4992 \n",
      "\n",
      "Epoch: 27 \n",
      "Learning rate: 2.8220379681187514e-06\n",
      "Train loss: 1.0140 | Train precision: 0.6096 | Train recall: 0.5238 | Train f1score: 0.5399 | Train acc: 0.5262 | Train kappa: 0.5912 \n",
      "Val loss: 1.0066 | Val precision: 0.5033 | Val recall: 0.4770 | Val f1score: 0.4827 | Val acc: 0.5043 | Val kappa: 0.4987 \n",
      "\n"
     ]
    },
    {
     "name": "stdout",
     "output_type": "stream",
     "text": [
      "Epoch: 28 \n",
      "Learning rate: 2.1165284760890633e-06\n",
      "Train loss: 1.0156 | Train precision: 0.5927 | Train recall: 0.5222 | Train f1score: 0.5348 | Train acc: 0.5221 | Train kappa: 0.5961 \n",
      "Val loss: 1.0059 | Val precision: 0.5038 | Val recall: 0.4774 | Val f1score: 0.4834 | Val acc: 0.5052 | Val kappa: 0.4987 \n",
      "\n",
      "Epoch: 29 \n",
      "Learning rate: 1.5873963570667977e-06\n",
      "Train loss: 1.0141 | Train precision: 0.6152 | Train recall: 0.5249 | Train f1score: 0.5422 | Train acc: 0.5261 | Train kappa: 0.5884 \n",
      "Val loss: 1.0021 | Val precision: 0.5095 | Val recall: 0.4785 | Val f1score: 0.4859 | Val acc: 0.5087 | Val kappa: 0.4919 \n",
      "\n",
      "Epoch: 30 \n",
      "Learning rate: 1.1905472678000981e-06\n",
      "Train loss: 1.0094 | Train precision: 0.5992 | Train recall: 0.5186 | Train f1score: 0.5343 | Train acc: 0.5169 | Train kappa: 0.5931 \n",
      "Val loss: 1.0044 | Val precision: 0.5032 | Val recall: 0.4769 | Val f1score: 0.4822 | Val acc: 0.5052 | Val kappa: 0.4937 \n",
      "\n",
      "Early stopping after epoch 30\n"
     ]
    },
    {
     "data": {
      "text/html": [
       "Waiting for W&B process to finish... <strong style=\"color:green\">(success).</strong>"
      ],
      "text/plain": [
       "<IPython.core.display.HTML object>"
      ]
     },
     "metadata": {},
     "output_type": "display_data"
    },
    {
     "data": {
      "text/html": [
       "<style>\n",
       "    table.wandb td:nth-child(1) { padding: 0 10px; text-align: left ; width: auto;} td:nth-child(2) {text-align: left ; width: 100%}\n",
       "    .wandb-row { display: flex; flex-direction: row; flex-wrap: wrap; justify-content: flex-start; width: 100% }\n",
       "    .wandb-col { display: flex; flex-direction: column; flex-basis: 100%; flex: 1; padding: 10px; }\n",
       "    </style>\n",
       "<div class=\"wandb-row\"><div class=\"wandb-col\"><h3>Run history:</h3><br/><table class=\"wandb\"><tr><td>learning_rate</td><td>█▆▅▄▃▃▂▂▂▂▁▁▁▁▁▁▁▁▁▁▁▁▁▁▁▁▁▁▁▁</td></tr><tr><td>train_f1_score</td><td>▁▃▄▅▆▆▆▆▇▇▇▇▇▇▇██▇▇████▇██████</td></tr><tr><td>train_loss</td><td>█▅▅▄▃▃▃▃▂▂▂▂▂▁▁▁▁▁▁▁▁▁▁▁▁▁▁▁▁▁</td></tr><tr><td>val_f1_score</td><td>▁▁▅▇██▇▇██▇█▇▇▇█▇▇▇███████████</td></tr><tr><td>val_loss</td><td>█▄▁▂▁▁▁▁▁▁▁▁▁▁▁▁▁▁▁▁▁▁▁▁▁▁▁▁▁▁</td></tr></table><br/></div><div class=\"wandb-col\"><h3>Run summary:</h3><br/><table class=\"wandb\"><tr><td>learning_rate</td><td>0.0</td></tr><tr><td>train_f1_score</td><td>0.53428</td></tr><tr><td>train_loss</td><td>1.00937</td></tr><tr><td>val_f1_score</td><td>0.48222</td></tr><tr><td>val_loss</td><td>1.00436</td></tr></table><br/></div></div>"
      ],
      "text/plain": [
       "<IPython.core.display.HTML object>"
      ]
     },
     "metadata": {},
     "output_type": "display_data"
    },
    {
     "data": {
      "text/html": [
       " View run <strong style=\"color:#cdcd00\">fold_4_RGB-NIR_5classes</strong> at: <a href='https://wandb.ai/simon-ecke/wze-uav-5classes/runs/iweltp2w' target=\"_blank\">https://wandb.ai/simon-ecke/wze-uav-5classes/runs/iweltp2w</a><br/>Synced 5 W&B file(s), 0 media file(s), 0 artifact file(s) and 0 other file(s)"
      ],
      "text/plain": [
       "<IPython.core.display.HTML object>"
      ]
     },
     "metadata": {},
     "output_type": "display_data"
    },
    {
     "data": {
      "text/html": [
       "Find logs at: <code>.\\wandb\\run-20230428_211718-iweltp2w\\logs</code>"
      ],
      "text/plain": [
       "<IPython.core.display.HTML object>"
      ]
     },
     "metadata": {},
     "output_type": "display_data"
    },
    {
     "name": "stdout",
     "output_type": "stream",
     "text": [
      "Deleting variables and emptying cache\n",
      "Memory allocated: 1057041408 bytes\n",
      "--------------------------------------------------\n",
      "\n",
      "Fold : 5\n",
      "TRAIN POSITIVE RATIO: 1.2874780946311932\n",
      "VAL POSITIVE RATIO  : 1.2629880606647306\n",
      "LENGTH TRAIN GROUPS : 4724\n",
      "LENGTH VAL GROUPS   : 1179\n"
     ]
    },
    {
     "data": {
      "text/html": [
       "wandb version 0.15.0 is available!  To upgrade, please run:\n",
       " $ pip install wandb --upgrade"
      ],
      "text/plain": [
       "<IPython.core.display.HTML object>"
      ]
     },
     "metadata": {},
     "output_type": "display_data"
    },
    {
     "data": {
      "text/html": [
       "Tracking run with wandb version 0.14.2"
      ],
      "text/plain": [
       "<IPython.core.display.HTML object>"
      ]
     },
     "metadata": {},
     "output_type": "display_data"
    },
    {
     "data": {
      "text/html": [
       "Run data is saved locally in <code>C:\\Users\\lwfeckesim\\01_PyTorch\\wze-uav\\wze-uav-master\\wandb\\run-20230429_000638-yv6d52ww</code>"
      ],
      "text/plain": [
       "<IPython.core.display.HTML object>"
      ]
     },
     "metadata": {},
     "output_type": "display_data"
    },
    {
     "data": {
      "text/html": [
       "Syncing run <strong><a href='https://wandb.ai/simon-ecke/wze-uav-5classes/runs/yv6d52ww' target=\"_blank\">fold_5_RGB-NIR_5classes</a></strong> to <a href='https://wandb.ai/simon-ecke/wze-uav-5classes' target=\"_blank\">Weights & Biases</a> (<a href='https://wandb.me/run' target=\"_blank\">docs</a>)<br/>"
      ],
      "text/plain": [
       "<IPython.core.display.HTML object>"
      ]
     },
     "metadata": {},
     "output_type": "display_data"
    },
    {
     "data": {
      "text/html": [
       " View project at <a href='https://wandb.ai/simon-ecke/wze-uav-5classes' target=\"_blank\">https://wandb.ai/simon-ecke/wze-uav-5classes</a>"
      ],
      "text/plain": [
       "<IPython.core.display.HTML object>"
      ]
     },
     "metadata": {},
     "output_type": "display_data"
    },
    {
     "data": {
      "text/html": [
       " View run at <a href='https://wandb.ai/simon-ecke/wze-uav-5classes/runs/yv6d52ww' target=\"_blank\">https://wandb.ai/simon-ecke/wze-uav-5classes/runs/yv6d52ww</a>"
      ],
      "text/plain": [
       "<IPython.core.display.HTML object>"
      ]
     },
     "metadata": {},
     "output_type": "display_data"
    },
    {
     "name": "stdout",
     "output_type": "stream",
     "text": [
      "There are no same hash_id values in train, val or test datasets. The datasplit was successful\n",
      "Check shapes:\n",
      "\n",
      "Images train dataset: (12554, 250, 250, 4)\n",
      "Labels train dataset: (12554, 1)\n",
      "\n",
      "Images validation dataset: (1179, 250, 250, 4)\n",
      "Labels validation dataset: (1179, 1)\n",
      "\n",
      "--------------------------------------------------\n",
      "Check if the split was stratified: (random_state=42)\n",
      "Healthy trees in train dataset: 2367\n",
      "Moderately stressed trees in train dataset: 4966\n",
      "Severely stressed trees in train dataset: 4658\n",
      "Dead trees in train dataset: 371\n",
      "Healthy trees in validation dataset: 228\n",
      "Moderately stressed trees in validation dataset: 496\n",
      "Severely stressed trees in validation dataset: 404\n",
      "Dead trees in validation dataset: 29\n",
      "Ratio health trees in validation dataset: 0.07669021190716448\n",
      "Ratio moderately stressed trees in validation dataset: 0.0795636830285531\n",
      "Ratio severely stressed trees in validation dataset: 0.08636601079575135\n",
      "Ratio dead trees in validation dataset: 0.8879120879120879\n",
      "--------------------------------------------------\n",
      "\n",
      "Creating datasets for fold: 5\n",
      "\n",
      "Creating dataloaders for fold: 5\n",
      "\n",
      "Loaded pretrained weights for efficientnet-b7\n",
      "\n",
      "[INFO] Fold number: 5\n",
      "[INFO] Number of epochs: 50\n",
      "[INFO] Number of classes: 5\n",
      "[INFO] Batch_size: 32\n",
      "[INFO] Number of bands: 4\n",
      "[INFO] Dropout rate: 0.5\n",
      "[INFO] Gamma learning rate: 0.75\n",
      "[INFO] Memory allocated: 0 bytes\n"
     ]
    },
    {
     "data": {
      "application/vnd.jupyter.widget-view+json": {
       "model_id": "4a90d306ebfb41bd9ab20e553bc398cc",
       "version_major": 2,
       "version_minor": 0
      },
      "text/plain": [
       "  0%|          | 0/50 [00:00<?, ?it/s]"
      ]
     },
     "metadata": {},
     "output_type": "display_data"
    },
    {
     "name": "stdout",
     "output_type": "stream",
     "text": [
      "Epoch: 1 \n",
      "Learning rate: 0.005\n",
      "Train loss: 1.2675 | Train precision: 0.3091 | Train recall: 0.2585 | Train f1score: 0.2627 | Train acc: 0.3955 | Train kappa: 0.2260 \n",
      "Val loss: 26.5620 | Val precision: 0.2032 | Val recall: 0.1846 | Val f1score: 0.0151 | Val acc: 0.0208 | Val kappa: 0.0019 \n",
      "\n",
      "Epoch: 2 \n",
      "Learning rate: 0.00375\n",
      "Train loss: 1.1600 | Train precision: 0.4190 | Train recall: 0.3762 | Train f1score: 0.3813 | Train acc: 0.4511 | Train kappa: 0.4193 \n",
      "Val loss: 1.2692 | Val precision: 0.3854 | Val recall: 0.4131 | Val f1score: 0.2789 | Val acc: 0.4531 | Val kappa: 0.3714 \n",
      "\n",
      "Epoch: 3 \n",
      "Learning rate: 0.0028125\n",
      "Train loss: 1.1131 | Train precision: 0.4840 | Train recall: 0.4184 | Train f1score: 0.4281 | Train acc: 0.4698 | Train kappa: 0.4898 \n",
      "Val loss: 1.2178 | Val precision: 0.3775 | Val recall: 0.4848 | Val f1score: 0.3938 | Val acc: 0.3984 | Val kappa: 0.4443 \n",
      "\n",
      "Epoch: 4 \n",
      "Learning rate: 0.002109375\n",
      "Train loss: 1.0997 | Train precision: 0.4812 | Train recall: 0.4244 | Train f1score: 0.4284 | Train acc: 0.4798 | Train kappa: 0.4850 \n",
      "Val loss: 1.2664 | Val precision: 0.2974 | Val recall: 0.4530 | Val f1score: 0.2740 | Val acc: 0.3785 | Val kappa: 0.3946 \n",
      "\n",
      "Epoch: 5 \n",
      "Learning rate: 0.00158203125\n",
      "Train loss: 1.0745 | Train precision: 0.5198 | Train recall: 0.4570 | Train f1score: 0.4598 | Train acc: 0.4928 | Train kappa: 0.5235 \n",
      "Val loss: 1.1100 | Val precision: 0.4923 | Val recall: 0.4197 | Val f1score: 0.4160 | Val acc: 0.4740 | Val kappa: 0.4384 \n",
      "\n",
      "Epoch: 6 \n",
      "Learning rate: 0.0011865234375\n",
      "Train loss: 1.0665 | Train precision: 0.5284 | Train recall: 0.4668 | Train f1score: 0.4717 | Train acc: 0.4902 | Train kappa: 0.5434 \n",
      "Val loss: 1.0324 | Val precision: 0.4864 | Val recall: 0.4516 | Val f1score: 0.4616 | Val acc: 0.5095 | Val kappa: 0.4980 \n",
      "\n",
      "Epoch: 7 \n",
      "Learning rate: 0.000889892578125\n",
      "Train loss: 1.0556 | Train precision: 0.5543 | Train recall: 0.4748 | Train f1score: 0.4857 | Train acc: 0.5028 | Train kappa: 0.5562 \n",
      "Val loss: 1.0239 | Val precision: 0.6943 | Val recall: 0.4639 | Val f1score: 0.4712 | Val acc: 0.5148 | Val kappa: 0.4881 \n",
      "\n",
      "Epoch: 8 \n",
      "Learning rate: 0.00066741943359375\n",
      "Train loss: 1.0547 | Train precision: 0.5498 | Train recall: 0.4835 | Train f1score: 0.4891 | Train acc: 0.5048 | Train kappa: 0.5585 \n",
      "Val loss: 1.0468 | Val precision: 0.4452 | Val recall: 0.4686 | Val f1score: 0.4527 | Val acc: 0.4740 | Val kappa: 0.4997 \n",
      "\n",
      "Epoch: 9 \n",
      "Learning rate: 0.0005005645751953125\n",
      "Train loss: 1.0341 | Train precision: 0.5854 | Train recall: 0.4996 | Train f1score: 0.5085 | Train acc: 0.5154 | Train kappa: 0.5668 \n",
      "Val loss: 1.0203 | Val precision: 0.5160 | Val recall: 0.4816 | Val f1score: 0.4872 | Val acc: 0.5095 | Val kappa: 0.5254 \n",
      "\n",
      "Epoch: 10 \n",
      "Learning rate: 0.0003754234313964844\n",
      "Train loss: 1.0429 | Train precision: 0.5614 | Train recall: 0.4909 | Train f1score: 0.4972 | Train acc: 0.5079 | Train kappa: 0.5624 \n",
      "Val loss: 1.0176 | Val precision: 0.5092 | Val recall: 0.4942 | Val f1score: 0.4871 | Val acc: 0.5061 | Val kappa: 0.5293 \n",
      "\n",
      "Epoch: 11 \n",
      "Learning rate: 0.0002815675735473633\n",
      "Train loss: 1.0372 | Train precision: 0.5622 | Train recall: 0.4926 | Train f1score: 0.4990 | Train acc: 0.5120 | Train kappa: 0.5641 \n",
      "Val loss: 1.0210 | Val precision: 0.4529 | Val recall: 0.4904 | Val f1score: 0.4695 | Val acc: 0.5095 | Val kappa: 0.5281 \n",
      "\n",
      "Epoch: 12 \n",
      "Learning rate: 0.00021117568016052246\n",
      "Train loss: 1.0225 | Train precision: 0.5918 | Train recall: 0.5108 | Train f1score: 0.5252 | Train acc: 0.5243 | Train kappa: 0.5871 \n",
      "Val loss: 1.0236 | Val precision: 0.4356 | Val recall: 0.4826 | Val f1score: 0.4565 | Val acc: 0.4983 | Val kappa: 0.5263 \n",
      "\n",
      "Epoch: 13 \n",
      "Learning rate: 0.00015838176012039184\n",
      "Train loss: 1.0181 | Train precision: 0.5577 | Train recall: 0.4954 | Train f1score: 0.4984 | Train acc: 0.5231 | Train kappa: 0.5709 \n",
      "Val loss: 1.0067 | Val precision: 0.5323 | Val recall: 0.4913 | Val f1score: 0.4865 | Val acc: 0.5104 | Val kappa: 0.5343 \n",
      "\n",
      "Epoch: 14 \n",
      "Learning rate: 0.00011878632009029388\n",
      "Train loss: 1.0145 | Train precision: 0.5886 | Train recall: 0.5080 | Train f1score: 0.5182 | Train acc: 0.5233 | Train kappa: 0.5865 \n",
      "Val loss: 1.0066 | Val precision: 0.5160 | Val recall: 0.5071 | Val f1score: 0.4903 | Val acc: 0.5234 | Val kappa: 0.5437 \n",
      "\n",
      "Epoch: 15 \n",
      "Learning rate: 8.908974006772042e-05\n",
      "Train loss: 1.0239 | Train precision: 0.5840 | Train recall: 0.5082 | Train f1score: 0.5176 | Train acc: 0.5154 | Train kappa: 0.5687 \n",
      "Val loss: 1.0044 | Val precision: 0.5423 | Val recall: 0.5050 | Val f1score: 0.5079 | Val acc: 0.5174 | Val kappa: 0.5416 \n",
      "\n",
      "Epoch: 16 \n",
      "Learning rate: 6.681730505079031e-05\n",
      "Train loss: 1.0191 | Train precision: 0.5849 | Train recall: 0.5006 | Train f1score: 0.5143 | Train acc: 0.5211 | Train kappa: 0.5752 \n",
      "Val loss: 0.9990 | Val precision: 0.5327 | Val recall: 0.4839 | Val f1score: 0.4798 | Val acc: 0.5182 | Val kappa: 0.5363 \n",
      "\n",
      "Epoch: 17 \n",
      "Learning rate: 5.0112978788092735e-05\n",
      "Train loss: 1.0195 | Train precision: 0.5833 | Train recall: 0.5019 | Train f1score: 0.5160 | Train acc: 0.5166 | Train kappa: 0.5731 \n",
      "Val loss: 1.0037 | Val precision: 0.4733 | Val recall: 0.4844 | Val f1score: 0.4784 | Val acc: 0.5139 | Val kappa: 0.5346 \n",
      "\n",
      "Epoch: 18 \n",
      "Learning rate: 3.758473409106955e-05\n",
      "Train loss: 1.0031 | Train precision: 0.5948 | Train recall: 0.5153 | Train f1score: 0.5316 | Train acc: 0.5256 | Train kappa: 0.5852 \n",
      "Val loss: 0.9949 | Val precision: 0.5226 | Val recall: 0.4998 | Val f1score: 0.4963 | Val acc: 0.5234 | Val kappa: 0.5573 \n",
      "\n",
      "Epoch: 19 \n",
      "Learning rate: 2.8188550568302163e-05\n",
      "Train loss: 1.0204 | Train precision: 0.5836 | Train recall: 0.4961 | Train f1score: 0.5104 | Train acc: 0.5117 | Train kappa: 0.5652 \n",
      "Val loss: 1.0011 | Val precision: 0.5615 | Val recall: 0.5047 | Val f1score: 0.5131 | Val acc: 0.5174 | Val kappa: 0.5440 \n",
      "\n",
      "Epoch: 20 \n",
      "Learning rate: 2.114141292622662e-05\n",
      "Train loss: 1.0210 | Train precision: 0.5928 | Train recall: 0.5129 | Train f1score: 0.5280 | Train acc: 0.5154 | Train kappa: 0.5814 \n",
      "Val loss: 1.0072 | Val precision: 0.5602 | Val recall: 0.5050 | Val f1score: 0.5061 | Val acc: 0.5156 | Val kappa: 0.5439 \n",
      "\n",
      "Epoch: 21 \n",
      "Learning rate: 1.5856059694669965e-05\n",
      "Train loss: 1.0126 | Train precision: 0.5846 | Train recall: 0.5125 | Train f1score: 0.5253 | Train acc: 0.5210 | Train kappa: 0.5908 \n",
      "Val loss: 1.0011 | Val precision: 0.5440 | Val recall: 0.4988 | Val f1score: 0.5037 | Val acc: 0.5191 | Val kappa: 0.5400 \n",
      "\n",
      "Epoch: 22 \n",
      "Learning rate: 1.1892044771002475e-05\n",
      "Train loss: 1.0101 | Train precision: 0.6066 | Train recall: 0.5259 | Train f1score: 0.5374 | Train acc: 0.5262 | Train kappa: 0.5929 \n",
      "Val loss: 1.0017 | Val precision: 0.5620 | Val recall: 0.5039 | Val f1score: 0.5128 | Val acc: 0.5182 | Val kappa: 0.5422 \n",
      "\n",
      "Epoch: 23 \n",
      "Learning rate: 8.919033578251857e-06\n",
      "Train loss: 1.0097 | Train precision: 0.5957 | Train recall: 0.5148 | Train f1score: 0.5320 | Train acc: 0.5254 | Train kappa: 0.5689 \n",
      "Val loss: 0.9996 | Val precision: 0.5637 | Val recall: 0.5127 | Val f1score: 0.5174 | Val acc: 0.5182 | Val kappa: 0.5485 \n",
      "\n",
      "Epoch: 24 \n",
      "Learning rate: 6.689275183688892e-06\n",
      "Train loss: 1.0089 | Train precision: 0.5905 | Train recall: 0.5144 | Train f1score: 0.5302 | Train acc: 0.5241 | Train kappa: 0.5904 \n",
      "Val loss: 1.0007 | Val precision: 0.5615 | Val recall: 0.5126 | Val f1score: 0.5165 | Val acc: 0.5156 | Val kappa: 0.5479 \n",
      "\n",
      "Epoch: 25 \n",
      "Learning rate: 5.016956387766669e-06\n",
      "Train loss: 1.0130 | Train precision: 0.5922 | Train recall: 0.5079 | Train f1score: 0.5235 | Train acc: 0.5202 | Train kappa: 0.5750 \n",
      "Val loss: 1.0022 | Val precision: 0.4740 | Val recall: 0.4815 | Val f1score: 0.4770 | Val acc: 0.5130 | Val kappa: 0.5352 \n",
      "\n",
      "Epoch: 26 \n",
      "Learning rate: 3.762717290825002e-06\n",
      "Train loss: 1.0135 | Train precision: 0.5877 | Train recall: 0.5116 | Train f1score: 0.5217 | Train acc: 0.5178 | Train kappa: 0.5920 \n",
      "Val loss: 1.0013 | Val precision: 0.5594 | Val recall: 0.5019 | Val f1score: 0.5105 | Val acc: 0.5139 | Val kappa: 0.5382 \n",
      "\n",
      "Epoch: 27 \n",
      "Learning rate: 2.8220379681187514e-06\n",
      "Train loss: 1.0124 | Train precision: 0.5794 | Train recall: 0.5192 | Train f1score: 0.5251 | Train acc: 0.5285 | Train kappa: 0.5888 \n",
      "Val loss: 1.0008 | Val precision: 0.5629 | Val recall: 0.5125 | Val f1score: 0.5171 | Val acc: 0.5165 | Val kappa: 0.5515 \n",
      "\n"
     ]
    },
    {
     "name": "stdout",
     "output_type": "stream",
     "text": [
      "Epoch: 28 \n",
      "Learning rate: 2.1165284760890633e-06\n",
      "Train loss: 1.0184 | Train precision: 0.5882 | Train recall: 0.5058 | Train f1score: 0.5241 | Train acc: 0.5209 | Train kappa: 0.5878 \n",
      "Val loss: 1.0012 | Val precision: 0.5625 | Val recall: 0.5041 | Val f1score: 0.5132 | Val acc: 0.5182 | Val kappa: 0.5417 \n",
      "\n",
      "Epoch: 29 \n",
      "Learning rate: 1.5873963570667977e-06\n",
      "Train loss: 1.0183 | Train precision: 0.6011 | Train recall: 0.5168 | Train f1score: 0.5340 | Train acc: 0.5269 | Train kappa: 0.5828 \n",
      "Val loss: 1.0010 | Val precision: 0.5599 | Val recall: 0.5105 | Val f1score: 0.5147 | Val acc: 0.5130 | Val kappa: 0.5521 \n",
      "\n",
      "Epoch: 30 \n",
      "Learning rate: 1.1905472678000981e-06\n",
      "Train loss: 1.0129 | Train precision: 0.5878 | Train recall: 0.5112 | Train f1score: 0.5257 | Train acc: 0.5229 | Train kappa: 0.5795 \n",
      "Val loss: 1.0015 | Val precision: 0.5598 | Val recall: 0.5108 | Val f1score: 0.5148 | Val acc: 0.5130 | Val kappa: 0.5476 \n",
      "\n",
      "Epoch: 31 \n",
      "Learning rate: 1e-06\n",
      "Train loss: 1.0122 | Train precision: 0.5832 | Train recall: 0.5041 | Train f1score: 0.5193 | Train acc: 0.5273 | Train kappa: 0.5915 \n",
      "Val loss: 1.0018 | Val precision: 0.5622 | Val recall: 0.5043 | Val f1score: 0.5132 | Val acc: 0.5182 | Val kappa: 0.5443 \n",
      "\n",
      "Epoch: 32 \n",
      "Learning rate: 1e-06\n",
      "Train loss: 1.0238 | Train precision: 0.6175 | Train recall: 0.5196 | Train f1score: 0.5398 | Train acc: 0.5184 | Train kappa: 0.5755 \n",
      "Val loss: 1.0007 | Val precision: 0.5615 | Val recall: 0.5122 | Val f1score: 0.5164 | Val acc: 0.5148 | Val kappa: 0.5520 \n",
      "\n",
      "Epoch: 33 \n",
      "Learning rate: 1e-06\n",
      "Train loss: 1.0201 | Train precision: 0.5747 | Train recall: 0.5041 | Train f1score: 0.5181 | Train acc: 0.5110 | Train kappa: 0.5816 \n",
      "Val loss: 0.9983 | Val precision: 0.5774 | Val recall: 0.5187 | Val f1score: 0.5263 | Val acc: 0.5156 | Val kappa: 0.5557 \n",
      "\n",
      "Epoch: 34 \n",
      "Learning rate: 1e-06\n",
      "Train loss: 1.0233 | Train precision: 0.5910 | Train recall: 0.5093 | Train f1score: 0.5199 | Train acc: 0.5163 | Train kappa: 0.5744 \n",
      "Val loss: 1.0040 | Val precision: 0.5638 | Val recall: 0.5157 | Val f1score: 0.5197 | Val acc: 0.5182 | Val kappa: 0.5584 \n",
      "\n",
      "Epoch: 35 \n",
      "Learning rate: 1e-06\n",
      "Train loss: 1.0129 | Train precision: 0.5759 | Train recall: 0.5109 | Train f1score: 0.5227 | Train acc: 0.5232 | Train kappa: 0.5814 \n",
      "Val loss: 1.0007 | Val precision: 0.5611 | Val recall: 0.5115 | Val f1score: 0.5158 | Val acc: 0.5148 | Val kappa: 0.5498 \n",
      "\n",
      "Epoch: 36 \n",
      "Learning rate: 1e-06\n",
      "Train loss: 1.0037 | Train precision: 0.5972 | Train recall: 0.5188 | Train f1score: 0.5353 | Train acc: 0.5250 | Train kappa: 0.5865 \n",
      "Val loss: 1.0034 | Val precision: 0.5632 | Val recall: 0.5156 | Val f1score: 0.5193 | Val acc: 0.5174 | Val kappa: 0.5587 \n",
      "\n",
      "Epoch: 37 \n",
      "Learning rate: 1e-06\n",
      "Train loss: 1.0100 | Train precision: 0.5869 | Train recall: 0.5141 | Train f1score: 0.5289 | Train acc: 0.5310 | Train kappa: 0.5943 \n",
      "Val loss: 1.0062 | Val precision: 0.5681 | Val recall: 0.5055 | Val f1score: 0.5106 | Val acc: 0.5174 | Val kappa: 0.5440 \n",
      "\n",
      "Epoch: 38 \n",
      "Learning rate: 1e-06\n",
      "Train loss: 1.0033 | Train precision: 0.6128 | Train recall: 0.5225 | Train f1score: 0.5398 | Train acc: 0.5265 | Train kappa: 0.6099 \n",
      "Val loss: 1.0002 | Val precision: 0.5610 | Val recall: 0.5110 | Val f1score: 0.5154 | Val acc: 0.5139 | Val kappa: 0.5487 \n",
      "\n",
      "Epoch: 39 \n",
      "Learning rate: 1e-06\n",
      "Train loss: 1.0043 | Train precision: 0.5914 | Train recall: 0.5234 | Train f1score: 0.5304 | Train acc: 0.5250 | Train kappa: 0.5917 \n",
      "Val loss: 1.0011 | Val precision: 0.5618 | Val recall: 0.5131 | Val f1score: 0.5172 | Val acc: 0.5165 | Val kappa: 0.5559 \n",
      "\n",
      "Epoch: 40 \n",
      "Learning rate: 1e-06\n",
      "Train loss: 1.0053 | Train precision: 0.5921 | Train recall: 0.5169 | Train f1score: 0.5295 | Train acc: 0.5280 | Train kappa: 0.5914 \n",
      "Val loss: 1.0052 | Val precision: 0.5610 | Val recall: 0.5136 | Val f1score: 0.5172 | Val acc: 0.5139 | Val kappa: 0.5544 \n",
      "\n",
      "Epoch: 41 \n",
      "Learning rate: 1e-06\n",
      "Train loss: 1.0092 | Train precision: 0.5969 | Train recall: 0.5144 | Train f1score: 0.5325 | Train acc: 0.5289 | Train kappa: 0.5777 \n",
      "Val loss: 1.0020 | Val precision: 0.5611 | Val recall: 0.5120 | Val f1score: 0.5161 | Val acc: 0.5139 | Val kappa: 0.5502 \n",
      "\n",
      "Epoch: 42 \n",
      "Learning rate: 1e-06\n",
      "Train loss: 1.0276 | Train precision: 0.6037 | Train recall: 0.5118 | Train f1score: 0.5300 | Train acc: 0.5138 | Train kappa: 0.5790 \n",
      "Val loss: 1.0003 | Val precision: 0.5658 | Val recall: 0.5166 | Val f1score: 0.5207 | Val acc: 0.5208 | Val kappa: 0.5573 \n",
      "\n",
      "Epoch: 43 \n",
      "Learning rate: 1e-06\n",
      "Train loss: 1.0172 | Train precision: 0.5897 | Train recall: 0.5195 | Train f1score: 0.5283 | Train acc: 0.5234 | Train kappa: 0.5885 \n",
      "Val loss: 1.0012 | Val precision: 0.5594 | Val recall: 0.5105 | Val f1score: 0.5143 | Val acc: 0.5122 | Val kappa: 0.5474 \n",
      "\n",
      "Early stopping after epoch 43\n"
     ]
    },
    {
     "data": {
      "text/html": [
       "Waiting for W&B process to finish... <strong style=\"color:green\">(success).</strong>"
      ],
      "text/plain": [
       "<IPython.core.display.HTML object>"
      ]
     },
     "metadata": {},
     "output_type": "display_data"
    },
    {
     "data": {
      "application/vnd.jupyter.widget-view+json": {
       "model_id": "631d09667efa4019be93411efb4744bf",
       "version_major": 2,
       "version_minor": 0
      },
      "text/plain": [
       "VBox(children=(Label(value='0.001 MB of 0.018 MB uploaded (0.000 MB deduped)\\r'), FloatProgress(value=0.070154…"
      ]
     },
     "metadata": {},
     "output_type": "display_data"
    },
    {
     "data": {
      "text/html": [
       "<style>\n",
       "    table.wandb td:nth-child(1) { padding: 0 10px; text-align: left ; width: auto;} td:nth-child(2) {text-align: left ; width: 100%}\n",
       "    .wandb-row { display: flex; flex-direction: row; flex-wrap: wrap; justify-content: flex-start; width: 100% }\n",
       "    .wandb-col { display: flex; flex-direction: column; flex-basis: 100%; flex: 1; padding: 10px; }\n",
       "    </style>\n",
       "<div class=\"wandb-row\"><div class=\"wandb-col\"><h3>Run history:</h3><br/><table class=\"wandb\"><tr><td>learning_rate</td><td>█▆▅▄▃▃▂▂▂▂▁▁▁▁▁▁▁▁▁▁▁▁▁▁▁▁▁▁▁▁▁▁▁▁▁▁▁▁▁▁</td></tr><tr><td>train_f1_score</td><td>▁▄▅▅▆▆▇▇▇▇▇█▇▇▇▇█▇██████████▇█▇▇████████</td></tr><tr><td>train_loss</td><td>█▅▄▄▃▃▂▂▂▂▂▂▁▂▁▁▁▁▁▁▁▁▁▁▁▁▁▁▁▂▁▂▁▁▁▁▁▁▁▁</td></tr><tr><td>val_f1_score</td><td>▁▅▆▅▆▇▇▇▇▇▇▇▇█▇▇███████▇████████████████</td></tr><tr><td>val_loss</td><td>█▁▁▁▁▁▁▁▁▁▁▁▁▁▁▁▁▁▁▁▁▁▁▁▁▁▁▁▁▁▁▁▁▁▁▁▁▁▁▁</td></tr></table><br/></div><div class=\"wandb-col\"><h3>Run summary:</h3><br/><table class=\"wandb\"><tr><td>learning_rate</td><td>0.0</td></tr><tr><td>train_f1_score</td><td>0.52831</td></tr><tr><td>train_loss</td><td>1.01718</td></tr><tr><td>val_f1_score</td><td>0.51435</td></tr><tr><td>val_loss</td><td>1.00124</td></tr></table><br/></div></div>"
      ],
      "text/plain": [
       "<IPython.core.display.HTML object>"
      ]
     },
     "metadata": {},
     "output_type": "display_data"
    },
    {
     "data": {
      "text/html": [
       " View run <strong style=\"color:#cdcd00\">fold_5_RGB-NIR_5classes</strong> at: <a href='https://wandb.ai/simon-ecke/wze-uav-5classes/runs/yv6d52ww' target=\"_blank\">https://wandb.ai/simon-ecke/wze-uav-5classes/runs/yv6d52ww</a><br/>Synced 5 W&B file(s), 0 media file(s), 0 artifact file(s) and 0 other file(s)"
      ],
      "text/plain": [
       "<IPython.core.display.HTML object>"
      ]
     },
     "metadata": {},
     "output_type": "display_data"
    },
    {
     "data": {
      "text/html": [
       "Find logs at: <code>.\\wandb\\run-20230429_000638-yv6d52ww\\logs</code>"
      ],
      "text/plain": [
       "<IPython.core.display.HTML object>"
      ]
     },
     "metadata": {},
     "output_type": "display_data"
    },
    {
     "name": "stdout",
     "output_type": "stream",
     "text": [
      "Deleting variables and emptying cache\n",
      "Memory allocated: 1055482880 bytes\n",
      "--------------------------------------------------\n",
      "\n",
      "CPU times: total: 7h 54min 56s\n",
      "Wall time: 17h 18min 13s\n"
     ]
    }
   ],
   "source": [
    "%%time\n",
    "\n",
    "# Set the random seeds\n",
    "set_seeds(42)\n",
    "\n",
    "# Define the number of folds\n",
    "num_folds = 5\n",
    "\n",
    "# group the hashIDs to get the unique values of hashIDs remaining in the subset  \n",
    "groups = sub_hash_id[:, 0] \n",
    "print(\"ORIGINAL POSITIVE RATIO:\", sub_label_set.mean())\n",
    "# create a StratifiedGroupKFold instance\n",
    "kf = StratifiedGroupKFold(n_splits=num_folds, shuffle=True, random_state=42)\n",
    "\n",
    "# loop through the folds\n",
    "for fold, (train_ids, val_ids) in enumerate(kf.split(sub_image_set, sub_label_set, groups)):\n",
    "    print(\"Fold :\", fold+1)\n",
    "    print(\"TRAIN POSITIVE RATIO:\", sub_label_set[train_ids].mean())\n",
    "    print(\"VAL POSITIVE RATIO  :\", sub_label_set[val_ids].mean())\n",
    "    print(\"LENGTH TRAIN GROUPS :\", len(set(groups[train_ids])))\n",
    "    print(\"LENGTH VAL GROUPS   :\", len(set(groups[val_ids])))\n",
    "    \n",
    "    train_ids = sub_hash_id[:, 0][train_ids]\n",
    "    val_ids = np.unique(sub_hash_id[:, 0][val_ids])\n",
    "\n",
    "    torch.cuda.empty_cache()\n",
    "    \n",
    "    # Initialize a new wandb run for this fold\n",
    "    wandb.init(project='wze-uav-5classes', name=f\"fold_{fold + 1}_{extra}\")\n",
    "    \n",
    "    # 1. Split data into train and validation set\n",
    "    # Get the training and testing data for this fold\n",
    "    # Use np.isin() to create boolean arrays indicating which indices belong to train or test sets\n",
    "    train_indices = np.isin(sub_hash_id[:,0], train_ids)\n",
    "    \n",
    "    val_indices = np.zeros_like(train_indices)  # initialize to all False\n",
    "    for hash_id_val in val_ids:\n",
    "        # select one image ID randomly from either 2020 or 2021 or 2022 for each unique hash ID in the test set\n",
    "        temp = np.unique(sub_hash_id[(sub_hash_id[:, 0] == hash_id_val), 1]) # check how many years are available per hashID\n",
    "        if len(temp) == 1:\n",
    "            year = temp[0]\n",
    "        elif len(temp) == 2:\n",
    "            year = np.random.choice(temp)\n",
    "        else:\n",
    "            year = np.random.choice(temp)\n",
    "        \n",
    "        # select image ID using the conditions\n",
    "        image_ids = sub_hash_id[(sub_hash_id[:,0] == hash_id_val) & (sub_hash_id[:,1] == year), 0]\n",
    "    \n",
    "        # mark the index corresponding to the selected image ID and hash ID as True in the test indices array\n",
    "        val_indices[(sub_hash_id[:,0] == hash_id_val) & (sub_hash_id[:,1] == year) & (np.isin(sub_hash_id[:,0], image_ids))] = True \n",
    "    \n",
    "    # Reshape boolean arrays to match shape of image_set and label_set\n",
    "    train_indices = train_indices.reshape(-1, 1)\n",
    "    val_indices = val_indices.reshape(-1, 1)\n",
    "    \n",
    "    # Select images and labels for train and validation sets\n",
    "    train_image_set = sub_image_set[train_indices[:, 0]]\n",
    "    train_label_set = sub_label_set[train_indices[:, 0]]\n",
    "    train_hash_id = sub_hash_id[train_indices[:, 0]][:,0]\n",
    "    train_species_set = sub_species_set[train_indices[:, 0]]\n",
    "    val_image_set = sub_image_set[val_indices[:, 0]]\n",
    "    val_label_set = sub_label_set[val_indices[:, 0]]\n",
    "    val_hash_id = sub_hash_id[val_indices[:, 0]][:,0]\n",
    "    val_species_set = sub_species_set[val_indices[:, 0]]\n",
    "    # reshape \n",
    "    train_label_set = train_label_set.reshape(-1, 1)\n",
    "    val_label_set = val_label_set.reshape(-1, 1)\n",
    "    train_species_set = train_species_set.reshape(-1, 1)\n",
    "    val_species_set = val_species_set.reshape(-1, 1)\n",
    "    \n",
    "    # check if there are any group overlaps between the data splits\n",
    "    hash_set = set(train_hash_id)\n",
    "    val_hash_set = set(val_hash_id)\n",
    "    test_hash_set = set(test_hash_id[:, 0].flatten())\n",
    "    intersection = hash_set.intersection(val_hash_set)\n",
    "    intersection2 = test_hash_set.intersection(val_hash_set)\n",
    "    intersection3 = hash_set.intersection(test_hash_set)\n",
    "    if intersection:\n",
    "        print(f\"Hash_id values in both train and val sets: {len(intersection)}\")\n",
    "        print(f\"Hash_id values in both test and val sets: {len(intersection2)}\")\n",
    "        print(f\"Hash_id values in both train and test sets: {len(intersection3)}\")\n",
    "    else:\n",
    "        print(\"There are no same hash_id values in train, val or test datasets. The datasplit was successful\")\n",
    "    \n",
    "         \n",
    "    print(\"Check shapes:\\n\")\n",
    "    print(f\"Images train dataset: {train_image_set.shape}\")\n",
    "    print(f\"Labels train dataset: {train_label_set.shape}\\n\")\n",
    "    \n",
    "    print(f\"Images validation dataset: {val_image_set.shape}\")\n",
    "    print(f\"Labels validation dataset: {val_label_set.shape}\\n\")\n",
    "    print('-'*50)\n",
    "    print (f\"Check if the split was stratified: (random_state=42)\")\n",
    "    print(f\"Healthy trees in train dataset: {np.count_nonzero(train_label_set == 0)}\")\n",
    "    print(f\"Moderately stressed trees in train dataset: {np.count_nonzero(train_label_set == 1)}\")\n",
    "    print(f\"Severely stressed trees in train dataset: {np.count_nonzero(train_label_set == 2)}\")\n",
    "    print(f\"Dead trees in train dataset: {np.count_nonzero(train_label_set == 3)}\")\n",
    "    print(f\"Healthy trees in validation dataset: {np.count_nonzero(val_label_set == 0)}\")\n",
    "    print(f\"Moderately stressed trees in validation dataset: {np.count_nonzero(val_label_set == 1)}\")\n",
    "    print(f\"Severely stressed trees in validation dataset: {np.count_nonzero(val_label_set == 2)}\")\n",
    "    print(f\"Dead trees in validation dataset: {np.count_nonzero(val_label_set == 3)}\")\n",
    "    print(f\"Ratio health trees in validation dataset: {np.count_nonzero(val_label_set == 0)/np.count_nonzero(sub_label_set == 0)}\")\n",
    "    print(f\"Ratio moderately stressed trees in validation dataset: {np.count_nonzero(val_label_set == 1)/np.count_nonzero(sub_label_set == 1)}\")\n",
    "    print(f\"Ratio severely stressed trees in validation dataset: {np.count_nonzero(val_label_set == 1)/np.count_nonzero(sub_label_set == 2)}\")\n",
    "    print(f\"Ratio dead trees in validation dataset: {np.count_nonzero(val_label_set == 2)/np.count_nonzero(sub_label_set == 3)}\")\n",
    "    print(\"-\"*50)\n",
    "   \n",
    "    # 2. Create train and validation dataset. (choose custom dataset loader with 3 - 5 classes)\n",
    "    print(f\"\\nCreating datasets for fold: {fold + 1}\\n\")\n",
    "    train_dataset = data_loader.CustomDataset(data=train_image_set, labels=train_label_set, class_names=class_names, species = train_species_set,\n",
    "                                                         transform=transform_train)\n",
    "    \n",
    "    val_dataset = data_loader.CustomDataset(data=val_image_set, labels=val_label_set, class_names=class_names,\n",
    "                                                       species = val_species_set, transform=transform)\n",
    "   \n",
    "    # 3. Create train and validation dataloader\n",
    "    # create sampler for oversampling of the minority classes\n",
    "    sampler = data_loader.data_sampler(dataset=train_dataset, class_names=class_names)\n",
    "    print(f\"Creating dataloaders for fold: {fold +1}\\n\")\n",
    "    train_dataloader = DataLoader(train_dataset, batch_size=batch_size, persistent_workers=True, pin_memory=True, num_workers=NUM_WORKERS, generator=g,\n",
    "                              sampler=sampler, shuffle=False, drop_last=True) # shuffle false because of the sampler\n",
    "\n",
    "    val_dataloader = DataLoader(val_dataset, batch_size=batch_size, persistent_workers=True, pin_memory=True, num_workers=NUM_WORKERS, shuffle=False,\n",
    "                             drop_last=True)\n",
    "    \n",
    "    model = model_effnet.EfficientNet.from_pretrained('efficientnet-b7', in_channels=n_bands, num_classes=num_classes, dropout_rate=dropout_rate)\n",
    "    #model = models.create_effnetb7(output_shape=num_classes, unfreeze=True, dropout_rate=dropout_rate, device=device)\n",
    "   \n",
    "    loss_fn = nn.CrossEntropyLoss()\n",
    "    optimizer = torch.optim.Adam(params=model.parameters(), lr=lr)\n",
    "    lr_scheduler = CustomExponentialLR(optimizer, gamma=gamma, min_lr=min_lr)\n",
    "\n",
    "    fold += 1\n",
    "    print(f\"\\n[INFO] Fold number: {fold}\")\n",
    "    print(f\"[INFO] Number of epochs: {epochs}\")\n",
    "    print(f\"[INFO] Number of classes: {num_classes}\")\n",
    "    print(f\"[INFO] Batch_size: {batch_size}\")\n",
    "    print(f\"[INFO] Number of bands: {n_bands}\")\n",
    "    print(f\"[INFO] Dropout rate: {dropout_rate}\")\n",
    "    print(f\"[INFO] Gamma learning rate: {gamma}\")\n",
    "    print(f\"[INFO] Memory allocated: {torch.cuda.memory_allocated()} bytes\")\n",
    "    # 4. Train model with k fold dataloaders and track experiments\n",
    "    \n",
    "    if fold == 1:\n",
    "        fold1_results = train(model=model, model_name=model_name, n_bands=n_bands, batch_size=batch_size,train_dataloader=train_dataloader, val_dataloader=val_dataloader, \n",
    "                        optimizer=optimizer, loss_fn=loss_fn, lr_scheduler=lr_scheduler, num_classes=num_classes, epochs=epochs, experiment_num=fold, device=device,\n",
    "                        writer=None, early_stop_patience = patience)\n",
    "       \n",
    "    elif fold == 2:\n",
    "        fold2_results = train(model=model, model_name=model_name, n_bands=n_bands, batch_size=batch_size,train_dataloader=train_dataloader, val_dataloader=val_dataloader, \n",
    "                        optimizer=optimizer, loss_fn=loss_fn, lr_scheduler=lr_scheduler, num_classes=num_classes, epochs=epochs, experiment_num=fold, device=device,\n",
    "                        writer=None, early_stop_patience = patience)\n",
    "    elif fold == 3:\n",
    "        fold3_results = train(model=model, model_name=model_name, n_bands=n_bands, batch_size=batch_size,train_dataloader=train_dataloader, val_dataloader=val_dataloader, \n",
    "                        optimizer=optimizer, loss_fn=loss_fn, lr_scheduler=lr_scheduler, num_classes=num_classes, epochs=epochs, experiment_num=fold, device=device,\n",
    "                        writer=None, early_stop_patience = patience)\n",
    "    elif fold == 4:\n",
    "        fold4_results = train(model=model, model_name=model_name, n_bands=n_bands, batch_size=batch_size,train_dataloader=train_dataloader, val_dataloader=val_dataloader, \n",
    "                        optimizer=optimizer, loss_fn=loss_fn, lr_scheduler=lr_scheduler, num_classes=num_classes, epochs=epochs, experiment_num=fold, device=device,\n",
    "                        writer=None, early_stop_patience = patience)\n",
    "    else:\n",
    "        fold5_results = train(model=model, model_name=model_name, n_bands=n_bands, batch_size=batch_size,train_dataloader=train_dataloader, val_dataloader=val_dataloader, \n",
    "                        optimizer=optimizer, loss_fn=loss_fn, lr_scheduler=lr_scheduler, num_classes=num_classes, epochs=epochs, experiment_num=fold, device=device,\n",
    "                        writer=None, early_stop_patience = patience)\n",
    "    \n",
    "    del train_indices, val_indices, train_image_set, train_label_set, train_hash_id, train_species_set, val_image_set, val_label_set, val_hash_id, val_species_set,\n",
    "    train_dataset, val_dataset, sampler, train_dataloader, val_dataloader, model, loss_fn, optimizer, lr_scheduler\n",
    "    \n",
    "    #finish the wandb run\n",
    "    wandb.finish()\n",
    "    print(\"Deleting variables and emptying cache\")\n",
    "    gc.collect()\n",
    "    torch.cuda.empty_cache()\n",
    "    print(f\"Memory allocated: {torch.cuda.memory_allocated()} bytes\")\n",
    "    print(\"-\"*50 + \"\\n\")"
   ]
  },
  {
   "cell_type": "markdown",
   "id": "d7402d31",
   "metadata": {},
   "source": [
    "#### Create test dataset and test dataloader "
   ]
  },
  {
   "cell_type": "code",
   "execution_count": null,
   "id": "c0c36ebb",
   "metadata": {},
   "outputs": [],
   "source": [
    "# create test dataset\n",
    "test_dataset = data_loader.CustomTestDataset(\n",
    "    data = test_image_set,\n",
    "    labels = test_label_set,\n",
    "    class_names=class_names, \n",
    "    species = test_species_set,\n",
    "    kkl = None,\n",
    "    transform=transform\n",
    ")\n",
    "\n"
   ]
  },
  {
   "cell_type": "code",
   "execution_count": null,
   "id": "5745d555",
   "metadata": {},
   "outputs": [],
   "source": [
    "# create test dataloader\n",
    "test_dataloader = DataLoader(test_dataset,\n",
    "                             batch_size=batch_size,\n",
    "                             persistent_workers=True,\n",
    "                             pin_memory=True,\n",
    "                             num_workers=NUM_WORKERS,\n",
    "                             shuffle=False,\n",
    "                             drop_last=True)"
   ]
  },
  {
   "cell_type": "markdown",
   "id": "22cdaac7",
   "metadata": {},
   "source": [
    "#### Perform ensembling of the five best models"
   ]
  },
  {
   "cell_type": "code",
   "execution_count": null,
   "id": "67db5af2",
   "metadata": {},
   "outputs": [],
   "source": [
    "# Setup the best model filepaths\n",
    "best_model1_path = r\"C:\\Users\\lwfeckesim\\01_PyTorch\\wze-uav\\wze-uav-master\\effnet_b0\\01_18_epochs.pth\"\n",
    "best_model2_path = r\"C:\\Users\\lwfeckesim\\01_PyTorch\\wze-uav\\wze-uav-master\\effnet_b0\\01_18_epochs.pth\"\n",
    "best_model3_path = r\"C:\\Users\\lwfeckesim\\01_PyTorch\\wze-uav\\wze-uav-master\\effnet_b0\\01_18_epochs.pth\"\n",
    "best_model4_path = r\"C:\\Users\\lwfeckesim\\01_PyTorch\\wze-uav\\wze-uav-master\\effnet_b0\\01_18_epochs.pth\"\n",
    "best_model5_path = r\"C:\\Users\\lwfeckesim\\01_PyTorch\\wze-uav\\wze-uav-master\\effnet_b0\\01_18_epochs.pth\"\n",
    "\n",
    "# Instantiate a new instance of EffNetB7 (to load the saved state_dict() to)\n",
    "model1 = models.create_effnetb7(output_shape=num_classes, unfreeze=unfreeze, dropout_rate=dropout_rate, device=device)\n",
    "model2 = models.create_effnetb7(output_shape=num_classes, unfreeze=unfreeze, dropout_rate=dropout_rate, device=device)\n",
    "model3 = models.create_effnetb7(output_shape=num_classes, unfreeze=unfreeze, dropout_rate=dropout_rate, device=device)\n",
    "model4 = models.create_effnetb7(output_shape=num_classes, unfreeze=unfreeze, dropout_rate=dropout_rate, device=device)\n",
    "model5 = models.create_effnetb7(output_shape=num_classes, unfreeze=unfreeze, dropout_rate=dropout_rate, device=device)\n",
    "# for custom models with more than three bands as input\n",
    "#model1 = model_effnet.EfficientNet.from_pretrained('efficientnet-b7', in_channels=n_bands, num_classes=num_classes, dropout_rate=dropout_rate)\n",
    "#model2 = model_effnet.EfficientNet.from_pretrained('efficientnet-b7', in_channels=n_bands, num_classes=num_classes, dropout_rate=dropout_rate)\n",
    "#model3 = model_effnet.EfficientNet.from_pretrained('efficientnet-b7', in_channels=n_bands, num_classes=num_classes, dropout_rate=dropout_rate)\n",
    "#model4 = model_effnet.EfficientNet.from_pretrained('efficientnet-b7', in_channels=n_bands, num_classes=num_classes, dropout_rate=dropout_rate)\n",
    "#model5 = model_effnet.EfficientNet.from_pretrained('efficientnet-b7', in_channels=n_bands, num_classes=num_classes, dropout_rate=dropout_rate)\n",
    "\n",
    "# Load the saved best model state_dict()\n",
    "model1.load_state_dict(torch.load(best_model1_path))\n",
    "model2.load_state_dict(torch.load(best_model2_path))\n",
    "model3.load_state_dict(torch.load(best_model3_path))\n",
    "model4.load_state_dict(torch.load(best_model4_path))\n",
    "model5.load_state_dict(torch.load(best_model5_path))\n",
    "\n",
    "model1.eval()\n",
    "model2.eval()\n",
    "model3.eval()\n",
    "model4.eval()\n",
    "model5.eval()\n",
    "\n",
    "# Initialize the lists to store the predictions\n",
    "all_preds_model1 = []\n",
    "all_preds_model2 = []\n",
    "all_preds_model3 = []\n",
    "all_preds_model4 = []\n",
    "all_preds_model5 = []\n",
    "\n",
    "# Loop through the test dataset and generate predictions for each model\n",
    "with torch.no_grad():\n",
    "    for batch in test_dataloader:\n",
    "        inputs, labels = batch\n",
    "        inputs, labels = inputs.to(device), labels.to(device)\n",
    "        \n",
    "        # Generate predictions for each model\n",
    "        preds_model1 = model1(inputs)\n",
    "        preds_model2 = model2(inputs)\n",
    "        preds_model3 = model3(inputs)\n",
    "        preds_model4 = model4(inputs)\n",
    "        preds_model5 = model5(inputs)\n",
    "\n",
    "        # Append the predictions to the corresponding list\n",
    "        all_preds_model1.append(preds_model1.cpu().numpy())\n",
    "        all_preds_model2.append(preds_model2.cpu().numpy())\n",
    "        all_preds_model3.append(preds_model3.cpu().numpy())\n",
    "        all_preds_model4.append(preds_model4.cpu().numpy())\n",
    "        all_preds_model5.append(preds_model5.cpu().numpy())\n",
    "\n",
    "# Concatenate the predictions from all the models\n",
    "all_preds_model1 = np.concatenate(all_preds_model1)\n",
    "all_preds_model2 = np.concatenate(all_preds_model2)\n",
    "all_preds_model3 = np.concatenate(all_preds_model3)\n",
    "all_preds_model4 = np.concatenate(all_preds_model4)\n",
    "all_preds_model5 = np.concatenate(all_preds_model5)\n",
    "\n",
    "# Calculate the ensemble predictions\n",
    "ensemble_preds = np.mean([all_preds_model1, all_preds_model2, all_preds_model3, all_preds_model4, all_preds_model5], axis=0)\n",
    "ensemble_labels = np.argmax(ensemble_preds, axis=1)\n",
    "\n",
    "# Calculate the evaluation metrics for the ensemble model\n",
    "from sklearn.metrics import classification_report, confusion_matrix\n",
    "\n",
    "print(classification_report(test_labels, ensemble_labels))\n",
    "print(confusion_matrix(test_labels, ensemble_labels))\n",
    "\n",
    "\n",
    "\n",
    "\n"
   ]
  },
  {
   "cell_type": "code",
   "execution_count": null,
   "id": "6dfbc663",
   "metadata": {},
   "outputs": [],
   "source": [
    "def make_predictions(model: torch.nn.Module, \n",
    "                     test_dataloader: torch.utils.data.DataLoader,\n",
    "                     device: torch.device):\n",
    "    # 1. Make predictions with trained model\n",
    "    y_preds = []\n",
    "    y_labels = []\n",
    "    species_list = []\n",
    "    test_loss, test_precision, test_recall, test_f1_score, test_acc = 0, 0, 0, 0, 0\n",
    "    count = 0\n",
    "    model.eval()\n",
    "    with torch.inference_mode():\n",
    "        for X, y, species in tqdm(test_dataloader, desc=\"Making predictions\"):\n",
    "            # Send data and targets to target device\n",
    "            X, y = X.to(device), y.to(device)\n",
    "            # Do the forward pass\n",
    "            y_logit = model(X)\n",
    "            # Turn predictions from logits -> prediction probabilities -> predictions labels\n",
    "            y_pred = torch.softmax(y_logit, dim=1).argmax(dim=1)\n",
    "            # Put predictions on CPU for evaluation\n",
    "            y_preds.append(y_pred.cpu())\n",
    "            y_labels.append(y.cpu())\n",
    "            species_list.append(species)\n",
    "            \n",
    "            #other metrics\n",
    "            test_acc += ((y_pred == y).sum().item()/len(y_pred))\n",
    "            y_pred_class = y_pred.detach().cpu().numpy() \n",
    "            y_class = y.detach().cpu().numpy()\n",
    "            labels = np.array([0])\n",
    "            test_precision += precision_score(y_class, y_pred_class, average='macro', zero_division=0, labels=[0,1,2])\n",
    "            test_recall += recall_score(y_class, y_pred_class, average='macro', zero_division=0, labels=[0,1,2])\n",
    "            #test_f1_score += f1_score(y_class, y_pred_class, average='macro', zero_division=1, labels=labels)\n",
    "            \n",
    "            #if count >= 1:\n",
    "            #    y_set = torch.cat((y_set, y))\n",
    "            #    count = count + 1\n",
    "            #else:\n",
    "            #    y_set = y\n",
    "            #    count = count + 1\n",
    "            \n",
    "    test_loss = test_loss / len(test_dataloader)\n",
    "    test_precision = test_precision / len(test_dataloader)\n",
    "    test_recall = test_recall / len(test_dataloader)\n",
    "    test_f1_score = test_f1_score / len(test_dataloader)\n",
    "    #test_kappa = test_kappa / len(dataloader)\n",
    "    test_acc = test_acc / len(test_dataloader)\n",
    "    # Concatenate list of predictions into a tensor\n",
    "    y_pred_tensor = torch.cat(y_preds)\n",
    "    y_labels_tensor = torch.cat(y_labels)\n",
    "    test_f1_score = f1_score(y_labels_tensor.detach().cpu().numpy(), y_pred_tensor.cpu().numpy(), average='macro', zero_division=1, labels=[0,1,2])\n",
    "    \n",
    "    # Print classification report\n",
    "    y_true = y_labels_tensor.detach().cpu().numpy()\n",
    "    report = classification_report(y_true, y_pred_tensor.cpu().numpy(), target_names=class_names)\n",
    "    print(report)\n",
    "    \n",
    "    return y_pred_tensor, y_labels_tensor, test_loss, test_recall, test_precision, test_f1_score, test_acc, y_logit, y_pred, y, y_preds"
   ]
  },
  {
   "cell_type": "code",
   "execution_count": null,
   "id": "aab9e321",
   "metadata": {},
   "outputs": [],
   "source": [
    "# 2. Setup confusion matrix instance and compare predictions to targets\n",
    "#from wze_uav.analysis import *\n",
    "y_pred_tensor, y_labels_tensor, test_loss, test_recall, test_precision, test_f1_score, test_acc, y_logit, y_pred, y, y_preds = make_predictions(model=best_model,\n",
    "                                 test_dataloader=test_dataloader, \n",
    "                                 device=device)\n",
    "\n",
    "y_labels_tensor = y_labels_tensor.detach().cpu().numpy()\n",
    "y_pred_tensor = y_pred_tensor.detach().cpu().numpy()\n",
    "\n",
    "#confmat = ConfusionMatrix(num_classes=num_classes, task='multiclass')\n",
    "#confmat_tensor = confmat(preds=y_pred_tensor,\n",
    "#                         target=test_labels)\n",
    "labels = np.array([0,1,2])\n",
    "confmat = confusion_matrix(y_labels_tensor, y_pred_tensor, labels=labels)\n",
    "\n",
    "# 3. Plot the confusion matrix\n",
    "fig, ax = plot_confusion_matrix(\n",
    "    conf_mat=confmat, # matplotlib likes working with NumPy \n",
    "    class_names=class_names, # turn the row and column labels into class names\n",
    "    figsize=(10, 7)\n",
    ");\n",
    "\n",
    "print(f\"Test loss: {test_loss}\")\n",
    "print(f\"Test precision: {test_precision}\")\n",
    "print(f\"Test recall: {test_recall}\")\n",
    "print(f\"Test F1score: {test_f1_score}\")\n",
    "#print(f\"Test Kappa: {test_kappa}\")\n",
    "print(f\"Test Accuracy: {test_acc}\")\n",
    "print(f\"Test Logits: {y_logit}\")\n",
    "print(f\"Test Predictions: {y_pred}\")\n",
    "print(f\"Test Labels: {y}\")"
   ]
  },
  {
   "cell_type": "code",
   "execution_count": null,
   "id": "8d4173b3",
   "metadata": {},
   "outputs": [],
   "source": [
    "len(y_preds)"
   ]
  },
  {
   "cell_type": "code",
   "execution_count": null,
   "id": "7588116f",
   "metadata": {},
   "outputs": [],
   "source": [
    "y_set.cpu()"
   ]
  },
  {
   "cell_type": "code",
   "execution_count": null,
   "id": "1c195b3e",
   "metadata": {},
   "outputs": [],
   "source": [
    "test_dataset.labels"
   ]
  },
  {
   "cell_type": "code",
   "execution_count": null,
   "id": "975ec08c",
   "metadata": {},
   "outputs": [],
   "source": []
  },
  {
   "cell_type": "code",
   "execution_count": null,
   "id": "6da05604",
   "metadata": {},
   "outputs": [],
   "source": [
    "y_preds = []\n",
    "y_labels = []\n",
    "labels = np.array([0,1,2])\n",
    "test_loss, test_precision, test_recall, test_f1_score, test_acc = 0, 0, 0, 0, 0\n",
    "count = 0\n",
    "model.eval()\n",
    "with torch.inference_mode():\n",
    "    for X, y in tqdm(test_dataloader, desc=\"Making predictions\"):\n",
    "        # Send data and targets to target device\n",
    "        X, y = X.to(device), y.to(device)\n",
    "        # Do the forward pass\n",
    "        y_logit = model(X)\n",
    "        # Turn predictions from logits -> prediction probabilities -> predictions labels\n",
    "        y_pred = torch.softmax(y_logit, dim=1).argmax(dim=1)\n",
    "        # Put predictions on CPU for evaluation\n",
    "        y_preds.append(y_pred.cpu())\n",
    "        y_labels.append(y.cpu())\n",
    "        \n",
    "        #other metrics\n",
    "        test_acc += ((y_pred == y).sum().item()/len(y_pred))\n",
    "        y_pred_class = y_pred.detach().cpu().numpy() \n",
    "        y_class = y.detach().cpu().numpy()\n",
    "        test_precision += precision_score(y_class, y_pred_class, average='macro', zero_division=1, labels=labels)\n",
    "        test_recall += recall_score(y_class, y_pred_class, average='macro', zero_division=1, labels=labels)\n",
    "        #test_f1_score += f1_score(y_class, y_pred_class, average='macro', zero_division=1, labels=labels)\n",
    "        \n",
    "        #if count >= 1:\n",
    "        #    y_set = torch.cat((y_set, y))\n",
    "        #    count = count + 1\n",
    "        #else:\n",
    "        #    y_set = y\n",
    "        #    count = count + 1\n",
    "        \n",
    "test_loss = test_loss / len(test_dataloader)\n",
    "test_precision = test_precision / len(test_dataloader)\n",
    "test_recall = test_recall / len(test_dataloader)\n",
    "#test_f1_score = test_f1_score / len(test_dataloader)\n",
    "#test_kappa = test_kappa / len(dataloader)\n",
    "test_acc = test_acc / len(test_dataloader)\n",
    "# Concatenate list of predictions into a tensor\n",
    "y_pred_tensor = torch.cat(y_preds)\n",
    "test_f1_score = f1_score(y_set.detach().cpu().numpy(), y_pred_tensor.cpu().numpy(), average='macro', zero_division=0, labels=[0,1,2])\n",
    "\n",
    "# Print classification report\n",
    "y_true = y_set.detach().cpu().numpy()\n",
    "report = classification_report(y_true, y_pred_tensor.cpu().numpy(), target_names=class_names)\n",
    "print(report)"
   ]
  },
  {
   "cell_type": "code",
   "execution_count": null,
   "id": "6ae97fab",
   "metadata": {},
   "outputs": [],
   "source": [
    "test_f1_score"
   ]
  },
  {
   "cell_type": "code",
   "execution_count": null,
   "id": "7ebafd9b",
   "metadata": {},
   "outputs": [],
   "source": [
    "make = (y_class == y_pred_class)\n",
    "make"
   ]
  },
  {
   "cell_type": "code",
   "execution_count": null,
   "id": "4f8aa759",
   "metadata": {},
   "outputs": [],
   "source": [
    "torch.softmax(y_logit, dim=1).argmax(dim=1)"
   ]
  },
  {
   "cell_type": "code",
   "execution_count": null,
   "id": "f90a54b2",
   "metadata": {},
   "outputs": [],
   "source": [
    "y"
   ]
  },
  {
   "cell_type": "code",
   "execution_count": null,
   "id": "5a806154",
   "metadata": {},
   "outputs": [],
   "source": [
    "test = (y_pred == y).sum().item()/16"
   ]
  },
  {
   "cell_type": "code",
   "execution_count": null,
   "id": "1da35c56",
   "metadata": {},
   "outputs": [],
   "source": [
    "test"
   ]
  },
  {
   "cell_type": "code",
   "execution_count": null,
   "id": "b1eb246e",
   "metadata": {},
   "outputs": [],
   "source": [
    " y_pred_class = y_pred.detach().cpu().numpy() "
   ]
  },
  {
   "cell_type": "code",
   "execution_count": null,
   "id": "602e096f",
   "metadata": {},
   "outputs": [],
   "source": [
    "y_pred_class"
   ]
  },
  {
   "cell_type": "code",
   "execution_count": null,
   "id": "eaf1af09",
   "metadata": {},
   "outputs": [],
   "source": []
  }
 ],
 "metadata": {
  "kernelspec": {
   "display_name": "Python 3 (ipykernel)",
   "language": "python",
   "name": "python3"
  },
  "language_info": {
   "codemirror_mode": {
    "name": "ipython",
    "version": 3
   },
   "file_extension": ".py",
   "mimetype": "text/x-python",
   "name": "python",
   "nbconvert_exporter": "python",
   "pygments_lexer": "ipython3",
   "version": "3.9.16"
  }
 },
 "nbformat": 4,
 "nbformat_minor": 5
}
