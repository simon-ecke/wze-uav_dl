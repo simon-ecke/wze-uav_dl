{
 "cells": [
  {
   "cell_type": "markdown",
   "id": "c1acdaa3",
   "metadata": {},
   "source": [
    "# WZE-UAV Image Classification using Deep Learning"
   ]
  },
  {
   "cell_type": "code",
   "execution_count": 1,
   "id": "2159aac5",
   "metadata": {},
   "outputs": [],
   "source": [
    "import os\n",
    "import gc\n",
    "import glob\n",
    "import numpy as np\n",
    "from pathlib import Path\n",
    "from tqdm.auto import tqdm\n",
    "from sklearn.metrics import confusion_matrix, classification_report\n",
    "from sklearn.model_selection import KFold"
   ]
  },
  {
   "cell_type": "code",
   "execution_count": 2,
   "id": "0026f7a9",
   "metadata": {},
   "outputs": [],
   "source": [
    "import torch\n",
    "import torchvision.transforms as T\n",
    "import torchvision\n",
    "from torch import nn\n",
    "from torch.utils.data import DataLoader\n",
    "from torchvision import datasets, transforms\n",
    "from torch.utils.data import Dataset\n",
    "import torch.optim as optim\n",
    "from torch.optim.lr_scheduler import ExponentialLR\n",
    "from mlxtend.plotting import plot_confusion_matrix"
   ]
  },
  {
   "cell_type": "code",
   "execution_count": 3,
   "id": "b160d7b4",
   "metadata": {},
   "outputs": [],
   "source": [
    "import wze_uav.data_loader as data_loader\n",
    "import wze_uav.models as models\n",
    "from wze_uav.engine import *\n",
    "from wze_uav.utils2 import *\n",
    "#from wze_uav.log_writer import create_writer\n",
    "from wze_uav.datasplit import *\n",
    "from efficientnet import model_effnet #for custom effnet with n_channels input\n",
    "import wandb"
   ]
  },
  {
   "cell_type": "markdown",
   "id": "2bd4fb2f",
   "metadata": {},
   "source": [
    "#### Get PyTorch version"
   ]
  },
  {
   "cell_type": "code",
   "execution_count": 4,
   "id": "c10886b1",
   "metadata": {},
   "outputs": [
    {
     "name": "stdout",
     "output_type": "stream",
     "text": [
      "torch version: 1.13.1+cu116\n",
      "torchvision version: 0.14.1+cu116\n"
     ]
    }
   ],
   "source": [
    "print(f\"torch version: {torch.__version__}\")\n",
    "print(f\"torchvision version: {torchvision.__version__}\")"
   ]
  },
  {
   "cell_type": "markdown",
   "id": "aa6a83cf",
   "metadata": {},
   "source": [
    "#### Preparing device agnostic code "
   ]
  },
  {
   "cell_type": "code",
   "execution_count": 5,
   "id": "13d5de88",
   "metadata": {},
   "outputs": [
    {
     "name": "stdout",
     "output_type": "stream",
     "text": [
      "cuda\n",
      "Index of current divice: 0\n",
      "Number of GPUs available: 1\n",
      "GPU Model: Quadro RTX 8000\n"
     ]
    }
   ],
   "source": [
    "# ensure device agnostic code\n",
    "device = 'cuda' if torch.cuda.is_available() else 'cpu'\n",
    "print(device)\n",
    "\n",
    "# get index of currently selected device\n",
    "print(f\"Index of current divice: {torch.cuda.current_device()}\")\n",
    "# get number of GPUs available\n",
    "print(f\"Number of GPUs available: {torch.cuda.device_count()}\")\n",
    "# get the name of the device\n",
    "print(f\"GPU Model: {torch.cuda.get_device_name(0)}\")"
   ]
  },
  {
   "cell_type": "markdown",
   "id": "8ef6b169",
   "metadata": {},
   "source": [
    "#### Login to Weights & Biases to track results"
   ]
  },
  {
   "cell_type": "code",
   "execution_count": 6,
   "id": "a59d27cf",
   "metadata": {},
   "outputs": [
    {
     "name": "stderr",
     "output_type": "stream",
     "text": [
      "Failed to detect the name of this notebook, you can set it manually with the WANDB_NOTEBOOK_NAME environment variable to enable code saving.\n",
      "\u001b[34m\u001b[1mwandb\u001b[0m: Currently logged in as: \u001b[33msimon-ecke\u001b[0m. Use \u001b[1m`wandb login --relogin`\u001b[0m to force relogin\n"
     ]
    },
    {
     "data": {
      "text/html": [
       "Tracking run with wandb version 0.14.2"
      ],
      "text/plain": [
       "<IPython.core.display.HTML object>"
      ]
     },
     "metadata": {},
     "output_type": "display_data"
    },
    {
     "data": {
      "text/html": [
       "Run data is saved locally in <code>C:\\Users\\lwfeckesim\\01_PyTorch\\wze-uav\\wze-uav-master\\wandb\\run-20230417_105627-3iheo4x6</code>"
      ],
      "text/plain": [
       "<IPython.core.display.HTML object>"
      ]
     },
     "metadata": {},
     "output_type": "display_data"
    },
    {
     "data": {
      "text/html": [
       "Syncing run <strong><a href='https://wandb.ai/simon-ecke/wze-uav/runs/3iheo4x6' target=\"_blank\">glowing-totem-93</a></strong> to <a href='https://wandb.ai/simon-ecke/wze-uav' target=\"_blank\">Weights & Biases</a> (<a href='https://wandb.me/run' target=\"_blank\">docs</a>)<br/>"
      ],
      "text/plain": [
       "<IPython.core.display.HTML object>"
      ]
     },
     "metadata": {},
     "output_type": "display_data"
    },
    {
     "data": {
      "text/html": [
       " View project at <a href='https://wandb.ai/simon-ecke/wze-uav' target=\"_blank\">https://wandb.ai/simon-ecke/wze-uav</a>"
      ],
      "text/plain": [
       "<IPython.core.display.HTML object>"
      ]
     },
     "metadata": {},
     "output_type": "display_data"
    },
    {
     "data": {
      "text/html": [
       " View run at <a href='https://wandb.ai/simon-ecke/wze-uav/runs/3iheo4x6' target=\"_blank\">https://wandb.ai/simon-ecke/wze-uav/runs/3iheo4x6</a>"
      ],
      "text/plain": [
       "<IPython.core.display.HTML object>"
      ]
     },
     "metadata": {},
     "output_type": "display_data"
    },
    {
     "data": {
      "text/html": [
       "<button onClick=\"this.nextSibling.style.display='block';this.style.display='none';\">Display W&B run</button><iframe src='https://wandb.ai/simon-ecke/wze-uav/runs/3iheo4x6?jupyter=true' style='border:none;width:100%;height:420px;display:none;'></iframe>"
      ],
      "text/plain": [
       "<wandb.sdk.wandb_run.Run at 0x1c70918d730>"
      ]
     },
     "execution_count": 6,
     "metadata": {},
     "output_type": "execute_result"
    }
   ],
   "source": [
    "# IMPORTANT: The proxy needs to be set in anaconda!\n",
    "wandb.login()\n",
    "#wandb.init(settings=wandb.Settings(start_method=\"thread\"))\n",
    "wandb.init(project='wze-uav', entity='simon-ecke')"
   ]
  },
  {
   "cell_type": "markdown",
   "id": "a26a6a34",
   "metadata": {},
   "source": [
    "#### Ensure reproducibility "
   ]
  },
  {
   "cell_type": "code",
   "execution_count": 7,
   "id": "dd4656a7",
   "metadata": {},
   "outputs": [],
   "source": [
    "# for more information, see also: https://pytorch.org/docs/stable/notes/randomness.html\n",
    "\n",
    "# Set seeds\n",
    "def set_seeds(seed: int=42):\n",
    "    \"\"\"Sets random sets for torch operations.\n",
    "\n",
    "    Args:\n",
    "        seed (int, optional): Random seed to set. Defaults to 42.\n",
    "    \"\"\"\n",
    "    # Set the seed for general torch operations\n",
    "    torch.manual_seed(seed)\n",
    "    # Set the seed for CUDA torch operations (ones that happen on the GPU)\n",
    "    torch.cuda.manual_seed(seed)\n",
    "    # seed for numpy\n",
    "    np.random.seed(seed)\n",
    "\n",
    "set_seeds(42) \n",
    "\n",
    "# Set to true -> might speed up the process but should be set to False if reproducible results are desired\n",
    "torch.backends.cudnn.benchmark = False\n"
   ]
  },
  {
   "cell_type": "markdown",
   "id": "8be33671",
   "metadata": {},
   "source": [
    "#### Define file directory"
   ]
  },
  {
   "cell_type": "code",
   "execution_count": 9,
   "id": "30645f36",
   "metadata": {},
   "outputs": [],
   "source": [
    "#####################################################################################\n",
    "# 3 channel input (r-g-b)\n",
    "data_path = r\"D:\\Drohnendaten\\10_WZE-UAV\\Auswertung_findatree\\Datasplit\\ROI\\rgb\"\n",
    "\n",
    "# 4 channel input (r-g-b-nir)\n",
    "#data_path = r\"D:\\Drohnendaten\\10_WZE-UAV\\Auswertung_findatree\\Datasplit\\ROI\\rgb-nir\"\n",
    "\n",
    "# 5 channel input (r-g-b-re-nir)\n",
    "#data_path = r\"D:\\Drohnendaten\\10_WZE-UAV\\Auswertung_findatree\\Datasplit\\ROI\\rgb-re-nir\"\n",
    "#####################################################################################"
   ]
  },
  {
   "cell_type": "markdown",
   "id": "4560ce64",
   "metadata": {},
   "source": [
    "#### Get all file paths"
   ]
  },
  {
   "cell_type": "code",
   "execution_count": 10,
   "id": "aa072e4c",
   "metadata": {},
   "outputs": [],
   "source": [
    "fn_list = os.listdir(data_path)\n",
    "path_list = []\n",
    "# Iterate over all datafiles\n",
    "for year in fn_list:\n",
    "    year_dir = f'{data_path}\\\\{year}'\n",
    "    for filename in os.listdir(year_dir):\n",
    "        path = f'{year_dir}\\\\{filename}'\n",
    "        path_list.append(path)"
   ]
  },
  {
   "cell_type": "code",
   "execution_count": 11,
   "id": "a46baae4",
   "metadata": {},
   "outputs": [
    {
     "data": {
      "text/plain": [
       "['D:\\\\Drohnendaten\\\\10_WZE-UAV\\\\Auswertung_findatree\\\\Datasplit\\\\ROI\\\\rgb\\\\2020\\\\tnr10527_rois.hdf5',\n",
       " 'D:\\\\Drohnendaten\\\\10_WZE-UAV\\\\Auswertung_findatree\\\\Datasplit\\\\ROI\\\\rgb\\\\2020\\\\tnr10533_rois.hdf5',\n",
       " 'D:\\\\Drohnendaten\\\\10_WZE-UAV\\\\Auswertung_findatree\\\\Datasplit\\\\ROI\\\\rgb\\\\2020\\\\tnr10545_rois.hdf5',\n",
       " 'D:\\\\Drohnendaten\\\\10_WZE-UAV\\\\Auswertung_findatree\\\\Datasplit\\\\ROI\\\\rgb\\\\2020\\\\tnr10547_rois.hdf5',\n",
       " 'D:\\\\Drohnendaten\\\\10_WZE-UAV\\\\Auswertung_findatree\\\\Datasplit\\\\ROI\\\\rgb\\\\2020\\\\tnr10912_rois.hdf5',\n",
       " 'D:\\\\Drohnendaten\\\\10_WZE-UAV\\\\Auswertung_findatree\\\\Datasplit\\\\ROI\\\\rgb\\\\2020\\\\tnr11032_rois.hdf5',\n",
       " 'D:\\\\Drohnendaten\\\\10_WZE-UAV\\\\Auswertung_findatree\\\\Datasplit\\\\ROI\\\\rgb\\\\2020\\\\tnr11040_rois.hdf5',\n",
       " 'D:\\\\Drohnendaten\\\\10_WZE-UAV\\\\Auswertung_findatree\\\\Datasplit\\\\ROI\\\\rgb\\\\2020\\\\tnr11044_rois.hdf5',\n",
       " 'D:\\\\Drohnendaten\\\\10_WZE-UAV\\\\Auswertung_findatree\\\\Datasplit\\\\ROI\\\\rgb\\\\2020\\\\tnr11048_rois.hdf5',\n",
       " 'D:\\\\Drohnendaten\\\\10_WZE-UAV\\\\Auswertung_findatree\\\\Datasplit\\\\ROI\\\\rgb\\\\2020\\\\tnr11052_rois.hdf5',\n",
       " 'D:\\\\Drohnendaten\\\\10_WZE-UAV\\\\Auswertung_findatree\\\\Datasplit\\\\ROI\\\\rgb\\\\2020\\\\tnr11056_rois.hdf5',\n",
       " 'D:\\\\Drohnendaten\\\\10_WZE-UAV\\\\Auswertung_findatree\\\\Datasplit\\\\ROI\\\\rgb\\\\2020\\\\tnr11078_rois.hdf5',\n",
       " 'D:\\\\Drohnendaten\\\\10_WZE-UAV\\\\Auswertung_findatree\\\\Datasplit\\\\ROI\\\\rgb\\\\2020\\\\tnr11080_rois.hdf5',\n",
       " 'D:\\\\Drohnendaten\\\\10_WZE-UAV\\\\Auswertung_findatree\\\\Datasplit\\\\ROI\\\\rgb\\\\2020\\\\tnr11090_rois.hdf5',\n",
       " 'D:\\\\Drohnendaten\\\\10_WZE-UAV\\\\Auswertung_findatree\\\\Datasplit\\\\ROI\\\\rgb\\\\2020\\\\tnr11092_rois.hdf5',\n",
       " 'D:\\\\Drohnendaten\\\\10_WZE-UAV\\\\Auswertung_findatree\\\\Datasplit\\\\ROI\\\\rgb\\\\2020\\\\tnr11179_rois.hdf5',\n",
       " 'D:\\\\Drohnendaten\\\\10_WZE-UAV\\\\Auswertung_findatree\\\\Datasplit\\\\ROI\\\\rgb\\\\2020\\\\tnr11189_rois.hdf5',\n",
       " 'D:\\\\Drohnendaten\\\\10_WZE-UAV\\\\Auswertung_findatree\\\\Datasplit\\\\ROI\\\\rgb\\\\2020\\\\tnr11325_rois.hdf5',\n",
       " 'D:\\\\Drohnendaten\\\\10_WZE-UAV\\\\Auswertung_findatree\\\\Datasplit\\\\ROI\\\\rgb\\\\2020\\\\tnr11327_rois.hdf5',\n",
       " 'D:\\\\Drohnendaten\\\\10_WZE-UAV\\\\Auswertung_findatree\\\\Datasplit\\\\ROI\\\\rgb\\\\2020\\\\tnr11453_rois.hdf5',\n",
       " 'D:\\\\Drohnendaten\\\\10_WZE-UAV\\\\Auswertung_findatree\\\\Datasplit\\\\ROI\\\\rgb\\\\2020\\\\tnr11459_rois.hdf5',\n",
       " 'D:\\\\Drohnendaten\\\\10_WZE-UAV\\\\Auswertung_findatree\\\\Datasplit\\\\ROI\\\\rgb\\\\2020\\\\tnr11576_rois.hdf5',\n",
       " 'D:\\\\Drohnendaten\\\\10_WZE-UAV\\\\Auswertung_findatree\\\\Datasplit\\\\ROI\\\\rgb\\\\2020\\\\tnr11581_rois.hdf5',\n",
       " 'D:\\\\Drohnendaten\\\\10_WZE-UAV\\\\Auswertung_findatree\\\\Datasplit\\\\ROI\\\\rgb\\\\2020\\\\tnr11597_rois.hdf5',\n",
       " 'D:\\\\Drohnendaten\\\\10_WZE-UAV\\\\Auswertung_findatree\\\\Datasplit\\\\ROI\\\\rgb\\\\2020\\\\tnr11601_rois.hdf5',\n",
       " 'D:\\\\Drohnendaten\\\\10_WZE-UAV\\\\Auswertung_findatree\\\\Datasplit\\\\ROI\\\\rgb\\\\2020\\\\tnr11622_rois.hdf5',\n",
       " 'D:\\\\Drohnendaten\\\\10_WZE-UAV\\\\Auswertung_findatree\\\\Datasplit\\\\ROI\\\\rgb\\\\2020\\\\tnr11626_rois.hdf5',\n",
       " 'D:\\\\Drohnendaten\\\\10_WZE-UAV\\\\Auswertung_findatree\\\\Datasplit\\\\ROI\\\\rgb\\\\2020\\\\tnr11638_rois.hdf5',\n",
       " 'D:\\\\Drohnendaten\\\\10_WZE-UAV\\\\Auswertung_findatree\\\\Datasplit\\\\ROI\\\\rgb\\\\2020\\\\tnr11640_rois.hdf5',\n",
       " 'D:\\\\Drohnendaten\\\\10_WZE-UAV\\\\Auswertung_findatree\\\\Datasplit\\\\ROI\\\\rgb\\\\2020\\\\tnr11727_rois.hdf5',\n",
       " 'D:\\\\Drohnendaten\\\\10_WZE-UAV\\\\Auswertung_findatree\\\\Datasplit\\\\ROI\\\\rgb\\\\2020\\\\tnr11733_rois.hdf5',\n",
       " 'D:\\\\Drohnendaten\\\\10_WZE-UAV\\\\Auswertung_findatree\\\\Datasplit\\\\ROI\\\\rgb\\\\2020\\\\tnr11866_rois.hdf5',\n",
       " 'D:\\\\Drohnendaten\\\\10_WZE-UAV\\\\Auswertung_findatree\\\\Datasplit\\\\ROI\\\\rgb\\\\2020\\\\tnr11874_rois.hdf5',\n",
       " 'D:\\\\Drohnendaten\\\\10_WZE-UAV\\\\Auswertung_findatree\\\\Datasplit\\\\ROI\\\\rgb\\\\2020\\\\tnr11878_rois.hdf5',\n",
       " 'D:\\\\Drohnendaten\\\\10_WZE-UAV\\\\Auswertung_findatree\\\\Datasplit\\\\ROI\\\\rgb\\\\2020\\\\tnr11_rois.hdf5',\n",
       " 'D:\\\\Drohnendaten\\\\10_WZE-UAV\\\\Auswertung_findatree\\\\Datasplit\\\\ROI\\\\rgb\\\\2020\\\\tnr12013_rois.hdf5',\n",
       " 'D:\\\\Drohnendaten\\\\10_WZE-UAV\\\\Auswertung_findatree\\\\Datasplit\\\\ROI\\\\rgb\\\\2020\\\\tnr12019_rois.hdf5',\n",
       " 'D:\\\\Drohnendaten\\\\10_WZE-UAV\\\\Auswertung_findatree\\\\Datasplit\\\\ROI\\\\rgb\\\\2020\\\\tnr12120_rois.hdf5',\n",
       " 'D:\\\\Drohnendaten\\\\10_WZE-UAV\\\\Auswertung_findatree\\\\Datasplit\\\\ROI\\\\rgb\\\\2020\\\\tnr12124_rois.hdf5',\n",
       " 'D:\\\\Drohnendaten\\\\10_WZE-UAV\\\\Auswertung_findatree\\\\Datasplit\\\\ROI\\\\rgb\\\\2020\\\\tnr12153_rois.hdf5',\n",
       " 'D:\\\\Drohnendaten\\\\10_WZE-UAV\\\\Auswertung_findatree\\\\Datasplit\\\\ROI\\\\rgb\\\\2020\\\\tnr12161_rois.hdf5',\n",
       " 'D:\\\\Drohnendaten\\\\10_WZE-UAV\\\\Auswertung_findatree\\\\Datasplit\\\\ROI\\\\rgb\\\\2020\\\\tnr12169_rois.hdf5',\n",
       " 'D:\\\\Drohnendaten\\\\10_WZE-UAV\\\\Auswertung_findatree\\\\Datasplit\\\\ROI\\\\rgb\\\\2020\\\\tnr12179_rois.hdf5',\n",
       " 'D:\\\\Drohnendaten\\\\10_WZE-UAV\\\\Auswertung_findatree\\\\Datasplit\\\\ROI\\\\rgb\\\\2020\\\\tnr12285_rois.hdf5',\n",
       " 'D:\\\\Drohnendaten\\\\10_WZE-UAV\\\\Auswertung_findatree\\\\Datasplit\\\\ROI\\\\rgb\\\\2020\\\\tnr12426_rois.hdf5',\n",
       " 'D:\\\\Drohnendaten\\\\10_WZE-UAV\\\\Auswertung_findatree\\\\Datasplit\\\\ROI\\\\rgb\\\\2020\\\\tnr12549_rois.hdf5',\n",
       " 'D:\\\\Drohnendaten\\\\10_WZE-UAV\\\\Auswertung_findatree\\\\Datasplit\\\\ROI\\\\rgb\\\\2020\\\\tnr12553_rois.hdf5',\n",
       " 'D:\\\\Drohnendaten\\\\10_WZE-UAV\\\\Auswertung_findatree\\\\Datasplit\\\\ROI\\\\rgb\\\\2020\\\\tnr12557_rois.hdf5',\n",
       " 'D:\\\\Drohnendaten\\\\10_WZE-UAV\\\\Auswertung_findatree\\\\Datasplit\\\\ROI\\\\rgb\\\\2020\\\\tnr12673_rois.hdf5',\n",
       " 'D:\\\\Drohnendaten\\\\10_WZE-UAV\\\\Auswertung_findatree\\\\Datasplit\\\\ROI\\\\rgb\\\\2020\\\\tnr12678_rois.hdf5',\n",
       " 'D:\\\\Drohnendaten\\\\10_WZE-UAV\\\\Auswertung_findatree\\\\Datasplit\\\\ROI\\\\rgb\\\\2020\\\\tnr12694_rois.hdf5',\n",
       " 'D:\\\\Drohnendaten\\\\10_WZE-UAV\\\\Auswertung_findatree\\\\Datasplit\\\\ROI\\\\rgb\\\\2020\\\\tnr12698_rois.hdf5',\n",
       " 'D:\\\\Drohnendaten\\\\10_WZE-UAV\\\\Auswertung_findatree\\\\Datasplit\\\\ROI\\\\rgb\\\\2020\\\\tnr12702_rois.hdf5',\n",
       " 'D:\\\\Drohnendaten\\\\10_WZE-UAV\\\\Auswertung_findatree\\\\Datasplit\\\\ROI\\\\rgb\\\\2020\\\\tnr12713_rois.hdf5',\n",
       " 'D:\\\\Drohnendaten\\\\10_WZE-UAV\\\\Auswertung_findatree\\\\Datasplit\\\\ROI\\\\rgb\\\\2020\\\\tnr12715_rois.hdf5',\n",
       " 'D:\\\\Drohnendaten\\\\10_WZE-UAV\\\\Auswertung_findatree\\\\Datasplit\\\\ROI\\\\rgb\\\\2020\\\\tnr12717_rois.hdf5',\n",
       " 'D:\\\\Drohnendaten\\\\10_WZE-UAV\\\\Auswertung_findatree\\\\Datasplit\\\\ROI\\\\rgb\\\\2020\\\\tnr12719_rois.hdf5',\n",
       " 'D:\\\\Drohnendaten\\\\10_WZE-UAV\\\\Auswertung_findatree\\\\Datasplit\\\\ROI\\\\rgb\\\\2020\\\\tnr12950_rois.hdf5',\n",
       " 'D:\\\\Drohnendaten\\\\10_WZE-UAV\\\\Auswertung_findatree\\\\Datasplit\\\\ROI\\\\rgb\\\\2020\\\\tnr12960_rois.hdf5',\n",
       " 'D:\\\\Drohnendaten\\\\10_WZE-UAV\\\\Auswertung_findatree\\\\Datasplit\\\\ROI\\\\rgb\\\\2020\\\\tnr13212_rois.hdf5',\n",
       " 'D:\\\\Drohnendaten\\\\10_WZE-UAV\\\\Auswertung_findatree\\\\Datasplit\\\\ROI\\\\rgb\\\\2020\\\\tnr13225_rois.hdf5',\n",
       " 'D:\\\\Drohnendaten\\\\10_WZE-UAV\\\\Auswertung_findatree\\\\Datasplit\\\\ROI\\\\rgb\\\\2020\\\\tnr13233_rois.hdf5',\n",
       " 'D:\\\\Drohnendaten\\\\10_WZE-UAV\\\\Auswertung_findatree\\\\Datasplit\\\\ROI\\\\rgb\\\\2020\\\\tnr13259_rois.hdf5',\n",
       " 'D:\\\\Drohnendaten\\\\10_WZE-UAV\\\\Auswertung_findatree\\\\Datasplit\\\\ROI\\\\rgb\\\\2020\\\\tnr13508_rois.hdf5',\n",
       " 'D:\\\\Drohnendaten\\\\10_WZE-UAV\\\\Auswertung_findatree\\\\Datasplit\\\\ROI\\\\rgb\\\\2020\\\\tnr13758_rois.hdf5',\n",
       " 'D:\\\\Drohnendaten\\\\10_WZE-UAV\\\\Auswertung_findatree\\\\Datasplit\\\\ROI\\\\rgb\\\\2020\\\\tnr13766_rois.hdf5',\n",
       " 'D:\\\\Drohnendaten\\\\10_WZE-UAV\\\\Auswertung_findatree\\\\Datasplit\\\\ROI\\\\rgb\\\\2020\\\\tnr13779_rois.hdf5',\n",
       " 'D:\\\\Drohnendaten\\\\10_WZE-UAV\\\\Auswertung_findatree\\\\Datasplit\\\\ROI\\\\rgb\\\\2020\\\\tnr13819_rois.hdf5',\n",
       " 'D:\\\\Drohnendaten\\\\10_WZE-UAV\\\\Auswertung_findatree\\\\Datasplit\\\\ROI\\\\rgb\\\\2020\\\\tnr1381_rois.hdf5',\n",
       " 'D:\\\\Drohnendaten\\\\10_WZE-UAV\\\\Auswertung_findatree\\\\Datasplit\\\\ROI\\\\rgb\\\\2020\\\\tnr13825_rois.hdf5',\n",
       " 'D:\\\\Drohnendaten\\\\10_WZE-UAV\\\\Auswertung_findatree\\\\Datasplit\\\\ROI\\\\rgb\\\\2020\\\\tnr13898_rois.hdf5',\n",
       " 'D:\\\\Drohnendaten\\\\10_WZE-UAV\\\\Auswertung_findatree\\\\Datasplit\\\\ROI\\\\rgb\\\\2020\\\\tnr13922_rois.hdf5',\n",
       " 'D:\\\\Drohnendaten\\\\10_WZE-UAV\\\\Auswertung_findatree\\\\Datasplit\\\\ROI\\\\rgb\\\\2020\\\\tnr14156_rois.hdf5',\n",
       " 'D:\\\\Drohnendaten\\\\10_WZE-UAV\\\\Auswertung_findatree\\\\Datasplit\\\\ROI\\\\rgb\\\\2020\\\\tnr14293_rois.hdf5',\n",
       " 'D:\\\\Drohnendaten\\\\10_WZE-UAV\\\\Auswertung_findatree\\\\Datasplit\\\\ROI\\\\rgb\\\\2020\\\\tnr14327_rois.hdf5',\n",
       " 'D:\\\\Drohnendaten\\\\10_WZE-UAV\\\\Auswertung_findatree\\\\Datasplit\\\\ROI\\\\rgb\\\\2020\\\\tnr14666_rois.hdf5',\n",
       " 'D:\\\\Drohnendaten\\\\10_WZE-UAV\\\\Auswertung_findatree\\\\Datasplit\\\\ROI\\\\rgb\\\\2020\\\\tnr14723_rois.hdf5',\n",
       " 'D:\\\\Drohnendaten\\\\10_WZE-UAV\\\\Auswertung_findatree\\\\Datasplit\\\\ROI\\\\rgb\\\\2020\\\\tnr14727_rois.hdf5',\n",
       " 'D:\\\\Drohnendaten\\\\10_WZE-UAV\\\\Auswertung_findatree\\\\Datasplit\\\\ROI\\\\rgb\\\\2020\\\\tnr14732_rois.hdf5',\n",
       " 'D:\\\\Drohnendaten\\\\10_WZE-UAV\\\\Auswertung_findatree\\\\Datasplit\\\\ROI\\\\rgb\\\\2020\\\\tnr14781_rois.hdf5',\n",
       " 'D:\\\\Drohnendaten\\\\10_WZE-UAV\\\\Auswertung_findatree\\\\Datasplit\\\\ROI\\\\rgb\\\\2020\\\\tnr14877_rois.hdf5',\n",
       " 'D:\\\\Drohnendaten\\\\10_WZE-UAV\\\\Auswertung_findatree\\\\Datasplit\\\\ROI\\\\rgb\\\\2020\\\\tnr14879_rois.hdf5',\n",
       " 'D:\\\\Drohnendaten\\\\10_WZE-UAV\\\\Auswertung_findatree\\\\Datasplit\\\\ROI\\\\rgb\\\\2020\\\\tnr14887_rois.hdf5',\n",
       " 'D:\\\\Drohnendaten\\\\10_WZE-UAV\\\\Auswertung_findatree\\\\Datasplit\\\\ROI\\\\rgb\\\\2020\\\\tnr15016_rois.hdf5',\n",
       " 'D:\\\\Drohnendaten\\\\10_WZE-UAV\\\\Auswertung_findatree\\\\Datasplit\\\\ROI\\\\rgb\\\\2020\\\\tnr15020_rois.hdf5',\n",
       " 'D:\\\\Drohnendaten\\\\10_WZE-UAV\\\\Auswertung_findatree\\\\Datasplit\\\\ROI\\\\rgb\\\\2020\\\\tnr15027_rois.hdf5',\n",
       " 'D:\\\\Drohnendaten\\\\10_WZE-UAV\\\\Auswertung_findatree\\\\Datasplit\\\\ROI\\\\rgb\\\\2020\\\\tnr15031_rois.hdf5',\n",
       " 'D:\\\\Drohnendaten\\\\10_WZE-UAV\\\\Auswertung_findatree\\\\Datasplit\\\\ROI\\\\rgb\\\\2020\\\\tnr15035_rois.hdf5',\n",
       " 'D:\\\\Drohnendaten\\\\10_WZE-UAV\\\\Auswertung_findatree\\\\Datasplit\\\\ROI\\\\rgb\\\\2020\\\\tnr15039_rois.hdf5',\n",
       " 'D:\\\\Drohnendaten\\\\10_WZE-UAV\\\\Auswertung_findatree\\\\Datasplit\\\\ROI\\\\rgb\\\\2020\\\\tnr15043_rois.hdf5',\n",
       " 'D:\\\\Drohnendaten\\\\10_WZE-UAV\\\\Auswertung_findatree\\\\Datasplit\\\\ROI\\\\rgb\\\\2020\\\\tnr15046_rois.hdf5',\n",
       " 'D:\\\\Drohnendaten\\\\10_WZE-UAV\\\\Auswertung_findatree\\\\Datasplit\\\\ROI\\\\rgb\\\\2020\\\\tnr15050_rois.hdf5',\n",
       " 'D:\\\\Drohnendaten\\\\10_WZE-UAV\\\\Auswertung_findatree\\\\Datasplit\\\\ROI\\\\rgb\\\\2020\\\\tnr15101_rois.hdf5',\n",
       " 'D:\\\\Drohnendaten\\\\10_WZE-UAV\\\\Auswertung_findatree\\\\Datasplit\\\\ROI\\\\rgb\\\\2020\\\\tnr15273_rois.hdf5',\n",
       " 'D:\\\\Drohnendaten\\\\10_WZE-UAV\\\\Auswertung_findatree\\\\Datasplit\\\\ROI\\\\rgb\\\\2020\\\\tnr15277_rois.hdf5',\n",
       " 'D:\\\\Drohnendaten\\\\10_WZE-UAV\\\\Auswertung_findatree\\\\Datasplit\\\\ROI\\\\rgb\\\\2020\\\\tnr15297_rois.hdf5',\n",
       " 'D:\\\\Drohnendaten\\\\10_WZE-UAV\\\\Auswertung_findatree\\\\Datasplit\\\\ROI\\\\rgb\\\\2020\\\\tnr15299_rois.hdf5',\n",
       " 'D:\\\\Drohnendaten\\\\10_WZE-UAV\\\\Auswertung_findatree\\\\Datasplit\\\\ROI\\\\rgb\\\\2020\\\\tnr15301_rois.hdf5',\n",
       " 'D:\\\\Drohnendaten\\\\10_WZE-UAV\\\\Auswertung_findatree\\\\Datasplit\\\\ROI\\\\rgb\\\\2020\\\\tnr15303_rois.hdf5',\n",
       " 'D:\\\\Drohnendaten\\\\10_WZE-UAV\\\\Auswertung_findatree\\\\Datasplit\\\\ROI\\\\rgb\\\\2020\\\\tnr15306_rois.hdf5',\n",
       " 'D:\\\\Drohnendaten\\\\10_WZE-UAV\\\\Auswertung_findatree\\\\Datasplit\\\\ROI\\\\rgb\\\\2020\\\\tnr15311_rois.hdf5',\n",
       " 'D:\\\\Drohnendaten\\\\10_WZE-UAV\\\\Auswertung_findatree\\\\Datasplit\\\\ROI\\\\rgb\\\\2020\\\\tnr15313_rois.hdf5',\n",
       " 'D:\\\\Drohnendaten\\\\10_WZE-UAV\\\\Auswertung_findatree\\\\Datasplit\\\\ROI\\\\rgb\\\\2020\\\\tnr15319_rois.hdf5',\n",
       " 'D:\\\\Drohnendaten\\\\10_WZE-UAV\\\\Auswertung_findatree\\\\Datasplit\\\\ROI\\\\rgb\\\\2020\\\\tnr15327_rois.hdf5',\n",
       " 'D:\\\\Drohnendaten\\\\10_WZE-UAV\\\\Auswertung_findatree\\\\Datasplit\\\\ROI\\\\rgb\\\\2020\\\\tnr15519_rois.hdf5',\n",
       " 'D:\\\\Drohnendaten\\\\10_WZE-UAV\\\\Auswertung_findatree\\\\Datasplit\\\\ROI\\\\rgb\\\\2020\\\\tnr15521_rois.hdf5',\n",
       " 'D:\\\\Drohnendaten\\\\10_WZE-UAV\\\\Auswertung_findatree\\\\Datasplit\\\\ROI\\\\rgb\\\\2020\\\\tnr15531_rois.hdf5',\n",
       " 'D:\\\\Drohnendaten\\\\10_WZE-UAV\\\\Auswertung_findatree\\\\Datasplit\\\\ROI\\\\rgb\\\\2020\\\\tnr15537_rois.hdf5',\n",
       " 'D:\\\\Drohnendaten\\\\10_WZE-UAV\\\\Auswertung_findatree\\\\Datasplit\\\\ROI\\\\rgb\\\\2020\\\\tnr15730_rois.hdf5',\n",
       " 'D:\\\\Drohnendaten\\\\10_WZE-UAV\\\\Auswertung_findatree\\\\Datasplit\\\\ROI\\\\rgb\\\\2020\\\\tnr15736_rois.hdf5',\n",
       " 'D:\\\\Drohnendaten\\\\10_WZE-UAV\\\\Auswertung_findatree\\\\Datasplit\\\\ROI\\\\rgb\\\\2020\\\\tnr15746_rois.hdf5',\n",
       " 'D:\\\\Drohnendaten\\\\10_WZE-UAV\\\\Auswertung_findatree\\\\Datasplit\\\\ROI\\\\rgb\\\\2020\\\\tnr15748_rois.hdf5',\n",
       " 'D:\\\\Drohnendaten\\\\10_WZE-UAV\\\\Auswertung_findatree\\\\Datasplit\\\\ROI\\\\rgb\\\\2020\\\\tnr15780_rois.hdf5',\n",
       " 'D:\\\\Drohnendaten\\\\10_WZE-UAV\\\\Auswertung_findatree\\\\Datasplit\\\\ROI\\\\rgb\\\\2020\\\\tnr15966_rois.hdf5',\n",
       " 'D:\\\\Drohnendaten\\\\10_WZE-UAV\\\\Auswertung_findatree\\\\Datasplit\\\\ROI\\\\rgb\\\\2020\\\\tnr15974_rois.hdf5',\n",
       " 'D:\\\\Drohnendaten\\\\10_WZE-UAV\\\\Auswertung_findatree\\\\Datasplit\\\\ROI\\\\rgb\\\\2020\\\\tnr15986_rois.hdf5',\n",
       " 'D:\\\\Drohnendaten\\\\10_WZE-UAV\\\\Auswertung_findatree\\\\Datasplit\\\\ROI\\\\rgb\\\\2020\\\\tnr15988_rois.hdf5',\n",
       " 'D:\\\\Drohnendaten\\\\10_WZE-UAV\\\\Auswertung_findatree\\\\Datasplit\\\\ROI\\\\rgb\\\\2020\\\\tnr15998_rois.hdf5',\n",
       " 'D:\\\\Drohnendaten\\\\10_WZE-UAV\\\\Auswertung_findatree\\\\Datasplit\\\\ROI\\\\rgb\\\\2020\\\\tnr16173_rois.hdf5',\n",
       " 'D:\\\\Drohnendaten\\\\10_WZE-UAV\\\\Auswertung_findatree\\\\Datasplit\\\\ROI\\\\rgb\\\\2020\\\\tnr16177_rois.hdf5',\n",
       " 'D:\\\\Drohnendaten\\\\10_WZE-UAV\\\\Auswertung_findatree\\\\Datasplit\\\\ROI\\\\rgb\\\\2020\\\\tnr16181_rois.hdf5',\n",
       " 'D:\\\\Drohnendaten\\\\10_WZE-UAV\\\\Auswertung_findatree\\\\Datasplit\\\\ROI\\\\rgb\\\\2020\\\\tnr16193_rois.hdf5',\n",
       " 'D:\\\\Drohnendaten\\\\10_WZE-UAV\\\\Auswertung_findatree\\\\Datasplit\\\\ROI\\\\rgb\\\\2020\\\\tnr16197_rois.hdf5',\n",
       " 'D:\\\\Drohnendaten\\\\10_WZE-UAV\\\\Auswertung_findatree\\\\Datasplit\\\\ROI\\\\rgb\\\\2020\\\\tnr16201_rois.hdf5',\n",
       " 'D:\\\\Drohnendaten\\\\10_WZE-UAV\\\\Auswertung_findatree\\\\Datasplit\\\\ROI\\\\rgb\\\\2020\\\\tnr16205_rois.hdf5',\n",
       " 'D:\\\\Drohnendaten\\\\10_WZE-UAV\\\\Auswertung_findatree\\\\Datasplit\\\\ROI\\\\rgb\\\\2020\\\\tnr16211_rois.hdf5',\n",
       " 'D:\\\\Drohnendaten\\\\10_WZE-UAV\\\\Auswertung_findatree\\\\Datasplit\\\\ROI\\\\rgb\\\\2020\\\\tnr16223_rois.hdf5',\n",
       " 'D:\\\\Drohnendaten\\\\10_WZE-UAV\\\\Auswertung_findatree\\\\Datasplit\\\\ROI\\\\rgb\\\\2020\\\\tnr16227_rois.hdf5',\n",
       " 'D:\\\\Drohnendaten\\\\10_WZE-UAV\\\\Auswertung_findatree\\\\Datasplit\\\\ROI\\\\rgb\\\\2020\\\\tnr16400_rois.hdf5',\n",
       " 'D:\\\\Drohnendaten\\\\10_WZE-UAV\\\\Auswertung_findatree\\\\Datasplit\\\\ROI\\\\rgb\\\\2020\\\\tnr16404_rois.hdf5',\n",
       " 'D:\\\\Drohnendaten\\\\10_WZE-UAV\\\\Auswertung_findatree\\\\Datasplit\\\\ROI\\\\rgb\\\\2020\\\\tnr16412_rois.hdf5',\n",
       " 'D:\\\\Drohnendaten\\\\10_WZE-UAV\\\\Auswertung_findatree\\\\Datasplit\\\\ROI\\\\rgb\\\\2020\\\\tnr16422_rois.hdf5',\n",
       " 'D:\\\\Drohnendaten\\\\10_WZE-UAV\\\\Auswertung_findatree\\\\Datasplit\\\\ROI\\\\rgb\\\\2020\\\\tnr16426_rois.hdf5',\n",
       " 'D:\\\\Drohnendaten\\\\10_WZE-UAV\\\\Auswertung_findatree\\\\Datasplit\\\\ROI\\\\rgb\\\\2020\\\\tnr16620_rois.hdf5',\n",
       " 'D:\\\\Drohnendaten\\\\10_WZE-UAV\\\\Auswertung_findatree\\\\Datasplit\\\\ROI\\\\rgb\\\\2020\\\\tnr16624_rois.hdf5',\n",
       " 'D:\\\\Drohnendaten\\\\10_WZE-UAV\\\\Auswertung_findatree\\\\Datasplit\\\\ROI\\\\rgb\\\\2020\\\\tnr16632_rois.hdf5',\n",
       " 'D:\\\\Drohnendaten\\\\10_WZE-UAV\\\\Auswertung_findatree\\\\Datasplit\\\\ROI\\\\rgb\\\\2020\\\\tnr16639_rois.hdf5',\n",
       " 'D:\\\\Drohnendaten\\\\10_WZE-UAV\\\\Auswertung_findatree\\\\Datasplit\\\\ROI\\\\rgb\\\\2020\\\\tnr16643_rois.hdf5',\n",
       " 'D:\\\\Drohnendaten\\\\10_WZE-UAV\\\\Auswertung_findatree\\\\Datasplit\\\\ROI\\\\rgb\\\\2020\\\\tnr16645_rois.hdf5',\n",
       " 'D:\\\\Drohnendaten\\\\10_WZE-UAV\\\\Auswertung_findatree\\\\Datasplit\\\\ROI\\\\rgb\\\\2020\\\\tnr16649_rois.hdf5',\n",
       " 'D:\\\\Drohnendaten\\\\10_WZE-UAV\\\\Auswertung_findatree\\\\Datasplit\\\\ROI\\\\rgb\\\\2020\\\\tnr16657_rois.hdf5',\n",
       " 'D:\\\\Drohnendaten\\\\10_WZE-UAV\\\\Auswertung_findatree\\\\Datasplit\\\\ROI\\\\rgb\\\\2020\\\\tnr16829_rois.hdf5',\n",
       " 'D:\\\\Drohnendaten\\\\10_WZE-UAV\\\\Auswertung_findatree\\\\Datasplit\\\\ROI\\\\rgb\\\\2020\\\\tnr16833_rois.hdf5',\n",
       " 'D:\\\\Drohnendaten\\\\10_WZE-UAV\\\\Auswertung_findatree\\\\Datasplit\\\\ROI\\\\rgb\\\\2020\\\\tnr17019_rois.hdf5',\n",
       " 'D:\\\\Drohnendaten\\\\10_WZE-UAV\\\\Auswertung_findatree\\\\Datasplit\\\\ROI\\\\rgb\\\\2020\\\\tnr17032_rois.hdf5',\n",
       " 'D:\\\\Drohnendaten\\\\10_WZE-UAV\\\\Auswertung_findatree\\\\Datasplit\\\\ROI\\\\rgb\\\\2020\\\\tnr17034_rois.hdf5',\n",
       " 'D:\\\\Drohnendaten\\\\10_WZE-UAV\\\\Auswertung_findatree\\\\Datasplit\\\\ROI\\\\rgb\\\\2020\\\\tnr17042_rois.hdf5',\n",
       " 'D:\\\\Drohnendaten\\\\10_WZE-UAV\\\\Auswertung_findatree\\\\Datasplit\\\\ROI\\\\rgb\\\\2020\\\\tnr17339_rois.hdf5',\n",
       " 'D:\\\\Drohnendaten\\\\10_WZE-UAV\\\\Auswertung_findatree\\\\Datasplit\\\\ROI\\\\rgb\\\\2020\\\\tnr174_rois.hdf5',\n",
       " 'D:\\\\Drohnendaten\\\\10_WZE-UAV\\\\Auswertung_findatree\\\\Datasplit\\\\ROI\\\\rgb\\\\2020\\\\tnr176_rois.hdf5',\n",
       " 'D:\\\\Drohnendaten\\\\10_WZE-UAV\\\\Auswertung_findatree\\\\Datasplit\\\\ROI\\\\rgb\\\\2020\\\\tnr182_rois.hdf5',\n",
       " 'D:\\\\Drohnendaten\\\\10_WZE-UAV\\\\Auswertung_findatree\\\\Datasplit\\\\ROI\\\\rgb\\\\2020\\\\tnr184_rois.hdf5',\n",
       " 'D:\\\\Drohnendaten\\\\10_WZE-UAV\\\\Auswertung_findatree\\\\Datasplit\\\\ROI\\\\rgb\\\\2020\\\\tnr185_rois.hdf5',\n",
       " 'D:\\\\Drohnendaten\\\\10_WZE-UAV\\\\Auswertung_findatree\\\\Datasplit\\\\ROI\\\\rgb\\\\2020\\\\tnr188_rois.hdf5',\n",
       " 'D:\\\\Drohnendaten\\\\10_WZE-UAV\\\\Auswertung_findatree\\\\Datasplit\\\\ROI\\\\rgb\\\\2020\\\\tnr1898_rois.hdf5',\n",
       " 'D:\\\\Drohnendaten\\\\10_WZE-UAV\\\\Auswertung_findatree\\\\Datasplit\\\\ROI\\\\rgb\\\\2020\\\\tnr192_rois.hdf5',\n",
       " 'D:\\\\Drohnendaten\\\\10_WZE-UAV\\\\Auswertung_findatree\\\\Datasplit\\\\ROI\\\\rgb\\\\2020\\\\tnr194_rois.hdf5',\n",
       " 'D:\\\\Drohnendaten\\\\10_WZE-UAV\\\\Auswertung_findatree\\\\Datasplit\\\\ROI\\\\rgb\\\\2020\\\\tnr196_rois.hdf5',\n",
       " 'D:\\\\Drohnendaten\\\\10_WZE-UAV\\\\Auswertung_findatree\\\\Datasplit\\\\ROI\\\\rgb\\\\2020\\\\tnr200_rois.hdf5',\n",
       " 'D:\\\\Drohnendaten\\\\10_WZE-UAV\\\\Auswertung_findatree\\\\Datasplit\\\\ROI\\\\rgb\\\\2020\\\\tnr2386_rois.hdf5',\n",
       " 'D:\\\\Drohnendaten\\\\10_WZE-UAV\\\\Auswertung_findatree\\\\Datasplit\\\\ROI\\\\rgb\\\\2020\\\\tnr2399_rois.hdf5',\n",
       " 'D:\\\\Drohnendaten\\\\10_WZE-UAV\\\\Auswertung_findatree\\\\Datasplit\\\\ROI\\\\rgb\\\\2020\\\\tnr2411_rois.hdf5',\n",
       " 'D:\\\\Drohnendaten\\\\10_WZE-UAV\\\\Auswertung_findatree\\\\Datasplit\\\\ROI\\\\rgb\\\\2020\\\\tnr2413_rois.hdf5',\n",
       " 'D:\\\\Drohnendaten\\\\10_WZE-UAV\\\\Auswertung_findatree\\\\Datasplit\\\\ROI\\\\rgb\\\\2020\\\\tnr3398_rois.hdf5',\n",
       " 'D:\\\\Drohnendaten\\\\10_WZE-UAV\\\\Auswertung_findatree\\\\Datasplit\\\\ROI\\\\rgb\\\\2020\\\\tnr3418_rois.hdf5',\n",
       " 'D:\\\\Drohnendaten\\\\10_WZE-UAV\\\\Auswertung_findatree\\\\Datasplit\\\\ROI\\\\rgb\\\\2020\\\\tnr3430_rois.hdf5',\n",
       " 'D:\\\\Drohnendaten\\\\10_WZE-UAV\\\\Auswertung_findatree\\\\Datasplit\\\\ROI\\\\rgb\\\\2020\\\\tnr35_rois.hdf5',\n",
       " 'D:\\\\Drohnendaten\\\\10_WZE-UAV\\\\Auswertung_findatree\\\\Datasplit\\\\ROI\\\\rgb\\\\2020\\\\tnr3930_rois.hdf5',\n",
       " 'D:\\\\Drohnendaten\\\\10_WZE-UAV\\\\Auswertung_findatree\\\\Datasplit\\\\ROI\\\\rgb\\\\2020\\\\tnr4396_rois.hdf5',\n",
       " 'D:\\\\Drohnendaten\\\\10_WZE-UAV\\\\Auswertung_findatree\\\\Datasplit\\\\ROI\\\\rgb\\\\2020\\\\tnr4412_rois.hdf5',\n",
       " 'D:\\\\Drohnendaten\\\\10_WZE-UAV\\\\Auswertung_findatree\\\\Datasplit\\\\ROI\\\\rgb\\\\2020\\\\tnr4436_rois.hdf5',\n",
       " 'D:\\\\Drohnendaten\\\\10_WZE-UAV\\\\Auswertung_findatree\\\\Datasplit\\\\ROI\\\\rgb\\\\2020\\\\tnr4444_rois.hdf5',\n",
       " 'D:\\\\Drohnendaten\\\\10_WZE-UAV\\\\Auswertung_findatree\\\\Datasplit\\\\ROI\\\\rgb\\\\2020\\\\tnr460_rois.hdf5',\n",
       " 'D:\\\\Drohnendaten\\\\10_WZE-UAV\\\\Auswertung_findatree\\\\Datasplit\\\\ROI\\\\rgb\\\\2020\\\\tnr462_rois.hdf5',\n",
       " 'D:\\\\Drohnendaten\\\\10_WZE-UAV\\\\Auswertung_findatree\\\\Datasplit\\\\ROI\\\\rgb\\\\2020\\\\tnr477_rois.hdf5',\n",
       " 'D:\\\\Drohnendaten\\\\10_WZE-UAV\\\\Auswertung_findatree\\\\Datasplit\\\\ROI\\\\rgb\\\\2020\\\\tnr479_rois.hdf5',\n",
       " 'D:\\\\Drohnendaten\\\\10_WZE-UAV\\\\Auswertung_findatree\\\\Datasplit\\\\ROI\\\\rgb\\\\2020\\\\tnr485_rois.hdf5',\n",
       " 'D:\\\\Drohnendaten\\\\10_WZE-UAV\\\\Auswertung_findatree\\\\Datasplit\\\\ROI\\\\rgb\\\\2020\\\\tnr489_rois.hdf5',\n",
       " 'D:\\\\Drohnendaten\\\\10_WZE-UAV\\\\Auswertung_findatree\\\\Datasplit\\\\ROI\\\\rgb\\\\2020\\\\tnr5449_rois.hdf5',\n",
       " 'D:\\\\Drohnendaten\\\\10_WZE-UAV\\\\Auswertung_findatree\\\\Datasplit\\\\ROI\\\\rgb\\\\2020\\\\tnr5930_rois.hdf5',\n",
       " 'D:\\\\Drohnendaten\\\\10_WZE-UAV\\\\Auswertung_findatree\\\\Datasplit\\\\ROI\\\\rgb\\\\2020\\\\tnr5946_rois.hdf5',\n",
       " 'D:\\\\Drohnendaten\\\\10_WZE-UAV\\\\Auswertung_findatree\\\\Datasplit\\\\ROI\\\\rgb\\\\2020\\\\tnr6430_rois.hdf5',\n",
       " 'D:\\\\Drohnendaten\\\\10_WZE-UAV\\\\Auswertung_findatree\\\\Datasplit\\\\ROI\\\\rgb\\\\2020\\\\tnr6462_rois.hdf5',\n",
       " 'D:\\\\Drohnendaten\\\\10_WZE-UAV\\\\Auswertung_findatree\\\\Datasplit\\\\ROI\\\\rgb\\\\2020\\\\tnr6466_rois.hdf5',\n",
       " 'D:\\\\Drohnendaten\\\\10_WZE-UAV\\\\Auswertung_findatree\\\\Datasplit\\\\ROI\\\\rgb\\\\2020\\\\tnr6468_rois.hdf5',\n",
       " 'D:\\\\Drohnendaten\\\\10_WZE-UAV\\\\Auswertung_findatree\\\\Datasplit\\\\ROI\\\\rgb\\\\2020\\\\tnr6470_rois.hdf5',\n",
       " 'D:\\\\Drohnendaten\\\\10_WZE-UAV\\\\Auswertung_findatree\\\\Datasplit\\\\ROI\\\\rgb\\\\2020\\\\tnr6474_rois.hdf5',\n",
       " 'D:\\\\Drohnendaten\\\\10_WZE-UAV\\\\Auswertung_findatree\\\\Datasplit\\\\ROI\\\\rgb\\\\2020\\\\tnr6478_rois.hdf5',\n",
       " 'D:\\\\Drohnendaten\\\\10_WZE-UAV\\\\Auswertung_findatree\\\\Datasplit\\\\ROI\\\\rgb\\\\2020\\\\tnr6969_rois.hdf5',\n",
       " 'D:\\\\Drohnendaten\\\\10_WZE-UAV\\\\Auswertung_findatree\\\\Datasplit\\\\ROI\\\\rgb\\\\2020\\\\tnr6971_rois.hdf5',\n",
       " 'D:\\\\Drohnendaten\\\\10_WZE-UAV\\\\Auswertung_findatree\\\\Datasplit\\\\ROI\\\\rgb\\\\2020\\\\tnr6977_rois.hdf5',\n",
       " 'D:\\\\Drohnendaten\\\\10_WZE-UAV\\\\Auswertung_findatree\\\\Datasplit\\\\ROI\\\\rgb\\\\2020\\\\tnr7002_rois.hdf5',\n",
       " 'D:\\\\Drohnendaten\\\\10_WZE-UAV\\\\Auswertung_findatree\\\\Datasplit\\\\ROI\\\\rgb\\\\2020\\\\tnr73_rois.hdf5',\n",
       " 'D:\\\\Drohnendaten\\\\10_WZE-UAV\\\\Auswertung_findatree\\\\Datasplit\\\\ROI\\\\rgb\\\\2020\\\\tnr7475_rois.hdf5',\n",
       " 'D:\\\\Drohnendaten\\\\10_WZE-UAV\\\\Auswertung_findatree\\\\Datasplit\\\\ROI\\\\rgb\\\\2020\\\\tnr7511_rois.hdf5',\n",
       " 'D:\\\\Drohnendaten\\\\10_WZE-UAV\\\\Auswertung_findatree\\\\Datasplit\\\\ROI\\\\rgb\\\\2020\\\\tnr7517_rois.hdf5',\n",
       " 'D:\\\\Drohnendaten\\\\10_WZE-UAV\\\\Auswertung_findatree\\\\Datasplit\\\\ROI\\\\rgb\\\\2020\\\\tnr7521_rois.hdf5',\n",
       " 'D:\\\\Drohnendaten\\\\10_WZE-UAV\\\\Auswertung_findatree\\\\Datasplit\\\\ROI\\\\rgb\\\\2020\\\\tnr7525_rois.hdf5',\n",
       " 'D:\\\\Drohnendaten\\\\10_WZE-UAV\\\\Auswertung_findatree\\\\Datasplit\\\\ROI\\\\rgb\\\\2020\\\\tnr75_rois.hdf5',\n",
       " 'D:\\\\Drohnendaten\\\\10_WZE-UAV\\\\Auswertung_findatree\\\\Datasplit\\\\ROI\\\\rgb\\\\2020\\\\tnr79_rois.hdf5',\n",
       " 'D:\\\\Drohnendaten\\\\10_WZE-UAV\\\\Auswertung_findatree\\\\Datasplit\\\\ROI\\\\rgb\\\\2020\\\\tnr8032_rois.hdf5',\n",
       " 'D:\\\\Drohnendaten\\\\10_WZE-UAV\\\\Auswertung_findatree\\\\Datasplit\\\\ROI\\\\rgb\\\\2020\\\\tnr8040_rois.hdf5',\n",
       " 'D:\\\\Drohnendaten\\\\10_WZE-UAV\\\\Auswertung_findatree\\\\Datasplit\\\\ROI\\\\rgb\\\\2020\\\\tnr8492_rois.hdf5',\n",
       " 'D:\\\\Drohnendaten\\\\10_WZE-UAV\\\\Auswertung_findatree\\\\Datasplit\\\\ROI\\\\rgb\\\\2020\\\\tnr8494_rois.hdf5',\n",
       " 'D:\\\\Drohnendaten\\\\10_WZE-UAV\\\\Auswertung_findatree\\\\Datasplit\\\\ROI\\\\rgb\\\\2020\\\\tnr8498_rois.hdf5',\n",
       " 'D:\\\\Drohnendaten\\\\10_WZE-UAV\\\\Auswertung_findatree\\\\Datasplit\\\\ROI\\\\rgb\\\\2020\\\\tnr84_rois.hdf5',\n",
       " 'D:\\\\Drohnendaten\\\\10_WZE-UAV\\\\Auswertung_findatree\\\\Datasplit\\\\ROI\\\\rgb\\\\2020\\\\tnr8532_rois.hdf5',\n",
       " 'D:\\\\Drohnendaten\\\\10_WZE-UAV\\\\Auswertung_findatree\\\\Datasplit\\\\ROI\\\\rgb\\\\2020\\\\tnr86_rois.hdf5',\n",
       " 'D:\\\\Drohnendaten\\\\10_WZE-UAV\\\\Auswertung_findatree\\\\Datasplit\\\\ROI\\\\rgb\\\\2020\\\\tnr879_rois.hdf5',\n",
       " 'D:\\\\Drohnendaten\\\\10_WZE-UAV\\\\Auswertung_findatree\\\\Datasplit\\\\ROI\\\\rgb\\\\2020\\\\tnr8973_rois.hdf5',\n",
       " 'D:\\\\Drohnendaten\\\\10_WZE-UAV\\\\Auswertung_findatree\\\\Datasplit\\\\ROI\\\\rgb\\\\2020\\\\tnr8979_rois.hdf5',\n",
       " 'D:\\\\Drohnendaten\\\\10_WZE-UAV\\\\Auswertung_findatree\\\\Datasplit\\\\ROI\\\\rgb\\\\2020\\\\tnr8981_rois.hdf5',\n",
       " 'D:\\\\Drohnendaten\\\\10_WZE-UAV\\\\Auswertung_findatree\\\\Datasplit\\\\ROI\\\\rgb\\\\2020\\\\tnr8989_rois.hdf5',\n",
       " 'D:\\\\Drohnendaten\\\\10_WZE-UAV\\\\Auswertung_findatree\\\\Datasplit\\\\ROI\\\\rgb\\\\2020\\\\tnr9025_rois.hdf5',\n",
       " 'D:\\\\Drohnendaten\\\\10_WZE-UAV\\\\Auswertung_findatree\\\\Datasplit\\\\ROI\\\\rgb\\\\2020\\\\tnr9464_rois.hdf5',\n",
       " 'D:\\\\Drohnendaten\\\\10_WZE-UAV\\\\Auswertung_findatree\\\\Datasplit\\\\ROI\\\\rgb\\\\2020\\\\tnr9468_rois.hdf5',\n",
       " 'D:\\\\Drohnendaten\\\\10_WZE-UAV\\\\Auswertung_findatree\\\\Datasplit\\\\ROI\\\\rgb\\\\2020\\\\tnr9472_rois.hdf5',\n",
       " 'D:\\\\Drohnendaten\\\\10_WZE-UAV\\\\Auswertung_findatree\\\\Datasplit\\\\ROI\\\\rgb\\\\2020\\\\tnr9477_rois.hdf5',\n",
       " 'D:\\\\Drohnendaten\\\\10_WZE-UAV\\\\Auswertung_findatree\\\\Datasplit\\\\ROI\\\\rgb\\\\2020\\\\tnr9479_rois.hdf5',\n",
       " 'D:\\\\Drohnendaten\\\\10_WZE-UAV\\\\Auswertung_findatree\\\\Datasplit\\\\ROI\\\\rgb\\\\2020\\\\tnr9489_rois.hdf5',\n",
       " 'D:\\\\Drohnendaten\\\\10_WZE-UAV\\\\Auswertung_findatree\\\\Datasplit\\\\ROI\\\\rgb\\\\2020\\\\tnr9493_rois.hdf5',\n",
       " 'D:\\\\Drohnendaten\\\\10_WZE-UAV\\\\Auswertung_findatree\\\\Datasplit\\\\ROI\\\\rgb\\\\2020\\\\tnr9509_rois.hdf5',\n",
       " 'D:\\\\Drohnendaten\\\\10_WZE-UAV\\\\Auswertung_findatree\\\\Datasplit\\\\ROI\\\\rgb\\\\2020\\\\tnr9515_rois.hdf5',\n",
       " 'D:\\\\Drohnendaten\\\\10_WZE-UAV\\\\Auswertung_findatree\\\\Datasplit\\\\ROI\\\\rgb\\\\2020\\\\tnr9517_rois.hdf5',\n",
       " 'D:\\\\Drohnendaten\\\\10_WZE-UAV\\\\Auswertung_findatree\\\\Datasplit\\\\ROI\\\\rgb\\\\2020\\\\tnr9948_rois.hdf5',\n",
       " 'D:\\\\Drohnendaten\\\\10_WZE-UAV\\\\Auswertung_findatree\\\\Datasplit\\\\ROI\\\\rgb\\\\2020\\\\tnr9958_rois.hdf5',\n",
       " 'D:\\\\Drohnendaten\\\\10_WZE-UAV\\\\Auswertung_findatree\\\\Datasplit\\\\ROI\\\\rgb\\\\2020\\\\tnr9966_rois.hdf5',\n",
       " 'D:\\\\Drohnendaten\\\\10_WZE-UAV\\\\Auswertung_findatree\\\\Datasplit\\\\ROI\\\\rgb\\\\2020\\\\tnr9973_rois.hdf5',\n",
       " 'D:\\\\Drohnendaten\\\\10_WZE-UAV\\\\Auswertung_findatree\\\\Datasplit\\\\ROI\\\\rgb\\\\2020\\\\tnr9980_rois.hdf5',\n",
       " 'D:\\\\Drohnendaten\\\\10_WZE-UAV\\\\Auswertung_findatree\\\\Datasplit\\\\ROI\\\\rgb\\\\2020\\\\tnr9984_rois.hdf5',\n",
       " 'D:\\\\Drohnendaten\\\\10_WZE-UAV\\\\Auswertung_findatree\\\\Datasplit\\\\ROI\\\\rgb\\\\2020\\\\tnr9986_rois.hdf5',\n",
       " 'D:\\\\Drohnendaten\\\\10_WZE-UAV\\\\Auswertung_findatree\\\\Datasplit\\\\ROI\\\\rgb\\\\2020\\\\tnr9988_rois.hdf5',\n",
       " 'D:\\\\Drohnendaten\\\\10_WZE-UAV\\\\Auswertung_findatree\\\\Datasplit\\\\ROI\\\\rgb\\\\2020\\\\tnr9996_rois.hdf5',\n",
       " 'D:\\\\Drohnendaten\\\\10_WZE-UAV\\\\Auswertung_findatree\\\\Datasplit\\\\ROI\\\\rgb\\\\2021\\\\tnr10527_rois.hdf5',\n",
       " 'D:\\\\Drohnendaten\\\\10_WZE-UAV\\\\Auswertung_findatree\\\\Datasplit\\\\ROI\\\\rgb\\\\2021\\\\tnr10533_rois.hdf5',\n",
       " 'D:\\\\Drohnendaten\\\\10_WZE-UAV\\\\Auswertung_findatree\\\\Datasplit\\\\ROI\\\\rgb\\\\2021\\\\tnr10545_rois.hdf5',\n",
       " 'D:\\\\Drohnendaten\\\\10_WZE-UAV\\\\Auswertung_findatree\\\\Datasplit\\\\ROI\\\\rgb\\\\2021\\\\tnr10547_rois.hdf5',\n",
       " 'D:\\\\Drohnendaten\\\\10_WZE-UAV\\\\Auswertung_findatree\\\\Datasplit\\\\ROI\\\\rgb\\\\2021\\\\tnr10912_rois.hdf5',\n",
       " 'D:\\\\Drohnendaten\\\\10_WZE-UAV\\\\Auswertung_findatree\\\\Datasplit\\\\ROI\\\\rgb\\\\2021\\\\tnr11032_rois.hdf5',\n",
       " 'D:\\\\Drohnendaten\\\\10_WZE-UAV\\\\Auswertung_findatree\\\\Datasplit\\\\ROI\\\\rgb\\\\2021\\\\tnr11040_rois.hdf5',\n",
       " 'D:\\\\Drohnendaten\\\\10_WZE-UAV\\\\Auswertung_findatree\\\\Datasplit\\\\ROI\\\\rgb\\\\2021\\\\tnr11044_rois.hdf5',\n",
       " 'D:\\\\Drohnendaten\\\\10_WZE-UAV\\\\Auswertung_findatree\\\\Datasplit\\\\ROI\\\\rgb\\\\2021\\\\tnr11048_rois.hdf5',\n",
       " 'D:\\\\Drohnendaten\\\\10_WZE-UAV\\\\Auswertung_findatree\\\\Datasplit\\\\ROI\\\\rgb\\\\2021\\\\tnr11052_rois.hdf5',\n",
       " 'D:\\\\Drohnendaten\\\\10_WZE-UAV\\\\Auswertung_findatree\\\\Datasplit\\\\ROI\\\\rgb\\\\2021\\\\tnr11056_rois.hdf5',\n",
       " 'D:\\\\Drohnendaten\\\\10_WZE-UAV\\\\Auswertung_findatree\\\\Datasplit\\\\ROI\\\\rgb\\\\2021\\\\tnr11078_rois.hdf5',\n",
       " 'D:\\\\Drohnendaten\\\\10_WZE-UAV\\\\Auswertung_findatree\\\\Datasplit\\\\ROI\\\\rgb\\\\2021\\\\tnr11080_rois.hdf5',\n",
       " 'D:\\\\Drohnendaten\\\\10_WZE-UAV\\\\Auswertung_findatree\\\\Datasplit\\\\ROI\\\\rgb\\\\2021\\\\tnr11090_rois.hdf5',\n",
       " 'D:\\\\Drohnendaten\\\\10_WZE-UAV\\\\Auswertung_findatree\\\\Datasplit\\\\ROI\\\\rgb\\\\2021\\\\tnr11092_rois.hdf5',\n",
       " 'D:\\\\Drohnendaten\\\\10_WZE-UAV\\\\Auswertung_findatree\\\\Datasplit\\\\ROI\\\\rgb\\\\2021\\\\tnr11179_rois.hdf5',\n",
       " 'D:\\\\Drohnendaten\\\\10_WZE-UAV\\\\Auswertung_findatree\\\\Datasplit\\\\ROI\\\\rgb\\\\2021\\\\tnr11189_rois.hdf5',\n",
       " 'D:\\\\Drohnendaten\\\\10_WZE-UAV\\\\Auswertung_findatree\\\\Datasplit\\\\ROI\\\\rgb\\\\2021\\\\tnr11325_rois.hdf5',\n",
       " 'D:\\\\Drohnendaten\\\\10_WZE-UAV\\\\Auswertung_findatree\\\\Datasplit\\\\ROI\\\\rgb\\\\2021\\\\tnr11327_rois.hdf5',\n",
       " 'D:\\\\Drohnendaten\\\\10_WZE-UAV\\\\Auswertung_findatree\\\\Datasplit\\\\ROI\\\\rgb\\\\2021\\\\tnr11453_rois.hdf5',\n",
       " 'D:\\\\Drohnendaten\\\\10_WZE-UAV\\\\Auswertung_findatree\\\\Datasplit\\\\ROI\\\\rgb\\\\2021\\\\tnr11459_rois.hdf5',\n",
       " 'D:\\\\Drohnendaten\\\\10_WZE-UAV\\\\Auswertung_findatree\\\\Datasplit\\\\ROI\\\\rgb\\\\2021\\\\tnr11576_rois.hdf5',\n",
       " 'D:\\\\Drohnendaten\\\\10_WZE-UAV\\\\Auswertung_findatree\\\\Datasplit\\\\ROI\\\\rgb\\\\2021\\\\tnr11581_rois.hdf5',\n",
       " 'D:\\\\Drohnendaten\\\\10_WZE-UAV\\\\Auswertung_findatree\\\\Datasplit\\\\ROI\\\\rgb\\\\2021\\\\tnr11597_rois.hdf5',\n",
       " 'D:\\\\Drohnendaten\\\\10_WZE-UAV\\\\Auswertung_findatree\\\\Datasplit\\\\ROI\\\\rgb\\\\2021\\\\tnr11601_rois.hdf5',\n",
       " 'D:\\\\Drohnendaten\\\\10_WZE-UAV\\\\Auswertung_findatree\\\\Datasplit\\\\ROI\\\\rgb\\\\2021\\\\tnr11626_rois.hdf5',\n",
       " 'D:\\\\Drohnendaten\\\\10_WZE-UAV\\\\Auswertung_findatree\\\\Datasplit\\\\ROI\\\\rgb\\\\2021\\\\tnr11638_rois.hdf5',\n",
       " 'D:\\\\Drohnendaten\\\\10_WZE-UAV\\\\Auswertung_findatree\\\\Datasplit\\\\ROI\\\\rgb\\\\2021\\\\tnr11640_rois.hdf5',\n",
       " 'D:\\\\Drohnendaten\\\\10_WZE-UAV\\\\Auswertung_findatree\\\\Datasplit\\\\ROI\\\\rgb\\\\2021\\\\tnr11727_rois.hdf5',\n",
       " 'D:\\\\Drohnendaten\\\\10_WZE-UAV\\\\Auswertung_findatree\\\\Datasplit\\\\ROI\\\\rgb\\\\2021\\\\tnr11733_rois.hdf5',\n",
       " 'D:\\\\Drohnendaten\\\\10_WZE-UAV\\\\Auswertung_findatree\\\\Datasplit\\\\ROI\\\\rgb\\\\2021\\\\tnr11866_rois.hdf5',\n",
       " 'D:\\\\Drohnendaten\\\\10_WZE-UAV\\\\Auswertung_findatree\\\\Datasplit\\\\ROI\\\\rgb\\\\2021\\\\tnr11874_rois.hdf5',\n",
       " 'D:\\\\Drohnendaten\\\\10_WZE-UAV\\\\Auswertung_findatree\\\\Datasplit\\\\ROI\\\\rgb\\\\2021\\\\tnr11878_rois.hdf5',\n",
       " 'D:\\\\Drohnendaten\\\\10_WZE-UAV\\\\Auswertung_findatree\\\\Datasplit\\\\ROI\\\\rgb\\\\2021\\\\tnr12013_rois.hdf5',\n",
       " 'D:\\\\Drohnendaten\\\\10_WZE-UAV\\\\Auswertung_findatree\\\\Datasplit\\\\ROI\\\\rgb\\\\2021\\\\tnr12019_rois.hdf5',\n",
       " 'D:\\\\Drohnendaten\\\\10_WZE-UAV\\\\Auswertung_findatree\\\\Datasplit\\\\ROI\\\\rgb\\\\2021\\\\tnr12120_rois.hdf5',\n",
       " 'D:\\\\Drohnendaten\\\\10_WZE-UAV\\\\Auswertung_findatree\\\\Datasplit\\\\ROI\\\\rgb\\\\2021\\\\tnr12124_rois.hdf5',\n",
       " 'D:\\\\Drohnendaten\\\\10_WZE-UAV\\\\Auswertung_findatree\\\\Datasplit\\\\ROI\\\\rgb\\\\2021\\\\tnr12153_rois.hdf5',\n",
       " 'D:\\\\Drohnendaten\\\\10_WZE-UAV\\\\Auswertung_findatree\\\\Datasplit\\\\ROI\\\\rgb\\\\2021\\\\tnr12161_rois.hdf5',\n",
       " 'D:\\\\Drohnendaten\\\\10_WZE-UAV\\\\Auswertung_findatree\\\\Datasplit\\\\ROI\\\\rgb\\\\2021\\\\tnr12169_rois.hdf5',\n",
       " 'D:\\\\Drohnendaten\\\\10_WZE-UAV\\\\Auswertung_findatree\\\\Datasplit\\\\ROI\\\\rgb\\\\2021\\\\tnr12179_rois.hdf5',\n",
       " 'D:\\\\Drohnendaten\\\\10_WZE-UAV\\\\Auswertung_findatree\\\\Datasplit\\\\ROI\\\\rgb\\\\2021\\\\tnr12285_rois.hdf5',\n",
       " 'D:\\\\Drohnendaten\\\\10_WZE-UAV\\\\Auswertung_findatree\\\\Datasplit\\\\ROI\\\\rgb\\\\2021\\\\tnr12426_rois.hdf5',\n",
       " 'D:\\\\Drohnendaten\\\\10_WZE-UAV\\\\Auswertung_findatree\\\\Datasplit\\\\ROI\\\\rgb\\\\2021\\\\tnr12549_rois.hdf5',\n",
       " 'D:\\\\Drohnendaten\\\\10_WZE-UAV\\\\Auswertung_findatree\\\\Datasplit\\\\ROI\\\\rgb\\\\2021\\\\tnr12553_rois.hdf5',\n",
       " 'D:\\\\Drohnendaten\\\\10_WZE-UAV\\\\Auswertung_findatree\\\\Datasplit\\\\ROI\\\\rgb\\\\2021\\\\tnr12557_rois.hdf5',\n",
       " 'D:\\\\Drohnendaten\\\\10_WZE-UAV\\\\Auswertung_findatree\\\\Datasplit\\\\ROI\\\\rgb\\\\2021\\\\tnr12673_rois.hdf5',\n",
       " 'D:\\\\Drohnendaten\\\\10_WZE-UAV\\\\Auswertung_findatree\\\\Datasplit\\\\ROI\\\\rgb\\\\2021\\\\tnr12678_rois.hdf5',\n",
       " 'D:\\\\Drohnendaten\\\\10_WZE-UAV\\\\Auswertung_findatree\\\\Datasplit\\\\ROI\\\\rgb\\\\2021\\\\tnr12694_rois.hdf5',\n",
       " 'D:\\\\Drohnendaten\\\\10_WZE-UAV\\\\Auswertung_findatree\\\\Datasplit\\\\ROI\\\\rgb\\\\2021\\\\tnr12698_rois.hdf5',\n",
       " 'D:\\\\Drohnendaten\\\\10_WZE-UAV\\\\Auswertung_findatree\\\\Datasplit\\\\ROI\\\\rgb\\\\2021\\\\tnr12702_rois.hdf5',\n",
       " 'D:\\\\Drohnendaten\\\\10_WZE-UAV\\\\Auswertung_findatree\\\\Datasplit\\\\ROI\\\\rgb\\\\2021\\\\tnr12711_rois.hdf5',\n",
       " 'D:\\\\Drohnendaten\\\\10_WZE-UAV\\\\Auswertung_findatree\\\\Datasplit\\\\ROI\\\\rgb\\\\2021\\\\tnr12713_rois.hdf5',\n",
       " 'D:\\\\Drohnendaten\\\\10_WZE-UAV\\\\Auswertung_findatree\\\\Datasplit\\\\ROI\\\\rgb\\\\2021\\\\tnr12715_rois.hdf5',\n",
       " 'D:\\\\Drohnendaten\\\\10_WZE-UAV\\\\Auswertung_findatree\\\\Datasplit\\\\ROI\\\\rgb\\\\2021\\\\tnr12717_rois.hdf5',\n",
       " 'D:\\\\Drohnendaten\\\\10_WZE-UAV\\\\Auswertung_findatree\\\\Datasplit\\\\ROI\\\\rgb\\\\2021\\\\tnr12719_rois.hdf5',\n",
       " 'D:\\\\Drohnendaten\\\\10_WZE-UAV\\\\Auswertung_findatree\\\\Datasplit\\\\ROI\\\\rgb\\\\2021\\\\tnr12950_rois.hdf5',\n",
       " 'D:\\\\Drohnendaten\\\\10_WZE-UAV\\\\Auswertung_findatree\\\\Datasplit\\\\ROI\\\\rgb\\\\2021\\\\tnr12960_rois.hdf5',\n",
       " 'D:\\\\Drohnendaten\\\\10_WZE-UAV\\\\Auswertung_findatree\\\\Datasplit\\\\ROI\\\\rgb\\\\2021\\\\tnr13212_rois.hdf5',\n",
       " 'D:\\\\Drohnendaten\\\\10_WZE-UAV\\\\Auswertung_findatree\\\\Datasplit\\\\ROI\\\\rgb\\\\2021\\\\tnr13225_rois.hdf5',\n",
       " 'D:\\\\Drohnendaten\\\\10_WZE-UAV\\\\Auswertung_findatree\\\\Datasplit\\\\ROI\\\\rgb\\\\2021\\\\tnr13233_rois.hdf5',\n",
       " 'D:\\\\Drohnendaten\\\\10_WZE-UAV\\\\Auswertung_findatree\\\\Datasplit\\\\ROI\\\\rgb\\\\2021\\\\tnr13259_rois.hdf5',\n",
       " 'D:\\\\Drohnendaten\\\\10_WZE-UAV\\\\Auswertung_findatree\\\\Datasplit\\\\ROI\\\\rgb\\\\2021\\\\tnr13508_rois.hdf5',\n",
       " 'D:\\\\Drohnendaten\\\\10_WZE-UAV\\\\Auswertung_findatree\\\\Datasplit\\\\ROI\\\\rgb\\\\2021\\\\tnr13758_rois.hdf5',\n",
       " 'D:\\\\Drohnendaten\\\\10_WZE-UAV\\\\Auswertung_findatree\\\\Datasplit\\\\ROI\\\\rgb\\\\2021\\\\tnr13766_rois.hdf5',\n",
       " 'D:\\\\Drohnendaten\\\\10_WZE-UAV\\\\Auswertung_findatree\\\\Datasplit\\\\ROI\\\\rgb\\\\2021\\\\tnr13779_rois.hdf5',\n",
       " 'D:\\\\Drohnendaten\\\\10_WZE-UAV\\\\Auswertung_findatree\\\\Datasplit\\\\ROI\\\\rgb\\\\2021\\\\tnr13819_rois.hdf5',\n",
       " 'D:\\\\Drohnendaten\\\\10_WZE-UAV\\\\Auswertung_findatree\\\\Datasplit\\\\ROI\\\\rgb\\\\2021\\\\tnr13825_rois.hdf5',\n",
       " 'D:\\\\Drohnendaten\\\\10_WZE-UAV\\\\Auswertung_findatree\\\\Datasplit\\\\ROI\\\\rgb\\\\2021\\\\tnr13898_rois.hdf5',\n",
       " 'D:\\\\Drohnendaten\\\\10_WZE-UAV\\\\Auswertung_findatree\\\\Datasplit\\\\ROI\\\\rgb\\\\2021\\\\tnr13922_rois.hdf5',\n",
       " 'D:\\\\Drohnendaten\\\\10_WZE-UAV\\\\Auswertung_findatree\\\\Datasplit\\\\ROI\\\\rgb\\\\2021\\\\tnr14156_rois.hdf5',\n",
       " 'D:\\\\Drohnendaten\\\\10_WZE-UAV\\\\Auswertung_findatree\\\\Datasplit\\\\ROI\\\\rgb\\\\2021\\\\tnr14293_rois.hdf5',\n",
       " 'D:\\\\Drohnendaten\\\\10_WZE-UAV\\\\Auswertung_findatree\\\\Datasplit\\\\ROI\\\\rgb\\\\2021\\\\tnr14327_rois.hdf5',\n",
       " 'D:\\\\Drohnendaten\\\\10_WZE-UAV\\\\Auswertung_findatree\\\\Datasplit\\\\ROI\\\\rgb\\\\2021\\\\tnr14666_rois.hdf5',\n",
       " 'D:\\\\Drohnendaten\\\\10_WZE-UAV\\\\Auswertung_findatree\\\\Datasplit\\\\ROI\\\\rgb\\\\2021\\\\tnr14723_rois.hdf5',\n",
       " 'D:\\\\Drohnendaten\\\\10_WZE-UAV\\\\Auswertung_findatree\\\\Datasplit\\\\ROI\\\\rgb\\\\2021\\\\tnr14727_rois.hdf5',\n",
       " 'D:\\\\Drohnendaten\\\\10_WZE-UAV\\\\Auswertung_findatree\\\\Datasplit\\\\ROI\\\\rgb\\\\2021\\\\tnr14732_rois.hdf5',\n",
       " 'D:\\\\Drohnendaten\\\\10_WZE-UAV\\\\Auswertung_findatree\\\\Datasplit\\\\ROI\\\\rgb\\\\2021\\\\tnr14781_rois.hdf5',\n",
       " 'D:\\\\Drohnendaten\\\\10_WZE-UAV\\\\Auswertung_findatree\\\\Datasplit\\\\ROI\\\\rgb\\\\2021\\\\tnr14877_rois.hdf5',\n",
       " 'D:\\\\Drohnendaten\\\\10_WZE-UAV\\\\Auswertung_findatree\\\\Datasplit\\\\ROI\\\\rgb\\\\2021\\\\tnr14879_rois.hdf5',\n",
       " 'D:\\\\Drohnendaten\\\\10_WZE-UAV\\\\Auswertung_findatree\\\\Datasplit\\\\ROI\\\\rgb\\\\2021\\\\tnr14887_rois.hdf5',\n",
       " 'D:\\\\Drohnendaten\\\\10_WZE-UAV\\\\Auswertung_findatree\\\\Datasplit\\\\ROI\\\\rgb\\\\2021\\\\tnr15016_rois.hdf5',\n",
       " 'D:\\\\Drohnendaten\\\\10_WZE-UAV\\\\Auswertung_findatree\\\\Datasplit\\\\ROI\\\\rgb\\\\2021\\\\tnr15020_rois.hdf5',\n",
       " 'D:\\\\Drohnendaten\\\\10_WZE-UAV\\\\Auswertung_findatree\\\\Datasplit\\\\ROI\\\\rgb\\\\2021\\\\tnr15027_rois.hdf5',\n",
       " 'D:\\\\Drohnendaten\\\\10_WZE-UAV\\\\Auswertung_findatree\\\\Datasplit\\\\ROI\\\\rgb\\\\2021\\\\tnr15031_rois.hdf5',\n",
       " 'D:\\\\Drohnendaten\\\\10_WZE-UAV\\\\Auswertung_findatree\\\\Datasplit\\\\ROI\\\\rgb\\\\2021\\\\tnr15035_rois.hdf5',\n",
       " 'D:\\\\Drohnendaten\\\\10_WZE-UAV\\\\Auswertung_findatree\\\\Datasplit\\\\ROI\\\\rgb\\\\2021\\\\tnr15039_rois.hdf5',\n",
       " 'D:\\\\Drohnendaten\\\\10_WZE-UAV\\\\Auswertung_findatree\\\\Datasplit\\\\ROI\\\\rgb\\\\2021\\\\tnr15043_rois.hdf5',\n",
       " 'D:\\\\Drohnendaten\\\\10_WZE-UAV\\\\Auswertung_findatree\\\\Datasplit\\\\ROI\\\\rgb\\\\2021\\\\tnr15046_rois.hdf5',\n",
       " 'D:\\\\Drohnendaten\\\\10_WZE-UAV\\\\Auswertung_findatree\\\\Datasplit\\\\ROI\\\\rgb\\\\2021\\\\tnr15050_rois.hdf5',\n",
       " 'D:\\\\Drohnendaten\\\\10_WZE-UAV\\\\Auswertung_findatree\\\\Datasplit\\\\ROI\\\\rgb\\\\2021\\\\tnr15101_rois.hdf5',\n",
       " 'D:\\\\Drohnendaten\\\\10_WZE-UAV\\\\Auswertung_findatree\\\\Datasplit\\\\ROI\\\\rgb\\\\2021\\\\tnr15273_rois.hdf5',\n",
       " 'D:\\\\Drohnendaten\\\\10_WZE-UAV\\\\Auswertung_findatree\\\\Datasplit\\\\ROI\\\\rgb\\\\2021\\\\tnr15277_rois.hdf5',\n",
       " 'D:\\\\Drohnendaten\\\\10_WZE-UAV\\\\Auswertung_findatree\\\\Datasplit\\\\ROI\\\\rgb\\\\2021\\\\tnr15297_rois.hdf5',\n",
       " 'D:\\\\Drohnendaten\\\\10_WZE-UAV\\\\Auswertung_findatree\\\\Datasplit\\\\ROI\\\\rgb\\\\2021\\\\tnr15299_rois.hdf5',\n",
       " 'D:\\\\Drohnendaten\\\\10_WZE-UAV\\\\Auswertung_findatree\\\\Datasplit\\\\ROI\\\\rgb\\\\2021\\\\tnr15301_rois.hdf5',\n",
       " 'D:\\\\Drohnendaten\\\\10_WZE-UAV\\\\Auswertung_findatree\\\\Datasplit\\\\ROI\\\\rgb\\\\2021\\\\tnr15303_rois.hdf5',\n",
       " 'D:\\\\Drohnendaten\\\\10_WZE-UAV\\\\Auswertung_findatree\\\\Datasplit\\\\ROI\\\\rgb\\\\2021\\\\tnr15306_rois.hdf5',\n",
       " 'D:\\\\Drohnendaten\\\\10_WZE-UAV\\\\Auswertung_findatree\\\\Datasplit\\\\ROI\\\\rgb\\\\2021\\\\tnr15311_rois.hdf5',\n",
       " 'D:\\\\Drohnendaten\\\\10_WZE-UAV\\\\Auswertung_findatree\\\\Datasplit\\\\ROI\\\\rgb\\\\2021\\\\tnr15313_rois.hdf5',\n",
       " 'D:\\\\Drohnendaten\\\\10_WZE-UAV\\\\Auswertung_findatree\\\\Datasplit\\\\ROI\\\\rgb\\\\2021\\\\tnr15319_rois.hdf5',\n",
       " 'D:\\\\Drohnendaten\\\\10_WZE-UAV\\\\Auswertung_findatree\\\\Datasplit\\\\ROI\\\\rgb\\\\2021\\\\tnr15327_rois.hdf5',\n",
       " 'D:\\\\Drohnendaten\\\\10_WZE-UAV\\\\Auswertung_findatree\\\\Datasplit\\\\ROI\\\\rgb\\\\2021\\\\tnr15519_rois.hdf5',\n",
       " 'D:\\\\Drohnendaten\\\\10_WZE-UAV\\\\Auswertung_findatree\\\\Datasplit\\\\ROI\\\\rgb\\\\2021\\\\tnr15521_rois.hdf5',\n",
       " 'D:\\\\Drohnendaten\\\\10_WZE-UAV\\\\Auswertung_findatree\\\\Datasplit\\\\ROI\\\\rgb\\\\2021\\\\tnr15531_rois.hdf5',\n",
       " 'D:\\\\Drohnendaten\\\\10_WZE-UAV\\\\Auswertung_findatree\\\\Datasplit\\\\ROI\\\\rgb\\\\2021\\\\tnr15537_rois.hdf5',\n",
       " 'D:\\\\Drohnendaten\\\\10_WZE-UAV\\\\Auswertung_findatree\\\\Datasplit\\\\ROI\\\\rgb\\\\2021\\\\tnr15730_rois.hdf5',\n",
       " 'D:\\\\Drohnendaten\\\\10_WZE-UAV\\\\Auswertung_findatree\\\\Datasplit\\\\ROI\\\\rgb\\\\2021\\\\tnr15736_rois.hdf5',\n",
       " 'D:\\\\Drohnendaten\\\\10_WZE-UAV\\\\Auswertung_findatree\\\\Datasplit\\\\ROI\\\\rgb\\\\2021\\\\tnr15746_rois.hdf5',\n",
       " 'D:\\\\Drohnendaten\\\\10_WZE-UAV\\\\Auswertung_findatree\\\\Datasplit\\\\ROI\\\\rgb\\\\2021\\\\tnr15748_rois.hdf5',\n",
       " 'D:\\\\Drohnendaten\\\\10_WZE-UAV\\\\Auswertung_findatree\\\\Datasplit\\\\ROI\\\\rgb\\\\2021\\\\tnr15780_rois.hdf5',\n",
       " 'D:\\\\Drohnendaten\\\\10_WZE-UAV\\\\Auswertung_findatree\\\\Datasplit\\\\ROI\\\\rgb\\\\2021\\\\tnr15966_rois.hdf5',\n",
       " 'D:\\\\Drohnendaten\\\\10_WZE-UAV\\\\Auswertung_findatree\\\\Datasplit\\\\ROI\\\\rgb\\\\2021\\\\tnr15974_rois.hdf5',\n",
       " 'D:\\\\Drohnendaten\\\\10_WZE-UAV\\\\Auswertung_findatree\\\\Datasplit\\\\ROI\\\\rgb\\\\2021\\\\tnr15986_rois.hdf5',\n",
       " 'D:\\\\Drohnendaten\\\\10_WZE-UAV\\\\Auswertung_findatree\\\\Datasplit\\\\ROI\\\\rgb\\\\2021\\\\tnr15988_rois.hdf5',\n",
       " 'D:\\\\Drohnendaten\\\\10_WZE-UAV\\\\Auswertung_findatree\\\\Datasplit\\\\ROI\\\\rgb\\\\2021\\\\tnr15998_rois.hdf5',\n",
       " 'D:\\\\Drohnendaten\\\\10_WZE-UAV\\\\Auswertung_findatree\\\\Datasplit\\\\ROI\\\\rgb\\\\2021\\\\tnr16173_rois.hdf5',\n",
       " 'D:\\\\Drohnendaten\\\\10_WZE-UAV\\\\Auswertung_findatree\\\\Datasplit\\\\ROI\\\\rgb\\\\2021\\\\tnr16177_rois.hdf5',\n",
       " 'D:\\\\Drohnendaten\\\\10_WZE-UAV\\\\Auswertung_findatree\\\\Datasplit\\\\ROI\\\\rgb\\\\2021\\\\tnr16181_rois.hdf5',\n",
       " 'D:\\\\Drohnendaten\\\\10_WZE-UAV\\\\Auswertung_findatree\\\\Datasplit\\\\ROI\\\\rgb\\\\2021\\\\tnr16197_rois.hdf5',\n",
       " 'D:\\\\Drohnendaten\\\\10_WZE-UAV\\\\Auswertung_findatree\\\\Datasplit\\\\ROI\\\\rgb\\\\2021\\\\tnr16201_rois.hdf5',\n",
       " 'D:\\\\Drohnendaten\\\\10_WZE-UAV\\\\Auswertung_findatree\\\\Datasplit\\\\ROI\\\\rgb\\\\2021\\\\tnr16205_rois.hdf5',\n",
       " 'D:\\\\Drohnendaten\\\\10_WZE-UAV\\\\Auswertung_findatree\\\\Datasplit\\\\ROI\\\\rgb\\\\2021\\\\tnr16211_rois.hdf5',\n",
       " 'D:\\\\Drohnendaten\\\\10_WZE-UAV\\\\Auswertung_findatree\\\\Datasplit\\\\ROI\\\\rgb\\\\2021\\\\tnr16223_rois.hdf5',\n",
       " 'D:\\\\Drohnendaten\\\\10_WZE-UAV\\\\Auswertung_findatree\\\\Datasplit\\\\ROI\\\\rgb\\\\2021\\\\tnr16227_rois.hdf5',\n",
       " 'D:\\\\Drohnendaten\\\\10_WZE-UAV\\\\Auswertung_findatree\\\\Datasplit\\\\ROI\\\\rgb\\\\2021\\\\tnr16400_rois.hdf5',\n",
       " 'D:\\\\Drohnendaten\\\\10_WZE-UAV\\\\Auswertung_findatree\\\\Datasplit\\\\ROI\\\\rgb\\\\2021\\\\tnr16404_rois.hdf5',\n",
       " 'D:\\\\Drohnendaten\\\\10_WZE-UAV\\\\Auswertung_findatree\\\\Datasplit\\\\ROI\\\\rgb\\\\2021\\\\tnr16412_rois.hdf5',\n",
       " 'D:\\\\Drohnendaten\\\\10_WZE-UAV\\\\Auswertung_findatree\\\\Datasplit\\\\ROI\\\\rgb\\\\2021\\\\tnr16422_rois.hdf5',\n",
       " 'D:\\\\Drohnendaten\\\\10_WZE-UAV\\\\Auswertung_findatree\\\\Datasplit\\\\ROI\\\\rgb\\\\2021\\\\tnr16426_rois.hdf5',\n",
       " 'D:\\\\Drohnendaten\\\\10_WZE-UAV\\\\Auswertung_findatree\\\\Datasplit\\\\ROI\\\\rgb\\\\2021\\\\tnr16624_rois.hdf5',\n",
       " 'D:\\\\Drohnendaten\\\\10_WZE-UAV\\\\Auswertung_findatree\\\\Datasplit\\\\ROI\\\\rgb\\\\2021\\\\tnr16632_rois.hdf5',\n",
       " 'D:\\\\Drohnendaten\\\\10_WZE-UAV\\\\Auswertung_findatree\\\\Datasplit\\\\ROI\\\\rgb\\\\2021\\\\tnr16636_rois.hdf5',\n",
       " 'D:\\\\Drohnendaten\\\\10_WZE-UAV\\\\Auswertung_findatree\\\\Datasplit\\\\ROI\\\\rgb\\\\2021\\\\tnr16639_rois.hdf5',\n",
       " 'D:\\\\Drohnendaten\\\\10_WZE-UAV\\\\Auswertung_findatree\\\\Datasplit\\\\ROI\\\\rgb\\\\2021\\\\tnr16643_rois.hdf5',\n",
       " 'D:\\\\Drohnendaten\\\\10_WZE-UAV\\\\Auswertung_findatree\\\\Datasplit\\\\ROI\\\\rgb\\\\2021\\\\tnr16645_rois.hdf5',\n",
       " 'D:\\\\Drohnendaten\\\\10_WZE-UAV\\\\Auswertung_findatree\\\\Datasplit\\\\ROI\\\\rgb\\\\2021\\\\tnr16649_rois.hdf5',\n",
       " 'D:\\\\Drohnendaten\\\\10_WZE-UAV\\\\Auswertung_findatree\\\\Datasplit\\\\ROI\\\\rgb\\\\2021\\\\tnr16657_rois.hdf5',\n",
       " 'D:\\\\Drohnendaten\\\\10_WZE-UAV\\\\Auswertung_findatree\\\\Datasplit\\\\ROI\\\\rgb\\\\2021\\\\tnr16829_rois.hdf5',\n",
       " 'D:\\\\Drohnendaten\\\\10_WZE-UAV\\\\Auswertung_findatree\\\\Datasplit\\\\ROI\\\\rgb\\\\2021\\\\tnr16833_rois.hdf5',\n",
       " 'D:\\\\Drohnendaten\\\\10_WZE-UAV\\\\Auswertung_findatree\\\\Datasplit\\\\ROI\\\\rgb\\\\2021\\\\tnr16838_rois.hdf5',\n",
       " 'D:\\\\Drohnendaten\\\\10_WZE-UAV\\\\Auswertung_findatree\\\\Datasplit\\\\ROI\\\\rgb\\\\2021\\\\tnr17019_rois.hdf5',\n",
       " 'D:\\\\Drohnendaten\\\\10_WZE-UAV\\\\Auswertung_findatree\\\\Datasplit\\\\ROI\\\\rgb\\\\2021\\\\tnr17032_rois.hdf5',\n",
       " 'D:\\\\Drohnendaten\\\\10_WZE-UAV\\\\Auswertung_findatree\\\\Datasplit\\\\ROI\\\\rgb\\\\2021\\\\tnr17034_rois.hdf5',\n",
       " 'D:\\\\Drohnendaten\\\\10_WZE-UAV\\\\Auswertung_findatree\\\\Datasplit\\\\ROI\\\\rgb\\\\2021\\\\tnr17042_rois.hdf5',\n",
       " 'D:\\\\Drohnendaten\\\\10_WZE-UAV\\\\Auswertung_findatree\\\\Datasplit\\\\ROI\\\\rgb\\\\2021\\\\tnr17339_rois.hdf5',\n",
       " 'D:\\\\Drohnendaten\\\\10_WZE-UAV\\\\Auswertung_findatree\\\\Datasplit\\\\ROI\\\\rgb\\\\2021\\\\tnr182_rois.hdf5',\n",
       " 'D:\\\\Drohnendaten\\\\10_WZE-UAV\\\\Auswertung_findatree\\\\Datasplit\\\\ROI\\\\rgb\\\\2021\\\\tnr185_rois.hdf5',\n",
       " 'D:\\\\Drohnendaten\\\\10_WZE-UAV\\\\Auswertung_findatree\\\\Datasplit\\\\ROI\\\\rgb\\\\2021\\\\tnr188_rois.hdf5',\n",
       " 'D:\\\\Drohnendaten\\\\10_WZE-UAV\\\\Auswertung_findatree\\\\Datasplit\\\\ROI\\\\rgb\\\\2021\\\\tnr1898_rois.hdf5',\n",
       " 'D:\\\\Drohnendaten\\\\10_WZE-UAV\\\\Auswertung_findatree\\\\Datasplit\\\\ROI\\\\rgb\\\\2021\\\\tnr192_rois.hdf5',\n",
       " 'D:\\\\Drohnendaten\\\\10_WZE-UAV\\\\Auswertung_findatree\\\\Datasplit\\\\ROI\\\\rgb\\\\2021\\\\tnr194_rois.hdf5',\n",
       " 'D:\\\\Drohnendaten\\\\10_WZE-UAV\\\\Auswertung_findatree\\\\Datasplit\\\\ROI\\\\rgb\\\\2021\\\\tnr196_rois.hdf5',\n",
       " 'D:\\\\Drohnendaten\\\\10_WZE-UAV\\\\Auswertung_findatree\\\\Datasplit\\\\ROI\\\\rgb\\\\2021\\\\tnr200_rois.hdf5',\n",
       " 'D:\\\\Drohnendaten\\\\10_WZE-UAV\\\\Auswertung_findatree\\\\Datasplit\\\\ROI\\\\rgb\\\\2021\\\\tnr2386_rois.hdf5',\n",
       " 'D:\\\\Drohnendaten\\\\10_WZE-UAV\\\\Auswertung_findatree\\\\Datasplit\\\\ROI\\\\rgb\\\\2021\\\\tnr2399_rois.hdf5',\n",
       " 'D:\\\\Drohnendaten\\\\10_WZE-UAV\\\\Auswertung_findatree\\\\Datasplit\\\\ROI\\\\rgb\\\\2021\\\\tnr2411_rois.hdf5',\n",
       " 'D:\\\\Drohnendaten\\\\10_WZE-UAV\\\\Auswertung_findatree\\\\Datasplit\\\\ROI\\\\rgb\\\\2021\\\\tnr2413_rois.hdf5',\n",
       " 'D:\\\\Drohnendaten\\\\10_WZE-UAV\\\\Auswertung_findatree\\\\Datasplit\\\\ROI\\\\rgb\\\\2021\\\\tnr3398_rois.hdf5',\n",
       " 'D:\\\\Drohnendaten\\\\10_WZE-UAV\\\\Auswertung_findatree\\\\Datasplit\\\\ROI\\\\rgb\\\\2021\\\\tnr3418_rois.hdf5',\n",
       " 'D:\\\\Drohnendaten\\\\10_WZE-UAV\\\\Auswertung_findatree\\\\Datasplit\\\\ROI\\\\rgb\\\\2021\\\\tnr3430_rois.hdf5',\n",
       " 'D:\\\\Drohnendaten\\\\10_WZE-UAV\\\\Auswertung_findatree\\\\Datasplit\\\\ROI\\\\rgb\\\\2021\\\\tnr3930_rois.hdf5',\n",
       " 'D:\\\\Drohnendaten\\\\10_WZE-UAV\\\\Auswertung_findatree\\\\Datasplit\\\\ROI\\\\rgb\\\\2021\\\\tnr4396_rois.hdf5',\n",
       " 'D:\\\\Drohnendaten\\\\10_WZE-UAV\\\\Auswertung_findatree\\\\Datasplit\\\\ROI\\\\rgb\\\\2021\\\\tnr4412_rois.hdf5',\n",
       " 'D:\\\\Drohnendaten\\\\10_WZE-UAV\\\\Auswertung_findatree\\\\Datasplit\\\\ROI\\\\rgb\\\\2021\\\\tnr4436_rois.hdf5',\n",
       " 'D:\\\\Drohnendaten\\\\10_WZE-UAV\\\\Auswertung_findatree\\\\Datasplit\\\\ROI\\\\rgb\\\\2021\\\\tnr4444_rois.hdf5',\n",
       " 'D:\\\\Drohnendaten\\\\10_WZE-UAV\\\\Auswertung_findatree\\\\Datasplit\\\\ROI\\\\rgb\\\\2021\\\\tnr477_rois.hdf5',\n",
       " 'D:\\\\Drohnendaten\\\\10_WZE-UAV\\\\Auswertung_findatree\\\\Datasplit\\\\ROI\\\\rgb\\\\2021\\\\tnr485_rois.hdf5',\n",
       " 'D:\\\\Drohnendaten\\\\10_WZE-UAV\\\\Auswertung_findatree\\\\Datasplit\\\\ROI\\\\rgb\\\\2021\\\\tnr5449_rois.hdf5',\n",
       " 'D:\\\\Drohnendaten\\\\10_WZE-UAV\\\\Auswertung_findatree\\\\Datasplit\\\\ROI\\\\rgb\\\\2021\\\\tnr5930_rois.hdf5',\n",
       " 'D:\\\\Drohnendaten\\\\10_WZE-UAV\\\\Auswertung_findatree\\\\Datasplit\\\\ROI\\\\rgb\\\\2021\\\\tnr5946_rois.hdf5',\n",
       " 'D:\\\\Drohnendaten\\\\10_WZE-UAV\\\\Auswertung_findatree\\\\Datasplit\\\\ROI\\\\rgb\\\\2021\\\\tnr6430_rois.hdf5',\n",
       " 'D:\\\\Drohnendaten\\\\10_WZE-UAV\\\\Auswertung_findatree\\\\Datasplit\\\\ROI\\\\rgb\\\\2021\\\\tnr6462_rois.hdf5',\n",
       " 'D:\\\\Drohnendaten\\\\10_WZE-UAV\\\\Auswertung_findatree\\\\Datasplit\\\\ROI\\\\rgb\\\\2021\\\\tnr6466_rois.hdf5',\n",
       " 'D:\\\\Drohnendaten\\\\10_WZE-UAV\\\\Auswertung_findatree\\\\Datasplit\\\\ROI\\\\rgb\\\\2021\\\\tnr6468_rois.hdf5',\n",
       " 'D:\\\\Drohnendaten\\\\10_WZE-UAV\\\\Auswertung_findatree\\\\Datasplit\\\\ROI\\\\rgb\\\\2021\\\\tnr6470_rois.hdf5',\n",
       " 'D:\\\\Drohnendaten\\\\10_WZE-UAV\\\\Auswertung_findatree\\\\Datasplit\\\\ROI\\\\rgb\\\\2021\\\\tnr6474_rois.hdf5',\n",
       " 'D:\\\\Drohnendaten\\\\10_WZE-UAV\\\\Auswertung_findatree\\\\Datasplit\\\\ROI\\\\rgb\\\\2021\\\\tnr6478_rois.hdf5',\n",
       " 'D:\\\\Drohnendaten\\\\10_WZE-UAV\\\\Auswertung_findatree\\\\Datasplit\\\\ROI\\\\rgb\\\\2021\\\\tnr6969_rois.hdf5',\n",
       " 'D:\\\\Drohnendaten\\\\10_WZE-UAV\\\\Auswertung_findatree\\\\Datasplit\\\\ROI\\\\rgb\\\\2021\\\\tnr6971_rois.hdf5',\n",
       " 'D:\\\\Drohnendaten\\\\10_WZE-UAV\\\\Auswertung_findatree\\\\Datasplit\\\\ROI\\\\rgb\\\\2021\\\\tnr6977_rois.hdf5',\n",
       " 'D:\\\\Drohnendaten\\\\10_WZE-UAV\\\\Auswertung_findatree\\\\Datasplit\\\\ROI\\\\rgb\\\\2021\\\\tnr7002_rois.hdf5',\n",
       " 'D:\\\\Drohnendaten\\\\10_WZE-UAV\\\\Auswertung_findatree\\\\Datasplit\\\\ROI\\\\rgb\\\\2021\\\\tnr7475_rois.hdf5',\n",
       " 'D:\\\\Drohnendaten\\\\10_WZE-UAV\\\\Auswertung_findatree\\\\Datasplit\\\\ROI\\\\rgb\\\\2021\\\\tnr7511_rois.hdf5',\n",
       " 'D:\\\\Drohnendaten\\\\10_WZE-UAV\\\\Auswertung_findatree\\\\Datasplit\\\\ROI\\\\rgb\\\\2021\\\\tnr7517_rois.hdf5',\n",
       " 'D:\\\\Drohnendaten\\\\10_WZE-UAV\\\\Auswertung_findatree\\\\Datasplit\\\\ROI\\\\rgb\\\\2021\\\\tnr7521_rois.hdf5',\n",
       " 'D:\\\\Drohnendaten\\\\10_WZE-UAV\\\\Auswertung_findatree\\\\Datasplit\\\\ROI\\\\rgb\\\\2021\\\\tnr7525_rois.hdf5',\n",
       " 'D:\\\\Drohnendaten\\\\10_WZE-UAV\\\\Auswertung_findatree\\\\Datasplit\\\\ROI\\\\rgb\\\\2021\\\\tnr8032_rois.hdf5',\n",
       " 'D:\\\\Drohnendaten\\\\10_WZE-UAV\\\\Auswertung_findatree\\\\Datasplit\\\\ROI\\\\rgb\\\\2021\\\\tnr8040_rois.hdf5',\n",
       " 'D:\\\\Drohnendaten\\\\10_WZE-UAV\\\\Auswertung_findatree\\\\Datasplit\\\\ROI\\\\rgb\\\\2021\\\\tnr8492_rois.hdf5',\n",
       " 'D:\\\\Drohnendaten\\\\10_WZE-UAV\\\\Auswertung_findatree\\\\Datasplit\\\\ROI\\\\rgb\\\\2021\\\\tnr8494_rois.hdf5',\n",
       " 'D:\\\\Drohnendaten\\\\10_WZE-UAV\\\\Auswertung_findatree\\\\Datasplit\\\\ROI\\\\rgb\\\\2021\\\\tnr8498_rois.hdf5',\n",
       " 'D:\\\\Drohnendaten\\\\10_WZE-UAV\\\\Auswertung_findatree\\\\Datasplit\\\\ROI\\\\rgb\\\\2021\\\\tnr84_rois.hdf5',\n",
       " 'D:\\\\Drohnendaten\\\\10_WZE-UAV\\\\Auswertung_findatree\\\\Datasplit\\\\ROI\\\\rgb\\\\2021\\\\tnr8532_rois.hdf5',\n",
       " 'D:\\\\Drohnendaten\\\\10_WZE-UAV\\\\Auswertung_findatree\\\\Datasplit\\\\ROI\\\\rgb\\\\2021\\\\tnr86_rois.hdf5',\n",
       " 'D:\\\\Drohnendaten\\\\10_WZE-UAV\\\\Auswertung_findatree\\\\Datasplit\\\\ROI\\\\rgb\\\\2021\\\\tnr8973_rois.hdf5',\n",
       " 'D:\\\\Drohnendaten\\\\10_WZE-UAV\\\\Auswertung_findatree\\\\Datasplit\\\\ROI\\\\rgb\\\\2021\\\\tnr8979_rois.hdf5',\n",
       " 'D:\\\\Drohnendaten\\\\10_WZE-UAV\\\\Auswertung_findatree\\\\Datasplit\\\\ROI\\\\rgb\\\\2021\\\\tnr8981_rois.hdf5',\n",
       " 'D:\\\\Drohnendaten\\\\10_WZE-UAV\\\\Auswertung_findatree\\\\Datasplit\\\\ROI\\\\rgb\\\\2021\\\\tnr8989_rois.hdf5',\n",
       " 'D:\\\\Drohnendaten\\\\10_WZE-UAV\\\\Auswertung_findatree\\\\Datasplit\\\\ROI\\\\rgb\\\\2021\\\\tnr9025_rois.hdf5',\n",
       " 'D:\\\\Drohnendaten\\\\10_WZE-UAV\\\\Auswertung_findatree\\\\Datasplit\\\\ROI\\\\rgb\\\\2021\\\\tnr9464_rois.hdf5',\n",
       " 'D:\\\\Drohnendaten\\\\10_WZE-UAV\\\\Auswertung_findatree\\\\Datasplit\\\\ROI\\\\rgb\\\\2021\\\\tnr9468_rois.hdf5',\n",
       " 'D:\\\\Drohnendaten\\\\10_WZE-UAV\\\\Auswertung_findatree\\\\Datasplit\\\\ROI\\\\rgb\\\\2021\\\\tnr9472_rois.hdf5',\n",
       " 'D:\\\\Drohnendaten\\\\10_WZE-UAV\\\\Auswertung_findatree\\\\Datasplit\\\\ROI\\\\rgb\\\\2021\\\\tnr9477_rois.hdf5',\n",
       " 'D:\\\\Drohnendaten\\\\10_WZE-UAV\\\\Auswertung_findatree\\\\Datasplit\\\\ROI\\\\rgb\\\\2021\\\\tnr9479_rois.hdf5',\n",
       " 'D:\\\\Drohnendaten\\\\10_WZE-UAV\\\\Auswertung_findatree\\\\Datasplit\\\\ROI\\\\rgb\\\\2021\\\\tnr9489_rois.hdf5',\n",
       " 'D:\\\\Drohnendaten\\\\10_WZE-UAV\\\\Auswertung_findatree\\\\Datasplit\\\\ROI\\\\rgb\\\\2021\\\\tnr9493_rois.hdf5',\n",
       " 'D:\\\\Drohnendaten\\\\10_WZE-UAV\\\\Auswertung_findatree\\\\Datasplit\\\\ROI\\\\rgb\\\\2021\\\\tnr9509_rois.hdf5',\n",
       " 'D:\\\\Drohnendaten\\\\10_WZE-UAV\\\\Auswertung_findatree\\\\Datasplit\\\\ROI\\\\rgb\\\\2021\\\\tnr9515_rois.hdf5',\n",
       " 'D:\\\\Drohnendaten\\\\10_WZE-UAV\\\\Auswertung_findatree\\\\Datasplit\\\\ROI\\\\rgb\\\\2021\\\\tnr9517_rois.hdf5',\n",
       " 'D:\\\\Drohnendaten\\\\10_WZE-UAV\\\\Auswertung_findatree\\\\Datasplit\\\\ROI\\\\rgb\\\\2021\\\\tnr9948_rois.hdf5',\n",
       " 'D:\\\\Drohnendaten\\\\10_WZE-UAV\\\\Auswertung_findatree\\\\Datasplit\\\\ROI\\\\rgb\\\\2021\\\\tnr9958_rois.hdf5',\n",
       " 'D:\\\\Drohnendaten\\\\10_WZE-UAV\\\\Auswertung_findatree\\\\Datasplit\\\\ROI\\\\rgb\\\\2021\\\\tnr9966_rois.hdf5',\n",
       " 'D:\\\\Drohnendaten\\\\10_WZE-UAV\\\\Auswertung_findatree\\\\Datasplit\\\\ROI\\\\rgb\\\\2021\\\\tnr9973_rois.hdf5',\n",
       " 'D:\\\\Drohnendaten\\\\10_WZE-UAV\\\\Auswertung_findatree\\\\Datasplit\\\\ROI\\\\rgb\\\\2021\\\\tnr9980_rois.hdf5',\n",
       " 'D:\\\\Drohnendaten\\\\10_WZE-UAV\\\\Auswertung_findatree\\\\Datasplit\\\\ROI\\\\rgb\\\\2021\\\\tnr9984_rois.hdf5',\n",
       " 'D:\\\\Drohnendaten\\\\10_WZE-UAV\\\\Auswertung_findatree\\\\Datasplit\\\\ROI\\\\rgb\\\\2021\\\\tnr9986_rois.hdf5',\n",
       " 'D:\\\\Drohnendaten\\\\10_WZE-UAV\\\\Auswertung_findatree\\\\Datasplit\\\\ROI\\\\rgb\\\\2021\\\\tnr9988_rois.hdf5',\n",
       " 'D:\\\\Drohnendaten\\\\10_WZE-UAV\\\\Auswertung_findatree\\\\Datasplit\\\\ROI\\\\rgb\\\\2021\\\\tnr9996_rois.hdf5',\n",
       " 'D:\\\\Drohnendaten\\\\10_WZE-UAV\\\\Auswertung_findatree\\\\Datasplit\\\\ROI\\\\rgb\\\\2022\\\\tnr10527_rois.hdf5',\n",
       " 'D:\\\\Drohnendaten\\\\10_WZE-UAV\\\\Auswertung_findatree\\\\Datasplit\\\\ROI\\\\rgb\\\\2022\\\\tnr10533_rois.hdf5',\n",
       " 'D:\\\\Drohnendaten\\\\10_WZE-UAV\\\\Auswertung_findatree\\\\Datasplit\\\\ROI\\\\rgb\\\\2022\\\\tnr10545_rois.hdf5',\n",
       " 'D:\\\\Drohnendaten\\\\10_WZE-UAV\\\\Auswertung_findatree\\\\Datasplit\\\\ROI\\\\rgb\\\\2022\\\\tnr10547_rois.hdf5',\n",
       " 'D:\\\\Drohnendaten\\\\10_WZE-UAV\\\\Auswertung_findatree\\\\Datasplit\\\\ROI\\\\rgb\\\\2022\\\\tnr10912_rois.hdf5',\n",
       " 'D:\\\\Drohnendaten\\\\10_WZE-UAV\\\\Auswertung_findatree\\\\Datasplit\\\\ROI\\\\rgb\\\\2022\\\\tnr11032_rois.hdf5',\n",
       " 'D:\\\\Drohnendaten\\\\10_WZE-UAV\\\\Auswertung_findatree\\\\Datasplit\\\\ROI\\\\rgb\\\\2022\\\\tnr11040_rois.hdf5',\n",
       " 'D:\\\\Drohnendaten\\\\10_WZE-UAV\\\\Auswertung_findatree\\\\Datasplit\\\\ROI\\\\rgb\\\\2022\\\\tnr11044_rois.hdf5',\n",
       " 'D:\\\\Drohnendaten\\\\10_WZE-UAV\\\\Auswertung_findatree\\\\Datasplit\\\\ROI\\\\rgb\\\\2022\\\\tnr11048_rois.hdf5',\n",
       " 'D:\\\\Drohnendaten\\\\10_WZE-UAV\\\\Auswertung_findatree\\\\Datasplit\\\\ROI\\\\rgb\\\\2022\\\\tnr11052_rois.hdf5',\n",
       " 'D:\\\\Drohnendaten\\\\10_WZE-UAV\\\\Auswertung_findatree\\\\Datasplit\\\\ROI\\\\rgb\\\\2022\\\\tnr11056_rois.hdf5',\n",
       " 'D:\\\\Drohnendaten\\\\10_WZE-UAV\\\\Auswertung_findatree\\\\Datasplit\\\\ROI\\\\rgb\\\\2022\\\\tnr11078_rois.hdf5',\n",
       " 'D:\\\\Drohnendaten\\\\10_WZE-UAV\\\\Auswertung_findatree\\\\Datasplit\\\\ROI\\\\rgb\\\\2022\\\\tnr11080_rois.hdf5',\n",
       " 'D:\\\\Drohnendaten\\\\10_WZE-UAV\\\\Auswertung_findatree\\\\Datasplit\\\\ROI\\\\rgb\\\\2022\\\\tnr11090_rois.hdf5',\n",
       " 'D:\\\\Drohnendaten\\\\10_WZE-UAV\\\\Auswertung_findatree\\\\Datasplit\\\\ROI\\\\rgb\\\\2022\\\\tnr11092_rois.hdf5',\n",
       " 'D:\\\\Drohnendaten\\\\10_WZE-UAV\\\\Auswertung_findatree\\\\Datasplit\\\\ROI\\\\rgb\\\\2022\\\\tnr11179_rois.hdf5',\n",
       " 'D:\\\\Drohnendaten\\\\10_WZE-UAV\\\\Auswertung_findatree\\\\Datasplit\\\\ROI\\\\rgb\\\\2022\\\\tnr11189_rois.hdf5',\n",
       " 'D:\\\\Drohnendaten\\\\10_WZE-UAV\\\\Auswertung_findatree\\\\Datasplit\\\\ROI\\\\rgb\\\\2022\\\\tnr11325_rois.hdf5',\n",
       " 'D:\\\\Drohnendaten\\\\10_WZE-UAV\\\\Auswertung_findatree\\\\Datasplit\\\\ROI\\\\rgb\\\\2022\\\\tnr11453_rois.hdf5',\n",
       " 'D:\\\\Drohnendaten\\\\10_WZE-UAV\\\\Auswertung_findatree\\\\Datasplit\\\\ROI\\\\rgb\\\\2022\\\\tnr11459_rois.hdf5',\n",
       " 'D:\\\\Drohnendaten\\\\10_WZE-UAV\\\\Auswertung_findatree\\\\Datasplit\\\\ROI\\\\rgb\\\\2022\\\\tnr11576_rois.hdf5',\n",
       " 'D:\\\\Drohnendaten\\\\10_WZE-UAV\\\\Auswertung_findatree\\\\Datasplit\\\\ROI\\\\rgb\\\\2022\\\\tnr11581_rois.hdf5',\n",
       " 'D:\\\\Drohnendaten\\\\10_WZE-UAV\\\\Auswertung_findatree\\\\Datasplit\\\\ROI\\\\rgb\\\\2022\\\\tnr11597_rois.hdf5',\n",
       " 'D:\\\\Drohnendaten\\\\10_WZE-UAV\\\\Auswertung_findatree\\\\Datasplit\\\\ROI\\\\rgb\\\\2022\\\\tnr11601_rois.hdf5',\n",
       " 'D:\\\\Drohnendaten\\\\10_WZE-UAV\\\\Auswertung_findatree\\\\Datasplit\\\\ROI\\\\rgb\\\\2022\\\\tnr11622_rois.hdf5',\n",
       " 'D:\\\\Drohnendaten\\\\10_WZE-UAV\\\\Auswertung_findatree\\\\Datasplit\\\\ROI\\\\rgb\\\\2022\\\\tnr11626_rois.hdf5',\n",
       " 'D:\\\\Drohnendaten\\\\10_WZE-UAV\\\\Auswertung_findatree\\\\Datasplit\\\\ROI\\\\rgb\\\\2022\\\\tnr11638_rois.hdf5',\n",
       " 'D:\\\\Drohnendaten\\\\10_WZE-UAV\\\\Auswertung_findatree\\\\Datasplit\\\\ROI\\\\rgb\\\\2022\\\\tnr11640_rois.hdf5',\n",
       " 'D:\\\\Drohnendaten\\\\10_WZE-UAV\\\\Auswertung_findatree\\\\Datasplit\\\\ROI\\\\rgb\\\\2022\\\\tnr11727_rois.hdf5',\n",
       " 'D:\\\\Drohnendaten\\\\10_WZE-UAV\\\\Auswertung_findatree\\\\Datasplit\\\\ROI\\\\rgb\\\\2022\\\\tnr11733_rois.hdf5',\n",
       " 'D:\\\\Drohnendaten\\\\10_WZE-UAV\\\\Auswertung_findatree\\\\Datasplit\\\\ROI\\\\rgb\\\\2022\\\\tnr11866_rois.hdf5',\n",
       " 'D:\\\\Drohnendaten\\\\10_WZE-UAV\\\\Auswertung_findatree\\\\Datasplit\\\\ROI\\\\rgb\\\\2022\\\\tnr11874_rois.hdf5',\n",
       " 'D:\\\\Drohnendaten\\\\10_WZE-UAV\\\\Auswertung_findatree\\\\Datasplit\\\\ROI\\\\rgb\\\\2022\\\\tnr11878_rois.hdf5',\n",
       " 'D:\\\\Drohnendaten\\\\10_WZE-UAV\\\\Auswertung_findatree\\\\Datasplit\\\\ROI\\\\rgb\\\\2022\\\\tnr12013_rois.hdf5',\n",
       " 'D:\\\\Drohnendaten\\\\10_WZE-UAV\\\\Auswertung_findatree\\\\Datasplit\\\\ROI\\\\rgb\\\\2022\\\\tnr12019_rois.hdf5',\n",
       " 'D:\\\\Drohnendaten\\\\10_WZE-UAV\\\\Auswertung_findatree\\\\Datasplit\\\\ROI\\\\rgb\\\\2022\\\\tnr12120_rois.hdf5',\n",
       " 'D:\\\\Drohnendaten\\\\10_WZE-UAV\\\\Auswertung_findatree\\\\Datasplit\\\\ROI\\\\rgb\\\\2022\\\\tnr12124_rois.hdf5',\n",
       " 'D:\\\\Drohnendaten\\\\10_WZE-UAV\\\\Auswertung_findatree\\\\Datasplit\\\\ROI\\\\rgb\\\\2022\\\\tnr12153_rois.hdf5',\n",
       " 'D:\\\\Drohnendaten\\\\10_WZE-UAV\\\\Auswertung_findatree\\\\Datasplit\\\\ROI\\\\rgb\\\\2022\\\\tnr12161_rois.hdf5',\n",
       " 'D:\\\\Drohnendaten\\\\10_WZE-UAV\\\\Auswertung_findatree\\\\Datasplit\\\\ROI\\\\rgb\\\\2022\\\\tnr12169_rois.hdf5',\n",
       " 'D:\\\\Drohnendaten\\\\10_WZE-UAV\\\\Auswertung_findatree\\\\Datasplit\\\\ROI\\\\rgb\\\\2022\\\\tnr12179_rois.hdf5',\n",
       " 'D:\\\\Drohnendaten\\\\10_WZE-UAV\\\\Auswertung_findatree\\\\Datasplit\\\\ROI\\\\rgb\\\\2022\\\\tnr12285_rois.hdf5',\n",
       " 'D:\\\\Drohnendaten\\\\10_WZE-UAV\\\\Auswertung_findatree\\\\Datasplit\\\\ROI\\\\rgb\\\\2022\\\\tnr12426_rois.hdf5',\n",
       " 'D:\\\\Drohnendaten\\\\10_WZE-UAV\\\\Auswertung_findatree\\\\Datasplit\\\\ROI\\\\rgb\\\\2022\\\\tnr12549_rois.hdf5',\n",
       " 'D:\\\\Drohnendaten\\\\10_WZE-UAV\\\\Auswertung_findatree\\\\Datasplit\\\\ROI\\\\rgb\\\\2022\\\\tnr12553_rois.hdf5',\n",
       " 'D:\\\\Drohnendaten\\\\10_WZE-UAV\\\\Auswertung_findatree\\\\Datasplit\\\\ROI\\\\rgb\\\\2022\\\\tnr12694_rois.hdf5',\n",
       " 'D:\\\\Drohnendaten\\\\10_WZE-UAV\\\\Auswertung_findatree\\\\Datasplit\\\\ROI\\\\rgb\\\\2022\\\\tnr12702_rois.hdf5',\n",
       " 'D:\\\\Drohnendaten\\\\10_WZE-UAV\\\\Auswertung_findatree\\\\Datasplit\\\\ROI\\\\rgb\\\\2022\\\\tnr12715_rois.hdf5',\n",
       " 'D:\\\\Drohnendaten\\\\10_WZE-UAV\\\\Auswertung_findatree\\\\Datasplit\\\\ROI\\\\rgb\\\\2022\\\\tnr12717_rois.hdf5',\n",
       " 'D:\\\\Drohnendaten\\\\10_WZE-UAV\\\\Auswertung_findatree\\\\Datasplit\\\\ROI\\\\rgb\\\\2022\\\\tnr12719_rois.hdf5',\n",
       " 'D:\\\\Drohnendaten\\\\10_WZE-UAV\\\\Auswertung_findatree\\\\Datasplit\\\\ROI\\\\rgb\\\\2022\\\\tnr12950_rois.hdf5',\n",
       " 'D:\\\\Drohnendaten\\\\10_WZE-UAV\\\\Auswertung_findatree\\\\Datasplit\\\\ROI\\\\rgb\\\\2022\\\\tnr12960_rois.hdf5',\n",
       " 'D:\\\\Drohnendaten\\\\10_WZE-UAV\\\\Auswertung_findatree\\\\Datasplit\\\\ROI\\\\rgb\\\\2022\\\\tnr13212_rois.hdf5',\n",
       " 'D:\\\\Drohnendaten\\\\10_WZE-UAV\\\\Auswertung_findatree\\\\Datasplit\\\\ROI\\\\rgb\\\\2022\\\\tnr13233_rois.hdf5',\n",
       " 'D:\\\\Drohnendaten\\\\10_WZE-UAV\\\\Auswertung_findatree\\\\Datasplit\\\\ROI\\\\rgb\\\\2022\\\\tnr13259_rois.hdf5',\n",
       " 'D:\\\\Drohnendaten\\\\10_WZE-UAV\\\\Auswertung_findatree\\\\Datasplit\\\\ROI\\\\rgb\\\\2022\\\\tnr13508_rois.hdf5',\n",
       " 'D:\\\\Drohnendaten\\\\10_WZE-UAV\\\\Auswertung_findatree\\\\Datasplit\\\\ROI\\\\rgb\\\\2022\\\\tnr13758_rois.hdf5',\n",
       " 'D:\\\\Drohnendaten\\\\10_WZE-UAV\\\\Auswertung_findatree\\\\Datasplit\\\\ROI\\\\rgb\\\\2022\\\\tnr13766_rois.hdf5',\n",
       " 'D:\\\\Drohnendaten\\\\10_WZE-UAV\\\\Auswertung_findatree\\\\Datasplit\\\\ROI\\\\rgb\\\\2022\\\\tnr13779_rois.hdf5',\n",
       " 'D:\\\\Drohnendaten\\\\10_WZE-UAV\\\\Auswertung_findatree\\\\Datasplit\\\\ROI\\\\rgb\\\\2022\\\\tnr13819_rois.hdf5',\n",
       " 'D:\\\\Drohnendaten\\\\10_WZE-UAV\\\\Auswertung_findatree\\\\Datasplit\\\\ROI\\\\rgb\\\\2022\\\\tnr13825_rois.hdf5',\n",
       " 'D:\\\\Drohnendaten\\\\10_WZE-UAV\\\\Auswertung_findatree\\\\Datasplit\\\\ROI\\\\rgb\\\\2022\\\\tnr13898_rois.hdf5',\n",
       " 'D:\\\\Drohnendaten\\\\10_WZE-UAV\\\\Auswertung_findatree\\\\Datasplit\\\\ROI\\\\rgb\\\\2022\\\\tnr13922_rois.hdf5',\n",
       " 'D:\\\\Drohnendaten\\\\10_WZE-UAV\\\\Auswertung_findatree\\\\Datasplit\\\\ROI\\\\rgb\\\\2022\\\\tnr14156_rois.hdf5',\n",
       " 'D:\\\\Drohnendaten\\\\10_WZE-UAV\\\\Auswertung_findatree\\\\Datasplit\\\\ROI\\\\rgb\\\\2022\\\\tnr14293_rois.hdf5',\n",
       " 'D:\\\\Drohnendaten\\\\10_WZE-UAV\\\\Auswertung_findatree\\\\Datasplit\\\\ROI\\\\rgb\\\\2022\\\\tnr14327_rois.hdf5',\n",
       " 'D:\\\\Drohnendaten\\\\10_WZE-UAV\\\\Auswertung_findatree\\\\Datasplit\\\\ROI\\\\rgb\\\\2022\\\\tnr14666_rois.hdf5',\n",
       " 'D:\\\\Drohnendaten\\\\10_WZE-UAV\\\\Auswertung_findatree\\\\Datasplit\\\\ROI\\\\rgb\\\\2022\\\\tnr14723_rois.hdf5',\n",
       " 'D:\\\\Drohnendaten\\\\10_WZE-UAV\\\\Auswertung_findatree\\\\Datasplit\\\\ROI\\\\rgb\\\\2022\\\\tnr14727_rois.hdf5',\n",
       " 'D:\\\\Drohnendaten\\\\10_WZE-UAV\\\\Auswertung_findatree\\\\Datasplit\\\\ROI\\\\rgb\\\\2022\\\\tnr14732_rois.hdf5',\n",
       " 'D:\\\\Drohnendaten\\\\10_WZE-UAV\\\\Auswertung_findatree\\\\Datasplit\\\\ROI\\\\rgb\\\\2022\\\\tnr14781_rois.hdf5',\n",
       " 'D:\\\\Drohnendaten\\\\10_WZE-UAV\\\\Auswertung_findatree\\\\Datasplit\\\\ROI\\\\rgb\\\\2022\\\\tnr14877_rois.hdf5',\n",
       " 'D:\\\\Drohnendaten\\\\10_WZE-UAV\\\\Auswertung_findatree\\\\Datasplit\\\\ROI\\\\rgb\\\\2022\\\\tnr14879_rois.hdf5',\n",
       " 'D:\\\\Drohnendaten\\\\10_WZE-UAV\\\\Auswertung_findatree\\\\Datasplit\\\\ROI\\\\rgb\\\\2022\\\\tnr14887_rois.hdf5',\n",
       " 'D:\\\\Drohnendaten\\\\10_WZE-UAV\\\\Auswertung_findatree\\\\Datasplit\\\\ROI\\\\rgb\\\\2022\\\\tnr15020_rois.hdf5',\n",
       " 'D:\\\\Drohnendaten\\\\10_WZE-UAV\\\\Auswertung_findatree\\\\Datasplit\\\\ROI\\\\rgb\\\\2022\\\\tnr15027_rois.hdf5',\n",
       " 'D:\\\\Drohnendaten\\\\10_WZE-UAV\\\\Auswertung_findatree\\\\Datasplit\\\\ROI\\\\rgb\\\\2022\\\\tnr15031_rois.hdf5',\n",
       " 'D:\\\\Drohnendaten\\\\10_WZE-UAV\\\\Auswertung_findatree\\\\Datasplit\\\\ROI\\\\rgb\\\\2022\\\\tnr15035_rois.hdf5',\n",
       " 'D:\\\\Drohnendaten\\\\10_WZE-UAV\\\\Auswertung_findatree\\\\Datasplit\\\\ROI\\\\rgb\\\\2022\\\\tnr15039_rois.hdf5',\n",
       " 'D:\\\\Drohnendaten\\\\10_WZE-UAV\\\\Auswertung_findatree\\\\Datasplit\\\\ROI\\\\rgb\\\\2022\\\\tnr15043_rois.hdf5',\n",
       " 'D:\\\\Drohnendaten\\\\10_WZE-UAV\\\\Auswertung_findatree\\\\Datasplit\\\\ROI\\\\rgb\\\\2022\\\\tnr15046_rois.hdf5',\n",
       " 'D:\\\\Drohnendaten\\\\10_WZE-UAV\\\\Auswertung_findatree\\\\Datasplit\\\\ROI\\\\rgb\\\\2022\\\\tnr15050_rois.hdf5',\n",
       " 'D:\\\\Drohnendaten\\\\10_WZE-UAV\\\\Auswertung_findatree\\\\Datasplit\\\\ROI\\\\rgb\\\\2022\\\\tnr15101_rois.hdf5',\n",
       " 'D:\\\\Drohnendaten\\\\10_WZE-UAV\\\\Auswertung_findatree\\\\Datasplit\\\\ROI\\\\rgb\\\\2022\\\\tnr15273_rois.hdf5',\n",
       " 'D:\\\\Drohnendaten\\\\10_WZE-UAV\\\\Auswertung_findatree\\\\Datasplit\\\\ROI\\\\rgb\\\\2022\\\\tnr15277_rois.hdf5',\n",
       " 'D:\\\\Drohnendaten\\\\10_WZE-UAV\\\\Auswertung_findatree\\\\Datasplit\\\\ROI\\\\rgb\\\\2022\\\\tnr15297_rois.hdf5',\n",
       " 'D:\\\\Drohnendaten\\\\10_WZE-UAV\\\\Auswertung_findatree\\\\Datasplit\\\\ROI\\\\rgb\\\\2022\\\\tnr15299_rois.hdf5',\n",
       " 'D:\\\\Drohnendaten\\\\10_WZE-UAV\\\\Auswertung_findatree\\\\Datasplit\\\\ROI\\\\rgb\\\\2022\\\\tnr15301_rois.hdf5',\n",
       " 'D:\\\\Drohnendaten\\\\10_WZE-UAV\\\\Auswertung_findatree\\\\Datasplit\\\\ROI\\\\rgb\\\\2022\\\\tnr15303_rois.hdf5',\n",
       " 'D:\\\\Drohnendaten\\\\10_WZE-UAV\\\\Auswertung_findatree\\\\Datasplit\\\\ROI\\\\rgb\\\\2022\\\\tnr15306_rois.hdf5',\n",
       " 'D:\\\\Drohnendaten\\\\10_WZE-UAV\\\\Auswertung_findatree\\\\Datasplit\\\\ROI\\\\rgb\\\\2022\\\\tnr15311_rois.hdf5',\n",
       " 'D:\\\\Drohnendaten\\\\10_WZE-UAV\\\\Auswertung_findatree\\\\Datasplit\\\\ROI\\\\rgb\\\\2022\\\\tnr15313_rois.hdf5',\n",
       " 'D:\\\\Drohnendaten\\\\10_WZE-UAV\\\\Auswertung_findatree\\\\Datasplit\\\\ROI\\\\rgb\\\\2022\\\\tnr15319_rois.hdf5',\n",
       " 'D:\\\\Drohnendaten\\\\10_WZE-UAV\\\\Auswertung_findatree\\\\Datasplit\\\\ROI\\\\rgb\\\\2022\\\\tnr15327_rois.hdf5',\n",
       " 'D:\\\\Drohnendaten\\\\10_WZE-UAV\\\\Auswertung_findatree\\\\Datasplit\\\\ROI\\\\rgb\\\\2022\\\\tnr15519_rois.hdf5',\n",
       " 'D:\\\\Drohnendaten\\\\10_WZE-UAV\\\\Auswertung_findatree\\\\Datasplit\\\\ROI\\\\rgb\\\\2022\\\\tnr15521_rois.hdf5',\n",
       " 'D:\\\\Drohnendaten\\\\10_WZE-UAV\\\\Auswertung_findatree\\\\Datasplit\\\\ROI\\\\rgb\\\\2022\\\\tnr15531_rois.hdf5',\n",
       " 'D:\\\\Drohnendaten\\\\10_WZE-UAV\\\\Auswertung_findatree\\\\Datasplit\\\\ROI\\\\rgb\\\\2022\\\\tnr15537_rois.hdf5',\n",
       " 'D:\\\\Drohnendaten\\\\10_WZE-UAV\\\\Auswertung_findatree\\\\Datasplit\\\\ROI\\\\rgb\\\\2022\\\\tnr15730_rois.hdf5',\n",
       " 'D:\\\\Drohnendaten\\\\10_WZE-UAV\\\\Auswertung_findatree\\\\Datasplit\\\\ROI\\\\rgb\\\\2022\\\\tnr15736_rois.hdf5',\n",
       " 'D:\\\\Drohnendaten\\\\10_WZE-UAV\\\\Auswertung_findatree\\\\Datasplit\\\\ROI\\\\rgb\\\\2022\\\\tnr15746_rois.hdf5',\n",
       " 'D:\\\\Drohnendaten\\\\10_WZE-UAV\\\\Auswertung_findatree\\\\Datasplit\\\\ROI\\\\rgb\\\\2022\\\\tnr15748_rois.hdf5',\n",
       " 'D:\\\\Drohnendaten\\\\10_WZE-UAV\\\\Auswertung_findatree\\\\Datasplit\\\\ROI\\\\rgb\\\\2022\\\\tnr15780_rois.hdf5',\n",
       " 'D:\\\\Drohnendaten\\\\10_WZE-UAV\\\\Auswertung_findatree\\\\Datasplit\\\\ROI\\\\rgb\\\\2022\\\\tnr15966_rois.hdf5',\n",
       " 'D:\\\\Drohnendaten\\\\10_WZE-UAV\\\\Auswertung_findatree\\\\Datasplit\\\\ROI\\\\rgb\\\\2022\\\\tnr15974_rois.hdf5',\n",
       " 'D:\\\\Drohnendaten\\\\10_WZE-UAV\\\\Auswertung_findatree\\\\Datasplit\\\\ROI\\\\rgb\\\\2022\\\\tnr15986_rois.hdf5',\n",
       " 'D:\\\\Drohnendaten\\\\10_WZE-UAV\\\\Auswertung_findatree\\\\Datasplit\\\\ROI\\\\rgb\\\\2022\\\\tnr15988_rois.hdf5',\n",
       " 'D:\\\\Drohnendaten\\\\10_WZE-UAV\\\\Auswertung_findatree\\\\Datasplit\\\\ROI\\\\rgb\\\\2022\\\\tnr15998_rois.hdf5',\n",
       " 'D:\\\\Drohnendaten\\\\10_WZE-UAV\\\\Auswertung_findatree\\\\Datasplit\\\\ROI\\\\rgb\\\\2022\\\\tnr16173_rois.hdf5',\n",
       " 'D:\\\\Drohnendaten\\\\10_WZE-UAV\\\\Auswertung_findatree\\\\Datasplit\\\\ROI\\\\rgb\\\\2022\\\\tnr16181_rois.hdf5',\n",
       " 'D:\\\\Drohnendaten\\\\10_WZE-UAV\\\\Auswertung_findatree\\\\Datasplit\\\\ROI\\\\rgb\\\\2022\\\\tnr16193_rois.hdf5',\n",
       " 'D:\\\\Drohnendaten\\\\10_WZE-UAV\\\\Auswertung_findatree\\\\Datasplit\\\\ROI\\\\rgb\\\\2022\\\\tnr16197_rois.hdf5',\n",
       " 'D:\\\\Drohnendaten\\\\10_WZE-UAV\\\\Auswertung_findatree\\\\Datasplit\\\\ROI\\\\rgb\\\\2022\\\\tnr16205_rois.hdf5',\n",
       " 'D:\\\\Drohnendaten\\\\10_WZE-UAV\\\\Auswertung_findatree\\\\Datasplit\\\\ROI\\\\rgb\\\\2022\\\\tnr16211_rois.hdf5',\n",
       " 'D:\\\\Drohnendaten\\\\10_WZE-UAV\\\\Auswertung_findatree\\\\Datasplit\\\\ROI\\\\rgb\\\\2022\\\\tnr16223_rois.hdf5',\n",
       " 'D:\\\\Drohnendaten\\\\10_WZE-UAV\\\\Auswertung_findatree\\\\Datasplit\\\\ROI\\\\rgb\\\\2022\\\\tnr16227_rois.hdf5',\n",
       " 'D:\\\\Drohnendaten\\\\10_WZE-UAV\\\\Auswertung_findatree\\\\Datasplit\\\\ROI\\\\rgb\\\\2022\\\\tnr16400_rois.hdf5',\n",
       " 'D:\\\\Drohnendaten\\\\10_WZE-UAV\\\\Auswertung_findatree\\\\Datasplit\\\\ROI\\\\rgb\\\\2022\\\\tnr16404_rois.hdf5',\n",
       " 'D:\\\\Drohnendaten\\\\10_WZE-UAV\\\\Auswertung_findatree\\\\Datasplit\\\\ROI\\\\rgb\\\\2022\\\\tnr16412_rois.hdf5',\n",
       " 'D:\\\\Drohnendaten\\\\10_WZE-UAV\\\\Auswertung_findatree\\\\Datasplit\\\\ROI\\\\rgb\\\\2022\\\\tnr16422_rois.hdf5',\n",
       " 'D:\\\\Drohnendaten\\\\10_WZE-UAV\\\\Auswertung_findatree\\\\Datasplit\\\\ROI\\\\rgb\\\\2022\\\\tnr16426_rois.hdf5',\n",
       " 'D:\\\\Drohnendaten\\\\10_WZE-UAV\\\\Auswertung_findatree\\\\Datasplit\\\\ROI\\\\rgb\\\\2022\\\\tnr16620_rois.hdf5',\n",
       " 'D:\\\\Drohnendaten\\\\10_WZE-UAV\\\\Auswertung_findatree\\\\Datasplit\\\\ROI\\\\rgb\\\\2022\\\\tnr16624_rois.hdf5',\n",
       " 'D:\\\\Drohnendaten\\\\10_WZE-UAV\\\\Auswertung_findatree\\\\Datasplit\\\\ROI\\\\rgb\\\\2022\\\\tnr16632_rois.hdf5',\n",
       " 'D:\\\\Drohnendaten\\\\10_WZE-UAV\\\\Auswertung_findatree\\\\Datasplit\\\\ROI\\\\rgb\\\\2022\\\\tnr16636_rois.hdf5',\n",
       " 'D:\\\\Drohnendaten\\\\10_WZE-UAV\\\\Auswertung_findatree\\\\Datasplit\\\\ROI\\\\rgb\\\\2022\\\\tnr16639_rois.hdf5',\n",
       " 'D:\\\\Drohnendaten\\\\10_WZE-UAV\\\\Auswertung_findatree\\\\Datasplit\\\\ROI\\\\rgb\\\\2022\\\\tnr16643_rois.hdf5',\n",
       " 'D:\\\\Drohnendaten\\\\10_WZE-UAV\\\\Auswertung_findatree\\\\Datasplit\\\\ROI\\\\rgb\\\\2022\\\\tnr16645_rois.hdf5',\n",
       " 'D:\\\\Drohnendaten\\\\10_WZE-UAV\\\\Auswertung_findatree\\\\Datasplit\\\\ROI\\\\rgb\\\\2022\\\\tnr16649_rois.hdf5',\n",
       " 'D:\\\\Drohnendaten\\\\10_WZE-UAV\\\\Auswertung_findatree\\\\Datasplit\\\\ROI\\\\rgb\\\\2022\\\\tnr16657_rois.hdf5',\n",
       " 'D:\\\\Drohnendaten\\\\10_WZE-UAV\\\\Auswertung_findatree\\\\Datasplit\\\\ROI\\\\rgb\\\\2022\\\\tnr16829_rois.hdf5',\n",
       " 'D:\\\\Drohnendaten\\\\10_WZE-UAV\\\\Auswertung_findatree\\\\Datasplit\\\\ROI\\\\rgb\\\\2022\\\\tnr16833_rois.hdf5',\n",
       " 'D:\\\\Drohnendaten\\\\10_WZE-UAV\\\\Auswertung_findatree\\\\Datasplit\\\\ROI\\\\rgb\\\\2022\\\\tnr16838_rois.hdf5',\n",
       " 'D:\\\\Drohnendaten\\\\10_WZE-UAV\\\\Auswertung_findatree\\\\Datasplit\\\\ROI\\\\rgb\\\\2022\\\\tnr17019_rois.hdf5',\n",
       " 'D:\\\\Drohnendaten\\\\10_WZE-UAV\\\\Auswertung_findatree\\\\Datasplit\\\\ROI\\\\rgb\\\\2022\\\\tnr17032_rois.hdf5',\n",
       " 'D:\\\\Drohnendaten\\\\10_WZE-UAV\\\\Auswertung_findatree\\\\Datasplit\\\\ROI\\\\rgb\\\\2022\\\\tnr17034_rois.hdf5',\n",
       " 'D:\\\\Drohnendaten\\\\10_WZE-UAV\\\\Auswertung_findatree\\\\Datasplit\\\\ROI\\\\rgb\\\\2022\\\\tnr17042_rois.hdf5',\n",
       " 'D:\\\\Drohnendaten\\\\10_WZE-UAV\\\\Auswertung_findatree\\\\Datasplit\\\\ROI\\\\rgb\\\\2022\\\\tnr17339_rois.hdf5',\n",
       " 'D:\\\\Drohnendaten\\\\10_WZE-UAV\\\\Auswertung_findatree\\\\Datasplit\\\\ROI\\\\rgb\\\\2022\\\\tnr1898_rois.hdf5',\n",
       " 'D:\\\\Drohnendaten\\\\10_WZE-UAV\\\\Auswertung_findatree\\\\Datasplit\\\\ROI\\\\rgb\\\\2022\\\\tnr2386_rois.hdf5',\n",
       " 'D:\\\\Drohnendaten\\\\10_WZE-UAV\\\\Auswertung_findatree\\\\Datasplit\\\\ROI\\\\rgb\\\\2022\\\\tnr2399_rois.hdf5',\n",
       " 'D:\\\\Drohnendaten\\\\10_WZE-UAV\\\\Auswertung_findatree\\\\Datasplit\\\\ROI\\\\rgb\\\\2022\\\\tnr2411_rois.hdf5',\n",
       " 'D:\\\\Drohnendaten\\\\10_WZE-UAV\\\\Auswertung_findatree\\\\Datasplit\\\\ROI\\\\rgb\\\\2022\\\\tnr2413_rois.hdf5',\n",
       " 'D:\\\\Drohnendaten\\\\10_WZE-UAV\\\\Auswertung_findatree\\\\Datasplit\\\\ROI\\\\rgb\\\\2022\\\\tnr3398_rois.hdf5',\n",
       " 'D:\\\\Drohnendaten\\\\10_WZE-UAV\\\\Auswertung_findatree\\\\Datasplit\\\\ROI\\\\rgb\\\\2022\\\\tnr3418_rois.hdf5',\n",
       " 'D:\\\\Drohnendaten\\\\10_WZE-UAV\\\\Auswertung_findatree\\\\Datasplit\\\\ROI\\\\rgb\\\\2022\\\\tnr3430_rois.hdf5',\n",
       " 'D:\\\\Drohnendaten\\\\10_WZE-UAV\\\\Auswertung_findatree\\\\Datasplit\\\\ROI\\\\rgb\\\\2022\\\\tnr3930_rois.hdf5',\n",
       " 'D:\\\\Drohnendaten\\\\10_WZE-UAV\\\\Auswertung_findatree\\\\Datasplit\\\\ROI\\\\rgb\\\\2022\\\\tnr4412_rois.hdf5',\n",
       " 'D:\\\\Drohnendaten\\\\10_WZE-UAV\\\\Auswertung_findatree\\\\Datasplit\\\\ROI\\\\rgb\\\\2022\\\\tnr4436_rois.hdf5',\n",
       " 'D:\\\\Drohnendaten\\\\10_WZE-UAV\\\\Auswertung_findatree\\\\Datasplit\\\\ROI\\\\rgb\\\\2022\\\\tnr4444_rois.hdf5',\n",
       " 'D:\\\\Drohnendaten\\\\10_WZE-UAV\\\\Auswertung_findatree\\\\Datasplit\\\\ROI\\\\rgb\\\\2022\\\\tnr5449_rois.hdf5',\n",
       " 'D:\\\\Drohnendaten\\\\10_WZE-UAV\\\\Auswertung_findatree\\\\Datasplit\\\\ROI\\\\rgb\\\\2022\\\\tnr5930_rois.hdf5',\n",
       " 'D:\\\\Drohnendaten\\\\10_WZE-UAV\\\\Auswertung_findatree\\\\Datasplit\\\\ROI\\\\rgb\\\\2022\\\\tnr5946_rois.hdf5',\n",
       " 'D:\\\\Drohnendaten\\\\10_WZE-UAV\\\\Auswertung_findatree\\\\Datasplit\\\\ROI\\\\rgb\\\\2022\\\\tnr6430_rois.hdf5',\n",
       " 'D:\\\\Drohnendaten\\\\10_WZE-UAV\\\\Auswertung_findatree\\\\Datasplit\\\\ROI\\\\rgb\\\\2022\\\\tnr6462_rois.hdf5',\n",
       " 'D:\\\\Drohnendaten\\\\10_WZE-UAV\\\\Auswertung_findatree\\\\Datasplit\\\\ROI\\\\rgb\\\\2022\\\\tnr6466_rois.hdf5',\n",
       " 'D:\\\\Drohnendaten\\\\10_WZE-UAV\\\\Auswertung_findatree\\\\Datasplit\\\\ROI\\\\rgb\\\\2022\\\\tnr6468_rois.hdf5',\n",
       " 'D:\\\\Drohnendaten\\\\10_WZE-UAV\\\\Auswertung_findatree\\\\Datasplit\\\\ROI\\\\rgb\\\\2022\\\\tnr6470_rois.hdf5',\n",
       " 'D:\\\\Drohnendaten\\\\10_WZE-UAV\\\\Auswertung_findatree\\\\Datasplit\\\\ROI\\\\rgb\\\\2022\\\\tnr6474_rois.hdf5',\n",
       " 'D:\\\\Drohnendaten\\\\10_WZE-UAV\\\\Auswertung_findatree\\\\Datasplit\\\\ROI\\\\rgb\\\\2022\\\\tnr6478_rois.hdf5',\n",
       " 'D:\\\\Drohnendaten\\\\10_WZE-UAV\\\\Auswertung_findatree\\\\Datasplit\\\\ROI\\\\rgb\\\\2022\\\\tnr6969_rois.hdf5',\n",
       " 'D:\\\\Drohnendaten\\\\10_WZE-UAV\\\\Auswertung_findatree\\\\Datasplit\\\\ROI\\\\rgb\\\\2022\\\\tnr6971_rois.hdf5',\n",
       " 'D:\\\\Drohnendaten\\\\10_WZE-UAV\\\\Auswertung_findatree\\\\Datasplit\\\\ROI\\\\rgb\\\\2022\\\\tnr6977_rois.hdf5',\n",
       " 'D:\\\\Drohnendaten\\\\10_WZE-UAV\\\\Auswertung_findatree\\\\Datasplit\\\\ROI\\\\rgb\\\\2022\\\\tnr7002_rois.hdf5',\n",
       " 'D:\\\\Drohnendaten\\\\10_WZE-UAV\\\\Auswertung_findatree\\\\Datasplit\\\\ROI\\\\rgb\\\\2022\\\\tnr7475_rois.hdf5',\n",
       " 'D:\\\\Drohnendaten\\\\10_WZE-UAV\\\\Auswertung_findatree\\\\Datasplit\\\\ROI\\\\rgb\\\\2022\\\\tnr7511_rois.hdf5',\n",
       " 'D:\\\\Drohnendaten\\\\10_WZE-UAV\\\\Auswertung_findatree\\\\Datasplit\\\\ROI\\\\rgb\\\\2022\\\\tnr7517_rois.hdf5',\n",
       " 'D:\\\\Drohnendaten\\\\10_WZE-UAV\\\\Auswertung_findatree\\\\Datasplit\\\\ROI\\\\rgb\\\\2022\\\\tnr7521_rois.hdf5',\n",
       " 'D:\\\\Drohnendaten\\\\10_WZE-UAV\\\\Auswertung_findatree\\\\Datasplit\\\\ROI\\\\rgb\\\\2022\\\\tnr7525_rois.hdf5',\n",
       " 'D:\\\\Drohnendaten\\\\10_WZE-UAV\\\\Auswertung_findatree\\\\Datasplit\\\\ROI\\\\rgb\\\\2022\\\\tnr8040_rois.hdf5',\n",
       " 'D:\\\\Drohnendaten\\\\10_WZE-UAV\\\\Auswertung_findatree\\\\Datasplit\\\\ROI\\\\rgb\\\\2022\\\\tnr8492_rois.hdf5',\n",
       " 'D:\\\\Drohnendaten\\\\10_WZE-UAV\\\\Auswertung_findatree\\\\Datasplit\\\\ROI\\\\rgb\\\\2022\\\\tnr8494_rois.hdf5',\n",
       " 'D:\\\\Drohnendaten\\\\10_WZE-UAV\\\\Auswertung_findatree\\\\Datasplit\\\\ROI\\\\rgb\\\\2022\\\\tnr8498_rois.hdf5',\n",
       " 'D:\\\\Drohnendaten\\\\10_WZE-UAV\\\\Auswertung_findatree\\\\Datasplit\\\\ROI\\\\rgb\\\\2022\\\\tnr8532_rois.hdf5',\n",
       " 'D:\\\\Drohnendaten\\\\10_WZE-UAV\\\\Auswertung_findatree\\\\Datasplit\\\\ROI\\\\rgb\\\\2022\\\\tnr8973_rois.hdf5',\n",
       " 'D:\\\\Drohnendaten\\\\10_WZE-UAV\\\\Auswertung_findatree\\\\Datasplit\\\\ROI\\\\rgb\\\\2022\\\\tnr8979_rois.hdf5',\n",
       " 'D:\\\\Drohnendaten\\\\10_WZE-UAV\\\\Auswertung_findatree\\\\Datasplit\\\\ROI\\\\rgb\\\\2022\\\\tnr8981_rois.hdf5',\n",
       " 'D:\\\\Drohnendaten\\\\10_WZE-UAV\\\\Auswertung_findatree\\\\Datasplit\\\\ROI\\\\rgb\\\\2022\\\\tnr8989_rois.hdf5',\n",
       " 'D:\\\\Drohnendaten\\\\10_WZE-UAV\\\\Auswertung_findatree\\\\Datasplit\\\\ROI\\\\rgb\\\\2022\\\\tnr9025_rois.hdf5',\n",
       " 'D:\\\\Drohnendaten\\\\10_WZE-UAV\\\\Auswertung_findatree\\\\Datasplit\\\\ROI\\\\rgb\\\\2022\\\\tnr9464_rois.hdf5',\n",
       " 'D:\\\\Drohnendaten\\\\10_WZE-UAV\\\\Auswertung_findatree\\\\Datasplit\\\\ROI\\\\rgb\\\\2022\\\\tnr9468_rois.hdf5',\n",
       " 'D:\\\\Drohnendaten\\\\10_WZE-UAV\\\\Auswertung_findatree\\\\Datasplit\\\\ROI\\\\rgb\\\\2022\\\\tnr9472_rois.hdf5',\n",
       " 'D:\\\\Drohnendaten\\\\10_WZE-UAV\\\\Auswertung_findatree\\\\Datasplit\\\\ROI\\\\rgb\\\\2022\\\\tnr9477_rois.hdf5',\n",
       " 'D:\\\\Drohnendaten\\\\10_WZE-UAV\\\\Auswertung_findatree\\\\Datasplit\\\\ROI\\\\rgb\\\\2022\\\\tnr9489_rois.hdf5',\n",
       " 'D:\\\\Drohnendaten\\\\10_WZE-UAV\\\\Auswertung_findatree\\\\Datasplit\\\\ROI\\\\rgb\\\\2022\\\\tnr9493_rois.hdf5',\n",
       " 'D:\\\\Drohnendaten\\\\10_WZE-UAV\\\\Auswertung_findatree\\\\Datasplit\\\\ROI\\\\rgb\\\\2022\\\\tnr9509_rois.hdf5',\n",
       " 'D:\\\\Drohnendaten\\\\10_WZE-UAV\\\\Auswertung_findatree\\\\Datasplit\\\\ROI\\\\rgb\\\\2022\\\\tnr9515_rois.hdf5',\n",
       " 'D:\\\\Drohnendaten\\\\10_WZE-UAV\\\\Auswertung_findatree\\\\Datasplit\\\\ROI\\\\rgb\\\\2022\\\\tnr9517_rois.hdf5',\n",
       " 'D:\\\\Drohnendaten\\\\10_WZE-UAV\\\\Auswertung_findatree\\\\Datasplit\\\\ROI\\\\rgb\\\\2022\\\\tnr9948_rois.hdf5',\n",
       " 'D:\\\\Drohnendaten\\\\10_WZE-UAV\\\\Auswertung_findatree\\\\Datasplit\\\\ROI\\\\rgb\\\\2022\\\\tnr9958_rois.hdf5',\n",
       " 'D:\\\\Drohnendaten\\\\10_WZE-UAV\\\\Auswertung_findatree\\\\Datasplit\\\\ROI\\\\rgb\\\\2022\\\\tnr9966_rois.hdf5',\n",
       " 'D:\\\\Drohnendaten\\\\10_WZE-UAV\\\\Auswertung_findatree\\\\Datasplit\\\\ROI\\\\rgb\\\\2022\\\\tnr9984_rois.hdf5',\n",
       " 'D:\\\\Drohnendaten\\\\10_WZE-UAV\\\\Auswertung_findatree\\\\Datasplit\\\\ROI\\\\rgb\\\\2022\\\\tnr9986_rois.hdf5',\n",
       " 'D:\\\\Drohnendaten\\\\10_WZE-UAV\\\\Auswertung_findatree\\\\Datasplit\\\\ROI\\\\rgb\\\\2022\\\\tnr9988_rois.hdf5',\n",
       " 'D:\\\\Drohnendaten\\\\10_WZE-UAV\\\\Auswertung_findatree\\\\Datasplit\\\\ROI\\\\rgb\\\\2022\\\\tnr9996_rois.hdf5']"
      ]
     },
     "execution_count": 11,
     "metadata": {},
     "output_type": "execute_result"
    }
   ],
   "source": [
    "path_list"
   ]
  },
  {
   "cell_type": "markdown",
   "id": "f3937a44",
   "metadata": {},
   "source": [
    "#### Create unique hash IDs for every individual tree"
   ]
  },
  {
   "cell_type": "code",
   "execution_count": 12,
   "id": "8a50f1d7",
   "metadata": {},
   "outputs": [
    {
     "data": {
      "application/vnd.jupyter.widget-view+json": {
       "model_id": "5fb16d09000840d688533c22d1a63fb6",
       "version_major": 2,
       "version_minor": 0
      },
      "text/plain": [
       "Creating unique tree IDs...:   0%|          | 0/647 [00:00<?, ?it/s]"
      ]
     },
     "metadata": {},
     "output_type": "display_data"
    }
   ],
   "source": [
    "hashID_dict = data_loader.get_unique_treeID(path_list)"
   ]
  },
  {
   "cell_type": "markdown",
   "id": "6f4cea00",
   "metadata": {},
   "source": [
    "#### Import all imagery, labels and other features from hdf5 files"
   ]
  },
  {
   "cell_type": "code",
   "execution_count": 13,
   "id": "94e3eecf",
   "metadata": {},
   "outputs": [
    {
     "data": {
      "application/vnd.jupyter.widget-view+json": {
       "model_id": "e547972fb96c4daa849f4a598406701d",
       "version_major": 2,
       "version_minor": 0
      },
      "text/plain": [
       "Processing hdf5 datasets:   0%|          | 0/647 [00:00<?, ?it/s]"
      ]
     },
     "metadata": {},
     "output_type": "display_data"
    }
   ],
   "source": [
    "image_set, label_set, species_set, kkl_set, bk_set, hash_id = data_loader.hdf5_to_img_label(path_list,\n",
    "                                                                                               hashID_dict,\n",
    "                                                                                               load_sets=[\"images_masked\"])"
   ]
  },
  {
   "cell_type": "markdown",
   "id": "6a90e2b7",
   "metadata": {},
   "source": [
    "#### Convert nbv to classes"
   ]
  },
  {
   "cell_type": "code",
   "execution_count": 14,
   "id": "0224972a",
   "metadata": {},
   "outputs": [],
   "source": [
    "label_set = nbv_to_sst_3classes(label_set)"
   ]
  },
  {
   "cell_type": "code",
   "execution_count": 175,
   "id": "001a2f52",
   "metadata": {},
   "outputs": [
    {
     "data": {
      "text/plain": [
       "array(['008f1c38', '00e2a384', '00ea2251', ..., 'ff91e905', 'ffc07b97',\n",
       "       'ffc78d1b'], dtype='<U8')"
      ]
     },
     "execution_count": 175,
     "metadata": {},
     "output_type": "execute_result"
    }
   ],
   "source": [
    "test_ids"
   ]
  },
  {
   "cell_type": "code",
   "execution_count": 176,
   "id": "2dead980",
   "metadata": {},
   "outputs": [
    {
     "name": "stdout",
     "output_type": "stream",
     "text": [
      "ORIGINAL POSITIVE RATIO: 0.42823717096516883\n",
      "Fold : 0\n",
      "TRAIN POSITIVE RATIO: 0.4338164868143797\n",
      "TEST POSITIVE RATIO : 0.40044529262086515\n",
      "TRAIN GROUPS        : 5904\n",
      "TEST GROUPS         : 1183\n",
      "Fold : 1\n",
      "TRAIN POSITIVE RATIO: 0.4338164868143797\n",
      "TEST POSITIVE RATIO : 0.40044529262086515\n",
      "TRAIN GROUPS        : 5904\n",
      "TEST GROUPS         : 1183\n",
      "Fold : 2\n",
      "TRAIN POSITIVE RATIO: 0.4338164868143797\n",
      "TEST POSITIVE RATIO : 0.40044529262086515\n",
      "TRAIN GROUPS        : 5904\n",
      "TEST GROUPS         : 1183\n",
      "Fold : 3\n",
      "TRAIN POSITIVE RATIO: 0.4338164868143797\n",
      "TEST POSITIVE RATIO : 0.40044529262086515\n",
      "TRAIN GROUPS        : 5904\n",
      "TEST GROUPS         : 1183\n",
      "Fold : 4\n",
      "TRAIN POSITIVE RATIO: 0.4338164868143797\n",
      "TEST POSITIVE RATIO : 0.40044529262086515\n",
      "TRAIN GROUPS        : 5904\n",
      "TEST GROUPS         : 1183\n",
      "Fold : 5\n",
      "TRAIN POSITIVE RATIO: 0.4338164868143797\n",
      "TEST POSITIVE RATIO : 0.40044529262086515\n",
      "TRAIN GROUPS        : 5904\n",
      "TEST GROUPS         : 1183\n"
     ]
    }
   ],
   "source": [
    "import numpy as np\n",
    "from sklearn.model_selection import StratifiedGroupKFold\n",
    "\n",
    "X = image_set\n",
    "y = label_set\n",
    "groups = hash_id[:, 0]\n",
    "print(\"ORIGINAL POSITIVE RATIO:\", y.mean())\n",
    "cv = StratifiedGroupKFold(n_splits=6, shuffle=True, random_state=42)\n",
    "for fold, (sub_ids, test_ids) in enumerate(cv.split(X, y, groups)):\n",
    "    print(\"Fold :\", fold)\n",
    "    print(\"TRAIN POSITIVE RATIO:\", y[train_idxs].mean())\n",
    "    print(\"TEST POSITIVE RATIO :\", y[test_idxs].mean())\n",
    "    print(\"TRAIN GROUPS        :\", len(set(groups[train_idxs])))\n",
    "    #print(\"TRAIN GROUPS        :\", set(groups[train_idxs]))\n",
    "    print(\"TEST GROUPS         :\", len(set(groups[test_idxs])))\n",
    "    \n",
    "sub_ids = hash_id[:, 0][train_ids]\n",
    "test_ids = np.unique(hash_id[:, 0][test_ids])"
   ]
  },
  {
   "cell_type": "code",
   "execution_count": 178,
   "id": "8affd78c",
   "metadata": {},
   "outputs": [
    {
     "data": {
      "text/plain": [
       "array(['008f1c38', '00e2a384', '00ea2251', ..., 'ff91e905', 'ffc07b97',\n",
       "       'ffc78d1b'], dtype='<U8')"
      ]
     },
     "execution_count": 178,
     "metadata": {},
     "output_type": "execute_result"
    }
   ],
   "source": [
    "test_ids"
   ]
  },
  {
   "cell_type": "code",
   "execution_count": 69,
   "id": "61566226",
   "metadata": {},
   "outputs": [
    {
     "ename": "ValueError",
     "evalue": "Found input variables with inconsistent numbers of samples: [3146, 3146, 6292]",
     "output_type": "error",
     "traceback": [
      "\u001b[1;31m---------------------------------------------------------------------------\u001b[0m",
      "\u001b[1;31mValueError\u001b[0m                                Traceback (most recent call last)",
      "Input \u001b[1;32mIn [69]\u001b[0m, in \u001b[0;36m<cell line: 21>\u001b[1;34m()\u001b[0m\n\u001b[0;32m     19\u001b[0m test_labels \u001b[38;5;241m=\u001b[39m label_set[test_idx]\u001b[38;5;241m.\u001b[39mravel()\n\u001b[0;32m     20\u001b[0m test_group \u001b[38;5;241m=\u001b[39m hash_id[test_idx]\u001b[38;5;241m.\u001b[39mravel()\n\u001b[1;32m---> 21\u001b[0m _, test_stratified_idx \u001b[38;5;241m=\u001b[39m \u001b[38;5;28;43mnext\u001b[39;49m\u001b[43m(\u001b[49m\u001b[43mstratified_ss\u001b[49m\u001b[38;5;241;43m.\u001b[39;49m\u001b[43msplit\u001b[49m\u001b[43m(\u001b[49m\u001b[43mtest_labels\u001b[49m\u001b[43m,\u001b[49m\u001b[43m \u001b[49m\u001b[43mtest_labels\u001b[49m\u001b[43m,\u001b[49m\u001b[43m \u001b[49m\u001b[43mgroups\u001b[49m\u001b[38;5;241;43m=\u001b[39;49m\u001b[43mtest_group\u001b[49m\u001b[43m)\u001b[49m\u001b[43m)\u001b[49m\n\u001b[0;32m     23\u001b[0m \u001b[38;5;66;03m# Get the train and test data based on the indices\u001b[39;00m\n\u001b[0;32m     24\u001b[0m train_stratified_idx \u001b[38;5;241m=\u001b[39m train_idx[train_stratified_idx]\n",
      "File \u001b[1;32m~\\Ecke_conda\\envs\\PyTorch_v10\\lib\\site-packages\\sklearn\\model_selection\\_split.py:1688\u001b[0m, in \u001b[0;36mBaseShuffleSplit.split\u001b[1;34m(self, X, y, groups)\u001b[0m\n\u001b[0;32m   1658\u001b[0m \u001b[38;5;28;01mdef\u001b[39;00m \u001b[38;5;21msplit\u001b[39m(\u001b[38;5;28mself\u001b[39m, X, y\u001b[38;5;241m=\u001b[39m\u001b[38;5;28;01mNone\u001b[39;00m, groups\u001b[38;5;241m=\u001b[39m\u001b[38;5;28;01mNone\u001b[39;00m):\n\u001b[0;32m   1659\u001b[0m     \u001b[38;5;124;03m\"\"\"Generate indices to split data into training and test set.\u001b[39;00m\n\u001b[0;32m   1660\u001b[0m \n\u001b[0;32m   1661\u001b[0m \u001b[38;5;124;03m    Parameters\u001b[39;00m\n\u001b[1;32m   (...)\u001b[0m\n\u001b[0;32m   1686\u001b[0m \u001b[38;5;124;03m    to an integer.\u001b[39;00m\n\u001b[0;32m   1687\u001b[0m \u001b[38;5;124;03m    \"\"\"\u001b[39;00m\n\u001b[1;32m-> 1688\u001b[0m     X, y, groups \u001b[38;5;241m=\u001b[39m \u001b[43mindexable\u001b[49m\u001b[43m(\u001b[49m\u001b[43mX\u001b[49m\u001b[43m,\u001b[49m\u001b[43m \u001b[49m\u001b[43my\u001b[49m\u001b[43m,\u001b[49m\u001b[43m \u001b[49m\u001b[43mgroups\u001b[49m\u001b[43m)\u001b[49m\n\u001b[0;32m   1689\u001b[0m     \u001b[38;5;28;01mfor\u001b[39;00m train, test \u001b[38;5;129;01min\u001b[39;00m \u001b[38;5;28mself\u001b[39m\u001b[38;5;241m.\u001b[39m_iter_indices(X, y, groups):\n\u001b[0;32m   1690\u001b[0m         \u001b[38;5;28;01myield\u001b[39;00m train, test\n",
      "File \u001b[1;32m~\\Ecke_conda\\envs\\PyTorch_v10\\lib\\site-packages\\sklearn\\utils\\validation.py:443\u001b[0m, in \u001b[0;36mindexable\u001b[1;34m(*iterables)\u001b[0m\n\u001b[0;32m    424\u001b[0m \u001b[38;5;124;03m\"\"\"Make arrays indexable for cross-validation.\u001b[39;00m\n\u001b[0;32m    425\u001b[0m \n\u001b[0;32m    426\u001b[0m \u001b[38;5;124;03mChecks consistent length, passes through None, and ensures that everything\u001b[39;00m\n\u001b[1;32m   (...)\u001b[0m\n\u001b[0;32m    439\u001b[0m \u001b[38;5;124;03m    sparse matrix, or dataframe) or `None`.\u001b[39;00m\n\u001b[0;32m    440\u001b[0m \u001b[38;5;124;03m\"\"\"\u001b[39;00m\n\u001b[0;32m    442\u001b[0m result \u001b[38;5;241m=\u001b[39m [_make_indexable(X) \u001b[38;5;28;01mfor\u001b[39;00m X \u001b[38;5;129;01min\u001b[39;00m iterables]\n\u001b[1;32m--> 443\u001b[0m \u001b[43mcheck_consistent_length\u001b[49m\u001b[43m(\u001b[49m\u001b[38;5;241;43m*\u001b[39;49m\u001b[43mresult\u001b[49m\u001b[43m)\u001b[49m\n\u001b[0;32m    444\u001b[0m \u001b[38;5;28;01mreturn\u001b[39;00m result\n",
      "File \u001b[1;32m~\\Ecke_conda\\envs\\PyTorch_v10\\lib\\site-packages\\sklearn\\utils\\validation.py:397\u001b[0m, in \u001b[0;36mcheck_consistent_length\u001b[1;34m(*arrays)\u001b[0m\n\u001b[0;32m    395\u001b[0m uniques \u001b[38;5;241m=\u001b[39m np\u001b[38;5;241m.\u001b[39munique(lengths)\n\u001b[0;32m    396\u001b[0m \u001b[38;5;28;01mif\u001b[39;00m \u001b[38;5;28mlen\u001b[39m(uniques) \u001b[38;5;241m>\u001b[39m \u001b[38;5;241m1\u001b[39m:\n\u001b[1;32m--> 397\u001b[0m     \u001b[38;5;28;01mraise\u001b[39;00m \u001b[38;5;167;01mValueError\u001b[39;00m(\n\u001b[0;32m    398\u001b[0m         \u001b[38;5;124m\"\u001b[39m\u001b[38;5;124mFound input variables with inconsistent numbers of samples: \u001b[39m\u001b[38;5;132;01m%r\u001b[39;00m\u001b[38;5;124m\"\u001b[39m\n\u001b[0;32m    399\u001b[0m         \u001b[38;5;241m%\u001b[39m [\u001b[38;5;28mint\u001b[39m(l) \u001b[38;5;28;01mfor\u001b[39;00m l \u001b[38;5;129;01min\u001b[39;00m lengths]\n\u001b[0;32m    400\u001b[0m     )\n",
      "\u001b[1;31mValueError\u001b[0m: Found input variables with inconsistent numbers of samples: [3146, 3146, 6292]"
     ]
    }
   ],
   "source": [
    "from sklearn.model_selection import StratifiedShuffleSplit, GroupShuffleSplit\n",
    "\n",
    "# Define the ratio of the test data\n",
    "test_size = 0.1667\n",
    "\n",
    "# Create an instance of GroupShuffleSplit with the desired parameters\n",
    "group_ss = GroupShuffleSplit(n_splits=1, test_size=test_size, random_state=42)\n",
    "\n",
    "# Split the dataset into train and test sets using the group information\n",
    "train_idx, test_idx = next(group_ss.split(image_set, groups=hash_id[:, 0]))\n",
    "\n",
    "# Perform stratified shuffle split on the train and test data based on the labels\n",
    "stratified_ss = StratifiedShuffleSplit(n_splits=1, test_size=test_size, random_state=42)\n",
    "\n",
    "train_labels = label_set[train_idx].ravel()\n",
    "train_group = hash_id[:, 0][train_idx].ravel()\n",
    "train_stratified_idx, _ = next(stratified_ss.split(train_labels, train_labels, groups=train_group))\n",
    "\n",
    "test_labels = label_set[test_idx].ravel()\n",
    "test_group = hash_id[test_idx].ravel()\n",
    "_, test_stratified_idx = next(stratified_ss.split(test_labels, test_labels, groups=test_group))\n",
    "\n",
    "# Get the train and test data based on the indices\n",
    "train_stratified_idx = train_idx[train_stratified_idx]\n",
    "test_stratified_idx = test_idx[test_stratified_idx]\n",
    "\n",
    "train_images, train_labels, train_hashes = image_set[train_stratified_idx], label_set[train_stratified_idx], hash_id[train_stratified_idx]\n",
    "test_images, test_labels, test_hashes = image_set[test_stratified_idx], label_set[test_stratified_idx], hash_id[test_stratified_idx]\n"
   ]
  },
  {
   "cell_type": "code",
   "execution_count": 148,
   "id": "f16a72c6",
   "metadata": {},
   "outputs": [
    {
     "name": "stdout",
     "output_type": "stream",
     "text": [
      "Number of True in sub_indices: 15661\n",
      "Number of False in sub_indices: 3144\n",
      "Number of True in test_indices: 1183\n",
      "Number of False in test_indices: 17622\n",
      "Check shapes:\n",
      "\n",
      "Images sub dataset: (15661, 250, 250, 3)\n",
      "Labels sub dataset: (15661, 1)\n",
      "\n",
      "Images test dataset: (1183, 250, 250, 3)\n",
      "Labels test dataset: (1183, 1)\n",
      "\n",
      "--------------------------------------------------\n",
      "Healthy trees in sub dataset: 9131\n",
      "Stressed trees in sub dataset: 6266\n",
      "Dead trees in sub dataset: 264\n",
      "Healthy trees in test dataset: 717\n",
      "Stressed trees in test dataset: 442\n",
      "Dead trees in test dataset: 24\n",
      "Ratio health trees in test dataset: 0.07852371043697295\n",
      "Ratio stressed trees in test dataset: 0.07053941908713693\n",
      "Ratio dead trees in test dataset: 0.09090909090909091\n"
     ]
    }
   ],
   "source": [
    "#unique_values = np.unique(hash_id[:,0])\n",
    "#num_unique = len(unique_values)\n",
    "#print(f\"There are {num_unique} unique values within hash_id.\")\n",
    "\n",
    "# get image IDs for each unique hash ID and year\n",
    "#image_ids_2020 = hash_id[hash_id[:, 1] == '2020'][:, 0]\n",
    "#image_ids_2021 = hash_id[hash_id[:, 1] == '2021'][:, 0]\n",
    "#image_ids_2022 = hash_id[hash_id[:, 1] == '2022'][:, 0]\n",
    "\n",
    "# split unique hash IDs into a subset and test datasets\n",
    "#sub_ids, test_ids = train_test_split(unique_values, test_size=test_size, random_state=42)\n",
    "\n",
    "# create boolean arrays indicating which indices belong to train or test sets\n",
    "# 1. combined subset of training and validation data\n",
    "sub_indices = np.isin(hash_id[:, 0], sub_ids)\n",
    "num_true = np.count_nonzero(sub_indices)\n",
    "num_false = np.count_nonzero(~sub_indices)\n",
    "print(\"Number of True in sub_indices:\", num_true)\n",
    "print(\"Number of False in sub_indices:\", num_false)\n",
    "\n",
    "# 2. test dataset\n",
    "#np.random.seed(seed) # set the seed value for randomly choosing an image of one of the years\n",
    "test_indices = np.zeros_like(sub_indices)  # initialize to all False\n",
    "for hash_id_test in test_ids:\n",
    "    # select one image ID randomly from either 2020 or 2021 or 2022 for each unique hash ID in the test set\n",
    "    temp = np.unique(hash_id[(hash_id[:, 0] == hash_id_test), 1]) # check how many years are available per hashID\n",
    "    if len(temp) == 1:\n",
    "        year = temp[0]\n",
    "    elif len(temp) == 2:\n",
    "        year = np.random.choice(temp)\n",
    "    else:\n",
    "        year = np.random.choice(temp)\n",
    "    \n",
    "    #year = np.random.choice(['2020', '2021', '2022'])\n",
    "    image_ids = hash_id[(hash_id[:, 0] == hash_id_test) & (hash_id[:, 1] == year), 0]\n",
    "    \n",
    "    # mark the index corresponding to the selected image ID and hash ID as True in the test indices array\n",
    "    test_indices[(hash_id[:, 0] == hash_id_test) & (hash_id[:, 1] == year) & (np.isin(hash_id[:, 0], image_ids))] = True\n",
    "\n",
    "num_true = np.count_nonzero(test_indices)\n",
    "num_false = np.count_nonzero(~test_indices)\n",
    "print(\"Number of True in test_indices:\", num_true)\n",
    "print(\"Number of False in test_indices:\", num_false)\n",
    "\n",
    "# Reshape boolean arrays to match shape of image_set and label_set\n",
    "sub_indices = sub_indices.reshape(-1, 1)\n",
    "test_indices = test_indices.reshape(-1, 1)\n",
    "\n",
    "# Select images and labels for train_val and test sets\n",
    "sub_image_set = image_set[sub_indices[:, 0]]\n",
    "sub_label_set = label_set[sub_indices[:, 0]]\n",
    "sub_hash_id = hash_id[sub_indices[:, 0]]\n",
    "sub_species_set = species_set[sub_indices[:, 0]]\n",
    "\n",
    "test_image_set = image_set[test_indices[:, 0]]\n",
    "test_label_set = label_set[test_indices[:, 0]]\n",
    "test_hash_id = hash_id[test_indices[:, 0]]\n",
    "test_species_set = species_set[test_indices[:, 0]]\n",
    "\n",
    "sub_label_set = sub_label_set.reshape(-1, 1)\n",
    "test_label_set = test_label_set.reshape(-1, 1)\n",
    "sub_species_set = sub_species_set.reshape(-1, 1)\n",
    "test_species_set = test_species_set.reshape(-1, 1)\n",
    "print(\"Check shapes:\\n\")\n",
    "print(f\"Images sub dataset: {sub_image_set.shape}\")\n",
    "print(f\"Labels sub dataset: {sub_label_set.shape}\\n\")\n",
    "print(f\"Images test dataset: {test_image_set.shape}\")\n",
    "print(f\"Labels test dataset: {test_label_set.shape}\\n\")\n",
    "print('-'*50)\n",
    "#print (f\"Check if the split was stratified: (random_state={random_state})\")\n",
    "print(f\"Healthy trees in sub dataset: {np.count_nonzero(sub_label_set == 0)}\")\n",
    "print(f\"Stressed trees in sub dataset: {np.count_nonzero(sub_label_set == 1)}\")\n",
    "print(f\"Dead trees in sub dataset: {np.count_nonzero(sub_label_set == 2)}\")\n",
    "print(f\"Healthy trees in test dataset: {np.count_nonzero(test_label_set == 0)}\")\n",
    "print(f\"Stressed trees in test dataset: {np.count_nonzero(test_label_set == 1)}\")\n",
    "print(f\"Dead trees in test dataset: {np.count_nonzero(test_label_set == 2)}\")\n",
    "print(f\"Ratio health trees in test dataset: {np.count_nonzero(test_label_set == 0)/np.count_nonzero(sub_label_set == 0)}\")\n",
    "print(f\"Ratio stressed trees in test dataset: {np.count_nonzero(test_label_set == 1)/np.count_nonzero(sub_label_set == 1)}\")\n",
    "print(f\"Ratio dead trees in test dataset: {np.count_nonzero(test_label_set == 2)/np.count_nonzero(sub_label_set == 2)}\")"
   ]
  },
  {
   "cell_type": "code",
   "execution_count": 146,
   "id": "e7a49337",
   "metadata": {},
   "outputs": [
    {
     "name": "stdout",
     "output_type": "stream",
     "text": [
      "3144\n",
      "3144\n"
     ]
    }
   ],
   "source": []
  },
  {
   "cell_type": "code",
   "execution_count": 195,
   "id": "585130fb",
   "metadata": {},
   "outputs": [],
   "source": [
    "def data_split_v2(image_set: np.array, label_set: np.array, hash_id: np.array, species_set: np.array, test_size=0.1667, random_state=42, seed=2):\n",
    "     \n",
    "    # group the hashIDs to get the unique values of hashIDs    \n",
    "    groups = hash_id[:, 0] \n",
    "    print(\"ORIGINAL POSITIVE RATIO:\", label_set.mean())\n",
    "    # create a StratifiedGroupKFold instance\n",
    "    cv = StratifiedGroupKFold(n_splits=int(1/0.13), shuffle=True, random_state=random_state)\n",
    "    # loop through the first fold\n",
    "    for fold, (sub_ids, test_ids) in enumerate(cv.split(image_set, label_set, groups)):\n",
    "        print(\"Fold :\", fold)\n",
    "        print(\"TRAIN POSITIVE RATIO:\", label_set[sub_ids].mean())\n",
    "        print(\"TEST POSITIVE RATIO :\", label_set[test_ids].mean())\n",
    "        print(\"LENGTH TRAIN GROUPS :\", len(set(groups[sub_ids])))\n",
    "        print(\"LENGTH TEST GROUPS  :\", len(set(groups[test_ids])))\n",
    "        break # we only need one fold\n",
    "\n",
    "    sub_ids = hash_id[:, 0][sub_ids]\n",
    "    test_ids = np.unique(hash_id[:, 0][test_ids])\n",
    "    \n",
    "    # create boolean arrays indicating which indices belong to train or test sets\n",
    "    # 1. combined subset of training and validation data\n",
    "    sub_indices = np.isin(hash_id[:, 0], sub_ids)\n",
    "    num_true = np.count_nonzero(sub_indices)\n",
    "    num_false = np.count_nonzero(~sub_indices)\n",
    "    print(\"Number of True in sub_indices:\", num_true)\n",
    "    print(\"Number of False in sub_indices:\", num_false)\n",
    "    \n",
    "    # 2. test dataset\n",
    "    np.random.seed(seed) # set the seed value for randomly choosing an image of one of the years\n",
    "    test_indices = np.zeros_like(sub_indices)  # initialize to all False\n",
    "    for hash_id_test in test_ids:\n",
    "        # select one image ID randomly from either 2020 or 2021 or 2022 for each unique hash ID in the test set\n",
    "        temp = np.unique(hash_id[(hash_id[:, 0] == hash_id_test), 1]) # check how many years are available per hashID\n",
    "        if len(temp) == 1:\n",
    "            year = temp[0]\n",
    "        elif len(temp) == 2:\n",
    "            year = np.random.choice(temp)\n",
    "        else:\n",
    "            year = np.random.choice(temp)\n",
    "        \n",
    "        image_ids = hash_id[(hash_id[:, 0] == hash_id_test) & (hash_id[:, 1] == year), 0]\n",
    "        \n",
    "        # mark the index corresponding to the selected image ID and hash ID as True in the test indices array\n",
    "        test_indices[(hash_id[:, 0] == hash_id_test) & (hash_id[:, 1] == year) & (np.isin(hash_id[:, 0], image_ids))] = True\n",
    "  \n",
    "    num_true = np.count_nonzero(test_indices)\n",
    "    num_false = np.count_nonzero(~test_indices)\n",
    "    print(\"Number of True in test_indices:\", num_true)\n",
    "    print(\"Number of False in test_indices:\", num_false)\n",
    "    \n",
    "    # Reshape boolean arrays to match shape of image_set and label_set\n",
    "    sub_indices = sub_indices.reshape(-1, 1)\n",
    "    test_indices = test_indices.reshape(-1, 1)\n",
    "    \n",
    "    # Select images and labels for train_val and test sets\n",
    "    sub_image_set = image_set[sub_indices[:, 0]]\n",
    "    sub_label_set = label_set[sub_indices[:, 0]]\n",
    "    sub_hash_id = hash_id[sub_indices[:, 0]]\n",
    "    sub_species_set = species_set[sub_indices[:, 0]]\n",
    "    \n",
    "    test_image_set = image_set[test_indices[:, 0]]\n",
    "    test_label_set = label_set[test_indices[:, 0]]\n",
    "    test_hash_id = hash_id[test_indices[:, 0]]\n",
    "    test_species_set = species_set[test_indices[:, 0]]\n",
    "    \n",
    "    sub_label_set = sub_label_set.reshape(-1, 1)\n",
    "    test_label_set = test_label_set.reshape(-1, 1)\n",
    "    sub_species_set = sub_species_set.reshape(-1, 1)\n",
    "    test_species_set = test_species_set.reshape(-1, 1)\n",
    "\n",
    "    print(\"Check shapes:\\n\")\n",
    "    print(f\"Images sub dataset: {sub_image_set.shape}\")\n",
    "    print(f\"Labels sub dataset: {sub_label_set.shape}\\n\")\n",
    "    print(f\"Images test dataset: {test_image_set.shape}\")\n",
    "    print(f\"Labels test dataset: {test_label_set.shape}\\n\")\n",
    "    print('-'*50)\n",
    "    print (f\"Check if the split was stratified: (random_state={random_state})\")\n",
    "    print(f\"Healthy trees in sub dataset: {np.count_nonzero(sub_label_set == 0)}\")\n",
    "    print(f\"Stressed trees in sub dataset: {np.count_nonzero(sub_label_set == 1)}\")\n",
    "    print(f\"Dead trees in sub dataset: {np.count_nonzero(sub_label_set == 2)}\")\n",
    "    print(f\"Healthy trees in test dataset: {np.count_nonzero(test_label_set == 0)}\")\n",
    "    print(f\"Stressed trees in test dataset: {np.count_nonzero(test_label_set == 1)}\")\n",
    "    print(f\"Dead trees in test dataset: {np.count_nonzero(test_label_set == 2)}\")\n",
    "    print(f\"Ratio health trees in test dataset: {np.count_nonzero(test_label_set == 0)/np.count_nonzero(sub_label_set == 0)}\")\n",
    "    print(f\"Ratio stressed trees in test dataset: {np.count_nonzero(test_label_set == 1)/np.count_nonzero(sub_label_set == 1)}\")\n",
    "    print(f\"Ratio dead trees in test dataset: {np.count_nonzero(test_label_set == 2)/np.count_nonzero(sub_label_set == 2)}\")\n",
    "    \n",
    "    del image_set, label_set, hash_id, species_set\n",
    "    return sub_image_set, sub_label_set, sub_hash_id, sub_species_set, test_image_set, test_label_set, test_hash_id, test_species_set"
   ]
  },
  {
   "cell_type": "markdown",
   "id": "c6b4cd85",
   "metadata": {},
   "source": [
    "#### Split data into a sub set and a test dataset"
   ]
  },
  {
   "cell_type": "code",
   "execution_count": 196,
   "id": "d06eda54",
   "metadata": {},
   "outputs": [
    {
     "name": "stdout",
     "output_type": "stream",
     "text": [
      "ORIGINAL POSITIVE RATIO: 0.42823717096516883\n",
      "Fold : 0\n",
      "TRAIN POSITIVE RATIO: 0.4291023973239175\n",
      "TEST POSITIVE RATIO : 0.4229902329075883\n",
      "LENGTH TRAIN GROUPS : 6077\n",
      "LENGTH TEST GROUPS  : 1010\n",
      "Number of True in sub_indices: 16143\n",
      "Number of False in sub_indices: 2662\n",
      "Number of True in test_indices: 1010\n",
      "Number of False in test_indices: 17795\n",
      "Check shapes:\n",
      "\n",
      "Images sub dataset: (16143, 250, 250, 3)\n",
      "Labels sub dataset: (16143, 1)\n",
      "\n",
      "Images test dataset: (1010, 250, 250, 3)\n",
      "Labels test dataset: (1010, 1)\n",
      "\n",
      "--------------------------------------------------\n",
      "Check if the split was stratified: (random_state=42)\n",
      "Healthy trees in sub dataset: 9505\n",
      "Stressed trees in sub dataset: 6349\n",
      "Dead trees in sub dataset: 289\n",
      "Healthy trees in test dataset: 563\n",
      "Stressed trees in test dataset: 437\n",
      "Dead trees in test dataset: 10\n",
      "Ratio health trees in test dataset: 0.05923198316675434\n",
      "Ratio stressed trees in test dataset: 0.06882973696645141\n",
      "Ratio dead trees in test dataset: 0.03460207612456748\n"
     ]
    }
   ],
   "source": [
    "sub_image_set, sub_label_set, sub_hash_id, sub_species_set, test_image_set, test_label_set, test_hash_id, test_species_set = data_split_v2(image_set, label_set, hash_id, species_set, test_size=0.1667, random_state=42, seed=2)\n"
   ]
  },
  {
   "cell_type": "markdown",
   "id": "c48fbb5b",
   "metadata": {},
   "source": [
    "#### Check if any hash ID is in both sub and test dataset"
   ]
  },
  {
   "cell_type": "code",
   "execution_count": 197,
   "id": "874367cf",
   "metadata": {},
   "outputs": [
    {
     "name": "stdout",
     "output_type": "stream",
     "text": [
      "There are no hash_id values in both train and test datasets. The datasplit was successful\n"
     ]
    }
   ],
   "source": [
    "hash_set = set(sub_hash_id[:,0].flatten())\n",
    "test_hash_set = set(test_hash_id[:,0].flatten())\n",
    "intersection = hash_set.intersection(test_hash_set)\n",
    "if intersection:\n",
    "    print(f\"Hash_id values in both train and test sets: {len(intersection)}\")\n",
    "else:\n",
    "    print(\"There are no hash_id values in both train and test datasets. The datasplit was successful\")"
   ]
  },
  {
   "cell_type": "markdown",
   "id": "9e5b64d4",
   "metadata": {},
   "source": [
    "#### Check feature distribution of the Test dataset"
   ]
  },
  {
   "cell_type": "code",
   "execution_count": 198,
   "id": "a33ff5cb",
   "metadata": {},
   "outputs": [
    {
     "name": "stdout",
     "output_type": "stream",
     "text": [
      "Test dataset\n",
      "Test data healthy trees: 563\n",
      "Test data stressed trees: 437\n",
      "Test data dead trees: 10\n",
      "Test data pine trees: 263\n",
      "Test data spruces: 395\n",
      "--------------------------------------------------\n",
      "Remaining dataset\n",
      "Remaining data healthy trees: 9505\n",
      "Remaining data stressed trees: 6349\n",
      "Remaining data dead trees: 289\n",
      "Remaining data pine trees: 4069\n",
      "Remaining data spruces: 5980\n",
      "--------------------------------------------------\n"
     ]
    }
   ],
   "source": [
    "def count_occurrences(data, value):\n",
    "    count = 0\n",
    "    for item in data:\n",
    "        if item == value:\n",
    "            count += 1\n",
    "    return count\n",
    "\n",
    "print(\"Test dataset\")\n",
    "print(f\"Test data healthy trees: {count_occurrences(test_label_set, 0)}\")\n",
    "print(f\"Test data stressed trees: {count_occurrences(test_label_set, 1)}\")\n",
    "print(f\"Test data dead trees: {count_occurrences(test_label_set, 2)}\")\n",
    "print(f\"Test data pine trees: {count_occurrences(test_species_set, 134)}\")\n",
    "print(f\"Test data spruces: {count_occurrences(test_species_set, 118)}\")\n",
    "print(\"-\"*50)\n",
    "\n",
    "print(\"Remaining dataset\")\n",
    "print(f\"Remaining data healthy trees: {count_occurrences(sub_label_set, 0)}\")\n",
    "print(f\"Remaining data stressed trees: {count_occurrences(sub_label_set, 1)}\")\n",
    "print(f\"Remaining data dead trees: {count_occurrences(sub_label_set, 2)}\")\n",
    "print(f\"Remaining data pine trees: {count_occurrences(sub_species_set, 134)}\")\n",
    "print(f\"Remaining data spruces: {count_occurrences(sub_species_set, 118)}\")\n",
    "print(\"-\"*50)"
   ]
  },
  {
   "cell_type": "code",
   "execution_count": 199,
   "id": "e08fcf57",
   "metadata": {},
   "outputs": [],
   "source": [
    "# train transform with augmentation. \n",
    "transform_train = transforms.Compose([transforms.ToTensor(), transforms.RandomHorizontalFlip(p=0.5), transforms.RandomVerticalFlip(p=0.5),\n",
    "                                      transforms.RandomRotation(degrees=[0,360])])\n",
    "\n",
    "# test and val dataset transform without augmentation. \n",
    "transform = transforms.Compose([transforms.ToTensor()])\n",
    "\n",
    "# class names need to fit the customDataset class used e.g. 3 classes -> use CustomDataset3Classes\n",
    "#class_names = ['healthy', 'slightly_stressed', 'moderately_stressed', 'highly_stressed', 'dead']\n",
    "#class_names = ['healthy', 'moderately_stressed', 'highly_stressed', 'dead']\n",
    "class_names = ['healthy', 'stressed', 'dead']\n",
    "\n",
    "# set seeds\n",
    "g = torch.Generator()\n",
    "g.manual_seed(42)\n",
    "NUM_WORKERS=3 # should be changed, depending on the system used\n",
    "batch_size=32"
   ]
  },
  {
   "cell_type": "markdown",
   "id": "31779c05",
   "metadata": {},
   "source": [
    "#### Define variables and parameters"
   ]
  },
  {
   "cell_type": "code",
   "execution_count": 200,
   "id": "10ae4379",
   "metadata": {},
   "outputs": [
    {
     "name": "stdout",
     "output_type": "stream",
     "text": [
      "Memory allocated: 0 bytes\n"
     ]
    }
   ],
   "source": [
    "# 1. Define number of epochs\n",
    "epochs = 50\n",
    "n_bands = sub_image_set[0].shape[2] # get number of bands\n",
    "\n",
    "# 2. Define model\n",
    "num_classes = len(class_names)\n",
    "unfreeze = True # all layer weights get updated\n",
    "dropout_rate = 0.5 #define dropout rate\n",
    "model_name = \"EffNet_b7_RGB-NIR_3classes_lr005_TEST\"\n",
    "\n",
    "# 3. Define loss, optimizer and learning rate scheduler\n",
    "lr = 0.005 # define learning rate\n",
    "min_lr = 1e-6 # minimum learning rate threshold\n",
    "gamma = 0.75 # how fast the learning rate decreases per epoch (low number=faster decrease)\n",
    "patience = 10\n",
    "\n",
    "# 4. Create target folder name were to save the tensorboard event files\n",
    "experiment_name = 'RGB-NIR_3classes_v3_lr005_gamma05_TEST'\n",
    "extra = \"new_classes_lr005_gamma05_TEST\"\n",
    "\n",
    "#----------------------------------------------------------------------\n",
    "#torch.cuda.empty_cache()\n",
    "print(f\"Memory allocated: {torch.cuda.memory_allocated()} bytes\") \n",
    "\n"
   ]
  },
  {
   "cell_type": "code",
   "execution_count": null,
   "id": "1013c206",
   "metadata": {},
   "outputs": [],
   "source": []
  },
  {
   "cell_type": "markdown",
   "id": "09768b1a",
   "metadata": {},
   "source": [
    "#### Run k-Fold cross-validation on EfficientNet"
   ]
  },
  {
   "cell_type": "code",
   "execution_count": 202,
   "id": "9c29c81d",
   "metadata": {},
   "outputs": [
    {
     "name": "stdout",
     "output_type": "stream",
     "text": [
      "ORIGINAL POSITIVE RATIO: 0.4291023973239175\n",
      "Fold : 0\n",
      "TRAIN POSITIVE RATIO: 0.4294537877660366\n",
      "VAL POSITIVE RATIO  : 0.42735674676524954\n",
      "LENGTH TRAIN GROUPS : 5056\n",
      "LENGTH VAL GROUPS   : 1021\n"
     ]
    },
    {
     "data": {
      "text/html": [
       "Finishing last run (ID:jkxxpccv) before initializing another..."
      ],
      "text/plain": [
       "<IPython.core.display.HTML object>"
      ]
     },
     "metadata": {},
     "output_type": "display_data"
    },
    {
     "data": {
      "text/html": [
       "Waiting for W&B process to finish... <strong style=\"color:green\">(success).</strong>"
      ],
      "text/plain": [
       "<IPython.core.display.HTML object>"
      ]
     },
     "metadata": {},
     "output_type": "display_data"
    },
    {
     "data": {
      "application/vnd.jupyter.widget-view+json": {
       "model_id": "f1aa0282878d4a07b893cf7e42fe8f78",
       "version_major": 2,
       "version_minor": 0
      },
      "text/plain": [
       "VBox(children=(Label(value='0.001 MB of 0.001 MB uploaded (0.000 MB deduped)\\r'), FloatProgress(value=1.0, max…"
      ]
     },
     "metadata": {},
     "output_type": "display_data"
    },
    {
     "data": {
      "text/html": [
       " View run <strong style=\"color:#cdcd00\">fold_6_new_classes_lr005_gamma05_TEST</strong> at: <a href='https://wandb.ai/simon-ecke/wze-uav/runs/jkxxpccv' target=\"_blank\">https://wandb.ai/simon-ecke/wze-uav/runs/jkxxpccv</a><br/>Synced 5 W&B file(s), 0 media file(s), 0 artifact file(s) and 0 other file(s)"
      ],
      "text/plain": [
       "<IPython.core.display.HTML object>"
      ]
     },
     "metadata": {},
     "output_type": "display_data"
    },
    {
     "data": {
      "text/html": [
       "Find logs at: <code>.\\wandb\\run-20230417_143854-jkxxpccv\\logs</code>"
      ],
      "text/plain": [
       "<IPython.core.display.HTML object>"
      ]
     },
     "metadata": {},
     "output_type": "display_data"
    },
    {
     "data": {
      "text/html": [
       "Successfully finished last run (ID:jkxxpccv). Initializing new run:<br/>"
      ],
      "text/plain": [
       "<IPython.core.display.HTML object>"
      ]
     },
     "metadata": {},
     "output_type": "display_data"
    },
    {
     "data": {
      "application/vnd.jupyter.widget-view+json": {
       "model_id": "764379fb3d5c4fa3927269eb5ed62387",
       "version_major": 2,
       "version_minor": 0
      },
      "text/plain": [
       "VBox(children=(Label(value='Waiting for wandb.init()...\\r'), FloatProgress(value=0.016666666666666666, max=1.0…"
      ]
     },
     "metadata": {},
     "output_type": "display_data"
    },
    {
     "data": {
      "text/html": [
       "Tracking run with wandb version 0.14.2"
      ],
      "text/plain": [
       "<IPython.core.display.HTML object>"
      ]
     },
     "metadata": {},
     "output_type": "display_data"
    },
    {
     "data": {
      "text/html": [
       "Run data is saved locally in <code>C:\\Users\\lwfeckesim\\01_PyTorch\\wze-uav\\wze-uav-master\\wandb\\run-20230417_144147-f83pj5uw</code>"
      ],
      "text/plain": [
       "<IPython.core.display.HTML object>"
      ]
     },
     "metadata": {},
     "output_type": "display_data"
    },
    {
     "data": {
      "text/html": [
       "Syncing run <strong><a href='https://wandb.ai/simon-ecke/wze-uav/runs/f83pj5uw' target=\"_blank\">fold_1_new_classes_lr005_gamma05_TEST</a></strong> to <a href='https://wandb.ai/simon-ecke/wze-uav' target=\"_blank\">Weights & Biases</a> (<a href='https://wandb.me/run' target=\"_blank\">docs</a>)<br/>"
      ],
      "text/plain": [
       "<IPython.core.display.HTML object>"
      ]
     },
     "metadata": {},
     "output_type": "display_data"
    },
    {
     "data": {
      "text/html": [
       " View project at <a href='https://wandb.ai/simon-ecke/wze-uav' target=\"_blank\">https://wandb.ai/simon-ecke/wze-uav</a>"
      ],
      "text/plain": [
       "<IPython.core.display.HTML object>"
      ]
     },
     "metadata": {},
     "output_type": "display_data"
    },
    {
     "data": {
      "text/html": [
       " View run at <a href='https://wandb.ai/simon-ecke/wze-uav/runs/f83pj5uw' target=\"_blank\">https://wandb.ai/simon-ecke/wze-uav/runs/f83pj5uw</a>"
      ],
      "text/plain": [
       "<IPython.core.display.HTML object>"
      ]
     },
     "metadata": {},
     "output_type": "display_data"
    },
    {
     "name": "stdout",
     "output_type": "stream",
     "text": [
      "Check shapes:\n",
      "\n",
      "Images train dataset: (13438, 250, 250, 3)\n",
      "Labels train dataset: (13438, 1)\n",
      "\n",
      "Images validation dataset: (896, 250, 250, 3)\n",
      "Labels validation dataset: (896, 1)\n",
      "\n",
      "--------------------------------------------------\n",
      "Check if the split was stratified: (random_state=42)\n",
      "Healthy trees in train dataset: 7904\n",
      "Stressed trees in train dataset: 5297\n",
      "Dead trees in train dataset: 237\n",
      "Healthy trees in validation dataset: 537\n",
      "Stressed trees in validation dataset: 341\n",
      "Dead trees in validation dataset: 18\n",
      "Ratio health trees in validation dataset: 0.05649658074697528\n",
      "Ratio stressed trees in validation dataset: 0.05370924555048039\n",
      "Ratio dead trees in validation dataset: 0.06228373702422145\n",
      "--------------------------------------------------\n",
      "Fold : 1\n",
      "TRAIN POSITIVE RATIO: 0.4297526817640048\n",
      "VAL POSITIVE RATIO  : 0.42589187201176903\n",
      "LENGTH TRAIN GROUPS : 5061\n",
      "LENGTH VAL GROUPS   : 1016\n"
     ]
    },
    {
     "data": {
      "text/html": [
       "Finishing last run (ID:f83pj5uw) before initializing another..."
      ],
      "text/plain": [
       "<IPython.core.display.HTML object>"
      ]
     },
     "metadata": {},
     "output_type": "display_data"
    },
    {
     "data": {
      "text/html": [
       "Waiting for W&B process to finish... <strong style=\"color:green\">(success).</strong>"
      ],
      "text/plain": [
       "<IPython.core.display.HTML object>"
      ]
     },
     "metadata": {},
     "output_type": "display_data"
    },
    {
     "data": {
      "application/vnd.jupyter.widget-view+json": {
       "model_id": "9223fcfdcf874f2d8efaa3064de664ad",
       "version_major": 2,
       "version_minor": 0
      },
      "text/plain": [
       "VBox(children=(Label(value='0.001 MB of 0.001 MB uploaded (0.000 MB deduped)\\r'), FloatProgress(value=1.0, max…"
      ]
     },
     "metadata": {},
     "output_type": "display_data"
    },
    {
     "data": {
      "text/html": [
       " View run <strong style=\"color:#cdcd00\">fold_1_new_classes_lr005_gamma05_TEST</strong> at: <a href='https://wandb.ai/simon-ecke/wze-uav/runs/f83pj5uw' target=\"_blank\">https://wandb.ai/simon-ecke/wze-uav/runs/f83pj5uw</a><br/>Synced 5 W&B file(s), 0 media file(s), 0 artifact file(s) and 0 other file(s)"
      ],
      "text/plain": [
       "<IPython.core.display.HTML object>"
      ]
     },
     "metadata": {},
     "output_type": "display_data"
    },
    {
     "data": {
      "text/html": [
       "Find logs at: <code>.\\wandb\\run-20230417_144147-f83pj5uw\\logs</code>"
      ],
      "text/plain": [
       "<IPython.core.display.HTML object>"
      ]
     },
     "metadata": {},
     "output_type": "display_data"
    },
    {
     "data": {
      "text/html": [
       "Successfully finished last run (ID:f83pj5uw). Initializing new run:<br/>"
      ],
      "text/plain": [
       "<IPython.core.display.HTML object>"
      ]
     },
     "metadata": {},
     "output_type": "display_data"
    },
    {
     "data": {
      "application/vnd.jupyter.widget-view+json": {
       "model_id": "cf4cecc18b9b4c65ae6cd948ab8de99e",
       "version_major": 2,
       "version_minor": 0
      },
      "text/plain": [
       "VBox(children=(Label(value='Waiting for wandb.init()...\\r'), FloatProgress(value=0.016666666666666666, max=1.0…"
      ]
     },
     "metadata": {},
     "output_type": "display_data"
    },
    {
     "data": {
      "text/html": [
       "Tracking run with wandb version 0.14.2"
      ],
      "text/plain": [
       "<IPython.core.display.HTML object>"
      ]
     },
     "metadata": {},
     "output_type": "display_data"
    },
    {
     "data": {
      "text/html": [
       "Run data is saved locally in <code>C:\\Users\\lwfeckesim\\01_PyTorch\\wze-uav\\wze-uav-master\\wandb\\run-20230417_144158-ifugmn70</code>"
      ],
      "text/plain": [
       "<IPython.core.display.HTML object>"
      ]
     },
     "metadata": {},
     "output_type": "display_data"
    },
    {
     "data": {
      "text/html": [
       "Syncing run <strong><a href='https://wandb.ai/simon-ecke/wze-uav/runs/ifugmn70' target=\"_blank\">fold_2_new_classes_lr005_gamma05_TEST</a></strong> to <a href='https://wandb.ai/simon-ecke/wze-uav' target=\"_blank\">Weights & Biases</a> (<a href='https://wandb.me/run' target=\"_blank\">docs</a>)<br/>"
      ],
      "text/plain": [
       "<IPython.core.display.HTML object>"
      ]
     },
     "metadata": {},
     "output_type": "display_data"
    },
    {
     "data": {
      "text/html": [
       " View project at <a href='https://wandb.ai/simon-ecke/wze-uav' target=\"_blank\">https://wandb.ai/simon-ecke/wze-uav</a>"
      ],
      "text/plain": [
       "<IPython.core.display.HTML object>"
      ]
     },
     "metadata": {},
     "output_type": "display_data"
    },
    {
     "data": {
      "text/html": [
       " View run at <a href='https://wandb.ai/simon-ecke/wze-uav/runs/ifugmn70' target=\"_blank\">https://wandb.ai/simon-ecke/wze-uav/runs/ifugmn70</a>"
      ],
      "text/plain": [
       "<IPython.core.display.HTML object>"
      ]
     },
     "metadata": {},
     "output_type": "display_data"
    },
    {
     "name": "stdout",
     "output_type": "stream",
     "text": [
      "Check shapes:\n",
      "\n",
      "Images train dataset: (13424, 250, 250, 3)\n",
      "Labels train dataset: (13424, 1)\n",
      "\n",
      "Images validation dataset: (902, 250, 250, 3)\n",
      "Labels validation dataset: (902, 1)\n",
      "\n",
      "--------------------------------------------------\n",
      "Check if the split was stratified: (random_state=42)\n",
      "Healthy trees in train dataset: 7898\n",
      "Stressed trees in train dataset: 5283\n",
      "Dead trees in train dataset: 243\n",
      "Healthy trees in validation dataset: 536\n",
      "Stressed trees in validation dataset: 349\n",
      "Dead trees in validation dataset: 17\n",
      "Ratio health trees in validation dataset: 0.05639137296159916\n",
      "Ratio stressed trees in validation dataset: 0.05496928650181131\n",
      "Ratio dead trees in validation dataset: 0.058823529411764705\n",
      "--------------------------------------------------\n",
      "Fold : 2\n",
      "TRAIN POSITIVE RATIO: 0.43053593993904704\n",
      "VAL POSITIVE RATIO  : 0.42193308550185876\n",
      "LENGTH TRAIN GROUPS : 5062\n",
      "LENGTH VAL GROUPS   : 1015\n"
     ]
    },
    {
     "data": {
      "text/html": [
       "Finishing last run (ID:ifugmn70) before initializing another..."
      ],
      "text/plain": [
       "<IPython.core.display.HTML object>"
      ]
     },
     "metadata": {},
     "output_type": "display_data"
    },
    {
     "data": {
      "text/html": [
       "Waiting for W&B process to finish... <strong style=\"color:green\">(success).</strong>"
      ],
      "text/plain": [
       "<IPython.core.display.HTML object>"
      ]
     },
     "metadata": {},
     "output_type": "display_data"
    },
    {
     "data": {
      "application/vnd.jupyter.widget-view+json": {
       "model_id": "b18ffa38796e4476a20e0ab6a9d35f1e",
       "version_major": 2,
       "version_minor": 0
      },
      "text/plain": [
       "VBox(children=(Label(value='0.001 MB of 0.001 MB uploaded (0.000 MB deduped)\\r'), FloatProgress(value=1.0, max…"
      ]
     },
     "metadata": {},
     "output_type": "display_data"
    },
    {
     "data": {
      "text/html": [
       " View run <strong style=\"color:#cdcd00\">fold_2_new_classes_lr005_gamma05_TEST</strong> at: <a href='https://wandb.ai/simon-ecke/wze-uav/runs/ifugmn70' target=\"_blank\">https://wandb.ai/simon-ecke/wze-uav/runs/ifugmn70</a><br/>Synced 5 W&B file(s), 0 media file(s), 0 artifact file(s) and 0 other file(s)"
      ],
      "text/plain": [
       "<IPython.core.display.HTML object>"
      ]
     },
     "metadata": {},
     "output_type": "display_data"
    },
    {
     "data": {
      "text/html": [
       "Find logs at: <code>.\\wandb\\run-20230417_144158-ifugmn70\\logs</code>"
      ],
      "text/plain": [
       "<IPython.core.display.HTML object>"
      ]
     },
     "metadata": {},
     "output_type": "display_data"
    },
    {
     "data": {
      "text/html": [
       "Successfully finished last run (ID:ifugmn70). Initializing new run:<br/>"
      ],
      "text/plain": [
       "<IPython.core.display.HTML object>"
      ]
     },
     "metadata": {},
     "output_type": "display_data"
    },
    {
     "data": {
      "application/vnd.jupyter.widget-view+json": {
       "model_id": "261e31fe49eb4a5aa1a3506d8c9bd7bf",
       "version_major": 2,
       "version_minor": 0
      },
      "text/plain": [
       "VBox(children=(Label(value='Waiting for wandb.init()...\\r'), FloatProgress(value=0.016666666666666666, max=1.0…"
      ]
     },
     "metadata": {},
     "output_type": "display_data"
    },
    {
     "data": {
      "text/html": [
       "Tracking run with wandb version 0.14.2"
      ],
      "text/plain": [
       "<IPython.core.display.HTML object>"
      ]
     },
     "metadata": {},
     "output_type": "display_data"
    },
    {
     "data": {
      "text/html": [
       "Run data is saved locally in <code>C:\\Users\\lwfeckesim\\01_PyTorch\\wze-uav\\wze-uav-master\\wandb\\run-20230417_144210-pglcur5c</code>"
      ],
      "text/plain": [
       "<IPython.core.display.HTML object>"
      ]
     },
     "metadata": {},
     "output_type": "display_data"
    },
    {
     "data": {
      "text/html": [
       "Syncing run <strong><a href='https://wandb.ai/simon-ecke/wze-uav/runs/pglcur5c' target=\"_blank\">fold_3_new_classes_lr005_gamma05_TEST</a></strong> to <a href='https://wandb.ai/simon-ecke/wze-uav' target=\"_blank\">Weights & Biases</a> (<a href='https://wandb.me/run' target=\"_blank\">docs</a>)<br/>"
      ],
      "text/plain": [
       "<IPython.core.display.HTML object>"
      ]
     },
     "metadata": {},
     "output_type": "display_data"
    },
    {
     "data": {
      "text/html": [
       " View project at <a href='https://wandb.ai/simon-ecke/wze-uav' target=\"_blank\">https://wandb.ai/simon-ecke/wze-uav</a>"
      ],
      "text/plain": [
       "<IPython.core.display.HTML object>"
      ]
     },
     "metadata": {},
     "output_type": "display_data"
    },
    {
     "data": {
      "text/html": [
       " View run at <a href='https://wandb.ai/simon-ecke/wze-uav/runs/pglcur5c' target=\"_blank\">https://wandb.ai/simon-ecke/wze-uav/runs/pglcur5c</a>"
      ],
      "text/plain": [
       "<IPython.core.display.HTML object>"
      ]
     },
     "metadata": {},
     "output_type": "display_data"
    },
    {
     "name": "stdout",
     "output_type": "stream",
     "text": [
      "Check shapes:\n",
      "\n",
      "Images train dataset: (13453, 250, 250, 3)\n",
      "Labels train dataset: (13453, 1)\n",
      "\n",
      "Images validation dataset: (890, 250, 250, 3)\n",
      "Labels validation dataset: (890, 1)\n",
      "\n",
      "--------------------------------------------------\n",
      "Check if the split was stratified: (random_state=42)\n",
      "Healthy trees in train dataset: 7895\n",
      "Stressed trees in train dataset: 5324\n",
      "Dead trees in train dataset: 234\n",
      "Healthy trees in validation dataset: 523\n",
      "Stressed trees in validation dataset: 351\n",
      "Dead trees in validation dataset: 16\n",
      "Ratio health trees in validation dataset: 0.05502367175170963\n",
      "Ratio stressed trees in validation dataset: 0.05528429673964404\n",
      "Ratio dead trees in validation dataset: 0.05536332179930796\n",
      "--------------------------------------------------\n",
      "Fold : 3\n",
      "TRAIN POSITIVE RATIO: 0.4290286564942315\n",
      "VAL POSITIVE RATIO  : 0.4294682422451994\n",
      "LENGTH TRAIN GROUPS : 5067\n",
      "LENGTH VAL GROUPS   : 1010\n"
     ]
    },
    {
     "data": {
      "text/html": [
       "Finishing last run (ID:pglcur5c) before initializing another..."
      ],
      "text/plain": [
       "<IPython.core.display.HTML object>"
      ]
     },
     "metadata": {},
     "output_type": "display_data"
    },
    {
     "data": {
      "text/html": [
       "Waiting for W&B process to finish... <strong style=\"color:green\">(success).</strong>"
      ],
      "text/plain": [
       "<IPython.core.display.HTML object>"
      ]
     },
     "metadata": {},
     "output_type": "display_data"
    },
    {
     "data": {
      "application/vnd.jupyter.widget-view+json": {
       "model_id": "ec2f0efef179437b97e8ad907fc1ec41",
       "version_major": 2,
       "version_minor": 0
      },
      "text/plain": [
       "VBox(children=(Label(value='0.001 MB of 0.001 MB uploaded (0.000 MB deduped)\\r'), FloatProgress(value=1.0, max…"
      ]
     },
     "metadata": {},
     "output_type": "display_data"
    },
    {
     "data": {
      "text/html": [
       " View run <strong style=\"color:#cdcd00\">fold_3_new_classes_lr005_gamma05_TEST</strong> at: <a href='https://wandb.ai/simon-ecke/wze-uav/runs/pglcur5c' target=\"_blank\">https://wandb.ai/simon-ecke/wze-uav/runs/pglcur5c</a><br/>Synced 5 W&B file(s), 0 media file(s), 0 artifact file(s) and 0 other file(s)"
      ],
      "text/plain": [
       "<IPython.core.display.HTML object>"
      ]
     },
     "metadata": {},
     "output_type": "display_data"
    },
    {
     "data": {
      "text/html": [
       "Find logs at: <code>.\\wandb\\run-20230417_144210-pglcur5c\\logs</code>"
      ],
      "text/plain": [
       "<IPython.core.display.HTML object>"
      ]
     },
     "metadata": {},
     "output_type": "display_data"
    },
    {
     "data": {
      "text/html": [
       "Successfully finished last run (ID:pglcur5c). Initializing new run:<br/>"
      ],
      "text/plain": [
       "<IPython.core.display.HTML object>"
      ]
     },
     "metadata": {},
     "output_type": "display_data"
    },
    {
     "data": {
      "application/vnd.jupyter.widget-view+json": {
       "model_id": "14e2f5cfbbe743b8ae22016d1b3ef3e4",
       "version_major": 2,
       "version_minor": 0
      },
      "text/plain": [
       "VBox(children=(Label(value='Waiting for wandb.init()...\\r'), FloatProgress(value=0.016666666666666666, max=1.0…"
      ]
     },
     "metadata": {},
     "output_type": "display_data"
    },
    {
     "data": {
      "text/html": [
       "Tracking run with wandb version 0.14.2"
      ],
      "text/plain": [
       "<IPython.core.display.HTML object>"
      ]
     },
     "metadata": {},
     "output_type": "display_data"
    },
    {
     "data": {
      "text/html": [
       "Run data is saved locally in <code>C:\\Users\\lwfeckesim\\01_PyTorch\\wze-uav\\wze-uav-master\\wandb\\run-20230417_144222-bwa37y93</code>"
      ],
      "text/plain": [
       "<IPython.core.display.HTML object>"
      ]
     },
     "metadata": {},
     "output_type": "display_data"
    },
    {
     "data": {
      "text/html": [
       "Syncing run <strong><a href='https://wandb.ai/simon-ecke/wze-uav/runs/bwa37y93' target=\"_blank\">fold_4_new_classes_lr005_gamma05_TEST</a></strong> to <a href='https://wandb.ai/simon-ecke/wze-uav' target=\"_blank\">Weights & Biases</a> (<a href='https://wandb.me/run' target=\"_blank\">docs</a>)<br/>"
      ],
      "text/plain": [
       "<IPython.core.display.HTML object>"
      ]
     },
     "metadata": {},
     "output_type": "display_data"
    },
    {
     "data": {
      "text/html": [
       " View project at <a href='https://wandb.ai/simon-ecke/wze-uav' target=\"_blank\">https://wandb.ai/simon-ecke/wze-uav</a>"
      ],
      "text/plain": [
       "<IPython.core.display.HTML object>"
      ]
     },
     "metadata": {},
     "output_type": "display_data"
    },
    {
     "data": {
      "text/html": [
       " View run at <a href='https://wandb.ai/simon-ecke/wze-uav/runs/bwa37y93' target=\"_blank\">https://wandb.ai/simon-ecke/wze-uav/runs/bwa37y93</a>"
      ],
      "text/plain": [
       "<IPython.core.display.HTML object>"
      ]
     },
     "metadata": {},
     "output_type": "display_data"
    },
    {
     "name": "stdout",
     "output_type": "stream",
     "text": [
      "Check shapes:\n",
      "\n",
      "Images train dataset: (13435, 250, 250, 3)\n",
      "Labels train dataset: (13435, 1)\n",
      "\n",
      "Images validation dataset: (900, 250, 250, 3)\n",
      "Labels validation dataset: (900, 1)\n",
      "\n",
      "--------------------------------------------------\n",
      "Check if the split was stratified: (random_state=42)\n",
      "Healthy trees in train dataset: 7917\n",
      "Stressed trees in train dataset: 5272\n",
      "Dead trees in train dataset: 246\n",
      "Healthy trees in validation dataset: 528\n",
      "Stressed trees in validation dataset: 362\n",
      "Dead trees in validation dataset: 10\n",
      "Ratio health trees in validation dataset: 0.055549710678590214\n",
      "Ratio stressed trees in validation dataset: 0.05701685304772405\n",
      "Ratio dead trees in validation dataset: 0.03460207612456748\n",
      "--------------------------------------------------\n",
      "Fold : 4\n",
      "TRAIN POSITIVE RATIO: 0.4272342322264319\n",
      "VAL POSITIVE RATIO  : 0.43847874720357943\n",
      "LENGTH TRAIN GROUPS : 5065\n",
      "LENGTH VAL GROUPS   : 1012\n"
     ]
    },
    {
     "data": {
      "text/html": [
       "Finishing last run (ID:bwa37y93) before initializing another..."
      ],
      "text/plain": [
       "<IPython.core.display.HTML object>"
      ]
     },
     "metadata": {},
     "output_type": "display_data"
    },
    {
     "data": {
      "text/html": [
       "Waiting for W&B process to finish... <strong style=\"color:green\">(success).</strong>"
      ],
      "text/plain": [
       "<IPython.core.display.HTML object>"
      ]
     },
     "metadata": {},
     "output_type": "display_data"
    },
    {
     "data": {
      "application/vnd.jupyter.widget-view+json": {
       "model_id": "c9f5bdf6a8284d14ba30ff15e0187acd",
       "version_major": 2,
       "version_minor": 0
      },
      "text/plain": [
       "VBox(children=(Label(value='0.001 MB of 0.001 MB uploaded (0.000 MB deduped)\\r'), FloatProgress(value=1.0, max…"
      ]
     },
     "metadata": {},
     "output_type": "display_data"
    },
    {
     "data": {
      "text/html": [
       " View run <strong style=\"color:#cdcd00\">fold_4_new_classes_lr005_gamma05_TEST</strong> at: <a href='https://wandb.ai/simon-ecke/wze-uav/runs/bwa37y93' target=\"_blank\">https://wandb.ai/simon-ecke/wze-uav/runs/bwa37y93</a><br/>Synced 5 W&B file(s), 0 media file(s), 0 artifact file(s) and 0 other file(s)"
      ],
      "text/plain": [
       "<IPython.core.display.HTML object>"
      ]
     },
     "metadata": {},
     "output_type": "display_data"
    },
    {
     "data": {
      "text/html": [
       "Find logs at: <code>.\\wandb\\run-20230417_144222-bwa37y93\\logs</code>"
      ],
      "text/plain": [
       "<IPython.core.display.HTML object>"
      ]
     },
     "metadata": {},
     "output_type": "display_data"
    },
    {
     "data": {
      "text/html": [
       "Successfully finished last run (ID:bwa37y93). Initializing new run:<br/>"
      ],
      "text/plain": [
       "<IPython.core.display.HTML object>"
      ]
     },
     "metadata": {},
     "output_type": "display_data"
    },
    {
     "data": {
      "application/vnd.jupyter.widget-view+json": {
       "model_id": "008fdc076efc419c8c7bb580875a0d47",
       "version_major": 2,
       "version_minor": 0
      },
      "text/plain": [
       "VBox(children=(Label(value='Waiting for wandb.init()...\\r'), FloatProgress(value=0.016666666666666666, max=1.0…"
      ]
     },
     "metadata": {},
     "output_type": "display_data"
    },
    {
     "data": {
      "text/html": [
       "Tracking run with wandb version 0.14.2"
      ],
      "text/plain": [
       "<IPython.core.display.HTML object>"
      ]
     },
     "metadata": {},
     "output_type": "display_data"
    },
    {
     "data": {
      "text/html": [
       "Run data is saved locally in <code>C:\\Users\\lwfeckesim\\01_PyTorch\\wze-uav\\wze-uav-master\\wandb\\run-20230417_144233-hvc8l1nj</code>"
      ],
      "text/plain": [
       "<IPython.core.display.HTML object>"
      ]
     },
     "metadata": {},
     "output_type": "display_data"
    },
    {
     "data": {
      "text/html": [
       "Syncing run <strong><a href='https://wandb.ai/simon-ecke/wze-uav/runs/hvc8l1nj' target=\"_blank\">fold_5_new_classes_lr005_gamma05_TEST</a></strong> to <a href='https://wandb.ai/simon-ecke/wze-uav' target=\"_blank\">Weights & Biases</a> (<a href='https://wandb.me/run' target=\"_blank\">docs</a>)<br/>"
      ],
      "text/plain": [
       "<IPython.core.display.HTML object>"
      ]
     },
     "metadata": {},
     "output_type": "display_data"
    },
    {
     "data": {
      "text/html": [
       " View project at <a href='https://wandb.ai/simon-ecke/wze-uav' target=\"_blank\">https://wandb.ai/simon-ecke/wze-uav</a>"
      ],
      "text/plain": [
       "<IPython.core.display.HTML object>"
      ]
     },
     "metadata": {},
     "output_type": "display_data"
    },
    {
     "data": {
      "text/html": [
       " View run at <a href='https://wandb.ai/simon-ecke/wze-uav/runs/hvc8l1nj' target=\"_blank\">https://wandb.ai/simon-ecke/wze-uav/runs/hvc8l1nj</a>"
      ],
      "text/plain": [
       "<IPython.core.display.HTML object>"
      ]
     },
     "metadata": {},
     "output_type": "display_data"
    },
    {
     "name": "stdout",
     "output_type": "stream",
     "text": [
      "Check shapes:\n",
      "\n",
      "Images train dataset: (13461, 250, 250, 3)\n",
      "Labels train dataset: (13461, 1)\n",
      "\n",
      "Images validation dataset: (894, 250, 250, 3)\n",
      "Labels validation dataset: (894, 1)\n",
      "\n",
      "--------------------------------------------------\n",
      "Check if the split was stratified: (random_state=42)\n",
      "Healthy trees in train dataset: 7960\n",
      "Stressed trees in train dataset: 5251\n",
      "Dead trees in train dataset: 250\n",
      "Healthy trees in validation dataset: 515\n",
      "Stressed trees in validation dataset: 367\n",
      "Dead trees in validation dataset: 12\n",
      "Ratio health trees in validation dataset: 0.054182009468700686\n",
      "Ratio stressed trees in validation dataset: 0.05780437864230587\n",
      "Ratio dead trees in validation dataset: 0.04152249134948097\n",
      "--------------------------------------------------\n",
      "Fold : 5\n",
      "TRAIN POSITIVE RATIO: 0.42861374407582936\n",
      "VAL POSITIVE RATIO  : 0.43160287987874196\n",
      "LENGTH TRAIN GROUPS : 5074\n",
      "LENGTH VAL GROUPS   : 1003\n"
     ]
    },
    {
     "data": {
      "text/html": [
       "Finishing last run (ID:hvc8l1nj) before initializing another..."
      ],
      "text/plain": [
       "<IPython.core.display.HTML object>"
      ]
     },
     "metadata": {},
     "output_type": "display_data"
    },
    {
     "data": {
      "text/html": [
       "Waiting for W&B process to finish... <strong style=\"color:green\">(success).</strong>"
      ],
      "text/plain": [
       "<IPython.core.display.HTML object>"
      ]
     },
     "metadata": {},
     "output_type": "display_data"
    },
    {
     "data": {
      "application/vnd.jupyter.widget-view+json": {
       "model_id": "9ffa328541dc40069683f4151a69b82c",
       "version_major": 2,
       "version_minor": 0
      },
      "text/plain": [
       "VBox(children=(Label(value='0.001 MB of 0.001 MB uploaded (0.000 MB deduped)\\r'), FloatProgress(value=1.0, max…"
      ]
     },
     "metadata": {},
     "output_type": "display_data"
    },
    {
     "data": {
      "text/html": [
       " View run <strong style=\"color:#cdcd00\">fold_5_new_classes_lr005_gamma05_TEST</strong> at: <a href='https://wandb.ai/simon-ecke/wze-uav/runs/hvc8l1nj' target=\"_blank\">https://wandb.ai/simon-ecke/wze-uav/runs/hvc8l1nj</a><br/>Synced 5 W&B file(s), 0 media file(s), 0 artifact file(s) and 0 other file(s)"
      ],
      "text/plain": [
       "<IPython.core.display.HTML object>"
      ]
     },
     "metadata": {},
     "output_type": "display_data"
    },
    {
     "data": {
      "text/html": [
       "Find logs at: <code>.\\wandb\\run-20230417_144233-hvc8l1nj\\logs</code>"
      ],
      "text/plain": [
       "<IPython.core.display.HTML object>"
      ]
     },
     "metadata": {},
     "output_type": "display_data"
    },
    {
     "data": {
      "text/html": [
       "Successfully finished last run (ID:hvc8l1nj). Initializing new run:<br/>"
      ],
      "text/plain": [
       "<IPython.core.display.HTML object>"
      ]
     },
     "metadata": {},
     "output_type": "display_data"
    },
    {
     "data": {
      "application/vnd.jupyter.widget-view+json": {
       "model_id": "acbd0f874f6c46e2b632a90a5fa7c964",
       "version_major": 2,
       "version_minor": 0
      },
      "text/plain": [
       "VBox(children=(Label(value='Waiting for wandb.init()...\\r'), FloatProgress(value=0.016666666666666666, max=1.0…"
      ]
     },
     "metadata": {},
     "output_type": "display_data"
    },
    {
     "data": {
      "text/html": [
       "Tracking run with wandb version 0.14.2"
      ],
      "text/plain": [
       "<IPython.core.display.HTML object>"
      ]
     },
     "metadata": {},
     "output_type": "display_data"
    },
    {
     "data": {
      "text/html": [
       "Run data is saved locally in <code>C:\\Users\\lwfeckesim\\01_PyTorch\\wze-uav\\wze-uav-master\\wandb\\run-20230417_144245-i794eo0e</code>"
      ],
      "text/plain": [
       "<IPython.core.display.HTML object>"
      ]
     },
     "metadata": {},
     "output_type": "display_data"
    },
    {
     "data": {
      "text/html": [
       "Syncing run <strong><a href='https://wandb.ai/simon-ecke/wze-uav/runs/i794eo0e' target=\"_blank\">fold_6_new_classes_lr005_gamma05_TEST</a></strong> to <a href='https://wandb.ai/simon-ecke/wze-uav' target=\"_blank\">Weights & Biases</a> (<a href='https://wandb.me/run' target=\"_blank\">docs</a>)<br/>"
      ],
      "text/plain": [
       "<IPython.core.display.HTML object>"
      ]
     },
     "metadata": {},
     "output_type": "display_data"
    },
    {
     "data": {
      "text/html": [
       " View project at <a href='https://wandb.ai/simon-ecke/wze-uav' target=\"_blank\">https://wandb.ai/simon-ecke/wze-uav</a>"
      ],
      "text/plain": [
       "<IPython.core.display.HTML object>"
      ]
     },
     "metadata": {},
     "output_type": "display_data"
    },
    {
     "data": {
      "text/html": [
       " View run at <a href='https://wandb.ai/simon-ecke/wze-uav/runs/i794eo0e' target=\"_blank\">https://wandb.ai/simon-ecke/wze-uav/runs/i794eo0e</a>"
      ],
      "text/plain": [
       "<IPython.core.display.HTML object>"
      ]
     },
     "metadata": {},
     "output_type": "display_data"
    },
    {
     "name": "stdout",
     "output_type": "stream",
     "text": [
      "Check shapes:\n",
      "\n",
      "Images train dataset: (13504, 250, 250, 3)\n",
      "Labels train dataset: (13504, 1)\n",
      "\n",
      "Images validation dataset: (884, 250, 250, 3)\n",
      "Labels validation dataset: (884, 1)\n",
      "\n",
      "--------------------------------------------------\n",
      "Check if the split was stratified: (random_state=42)\n",
      "Healthy trees in train dataset: 7951\n",
      "Stressed trees in train dataset: 5318\n",
      "Dead trees in train dataset: 235\n",
      "Healthy trees in validation dataset: 525\n",
      "Stressed trees in validation dataset: 343\n",
      "Dead trees in validation dataset: 16\n",
      "Ratio health trees in validation dataset: 0.055234087322461864\n",
      "Ratio stressed trees in validation dataset: 0.05402425578831312\n",
      "Ratio dead trees in validation dataset: 0.05536332179930796\n",
      "--------------------------------------------------\n",
      "CPU times: total: 35.4 s\n",
      "Wall time: 1min 12s\n"
     ]
    }
   ],
   "source": [
    "%%time\n",
    "\n",
    "# Set the random seeds\n",
    "set_seeds(42)\n",
    "\n",
    "# Define the number of folds\n",
    "num_folds = 5\n",
    "\n",
    "# group the hashIDs to get the unique values of hashIDs remaining in the subset  \n",
    "groups = sub_hash_id[:, 0] \n",
    "print(\"ORIGINAL POSITIVE RATIO:\", sub_label_set.mean())\n",
    "# create a StratifiedGroupKFold instance\n",
    "kf = StratifiedGroupKFold(n_splits=num_folds, shuffle=True, random_state=42)\n",
    "\n",
    "# loop through the folds\n",
    "for fold, (train_ids, val_ids) in enumerate(cv.split(sub_image_set, sub_label_set, groups)):\n",
    "    print(\"Fold :\", fold)\n",
    "    print(\"TRAIN POSITIVE RATIO:\", sub_label_set[train_ids].mean())\n",
    "    print(\"VAL POSITIVE RATIO  :\", sub_label_set[val_ids].mean())\n",
    "    print(\"LENGTH TRAIN GROUPS :\", len(set(groups[train_ids])))\n",
    "    print(\"LENGTH VAL GROUPS   :\", len(set(groups[val_ids])))\n",
    "    \n",
    "    train_ids = sub_hash_id[:, 0][train_ids]\n",
    "    val_ids = np.unique(sub_hash_id[:, 0][val_ids])\n",
    "\n",
    "    torch.cuda.empty_cache()\n",
    "    \n",
    "    # Initialize a new wandb run for this fold\n",
    "    wandb.init(project='wze-uav', name=f\"fold_{fold + 1}_{extra}\")\n",
    "    \n",
    "    # 1. Split data into train and validation set\n",
    "    # Get the training and testing data for this fold\n",
    "    # Use np.isin() to create boolean arrays indicating which indices belong to train or test sets\n",
    "    train_indices = np.isin(sub_hash_id[:,0], train_ids)\n",
    "    \n",
    "    val_indices = np.zeros_like(train_indices)  # initialize to all False\n",
    "    for hash_id_val in val_ids:\n",
    "        # select one image ID randomly from either 2020 or 2021 or 2022 for each unique hash ID in the test set\n",
    "        temp = np.unique(sub_hash_id[(sub_hash_id[:, 0] == hash_id_test), 1]) # check how many years are available per hashID\n",
    "        if len(temp) == 1:\n",
    "            year = temp[0]\n",
    "        elif len(temp) == 2:\n",
    "            year = np.random.choice(temp)\n",
    "        else:\n",
    "            year = np.random.choice(temp)\n",
    "        \n",
    "        # select image ID using the conditions\n",
    "        image_ids = sub_hash_id[(sub_hash_id[:,0] == hash_id_val) & (sub_hash_id[:,1] == year), 0]\n",
    "    \n",
    "        # mark the index corresponding to the selected image ID and hash ID as True in the test indices array\n",
    "        val_indices[(sub_hash_id[:,0] == hash_id_val) & (sub_hash_id[:,1] == year) & (np.isin(sub_hash_id[:,0], image_ids))] = True \n",
    "    \n",
    "    # Reshape boolean arrays to match shape of image_set and label_set\n",
    "    train_indices = train_indices.reshape(-1, 1)\n",
    "    val_indices = val_indices.reshape(-1, 1)\n",
    "    \n",
    "    # Select images and labels for train and validation sets\n",
    "    train_image_set = sub_image_set[train_indices[:, 0]]\n",
    "    train_label_set = sub_label_set[train_indices[:, 0]]\n",
    "    train_hash_id = sub_hash_id[train_indices[:, 0]][:,0]\n",
    "    train_species_set = sub_species_set[train_indices[:, 0]]\n",
    "    val_image_set = sub_image_set[val_indices[:, 0]]\n",
    "    val_label_set = sub_label_set[val_indices[:, 0]]\n",
    "    val_hash_id = sub_hash_id[val_indices[:, 0]][:,0]\n",
    "    val_species_set = sub_species_set[val_indices[:, 0]]\n",
    "    # reshape \n",
    "    train_label_set = train_label_set.reshape(-1, 1)\n",
    "    val_label_set = val_label_set.reshape(-1, 1)\n",
    "    train_species_set = train_species_set.reshape(-1, 1)\n",
    "    val_species_set = val_species_set.reshape(-1, 1)\n",
    "\n",
    "         \n",
    "    print(\"Check shapes:\\n\")\n",
    "    print(f\"Images train dataset: {train_image_set.shape}\")\n",
    "    print(f\"Labels train dataset: {train_label_set.shape}\\n\")\n",
    "    \n",
    "    print(f\"Images validation dataset: {val_image_set.shape}\")\n",
    "    print(f\"Labels validation dataset: {val_label_set.shape}\\n\")\n",
    "    print('-'*50)\n",
    "    print (f\"Check if the split was stratified: (random_state=42)\")\n",
    "    print(f\"Healthy trees in train dataset: {np.count_nonzero(train_label_set == 0)}\")\n",
    "    print(f\"Stressed trees in train dataset: {np.count_nonzero(train_label_set == 1)}\")\n",
    "    print(f\"Dead trees in train dataset: {np.count_nonzero(train_label_set == 2)}\")\n",
    "    print(f\"Healthy trees in validation dataset: {np.count_nonzero(val_label_set == 0)}\")\n",
    "    print(f\"Stressed trees in validation dataset: {np.count_nonzero(val_label_set == 1)}\")\n",
    "    print(f\"Dead trees in validation dataset: {np.count_nonzero(val_label_set == 2)}\")\n",
    "    print(f\"Ratio health trees in validation dataset: {np.count_nonzero(val_label_set == 0)/np.count_nonzero(sub_label_set == 0)}\")\n",
    "    print(f\"Ratio stressed trees in validation dataset: {np.count_nonzero(val_label_set == 1)/np.count_nonzero(sub_label_set == 1)}\")\n",
    "    print(f\"Ratio dead trees in validation dataset: {np.count_nonzero(val_label_set == 2)/np.count_nonzero(sub_label_set == 2)}\")\n",
    "    print(\"-\"*50)\n",
    "    continue\n",
    "   \n",
    "    # 2. Create train and validation dataset. (choose custom dataset loader with 3 - 5 classes)\n",
    "    print(f\"\\nCreating datasets for fold: {fold + 1}\\n\")\n",
    "    train_dataset = data_loader.CustomDataset(data=train_image_set, labels=train_label_set, class_names=class_names, species = train_species_set,\n",
    "                                                         transform=transform_train)\n",
    "    \n",
    "    val_dataset = data_loader.CustomDataset(data=val_image_set, labels=val_label_set, class_names=class_names,\n",
    "                                                       species = val_species_set, transform=transform)\n",
    "   \n",
    "    # 3. Create train and validation dataloader\n",
    "    # create sampler for oversampling of the minority classes\n",
    "    sampler = data_loader.data_sampler(dataset=train_dataset, class_names=class_names)\n",
    "    print(f\"Creating dataloaders for fold: {fold +1}\\n\")\n",
    "    train_dataloader = DataLoader(train_dataset, batch_size=batch_size, persistent_workers=True, pin_memory=True, num_workers=NUM_WORKERS, generator=g,\n",
    "                              sampler=sampler, shuffle=False, drop_last=True) # shuffle false because of the sampler\n",
    "\n",
    "    val_dataloader = DataLoader(val_dataset, batch_size=batch_size, persistent_workers=True, pin_memory=True, num_workers=NUM_WORKERS, shuffle=False,\n",
    "                             drop_last=True)\n",
    "    \n",
    "    model = model_effnet.EfficientNet.from_pretrained('efficientnet-b7', in_channels=n_bands, num_classes=num_classes, dropout_rate=dropout_rate)\n",
    "    loss_fn = nn.CrossEntropyLoss()\n",
    "    optimizer = torch.optim.Adam(params=model.parameters(), lr=lr)\n",
    "    lr_scheduler = CustomExponentialLR(optimizer, gamma=gamma, min_lr=min_lr)\n",
    "\n",
    "    fold += 1\n",
    "    print(f\"\\n[INFO] Fold number: {fold}\")\n",
    "    print(f\"[INFO] Number of epochs: {epochs}\")\n",
    "    print(f\"[INFO] Batch_size: {batch_size}\")\n",
    "    print(f\"[INFO] Number of bands: {n_bands}\")\n",
    "    print(f\"[INFO] Dropout rate: {dropout_rate}\")\n",
    "    print(f\"[INFO] Gamma learning rate: {gamma}\")\n",
    "    print(f\"[INFO] Memory allocated: {torch.cuda.memory_allocated()} bytes\")\n",
    "    # 4. Train model with k fold dataloaders and track experiments\n",
    "    \n",
    "    if fold == 1:\n",
    "        fold1_results = train(model=model, model_name=model_name, n_bands=n_bands, batch_size=batch_size,train_dataloader=train_dataloader, val_dataloader=val_dataloader, \n",
    "                        optimizer=optimizer, loss_fn=loss_fn, lr_scheduler=lr_scheduler, num_classes=num_classes, epochs=epochs, experiment_num=fold, device=device,\n",
    "                        writer=None, early_stop_patience = patience)\n",
    "       \n",
    "    elif fold == 2:\n",
    "        fold2_results = train(model=model, model_name=model_name, n_bands=n_bands, batch_size=batch_size,train_dataloader=train_dataloader, val_dataloader=val_dataloader, \n",
    "                        optimizer=optimizer, loss_fn=loss_fn, lr_scheduler=lr_scheduler, num_classes=num_classes, epochs=epochs, experiment_num=fold, device=device,\n",
    "                        writer=None, early_stop_patience = patience)\n",
    "    elif fold == 3:\n",
    "        fold3_results = train(model=model, model_name=model_name, n_bands=n_bands, batch_size=batch_size,train_dataloader=train_dataloader, val_dataloader=val_dataloader, \n",
    "                        optimizer=optimizer, loss_fn=loss_fn, lr_scheduler=lr_scheduler, num_classes=num_classes, epochs=epochs, experiment_num=fold, device=device,\n",
    "                        writer=None, early_stop_patience = patience)\n",
    "    elif fold == 4:\n",
    "        fold4_results = train(model=model, model_name=model_name, n_bands=n_bands, batch_size=batch_size,train_dataloader=train_dataloader, val_dataloader=val_dataloader, \n",
    "                        optimizer=optimizer, loss_fn=loss_fn, lr_scheduler=lr_scheduler, num_classes=num_classes, epochs=epochs, experiment_num=fold, device=device,\n",
    "                        writer=None, early_stop_patience = patience)\n",
    "    else:\n",
    "        fold5_results = train(model=model, model_name=model_name, n_bands=n_bands, batch_size=batch_size,train_dataloader=train_dataloader, val_dataloader=val_dataloader, \n",
    "                        optimizer=optimizer, loss_fn=loss_fn, lr_scheduler=lr_scheduler, num_classes=num_classes, epochs=epochs, experiment_num=fold, device=device,\n",
    "                        writer=None, early_stop_patience = patience)\n",
    "    \n",
    "    del train_indices, val_indices, train_image_set, train_label_set, train_hash_id, train_species_set, val_image_set, val_label_set, val_hash_id, val_species_set,\n",
    "    train_dataset, val_dataset, sampler, train_dataloader, val_dataloader, model, loss_fn, optimizer, lr_scheduler\n",
    "    \n",
    "    #finish the wandb run\n",
    "    wandb.finish()\n",
    "    print(\"Deleting variables and emptying cache\")\n",
    "    gc.collect()\n",
    "    torch.cuda.empty_cache()\n",
    "    print(f\"Memory allocated: {torch.cuda.memory_allocated()} bytes\")\n",
    "    print(\"-\"*50 + \"\\n\")\n",
    "    \n"
   ]
  },
  {
   "cell_type": "code",
   "execution_count": null,
   "id": "1885cc98",
   "metadata": {},
   "outputs": [],
   "source": [
    "# Create a graph to visualize the training and validation loss for each fold\n",
    "wandb.run.summary[\"graph\"] = wandb.plot.line_series(\n",
    "    xs=\"epoch\",\n",
    "    ys=[\"train_loss\", \"val_loss\"],\n",
    "    group=\"fold\",\n",
    "    xaxis=\"Epoch\",\n",
    "    yaxis=\"Loss\",\n",
    "    title=\"Training and Validation Loss by Fold\",\n",
    ")\n",
    "\n",
    "# Create a graph to visualize the training and validation f1 score for each fold\n",
    "wandb.run.summary[\"graph\"] = wandb.plot.line_series(\n",
    "    xs=\"epoch\",\n",
    "    ys=[\"train_f1_score\", \"val_f1_score\"],\n",
    "    group=\"fold\",\n",
    "    xaxis=\"Epoch\",\n",
    "    yaxis=\"Loss\",\n",
    "    title=\"Training and Validation F1-Score by Fold\",\n",
    ")"
   ]
  },
  {
   "cell_type": "code",
   "execution_count": null,
   "id": "c0c36ebb",
   "metadata": {},
   "outputs": [],
   "source": [
    "# create test dataset\n",
    "test_dataset = data_loader.CustomTestDataset(\n",
    "    data = test_image_set,\n",
    "    labels = test_label_set,\n",
    "    class_names=class_names, \n",
    "    species = test_species_set,\n",
    "    kkl = None,\n",
    "    transform=transform\n",
    ")\n",
    "\n",
    "# create test dataloader\n",
    "test_dataloader = DataLoader(test_dataset,\n",
    "                             batch_size=batch_size,\n",
    "                             persistent_workers=True,\n",
    "                             pin_memory=True,\n",
    "                             num_workers=NUM_WORKERS,\n",
    "                             shuffle=False,\n",
    "                             drop_last=True)"
   ]
  },
  {
   "cell_type": "code",
   "execution_count": null,
   "id": "67db5af2",
   "metadata": {},
   "outputs": [],
   "source": [
    "# Setup the best model filepath\n",
    "best_model_path = r\"C:\\Users\\lwfeckesim\\01_PyTorch\\wze-uav\\wze-uav-master\\effnet_b0\\01_18_epochs.pth\"\n",
    "\n",
    "# Instantiate a new instance of EffNetB0 (to load the saved state_dict() to)\n",
    "unfreeze=True\n",
    "best_model = models.create_effnetb0(output_shape=num_classes, unfreeze=unfreeze, dropout_rate=dropout_rate, device=device)\n",
    "\n",
    "# Load the saved best model state_dict()\n",
    "best_model.load_state_dict(torch.load(best_model_path))"
   ]
  },
  {
   "cell_type": "code",
   "execution_count": null,
   "id": "6dfbc663",
   "metadata": {},
   "outputs": [],
   "source": [
    "def make_predictions(model: torch.nn.Module, \n",
    "                     test_dataloader: torch.utils.data.DataLoader,\n",
    "                     device: torch.device):\n",
    "    # 1. Make predictions with trained model\n",
    "    y_preds = []\n",
    "    y_labels = []\n",
    "    species_list = []\n",
    "    test_loss, test_precision, test_recall, test_f1_score, test_acc = 0, 0, 0, 0, 0\n",
    "    count = 0\n",
    "    model.eval()\n",
    "    with torch.inference_mode():\n",
    "        for X, y, species in tqdm(test_dataloader, desc=\"Making predictions\"):\n",
    "            # Send data and targets to target device\n",
    "            X, y = X.to(device), y.to(device)\n",
    "            # Do the forward pass\n",
    "            y_logit = model(X)\n",
    "            # Turn predictions from logits -> prediction probabilities -> predictions labels\n",
    "            y_pred = torch.softmax(y_logit, dim=1).argmax(dim=1)\n",
    "            # Put predictions on CPU for evaluation\n",
    "            y_preds.append(y_pred.cpu())\n",
    "            y_labels.append(y.cpu())\n",
    "            species_list.append(species)\n",
    "            \n",
    "            #other metrics\n",
    "            test_acc += ((y_pred == y).sum().item()/len(y_pred))\n",
    "            y_pred_class = y_pred.detach().cpu().numpy() \n",
    "            y_class = y.detach().cpu().numpy()\n",
    "            labels = np.array([0])\n",
    "            test_precision += precision_score(y_class, y_pred_class, average='macro', zero_division=0, labels=[0,1,2])\n",
    "            test_recall += recall_score(y_class, y_pred_class, average='macro', zero_division=0, labels=[0,1,2])\n",
    "            #test_f1_score += f1_score(y_class, y_pred_class, average='macro', zero_division=1, labels=labels)\n",
    "            \n",
    "            #if count >= 1:\n",
    "            #    y_set = torch.cat((y_set, y))\n",
    "            #    count = count + 1\n",
    "            #else:\n",
    "            #    y_set = y\n",
    "            #    count = count + 1\n",
    "            \n",
    "    test_loss = test_loss / len(test_dataloader)\n",
    "    test_precision = test_precision / len(test_dataloader)\n",
    "    test_recall = test_recall / len(test_dataloader)\n",
    "    test_f1_score = test_f1_score / len(test_dataloader)\n",
    "    #test_kappa = test_kappa / len(dataloader)\n",
    "    test_acc = test_acc / len(test_dataloader)\n",
    "    # Concatenate list of predictions into a tensor\n",
    "    y_pred_tensor = torch.cat(y_preds)\n",
    "    y_labels_tensor = torch.cat(y_labels)\n",
    "    test_f1_score = f1_score(y_labels_tensor.detach().cpu().numpy(), y_pred_tensor.cpu().numpy(), average='macro', zero_division=1, labels=[0,1,2])\n",
    "    \n",
    "    # Print classification report\n",
    "    y_true = y_labels_tensor.detach().cpu().numpy()\n",
    "    report = classification_report(y_true, y_pred_tensor.cpu().numpy(), target_names=class_names)\n",
    "    print(report)\n",
    "    \n",
    "    return y_pred_tensor, y_labels_tensor, test_loss, test_recall, test_precision, test_f1_score, test_acc, y_logit, y_pred, y, y_preds"
   ]
  },
  {
   "cell_type": "code",
   "execution_count": null,
   "id": "aab9e321",
   "metadata": {},
   "outputs": [],
   "source": [
    "# 2. Setup confusion matrix instance and compare predictions to targets\n",
    "#from wze_uav.analysis import *\n",
    "y_pred_tensor, y_labels_tensor, test_loss, test_recall, test_precision, test_f1_score, test_acc, y_logit, y_pred, y, y_preds = make_predictions(model=best_model,\n",
    "                                 test_dataloader=test_dataloader, \n",
    "                                 device=device)\n",
    "\n",
    "y_labels_tensor = y_labels_tensor.detach().cpu().numpy()\n",
    "y_pred_tensor = y_pred_tensor.detach().cpu().numpy()\n",
    "\n",
    "#confmat = ConfusionMatrix(num_classes=num_classes, task='multiclass')\n",
    "#confmat_tensor = confmat(preds=y_pred_tensor,\n",
    "#                         target=test_labels)\n",
    "labels = np.array([0,1,2])\n",
    "confmat = confusion_matrix(y_labels_tensor, y_pred_tensor, labels=labels)\n",
    "\n",
    "# 3. Plot the confusion matrix\n",
    "fig, ax = plot_confusion_matrix(\n",
    "    conf_mat=confmat, # matplotlib likes working with NumPy \n",
    "    class_names=class_names, # turn the row and column labels into class names\n",
    "    figsize=(10, 7)\n",
    ");\n",
    "\n",
    "print(f\"Test loss: {test_loss}\")\n",
    "print(f\"Test precision: {test_precision}\")\n",
    "print(f\"Test recall: {test_recall}\")\n",
    "print(f\"Test F1score: {test_f1_score}\")\n",
    "#print(f\"Test Kappa: {test_kappa}\")\n",
    "print(f\"Test Accuracy: {test_acc}\")\n",
    "print(f\"Test Logits: {y_logit}\")\n",
    "print(f\"Test Predictions: {y_pred}\")\n",
    "print(f\"Test Labels: {y}\")"
   ]
  },
  {
   "cell_type": "code",
   "execution_count": null,
   "id": "8d4173b3",
   "metadata": {},
   "outputs": [],
   "source": [
    "len(y_preds)"
   ]
  },
  {
   "cell_type": "code",
   "execution_count": null,
   "id": "7588116f",
   "metadata": {},
   "outputs": [],
   "source": [
    "y_set.cpu()"
   ]
  },
  {
   "cell_type": "code",
   "execution_count": null,
   "id": "1c195b3e",
   "metadata": {},
   "outputs": [],
   "source": [
    "test_dataset.labels"
   ]
  },
  {
   "cell_type": "code",
   "execution_count": null,
   "id": "975ec08c",
   "metadata": {},
   "outputs": [],
   "source": []
  },
  {
   "cell_type": "code",
   "execution_count": null,
   "id": "6da05604",
   "metadata": {},
   "outputs": [],
   "source": [
    "y_preds = []\n",
    "y_labels = []\n",
    "labels = np.array([0,1,2])\n",
    "test_loss, test_precision, test_recall, test_f1_score, test_acc = 0, 0, 0, 0, 0\n",
    "count = 0\n",
    "model.eval()\n",
    "with torch.inference_mode():\n",
    "    for X, y in tqdm(test_dataloader, desc=\"Making predictions\"):\n",
    "        # Send data and targets to target device\n",
    "        X, y = X.to(device), y.to(device)\n",
    "        # Do the forward pass\n",
    "        y_logit = model(X)\n",
    "        # Turn predictions from logits -> prediction probabilities -> predictions labels\n",
    "        y_pred = torch.softmax(y_logit, dim=1).argmax(dim=1)\n",
    "        # Put predictions on CPU for evaluation\n",
    "        y_preds.append(y_pred.cpu())\n",
    "        y_labels.append(y.cpu())\n",
    "        \n",
    "        #other metrics\n",
    "        test_acc += ((y_pred == y).sum().item()/len(y_pred))\n",
    "        y_pred_class = y_pred.detach().cpu().numpy() \n",
    "        y_class = y.detach().cpu().numpy()\n",
    "        test_precision += precision_score(y_class, y_pred_class, average='macro', zero_division=1, labels=labels)\n",
    "        test_recall += recall_score(y_class, y_pred_class, average='macro', zero_division=1, labels=labels)\n",
    "        #test_f1_score += f1_score(y_class, y_pred_class, average='macro', zero_division=1, labels=labels)\n",
    "        \n",
    "        #if count >= 1:\n",
    "        #    y_set = torch.cat((y_set, y))\n",
    "        #    count = count + 1\n",
    "        #else:\n",
    "        #    y_set = y\n",
    "        #    count = count + 1\n",
    "        \n",
    "test_loss = test_loss / len(test_dataloader)\n",
    "test_precision = test_precision / len(test_dataloader)\n",
    "test_recall = test_recall / len(test_dataloader)\n",
    "#test_f1_score = test_f1_score / len(test_dataloader)\n",
    "#test_kappa = test_kappa / len(dataloader)\n",
    "test_acc = test_acc / len(test_dataloader)\n",
    "# Concatenate list of predictions into a tensor\n",
    "y_pred_tensor = torch.cat(y_preds)\n",
    "test_f1_score = f1_score(y_set.detach().cpu().numpy(), y_pred_tensor.cpu().numpy(), average='macro', zero_division=0, labels=[0,1,2])\n",
    "\n",
    "# Print classification report\n",
    "y_true = y_set.detach().cpu().numpy()\n",
    "report = classification_report(y_true, y_pred_tensor.cpu().numpy(), target_names=class_names)\n",
    "print(report)"
   ]
  },
  {
   "cell_type": "code",
   "execution_count": null,
   "id": "6ae97fab",
   "metadata": {},
   "outputs": [],
   "source": [
    "test_f1_score"
   ]
  },
  {
   "cell_type": "code",
   "execution_count": null,
   "id": "7ebafd9b",
   "metadata": {},
   "outputs": [],
   "source": [
    "make = (y_class == y_pred_class)\n",
    "make"
   ]
  },
  {
   "cell_type": "code",
   "execution_count": null,
   "id": "4f8aa759",
   "metadata": {},
   "outputs": [],
   "source": [
    "torch.softmax(y_logit, dim=1).argmax(dim=1)"
   ]
  },
  {
   "cell_type": "code",
   "execution_count": null,
   "id": "f90a54b2",
   "metadata": {},
   "outputs": [],
   "source": [
    "y"
   ]
  },
  {
   "cell_type": "code",
   "execution_count": null,
   "id": "5a806154",
   "metadata": {},
   "outputs": [],
   "source": [
    "test = (y_pred == y).sum().item()/16"
   ]
  },
  {
   "cell_type": "code",
   "execution_count": null,
   "id": "1da35c56",
   "metadata": {},
   "outputs": [],
   "source": [
    "test"
   ]
  },
  {
   "cell_type": "code",
   "execution_count": null,
   "id": "b1eb246e",
   "metadata": {},
   "outputs": [],
   "source": [
    " y_pred_class = y_pred.detach().cpu().numpy() "
   ]
  },
  {
   "cell_type": "code",
   "execution_count": null,
   "id": "602e096f",
   "metadata": {},
   "outputs": [],
   "source": [
    "y_pred_class"
   ]
  },
  {
   "cell_type": "code",
   "execution_count": null,
   "id": "eaf1af09",
   "metadata": {},
   "outputs": [],
   "source": []
  }
 ],
 "metadata": {
  "kernelspec": {
   "display_name": "Python 3 (ipykernel)",
   "language": "python",
   "name": "python3"
  },
  "language_info": {
   "codemirror_mode": {
    "name": "ipython",
    "version": 3
   },
   "file_extension": ".py",
   "mimetype": "text/x-python",
   "name": "python",
   "nbconvert_exporter": "python",
   "pygments_lexer": "ipython3",
   "version": "3.9.16"
  }
 },
 "nbformat": 4,
 "nbformat_minor": 5
}
