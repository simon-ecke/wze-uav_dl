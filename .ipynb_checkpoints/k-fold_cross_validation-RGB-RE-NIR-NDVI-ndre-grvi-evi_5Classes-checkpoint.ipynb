{
 "cells": [
  {
   "cell_type": "markdown",
   "id": "c1acdaa3",
   "metadata": {},
   "source": [
    "# WZE-UAV Image Classification using Deep Learning"
   ]
  },
  {
   "cell_type": "code",
   "execution_count": 1,
   "id": "2159aac5",
   "metadata": {},
   "outputs": [],
   "source": [
    "import os\n",
    "import gc\n",
    "import glob\n",
    "import numpy as np\n",
    "from pathlib import Path\n",
    "from tqdm.auto import tqdm\n",
    "from sklearn.metrics import confusion_matrix, classification_report\n",
    "from sklearn.model_selection import KFold"
   ]
  },
  {
   "cell_type": "code",
   "execution_count": 2,
   "id": "0026f7a9",
   "metadata": {},
   "outputs": [],
   "source": [
    "import torch\n",
    "import torchvision.transforms as T\n",
    "import torchvision\n",
    "from torch import nn\n",
    "from torch.utils.data import DataLoader\n",
    "from torchvision import datasets, transforms\n",
    "from torch.utils.data import Dataset\n",
    "import torch.optim as optim\n",
    "from torch.optim.lr_scheduler import ExponentialLR\n",
    "from mlxtend.plotting import plot_confusion_matrix"
   ]
  },
  {
   "cell_type": "code",
   "execution_count": 3,
   "id": "b160d7b4",
   "metadata": {},
   "outputs": [],
   "source": [
    "import wze_uav.data_loader as data_loader\n",
    "import wze_uav.models as models\n",
    "from wze_uav.engine import *\n",
    "from wze_uav.utils2 import *\n",
    "#from wze_uav.log_writer import create_writer\n",
    "from wze_uav.datasplit import *\n",
    "from efficientnet import model_effnet #for custom effnet with n_channels input\n",
    "import wandb"
   ]
  },
  {
   "cell_type": "markdown",
   "id": "2bd4fb2f",
   "metadata": {},
   "source": [
    "#### Get PyTorch version"
   ]
  },
  {
   "cell_type": "code",
   "execution_count": 4,
   "id": "c10886b1",
   "metadata": {},
   "outputs": [
    {
     "name": "stdout",
     "output_type": "stream",
     "text": [
      "torch version: 1.13.1+cu116\n",
      "torchvision version: 0.14.1+cu116\n"
     ]
    }
   ],
   "source": [
    "print(f\"torch version: {torch.__version__}\")\n",
    "print(f\"torchvision version: {torchvision.__version__}\")"
   ]
  },
  {
   "cell_type": "markdown",
   "id": "aa6a83cf",
   "metadata": {},
   "source": [
    "#### Preparing device agnostic code "
   ]
  },
  {
   "cell_type": "code",
   "execution_count": 5,
   "id": "13d5de88",
   "metadata": {},
   "outputs": [
    {
     "name": "stdout",
     "output_type": "stream",
     "text": [
      "cuda\n",
      "Index of current divice: 0\n",
      "Number of GPUs available: 1\n",
      "GPU Model: Quadro RTX 8000\n"
     ]
    }
   ],
   "source": [
    "# ensure device agnostic code\n",
    "device = 'cuda' if torch.cuda.is_available() else 'cpu'\n",
    "print(device)\n",
    "\n",
    "# get index of currently selected device\n",
    "print(f\"Index of current divice: {torch.cuda.current_device()}\")\n",
    "# get number of GPUs available\n",
    "print(f\"Number of GPUs available: {torch.cuda.device_count()}\")\n",
    "# get the name of the device\n",
    "print(f\"GPU Model: {torch.cuda.get_device_name(0)}\")"
   ]
  },
  {
   "cell_type": "markdown",
   "id": "8ef6b169",
   "metadata": {},
   "source": [
    "#### Login to Weights & Biases to track results"
   ]
  },
  {
   "cell_type": "code",
   "execution_count": 6,
   "id": "a59d27cf",
   "metadata": {},
   "outputs": [
    {
     "name": "stderr",
     "output_type": "stream",
     "text": [
      "Failed to detect the name of this notebook, you can set it manually with the WANDB_NOTEBOOK_NAME environment variable to enable code saving.\n",
      "\u001b[34m\u001b[1mwandb\u001b[0m: Currently logged in as: \u001b[33msimon-ecke\u001b[0m. Use \u001b[1m`wandb login --relogin`\u001b[0m to force relogin\n"
     ]
    },
    {
     "data": {
      "text/html": [
       "wandb version 0.15.0 is available!  To upgrade, please run:\n",
       " $ pip install wandb --upgrade"
      ],
      "text/plain": [
       "<IPython.core.display.HTML object>"
      ]
     },
     "metadata": {},
     "output_type": "display_data"
    },
    {
     "data": {
      "text/html": [
       "Tracking run with wandb version 0.14.2"
      ],
      "text/plain": [
       "<IPython.core.display.HTML object>"
      ]
     },
     "metadata": {},
     "output_type": "display_data"
    },
    {
     "data": {
      "text/html": [
       "Run data is saved locally in <code>C:\\Users\\lwfeckesim\\01_PyTorch\\wze-uav\\wze-uav-master\\wandb\\run-20230430_162457-gi52vjjs</code>"
      ],
      "text/plain": [
       "<IPython.core.display.HTML object>"
      ]
     },
     "metadata": {},
     "output_type": "display_data"
    },
    {
     "data": {
      "text/html": [
       "Syncing run <strong><a href='https://wandb.ai/simon-ecke/wze-uav-5classes/runs/gi52vjjs' target=\"_blank\">bright-brook-19</a></strong> to <a href='https://wandb.ai/simon-ecke/wze-uav-5classes' target=\"_blank\">Weights & Biases</a> (<a href='https://wandb.me/run' target=\"_blank\">docs</a>)<br/>"
      ],
      "text/plain": [
       "<IPython.core.display.HTML object>"
      ]
     },
     "metadata": {},
     "output_type": "display_data"
    },
    {
     "data": {
      "text/html": [
       " View project at <a href='https://wandb.ai/simon-ecke/wze-uav-5classes' target=\"_blank\">https://wandb.ai/simon-ecke/wze-uav-5classes</a>"
      ],
      "text/plain": [
       "<IPython.core.display.HTML object>"
      ]
     },
     "metadata": {},
     "output_type": "display_data"
    },
    {
     "data": {
      "text/html": [
       " View run at <a href='https://wandb.ai/simon-ecke/wze-uav-5classes/runs/gi52vjjs' target=\"_blank\">https://wandb.ai/simon-ecke/wze-uav-5classes/runs/gi52vjjs</a>"
      ],
      "text/plain": [
       "<IPython.core.display.HTML object>"
      ]
     },
     "metadata": {},
     "output_type": "display_data"
    },
    {
     "data": {
      "text/html": [
       "<button onClick=\"this.nextSibling.style.display='block';this.style.display='none';\">Display W&B run</button><iframe src='https://wandb.ai/simon-ecke/wze-uav-5classes/runs/gi52vjjs?jupyter=true' style='border:none;width:100%;height:420px;display:none;'></iframe>"
      ],
      "text/plain": [
       "<wandb.sdk.wandb_run.Run at 0x1fbf8db4fa0>"
      ]
     },
     "execution_count": 6,
     "metadata": {},
     "output_type": "execute_result"
    }
   ],
   "source": [
    "# IMPORTANT: The proxy needs to be set in anaconda!\n",
    "# copy paste this in anaconda and restart jupyter notebook\n",
    "#set http_proxy=http://www-proxy.bayern.de:80\n",
    "#set https_proxy=http://www-proxy.bayern.de:80\n",
    "wandb.login()\n",
    "#wandb.init(settings=wandb.Settings(start_method=\"thread\"))\n",
    "wandb.init(project='wze-uav-5classes', entity='simon-ecke')"
   ]
  },
  {
   "cell_type": "markdown",
   "id": "a26a6a34",
   "metadata": {},
   "source": [
    "#### Ensure reproducibility "
   ]
  },
  {
   "cell_type": "code",
   "execution_count": 7,
   "id": "dd4656a7",
   "metadata": {},
   "outputs": [],
   "source": [
    "# for more information, see also: https://pytorch.org/docs/stable/notes/randomness.html\n",
    "\n",
    "# Set seeds\n",
    "def set_seeds(seed: int=42):\n",
    "    \"\"\"Sets random sets for torch operations.\n",
    "\n",
    "    Args:\n",
    "        seed (int, optional): Random seed to set. Defaults to 42.\n",
    "    \"\"\"\n",
    "    # Set the seed for general torch operations\n",
    "    torch.manual_seed(seed)\n",
    "    # Set the seed for CUDA torch operations (ones that happen on the GPU)\n",
    "    torch.cuda.manual_seed(seed)\n",
    "    # seed for numpy\n",
    "    np.random.seed(seed)\n",
    "\n",
    "set_seeds(42) \n",
    "\n",
    "# Set to true -> might speed up the process but should be set to False if reproducible results are desired\n",
    "torch.backends.cudnn.benchmark = False\n"
   ]
  },
  {
   "cell_type": "markdown",
   "id": "8be33671",
   "metadata": {},
   "source": [
    "#### Define file directory"
   ]
  },
  {
   "cell_type": "code",
   "execution_count": 8,
   "id": "30645f36",
   "metadata": {},
   "outputs": [],
   "source": [
    "#####################################################################################\n",
    "# 3 channel input (r-g-b)\n",
    "#data_path = r\"D:\\Drohnendaten\\10_WZE-UAV\\Auswertung_findatree\\Datasplit\\ROI\\rgb\"\n",
    "\n",
    "# 4 channel input (r-g-b-nir)\n",
    "#data_path = r\"D:\\Drohnendaten\\10_WZE-UAV\\Auswertung_findatree\\Datasplit\\ROI\\rgb-nir\"\n",
    "\n",
    "# 5 channel input (r-g-b-re-nir)\n",
    "#data_path = r\"D:\\Drohnendaten\\10_WZE-UAV\\Auswertung_findatree\\Datasplit\\ROI\\rgb-re-nir\"\n",
    "\n",
    "# 6 channel input (r-g-b-re-nir)\n",
    "data_path = r\"D:\\Drohnendaten\\10_WZE-UAV\\Auswertung_findatree\\Datasplit\\ROI\\rgb-re-nir-ndvi\"\n",
    "#####################################################################################"
   ]
  },
  {
   "cell_type": "markdown",
   "id": "4560ce64",
   "metadata": {},
   "source": [
    "#### Get all file paths"
   ]
  },
  {
   "cell_type": "code",
   "execution_count": 9,
   "id": "aa072e4c",
   "metadata": {},
   "outputs": [],
   "source": [
    "fn_list = os.listdir(data_path)\n",
    "path_list = []\n",
    "# Iterate over all datafiles\n",
    "for year in fn_list:\n",
    "    year_dir = f'{data_path}\\\\{year}'\n",
    "    for filename in os.listdir(year_dir):\n",
    "        path = f'{year_dir}\\\\{filename}'\n",
    "        path_list.append(path)"
   ]
  },
  {
   "cell_type": "markdown",
   "id": "f3937a44",
   "metadata": {},
   "source": [
    "#### Create unique hash IDs for every individual tree"
   ]
  },
  {
   "cell_type": "code",
   "execution_count": 10,
   "id": "8a50f1d7",
   "metadata": {},
   "outputs": [
    {
     "data": {
      "application/vnd.jupyter.widget-view+json": {
       "model_id": "9d201cc446c54d72a8b29da08f413368",
       "version_major": 2,
       "version_minor": 0
      },
      "text/plain": [
       "Creating unique tree IDs...:   0%|          | 0/647 [00:00<?, ?it/s]"
      ]
     },
     "metadata": {},
     "output_type": "display_data"
    }
   ],
   "source": [
    "hashID_dict = data_loader.get_unique_treeID(path_list)"
   ]
  },
  {
   "cell_type": "markdown",
   "id": "6f4cea00",
   "metadata": {},
   "source": [
    "#### Import all imagery, labels and other features from hdf5 files"
   ]
  },
  {
   "cell_type": "code",
   "execution_count": 11,
   "id": "94e3eecf",
   "metadata": {},
   "outputs": [
    {
     "data": {
      "application/vnd.jupyter.widget-view+json": {
       "model_id": "a13d1f10fe1342a785b72b384045c284",
       "version_major": 2,
       "version_minor": 0
      },
      "text/plain": [
       "Processing hdf5 datasets:   0%|          | 0/647 [00:00<?, ?it/s]"
      ]
     },
     "metadata": {},
     "output_type": "display_data"
    }
   ],
   "source": [
    "image_set, label_set, species_set, kkl_set, bk_set, hash_id = data_loader.hdf5_to_img_label(path_list,\n",
    "                                                                                               hashID_dict,\n",
    "                                                                                               load_sets=[\"images_masked\"])"
   ]
  },
  {
   "cell_type": "markdown",
   "id": "6a90e2b7",
   "metadata": {},
   "source": [
    "#### Convert nbv to classes"
   ]
  },
  {
   "cell_type": "code",
   "execution_count": 12,
   "id": "0224972a",
   "metadata": {},
   "outputs": [],
   "source": [
    "label_set = nbv_to_sst_5classes(label_set)"
   ]
  },
  {
   "cell_type": "markdown",
   "id": "c6b4cd85",
   "metadata": {},
   "source": [
    "#### Split data into a sub set and a test dataset"
   ]
  },
  {
   "cell_type": "code",
   "execution_count": 13,
   "id": "d06eda54",
   "metadata": {},
   "outputs": [
    {
     "name": "stdout",
     "output_type": "stream",
     "text": [
      "ORIGINAL POSITIVE RATIO: 1.2873703802180272\n",
      "Fold : 0\n",
      "TRAIN POSITIVE RATIO: 1.2826295278860282\n",
      "TEST POSITIVE RATIO : 1.3109137055837563\n",
      "LENGTH TRAIN GROUPS : 5903\n",
      "LENGTH TEST GROUPS  : 1184\n",
      "Number of True in sub_indices: 15653\n",
      "Number of False in sub_indices: 3152\n",
      "Number of True in test_indices: 1185\n",
      "Number of False in test_indices: 17620\n",
      "Check shapes:\n",
      "\n",
      "Images sub dataset: (15653, 250, 250, 6)\n",
      "Labels sub dataset: (15653, 1)\n",
      "\n",
      "Images test dataset: (1185, 250, 250, 6)\n",
      "Labels test dataset: (1185, 1)\n",
      "\n",
      "--------------------------------------------------\n",
      "Check if the split was stratified: (random_state=42)\n",
      "Healthy trees in sub dataset: 2973\n",
      "Stressed trees in sub dataset: 6234\n",
      "Dead trees in sub dataset: 5743\n",
      "Healthy trees in test dataset: 193\n",
      "Stressed trees in test dataset: 503\n",
      "Dead trees in test dataset: 423\n",
      "Ratio health trees in test dataset: 0.06491759165825765\n",
      "Ratio stressed trees in test dataset: 0.08068655758742381\n",
      "Ratio dead trees in test dataset: 0.07365488420686053\n"
     ]
    }
   ],
   "source": [
    "sub_image_set, sub_label_set, sub_hash_id, sub_species_set, test_image_set, test_label_set, test_hash_id, test_species_set = data_split(image_set, label_set, hash_id, species_set, n_splits=6, random_state=42, seed=2)\n"
   ]
  },
  {
   "cell_type": "markdown",
   "id": "c48fbb5b",
   "metadata": {},
   "source": [
    "#### Check if any hash ID is in both sub and test dataset"
   ]
  },
  {
   "cell_type": "code",
   "execution_count": 14,
   "id": "874367cf",
   "metadata": {},
   "outputs": [
    {
     "name": "stdout",
     "output_type": "stream",
     "text": [
      "There are no hash_id values in both train and test datasets. The datasplit was successful\n"
     ]
    }
   ],
   "source": [
    "hash_set = set(sub_hash_id[:,0].flatten())\n",
    "test_hash_set = set(test_hash_id[:,0].flatten())\n",
    "intersection = hash_set.intersection(test_hash_set)\n",
    "if intersection:\n",
    "    print(f\"Hash_id values in both train and test sets: {len(intersection)}\")\n",
    "else:\n",
    "    print(\"There are no hash_id values in both train and test datasets. The datasplit was successful\")"
   ]
  },
  {
   "cell_type": "markdown",
   "id": "9e5b64d4",
   "metadata": {},
   "source": [
    "#### Check feature distribution of the Test dataset"
   ]
  },
  {
   "cell_type": "code",
   "execution_count": 15,
   "id": "a33ff5cb",
   "metadata": {},
   "outputs": [
    {
     "name": "stdout",
     "output_type": "stream",
     "text": [
      "Test dataset\n",
      "Test data healthy trees: 193\n",
      "Test data moderately stressed trees: 503\n",
      "Test data severely stressed trees: 423\n",
      "Test data dead trees: 39\n",
      "Test data pine trees: 281\n",
      "Test data spruces: 475\n",
      "--------------------------------------------------\n",
      "Remaining dataset\n",
      "Remaining data healthy trees: 2973\n",
      "Remaining data moderately stressed trees: 6234\n",
      "Remaining data severley stressed trees: 5743\n",
      "Remaining data dead trees: 455\n",
      "Remaining data pine trees: 4011\n",
      "Remaining data spruces: 5763\n",
      "--------------------------------------------------\n"
     ]
    }
   ],
   "source": [
    "def count_occurrences(data, value):\n",
    "    count = 0\n",
    "    for item in data:\n",
    "        if item == value:\n",
    "            count += 1\n",
    "    return count\n",
    "\n",
    "print(\"Test dataset\")\n",
    "print(f\"Test data healthy trees: {count_occurrences(test_label_set, 0)}\")\n",
    "print(f\"Test data moderately stressed trees: {count_occurrences(test_label_set, 1)}\")\n",
    "print(f\"Test data severely stressed trees: {count_occurrences(test_label_set, 2)}\")\n",
    "print(f\"Test data dead trees: {count_occurrences(test_label_set, 3)}\")\n",
    "print(f\"Test data pine trees: {count_occurrences(test_species_set, 134)}\")\n",
    "print(f\"Test data spruces: {count_occurrences(test_species_set, 118)}\")\n",
    "print(\"-\"*50)\n",
    "\n",
    "print(\"Remaining dataset\")\n",
    "print(f\"Remaining data healthy trees: {count_occurrences(sub_label_set, 0)}\")\n",
    "print(f\"Remaining data moderately stressed trees: {count_occurrences(sub_label_set, 1)}\")\n",
    "print(f\"Remaining data severley stressed trees: {count_occurrences(sub_label_set, 2)}\")\n",
    "print(f\"Remaining data dead trees: {count_occurrences(sub_label_set, 3)}\")\n",
    "print(f\"Remaining data pine trees: {count_occurrences(sub_species_set, 134)}\")\n",
    "print(f\"Remaining data spruces: {count_occurrences(sub_species_set, 118)}\")\n",
    "print(\"-\"*50)"
   ]
  },
  {
   "cell_type": "code",
   "execution_count": 16,
   "id": "e08fcf57",
   "metadata": {},
   "outputs": [],
   "source": [
    "# train transform with augmentation. \n",
    "transform_train = transforms.Compose([transforms.ToTensor(), transforms.RandomHorizontalFlip(p=0.5), transforms.RandomVerticalFlip(p=0.5),\n",
    "                                      transforms.RandomRotation(degrees=[0,360])])\n",
    "\n",
    "# test and val dataset transform without augmentation. \n",
    "transform = transforms.Compose([transforms.ToTensor()])\n",
    "\n",
    "# class names need to fit the customDataset class used e.g. 3 classes -> use CustomDataset3Classes\n",
    "#class_names = ['healthy', 'slightly_stressed', 'moderately_stressed', 'highly_stressed', 'dead']\n",
    "#class_names = ['healthy', 'moderately_stressed', 'highly_stressed', 'dead']\n",
    "class_names = ['healthy', 'low stress', 'moderate stress', 'severe stress', 'dead']\n",
    "\n",
    "# set seeds\n",
    "g = torch.Generator()\n",
    "g.manual_seed(42)\n",
    "NUM_WORKERS=3 # should be changed, depending on the system used\n",
    "batch_size=32"
   ]
  },
  {
   "cell_type": "markdown",
   "id": "31779c05",
   "metadata": {},
   "source": [
    "#### Define variables and parameters"
   ]
  },
  {
   "cell_type": "code",
   "execution_count": 17,
   "id": "10ae4379",
   "metadata": {},
   "outputs": [
    {
     "name": "stdout",
     "output_type": "stream",
     "text": [
      "Memory allocated: 0 bytes\n"
     ]
    }
   ],
   "source": [
    "# 1. Define number of epochs\n",
    "epochs = 50\n",
    "n_bands = sub_image_set[0].shape[2] # get number of bands\n",
    "\n",
    "# 2. Define model\n",
    "num_classes = len(class_names)\n",
    "unfreeze = True # all layer weights get updated\n",
    "dropout_rate = 0.5 #define dropout rate\n",
    "model_name = \"EffNet_b7_RGB-RE-NIR-NDVI_5classes\"\n",
    "\n",
    "# 3. Define loss, optimizer and learning rate scheduler\n",
    "lr = 0.005 # define learning rate\n",
    "min_lr = 1e-6 # minimum learning rate threshold\n",
    "gamma = 0.75 # how fast the learning rate decreases per epoch (low number=faster decrease)\n",
    "patience = 10\n",
    "\n",
    "# 4. Create target folder name were to save the tensorboard event files\n",
    "experiment_name = 'RGB-RE-NIR-NDVI_5classes'\n",
    "extra = \"RGB-RE-NIR-NDVI_5classes\"\n",
    "\n",
    "#----------------------------------------------------------------------\n",
    "#torch.cuda.empty_cache()\n",
    "print(f\"Memory allocated: {torch.cuda.memory_allocated()} bytes\") "
   ]
  },
  {
   "cell_type": "markdown",
   "id": "09768b1a",
   "metadata": {},
   "source": [
    "#### Run k-Fold cross-validation on EfficientNet"
   ]
  },
  {
   "cell_type": "code",
   "execution_count": 18,
   "id": "9c29c81d",
   "metadata": {},
   "outputs": [
    {
     "name": "stdout",
     "output_type": "stream",
     "text": [
      "ORIGINAL POSITIVE RATIO: 1.2826295278860282\n",
      "Fold : 1\n",
      "TRAIN POSITIVE RATIO: 1.2815572787592933\n",
      "VAL POSITIVE RATIO  : 1.2868956743002544\n",
      "LENGTH TRAIN GROUPS : 4720\n",
      "LENGTH VAL GROUPS   : 1183\n"
     ]
    },
    {
     "data": {
      "text/html": [
       "Finishing last run (ID:gi52vjjs) before initializing another..."
      ],
      "text/plain": [
       "<IPython.core.display.HTML object>"
      ]
     },
     "metadata": {},
     "output_type": "display_data"
    },
    {
     "data": {
      "text/html": [
       "Waiting for W&B process to finish... <strong style=\"color:green\">(success).</strong>"
      ],
      "text/plain": [
       "<IPython.core.display.HTML object>"
      ]
     },
     "metadata": {},
     "output_type": "display_data"
    },
    {
     "data": {
      "application/vnd.jupyter.widget-view+json": {
       "model_id": "14b99b0e5206431ca0716ada2a485f53",
       "version_major": 2,
       "version_minor": 0
      },
      "text/plain": [
       "VBox(children=(Label(value='0.001 MB of 0.001 MB uploaded (0.000 MB deduped)\\r'), FloatProgress(value=1.0, max…"
      ]
     },
     "metadata": {},
     "output_type": "display_data"
    },
    {
     "data": {
      "text/html": [
       " View run <strong style=\"color:#cdcd00\">bright-brook-19</strong> at: <a href='https://wandb.ai/simon-ecke/wze-uav-5classes/runs/gi52vjjs' target=\"_blank\">https://wandb.ai/simon-ecke/wze-uav-5classes/runs/gi52vjjs</a><br/>Synced 5 W&B file(s), 0 media file(s), 0 artifact file(s) and 0 other file(s)"
      ],
      "text/plain": [
       "<IPython.core.display.HTML object>"
      ]
     },
     "metadata": {},
     "output_type": "display_data"
    },
    {
     "data": {
      "text/html": [
       "Find logs at: <code>.\\wandb\\run-20230430_162457-gi52vjjs\\logs</code>"
      ],
      "text/plain": [
       "<IPython.core.display.HTML object>"
      ]
     },
     "metadata": {},
     "output_type": "display_data"
    },
    {
     "data": {
      "text/html": [
       "Successfully finished last run (ID:gi52vjjs). Initializing new run:<br/>"
      ],
      "text/plain": [
       "<IPython.core.display.HTML object>"
      ]
     },
     "metadata": {},
     "output_type": "display_data"
    },
    {
     "data": {
      "application/vnd.jupyter.widget-view+json": {
       "model_id": "f469ef0ce8a748828772c062058ca3a2",
       "version_major": 2,
       "version_minor": 0
      },
      "text/plain": [
       "VBox(children=(Label(value='Waiting for wandb.init()...\\r'), FloatProgress(value=0.016666666666666666, max=1.0…"
      ]
     },
     "metadata": {},
     "output_type": "display_data"
    },
    {
     "data": {
      "text/html": [
       "wandb version 0.15.0 is available!  To upgrade, please run:\n",
       " $ pip install wandb --upgrade"
      ],
      "text/plain": [
       "<IPython.core.display.HTML object>"
      ]
     },
     "metadata": {},
     "output_type": "display_data"
    },
    {
     "data": {
      "text/html": [
       "Tracking run with wandb version 0.14.2"
      ],
      "text/plain": [
       "<IPython.core.display.HTML object>"
      ]
     },
     "metadata": {},
     "output_type": "display_data"
    },
    {
     "data": {
      "text/html": [
       "Run data is saved locally in <code>C:\\Users\\lwfeckesim\\01_PyTorch\\wze-uav\\wze-uav-master\\wandb\\run-20230430_173502-ldojjsz0</code>"
      ],
      "text/plain": [
       "<IPython.core.display.HTML object>"
      ]
     },
     "metadata": {},
     "output_type": "display_data"
    },
    {
     "data": {
      "text/html": [
       "Syncing run <strong><a href='https://wandb.ai/simon-ecke/wze-uav-5classes/runs/ldojjsz0' target=\"_blank\">fold_1_RGB-RE-NIR-NDVI_5classes</a></strong> to <a href='https://wandb.ai/simon-ecke/wze-uav-5classes' target=\"_blank\">Weights & Biases</a> (<a href='https://wandb.me/run' target=\"_blank\">docs</a>)<br/>"
      ],
      "text/plain": [
       "<IPython.core.display.HTML object>"
      ]
     },
     "metadata": {},
     "output_type": "display_data"
    },
    {
     "data": {
      "text/html": [
       " View project at <a href='https://wandb.ai/simon-ecke/wze-uav-5classes' target=\"_blank\">https://wandb.ai/simon-ecke/wze-uav-5classes</a>"
      ],
      "text/plain": [
       "<IPython.core.display.HTML object>"
      ]
     },
     "metadata": {},
     "output_type": "display_data"
    },
    {
     "data": {
      "text/html": [
       " View run at <a href='https://wandb.ai/simon-ecke/wze-uav-5classes/runs/ldojjsz0' target=\"_blank\">https://wandb.ai/simon-ecke/wze-uav-5classes/runs/ldojjsz0</a>"
      ],
      "text/plain": [
       "<IPython.core.display.HTML object>"
      ]
     },
     "metadata": {},
     "output_type": "display_data"
    },
    {
     "name": "stdout",
     "output_type": "stream",
     "text": [
      "There are no same hash_id values in train, val or test datasets. The datasplit was successful\n",
      "Check shapes:\n",
      "\n",
      "Images train dataset: (12509, 250, 250, 6)\n",
      "Labels train dataset: (12509, 1)\n",
      "\n",
      "Images validation dataset: (1183, 250, 250, 6)\n",
      "Labels validation dataset: (1183, 1)\n",
      "\n",
      "--------------------------------------------------\n",
      "Check if the split was stratified: (random_state=42)\n",
      "Healthy trees in train dataset: 2355\n",
      "Moderately stressed trees in train dataset: 5000\n",
      "Severely stressed trees in train dataset: 4618\n",
      "Dead trees in train dataset: 349\n",
      "Healthy trees in validation dataset: 227\n",
      "Moderately stressed trees in validation dataset: 467\n",
      "Severely stressed trees in validation dataset: 421\n",
      "Dead trees in validation dataset: 43\n",
      "Ratio health trees in validation dataset: 0.07635385132862428\n",
      "Ratio moderately stressed trees in validation dataset: 0.07491177414180301\n",
      "Ratio severely stressed trees in validation dataset: 0.08131638516454814\n",
      "Ratio dead trees in validation dataset: 0.9252747252747253\n",
      "--------------------------------------------------\n",
      "\n",
      "Creating datasets for fold: 1\n",
      "\n",
      "Creating dataloaders for fold: 1\n",
      "\n",
      "Loaded pretrained weights for efficientnet-b7\n",
      "\n",
      "[INFO] Fold number: 1\n",
      "[INFO] Number of epochs: 50\n",
      "[INFO] Number of classes: 5\n",
      "[INFO] Batch_size: 32\n",
      "[INFO] Number of bands: 6\n",
      "[INFO] Dropout rate: 0.5\n",
      "[INFO] Gamma learning rate: 0.75\n",
      "[INFO] Memory allocated: 0 bytes\n"
     ]
    },
    {
     "data": {
      "application/vnd.jupyter.widget-view+json": {
       "model_id": "4549ba5101ec4e85b63404d192e2d8f7",
       "version_major": 2,
       "version_minor": 0
      },
      "text/plain": [
       "  0%|          | 0/50 [00:00<?, ?it/s]"
      ]
     },
     "metadata": {},
     "output_type": "display_data"
    },
    {
     "name": "stdout",
     "output_type": "stream",
     "text": [
      "Epoch: 1 \n",
      "Learning rate: 0.005\n",
      "Train loss: 1.3066 | Train precision: 0.2969 | Train recall: 0.2370 | Train f1score: 0.2370 | Train acc: 0.3764 | Train kappa: 0.1512 \n",
      "Val loss: 2.3615 | Val precision: 0.1340 | Val recall: 0.2963 | Val f1score: 0.1826 | Val acc: 0.3602 | Val kappa: 0.1148 \n",
      "\n",
      "Epoch: 2 \n",
      "Learning rate: 0.00375\n",
      "Train loss: 1.1814 | Train precision: 0.3948 | Train recall: 0.3401 | Train f1score: 0.3497 | Train acc: 0.4371 | Train kappa: 0.3688 \n",
      "Val loss: 1.2420 | Val precision: 0.3313 | Val recall: 0.3590 | Val f1score: 0.3011 | Val acc: 0.3837 | Val kappa: 0.3478 \n",
      "\n",
      "Epoch: 3 \n",
      "Learning rate: 0.0028125\n",
      "Train loss: 1.1429 | Train precision: 0.4401 | Train recall: 0.3903 | Train f1score: 0.3963 | Train acc: 0.4553 | Train kappa: 0.4443 \n",
      "Val loss: 1.5756 | Val precision: 0.3570 | Val recall: 0.3676 | Val f1score: 0.2066 | Val acc: 0.3325 | Val kappa: 0.2933 \n",
      "\n",
      "Epoch: 4 \n",
      "Learning rate: 0.002109375\n",
      "Train loss: 1.1140 | Train precision: 0.4598 | Train recall: 0.4186 | Train f1score: 0.4194 | Train acc: 0.4667 | Train kappa: 0.4765 \n",
      "Val loss: 1.0812 | Val precision: 0.5452 | Val recall: 0.3886 | Val f1score: 0.3846 | Val acc: 0.4661 | Val kappa: 0.3748 \n",
      "\n",
      "Epoch: 5 \n",
      "Learning rate: 0.00158203125\n",
      "Train loss: 1.1061 | Train precision: 0.4970 | Train recall: 0.4423 | Train f1score: 0.4416 | Train acc: 0.4727 | Train kappa: 0.4930 \n",
      "Val loss: 1.1466 | Val precision: 0.4488 | Val recall: 0.4218 | Val f1score: 0.4127 | Val acc: 0.4271 | Val kappa: 0.4422 \n",
      "\n",
      "Epoch: 6 \n",
      "Learning rate: 0.0011865234375\n",
      "Train loss: 1.0780 | Train precision: 0.5369 | Train recall: 0.4535 | Train f1score: 0.4579 | Train acc: 0.4909 | Train kappa: 0.5074 \n",
      "Val loss: 1.0347 | Val precision: 0.6627 | Val recall: 0.4969 | Val f1score: 0.4857 | Val acc: 0.5217 | Val kappa: 0.5578 \n",
      "\n",
      "Epoch: 7 \n",
      "Learning rate: 0.000889892578125\n",
      "Train loss: 1.0784 | Train precision: 0.5177 | Train recall: 0.4592 | Train f1score: 0.4594 | Train acc: 0.4843 | Train kappa: 0.5261 \n",
      "Val loss: 1.1298 | Val precision: 0.5609 | Val recall: 0.4298 | Val f1score: 0.4051 | Val acc: 0.4306 | Val kappa: 0.3490 \n",
      "\n",
      "Epoch: 8 \n",
      "Learning rate: 0.00066741943359375\n",
      "Train loss: 1.0672 | Train precision: 0.5277 | Train recall: 0.4622 | Train f1score: 0.4672 | Train acc: 0.4941 | Train kappa: 0.5246 \n",
      "Val loss: 1.0346 | Val precision: 0.5449 | Val recall: 0.4363 | Val f1score: 0.4521 | Val acc: 0.5312 | Val kappa: 0.4992 \n",
      "\n",
      "Epoch: 9 \n",
      "Learning rate: 0.0005005645751953125\n",
      "Train loss: 1.0575 | Train precision: 0.5592 | Train recall: 0.4791 | Train f1score: 0.4848 | Train acc: 0.5028 | Train kappa: 0.5319 \n",
      "Val loss: 1.0171 | Val precision: 0.5953 | Val recall: 0.5231 | Val f1score: 0.5204 | Val acc: 0.5373 | Val kappa: 0.5767 \n",
      "\n",
      "Epoch: 10 \n",
      "Learning rate: 0.0003754234313964844\n",
      "Train loss: 1.0486 | Train precision: 0.5773 | Train recall: 0.4799 | Train f1score: 0.4878 | Train acc: 0.5052 | Train kappa: 0.5510 \n",
      "Val loss: 0.9972 | Val precision: 0.5829 | Val recall: 0.5246 | Val f1score: 0.5221 | Val acc: 0.5477 | Val kappa: 0.5718 \n",
      "\n",
      "Epoch: 11 \n",
      "Learning rate: 0.0002815675735473633\n",
      "Train loss: 1.0407 | Train precision: 0.5579 | Train recall: 0.4768 | Train f1score: 0.4821 | Train acc: 0.5092 | Train kappa: 0.5515 \n",
      "Val loss: 1.0273 | Val precision: 0.4920 | Val recall: 0.4584 | Val f1score: 0.4680 | Val acc: 0.5130 | Val kappa: 0.5476 \n",
      "\n",
      "Epoch: 12 \n",
      "Learning rate: 0.00021117568016052246\n",
      "Train loss: 1.0458 | Train precision: 0.5749 | Train recall: 0.4851 | Train f1score: 0.4939 | Train acc: 0.5083 | Train kappa: 0.5513 \n",
      "Val loss: 1.0089 | Val precision: 0.4976 | Val recall: 0.4960 | Val f1score: 0.4961 | Val acc: 0.5365 | Val kappa: 0.5578 \n",
      "\n",
      "Epoch: 13 \n",
      "Learning rate: 0.00015838176012039184\n",
      "Train loss: 1.0264 | Train precision: 0.5840 | Train recall: 0.4896 | Train f1score: 0.4982 | Train acc: 0.5187 | Train kappa: 0.5675 \n",
      "Val loss: 1.0142 | Val precision: 0.5611 | Val recall: 0.4900 | Val f1score: 0.4970 | Val acc: 0.5234 | Val kappa: 0.5593 \n",
      "\n",
      "Epoch: 14 \n",
      "Learning rate: 0.00011878632009029388\n",
      "Train loss: 1.0329 | Train precision: 0.5811 | Train recall: 0.4980 | Train f1score: 0.5085 | Train acc: 0.5098 | Train kappa: 0.5736 \n",
      "Val loss: 0.9876 | Val precision: 0.6435 | Val recall: 0.5300 | Val f1score: 0.5396 | Val acc: 0.5556 | Val kappa: 0.5751 \n",
      "\n",
      "Epoch: 15 \n",
      "Learning rate: 8.908974006772042e-05\n",
      "Train loss: 1.0363 | Train precision: 0.5856 | Train recall: 0.4966 | Train f1score: 0.5089 | Train acc: 0.5088 | Train kappa: 0.5569 \n",
      "Val loss: 0.9995 | Val precision: 0.5874 | Val recall: 0.5118 | Val f1score: 0.5224 | Val acc: 0.5417 | Val kappa: 0.5723 \n",
      "\n",
      "Epoch: 16 \n",
      "Learning rate: 6.681730505079031e-05\n",
      "Train loss: 1.0460 | Train precision: 0.5789 | Train recall: 0.4974 | Train f1score: 0.5113 | Train acc: 0.5018 | Train kappa: 0.5482 \n",
      "Val loss: 1.0133 | Val precision: 0.5586 | Val recall: 0.5015 | Val f1score: 0.5080 | Val acc: 0.5269 | Val kappa: 0.5623 \n",
      "\n",
      "Epoch: 17 \n",
      "Learning rate: 5.0112978788092735e-05\n",
      "Train loss: 1.0410 | Train precision: 0.5731 | Train recall: 0.4906 | Train f1score: 0.5046 | Train acc: 0.5042 | Train kappa: 0.5554 \n",
      "Val loss: 1.0001 | Val precision: 0.5931 | Val recall: 0.5131 | Val f1score: 0.5215 | Val acc: 0.5469 | Val kappa: 0.5636 \n",
      "\n",
      "Epoch: 18 \n",
      "Learning rate: 3.758473409106955e-05\n",
      "Train loss: 1.0302 | Train precision: 0.5982 | Train recall: 0.5047 | Train f1score: 0.5191 | Train acc: 0.5092 | Train kappa: 0.5694 \n",
      "Val loss: 0.9974 | Val precision: 0.5769 | Val recall: 0.5104 | Val f1score: 0.5200 | Val acc: 0.5503 | Val kappa: 0.5684 \n",
      "\n",
      "Epoch: 19 \n",
      "Learning rate: 2.8188550568302163e-05\n",
      "Train loss: 1.0375 | Train precision: 0.5991 | Train recall: 0.5014 | Train f1score: 0.5172 | Train acc: 0.5063 | Train kappa: 0.5591 \n",
      "Val loss: 1.0077 | Val precision: 0.5618 | Val recall: 0.5040 | Val f1score: 0.5110 | Val acc: 0.5321 | Val kappa: 0.5649 \n",
      "\n",
      "Epoch: 20 \n",
      "Learning rate: 2.114141292622662e-05\n",
      "Train loss: 1.0317 | Train precision: 0.5864 | Train recall: 0.4967 | Train f1score: 0.5135 | Train acc: 0.5135 | Train kappa: 0.5591 \n",
      "Val loss: 0.9943 | Val precision: 0.5812 | Val recall: 0.5091 | Val f1score: 0.5206 | Val acc: 0.5512 | Val kappa: 0.5700 \n",
      "\n",
      "Epoch: 21 \n",
      "Learning rate: 1.5856059694669965e-05\n",
      "Train loss: 1.0261 | Train precision: 0.5847 | Train recall: 0.5020 | Train f1score: 0.5143 | Train acc: 0.5079 | Train kappa: 0.5728 \n",
      "Val loss: 0.9944 | Val precision: 0.5820 | Val recall: 0.5101 | Val f1score: 0.5214 | Val acc: 0.5530 | Val kappa: 0.5718 \n",
      "\n",
      "Epoch: 22 \n",
      "Learning rate: 1.1892044771002475e-05\n",
      "Train loss: 1.0259 | Train precision: 0.5810 | Train recall: 0.5015 | Train f1score: 0.5120 | Train acc: 0.5141 | Train kappa: 0.5655 \n",
      "Val loss: 0.9962 | Val precision: 0.5821 | Val recall: 0.5100 | Val f1score: 0.5215 | Val acc: 0.5530 | Val kappa: 0.5726 \n",
      "\n",
      "Epoch: 23 \n",
      "Learning rate: 8.919033578251857e-06\n",
      "Train loss: 1.0297 | Train precision: 0.5877 | Train recall: 0.4950 | Train f1score: 0.5108 | Train acc: 0.5107 | Train kappa: 0.5652 \n",
      "Val loss: 0.9971 | Val precision: 0.5746 | Val recall: 0.5050 | Val f1score: 0.5158 | Val acc: 0.5434 | Val kappa: 0.5662 \n",
      "\n",
      "Epoch: 24 \n",
      "Learning rate: 6.689275183688892e-06\n",
      "Train loss: 1.0357 | Train precision: 0.5592 | Train recall: 0.4949 | Train f1score: 0.5041 | Train acc: 0.5054 | Train kappa: 0.5513 \n",
      "Val loss: 0.9942 | Val precision: 0.5842 | Val recall: 0.5121 | Val f1score: 0.5231 | Val acc: 0.5564 | Val kappa: 0.5732 \n",
      "\n",
      "Early stopping after epoch 24\n"
     ]
    },
    {
     "data": {
      "text/html": [
       "Waiting for W&B process to finish... <strong style=\"color:green\">(success).</strong>"
      ],
      "text/plain": [
       "<IPython.core.display.HTML object>"
      ]
     },
     "metadata": {},
     "output_type": "display_data"
    },
    {
     "data": {
      "application/vnd.jupyter.widget-view+json": {
       "model_id": "3dde9f80f0be47ebb060281ebb4bc303",
       "version_major": 2,
       "version_minor": 0
      },
      "text/plain": [
       "VBox(children=(Label(value='0.001 MB of 0.001 MB uploaded (0.000 MB deduped)\\r'), FloatProgress(value=1.0, max…"
      ]
     },
     "metadata": {},
     "output_type": "display_data"
    },
    {
     "data": {
      "text/html": [
       "<style>\n",
       "    table.wandb td:nth-child(1) { padding: 0 10px; text-align: left ; width: auto;} td:nth-child(2) {text-align: left ; width: 100%}\n",
       "    .wandb-row { display: flex; flex-direction: row; flex-wrap: wrap; justify-content: flex-start; width: 100% }\n",
       "    .wandb-col { display: flex; flex-direction: column; flex-basis: 100%; flex: 1; padding: 10px; }\n",
       "    </style>\n",
       "<div class=\"wandb-row\"><div class=\"wandb-col\"><h3>Run history:</h3><br/><table class=\"wandb\"><tr><td>learning_rate</td><td>█▆▅▄▃▃▂▂▂▂▁▁▁▁▁▁▁▁▁▁▁▁▁▁</td></tr><tr><td>train_f1_score</td><td>▁▄▅▆▆▆▇▇▇▇▇▇▇███████████</td></tr><tr><td>train_loss</td><td>█▅▄▃▃▂▂▂▂▂▁▁▁▁▁▂▁▁▁▁▁▁▁▁</td></tr><tr><td>val_f1_score</td><td>▁▃▁▅▆▇▅▆██▇▇▇██▇██▇█████</td></tr><tr><td>val_loss</td><td>█▂▄▁▂▁▂▁▁▁▁▁▁▁▁▁▁▁▁▁▁▁▁▁</td></tr></table><br/></div><div class=\"wandb-col\"><h3>Run summary:</h3><br/><table class=\"wandb\"><tr><td>learning_rate</td><td>1e-05</td></tr><tr><td>train_f1_score</td><td>0.50413</td></tr><tr><td>train_loss</td><td>1.03566</td></tr><tr><td>val_f1_score</td><td>0.52315</td></tr><tr><td>val_loss</td><td>0.9942</td></tr></table><br/></div></div>"
      ],
      "text/plain": [
       "<IPython.core.display.HTML object>"
      ]
     },
     "metadata": {},
     "output_type": "display_data"
    },
    {
     "data": {
      "text/html": [
       " View run <strong style=\"color:#cdcd00\">fold_1_RGB-RE-NIR-NDVI_5classes</strong> at: <a href='https://wandb.ai/simon-ecke/wze-uav-5classes/runs/ldojjsz0' target=\"_blank\">https://wandb.ai/simon-ecke/wze-uav-5classes/runs/ldojjsz0</a><br/>Synced 5 W&B file(s), 0 media file(s), 0 artifact file(s) and 0 other file(s)"
      ],
      "text/plain": [
       "<IPython.core.display.HTML object>"
      ]
     },
     "metadata": {},
     "output_type": "display_data"
    },
    {
     "data": {
      "text/html": [
       "Find logs at: <code>.\\wandb\\run-20230430_173502-ldojjsz0\\logs</code>"
      ],
      "text/plain": [
       "<IPython.core.display.HTML object>"
      ]
     },
     "metadata": {},
     "output_type": "display_data"
    },
    {
     "name": "stdout",
     "output_type": "stream",
     "text": [
      "Deleting variables and emptying cache\n",
      "Memory allocated: 1047660032 bytes\n",
      "--------------------------------------------------\n",
      "\n",
      "Fold : 2\n",
      "TRAIN POSITIVE RATIO: 1.2782225780624499\n",
      "VAL POSITIVE RATIO  : 1.300031615554853\n",
      "LENGTH TRAIN GROUPS : 4720\n",
      "LENGTH VAL GROUPS   : 1183\n"
     ]
    },
    {
     "data": {
      "text/html": [
       "wandb version 0.15.0 is available!  To upgrade, please run:\n",
       " $ pip install wandb --upgrade"
      ],
      "text/plain": [
       "<IPython.core.display.HTML object>"
      ]
     },
     "metadata": {},
     "output_type": "display_data"
    },
    {
     "data": {
      "text/html": [
       "Tracking run with wandb version 0.14.2"
      ],
      "text/plain": [
       "<IPython.core.display.HTML object>"
      ]
     },
     "metadata": {},
     "output_type": "display_data"
    },
    {
     "data": {
      "text/html": [
       "Run data is saved locally in <code>C:\\Users\\lwfeckesim\\01_PyTorch\\wze-uav\\wze-uav-master\\wandb\\run-20230430_195331-fz5gos49</code>"
      ],
      "text/plain": [
       "<IPython.core.display.HTML object>"
      ]
     },
     "metadata": {},
     "output_type": "display_data"
    },
    {
     "data": {
      "text/html": [
       "Syncing run <strong><a href='https://wandb.ai/simon-ecke/wze-uav-5classes/runs/fz5gos49' target=\"_blank\">fold_2_RGB-RE-NIR-NDVI_5classes</a></strong> to <a href='https://wandb.ai/simon-ecke/wze-uav-5classes' target=\"_blank\">Weights & Biases</a> (<a href='https://wandb.me/run' target=\"_blank\">docs</a>)<br/>"
      ],
      "text/plain": [
       "<IPython.core.display.HTML object>"
      ]
     },
     "metadata": {},
     "output_type": "display_data"
    },
    {
     "data": {
      "text/html": [
       " View project at <a href='https://wandb.ai/simon-ecke/wze-uav-5classes' target=\"_blank\">https://wandb.ai/simon-ecke/wze-uav-5classes</a>"
      ],
      "text/plain": [
       "<IPython.core.display.HTML object>"
      ]
     },
     "metadata": {},
     "output_type": "display_data"
    },
    {
     "data": {
      "text/html": [
       " View run at <a href='https://wandb.ai/simon-ecke/wze-uav-5classes/runs/fz5gos49' target=\"_blank\">https://wandb.ai/simon-ecke/wze-uav-5classes/runs/fz5gos49</a>"
      ],
      "text/plain": [
       "<IPython.core.display.HTML object>"
      ]
     },
     "metadata": {},
     "output_type": "display_data"
    },
    {
     "name": "stdout",
     "output_type": "stream",
     "text": [
      "There are no same hash_id values in train, val or test datasets. The datasplit was successful\n",
      "Check shapes:\n",
      "\n",
      "Images train dataset: (12490, 250, 250, 6)\n",
      "Labels train dataset: (12490, 1)\n",
      "\n",
      "Images validation dataset: (1183, 250, 250, 6)\n",
      "Labels validation dataset: (1183, 1)\n",
      "\n",
      "--------------------------------------------------\n",
      "Check if the split was stratified: (random_state=42)\n",
      "Healthy trees in train dataset: 2399\n",
      "Moderately stressed trees in train dataset: 4995\n",
      "Severely stressed trees in train dataset: 4522\n",
      "Dead trees in train dataset: 370\n",
      "Healthy trees in validation dataset: 211\n",
      "Moderately stressed trees in validation dataset: 447\n",
      "Severely stressed trees in validation dataset: 472\n",
      "Dead trees in validation dataset: 33\n",
      "Ratio health trees in validation dataset: 0.07097208207198116\n",
      "Ratio moderately stressed trees in validation dataset: 0.07170356111645813\n",
      "Ratio severely stressed trees in validation dataset: 0.0778338847292356\n",
      "Ratio dead trees in validation dataset: 1.0373626373626375\n",
      "--------------------------------------------------\n",
      "\n",
      "Creating datasets for fold: 2\n",
      "\n",
      "Creating dataloaders for fold: 2\n",
      "\n",
      "Loaded pretrained weights for efficientnet-b7\n",
      "\n",
      "[INFO] Fold number: 2\n",
      "[INFO] Number of epochs: 50\n",
      "[INFO] Number of classes: 5\n",
      "[INFO] Batch_size: 32\n",
      "[INFO] Number of bands: 6\n",
      "[INFO] Dropout rate: 0.5\n",
      "[INFO] Gamma learning rate: 0.75\n",
      "[INFO] Memory allocated: 0 bytes\n"
     ]
    },
    {
     "data": {
      "application/vnd.jupyter.widget-view+json": {
       "model_id": "62b14ea28ded40779e2ebc97abbb956a",
       "version_major": 2,
       "version_minor": 0
      },
      "text/plain": [
       "  0%|          | 0/50 [00:00<?, ?it/s]"
      ]
     },
     "metadata": {},
     "output_type": "display_data"
    },
    {
     "name": "stdout",
     "output_type": "stream",
     "text": [
      "Epoch: 1 \n",
      "Learning rate: 0.005\n",
      "Train loss: 1.2839 | Train precision: 0.3192 | Train recall: 0.2467 | Train f1score: 0.2510 | Train acc: 0.3833 | Train kappa: 0.1146 \n",
      "Val loss: 3.7451 | Val precision: 0.0803 | Val recall: 0.1537 | Val f1score: 0.1055 | Val acc: 0.3116 | Val kappa: -0.0033 \n",
      "\n",
      "Epoch: 2 \n",
      "Learning rate: 0.00375\n",
      "Train loss: 1.1715 | Train precision: 0.4329 | Train recall: 0.3611 | Train f1score: 0.3695 | Train acc: 0.4401 | Train kappa: 0.3971 \n",
      "Val loss: 2.7551 | Val precision: 0.3806 | Val recall: 0.3434 | Val f1score: 0.1746 | Val acc: 0.2977 | Val kappa: 0.2338 \n",
      "\n",
      "Epoch: 3 \n",
      "Learning rate: 0.0028125\n",
      "Train loss: 1.1291 | Train precision: 0.4511 | Train recall: 0.4025 | Train f1score: 0.4058 | Train acc: 0.4618 | Train kappa: 0.4504 \n",
      "Val loss: 1.0350 | Val precision: 0.5224 | Val recall: 0.4507 | Val f1score: 0.4344 | Val acc: 0.5113 | Val kappa: 0.4485 \n",
      "\n",
      "Epoch: 4 \n",
      "Learning rate: 0.002109375\n",
      "Train loss: 1.1035 | Train precision: 0.5003 | Train recall: 0.4521 | Train f1score: 0.4524 | Train acc: 0.4759 | Train kappa: 0.5009 \n",
      "Val loss: 1.0723 | Val precision: 0.4954 | Val recall: 0.4525 | Val f1score: 0.4508 | Val acc: 0.4861 | Val kappa: 0.4655 \n",
      "\n",
      "Epoch: 5 \n",
      "Learning rate: 0.00158203125\n",
      "Train loss: 1.0880 | Train precision: 0.5162 | Train recall: 0.4499 | Train f1score: 0.4545 | Train acc: 0.4774 | Train kappa: 0.5104 \n",
      "Val loss: 1.0546 | Val precision: 0.5883 | Val recall: 0.4802 | Val f1score: 0.4613 | Val acc: 0.4705 | Val kappa: 0.4606 \n",
      "\n",
      "Epoch: 6 \n",
      "Learning rate: 0.0011865234375\n",
      "Train loss: 1.0846 | Train precision: 0.5232 | Train recall: 0.4601 | Train f1score: 0.4626 | Train acc: 0.4787 | Train kappa: 0.5394 \n",
      "Val loss: 1.0618 | Val precision: 0.5323 | Val recall: 0.3256 | Val f1score: 0.3569 | Val acc: 0.4896 | Val kappa: 0.4202 \n",
      "\n",
      "Epoch: 7 \n",
      "Learning rate: 0.000889892578125\n",
      "Train loss: 1.0642 | Train precision: 0.5387 | Train recall: 0.4672 | Train f1score: 0.4770 | Train acc: 0.4898 | Train kappa: 0.5373 \n",
      "Val loss: 1.0335 | Val precision: 0.5851 | Val recall: 0.5214 | Val f1score: 0.5081 | Val acc: 0.5278 | Val kappa: 0.4848 \n",
      "\n",
      "Epoch: 8 \n",
      "Learning rate: 0.00066741943359375\n",
      "Train loss: 1.0562 | Train precision: 0.5400 | Train recall: 0.4794 | Train f1score: 0.4862 | Train acc: 0.4933 | Train kappa: 0.5545 \n",
      "Val loss: 1.0230 | Val precision: 0.4665 | Val recall: 0.5087 | Val f1score: 0.4776 | Val acc: 0.5165 | Val kappa: 0.5299 \n",
      "\n",
      "Epoch: 9 \n",
      "Learning rate: 0.0005005645751953125\n",
      "Train loss: 1.0495 | Train precision: 0.5508 | Train recall: 0.4827 | Train f1score: 0.4907 | Train acc: 0.4929 | Train kappa: 0.5498 \n",
      "Val loss: 1.0449 | Val precision: 0.4682 | Val recall: 0.5116 | Val f1score: 0.4839 | Val acc: 0.5026 | Val kappa: 0.5189 \n",
      "\n",
      "Epoch: 10 \n",
      "Learning rate: 0.0003754234313964844\n",
      "Train loss: 1.0532 | Train precision: 0.5597 | Train recall: 0.4870 | Train f1score: 0.4954 | Train acc: 0.4972 | Train kappa: 0.5580 \n",
      "Val loss: 1.0010 | Val precision: 0.5683 | Val recall: 0.5504 | Val f1score: 0.5481 | Val acc: 0.5451 | Val kappa: 0.5539 \n",
      "\n",
      "Epoch: 11 \n",
      "Learning rate: 0.0002815675735473633\n",
      "Train loss: 1.0347 | Train precision: 0.5755 | Train recall: 0.5036 | Train f1score: 0.5169 | Train acc: 0.5082 | Train kappa: 0.5679 \n",
      "Val loss: 0.9957 | Val precision: 0.5446 | Val recall: 0.5461 | Val f1score: 0.5257 | Val acc: 0.5503 | Val kappa: 0.5461 \n",
      "\n",
      "Epoch: 12 \n",
      "Learning rate: 0.00021117568016052246\n",
      "Train loss: 1.0391 | Train precision: 0.5692 | Train recall: 0.4924 | Train f1score: 0.5038 | Train acc: 0.5043 | Train kappa: 0.5673 \n",
      "Val loss: 0.9972 | Val precision: 0.5273 | Val recall: 0.5243 | Val f1score: 0.5087 | Val acc: 0.5443 | Val kappa: 0.5444 \n",
      "\n",
      "Epoch: 13 \n",
      "Learning rate: 0.00015838176012039184\n",
      "Train loss: 1.0351 | Train precision: 0.5763 | Train recall: 0.4967 | Train f1score: 0.5091 | Train acc: 0.5075 | Train kappa: 0.5739 \n",
      "Val loss: 1.0029 | Val precision: 0.5220 | Val recall: 0.5290 | Val f1score: 0.5056 | Val acc: 0.5399 | Val kappa: 0.5438 \n",
      "\n",
      "Epoch: 14 \n",
      "Learning rate: 0.00011878632009029388\n",
      "Train loss: 1.0315 | Train precision: 0.5672 | Train recall: 0.4997 | Train f1score: 0.5052 | Train acc: 0.5113 | Train kappa: 0.5691 \n",
      "Val loss: 0.9798 | Val precision: 0.5874 | Val recall: 0.5092 | Val f1score: 0.5129 | Val acc: 0.5469 | Val kappa: 0.5442 \n",
      "\n",
      "Epoch: 15 \n",
      "Learning rate: 8.908974006772042e-05\n",
      "Train loss: 1.0251 | Train precision: 0.5831 | Train recall: 0.5003 | Train f1score: 0.5105 | Train acc: 0.5113 | Train kappa: 0.5755 \n",
      "Val loss: 0.9924 | Val precision: 0.5693 | Val recall: 0.5357 | Val f1score: 0.5259 | Val acc: 0.5486 | Val kappa: 0.5547 \n",
      "\n",
      "Epoch: 16 \n",
      "Learning rate: 6.681730505079031e-05\n",
      "Train loss: 1.0385 | Train precision: 0.5789 | Train recall: 0.4989 | Train f1score: 0.5108 | Train acc: 0.5148 | Train kappa: 0.5800 \n",
      "Val loss: 0.9922 | Val precision: 0.5689 | Val recall: 0.5495 | Val f1score: 0.5434 | Val acc: 0.5547 | Val kappa: 0.5662 \n",
      "\n",
      "Epoch: 17 \n",
      "Learning rate: 5.0112978788092735e-05\n",
      "Train loss: 1.0213 | Train precision: 0.5832 | Train recall: 0.5127 | Train f1score: 0.5211 | Train acc: 0.5204 | Train kappa: 0.5784 \n",
      "Val loss: 0.9821 | Val precision: 0.5821 | Val recall: 0.5397 | Val f1score: 0.5380 | Val acc: 0.5547 | Val kappa: 0.5540 \n",
      "\n",
      "Epoch: 18 \n",
      "Learning rate: 3.758473409106955e-05\n",
      "Train loss: 1.0198 | Train precision: 0.5714 | Train recall: 0.4999 | Train f1score: 0.5123 | Train acc: 0.5125 | Train kappa: 0.5808 \n",
      "Val loss: 0.9798 | Val precision: 0.5952 | Val recall: 0.5436 | Val f1score: 0.5476 | Val acc: 0.5616 | Val kappa: 0.5652 \n",
      "\n",
      "Epoch: 19 \n",
      "Learning rate: 2.8188550568302163e-05\n",
      "Train loss: 1.0215 | Train precision: 0.5903 | Train recall: 0.5075 | Train f1score: 0.5183 | Train acc: 0.5210 | Train kappa: 0.5772 \n",
      "Val loss: 0.9820 | Val precision: 0.5800 | Val recall: 0.5471 | Val f1score: 0.5424 | Val acc: 0.5634 | Val kappa: 0.5666 \n",
      "\n",
      "Epoch: 20 \n",
      "Learning rate: 2.114141292622662e-05\n",
      "Train loss: 1.0317 | Train precision: 0.5878 | Train recall: 0.5071 | Train f1score: 0.5192 | Train acc: 0.5116 | Train kappa: 0.5745 \n",
      "Val loss: 0.9779 | Val precision: 0.6054 | Val recall: 0.5390 | Val f1score: 0.5451 | Val acc: 0.5512 | Val kappa: 0.5507 \n",
      "\n",
      "Epoch: 21 \n",
      "Learning rate: 1.5856059694669965e-05\n",
      "Train loss: 1.0313 | Train precision: 0.5905 | Train recall: 0.5011 | Train f1score: 0.5168 | Train acc: 0.5130 | Train kappa: 0.5752 \n",
      "Val loss: 0.9783 | Val precision: 0.5887 | Val recall: 0.5368 | Val f1score: 0.5399 | Val acc: 0.5512 | Val kappa: 0.5490 \n",
      "\n",
      "Epoch: 22 \n",
      "Learning rate: 1.1892044771002475e-05\n",
      "Train loss: 1.0306 | Train precision: 0.5597 | Train recall: 0.4929 | Train f1score: 0.5009 | Train acc: 0.5100 | Train kappa: 0.5742 \n",
      "Val loss: 0.9785 | Val precision: 0.5771 | Val recall: 0.5407 | Val f1score: 0.5353 | Val acc: 0.5564 | Val kappa: 0.5576 \n",
      "\n",
      "Epoch: 23 \n",
      "Learning rate: 8.919033578251857e-06\n",
      "Train loss: 1.0222 | Train precision: 0.5956 | Train recall: 0.5096 | Train f1score: 0.5241 | Train acc: 0.5140 | Train kappa: 0.5846 \n",
      "Val loss: 0.9811 | Val precision: 0.5823 | Val recall: 0.5471 | Val f1score: 0.5424 | Val acc: 0.5660 | Val kappa: 0.5693 \n",
      "\n",
      "Epoch: 24 \n",
      "Learning rate: 6.689275183688892e-06\n",
      "Train loss: 1.0233 | Train precision: 0.5837 | Train recall: 0.5079 | Train f1score: 0.5179 | Train acc: 0.5167 | Train kappa: 0.5814 \n",
      "Val loss: 0.9784 | Val precision: 0.6038 | Val recall: 0.5490 | Val f1score: 0.5547 | Val acc: 0.5625 | Val kappa: 0.5621 \n",
      "\n",
      "Epoch: 25 \n",
      "Learning rate: 5.016956387766669e-06\n",
      "Train loss: 1.0252 | Train precision: 0.5749 | Train recall: 0.5072 | Train f1score: 0.5156 | Train acc: 0.5202 | Train kappa: 0.5895 \n",
      "Val loss: 0.9783 | Val precision: 0.6039 | Val recall: 0.5500 | Val f1score: 0.5556 | Val acc: 0.5642 | Val kappa: 0.5633 \n",
      "\n",
      "Epoch: 26 \n",
      "Learning rate: 3.762717290825002e-06\n",
      "Train loss: 1.0363 | Train precision: 0.5897 | Train recall: 0.5012 | Train f1score: 0.5170 | Train acc: 0.5127 | Train kappa: 0.5614 \n",
      "Val loss: 0.9798 | Val precision: 0.5759 | Val recall: 0.5375 | Val f1score: 0.5347 | Val acc: 0.5608 | Val kappa: 0.5605 \n",
      "\n",
      "Epoch: 27 \n",
      "Learning rate: 2.8220379681187514e-06\n",
      "Train loss: 1.0167 | Train precision: 0.5989 | Train recall: 0.5089 | Train f1score: 0.5220 | Train acc: 0.5179 | Train kappa: 0.5901 \n",
      "Val loss: 0.9798 | Val precision: 0.5895 | Val recall: 0.5475 | Val f1score: 0.5470 | Val acc: 0.5668 | Val kappa: 0.5703 \n",
      "\n"
     ]
    },
    {
     "name": "stdout",
     "output_type": "stream",
     "text": [
      "Epoch: 28 \n",
      "Learning rate: 2.1165284760890633e-06\n",
      "Train loss: 1.0233 | Train precision: 0.5643 | Train recall: 0.5027 | Train f1score: 0.5080 | Train acc: 0.5107 | Train kappa: 0.5906 \n",
      "Val loss: 0.9810 | Val precision: 0.5791 | Val recall: 0.5417 | Val f1score: 0.5394 | Val acc: 0.5651 | Val kappa: 0.5680 \n",
      "\n",
      "Epoch: 29 \n",
      "Learning rate: 1.5873963570667977e-06\n",
      "Train loss: 1.0230 | Train precision: 0.6015 | Train recall: 0.5148 | Train f1score: 0.5290 | Train acc: 0.5183 | Train kappa: 0.5820 \n",
      "Val loss: 0.9811 | Val precision: 0.5789 | Val recall: 0.5417 | Val f1score: 0.5393 | Val acc: 0.5651 | Val kappa: 0.5684 \n",
      "\n",
      "Epoch: 30 \n",
      "Learning rate: 1.1905472678000981e-06\n",
      "Train loss: 1.0206 | Train precision: 0.6012 | Train recall: 0.5116 | Train f1score: 0.5272 | Train acc: 0.5174 | Train kappa: 0.5953 \n",
      "Val loss: 0.9798 | Val precision: 0.5978 | Val recall: 0.5481 | Val f1score: 0.5522 | Val acc: 0.5677 | Val kappa: 0.5682 \n",
      "\n",
      "Epoch: 31 \n",
      "Learning rate: 1e-06\n",
      "Train loss: 1.0244 | Train precision: 0.6056 | Train recall: 0.5116 | Train f1score: 0.5272 | Train acc: 0.5155 | Train kappa: 0.5857 \n",
      "Val loss: 0.9802 | Val precision: 0.5780 | Val recall: 0.5406 | Val f1score: 0.5381 | Val acc: 0.5642 | Val kappa: 0.5653 \n",
      "\n",
      "Epoch: 32 \n",
      "Learning rate: 1e-06\n",
      "Train loss: 1.0208 | Train precision: 0.5717 | Train recall: 0.5003 | Train f1score: 0.5084 | Train acc: 0.5105 | Train kappa: 0.5743 \n",
      "Val loss: 0.9789 | Val precision: 0.6041 | Val recall: 0.5493 | Val f1score: 0.5553 | Val acc: 0.5608 | Val kappa: 0.5601 \n",
      "\n",
      "Epoch: 33 \n",
      "Learning rate: 1e-06\n",
      "Train loss: 1.0205 | Train precision: 0.5771 | Train recall: 0.5104 | Train f1score: 0.5207 | Train acc: 0.5168 | Train kappa: 0.5907 \n",
      "Val loss: 0.9787 | Val precision: 0.5958 | Val recall: 0.5459 | Val f1score: 0.5502 | Val acc: 0.5634 | Val kappa: 0.5646 \n",
      "\n",
      "Epoch: 34 \n",
      "Learning rate: 1e-06\n",
      "Train loss: 1.0214 | Train precision: 0.5892 | Train recall: 0.5093 | Train f1score: 0.5173 | Train acc: 0.5155 | Train kappa: 0.5824 \n",
      "Val loss: 0.9800 | Val precision: 0.5963 | Val recall: 0.5465 | Val f1score: 0.5505 | Val acc: 0.5660 | Val kappa: 0.5649 \n",
      "\n",
      "Epoch: 35 \n",
      "Learning rate: 1e-06\n",
      "Train loss: 1.0288 | Train precision: 0.5768 | Train recall: 0.4987 | Train f1score: 0.5111 | Train acc: 0.5163 | Train kappa: 0.5856 \n",
      "Val loss: 0.9800 | Val precision: 0.5965 | Val recall: 0.5466 | Val f1score: 0.5508 | Val acc: 0.5660 | Val kappa: 0.5680 \n",
      "\n",
      "Early stopping after epoch 35\n"
     ]
    },
    {
     "data": {
      "text/html": [
       "Waiting for W&B process to finish... <strong style=\"color:green\">(success).</strong>"
      ],
      "text/plain": [
       "<IPython.core.display.HTML object>"
      ]
     },
     "metadata": {},
     "output_type": "display_data"
    },
    {
     "data": {
      "application/vnd.jupyter.widget-view+json": {
       "model_id": "dba365219ae740b1a4de2606dc170a86",
       "version_major": 2,
       "version_minor": 0
      },
      "text/plain": [
       "VBox(children=(Label(value='0.001 MB of 0.001 MB uploaded (0.000 MB deduped)\\r'), FloatProgress(value=1.0, max…"
      ]
     },
     "metadata": {},
     "output_type": "display_data"
    },
    {
     "data": {
      "text/html": [
       "<style>\n",
       "    table.wandb td:nth-child(1) { padding: 0 10px; text-align: left ; width: auto;} td:nth-child(2) {text-align: left ; width: 100%}\n",
       "    .wandb-row { display: flex; flex-direction: row; flex-wrap: wrap; justify-content: flex-start; width: 100% }\n",
       "    .wandb-col { display: flex; flex-direction: column; flex-basis: 100%; flex: 1; padding: 10px; }\n",
       "    </style>\n",
       "<div class=\"wandb-row\"><div class=\"wandb-col\"><h3>Run history:</h3><br/><table class=\"wandb\"><tr><td>learning_rate</td><td>█▆▅▄▃▃▂▂▂▂▁▁▁▁▁▁▁▁▁▁▁▁▁▁▁▁▁▁▁▁▁▁▁▁▁</td></tr><tr><td>train_f1_score</td><td>▁▄▅▆▆▆▇▇▇▇█▇▇▇███████▇█████▇███▇███</td></tr><tr><td>train_loss</td><td>█▅▄▃▃▃▂▂▂▂▁▂▁▁▁▂▁▁▁▁▁▁▁▁▁▂▁▁▁▁▁▁▁▁▁</td></tr><tr><td>val_f1_score</td><td>▁▂▆▆▇▅▇▇▇██▇▇▇█████████████████████</td></tr><tr><td>val_loss</td><td>█▅▁▁▁▁▁▁▁▁▁▁▁▁▁▁▁▁▁▁▁▁▁▁▁▁▁▁▁▁▁▁▁▁▁</td></tr></table><br/></div><div class=\"wandb-col\"><h3>Run summary:</h3><br/><table class=\"wandb\"><tr><td>learning_rate</td><td>0.0</td></tr><tr><td>train_f1_score</td><td>0.51105</td></tr><tr><td>train_loss</td><td>1.02882</td></tr><tr><td>val_f1_score</td><td>0.55079</td></tr><tr><td>val_loss</td><td>0.98001</td></tr></table><br/></div></div>"
      ],
      "text/plain": [
       "<IPython.core.display.HTML object>"
      ]
     },
     "metadata": {},
     "output_type": "display_data"
    },
    {
     "data": {
      "text/html": [
       " View run <strong style=\"color:#cdcd00\">fold_2_RGB-RE-NIR-NDVI_5classes</strong> at: <a href='https://wandb.ai/simon-ecke/wze-uav-5classes/runs/fz5gos49' target=\"_blank\">https://wandb.ai/simon-ecke/wze-uav-5classes/runs/fz5gos49</a><br/>Synced 5 W&B file(s), 0 media file(s), 0 artifact file(s) and 0 other file(s)"
      ],
      "text/plain": [
       "<IPython.core.display.HTML object>"
      ]
     },
     "metadata": {},
     "output_type": "display_data"
    },
    {
     "data": {
      "text/html": [
       "Find logs at: <code>.\\wandb\\run-20230430_195331-fz5gos49\\logs</code>"
      ],
      "text/plain": [
       "<IPython.core.display.HTML object>"
      ]
     },
     "metadata": {},
     "output_type": "display_data"
    },
    {
     "name": "stdout",
     "output_type": "stream",
     "text": [
      "Deleting variables and emptying cache\n",
      "Memory allocated: 1053707776 bytes\n",
      "--------------------------------------------------\n",
      "\n",
      "Fold : 3\n",
      "TRAIN POSITIVE RATIO: 1.2821208975485108\n",
      "VAL POSITIVE RATIO  : 1.284664536741214\n",
      "LENGTH TRAIN GROUPS : 4722\n",
      "LENGTH VAL GROUPS   : 1181\n"
     ]
    },
    {
     "data": {
      "text/html": [
       "wandb version 0.15.0 is available!  To upgrade, please run:\n",
       " $ pip install wandb --upgrade"
      ],
      "text/plain": [
       "<IPython.core.display.HTML object>"
      ]
     },
     "metadata": {},
     "output_type": "display_data"
    },
    {
     "data": {
      "text/html": [
       "Tracking run with wandb version 0.14.2"
      ],
      "text/plain": [
       "<IPython.core.display.HTML object>"
      ]
     },
     "metadata": {},
     "output_type": "display_data"
    },
    {
     "data": {
      "text/html": [
       "Run data is saved locally in <code>C:\\Users\\lwfeckesim\\01_PyTorch\\wze-uav\\wze-uav-master\\wandb\\run-20230430_231234-k8s5nepn</code>"
      ],
      "text/plain": [
       "<IPython.core.display.HTML object>"
      ]
     },
     "metadata": {},
     "output_type": "display_data"
    },
    {
     "data": {
      "text/html": [
       "Syncing run <strong><a href='https://wandb.ai/simon-ecke/wze-uav-5classes/runs/k8s5nepn' target=\"_blank\">fold_3_RGB-RE-NIR-NDVI_5classes</a></strong> to <a href='https://wandb.ai/simon-ecke/wze-uav-5classes' target=\"_blank\">Weights & Biases</a> (<a href='https://wandb.me/run' target=\"_blank\">docs</a>)<br/>"
      ],
      "text/plain": [
       "<IPython.core.display.HTML object>"
      ]
     },
     "metadata": {},
     "output_type": "display_data"
    },
    {
     "data": {
      "text/html": [
       " View project at <a href='https://wandb.ai/simon-ecke/wze-uav-5classes' target=\"_blank\">https://wandb.ai/simon-ecke/wze-uav-5classes</a>"
      ],
      "text/plain": [
       "<IPython.core.display.HTML object>"
      ]
     },
     "metadata": {},
     "output_type": "display_data"
    },
    {
     "data": {
      "text/html": [
       " View run at <a href='https://wandb.ai/simon-ecke/wze-uav-5classes/runs/k8s5nepn' target=\"_blank\">https://wandb.ai/simon-ecke/wze-uav-5classes/runs/k8s5nepn</a>"
      ],
      "text/plain": [
       "<IPython.core.display.HTML object>"
      ]
     },
     "metadata": {},
     "output_type": "display_data"
    },
    {
     "name": "stdout",
     "output_type": "stream",
     "text": [
      "There are no same hash_id values in train, val or test datasets. The datasplit was successful\n",
      "Check shapes:\n",
      "\n",
      "Images train dataset: (12523, 250, 250, 6)\n",
      "Labels train dataset: (12523, 1)\n",
      "\n",
      "Images validation dataset: (1181, 250, 250, 6)\n",
      "Labels validation dataset: (1181, 1)\n",
      "\n",
      "--------------------------------------------------\n",
      "Check if the split was stratified: (random_state=42)\n",
      "Healthy trees in train dataset: 2374\n",
      "Moderately stressed trees in train dataset: 4991\n",
      "Severely stressed trees in train dataset: 4605\n",
      "Dead trees in train dataset: 357\n",
      "Healthy trees in validation dataset: 208\n",
      "Moderately stressed trees in validation dataset: 472\n",
      "Severely stressed trees in validation dataset: 440\n",
      "Dead trees in validation dataset: 39\n",
      "Ratio health trees in validation dataset: 0.06996300033636058\n",
      "Ratio moderately stressed trees in validation dataset: 0.07571382739813924\n",
      "Ratio severely stressed trees in validation dataset: 0.08218701027337628\n",
      "Ratio dead trees in validation dataset: 0.967032967032967\n",
      "--------------------------------------------------\n",
      "\n",
      "Creating datasets for fold: 3\n",
      "\n",
      "Creating dataloaders for fold: 3\n",
      "\n",
      "Loaded pretrained weights for efficientnet-b7\n",
      "\n",
      "[INFO] Fold number: 3\n",
      "[INFO] Number of epochs: 50\n",
      "[INFO] Number of classes: 5\n",
      "[INFO] Batch_size: 32\n",
      "[INFO] Number of bands: 6\n",
      "[INFO] Dropout rate: 0.5\n",
      "[INFO] Gamma learning rate: 0.75\n",
      "[INFO] Memory allocated: 0 bytes\n"
     ]
    },
    {
     "data": {
      "application/vnd.jupyter.widget-view+json": {
       "model_id": "74404434e3fe486c8f0ffe4a56adc087",
       "version_major": 2,
       "version_minor": 0
      },
      "text/plain": [
       "  0%|          | 0/50 [00:00<?, ?it/s]"
      ]
     },
     "metadata": {},
     "output_type": "display_data"
    },
    {
     "name": "stdout",
     "output_type": "stream",
     "text": [
      "Epoch: 1 \n",
      "Learning rate: 0.005\n",
      "Train loss: 1.2502 | Train precision: 0.3272 | Train recall: 0.2801 | Train f1score: 0.2876 | Train acc: 0.4031 | Train kappa: 0.2613 \n",
      "Val loss: 1.4447 | Val precision: 0.1973 | Val recall: 0.2251 | Val f1score: 0.1576 | Val acc: 0.3993 | Val kappa: 0.0855 \n",
      "\n",
      "Epoch: 2 \n",
      "Learning rate: 0.00375\n",
      "Train loss: 1.1590 | Train precision: 0.4107 | Train recall: 0.3718 | Train f1score: 0.3723 | Train acc: 0.4468 | Train kappa: 0.4110 \n",
      "Val loss: 1.2845 | Val precision: 0.5894 | Val recall: 0.4100 | Val f1score: 0.3949 | Val acc: 0.4028 | Val kappa: 0.3901 \n",
      "\n",
      "Epoch: 3 \n",
      "Learning rate: 0.0028125\n",
      "Train loss: 1.1291 | Train precision: 0.4809 | Train recall: 0.4203 | Train f1score: 0.4194 | Train acc: 0.4584 | Train kappa: 0.4702 \n",
      "Val loss: 1.2751 | Val precision: 0.4129 | Val recall: 0.4372 | Val f1score: 0.3289 | Val acc: 0.4219 | Val kappa: 0.3145 \n",
      "\n",
      "Epoch: 4 \n",
      "Learning rate: 0.002109375\n",
      "Train loss: 1.0893 | Train precision: 0.4907 | Train recall: 0.4468 | Train f1score: 0.4487 | Train acc: 0.4730 | Train kappa: 0.5087 \n",
      "Val loss: 1.0908 | Val precision: 0.4625 | Val recall: 0.4940 | Val f1score: 0.4721 | Val acc: 0.4905 | Val kappa: 0.4956 \n",
      "\n",
      "Epoch: 5 \n",
      "Learning rate: 0.00158203125\n",
      "Train loss: 1.0768 | Train precision: 0.5016 | Train recall: 0.4585 | Train f1score: 0.4576 | Train acc: 0.4835 | Train kappa: 0.5215 \n",
      "Val loss: 1.1460 | Val precision: 0.3863 | Val recall: 0.4354 | Val f1score: 0.3705 | Val acc: 0.4740 | Val kappa: 0.4386 \n",
      "\n",
      "Epoch: 6 \n",
      "Learning rate: 0.0011865234375\n",
      "Train loss: 1.0636 | Train precision: 0.5314 | Train recall: 0.4703 | Train f1score: 0.4691 | Train acc: 0.4924 | Train kappa: 0.5319 \n",
      "Val loss: 1.0841 | Val precision: 0.4400 | Val recall: 0.4946 | Val f1score: 0.4532 | Val acc: 0.4931 | Val kappa: 0.5109 \n",
      "\n",
      "Epoch: 7 \n",
      "Learning rate: 0.000889892578125\n",
      "Train loss: 1.0513 | Train precision: 0.5103 | Train recall: 0.4808 | Train f1score: 0.4758 | Train acc: 0.4972 | Train kappa: 0.5414 \n",
      "Val loss: 1.1007 | Val precision: 0.4775 | Val recall: 0.4728 | Val f1score: 0.4537 | Val acc: 0.4878 | Val kappa: 0.4637 \n",
      "\n",
      "Epoch: 8 \n",
      "Learning rate: 0.00066741943359375\n",
      "Train loss: 1.0380 | Train precision: 0.5647 | Train recall: 0.4953 | Train f1score: 0.5010 | Train acc: 0.5066 | Train kappa: 0.5686 \n",
      "Val loss: 1.0396 | Val precision: 0.5283 | Val recall: 0.4433 | Val f1score: 0.4584 | Val acc: 0.5174 | Val kappa: 0.4903 \n",
      "\n",
      "Epoch: 9 \n",
      "Learning rate: 0.0005005645751953125\n",
      "Train loss: 1.0350 | Train precision: 0.5917 | Train recall: 0.5047 | Train f1score: 0.5208 | Train acc: 0.5111 | Train kappa: 0.5717 \n",
      "Val loss: 1.0339 | Val precision: 0.5474 | Val recall: 0.4719 | Val f1score: 0.4908 | Val acc: 0.5217 | Val kappa: 0.5341 \n",
      "\n",
      "Epoch: 10 \n",
      "Learning rate: 0.0003754234313964844\n",
      "Train loss: 1.0367 | Train precision: 0.5544 | Train recall: 0.4902 | Train f1score: 0.4959 | Train acc: 0.5053 | Train kappa: 0.5549 \n",
      "Val loss: 1.0272 | Val precision: 0.5318 | Val recall: 0.4479 | Val f1score: 0.4734 | Val acc: 0.5260 | Val kappa: 0.5223 \n",
      "\n",
      "Epoch: 11 \n",
      "Learning rate: 0.0002815675735473633\n",
      "Train loss: 1.0345 | Train precision: 0.5842 | Train recall: 0.4975 | Train f1score: 0.5114 | Train acc: 0.5094 | Train kappa: 0.5621 \n",
      "Val loss: 1.0247 | Val precision: 0.5613 | Val recall: 0.4745 | Val f1score: 0.4917 | Val acc: 0.5286 | Val kappa: 0.5326 \n",
      "\n",
      "Epoch: 12 \n",
      "Learning rate: 0.00021117568016052246\n",
      "Train loss: 1.0239 | Train precision: 0.5861 | Train recall: 0.5028 | Train f1score: 0.5132 | Train acc: 0.5171 | Train kappa: 0.5708 \n",
      "Val loss: 1.0200 | Val precision: 0.5387 | Val recall: 0.4535 | Val f1score: 0.4759 | Val acc: 0.5286 | Val kappa: 0.5294 \n",
      "\n",
      "Epoch: 13 \n",
      "Learning rate: 0.00015838176012039184\n",
      "Train loss: 1.0314 | Train precision: 0.5734 | Train recall: 0.4993 | Train f1score: 0.5103 | Train acc: 0.5108 | Train kappa: 0.5650 \n",
      "Val loss: 1.0283 | Val precision: 0.5409 | Val recall: 0.4453 | Val f1score: 0.4678 | Val acc: 0.5139 | Val kappa: 0.5295 \n",
      "\n",
      "Epoch: 14 \n",
      "Learning rate: 0.00011878632009029388\n",
      "Train loss: 1.0140 | Train precision: 0.5817 | Train recall: 0.5171 | Train f1score: 0.5307 | Train acc: 0.5200 | Train kappa: 0.5867 \n",
      "Val loss: 1.0274 | Val precision: 0.5265 | Val recall: 0.4734 | Val f1score: 0.4918 | Val acc: 0.5278 | Val kappa: 0.5486 \n",
      "\n",
      "Epoch: 15 \n",
      "Learning rate: 8.908974006772042e-05\n",
      "Train loss: 1.0060 | Train precision: 0.6042 | Train recall: 0.5176 | Train f1score: 0.5345 | Train acc: 0.5232 | Train kappa: 0.5844 \n",
      "Val loss: 1.0238 | Val precision: 0.5430 | Val recall: 0.4889 | Val f1score: 0.5027 | Val acc: 0.5304 | Val kappa: 0.5459 \n",
      "\n",
      "Epoch: 16 \n",
      "Learning rate: 6.681730505079031e-05\n",
      "Train loss: 1.0187 | Train precision: 0.5974 | Train recall: 0.5176 | Train f1score: 0.5351 | Train acc: 0.5186 | Train kappa: 0.5821 \n",
      "Val loss: 1.0170 | Val precision: 0.5663 | Val recall: 0.4788 | Val f1score: 0.4979 | Val acc: 0.5365 | Val kappa: 0.5400 \n",
      "\n",
      "Epoch: 17 \n",
      "Learning rate: 5.0112978788092735e-05\n",
      "Train loss: 1.0219 | Train precision: 0.5923 | Train recall: 0.5112 | Train f1score: 0.5305 | Train acc: 0.5196 | Train kappa: 0.5847 \n",
      "Val loss: 1.0237 | Val precision: 0.5461 | Val recall: 0.5053 | Val f1score: 0.5191 | Val acc: 0.5217 | Val kappa: 0.5507 \n",
      "\n",
      "Epoch: 18 \n",
      "Learning rate: 3.758473409106955e-05\n",
      "Train loss: 1.0148 | Train precision: 0.5790 | Train recall: 0.5089 | Train f1score: 0.5230 | Train acc: 0.5225 | Train kappa: 0.5780 \n",
      "Val loss: 1.0204 | Val precision: 0.5648 | Val recall: 0.4852 | Val f1score: 0.5048 | Val acc: 0.5356 | Val kappa: 0.5513 \n",
      "\n",
      "Epoch: 19 \n",
      "Learning rate: 2.8188550568302163e-05\n",
      "Train loss: 1.0046 | Train precision: 0.6055 | Train recall: 0.5222 | Train f1score: 0.5364 | Train acc: 0.5259 | Train kappa: 0.5907 \n",
      "Val loss: 1.0221 | Val precision: 0.5419 | Val recall: 0.4938 | Val f1score: 0.5075 | Val acc: 0.5252 | Val kappa: 0.5435 \n",
      "\n",
      "Epoch: 20 \n",
      "Learning rate: 2.114141292622662e-05\n",
      "Train loss: 1.0176 | Train precision: 0.5938 | Train recall: 0.5203 | Train f1score: 0.5312 | Train acc: 0.5132 | Train kappa: 0.5789 \n",
      "Val loss: 1.0226 | Val precision: 0.5453 | Val recall: 0.4825 | Val f1score: 0.5000 | Val acc: 0.5295 | Val kappa: 0.5458 \n",
      "\n",
      "Epoch: 21 \n",
      "Learning rate: 1.5856059694669965e-05\n",
      "Train loss: 1.0149 | Train precision: 0.5920 | Train recall: 0.5179 | Train f1score: 0.5341 | Train acc: 0.5219 | Train kappa: 0.5794 \n",
      "Val loss: 1.0218 | Val precision: 0.5355 | Val recall: 0.4819 | Val f1score: 0.4979 | Val acc: 0.5269 | Val kappa: 0.5446 \n",
      "\n",
      "Epoch: 22 \n",
      "Learning rate: 1.1892044771002475e-05\n",
      "Train loss: 1.0027 | Train precision: 0.6138 | Train recall: 0.5315 | Train f1score: 0.5515 | Train acc: 0.5265 | Train kappa: 0.6007 \n",
      "Val loss: 1.0241 | Val precision: 0.5458 | Val recall: 0.4964 | Val f1score: 0.5103 | Val acc: 0.5269 | Val kappa: 0.5476 \n",
      "\n",
      "Epoch: 23 \n",
      "Learning rate: 8.919033578251857e-06\n",
      "Train loss: 0.9961 | Train precision: 0.6171 | Train recall: 0.5399 | Train f1score: 0.5583 | Train acc: 0.5325 | Train kappa: 0.6152 \n",
      "Val loss: 1.0241 | Val precision: 0.5369 | Val recall: 0.4942 | Val f1score: 0.5063 | Val acc: 0.5234 | Val kappa: 0.5497 \n",
      "\n",
      "Epoch: 24 \n",
      "Learning rate: 6.689275183688892e-06\n",
      "Train loss: 1.0070 | Train precision: 0.5882 | Train recall: 0.5239 | Train f1score: 0.5349 | Train acc: 0.5252 | Train kappa: 0.5857 \n",
      "Val loss: 1.0235 | Val precision: 0.5445 | Val recall: 0.4946 | Val f1score: 0.5084 | Val acc: 0.5243 | Val kappa: 0.5436 \n",
      "\n",
      "Epoch: 25 \n",
      "Learning rate: 5.016956387766669e-06\n",
      "Train loss: 1.0119 | Train precision: 0.6074 | Train recall: 0.5205 | Train f1score: 0.5393 | Train acc: 0.5181 | Train kappa: 0.5889 \n",
      "Val loss: 1.0227 | Val precision: 0.5367 | Val recall: 0.4887 | Val f1score: 0.5013 | Val acc: 0.5243 | Val kappa: 0.5441 \n",
      "\n",
      "Epoch: 26 \n",
      "Learning rate: 3.762717290825002e-06\n",
      "Train loss: 1.0141 | Train precision: 0.6031 | Train recall: 0.5205 | Train f1score: 0.5418 | Train acc: 0.5194 | Train kappa: 0.5874 \n",
      "Val loss: 1.0225 | Val precision: 0.5463 | Val recall: 0.4923 | Val f1score: 0.5062 | Val acc: 0.5304 | Val kappa: 0.5478 \n",
      "\n",
      "Epoch: 27 \n",
      "Learning rate: 2.8220379681187514e-06\n",
      "Train loss: 0.9919 | Train precision: 0.6243 | Train recall: 0.5375 | Train f1score: 0.5561 | Train acc: 0.5292 | Train kappa: 0.6055 \n",
      "Val loss: 1.0233 | Val precision: 0.5450 | Val recall: 0.4952 | Val f1score: 0.5093 | Val acc: 0.5269 | Val kappa: 0.5451 \n",
      "\n",
      "Early stopping after epoch 27\n"
     ]
    },
    {
     "data": {
      "text/html": [
       "Waiting for W&B process to finish... <strong style=\"color:green\">(success).</strong>"
      ],
      "text/plain": [
       "<IPython.core.display.HTML object>"
      ]
     },
     "metadata": {},
     "output_type": "display_data"
    },
    {
     "data": {
      "application/vnd.jupyter.widget-view+json": {
       "model_id": "aa18678c896b4191b26a0c3f942deefa",
       "version_major": 2,
       "version_minor": 0
      },
      "text/plain": [
       "VBox(children=(Label(value='0.001 MB of 0.001 MB uploaded (0.000 MB deduped)\\r'), FloatProgress(value=1.0, max…"
      ]
     },
     "metadata": {},
     "output_type": "display_data"
    },
    {
     "data": {
      "text/html": [
       "<style>\n",
       "    table.wandb td:nth-child(1) { padding: 0 10px; text-align: left ; width: auto;} td:nth-child(2) {text-align: left ; width: 100%}\n",
       "    .wandb-row { display: flex; flex-direction: row; flex-wrap: wrap; justify-content: flex-start; width: 100% }\n",
       "    .wandb-col { display: flex; flex-direction: column; flex-basis: 100%; flex: 1; padding: 10px; }\n",
       "    </style>\n",
       "<div class=\"wandb-row\"><div class=\"wandb-col\"><h3>Run history:</h3><br/><table class=\"wandb\"><tr><td>learning_rate</td><td>█▆▅▄▃▃▂▂▂▂▁▁▁▁▁▁▁▁▁▁▁▁▁▁▁▁▁</td></tr><tr><td>train_f1_score</td><td>▁▃▄▅▅▆▆▇▇▆▇▇▇▇▇▇▇▇▇▇▇██▇███</td></tr><tr><td>train_loss</td><td>█▆▅▄▃▃▃▂▂▂▂▂▂▂▁▂▂▂▁▂▂▁▁▁▂▂▁</td></tr><tr><td>val_f1_score</td><td>▁▆▄▇▅▇▇▇▇▇▇▇▇▇█████████████</td></tr><tr><td>val_loss</td><td>█▅▅▂▃▂▂▁▁▁▁▁▁▁▁▁▁▁▁▁▁▁▁▁▁▁▁</td></tr></table><br/></div><div class=\"wandb-col\"><h3>Run summary:</h3><br/><table class=\"wandb\"><tr><td>learning_rate</td><td>0.0</td></tr><tr><td>train_f1_score</td><td>0.5561</td></tr><tr><td>train_loss</td><td>0.99193</td></tr><tr><td>val_f1_score</td><td>0.50928</td></tr><tr><td>val_loss</td><td>1.02329</td></tr></table><br/></div></div>"
      ],
      "text/plain": [
       "<IPython.core.display.HTML object>"
      ]
     },
     "metadata": {},
     "output_type": "display_data"
    },
    {
     "data": {
      "text/html": [
       " View run <strong style=\"color:#cdcd00\">fold_3_RGB-RE-NIR-NDVI_5classes</strong> at: <a href='https://wandb.ai/simon-ecke/wze-uav-5classes/runs/k8s5nepn' target=\"_blank\">https://wandb.ai/simon-ecke/wze-uav-5classes/runs/k8s5nepn</a><br/>Synced 5 W&B file(s), 0 media file(s), 0 artifact file(s) and 0 other file(s)"
      ],
      "text/plain": [
       "<IPython.core.display.HTML object>"
      ]
     },
     "metadata": {},
     "output_type": "display_data"
    },
    {
     "data": {
      "text/html": [
       "Find logs at: <code>.\\wandb\\run-20230430_231234-k8s5nepn\\logs</code>"
      ],
      "text/plain": [
       "<IPython.core.display.HTML object>"
      ]
     },
     "metadata": {},
     "output_type": "display_data"
    },
    {
     "name": "stdout",
     "output_type": "stream",
     "text": [
      "Deleting variables and emptying cache\n",
      "Memory allocated: 1053480448 bytes\n",
      "--------------------------------------------------\n",
      "\n",
      "Fold : 4\n",
      "TRAIN POSITIVE RATIO: 1.2837428206764518\n",
      "VAL POSITIVE RATIO  : 1.2781520692974013\n",
      "LENGTH TRAIN GROUPS : 4726\n",
      "LENGTH VAL GROUPS   : 1177\n"
     ]
    },
    {
     "data": {
      "text/html": [
       "wandb version 0.15.0 is available!  To upgrade, please run:\n",
       " $ pip install wandb --upgrade"
      ],
      "text/plain": [
       "<IPython.core.display.HTML object>"
      ]
     },
     "metadata": {},
     "output_type": "display_data"
    },
    {
     "data": {
      "text/html": [
       "Tracking run with wandb version 0.14.2"
      ],
      "text/plain": [
       "<IPython.core.display.HTML object>"
      ]
     },
     "metadata": {},
     "output_type": "display_data"
    },
    {
     "data": {
      "text/html": [
       "Run data is saved locally in <code>C:\\Users\\lwfeckesim\\01_PyTorch\\wze-uav\\wze-uav-master\\wandb\\run-20230501_014635-vx5rc7e5</code>"
      ],
      "text/plain": [
       "<IPython.core.display.HTML object>"
      ]
     },
     "metadata": {},
     "output_type": "display_data"
    },
    {
     "data": {
      "text/html": [
       "Syncing run <strong><a href='https://wandb.ai/simon-ecke/wze-uav-5classes/runs/vx5rc7e5' target=\"_blank\">fold_4_RGB-RE-NIR-NDVI_5classes</a></strong> to <a href='https://wandb.ai/simon-ecke/wze-uav-5classes' target=\"_blank\">Weights & Biases</a> (<a href='https://wandb.me/run' target=\"_blank\">docs</a>)<br/>"
      ],
      "text/plain": [
       "<IPython.core.display.HTML object>"
      ]
     },
     "metadata": {},
     "output_type": "display_data"
    },
    {
     "data": {
      "text/html": [
       " View project at <a href='https://wandb.ai/simon-ecke/wze-uav-5classes' target=\"_blank\">https://wandb.ai/simon-ecke/wze-uav-5classes</a>"
      ],
      "text/plain": [
       "<IPython.core.display.HTML object>"
      ]
     },
     "metadata": {},
     "output_type": "display_data"
    },
    {
     "data": {
      "text/html": [
       " View run at <a href='https://wandb.ai/simon-ecke/wze-uav-5classes/runs/vx5rc7e5' target=\"_blank\">https://wandb.ai/simon-ecke/wze-uav-5classes/runs/vx5rc7e5</a>"
      ],
      "text/plain": [
       "<IPython.core.display.HTML object>"
      ]
     },
     "metadata": {},
     "output_type": "display_data"
    },
    {
     "name": "stdout",
     "output_type": "stream",
     "text": [
      "There are no same hash_id values in train, val or test datasets. The datasplit was successful\n",
      "Check shapes:\n",
      "\n",
      "Images train dataset: (12536, 250, 250, 6)\n",
      "Labels train dataset: (12536, 1)\n",
      "\n",
      "Images validation dataset: (1177, 250, 250, 6)\n",
      "Labels validation dataset: (1177, 1)\n",
      "\n",
      "--------------------------------------------------\n",
      "Check if the split was stratified: (random_state=42)\n",
      "Healthy trees in train dataset: 2397\n",
      "Moderately stressed trees in train dataset: 4984\n",
      "Severely stressed trees in train dataset: 4569\n",
      "Dead trees in train dataset: 373\n",
      "Healthy trees in validation dataset: 204\n",
      "Moderately stressed trees in validation dataset: 477\n",
      "Severely stressed trees in validation dataset: 449\n",
      "Dead trees in validation dataset: 32\n",
      "Ratio health trees in validation dataset: 0.06861755802219979\n",
      "Ratio moderately stressed trees in validation dataset: 0.07651588065447545\n",
      "Ratio severely stressed trees in validation dataset: 0.08305763538220443\n",
      "Ratio dead trees in validation dataset: 0.9868131868131869\n",
      "--------------------------------------------------\n",
      "\n",
      "Creating datasets for fold: 4\n",
      "\n",
      "Creating dataloaders for fold: 4\n",
      "\n",
      "Loaded pretrained weights for efficientnet-b7\n",
      "\n",
      "[INFO] Fold number: 4\n",
      "[INFO] Number of epochs: 50\n",
      "[INFO] Number of classes: 5\n",
      "[INFO] Batch_size: 32\n",
      "[INFO] Number of bands: 6\n",
      "[INFO] Dropout rate: 0.5\n",
      "[INFO] Gamma learning rate: 0.75\n",
      "[INFO] Memory allocated: 0 bytes\n"
     ]
    },
    {
     "data": {
      "application/vnd.jupyter.widget-view+json": {
       "model_id": "11a3caba62b74c609ed164ca1c23fd46",
       "version_major": 2,
       "version_minor": 0
      },
      "text/plain": [
       "  0%|          | 0/50 [00:00<?, ?it/s]"
      ]
     },
     "metadata": {},
     "output_type": "display_data"
    },
    {
     "name": "stdout",
     "output_type": "stream",
     "text": [
      "Epoch: 1 \n",
      "Learning rate: 0.005\n",
      "Train loss: 1.2942 | Train precision: 0.3109 | Train recall: 0.2550 | Train f1score: 0.2606 | Train acc: 0.3825 | Train kappa: 0.1586 \n",
      "Val loss: 4.1436 | Val precision: 0.1411 | Val recall: 0.3152 | Val f1score: 0.1454 | Val acc: 0.3203 | Val kappa: -0.0095 \n",
      "\n",
      "Epoch: 2 \n",
      "Learning rate: 0.00375\n",
      "Train loss: 1.1789 | Train precision: 0.4086 | Train recall: 0.3653 | Train f1score: 0.3709 | Train acc: 0.4389 | Train kappa: 0.4098 \n",
      "Val loss: 1.1567 | Val precision: 0.3387 | Val recall: 0.4093 | Val f1score: 0.3416 | Val acc: 0.4818 | Val kappa: 0.3950 \n",
      "\n",
      "Epoch: 3 \n",
      "Learning rate: 0.0028125\n",
      "Train loss: 1.1426 | Train precision: 0.4519 | Train recall: 0.3984 | Train f1score: 0.4043 | Train acc: 0.4499 | Train kappa: 0.4404 \n",
      "Val loss: 1.0715 | Val precision: 0.3963 | Val recall: 0.4575 | Val f1score: 0.3799 | Val acc: 0.4939 | Val kappa: 0.4536 \n",
      "\n",
      "Epoch: 4 \n",
      "Learning rate: 0.002109375\n",
      "Train loss: 1.1229 | Train precision: 0.4905 | Train recall: 0.4188 | Train f1score: 0.4228 | Train acc: 0.4656 | Train kappa: 0.4742 \n",
      "Val loss: 1.1022 | Val precision: 0.4835 | Val recall: 0.4123 | Val f1score: 0.4231 | Val acc: 0.4627 | Val kappa: 0.4188 \n",
      "\n",
      "Epoch: 5 \n",
      "Learning rate: 0.00158203125\n",
      "Train loss: 1.0995 | Train precision: 0.5195 | Train recall: 0.4460 | Train f1score: 0.4494 | Train acc: 0.4770 | Train kappa: 0.5167 \n",
      "Val loss: 1.0734 | Val precision: 0.4787 | Val recall: 0.4643 | Val f1score: 0.4136 | Val acc: 0.4861 | Val kappa: 0.4131 \n",
      "\n",
      "Epoch: 6 \n",
      "Learning rate: 0.0011865234375\n",
      "Train loss: 1.0705 | Train precision: 0.5251 | Train recall: 0.4580 | Train f1score: 0.4638 | Train acc: 0.4929 | Train kappa: 0.5323 \n",
      "Val loss: 1.0747 | Val precision: 0.5851 | Val recall: 0.3502 | Val f1score: 0.3498 | Val acc: 0.4575 | Val kappa: 0.3405 \n",
      "\n",
      "Epoch: 7 \n",
      "Learning rate: 0.000889892578125\n",
      "Train loss: 1.0671 | Train precision: 0.5506 | Train recall: 0.4745 | Train f1score: 0.4767 | Train acc: 0.4998 | Train kappa: 0.5499 \n",
      "Val loss: 1.0532 | Val precision: 0.4698 | Val recall: 0.5070 | Val f1score: 0.4730 | Val acc: 0.5095 | Val kappa: 0.5108 \n",
      "\n",
      "Epoch: 8 \n",
      "Learning rate: 0.00066741943359375\n",
      "Train loss: 1.0694 | Train precision: 0.5377 | Train recall: 0.4719 | Train f1score: 0.4774 | Train acc: 0.4965 | Train kappa: 0.5323 \n",
      "Val loss: 1.0332 | Val precision: 0.4440 | Val recall: 0.4682 | Val f1score: 0.4532 | Val acc: 0.4983 | Val kappa: 0.5149 \n",
      "\n",
      "Epoch: 9 \n",
      "Learning rate: 0.0005005645751953125\n",
      "Train loss: 1.0573 | Train precision: 0.5583 | Train recall: 0.4845 | Train f1score: 0.4925 | Train acc: 0.5077 | Train kappa: 0.5552 \n",
      "Val loss: 1.0276 | Val precision: 0.4733 | Val recall: 0.4944 | Val f1score: 0.4773 | Val acc: 0.5035 | Val kappa: 0.5087 \n",
      "\n",
      "Epoch: 10 \n",
      "Learning rate: 0.0003754234313964844\n",
      "Train loss: 1.0524 | Train precision: 0.5727 | Train recall: 0.4879 | Train f1score: 0.5022 | Train acc: 0.5058 | Train kappa: 0.5549 \n",
      "Val loss: 1.0142 | Val precision: 0.4775 | Val recall: 0.4874 | Val f1score: 0.4740 | Val acc: 0.5078 | Val kappa: 0.5019 \n",
      "\n",
      "Epoch: 11 \n",
      "Learning rate: 0.0002815675735473633\n",
      "Train loss: 1.0523 | Train precision: 0.5707 | Train recall: 0.4888 | Train f1score: 0.4985 | Train acc: 0.5048 | Train kappa: 0.5710 \n",
      "Val loss: 1.0197 | Val precision: 0.5125 | Val recall: 0.5231 | Val f1score: 0.5147 | Val acc: 0.5095 | Val kappa: 0.5214 \n",
      "\n",
      "Epoch: 12 \n",
      "Learning rate: 0.00021117568016052246\n",
      "Train loss: 1.0534 | Train precision: 0.5650 | Train recall: 0.4912 | Train f1score: 0.5004 | Train acc: 0.5078 | Train kappa: 0.5604 \n",
      "Val loss: 1.0764 | Val precision: 0.5229 | Val recall: 0.5013 | Val f1score: 0.4774 | Val acc: 0.4679 | Val kappa: 0.4788 \n",
      "\n",
      "Epoch: 13 \n",
      "Learning rate: 0.00015838176012039184\n",
      "Train loss: 1.0267 | Train precision: 0.5799 | Train recall: 0.5004 | Train f1score: 0.5138 | Train acc: 0.5133 | Train kappa: 0.5788 \n",
      "Val loss: 1.0481 | Val precision: 0.4553 | Val recall: 0.4620 | Val f1score: 0.4505 | Val acc: 0.4809 | Val kappa: 0.4944 \n",
      "\n",
      "Epoch: 14 \n",
      "Learning rate: 0.00011878632009029388\n",
      "Train loss: 1.0329 | Train precision: 0.5842 | Train recall: 0.4991 | Train f1score: 0.5143 | Train acc: 0.5091 | Train kappa: 0.5765 \n",
      "Val loss: 1.0149 | Val precision: 0.5110 | Val recall: 0.5005 | Val f1score: 0.4908 | Val acc: 0.4991 | Val kappa: 0.4823 \n",
      "\n",
      "Epoch: 15 \n",
      "Learning rate: 8.908974006772042e-05\n",
      "Train loss: 1.0387 | Train precision: 0.5919 | Train recall: 0.5004 | Train f1score: 0.5154 | Train acc: 0.5093 | Train kappa: 0.5749 \n",
      "Val loss: 1.0047 | Val precision: 0.5443 | Val recall: 0.4992 | Val f1score: 0.4944 | Val acc: 0.5295 | Val kappa: 0.4992 \n",
      "\n",
      "Epoch: 16 \n",
      "Learning rate: 6.681730505079031e-05\n",
      "Train loss: 1.0274 | Train precision: 0.5920 | Train recall: 0.5086 | Train f1score: 0.5201 | Train acc: 0.5205 | Train kappa: 0.5769 \n",
      "Val loss: 1.0093 | Val precision: 0.5050 | Val recall: 0.4939 | Val f1score: 0.4858 | Val acc: 0.5104 | Val kappa: 0.5090 \n",
      "\n",
      "Epoch: 17 \n",
      "Learning rate: 5.0112978788092735e-05\n",
      "Train loss: 1.0347 | Train precision: 0.5899 | Train recall: 0.5048 | Train f1score: 0.5170 | Train acc: 0.5145 | Train kappa: 0.5759 \n",
      "Val loss: 1.0108 | Val precision: 0.5311 | Val recall: 0.5182 | Val f1score: 0.5153 | Val acc: 0.5174 | Val kappa: 0.5109 \n",
      "\n",
      "Epoch: 18 \n",
      "Learning rate: 3.758473409106955e-05\n",
      "Train loss: 1.0201 | Train precision: 0.6113 | Train recall: 0.5060 | Train f1score: 0.5269 | Train acc: 0.5172 | Train kappa: 0.5768 \n",
      "Val loss: 1.0122 | Val precision: 0.5274 | Val recall: 0.5011 | Val f1score: 0.4980 | Val acc: 0.5139 | Val kappa: 0.5201 \n",
      "\n",
      "Epoch: 19 \n",
      "Learning rate: 2.8188550568302163e-05\n",
      "Train loss: 1.0259 | Train precision: 0.6067 | Train recall: 0.5090 | Train f1score: 0.5234 | Train acc: 0.5147 | Train kappa: 0.5840 \n",
      "Val loss: 1.0031 | Val precision: 0.5265 | Val recall: 0.4963 | Val f1score: 0.4931 | Val acc: 0.5156 | Val kappa: 0.4967 \n",
      "\n",
      "Epoch: 20 \n",
      "Learning rate: 2.114141292622662e-05\n",
      "Train loss: 1.0385 | Train precision: 0.5738 | Train recall: 0.4980 | Train f1score: 0.5134 | Train acc: 0.5131 | Train kappa: 0.5841 \n",
      "Val loss: 1.0072 | Val precision: 0.5318 | Val recall: 0.5051 | Val f1score: 0.5030 | Val acc: 0.5156 | Val kappa: 0.5077 \n",
      "\n",
      "Epoch: 21 \n",
      "Learning rate: 1.5856059694669965e-05\n",
      "Train loss: 1.0222 | Train precision: 0.6029 | Train recall: 0.5110 | Train f1score: 0.5255 | Train acc: 0.5190 | Train kappa: 0.5840 \n",
      "Val loss: 1.0033 | Val precision: 0.5368 | Val recall: 0.5024 | Val f1score: 0.5009 | Val acc: 0.5148 | Val kappa: 0.4997 \n",
      "\n",
      "Epoch: 22 \n",
      "Learning rate: 1.1892044771002475e-05\n",
      "Train loss: 1.0338 | Train precision: 0.6015 | Train recall: 0.5033 | Train f1score: 0.5212 | Train acc: 0.5181 | Train kappa: 0.5669 \n",
      "Val loss: 1.0057 | Val precision: 0.5339 | Val recall: 0.5127 | Val f1score: 0.5101 | Val acc: 0.5217 | Val kappa: 0.5216 \n",
      "\n",
      "Epoch: 23 \n",
      "Learning rate: 8.919033578251857e-06\n",
      "Train loss: 1.0199 | Train precision: 0.6101 | Train recall: 0.5181 | Train f1score: 0.5351 | Train acc: 0.5277 | Train kappa: 0.5805 \n",
      "Val loss: 1.0020 | Val precision: 0.5336 | Val recall: 0.5022 | Val f1score: 0.4986 | Val acc: 0.5226 | Val kappa: 0.5099 \n",
      "\n",
      "Epoch: 24 \n",
      "Learning rate: 6.689275183688892e-06\n",
      "Train loss: 1.0278 | Train precision: 0.5976 | Train recall: 0.5057 | Train f1score: 0.5230 | Train acc: 0.5234 | Train kappa: 0.5843 \n",
      "Val loss: 1.0025 | Val precision: 0.5334 | Val recall: 0.5011 | Val f1score: 0.4981 | Val acc: 0.5182 | Val kappa: 0.5043 \n",
      "\n",
      "Epoch: 25 \n",
      "Learning rate: 5.016956387766669e-06\n",
      "Train loss: 1.0325 | Train precision: 0.5827 | Train recall: 0.5060 | Train f1score: 0.5195 | Train acc: 0.5210 | Train kappa: 0.5811 \n",
      "Val loss: 1.0021 | Val precision: 0.5462 | Val recall: 0.5073 | Val f1score: 0.5066 | Val acc: 0.5200 | Val kappa: 0.5088 \n",
      "\n",
      "Epoch: 26 \n",
      "Learning rate: 3.762717290825002e-06\n",
      "Train loss: 1.0162 | Train precision: 0.5991 | Train recall: 0.5152 | Train f1score: 0.5294 | Train acc: 0.5230 | Train kappa: 0.5933 \n",
      "Val loss: 1.0024 | Val precision: 0.5487 | Val recall: 0.5112 | Val f1score: 0.5105 | Val acc: 0.5243 | Val kappa: 0.5101 \n",
      "\n",
      "Epoch: 27 \n",
      "Learning rate: 2.8220379681187514e-06\n",
      "Train loss: 1.0313 | Train precision: 0.5875 | Train recall: 0.5017 | Train f1score: 0.5150 | Train acc: 0.5117 | Train kappa: 0.5746 \n",
      "Val loss: 1.0019 | Val precision: 0.5480 | Val recall: 0.5102 | Val f1score: 0.5098 | Val acc: 0.5226 | Val kappa: 0.5115 \n",
      "\n"
     ]
    },
    {
     "name": "stdout",
     "output_type": "stream",
     "text": [
      "Epoch: 28 \n",
      "Learning rate: 2.1165284760890633e-06\n",
      "Train loss: 1.0345 | Train precision: 0.6015 | Train recall: 0.5077 | Train f1score: 0.5176 | Train acc: 0.5101 | Train kappa: 0.5755 \n",
      "Val loss: 1.0009 | Val precision: 0.5336 | Val recall: 0.5016 | Val f1score: 0.4986 | Val acc: 0.5217 | Val kappa: 0.5126 \n",
      "\n",
      "Epoch: 29 \n",
      "Learning rate: 1.5873963570667977e-06\n",
      "Train loss: 1.0238 | Train precision: 0.6100 | Train recall: 0.5068 | Train f1score: 0.5244 | Train acc: 0.5201 | Train kappa: 0.5815 \n",
      "Val loss: 1.0024 | Val precision: 0.5360 | Val recall: 0.5054 | Val f1score: 0.5025 | Val acc: 0.5234 | Val kappa: 0.5128 \n",
      "\n",
      "Epoch: 30 \n",
      "Learning rate: 1.1905472678000981e-06\n",
      "Train loss: 1.0326 | Train precision: 0.5810 | Train recall: 0.5051 | Train f1score: 0.5129 | Train acc: 0.5120 | Train kappa: 0.5818 \n",
      "Val loss: 1.0025 | Val precision: 0.5377 | Val recall: 0.5073 | Val f1score: 0.5044 | Val acc: 0.5260 | Val kappa: 0.5175 \n",
      "\n",
      "Epoch: 31 \n",
      "Learning rate: 1e-06\n",
      "Train loss: 1.0251 | Train precision: 0.5980 | Train recall: 0.5062 | Train f1score: 0.5255 | Train acc: 0.5185 | Train kappa: 0.5782 \n",
      "Val loss: 1.0029 | Val precision: 0.5476 | Val recall: 0.5098 | Val f1score: 0.5094 | Val acc: 0.5217 | Val kappa: 0.5088 \n",
      "\n",
      "Epoch: 32 \n",
      "Learning rate: 1e-06\n",
      "Train loss: 1.0236 | Train precision: 0.5942 | Train recall: 0.5015 | Train f1score: 0.5216 | Train acc: 0.5148 | Train kappa: 0.5863 \n",
      "Val loss: 1.0018 | Val precision: 0.5376 | Val recall: 0.5073 | Val f1score: 0.5043 | Val acc: 0.5260 | Val kappa: 0.5178 \n",
      "\n",
      "Epoch: 33 \n",
      "Learning rate: 1e-06\n",
      "Train loss: 1.0255 | Train precision: 0.5858 | Train recall: 0.5072 | Train f1score: 0.5198 | Train acc: 0.5195 | Train kappa: 0.5829 \n",
      "Val loss: 1.0029 | Val precision: 0.5370 | Val recall: 0.5080 | Val f1score: 0.5048 | Val acc: 0.5252 | Val kappa: 0.5174 \n",
      "\n",
      "Epoch: 34 \n",
      "Learning rate: 1e-06\n",
      "Train loss: 1.0203 | Train precision: 0.5916 | Train recall: 0.5074 | Train f1score: 0.5234 | Train acc: 0.5138 | Train kappa: 0.5914 \n",
      "Val loss: 1.0023 | Val precision: 0.5358 | Val recall: 0.5111 | Val f1score: 0.5090 | Val acc: 0.5243 | Val kappa: 0.5114 \n",
      "\n",
      "Epoch: 35 \n",
      "Learning rate: 1e-06\n",
      "Train loss: 1.0256 | Train precision: 0.5817 | Train recall: 0.5059 | Train f1score: 0.5155 | Train acc: 0.5121 | Train kappa: 0.5768 \n",
      "Val loss: 1.0029 | Val precision: 0.5358 | Val recall: 0.5065 | Val f1score: 0.5034 | Val acc: 0.5234 | Val kappa: 0.5168 \n",
      "\n",
      "Epoch: 36 \n",
      "Learning rate: 1e-06\n",
      "Train loss: 1.0201 | Train precision: 0.5811 | Train recall: 0.5059 | Train f1score: 0.5185 | Train acc: 0.5174 | Train kappa: 0.5852 \n",
      "Val loss: 1.0020 | Val precision: 0.5375 | Val recall: 0.5073 | Val f1score: 0.5042 | Val acc: 0.5260 | Val kappa: 0.5144 \n",
      "\n",
      "Epoch: 37 \n",
      "Learning rate: 1e-06\n",
      "Train loss: 1.0204 | Train precision: 0.6062 | Train recall: 0.5136 | Train f1score: 0.5295 | Train acc: 0.5183 | Train kappa: 0.5820 \n",
      "Val loss: 1.0028 | Val precision: 0.5362 | Val recall: 0.5066 | Val f1score: 0.5034 | Val acc: 0.5234 | Val kappa: 0.5133 \n",
      "\n",
      "Epoch: 38 \n",
      "Learning rate: 1e-06\n",
      "Train loss: 1.0240 | Train precision: 0.5949 | Train recall: 0.5097 | Train f1score: 0.5247 | Train acc: 0.5179 | Train kappa: 0.5928 \n",
      "Val loss: 1.0026 | Val precision: 0.5415 | Val recall: 0.5108 | Val f1score: 0.5097 | Val acc: 0.5226 | Val kappa: 0.5107 \n",
      "\n",
      "Early stopping after epoch 38\n"
     ]
    },
    {
     "data": {
      "text/html": [
       "Waiting for W&B process to finish... <strong style=\"color:green\">(success).</strong>"
      ],
      "text/plain": [
       "<IPython.core.display.HTML object>"
      ]
     },
     "metadata": {},
     "output_type": "display_data"
    },
    {
     "data": {
      "application/vnd.jupyter.widget-view+json": {
       "model_id": "baa8b1646906444ba143607dacffaed0",
       "version_major": 2,
       "version_minor": 0
      },
      "text/plain": [
       "VBox(children=(Label(value='0.001 MB of 0.001 MB uploaded (0.000 MB deduped)\\r'), FloatProgress(value=1.0, max…"
      ]
     },
     "metadata": {},
     "output_type": "display_data"
    },
    {
     "data": {
      "text/html": [
       "<style>\n",
       "    table.wandb td:nth-child(1) { padding: 0 10px; text-align: left ; width: auto;} td:nth-child(2) {text-align: left ; width: 100%}\n",
       "    .wandb-row { display: flex; flex-direction: row; flex-wrap: wrap; justify-content: flex-start; width: 100% }\n",
       "    .wandb-col { display: flex; flex-direction: column; flex-basis: 100%; flex: 1; padding: 10px; }\n",
       "    </style>\n",
       "<div class=\"wandb-row\"><div class=\"wandb-col\"><h3>Run history:</h3><br/><table class=\"wandb\"><tr><td>learning_rate</td><td>█▆▅▄▃▃▂▂▂▂▁▁▁▁▁▁▁▁▁▁▁▁▁▁▁▁▁▁▁▁▁▁▁▁▁▁▁▁</td></tr><tr><td>train_f1_score</td><td>▁▄▅▅▆▆▇▇▇▇▇▇▇▇▇████▇██████▇██▇████████</td></tr><tr><td>train_loss</td><td>█▅▄▄▃▂▂▂▂▂▂▂▁▁▂▁▁▁▁▂▁▁▁▁▁▁▁▁▁▁▁▁▁▁▁▁▁▁</td></tr><tr><td>val_f1_score</td><td>▁▅▅▆▆▅▇▇▇▇█▇▇██▇██████████████████████</td></tr><tr><td>val_loss</td><td>█▁▁▁▁▁▁▁▁▁▁▁▁▁▁▁▁▁▁▁▁▁▁▁▁▁▁▁▁▁▁▁▁▁▁▁▁▁</td></tr></table><br/></div><div class=\"wandb-col\"><h3>Run summary:</h3><br/><table class=\"wandb\"><tr><td>learning_rate</td><td>0.0</td></tr><tr><td>train_f1_score</td><td>0.52468</td></tr><tr><td>train_loss</td><td>1.02395</td></tr><tr><td>val_f1_score</td><td>0.50969</td></tr><tr><td>val_loss</td><td>1.0026</td></tr></table><br/></div></div>"
      ],
      "text/plain": [
       "<IPython.core.display.HTML object>"
      ]
     },
     "metadata": {},
     "output_type": "display_data"
    },
    {
     "data": {
      "text/html": [
       " View run <strong style=\"color:#cdcd00\">fold_4_RGB-RE-NIR-NDVI_5classes</strong> at: <a href='https://wandb.ai/simon-ecke/wze-uav-5classes/runs/vx5rc7e5' target=\"_blank\">https://wandb.ai/simon-ecke/wze-uav-5classes/runs/vx5rc7e5</a><br/>Synced 5 W&B file(s), 0 media file(s), 0 artifact file(s) and 0 other file(s)"
      ],
      "text/plain": [
       "<IPython.core.display.HTML object>"
      ]
     },
     "metadata": {},
     "output_type": "display_data"
    },
    {
     "data": {
      "text/html": [
       "Find logs at: <code>.\\wandb\\run-20230501_014635-vx5rc7e5\\logs</code>"
      ],
      "text/plain": [
       "<IPython.core.display.HTML object>"
      ]
     },
     "metadata": {},
     "output_type": "display_data"
    },
    {
     "name": "stdout",
     "output_type": "stream",
     "text": [
      "Deleting variables and emptying cache\n",
      "Memory allocated: 1056071168 bytes\n",
      "--------------------------------------------------\n",
      "\n",
      "Fold : 5\n",
      "TRAIN POSITIVE RATIO: 1.2874780946311932\n",
      "VAL POSITIVE RATIO  : 1.2629880606647306\n",
      "LENGTH TRAIN GROUPS : 4724\n",
      "LENGTH VAL GROUPS   : 1179\n"
     ]
    },
    {
     "data": {
      "text/html": [
       "wandb version 0.15.0 is available!  To upgrade, please run:\n",
       " $ pip install wandb --upgrade"
      ],
      "text/plain": [
       "<IPython.core.display.HTML object>"
      ]
     },
     "metadata": {},
     "output_type": "display_data"
    },
    {
     "data": {
      "text/html": [
       "Tracking run with wandb version 0.14.2"
      ],
      "text/plain": [
       "<IPython.core.display.HTML object>"
      ]
     },
     "metadata": {},
     "output_type": "display_data"
    },
    {
     "data": {
      "text/html": [
       "Run data is saved locally in <code>C:\\Users\\lwfeckesim\\01_PyTorch\\wze-uav\\wze-uav-master\\wandb\\run-20230501_052212-3wfhlnq1</code>"
      ],
      "text/plain": [
       "<IPython.core.display.HTML object>"
      ]
     },
     "metadata": {},
     "output_type": "display_data"
    },
    {
     "data": {
      "text/html": [
       "Syncing run <strong><a href='https://wandb.ai/simon-ecke/wze-uav-5classes/runs/3wfhlnq1' target=\"_blank\">fold_5_RGB-RE-NIR-NDVI_5classes</a></strong> to <a href='https://wandb.ai/simon-ecke/wze-uav-5classes' target=\"_blank\">Weights & Biases</a> (<a href='https://wandb.me/run' target=\"_blank\">docs</a>)<br/>"
      ],
      "text/plain": [
       "<IPython.core.display.HTML object>"
      ]
     },
     "metadata": {},
     "output_type": "display_data"
    },
    {
     "data": {
      "text/html": [
       " View project at <a href='https://wandb.ai/simon-ecke/wze-uav-5classes' target=\"_blank\">https://wandb.ai/simon-ecke/wze-uav-5classes</a>"
      ],
      "text/plain": [
       "<IPython.core.display.HTML object>"
      ]
     },
     "metadata": {},
     "output_type": "display_data"
    },
    {
     "data": {
      "text/html": [
       " View run at <a href='https://wandb.ai/simon-ecke/wze-uav-5classes/runs/3wfhlnq1' target=\"_blank\">https://wandb.ai/simon-ecke/wze-uav-5classes/runs/3wfhlnq1</a>"
      ],
      "text/plain": [
       "<IPython.core.display.HTML object>"
      ]
     },
     "metadata": {},
     "output_type": "display_data"
    },
    {
     "name": "stdout",
     "output_type": "stream",
     "text": [
      "There are no same hash_id values in train, val or test datasets. The datasplit was successful\n",
      "Check shapes:\n",
      "\n",
      "Images train dataset: (12554, 250, 250, 6)\n",
      "Labels train dataset: (12554, 1)\n",
      "\n",
      "Images validation dataset: (1179, 250, 250, 6)\n",
      "Labels validation dataset: (1179, 1)\n",
      "\n",
      "--------------------------------------------------\n",
      "Check if the split was stratified: (random_state=42)\n",
      "Healthy trees in train dataset: 2367\n",
      "Moderately stressed trees in train dataset: 4966\n",
      "Severely stressed trees in train dataset: 4658\n",
      "Dead trees in train dataset: 371\n",
      "Healthy trees in validation dataset: 228\n",
      "Moderately stressed trees in validation dataset: 496\n",
      "Severely stressed trees in validation dataset: 404\n",
      "Dead trees in validation dataset: 29\n",
      "Ratio health trees in validation dataset: 0.07669021190716448\n",
      "Ratio moderately stressed trees in validation dataset: 0.0795636830285531\n",
      "Ratio severely stressed trees in validation dataset: 0.08636601079575135\n",
      "Ratio dead trees in validation dataset: 0.8879120879120879\n",
      "--------------------------------------------------\n",
      "\n",
      "Creating datasets for fold: 5\n",
      "\n",
      "Creating dataloaders for fold: 5\n",
      "\n",
      "Loaded pretrained weights for efficientnet-b7\n",
      "\n",
      "[INFO] Fold number: 5\n",
      "[INFO] Number of epochs: 50\n",
      "[INFO] Number of classes: 5\n",
      "[INFO] Batch_size: 32\n",
      "[INFO] Number of bands: 6\n",
      "[INFO] Dropout rate: 0.5\n",
      "[INFO] Gamma learning rate: 0.75\n",
      "[INFO] Memory allocated: 0 bytes\n"
     ]
    },
    {
     "data": {
      "application/vnd.jupyter.widget-view+json": {
       "model_id": "f96508c3429b451c88bab6d31be4d7aa",
       "version_major": 2,
       "version_minor": 0
      },
      "text/plain": [
       "  0%|          | 0/50 [00:00<?, ?it/s]"
      ]
     },
     "metadata": {},
     "output_type": "display_data"
    },
    {
     "name": "stdout",
     "output_type": "stream",
     "text": [
      "Epoch: 1 \n",
      "Learning rate: 0.005\n",
      "Train loss: 1.2720 | Train precision: 0.3504 | Train recall: 0.2850 | Train f1score: 0.2982 | Train acc: 0.3878 | Train kappa: 0.2007 \n",
      "Val loss: 6.6009 | Val precision: 0.0092 | Val recall: 0.1586 | Val f1score: 0.0158 | Val acc: 0.0148 | Val kappa: -0.0037 \n",
      "\n",
      "Epoch: 2 \n",
      "Learning rate: 0.00375\n",
      "Train loss: 1.1449 | Train precision: 0.4665 | Train recall: 0.4122 | Train f1score: 0.4163 | Train acc: 0.4559 | Train kappa: 0.4474 \n",
      "Val loss: 1.1637 | Val precision: 0.4950 | Val recall: 0.3468 | Val f1score: 0.3441 | Val acc: 0.4384 | Val kappa: 0.3750 \n",
      "\n",
      "Epoch: 3 \n",
      "Learning rate: 0.0028125\n",
      "Train loss: 1.1021 | Train precision: 0.4852 | Train recall: 0.4516 | Train f1score: 0.4496 | Train acc: 0.4765 | Train kappa: 0.5063 \n",
      "Val loss: 1.1363 | Val precision: 0.3813 | Val recall: 0.4162 | Val f1score: 0.3360 | Val acc: 0.4470 | Val kappa: 0.3148 \n",
      "\n",
      "Epoch: 4 \n",
      "Learning rate: 0.002109375\n",
      "Train loss: 1.1020 | Train precision: 0.5017 | Train recall: 0.4540 | Train f1score: 0.4589 | Train acc: 0.4770 | Train kappa: 0.5087 \n",
      "Val loss: 1.0872 | Val precision: 0.4452 | Val recall: 0.4419 | Val f1score: 0.4105 | Val acc: 0.4540 | Val kappa: 0.4547 \n",
      "\n",
      "Epoch: 5 \n",
      "Learning rate: 0.00158203125\n",
      "Train loss: 1.0650 | Train precision: 0.5389 | Train recall: 0.4783 | Train f1score: 0.4810 | Train acc: 0.4936 | Train kappa: 0.5398 \n",
      "Val loss: 1.0327 | Val precision: 0.4715 | Val recall: 0.4532 | Val f1score: 0.4584 | Val acc: 0.4939 | Val kappa: 0.5071 \n",
      "\n",
      "Epoch: 6 \n",
      "Learning rate: 0.0011865234375\n",
      "Train loss: 1.0502 | Train precision: 0.5476 | Train recall: 0.4885 | Train f1score: 0.4929 | Train acc: 0.5041 | Train kappa: 0.5637 \n",
      "Val loss: 1.0310 | Val precision: 0.4927 | Val recall: 0.4692 | Val f1score: 0.4716 | Val acc: 0.4896 | Val kappa: 0.5144 \n",
      "\n",
      "Epoch: 7 \n",
      "Learning rate: 0.000889892578125\n",
      "Train loss: 1.0487 | Train precision: 0.5648 | Train recall: 0.4939 | Train f1score: 0.5017 | Train acc: 0.5088 | Train kappa: 0.5583 \n",
      "Val loss: 1.0035 | Val precision: 0.5905 | Val recall: 0.4848 | Val f1score: 0.5100 | Val acc: 0.5139 | Val kappa: 0.5239 \n",
      "\n",
      "Epoch: 8 \n",
      "Learning rate: 0.00066741943359375\n",
      "Train loss: 1.0392 | Train precision: 0.5689 | Train recall: 0.4857 | Train f1score: 0.4997 | Train acc: 0.5037 | Train kappa: 0.5548 \n",
      "Val loss: 1.0636 | Val precision: 0.4576 | Val recall: 0.5178 | Val f1score: 0.4809 | Val acc: 0.4835 | Val kappa: 0.5055 \n",
      "\n",
      "Epoch: 9 \n",
      "Learning rate: 0.0005005645751953125\n",
      "Train loss: 1.0390 | Train precision: 0.5647 | Train recall: 0.4968 | Train f1score: 0.5056 | Train acc: 0.5081 | Train kappa: 0.5555 \n",
      "Val loss: 1.0072 | Val precision: 0.5351 | Val recall: 0.4920 | Val f1score: 0.5049 | Val acc: 0.5052 | Val kappa: 0.5350 \n",
      "\n",
      "Epoch: 10 \n",
      "Learning rate: 0.0003754234313964844\n",
      "Train loss: 1.0319 | Train precision: 0.5805 | Train recall: 0.5049 | Train f1score: 0.5200 | Train acc: 0.5158 | Train kappa: 0.5652 \n",
      "Val loss: 1.0122 | Val precision: 0.5233 | Val recall: 0.4955 | Val f1score: 0.4874 | Val acc: 0.5200 | Val kappa: 0.5091 \n",
      "\n",
      "Epoch: 11 \n",
      "Learning rate: 0.0002815675735473633\n",
      "Train loss: 1.0198 | Train precision: 0.5933 | Train recall: 0.5156 | Train f1score: 0.5319 | Train acc: 0.5172 | Train kappa: 0.5839 \n",
      "Val loss: 1.0024 | Val precision: 0.4910 | Val recall: 0.4659 | Val f1score: 0.4762 | Val acc: 0.5078 | Val kappa: 0.5289 \n",
      "\n",
      "Epoch: 12 \n",
      "Learning rate: 0.00021117568016052246\n",
      "Train loss: 1.0183 | Train precision: 0.5953 | Train recall: 0.5142 | Train f1score: 0.5287 | Train acc: 0.5209 | Train kappa: 0.5847 \n",
      "Val loss: 1.0219 | Val precision: 0.5246 | Val recall: 0.5147 | Val f1score: 0.5119 | Val acc: 0.5078 | Val kappa: 0.5333 \n",
      "\n",
      "Epoch: 13 \n",
      "Learning rate: 0.00015838176012039184\n",
      "Train loss: 1.0189 | Train precision: 0.5762 | Train recall: 0.5106 | Train f1score: 0.5209 | Train acc: 0.5171 | Train kappa: 0.5688 \n",
      "Val loss: 1.0101 | Val precision: 0.5427 | Val recall: 0.5139 | Val f1score: 0.5170 | Val acc: 0.5191 | Val kappa: 0.5280 \n",
      "\n",
      "Epoch: 14 \n",
      "Learning rate: 0.00011878632009029388\n",
      "Train loss: 1.0018 | Train precision: 0.5878 | Train recall: 0.5216 | Train f1score: 0.5329 | Train acc: 0.5265 | Train kappa: 0.5958 \n",
      "Val loss: 1.0241 | Val precision: 0.5286 | Val recall: 0.5107 | Val f1score: 0.5133 | Val acc: 0.4948 | Val kappa: 0.5450 \n",
      "\n",
      "Epoch: 15 \n",
      "Learning rate: 8.908974006772042e-05\n",
      "Train loss: 0.9987 | Train precision: 0.5999 | Train recall: 0.5312 | Train f1score: 0.5468 | Train acc: 0.5273 | Train kappa: 0.6120 \n",
      "Val loss: 1.0007 | Val precision: 0.5472 | Val recall: 0.4991 | Val f1score: 0.5173 | Val acc: 0.5217 | Val kappa: 0.5363 \n",
      "\n",
      "Epoch: 16 \n",
      "Learning rate: 6.681730505079031e-05\n",
      "Train loss: 1.0005 | Train precision: 0.6003 | Train recall: 0.5289 | Train f1score: 0.5486 | Train acc: 0.5316 | Train kappa: 0.6055 \n",
      "Val loss: 1.0105 | Val precision: 0.5464 | Val recall: 0.5130 | Val f1score: 0.5199 | Val acc: 0.5156 | Val kappa: 0.5293 \n",
      "\n",
      "Epoch: 17 \n",
      "Learning rate: 5.0112978788092735e-05\n",
      "Train loss: 1.0059 | Train precision: 0.5888 | Train recall: 0.5258 | Train f1score: 0.5393 | Train acc: 0.5259 | Train kappa: 0.5990 \n",
      "Val loss: 1.0049 | Val precision: 0.5342 | Val recall: 0.4940 | Val f1score: 0.5083 | Val acc: 0.5122 | Val kappa: 0.5367 \n",
      "\n",
      "Epoch: 18 \n",
      "Learning rate: 3.758473409106955e-05\n",
      "Train loss: 0.9982 | Train precision: 0.6015 | Train recall: 0.5310 | Train f1score: 0.5460 | Train acc: 0.5286 | Train kappa: 0.5999 \n",
      "Val loss: 1.0025 | Val precision: 0.5483 | Val recall: 0.5066 | Val f1score: 0.5215 | Val acc: 0.5165 | Val kappa: 0.5427 \n",
      "\n",
      "Epoch: 19 \n",
      "Learning rate: 2.8188550568302163e-05\n",
      "Train loss: 1.0078 | Train precision: 0.5935 | Train recall: 0.5267 | Train f1score: 0.5417 | Train acc: 0.5294 | Train kappa: 0.5985 \n",
      "Val loss: 1.0057 | Val precision: 0.5376 | Val recall: 0.4960 | Val f1score: 0.5110 | Val acc: 0.5156 | Val kappa: 0.5428 \n",
      "\n",
      "Epoch: 20 \n",
      "Learning rate: 2.114141292622662e-05\n",
      "Train loss: 1.0049 | Train precision: 0.5859 | Train recall: 0.5165 | Train f1score: 0.5314 | Train acc: 0.5281 | Train kappa: 0.5803 \n",
      "Val loss: 1.0073 | Val precision: 0.5382 | Val recall: 0.5013 | Val f1score: 0.5118 | Val acc: 0.5113 | Val kappa: 0.5301 \n",
      "\n",
      "Epoch: 21 \n",
      "Learning rate: 1.5856059694669965e-05\n",
      "Train loss: 1.0002 | Train precision: 0.6056 | Train recall: 0.5291 | Train f1score: 0.5470 | Train acc: 0.5275 | Train kappa: 0.6070 \n",
      "Val loss: 1.0049 | Val precision: 0.5409 | Val recall: 0.5026 | Val f1score: 0.5142 | Val acc: 0.5148 | Val kappa: 0.5367 \n",
      "\n",
      "Epoch: 22 \n",
      "Learning rate: 1.1892044771002475e-05\n",
      "Train loss: 0.9915 | Train precision: 0.6057 | Train recall: 0.5279 | Train f1score: 0.5464 | Train acc: 0.5316 | Train kappa: 0.5994 \n",
      "Val loss: 1.0058 | Val precision: 0.5374 | Val recall: 0.5000 | Val f1score: 0.5114 | Val acc: 0.5113 | Val kappa: 0.5347 \n",
      "\n",
      "Epoch: 23 \n",
      "Learning rate: 8.919033578251857e-06\n",
      "Train loss: 1.0036 | Train precision: 0.6084 | Train recall: 0.5306 | Train f1score: 0.5470 | Train acc: 0.5263 | Train kappa: 0.5937 \n",
      "Val loss: 1.0038 | Val precision: 0.5443 | Val recall: 0.4990 | Val f1score: 0.5124 | Val acc: 0.5139 | Val kappa: 0.5348 \n",
      "\n",
      "Epoch: 24 \n",
      "Learning rate: 6.689275183688892e-06\n",
      "Train loss: 0.9970 | Train precision: 0.5949 | Train recall: 0.5292 | Train f1score: 0.5432 | Train acc: 0.5305 | Train kappa: 0.5957 \n",
      "Val loss: 1.0043 | Val precision: 0.5418 | Val recall: 0.5001 | Val f1score: 0.5127 | Val acc: 0.5130 | Val kappa: 0.5348 \n",
      "\n",
      "Epoch: 25 \n",
      "Learning rate: 5.016956387766669e-06\n",
      "Train loss: 1.0034 | Train precision: 0.5956 | Train recall: 0.5203 | Train f1score: 0.5378 | Train acc: 0.5282 | Train kappa: 0.5942 \n",
      "Val loss: 1.0050 | Val precision: 0.5444 | Val recall: 0.5101 | Val f1score: 0.5180 | Val acc: 0.5122 | Val kappa: 0.5346 \n",
      "\n",
      "Epoch: 26 \n",
      "Learning rate: 3.762717290825002e-06\n",
      "Train loss: 1.0048 | Train precision: 0.6012 | Train recall: 0.5264 | Train f1score: 0.5407 | Train acc: 0.5286 | Train kappa: 0.5929 \n",
      "Val loss: 1.0055 | Val precision: 0.5425 | Val recall: 0.4982 | Val f1score: 0.5108 | Val acc: 0.5113 | Val kappa: 0.5353 \n",
      "\n",
      "Epoch: 27 \n",
      "Learning rate: 2.8220379681187514e-06\n",
      "Train loss: 0.9956 | Train precision: 0.6015 | Train recall: 0.5241 | Train f1score: 0.5407 | Train acc: 0.5294 | Train kappa: 0.5962 \n",
      "Val loss: 1.0042 | Val precision: 0.5422 | Val recall: 0.5007 | Val f1score: 0.5132 | Val acc: 0.5130 | Val kappa: 0.5356 \n",
      "\n"
     ]
    },
    {
     "name": "stdout",
     "output_type": "stream",
     "text": [
      "Epoch: 28 \n",
      "Learning rate: 2.1165284760890633e-06\n",
      "Train loss: 0.9889 | Train precision: 0.6199 | Train recall: 0.5345 | Train f1score: 0.5514 | Train acc: 0.5282 | Train kappa: 0.5937 \n",
      "Val loss: 1.0055 | Val precision: 0.5430 | Val recall: 0.5022 | Val f1score: 0.5144 | Val acc: 0.5148 | Val kappa: 0.5381 \n",
      "\n",
      "Early stopping after epoch 28\n"
     ]
    },
    {
     "data": {
      "text/html": [
       "Waiting for W&B process to finish... <strong style=\"color:green\">(success).</strong>"
      ],
      "text/plain": [
       "<IPython.core.display.HTML object>"
      ]
     },
     "metadata": {},
     "output_type": "display_data"
    },
    {
     "data": {
      "application/vnd.jupyter.widget-view+json": {
       "model_id": "38ded8b3b98b4d428a18e81ec69e97e6",
       "version_major": 2,
       "version_minor": 0
      },
      "text/plain": [
       "VBox(children=(Label(value='0.001 MB of 0.001 MB uploaded (0.000 MB deduped)\\r'), FloatProgress(value=1.0, max…"
      ]
     },
     "metadata": {},
     "output_type": "display_data"
    },
    {
     "data": {
      "text/html": [
       "<style>\n",
       "    table.wandb td:nth-child(1) { padding: 0 10px; text-align: left ; width: auto;} td:nth-child(2) {text-align: left ; width: 100%}\n",
       "    .wandb-row { display: flex; flex-direction: row; flex-wrap: wrap; justify-content: flex-start; width: 100% }\n",
       "    .wandb-col { display: flex; flex-direction: column; flex-basis: 100%; flex: 1; padding: 10px; }\n",
       "    </style>\n",
       "<div class=\"wandb-row\"><div class=\"wandb-col\"><h3>Run history:</h3><br/><table class=\"wandb\"><tr><td>learning_rate</td><td>█▆▅▄▃▃▂▂▂▂▁▁▁▁▁▁▁▁▁▁▁▁▁▁▁▁▁▁</td></tr><tr><td>train_f1_score</td><td>▁▄▅▅▆▆▇▇▇▇▇▇▇▇█████▇████████</td></tr><tr><td>train_loss</td><td>█▅▄▄▃▃▂▂▂▂▂▂▂▁▁▁▁▁▁▁▁▁▁▁▁▁▁▁</td></tr><tr><td>val_f1_score</td><td>▁▆▅▆▇▇█▇██▇█████████████████</td></tr><tr><td>val_loss</td><td>█▁▁▁▁▁▁▁▁▁▁▁▁▁▁▁▁▁▁▁▁▁▁▁▁▁▁▁</td></tr></table><br/></div><div class=\"wandb-col\"><h3>Run summary:</h3><br/><table class=\"wandb\"><tr><td>learning_rate</td><td>0.0</td></tr><tr><td>train_f1_score</td><td>0.55135</td></tr><tr><td>train_loss</td><td>0.98894</td></tr><tr><td>val_f1_score</td><td>0.51439</td></tr><tr><td>val_loss</td><td>1.00551</td></tr></table><br/></div></div>"
      ],
      "text/plain": [
       "<IPython.core.display.HTML object>"
      ]
     },
     "metadata": {},
     "output_type": "display_data"
    },
    {
     "data": {
      "text/html": [
       " View run <strong style=\"color:#cdcd00\">fold_5_RGB-RE-NIR-NDVI_5classes</strong> at: <a href='https://wandb.ai/simon-ecke/wze-uav-5classes/runs/3wfhlnq1' target=\"_blank\">https://wandb.ai/simon-ecke/wze-uav-5classes/runs/3wfhlnq1</a><br/>Synced 5 W&B file(s), 0 media file(s), 0 artifact file(s) and 0 other file(s)"
      ],
      "text/plain": [
       "<IPython.core.display.HTML object>"
      ]
     },
     "metadata": {},
     "output_type": "display_data"
    },
    {
     "data": {
      "text/html": [
       "Find logs at: <code>.\\wandb\\run-20230501_052212-3wfhlnq1\\logs</code>"
      ],
      "text/plain": [
       "<IPython.core.display.HTML object>"
      ]
     },
     "metadata": {},
     "output_type": "display_data"
    },
    {
     "name": "stdout",
     "output_type": "stream",
     "text": [
      "Deleting variables and emptying cache\n",
      "Memory allocated: 1053208064 bytes\n",
      "--------------------------------------------------\n",
      "\n",
      "CPU times: total: 6h 53min 16s\n",
      "Wall time: 14h 26min 58s\n"
     ]
    }
   ],
   "source": [
    "%%time\n",
    "\n",
    "# Set the random seeds\n",
    "set_seeds(42)\n",
    "\n",
    "# Define the number of folds\n",
    "num_folds = 5\n",
    "\n",
    "# group the hashIDs to get the unique values of hashIDs remaining in the subset  \n",
    "groups = sub_hash_id[:, 0] \n",
    "print(\"ORIGINAL POSITIVE RATIO:\", sub_label_set.mean())\n",
    "# create a StratifiedGroupKFold instance\n",
    "kf = StratifiedGroupKFold(n_splits=num_folds, shuffle=True, random_state=42)\n",
    "\n",
    "# loop through the folds\n",
    "for fold, (train_ids, val_ids) in enumerate(kf.split(sub_image_set, sub_label_set, groups)):\n",
    "    print(\"Fold :\", fold+1)\n",
    "    print(\"TRAIN POSITIVE RATIO:\", sub_label_set[train_ids].mean())\n",
    "    print(\"VAL POSITIVE RATIO  :\", sub_label_set[val_ids].mean())\n",
    "    print(\"LENGTH TRAIN GROUPS :\", len(set(groups[train_ids])))\n",
    "    print(\"LENGTH VAL GROUPS   :\", len(set(groups[val_ids])))\n",
    "    \n",
    "    train_ids = sub_hash_id[:, 0][train_ids]\n",
    "    val_ids = np.unique(sub_hash_id[:, 0][val_ids])\n",
    "\n",
    "    torch.cuda.empty_cache()\n",
    "    \n",
    "    # Initialize a new wandb run for this fold\n",
    "    wandb.init(project='wze-uav-5classes', name=f\"fold_{fold + 1}_{extra}\")\n",
    "    \n",
    "    # 1. Split data into train and validation set\n",
    "    # Get the training and testing data for this fold\n",
    "    # Use np.isin() to create boolean arrays indicating which indices belong to train or test sets\n",
    "    train_indices = np.isin(sub_hash_id[:,0], train_ids)\n",
    "    \n",
    "    val_indices = np.zeros_like(train_indices)  # initialize to all False\n",
    "    for hash_id_val in val_ids:\n",
    "        # select one image ID randomly from either 2020 or 2021 or 2022 for each unique hash ID in the test set\n",
    "        temp = np.unique(sub_hash_id[(sub_hash_id[:, 0] == hash_id_val), 1]) # check how many years are available per hashID\n",
    "        if len(temp) == 1:\n",
    "            year = temp[0]\n",
    "        elif len(temp) == 2:\n",
    "            year = np.random.choice(temp)\n",
    "        else:\n",
    "            year = np.random.choice(temp)\n",
    "        \n",
    "        # select image ID using the conditions\n",
    "        image_ids = sub_hash_id[(sub_hash_id[:,0] == hash_id_val) & (sub_hash_id[:,1] == year), 0]\n",
    "    \n",
    "        # mark the index corresponding to the selected image ID and hash ID as True in the test indices array\n",
    "        val_indices[(sub_hash_id[:,0] == hash_id_val) & (sub_hash_id[:,1] == year) & (np.isin(sub_hash_id[:,0], image_ids))] = True \n",
    "    \n",
    "    # Reshape boolean arrays to match shape of image_set and label_set\n",
    "    train_indices = train_indices.reshape(-1, 1)\n",
    "    val_indices = val_indices.reshape(-1, 1)\n",
    "    \n",
    "    # Select images and labels for train and validation sets\n",
    "    train_image_set = sub_image_set[train_indices[:, 0]]\n",
    "    train_label_set = sub_label_set[train_indices[:, 0]]\n",
    "    train_hash_id = sub_hash_id[train_indices[:, 0]][:,0]\n",
    "    train_species_set = sub_species_set[train_indices[:, 0]]\n",
    "    val_image_set = sub_image_set[val_indices[:, 0]]\n",
    "    val_label_set = sub_label_set[val_indices[:, 0]]\n",
    "    val_hash_id = sub_hash_id[val_indices[:, 0]][:,0]\n",
    "    val_species_set = sub_species_set[val_indices[:, 0]]\n",
    "    # reshape \n",
    "    train_label_set = train_label_set.reshape(-1, 1)\n",
    "    val_label_set = val_label_set.reshape(-1, 1)\n",
    "    train_species_set = train_species_set.reshape(-1, 1)\n",
    "    val_species_set = val_species_set.reshape(-1, 1)\n",
    "    \n",
    "    # check if there are any group overlaps between the data splits\n",
    "    hash_set = set(train_hash_id)\n",
    "    val_hash_set = set(val_hash_id)\n",
    "    test_hash_set = set(test_hash_id[:, 0].flatten())\n",
    "    intersection = hash_set.intersection(val_hash_set)\n",
    "    intersection2 = test_hash_set.intersection(val_hash_set)\n",
    "    intersection3 = hash_set.intersection(test_hash_set)\n",
    "    if intersection:\n",
    "        print(f\"Hash_id values in both train and val sets: {len(intersection)}\")\n",
    "        print(f\"Hash_id values in both test and val sets: {len(intersection2)}\")\n",
    "        print(f\"Hash_id values in both train and test sets: {len(intersection3)}\")\n",
    "    else:\n",
    "        print(\"There are no same hash_id values in train, val or test datasets. The datasplit was successful\")\n",
    "    \n",
    "         \n",
    "    print(\"Check shapes:\\n\")\n",
    "    print(f\"Images train dataset: {train_image_set.shape}\")\n",
    "    print(f\"Labels train dataset: {train_label_set.shape}\\n\")\n",
    "    \n",
    "    print(f\"Images validation dataset: {val_image_set.shape}\")\n",
    "    print(f\"Labels validation dataset: {val_label_set.shape}\\n\")\n",
    "    print('-'*50)\n",
    "    print (f\"Check if the split was stratified: (random_state=42)\")\n",
    "    print(f\"Healthy trees in train dataset: {np.count_nonzero(train_label_set == 0)}\")\n",
    "    print(f\"Moderately stressed trees in train dataset: {np.count_nonzero(train_label_set == 1)}\")\n",
    "    print(f\"Severely stressed trees in train dataset: {np.count_nonzero(train_label_set == 2)}\")\n",
    "    print(f\"Dead trees in train dataset: {np.count_nonzero(train_label_set == 3)}\")\n",
    "    print(f\"Healthy trees in validation dataset: {np.count_nonzero(val_label_set == 0)}\")\n",
    "    print(f\"Moderately stressed trees in validation dataset: {np.count_nonzero(val_label_set == 1)}\")\n",
    "    print(f\"Severely stressed trees in validation dataset: {np.count_nonzero(val_label_set == 2)}\")\n",
    "    print(f\"Dead trees in validation dataset: {np.count_nonzero(val_label_set == 3)}\")\n",
    "    print(f\"Ratio health trees in validation dataset: {np.count_nonzero(val_label_set == 0)/np.count_nonzero(sub_label_set == 0)}\")\n",
    "    print(f\"Ratio moderately stressed trees in validation dataset: {np.count_nonzero(val_label_set == 1)/np.count_nonzero(sub_label_set == 1)}\")\n",
    "    print(f\"Ratio severely stressed trees in validation dataset: {np.count_nonzero(val_label_set == 1)/np.count_nonzero(sub_label_set == 2)}\")\n",
    "    print(f\"Ratio dead trees in validation dataset: {np.count_nonzero(val_label_set == 2)/np.count_nonzero(sub_label_set == 3)}\")\n",
    "    print(\"-\"*50)\n",
    "   \n",
    "    # 2. Create train and validation dataset. (choose custom dataset loader with 3 - 5 classes)\n",
    "    print(f\"\\nCreating datasets for fold: {fold + 1}\\n\")\n",
    "    train_dataset = data_loader.CustomDataset(data=train_image_set, labels=train_label_set, class_names=class_names, species = train_species_set,\n",
    "                                                         transform=transform_train)\n",
    "    \n",
    "    val_dataset = data_loader.CustomDataset(data=val_image_set, labels=val_label_set, class_names=class_names,\n",
    "                                                       species = val_species_set, transform=transform)\n",
    "   \n",
    "    # 3. Create train and validation dataloader\n",
    "    # create sampler for oversampling of the minority classes\n",
    "    sampler = data_loader.data_sampler(dataset=train_dataset, class_names=class_names)\n",
    "    print(f\"Creating dataloaders for fold: {fold +1}\\n\")\n",
    "    train_dataloader = DataLoader(train_dataset, batch_size=batch_size, persistent_workers=True, pin_memory=True, num_workers=NUM_WORKERS, generator=g,\n",
    "                              sampler=sampler, shuffle=False, drop_last=True) # shuffle false because of the sampler\n",
    "\n",
    "    val_dataloader = DataLoader(val_dataset, batch_size=batch_size, persistent_workers=True, pin_memory=True, num_workers=NUM_WORKERS, shuffle=False,\n",
    "                             drop_last=True)\n",
    "    \n",
    "    model = model_effnet.EfficientNet.from_pretrained('efficientnet-b7', in_channels=n_bands, num_classes=num_classes, dropout_rate=dropout_rate)\n",
    "    #model = models.create_effnetb7(output_shape=num_classes, unfreeze=True, dropout_rate=dropout_rate, device=device)\n",
    "   \n",
    "    loss_fn = nn.CrossEntropyLoss()\n",
    "    optimizer = torch.optim.Adam(params=model.parameters(), lr=lr)\n",
    "    lr_scheduler = CustomExponentialLR(optimizer, gamma=gamma, min_lr=min_lr)\n",
    "\n",
    "    fold += 1\n",
    "    print(f\"\\n[INFO] Fold number: {fold}\")\n",
    "    print(f\"[INFO] Number of epochs: {epochs}\")\n",
    "    print(f\"[INFO] Number of classes: {num_classes}\")\n",
    "    print(f\"[INFO] Batch_size: {batch_size}\")\n",
    "    print(f\"[INFO] Number of bands: {n_bands}\")\n",
    "    print(f\"[INFO] Dropout rate: {dropout_rate}\")\n",
    "    print(f\"[INFO] Gamma learning rate: {gamma}\")\n",
    "    print(f\"[INFO] Memory allocated: {torch.cuda.memory_allocated()} bytes\")\n",
    "    # 4. Train model with k fold dataloaders and track experiments\n",
    "    \n",
    "    if fold == 1:\n",
    "        fold1_results = train(model=model, model_name=model_name, n_bands=n_bands, batch_size=batch_size,train_dataloader=train_dataloader, val_dataloader=val_dataloader, \n",
    "                        optimizer=optimizer, loss_fn=loss_fn, lr_scheduler=lr_scheduler, num_classes=num_classes, epochs=epochs, experiment_num=fold, device=device,\n",
    "                        writer=None, early_stop_patience = patience)\n",
    "       \n",
    "    elif fold == 2:\n",
    "        fold2_results = train(model=model, model_name=model_name, n_bands=n_bands, batch_size=batch_size,train_dataloader=train_dataloader, val_dataloader=val_dataloader, \n",
    "                        optimizer=optimizer, loss_fn=loss_fn, lr_scheduler=lr_scheduler, num_classes=num_classes, epochs=epochs, experiment_num=fold, device=device,\n",
    "                        writer=None, early_stop_patience = patience)\n",
    "    elif fold == 3:\n",
    "        fold3_results = train(model=model, model_name=model_name, n_bands=n_bands, batch_size=batch_size,train_dataloader=train_dataloader, val_dataloader=val_dataloader, \n",
    "                        optimizer=optimizer, loss_fn=loss_fn, lr_scheduler=lr_scheduler, num_classes=num_classes, epochs=epochs, experiment_num=fold, device=device,\n",
    "                        writer=None, early_stop_patience = patience)\n",
    "    elif fold == 4:\n",
    "        fold4_results = train(model=model, model_name=model_name, n_bands=n_bands, batch_size=batch_size,train_dataloader=train_dataloader, val_dataloader=val_dataloader, \n",
    "                        optimizer=optimizer, loss_fn=loss_fn, lr_scheduler=lr_scheduler, num_classes=num_classes, epochs=epochs, experiment_num=fold, device=device,\n",
    "                        writer=None, early_stop_patience = patience)\n",
    "    else:\n",
    "        fold5_results = train(model=model, model_name=model_name, n_bands=n_bands, batch_size=batch_size,train_dataloader=train_dataloader, val_dataloader=val_dataloader, \n",
    "                        optimizer=optimizer, loss_fn=loss_fn, lr_scheduler=lr_scheduler, num_classes=num_classes, epochs=epochs, experiment_num=fold, device=device,\n",
    "                        writer=None, early_stop_patience = patience)\n",
    "    \n",
    "    del train_indices, val_indices, train_image_set, train_label_set, train_hash_id, train_species_set, val_image_set, val_label_set, val_hash_id, val_species_set,\n",
    "    train_dataset, val_dataset, sampler, train_dataloader, val_dataloader, model, loss_fn, optimizer, lr_scheduler\n",
    "    \n",
    "    #finish the wandb run\n",
    "    wandb.finish()\n",
    "    print(\"Deleting variables and emptying cache\")\n",
    "    gc.collect()\n",
    "    torch.cuda.empty_cache()\n",
    "    print(f\"Memory allocated: {torch.cuda.memory_allocated()} bytes\")\n",
    "    print(\"-\"*50 + \"\\n\")"
   ]
  },
  {
   "cell_type": "markdown",
   "id": "d7402d31",
   "metadata": {},
   "source": [
    "#### Create test dataset and test dataloader "
   ]
  },
  {
   "cell_type": "code",
   "execution_count": null,
   "id": "c0c36ebb",
   "metadata": {},
   "outputs": [],
   "source": [
    "# create test dataset\n",
    "test_dataset = data_loader.CustomTestDataset(\n",
    "    data = test_image_set,\n",
    "    labels = test_label_set,\n",
    "    class_names=class_names, \n",
    "    species = test_species_set,\n",
    "    kkl = None,\n",
    "    transform=transform\n",
    ")\n",
    "\n"
   ]
  },
  {
   "cell_type": "code",
   "execution_count": null,
   "id": "5745d555",
   "metadata": {},
   "outputs": [],
   "source": [
    "# create test dataloader\n",
    "test_dataloader = DataLoader(test_dataset,\n",
    "                             batch_size=batch_size,\n",
    "                             persistent_workers=True,\n",
    "                             pin_memory=True,\n",
    "                             num_workers=NUM_WORKERS,\n",
    "                             shuffle=False,\n",
    "                             drop_last=True)"
   ]
  },
  {
   "cell_type": "markdown",
   "id": "22cdaac7",
   "metadata": {},
   "source": [
    "#### Perform ensembling of the five best models"
   ]
  },
  {
   "cell_type": "code",
   "execution_count": null,
   "id": "67db5af2",
   "metadata": {},
   "outputs": [],
   "source": [
    "# Setup the best model filepaths\n",
    "best_model1_path = r\"C:\\Users\\lwfeckesim\\01_PyTorch\\wze-uav\\wze-uav-master\\effnet_b0\\01_18_epochs.pth\"\n",
    "best_model2_path = r\"C:\\Users\\lwfeckesim\\01_PyTorch\\wze-uav\\wze-uav-master\\effnet_b0\\01_18_epochs.pth\"\n",
    "best_model3_path = r\"C:\\Users\\lwfeckesim\\01_PyTorch\\wze-uav\\wze-uav-master\\effnet_b0\\01_18_epochs.pth\"\n",
    "best_model4_path = r\"C:\\Users\\lwfeckesim\\01_PyTorch\\wze-uav\\wze-uav-master\\effnet_b0\\01_18_epochs.pth\"\n",
    "best_model5_path = r\"C:\\Users\\lwfeckesim\\01_PyTorch\\wze-uav\\wze-uav-master\\effnet_b0\\01_18_epochs.pth\"\n",
    "\n",
    "# Instantiate a new instance of EffNetB7 (to load the saved state_dict() to)\n",
    "model1 = models.create_effnetb7(output_shape=num_classes, unfreeze=unfreeze, dropout_rate=dropout_rate, device=device)\n",
    "model2 = models.create_effnetb7(output_shape=num_classes, unfreeze=unfreeze, dropout_rate=dropout_rate, device=device)\n",
    "model3 = models.create_effnetb7(output_shape=num_classes, unfreeze=unfreeze, dropout_rate=dropout_rate, device=device)\n",
    "model4 = models.create_effnetb7(output_shape=num_classes, unfreeze=unfreeze, dropout_rate=dropout_rate, device=device)\n",
    "model5 = models.create_effnetb7(output_shape=num_classes, unfreeze=unfreeze, dropout_rate=dropout_rate, device=device)\n",
    "# for custom models with more than three bands as input\n",
    "#model1 = model_effnet.EfficientNet.from_pretrained('efficientnet-b7', in_channels=n_bands, num_classes=num_classes, dropout_rate=dropout_rate)\n",
    "#model2 = model_effnet.EfficientNet.from_pretrained('efficientnet-b7', in_channels=n_bands, num_classes=num_classes, dropout_rate=dropout_rate)\n",
    "#model3 = model_effnet.EfficientNet.from_pretrained('efficientnet-b7', in_channels=n_bands, num_classes=num_classes, dropout_rate=dropout_rate)\n",
    "#model4 = model_effnet.EfficientNet.from_pretrained('efficientnet-b7', in_channels=n_bands, num_classes=num_classes, dropout_rate=dropout_rate)\n",
    "#model5 = model_effnet.EfficientNet.from_pretrained('efficientnet-b7', in_channels=n_bands, num_classes=num_classes, dropout_rate=dropout_rate)\n",
    "\n",
    "# Load the saved best model state_dict()\n",
    "model1.load_state_dict(torch.load(best_model1_path))\n",
    "model2.load_state_dict(torch.load(best_model2_path))\n",
    "model3.load_state_dict(torch.load(best_model3_path))\n",
    "model4.load_state_dict(torch.load(best_model4_path))\n",
    "model5.load_state_dict(torch.load(best_model5_path))\n",
    "\n",
    "model1.eval()\n",
    "model2.eval()\n",
    "model3.eval()\n",
    "model4.eval()\n",
    "model5.eval()\n",
    "\n",
    "# Initialize the lists to store the predictions\n",
    "all_preds_model1 = []\n",
    "all_preds_model2 = []\n",
    "all_preds_model3 = []\n",
    "all_preds_model4 = []\n",
    "all_preds_model5 = []\n",
    "\n",
    "# Loop through the test dataset and generate predictions for each model\n",
    "with torch.no_grad():\n",
    "    for batch in test_dataloader:\n",
    "        inputs, labels = batch\n",
    "        inputs, labels = inputs.to(device), labels.to(device)\n",
    "        \n",
    "        # Generate predictions for each model\n",
    "        preds_model1 = model1(inputs)\n",
    "        preds_model2 = model2(inputs)\n",
    "        preds_model3 = model3(inputs)\n",
    "        preds_model4 = model4(inputs)\n",
    "        preds_model5 = model5(inputs)\n",
    "\n",
    "        # Append the predictions to the corresponding list\n",
    "        all_preds_model1.append(preds_model1.cpu().numpy())\n",
    "        all_preds_model2.append(preds_model2.cpu().numpy())\n",
    "        all_preds_model3.append(preds_model3.cpu().numpy())\n",
    "        all_preds_model4.append(preds_model4.cpu().numpy())\n",
    "        all_preds_model5.append(preds_model5.cpu().numpy())\n",
    "\n",
    "# Concatenate the predictions from all the models\n",
    "all_preds_model1 = np.concatenate(all_preds_model1)\n",
    "all_preds_model2 = np.concatenate(all_preds_model2)\n",
    "all_preds_model3 = np.concatenate(all_preds_model3)\n",
    "all_preds_model4 = np.concatenate(all_preds_model4)\n",
    "all_preds_model5 = np.concatenate(all_preds_model5)\n",
    "\n",
    "# Calculate the ensemble predictions\n",
    "ensemble_preds = np.mean([all_preds_model1, all_preds_model2, all_preds_model3, all_preds_model4, all_preds_model5], axis=0)\n",
    "ensemble_labels = np.argmax(ensemble_preds, axis=1)\n",
    "\n",
    "# Calculate the evaluation metrics for the ensemble model\n",
    "from sklearn.metrics import classification_report, confusion_matrix\n",
    "\n",
    "print(classification_report(test_labels, ensemble_labels))\n",
    "print(confusion_matrix(test_labels, ensemble_labels))\n",
    "\n",
    "\n",
    "\n",
    "\n"
   ]
  },
  {
   "cell_type": "code",
   "execution_count": null,
   "id": "6dfbc663",
   "metadata": {},
   "outputs": [],
   "source": [
    "def make_predictions(model: torch.nn.Module, \n",
    "                     test_dataloader: torch.utils.data.DataLoader,\n",
    "                     device: torch.device):\n",
    "    # 1. Make predictions with trained model\n",
    "    y_preds = []\n",
    "    y_labels = []\n",
    "    species_list = []\n",
    "    test_loss, test_precision, test_recall, test_f1_score, test_acc = 0, 0, 0, 0, 0\n",
    "    count = 0\n",
    "    model.eval()\n",
    "    with torch.inference_mode():\n",
    "        for X, y, species in tqdm(test_dataloader, desc=\"Making predictions\"):\n",
    "            # Send data and targets to target device\n",
    "            X, y = X.to(device), y.to(device)\n",
    "            # Do the forward pass\n",
    "            y_logit = model(X)\n",
    "            # Turn predictions from logits -> prediction probabilities -> predictions labels\n",
    "            y_pred = torch.softmax(y_logit, dim=1).argmax(dim=1)\n",
    "            # Put predictions on CPU for evaluation\n",
    "            y_preds.append(y_pred.cpu())\n",
    "            y_labels.append(y.cpu())\n",
    "            species_list.append(species)\n",
    "            \n",
    "            #other metrics\n",
    "            test_acc += ((y_pred == y).sum().item()/len(y_pred))\n",
    "            y_pred_class = y_pred.detach().cpu().numpy() \n",
    "            y_class = y.detach().cpu().numpy()\n",
    "            labels = np.array([0])\n",
    "            test_precision += precision_score(y_class, y_pred_class, average='macro', zero_division=0, labels=[0,1,2])\n",
    "            test_recall += recall_score(y_class, y_pred_class, average='macro', zero_division=0, labels=[0,1,2])\n",
    "            #test_f1_score += f1_score(y_class, y_pred_class, average='macro', zero_division=1, labels=labels)\n",
    "            \n",
    "            #if count >= 1:\n",
    "            #    y_set = torch.cat((y_set, y))\n",
    "            #    count = count + 1\n",
    "            #else:\n",
    "            #    y_set = y\n",
    "            #    count = count + 1\n",
    "            \n",
    "    test_loss = test_loss / len(test_dataloader)\n",
    "    test_precision = test_precision / len(test_dataloader)\n",
    "    test_recall = test_recall / len(test_dataloader)\n",
    "    test_f1_score = test_f1_score / len(test_dataloader)\n",
    "    #test_kappa = test_kappa / len(dataloader)\n",
    "    test_acc = test_acc / len(test_dataloader)\n",
    "    # Concatenate list of predictions into a tensor\n",
    "    y_pred_tensor = torch.cat(y_preds)\n",
    "    y_labels_tensor = torch.cat(y_labels)\n",
    "    test_f1_score = f1_score(y_labels_tensor.detach().cpu().numpy(), y_pred_tensor.cpu().numpy(), average='macro', zero_division=1, labels=[0,1,2])\n",
    "    \n",
    "    # Print classification report\n",
    "    y_true = y_labels_tensor.detach().cpu().numpy()\n",
    "    report = classification_report(y_true, y_pred_tensor.cpu().numpy(), target_names=class_names)\n",
    "    print(report)\n",
    "    \n",
    "    return y_pred_tensor, y_labels_tensor, test_loss, test_recall, test_precision, test_f1_score, test_acc, y_logit, y_pred, y, y_preds"
   ]
  },
  {
   "cell_type": "code",
   "execution_count": null,
   "id": "aab9e321",
   "metadata": {},
   "outputs": [],
   "source": [
    "# 2. Setup confusion matrix instance and compare predictions to targets\n",
    "#from wze_uav.analysis import *\n",
    "y_pred_tensor, y_labels_tensor, test_loss, test_recall, test_precision, test_f1_score, test_acc, y_logit, y_pred, y, y_preds = make_predictions(model=best_model,\n",
    "                                 test_dataloader=test_dataloader, \n",
    "                                 device=device)\n",
    "\n",
    "y_labels_tensor = y_labels_tensor.detach().cpu().numpy()\n",
    "y_pred_tensor = y_pred_tensor.detach().cpu().numpy()\n",
    "\n",
    "#confmat = ConfusionMatrix(num_classes=num_classes, task='multiclass')\n",
    "#confmat_tensor = confmat(preds=y_pred_tensor,\n",
    "#                         target=test_labels)\n",
    "labels = np.array([0,1,2])\n",
    "confmat = confusion_matrix(y_labels_tensor, y_pred_tensor, labels=labels)\n",
    "\n",
    "# 3. Plot the confusion matrix\n",
    "fig, ax = plot_confusion_matrix(\n",
    "    conf_mat=confmat, # matplotlib likes working with NumPy \n",
    "    class_names=class_names, # turn the row and column labels into class names\n",
    "    figsize=(10, 7)\n",
    ");\n",
    "\n",
    "print(f\"Test loss: {test_loss}\")\n",
    "print(f\"Test precision: {test_precision}\")\n",
    "print(f\"Test recall: {test_recall}\")\n",
    "print(f\"Test F1score: {test_f1_score}\")\n",
    "#print(f\"Test Kappa: {test_kappa}\")\n",
    "print(f\"Test Accuracy: {test_acc}\")\n",
    "print(f\"Test Logits: {y_logit}\")\n",
    "print(f\"Test Predictions: {y_pred}\")\n",
    "print(f\"Test Labels: {y}\")"
   ]
  },
  {
   "cell_type": "code",
   "execution_count": null,
   "id": "8d4173b3",
   "metadata": {},
   "outputs": [],
   "source": [
    "len(y_preds)"
   ]
  },
  {
   "cell_type": "code",
   "execution_count": null,
   "id": "7588116f",
   "metadata": {},
   "outputs": [],
   "source": [
    "y_set.cpu()"
   ]
  },
  {
   "cell_type": "code",
   "execution_count": null,
   "id": "1c195b3e",
   "metadata": {},
   "outputs": [],
   "source": [
    "test_dataset.labels"
   ]
  },
  {
   "cell_type": "code",
   "execution_count": null,
   "id": "975ec08c",
   "metadata": {},
   "outputs": [],
   "source": []
  },
  {
   "cell_type": "code",
   "execution_count": null,
   "id": "6da05604",
   "metadata": {},
   "outputs": [],
   "source": [
    "y_preds = []\n",
    "y_labels = []\n",
    "labels = np.array([0,1,2])\n",
    "test_loss, test_precision, test_recall, test_f1_score, test_acc = 0, 0, 0, 0, 0\n",
    "count = 0\n",
    "model.eval()\n",
    "with torch.inference_mode():\n",
    "    for X, y in tqdm(test_dataloader, desc=\"Making predictions\"):\n",
    "        # Send data and targets to target device\n",
    "        X, y = X.to(device), y.to(device)\n",
    "        # Do the forward pass\n",
    "        y_logit = model(X)\n",
    "        # Turn predictions from logits -> prediction probabilities -> predictions labels\n",
    "        y_pred = torch.softmax(y_logit, dim=1).argmax(dim=1)\n",
    "        # Put predictions on CPU for evaluation\n",
    "        y_preds.append(y_pred.cpu())\n",
    "        y_labels.append(y.cpu())\n",
    "        \n",
    "        #other metrics\n",
    "        test_acc += ((y_pred == y).sum().item()/len(y_pred))\n",
    "        y_pred_class = y_pred.detach().cpu().numpy() \n",
    "        y_class = y.detach().cpu().numpy()\n",
    "        test_precision += precision_score(y_class, y_pred_class, average='macro', zero_division=1, labels=labels)\n",
    "        test_recall += recall_score(y_class, y_pred_class, average='macro', zero_division=1, labels=labels)\n",
    "        #test_f1_score += f1_score(y_class, y_pred_class, average='macro', zero_division=1, labels=labels)\n",
    "        \n",
    "        #if count >= 1:\n",
    "        #    y_set = torch.cat((y_set, y))\n",
    "        #    count = count + 1\n",
    "        #else:\n",
    "        #    y_set = y\n",
    "        #    count = count + 1\n",
    "        \n",
    "test_loss = test_loss / len(test_dataloader)\n",
    "test_precision = test_precision / len(test_dataloader)\n",
    "test_recall = test_recall / len(test_dataloader)\n",
    "#test_f1_score = test_f1_score / len(test_dataloader)\n",
    "#test_kappa = test_kappa / len(dataloader)\n",
    "test_acc = test_acc / len(test_dataloader)\n",
    "# Concatenate list of predictions into a tensor\n",
    "y_pred_tensor = torch.cat(y_preds)\n",
    "test_f1_score = f1_score(y_set.detach().cpu().numpy(), y_pred_tensor.cpu().numpy(), average='macro', zero_division=0, labels=[0,1,2])\n",
    "\n",
    "# Print classification report\n",
    "y_true = y_set.detach().cpu().numpy()\n",
    "report = classification_report(y_true, y_pred_tensor.cpu().numpy(), target_names=class_names)\n",
    "print(report)"
   ]
  },
  {
   "cell_type": "code",
   "execution_count": null,
   "id": "6ae97fab",
   "metadata": {},
   "outputs": [],
   "source": [
    "test_f1_score"
   ]
  },
  {
   "cell_type": "code",
   "execution_count": null,
   "id": "7ebafd9b",
   "metadata": {},
   "outputs": [],
   "source": [
    "make = (y_class == y_pred_class)\n",
    "make"
   ]
  },
  {
   "cell_type": "code",
   "execution_count": null,
   "id": "4f8aa759",
   "metadata": {},
   "outputs": [],
   "source": [
    "torch.softmax(y_logit, dim=1).argmax(dim=1)"
   ]
  },
  {
   "cell_type": "code",
   "execution_count": null,
   "id": "f90a54b2",
   "metadata": {},
   "outputs": [],
   "source": [
    "y"
   ]
  },
  {
   "cell_type": "code",
   "execution_count": null,
   "id": "5a806154",
   "metadata": {},
   "outputs": [],
   "source": [
    "test = (y_pred == y).sum().item()/16"
   ]
  },
  {
   "cell_type": "code",
   "execution_count": null,
   "id": "1da35c56",
   "metadata": {},
   "outputs": [],
   "source": [
    "test"
   ]
  },
  {
   "cell_type": "code",
   "execution_count": null,
   "id": "b1eb246e",
   "metadata": {},
   "outputs": [],
   "source": [
    " y_pred_class = y_pred.detach().cpu().numpy() "
   ]
  },
  {
   "cell_type": "code",
   "execution_count": null,
   "id": "602e096f",
   "metadata": {},
   "outputs": [],
   "source": [
    "y_pred_class"
   ]
  },
  {
   "cell_type": "code",
   "execution_count": null,
   "id": "eaf1af09",
   "metadata": {},
   "outputs": [],
   "source": []
  }
 ],
 "metadata": {
  "kernelspec": {
   "display_name": "Python 3 (ipykernel)",
   "language": "python",
   "name": "python3"
  },
  "language_info": {
   "codemirror_mode": {
    "name": "ipython",
    "version": 3
   },
   "file_extension": ".py",
   "mimetype": "text/x-python",
   "name": "python",
   "nbconvert_exporter": "python",
   "pygments_lexer": "ipython3",
   "version": "3.9.16"
  }
 },
 "nbformat": 4,
 "nbformat_minor": 5
}
