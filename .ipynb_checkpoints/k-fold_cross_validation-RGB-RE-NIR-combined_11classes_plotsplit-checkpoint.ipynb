{
 "cells": [
  {
   "cell_type": "markdown",
   "id": "c1acdaa3",
   "metadata": {},
   "source": [
    "# WZE-UAV Image Classification using Deep Learning"
   ]
  },
  {
   "cell_type": "code",
   "execution_count": 1,
   "id": "2159aac5",
   "metadata": {},
   "outputs": [],
   "source": [
    "import os\n",
    "import gc\n",
    "import glob\n",
    "import numpy as np\n",
    "from pathlib import Path\n",
    "from tqdm.auto import tqdm\n",
    "from sklearn.metrics import confusion_matrix, classification_report\n",
    "from sklearn.model_selection import KFold"
   ]
  },
  {
   "cell_type": "code",
   "execution_count": 2,
   "id": "0026f7a9",
   "metadata": {},
   "outputs": [],
   "source": [
    "import torch\n",
    "import torchvision.transforms as T\n",
    "import torchvision\n",
    "from torch import nn\n",
    "from torch.utils.data import DataLoader\n",
    "from torchvision import datasets, transforms\n",
    "from torch.utils.data import Dataset\n",
    "import torch.optim as optim\n",
    "from torch.optim.lr_scheduler import ExponentialLR\n",
    "from mlxtend.plotting import plot_confusion_matrix"
   ]
  },
  {
   "cell_type": "code",
   "execution_count": 3,
   "id": "b160d7b4",
   "metadata": {},
   "outputs": [],
   "source": [
    "import wze_uav.data_loader as data_loader\n",
    "import wze_uav.models as models\n",
    "from wze_uav.engine import *\n",
    "from wze_uav.utils2 import *\n",
    "#from wze_uav.log_writer import create_writer\n",
    "from wze_uav.datasplit import *\n",
    "from efficientnet import model_effnet #for custom effnet with n_channels input\n",
    "import wandb"
   ]
  },
  {
   "cell_type": "markdown",
   "id": "2bd4fb2f",
   "metadata": {},
   "source": [
    "#### Get PyTorch version"
   ]
  },
  {
   "cell_type": "code",
   "execution_count": 4,
   "id": "c10886b1",
   "metadata": {},
   "outputs": [
    {
     "name": "stdout",
     "output_type": "stream",
     "text": [
      "torch version: 1.13.1+cu116\n",
      "torchvision version: 0.14.1+cu116\n"
     ]
    }
   ],
   "source": [
    "print(f\"torch version: {torch.__version__}\")\n",
    "print(f\"torchvision version: {torchvision.__version__}\")"
   ]
  },
  {
   "cell_type": "markdown",
   "id": "aa6a83cf",
   "metadata": {},
   "source": [
    "#### Preparing device agnostic code "
   ]
  },
  {
   "cell_type": "code",
   "execution_count": 5,
   "id": "13d5de88",
   "metadata": {},
   "outputs": [
    {
     "name": "stdout",
     "output_type": "stream",
     "text": [
      "cuda\n",
      "Index of current divice: 0\n",
      "Number of GPUs available: 1\n",
      "GPU Model: Quadro RTX 8000\n"
     ]
    }
   ],
   "source": [
    "# ensure device agnostic code\n",
    "device = 'cuda' if torch.cuda.is_available() else 'cpu'\n",
    "print(device)\n",
    "\n",
    "# get index of currently selected device\n",
    "print(f\"Index of current divice: {torch.cuda.current_device()}\")\n",
    "# get number of GPUs available\n",
    "print(f\"Number of GPUs available: {torch.cuda.device_count()}\")\n",
    "# get the name of the device\n",
    "print(f\"GPU Model: {torch.cuda.get_device_name(0)}\")"
   ]
  },
  {
   "cell_type": "markdown",
   "id": "8ef6b169",
   "metadata": {},
   "source": [
    "#### Login to Weights & Biases to track results"
   ]
  },
  {
   "cell_type": "code",
   "execution_count": 6,
   "id": "a59d27cf",
   "metadata": {},
   "outputs": [
    {
     "name": "stderr",
     "output_type": "stream",
     "text": [
      "Failed to detect the name of this notebook, you can set it manually with the WANDB_NOTEBOOK_NAME environment variable to enable code saving.\n",
      "\u001b[34m\u001b[1mwandb\u001b[0m: Currently logged in as: \u001b[33msimon-ecke\u001b[0m. Use \u001b[1m`wandb login --relogin`\u001b[0m to force relogin\n"
     ]
    },
    {
     "data": {
      "text/html": [
       "wandb version 0.15.3 is available!  To upgrade, please run:\n",
       " $ pip install wandb --upgrade"
      ],
      "text/plain": [
       "<IPython.core.display.HTML object>"
      ]
     },
     "metadata": {},
     "output_type": "display_data"
    },
    {
     "data": {
      "text/html": [
       "Tracking run with wandb version 0.14.2"
      ],
      "text/plain": [
       "<IPython.core.display.HTML object>"
      ]
     },
     "metadata": {},
     "output_type": "display_data"
    },
    {
     "data": {
      "text/html": [
       "Run data is saved locally in <code>C:\\Users\\lwfeckesim\\01_PyTorch\\wze-uav\\wze-uav-master\\wandb\\run-20230525_222103-m5b9ctgb</code>"
      ],
      "text/plain": [
       "<IPython.core.display.HTML object>"
      ]
     },
     "metadata": {},
     "output_type": "display_data"
    },
    {
     "data": {
      "text/html": [
       "Syncing run <strong><a href='https://wandb.ai/simon-ecke/wze-uav-combined-11classes/runs/m5b9ctgb' target=\"_blank\">lemon-fire-9</a></strong> to <a href='https://wandb.ai/simon-ecke/wze-uav-combined-11classes' target=\"_blank\">Weights & Biases</a> (<a href='https://wandb.me/run' target=\"_blank\">docs</a>)<br/>"
      ],
      "text/plain": [
       "<IPython.core.display.HTML object>"
      ]
     },
     "metadata": {},
     "output_type": "display_data"
    },
    {
     "data": {
      "text/html": [
       " View project at <a href='https://wandb.ai/simon-ecke/wze-uav-combined-11classes' target=\"_blank\">https://wandb.ai/simon-ecke/wze-uav-combined-11classes</a>"
      ],
      "text/plain": [
       "<IPython.core.display.HTML object>"
      ]
     },
     "metadata": {},
     "output_type": "display_data"
    },
    {
     "data": {
      "text/html": [
       " View run at <a href='https://wandb.ai/simon-ecke/wze-uav-combined-11classes/runs/m5b9ctgb' target=\"_blank\">https://wandb.ai/simon-ecke/wze-uav-combined-11classes/runs/m5b9ctgb</a>"
      ],
      "text/plain": [
       "<IPython.core.display.HTML object>"
      ]
     },
     "metadata": {},
     "output_type": "display_data"
    },
    {
     "data": {
      "text/html": [
       "<button onClick=\"this.nextSibling.style.display='block';this.style.display='none';\">Display W&B run</button><iframe src='https://wandb.ai/simon-ecke/wze-uav-combined-11classes/runs/m5b9ctgb?jupyter=true' style='border:none;width:100%;height:420px;display:none;'></iframe>"
      ],
      "text/plain": [
       "<wandb.sdk.wandb_run.Run at 0x223a0987730>"
      ]
     },
     "execution_count": 6,
     "metadata": {},
     "output_type": "execute_result"
    }
   ],
   "source": [
    "# IMPORTANT: The proxy needs to be set in anaconda!\n",
    "# copy paste this in anaconda and restart jupyter notebook\n",
    "#set http_proxy=http://www-proxy.bayern.de:80\n",
    "#set https_proxy=http://www-proxy.bayern.de:80\n",
    "wandb.login()\n",
    "#wandb.init(settings=wandb.Settings(start_method=\"thread\"))\n",
    "wandb.init(project='wze-uav-combined-11classes', entity='simon-ecke')"
   ]
  },
  {
   "cell_type": "markdown",
   "id": "a26a6a34",
   "metadata": {},
   "source": [
    "#### Ensure reproducibility "
   ]
  },
  {
   "cell_type": "code",
   "execution_count": 6,
   "id": "dd4656a7",
   "metadata": {},
   "outputs": [],
   "source": [
    "# for more information, see also: https://pytorch.org/docs/stable/notes/randomness.html\n",
    "\n",
    "# Set seeds\n",
    "def set_seeds(seed: int=42):\n",
    "    \"\"\"Sets random sets for torch operations.\n",
    "\n",
    "    Args:\n",
    "        seed (int, optional): Random seed to set. Defaults to 42.\n",
    "    \"\"\"\n",
    "    # Set the seed for general torch operations\n",
    "    torch.manual_seed(seed)\n",
    "    # Set the seed for CUDA torch operations (ones that happen on the GPU)\n",
    "    torch.cuda.manual_seed(seed)\n",
    "    # seed for numpy\n",
    "    np.random.seed(seed)\n",
    "\n",
    "set_seeds(42) \n",
    "\n",
    "# Set to true -> might speed up the process but should be set to False if reproducible results are desired\n",
    "torch.backends.cudnn.benchmark = False\n"
   ]
  },
  {
   "cell_type": "markdown",
   "id": "8be33671",
   "metadata": {},
   "source": [
    "#### Define file directory"
   ]
  },
  {
   "cell_type": "code",
   "execution_count": 7,
   "id": "30645f36",
   "metadata": {},
   "outputs": [],
   "source": [
    "#####################################################################################\n",
    "# 3 channel input (r-g-b)\n",
    "#data_path = r\"D:\\Drohnendaten\\10_WZE-UAV\\Auswertung_findatree\\Datasplit\\ROI\\rgb\"\n",
    "\n",
    "# 4 channel input (r-g-b-nir)\n",
    "#data_path = r\"D:\\Drohnendaten\\10_WZE-UAV\\Auswertung_findatree\\Datasplit\\ROI\\rgb-nir\"\n",
    "\n",
    "# 5 channel input (r-g-b-re-nir)\n",
    "data_path = r\"D:\\Drohnendaten\\10_WZE-UAV\\Auswertung_findatree\\Datasplit\\ROI\\rgb-re-nir\"\n",
    "\n",
    "# 6 channel input (r-g-b-re-nir)\n",
    "#data_path = r\"D:\\Drohnendaten\\10_WZE-UAV\\Auswertung_findatree\\Datasplit\\ROI\\rgb-re-nir-chm\"\n",
    "\n",
    "#####################################################################################"
   ]
  },
  {
   "cell_type": "markdown",
   "id": "4560ce64",
   "metadata": {},
   "source": [
    "#### Get all file paths, years and plotIDs"
   ]
  },
  {
   "cell_type": "code",
   "execution_count": 8,
   "id": "aa072e4c",
   "metadata": {},
   "outputs": [],
   "source": [
    "fn_list = os.listdir(data_path)\n",
    "path_list = []\n",
    "#year_list = []\n",
    "#plotID_list = []\n",
    "# Iterate over all datafiles\n",
    "for year in fn_list:\n",
    "    year_dir = f'{data_path}\\\\{year}'\n",
    "    for filename in os.listdir(year_dir):\n",
    "        path = f'{year_dir}\\\\{filename}'\n",
    "        #plotID = path.rsplit('_',1)[0].rsplit('r',1)[1]\n",
    "        path_list.append(path)\n",
    "        #year_list.append(year)\n",
    "        #plotID_list.append(plotID)"
   ]
  },
  {
   "cell_type": "markdown",
   "id": "f3937a44",
   "metadata": {},
   "source": [
    "#### Get unique plotIDs and years per available trees"
   ]
  },
  {
   "cell_type": "code",
   "execution_count": 9,
   "id": "8a50f1d7",
   "metadata": {},
   "outputs": [
    {
     "data": {
      "application/vnd.jupyter.widget-view+json": {
       "model_id": "9f4c3e7f44c44773a0dc41894af8f478",
       "version_major": 2,
       "version_minor": 0
      },
      "text/plain": [
       "Creating unique tree IDs...:   0%|          | 0/647 [00:00<?, ?it/s]"
      ]
     },
     "metadata": {},
     "output_type": "display_data"
    }
   ],
   "source": [
    "plotID_dict = data_loader.get_plotID(path_list)"
   ]
  },
  {
   "cell_type": "markdown",
   "id": "6f4cea00",
   "metadata": {},
   "source": [
    "#### Import all imagery, labels and other features from hdf5 files"
   ]
  },
  {
   "cell_type": "code",
   "execution_count": null,
   "id": "94e3eecf",
   "metadata": {},
   "outputs": [
    {
     "data": {
      "application/vnd.jupyter.widget-view+json": {
       "model_id": "1676e47d31c14a8eaabb21ca085b10bc",
       "version_major": 2,
       "version_minor": 0
      },
      "text/plain": [
       "Processing hdf5 datasets:   0%|          | 0/647 [00:00<?, ?it/s]"
      ]
     },
     "metadata": {},
     "output_type": "display_data"
    }
   ],
   "source": [
    "image_set, label_set, species_set, kkl_set, bk_set, hash_id = data_loader.hdf5_to_img_label(path_list,\n",
    "                                                                                               plotID_dict,\n",
    "                                                                                               load_sets=[\"images_masked\"])"
   ]
  },
  {
   "cell_type": "code",
   "execution_count": 12,
   "id": "db710021",
   "metadata": {},
   "outputs": [],
   "source": [
    "def combined_to_classesv3(species_set: np.array, nbv_set: np.array, image_set: np.array, kkl_set: np.array, bk_set: np.array, hash_id: np.array):\n",
    "    \n",
    "    species_list = []\n",
    "    oak_species = [48, 51]\n",
    "    acer_species = [5, 4, 1]\n",
    "    larix_species = [116, 117]\n",
    "    #other_conifers = [103, 104, 106, 116, 117, 119, 120, 123, 128, 129, 133, 135, 136, 137]\n",
    "    for i in range(len(species_set)):\n",
    "        if nbv_set[i] >= 99: # dead trees\n",
    "            tree = 13\n",
    "            species_list.append(tree)\n",
    "        elif species_set[i] == 118 and nbv_set[i] >= 0 and nbv_set[i] <= 25: # healthy spruces\n",
    "            tree = 0\n",
    "            species_list.append(tree)\n",
    "        elif species_set[i] == 118 and nbv_set[i] >= 30 and nbv_set[i] <= 95: # stressed spruces\n",
    "            tree = 1\n",
    "            species_list.append(tree)\n",
    "        elif species_set[i] == 134 and nbv_set[i] >= 0 and nbv_set[i] <= 25: # healthy pines\n",
    "            tree = 2\n",
    "            species_list.append(tree)\n",
    "        elif species_set[i] == 134 and nbv_set[i] >= 30 and nbv_set[i] <= 95: # stressed pines\n",
    "            tree = 3\n",
    "            species_list.append(tree)\n",
    "        elif species_set[i] == 100 and nbv_set[i] >= 0 and nbv_set[i] <= 25: # healthy firs\n",
    "            tree = 4\n",
    "            species_list.append(tree)\n",
    "        elif species_set[i] == 100 and nbv_set[i] >= 30 and nbv_set[i] <= 95: # stressed firs\n",
    "            tree = 5\n",
    "            species_list.append(tree)\n",
    "        elif species_set[i] == 20 and nbv_set[i] >= 0 and nbv_set[i] <= 25: # healthy beeches\n",
    "            tree = 6\n",
    "            species_list.append(tree)\n",
    "        elif species_set[i] == 20 and nbv_set[i] >= 30 and nbv_set[i] <= 95: # stressed beeches\n",
    "            tree = 7\n",
    "            species_list.append(tree)\n",
    "        elif species_set[i] in oak_species and nbv_set[i] >= 0 and nbv_set[i] <= 25: # healthy oaks\n",
    "            tree = 8\n",
    "            species_list.append(tree)\n",
    "        elif species_set[i] in oak_species and nbv_set[i] >= 30 and nbv_set[i] <= 95: # stressed oaks\n",
    "            tree = 9\n",
    "            species_list.append(tree)\n",
    "        elif species_set[i] in larix_species and nbv_set[i] >=0: # Larix decidua/kaempferi\n",
    "            tree = 10\n",
    "            species_list.append(tree)\n",
    "        elif species_set[i] in acer_species and nbv_set[i] >=0: # acer spp.\n",
    "            tree = 11\n",
    "            species_list.append(tree)\n",
    "        elif species_set[i] == 10 and nbv_set[i] >= 0: # Betula pendula\n",
    "            tree = 12\n",
    "            species_list.append(tree)\n",
    "        else:\n",
    "            tree = 999\n",
    "            species_list.append(tree) # other broad-leaved trees\n",
    "            \n",
    "    species_setv2 = np.array(species_list)\n",
    "    label_set = species_setv2\n",
    "    \n",
    "    np_filter = []\n",
    "    for i in range(0, len(bk_set)):\n",
    "        if label_set[i] in [0,1,2,3,4,5,6,7,8,9,10,11,12,13]:\n",
    "            np_filter.append(True)\n",
    "        else:\n",
    "            np_filter.append(False)\n",
    "         \n",
    "    image_set = image_set[np_filter]\n",
    "    label_set = label_set[np_filter]\n",
    "    species_set = species_set[np_filter]\n",
    "    kkl_set = kkl_set[np_filter]\n",
    "    bk_set = bk_set[np_filter]\n",
    "    hash_id = hash_id[np_filter]\n",
    "    \n",
    "    return image_set, label_set, species_set, kkl_set, bk_set, hash_id"
   ]
  },
  {
   "cell_type": "markdown",
   "id": "6a90e2b7",
   "metadata": {},
   "source": [
    "#### Convert nbv to classes"
   ]
  },
  {
   "cell_type": "code",
   "execution_count": null,
   "id": "0224972a",
   "metadata": {},
   "outputs": [],
   "source": [
    "nbv_set = label_set\n",
    "image_set, label_set, species_set, kkl_set, bk_set, hash_id = combined_to_classesv2(species_set, nbv_set, image_set, kkl_set, bk_set, hash_id)"
   ]
  },
  {
   "cell_type": "markdown",
   "id": "c6b4cd85",
   "metadata": {},
   "source": [
    "#### Split data into subset (used for training and validation in the 5-fold cross-validation) and test set"
   ]
  },
  {
   "cell_type": "code",
   "execution_count": null,
   "id": "d06eda54",
   "metadata": {},
   "outputs": [],
   "source": [
    "sub_image_set, sub_label_set, sub_hash_id, sub_species_set, test_image_set, test_label_set, test_hash_id, test_species_set = data_split(image_set, label_set, hash_id, species_set, n_splits=6, random_state=42, seed=2)\n"
   ]
  },
  {
   "cell_type": "markdown",
   "id": "c48fbb5b",
   "metadata": {},
   "source": [
    "#### Check if any hash ID is in both sub and test dataset"
   ]
  },
  {
   "cell_type": "code",
   "execution_count": 16,
   "id": "874367cf",
   "metadata": {},
   "outputs": [
    {
     "name": "stdout",
     "output_type": "stream",
     "text": [
      "There are no hash_id values in both train and test datasets. The datasplit was successful\n"
     ]
    }
   ],
   "source": [
    "hash_set = set(sub_hash_id[:,0].flatten())\n",
    "test_hash_set = set(test_hash_id[:,0].flatten())\n",
    "intersection = hash_set.intersection(test_hash_set)\n",
    "if intersection:\n",
    "    print(f\"Hash_id values in both train and test sets: {len(intersection)}\")\n",
    "else:\n",
    "    print(\"There are no hash_id values in both train and test datasets. The datasplit was successful\")"
   ]
  },
  {
   "cell_type": "markdown",
   "id": "9e5b64d4",
   "metadata": {},
   "source": [
    "#### Check feature distribution of the Test dataset"
   ]
  },
  {
   "cell_type": "code",
   "execution_count": 17,
   "id": "a33ff5cb",
   "metadata": {},
   "outputs": [
    {
     "name": "stdout",
     "output_type": "stream",
     "text": [
      "Test dataset\n",
      "Test data Picea abies healthy: 338\n",
      "Test data Picea abies stressed: 147\n",
      "Test data Pinus sylvestris healthy: 107\n",
      "Test data Pinus sylvestris stressed: 166\n",
      "Test data Abies alba healthy: 19\n",
      "Test data Abies alba stressed: 15\n",
      "Test data Fagus sylvatica healthy: 76\n",
      "Test data Fagus sylvatica stressed: 44\n",
      "Test data Quercus robur/petraea healthy: 61\n",
      "Test data Quercus robur/petraea stressed: 20\n",
      "Test data Larix spp.: 45\n",
      "Test data Acer spp.: 20\n",
      "Test data Betula pendula: 13\n",
      "Test data dead trees: 31\n",
      "--------------------------------------------------\n",
      "Remaining dataset\n",
      "Remaining data Picea abies healthy: 3561\n",
      "Remaining data Picea abies stressed: 2068\n",
      "Remaining data Pinus sylvestris healthy: 1834\n",
      "Remaining data Pinus sylvestris stressed: 2073\n",
      "Remaining data Abies alba healthy: 437\n",
      "Remaining data Abies alba stressed: 140\n",
      "Remaining data Fagus sylvatica healthy: 1287\n",
      "Remaining data Fagus sylvatica stressed: 953\n",
      "Remaining data Quercus robur/petraea healthy: 735\n",
      "Remaining data Quercus robur/petraea stressed: 413\n",
      "Test data Larix spp.: 447\n",
      "Test data Acer spp.: 244\n",
      "Test data Betula pendula: 233\n",
      "Remaining data dead trees: 221\n",
      "--------------------------------------------------\n"
     ]
    }
   ],
   "source": [
    "def count_occurrences(data, value):\n",
    "    count = 0\n",
    "    for item in data:\n",
    "        if item == value:\n",
    "            count += 1\n",
    "    return count\n",
    "\n",
    "print(\"Test dataset\")\n",
    "print(f\"Test data Picea abies healthy: {count_occurrences(test_label_set, 0)}\")\n",
    "print(f\"Test data Picea abies stressed: {count_occurrences(test_label_set, 1)}\")\n",
    "print(f\"Test data Pinus sylvestris healthy: {count_occurrences(test_label_set, 2)}\")\n",
    "print(f\"Test data Pinus sylvestris stressed: {count_occurrences(test_label_set, 3)}\")\n",
    "print(f\"Test data Abies alba healthy: {count_occurrences(test_label_set, 4)}\")\n",
    "print(f\"Test data Abies alba stressed: {count_occurrences(test_label_set, 5)}\")\n",
    "print(f\"Test data Fagus sylvatica healthy: {count_occurrences(test_label_set, 6)}\")\n",
    "print(f\"Test data Fagus sylvatica stressed: {count_occurrences(test_label_set, 7)}\")\n",
    "print(f\"Test data Quercus robur/petraea healthy: {count_occurrences(test_label_set, 8)}\")\n",
    "print(f\"Test data Quercus robur/petraea stressed: {count_occurrences(test_label_set, 9)}\")\n",
    "print(f\"Test data Larix spp.: {count_occurrences(test_label_set, 10)}\")\n",
    "print(f\"Test data Acer spp.: {count_occurrences(test_label_set, 11)}\")\n",
    "print(f\"Test data Betula pendula: {count_occurrences(test_label_set, 12)}\")\n",
    "print(f\"Test data dead trees: {count_occurrences(test_label_set, 13)}\")\n",
    "print(\"-\"*50)\n",
    "\n",
    "print(\"Remaining dataset\")\n",
    "print(f\"Remaining data Picea abies healthy: {count_occurrences(sub_label_set, 0)}\")\n",
    "print(f\"Remaining data Picea abies stressed: {count_occurrences(sub_label_set, 1)}\")\n",
    "print(f\"Remaining data Pinus sylvestris healthy: {count_occurrences(sub_label_set, 2)}\")\n",
    "print(f\"Remaining data Pinus sylvestris stressed: {count_occurrences(sub_label_set, 3)}\")\n",
    "print(f\"Remaining data Abies alba healthy: {count_occurrences(sub_label_set, 4)}\")\n",
    "print(f\"Remaining data Abies alba stressed: {count_occurrences(sub_label_set, 5)}\")\n",
    "print(f\"Remaining data Fagus sylvatica healthy: {count_occurrences(sub_label_set, 6)}\")\n",
    "print(f\"Remaining data Fagus sylvatica stressed: {count_occurrences(sub_label_set, 7)}\")\n",
    "print(f\"Remaining data Quercus robur/petraea healthy: {count_occurrences(sub_label_set, 8)}\")\n",
    "print(f\"Remaining data Quercus robur/petraea stressed: {count_occurrences(sub_label_set, 9)}\")\n",
    "print(f\"Test data Larix spp.: {count_occurrences(sub_label_set, 10)}\")\n",
    "print(f\"Test data Acer spp.: {count_occurrences(sub_label_set, 11)}\")\n",
    "print(f\"Test data Betula pendula: {count_occurrences(sub_label_set, 12)}\")\n",
    "print(f\"Remaining data dead trees: {count_occurrences(sub_label_set, 13)}\")\n",
    "print(\"-\"*50)"
   ]
  },
  {
   "cell_type": "code",
   "execution_count": null,
   "id": "e08fcf57",
   "metadata": {},
   "outputs": [],
   "source": [
    "# train transform with augmentation. \n",
    "transform_train = transforms.Compose([transforms.ToTensor(), transforms.RandomHorizontalFlip(p=0.5), transforms.RandomVerticalFlip(p=0.5),\n",
    "                                      transforms.RandomRotation(degrees=[0,360])])\n",
    "\n",
    "# test and val dataset transform without augmentation. \n",
    "transform = transforms.Compose([transforms.ToTensor()])\n",
    "\n",
    "# class names need to fit the customDataset class used e.g. 3 classes -> use CustomDataset3Classes\n",
    "#class_names = ['healthy', 'slightly_stressed', 'moderately_stressed', 'highly_stressed', 'dead']\n",
    "#class_names = ['healthy', 'moderately_stressed', 'highly_stressed', 'dead']\n",
    "#class_names = ['healthy', 'moderate stress', 'severe stress', 'dead']\n",
    "class_names = ['Picea abies healthy', 'Picea abies stressed', 'Pinus sylvestris healthy', 'Pinus sylvestris stressed', \n",
    "               'Abies alba healthy', 'Abies alba stressed', 'Fagus sylvatica healthy', 'Fagus sylvatica stressed',\n",
    "               'Quercus ssp. healthy', 'Quercus ssp. stressed', 'dead trees']\n",
    "\n",
    "# set seeds\n",
    "g = torch.Generator()\n",
    "g.manual_seed(42)\n",
    "NUM_WORKERS=3 # should be changed, depending on the system used\n",
    "batch_size=32"
   ]
  },
  {
   "cell_type": "markdown",
   "id": "31779c05",
   "metadata": {},
   "source": [
    "#### Define variables and parameters"
   ]
  },
  {
   "cell_type": "code",
   "execution_count": null,
   "id": "10ae4379",
   "metadata": {},
   "outputs": [],
   "source": [
    "# 1. Define number of epochs\n",
    "epochs = 50\n",
    "n_bands = sub_image_set[0].shape[2] # get number of bands\n",
    "\n",
    "# 2. Define model\n",
    "num_classes = len(class_names)\n",
    "unfreeze = True # all layer weights get updated\n",
    "dropout_rate = 0.5 #define dropout rate\n",
    "model_name = \"EffNet_b7_RGB-RE-NIR-11classes-combined_plotsplit\"\n",
    "\n",
    "# 3. Define loss, optimizer and learning rate scheduler\n",
    "lr = 0.001 # define learning rate\n",
    "min_lr = 1e-6 # minimum learning rate threshold\n",
    "gamma = 0.75 # how fast the learning rate decreases per epoch (low number=faster decrease)\n",
    "patience = 10\n",
    "\n",
    "# 4. Create target folder name were to save the tensorboard event files\n",
    "experiment_name = 'RGB-RE-NIR-11classes-combined_plotsplit'\n",
    "extra = \"RGB-RE-NIR-11classes-combined_plotsplit\"\n",
    "\n",
    "#----------------------------------------------------------------------\n",
    "#torch.cuda.empty_cache()\n",
    "print(f\"Memory allocated: {torch.cuda.memory_allocated()} bytes\") "
   ]
  },
  {
   "cell_type": "code",
   "execution_count": 20,
   "id": "8b30482c",
   "metadata": {},
   "outputs": [
    {
     "data": {
      "text/plain": [
       "['Picea abies healthy',\n",
       " 'Picea abies stressed',\n",
       " 'Pinus sylvestris healthy',\n",
       " 'Pinus sylvestris stressed',\n",
       " 'Abies alba healthy',\n",
       " 'Abies alba stressed',\n",
       " 'Fagus sylvatica healthy',\n",
       " 'Fagus sylvatica stressed',\n",
       " 'Quercus ssp. healthy',\n",
       " 'Quercus ssp. stressed',\n",
       " 'dead trees']"
      ]
     },
     "execution_count": 20,
     "metadata": {},
     "output_type": "execute_result"
    }
   ],
   "source": [
    "class_names"
   ]
  },
  {
   "cell_type": "code",
   "execution_count": 21,
   "id": "18f9ef23",
   "metadata": {},
   "outputs": [],
   "source": [
    "import torch\n",
    "from torch.utils.data import Dataset\n",
    "\n",
    "class FilteredDataset(Dataset):\n",
    "    def __init__(self, dataset, class_indices):\n",
    "        self.dataset = dataset\n",
    "        self.class_indices = class_indices\n",
    "        self.filtered_indices = self._filter_indices()\n",
    "\n",
    "    def _filter_indices(self):\n",
    "        # Filter the indices based on class_indices\n",
    "        filtered_indices = [i for i in range(len(self.dataset)) if self.dataset[i][1] in self.class_indices]\n",
    "        return filtered_indices\n",
    "\n",
    "    def __getitem__(self, index):\n",
    "        filtered_index = self.filtered_indices[index]\n",
    "        image, label = self.dataset[filtered_index]\n",
    "\n",
    "        # Return the image and filtered label\n",
    "        return image, label\n",
    "\n",
    "    def __len__(self):\n",
    "        # Compute the length of the filtered dataset\n",
    "        return len(self.filtered_indices)\n",
    "\n",
    "    @property\n",
    "    def labels(self):\n",
    "        # Return the filtered labels with renamed index 13 to 10\n",
    "        filtered_labels = [self.dataset[i][1] for i in self.filtered_indices]\n",
    "        renamed_labels = [label if label < 13 else 10 for label in filtered_labels]\n",
    "        return renamed_labels\n",
    "\n",
    "\n"
   ]
  },
  {
   "cell_type": "code",
   "execution_count": 22,
   "id": "0c218082",
   "metadata": {},
   "outputs": [
    {
     "ename": "NameError",
     "evalue": "name 'label_list' is not defined",
     "output_type": "error",
     "traceback": [
      "\u001b[1;31m---------------------------------------------------------------------------\u001b[0m",
      "\u001b[1;31mNameError\u001b[0m                                 Traceback (most recent call last)",
      "Input \u001b[1;32mIn [22]\u001b[0m, in \u001b[0;36m<cell line: 1>\u001b[1;34m()\u001b[0m\n\u001b[1;32m----> 1\u001b[0m \u001b[43mlabel_list\u001b[49m\n",
      "\u001b[1;31mNameError\u001b[0m: name 'label_list' is not defined"
     ]
    }
   ],
   "source": [
    "label_list"
   ]
  },
  {
   "cell_type": "code",
   "execution_count": 23,
   "id": "536ef36c",
   "metadata": {},
   "outputs": [],
   "source": [
    "\n",
    "import torch\n",
    "import os\n",
    "import findatree_roi.io as io\n",
    "import findatree_roi.exporter as exporter\n",
    "import numpy as np\n",
    "from torch.utils.data import Dataset\n",
    "from typing import Dict, List, Tuple\n",
    "from torch.utils.data import WeightedRandomSampler\n",
    "from tqdm.auto import tqdm\n",
    "from collections import defaultdict\n",
    "import hashlib\n",
    "\n",
    "\n",
    "def data_samplerv2(dataset: Dataset, class_names: List[str]):\n",
    "    \n",
    "    label_list = dataset.labels\n",
    "    #label_list = []\n",
    "    #for label in labels_list:\n",
    "    #    label = label[0]\n",
    "    #    label_list.append(label)\n",
    "    \n",
    "    # count the number of samples per class\n",
    "    class_sample_counts = [label_list.count(i) for i in range(len(class_names))]\n",
    "    \n",
    "    # compute the effective number of samples\n",
    "    total_samples = sum(class_sample_counts)\n",
    "    effective_num = [(1.0 - (count / total_samples)) / (len(class_names) - 1) for count in class_sample_counts]\n",
    "    \n",
    "    # calculate the weight of each class as inverse of frequency\n",
    "    class_weights = torch.FloatTensor(effective_num)\n",
    "    class_weights /= torch.sum(class_weights)\n",
    "    \n",
    "    # create a list of weights for each data sample\n",
    "    train_weights = [class_weights[label] for label in label_list]\n",
    "    \n",
    "    # create a sampler using the weights\n",
    "    sampler = WeightedRandomSampler(train_weights, len(dataset), replacement=True)\n",
    " \n",
    "    return sampler"
   ]
  },
  {
   "cell_type": "markdown",
   "id": "09768b1a",
   "metadata": {},
   "source": [
    "#### Run k-Fold cross-validation on EfficientNet"
   ]
  },
  {
   "cell_type": "code",
   "execution_count": null,
   "id": "9c29c81d",
   "metadata": {},
   "outputs": [
    {
     "name": "stdout",
     "output_type": "stream",
     "text": [
      "ORIGINAL POSITIVE RATIO: 3.4969274887341255\n",
      "Fold : 1\n",
      "TRAIN POSITIVE RATIO: 3.3526866833953446\n",
      "VAL POSITIVE RATIO  : 4.036581417934607\n",
      "LENGTH TRAIN GROUPS : 156\n",
      "LENGTH VAL GROUPS   : 39\n"
     ]
    },
    {
     "data": {
      "text/html": [
       "Finishing last run (ID:m5b9ctgb) before initializing another..."
      ],
      "text/plain": [
       "<IPython.core.display.HTML object>"
      ]
     },
     "metadata": {},
     "output_type": "display_data"
    },
    {
     "data": {
      "text/html": [
       "Waiting for W&B process to finish... <strong style=\"color:green\">(success).</strong>"
      ],
      "text/plain": [
       "<IPython.core.display.HTML object>"
      ]
     },
     "metadata": {},
     "output_type": "display_data"
    },
    {
     "data": {
      "application/vnd.jupyter.widget-view+json": {
       "model_id": "bde4a39724c94eae80c52de7d29e0e7c",
       "version_major": 2,
       "version_minor": 0
      },
      "text/plain": [
       "VBox(children=(Label(value='0.001 MB of 0.007 MB uploaded (0.000 MB deduped)\\r'), FloatProgress(value=0.187331…"
      ]
     },
     "metadata": {},
     "output_type": "display_data"
    },
    {
     "data": {
      "text/html": [
       " View run <strong style=\"color:#cdcd00\">lemon-fire-9</strong> at: <a href='https://wandb.ai/simon-ecke/wze-uav-combined-11classes/runs/m5b9ctgb' target=\"_blank\">https://wandb.ai/simon-ecke/wze-uav-combined-11classes/runs/m5b9ctgb</a><br/>Synced 5 W&B file(s), 0 media file(s), 0 artifact file(s) and 0 other file(s)"
      ],
      "text/plain": [
       "<IPython.core.display.HTML object>"
      ]
     },
     "metadata": {},
     "output_type": "display_data"
    },
    {
     "data": {
      "text/html": [
       "Find logs at: <code>.\\wandb\\run-20230525_222103-m5b9ctgb\\logs</code>"
      ],
      "text/plain": [
       "<IPython.core.display.HTML object>"
      ]
     },
     "metadata": {},
     "output_type": "display_data"
    },
    {
     "data": {
      "text/html": [
       "Successfully finished last run (ID:m5b9ctgb). Initializing new run:<br/>"
      ],
      "text/plain": [
       "<IPython.core.display.HTML object>"
      ]
     },
     "metadata": {},
     "output_type": "display_data"
    },
    {
     "data": {
      "application/vnd.jupyter.widget-view+json": {
       "model_id": "2ccdd72f01cd4b138068ac27278a262f",
       "version_major": 2,
       "version_minor": 0
      },
      "text/plain": [
       "VBox(children=(Label(value='Waiting for wandb.init()...\\r'), FloatProgress(value=0.016933333330477276, max=1.0…"
      ]
     },
     "metadata": {},
     "output_type": "display_data"
    },
    {
     "data": {
      "text/html": [
       "wandb version 0.15.3 is available!  To upgrade, please run:\n",
       " $ pip install wandb --upgrade"
      ],
      "text/plain": [
       "<IPython.core.display.HTML object>"
      ]
     },
     "metadata": {},
     "output_type": "display_data"
    },
    {
     "data": {
      "text/html": [
       "Tracking run with wandb version 0.14.2"
      ],
      "text/plain": [
       "<IPython.core.display.HTML object>"
      ]
     },
     "metadata": {},
     "output_type": "display_data"
    },
    {
     "data": {
      "text/html": [
       "Run data is saved locally in <code>C:\\Users\\lwfeckesim\\01_PyTorch\\wze-uav\\wze-uav-master\\wandb\\run-20230526_011320-gqgndhpw</code>"
      ],
      "text/plain": [
       "<IPython.core.display.HTML object>"
      ]
     },
     "metadata": {},
     "output_type": "display_data"
    },
    {
     "data": {
      "text/html": [
       "Syncing run <strong><a href='https://wandb.ai/simon-ecke/wze-uav-combined-11classes/runs/gqgndhpw' target=\"_blank\">fold_1_RGB-RE-NIR-11classes-combined_plotsplit</a></strong> to <a href='https://wandb.ai/simon-ecke/wze-uav-combined-11classes' target=\"_blank\">Weights & Biases</a> (<a href='https://wandb.me/run' target=\"_blank\">docs</a>)<br/>"
      ],
      "text/plain": [
       "<IPython.core.display.HTML object>"
      ]
     },
     "metadata": {},
     "output_type": "display_data"
    },
    {
     "data": {
      "text/html": [
       " View project at <a href='https://wandb.ai/simon-ecke/wze-uav-combined-11classes' target=\"_blank\">https://wandb.ai/simon-ecke/wze-uav-combined-11classes</a>"
      ],
      "text/plain": [
       "<IPython.core.display.HTML object>"
      ]
     },
     "metadata": {},
     "output_type": "display_data"
    },
    {
     "data": {
      "text/html": [
       " View run at <a href='https://wandb.ai/simon-ecke/wze-uav-combined-11classes/runs/gqgndhpw' target=\"_blank\">https://wandb.ai/simon-ecke/wze-uav-combined-11classes/runs/gqgndhpw</a>"
      ],
      "text/plain": [
       "<IPython.core.display.HTML object>"
      ]
     },
     "metadata": {},
     "output_type": "display_data"
    },
    {
     "name": "stdout",
     "output_type": "stream",
     "text": [
      "There are no same hash_id values in train, val or test datasets. The datasplit was successful\n",
      "Check shapes:\n",
      "\n",
      "Images train dataset: (11557, 250, 250, 5)\n",
      "Labels train dataset: (11557, 1)\n",
      "\n",
      "Images validation dataset: (1104, 250, 250, 5)\n",
      "Labels validation dataset: (1104, 1)\n",
      "\n",
      "--------------------------------------------------\n",
      "Check if the split was stratified: (random_state=42)\n",
      "Picea abies healthy in train dataset: 2879\n",
      "Picea abies stressed in train dataset: 1542\n",
      "Pinus sylvestris healthy in train dataset: 1540\n",
      "Pinus sylvestris stressed in train dataset: 1835\n",
      "Abies alba healthy in train dataset: 392\n",
      "Abies alba stressed in train dataset: 125\n",
      "Fagus sylvatica healthy in train dataset: 974\n",
      "Fagus sylvatica stressed in train dataset: 631\n",
      "Quercus robur/petraea healthy in train dataset: 532\n",
      "Quercus robur/petraea stressed in train dataset: 273\n",
      "Dead trees in train dataset: 265\n",
      "Picea abies healthy in validation dataset: 255\n",
      "Picea abies stressed in validation dataset: 174\n",
      "Pinus sylvestris healthy in validation dataset: 136\n",
      "Pinus sylvestris stressed in validation dataset: 82\n",
      "Abies alba healthy in validation dataset: 17\n",
      "Abies alba stressed in validation dataset: 4\n",
      "Fagus sylvatica healthy in validation dataset: 102\n",
      "Fagus sylvatica stressed in validation dataset: 116\n",
      "Quercus robur/petraea healthy in validation dataset: 60\n",
      "Quercus robur/petraea stressed in validation dataset: 53\n",
      "Dead trees in validation dataset: 62\n",
      "--------------------------------------------------\n",
      "\n",
      "Creating datasets for fold: 1\n",
      "\n",
      "11557\n",
      "1104\n",
      "10894\n",
      "1016\n",
      "Creating dataloaders for fold: 1\n",
      "\n",
      "Loaded pretrained weights for efficientnet-b7\n",
      "\n",
      "[INFO] Fold number: 1\n",
      "[INFO] Number of epochs: 50\n",
      "[INFO] Batch_size: 32\n",
      "[INFO] Number of bands: 5\n",
      "[INFO] Dropout rate: 0.5\n",
      "[INFO] Gamma learning rate: 0.75\n",
      "[INFO] Memory allocated: 0 bytes\n"
     ]
    },
    {
     "data": {
      "application/vnd.jupyter.widget-view+json": {
       "model_id": "2f8f5b3e57be42429f92ad03f358158a",
       "version_major": 2,
       "version_minor": 0
      },
      "text/plain": [
       "  0%|          | 0/50 [00:00<?, ?it/s]"
      ]
     },
     "metadata": {},
     "output_type": "display_data"
    }
   ],
   "source": [
    "%%time\n",
    "\n",
    "# Set the random seeds\n",
    "set_seeds(42)\n",
    "\n",
    "# Define the number of folds\n",
    "num_folds = 5\n",
    "\n",
    "# group the hashIDs to get the unique values of hashIDs remaining in the subset  \n",
    "groups = sub_hash_id[:, 0] \n",
    "print(\"ORIGINAL POSITIVE RATIO:\", sub_label_set.mean())\n",
    "# create a StratifiedGroupKFold instance\n",
    "kf = StratifiedGroupKFold(n_splits=num_folds, shuffle=True, random_state=42)\n",
    "\n",
    "# loop through the folds\n",
    "for fold, (train_ids, val_ids) in enumerate(kf.split(sub_image_set, sub_label_set, groups)):\n",
    "    print(\"Fold :\", fold+1)\n",
    "    print(\"TRAIN POSITIVE RATIO:\", sub_label_set[train_ids].mean())\n",
    "    print(\"VAL POSITIVE RATIO  :\", sub_label_set[val_ids].mean())\n",
    "    print(\"LENGTH TRAIN GROUPS :\", len(set(groups[train_ids])))\n",
    "    print(\"LENGTH VAL GROUPS   :\", len(set(groups[val_ids])))\n",
    "    \n",
    "    train_ids = sub_hash_id[:, 0][train_ids]\n",
    "    val_ids = np.unique(sub_hash_id[:, 0][val_ids])\n",
    "\n",
    "    torch.cuda.empty_cache()\n",
    "    \n",
    "    # Initialize a new wandb run for this fold\n",
    "    wandb.init(project='wze-uav-combined-11classes', name=f\"fold_{fold + 1}_{extra}\")\n",
    "    \n",
    "    # 1. Split data into train and validation set\n",
    "    # Get the training and testing data for this fold\n",
    "    # Use np.isin() to create boolean arrays indicating which indices belong to train or test sets\n",
    "    train_indices = np.isin(sub_hash_id[:,0], train_ids)\n",
    "    \n",
    "    val_indices = np.zeros_like(train_indices)  # initialize to all False\n",
    "    for hash_id_val in val_ids:\n",
    "        # select one image ID randomly from either 2020 or 2021 or 2022 for each unique hash ID in the test set\n",
    "        temp = np.unique(sub_hash_id[(sub_hash_id[:, 0] == hash_id_val), 1]) # check how many years are available per hashID\n",
    "        if len(temp) == 1:\n",
    "            year = temp[0]\n",
    "        elif len(temp) == 2:\n",
    "            year = np.random.choice(temp)\n",
    "        else:\n",
    "            year = np.random.choice(temp)\n",
    "        \n",
    "        # select image ID using the conditions\n",
    "        image_ids = sub_hash_id[(sub_hash_id[:,0] == hash_id_val) & (sub_hash_id[:,1] == year), 0]\n",
    "    \n",
    "        # mark the index corresponding to the selected image ID and hash ID as True in the test indices array\n",
    "        val_indices[(sub_hash_id[:,0] == hash_id_val) & (sub_hash_id[:,1] == year) & (np.isin(sub_hash_id[:,0], image_ids))] = True \n",
    "    \n",
    "    # Reshape boolean arrays to match shape of image_set and label_set\n",
    "    train_indices = train_indices.reshape(-1, 1)\n",
    "    val_indices = val_indices.reshape(-1, 1)\n",
    "    \n",
    "    # Select images and labels for train and validation sets\n",
    "    train_image_set = sub_image_set[train_indices[:, 0]]\n",
    "    train_label_set = sub_label_set[train_indices[:, 0]]\n",
    "    train_hash_id = sub_hash_id[train_indices[:, 0]][:,0]\n",
    "    train_species_set = sub_species_set[train_indices[:, 0]]\n",
    "    val_image_set = sub_image_set[val_indices[:, 0]]\n",
    "    val_label_set = sub_label_set[val_indices[:, 0]]\n",
    "    val_hash_id = sub_hash_id[val_indices[:, 0]][:,0]\n",
    "    val_species_set = sub_species_set[val_indices[:, 0]]\n",
    "    # reshape \n",
    "    train_label_set = train_label_set.reshape(-1, 1)\n",
    "    val_label_set = val_label_set.reshape(-1, 1)\n",
    "    train_species_set = train_species_set.reshape(-1, 1)\n",
    "    val_species_set = val_species_set.reshape(-1, 1)\n",
    "    \n",
    "    # check if there are any group overlaps between the data splits\n",
    "    hash_set = set(train_hash_id)\n",
    "    val_hash_set = set(val_hash_id)\n",
    "    test_hash_set = set(test_hash_id[:, 0].flatten())\n",
    "    intersection = hash_set.intersection(val_hash_set)\n",
    "    intersection2 = test_hash_set.intersection(val_hash_set)\n",
    "    intersection3 = hash_set.intersection(test_hash_set)\n",
    "    if intersection:\n",
    "        print(f\"Hash_id values in both train and val sets: {len(intersection)}\")\n",
    "        print(f\"Hash_id values in both test and val sets: {len(intersection2)}\")\n",
    "        print(f\"Hash_id values in both train and test sets: {len(intersection3)}\")\n",
    "    else:\n",
    "        print(\"There are no same hash_id values in train, val or test datasets. The datasplit was successful\")\n",
    "    \n",
    "         \n",
    "    print(\"Check shapes:\\n\")\n",
    "    print(f\"Images train dataset: {train_image_set.shape}\")\n",
    "    print(f\"Labels train dataset: {train_label_set.shape}\\n\")\n",
    "    \n",
    "    print(f\"Images validation dataset: {val_image_set.shape}\")\n",
    "    print(f\"Labels validation dataset: {val_label_set.shape}\\n\")\n",
    "    print('-'*50)\n",
    "    print (f\"Check if the split was stratified: (random_state=42)\")\n",
    "    print(f\"Picea abies healthy in train dataset: {np.count_nonzero(train_label_set == 0)}\")\n",
    "    print(f\"Picea abies stressed in train dataset: {np.count_nonzero(train_label_set == 1)}\")\n",
    "    print(f\"Pinus sylvestris healthy in train dataset: {np.count_nonzero(train_label_set == 2)}\")\n",
    "    print(f\"Pinus sylvestris stressed in train dataset: {np.count_nonzero(train_label_set == 3)}\")\n",
    "    print(f\"Abies alba healthy in train dataset: {np.count_nonzero(train_label_set == 4)}\")\n",
    "    print(f\"Abies alba stressed in train dataset: {np.count_nonzero(train_label_set == 5)}\")\n",
    "    print(f\"Fagus sylvatica healthy in train dataset: {np.count_nonzero(train_label_set == 6)}\")\n",
    "    print(f\"Fagus sylvatica stressed in train dataset: {np.count_nonzero(train_label_set == 7)}\")\n",
    "    print(f\"Quercus robur/petraea healthy in train dataset: {np.count_nonzero(train_label_set == 8)}\")\n",
    "    print(f\"Quercus robur/petraea stressed in train dataset: {np.count_nonzero(train_label_set == 9)}\")\n",
    "    print(f\"Dead trees in train dataset: {np.count_nonzero(train_label_set == 10)}\")\n",
    "    print(f\"Picea abies healthy in validation dataset: {np.count_nonzero(val_label_set == 0)}\")\n",
    "    print(f\"Picea abies stressed in validation dataset: {np.count_nonzero(val_label_set == 1)}\")\n",
    "    print(f\"Pinus sylvestris healthy in validation dataset: {np.count_nonzero(val_label_set == 2)}\")\n",
    "    print(f\"Pinus sylvestris stressed in validation dataset: {np.count_nonzero(val_label_set == 3)}\")\n",
    "    print(f\"Abies alba healthy in validation dataset: {np.count_nonzero(val_label_set == 4)}\")\n",
    "    print(f\"Abies alba stressed in validation dataset: {np.count_nonzero(val_label_set == 5)}\")\n",
    "    print(f\"Fagus sylvatica healthy in validation dataset: {np.count_nonzero(val_label_set == 6)}\")\n",
    "    print(f\"Fagus sylvatica stressed in validation dataset: {np.count_nonzero(val_label_set == 7)}\")\n",
    "    print(f\"Quercus robur/petraea healthy in validation dataset: {np.count_nonzero(val_label_set == 8)}\")\n",
    "    print(f\"Quercus robur/petraea stressed in validation dataset: {np.count_nonzero(val_label_set == 9)}\")\n",
    "    print(f\"Dead trees in validation dataset: {np.count_nonzero(val_label_set == 10)}\")\n",
    "    #print(f\"Ratio health trees in validation dataset: {np.count_nonzero(val_label_set == 0)/np.count_nonzero(sub_label_set == 0)}\")\n",
    "    #print(f\"Ratio moderately stressed trees in validation dataset: {np.count_nonzero(val_label_set == 1)/np.count_nonzero(sub_label_set == 1)}\")\n",
    "    #print(f\"Ratio severely stressed trees in validation dataset: {np.count_nonzero(val_label_set == 1)/np.count_nonzero(sub_label_set == 2)}\")\n",
    "    #print(f\"Ratio dead trees in validation dataset: {np.count_nonzero(val_label_set == 2)/np.count_nonzero(sub_label_set == 3)}\")\n",
    "    print(\"-\"*50)\n",
    "   \n",
    "    # 2. Create train and validation dataset. (choose custom dataset loader with 3 - 5 classes)\n",
    "    print(f\"\\nCreating datasets for fold: {fold + 1}\\n\")\n",
    "    train_dataset = data_loader.CustomDataset(data=train_image_set, labels=train_label_set, class_names=class_names, species = train_species_set,\n",
    "                                                         transform=transform_train)\n",
    "    \n",
    "    val_dataset = data_loader.CustomDataset(data=val_image_set, labels=val_label_set, class_names=class_names,\n",
    "                                                       species = val_species_set, transform=transform)\n",
    "    print(len(train_dataset))\n",
    "    print(len(val_dataset))\n",
    "    \n",
    "    ## filter out Larix, Acer, and Betula\n",
    "    # Define the class indices you want to keep\n",
    "    class_indices_to_keep = [0, 1, 2, 3, 4, 5, 6, 7, 8, 9, 13]\n",
    "\n",
    "    # Create the filtered dataset\n",
    "    train_dataset = FilteredDataset(train_dataset, class_indices_to_keep)\n",
    "    val_dataset = FilteredDataset(val_dataset, class_indices_to_keep)\n",
    "    \n",
    "    print(len(train_dataset))\n",
    "    print(len(val_dataset))\n",
    "   \n",
    "    # 3. Create train and validation dataloader\n",
    "    # create sampler for oversampling of the minority classes\n",
    "    sampler = data_samplerv2(dataset=train_dataset, class_names=class_names)\n",
    "    print(f\"Creating dataloaders for fold: {fold +1}\\n\")\n",
    "    train_dataloader = DataLoader(train_dataset, batch_size=batch_size, persistent_workers=True, pin_memory=True, num_workers=NUM_WORKERS, generator=g,\n",
    "                              sampler=sampler, shuffle=False, drop_last=True) # shuffle false because of the sampler\n",
    "\n",
    "    val_dataloader = DataLoader(val_dataset, batch_size=batch_size, persistent_workers=True, pin_memory=True, num_workers=NUM_WORKERS, shuffle=False,\n",
    "                             drop_last=True)\n",
    "    \n",
    "    model = model_effnet.EfficientNet.from_pretrained('efficientnet-b7', in_channels=n_bands, num_classes=num_classes, dropout_rate=dropout_rate)\n",
    "    #model = models.create_effnetb7(output_shape=num_classes, unfreeze=True, dropout_rate=dropout_rate, device=device)\n",
    "   \n",
    "    loss_fn = nn.CrossEntropyLoss()\n",
    "    optimizer = torch.optim.Adam(params=model.parameters(), lr=lr)\n",
    "    lr_scheduler = CustomExponentialLR(optimizer, gamma=gamma, min_lr=min_lr)\n",
    "\n",
    "    fold += 1\n",
    "    print(f\"\\n[INFO] Fold number: {fold}\")\n",
    "    print(f\"[INFO] Number of epochs: {epochs}\")\n",
    "    print(f\"[INFO] Batch_size: {batch_size}\")\n",
    "    print(f\"[INFO] Number of bands: {n_bands}\")\n",
    "    print(f\"[INFO] Dropout rate: {dropout_rate}\")\n",
    "    print(f\"[INFO] Gamma learning rate: {gamma}\")\n",
    "    print(f\"[INFO] Memory allocated: {torch.cuda.memory_allocated()} bytes\")\n",
    "    # 4. Train model with k fold dataloaders and track experiments\n",
    "    \n",
    "    if fold == 1:\n",
    "        fold1_results = train(model=model, model_name=model_name, n_bands=n_bands, batch_size=batch_size,train_dataloader=train_dataloader, val_dataloader=val_dataloader, \n",
    "                        optimizer=optimizer, loss_fn=loss_fn, lr_scheduler=lr_scheduler, num_classes=num_classes, epochs=epochs, experiment_num=fold, device=device,\n",
    "                        writer=None, early_stop_patience = patience)\n",
    "       \n",
    "    elif fold == 2:\n",
    "        fold2_results = train(model=model, model_name=model_name, n_bands=n_bands, batch_size=batch_size,train_dataloader=train_dataloader, val_dataloader=val_dataloader, \n",
    "                        optimizer=optimizer, loss_fn=loss_fn, lr_scheduler=lr_scheduler, num_classes=num_classes, epochs=epochs, experiment_num=fold, device=device,\n",
    "                        writer=None, early_stop_patience = patience)\n",
    "    elif fold == 3:\n",
    "        fold3_results = train(model=model, model_name=model_name, n_bands=n_bands, batch_size=batch_size,train_dataloader=train_dataloader, val_dataloader=val_dataloader, \n",
    "                        optimizer=optimizer, loss_fn=loss_fn, lr_scheduler=lr_scheduler, num_classes=num_classes, epochs=epochs, experiment_num=fold, device=device,\n",
    "                        writer=None, early_stop_patience = patience)\n",
    "    elif fold == 4:\n",
    "        fold4_results = train(model=model, model_name=model_name, n_bands=n_bands, batch_size=batch_size,train_dataloader=train_dataloader, val_dataloader=val_dataloader, \n",
    "                        optimizer=optimizer, loss_fn=loss_fn, lr_scheduler=lr_scheduler, num_classes=num_classes, epochs=epochs, experiment_num=fold, device=device,\n",
    "                        writer=None, early_stop_patience = patience)\n",
    "    else:\n",
    "        fold5_results = train(model=model, model_name=model_name, n_bands=n_bands, batch_size=batch_size,train_dataloader=train_dataloader, val_dataloader=val_dataloader, \n",
    "                        optimizer=optimizer, loss_fn=loss_fn, lr_scheduler=lr_scheduler, num_classes=num_classes, epochs=epochs, experiment_num=fold, device=device,\n",
    "                        writer=None, early_stop_patience = patience)\n",
    "    \n",
    "    del train_indices, val_indices, train_image_set, train_label_set, train_hash_id, train_species_set, val_image_set, val_label_set, val_hash_id, val_species_set,\n",
    "    train_dataset, val_dataset, sampler, train_dataloader, val_dataloader, model, loss_fn, optimizer, lr_scheduler\n",
    "    \n",
    "    #finish the wandb run\n",
    "    wandb.finish()\n",
    "    print(\"Deleting variables and emptying cache\")\n",
    "    gc.collect()\n",
    "    torch.cuda.empty_cache()\n",
    "    print(f\"Memory allocated: {torch.cuda.memory_allocated()} bytes\")\n",
    "    print(\"-\"*50 + \"\\n\")"
   ]
  },
  {
   "cell_type": "markdown",
   "id": "fa4aa041",
   "metadata": {},
   "source": [
    "#### Create test dataset and test dataloader "
   ]
  },
  {
   "cell_type": "code",
   "execution_count": null,
   "id": "c0c36ebb",
   "metadata": {},
   "outputs": [],
   "source": [
    "test_dataset = data_loader.FilteredTestDataset(\n",
    "    data = test_image_set,\n",
    "    labels = test_label_set,\n",
    "    class_names=class_names, \n",
    "    species = test_species_set,\n",
    "    kkl = None,\n",
    "    transform=transform\n",
    ")\n",
    "\n",
    "# create test dataloader\n",
    "test_dataloader = DataLoader(test_dataset,\n",
    "                             batch_size=batch_size,\n",
    "                             persistent_workers=True,\n",
    "                             pin_memory=True,\n",
    "                             num_workers=NUM_WORKERS,\n",
    "                             shuffle=False,\n",
    "                             drop_last=False)\n",
    "\n",
    "\n"
   ]
  },
  {
   "cell_type": "markdown",
   "id": "22cdaac7",
   "metadata": {},
   "source": [
    "#### Perform ensembling of the five best models"
   ]
  },
  {
   "cell_type": "code",
   "execution_count": null,
   "id": "c8db02be",
   "metadata": {},
   "outputs": [],
   "source": []
  },
  {
   "cell_type": "code",
   "execution_count": 36,
   "id": "67db5af2",
   "metadata": {},
   "outputs": [
    {
     "name": "stdout",
     "output_type": "stream",
     "text": [
      "Loaded pretrained weights for efficientnet-b7\n",
      "Loaded pretrained weights for efficientnet-b7\n",
      "Loaded pretrained weights for efficientnet-b7\n",
      "Loaded pretrained weights for efficientnet-b7\n",
      "Loaded pretrained weights for efficientnet-b7\n",
      "              precision    recall  f1-score   support\n",
      "\n",
      "           0       0.77      0.84      0.80       338\n",
      "           1       0.68      0.52      0.59       147\n",
      "           2       0.35      0.58      0.44       107\n",
      "           3       0.61      0.48      0.54       166\n",
      "           4       0.67      0.74      0.70        19\n",
      "           5       0.75      0.40      0.52        15\n",
      "           6       0.63      0.71      0.67        76\n",
      "           7       0.56      0.68      0.61        44\n",
      "           8       0.80      0.59      0.68        61\n",
      "           9       0.58      0.55      0.56        20\n",
      "          10       0.68      0.38      0.49        45\n",
      "          11       0.60      0.15      0.24        20\n",
      "          12       0.62      0.77      0.69        13\n",
      "          13       0.97      0.97      0.97        31\n",
      "\n",
      "    accuracy                           0.65      1102\n",
      "   macro avg       0.66      0.60      0.61      1102\n",
      "weighted avg       0.67      0.65      0.65      1102\n",
      "\n",
      "[[285  33  12   3   2   1   1   0   0   0   1   0   0   0]\n",
      " [ 60  77   3   5   0   0   0   0   0   0   2   0   0   0]\n",
      " [  3   0  62  41   0   0   0   0   0   0   1   0   0   0]\n",
      " [  4   1  77  80   0   0   0   0   0   0   3   0   1   0]\n",
      " [  2   0   1   0  14   1   0   1   0   0   0   0   0   0]\n",
      " [  1   1   1   0   5   6   0   1   0   0   0   0   0   0]\n",
      " [  4   0   0   0   0   0  54  14   1   0   0   1   2   0]\n",
      " [  0   0   1   0   0   0  11  30   0   0   0   0   2   0]\n",
      " [  2   0   1   0   0   0   7   6  36   8   0   1   0   0]\n",
      " [  0   0   0   0   0   0   1   1   6  11   0   0   0   1]\n",
      " [  7   2  16   3   0   0   0   0   0   0  17   0   0   0]\n",
      " [  2   0   1   0   0   0  10   1   2   0   0   3   1   0]\n",
      " [  0   0   0   0   0   0   2   0   0   0   1   0  10   0]\n",
      " [  1   0   0   0   0   0   0   0   0   0   0   0   0  30]]\n"
     ]
    }
   ],
   "source": [
    "# Setup the best model filepaths\n",
    "best_model1_path = r\"C:\\Users\\lwfeckesim\\01_PyTorch\\wze-uav\\wze-uav-master\\models\\EffNet_b7_RGB-RE-NIR-14classes-combined_plotsplit\\1_EffNet_b7_RGB-RE-NIR-14classes-combined_plotsplit_6_epochs.pth\"\n",
    "best_model2_path = r\"C:\\Users\\lwfeckesim\\01_PyTorch\\wze-uav\\wze-uav-master\\models\\EffNet_b7_RGB-RE-NIR-14classes-combined_plotsplit\\2_EffNet_b7_RGB-RE-NIR-14classes-combined_plotsplit_8_epochs.pth\"\n",
    "best_model3_path = r\"C:\\Users\\lwfeckesim\\01_PyTorch\\wze-uav\\wze-uav-master\\models\\EffNet_b7_RGB-RE-NIR-14classes-combined_plotsplit\\3_EffNet_b7_RGB-RE-NIR-14classes-combined_plotsplit_10_epochs.pth\"\n",
    "best_model4_path = r\"C:\\Users\\lwfeckesim\\01_PyTorch\\wze-uav\\wze-uav-master\\models\\EffNet_b7_RGB-RE-NIR-14classes-combined_plotsplit\\4_EffNet_b7_RGB-RE-NIR-14classes-combined_plotsplit_8_epochs.pth\"\n",
    "best_model5_path = r\"C:\\Users\\lwfeckesim\\01_PyTorch\\wze-uav\\wze-uav-master\\models\\EffNet_b7_RGB-RE-NIR-14classes-combined_plotsplit\\5_EffNet_b7_RGB-RE-NIR-14classes-combined_plotsplit_9_epochs.pth\"\n",
    "\n",
    "# Instantiate a new instance of EffNetB7 (to load the saved state_dict() to)\n",
    "#model1 = models.create_effnetb7(output_shape=num_classes, unfreeze=unfreeze, dropout_rate=dropout_rate, device=device)\n",
    "#model2 = models.create_effnetb7(output_shape=num_classes, unfreeze=unfreeze, dropout_rate=dropout_rate, device=device)\n",
    "#model3 = models.create_effnetb7(output_shape=num_classes, unfreeze=unfreeze, dropout_rate=dropout_rate, device=device)\n",
    "#model4 = models.create_effnetb7(output_shape=num_classes, unfreeze=unfreeze, dropout_rate=dropout_rate, device=device)\n",
    "#model5 = models.create_effnetb7(output_shape=num_classes, unfreeze=unfreeze, dropout_rate=dropout_rate, device=device)\n",
    "# for custom models with more than three bands as input\n",
    "model1 = model_effnet.EfficientNet.from_pretrained('efficientnet-b7', in_channels=n_bands, num_classes=num_classes, dropout_rate=dropout_rate)\n",
    "model2 = model_effnet.EfficientNet.from_pretrained('efficientnet-b7', in_channels=n_bands, num_classes=num_classes, dropout_rate=dropout_rate)\n",
    "model3 = model_effnet.EfficientNet.from_pretrained('efficientnet-b7', in_channels=n_bands, num_classes=num_classes, dropout_rate=dropout_rate)\n",
    "model4 = model_effnet.EfficientNet.from_pretrained('efficientnet-b7', in_channels=n_bands, num_classes=num_classes, dropout_rate=dropout_rate)\n",
    "model5 = model_effnet.EfficientNet.from_pretrained('efficientnet-b7', in_channels=n_bands, num_classes=num_classes, dropout_rate=dropout_rate)\n",
    "\n",
    "# Load the saved best model state_dict()\n",
    "model1.load_state_dict(torch.load(best_model1_path))\n",
    "model2.load_state_dict(torch.load(best_model2_path))\n",
    "model3.load_state_dict(torch.load(best_model3_path))\n",
    "model4.load_state_dict(torch.load(best_model4_path))\n",
    "model5.load_state_dict(torch.load(best_model5_path))\n",
    "\n",
    "model1.to(device)\n",
    "model2.to(device)\n",
    "model3.to(device)\n",
    "model4.to(device)\n",
    "model5.to(device)\n",
    "\n",
    "model1.eval()\n",
    "model2.eval()\n",
    "model3.eval()\n",
    "model4.eval()\n",
    "model5.eval()\n",
    "\n",
    "# Initialize the lists to store the predictions\n",
    "all_preds_model1 = []\n",
    "all_preds_model2 = []\n",
    "all_preds_model3 = []\n",
    "all_preds_model4 = []\n",
    "all_preds_model5 = []\n",
    "all_true_labels = []\n",
    "\n",
    "# Loop through the test dataset and generate predictions for each model\n",
    "with torch.no_grad():\n",
    "    for batch in test_dataloader:\n",
    "        inputs, labels, species = batch\n",
    "        inputs, labels, species = inputs.to(device), labels.to(device), species\n",
    "        \n",
    "        # Generate predictions for each model\n",
    "        preds_model1 = model1(inputs)\n",
    "        preds_model2 = model2(inputs)\n",
    "        preds_model3 = model3(inputs)\n",
    "        preds_model4 = model4(inputs)\n",
    "        preds_model5 = model5(inputs)\n",
    "\n",
    "        # Append the predictions to the corresponding list\n",
    "        all_preds_model1.append(preds_model1.cpu().numpy())\n",
    "        all_preds_model2.append(preds_model2.cpu().numpy())\n",
    "        all_preds_model3.append(preds_model3.cpu().numpy())\n",
    "        all_preds_model4.append(preds_model4.cpu().numpy())\n",
    "        all_preds_model5.append(preds_model5.cpu().numpy())\n",
    "        \n",
    "        all_true_labels.append(labels.cpu().numpy())\n",
    "\n",
    "# Concatenate the predictions from all the models\n",
    "all_preds_model1 = np.concatenate(all_preds_model1)\n",
    "all_preds_model2 = np.concatenate(all_preds_model2)\n",
    "all_preds_model3 = np.concatenate(all_preds_model3)\n",
    "all_preds_model4 = np.concatenate(all_preds_model4)\n",
    "all_preds_model5 = np.concatenate(all_preds_model5)\n",
    "\n",
    "all_true_labels = np.concatenate(all_true_labels)\n",
    "\n",
    "# Calculate the ensemble predictions\n",
    "ensemble_preds = np.mean([all_preds_model1, all_preds_model2, all_preds_model3, all_preds_model4, all_preds_model5], axis=0)\n",
    "ensemble_labels = np.argmax(ensemble_preds, axis=1)\n",
    "\n",
    "# Calculate the evaluation metrics for the ensemble model\n",
    "from sklearn.metrics import classification_report, confusion_matrix\n",
    "\n",
    "print(classification_report(all_true_labels, ensemble_labels))\n",
    "print(confusion_matrix(all_true_labels, ensemble_labels))\n",
    "\n",
    "\n",
    "\n",
    "\n"
   ]
  },
  {
   "cell_type": "code",
   "execution_count": 37,
   "id": "6dfbc663",
   "metadata": {},
   "outputs": [
    {
     "name": "stdout",
     "output_type": "stream",
     "text": [
      "              precision    recall  f1-score   support\n",
      "\n",
      "           0       0.77      0.84      0.80       338\n",
      "           1       0.68      0.52      0.59       147\n",
      "           2       0.35      0.58      0.44       107\n",
      "           3       0.61      0.48      0.54       166\n",
      "           4       0.67      0.74      0.70        19\n",
      "           5       0.75      0.40      0.52        15\n",
      "           6       0.63      0.71      0.67        76\n",
      "           7       0.56      0.68      0.61        44\n",
      "           8       0.80      0.59      0.68        61\n",
      "           9       0.58      0.55      0.56        20\n",
      "          10       0.68      0.38      0.49        45\n",
      "          11       0.60      0.15      0.24        20\n",
      "          12       0.62      0.77      0.69        13\n",
      "          13       0.97      0.97      0.97        31\n",
      "\n",
      "    accuracy                           0.65      1102\n",
      "   macro avg       0.66      0.60      0.61      1102\n",
      "weighted avg       0.67      0.65      0.65      1102\n",
      "\n"
     ]
    },
    {
     "data": {
      "image/png": "[encoded data removed]",
      "text/plain": [
       "<Figure size 720x504 with 1 Axes>"
      ]
     },
     "metadata": {
      "needs_background": "light"
     },
     "output_type": "display_data"
    }
   ],
   "source": [
    "import matplotlib.pyplot as plt\n",
    "import pandas as pd\n",
    "# Calculate the evaluation metrics for the ensemble model\n",
    "\n",
    "report = classification_report(all_true_labels, ensemble_labels)\n",
    "print(report)\n",
    "#print(confusion_matrix(all_true_labels, ensemble_labels))\n",
    "\n",
    "# Save the report to a file\n",
    "with open(r'C:\\Users\\lwfeckesim\\01_PyTorch\\wze-uav\\wze-uav-master\\plots\\report_RGB-RE-NIR_combined_14species_plotsplit.txt', 'w') as f:\n",
    "    f.write(report)\n",
    "\n",
    "labels = np.array([0,1,2,3,4,5,6,7,8,9,10,11,12,13])\n",
    "confmat = confusion_matrix(all_true_labels, ensemble_labels, labels=labels)\n",
    "\n",
    "# 3. Plot the confusion matrix\n",
    "fig, ax = plot_confusion_matrix(\n",
    "    conf_mat=confmat, # matplotlib likes working with NumPy \n",
    "    class_names=class_names, # turn the row and column labels into class names\n",
    "    figsize=(10, 7)\n",
    ");\n",
    "\n",
    "# add title to confusion matrix plot\n",
    "plt.title(\"Main tree species and Health Status Classification using RGB-RE-NIR Bands\", fontsize=16)\n",
    "\n",
    "fig.savefig(r'C:\\Users\\lwfeckesim\\01_PyTorch\\wze-uav\\wze-uav-master\\plots\\confmat_RGB-RE-NIR_combined_14species_plotsplit.png', dpi=300, bbox_inches='tight')\n",
    "\n",
    "# Create a DataFrame from the confusion matrix\n",
    "df_cm = pd.DataFrame(confmat)\n",
    "\n",
    "# Export the confusion matrix to a CSV file\n",
    "df_cm.to_csv(r'C:\\Users\\lwfeckesim\\01_PyTorch\\wze-uav\\wze-uav-master\\plots\\confmat_RGB-RE-NIR_combined_14species_plotsplit.csv', index=False)"
   ]
  },
  {
   "cell_type": "code",
   "execution_count": 23,
   "id": "aab9e321",
   "metadata": {},
   "outputs": [
    {
     "ename": "NameError",
     "evalue": "name 'best_model' is not defined",
     "output_type": "error",
     "traceback": [
      "\u001b[1;31m---------------------------------------------------------------------------\u001b[0m",
      "\u001b[1;31mNameError\u001b[0m                                 Traceback (most recent call last)",
      "Input \u001b[1;32mIn [23]\u001b[0m, in \u001b[0;36m<cell line: 3>\u001b[1;34m()\u001b[0m\n\u001b[0;32m      1\u001b[0m \u001b[38;5;66;03m# 2. Setup confusion matrix instance and compare predictions to targets\u001b[39;00m\n\u001b[0;32m      2\u001b[0m \u001b[38;5;66;03m#from wze_uav.analysis import *\u001b[39;00m\n\u001b[1;32m----> 3\u001b[0m y_pred_tensor, y_labels_tensor, test_loss, test_recall, test_precision, test_f1_score, test_acc, y_logit, y_pred, y, y_preds \u001b[38;5;241m=\u001b[39m make_predictions(model\u001b[38;5;241m=\u001b[39m\u001b[43mbest_model\u001b[49m,\n\u001b[0;32m      4\u001b[0m                                  test_dataloader\u001b[38;5;241m=\u001b[39mtest_dataloader, \n\u001b[0;32m      5\u001b[0m                                  device\u001b[38;5;241m=\u001b[39mdevice)\n\u001b[0;32m      7\u001b[0m y_labels_tensor \u001b[38;5;241m=\u001b[39m y_labels_tensor\u001b[38;5;241m.\u001b[39mdetach()\u001b[38;5;241m.\u001b[39mcpu()\u001b[38;5;241m.\u001b[39mnumpy()\n\u001b[0;32m      8\u001b[0m y_pred_tensor \u001b[38;5;241m=\u001b[39m y_pred_tensor\u001b[38;5;241m.\u001b[39mdetach()\u001b[38;5;241m.\u001b[39mcpu()\u001b[38;5;241m.\u001b[39mnumpy()\n",
      "\u001b[1;31mNameError\u001b[0m: name 'best_model' is not defined"
     ]
    }
   ],
   "source": [
    "# 2. Setup confusion matrix instance and compare predictions to targets\n",
    "#from wze_uav.analysis import *\n",
    "y_pred_tensor, y_labels_tensor, test_loss, test_recall, test_precision, test_f1_score, test_acc, y_logit, y_pred, y, y_preds = make_predictions(model=best_model,\n",
    "                                 test_dataloader=test_dataloader, \n",
    "                                 device=device)\n",
    "\n",
    "y_labels_tensor = y_labels_tensor.detach().cpu().numpy()\n",
    "y_pred_tensor = y_pred_tensor.detach().cpu().numpy()\n",
    "\n",
    "#confmat = ConfusionMatrix(num_classes=num_classes, task='multiclass')\n",
    "#confmat_tensor = confmat(preds=y_pred_tensor,\n",
    "#                         target=test_labels)\n",
    "labels = np.array([0,1,2])\n",
    "confmat = confusion_matrix(y_labels_tensor, y_pred_tensor, labels=labels)\n",
    "\n",
    "# 3. Plot the confusion matrix\n",
    "fig, ax = plot_confusion_matrix(\n",
    "    conf_mat=confmat, # matplotlib likes working with NumPy \n",
    "    class_names=class_names, # turn the row and column labels into class names\n",
    "    figsize=(10, 7)\n",
    ");\n",
    "\n",
    "print(f\"Test loss: {test_loss}\")\n",
    "print(f\"Test precision: {test_precision}\")\n",
    "print(f\"Test recall: {test_recall}\")\n",
    "print(f\"Test F1score: {test_f1_score}\")\n",
    "#print(f\"Test Kappa: {test_kappa}\")\n",
    "print(f\"Test Accuracy: {test_acc}\")\n",
    "print(f\"Test Logits: {y_logit}\")\n",
    "print(f\"Test Predictions: {y_pred}\")\n",
    "print(f\"Test Labels: {y}\")"
   ]
  },
  {
   "cell_type": "code",
   "execution_count": null,
   "id": "8d4173b3",
   "metadata": {},
   "outputs": [],
   "source": [
    "len(y_preds)"
   ]
  },
  {
   "cell_type": "code",
   "execution_count": null,
   "id": "7588116f",
   "metadata": {},
   "outputs": [],
   "source": [
    "y_set.cpu()"
   ]
  },
  {
   "cell_type": "code",
   "execution_count": null,
   "id": "1c195b3e",
   "metadata": {},
   "outputs": [],
   "source": [
    "test_dataset.labels"
   ]
  },
  {
   "cell_type": "code",
   "execution_count": null,
   "id": "975ec08c",
   "metadata": {},
   "outputs": [],
   "source": []
  },
  {
   "cell_type": "code",
   "execution_count": null,
   "id": "6da05604",
   "metadata": {},
   "outputs": [],
   "source": [
    "y_preds = []\n",
    "y_labels = []\n",
    "labels = np.array([0,1,2])\n",
    "test_loss, test_precision, test_recall, test_f1_score, test_acc = 0, 0, 0, 0, 0\n",
    "count = 0\n",
    "model.eval()\n",
    "with torch.inference_mode():\n",
    "    for X, y in tqdm(test_dataloader, desc=\"Making predictions\"):\n",
    "        # Send data and targets to target device\n",
    "        X, y = X.to(device), y.to(device)\n",
    "        # Do the forward pass\n",
    "        y_logit = model(X)\n",
    "        # Turn predictions from logits -> prediction probabilities -> predictions labels\n",
    "        y_pred = torch.softmax(y_logit, dim=1).argmax(dim=1)\n",
    "        # Put predictions on CPU for evaluation\n",
    "        y_preds.append(y_pred.cpu())\n",
    "        y_labels.append(y.cpu())\n",
    "        \n",
    "        #other metrics\n",
    "        test_acc += ((y_pred == y).sum().item()/len(y_pred))\n",
    "        y_pred_class = y_pred.detach().cpu().numpy() \n",
    "        y_class = y.detach().cpu().numpy()\n",
    "        test_precision += precision_score(y_class, y_pred_class, average='macro', zero_division=1, labels=labels)\n",
    "        test_recall += recall_score(y_class, y_pred_class, average='macro', zero_division=1, labels=labels)\n",
    "        #test_f1_score += f1_score(y_class, y_pred_class, average='macro', zero_division=1, labels=labels)\n",
    "        \n",
    "        #if count >= 1:\n",
    "        #    y_set = torch.cat((y_set, y))\n",
    "        #    count = count + 1\n",
    "        #else:\n",
    "        #    y_set = y\n",
    "        #    count = count + 1\n",
    "        \n",
    "test_loss = test_loss / len(test_dataloader)\n",
    "test_precision = test_precision / len(test_dataloader)\n",
    "test_recall = test_recall / len(test_dataloader)\n",
    "#test_f1_score = test_f1_score / len(test_dataloader)\n",
    "#test_kappa = test_kappa / len(dataloader)\n",
    "test_acc = test_acc / len(test_dataloader)\n",
    "# Concatenate list of predictions into a tensor\n",
    "y_pred_tensor = torch.cat(y_preds)\n",
    "test_f1_score = f1_score(y_set.detach().cpu().numpy(), y_pred_tensor.cpu().numpy(), average='macro', zero_division=0, labels=[0,1,2])\n",
    "\n",
    "# Print classification report\n",
    "y_true = y_set.detach().cpu().numpy()\n",
    "report = classification_report(y_true, y_pred_tensor.cpu().numpy(), target_names=class_names)\n",
    "print(report)"
   ]
  },
  {
   "cell_type": "code",
   "execution_count": null,
   "id": "6ae97fab",
   "metadata": {},
   "outputs": [],
   "source": [
    "test_f1_score"
   ]
  },
  {
   "cell_type": "code",
   "execution_count": null,
   "id": "7ebafd9b",
   "metadata": {},
   "outputs": [],
   "source": [
    "make = (y_class == y_pred_class)\n",
    "make"
   ]
  },
  {
   "cell_type": "code",
   "execution_count": null,
   "id": "4f8aa759",
   "metadata": {},
   "outputs": [],
   "source": [
    "torch.softmax(y_logit, dim=1).argmax(dim=1)"
   ]
  },
  {
   "cell_type": "code",
   "execution_count": null,
   "id": "f90a54b2",
   "metadata": {},
   "outputs": [],
   "source": [
    "y"
   ]
  },
  {
   "cell_type": "code",
   "execution_count": null,
   "id": "5a806154",
   "metadata": {},
   "outputs": [],
   "source": [
    "test = (y_pred == y).sum().item()/16"
   ]
  },
  {
   "cell_type": "code",
   "execution_count": null,
   "id": "1da35c56",
   "metadata": {},
   "outputs": [],
   "source": [
    "test"
   ]
  },
  {
   "cell_type": "code",
   "execution_count": null,
   "id": "b1eb246e",
   "metadata": {},
   "outputs": [],
   "source": [
    " y_pred_class = y_pred.detach().cpu().numpy() "
   ]
  },
  {
   "cell_type": "code",
   "execution_count": null,
   "id": "602e096f",
   "metadata": {},
   "outputs": [],
   "source": [
    "y_pred_class"
   ]
  },
  {
   "cell_type": "code",
   "execution_count": null,
   "id": "eaf1af09",
   "metadata": {},
   "outputs": [],
   "source": []
  }
 ],
 "metadata": {
  "kernelspec": {
   "display_name": "Python 3 (ipykernel)",
   "language": "python",
   "name": "python3"
  },
  "language_info": {
   "codemirror_mode": {
    "name": "ipython",
    "version": 3
   },
   "file_extension": ".py",
   "mimetype": "text/x-python",
   "name": "python",
   "nbconvert_exporter": "python",
   "pygments_lexer": "ipython3",
   "version": "3.9.16"
  }
 },
 "nbformat": 4,
 "nbformat_minor": 5
}
