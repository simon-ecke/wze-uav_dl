{
 "cells": [
  {
   "cell_type": "markdown",
   "id": "c1acdaa3",
   "metadata": {},
   "source": [
    "# WZE-UAV Image Classification using Deep Learning"
   ]
  },
  {
   "cell_type": "code",
   "execution_count": 1,
   "id": "2159aac5",
   "metadata": {},
   "outputs": [],
   "source": [
    "import os\n",
    "import gc\n",
    "import glob\n",
    "import numpy as np\n",
    "from pathlib import Path\n",
    "from tqdm.auto import tqdm\n",
    "from sklearn.metrics import confusion_matrix, classification_report\n",
    "from sklearn.model_selection import KFold"
   ]
  },
  {
   "cell_type": "code",
   "execution_count": 2,
   "id": "0026f7a9",
   "metadata": {},
   "outputs": [],
   "source": [
    "import torch\n",
    "import torchvision.transforms as T\n",
    "import torchvision\n",
    "from torch import nn\n",
    "from torch.utils.data import DataLoader\n",
    "from torchvision import datasets, transforms\n",
    "from torch.utils.data import Dataset\n",
    "import torch.optim as optim\n",
    "from torch.optim.lr_scheduler import ExponentialLR\n",
    "from mlxtend.plotting import plot_confusion_matrix"
   ]
  },
  {
   "cell_type": "code",
   "execution_count": 3,
   "id": "b160d7b4",
   "metadata": {},
   "outputs": [],
   "source": [
    "import wze_uav.data_loader as data_loader\n",
    "import wze_uav.models as models\n",
    "from wze_uav.engine import *\n",
    "from wze_uav.utils2 import *\n",
    "#from wze_uav.log_writer import create_writer\n",
    "from wze_uav.datasplit import *\n",
    "from efficientnet import model_effnet #for custom effnet with n_channels input\n",
    "import wandb"
   ]
  },
  {
   "cell_type": "markdown",
   "id": "2bd4fb2f",
   "metadata": {},
   "source": [
    "#### Get PyTorch version"
   ]
  },
  {
   "cell_type": "code",
   "execution_count": 4,
   "id": "c10886b1",
   "metadata": {},
   "outputs": [
    {
     "name": "stdout",
     "output_type": "stream",
     "text": [
      "torch version: 1.13.1+cu116\n",
      "torchvision version: 0.14.1+cu116\n"
     ]
    }
   ],
   "source": [
    "print(f\"torch version: {torch.__version__}\")\n",
    "print(f\"torchvision version: {torchvision.__version__}\")"
   ]
  },
  {
   "cell_type": "markdown",
   "id": "aa6a83cf",
   "metadata": {},
   "source": [
    "#### Preparing device agnostic code "
   ]
  },
  {
   "cell_type": "code",
   "execution_count": 5,
   "id": "13d5de88",
   "metadata": {},
   "outputs": [
    {
     "name": "stdout",
     "output_type": "stream",
     "text": [
      "cuda\n",
      "Index of current divice: 0\n",
      "Number of GPUs available: 1\n",
      "GPU Model: Quadro RTX 8000\n"
     ]
    }
   ],
   "source": [
    "# ensure device agnostic code\n",
    "device = 'cuda' if torch.cuda.is_available() else 'cpu'\n",
    "print(device)\n",
    "\n",
    "# get index of currently selected device\n",
    "print(f\"Index of current divice: {torch.cuda.current_device()}\")\n",
    "# get number of GPUs available\n",
    "print(f\"Number of GPUs available: {torch.cuda.device_count()}\")\n",
    "# get the name of the device\n",
    "print(f\"GPU Model: {torch.cuda.get_device_name(0)}\")"
   ]
  },
  {
   "cell_type": "markdown",
   "id": "8ef6b169",
   "metadata": {},
   "source": [
    "#### Login to Weights & Biases to track results"
   ]
  },
  {
   "cell_type": "code",
   "execution_count": 6,
   "id": "a59d27cf",
   "metadata": {},
   "outputs": [
    {
     "name": "stderr",
     "output_type": "stream",
     "text": [
      "Failed to detect the name of this notebook, you can set it manually with the WANDB_NOTEBOOK_NAME environment variable to enable code saving.\n",
      "\u001b[34m\u001b[1mwandb\u001b[0m: Currently logged in as: \u001b[33msimon-ecke\u001b[0m. Use \u001b[1m`wandb login --relogin`\u001b[0m to force relogin\n"
     ]
    },
    {
     "data": {
      "text/html": [
       "wandb version 0.15.2 is available!  To upgrade, please run:\n",
       " $ pip install wandb --upgrade"
      ],
      "text/plain": [
       "<IPython.core.display.HTML object>"
      ]
     },
     "metadata": {},
     "output_type": "display_data"
    },
    {
     "data": {
      "text/html": [
       "Tracking run with wandb version 0.14.2"
      ],
      "text/plain": [
       "<IPython.core.display.HTML object>"
      ]
     },
     "metadata": {},
     "output_type": "display_data"
    },
    {
     "data": {
      "text/html": [
       "Run data is saved locally in <code>C:\\Users\\lwfeckesim\\01_PyTorch\\wze-uav\\wze-uav-master\\wandb\\run-20230512_103015-c3u55dq5</code>"
      ],
      "text/plain": [
       "<IPython.core.display.HTML object>"
      ]
     },
     "metadata": {},
     "output_type": "display_data"
    },
    {
     "data": {
      "text/html": [
       "Syncing run <strong><a href='https://wandb.ai/simon-ecke/wze-uav-combined/runs/c3u55dq5' target=\"_blank\">copper-pyramid-44</a></strong> to <a href='https://wandb.ai/simon-ecke/wze-uav-combined' target=\"_blank\">Weights & Biases</a> (<a href='https://wandb.me/run' target=\"_blank\">docs</a>)<br/>"
      ],
      "text/plain": [
       "<IPython.core.display.HTML object>"
      ]
     },
     "metadata": {},
     "output_type": "display_data"
    },
    {
     "data": {
      "text/html": [
       " View project at <a href='https://wandb.ai/simon-ecke/wze-uav-combined' target=\"_blank\">https://wandb.ai/simon-ecke/wze-uav-combined</a>"
      ],
      "text/plain": [
       "<IPython.core.display.HTML object>"
      ]
     },
     "metadata": {},
     "output_type": "display_data"
    },
    {
     "data": {
      "text/html": [
       " View run at <a href='https://wandb.ai/simon-ecke/wze-uav-combined/runs/c3u55dq5' target=\"_blank\">https://wandb.ai/simon-ecke/wze-uav-combined/runs/c3u55dq5</a>"
      ],
      "text/plain": [
       "<IPython.core.display.HTML object>"
      ]
     },
     "metadata": {},
     "output_type": "display_data"
    },
    {
     "data": {
      "text/html": [
       "<button onClick=\"this.nextSibling.style.display='block';this.style.display='none';\">Display W&B run</button><iframe src='https://wandb.ai/simon-ecke/wze-uav-combined/runs/c3u55dq5?jupyter=true' style='border:none;width:100%;height:420px;display:none;'></iframe>"
      ],
      "text/plain": [
       "<wandb.sdk.wandb_run.Run at 0x170e7afa760>"
      ]
     },
     "execution_count": 6,
     "metadata": {},
     "output_type": "execute_result"
    }
   ],
   "source": [
    "# IMPORTANT: The proxy needs to be set in anaconda!\n",
    "# copy paste this in anaconda and restart jupyter notebook\n",
    "#set http_proxy=http://www-proxy.bayern.de:80\n",
    "#set https_proxy=http://www-proxy.bayern.de:80\n",
    "wandb.login()\n",
    "#wandb.init(settings=wandb.Settings(start_method=\"thread\"))\n",
    "wandb.init(project='wze-uav-combined', entity='simon-ecke')"
   ]
  },
  {
   "cell_type": "markdown",
   "id": "a26a6a34",
   "metadata": {},
   "source": [
    "#### Ensure reproducibility "
   ]
  },
  {
   "cell_type": "code",
   "execution_count": 7,
   "id": "dd4656a7",
   "metadata": {},
   "outputs": [],
   "source": [
    "# for more information, see also: https://pytorch.org/docs/stable/notes/randomness.html\n",
    "\n",
    "# Set seeds\n",
    "def set_seeds(seed: int=42):\n",
    "    \"\"\"Sets random sets for torch operations.\n",
    "\n",
    "    Args:\n",
    "        seed (int, optional): Random seed to set. Defaults to 42.\n",
    "    \"\"\"\n",
    "    # Set the seed for general torch operations\n",
    "    torch.manual_seed(seed)\n",
    "    # Set the seed for CUDA torch operations (ones that happen on the GPU)\n",
    "    torch.cuda.manual_seed(seed)\n",
    "    # seed for numpy\n",
    "    np.random.seed(seed)\n",
    "\n",
    "set_seeds(42) \n",
    "\n",
    "# Set to true -> might speed up the process but should be set to False if reproducible results are desired\n",
    "torch.backends.cudnn.benchmark = False\n"
   ]
  },
  {
   "cell_type": "markdown",
   "id": "8be33671",
   "metadata": {},
   "source": [
    "#### Define file directory"
   ]
  },
  {
   "cell_type": "code",
   "execution_count": 8,
   "id": "30645f36",
   "metadata": {},
   "outputs": [],
   "source": [
    "#####################################################################################\n",
    "# 3 channel input (r-g-b)\n",
    "#data_path = r\"D:\\Drohnendaten\\10_WZE-UAV\\Auswertung_findatree\\Datasplit\\ROI\\rgb\"\n",
    "\n",
    "# 4 channel input (r-g-b-nir)\n",
    "#data_path = r\"D:\\Drohnendaten\\10_WZE-UAV\\Auswertung_findatree\\Datasplit\\ROI\\rgb-nir\"\n",
    "\n",
    "# 5 channel input (r-g-b-re-nir)\n",
    "#data_path = r\"D:\\Drohnendaten\\10_WZE-UAV\\Auswertung_findatree\\Datasplit\\ROI\\rgb-re-nir\"\n",
    "\n",
    "# 6 channel input (r-g-b-re-nir)\n",
    "data_path = r\"D:\\Drohnendaten\\10_WZE-UAV\\Auswertung_findatree\\Datasplit\\ROI\\rgb-re-nir-chm\"\n",
    "\n",
    "#####################################################################################"
   ]
  },
  {
   "cell_type": "markdown",
   "id": "4560ce64",
   "metadata": {},
   "source": [
    "#### Get all file paths"
   ]
  },
  {
   "cell_type": "code",
   "execution_count": 9,
   "id": "aa072e4c",
   "metadata": {},
   "outputs": [],
   "source": [
    "fn_list = os.listdir(data_path)\n",
    "path_list = []\n",
    "# Iterate over all datafiles\n",
    "for year in fn_list:\n",
    "    year_dir = f'{data_path}\\\\{year}'\n",
    "    for filename in os.listdir(year_dir):\n",
    "        path = f'{year_dir}\\\\{filename}'\n",
    "        path_list.append(path)"
   ]
  },
  {
   "cell_type": "markdown",
   "id": "f3937a44",
   "metadata": {},
   "source": [
    "#### Create unique hash IDs for every individual tree"
   ]
  },
  {
   "cell_type": "code",
   "execution_count": 10,
   "id": "8a50f1d7",
   "metadata": {},
   "outputs": [
    {
     "data": {
      "application/vnd.jupyter.widget-view+json": {
       "model_id": "7dcc4753de06443ab6df3f0905d0faa6",
       "version_major": 2,
       "version_minor": 0
      },
      "text/plain": [
       "Creating unique tree IDs...:   0%|          | 0/647 [00:00<?, ?it/s]"
      ]
     },
     "metadata": {},
     "output_type": "display_data"
    }
   ],
   "source": [
    "hashID_dict = data_loader.get_unique_treeID(path_list)"
   ]
  },
  {
   "cell_type": "markdown",
   "id": "6f4cea00",
   "metadata": {},
   "source": [
    "#### Import all imagery, labels and other features from hdf5 files"
   ]
  },
  {
   "cell_type": "code",
   "execution_count": 11,
   "id": "94e3eecf",
   "metadata": {},
   "outputs": [
    {
     "data": {
      "application/vnd.jupyter.widget-view+json": {
       "model_id": "c9bb2977e4774dc88c9ec8d383add0a0",
       "version_major": 2,
       "version_minor": 0
      },
      "text/plain": [
       "Processing hdf5 datasets:   0%|          | 0/647 [00:00<?, ?it/s]"
      ]
     },
     "metadata": {},
     "output_type": "display_data"
    }
   ],
   "source": [
    "image_set, label_set, species_set, kkl_set, bk_set, hash_id = data_loader.hdf5_to_img_label_5species(path_list,\n",
    "                                                                                               hashID_dict,\n",
    "                                                                                               load_sets=[\"images_masked\"])"
   ]
  },
  {
   "cell_type": "markdown",
   "id": "6a90e2b7",
   "metadata": {},
   "source": [
    "#### Convert nbv to classes"
   ]
  },
  {
   "cell_type": "code",
   "execution_count": 12,
   "id": "0224972a",
   "metadata": {},
   "outputs": [],
   "source": [
    "nbv_set = label_set\n",
    "label_set = combined_to_classes(species_set, nbv_set)"
   ]
  },
  {
   "cell_type": "markdown",
   "id": "c6b4cd85",
   "metadata": {},
   "source": [
    "#### Split data into a sub set and a test dataset"
   ]
  },
  {
   "cell_type": "code",
   "execution_count": 13,
   "id": "d06eda54",
   "metadata": {},
   "outputs": [
    {
     "name": "stdout",
     "output_type": "stream",
     "text": [
      "ORIGINAL POSITIVE RATIO: 2.9288929440389295\n",
      "Fold : 0\n",
      "TRAIN POSITIVE RATIO: 2.9223584354932868\n",
      "TEST POSITIVE RATIO : 2.9616228070175437\n",
      "LENGTH TRAIN GROUPS : 5197\n",
      "LENGTH TEST GROUPS  : 1037\n",
      "Number of True in sub_indices: 13704\n",
      "Number of False in sub_indices: 2736\n",
      "Number of True in test_indices: 1037\n",
      "Number of False in test_indices: 15403\n",
      "Check shapes:\n",
      "\n",
      "Images sub dataset: (13704, 250, 250, 6)\n",
      "Labels sub dataset: (13704, 1)\n",
      "\n",
      "Images test dataset: (1037, 250, 250, 6)\n",
      "Labels test dataset: (1037, 1)\n",
      "\n",
      "--------------------------------------------------\n",
      "Check if the split was stratified: (random_state=42)\n",
      "Healthy trees in sub dataset: 3722\n",
      "Stressed trees in sub dataset: 1941\n",
      "Dead trees in sub dataset: 1810\n",
      "Healthy trees in test dataset: 289\n",
      "Stressed trees in test dataset: 167\n",
      "Dead trees in test dataset: 121\n",
      "Ratio health trees in test dataset: 0.07764642665233745\n",
      "Ratio stressed trees in test dataset: 0.08603812467800102\n",
      "Ratio dead trees in test dataset: 0.06685082872928177\n"
     ]
    }
   ],
   "source": [
    "sub_image_set, sub_label_set, sub_hash_id, sub_species_set, test_image_set, test_label_set, test_hash_id, test_species_set = data_split(image_set, label_set, hash_id, species_set, n_splits=6, random_state=42, seed=2)\n"
   ]
  },
  {
   "cell_type": "markdown",
   "id": "c48fbb5b",
   "metadata": {},
   "source": [
    "#### Check if any hash ID is in both sub and test dataset"
   ]
  },
  {
   "cell_type": "code",
   "execution_count": 14,
   "id": "874367cf",
   "metadata": {},
   "outputs": [
    {
     "name": "stdout",
     "output_type": "stream",
     "text": [
      "There are no hash_id values in both train and test datasets. The datasplit was successful\n"
     ]
    }
   ],
   "source": [
    "hash_set = set(sub_hash_id[:,0].flatten())\n",
    "test_hash_set = set(test_hash_id[:,0].flatten())\n",
    "intersection = hash_set.intersection(test_hash_set)\n",
    "if intersection:\n",
    "    print(f\"Hash_id values in both train and test sets: {len(intersection)}\")\n",
    "else:\n",
    "    print(\"There are no hash_id values in both train and test datasets. The datasplit was successful\")"
   ]
  },
  {
   "cell_type": "markdown",
   "id": "9e5b64d4",
   "metadata": {},
   "source": [
    "#### Check feature distribution of the Test dataset"
   ]
  },
  {
   "cell_type": "code",
   "execution_count": 15,
   "id": "a33ff5cb",
   "metadata": {},
   "outputs": [
    {
     "name": "stdout",
     "output_type": "stream",
     "text": [
      "Test dataset\n",
      "Test data Picea abies healthy: 289\n",
      "Test data Picea abies stressed: 167\n",
      "Test data Pinus sylvestris healthy: 121\n",
      "Test data Pinus sylvestris stressed: 135\n",
      "Test data Abies alba healthy: 30\n",
      "Test data Abies alba stressed: 13\n",
      "Test data Fagus sylvatica healthy: 96\n",
      "Test data Fagus sylvatica stressed: 79\n",
      "Test data Quercus robur/petraea healthy: 58\n",
      "Test data Quercus robur/petraea stressed: 26\n",
      "Test data dead trees: 23\n",
      "--------------------------------------------------\n",
      "Remaining dataset\n",
      "Remaining data Picea abies healthy: 3722\n",
      "Remaining data Picea abies stressed: 1941\n",
      "Remaining data Pinus sylvestris healthy: 1810\n",
      "Remaining data Pinus sylvestris stressed: 2159\n",
      "Remaining data Abies alba healthy: 405\n",
      "Remaining data Abies alba stressed: 160\n",
      "Remaining data Fagus sylvatica healthy: 1230\n",
      "Remaining data Fagus sylvatica stressed: 883\n",
      "Remaining data Quercus robur/petraea healthy: 739\n",
      "Remaining data Quercus robur/petraea stressed: 433\n",
      "Remaining data dead trees: 222\n",
      "--------------------------------------------------\n"
     ]
    }
   ],
   "source": [
    "def count_occurrences(data, value):\n",
    "    count = 0\n",
    "    for item in data:\n",
    "        if item == value:\n",
    "            count += 1\n",
    "    return count\n",
    "\n",
    "print(\"Test dataset\")\n",
    "print(f\"Test data Picea abies healthy: {count_occurrences(test_label_set, 0)}\")\n",
    "print(f\"Test data Picea abies stressed: {count_occurrences(test_label_set, 1)}\")\n",
    "print(f\"Test data Pinus sylvestris healthy: {count_occurrences(test_label_set, 2)}\")\n",
    "print(f\"Test data Pinus sylvestris stressed: {count_occurrences(test_label_set, 3)}\")\n",
    "print(f\"Test data Abies alba healthy: {count_occurrences(test_label_set, 4)}\")\n",
    "print(f\"Test data Abies alba stressed: {count_occurrences(test_label_set, 5)}\")\n",
    "print(f\"Test data Fagus sylvatica healthy: {count_occurrences(test_label_set, 6)}\")\n",
    "print(f\"Test data Fagus sylvatica stressed: {count_occurrences(test_label_set, 7)}\")\n",
    "print(f\"Test data Quercus robur/petraea healthy: {count_occurrences(test_label_set, 8)}\")\n",
    "print(f\"Test data Quercus robur/petraea stressed: {count_occurrences(test_label_set, 9)}\")\n",
    "print(f\"Test data dead trees: {count_occurrences(test_label_set, 10)}\")\n",
    "print(\"-\"*50)\n",
    "\n",
    "print(\"Remaining dataset\")\n",
    "print(f\"Remaining data Picea abies healthy: {count_occurrences(sub_label_set, 0)}\")\n",
    "print(f\"Remaining data Picea abies stressed: {count_occurrences(sub_label_set, 1)}\")\n",
    "print(f\"Remaining data Pinus sylvestris healthy: {count_occurrences(sub_label_set, 2)}\")\n",
    "print(f\"Remaining data Pinus sylvestris stressed: {count_occurrences(sub_label_set, 3)}\")\n",
    "print(f\"Remaining data Abies alba healthy: {count_occurrences(sub_label_set, 4)}\")\n",
    "print(f\"Remaining data Abies alba stressed: {count_occurrences(sub_label_set, 5)}\")\n",
    "print(f\"Remaining data Fagus sylvatica healthy: {count_occurrences(sub_label_set, 6)}\")\n",
    "print(f\"Remaining data Fagus sylvatica stressed: {count_occurrences(sub_label_set, 7)}\")\n",
    "print(f\"Remaining data Quercus robur/petraea healthy: {count_occurrences(sub_label_set, 8)}\")\n",
    "print(f\"Remaining data Quercus robur/petraea stressed: {count_occurrences(sub_label_set, 9)}\")\n",
    "print(f\"Remaining data dead trees: {count_occurrences(sub_label_set, 10)}\")\n",
    "print(\"-\"*50)"
   ]
  },
  {
   "cell_type": "code",
   "execution_count": 16,
   "id": "e08fcf57",
   "metadata": {},
   "outputs": [],
   "source": [
    "# train transform with augmentation. \n",
    "transform_train = transforms.Compose([transforms.ToTensor(), transforms.RandomHorizontalFlip(p=0.5), transforms.RandomVerticalFlip(p=0.5),\n",
    "                                      transforms.RandomRotation(degrees=[0,360])])\n",
    "\n",
    "# test and val dataset transform without augmentation. \n",
    "transform = transforms.Compose([transforms.ToTensor()])\n",
    "\n",
    "# class names need to fit the customDataset class used e.g. 3 classes -> use CustomDataset3Classes\n",
    "#class_names = ['healthy', 'slightly_stressed', 'moderately_stressed', 'highly_stressed', 'dead']\n",
    "#class_names = ['healthy', 'moderately_stressed', 'highly_stressed', 'dead']\n",
    "#class_names = ['healthy', 'moderate stress', 'severe stress', 'dead']\n",
    "class_names = ['Picea abies healthy', 'Picea abies stressed', 'Pinus sylvestris healthy', 'Pinus sylvestris stressed', \n",
    "               'Abies alba healthy', 'Abies alba stressed', 'Fagus sylvatica healthy', 'Fagus sylvatica stressed',\n",
    "               'Quercus robur/petraea healthy', 'Quercus robur/petraea stressed', 'dead trees']\n",
    "\n",
    "# set seeds\n",
    "g = torch.Generator()\n",
    "g.manual_seed(42)\n",
    "NUM_WORKERS=3 # should be changed, depending on the system used\n",
    "batch_size=32"
   ]
  },
  {
   "cell_type": "markdown",
   "id": "31779c05",
   "metadata": {},
   "source": [
    "#### Define variables and parameters"
   ]
  },
  {
   "cell_type": "code",
   "execution_count": 17,
   "id": "10ae4379",
   "metadata": {},
   "outputs": [
    {
     "name": "stdout",
     "output_type": "stream",
     "text": [
      "Memory allocated: 0 bytes\n"
     ]
    }
   ],
   "source": [
    "# 1. Define number of epochs\n",
    "epochs = 50\n",
    "n_bands = sub_image_set[0].shape[2] # get number of bands\n",
    "\n",
    "# 2. Define model\n",
    "num_classes = len(class_names)\n",
    "unfreeze = True # all layer weights get updated\n",
    "dropout_rate = 0.5 #define dropout rate\n",
    "model_name = \"EffNet_b7_RGB-RE-NIR-CHM-5species-combined\"\n",
    "\n",
    "# 3. Define loss, optimizer and learning rate scheduler\n",
    "lr = 0.001 # define learning rate\n",
    "min_lr = 1e-6 # minimum learning rate threshold\n",
    "gamma = 0.75 # how fast the learning rate decreases per epoch (low number=faster decrease)\n",
    "patience = 10\n",
    "\n",
    "# 4. Create target folder name were to save the tensorboard event files\n",
    "experiment_name = 'RGB-RE-NIR-CHM-5species-combined'\n",
    "extra = \"RGB-RE-NIR-CHM-5species-combined\"\n",
    "\n",
    "#----------------------------------------------------------------------\n",
    "#torch.cuda.empty_cache()\n",
    "print(f\"Memory allocated: {torch.cuda.memory_allocated()} bytes\") "
   ]
  },
  {
   "cell_type": "markdown",
   "id": "09768b1a",
   "metadata": {},
   "source": [
    "#### Run k-Fold cross-validation on EfficientNet"
   ]
  },
  {
   "cell_type": "code",
   "execution_count": null,
   "id": "9c29c81d",
   "metadata": {},
   "outputs": [
    {
     "name": "stdout",
     "output_type": "stream",
     "text": [
      "ORIGINAL POSITIVE RATIO: 2.9223584354932868\n",
      "Fold : 1\n",
      "TRAIN POSITIVE RATIO: 2.921033478893741\n",
      "VAL POSITIVE RATIO  : 2.9277286135693217\n",
      "LENGTH TRAIN GROUPS : 4158\n",
      "LENGTH VAL GROUPS   : 1039\n"
     ]
    },
    {
     "data": {
      "text/html": [
       "Finishing last run (ID:c3u55dq5) before initializing another..."
      ],
      "text/plain": [
       "<IPython.core.display.HTML object>"
      ]
     },
     "metadata": {},
     "output_type": "display_data"
    },
    {
     "data": {
      "text/html": [
       "Waiting for W&B process to finish... <strong style=\"color:green\">(success).</strong>"
      ],
      "text/plain": [
       "<IPython.core.display.HTML object>"
      ]
     },
     "metadata": {},
     "output_type": "display_data"
    },
    {
     "data": {
      "text/html": [
       " View run <strong style=\"color:#cdcd00\">copper-pyramid-44</strong> at: <a href='https://wandb.ai/simon-ecke/wze-uav-combined/runs/c3u55dq5' target=\"_blank\">https://wandb.ai/simon-ecke/wze-uav-combined/runs/c3u55dq5</a><br/>Synced 5 W&B file(s), 0 media file(s), 0 artifact file(s) and 0 other file(s)"
      ],
      "text/plain": [
       "<IPython.core.display.HTML object>"
      ]
     },
     "metadata": {},
     "output_type": "display_data"
    },
    {
     "data": {
      "text/html": [
       "Find logs at: <code>.\\wandb\\run-20230512_103015-c3u55dq5\\logs</code>"
      ],
      "text/plain": [
       "<IPython.core.display.HTML object>"
      ]
     },
     "metadata": {},
     "output_type": "display_data"
    },
    {
     "data": {
      "text/html": [
       "Successfully finished last run (ID:c3u55dq5). Initializing new run:<br/>"
      ],
      "text/plain": [
       "<IPython.core.display.HTML object>"
      ]
     },
     "metadata": {},
     "output_type": "display_data"
    },
    {
     "data": {
      "application/vnd.jupyter.widget-view+json": {
       "model_id": "d22c45707f85491c824146b00817db88",
       "version_major": 2,
       "version_minor": 0
      },
      "text/plain": [
       "VBox(children=(Label(value='Waiting for wandb.init()...\\r'), FloatProgress(value=0.016666666666666666, max=1.0…"
      ]
     },
     "metadata": {},
     "output_type": "display_data"
    },
    {
     "data": {
      "text/html": [
       "wandb version 0.15.2 is available!  To upgrade, please run:\n",
       " $ pip install wandb --upgrade"
      ],
      "text/plain": [
       "<IPython.core.display.HTML object>"
      ]
     },
     "metadata": {},
     "output_type": "display_data"
    },
    {
     "data": {
      "text/html": [
       "Tracking run with wandb version 0.14.2"
      ],
      "text/plain": [
       "<IPython.core.display.HTML object>"
      ]
     },
     "metadata": {},
     "output_type": "display_data"
    },
    {
     "data": {
      "text/html": [
       "Run data is saved locally in <code>C:\\Users\\lwfeckesim\\01_PyTorch\\wze-uav\\wze-uav-master\\wandb\\run-20230512_120237-iv1zmwvd</code>"
      ],
      "text/plain": [
       "<IPython.core.display.HTML object>"
      ]
     },
     "metadata": {},
     "output_type": "display_data"
    },
    {
     "data": {
      "text/html": [
       "Syncing run <strong><a href='https://wandb.ai/simon-ecke/wze-uav-combined/runs/iv1zmwvd' target=\"_blank\">fold_1_RGB-RE-NIR-CHM-5species-combined</a></strong> to <a href='https://wandb.ai/simon-ecke/wze-uav-combined' target=\"_blank\">Weights & Biases</a> (<a href='https://wandb.me/run' target=\"_blank\">docs</a>)<br/>"
      ],
      "text/plain": [
       "<IPython.core.display.HTML object>"
      ]
     },
     "metadata": {},
     "output_type": "display_data"
    },
    {
     "data": {
      "text/html": [
       " View project at <a href='https://wandb.ai/simon-ecke/wze-uav-combined' target=\"_blank\">https://wandb.ai/simon-ecke/wze-uav-combined</a>"
      ],
      "text/plain": [
       "<IPython.core.display.HTML object>"
      ]
     },
     "metadata": {},
     "output_type": "display_data"
    },
    {
     "data": {
      "text/html": [
       " View run at <a href='https://wandb.ai/simon-ecke/wze-uav-combined/runs/iv1zmwvd' target=\"_blank\">https://wandb.ai/simon-ecke/wze-uav-combined/runs/iv1zmwvd</a>"
      ],
      "text/plain": [
       "<IPython.core.display.HTML object>"
      ]
     },
     "metadata": {},
     "output_type": "display_data"
    },
    {
     "name": "stdout",
     "output_type": "stream",
     "text": [
      "There are no same hash_id values in train, val or test datasets. The datasplit was successful\n",
      "Check shapes:\n",
      "\n",
      "Images train dataset: (10992, 250, 250, 6)\n",
      "Labels train dataset: (10992, 1)\n",
      "\n",
      "Images validation dataset: (1039, 250, 250, 6)\n",
      "Labels validation dataset: (1039, 1)\n",
      "\n",
      "--------------------------------------------------\n",
      "Check if the split was stratified: (random_state=42)\n",
      "Picea abies healthy in train dataset: 2974\n",
      "Picea abies stressed in train dataset: 1549\n",
      "Pinus sylvestris healthy in train dataset: 1457\n",
      "Pinus sylvestris stressed in train dataset: 1739\n",
      "Abies alba healthy in train dataset: 336\n",
      "Abies alba stressed in train dataset: 124\n",
      "Fagus sylvatica healthy in train dataset: 987\n",
      "Fagus sylvatica stressed in train dataset: 737\n",
      "Quercus robur/petraea healthy in train dataset: 585\n",
      "Quercus robur/petraea stressed in train dataset: 337\n",
      "Dead trees in train dataset: 167\n",
      "Picea abies healthy in validation dataset: 289\n",
      "Picea abies stressed in validation dataset: 165\n",
      "Pinus sylvestris healthy in validation dataset: 119\n",
      "Pinus sylvestris stressed in validation dataset: 160\n",
      "Abies alba healthy in validation dataset: 29\n",
      "Abies alba stressed in validation dataset: 14\n",
      "Fagus sylvatica healthy in validation dataset: 91\n",
      "Fagus sylvatica stressed in validation dataset: 58\n",
      "Quercus robur/petraea healthy in validation dataset: 58\n",
      "Quercus robur/petraea stressed in validation dataset: 33\n",
      "Dead trees in validation dataset: 23\n",
      "--------------------------------------------------\n",
      "\n",
      "Creating datasets for fold: 1\n",
      "\n",
      "Creating dataloaders for fold: 1\n",
      "\n",
      "Loaded pretrained weights for efficientnet-b7\n",
      "\n",
      "[INFO] Fold number: 1\n",
      "[INFO] Number of epochs: 50\n",
      "[INFO] Batch_size: 32\n",
      "[INFO] Number of bands: 6\n",
      "[INFO] Dropout rate: 0.5\n",
      "[INFO] Gamma learning rate: 0.75\n",
      "[INFO] Memory allocated: 0 bytes\n"
     ]
    },
    {
     "data": {
      "application/vnd.jupyter.widget-view+json": {
       "model_id": "823a1c0f2ce846458fc9089d3de5703e",
       "version_major": 2,
       "version_minor": 0
      },
      "text/plain": [
       "  0%|          | 0/50 [00:00<?, ?it/s]"
      ]
     },
     "metadata": {},
     "output_type": "display_data"
    },
    {
     "name": "stdout",
     "output_type": "stream",
     "text": [
      "Epoch: 1 \n",
      "Learning rate: 0.001\n",
      "Train loss: 1.7272 | Train precision: 0.2295 | Train recall: 0.2100 | Train f1score: 0.2019 | Train acc: 0.3428 | Train kappa: 0.5705 \n",
      "Val loss: 1.9533 | Val precision: 0.1240 | Val recall: 0.1646 | Val f1score: 0.1209 | Val acc: 0.3623 | Val kappa: 0.4297 \n",
      "\n",
      "Epoch: 2 \n",
      "Learning rate: 0.00075\n",
      "Train loss: 1.4621 | Train precision: 0.3031 | Train recall: 0.2731 | Train f1score: 0.2699 | Train acc: 0.4077 | Train kappa: 0.6899 \n",
      "Val loss: 1.8968 | Val precision: 0.2375 | Val recall: 0.1776 | Val f1score: 0.1502 | Val acc: 0.3555 | Val kappa: 0.4421 \n",
      "\n",
      "Epoch: 3 \n",
      "Learning rate: 0.0005625000000000001\n",
      "Train loss: 1.2760 | Train precision: 0.4204 | Train recall: 0.3668 | Train f1score: 0.3781 | Train acc: 0.4674 | Train kappa: 0.7479 \n",
      "Val loss: 1.4541 | Val precision: 0.3586 | Val recall: 0.3399 | Val f1score: 0.3165 | Val acc: 0.4131 | Val kappa: 0.7334 \n",
      "\n",
      "Epoch: 4 \n",
      "Learning rate: 0.000421875\n",
      "Train loss: 1.1060 | Train precision: 0.5018 | Train recall: 0.4521 | Train f1score: 0.4592 | Train acc: 0.5287 | Train kappa: 0.8283 \n",
      "Val loss: 1.2505 | Val precision: 0.4023 | Val recall: 0.3600 | Val f1score: 0.3530 | Val acc: 0.4863 | Val kappa: 0.7432 \n",
      "\n",
      "Epoch: 5 \n",
      "Learning rate: 0.00031640625\n",
      "Train loss: 1.0465 | Train precision: 0.5111 | Train recall: 0.4745 | Train f1score: 0.4822 | Train acc: 0.5317 | Train kappa: 0.8528 \n",
      "Val loss: 1.1606 | Val precision: 0.4919 | Val recall: 0.3997 | Val f1score: 0.3954 | Val acc: 0.5166 | Val kappa: 0.8205 \n",
      "\n",
      "Epoch: 6 \n",
      "Learning rate: 0.0002373046875\n",
      "Train loss: 0.9913 | Train precision: 0.5432 | Train recall: 0.5153 | Train f1score: 0.5214 | Train acc: 0.5589 | Train kappa: 0.8689 \n",
      "Val loss: 0.9987 | Val precision: 0.4891 | Val recall: 0.4585 | Val f1score: 0.4436 | Val acc: 0.5518 | Val kappa: 0.8543 \n",
      "\n",
      "Epoch: 7 \n",
      "Learning rate: 0.000177978515625\n",
      "Train loss: 0.9511 | Train precision: 0.5633 | Train recall: 0.5282 | Train f1score: 0.5371 | Train acc: 0.5748 | Train kappa: 0.8717 \n",
      "Val loss: 1.0995 | Val precision: 0.5370 | Val recall: 0.4691 | Val f1score: 0.4606 | Val acc: 0.5342 | Val kappa: 0.8146 \n",
      "\n",
      "Epoch: 8 \n",
      "Learning rate: 0.00013348388671875\n",
      "Train loss: 0.9047 | Train precision: 0.5923 | Train recall: 0.5628 | Train f1score: 0.5724 | Train acc: 0.5940 | Train kappa: 0.8907 \n",
      "Val loss: 0.9499 | Val precision: 0.5317 | Val recall: 0.5216 | Val f1score: 0.5068 | Val acc: 0.5762 | Val kappa: 0.8444 \n",
      "\n",
      "Epoch: 9 \n",
      "Learning rate: 0.0001001129150390625\n",
      "Train loss: 0.8843 | Train precision: 0.6018 | Train recall: 0.5773 | Train f1score: 0.5840 | Train acc: 0.5990 | Train kappa: 0.8961 \n",
      "Val loss: 0.9339 | Val precision: 0.5478 | Val recall: 0.5373 | Val f1score: 0.5225 | Val acc: 0.5938 | Val kappa: 0.8755 \n",
      "\n",
      "Epoch: 10 \n",
      "Learning rate: 7.508468627929687e-05\n",
      "Train loss: 0.8573 | Train precision: 0.6299 | Train recall: 0.5988 | Train f1score: 0.6081 | Train acc: 0.6165 | Train kappa: 0.9013 \n",
      "Val loss: 0.9229 | Val precision: 0.5670 | Val recall: 0.5560 | Val f1score: 0.5507 | Val acc: 0.6084 | Val kappa: 0.8972 \n",
      "\n",
      "Epoch: 11 \n",
      "Learning rate: 5.6313514709472656e-05\n",
      "Train loss: 0.8327 | Train precision: 0.6302 | Train recall: 0.5993 | Train f1score: 0.6084 | Train acc: 0.6220 | Train kappa: 0.9121 \n",
      "Val loss: 0.9101 | Val precision: 0.5744 | Val recall: 0.5606 | Val f1score: 0.5554 | Val acc: 0.6133 | Val kappa: 0.9008 \n",
      "\n",
      "Epoch: 12 \n",
      "Learning rate: 4.223513603210449e-05\n",
      "Train loss: 0.8273 | Train precision: 0.6399 | Train recall: 0.6055 | Train f1score: 0.6150 | Train acc: 0.6320 | Train kappa: 0.9153 \n",
      "Val loss: 1.0030 | Val precision: 0.5341 | Val recall: 0.5336 | Val f1score: 0.5047 | Val acc: 0.5732 | Val kappa: 0.8484 \n",
      "\n",
      "Epoch: 13 \n",
      "Learning rate: 3.167635202407837e-05\n",
      "Train loss: 0.8245 | Train precision: 0.6284 | Train recall: 0.6043 | Train f1score: 0.6108 | Train acc: 0.6251 | Train kappa: 0.9047 \n",
      "Val loss: 0.9166 | Val precision: 0.5454 | Val recall: 0.5549 | Val f1score: 0.5436 | Val acc: 0.5908 | Val kappa: 0.8983 \n",
      "\n",
      "Epoch: 14 \n",
      "Learning rate: 2.3757264018058778e-05\n",
      "Train loss: 0.8003 | Train precision: 0.6551 | Train recall: 0.6248 | Train f1score: 0.6353 | Train acc: 0.6385 | Train kappa: 0.9153 \n",
      "Val loss: 0.9142 | Val precision: 0.5662 | Val recall: 0.5640 | Val f1score: 0.5540 | Val acc: 0.6045 | Val kappa: 0.8885 \n",
      "\n",
      "Epoch: 15 \n",
      "Learning rate: 1.7817948013544083e-05\n",
      "Train loss: 0.8165 | Train precision: 0.6446 | Train recall: 0.6185 | Train f1score: 0.6268 | Train acc: 0.6340 | Train kappa: 0.9159 \n",
      "Val loss: 0.9071 | Val precision: 0.5457 | Val recall: 0.5579 | Val f1score: 0.5485 | Val acc: 0.5986 | Val kappa: 0.8931 \n",
      "\n",
      "Epoch: 16 \n",
      "Learning rate: 1.3363461010158063e-05\n",
      "Train loss: 0.8044 | Train precision: 0.6538 | Train recall: 0.6290 | Train f1score: 0.6369 | Train acc: 0.6386 | Train kappa: 0.9190 \n",
      "Val loss: 0.9136 | Val precision: 0.5560 | Val recall: 0.5631 | Val f1score: 0.5529 | Val acc: 0.6025 | Val kappa: 0.9008 \n",
      "\n",
      "Epoch: 17 \n",
      "Learning rate: 1.0022595757618546e-05\n",
      "Train loss: 0.7996 | Train precision: 0.6445 | Train recall: 0.6278 | Train f1score: 0.6321 | Train acc: 0.6393 | Train kappa: 0.9223 \n",
      "Val loss: 0.9005 | Val precision: 0.5808 | Val recall: 0.5723 | Val f1score: 0.5672 | Val acc: 0.6094 | Val kappa: 0.9054 \n",
      "\n",
      "Epoch: 18 \n",
      "Learning rate: 7.51694681821391e-06\n",
      "Train loss: 0.7983 | Train precision: 0.6500 | Train recall: 0.6303 | Train f1score: 0.6363 | Train acc: 0.6374 | Train kappa: 0.9172 \n",
      "Val loss: 0.9031 | Val precision: 0.5964 | Val recall: 0.5788 | Val f1score: 0.5745 | Val acc: 0.6172 | Val kappa: 0.8951 \n",
      "\n",
      "Epoch: 19 \n",
      "Learning rate: 5.637710113660432e-06\n",
      "Train loss: 0.7885 | Train precision: 0.6588 | Train recall: 0.6387 | Train f1score: 0.6453 | Train acc: 0.6381 | Train kappa: 0.9256 \n",
      "Val loss: 0.9040 | Val precision: 0.5656 | Val recall: 0.5680 | Val f1score: 0.5584 | Val acc: 0.6035 | Val kappa: 0.8974 \n",
      "\n",
      "Epoch: 20 \n",
      "Learning rate: 4.228282585245324e-06\n",
      "Train loss: 0.8041 | Train precision: 0.6453 | Train recall: 0.6258 | Train f1score: 0.6331 | Train acc: 0.6385 | Train kappa: 0.9190 \n",
      "Val loss: 0.9028 | Val precision: 0.5869 | Val recall: 0.5822 | Val f1score: 0.5729 | Val acc: 0.6162 | Val kappa: 0.8943 \n",
      "\n",
      "Epoch: 21 \n",
      "Learning rate: 3.1712119389339933e-06\n",
      "Train loss: 0.7911 | Train precision: 0.6601 | Train recall: 0.6341 | Train f1score: 0.6419 | Train acc: 0.6463 | Train kappa: 0.9237 \n",
      "Val loss: 0.9039 | Val precision: 0.5701 | Val recall: 0.5702 | Val f1score: 0.5626 | Val acc: 0.6074 | Val kappa: 0.8989 \n",
      "\n",
      "Epoch: 22 \n",
      "Learning rate: 2.378408954200495e-06\n",
      "Train loss: 0.7916 | Train precision: 0.6571 | Train recall: 0.6431 | Train f1score: 0.6480 | Train acc: 0.6496 | Train kappa: 0.9213 \n",
      "Val loss: 0.8996 | Val precision: 0.5644 | Val recall: 0.5633 | Val f1score: 0.5543 | Val acc: 0.6104 | Val kappa: 0.8965 \n",
      "\n",
      "Epoch: 23 \n",
      "Learning rate: 1.7838067156503713e-06\n",
      "Train loss: 0.7937 | Train precision: 0.6521 | Train recall: 0.6259 | Train f1score: 0.6339 | Train acc: 0.6371 | Train kappa: 0.9183 \n",
      "Val loss: 0.9019 | Val precision: 0.5697 | Val recall: 0.5709 | Val f1score: 0.5615 | Val acc: 0.6084 | Val kappa: 0.8963 \n",
      "\n",
      "Epoch: 24 \n",
      "Learning rate: 1.3378550367377785e-06\n",
      "Train loss: 0.7877 | Train precision: 0.6602 | Train recall: 0.6352 | Train f1score: 0.6437 | Train acc: 0.6402 | Train kappa: 0.9233 \n",
      "Val loss: 0.9001 | Val precision: 0.5708 | Val recall: 0.5675 | Val f1score: 0.5615 | Val acc: 0.6074 | Val kappa: 0.8989 \n",
      "\n",
      "Epoch: 25 \n",
      "Learning rate: 1.0033912775533338e-06\n",
      "Train loss: 0.7956 | Train precision: 0.6628 | Train recall: 0.6301 | Train f1score: 0.6428 | Train acc: 0.6429 | Train kappa: 0.9198 \n",
      "Val loss: 0.9019 | Val precision: 0.5709 | Val recall: 0.5729 | Val f1score: 0.5635 | Val acc: 0.6094 | Val kappa: 0.8950 \n",
      "\n",
      "Epoch: 26 \n",
      "Learning rate: 1e-06\n",
      "Train loss: 0.8044 | Train precision: 0.6573 | Train recall: 0.6357 | Train f1score: 0.6431 | Train acc: 0.6418 | Train kappa: 0.9168 \n",
      "Val loss: 0.9013 | Val precision: 0.5635 | Val recall: 0.5661 | Val f1score: 0.5557 | Val acc: 0.6035 | Val kappa: 0.8929 \n",
      "\n",
      "Epoch: 27 \n",
      "Learning rate: 1e-06\n",
      "Train loss: 0.7839 | Train precision: 0.6635 | Train recall: 0.6345 | Train f1score: 0.6457 | Train acc: 0.6464 | Train kappa: 0.9213 \n",
      "Val loss: 0.8996 | Val precision: 0.5666 | Val recall: 0.5668 | Val f1score: 0.5575 | Val acc: 0.6064 | Val kappa: 0.8953 \n",
      "\n"
     ]
    },
    {
     "name": "stdout",
     "output_type": "stream",
     "text": [
      "Epoch: 28 \n",
      "Learning rate: 1e-06\n",
      "Train loss: 0.7938 | Train precision: 0.6604 | Train recall: 0.6349 | Train f1score: 0.6436 | Train acc: 0.6430 | Train kappa: 0.9202 \n",
      "Val loss: 0.8995 | Val precision: 0.5668 | Val recall: 0.5703 | Val f1score: 0.5607 | Val acc: 0.6055 | Val kappa: 0.8944 \n",
      "\n",
      "Epoch: 29 \n",
      "Learning rate: 1e-06\n",
      "Train loss: 0.7857 | Train precision: 0.6644 | Train recall: 0.6393 | Train f1score: 0.6481 | Train acc: 0.6518 | Train kappa: 0.9176 \n",
      "Val loss: 0.8996 | Val precision: 0.5709 | Val recall: 0.5726 | Val f1score: 0.5623 | Val acc: 0.6094 | Val kappa: 0.8929 \n",
      "\n",
      "Epoch: 30 \n",
      "Learning rate: 1e-06\n",
      "Train loss: 0.7874 | Train precision: 0.6578 | Train recall: 0.6340 | Train f1score: 0.6421 | Train acc: 0.6459 | Train kappa: 0.9214 \n",
      "Val loss: 0.8999 | Val precision: 0.5657 | Val recall: 0.5680 | Val f1score: 0.5584 | Val acc: 0.6064 | Val kappa: 0.8935 \n",
      "\n",
      "Epoch: 31 \n",
      "Learning rate: 1e-06\n",
      "Train loss: 0.7862 | Train precision: 0.6628 | Train recall: 0.6343 | Train f1score: 0.6447 | Train acc: 0.6434 | Train kappa: 0.9258 \n",
      "Val loss: 0.9008 | Val precision: 0.5715 | Val recall: 0.5701 | Val f1score: 0.5616 | Val acc: 0.6074 | Val kappa: 0.8963 \n",
      "\n",
      "Epoch: 32 \n",
      "Learning rate: 1e-06\n",
      "Train loss: 0.7859 | Train precision: 0.6609 | Train recall: 0.6365 | Train f1score: 0.6443 | Train acc: 0.6424 | Train kappa: 0.9202 \n",
      "Val loss: 0.8986 | Val precision: 0.5686 | Val recall: 0.5684 | Val f1score: 0.5599 | Val acc: 0.6064 | Val kappa: 0.8990 \n",
      "\n",
      "Epoch: 33 \n",
      "Learning rate: 1e-06\n",
      "Train loss: 0.7931 | Train precision: 0.6468 | Train recall: 0.6255 | Train f1score: 0.6333 | Train acc: 0.6377 | Train kappa: 0.9208 \n",
      "Val loss: 0.9016 | Val precision: 0.5658 | Val recall: 0.5706 | Val f1score: 0.5605 | Val acc: 0.6055 | Val kappa: 0.8936 \n",
      "\n",
      "Epoch: 34 \n",
      "Learning rate: 1e-06\n",
      "Train loss: 0.7815 | Train precision: 0.6580 | Train recall: 0.6368 | Train f1score: 0.6434 | Train acc: 0.6447 | Train kappa: 0.9206 \n",
      "Val loss: 0.8989 | Val precision: 0.5659 | Val recall: 0.5679 | Val f1score: 0.5593 | Val acc: 0.6055 | Val kappa: 0.8965 \n",
      "\n",
      "Epoch: 35 \n",
      "Learning rate: 1e-06\n",
      "Train loss: 0.7870 | Train precision: 0.6535 | Train recall: 0.6226 | Train f1score: 0.6331 | Train acc: 0.6400 | Train kappa: 0.9178 \n",
      "Val loss: 0.9021 | Val precision: 0.5614 | Val recall: 0.5666 | Val f1score: 0.5560 | Val acc: 0.6055 | Val kappa: 0.8925 \n",
      "\n",
      "Epoch: 36 \n",
      "Learning rate: 1e-06\n",
      "Train loss: 0.7949 | Train precision: 0.6689 | Train recall: 0.6416 | Train f1score: 0.6506 | Train acc: 0.6486 | Train kappa: 0.9223 \n",
      "Val loss: 0.8998 | Val precision: 0.5709 | Val recall: 0.5718 | Val f1score: 0.5620 | Val acc: 0.6084 | Val kappa: 0.8960 \n",
      "\n",
      "Epoch: 37 \n",
      "Learning rate: 1e-06\n",
      "Train loss: 0.7857 | Train precision: 0.6636 | Train recall: 0.6374 | Train f1score: 0.6459 | Train acc: 0.6467 | Train kappa: 0.9268 \n",
      "Val loss: 0.9011 | Val precision: 0.5669 | Val recall: 0.5687 | Val f1score: 0.5596 | Val acc: 0.6064 | Val kappa: 0.8949 \n",
      "\n",
      "Epoch: 38 \n",
      "Learning rate: 1e-06\n",
      "Train loss: 0.7904 | Train precision: 0.6626 | Train recall: 0.6356 | Train f1score: 0.6446 | Train acc: 0.6414 | Train kappa: 0.9152 \n",
      "Val loss: 0.9021 | Val precision: 0.5633 | Val recall: 0.5680 | Val f1score: 0.5573 | Val acc: 0.6064 | Val kappa: 0.8917 \n",
      "\n",
      "Epoch: 39 \n",
      "Learning rate: 1e-06\n",
      "Train loss: 0.7884 | Train precision: 0.6470 | Train recall: 0.6286 | Train f1score: 0.6346 | Train acc: 0.6411 | Train kappa: 0.9202 \n",
      "Val loss: 0.9015 | Val precision: 0.5675 | Val recall: 0.5726 | Val f1score: 0.5611 | Val acc: 0.6094 | Val kappa: 0.8925 \n",
      "\n",
      "Epoch: 40 \n",
      "Learning rate: 1e-06\n",
      "Train loss: 0.7889 | Train precision: 0.6619 | Train recall: 0.6327 | Train f1score: 0.6441 | Train acc: 0.6399 | Train kappa: 0.9218 \n",
      "Val loss: 0.9004 | Val precision: 0.5696 | Val recall: 0.5726 | Val f1score: 0.5622 | Val acc: 0.6113 | Val kappa: 0.8952 \n",
      "\n",
      "Epoch: 41 \n",
      "Learning rate: 1e-06\n",
      "Train loss: 0.7891 | Train precision: 0.6732 | Train recall: 0.6406 | Train f1score: 0.6524 | Train acc: 0.6481 | Train kappa: 0.9240 \n",
      "Val loss: 0.9003 | Val precision: 0.5642 | Val recall: 0.5685 | Val f1score: 0.5577 | Val acc: 0.6064 | Val kappa: 0.8926 \n",
      "\n",
      "Epoch: 42 \n",
      "Learning rate: 1e-06\n",
      "Train loss: 0.7782 | Train precision: 0.6644 | Train recall: 0.6446 | Train f1score: 0.6509 | Train acc: 0.6488 | Train kappa: 0.9249 \n",
      "Val loss: 0.9021 | Val precision: 0.5658 | Val recall: 0.5694 | Val f1score: 0.5584 | Val acc: 0.6074 | Val kappa: 0.8929 \n",
      "\n",
      "Early stopping after epoch 42\n"
     ]
    },
    {
     "data": {
      "text/html": [
       "Waiting for W&B process to finish... <strong style=\"color:green\">(success).</strong>"
      ],
      "text/plain": [
       "<IPython.core.display.HTML object>"
      ]
     },
     "metadata": {},
     "output_type": "display_data"
    },
    {
     "data": {
      "application/vnd.jupyter.widget-view+json": {
       "model_id": "a81079e5ebea4f6da5b8e2103e210d8c",
       "version_major": 2,
       "version_minor": 0
      },
      "text/plain": [
       "VBox(children=(Label(value='0.001 MB of 0.018 MB uploaded (0.000 MB deduped)\\r'), FloatProgress(value=0.070013…"
      ]
     },
     "metadata": {},
     "output_type": "display_data"
    },
    {
     "data": {
      "text/html": [
       "<style>\n",
       "    table.wandb td:nth-child(1) { padding: 0 10px; text-align: left ; width: auto;} td:nth-child(2) {text-align: left ; width: 100%}\n",
       "    .wandb-row { display: flex; flex-direction: row; flex-wrap: wrap; justify-content: flex-start; width: 100% }\n",
       "    .wandb-col { display: flex; flex-direction: column; flex-basis: 100%; flex: 1; padding: 10px; }\n",
       "    </style>\n",
       "<div class=\"wandb-row\"><div class=\"wandb-col\"><h3>Run history:</h3><br/><table class=\"wandb\"><tr><td>learning_rate</td><td>█▆▅▄▃▃▂▂▂▂▁▁▁▁▁▁▁▁▁▁▁▁▁▁▁▁▁▁▁▁▁▁▁▁▁▁▁▁▁▁</td></tr><tr><td>train_f1_score</td><td>▁▂▄▅▅▆▆▇▇▇▇▇▇███████████████████████████</td></tr><tr><td>train_loss</td><td>█▆▅▃▃▃▂▂▂▂▁▁▁▁▁▁▁▁▁▁▁▁▁▁▁▁▁▁▁▁▁▁▁▁▁▁▁▁▁▁</td></tr><tr><td>val_f1_score</td><td>▁▁▄▅▅▆▆▇▇██▇████████████████████████████</td></tr><tr><td>val_loss</td><td>██▅▃▃▂▂▁▁▁▁▂▁▁▁▁▁▁▁▁▁▁▁▁▁▁▁▁▁▁▁▁▁▁▁▁▁▁▁▁</td></tr></table><br/></div><div class=\"wandb-col\"><h3>Run summary:</h3><br/><table class=\"wandb\"><tr><td>learning_rate</td><td>0.0</td></tr><tr><td>train_f1_score</td><td>0.65091</td></tr><tr><td>train_loss</td><td>0.77819</td></tr><tr><td>val_f1_score</td><td>0.55837</td></tr><tr><td>val_loss</td><td>0.90214</td></tr></table><br/></div></div>"
      ],
      "text/plain": [
       "<IPython.core.display.HTML object>"
      ]
     },
     "metadata": {},
     "output_type": "display_data"
    },
    {
     "data": {
      "text/html": [
       " View run <strong style=\"color:#cdcd00\">fold_1_RGB-RE-NIR-CHM-5species-combined</strong> at: <a href='https://wandb.ai/simon-ecke/wze-uav-combined/runs/iv1zmwvd' target=\"_blank\">https://wandb.ai/simon-ecke/wze-uav-combined/runs/iv1zmwvd</a><br/>Synced 5 W&B file(s), 0 media file(s), 0 artifact file(s) and 0 other file(s)"
      ],
      "text/plain": [
       "<IPython.core.display.HTML object>"
      ]
     },
     "metadata": {},
     "output_type": "display_data"
    },
    {
     "data": {
      "text/html": [
       "Find logs at: <code>.\\wandb\\run-20230512_120237-iv1zmwvd\\logs</code>"
      ],
      "text/plain": [
       "<IPython.core.display.HTML object>"
      ]
     },
     "metadata": {},
     "output_type": "display_data"
    },
    {
     "name": "stdout",
     "output_type": "stream",
     "text": [
      "Deleting variables and emptying cache\n",
      "Memory allocated: 1047905792 bytes\n",
      "--------------------------------------------------\n",
      "\n",
      "Fold : 2\n",
      "TRAIN POSITIVE RATIO: 2.956775487871603\n",
      "VAL POSITIVE RATIO  : 2.7845142439737036\n",
      "LENGTH TRAIN GROUPS : 4159\n",
      "LENGTH VAL GROUPS   : 1038\n"
     ]
    },
    {
     "data": {
      "application/vnd.jupyter.widget-view+json": {
       "model_id": "d076b7001a3a40bd833549c7bb1a3fb5",
       "version_major": 2,
       "version_minor": 0
      },
      "text/plain": [
       "VBox(children=(Label(value='Waiting for wandb.init()...\\r'), FloatProgress(value=0.016666666666666666, max=1.0…"
      ]
     },
     "metadata": {},
     "output_type": "display_data"
    },
    {
     "data": {
      "text/html": [
       "wandb version 0.15.2 is available!  To upgrade, please run:\n",
       " $ pip install wandb --upgrade"
      ],
      "text/plain": [
       "<IPython.core.display.HTML object>"
      ]
     },
     "metadata": {},
     "output_type": "display_data"
    },
    {
     "data": {
      "text/html": [
       "Tracking run with wandb version 0.14.2"
      ],
      "text/plain": [
       "<IPython.core.display.HTML object>"
      ]
     },
     "metadata": {},
     "output_type": "display_data"
    },
    {
     "data": {
      "text/html": [
       "Run data is saved locally in <code>C:\\Users\\lwfeckesim\\01_PyTorch\\wze-uav\\wze-uav-master\\wandb\\run-20230512_154304-y7xczmnx</code>"
      ],
      "text/plain": [
       "<IPython.core.display.HTML object>"
      ]
     },
     "metadata": {},
     "output_type": "display_data"
    },
    {
     "data": {
      "text/html": [
       "Syncing run <strong><a href='https://wandb.ai/simon-ecke/wze-uav-combined/runs/y7xczmnx' target=\"_blank\">fold_2_RGB-RE-NIR-CHM-5species-combined</a></strong> to <a href='https://wandb.ai/simon-ecke/wze-uav-combined' target=\"_blank\">Weights & Biases</a> (<a href='https://wandb.me/run' target=\"_blank\">docs</a>)<br/>"
      ],
      "text/plain": [
       "<IPython.core.display.HTML object>"
      ]
     },
     "metadata": {},
     "output_type": "display_data"
    },
    {
     "data": {
      "text/html": [
       " View project at <a href='https://wandb.ai/simon-ecke/wze-uav-combined' target=\"_blank\">https://wandb.ai/simon-ecke/wze-uav-combined</a>"
      ],
      "text/plain": [
       "<IPython.core.display.HTML object>"
      ]
     },
     "metadata": {},
     "output_type": "display_data"
    },
    {
     "data": {
      "text/html": [
       " View run at <a href='https://wandb.ai/simon-ecke/wze-uav-combined/runs/y7xczmnx' target=\"_blank\">https://wandb.ai/simon-ecke/wze-uav-combined/runs/y7xczmnx</a>"
      ],
      "text/plain": [
       "<IPython.core.display.HTML object>"
      ]
     },
     "metadata": {},
     "output_type": "display_data"
    },
    {
     "name": "stdout",
     "output_type": "stream",
     "text": [
      "There are no same hash_id values in train, val or test datasets. The datasplit was successful\n",
      "Check shapes:\n",
      "\n",
      "Images train dataset: (10966, 250, 250, 6)\n",
      "Labels train dataset: (10966, 1)\n",
      "\n",
      "Images validation dataset: (1038, 250, 250, 6)\n",
      "Labels validation dataset: (1038, 1)\n",
      "\n",
      "--------------------------------------------------\n",
      "Check if the split was stratified: (random_state=42)\n",
      "Picea abies healthy in train dataset: 2919\n",
      "Picea abies stressed in train dataset: 1548\n",
      "Pinus sylvestris healthy in train dataset: 1474\n",
      "Pinus sylvestris stressed in train dataset: 1736\n",
      "Abies alba healthy in train dataset: 306\n",
      "Abies alba stressed in train dataset: 130\n",
      "Fagus sylvatica healthy in train dataset: 993\n",
      "Fagus sylvatica stressed in train dataset: 715\n",
      "Quercus robur/petraea healthy in train dataset: 606\n",
      "Quercus robur/petraea stressed in train dataset: 355\n",
      "Dead trees in train dataset: 184\n",
      "Picea abies healthy in validation dataset: 298\n",
      "Picea abies stressed in validation dataset: 170\n",
      "Pinus sylvestris healthy in validation dataset: 123\n",
      "Pinus sylvestris stressed in validation dataset: 153\n",
      "Abies alba healthy in validation dataset: 42\n",
      "Abies alba stressed in validation dataset: 10\n",
      "Fagus sylvatica healthy in validation dataset: 82\n",
      "Fagus sylvatica stressed in validation dataset: 64\n",
      "Quercus robur/petraea healthy in validation dataset: 46\n",
      "Quercus robur/petraea stressed in validation dataset: 33\n",
      "Dead trees in validation dataset: 17\n",
      "--------------------------------------------------\n",
      "\n",
      "Creating datasets for fold: 2\n",
      "\n",
      "Creating dataloaders for fold: 2\n",
      "\n",
      "Loaded pretrained weights for efficientnet-b7\n",
      "\n",
      "[INFO] Fold number: 2\n",
      "[INFO] Number of epochs: 50\n",
      "[INFO] Batch_size: 32\n",
      "[INFO] Number of bands: 6\n",
      "[INFO] Dropout rate: 0.5\n",
      "[INFO] Gamma learning rate: 0.75\n",
      "[INFO] Memory allocated: 0 bytes\n"
     ]
    },
    {
     "data": {
      "application/vnd.jupyter.widget-view+json": {
       "model_id": "d4fcdb3fb0dc436994fc82ffc8c0e49b",
       "version_major": 2,
       "version_minor": 0
      },
      "text/plain": [
       "  0%|          | 0/50 [00:00<?, ?it/s]"
      ]
     },
     "metadata": {},
     "output_type": "display_data"
    },
    {
     "name": "stdout",
     "output_type": "stream",
     "text": [
      "Epoch: 1 \n",
      "Learning rate: 0.001\n",
      "Train loss: 1.6756 | Train precision: 0.2507 | Train recall: 0.2283 | Train f1score: 0.2209 | Train acc: 0.3565 | Train kappa: 0.6041 \n",
      "Val loss: 2.1926 | Val precision: 0.2079 | Val recall: 0.2057 | Val f1score: 0.1567 | Val acc: 0.2754 | Val kappa: 0.5100 \n",
      "\n",
      "Epoch: 2 \n",
      "Learning rate: 0.00075\n",
      "Train loss: 1.3670 | Train precision: 0.3741 | Train recall: 0.3252 | Train f1score: 0.3293 | Train acc: 0.4395 | Train kappa: 0.7250 \n",
      "Val loss: 2.4168 | Val precision: 0.2110 | Val recall: 0.1736 | Val f1score: 0.1167 | Val acc: 0.2383 | Val kappa: 0.4346 \n",
      "\n",
      "Epoch: 3 \n",
      "Learning rate: 0.0005625000000000001\n",
      "Train loss: 1.2196 | Train precision: 0.4347 | Train recall: 0.3967 | Train f1score: 0.4037 | Train acc: 0.4756 | Train kappa: 0.7886 \n",
      "Val loss: 2.5991 | Val precision: 0.1574 | Val recall: 0.2360 | Val f1score: 0.1450 | Val acc: 0.2900 | Val kappa: 0.1590 \n",
      "\n",
      "Epoch: 4 \n",
      "Learning rate: 0.000421875\n",
      "Train loss: 1.1000 | Train precision: 0.5020 | Train recall: 0.4697 | Train f1score: 0.4771 | Train acc: 0.5244 | Train kappa: 0.8420 \n",
      "Val loss: 1.7920 | Val precision: 0.4395 | Val recall: 0.3444 | Val f1score: 0.3086 | Val acc: 0.3750 | Val kappa: 0.6733 \n",
      "\n",
      "Epoch: 5 \n",
      "Learning rate: 0.00031640625\n",
      "Train loss: 1.0332 | Train precision: 0.5274 | Train recall: 0.4975 | Train f1score: 0.5038 | Train acc: 0.5430 | Train kappa: 0.8436 \n",
      "Val loss: 1.5113 | Val precision: 0.4773 | Val recall: 0.4081 | Val f1score: 0.3760 | Val acc: 0.4629 | Val kappa: 0.8078 \n",
      "\n",
      "Epoch: 6 \n",
      "Learning rate: 0.0002373046875\n",
      "Train loss: 0.9792 | Train precision: 0.5558 | Train recall: 0.5249 | Train f1score: 0.5354 | Train acc: 0.5672 | Train kappa: 0.8646 \n",
      "Val loss: 1.0600 | Val precision: 0.5034 | Val recall: 0.5269 | Val f1score: 0.5066 | Val acc: 0.5518 | Val kappa: 0.8423 \n",
      "\n",
      "Epoch: 7 \n",
      "Learning rate: 0.000177978515625\n",
      "Train loss: 0.9306 | Train precision: 0.5764 | Train recall: 0.5494 | Train f1score: 0.5566 | Train acc: 0.5798 | Train kappa: 0.8853 \n",
      "Val loss: 2.2019 | Val precision: 0.3748 | Val recall: 0.3026 | Val f1score: 0.2545 | Val acc: 0.3145 | Val kappa: 0.4647 \n",
      "\n",
      "Epoch: 8 \n",
      "Learning rate: 0.00013348388671875\n",
      "Train loss: 0.8984 | Train precision: 0.6012 | Train recall: 0.5723 | Train f1score: 0.5822 | Train acc: 0.5931 | Train kappa: 0.8886 \n",
      "Val loss: 1.0332 | Val precision: 0.5660 | Val recall: 0.5279 | Val f1score: 0.5250 | Val acc: 0.5713 | Val kappa: 0.8629 \n",
      "\n",
      "Epoch: 9 \n",
      "Learning rate: 0.0001001129150390625\n",
      "Train loss: 0.8731 | Train precision: 0.6132 | Train recall: 0.5790 | Train f1score: 0.5879 | Train acc: 0.6108 | Train kappa: 0.8967 \n",
      "Val loss: 1.4339 | Val precision: 0.5035 | Val recall: 0.4173 | Val f1score: 0.3862 | Val acc: 0.4814 | Val kappa: 0.7662 \n",
      "\n",
      "Epoch: 10 \n",
      "Learning rate: 7.508468627929687e-05\n",
      "Train loss: 0.8562 | Train precision: 0.6231 | Train recall: 0.5956 | Train f1score: 0.6053 | Train acc: 0.6113 | Train kappa: 0.9058 \n",
      "Val loss: 0.9154 | Val precision: 0.5954 | Val recall: 0.5839 | Val f1score: 0.5808 | Val acc: 0.6162 | Val kappa: 0.8873 \n",
      "\n",
      "Epoch: 11 \n",
      "Learning rate: 5.6313514709472656e-05\n",
      "Train loss: 0.8347 | Train precision: 0.6277 | Train recall: 0.6053 | Train f1score: 0.6124 | Train acc: 0.6232 | Train kappa: 0.9078 \n",
      "Val loss: 1.0167 | Val precision: 0.5607 | Val recall: 0.5574 | Val f1score: 0.5368 | Val acc: 0.5801 | Val kappa: 0.8707 \n",
      "\n",
      "Epoch: 12 \n",
      "Learning rate: 4.223513603210449e-05\n",
      "Train loss: 0.8255 | Train precision: 0.6282 | Train recall: 0.6053 | Train f1score: 0.6137 | Train acc: 0.6222 | Train kappa: 0.9111 \n",
      "Val loss: 1.0856 | Val precision: 0.5222 | Val recall: 0.5128 | Val f1score: 0.4844 | Val acc: 0.5459 | Val kappa: 0.8461 \n",
      "\n",
      "Epoch: 13 \n",
      "Learning rate: 3.167635202407837e-05\n",
      "Train loss: 0.8131 | Train precision: 0.6503 | Train recall: 0.6227 | Train f1score: 0.6323 | Train acc: 0.6353 | Train kappa: 0.9147 \n",
      "Val loss: 0.8858 | Val precision: 0.6301 | Val recall: 0.5773 | Val f1score: 0.5865 | Val acc: 0.6270 | Val kappa: 0.8911 \n",
      "\n",
      "Epoch: 14 \n",
      "Learning rate: 2.3757264018058778e-05\n",
      "Train loss: 0.8122 | Train precision: 0.6408 | Train recall: 0.6190 | Train f1score: 0.6274 | Train acc: 0.6306 | Train kappa: 0.9209 \n",
      "Val loss: 0.8977 | Val precision: 0.6060 | Val recall: 0.5870 | Val f1score: 0.5946 | Val acc: 0.6240 | Val kappa: 0.8907 \n",
      "\n",
      "Epoch: 15 \n",
      "Learning rate: 1.7817948013544083e-05\n",
      "Train loss: 0.8054 | Train precision: 0.6482 | Train recall: 0.6283 | Train f1score: 0.6348 | Train acc: 0.6372 | Train kappa: 0.9171 \n",
      "Val loss: 0.9766 | Val precision: 0.5648 | Val recall: 0.5692 | Val f1score: 0.5485 | Val acc: 0.5889 | Val kappa: 0.8785 \n",
      "\n",
      "Epoch: 16 \n",
      "Learning rate: 1.3363461010158063e-05\n",
      "Train loss: 0.8029 | Train precision: 0.6414 | Train recall: 0.6213 | Train f1score: 0.6283 | Train acc: 0.6355 | Train kappa: 0.9135 \n",
      "Val loss: 0.8903 | Val precision: 0.6586 | Val recall: 0.5982 | Val f1score: 0.6080 | Val acc: 0.6426 | Val kappa: 0.8952 \n",
      "\n",
      "Epoch: 17 \n",
      "Learning rate: 1.0022595757618546e-05\n",
      "Train loss: 0.7881 | Train precision: 0.6643 | Train recall: 0.6410 | Train f1score: 0.6498 | Train acc: 0.6432 | Train kappa: 0.9191 \n",
      "Val loss: 0.8850 | Val precision: 0.6108 | Val recall: 0.6015 | Val f1score: 0.6022 | Val acc: 0.6279 | Val kappa: 0.8966 \n",
      "\n",
      "Epoch: 18 \n",
      "Learning rate: 7.51694681821391e-06\n",
      "Train loss: 0.7976 | Train precision: 0.6573 | Train recall: 0.6336 | Train f1score: 0.6417 | Train acc: 0.6425 | Train kappa: 0.9214 \n",
      "Val loss: 0.8796 | Val precision: 0.6372 | Val recall: 0.6109 | Val f1score: 0.6188 | Val acc: 0.6445 | Val kappa: 0.9008 \n",
      "\n",
      "Epoch: 19 \n",
      "Learning rate: 5.637710113660432e-06\n",
      "Train loss: 0.8013 | Train precision: 0.6496 | Train recall: 0.6210 | Train f1score: 0.6316 | Train acc: 0.6326 | Train kappa: 0.9175 \n",
      "Val loss: 0.8851 | Val precision: 0.6117 | Val recall: 0.6067 | Val f1score: 0.6063 | Val acc: 0.6328 | Val kappa: 0.8968 \n",
      "\n",
      "Epoch: 20 \n",
      "Learning rate: 4.228282585245324e-06\n",
      "Train loss: 0.8002 | Train precision: 0.6478 | Train recall: 0.6268 | Train f1score: 0.6345 | Train acc: 0.6361 | Train kappa: 0.9198 \n",
      "Val loss: 0.8808 | Val precision: 0.6119 | Val recall: 0.6036 | Val f1score: 0.6032 | Val acc: 0.6338 | Val kappa: 0.8972 \n",
      "\n",
      "Epoch: 21 \n",
      "Learning rate: 3.1712119389339933e-06\n",
      "Train loss: 0.7829 | Train precision: 0.6745 | Train recall: 0.6453 | Train f1score: 0.6557 | Train acc: 0.6510 | Train kappa: 0.9223 \n",
      "Val loss: 0.8896 | Val precision: 0.6104 | Val recall: 0.6046 | Val f1score: 0.6054 | Val acc: 0.6250 | Val kappa: 0.9000 \n",
      "\n",
      "Epoch: 22 \n",
      "Learning rate: 2.378408954200495e-06\n",
      "Train loss: 0.7885 | Train precision: 0.6575 | Train recall: 0.6269 | Train f1score: 0.6381 | Train acc: 0.6402 | Train kappa: 0.9140 \n",
      "Val loss: 0.8866 | Val precision: 0.6165 | Val recall: 0.6160 | Val f1score: 0.6133 | Val acc: 0.6338 | Val kappa: 0.9030 \n",
      "\n",
      "Epoch: 23 \n",
      "Learning rate: 1.7838067156503713e-06\n",
      "Train loss: 0.7765 | Train precision: 0.6667 | Train recall: 0.6426 | Train f1score: 0.6520 | Train acc: 0.6494 | Train kappa: 0.9231 \n",
      "Val loss: 0.8848 | Val precision: 0.6140 | Val recall: 0.6137 | Val f1score: 0.6108 | Val acc: 0.6338 | Val kappa: 0.9003 \n",
      "\n",
      "Epoch: 24 \n",
      "Learning rate: 1.3378550367377785e-06\n",
      "Train loss: 0.7832 | Train precision: 0.6615 | Train recall: 0.6427 | Train f1score: 0.6503 | Train acc: 0.6446 | Train kappa: 0.9212 \n",
      "Val loss: 0.8850 | Val precision: 0.6090 | Val recall: 0.6072 | Val f1score: 0.6045 | Val acc: 0.6309 | Val kappa: 0.9002 \n",
      "\n",
      "Epoch: 25 \n",
      "Learning rate: 1.0033912775533338e-06\n",
      "Train loss: 0.7888 | Train precision: 0.6641 | Train recall: 0.6342 | Train f1score: 0.6444 | Train acc: 0.6393 | Train kappa: 0.9186 \n",
      "Val loss: 0.8840 | Val precision: 0.6193 | Val recall: 0.6150 | Val f1score: 0.6141 | Val acc: 0.6348 | Val kappa: 0.9003 \n",
      "\n",
      "Epoch: 26 \n",
      "Learning rate: 1e-06\n",
      "Train loss: 0.7910 | Train precision: 0.6599 | Train recall: 0.6388 | Train f1score: 0.6463 | Train acc: 0.6460 | Train kappa: 0.9158 \n",
      "Val loss: 0.8862 | Val precision: 0.6146 | Val recall: 0.6081 | Val f1score: 0.6081 | Val acc: 0.6328 | Val kappa: 0.8975 \n",
      "\n",
      "Epoch: 27 \n",
      "Learning rate: 1e-06\n",
      "Train loss: 0.7901 | Train precision: 0.6531 | Train recall: 0.6338 | Train f1score: 0.6404 | Train acc: 0.6396 | Train kappa: 0.9245 \n",
      "Val loss: 0.8849 | Val precision: 0.6145 | Val recall: 0.6083 | Val f1score: 0.6079 | Val acc: 0.6357 | Val kappa: 0.8995 \n",
      "\n"
     ]
    },
    {
     "name": "stdout",
     "output_type": "stream",
     "text": [
      "Epoch: 28 \n",
      "Learning rate: 1e-06\n",
      "Train loss: 0.7924 | Train precision: 0.6664 | Train recall: 0.6432 | Train f1score: 0.6524 | Train acc: 0.6438 | Train kappa: 0.9231 \n",
      "Val loss: 0.8843 | Val precision: 0.6143 | Val recall: 0.6118 | Val f1score: 0.6097 | Val acc: 0.6328 | Val kappa: 0.9004 \n",
      "\n",
      "Early stopping after epoch 28\n"
     ]
    },
    {
     "data": {
      "text/html": [
       "Waiting for W&B process to finish... <strong style=\"color:green\">(success).</strong>"
      ],
      "text/plain": [
       "<IPython.core.display.HTML object>"
      ]
     },
     "metadata": {},
     "output_type": "display_data"
    },
    {
     "data": {
      "application/vnd.jupyter.widget-view+json": {
       "model_id": "7010b1a9ee954c66b793c7d0ae91231d",
       "version_major": 2,
       "version_minor": 0
      },
      "text/plain": [
       "VBox(children=(Label(value='0.001 MB of 0.014 MB uploaded (0.000 MB deduped)\\r'), FloatProgress(value=0.089073…"
      ]
     },
     "metadata": {},
     "output_type": "display_data"
    },
    {
     "data": {
      "text/html": [
       "<style>\n",
       "    table.wandb td:nth-child(1) { padding: 0 10px; text-align: left ; width: auto;} td:nth-child(2) {text-align: left ; width: 100%}\n",
       "    .wandb-row { display: flex; flex-direction: row; flex-wrap: wrap; justify-content: flex-start; width: 100% }\n",
       "    .wandb-col { display: flex; flex-direction: column; flex-basis: 100%; flex: 1; padding: 10px; }\n",
       "    </style>\n",
       "<div class=\"wandb-row\"><div class=\"wandb-col\"><h3>Run history:</h3><br/><table class=\"wandb\"><tr><td>learning_rate</td><td>█▆▅▄▃▃▂▂▂▂▁▁▁▁▁▁▁▁▁▁▁▁▁▁▁▁▁▁</td></tr><tr><td>train_f1_score</td><td>▁▃▄▅▆▆▆▇▇▇▇▇████████████████</td></tr><tr><td>train_loss</td><td>█▆▄▄▃▃▂▂▂▂▁▁▁▁▁▁▁▁▁▁▁▁▁▁▁▁▁▁</td></tr><tr><td>val_f1_score</td><td>▂▁▁▄▅▆▃▇▅▇▇▆██▇█████████████</td></tr><tr><td>val_loss</td><td>▆▇█▅▄▂▆▂▃▁▂▂▁▁▁▁▁▁▁▁▁▁▁▁▁▁▁▁</td></tr></table><br/></div><div class=\"wandb-col\"><h3>Run summary:</h3><br/><table class=\"wandb\"><tr><td>learning_rate</td><td>0.0</td></tr><tr><td>train_f1_score</td><td>0.65243</td></tr><tr><td>train_loss</td><td>0.79238</td></tr><tr><td>val_f1_score</td><td>0.60972</td></tr><tr><td>val_loss</td><td>0.88435</td></tr></table><br/></div></div>"
      ],
      "text/plain": [
       "<IPython.core.display.HTML object>"
      ]
     },
     "metadata": {},
     "output_type": "display_data"
    },
    {
     "data": {
      "text/html": [
       " View run <strong style=\"color:#cdcd00\">fold_2_RGB-RE-NIR-CHM-5species-combined</strong> at: <a href='https://wandb.ai/simon-ecke/wze-uav-combined/runs/y7xczmnx' target=\"_blank\">https://wandb.ai/simon-ecke/wze-uav-combined/runs/y7xczmnx</a><br/>Synced 5 W&B file(s), 0 media file(s), 0 artifact file(s) and 0 other file(s)"
      ],
      "text/plain": [
       "<IPython.core.display.HTML object>"
      ]
     },
     "metadata": {},
     "output_type": "display_data"
    },
    {
     "data": {
      "text/html": [
       "Find logs at: <code>.\\wandb\\run-20230512_154304-y7xczmnx\\logs</code>"
      ],
      "text/plain": [
       "<IPython.core.display.HTML object>"
      ]
     },
     "metadata": {},
     "output_type": "display_data"
    },
    {
     "name": "stdout",
     "output_type": "stream",
     "text": [
      "Deleting variables and emptying cache\n",
      "Memory allocated: 1053953536 bytes\n",
      "--------------------------------------------------\n",
      "\n",
      "Fold : 3\n",
      "TRAIN POSITIVE RATIO: 2.9322698268003644\n",
      "VAL POSITIVE RATIO  : 2.8825896122896855\n",
      "LENGTH TRAIN GROUPS : 4158\n",
      "LENGTH VAL GROUPS   : 1039\n"
     ]
    },
    {
     "data": {
      "text/html": [
       "wandb version 0.15.2 is available!  To upgrade, please run:\n",
       " $ pip install wandb --upgrade"
      ],
      "text/plain": [
       "<IPython.core.display.HTML object>"
      ]
     },
     "metadata": {},
     "output_type": "display_data"
    },
    {
     "data": {
      "text/html": [
       "Tracking run with wandb version 0.14.2"
      ],
      "text/plain": [
       "<IPython.core.display.HTML object>"
      ]
     },
     "metadata": {},
     "output_type": "display_data"
    },
    {
     "data": {
      "text/html": [
       "Run data is saved locally in <code>C:\\Users\\lwfeckesim\\01_PyTorch\\wze-uav\\wze-uav-master\\wandb\\run-20230512_180409-21tig1jr</code>"
      ],
      "text/plain": [
       "<IPython.core.display.HTML object>"
      ]
     },
     "metadata": {},
     "output_type": "display_data"
    },
    {
     "data": {
      "text/html": [
       "Syncing run <strong><a href='https://wandb.ai/simon-ecke/wze-uav-combined/runs/21tig1jr' target=\"_blank\">fold_3_RGB-RE-NIR-CHM-5species-combined</a></strong> to <a href='https://wandb.ai/simon-ecke/wze-uav-combined' target=\"_blank\">Weights & Biases</a> (<a href='https://wandb.me/run' target=\"_blank\">docs</a>)<br/>"
      ],
      "text/plain": [
       "<IPython.core.display.HTML object>"
      ]
     },
     "metadata": {},
     "output_type": "display_data"
    },
    {
     "data": {
      "text/html": [
       " View project at <a href='https://wandb.ai/simon-ecke/wze-uav-combined' target=\"_blank\">https://wandb.ai/simon-ecke/wze-uav-combined</a>"
      ],
      "text/plain": [
       "<IPython.core.display.HTML object>"
      ]
     },
     "metadata": {},
     "output_type": "display_data"
    },
    {
     "data": {
      "text/html": [
       " View run at <a href='https://wandb.ai/simon-ecke/wze-uav-combined/runs/21tig1jr' target=\"_blank\">https://wandb.ai/simon-ecke/wze-uav-combined/runs/21tig1jr</a>"
      ],
      "text/plain": [
       "<IPython.core.display.HTML object>"
      ]
     },
     "metadata": {},
     "output_type": "display_data"
    },
    {
     "name": "stdout",
     "output_type": "stream",
     "text": [
      "There are no same hash_id values in train, val or test datasets. The datasplit was successful\n",
      "Check shapes:\n",
      "\n",
      "Images train dataset: (10970, 250, 250, 6)\n",
      "Labels train dataset: (10970, 1)\n",
      "\n",
      "Images validation dataset: (1039, 250, 250, 6)\n",
      "Labels validation dataset: (1039, 1)\n",
      "\n",
      "--------------------------------------------------\n",
      "Check if the split was stratified: (random_state=42)\n",
      "Picea abies healthy in train dataset: 3011\n",
      "Picea abies stressed in train dataset: 1543\n",
      "Pinus sylvestris healthy in train dataset: 1388\n",
      "Pinus sylvestris stressed in train dataset: 1743\n",
      "Abies alba healthy in train dataset: 336\n",
      "Abies alba stressed in train dataset: 124\n",
      "Fagus sylvatica healthy in train dataset: 985\n",
      "Fagus sylvatica stressed in train dataset: 707\n",
      "Quercus robur/petraea healthy in train dataset: 587\n",
      "Quercus robur/petraea stressed in train dataset: 360\n",
      "Dead trees in train dataset: 186\n",
      "Picea abies healthy in validation dataset: 271\n",
      "Picea abies stressed in validation dataset: 164\n",
      "Pinus sylvestris healthy in validation dataset: 146\n",
      "Pinus sylvestris stressed in validation dataset: 159\n",
      "Abies alba healthy in validation dataset: 28\n",
      "Abies alba stressed in validation dataset: 16\n",
      "Fagus sylvatica healthy in validation dataset: 96\n",
      "Fagus sylvatica stressed in validation dataset: 61\n",
      "Quercus robur/petraea healthy in validation dataset: 58\n",
      "Quercus robur/petraea stressed in validation dataset: 26\n",
      "Dead trees in validation dataset: 14\n",
      "--------------------------------------------------\n",
      "\n",
      "Creating datasets for fold: 3\n",
      "\n",
      "Creating dataloaders for fold: 3\n",
      "\n",
      "Loaded pretrained weights for efficientnet-b7\n",
      "\n",
      "[INFO] Fold number: 3\n",
      "[INFO] Number of epochs: 50\n",
      "[INFO] Batch_size: 32\n",
      "[INFO] Number of bands: 6\n",
      "[INFO] Dropout rate: 0.5\n",
      "[INFO] Gamma learning rate: 0.75\n",
      "[INFO] Memory allocated: 0 bytes\n"
     ]
    },
    {
     "data": {
      "application/vnd.jupyter.widget-view+json": {
       "model_id": "35edfc3f285a4aa6877f74244adf0804",
       "version_major": 2,
       "version_minor": 0
      },
      "text/plain": [
       "  0%|          | 0/50 [00:00<?, ?it/s]"
      ]
     },
     "metadata": {},
     "output_type": "display_data"
    },
    {
     "name": "stdout",
     "output_type": "stream",
     "text": [
      "Epoch: 1 \n",
      "Learning rate: 0.001\n",
      "Train loss: 1.7433 | Train precision: 0.2254 | Train recall: 0.2083 | Train f1score: 0.2005 | Train acc: 0.3324 | Train kappa: 0.5935 \n",
      "Val loss: 2.5467 | Val precision: 0.1387 | Val recall: 0.1786 | Val f1score: 0.1161 | Val acc: 0.2607 | Val kappa: 0.3996 \n",
      "\n",
      "Epoch: 2 \n",
      "Learning rate: 0.00075\n",
      "Train loss: 1.4818 | Train precision: 0.3456 | Train recall: 0.2897 | Train f1score: 0.2906 | Train acc: 0.4100 | Train kappa: 0.6717 \n",
      "Val loss: 1.5796 | Val precision: 0.3276 | Val recall: 0.2325 | Val f1score: 0.2077 | Val acc: 0.3740 | Val kappa: 0.7263 \n",
      "\n",
      "Epoch: 3 \n",
      "Learning rate: 0.0005625000000000001\n",
      "Train loss: 1.2589 | Train precision: 0.4461 | Train recall: 0.4018 | Train f1score: 0.4077 | Train acc: 0.4822 | Train kappa: 0.7673 \n",
      "Val loss: 1.8878 | Val precision: 0.2955 | Val recall: 0.3120 | Val f1score: 0.2253 | Val acc: 0.2910 | Val kappa: 0.1651 \n",
      "\n",
      "Epoch: 4 \n",
      "Learning rate: 0.000421875\n",
      "Train loss: 1.1456 | Train precision: 0.4703 | Train recall: 0.4360 | Train f1score: 0.4379 | Train acc: 0.5081 | Train kappa: 0.7994 \n",
      "Val loss: 2.2877 | Val precision: 0.4295 | Val recall: 0.2769 | Val f1score: 0.2044 | Val acc: 0.2568 | Val kappa: 0.2244 \n",
      "\n",
      "Epoch: 5 \n",
      "Learning rate: 0.00031640625\n",
      "Train loss: 1.0801 | Train precision: 0.5159 | Train recall: 0.4772 | Train f1score: 0.4855 | Train acc: 0.5341 | Train kappa: 0.8361 \n",
      "Val loss: 1.6087 | Val precision: 0.5146 | Val recall: 0.3655 | Val f1score: 0.3368 | Val acc: 0.4277 | Val kappa: 0.7490 \n",
      "\n",
      "Epoch: 6 \n",
      "Learning rate: 0.0002373046875\n",
      "Train loss: 1.0214 | Train precision: 0.5354 | Train recall: 0.5022 | Train f1score: 0.5067 | Train acc: 0.5561 | Train kappa: 0.8560 \n",
      "Val loss: 1.5492 | Val precision: 0.3852 | Val recall: 0.3936 | Val f1score: 0.3247 | Val acc: 0.3857 | Val kappa: 0.5530 \n",
      "\n",
      "Epoch: 7 \n",
      "Learning rate: 0.000177978515625\n",
      "Train loss: 0.9909 | Train precision: 0.5607 | Train recall: 0.5222 | Train f1score: 0.5303 | Train acc: 0.5640 | Train kappa: 0.8709 \n",
      "Val loss: 0.9859 | Val precision: 0.5685 | Val recall: 0.4890 | Val f1score: 0.4916 | Val acc: 0.5654 | Val kappa: 0.8694 \n",
      "\n",
      "Epoch: 8 \n",
      "Learning rate: 0.00013348388671875\n",
      "Train loss: 0.9480 | Train precision: 0.5759 | Train recall: 0.5359 | Train f1score: 0.5465 | Train acc: 0.5812 | Train kappa: 0.8805 \n",
      "Val loss: 1.7930 | Val precision: 0.4402 | Val recall: 0.3944 | Val f1score: 0.3534 | Val acc: 0.4004 | Val kappa: 0.6138 \n",
      "\n",
      "Epoch: 9 \n",
      "Learning rate: 0.0001001129150390625\n",
      "Train loss: 0.9346 | Train precision: 0.5790 | Train recall: 0.5415 | Train f1score: 0.5511 | Train acc: 0.5769 | Train kappa: 0.8841 \n",
      "Val loss: 1.0140 | Val precision: 0.5192 | Val recall: 0.5221 | Val f1score: 0.4926 | Val acc: 0.5576 | Val kappa: 0.8238 \n",
      "\n",
      "Epoch: 10 \n",
      "Learning rate: 7.508468627929687e-05\n",
      "Train loss: 0.9108 | Train precision: 0.5968 | Train recall: 0.5625 | Train f1score: 0.5710 | Train acc: 0.5960 | Train kappa: 0.8845 \n",
      "Val loss: 0.9538 | Val precision: 0.5723 | Val recall: 0.5358 | Val f1score: 0.5319 | Val acc: 0.5938 | Val kappa: 0.8521 \n",
      "\n",
      "Epoch: 11 \n",
      "Learning rate: 5.6313514709472656e-05\n",
      "Train loss: 0.8919 | Train precision: 0.6087 | Train recall: 0.5730 | Train f1score: 0.5825 | Train acc: 0.5990 | Train kappa: 0.8974 \n",
      "Val loss: 0.9058 | Val precision: 0.5582 | Val recall: 0.5487 | Val f1score: 0.5479 | Val acc: 0.5996 | Val kappa: 0.8804 \n",
      "\n",
      "Epoch: 12 \n",
      "Learning rate: 4.223513603210449e-05\n",
      "Train loss: 0.8692 | Train precision: 0.6156 | Train recall: 0.5799 | Train f1score: 0.5890 | Train acc: 0.6079 | Train kappa: 0.9059 \n",
      "Val loss: 0.9769 | Val precision: 0.5642 | Val recall: 0.5271 | Val f1score: 0.5329 | Val acc: 0.5840 | Val kappa: 0.8637 \n",
      "\n",
      "Epoch: 13 \n",
      "Learning rate: 3.167635202407837e-05\n",
      "Train loss: 0.8686 | Train precision: 0.6260 | Train recall: 0.5906 | Train f1score: 0.6017 | Train acc: 0.6088 | Train kappa: 0.9003 \n",
      "Val loss: 0.9344 | Val precision: 0.5725 | Val recall: 0.5714 | Val f1score: 0.5633 | Val acc: 0.5977 | Val kappa: 0.8754 \n",
      "\n",
      "Epoch: 14 \n",
      "Learning rate: 2.3757264018058778e-05\n",
      "Train loss: 0.8613 | Train precision: 0.6224 | Train recall: 0.5922 | Train f1score: 0.5994 | Train acc: 0.6140 | Train kappa: 0.9031 \n",
      "Val loss: 0.9076 | Val precision: 0.5924 | Val recall: 0.5569 | Val f1score: 0.5648 | Val acc: 0.6123 | Val kappa: 0.8827 \n",
      "\n",
      "Epoch: 15 \n",
      "Learning rate: 1.7817948013544083e-05\n",
      "Train loss: 0.8617 | Train precision: 0.6224 | Train recall: 0.5883 | Train f1score: 0.5983 | Train acc: 0.6125 | Train kappa: 0.8987 \n",
      "Val loss: 0.9383 | Val precision: 0.5628 | Val recall: 0.5420 | Val f1score: 0.5456 | Val acc: 0.5918 | Val kappa: 0.8700 \n",
      "\n",
      "Epoch: 16 \n",
      "Learning rate: 1.3363461010158063e-05\n",
      "Train loss: 0.8577 | Train precision: 0.6335 | Train recall: 0.5915 | Train f1score: 0.6037 | Train acc: 0.6136 | Train kappa: 0.9034 \n",
      "Val loss: 0.9103 | Val precision: 0.5737 | Val recall: 0.5503 | Val f1score: 0.5553 | Val acc: 0.6035 | Val kappa: 0.8817 \n",
      "\n",
      "Epoch: 17 \n",
      "Learning rate: 1.0022595757618546e-05\n",
      "Train loss: 0.8566 | Train precision: 0.6255 | Train recall: 0.5907 | Train f1score: 0.6032 | Train acc: 0.6103 | Train kappa: 0.9051 \n",
      "Val loss: 0.9236 | Val precision: 0.5756 | Val recall: 0.5692 | Val f1score: 0.5650 | Val acc: 0.6035 | Val kappa: 0.8772 \n",
      "\n",
      "Epoch: 18 \n",
      "Learning rate: 7.51694681821391e-06\n",
      "Train loss: 0.8302 | Train precision: 0.6458 | Train recall: 0.6099 | Train f1score: 0.6202 | Train acc: 0.6272 | Train kappa: 0.9087 \n",
      "Val loss: 0.9062 | Val precision: 0.5863 | Val recall: 0.5658 | Val f1score: 0.5691 | Val acc: 0.6104 | Val kappa: 0.8780 \n",
      "\n",
      "Epoch: 19 \n",
      "Learning rate: 5.637710113660432e-06\n",
      "Train loss: 0.8375 | Train precision: 0.6483 | Train recall: 0.6118 | Train f1score: 0.6228 | Train acc: 0.6224 | Train kappa: 0.9050 \n",
      "Val loss: 0.9046 | Val precision: 0.5825 | Val recall: 0.5595 | Val f1score: 0.5627 | Val acc: 0.6133 | Val kappa: 0.8799 \n",
      "\n",
      "Epoch: 20 \n",
      "Learning rate: 4.228282585245324e-06\n",
      "Train loss: 0.8365 | Train precision: 0.6324 | Train recall: 0.6020 | Train f1score: 0.6110 | Train acc: 0.6233 | Train kappa: 0.9034 \n",
      "Val loss: 0.9023 | Val precision: 0.5714 | Val recall: 0.5523 | Val f1score: 0.5553 | Val acc: 0.6055 | Val kappa: 0.8846 \n",
      "\n",
      "Epoch: 21 \n",
      "Learning rate: 3.1712119389339933e-06\n",
      "Train loss: 0.8543 | Train precision: 0.6402 | Train recall: 0.5990 | Train f1score: 0.6116 | Train acc: 0.6185 | Train kappa: 0.9061 \n",
      "Val loss: 0.9038 | Val precision: 0.5855 | Val recall: 0.5652 | Val f1score: 0.5705 | Val acc: 0.6143 | Val kappa: 0.8851 \n",
      "\n",
      "Epoch: 22 \n",
      "Learning rate: 2.378408954200495e-06\n",
      "Train loss: 0.8367 | Train precision: 0.6410 | Train recall: 0.6062 | Train f1score: 0.6179 | Train acc: 0.6199 | Train kappa: 0.9086 \n",
      "Val loss: 0.9046 | Val precision: 0.5862 | Val recall: 0.5635 | Val f1score: 0.5687 | Val acc: 0.6133 | Val kappa: 0.8880 \n",
      "\n",
      "Epoch: 23 \n",
      "Learning rate: 1.7838067156503713e-06\n",
      "Train loss: 0.8330 | Train precision: 0.6373 | Train recall: 0.5976 | Train f1score: 0.6107 | Train acc: 0.6242 | Train kappa: 0.9043 \n",
      "Val loss: 0.9018 | Val precision: 0.5860 | Val recall: 0.5613 | Val f1score: 0.5659 | Val acc: 0.6113 | Val kappa: 0.8864 \n",
      "\n",
      "Epoch: 24 \n",
      "Learning rate: 1.3378550367377785e-06\n",
      "Train loss: 0.8324 | Train precision: 0.6442 | Train recall: 0.6097 | Train f1score: 0.6204 | Train acc: 0.6291 | Train kappa: 0.9032 \n",
      "Val loss: 0.9015 | Val precision: 0.5912 | Val recall: 0.5642 | Val f1score: 0.5687 | Val acc: 0.6104 | Val kappa: 0.8883 \n",
      "\n",
      "Epoch: 25 \n",
      "Learning rate: 1.0033912775533338e-06\n",
      "Train loss: 0.8415 | Train precision: 0.6341 | Train recall: 0.5928 | Train f1score: 0.6058 | Train acc: 0.6181 | Train kappa: 0.9079 \n",
      "Val loss: 0.9006 | Val precision: 0.5774 | Val recall: 0.5573 | Val f1score: 0.5590 | Val acc: 0.6094 | Val kappa: 0.8853 \n",
      "\n",
      "Epoch: 26 \n",
      "Learning rate: 1e-06\n",
      "Train loss: 0.8429 | Train precision: 0.6395 | Train recall: 0.6032 | Train f1score: 0.6150 | Train acc: 0.6188 | Train kappa: 0.9088 \n",
      "Val loss: 0.9034 | Val precision: 0.5864 | Val recall: 0.5651 | Val f1score: 0.5692 | Val acc: 0.6113 | Val kappa: 0.8872 \n",
      "\n",
      "Epoch: 27 \n",
      "Learning rate: 1e-06\n",
      "Train loss: 0.8494 | Train precision: 0.6344 | Train recall: 0.5967 | Train f1score: 0.6093 | Train acc: 0.6198 | Train kappa: 0.9075 \n",
      "Val loss: 0.9032 | Val precision: 0.5764 | Val recall: 0.5550 | Val f1score: 0.5581 | Val acc: 0.6084 | Val kappa: 0.8852 \n",
      "\n"
     ]
    },
    {
     "name": "stdout",
     "output_type": "stream",
     "text": [
      "Epoch: 28 \n",
      "Learning rate: 1e-06\n",
      "Train loss: 0.8488 | Train precision: 0.6402 | Train recall: 0.6045 | Train f1score: 0.6158 | Train acc: 0.6194 | Train kappa: 0.8974 \n",
      "Val loss: 0.9020 | Val precision: 0.5810 | Val recall: 0.5582 | Val f1score: 0.5629 | Val acc: 0.6055 | Val kappa: 0.8821 \n",
      "\n",
      "Epoch: 29 \n",
      "Learning rate: 1e-06\n",
      "Train loss: 0.8339 | Train precision: 0.6351 | Train recall: 0.6056 | Train f1score: 0.6152 | Train acc: 0.6189 | Train kappa: 0.9094 \n",
      "Val loss: 0.9029 | Val precision: 0.5769 | Val recall: 0.5620 | Val f1score: 0.5628 | Val acc: 0.6064 | Val kappa: 0.8802 \n",
      "\n",
      "Epoch: 30 \n",
      "Learning rate: 1e-06\n",
      "Train loss: 0.8503 | Train precision: 0.6333 | Train recall: 0.6028 | Train f1score: 0.6123 | Train acc: 0.6171 | Train kappa: 0.9014 \n",
      "Val loss: 0.9034 | Val precision: 0.5809 | Val recall: 0.5598 | Val f1score: 0.5639 | Val acc: 0.6074 | Val kappa: 0.8837 \n",
      "\n",
      "Epoch: 31 \n",
      "Learning rate: 1e-06\n",
      "Train loss: 0.8272 | Train precision: 0.6420 | Train recall: 0.6055 | Train f1score: 0.6178 | Train acc: 0.6282 | Train kappa: 0.9055 \n",
      "Val loss: 0.9033 | Val precision: 0.5825 | Val recall: 0.5632 | Val f1score: 0.5666 | Val acc: 0.6074 | Val kappa: 0.8837 \n",
      "\n",
      "Epoch: 32 \n",
      "Learning rate: 1e-06\n",
      "Train loss: 0.8446 | Train precision: 0.6297 | Train recall: 0.6017 | Train f1score: 0.6097 | Train acc: 0.6171 | Train kappa: 0.8979 \n",
      "Val loss: 0.9039 | Val precision: 0.5789 | Val recall: 0.5576 | Val f1score: 0.5613 | Val acc: 0.6055 | Val kappa: 0.8833 \n",
      "\n",
      "Epoch: 33 \n",
      "Learning rate: 1e-06\n",
      "Train loss: 0.8528 | Train precision: 0.6212 | Train recall: 0.5916 | Train f1score: 0.5998 | Train acc: 0.6133 | Train kappa: 0.9081 \n",
      "Val loss: 0.9017 | Val precision: 0.5819 | Val recall: 0.5583 | Val f1score: 0.5638 | Val acc: 0.6084 | Val kappa: 0.8823 \n",
      "\n",
      "Epoch: 34 \n",
      "Learning rate: 1e-06\n",
      "Train loss: 0.8451 | Train precision: 0.6433 | Train recall: 0.6095 | Train f1score: 0.6206 | Train acc: 0.6243 | Train kappa: 0.9046 \n",
      "Val loss: 0.9017 | Val precision: 0.5805 | Val recall: 0.5564 | Val f1score: 0.5614 | Val acc: 0.6064 | Val kappa: 0.8800 \n",
      "\n",
      "Epoch: 35 \n",
      "Learning rate: 1e-06\n",
      "Train loss: 0.8357 | Train precision: 0.6499 | Train recall: 0.6059 | Train f1score: 0.6195 | Train acc: 0.6315 | Train kappa: 0.9085 \n",
      "Val loss: 0.9026 | Val precision: 0.5786 | Val recall: 0.5573 | Val f1score: 0.5610 | Val acc: 0.6064 | Val kappa: 0.8827 \n",
      "\n",
      "Early stopping after epoch 35\n"
     ]
    },
    {
     "data": {
      "text/html": [
       "Waiting for W&B process to finish... <strong style=\"color:green\">(success).</strong>"
      ],
      "text/plain": [
       "<IPython.core.display.HTML object>"
      ]
     },
     "metadata": {},
     "output_type": "display_data"
    },
    {
     "data": {
      "application/vnd.jupyter.widget-view+json": {
       "model_id": "e1961abd446445759dbdb332faafa2d3",
       "version_major": 2,
       "version_minor": 0
      },
      "text/plain": [
       "VBox(children=(Label(value='0.001 MB of 0.001 MB uploaded (0.000 MB deduped)\\r'), FloatProgress(value=1.0, max…"
      ]
     },
     "metadata": {},
     "output_type": "display_data"
    },
    {
     "data": {
      "text/html": [
       "<style>\n",
       "    table.wandb td:nth-child(1) { padding: 0 10px; text-align: left ; width: auto;} td:nth-child(2) {text-align: left ; width: 100%}\n",
       "    .wandb-row { display: flex; flex-direction: row; flex-wrap: wrap; justify-content: flex-start; width: 100% }\n",
       "    .wandb-col { display: flex; flex-direction: column; flex-basis: 100%; flex: 1; padding: 10px; }\n",
       "    </style>\n",
       "<div class=\"wandb-row\"><div class=\"wandb-col\"><h3>Run history:</h3><br/><table class=\"wandb\"><tr><td>learning_rate</td><td>█▆▅▄▃▃▂▂▂▂▁▁▁▁▁▁▁▁▁▁▁▁▁▁▁▁▁▁▁▁▁▁▁▁▁</td></tr><tr><td>train_f1_score</td><td>▁▂▄▅▆▆▆▇▇▇▇▇███████████████████████</td></tr><tr><td>train_loss</td><td>█▆▄▃▃▂▂▂▂▂▁▁▁▁▁▁▁▁▁▁▁▁▁▁▁▁▁▁▁▁▁▁▁▁▁</td></tr><tr><td>val_f1_score</td><td>▁▂▃▂▄▄▇▅▇▇█▇███████████████████████</td></tr><tr><td>val_loss</td><td>█▄▅▇▄▄▁▅▁▁▁▁▁▁▁▁▁▁▁▁▁▁▁▁▁▁▁▁▁▁▁▁▁▁▁</td></tr></table><br/></div><div class=\"wandb-col\"><h3>Run summary:</h3><br/><table class=\"wandb\"><tr><td>learning_rate</td><td>0.0</td></tr><tr><td>train_f1_score</td><td>0.61946</td></tr><tr><td>train_loss</td><td>0.83569</td></tr><tr><td>val_f1_score</td><td>0.56095</td></tr><tr><td>val_loss</td><td>0.90264</td></tr></table><br/></div></div>"
      ],
      "text/plain": [
       "<IPython.core.display.HTML object>"
      ]
     },
     "metadata": {},
     "output_type": "display_data"
    },
    {
     "data": {
      "text/html": [
       " View run <strong style=\"color:#cdcd00\">fold_3_RGB-RE-NIR-CHM-5species-combined</strong> at: <a href='https://wandb.ai/simon-ecke/wze-uav-combined/runs/21tig1jr' target=\"_blank\">https://wandb.ai/simon-ecke/wze-uav-combined/runs/21tig1jr</a><br/>Synced 5 W&B file(s), 0 media file(s), 0 artifact file(s) and 0 other file(s)"
      ],
      "text/plain": [
       "<IPython.core.display.HTML object>"
      ]
     },
     "metadata": {},
     "output_type": "display_data"
    },
    {
     "data": {
      "text/html": [
       "Find logs at: <code>.\\wandb\\run-20230512_180409-21tig1jr\\logs</code>"
      ],
      "text/plain": [
       "<IPython.core.display.HTML object>"
      ]
     },
     "metadata": {},
     "output_type": "display_data"
    },
    {
     "name": "stdout",
     "output_type": "stream",
     "text": [
      "Deleting variables and emptying cache\n",
      "Memory allocated: 1053726208 bytes\n",
      "--------------------------------------------------\n",
      "\n",
      "Fold : 4\n",
      "TRAIN POSITIVE RATIO: 2.9034911350758543\n",
      "VAL POSITIVE RATIO  : 2.997103548153512\n",
      "LENGTH TRAIN GROUPS : 4156\n",
      "LENGTH VAL GROUPS   : 1041\n"
     ]
    },
    {
     "data": {
      "text/html": [
       "wandb version 0.15.2 is available!  To upgrade, please run:\n",
       " $ pip install wandb --upgrade"
      ],
      "text/plain": [
       "<IPython.core.display.HTML object>"
      ]
     },
     "metadata": {},
     "output_type": "display_data"
    },
    {
     "data": {
      "text/html": [
       "Tracking run with wandb version 0.14.2"
      ],
      "text/plain": [
       "<IPython.core.display.HTML object>"
      ]
     },
     "metadata": {},
     "output_type": "display_data"
    },
    {
     "data": {
      "text/html": [
       "Run data is saved locally in <code>C:\\Users\\lwfeckesim\\01_PyTorch\\wze-uav\\wze-uav-master\\wandb\\run-20230512_210001-ltjlbzsp</code>"
      ],
      "text/plain": [
       "<IPython.core.display.HTML object>"
      ]
     },
     "metadata": {},
     "output_type": "display_data"
    },
    {
     "data": {
      "text/html": [
       "Syncing run <strong><a href='https://wandb.ai/simon-ecke/wze-uav-combined/runs/ltjlbzsp' target=\"_blank\">fold_4_RGB-RE-NIR-CHM-5species-combined</a></strong> to <a href='https://wandb.ai/simon-ecke/wze-uav-combined' target=\"_blank\">Weights & Biases</a> (<a href='https://wandb.me/run' target=\"_blank\">docs</a>)<br/>"
      ],
      "text/plain": [
       "<IPython.core.display.HTML object>"
      ]
     },
     "metadata": {},
     "output_type": "display_data"
    },
    {
     "data": {
      "text/html": [
       " View project at <a href='https://wandb.ai/simon-ecke/wze-uav-combined' target=\"_blank\">https://wandb.ai/simon-ecke/wze-uav-combined</a>"
      ],
      "text/plain": [
       "<IPython.core.display.HTML object>"
      ]
     },
     "metadata": {},
     "output_type": "display_data"
    },
    {
     "data": {
      "text/html": [
       " View run at <a href='https://wandb.ai/simon-ecke/wze-uav-combined/runs/ltjlbzsp' target=\"_blank\">https://wandb.ai/simon-ecke/wze-uav-combined/runs/ltjlbzsp</a>"
      ],
      "text/plain": [
       "<IPython.core.display.HTML object>"
      ]
     },
     "metadata": {},
     "output_type": "display_data"
    },
    {
     "name": "stdout",
     "output_type": "stream",
     "text": [
      "There are no same hash_id values in train, val or test datasets. The datasplit was successful\n",
      "Check shapes:\n",
      "\n",
      "Images train dataset: (10942, 250, 250, 6)\n",
      "Labels train dataset: (10942, 1)\n",
      "\n",
      "Images validation dataset: (1042, 250, 250, 6)\n",
      "Labels validation dataset: (1042, 1)\n",
      "\n",
      "--------------------------------------------------\n",
      "Check if the split was stratified: (random_state=42)\n",
      "Picea abies healthy in train dataset: 2996\n",
      "Picea abies stressed in train dataset: 1574\n",
      "Pinus sylvestris healthy in train dataset: 1433\n",
      "Pinus sylvestris stressed in train dataset: 1737\n",
      "Abies alba healthy in train dataset: 317\n",
      "Abies alba stressed in train dataset: 129\n",
      "Fagus sylvatica healthy in train dataset: 944\n",
      "Fagus sylvatica stressed in train dataset: 672\n",
      "Quercus robur/petraea healthy in train dataset: 604\n",
      "Quercus robur/petraea stressed in train dataset: 354\n",
      "Dead trees in train dataset: 182\n",
      "Picea abies healthy in validation dataset: 282\n",
      "Picea abies stressed in validation dataset: 144\n",
      "Pinus sylvestris healthy in validation dataset: 128\n",
      "Pinus sylvestris stressed in validation dataset: 165\n",
      "Abies alba healthy in validation dataset: 33\n",
      "Abies alba stressed in validation dataset: 12\n",
      "Fagus sylvatica healthy in validation dataset: 109\n",
      "Fagus sylvatica stressed in validation dataset: 72\n",
      "Quercus robur/petraea healthy in validation dataset: 46\n",
      "Quercus robur/petraea stressed in validation dataset: 33\n",
      "Dead trees in validation dataset: 18\n",
      "--------------------------------------------------\n",
      "\n",
      "Creating datasets for fold: 4\n",
      "\n",
      "Creating dataloaders for fold: 4\n",
      "\n",
      "Loaded pretrained weights for efficientnet-b7\n",
      "\n",
      "[INFO] Fold number: 4\n",
      "[INFO] Number of epochs: 50\n",
      "[INFO] Batch_size: 32\n",
      "[INFO] Number of bands: 6\n",
      "[INFO] Dropout rate: 0.5\n",
      "[INFO] Gamma learning rate: 0.75\n",
      "[INFO] Memory allocated: 0 bytes\n"
     ]
    },
    {
     "data": {
      "application/vnd.jupyter.widget-view+json": {
       "model_id": "be7f6b7fbff54f059cab45f065859e70",
       "version_major": 2,
       "version_minor": 0
      },
      "text/plain": [
       "  0%|          | 0/50 [00:00<?, ?it/s]"
      ]
     },
     "metadata": {},
     "output_type": "display_data"
    },
    {
     "name": "stdout",
     "output_type": "stream",
     "text": [
      "Epoch: 1 \n",
      "Learning rate: 0.001\n",
      "Train loss: 1.7189 | Train precision: 0.2513 | Train recall: 0.2185 | Train f1score: 0.2163 | Train acc: 0.3425 | Train kappa: 0.5712 \n",
      "Val loss: 2.0657 | Val precision: 0.2568 | Val recall: 0.2238 | Val f1score: 0.2021 | Val acc: 0.3047 | Val kappa: 0.4346 \n",
      "\n",
      "Epoch: 2 \n",
      "Learning rate: 0.00075\n",
      "Train loss: 1.4579 | Train precision: 0.3493 | Train recall: 0.3019 | Train f1score: 0.3083 | Train acc: 0.4077 | Train kappa: 0.6889 \n",
      "Val loss: 2.1133 | Val precision: 0.1469 | Val recall: 0.2023 | Val f1score: 0.1327 | Val acc: 0.3115 | Val kappa: 0.4603 \n",
      "\n",
      "Epoch: 3 \n",
      "Learning rate: 0.0005625000000000001\n",
      "Train loss: 1.2203 | Train precision: 0.4503 | Train recall: 0.4148 | Train f1score: 0.4185 | Train acc: 0.4838 | Train kappa: 0.7800 \n",
      "Val loss: 4.5661 | Val precision: 0.2858 | Val recall: 0.1261 | Val f1score: 0.0698 | Val acc: 0.0713 | Val kappa: -0.0976 \n",
      "\n",
      "Epoch: 4 \n",
      "Learning rate: 0.000421875\n",
      "Train loss: 1.0908 | Train precision: 0.4927 | Train recall: 0.4665 | Train f1score: 0.4702 | Train acc: 0.5215 | Train kappa: 0.8392 \n",
      "Val loss: 1.1701 | Val precision: 0.5495 | Val recall: 0.4227 | Val f1score: 0.4059 | Val acc: 0.4980 | Val kappa: 0.8353 \n",
      "\n",
      "Epoch: 5 \n",
      "Learning rate: 0.00031640625\n",
      "Train loss: 1.0233 | Train precision: 0.5491 | Train recall: 0.5134 | Train f1score: 0.5223 | Train acc: 0.5559 | Train kappa: 0.8521 \n",
      "Val loss: 1.0624 | Val precision: 0.4425 | Val recall: 0.4647 | Val f1score: 0.4353 | Val acc: 0.5605 | Val kappa: 0.8449 \n",
      "\n",
      "Epoch: 6 \n",
      "Learning rate: 0.0002373046875\n",
      "Train loss: 0.9785 | Train precision: 0.5536 | Train recall: 0.5283 | Train f1score: 0.5324 | Train acc: 0.5714 | Train kappa: 0.8617 \n",
      "Val loss: 1.0340 | Val precision: 0.6210 | Val recall: 0.4666 | Val f1score: 0.4679 | Val acc: 0.5752 | Val kappa: 0.8505 \n",
      "\n",
      "Epoch: 7 \n",
      "Learning rate: 0.000177978515625\n",
      "Train loss: 0.9261 | Train precision: 0.5803 | Train recall: 0.5502 | Train f1score: 0.5583 | Train acc: 0.5865 | Train kappa: 0.8829 \n",
      "Val loss: 1.1275 | Val precision: 0.5100 | Val recall: 0.5030 | Val f1score: 0.4838 | Val acc: 0.5479 | Val kappa: 0.8487 \n",
      "\n",
      "Epoch: 8 \n",
      "Learning rate: 0.00013348388671875\n",
      "Train loss: 0.9000 | Train precision: 0.6042 | Train recall: 0.5791 | Train f1score: 0.5872 | Train acc: 0.5994 | Train kappa: 0.8909 \n",
      "Val loss: 0.9692 | Val precision: 0.6139 | Val recall: 0.5313 | Val f1score: 0.5468 | Val acc: 0.5977 | Val kappa: 0.8921 \n",
      "\n",
      "Epoch: 9 \n",
      "Learning rate: 0.0001001129150390625\n",
      "Train loss: 0.8977 | Train precision: 0.6039 | Train recall: 0.5769 | Train f1score: 0.5834 | Train acc: 0.5960 | Train kappa: 0.8949 \n",
      "Val loss: 0.9087 | Val precision: 0.6297 | Val recall: 0.5618 | Val f1score: 0.5796 | Val acc: 0.6182 | Val kappa: 0.8916 \n",
      "\n",
      "Epoch: 10 \n",
      "Learning rate: 7.508468627929687e-05\n",
      "Train loss: 0.8698 | Train precision: 0.6175 | Train recall: 0.5937 | Train f1score: 0.6018 | Train acc: 0.6068 | Train kappa: 0.9017 \n",
      "Val loss: 1.0778 | Val precision: 0.5397 | Val recall: 0.5458 | Val f1score: 0.5187 | Val acc: 0.5684 | Val kappa: 0.8101 \n",
      "\n",
      "Epoch: 11 \n",
      "Learning rate: 5.6313514709472656e-05\n",
      "Train loss: 0.8435 | Train precision: 0.6340 | Train recall: 0.6074 | Train f1score: 0.6157 | Train acc: 0.6233 | Train kappa: 0.9122 \n",
      "Val loss: 0.8737 | Val precision: 0.6100 | Val recall: 0.5444 | Val f1score: 0.5485 | Val acc: 0.6172 | Val kappa: 0.9085 \n",
      "\n",
      "Epoch: 12 \n",
      "Learning rate: 4.223513603210449e-05\n",
      "Train loss: 0.8338 | Train precision: 0.6465 | Train recall: 0.6059 | Train f1score: 0.6179 | Train acc: 0.6221 | Train kappa: 0.9098 \n",
      "Val loss: 0.8560 | Val precision: 0.5872 | Val recall: 0.5778 | Val f1score: 0.5775 | Val acc: 0.6230 | Val kappa: 0.9055 \n",
      "\n",
      "Epoch: 13 \n",
      "Learning rate: 3.167635202407837e-05\n",
      "Train loss: 0.8321 | Train precision: 0.6454 | Train recall: 0.6184 | Train f1score: 0.6278 | Train acc: 0.6308 | Train kappa: 0.9103 \n",
      "Val loss: 0.8902 | Val precision: 0.5675 | Val recall: 0.5807 | Val f1score: 0.5706 | Val acc: 0.6094 | Val kappa: 0.9022 \n",
      "\n",
      "Epoch: 14 \n",
      "Learning rate: 2.3757264018058778e-05\n",
      "Train loss: 0.7965 | Train precision: 0.6594 | Train recall: 0.6349 | Train f1score: 0.6432 | Train acc: 0.6383 | Train kappa: 0.9259 \n",
      "Val loss: 0.8847 | Val precision: 0.5948 | Val recall: 0.5966 | Val f1score: 0.5928 | Val acc: 0.6143 | Val kappa: 0.9061 \n",
      "\n",
      "Epoch: 15 \n",
      "Learning rate: 1.7817948013544083e-05\n",
      "Train loss: 0.8200 | Train precision: 0.6378 | Train recall: 0.6184 | Train f1score: 0.6257 | Train acc: 0.6269 | Train kappa: 0.9180 \n",
      "Val loss: 0.8686 | Val precision: 0.5960 | Val recall: 0.5611 | Val f1score: 0.5683 | Val acc: 0.6172 | Val kappa: 0.9069 \n",
      "\n",
      "Epoch: 16 \n",
      "Learning rate: 1.3363461010158063e-05\n",
      "Train loss: 0.8076 | Train precision: 0.6487 | Train recall: 0.6181 | Train f1score: 0.6286 | Train acc: 0.6338 | Train kappa: 0.9141 \n",
      "Val loss: 0.8792 | Val precision: 0.6115 | Val recall: 0.5885 | Val f1score: 0.5896 | Val acc: 0.6289 | Val kappa: 0.9051 \n",
      "\n",
      "Epoch: 17 \n",
      "Learning rate: 1.0022595757618546e-05\n",
      "Train loss: 0.8053 | Train precision: 0.6575 | Train recall: 0.6352 | Train f1score: 0.6431 | Train acc: 0.6435 | Train kappa: 0.9197 \n",
      "Val loss: 0.8675 | Val precision: 0.5973 | Val recall: 0.5684 | Val f1score: 0.5700 | Val acc: 0.6270 | Val kappa: 0.9035 \n",
      "\n",
      "Epoch: 18 \n",
      "Learning rate: 7.51694681821391e-06\n",
      "Train loss: 0.8053 | Train precision: 0.6518 | Train recall: 0.6236 | Train f1score: 0.6328 | Train acc: 0.6340 | Train kappa: 0.9188 \n",
      "Val loss: 0.8817 | Val precision: 0.5928 | Val recall: 0.5677 | Val f1score: 0.5676 | Val acc: 0.6162 | Val kappa: 0.8905 \n",
      "\n",
      "Epoch: 19 \n",
      "Learning rate: 5.637710113660432e-06\n",
      "Train loss: 0.8077 | Train precision: 0.6555 | Train recall: 0.6260 | Train f1score: 0.6367 | Train acc: 0.6346 | Train kappa: 0.9146 \n",
      "Val loss: 0.8711 | Val precision: 0.5964 | Val recall: 0.6006 | Val f1score: 0.5957 | Val acc: 0.6309 | Val kappa: 0.9027 \n",
      "\n",
      "Epoch: 20 \n",
      "Learning rate: 4.228282585245324e-06\n",
      "Train loss: 0.8103 | Train precision: 0.6446 | Train recall: 0.6249 | Train f1score: 0.6304 | Train acc: 0.6295 | Train kappa: 0.9167 \n",
      "Val loss: 0.8645 | Val precision: 0.6079 | Val recall: 0.5900 | Val f1score: 0.5892 | Val acc: 0.6328 | Val kappa: 0.8987 \n",
      "\n",
      "Epoch: 21 \n",
      "Learning rate: 3.1712119389339933e-06\n",
      "Train loss: 0.8031 | Train precision: 0.6530 | Train recall: 0.6290 | Train f1score: 0.6363 | Train acc: 0.6372 | Train kappa: 0.9197 \n",
      "Val loss: 0.8631 | Val precision: 0.5981 | Val recall: 0.5927 | Val f1score: 0.5917 | Val acc: 0.6318 | Val kappa: 0.8974 \n",
      "\n",
      "Epoch: 22 \n",
      "Learning rate: 2.378408954200495e-06\n",
      "Train loss: 0.7962 | Train precision: 0.6655 | Train recall: 0.6386 | Train f1score: 0.6485 | Train acc: 0.6420 | Train kappa: 0.9233 \n",
      "Val loss: 0.8630 | Val precision: 0.6038 | Val recall: 0.5858 | Val f1score: 0.5846 | Val acc: 0.6299 | Val kappa: 0.8982 \n",
      "\n",
      "Early stopping after epoch 22\n"
     ]
    },
    {
     "data": {
      "text/html": [
       "Waiting for W&B process to finish... <strong style=\"color:green\">(success).</strong>"
      ],
      "text/plain": [
       "<IPython.core.display.HTML object>"
      ]
     },
     "metadata": {},
     "output_type": "display_data"
    },
    {
     "data": {
      "application/vnd.jupyter.widget-view+json": {
       "model_id": "ea2adbd493d744a6b50b0cb23e605453",
       "version_major": 2,
       "version_minor": 0
      },
      "text/plain": [
       "VBox(children=(Label(value='0.001 MB of 0.012 MB uploaded (0.000 MB deduped)\\r'), FloatProgress(value=0.101173…"
      ]
     },
     "metadata": {},
     "output_type": "display_data"
    },
    {
     "data": {
      "text/html": [
       "<style>\n",
       "    table.wandb td:nth-child(1) { padding: 0 10px; text-align: left ; width: auto;} td:nth-child(2) {text-align: left ; width: 100%}\n",
       "    .wandb-row { display: flex; flex-direction: row; flex-wrap: wrap; justify-content: flex-start; width: 100% }\n",
       "    .wandb-col { display: flex; flex-direction: column; flex-basis: 100%; flex: 1; padding: 10px; }\n",
       "    </style>\n",
       "<div class=\"wandb-row\"><div class=\"wandb-col\"><h3>Run history:</h3><br/><table class=\"wandb\"><tr><td>learning_rate</td><td>█▆▅▄▃▃▂▂▂▂▁▁▁▁▁▁▁▁▁▁▁▁</td></tr><tr><td>train_f1_score</td><td>▁▂▄▅▆▆▇▇▇▇▇███████████</td></tr><tr><td>train_loss</td><td>█▆▄▃▃▂▂▂▂▂▁▁▁▁▁▁▁▁▁▁▁▁</td></tr><tr><td>val_f1_score</td><td>▃▂▁▅▆▆▇▇█▇▇███████████</td></tr><tr><td>val_loss</td><td>▃▃█▂▁▁▂▁▁▁▁▁▁▁▁▁▁▁▁▁▁▁</td></tr></table><br/></div><div class=\"wandb-col\"><h3>Run summary:</h3><br/><table class=\"wandb\"><tr><td>learning_rate</td><td>0.0</td></tr><tr><td>train_f1_score</td><td>0.64848</td></tr><tr><td>train_loss</td><td>0.79622</td></tr><tr><td>val_f1_score</td><td>0.58458</td></tr><tr><td>val_loss</td><td>0.86297</td></tr></table><br/></div></div>"
      ],
      "text/plain": [
       "<IPython.core.display.HTML object>"
      ]
     },
     "metadata": {},
     "output_type": "display_data"
    },
    {
     "data": {
      "text/html": [
       " View run <strong style=\"color:#cdcd00\">fold_4_RGB-RE-NIR-CHM-5species-combined</strong> at: <a href='https://wandb.ai/simon-ecke/wze-uav-combined/runs/ltjlbzsp' target=\"_blank\">https://wandb.ai/simon-ecke/wze-uav-combined/runs/ltjlbzsp</a><br/>Synced 5 W&B file(s), 0 media file(s), 0 artifact file(s) and 0 other file(s)"
      ],
      "text/plain": [
       "<IPython.core.display.HTML object>"
      ]
     },
     "metadata": {},
     "output_type": "display_data"
    },
    {
     "data": {
      "text/html": [
       "Find logs at: <code>.\\wandb\\run-20230512_210001-ltjlbzsp\\logs</code>"
      ],
      "text/plain": [
       "<IPython.core.display.HTML object>"
      ]
     },
     "metadata": {},
     "output_type": "display_data"
    },
    {
     "name": "stdout",
     "output_type": "stream",
     "text": [
      "Deleting variables and emptying cache\n",
      "Memory allocated: 1056316928 bytes\n",
      "--------------------------------------------------\n",
      "\n",
      "Fold : 5\n",
      "TRAIN POSITIVE RATIO: 2.898136305499726\n",
      "VAL POSITIVE RATIO  : 3.0184916606236403\n",
      "LENGTH TRAIN GROUPS : 4157\n",
      "LENGTH VAL GROUPS   : 1040\n"
     ]
    },
    {
     "data": {
      "application/vnd.jupyter.widget-view+json": {
       "model_id": "14563910937c43eabb5e09574b7bba92",
       "version_major": 2,
       "version_minor": 0
      },
      "text/plain": [
       "VBox(children=(Label(value='Waiting for wandb.init()...\\r'), FloatProgress(value=0.016666666666666666, max=1.0…"
      ]
     },
     "metadata": {},
     "output_type": "display_data"
    },
    {
     "data": {
      "text/html": [
       "wandb version 0.15.2 is available!  To upgrade, please run:\n",
       " $ pip install wandb --upgrade"
      ],
      "text/plain": [
       "<IPython.core.display.HTML object>"
      ]
     },
     "metadata": {},
     "output_type": "display_data"
    },
    {
     "data": {
      "text/html": [
       "Tracking run with wandb version 0.14.2"
      ],
      "text/plain": [
       "<IPython.core.display.HTML object>"
      ]
     },
     "metadata": {},
     "output_type": "display_data"
    },
    {
     "data": {
      "text/html": [
       "Run data is saved locally in <code>C:\\Users\\lwfeckesim\\01_PyTorch\\wze-uav\\wze-uav-master\\wandb\\run-20230512_224945-uphodvym</code>"
      ],
      "text/plain": [
       "<IPython.core.display.HTML object>"
      ]
     },
     "metadata": {},
     "output_type": "display_data"
    },
    {
     "data": {
      "text/html": [
       "Syncing run <strong><a href='https://wandb.ai/simon-ecke/wze-uav-combined/runs/uphodvym' target=\"_blank\">fold_5_RGB-RE-NIR-CHM-5species-combined</a></strong> to <a href='https://wandb.ai/simon-ecke/wze-uav-combined' target=\"_blank\">Weights & Biases</a> (<a href='https://wandb.me/run' target=\"_blank\">docs</a>)<br/>"
      ],
      "text/plain": [
       "<IPython.core.display.HTML object>"
      ]
     },
     "metadata": {},
     "output_type": "display_data"
    },
    {
     "data": {
      "text/html": [
       " View project at <a href='https://wandb.ai/simon-ecke/wze-uav-combined' target=\"_blank\">https://wandb.ai/simon-ecke/wze-uav-combined</a>"
      ],
      "text/plain": [
       "<IPython.core.display.HTML object>"
      ]
     },
     "metadata": {},
     "output_type": "display_data"
    },
    {
     "data": {
      "text/html": [
       " View run at <a href='https://wandb.ai/simon-ecke/wze-uav-combined/runs/uphodvym' target=\"_blank\">https://wandb.ai/simon-ecke/wze-uav-combined/runs/uphodvym</a>"
      ],
      "text/plain": [
       "<IPython.core.display.HTML object>"
      ]
     },
     "metadata": {},
     "output_type": "display_data"
    },
    {
     "name": "stdout",
     "output_type": "stream",
     "text": [
      "There are no same hash_id values in train, val or test datasets. The datasplit was successful\n",
      "Check shapes:\n",
      "\n",
      "Images train dataset: (10946, 250, 250, 6)\n",
      "Labels train dataset: (10946, 1)\n",
      "\n",
      "Images validation dataset: (1040, 250, 250, 6)\n",
      "Labels validation dataset: (1040, 1)\n",
      "\n",
      "--------------------------------------------------\n",
      "Check if the split was stratified: (random_state=42)\n",
      "Picea abies healthy in train dataset: 2988\n",
      "Picea abies stressed in train dataset: 1550\n",
      "Pinus sylvestris healthy in train dataset: 1488\n",
      "Pinus sylvestris stressed in train dataset: 1681\n",
      "Abies alba healthy in train dataset: 325\n",
      "Abies alba stressed in train dataset: 133\n",
      "Fagus sylvatica healthy in train dataset: 1011\n",
      "Fagus sylvatica stressed in train dataset: 701\n",
      "Quercus robur/petraea healthy in train dataset: 574\n",
      "Quercus robur/petraea stressed in train dataset: 326\n",
      "Dead trees in train dataset: 169\n",
      "Picea abies healthy in validation dataset: 289\n",
      "Picea abies stressed in validation dataset: 150\n",
      "Pinus sylvestris healthy in validation dataset: 112\n",
      "Pinus sylvestris stressed in validation dataset: 176\n",
      "Abies alba healthy in validation dataset: 33\n",
      "Abies alba stressed in validation dataset: 11\n",
      "Fagus sylvatica healthy in validation dataset: 87\n",
      "Fagus sylvatica stressed in validation dataset: 60\n",
      "Quercus robur/petraea healthy in validation dataset: 68\n",
      "Quercus robur/petraea stressed in validation dataset: 32\n",
      "Dead trees in validation dataset: 22\n",
      "--------------------------------------------------\n",
      "\n",
      "Creating datasets for fold: 5\n",
      "\n",
      "Creating dataloaders for fold: 5\n",
      "\n",
      "Loaded pretrained weights for efficientnet-b7\n",
      "\n",
      "[INFO] Fold number: 5\n",
      "[INFO] Number of epochs: 50\n",
      "[INFO] Batch_size: 32\n",
      "[INFO] Number of bands: 6\n",
      "[INFO] Dropout rate: 0.5\n",
      "[INFO] Gamma learning rate: 0.75\n",
      "[INFO] Memory allocated: 0 bytes\n"
     ]
    },
    {
     "data": {
      "application/vnd.jupyter.widget-view+json": {
       "model_id": "1fded8bc199946e9991af5439e1f9561",
       "version_major": 2,
       "version_minor": 0
      },
      "text/plain": [
       "  0%|          | 0/50 [00:00<?, ?it/s]"
      ]
     },
     "metadata": {},
     "output_type": "display_data"
    },
    {
     "name": "stdout",
     "output_type": "stream",
     "text": [
      "Epoch: 1 \n",
      "Learning rate: 0.001\n",
      "Train loss: 1.7188 | Train precision: 0.2604 | Train recall: 0.2159 | Train f1score: 0.2119 | Train acc: 0.3405 | Train kappa: 0.5854 \n",
      "Val loss: 2.1461 | Val precision: 0.1354 | Val recall: 0.1661 | Val f1score: 0.1150 | Val acc: 0.2588 | Val kappa: 0.4027 \n",
      "\n",
      "Epoch: 2 \n",
      "Learning rate: 0.00075\n",
      "Train loss: 1.4252 | Train precision: 0.3340 | Train recall: 0.2968 | Train f1score: 0.2972 | Train acc: 0.4218 | Train kappa: 0.6671 \n",
      "Val loss: 1.7939 | Val precision: 0.2608 | Val recall: 0.2260 | Val f1score: 0.1807 | Val acc: 0.3623 | Val kappa: 0.6316 \n",
      "\n",
      "Epoch: 3 \n",
      "Learning rate: 0.0005625000000000001\n",
      "Train loss: 1.2389 | Train precision: 0.4338 | Train recall: 0.3903 | Train f1score: 0.3966 | Train acc: 0.4771 | Train kappa: 0.7792 \n",
      "Val loss: 2.7210 | Val precision: 0.1247 | Val recall: 0.1993 | Val f1score: 0.1086 | Val acc: 0.2852 | Val kappa: 0.2838 \n",
      "\n",
      "Epoch: 4 \n",
      "Learning rate: 0.000421875\n",
      "Train loss: 1.1469 | Train precision: 0.4573 | Train recall: 0.4258 | Train f1score: 0.4281 | Train acc: 0.5046 | Train kappa: 0.8092 \n",
      "Val loss: 1.1319 | Val precision: 0.4582 | Val recall: 0.4217 | Val f1score: 0.4245 | Val acc: 0.5498 | Val kappa: 0.7921 \n",
      "\n",
      "Epoch: 5 \n",
      "Learning rate: 0.00031640625\n",
      "Train loss: 1.0799 | Train precision: 0.5017 | Train recall: 0.4658 | Train f1score: 0.4704 | Train acc: 0.5326 | Train kappa: 0.8319 \n",
      "Val loss: 2.1494 | Val precision: 0.2889 | Val recall: 0.2263 | Val f1score: 0.1852 | Val acc: 0.3320 | Val kappa: 0.5409 \n",
      "\n",
      "Epoch: 6 \n",
      "Learning rate: 0.0002373046875\n",
      "Train loss: 1.0248 | Train precision: 0.5283 | Train recall: 0.4949 | Train f1score: 0.5036 | Train acc: 0.5432 | Train kappa: 0.8505 \n",
      "Val loss: 1.0157 | Val precision: 0.5909 | Val recall: 0.5292 | Val f1score: 0.5473 | Val acc: 0.5615 | Val kappa: 0.8468 \n",
      "\n",
      "Epoch: 7 \n",
      "Learning rate: 0.000177978515625\n",
      "Train loss: 0.9661 | Train precision: 0.5567 | Train recall: 0.5217 | Train f1score: 0.5286 | Train acc: 0.5664 | Train kappa: 0.8669 \n",
      "Val loss: 1.1957 | Val precision: 0.5133 | Val recall: 0.4479 | Val f1score: 0.4572 | Val acc: 0.4922 | Val kappa: 0.8121 \n",
      "\n",
      "Epoch: 8 \n",
      "Learning rate: 0.00013348388671875\n",
      "Train loss: 0.9403 | Train precision: 0.5645 | Train recall: 0.5319 | Train f1score: 0.5395 | Train acc: 0.5776 | Train kappa: 0.8757 \n",
      "Val loss: 1.0110 | Val precision: 0.5783 | Val recall: 0.4756 | Val f1score: 0.4923 | Val acc: 0.5508 | Val kappa: 0.8161 \n",
      "\n",
      "Epoch: 9 \n",
      "Learning rate: 0.0001001129150390625\n",
      "Train loss: 0.9158 | Train precision: 0.5832 | Train recall: 0.5522 | Train f1score: 0.5609 | Train acc: 0.5906 | Train kappa: 0.8869 \n",
      "Val loss: 0.9509 | Val precision: 0.5713 | Val recall: 0.5312 | Val f1score: 0.5438 | Val acc: 0.5693 | Val kappa: 0.8742 \n",
      "\n",
      "Epoch: 10 \n",
      "Learning rate: 7.508468627929687e-05\n",
      "Train loss: 0.8957 | Train precision: 0.6017 | Train recall: 0.5649 | Train f1score: 0.5727 | Train acc: 0.6102 | Train kappa: 0.8852 \n",
      "Val loss: 1.1582 | Val precision: 0.5519 | Val recall: 0.4964 | Val f1score: 0.4664 | Val acc: 0.5479 | Val kappa: 0.8289 \n",
      "\n",
      "Epoch: 11 \n",
      "Learning rate: 5.6313514709472656e-05\n",
      "Train loss: 0.8799 | Train precision: 0.5995 | Train recall: 0.5642 | Train f1score: 0.5741 | Train acc: 0.6025 | Train kappa: 0.8928 \n",
      "Val loss: 0.9755 | Val precision: 0.5461 | Val recall: 0.5311 | Val f1score: 0.5325 | Val acc: 0.5566 | Val kappa: 0.8226 \n",
      "\n",
      "Epoch: 12 \n",
      "Learning rate: 4.223513603210449e-05\n",
      "Train loss: 0.8637 | Train precision: 0.6134 | Train recall: 0.5801 | Train f1score: 0.5898 | Train acc: 0.6177 | Train kappa: 0.8957 \n",
      "Val loss: 1.0299 | Val precision: 0.5978 | Val recall: 0.5003 | Val f1score: 0.4781 | Val acc: 0.5605 | Val kappa: 0.8365 \n",
      "\n",
      "Epoch: 13 \n",
      "Learning rate: 3.167635202407837e-05\n",
      "Train loss: 0.8372 | Train precision: 0.6280 | Train recall: 0.5912 | Train f1score: 0.6010 | Train acc: 0.6298 | Train kappa: 0.9031 \n",
      "Val loss: 0.9052 | Val precision: 0.6122 | Val recall: 0.5659 | Val f1score: 0.5768 | Val acc: 0.5928 | Val kappa: 0.8731 \n",
      "\n",
      "Epoch: 14 \n",
      "Learning rate: 2.3757264018058778e-05\n",
      "Train loss: 0.8479 | Train precision: 0.6312 | Train recall: 0.5961 | Train f1score: 0.6086 | Train acc: 0.6279 | Train kappa: 0.8947 \n",
      "Val loss: 0.9864 | Val precision: 0.5466 | Val recall: 0.5297 | Val f1score: 0.5229 | Val acc: 0.5664 | Val kappa: 0.8314 \n",
      "\n",
      "Epoch: 15 \n",
      "Learning rate: 1.7817948013544083e-05\n",
      "Train loss: 0.8382 | Train precision: 0.6369 | Train recall: 0.6066 | Train f1score: 0.6174 | Train acc: 0.6317 | Train kappa: 0.9005 \n",
      "Val loss: 0.9138 | Val precision: 0.6126 | Val recall: 0.5760 | Val f1score: 0.5850 | Val acc: 0.5928 | Val kappa: 0.8815 \n",
      "\n",
      "Epoch: 16 \n",
      "Learning rate: 1.3363461010158063e-05\n",
      "Train loss: 0.8407 | Train precision: 0.6354 | Train recall: 0.6002 | Train f1score: 0.6127 | Train acc: 0.6311 | Train kappa: 0.8995 \n",
      "Val loss: 0.9019 | Val precision: 0.6046 | Val recall: 0.5671 | Val f1score: 0.5756 | Val acc: 0.5840 | Val kappa: 0.8839 \n",
      "\n",
      "Epoch: 17 \n",
      "Learning rate: 1.0022595757618546e-05\n",
      "Train loss: 0.8349 | Train precision: 0.6345 | Train recall: 0.5959 | Train f1score: 0.6093 | Train acc: 0.6352 | Train kappa: 0.9014 \n",
      "Val loss: 0.8976 | Val precision: 0.5893 | Val recall: 0.5644 | Val f1score: 0.5699 | Val acc: 0.5742 | Val kappa: 0.8849 \n",
      "\n",
      "Epoch: 18 \n",
      "Learning rate: 7.51694681821391e-06\n",
      "Train loss: 0.8299 | Train precision: 0.6347 | Train recall: 0.6028 | Train f1score: 0.6141 | Train acc: 0.6290 | Train kappa: 0.9046 \n",
      "Val loss: 0.9001 | Val precision: 0.6271 | Val recall: 0.5827 | Val f1score: 0.5915 | Val acc: 0.5938 | Val kappa: 0.8914 \n",
      "\n",
      "Epoch: 19 \n",
      "Learning rate: 5.637710113660432e-06\n",
      "Train loss: 0.8188 | Train precision: 0.6397 | Train recall: 0.6075 | Train f1score: 0.6172 | Train acc: 0.6354 | Train kappa: 0.9072 \n",
      "Val loss: 0.8955 | Val precision: 0.6031 | Val recall: 0.5753 | Val f1score: 0.5800 | Val acc: 0.5898 | Val kappa: 0.8863 \n",
      "\n",
      "Epoch: 20 \n",
      "Learning rate: 4.228282585245324e-06\n",
      "Train loss: 0.8190 | Train precision: 0.6410 | Train recall: 0.6127 | Train f1score: 0.6229 | Train acc: 0.6306 | Train kappa: 0.9132 \n",
      "Val loss: 0.8951 | Val precision: 0.5971 | Val recall: 0.5718 | Val f1score: 0.5792 | Val acc: 0.5869 | Val kappa: 0.8855 \n",
      "\n",
      "Epoch: 21 \n",
      "Learning rate: 3.1712119389339933e-06\n",
      "Train loss: 0.8157 | Train precision: 0.6497 | Train recall: 0.6106 | Train f1score: 0.6236 | Train acc: 0.6372 | Train kappa: 0.9088 \n",
      "Val loss: 0.8954 | Val precision: 0.6255 | Val recall: 0.5734 | Val f1score: 0.5860 | Val acc: 0.5918 | Val kappa: 0.8874 \n",
      "\n",
      "Epoch: 22 \n",
      "Learning rate: 2.378408954200495e-06\n",
      "Train loss: 0.8126 | Train precision: 0.6590 | Train recall: 0.6112 | Train f1score: 0.6244 | Train acc: 0.6322 | Train kappa: 0.9109 \n",
      "Val loss: 0.8970 | Val precision: 0.5885 | Val recall: 0.5697 | Val f1score: 0.5736 | Val acc: 0.5869 | Val kappa: 0.8852 \n",
      "\n",
      "Epoch: 23 \n",
      "Learning rate: 1.7838067156503713e-06\n",
      "Train loss: 0.8285 | Train precision: 0.6406 | Train recall: 0.6094 | Train f1score: 0.6205 | Train acc: 0.6327 | Train kappa: 0.9092 \n",
      "Val loss: 0.8966 | Val precision: 0.5895 | Val recall: 0.5693 | Val f1score: 0.5746 | Val acc: 0.5850 | Val kappa: 0.8876 \n",
      "\n",
      "Epoch: 24 \n",
      "Learning rate: 1.3378550367377785e-06\n",
      "Train loss: 0.8205 | Train precision: 0.6354 | Train recall: 0.6035 | Train f1score: 0.6153 | Train acc: 0.6320 | Train kappa: 0.9063 \n",
      "Val loss: 0.8961 | Val precision: 0.5962 | Val recall: 0.5741 | Val f1score: 0.5798 | Val acc: 0.5889 | Val kappa: 0.8901 \n",
      "\n"
     ]
    }
   ],
   "source": [
    "%%time\n",
    "\n",
    "# Set the random seeds\n",
    "set_seeds(42)\n",
    "\n",
    "# Define the number of folds\n",
    "num_folds = 5\n",
    "\n",
    "# group the hashIDs to get the unique values of hashIDs remaining in the subset  \n",
    "groups = sub_hash_id[:, 0] \n",
    "print(\"ORIGINAL POSITIVE RATIO:\", sub_label_set.mean())\n",
    "# create a StratifiedGroupKFold instance\n",
    "kf = StratifiedGroupKFold(n_splits=num_folds, shuffle=True, random_state=42)\n",
    "\n",
    "# loop through the folds\n",
    "for fold, (train_ids, val_ids) in enumerate(kf.split(sub_image_set, sub_label_set, groups)):\n",
    "    print(\"Fold :\", fold+1)\n",
    "    print(\"TRAIN POSITIVE RATIO:\", sub_label_set[train_ids].mean())\n",
    "    print(\"VAL POSITIVE RATIO  :\", sub_label_set[val_ids].mean())\n",
    "    print(\"LENGTH TRAIN GROUPS :\", len(set(groups[train_ids])))\n",
    "    print(\"LENGTH VAL GROUPS   :\", len(set(groups[val_ids])))\n",
    "    \n",
    "    train_ids = sub_hash_id[:, 0][train_ids]\n",
    "    val_ids = np.unique(sub_hash_id[:, 0][val_ids])\n",
    "\n",
    "    torch.cuda.empty_cache()\n",
    "    \n",
    "    # Initialize a new wandb run for this fold\n",
    "    wandb.init(project='wze-uav-combined', name=f\"fold_{fold + 1}_{extra}\")\n",
    "    \n",
    "    # 1. Split data into train and validation set\n",
    "    # Get the training and testing data for this fold\n",
    "    # Use np.isin() to create boolean arrays indicating which indices belong to train or test sets\n",
    "    train_indices = np.isin(sub_hash_id[:,0], train_ids)\n",
    "    \n",
    "    val_indices = np.zeros_like(train_indices)  # initialize to all False\n",
    "    for hash_id_val in val_ids:\n",
    "        # select one image ID randomly from either 2020 or 2021 or 2022 for each unique hash ID in the test set\n",
    "        temp = np.unique(sub_hash_id[(sub_hash_id[:, 0] == hash_id_val), 1]) # check how many years are available per hashID\n",
    "        if len(temp) == 1:\n",
    "            year = temp[0]\n",
    "        elif len(temp) == 2:\n",
    "            year = np.random.choice(temp)\n",
    "        else:\n",
    "            year = np.random.choice(temp)\n",
    "        \n",
    "        # select image ID using the conditions\n",
    "        image_ids = sub_hash_id[(sub_hash_id[:,0] == hash_id_val) & (sub_hash_id[:,1] == year), 0]\n",
    "    \n",
    "        # mark the index corresponding to the selected image ID and hash ID as True in the test indices array\n",
    "        val_indices[(sub_hash_id[:,0] == hash_id_val) & (sub_hash_id[:,1] == year) & (np.isin(sub_hash_id[:,0], image_ids))] = True \n",
    "    \n",
    "    # Reshape boolean arrays to match shape of image_set and label_set\n",
    "    train_indices = train_indices.reshape(-1, 1)\n",
    "    val_indices = val_indices.reshape(-1, 1)\n",
    "    \n",
    "    # Select images and labels for train and validation sets\n",
    "    train_image_set = sub_image_set[train_indices[:, 0]]\n",
    "    train_label_set = sub_label_set[train_indices[:, 0]]\n",
    "    train_hash_id = sub_hash_id[train_indices[:, 0]][:,0]\n",
    "    train_species_set = sub_species_set[train_indices[:, 0]]\n",
    "    val_image_set = sub_image_set[val_indices[:, 0]]\n",
    "    val_label_set = sub_label_set[val_indices[:, 0]]\n",
    "    val_hash_id = sub_hash_id[val_indices[:, 0]][:,0]\n",
    "    val_species_set = sub_species_set[val_indices[:, 0]]\n",
    "    # reshape \n",
    "    train_label_set = train_label_set.reshape(-1, 1)\n",
    "    val_label_set = val_label_set.reshape(-1, 1)\n",
    "    train_species_set = train_species_set.reshape(-1, 1)\n",
    "    val_species_set = val_species_set.reshape(-1, 1)\n",
    "    \n",
    "    # check if there are any group overlaps between the data splits\n",
    "    hash_set = set(train_hash_id)\n",
    "    val_hash_set = set(val_hash_id)\n",
    "    test_hash_set = set(test_hash_id[:, 0].flatten())\n",
    "    intersection = hash_set.intersection(val_hash_set)\n",
    "    intersection2 = test_hash_set.intersection(val_hash_set)\n",
    "    intersection3 = hash_set.intersection(test_hash_set)\n",
    "    if intersection:\n",
    "        print(f\"Hash_id values in both train and val sets: {len(intersection)}\")\n",
    "        print(f\"Hash_id values in both test and val sets: {len(intersection2)}\")\n",
    "        print(f\"Hash_id values in both train and test sets: {len(intersection3)}\")\n",
    "    else:\n",
    "        print(\"There are no same hash_id values in train, val or test datasets. The datasplit was successful\")\n",
    "    \n",
    "         \n",
    "    print(\"Check shapes:\\n\")\n",
    "    print(f\"Images train dataset: {train_image_set.shape}\")\n",
    "    print(f\"Labels train dataset: {train_label_set.shape}\\n\")\n",
    "    \n",
    "    print(f\"Images validation dataset: {val_image_set.shape}\")\n",
    "    print(f\"Labels validation dataset: {val_label_set.shape}\\n\")\n",
    "    print('-'*50)\n",
    "    print (f\"Check if the split was stratified: (random_state=42)\")\n",
    "    print(f\"Picea abies healthy in train dataset: {np.count_nonzero(train_label_set == 0)}\")\n",
    "    print(f\"Picea abies stressed in train dataset: {np.count_nonzero(train_label_set == 1)}\")\n",
    "    print(f\"Pinus sylvestris healthy in train dataset: {np.count_nonzero(train_label_set == 2)}\")\n",
    "    print(f\"Pinus sylvestris stressed in train dataset: {np.count_nonzero(train_label_set == 3)}\")\n",
    "    print(f\"Abies alba healthy in train dataset: {np.count_nonzero(train_label_set == 4)}\")\n",
    "    print(f\"Abies alba stressed in train dataset: {np.count_nonzero(train_label_set == 5)}\")\n",
    "    print(f\"Fagus sylvatica healthy in train dataset: {np.count_nonzero(train_label_set == 6)}\")\n",
    "    print(f\"Fagus sylvatica stressed in train dataset: {np.count_nonzero(train_label_set == 7)}\")\n",
    "    print(f\"Quercus robur/petraea healthy in train dataset: {np.count_nonzero(train_label_set == 8)}\")\n",
    "    print(f\"Quercus robur/petraea stressed in train dataset: {np.count_nonzero(train_label_set == 9)}\")\n",
    "    print(f\"Dead trees in train dataset: {np.count_nonzero(train_label_set == 10)}\")\n",
    "    print(f\"Picea abies healthy in validation dataset: {np.count_nonzero(val_label_set == 0)}\")\n",
    "    print(f\"Picea abies stressed in validation dataset: {np.count_nonzero(val_label_set == 1)}\")\n",
    "    print(f\"Pinus sylvestris healthy in validation dataset: {np.count_nonzero(val_label_set == 2)}\")\n",
    "    print(f\"Pinus sylvestris stressed in validation dataset: {np.count_nonzero(val_label_set == 3)}\")\n",
    "    print(f\"Abies alba healthy in validation dataset: {np.count_nonzero(val_label_set == 4)}\")\n",
    "    print(f\"Abies alba stressed in validation dataset: {np.count_nonzero(val_label_set == 5)}\")\n",
    "    print(f\"Fagus sylvatica healthy in validation dataset: {np.count_nonzero(val_label_set == 6)}\")\n",
    "    print(f\"Fagus sylvatica stressed in validation dataset: {np.count_nonzero(val_label_set == 7)}\")\n",
    "    print(f\"Quercus robur/petraea healthy in validation dataset: {np.count_nonzero(val_label_set == 8)}\")\n",
    "    print(f\"Quercus robur/petraea stressed in validation dataset: {np.count_nonzero(val_label_set == 9)}\")\n",
    "    print(f\"Dead trees in validation dataset: {np.count_nonzero(val_label_set == 10)}\")\n",
    "    print(\"-\"*50)\n",
    "   \n",
    "    # 2. Create train and validation dataset. (choose custom dataset loader with 3 - 5 classes)\n",
    "    print(f\"\\nCreating datasets for fold: {fold + 1}\\n\")\n",
    "    train_dataset = data_loader.CustomDataset(data=train_image_set, labels=train_label_set, class_names=class_names, species = train_species_set,\n",
    "                                                         transform=transform_train)\n",
    "    \n",
    "    val_dataset = data_loader.CustomDataset(data=val_image_set, labels=val_label_set, class_names=class_names,\n",
    "                                                       species = val_species_set, transform=transform)\n",
    "   \n",
    "    # 3. Create train and validation dataloader\n",
    "    # create sampler for oversampling of the minority classes\n",
    "    sampler = data_loader.data_sampler(dataset=train_dataset, class_names=class_names)\n",
    "    print(f\"Creating dataloaders for fold: {fold +1}\\n\")\n",
    "    train_dataloader = DataLoader(train_dataset, batch_size=batch_size, persistent_workers=True, pin_memory=True, num_workers=NUM_WORKERS, generator=g,\n",
    "                              sampler=sampler, shuffle=False, drop_last=True) # shuffle false because of the sampler\n",
    "\n",
    "    val_dataloader = DataLoader(val_dataset, batch_size=batch_size, persistent_workers=True, pin_memory=True, num_workers=NUM_WORKERS, shuffle=False,\n",
    "                             drop_last=True)\n",
    "    \n",
    "    model = model_effnet.EfficientNet.from_pretrained('efficientnet-b7', in_channels=n_bands, num_classes=num_classes, dropout_rate=dropout_rate)\n",
    "    #model = models.create_effnetb7(output_shape=num_classes, unfreeze=True, dropout_rate=dropout_rate, device=device)\n",
    "   \n",
    "    loss_fn = nn.CrossEntropyLoss()\n",
    "    optimizer = torch.optim.Adam(params=model.parameters(), lr=lr)\n",
    "    lr_scheduler = CustomExponentialLR(optimizer, gamma=gamma, min_lr=min_lr)\n",
    "\n",
    "    fold += 1\n",
    "    print(f\"\\n[INFO] Fold number: {fold}\")\n",
    "    print(f\"[INFO] Number of epochs: {epochs}\")\n",
    "    print(f\"[INFO] Batch_size: {batch_size}\")\n",
    "    print(f\"[INFO] Number of bands: {n_bands}\")\n",
    "    print(f\"[INFO] Dropout rate: {dropout_rate}\")\n",
    "    print(f\"[INFO] Gamma learning rate: {gamma}\")\n",
    "    print(f\"[INFO] Memory allocated: {torch.cuda.memory_allocated()} bytes\")\n",
    "    # 4. Train model with k fold dataloaders and track experiments\n",
    "    \n",
    "    if fold == 1:\n",
    "        fold1_results = train(model=model, model_name=model_name, n_bands=n_bands, batch_size=batch_size,train_dataloader=train_dataloader, val_dataloader=val_dataloader, \n",
    "                        optimizer=optimizer, loss_fn=loss_fn, lr_scheduler=lr_scheduler, num_classes=num_classes, epochs=epochs, experiment_num=fold, device=device,\n",
    "                        writer=None, early_stop_patience = patience)\n",
    "       \n",
    "    elif fold == 2:\n",
    "        fold2_results = train(model=model, model_name=model_name, n_bands=n_bands, batch_size=batch_size,train_dataloader=train_dataloader, val_dataloader=val_dataloader, \n",
    "                        optimizer=optimizer, loss_fn=loss_fn, lr_scheduler=lr_scheduler, num_classes=num_classes, epochs=epochs, experiment_num=fold, device=device,\n",
    "                        writer=None, early_stop_patience = patience)\n",
    "    elif fold == 3:\n",
    "        fold3_results = train(model=model, model_name=model_name, n_bands=n_bands, batch_size=batch_size,train_dataloader=train_dataloader, val_dataloader=val_dataloader, \n",
    "                        optimizer=optimizer, loss_fn=loss_fn, lr_scheduler=lr_scheduler, num_classes=num_classes, epochs=epochs, experiment_num=fold, device=device,\n",
    "                        writer=None, early_stop_patience = patience)\n",
    "    elif fold == 4:\n",
    "        fold4_results = train(model=model, model_name=model_name, n_bands=n_bands, batch_size=batch_size,train_dataloader=train_dataloader, val_dataloader=val_dataloader, \n",
    "                        optimizer=optimizer, loss_fn=loss_fn, lr_scheduler=lr_scheduler, num_classes=num_classes, epochs=epochs, experiment_num=fold, device=device,\n",
    "                        writer=None, early_stop_patience = patience)\n",
    "    else:\n",
    "        fold5_results = train(model=model, model_name=model_name, n_bands=n_bands, batch_size=batch_size,train_dataloader=train_dataloader, val_dataloader=val_dataloader, \n",
    "                        optimizer=optimizer, loss_fn=loss_fn, lr_scheduler=lr_scheduler, num_classes=num_classes, epochs=epochs, experiment_num=fold, device=device,\n",
    "                        writer=None, early_stop_patience = patience)\n",
    "    \n",
    "    del train_indices, val_indices, train_image_set, train_label_set, train_hash_id, train_species_set, val_image_set, val_label_set, val_hash_id, val_species_set,\n",
    "    train_dataset, val_dataset, sampler, train_dataloader, val_dataloader, model, loss_fn, optimizer, lr_scheduler\n",
    "    \n",
    "    #finish the wandb run\n",
    "    wandb.finish()\n",
    "    print(\"Deleting variables and emptying cache\")\n",
    "    gc.collect()\n",
    "    torch.cuda.empty_cache()\n",
    "    print(f\"Memory allocated: {torch.cuda.memory_allocated()} bytes\")\n",
    "    print(\"-\"*50 + \"\\n\")"
   ]
  },
  {
   "cell_type": "markdown",
   "id": "a36b9b92",
   "metadata": {},
   "source": [
    "#### Create test dataset and test dataloader "
   ]
  },
  {
   "cell_type": "code",
   "execution_count": 19,
   "id": "c0c36ebb",
   "metadata": {},
   "outputs": [],
   "source": [
    "# create test dataset\n",
    "test_dataset = data_loader.CustomTestDataset(\n",
    "    data = test_image_set,\n",
    "    labels = test_label_set,\n",
    "    class_names=class_names, \n",
    "    species = test_species_set,\n",
    "    kkl = None,\n",
    "    transform=transform\n",
    ")\n",
    "\n",
    "# create test dataloader\n",
    "test_dataloader = DataLoader(test_dataset,\n",
    "                             batch_size=batch_size,\n",
    "                             persistent_workers=True,\n",
    "                             pin_memory=True,\n",
    "                             num_workers=NUM_WORKERS,\n",
    "                             shuffle=False,\n",
    "                             drop_last=True)"
   ]
  },
  {
   "cell_type": "markdown",
   "id": "22cdaac7",
   "metadata": {},
   "source": [
    "#### Perform ensembling of the five best models"
   ]
  },
  {
   "cell_type": "code",
   "execution_count": 20,
   "id": "67db5af2",
   "metadata": {},
   "outputs": [
    {
     "name": "stdout",
     "output_type": "stream",
     "text": [
      "Loaded pretrained weights for efficientnet-b7\n",
      "Loaded pretrained weights for efficientnet-b7\n",
      "Loaded pretrained weights for efficientnet-b7\n",
      "Loaded pretrained weights for efficientnet-b7\n",
      "Loaded pretrained weights for efficientnet-b7\n",
      "              precision    recall  f1-score   support\n",
      "\n",
      "           0       0.71      0.78      0.75       284\n",
      "           1       0.62      0.52      0.56       166\n",
      "           2       0.48      0.63      0.54       119\n",
      "           3       0.62      0.49      0.55       135\n",
      "           4       0.66      0.70      0.68        30\n",
      "           5       0.50      0.31      0.38        13\n",
      "           6       0.62      0.66      0.64        93\n",
      "           7       0.62      0.54      0.58        78\n",
      "           8       0.61      0.59      0.60        58\n",
      "           9       0.52      0.50      0.51        26\n",
      "          10       0.91      0.91      0.91        22\n",
      "\n",
      "    accuracy                           0.63      1024\n",
      "   macro avg       0.62      0.60      0.61      1024\n",
      "weighted avg       0.63      0.63      0.63      1024\n",
      "\n",
      "[[222  45  11   3   2   1   0   0   0   0   0]\n",
      " [ 73  86   5   1   1   0   0   0   0   0   0]\n",
      " [  3   3  75  36   1   0   0   1   0   0   0]\n",
      " [  3   1  64  66   0   0   0   0   0   0   1]\n",
      " [  3   0   0   0  21   3   0   3   0   0   0]\n",
      " [  0   2   0   0   6   4   0   0   0   0   1]\n",
      " [  3   0   1   1   1   0  61  17   9   0   0]\n",
      " [  1   2   0   0   0   0  24  42   5   4   0]\n",
      " [  2   0   1   0   0   0  12   1  34   8   0]\n",
      " [  1   0   0   0   0   0   2   2   8  13   0]\n",
      " [  0   0   0   0   0   0   0   2   0   0  20]]\n"
     ]
    }
   ],
   "source": [
    "# Setup the best model filepaths\n",
    "best_model1_path = r\"C:\\Users\\lwfeckesim\\01_PyTorch\\wze-uav\\wze-uav-master\\models\\EffNet_b7_RGB-NIR-5species-combined\\1_EffNet_b7_RGB-NIR-5species-combined_9_epochs.pth\"\n",
    "best_model2_path = r\"C:\\Users\\lwfeckesim\\01_PyTorch\\wze-uav\\wze-uav-master\\models\\EffNet_b7_RGB-NIR-5species-combined\\2_EffNet_b7_RGB-NIR-5species-combined_15_epochs.pth\"\n",
    "best_model3_path = r\"C:\\Users\\lwfeckesim\\01_PyTorch\\wze-uav\\wze-uav-master\\models\\EffNet_b7_RGB-NIR-5species-combined\\3_EffNet_b7_RGB-NIR-5species-combined_10_epochs.pth\"\n",
    "best_model4_path = r\"C:\\Users\\lwfeckesim\\01_PyTorch\\wze-uav\\wze-uav-master\\models\\EffNet_b7_RGB-NIR-5species-combined\\4_EffNet_b7_RGB-NIR-5species-combined_9_epochs.pth\"\n",
    "best_model5_path = r\"C:\\Users\\lwfeckesim\\01_PyTorch\\wze-uav\\wze-uav-master\\models\\EffNet_b7_RGB-NIR-5species-combined\\5_EffNet_b7_RGB-NIR-5species-combined_10_epochs.pth\"\n",
    "\n",
    "# Instantiate a new instance of EffNetB7 (to load the saved state_dict() to)\n",
    "#model1 = models.create_effnetb7(output_shape=num_classes, unfreeze=unfreeze, dropout_rate=dropout_rate, device=device)\n",
    "#model2 = models.create_effnetb7(output_shape=num_classes, unfreeze=unfreeze, dropout_rate=dropout_rate, device=device)\n",
    "#model3 = models.create_effnetb7(output_shape=num_classes, unfreeze=unfreeze, dropout_rate=dropout_rate, device=device)\n",
    "#model4 = models.create_effnetb7(output_shape=num_classes, unfreeze=unfreeze, dropout_rate=dropout_rate, device=device)\n",
    "#model5 = models.create_effnetb7(output_shape=num_classes, unfreeze=unfreeze, dropout_rate=dropout_rate, device=device)\n",
    "# for custom models with more than three bands as input\n",
    "model1 = model_effnet.EfficientNet.from_pretrained('efficientnet-b7', in_channels=n_bands, num_classes=num_classes, dropout_rate=dropout_rate)\n",
    "model2 = model_effnet.EfficientNet.from_pretrained('efficientnet-b7', in_channels=n_bands, num_classes=num_classes, dropout_rate=dropout_rate)\n",
    "model3 = model_effnet.EfficientNet.from_pretrained('efficientnet-b7', in_channels=n_bands, num_classes=num_classes, dropout_rate=dropout_rate)\n",
    "model4 = model_effnet.EfficientNet.from_pretrained('efficientnet-b7', in_channels=n_bands, num_classes=num_classes, dropout_rate=dropout_rate)\n",
    "model5 = model_effnet.EfficientNet.from_pretrained('efficientnet-b7', in_channels=n_bands, num_classes=num_classes, dropout_rate=dropout_rate)\n",
    "\n",
    "# Load the saved best model state_dict()\n",
    "model1.load_state_dict(torch.load(best_model1_path))\n",
    "model2.load_state_dict(torch.load(best_model2_path))\n",
    "model3.load_state_dict(torch.load(best_model3_path))\n",
    "model4.load_state_dict(torch.load(best_model4_path))\n",
    "model5.load_state_dict(torch.load(best_model5_path))\n",
    "\n",
    "model1.to(device)\n",
    "model2.to(device)\n",
    "model3.to(device)\n",
    "model4.to(device)\n",
    "model5.to(device)\n",
    "\n",
    "model1.eval()\n",
    "model2.eval()\n",
    "model3.eval()\n",
    "model4.eval()\n",
    "model5.eval()\n",
    "\n",
    "# Initialize the lists to store the predictions\n",
    "all_preds_model1 = []\n",
    "all_preds_model2 = []\n",
    "all_preds_model3 = []\n",
    "all_preds_model4 = []\n",
    "all_preds_model5 = []\n",
    "all_true_labels = []\n",
    "\n",
    "# Loop through the test dataset and generate predictions for each model\n",
    "with torch.no_grad():\n",
    "    for batch in test_dataloader:\n",
    "        inputs, labels, species = batch\n",
    "        inputs, labels, species = inputs.to(device), labels.to(device), species\n",
    "        \n",
    "        # Generate predictions for each model\n",
    "        preds_model1 = model1(inputs)\n",
    "        preds_model2 = model2(inputs)\n",
    "        preds_model3 = model3(inputs)\n",
    "        preds_model4 = model4(inputs)\n",
    "        preds_model5 = model5(inputs)\n",
    "\n",
    "        # Append the predictions to the corresponding list\n",
    "        all_preds_model1.append(preds_model1.cpu().numpy())\n",
    "        all_preds_model2.append(preds_model2.cpu().numpy())\n",
    "        all_preds_model3.append(preds_model3.cpu().numpy())\n",
    "        all_preds_model4.append(preds_model4.cpu().numpy())\n",
    "        all_preds_model5.append(preds_model5.cpu().numpy())\n",
    "        \n",
    "        all_true_labels.append(labels.cpu().numpy())\n",
    "\n",
    "# Concatenate the predictions from all the models\n",
    "all_preds_model1 = np.concatenate(all_preds_model1)\n",
    "all_preds_model2 = np.concatenate(all_preds_model2)\n",
    "all_preds_model3 = np.concatenate(all_preds_model3)\n",
    "all_preds_model4 = np.concatenate(all_preds_model4)\n",
    "all_preds_model5 = np.concatenate(all_preds_model5)\n",
    "\n",
    "all_true_labels = np.concatenate(all_true_labels)\n",
    "\n",
    "# Calculate the ensemble predictions\n",
    "ensemble_preds = np.mean([all_preds_model1, all_preds_model2, all_preds_model3, all_preds_model4, all_preds_model5], axis=0)\n",
    "ensemble_labels = np.argmax(ensemble_preds, axis=1)\n",
    "\n",
    "# Calculate the evaluation metrics for the ensemble model\n",
    "from sklearn.metrics import classification_report, confusion_matrix\n",
    "\n",
    "print(classification_report(all_true_labels, ensemble_labels))\n",
    "print(confusion_matrix(all_true_labels, ensemble_labels))\n",
    "\n",
    "\n",
    "\n",
    "\n"
   ]
  },
  {
   "cell_type": "code",
   "execution_count": 22,
   "id": "6dfbc663",
   "metadata": {},
   "outputs": [
    {
     "name": "stdout",
     "output_type": "stream",
     "text": [
      "              precision    recall  f1-score   support\n",
      "\n",
      "           0       0.71      0.78      0.75       284\n",
      "           1       0.62      0.52      0.56       166\n",
      "           2       0.48      0.63      0.54       119\n",
      "           3       0.62      0.49      0.55       135\n",
      "           4       0.66      0.70      0.68        30\n",
      "           5       0.50      0.31      0.38        13\n",
      "           6       0.62      0.66      0.64        93\n",
      "           7       0.62      0.54      0.58        78\n",
      "           8       0.61      0.59      0.60        58\n",
      "           9       0.52      0.50      0.51        26\n",
      "          10       0.91      0.91      0.91        22\n",
      "\n",
      "    accuracy                           0.63      1024\n",
      "   macro avg       0.62      0.60      0.61      1024\n",
      "weighted avg       0.63      0.63      0.63      1024\n",
      "\n"
     ]
    },
    {
     "data": {
      "image/png": "[encoded data removed]",
      "text/plain": [
       "<Figure size 720x504 with 1 Axes>"
      ]
     },
     "metadata": {
      "needs_background": "light"
     },
     "output_type": "display_data"
    }
   ],
   "source": [
    "import matplotlib.pyplot as plt\n",
    "import pandas as pd\n",
    "# Calculate the evaluation metrics for the ensemble model\n",
    "\n",
    "report = classification_report(all_true_labels, ensemble_labels)\n",
    "print(report)\n",
    "#print(confusion_matrix(all_true_labels, ensemble_labels))\n",
    "\n",
    "# Save the report to a file\n",
    "with open(r'C:\\Users\\lwfeckesim\\01_PyTorch\\wze-uav\\wze-uav-master\\plots\\report_RGB-NIR_5species_combined.txt', 'w') as f:\n",
    "    f.write(report)\n",
    "\n",
    "labels = np.array([0,1,2,3,4,5,6,7,8,9,10])\n",
    "confmat = confusion_matrix(all_true_labels, ensemble_labels, labels=labels)\n",
    "\n",
    "# 3. Plot the confusion matrix\n",
    "fig, ax = plot_confusion_matrix(\n",
    "    conf_mat=confmat, # matplotlib likes working with NumPy \n",
    "    class_names=class_names, # turn the row and column labels into class names\n",
    "    figsize=(10, 7)\n",
    ");\n",
    "\n",
    "# add title to confusion matrix plot\n",
    "plt.title(\"Main tree species and Health Status Classification using RGB-NIR Bands\", fontsize=16)\n",
    "\n",
    "fig.savefig(r'C:\\Users\\lwfeckesim\\01_PyTorch\\wze-uav\\wze-uav-master\\plots\\confmat_RGB-NIR_5species_combined.png', dpi=300, bbox_inches='tight')\n",
    "\n",
    "# Create a DataFrame from the confusion matrix\n",
    "df_cm = pd.DataFrame(confmat)\n",
    "\n",
    "# Export the confusion matrix to a CSV file\n",
    "df_cm.to_csv(r'C:\\Users\\lwfeckesim\\01_PyTorch\\wze-uav\\wze-uav-master\\plots\\confmat_RGB-NIR_5species_combined.csv', index=False)"
   ]
  },
  {
   "cell_type": "code",
   "execution_count": 23,
   "id": "aab9e321",
   "metadata": {},
   "outputs": [
    {
     "ename": "NameError",
     "evalue": "name 'best_model' is not defined",
     "output_type": "error",
     "traceback": [
      "\u001b[1;31m---------------------------------------------------------------------------\u001b[0m",
      "\u001b[1;31mNameError\u001b[0m                                 Traceback (most recent call last)",
      "Input \u001b[1;32mIn [23]\u001b[0m, in \u001b[0;36m<cell line: 3>\u001b[1;34m()\u001b[0m\n\u001b[0;32m      1\u001b[0m \u001b[38;5;66;03m# 2. Setup confusion matrix instance and compare predictions to targets\u001b[39;00m\n\u001b[0;32m      2\u001b[0m \u001b[38;5;66;03m#from wze_uav.analysis import *\u001b[39;00m\n\u001b[1;32m----> 3\u001b[0m y_pred_tensor, y_labels_tensor, test_loss, test_recall, test_precision, test_f1_score, test_acc, y_logit, y_pred, y, y_preds \u001b[38;5;241m=\u001b[39m make_predictions(model\u001b[38;5;241m=\u001b[39m\u001b[43mbest_model\u001b[49m,\n\u001b[0;32m      4\u001b[0m                                  test_dataloader\u001b[38;5;241m=\u001b[39mtest_dataloader, \n\u001b[0;32m      5\u001b[0m                                  device\u001b[38;5;241m=\u001b[39mdevice)\n\u001b[0;32m      7\u001b[0m y_labels_tensor \u001b[38;5;241m=\u001b[39m y_labels_tensor\u001b[38;5;241m.\u001b[39mdetach()\u001b[38;5;241m.\u001b[39mcpu()\u001b[38;5;241m.\u001b[39mnumpy()\n\u001b[0;32m      8\u001b[0m y_pred_tensor \u001b[38;5;241m=\u001b[39m y_pred_tensor\u001b[38;5;241m.\u001b[39mdetach()\u001b[38;5;241m.\u001b[39mcpu()\u001b[38;5;241m.\u001b[39mnumpy()\n",
      "\u001b[1;31mNameError\u001b[0m: name 'best_model' is not defined"
     ]
    }
   ],
   "source": [
    "# 2. Setup confusion matrix instance and compare predictions to targets\n",
    "#from wze_uav.analysis import *\n",
    "y_pred_tensor, y_labels_tensor, test_loss, test_recall, test_precision, test_f1_score, test_acc, y_logit, y_pred, y, y_preds = make_predictions(model=best_model,\n",
    "                                 test_dataloader=test_dataloader, \n",
    "                                 device=device)\n",
    "\n",
    "y_labels_tensor = y_labels_tensor.detach().cpu().numpy()\n",
    "y_pred_tensor = y_pred_tensor.detach().cpu().numpy()\n",
    "\n",
    "#confmat = ConfusionMatrix(num_classes=num_classes, task='multiclass')\n",
    "#confmat_tensor = confmat(preds=y_pred_tensor,\n",
    "#                         target=test_labels)\n",
    "labels = np.array([0,1,2])\n",
    "confmat = confusion_matrix(y_labels_tensor, y_pred_tensor, labels=labels)\n",
    "\n",
    "# 3. Plot the confusion matrix\n",
    "fig, ax = plot_confusion_matrix(\n",
    "    conf_mat=confmat, # matplotlib likes working with NumPy \n",
    "    class_names=class_names, # turn the row and column labels into class names\n",
    "    figsize=(10, 7)\n",
    ");\n",
    "\n",
    "print(f\"Test loss: {test_loss}\")\n",
    "print(f\"Test precision: {test_precision}\")\n",
    "print(f\"Test recall: {test_recall}\")\n",
    "print(f\"Test F1score: {test_f1_score}\")\n",
    "#print(f\"Test Kappa: {test_kappa}\")\n",
    "print(f\"Test Accuracy: {test_acc}\")\n",
    "print(f\"Test Logits: {y_logit}\")\n",
    "print(f\"Test Predictions: {y_pred}\")\n",
    "print(f\"Test Labels: {y}\")"
   ]
  },
  {
   "cell_type": "code",
   "execution_count": null,
   "id": "8d4173b3",
   "metadata": {},
   "outputs": [],
   "source": [
    "len(y_preds)"
   ]
  },
  {
   "cell_type": "code",
   "execution_count": null,
   "id": "7588116f",
   "metadata": {},
   "outputs": [],
   "source": [
    "y_set.cpu()"
   ]
  },
  {
   "cell_type": "code",
   "execution_count": null,
   "id": "1c195b3e",
   "metadata": {},
   "outputs": [],
   "source": [
    "test_dataset.labels"
   ]
  },
  {
   "cell_type": "code",
   "execution_count": null,
   "id": "975ec08c",
   "metadata": {},
   "outputs": [],
   "source": []
  },
  {
   "cell_type": "code",
   "execution_count": null,
   "id": "6da05604",
   "metadata": {},
   "outputs": [],
   "source": [
    "y_preds = []\n",
    "y_labels = []\n",
    "labels = np.array([0,1,2])\n",
    "test_loss, test_precision, test_recall, test_f1_score, test_acc = 0, 0, 0, 0, 0\n",
    "count = 0\n",
    "model.eval()\n",
    "with torch.inference_mode():\n",
    "    for X, y in tqdm(test_dataloader, desc=\"Making predictions\"):\n",
    "        # Send data and targets to target device\n",
    "        X, y = X.to(device), y.to(device)\n",
    "        # Do the forward pass\n",
    "        y_logit = model(X)\n",
    "        # Turn predictions from logits -> prediction probabilities -> predictions labels\n",
    "        y_pred = torch.softmax(y_logit, dim=1).argmax(dim=1)\n",
    "        # Put predictions on CPU for evaluation\n",
    "        y_preds.append(y_pred.cpu())\n",
    "        y_labels.append(y.cpu())\n",
    "        \n",
    "        #other metrics\n",
    "        test_acc += ((y_pred == y).sum().item()/len(y_pred))\n",
    "        y_pred_class = y_pred.detach().cpu().numpy() \n",
    "        y_class = y.detach().cpu().numpy()\n",
    "        test_precision += precision_score(y_class, y_pred_class, average='macro', zero_division=1, labels=labels)\n",
    "        test_recall += recall_score(y_class, y_pred_class, average='macro', zero_division=1, labels=labels)\n",
    "        #test_f1_score += f1_score(y_class, y_pred_class, average='macro', zero_division=1, labels=labels)\n",
    "        \n",
    "        #if count >= 1:\n",
    "        #    y_set = torch.cat((y_set, y))\n",
    "        #    count = count + 1\n",
    "        #else:\n",
    "        #    y_set = y\n",
    "        #    count = count + 1\n",
    "        \n",
    "test_loss = test_loss / len(test_dataloader)\n",
    "test_precision = test_precision / len(test_dataloader)\n",
    "test_recall = test_recall / len(test_dataloader)\n",
    "#test_f1_score = test_f1_score / len(test_dataloader)\n",
    "#test_kappa = test_kappa / len(dataloader)\n",
    "test_acc = test_acc / len(test_dataloader)\n",
    "# Concatenate list of predictions into a tensor\n",
    "y_pred_tensor = torch.cat(y_preds)\n",
    "test_f1_score = f1_score(y_set.detach().cpu().numpy(), y_pred_tensor.cpu().numpy(), average='macro', zero_division=0, labels=[0,1,2])\n",
    "\n",
    "# Print classification report\n",
    "y_true = y_set.detach().cpu().numpy()\n",
    "report = classification_report(y_true, y_pred_tensor.cpu().numpy(), target_names=class_names)\n",
    "print(report)"
   ]
  },
  {
   "cell_type": "code",
   "execution_count": null,
   "id": "6ae97fab",
   "metadata": {},
   "outputs": [],
   "source": [
    "test_f1_score"
   ]
  },
  {
   "cell_type": "code",
   "execution_count": null,
   "id": "7ebafd9b",
   "metadata": {},
   "outputs": [],
   "source": [
    "make = (y_class == y_pred_class)\n",
    "make"
   ]
  },
  {
   "cell_type": "code",
   "execution_count": null,
   "id": "4f8aa759",
   "metadata": {},
   "outputs": [],
   "source": [
    "torch.softmax(y_logit, dim=1).argmax(dim=1)"
   ]
  },
  {
   "cell_type": "code",
   "execution_count": null,
   "id": "f90a54b2",
   "metadata": {},
   "outputs": [],
   "source": [
    "y"
   ]
  },
  {
   "cell_type": "code",
   "execution_count": null,
   "id": "5a806154",
   "metadata": {},
   "outputs": [],
   "source": [
    "test = (y_pred == y).sum().item()/16"
   ]
  },
  {
   "cell_type": "code",
   "execution_count": null,
   "id": "1da35c56",
   "metadata": {},
   "outputs": [],
   "source": [
    "test"
   ]
  },
  {
   "cell_type": "code",
   "execution_count": null,
   "id": "b1eb246e",
   "metadata": {},
   "outputs": [],
   "source": [
    " y_pred_class = y_pred.detach().cpu().numpy() "
   ]
  },
  {
   "cell_type": "code",
   "execution_count": null,
   "id": "602e096f",
   "metadata": {},
   "outputs": [],
   "source": [
    "y_pred_class"
   ]
  },
  {
   "cell_type": "code",
   "execution_count": null,
   "id": "eaf1af09",
   "metadata": {},
   "outputs": [],
   "source": []
  }
 ],
 "metadata": {
  "kernelspec": {
   "display_name": "Python 3 (ipykernel)",
   "language": "python",
   "name": "python3"
  },
  "language_info": {
   "codemirror_mode": {
    "name": "ipython",
    "version": 3
   },
   "file_extension": ".py",
   "mimetype": "text/x-python",
   "name": "python",
   "nbconvert_exporter": "python",
   "pygments_lexer": "ipython3",
   "version": "3.9.16"
  }
 },
 "nbformat": 4,
 "nbformat_minor": 5
}
