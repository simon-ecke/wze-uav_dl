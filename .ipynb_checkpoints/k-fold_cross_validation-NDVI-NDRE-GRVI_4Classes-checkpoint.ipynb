{
 "cells": [
  {
   "cell_type": "markdown",
   "id": "c1acdaa3",
   "metadata": {},
   "source": [
    "# WZE-UAV Image Classification using Deep Learning"
   ]
  },
  {
   "cell_type": "code",
   "execution_count": 1,
   "id": "2159aac5",
   "metadata": {},
   "outputs": [],
   "source": [
    "import os\n",
    "import gc\n",
    "import glob\n",
    "import numpy as np\n",
    "from pathlib import Path\n",
    "from tqdm.auto import tqdm\n",
    "from sklearn.metrics import confusion_matrix, classification_report\n",
    "from sklearn.model_selection import KFold"
   ]
  },
  {
   "cell_type": "code",
   "execution_count": 2,
   "id": "0026f7a9",
   "metadata": {},
   "outputs": [],
   "source": [
    "import torch\n",
    "import torchvision.transforms as T\n",
    "import torchvision\n",
    "from torch import nn\n",
    "from torch.utils.data import DataLoader\n",
    "from torchvision import datasets, transforms\n",
    "from torch.utils.data import Dataset\n",
    "import torch.optim as optim\n",
    "from torch.optim.lr_scheduler import ExponentialLR\n",
    "from mlxtend.plotting import plot_confusion_matrix"
   ]
  },
  {
   "cell_type": "code",
   "execution_count": 3,
   "id": "b160d7b4",
   "metadata": {},
   "outputs": [],
   "source": [
    "import wze_uav.data_loader as data_loader\n",
    "import wze_uav.models as models\n",
    "from wze_uav.engine import *\n",
    "from wze_uav.utils2 import *\n",
    "#from wze_uav.log_writer import create_writer\n",
    "from wze_uav.datasplit import *\n",
    "from efficientnet import model_effnet #for custom effnet with n_channels input\n",
    "import wandb"
   ]
  },
  {
   "cell_type": "markdown",
   "id": "2bd4fb2f",
   "metadata": {},
   "source": [
    "#### Get PyTorch version"
   ]
  },
  {
   "cell_type": "code",
   "execution_count": 4,
   "id": "c10886b1",
   "metadata": {},
   "outputs": [
    {
     "name": "stdout",
     "output_type": "stream",
     "text": [
      "torch version: 1.13.1+cu116\n",
      "torchvision version: 0.14.1+cu116\n"
     ]
    }
   ],
   "source": [
    "print(f\"torch version: {torch.__version__}\")\n",
    "print(f\"torchvision version: {torchvision.__version__}\")"
   ]
  },
  {
   "cell_type": "markdown",
   "id": "aa6a83cf",
   "metadata": {},
   "source": [
    "#### Preparing device agnostic code "
   ]
  },
  {
   "cell_type": "code",
   "execution_count": 5,
   "id": "13d5de88",
   "metadata": {},
   "outputs": [
    {
     "name": "stdout",
     "output_type": "stream",
     "text": [
      "cuda\n",
      "Index of current divice: 0\n",
      "Number of GPUs available: 1\n",
      "GPU Model: Quadro RTX 8000\n"
     ]
    }
   ],
   "source": [
    "# ensure device agnostic code\n",
    "device = 'cuda' if torch.cuda.is_available() else 'cpu'\n",
    "print(device)\n",
    "\n",
    "# get index of currently selected device\n",
    "print(f\"Index of current divice: {torch.cuda.current_device()}\")\n",
    "# get number of GPUs available\n",
    "print(f\"Number of GPUs available: {torch.cuda.device_count()}\")\n",
    "# get the name of the device\n",
    "print(f\"GPU Model: {torch.cuda.get_device_name(0)}\")"
   ]
  },
  {
   "cell_type": "markdown",
   "id": "8ef6b169",
   "metadata": {},
   "source": [
    "#### Login to Weights & Biases to track results"
   ]
  },
  {
   "cell_type": "code",
   "execution_count": 6,
   "id": "a59d27cf",
   "metadata": {},
   "outputs": [
    {
     "name": "stderr",
     "output_type": "stream",
     "text": [
      "Failed to detect the name of this notebook, you can set it manually with the WANDB_NOTEBOOK_NAME environment variable to enable code saving.\n",
      "\u001b[34m\u001b[1mwandb\u001b[0m: Currently logged in as: \u001b[33msimon-ecke\u001b[0m. Use \u001b[1m`wandb login --relogin`\u001b[0m to force relogin\n"
     ]
    },
    {
     "data": {
      "text/html": [
       "wandb version 0.15.0 is available!  To upgrade, please run:\n",
       " $ pip install wandb --upgrade"
      ],
      "text/plain": [
       "<IPython.core.display.HTML object>"
      ]
     },
     "metadata": {},
     "output_type": "display_data"
    },
    {
     "data": {
      "text/html": [
       "Tracking run with wandb version 0.14.2"
      ],
      "text/plain": [
       "<IPython.core.display.HTML object>"
      ]
     },
     "metadata": {},
     "output_type": "display_data"
    },
    {
     "data": {
      "text/html": [
       "Run data is saved locally in <code>C:\\Users\\lwfeckesim\\01_PyTorch\\wze-uav\\wze-uav-master\\wandb\\run-20230423_175951-23p3t0o6</code>"
      ],
      "text/plain": [
       "<IPython.core.display.HTML object>"
      ]
     },
     "metadata": {},
     "output_type": "display_data"
    },
    {
     "data": {
      "text/html": [
       "Syncing run <strong><a href='https://wandb.ai/simon-ecke/wze-uav-4classes/runs/23p3t0o6' target=\"_blank\">resilient-butterfly-23</a></strong> to <a href='https://wandb.ai/simon-ecke/wze-uav-4classes' target=\"_blank\">Weights & Biases</a> (<a href='https://wandb.me/run' target=\"_blank\">docs</a>)<br/>"
      ],
      "text/plain": [
       "<IPython.core.display.HTML object>"
      ]
     },
     "metadata": {},
     "output_type": "display_data"
    },
    {
     "data": {
      "text/html": [
       " View project at <a href='https://wandb.ai/simon-ecke/wze-uav-4classes' target=\"_blank\">https://wandb.ai/simon-ecke/wze-uav-4classes</a>"
      ],
      "text/plain": [
       "<IPython.core.display.HTML object>"
      ]
     },
     "metadata": {},
     "output_type": "display_data"
    },
    {
     "data": {
      "text/html": [
       " View run at <a href='https://wandb.ai/simon-ecke/wze-uav-4classes/runs/23p3t0o6' target=\"_blank\">https://wandb.ai/simon-ecke/wze-uav-4classes/runs/23p3t0o6</a>"
      ],
      "text/plain": [
       "<IPython.core.display.HTML object>"
      ]
     },
     "metadata": {},
     "output_type": "display_data"
    },
    {
     "data": {
      "text/html": [
       "<button onClick=\"this.nextSibling.style.display='block';this.style.display='none';\">Display W&B run</button><iframe src='https://wandb.ai/simon-ecke/wze-uav-4classes/runs/23p3t0o6?jupyter=true' style='border:none;width:100%;height:420px;display:none;'></iframe>"
      ],
      "text/plain": [
       "<wandb.sdk.wandb_run.Run at 0x18e4a486070>"
      ]
     },
     "execution_count": 6,
     "metadata": {},
     "output_type": "execute_result"
    }
   ],
   "source": [
    "# IMPORTANT: The proxy needs to be set in anaconda!\n",
    "# copy paste this in anaconda and restart jupyter notebook\n",
    "#set http_proxy=http://www-proxy.bayern.de:80\n",
    "#set https_proxy=http://www-proxy.bayern.de:80\n",
    "wandb.login()\n",
    "#wandb.init(settings=wandb.Settings(start_method=\"thread\"))\n",
    "wandb.init(project='wze-uav-4classes', entity='simon-ecke')"
   ]
  },
  {
   "cell_type": "markdown",
   "id": "a26a6a34",
   "metadata": {},
   "source": [
    "#### Ensure reproducibility "
   ]
  },
  {
   "cell_type": "code",
   "execution_count": 7,
   "id": "dd4656a7",
   "metadata": {},
   "outputs": [],
   "source": [
    "# for more information, see also: https://pytorch.org/docs/stable/notes/randomness.html\n",
    "\n",
    "# Set seeds\n",
    "def set_seeds(seed: int=42):\n",
    "    \"\"\"Sets random sets for torch operations.\n",
    "\n",
    "    Args:\n",
    "        seed (int, optional): Random seed to set. Defaults to 42.\n",
    "    \"\"\"\n",
    "    # Set the seed for general torch operations\n",
    "    torch.manual_seed(seed)\n",
    "    # Set the seed for CUDA torch operations (ones that happen on the GPU)\n",
    "    torch.cuda.manual_seed(seed)\n",
    "    # seed for numpy\n",
    "    np.random.seed(seed)\n",
    "\n",
    "set_seeds(42) \n",
    "\n",
    "# Set to true -> might speed up the process but should be set to False if reproducible results are desired\n",
    "torch.backends.cudnn.benchmark = False\n"
   ]
  },
  {
   "cell_type": "markdown",
   "id": "8be33671",
   "metadata": {},
   "source": [
    "#### Define file directory"
   ]
  },
  {
   "cell_type": "code",
   "execution_count": 8,
   "id": "30645f36",
   "metadata": {},
   "outputs": [],
   "source": [
    "#####################################################################################\n",
    "# 3 channel input (r-g-b)\n",
    "#data_path = r\"D:\\Drohnendaten\\10_WZE-UAV\\Auswertung_findatree\\Datasplit\\ROI\\rgb\"\n",
    "\n",
    "# 4 channel input (r-g-b-nir)\n",
    "#data_path = r\"D:\\Drohnendaten\\10_WZE-UAV\\Auswertung_findatree\\Datasplit\\ROI\\rgb-nir\"\n",
    "\n",
    "# 5 channel input (r-g-b-re-nir)\n",
    "#data_path = r\"D:\\Drohnendaten\\10_WZE-UAV\\Auswertung_findatree\\Datasplit\\ROI\\rgb-re-nir\"\n",
    "\n",
    "# 6 channel input (r-g-b-re-nir)\n",
    "data_path = r\"D:\\Drohnendaten\\10_WZE-UAV\\Auswertung_findatree\\Datasplit\\ROI\\rgb-re-nir-ndvi\"\n",
    "#####################################################################################"
   ]
  },
  {
   "cell_type": "markdown",
   "id": "4560ce64",
   "metadata": {},
   "source": [
    "#### Get all file paths"
   ]
  },
  {
   "cell_type": "code",
   "execution_count": 9,
   "id": "aa072e4c",
   "metadata": {},
   "outputs": [],
   "source": [
    "fn_list = os.listdir(data_path)\n",
    "path_list = []\n",
    "# Iterate over all datafiles\n",
    "for year in fn_list:\n",
    "    year_dir = f'{data_path}\\\\{year}'\n",
    "    for filename in os.listdir(year_dir):\n",
    "        path = f'{year_dir}\\\\{filename}'\n",
    "        path_list.append(path)"
   ]
  },
  {
   "cell_type": "markdown",
   "id": "f3937a44",
   "metadata": {},
   "source": [
    "#### Create unique hash IDs for every individual tree"
   ]
  },
  {
   "cell_type": "code",
   "execution_count": 10,
   "id": "8a50f1d7",
   "metadata": {},
   "outputs": [
    {
     "data": {
      "application/vnd.jupyter.widget-view+json": {
       "model_id": "5a445ac6e0d54691aa8dc397eee1db01",
       "version_major": 2,
       "version_minor": 0
      },
      "text/plain": [
       "Creating unique tree IDs...:   0%|          | 0/647 [00:00<?, ?it/s]"
      ]
     },
     "metadata": {},
     "output_type": "display_data"
    }
   ],
   "source": [
    "hashID_dict = data_loader.get_unique_treeID(path_list)"
   ]
  },
  {
   "cell_type": "markdown",
   "id": "6f4cea00",
   "metadata": {},
   "source": [
    "#### Import all imagery, labels and other features from hdf5 files"
   ]
  },
  {
   "cell_type": "code",
   "execution_count": 11,
   "id": "94e3eecf",
   "metadata": {},
   "outputs": [
    {
     "data": {
      "application/vnd.jupyter.widget-view+json": {
       "model_id": "e04ad9dd809e428a8eb1feebfafeada1",
       "version_major": 2,
       "version_minor": 0
      },
      "text/plain": [
       "Processing hdf5 datasets:   0%|          | 0/647 [00:00<?, ?it/s]"
      ]
     },
     "metadata": {},
     "output_type": "display_data"
    }
   ],
   "source": [
    "image_set, label_set, species_set, kkl_set, bk_set, hash_id = data_loader.hdf5_to_img_label(path_list,\n",
    "                                                                                               hashID_dict,\n",
    "                                                                                               load_sets=[\"images_masked\"])"
   ]
  },
  {
   "cell_type": "markdown",
   "id": "6a90e2b7",
   "metadata": {},
   "source": [
    "#### Convert nbv to classes"
   ]
  },
  {
   "cell_type": "code",
   "execution_count": 12,
   "id": "0224972a",
   "metadata": {},
   "outputs": [],
   "source": [
    "label_set = nbv_to_sst_4classes(label_set)"
   ]
  },
  {
   "cell_type": "markdown",
   "id": "c6b4cd85",
   "metadata": {},
   "source": [
    "#### Split data into a sub set and a test dataset"
   ]
  },
  {
   "cell_type": "code",
   "execution_count": 13,
   "id": "d06eda54",
   "metadata": {},
   "outputs": [
    {
     "name": "stdout",
     "output_type": "stream",
     "text": [
      "ORIGINAL POSITIVE RATIO: 0.47428875299122575\n",
      "Fold : 0\n",
      "TRAIN POSITIVE RATIO: 0.4728771324516005\n",
      "TEST POSITIVE RATIO : 0.48129359543436906\n",
      "LENGTH TRAIN GROUPS : 5904\n",
      "LENGTH TEST GROUPS  : 1183\n",
      "Number of True in sub_indices: 15651\n",
      "Number of False in sub_indices: 3154\n",
      "Number of True in test_indices: 1183\n",
      "Number of False in test_indices: 17622\n",
      "Check shapes:\n",
      "\n",
      "Images sub dataset: (15651, 250, 250, 6)\n",
      "Labels sub dataset: (15651, 1)\n",
      "\n",
      "Images test dataset: (1183, 250, 250, 6)\n",
      "Labels test dataset: (1183, 1)\n",
      "\n",
      "--------------------------------------------------\n",
      "Check if the split was stratified: (random_state=42)\n",
      "Healthy trees in sub dataset: 9216\n",
      "Stressed trees in sub dataset: 5722\n",
      "Dead trees in sub dataset: 460\n",
      "Healthy trees in test dataset: 682\n",
      "Stressed trees in test dataset: 444\n",
      "Dead trees in test dataset: 36\n",
      "Ratio health trees in test dataset: 0.0740017361111111\n",
      "Ratio stressed trees in test dataset: 0.0775952464173366\n",
      "Ratio dead trees in test dataset: 0.0782608695652174\n"
     ]
    }
   ],
   "source": [
    "sub_image_set, sub_label_set, sub_hash_id, sub_species_set, test_image_set, test_label_set, test_hash_id, test_species_set = data_split(image_set, label_set, hash_id, species_set, n_splits=6, random_state=42, seed=2)\n"
   ]
  },
  {
   "cell_type": "markdown",
   "id": "c48fbb5b",
   "metadata": {},
   "source": [
    "#### Check if any hash ID is in both sub and test dataset"
   ]
  },
  {
   "cell_type": "code",
   "execution_count": 14,
   "id": "874367cf",
   "metadata": {},
   "outputs": [
    {
     "name": "stdout",
     "output_type": "stream",
     "text": [
      "There are no hash_id values in both train and test datasets. The datasplit was successful\n"
     ]
    }
   ],
   "source": [
    "hash_set = set(sub_hash_id[:,0].flatten())\n",
    "test_hash_set = set(test_hash_id[:,0].flatten())\n",
    "intersection = hash_set.intersection(test_hash_set)\n",
    "if intersection:\n",
    "    print(f\"Hash_id values in both train and test sets: {len(intersection)}\")\n",
    "else:\n",
    "    print(\"There are no hash_id values in both train and test datasets. The datasplit was successful\")"
   ]
  },
  {
   "cell_type": "markdown",
   "id": "9e5b64d4",
   "metadata": {},
   "source": [
    "#### Check feature distribution of the Test dataset"
   ]
  },
  {
   "cell_type": "code",
   "execution_count": 15,
   "id": "a33ff5cb",
   "metadata": {},
   "outputs": [
    {
     "name": "stdout",
     "output_type": "stream",
     "text": [
      "Test dataset\n",
      "Test data healthy trees: 682\n",
      "Test data moderately stressed trees: 444\n",
      "Test data severely stressed trees: 36\n",
      "Test data dead trees: 21\n",
      "Test data pine trees: 309\n",
      "Test data spruces: 440\n",
      "--------------------------------------------------\n",
      "Remaining dataset\n",
      "Remaining data healthy trees: 9216\n",
      "Remaining data moderately stressed trees: 5722\n",
      "Remaining data severley stressed trees: 460\n",
      "Remaining data dead trees: 253\n",
      "Remaining data pine trees: 3949\n",
      "Remaining data spruces: 5864\n",
      "--------------------------------------------------\n"
     ]
    }
   ],
   "source": [
    "def count_occurrences(data, value):\n",
    "    count = 0\n",
    "    for item in data:\n",
    "        if item == value:\n",
    "            count += 1\n",
    "    return count\n",
    "\n",
    "print(\"Test dataset\")\n",
    "print(f\"Test data healthy trees: {count_occurrences(test_label_set, 0)}\")\n",
    "print(f\"Test data moderately stressed trees: {count_occurrences(test_label_set, 1)}\")\n",
    "print(f\"Test data severely stressed trees: {count_occurrences(test_label_set, 2)}\")\n",
    "print(f\"Test data dead trees: {count_occurrences(test_label_set, 3)}\")\n",
    "print(f\"Test data pine trees: {count_occurrences(test_species_set, 134)}\")\n",
    "print(f\"Test data spruces: {count_occurrences(test_species_set, 118)}\")\n",
    "print(\"-\"*50)\n",
    "\n",
    "print(\"Remaining dataset\")\n",
    "print(f\"Remaining data healthy trees: {count_occurrences(sub_label_set, 0)}\")\n",
    "print(f\"Remaining data moderately stressed trees: {count_occurrences(sub_label_set, 1)}\")\n",
    "print(f\"Remaining data severley stressed trees: {count_occurrences(sub_label_set, 2)}\")\n",
    "print(f\"Remaining data dead trees: {count_occurrences(sub_label_set, 3)}\")\n",
    "print(f\"Remaining data pine trees: {count_occurrences(sub_species_set, 134)}\")\n",
    "print(f\"Remaining data spruces: {count_occurrences(sub_species_set, 118)}\")\n",
    "print(\"-\"*50)"
   ]
  },
  {
   "cell_type": "code",
   "execution_count": 16,
   "id": "e08fcf57",
   "metadata": {},
   "outputs": [],
   "source": [
    "# train transform with augmentation. \n",
    "transform_train = transforms.Compose([transforms.ToTensor(), transforms.RandomHorizontalFlip(p=0.5), transforms.RandomVerticalFlip(p=0.5),\n",
    "                                      transforms.RandomRotation(degrees=[0,360])])\n",
    "\n",
    "# test and val dataset transform without augmentation. \n",
    "transform = transforms.Compose([transforms.ToTensor()])\n",
    "\n",
    "# class names need to fit the customDataset class used e.g. 3 classes -> use CustomDataset3Classes\n",
    "#class_names = ['healthy', 'slightly_stressed', 'moderately_stressed', 'highly_stressed', 'dead']\n",
    "#class_names = ['healthy', 'moderately_stressed', 'highly_stressed', 'dead']\n",
    "class_names = ['healthy', 'moderate stress', 'severe stress', 'dead']\n",
    "\n",
    "# set seeds\n",
    "g = torch.Generator()\n",
    "g.manual_seed(42)\n",
    "NUM_WORKERS=3 # should be changed, depending on the system used\n",
    "batch_size=32"
   ]
  },
  {
   "cell_type": "markdown",
   "id": "31779c05",
   "metadata": {},
   "source": [
    "#### Define variables and parameters"
   ]
  },
  {
   "cell_type": "code",
   "execution_count": 17,
   "id": "10ae4379",
   "metadata": {},
   "outputs": [
    {
     "name": "stdout",
     "output_type": "stream",
     "text": [
      "Memory allocated: 0 bytes\n"
     ]
    }
   ],
   "source": [
    "# 1. Define number of epochs\n",
    "epochs = 50\n",
    "n_bands = sub_image_set[0].shape[2] # get number of bands\n",
    "\n",
    "# 2. Define model\n",
    "num_classes = len(class_names)\n",
    "unfreeze = True # all layer weights get updated\n",
    "dropout_rate = 0.5 #define dropout rate\n",
    "model_name = \"EffNet_b7_RGB-RE-NIR-NDVI_4classes\"\n",
    "\n",
    "# 3. Define loss, optimizer and learning rate scheduler\n",
    "lr = 0.005 # define learning rate\n",
    "min_lr = 1e-6 # minimum learning rate threshold\n",
    "gamma = 0.75 # how fast the learning rate decreases per epoch (low number=faster decrease)\n",
    "patience = 10\n",
    "\n",
    "# 4. Create target folder name were to save the tensorboard event files\n",
    "experiment_name = 'RGB-RE-NIR-NDVI_4classes'\n",
    "extra = \"RGB-RE-NIR-NDVI_4classes\"\n",
    "\n",
    "#----------------------------------------------------------------------\n",
    "#torch.cuda.empty_cache()\n",
    "print(f\"Memory allocated: {torch.cuda.memory_allocated()} bytes\") "
   ]
  },
  {
   "cell_type": "markdown",
   "id": "09768b1a",
   "metadata": {},
   "source": [
    "#### Run k-Fold cross-validation on EfficientNet"
   ]
  },
  {
   "cell_type": "code",
   "execution_count": 18,
   "id": "9c29c81d",
   "metadata": {},
   "outputs": [
    {
     "name": "stdout",
     "output_type": "stream",
     "text": [
      "ORIGINAL POSITIVE RATIO: 0.4728771324516005\n",
      "Fold : 1\n",
      "TRAIN POSITIVE RATIO: 0.4768688970705939\n",
      "VAL POSITIVE RATIO  : 0.4570795058599937\n",
      "LENGTH TRAIN GROUPS : 4720\n",
      "LENGTH VAL GROUPS   : 1184\n"
     ]
    },
    {
     "data": {
      "text/html": [
       "Finishing last run (ID:23p3t0o6) before initializing another..."
      ],
      "text/plain": [
       "<IPython.core.display.HTML object>"
      ]
     },
     "metadata": {},
     "output_type": "display_data"
    },
    {
     "data": {
      "text/html": [
       "Waiting for W&B process to finish... <strong style=\"color:green\">(success).</strong>"
      ],
      "text/plain": [
       "<IPython.core.display.HTML object>"
      ]
     },
     "metadata": {},
     "output_type": "display_data"
    },
    {
     "data": {
      "application/vnd.jupyter.widget-view+json": {
       "model_id": "af7d5020c8df4fb4ac057a497736f211",
       "version_major": 2,
       "version_minor": 0
      },
      "text/plain": [
       "VBox(children=(Label(value='0.001 MB of 0.001 MB uploaded (0.000 MB deduped)\\r'), FloatProgress(value=1.0, max…"
      ]
     },
     "metadata": {},
     "output_type": "display_data"
    },
    {
     "data": {
      "text/html": [
       " View run <strong style=\"color:#cdcd00\">resilient-butterfly-23</strong> at: <a href='https://wandb.ai/simon-ecke/wze-uav-4classes/runs/23p3t0o6' target=\"_blank\">https://wandb.ai/simon-ecke/wze-uav-4classes/runs/23p3t0o6</a><br/>Synced 5 W&B file(s), 0 media file(s), 0 artifact file(s) and 0 other file(s)"
      ],
      "text/plain": [
       "<IPython.core.display.HTML object>"
      ]
     },
     "metadata": {},
     "output_type": "display_data"
    },
    {
     "data": {
      "text/html": [
       "Find logs at: <code>.\\wandb\\run-20230423_175951-23p3t0o6\\logs</code>"
      ],
      "text/plain": [
       "<IPython.core.display.HTML object>"
      ]
     },
     "metadata": {},
     "output_type": "display_data"
    },
    {
     "data": {
      "text/html": [
       "Successfully finished last run (ID:23p3t0o6). Initializing new run:<br/>"
      ],
      "text/plain": [
       "<IPython.core.display.HTML object>"
      ]
     },
     "metadata": {},
     "output_type": "display_data"
    },
    {
     "data": {
      "application/vnd.jupyter.widget-view+json": {
       "model_id": "1ef732c840604741b2d69034ea0b42f8",
       "version_major": 2,
       "version_minor": 0
      },
      "text/plain": [
       "VBox(children=(Label(value='Waiting for wandb.init()...\\r'), FloatProgress(value=0.016933333330477276, max=1.0…"
      ]
     },
     "metadata": {},
     "output_type": "display_data"
    },
    {
     "data": {
      "text/html": [
       "wandb version 0.15.0 is available!  To upgrade, please run:\n",
       " $ pip install wandb --upgrade"
      ],
      "text/plain": [
       "<IPython.core.display.HTML object>"
      ]
     },
     "metadata": {},
     "output_type": "display_data"
    },
    {
     "data": {
      "text/html": [
       "Tracking run with wandb version 0.14.2"
      ],
      "text/plain": [
       "<IPython.core.display.HTML object>"
      ]
     },
     "metadata": {},
     "output_type": "display_data"
    },
    {
     "data": {
      "text/html": [
       "Run data is saved locally in <code>C:\\Users\\lwfeckesim\\01_PyTorch\\wze-uav\\wze-uav-master\\wandb\\run-20230423_190943-can4x9h2</code>"
      ],
      "text/plain": [
       "<IPython.core.display.HTML object>"
      ]
     },
     "metadata": {},
     "output_type": "display_data"
    },
    {
     "data": {
      "text/html": [
       "Syncing run <strong><a href='https://wandb.ai/simon-ecke/wze-uav-4classes/runs/can4x9h2' target=\"_blank\">fold_1_RGB-RE-NIR-NDVI_4classes</a></strong> to <a href='https://wandb.ai/simon-ecke/wze-uav-4classes' target=\"_blank\">Weights & Biases</a> (<a href='https://wandb.me/run' target=\"_blank\">docs</a>)<br/>"
      ],
      "text/plain": [
       "<IPython.core.display.HTML object>"
      ]
     },
     "metadata": {},
     "output_type": "display_data"
    },
    {
     "data": {
      "text/html": [
       " View project at <a href='https://wandb.ai/simon-ecke/wze-uav-4classes' target=\"_blank\">https://wandb.ai/simon-ecke/wze-uav-4classes</a>"
      ],
      "text/plain": [
       "<IPython.core.display.HTML object>"
      ]
     },
     "metadata": {},
     "output_type": "display_data"
    },
    {
     "data": {
      "text/html": [
       " View run at <a href='https://wandb.ai/simon-ecke/wze-uav-4classes/runs/can4x9h2' target=\"_blank\">https://wandb.ai/simon-ecke/wze-uav-4classes/runs/can4x9h2</a>"
      ],
      "text/plain": [
       "<IPython.core.display.HTML object>"
      ]
     },
     "metadata": {},
     "output_type": "display_data"
    },
    {
     "name": "stdout",
     "output_type": "stream",
     "text": [
      "There are no same hash_id values in train, val or test datasets. The datasplit was successful\n",
      "Check shapes:\n",
      "\n",
      "Images train dataset: (12494, 250, 250, 6)\n",
      "Labels train dataset: (12494, 1)\n",
      "\n",
      "Images validation dataset: (1184, 250, 250, 6)\n",
      "Labels validation dataset: (1184, 1)\n",
      "\n",
      "--------------------------------------------------\n",
      "Check if the split was stratified: (random_state=42)\n",
      "Healthy trees in train dataset: 7322\n",
      "Moderately stressed trees in train dataset: 4596\n",
      "Severely stressed trees in train dataset: 366\n",
      "Dead trees in train dataset: 210\n",
      "Healthy trees in validation dataset: 701\n",
      "Moderately stressed trees in validation dataset: 428\n",
      "Severely stressed trees in validation dataset: 36\n",
      "Dead trees in validation dataset: 19\n",
      "Ratio health trees in validation dataset: 0.07606336805555555\n",
      "Ratio moderately stressed trees in validation dataset: 0.07479902132121635\n",
      "Ratio severely stressed trees in validation dataset: 0.9304347826086956\n",
      "Ratio dead trees in validation dataset: 0.1422924901185771\n",
      "--------------------------------------------------\n",
      "\n",
      "Creating datasets for fold: 1\n",
      "\n",
      "Creating dataloaders for fold: 1\n",
      "\n",
      "Loaded pretrained weights for efficientnet-b7\n",
      "\n",
      "[INFO] Fold number: 1\n",
      "[INFO] Number of epochs: 50\n",
      "[INFO] Batch_size: 32\n",
      "[INFO] Number of bands: 6\n",
      "[INFO] Dropout rate: 0.5\n",
      "[INFO] Gamma learning rate: 0.75\n",
      "[INFO] Memory allocated: 0 bytes\n"
     ]
    },
    {
     "data": {
      "application/vnd.jupyter.widget-view+json": {
       "model_id": "f90013c7505b4af6bdf2957041809b15",
       "version_major": 2,
       "version_minor": 0
      },
      "text/plain": [
       "  0%|          | 0/50 [00:00<?, ?it/s]"
      ]
     },
     "metadata": {},
     "output_type": "display_data"
    },
    {
     "name": "stdout",
     "output_type": "stream",
     "text": [
      "Epoch: 1 \n",
      "Learning rate: 0.005\n",
      "Train loss: 0.9711 | Train precision: 0.4021 | Train recall: 0.3280 | Train f1score: 0.3412 | Train acc: 0.4962 | Train kappa: 0.1976 \n",
      "Val loss: 3.8485 | Val precision: 0.2677 | Val recall: 0.3660 | Val f1score: 0.1404 | Val acc: 0.2264 | Val kappa: 0.0211 \n",
      "\n",
      "Epoch: 2 \n",
      "Learning rate: 0.00375\n",
      "Train loss: 0.8406 | Train precision: 0.5132 | Train recall: 0.4824 | Train f1score: 0.4764 | Train acc: 0.5840 | Train kappa: 0.4840 \n",
      "Val loss: 0.7853 | Val precision: 0.5049 | Val recall: 0.4856 | Val f1score: 0.4790 | Val acc: 0.6073 | Val kappa: 0.4167 \n",
      "\n",
      "Epoch: 3 \n",
      "Learning rate: 0.0028125\n",
      "Train loss: 0.8069 | Train precision: 0.5617 | Train recall: 0.5160 | Train f1score: 0.5104 | Train acc: 0.5931 | Train kappa: 0.5227 \n",
      "Val loss: 0.7476 | Val precision: 0.5134 | Val recall: 0.4213 | Val f1score: 0.4483 | Val acc: 0.6588 | Val kappa: 0.4185 \n",
      "\n",
      "Epoch: 4 \n",
      "Learning rate: 0.002109375\n",
      "Train loss: 0.7957 | Train precision: 0.5973 | Train recall: 0.5243 | Train f1score: 0.5254 | Train acc: 0.6076 | Train kappa: 0.5434 \n",
      "Val loss: 0.7378 | Val precision: 0.6455 | Val recall: 0.4931 | Val f1score: 0.5309 | Val acc: 0.6334 | Val kappa: 0.4473 \n",
      "\n",
      "Epoch: 5 \n",
      "Learning rate: 0.00158203125\n",
      "Train loss: 0.7764 | Train precision: 0.6057 | Train recall: 0.5407 | Train f1score: 0.5422 | Train acc: 0.6183 | Train kappa: 0.5641 \n",
      "Val loss: 0.7401 | Val precision: 0.5134 | Val recall: 0.5371 | Val f1score: 0.5203 | Val acc: 0.6301 | Val kappa: 0.4616 \n",
      "\n",
      "Epoch: 6 \n",
      "Learning rate: 0.0011865234375\n",
      "Train loss: 0.7632 | Train precision: 0.6168 | Train recall: 0.5546 | Train f1score: 0.5544 | Train acc: 0.6212 | Train kappa: 0.5844 \n",
      "Val loss: 0.8224 | Val precision: 0.5688 | Val recall: 0.5295 | Val f1score: 0.4633 | Val acc: 0.5101 | Val kappa: 0.3761 \n",
      "\n",
      "Epoch: 7 \n",
      "Learning rate: 0.000889892578125\n",
      "Train loss: 0.7624 | Train precision: 0.6125 | Train recall: 0.5544 | Train f1score: 0.5555 | Train acc: 0.6187 | Train kappa: 0.5762 \n",
      "Val loss: 0.7772 | Val precision: 0.6427 | Val recall: 0.5834 | Val f1score: 0.5070 | Val acc: 0.5794 | Val kappa: 0.4682 \n",
      "\n",
      "Epoch: 8 \n",
      "Learning rate: 0.00066741943359375\n",
      "Train loss: 0.7428 | Train precision: 0.6318 | Train recall: 0.5664 | Train f1score: 0.5683 | Train acc: 0.6298 | Train kappa: 0.5958 \n",
      "Val loss: 0.7155 | Val precision: 0.6623 | Val recall: 0.5752 | Val f1score: 0.5485 | Val acc: 0.6166 | Val kappa: 0.4894 \n",
      "\n",
      "Epoch: 9 \n",
      "Learning rate: 0.0005005645751953125\n",
      "Train loss: 0.7358 | Train precision: 0.6604 | Train recall: 0.5837 | Train f1score: 0.5950 | Train acc: 0.6339 | Train kappa: 0.5963 \n",
      "Val loss: 0.7240 | Val precision: 0.5397 | Val recall: 0.5818 | Val f1score: 0.5220 | Val acc: 0.6014 | Val kappa: 0.4923 \n",
      "\n",
      "Epoch: 10 \n",
      "Learning rate: 0.0003754234313964844\n",
      "Train loss: 0.7307 | Train precision: 0.6581 | Train recall: 0.5788 | Train f1score: 0.5851 | Train acc: 0.6413 | Train kappa: 0.5969 \n",
      "Val loss: 0.7176 | Val precision: 0.7213 | Val recall: 0.6114 | Val f1score: 0.5895 | Val acc: 0.6394 | Val kappa: 0.5260 \n",
      "\n",
      "Epoch: 11 \n",
      "Learning rate: 0.0002815675735473633\n",
      "Train loss: 0.7341 | Train precision: 0.6667 | Train recall: 0.5842 | Train f1score: 0.5961 | Train acc: 0.6421 | Train kappa: 0.6202 \n",
      "Val loss: 0.7122 | Val precision: 0.6386 | Val recall: 0.5660 | Val f1score: 0.5803 | Val acc: 0.6309 | Val kappa: 0.5090 \n",
      "\n",
      "Epoch: 12 \n",
      "Learning rate: 0.00021117568016052246\n",
      "Train loss: 0.7300 | Train precision: 0.6765 | Train recall: 0.5884 | Train f1score: 0.6059 | Train acc: 0.6373 | Train kappa: 0.6013 \n",
      "Val loss: 0.6953 | Val precision: 0.6474 | Val recall: 0.5988 | Val f1score: 0.5979 | Val acc: 0.6301 | Val kappa: 0.5152 \n",
      "\n",
      "Epoch: 13 \n",
      "Learning rate: 0.00015838176012039184\n",
      "Train loss: 0.7340 | Train precision: 0.6481 | Train recall: 0.5825 | Train f1score: 0.5933 | Train acc: 0.6321 | Train kappa: 0.6043 \n",
      "Val loss: 0.7013 | Val precision: 0.5940 | Val recall: 0.6104 | Val f1score: 0.5835 | Val acc: 0.6444 | Val kappa: 0.5406 \n",
      "\n",
      "Epoch: 14 \n",
      "Learning rate: 0.00011878632009029388\n",
      "Train loss: 0.7332 | Train precision: 0.6643 | Train recall: 0.5834 | Train f1score: 0.5955 | Train acc: 0.6365 | Train kappa: 0.5916 \n",
      "Val loss: 0.6938 | Val precision: 0.6229 | Val recall: 0.5934 | Val f1score: 0.5972 | Val acc: 0.6385 | Val kappa: 0.5261 \n",
      "\n",
      "Epoch: 15 \n",
      "Learning rate: 8.908974006772042e-05\n",
      "Train loss: 0.7291 | Train precision: 0.6585 | Train recall: 0.5884 | Train f1score: 0.5985 | Train acc: 0.6349 | Train kappa: 0.5915 \n",
      "Val loss: 0.6852 | Val precision: 0.6422 | Val recall: 0.5992 | Val f1score: 0.6084 | Val acc: 0.6588 | Val kappa: 0.5473 \n",
      "\n",
      "Epoch: 16 \n",
      "Learning rate: 6.681730505079031e-05\n",
      "Train loss: 0.7232 | Train precision: 0.6716 | Train recall: 0.5948 | Train f1score: 0.6107 | Train acc: 0.6415 | Train kappa: 0.6137 \n",
      "Val loss: 0.6980 | Val precision: 0.6600 | Val recall: 0.6189 | Val f1score: 0.6225 | Val acc: 0.6410 | Val kappa: 0.5327 \n",
      "\n",
      "Epoch: 17 \n",
      "Learning rate: 5.0112978788092735e-05\n",
      "Train loss: 0.7174 | Train precision: 0.6724 | Train recall: 0.5889 | Train f1score: 0.6018 | Train acc: 0.6423 | Train kappa: 0.6062 \n",
      "Val loss: 0.6980 | Val precision: 0.6368 | Val recall: 0.6168 | Val f1score: 0.6007 | Val acc: 0.6343 | Val kappa: 0.5319 \n",
      "\n",
      "Epoch: 18 \n",
      "Learning rate: 3.758473409106955e-05\n",
      "Train loss: 0.7336 | Train precision: 0.6712 | Train recall: 0.5789 | Train f1score: 0.5952 | Train acc: 0.6321 | Train kappa: 0.5917 \n",
      "Val loss: 0.6875 | Val precision: 0.6088 | Val recall: 0.6156 | Val f1score: 0.6017 | Val acc: 0.6503 | Val kappa: 0.5513 \n",
      "\n",
      "Epoch: 19 \n",
      "Learning rate: 2.8188550568302163e-05\n",
      "Train loss: 0.7311 | Train precision: 0.6541 | Train recall: 0.5812 | Train f1score: 0.5951 | Train acc: 0.6315 | Train kappa: 0.6044 \n",
      "Val loss: 0.6908 | Val precision: 0.6588 | Val recall: 0.6307 | Val f1score: 0.6310 | Val acc: 0.6478 | Val kappa: 0.5431 \n",
      "\n",
      "Epoch: 20 \n",
      "Learning rate: 2.114141292622662e-05\n",
      "Train loss: 0.7289 | Train precision: 0.6644 | Train recall: 0.5797 | Train f1score: 0.5949 | Train acc: 0.6396 | Train kappa: 0.6068 \n",
      "Val loss: 0.7021 | Val precision: 0.6076 | Val recall: 0.6132 | Val f1score: 0.5954 | Val acc: 0.6334 | Val kappa: 0.5321 \n",
      "\n",
      "Epoch: 21 \n",
      "Learning rate: 1.5856059694669965e-05\n",
      "Train loss: 0.7158 | Train precision: 0.6805 | Train recall: 0.5957 | Train f1score: 0.6104 | Train acc: 0.6473 | Train kappa: 0.6069 \n",
      "Val loss: 0.6967 | Val precision: 0.6094 | Val recall: 0.6154 | Val f1score: 0.5979 | Val acc: 0.6385 | Val kappa: 0.5382 \n",
      "\n",
      "Epoch: 22 \n",
      "Learning rate: 1.1892044771002475e-05\n",
      "Train loss: 0.7244 | Train precision: 0.6620 | Train recall: 0.5931 | Train f1score: 0.6056 | Train acc: 0.6381 | Train kappa: 0.6072 \n",
      "Val loss: 0.6954 | Val precision: 0.6105 | Val recall: 0.6170 | Val f1score: 0.6004 | Val acc: 0.6444 | Val kappa: 0.5451 \n",
      "\n",
      "Epoch: 23 \n",
      "Learning rate: 8.919033578251857e-06\n",
      "Train loss: 0.7205 | Train precision: 0.6778 | Train recall: 0.5959 | Train f1score: 0.6112 | Train acc: 0.6393 | Train kappa: 0.6120 \n",
      "Val loss: 0.6958 | Val precision: 0.6080 | Val recall: 0.6140 | Val f1score: 0.5969 | Val acc: 0.6368 | Val kappa: 0.5360 \n",
      "\n",
      "Epoch: 24 \n",
      "Learning rate: 6.689275183688892e-06\n",
      "Train loss: 0.7175 | Train precision: 0.6949 | Train recall: 0.5972 | Train f1score: 0.6171 | Train acc: 0.6455 | Train kappa: 0.6052 \n",
      "Val loss: 0.6946 | Val precision: 0.6304 | Val recall: 0.6236 | Val f1score: 0.6132 | Val acc: 0.6419 | Val kappa: 0.5404 \n",
      "\n",
      "Epoch: 25 \n",
      "Learning rate: 5.016956387766669e-06\n",
      "Train loss: 0.7180 | Train precision: 0.6738 | Train recall: 0.5926 | Train f1score: 0.6085 | Train acc: 0.6393 | Train kappa: 0.6145 \n",
      "Val loss: 0.6899 | Val precision: 0.6342 | Val recall: 0.6240 | Val f1score: 0.6165 | Val acc: 0.6486 | Val kappa: 0.5470 \n",
      "\n",
      "Epoch: 26 \n",
      "Learning rate: 3.762717290825002e-06\n",
      "Train loss: 0.7197 | Train precision: 0.6660 | Train recall: 0.5948 | Train f1score: 0.6032 | Train acc: 0.6398 | Train kappa: 0.5958 \n",
      "Val loss: 0.6885 | Val precision: 0.6394 | Val recall: 0.6248 | Val f1score: 0.6185 | Val acc: 0.6512 | Val kappa: 0.5490 \n",
      "\n",
      "Epoch: 27 \n",
      "Learning rate: 2.8220379681187514e-06\n",
      "Train loss: 0.7206 | Train precision: 0.6810 | Train recall: 0.5910 | Train f1score: 0.6074 | Train acc: 0.6331 | Train kappa: 0.6071 \n",
      "Val loss: 0.6917 | Val precision: 0.6359 | Val recall: 0.6257 | Val f1score: 0.6174 | Val acc: 0.6495 | Val kappa: 0.5484 \n",
      "\n"
     ]
    },
    {
     "name": "stdout",
     "output_type": "stream",
     "text": [
      "Epoch: 28 \n",
      "Learning rate: 2.1165284760890633e-06\n",
      "Train loss: 0.7191 | Train precision: 0.6618 | Train recall: 0.5862 | Train f1score: 0.6018 | Train acc: 0.6433 | Train kappa: 0.6028 \n",
      "Val loss: 0.6916 | Val precision: 0.6194 | Val recall: 0.6180 | Val f1score: 0.6032 | Val acc: 0.6470 | Val kappa: 0.5462 \n",
      "\n",
      "Epoch: 29 \n",
      "Learning rate: 1.5873963570667977e-06\n",
      "Train loss: 0.7152 | Train precision: 0.6718 | Train recall: 0.5990 | Train f1score: 0.6112 | Train acc: 0.6460 | Train kappa: 0.6151 \n",
      "Val loss: 0.6963 | Val precision: 0.6085 | Val recall: 0.6144 | Val f1score: 0.5970 | Val acc: 0.6368 | Val kappa: 0.5361 \n",
      "\n",
      "Early stopping after epoch 29\n"
     ]
    },
    {
     "data": {
      "text/html": [
       "Waiting for W&B process to finish... <strong style=\"color:green\">(success).</strong>"
      ],
      "text/plain": [
       "<IPython.core.display.HTML object>"
      ]
     },
     "metadata": {},
     "output_type": "display_data"
    },
    {
     "data": {
      "application/vnd.jupyter.widget-view+json": {
       "model_id": "93182e7d457a42a1b691cb0e7e8b2df9",
       "version_major": 2,
       "version_minor": 0
      },
      "text/plain": [
       "VBox(children=(Label(value='0.001 MB of 0.001 MB uploaded (0.000 MB deduped)\\r'), FloatProgress(value=1.0, max…"
      ]
     },
     "metadata": {},
     "output_type": "display_data"
    },
    {
     "data": {
      "text/html": [
       "<style>\n",
       "    table.wandb td:nth-child(1) { padding: 0 10px; text-align: left ; width: auto;} td:nth-child(2) {text-align: left ; width: 100%}\n",
       "    .wandb-row { display: flex; flex-direction: row; flex-wrap: wrap; justify-content: flex-start; width: 100% }\n",
       "    .wandb-col { display: flex; flex-direction: column; flex-basis: 100%; flex: 1; padding: 10px; }\n",
       "    </style>\n",
       "<div class=\"wandb-row\"><div class=\"wandb-col\"><h3>Run history:</h3><br/><table class=\"wandb\"><tr><td>learning_rate</td><td>█▆▅▄▃▃▂▂▂▂▁▁▁▁▁▁▁▁▁▁▁▁▁▁▁▁▁▁▁</td></tr><tr><td>train_f1_score</td><td>▁▄▅▆▆▆▆▇▇▇▇█▇▇███▇▇▇█████████</td></tr><tr><td>train_loss</td><td>█▄▄▃▃▂▂▂▂▁▂▁▂▁▁▁▁▂▁▁▁▁▁▁▁▁▁▁▁</td></tr><tr><td>val_f1_score</td><td>▁▆▅▇▆▆▆▇▆▇▇█▇██████▇█████████</td></tr><tr><td>val_loss</td><td>█▁▁▁▁▁▁▁▁▁▁▁▁▁▁▁▁▁▁▁▁▁▁▁▁▁▁▁▁</td></tr></table><br/></div><div class=\"wandb-col\"><h3>Run summary:</h3><br/><table class=\"wandb\"><tr><td>learning_rate</td><td>0.0</td></tr><tr><td>train_f1_score</td><td>0.61119</td></tr><tr><td>train_loss</td><td>0.71516</td></tr><tr><td>val_f1_score</td><td>0.597</td></tr><tr><td>val_loss</td><td>0.69629</td></tr></table><br/></div></div>"
      ],
      "text/plain": [
       "<IPython.core.display.HTML object>"
      ]
     },
     "metadata": {},
     "output_type": "display_data"
    },
    {
     "data": {
      "text/html": [
       " View run <strong style=\"color:#cdcd00\">fold_1_RGB-RE-NIR-NDVI_4classes</strong> at: <a href='https://wandb.ai/simon-ecke/wze-uav-4classes/runs/can4x9h2' target=\"_blank\">https://wandb.ai/simon-ecke/wze-uav-4classes/runs/can4x9h2</a><br/>Synced 5 W&B file(s), 0 media file(s), 0 artifact file(s) and 0 other file(s)"
      ],
      "text/plain": [
       "<IPython.core.display.HTML object>"
      ]
     },
     "metadata": {},
     "output_type": "display_data"
    },
    {
     "data": {
      "text/html": [
       "Find logs at: <code>.\\wandb\\run-20230423_190943-can4x9h2\\logs</code>"
      ],
      "text/plain": [
       "<IPython.core.display.HTML object>"
      ]
     },
     "metadata": {},
     "output_type": "display_data"
    },
    {
     "name": "stdout",
     "output_type": "stream",
     "text": [
      "Deleting variables and emptying cache\n",
      "Memory allocated: 1047619072 bytes\n",
      "--------------------------------------------------\n",
      "\n",
      "Fold : 2\n",
      "TRAIN POSITIVE RATIO: 0.4656177621595719\n",
      "VAL POSITIVE RATIO  : 0.5019169329073483\n",
      "LENGTH TRAIN GROUPS : 4722\n",
      "LENGTH VAL GROUPS   : 1182\n"
     ]
    },
    {
     "data": {
      "text/html": [
       "wandb version 0.15.0 is available!  To upgrade, please run:\n",
       " $ pip install wandb --upgrade"
      ],
      "text/plain": [
       "<IPython.core.display.HTML object>"
      ]
     },
     "metadata": {},
     "output_type": "display_data"
    },
    {
     "data": {
      "text/html": [
       "Tracking run with wandb version 0.14.2"
      ],
      "text/plain": [
       "<IPython.core.display.HTML object>"
      ]
     },
     "metadata": {},
     "output_type": "display_data"
    },
    {
     "data": {
      "text/html": [
       "Run data is saved locally in <code>C:\\Users\\lwfeckesim\\01_PyTorch\\wze-uav\\wze-uav-master\\wandb\\run-20230423_214427-961a7gxf</code>"
      ],
      "text/plain": [
       "<IPython.core.display.HTML object>"
      ]
     },
     "metadata": {},
     "output_type": "display_data"
    },
    {
     "data": {
      "text/html": [
       "Syncing run <strong><a href='https://wandb.ai/simon-ecke/wze-uav-4classes/runs/961a7gxf' target=\"_blank\">fold_2_RGB-RE-NIR-NDVI_4classes</a></strong> to <a href='https://wandb.ai/simon-ecke/wze-uav-4classes' target=\"_blank\">Weights & Biases</a> (<a href='https://wandb.me/run' target=\"_blank\">docs</a>)<br/>"
      ],
      "text/plain": [
       "<IPython.core.display.HTML object>"
      ]
     },
     "metadata": {},
     "output_type": "display_data"
    },
    {
     "data": {
      "text/html": [
       " View project at <a href='https://wandb.ai/simon-ecke/wze-uav-4classes' target=\"_blank\">https://wandb.ai/simon-ecke/wze-uav-4classes</a>"
      ],
      "text/plain": [
       "<IPython.core.display.HTML object>"
      ]
     },
     "metadata": {},
     "output_type": "display_data"
    },
    {
     "data": {
      "text/html": [
       " View run at <a href='https://wandb.ai/simon-ecke/wze-uav-4classes/runs/961a7gxf' target=\"_blank\">https://wandb.ai/simon-ecke/wze-uav-4classes/runs/961a7gxf</a>"
      ],
      "text/plain": [
       "<IPython.core.display.HTML object>"
      ]
     },
     "metadata": {},
     "output_type": "display_data"
    },
    {
     "name": "stdout",
     "output_type": "stream",
     "text": [
      "There are no same hash_id values in train, val or test datasets. The datasplit was successful\n",
      "Check shapes:\n",
      "\n",
      "Images train dataset: (12521, 250, 250, 6)\n",
      "Labels train dataset: (12521, 1)\n",
      "\n",
      "Images validation dataset: (1182, 250, 250, 6)\n",
      "Labels validation dataset: (1182, 1)\n",
      "\n",
      "--------------------------------------------------\n",
      "Check if the split was stratified: (random_state=42)\n",
      "Healthy trees in train dataset: 7425\n",
      "Moderately stressed trees in train dataset: 4551\n",
      "Severely stressed trees in train dataset: 356\n",
      "Dead trees in train dataset: 189\n",
      "Healthy trees in validation dataset: 675\n",
      "Moderately stressed trees in validation dataset: 439\n",
      "Severely stressed trees in validation dataset: 41\n",
      "Dead trees in validation dataset: 27\n",
      "Ratio health trees in validation dataset: 0.0732421875\n",
      "Ratio moderately stressed trees in validation dataset: 0.07672142607479902\n",
      "Ratio severely stressed trees in validation dataset: 0.9543478260869566\n",
      "Ratio dead trees in validation dataset: 0.16205533596837945\n",
      "--------------------------------------------------\n",
      "\n",
      "Creating datasets for fold: 2\n",
      "\n",
      "Creating dataloaders for fold: 2\n",
      "\n",
      "Loaded pretrained weights for efficientnet-b7\n",
      "\n",
      "[INFO] Fold number: 2\n",
      "[INFO] Number of epochs: 50\n",
      "[INFO] Batch_size: 32\n",
      "[INFO] Number of bands: 6\n",
      "[INFO] Dropout rate: 0.5\n",
      "[INFO] Gamma learning rate: 0.75\n",
      "[INFO] Memory allocated: 0 bytes\n"
     ]
    },
    {
     "data": {
      "application/vnd.jupyter.widget-view+json": {
       "model_id": "cf84f66873f64d198ceb3461d891affd",
       "version_major": 2,
       "version_minor": 0
      },
      "text/plain": [
       "  0%|          | 0/50 [00:00<?, ?it/s]"
      ]
     },
     "metadata": {},
     "output_type": "display_data"
    },
    {
     "name": "stdout",
     "output_type": "stream",
     "text": [
      "Epoch: 1 \n",
      "Learning rate: 0.005\n",
      "Train loss: 0.9747 | Train precision: 0.3674 | Train recall: 0.2983 | Train f1score: 0.3075 | Train acc: 0.4835 | Train kappa: 0.1290 \n",
      "Val loss: 7.2653 | Val precision: 0.1413 | Val recall: 0.2500 | Val f1score: 0.1805 | Val acc: 0.5651 | Val kappa: 0.0000 \n",
      "\n",
      "Epoch: 2 \n",
      "Learning rate: 0.00375\n",
      "Train loss: 0.8428 | Train precision: 0.5445 | Train recall: 0.4651 | Train f1score: 0.4618 | Train acc: 0.5725 | Train kappa: 0.4410 \n",
      "Val loss: 0.8040 | Val precision: 0.4401 | Val recall: 0.5115 | Val f1score: 0.4437 | Val acc: 0.6016 | Val kappa: 0.4950 \n",
      "\n",
      "Epoch: 3 \n",
      "Learning rate: 0.0028125\n",
      "Train loss: 0.8172 | Train precision: 0.5452 | Train recall: 0.5136 | Train f1score: 0.4948 | Train acc: 0.5913 | Train kappa: 0.4939 \n",
      "Val loss: 0.8315 | Val precision: 0.4659 | Val recall: 0.3716 | Val f1score: 0.3935 | Val acc: 0.6111 | Val kappa: 0.3913 \n",
      "\n",
      "Epoch: 4 \n",
      "Learning rate: 0.002109375\n",
      "Train loss: 0.7852 | Train precision: 0.5744 | Train recall: 0.5367 | Train f1score: 0.5249 | Train acc: 0.6079 | Train kappa: 0.5395 \n",
      "Val loss: 0.7542 | Val precision: 0.5187 | Val recall: 0.5132 | Val f1score: 0.5075 | Val acc: 0.6189 | Val kappa: 0.5139 \n",
      "\n",
      "Epoch: 5 \n",
      "Learning rate: 0.00158203125\n",
      "Train loss: 0.7670 | Train precision: 0.6020 | Train recall: 0.5478 | Train f1score: 0.5460 | Train acc: 0.6201 | Train kappa: 0.5531 \n",
      "Val loss: 1.1010 | Val precision: 0.6005 | Val recall: 0.5144 | Val f1score: 0.3861 | Val acc: 0.4184 | Val kappa: 0.3006 \n",
      "\n",
      "Epoch: 6 \n",
      "Learning rate: 0.0011865234375\n",
      "Train loss: 0.7722 | Train precision: 0.6129 | Train recall: 0.5562 | Train f1score: 0.5547 | Train acc: 0.6152 | Train kappa: 0.5561 \n",
      "Val loss: 0.8489 | Val precision: 0.6299 | Val recall: 0.5401 | Val f1score: 0.4889 | Val acc: 0.5304 | Val kappa: 0.4325 \n",
      "\n",
      "Epoch: 7 \n",
      "Learning rate: 0.000889892578125\n",
      "Train loss: 0.7550 | Train precision: 0.6126 | Train recall: 0.5604 | Train f1score: 0.5590 | Train acc: 0.6248 | Train kappa: 0.5724 \n",
      "Val loss: 0.7659 | Val precision: 0.5892 | Val recall: 0.5320 | Val f1score: 0.5204 | Val acc: 0.5703 | Val kappa: 0.4773 \n",
      "\n",
      "Epoch: 8 \n",
      "Learning rate: 0.00066741943359375\n",
      "Train loss: 0.7442 | Train precision: 0.6486 | Train recall: 0.5682 | Train f1score: 0.5731 | Train acc: 0.6288 | Train kappa: 0.5766 \n",
      "Val loss: 0.7743 | Val precision: 0.6008 | Val recall: 0.5427 | Val f1score: 0.5158 | Val acc: 0.5642 | Val kappa: 0.4704 \n",
      "\n",
      "Epoch: 9 \n",
      "Learning rate: 0.0005005645751953125\n",
      "Train loss: 0.7428 | Train precision: 0.6432 | Train recall: 0.5707 | Train f1score: 0.5761 | Train acc: 0.6307 | Train kappa: 0.5839 \n",
      "Val loss: 0.7074 | Val precision: 0.5950 | Val recall: 0.5529 | Val f1score: 0.5590 | Val acc: 0.6172 | Val kappa: 0.5362 \n",
      "\n",
      "Epoch: 10 \n",
      "Learning rate: 0.0003754234313964844\n",
      "Train loss: 0.7302 | Train precision: 0.6440 | Train recall: 0.5829 | Train f1score: 0.5832 | Train acc: 0.6294 | Train kappa: 0.5804 \n",
      "Val loss: 0.7582 | Val precision: 0.6204 | Val recall: 0.5843 | Val f1score: 0.5602 | Val acc: 0.5946 | Val kappa: 0.5246 \n",
      "\n",
      "Epoch: 11 \n",
      "Learning rate: 0.0002815675735473633\n",
      "Train loss: 0.7310 | Train precision: 0.6642 | Train recall: 0.5883 | Train f1score: 0.5947 | Train acc: 0.6419 | Train kappa: 0.5889 \n",
      "Val loss: 0.7073 | Val precision: 0.6137 | Val recall: 0.5514 | Val f1score: 0.5658 | Val acc: 0.5998 | Val kappa: 0.5212 \n",
      "\n",
      "Epoch: 12 \n",
      "Learning rate: 0.00021117568016052246\n",
      "Train loss: 0.7282 | Train precision: 0.6515 | Train recall: 0.5815 | Train f1score: 0.5867 | Train acc: 0.6403 | Train kappa: 0.5949 \n",
      "Val loss: 0.7089 | Val precision: 0.6125 | Val recall: 0.5738 | Val f1score: 0.5685 | Val acc: 0.6155 | Val kappa: 0.5437 \n",
      "\n",
      "Epoch: 13 \n",
      "Learning rate: 0.00015838176012039184\n",
      "Train loss: 0.7273 | Train precision: 0.6690 | Train recall: 0.5795 | Train f1score: 0.5821 | Train acc: 0.6329 | Train kappa: 0.5849 \n",
      "Val loss: 0.7190 | Val precision: 0.6296 | Val recall: 0.5565 | Val f1score: 0.5722 | Val acc: 0.6033 | Val kappa: 0.5233 \n",
      "\n",
      "Epoch: 14 \n",
      "Learning rate: 0.00011878632009029388\n",
      "Train loss: 0.7225 | Train precision: 0.6817 | Train recall: 0.5975 | Train f1score: 0.6078 | Train acc: 0.6435 | Train kappa: 0.5978 \n",
      "Val loss: 0.7319 | Val precision: 0.6387 | Val recall: 0.5856 | Val f1score: 0.5898 | Val acc: 0.6016 | Val kappa: 0.5238 \n",
      "\n",
      "Epoch: 15 \n",
      "Learning rate: 8.908974006772042e-05\n",
      "Train loss: 0.7263 | Train precision: 0.6549 | Train recall: 0.5889 | Train f1score: 0.5989 | Train acc: 0.6375 | Train kappa: 0.6019 \n",
      "Val loss: 0.7357 | Val precision: 0.6543 | Val recall: 0.5952 | Val f1score: 0.5996 | Val acc: 0.6007 | Val kappa: 0.5248 \n",
      "\n",
      "Epoch: 16 \n",
      "Learning rate: 6.681730505079031e-05\n",
      "Train loss: 0.7190 | Train precision: 0.6674 | Train recall: 0.5976 | Train f1score: 0.6090 | Train acc: 0.6427 | Train kappa: 0.5915 \n",
      "Val loss: 0.7399 | Val precision: 0.6469 | Val recall: 0.5751 | Val f1score: 0.5814 | Val acc: 0.6007 | Val kappa: 0.5245 \n",
      "\n",
      "Epoch: 17 \n",
      "Learning rate: 5.0112978788092735e-05\n",
      "Train loss: 0.7202 | Train precision: 0.6709 | Train recall: 0.6113 | Train f1score: 0.6211 | Train acc: 0.6431 | Train kappa: 0.6040 \n",
      "Val loss: 0.7296 | Val precision: 0.6401 | Val recall: 0.5716 | Val f1score: 0.5850 | Val acc: 0.6024 | Val kappa: 0.5233 \n",
      "\n",
      "Epoch: 18 \n",
      "Learning rate: 3.758473409106955e-05\n",
      "Train loss: 0.7228 | Train precision: 0.6496 | Train recall: 0.5889 | Train f1score: 0.5967 | Train acc: 0.6425 | Train kappa: 0.6073 \n",
      "Val loss: 0.7271 | Val precision: 0.6343 | Val recall: 0.5692 | Val f1score: 0.5778 | Val acc: 0.6076 | Val kappa: 0.5293 \n",
      "\n",
      "Epoch: 19 \n",
      "Learning rate: 2.8188550568302163e-05\n",
      "Train loss: 0.7205 | Train precision: 0.6833 | Train recall: 0.6025 | Train f1score: 0.6184 | Train acc: 0.6379 | Train kappa: 0.5956 \n",
      "Val loss: 0.7267 | Val precision: 0.6285 | Val recall: 0.5617 | Val f1score: 0.5682 | Val acc: 0.6024 | Val kappa: 0.5242 \n",
      "\n",
      "Epoch: 20 \n",
      "Learning rate: 2.114141292622662e-05\n",
      "Train loss: 0.7208 | Train precision: 0.6691 | Train recall: 0.5925 | Train f1score: 0.6043 | Train acc: 0.6397 | Train kappa: 0.5978 \n",
      "Val loss: 0.7236 | Val precision: 0.6218 | Val recall: 0.5566 | Val f1score: 0.5654 | Val acc: 0.6050 | Val kappa: 0.5276 \n",
      "\n",
      "Epoch: 21 \n",
      "Learning rate: 1.5856059694669965e-05\n",
      "Train loss: 0.7153 | Train precision: 0.6624 | Train recall: 0.5929 | Train f1score: 0.6024 | Train acc: 0.6445 | Train kappa: 0.5986 \n",
      "Val loss: 0.7263 | Val precision: 0.6236 | Val recall: 0.5625 | Val f1score: 0.5693 | Val acc: 0.6059 | Val kappa: 0.5294 \n",
      "\n",
      "Epoch: 22 \n",
      "Learning rate: 1.1892044771002475e-05\n",
      "Train loss: 0.7049 | Train precision: 0.6841 | Train recall: 0.6078 | Train f1score: 0.6197 | Train acc: 0.6549 | Train kappa: 0.6116 \n",
      "Val loss: 0.7267 | Val precision: 0.6278 | Val recall: 0.5617 | Val f1score: 0.5691 | Val acc: 0.6042 | Val kappa: 0.5264 \n",
      "\n",
      "Epoch: 23 \n",
      "Learning rate: 8.919033578251857e-06\n",
      "Train loss: 0.7242 | Train precision: 0.6695 | Train recall: 0.5998 | Train f1score: 0.6102 | Train acc: 0.6426 | Train kappa: 0.5953 \n",
      "Val loss: 0.7252 | Val precision: 0.6329 | Val recall: 0.5625 | Val f1score: 0.5737 | Val acc: 0.6059 | Val kappa: 0.5266 \n",
      "\n",
      "Epoch: 24 \n",
      "Learning rate: 6.689275183688892e-06\n",
      "Train loss: 0.7192 | Train precision: 0.6862 | Train recall: 0.5976 | Train f1score: 0.6106 | Train acc: 0.6463 | Train kappa: 0.6149 \n",
      "Val loss: 0.7268 | Val precision: 0.6332 | Val recall: 0.5623 | Val f1score: 0.5732 | Val acc: 0.6050 | Val kappa: 0.5286 \n",
      "\n",
      "Epoch: 25 \n",
      "Learning rate: 5.016956387766669e-06\n",
      "Train loss: 0.7161 | Train precision: 0.6655 | Train recall: 0.5956 | Train f1score: 0.6047 | Train acc: 0.6494 | Train kappa: 0.6073 \n",
      "Val loss: 0.7220 | Val precision: 0.6294 | Val recall: 0.5653 | Val f1score: 0.5757 | Val acc: 0.6042 | Val kappa: 0.5256 \n",
      "\n",
      "Early stopping after epoch 25\n"
     ]
    },
    {
     "data": {
      "text/html": [
       "Waiting for W&B process to finish... <strong style=\"color:green\">(success).</strong>"
      ],
      "text/plain": [
       "<IPython.core.display.HTML object>"
      ]
     },
     "metadata": {},
     "output_type": "display_data"
    },
    {
     "data": {
      "application/vnd.jupyter.widget-view+json": {
       "model_id": "418097a6c7d3484cbeac9be465dc984f",
       "version_major": 2,
       "version_minor": 0
      },
      "text/plain": [
       "VBox(children=(Label(value='0.001 MB of 0.001 MB uploaded (0.000 MB deduped)\\r'), FloatProgress(value=1.0, max…"
      ]
     },
     "metadata": {},
     "output_type": "display_data"
    },
    {
     "data": {
      "text/html": [
       "<style>\n",
       "    table.wandb td:nth-child(1) { padding: 0 10px; text-align: left ; width: auto;} td:nth-child(2) {text-align: left ; width: 100%}\n",
       "    .wandb-row { display: flex; flex-direction: row; flex-wrap: wrap; justify-content: flex-start; width: 100% }\n",
       "    .wandb-col { display: flex; flex-direction: column; flex-basis: 100%; flex: 1; padding: 10px; }\n",
       "    </style>\n",
       "<div class=\"wandb-row\"><div class=\"wandb-col\"><h3>Run history:</h3><br/><table class=\"wandb\"><tr><td>learning_rate</td><td>█▆▅▄▃▃▂▂▂▂▁▁▁▁▁▁▁▁▁▁▁▁▁▁▁</td></tr><tr><td>train_f1_score</td><td>▁▄▅▆▆▇▇▇▇▇▇▇▇████▇███████</td></tr><tr><td>train_loss</td><td>█▅▄▃▃▃▂▂▂▂▂▂▂▁▂▁▁▁▁▁▁▁▂▁▁</td></tr><tr><td>val_f1_score</td><td>▁▅▅▆▄▆▇▇▇▇▇▇██████▇▇▇▇███</td></tr><tr><td>val_loss</td><td>█▁▁▁▁▁▁▁▁▁▁▁▁▁▁▁▁▁▁▁▁▁▁▁▁</td></tr></table><br/></div><div class=\"wandb-col\"><h3>Run summary:</h3><br/><table class=\"wandb\"><tr><td>learning_rate</td><td>1e-05</td></tr><tr><td>train_f1_score</td><td>0.6047</td></tr><tr><td>train_loss</td><td>0.71613</td></tr><tr><td>val_f1_score</td><td>0.57574</td></tr><tr><td>val_loss</td><td>0.72196</td></tr></table><br/></div></div>"
      ],
      "text/plain": [
       "<IPython.core.display.HTML object>"
      ]
     },
     "metadata": {},
     "output_type": "display_data"
    },
    {
     "data": {
      "text/html": [
       " View run <strong style=\"color:#cdcd00\">fold_2_RGB-RE-NIR-NDVI_4classes</strong> at: <a href='https://wandb.ai/simon-ecke/wze-uav-4classes/runs/961a7gxf' target=\"_blank\">https://wandb.ai/simon-ecke/wze-uav-4classes/runs/961a7gxf</a><br/>Synced 5 W&B file(s), 0 media file(s), 0 artifact file(s) and 0 other file(s)"
      ],
      "text/plain": [
       "<IPython.core.display.HTML object>"
      ]
     },
     "metadata": {},
     "output_type": "display_data"
    },
    {
     "data": {
      "text/html": [
       "Find logs at: <code>.\\wandb\\run-20230423_214427-961a7gxf\\logs</code>"
      ],
      "text/plain": [
       "<IPython.core.display.HTML object>"
      ]
     },
     "metadata": {},
     "output_type": "display_data"
    },
    {
     "name": "stdout",
     "output_type": "stream",
     "text": [
      "Deleting variables and emptying cache\n",
      "Memory allocated: 1053666816 bytes\n",
      "--------------------------------------------------\n",
      "\n",
      "Fold : 3\n",
      "TRAIN POSITIVE RATIO: 0.4734866634722888\n",
      "VAL POSITIVE RATIO  : 0.47043783956535634\n",
      "LENGTH TRAIN GROUPS : 4722\n",
      "LENGTH VAL GROUPS   : 1182\n"
     ]
    },
    {
     "data": {
      "text/html": [
       "wandb version 0.15.0 is available!  To upgrade, please run:\n",
       " $ pip install wandb --upgrade"
      ],
      "text/plain": [
       "<IPython.core.display.HTML object>"
      ]
     },
     "metadata": {},
     "output_type": "display_data"
    },
    {
     "data": {
      "text/html": [
       "Tracking run with wandb version 0.14.2"
      ],
      "text/plain": [
       "<IPython.core.display.HTML object>"
      ]
     },
     "metadata": {},
     "output_type": "display_data"
    },
    {
     "data": {
      "text/html": [
       "Run data is saved locally in <code>C:\\Users\\lwfeckesim\\01_PyTorch\\wze-uav\\wze-uav-master\\wandb\\run-20230423_235854-x51i16m1</code>"
      ],
      "text/plain": [
       "<IPython.core.display.HTML object>"
      ]
     },
     "metadata": {},
     "output_type": "display_data"
    },
    {
     "data": {
      "text/html": [
       "Syncing run <strong><a href='https://wandb.ai/simon-ecke/wze-uav-4classes/runs/x51i16m1' target=\"_blank\">fold_3_RGB-RE-NIR-NDVI_4classes</a></strong> to <a href='https://wandb.ai/simon-ecke/wze-uav-4classes' target=\"_blank\">Weights & Biases</a> (<a href='https://wandb.me/run' target=\"_blank\">docs</a>)<br/>"
      ],
      "text/plain": [
       "<IPython.core.display.HTML object>"
      ]
     },
     "metadata": {},
     "output_type": "display_data"
    },
    {
     "data": {
      "text/html": [
       " View project at <a href='https://wandb.ai/simon-ecke/wze-uav-4classes' target=\"_blank\">https://wandb.ai/simon-ecke/wze-uav-4classes</a>"
      ],
      "text/plain": [
       "<IPython.core.display.HTML object>"
      ]
     },
     "metadata": {},
     "output_type": "display_data"
    },
    {
     "data": {
      "text/html": [
       " View run at <a href='https://wandb.ai/simon-ecke/wze-uav-4classes/runs/x51i16m1' target=\"_blank\">https://wandb.ai/simon-ecke/wze-uav-4classes/runs/x51i16m1</a>"
      ],
      "text/plain": [
       "<IPython.core.display.HTML object>"
      ]
     },
     "metadata": {},
     "output_type": "display_data"
    },
    {
     "name": "stdout",
     "output_type": "stream",
     "text": [
      "There are no same hash_id values in train, val or test datasets. The datasplit was successful\n",
      "Check shapes:\n",
      "\n",
      "Images train dataset: (12522, 250, 250, 6)\n",
      "Labels train dataset: (12522, 1)\n",
      "\n",
      "Images validation dataset: (1183, 250, 250, 6)\n",
      "Labels validation dataset: (1183, 1)\n",
      "\n",
      "--------------------------------------------------\n",
      "Check if the split was stratified: (random_state=42)\n",
      "Healthy trees in train dataset: 7357\n",
      "Moderately stressed trees in train dataset: 4601\n",
      "Severely stressed trees in train dataset: 364\n",
      "Dead trees in train dataset: 200\n",
      "Healthy trees in validation dataset: 691\n",
      "Moderately stressed trees in validation dataset: 431\n",
      "Severely stressed trees in validation dataset: 38\n",
      "Dead trees in validation dataset: 23\n",
      "Ratio health trees in validation dataset: 0.0749782986111111\n",
      "Ratio moderately stressed trees in validation dataset: 0.0753233135267389\n",
      "Ratio severely stressed trees in validation dataset: 0.9369565217391305\n",
      "Ratio dead trees in validation dataset: 0.15019762845849802\n",
      "--------------------------------------------------\n",
      "\n",
      "Creating datasets for fold: 3\n",
      "\n",
      "Creating dataloaders for fold: 3\n",
      "\n",
      "Loaded pretrained weights for efficientnet-b7\n",
      "\n",
      "[INFO] Fold number: 3\n",
      "[INFO] Number of epochs: 50\n",
      "[INFO] Batch_size: 32\n",
      "[INFO] Number of bands: 6\n",
      "[INFO] Dropout rate: 0.5\n",
      "[INFO] Gamma learning rate: 0.75\n",
      "[INFO] Memory allocated: 0 bytes\n"
     ]
    },
    {
     "data": {
      "application/vnd.jupyter.widget-view+json": {
       "model_id": "8724fa3db27f48969d5fbf61fea28a1f",
       "version_major": 2,
       "version_minor": 0
      },
      "text/plain": [
       "  0%|          | 0/50 [00:00<?, ?it/s]"
      ]
     },
     "metadata": {},
     "output_type": "display_data"
    },
    {
     "name": "stdout",
     "output_type": "stream",
     "text": [
      "Epoch: 1 \n",
      "Learning rate: 0.005\n",
      "Train loss: 0.9680 | Train precision: 0.3850 | Train recall: 0.3305 | Train f1score: 0.3425 | Train acc: 0.4888 | Train kappa: 0.1820 \n",
      "Val loss: 2.2881 | Val precision: 0.0927 | Val recall: 0.2500 | Val f1score: 0.1352 | Val acc: 0.3707 | Val kappa: 0.0000 \n",
      "\n",
      "Epoch: 2 \n",
      "Learning rate: 0.00375\n",
      "Train loss: 0.8696 | Train precision: 0.5189 | Train recall: 0.4574 | Train f1score: 0.4570 | Train acc: 0.5588 | Train kappa: 0.4272 \n",
      "Val loss: 0.8294 | Val precision: 0.4875 | Val recall: 0.4967 | Val f1score: 0.4841 | Val acc: 0.5530 | Val kappa: 0.3939 \n",
      "\n",
      "Epoch: 3 \n",
      "Learning rate: 0.0028125\n",
      "Train loss: 0.8082 | Train precision: 0.5701 | Train recall: 0.5172 | Train f1score: 0.5105 | Train acc: 0.5989 | Train kappa: 0.5338 \n",
      "Val loss: 0.8350 | Val precision: 0.4662 | Val recall: 0.5108 | Val f1score: 0.4282 | Val acc: 0.4661 | Val kappa: 0.3382 \n",
      "\n",
      "Epoch: 4 \n",
      "Learning rate: 0.002109375\n",
      "Train loss: 0.7836 | Train precision: 0.6125 | Train recall: 0.5408 | Train f1score: 0.5398 | Train acc: 0.6057 | Train kappa: 0.5451 \n",
      "Val loss: 0.7443 | Val precision: 0.7461 | Val recall: 0.5316 | Val f1score: 0.5431 | Val acc: 0.6302 | Val kappa: 0.4748 \n",
      "\n",
      "Epoch: 5 \n",
      "Learning rate: 0.00158203125\n",
      "Train loss: 0.7674 | Train precision: 0.5919 | Train recall: 0.5455 | Train f1score: 0.5402 | Train acc: 0.6176 | Train kappa: 0.5614 \n",
      "Val loss: 0.7975 | Val precision: 0.4930 | Val recall: 0.4644 | Val f1score: 0.4761 | Val acc: 0.5955 | Val kappa: 0.4051 \n",
      "\n",
      "Epoch: 6 \n",
      "Learning rate: 0.0011865234375\n",
      "Train loss: 0.7508 | Train precision: 0.6300 | Train recall: 0.5659 | Train f1score: 0.5682 | Train acc: 0.6263 | Train kappa: 0.5827 \n",
      "Val loss: 0.7946 | Val precision: 0.6606 | Val recall: 0.6042 | Val f1score: 0.5943 | Val acc: 0.5790 | Val kappa: 0.4796 \n",
      "\n",
      "Epoch: 7 \n",
      "Learning rate: 0.000889892578125\n",
      "Train loss: 0.7452 | Train precision: 0.6435 | Train recall: 0.5658 | Train f1score: 0.5706 | Train acc: 0.6265 | Train kappa: 0.5756 \n",
      "Val loss: 0.7759 | Val precision: 0.5352 | Val recall: 0.5640 | Val f1score: 0.5098 | Val acc: 0.6137 | Val kappa: 0.5178 \n",
      "\n",
      "Epoch: 8 \n",
      "Learning rate: 0.00066741943359375\n",
      "Train loss: 0.7413 | Train precision: 0.6077 | Train recall: 0.5673 | Train f1score: 0.5638 | Train acc: 0.6331 | Train kappa: 0.5920 \n",
      "Val loss: 0.7420 | Val precision: 0.6917 | Val recall: 0.5920 | Val f1score: 0.5872 | Val acc: 0.6155 | Val kappa: 0.5144 \n",
      "\n",
      "Epoch: 9 \n",
      "Learning rate: 0.0005005645751953125\n",
      "Train loss: 0.7405 | Train precision: 0.6287 | Train recall: 0.5691 | Train f1score: 0.5759 | Train acc: 0.6227 | Train kappa: 0.5857 \n",
      "Val loss: 0.7099 | Val precision: 0.6101 | Val recall: 0.5760 | Val f1score: 0.5695 | Val acc: 0.6389 | Val kappa: 0.5234 \n",
      "\n",
      "Epoch: 10 \n",
      "Learning rate: 0.0003754234313964844\n",
      "Train loss: 0.7311 | Train precision: 0.6683 | Train recall: 0.5933 | Train f1score: 0.6040 | Train acc: 0.6328 | Train kappa: 0.6078 \n",
      "Val loss: 0.7412 | Val precision: 0.5883 | Val recall: 0.6055 | Val f1score: 0.5843 | Val acc: 0.6267 | Val kappa: 0.5411 \n",
      "\n",
      "Epoch: 11 \n",
      "Learning rate: 0.0002815675735473633\n",
      "Train loss: 0.7255 | Train precision: 0.6638 | Train recall: 0.5918 | Train f1score: 0.6034 | Train acc: 0.6377 | Train kappa: 0.6063 \n",
      "Val loss: 0.7520 | Val precision: 0.6175 | Val recall: 0.6064 | Val f1score: 0.5919 | Val acc: 0.6111 | Val kappa: 0.5280 \n",
      "\n",
      "Epoch: 12 \n",
      "Learning rate: 0.00021117568016052246\n",
      "Train loss: 0.7240 | Train precision: 0.6699 | Train recall: 0.5951 | Train f1score: 0.6023 | Train acc: 0.6432 | Train kappa: 0.6188 \n",
      "Val loss: 0.7435 | Val precision: 0.5808 | Val recall: 0.6050 | Val f1score: 0.5756 | Val acc: 0.6285 | Val kappa: 0.5480 \n",
      "\n",
      "Epoch: 13 \n",
      "Learning rate: 0.00015838176012039184\n",
      "Train loss: 0.7307 | Train precision: 0.6406 | Train recall: 0.5843 | Train f1score: 0.5888 | Train acc: 0.6331 | Train kappa: 0.5895 \n",
      "Val loss: 0.7468 | Val precision: 0.6089 | Val recall: 0.6062 | Val f1score: 0.5891 | Val acc: 0.6146 | Val kappa: 0.5298 \n",
      "\n",
      "Epoch: 14 \n",
      "Learning rate: 0.00011878632009029388\n",
      "Train loss: 0.7167 | Train precision: 0.6735 | Train recall: 0.5972 | Train f1score: 0.6063 | Train acc: 0.6469 | Train kappa: 0.6177 \n",
      "Val loss: 0.7279 | Val precision: 0.5919 | Val recall: 0.6011 | Val f1score: 0.5838 | Val acc: 0.6311 | Val kappa: 0.5475 \n",
      "\n",
      "Epoch: 15 \n",
      "Learning rate: 8.908974006772042e-05\n",
      "Train loss: 0.7227 | Train precision: 0.6784 | Train recall: 0.5933 | Train f1score: 0.6071 | Train acc: 0.6379 | Train kappa: 0.6082 \n",
      "Val loss: 0.7247 | Val precision: 0.6111 | Val recall: 0.6177 | Val f1score: 0.6053 | Val acc: 0.6406 | Val kappa: 0.5564 \n",
      "\n",
      "Epoch: 16 \n",
      "Learning rate: 6.681730505079031e-05\n",
      "Train loss: 0.7246 | Train precision: 0.6513 | Train recall: 0.5973 | Train f1score: 0.6056 | Train acc: 0.6370 | Train kappa: 0.6125 \n",
      "Val loss: 0.7170 | Val precision: 0.6097 | Val recall: 0.6101 | Val f1score: 0.5992 | Val acc: 0.6398 | Val kappa: 0.5527 \n",
      "\n",
      "Epoch: 17 \n",
      "Learning rate: 5.0112978788092735e-05\n",
      "Train loss: 0.7160 | Train precision: 0.6809 | Train recall: 0.6000 | Train f1score: 0.6130 | Train acc: 0.6438 | Train kappa: 0.6133 \n",
      "Val loss: 0.7117 | Val precision: 0.6127 | Val recall: 0.6086 | Val f1score: 0.5992 | Val acc: 0.6389 | Val kappa: 0.5507 \n",
      "\n",
      "Epoch: 18 \n",
      "Learning rate: 3.758473409106955e-05\n",
      "Train loss: 0.7232 | Train precision: 0.6729 | Train recall: 0.6000 | Train f1score: 0.6158 | Train acc: 0.6363 | Train kappa: 0.6126 \n",
      "Val loss: 0.7112 | Val precision: 0.6207 | Val recall: 0.6120 | Val f1score: 0.6027 | Val acc: 0.6424 | Val kappa: 0.5509 \n",
      "\n",
      "Epoch: 19 \n",
      "Learning rate: 2.8188550568302163e-05\n",
      "Train loss: 0.7175 | Train precision: 0.6846 | Train recall: 0.6019 | Train f1score: 0.6175 | Train acc: 0.6395 | Train kappa: 0.6070 \n",
      "Val loss: 0.7267 | Val precision: 0.6202 | Val recall: 0.6184 | Val f1score: 0.6055 | Val acc: 0.6345 | Val kappa: 0.5507 \n",
      "\n",
      "Epoch: 20 \n",
      "Learning rate: 2.114141292622662e-05\n",
      "Train loss: 0.7228 | Train precision: 0.6717 | Train recall: 0.5943 | Train f1score: 0.6079 | Train acc: 0.6348 | Train kappa: 0.5902 \n",
      "Val loss: 0.7135 | Val precision: 0.6168 | Val recall: 0.6055 | Val f1score: 0.5949 | Val acc: 0.6398 | Val kappa: 0.5460 \n",
      "\n",
      "Epoch: 21 \n",
      "Learning rate: 1.5856059694669965e-05\n",
      "Train loss: 0.7097 | Train precision: 0.6699 | Train recall: 0.5981 | Train f1score: 0.6103 | Train acc: 0.6447 | Train kappa: 0.6152 \n",
      "Val loss: 0.7232 | Val precision: 0.6138 | Val recall: 0.6165 | Val f1score: 0.6039 | Val acc: 0.6345 | Val kappa: 0.5455 \n",
      "\n",
      "Epoch: 22 \n",
      "Learning rate: 1.1892044771002475e-05\n",
      "Train loss: 0.7141 | Train precision: 0.6552 | Train recall: 0.5993 | Train f1score: 0.6080 | Train acc: 0.6401 | Train kappa: 0.6152 \n",
      "Val loss: 0.7188 | Val precision: 0.6093 | Val recall: 0.6031 | Val f1score: 0.5915 | Val acc: 0.6345 | Val kappa: 0.5439 \n",
      "\n",
      "Epoch: 23 \n",
      "Learning rate: 8.919033578251857e-06\n",
      "Train loss: 0.7111 | Train precision: 0.6749 | Train recall: 0.5996 | Train f1score: 0.6146 | Train acc: 0.6460 | Train kappa: 0.6130 \n",
      "Val loss: 0.7240 | Val precision: 0.6082 | Val recall: 0.6123 | Val f1score: 0.5984 | Val acc: 0.6372 | Val kappa: 0.5477 \n",
      "\n",
      "Epoch: 24 \n",
      "Learning rate: 6.689275183688892e-06\n",
      "Train loss: 0.7181 | Train precision: 0.6797 | Train recall: 0.6017 | Train f1score: 0.6171 | Train acc: 0.6388 | Train kappa: 0.6100 \n",
      "Val loss: 0.7201 | Val precision: 0.6093 | Val recall: 0.6029 | Val f1score: 0.5909 | Val acc: 0.6328 | Val kappa: 0.5419 \n",
      "\n",
      "Epoch: 25 \n",
      "Learning rate: 5.016956387766669e-06\n",
      "Train loss: 0.7158 | Train precision: 0.6912 | Train recall: 0.6055 | Train f1score: 0.6198 | Train acc: 0.6455 | Train kappa: 0.6085 \n",
      "Val loss: 0.7208 | Val precision: 0.6040 | Val recall: 0.6022 | Val f1score: 0.5892 | Val acc: 0.6311 | Val kappa: 0.5408 \n",
      "\n",
      "Epoch: 26 \n",
      "Learning rate: 3.762717290825002e-06\n",
      "Train loss: 0.7160 | Train precision: 0.6886 | Train recall: 0.6056 | Train f1score: 0.6197 | Train acc: 0.6408 | Train kappa: 0.6111 \n",
      "Val loss: 0.7238 | Val precision: 0.6012 | Val recall: 0.6032 | Val f1score: 0.5888 | Val acc: 0.6311 | Val kappa: 0.5418 \n",
      "\n",
      "Epoch: 27 \n",
      "Learning rate: 2.8220379681187514e-06\n",
      "Train loss: 0.7156 | Train precision: 0.6771 | Train recall: 0.5920 | Train f1score: 0.6067 | Train acc: 0.6383 | Train kappa: 0.6034 \n",
      "Val loss: 0.7242 | Val precision: 0.6009 | Val recall: 0.6030 | Val f1score: 0.5887 | Val acc: 0.6311 | Val kappa: 0.5418 \n",
      "\n"
     ]
    },
    {
     "name": "stdout",
     "output_type": "stream",
     "text": [
      "Epoch: 28 \n",
      "Learning rate: 2.1165284760890633e-06\n",
      "Train loss: 0.7020 | Train precision: 0.6900 | Train recall: 0.6063 | Train f1score: 0.6210 | Train acc: 0.6495 | Train kappa: 0.6167 \n",
      "Val loss: 0.7234 | Val precision: 0.5995 | Val recall: 0.6016 | Val f1score: 0.5877 | Val acc: 0.6293 | Val kappa: 0.5398 \n",
      "\n",
      "Epoch: 29 \n",
      "Learning rate: 1.5873963570667977e-06\n",
      "Train loss: 0.7119 | Train precision: 0.6752 | Train recall: 0.6045 | Train f1score: 0.6194 | Train acc: 0.6428 | Train kappa: 0.6131 \n",
      "Val loss: 0.7212 | Val precision: 0.5998 | Val recall: 0.6020 | Val f1score: 0.5883 | Val acc: 0.6311 | Val kappa: 0.5418 \n",
      "\n",
      "Early stopping after epoch 29\n"
     ]
    },
    {
     "data": {
      "text/html": [
       "Waiting for W&B process to finish... <strong style=\"color:green\">(success).</strong>"
      ],
      "text/plain": [
       "<IPython.core.display.HTML object>"
      ]
     },
     "metadata": {},
     "output_type": "display_data"
    },
    {
     "data": {
      "text/html": [
       "<style>\n",
       "    table.wandb td:nth-child(1) { padding: 0 10px; text-align: left ; width: auto;} td:nth-child(2) {text-align: left ; width: 100%}\n",
       "    .wandb-row { display: flex; flex-direction: row; flex-wrap: wrap; justify-content: flex-start; width: 100% }\n",
       "    .wandb-col { display: flex; flex-direction: column; flex-basis: 100%; flex: 1; padding: 10px; }\n",
       "    </style>\n",
       "<div class=\"wandb-row\"><div class=\"wandb-col\"><h3>Run history:</h3><br/><table class=\"wandb\"><tr><td>learning_rate</td><td>█▆▅▄▃▃▂▂▂▂▁▁▁▁▁▁▁▁▁▁▁▁▁▁▁▁▁▁▁</td></tr><tr><td>train_f1_score</td><td>▁▄▅▆▆▇▇▇▇███▇████████████████</td></tr><tr><td>train_loss</td><td>█▅▄▃▃▂▂▂▂▂▂▂▂▁▂▂▁▂▁▂▁▁▁▁▁▁▁▁▁</td></tr><tr><td>val_f1_score</td><td>▁▆▅▇▆█▇█▇████████████████████</td></tr><tr><td>val_loss</td><td>█▂▂▁▁▁▁▁▁▁▁▁▁▁▁▁▁▁▁▁▁▁▁▁▁▁▁▁▁</td></tr></table><br/></div><div class=\"wandb-col\"><h3>Run summary:</h3><br/><table class=\"wandb\"><tr><td>learning_rate</td><td>0.0</td></tr><tr><td>train_f1_score</td><td>0.61941</td></tr><tr><td>train_loss</td><td>0.71191</td></tr><tr><td>val_f1_score</td><td>0.58834</td></tr><tr><td>val_loss</td><td>0.72122</td></tr></table><br/></div></div>"
      ],
      "text/plain": [
       "<IPython.core.display.HTML object>"
      ]
     },
     "metadata": {},
     "output_type": "display_data"
    },
    {
     "data": {
      "text/html": [
       " View run <strong style=\"color:#cdcd00\">fold_3_RGB-RE-NIR-NDVI_4classes</strong> at: <a href='https://wandb.ai/simon-ecke/wze-uav-4classes/runs/x51i16m1' target=\"_blank\">https://wandb.ai/simon-ecke/wze-uav-4classes/runs/x51i16m1</a><br/>Synced 5 W&B file(s), 0 media file(s), 0 artifact file(s) and 0 other file(s)"
      ],
      "text/plain": [
       "<IPython.core.display.HTML object>"
      ]
     },
     "metadata": {},
     "output_type": "display_data"
    },
    {
     "data": {
      "text/html": [
       "Find logs at: <code>.\\wandb\\run-20230423_235854-x51i16m1\\logs</code>"
      ],
      "text/plain": [
       "<IPython.core.display.HTML object>"
      ]
     },
     "metadata": {},
     "output_type": "display_data"
    },
    {
     "name": "stdout",
     "output_type": "stream",
     "text": [
      "Deleting variables and emptying cache\n",
      "Memory allocated: 1053439488 bytes\n",
      "--------------------------------------------------\n",
      "\n",
      "Fold : 4\n",
      "TRAIN POSITIVE RATIO: 0.4704565443351723\n",
      "VAL POSITIVE RATIO  : 0.4825063613231552\n",
      "LENGTH TRAIN GROUPS : 4724\n",
      "LENGTH VAL GROUPS   : 1180\n"
     ]
    },
    {
     "data": {
      "text/html": [
       "Tracking run with wandb version 0.14.2"
      ],
      "text/plain": [
       "<IPython.core.display.HTML object>"
      ]
     },
     "metadata": {},
     "output_type": "display_data"
    },
    {
     "data": {
      "text/html": [
       "Run data is saved locally in <code>C:\\Users\\lwfeckesim\\01_PyTorch\\wze-uav\\wze-uav-master\\wandb\\run-20230424_023357-odmz48tu</code>"
      ],
      "text/plain": [
       "<IPython.core.display.HTML object>"
      ]
     },
     "metadata": {},
     "output_type": "display_data"
    },
    {
     "data": {
      "text/html": [
       "Syncing run <strong><a href='https://wandb.ai/simon-ecke/wze-uav-4classes/runs/odmz48tu' target=\"_blank\">fold_4_RGB-RE-NIR-NDVI_4classes</a></strong> to <a href='https://wandb.ai/simon-ecke/wze-uav-4classes' target=\"_blank\">Weights & Biases</a> (<a href='https://wandb.me/run' target=\"_blank\">docs</a>)<br/>"
      ],
      "text/plain": [
       "<IPython.core.display.HTML object>"
      ]
     },
     "metadata": {},
     "output_type": "display_data"
    },
    {
     "data": {
      "text/html": [
       " View project at <a href='https://wandb.ai/simon-ecke/wze-uav-4classes' target=\"_blank\">https://wandb.ai/simon-ecke/wze-uav-4classes</a>"
      ],
      "text/plain": [
       "<IPython.core.display.HTML object>"
      ]
     },
     "metadata": {},
     "output_type": "display_data"
    },
    {
     "data": {
      "text/html": [
       " View run at <a href='https://wandb.ai/simon-ecke/wze-uav-4classes/runs/odmz48tu' target=\"_blank\">https://wandb.ai/simon-ecke/wze-uav-4classes/runs/odmz48tu</a>"
      ],
      "text/plain": [
       "<IPython.core.display.HTML object>"
      ]
     },
     "metadata": {},
     "output_type": "display_data"
    },
    {
     "name": "stdout",
     "output_type": "stream",
     "text": [
      "There are no same hash_id values in train, val or test datasets. The datasplit was successful\n",
      "Check shapes:\n",
      "\n",
      "Images train dataset: (12507, 250, 250, 6)\n",
      "Labels train dataset: (12507, 1)\n",
      "\n",
      "Images validation dataset: (1180, 250, 250, 6)\n",
      "Labels validation dataset: (1180, 1)\n",
      "\n",
      "--------------------------------------------------\n",
      "Check if the split was stratified: (random_state=42)\n",
      "Healthy trees in train dataset: 7396\n",
      "Moderately stressed trees in train dataset: 4543\n",
      "Severely stressed trees in train dataset: 363\n",
      "Dead trees in train dataset: 205\n",
      "Healthy trees in validation dataset: 683\n",
      "Moderately stressed trees in validation dataset: 436\n",
      "Severely stressed trees in validation dataset: 40\n",
      "Dead trees in validation dataset: 21\n",
      "Ratio health trees in validation dataset: 0.07411024305555555\n",
      "Ratio moderately stressed trees in validation dataset: 0.07619713386927647\n",
      "Ratio severely stressed trees in validation dataset: 0.9478260869565217\n",
      "Ratio dead trees in validation dataset: 0.15810276679841898\n",
      "--------------------------------------------------\n",
      "\n",
      "Creating datasets for fold: 4\n",
      "\n",
      "Creating dataloaders for fold: 4\n",
      "\n",
      "Loaded pretrained weights for efficientnet-b7\n",
      "\n",
      "[INFO] Fold number: 4\n",
      "[INFO] Number of epochs: 50\n",
      "[INFO] Batch_size: 32\n",
      "[INFO] Number of bands: 6\n",
      "[INFO] Dropout rate: 0.5\n",
      "[INFO] Gamma learning rate: 0.75\n",
      "[INFO] Memory allocated: 0 bytes\n"
     ]
    },
    {
     "data": {
      "application/vnd.jupyter.widget-view+json": {
       "model_id": "3a11737f033741a2bba432cc16770a2f",
       "version_major": 2,
       "version_minor": 0
      },
      "text/plain": [
       "  0%|          | 0/50 [00:00<?, ?it/s]"
      ]
     },
     "metadata": {},
     "output_type": "display_data"
    },
    {
     "name": "stdout",
     "output_type": "stream",
     "text": [
      "Epoch: 1 \n",
      "Learning rate: 0.005\n",
      "Train loss: 0.9547 | Train precision: 0.3787 | Train recall: 0.3507 | Train f1score: 0.3581 | Train acc: 0.4987 | Train kappa: 0.2212 \n",
      "Val loss: 0.9736 | Val precision: 0.2322 | Val recall: 0.2489 | Val f1score: 0.1532 | Val acc: 0.3828 | Val kappa: 0.0001 \n",
      "\n",
      "Epoch: 2 \n",
      "Learning rate: 0.00375\n",
      "Train loss: 0.8503 | Train precision: 0.4999 | Train recall: 0.4733 | Train f1score: 0.4691 | Train acc: 0.5751 | Train kappa: 0.4535 \n",
      "Val loss: 0.9756 | Val precision: 0.4858 | Val recall: 0.5468 | Val f1score: 0.4739 | Val acc: 0.5573 | Val kappa: 0.3900 \n",
      "\n",
      "Epoch: 3 \n",
      "Learning rate: 0.0028125\n",
      "Train loss: 0.8182 | Train precision: 0.5613 | Train recall: 0.5049 | Train f1score: 0.5070 | Train acc: 0.5886 | Train kappa: 0.5056 \n",
      "Val loss: 0.7697 | Val precision: 0.4626 | Val recall: 0.5037 | Val f1score: 0.4512 | Val acc: 0.6215 | Val kappa: 0.4041 \n",
      "\n",
      "Epoch: 4 \n",
      "Learning rate: 0.002109375\n",
      "Train loss: 0.8025 | Train precision: 0.5737 | Train recall: 0.5190 | Train f1score: 0.5180 | Train acc: 0.6012 | Train kappa: 0.5248 \n",
      "Val loss: 0.7433 | Val precision: 0.5499 | Val recall: 0.5325 | Val f1score: 0.4518 | Val acc: 0.6215 | Val kappa: 0.4328 \n",
      "\n",
      "Epoch: 5 \n",
      "Learning rate: 0.00158203125\n",
      "Train loss: 0.7757 | Train precision: 0.5889 | Train recall: 0.5468 | Train f1score: 0.5436 | Train acc: 0.6117 | Train kappa: 0.5625 \n",
      "Val loss: 0.8157 | Val precision: 0.5605 | Val recall: 0.5584 | Val f1score: 0.4997 | Val acc: 0.5668 | Val kappa: 0.4307 \n",
      "\n",
      "Epoch: 6 \n",
      "Learning rate: 0.0011865234375\n",
      "Train loss: 0.7609 | Train precision: 0.6299 | Train recall: 0.5648 | Train f1score: 0.5708 | Train acc: 0.6246 | Train kappa: 0.5681 \n",
      "Val loss: 0.7070 | Val precision: 0.7600 | Val recall: 0.5847 | Val f1score: 0.5488 | Val acc: 0.6354 | Val kappa: 0.5107 \n",
      "\n",
      "Epoch: 7 \n",
      "Learning rate: 0.000889892578125\n",
      "Train loss: 0.7634 | Train precision: 0.6232 | Train recall: 0.5558 | Train f1score: 0.5615 | Train acc: 0.6151 | Train kappa: 0.5630 \n",
      "Val loss: 0.7001 | Val precision: 0.5751 | Val recall: 0.5718 | Val f1score: 0.5467 | Val acc: 0.6450 | Val kappa: 0.4942 \n",
      "\n",
      "Epoch: 8 \n",
      "Learning rate: 0.00066741943359375\n",
      "Train loss: 0.7454 | Train precision: 0.6314 | Train recall: 0.5704 | Train f1score: 0.5780 | Train acc: 0.6225 | Train kappa: 0.5775 \n",
      "Val loss: 0.7101 | Val precision: 0.5093 | Val recall: 0.5782 | Val f1score: 0.5364 | Val acc: 0.6345 | Val kappa: 0.5017 \n",
      "\n",
      "Epoch: 9 \n",
      "Learning rate: 0.0005005645751953125\n",
      "Train loss: 0.7398 | Train precision: 0.6493 | Train recall: 0.5724 | Train f1score: 0.5813 | Train acc: 0.6319 | Train kappa: 0.5911 \n",
      "Val loss: 0.6952 | Val precision: 0.5076 | Val recall: 0.5707 | Val f1score: 0.5344 | Val acc: 0.6528 | Val kappa: 0.5065 \n",
      "\n",
      "Epoch: 10 \n",
      "Learning rate: 0.0003754234313964844\n",
      "Train loss: 0.7455 | Train precision: 0.6473 | Train recall: 0.5792 | Train f1score: 0.5862 | Train acc: 0.6335 | Train kappa: 0.6047 \n",
      "Val loss: 0.6954 | Val precision: 0.5948 | Val recall: 0.5943 | Val f1score: 0.5638 | Val acc: 0.6432 | Val kappa: 0.5111 \n",
      "\n",
      "Epoch: 11 \n",
      "Learning rate: 0.0002815675735473633\n",
      "Train loss: 0.7422 | Train precision: 0.6472 | Train recall: 0.5758 | Train f1score: 0.5884 | Train acc: 0.6320 | Train kappa: 0.5927 \n",
      "Val loss: 0.7063 | Val precision: 0.5986 | Val recall: 0.6087 | Val f1score: 0.5827 | Val acc: 0.6328 | Val kappa: 0.5027 \n",
      "\n",
      "Epoch: 12 \n",
      "Learning rate: 0.00021117568016052246\n",
      "Train loss: 0.7356 | Train precision: 0.6639 | Train recall: 0.5844 | Train f1score: 0.5985 | Train acc: 0.6345 | Train kappa: 0.6023 \n",
      "Val loss: 0.7572 | Val precision: 0.6237 | Val recall: 0.5992 | Val f1score: 0.5467 | Val acc: 0.6181 | Val kappa: 0.4983 \n",
      "\n",
      "Epoch: 13 \n",
      "Learning rate: 0.00015838176012039184\n",
      "Train loss: 0.7319 | Train precision: 0.6799 | Train recall: 0.5896 | Train f1score: 0.5997 | Train acc: 0.6406 | Train kappa: 0.6008 \n",
      "Val loss: 0.7034 | Val precision: 0.6287 | Val recall: 0.5980 | Val f1score: 0.5670 | Val acc: 0.6441 | Val kappa: 0.5169 \n",
      "\n",
      "Epoch: 14 \n",
      "Learning rate: 0.00011878632009029388\n",
      "Train loss: 0.7274 | Train precision: 0.6452 | Train recall: 0.5846 | Train f1score: 0.5946 | Train acc: 0.6334 | Train kappa: 0.5956 \n",
      "Val loss: 0.7024 | Val precision: 0.5131 | Val recall: 0.5820 | Val f1score: 0.5404 | Val acc: 0.6424 | Val kappa: 0.5129 \n",
      "\n",
      "Epoch: 15 \n",
      "Learning rate: 8.908974006772042e-05\n",
      "Train loss: 0.7288 | Train precision: 0.6560 | Train recall: 0.5843 | Train f1score: 0.5943 | Train acc: 0.6349 | Train kappa: 0.6023 \n",
      "Val loss: 0.7218 | Val precision: 0.6174 | Val recall: 0.6066 | Val f1score: 0.5723 | Val acc: 0.6398 | Val kappa: 0.5214 \n",
      "\n",
      "Epoch: 16 \n",
      "Learning rate: 6.681730505079031e-05\n",
      "Train loss: 0.7235 | Train precision: 0.6820 | Train recall: 0.5979 | Train f1score: 0.6137 | Train acc: 0.6429 | Train kappa: 0.6101 \n",
      "Val loss: 0.7235 | Val precision: 0.6376 | Val recall: 0.5924 | Val f1score: 0.5443 | Val acc: 0.6328 | Val kappa: 0.5061 \n",
      "\n",
      "Epoch: 17 \n",
      "Learning rate: 5.0112978788092735e-05\n",
      "Train loss: 0.7358 | Train precision: 0.6617 | Train recall: 0.5823 | Train f1score: 0.5914 | Train acc: 0.6335 | Train kappa: 0.6047 \n",
      "Val loss: 0.7073 | Val precision: 0.6295 | Val recall: 0.5868 | Val f1score: 0.5441 | Val acc: 0.6354 | Val kappa: 0.5087 \n",
      "\n",
      "Epoch: 18 \n",
      "Learning rate: 3.758473409106955e-05\n",
      "Train loss: 0.7289 | Train precision: 0.6691 | Train recall: 0.5871 | Train f1score: 0.5987 | Train acc: 0.6403 | Train kappa: 0.5941 \n",
      "Val loss: 0.6967 | Val precision: 0.6684 | Val recall: 0.5906 | Val f1score: 0.5564 | Val acc: 0.6424 | Val kappa: 0.5114 \n",
      "\n",
      "Epoch: 19 \n",
      "Learning rate: 2.8188550568302163e-05\n",
      "Train loss: 0.7249 | Train precision: 0.6751 | Train recall: 0.5902 | Train f1score: 0.6057 | Train acc: 0.6409 | Train kappa: 0.5896 \n",
      "Val loss: 0.7087 | Val precision: 0.6305 | Val recall: 0.5931 | Val f1score: 0.5540 | Val acc: 0.6328 | Val kappa: 0.5045 \n",
      "\n",
      "Epoch: 20 \n",
      "Learning rate: 2.114141292622662e-05\n",
      "Train loss: 0.7250 | Train precision: 0.6767 | Train recall: 0.6021 | Train f1score: 0.6132 | Train acc: 0.6446 | Train kappa: 0.6075 \n",
      "Val loss: 0.7082 | Val precision: 0.6567 | Val recall: 0.6004 | Val f1score: 0.5656 | Val acc: 0.6354 | Val kappa: 0.5089 \n",
      "\n",
      "Epoch: 21 \n",
      "Learning rate: 1.5856059694669965e-05\n",
      "Train loss: 0.7281 | Train precision: 0.6857 | Train recall: 0.5933 | Train f1score: 0.6084 | Train acc: 0.6392 | Train kappa: 0.6059 \n",
      "Val loss: 0.7008 | Val precision: 0.6284 | Val recall: 0.5974 | Val f1score: 0.5644 | Val acc: 0.6363 | Val kappa: 0.5107 \n",
      "\n",
      "Early stopping after epoch 21\n"
     ]
    },
    {
     "data": {
      "text/html": [
       "Waiting for W&B process to finish... <strong style=\"color:green\">(success).</strong>"
      ],
      "text/plain": [
       "<IPython.core.display.HTML object>"
      ]
     },
     "metadata": {},
     "output_type": "display_data"
    },
    {
     "data": {
      "text/html": [
       "<style>\n",
       "    table.wandb td:nth-child(1) { padding: 0 10px; text-align: left ; width: auto;} td:nth-child(2) {text-align: left ; width: 100%}\n",
       "    .wandb-row { display: flex; flex-direction: row; flex-wrap: wrap; justify-content: flex-start; width: 100% }\n",
       "    .wandb-col { display: flex; flex-direction: column; flex-basis: 100%; flex: 1; padding: 10px; }\n",
       "    </style>\n",
       "<div class=\"wandb-row\"><div class=\"wandb-col\"><h3>Run history:</h3><br/><table class=\"wandb\"><tr><td>learning_rate</td><td>█▆▅▄▃▃▂▂▂▂▁▁▁▁▁▁▁▁▁▁▁</td></tr><tr><td>train_f1_score</td><td>▁▄▅▅▆▇▇▇▇▇▇██▇▇█▇████</td></tr><tr><td>train_loss</td><td>█▅▄▃▃▂▂▂▁▂▂▁▁▁▁▁▁▁▁▁▁</td></tr><tr><td>val_f1_score</td><td>▁▆▆▆▇▇▇▇▇██▇█▇█▇▇████</td></tr><tr><td>val_loss</td><td>██▃▂▄▁▁▁▁▁▁▃▁▁▂▂▁▁▁▁▁</td></tr></table><br/></div><div class=\"wandb-col\"><h3>Run summary:</h3><br/><table class=\"wandb\"><tr><td>learning_rate</td><td>2e-05</td></tr><tr><td>train_f1_score</td><td>0.60839</td></tr><tr><td>train_loss</td><td>0.72811</td></tr><tr><td>val_f1_score</td><td>0.56442</td></tr><tr><td>val_loss</td><td>0.70082</td></tr></table><br/></div></div>"
      ],
      "text/plain": [
       "<IPython.core.display.HTML object>"
      ]
     },
     "metadata": {},
     "output_type": "display_data"
    },
    {
     "data": {
      "text/html": [
       " View run <strong style=\"color:#cdcd00\">fold_4_RGB-RE-NIR-NDVI_4classes</strong> at: <a href='https://wandb.ai/simon-ecke/wze-uav-4classes/runs/odmz48tu' target=\"_blank\">https://wandb.ai/simon-ecke/wze-uav-4classes/runs/odmz48tu</a><br/>Synced 5 W&B file(s), 0 media file(s), 0 artifact file(s) and 0 other file(s)"
      ],
      "text/plain": [
       "<IPython.core.display.HTML object>"
      ]
     },
     "metadata": {},
     "output_type": "display_data"
    },
    {
     "data": {
      "text/html": [
       "Find logs at: <code>.\\wandb\\run-20230424_023357-odmz48tu\\logs</code>"
      ],
      "text/plain": [
       "<IPython.core.display.HTML object>"
      ]
     },
     "metadata": {},
     "output_type": "display_data"
    },
    {
     "name": "stdout",
     "output_type": "stream",
     "text": [
      "Deleting variables and emptying cache\n",
      "Memory allocated: 1056030208 bytes\n",
      "--------------------------------------------------\n",
      "\n",
      "Fold : 5\n",
      "TRAIN POSITIVE RATIO: 0.47794585987261146\n",
      "VAL POSITIVE RATIO  : 0.45228081527013914\n",
      "LENGTH TRAIN GROUPS : 4728\n",
      "LENGTH VAL GROUPS   : 1176\n"
     ]
    },
    {
     "data": {
      "text/html": [
       "wandb version 0.15.0 is available!  To upgrade, please run:\n",
       " $ pip install wandb --upgrade"
      ],
      "text/plain": [
       "<IPython.core.display.HTML object>"
      ]
     },
     "metadata": {},
     "output_type": "display_data"
    },
    {
     "data": {
      "text/html": [
       "Tracking run with wandb version 0.14.2"
      ],
      "text/plain": [
       "<IPython.core.display.HTML object>"
      ]
     },
     "metadata": {},
     "output_type": "display_data"
    },
    {
     "data": {
      "text/html": [
       "Run data is saved locally in <code>C:\\Users\\lwfeckesim\\01_PyTorch\\wze-uav\\wze-uav-master\\wandb\\run-20230424_042612-g9y9yc7j</code>"
      ],
      "text/plain": [
       "<IPython.core.display.HTML object>"
      ]
     },
     "metadata": {},
     "output_type": "display_data"
    },
    {
     "data": {
      "text/html": [
       "Syncing run <strong><a href='https://wandb.ai/simon-ecke/wze-uav-4classes/runs/g9y9yc7j' target=\"_blank\">fold_5_RGB-RE-NIR-NDVI_4classes</a></strong> to <a href='https://wandb.ai/simon-ecke/wze-uav-4classes' target=\"_blank\">Weights & Biases</a> (<a href='https://wandb.me/run' target=\"_blank\">docs</a>)<br/>"
      ],
      "text/plain": [
       "<IPython.core.display.HTML object>"
      ]
     },
     "metadata": {},
     "output_type": "display_data"
    },
    {
     "data": {
      "text/html": [
       " View project at <a href='https://wandb.ai/simon-ecke/wze-uav-4classes' target=\"_blank\">https://wandb.ai/simon-ecke/wze-uav-4classes</a>"
      ],
      "text/plain": [
       "<IPython.core.display.HTML object>"
      ]
     },
     "metadata": {},
     "output_type": "display_data"
    },
    {
     "data": {
      "text/html": [
       " View run at <a href='https://wandb.ai/simon-ecke/wze-uav-4classes/runs/g9y9yc7j' target=\"_blank\">https://wandb.ai/simon-ecke/wze-uav-4classes/runs/g9y9yc7j</a>"
      ],
      "text/plain": [
       "<IPython.core.display.HTML object>"
      ]
     },
     "metadata": {},
     "output_type": "display_data"
    },
    {
     "name": "stdout",
     "output_type": "stream",
     "text": [
      "There are no same hash_id values in train, val or test datasets. The datasplit was successful\n",
      "Check shapes:\n",
      "\n",
      "Images train dataset: (12560, 250, 250, 6)\n",
      "Labels train dataset: (12560, 1)\n",
      "\n",
      "Images validation dataset: (1176, 250, 250, 6)\n",
      "Labels validation dataset: (1176, 1)\n",
      "\n",
      "--------------------------------------------------\n",
      "Check if the split was stratified: (random_state=42)\n",
      "Healthy trees in train dataset: 7364\n",
      "Moderately stressed trees in train dataset: 4597\n",
      "Severely stressed trees in train dataset: 391\n",
      "Dead trees in train dataset: 208\n",
      "Healthy trees in validation dataset: 698\n",
      "Moderately stressed trees in validation dataset: 433\n",
      "Severely stressed trees in validation dataset: 24\n",
      "Dead trees in validation dataset: 21\n",
      "Ratio health trees in validation dataset: 0.07573784722222222\n",
      "Ratio moderately stressed trees in validation dataset: 0.07567284166375393\n",
      "Ratio severely stressed trees in validation dataset: 0.941304347826087\n",
      "Ratio dead trees in validation dataset: 0.09486166007905138\n",
      "--------------------------------------------------\n",
      "\n",
      "Creating datasets for fold: 5\n",
      "\n",
      "Creating dataloaders for fold: 5\n",
      "\n",
      "Loaded pretrained weights for efficientnet-b7\n",
      "\n",
      "[INFO] Fold number: 5\n",
      "[INFO] Number of epochs: 50\n",
      "[INFO] Batch_size: 32\n",
      "[INFO] Number of bands: 6\n",
      "[INFO] Dropout rate: 0.5\n",
      "[INFO] Gamma learning rate: 0.75\n",
      "[INFO] Memory allocated: 0 bytes\n"
     ]
    },
    {
     "data": {
      "application/vnd.jupyter.widget-view+json": {
       "model_id": "f440716b0cf949c49d2887c97bc7ec6b",
       "version_major": 2,
       "version_minor": 0
      },
      "text/plain": [
       "  0%|          | 0/50 [00:00<?, ?it/s]"
      ]
     },
     "metadata": {},
     "output_type": "display_data"
    },
    {
     "name": "stdout",
     "output_type": "stream",
     "text": [
      "Epoch: 1 \n",
      "Learning rate: 0.005\n",
      "Train loss: 0.9699 | Train precision: 0.3865 | Train recall: 0.3439 | Train f1score: 0.3499 | Train acc: 0.4938 | Train kappa: 0.2017 \n",
      "Val loss: 2.0363 | Val precision: 0.0043 | Val recall: 0.2381 | Val f1score: 0.0085 | Val acc: 0.0174 | Val kappa: -0.0013 \n",
      "\n",
      "Epoch: 2 \n",
      "Learning rate: 0.00375\n",
      "Train loss: 0.8496 | Train precision: 0.5129 | Train recall: 0.4876 | Train f1score: 0.4752 | Train acc: 0.5733 | Train kappa: 0.4933 \n",
      "Val loss: 1.4581 | Val precision: 0.2884 | Val recall: 0.2563 | Val f1score: 0.0776 | Val acc: 0.0998 | Val kappa: 0.0704 \n",
      "\n",
      "Epoch: 3 \n",
      "Learning rate: 0.0028125\n",
      "Train loss: 0.8098 | Train precision: 0.5441 | Train recall: 0.5181 | Train f1score: 0.5066 | Train acc: 0.5996 | Train kappa: 0.5298 \n",
      "Val loss: 0.7248 | Val precision: 0.5520 | Val recall: 0.5307 | Val f1score: 0.4959 | Val acc: 0.6424 | Val kappa: 0.4588 \n",
      "\n",
      "Epoch: 4 \n",
      "Learning rate: 0.002109375\n",
      "Train loss: 0.7930 | Train precision: 0.5743 | Train recall: 0.5347 | Train f1score: 0.5279 | Train acc: 0.6075 | Train kappa: 0.5421 \n",
      "Val loss: 0.6861 | Val precision: 0.5391 | Val recall: 0.5702 | Val f1score: 0.5518 | Val acc: 0.6684 | Val kappa: 0.5345 \n",
      "\n",
      "Epoch: 5 \n",
      "Learning rate: 0.00158203125\n",
      "Train loss: 0.7702 | Train precision: 0.6110 | Train recall: 0.5548 | Train f1score: 0.5534 | Train acc: 0.6232 | Train kappa: 0.5624 \n",
      "Val loss: 0.7136 | Val precision: 0.4921 | Val recall: 0.5734 | Val f1score: 0.5245 | Val acc: 0.6441 | Val kappa: 0.5085 \n",
      "\n",
      "Epoch: 6 \n",
      "Learning rate: 0.0011865234375\n",
      "Train loss: 0.7674 | Train precision: 0.6274 | Train recall: 0.5696 | Train f1score: 0.5780 | Train acc: 0.6197 | Train kappa: 0.5800 \n",
      "Val loss: 0.6874 | Val precision: 0.5526 | Val recall: 0.5595 | Val f1score: 0.5556 | Val acc: 0.6476 | Val kappa: 0.5229 \n",
      "\n",
      "Epoch: 7 \n",
      "Learning rate: 0.000889892578125\n",
      "Train loss: 0.7647 | Train precision: 0.6223 | Train recall: 0.5608 | Train f1score: 0.5713 | Train acc: 0.6170 | Train kappa: 0.5709 \n",
      "Val loss: 0.6860 | Val precision: 0.5540 | Val recall: 0.5139 | Val f1score: 0.5027 | Val acc: 0.6467 | Val kappa: 0.4749 \n",
      "\n",
      "Epoch: 8 \n",
      "Learning rate: 0.00066741943359375\n",
      "Train loss: 0.7486 | Train precision: 0.6271 | Train recall: 0.5703 | Train f1score: 0.5751 | Train acc: 0.6350 | Train kappa: 0.5943 \n",
      "Val loss: 0.7076 | Val precision: 0.5150 | Val recall: 0.5610 | Val f1score: 0.5342 | Val acc: 0.6406 | Val kappa: 0.5020 \n",
      "\n",
      "Epoch: 9 \n",
      "Learning rate: 0.0005005645751953125\n",
      "Train loss: 0.7503 | Train precision: 0.6586 | Train recall: 0.5808 | Train f1score: 0.5940 | Train acc: 0.6299 | Train kappa: 0.5818 \n",
      "Val loss: 0.6726 | Val precision: 0.5488 | Val recall: 0.5496 | Val f1score: 0.5473 | Val acc: 0.6519 | Val kappa: 0.5153 \n",
      "\n",
      "Epoch: 10 \n",
      "Learning rate: 0.0003754234313964844\n",
      "Train loss: 0.7513 | Train precision: 0.6631 | Train recall: 0.5863 | Train f1score: 0.6025 | Train acc: 0.6295 | Train kappa: 0.5937 \n",
      "Val loss: 0.6737 | Val precision: 0.5510 | Val recall: 0.5354 | Val f1score: 0.5276 | Val acc: 0.6519 | Val kappa: 0.5025 \n",
      "\n",
      "Epoch: 11 \n",
      "Learning rate: 0.0002815675735473633\n",
      "Train loss: 0.7468 | Train precision: 0.6654 | Train recall: 0.5862 | Train f1score: 0.6017 | Train acc: 0.6259 | Train kappa: 0.5921 \n",
      "Val loss: 0.7225 | Val precision: 0.5546 | Val recall: 0.5753 | Val f1score: 0.5437 | Val acc: 0.6085 | Val kappa: 0.4827 \n",
      "\n",
      "Epoch: 12 \n",
      "Learning rate: 0.00021117568016052246\n",
      "Train loss: 0.7360 | Train precision: 0.6592 | Train recall: 0.5927 | Train f1score: 0.6068 | Train acc: 0.6341 | Train kappa: 0.6042 \n",
      "Val loss: 0.6859 | Val precision: 0.5581 | Val recall: 0.5659 | Val f1score: 0.5579 | Val acc: 0.6424 | Val kappa: 0.5145 \n",
      "\n",
      "Epoch: 13 \n",
      "Learning rate: 0.00015838176012039184\n",
      "Train loss: 0.7366 | Train precision: 0.6795 | Train recall: 0.5917 | Train f1score: 0.6149 | Train acc: 0.6366 | Train kappa: 0.5922 \n",
      "Val loss: 0.7206 | Val precision: 0.5814 | Val recall: 0.5727 | Val f1score: 0.5579 | Val acc: 0.6094 | Val kappa: 0.4820 \n",
      "\n",
      "Epoch: 14 \n",
      "Learning rate: 0.00011878632009029388\n",
      "Train loss: 0.7266 | Train precision: 0.6740 | Train recall: 0.5972 | Train f1score: 0.6161 | Train acc: 0.6407 | Train kappa: 0.5918 \n",
      "Val loss: 0.6734 | Val precision: 0.5675 | Val recall: 0.5634 | Val f1score: 0.5634 | Val acc: 0.6458 | Val kappa: 0.5233 \n",
      "\n",
      "Epoch: 15 \n",
      "Learning rate: 8.908974006772042e-05\n",
      "Train loss: 0.7430 | Train precision: 0.6567 | Train recall: 0.5884 | Train f1score: 0.6029 | Train acc: 0.6264 | Train kappa: 0.5927 \n",
      "Val loss: 0.6898 | Val precision: 0.5830 | Val recall: 0.5709 | Val f1score: 0.5722 | Val acc: 0.6328 | Val kappa: 0.5159 \n",
      "\n",
      "Epoch: 16 \n",
      "Learning rate: 6.681730505079031e-05\n",
      "Train loss: 0.7281 | Train precision: 0.6652 | Train recall: 0.6005 | Train f1score: 0.6166 | Train acc: 0.6390 | Train kappa: 0.6061 \n",
      "Val loss: 0.6961 | Val precision: 0.5732 | Val recall: 0.5675 | Val f1score: 0.5600 | Val acc: 0.6311 | Val kappa: 0.5058 \n",
      "\n",
      "Epoch: 17 \n",
      "Learning rate: 5.0112978788092735e-05\n",
      "Train loss: 0.7364 | Train precision: 0.6584 | Train recall: 0.5939 | Train f1score: 0.6094 | Train acc: 0.6266 | Train kappa: 0.6111 \n",
      "Val loss: 0.6911 | Val precision: 0.5931 | Val recall: 0.5764 | Val f1score: 0.5749 | Val acc: 0.6328 | Val kappa: 0.5131 \n",
      "\n",
      "Epoch: 18 \n",
      "Learning rate: 3.758473409106955e-05\n",
      "Train loss: 0.7290 | Train precision: 0.6691 | Train recall: 0.5979 | Train f1score: 0.6126 | Train acc: 0.6383 | Train kappa: 0.6126 \n",
      "Val loss: 0.6817 | Val precision: 0.5779 | Val recall: 0.5721 | Val f1score: 0.5706 | Val acc: 0.6406 | Val kappa: 0.5136 \n",
      "\n",
      "Epoch: 19 \n",
      "Learning rate: 2.8188550568302163e-05\n",
      "Train loss: 0.7261 | Train precision: 0.6654 | Train recall: 0.5957 | Train f1score: 0.6090 | Train acc: 0.6391 | Train kappa: 0.5951 \n",
      "Val loss: 0.6894 | Val precision: 0.5914 | Val recall: 0.5764 | Val f1score: 0.5759 | Val acc: 0.6363 | Val kappa: 0.5180 \n",
      "\n",
      "Epoch: 20 \n",
      "Learning rate: 2.114141292622662e-05\n",
      "Train loss: 0.7191 | Train precision: 0.6817 | Train recall: 0.6015 | Train f1score: 0.6206 | Train acc: 0.6346 | Train kappa: 0.6135 \n",
      "Val loss: 0.6834 | Val precision: 0.5793 | Val recall: 0.5752 | Val f1score: 0.5710 | Val acc: 0.6389 | Val kappa: 0.5138 \n",
      "\n",
      "Epoch: 21 \n",
      "Learning rate: 1.5856059694669965e-05\n",
      "Train loss: 0.7270 | Train precision: 0.6779 | Train recall: 0.6070 | Train f1score: 0.6239 | Train acc: 0.6375 | Train kappa: 0.6140 \n",
      "Val loss: 0.6793 | Val precision: 0.5762 | Val recall: 0.5733 | Val f1score: 0.5708 | Val acc: 0.6415 | Val kappa: 0.5172 \n",
      "\n",
      "Epoch: 22 \n",
      "Learning rate: 1.1892044771002475e-05\n",
      "Train loss: 0.7273 | Train precision: 0.6741 | Train recall: 0.6064 | Train f1score: 0.6243 | Train acc: 0.6415 | Train kappa: 0.6128 \n",
      "Val loss: 0.6838 | Val precision: 0.5755 | Val recall: 0.5726 | Val f1score: 0.5690 | Val acc: 0.6363 | Val kappa: 0.5113 \n",
      "\n",
      "Epoch: 23 \n",
      "Learning rate: 8.919033578251857e-06\n",
      "Train loss: 0.7162 | Train precision: 0.6765 | Train recall: 0.6066 | Train f1score: 0.6236 | Train acc: 0.6453 | Train kappa: 0.6102 \n",
      "Val loss: 0.6849 | Val precision: 0.5586 | Val recall: 0.5653 | Val f1score: 0.5570 | Val acc: 0.6389 | Val kappa: 0.5106 \n",
      "\n",
      "Epoch: 24 \n",
      "Learning rate: 6.689275183688892e-06\n",
      "Train loss: 0.7261 | Train precision: 0.6817 | Train recall: 0.6010 | Train f1score: 0.6191 | Train acc: 0.6429 | Train kappa: 0.6081 \n",
      "Val loss: 0.6865 | Val precision: 0.5765 | Val recall: 0.5734 | Val f1score: 0.5684 | Val acc: 0.6337 | Val kappa: 0.5087 \n",
      "\n",
      "Epoch: 25 \n",
      "Learning rate: 5.016956387766669e-06\n",
      "Train loss: 0.7200 | Train precision: 0.6826 | Train recall: 0.6103 | Train f1score: 0.6262 | Train acc: 0.6415 | Train kappa: 0.6057 \n",
      "Val loss: 0.6862 | Val precision: 0.5804 | Val recall: 0.5745 | Val f1score: 0.5699 | Val acc: 0.6354 | Val kappa: 0.5086 \n",
      "\n",
      "Epoch: 26 \n",
      "Learning rate: 3.762717290825002e-06\n",
      "Train loss: 0.7259 | Train precision: 0.6612 | Train recall: 0.6016 | Train f1score: 0.6118 | Train acc: 0.6383 | Train kappa: 0.6113 \n",
      "Val loss: 0.6873 | Val precision: 0.5573 | Val recall: 0.5637 | Val f1score: 0.5547 | Val acc: 0.6337 | Val kappa: 0.5043 \n",
      "\n",
      "Epoch: 27 \n",
      "Learning rate: 2.8220379681187514e-06\n",
      "Train loss: 0.7204 | Train precision: 0.6746 | Train recall: 0.6018 | Train f1score: 0.6179 | Train acc: 0.6441 | Train kappa: 0.5982 \n",
      "Val loss: 0.6837 | Val precision: 0.5572 | Val recall: 0.5638 | Val f1score: 0.5553 | Val acc: 0.6354 | Val kappa: 0.5062 \n",
      "\n"
     ]
    },
    {
     "name": "stdout",
     "output_type": "stream",
     "text": [
      "Epoch: 28 \n",
      "Learning rate: 2.1165284760890633e-06\n",
      "Train loss: 0.7275 | Train precision: 0.6746 | Train recall: 0.5936 | Train f1score: 0.6143 | Train acc: 0.6374 | Train kappa: 0.5969 \n",
      "Val loss: 0.6826 | Val precision: 0.5808 | Val recall: 0.5749 | Val f1score: 0.5704 | Val acc: 0.6363 | Val kappa: 0.5097 \n",
      "\n",
      "Epoch: 29 \n",
      "Learning rate: 1.5873963570667977e-06\n",
      "Train loss: 0.7226 | Train precision: 0.6859 | Train recall: 0.5974 | Train f1score: 0.6198 | Train acc: 0.6383 | Train kappa: 0.6119 \n",
      "Val loss: 0.6884 | Val precision: 0.5829 | Val recall: 0.5768 | Val f1score: 0.5709 | Val acc: 0.6363 | Val kappa: 0.5103 \n",
      "\n",
      "Early stopping after epoch 29\n"
     ]
    },
    {
     "data": {
      "text/html": [
       "Waiting for W&B process to finish... <strong style=\"color:green\">(success).</strong>"
      ],
      "text/plain": [
       "<IPython.core.display.HTML object>"
      ]
     },
     "metadata": {},
     "output_type": "display_data"
    },
    {
     "data": {
      "application/vnd.jupyter.widget-view+json": {
       "model_id": "d5fe5ed2a17a4e3da4b9cf7b0bd78ce6",
       "version_major": 2,
       "version_minor": 0
      },
      "text/plain": [
       "VBox(children=(Label(value='0.001 MB of 0.001 MB uploaded (0.000 MB deduped)\\r'), FloatProgress(value=1.0, max…"
      ]
     },
     "metadata": {},
     "output_type": "display_data"
    },
    {
     "data": {
      "text/html": [
       "<style>\n",
       "    table.wandb td:nth-child(1) { padding: 0 10px; text-align: left ; width: auto;} td:nth-child(2) {text-align: left ; width: 100%}\n",
       "    .wandb-row { display: flex; flex-direction: row; flex-wrap: wrap; justify-content: flex-start; width: 100% }\n",
       "    .wandb-col { display: flex; flex-direction: column; flex-basis: 100%; flex: 1; padding: 10px; }\n",
       "    </style>\n",
       "<div class=\"wandb-row\"><div class=\"wandb-col\"><h3>Run history:</h3><br/><table class=\"wandb\"><tr><td>learning_rate</td><td>█▆▅▄▃▃▂▂▂▂▁▁▁▁▁▁▁▁▁▁▁▁▁▁▁▁▁▁▁</td></tr><tr><td>train_f1_score</td><td>▁▄▅▆▆▇▇▇▇▇▇███▇██████████████</td></tr><tr><td>train_loss</td><td>█▅▄▃▂▂▂▂▂▂▂▂▂▁▂▁▂▁▁▁▁▁▁▁▁▁▁▁▁</td></tr><tr><td>val_f1_score</td><td>▁▂▇█▇█▇▇█▇███████████████████</td></tr><tr><td>val_loss</td><td>█▅▁▁▁▁▁▁▁▁▁▁▁▁▁▁▁▁▁▁▁▁▁▁▁▁▁▁▁</td></tr></table><br/></div><div class=\"wandb-col\"><h3>Run summary:</h3><br/><table class=\"wandb\"><tr><td>learning_rate</td><td>0.0</td></tr><tr><td>train_f1_score</td><td>0.61985</td></tr><tr><td>train_loss</td><td>0.72262</td></tr><tr><td>val_f1_score</td><td>0.57094</td></tr><tr><td>val_loss</td><td>0.68841</td></tr></table><br/></div></div>"
      ],
      "text/plain": [
       "<IPython.core.display.HTML object>"
      ]
     },
     "metadata": {},
     "output_type": "display_data"
    },
    {
     "data": {
      "text/html": [
       " View run <strong style=\"color:#cdcd00\">fold_5_RGB-RE-NIR-NDVI_4classes</strong> at: <a href='https://wandb.ai/simon-ecke/wze-uav-4classes/runs/g9y9yc7j' target=\"_blank\">https://wandb.ai/simon-ecke/wze-uav-4classes/runs/g9y9yc7j</a><br/>Synced 5 W&B file(s), 0 media file(s), 0 artifact file(s) and 0 other file(s)"
      ],
      "text/plain": [
       "<IPython.core.display.HTML object>"
      ]
     },
     "metadata": {},
     "output_type": "display_data"
    },
    {
     "data": {
      "text/html": [
       "Find logs at: <code>.\\wandb\\run-20230424_042612-g9y9yc7j\\logs</code>"
      ],
      "text/plain": [
       "<IPython.core.display.HTML object>"
      ]
     },
     "metadata": {},
     "output_type": "display_data"
    },
    {
     "name": "stdout",
     "output_type": "stream",
     "text": [
      "Deleting variables and emptying cache\n",
      "Memory allocated: 1053167104 bytes\n",
      "--------------------------------------------------\n",
      "\n",
      "CPU times: total: 5h 49min 22s\n",
      "Wall time: 11h 51min 38s\n"
     ]
    }
   ],
   "source": [
    "%%time\n",
    "\n",
    "# Set the random seeds\n",
    "set_seeds(42)\n",
    "\n",
    "# Define the number of folds\n",
    "num_folds = 5\n",
    "\n",
    "# group the hashIDs to get the unique values of hashIDs remaining in the subset  \n",
    "groups = sub_hash_id[:, 0] \n",
    "print(\"ORIGINAL POSITIVE RATIO:\", sub_label_set.mean())\n",
    "# create a StratifiedGroupKFold instance\n",
    "kf = StratifiedGroupKFold(n_splits=num_folds, shuffle=True, random_state=42)\n",
    "\n",
    "# loop through the folds\n",
    "for fold, (train_ids, val_ids) in enumerate(kf.split(sub_image_set, sub_label_set, groups)):\n",
    "    print(\"Fold :\", fold+1)\n",
    "    print(\"TRAIN POSITIVE RATIO:\", sub_label_set[train_ids].mean())\n",
    "    print(\"VAL POSITIVE RATIO  :\", sub_label_set[val_ids].mean())\n",
    "    print(\"LENGTH TRAIN GROUPS :\", len(set(groups[train_ids])))\n",
    "    print(\"LENGTH VAL GROUPS   :\", len(set(groups[val_ids])))\n",
    "    \n",
    "    train_ids = sub_hash_id[:, 0][train_ids]\n",
    "    val_ids = np.unique(sub_hash_id[:, 0][val_ids])\n",
    "\n",
    "    torch.cuda.empty_cache()\n",
    "    \n",
    "    # Initialize a new wandb run for this fold\n",
    "    wandb.init(project='wze-uav-4classes', name=f\"fold_{fold + 1}_{extra}\")\n",
    "    \n",
    "    # 1. Split data into train and validation set\n",
    "    # Get the training and testing data for this fold\n",
    "    # Use np.isin() to create boolean arrays indicating which indices belong to train or test sets\n",
    "    train_indices = np.isin(sub_hash_id[:,0], train_ids)\n",
    "    \n",
    "    val_indices = np.zeros_like(train_indices)  # initialize to all False\n",
    "    for hash_id_val in val_ids:\n",
    "        # select one image ID randomly from either 2020 or 2021 or 2022 for each unique hash ID in the test set\n",
    "        temp = np.unique(sub_hash_id[(sub_hash_id[:, 0] == hash_id_val), 1]) # check how many years are available per hashID\n",
    "        if len(temp) == 1:\n",
    "            year = temp[0]\n",
    "        elif len(temp) == 2:\n",
    "            year = np.random.choice(temp)\n",
    "        else:\n",
    "            year = np.random.choice(temp)\n",
    "        \n",
    "        # select image ID using the conditions\n",
    "        image_ids = sub_hash_id[(sub_hash_id[:,0] == hash_id_val) & (sub_hash_id[:,1] == year), 0]\n",
    "    \n",
    "        # mark the index corresponding to the selected image ID and hash ID as True in the test indices array\n",
    "        val_indices[(sub_hash_id[:,0] == hash_id_val) & (sub_hash_id[:,1] == year) & (np.isin(sub_hash_id[:,0], image_ids))] = True \n",
    "    \n",
    "    # Reshape boolean arrays to match shape of image_set and label_set\n",
    "    train_indices = train_indices.reshape(-1, 1)\n",
    "    val_indices = val_indices.reshape(-1, 1)\n",
    "    \n",
    "    # Select images and labels for train and validation sets\n",
    "    train_image_set = sub_image_set[train_indices[:, 0]]\n",
    "    train_label_set = sub_label_set[train_indices[:, 0]]\n",
    "    train_hash_id = sub_hash_id[train_indices[:, 0]][:,0]\n",
    "    train_species_set = sub_species_set[train_indices[:, 0]]\n",
    "    val_image_set = sub_image_set[val_indices[:, 0]]\n",
    "    val_label_set = sub_label_set[val_indices[:, 0]]\n",
    "    val_hash_id = sub_hash_id[val_indices[:, 0]][:,0]\n",
    "    val_species_set = sub_species_set[val_indices[:, 0]]\n",
    "    # reshape \n",
    "    train_label_set = train_label_set.reshape(-1, 1)\n",
    "    val_label_set = val_label_set.reshape(-1, 1)\n",
    "    train_species_set = train_species_set.reshape(-1, 1)\n",
    "    val_species_set = val_species_set.reshape(-1, 1)\n",
    "    \n",
    "    # check if there are any group overlaps between the data splits\n",
    "    hash_set = set(train_hash_id)\n",
    "    val_hash_set = set(val_hash_id)\n",
    "    test_hash_set = set(test_hash_id[:, 0].flatten())\n",
    "    intersection = hash_set.intersection(val_hash_set)\n",
    "    intersection2 = test_hash_set.intersection(val_hash_set)\n",
    "    intersection3 = hash_set.intersection(test_hash_set)\n",
    "    if intersection:\n",
    "        print(f\"Hash_id values in both train and val sets: {len(intersection)}\")\n",
    "        print(f\"Hash_id values in both test and val sets: {len(intersection2)}\")\n",
    "        print(f\"Hash_id values in both train and test sets: {len(intersection3)}\")\n",
    "    else:\n",
    "        print(\"There are no same hash_id values in train, val or test datasets. The datasplit was successful\")\n",
    "    \n",
    "         \n",
    "    print(\"Check shapes:\\n\")\n",
    "    print(f\"Images train dataset: {train_image_set.shape}\")\n",
    "    print(f\"Labels train dataset: {train_label_set.shape}\\n\")\n",
    "    \n",
    "    print(f\"Images validation dataset: {val_image_set.shape}\")\n",
    "    print(f\"Labels validation dataset: {val_label_set.shape}\\n\")\n",
    "    print('-'*50)\n",
    "    print (f\"Check if the split was stratified: (random_state=42)\")\n",
    "    print(f\"Healthy trees in train dataset: {np.count_nonzero(train_label_set == 0)}\")\n",
    "    print(f\"Moderately stressed trees in train dataset: {np.count_nonzero(train_label_set == 1)}\")\n",
    "    print(f\"Severely stressed trees in train dataset: {np.count_nonzero(train_label_set == 2)}\")\n",
    "    print(f\"Dead trees in train dataset: {np.count_nonzero(train_label_set == 3)}\")\n",
    "    print(f\"Healthy trees in validation dataset: {np.count_nonzero(val_label_set == 0)}\")\n",
    "    print(f\"Moderately stressed trees in validation dataset: {np.count_nonzero(val_label_set == 1)}\")\n",
    "    print(f\"Severely stressed trees in validation dataset: {np.count_nonzero(val_label_set == 2)}\")\n",
    "    print(f\"Dead trees in validation dataset: {np.count_nonzero(val_label_set == 3)}\")\n",
    "    print(f\"Ratio health trees in validation dataset: {np.count_nonzero(val_label_set == 0)/np.count_nonzero(sub_label_set == 0)}\")\n",
    "    print(f\"Ratio moderately stressed trees in validation dataset: {np.count_nonzero(val_label_set == 1)/np.count_nonzero(sub_label_set == 1)}\")\n",
    "    print(f\"Ratio severely stressed trees in validation dataset: {np.count_nonzero(val_label_set == 1)/np.count_nonzero(sub_label_set == 2)}\")\n",
    "    print(f\"Ratio dead trees in validation dataset: {np.count_nonzero(val_label_set == 2)/np.count_nonzero(sub_label_set == 3)}\")\n",
    "    print(\"-\"*50)\n",
    "   \n",
    "    # 2. Create train and validation dataset. (choose custom dataset loader with 3 - 5 classes)\n",
    "    print(f\"\\nCreating datasets for fold: {fold + 1}\\n\")\n",
    "    train_dataset = data_loader.CustomDataset(data=train_image_set, labels=train_label_set, class_names=class_names, species = train_species_set,\n",
    "                                                         transform=transform_train)\n",
    "    \n",
    "    val_dataset = data_loader.CustomDataset(data=val_image_set, labels=val_label_set, class_names=class_names,\n",
    "                                                       species = val_species_set, transform=transform)\n",
    "   \n",
    "    # 3. Create train and validation dataloader\n",
    "    # create sampler for oversampling of the minority classes\n",
    "    sampler = data_loader.data_sampler(dataset=train_dataset, class_names=class_names)\n",
    "    print(f\"Creating dataloaders for fold: {fold +1}\\n\")\n",
    "    train_dataloader = DataLoader(train_dataset, batch_size=batch_size, persistent_workers=True, pin_memory=True, num_workers=NUM_WORKERS, generator=g,\n",
    "                              sampler=sampler, shuffle=False, drop_last=True) # shuffle false because of the sampler\n",
    "\n",
    "    val_dataloader = DataLoader(val_dataset, batch_size=batch_size, persistent_workers=True, pin_memory=True, num_workers=NUM_WORKERS, shuffle=False,\n",
    "                             drop_last=True)\n",
    "    \n",
    "    model = model_effnet.EfficientNet.from_pretrained('efficientnet-b7', in_channels=n_bands, num_classes=num_classes, dropout_rate=dropout_rate)\n",
    "    #model = models.create_effnetb7(output_shape=num_classes, unfreeze=True, dropout_rate=dropout_rate, device=device)\n",
    "   \n",
    "    loss_fn = nn.CrossEntropyLoss()\n",
    "    optimizer = torch.optim.Adam(params=model.parameters(), lr=lr)\n",
    "    lr_scheduler = CustomExponentialLR(optimizer, gamma=gamma, min_lr=min_lr)\n",
    "\n",
    "    fold += 1\n",
    "    print(f\"\\n[INFO] Fold number: {fold}\")\n",
    "    print(f\"[INFO] Number of epochs: {epochs}\")\n",
    "    print(f\"[INFO] Batch_size: {batch_size}\")\n",
    "    print(f\"[INFO] Number of bands: {n_bands}\")\n",
    "    print(f\"[INFO] Dropout rate: {dropout_rate}\")\n",
    "    print(f\"[INFO] Gamma learning rate: {gamma}\")\n",
    "    print(f\"[INFO] Memory allocated: {torch.cuda.memory_allocated()} bytes\")\n",
    "    # 4. Train model with k fold dataloaders and track experiments\n",
    "    \n",
    "    if fold == 1:\n",
    "        fold1_results = train(model=model, model_name=model_name, n_bands=n_bands, batch_size=batch_size,train_dataloader=train_dataloader, val_dataloader=val_dataloader, \n",
    "                        optimizer=optimizer, loss_fn=loss_fn, lr_scheduler=lr_scheduler, num_classes=num_classes, epochs=epochs, experiment_num=fold, device=device,\n",
    "                        writer=None, early_stop_patience = patience)\n",
    "       \n",
    "    elif fold == 2:\n",
    "        fold2_results = train(model=model, model_name=model_name, n_bands=n_bands, batch_size=batch_size,train_dataloader=train_dataloader, val_dataloader=val_dataloader, \n",
    "                        optimizer=optimizer, loss_fn=loss_fn, lr_scheduler=lr_scheduler, num_classes=num_classes, epochs=epochs, experiment_num=fold, device=device,\n",
    "                        writer=None, early_stop_patience = patience)\n",
    "    elif fold == 3:\n",
    "        fold3_results = train(model=model, model_name=model_name, n_bands=n_bands, batch_size=batch_size,train_dataloader=train_dataloader, val_dataloader=val_dataloader, \n",
    "                        optimizer=optimizer, loss_fn=loss_fn, lr_scheduler=lr_scheduler, num_classes=num_classes, epochs=epochs, experiment_num=fold, device=device,\n",
    "                        writer=None, early_stop_patience = patience)\n",
    "    elif fold == 4:\n",
    "        fold4_results = train(model=model, model_name=model_name, n_bands=n_bands, batch_size=batch_size,train_dataloader=train_dataloader, val_dataloader=val_dataloader, \n",
    "                        optimizer=optimizer, loss_fn=loss_fn, lr_scheduler=lr_scheduler, num_classes=num_classes, epochs=epochs, experiment_num=fold, device=device,\n",
    "                        writer=None, early_stop_patience = patience)\n",
    "    else:\n",
    "        fold5_results = train(model=model, model_name=model_name, n_bands=n_bands, batch_size=batch_size,train_dataloader=train_dataloader, val_dataloader=val_dataloader, \n",
    "                        optimizer=optimizer, loss_fn=loss_fn, lr_scheduler=lr_scheduler, num_classes=num_classes, epochs=epochs, experiment_num=fold, device=device,\n",
    "                        writer=None, early_stop_patience = patience)\n",
    "    \n",
    "    del train_indices, val_indices, train_image_set, train_label_set, train_hash_id, train_species_set, val_image_set, val_label_set, val_hash_id, val_species_set,\n",
    "    train_dataset, val_dataset, sampler, train_dataloader, val_dataloader, model, loss_fn, optimizer, lr_scheduler\n",
    "    \n",
    "    #finish the wandb run\n",
    "    wandb.finish()\n",
    "    print(\"Deleting variables and emptying cache\")\n",
    "    gc.collect()\n",
    "    torch.cuda.empty_cache()\n",
    "    print(f\"Memory allocated: {torch.cuda.memory_allocated()} bytes\")\n",
    "    print(\"-\"*50 + \"\\n\")"
   ]
  },
  {
   "cell_type": "markdown",
   "id": "d7402d31",
   "metadata": {},
   "source": [
    "#### Create test dataset and test dataloader "
   ]
  },
  {
   "cell_type": "code",
   "execution_count": null,
   "id": "c0c36ebb",
   "metadata": {},
   "outputs": [],
   "source": [
    "# create test dataset\n",
    "test_dataset = data_loader.CustomTestDataset(\n",
    "    data = test_image_set,\n",
    "    labels = test_label_set,\n",
    "    class_names=class_names, \n",
    "    species = test_species_set,\n",
    "    kkl = None,\n",
    "    transform=transform\n",
    ")\n",
    "\n"
   ]
  },
  {
   "cell_type": "code",
   "execution_count": null,
   "id": "5745d555",
   "metadata": {},
   "outputs": [],
   "source": [
    "# create test dataloader\n",
    "test_dataloader = DataLoader(test_dataset,\n",
    "                             batch_size=batch_size,\n",
    "                             persistent_workers=True,\n",
    "                             pin_memory=True,\n",
    "                             num_workers=NUM_WORKERS,\n",
    "                             shuffle=False,\n",
    "                             drop_last=True)"
   ]
  },
  {
   "cell_type": "markdown",
   "id": "22cdaac7",
   "metadata": {},
   "source": [
    "#### Perform ensembling of the five best models"
   ]
  },
  {
   "cell_type": "code",
   "execution_count": null,
   "id": "67db5af2",
   "metadata": {},
   "outputs": [],
   "source": [
    "# Setup the best model filepaths\n",
    "best_model1_path = r\"C:\\Users\\lwfeckesim\\01_PyTorch\\wze-uav\\wze-uav-master\\effnet_b0\\01_18_epochs.pth\"\n",
    "best_model2_path = r\"C:\\Users\\lwfeckesim\\01_PyTorch\\wze-uav\\wze-uav-master\\effnet_b0\\01_18_epochs.pth\"\n",
    "best_model3_path = r\"C:\\Users\\lwfeckesim\\01_PyTorch\\wze-uav\\wze-uav-master\\effnet_b0\\01_18_epochs.pth\"\n",
    "best_model4_path = r\"C:\\Users\\lwfeckesim\\01_PyTorch\\wze-uav\\wze-uav-master\\effnet_b0\\01_18_epochs.pth\"\n",
    "best_model5_path = r\"C:\\Users\\lwfeckesim\\01_PyTorch\\wze-uav\\wze-uav-master\\effnet_b0\\01_18_epochs.pth\"\n",
    "\n",
    "# Instantiate a new instance of EffNetB7 (to load the saved state_dict() to)\n",
    "model1 = models.create_effnetb7(output_shape=num_classes, unfreeze=unfreeze, dropout_rate=dropout_rate, device=device)\n",
    "model2 = models.create_effnetb7(output_shape=num_classes, unfreeze=unfreeze, dropout_rate=dropout_rate, device=device)\n",
    "model3 = models.create_effnetb7(output_shape=num_classes, unfreeze=unfreeze, dropout_rate=dropout_rate, device=device)\n",
    "model4 = models.create_effnetb7(output_shape=num_classes, unfreeze=unfreeze, dropout_rate=dropout_rate, device=device)\n",
    "model5 = models.create_effnetb7(output_shape=num_classes, unfreeze=unfreeze, dropout_rate=dropout_rate, device=device)\n",
    "# for custom models with more than three bands as input\n",
    "#model1 = model_effnet.EfficientNet.from_pretrained('efficientnet-b7', in_channels=n_bands, num_classes=num_classes, dropout_rate=dropout_rate)\n",
    "#model2 = model_effnet.EfficientNet.from_pretrained('efficientnet-b7', in_channels=n_bands, num_classes=num_classes, dropout_rate=dropout_rate)\n",
    "#model3 = model_effnet.EfficientNet.from_pretrained('efficientnet-b7', in_channels=n_bands, num_classes=num_classes, dropout_rate=dropout_rate)\n",
    "#model4 = model_effnet.EfficientNet.from_pretrained('efficientnet-b7', in_channels=n_bands, num_classes=num_classes, dropout_rate=dropout_rate)\n",
    "#model5 = model_effnet.EfficientNet.from_pretrained('efficientnet-b7', in_channels=n_bands, num_classes=num_classes, dropout_rate=dropout_rate)\n",
    "\n",
    "# Load the saved best model state_dict()\n",
    "model1.load_state_dict(torch.load(best_model1_path))\n",
    "model2.load_state_dict(torch.load(best_model2_path))\n",
    "model3.load_state_dict(torch.load(best_model3_path))\n",
    "model4.load_state_dict(torch.load(best_model4_path))\n",
    "model5.load_state_dict(torch.load(best_model5_path))\n",
    "\n",
    "model1.eval()\n",
    "model2.eval()\n",
    "model3.eval()\n",
    "model4.eval()\n",
    "model5.eval()\n",
    "\n",
    "# Initialize the lists to store the predictions\n",
    "all_preds_model1 = []\n",
    "all_preds_model2 = []\n",
    "all_preds_model3 = []\n",
    "all_preds_model4 = []\n",
    "all_preds_model5 = []\n",
    "\n",
    "# Loop through the test dataset and generate predictions for each model\n",
    "with torch.no_grad():\n",
    "    for batch in test_dataloader:\n",
    "        inputs, labels = batch\n",
    "        inputs, labels = inputs.to(device), labels.to(device)\n",
    "        \n",
    "        # Generate predictions for each model\n",
    "        preds_model1 = model1(inputs)\n",
    "        preds_model2 = model2(inputs)\n",
    "        preds_model3 = model3(inputs)\n",
    "        preds_model4 = model4(inputs)\n",
    "        preds_model5 = model5(inputs)\n",
    "\n",
    "        # Append the predictions to the corresponding list\n",
    "        all_preds_model1.append(preds_model1.cpu().numpy())\n",
    "        all_preds_model2.append(preds_model2.cpu().numpy())\n",
    "        all_preds_model3.append(preds_model3.cpu().numpy())\n",
    "        all_preds_model4.append(preds_model4.cpu().numpy())\n",
    "        all_preds_model5.append(preds_model5.cpu().numpy())\n",
    "\n",
    "# Concatenate the predictions from all the models\n",
    "all_preds_model1 = np.concatenate(all_preds_model1)\n",
    "all_preds_model2 = np.concatenate(all_preds_model2)\n",
    "all_preds_model3 = np.concatenate(all_preds_model3)\n",
    "all_preds_model4 = np.concatenate(all_preds_model4)\n",
    "all_preds_model5 = np.concatenate(all_preds_model5)\n",
    "\n",
    "# Calculate the ensemble predictions\n",
    "ensemble_preds = np.mean([all_preds_model1, all_preds_model2, all_preds_model3, all_preds_model4, all_preds_model5], axis=0)\n",
    "ensemble_labels = np.argmax(ensemble_preds, axis=1)\n",
    "\n",
    "# Calculate the evaluation metrics for the ensemble model\n",
    "from sklearn.metrics import classification_report, confusion_matrix\n",
    "\n",
    "print(classification_report(test_labels, ensemble_labels))\n",
    "print(confusion_matrix(test_labels, ensemble_labels))\n",
    "\n",
    "\n",
    "\n",
    "\n"
   ]
  },
  {
   "cell_type": "code",
   "execution_count": null,
   "id": "6dfbc663",
   "metadata": {},
   "outputs": [],
   "source": [
    "def make_predictions(model: torch.nn.Module, \n",
    "                     test_dataloader: torch.utils.data.DataLoader,\n",
    "                     device: torch.device):\n",
    "    # 1. Make predictions with trained model\n",
    "    y_preds = []\n",
    "    y_labels = []\n",
    "    species_list = []\n",
    "    test_loss, test_precision, test_recall, test_f1_score, test_acc = 0, 0, 0, 0, 0\n",
    "    count = 0\n",
    "    model.eval()\n",
    "    with torch.inference_mode():\n",
    "        for X, y, species in tqdm(test_dataloader, desc=\"Making predictions\"):\n",
    "            # Send data and targets to target device\n",
    "            X, y = X.to(device), y.to(device)\n",
    "            # Do the forward pass\n",
    "            y_logit = model(X)\n",
    "            # Turn predictions from logits -> prediction probabilities -> predictions labels\n",
    "            y_pred = torch.softmax(y_logit, dim=1).argmax(dim=1)\n",
    "            # Put predictions on CPU for evaluation\n",
    "            y_preds.append(y_pred.cpu())\n",
    "            y_labels.append(y.cpu())\n",
    "            species_list.append(species)\n",
    "            \n",
    "            #other metrics\n",
    "            test_acc += ((y_pred == y).sum().item()/len(y_pred))\n",
    "            y_pred_class = y_pred.detach().cpu().numpy() \n",
    "            y_class = y.detach().cpu().numpy()\n",
    "            labels = np.array([0])\n",
    "            test_precision += precision_score(y_class, y_pred_class, average='macro', zero_division=0, labels=[0,1,2])\n",
    "            test_recall += recall_score(y_class, y_pred_class, average='macro', zero_division=0, labels=[0,1,2])\n",
    "            #test_f1_score += f1_score(y_class, y_pred_class, average='macro', zero_division=1, labels=labels)\n",
    "            \n",
    "            #if count >= 1:\n",
    "            #    y_set = torch.cat((y_set, y))\n",
    "            #    count = count + 1\n",
    "            #else:\n",
    "            #    y_set = y\n",
    "            #    count = count + 1\n",
    "            \n",
    "    test_loss = test_loss / len(test_dataloader)\n",
    "    test_precision = test_precision / len(test_dataloader)\n",
    "    test_recall = test_recall / len(test_dataloader)\n",
    "    test_f1_score = test_f1_score / len(test_dataloader)\n",
    "    #test_kappa = test_kappa / len(dataloader)\n",
    "    test_acc = test_acc / len(test_dataloader)\n",
    "    # Concatenate list of predictions into a tensor\n",
    "    y_pred_tensor = torch.cat(y_preds)\n",
    "    y_labels_tensor = torch.cat(y_labels)\n",
    "    test_f1_score = f1_score(y_labels_tensor.detach().cpu().numpy(), y_pred_tensor.cpu().numpy(), average='macro', zero_division=1, labels=[0,1,2])\n",
    "    \n",
    "    # Print classification report\n",
    "    y_true = y_labels_tensor.detach().cpu().numpy()\n",
    "    report = classification_report(y_true, y_pred_tensor.cpu().numpy(), target_names=class_names)\n",
    "    print(report)\n",
    "    \n",
    "    return y_pred_tensor, y_labels_tensor, test_loss, test_recall, test_precision, test_f1_score, test_acc, y_logit, y_pred, y, y_preds"
   ]
  },
  {
   "cell_type": "code",
   "execution_count": null,
   "id": "aab9e321",
   "metadata": {},
   "outputs": [],
   "source": [
    "# 2. Setup confusion matrix instance and compare predictions to targets\n",
    "#from wze_uav.analysis import *\n",
    "y_pred_tensor, y_labels_tensor, test_loss, test_recall, test_precision, test_f1_score, test_acc, y_logit, y_pred, y, y_preds = make_predictions(model=best_model,\n",
    "                                 test_dataloader=test_dataloader, \n",
    "                                 device=device)\n",
    "\n",
    "y_labels_tensor = y_labels_tensor.detach().cpu().numpy()\n",
    "y_pred_tensor = y_pred_tensor.detach().cpu().numpy()\n",
    "\n",
    "#confmat = ConfusionMatrix(num_classes=num_classes, task='multiclass')\n",
    "#confmat_tensor = confmat(preds=y_pred_tensor,\n",
    "#                         target=test_labels)\n",
    "labels = np.array([0,1,2])\n",
    "confmat = confusion_matrix(y_labels_tensor, y_pred_tensor, labels=labels)\n",
    "\n",
    "# 3. Plot the confusion matrix\n",
    "fig, ax = plot_confusion_matrix(\n",
    "    conf_mat=confmat, # matplotlib likes working with NumPy \n",
    "    class_names=class_names, # turn the row and column labels into class names\n",
    "    figsize=(10, 7)\n",
    ");\n",
    "\n",
    "print(f\"Test loss: {test_loss}\")\n",
    "print(f\"Test precision: {test_precision}\")\n",
    "print(f\"Test recall: {test_recall}\")\n",
    "print(f\"Test F1score: {test_f1_score}\")\n",
    "#print(f\"Test Kappa: {test_kappa}\")\n",
    "print(f\"Test Accuracy: {test_acc}\")\n",
    "print(f\"Test Logits: {y_logit}\")\n",
    "print(f\"Test Predictions: {y_pred}\")\n",
    "print(f\"Test Labels: {y}\")"
   ]
  },
  {
   "cell_type": "code",
   "execution_count": null,
   "id": "8d4173b3",
   "metadata": {},
   "outputs": [],
   "source": [
    "len(y_preds)"
   ]
  },
  {
   "cell_type": "code",
   "execution_count": null,
   "id": "7588116f",
   "metadata": {},
   "outputs": [],
   "source": [
    "y_set.cpu()"
   ]
  },
  {
   "cell_type": "code",
   "execution_count": null,
   "id": "1c195b3e",
   "metadata": {},
   "outputs": [],
   "source": [
    "test_dataset.labels"
   ]
  },
  {
   "cell_type": "code",
   "execution_count": null,
   "id": "975ec08c",
   "metadata": {},
   "outputs": [],
   "source": []
  },
  {
   "cell_type": "code",
   "execution_count": null,
   "id": "6da05604",
   "metadata": {},
   "outputs": [],
   "source": [
    "y_preds = []\n",
    "y_labels = []\n",
    "labels = np.array([0,1,2])\n",
    "test_loss, test_precision, test_recall, test_f1_score, test_acc = 0, 0, 0, 0, 0\n",
    "count = 0\n",
    "model.eval()\n",
    "with torch.inference_mode():\n",
    "    for X, y in tqdm(test_dataloader, desc=\"Making predictions\"):\n",
    "        # Send data and targets to target device\n",
    "        X, y = X.to(device), y.to(device)\n",
    "        # Do the forward pass\n",
    "        y_logit = model(X)\n",
    "        # Turn predictions from logits -> prediction probabilities -> predictions labels\n",
    "        y_pred = torch.softmax(y_logit, dim=1).argmax(dim=1)\n",
    "        # Put predictions on CPU for evaluation\n",
    "        y_preds.append(y_pred.cpu())\n",
    "        y_labels.append(y.cpu())\n",
    "        \n",
    "        #other metrics\n",
    "        test_acc += ((y_pred == y).sum().item()/len(y_pred))\n",
    "        y_pred_class = y_pred.detach().cpu().numpy() \n",
    "        y_class = y.detach().cpu().numpy()\n",
    "        test_precision += precision_score(y_class, y_pred_class, average='macro', zero_division=1, labels=labels)\n",
    "        test_recall += recall_score(y_class, y_pred_class, average='macro', zero_division=1, labels=labels)\n",
    "        #test_f1_score += f1_score(y_class, y_pred_class, average='macro', zero_division=1, labels=labels)\n",
    "        \n",
    "        #if count >= 1:\n",
    "        #    y_set = torch.cat((y_set, y))\n",
    "        #    count = count + 1\n",
    "        #else:\n",
    "        #    y_set = y\n",
    "        #    count = count + 1\n",
    "        \n",
    "test_loss = test_loss / len(test_dataloader)\n",
    "test_precision = test_precision / len(test_dataloader)\n",
    "test_recall = test_recall / len(test_dataloader)\n",
    "#test_f1_score = test_f1_score / len(test_dataloader)\n",
    "#test_kappa = test_kappa / len(dataloader)\n",
    "test_acc = test_acc / len(test_dataloader)\n",
    "# Concatenate list of predictions into a tensor\n",
    "y_pred_tensor = torch.cat(y_preds)\n",
    "test_f1_score = f1_score(y_set.detach().cpu().numpy(), y_pred_tensor.cpu().numpy(), average='macro', zero_division=0, labels=[0,1,2])\n",
    "\n",
    "# Print classification report\n",
    "y_true = y_set.detach().cpu().numpy()\n",
    "report = classification_report(y_true, y_pred_tensor.cpu().numpy(), target_names=class_names)\n",
    "print(report)"
   ]
  },
  {
   "cell_type": "code",
   "execution_count": null,
   "id": "6ae97fab",
   "metadata": {},
   "outputs": [],
   "source": [
    "test_f1_score"
   ]
  },
  {
   "cell_type": "code",
   "execution_count": null,
   "id": "7ebafd9b",
   "metadata": {},
   "outputs": [],
   "source": [
    "make = (y_class == y_pred_class)\n",
    "make"
   ]
  },
  {
   "cell_type": "code",
   "execution_count": null,
   "id": "4f8aa759",
   "metadata": {},
   "outputs": [],
   "source": [
    "torch.softmax(y_logit, dim=1).argmax(dim=1)"
   ]
  },
  {
   "cell_type": "code",
   "execution_count": null,
   "id": "f90a54b2",
   "metadata": {},
   "outputs": [],
   "source": [
    "y"
   ]
  },
  {
   "cell_type": "code",
   "execution_count": null,
   "id": "5a806154",
   "metadata": {},
   "outputs": [],
   "source": [
    "test = (y_pred == y).sum().item()/16"
   ]
  },
  {
   "cell_type": "code",
   "execution_count": null,
   "id": "1da35c56",
   "metadata": {},
   "outputs": [],
   "source": [
    "test"
   ]
  },
  {
   "cell_type": "code",
   "execution_count": null,
   "id": "b1eb246e",
   "metadata": {},
   "outputs": [],
   "source": [
    " y_pred_class = y_pred.detach().cpu().numpy() "
   ]
  },
  {
   "cell_type": "code",
   "execution_count": null,
   "id": "602e096f",
   "metadata": {},
   "outputs": [],
   "source": [
    "y_pred_class"
   ]
  },
  {
   "cell_type": "code",
   "execution_count": null,
   "id": "eaf1af09",
   "metadata": {},
   "outputs": [],
   "source": []
  }
 ],
 "metadata": {
  "kernelspec": {
   "display_name": "Python 3 (ipykernel)",
   "language": "python",
   "name": "python3"
  },
  "language_info": {
   "codemirror_mode": {
    "name": "ipython",
    "version": 3
   },
   "file_extension": ".py",
   "mimetype": "text/x-python",
   "name": "python",
   "nbconvert_exporter": "python",
   "pygments_lexer": "ipython3",
   "version": "3.9.16"
  }
 },
 "nbformat": 4,
 "nbformat_minor": 5
}
