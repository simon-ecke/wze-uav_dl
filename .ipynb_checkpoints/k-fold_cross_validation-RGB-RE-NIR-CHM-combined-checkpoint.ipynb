{
 "cells": [
  {
   "cell_type": "markdown",
   "id": "c1acdaa3",
   "metadata": {},
   "source": [
    "# WZE-UAV Image Classification using Deep Learning"
   ]
  },
  {
   "cell_type": "code",
   "execution_count": 1,
   "id": "2159aac5",
   "metadata": {},
   "outputs": [],
   "source": [
    "import os\n",
    "import gc\n",
    "import glob\n",
    "import numpy as np\n",
    "from pathlib import Path\n",
    "from tqdm.auto import tqdm\n",
    "from sklearn.metrics import confusion_matrix, classification_report\n",
    "from sklearn.model_selection import KFold"
   ]
  },
  {
   "cell_type": "code",
   "execution_count": 2,
   "id": "0026f7a9",
   "metadata": {},
   "outputs": [],
   "source": [
    "import torch\n",
    "import torchvision.transforms as T\n",
    "import torchvision\n",
    "from torch import nn\n",
    "from torch.utils.data import DataLoader\n",
    "from torchvision import datasets, transforms\n",
    "from torch.utils.data import Dataset\n",
    "import torch.optim as optim\n",
    "from torch.optim.lr_scheduler import ExponentialLR\n",
    "from mlxtend.plotting import plot_confusion_matrix"
   ]
  },
  {
   "cell_type": "code",
   "execution_count": 3,
   "id": "b160d7b4",
   "metadata": {},
   "outputs": [],
   "source": [
    "import wze_uav.data_loader as data_loader\n",
    "import wze_uav.models as models\n",
    "from wze_uav.engine import *\n",
    "from wze_uav.utils2 import *\n",
    "#from wze_uav.log_writer import create_writer\n",
    "from wze_uav.datasplit import *\n",
    "from efficientnet import model_effnet #for custom effnet with n_channels input\n",
    "import wandb"
   ]
  },
  {
   "cell_type": "markdown",
   "id": "2bd4fb2f",
   "metadata": {},
   "source": [
    "#### Get PyTorch version"
   ]
  },
  {
   "cell_type": "code",
   "execution_count": 4,
   "id": "c10886b1",
   "metadata": {},
   "outputs": [
    {
     "name": "stdout",
     "output_type": "stream",
     "text": [
      "torch version: 1.13.1+cu116\n",
      "torchvision version: 0.14.1+cu116\n"
     ]
    }
   ],
   "source": [
    "print(f\"torch version: {torch.__version__}\")\n",
    "print(f\"torchvision version: {torchvision.__version__}\")"
   ]
  },
  {
   "cell_type": "markdown",
   "id": "aa6a83cf",
   "metadata": {},
   "source": [
    "#### Preparing device agnostic code "
   ]
  },
  {
   "cell_type": "code",
   "execution_count": 5,
   "id": "13d5de88",
   "metadata": {},
   "outputs": [
    {
     "name": "stdout",
     "output_type": "stream",
     "text": [
      "cuda\n",
      "Index of current divice: 0\n",
      "Number of GPUs available: 1\n",
      "GPU Model: Quadro RTX 8000\n"
     ]
    }
   ],
   "source": [
    "# ensure device agnostic code\n",
    "device = 'cuda' if torch.cuda.is_available() else 'cpu'\n",
    "print(device)\n",
    "\n",
    "# get index of currently selected device\n",
    "print(f\"Index of current divice: {torch.cuda.current_device()}\")\n",
    "# get number of GPUs available\n",
    "print(f\"Number of GPUs available: {torch.cuda.device_count()}\")\n",
    "# get the name of the device\n",
    "print(f\"GPU Model: {torch.cuda.get_device_name(0)}\")"
   ]
  },
  {
   "cell_type": "markdown",
   "id": "8ef6b169",
   "metadata": {},
   "source": [
    "#### Login to Weights & Biases to track results"
   ]
  },
  {
   "cell_type": "code",
   "execution_count": 6,
   "id": "a59d27cf",
   "metadata": {},
   "outputs": [
    {
     "name": "stderr",
     "output_type": "stream",
     "text": [
      "Failed to detect the name of this notebook, you can set it manually with the WANDB_NOTEBOOK_NAME environment variable to enable code saving.\n",
      "\u001b[34m\u001b[1mwandb\u001b[0m: Currently logged in as: \u001b[33msimon-ecke\u001b[0m. Use \u001b[1m`wandb login --relogin`\u001b[0m to force relogin\n"
     ]
    },
    {
     "data": {
      "text/html": [
       "wandb version 0.15.2 is available!  To upgrade, please run:\n",
       " $ pip install wandb --upgrade"
      ],
      "text/plain": [
       "<IPython.core.display.HTML object>"
      ]
     },
     "metadata": {},
     "output_type": "display_data"
    },
    {
     "data": {
      "text/html": [
       "Tracking run with wandb version 0.14.2"
      ],
      "text/plain": [
       "<IPython.core.display.HTML object>"
      ]
     },
     "metadata": {},
     "output_type": "display_data"
    },
    {
     "data": {
      "text/html": [
       "Run data is saved locally in <code>C:\\Users\\lwfeckesim\\01_PyTorch\\wze-uav\\wze-uav-master\\wandb\\run-20230511_093940-l08n13uu</code>"
      ],
      "text/plain": [
       "<IPython.core.display.HTML object>"
      ]
     },
     "metadata": {},
     "output_type": "display_data"
    },
    {
     "data": {
      "text/html": [
       "Syncing run <strong><a href='https://wandb.ai/simon-ecke/wze-uav-combined/runs/l08n13uu' target=\"_blank\">pious-sky-31</a></strong> to <a href='https://wandb.ai/simon-ecke/wze-uav-combined' target=\"_blank\">Weights & Biases</a> (<a href='https://wandb.me/run' target=\"_blank\">docs</a>)<br/>"
      ],
      "text/plain": [
       "<IPython.core.display.HTML object>"
      ]
     },
     "metadata": {},
     "output_type": "display_data"
    },
    {
     "data": {
      "text/html": [
       " View project at <a href='https://wandb.ai/simon-ecke/wze-uav-combined' target=\"_blank\">https://wandb.ai/simon-ecke/wze-uav-combined</a>"
      ],
      "text/plain": [
       "<IPython.core.display.HTML object>"
      ]
     },
     "metadata": {},
     "output_type": "display_data"
    },
    {
     "data": {
      "text/html": [
       " View run at <a href='https://wandb.ai/simon-ecke/wze-uav-combined/runs/l08n13uu' target=\"_blank\">https://wandb.ai/simon-ecke/wze-uav-combined/runs/l08n13uu</a>"
      ],
      "text/plain": [
       "<IPython.core.display.HTML object>"
      ]
     },
     "metadata": {},
     "output_type": "display_data"
    },
    {
     "data": {
      "text/html": [
       "<button onClick=\"this.nextSibling.style.display='block';this.style.display='none';\">Display W&B run</button><iframe src='https://wandb.ai/simon-ecke/wze-uav-combined/runs/l08n13uu?jupyter=true' style='border:none;width:100%;height:420px;display:none;'></iframe>"
      ],
      "text/plain": [
       "<wandb.sdk.wandb_run.Run at 0x1b36a952b20>"
      ]
     },
     "execution_count": 6,
     "metadata": {},
     "output_type": "execute_result"
    }
   ],
   "source": [
    "# IMPORTANT: The proxy needs to be set in anaconda!\n",
    "# copy paste this in anaconda and restart jupyter notebook\n",
    "#set http_proxy=http://www-proxy.bayern.de:80\n",
    "#set https_proxy=http://www-proxy.bayern.de:80\n",
    "wandb.login()\n",
    "#wandb.init(settings=wandb.Settings(start_method=\"thread\"))\n",
    "wandb.init(project='wze-uav-combined', entity='simon-ecke')"
   ]
  },
  {
   "cell_type": "markdown",
   "id": "a26a6a34",
   "metadata": {},
   "source": [
    "#### Ensure reproducibility "
   ]
  },
  {
   "cell_type": "code",
   "execution_count": 7,
   "id": "dd4656a7",
   "metadata": {},
   "outputs": [],
   "source": [
    "# for more information, see also: https://pytorch.org/docs/stable/notes/randomness.html\n",
    "\n",
    "# Set seeds\n",
    "def set_seeds(seed: int=42):\n",
    "    \"\"\"Sets random sets for torch operations.\n",
    "\n",
    "    Args:\n",
    "        seed (int, optional): Random seed to set. Defaults to 42.\n",
    "    \"\"\"\n",
    "    # Set the seed for general torch operations\n",
    "    torch.manual_seed(seed)\n",
    "    # Set the seed for CUDA torch operations (ones that happen on the GPU)\n",
    "    torch.cuda.manual_seed(seed)\n",
    "    # seed for numpy\n",
    "    np.random.seed(seed)\n",
    "\n",
    "set_seeds(42) \n",
    "\n",
    "# Set to true -> might speed up the process but should be set to False if reproducible results are desired\n",
    "torch.backends.cudnn.benchmark = False\n"
   ]
  },
  {
   "cell_type": "markdown",
   "id": "8be33671",
   "metadata": {},
   "source": [
    "#### Define file directory"
   ]
  },
  {
   "cell_type": "code",
   "execution_count": 9,
   "id": "30645f36",
   "metadata": {},
   "outputs": [],
   "source": [
    "#####################################################################################\n",
    "# 3 channel input (r-g-b)\n",
    "#data_path = r\"D:\\Drohnendaten\\10_WZE-UAV\\Auswertung_findatree\\Datasplit\\ROI\\rgb\"\n",
    "\n",
    "# 4 channel input (r-g-b-nir)\n",
    "data_path = r\"D:\\Drohnendaten\\10_WZE-UAV\\Auswertung_findatree\\Datasplit\\ROI\\rgb-nir\"\n",
    "\n",
    "# 5 channel input (r-g-b-re-nir)\n",
    "#data_path = r\"D:\\Drohnendaten\\10_WZE-UAV\\Auswertung_findatree\\Datasplit\\ROI\\rgb-re-nir\"\n",
    "\n",
    "# 6 channel input (r-g-b-re-nir)\n",
    "#data_path = r\"D:\\Drohnendaten\\10_WZE-UAV\\Auswertung_findatree\\Datasplit\\ROI\\rgb-re-nir-chm\"\n",
    "\n",
    "#####################################################################################"
   ]
  },
  {
   "cell_type": "markdown",
   "id": "4560ce64",
   "metadata": {},
   "source": [
    "#### Get all file paths"
   ]
  },
  {
   "cell_type": "code",
   "execution_count": 10,
   "id": "aa072e4c",
   "metadata": {},
   "outputs": [],
   "source": [
    "fn_list = os.listdir(data_path)\n",
    "path_list = []\n",
    "# Iterate over all datafiles\n",
    "for year in fn_list:\n",
    "    year_dir = f'{data_path}\\\\{year}'\n",
    "    for filename in os.listdir(year_dir):\n",
    "        path = f'{year_dir}\\\\{filename}'\n",
    "        path_list.append(path)"
   ]
  },
  {
   "cell_type": "markdown",
   "id": "f3937a44",
   "metadata": {},
   "source": [
    "#### Create unique hash IDs for every individual tree"
   ]
  },
  {
   "cell_type": "code",
   "execution_count": 11,
   "id": "8a50f1d7",
   "metadata": {},
   "outputs": [
    {
     "data": {
      "application/vnd.jupyter.widget-view+json": {
       "model_id": "34d352a6589c4736a072c34fc303b441",
       "version_major": 2,
       "version_minor": 0
      },
      "text/plain": [
       "Creating unique tree IDs...:   0%|          | 0/647 [00:00<?, ?it/s]"
      ]
     },
     "metadata": {},
     "output_type": "display_data"
    }
   ],
   "source": [
    "hashID_dict = data_loader.get_unique_treeID(path_list)"
   ]
  },
  {
   "cell_type": "markdown",
   "id": "6f4cea00",
   "metadata": {},
   "source": [
    "#### Import all imagery, labels and other features from hdf5 files"
   ]
  },
  {
   "cell_type": "code",
   "execution_count": 12,
   "id": "94e3eecf",
   "metadata": {},
   "outputs": [
    {
     "data": {
      "application/vnd.jupyter.widget-view+json": {
       "model_id": "1af93cd25c674b499c7852f5b07f9369",
       "version_major": 2,
       "version_minor": 0
      },
      "text/plain": [
       "Processing hdf5 datasets:   0%|          | 0/647 [00:00<?, ?it/s]"
      ]
     },
     "metadata": {},
     "output_type": "display_data"
    }
   ],
   "source": [
    "image_set, label_set, species_set, kkl_set, bk_set, hash_id = data_loader.hdf5_to_img_label_5species(path_list,\n",
    "                                                                                               hashID_dict,\n",
    "                                                                                               load_sets=[\"images_masked\"])"
   ]
  },
  {
   "cell_type": "markdown",
   "id": "6a90e2b7",
   "metadata": {},
   "source": [
    "#### Convert nbv to classes"
   ]
  },
  {
   "cell_type": "code",
   "execution_count": 13,
   "id": "0224972a",
   "metadata": {},
   "outputs": [],
   "source": [
    "nbv_set = label_set\n",
    "label_set = combined_to_classes(species_set, nbv_set)"
   ]
  },
  {
   "cell_type": "markdown",
   "id": "c6b4cd85",
   "metadata": {},
   "source": [
    "#### Split data into a sub set and a test dataset"
   ]
  },
  {
   "cell_type": "code",
   "execution_count": 14,
   "id": "d06eda54",
   "metadata": {},
   "outputs": [
    {
     "name": "stdout",
     "output_type": "stream",
     "text": [
      "ORIGINAL POSITIVE RATIO: 2.9288929440389295\n",
      "Fold : 0\n",
      "TRAIN POSITIVE RATIO: 2.9223584354932868\n",
      "TEST POSITIVE RATIO : 2.9616228070175437\n",
      "LENGTH TRAIN GROUPS : 5197\n",
      "LENGTH TEST GROUPS  : 1037\n",
      "Number of True in sub_indices: 13704\n",
      "Number of False in sub_indices: 2736\n",
      "Number of True in test_indices: 1037\n",
      "Number of False in test_indices: 15403\n",
      "Check shapes:\n",
      "\n",
      "Images sub dataset: (13704, 250, 250, 3)\n",
      "Labels sub dataset: (13704, 1)\n",
      "\n",
      "Images test dataset: (1037, 250, 250, 3)\n",
      "Labels test dataset: (1037, 1)\n",
      "\n",
      "--------------------------------------------------\n",
      "Check if the split was stratified: (random_state=42)\n",
      "Healthy trees in sub dataset: 3722\n",
      "Stressed trees in sub dataset: 1941\n",
      "Dead trees in sub dataset: 1810\n",
      "Healthy trees in test dataset: 289\n",
      "Stressed trees in test dataset: 167\n",
      "Dead trees in test dataset: 121\n",
      "Ratio health trees in test dataset: 0.07764642665233745\n",
      "Ratio stressed trees in test dataset: 0.08603812467800102\n",
      "Ratio dead trees in test dataset: 0.06685082872928177\n"
     ]
    }
   ],
   "source": [
    "sub_image_set, sub_label_set, sub_hash_id, sub_species_set, test_image_set, test_label_set, test_hash_id, test_species_set = data_split(image_set, label_set, hash_id, species_set, n_splits=6, random_state=42, seed=2)\n"
   ]
  },
  {
   "cell_type": "markdown",
   "id": "c48fbb5b",
   "metadata": {},
   "source": [
    "#### Check if any hash ID is in both sub and test dataset"
   ]
  },
  {
   "cell_type": "code",
   "execution_count": 15,
   "id": "874367cf",
   "metadata": {},
   "outputs": [
    {
     "name": "stdout",
     "output_type": "stream",
     "text": [
      "There are no hash_id values in both train and test datasets. The datasplit was successful\n"
     ]
    }
   ],
   "source": [
    "hash_set = set(sub_hash_id[:,0].flatten())\n",
    "test_hash_set = set(test_hash_id[:,0].flatten())\n",
    "intersection = hash_set.intersection(test_hash_set)\n",
    "if intersection:\n",
    "    print(f\"Hash_id values in both train and test sets: {len(intersection)}\")\n",
    "else:\n",
    "    print(\"There are no hash_id values in both train and test datasets. The datasplit was successful\")"
   ]
  },
  {
   "cell_type": "markdown",
   "id": "9e5b64d4",
   "metadata": {},
   "source": [
    "#### Check feature distribution of the Test dataset"
   ]
  },
  {
   "cell_type": "code",
   "execution_count": 16,
   "id": "a33ff5cb",
   "metadata": {},
   "outputs": [
    {
     "name": "stdout",
     "output_type": "stream",
     "text": [
      "Test dataset\n",
      "Test data Picea abies healthy: 289\n",
      "Test data Picea abies stressed: 167\n",
      "Test data Pinus sylvestris healthy: 121\n",
      "Test data Pinus sylvestris stressed: 135\n",
      "Test data Abies alba healthy: 30\n",
      "Test data Abies alba stressed: 13\n",
      "Test data Fagus sylvatica healthy: 96\n",
      "Test data Fagus sylvatica stressed: 79\n",
      "Test data Quercus robur/petraea healthy: 58\n",
      "Test data Quercus robur/petraea stressed: 26\n",
      "Test data dead trees: 23\n",
      "--------------------------------------------------\n",
      "Remaining dataset\n",
      "Remaining data Picea abies healthy: 3722\n",
      "Remaining data Picea abies stressed: 1941\n",
      "Remaining data Pinus sylvestris healthy: 1810\n",
      "Remaining data Pinus sylvestris stressed: 2159\n",
      "Remaining data Abies alba healthy: 405\n",
      "Remaining data Abies alba stressed: 160\n",
      "Remaining data Fagus sylvatica healthy: 1230\n",
      "Remaining data Fagus sylvatica stressed: 883\n",
      "Remaining data Quercus robur/petraea healthy: 739\n",
      "Remaining data Quercus robur/petraea stressed: 433\n",
      "Remaining data dead trees: 222\n",
      "--------------------------------------------------\n"
     ]
    }
   ],
   "source": [
    "def count_occurrences(data, value):\n",
    "    count = 0\n",
    "    for item in data:\n",
    "        if item == value:\n",
    "            count += 1\n",
    "    return count\n",
    "\n",
    "print(\"Test dataset\")\n",
    "print(f\"Test data Picea abies healthy: {count_occurrences(test_label_set, 0)}\")\n",
    "print(f\"Test data Picea abies stressed: {count_occurrences(test_label_set, 1)}\")\n",
    "print(f\"Test data Pinus sylvestris healthy: {count_occurrences(test_label_set, 2)}\")\n",
    "print(f\"Test data Pinus sylvestris stressed: {count_occurrences(test_label_set, 3)}\")\n",
    "print(f\"Test data Abies alba healthy: {count_occurrences(test_label_set, 4)}\")\n",
    "print(f\"Test data Abies alba stressed: {count_occurrences(test_label_set, 5)}\")\n",
    "print(f\"Test data Fagus sylvatica healthy: {count_occurrences(test_label_set, 6)}\")\n",
    "print(f\"Test data Fagus sylvatica stressed: {count_occurrences(test_label_set, 7)}\")\n",
    "print(f\"Test data Quercus robur/petraea healthy: {count_occurrences(test_label_set, 8)}\")\n",
    "print(f\"Test data Quercus robur/petraea stressed: {count_occurrences(test_label_set, 9)}\")\n",
    "print(f\"Test data dead trees: {count_occurrences(test_label_set, 10)}\")\n",
    "print(\"-\"*50)\n",
    "\n",
    "print(\"Remaining dataset\")\n",
    "print(f\"Remaining data Picea abies healthy: {count_occurrences(sub_label_set, 0)}\")\n",
    "print(f\"Remaining data Picea abies stressed: {count_occurrences(sub_label_set, 1)}\")\n",
    "print(f\"Remaining data Pinus sylvestris healthy: {count_occurrences(sub_label_set, 2)}\")\n",
    "print(f\"Remaining data Pinus sylvestris stressed: {count_occurrences(sub_label_set, 3)}\")\n",
    "print(f\"Remaining data Abies alba healthy: {count_occurrences(sub_label_set, 4)}\")\n",
    "print(f\"Remaining data Abies alba stressed: {count_occurrences(sub_label_set, 5)}\")\n",
    "print(f\"Remaining data Fagus sylvatica healthy: {count_occurrences(sub_label_set, 6)}\")\n",
    "print(f\"Remaining data Fagus sylvatica stressed: {count_occurrences(sub_label_set, 7)}\")\n",
    "print(f\"Remaining data Quercus robur/petraea healthy: {count_occurrences(sub_label_set, 8)}\")\n",
    "print(f\"Remaining data Quercus robur/petraea stressed: {count_occurrences(sub_label_set, 9)}\")\n",
    "print(f\"Remaining data dead trees: {count_occurrences(sub_label_set, 10)}\")\n",
    "print(\"-\"*50)"
   ]
  },
  {
   "cell_type": "code",
   "execution_count": 17,
   "id": "e08fcf57",
   "metadata": {},
   "outputs": [],
   "source": [
    "# train transform with augmentation. \n",
    "transform_train = transforms.Compose([transforms.ToTensor(), transforms.RandomHorizontalFlip(p=0.5), transforms.RandomVerticalFlip(p=0.5),\n",
    "                                      transforms.RandomRotation(degrees=[0,360])])\n",
    "\n",
    "# test and val dataset transform without augmentation. \n",
    "transform = transforms.Compose([transforms.ToTensor()])\n",
    "\n",
    "# class names need to fit the customDataset class used e.g. 3 classes -> use CustomDataset3Classes\n",
    "#class_names = ['healthy', 'slightly_stressed', 'moderately_stressed', 'highly_stressed', 'dead']\n",
    "#class_names = ['healthy', 'moderately_stressed', 'highly_stressed', 'dead']\n",
    "#class_names = ['healthy', 'moderate stress', 'severe stress', 'dead']\n",
    "class_names = ['Picea abies healthy', 'Picea abies stressed', 'Pinus sylvestris healthy', 'Pinus sylvestris stressed', \n",
    "               'Abies alba healthy', 'Abies alba stressed', 'Fagus sylvatica healthy', 'Fagus sylvatica stressed',\n",
    "               'Quercus robur/petraea healthy', 'Quercus robur/petraea stressed', 'dead trees']\n",
    "\n",
    "# set seeds\n",
    "g = torch.Generator()\n",
    "g.manual_seed(42)\n",
    "NUM_WORKERS=3 # should be changed, depending on the system used\n",
    "batch_size=32"
   ]
  },
  {
   "cell_type": "markdown",
   "id": "31779c05",
   "metadata": {},
   "source": [
    "#### Define variables and parameters"
   ]
  },
  {
   "cell_type": "code",
   "execution_count": 18,
   "id": "10ae4379",
   "metadata": {},
   "outputs": [
    {
     "name": "stdout",
     "output_type": "stream",
     "text": [
      "Memory allocated: 0 bytes\n"
     ]
    }
   ],
   "source": [
    "# 1. Define number of epochs\n",
    "epochs = 50\n",
    "n_bands = sub_image_set[0].shape[2] # get number of bands\n",
    "\n",
    "# 2. Define model\n",
    "num_classes = len(class_names)\n",
    "unfreeze = True # all layer weights get updated\n",
    "dropout_rate = 0.5 #define dropout rate\n",
    "model_name = \"EffNet_b7_RGB-NIR-5species-combined\"\n",
    "\n",
    "# 3. Define loss, optimizer and learning rate scheduler\n",
    "lr = 0.001 # define learning rate\n",
    "min_lr = 1e-6 # minimum learning rate threshold\n",
    "gamma = 0.75 # how fast the learning rate decreases per epoch (low number=faster decrease)\n",
    "patience = 10\n",
    "\n",
    "# 4. Create target folder name were to save the tensorboard event files\n",
    "experiment_name = 'RGB-NIR-5species-combined'\n",
    "extra = \"RGB-NIR-5species-combined\"\n",
    "\n",
    "#----------------------------------------------------------------------\n",
    "#torch.cuda.empty_cache()\n",
    "print(f\"Memory allocated: {torch.cuda.memory_allocated()} bytes\") "
   ]
  },
  {
   "cell_type": "markdown",
   "id": "09768b1a",
   "metadata": {},
   "source": [
    "#### Run k-Fold cross-validation on EfficientNet"
   ]
  },
  {
   "cell_type": "code",
   "execution_count": null,
   "id": "9c29c81d",
   "metadata": {},
   "outputs": [
    {
     "name": "stdout",
     "output_type": "stream",
     "text": [
      "ORIGINAL POSITIVE RATIO: 2.9223584354932868\n",
      "Fold : 1\n",
      "TRAIN POSITIVE RATIO: 2.921033478893741\n",
      "VAL POSITIVE RATIO  : 2.9277286135693217\n",
      "LENGTH TRAIN GROUPS : 4158\n",
      "LENGTH VAL GROUPS   : 1039\n"
     ]
    },
    {
     "data": {
      "text/html": [
       "Finishing last run (ID:l08n13uu) before initializing another..."
      ],
      "text/plain": [
       "<IPython.core.display.HTML object>"
      ]
     },
     "metadata": {},
     "output_type": "display_data"
    },
    {
     "data": {
      "text/html": [
       "Waiting for W&B process to finish... <strong style=\"color:green\">(success).</strong>"
      ],
      "text/plain": [
       "<IPython.core.display.HTML object>"
      ]
     },
     "metadata": {},
     "output_type": "display_data"
    },
    {
     "data": {
      "application/vnd.jupyter.widget-view+json": {
       "model_id": "deda9d364ed24724b15b6dbaa7917454",
       "version_major": 2,
       "version_minor": 0
      },
      "text/plain": [
       "VBox(children=(Label(value='0.001 MB of 0.001 MB uploaded (0.000 MB deduped)\\r'), FloatProgress(value=1.0, max…"
      ]
     },
     "metadata": {},
     "output_type": "display_data"
    },
    {
     "data": {
      "text/html": [
       " View run <strong style=\"color:#cdcd00\">pious-sky-31</strong> at: <a href='https://wandb.ai/simon-ecke/wze-uav-combined/runs/l08n13uu' target=\"_blank\">https://wandb.ai/simon-ecke/wze-uav-combined/runs/l08n13uu</a><br/>Synced 5 W&B file(s), 0 media file(s), 0 artifact file(s) and 0 other file(s)"
      ],
      "text/plain": [
       "<IPython.core.display.HTML object>"
      ]
     },
     "metadata": {},
     "output_type": "display_data"
    },
    {
     "data": {
      "text/html": [
       "Find logs at: <code>.\\wandb\\run-20230511_093940-l08n13uu\\logs</code>"
      ],
      "text/plain": [
       "<IPython.core.display.HTML object>"
      ]
     },
     "metadata": {},
     "output_type": "display_data"
    },
    {
     "data": {
      "text/html": [
       "Successfully finished last run (ID:l08n13uu). Initializing new run:<br/>"
      ],
      "text/plain": [
       "<IPython.core.display.HTML object>"
      ]
     },
     "metadata": {},
     "output_type": "display_data"
    },
    {
     "data": {
      "application/vnd.jupyter.widget-view+json": {
       "model_id": "30c07bf85a34460b97266dbfafcc0c6d",
       "version_major": 2,
       "version_minor": 0
      },
      "text/plain": [
       "VBox(children=(Label(value='Waiting for wandb.init()...\\r'), FloatProgress(value=0.016666666666666666, max=1.0…"
      ]
     },
     "metadata": {},
     "output_type": "display_data"
    },
    {
     "data": {
      "text/html": [
       "wandb version 0.15.2 is available!  To upgrade, please run:\n",
       " $ pip install wandb --upgrade"
      ],
      "text/plain": [
       "<IPython.core.display.HTML object>"
      ]
     },
     "metadata": {},
     "output_type": "display_data"
    },
    {
     "data": {
      "text/html": [
       "Tracking run with wandb version 0.14.2"
      ],
      "text/plain": [
       "<IPython.core.display.HTML object>"
      ]
     },
     "metadata": {},
     "output_type": "display_data"
    },
    {
     "data": {
      "text/html": [
       "Run data is saved locally in <code>C:\\Users\\lwfeckesim\\01_PyTorch\\wze-uav\\wze-uav-master\\wandb\\run-20230511_104740-hz47yhbw</code>"
      ],
      "text/plain": [
       "<IPython.core.display.HTML object>"
      ]
     },
     "metadata": {},
     "output_type": "display_data"
    },
    {
     "data": {
      "text/html": [
       "Syncing run <strong><a href='https://wandb.ai/simon-ecke/wze-uav-combined/runs/hz47yhbw' target=\"_blank\">fold_1_RGB-5species-combined</a></strong> to <a href='https://wandb.ai/simon-ecke/wze-uav-combined' target=\"_blank\">Weights & Biases</a> (<a href='https://wandb.me/run' target=\"_blank\">docs</a>)<br/>"
      ],
      "text/plain": [
       "<IPython.core.display.HTML object>"
      ]
     },
     "metadata": {},
     "output_type": "display_data"
    },
    {
     "data": {
      "text/html": [
       " View project at <a href='https://wandb.ai/simon-ecke/wze-uav-combined' target=\"_blank\">https://wandb.ai/simon-ecke/wze-uav-combined</a>"
      ],
      "text/plain": [
       "<IPython.core.display.HTML object>"
      ]
     },
     "metadata": {},
     "output_type": "display_data"
    },
    {
     "data": {
      "text/html": [
       " View run at <a href='https://wandb.ai/simon-ecke/wze-uav-combined/runs/hz47yhbw' target=\"_blank\">https://wandb.ai/simon-ecke/wze-uav-combined/runs/hz47yhbw</a>"
      ],
      "text/plain": [
       "<IPython.core.display.HTML object>"
      ]
     },
     "metadata": {},
     "output_type": "display_data"
    },
    {
     "name": "stdout",
     "output_type": "stream",
     "text": [
      "There are no same hash_id values in train, val or test datasets. The datasplit was successful\n",
      "Check shapes:\n",
      "\n",
      "Images train dataset: (10992, 250, 250, 3)\n",
      "Labels train dataset: (10992, 1)\n",
      "\n",
      "Images validation dataset: (1039, 250, 250, 3)\n",
      "Labels validation dataset: (1039, 1)\n",
      "\n",
      "--------------------------------------------------\n",
      "Check if the split was stratified: (random_state=42)\n",
      "Healthy trees in train dataset: 2974\n",
      "Moderately stressed trees in train dataset: 1549\n",
      "Severely stressed trees in train dataset: 1457\n",
      "Dead trees in train dataset: 1739\n",
      "Healthy trees in validation dataset: 289\n",
      "Moderately stressed trees in validation dataset: 165\n",
      "Severely stressed trees in validation dataset: 119\n",
      "Dead trees in validation dataset: 160\n",
      "Ratio health trees in validation dataset: 0.07764642665233745\n",
      "Ratio moderately stressed trees in validation dataset: 0.08500772797527048\n",
      "Ratio severely stressed trees in validation dataset: 0.09116022099447514\n",
      "Ratio dead trees in validation dataset: 0.05511811023622047\n",
      "--------------------------------------------------\n",
      "\n",
      "Creating datasets for fold: 1\n",
      "\n",
      "Creating dataloaders for fold: 1\n",
      "\n",
      "Loaded pretrained weights for efficientnet-b7\n",
      "\n",
      "[INFO] Fold number: 1\n",
      "[INFO] Number of epochs: 50\n",
      "[INFO] Batch_size: 32\n",
      "[INFO] Number of bands: 3\n",
      "[INFO] Dropout rate: 0.5\n",
      "[INFO] Gamma learning rate: 0.75\n",
      "[INFO] Memory allocated: 0 bytes\n"
     ]
    },
    {
     "data": {
      "application/vnd.jupyter.widget-view+json": {
       "model_id": "fe2d70fc640448acbf490d0f66d4dca3",
       "version_major": 2,
       "version_minor": 0
      },
      "text/plain": [
       "  0%|          | 0/50 [00:00<?, ?it/s]"
      ]
     },
     "metadata": {},
     "output_type": "display_data"
    },
    {
     "name": "stdout",
     "output_type": "stream",
     "text": [
      "Epoch: 1 \n",
      "Learning rate: 0.001\n",
      "Train loss: 1.4033 | Train precision: 0.3703 | Train recall: 0.3466 | Train f1score: 0.3495 | Train acc: 0.4438 | Train kappa: 0.7109 \n",
      "Val loss: 1.8729 | Val precision: 0.1842 | Val recall: 0.2157 | Val f1score: 0.1582 | Val acc: 0.3281 | Val kappa: 0.5944 \n",
      "\n",
      "Epoch: 2 \n",
      "Learning rate: 0.00075\n",
      "Train loss: 1.1491 | Train precision: 0.4777 | Train recall: 0.4409 | Train f1score: 0.4494 | Train acc: 0.5164 | Train kappa: 0.8010 \n",
      "Val loss: 1.2783 | Val precision: 0.4728 | Val recall: 0.4318 | Val f1score: 0.4079 | Val acc: 0.5059 | Val kappa: 0.7219 \n",
      "\n",
      "Epoch: 3 \n",
      "Learning rate: 0.0005625000000000001\n",
      "Train loss: 1.0157 | Train precision: 0.5392 | Train recall: 0.5069 | Train f1score: 0.5143 | Train acc: 0.5620 | Train kappa: 0.8409 \n",
      "Val loss: 1.0395 | Val precision: 0.5711 | Val recall: 0.4998 | Val f1score: 0.4871 | Val acc: 0.5352 | Val kappa: 0.8374 \n",
      "\n",
      "Epoch: 4 \n",
      "Learning rate: 0.000421875\n",
      "Train loss: 0.9655 | Train precision: 0.5689 | Train recall: 0.5327 | Train f1score: 0.5420 | Train acc: 0.5866 | Train kappa: 0.8541 \n",
      "Val loss: 0.9868 | Val precision: 0.5605 | Val recall: 0.5286 | Val f1score: 0.5165 | Val acc: 0.5752 | Val kappa: 0.8398 \n",
      "\n",
      "Epoch: 5 \n",
      "Learning rate: 0.00031640625\n",
      "Train loss: 0.9178 | Train precision: 0.5840 | Train recall: 0.5541 | Train f1score: 0.5617 | Train acc: 0.5963 | Train kappa: 0.8800 \n",
      "Val loss: 1.0566 | Val precision: 0.5459 | Val recall: 0.4609 | Val f1score: 0.4430 | Val acc: 0.5225 | Val kappa: 0.8694 \n",
      "\n",
      "Epoch: 6 \n",
      "Learning rate: 0.0002373046875\n",
      "Train loss: 0.8850 | Train precision: 0.5912 | Train recall: 0.5705 | Train f1score: 0.5759 | Train acc: 0.6101 | Train kappa: 0.8799 \n",
      "Val loss: 0.9078 | Val precision: 0.5978 | Val recall: 0.5599 | Val f1score: 0.5461 | Val acc: 0.6182 | Val kappa: 0.8807 \n",
      "\n",
      "Epoch: 7 \n",
      "Learning rate: 0.000177978515625\n",
      "Train loss: 0.8467 | Train precision: 0.6194 | Train recall: 0.5890 | Train f1score: 0.5964 | Train acc: 0.6269 | Train kappa: 0.8916 \n",
      "Val loss: 0.8833 | Val precision: 0.5561 | Val recall: 0.5607 | Val f1score: 0.5441 | Val acc: 0.5898 | Val kappa: 0.8917 \n",
      "\n",
      "Epoch: 8 \n",
      "Learning rate: 0.00013348388671875\n",
      "Train loss: 0.8166 | Train precision: 0.6264 | Train recall: 0.6015 | Train f1score: 0.6100 | Train acc: 0.6393 | Train kappa: 0.8963 \n",
      "Val loss: 0.8551 | Val precision: 0.6196 | Val recall: 0.5600 | Val f1score: 0.5724 | Val acc: 0.6152 | Val kappa: 0.8886 \n",
      "\n",
      "Epoch: 9 \n",
      "Learning rate: 0.0001001129150390625\n",
      "Train loss: 0.7748 | Train precision: 0.6628 | Train recall: 0.6298 | Train f1score: 0.6406 | Train acc: 0.6525 | Train kappa: 0.9126 \n",
      "Val loss: 0.8593 | Val precision: 0.5894 | Val recall: 0.5823 | Val f1score: 0.5752 | Val acc: 0.6201 | Val kappa: 0.8794 \n",
      "\n",
      "Epoch: 10 \n",
      "Learning rate: 7.508468627929687e-05\n",
      "Train loss: 0.7625 | Train precision: 0.6605 | Train recall: 0.6290 | Train f1score: 0.6377 | Train acc: 0.6582 | Train kappa: 0.9179 \n",
      "Val loss: 0.8618 | Val precision: 0.5972 | Val recall: 0.6087 | Val f1score: 0.5955 | Val acc: 0.6318 | Val kappa: 0.8739 \n",
      "\n",
      "Epoch: 11 \n",
      "Learning rate: 5.6313514709472656e-05\n",
      "Train loss: 0.7528 | Train precision: 0.6773 | Train recall: 0.6490 | Train f1score: 0.6574 | Train acc: 0.6654 | Train kappa: 0.9225 \n",
      "Val loss: 0.8538 | Val precision: 0.5975 | Val recall: 0.5910 | Val f1score: 0.5795 | Val acc: 0.6309 | Val kappa: 0.8882 \n",
      "\n",
      "Epoch: 12 \n",
      "Learning rate: 4.223513603210449e-05\n",
      "Train loss: 0.7354 | Train precision: 0.6787 | Train recall: 0.6433 | Train f1score: 0.6530 | Train acc: 0.6677 | Train kappa: 0.9347 \n",
      "Val loss: 0.8529 | Val precision: 0.6513 | Val recall: 0.6112 | Val f1score: 0.6034 | Val acc: 0.6465 | Val kappa: 0.8935 \n",
      "\n",
      "Epoch: 13 \n",
      "Learning rate: 3.167635202407837e-05\n",
      "Train loss: 0.7287 | Train precision: 0.6834 | Train recall: 0.6547 | Train f1score: 0.6626 | Train acc: 0.6727 | Train kappa: 0.9221 \n",
      "Val loss: 0.8324 | Val precision: 0.6281 | Val recall: 0.6170 | Val f1score: 0.6059 | Val acc: 0.6455 | Val kappa: 0.9035 \n",
      "\n",
      "Epoch: 14 \n",
      "Learning rate: 2.3757264018058778e-05\n",
      "Train loss: 0.7187 | Train precision: 0.6831 | Train recall: 0.6584 | Train f1score: 0.6657 | Train acc: 0.6731 | Train kappa: 0.9242 \n",
      "Val loss: 0.8339 | Val precision: 0.6383 | Val recall: 0.6039 | Val f1score: 0.6002 | Val acc: 0.6406 | Val kappa: 0.8966 \n",
      "\n",
      "Epoch: 15 \n",
      "Learning rate: 1.7817948013544083e-05\n",
      "Train loss: 0.7222 | Train precision: 0.6831 | Train recall: 0.6524 | Train f1score: 0.6620 | Train acc: 0.6718 | Train kappa: 0.9274 \n",
      "Val loss: 0.8454 | Val precision: 0.6249 | Val recall: 0.6060 | Val f1score: 0.6014 | Val acc: 0.6406 | Val kappa: 0.8882 \n",
      "\n",
      "Epoch: 16 \n",
      "Learning rate: 1.3363461010158063e-05\n",
      "Train loss: 0.7120 | Train precision: 0.6901 | Train recall: 0.6633 | Train f1score: 0.6718 | Train acc: 0.6844 | Train kappa: 0.9284 \n",
      "Val loss: 0.8314 | Val precision: 0.6279 | Val recall: 0.6105 | Val f1score: 0.6017 | Val acc: 0.6436 | Val kappa: 0.8959 \n",
      "\n",
      "Epoch: 17 \n",
      "Learning rate: 1.0022595757618546e-05\n",
      "Train loss: 0.7206 | Train precision: 0.6817 | Train recall: 0.6562 | Train f1score: 0.6625 | Train acc: 0.6734 | Train kappa: 0.9321 \n",
      "Val loss: 0.8367 | Val precision: 0.6052 | Val recall: 0.5990 | Val f1score: 0.5897 | Val acc: 0.6387 | Val kappa: 0.8880 \n",
      "\n",
      "Epoch: 18 \n",
      "Learning rate: 7.51694681821391e-06\n",
      "Train loss: 0.7058 | Train precision: 0.6892 | Train recall: 0.6658 | Train f1score: 0.6733 | Train acc: 0.6724 | Train kappa: 0.9313 \n",
      "Val loss: 0.8326 | Val precision: 0.6134 | Val recall: 0.6061 | Val f1score: 0.5963 | Val acc: 0.6406 | Val kappa: 0.8919 \n",
      "\n",
      "Epoch: 19 \n",
      "Learning rate: 5.637710113660432e-06\n",
      "Train loss: 0.7053 | Train precision: 0.7004 | Train recall: 0.6826 | Train f1score: 0.6880 | Train acc: 0.6808 | Train kappa: 0.9416 \n",
      "Val loss: 0.8266 | Val precision: 0.6227 | Val recall: 0.6055 | Val f1score: 0.5977 | Val acc: 0.6406 | Val kappa: 0.8929 \n",
      "\n",
      "Epoch: 20 \n",
      "Learning rate: 4.228282585245324e-06\n",
      "Train loss: 0.7126 | Train precision: 0.6853 | Train recall: 0.6552 | Train f1score: 0.6646 | Train acc: 0.6781 | Train kappa: 0.9283 \n",
      "Val loss: 0.8323 | Val precision: 0.6123 | Val recall: 0.6035 | Val f1score: 0.5972 | Val acc: 0.6387 | Val kappa: 0.8897 \n",
      "\n",
      "Epoch: 21 \n",
      "Learning rate: 3.1712119389339933e-06\n",
      "Train loss: 0.6967 | Train precision: 0.7171 | Train recall: 0.6864 | Train f1score: 0.6960 | Train acc: 0.6962 | Train kappa: 0.9368 \n",
      "Val loss: 0.8339 | Val precision: 0.6239 | Val recall: 0.6093 | Val f1score: 0.6039 | Val acc: 0.6406 | Val kappa: 0.8911 \n",
      "\n",
      "Epoch: 22 \n",
      "Learning rate: 2.378408954200495e-06\n",
      "Train loss: 0.6903 | Train precision: 0.7050 | Train recall: 0.6780 | Train f1score: 0.6871 | Train acc: 0.6921 | Train kappa: 0.9349 \n",
      "Val loss: 0.8307 | Val precision: 0.6224 | Val recall: 0.6099 | Val f1score: 0.6025 | Val acc: 0.6416 | Val kappa: 0.8942 \n",
      "\n",
      "Epoch: 23 \n",
      "Learning rate: 1.7838067156503713e-06\n",
      "Train loss: 0.6935 | Train precision: 0.7007 | Train recall: 0.6792 | Train f1score: 0.6851 | Train acc: 0.6852 | Train kappa: 0.9323 \n",
      "Val loss: 0.8284 | Val precision: 0.6275 | Val recall: 0.6064 | Val f1score: 0.5993 | Val acc: 0.6406 | Val kappa: 0.8920 \n",
      "\n",
      "Epoch: 24 \n",
      "Learning rate: 1.3378550367377785e-06\n",
      "Train loss: 0.7046 | Train precision: 0.6899 | Train recall: 0.6618 | Train f1score: 0.6703 | Train acc: 0.6813 | Train kappa: 0.9319 \n",
      "Val loss: 0.8268 | Val precision: 0.6330 | Val recall: 0.6073 | Val f1score: 0.6025 | Val acc: 0.6416 | Val kappa: 0.8991 \n",
      "\n",
      "Epoch: 25 \n",
      "Learning rate: 1.0033912775533338e-06\n",
      "Train loss: 0.7021 | Train precision: 0.6932 | Train recall: 0.6693 | Train f1score: 0.6775 | Train acc: 0.6792 | Train kappa: 0.9288 \n",
      "Val loss: 0.8298 | Val precision: 0.6204 | Val recall: 0.6076 | Val f1score: 0.6000 | Val acc: 0.6396 | Val kappa: 0.8935 \n",
      "\n",
      "Epoch: 26 \n",
      "Learning rate: 1e-06\n",
      "Train loss: 0.6879 | Train precision: 0.6973 | Train recall: 0.6766 | Train f1score: 0.6826 | Train acc: 0.6865 | Train kappa: 0.9361 \n",
      "Val loss: 0.8269 | Val precision: 0.6430 | Val recall: 0.6060 | Val f1score: 0.6024 | Val acc: 0.6396 | Val kappa: 0.8927 \n",
      "\n",
      "Epoch: 27 \n",
      "Learning rate: 1e-06\n",
      "Train loss: 0.6940 | Train precision: 0.7042 | Train recall: 0.6829 | Train f1score: 0.6896 | Train acc: 0.6903 | Train kappa: 0.9326 \n",
      "Val loss: 0.8309 | Val precision: 0.6314 | Val recall: 0.6079 | Val f1score: 0.6022 | Val acc: 0.6426 | Val kappa: 0.8991 \n",
      "\n"
     ]
    },
    {
     "name": "stdout",
     "output_type": "stream",
     "text": [
      "Epoch: 28 \n",
      "Learning rate: 1e-06\n",
      "Train loss: 0.6910 | Train precision: 0.7062 | Train recall: 0.6800 | Train f1score: 0.6890 | Train acc: 0.6918 | Train kappa: 0.9328 \n",
      "Val loss: 0.8305 | Val precision: 0.6289 | Val recall: 0.6067 | Val f1score: 0.5982 | Val acc: 0.6406 | Val kappa: 0.8960 \n",
      "\n",
      "Epoch: 29 \n",
      "Learning rate: 1e-06\n",
      "Train loss: 0.6880 | Train precision: 0.7018 | Train recall: 0.6732 | Train f1score: 0.6835 | Train acc: 0.6895 | Train kappa: 0.9303 \n",
      "Val loss: 0.8378 | Val precision: 0.6297 | Val recall: 0.6032 | Val f1score: 0.6012 | Val acc: 0.6377 | Val kappa: 0.8890 \n",
      "\n",
      "Early stopping after epoch 29\n"
     ]
    },
    {
     "data": {
      "text/html": [
       "Waiting for W&B process to finish... <strong style=\"color:green\">(success).</strong>"
      ],
      "text/plain": [
       "<IPython.core.display.HTML object>"
      ]
     },
     "metadata": {},
     "output_type": "display_data"
    },
    {
     "data": {
      "application/vnd.jupyter.widget-view+json": {
       "model_id": "0fca6bc0178543bcb094910d62ef0935",
       "version_major": 2,
       "version_minor": 0
      },
      "text/plain": [
       "VBox(children=(Label(value='0.001 MB of 0.001 MB uploaded (0.000 MB deduped)\\r'), FloatProgress(value=1.0, max…"
      ]
     },
     "metadata": {},
     "output_type": "display_data"
    },
    {
     "data": {
      "text/html": [
       "<style>\n",
       "    table.wandb td:nth-child(1) { padding: 0 10px; text-align: left ; width: auto;} td:nth-child(2) {text-align: left ; width: 100%}\n",
       "    .wandb-row { display: flex; flex-direction: row; flex-wrap: wrap; justify-content: flex-start; width: 100% }\n",
       "    .wandb-col { display: flex; flex-direction: column; flex-basis: 100%; flex: 1; padding: 10px; }\n",
       "    </style>\n",
       "<div class=\"wandb-row\"><div class=\"wandb-col\"><h3>Run history:</h3><br/><table class=\"wandb\"><tr><td>learning_rate</td><td>█▆▅▄▃▃▂▂▂▂▁▁▁▁▁▁▁▁▁▁▁▁▁▁▁▁▁▁▁</td></tr><tr><td>train_f1_score</td><td>▁▃▄▅▅▆▆▆▇▇▇▇▇▇▇█▇██▇███▇█████</td></tr><tr><td>train_loss</td><td>█▆▄▄▃▃▃▂▂▂▂▁▁▁▁▁▁▁▁▁▁▁▁▁▁▁▁▁▁</td></tr><tr><td>val_f1_score</td><td>▁▅▆▇▅▇▇▇█████████████████████</td></tr><tr><td>val_loss</td><td>█▄▂▂▃▂▁▁▁▁▁▁▁▁▁▁▁▁▁▁▁▁▁▁▁▁▁▁▁</td></tr></table><br/></div><div class=\"wandb-col\"><h3>Run summary:</h3><br/><table class=\"wandb\"><tr><td>learning_rate</td><td>0.0</td></tr><tr><td>train_f1_score</td><td>0.68347</td></tr><tr><td>train_loss</td><td>0.68799</td></tr><tr><td>val_f1_score</td><td>0.60119</td></tr><tr><td>val_loss</td><td>0.83776</td></tr></table><br/></div></div>"
      ],
      "text/plain": [
       "<IPython.core.display.HTML object>"
      ]
     },
     "metadata": {},
     "output_type": "display_data"
    },
    {
     "data": {
      "text/html": [
       " View run <strong style=\"color:#cdcd00\">fold_1_RGB-5species-combined</strong> at: <a href='https://wandb.ai/simon-ecke/wze-uav-combined/runs/hz47yhbw' target=\"_blank\">https://wandb.ai/simon-ecke/wze-uav-combined/runs/hz47yhbw</a><br/>Synced 5 W&B file(s), 0 media file(s), 0 artifact file(s) and 0 other file(s)"
      ],
      "text/plain": [
       "<IPython.core.display.HTML object>"
      ]
     },
     "metadata": {},
     "output_type": "display_data"
    },
    {
     "data": {
      "text/html": [
       "Find logs at: <code>.\\wandb\\run-20230511_104740-hz47yhbw\\logs</code>"
      ],
      "text/plain": [
       "<IPython.core.display.HTML object>"
      ]
     },
     "metadata": {},
     "output_type": "display_data"
    },
    {
     "name": "stdout",
     "output_type": "stream",
     "text": [
      "Deleting variables and emptying cache\n",
      "Memory allocated: 1047879168 bytes\n",
      "--------------------------------------------------\n",
      "\n",
      "Fold : 2\n",
      "TRAIN POSITIVE RATIO: 2.956775487871603\n",
      "VAL POSITIVE RATIO  : 2.7845142439737036\n",
      "LENGTH TRAIN GROUPS : 4159\n",
      "LENGTH VAL GROUPS   : 1038\n"
     ]
    },
    {
     "data": {
      "text/html": [
       "wandb version 0.15.2 is available!  To upgrade, please run:\n",
       " $ pip install wandb --upgrade"
      ],
      "text/plain": [
       "<IPython.core.display.HTML object>"
      ]
     },
     "metadata": {},
     "output_type": "display_data"
    },
    {
     "data": {
      "text/html": [
       "Tracking run with wandb version 0.14.2"
      ],
      "text/plain": [
       "<IPython.core.display.HTML object>"
      ]
     },
     "metadata": {},
     "output_type": "display_data"
    },
    {
     "data": {
      "text/html": [
       "Run data is saved locally in <code>C:\\Users\\lwfeckesim\\01_PyTorch\\wze-uav\\wze-uav-master\\wandb\\run-20230511_130907-czxh9t82</code>"
      ],
      "text/plain": [
       "<IPython.core.display.HTML object>"
      ]
     },
     "metadata": {},
     "output_type": "display_data"
    },
    {
     "data": {
      "text/html": [
       "Syncing run <strong><a href='https://wandb.ai/simon-ecke/wze-uav-combined/runs/czxh9t82' target=\"_blank\">fold_2_RGB-5species-combined</a></strong> to <a href='https://wandb.ai/simon-ecke/wze-uav-combined' target=\"_blank\">Weights & Biases</a> (<a href='https://wandb.me/run' target=\"_blank\">docs</a>)<br/>"
      ],
      "text/plain": [
       "<IPython.core.display.HTML object>"
      ]
     },
     "metadata": {},
     "output_type": "display_data"
    },
    {
     "data": {
      "text/html": [
       " View project at <a href='https://wandb.ai/simon-ecke/wze-uav-combined' target=\"_blank\">https://wandb.ai/simon-ecke/wze-uav-combined</a>"
      ],
      "text/plain": [
       "<IPython.core.display.HTML object>"
      ]
     },
     "metadata": {},
     "output_type": "display_data"
    },
    {
     "data": {
      "text/html": [
       " View run at <a href='https://wandb.ai/simon-ecke/wze-uav-combined/runs/czxh9t82' target=\"_blank\">https://wandb.ai/simon-ecke/wze-uav-combined/runs/czxh9t82</a>"
      ],
      "text/plain": [
       "<IPython.core.display.HTML object>"
      ]
     },
     "metadata": {},
     "output_type": "display_data"
    },
    {
     "name": "stdout",
     "output_type": "stream",
     "text": [
      "There are no same hash_id values in train, val or test datasets. The datasplit was successful\n",
      "Check shapes:\n",
      "\n",
      "Images train dataset: (10966, 250, 250, 3)\n",
      "Labels train dataset: (10966, 1)\n",
      "\n",
      "Images validation dataset: (1038, 250, 250, 3)\n",
      "Labels validation dataset: (1038, 1)\n",
      "\n",
      "--------------------------------------------------\n",
      "Check if the split was stratified: (random_state=42)\n",
      "Healthy trees in train dataset: 2919\n",
      "Moderately stressed trees in train dataset: 1548\n",
      "Severely stressed trees in train dataset: 1474\n",
      "Dead trees in train dataset: 1736\n",
      "Healthy trees in validation dataset: 298\n",
      "Moderately stressed trees in validation dataset: 170\n",
      "Severely stressed trees in validation dataset: 123\n",
      "Dead trees in validation dataset: 153\n",
      "Ratio health trees in validation dataset: 0.0800644814615798\n",
      "Ratio moderately stressed trees in validation dataset: 0.08758371973209686\n",
      "Ratio severely stressed trees in validation dataset: 0.09392265193370165\n",
      "Ratio dead trees in validation dataset: 0.05697081982399259\n",
      "--------------------------------------------------\n",
      "\n",
      "Creating datasets for fold: 2\n",
      "\n",
      "Creating dataloaders for fold: 2\n",
      "\n",
      "Loaded pretrained weights for efficientnet-b7\n",
      "\n",
      "[INFO] Fold number: 2\n",
      "[INFO] Number of epochs: 50\n",
      "[INFO] Batch_size: 32\n",
      "[INFO] Number of bands: 3\n",
      "[INFO] Dropout rate: 0.5\n",
      "[INFO] Gamma learning rate: 0.75\n",
      "[INFO] Memory allocated: 0 bytes\n"
     ]
    },
    {
     "data": {
      "application/vnd.jupyter.widget-view+json": {
       "model_id": "c6404747eca149cd9273e971567daaf8",
       "version_major": 2,
       "version_minor": 0
      },
      "text/plain": [
       "  0%|          | 0/50 [00:00<?, ?it/s]"
      ]
     },
     "metadata": {},
     "output_type": "display_data"
    },
    {
     "name": "stdout",
     "output_type": "stream",
     "text": [
      "Epoch: 1 \n",
      "Learning rate: 0.001\n",
      "Train loss: 1.3976 | Train precision: 0.3847 | Train recall: 0.3451 | Train f1score: 0.3548 | Train acc: 0.4356 | Train kappa: 0.7114 \n",
      "Val loss: 1.9005 | Val precision: 0.3976 | Val recall: 0.3118 | Val f1score: 0.2600 | Val acc: 0.4307 | Val kappa: 0.6765 \n",
      "\n",
      "Epoch: 2 \n",
      "Learning rate: 0.00075\n",
      "Train loss: 1.1352 | Train precision: 0.4744 | Train recall: 0.4502 | Train f1score: 0.4547 | Train acc: 0.5188 | Train kappa: 0.8064 \n",
      "Val loss: 1.3212 | Val precision: 0.3964 | Val recall: 0.3452 | Val f1score: 0.3204 | Val acc: 0.4844 | Val kappa: 0.7500 \n",
      "\n",
      "Epoch: 3 \n",
      "Learning rate: 0.0005625000000000001\n",
      "Train loss: 1.0235 | Train precision: 0.5418 | Train recall: 0.5124 | Train f1score: 0.5206 | Train acc: 0.5596 | Train kappa: 0.8399 \n",
      "Val loss: 0.9662 | Val precision: 0.5654 | Val recall: 0.5104 | Val f1score: 0.5049 | Val acc: 0.5752 | Val kappa: 0.8409 \n",
      "\n",
      "Epoch: 4 \n",
      "Learning rate: 0.000421875\n",
      "Train loss: 0.9726 | Train precision: 0.5577 | Train recall: 0.5345 | Train f1score: 0.5418 | Train acc: 0.5774 | Train kappa: 0.8580 \n",
      "Val loss: 1.0282 | Val precision: 0.4728 | Val recall: 0.4643 | Val f1score: 0.4501 | Val acc: 0.5742 | Val kappa: 0.7993 \n",
      "\n",
      "Epoch: 5 \n",
      "Learning rate: 0.00031640625\n",
      "Train loss: 0.9239 | Train precision: 0.5880 | Train recall: 0.5585 | Train f1score: 0.5669 | Train acc: 0.6000 | Train kappa: 0.8729 \n",
      "Val loss: 0.9796 | Val precision: 0.5828 | Val recall: 0.5904 | Val f1score: 0.5580 | Val acc: 0.5791 | Val kappa: 0.8683 \n",
      "\n",
      "Epoch: 6 \n",
      "Learning rate: 0.0002373046875\n",
      "Train loss: 0.8711 | Train precision: 0.6202 | Train recall: 0.5932 | Train f1score: 0.6024 | Train acc: 0.6171 | Train kappa: 0.8843 \n",
      "Val loss: 0.8857 | Val precision: 0.5602 | Val recall: 0.5400 | Val f1score: 0.5389 | Val acc: 0.6133 | Val kappa: 0.8471 \n",
      "\n",
      "Epoch: 7 \n",
      "Learning rate: 0.000177978515625\n",
      "Train loss: 0.8363 | Train precision: 0.6283 | Train recall: 0.6041 | Train f1score: 0.6119 | Train acc: 0.6354 | Train kappa: 0.8959 \n",
      "Val loss: 0.8283 | Val precision: 0.5700 | Val recall: 0.6251 | Val f1score: 0.5894 | Val acc: 0.6191 | Val kappa: 0.8704 \n",
      "\n",
      "Epoch: 8 \n",
      "Learning rate: 0.00013348388671875\n",
      "Train loss: 0.8099 | Train precision: 0.6437 | Train recall: 0.6232 | Train f1score: 0.6307 | Train acc: 0.6362 | Train kappa: 0.9026 \n",
      "Val loss: 0.8056 | Val precision: 0.6226 | Val recall: 0.5769 | Val f1score: 0.5770 | Val acc: 0.6436 | Val kappa: 0.9062 \n",
      "\n",
      "Epoch: 9 \n",
      "Learning rate: 0.0001001129150390625\n",
      "Train loss: 0.7955 | Train precision: 0.6525 | Train recall: 0.6260 | Train f1score: 0.6351 | Train acc: 0.6461 | Train kappa: 0.9016 \n",
      "Val loss: 0.8160 | Val precision: 0.6325 | Val recall: 0.6021 | Val f1score: 0.6075 | Val acc: 0.6602 | Val kappa: 0.9089 \n",
      "\n",
      "Epoch: 10 \n",
      "Learning rate: 7.508468627929687e-05\n",
      "Train loss: 0.7615 | Train precision: 0.6637 | Train recall: 0.6398 | Train f1score: 0.6472 | Train acc: 0.6585 | Train kappa: 0.9204 \n",
      "Val loss: 0.7839 | Val precision: 0.6496 | Val recall: 0.6198 | Val f1score: 0.6259 | Val acc: 0.6660 | Val kappa: 0.9010 \n",
      "\n",
      "Epoch: 11 \n",
      "Learning rate: 5.6313514709472656e-05\n",
      "Train loss: 0.7361 | Train precision: 0.6892 | Train recall: 0.6645 | Train f1score: 0.6719 | Train acc: 0.6732 | Train kappa: 0.9197 \n",
      "Val loss: 0.8012 | Val precision: 0.6637 | Val recall: 0.6202 | Val f1score: 0.6275 | Val acc: 0.6611 | Val kappa: 0.9177 \n",
      "\n",
      "Epoch: 12 \n",
      "Learning rate: 4.223513603210449e-05\n",
      "Train loss: 0.7408 | Train precision: 0.6833 | Train recall: 0.6569 | Train f1score: 0.6665 | Train acc: 0.6792 | Train kappa: 0.9254 \n",
      "Val loss: 0.7994 | Val precision: 0.6390 | Val recall: 0.6059 | Val f1score: 0.6011 | Val acc: 0.6592 | Val kappa: 0.9109 \n",
      "\n",
      "Epoch: 13 \n",
      "Learning rate: 3.167635202407837e-05\n",
      "Train loss: 0.7253 | Train precision: 0.6880 | Train recall: 0.6616 | Train f1score: 0.6712 | Train acc: 0.6736 | Train kappa: 0.9254 \n",
      "Val loss: 0.8057 | Val precision: 0.6446 | Val recall: 0.6307 | Val f1score: 0.6286 | Val acc: 0.6699 | Val kappa: 0.9171 \n",
      "\n",
      "Epoch: 14 \n",
      "Learning rate: 2.3757264018058778e-05\n",
      "Train loss: 0.7185 | Train precision: 0.6888 | Train recall: 0.6634 | Train f1score: 0.6741 | Train acc: 0.6794 | Train kappa: 0.9259 \n",
      "Val loss: 0.7900 | Val precision: 0.6430 | Val recall: 0.6316 | Val f1score: 0.6314 | Val acc: 0.6670 | Val kappa: 0.9182 \n",
      "\n",
      "Epoch: 15 \n",
      "Learning rate: 1.7817948013544083e-05\n",
      "Train loss: 0.7107 | Train precision: 0.6984 | Train recall: 0.6854 | Train f1score: 0.6908 | Train acc: 0.6868 | Train kappa: 0.9262 \n",
      "Val loss: 0.7970 | Val precision: 0.6712 | Val recall: 0.6265 | Val f1score: 0.6312 | Val acc: 0.6650 | Val kappa: 0.9236 \n",
      "\n",
      "Epoch: 16 \n",
      "Learning rate: 1.3363461010158063e-05\n",
      "Train loss: 0.7160 | Train precision: 0.6924 | Train recall: 0.6658 | Train f1score: 0.6756 | Train acc: 0.6764 | Train kappa: 0.9281 \n",
      "Val loss: 0.8007 | Val precision: 0.6489 | Val recall: 0.6280 | Val f1score: 0.6306 | Val acc: 0.6670 | Val kappa: 0.9206 \n",
      "\n",
      "Epoch: 17 \n",
      "Learning rate: 1.0022595757618546e-05\n",
      "Train loss: 0.6871 | Train precision: 0.7107 | Train recall: 0.6888 | Train f1score: 0.6973 | Train acc: 0.6918 | Train kappa: 0.9400 \n",
      "Val loss: 0.7951 | Val precision: 0.6450 | Val recall: 0.6151 | Val f1score: 0.6190 | Val acc: 0.6572 | Val kappa: 0.9185 \n",
      "\n",
      "Epoch: 18 \n",
      "Learning rate: 7.51694681821391e-06\n",
      "Train loss: 0.6999 | Train precision: 0.6978 | Train recall: 0.6784 | Train f1score: 0.6856 | Train acc: 0.6827 | Train kappa: 0.9276 \n",
      "Val loss: 0.7883 | Val precision: 0.6512 | Val recall: 0.6194 | Val f1score: 0.6258 | Val acc: 0.6582 | Val kappa: 0.9211 \n",
      "\n",
      "Epoch: 19 \n",
      "Learning rate: 5.637710113660432e-06\n",
      "Train loss: 0.6964 | Train precision: 0.7002 | Train recall: 0.6836 | Train f1score: 0.6900 | Train acc: 0.6898 | Train kappa: 0.9256 \n",
      "Val loss: 0.8147 | Val precision: 0.6529 | Val recall: 0.6250 | Val f1score: 0.6314 | Val acc: 0.6680 | Val kappa: 0.9193 \n",
      "\n",
      "Epoch: 20 \n",
      "Learning rate: 4.228282585245324e-06\n",
      "Train loss: 0.6829 | Train precision: 0.7079 | Train recall: 0.6895 | Train f1score: 0.6970 | Train acc: 0.6881 | Train kappa: 0.9325 \n",
      "Val loss: 0.7972 | Val precision: 0.6575 | Val recall: 0.6305 | Val f1score: 0.6371 | Val acc: 0.6689 | Val kappa: 0.9169 \n",
      "\n",
      "Early stopping after epoch 20\n"
     ]
    },
    {
     "data": {
      "text/html": [
       "Waiting for W&B process to finish... <strong style=\"color:green\">(success).</strong>"
      ],
      "text/plain": [
       "<IPython.core.display.HTML object>"
      ]
     },
     "metadata": {},
     "output_type": "display_data"
    },
    {
     "data": {
      "text/html": [
       "<style>\n",
       "    table.wandb td:nth-child(1) { padding: 0 10px; text-align: left ; width: auto;} td:nth-child(2) {text-align: left ; width: 100%}\n",
       "    .wandb-row { display: flex; flex-direction: row; flex-wrap: wrap; justify-content: flex-start; width: 100% }\n",
       "    .wandb-col { display: flex; flex-direction: column; flex-basis: 100%; flex: 1; padding: 10px; }\n",
       "    </style>\n",
       "<div class=\"wandb-row\"><div class=\"wandb-col\"><h3>Run history:</h3><br/><table class=\"wandb\"><tr><td>learning_rate</td><td>█▆▅▄▃▃▂▂▂▁▁▁▁▁▁▁▁▁▁▁</td></tr><tr><td>train_f1_score</td><td>▁▃▄▅▅▆▆▇▇▇▇▇▇███████</td></tr><tr><td>train_loss</td><td>█▅▄▄▃▃▃▂▂▂▂▂▁▁▁▁▁▁▁▁</td></tr><tr><td>val_f1_score</td><td>▁▂▆▅▇▆▇▇▇██▇████████</td></tr><tr><td>val_loss</td><td>█▄▂▃▂▂▁▁▁▁▁▁▁▁▁▁▁▁▁▁</td></tr></table><br/></div><div class=\"wandb-col\"><h3>Run summary:</h3><br/><table class=\"wandb\"><tr><td>learning_rate</td><td>0.0</td></tr><tr><td>train_f1_score</td><td>0.69705</td></tr><tr><td>train_loss</td><td>0.68294</td></tr><tr><td>val_f1_score</td><td>0.63711</td></tr><tr><td>val_loss</td><td>0.79718</td></tr></table><br/></div></div>"
      ],
      "text/plain": [
       "<IPython.core.display.HTML object>"
      ]
     },
     "metadata": {},
     "output_type": "display_data"
    },
    {
     "data": {
      "text/html": [
       " View run <strong style=\"color:#cdcd00\">fold_2_RGB-5species-combined</strong> at: <a href='https://wandb.ai/simon-ecke/wze-uav-combined/runs/czxh9t82' target=\"_blank\">https://wandb.ai/simon-ecke/wze-uav-combined/runs/czxh9t82</a><br/>Synced 5 W&B file(s), 0 media file(s), 0 artifact file(s) and 0 other file(s)"
      ],
      "text/plain": [
       "<IPython.core.display.HTML object>"
      ]
     },
     "metadata": {},
     "output_type": "display_data"
    },
    {
     "data": {
      "text/html": [
       "Find logs at: <code>.\\wandb\\run-20230511_130907-czxh9t82\\logs</code>"
      ],
      "text/plain": [
       "<IPython.core.display.HTML object>"
      ]
     },
     "metadata": {},
     "output_type": "display_data"
    },
    {
     "name": "stdout",
     "output_type": "stream",
     "text": [
      "Deleting variables and emptying cache\n",
      "Memory allocated: 1058010624 bytes\n",
      "--------------------------------------------------\n",
      "\n",
      "Fold : 3\n",
      "TRAIN POSITIVE RATIO: 2.9322698268003644\n",
      "VAL POSITIVE RATIO  : 2.8825896122896855\n",
      "LENGTH TRAIN GROUPS : 4158\n",
      "LENGTH VAL GROUPS   : 1039\n"
     ]
    },
    {
     "data": {
      "text/html": [
       "wandb version 0.15.2 is available!  To upgrade, please run:\n",
       " $ pip install wandb --upgrade"
      ],
      "text/plain": [
       "<IPython.core.display.HTML object>"
      ]
     },
     "metadata": {},
     "output_type": "display_data"
    },
    {
     "data": {
      "text/html": [
       "Tracking run with wandb version 0.14.2"
      ],
      "text/plain": [
       "<IPython.core.display.HTML object>"
      ]
     },
     "metadata": {},
     "output_type": "display_data"
    },
    {
     "data": {
      "text/html": [
       "Run data is saved locally in <code>C:\\Users\\lwfeckesim\\01_PyTorch\\wze-uav\\wze-uav-master\\wandb\\run-20230511_144155-7o1ixoeb</code>"
      ],
      "text/plain": [
       "<IPython.core.display.HTML object>"
      ]
     },
     "metadata": {},
     "output_type": "display_data"
    },
    {
     "data": {
      "text/html": [
       "Syncing run <strong><a href='https://wandb.ai/simon-ecke/wze-uav-combined/runs/7o1ixoeb' target=\"_blank\">fold_3_RGB-5species-combined</a></strong> to <a href='https://wandb.ai/simon-ecke/wze-uav-combined' target=\"_blank\">Weights & Biases</a> (<a href='https://wandb.me/run' target=\"_blank\">docs</a>)<br/>"
      ],
      "text/plain": [
       "<IPython.core.display.HTML object>"
      ]
     },
     "metadata": {},
     "output_type": "display_data"
    },
    {
     "data": {
      "text/html": [
       " View project at <a href='https://wandb.ai/simon-ecke/wze-uav-combined' target=\"_blank\">https://wandb.ai/simon-ecke/wze-uav-combined</a>"
      ],
      "text/plain": [
       "<IPython.core.display.HTML object>"
      ]
     },
     "metadata": {},
     "output_type": "display_data"
    },
    {
     "data": {
      "text/html": [
       " View run at <a href='https://wandb.ai/simon-ecke/wze-uav-combined/runs/7o1ixoeb' target=\"_blank\">https://wandb.ai/simon-ecke/wze-uav-combined/runs/7o1ixoeb</a>"
      ],
      "text/plain": [
       "<IPython.core.display.HTML object>"
      ]
     },
     "metadata": {},
     "output_type": "display_data"
    },
    {
     "name": "stdout",
     "output_type": "stream",
     "text": [
      "There are no same hash_id values in train, val or test datasets. The datasplit was successful\n",
      "Check shapes:\n",
      "\n",
      "Images train dataset: (10970, 250, 250, 3)\n",
      "Labels train dataset: (10970, 1)\n",
      "\n",
      "Images validation dataset: (1039, 250, 250, 3)\n",
      "Labels validation dataset: (1039, 1)\n",
      "\n",
      "--------------------------------------------------\n",
      "Check if the split was stratified: (random_state=42)\n",
      "Healthy trees in train dataset: 3011\n",
      "Moderately stressed trees in train dataset: 1543\n",
      "Severely stressed trees in train dataset: 1388\n",
      "Dead trees in train dataset: 1743\n",
      "Healthy trees in validation dataset: 271\n",
      "Moderately stressed trees in validation dataset: 164\n",
      "Severely stressed trees in validation dataset: 146\n",
      "Dead trees in validation dataset: 159\n",
      "Ratio health trees in validation dataset: 0.07281031703385277\n",
      "Ratio moderately stressed trees in validation dataset: 0.0844925296239052\n",
      "Ratio severely stressed trees in validation dataset: 0.09060773480662983\n",
      "Ratio dead trees in validation dataset: 0.06762389995368226\n",
      "--------------------------------------------------\n",
      "\n",
      "Creating datasets for fold: 3\n",
      "\n",
      "Creating dataloaders for fold: 3\n",
      "\n",
      "Loaded pretrained weights for efficientnet-b7\n",
      "\n",
      "[INFO] Fold number: 3\n",
      "[INFO] Number of epochs: 50\n",
      "[INFO] Batch_size: 32\n",
      "[INFO] Number of bands: 3\n",
      "[INFO] Dropout rate: 0.5\n",
      "[INFO] Gamma learning rate: 0.75\n",
      "[INFO] Memory allocated: 0 bytes\n"
     ]
    },
    {
     "data": {
      "application/vnd.jupyter.widget-view+json": {
       "model_id": "8f9656d5f9204c87a1972871f3f743ff",
       "version_major": 2,
       "version_minor": 0
      },
      "text/plain": [
       "  0%|          | 0/50 [00:00<?, ?it/s]"
      ]
     },
     "metadata": {},
     "output_type": "display_data"
    },
    {
     "name": "stdout",
     "output_type": "stream",
     "text": [
      "Epoch: 1 \n",
      "Learning rate: 0.001\n",
      "Train loss: 1.4409 | Train precision: 0.3594 | Train recall: 0.3212 | Train f1score: 0.3283 | Train acc: 0.4213 | Train kappa: 0.6885 \n",
      "Val loss: 1.5261 | Val precision: 0.2367 | Val recall: 0.2334 | Val f1score: 0.1873 | Val acc: 0.3955 | Val kappa: 0.5565 \n",
      "\n",
      "Epoch: 2 \n",
      "Learning rate: 0.00075\n",
      "Train loss: 1.1468 | Train precision: 0.4655 | Train recall: 0.4441 | Train f1score: 0.4471 | Train acc: 0.5141 | Train kappa: 0.7972 \n",
      "Val loss: 1.4499 | Val precision: 0.3794 | Val recall: 0.3582 | Val f1score: 0.3038 | Val acc: 0.4736 | Val kappa: 0.6945 \n",
      "\n",
      "Epoch: 3 \n",
      "Learning rate: 0.0005625000000000001\n",
      "Train loss: 1.0609 | Train precision: 0.5079 | Train recall: 0.4853 | Train f1score: 0.4899 | Train acc: 0.5385 | Train kappa: 0.8284 \n",
      "Val loss: 1.1707 | Val precision: 0.5097 | Val recall: 0.4753 | Val f1score: 0.4223 | Val acc: 0.5225 | Val kappa: 0.8298 \n",
      "\n",
      "Epoch: 4 \n",
      "Learning rate: 0.000421875\n",
      "Train loss: 0.9749 | Train precision: 0.5499 | Train recall: 0.5248 | Train f1score: 0.5304 | Train acc: 0.5763 | Train kappa: 0.8491 \n",
      "Val loss: 0.9688 | Val precision: 0.5487 | Val recall: 0.5176 | Val f1score: 0.4930 | Val acc: 0.5596 | Val kappa: 0.8605 \n",
      "\n",
      "Epoch: 5 \n",
      "Learning rate: 0.00031640625\n",
      "Train loss: 0.9251 | Train precision: 0.5772 | Train recall: 0.5556 | Train f1score: 0.5603 | Train acc: 0.5921 | Train kappa: 0.8725 \n",
      "Val loss: 0.9415 | Val precision: 0.5582 | Val recall: 0.5028 | Val f1score: 0.5051 | Val acc: 0.5645 | Val kappa: 0.8889 \n",
      "\n",
      "Epoch: 6 \n",
      "Learning rate: 0.0002373046875\n",
      "Train loss: 0.9032 | Train precision: 0.6002 | Train recall: 0.5699 | Train f1score: 0.5793 | Train acc: 0.6009 | Train kappa: 0.8769 \n",
      "Val loss: 0.9472 | Val precision: 0.6069 | Val recall: 0.5144 | Val f1score: 0.5220 | Val acc: 0.6006 | Val kappa: 0.8744 \n",
      "\n",
      "Epoch: 7 \n",
      "Learning rate: 0.000177978515625\n",
      "Train loss: 0.8578 | Train precision: 0.6334 | Train recall: 0.6031 | Train f1score: 0.6123 | Train acc: 0.6300 | Train kappa: 0.8907 \n",
      "Val loss: 0.8980 | Val precision: 0.6292 | Val recall: 0.5048 | Val f1score: 0.5251 | Val acc: 0.5947 | Val kappa: 0.8852 \n",
      "\n",
      "Epoch: 8 \n",
      "Learning rate: 0.00013348388671875\n",
      "Train loss: 0.8307 | Train precision: 0.6333 | Train recall: 0.6022 | Train f1score: 0.6105 | Train acc: 0.6293 | Train kappa: 0.8979 \n",
      "Val loss: 0.8589 | Val precision: 0.6062 | Val recall: 0.5418 | Val f1score: 0.5617 | Val acc: 0.6113 | Val kappa: 0.8945 \n",
      "\n",
      "Epoch: 9 \n",
      "Learning rate: 0.0001001129150390625\n",
      "Train loss: 0.8050 | Train precision: 0.6439 | Train recall: 0.6162 | Train f1score: 0.6244 | Train acc: 0.6419 | Train kappa: 0.9014 \n",
      "Val loss: 0.8643 | Val precision: 0.6007 | Val recall: 0.5414 | Val f1score: 0.5541 | Val acc: 0.6182 | Val kappa: 0.8972 \n",
      "\n",
      "Epoch: 10 \n",
      "Learning rate: 7.508468627929687e-05\n",
      "Train loss: 0.7763 | Train precision: 0.6632 | Train recall: 0.6364 | Train f1score: 0.6447 | Train acc: 0.6507 | Train kappa: 0.9071 \n",
      "Val loss: 0.8575 | Val precision: 0.6145 | Val recall: 0.5658 | Val f1score: 0.5768 | Val acc: 0.6328 | Val kappa: 0.9111 \n",
      "\n",
      "Epoch: 11 \n",
      "Learning rate: 5.6313514709472656e-05\n",
      "Train loss: 0.7723 | Train precision: 0.6565 | Train recall: 0.6299 | Train f1score: 0.6394 | Train acc: 0.6516 | Train kappa: 0.9108 \n",
      "Val loss: 0.8340 | Val precision: 0.6157 | Val recall: 0.5670 | Val f1score: 0.5808 | Val acc: 0.6338 | Val kappa: 0.9100 \n",
      "\n",
      "Epoch: 12 \n",
      "Learning rate: 4.223513603210449e-05\n",
      "Train loss: 0.7486 | Train precision: 0.6778 | Train recall: 0.6487 | Train f1score: 0.6581 | Train acc: 0.6633 | Train kappa: 0.9169 \n",
      "Val loss: 0.8397 | Val precision: 0.6154 | Val recall: 0.5862 | Val f1score: 0.5858 | Val acc: 0.6270 | Val kappa: 0.9023 \n",
      "\n",
      "Epoch: 13 \n",
      "Learning rate: 3.167635202407837e-05\n",
      "Train loss: 0.7267 | Train precision: 0.6886 | Train recall: 0.6623 | Train f1score: 0.6703 | Train acc: 0.6762 | Train kappa: 0.9197 \n",
      "Val loss: 0.8470 | Val precision: 0.6162 | Val recall: 0.5648 | Val f1score: 0.5715 | Val acc: 0.6221 | Val kappa: 0.9176 \n",
      "\n",
      "Epoch: 14 \n",
      "Learning rate: 2.3757264018058778e-05\n",
      "Train loss: 0.7318 | Train precision: 0.6790 | Train recall: 0.6473 | Train f1score: 0.6559 | Train acc: 0.6724 | Train kappa: 0.9190 \n",
      "Val loss: 0.8358 | Val precision: 0.6194 | Val recall: 0.5746 | Val f1score: 0.5819 | Val acc: 0.6328 | Val kappa: 0.9206 \n",
      "\n",
      "Epoch: 15 \n",
      "Learning rate: 1.7817948013544083e-05\n",
      "Train loss: 0.7254 | Train precision: 0.6916 | Train recall: 0.6644 | Train f1score: 0.6730 | Train acc: 0.6793 | Train kappa: 0.9217 \n",
      "Val loss: 0.8374 | Val precision: 0.6078 | Val recall: 0.5606 | Val f1score: 0.5689 | Val acc: 0.6230 | Val kappa: 0.9112 \n",
      "\n",
      "Epoch: 16 \n",
      "Learning rate: 1.3363461010158063e-05\n",
      "Train loss: 0.7244 | Train precision: 0.6900 | Train recall: 0.6658 | Train f1score: 0.6727 | Train acc: 0.6801 | Train kappa: 0.9197 \n",
      "Val loss: 0.8411 | Val precision: 0.6115 | Val recall: 0.5672 | Val f1score: 0.5771 | Val acc: 0.6279 | Val kappa: 0.9178 \n",
      "\n",
      "Epoch: 17 \n",
      "Learning rate: 1.0022595757618546e-05\n",
      "Train loss: 0.7285 | Train precision: 0.6843 | Train recall: 0.6613 | Train f1score: 0.6683 | Train acc: 0.6750 | Train kappa: 0.9236 \n",
      "Val loss: 0.8374 | Val precision: 0.6162 | Val recall: 0.5777 | Val f1score: 0.5860 | Val acc: 0.6318 | Val kappa: 0.9207 \n",
      "\n",
      "Epoch: 18 \n",
      "Learning rate: 7.51694681821391e-06\n",
      "Train loss: 0.7089 | Train precision: 0.7068 | Train recall: 0.6746 | Train f1score: 0.6861 | Train acc: 0.6894 | Train kappa: 0.9208 \n",
      "Val loss: 0.8410 | Val precision: 0.6142 | Val recall: 0.5705 | Val f1score: 0.5791 | Val acc: 0.6289 | Val kappa: 0.9171 \n",
      "\n",
      "Epoch: 19 \n",
      "Learning rate: 5.637710113660432e-06\n",
      "Train loss: 0.7060 | Train precision: 0.6918 | Train recall: 0.6728 | Train f1score: 0.6789 | Train acc: 0.6840 | Train kappa: 0.9265 \n",
      "Val loss: 0.8367 | Val precision: 0.6148 | Val recall: 0.5729 | Val f1score: 0.5804 | Val acc: 0.6279 | Val kappa: 0.9200 \n",
      "\n",
      "Epoch: 20 \n",
      "Learning rate: 4.228282585245324e-06\n",
      "Train loss: 0.7154 | Train precision: 0.6989 | Train recall: 0.6714 | Train f1score: 0.6798 | Train acc: 0.6810 | Train kappa: 0.9281 \n",
      "Val loss: 0.8399 | Val precision: 0.6177 | Val recall: 0.5720 | Val f1score: 0.5820 | Val acc: 0.6270 | Val kappa: 0.9164 \n",
      "\n",
      "Epoch: 21 \n",
      "Learning rate: 3.1712119389339933e-06\n",
      "Train loss: 0.7011 | Train precision: 0.7088 | Train recall: 0.6829 | Train f1score: 0.6929 | Train acc: 0.6893 | Train kappa: 0.9298 \n",
      "Val loss: 0.8368 | Val precision: 0.6044 | Val recall: 0.5636 | Val f1score: 0.5731 | Val acc: 0.6240 | Val kappa: 0.9188 \n",
      "\n",
      "Early stopping after epoch 21\n"
     ]
    },
    {
     "data": {
      "text/html": [
       "Waiting for W&B process to finish... <strong style=\"color:green\">(success).</strong>"
      ],
      "text/plain": [
       "<IPython.core.display.HTML object>"
      ]
     },
     "metadata": {},
     "output_type": "display_data"
    },
    {
     "data": {
      "application/vnd.jupyter.widget-view+json": {
       "model_id": "d309a6e10eec4c2a8873cc534a68eb14",
       "version_major": 2,
       "version_minor": 0
      },
      "text/plain": [
       "VBox(children=(Label(value='0.001 MB of 0.001 MB uploaded (0.000 MB deduped)\\r'), FloatProgress(value=1.0, max…"
      ]
     },
     "metadata": {},
     "output_type": "display_data"
    },
    {
     "data": {
      "text/html": [
       "<style>\n",
       "    table.wandb td:nth-child(1) { padding: 0 10px; text-align: left ; width: auto;} td:nth-child(2) {text-align: left ; width: 100%}\n",
       "    .wandb-row { display: flex; flex-direction: row; flex-wrap: wrap; justify-content: flex-start; width: 100% }\n",
       "    .wandb-col { display: flex; flex-direction: column; flex-basis: 100%; flex: 1; padding: 10px; }\n",
       "    </style>\n",
       "<div class=\"wandb-row\"><div class=\"wandb-col\"><h3>Run history:</h3><br/><table class=\"wandb\"><tr><td>learning_rate</td><td>█▆▅▄▃▃▂▂▂▂▁▁▁▁▁▁▁▁▁▁▁</td></tr><tr><td>train_f1_score</td><td>▁▃▄▅▅▆▆▆▇▇▇▇█▇███████</td></tr><tr><td>train_loss</td><td>█▅▄▄▃▃▂▂▂▂▂▁▁▁▁▁▁▁▁▁▁</td></tr><tr><td>val_f1_score</td><td>▁▃▅▆▇▇▇█▇████████████</td></tr><tr><td>val_loss</td><td>█▇▄▂▂▂▂▁▁▁▁▁▁▁▁▁▁▁▁▁▁</td></tr></table><br/></div><div class=\"wandb-col\"><h3>Run summary:</h3><br/><table class=\"wandb\"><tr><td>learning_rate</td><td>0.0</td></tr><tr><td>train_f1_score</td><td>0.69285</td></tr><tr><td>train_loss</td><td>0.70107</td></tr><tr><td>val_f1_score</td><td>0.57311</td></tr><tr><td>val_loss</td><td>0.83683</td></tr></table><br/></div></div>"
      ],
      "text/plain": [
       "<IPython.core.display.HTML object>"
      ]
     },
     "metadata": {},
     "output_type": "display_data"
    },
    {
     "data": {
      "text/html": [
       " View run <strong style=\"color:#cdcd00\">fold_3_RGB-5species-combined</strong> at: <a href='https://wandb.ai/simon-ecke/wze-uav-combined/runs/7o1ixoeb' target=\"_blank\">https://wandb.ai/simon-ecke/wze-uav-combined/runs/7o1ixoeb</a><br/>Synced 5 W&B file(s), 0 media file(s), 0 artifact file(s) and 0 other file(s)"
      ],
      "text/plain": [
       "<IPython.core.display.HTML object>"
      ]
     },
     "metadata": {},
     "output_type": "display_data"
    },
    {
     "data": {
      "text/html": [
       "Find logs at: <code>.\\wandb\\run-20230511_144155-7o1ixoeb\\logs</code>"
      ],
      "text/plain": [
       "<IPython.core.display.HTML object>"
      ]
     },
     "metadata": {},
     "output_type": "display_data"
    },
    {
     "name": "stdout",
     "output_type": "stream",
     "text": [
      "Deleting variables and emptying cache\n",
      "Memory allocated: 1052198400 bytes\n",
      "--------------------------------------------------\n",
      "\n",
      "Fold : 4\n",
      "TRAIN POSITIVE RATIO: 2.9034911350758543\n",
      "VAL POSITIVE RATIO  : 2.997103548153512\n",
      "LENGTH TRAIN GROUPS : 4156\n",
      "LENGTH VAL GROUPS   : 1041\n"
     ]
    },
    {
     "data": {
      "text/html": [
       "wandb version 0.15.2 is available!  To upgrade, please run:\n",
       " $ pip install wandb --upgrade"
      ],
      "text/plain": [
       "<IPython.core.display.HTML object>"
      ]
     },
     "metadata": {},
     "output_type": "display_data"
    },
    {
     "data": {
      "text/html": [
       "Tracking run with wandb version 0.14.2"
      ],
      "text/plain": [
       "<IPython.core.display.HTML object>"
      ]
     },
     "metadata": {},
     "output_type": "display_data"
    },
    {
     "data": {
      "text/html": [
       "Run data is saved locally in <code>C:\\Users\\lwfeckesim\\01_PyTorch\\wze-uav\\wze-uav-master\\wandb\\run-20230511_162214-a5nd5hi9</code>"
      ],
      "text/plain": [
       "<IPython.core.display.HTML object>"
      ]
     },
     "metadata": {},
     "output_type": "display_data"
    },
    {
     "data": {
      "text/html": [
       "Syncing run <strong><a href='https://wandb.ai/simon-ecke/wze-uav-combined/runs/a5nd5hi9' target=\"_blank\">fold_4_RGB-5species-combined</a></strong> to <a href='https://wandb.ai/simon-ecke/wze-uav-combined' target=\"_blank\">Weights & Biases</a> (<a href='https://wandb.me/run' target=\"_blank\">docs</a>)<br/>"
      ],
      "text/plain": [
       "<IPython.core.display.HTML object>"
      ]
     },
     "metadata": {},
     "output_type": "display_data"
    },
    {
     "data": {
      "text/html": [
       " View project at <a href='https://wandb.ai/simon-ecke/wze-uav-combined' target=\"_blank\">https://wandb.ai/simon-ecke/wze-uav-combined</a>"
      ],
      "text/plain": [
       "<IPython.core.display.HTML object>"
      ]
     },
     "metadata": {},
     "output_type": "display_data"
    },
    {
     "data": {
      "text/html": [
       " View run at <a href='https://wandb.ai/simon-ecke/wze-uav-combined/runs/a5nd5hi9' target=\"_blank\">https://wandb.ai/simon-ecke/wze-uav-combined/runs/a5nd5hi9</a>"
      ],
      "text/plain": [
       "<IPython.core.display.HTML object>"
      ]
     },
     "metadata": {},
     "output_type": "display_data"
    },
    {
     "name": "stdout",
     "output_type": "stream",
     "text": [
      "There are no same hash_id values in train, val or test datasets. The datasplit was successful\n",
      "Check shapes:\n",
      "\n",
      "Images train dataset: (10942, 250, 250, 3)\n",
      "Labels train dataset: (10942, 1)\n",
      "\n",
      "Images validation dataset: (1042, 250, 250, 3)\n",
      "Labels validation dataset: (1042, 1)\n",
      "\n",
      "--------------------------------------------------\n",
      "Check if the split was stratified: (random_state=42)\n",
      "Healthy trees in train dataset: 2996\n",
      "Moderately stressed trees in train dataset: 1574\n",
      "Severely stressed trees in train dataset: 1433\n",
      "Dead trees in train dataset: 1737\n",
      "Healthy trees in validation dataset: 282\n",
      "Moderately stressed trees in validation dataset: 144\n",
      "Severely stressed trees in validation dataset: 128\n",
      "Dead trees in validation dataset: 165\n",
      "Ratio health trees in validation dataset: 0.07576571735626007\n",
      "Ratio moderately stressed trees in validation dataset: 0.07418856259659969\n",
      "Ratio severely stressed trees in validation dataset: 0.07955801104972375\n",
      "Ratio dead trees in validation dataset: 0.059286706808707734\n",
      "--------------------------------------------------\n",
      "\n",
      "Creating datasets for fold: 4\n",
      "\n",
      "Creating dataloaders for fold: 4\n",
      "\n",
      "Loaded pretrained weights for efficientnet-b7\n",
      "\n",
      "[INFO] Fold number: 4\n",
      "[INFO] Number of epochs: 50\n",
      "[INFO] Batch_size: 32\n",
      "[INFO] Number of bands: 3\n",
      "[INFO] Dropout rate: 0.5\n",
      "[INFO] Gamma learning rate: 0.75\n",
      "[INFO] Memory allocated: 0 bytes\n"
     ]
    },
    {
     "data": {
      "application/vnd.jupyter.widget-view+json": {
       "model_id": "c18f003aa26248a49188677a7d2bb420",
       "version_major": 2,
       "version_minor": 0
      },
      "text/plain": [
       "  0%|          | 0/50 [00:00<?, ?it/s]"
      ]
     },
     "metadata": {},
     "output_type": "display_data"
    },
    {
     "name": "stdout",
     "output_type": "stream",
     "text": [
      "Epoch: 1 \n",
      "Learning rate: 0.001\n",
      "Train loss: 1.4033 | Train precision: 0.3673 | Train recall: 0.3367 | Train f1score: 0.3429 | Train acc: 0.4325 | Train kappa: 0.6981 \n",
      "Val loss: 1.4449 | Val precision: 0.3073 | Val recall: 0.3356 | Val f1score: 0.2568 | Val acc: 0.4111 | Val kappa: 0.6670 \n",
      "\n",
      "Epoch: 2 \n",
      "Learning rate: 0.00075\n",
      "Train loss: 1.1314 | Train precision: 0.4701 | Train recall: 0.4478 | Train f1score: 0.4513 | Train acc: 0.5162 | Train kappa: 0.8063 \n",
      "Val loss: 1.3008 | Val precision: 0.4566 | Val recall: 0.4157 | Val f1score: 0.3964 | Val acc: 0.4971 | Val kappa: 0.7493 \n",
      "\n",
      "Epoch: 3 \n",
      "Learning rate: 0.0005625000000000001\n",
      "Train loss: 1.0366 | Train precision: 0.5409 | Train recall: 0.5151 | Train f1score: 0.5208 | Train acc: 0.5595 | Train kappa: 0.8358 \n",
      "Val loss: 1.0309 | Val precision: 0.5387 | Val recall: 0.5580 | Val f1score: 0.5139 | Val acc: 0.5439 | Val kappa: 0.8667 \n",
      "\n",
      "Epoch: 4 \n",
      "Learning rate: 0.000421875\n",
      "Train loss: 0.9591 | Train precision: 0.5671 | Train recall: 0.5437 | Train f1score: 0.5509 | Train acc: 0.5836 | Train kappa: 0.8729 \n",
      "Val loss: 0.9476 | Val precision: 0.5345 | Val recall: 0.5049 | Val f1score: 0.5059 | Val acc: 0.5967 | Val kappa: 0.8658 \n",
      "\n",
      "Epoch: 5 \n",
      "Learning rate: 0.00031640625\n",
      "Train loss: 0.8944 | Train precision: 0.5926 | Train recall: 0.5680 | Train f1score: 0.5738 | Train acc: 0.6052 | Train kappa: 0.8800 \n",
      "Val loss: 1.0082 | Val precision: 0.5590 | Val recall: 0.6128 | Val f1score: 0.5548 | Val acc: 0.5762 | Val kappa: 0.8649 \n",
      "\n",
      "Epoch: 6 \n",
      "Learning rate: 0.0002373046875\n",
      "Train loss: 0.8650 | Train precision: 0.6132 | Train recall: 0.5825 | Train f1score: 0.5934 | Train acc: 0.6168 | Train kappa: 0.8924 \n",
      "Val loss: 0.8644 | Val precision: 0.6742 | Val recall: 0.6065 | Val f1score: 0.6167 | Val acc: 0.6328 | Val kappa: 0.9000 \n",
      "\n",
      "Epoch: 7 \n",
      "Learning rate: 0.000177978515625\n",
      "Train loss: 0.8347 | Train precision: 0.6283 | Train recall: 0.6054 | Train f1score: 0.6122 | Train acc: 0.6310 | Train kappa: 0.9007 \n",
      "Val loss: 0.8506 | Val precision: 0.6209 | Val recall: 0.5876 | Val f1score: 0.5852 | Val acc: 0.6191 | Val kappa: 0.8975 \n",
      "\n",
      "Epoch: 8 \n",
      "Learning rate: 0.00013348388671875\n",
      "Train loss: 0.8101 | Train precision: 0.6413 | Train recall: 0.6164 | Train f1score: 0.6228 | Train acc: 0.6385 | Train kappa: 0.9029 \n",
      "Val loss: 0.8541 | Val precision: 0.6332 | Val recall: 0.6200 | Val f1score: 0.6110 | Val acc: 0.6416 | Val kappa: 0.9138 \n",
      "\n",
      "Epoch: 9 \n",
      "Learning rate: 0.0001001129150390625\n",
      "Train loss: 0.7678 | Train precision: 0.6632 | Train recall: 0.6402 | Train f1score: 0.6478 | Train acc: 0.6610 | Train kappa: 0.9128 \n",
      "Val loss: 0.8175 | Val precision: 0.6804 | Val recall: 0.6085 | Val f1score: 0.6174 | Val acc: 0.6406 | Val kappa: 0.9112 \n",
      "\n",
      "Epoch: 10 \n",
      "Learning rate: 7.508468627929687e-05\n",
      "Train loss: 0.7630 | Train precision: 0.6666 | Train recall: 0.6356 | Train f1score: 0.6464 | Train acc: 0.6571 | Train kappa: 0.9144 \n",
      "Val loss: 0.8064 | Val precision: 0.6444 | Val recall: 0.6204 | Val f1score: 0.6206 | Val acc: 0.6504 | Val kappa: 0.9129 \n",
      "\n",
      "Epoch: 11 \n",
      "Learning rate: 5.6313514709472656e-05\n",
      "Train loss: 0.7516 | Train precision: 0.6725 | Train recall: 0.6499 | Train f1score: 0.6575 | Train acc: 0.6662 | Train kappa: 0.9150 \n",
      "Val loss: 0.8230 | Val precision: 0.6231 | Val recall: 0.6020 | Val f1score: 0.6027 | Val acc: 0.6377 | Val kappa: 0.9056 \n",
      "\n",
      "Epoch: 12 \n",
      "Learning rate: 4.223513603210449e-05\n",
      "Train loss: 0.7215 | Train precision: 0.6871 | Train recall: 0.6680 | Train f1score: 0.6754 | Train acc: 0.6787 | Train kappa: 0.9308 \n",
      "Val loss: 0.8221 | Val precision: 0.6430 | Val recall: 0.6052 | Val f1score: 0.6004 | Val acc: 0.6387 | Val kappa: 0.9150 \n",
      "\n",
      "Epoch: 13 \n",
      "Learning rate: 3.167635202407837e-05\n",
      "Train loss: 0.7306 | Train precision: 0.6763 | Train recall: 0.6531 | Train f1score: 0.6612 | Train acc: 0.6701 | Train kappa: 0.9268 \n",
      "Val loss: 0.8115 | Val precision: 0.6292 | Val recall: 0.5975 | Val f1score: 0.6007 | Val acc: 0.6357 | Val kappa: 0.9124 \n",
      "\n",
      "Epoch: 14 \n",
      "Learning rate: 2.3757264018058778e-05\n",
      "Train loss: 0.7153 | Train precision: 0.6860 | Train recall: 0.6694 | Train f1score: 0.6754 | Train acc: 0.6782 | Train kappa: 0.9307 \n",
      "Val loss: 0.8042 | Val precision: 0.6264 | Val recall: 0.6054 | Val f1score: 0.6043 | Val acc: 0.6475 | Val kappa: 0.9062 \n",
      "\n",
      "Epoch: 15 \n",
      "Learning rate: 1.7817948013544083e-05\n",
      "Train loss: 0.7014 | Train precision: 0.6993 | Train recall: 0.6799 | Train f1score: 0.6869 | Train acc: 0.6859 | Train kappa: 0.9282 \n",
      "Val loss: 0.8182 | Val precision: 0.6204 | Val recall: 0.6026 | Val f1score: 0.6015 | Val acc: 0.6445 | Val kappa: 0.9029 \n",
      "\n",
      "Epoch: 16 \n",
      "Learning rate: 1.3363461010158063e-05\n",
      "Train loss: 0.7009 | Train precision: 0.7028 | Train recall: 0.6767 | Train f1score: 0.6867 | Train acc: 0.6942 | Train kappa: 0.9251 \n",
      "Val loss: 0.8075 | Val precision: 0.6321 | Val recall: 0.6082 | Val f1score: 0.6069 | Val acc: 0.6445 | Val kappa: 0.9130 \n",
      "\n",
      "Epoch: 17 \n",
      "Learning rate: 1.0022595757618546e-05\n",
      "Train loss: 0.6987 | Train precision: 0.7023 | Train recall: 0.6846 | Train f1score: 0.6904 | Train acc: 0.6872 | Train kappa: 0.9284 \n",
      "Val loss: 0.8130 | Val precision: 0.6271 | Val recall: 0.6096 | Val f1score: 0.6088 | Val acc: 0.6426 | Val kappa: 0.9129 \n",
      "\n",
      "Epoch: 18 \n",
      "Learning rate: 7.51694681821391e-06\n",
      "Train loss: 0.6865 | Train precision: 0.7031 | Train recall: 0.6872 | Train f1score: 0.6934 | Train acc: 0.6953 | Train kappa: 0.9285 \n",
      "Val loss: 0.8061 | Val precision: 0.6226 | Val recall: 0.5987 | Val f1score: 0.6003 | Val acc: 0.6387 | Val kappa: 0.9089 \n",
      "\n",
      "Epoch: 19 \n",
      "Learning rate: 5.637710113660432e-06\n",
      "Train loss: 0.6918 | Train precision: 0.6971 | Train recall: 0.6779 | Train f1score: 0.6853 | Train acc: 0.6900 | Train kappa: 0.9300 \n",
      "Val loss: 0.8078 | Val precision: 0.6365 | Val recall: 0.6070 | Val f1score: 0.6095 | Val acc: 0.6455 | Val kappa: 0.9159 \n",
      "\n",
      "Epoch: 20 \n",
      "Learning rate: 4.228282585245324e-06\n",
      "Train loss: 0.6761 | Train precision: 0.7178 | Train recall: 0.6902 | Train f1score: 0.7009 | Train acc: 0.6958 | Train kappa: 0.9328 \n",
      "Val loss: 0.8101 | Val precision: 0.6208 | Val recall: 0.6031 | Val f1score: 0.6015 | Val acc: 0.6396 | Val kappa: 0.9153 \n",
      "\n",
      "Epoch: 21 \n",
      "Learning rate: 3.1712119389339933e-06\n",
      "Train loss: 0.6817 | Train precision: 0.7047 | Train recall: 0.6889 | Train f1score: 0.6951 | Train acc: 0.6960 | Train kappa: 0.9349 \n",
      "Val loss: 0.8148 | Val precision: 0.6247 | Val recall: 0.6022 | Val f1score: 0.6030 | Val acc: 0.6387 | Val kappa: 0.9131 \n",
      "\n",
      "Epoch: 22 \n",
      "Learning rate: 2.378408954200495e-06\n",
      "Train loss: 0.6909 | Train precision: 0.7062 | Train recall: 0.6839 | Train f1score: 0.6912 | Train acc: 0.6904 | Train kappa: 0.9330 \n",
      "Val loss: 0.8113 | Val precision: 0.6272 | Val recall: 0.6036 | Val f1score: 0.6041 | Val acc: 0.6436 | Val kappa: 0.9123 \n",
      "\n",
      "Epoch: 23 \n",
      "Learning rate: 1.7838067156503713e-06\n",
      "Train loss: 0.6716 | Train precision: 0.7090 | Train recall: 0.6858 | Train f1score: 0.6952 | Train acc: 0.6924 | Train kappa: 0.9370 \n",
      "Val loss: 0.8141 | Val precision: 0.6198 | Val recall: 0.6018 | Val f1score: 0.6000 | Val acc: 0.6455 | Val kappa: 0.9136 \n",
      "\n",
      "Epoch: 24 \n",
      "Learning rate: 1.3378550367377785e-06\n",
      "Train loss: 0.6852 | Train precision: 0.7106 | Train recall: 0.6852 | Train f1score: 0.6943 | Train acc: 0.6946 | Train kappa: 0.9304 \n",
      "Val loss: 0.8149 | Val precision: 0.6186 | Val recall: 0.5997 | Val f1score: 0.5975 | Val acc: 0.6406 | Val kappa: 0.9137 \n",
      "\n",
      "Early stopping after epoch 24\n"
     ]
    },
    {
     "data": {
      "text/html": [
       "Waiting for W&B process to finish... <strong style=\"color:green\">(success).</strong>"
      ],
      "text/plain": [
       "<IPython.core.display.HTML object>"
      ]
     },
     "metadata": {},
     "output_type": "display_data"
    },
    {
     "data": {
      "application/vnd.jupyter.widget-view+json": {
       "model_id": "ac08ee353d0442d0afe3c02b2cb56397",
       "version_major": 2,
       "version_minor": 0
      },
      "text/plain": [
       "VBox(children=(Label(value='0.001 MB of 0.013 MB uploaded (0.000 MB deduped)\\r'), FloatProgress(value=0.099674…"
      ]
     },
     "metadata": {},
     "output_type": "display_data"
    },
    {
     "data": {
      "text/html": [
       "<style>\n",
       "    table.wandb td:nth-child(1) { padding: 0 10px; text-align: left ; width: auto;} td:nth-child(2) {text-align: left ; width: 100%}\n",
       "    .wandb-row { display: flex; flex-direction: row; flex-wrap: wrap; justify-content: flex-start; width: 100% }\n",
       "    .wandb-col { display: flex; flex-direction: column; flex-basis: 100%; flex: 1; padding: 10px; }\n",
       "    </style>\n",
       "<div class=\"wandb-row\"><div class=\"wandb-col\"><h3>Run history:</h3><br/><table class=\"wandb\"><tr><td>learning_rate</td><td>█▆▅▄▃▃▂▂▂▂▁▁▁▁▁▁▁▁▁▁▁▁▁▁</td></tr><tr><td>train_f1_score</td><td>▁▃▄▅▆▆▆▆▇▇▇█▇███████████</td></tr><tr><td>train_loss</td><td>█▅▄▄▃▃▃▂▂▂▂▁▂▁▁▁▁▁▁▁▁▁▁▁</td></tr><tr><td>val_f1_score</td><td>▁▄▆▆▇█▇█████████████████</td></tr><tr><td>val_loss</td><td>█▆▃▃▃▂▂▂▁▁▁▁▁▁▁▁▁▁▁▁▁▁▁▁</td></tr></table><br/></div><div class=\"wandb-col\"><h3>Run summary:</h3><br/><table class=\"wandb\"><tr><td>learning_rate</td><td>0.0</td></tr><tr><td>train_f1_score</td><td>0.69427</td></tr><tr><td>train_loss</td><td>0.68516</td></tr><tr><td>val_f1_score</td><td>0.59753</td></tr><tr><td>val_loss</td><td>0.8149</td></tr></table><br/></div></div>"
      ],
      "text/plain": [
       "<IPython.core.display.HTML object>"
      ]
     },
     "metadata": {},
     "output_type": "display_data"
    },
    {
     "data": {
      "text/html": [
       " View run <strong style=\"color:#cdcd00\">fold_4_RGB-5species-combined</strong> at: <a href='https://wandb.ai/simon-ecke/wze-uav-combined/runs/a5nd5hi9' target=\"_blank\">https://wandb.ai/simon-ecke/wze-uav-combined/runs/a5nd5hi9</a><br/>Synced 5 W&B file(s), 0 media file(s), 0 artifact file(s) and 0 other file(s)"
      ],
      "text/plain": [
       "<IPython.core.display.HTML object>"
      ]
     },
     "metadata": {},
     "output_type": "display_data"
    },
    {
     "data": {
      "text/html": [
       "Find logs at: <code>.\\wandb\\run-20230511_162214-a5nd5hi9\\logs</code>"
      ],
      "text/plain": [
       "<IPython.core.display.HTML object>"
      ]
     },
     "metadata": {},
     "output_type": "display_data"
    },
    {
     "name": "stdout",
     "output_type": "stream",
     "text": [
      "Deleting variables and emptying cache\n",
      "Memory allocated: 1054073344 bytes\n",
      "--------------------------------------------------\n",
      "\n",
      "Fold : 5\n",
      "TRAIN POSITIVE RATIO: 2.898136305499726\n",
      "VAL POSITIVE RATIO  : 3.0184916606236403\n",
      "LENGTH TRAIN GROUPS : 4157\n",
      "LENGTH VAL GROUPS   : 1040\n"
     ]
    },
    {
     "data": {
      "text/html": [
       "wandb version 0.15.2 is available!  To upgrade, please run:\n",
       " $ pip install wandb --upgrade"
      ],
      "text/plain": [
       "<IPython.core.display.HTML object>"
      ]
     },
     "metadata": {},
     "output_type": "display_data"
    },
    {
     "data": {
      "text/html": [
       "Tracking run with wandb version 0.14.2"
      ],
      "text/plain": [
       "<IPython.core.display.HTML object>"
      ]
     },
     "metadata": {},
     "output_type": "display_data"
    },
    {
     "data": {
      "text/html": [
       "Run data is saved locally in <code>C:\\Users\\lwfeckesim\\01_PyTorch\\wze-uav\\wze-uav-master\\wandb\\run-20230511_183006-v0du2yud</code>"
      ],
      "text/plain": [
       "<IPython.core.display.HTML object>"
      ]
     },
     "metadata": {},
     "output_type": "display_data"
    },
    {
     "data": {
      "text/html": [
       "Syncing run <strong><a href='https://wandb.ai/simon-ecke/wze-uav-combined/runs/v0du2yud' target=\"_blank\">fold_5_RGB-5species-combined</a></strong> to <a href='https://wandb.ai/simon-ecke/wze-uav-combined' target=\"_blank\">Weights & Biases</a> (<a href='https://wandb.me/run' target=\"_blank\">docs</a>)<br/>"
      ],
      "text/plain": [
       "<IPython.core.display.HTML object>"
      ]
     },
     "metadata": {},
     "output_type": "display_data"
    },
    {
     "data": {
      "text/html": [
       " View project at <a href='https://wandb.ai/simon-ecke/wze-uav-combined' target=\"_blank\">https://wandb.ai/simon-ecke/wze-uav-combined</a>"
      ],
      "text/plain": [
       "<IPython.core.display.HTML object>"
      ]
     },
     "metadata": {},
     "output_type": "display_data"
    },
    {
     "data": {
      "text/html": [
       " View run at <a href='https://wandb.ai/simon-ecke/wze-uav-combined/runs/v0du2yud' target=\"_blank\">https://wandb.ai/simon-ecke/wze-uav-combined/runs/v0du2yud</a>"
      ],
      "text/plain": [
       "<IPython.core.display.HTML object>"
      ]
     },
     "metadata": {},
     "output_type": "display_data"
    },
    {
     "name": "stdout",
     "output_type": "stream",
     "text": [
      "There are no same hash_id values in train, val or test datasets. The datasplit was successful\n",
      "Check shapes:\n",
      "\n",
      "Images train dataset: (10946, 250, 250, 3)\n",
      "Labels train dataset: (10946, 1)\n",
      "\n",
      "Images validation dataset: (1040, 250, 250, 3)\n",
      "Labels validation dataset: (1040, 1)\n",
      "\n",
      "--------------------------------------------------\n",
      "Check if the split was stratified: (random_state=42)\n",
      "Healthy trees in train dataset: 2988\n",
      "Moderately stressed trees in train dataset: 1550\n",
      "Severely stressed trees in train dataset: 1488\n",
      "Dead trees in train dataset: 1681\n",
      "Healthy trees in validation dataset: 289\n",
      "Moderately stressed trees in validation dataset: 150\n",
      "Severely stressed trees in validation dataset: 112\n",
      "Dead trees in validation dataset: 176\n",
      "Ratio health trees in validation dataset: 0.07764642665233745\n",
      "Ratio moderately stressed trees in validation dataset: 0.07727975270479134\n",
      "Ratio severely stressed trees in validation dataset: 0.08287292817679558\n",
      "Ratio dead trees in validation dataset: 0.05187586845761927\n",
      "--------------------------------------------------\n",
      "\n",
      "Creating datasets for fold: 5\n",
      "\n",
      "Creating dataloaders for fold: 5\n",
      "\n",
      "Loaded pretrained weights for efficientnet-b7\n",
      "\n",
      "[INFO] Fold number: 5\n",
      "[INFO] Number of epochs: 50\n",
      "[INFO] Batch_size: 32\n",
      "[INFO] Number of bands: 3\n",
      "[INFO] Dropout rate: 0.5\n",
      "[INFO] Gamma learning rate: 0.75\n",
      "[INFO] Memory allocated: 0 bytes\n"
     ]
    },
    {
     "data": {
      "application/vnd.jupyter.widget-view+json": {
       "model_id": "4acf46ecb50d478f9936fbc2e700d2ae",
       "version_major": 2,
       "version_minor": 0
      },
      "text/plain": [
       "  0%|          | 0/50 [00:00<?, ?it/s]"
      ]
     },
     "metadata": {},
     "output_type": "display_data"
    }
   ],
   "source": [
    "%%time\n",
    "\n",
    "# Set the random seeds\n",
    "set_seeds(42)\n",
    "\n",
    "# Define the number of folds\n",
    "num_folds = 5\n",
    "\n",
    "# group the hashIDs to get the unique values of hashIDs remaining in the subset  \n",
    "groups = sub_hash_id[:, 0] \n",
    "print(\"ORIGINAL POSITIVE RATIO:\", sub_label_set.mean())\n",
    "# create a StratifiedGroupKFold instance\n",
    "kf = StratifiedGroupKFold(n_splits=num_folds, shuffle=True, random_state=42)\n",
    "\n",
    "# loop through the folds\n",
    "for fold, (train_ids, val_ids) in enumerate(kf.split(sub_image_set, sub_label_set, groups)):\n",
    "    print(\"Fold :\", fold+1)\n",
    "    print(\"TRAIN POSITIVE RATIO:\", sub_label_set[train_ids].mean())\n",
    "    print(\"VAL POSITIVE RATIO  :\", sub_label_set[val_ids].mean())\n",
    "    print(\"LENGTH TRAIN GROUPS :\", len(set(groups[train_ids])))\n",
    "    print(\"LENGTH VAL GROUPS   :\", len(set(groups[val_ids])))\n",
    "    \n",
    "    train_ids = sub_hash_id[:, 0][train_ids]\n",
    "    val_ids = np.unique(sub_hash_id[:, 0][val_ids])\n",
    "\n",
    "    torch.cuda.empty_cache()\n",
    "    \n",
    "    # Initialize a new wandb run for this fold\n",
    "    wandb.init(project='wze-uav-combined', name=f\"fold_{fold + 1}_{extra}\")\n",
    "    \n",
    "    # 1. Split data into train and validation set\n",
    "    # Get the training and testing data for this fold\n",
    "    # Use np.isin() to create boolean arrays indicating which indices belong to train or test sets\n",
    "    train_indices = np.isin(sub_hash_id[:,0], train_ids)\n",
    "    \n",
    "    val_indices = np.zeros_like(train_indices)  # initialize to all False\n",
    "    for hash_id_val in val_ids:\n",
    "        # select one image ID randomly from either 2020 or 2021 or 2022 for each unique hash ID in the test set\n",
    "        temp = np.unique(sub_hash_id[(sub_hash_id[:, 0] == hash_id_val), 1]) # check how many years are available per hashID\n",
    "        if len(temp) == 1:\n",
    "            year = temp[0]\n",
    "        elif len(temp) == 2:\n",
    "            year = np.random.choice(temp)\n",
    "        else:\n",
    "            year = np.random.choice(temp)\n",
    "        \n",
    "        # select image ID using the conditions\n",
    "        image_ids = sub_hash_id[(sub_hash_id[:,0] == hash_id_val) & (sub_hash_id[:,1] == year), 0]\n",
    "    \n",
    "        # mark the index corresponding to the selected image ID and hash ID as True in the test indices array\n",
    "        val_indices[(sub_hash_id[:,0] == hash_id_val) & (sub_hash_id[:,1] == year) & (np.isin(sub_hash_id[:,0], image_ids))] = True \n",
    "    \n",
    "    # Reshape boolean arrays to match shape of image_set and label_set\n",
    "    train_indices = train_indices.reshape(-1, 1)\n",
    "    val_indices = val_indices.reshape(-1, 1)\n",
    "    \n",
    "    # Select images and labels for train and validation sets\n",
    "    train_image_set = sub_image_set[train_indices[:, 0]]\n",
    "    train_label_set = sub_label_set[train_indices[:, 0]]\n",
    "    train_hash_id = sub_hash_id[train_indices[:, 0]][:,0]\n",
    "    train_species_set = sub_species_set[train_indices[:, 0]]\n",
    "    val_image_set = sub_image_set[val_indices[:, 0]]\n",
    "    val_label_set = sub_label_set[val_indices[:, 0]]\n",
    "    val_hash_id = sub_hash_id[val_indices[:, 0]][:,0]\n",
    "    val_species_set = sub_species_set[val_indices[:, 0]]\n",
    "    # reshape \n",
    "    train_label_set = train_label_set.reshape(-1, 1)\n",
    "    val_label_set = val_label_set.reshape(-1, 1)\n",
    "    train_species_set = train_species_set.reshape(-1, 1)\n",
    "    val_species_set = val_species_set.reshape(-1, 1)\n",
    "    \n",
    "    # check if there are any group overlaps between the data splits\n",
    "    hash_set = set(train_hash_id)\n",
    "    val_hash_set = set(val_hash_id)\n",
    "    test_hash_set = set(test_hash_id[:, 0].flatten())\n",
    "    intersection = hash_set.intersection(val_hash_set)\n",
    "    intersection2 = test_hash_set.intersection(val_hash_set)\n",
    "    intersection3 = hash_set.intersection(test_hash_set)\n",
    "    if intersection:\n",
    "        print(f\"Hash_id values in both train and val sets: {len(intersection)}\")\n",
    "        print(f\"Hash_id values in both test and val sets: {len(intersection2)}\")\n",
    "        print(f\"Hash_id values in both train and test sets: {len(intersection3)}\")\n",
    "    else:\n",
    "        print(\"There are no same hash_id values in train, val or test datasets. The datasplit was successful\")\n",
    "    \n",
    "         \n",
    "    print(\"Check shapes:\\n\")\n",
    "    print(f\"Images train dataset: {train_image_set.shape}\")\n",
    "    print(f\"Labels train dataset: {train_label_set.shape}\\n\")\n",
    "    \n",
    "    print(f\"Images validation dataset: {val_image_set.shape}\")\n",
    "    print(f\"Labels validation dataset: {val_label_set.shape}\\n\")\n",
    "    print('-'*50)\n",
    "    print (f\"Check if the split was stratified: (random_state=42)\")\n",
    "    print(f\"Picea abies healthy in train dataset: {np.count_nonzero(train_label_set == 0)}\")\n",
    "    print(f\"Picea abies stressed in train dataset: {np.count_nonzero(train_label_set == 1)}\")\n",
    "    print(f\"Pinus sylvestris healthy in train dataset: {np.count_nonzero(train_label_set == 2)}\")\n",
    "    print(f\"Pinus sylvestris stressed in train dataset: {np.count_nonzero(train_label_set == 3)}\")\n",
    "    print(f\"Abies alba healthy in train dataset: {np.count_nonzero(train_label_set == 4)}\")\n",
    "    print(f\"Abies alba stressed in train dataset: {np.count_nonzero(train_label_set == 5)}\")\n",
    "    print(f\"Fagus sylvatica healthy in train dataset: {np.count_nonzero(train_label_set == 6)}\")\n",
    "    print(f\"Fagus sylvatica stressed in train dataset: {np.count_nonzero(train_label_set == 7)}\")\n",
    "    print(f\"Quercus robur/petraea healthy in train dataset: {np.count_nonzero(train_label_set == 8)}\")\n",
    "    print(f\"Quercus robur/petraea stressed in train dataset: {np.count_nonzero(train_label_set == 9)}\")\n",
    "    print(f\"Dead trees in train dataset: {np.count_nonzero(train_label_set == 10)}\")\n",
    "    print(f\"Picea abies healthy in validation dataset: {np.count_nonzero(val_label_set == 0)}\")\n",
    "    print(f\"Picea abies stressed in validation dataset: {np.count_nonzero(val_label_set == 1)}\")\n",
    "    print(f\"Pinus sylvestris healthy in validation dataset: {np.count_nonzero(val_label_set == 2)}\")\n",
    "    print(f\"Pinus sylvestris stressed in validation dataset: {np.count_nonzero(val_label_set == 3)}\")\n",
    "    print(f\"Abies alba healthy in validation dataset: {np.count_nonzero(val_label_set == 4)}\")\n",
    "    print(f\"Abies alba stressed in validation dataset: {np.count_nonzero(val_label_set == 5)}\")\n",
    "    print(f\"Fagus sylvatica healthy in validation dataset: {np.count_nonzero(val_label_set == 6)}\")\n",
    "    print(f\"Fagus sylvatica stressed in validation dataset: {np.count_nonzero(val_label_set == 7)}\")\n",
    "    print(f\"Quercus robur/petraea healthy in validation dataset: {np.count_nonzero(val_label_set == 8)}\")\n",
    "    print(f\"Quercus robur/petraea stressed in validation dataset: {np.count_nonzero(val_label_set == 9)}\")\n",
    "    print(f\"Dead trees in validation dataset: {np.count_nonzero(val_label_set == 10)}\")\n",
    "    print(\"-\"*50)\n",
    "   \n",
    "    # 2. Create train and validation dataset. (choose custom dataset loader with 3 - 5 classes)\n",
    "    print(f\"\\nCreating datasets for fold: {fold + 1}\\n\")\n",
    "    train_dataset = data_loader.CustomDataset(data=train_image_set, labels=train_label_set, class_names=class_names, species = train_species_set,\n",
    "                                                         transform=transform_train)\n",
    "    \n",
    "    val_dataset = data_loader.CustomDataset(data=val_image_set, labels=val_label_set, class_names=class_names,\n",
    "                                                       species = val_species_set, transform=transform)\n",
    "   \n",
    "    # 3. Create train and validation dataloader\n",
    "    # create sampler for oversampling of the minority classes\n",
    "    sampler = data_loader.data_sampler(dataset=train_dataset, class_names=class_names)\n",
    "    print(f\"Creating dataloaders for fold: {fold +1}\\n\")\n",
    "    train_dataloader = DataLoader(train_dataset, batch_size=batch_size, persistent_workers=True, pin_memory=True, num_workers=NUM_WORKERS, generator=g,\n",
    "                              sampler=sampler, shuffle=False, drop_last=True) # shuffle false because of the sampler\n",
    "\n",
    "    val_dataloader = DataLoader(val_dataset, batch_size=batch_size, persistent_workers=True, pin_memory=True, num_workers=NUM_WORKERS, shuffle=False,\n",
    "                             drop_last=True)\n",
    "    \n",
    "    model = model_effnet.EfficientNet.from_pretrained('efficientnet-b7', in_channels=n_bands, num_classes=num_classes, dropout_rate=dropout_rate)\n",
    "    #model = models.create_effnetb7(output_shape=num_classes, unfreeze=True, dropout_rate=dropout_rate, device=device)\n",
    "   \n",
    "    loss_fn = nn.CrossEntropyLoss()\n",
    "    optimizer = torch.optim.Adam(params=model.parameters(), lr=lr)\n",
    "    lr_scheduler = CustomExponentialLR(optimizer, gamma=gamma, min_lr=min_lr)\n",
    "\n",
    "    fold += 1\n",
    "    print(f\"\\n[INFO] Fold number: {fold}\")\n",
    "    print(f\"[INFO] Number of epochs: {epochs}\")\n",
    "    print(f\"[INFO] Batch_size: {batch_size}\")\n",
    "    print(f\"[INFO] Number of bands: {n_bands}\")\n",
    "    print(f\"[INFO] Dropout rate: {dropout_rate}\")\n",
    "    print(f\"[INFO] Gamma learning rate: {gamma}\")\n",
    "    print(f\"[INFO] Memory allocated: {torch.cuda.memory_allocated()} bytes\")\n",
    "    # 4. Train model with k fold dataloaders and track experiments\n",
    "    \n",
    "    if fold == 1:\n",
    "        fold1_results = train(model=model, model_name=model_name, n_bands=n_bands, batch_size=batch_size,train_dataloader=train_dataloader, val_dataloader=val_dataloader, \n",
    "                        optimizer=optimizer, loss_fn=loss_fn, lr_scheduler=lr_scheduler, num_classes=num_classes, epochs=epochs, experiment_num=fold, device=device,\n",
    "                        writer=None, early_stop_patience = patience)\n",
    "       \n",
    "    elif fold == 2:\n",
    "        fold2_results = train(model=model, model_name=model_name, n_bands=n_bands, batch_size=batch_size,train_dataloader=train_dataloader, val_dataloader=val_dataloader, \n",
    "                        optimizer=optimizer, loss_fn=loss_fn, lr_scheduler=lr_scheduler, num_classes=num_classes, epochs=epochs, experiment_num=fold, device=device,\n",
    "                        writer=None, early_stop_patience = patience)\n",
    "    elif fold == 3:\n",
    "        fold3_results = train(model=model, model_name=model_name, n_bands=n_bands, batch_size=batch_size,train_dataloader=train_dataloader, val_dataloader=val_dataloader, \n",
    "                        optimizer=optimizer, loss_fn=loss_fn, lr_scheduler=lr_scheduler, num_classes=num_classes, epochs=epochs, experiment_num=fold, device=device,\n",
    "                        writer=None, early_stop_patience = patience)\n",
    "    elif fold == 4:\n",
    "        fold4_results = train(model=model, model_name=model_name, n_bands=n_bands, batch_size=batch_size,train_dataloader=train_dataloader, val_dataloader=val_dataloader, \n",
    "                        optimizer=optimizer, loss_fn=loss_fn, lr_scheduler=lr_scheduler, num_classes=num_classes, epochs=epochs, experiment_num=fold, device=device,\n",
    "                        writer=None, early_stop_patience = patience)\n",
    "    else:\n",
    "        fold5_results = train(model=model, model_name=model_name, n_bands=n_bands, batch_size=batch_size,train_dataloader=train_dataloader, val_dataloader=val_dataloader, \n",
    "                        optimizer=optimizer, loss_fn=loss_fn, lr_scheduler=lr_scheduler, num_classes=num_classes, epochs=epochs, experiment_num=fold, device=device,\n",
    "                        writer=None, early_stop_patience = patience)\n",
    "    \n",
    "    del train_indices, val_indices, train_image_set, train_label_set, train_hash_id, train_species_set, val_image_set, val_label_set, val_hash_id, val_species_set,\n",
    "    train_dataset, val_dataset, sampler, train_dataloader, val_dataloader, model, loss_fn, optimizer, lr_scheduler\n",
    "    \n",
    "    #finish the wandb run\n",
    "    wandb.finish()\n",
    "    print(\"Deleting variables and emptying cache\")\n",
    "    gc.collect()\n",
    "    torch.cuda.empty_cache()\n",
    "    print(f\"Memory allocated: {torch.cuda.memory_allocated()} bytes\")\n",
    "    print(\"-\"*50 + \"\\n\")"
   ]
  },
  {
   "cell_type": "markdown",
   "id": "a36b9b92",
   "metadata": {},
   "source": [
    "#### Create test dataset and test dataloader "
   ]
  },
  {
   "cell_type": "code",
   "execution_count": 20,
   "id": "c0c36ebb",
   "metadata": {},
   "outputs": [],
   "source": [
    "# create test dataset\n",
    "test_dataset = data_loader.CustomTestDataset(\n",
    "    data = test_image_set,\n",
    "    labels = test_label_set,\n",
    "    class_names=class_names, \n",
    "    species = test_species_set,\n",
    "    kkl = None,\n",
    "    transform=transform\n",
    ")\n",
    "\n",
    "# create test dataloader\n",
    "test_dataloader = DataLoader(test_dataset,\n",
    "                             batch_size=batch_size,\n",
    "                             persistent_workers=True,\n",
    "                             pin_memory=True,\n",
    "                             num_workers=NUM_WORKERS,\n",
    "                             shuffle=False,\n",
    "                             drop_last=True)"
   ]
  },
  {
   "cell_type": "markdown",
   "id": "22cdaac7",
   "metadata": {},
   "source": [
    "#### Perform ensembling of the five best models"
   ]
  },
  {
   "cell_type": "code",
   "execution_count": 21,
   "id": "67db5af2",
   "metadata": {},
   "outputs": [
    {
     "name": "stdout",
     "output_type": "stream",
     "text": [
      "Loaded pretrained weights for efficientnet-b7\n",
      "Loaded pretrained weights for efficientnet-b7\n",
      "Loaded pretrained weights for efficientnet-b7\n",
      "Loaded pretrained weights for efficientnet-b7\n",
      "Loaded pretrained weights for efficientnet-b7\n",
      "              precision    recall  f1-score   support\n",
      "\n",
      "           0       0.73      0.76      0.75       284\n",
      "           1       0.61      0.58      0.59       166\n",
      "           2       0.52      0.47      0.50       119\n",
      "           3       0.60      0.70      0.65       135\n",
      "           4       0.77      0.77      0.77        30\n",
      "           5       1.00      0.38      0.56        13\n",
      "           6       0.63      0.76      0.69        93\n",
      "           7       0.70      0.56      0.62        78\n",
      "           8       0.63      0.57      0.60        58\n",
      "           9       0.62      0.50      0.55        26\n",
      "          10       0.95      0.95      0.95        22\n",
      "\n",
      "    accuracy                           0.66      1024\n",
      "   macro avg       0.71      0.64      0.66      1024\n",
      "weighted avg       0.66      0.66      0.65      1024\n",
      "\n",
      "[[217  55   8   2   1   0   0   1   0   0   0]\n",
      " [ 65  96   2   2   1   0   0   0   0   0   0]\n",
      " [  3   3  56  56   0   0   0   0   1   0   0]\n",
      " [  3   0  38  94   0   0   0   0   0   0   0]\n",
      " [  5   0   0   0  23   0   1   1   0   0   0]\n",
      " [  0   2   0   0   5   5   0   0   0   0   1]\n",
      " [  1   1   1   1   0   0  71  13   5   0   0]\n",
      " [  1   1   0   1   0   0  24  44   5   2   0]\n",
      " [  2   0   1   0   0   0  14   2  33   6   0]\n",
      " [  0   0   1   0   0   0   2   2   8  13   0]\n",
      " [  0   0   0   0   0   0   1   0   0   0  21]]\n"
     ]
    }
   ],
   "source": [
    "# Setup the best model filepaths\n",
    "best_model1_path = r\"C:\\Users\\lwfeckesim\\01_PyTorch\\wze-uav\\wze-uav-master\\models\\EffNet_b7_RGB-RE-NIR-5species-combined\\1_EffNet_b7_RGB-RE-NIR-5species-combined_13_epochs.pth\"\n",
    "best_model2_path = r\"C:\\Users\\lwfeckesim\\01_PyTorch\\wze-uav\\wze-uav-master\\models\\EffNet_b7_RGB-RE-NIR-5species-combined\\2_EffNet_b7_RGB-RE-NIR-5species-combined_8_epochs.pth\"\n",
    "best_model3_path = r\"C:\\Users\\lwfeckesim\\01_PyTorch\\wze-uav\\wze-uav-master\\models\\EffNet_b7_RGB-RE-NIR-5species-combined\\3_EffNet_b7_RGB-RE-NIR-5species-combined_14_epochs.pth\"\n",
    "best_model4_path = r\"C:\\Users\\lwfeckesim\\01_PyTorch\\wze-uav\\wze-uav-master\\models\\EffNet_b7_RGB-RE-NIR-5species-combined\\4_EffNet_b7_RGB-RE-NIR-5species-combined_9_epochs.pth\"\n",
    "best_model5_path = r\"C:\\Users\\lwfeckesim\\01_PyTorch\\wze-uav\\wze-uav-master\\models\\EffNet_b7_RGB-RE-NIR-5species-combined\\5_EffNet_b7_RGB-RE-NIR-5species-combined_8_epochs.pth\"\n",
    "\n",
    "# Instantiate a new instance of EffNetB7 (to load the saved state_dict() to)\n",
    "#model1 = models.create_effnetb7(output_shape=num_classes, unfreeze=unfreeze, dropout_rate=dropout_rate, device=device)\n",
    "#model2 = models.create_effnetb7(output_shape=num_classes, unfreeze=unfreeze, dropout_rate=dropout_rate, device=device)\n",
    "#model3 = models.create_effnetb7(output_shape=num_classes, unfreeze=unfreeze, dropout_rate=dropout_rate, device=device)\n",
    "#model4 = models.create_effnetb7(output_shape=num_classes, unfreeze=unfreeze, dropout_rate=dropout_rate, device=device)\n",
    "#model5 = models.create_effnetb7(output_shape=num_classes, unfreeze=unfreeze, dropout_rate=dropout_rate, device=device)\n",
    "# for custom models with more than three bands as input\n",
    "model1 = model_effnet.EfficientNet.from_pretrained('efficientnet-b7', in_channels=n_bands, num_classes=num_classes, dropout_rate=dropout_rate)\n",
    "model2 = model_effnet.EfficientNet.from_pretrained('efficientnet-b7', in_channels=n_bands, num_classes=num_classes, dropout_rate=dropout_rate)\n",
    "model3 = model_effnet.EfficientNet.from_pretrained('efficientnet-b7', in_channels=n_bands, num_classes=num_classes, dropout_rate=dropout_rate)\n",
    "model4 = model_effnet.EfficientNet.from_pretrained('efficientnet-b7', in_channels=n_bands, num_classes=num_classes, dropout_rate=dropout_rate)\n",
    "model5 = model_effnet.EfficientNet.from_pretrained('efficientnet-b7', in_channels=n_bands, num_classes=num_classes, dropout_rate=dropout_rate)\n",
    "\n",
    "# Load the saved best model state_dict()\n",
    "model1.load_state_dict(torch.load(best_model1_path))\n",
    "model2.load_state_dict(torch.load(best_model2_path))\n",
    "model3.load_state_dict(torch.load(best_model3_path))\n",
    "model4.load_state_dict(torch.load(best_model4_path))\n",
    "model5.load_state_dict(torch.load(best_model5_path))\n",
    "\n",
    "model1.to(device)\n",
    "model2.to(device)\n",
    "model3.to(device)\n",
    "model4.to(device)\n",
    "model5.to(device)\n",
    "\n",
    "model1.eval()\n",
    "model2.eval()\n",
    "model3.eval()\n",
    "model4.eval()\n",
    "model5.eval()\n",
    "\n",
    "# Initialize the lists to store the predictions\n",
    "all_preds_model1 = []\n",
    "all_preds_model2 = []\n",
    "all_preds_model3 = []\n",
    "all_preds_model4 = []\n",
    "all_preds_model5 = []\n",
    "all_true_labels = []\n",
    "\n",
    "# Loop through the test dataset and generate predictions for each model\n",
    "with torch.no_grad():\n",
    "    for batch in test_dataloader:\n",
    "        inputs, labels, species = batch\n",
    "        inputs, labels, species = inputs.to(device), labels.to(device), species\n",
    "        \n",
    "        # Generate predictions for each model\n",
    "        preds_model1 = model1(inputs)\n",
    "        preds_model2 = model2(inputs)\n",
    "        preds_model3 = model3(inputs)\n",
    "        preds_model4 = model4(inputs)\n",
    "        preds_model5 = model5(inputs)\n",
    "\n",
    "        # Append the predictions to the corresponding list\n",
    "        all_preds_model1.append(preds_model1.cpu().numpy())\n",
    "        all_preds_model2.append(preds_model2.cpu().numpy())\n",
    "        all_preds_model3.append(preds_model3.cpu().numpy())\n",
    "        all_preds_model4.append(preds_model4.cpu().numpy())\n",
    "        all_preds_model5.append(preds_model5.cpu().numpy())\n",
    "        \n",
    "        all_true_labels.append(labels.cpu().numpy())\n",
    "\n",
    "# Concatenate the predictions from all the models\n",
    "all_preds_model1 = np.concatenate(all_preds_model1)\n",
    "all_preds_model2 = np.concatenate(all_preds_model2)\n",
    "all_preds_model3 = np.concatenate(all_preds_model3)\n",
    "all_preds_model4 = np.concatenate(all_preds_model4)\n",
    "all_preds_model5 = np.concatenate(all_preds_model5)\n",
    "\n",
    "all_true_labels = np.concatenate(all_true_labels)\n",
    "\n",
    "# Calculate the ensemble predictions\n",
    "ensemble_preds = np.mean([all_preds_model1, all_preds_model2, all_preds_model3, all_preds_model4, all_preds_model5], axis=0)\n",
    "ensemble_labels = np.argmax(ensemble_preds, axis=1)\n",
    "\n",
    "# Calculate the evaluation metrics for the ensemble model\n",
    "from sklearn.metrics import classification_report, confusion_matrix\n",
    "\n",
    "print(classification_report(all_true_labels, ensemble_labels))\n",
    "print(confusion_matrix(all_true_labels, ensemble_labels))\n",
    "\n",
    "\n",
    "\n",
    "\n"
   ]
  },
  {
   "cell_type": "code",
   "execution_count": 22,
   "id": "6dfbc663",
   "metadata": {},
   "outputs": [
    {
     "name": "stdout",
     "output_type": "stream",
     "text": [
      "              precision    recall  f1-score   support\n",
      "\n",
      "           0       0.73      0.76      0.75       284\n",
      "           1       0.61      0.58      0.59       166\n",
      "           2       0.52      0.47      0.50       119\n",
      "           3       0.60      0.70      0.65       135\n",
      "           4       0.77      0.77      0.77        30\n",
      "           5       1.00      0.38      0.56        13\n",
      "           6       0.63      0.76      0.69        93\n",
      "           7       0.70      0.56      0.62        78\n",
      "           8       0.63      0.57      0.60        58\n",
      "           9       0.62      0.50      0.55        26\n",
      "          10       0.95      0.95      0.95        22\n",
      "\n",
      "    accuracy                           0.66      1024\n",
      "   macro avg       0.71      0.64      0.66      1024\n",
      "weighted avg       0.66      0.66      0.65      1024\n",
      "\n"
     ]
    },
    {
     "data": {
      "image/png": "[encoded data removed]",
      "text/plain": [
       "<Figure size 720x504 with 1 Axes>"
      ]
     },
     "metadata": {
      "needs_background": "light"
     },
     "output_type": "display_data"
    }
   ],
   "source": [
    "import matplotlib.pyplot as plt\n",
    "# Calculate the evaluation metrics for the ensemble model\n",
    "\n",
    "report = classification_report(all_true_labels, ensemble_labels)\n",
    "print(report)\n",
    "#print(confusion_matrix(all_true_labels, ensemble_labels))\n",
    "\n",
    "# Save the report to a file\n",
    "with open(r'C:\\Users\\lwfeckesim\\01_PyTorch\\wze-uav\\wze-uav-master\\plots\\report_RGB-RE-NIR_5species_combined.txt', 'w') as f:\n",
    "    f.write(report)\n",
    "\n",
    "labels = np.array([0,1,2,3,4,5,6,7,8,9,10])\n",
    "confmat = confusion_matrix(all_true_labels, ensemble_labels, labels=labels)\n",
    "\n",
    "# 3. Plot the confusion matrix\n",
    "fig, ax = plot_confusion_matrix(\n",
    "    conf_mat=confmat, # matplotlib likes working with NumPy \n",
    "    class_names=class_names, # turn the row and column labels into class names\n",
    "    figsize=(10, 7)\n",
    ");\n",
    "\n",
    "# add title to confusion matrix plot\n",
    "plt.title(\"Main tree species and Health Status Classification using RGB-RE-NIR Bands\", fontsize=16)\n",
    "\n",
    "fig.savefig(r'C:\\Users\\lwfeckesim\\01_PyTorch\\wze-uav\\wze-uav-master\\plots\\confmat_RGB-RE-NIR_5species_combined.png', dpi=300, bbox_inches='tight')\n",
    "\n"
   ]
  },
  {
   "cell_type": "code",
   "execution_count": 23,
   "id": "aab9e321",
   "metadata": {},
   "outputs": [
    {
     "ename": "NameError",
     "evalue": "name 'best_model' is not defined",
     "output_type": "error",
     "traceback": [
      "\u001b[1;31m---------------------------------------------------------------------------\u001b[0m",
      "\u001b[1;31mNameError\u001b[0m                                 Traceback (most recent call last)",
      "Input \u001b[1;32mIn [23]\u001b[0m, in \u001b[0;36m<cell line: 3>\u001b[1;34m()\u001b[0m\n\u001b[0;32m      1\u001b[0m \u001b[38;5;66;03m# 2. Setup confusion matrix instance and compare predictions to targets\u001b[39;00m\n\u001b[0;32m      2\u001b[0m \u001b[38;5;66;03m#from wze_uav.analysis import *\u001b[39;00m\n\u001b[1;32m----> 3\u001b[0m y_pred_tensor, y_labels_tensor, test_loss, test_recall, test_precision, test_f1_score, test_acc, y_logit, y_pred, y, y_preds \u001b[38;5;241m=\u001b[39m make_predictions(model\u001b[38;5;241m=\u001b[39m\u001b[43mbest_model\u001b[49m,\n\u001b[0;32m      4\u001b[0m                                  test_dataloader\u001b[38;5;241m=\u001b[39mtest_dataloader, \n\u001b[0;32m      5\u001b[0m                                  device\u001b[38;5;241m=\u001b[39mdevice)\n\u001b[0;32m      7\u001b[0m y_labels_tensor \u001b[38;5;241m=\u001b[39m y_labels_tensor\u001b[38;5;241m.\u001b[39mdetach()\u001b[38;5;241m.\u001b[39mcpu()\u001b[38;5;241m.\u001b[39mnumpy()\n\u001b[0;32m      8\u001b[0m y_pred_tensor \u001b[38;5;241m=\u001b[39m y_pred_tensor\u001b[38;5;241m.\u001b[39mdetach()\u001b[38;5;241m.\u001b[39mcpu()\u001b[38;5;241m.\u001b[39mnumpy()\n",
      "\u001b[1;31mNameError\u001b[0m: name 'best_model' is not defined"
     ]
    }
   ],
   "source": [
    "# 2. Setup confusion matrix instance and compare predictions to targets\n",
    "#from wze_uav.analysis import *\n",
    "y_pred_tensor, y_labels_tensor, test_loss, test_recall, test_precision, test_f1_score, test_acc, y_logit, y_pred, y, y_preds = make_predictions(model=best_model,\n",
    "                                 test_dataloader=test_dataloader, \n",
    "                                 device=device)\n",
    "\n",
    "y_labels_tensor = y_labels_tensor.detach().cpu().numpy()\n",
    "y_pred_tensor = y_pred_tensor.detach().cpu().numpy()\n",
    "\n",
    "#confmat = ConfusionMatrix(num_classes=num_classes, task='multiclass')\n",
    "#confmat_tensor = confmat(preds=y_pred_tensor,\n",
    "#                         target=test_labels)\n",
    "labels = np.array([0,1,2])\n",
    "confmat = confusion_matrix(y_labels_tensor, y_pred_tensor, labels=labels)\n",
    "\n",
    "# 3. Plot the confusion matrix\n",
    "fig, ax = plot_confusion_matrix(\n",
    "    conf_mat=confmat, # matplotlib likes working with NumPy \n",
    "    class_names=class_names, # turn the row and column labels into class names\n",
    "    figsize=(10, 7)\n",
    ");\n",
    "\n",
    "print(f\"Test loss: {test_loss}\")\n",
    "print(f\"Test precision: {test_precision}\")\n",
    "print(f\"Test recall: {test_recall}\")\n",
    "print(f\"Test F1score: {test_f1_score}\")\n",
    "#print(f\"Test Kappa: {test_kappa}\")\n",
    "print(f\"Test Accuracy: {test_acc}\")\n",
    "print(f\"Test Logits: {y_logit}\")\n",
    "print(f\"Test Predictions: {y_pred}\")\n",
    "print(f\"Test Labels: {y}\")"
   ]
  },
  {
   "cell_type": "code",
   "execution_count": null,
   "id": "8d4173b3",
   "metadata": {},
   "outputs": [],
   "source": [
    "len(y_preds)"
   ]
  },
  {
   "cell_type": "code",
   "execution_count": null,
   "id": "7588116f",
   "metadata": {},
   "outputs": [],
   "source": [
    "y_set.cpu()"
   ]
  },
  {
   "cell_type": "code",
   "execution_count": null,
   "id": "1c195b3e",
   "metadata": {},
   "outputs": [],
   "source": [
    "test_dataset.labels"
   ]
  },
  {
   "cell_type": "code",
   "execution_count": null,
   "id": "975ec08c",
   "metadata": {},
   "outputs": [],
   "source": []
  },
  {
   "cell_type": "code",
   "execution_count": null,
   "id": "6da05604",
   "metadata": {},
   "outputs": [],
   "source": [
    "y_preds = []\n",
    "y_labels = []\n",
    "labels = np.array([0,1,2])\n",
    "test_loss, test_precision, test_recall, test_f1_score, test_acc = 0, 0, 0, 0, 0\n",
    "count = 0\n",
    "model.eval()\n",
    "with torch.inference_mode():\n",
    "    for X, y in tqdm(test_dataloader, desc=\"Making predictions\"):\n",
    "        # Send data and targets to target device\n",
    "        X, y = X.to(device), y.to(device)\n",
    "        # Do the forward pass\n",
    "        y_logit = model(X)\n",
    "        # Turn predictions from logits -> prediction probabilities -> predictions labels\n",
    "        y_pred = torch.softmax(y_logit, dim=1).argmax(dim=1)\n",
    "        # Put predictions on CPU for evaluation\n",
    "        y_preds.append(y_pred.cpu())\n",
    "        y_labels.append(y.cpu())\n",
    "        \n",
    "        #other metrics\n",
    "        test_acc += ((y_pred == y).sum().item()/len(y_pred))\n",
    "        y_pred_class = y_pred.detach().cpu().numpy() \n",
    "        y_class = y.detach().cpu().numpy()\n",
    "        test_precision += precision_score(y_class, y_pred_class, average='macro', zero_division=1, labels=labels)\n",
    "        test_recall += recall_score(y_class, y_pred_class, average='macro', zero_division=1, labels=labels)\n",
    "        #test_f1_score += f1_score(y_class, y_pred_class, average='macro', zero_division=1, labels=labels)\n",
    "        \n",
    "        #if count >= 1:\n",
    "        #    y_set = torch.cat((y_set, y))\n",
    "        #    count = count + 1\n",
    "        #else:\n",
    "        #    y_set = y\n",
    "        #    count = count + 1\n",
    "        \n",
    "test_loss = test_loss / len(test_dataloader)\n",
    "test_precision = test_precision / len(test_dataloader)\n",
    "test_recall = test_recall / len(test_dataloader)\n",
    "#test_f1_score = test_f1_score / len(test_dataloader)\n",
    "#test_kappa = test_kappa / len(dataloader)\n",
    "test_acc = test_acc / len(test_dataloader)\n",
    "# Concatenate list of predictions into a tensor\n",
    "y_pred_tensor = torch.cat(y_preds)\n",
    "test_f1_score = f1_score(y_set.detach().cpu().numpy(), y_pred_tensor.cpu().numpy(), average='macro', zero_division=0, labels=[0,1,2])\n",
    "\n",
    "# Print classification report\n",
    "y_true = y_set.detach().cpu().numpy()\n",
    "report = classification_report(y_true, y_pred_tensor.cpu().numpy(), target_names=class_names)\n",
    "print(report)"
   ]
  },
  {
   "cell_type": "code",
   "execution_count": null,
   "id": "6ae97fab",
   "metadata": {},
   "outputs": [],
   "source": [
    "test_f1_score"
   ]
  },
  {
   "cell_type": "code",
   "execution_count": null,
   "id": "7ebafd9b",
   "metadata": {},
   "outputs": [],
   "source": [
    "make = (y_class == y_pred_class)\n",
    "make"
   ]
  },
  {
   "cell_type": "code",
   "execution_count": null,
   "id": "4f8aa759",
   "metadata": {},
   "outputs": [],
   "source": [
    "torch.softmax(y_logit, dim=1).argmax(dim=1)"
   ]
  },
  {
   "cell_type": "code",
   "execution_count": null,
   "id": "f90a54b2",
   "metadata": {},
   "outputs": [],
   "source": [
    "y"
   ]
  },
  {
   "cell_type": "code",
   "execution_count": null,
   "id": "5a806154",
   "metadata": {},
   "outputs": [],
   "source": [
    "test = (y_pred == y).sum().item()/16"
   ]
  },
  {
   "cell_type": "code",
   "execution_count": null,
   "id": "1da35c56",
   "metadata": {},
   "outputs": [],
   "source": [
    "test"
   ]
  },
  {
   "cell_type": "code",
   "execution_count": null,
   "id": "b1eb246e",
   "metadata": {},
   "outputs": [],
   "source": [
    " y_pred_class = y_pred.detach().cpu().numpy() "
   ]
  },
  {
   "cell_type": "code",
   "execution_count": null,
   "id": "602e096f",
   "metadata": {},
   "outputs": [],
   "source": [
    "y_pred_class"
   ]
  },
  {
   "cell_type": "code",
   "execution_count": null,
   "id": "eaf1af09",
   "metadata": {},
   "outputs": [],
   "source": []
  }
 ],
 "metadata": {
  "kernelspec": {
   "display_name": "Python 3 (ipykernel)",
   "language": "python",
   "name": "python3"
  },
  "language_info": {
   "codemirror_mode": {
    "name": "ipython",
    "version": 3
   },
   "file_extension": ".py",
   "mimetype": "text/x-python",
   "name": "python",
   "nbconvert_exporter": "python",
   "pygments_lexer": "ipython3",
   "version": "3.9.16"
  }
 },
 "nbformat": 4,
 "nbformat_minor": 5
}
