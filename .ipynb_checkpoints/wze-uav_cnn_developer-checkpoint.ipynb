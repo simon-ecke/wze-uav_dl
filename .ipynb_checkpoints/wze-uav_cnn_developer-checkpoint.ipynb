{
 "cells": [
  {
   "cell_type": "markdown",
   "id": "c1acdaa3",
   "metadata": {},
   "source": [
    "# WZE-UAV Image Classification using Deep Learning"
   ]
  },
  {
   "cell_type": "code",
   "execution_count": 1,
   "id": "2159aac5",
   "metadata": {},
   "outputs": [
    {
     "data": {
      "text/plain": [
       "[<matplotlib.lines.Line2D at 0x1cfecedb8b0>]"
      ]
     },
     "execution_count": 1,
     "metadata": {},
     "output_type": "execute_result"
    },
    {
     "data": {
      "image/png": "[encoded data removed]",
      "text/plain": [
       "<Figure size 432x288 with 1 Axes>"
      ]
     },
     "metadata": {
      "needs_background": "light"
     },
     "output_type": "display_data"
    }
   ],
   "source": [
    "import os\n",
    "import glob\n",
    "import matplotlib.pyplot as plt\n",
    "import rasterio\n",
    "import numpy as np\n",
    "import mlxtend\n",
    "from pathlib import Path\n",
    "from tqdm.auto import tqdm\n",
    "\n",
    "\n",
    "\n",
    "x = (1,3)\n",
    "y = (1,3)\n",
    "plt.plot(x,y)"
   ]
  },
  {
   "cell_type": "code",
   "execution_count": 2,
   "id": "0026f7a9",
   "metadata": {},
   "outputs": [],
   "source": [
    "import torch\n",
    "import torchvision.transforms as T\n",
    "import torchvision\n",
    "from torch import nn\n",
    "from torch.utils.data import DataLoader\n",
    "from torchinfo import summary\n",
    "from torchvision import datasets, transforms\n",
    "from torch.utils.data import Dataset\n",
    "from torchinfo import summary\n",
    "from torchmetrics import ConfusionMatrix\n",
    "from mlxtend.plotting import plot_confusion_matrix\n",
    "import h5py"
   ]
  },
  {
   "cell_type": "code",
   "execution_count": 3,
   "id": "b160d7b4",
   "metadata": {},
   "outputs": [],
   "source": [
    "import wze_uav.data_loader as data_loader\n",
    "import wze_uav.visualization as visualization\n",
    "import wze_uav.models as models\n",
    "from wze_uav.engine import *\n",
    "from wze_uav.utils2 import *\n",
    "from wze_uav.log_writer import create_writer"
   ]
  },
  {
   "cell_type": "markdown",
   "id": "2bd4fb2f",
   "metadata": {},
   "source": [
    "#### Get PyTorch version"
   ]
  },
  {
   "cell_type": "code",
   "execution_count": 4,
   "id": "c10886b1",
   "metadata": {},
   "outputs": [
    {
     "name": "stdout",
     "output_type": "stream",
     "text": [
      "torch version: 1.13.1+cu116\n",
      "torchvision version: 0.14.1+cu116\n"
     ]
    }
   ],
   "source": [
    "print(f\"torch version: {torch.__version__}\")\n",
    "print(f\"torchvision version: {torchvision.__version__}\")"
   ]
  },
  {
   "cell_type": "markdown",
   "id": "aa6a83cf",
   "metadata": {},
   "source": [
    "#### Preparing device agnostic code "
   ]
  },
  {
   "cell_type": "code",
   "execution_count": 5,
   "id": "13d5de88",
   "metadata": {},
   "outputs": [
    {
     "name": "stdout",
     "output_type": "stream",
     "text": [
      "cuda\n",
      "Index of current divice: 0\n",
      "Number of GPUs available: 1\n",
      "GPU Model: Quadro RTX 8000\n"
     ]
    }
   ],
   "source": [
    "# ensure device agnostic code\n",
    "device = 'cuda' if torch.cuda.is_available() else 'cpu'\n",
    "print(device)\n",
    "\n",
    "# get index of currently selected device\n",
    "print(f\"Index of current divice: {torch.cuda.current_device()}\")\n",
    "# get number of GPUs available\n",
    "print(f\"Number of GPUs available: {torch.cuda.device_count()}\")\n",
    "# get the name of the device\n",
    "print(f\"GPU Model: {torch.cuda.get_device_name(0)}\")"
   ]
  },
  {
   "cell_type": "markdown",
   "id": "a26a6a34",
   "metadata": {},
   "source": [
    "#### Ensure reproducibility "
   ]
  },
  {
   "cell_type": "code",
   "execution_count": 6,
   "id": "dd4656a7",
   "metadata": {},
   "outputs": [],
   "source": [
    "# for more information, see also: https://pytorch.org/docs/stable/notes/randomness.html\n",
    "\n",
    "# Set seeds\n",
    "def set_seeds(seed: int=0):\n",
    "    \"\"\"Sets random sets for torch operations.\n",
    "\n",
    "    Args:\n",
    "        seed (int, optional): Random seed to set. Defaults to 42.\n",
    "    \"\"\"\n",
    "    # Set the seed for general torch operations\n",
    "    torch.manual_seed(seed)\n",
    "    # Set the seed for CUDA torch operations (ones that happen on the GPU)\n",
    "    torch.cuda.manual_seed(seed)\n",
    "\n",
    "# seed for numpy\n",
    "np.random.seed(0)\n",
    "# avoiding non-deterministic algorithms\n",
    "#torch.use_deterministic_algorithms(True)\n",
    "# Set to true -> might speed up the process but should be set to False if reproducible results are desired\n",
    "torch.backends.cudnn.benchmark = True\n"
   ]
  },
  {
   "cell_type": "markdown",
   "id": "8be33671",
   "metadata": {},
   "source": [
    "#### Define file directories"
   ]
  },
  {
   "cell_type": "code",
   "execution_count": 7,
   "id": "30645f36",
   "metadata": {},
   "outputs": [],
   "source": [
    "set_seeds() # ensure reproducibility\n",
    "\n",
    "# Data 2020\n",
    "train_data_path = r\"D:\\Drohnendaten\\10_WZE-UAV\\Auswertung_findatree\\2020\\ROI\\rgb\\train\"\n",
    "val_data_path = r\"D:\\Drohnendaten\\10_WZE-UAV\\Auswertung_findatree\\2020\\ROI\\rgb\\val\"\n",
    "test_data_path = r\"D:\\Drohnendaten\\10_WZE-UAV\\Auswertung_findatree\\2020\\ROI\\rgb\\test\"\n",
    "\n",
    "# Data 2021\n",
    "train_data_path_2021 = r\"D:\\Drohnendaten\\10_WZE-UAV\\Auswertung_findatree\\2021\\ROI\\rgb\\train\"\n",
    "val_data_path_2021 = r\"D:\\Drohnendaten\\10_WZE-UAV\\Auswertung_findatree\\2021\\ROI\\rgb\\val\"\n",
    "test_data_path_2021 = r\"D:\\Drohnendaten\\10_WZE-UAV\\Auswertung_findatree\\2021\\ROI\\rgb\\test\"\n",
    "\n",
    "# Data 2022\n",
    "train_data_path_2022 = r\"D:\\Drohnendaten\\10_WZE-UAV\\Auswertung_findatree\\2022\\ROI\\rgb\\train\"\n",
    "val_data_path_2022 = r\"D:\\Drohnendaten\\10_WZE-UAV\\Auswertung_findatree\\2022\\ROI\\rgb\\val\"\n",
    "test_data_path_2022 = r\"D:\\Drohnendaten\\10_WZE-UAV\\Auswertung_findatree\\2022\\ROI\\rgb\\test\"\n",
    "\n"
   ]
  },
  {
   "cell_type": "markdown",
   "id": "b5d28343",
   "metadata": {},
   "source": [
    "#### Load images and features (labels and tree species) from hdf5 files"
   ]
  },
  {
   "cell_type": "code",
   "execution_count": 8,
   "id": "a1b72aed",
   "metadata": {},
   "outputs": [],
   "source": [
    "# load all image and feature arrays from hdf5\n",
    "# loops through all hdf5 files! \n",
    "\n",
    "# Data 2020\n",
    "train_image_set_2020, train_label_set_2020, train_species_set_2020, train_kkl_set_2020, train_bk_set_2020 = data_loader.hdf5_to_img_label(train_data_path, load_sets = [\"images_masked\"])\n",
    "val_image_set_2020, val_label_set_2020, val_species_set_2020, val_kkl_set_2020, val_bk_set_2020 = data_loader.hdf5_to_img_label(val_data_path, load_sets = [\"images_masked\"])\n",
    "test_image_set_2020, test_label_set_2020, test_species_set_2020, test_kkl_set_2020, test_bk_set_2020 = data_loader.hdf5_to_img_label(test_data_path, load_sets = [\"images_masked\"])\n",
    "\n",
    "# Data 2021\n",
    "train_image_set_2021, train_label_set_2021, train_species_set_2021, train_kkl_set_2021, train_bk_set_2021 = data_loader.hdf5_to_img_label(train_data_path_2021, load_sets = [\"images_masked\"])\n",
    "val_image_set_2021, val_label_set_2021, val_species_set_2021, val_kkl_set_2021, val_bk_set_2021 = data_loader.hdf5_to_img_label(val_data_path_2021, load_sets = [\"images_masked\"])\n",
    "test_image_set_2021, test_label_set_2021, test_species_set_2021, test_kkl_set_2021, test_bk_set_2021 = data_loader.hdf5_to_img_label(test_data_path_2021, load_sets = [\"images_masked\"])\n",
    "\n",
    "# Data 2022\n",
    "train_image_set_2022, train_label_set_2022, train_species_set_2022, train_kkl_set_2022, train_bk_set_2022 = data_loader.hdf5_to_img_label(train_data_path_2022, load_sets = [\"images_masked\"])\n",
    "val_image_set_2022, val_label_set_2022, val_species_set_2022, val_kkl_set_2022, val_bk_set_2022 = data_loader.hdf5_to_img_label(val_data_path_2022, load_sets = [\"images_masked\"])\n",
    "test_image_set_2022, test_label_set_2022, test_species_set_2022, test_kkl_set_2022, test_bk_set_2022 = data_loader.hdf5_to_img_label(test_data_path_2022, load_sets = [\"images_masked\"])\n",
    "\n",
    "\n",
    "\n",
    "\n",
    "\n",
    "\n"
   ]
  },
  {
   "cell_type": "code",
   "execution_count": 9,
   "id": "13f3e98d",
   "metadata": {},
   "outputs": [],
   "source": [
    "# stack all data from 2020, 2021 and 2022 into one dataset\n",
    "# images\n",
    "train_image_set = np.concatenate((train_image_set_2020, train_image_set_2021, train_image_set_2022), axis=0)\n",
    "val_image_set = np.concatenate((val_image_set_2020, val_image_set_2021, val_image_set_2022), axis=0)\n",
    "test_image_set = np.concatenate((test_image_set_2020, test_image_set_2021, test_image_set_2022), axis=0)\n",
    "\n",
    "#labels\n",
    "train_label_set = np.concatenate((train_label_set_2020, train_label_set_2021, train_label_set_2022), axis=0)\n",
    "val_label_set = np.concatenate((val_label_set_2020, val_label_set_2021, val_label_set_2022), axis=0)\n",
    "test_label_set = np.concatenate((test_label_set_2020, test_label_set_2021, test_label_set_2022), axis=0)\n",
    "\n",
    "#species\n",
    "train_species_set = np.concatenate((train_species_set_2020, train_species_set_2021, train_species_set_2022), axis=0)\n",
    "val_species_set = np.concatenate((val_species_set_2020, val_species_set_2021, val_species_set_2022), axis=0)\n",
    "test_species_set = np.concatenate((test_species_set_2020, test_species_set_2021, test_species_set_2022), axis=0)\n",
    "\n",
    "#kkl\n",
    "train_kkl_set = np.concatenate((train_kkl_set_2020, train_kkl_set_2021, train_kkl_set_2022), axis=0)\n",
    "val_kkl_set = np.concatenate((val_kkl_set_2020, val_kkl_set_2021, val_kkl_set_2022), axis=0)\n",
    "test_kkl_set = np.concatenate((test_kkl_set_2020, test_kkl_set_2021, test_kkl_set_2022), axis=0)\n",
    "\n",
    "#bk\n",
    "train_bk_set = np.concatenate((train_bk_set_2020, train_bk_set_2021, train_bk_set_2022), axis=0)\n",
    "val_bk_set = np.concatenate((val_bk_set_2020, val_bk_set_2021, val_bk_set_2022), axis=0)\n",
    "test_bk_set = np.concatenate((test_bk_set_2020, test_bk_set_2021, test_bk_set_2022), axis=0)"
   ]
  },
  {
   "cell_type": "code",
   "execution_count": 10,
   "id": "1961b5a1",
   "metadata": {},
   "outputs": [
    {
     "name": "stdout",
     "output_type": "stream",
     "text": [
      "Dataset 2020\n",
      "\n",
      "Train dataset shape: (4886, 250, 250, 3)\n",
      "Train labels shape: (4886, 1)\n",
      "Train species shape: (4886, 1)\n",
      "Train kkl shape: (4886, 1)\n",
      "Train bk shape: (4886, 1)\n",
      "--------------------------------------------------\n",
      "Validation dataset shape: (1053, 250, 250, 3)\n",
      "Validation labels shape: (1053, 1)\n",
      "--------------------------------------------------\n",
      "Test dataset shape: (917, 250, 250, 3)\n",
      "Test labels shape: (917, 1)\n",
      "--------------------------------------------------\n",
      "\n",
      "Total image samples: 6856\n",
      "Total label samples: 6856\n",
      "\n",
      "==================================================\n",
      "\n",
      "Dataset 2021\n",
      "\n",
      "Train dataset shape: (4505, 250, 250, 3)\n",
      "Train labels shape: (4505, 1)\n",
      "--------------------------------------------------\n",
      "Validation dataset shape: (1053, 250, 250, 3)\n",
      "Validation labels shape: (1053, 1)\n",
      "--------------------------------------------------\n",
      "Test dataset shape: (877, 250, 250, 3)\n",
      "Test labels shape: (877, 1)\n",
      "--------------------------------------------------\n",
      "\n",
      "Total image samples: 6435\n",
      "Total label samples: 6435\n",
      "\n",
      "==================================================\n",
      "\n",
      "Dataset 2022\n",
      "\n",
      "Train dataset shape: (4032, 250, 250, 3)\n",
      "Train labels shape: (4032, 1)\n",
      "--------------------------------------------------\n",
      "Validation dataset shape: (776, 250, 250, 3)\n",
      "Validation labels shape: (776, 1)\n",
      "--------------------------------------------------\n",
      "Test dataset shape: (706, 250, 250, 3)\n",
      "Test labels shape: (706, 1)\n",
      "--------------------------------------------------\n",
      "\n",
      "Total image samples: 5514\n",
      "Total label samples: 5514\n",
      "\n",
      "==================================================\n",
      "\n",
      "Stacked Dataset\n",
      "\n",
      "Train dataset shape: (13423, 250, 250, 3)\n",
      "Train labels shape: (13423, 1)\n",
      "--------------------------------------------------\n",
      "Validation dataset shape: (2882, 250, 250, 3)\n",
      "Validation labels shape: (2882, 1)\n",
      "--------------------------------------------------\n",
      "Test dataset shape: (2500, 250, 250, 3)\n",
      "Test labels shape: (2500, 1)\n",
      "--------------------------------------------------\n",
      "\n",
      "Total image samples: 18805\n",
      "Total label samples: 18805\n",
      "\n"
     ]
    }
   ],
   "source": [
    "# checking shapes and amount of samples. Image sample size should be equal to label sample size!\n",
    "# Images should be of shape (n, H, W, C): n = sample size | H = image height | W = image width | C = number of bands\n",
    "print(\"Dataset 2020\")\n",
    "print(f\"\\nTrain dataset shape: {train_image_set_2020.shape}\")\n",
    "print(f\"Train labels shape: {train_label_set_2020.shape}\")\n",
    "print(f\"Train species shape: {train_species_set_2020.shape}\")\n",
    "print(f\"Train kkl shape: {train_kkl_set_2020.shape}\")\n",
    "print(f\"Train bk shape: {train_bk_set_2020.shape}\")\n",
    "print(\"-\"*50)\n",
    "print(f\"Validation dataset shape: {val_image_set_2020.shape}\")\n",
    "print(f\"Validation labels shape: {val_label_set_2020.shape}\")\n",
    "print(\"-\"*50)\n",
    "print(f\"Test dataset shape: {test_image_set_2020.shape}\")\n",
    "print(f\"Test labels shape: {test_label_set_2020.shape}\")\n",
    "print(\"-\"*50)\n",
    "print(f\"\\nTotal image samples: {train_image_set_2020.shape[0] + val_image_set_2020.shape[0] + test_image_set_2020.shape[0]}\")\n",
    "print(f\"Total label samples: {train_label_set_2020.shape[0] + val_label_set_2020.shape[0] + test_label_set_2020.shape[0]}\\n\")\n",
    "print(\"=\"*50)\n",
    "print(\"\\nDataset 2021\")\n",
    "print(f\"\\nTrain dataset shape: {train_image_set_2021.shape}\")\n",
    "print(f\"Train labels shape: {train_label_set_2021.shape}\")\n",
    "print(\"-\"*50)\n",
    "print(f\"Validation dataset shape: {val_image_set_2021.shape}\")\n",
    "print(f\"Validation labels shape: {val_label_set_2021.shape}\")\n",
    "print(\"-\"*50)\n",
    "print(f\"Test dataset shape: {test_image_set_2021.shape}\")\n",
    "print(f\"Test labels shape: {test_label_set_2021.shape}\")\n",
    "print(\"-\"*50)\n",
    "print(f\"\\nTotal image samples: {train_image_set_2021.shape[0] + val_image_set_2021.shape[0] + test_image_set_2021.shape[0]}\")\n",
    "print(f\"Total label samples: {train_label_set_2021.shape[0] + val_label_set_2021.shape[0] + test_label_set_2021.shape[0]}\\n\")\n",
    "print(\"=\"*50)\n",
    "print(\"\\nDataset 2022\")\n",
    "print(f\"\\nTrain dataset shape: {train_image_set_2022.shape}\")\n",
    "print(f\"Train labels shape: {train_label_set_2022.shape}\")\n",
    "print(\"-\"*50)\n",
    "print(f\"Validation dataset shape: {val_image_set_2022.shape}\")\n",
    "print(f\"Validation labels shape: {val_label_set_2022.shape}\")\n",
    "print(\"-\"*50)\n",
    "print(f\"Test dataset shape: {test_image_set_2022.shape}\")\n",
    "print(f\"Test labels shape: {test_label_set_2022.shape}\")\n",
    "print(\"-\"*50)\n",
    "print(f\"\\nTotal image samples: {train_image_set_2022.shape[0] + val_image_set_2022.shape[0] + test_image_set_2022.shape[0]}\")\n",
    "print(f\"Total label samples: {train_label_set_2022.shape[0] + val_label_set_2022.shape[0] + test_label_set_2022.shape[0]}\\n\")\n",
    "print(\"=\"*50)\n",
    "print(\"\\nStacked Dataset\")\n",
    "print(f\"\\nTrain dataset shape: {train_image_set.shape}\")\n",
    "print(f\"Train labels shape: {train_label_set.shape}\")\n",
    "print(\"-\"*50)\n",
    "print(f\"Validation dataset shape: {val_image_set.shape}\")\n",
    "print(f\"Validation labels shape: {val_label_set.shape}\")\n",
    "print(\"-\"*50)\n",
    "print(f\"Test dataset shape: {test_image_set.shape}\")\n",
    "print(f\"Test labels shape: {test_label_set.shape}\")\n",
    "print(\"-\"*50)\n",
    "print(f\"\\nTotal image samples: {train_image_set.shape[0] + val_image_set.shape[0] + test_image_set.shape[0]}\")\n",
    "print(f\"Total label samples: {train_label_set.shape[0] + val_label_set.shape[0] + test_label_set.shape[0]}\\n\")"
   ]
  },
  {
   "cell_type": "code",
   "execution_count": 11,
   "id": "59a86fce",
   "metadata": {},
   "outputs": [],
   "source": [
    "#class CustomDataset3Classes(Dataset):\n",
    "#    def __init__(self, data, labels, class_names=List[str], species=None, kkl=None, transform=None):\n",
    "#        self.data = data\n",
    "#        #important: these are the original labels representing the needle or leafloss! They are changed below to 3 classes below!\n",
    "#        self.labels = torch.from_numpy(labels)\n",
    "#        self.species = species\n",
    "#        self.kkl = kkl\n",
    "#        self.class_names = class_names\n",
    "#        self.transform = transform\n",
    "#    \n",
    "#    # overwrite __len__()\n",
    "#    def __len__(self) -> int:\n",
    "#        \"Returns total number of samples\"\n",
    "#        return len(self.data)\n",
    "#    \n",
    "#    # overwrite __getitem__() -> returns image and label \n",
    "#    def __getitem__(self, index: int) -> Tuple[torch.Tensor, float]:\n",
    "#        img = self.data[index]\n",
    "#        label = self.labels[index]\n",
    "#        label = label.squeeze(dim=0) # transform label into 1-dimensions\n",
    "#        label = int(label)\n",
    "#        \n",
    "#        #adjust labels to 3 classes\n",
    "#        if label <= 25: # healthy trees with labels 0 - 25 NBV\n",
    "#            label = 0 \n",
    "#        elif label > 25 and label <= 95: # stressed trees with labels 30 - 95 NBV\n",
    "#            label = 1\n",
    "#        else: # dead trees with label 99-100 NBV\n",
    "#            label = 2\n",
    "#  \n",
    "#        if self.transform:\n",
    "#            return self.transform(img), label # returns image (transformed), label\n",
    "#        else:\n",
    "#            return img, label # returns image, label"
   ]
  },
  {
   "cell_type": "markdown",
   "id": "5ad5104a",
   "metadata": {},
   "source": [
    "#### Define data transforms and create PyTorch Datasets (converts ndarrays into tensors)"
   ]
  },
  {
   "cell_type": "code",
   "execution_count": 12,
   "id": "93fd9497",
   "metadata": {},
   "outputs": [],
   "source": [
    "# train transform with augmentation. \n",
    "transform_train = transforms.Compose([transforms.ToTensor(),\n",
    "                                      #transforms.Normalize(mean=[0.485, 0.456, 0.406],\n",
    "                                      #                     std=[0.229, 0.224, 0.225]),\n",
    "                                      transforms.ColorJitter(brightness=(0.5,1.5), contrast=(0.5,1.2), saturation=(0.5,1.2), hue=(-0.05,0.05)),\n",
    "                                      transforms.RandomHorizontalFlip(p=0.5),\n",
    "                                      transforms.RandomVerticalFlip(p=0.5),\n",
    "                                      transforms.RandomRotation(degrees=[-90,90]),\n",
    "                                      #transforms.Resize(224)\n",
    "                                      ])\n",
    "\n",
    "# test and val dataset transform without augmentation. \n",
    "transform = transforms.Compose([transforms.ToTensor(),\n",
    "                                #transforms.Resize(224)\n",
    "                               ])\n",
    "\n",
    "\n",
    "# class names need to fit the customDataset class used e.g. 3 classes -> use CustomDataset3Classes\n",
    "#class_names = ['healthy', 'slightly_stressed', 'moderately_stressed', 'highly_stressed', 'dead']\n",
    "#class_names = ['healthy', 'moderately_stressed', 'highly_stressed', 'dead']\n",
    "class_names = ['healthy', 'stressed', 'dead']\n",
    "\n",
    "# choose custom dataset loader with 3 - 5 classes\n",
    "train_dataset = data_loader.CustomDataset3Classes(\n",
    "    data = train_image_set,\n",
    "    labels = train_label_set,\n",
    "    class_names=class_names, \n",
    "    species = train_species_set,\n",
    "    kkl = train_kkl_set,\n",
    "    transform=transform_train\n",
    ")\n",
    "\n",
    "val_dataset = data_loader.CustomDataset3Classes(\n",
    "    data = val_image_set,\n",
    "    labels = val_label_set,\n",
    "    class_names=class_names,\n",
    "    species = val_species_set,\n",
    "    kkl = val_kkl_set,\n",
    "    transform=transform\n",
    ")\n",
    "\n",
    "test_dataset = data_loader.CustomDataset3Classes(\n",
    "    data = test_image_set,\n",
    "    labels = test_label_set,\n",
    "    class_names=class_names, \n",
    "    species = test_species_set,\n",
    "    kkl = test_kkl_set,\n",
    "    transform=transform\n",
    ")\n",
    "\n"
   ]
  },
  {
   "cell_type": "markdown",
   "id": "d550b86f",
   "metadata": {},
   "source": [
    "#### Visualize random images from the datasets"
   ]
  },
  {
   "cell_type": "code",
   "execution_count": 12,
   "id": "207e140c",
   "metadata": {},
   "outputs": [
    {
     "data": {
      "image/png": "[encoded data removed]",
      "text/plain": [
       "<Figure size 2160x1440 with 2 Axes>"
      ]
     },
     "metadata": {
      "needs_background": "light"
     },
     "output_type": "display_data"
    }
   ],
   "source": [
    "# enhance brightness in colorjitter for better visibility\n",
    "visualization.display_random_images(train_dataset, \n",
    "                      n=2, \n",
    "                      classes=[0, 1, 2],\n",
    "                      seed=None)\n"
   ]
  },
  {
   "cell_type": "markdown",
   "id": "a04aca61",
   "metadata": {},
   "source": [
    "#### Check shape and data types of images and labels"
   ]
  },
  {
   "cell_type": "code",
   "execution_count": 13,
   "id": "052846b7",
   "metadata": {},
   "outputs": [
    {
     "name": "stdout",
     "output_type": "stream",
     "text": [
      "Image shape: torch.Size([3, 250, 250])\n",
      "Image datatype: torch.float32\n",
      "Image label: 1\n",
      "Label datatype: <class 'int'>\n"
     ]
    }
   ],
   "source": [
    "img, label = test_dataset[0]\n",
    "print(f\"Image shape: {img.shape}\")\n",
    "print(f\"Image datatype: {img.dtype}\")\n",
    "print(f\"Image label: {label}\")\n",
    "print(f\"Label datatype: {type(label)}\")"
   ]
  },
  {
   "cell_type": "markdown",
   "id": "fceb1a7d",
   "metadata": {},
   "source": [
    "#### Create PyTorch Dataloaders"
   ]
  },
  {
   "cell_type": "code",
   "execution_count": 13,
   "id": "d34f3728",
   "metadata": {},
   "outputs": [
    {
     "name": "stdout",
     "output_type": "stream",
     "text": [
      "Train dataloader size: 420\n",
      "Val dataloader size: 91\n",
      "Test dataloader size: 79\n"
     ]
    }
   ],
   "source": [
    "# set seeds\n",
    "g = torch.Generator()\n",
    "g.manual_seed(0)\n",
    "NUM_WORKERS=3 # should be changed, depending on the system used\n",
    "batch_size=32\n",
    "\n",
    "train_dataloader = DataLoader(train_dataset,\n",
    "                              batch_size=batch_size,\n",
    "                              persistent_workers=True,\n",
    "                              pin_memory=True,\n",
    "                              num_workers=NUM_WORKERS, \n",
    "                              generator=g,\n",
    "                              shuffle=True,\n",
    "                              drop_last=False)\n",
    "\n",
    "val_dataloader = DataLoader(val_dataset,\n",
    "                             batch_size=batch_size,\n",
    "                             persistent_workers=True,\n",
    "                             pin_memory=True,\n",
    "                             num_workers=NUM_WORKERS,\n",
    "                             shuffle=False,\n",
    "                             drop_last=False)\n",
    "\n",
    "test_dataloader = DataLoader(test_dataset,\n",
    "                             batch_size=batch_size,\n",
    "                             persistent_workers=True,\n",
    "                             pin_memory=True,\n",
    "                             num_workers=NUM_WORKERS,\n",
    "                             shuffle=False,\n",
    "                             drop_last=False)\n",
    "\n",
    "print(f\"Train dataloader size: {len(train_dataloader)}\")\n",
    "print(f\"Val dataloader size: {len(val_dataloader)}\")\n",
    "print(f\"Test dataloader size: {len(test_dataloader)}\")"
   ]
  },
  {
   "cell_type": "markdown",
   "id": "89dfb16e",
   "metadata": {},
   "source": [
    "#### Create and print model"
   ]
  },
  {
   "cell_type": "code",
   "execution_count": 16,
   "id": "063a4f81",
   "metadata": {},
   "outputs": [
    {
     "name": "stdout",
     "output_type": "stream",
     "text": [
      "[INFO] Created new effnet_b0 model.\n"
     ]
    }
   ],
   "source": [
    "# Create model\n",
    "classes = train_dataset.class_names\n",
    "num_classes = len(classes) # get output_shape (number of classes) as an argument for the model\n",
    "\n",
    "effnet_b0 = models.create_effnetb0(output_shape=num_classes, dropout_rate=0.3, unfreeze=True, device=device)"
   ]
  },
  {
   "cell_type": "code",
   "execution_count": 16,
   "id": "35d1eaf7",
   "metadata": {},
   "outputs": [
    {
     "data": {
      "text/plain": [
       "================================================================================================================================\n",
       "Layer (type (var_name))                                      Input Shape       Output Shape      Param #           Trainable\n",
       "================================================================================================================================\n",
       "EfficientNet (EfficientNet)                                  [32, 3, 250, 250] [32, 3]           --                True\n",
       "├─Sequential (features)                                      [32, 3, 250, 250] [32, 1280, 8, 8]  --                True\n",
       "│    └─Conv2dNormActivation (0)                              [32, 3, 250, 250] [32, 32, 125, 125] --                True\n",
       "│    │    └─Conv2d (0)                                       [32, 3, 250, 250] [32, 32, 125, 125] 864               True\n",
       "│    │    └─BatchNorm2d (1)                                  [32, 32, 125, 125] [32, 32, 125, 125] 64                True\n",
       "│    │    └─SiLU (2)                                         [32, 32, 125, 125] [32, 32, 125, 125] --                --\n",
       "│    └─Sequential (1)                                        [32, 32, 125, 125] [32, 16, 125, 125] --                True\n",
       "│    │    └─MBConv (0)                                       [32, 32, 125, 125] [32, 16, 125, 125] 1,448             True\n",
       "│    └─Sequential (2)                                        [32, 16, 125, 125] [32, 24, 63, 63]  --                True\n",
       "│    │    └─MBConv (0)                                       [32, 16, 125, 125] [32, 24, 63, 63]  6,004             True\n",
       "│    │    └─MBConv (1)                                       [32, 24, 63, 63]  [32, 24, 63, 63]  10,710            True\n",
       "│    └─Sequential (3)                                        [32, 24, 63, 63]  [32, 40, 32, 32]  --                True\n",
       "│    │    └─MBConv (0)                                       [32, 24, 63, 63]  [32, 40, 32, 32]  15,350            True\n",
       "│    │    └─MBConv (1)                                       [32, 40, 32, 32]  [32, 40, 32, 32]  31,290            True\n",
       "│    └─Sequential (4)                                        [32, 40, 32, 32]  [32, 80, 16, 16]  --                True\n",
       "│    │    └─MBConv (0)                                       [32, 40, 32, 32]  [32, 80, 16, 16]  37,130            True\n",
       "│    │    └─MBConv (1)                                       [32, 80, 16, 16]  [32, 80, 16, 16]  102,900           True\n",
       "│    │    └─MBConv (2)                                       [32, 80, 16, 16]  [32, 80, 16, 16]  102,900           True\n",
       "│    └─Sequential (5)                                        [32, 80, 16, 16]  [32, 112, 16, 16] --                True\n",
       "│    │    └─MBConv (0)                                       [32, 80, 16, 16]  [32, 112, 16, 16] 126,004           True\n",
       "│    │    └─MBConv (1)                                       [32, 112, 16, 16] [32, 112, 16, 16] 208,572           True\n",
       "│    │    └─MBConv (2)                                       [32, 112, 16, 16] [32, 112, 16, 16] 208,572           True\n",
       "│    └─Sequential (6)                                        [32, 112, 16, 16] [32, 192, 8, 8]   --                True\n",
       "│    │    └─MBConv (0)                                       [32, 112, 16, 16] [32, 192, 8, 8]   262,492           True\n",
       "│    │    └─MBConv (1)                                       [32, 192, 8, 8]   [32, 192, 8, 8]   587,952           True\n",
       "│    │    └─MBConv (2)                                       [32, 192, 8, 8]   [32, 192, 8, 8]   587,952           True\n",
       "│    │    └─MBConv (3)                                       [32, 192, 8, 8]   [32, 192, 8, 8]   587,952           True\n",
       "│    └─Sequential (7)                                        [32, 192, 8, 8]   [32, 320, 8, 8]   --                True\n",
       "│    │    └─MBConv (0)                                       [32, 192, 8, 8]   [32, 320, 8, 8]   717,232           True\n",
       "│    └─Conv2dNormActivation (8)                              [32, 320, 8, 8]   [32, 1280, 8, 8]  --                True\n",
       "│    │    └─Conv2d (0)                                       [32, 320, 8, 8]   [32, 1280, 8, 8]  409,600           True\n",
       "│    │    └─BatchNorm2d (1)                                  [32, 1280, 8, 8]  [32, 1280, 8, 8]  2,560             True\n",
       "│    │    └─SiLU (2)                                         [32, 1280, 8, 8]  [32, 1280, 8, 8]  --                --\n",
       "├─AdaptiveAvgPool2d (avgpool)                                [32, 1280, 8, 8]  [32, 1280, 1, 1]  --                --\n",
       "├─Sequential (classifier)                                    [32, 1280]        [32, 3]           --                True\n",
       "│    └─Dropout (0)                                           [32, 1280]        [32, 1280]        --                --\n",
       "│    └─Linear (1)                                            [32, 1280]        [32, 3]           3,843             True\n",
       "================================================================================================================================\n",
       "Total params: 4,011,391\n",
       "Trainable params: 4,011,391\n",
       "Non-trainable params: 0\n",
       "Total mult-adds (G): 15.93\n",
       "================================================================================================================================\n",
       "Input size (MB): 24.00\n",
       "Forward/backward pass size (MB): 4402.27\n",
       "Params size (MB): 16.05\n",
       "Estimated Total Size (MB): 4442.32\n",
       "================================================================================================================================"
      ]
     },
     "execution_count": 16,
     "metadata": {},
     "output_type": "execute_result"
    }
   ],
   "source": [
    "# Print out model summary\n",
    "summary(effnet_b0, \n",
    "        input_size=(32, 3, 250, 250), # (batch_size, color_channels, height, width)\n",
    "        verbose=0,\n",
    "        col_names=[\"input_size\", \"output_size\", \"num_params\", \"trainable\"],\n",
    "        col_width=17,\n",
    "        row_settings=[\"var_names\"])"
   ]
  },
  {
   "cell_type": "markdown",
   "id": "242a94b5",
   "metadata": {},
   "source": [
    "#### Set model training parameters (multiple experiments possible)"
   ]
  },
  {
   "cell_type": "code",
   "execution_count": 17,
   "id": "ae5f546e",
   "metadata": {},
   "outputs": [],
   "source": [
    "# 1. Create epochs list\n",
    "num_epochs = [5]\n",
    "\n",
    "# 2. Create models list (need to create a new model for each experiment)\n",
    "models_list = [\"effnet_b0\"]\n",
    "\n",
    "# 3. Create dataloaders dictionary for various dataloaders\n",
    "train_dataloaders = {\"train_data\": train_dataloader}\n",
    "\n",
    "# 4. Create target folder name were to save the tensorboard event files\n",
    "target_dir = \"log_test\"\n",
    "\n",
    "# 5. set number of samples for each class to consider class imbalance\n",
    "# class imbalance where nbv 99 == dead!\n",
    "#loss_weight = torch.Tensor([3730, 7632, 6578, 553, 312]) # 5 classes\n",
    "\n",
    "#loss_weight = torch.Tensor([11362, 6578, 553, 312]) # 4 classes\n",
    "\n",
    "#loss_weight = torch.Tensor([312, 14763, 3730]) # 3 classes | 0-10 = healthy, 15-95 = stressed, 99-100 = dead\n",
    "\n",
    "loss_weight = torch.Tensor([312, 7131, 11362]) # 3 classes | 0-25 = healthy, 30-95 = stressed, 99-100 = dead\n",
    "\n",
    "#loss_weight = torch.Tensor([312, 1477, 17016]) # 3 classes| 0-45 = healthy, 50-95 = stressed, 99-100 = dead\n",
    "\n",
    "\n",
    "\n",
    "loss_weight = loss_weight.type(torch.FloatTensor)\n",
    "loss_weight = loss_weight.to(device)\n",
    "# data 2020: [1194, 2516, 2776, 273, 97] (12 = NBV 99)\n",
    "# data 2021: [1097, 2548, 2475, 203, 112] (2 = NBV 99)\n",
    "# data 2022: [1439, 2568, 1327, 912, 88] (1 = NBV 99)\n",
    "\n"
   ]
  },
  {
   "cell_type": "markdown",
   "id": "223c8494",
   "metadata": {},
   "source": [
    "#### Start model training"
   ]
  },
  {
   "cell_type": "code",
   "execution_count": null,
   "id": "1813c163",
   "metadata": {},
   "outputs": [
    {
     "name": "stdout",
     "output_type": "stream",
     "text": [
      "[INFO] Experiment number: 1\n",
      "[INFO] Model: effnet_b0\n",
      "[INFO] DataLoader: train_data\n",
      "[INFO] Number of epochs: 5\n",
      "[INFO] Created new effnet_b0 model.\n",
      "[INFO] Created SummaryWriter, saving to: log_test\\2023-03\\train_data\\effnet_b0\\5_epochs...\n"
     ]
    },
    {
     "data": {
      "application/vnd.jupyter.widget-view+json": {
       "model_id": "36b26e3f21944eabadc51c5c534d54b6",
       "version_major": 2,
       "version_minor": 0
      },
      "text/plain": [
       "  0%|          | 0/5 [00:00<?, ?it/s]"
      ]
     },
     "metadata": {},
     "output_type": "display_data"
    }
   ],
   "source": [
    "%%time\n",
    "###### define Parameters######\n",
    "from efficientnet import model #for custom effnet\n",
    "n_bands = 3 # define number of bands\n",
    "num_classes = len(classes)\n",
    "lr = 0.001 # define learning rate\n",
    "dropout_rate = 0.2 #define dropout rate\n",
    "unfreeze = True\n",
    "\n",
    "\n",
    "# 1. Set the random seeds\n",
    "set_seeds(seed=0)\n",
    "\n",
    "# 2. Keep track of experiment numbers\n",
    "experiment_number = 0\n",
    "\n",
    "# 3. Loop through each DataLoader\n",
    "for dataloader_name, train_dataloader in train_dataloaders.items():\n",
    "\n",
    "    # 4. Loop through each number of epochs\n",
    "    for epochs in num_epochs: \n",
    "\n",
    "        # 5. Loop through each model name and create a new model based on the name\n",
    "        for model_name in models_list:\n",
    "\n",
    "            # 6. Create information print outs\n",
    "            experiment_number += 1\n",
    "            print(f\"[INFO] Experiment number: {experiment_number}\")\n",
    "            print(f\"[INFO] Model: {model_name}\")\n",
    "            print(f\"[INFO] DataLoader: {dataloader_name}\")\n",
    "            print(f\"[INFO] Number of epochs: {epochs}\")  \n",
    "\n",
    "            # 7. Select the model\n",
    "            #if model_name == \"effnet_b0_custom\":\n",
    "                #model = model.EfficientNet.from_pretrained('efficientnet-b0', in_channels=n_bands, num_classes=num_classes, dropout_rate=0.2)\n",
    "            #if model_name == \"ResNet152_treesat\":\n",
    "            #    treesat_model = r\"C:\\Users\\lwfeckesim\\01_PyTorch\\TreeSatAI\\repo_aligned\\trained_models\\08_RGB_scheduler_dropout_03_resnet152_treesat_train_data_100_percent_100_epochs.pth\"\n",
    "            #    model = models.create_resnet152(output_shape=num_classes, device=device)\n",
    "            #    model.fc = nn.Linear(in_features=model.fc.in_features,\n",
    "            #             out_features=15).to(device)\n",
    "            #    model.load_state_dict(torch.load(treesat_model))\n",
    "            #    model.fc = nn.Linear(in_features=model.fc.in_features,\n",
    "            #             out_features=num_classes).to(device)\n",
    "                \n",
    "            #if model_name == \"effnet_b0_treesat\":\n",
    "            #    treesat_model = r\"C:\\Users\\lwfeckesim\\01_PyTorch\\TreeSatAI\\repo_aligned\\trained_models\\06_Effnetb0_RGB_16batch_scheduler_dropout_02_effnet_b0_train_data_100_percent_50_epochs.pth\"\n",
    "            #    model = models.create_effnetb0(output_shape=num_classes, unfreeze=unfreeze, dropout_rate=dropout_rate, device=device)\n",
    "            #    model.classifier = torch.nn.Sequential(torch.nn.Dropout(p=0.3, inplace=True),\n",
    "            #                                           torch.nn.Linear(in_features=1280, # 2048 (b5), 2560 (b7)\n",
    "            #                                                           out_features=15, # same number of output units as our number of classes\n",
    "            #                                                           bias=True)).to(device)\n",
    "            #    model.load_state_dict(torch.load(treesat_model))\n",
    "            #    model.classifier = torch.nn.Sequential(torch.nn.Dropout(p=0.3, inplace=True),\n",
    "            #                                           torch.nn.Linear(in_features=1280, # 2048 (b5), 2560 (b7)\n",
    "            #                                                           out_features=num_classes, # same number of output units as our number of classes\n",
    "            #                                                           bias=True)).to(device)\n",
    "            if model_name == \"effnet_b0\":\n",
    "                model = models.create_effnetb0(output_shape=num_classes, unfreeze=unfreeze, dropout_rate=dropout_rate, device=device)\n",
    "            else:\n",
    "                model = models.create_effnetb7(output_shape=num_classes, unfreeze=unfreeze, dropout_rate=dropout_rate, device=device)\n",
    "            \n",
    "            # 8. Create a new loss and optimizer for every model\n",
    "            loss_fn = nn.CrossEntropyLoss(weight=loss_weight)\n",
    "            optimizer = torch.optim.Adam(params=model.parameters(), lr=lr)\n",
    "\n",
    "            # 9. Train target model with target dataloaders and track experiments\n",
    "            results = train(model=model,\n",
    "                            n_bands=n_bands,\n",
    "                            batch_size=batch_size,\n",
    "                            train_dataloader=train_dataloader,\n",
    "                            val_dataloader=val_dataloader, \n",
    "                            optimizer=optimizer,\n",
    "                            loss_fn=loss_fn,\n",
    "                            num_classes=num_classes,\n",
    "                            epochs=epochs,\n",
    "                            device=device,\n",
    "                            writer=create_writer(target_dir=target_dir,\n",
    "                                                 experiment_name=dataloader_name,\n",
    "                                                 model_name=model_name,\n",
    "                                                 extra=f\"{epochs}_epochs\"))\n",
    "            \n",
    "            # 10. Save the model to file so we can get back the best model\n",
    "            save_filepath = f\"01_{model_name}_{dataloader_name}_{epochs}_epochs.pth\"\n",
    "            save_model(model=model,\n",
    "                       target_dir=\"models\",\n",
    "                       model_name=save_filepath)\n",
    "            print(\"-\"*50 + \"\\n\")"
   ]
  },
  {
   "cell_type": "code",
   "execution_count": 117,
   "id": "32bf9733",
   "metadata": {},
   "outputs": [],
   "source": [
    "def test_step2(model: torch.nn.Module, \n",
    "              dataloader: torch.utils.data.DataLoader,\n",
    "              loss_fn: torch.nn.Module,\n",
    "              num_classes: int,\n",
    "              device: torch.device) -> Tuple[float, float]:\n",
    "    \n",
    "    # Put model in eval mode\n",
    "    model.eval() \n",
    "    \n",
    "    # Setup test loss and test accuracy values\n",
    "    test_loss, test_precision, test_recall, test_f1_score = 0, 0, 0, 0\n",
    "    \n",
    "    # Turn on inference context manager\n",
    "    with torch.inference_mode():\n",
    "        # Loop through DataLoader batches\n",
    "        for batch, (X, y) in enumerate(dataloader):\n",
    "            # Send data to target device\n",
    "            X, y = X.to(device), y.to(device)\n",
    "    \n",
    "            # 1. Forward pass\n",
    "            y_pred = model(X)\n",
    "\n",
    "            # 2. Calculate and accumulate loss\n",
    "            loss = loss_fn(y_pred, y)\n",
    "            test_loss += loss.item()\n",
    "            #loss_weighted = loss_fn(y_pred, y)\n",
    "            #test_loss_weighted += loss_weighted.item() \n",
    "            \n",
    "            # Calculate and accumulate evaluation metrics            \n",
    "            pre_metrics = MulticlassPrecision(num_classes=num_classes, average='macro').to(device)\n",
    "            test_precision += pre_metrics(y_pred, y)\n",
    "            \n",
    "            rec_metrics = MulticlassRecall(num_classes=num_classes, average='macro').to(device)\n",
    "            test_recall += rec_metrics(y_pred, y)\n",
    "            \n",
    "            f1_metrics = MulticlassF1Score(num_classes=num_classes, average='macro').to(device)\n",
    "            test_f1_score += f1_metrics(y_pred, y)\n",
    "             \n",
    "    # Adjust metrics to get average loss and accuracy per batch \n",
    "    test_loss = test_loss / len(dataloader)\n",
    "    test_precision = test_precision / len(dataloader)\n",
    "    test_recall = test_recall / len(dataloader)\n",
    "    test_f1_score = test_f1_score / len(dataloader)\n",
    "    \n",
    "   \n",
    "   \n",
    "    return test_loss, test_recall, test_precision, test_f1_score"
   ]
  },
  {
   "cell_type": "code",
   "execution_count": null,
   "id": "ada49b7f",
   "metadata": {},
   "outputs": [],
   "source": []
  },
  {
   "cell_type": "code",
   "execution_count": 118,
   "id": "3d032860",
   "metadata": {},
   "outputs": [],
   "source": [
    "loss_fn = nn.CrossEntropyLoss(weight=loss_weight)\n",
    "test_loss, test_recall, test_precision, test_f1_score = test_step2(model=model,\n",
    "                                                                         dataloader=test_dataloader,\n",
    "                                                                         loss_fn=loss_fn,\n",
    "                                                                         num_classes=num_classes,\n",
    "                                                                         device=device)"
   ]
  },
  {
   "cell_type": "code",
   "execution_count": null,
   "id": "d924805a",
   "metadata": {},
   "outputs": [],
   "source": []
  },
  {
   "cell_type": "code",
   "execution_count": 119,
   "id": "83bc9f9e",
   "metadata": {},
   "outputs": [
    {
     "name": "stdout",
     "output_type": "stream",
     "text": [
      "Test loss: 0.5016157356432721\n",
      "Test recall: 0.4164417088031769\n",
      "Test precision: 0.4271906316280365\n",
      "Test F1score: 0.40521106123924255\n"
     ]
    }
   ],
   "source": [
    "print(f\"Test loss: {test_loss}\")\n",
    "print(f\"Test recall: {test_recall}\")\n",
    "print(f\"Test precision: {test_precision}\")\n",
    "print(f\"Test F1score: {test_f1_score}\")"
   ]
  },
  {
   "cell_type": "code",
   "execution_count": 114,
   "id": "6dfbc663",
   "metadata": {},
   "outputs": [],
   "source": [
    "def make_predictions(model: torch.nn.Module, \n",
    "                     test_dataloader: torch.utils.data.DataLoader,\n",
    "                     device: torch.device):\n",
    "    # 1. Make predictions with trained model\n",
    "    y_preds = []\n",
    "    model.eval()\n",
    "    with torch.inference_mode():\n",
    "        for X, y in tqdm(test_dataloader, desc=\"Making predictions\"):\n",
    "            # Send data and targets to target device\n",
    "            X, y = X.to(device), y.to(device)\n",
    "            # Do the forward pass\n",
    "            y_logit = model(X)\n",
    "            # Turn predictions from logits -> prediction probabilities -> predictions labels\n",
    "            y_pred = torch.softmax(y_logit, dim=1).argmax(dim=1)\n",
    "            # Put predictions on CPU for evaluation\n",
    "            y_preds.append(y_pred.cpu())\n",
    "    # Concatenate list of predictions into a tensor\n",
    "    y_pred_tensor = torch.cat(y_preds)\n",
    "    return y_pred_tensor"
   ]
  },
  {
   "cell_type": "code",
   "execution_count": 115,
   "id": "bde6ac46",
   "metadata": {},
   "outputs": [],
   "source": [
    "def val_labels_3classes(test_dataset: torch.utils.data.dataset.Dataset):\n",
    "    torch_tensor = test_dataset.labels\n",
    "    torch_tensor = torch_tensor.squeeze(dim=1)\n",
    "    np_arr = torch_tensor.cpu().detach().numpy()\n",
    "    label_list = []\n",
    "    for i in np_arr:\n",
    "        if i <= 25:\n",
    "            label = 0\n",
    "            label_list.append(label)\n",
    "        elif i > 25 and i <= 95:\n",
    "            label = 1\n",
    "            label_list.append(label)\n",
    "        else:\n",
    "            label = 2\n",
    "            label_list.append(label)\n",
    "    array_labels = np.array(label_list)\n",
    "    val_labels = torch.from_numpy(array_labels)\n",
    "    return val_labels"
   ]
  },
  {
   "cell_type": "code",
   "execution_count": 116,
   "id": "aab9e321",
   "metadata": {},
   "outputs": [
    {
     "data": {
      "application/vnd.jupyter.widget-view+json": {
       "model_id": "5f71d21dff114e11bcdbed0f5e64f93d",
       "version_major": 2,
       "version_minor": 0
      },
      "text/plain": [
       "Making predictions:   0%|          | 0/79 [00:00<?, ?it/s]"
      ]
     },
     "metadata": {},
     "output_type": "display_data"
    },
    {
     "data": {
      "image/png": "[encoded data removed]",
      "text/plain": [
       "<Figure size 720x504 with 1 Axes>"
      ]
     },
     "metadata": {
      "needs_background": "light"
     },
     "output_type": "display_data"
    }
   ],
   "source": [
    "# 2. Setup confusion matrix instance and compare predictions to targets\n",
    "#from wze_uav.analysis import *\n",
    "y_pred_tensor = make_predictions(model=model,\n",
    "                                 test_dataloader=test_dataloader, \n",
    "                                 device=device)\n",
    "\n",
    "val_labels = val_labels_3classes(test_dataset=test_dataset)\n",
    "\n",
    "confmat = ConfusionMatrix(num_classes=num_classes, task='multiclass')\n",
    "confmat_tensor = confmat(preds=y_pred_tensor,\n",
    "                         target=val_labels)\n",
    "\n",
    "# 3. Plot the confusion matrix\n",
    "fig, ax = plot_confusion_matrix(\n",
    "    conf_mat=confmat_tensor.numpy(), # matplotlib likes working with NumPy \n",
    "    class_names=class_names, # turn the row and column labels into class names\n",
    "    figsize=(10, 7)\n",
    ");"
   ]
  },
  {
   "cell_type": "code",
   "execution_count": null,
   "id": "975ec08c",
   "metadata": {},
   "outputs": [],
   "source": [
    "# Setup the best model filepath\n",
    "best_model_path = r\"C:\\Users\\lwfeckesim\\01_PyTorch\\wze-uav\\wze-uav-master\\models\\01_effnet_b0_train_data_100_percent_5_epochs.pth\"\n",
    "\n",
    "# Instantiate a new instance of EffNetB0 (to load the saved state_dict() to)\n",
    "unfreeze=True\n",
    "best_model = models.create_effnetb0(output_shape=num_classes, unfreeze=unfreeze, device=device)\n",
    "\n",
    "# Load the saved best model state_dict()\n",
    "best_model.load_state_dict(torch.load(best_model_path))"
   ]
  }
 ],
 "metadata": {
  "kernelspec": {
   "display_name": "Python 3 (ipykernel)",
   "language": "python",
   "name": "python3"
  },
  "language_info": {
   "codemirror_mode": {
    "name": "ipython",
    "version": 3
   },
   "file_extension": ".py",
   "mimetype": "text/x-python",
   "name": "python",
   "nbconvert_exporter": "python",
   "pygments_lexer": "ipython3",
   "version": "3.9.16"
  }
 },
 "nbformat": 4,
 "nbformat_minor": 5
}
