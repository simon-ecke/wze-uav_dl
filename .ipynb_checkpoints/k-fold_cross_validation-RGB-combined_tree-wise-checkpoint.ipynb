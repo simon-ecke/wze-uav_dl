{
 "cells": [
  {
   "cell_type": "markdown",
   "id": "c1acdaa3",
   "metadata": {},
   "source": [
    "# WZE-UAV Image Classification using Deep Learning"
   ]
  },
  {
   "cell_type": "code",
   "execution_count": 1,
   "id": "2159aac5",
   "metadata": {},
   "outputs": [],
   "source": [
    "import os\n",
    "import gc\n",
    "import glob\n",
    "import numpy as np\n",
    "from pathlib import Path\n",
    "from tqdm.auto import tqdm\n",
    "from sklearn.metrics import confusion_matrix, classification_report\n",
    "from sklearn.model_selection import KFold"
   ]
  },
  {
   "cell_type": "code",
   "execution_count": 2,
   "id": "0026f7a9",
   "metadata": {},
   "outputs": [],
   "source": [
    "import torch\n",
    "import torchvision.transforms as T\n",
    "import torchvision\n",
    "from torch import nn\n",
    "from torch.utils.data import DataLoader\n",
    "from torchvision import datasets, transforms\n",
    "from torch.utils.data import Dataset\n",
    "import torch.optim as optim\n",
    "from torch.optim.lr_scheduler import ExponentialLR\n",
    "from mlxtend.plotting import plot_confusion_matrix"
   ]
  },
  {
   "cell_type": "code",
   "execution_count": 3,
   "id": "b160d7b4",
   "metadata": {},
   "outputs": [],
   "source": [
    "import wze_uav.data_loader as data_loader\n",
    "import wze_uav.models as models\n",
    "from wze_uav.engine import *\n",
    "from wze_uav.utils2 import *\n",
    "#from wze_uav.log_writer import create_writer\n",
    "from wze_uav.datasplit import *\n",
    "from efficientnet import model_effnet #for custom effnet with n_channels input\n",
    "import wandb"
   ]
  },
  {
   "cell_type": "markdown",
   "id": "2bd4fb2f",
   "metadata": {},
   "source": [
    "#### Get PyTorch version"
   ]
  },
  {
   "cell_type": "code",
   "execution_count": 4,
   "id": "c10886b1",
   "metadata": {},
   "outputs": [
    {
     "name": "stdout",
     "output_type": "stream",
     "text": [
      "torch version: 1.13.1+cu116\n",
      "torchvision version: 0.14.1+cu116\n"
     ]
    }
   ],
   "source": [
    "print(f\"torch version: {torch.__version__}\")\n",
    "print(f\"torchvision version: {torchvision.__version__}\")"
   ]
  },
  {
   "cell_type": "markdown",
   "id": "aa6a83cf",
   "metadata": {},
   "source": [
    "#### Preparing device agnostic code "
   ]
  },
  {
   "cell_type": "code",
   "execution_count": 5,
   "id": "13d5de88",
   "metadata": {},
   "outputs": [
    {
     "name": "stdout",
     "output_type": "stream",
     "text": [
      "cuda\n",
      "Index of current divice: 0\n",
      "Number of GPUs available: 1\n",
      "GPU Model: Quadro RTX 8000\n"
     ]
    }
   ],
   "source": [
    "# ensure device agnostic code\n",
    "device = 'cuda' if torch.cuda.is_available() else 'cpu'\n",
    "print(device)\n",
    "\n",
    "# get index of currently selected device\n",
    "print(f\"Index of current divice: {torch.cuda.current_device()}\")\n",
    "# get number of GPUs available\n",
    "print(f\"Number of GPUs available: {torch.cuda.device_count()}\")\n",
    "# get the name of the device\n",
    "print(f\"GPU Model: {torch.cuda.get_device_name(0)}\")"
   ]
  },
  {
   "cell_type": "markdown",
   "id": "8ef6b169",
   "metadata": {},
   "source": [
    "#### Login to Weights & Biases to track results"
   ]
  },
  {
   "cell_type": "code",
   "execution_count": 6,
   "id": "a59d27cf",
   "metadata": {},
   "outputs": [
    {
     "name": "stderr",
     "output_type": "stream",
     "text": [
      "Failed to detect the name of this notebook, you can set it manually with the WANDB_NOTEBOOK_NAME environment variable to enable code saving.\n",
      "\u001b[34m\u001b[1mwandb\u001b[0m: Currently logged in as: \u001b[33msimon-ecke\u001b[0m. Use \u001b[1m`wandb login --relogin`\u001b[0m to force relogin\n"
     ]
    },
    {
     "data": {
      "text/html": [
       "wandb version 0.15.2 is available!  To upgrade, please run:\n",
       " $ pip install wandb --upgrade"
      ],
      "text/plain": [
       "<IPython.core.display.HTML object>"
      ]
     },
     "metadata": {},
     "output_type": "display_data"
    },
    {
     "data": {
      "text/html": [
       "Tracking run with wandb version 0.14.2"
      ],
      "text/plain": [
       "<IPython.core.display.HTML object>"
      ]
     },
     "metadata": {},
     "output_type": "display_data"
    },
    {
     "data": {
      "text/html": [
       "Run data is saved locally in <code>C:\\Users\\lwfeckesim\\01_PyTorch\\wze-uav\\wze-uav-master\\wandb\\run-20230511_093940-l08n13uu</code>"
      ],
      "text/plain": [
       "<IPython.core.display.HTML object>"
      ]
     },
     "metadata": {},
     "output_type": "display_data"
    },
    {
     "data": {
      "text/html": [
       "Syncing run <strong><a href='https://wandb.ai/simon-ecke/wze-uav-combined/runs/l08n13uu' target=\"_blank\">pious-sky-31</a></strong> to <a href='https://wandb.ai/simon-ecke/wze-uav-combined' target=\"_blank\">Weights & Biases</a> (<a href='https://wandb.me/run' target=\"_blank\">docs</a>)<br/>"
      ],
      "text/plain": [
       "<IPython.core.display.HTML object>"
      ]
     },
     "metadata": {},
     "output_type": "display_data"
    },
    {
     "data": {
      "text/html": [
       " View project at <a href='https://wandb.ai/simon-ecke/wze-uav-combined' target=\"_blank\">https://wandb.ai/simon-ecke/wze-uav-combined</a>"
      ],
      "text/plain": [
       "<IPython.core.display.HTML object>"
      ]
     },
     "metadata": {},
     "output_type": "display_data"
    },
    {
     "data": {
      "text/html": [
       " View run at <a href='https://wandb.ai/simon-ecke/wze-uav-combined/runs/l08n13uu' target=\"_blank\">https://wandb.ai/simon-ecke/wze-uav-combined/runs/l08n13uu</a>"
      ],
      "text/plain": [
       "<IPython.core.display.HTML object>"
      ]
     },
     "metadata": {},
     "output_type": "display_data"
    },
    {
     "data": {
      "text/html": [
       "<button onClick=\"this.nextSibling.style.display='block';this.style.display='none';\">Display W&B run</button><iframe src='https://wandb.ai/simon-ecke/wze-uav-combined/runs/l08n13uu?jupyter=true' style='border:none;width:100%;height:420px;display:none;'></iframe>"
      ],
      "text/plain": [
       "<wandb.sdk.wandb_run.Run at 0x1b36a952b20>"
      ]
     },
     "execution_count": 6,
     "metadata": {},
     "output_type": "execute_result"
    }
   ],
   "source": [
    "# IMPORTANT: The proxy needs to be set in anaconda!\n",
    "# copy paste this in anaconda and restart jupyter notebook\n",
    "#set http_proxy=http://www-proxy.bayern.de:80\n",
    "#set https_proxy=http://www-proxy.bayern.de:80\n",
    "wandb.login()\n",
    "#wandb.init(settings=wandb.Settings(start_method=\"thread\"))\n",
    "wandb.init(project='wze-uav-combined', entity='simon-ecke')"
   ]
  },
  {
   "cell_type": "markdown",
   "id": "a26a6a34",
   "metadata": {},
   "source": [
    "#### Ensure reproducibility "
   ]
  },
  {
   "cell_type": "code",
   "execution_count": 7,
   "id": "dd4656a7",
   "metadata": {},
   "outputs": [],
   "source": [
    "# for more information, see also: https://pytorch.org/docs/stable/notes/randomness.html\n",
    "\n",
    "# Set seeds\n",
    "def set_seeds(seed: int=42):\n",
    "    \"\"\"Sets random sets for torch operations.\n",
    "\n",
    "    Args:\n",
    "        seed (int, optional): Random seed to set. Defaults to 42.\n",
    "    \"\"\"\n",
    "    # Set the seed for general torch operations\n",
    "    torch.manual_seed(seed)\n",
    "    # Set the seed for CUDA torch operations (ones that happen on the GPU)\n",
    "    torch.cuda.manual_seed(seed)\n",
    "    # seed for numpy\n",
    "    np.random.seed(seed)\n",
    "\n",
    "set_seeds(42) \n",
    "\n",
    "# Set to true -> might speed up the process but should be set to False if reproducible results are desired\n",
    "torch.backends.cudnn.benchmark = False\n"
   ]
  },
  {
   "cell_type": "markdown",
   "id": "8be33671",
   "metadata": {},
   "source": [
    "#### Define file directory"
   ]
  },
  {
   "cell_type": "code",
   "execution_count": 9,
   "id": "30645f36",
   "metadata": {},
   "outputs": [],
   "source": [
    "#####################################################################################\n",
    "# 3 channel input (r-g-b)\n",
    "data_path = r\"D:\\Drohnendaten\\10_WZE-UAV\\Auswertung_findatree\\Datasplit\\ROI\\rgb\"\n",
    "\n",
    "# 4 channel input (r-g-b-nir)\n",
    "#data_path = r\"D:\\Drohnendaten\\10_WZE-UAV\\Auswertung_findatree\\Datasplit\\ROI\\rgb-nir\"\n",
    "\n",
    "# 5 channel input (r-g-b-re-nir)\n",
    "#data_path = r\"D:\\Drohnendaten\\10_WZE-UAV\\Auswertung_findatree\\Datasplit\\ROI\\rgb-re-nir\"\n",
    "\n",
    "# 6 channel input (r-g-b-re-nir)\n",
    "#data_path = r\"D:\\Drohnendaten\\10_WZE-UAV\\Auswertung_findatree\\Datasplit\\ROI\\rgb-re-nir-chm\"\n",
    "\n",
    "#####################################################################################"
   ]
  },
  {
   "cell_type": "markdown",
   "id": "4560ce64",
   "metadata": {},
   "source": [
    "#### Get all file paths"
   ]
  },
  {
   "cell_type": "code",
   "execution_count": 10,
   "id": "aa072e4c",
   "metadata": {},
   "outputs": [],
   "source": [
    "fn_list = os.listdir(data_path)\n",
    "path_list = []\n",
    "# Iterate over all datafiles\n",
    "for year in fn_list:\n",
    "    year_dir = f'{data_path}\\\\{year}'\n",
    "    for filename in os.listdir(year_dir):\n",
    "        path = f'{year_dir}\\\\{filename}'\n",
    "        path_list.append(path)"
   ]
  },
  {
   "cell_type": "markdown",
   "id": "f3937a44",
   "metadata": {},
   "source": [
    "#### Create unique hash IDs for every individual tree"
   ]
  },
  {
   "cell_type": "code",
   "execution_count": null,
   "id": "8a50f1d7",
   "metadata": {},
   "outputs": [
    {
     "data": {
      "application/vnd.jupyter.widget-view+json": {
       "model_id": "34d352a6589c4736a072c34fc303b441",
       "version_major": 2,
       "version_minor": 0
      },
      "text/plain": [
       "Creating unique tree IDs...:   0%|          | 0/647 [00:00<?, ?it/s]"
      ]
     },
     "metadata": {},
     "output_type": "display_data"
    }
   ],
   "source": [
    "hashID_dict = data_loader.get_unique_treeID(path_list)"
   ]
  },
  {
   "cell_type": "markdown",
   "id": "6f4cea00",
   "metadata": {},
   "source": [
    "#### Import all imagery, labels and other features from hdf5 files"
   ]
  },
  {
   "cell_type": "code",
   "execution_count": null,
   "id": "94e3eecf",
   "metadata": {},
   "outputs": [],
   "source": [
    "image_set, label_set, species_set, kkl_set, bk_set, hash_id = data_loader.hdf5_to_img_label_5species(path_list,\n",
    "                                                                                               hashID_dict,\n",
    "                                                                                               load_sets=[\"images_masked\"])"
   ]
  },
  {
   "cell_type": "markdown",
   "id": "6a90e2b7",
   "metadata": {},
   "source": [
    "#### Convert nbv to classes"
   ]
  },
  {
   "cell_type": "code",
   "execution_count": 12,
   "id": "0224972a",
   "metadata": {},
   "outputs": [],
   "source": [
    "nbv_set = label_set\n",
    "label_set = combined_to_classes(species_set, nbv_set)"
   ]
  },
  {
   "cell_type": "markdown",
   "id": "c6b4cd85",
   "metadata": {},
   "source": [
    "#### Split data into a sub set and a test dataset"
   ]
  },
  {
   "cell_type": "code",
   "execution_count": 13,
   "id": "d06eda54",
   "metadata": {},
   "outputs": [
    {
     "name": "stdout",
     "output_type": "stream",
     "text": [
      "ORIGINAL POSITIVE RATIO: 2.9288929440389295\n",
      "Fold : 0\n",
      "TRAIN POSITIVE RATIO: 2.9223584354932868\n",
      "TEST POSITIVE RATIO : 2.9616228070175437\n",
      "LENGTH TRAIN GROUPS : 5197\n",
      "LENGTH TEST GROUPS  : 1037\n",
      "Number of True in sub_indices: 13704\n",
      "Number of False in sub_indices: 2736\n",
      "Number of True in test_indices: 1037\n",
      "Number of False in test_indices: 15403\n",
      "Check shapes:\n",
      "\n",
      "Images sub dataset: (13704, 250, 250, 6)\n",
      "Labels sub dataset: (13704, 1)\n",
      "\n",
      "Images test dataset: (1037, 250, 250, 6)\n",
      "Labels test dataset: (1037, 1)\n",
      "\n",
      "--------------------------------------------------\n",
      "Check if the split was stratified: (random_state=42)\n",
      "Healthy trees in sub dataset: 3722\n",
      "Stressed trees in sub dataset: 1941\n",
      "Dead trees in sub dataset: 1810\n",
      "Healthy trees in test dataset: 289\n",
      "Stressed trees in test dataset: 167\n",
      "Dead trees in test dataset: 121\n",
      "Ratio health trees in test dataset: 0.07764642665233745\n",
      "Ratio stressed trees in test dataset: 0.08603812467800102\n",
      "Ratio dead trees in test dataset: 0.06685082872928177\n"
     ]
    }
   ],
   "source": [
    "sub_image_set, sub_label_set, sub_hash_id, sub_species_set, test_image_set, test_label_set, test_hash_id, test_species_set = data_split(image_set, label_set, hash_id, species_set, n_splits=6, random_state=42, seed=2)\n"
   ]
  },
  {
   "cell_type": "markdown",
   "id": "c48fbb5b",
   "metadata": {},
   "source": [
    "#### Check if any hash ID is in both sub and test dataset"
   ]
  },
  {
   "cell_type": "code",
   "execution_count": 14,
   "id": "874367cf",
   "metadata": {},
   "outputs": [
    {
     "name": "stdout",
     "output_type": "stream",
     "text": [
      "There are no hash_id values in both train and test datasets. The datasplit was successful\n"
     ]
    }
   ],
   "source": [
    "hash_set = set(sub_hash_id[:,0].flatten())\n",
    "test_hash_set = set(test_hash_id[:,0].flatten())\n",
    "intersection = hash_set.intersection(test_hash_set)\n",
    "if intersection:\n",
    "    print(f\"Hash_id values in both train and test sets: {len(intersection)}\")\n",
    "else:\n",
    "    print(\"There are no hash_id values in both train and test datasets. The datasplit was successful\")"
   ]
  },
  {
   "cell_type": "markdown",
   "id": "9e5b64d4",
   "metadata": {},
   "source": [
    "#### Check feature distribution of the Test dataset"
   ]
  },
  {
   "cell_type": "code",
   "execution_count": 15,
   "id": "a33ff5cb",
   "metadata": {},
   "outputs": [
    {
     "name": "stdout",
     "output_type": "stream",
     "text": [
      "Test dataset\n",
      "Test data Picea abies healthy: 289\n",
      "Test data Picea abies stressed: 167\n",
      "Test data Pinus sylvestris healthy: 121\n",
      "Test data Pinus sylvestris stressed: 135\n",
      "Test data Abies alba healthy: 30\n",
      "Test data Abies alba stressed: 13\n",
      "Test data Fagus sylvatica healthy: 96\n",
      "Test data Fagus sylvatica stressed: 79\n",
      "Test data Quercus robur/petraea healthy: 58\n",
      "Test data Quercus robur/petraea stressed: 26\n",
      "Test data dead trees: 23\n",
      "--------------------------------------------------\n",
      "Remaining dataset\n",
      "Remaining data Picea abies healthy: 3722\n",
      "Remaining data Picea abies stressed: 1941\n",
      "Remaining data Pinus sylvestris healthy: 1810\n",
      "Remaining data Pinus sylvestris stressed: 2159\n",
      "Remaining data Abies alba healthy: 405\n",
      "Remaining data Abies alba stressed: 160\n",
      "Remaining data Fagus sylvatica healthy: 1230\n",
      "Remaining data Fagus sylvatica stressed: 883\n",
      "Remaining data Quercus robur/petraea healthy: 739\n",
      "Remaining data Quercus robur/petraea stressed: 433\n",
      "Remaining data dead trees: 222\n",
      "--------------------------------------------------\n"
     ]
    }
   ],
   "source": [
    "def count_occurrences(data, value):\n",
    "    count = 0\n",
    "    for item in data:\n",
    "        if item == value:\n",
    "            count += 1\n",
    "    return count\n",
    "\n",
    "print(\"Test dataset\")\n",
    "print(f\"Test data Picea abies healthy: {count_occurrences(test_label_set, 0)}\")\n",
    "print(f\"Test data Picea abies stressed: {count_occurrences(test_label_set, 1)}\")\n",
    "print(f\"Test data Pinus sylvestris healthy: {count_occurrences(test_label_set, 2)}\")\n",
    "print(f\"Test data Pinus sylvestris stressed: {count_occurrences(test_label_set, 3)}\")\n",
    "print(f\"Test data Abies alba healthy: {count_occurrences(test_label_set, 4)}\")\n",
    "print(f\"Test data Abies alba stressed: {count_occurrences(test_label_set, 5)}\")\n",
    "print(f\"Test data Fagus sylvatica healthy: {count_occurrences(test_label_set, 6)}\")\n",
    "print(f\"Test data Fagus sylvatica stressed: {count_occurrences(test_label_set, 7)}\")\n",
    "print(f\"Test data Quercus robur/petraea healthy: {count_occurrences(test_label_set, 8)}\")\n",
    "print(f\"Test data Quercus robur/petraea stressed: {count_occurrences(test_label_set, 9)}\")\n",
    "print(f\"Test data dead trees: {count_occurrences(test_label_set, 10)}\")\n",
    "print(\"-\"*50)\n",
    "\n",
    "print(\"Remaining dataset\")\n",
    "print(f\"Remaining data Picea abies healthy: {count_occurrences(sub_label_set, 0)}\")\n",
    "print(f\"Remaining data Picea abies stressed: {count_occurrences(sub_label_set, 1)}\")\n",
    "print(f\"Remaining data Pinus sylvestris healthy: {count_occurrences(sub_label_set, 2)}\")\n",
    "print(f\"Remaining data Pinus sylvestris stressed: {count_occurrences(sub_label_set, 3)}\")\n",
    "print(f\"Remaining data Abies alba healthy: {count_occurrences(sub_label_set, 4)}\")\n",
    "print(f\"Remaining data Abies alba stressed: {count_occurrences(sub_label_set, 5)}\")\n",
    "print(f\"Remaining data Fagus sylvatica healthy: {count_occurrences(sub_label_set, 6)}\")\n",
    "print(f\"Remaining data Fagus sylvatica stressed: {count_occurrences(sub_label_set, 7)}\")\n",
    "print(f\"Remaining data Quercus robur/petraea healthy: {count_occurrences(sub_label_set, 8)}\")\n",
    "print(f\"Remaining data Quercus robur/petraea stressed: {count_occurrences(sub_label_set, 9)}\")\n",
    "print(f\"Remaining data dead trees: {count_occurrences(sub_label_set, 10)}\")\n",
    "print(\"-\"*50)"
   ]
  },
  {
   "cell_type": "code",
   "execution_count": 16,
   "id": "e08fcf57",
   "metadata": {},
   "outputs": [],
   "source": [
    "# train transform with augmentation. \n",
    "transform_train = transforms.Compose([transforms.ToTensor(), transforms.RandomHorizontalFlip(p=0.5), transforms.RandomVerticalFlip(p=0.5),\n",
    "                                      transforms.RandomRotation(degrees=[0,360])])\n",
    "\n",
    "# test and val dataset transform without augmentation. \n",
    "transform = transforms.Compose([transforms.ToTensor()])\n",
    "\n",
    "# class names need to fit the customDataset class used e.g. 3 classes -> use CustomDataset3Classes\n",
    "#class_names = ['healthy', 'slightly_stressed', 'moderately_stressed', 'highly_stressed', 'dead']\n",
    "#class_names = ['healthy', 'moderately_stressed', 'highly_stressed', 'dead']\n",
    "#class_names = ['healthy', 'moderate stress', 'severe stress', 'dead']\n",
    "class_names = ['Picea abies healthy', 'Picea abies stressed', 'Pinus sylvestris healthy', 'Pinus sylvestris stressed', \n",
    "               'Abies alba healthy', 'Abies alba stressed', 'Fagus sylvatica healthy', 'Fagus sylvatica stressed',\n",
    "               'Quercus robur/petraea healthy', 'Quercus robur/petraea stressed', 'dead trees']\n",
    "\n",
    "# set seeds\n",
    "g = torch.Generator()\n",
    "g.manual_seed(42)\n",
    "NUM_WORKERS=3 # should be changed, depending on the system used\n",
    "batch_size=32"
   ]
  },
  {
   "cell_type": "markdown",
   "id": "31779c05",
   "metadata": {},
   "source": [
    "#### Define variables and parameters"
   ]
  },
  {
   "cell_type": "code",
   "execution_count": 17,
   "id": "10ae4379",
   "metadata": {},
   "outputs": [
    {
     "name": "stdout",
     "output_type": "stream",
     "text": [
      "Memory allocated: 0 bytes\n"
     ]
    }
   ],
   "source": [
    "# 1. Define number of epochs\n",
    "epochs = 50\n",
    "n_bands = sub_image_set[0].shape[2] # get number of bands\n",
    "\n",
    "# 2. Define model\n",
    "num_classes = len(class_names)\n",
    "unfreeze = True # all layer weights get updated\n",
    "dropout_rate = 0.5 #define dropout rate\n",
    "model_name = \"EffNet_b7_RGB-RE-NIR-CHM-5species-combined\"\n",
    "\n",
    "# 3. Define loss, optimizer and learning rate scheduler\n",
    "lr = 0.001 # define learning rate\n",
    "min_lr = 1e-6 # minimum learning rate threshold\n",
    "gamma = 0.75 # how fast the learning rate decreases per epoch (low number=faster decrease)\n",
    "patience = 10\n",
    "\n",
    "# 4. Create target folder name were to save the tensorboard event files\n",
    "experiment_name = 'RGB-RE-NIR-CHM-5species-combined'\n",
    "extra = \"RGB-RE-NIR-CHM-5species-combined\"\n",
    "\n",
    "#----------------------------------------------------------------------\n",
    "#torch.cuda.empty_cache()\n",
    "print(f\"Memory allocated: {torch.cuda.memory_allocated()} bytes\") "
   ]
  },
  {
   "cell_type": "markdown",
   "id": "09768b1a",
   "metadata": {},
   "source": [
    "#### Run k-Fold cross-validation on EfficientNet"
   ]
  },
  {
   "cell_type": "code",
   "execution_count": null,
   "id": "9c29c81d",
   "metadata": {},
   "outputs": [
    {
     "name": "stdout",
     "output_type": "stream",
     "text": [
      "ORIGINAL POSITIVE RATIO: 2.9223584354932868\n",
      "Fold : 1\n",
      "TRAIN POSITIVE RATIO: 2.921033478893741\n",
      "VAL POSITIVE RATIO  : 2.9277286135693217\n",
      "LENGTH TRAIN GROUPS : 4158\n",
      "LENGTH VAL GROUPS   : 1039\n"
     ]
    },
    {
     "data": {
      "text/html": [
       "Finishing last run (ID:21dfb2f5) before initializing another..."
      ],
      "text/plain": [
       "<IPython.core.display.HTML object>"
      ]
     },
     "metadata": {},
     "output_type": "display_data"
    },
    {
     "data": {
      "text/html": [
       "Waiting for W&B process to finish... <strong style=\"color:green\">(success).</strong>"
      ],
      "text/plain": [
       "<IPython.core.display.HTML object>"
      ]
     },
     "metadata": {},
     "output_type": "display_data"
    },
    {
     "data": {
      "application/vnd.jupyter.widget-view+json": {
       "model_id": "1a4b3a944dde486ab3a7422017300583",
       "version_major": 2,
       "version_minor": 0
      },
      "text/plain": [
       "VBox(children=(Label(value='0.001 MB of 0.007 MB uploaded (0.000 MB deduped)\\r'), FloatProgress(value=0.191202…"
      ]
     },
     "metadata": {},
     "output_type": "display_data"
    },
    {
     "data": {
      "text/html": [
       " View run <strong style=\"color:#cdcd00\">sweet-glitter-8</strong> at: <a href='https://wandb.ai/simon-ecke/wze-uav-combined/runs/21dfb2f5' target=\"_blank\">https://wandb.ai/simon-ecke/wze-uav-combined/runs/21dfb2f5</a><br/>Synced 5 W&B file(s), 0 media file(s), 0 artifact file(s) and 0 other file(s)"
      ],
      "text/plain": [
       "<IPython.core.display.HTML object>"
      ]
     },
     "metadata": {},
     "output_type": "display_data"
    },
    {
     "data": {
      "text/html": [
       "Find logs at: <code>.\\wandb\\run-20230509_020927-21dfb2f5\\logs</code>"
      ],
      "text/plain": [
       "<IPython.core.display.HTML object>"
      ]
     },
     "metadata": {},
     "output_type": "display_data"
    },
    {
     "data": {
      "text/html": [
       "Successfully finished last run (ID:21dfb2f5). Initializing new run:<br/>"
      ],
      "text/plain": [
       "<IPython.core.display.HTML object>"
      ]
     },
     "metadata": {},
     "output_type": "display_data"
    },
    {
     "data": {
      "application/vnd.jupyter.widget-view+json": {
       "model_id": "92ed87b726f74718964289c87a564d8e",
       "version_major": 2,
       "version_minor": 0
      },
      "text/plain": [
       "VBox(children=(Label(value='Waiting for wandb.init()...\\r'), FloatProgress(value=0.0169333333382383, max=1.0))…"
      ]
     },
     "metadata": {},
     "output_type": "display_data"
    },
    {
     "data": {
      "text/html": [
       "wandb version 0.15.2 is available!  To upgrade, please run:\n",
       " $ pip install wandb --upgrade"
      ],
      "text/plain": [
       "<IPython.core.display.HTML object>"
      ]
     },
     "metadata": {},
     "output_type": "display_data"
    },
    {
     "data": {
      "text/html": [
       "Tracking run with wandb version 0.14.2"
      ],
      "text/plain": [
       "<IPython.core.display.HTML object>"
      ]
     },
     "metadata": {},
     "output_type": "display_data"
    },
    {
     "data": {
      "text/html": [
       "Run data is saved locally in <code>C:\\Users\\lwfeckesim\\01_PyTorch\\wze-uav\\wze-uav-master\\wandb\\run-20230509_031913-mfjej95j</code>"
      ],
      "text/plain": [
       "<IPython.core.display.HTML object>"
      ]
     },
     "metadata": {},
     "output_type": "display_data"
    },
    {
     "data": {
      "text/html": [
       "Syncing run <strong><a href='https://wandb.ai/simon-ecke/wze-uav-combined/runs/mfjej95j' target=\"_blank\">fold_1_RGB-RE-NIR-CHM-5species-combined</a></strong> to <a href='https://wandb.ai/simon-ecke/wze-uav-combined' target=\"_blank\">Weights & Biases</a> (<a href='https://wandb.me/run' target=\"_blank\">docs</a>)<br/>"
      ],
      "text/plain": [
       "<IPython.core.display.HTML object>"
      ]
     },
     "metadata": {},
     "output_type": "display_data"
    },
    {
     "data": {
      "text/html": [
       " View project at <a href='https://wandb.ai/simon-ecke/wze-uav-combined' target=\"_blank\">https://wandb.ai/simon-ecke/wze-uav-combined</a>"
      ],
      "text/plain": [
       "<IPython.core.display.HTML object>"
      ]
     },
     "metadata": {},
     "output_type": "display_data"
    },
    {
     "data": {
      "text/html": [
       " View run at <a href='https://wandb.ai/simon-ecke/wze-uav-combined/runs/mfjej95j' target=\"_blank\">https://wandb.ai/simon-ecke/wze-uav-combined/runs/mfjej95j</a>"
      ],
      "text/plain": [
       "<IPython.core.display.HTML object>"
      ]
     },
     "metadata": {},
     "output_type": "display_data"
    },
    {
     "name": "stdout",
     "output_type": "stream",
     "text": [
      "There are no same hash_id values in train, val or test datasets. The datasplit was successful\n",
      "Check shapes:\n",
      "\n",
      "Images train dataset: (10992, 250, 250, 6)\n",
      "Labels train dataset: (10992, 1)\n",
      "\n",
      "Images validation dataset: (1039, 250, 250, 6)\n",
      "Labels validation dataset: (1039, 1)\n",
      "\n",
      "--------------------------------------------------\n",
      "Check if the split was stratified: (random_state=42)\n",
      "Healthy trees in train dataset: 2974\n",
      "Moderately stressed trees in train dataset: 1549\n",
      "Severely stressed trees in train dataset: 1457\n",
      "Dead trees in train dataset: 1739\n",
      "Healthy trees in validation dataset: 289\n",
      "Moderately stressed trees in validation dataset: 165\n",
      "Severely stressed trees in validation dataset: 119\n",
      "Dead trees in validation dataset: 160\n",
      "Ratio health trees in validation dataset: 0.07764642665233745\n",
      "Ratio moderately stressed trees in validation dataset: 0.08500772797527048\n",
      "Ratio severely stressed trees in validation dataset: 0.09116022099447514\n",
      "Ratio dead trees in validation dataset: 0.05511811023622047\n",
      "--------------------------------------------------\n",
      "\n",
      "Creating datasets for fold: 1\n",
      "\n",
      "Creating dataloaders for fold: 1\n",
      "\n",
      "Loaded pretrained weights for efficientnet-b7\n",
      "\n",
      "[INFO] Fold number: 1\n",
      "[INFO] Number of epochs: 50\n",
      "[INFO] Batch_size: 32\n",
      "[INFO] Number of bands: 6\n",
      "[INFO] Dropout rate: 0.5\n",
      "[INFO] Gamma learning rate: 0.75\n",
      "[INFO] Memory allocated: 0 bytes\n"
     ]
    },
    {
     "data": {
      "application/vnd.jupyter.widget-view+json": {
       "model_id": "130b56c2a8894a77b8bee9539ae46e2d",
       "version_major": 2,
       "version_minor": 0
      },
      "text/plain": [
       "  0%|          | 0/50 [00:00<?, ?it/s]"
      ]
     },
     "metadata": {},
     "output_type": "display_data"
    },
    {
     "name": "stdout",
     "output_type": "stream",
     "text": [
      "Epoch: 1 \n",
      "Learning rate: 0.001\n",
      "Train loss: 1.7451 | Train precision: 0.2386 | Train recall: 0.2096 | Train f1score: 0.2036 | Train acc: 0.3409 | Train kappa: 0.5687 \n",
      "Val loss: 1.9784 | Val precision: 0.1971 | Val recall: 0.1755 | Val f1score: 0.1429 | Val acc: 0.3516 | Val kappa: 0.4828 \n",
      "\n",
      "Epoch: 2 \n",
      "Learning rate: 0.00075\n",
      "Train loss: 1.4622 | Train precision: 0.3293 | Train recall: 0.2663 | Train f1score: 0.2639 | Train acc: 0.4044 | Train kappa: 0.6896 \n",
      "Val loss: 1.6045 | Val precision: 0.2017 | Val recall: 0.2263 | Val f1score: 0.1768 | Val acc: 0.3945 | Val kappa: 0.5682 \n",
      "\n",
      "Epoch: 3 \n",
      "Learning rate: 0.0005625000000000001\n",
      "Train loss: 1.1785 | Train precision: 0.4647 | Train recall: 0.4067 | Train f1score: 0.4169 | Train acc: 0.4961 | Train kappa: 0.7847 \n",
      "Val loss: 1.8049 | Val precision: 0.3544 | Val recall: 0.2558 | Val f1score: 0.2256 | Val acc: 0.3438 | Val kappa: 0.4483 \n",
      "\n",
      "Epoch: 4 \n",
      "Learning rate: 0.000421875\n",
      "Train loss: 1.0590 | Train precision: 0.5059 | Train recall: 0.4691 | Train f1score: 0.4749 | Train acc: 0.5434 | Train kappa: 0.8387 \n",
      "Val loss: 2.5355 | Val precision: 0.3627 | Val recall: 0.3027 | Val f1score: 0.2074 | Val acc: 0.3174 | Val kappa: 0.5085 \n",
      "\n",
      "Epoch: 5 \n",
      "Learning rate: 0.00031640625\n",
      "Train loss: 1.0157 | Train precision: 0.5197 | Train recall: 0.4884 | Train f1score: 0.4939 | Train acc: 0.5472 | Train kappa: 0.8501 \n",
      "Val loss: 1.2786 | Val precision: 0.4833 | Val recall: 0.4414 | Val f1score: 0.4131 | Val acc: 0.4727 | Val kappa: 0.7822 \n",
      "\n",
      "Epoch: 6 \n",
      "Learning rate: 0.0002373046875\n",
      "Train loss: 0.9628 | Train precision: 0.5577 | Train recall: 0.5357 | Train f1score: 0.5401 | Train acc: 0.5747 | Train kappa: 0.8763 \n",
      "Val loss: 1.5504 | Val precision: 0.4304 | Val recall: 0.4133 | Val f1score: 0.3536 | Val acc: 0.4375 | Val kappa: 0.7191 \n",
      "\n",
      "Epoch: 7 \n",
      "Learning rate: 0.000177978515625\n",
      "Train loss: 0.9231 | Train precision: 0.5880 | Train recall: 0.5587 | Train f1score: 0.5672 | Train acc: 0.5952 | Train kappa: 0.8814 \n",
      "Val loss: 0.9901 | Val precision: 0.5278 | Val recall: 0.4907 | Val f1score: 0.4842 | Val acc: 0.5498 | Val kappa: 0.8563 \n",
      "\n",
      "Epoch: 8 \n",
      "Learning rate: 0.00013348388671875\n",
      "Train loss: 0.8876 | Train precision: 0.6019 | Train recall: 0.5779 | Train f1score: 0.5856 | Train acc: 0.6050 | Train kappa: 0.8936 \n",
      "Val loss: 0.9275 | Val precision: 0.5956 | Val recall: 0.5040 | Val f1score: 0.4970 | Val acc: 0.5811 | Val kappa: 0.8568 \n",
      "\n",
      "Epoch: 9 \n",
      "Learning rate: 0.0001001129150390625\n",
      "Train loss: 0.8568 | Train precision: 0.6193 | Train recall: 0.5996 | Train f1score: 0.6052 | Train acc: 0.6141 | Train kappa: 0.9008 \n",
      "Val loss: 1.0173 | Val precision: 0.5170 | Val recall: 0.5317 | Val f1score: 0.5018 | Val acc: 0.5703 | Val kappa: 0.8320 \n",
      "\n",
      "Epoch: 10 \n",
      "Learning rate: 7.508468627929687e-05\n",
      "Train loss: 0.8321 | Train precision: 0.6384 | Train recall: 0.6153 | Train f1score: 0.6227 | Train acc: 0.6274 | Train kappa: 0.9055 \n",
      "Val loss: 0.9258 | Val precision: 0.5157 | Val recall: 0.5112 | Val f1score: 0.5040 | Val acc: 0.5664 | Val kappa: 0.8382 \n",
      "\n",
      "Epoch: 11 \n",
      "Learning rate: 5.6313514709472656e-05\n",
      "Train loss: 0.8212 | Train precision: 0.6353 | Train recall: 0.6150 | Train f1score: 0.6213 | Train acc: 0.6274 | Train kappa: 0.9104 \n",
      "Val loss: 0.9158 | Val precision: 0.5704 | Val recall: 0.5431 | Val f1score: 0.5393 | Val acc: 0.6055 | Val kappa: 0.8677 \n",
      "\n",
      "Epoch: 12 \n",
      "Learning rate: 4.223513603210449e-05\n",
      "Train loss: 0.8055 | Train precision: 0.6508 | Train recall: 0.6174 | Train f1score: 0.6271 | Train acc: 0.6398 | Train kappa: 0.9228 \n",
      "Val loss: 0.9437 | Val precision: 0.5297 | Val recall: 0.5420 | Val f1score: 0.5281 | Val acc: 0.5928 | Val kappa: 0.8747 \n",
      "\n",
      "Epoch: 13 \n",
      "Learning rate: 3.167635202407837e-05\n",
      "Train loss: 0.8024 | Train precision: 0.6410 | Train recall: 0.6246 | Train f1score: 0.6290 | Train acc: 0.6380 | Train kappa: 0.9135 \n",
      "Val loss: 0.9158 | Val precision: 0.5394 | Val recall: 0.5580 | Val f1score: 0.5397 | Val acc: 0.5898 | Val kappa: 0.8660 \n",
      "\n",
      "Epoch: 14 \n",
      "Learning rate: 2.3757264018058778e-05\n",
      "Train loss: 0.7776 | Train precision: 0.6572 | Train recall: 0.6343 | Train f1score: 0.6422 | Train acc: 0.6440 | Train kappa: 0.9241 \n",
      "Val loss: 0.9005 | Val precision: 0.5950 | Val recall: 0.5662 | Val f1score: 0.5574 | Val acc: 0.6016 | Val kappa: 0.8840 \n",
      "\n",
      "Epoch: 15 \n",
      "Learning rate: 1.7817948013544083e-05\n",
      "Train loss: 0.7985 | Train precision: 0.6541 | Train recall: 0.6322 | Train f1score: 0.6395 | Train acc: 0.6450 | Train kappa: 0.9183 \n",
      "Val loss: 0.9341 | Val precision: 0.5535 | Val recall: 0.5520 | Val f1score: 0.5463 | Val acc: 0.5850 | Val kappa: 0.8747 \n",
      "\n",
      "Epoch: 16 \n",
      "Learning rate: 1.3363461010158063e-05\n",
      "Train loss: 0.7882 | Train precision: 0.6442 | Train recall: 0.6231 | Train f1score: 0.6302 | Train acc: 0.6398 | Train kappa: 0.9162 \n",
      "Val loss: 0.9158 | Val precision: 0.5506 | Val recall: 0.5499 | Val f1score: 0.5421 | Val acc: 0.5898 | Val kappa: 0.8850 \n",
      "\n",
      "Epoch: 17 \n",
      "Learning rate: 1.0022595757618546e-05\n",
      "Train loss: 0.7809 | Train precision: 0.6512 | Train recall: 0.6386 | Train f1score: 0.6424 | Train acc: 0.6464 | Train kappa: 0.9218 \n",
      "Val loss: 0.9020 | Val precision: 0.5587 | Val recall: 0.5535 | Val f1score: 0.5430 | Val acc: 0.5957 | Val kappa: 0.8889 \n",
      "\n",
      "Epoch: 18 \n",
      "Learning rate: 7.51694681821391e-06\n",
      "Train loss: 0.7821 | Train precision: 0.6586 | Train recall: 0.6404 | Train f1score: 0.6465 | Train acc: 0.6462 | Train kappa: 0.9197 \n",
      "Val loss: 0.9015 | Val precision: 0.5555 | Val recall: 0.5602 | Val f1score: 0.5498 | Val acc: 0.5986 | Val kappa: 0.8857 \n",
      "\n",
      "Epoch: 19 \n",
      "Learning rate: 5.637710113660432e-06\n",
      "Train loss: 0.7715 | Train precision: 0.6605 | Train recall: 0.6529 | Train f1score: 0.6544 | Train acc: 0.6503 | Train kappa: 0.9240 \n",
      "Val loss: 0.8968 | Val precision: 0.5754 | Val recall: 0.5690 | Val f1score: 0.5621 | Val acc: 0.6016 | Val kappa: 0.8889 \n",
      "\n",
      "Epoch: 20 \n",
      "Learning rate: 4.228282585245324e-06\n",
      "Train loss: 0.7846 | Train precision: 0.6562 | Train recall: 0.6372 | Train f1score: 0.6446 | Train acc: 0.6470 | Train kappa: 0.9221 \n",
      "Val loss: 0.8942 | Val precision: 0.5591 | Val recall: 0.5629 | Val f1score: 0.5559 | Val acc: 0.6016 | Val kappa: 0.8875 \n",
      "\n",
      "Epoch: 21 \n",
      "Learning rate: 3.1712119389339933e-06\n",
      "Train loss: 0.7747 | Train precision: 0.6583 | Train recall: 0.6439 | Train f1score: 0.6488 | Train acc: 0.6516 | Train kappa: 0.9248 \n",
      "Val loss: 0.8957 | Val precision: 0.5694 | Val recall: 0.5728 | Val f1score: 0.5626 | Val acc: 0.6025 | Val kappa: 0.8880 \n",
      "\n",
      "Epoch: 22 \n",
      "Learning rate: 2.378408954200495e-06\n",
      "Train loss: 0.7686 | Train precision: 0.6723 | Train recall: 0.6611 | Train f1score: 0.6656 | Train acc: 0.6571 | Train kappa: 0.9223 \n",
      "Val loss: 0.8944 | Val precision: 0.5676 | Val recall: 0.5646 | Val f1score: 0.5536 | Val acc: 0.6055 | Val kappa: 0.8874 \n",
      "\n",
      "Epoch: 23 \n",
      "Learning rate: 1.7838067156503713e-06\n",
      "Train loss: 0.7761 | Train precision: 0.6614 | Train recall: 0.6368 | Train f1score: 0.6457 | Train acc: 0.6454 | Train kappa: 0.9196 \n",
      "Val loss: 0.8948 | Val precision: 0.5733 | Val recall: 0.5702 | Val f1score: 0.5598 | Val acc: 0.6064 | Val kappa: 0.8868 \n",
      "\n",
      "Epoch: 24 \n",
      "Learning rate: 1.3378550367377785e-06\n",
      "Train loss: 0.7738 | Train precision: 0.6643 | Train recall: 0.6417 | Train f1score: 0.6497 | Train acc: 0.6469 | Train kappa: 0.9235 \n",
      "Val loss: 0.8908 | Val precision: 0.5731 | Val recall: 0.5672 | Val f1score: 0.5589 | Val acc: 0.6094 | Val kappa: 0.8873 \n",
      "\n",
      "Epoch: 25 \n",
      "Learning rate: 1.0033912775533338e-06\n",
      "Train loss: 0.7737 | Train precision: 0.6690 | Train recall: 0.6449 | Train f1score: 0.6550 | Train acc: 0.6489 | Train kappa: 0.9211 \n",
      "Val loss: 0.8933 | Val precision: 0.5771 | Val recall: 0.5701 | Val f1score: 0.5632 | Val acc: 0.6064 | Val kappa: 0.8894 \n",
      "\n",
      "Epoch: 26 \n",
      "Learning rate: 1e-06\n",
      "Train loss: 0.7777 | Train precision: 0.6660 | Train recall: 0.6495 | Train f1score: 0.6548 | Train acc: 0.6502 | Train kappa: 0.9192 \n",
      "Val loss: 0.8935 | Val precision: 0.5739 | Val recall: 0.5717 | Val f1score: 0.5611 | Val acc: 0.6084 | Val kappa: 0.8905 \n",
      "\n",
      "Epoch: 27 \n",
      "Learning rate: 1e-06\n",
      "Train loss: 0.7659 | Train precision: 0.6667 | Train recall: 0.6473 | Train f1score: 0.6550 | Train acc: 0.6570 | Train kappa: 0.9214 \n",
      "Val loss: 0.8923 | Val precision: 0.5747 | Val recall: 0.5714 | Val f1score: 0.5607 | Val acc: 0.6113 | Val kappa: 0.8890 \n",
      "\n"
     ]
    },
    {
     "name": "stdout",
     "output_type": "stream",
     "text": [
      "Epoch: 28 \n",
      "Learning rate: 1e-06\n",
      "Train loss: 0.7722 | Train precision: 0.6747 | Train recall: 0.6533 | Train f1score: 0.6597 | Train acc: 0.6590 | Train kappa: 0.9243 \n",
      "Val loss: 0.8916 | Val precision: 0.5835 | Val recall: 0.5810 | Val f1score: 0.5726 | Val acc: 0.6084 | Val kappa: 0.8914 \n",
      "\n",
      "Epoch: 29 \n",
      "Learning rate: 1e-06\n",
      "Train loss: 0.7633 | Train precision: 0.6623 | Train recall: 0.6450 | Train f1score: 0.6514 | Train acc: 0.6559 | Train kappa: 0.9220 \n",
      "Val loss: 0.8926 | Val precision: 0.5790 | Val recall: 0.5762 | Val f1score: 0.5648 | Val acc: 0.6143 | Val kappa: 0.8906 \n",
      "\n",
      "Epoch: 30 \n",
      "Learning rate: 1e-06\n",
      "Train loss: 0.7654 | Train precision: 0.6685 | Train recall: 0.6518 | Train f1score: 0.6581 | Train acc: 0.6603 | Train kappa: 0.9260 \n",
      "Val loss: 0.8926 | Val precision: 0.5739 | Val recall: 0.5701 | Val f1score: 0.5593 | Val acc: 0.6113 | Val kappa: 0.8900 \n",
      "\n",
      "Epoch: 31 \n",
      "Learning rate: 1e-06\n",
      "Train loss: 0.7648 | Train precision: 0.6680 | Train recall: 0.6449 | Train f1score: 0.6539 | Train acc: 0.6512 | Train kappa: 0.9299 \n",
      "Val loss: 0.8919 | Val precision: 0.5733 | Val recall: 0.5700 | Val f1score: 0.5598 | Val acc: 0.6084 | Val kappa: 0.8901 \n",
      "\n",
      "Epoch: 32 \n",
      "Learning rate: 1e-06\n",
      "Train loss: 0.7656 | Train precision: 0.6660 | Train recall: 0.6488 | Train f1score: 0.6548 | Train acc: 0.6491 | Train kappa: 0.9295 \n",
      "Val loss: 0.8911 | Val precision: 0.5725 | Val recall: 0.5706 | Val f1score: 0.5597 | Val acc: 0.6084 | Val kappa: 0.8916 \n",
      "\n",
      "Epoch: 33 \n",
      "Learning rate: 1e-06\n",
      "Train loss: 0.7733 | Train precision: 0.6588 | Train recall: 0.6393 | Train f1score: 0.6471 | Train acc: 0.6477 | Train kappa: 0.9252 \n",
      "Val loss: 0.8934 | Val precision: 0.5822 | Val recall: 0.5804 | Val f1score: 0.5709 | Val acc: 0.6055 | Val kappa: 0.8897 \n",
      "\n",
      "Epoch: 34 \n",
      "Learning rate: 1e-06\n",
      "Train loss: 0.7635 | Train precision: 0.6702 | Train recall: 0.6568 | Train f1score: 0.6613 | Train acc: 0.6545 | Train kappa: 0.9223 \n",
      "Val loss: 0.8921 | Val precision: 0.5735 | Val recall: 0.5728 | Val f1score: 0.5622 | Val acc: 0.6113 | Val kappa: 0.8907 \n",
      "\n",
      "Early stopping after epoch 34\n"
     ]
    },
    {
     "data": {
      "text/html": [
       "Waiting for W&B process to finish... <strong style=\"color:green\">(success).</strong>"
      ],
      "text/plain": [
       "<IPython.core.display.HTML object>"
      ]
     },
     "metadata": {},
     "output_type": "display_data"
    },
    {
     "data": {
      "application/vnd.jupyter.widget-view+json": {
       "model_id": "4e618c4d4e2f4e1a82371c83f5d71d65",
       "version_major": 2,
       "version_minor": 0
      },
      "text/plain": [
       "VBox(children=(Label(value='0.001 MB of 0.001 MB uploaded (0.000 MB deduped)\\r'), FloatProgress(value=1.0, max…"
      ]
     },
     "metadata": {},
     "output_type": "display_data"
    },
    {
     "data": {
      "text/html": [
       "<style>\n",
       "    table.wandb td:nth-child(1) { padding: 0 10px; text-align: left ; width: auto;} td:nth-child(2) {text-align: left ; width: 100%}\n",
       "    .wandb-row { display: flex; flex-direction: row; flex-wrap: wrap; justify-content: flex-start; width: 100% }\n",
       "    .wandb-col { display: flex; flex-direction: column; flex-basis: 100%; flex: 1; padding: 10px; }\n",
       "    </style>\n",
       "<div class=\"wandb-row\"><div class=\"wandb-col\"><h3>Run history:</h3><br/><table class=\"wandb\"><tr><td>learning_rate</td><td>█▆▅▄▃▃▂▂▂▂▁▁▁▁▁▁▁▁▁▁▁▁▁▁▁▁▁▁▁▁▁▁▁▁</td></tr><tr><td>train_f1_score</td><td>▁▂▄▅▅▆▇▇▇▇▇▇▇██▇██████████████████</td></tr><tr><td>train_loss</td><td>█▆▄▃▃▂▂▂▂▁▁▁▁▁▁▁▁▁▁▁▁▁▁▁▁▁▁▁▁▁▁▁▁▁</td></tr><tr><td>val_f1_score</td><td>▁▂▂▂▅▄▇▇▇▇▇▇▇█████████████████████</td></tr><tr><td>val_loss</td><td>▆▄▅█▃▄▁▁▂▁▁▁▁▁▁▁▁▁▁▁▁▁▁▁▁▁▁▁▁▁▁▁▁▁</td></tr></table><br/></div><div class=\"wandb-col\"><h3>Run summary:</h3><br/><table class=\"wandb\"><tr><td>learning_rate</td><td>0.0</td></tr><tr><td>train_f1_score</td><td>0.66129</td></tr><tr><td>train_loss</td><td>0.76354</td></tr><tr><td>val_f1_score</td><td>0.56216</td></tr><tr><td>val_loss</td><td>0.89207</td></tr></table><br/></div></div>"
      ],
      "text/plain": [
       "<IPython.core.display.HTML object>"
      ]
     },
     "metadata": {},
     "output_type": "display_data"
    },
    {
     "data": {
      "text/html": [
       " View run <strong style=\"color:#cdcd00\">fold_1_RGB-RE-NIR-CHM-5species-combined</strong> at: <a href='https://wandb.ai/simon-ecke/wze-uav-combined/runs/mfjej95j' target=\"_blank\">https://wandb.ai/simon-ecke/wze-uav-combined/runs/mfjej95j</a><br/>Synced 5 W&B file(s), 0 media file(s), 0 artifact file(s) and 0 other file(s)"
      ],
      "text/plain": [
       "<IPython.core.display.HTML object>"
      ]
     },
     "metadata": {},
     "output_type": "display_data"
    },
    {
     "data": {
      "text/html": [
       "Find logs at: <code>.\\wandb\\run-20230509_031913-mfjej95j\\logs</code>"
      ],
      "text/plain": [
       "<IPython.core.display.HTML object>"
      ]
     },
     "metadata": {},
     "output_type": "display_data"
    },
    {
     "name": "stdout",
     "output_type": "stream",
     "text": [
      "Deleting variables and emptying cache\n",
      "Memory allocated: 1047905792 bytes\n",
      "--------------------------------------------------\n",
      "\n",
      "Fold : 2\n",
      "TRAIN POSITIVE RATIO: 2.956775487871603\n",
      "VAL POSITIVE RATIO  : 2.7845142439737036\n",
      "LENGTH TRAIN GROUPS : 4159\n",
      "LENGTH VAL GROUPS   : 1038\n"
     ]
    },
    {
     "data": {
      "text/html": [
       "wandb version 0.15.2 is available!  To upgrade, please run:\n",
       " $ pip install wandb --upgrade"
      ],
      "text/plain": [
       "<IPython.core.display.HTML object>"
      ]
     },
     "metadata": {},
     "output_type": "display_data"
    },
    {
     "data": {
      "text/html": [
       "Tracking run with wandb version 0.14.2"
      ],
      "text/plain": [
       "<IPython.core.display.HTML object>"
      ]
     },
     "metadata": {},
     "output_type": "display_data"
    },
    {
     "data": {
      "text/html": [
       "Run data is saved locally in <code>C:\\Users\\lwfeckesim\\01_PyTorch\\wze-uav\\wze-uav-master\\wandb\\run-20230509_055818-ogvhvnt9</code>"
      ],
      "text/plain": [
       "<IPython.core.display.HTML object>"
      ]
     },
     "metadata": {},
     "output_type": "display_data"
    },
    {
     "data": {
      "text/html": [
       "Syncing run <strong><a href='https://wandb.ai/simon-ecke/wze-uav-combined/runs/ogvhvnt9' target=\"_blank\">fold_2_RGB-RE-NIR-CHM-5species-combined</a></strong> to <a href='https://wandb.ai/simon-ecke/wze-uav-combined' target=\"_blank\">Weights & Biases</a> (<a href='https://wandb.me/run' target=\"_blank\">docs</a>)<br/>"
      ],
      "text/plain": [
       "<IPython.core.display.HTML object>"
      ]
     },
     "metadata": {},
     "output_type": "display_data"
    },
    {
     "data": {
      "text/html": [
       " View project at <a href='https://wandb.ai/simon-ecke/wze-uav-combined' target=\"_blank\">https://wandb.ai/simon-ecke/wze-uav-combined</a>"
      ],
      "text/plain": [
       "<IPython.core.display.HTML object>"
      ]
     },
     "metadata": {},
     "output_type": "display_data"
    },
    {
     "data": {
      "text/html": [
       " View run at <a href='https://wandb.ai/simon-ecke/wze-uav-combined/runs/ogvhvnt9' target=\"_blank\">https://wandb.ai/simon-ecke/wze-uav-combined/runs/ogvhvnt9</a>"
      ],
      "text/plain": [
       "<IPython.core.display.HTML object>"
      ]
     },
     "metadata": {},
     "output_type": "display_data"
    },
    {
     "name": "stdout",
     "output_type": "stream",
     "text": [
      "There are no same hash_id values in train, val or test datasets. The datasplit was successful\n",
      "Check shapes:\n",
      "\n",
      "Images train dataset: (10966, 250, 250, 6)\n",
      "Labels train dataset: (10966, 1)\n",
      "\n",
      "Images validation dataset: (1038, 250, 250, 6)\n",
      "Labels validation dataset: (1038, 1)\n",
      "\n",
      "--------------------------------------------------\n",
      "Check if the split was stratified: (random_state=42)\n",
      "Healthy trees in train dataset: 2919\n",
      "Moderately stressed trees in train dataset: 1548\n",
      "Severely stressed trees in train dataset: 1474\n",
      "Dead trees in train dataset: 1736\n",
      "Healthy trees in validation dataset: 298\n",
      "Moderately stressed trees in validation dataset: 170\n",
      "Severely stressed trees in validation dataset: 123\n",
      "Dead trees in validation dataset: 153\n",
      "Ratio health trees in validation dataset: 0.0800644814615798\n",
      "Ratio moderately stressed trees in validation dataset: 0.08758371973209686\n",
      "Ratio severely stressed trees in validation dataset: 0.09392265193370165\n",
      "Ratio dead trees in validation dataset: 0.05697081982399259\n",
      "--------------------------------------------------\n",
      "\n",
      "Creating datasets for fold: 2\n",
      "\n",
      "Creating dataloaders for fold: 2\n",
      "\n",
      "Loaded pretrained weights for efficientnet-b7\n",
      "\n",
      "[INFO] Fold number: 2\n",
      "[INFO] Number of epochs: 50\n",
      "[INFO] Batch_size: 32\n",
      "[INFO] Number of bands: 6\n",
      "[INFO] Dropout rate: 0.5\n",
      "[INFO] Gamma learning rate: 0.75\n",
      "[INFO] Memory allocated: 0 bytes\n"
     ]
    },
    {
     "data": {
      "application/vnd.jupyter.widget-view+json": {
       "model_id": "fb9bdfad77e5498fb8a894a982ffb23a",
       "version_major": 2,
       "version_minor": 0
      },
      "text/plain": [
       "  0%|          | 0/50 [00:00<?, ?it/s]"
      ]
     },
     "metadata": {},
     "output_type": "display_data"
    },
    {
     "name": "stdout",
     "output_type": "stream",
     "text": [
      "Epoch: 1 \n",
      "Learning rate: 0.001\n",
      "Train loss: 1.7196 | Train precision: 0.2249 | Train recall: 0.2160 | Train f1score: 0.2095 | Train acc: 0.3407 | Train kappa: 0.5871 \n",
      "Val loss: 2.4716 | Val precision: 0.1349 | Val recall: 0.1131 | Val f1score: 0.0642 | Val acc: 0.2012 | Val kappa: 0.0927 \n",
      "\n",
      "Epoch: 2 \n",
      "Learning rate: 0.00075\n",
      "Train loss: 1.4241 | Train precision: 0.3386 | Train recall: 0.3027 | Train f1score: 0.3036 | Train acc: 0.4232 | Train kappa: 0.6664 \n",
      "Val loss: 1.9626 | Val precision: 0.4569 | Val recall: 0.2134 | Val f1score: 0.1655 | Val acc: 0.3135 | Val kappa: 0.5254 \n",
      "\n",
      "Epoch: 3 \n",
      "Learning rate: 0.0005625000000000001\n",
      "Train loss: 1.3196 | Train precision: 0.3979 | Train recall: 0.3570 | Train f1score: 0.3600 | Train acc: 0.4559 | Train kappa: 0.7426 \n",
      "Val loss: 2.2065 | Val precision: 0.3070 | Val recall: 0.2061 | Val f1score: 0.1658 | Val acc: 0.3281 | Val kappa: 0.5226 \n",
      "\n",
      "Epoch: 4 \n",
      "Learning rate: 0.000421875\n",
      "Train loss: 1.2344 | Train precision: 0.4399 | Train recall: 0.3963 | Train f1score: 0.3960 | Train acc: 0.4905 | Train kappa: 0.7706 \n",
      "Val loss: 1.4051 | Val precision: 0.3720 | Val recall: 0.3281 | Val f1score: 0.3263 | Val acc: 0.4482 | Val kappa: 0.7330 \n",
      "\n",
      "Epoch: 5 \n",
      "Learning rate: 0.00031640625\n",
      "Train loss: 1.1814 | Train precision: 0.4747 | Train recall: 0.4272 | Train f1score: 0.4334 | Train acc: 0.5032 | Train kappa: 0.8108 \n",
      "Val loss: 1.7380 | Val precision: 0.4087 | Val recall: 0.2835 | Val f1score: 0.2628 | Val acc: 0.4062 | Val kappa: 0.6304 \n",
      "\n",
      "Epoch: 6 \n",
      "Learning rate: 0.0002373046875\n",
      "Train loss: 1.1072 | Train precision: 0.5174 | Train recall: 0.4777 | Train f1score: 0.4876 | Train acc: 0.5313 | Train kappa: 0.8323 \n",
      "Val loss: 1.9452 | Val precision: 0.4537 | Val recall: 0.3561 | Val f1score: 0.3102 | Val acc: 0.3535 | Val kappa: 0.5598 \n",
      "\n",
      "Epoch: 7 \n",
      "Learning rate: 0.000177978515625\n",
      "Train loss: 1.0716 | Train precision: 0.5168 | Train recall: 0.4787 | Train f1score: 0.4859 | Train acc: 0.5391 | Train kappa: 0.8390 \n",
      "Val loss: 2.1594 | Val precision: 0.3572 | Val recall: 0.3113 | Val f1score: 0.2337 | Val acc: 0.2939 | Val kappa: 0.2633 \n",
      "\n",
      "Epoch: 8 \n",
      "Learning rate: 0.00013348388671875\n",
      "Train loss: 1.0326 | Train precision: 0.5464 | Train recall: 0.5081 | Train f1score: 0.5177 | Train acc: 0.5537 | Train kappa: 0.8488 \n",
      "Val loss: 1.2286 | Val precision: 0.5594 | Val recall: 0.4668 | Val f1score: 0.4499 | Val acc: 0.5127 | Val kappa: 0.8020 \n",
      "\n",
      "Epoch: 9 \n",
      "Learning rate: 0.0001001129150390625\n",
      "Train loss: 0.9937 | Train precision: 0.5570 | Train recall: 0.5261 | Train f1score: 0.5358 | Train acc: 0.5646 | Train kappa: 0.8629 \n",
      "Val loss: 1.0786 | Val precision: 0.5495 | Val recall: 0.5285 | Val f1score: 0.5240 | Val acc: 0.5703 | Val kappa: 0.8633 \n",
      "\n",
      "Epoch: 10 \n",
      "Learning rate: 7.508468627929687e-05\n",
      "Train loss: 0.9650 | Train precision: 0.5908 | Train recall: 0.5540 | Train f1score: 0.5662 | Train acc: 0.5847 | Train kappa: 0.8800 \n",
      "Val loss: 1.0325 | Val precision: 0.5605 | Val recall: 0.5302 | Val f1score: 0.5212 | Val acc: 0.5820 | Val kappa: 0.8514 \n",
      "\n",
      "Epoch: 11 \n",
      "Learning rate: 5.6313514709472656e-05\n",
      "Train loss: 0.9700 | Train precision: 0.5800 | Train recall: 0.5488 | Train f1score: 0.5588 | Train acc: 0.5765 | Train kappa: 0.8745 \n",
      "Val loss: 1.2451 | Val precision: 0.5025 | Val recall: 0.4715 | Val f1score: 0.4417 | Val acc: 0.5068 | Val kappa: 0.8092 \n",
      "\n",
      "Epoch: 12 \n",
      "Learning rate: 4.223513603210449e-05\n",
      "Train loss: 0.9358 | Train precision: 0.5963 | Train recall: 0.5686 | Train f1score: 0.5747 | Train acc: 0.5916 | Train kappa: 0.8908 \n",
      "Val loss: 0.9996 | Val precision: 0.5783 | Val recall: 0.5241 | Val f1score: 0.5310 | Val acc: 0.5947 | Val kappa: 0.8673 \n",
      "\n",
      "Epoch: 13 \n",
      "Learning rate: 3.167635202407837e-05\n",
      "Train loss: 0.9318 | Train precision: 0.5940 | Train recall: 0.5635 | Train f1score: 0.5728 | Train acc: 0.5914 | Train kappa: 0.8858 \n",
      "Val loss: 0.9667 | Val precision: 0.5464 | Val recall: 0.5334 | Val f1score: 0.5236 | Val acc: 0.5908 | Val kappa: 0.8646 \n",
      "\n",
      "Epoch: 14 \n",
      "Learning rate: 2.3757264018058778e-05\n",
      "Train loss: 0.9209 | Train precision: 0.5992 | Train recall: 0.5664 | Train f1score: 0.5781 | Train acc: 0.5963 | Train kappa: 0.8867 \n",
      "Val loss: 1.0142 | Val precision: 0.5412 | Val recall: 0.5401 | Val f1score: 0.5318 | Val acc: 0.5713 | Val kappa: 0.8362 \n",
      "\n",
      "Epoch: 15 \n",
      "Learning rate: 1.7817948013544083e-05\n",
      "Train loss: 0.9107 | Train precision: 0.6065 | Train recall: 0.5804 | Train f1score: 0.5895 | Train acc: 0.5965 | Train kappa: 0.8943 \n",
      "Val loss: 0.9694 | Val precision: 0.5728 | Val recall: 0.5413 | Val f1score: 0.5341 | Val acc: 0.6016 | Val kappa: 0.8642 \n",
      "\n",
      "Epoch: 16 \n",
      "Learning rate: 1.3363461010158063e-05\n",
      "Train loss: 0.8969 | Train precision: 0.6126 | Train recall: 0.5862 | Train f1score: 0.5960 | Train acc: 0.6002 | Train kappa: 0.8905 \n",
      "Val loss: 0.9656 | Val precision: 0.5910 | Val recall: 0.5686 | Val f1score: 0.5742 | Val acc: 0.6035 | Val kappa: 0.8752 \n",
      "\n",
      "Epoch: 17 \n",
      "Learning rate: 1.0022595757618546e-05\n",
      "Train loss: 0.8968 | Train precision: 0.6141 | Train recall: 0.5867 | Train f1score: 0.5954 | Train acc: 0.6108 | Train kappa: 0.8917 \n",
      "Val loss: 0.9682 | Val precision: 0.5866 | Val recall: 0.5625 | Val f1score: 0.5666 | Val acc: 0.6045 | Val kappa: 0.8742 \n",
      "\n",
      "Epoch: 18 \n",
      "Learning rate: 7.51694681821391e-06\n",
      "Train loss: 0.9048 | Train precision: 0.6146 | Train recall: 0.5820 | Train f1score: 0.5925 | Train acc: 0.6020 | Train kappa: 0.8969 \n",
      "Val loss: 0.9451 | Val precision: 0.5806 | Val recall: 0.5654 | Val f1score: 0.5611 | Val acc: 0.6074 | Val kappa: 0.8704 \n",
      "\n",
      "Epoch: 19 \n",
      "Learning rate: 5.637710113660432e-06\n",
      "Train loss: 0.8892 | Train precision: 0.6157 | Train recall: 0.5827 | Train f1score: 0.5928 | Train acc: 0.6107 | Train kappa: 0.9006 \n",
      "Val loss: 0.9453 | Val precision: 0.5943 | Val recall: 0.5793 | Val f1score: 0.5793 | Val acc: 0.6162 | Val kappa: 0.8719 \n",
      "\n",
      "Epoch: 20 \n",
      "Learning rate: 4.228282585245324e-06\n",
      "Train loss: 0.8912 | Train precision: 0.6218 | Train recall: 0.5889 | Train f1score: 0.6014 | Train acc: 0.6082 | Train kappa: 0.8999 \n",
      "Val loss: 0.9471 | Val precision: 0.5932 | Val recall: 0.5678 | Val f1score: 0.5722 | Val acc: 0.6123 | Val kappa: 0.8729 \n",
      "\n",
      "Epoch: 21 \n",
      "Learning rate: 3.1712119389339933e-06\n",
      "Train loss: 0.8863 | Train precision: 0.6165 | Train recall: 0.5859 | Train f1score: 0.5965 | Train acc: 0.6020 | Train kappa: 0.8983 \n",
      "Val loss: 0.9468 | Val precision: 0.5945 | Val recall: 0.5686 | Val f1score: 0.5741 | Val acc: 0.6162 | Val kappa: 0.8728 \n",
      "\n",
      "Epoch: 22 \n",
      "Learning rate: 2.378408954200495e-06\n",
      "Train loss: 0.8809 | Train precision: 0.6210 | Train recall: 0.5920 | Train f1score: 0.6026 | Train acc: 0.6069 | Train kappa: 0.9046 \n",
      "Val loss: 0.9423 | Val precision: 0.5931 | Val recall: 0.5802 | Val f1score: 0.5777 | Val acc: 0.6123 | Val kappa: 0.8742 \n",
      "\n",
      "Epoch: 23 \n",
      "Learning rate: 1.7838067156503713e-06\n",
      "Train loss: 0.8773 | Train precision: 0.6374 | Train recall: 0.6015 | Train f1score: 0.6140 | Train acc: 0.6183 | Train kappa: 0.8996 \n",
      "Val loss: 0.9465 | Val precision: 0.5928 | Val recall: 0.5673 | Val f1score: 0.5730 | Val acc: 0.6133 | Val kappa: 0.8743 \n",
      "\n",
      "Epoch: 24 \n",
      "Learning rate: 1.3378550367377785e-06\n",
      "Train loss: 0.8948 | Train precision: 0.6135 | Train recall: 0.5868 | Train f1score: 0.5958 | Train acc: 0.6064 | Train kappa: 0.8930 \n",
      "Val loss: 0.9440 | Val precision: 0.5957 | Val recall: 0.5833 | Val f1score: 0.5807 | Val acc: 0.6152 | Val kappa: 0.8758 \n",
      "\n",
      "Epoch: 25 \n",
      "Learning rate: 1.0033912775533338e-06\n",
      "Train loss: 0.8843 | Train precision: 0.6245 | Train recall: 0.5968 | Train f1score: 0.6058 | Train acc: 0.6128 | Train kappa: 0.8994 \n",
      "Val loss: 0.9505 | Val precision: 0.5902 | Val recall: 0.5661 | Val f1score: 0.5708 | Val acc: 0.6094 | Val kappa: 0.8751 \n",
      "\n",
      "Epoch: 26 \n",
      "Learning rate: 1e-06\n",
      "Train loss: 0.8882 | Train precision: 0.6220 | Train recall: 0.5966 | Train f1score: 0.6055 | Train acc: 0.6109 | Train kappa: 0.8956 \n",
      "Val loss: 0.9402 | Val precision: 0.5899 | Val recall: 0.5740 | Val f1score: 0.5743 | Val acc: 0.6113 | Val kappa: 0.8752 \n",
      "\n",
      "Epoch: 27 \n",
      "Learning rate: 1e-06\n",
      "Train loss: 0.8802 | Train precision: 0.6137 | Train recall: 0.5865 | Train f1score: 0.5951 | Train acc: 0.6086 | Train kappa: 0.8988 \n",
      "Val loss: 0.9445 | Val precision: 0.5898 | Val recall: 0.5676 | Val f1score: 0.5713 | Val acc: 0.6143 | Val kappa: 0.8759 \n",
      "\n"
     ]
    },
    {
     "name": "stdout",
     "output_type": "stream",
     "text": [
      "Epoch: 28 \n",
      "Learning rate: 1e-06\n",
      "Train loss: 0.8994 | Train precision: 0.6126 | Train recall: 0.5864 | Train f1score: 0.5961 | Train acc: 0.6051 | Train kappa: 0.8925 \n",
      "Val loss: 0.9481 | Val precision: 0.5963 | Val recall: 0.5690 | Val f1score: 0.5746 | Val acc: 0.6143 | Val kappa: 0.8744 \n",
      "\n",
      "Epoch: 29 \n",
      "Learning rate: 1e-06\n",
      "Train loss: 0.8853 | Train precision: 0.6279 | Train recall: 0.5977 | Train f1score: 0.6080 | Train acc: 0.6160 | Train kappa: 0.8975 \n",
      "Val loss: 0.9463 | Val precision: 0.5959 | Val recall: 0.5706 | Val f1score: 0.5759 | Val acc: 0.6152 | Val kappa: 0.8781 \n",
      "\n",
      "Epoch: 30 \n",
      "Learning rate: 1e-06\n",
      "Train loss: 0.8843 | Train precision: 0.6367 | Train recall: 0.5988 | Train f1score: 0.6119 | Train acc: 0.6147 | Train kappa: 0.8985 \n",
      "Val loss: 0.9365 | Val precision: 0.5958 | Val recall: 0.5762 | Val f1score: 0.5775 | Val acc: 0.6152 | Val kappa: 0.8773 \n",
      "\n",
      "Epoch: 31 \n",
      "Learning rate: 1e-06\n",
      "Train loss: 0.8864 | Train precision: 0.6287 | Train recall: 0.6009 | Train f1score: 0.6115 | Train acc: 0.6148 | Train kappa: 0.8994 \n",
      "Val loss: 0.9462 | Val precision: 0.5961 | Val recall: 0.5712 | Val f1score: 0.5761 | Val acc: 0.6133 | Val kappa: 0.8755 \n",
      "\n",
      "Epoch: 32 \n",
      "Learning rate: 1e-06\n",
      "Train loss: 0.8763 | Train precision: 0.6223 | Train recall: 0.5891 | Train f1score: 0.6016 | Train acc: 0.6120 | Train kappa: 0.8996 \n",
      "Val loss: 0.9414 | Val precision: 0.5982 | Val recall: 0.5848 | Val f1score: 0.5812 | Val acc: 0.6143 | Val kappa: 0.8755 \n",
      "\n",
      "Epoch: 33 \n",
      "Learning rate: 1e-06\n",
      "Train loss: 0.8818 | Train precision: 0.6284 | Train recall: 0.5929 | Train f1score: 0.6046 | Train acc: 0.6105 | Train kappa: 0.8958 \n",
      "Val loss: 0.9394 | Val precision: 0.5997 | Val recall: 0.5841 | Val f1score: 0.5827 | Val acc: 0.6133 | Val kappa: 0.8748 \n",
      "\n",
      "Epoch: 34 \n",
      "Learning rate: 1e-06\n",
      "Train loss: 0.8878 | Train precision: 0.6158 | Train recall: 0.5886 | Train f1score: 0.5986 | Train acc: 0.6104 | Train kappa: 0.8918 \n",
      "Val loss: 0.9473 | Val precision: 0.5961 | Val recall: 0.5692 | Val f1score: 0.5740 | Val acc: 0.6143 | Val kappa: 0.8772 \n",
      "\n",
      "Epoch: 35 \n",
      "Learning rate: 1e-06\n",
      "Train loss: 0.8833 | Train precision: 0.6219 | Train recall: 0.5931 | Train f1score: 0.6031 | Train acc: 0.6067 | Train kappa: 0.9010 \n",
      "Val loss: 0.9452 | Val precision: 0.5899 | Val recall: 0.5739 | Val f1score: 0.5729 | Val acc: 0.6104 | Val kappa: 0.8726 \n",
      "\n",
      "Epoch: 36 \n",
      "Learning rate: 1e-06\n",
      "Train loss: 0.8750 | Train precision: 0.6295 | Train recall: 0.5960 | Train f1score: 0.6081 | Train acc: 0.6133 | Train kappa: 0.9033 \n",
      "Val loss: 0.9471 | Val precision: 0.5809 | Val recall: 0.5587 | Val f1score: 0.5620 | Val acc: 0.6084 | Val kappa: 0.8748 \n",
      "\n",
      "Epoch: 37 \n",
      "Learning rate: 1e-06\n",
      "Train loss: 0.8823 | Train precision: 0.6267 | Train recall: 0.6015 | Train f1score: 0.6106 | Train acc: 0.6132 | Train kappa: 0.8986 \n",
      "Val loss: 0.9416 | Val precision: 0.5996 | Val recall: 0.5790 | Val f1score: 0.5810 | Val acc: 0.6162 | Val kappa: 0.8774 \n",
      "\n",
      "Epoch: 38 \n",
      "Learning rate: 1e-06\n",
      "Train loss: 0.8906 | Train precision: 0.6121 | Train recall: 0.5840 | Train f1score: 0.5939 | Train acc: 0.6070 | Train kappa: 0.9019 \n",
      "Val loss: 0.9489 | Val precision: 0.5928 | Val recall: 0.5650 | Val f1score: 0.5708 | Val acc: 0.6113 | Val kappa: 0.8753 \n",
      "\n",
      "Epoch: 39 \n",
      "Learning rate: 1e-06\n",
      "Train loss: 0.8804 | Train precision: 0.6133 | Train recall: 0.5899 | Train f1score: 0.5974 | Train acc: 0.6128 | Train kappa: 0.9045 \n",
      "Val loss: 0.9455 | Val precision: 0.5980 | Val recall: 0.5790 | Val f1score: 0.5798 | Val acc: 0.6152 | Val kappa: 0.8765 \n",
      "\n",
      "Epoch: 40 \n",
      "Learning rate: 1e-06\n",
      "Train loss: 0.8822 | Train precision: 0.6263 | Train recall: 0.5992 | Train f1score: 0.6090 | Train acc: 0.6170 | Train kappa: 0.9005 \n",
      "Val loss: 0.9420 | Val precision: 0.5906 | Val recall: 0.5663 | Val f1score: 0.5695 | Val acc: 0.6152 | Val kappa: 0.8752 \n",
      "\n",
      "Early stopping after epoch 40\n"
     ]
    },
    {
     "data": {
      "text/html": [
       "Waiting for W&B process to finish... <strong style=\"color:green\">(success).</strong>"
      ],
      "text/plain": [
       "<IPython.core.display.HTML object>"
      ]
     },
     "metadata": {},
     "output_type": "display_data"
    },
    {
     "data": {
      "application/vnd.jupyter.widget-view+json": {
       "model_id": "9e6c1dcd995a4f96becbd85633d0cf44",
       "version_major": 2,
       "version_minor": 0
      },
      "text/plain": [
       "VBox(children=(Label(value='0.001 MB of 0.001 MB uploaded (0.000 MB deduped)\\r'), FloatProgress(value=1.0, max…"
      ]
     },
     "metadata": {},
     "output_type": "display_data"
    },
    {
     "data": {
      "text/html": [
       "<style>\n",
       "    table.wandb td:nth-child(1) { padding: 0 10px; text-align: left ; width: auto;} td:nth-child(2) {text-align: left ; width: 100%}\n",
       "    .wandb-row { display: flex; flex-direction: row; flex-wrap: wrap; justify-content: flex-start; width: 100% }\n",
       "    .wandb-col { display: flex; flex-direction: column; flex-basis: 100%; flex: 1; padding: 10px; }\n",
       "    </style>\n",
       "<div class=\"wandb-row\"><div class=\"wandb-col\"><h3>Run history:</h3><br/><table class=\"wandb\"><tr><td>learning_rate</td><td>█▆▅▄▃▃▂▂▂▂▁▁▁▁▁▁▁▁▁▁▁▁▁▁▁▁▁▁▁▁▁▁▁▁▁▁▁▁▁▁</td></tr><tr><td>train_f1_score</td><td>▁▃▄▄▅▆▆▆▇▇▇▇▇▇██████████████████████████</td></tr><tr><td>train_loss</td><td>█▆▅▄▄▃▃▂▂▂▂▂▁▁▁▁▁▁▁▁▁▁▁▁▁▁▁▁▁▁▁▁▁▁▁▁▁▁▁▁</td></tr><tr><td>val_f1_score</td><td>▁▂▂▅▄▄▃▆▇▇▆▇▇▇▇█████████████████████████</td></tr><tr><td>val_loss</td><td>█▆▇▃▅▆▇▂▂▁▂▁▁▁▁▁▁▁▁▁▁▁▁▁▁▁▁▁▁▁▁▁▁▁▁▁▁▁▁▁</td></tr></table><br/></div><div class=\"wandb-col\"><h3>Run summary:</h3><br/><table class=\"wandb\"><tr><td>learning_rate</td><td>0.0</td></tr><tr><td>train_f1_score</td><td>0.60902</td></tr><tr><td>train_loss</td><td>0.88217</td></tr><tr><td>val_f1_score</td><td>0.56949</td></tr><tr><td>val_loss</td><td>0.94196</td></tr></table><br/></div></div>"
      ],
      "text/plain": [
       "<IPython.core.display.HTML object>"
      ]
     },
     "metadata": {},
     "output_type": "display_data"
    },
    {
     "data": {
      "text/html": [
       " View run <strong style=\"color:#cdcd00\">fold_2_RGB-RE-NIR-CHM-5species-combined</strong> at: <a href='https://wandb.ai/simon-ecke/wze-uav-combined/runs/ogvhvnt9' target=\"_blank\">https://wandb.ai/simon-ecke/wze-uav-combined/runs/ogvhvnt9</a><br/>Synced 5 W&B file(s), 0 media file(s), 0 artifact file(s) and 0 other file(s)"
      ],
      "text/plain": [
       "<IPython.core.display.HTML object>"
      ]
     },
     "metadata": {},
     "output_type": "display_data"
    },
    {
     "data": {
      "text/html": [
       "Find logs at: <code>.\\wandb\\run-20230509_055818-ogvhvnt9\\logs</code>"
      ],
      "text/plain": [
       "<IPython.core.display.HTML object>"
      ]
     },
     "metadata": {},
     "output_type": "display_data"
    },
    {
     "name": "stdout",
     "output_type": "stream",
     "text": [
      "Deleting variables and emptying cache\n",
      "Memory allocated: 1053953536 bytes\n",
      "--------------------------------------------------\n",
      "\n",
      "Fold : 3\n",
      "TRAIN POSITIVE RATIO: 2.9322698268003644\n",
      "VAL POSITIVE RATIO  : 2.8825896122896855\n",
      "LENGTH TRAIN GROUPS : 4158\n",
      "LENGTH VAL GROUPS   : 1039\n"
     ]
    },
    {
     "data": {
      "text/html": [
       "wandb version 0.15.2 is available!  To upgrade, please run:\n",
       " $ pip install wandb --upgrade"
      ],
      "text/plain": [
       "<IPython.core.display.HTML object>"
      ]
     },
     "metadata": {},
     "output_type": "display_data"
    },
    {
     "data": {
      "text/html": [
       "Tracking run with wandb version 0.14.2"
      ],
      "text/plain": [
       "<IPython.core.display.HTML object>"
      ]
     },
     "metadata": {},
     "output_type": "display_data"
    },
    {
     "data": {
      "text/html": [
       "Run data is saved locally in <code>C:\\Users\\lwfeckesim\\01_PyTorch\\wze-uav\\wze-uav-master\\wandb\\run-20230509_090513-o6vvwvy6</code>"
      ],
      "text/plain": [
       "<IPython.core.display.HTML object>"
      ]
     },
     "metadata": {},
     "output_type": "display_data"
    },
    {
     "data": {
      "text/html": [
       "Syncing run <strong><a href='https://wandb.ai/simon-ecke/wze-uav-combined/runs/o6vvwvy6' target=\"_blank\">fold_3_RGB-RE-NIR-CHM-5species-combined</a></strong> to <a href='https://wandb.ai/simon-ecke/wze-uav-combined' target=\"_blank\">Weights & Biases</a> (<a href='https://wandb.me/run' target=\"_blank\">docs</a>)<br/>"
      ],
      "text/plain": [
       "<IPython.core.display.HTML object>"
      ]
     },
     "metadata": {},
     "output_type": "display_data"
    },
    {
     "data": {
      "text/html": [
       " View project at <a href='https://wandb.ai/simon-ecke/wze-uav-combined' target=\"_blank\">https://wandb.ai/simon-ecke/wze-uav-combined</a>"
      ],
      "text/plain": [
       "<IPython.core.display.HTML object>"
      ]
     },
     "metadata": {},
     "output_type": "display_data"
    },
    {
     "data": {
      "text/html": [
       " View run at <a href='https://wandb.ai/simon-ecke/wze-uav-combined/runs/o6vvwvy6' target=\"_blank\">https://wandb.ai/simon-ecke/wze-uav-combined/runs/o6vvwvy6</a>"
      ],
      "text/plain": [
       "<IPython.core.display.HTML object>"
      ]
     },
     "metadata": {},
     "output_type": "display_data"
    },
    {
     "name": "stdout",
     "output_type": "stream",
     "text": [
      "There are no same hash_id values in train, val or test datasets. The datasplit was successful\n",
      "Check shapes:\n",
      "\n",
      "Images train dataset: (10970, 250, 250, 6)\n",
      "Labels train dataset: (10970, 1)\n",
      "\n",
      "Images validation dataset: (1039, 250, 250, 6)\n",
      "Labels validation dataset: (1039, 1)\n",
      "\n",
      "--------------------------------------------------\n",
      "Check if the split was stratified: (random_state=42)\n",
      "Healthy trees in train dataset: 3011\n",
      "Moderately stressed trees in train dataset: 1543\n",
      "Severely stressed trees in train dataset: 1388\n",
      "Dead trees in train dataset: 1743\n",
      "Healthy trees in validation dataset: 271\n",
      "Moderately stressed trees in validation dataset: 164\n",
      "Severely stressed trees in validation dataset: 146\n",
      "Dead trees in validation dataset: 159\n",
      "Ratio health trees in validation dataset: 0.07281031703385277\n",
      "Ratio moderately stressed trees in validation dataset: 0.0844925296239052\n",
      "Ratio severely stressed trees in validation dataset: 0.09060773480662983\n",
      "Ratio dead trees in validation dataset: 0.06762389995368226\n",
      "--------------------------------------------------\n",
      "\n",
      "Creating datasets for fold: 3\n",
      "\n",
      "Creating dataloaders for fold: 3\n",
      "\n",
      "Loaded pretrained weights for efficientnet-b7\n",
      "\n",
      "[INFO] Fold number: 3\n",
      "[INFO] Number of epochs: 50\n",
      "[INFO] Batch_size: 32\n",
      "[INFO] Number of bands: 6\n",
      "[INFO] Dropout rate: 0.5\n",
      "[INFO] Gamma learning rate: 0.75\n",
      "[INFO] Memory allocated: 0 bytes\n"
     ]
    },
    {
     "data": {
      "application/vnd.jupyter.widget-view+json": {
       "model_id": "9fcfb631a5044d8992cbd728887e3c32",
       "version_major": 2,
       "version_minor": 0
      },
      "text/plain": [
       "  0%|          | 0/50 [00:00<?, ?it/s]"
      ]
     },
     "metadata": {},
     "output_type": "display_data"
    },
    {
     "name": "stdout",
     "output_type": "stream",
     "text": [
      "Epoch: 1 \n",
      "Learning rate: 0.001\n",
      "Train loss: 1.7231 | Train precision: 0.2319 | Train recall: 0.2159 | Train f1score: 0.2096 | Train acc: 0.3436 | Train kappa: 0.5761 \n",
      "Val loss: 2.0684 | Val precision: 0.1756 | Val recall: 0.1647 | Val f1score: 0.1306 | Val acc: 0.2949 | Val kappa: 0.3389 \n",
      "\n",
      "Epoch: 2 \n",
      "Learning rate: 0.00075\n",
      "Train loss: 1.3765 | Train precision: 0.3993 | Train recall: 0.3344 | Train f1score: 0.3373 | Train acc: 0.4521 | Train kappa: 0.7110 \n",
      "Val loss: 1.9772 | Val precision: 0.3601 | Val recall: 0.2876 | Val f1score: 0.2874 | Val acc: 0.3555 | Val kappa: 0.6499 \n",
      "\n",
      "Epoch: 3 \n",
      "Learning rate: 0.0005625000000000001\n",
      "Train loss: 1.2466 | Train precision: 0.4607 | Train recall: 0.4023 | Train f1score: 0.4075 | Train acc: 0.4882 | Train kappa: 0.7761 \n",
      "Val loss: 1.5942 | Val precision: 0.2939 | Val recall: 0.3004 | Val f1score: 0.2606 | Val acc: 0.4180 | Val kappa: 0.5761 \n",
      "\n",
      "Epoch: 4 \n",
      "Learning rate: 0.000421875\n",
      "Train loss: 1.1257 | Train precision: 0.4952 | Train recall: 0.4506 | Train f1score: 0.4584 | Train acc: 0.5208 | Train kappa: 0.8184 \n",
      "Val loss: 1.3314 | Val precision: 0.5029 | Val recall: 0.4008 | Val f1score: 0.3886 | Val acc: 0.4766 | Val kappa: 0.7814 \n",
      "\n",
      "Epoch: 5 \n",
      "Learning rate: 0.00031640625\n",
      "Train loss: 1.0698 | Train precision: 0.5162 | Train recall: 0.4821 | Train f1score: 0.4867 | Train acc: 0.5372 | Train kappa: 0.8462 \n",
      "Val loss: 1.7336 | Val precision: 0.3548 | Val recall: 0.3697 | Val f1score: 0.2798 | Val acc: 0.3828 | Val kappa: 0.4122 \n",
      "\n",
      "Epoch: 6 \n",
      "Learning rate: 0.0002373046875\n",
      "Train loss: 1.0102 | Train precision: 0.5418 | Train recall: 0.5159 | Train f1score: 0.5220 | Train acc: 0.5643 | Train kappa: 0.8574 \n",
      "Val loss: 1.2691 | Val precision: 0.4609 | Val recall: 0.4765 | Val f1score: 0.4108 | Val acc: 0.4883 | Val kappa: 0.6769 \n",
      "\n",
      "Epoch: 7 \n",
      "Learning rate: 0.000177978515625\n",
      "Train loss: 0.9639 | Train precision: 0.5718 | Train recall: 0.5286 | Train f1score: 0.5390 | Train acc: 0.5744 | Train kappa: 0.8801 \n",
      "Val loss: 1.7538 | Val precision: 0.4449 | Val recall: 0.3882 | Val f1score: 0.3336 | Val acc: 0.4150 | Val kappa: 0.7084 \n",
      "\n",
      "Epoch: 8 \n",
      "Learning rate: 0.00013348388671875\n",
      "Train loss: 0.9380 | Train precision: 0.5904 | Train recall: 0.5580 | Train f1score: 0.5668 | Train acc: 0.5863 | Train kappa: 0.8867 \n",
      "Val loss: 1.3543 | Val precision: 0.4638 | Val recall: 0.4893 | Val f1score: 0.4350 | Val acc: 0.4971 | Val kappa: 0.7719 \n",
      "\n",
      "Epoch: 9 \n",
      "Learning rate: 0.0001001129150390625\n",
      "Train loss: 0.9087 | Train precision: 0.5993 | Train recall: 0.5662 | Train f1score: 0.5775 | Train acc: 0.5943 | Train kappa: 0.8855 \n",
      "Val loss: 0.9947 | Val precision: 0.5226 | Val recall: 0.5119 | Val f1score: 0.5034 | Val acc: 0.5537 | Val kappa: 0.8734 \n",
      "\n",
      "Epoch: 10 \n",
      "Learning rate: 7.508468627929687e-05\n",
      "Train loss: 0.8852 | Train precision: 0.6116 | Train recall: 0.5848 | Train f1score: 0.5912 | Train acc: 0.6128 | Train kappa: 0.9009 \n",
      "Val loss: 0.9998 | Val precision: 0.4961 | Val recall: 0.5264 | Val f1score: 0.4847 | Val acc: 0.5596 | Val kappa: 0.8591 \n",
      "\n",
      "Epoch: 11 \n",
      "Learning rate: 5.6313514709472656e-05\n",
      "Train loss: 0.8774 | Train precision: 0.6185 | Train recall: 0.5899 | Train f1score: 0.5974 | Train acc: 0.6117 | Train kappa: 0.8974 \n",
      "Val loss: 1.2460 | Val precision: 0.4504 | Val recall: 0.4435 | Val f1score: 0.3906 | Val acc: 0.4746 | Val kappa: 0.7515 \n",
      "\n",
      "Epoch: 12 \n",
      "Learning rate: 4.223513603210449e-05\n",
      "Train loss: 0.8815 | Train precision: 0.6058 | Train recall: 0.5750 | Train f1score: 0.5847 | Train acc: 0.6033 | Train kappa: 0.9011 \n",
      "Val loss: 0.9753 | Val precision: 0.5848 | Val recall: 0.5618 | Val f1score: 0.5551 | Val acc: 0.5938 | Val kappa: 0.8842 \n",
      "\n",
      "Epoch: 13 \n",
      "Learning rate: 3.167635202407837e-05\n",
      "Train loss: 0.8539 | Train precision: 0.6279 | Train recall: 0.5989 | Train f1score: 0.6092 | Train acc: 0.6145 | Train kappa: 0.9107 \n",
      "Val loss: 0.9193 | Val precision: 0.5545 | Val recall: 0.5532 | Val f1score: 0.5451 | Val acc: 0.5996 | Val kappa: 0.9036 \n",
      "\n",
      "Epoch: 14 \n",
      "Learning rate: 2.3757264018058778e-05\n",
      "Train loss: 0.8274 | Train precision: 0.6333 | Train recall: 0.6073 | Train f1score: 0.6156 | Train acc: 0.6294 | Train kappa: 0.9107 \n",
      "Val loss: 0.9102 | Val precision: 0.5663 | Val recall: 0.5872 | Val f1score: 0.5675 | Val acc: 0.6064 | Val kappa: 0.9002 \n",
      "\n",
      "Epoch: 15 \n",
      "Learning rate: 1.7817948013544083e-05\n",
      "Train loss: 0.8217 | Train precision: 0.6450 | Train recall: 0.6232 | Train f1score: 0.6305 | Train acc: 0.6327 | Train kappa: 0.9150 \n",
      "Val loss: 0.9776 | Val precision: 0.5519 | Val recall: 0.5522 | Val f1score: 0.5311 | Val acc: 0.5840 | Val kappa: 0.8715 \n",
      "\n"
     ]
    }
   ],
   "source": [
    "%%time\n",
    "\n",
    "# Set the random seeds\n",
    "set_seeds(42)\n",
    "\n",
    "# Define the number of folds\n",
    "num_folds = 5\n",
    "\n",
    "# group the hashIDs to get the unique values of hashIDs remaining in the subset  \n",
    "groups = sub_hash_id[:, 0] \n",
    "print(\"ORIGINAL POSITIVE RATIO:\", sub_label_set.mean())\n",
    "# create a StratifiedGroupKFold instance\n",
    "kf = StratifiedGroupKFold(n_splits=num_folds, shuffle=True, random_state=42)\n",
    "\n",
    "# loop through the folds\n",
    "for fold, (train_ids, val_ids) in enumerate(kf.split(sub_image_set, sub_label_set, groups)):\n",
    "    print(\"Fold :\", fold+1)\n",
    "    print(\"TRAIN POSITIVE RATIO:\", sub_label_set[train_ids].mean())\n",
    "    print(\"VAL POSITIVE RATIO  :\", sub_label_set[val_ids].mean())\n",
    "    print(\"LENGTH TRAIN GROUPS :\", len(set(groups[train_ids])))\n",
    "    print(\"LENGTH VAL GROUPS   :\", len(set(groups[val_ids])))\n",
    "    \n",
    "    train_ids = sub_hash_id[:, 0][train_ids]\n",
    "    val_ids = np.unique(sub_hash_id[:, 0][val_ids])\n",
    "\n",
    "    torch.cuda.empty_cache()\n",
    "    \n",
    "    # Initialize a new wandb run for this fold\n",
    "    wandb.init(project='wze-uav-combined', name=f\"fold_{fold + 1}_{extra}\")\n",
    "    \n",
    "    # 1. Split data into train and validation set\n",
    "    # Get the training and testing data for this fold\n",
    "    # Use np.isin() to create boolean arrays indicating which indices belong to train or test sets\n",
    "    train_indices = np.isin(sub_hash_id[:,0], train_ids)\n",
    "    \n",
    "    val_indices = np.zeros_like(train_indices)  # initialize to all False\n",
    "    for hash_id_val in val_ids:\n",
    "        # select one image ID randomly from either 2020 or 2021 or 2022 for each unique hash ID in the test set\n",
    "        temp = np.unique(sub_hash_id[(sub_hash_id[:, 0] == hash_id_val), 1]) # check how many years are available per hashID\n",
    "        if len(temp) == 1:\n",
    "            year = temp[0]\n",
    "        elif len(temp) == 2:\n",
    "            year = np.random.choice(temp)\n",
    "        else:\n",
    "            year = np.random.choice(temp)\n",
    "        \n",
    "        # select image ID using the conditions\n",
    "        image_ids = sub_hash_id[(sub_hash_id[:,0] == hash_id_val) & (sub_hash_id[:,1] == year), 0]\n",
    "    \n",
    "        # mark the index corresponding to the selected image ID and hash ID as True in the test indices array\n",
    "        val_indices[(sub_hash_id[:,0] == hash_id_val) & (sub_hash_id[:,1] == year) & (np.isin(sub_hash_id[:,0], image_ids))] = True \n",
    "    \n",
    "    # Reshape boolean arrays to match shape of image_set and label_set\n",
    "    train_indices = train_indices.reshape(-1, 1)\n",
    "    val_indices = val_indices.reshape(-1, 1)\n",
    "    \n",
    "    # Select images and labels for train and validation sets\n",
    "    train_image_set = sub_image_set[train_indices[:, 0]]\n",
    "    train_label_set = sub_label_set[train_indices[:, 0]]\n",
    "    train_hash_id = sub_hash_id[train_indices[:, 0]][:,0]\n",
    "    train_species_set = sub_species_set[train_indices[:, 0]]\n",
    "    val_image_set = sub_image_set[val_indices[:, 0]]\n",
    "    val_label_set = sub_label_set[val_indices[:, 0]]\n",
    "    val_hash_id = sub_hash_id[val_indices[:, 0]][:,0]\n",
    "    val_species_set = sub_species_set[val_indices[:, 0]]\n",
    "    # reshape \n",
    "    train_label_set = train_label_set.reshape(-1, 1)\n",
    "    val_label_set = val_label_set.reshape(-1, 1)\n",
    "    train_species_set = train_species_set.reshape(-1, 1)\n",
    "    val_species_set = val_species_set.reshape(-1, 1)\n",
    "    \n",
    "    # check if there are any group overlaps between the data splits\n",
    "    hash_set = set(train_hash_id)\n",
    "    val_hash_set = set(val_hash_id)\n",
    "    test_hash_set = set(test_hash_id[:, 0].flatten())\n",
    "    intersection = hash_set.intersection(val_hash_set)\n",
    "    intersection2 = test_hash_set.intersection(val_hash_set)\n",
    "    intersection3 = hash_set.intersection(test_hash_set)\n",
    "    if intersection:\n",
    "        print(f\"Hash_id values in both train and val sets: {len(intersection)}\")\n",
    "        print(f\"Hash_id values in both test and val sets: {len(intersection2)}\")\n",
    "        print(f\"Hash_id values in both train and test sets: {len(intersection3)}\")\n",
    "    else:\n",
    "        print(\"There are no same hash_id values in train, val or test datasets. The datasplit was successful\")\n",
    "    \n",
    "         \n",
    "    print(\"Check shapes:\\n\")\n",
    "    print(f\"Images train dataset: {train_image_set.shape}\")\n",
    "    print(f\"Labels train dataset: {train_label_set.shape}\\n\")\n",
    "    \n",
    "    print(f\"Images validation dataset: {val_image_set.shape}\")\n",
    "    print(f\"Labels validation dataset: {val_label_set.shape}\\n\")\n",
    "    print('-'*50)\n",
    "    print (f\"Check if the split was stratified: (random_state=42)\")\n",
    "    print(f\"Healthy trees in train dataset: {np.count_nonzero(train_label_set == 0)}\")\n",
    "    print(f\"Moderately stressed trees in train dataset: {np.count_nonzero(train_label_set == 1)}\")\n",
    "    print(f\"Severely stressed trees in train dataset: {np.count_nonzero(train_label_set == 2)}\")\n",
    "    print(f\"Dead trees in train dataset: {np.count_nonzero(train_label_set == 3)}\")\n",
    "    print(f\"Healthy trees in validation dataset: {np.count_nonzero(val_label_set == 0)}\")\n",
    "    print(f\"Moderately stressed trees in validation dataset: {np.count_nonzero(val_label_set == 1)}\")\n",
    "    print(f\"Severely stressed trees in validation dataset: {np.count_nonzero(val_label_set == 2)}\")\n",
    "    print(f\"Dead trees in validation dataset: {np.count_nonzero(val_label_set == 3)}\")\n",
    "    print(f\"Ratio health trees in validation dataset: {np.count_nonzero(val_label_set == 0)/np.count_nonzero(sub_label_set == 0)}\")\n",
    "    print(f\"Ratio moderately stressed trees in validation dataset: {np.count_nonzero(val_label_set == 1)/np.count_nonzero(sub_label_set == 1)}\")\n",
    "    print(f\"Ratio severely stressed trees in validation dataset: {np.count_nonzero(val_label_set == 1)/np.count_nonzero(sub_label_set == 2)}\")\n",
    "    print(f\"Ratio dead trees in validation dataset: {np.count_nonzero(val_label_set == 2)/np.count_nonzero(sub_label_set == 3)}\")\n",
    "    print(\"-\"*50)\n",
    "   \n",
    "    # 2. Create train and validation dataset. (choose custom dataset loader with 3 - 5 classes)\n",
    "    print(f\"\\nCreating datasets for fold: {fold + 1}\\n\")\n",
    "    train_dataset = data_loader.CustomDataset(data=train_image_set, labels=train_label_set, class_names=class_names, species = train_species_set,\n",
    "                                                         transform=transform_train)\n",
    "    \n",
    "    val_dataset = data_loader.CustomDataset(data=val_image_set, labels=val_label_set, class_names=class_names,\n",
    "                                                       species = val_species_set, transform=transform)\n",
    "   \n",
    "    # 3. Create train and validation dataloader\n",
    "    # create sampler for oversampling of the minority classes\n",
    "    sampler = data_loader.data_sampler(dataset=train_dataset, class_names=class_names)\n",
    "    print(f\"Creating dataloaders for fold: {fold +1}\\n\")\n",
    "    train_dataloader = DataLoader(train_dataset, batch_size=batch_size, persistent_workers=True, pin_memory=True, num_workers=NUM_WORKERS, generator=g,\n",
    "                              sampler=sampler, shuffle=False, drop_last=True) # shuffle false because of the sampler\n",
    "\n",
    "    val_dataloader = DataLoader(val_dataset, batch_size=batch_size, persistent_workers=True, pin_memory=True, num_workers=NUM_WORKERS, shuffle=False,\n",
    "                             drop_last=True)\n",
    "    \n",
    "    model = model_effnet.EfficientNet.from_pretrained('efficientnet-b7', in_channels=n_bands, num_classes=num_classes, dropout_rate=dropout_rate)\n",
    "    #model = models.create_effnetb7(output_shape=num_classes, unfreeze=True, dropout_rate=dropout_rate, device=device)\n",
    "   \n",
    "    loss_fn = nn.CrossEntropyLoss()\n",
    "    optimizer = torch.optim.Adam(params=model.parameters(), lr=lr)\n",
    "    lr_scheduler = CustomExponentialLR(optimizer, gamma=gamma, min_lr=min_lr)\n",
    "\n",
    "    fold += 1\n",
    "    print(f\"\\n[INFO] Fold number: {fold}\")\n",
    "    print(f\"[INFO] Number of epochs: {epochs}\")\n",
    "    print(f\"[INFO] Batch_size: {batch_size}\")\n",
    "    print(f\"[INFO] Number of bands: {n_bands}\")\n",
    "    print(f\"[INFO] Dropout rate: {dropout_rate}\")\n",
    "    print(f\"[INFO] Gamma learning rate: {gamma}\")\n",
    "    print(f\"[INFO] Memory allocated: {torch.cuda.memory_allocated()} bytes\")\n",
    "    # 4. Train model with k fold dataloaders and track experiments\n",
    "    \n",
    "    if fold == 1:\n",
    "        fold1_results = train(model=model, model_name=model_name, n_bands=n_bands, batch_size=batch_size,train_dataloader=train_dataloader, val_dataloader=val_dataloader, \n",
    "                        optimizer=optimizer, loss_fn=loss_fn, lr_scheduler=lr_scheduler, num_classes=num_classes, epochs=epochs, experiment_num=fold, device=device,\n",
    "                        writer=None, early_stop_patience = patience)\n",
    "       \n",
    "    elif fold == 2:\n",
    "        fold2_results = train(model=model, model_name=model_name, n_bands=n_bands, batch_size=batch_size,train_dataloader=train_dataloader, val_dataloader=val_dataloader, \n",
    "                        optimizer=optimizer, loss_fn=loss_fn, lr_scheduler=lr_scheduler, num_classes=num_classes, epochs=epochs, experiment_num=fold, device=device,\n",
    "                        writer=None, early_stop_patience = patience)\n",
    "    elif fold == 3:\n",
    "        fold3_results = train(model=model, model_name=model_name, n_bands=n_bands, batch_size=batch_size,train_dataloader=train_dataloader, val_dataloader=val_dataloader, \n",
    "                        optimizer=optimizer, loss_fn=loss_fn, lr_scheduler=lr_scheduler, num_classes=num_classes, epochs=epochs, experiment_num=fold, device=device,\n",
    "                        writer=None, early_stop_patience = patience)\n",
    "    elif fold == 4:\n",
    "        fold4_results = train(model=model, model_name=model_name, n_bands=n_bands, batch_size=batch_size,train_dataloader=train_dataloader, val_dataloader=val_dataloader, \n",
    "                        optimizer=optimizer, loss_fn=loss_fn, lr_scheduler=lr_scheduler, num_classes=num_classes, epochs=epochs, experiment_num=fold, device=device,\n",
    "                        writer=None, early_stop_patience = patience)\n",
    "    else:\n",
    "        fold5_results = train(model=model, model_name=model_name, n_bands=n_bands, batch_size=batch_size,train_dataloader=train_dataloader, val_dataloader=val_dataloader, \n",
    "                        optimizer=optimizer, loss_fn=loss_fn, lr_scheduler=lr_scheduler, num_classes=num_classes, epochs=epochs, experiment_num=fold, device=device,\n",
    "                        writer=None, early_stop_patience = patience)\n",
    "    \n",
    "    del train_indices, val_indices, train_image_set, train_label_set, train_hash_id, train_species_set, val_image_set, val_label_set, val_hash_id, val_species_set,\n",
    "    train_dataset, val_dataset, sampler, train_dataloader, val_dataloader, model, loss_fn, optimizer, lr_scheduler\n",
    "    \n",
    "    #finish the wandb run\n",
    "    wandb.finish()\n",
    "    print(\"Deleting variables and emptying cache\")\n",
    "    gc.collect()\n",
    "    torch.cuda.empty_cache()\n",
    "    print(f\"Memory allocated: {torch.cuda.memory_allocated()} bytes\")\n",
    "    print(\"-\"*50 + \"\\n\")"
   ]
  },
  {
   "cell_type": "markdown",
   "id": "a36b9b92",
   "metadata": {},
   "source": [
    "#### Create test dataset and test dataloader "
   ]
  },
  {
   "cell_type": "code",
   "execution_count": 20,
   "id": "c0c36ebb",
   "metadata": {},
   "outputs": [],
   "source": [
    "# create test dataset\n",
    "test_dataset = data_loader.CustomTestDataset(\n",
    "    data = test_image_set,\n",
    "    labels = test_label_set,\n",
    "    class_names=class_names, \n",
    "    species = test_species_set,\n",
    "    kkl = None,\n",
    "    transform=transform\n",
    ")\n",
    "\n",
    "# create test dataloader\n",
    "test_dataloader = DataLoader(test_dataset,\n",
    "                             batch_size=batch_size,\n",
    "                             persistent_workers=True,\n",
    "                             pin_memory=True,\n",
    "                             num_workers=NUM_WORKERS,\n",
    "                             shuffle=False,\n",
    "                             drop_last=True)"
   ]
  },
  {
   "cell_type": "markdown",
   "id": "22cdaac7",
   "metadata": {},
   "source": [
    "#### Perform ensembling of the five best models"
   ]
  },
  {
   "cell_type": "code",
   "execution_count": 21,
   "id": "67db5af2",
   "metadata": {},
   "outputs": [
    {
     "name": "stdout",
     "output_type": "stream",
     "text": [
      "Loaded pretrained weights for efficientnet-b7\n",
      "Loaded pretrained weights for efficientnet-b7\n",
      "Loaded pretrained weights for efficientnet-b7\n",
      "Loaded pretrained weights for efficientnet-b7\n",
      "Loaded pretrained weights for efficientnet-b7\n",
      "              precision    recall  f1-score   support\n",
      "\n",
      "           0       0.73      0.76      0.75       284\n",
      "           1       0.61      0.58      0.59       166\n",
      "           2       0.52      0.47      0.50       119\n",
      "           3       0.60      0.70      0.65       135\n",
      "           4       0.77      0.77      0.77        30\n",
      "           5       1.00      0.38      0.56        13\n",
      "           6       0.63      0.76      0.69        93\n",
      "           7       0.70      0.56      0.62        78\n",
      "           8       0.63      0.57      0.60        58\n",
      "           9       0.62      0.50      0.55        26\n",
      "          10       0.95      0.95      0.95        22\n",
      "\n",
      "    accuracy                           0.66      1024\n",
      "   macro avg       0.71      0.64      0.66      1024\n",
      "weighted avg       0.66      0.66      0.65      1024\n",
      "\n",
      "[[217  55   8   2   1   0   0   1   0   0   0]\n",
      " [ 65  96   2   2   1   0   0   0   0   0   0]\n",
      " [  3   3  56  56   0   0   0   0   1   0   0]\n",
      " [  3   0  38  94   0   0   0   0   0   0   0]\n",
      " [  5   0   0   0  23   0   1   1   0   0   0]\n",
      " [  0   2   0   0   5   5   0   0   0   0   1]\n",
      " [  1   1   1   1   0   0  71  13   5   0   0]\n",
      " [  1   1   0   1   0   0  24  44   5   2   0]\n",
      " [  2   0   1   0   0   0  14   2  33   6   0]\n",
      " [  0   0   1   0   0   0   2   2   8  13   0]\n",
      " [  0   0   0   0   0   0   1   0   0   0  21]]\n"
     ]
    }
   ],
   "source": [
    "# Setup the best model filepaths\n",
    "best_model1_path = r\"C:\\Users\\lwfeckesim\\01_PyTorch\\wze-uav\\wze-uav-master\\models\\EffNet_b7_RGB-RE-NIR-5species-combined\\1_EffNet_b7_RGB-RE-NIR-5species-combined_13_epochs.pth\"\n",
    "best_model2_path = r\"C:\\Users\\lwfeckesim\\01_PyTorch\\wze-uav\\wze-uav-master\\models\\EffNet_b7_RGB-RE-NIR-5species-combined\\2_EffNet_b7_RGB-RE-NIR-5species-combined_8_epochs.pth\"\n",
    "best_model3_path = r\"C:\\Users\\lwfeckesim\\01_PyTorch\\wze-uav\\wze-uav-master\\models\\EffNet_b7_RGB-RE-NIR-5species-combined\\3_EffNet_b7_RGB-RE-NIR-5species-combined_14_epochs.pth\"\n",
    "best_model4_path = r\"C:\\Users\\lwfeckesim\\01_PyTorch\\wze-uav\\wze-uav-master\\models\\EffNet_b7_RGB-RE-NIR-5species-combined\\4_EffNet_b7_RGB-RE-NIR-5species-combined_9_epochs.pth\"\n",
    "best_model5_path = r\"C:\\Users\\lwfeckesim\\01_PyTorch\\wze-uav\\wze-uav-master\\models\\EffNet_b7_RGB-RE-NIR-5species-combined\\5_EffNet_b7_RGB-RE-NIR-5species-combined_8_epochs.pth\"\n",
    "\n",
    "# Instantiate a new instance of EffNetB7 (to load the saved state_dict() to)\n",
    "#model1 = models.create_effnetb7(output_shape=num_classes, unfreeze=unfreeze, dropout_rate=dropout_rate, device=device)\n",
    "#model2 = models.create_effnetb7(output_shape=num_classes, unfreeze=unfreeze, dropout_rate=dropout_rate, device=device)\n",
    "#model3 = models.create_effnetb7(output_shape=num_classes, unfreeze=unfreeze, dropout_rate=dropout_rate, device=device)\n",
    "#model4 = models.create_effnetb7(output_shape=num_classes, unfreeze=unfreeze, dropout_rate=dropout_rate, device=device)\n",
    "#model5 = models.create_effnetb7(output_shape=num_classes, unfreeze=unfreeze, dropout_rate=dropout_rate, device=device)\n",
    "# for custom models with more than three bands as input\n",
    "model1 = model_effnet.EfficientNet.from_pretrained('efficientnet-b7', in_channels=n_bands, num_classes=num_classes, dropout_rate=dropout_rate)\n",
    "model2 = model_effnet.EfficientNet.from_pretrained('efficientnet-b7', in_channels=n_bands, num_classes=num_classes, dropout_rate=dropout_rate)\n",
    "model3 = model_effnet.EfficientNet.from_pretrained('efficientnet-b7', in_channels=n_bands, num_classes=num_classes, dropout_rate=dropout_rate)\n",
    "model4 = model_effnet.EfficientNet.from_pretrained('efficientnet-b7', in_channels=n_bands, num_classes=num_classes, dropout_rate=dropout_rate)\n",
    "model5 = model_effnet.EfficientNet.from_pretrained('efficientnet-b7', in_channels=n_bands, num_classes=num_classes, dropout_rate=dropout_rate)\n",
    "\n",
    "# Load the saved best model state_dict()\n",
    "model1.load_state_dict(torch.load(best_model1_path))\n",
    "model2.load_state_dict(torch.load(best_model2_path))\n",
    "model3.load_state_dict(torch.load(best_model3_path))\n",
    "model4.load_state_dict(torch.load(best_model4_path))\n",
    "model5.load_state_dict(torch.load(best_model5_path))\n",
    "\n",
    "model1.to(device)\n",
    "model2.to(device)\n",
    "model3.to(device)\n",
    "model4.to(device)\n",
    "model5.to(device)\n",
    "\n",
    "model1.eval()\n",
    "model2.eval()\n",
    "model3.eval()\n",
    "model4.eval()\n",
    "model5.eval()\n",
    "\n",
    "# Initialize the lists to store the predictions\n",
    "all_preds_model1 = []\n",
    "all_preds_model2 = []\n",
    "all_preds_model3 = []\n",
    "all_preds_model4 = []\n",
    "all_preds_model5 = []\n",
    "all_true_labels = []\n",
    "\n",
    "# Loop through the test dataset and generate predictions for each model\n",
    "with torch.no_grad():\n",
    "    for batch in test_dataloader:\n",
    "        inputs, labels, species = batch\n",
    "        inputs, labels, species = inputs.to(device), labels.to(device), species\n",
    "        \n",
    "        # Generate predictions for each model\n",
    "        preds_model1 = model1(inputs)\n",
    "        preds_model2 = model2(inputs)\n",
    "        preds_model3 = model3(inputs)\n",
    "        preds_model4 = model4(inputs)\n",
    "        preds_model5 = model5(inputs)\n",
    "\n",
    "        # Append the predictions to the corresponding list\n",
    "        all_preds_model1.append(preds_model1.cpu().numpy())\n",
    "        all_preds_model2.append(preds_model2.cpu().numpy())\n",
    "        all_preds_model3.append(preds_model3.cpu().numpy())\n",
    "        all_preds_model4.append(preds_model4.cpu().numpy())\n",
    "        all_preds_model5.append(preds_model5.cpu().numpy())\n",
    "        \n",
    "        all_true_labels.append(labels.cpu().numpy())\n",
    "\n",
    "# Concatenate the predictions from all the models\n",
    "all_preds_model1 = np.concatenate(all_preds_model1)\n",
    "all_preds_model2 = np.concatenate(all_preds_model2)\n",
    "all_preds_model3 = np.concatenate(all_preds_model3)\n",
    "all_preds_model4 = np.concatenate(all_preds_model4)\n",
    "all_preds_model5 = np.concatenate(all_preds_model5)\n",
    "\n",
    "all_true_labels = np.concatenate(all_true_labels)\n",
    "\n",
    "# Calculate the ensemble predictions\n",
    "ensemble_preds = np.mean([all_preds_model1, all_preds_model2, all_preds_model3, all_preds_model4, all_preds_model5], axis=0)\n",
    "ensemble_labels = np.argmax(ensemble_preds, axis=1)\n",
    "\n",
    "# Calculate the evaluation metrics for the ensemble model\n",
    "from sklearn.metrics import classification_report, confusion_matrix\n",
    "\n",
    "print(classification_report(all_true_labels, ensemble_labels))\n",
    "print(confusion_matrix(all_true_labels, ensemble_labels))\n",
    "\n",
    "\n",
    "\n",
    "\n"
   ]
  },
  {
   "cell_type": "code",
   "execution_count": 22,
   "id": "6dfbc663",
   "metadata": {},
   "outputs": [
    {
     "name": "stdout",
     "output_type": "stream",
     "text": [
      "              precision    recall  f1-score   support\n",
      "\n",
      "           0       0.73      0.76      0.75       284\n",
      "           1       0.61      0.58      0.59       166\n",
      "           2       0.52      0.47      0.50       119\n",
      "           3       0.60      0.70      0.65       135\n",
      "           4       0.77      0.77      0.77        30\n",
      "           5       1.00      0.38      0.56        13\n",
      "           6       0.63      0.76      0.69        93\n",
      "           7       0.70      0.56      0.62        78\n",
      "           8       0.63      0.57      0.60        58\n",
      "           9       0.62      0.50      0.55        26\n",
      "          10       0.95      0.95      0.95        22\n",
      "\n",
      "    accuracy                           0.66      1024\n",
      "   macro avg       0.71      0.64      0.66      1024\n",
      "weighted avg       0.66      0.66      0.65      1024\n",
      "\n"
     ]
    },
    {
     "data": {
      "image/png": "[encoded data removed]",
      "text/plain": [
       "<Figure size 720x504 with 1 Axes>"
      ]
     },
     "metadata": {
      "needs_background": "light"
     },
     "output_type": "display_data"
    }
   ],
   "source": [
    "import matplotlib.pyplot as plt\n",
    "# Calculate the evaluation metrics for the ensemble model\n",
    "\n",
    "report = classification_report(all_true_labels, ensemble_labels)\n",
    "print(report)\n",
    "#print(confusion_matrix(all_true_labels, ensemble_labels))\n",
    "\n",
    "# Save the report to a file\n",
    "with open(r'C:\\Users\\lwfeckesim\\01_PyTorch\\wze-uav\\wze-uav-master\\plots\\report_RGB-RE-NIR_5species_combined.txt', 'w') as f:\n",
    "    f.write(report)\n",
    "\n",
    "labels = np.array([0,1,2,3,4,5,6,7,8,9,10])\n",
    "confmat = confusion_matrix(all_true_labels, ensemble_labels, labels=labels)\n",
    "\n",
    "# 3. Plot the confusion matrix\n",
    "fig, ax = plot_confusion_matrix(\n",
    "    conf_mat=confmat, # matplotlib likes working with NumPy \n",
    "    class_names=class_names, # turn the row and column labels into class names\n",
    "    figsize=(10, 7)\n",
    ");\n",
    "\n",
    "# add title to confusion matrix plot\n",
    "plt.title(\"Main tree species and Health Status Classification using RGB-RE-NIR Bands\", fontsize=16)\n",
    "\n",
    "fig.savefig(r'C:\\Users\\lwfeckesim\\01_PyTorch\\wze-uav\\wze-uav-master\\plots\\confmat_RGB-RE-NIR_5species_combined.png', dpi=300, bbox_inches='tight')\n",
    "\n"
   ]
  },
  {
   "cell_type": "code",
   "execution_count": 23,
   "id": "aab9e321",
   "metadata": {},
   "outputs": [
    {
     "ename": "NameError",
     "evalue": "name 'best_model' is not defined",
     "output_type": "error",
     "traceback": [
      "\u001b[1;31m---------------------------------------------------------------------------\u001b[0m",
      "\u001b[1;31mNameError\u001b[0m                                 Traceback (most recent call last)",
      "Input \u001b[1;32mIn [23]\u001b[0m, in \u001b[0;36m<cell line: 3>\u001b[1;34m()\u001b[0m\n\u001b[0;32m      1\u001b[0m \u001b[38;5;66;03m# 2. Setup confusion matrix instance and compare predictions to targets\u001b[39;00m\n\u001b[0;32m      2\u001b[0m \u001b[38;5;66;03m#from wze_uav.analysis import *\u001b[39;00m\n\u001b[1;32m----> 3\u001b[0m y_pred_tensor, y_labels_tensor, test_loss, test_recall, test_precision, test_f1_score, test_acc, y_logit, y_pred, y, y_preds \u001b[38;5;241m=\u001b[39m make_predictions(model\u001b[38;5;241m=\u001b[39m\u001b[43mbest_model\u001b[49m,\n\u001b[0;32m      4\u001b[0m                                  test_dataloader\u001b[38;5;241m=\u001b[39mtest_dataloader, \n\u001b[0;32m      5\u001b[0m                                  device\u001b[38;5;241m=\u001b[39mdevice)\n\u001b[0;32m      7\u001b[0m y_labels_tensor \u001b[38;5;241m=\u001b[39m y_labels_tensor\u001b[38;5;241m.\u001b[39mdetach()\u001b[38;5;241m.\u001b[39mcpu()\u001b[38;5;241m.\u001b[39mnumpy()\n\u001b[0;32m      8\u001b[0m y_pred_tensor \u001b[38;5;241m=\u001b[39m y_pred_tensor\u001b[38;5;241m.\u001b[39mdetach()\u001b[38;5;241m.\u001b[39mcpu()\u001b[38;5;241m.\u001b[39mnumpy()\n",
      "\u001b[1;31mNameError\u001b[0m: name 'best_model' is not defined"
     ]
    }
   ],
   "source": [
    "# 2. Setup confusion matrix instance and compare predictions to targets\n",
    "#from wze_uav.analysis import *\n",
    "y_pred_tensor, y_labels_tensor, test_loss, test_recall, test_precision, test_f1_score, test_acc, y_logit, y_pred, y, y_preds = make_predictions(model=best_model,\n",
    "                                 test_dataloader=test_dataloader, \n",
    "                                 device=device)\n",
    "\n",
    "y_labels_tensor = y_labels_tensor.detach().cpu().numpy()\n",
    "y_pred_tensor = y_pred_tensor.detach().cpu().numpy()\n",
    "\n",
    "#confmat = ConfusionMatrix(num_classes=num_classes, task='multiclass')\n",
    "#confmat_tensor = confmat(preds=y_pred_tensor,\n",
    "#                         target=test_labels)\n",
    "labels = np.array([0,1,2])\n",
    "confmat = confusion_matrix(y_labels_tensor, y_pred_tensor, labels=labels)\n",
    "\n",
    "# 3. Plot the confusion matrix\n",
    "fig, ax = plot_confusion_matrix(\n",
    "    conf_mat=confmat, # matplotlib likes working with NumPy \n",
    "    class_names=class_names, # turn the row and column labels into class names\n",
    "    figsize=(10, 7)\n",
    ");\n",
    "\n",
    "print(f\"Test loss: {test_loss}\")\n",
    "print(f\"Test precision: {test_precision}\")\n",
    "print(f\"Test recall: {test_recall}\")\n",
    "print(f\"Test F1score: {test_f1_score}\")\n",
    "#print(f\"Test Kappa: {test_kappa}\")\n",
    "print(f\"Test Accuracy: {test_acc}\")\n",
    "print(f\"Test Logits: {y_logit}\")\n",
    "print(f\"Test Predictions: {y_pred}\")\n",
    "print(f\"Test Labels: {y}\")"
   ]
  },
  {
   "cell_type": "code",
   "execution_count": null,
   "id": "8d4173b3",
   "metadata": {},
   "outputs": [],
   "source": [
    "len(y_preds)"
   ]
  },
  {
   "cell_type": "code",
   "execution_count": null,
   "id": "7588116f",
   "metadata": {},
   "outputs": [],
   "source": [
    "y_set.cpu()"
   ]
  },
  {
   "cell_type": "code",
   "execution_count": null,
   "id": "1c195b3e",
   "metadata": {},
   "outputs": [],
   "source": [
    "test_dataset.labels"
   ]
  },
  {
   "cell_type": "code",
   "execution_count": null,
   "id": "975ec08c",
   "metadata": {},
   "outputs": [],
   "source": []
  },
  {
   "cell_type": "code",
   "execution_count": null,
   "id": "6da05604",
   "metadata": {},
   "outputs": [],
   "source": [
    "y_preds = []\n",
    "y_labels = []\n",
    "labels = np.array([0,1,2])\n",
    "test_loss, test_precision, test_recall, test_f1_score, test_acc = 0, 0, 0, 0, 0\n",
    "count = 0\n",
    "model.eval()\n",
    "with torch.inference_mode():\n",
    "    for X, y in tqdm(test_dataloader, desc=\"Making predictions\"):\n",
    "        # Send data and targets to target device\n",
    "        X, y = X.to(device), y.to(device)\n",
    "        # Do the forward pass\n",
    "        y_logit = model(X)\n",
    "        # Turn predictions from logits -> prediction probabilities -> predictions labels\n",
    "        y_pred = torch.softmax(y_logit, dim=1).argmax(dim=1)\n",
    "        # Put predictions on CPU for evaluation\n",
    "        y_preds.append(y_pred.cpu())\n",
    "        y_labels.append(y.cpu())\n",
    "        \n",
    "        #other metrics\n",
    "        test_acc += ((y_pred == y).sum().item()/len(y_pred))\n",
    "        y_pred_class = y_pred.detach().cpu().numpy() \n",
    "        y_class = y.detach().cpu().numpy()\n",
    "        test_precision += precision_score(y_class, y_pred_class, average='macro', zero_division=1, labels=labels)\n",
    "        test_recall += recall_score(y_class, y_pred_class, average='macro', zero_division=1, labels=labels)\n",
    "        #test_f1_score += f1_score(y_class, y_pred_class, average='macro', zero_division=1, labels=labels)\n",
    "        \n",
    "        #if count >= 1:\n",
    "        #    y_set = torch.cat((y_set, y))\n",
    "        #    count = count + 1\n",
    "        #else:\n",
    "        #    y_set = y\n",
    "        #    count = count + 1\n",
    "        \n",
    "test_loss = test_loss / len(test_dataloader)\n",
    "test_precision = test_precision / len(test_dataloader)\n",
    "test_recall = test_recall / len(test_dataloader)\n",
    "#test_f1_score = test_f1_score / len(test_dataloader)\n",
    "#test_kappa = test_kappa / len(dataloader)\n",
    "test_acc = test_acc / len(test_dataloader)\n",
    "# Concatenate list of predictions into a tensor\n",
    "y_pred_tensor = torch.cat(y_preds)\n",
    "test_f1_score = f1_score(y_set.detach().cpu().numpy(), y_pred_tensor.cpu().numpy(), average='macro', zero_division=0, labels=[0,1,2])\n",
    "\n",
    "# Print classification report\n",
    "y_true = y_set.detach().cpu().numpy()\n",
    "report = classification_report(y_true, y_pred_tensor.cpu().numpy(), target_names=class_names)\n",
    "print(report)"
   ]
  },
  {
   "cell_type": "code",
   "execution_count": null,
   "id": "6ae97fab",
   "metadata": {},
   "outputs": [],
   "source": [
    "test_f1_score"
   ]
  },
  {
   "cell_type": "code",
   "execution_count": null,
   "id": "7ebafd9b",
   "metadata": {},
   "outputs": [],
   "source": [
    "make = (y_class == y_pred_class)\n",
    "make"
   ]
  },
  {
   "cell_type": "code",
   "execution_count": null,
   "id": "4f8aa759",
   "metadata": {},
   "outputs": [],
   "source": [
    "torch.softmax(y_logit, dim=1).argmax(dim=1)"
   ]
  },
  {
   "cell_type": "code",
   "execution_count": null,
   "id": "f90a54b2",
   "metadata": {},
   "outputs": [],
   "source": [
    "y"
   ]
  },
  {
   "cell_type": "code",
   "execution_count": null,
   "id": "5a806154",
   "metadata": {},
   "outputs": [],
   "source": [
    "test = (y_pred == y).sum().item()/16"
   ]
  },
  {
   "cell_type": "code",
   "execution_count": null,
   "id": "1da35c56",
   "metadata": {},
   "outputs": [],
   "source": [
    "test"
   ]
  },
  {
   "cell_type": "code",
   "execution_count": null,
   "id": "b1eb246e",
   "metadata": {},
   "outputs": [],
   "source": [
    " y_pred_class = y_pred.detach().cpu().numpy() "
   ]
  },
  {
   "cell_type": "code",
   "execution_count": null,
   "id": "602e096f",
   "metadata": {},
   "outputs": [],
   "source": [
    "y_pred_class"
   ]
  },
  {
   "cell_type": "code",
   "execution_count": null,
   "id": "eaf1af09",
   "metadata": {},
   "outputs": [],
   "source": []
  }
 ],
 "metadata": {
  "kernelspec": {
   "display_name": "Python 3 (ipykernel)",
   "language": "python",
   "name": "python3"
  },
  "language_info": {
   "codemirror_mode": {
    "name": "ipython",
    "version": 3
   },
   "file_extension": ".py",
   "mimetype": "text/x-python",
   "name": "python",
   "nbconvert_exporter": "python",
   "pygments_lexer": "ipython3",
   "version": "3.9.16"
  }
 },
 "nbformat": 4,
 "nbformat_minor": 5
}
