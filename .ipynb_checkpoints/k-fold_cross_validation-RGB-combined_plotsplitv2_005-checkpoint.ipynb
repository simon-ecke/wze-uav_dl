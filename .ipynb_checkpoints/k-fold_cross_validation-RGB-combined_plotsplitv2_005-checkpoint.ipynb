{
 "cells": [
  {
   "cell_type": "markdown",
   "id": "c1acdaa3",
   "metadata": {},
   "source": [
    "# WZE-UAV Image Classification using Deep Learning"
   ]
  },
  {
   "cell_type": "code",
   "execution_count": 1,
   "id": "2159aac5",
   "metadata": {},
   "outputs": [],
   "source": [
    "import os\n",
    "import gc\n",
    "import glob\n",
    "import numpy as np\n",
    "from pathlib import Path\n",
    "from tqdm.auto import tqdm\n",
    "from sklearn.metrics import confusion_matrix, classification_report\n",
    "from sklearn.model_selection import KFold"
   ]
  },
  {
   "cell_type": "code",
   "execution_count": 2,
   "id": "0026f7a9",
   "metadata": {},
   "outputs": [],
   "source": [
    "import torch\n",
    "import torchvision.transforms as T\n",
    "import torchvision\n",
    "from torch import nn\n",
    "from torch.utils.data import DataLoader\n",
    "from torchvision import datasets, transforms\n",
    "from torch.utils.data import Dataset\n",
    "import torch.optim as optim\n",
    "from torch.optim.lr_scheduler import ExponentialLR\n",
    "from mlxtend.plotting import plot_confusion_matrix"
   ]
  },
  {
   "cell_type": "code",
   "execution_count": 3,
   "id": "b160d7b4",
   "metadata": {},
   "outputs": [],
   "source": [
    "import wze_uav.data_loader as data_loader\n",
    "import wze_uav.models as models\n",
    "from wze_uav.engine import *\n",
    "from wze_uav.utils2 import *\n",
    "#from wze_uav.log_writer import create_writer\n",
    "from wze_uav.datasplit import *\n",
    "from efficientnet import model_effnet #for custom effnet with n_channels input\n",
    "import wandb"
   ]
  },
  {
   "cell_type": "markdown",
   "id": "2bd4fb2f",
   "metadata": {},
   "source": [
    "#### Get PyTorch version"
   ]
  },
  {
   "cell_type": "code",
   "execution_count": 4,
   "id": "c10886b1",
   "metadata": {},
   "outputs": [
    {
     "name": "stdout",
     "output_type": "stream",
     "text": [
      "torch version: 1.13.1+cu116\n",
      "torchvision version: 0.14.1+cu116\n"
     ]
    }
   ],
   "source": [
    "print(f\"torch version: {torch.__version__}\")\n",
    "print(f\"torchvision version: {torchvision.__version__}\")"
   ]
  },
  {
   "cell_type": "markdown",
   "id": "aa6a83cf",
   "metadata": {},
   "source": [
    "#### Preparing device agnostic code "
   ]
  },
  {
   "cell_type": "code",
   "execution_count": 5,
   "id": "13d5de88",
   "metadata": {},
   "outputs": [
    {
     "name": "stdout",
     "output_type": "stream",
     "text": [
      "cuda\n",
      "Index of current divice: 0\n",
      "Number of GPUs available: 1\n",
      "GPU Model: Quadro RTX 8000\n"
     ]
    }
   ],
   "source": [
    "# ensure device agnostic code\n",
    "device = 'cuda' if torch.cuda.is_available() else 'cpu'\n",
    "print(device)\n",
    "\n",
    "# get index of currently selected device\n",
    "print(f\"Index of current divice: {torch.cuda.current_device()}\")\n",
    "# get number of GPUs available\n",
    "print(f\"Number of GPUs available: {torch.cuda.device_count()}\")\n",
    "# get the name of the device\n",
    "print(f\"GPU Model: {torch.cuda.get_device_name(0)}\")"
   ]
  },
  {
   "cell_type": "markdown",
   "id": "8ef6b169",
   "metadata": {},
   "source": [
    "#### Login to Weights & Biases to track results"
   ]
  },
  {
   "cell_type": "code",
   "execution_count": 6,
   "id": "a59d27cf",
   "metadata": {},
   "outputs": [
    {
     "name": "stderr",
     "output_type": "stream",
     "text": [
      "Failed to detect the name of this notebook, you can set it manually with the WANDB_NOTEBOOK_NAME environment variable to enable code saving.\n",
      "\u001b[34m\u001b[1mwandb\u001b[0m: Currently logged in as: \u001b[33msimon-ecke\u001b[0m. Use \u001b[1m`wandb login --relogin`\u001b[0m to force relogin\n"
     ]
    },
    {
     "data": {
      "text/html": [
       "wandb version 0.15.2 is available!  To upgrade, please run:\n",
       " $ pip install wandb --upgrade"
      ],
      "text/plain": [
       "<IPython.core.display.HTML object>"
      ]
     },
     "metadata": {},
     "output_type": "display_data"
    },
    {
     "data": {
      "text/html": [
       "Tracking run with wandb version 0.14.2"
      ],
      "text/plain": [
       "<IPython.core.display.HTML object>"
      ]
     },
     "metadata": {},
     "output_type": "display_data"
    },
    {
     "data": {
      "text/html": [
       "Run data is saved locally in <code>C:\\Users\\lwfeckesim\\01_PyTorch\\wze-uav\\wze-uav-master\\wandb\\run-20230509_143835-4eg4ncmw</code>"
      ],
      "text/plain": [
       "<IPython.core.display.HTML object>"
      ]
     },
     "metadata": {},
     "output_type": "display_data"
    },
    {
     "data": {
      "text/html": [
       "Syncing run <strong><a href='https://wandb.ai/simon-ecke/wze-uav-combined/runs/4eg4ncmw' target=\"_blank\">fiery-cherry-20</a></strong> to <a href='https://wandb.ai/simon-ecke/wze-uav-combined' target=\"_blank\">Weights & Biases</a> (<a href='https://wandb.me/run' target=\"_blank\">docs</a>)<br/>"
      ],
      "text/plain": [
       "<IPython.core.display.HTML object>"
      ]
     },
     "metadata": {},
     "output_type": "display_data"
    },
    {
     "data": {
      "text/html": [
       " View project at <a href='https://wandb.ai/simon-ecke/wze-uav-combined' target=\"_blank\">https://wandb.ai/simon-ecke/wze-uav-combined</a>"
      ],
      "text/plain": [
       "<IPython.core.display.HTML object>"
      ]
     },
     "metadata": {},
     "output_type": "display_data"
    },
    {
     "data": {
      "text/html": [
       " View run at <a href='https://wandb.ai/simon-ecke/wze-uav-combined/runs/4eg4ncmw' target=\"_blank\">https://wandb.ai/simon-ecke/wze-uav-combined/runs/4eg4ncmw</a>"
      ],
      "text/plain": [
       "<IPython.core.display.HTML object>"
      ]
     },
     "metadata": {},
     "output_type": "display_data"
    },
    {
     "data": {
      "text/html": [
       "<button onClick=\"this.nextSibling.style.display='block';this.style.display='none';\">Display W&B run</button><iframe src='https://wandb.ai/simon-ecke/wze-uav-combined/runs/4eg4ncmw?jupyter=true' style='border:none;width:100%;height:420px;display:none;'></iframe>"
      ],
      "text/plain": [
       "<wandb.sdk.wandb_run.Run at 0x11afce730d0>"
      ]
     },
     "execution_count": 6,
     "metadata": {},
     "output_type": "execute_result"
    }
   ],
   "source": [
    "# IMPORTANT: The proxy needs to be set in anaconda!\n",
    "# copy paste this in anaconda and restart jupyter notebook\n",
    "#set http_proxy=http://www-proxy.bayern.de:80\n",
    "#set https_proxy=http://www-proxy.bayern.de:80\n",
    "wandb.login()\n",
    "#wandb.init(settings=wandb.Settings(start_method=\"thread\"))\n",
    "wandb.init(project='wze-uav-combined', entity='simon-ecke')"
   ]
  },
  {
   "cell_type": "markdown",
   "id": "a26a6a34",
   "metadata": {},
   "source": [
    "#### Ensure reproducibility "
   ]
  },
  {
   "cell_type": "code",
   "execution_count": 7,
   "id": "dd4656a7",
   "metadata": {},
   "outputs": [],
   "source": [
    "# for more information, see also: https://pytorch.org/docs/stable/notes/randomness.html\n",
    "\n",
    "# Set seeds\n",
    "def set_seeds(seed: int=42):\n",
    "    \"\"\"Sets random sets for torch operations.\n",
    "\n",
    "    Args:\n",
    "        seed (int, optional): Random seed to set. Defaults to 42.\n",
    "    \"\"\"\n",
    "    # Set the seed for general torch operations\n",
    "    torch.manual_seed(seed)\n",
    "    # Set the seed for CUDA torch operations (ones that happen on the GPU)\n",
    "    torch.cuda.manual_seed(seed)\n",
    "    # seed for numpy\n",
    "    np.random.seed(seed)\n",
    "\n",
    "set_seeds(42) \n",
    "\n",
    "# Set to true -> might speed up the process but should be set to False if reproducible results are desired\n",
    "torch.backends.cudnn.benchmark = False\n"
   ]
  },
  {
   "cell_type": "markdown",
   "id": "8be33671",
   "metadata": {},
   "source": [
    "#### Define file directory"
   ]
  },
  {
   "cell_type": "code",
   "execution_count": 8,
   "id": "30645f36",
   "metadata": {},
   "outputs": [],
   "source": [
    "#####################################################################################\n",
    "# 3 channel input (r-g-b)\n",
    "#data_path = r\"D:\\Drohnendaten\\10_WZE-UAV\\Auswertung_findatree\\Datasplit\\ROI\\rgb\"\n",
    "\n",
    "# 4 channel input (r-g-b-nir)\n",
    "#data_path = r\"D:\\Drohnendaten\\10_WZE-UAV\\Auswertung_findatree\\Datasplit\\ROI\\rgb-nir\"\n",
    "\n",
    "# 5 channel input (r-g-b-re-nir)\n",
    "data_path = r\"D:\\Drohnendaten\\10_WZE-UAV\\Auswertung_findatree\\Datasplit\\ROI\\rgb-re-nir\"\n",
    "\n",
    "# 6 channel input (r-g-b-re-nir)\n",
    "#data_path = r\"D:\\Drohnendaten\\10_WZE-UAV\\Auswertung_findatree\\Datasplit\\ROI\\rgb-re-nir-chm\"\n",
    "\n",
    "#####################################################################################"
   ]
  },
  {
   "cell_type": "markdown",
   "id": "4560ce64",
   "metadata": {},
   "source": [
    "#### Get all file paths, years and plotIDs"
   ]
  },
  {
   "cell_type": "code",
   "execution_count": 9,
   "id": "aa072e4c",
   "metadata": {},
   "outputs": [],
   "source": [
    "fn_list = os.listdir(data_path)\n",
    "path_list = []\n",
    "#year_list = []\n",
    "#plotID_list = []\n",
    "# Iterate over all datafiles\n",
    "for year in fn_list:\n",
    "    year_dir = f'{data_path}\\\\{year}'\n",
    "    for filename in os.listdir(year_dir):\n",
    "        path = f'{year_dir}\\\\{filename}'\n",
    "        #plotID = path.rsplit('_',1)[0].rsplit('r',1)[1]\n",
    "        path_list.append(path)\n",
    "        #year_list.append(year)\n",
    "        #plotID_list.append(plotID)"
   ]
  },
  {
   "cell_type": "markdown",
   "id": "f3937a44",
   "metadata": {},
   "source": [
    "#### Get unique plotIDs and years per available trees"
   ]
  },
  {
   "cell_type": "code",
   "execution_count": 10,
   "id": "8a50f1d7",
   "metadata": {},
   "outputs": [
    {
     "data": {
      "application/vnd.jupyter.widget-view+json": {
       "model_id": "dfe9374ddbc14f3d92fb6265222c2d4c",
       "version_major": 2,
       "version_minor": 0
      },
      "text/plain": [
       "Creating unique tree IDs...:   0%|          | 0/647 [00:00<?, ?it/s]"
      ]
     },
     "metadata": {},
     "output_type": "display_data"
    }
   ],
   "source": [
    "plotID_dict = data_loader.get_plotID(path_list)"
   ]
  },
  {
   "cell_type": "markdown",
   "id": "6f4cea00",
   "metadata": {},
   "source": [
    "#### Import all imagery, labels and other features from hdf5 files"
   ]
  },
  {
   "cell_type": "code",
   "execution_count": 11,
   "id": "94e3eecf",
   "metadata": {},
   "outputs": [
    {
     "data": {
      "application/vnd.jupyter.widget-view+json": {
       "model_id": "3e31424a1d2e4a2abdf18f091b80a377",
       "version_major": 2,
       "version_minor": 0
      },
      "text/plain": [
       "Processing hdf5 datasets:   0%|          | 0/647 [00:00<?, ?it/s]"
      ]
     },
     "metadata": {},
     "output_type": "display_data"
    }
   ],
   "source": [
    "image_set, label_set, species_set, kkl_set, bk_set, hash_id = data_loader.hdf5_to_img_label_5species(path_list,\n",
    "                                                                                               plotID_dict,\n",
    "                                                                                               load_sets=[\"images_masked\"])"
   ]
  },
  {
   "cell_type": "markdown",
   "id": "6a90e2b7",
   "metadata": {},
   "source": [
    "#### Convert nbv to classes"
   ]
  },
  {
   "cell_type": "code",
   "execution_count": 12,
   "id": "0224972a",
   "metadata": {},
   "outputs": [],
   "source": [
    "nbv_set = label_set\n",
    "label_set = combined_to_classes(species_set, nbv_set)"
   ]
  },
  {
   "cell_type": "markdown",
   "id": "c6b4cd85",
   "metadata": {},
   "source": [
    "#### Split data into subset (used for training and validation in the 5-fold cross-validation) and test set"
   ]
  },
  {
   "cell_type": "code",
   "execution_count": 24,
   "id": "d06eda54",
   "metadata": {},
   "outputs": [
    {
     "name": "stdout",
     "output_type": "stream",
     "text": [
      "ORIGINAL POSITIVE RATIO: 2.9288929440389295\n",
      "Fold : 0\n",
      "TRAIN POSITIVE RATIO: 2.8676923076923075\n",
      "TEST POSITIVE RATIO : 3.190690208667737\n",
      "LENGTH TRAIN GROUPS : 197\n",
      "LENGTH TEST GROUPS  : 38\n",
      "Number of True in sub_indices: 13325\n",
      "Number of False in sub_indices: 3115\n",
      "Number of True in test_indices: 1112\n",
      "Number of False in test_indices: 15328\n",
      "Check shapes:\n",
      "\n",
      "Images sub dataset: (13325, 250, 250, 5)\n",
      "Labels sub dataset: (13325, 1)\n",
      "\n",
      "Images test dataset: (1112, 250, 250, 5)\n",
      "Labels test dataset: (1112, 1)\n",
      "\n",
      "--------------------------------------------------\n",
      "Check if the split was stratified: (random_state=6)\n",
      "Healthy trees in sub dataset: 3896\n",
      "Stressed trees in sub dataset: 1920\n",
      "Dead trees in sub dataset: 1577\n",
      "Healthy trees in test dataset: 216\n",
      "Stressed trees in test dataset: 153\n",
      "Dead trees in test dataset: 176\n",
      "Ratio health trees in test dataset: 0.055441478439425054\n",
      "Ratio stressed trees in test dataset: 0.0796875\n",
      "Ratio dead trees in test dataset: 0.11160431198478123\n"
     ]
    }
   ],
   "source": [
    "sub_image_set, sub_label_set, sub_hash_id, sub_species_set, test_image_set, test_label_set, test_hash_id, test_species_set = data_split(image_set, label_set, hash_id, species_set, n_splits=6, random_state=6, seed=2)\n"
   ]
  },
  {
   "cell_type": "markdown",
   "id": "c48fbb5b",
   "metadata": {},
   "source": [
    "#### Check if any hash ID is in both sub and test dataset"
   ]
  },
  {
   "cell_type": "code",
   "execution_count": 25,
   "id": "874367cf",
   "metadata": {},
   "outputs": [
    {
     "name": "stdout",
     "output_type": "stream",
     "text": [
      "There are no hash_id values in both train and test datasets. The datasplit was successful\n"
     ]
    }
   ],
   "source": [
    "hash_set = set(sub_hash_id[:,0].flatten())\n",
    "test_hash_set = set(test_hash_id[:,0].flatten())\n",
    "intersection = hash_set.intersection(test_hash_set)\n",
    "if intersection:\n",
    "    print(f\"Hash_id values in both train and test sets: {len(intersection)}\")\n",
    "else:\n",
    "    print(\"There are no hash_id values in both train and test datasets. The datasplit was successful\")"
   ]
  },
  {
   "cell_type": "markdown",
   "id": "9e5b64d4",
   "metadata": {},
   "source": [
    "#### Check feature distribution of the Test dataset"
   ]
  },
  {
   "cell_type": "code",
   "execution_count": 26,
   "id": "a33ff5cb",
   "metadata": {},
   "outputs": [
    {
     "name": "stdout",
     "output_type": "stream",
     "text": [
      "Test dataset\n",
      "Test data Picea abies healthy: 216\n",
      "Test data Picea abies stressed: 153\n",
      "Test data Pinus sylvestris healthy: 176\n",
      "Test data Pinus sylvestris stressed: 198\n",
      "Test data Abies alba healthy: 53\n",
      "Test data Abies alba stressed: 10\n",
      "Test data Fagus sylvatica healthy: 152\n",
      "Test data Fagus sylvatica stressed: 68\n",
      "Test data Quercus robur/petraea healthy: 38\n",
      "Test data Quercus robur/petraea stressed: 24\n",
      "Test data dead trees: 24\n",
      "--------------------------------------------------\n",
      "Remaining dataset\n",
      "Remaining data Picea abies healthy: 3896\n",
      "Remaining data Picea abies stressed: 1920\n",
      "Remaining data Pinus sylvestris healthy: 1577\n",
      "Remaining data Pinus sylvestris stressed: 2032\n",
      "Remaining data Abies alba healthy: 370\n",
      "Remaining data Abies alba stressed: 150\n",
      "Remaining data Fagus sylvatica healthy: 1132\n",
      "Remaining data Fagus sylvatica stressed: 807\n",
      "Remaining data Quercus robur/petraea healthy: 810\n",
      "Remaining data Quercus robur/petraea stressed: 419\n",
      "Remaining data dead trees: 212\n",
      "--------------------------------------------------\n"
     ]
    }
   ],
   "source": [
    "def count_occurrences(data, value):\n",
    "    count = 0\n",
    "    for item in data:\n",
    "        if item == value:\n",
    "            count += 1\n",
    "    return count\n",
    "\n",
    "print(\"Test dataset\")\n",
    "print(f\"Test data Picea abies healthy: {count_occurrences(test_label_set, 0)}\")\n",
    "print(f\"Test data Picea abies stressed: {count_occurrences(test_label_set, 1)}\")\n",
    "print(f\"Test data Pinus sylvestris healthy: {count_occurrences(test_label_set, 2)}\")\n",
    "print(f\"Test data Pinus sylvestris stressed: {count_occurrences(test_label_set, 3)}\")\n",
    "print(f\"Test data Abies alba healthy: {count_occurrences(test_label_set, 4)}\")\n",
    "print(f\"Test data Abies alba stressed: {count_occurrences(test_label_set, 5)}\")\n",
    "print(f\"Test data Fagus sylvatica healthy: {count_occurrences(test_label_set, 6)}\")\n",
    "print(f\"Test data Fagus sylvatica stressed: {count_occurrences(test_label_set, 7)}\")\n",
    "print(f\"Test data Quercus robur/petraea healthy: {count_occurrences(test_label_set, 8)}\")\n",
    "print(f\"Test data Quercus robur/petraea stressed: {count_occurrences(test_label_set, 9)}\")\n",
    "print(f\"Test data dead trees: {count_occurrences(test_label_set, 10)}\")\n",
    "print(\"-\"*50)\n",
    "\n",
    "print(\"Remaining dataset\")\n",
    "print(f\"Remaining data Picea abies healthy: {count_occurrences(sub_label_set, 0)}\")\n",
    "print(f\"Remaining data Picea abies stressed: {count_occurrences(sub_label_set, 1)}\")\n",
    "print(f\"Remaining data Pinus sylvestris healthy: {count_occurrences(sub_label_set, 2)}\")\n",
    "print(f\"Remaining data Pinus sylvestris stressed: {count_occurrences(sub_label_set, 3)}\")\n",
    "print(f\"Remaining data Abies alba healthy: {count_occurrences(sub_label_set, 4)}\")\n",
    "print(f\"Remaining data Abies alba stressed: {count_occurrences(sub_label_set, 5)}\")\n",
    "print(f\"Remaining data Fagus sylvatica healthy: {count_occurrences(sub_label_set, 6)}\")\n",
    "print(f\"Remaining data Fagus sylvatica stressed: {count_occurrences(sub_label_set, 7)}\")\n",
    "print(f\"Remaining data Quercus robur/petraea healthy: {count_occurrences(sub_label_set, 8)}\")\n",
    "print(f\"Remaining data Quercus robur/petraea stressed: {count_occurrences(sub_label_set, 9)}\")\n",
    "print(f\"Remaining data dead trees: {count_occurrences(sub_label_set, 10)}\")\n",
    "print(\"-\"*50)"
   ]
  },
  {
   "cell_type": "code",
   "execution_count": 27,
   "id": "e08fcf57",
   "metadata": {},
   "outputs": [],
   "source": [
    "# train transform with augmentation. \n",
    "transform_train = transforms.Compose([transforms.ToTensor(), transforms.RandomHorizontalFlip(p=0.5), transforms.RandomVerticalFlip(p=0.5),\n",
    "                                      transforms.RandomRotation(degrees=[0,360])])\n",
    "\n",
    "# test and val dataset transform without augmentation. \n",
    "transform = transforms.Compose([transforms.ToTensor()])\n",
    "\n",
    "# class names need to fit the customDataset class used e.g. 3 classes -> use CustomDataset3Classes\n",
    "#class_names = ['healthy', 'slightly_stressed', 'moderately_stressed', 'highly_stressed', 'dead']\n",
    "#class_names = ['healthy', 'moderately_stressed', 'highly_stressed', 'dead']\n",
    "#class_names = ['healthy', 'moderate stress', 'severe stress', 'dead']\n",
    "class_names = ['Picea abies healthy', 'Picea abies stressed', 'Pinus sylvestris healthy', 'Pinus sylvestris stressed', \n",
    "               'Abies alba healthy', 'Abies alba stressed', 'Fagus sylvatica healthy', 'Fagus sylvatica stressed',\n",
    "               'Quercus robur/petraea healthy', 'Quercus robur/petraea stressed', 'dead trees']\n",
    "\n",
    "# set seeds\n",
    "g = torch.Generator()\n",
    "g.manual_seed(42)\n",
    "NUM_WORKERS=3 # should be changed, depending on the system used\n",
    "batch_size=32"
   ]
  },
  {
   "cell_type": "markdown",
   "id": "31779c05",
   "metadata": {},
   "source": [
    "#### Define variables and parameters"
   ]
  },
  {
   "cell_type": "code",
   "execution_count": 28,
   "id": "10ae4379",
   "metadata": {},
   "outputs": [
    {
     "name": "stdout",
     "output_type": "stream",
     "text": [
      "Memory allocated: 2393747456 bytes\n"
     ]
    }
   ],
   "source": [
    "# 1. Define number of epochs\n",
    "epochs = 50\n",
    "n_bands = sub_image_set[0].shape[2] # get number of bands\n",
    "\n",
    "# 2. Define model\n",
    "num_classes = len(class_names)\n",
    "unfreeze = True # all layer weights get updated\n",
    "dropout_rate = 0.5 #define dropout rate\n",
    "model_name = \"EffNet_b7_RGB-RE-NIR-5species-combined_plotsplit\"\n",
    "\n",
    "# 3. Define loss, optimizer and learning rate scheduler\n",
    "lr = 0.005 # define learning rate\n",
    "min_lr = 1e-6 # minimum learning rate threshold\n",
    "gamma = 0.75 # how fast the learning rate decreases per epoch (low number=faster decrease)\n",
    "patience = 10\n",
    "\n",
    "# 4. Create target folder name were to save the tensorboard event files\n",
    "experiment_name = 'RGB-RE-NIR-5species-combined_plotsplit'\n",
    "extra = \"RGB-RE-NIR-5species-combined_plotsplit\"\n",
    "\n",
    "#----------------------------------------------------------------------\n",
    "#torch.cuda.empty_cache()\n",
    "print(f\"Memory allocated: {torch.cuda.memory_allocated()} bytes\") "
   ]
  },
  {
   "cell_type": "markdown",
   "id": "09768b1a",
   "metadata": {},
   "source": [
    "#### Run k-Fold cross-validation on EfficientNet"
   ]
  },
  {
   "cell_type": "code",
   "execution_count": null,
   "id": "9c29c81d",
   "metadata": {},
   "outputs": [
    {
     "name": "stdout",
     "output_type": "stream",
     "text": [
      "ORIGINAL POSITIVE RATIO: 2.8676923076923075\n",
      "Fold : 1\n",
      "TRAIN POSITIVE RATIO: 2.824265554273542\n",
      "VAL POSITIVE RATIO  : 3.1054421768707483\n",
      "LENGTH TRAIN GROUPS : 157\n",
      "LENGTH VAL GROUPS   : 40\n"
     ]
    },
    {
     "data": {
      "text/html": [
       "wandb version 0.15.2 is available!  To upgrade, please run:\n",
       " $ pip install wandb --upgrade"
      ],
      "text/plain": [
       "<IPython.core.display.HTML object>"
      ]
     },
     "metadata": {},
     "output_type": "display_data"
    },
    {
     "data": {
      "text/html": [
       "Tracking run with wandb version 0.14.2"
      ],
      "text/plain": [
       "<IPython.core.display.HTML object>"
      ]
     },
     "metadata": {},
     "output_type": "display_data"
    },
    {
     "data": {
      "text/html": [
       "Run data is saved locally in <code>C:\\Users\\lwfeckesim\\01_PyTorch\\wze-uav\\wze-uav-master\\wandb\\run-20230510_085759-phf2u6ls</code>"
      ],
      "text/plain": [
       "<IPython.core.display.HTML object>"
      ]
     },
     "metadata": {},
     "output_type": "display_data"
    },
    {
     "data": {
      "text/html": [
       "Syncing run <strong><a href='https://wandb.ai/simon-ecke/wze-uav-combined/runs/phf2u6ls' target=\"_blank\">fold_1_RGB-RE-NIR-5species-combined_plotsplit</a></strong> to <a href='https://wandb.ai/simon-ecke/wze-uav-combined' target=\"_blank\">Weights & Biases</a> (<a href='https://wandb.me/run' target=\"_blank\">docs</a>)<br/>"
      ],
      "text/plain": [
       "<IPython.core.display.HTML object>"
      ]
     },
     "metadata": {},
     "output_type": "display_data"
    },
    {
     "data": {
      "text/html": [
       " View project at <a href='https://wandb.ai/simon-ecke/wze-uav-combined' target=\"_blank\">https://wandb.ai/simon-ecke/wze-uav-combined</a>"
      ],
      "text/plain": [
       "<IPython.core.display.HTML object>"
      ]
     },
     "metadata": {},
     "output_type": "display_data"
    },
    {
     "data": {
      "text/html": [
       " View run at <a href='https://wandb.ai/simon-ecke/wze-uav-combined/runs/phf2u6ls' target=\"_blank\">https://wandb.ai/simon-ecke/wze-uav-combined/runs/phf2u6ls</a>"
      ],
      "text/plain": [
       "<IPython.core.display.HTML object>"
      ]
     },
     "metadata": {},
     "output_type": "display_data"
    },
    {
     "name": "stdout",
     "output_type": "stream",
     "text": [
      "There are no same hash_id values in train, val or test datasets. The datasplit was successful\n",
      "Check shapes:\n",
      "\n",
      "Images train dataset: (11267, 250, 250, 5)\n",
      "Labels train dataset: (11267, 1)\n",
      "\n",
      "Images validation dataset: (798, 250, 250, 5)\n",
      "Labels validation dataset: (798, 1)\n",
      "\n",
      "--------------------------------------------------\n",
      "Check if the split was stratified: (random_state=42)\n",
      "Picea abies healthy in train dataset: 3484\n",
      "Picea abies stressed in train dataset: 1636\n",
      "Pinus sylvestris healthy in train dataset: 1191\n",
      "Pinus sylvestris stressed in train dataset: 1653\n",
      "Abies alba healthy in train dataset: 299\n",
      "Abies alba stressed in train dataset: 133\n",
      "Fagus sylvatica healthy in train dataset: 980\n",
      "Fagus sylvatica stressed in train dataset: 716\n",
      "Quercus robur/petraea healthy in train dataset: 667\n",
      "Quercus robur/petraea stressed in train dataset: 325\n",
      "Dead trees in train dataset: 183\n",
      "Picea abies healthy in validation dataset: 160\n",
      "Picea abies stressed in validation dataset: 136\n",
      "Pinus sylvestris healthy in validation dataset: 105\n",
      "Pinus sylvestris stressed in validation dataset: 164\n",
      "Abies alba healthy in validation dataset: 31\n",
      "Abies alba stressed in validation dataset: 7\n",
      "Fagus sylvatica healthy in validation dataset: 64\n",
      "Fagus sylvatica stressed in validation dataset: 32\n",
      "Quercus robur/petraea healthy in validation dataset: 55\n",
      "Quercus robur/petraea stressed in validation dataset: 34\n",
      "Dead trees in validation dataset: 10\n",
      "--------------------------------------------------\n",
      "\n",
      "Creating datasets for fold: 1\n",
      "\n",
      "Creating dataloaders for fold: 1\n",
      "\n",
      "Loaded pretrained weights for efficientnet-b7\n",
      "\n",
      "[INFO] Fold number: 1\n",
      "[INFO] Number of epochs: 50\n",
      "[INFO] Batch_size: 32\n",
      "[INFO] Number of bands: 5\n",
      "[INFO] Dropout rate: 0.5\n",
      "[INFO] Gamma learning rate: 0.75\n",
      "[INFO] Memory allocated: 1337295872 bytes\n"
     ]
    },
    {
     "data": {
      "application/vnd.jupyter.widget-view+json": {
       "model_id": "5e08b9402d6d44458562ee6a8ab2f85d",
       "version_major": 2,
       "version_minor": 0
      },
      "text/plain": [
       "  0%|          | 0/50 [00:00<?, ?it/s]"
      ]
     },
     "metadata": {},
     "output_type": "display_data"
    },
    {
     "name": "stdout",
     "output_type": "stream",
     "text": [
      "Epoch: 1 \n",
      "Learning rate: 0.005\n",
      "Train loss: 1.7618 | Train precision: 0.2059 | Train recall: 0.1942 | Train f1score: 0.1841 | Train acc: 0.3278 | Train kappa: 0.5715 \n",
      "Val loss: 16.7923 | Val precision: 0.0033 | Val recall: 0.0909 | Val f1score: 0.0064 | Val acc: 0.0365 | Val kappa: 0.0000 \n",
      "\n",
      "Epoch: 2 \n",
      "Learning rate: 0.00375\n",
      "Train loss: 1.5168 | Train precision: 0.2678 | Train recall: 0.2492 | Train f1score: 0.2399 | Train acc: 0.4079 | Train kappa: 0.6577 \n",
      "Val loss: 3.6493 | Val precision: 0.0190 | Val recall: 0.0909 | Val f1score: 0.0315 | Val acc: 0.2057 | Val kappa: 0.0180 \n",
      "\n",
      "Epoch: 3 \n",
      "Learning rate: 0.0028125\n",
      "Train loss: 1.4493 | Train precision: 0.3463 | Train recall: 0.2942 | Train f1score: 0.2977 | Train acc: 0.4216 | Train kappa: 0.6840 \n",
      "Val loss: 1.8960 | Val precision: 0.1909 | Val recall: 0.1665 | Val f1score: 0.1253 | Val acc: 0.2695 | Val kappa: 0.3558 \n",
      "\n",
      "Epoch: 4 \n",
      "Learning rate: 0.002109375\n",
      "Train loss: 1.3195 | Train precision: 0.4110 | Train recall: 0.3689 | Train f1score: 0.3710 | Train acc: 0.4611 | Train kappa: 0.7596 \n",
      "Val loss: 1.7789 | Val precision: 0.3223 | Val recall: 0.2805 | Val f1score: 0.2083 | Val acc: 0.2917 | Val kappa: 0.6389 \n",
      "\n",
      "Epoch: 5 \n",
      "Learning rate: 0.00158203125\n",
      "Train loss: 1.2031 | Train precision: 0.4689 | Train recall: 0.4228 | Train f1score: 0.4277 | Train acc: 0.4977 | Train kappa: 0.8071 \n",
      "Val loss: 2.1638 | Val precision: 0.1840 | Val recall: 0.2109 | Val f1score: 0.1328 | Val acc: 0.3086 | Val kappa: 0.5749 \n",
      "\n",
      "Epoch: 6 \n",
      "Learning rate: 0.0011865234375\n",
      "Train loss: 1.1202 | Train precision: 0.4985 | Train recall: 0.4639 | Train f1score: 0.4695 | Train acc: 0.5306 | Train kappa: 0.8365 \n",
      "Val loss: 1.5626 | Val precision: 0.3699 | Val recall: 0.3687 | Val f1score: 0.2696 | Val acc: 0.3568 | Val kappa: 0.3692 \n",
      "\n",
      "Epoch: 7 \n",
      "Learning rate: 0.000889892578125\n",
      "Train loss: 1.0387 | Train precision: 0.5342 | Train recall: 0.5040 | Train f1score: 0.5091 | Train acc: 0.5558 | Train kappa: 0.8686 \n",
      "Val loss: 1.2223 | Val precision: 0.5155 | Val recall: 0.4243 | Val f1score: 0.4040 | Val acc: 0.4701 | Val kappa: 0.8231 \n",
      "\n",
      "Epoch: 8 \n",
      "Learning rate: 0.00066741943359375\n",
      "Train loss: 0.9997 | Train precision: 0.5668 | Train recall: 0.5205 | Train f1score: 0.5247 | Train acc: 0.5759 | Train kappa: 0.8700 \n",
      "Val loss: 1.1529 | Val precision: 0.4478 | Val recall: 0.4359 | Val f1score: 0.3764 | Val acc: 0.4635 | Val kappa: 0.7691 \n",
      "\n",
      "Epoch: 9 \n",
      "Learning rate: 0.0005005645751953125\n",
      "Train loss: 0.9458 | Train precision: 0.5787 | Train recall: 0.5400 | Train f1score: 0.5440 | Train acc: 0.5997 | Train kappa: 0.8810 \n",
      "Val loss: 1.0206 | Val precision: 0.5367 | Val recall: 0.5707 | Val f1score: 0.5225 | Val acc: 0.5716 | Val kappa: 0.8352 \n",
      "\n",
      "Epoch: 10 \n",
      "Learning rate: 0.0003754234313964844\n",
      "Train loss: 0.9313 | Train precision: 0.5702 | Train recall: 0.5448 | Train f1score: 0.5458 | Train acc: 0.5929 | Train kappa: 0.8884 \n",
      "Val loss: 1.0226 | Val precision: 0.5864 | Val recall: 0.4682 | Val f1score: 0.4667 | Val acc: 0.5221 | Val kappa: 0.8345 \n",
      "\n",
      "Epoch: 11 \n",
      "Learning rate: 0.0002815675735473633\n",
      "Train loss: 0.9055 | Train precision: 0.5976 | Train recall: 0.5595 | Train f1score: 0.5637 | Train acc: 0.6078 | Train kappa: 0.9036 \n",
      "Val loss: 1.0912 | Val precision: 0.5029 | Val recall: 0.5189 | Val f1score: 0.4498 | Val acc: 0.5404 | Val kappa: 0.7747 \n",
      "\n",
      "Epoch: 12 \n",
      "Learning rate: 0.00021117568016052246\n",
      "Train loss: 0.8883 | Train precision: 0.6069 | Train recall: 0.5712 | Train f1score: 0.5794 | Train acc: 0.6183 | Train kappa: 0.8990 \n",
      "Val loss: 1.0391 | Val precision: 0.5198 | Val recall: 0.5445 | Val f1score: 0.5111 | Val acc: 0.5573 | Val kappa: 0.8494 \n",
      "\n",
      "Epoch: 13 \n",
      "Learning rate: 0.00015838176012039184\n",
      "Train loss: 0.8886 | Train precision: 0.5999 | Train recall: 0.5695 | Train f1score: 0.5730 | Train acc: 0.6078 | Train kappa: 0.9022 \n",
      "Val loss: 1.0146 | Val precision: 0.5368 | Val recall: 0.5405 | Val f1score: 0.5180 | Val acc: 0.5508 | Val kappa: 0.8553 \n",
      "\n",
      "Epoch: 14 \n",
      "Learning rate: 0.00011878632009029388\n",
      "Train loss: 0.8833 | Train precision: 0.6051 | Train recall: 0.5728 | Train f1score: 0.5785 | Train acc: 0.6173 | Train kappa: 0.9052 \n",
      "Val loss: 0.9956 | Val precision: 0.5396 | Val recall: 0.5483 | Val f1score: 0.5304 | Val acc: 0.5521 | Val kappa: 0.8699 \n",
      "\n",
      "Epoch: 15 \n",
      "Learning rate: 8.908974006772042e-05\n",
      "Train loss: 0.8551 | Train precision: 0.6194 | Train recall: 0.5843 | Train f1score: 0.5881 | Train acc: 0.6261 | Train kappa: 0.9101 \n",
      "Val loss: 0.9807 | Val precision: 0.5472 | Val recall: 0.5470 | Val f1score: 0.5268 | Val acc: 0.5703 | Val kappa: 0.8677 \n",
      "\n",
      "Epoch: 16 \n",
      "Learning rate: 6.681730505079031e-05\n",
      "Train loss: 0.8649 | Train precision: 0.6093 | Train recall: 0.5791 | Train f1score: 0.5795 | Train acc: 0.6163 | Train kappa: 0.9084 \n",
      "Val loss: 0.9698 | Val precision: 0.5552 | Val recall: 0.5390 | Val f1score: 0.5315 | Val acc: 0.5586 | Val kappa: 0.8834 \n",
      "\n",
      "Epoch: 17 \n",
      "Learning rate: 5.0112978788092735e-05\n",
      "Train loss: 0.8669 | Train precision: 0.6039 | Train recall: 0.5677 | Train f1score: 0.5733 | Train acc: 0.6191 | Train kappa: 0.9115 \n",
      "Val loss: 0.9661 | Val precision: 0.5636 | Val recall: 0.5566 | Val f1score: 0.5435 | Val acc: 0.5586 | Val kappa: 0.8789 \n",
      "\n",
      "Epoch: 18 \n",
      "Learning rate: 3.758473409106955e-05\n",
      "Train loss: 0.8481 | Train precision: 0.6194 | Train recall: 0.5829 | Train f1score: 0.5873 | Train acc: 0.6252 | Train kappa: 0.9141 \n",
      "Val loss: 0.9692 | Val precision: 0.5434 | Val recall: 0.5484 | Val f1score: 0.5313 | Val acc: 0.5664 | Val kappa: 0.8778 \n",
      "\n",
      "Epoch: 19 \n",
      "Learning rate: 2.8188550568302163e-05\n",
      "Train loss: 0.8493 | Train precision: 0.6212 | Train recall: 0.5861 | Train f1score: 0.5911 | Train acc: 0.6253 | Train kappa: 0.9129 \n",
      "Val loss: 0.9547 | Val precision: 0.5465 | Val recall: 0.5549 | Val f1score: 0.5399 | Val acc: 0.5729 | Val kappa: 0.8842 \n",
      "\n",
      "Epoch: 20 \n",
      "Learning rate: 2.114141292622662e-05\n",
      "Train loss: 0.8501 | Train precision: 0.6194 | Train recall: 0.5813 | Train f1score: 0.5889 | Train acc: 0.6219 | Train kappa: 0.9135 \n",
      "Val loss: 0.9583 | Val precision: 0.5523 | Val recall: 0.5590 | Val f1score: 0.5422 | Val acc: 0.5729 | Val kappa: 0.8942 \n",
      "\n",
      "Epoch: 21 \n",
      "Learning rate: 1.5856059694669965e-05\n",
      "Train loss: 0.8482 | Train precision: 0.6191 | Train recall: 0.5866 | Train f1score: 0.5932 | Train acc: 0.6233 | Train kappa: 0.9163 \n",
      "Val loss: 0.9593 | Val precision: 0.5485 | Val recall: 0.5562 | Val f1score: 0.5371 | Val acc: 0.5703 | Val kappa: 0.8923 \n",
      "\n",
      "Epoch: 22 \n",
      "Learning rate: 1.1892044771002475e-05\n",
      "Train loss: 0.8581 | Train precision: 0.6118 | Train recall: 0.5807 | Train f1score: 0.5872 | Train acc: 0.6255 | Train kappa: 0.9070 \n",
      "Val loss: 0.9602 | Val precision: 0.5621 | Val recall: 0.5646 | Val f1score: 0.5476 | Val acc: 0.5768 | Val kappa: 0.8869 \n",
      "\n",
      "Epoch: 23 \n",
      "Learning rate: 8.919033578251857e-06\n",
      "Train loss: 0.8451 | Train precision: 0.6175 | Train recall: 0.5782 | Train f1score: 0.5842 | Train acc: 0.6256 | Train kappa: 0.9120 \n",
      "Val loss: 0.9567 | Val precision: 0.5611 | Val recall: 0.5591 | Val f1score: 0.5442 | Val acc: 0.5729 | Val kappa: 0.8930 \n",
      "\n",
      "Epoch: 24 \n",
      "Learning rate: 6.689275183688892e-06\n",
      "Train loss: 0.8434 | Train precision: 0.6238 | Train recall: 0.5844 | Train f1score: 0.5912 | Train acc: 0.6263 | Train kappa: 0.9147 \n",
      "Val loss: 0.9589 | Val precision: 0.5540 | Val recall: 0.5586 | Val f1score: 0.5426 | Val acc: 0.5690 | Val kappa: 0.8914 \n",
      "\n",
      "Epoch: 25 \n",
      "Learning rate: 5.016956387766669e-06\n",
      "Train loss: 0.8513 | Train precision: 0.6215 | Train recall: 0.5864 | Train f1score: 0.5939 | Train acc: 0.6260 | Train kappa: 0.9109 \n",
      "Val loss: 0.9561 | Val precision: 0.5539 | Val recall: 0.5628 | Val f1score: 0.5457 | Val acc: 0.5729 | Val kappa: 0.8927 \n",
      "\n",
      "Epoch: 26 \n",
      "Learning rate: 3.762717290825002e-06\n",
      "Train loss: 0.8356 | Train precision: 0.6177 | Train recall: 0.5907 | Train f1score: 0.5951 | Train acc: 0.6325 | Train kappa: 0.9177 \n",
      "Val loss: 0.9574 | Val precision: 0.5480 | Val recall: 0.5555 | Val f1score: 0.5376 | Val acc: 0.5690 | Val kappa: 0.8890 \n",
      "\n",
      "Epoch: 27 \n",
      "Learning rate: 2.8220379681187514e-06\n",
      "Train loss: 0.8455 | Train precision: 0.6239 | Train recall: 0.5879 | Train f1score: 0.5924 | Train acc: 0.6249 | Train kappa: 0.9167 \n",
      "Val loss: 0.9565 | Val precision: 0.5532 | Val recall: 0.5604 | Val f1score: 0.5436 | Val acc: 0.5729 | Val kappa: 0.8912 \n",
      "\n"
     ]
    },
    {
     "name": "stdout",
     "output_type": "stream",
     "text": [
      "Epoch: 28 \n",
      "Learning rate: 2.1165284760890633e-06\n",
      "Train loss: 0.8582 | Train precision: 0.6318 | Train recall: 0.5911 | Train f1score: 0.6016 | Train acc: 0.6248 | Train kappa: 0.9085 \n",
      "Val loss: 0.9565 | Val precision: 0.5497 | Val recall: 0.5587 | Val f1score: 0.5417 | Val acc: 0.5690 | Val kappa: 0.8897 \n",
      "\n",
      "Epoch: 29 \n",
      "Learning rate: 1.5873963570667977e-06\n",
      "Train loss: 0.8492 | Train precision: 0.6098 | Train recall: 0.5829 | Train f1score: 0.5846 | Train acc: 0.6208 | Train kappa: 0.9094 \n",
      "Val loss: 0.9580 | Val precision: 0.5535 | Val recall: 0.5576 | Val f1score: 0.5415 | Val acc: 0.5664 | Val kappa: 0.8903 \n",
      "\n",
      "Early stopping after epoch 29\n"
     ]
    },
    {
     "data": {
      "text/html": [
       "Waiting for W&B process to finish... <strong style=\"color:green\">(success).</strong>"
      ],
      "text/plain": [
       "<IPython.core.display.HTML object>"
      ]
     },
     "metadata": {},
     "output_type": "display_data"
    },
    {
     "data": {
      "text/html": [
       "<style>\n",
       "    table.wandb td:nth-child(1) { padding: 0 10px; text-align: left ; width: auto;} td:nth-child(2) {text-align: left ; width: 100%}\n",
       "    .wandb-row { display: flex; flex-direction: row; flex-wrap: wrap; justify-content: flex-start; width: 100% }\n",
       "    .wandb-col { display: flex; flex-direction: column; flex-basis: 100%; flex: 1; padding: 10px; }\n",
       "    </style>\n",
       "<div class=\"wandb-row\"><div class=\"wandb-col\"><h3>Run history:</h3><br/><table class=\"wandb\"><tr><td>learning_rate</td><td>█▆▅▄▃▃▂▂▂▂▁▁▁▁▁▁▁▁▁▁▁▁▁▁▁▁▁▁▁</td></tr><tr><td>train_f1_score</td><td>▁▂▃▄▅▆▆▇▇▇▇██████████████████</td></tr><tr><td>train_loss</td><td>█▆▆▅▄▃▃▂▂▂▂▁▁▁▁▁▁▁▁▁▁▁▁▁▁▁▁▁▁</td></tr><tr><td>val_f1_score</td><td>▁▁▃▄▃▄▆▆█▇▇██████████████████</td></tr><tr><td>val_loss</td><td>█▂▁▁▂▁▁▁▁▁▁▁▁▁▁▁▁▁▁▁▁▁▁▁▁▁▁▁▁</td></tr></table><br/></div><div class=\"wandb-col\"><h3>Run summary:</h3><br/><table class=\"wandb\"><tr><td>learning_rate</td><td>0.0</td></tr><tr><td>train_f1_score</td><td>0.5846</td></tr><tr><td>train_loss</td><td>0.8492</td></tr><tr><td>val_f1_score</td><td>0.54147</td></tr><tr><td>val_loss</td><td>0.95801</td></tr></table><br/></div></div>"
      ],
      "text/plain": [
       "<IPython.core.display.HTML object>"
      ]
     },
     "metadata": {},
     "output_type": "display_data"
    },
    {
     "data": {
      "text/html": [
       " View run <strong style=\"color:#cdcd00\">fold_1_RGB-RE-NIR-5species-combined_plotsplit</strong> at: <a href='https://wandb.ai/simon-ecke/wze-uav-combined/runs/phf2u6ls' target=\"_blank\">https://wandb.ai/simon-ecke/wze-uav-combined/runs/phf2u6ls</a><br/>Synced 5 W&B file(s), 0 media file(s), 0 artifact file(s) and 0 other file(s)"
      ],
      "text/plain": [
       "<IPython.core.display.HTML object>"
      ]
     },
     "metadata": {},
     "output_type": "display_data"
    },
    {
     "data": {
      "text/html": [
       "Find logs at: <code>.\\wandb\\run-20230510_085759-phf2u6ls\\logs</code>"
      ],
      "text/plain": [
       "<IPython.core.display.HTML object>"
      ]
     },
     "metadata": {},
     "output_type": "display_data"
    },
    {
     "name": "stdout",
     "output_type": "stream",
     "text": [
      "Deleting variables and emptying cache\n",
      "Memory allocated: 2402849792 bytes\n",
      "--------------------------------------------------\n",
      "\n",
      "Fold : 2\n",
      "TRAIN POSITIVE RATIO: 2.816850158611681\n",
      "VAL POSITIVE RATIO  : 3.076716532412735\n",
      "LENGTH TRAIN GROUPS : 160\n",
      "LENGTH VAL GROUPS   : 37\n"
     ]
    },
    {
     "data": {
      "text/html": [
       "wandb version 0.15.2 is available!  To upgrade, please run:\n",
       " $ pip install wandb --upgrade"
      ],
      "text/plain": [
       "<IPython.core.display.HTML object>"
      ]
     },
     "metadata": {},
     "output_type": "display_data"
    },
    {
     "data": {
      "text/html": [
       "Tracking run with wandb version 0.14.2"
      ],
      "text/plain": [
       "<IPython.core.display.HTML object>"
      ]
     },
     "metadata": {},
     "output_type": "display_data"
    },
    {
     "data": {
      "text/html": [
       "Run data is saved locally in <code>C:\\Users\\lwfeckesim\\01_PyTorch\\wze-uav\\wze-uav-master\\wandb\\run-20230510_132411-0jxlb447</code>"
      ],
      "text/plain": [
       "<IPython.core.display.HTML object>"
      ]
     },
     "metadata": {},
     "output_type": "display_data"
    },
    {
     "data": {
      "text/html": [
       "Syncing run <strong><a href='https://wandb.ai/simon-ecke/wze-uav-combined/runs/0jxlb447' target=\"_blank\">fold_2_RGB-RE-NIR-5species-combined_plotsplit</a></strong> to <a href='https://wandb.ai/simon-ecke/wze-uav-combined' target=\"_blank\">Weights & Biases</a> (<a href='https://wandb.me/run' target=\"_blank\">docs</a>)<br/>"
      ],
      "text/plain": [
       "<IPython.core.display.HTML object>"
      ]
     },
     "metadata": {},
     "output_type": "display_data"
    },
    {
     "data": {
      "text/html": [
       " View project at <a href='https://wandb.ai/simon-ecke/wze-uav-combined' target=\"_blank\">https://wandb.ai/simon-ecke/wze-uav-combined</a>"
      ],
      "text/plain": [
       "<IPython.core.display.HTML object>"
      ]
     },
     "metadata": {},
     "output_type": "display_data"
    },
    {
     "data": {
      "text/html": [
       " View run at <a href='https://wandb.ai/simon-ecke/wze-uav-combined/runs/0jxlb447' target=\"_blank\">https://wandb.ai/simon-ecke/wze-uav-combined/runs/0jxlb447</a>"
      ],
      "text/plain": [
       "<IPython.core.display.HTML object>"
      ]
     },
     "metadata": {},
     "output_type": "display_data"
    },
    {
     "name": "stdout",
     "output_type": "stream",
     "text": [
      "There are no same hash_id values in train, val or test datasets. The datasplit was successful\n",
      "Check shapes:\n",
      "\n",
      "Images train dataset: (10718, 250, 250, 5)\n",
      "Labels train dataset: (10718, 1)\n",
      "\n",
      "Images validation dataset: (1009, 250, 250, 5)\n",
      "Labels validation dataset: (1009, 1)\n",
      "\n",
      "--------------------------------------------------\n",
      "Check if the split was stratified: (random_state=42)\n",
      "Picea abies healthy in train dataset: 3187\n",
      "Picea abies stressed in train dataset: 1586\n",
      "Pinus sylvestris healthy in train dataset: 1287\n",
      "Pinus sylvestris stressed in train dataset: 1578\n",
      "Abies alba healthy in train dataset: 333\n",
      "Abies alba stressed in train dataset: 128\n",
      "Fagus sylvatica healthy in train dataset: 853\n",
      "Fagus sylvatica stressed in train dataset: 595\n",
      "Quercus robur/petraea healthy in train dataset: 677\n",
      "Quercus robur/petraea stressed in train dataset: 314\n",
      "Dead trees in train dataset: 180\n",
      "Picea abies healthy in validation dataset: 272\n",
      "Picea abies stressed in validation dataset: 137\n",
      "Pinus sylvestris healthy in validation dataset: 101\n",
      "Pinus sylvestris stressed in validation dataset: 190\n",
      "Abies alba healthy in validation dataset: 19\n",
      "Abies alba stressed in validation dataset: 2\n",
      "Fagus sylvatica healthy in validation dataset: 83\n",
      "Fagus sylvatica stressed in validation dataset: 98\n",
      "Quercus robur/petraea healthy in validation dataset: 46\n",
      "Quercus robur/petraea stressed in validation dataset: 49\n",
      "Dead trees in validation dataset: 12\n",
      "--------------------------------------------------\n",
      "\n",
      "Creating datasets for fold: 2\n",
      "\n",
      "Creating dataloaders for fold: 2\n",
      "\n",
      "Loaded pretrained weights for efficientnet-b7\n",
      "\n",
      "[INFO] Fold number: 2\n",
      "[INFO] Number of epochs: 50\n",
      "[INFO] Batch_size: 32\n",
      "[INFO] Number of bands: 5\n",
      "[INFO] Dropout rate: 0.5\n",
      "[INFO] Gamma learning rate: 0.75\n",
      "[INFO] Memory allocated: 1337295872 bytes\n"
     ]
    },
    {
     "data": {
      "application/vnd.jupyter.widget-view+json": {
       "model_id": "12decbda6bce47d7b607c6ad428cc78a",
       "version_major": 2,
       "version_minor": 0
      },
      "text/plain": [
       "  0%|          | 0/50 [00:00<?, ?it/s]"
      ]
     },
     "metadata": {},
     "output_type": "display_data"
    },
    {
     "name": "stdout",
     "output_type": "stream",
     "text": [
      "Epoch: 1 \n",
      "Learning rate: 0.005\n",
      "Train loss: 1.7957 | Train precision: 0.2236 | Train recall: 0.2035 | Train f1score: 0.1979 | Train acc: 0.3234 | Train kappa: 0.5661 \n",
      "Val loss: 3.6715 | Val precision: 0.0244 | Val recall: 0.0909 | Val f1score: 0.0385 | Val acc: 0.2671 | Val kappa: 0.0018 \n",
      "\n",
      "Epoch: 2 \n",
      "Learning rate: 0.00375\n",
      "Train loss: 1.5191 | Train precision: 0.3124 | Train recall: 0.2695 | Train f1score: 0.2705 | Train acc: 0.3954 | Train kappa: 0.6786 \n",
      "Val loss: 3.3522 | Val precision: 0.0115 | Val recall: 0.1111 | Val f1score: 0.0199 | Val acc: 0.1008 | Val kappa: -0.1252 \n",
      "\n",
      "Epoch: 3 \n",
      "Learning rate: 0.0028125\n",
      "Train loss: 1.4087 | Train precision: 0.3559 | Train recall: 0.3210 | Train f1score: 0.3205 | Train acc: 0.4349 | Train kappa: 0.7411 \n",
      "Val loss: 2.6454 | Val precision: 0.2506 | Val recall: 0.2254 | Val f1score: 0.1717 | Val acc: 0.2893 | Val kappa: 0.0687 \n",
      "\n",
      "Epoch: 4 \n",
      "Learning rate: 0.002109375\n",
      "Train loss: 1.2809 | Train precision: 0.4063 | Train recall: 0.3572 | Train f1score: 0.3605 | Train acc: 0.4593 | Train kappa: 0.7820 \n",
      "Val loss: 1.4852 | Val precision: 0.3186 | Val recall: 0.3464 | Val f1score: 0.2605 | Val acc: 0.3861 | Val kappa: 0.7476 \n",
      "\n",
      "Epoch: 5 \n",
      "Learning rate: 0.00158203125\n",
      "Train loss: 1.1867 | Train precision: 0.4553 | Train recall: 0.4157 | Train f1score: 0.4187 | Train acc: 0.4887 | Train kappa: 0.8233 \n",
      "Val loss: 1.2862 | Val precision: 0.4166 | Val recall: 0.4457 | Val f1score: 0.3786 | Val acc: 0.4556 | Val kappa: 0.7909 \n",
      "\n",
      "Epoch: 6 \n",
      "Learning rate: 0.0011865234375\n",
      "Train loss: 1.1018 | Train precision: 0.4765 | Train recall: 0.4518 | Train f1score: 0.4501 | Train acc: 0.5245 | Train kappa: 0.8520 \n",
      "Val loss: 1.4848 | Val precision: 0.2781 | Val recall: 0.4041 | Val f1score: 0.3023 | Val acc: 0.3286 | Val kappa: 0.7751 \n",
      "\n",
      "Epoch: 7 \n",
      "Learning rate: 0.000889892578125\n",
      "Train loss: 1.0415 | Train precision: 0.5328 | Train recall: 0.4940 | Train f1score: 0.4952 | Train acc: 0.5506 | Train kappa: 0.8676 \n",
      "Val loss: 1.3468 | Val precision: 0.3976 | Val recall: 0.3977 | Val f1score: 0.3643 | Val acc: 0.5111 | Val kappa: 0.7693 \n",
      "\n",
      "Epoch: 8 \n",
      "Learning rate: 0.00066741943359375\n",
      "Train loss: 0.9916 | Train precision: 0.5577 | Train recall: 0.5156 | Train f1score: 0.5230 | Train acc: 0.5652 | Train kappa: 0.8876 \n",
      "Val loss: 1.2012 | Val precision: 0.4701 | Val recall: 0.4466 | Val f1score: 0.4239 | Val acc: 0.5242 | Val kappa: 0.7976 \n",
      "\n",
      "Epoch: 9 \n",
      "Learning rate: 0.0005005645751953125\n",
      "Train loss: 0.9485 | Train precision: 0.5650 | Train recall: 0.5316 | Train f1score: 0.5364 | Train acc: 0.5880 | Train kappa: 0.8925 \n",
      "Val loss: 1.1151 | Val precision: 0.4881 | Val recall: 0.5322 | Val f1score: 0.4566 | Val acc: 0.5454 | Val kappa: 0.8345 \n",
      "\n",
      "Epoch: 10 \n",
      "Learning rate: 0.0003754234313964844\n",
      "Train loss: 0.9280 | Train precision: 0.5874 | Train recall: 0.5548 | Train f1score: 0.5621 | Train acc: 0.6032 | Train kappa: 0.9027 \n",
      "Val loss: 1.1340 | Val precision: 0.4946 | Val recall: 0.5370 | Val f1score: 0.4759 | Val acc: 0.5524 | Val kappa: 0.8052 \n",
      "\n",
      "Epoch: 11 \n",
      "Learning rate: 0.0002815675735473633\n",
      "Train loss: 0.9017 | Train precision: 0.5957 | Train recall: 0.5592 | Train f1score: 0.5677 | Train acc: 0.6049 | Train kappa: 0.9147 \n",
      "Val loss: 1.1249 | Val precision: 0.4992 | Val recall: 0.5100 | Val f1score: 0.4458 | Val acc: 0.5232 | Val kappa: 0.8207 \n",
      "\n",
      "Epoch: 12 \n",
      "Learning rate: 0.00021117568016052246\n",
      "Train loss: 0.8825 | Train precision: 0.5998 | Train recall: 0.5737 | Train f1score: 0.5776 | Train acc: 0.6097 | Train kappa: 0.9141 \n",
      "Val loss: 1.0991 | Val precision: 0.4837 | Val recall: 0.5052 | Val f1score: 0.4399 | Val acc: 0.5272 | Val kappa: 0.8216 \n",
      "\n",
      "Epoch: 13 \n",
      "Learning rate: 0.00015838176012039184\n",
      "Train loss: 0.8800 | Train precision: 0.6180 | Train recall: 0.5768 | Train f1score: 0.5859 | Train acc: 0.6174 | Train kappa: 0.9086 \n",
      "Val loss: 1.0561 | Val precision: 0.5060 | Val recall: 0.5306 | Val f1score: 0.4769 | Val acc: 0.5343 | Val kappa: 0.8473 \n",
      "\n",
      "Epoch: 14 \n",
      "Learning rate: 0.00011878632009029388\n",
      "Train loss: 0.8708 | Train precision: 0.6000 | Train recall: 0.5746 | Train f1score: 0.5809 | Train acc: 0.6159 | Train kappa: 0.9177 \n",
      "Val loss: 1.0704 | Val precision: 0.5068 | Val recall: 0.5370 | Val f1score: 0.4894 | Val acc: 0.5565 | Val kappa: 0.8339 \n",
      "\n",
      "Epoch: 15 \n",
      "Learning rate: 8.908974006772042e-05\n",
      "Train loss: 0.8488 | Train precision: 0.6275 | Train recall: 0.5995 | Train f1score: 0.6068 | Train acc: 0.6283 | Train kappa: 0.9190 \n",
      "Val loss: 1.0662 | Val precision: 0.4915 | Val recall: 0.5217 | Val f1score: 0.4844 | Val acc: 0.5524 | Val kappa: 0.8310 \n",
      "\n",
      "Epoch: 16 \n",
      "Learning rate: 6.681730505079031e-05\n",
      "Train loss: 0.8571 | Train precision: 0.6141 | Train recall: 0.5828 | Train f1score: 0.5889 | Train acc: 0.6212 | Train kappa: 0.9137 \n",
      "Val loss: 1.0915 | Val precision: 0.5083 | Val recall: 0.5128 | Val f1score: 0.4621 | Val acc: 0.5302 | Val kappa: 0.8356 \n",
      "\n",
      "Epoch: 17 \n",
      "Learning rate: 5.0112978788092735e-05\n",
      "Train loss: 0.8440 | Train precision: 0.6228 | Train recall: 0.5942 | Train f1score: 0.6033 | Train acc: 0.6311 | Train kappa: 0.9172 \n",
      "Val loss: 1.0555 | Val precision: 0.5193 | Val recall: 0.5362 | Val f1score: 0.4988 | Val acc: 0.5585 | Val kappa: 0.8437 \n",
      "\n",
      "Epoch: 18 \n",
      "Learning rate: 3.758473409106955e-05\n",
      "Train loss: 0.8435 | Train precision: 0.6217 | Train recall: 0.5956 | Train f1score: 0.6028 | Train acc: 0.6307 | Train kappa: 0.9165 \n",
      "Val loss: 1.0780 | Val precision: 0.5024 | Val recall: 0.5135 | Val f1score: 0.4655 | Val acc: 0.5333 | Val kappa: 0.8379 \n",
      "\n",
      "Epoch: 19 \n",
      "Learning rate: 2.8188550568302163e-05\n",
      "Train loss: 0.8472 | Train precision: 0.6161 | Train recall: 0.5808 | Train f1score: 0.5874 | Train acc: 0.6200 | Train kappa: 0.9173 \n",
      "Val loss: 1.0721 | Val precision: 0.5023 | Val recall: 0.5234 | Val f1score: 0.4652 | Val acc: 0.5423 | Val kappa: 0.8395 \n",
      "\n",
      "Epoch: 20 \n",
      "Learning rate: 2.114141292622662e-05\n",
      "Train loss: 0.8431 | Train precision: 0.6187 | Train recall: 0.5977 | Train f1score: 0.6029 | Train acc: 0.6276 | Train kappa: 0.9206 \n",
      "Val loss: 1.0686 | Val precision: 0.5050 | Val recall: 0.5153 | Val f1score: 0.4707 | Val acc: 0.5474 | Val kappa: 0.8400 \n",
      "\n",
      "Epoch: 21 \n",
      "Learning rate: 1.5856059694669965e-05\n",
      "Train loss: 0.8404 | Train precision: 0.6285 | Train recall: 0.6027 | Train f1score: 0.6084 | Train acc: 0.6329 | Train kappa: 0.9219 \n",
      "Val loss: 1.0683 | Val precision: 0.5113 | Val recall: 0.5176 | Val f1score: 0.4775 | Val acc: 0.5494 | Val kappa: 0.8378 \n",
      "\n",
      "Epoch: 22 \n",
      "Learning rate: 1.1892044771002475e-05\n",
      "Train loss: 0.8381 | Train precision: 0.6252 | Train recall: 0.5964 | Train f1score: 0.6041 | Train acc: 0.6298 | Train kappa: 0.9186 \n",
      "Val loss: 1.0596 | Val precision: 0.5123 | Val recall: 0.5207 | Val f1score: 0.4777 | Val acc: 0.5494 | Val kappa: 0.8408 \n",
      "\n",
      "Epoch: 23 \n",
      "Learning rate: 8.919033578251857e-06\n",
      "Train loss: 0.8366 | Train precision: 0.6334 | Train recall: 0.6039 | Train f1score: 0.6132 | Train acc: 0.6324 | Train kappa: 0.9242 \n",
      "Val loss: 1.0674 | Val precision: 0.5145 | Val recall: 0.5232 | Val f1score: 0.4803 | Val acc: 0.5514 | Val kappa: 0.8393 \n",
      "\n",
      "Epoch: 24 \n",
      "Learning rate: 6.689275183688892e-06\n",
      "Train loss: 0.8166 | Train precision: 0.6304 | Train recall: 0.6054 | Train f1score: 0.6114 | Train acc: 0.6331 | Train kappa: 0.9268 \n",
      "Val loss: 1.0707 | Val precision: 0.5075 | Val recall: 0.5161 | Val f1score: 0.4664 | Val acc: 0.5454 | Val kappa: 0.8391 \n",
      "\n",
      "Epoch: 25 \n",
      "Learning rate: 5.016956387766669e-06\n",
      "Train loss: 0.8272 | Train precision: 0.6302 | Train recall: 0.6042 | Train f1score: 0.6103 | Train acc: 0.6348 | Train kappa: 0.9278 \n",
      "Val loss: 1.0661 | Val precision: 0.5127 | Val recall: 0.5207 | Val f1score: 0.4775 | Val acc: 0.5514 | Val kappa: 0.8386 \n",
      "\n",
      "Epoch: 26 \n",
      "Learning rate: 3.762717290825002e-06\n",
      "Train loss: 0.8238 | Train precision: 0.6354 | Train recall: 0.6041 | Train f1score: 0.6131 | Train acc: 0.6401 | Train kappa: 0.9250 \n",
      "Val loss: 1.0665 | Val precision: 0.5071 | Val recall: 0.5164 | Val f1score: 0.4702 | Val acc: 0.5433 | Val kappa: 0.8411 \n",
      "\n",
      "Epoch: 27 \n",
      "Learning rate: 2.8220379681187514e-06\n",
      "Train loss: 0.8372 | Train precision: 0.6390 | Train recall: 0.6062 | Train f1score: 0.6164 | Train acc: 0.6335 | Train kappa: 0.9201 \n",
      "Val loss: 1.0616 | Val precision: 0.5053 | Val recall: 0.5164 | Val f1score: 0.4741 | Val acc: 0.5474 | Val kappa: 0.8407 \n",
      "\n",
      "Early stopping after epoch 27\n"
     ]
    },
    {
     "data": {
      "text/html": [
       "Waiting for W&B process to finish... <strong style=\"color:green\">(success).</strong>"
      ],
      "text/plain": [
       "<IPython.core.display.HTML object>"
      ]
     },
     "metadata": {},
     "output_type": "display_data"
    },
    {
     "data": {
      "application/vnd.jupyter.widget-view+json": {
       "model_id": "93e71311bfa94f498f536e66ef8e89ac",
       "version_major": 2,
       "version_minor": 0
      },
      "text/plain": [
       "VBox(children=(Label(value='0.001 MB of 0.001 MB uploaded (0.000 MB deduped)\\r'), FloatProgress(value=1.0, max…"
      ]
     },
     "metadata": {},
     "output_type": "display_data"
    },
    {
     "data": {
      "text/html": [
       "<style>\n",
       "    table.wandb td:nth-child(1) { padding: 0 10px; text-align: left ; width: auto;} td:nth-child(2) {text-align: left ; width: 100%}\n",
       "    .wandb-row { display: flex; flex-direction: row; flex-wrap: wrap; justify-content: flex-start; width: 100% }\n",
       "    .wandb-col { display: flex; flex-direction: column; flex-basis: 100%; flex: 1; padding: 10px; }\n",
       "    </style>\n",
       "<div class=\"wandb-row\"><div class=\"wandb-col\"><h3>Run history:</h3><br/><table class=\"wandb\"><tr><td>learning_rate</td><td>█▆▅▄▃▃▂▂▂▂▁▁▁▁▁▁▁▁▁▁▁▁▁▁▁▁▁</td></tr><tr><td>train_f1_score</td><td>▁▂▃▄▅▅▆▆▇▇▇▇▇▇█████████████</td></tr><tr><td>train_loss</td><td>█▆▅▄▄▃▃▂▂▂▂▁▁▁▁▁▁▁▁▁▁▁▁▁▁▁▁</td></tr><tr><td>val_f1_score</td><td>▁▁▃▅▆▅▆▇▇█▇▇███▇███████████</td></tr><tr><td>val_loss</td><td>█▇▅▂▂▂▂▁▁▁▁▁▁▁▁▁▁▁▁▁▁▁▁▁▁▁▁</td></tr></table><br/></div><div class=\"wandb-col\"><h3>Run summary:</h3><br/><table class=\"wandb\"><tr><td>learning_rate</td><td>0.0</td></tr><tr><td>train_f1_score</td><td>0.61639</td></tr><tr><td>train_loss</td><td>0.8372</td></tr><tr><td>val_f1_score</td><td>0.4741</td></tr><tr><td>val_loss</td><td>1.06158</td></tr></table><br/></div></div>"
      ],
      "text/plain": [
       "<IPython.core.display.HTML object>"
      ]
     },
     "metadata": {},
     "output_type": "display_data"
    },
    {
     "data": {
      "text/html": [
       " View run <strong style=\"color:#cdcd00\">fold_2_RGB-RE-NIR-5species-combined_plotsplit</strong> at: <a href='https://wandb.ai/simon-ecke/wze-uav-combined/runs/0jxlb447' target=\"_blank\">https://wandb.ai/simon-ecke/wze-uav-combined/runs/0jxlb447</a><br/>Synced 5 W&B file(s), 0 media file(s), 0 artifact file(s) and 0 other file(s)"
      ],
      "text/plain": [
       "<IPython.core.display.HTML object>"
      ]
     },
     "metadata": {},
     "output_type": "display_data"
    },
    {
     "data": {
      "text/html": [
       "Find logs at: <code>.\\wandb\\run-20230510_132411-0jxlb447\\logs</code>"
      ],
      "text/plain": [
       "<IPython.core.display.HTML object>"
      ]
     },
     "metadata": {},
     "output_type": "display_data"
    },
    {
     "name": "stdout",
     "output_type": "stream",
     "text": [
      "Deleting variables and emptying cache\n",
      "Memory allocated: 2400008192 bytes\n",
      "--------------------------------------------------\n",
      "\n",
      "Fold : 3\n",
      "TRAIN POSITIVE RATIO: 2.8182238240458366\n",
      "VAL POSITIVE RATIO  : 3.0814696485623\n",
      "LENGTH TRAIN GROUPS : 157\n",
      "LENGTH VAL GROUPS   : 40\n"
     ]
    },
    {
     "data": {
      "text/html": [
       "wandb version 0.15.2 is available!  To upgrade, please run:\n",
       " $ pip install wandb --upgrade"
      ],
      "text/plain": [
       "<IPython.core.display.HTML object>"
      ]
     },
     "metadata": {},
     "output_type": "display_data"
    },
    {
     "data": {
      "text/html": [
       "Tracking run with wandb version 0.14.2"
      ],
      "text/plain": [
       "<IPython.core.display.HTML object>"
      ]
     },
     "metadata": {},
     "output_type": "display_data"
    },
    {
     "data": {
      "text/html": [
       "Run data is saved locally in <code>C:\\Users\\lwfeckesim\\01_PyTorch\\wze-uav\\wze-uav-master\\wandb\\run-20230510_155124-7flplonw</code>"
      ],
      "text/plain": [
       "<IPython.core.display.HTML object>"
      ]
     },
     "metadata": {},
     "output_type": "display_data"
    },
    {
     "data": {
      "text/html": [
       "Syncing run <strong><a href='https://wandb.ai/simon-ecke/wze-uav-combined/runs/7flplonw' target=\"_blank\">fold_3_RGB-RE-NIR-5species-combined_plotsplit</a></strong> to <a href='https://wandb.ai/simon-ecke/wze-uav-combined' target=\"_blank\">Weights & Biases</a> (<a href='https://wandb.me/run' target=\"_blank\">docs</a>)<br/>"
      ],
      "text/plain": [
       "<IPython.core.display.HTML object>"
      ]
     },
     "metadata": {},
     "output_type": "display_data"
    },
    {
     "data": {
      "text/html": [
       " View project at <a href='https://wandb.ai/simon-ecke/wze-uav-combined' target=\"_blank\">https://wandb.ai/simon-ecke/wze-uav-combined</a>"
      ],
      "text/plain": [
       "<IPython.core.display.HTML object>"
      ]
     },
     "metadata": {},
     "output_type": "display_data"
    },
    {
     "data": {
      "text/html": [
       " View run at <a href='https://wandb.ai/simon-ecke/wze-uav-combined/runs/7flplonw' target=\"_blank\">https://wandb.ai/simon-ecke/wze-uav-combined/runs/7flplonw</a>"
      ],
      "text/plain": [
       "<IPython.core.display.HTML object>"
      ]
     },
     "metadata": {},
     "output_type": "display_data"
    },
    {
     "name": "stdout",
     "output_type": "stream",
     "text": [
      "There are no same hash_id values in train, val or test datasets. The datasplit was successful\n",
      "Check shapes:\n",
      "\n",
      "Images train dataset: (10821, 250, 250, 5)\n",
      "Labels train dataset: (10821, 1)\n",
      "\n",
      "Images validation dataset: (928, 250, 250, 5)\n",
      "Labels validation dataset: (928, 1)\n",
      "\n",
      "--------------------------------------------------\n",
      "Check if the split was stratified: (random_state=42)\n",
      "Picea abies healthy in train dataset: 3097\n",
      "Picea abies stressed in train dataset: 1600\n",
      "Pinus sylvestris healthy in train dataset: 1368\n",
      "Pinus sylvestris stressed in train dataset: 1734\n",
      "Abies alba healthy in train dataset: 275\n",
      "Abies alba stressed in train dataset: 104\n",
      "Fagus sylvatica healthy in train dataset: 928\n",
      "Fagus sylvatica stressed in train dataset: 619\n",
      "Quercus robur/petraea healthy in train dataset: 584\n",
      "Quercus robur/petraea stressed in train dataset: 355\n",
      "Dead trees in train dataset: 157\n",
      "Picea abies healthy in validation dataset: 275\n",
      "Picea abies stressed in validation dataset: 174\n",
      "Pinus sylvestris healthy in validation dataset: 76\n",
      "Pinus sylvestris stressed in validation dataset: 92\n",
      "Abies alba healthy in validation dataset: 38\n",
      "Abies alba stressed in validation dataset: 14\n",
      "Fagus sylvatica healthy in validation dataset: 67\n",
      "Fagus sylvatica stressed in validation dataset: 74\n",
      "Quercus robur/petraea healthy in validation dataset: 72\n",
      "Quercus robur/petraea stressed in validation dataset: 25\n",
      "Dead trees in validation dataset: 21\n",
      "--------------------------------------------------\n",
      "\n",
      "Creating datasets for fold: 3\n",
      "\n",
      "Creating dataloaders for fold: 3\n",
      "\n",
      "Loaded pretrained weights for efficientnet-b7\n",
      "\n",
      "[INFO] Fold number: 3\n",
      "[INFO] Number of epochs: 50\n",
      "[INFO] Batch_size: 32\n",
      "[INFO] Number of bands: 5\n",
      "[INFO] Dropout rate: 0.5\n",
      "[INFO] Gamma learning rate: 0.75\n",
      "[INFO] Memory allocated: 1337295872 bytes\n"
     ]
    },
    {
     "data": {
      "application/vnd.jupyter.widget-view+json": {
       "model_id": "0125fc97462449fcb709b2d07f58218a",
       "version_major": 2,
       "version_minor": 0
      },
      "text/plain": [
       "  0%|          | 0/50 [00:00<?, ?it/s]"
      ]
     },
     "metadata": {},
     "output_type": "display_data"
    },
    {
     "name": "stdout",
     "output_type": "stream",
     "text": [
      "Epoch: 1 \n",
      "Learning rate: 0.005\n",
      "Train loss: 1.7361 | Train precision: 0.2131 | Train recall: 0.2013 | Train f1score: 0.1930 | Train acc: 0.3317 | Train kappa: 0.5561 \n",
      "Val loss: 2.2002 | Val precision: 0.0964 | Val recall: 0.0972 | Val f1score: 0.0601 | Val acc: 0.2985 | Val kappa: 0.0040 \n",
      "\n",
      "Epoch: 2 \n",
      "Learning rate: 0.00375\n",
      "Train loss: 1.4830 | Train precision: 0.2720 | Train recall: 0.2556 | Train f1score: 0.2479 | Train acc: 0.4085 | Train kappa: 0.6579 \n",
      "Val loss: 3.4548 | Val precision: 0.0201 | Val recall: 0.1283 | Val f1score: 0.0237 | Val acc: 0.0485 | Val kappa: 0.1387 \n",
      "\n",
      "Epoch: 3 \n",
      "Learning rate: 0.0028125\n",
      "Train loss: 1.3790 | Train precision: 0.3103 | Train recall: 0.2737 | Train f1score: 0.2682 | Train acc: 0.4302 | Train kappa: 0.6995 \n",
      "Val loss: 1.8767 | Val precision: 0.2708 | Val recall: 0.2457 | Val f1score: 0.2178 | Val acc: 0.3869 | Val kappa: 0.5149 \n",
      "\n",
      "Epoch: 4 \n",
      "Learning rate: 0.002109375\n",
      "Train loss: 1.2930 | Train precision: 0.3663 | Train recall: 0.3052 | Train f1score: 0.3017 | Train acc: 0.4472 | Train kappa: 0.7565 \n",
      "Val loss: 1.4738 | Val precision: 0.2529 | Val recall: 0.2389 | Val f1score: 0.2079 | Val acc: 0.4343 | Val kappa: 0.5928 \n",
      "\n",
      "Epoch: 5 \n",
      "Learning rate: 0.00158203125\n",
      "Train loss: 1.1919 | Train precision: 0.4445 | Train recall: 0.3915 | Train f1score: 0.3969 | Train acc: 0.4863 | Train kappa: 0.8080 \n",
      "Val loss: 1.2805 | Val precision: 0.3713 | Val recall: 0.3250 | Val f1score: 0.2949 | Val acc: 0.4375 | Val kappa: 0.7359 \n",
      "\n",
      "Epoch: 6 \n",
      "Learning rate: 0.0011865234375\n",
      "Train loss: 1.1195 | Train precision: 0.4676 | Train recall: 0.4295 | Train f1score: 0.4334 | Train acc: 0.5121 | Train kappa: 0.8402 \n",
      "Val loss: 1.9270 | Val precision: 0.3562 | Val recall: 0.2032 | Val f1score: 0.1900 | Val acc: 0.3287 | Val kappa: 0.2338 \n",
      "\n",
      "Epoch: 7 \n",
      "Learning rate: 0.000889892578125\n",
      "Train loss: 1.0551 | Train precision: 0.5170 | Train recall: 0.4647 | Train f1score: 0.4725 | Train acc: 0.5274 | Train kappa: 0.8563 \n",
      "Val loss: 1.2406 | Val precision: 0.4320 | Val recall: 0.3010 | Val f1score: 0.2464 | Val acc: 0.4353 | Val kappa: 0.7671 \n",
      "\n",
      "Epoch: 8 \n",
      "Learning rate: 0.00066741943359375\n",
      "Train loss: 1.0042 | Train precision: 0.5250 | Train recall: 0.4944 | Train f1score: 0.5018 | Train acc: 0.5444 | Train kappa: 0.8778 \n",
      "Val loss: 1.2041 | Val precision: 0.3805 | Val recall: 0.3931 | Val f1score: 0.3483 | Val acc: 0.4019 | Val kappa: 0.8258 \n",
      "\n",
      "Epoch: 9 \n",
      "Learning rate: 0.0005005645751953125\n",
      "Train loss: 0.9589 | Train precision: 0.5512 | Train recall: 0.5055 | Train f1score: 0.5138 | Train acc: 0.5681 | Train kappa: 0.8931 \n",
      "Val loss: 1.0199 | Val precision: 0.6023 | Val recall: 0.5165 | Val f1score: 0.5063 | Val acc: 0.5506 | Val kappa: 0.8830 \n",
      "\n",
      "Epoch: 10 \n",
      "Learning rate: 0.0003754234313964844\n",
      "Train loss: 0.9220 | Train precision: 0.5766 | Train recall: 0.5464 | Train f1score: 0.5536 | Train acc: 0.5769 | Train kappa: 0.9063 \n",
      "Val loss: 0.9475 | Val precision: 0.5986 | Val recall: 0.5384 | Val f1score: 0.5183 | Val acc: 0.5733 | Val kappa: 0.9133 \n",
      "\n",
      "Epoch: 11 \n",
      "Learning rate: 0.0002815675735473633\n",
      "Train loss: 0.9132 | Train precision: 0.5709 | Train recall: 0.5371 | Train f1score: 0.5423 | Train acc: 0.5875 | Train kappa: 0.9002 \n",
      "Val loss: 0.9506 | Val precision: 0.6251 | Val recall: 0.4989 | Val f1score: 0.5044 | Val acc: 0.5668 | Val kappa: 0.9080 \n",
      "\n",
      "Epoch: 12 \n",
      "Learning rate: 0.00021117568016052246\n",
      "Train loss: 0.8895 | Train precision: 0.5773 | Train recall: 0.5451 | Train f1score: 0.5513 | Train acc: 0.5966 | Train kappa: 0.9059 \n",
      "Val loss: 0.8719 | Val precision: 0.6064 | Val recall: 0.5792 | Val f1score: 0.5825 | Val acc: 0.6067 | Val kappa: 0.9159 \n",
      "\n",
      "Epoch: 13 \n",
      "Learning rate: 0.00015838176012039184\n",
      "Train loss: 0.8842 | Train precision: 0.5988 | Train recall: 0.5590 | Train f1score: 0.5714 | Train acc: 0.5983 | Train kappa: 0.9107 \n",
      "Val loss: 0.8727 | Val precision: 0.5946 | Val recall: 0.6041 | Val f1score: 0.5904 | Val acc: 0.6153 | Val kappa: 0.9156 \n",
      "\n",
      "Epoch: 14 \n",
      "Learning rate: 0.00011878632009029388\n",
      "Train loss: 0.8633 | Train precision: 0.5966 | Train recall: 0.5690 | Train f1score: 0.5764 | Train acc: 0.6059 | Train kappa: 0.9178 \n",
      "Val loss: 0.8777 | Val precision: 0.6148 | Val recall: 0.5846 | Val f1score: 0.5836 | Val acc: 0.6024 | Val kappa: 0.9151 \n",
      "\n",
      "Epoch: 15 \n",
      "Learning rate: 8.908974006772042e-05\n",
      "Train loss: 0.8664 | Train precision: 0.6084 | Train recall: 0.5781 | Train f1score: 0.5880 | Train acc: 0.6057 | Train kappa: 0.9181 \n",
      "Val loss: 0.8499 | Val precision: 0.6423 | Val recall: 0.5798 | Val f1score: 0.5863 | Val acc: 0.6218 | Val kappa: 0.9204 \n",
      "\n",
      "Epoch: 16 \n",
      "Learning rate: 6.681730505079031e-05\n",
      "Train loss: 0.8420 | Train precision: 0.6252 | Train recall: 0.5843 | Train f1score: 0.5952 | Train acc: 0.6112 | Train kappa: 0.9223 \n",
      "Val loss: 0.8378 | Val precision: 0.6376 | Val recall: 0.6073 | Val f1score: 0.5997 | Val acc: 0.6272 | Val kappa: 0.9183 \n",
      "\n",
      "Epoch: 17 \n",
      "Learning rate: 5.0112978788092735e-05\n",
      "Train loss: 0.8551 | Train precision: 0.6105 | Train recall: 0.5741 | Train f1score: 0.5827 | Train acc: 0.6119 | Train kappa: 0.9147 \n",
      "Val loss: 0.8492 | Val precision: 0.6323 | Val recall: 0.6115 | Val f1score: 0.5925 | Val acc: 0.6175 | Val kappa: 0.9210 \n",
      "\n",
      "Epoch: 18 \n",
      "Learning rate: 3.758473409106955e-05\n",
      "Train loss: 0.8452 | Train precision: 0.6151 | Train recall: 0.5832 | Train f1score: 0.5914 | Train acc: 0.6080 | Train kappa: 0.9194 \n",
      "Val loss: 0.8303 | Val precision: 0.6217 | Val recall: 0.6053 | Val f1score: 0.6033 | Val acc: 0.6261 | Val kappa: 0.9188 \n",
      "\n",
      "Epoch: 19 \n",
      "Learning rate: 2.8188550568302163e-05\n",
      "Train loss: 0.8352 | Train precision: 0.6211 | Train recall: 0.5941 | Train f1score: 0.6018 | Train acc: 0.6205 | Train kappa: 0.9210 \n",
      "Val loss: 0.8381 | Val precision: 0.6232 | Val recall: 0.5785 | Val f1score: 0.5852 | Val acc: 0.6013 | Val kappa: 0.9247 \n",
      "\n",
      "Epoch: 20 \n",
      "Learning rate: 2.114141292622662e-05\n",
      "Train loss: 0.8535 | Train precision: 0.6188 | Train recall: 0.5919 | Train f1score: 0.6000 | Train acc: 0.6128 | Train kappa: 0.9146 \n",
      "Val loss: 0.8351 | Val precision: 0.6312 | Val recall: 0.6046 | Val f1score: 0.5966 | Val acc: 0.6207 | Val kappa: 0.9205 \n",
      "\n",
      "Epoch: 21 \n",
      "Learning rate: 1.5856059694669965e-05\n",
      "Train loss: 0.8391 | Train precision: 0.6262 | Train recall: 0.5872 | Train f1score: 0.5973 | Train acc: 0.6188 | Train kappa: 0.9222 \n",
      "Val loss: 0.8259 | Val precision: 0.6370 | Val recall: 0.6072 | Val f1score: 0.6129 | Val acc: 0.6282 | Val kappa: 0.9181 \n",
      "\n",
      "Epoch: 22 \n",
      "Learning rate: 1.1892044771002475e-05\n",
      "Train loss: 0.8403 | Train precision: 0.6345 | Train recall: 0.5952 | Train f1score: 0.6069 | Train acc: 0.6178 | Train kappa: 0.9281 \n",
      "Val loss: 0.8244 | Val precision: 0.6302 | Val recall: 0.6048 | Val f1score: 0.6104 | Val acc: 0.6293 | Val kappa: 0.9226 \n",
      "\n",
      "Epoch: 23 \n",
      "Learning rate: 8.919033578251857e-06\n",
      "Train loss: 0.8434 | Train precision: 0.6115 | Train recall: 0.5835 | Train f1score: 0.5922 | Train acc: 0.6154 | Train kappa: 0.9190 \n",
      "Val loss: 0.8230 | Val precision: 0.6353 | Val recall: 0.6037 | Val f1score: 0.6097 | Val acc: 0.6336 | Val kappa: 0.9219 \n",
      "\n",
      "Epoch: 24 \n",
      "Learning rate: 6.689275183688892e-06\n",
      "Train loss: 0.8363 | Train precision: 0.6281 | Train recall: 0.5938 | Train f1score: 0.6030 | Train acc: 0.6195 | Train kappa: 0.9222 \n",
      "Val loss: 0.8247 | Val precision: 0.6410 | Val recall: 0.6074 | Val f1score: 0.6127 | Val acc: 0.6369 | Val kappa: 0.9210 \n",
      "\n",
      "Epoch: 25 \n",
      "Learning rate: 5.016956387766669e-06\n",
      "Train loss: 0.8520 | Train precision: 0.6216 | Train recall: 0.5853 | Train f1score: 0.5952 | Train acc: 0.6157 | Train kappa: 0.9154 \n",
      "Val loss: 0.8248 | Val precision: 0.6410 | Val recall: 0.6083 | Val f1score: 0.6137 | Val acc: 0.6369 | Val kappa: 0.9212 \n",
      "\n",
      "Epoch: 26 \n",
      "Learning rate: 3.762717290825002e-06\n",
      "Train loss: 0.8398 | Train precision: 0.6240 | Train recall: 0.5876 | Train f1score: 0.5980 | Train acc: 0.6156 | Train kappa: 0.9206 \n",
      "Val loss: 0.8216 | Val precision: 0.6385 | Val recall: 0.6038 | Val f1score: 0.6085 | Val acc: 0.6325 | Val kappa: 0.9214 \n",
      "\n",
      "Epoch: 27 \n",
      "Learning rate: 2.8220379681187514e-06\n",
      "Train loss: 0.8411 | Train precision: 0.6211 | Train recall: 0.5796 | Train f1score: 0.5909 | Train acc: 0.6119 | Train kappa: 0.9205 \n",
      "Val loss: 0.8213 | Val precision: 0.6398 | Val recall: 0.6081 | Val f1score: 0.6146 | Val acc: 0.6412 | Val kappa: 0.9216 \n",
      "\n"
     ]
    },
    {
     "name": "stdout",
     "output_type": "stream",
     "text": [
      "Epoch: 28 \n",
      "Learning rate: 2.1165284760890633e-06\n",
      "Train loss: 0.8316 | Train precision: 0.6253 | Train recall: 0.5898 | Train f1score: 0.5997 | Train acc: 0.6218 | Train kappa: 0.9227 \n",
      "Val loss: 0.8277 | Val precision: 0.6425 | Val recall: 0.6096 | Val f1score: 0.6148 | Val acc: 0.6358 | Val kappa: 0.9216 \n",
      "\n",
      "Epoch: 29 \n",
      "Learning rate: 1.5873963570667977e-06\n",
      "Train loss: 0.8250 | Train precision: 0.6155 | Train recall: 0.5814 | Train f1score: 0.5903 | Train acc: 0.6232 | Train kappa: 0.9182 \n",
      "Val loss: 0.8244 | Val precision: 0.6413 | Val recall: 0.6072 | Val f1score: 0.6129 | Val acc: 0.6401 | Val kappa: 0.9214 \n",
      "\n",
      "Epoch: 30 \n",
      "Learning rate: 1.1905472678000981e-06\n",
      "Train loss: 0.8277 | Train precision: 0.6198 | Train recall: 0.5858 | Train f1score: 0.5931 | Train acc: 0.6238 | Train kappa: 0.9194 \n",
      "Val loss: 0.8242 | Val precision: 0.6383 | Val recall: 0.6058 | Val f1score: 0.6109 | Val acc: 0.6347 | Val kappa: 0.9213 \n",
      "\n",
      "Epoch: 31 \n",
      "Learning rate: 1e-06\n",
      "Train loss: 0.8310 | Train precision: 0.6299 | Train recall: 0.5882 | Train f1score: 0.5985 | Train acc: 0.6181 | Train kappa: 0.9233 \n",
      "Val loss: 0.8239 | Val precision: 0.6464 | Val recall: 0.6128 | Val f1score: 0.6176 | Val acc: 0.6422 | Val kappa: 0.9220 \n",
      "\n",
      "Epoch: 32 \n",
      "Learning rate: 1e-06\n",
      "Train loss: 0.8286 | Train precision: 0.6219 | Train recall: 0.5894 | Train f1score: 0.5984 | Train acc: 0.6199 | Train kappa: 0.9201 \n",
      "Val loss: 0.8244 | Val precision: 0.6313 | Val recall: 0.6024 | Val f1score: 0.6052 | Val acc: 0.6347 | Val kappa: 0.9221 \n",
      "\n",
      "Epoch: 33 \n",
      "Learning rate: 1e-06\n",
      "Train loss: 0.8258 | Train precision: 0.6334 | Train recall: 0.5926 | Train f1score: 0.6026 | Train acc: 0.6256 | Train kappa: 0.9223 \n",
      "Val loss: 0.8257 | Val precision: 0.6381 | Val recall: 0.6051 | Val f1score: 0.6095 | Val acc: 0.6336 | Val kappa: 0.9213 \n",
      "\n",
      "Epoch: 34 \n",
      "Learning rate: 1e-06\n",
      "Train loss: 0.8344 | Train precision: 0.6268 | Train recall: 0.5891 | Train f1score: 0.5985 | Train acc: 0.6155 | Train kappa: 0.9284 \n",
      "Val loss: 0.8226 | Val precision: 0.6437 | Val recall: 0.6088 | Val f1score: 0.6145 | Val acc: 0.6379 | Val kappa: 0.9222 \n",
      "\n",
      "Epoch: 35 \n",
      "Learning rate: 1e-06\n",
      "Train loss: 0.8415 | Train precision: 0.6245 | Train recall: 0.5837 | Train f1score: 0.5951 | Train acc: 0.6143 | Train kappa: 0.9221 \n",
      "Val loss: 0.8232 | Val precision: 0.6354 | Val recall: 0.6055 | Val f1score: 0.6098 | Val acc: 0.6358 | Val kappa: 0.9211 \n",
      "\n",
      "Epoch: 36 \n",
      "Learning rate: 1e-06\n",
      "Train loss: 0.8297 | Train precision: 0.6292 | Train recall: 0.5964 | Train f1score: 0.6060 | Train acc: 0.6289 | Train kappa: 0.9275 \n",
      "Val loss: 0.8228 | Val precision: 0.6346 | Val recall: 0.6023 | Val f1score: 0.6068 | Val acc: 0.6315 | Val kappa: 0.9213 \n",
      "\n",
      "Epoch: 37 \n",
      "Learning rate: 1e-06\n",
      "Train loss: 0.8525 | Train precision: 0.6113 | Train recall: 0.5774 | Train f1score: 0.5871 | Train acc: 0.6109 | Train kappa: 0.9174 \n",
      "Val loss: 0.8240 | Val precision: 0.6276 | Val recall: 0.6015 | Val f1score: 0.6055 | Val acc: 0.6315 | Val kappa: 0.9207 \n",
      "\n",
      "Early stopping after epoch 37\n"
     ]
    },
    {
     "data": {
      "text/html": [
       "Waiting for W&B process to finish... <strong style=\"color:green\">(success).</strong>"
      ],
      "text/plain": [
       "<IPython.core.display.HTML object>"
      ]
     },
     "metadata": {},
     "output_type": "display_data"
    },
    {
     "data": {
      "application/vnd.jupyter.widget-view+json": {
       "model_id": "185d2f2f717541c4adb9c4a6ef73433d",
       "version_major": 2,
       "version_minor": 0
      },
      "text/plain": [
       "VBox(children=(Label(value='0.001 MB of 0.001 MB uploaded (0.000 MB deduped)\\r'), FloatProgress(value=1.0, max…"
      ]
     },
     "metadata": {},
     "output_type": "display_data"
    },
    {
     "data": {
      "text/html": [
       "<style>\n",
       "    table.wandb td:nth-child(1) { padding: 0 10px; text-align: left ; width: auto;} td:nth-child(2) {text-align: left ; width: 100%}\n",
       "    .wandb-row { display: flex; flex-direction: row; flex-wrap: wrap; justify-content: flex-start; width: 100% }\n",
       "    .wandb-col { display: flex; flex-direction: column; flex-basis: 100%; flex: 1; padding: 10px; }\n",
       "    </style>\n",
       "<div class=\"wandb-row\"><div class=\"wandb-col\"><h3>Run history:</h3><br/><table class=\"wandb\"><tr><td>learning_rate</td><td>█▆▅▄▃▃▂▂▂▂▁▁▁▁▁▁▁▁▁▁▁▁▁▁▁▁▁▁▁▁▁▁▁▁▁▁▁</td></tr><tr><td>train_f1_score</td><td>▁▂▂▃▄▅▆▆▆▇▇▇▇▇███████████████████████</td></tr><tr><td>train_loss</td><td>█▆▅▅▄▃▃▂▂▂▂▁▁▁▁▁▁▁▁▁▁▁▁▁▁▁▁▁▁▁▁▁▁▁▁▁▁</td></tr><tr><td>val_f1_score</td><td>▁▁▃▃▄▃▄▅▇▇▇██████████████████████████</td></tr><tr><td>val_loss</td><td>▅█▄▃▂▄▂▂▂▁▁▁▁▁▁▁▁▁▁▁▁▁▁▁▁▁▁▁▁▁▁▁▁▁▁▁▁</td></tr></table><br/></div><div class=\"wandb-col\"><h3>Run summary:</h3><br/><table class=\"wandb\"><tr><td>learning_rate</td><td>0.0</td></tr><tr><td>train_f1_score</td><td>0.58708</td></tr><tr><td>train_loss</td><td>0.85255</td></tr><tr><td>val_f1_score</td><td>0.60553</td></tr><tr><td>val_loss</td><td>0.82397</td></tr></table><br/></div></div>"
      ],
      "text/plain": [
       "<IPython.core.display.HTML object>"
      ]
     },
     "metadata": {},
     "output_type": "display_data"
    },
    {
     "data": {
      "text/html": [
       " View run <strong style=\"color:#cdcd00\">fold_3_RGB-RE-NIR-5species-combined_plotsplit</strong> at: <a href='https://wandb.ai/simon-ecke/wze-uav-combined/runs/7flplonw' target=\"_blank\">https://wandb.ai/simon-ecke/wze-uav-combined/runs/7flplonw</a><br/>Synced 5 W&B file(s), 0 media file(s), 0 artifact file(s) and 0 other file(s)"
      ],
      "text/plain": [
       "<IPython.core.display.HTML object>"
      ]
     },
     "metadata": {},
     "output_type": "display_data"
    },
    {
     "data": {
      "text/html": [
       "Find logs at: <code>.\\wandb\\run-20230510_155124-7flplonw\\logs</code>"
      ],
      "text/plain": [
       "<IPython.core.display.HTML object>"
      ]
     },
     "metadata": {},
     "output_type": "display_data"
    },
    {
     "name": "stdout",
     "output_type": "stream",
     "text": [
      "Deleting variables and emptying cache\n",
      "Memory allocated: 2400606208 bytes\n",
      "--------------------------------------------------\n",
      "\n",
      "Fold : 4\n",
      "TRAIN POSITIVE RATIO: 3.0157765801077905\n",
      "VAL POSITIVE RATIO  : 2.3833333333333333\n",
      "LENGTH TRAIN GROUPS : 157\n",
      "LENGTH VAL GROUPS   : 40\n"
     ]
    },
    {
     "data": {
      "text/html": [
       "wandb version 0.15.2 is available!  To upgrade, please run:\n",
       " $ pip install wandb --upgrade"
      ],
      "text/plain": [
       "<IPython.core.display.HTML object>"
      ]
     },
     "metadata": {},
     "output_type": "display_data"
    },
    {
     "data": {
      "text/html": [
       "Tracking run with wandb version 0.14.2"
      ],
      "text/plain": [
       "<IPython.core.display.HTML object>"
      ]
     },
     "metadata": {},
     "output_type": "display_data"
    },
    {
     "data": {
      "text/html": [
       "Run data is saved locally in <code>C:\\Users\\lwfeckesim\\01_PyTorch\\wze-uav\\wze-uav-master\\wandb\\run-20230510_192548-47ahw5ma</code>"
      ],
      "text/plain": [
       "<IPython.core.display.HTML object>"
      ]
     },
     "metadata": {},
     "output_type": "display_data"
    },
    {
     "data": {
      "text/html": [
       "Syncing run <strong><a href='https://wandb.ai/simon-ecke/wze-uav-combined/runs/47ahw5ma' target=\"_blank\">fold_4_RGB-RE-NIR-5species-combined_plotsplit</a></strong> to <a href='https://wandb.ai/simon-ecke/wze-uav-combined' target=\"_blank\">Weights & Biases</a> (<a href='https://wandb.me/run' target=\"_blank\">docs</a>)<br/>"
      ],
      "text/plain": [
       "<IPython.core.display.HTML object>"
      ]
     },
     "metadata": {},
     "output_type": "display_data"
    },
    {
     "data": {
      "text/html": [
       " View project at <a href='https://wandb.ai/simon-ecke/wze-uav-combined' target=\"_blank\">https://wandb.ai/simon-ecke/wze-uav-combined</a>"
      ],
      "text/plain": [
       "<IPython.core.display.HTML object>"
      ]
     },
     "metadata": {},
     "output_type": "display_data"
    },
    {
     "data": {
      "text/html": [
       " View run at <a href='https://wandb.ai/simon-ecke/wze-uav-combined/runs/47ahw5ma' target=\"_blank\">https://wandb.ai/simon-ecke/wze-uav-combined/runs/47ahw5ma</a>"
      ],
      "text/plain": [
       "<IPython.core.display.HTML object>"
      ]
     },
     "metadata": {},
     "output_type": "display_data"
    },
    {
     "name": "stdout",
     "output_type": "stream",
     "text": [
      "There are no same hash_id values in train, val or test datasets. The datasplit was successful\n",
      "Check shapes:\n",
      "\n",
      "Images train dataset: (10205, 250, 250, 5)\n",
      "Labels train dataset: (10205, 1)\n",
      "\n",
      "Images validation dataset: (1184, 250, 250, 5)\n",
      "Labels validation dataset: (1184, 1)\n",
      "\n",
      "--------------------------------------------------\n",
      "Check if the split was stratified: (random_state=42)\n",
      "Picea abies healthy in train dataset: 2874\n",
      "Picea abies stressed in train dataset: 1430\n",
      "Pinus sylvestris healthy in train dataset: 1234\n",
      "Pinus sylvestris stressed in train dataset: 1428\n",
      "Abies alba healthy in train dataset: 274\n",
      "Abies alba stressed in train dataset: 91\n",
      "Fagus sylvatica healthy in train dataset: 954\n",
      "Fagus sylvatica stressed in train dataset: 689\n",
      "Quercus robur/petraea healthy in train dataset: 721\n",
      "Quercus robur/petraea stressed in train dataset: 372\n",
      "Dead trees in train dataset: 138\n",
      "Picea abies healthy in validation dataset: 425\n",
      "Picea abies stressed in validation dataset: 142\n",
      "Pinus sylvestris healthy in validation dataset: 138\n",
      "Pinus sylvestris stressed in validation dataset: 208\n",
      "Abies alba healthy in validation dataset: 42\n",
      "Abies alba stressed in validation dataset: 22\n",
      "Fagus sylvatica healthy in validation dataset: 85\n",
      "Fagus sylvatica stressed in validation dataset: 39\n",
      "Quercus robur/petraea healthy in validation dataset: 42\n",
      "Quercus robur/petraea stressed in validation dataset: 13\n",
      "Dead trees in validation dataset: 28\n",
      "--------------------------------------------------\n",
      "\n",
      "Creating datasets for fold: 4\n",
      "\n",
      "Creating dataloaders for fold: 4\n",
      "\n",
      "Loaded pretrained weights for efficientnet-b7\n",
      "\n",
      "[INFO] Fold number: 4\n",
      "[INFO] Number of epochs: 50\n",
      "[INFO] Batch_size: 32\n",
      "[INFO] Number of bands: 5\n",
      "[INFO] Dropout rate: 0.5\n",
      "[INFO] Gamma learning rate: 0.75\n",
      "[INFO] Memory allocated: 1337295872 bytes\n"
     ]
    },
    {
     "data": {
      "application/vnd.jupyter.widget-view+json": {
       "model_id": "a33f1191b1aa465db0a367c35259ca91",
       "version_major": 2,
       "version_minor": 0
      },
      "text/plain": [
       "  0%|          | 0/50 [00:00<?, ?it/s]"
      ]
     },
     "metadata": {},
     "output_type": "display_data"
    },
    {
     "name": "stdout",
     "output_type": "stream",
     "text": [
      "Epoch: 1 \n",
      "Learning rate: 0.005\n",
      "Train loss: 1.7847 | Train precision: 0.2116 | Train recall: 0.1931 | Train f1score: 0.1850 | Train acc: 0.3181 | Train kappa: 0.5821 \n",
      "Val loss: 2.7124 | Val precision: 0.1231 | Val recall: 0.1236 | Val f1score: 0.0553 | Val acc: 0.1410 | Val kappa: 0.2998 \n",
      "\n",
      "Epoch: 2 \n",
      "Learning rate: 0.00375\n",
      "Train loss: 1.5517 | Train precision: 0.2477 | Train recall: 0.2371 | Train f1score: 0.2266 | Train acc: 0.3780 | Train kappa: 0.6804 \n",
      "Val loss: 2.7415 | Val precision: 0.0706 | Val recall: 0.0946 | Val f1score: 0.0241 | Val acc: 0.0422 | Val kappa: -0.0432 \n",
      "\n",
      "Epoch: 3 \n",
      "Learning rate: 0.0028125\n",
      "Train loss: 1.4197 | Train precision: 0.3625 | Train recall: 0.3022 | Train f1score: 0.3066 | Train acc: 0.4197 | Train kappa: 0.7211 \n",
      "Val loss: 1.6907 | Val precision: 0.2714 | Val recall: 0.2062 | Val f1score: 0.2090 | Val acc: 0.4172 | Val kappa: 0.4979 \n",
      "\n",
      "Epoch: 4 \n",
      "Learning rate: 0.002109375\n",
      "Train loss: 1.2902 | Train precision: 0.3894 | Train recall: 0.3670 | Train f1score: 0.3646 | Train acc: 0.4506 | Train kappa: 0.7819 \n",
      "Val loss: 1.6349 | Val precision: 0.3662 | Val recall: 0.3014 | Val f1score: 0.2732 | Val acc: 0.4071 | Val kappa: 0.6236 \n",
      "\n",
      "Epoch: 5 \n",
      "Learning rate: 0.00158203125\n",
      "Train loss: 1.1807 | Train precision: 0.4405 | Train recall: 0.4150 | Train f1score: 0.4138 | Train acc: 0.4881 | Train kappa: 0.8145 \n",
      "Val loss: 1.3387 | Val precision: 0.4409 | Val recall: 0.4387 | Val f1score: 0.4072 | Val acc: 0.5000 | Val kappa: 0.8008 \n",
      "\n",
      "Epoch: 6 \n",
      "Learning rate: 0.0011865234375\n",
      "Train loss: 1.1026 | Train precision: 0.4935 | Train recall: 0.4624 | Train f1score: 0.4652 | Train acc: 0.5199 | Train kappa: 0.8566 \n",
      "Val loss: 1.5305 | Val precision: 0.4421 | Val recall: 0.3938 | Val f1score: 0.3227 | Val acc: 0.4029 | Val kappa: 0.7504 \n",
      "\n",
      "Epoch: 7 \n",
      "Learning rate: 0.000889892578125\n",
      "Train loss: 1.0411 | Train precision: 0.5204 | Train recall: 0.4884 | Train f1score: 0.4923 | Train acc: 0.5414 | Train kappa: 0.8668 \n",
      "Val loss: 1.3743 | Val precision: 0.4305 | Val recall: 0.4036 | Val f1score: 0.3691 | Val acc: 0.5110 | Val kappa: 0.6706 \n",
      "\n",
      "Epoch: 8 \n",
      "Learning rate: 0.00066741943359375\n",
      "Train loss: 0.9883 | Train precision: 0.5573 | Train recall: 0.5281 | Train f1score: 0.5344 | Train acc: 0.5571 | Train kappa: 0.8906 \n",
      "Val loss: 1.4675 | Val precision: 0.5355 | Val recall: 0.4184 | Val f1score: 0.3883 | Val acc: 0.4367 | Val kappa: 0.8220 \n",
      "\n",
      "Epoch: 9 \n",
      "Learning rate: 0.0005005645751953125\n",
      "Train loss: 0.9749 | Train precision: 0.5640 | Train recall: 0.5272 | Train f1score: 0.5348 | Train acc: 0.5627 | Train kappa: 0.8933 \n",
      "Val loss: 1.2318 | Val precision: 0.3746 | Val recall: 0.4298 | Val f1score: 0.3901 | Val acc: 0.5465 | Val kappa: 0.7632 \n",
      "\n",
      "Epoch: 10 \n",
      "Learning rate: 0.0003754234313964844\n",
      "Train loss: 0.9495 | Train precision: 0.5887 | Train recall: 0.5439 | Train f1score: 0.5537 | Train acc: 0.5770 | Train kappa: 0.8911 \n",
      "Val loss: 0.9728 | Val precision: 0.5438 | Val recall: 0.5133 | Val f1score: 0.5094 | Val acc: 0.5929 | Val kappa: 0.8639 \n",
      "\n",
      "Epoch: 11 \n",
      "Learning rate: 0.0002815675735473633\n",
      "Train loss: 0.9351 | Train precision: 0.5797 | Train recall: 0.5524 | Train f1score: 0.5553 | Train acc: 0.5884 | Train kappa: 0.9033 \n",
      "Val loss: 1.0521 | Val precision: 0.5742 | Val recall: 0.4962 | Val f1score: 0.4854 | Val acc: 0.5676 | Val kappa: 0.8568 \n",
      "\n",
      "Epoch: 12 \n",
      "Learning rate: 0.00021117568016052246\n",
      "Train loss: 0.8991 | Train precision: 0.5889 | Train recall: 0.5573 | Train f1score: 0.5633 | Train acc: 0.5996 | Train kappa: 0.9060 \n",
      "Val loss: 0.9644 | Val precision: 0.6029 | Val recall: 0.5426 | Val f1score: 0.5514 | Val acc: 0.6199 | Val kappa: 0.8748 \n",
      "\n",
      "Epoch: 13 \n",
      "Learning rate: 0.00015838176012039184\n",
      "Train loss: 0.8803 | Train precision: 0.6130 | Train recall: 0.5865 | Train f1score: 0.5917 | Train acc: 0.6119 | Train kappa: 0.9126 \n",
      "Val loss: 0.9328 | Val precision: 0.5926 | Val recall: 0.5611 | Val f1score: 0.5571 | Val acc: 0.6090 | Val kappa: 0.8677 \n",
      "\n",
      "Epoch: 14 \n",
      "Learning rate: 0.00011878632009029388\n",
      "Train loss: 0.8635 | Train precision: 0.6005 | Train recall: 0.5697 | Train f1score: 0.5767 | Train acc: 0.6094 | Train kappa: 0.9183 \n",
      "Val loss: 0.9157 | Val precision: 0.5909 | Val recall: 0.5783 | Val f1score: 0.5733 | Val acc: 0.6326 | Val kappa: 0.8792 \n",
      "\n",
      "Epoch: 15 \n",
      "Learning rate: 8.908974006772042e-05\n",
      "Train loss: 0.8861 | Train precision: 0.6126 | Train recall: 0.5826 | Train f1score: 0.5886 | Train acc: 0.6104 | Train kappa: 0.9138 \n",
      "Val loss: 1.0081 | Val precision: 0.5395 | Val recall: 0.5159 | Val f1score: 0.4991 | Val acc: 0.5667 | Val kappa: 0.8244 \n",
      "\n",
      "Epoch: 16 \n",
      "Learning rate: 6.681730505079031e-05\n",
      "Train loss: 0.8781 | Train precision: 0.6273 | Train recall: 0.5863 | Train f1score: 0.5957 | Train acc: 0.6184 | Train kappa: 0.9209 \n",
      "Val loss: 0.9373 | Val precision: 0.5798 | Val recall: 0.5568 | Val f1score: 0.5558 | Val acc: 0.6039 | Val kappa: 0.8754 \n",
      "\n",
      "Epoch: 17 \n",
      "Learning rate: 5.0112978788092735e-05\n",
      "Train loss: 0.8580 | Train precision: 0.6292 | Train recall: 0.5848 | Train f1score: 0.5943 | Train acc: 0.6171 | Train kappa: 0.9208 \n",
      "Val loss: 0.9306 | Val precision: 0.5924 | Val recall: 0.5637 | Val f1score: 0.5676 | Val acc: 0.6208 | Val kappa: 0.8808 \n",
      "\n",
      "Epoch: 18 \n",
      "Learning rate: 3.758473409106955e-05\n",
      "Train loss: 0.8546 | Train precision: 0.6227 | Train recall: 0.5959 | Train f1score: 0.6015 | Train acc: 0.6212 | Train kappa: 0.9218 \n",
      "Val loss: 0.9260 | Val precision: 0.5776 | Val recall: 0.5629 | Val f1score: 0.5631 | Val acc: 0.6106 | Val kappa: 0.8736 \n",
      "\n",
      "Epoch: 19 \n",
      "Learning rate: 2.8188550568302163e-05\n",
      "Train loss: 0.8563 | Train precision: 0.6217 | Train recall: 0.5896 | Train f1score: 0.5975 | Train acc: 0.6184 | Train kappa: 0.9193 \n",
      "Val loss: 0.9335 | Val precision: 0.5843 | Val recall: 0.5618 | Val f1score: 0.5644 | Val acc: 0.6123 | Val kappa: 0.8738 \n",
      "\n",
      "Epoch: 20 \n",
      "Learning rate: 2.114141292622662e-05\n",
      "Train loss: 0.8626 | Train precision: 0.6149 | Train recall: 0.5891 | Train f1score: 0.5957 | Train acc: 0.6167 | Train kappa: 0.9172 \n",
      "Val loss: 0.9357 | Val precision: 0.5853 | Val recall: 0.5560 | Val f1score: 0.5632 | Val acc: 0.6140 | Val kappa: 0.8823 \n",
      "\n",
      "Epoch: 21 \n",
      "Learning rate: 1.5856059694669965e-05\n",
      "Train loss: 0.8505 | Train precision: 0.6197 | Train recall: 0.5815 | Train f1score: 0.5919 | Train acc: 0.6202 | Train kappa: 0.9155 \n",
      "Val loss: 0.9416 | Val precision: 0.5848 | Val recall: 0.5722 | Val f1score: 0.5702 | Val acc: 0.6022 | Val kappa: 0.8728 \n",
      "\n",
      "Epoch: 22 \n",
      "Learning rate: 1.1892044771002475e-05\n",
      "Train loss: 0.8471 | Train precision: 0.6361 | Train recall: 0.6028 | Train f1score: 0.6107 | Train acc: 0.6224 | Train kappa: 0.9214 \n",
      "Val loss: 0.9345 | Val precision: 0.5921 | Val recall: 0.5787 | Val f1score: 0.5766 | Val acc: 0.6098 | Val kappa: 0.8768 \n",
      "\n",
      "Epoch: 23 \n",
      "Learning rate: 8.919033578251857e-06\n",
      "Train loss: 0.8537 | Train precision: 0.6220 | Train recall: 0.5796 | Train f1score: 0.5921 | Train acc: 0.6163 | Train kappa: 0.9187 \n",
      "Val loss: 0.9372 | Val precision: 0.5804 | Val recall: 0.5727 | Val f1score: 0.5703 | Val acc: 0.6047 | Val kappa: 0.8752 \n",
      "\n",
      "Epoch: 24 \n",
      "Learning rate: 6.689275183688892e-06\n",
      "Train loss: 0.8509 | Train precision: 0.6181 | Train recall: 0.5898 | Train f1score: 0.5974 | Train acc: 0.6199 | Train kappa: 0.9221 \n",
      "Val loss: 0.9319 | Val precision: 0.5899 | Val recall: 0.5655 | Val f1score: 0.5689 | Val acc: 0.6056 | Val kappa: 0.8749 \n",
      "\n",
      "Early stopping after epoch 24\n"
     ]
    },
    {
     "data": {
      "text/html": [
       "Waiting for W&B process to finish... <strong style=\"color:green\">(success).</strong>"
      ],
      "text/plain": [
       "<IPython.core.display.HTML object>"
      ]
     },
     "metadata": {},
     "output_type": "display_data"
    },
    {
     "data": {
      "application/vnd.jupyter.widget-view+json": {
       "model_id": "fe9010ef410847258a85df389e7cf75d",
       "version_major": 2,
       "version_minor": 0
      },
      "text/plain": [
       "VBox(children=(Label(value='0.001 MB of 0.001 MB uploaded (0.000 MB deduped)\\r'), FloatProgress(value=1.0, max…"
      ]
     },
     "metadata": {},
     "output_type": "display_data"
    },
    {
     "data": {
      "text/html": [
       "<style>\n",
       "    table.wandb td:nth-child(1) { padding: 0 10px; text-align: left ; width: auto;} td:nth-child(2) {text-align: left ; width: 100%}\n",
       "    .wandb-row { display: flex; flex-direction: row; flex-wrap: wrap; justify-content: flex-start; width: 100% }\n",
       "    .wandb-col { display: flex; flex-direction: column; flex-basis: 100%; flex: 1; padding: 10px; }\n",
       "    </style>\n",
       "<div class=\"wandb-row\"><div class=\"wandb-col\"><h3>Run history:</h3><br/><table class=\"wandb\"><tr><td>learning_rate</td><td>█▆▅▄▃▃▂▂▂▂▁▁▁▁▁▁▁▁▁▁▁▁▁▁</td></tr><tr><td>train_f1_score</td><td>▁▂▃▄▅▆▆▇▇▇▇▇█▇██████████</td></tr><tr><td>train_loss</td><td>█▆▅▄▃▃▂▂▂▂▂▁▁▁▁▁▁▁▁▁▁▁▁▁</td></tr><tr><td>val_f1_score</td><td>▁▁▃▄▆▅▅▆▆▇▇███▇█████████</td></tr><tr><td>val_loss</td><td>██▄▄▃▃▃▃▂▁▂▁▁▁▁▁▁▁▁▁▁▁▁▁</td></tr></table><br/></div><div class=\"wandb-col\"><h3>Run summary:</h3><br/><table class=\"wandb\"><tr><td>learning_rate</td><td>1e-05</td></tr><tr><td>train_f1_score</td><td>0.59741</td></tr><tr><td>train_loss</td><td>0.85094</td></tr><tr><td>val_f1_score</td><td>0.56891</td></tr><tr><td>val_loss</td><td>0.93187</td></tr></table><br/></div></div>"
      ],
      "text/plain": [
       "<IPython.core.display.HTML object>"
      ]
     },
     "metadata": {},
     "output_type": "display_data"
    },
    {
     "data": {
      "text/html": [
       " View run <strong style=\"color:#cdcd00\">fold_4_RGB-RE-NIR-5species-combined_plotsplit</strong> at: <a href='https://wandb.ai/simon-ecke/wze-uav-combined/runs/47ahw5ma' target=\"_blank\">https://wandb.ai/simon-ecke/wze-uav-combined/runs/47ahw5ma</a><br/>Synced 5 W&B file(s), 0 media file(s), 0 artifact file(s) and 0 other file(s)"
      ],
      "text/plain": [
       "<IPython.core.display.HTML object>"
      ]
     },
     "metadata": {},
     "output_type": "display_data"
    },
    {
     "data": {
      "text/html": [
       "Find logs at: <code>.\\wandb\\run-20230510_192548-47ahw5ma\\logs</code>"
      ],
      "text/plain": [
       "<IPython.core.display.HTML object>"
      ]
     },
     "metadata": {},
     "output_type": "display_data"
    },
    {
     "name": "stdout",
     "output_type": "stream",
     "text": [
      "Deleting variables and emptying cache\n",
      "Memory allocated: 2400167936 bytes\n",
      "--------------------------------------------------\n",
      "\n",
      "Fold : 5\n",
      "TRAIN POSITIVE RATIO: 2.873359898921178\n",
      "VAL POSITIVE RATIO  : 2.8484848484848486\n",
      "LENGTH TRAIN GROUPS : 157\n",
      "LENGTH VAL GROUPS   : 40\n"
     ]
    },
    {
     "data": {
      "text/html": [
       "wandb version 0.15.2 is available!  To upgrade, please run:\n",
       " $ pip install wandb --upgrade"
      ],
      "text/plain": [
       "<IPython.core.display.HTML object>"
      ]
     },
     "metadata": {},
     "output_type": "display_data"
    },
    {
     "data": {
      "text/html": [
       "Tracking run with wandb version 0.14.2"
      ],
      "text/plain": [
       "<IPython.core.display.HTML object>"
      ]
     },
     "metadata": {},
     "output_type": "display_data"
    },
    {
     "data": {
      "text/html": [
       "Run data is saved locally in <code>C:\\Users\\lwfeckesim\\01_PyTorch\\wze-uav\\wze-uav-master\\wandb\\run-20230510_220234-uulp12fv</code>"
      ],
      "text/plain": [
       "<IPython.core.display.HTML object>"
      ]
     },
     "metadata": {},
     "output_type": "display_data"
    },
    {
     "data": {
      "text/html": [
       "Syncing run <strong><a href='https://wandb.ai/simon-ecke/wze-uav-combined/runs/uulp12fv' target=\"_blank\">fold_5_RGB-RE-NIR-5species-combined_plotsplit</a></strong> to <a href='https://wandb.ai/simon-ecke/wze-uav-combined' target=\"_blank\">Weights & Biases</a> (<a href='https://wandb.me/run' target=\"_blank\">docs</a>)<br/>"
      ],
      "text/plain": [
       "<IPython.core.display.HTML object>"
      ]
     },
     "metadata": {},
     "output_type": "display_data"
    },
    {
     "data": {
      "text/html": [
       " View project at <a href='https://wandb.ai/simon-ecke/wze-uav-combined' target=\"_blank\">https://wandb.ai/simon-ecke/wze-uav-combined</a>"
      ],
      "text/plain": [
       "<IPython.core.display.HTML object>"
      ]
     },
     "metadata": {},
     "output_type": "display_data"
    },
    {
     "data": {
      "text/html": [
       " View run at <a href='https://wandb.ai/simon-ecke/wze-uav-combined/runs/uulp12fv' target=\"_blank\">https://wandb.ai/simon-ecke/wze-uav-combined/runs/uulp12fv</a>"
      ],
      "text/plain": [
       "<IPython.core.display.HTML object>"
      ]
     },
     "metadata": {},
     "output_type": "display_data"
    }
   ],
   "source": [
    "%%time\n",
    "\n",
    "# Set the random seeds\n",
    "set_seeds(42)\n",
    "\n",
    "# Define the number of folds\n",
    "num_folds = 5\n",
    "\n",
    "# group the hashIDs to get the unique values of hashIDs remaining in the subset  \n",
    "groups = sub_hash_id[:, 0] \n",
    "print(\"ORIGINAL POSITIVE RATIO:\", sub_label_set.mean())\n",
    "# create a StratifiedGroupKFold instance\n",
    "kf = StratifiedGroupKFold(n_splits=num_folds, shuffle=True, random_state=42)\n",
    "\n",
    "# loop through the folds\n",
    "for fold, (train_ids, val_ids) in enumerate(kf.split(sub_image_set, sub_label_set, groups)):\n",
    "    print(\"Fold :\", fold+1)\n",
    "    print(\"TRAIN POSITIVE RATIO:\", sub_label_set[train_ids].mean())\n",
    "    print(\"VAL POSITIVE RATIO  :\", sub_label_set[val_ids].mean())\n",
    "    print(\"LENGTH TRAIN GROUPS :\", len(set(groups[train_ids])))\n",
    "    print(\"LENGTH VAL GROUPS   :\", len(set(groups[val_ids])))\n",
    "    \n",
    "    train_ids = sub_hash_id[:, 0][train_ids]\n",
    "    val_ids = np.unique(sub_hash_id[:, 0][val_ids])\n",
    "\n",
    "    torch.cuda.empty_cache()\n",
    "    \n",
    "    # Initialize a new wandb run for this fold\n",
    "    wandb.init(project='wze-uav-combined', name=f\"fold_{fold + 1}_{extra}\")\n",
    "    \n",
    "    # 1. Split data into train and validation set\n",
    "    # Get the training and testing data for this fold\n",
    "    # Use np.isin() to create boolean arrays indicating which indices belong to train or test sets\n",
    "    train_indices = np.isin(sub_hash_id[:,0], train_ids)\n",
    "    \n",
    "    val_indices = np.zeros_like(train_indices)  # initialize to all False\n",
    "    for hash_id_val in val_ids:\n",
    "        # select one image ID randomly from either 2020 or 2021 or 2022 for each unique hash ID in the test set\n",
    "        temp = np.unique(sub_hash_id[(sub_hash_id[:, 0] == hash_id_val), 1]) # check how many years are available per hashID\n",
    "        if len(temp) == 1:\n",
    "            year = temp[0]\n",
    "        elif len(temp) == 2:\n",
    "            year = np.random.choice(temp)\n",
    "        else:\n",
    "            year = np.random.choice(temp)\n",
    "        \n",
    "        # select image ID using the conditions\n",
    "        image_ids = sub_hash_id[(sub_hash_id[:,0] == hash_id_val) & (sub_hash_id[:,1] == year), 0]\n",
    "    \n",
    "        # mark the index corresponding to the selected image ID and hash ID as True in the test indices array\n",
    "        val_indices[(sub_hash_id[:,0] == hash_id_val) & (sub_hash_id[:,1] == year) & (np.isin(sub_hash_id[:,0], image_ids))] = True \n",
    "    \n",
    "    # Reshape boolean arrays to match shape of image_set and label_set\n",
    "    train_indices = train_indices.reshape(-1, 1)\n",
    "    val_indices = val_indices.reshape(-1, 1)\n",
    "    \n",
    "    # Select images and labels for train and validation sets\n",
    "    train_image_set = sub_image_set[train_indices[:, 0]]\n",
    "    train_label_set = sub_label_set[train_indices[:, 0]]\n",
    "    train_hash_id = sub_hash_id[train_indices[:, 0]][:,0]\n",
    "    train_species_set = sub_species_set[train_indices[:, 0]]\n",
    "    val_image_set = sub_image_set[val_indices[:, 0]]\n",
    "    val_label_set = sub_label_set[val_indices[:, 0]]\n",
    "    val_hash_id = sub_hash_id[val_indices[:, 0]][:,0]\n",
    "    val_species_set = sub_species_set[val_indices[:, 0]]\n",
    "    # reshape \n",
    "    train_label_set = train_label_set.reshape(-1, 1)\n",
    "    val_label_set = val_label_set.reshape(-1, 1)\n",
    "    train_species_set = train_species_set.reshape(-1, 1)\n",
    "    val_species_set = val_species_set.reshape(-1, 1)\n",
    "    \n",
    "    # check if there are any group overlaps between the data splits\n",
    "    hash_set = set(train_hash_id)\n",
    "    val_hash_set = set(val_hash_id)\n",
    "    test_hash_set = set(test_hash_id[:, 0].flatten())\n",
    "    intersection = hash_set.intersection(val_hash_set)\n",
    "    intersection2 = test_hash_set.intersection(val_hash_set)\n",
    "    intersection3 = hash_set.intersection(test_hash_set)\n",
    "    if intersection:\n",
    "        print(f\"Hash_id values in both train and val sets: {len(intersection)}\")\n",
    "        print(f\"Hash_id values in both test and val sets: {len(intersection2)}\")\n",
    "        print(f\"Hash_id values in both train and test sets: {len(intersection3)}\")\n",
    "    else:\n",
    "        print(\"There are no same hash_id values in train, val or test datasets. The datasplit was successful\")\n",
    "    \n",
    "         \n",
    "    print(\"Check shapes:\\n\")\n",
    "    print(f\"Images train dataset: {train_image_set.shape}\")\n",
    "    print(f\"Labels train dataset: {train_label_set.shape}\\n\")\n",
    "    \n",
    "    print(f\"Images validation dataset: {val_image_set.shape}\")\n",
    "    print(f\"Labels validation dataset: {val_label_set.shape}\\n\")\n",
    "    print('-'*50)\n",
    "    print (f\"Check if the split was stratified: (random_state=42)\")\n",
    "    print(f\"Picea abies healthy in train dataset: {np.count_nonzero(train_label_set == 0)}\")\n",
    "    print(f\"Picea abies stressed in train dataset: {np.count_nonzero(train_label_set == 1)}\")\n",
    "    print(f\"Pinus sylvestris healthy in train dataset: {np.count_nonzero(train_label_set == 2)}\")\n",
    "    print(f\"Pinus sylvestris stressed in train dataset: {np.count_nonzero(train_label_set == 3)}\")\n",
    "    print(f\"Abies alba healthy in train dataset: {np.count_nonzero(train_label_set == 4)}\")\n",
    "    print(f\"Abies alba stressed in train dataset: {np.count_nonzero(train_label_set == 5)}\")\n",
    "    print(f\"Fagus sylvatica healthy in train dataset: {np.count_nonzero(train_label_set == 6)}\")\n",
    "    print(f\"Fagus sylvatica stressed in train dataset: {np.count_nonzero(train_label_set == 7)}\")\n",
    "    print(f\"Quercus robur/petraea healthy in train dataset: {np.count_nonzero(train_label_set == 8)}\")\n",
    "    print(f\"Quercus robur/petraea stressed in train dataset: {np.count_nonzero(train_label_set == 9)}\")\n",
    "    print(f\"Dead trees in train dataset: {np.count_nonzero(train_label_set == 10)}\")\n",
    "    print(f\"Picea abies healthy in validation dataset: {np.count_nonzero(val_label_set == 0)}\")\n",
    "    print(f\"Picea abies stressed in validation dataset: {np.count_nonzero(val_label_set == 1)}\")\n",
    "    print(f\"Pinus sylvestris healthy in validation dataset: {np.count_nonzero(val_label_set == 2)}\")\n",
    "    print(f\"Pinus sylvestris stressed in validation dataset: {np.count_nonzero(val_label_set == 3)}\")\n",
    "    print(f\"Abies alba healthy in validation dataset: {np.count_nonzero(val_label_set == 4)}\")\n",
    "    print(f\"Abies alba stressed in validation dataset: {np.count_nonzero(val_label_set == 5)}\")\n",
    "    print(f\"Fagus sylvatica healthy in validation dataset: {np.count_nonzero(val_label_set == 6)}\")\n",
    "    print(f\"Fagus sylvatica stressed in validation dataset: {np.count_nonzero(val_label_set == 7)}\")\n",
    "    print(f\"Quercus robur/petraea healthy in validation dataset: {np.count_nonzero(val_label_set == 8)}\")\n",
    "    print(f\"Quercus robur/petraea stressed in validation dataset: {np.count_nonzero(val_label_set == 9)}\")\n",
    "    print(f\"Dead trees in validation dataset: {np.count_nonzero(val_label_set == 10)}\")\n",
    "    #print(f\"Ratio health trees in validation dataset: {np.count_nonzero(val_label_set == 0)/np.count_nonzero(sub_label_set == 0)}\")\n",
    "    #print(f\"Ratio moderately stressed trees in validation dataset: {np.count_nonzero(val_label_set == 1)/np.count_nonzero(sub_label_set == 1)}\")\n",
    "    #print(f\"Ratio severely stressed trees in validation dataset: {np.count_nonzero(val_label_set == 1)/np.count_nonzero(sub_label_set == 2)}\")\n",
    "    #print(f\"Ratio dead trees in validation dataset: {np.count_nonzero(val_label_set == 2)/np.count_nonzero(sub_label_set == 3)}\")\n",
    "    print(\"-\"*50)\n",
    "   \n",
    "    # 2. Create train and validation dataset. (choose custom dataset loader with 3 - 5 classes)\n",
    "    print(f\"\\nCreating datasets for fold: {fold + 1}\\n\")\n",
    "    train_dataset = data_loader.CustomDataset(data=train_image_set, labels=train_label_set, class_names=class_names, species = train_species_set,\n",
    "                                                         transform=transform_train)\n",
    "    \n",
    "    val_dataset = data_loader.CustomDataset(data=val_image_set, labels=val_label_set, class_names=class_names,\n",
    "                                                       species = val_species_set, transform=transform)\n",
    "   \n",
    "    # 3. Create train and validation dataloader\n",
    "    # create sampler for oversampling of the minority classes\n",
    "    sampler = data_loader.data_sampler(dataset=train_dataset, class_names=class_names)\n",
    "    print(f\"Creating dataloaders for fold: {fold +1}\\n\")\n",
    "    train_dataloader = DataLoader(train_dataset, batch_size=batch_size, persistent_workers=True, pin_memory=True, num_workers=NUM_WORKERS, generator=g,\n",
    "                              sampler=sampler, shuffle=False, drop_last=True) # shuffle false because of the sampler\n",
    "\n",
    "    val_dataloader = DataLoader(val_dataset, batch_size=batch_size, persistent_workers=True, pin_memory=True, num_workers=NUM_WORKERS, shuffle=False,\n",
    "                             drop_last=True)\n",
    "    \n",
    "    model = model_effnet.EfficientNet.from_pretrained('efficientnet-b7', in_channels=n_bands, num_classes=num_classes, dropout_rate=dropout_rate)\n",
    "    #model = models.create_effnetb7(output_shape=num_classes, unfreeze=True, dropout_rate=dropout_rate, device=device)\n",
    "   \n",
    "    loss_fn = nn.CrossEntropyLoss()\n",
    "    optimizer = torch.optim.Adam(params=model.parameters(), lr=lr)\n",
    "    lr_scheduler = CustomExponentialLR(optimizer, gamma=gamma, min_lr=min_lr)\n",
    "\n",
    "    fold += 1\n",
    "    print(f\"\\n[INFO] Fold number: {fold}\")\n",
    "    print(f\"[INFO] Number of epochs: {epochs}\")\n",
    "    print(f\"[INFO] Batch_size: {batch_size}\")\n",
    "    print(f\"[INFO] Number of bands: {n_bands}\")\n",
    "    print(f\"[INFO] Dropout rate: {dropout_rate}\")\n",
    "    print(f\"[INFO] Gamma learning rate: {gamma}\")\n",
    "    print(f\"[INFO] Memory allocated: {torch.cuda.memory_allocated()} bytes\")\n",
    "    # 4. Train model with k fold dataloaders and track experiments\n",
    "    \n",
    "    if fold == 1:\n",
    "        fold1_results = train(model=model, model_name=model_name, n_bands=n_bands, batch_size=batch_size,train_dataloader=train_dataloader, val_dataloader=val_dataloader, \n",
    "                        optimizer=optimizer, loss_fn=loss_fn, lr_scheduler=lr_scheduler, num_classes=num_classes, epochs=epochs, experiment_num=fold, device=device,\n",
    "                        writer=None, early_stop_patience = patience)\n",
    "       \n",
    "    elif fold == 2:\n",
    "        fold2_results = train(model=model, model_name=model_name, n_bands=n_bands, batch_size=batch_size,train_dataloader=train_dataloader, val_dataloader=val_dataloader, \n",
    "                        optimizer=optimizer, loss_fn=loss_fn, lr_scheduler=lr_scheduler, num_classes=num_classes, epochs=epochs, experiment_num=fold, device=device,\n",
    "                        writer=None, early_stop_patience = patience)\n",
    "    elif fold == 3:\n",
    "        fold3_results = train(model=model, model_name=model_name, n_bands=n_bands, batch_size=batch_size,train_dataloader=train_dataloader, val_dataloader=val_dataloader, \n",
    "                        optimizer=optimizer, loss_fn=loss_fn, lr_scheduler=lr_scheduler, num_classes=num_classes, epochs=epochs, experiment_num=fold, device=device,\n",
    "                        writer=None, early_stop_patience = patience)\n",
    "    elif fold == 4:\n",
    "        fold4_results = train(model=model, model_name=model_name, n_bands=n_bands, batch_size=batch_size,train_dataloader=train_dataloader, val_dataloader=val_dataloader, \n",
    "                        optimizer=optimizer, loss_fn=loss_fn, lr_scheduler=lr_scheduler, num_classes=num_classes, epochs=epochs, experiment_num=fold, device=device,\n",
    "                        writer=None, early_stop_patience = patience)\n",
    "    else:\n",
    "        fold5_results = train(model=model, model_name=model_name, n_bands=n_bands, batch_size=batch_size,train_dataloader=train_dataloader, val_dataloader=val_dataloader, \n",
    "                        optimizer=optimizer, loss_fn=loss_fn, lr_scheduler=lr_scheduler, num_classes=num_classes, epochs=epochs, experiment_num=fold, device=device,\n",
    "                        writer=None, early_stop_patience = patience)\n",
    "    \n",
    "    del train_indices, val_indices, train_image_set, train_label_set, train_hash_id, train_species_set, val_image_set, val_label_set, val_hash_id, val_species_set,\n",
    "    train_dataset, val_dataset, sampler, train_dataloader, val_dataloader, model, loss_fn, optimizer, lr_scheduler\n",
    "    \n",
    "    #finish the wandb run\n",
    "    wandb.finish()\n",
    "    print(\"Deleting variables and emptying cache\")\n",
    "    gc.collect()\n",
    "    torch.cuda.empty_cache()\n",
    "    print(f\"Memory allocated: {torch.cuda.memory_allocated()} bytes\")\n",
    "    print(\"-\"*50 + \"\\n\")"
   ]
  },
  {
   "cell_type": "markdown",
   "id": "a36b9b92",
   "metadata": {},
   "source": [
    "#### Create test dataset and test dataloader "
   ]
  },
  {
   "cell_type": "code",
   "execution_count": 19,
   "id": "c0c36ebb",
   "metadata": {},
   "outputs": [],
   "source": [
    "# create test dataset\n",
    "test_dataset = data_loader.CustomTestDataset(\n",
    "    data = test_image_set,\n",
    "    labels = test_label_set,\n",
    "    class_names=class_names, \n",
    "    species = test_species_set,\n",
    "    kkl = None,\n",
    "    transform=transform\n",
    ")\n",
    "\n",
    "# create test dataloader\n",
    "test_dataloader = DataLoader(test_dataset,\n",
    "                             batch_size=batch_size,\n",
    "                             persistent_workers=True,\n",
    "                             pin_memory=True,\n",
    "                             num_workers=NUM_WORKERS,\n",
    "                             shuffle=False,\n",
    "                             drop_last=True)"
   ]
  },
  {
   "cell_type": "markdown",
   "id": "22cdaac7",
   "metadata": {},
   "source": [
    "#### Perform ensembling of the five best models"
   ]
  },
  {
   "cell_type": "code",
   "execution_count": 20,
   "id": "67db5af2",
   "metadata": {},
   "outputs": [
    {
     "name": "stdout",
     "output_type": "stream",
     "text": [
      "Loaded pretrained weights for efficientnet-b7\n",
      "Loaded pretrained weights for efficientnet-b7\n",
      "Loaded pretrained weights for efficientnet-b7\n",
      "Loaded pretrained weights for efficientnet-b7\n",
      "Loaded pretrained weights for efficientnet-b7\n",
      "              precision    recall  f1-score   support\n",
      "\n",
      "           0       0.61      0.59      0.60       198\n",
      "           1       0.69      0.57      0.62       153\n",
      "           2       0.52      0.48      0.50       170\n",
      "           3       0.52      0.58      0.55       198\n",
      "           4       0.69      0.34      0.46        53\n",
      "           5       0.50      0.50      0.50        10\n",
      "           6       0.74      0.72      0.73       152\n",
      "           7       0.49      0.60      0.54        68\n",
      "           8       0.51      0.61      0.55        38\n",
      "           9       0.50      0.04      0.08        24\n",
      "          10       0.27      0.88      0.42        24\n",
      "\n",
      "    accuracy                           0.57      1088\n",
      "   macro avg       0.55      0.54      0.50      1088\n",
      "weighted avg       0.59      0.57      0.57      1088\n",
      "\n",
      "[[116  29   1   6   1   0   0   0   0   0  45]\n",
      " [ 45  87   4   9   0   0   0   0   0   0   8]\n",
      " [ 10   1  82  77   0   0   0   0   0   0   0]\n",
      " [  8   5  71 114   0   0   0   0   0   0   0]\n",
      " [ 11   2   0   9  18   5   1   4   0   0   3]\n",
      " [  0   0   0   1   3   5   0   1   0   0   0]\n",
      " [  1   0   0   1   1   0 110  35   4   0   0]\n",
      " [  0   1   1   0   1   0  21  41   3   0   0]\n",
      " [  0   0   0   1   1   0  11   1  23   1   0]\n",
      " [  0   0   0   0   1   0   5   2  15   1   0]\n",
      " [  0   2   0   1   0   0   0   0   0   0  21]]\n"
     ]
    }
   ],
   "source": [
    "# Setup the best model filepaths\n",
    "best_model1_path = r\"C:\\Users\\lwfeckesim\\01_PyTorch\\wze-uav\\wze-uav-master\\models\\EffNet_b7_RGB-RE-NIR-5species-combined_plotsplit\\1_EffNet_b7_RGB-RE-NIR-5species-combined_plotsplit_10_epochs.pth\"\n",
    "best_model2_path = r\"C:\\Users\\lwfeckesim\\01_PyTorch\\wze-uav\\wze-uav-master\\models\\EffNet_b7_RGB-RE-NIR-5species-combined_plotsplit\\2_EffNet_b7_RGB-RE-NIR-5species-combined_plotsplit_10_epochs.pth\"\n",
    "best_model3_path = r\"C:\\Users\\lwfeckesim\\01_PyTorch\\wze-uav\\wze-uav-master\\models\\EffNet_b7_RGB-RE-NIR-5species-combined_plotsplit\\3_EffNet_b7_RGB-RE-NIR-5species-combined_plotsplit_10_epochs.pth\"\n",
    "best_model4_path = r\"C:\\Users\\lwfeckesim\\01_PyTorch\\wze-uav\\wze-uav-master\\models\\EffNet_b7_RGB-RE-NIR-5species-combined_plotsplit\\4_EffNet_b7_RGB-RE-NIR-5species-combined_plotsplit_19_epochs.pth\"\n",
    "best_model5_path = r\"C:\\Users\\lwfeckesim\\01_PyTorch\\wze-uav\\wze-uav-master\\models\\EffNet_b7_RGB-RE-NIR-5species-combined_plotsplit\\5_EffNet_b7_RGB-RE-NIR-5species-combined_plotsplit_20_epochs.pth\"\n",
    "\n",
    "# Instantiate a new instance of EffNetB7 (to load the saved state_dict() to)\n",
    "#model1 = models.create_effnetb7(output_shape=num_classes, unfreeze=unfreeze, dropout_rate=dropout_rate, device=device)\n",
    "#model2 = models.create_effnetb7(output_shape=num_classes, unfreeze=unfreeze, dropout_rate=dropout_rate, device=device)\n",
    "#model3 = models.create_effnetb7(output_shape=num_classes, unfreeze=unfreeze, dropout_rate=dropout_rate, device=device)\n",
    "#model4 = models.create_effnetb7(output_shape=num_classes, unfreeze=unfreeze, dropout_rate=dropout_rate, device=device)\n",
    "#model5 = models.create_effnetb7(output_shape=num_classes, unfreeze=unfreeze, dropout_rate=dropout_rate, device=device)\n",
    "# for custom models with more than three bands as input\n",
    "model1 = model_effnet.EfficientNet.from_pretrained('efficientnet-b7', in_channels=n_bands, num_classes=num_classes, dropout_rate=dropout_rate)\n",
    "model2 = model_effnet.EfficientNet.from_pretrained('efficientnet-b7', in_channels=n_bands, num_classes=num_classes, dropout_rate=dropout_rate)\n",
    "model3 = model_effnet.EfficientNet.from_pretrained('efficientnet-b7', in_channels=n_bands, num_classes=num_classes, dropout_rate=dropout_rate)\n",
    "model4 = model_effnet.EfficientNet.from_pretrained('efficientnet-b7', in_channels=n_bands, num_classes=num_classes, dropout_rate=dropout_rate)\n",
    "model5 = model_effnet.EfficientNet.from_pretrained('efficientnet-b7', in_channels=n_bands, num_classes=num_classes, dropout_rate=dropout_rate)\n",
    "\n",
    "# Load the saved best model state_dict()\n",
    "model1.load_state_dict(torch.load(best_model1_path))\n",
    "model2.load_state_dict(torch.load(best_model2_path))\n",
    "model3.load_state_dict(torch.load(best_model3_path))\n",
    "model4.load_state_dict(torch.load(best_model4_path))\n",
    "model5.load_state_dict(torch.load(best_model5_path))\n",
    "\n",
    "model1.to(device)\n",
    "model2.to(device)\n",
    "model3.to(device)\n",
    "model4.to(device)\n",
    "model5.to(device)\n",
    "\n",
    "model1.eval()\n",
    "model2.eval()\n",
    "model3.eval()\n",
    "model4.eval()\n",
    "model5.eval()\n",
    "\n",
    "# Initialize the lists to store the predictions\n",
    "all_preds_model1 = []\n",
    "all_preds_model2 = []\n",
    "all_preds_model3 = []\n",
    "all_preds_model4 = []\n",
    "all_preds_model5 = []\n",
    "all_true_labels = []\n",
    "\n",
    "# Loop through the test dataset and generate predictions for each model\n",
    "with torch.no_grad():\n",
    "    for batch in test_dataloader:\n",
    "        inputs, labels, species = batch\n",
    "        inputs, labels, species = inputs.to(device), labels.to(device), species\n",
    "        \n",
    "        # Generate predictions for each model\n",
    "        preds_model1 = model1(inputs)\n",
    "        preds_model2 = model2(inputs)\n",
    "        preds_model3 = model3(inputs)\n",
    "        preds_model4 = model4(inputs)\n",
    "        preds_model5 = model5(inputs)\n",
    "\n",
    "        # Append the predictions to the corresponding list\n",
    "        all_preds_model1.append(preds_model1.cpu().numpy())\n",
    "        all_preds_model2.append(preds_model2.cpu().numpy())\n",
    "        all_preds_model3.append(preds_model3.cpu().numpy())\n",
    "        all_preds_model4.append(preds_model4.cpu().numpy())\n",
    "        all_preds_model5.append(preds_model5.cpu().numpy())\n",
    "        \n",
    "        all_true_labels.append(labels.cpu().numpy())\n",
    "\n",
    "# Concatenate the predictions from all the models\n",
    "all_preds_model1 = np.concatenate(all_preds_model1)\n",
    "all_preds_model2 = np.concatenate(all_preds_model2)\n",
    "all_preds_model3 = np.concatenate(all_preds_model3)\n",
    "all_preds_model4 = np.concatenate(all_preds_model4)\n",
    "all_preds_model5 = np.concatenate(all_preds_model5)\n",
    "\n",
    "all_true_labels = np.concatenate(all_true_labels)\n",
    "\n",
    "# Calculate the ensemble predictions\n",
    "ensemble_preds = np.mean([all_preds_model1, all_preds_model2, all_preds_model3, all_preds_model4, all_preds_model5], axis=0)\n",
    "ensemble_labels = np.argmax(ensemble_preds, axis=1)\n",
    "\n",
    "# Calculate the evaluation metrics for the ensemble model\n",
    "from sklearn.metrics import classification_report, confusion_matrix\n",
    "\n",
    "print(classification_report(all_true_labels, ensemble_labels))\n",
    "print(confusion_matrix(all_true_labels, ensemble_labels))\n",
    "\n",
    "\n",
    "\n",
    "\n"
   ]
  },
  {
   "cell_type": "code",
   "execution_count": 21,
   "id": "6dfbc663",
   "metadata": {},
   "outputs": [
    {
     "name": "stdout",
     "output_type": "stream",
     "text": [
      "              precision    recall  f1-score   support\n",
      "\n",
      "           0       0.61      0.59      0.60       198\n",
      "           1       0.69      0.57      0.62       153\n",
      "           2       0.52      0.48      0.50       170\n",
      "           3       0.52      0.58      0.55       198\n",
      "           4       0.69      0.34      0.46        53\n",
      "           5       0.50      0.50      0.50        10\n",
      "           6       0.74      0.72      0.73       152\n",
      "           7       0.49      0.60      0.54        68\n",
      "           8       0.51      0.61      0.55        38\n",
      "           9       0.50      0.04      0.08        24\n",
      "          10       0.27      0.88      0.42        24\n",
      "\n",
      "    accuracy                           0.57      1088\n",
      "   macro avg       0.55      0.54      0.50      1088\n",
      "weighted avg       0.59      0.57      0.57      1088\n",
      "\n"
     ]
    },
    {
     "data": {
      "image/png": "[encoded data removed]",
      "text/plain": [
       "<Figure size 720x504 with 1 Axes>"
      ]
     },
     "metadata": {
      "needs_background": "light"
     },
     "output_type": "display_data"
    }
   ],
   "source": [
    "import matplotlib.pyplot as plt\n",
    "# Calculate the evaluation metrics for the ensemble model\n",
    "\n",
    "report = classification_report(all_true_labels, ensemble_labels)\n",
    "print(report)\n",
    "#print(confusion_matrix(all_true_labels, ensemble_labels))\n",
    "\n",
    "# Save the report to a file\n",
    "with open(r'C:\\Users\\lwfeckesim\\01_PyTorch\\wze-uav\\wze-uav-master\\plots\\report_RGB-RE-NIR_5species_combined_plotsplit.txt', 'w') as f:\n",
    "    f.write(report)\n",
    "\n",
    "labels = np.array([0,1,2,3,4,5,6,7,8,9,10])\n",
    "confmat = confusion_matrix(all_true_labels, ensemble_labels, labels=labels)\n",
    "\n",
    "# 3. Plot the confusion matrix\n",
    "fig, ax = plot_confusion_matrix(\n",
    "    conf_mat=confmat, # matplotlib likes working with NumPy \n",
    "    class_names=class_names, # turn the row and column labels into class names\n",
    "    figsize=(10, 7)\n",
    ");\n",
    "\n",
    "# add title to confusion matrix plot\n",
    "plt.title(\"Main tree species and Health Status Classification using RGB-RE-NIR Bands\", fontsize=16)\n",
    "\n",
    "fig.savefig(r'C:\\Users\\lwfeckesim\\01_PyTorch\\wze-uav\\wze-uav-master\\plots\\confmat_RGB-RE-NIR_5species_combined_plotsplit.png', dpi=300, bbox_inches='tight')\n",
    "\n"
   ]
  },
  {
   "cell_type": "code",
   "execution_count": 23,
   "id": "aab9e321",
   "metadata": {},
   "outputs": [
    {
     "ename": "NameError",
     "evalue": "name 'best_model' is not defined",
     "output_type": "error",
     "traceback": [
      "\u001b[1;31m---------------------------------------------------------------------------\u001b[0m",
      "\u001b[1;31mNameError\u001b[0m                                 Traceback (most recent call last)",
      "Input \u001b[1;32mIn [23]\u001b[0m, in \u001b[0;36m<cell line: 3>\u001b[1;34m()\u001b[0m\n\u001b[0;32m      1\u001b[0m \u001b[38;5;66;03m# 2. Setup confusion matrix instance and compare predictions to targets\u001b[39;00m\n\u001b[0;32m      2\u001b[0m \u001b[38;5;66;03m#from wze_uav.analysis import *\u001b[39;00m\n\u001b[1;32m----> 3\u001b[0m y_pred_tensor, y_labels_tensor, test_loss, test_recall, test_precision, test_f1_score, test_acc, y_logit, y_pred, y, y_preds \u001b[38;5;241m=\u001b[39m make_predictions(model\u001b[38;5;241m=\u001b[39m\u001b[43mbest_model\u001b[49m,\n\u001b[0;32m      4\u001b[0m                                  test_dataloader\u001b[38;5;241m=\u001b[39mtest_dataloader, \n\u001b[0;32m      5\u001b[0m                                  device\u001b[38;5;241m=\u001b[39mdevice)\n\u001b[0;32m      7\u001b[0m y_labels_tensor \u001b[38;5;241m=\u001b[39m y_labels_tensor\u001b[38;5;241m.\u001b[39mdetach()\u001b[38;5;241m.\u001b[39mcpu()\u001b[38;5;241m.\u001b[39mnumpy()\n\u001b[0;32m      8\u001b[0m y_pred_tensor \u001b[38;5;241m=\u001b[39m y_pred_tensor\u001b[38;5;241m.\u001b[39mdetach()\u001b[38;5;241m.\u001b[39mcpu()\u001b[38;5;241m.\u001b[39mnumpy()\n",
      "\u001b[1;31mNameError\u001b[0m: name 'best_model' is not defined"
     ]
    }
   ],
   "source": [
    "# 2. Setup confusion matrix instance and compare predictions to targets\n",
    "#from wze_uav.analysis import *\n",
    "y_pred_tensor, y_labels_tensor, test_loss, test_recall, test_precision, test_f1_score, test_acc, y_logit, y_pred, y, y_preds = make_predictions(model=best_model,\n",
    "                                 test_dataloader=test_dataloader, \n",
    "                                 device=device)\n",
    "\n",
    "y_labels_tensor = y_labels_tensor.detach().cpu().numpy()\n",
    "y_pred_tensor = y_pred_tensor.detach().cpu().numpy()\n",
    "\n",
    "#confmat = ConfusionMatrix(num_classes=num_classes, task='multiclass')\n",
    "#confmat_tensor = confmat(preds=y_pred_tensor,\n",
    "#                         target=test_labels)\n",
    "labels = np.array([0,1,2])\n",
    "confmat = confusion_matrix(y_labels_tensor, y_pred_tensor, labels=labels)\n",
    "\n",
    "# 3. Plot the confusion matrix\n",
    "fig, ax = plot_confusion_matrix(\n",
    "    conf_mat=confmat, # matplotlib likes working with NumPy \n",
    "    class_names=class_names, # turn the row and column labels into class names\n",
    "    figsize=(10, 7)\n",
    ");\n",
    "\n",
    "print(f\"Test loss: {test_loss}\")\n",
    "print(f\"Test precision: {test_precision}\")\n",
    "print(f\"Test recall: {test_recall}\")\n",
    "print(f\"Test F1score: {test_f1_score}\")\n",
    "#print(f\"Test Kappa: {test_kappa}\")\n",
    "print(f\"Test Accuracy: {test_acc}\")\n",
    "print(f\"Test Logits: {y_logit}\")\n",
    "print(f\"Test Predictions: {y_pred}\")\n",
    "print(f\"Test Labels: {y}\")"
   ]
  },
  {
   "cell_type": "code",
   "execution_count": null,
   "id": "8d4173b3",
   "metadata": {},
   "outputs": [],
   "source": [
    "len(y_preds)"
   ]
  },
  {
   "cell_type": "code",
   "execution_count": null,
   "id": "7588116f",
   "metadata": {},
   "outputs": [],
   "source": [
    "y_set.cpu()"
   ]
  },
  {
   "cell_type": "code",
   "execution_count": null,
   "id": "1c195b3e",
   "metadata": {},
   "outputs": [],
   "source": [
    "test_dataset.labels"
   ]
  },
  {
   "cell_type": "code",
   "execution_count": null,
   "id": "975ec08c",
   "metadata": {},
   "outputs": [],
   "source": []
  },
  {
   "cell_type": "code",
   "execution_count": null,
   "id": "6da05604",
   "metadata": {},
   "outputs": [],
   "source": [
    "y_preds = []\n",
    "y_labels = []\n",
    "labels = np.array([0,1,2])\n",
    "test_loss, test_precision, test_recall, test_f1_score, test_acc = 0, 0, 0, 0, 0\n",
    "count = 0\n",
    "model.eval()\n",
    "with torch.inference_mode():\n",
    "    for X, y in tqdm(test_dataloader, desc=\"Making predictions\"):\n",
    "        # Send data and targets to target device\n",
    "        X, y = X.to(device), y.to(device)\n",
    "        # Do the forward pass\n",
    "        y_logit = model(X)\n",
    "        # Turn predictions from logits -> prediction probabilities -> predictions labels\n",
    "        y_pred = torch.softmax(y_logit, dim=1).argmax(dim=1)\n",
    "        # Put predictions on CPU for evaluation\n",
    "        y_preds.append(y_pred.cpu())\n",
    "        y_labels.append(y.cpu())\n",
    "        \n",
    "        #other metrics\n",
    "        test_acc += ((y_pred == y).sum().item()/len(y_pred))\n",
    "        y_pred_class = y_pred.detach().cpu().numpy() \n",
    "        y_class = y.detach().cpu().numpy()\n",
    "        test_precision += precision_score(y_class, y_pred_class, average='macro', zero_division=1, labels=labels)\n",
    "        test_recall += recall_score(y_class, y_pred_class, average='macro', zero_division=1, labels=labels)\n",
    "        #test_f1_score += f1_score(y_class, y_pred_class, average='macro', zero_division=1, labels=labels)\n",
    "        \n",
    "        #if count >= 1:\n",
    "        #    y_set = torch.cat((y_set, y))\n",
    "        #    count = count + 1\n",
    "        #else:\n",
    "        #    y_set = y\n",
    "        #    count = count + 1\n",
    "        \n",
    "test_loss = test_loss / len(test_dataloader)\n",
    "test_precision = test_precision / len(test_dataloader)\n",
    "test_recall = test_recall / len(test_dataloader)\n",
    "#test_f1_score = test_f1_score / len(test_dataloader)\n",
    "#test_kappa = test_kappa / len(dataloader)\n",
    "test_acc = test_acc / len(test_dataloader)\n",
    "# Concatenate list of predictions into a tensor\n",
    "y_pred_tensor = torch.cat(y_preds)\n",
    "test_f1_score = f1_score(y_set.detach().cpu().numpy(), y_pred_tensor.cpu().numpy(), average='macro', zero_division=0, labels=[0,1,2])\n",
    "\n",
    "# Print classification report\n",
    "y_true = y_set.detach().cpu().numpy()\n",
    "report = classification_report(y_true, y_pred_tensor.cpu().numpy(), target_names=class_names)\n",
    "print(report)"
   ]
  },
  {
   "cell_type": "code",
   "execution_count": null,
   "id": "6ae97fab",
   "metadata": {},
   "outputs": [],
   "source": [
    "test_f1_score"
   ]
  },
  {
   "cell_type": "code",
   "execution_count": null,
   "id": "7ebafd9b",
   "metadata": {},
   "outputs": [],
   "source": [
    "make = (y_class == y_pred_class)\n",
    "make"
   ]
  },
  {
   "cell_type": "code",
   "execution_count": null,
   "id": "4f8aa759",
   "metadata": {},
   "outputs": [],
   "source": [
    "torch.softmax(y_logit, dim=1).argmax(dim=1)"
   ]
  },
  {
   "cell_type": "code",
   "execution_count": null,
   "id": "f90a54b2",
   "metadata": {},
   "outputs": [],
   "source": [
    "y"
   ]
  },
  {
   "cell_type": "code",
   "execution_count": null,
   "id": "5a806154",
   "metadata": {},
   "outputs": [],
   "source": [
    "test = (y_pred == y).sum().item()/16"
   ]
  },
  {
   "cell_type": "code",
   "execution_count": null,
   "id": "1da35c56",
   "metadata": {},
   "outputs": [],
   "source": [
    "test"
   ]
  },
  {
   "cell_type": "code",
   "execution_count": null,
   "id": "b1eb246e",
   "metadata": {},
   "outputs": [],
   "source": [
    " y_pred_class = y_pred.detach().cpu().numpy() "
   ]
  },
  {
   "cell_type": "code",
   "execution_count": null,
   "id": "602e096f",
   "metadata": {},
   "outputs": [],
   "source": [
    "y_pred_class"
   ]
  },
  {
   "cell_type": "code",
   "execution_count": null,
   "id": "eaf1af09",
   "metadata": {},
   "outputs": [],
   "source": []
  }
 ],
 "metadata": {
  "kernelspec": {
   "display_name": "Python 3 (ipykernel)",
   "language": "python",
   "name": "python3"
  },
  "language_info": {
   "codemirror_mode": {
    "name": "ipython",
    "version": 3
   },
   "file_extension": ".py",
   "mimetype": "text/x-python",
   "name": "python",
   "nbconvert_exporter": "python",
   "pygments_lexer": "ipython3",
   "version": "3.9.16"
  }
 },
 "nbformat": 4,
 "nbformat_minor": 5
}
