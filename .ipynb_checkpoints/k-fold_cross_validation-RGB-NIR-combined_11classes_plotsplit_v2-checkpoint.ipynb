{
 "cells": [
  {
   "cell_type": "markdown",
   "id": "c1acdaa3",
   "metadata": {},
   "source": [
    "# WZE-UAV Image Classification using Deep Learning"
   ]
  },
  {
   "cell_type": "code",
   "execution_count": 1,
   "id": "2159aac5",
   "metadata": {},
   "outputs": [],
   "source": [
    "import os\n",
    "import gc\n",
    "import glob\n",
    "import numpy as np\n",
    "from pathlib import Path\n",
    "from tqdm.auto import tqdm\n",
    "from sklearn.metrics import confusion_matrix, classification_report\n",
    "from sklearn.model_selection import KFold"
   ]
  },
  {
   "cell_type": "code",
   "execution_count": 2,
   "id": "0026f7a9",
   "metadata": {},
   "outputs": [],
   "source": [
    "import torch\n",
    "import torchvision.transforms as T\n",
    "import torchvision\n",
    "from torch import nn\n",
    "from torch.utils.data import DataLoader\n",
    "from torchvision import datasets, transforms\n",
    "from torch.utils.data import Dataset\n",
    "import torch.optim as optim\n",
    "from torch.optim.lr_scheduler import ExponentialLR\n",
    "from mlxtend.plotting import plot_confusion_matrix"
   ]
  },
  {
   "cell_type": "code",
   "execution_count": 3,
   "id": "b160d7b4",
   "metadata": {},
   "outputs": [],
   "source": [
    "import wze_uav.data_loader as data_loader\n",
    "import wze_uav.models as models\n",
    "from wze_uav.engine import *\n",
    "from wze_uav.utils2 import *\n",
    "#from wze_uav.log_writer import create_writer\n",
    "from wze_uav.datasplit import *\n",
    "from efficientnet import model_effnet #for custom effnet with n_channels input\n",
    "import wandb"
   ]
  },
  {
   "cell_type": "markdown",
   "id": "2bd4fb2f",
   "metadata": {},
   "source": [
    "#### Get PyTorch version"
   ]
  },
  {
   "cell_type": "code",
   "execution_count": 4,
   "id": "c10886b1",
   "metadata": {},
   "outputs": [
    {
     "name": "stdout",
     "output_type": "stream",
     "text": [
      "torch version: 1.13.1+cu116\n",
      "torchvision version: 0.14.1+cu116\n"
     ]
    }
   ],
   "source": [
    "print(f\"torch version: {torch.__version__}\")\n",
    "print(f\"torchvision version: {torchvision.__version__}\")"
   ]
  },
  {
   "cell_type": "markdown",
   "id": "aa6a83cf",
   "metadata": {},
   "source": [
    "#### Preparing device agnostic code "
   ]
  },
  {
   "cell_type": "code",
   "execution_count": 5,
   "id": "13d5de88",
   "metadata": {},
   "outputs": [
    {
     "name": "stdout",
     "output_type": "stream",
     "text": [
      "cuda\n",
      "Index of current divice: 0\n",
      "Number of GPUs available: 1\n",
      "GPU Model: Quadro RTX 8000\n"
     ]
    }
   ],
   "source": [
    "# ensure device agnostic code\n",
    "device = 'cuda' if torch.cuda.is_available() else 'cpu'\n",
    "print(device)\n",
    "\n",
    "# get index of currently selected device\n",
    "print(f\"Index of current divice: {torch.cuda.current_device()}\")\n",
    "# get number of GPUs available\n",
    "print(f\"Number of GPUs available: {torch.cuda.device_count()}\")\n",
    "# get the name of the device\n",
    "print(f\"GPU Model: {torch.cuda.get_device_name(0)}\")"
   ]
  },
  {
   "cell_type": "markdown",
   "id": "8ef6b169",
   "metadata": {},
   "source": [
    "#### Login to Weights & Biases to track results"
   ]
  },
  {
   "cell_type": "code",
   "execution_count": 6,
   "id": "a59d27cf",
   "metadata": {},
   "outputs": [
    {
     "name": "stderr",
     "output_type": "stream",
     "text": [
      "Failed to detect the name of this notebook, you can set it manually with the WANDB_NOTEBOOK_NAME environment variable to enable code saving.\n",
      "\u001b[34m\u001b[1mwandb\u001b[0m: Currently logged in as: \u001b[33msimon-ecke\u001b[0m. Use \u001b[1m`wandb login --relogin`\u001b[0m to force relogin\n"
     ]
    },
    {
     "data": {
      "text/html": [
       "wandb version 0.15.3 is available!  To upgrade, please run:\n",
       " $ pip install wandb --upgrade"
      ],
      "text/plain": [
       "<IPython.core.display.HTML object>"
      ]
     },
     "metadata": {},
     "output_type": "display_data"
    },
    {
     "data": {
      "text/html": [
       "Tracking run with wandb version 0.14.2"
      ],
      "text/plain": [
       "<IPython.core.display.HTML object>"
      ]
     },
     "metadata": {},
     "output_type": "display_data"
    },
    {
     "data": {
      "text/html": [
       "Run data is saved locally in <code>C:\\Users\\lwfeckesim\\01_PyTorch\\wze-uav\\wze-uav-master\\wandb\\run-20230526_135344-nbkb451a</code>"
      ],
      "text/plain": [
       "<IPython.core.display.HTML object>"
      ]
     },
     "metadata": {},
     "output_type": "display_data"
    },
    {
     "data": {
      "text/html": [
       "Syncing run <strong><a href='https://wandb.ai/simon-ecke/wze-uav-combined-11classes/runs/nbkb451a' target=\"_blank\">swift-universe-8</a></strong> to <a href='https://wandb.ai/simon-ecke/wze-uav-combined-11classes' target=\"_blank\">Weights & Biases</a> (<a href='https://wandb.me/run' target=\"_blank\">docs</a>)<br/>"
      ],
      "text/plain": [
       "<IPython.core.display.HTML object>"
      ]
     },
     "metadata": {},
     "output_type": "display_data"
    },
    {
     "data": {
      "text/html": [
       " View project at <a href='https://wandb.ai/simon-ecke/wze-uav-combined-11classes' target=\"_blank\">https://wandb.ai/simon-ecke/wze-uav-combined-11classes</a>"
      ],
      "text/plain": [
       "<IPython.core.display.HTML object>"
      ]
     },
     "metadata": {},
     "output_type": "display_data"
    },
    {
     "data": {
      "text/html": [
       " View run at <a href='https://wandb.ai/simon-ecke/wze-uav-combined-11classes/runs/nbkb451a' target=\"_blank\">https://wandb.ai/simon-ecke/wze-uav-combined-11classes/runs/nbkb451a</a>"
      ],
      "text/plain": [
       "<IPython.core.display.HTML object>"
      ]
     },
     "metadata": {},
     "output_type": "display_data"
    },
    {
     "data": {
      "text/html": [
       "<button onClick=\"this.nextSibling.style.display='block';this.style.display='none';\">Display W&B run</button><iframe src='https://wandb.ai/simon-ecke/wze-uav-combined-11classes/runs/nbkb451a?jupyter=true' style='border:none;width:100%;height:420px;display:none;'></iframe>"
      ],
      "text/plain": [
       "<wandb.sdk.wandb_run.Run at 0x1e0a0c4f0d0>"
      ]
     },
     "execution_count": 6,
     "metadata": {},
     "output_type": "execute_result"
    }
   ],
   "source": [
    "# IMPORTANT: The proxy needs to be set in anaconda!\n",
    "# copy paste this in anaconda and restart jupyter notebook\n",
    "#set http_proxy=http://www-proxy.bayern.de:80\n",
    "#set https_proxy=http://www-proxy.bayern.de:80\n",
    "wandb.login()\n",
    "#wandb.init(settings=wandb.Settings(start_method=\"thread\"))\n",
    "wandb.init(project='wze-uav-combined-11classes', entity='simon-ecke')"
   ]
  },
  {
   "cell_type": "markdown",
   "id": "a26a6a34",
   "metadata": {},
   "source": [
    "#### Ensure reproducibility "
   ]
  },
  {
   "cell_type": "code",
   "execution_count": 7,
   "id": "dd4656a7",
   "metadata": {},
   "outputs": [],
   "source": [
    "# for more information, see also: https://pytorch.org/docs/stable/notes/randomness.html\n",
    "\n",
    "# Set seeds\n",
    "def set_seeds(seed: int=42):\n",
    "    \"\"\"Sets random sets for torch operations.\n",
    "\n",
    "    Args:\n",
    "        seed (int, optional): Random seed to set. Defaults to 42.\n",
    "    \"\"\"\n",
    "    # Set the seed for general torch operations\n",
    "    torch.manual_seed(seed)\n",
    "    # Set the seed for CUDA torch operations (ones that happen on the GPU)\n",
    "    torch.cuda.manual_seed(seed)\n",
    "    # seed for numpy\n",
    "    np.random.seed(seed)\n",
    "\n",
    "set_seeds(42) \n",
    "\n",
    "# Set to true -> might speed up the process but should be set to False if reproducible results are desired\n",
    "torch.backends.cudnn.benchmark = False\n"
   ]
  },
  {
   "cell_type": "markdown",
   "id": "8be33671",
   "metadata": {},
   "source": [
    "#### Define file directory"
   ]
  },
  {
   "cell_type": "code",
   "execution_count": 8,
   "id": "30645f36",
   "metadata": {},
   "outputs": [],
   "source": [
    "#####################################################################################\n",
    "# 3 channel input (r-g-b)\n",
    "#data_path = r\"D:\\Drohnendaten\\10_WZE-UAV\\Auswertung_findatree\\Datasplit\\ROI\\rgb\"\n",
    "\n",
    "# 4 channel input (r-g-b-nir)\n",
    "#data_path = r\"D:\\Drohnendaten\\10_WZE-UAV\\Auswertung_findatree\\Datasplit\\ROI\\rgb-nir\"\n",
    "\n",
    "# 5 channel input (r-g-b-re-nir)\n",
    "data_path = r\"D:\\Drohnendaten\\10_WZE-UAV\\Auswertung_findatree\\Datasplit\\ROI\\rgb-re-nir\"\n",
    "\n",
    "# 6 channel input (r-g-b-re-nir)\n",
    "#data_path = r\"D:\\Drohnendaten\\10_WZE-UAV\\Auswertung_findatree\\Datasplit\\ROI\\rgb-re-nir-chm\"\n",
    "\n",
    "#####################################################################################"
   ]
  },
  {
   "cell_type": "markdown",
   "id": "4560ce64",
   "metadata": {},
   "source": [
    "#### Get all file paths, years and plotIDs"
   ]
  },
  {
   "cell_type": "code",
   "execution_count": 9,
   "id": "aa072e4c",
   "metadata": {},
   "outputs": [],
   "source": [
    "fn_list = os.listdir(data_path)\n",
    "path_list = []\n",
    "#year_list = []\n",
    "#plotID_list = []\n",
    "# Iterate over all datafiles\n",
    "for year in fn_list:\n",
    "    year_dir = f'{data_path}\\\\{year}'\n",
    "    for filename in os.listdir(year_dir):\n",
    "        path = f'{year_dir}\\\\{filename}'\n",
    "        #plotID = path.rsplit('_',1)[0].rsplit('r',1)[1]\n",
    "        path_list.append(path)\n",
    "        #year_list.append(year)\n",
    "        #plotID_list.append(plotID)"
   ]
  },
  {
   "cell_type": "markdown",
   "id": "f3937a44",
   "metadata": {},
   "source": [
    "#### Get unique plotIDs and years per available trees"
   ]
  },
  {
   "cell_type": "code",
   "execution_count": 10,
   "id": "8a50f1d7",
   "metadata": {},
   "outputs": [
    {
     "data": {
      "application/vnd.jupyter.widget-view+json": {
       "model_id": "a5d895235c9547e8bb68563df0d78d54",
       "version_major": 2,
       "version_minor": 0
      },
      "text/plain": [
       "Creating unique tree IDs...:   0%|          | 0/647 [00:00<?, ?it/s]"
      ]
     },
     "metadata": {},
     "output_type": "display_data"
    }
   ],
   "source": [
    "plotID_dict = data_loader.get_plotID(path_list)"
   ]
  },
  {
   "cell_type": "markdown",
   "id": "6f4cea00",
   "metadata": {},
   "source": [
    "#### Import all imagery, labels and other features from hdf5 files"
   ]
  },
  {
   "cell_type": "code",
   "execution_count": 11,
   "id": "94e3eecf",
   "metadata": {},
   "outputs": [
    {
     "data": {
      "application/vnd.jupyter.widget-view+json": {
       "model_id": "cb4d26146ef9410b9fc668c558a137db",
       "version_major": 2,
       "version_minor": 0
      },
      "text/plain": [
       "Processing hdf5 datasets:   0%|          | 0/647 [00:00<?, ?it/s]"
      ]
     },
     "metadata": {},
     "output_type": "display_data"
    }
   ],
   "source": [
    "image_set, label_set, species_set, kkl_set, bk_set, hash_id = data_loader.hdf5_to_img_label(path_list,\n",
    "                                                                                               plotID_dict,\n",
    "                                                                                               load_sets=[\"images_masked\"])"
   ]
  },
  {
   "cell_type": "markdown",
   "id": "6a90e2b7",
   "metadata": {},
   "source": [
    "#### Convert nbv to classes"
   ]
  },
  {
   "cell_type": "code",
   "execution_count": 12,
   "id": "0224972a",
   "metadata": {},
   "outputs": [],
   "source": [
    "nbv_set = label_set\n",
    "image_set, label_set, species_set, kkl_set, bk_set, hash_id = combined_to_classesv2(species_set, nbv_set, image_set, kkl_set, bk_set, hash_id)"
   ]
  },
  {
   "cell_type": "markdown",
   "id": "c6b4cd85",
   "metadata": {},
   "source": [
    "#### Split data into subset (used for training and validation in the 5-fold cross-validation) and test set"
   ]
  },
  {
   "cell_type": "code",
   "execution_count": 13,
   "id": "d06eda54",
   "metadata": {},
   "outputs": [
    {
     "name": "stdout",
     "output_type": "stream",
     "text": [
      "ORIGINAL POSITIVE RATIO: 3.5131213512441195\n",
      "Fold : 0\n",
      "TRAIN POSITIVE RATIO: 3.4969274887341255\n",
      "TEST POSITIVE RATIO : 3.592258925592259\n",
      "LENGTH TRAIN GROUPS : 195\n",
      "LENGTH TEST GROUPS  : 40\n",
      "Number of True in sub_indices: 14646\n",
      "Number of False in sub_indices: 2997\n",
      "Number of True in test_indices: 1102\n",
      "Number of False in test_indices: 16541\n",
      "Check shapes:\n",
      "\n",
      "Images sub dataset: (14646, 250, 250, 5)\n",
      "Labels sub dataset: (14646, 1)\n",
      "\n",
      "Images test dataset: (1102, 250, 250, 5)\n",
      "Labels test dataset: (1102, 1)\n",
      "\n",
      "--------------------------------------------------\n",
      "Check if the split was stratified: (random_state=42)\n",
      "Healthy trees in sub dataset: 3561\n",
      "Stressed trees in sub dataset: 2068\n",
      "Dead trees in sub dataset: 1834\n",
      "Healthy trees in test dataset: 338\n",
      "Stressed trees in test dataset: 147\n",
      "Dead trees in test dataset: 107\n",
      "Ratio health trees in test dataset: 0.09491715810165684\n",
      "Ratio stressed trees in test dataset: 0.07108317214700194\n",
      "Ratio dead trees in test dataset: 0.05834242093784078\n"
     ]
    }
   ],
   "source": [
    "sub_image_set, sub_label_set, sub_hash_id, sub_species_set, test_image_set, test_label_set, test_hash_id, test_species_set = data_split(image_set, label_set, hash_id, species_set, n_splits=6, random_state=42, seed=2)\n"
   ]
  },
  {
   "cell_type": "markdown",
   "id": "c48fbb5b",
   "metadata": {},
   "source": [
    "#### Check if any hash ID is in both sub and test dataset"
   ]
  },
  {
   "cell_type": "code",
   "execution_count": 14,
   "id": "874367cf",
   "metadata": {},
   "outputs": [
    {
     "name": "stdout",
     "output_type": "stream",
     "text": [
      "There are no hash_id values in both train and test datasets. The datasplit was successful\n"
     ]
    }
   ],
   "source": [
    "hash_set = set(sub_hash_id[:,0].flatten())\n",
    "test_hash_set = set(test_hash_id[:,0].flatten())\n",
    "intersection = hash_set.intersection(test_hash_set)\n",
    "if intersection:\n",
    "    print(f\"Hash_id values in both train and test sets: {len(intersection)}\")\n",
    "else:\n",
    "    print(\"There are no hash_id values in both train and test datasets. The datasplit was successful\")"
   ]
  },
  {
   "cell_type": "markdown",
   "id": "9e5b64d4",
   "metadata": {},
   "source": [
    "#### Check feature distribution of the Test dataset"
   ]
  },
  {
   "cell_type": "code",
   "execution_count": 15,
   "id": "a33ff5cb",
   "metadata": {},
   "outputs": [
    {
     "name": "stdout",
     "output_type": "stream",
     "text": [
      "Test dataset\n",
      "Test data Picea abies healthy: 338\n",
      "Test data Picea abies stressed: 147\n",
      "Test data Pinus sylvestris healthy: 107\n",
      "Test data Pinus sylvestris stressed: 166\n",
      "Test data Abies alba healthy: 19\n",
      "Test data Abies alba stressed: 15\n",
      "Test data Fagus sylvatica healthy: 76\n",
      "Test data Fagus sylvatica stressed: 44\n",
      "Test data Quercus robur/petraea healthy: 61\n",
      "Test data Quercus robur/petraea stressed: 20\n",
      "Test data Larix spp.: 45\n",
      "Test data Acer spp.: 20\n",
      "Test data Betula pendula: 13\n",
      "Test data dead trees: 31\n",
      "--------------------------------------------------\n",
      "Remaining dataset\n",
      "Remaining data Picea abies healthy: 3561\n",
      "Remaining data Picea abies stressed: 2068\n",
      "Remaining data Pinus sylvestris healthy: 1834\n",
      "Remaining data Pinus sylvestris stressed: 2073\n",
      "Remaining data Abies alba healthy: 437\n",
      "Remaining data Abies alba stressed: 140\n",
      "Remaining data Fagus sylvatica healthy: 1287\n",
      "Remaining data Fagus sylvatica stressed: 953\n",
      "Remaining data Quercus robur/petraea healthy: 735\n",
      "Remaining data Quercus robur/petraea stressed: 413\n",
      "Test data Larix spp.: 447\n",
      "Test data Acer spp.: 244\n",
      "Test data Betula pendula: 233\n",
      "Remaining data dead trees: 221\n",
      "--------------------------------------------------\n"
     ]
    }
   ],
   "source": [
    "def count_occurrences(data, value):\n",
    "    count = 0\n",
    "    for item in data:\n",
    "        if item == value:\n",
    "            count += 1\n",
    "    return count\n",
    "\n",
    "print(\"Test dataset\")\n",
    "print(f\"Test data Picea abies healthy: {count_occurrences(test_label_set, 0)}\")\n",
    "print(f\"Test data Picea abies stressed: {count_occurrences(test_label_set, 1)}\")\n",
    "print(f\"Test data Pinus sylvestris healthy: {count_occurrences(test_label_set, 2)}\")\n",
    "print(f\"Test data Pinus sylvestris stressed: {count_occurrences(test_label_set, 3)}\")\n",
    "print(f\"Test data Abies alba healthy: {count_occurrences(test_label_set, 4)}\")\n",
    "print(f\"Test data Abies alba stressed: {count_occurrences(test_label_set, 5)}\")\n",
    "print(f\"Test data Fagus sylvatica healthy: {count_occurrences(test_label_set, 6)}\")\n",
    "print(f\"Test data Fagus sylvatica stressed: {count_occurrences(test_label_set, 7)}\")\n",
    "print(f\"Test data Quercus robur/petraea healthy: {count_occurrences(test_label_set, 8)}\")\n",
    "print(f\"Test data Quercus robur/petraea stressed: {count_occurrences(test_label_set, 9)}\")\n",
    "print(f\"Test data Larix spp.: {count_occurrences(test_label_set, 10)}\")\n",
    "print(f\"Test data Acer spp.: {count_occurrences(test_label_set, 11)}\")\n",
    "print(f\"Test data Betula pendula: {count_occurrences(test_label_set, 12)}\")\n",
    "print(f\"Test data dead trees: {count_occurrences(test_label_set, 13)}\")\n",
    "print(\"-\"*50)\n",
    "\n",
    "print(\"Remaining dataset\")\n",
    "print(f\"Remaining data Picea abies healthy: {count_occurrences(sub_label_set, 0)}\")\n",
    "print(f\"Remaining data Picea abies stressed: {count_occurrences(sub_label_set, 1)}\")\n",
    "print(f\"Remaining data Pinus sylvestris healthy: {count_occurrences(sub_label_set, 2)}\")\n",
    "print(f\"Remaining data Pinus sylvestris stressed: {count_occurrences(sub_label_set, 3)}\")\n",
    "print(f\"Remaining data Abies alba healthy: {count_occurrences(sub_label_set, 4)}\")\n",
    "print(f\"Remaining data Abies alba stressed: {count_occurrences(sub_label_set, 5)}\")\n",
    "print(f\"Remaining data Fagus sylvatica healthy: {count_occurrences(sub_label_set, 6)}\")\n",
    "print(f\"Remaining data Fagus sylvatica stressed: {count_occurrences(sub_label_set, 7)}\")\n",
    "print(f\"Remaining data Quercus robur/petraea healthy: {count_occurrences(sub_label_set, 8)}\")\n",
    "print(f\"Remaining data Quercus robur/petraea stressed: {count_occurrences(sub_label_set, 9)}\")\n",
    "print(f\"Test data Larix spp.: {count_occurrences(sub_label_set, 10)}\")\n",
    "print(f\"Test data Acer spp.: {count_occurrences(sub_label_set, 11)}\")\n",
    "print(f\"Test data Betula pendula: {count_occurrences(sub_label_set, 12)}\")\n",
    "print(f\"Remaining data dead trees: {count_occurrences(sub_label_set, 13)}\")\n",
    "print(\"-\"*50)"
   ]
  },
  {
   "cell_type": "code",
   "execution_count": 16,
   "id": "e08fcf57",
   "metadata": {},
   "outputs": [],
   "source": [
    "# train transform with augmentation. \n",
    "transform_train = transforms.Compose([transforms.ToTensor(), transforms.RandomHorizontalFlip(p=0.5), transforms.RandomVerticalFlip(p=0.5),\n",
    "                                      transforms.RandomRotation(degrees=[0,360])])\n",
    "\n",
    "# test and val dataset transform without augmentation. \n",
    "transform = transforms.Compose([transforms.ToTensor()])\n",
    "\n",
    "# class names need to fit the customDataset class used e.g. 3 classes -> use CustomDataset3Classes\n",
    "#class_names = ['healthy', 'slightly_stressed', 'moderately_stressed', 'highly_stressed', 'dead']\n",
    "#class_names = ['healthy', 'moderately_stressed', 'highly_stressed', 'dead']\n",
    "#class_names = ['healthy', 'moderate stress', 'severe stress', 'dead']\n",
    "class_names = ['Picea abies healthy', 'Picea abies stressed', 'Pinus sylvestris healthy', 'Pinus sylvestris stressed', \n",
    "               'Abies alba healthy', 'Abies alba stressed', 'Fagus sylvatica healthy', 'Fagus sylvatica stressed',\n",
    "               'Quercus robur/petraea healthy', 'Quercus robur/petraea stressed', 'dead trees']\n",
    "\n",
    "# set seeds\n",
    "g = torch.Generator()\n",
    "g.manual_seed(42)\n",
    "NUM_WORKERS=3 # should be changed, depending on the system used\n",
    "batch_size=32"
   ]
  },
  {
   "cell_type": "markdown",
   "id": "31779c05",
   "metadata": {},
   "source": [
    "#### Define variables and parameters"
   ]
  },
  {
   "cell_type": "code",
   "execution_count": 17,
   "id": "10ae4379",
   "metadata": {},
   "outputs": [
    {
     "name": "stdout",
     "output_type": "stream",
     "text": [
      "Memory allocated: 0 bytes\n"
     ]
    }
   ],
   "source": [
    "# 1. Define number of epochs\n",
    "epochs = 50\n",
    "n_bands = sub_image_set[0].shape[2] # get number of bands\n",
    "\n",
    "# 2. Define model\n",
    "num_classes = len(class_names)\n",
    "unfreeze = True # all layer weights get updated\n",
    "dropout_rate = 0.5 #define dropout rate\n",
    "model_name = \"EffNet_b7_RGB-RE-NIR-11classes-combined_plotsplit\"\n",
    "\n",
    "# 3. Define loss, optimizer and learning rate scheduler\n",
    "lr = 0.001 # define learning rate\n",
    "min_lr = 1e-6 # minimum learning rate threshold\n",
    "gamma = 0.75 # how fast the learning rate decreases per epoch (low number=faster decrease)\n",
    "patience = 10\n",
    "\n",
    "# 4. Create target folder name were to save the tensorboard event files\n",
    "experiment_name = 'RGB-RE-NIR-11classes-combined_plotsplit'\n",
    "extra = \"RGB-RE-NIR-11classes-combined_plotsplit\"\n",
    "\n",
    "#----------------------------------------------------------------------\n",
    "#torch.cuda.empty_cache()\n",
    "print(f\"Memory allocated: {torch.cuda.memory_allocated()} bytes\") "
   ]
  },
  {
   "cell_type": "markdown",
   "id": "09768b1a",
   "metadata": {},
   "source": [
    "#### Run k-Fold cross-validation on EfficientNet"
   ]
  },
  {
   "cell_type": "code",
   "execution_count": null,
   "id": "9c29c81d",
   "metadata": {},
   "outputs": [
    {
     "name": "stdout",
     "output_type": "stream",
     "text": [
      "ORIGINAL POSITIVE RATIO: 3.4969274887341255\n",
      "Fold : 1\n",
      "TRAIN POSITIVE RATIO: 3.3526866833953446\n",
      "VAL POSITIVE RATIO  : 4.036581417934607\n",
      "LENGTH TRAIN GROUPS : 156\n",
      "LENGTH VAL GROUPS   : 39\n"
     ]
    },
    {
     "data": {
      "text/html": [
       "Finishing last run (ID:nbkb451a) before initializing another..."
      ],
      "text/plain": [
       "<IPython.core.display.HTML object>"
      ]
     },
     "metadata": {},
     "output_type": "display_data"
    },
    {
     "data": {
      "text/html": [
       "Waiting for W&B process to finish... <strong style=\"color:green\">(success).</strong>"
      ],
      "text/plain": [
       "<IPython.core.display.HTML object>"
      ]
     },
     "metadata": {},
     "output_type": "display_data"
    },
    {
     "data": {
      "text/html": [
       " View run <strong style=\"color:#cdcd00\">swift-universe-8</strong> at: <a href='https://wandb.ai/simon-ecke/wze-uav-combined-11classes/runs/nbkb451a' target=\"_blank\">https://wandb.ai/simon-ecke/wze-uav-combined-11classes/runs/nbkb451a</a><br/>Synced 5 W&B file(s), 0 media file(s), 0 artifact file(s) and 0 other file(s)"
      ],
      "text/plain": [
       "<IPython.core.display.HTML object>"
      ]
     },
     "metadata": {},
     "output_type": "display_data"
    },
    {
     "data": {
      "text/html": [
       "Find logs at: <code>.\\wandb\\run-20230526_135344-nbkb451a\\logs</code>"
      ],
      "text/plain": [
       "<IPython.core.display.HTML object>"
      ]
     },
     "metadata": {},
     "output_type": "display_data"
    },
    {
     "data": {
      "text/html": [
       "Successfully finished last run (ID:nbkb451a). Initializing new run:<br/>"
      ],
      "text/plain": [
       "<IPython.core.display.HTML object>"
      ]
     },
     "metadata": {},
     "output_type": "display_data"
    },
    {
     "data": {
      "application/vnd.jupyter.widget-view+json": {
       "model_id": "52150edebbbb4f5099d8cf8ee498700a",
       "version_major": 2,
       "version_minor": 0
      },
      "text/plain": [
       "VBox(children=(Label(value='Waiting for wandb.init()...\\r'), FloatProgress(value=0.016933333330477276, max=1.0…"
      ]
     },
     "metadata": {},
     "output_type": "display_data"
    },
    {
     "data": {
      "text/html": [
       "wandb version 0.15.3 is available!  To upgrade, please run:\n",
       " $ pip install wandb --upgrade"
      ],
      "text/plain": [
       "<IPython.core.display.HTML object>"
      ]
     },
     "metadata": {},
     "output_type": "display_data"
    },
    {
     "data": {
      "text/html": [
       "Tracking run with wandb version 0.14.2"
      ],
      "text/plain": [
       "<IPython.core.display.HTML object>"
      ]
     },
     "metadata": {},
     "output_type": "display_data"
    },
    {
     "data": {
      "text/html": [
       "Run data is saved locally in <code>C:\\Users\\lwfeckesim\\01_PyTorch\\wze-uav\\wze-uav-master\\wandb\\run-20230526_145309-panj8f1x</code>"
      ],
      "text/plain": [
       "<IPython.core.display.HTML object>"
      ]
     },
     "metadata": {},
     "output_type": "display_data"
    },
    {
     "data": {
      "text/html": [
       "Syncing run <strong><a href='https://wandb.ai/simon-ecke/wze-uav-combined-11classes/runs/panj8f1x' target=\"_blank\">fold_1_RGB-RE-NIR-11classes-combined_plotsplit</a></strong> to <a href='https://wandb.ai/simon-ecke/wze-uav-combined-11classes' target=\"_blank\">Weights & Biases</a> (<a href='https://wandb.me/run' target=\"_blank\">docs</a>)<br/>"
      ],
      "text/plain": [
       "<IPython.core.display.HTML object>"
      ]
     },
     "metadata": {},
     "output_type": "display_data"
    },
    {
     "data": {
      "text/html": [
       " View project at <a href='https://wandb.ai/simon-ecke/wze-uav-combined-11classes' target=\"_blank\">https://wandb.ai/simon-ecke/wze-uav-combined-11classes</a>"
      ],
      "text/plain": [
       "<IPython.core.display.HTML object>"
      ]
     },
     "metadata": {},
     "output_type": "display_data"
    },
    {
     "data": {
      "text/html": [
       " View run at <a href='https://wandb.ai/simon-ecke/wze-uav-combined-11classes/runs/panj8f1x' target=\"_blank\">https://wandb.ai/simon-ecke/wze-uav-combined-11classes/runs/panj8f1x</a>"
      ],
      "text/plain": [
       "<IPython.core.display.HTML object>"
      ]
     },
     "metadata": {},
     "output_type": "display_data"
    },
    {
     "name": "stdout",
     "output_type": "stream",
     "text": [
      "There are no same hash_id values in train, val or test datasets. The datasplit was successful\n",
      "Check shapes:\n",
      "\n",
      "Images train dataset: (11557, 250, 250, 5)\n",
      "Labels train dataset: (11557, 1)\n",
      "\n",
      "Images validation dataset: (1104, 250, 250, 5)\n",
      "Labels validation dataset: (1104, 1)\n",
      "\n",
      "--------------------------------------------------\n",
      "Check if the split was stratified: (random_state=42)\n",
      "Picea abies healthy in train dataset: 2879\n",
      "Picea abies stressed in train dataset: 1542\n",
      "Pinus sylvestris healthy in train dataset: 1540\n",
      "Pinus sylvestris stressed in train dataset: 1835\n",
      "Abies alba healthy in train dataset: 392\n",
      "Abies alba stressed in train dataset: 125\n",
      "Fagus sylvatica healthy in train dataset: 974\n",
      "Fagus sylvatica stressed in train dataset: 631\n",
      "Quercus robur/petraea healthy in train dataset: 532\n",
      "Quercus robur/petraea stressed in train dataset: 273\n",
      "Larix spp. in train dataset: 265\n",
      "Acer spp. in train dataset: 196\n",
      "Betula pendula in train dataset: 202\n",
      "Dead trees in train dataset: 171\n",
      "Picea abies healthy in validation dataset: 255\n",
      "Picea abies stressed in validation dataset: 174\n",
      "Pinus sylvestris healthy in validation dataset: 136\n",
      "Pinus sylvestris stressed in validation dataset: 82\n",
      "Abies alba healthy in validation dataset: 17\n",
      "Abies alba stressed in validation dataset: 4\n",
      "Fagus sylvatica healthy in validation dataset: 102\n",
      "Fagus sylvatica stressed in validation dataset: 116\n",
      "Quercus robur/petraea healthy in validation dataset: 60\n",
      "Quercus robur/petraea stressed in validation dataset: 53\n",
      "Larix spp. in validation dataset: 62\n",
      "Acer spp. in validation dataset: 16\n",
      "Betula pendula in validation dataset: 10\n",
      "Dead trees in validation dataset: 17\n",
      "--------------------------------------------------\n",
      "\n",
      "Creating datasets for fold: 1\n",
      "\n",
      "Creating dataloaders for fold: 1\n",
      "\n",
      "Loaded pretrained weights for efficientnet-b7\n",
      "\n",
      "[INFO] Fold number: 1\n",
      "[INFO] Number of epochs: 50\n",
      "[INFO] Batch_size: 32\n",
      "[INFO] Number of bands: 5\n",
      "[INFO] Dropout rate: 0.5\n",
      "[INFO] Gamma learning rate: 0.75\n",
      "[INFO] Memory allocated: 0 bytes\n"
     ]
    },
    {
     "data": {
      "application/vnd.jupyter.widget-view+json": {
       "model_id": "a93df36cfe214e60a527c2aeb2a9a021",
       "version_major": 2,
       "version_minor": 0
      },
      "text/plain": [
       "  0%|          | 0/50 [00:00<?, ?it/s]"
      ]
     },
     "metadata": {},
     "output_type": "display_data"
    },
    {
     "name": "stdout",
     "output_type": "stream",
     "text": [
      "Epoch: 1 \n",
      "Learning rate: 0.001\n",
      "Train loss: 1.5453 | Train precision: 0.3122 | Train recall: 0.2814 | Train f1score: 0.2794 | Train acc: 0.3930 | Train kappa: 0.6352 \n",
      "Val loss: 3.0712 | Val precision: 0.1968 | Val recall: 0.1828 | Val f1score: 0.1357 | Val acc: 0.3276 | Val kappa: -0.0237 \n",
      "\n",
      "Epoch: 2 \n",
      "Learning rate: 0.00075\n",
      "Train loss: 1.2075 | Train precision: 0.4318 | Train recall: 0.4082 | Train f1score: 0.4059 | Train acc: 0.4926 | Train kappa: 0.7890 \n",
      "Val loss: 2.9344 | Val precision: 0.1442 | Val recall: 0.2252 | Val f1score: 0.1363 | Val acc: 0.2621 | Val kappa: 0.2273 \n",
      "\n",
      "Epoch: 3 \n",
      "Learning rate: 0.0005625000000000001\n",
      "Train loss: 1.0936 | Train precision: 0.4981 | Train recall: 0.4727 | Train f1score: 0.4753 | Train acc: 0.5348 | Train kappa: 0.8369 \n",
      "Val loss: 1.4258 | Val precision: 0.4425 | Val recall: 0.4039 | Val f1score: 0.3399 | Val acc: 0.4264 | Val kappa: 0.7834 \n",
      "\n",
      "Epoch: 4 \n",
      "Learning rate: 0.000421875\n",
      "Train loss: 1.0402 | Train precision: 0.5237 | Train recall: 0.4992 | Train f1score: 0.5038 | Train acc: 0.5579 | Train kappa: 0.8595 \n",
      "Val loss: 1.2520 | Val precision: 0.4946 | Val recall: 0.4848 | Val f1score: 0.3951 | Val acc: 0.4889 | Val kappa: 0.8292 \n",
      "\n",
      "Epoch: 5 \n",
      "Learning rate: 0.00031640625\n",
      "Train loss: 0.9664 | Train precision: 0.5628 | Train recall: 0.5335 | Train f1score: 0.5380 | Train acc: 0.5761 | Train kappa: 0.8859 \n",
      "Val loss: 1.2462 | Val precision: 0.4861 | Val recall: 0.4475 | Val f1score: 0.4145 | Val acc: 0.5020 | Val kappa: 0.7622 \n",
      "\n",
      "Epoch: 6 \n",
      "Learning rate: 0.0002373046875\n",
      "Train loss: 0.9291 | Train precision: 0.5926 | Train recall: 0.5636 | Train f1score: 0.5694 | Train acc: 0.6004 | Train kappa: 0.8899 \n",
      "Val loss: 1.0467 | Val precision: 0.5156 | Val recall: 0.5027 | Val f1score: 0.4682 | Val acc: 0.5292 | Val kappa: 0.8607 \n",
      "\n",
      "Epoch: 7 \n",
      "Learning rate: 0.000177978515625\n",
      "Train loss: 0.8990 | Train precision: 0.6077 | Train recall: 0.5783 | Train f1score: 0.5860 | Train acc: 0.6108 | Train kappa: 0.8976 \n",
      "Val loss: 1.0217 | Val precision: 0.5005 | Val recall: 0.5028 | Val f1score: 0.4653 | Val acc: 0.5645 | Val kappa: 0.9131 \n",
      "\n",
      "Epoch: 8 \n",
      "Learning rate: 0.00013348388671875\n",
      "Train loss: 0.8865 | Train precision: 0.6190 | Train recall: 0.5782 | Train f1score: 0.5887 | Train acc: 0.6165 | Train kappa: 0.8988 \n",
      "Val loss: 0.9700 | Val precision: 0.5585 | Val recall: 0.5747 | Val f1score: 0.5432 | Val acc: 0.5706 | Val kappa: 0.9080 \n",
      "\n",
      "Epoch: 9 \n",
      "Learning rate: 0.0001001129150390625\n",
      "Train loss: 0.8392 | Train precision: 0.6403 | Train recall: 0.6153 | Train f1score: 0.6235 | Train acc: 0.6301 | Train kappa: 0.9122 \n",
      "Val loss: 1.0594 | Val precision: 0.5675 | Val recall: 0.5279 | Val f1score: 0.5065 | Val acc: 0.5635 | Val kappa: 0.9070 \n",
      "\n",
      "Epoch: 10 \n",
      "Learning rate: 7.508468627929687e-05\n",
      "Train loss: 0.8328 | Train precision: 0.6389 | Train recall: 0.6074 | Train f1score: 0.6166 | Train acc: 0.6335 | Train kappa: 0.9123 \n",
      "Val loss: 1.0382 | Val precision: 0.5300 | Val recall: 0.5444 | Val f1score: 0.5064 | Val acc: 0.5484 | Val kappa: 0.8852 \n",
      "\n",
      "Epoch: 11 \n",
      "Learning rate: 5.6313514709472656e-05\n",
      "Train loss: 0.8111 | Train precision: 0.6516 | Train recall: 0.6255 | Train f1score: 0.6348 | Train acc: 0.6426 | Train kappa: 0.9192 \n",
      "Val loss: 1.0233 | Val precision: 0.5401 | Val recall: 0.5466 | Val f1score: 0.5185 | Val acc: 0.5514 | Val kappa: 0.9109 \n",
      "\n",
      "Epoch: 12 \n",
      "Learning rate: 4.223513603210449e-05\n",
      "Train loss: 0.8015 | Train precision: 0.6597 | Train recall: 0.6371 | Train f1score: 0.6454 | Train acc: 0.6504 | Train kappa: 0.9191 \n",
      "Val loss: 0.9975 | Val precision: 0.5553 | Val recall: 0.5769 | Val f1score: 0.5506 | Val acc: 0.5837 | Val kappa: 0.9165 \n",
      "\n",
      "Epoch: 13 \n",
      "Learning rate: 3.167635202407837e-05\n",
      "Train loss: 0.7972 | Train precision: 0.6623 | Train recall: 0.6402 | Train f1score: 0.6482 | Train acc: 0.6493 | Train kappa: 0.9228 \n",
      "Val loss: 1.0080 | Val precision: 0.5405 | Val recall: 0.5498 | Val f1score: 0.5268 | Val acc: 0.5716 | Val kappa: 0.9138 \n",
      "\n",
      "Epoch: 14 \n",
      "Learning rate: 2.3757264018058778e-05\n",
      "Train loss: 0.7753 | Train precision: 0.6747 | Train recall: 0.6394 | Train f1score: 0.6506 | Train acc: 0.6529 | Train kappa: 0.9251 \n",
      "Val loss: 0.9904 | Val precision: 0.5278 | Val recall: 0.5409 | Val f1score: 0.5156 | Val acc: 0.5675 | Val kappa: 0.9132 \n",
      "\n",
      "Epoch: 15 \n",
      "Learning rate: 1.7817948013544083e-05\n",
      "Train loss: 0.7768 | Train precision: 0.6653 | Train recall: 0.6383 | Train f1score: 0.6474 | Train acc: 0.6522 | Train kappa: 0.9269 \n",
      "Val loss: 1.0009 | Val precision: 0.5370 | Val recall: 0.5392 | Val f1score: 0.5188 | Val acc: 0.5575 | Val kappa: 0.9129 \n",
      "\n",
      "Epoch: 16 \n",
      "Learning rate: 1.3363461010158063e-05\n",
      "Train loss: 0.7768 | Train precision: 0.6681 | Train recall: 0.6444 | Train f1score: 0.6534 | Train acc: 0.6597 | Train kappa: 0.9199 \n",
      "Val loss: 1.0114 | Val precision: 0.5285 | Val recall: 0.5396 | Val f1score: 0.5099 | Val acc: 0.5615 | Val kappa: 0.9100 \n",
      "\n",
      "Epoch: 17 \n",
      "Learning rate: 1.0022595757618546e-05\n",
      "Train loss: 0.7683 | Train precision: 0.6790 | Train recall: 0.6509 | Train f1score: 0.6606 | Train acc: 0.6630 | Train kappa: 0.9261 \n",
      "Val loss: 0.9985 | Val precision: 0.5341 | Val recall: 0.5404 | Val f1score: 0.5173 | Val acc: 0.5645 | Val kappa: 0.9182 \n",
      "\n",
      "Epoch: 18 \n",
      "Learning rate: 7.51694681821391e-06\n",
      "Train loss: 0.7681 | Train precision: 0.6831 | Train recall: 0.6552 | Train f1score: 0.6646 | Train acc: 0.6671 | Train kappa: 0.9242 \n",
      "Val loss: 0.9986 | Val precision: 0.5221 | Val recall: 0.5384 | Val f1score: 0.5116 | Val acc: 0.5645 | Val kappa: 0.9120 \n",
      "\n",
      "Early stopping after epoch 18\n"
     ]
    },
    {
     "data": {
      "text/html": [
       "Waiting for W&B process to finish... <strong style=\"color:green\">(success).</strong>"
      ],
      "text/plain": [
       "<IPython.core.display.HTML object>"
      ]
     },
     "metadata": {},
     "output_type": "display_data"
    },
    {
     "data": {
      "application/vnd.jupyter.widget-view+json": {
       "model_id": "8414498241c4422db6da2ac119bbbee6",
       "version_major": 2,
       "version_minor": 0
      },
      "text/plain": [
       "VBox(children=(Label(value='0.001 MB of 0.001 MB uploaded (0.000 MB deduped)\\r'), FloatProgress(value=1.0, max…"
      ]
     },
     "metadata": {},
     "output_type": "display_data"
    },
    {
     "data": {
      "text/html": [
       "<style>\n",
       "    table.wandb td:nth-child(1) { padding: 0 10px; text-align: left ; width: auto;} td:nth-child(2) {text-align: left ; width: 100%}\n",
       "    .wandb-row { display: flex; flex-direction: row; flex-wrap: wrap; justify-content: flex-start; width: 100% }\n",
       "    .wandb-col { display: flex; flex-direction: column; flex-basis: 100%; flex: 1; padding: 10px; }\n",
       "    </style>\n",
       "<div class=\"wandb-row\"><div class=\"wandb-col\"><h3>Run history:</h3><br/><table class=\"wandb\"><tr><td>learning_rate</td><td>█▆▅▄▃▃▂▂▂▁▁▁▁▁▁▁▁▁</td></tr><tr><td>train_f1_score</td><td>▁▃▅▅▆▆▇▇▇▇▇███████</td></tr><tr><td>train_loss</td><td>█▅▄▃▃▂▂▂▂▂▁▁▁▁▁▁▁▁</td></tr><tr><td>val_f1_score</td><td>▁▁▄▅▆▇▇█▇▇▇██▇▇▇▇▇</td></tr><tr><td>val_loss</td><td>██▃▂▂▁▁▁▁▁▁▁▁▁▁▁▁▁</td></tr></table><br/></div><div class=\"wandb-col\"><h3>Run summary:</h3><br/><table class=\"wandb\"><tr><td>learning_rate</td><td>1e-05</td></tr><tr><td>train_f1_score</td><td>0.6646</td></tr><tr><td>train_loss</td><td>0.7681</td></tr><tr><td>val_f1_score</td><td>0.51165</td></tr><tr><td>val_loss</td><td>0.99858</td></tr></table><br/></div></div>"
      ],
      "text/plain": [
       "<IPython.core.display.HTML object>"
      ]
     },
     "metadata": {},
     "output_type": "display_data"
    },
    {
     "data": {
      "text/html": [
       " View run <strong style=\"color:#cdcd00\">fold_1_RGB-RE-NIR-11classes-combined_plotsplit</strong> at: <a href='https://wandb.ai/simon-ecke/wze-uav-combined-11classes/runs/panj8f1x' target=\"_blank\">https://wandb.ai/simon-ecke/wze-uav-combined-11classes/runs/panj8f1x</a><br/>Synced 5 W&B file(s), 0 media file(s), 0 artifact file(s) and 0 other file(s)"
      ],
      "text/plain": [
       "<IPython.core.display.HTML object>"
      ]
     },
     "metadata": {},
     "output_type": "display_data"
    },
    {
     "data": {
      "text/html": [
       "Find logs at: <code>.\\wandb\\run-20230526_145309-panj8f1x\\logs</code>"
      ],
      "text/plain": [
       "<IPython.core.display.HTML object>"
      ]
     },
     "metadata": {},
     "output_type": "display_data"
    },
    {
     "name": "stdout",
     "output_type": "stream",
     "text": [
      "Deleting variables and emptying cache\n",
      "Memory allocated: 1049500672 bytes\n",
      "--------------------------------------------------\n",
      "\n",
      "Fold : 2\n",
      "TRAIN POSITIVE RATIO: 3.58949900464499\n",
      "VAL POSITIVE RATIO  : 3.066023166023166\n",
      "LENGTH TRAIN GROUPS : 158\n",
      "LENGTH VAL GROUPS   : 37\n"
     ]
    },
    {
     "data": {
      "text/html": [
       "wandb version 0.15.3 is available!  To upgrade, please run:\n",
       " $ pip install wandb --upgrade"
      ],
      "text/plain": [
       "<IPython.core.display.HTML object>"
      ]
     },
     "metadata": {},
     "output_type": "display_data"
    },
    {
     "data": {
      "text/html": [
       "Tracking run with wandb version 0.14.2"
      ],
      "text/plain": [
       "<IPython.core.display.HTML object>"
      ]
     },
     "metadata": {},
     "output_type": "display_data"
    },
    {
     "data": {
      "text/html": [
       "Run data is saved locally in <code>C:\\Users\\lwfeckesim\\01_PyTorch\\wze-uav\\wze-uav-master\\wandb\\run-20230526_161744-1qhhdhvb</code>"
      ],
      "text/plain": [
       "<IPython.core.display.HTML object>"
      ]
     },
     "metadata": {},
     "output_type": "display_data"
    },
    {
     "data": {
      "text/html": [
       "Syncing run <strong><a href='https://wandb.ai/simon-ecke/wze-uav-combined-11classes/runs/1qhhdhvb' target=\"_blank\">fold_2_RGB-RE-NIR-11classes-combined_plotsplit</a></strong> to <a href='https://wandb.ai/simon-ecke/wze-uav-combined-11classes' target=\"_blank\">Weights & Biases</a> (<a href='https://wandb.me/run' target=\"_blank\">docs</a>)<br/>"
      ],
      "text/plain": [
       "<IPython.core.display.HTML object>"
      ]
     },
     "metadata": {},
     "output_type": "display_data"
    },
    {
     "data": {
      "text/html": [
       " View project at <a href='https://wandb.ai/simon-ecke/wze-uav-combined-11classes' target=\"_blank\">https://wandb.ai/simon-ecke/wze-uav-combined-11classes</a>"
      ],
      "text/plain": [
       "<IPython.core.display.HTML object>"
      ]
     },
     "metadata": {},
     "output_type": "display_data"
    },
    {
     "data": {
      "text/html": [
       " View run at <a href='https://wandb.ai/simon-ecke/wze-uav-combined-11classes/runs/1qhhdhvb' target=\"_blank\">https://wandb.ai/simon-ecke/wze-uav-combined-11classes/runs/1qhhdhvb</a>"
      ],
      "text/plain": [
       "<IPython.core.display.HTML object>"
      ]
     },
     "metadata": {},
     "output_type": "display_data"
    },
    {
     "name": "stdout",
     "output_type": "stream",
     "text": [
      "There are no same hash_id values in train, val or test datasets. The datasplit was successful\n",
      "Check shapes:\n",
      "\n",
      "Images train dataset: (12056, 250, 250, 5)\n",
      "Labels train dataset: (12056, 1)\n",
      "\n",
      "Images validation dataset: (917, 250, 250, 5)\n",
      "Labels validation dataset: (917, 1)\n",
      "\n",
      "--------------------------------------------------\n",
      "Check if the split was stratified: (random_state=42)\n",
      "Picea abies healthy in train dataset: 2915\n",
      "Picea abies stressed in train dataset: 1589\n",
      "Pinus sylvestris healthy in train dataset: 1458\n",
      "Pinus sylvestris stressed in train dataset: 1695\n",
      "Abies alba healthy in train dataset: 400\n",
      "Abies alba stressed in train dataset: 136\n",
      "Fagus sylvatica healthy in train dataset: 1106\n",
      "Fagus sylvatica stressed in train dataset: 786\n",
      "Quercus robur/petraea healthy in train dataset: 615\n",
      "Quercus robur/petraea stressed in train dataset: 356\n",
      "Larix spp. in train dataset: 417\n",
      "Acer spp. in train dataset: 223\n",
      "Betula pendula in train dataset: 160\n",
      "Dead trees in train dataset: 200\n",
      "Picea abies healthy in validation dataset: 227\n",
      "Picea abies stressed in validation dataset: 171\n",
      "Pinus sylvestris healthy in validation dataset: 123\n",
      "Pinus sylvestris stressed in validation dataset: 138\n",
      "Abies alba healthy in validation dataset: 14\n",
      "Abies alba stressed in validation dataset: 1\n",
      "Fagus sylvatica healthy in validation dataset: 61\n",
      "Fagus sylvatica stressed in validation dataset: 71\n",
      "Quercus robur/petraea healthy in validation dataset: 36\n",
      "Quercus robur/petraea stressed in validation dataset: 28\n",
      "Larix spp. in validation dataset: 8\n",
      "Acer spp. in validation dataset: 7\n",
      "Betula pendula in validation dataset: 23\n",
      "Dead trees in validation dataset: 9\n",
      "--------------------------------------------------\n",
      "\n",
      "Creating datasets for fold: 2\n",
      "\n",
      "Creating dataloaders for fold: 2\n",
      "\n",
      "Loaded pretrained weights for efficientnet-b7\n",
      "\n",
      "[INFO] Fold number: 2\n",
      "[INFO] Number of epochs: 50\n",
      "[INFO] Batch_size: 32\n",
      "[INFO] Number of bands: 5\n",
      "[INFO] Dropout rate: 0.5\n",
      "[INFO] Gamma learning rate: 0.75\n",
      "[INFO] Memory allocated: 0 bytes\n"
     ]
    },
    {
     "data": {
      "application/vnd.jupyter.widget-view+json": {
       "model_id": "e4add98d5834424fab0ff78d3e514803",
       "version_major": 2,
       "version_minor": 0
      },
      "text/plain": [
       "  0%|          | 0/50 [00:00<?, ?it/s]"
      ]
     },
     "metadata": {},
     "output_type": "display_data"
    },
    {
     "name": "stdout",
     "output_type": "stream",
     "text": [
      "Epoch: 1 \n",
      "Learning rate: 0.001\n",
      "Train loss: 1.5200 | Train precision: 0.3449 | Train recall: 0.3247 | Train f1score: 0.3283 | Train acc: 0.4042 | Train kappa: 0.6857 \n",
      "Val loss: 2.2117 | Val precision: 0.1067 | Val recall: 0.1441 | Val f1score: 0.0850 | Val acc: 0.2662 | Val kappa: 0.1206 \n",
      "\n",
      "Epoch: 2 \n",
      "Learning rate: 0.00075\n",
      "Train loss: 1.1852 | Train precision: 0.4639 | Train recall: 0.4443 | Train f1score: 0.4449 | Train acc: 0.4987 | Train kappa: 0.8227 \n",
      "Val loss: 2.1737 | Val precision: 0.3069 | Val recall: 0.1555 | Val f1score: 0.0956 | Val acc: 0.2894 | Val kappa: 0.0722 \n",
      "\n",
      "Epoch: 3 \n",
      "Learning rate: 0.0005625000000000001\n",
      "Train loss: 1.0505 | Train precision: 0.5112 | Train recall: 0.4947 | Train f1score: 0.4927 | Train acc: 0.5414 | Train kappa: 0.8673 \n",
      "Val loss: 1.1968 | Val precision: 0.4014 | Val recall: 0.3933 | Val f1score: 0.3373 | Val acc: 0.4815 | Val kappa: 0.7808 \n",
      "\n",
      "Epoch: 4 \n",
      "Learning rate: 0.000421875\n",
      "Train loss: 0.9668 | Train precision: 0.5562 | Train recall: 0.5352 | Train f1score: 0.5380 | Train acc: 0.5768 | Train kappa: 0.8893 \n",
      "Val loss: 1.0771 | Val precision: 0.4153 | Val recall: 0.4618 | Val f1score: 0.4170 | Val acc: 0.5197 | Val kappa: 0.8627 \n",
      "\n",
      "Epoch: 5 \n",
      "Learning rate: 0.00031640625\n",
      "Train loss: 0.9172 | Train precision: 0.5828 | Train recall: 0.5623 | Train f1score: 0.5651 | Train acc: 0.5974 | Train kappa: 0.9047 \n",
      "Val loss: 1.1388 | Val precision: 0.4711 | Val recall: 0.4385 | Val f1score: 0.4191 | Val acc: 0.5347 | Val kappa: 0.8245 \n",
      "\n",
      "Epoch: 6 \n",
      "Learning rate: 0.0002373046875\n",
      "Train loss: 0.8705 | Train precision: 0.6155 | Train recall: 0.5897 | Train f1score: 0.5930 | Train acc: 0.6205 | Train kappa: 0.9129 \n",
      "Val loss: 1.1354 | Val precision: 0.4692 | Val recall: 0.4548 | Val f1score: 0.4007 | Val acc: 0.5104 | Val kappa: 0.8465 \n",
      "\n",
      "Epoch: 7 \n",
      "Learning rate: 0.000177978515625\n",
      "Train loss: 0.8321 | Train precision: 0.6417 | Train recall: 0.6099 | Train f1score: 0.6169 | Train acc: 0.6411 | Train kappa: 0.9196 \n",
      "Val loss: 1.1796 | Val precision: 0.4810 | Val recall: 0.4945 | Val f1score: 0.4452 | Val acc: 0.5498 | Val kappa: 0.8466 \n",
      "\n",
      "Epoch: 8 \n",
      "Learning rate: 0.00013348388671875\n",
      "Train loss: 0.8204 | Train precision: 0.6365 | Train recall: 0.6200 | Train f1score: 0.6234 | Train acc: 0.6341 | Train kappa: 0.9315 \n",
      "Val loss: 1.0262 | Val precision: 0.5468 | Val recall: 0.4993 | Val f1score: 0.4802 | Val acc: 0.5764 | Val kappa: 0.8737 \n",
      "\n",
      "Epoch: 9 \n",
      "Learning rate: 0.0001001129150390625\n",
      "Train loss: 0.7880 | Train precision: 0.6547 | Train recall: 0.6299 | Train f1score: 0.6357 | Train acc: 0.6535 | Train kappa: 0.9293 \n",
      "Val loss: 1.0015 | Val precision: 0.5579 | Val recall: 0.5450 | Val f1score: 0.5244 | Val acc: 0.6065 | Val kappa: 0.8800 \n",
      "\n",
      "Epoch: 10 \n",
      "Learning rate: 7.508468627929687e-05\n",
      "Train loss: 0.7749 | Train precision: 0.6610 | Train recall: 0.6384 | Train f1score: 0.6451 | Train acc: 0.6607 | Train kappa: 0.9354 \n",
      "Val loss: 1.0002 | Val precision: 0.5437 | Val recall: 0.5224 | Val f1score: 0.5140 | Val acc: 0.6019 | Val kappa: 0.8645 \n",
      "\n",
      "Epoch: 11 \n",
      "Learning rate: 5.6313514709472656e-05\n",
      "Train loss: 0.7479 | Train precision: 0.6743 | Train recall: 0.6471 | Train f1score: 0.6538 | Train acc: 0.6701 | Train kappa: 0.9363 \n",
      "Val loss: 1.0275 | Val precision: 0.5807 | Val recall: 0.5431 | Val f1score: 0.5286 | Val acc: 0.6204 | Val kappa: 0.8759 \n",
      "\n",
      "Epoch: 12 \n",
      "Learning rate: 4.223513603210449e-05\n",
      "Train loss: 0.7305 | Train precision: 0.6849 | Train recall: 0.6635 | Train f1score: 0.6694 | Train acc: 0.6771 | Train kappa: 0.9432 \n",
      "Val loss: 0.9921 | Val precision: 0.5668 | Val recall: 0.5464 | Val f1score: 0.5294 | Val acc: 0.6111 | Val kappa: 0.8870 \n",
      "\n",
      "Epoch: 13 \n",
      "Learning rate: 3.167635202407837e-05\n",
      "Train loss: 0.7214 | Train precision: 0.7021 | Train recall: 0.6781 | Train f1score: 0.6858 | Train acc: 0.6842 | Train kappa: 0.9415 \n",
      "Val loss: 0.9692 | Val precision: 0.5828 | Val recall: 0.5591 | Val f1score: 0.5473 | Val acc: 0.6227 | Val kappa: 0.8896 \n",
      "\n",
      "Epoch: 14 \n",
      "Learning rate: 2.3757264018058778e-05\n",
      "Train loss: 0.7159 | Train precision: 0.7017 | Train recall: 0.6778 | Train f1score: 0.6856 | Train acc: 0.6860 | Train kappa: 0.9401 \n",
      "Val loss: 1.0030 | Val precision: 0.6063 | Val recall: 0.5742 | Val f1score: 0.5551 | Val acc: 0.6262 | Val kappa: 0.8785 \n",
      "\n",
      "Epoch: 15 \n",
      "Learning rate: 1.7817948013544083e-05\n",
      "Train loss: 0.7145 | Train precision: 0.7051 | Train recall: 0.6841 | Train f1score: 0.6914 | Train acc: 0.6887 | Train kappa: 0.9402 \n",
      "Val loss: 1.0078 | Val precision: 0.5846 | Val recall: 0.5483 | Val f1score: 0.5423 | Val acc: 0.6169 | Val kappa: 0.8887 \n",
      "\n",
      "Epoch: 16 \n",
      "Learning rate: 1.3363461010158063e-05\n",
      "Train loss: 0.7185 | Train precision: 0.6880 | Train recall: 0.6646 | Train f1score: 0.6719 | Train acc: 0.6763 | Train kappa: 0.9426 \n",
      "Val loss: 1.0111 | Val precision: 0.5926 | Val recall: 0.5516 | Val f1score: 0.5424 | Val acc: 0.6134 | Val kappa: 0.8826 \n",
      "\n",
      "Epoch: 17 \n",
      "Learning rate: 1.0022595757618546e-05\n",
      "Train loss: 0.7130 | Train precision: 0.7031 | Train recall: 0.6816 | Train f1score: 0.6883 | Train acc: 0.6834 | Train kappa: 0.9450 \n",
      "Val loss: 1.0010 | Val precision: 0.5925 | Val recall: 0.5548 | Val f1score: 0.5421 | Val acc: 0.6192 | Val kappa: 0.8803 \n",
      "\n",
      "Epoch: 18 \n",
      "Learning rate: 7.51694681821391e-06\n",
      "Train loss: 0.7173 | Train precision: 0.6953 | Train recall: 0.6696 | Train f1score: 0.6769 | Train acc: 0.6757 | Train kappa: 0.9395 \n",
      "Val loss: 0.9943 | Val precision: 0.5828 | Val recall: 0.5567 | Val f1score: 0.5475 | Val acc: 0.6146 | Val kappa: 0.8839 \n",
      "\n",
      "Epoch: 19 \n",
      "Learning rate: 5.637710113660432e-06\n",
      "Train loss: 0.6994 | Train precision: 0.7023 | Train recall: 0.6792 | Train f1score: 0.6867 | Train acc: 0.6880 | Train kappa: 0.9420 \n",
      "Val loss: 0.9920 | Val precision: 0.5897 | Val recall: 0.5525 | Val f1score: 0.5434 | Val acc: 0.6250 | Val kappa: 0.8841 \n",
      "\n",
      "Epoch: 20 \n",
      "Learning rate: 4.228282585245324e-06\n",
      "Train loss: 0.7069 | Train precision: 0.7003 | Train recall: 0.6820 | Train f1score: 0.6876 | Train acc: 0.6855 | Train kappa: 0.9422 \n",
      "Val loss: 0.9974 | Val precision: 0.5851 | Val recall: 0.5501 | Val f1score: 0.5441 | Val acc: 0.6227 | Val kappa: 0.8834 \n",
      "\n",
      "Epoch: 21 \n",
      "Learning rate: 3.1712119389339933e-06\n",
      "Train loss: 0.7103 | Train precision: 0.6881 | Train recall: 0.6688 | Train f1score: 0.6750 | Train acc: 0.6801 | Train kappa: 0.9411 \n",
      "Val loss: 0.9981 | Val precision: 0.5922 | Val recall: 0.5479 | Val f1score: 0.5423 | Val acc: 0.6192 | Val kappa: 0.8819 \n",
      "\n",
      "Epoch: 22 \n",
      "Learning rate: 2.378408954200495e-06\n",
      "Train loss: 0.7074 | Train precision: 0.7097 | Train recall: 0.6825 | Train f1score: 0.6915 | Train acc: 0.6892 | Train kappa: 0.9400 \n",
      "Val loss: 0.9893 | Val precision: 0.5821 | Val recall: 0.5447 | Val f1score: 0.5398 | Val acc: 0.6204 | Val kappa: 0.8874 \n",
      "\n",
      "Epoch: 23 \n",
      "Learning rate: 1.7838067156503713e-06\n",
      "Train loss: 0.6892 | Train precision: 0.7086 | Train recall: 0.6865 | Train f1score: 0.6940 | Train acc: 0.6936 | Train kappa: 0.9479 \n",
      "Val loss: 0.9857 | Val precision: 0.5749 | Val recall: 0.5470 | Val f1score: 0.5399 | Val acc: 0.6215 | Val kappa: 0.8831 \n",
      "\n",
      "Early stopping after epoch 23\n"
     ]
    },
    {
     "data": {
      "text/html": [
       "Waiting for W&B process to finish... <strong style=\"color:green\">(success).</strong>"
      ],
      "text/plain": [
       "<IPython.core.display.HTML object>"
      ]
     },
     "metadata": {},
     "output_type": "display_data"
    },
    {
     "data": {
      "text/html": [
       "<style>\n",
       "    table.wandb td:nth-child(1) { padding: 0 10px; text-align: left ; width: auto;} td:nth-child(2) {text-align: left ; width: 100%}\n",
       "    .wandb-row { display: flex; flex-direction: row; flex-wrap: wrap; justify-content: flex-start; width: 100% }\n",
       "    .wandb-col { display: flex; flex-direction: column; flex-basis: 100%; flex: 1; padding: 10px; }\n",
       "    </style>\n",
       "<div class=\"wandb-row\"><div class=\"wandb-col\"><h3>Run history:</h3><br/><table class=\"wandb\"><tr><td>learning_rate</td><td>█▆▅▄▃▃▂▂▂▂▁▁▁▁▁▁▁▁▁▁▁▁▁</td></tr><tr><td>train_f1_score</td><td>▁▃▄▅▆▆▇▇▇▇▇████████████</td></tr><tr><td>train_loss</td><td>█▅▄▃▃▃▂▂▂▂▁▁▁▁▁▁▁▁▁▁▁▁▁</td></tr><tr><td>val_f1_score</td><td>▁▁▅▆▆▆▆▇█▇█████████████</td></tr><tr><td>val_loss</td><td>██▂▂▂▂▂▁▁▁▁▁▁▁▁▁▁▁▁▁▁▁▁</td></tr></table><br/></div><div class=\"wandb-col\"><h3>Run summary:</h3><br/><table class=\"wandb\"><tr><td>learning_rate</td><td>0.0</td></tr><tr><td>train_f1_score</td><td>0.69399</td></tr><tr><td>train_loss</td><td>0.68915</td></tr><tr><td>val_f1_score</td><td>0.53987</td></tr><tr><td>val_loss</td><td>0.98571</td></tr></table><br/></div></div>"
      ],
      "text/plain": [
       "<IPython.core.display.HTML object>"
      ]
     },
     "metadata": {},
     "output_type": "display_data"
    },
    {
     "data": {
      "text/html": [
       " View run <strong style=\"color:#cdcd00\">fold_2_RGB-RE-NIR-11classes-combined_plotsplit</strong> at: <a href='https://wandb.ai/simon-ecke/wze-uav-combined-11classes/runs/1qhhdhvb' target=\"_blank\">https://wandb.ai/simon-ecke/wze-uav-combined-11classes/runs/1qhhdhvb</a><br/>Synced 5 W&B file(s), 0 media file(s), 0 artifact file(s) and 0 other file(s)"
      ],
      "text/plain": [
       "<IPython.core.display.HTML object>"
      ]
     },
     "metadata": {},
     "output_type": "display_data"
    },
    {
     "data": {
      "text/html": [
       "Find logs at: <code>.\\wandb\\run-20230526_161744-1qhhdhvb\\logs</code>"
      ],
      "text/plain": [
       "<IPython.core.display.HTML object>"
      ]
     },
     "metadata": {},
     "output_type": "display_data"
    },
    {
     "name": "stdout",
     "output_type": "stream",
     "text": [
      "Deleting variables and emptying cache\n",
      "Memory allocated: 1054807040 bytes\n",
      "--------------------------------------------------\n",
      "\n",
      "Fold : 3\n",
      "TRAIN POSITIVE RATIO: 3.5173116089613035\n",
      "VAL POSITIVE RATIO  : 3.4129979035639413\n",
      "LENGTH TRAIN GROUPS : 156\n",
      "LENGTH VAL GROUPS   : 39\n"
     ]
    },
    {
     "data": {
      "text/html": [
       "wandb version 0.15.3 is available!  To upgrade, please run:\n",
       " $ pip install wandb --upgrade"
      ],
      "text/plain": [
       "<IPython.core.display.HTML object>"
      ]
     },
     "metadata": {},
     "output_type": "display_data"
    },
    {
     "data": {
      "text/html": [
       "Tracking run with wandb version 0.14.2"
      ],
      "text/plain": [
       "<IPython.core.display.HTML object>"
      ]
     },
     "metadata": {},
     "output_type": "display_data"
    },
    {
     "data": {
      "text/html": [
       "Run data is saved locally in <code>C:\\Users\\lwfeckesim\\01_PyTorch\\wze-uav\\wze-uav-master\\wandb\\run-20230526_180823-yxauvyth</code>"
      ],
      "text/plain": [
       "<IPython.core.display.HTML object>"
      ]
     },
     "metadata": {},
     "output_type": "display_data"
    },
    {
     "data": {
      "text/html": [
       "Syncing run <strong><a href='https://wandb.ai/simon-ecke/wze-uav-combined-11classes/runs/yxauvyth' target=\"_blank\">fold_3_RGB-RE-NIR-11classes-combined_plotsplit</a></strong> to <a href='https://wandb.ai/simon-ecke/wze-uav-combined-11classes' target=\"_blank\">Weights & Biases</a> (<a href='https://wandb.me/run' target=\"_blank\">docs</a>)<br/>"
      ],
      "text/plain": [
       "<IPython.core.display.HTML object>"
      ]
     },
     "metadata": {},
     "output_type": "display_data"
    },
    {
     "data": {
      "text/html": [
       " View project at <a href='https://wandb.ai/simon-ecke/wze-uav-combined-11classes' target=\"_blank\">https://wandb.ai/simon-ecke/wze-uav-combined-11classes</a>"
      ],
      "text/plain": [
       "<IPython.core.display.HTML object>"
      ]
     },
     "metadata": {},
     "output_type": "display_data"
    },
    {
     "data": {
      "text/html": [
       " View run at <a href='https://wandb.ai/simon-ecke/wze-uav-combined-11classes/runs/yxauvyth' target=\"_blank\">https://wandb.ai/simon-ecke/wze-uav-combined-11classes/runs/yxauvyth</a>"
      ],
      "text/plain": [
       "<IPython.core.display.HTML object>"
      ]
     },
     "metadata": {},
     "output_type": "display_data"
    },
    {
     "name": "stdout",
     "output_type": "stream",
     "text": [
      "There are no same hash_id values in train, val or test datasets. The datasplit was successful\n",
      "Check shapes:\n",
      "\n",
      "Images train dataset: (11784, 250, 250, 5)\n",
      "Labels train dataset: (11784, 1)\n",
      "\n",
      "Images validation dataset: (1030, 250, 250, 5)\n",
      "Labels validation dataset: (1030, 1)\n",
      "\n",
      "--------------------------------------------------\n",
      "Check if the split was stratified: (random_state=42)\n",
      "Picea abies healthy in train dataset: 2861\n",
      "Picea abies stressed in train dataset: 1735\n",
      "Pinus sylvestris healthy in train dataset: 1503\n",
      "Pinus sylvestris stressed in train dataset: 1475\n",
      "Abies alba healthy in train dataset: 345\n",
      "Abies alba stressed in train dataset: 87\n",
      "Fagus sylvatica healthy in train dataset: 1110\n",
      "Fagus sylvatica stressed in train dataset: 824\n",
      "Quercus robur/petraea healthy in train dataset: 575\n",
      "Quercus robur/petraea stressed in train dataset: 346\n",
      "Larix spp. in train dataset: 356\n",
      "Acer spp. in train dataset: 208\n",
      "Betula pendula in train dataset: 190\n",
      "Dead trees in train dataset: 169\n",
      "Picea abies healthy in validation dataset: 282\n",
      "Picea abies stressed in validation dataset: 105\n",
      "Pinus sylvestris healthy in validation dataset: 128\n",
      "Pinus sylvestris stressed in validation dataset: 194\n",
      "Abies alba healthy in validation dataset: 36\n",
      "Abies alba stressed in validation dataset: 14\n",
      "Fagus sylvatica healthy in validation dataset: 63\n",
      "Fagus sylvatica stressed in validation dataset: 51\n",
      "Quercus robur/petraea healthy in validation dataset: 48\n",
      "Quercus robur/petraea stressed in validation dataset: 28\n",
      "Larix spp. in validation dataset: 32\n",
      "Acer spp. in validation dataset: 16\n",
      "Betula pendula in validation dataset: 15\n",
      "Dead trees in validation dataset: 18\n",
      "--------------------------------------------------\n",
      "\n",
      "Creating datasets for fold: 3\n",
      "\n",
      "Creating dataloaders for fold: 3\n",
      "\n",
      "Loaded pretrained weights for efficientnet-b7\n",
      "\n",
      "[INFO] Fold number: 3\n",
      "[INFO] Number of epochs: 50\n",
      "[INFO] Batch_size: 32\n",
      "[INFO] Number of bands: 5\n",
      "[INFO] Dropout rate: 0.5\n",
      "[INFO] Gamma learning rate: 0.75\n",
      "[INFO] Memory allocated: 0 bytes\n"
     ]
    },
    {
     "data": {
      "application/vnd.jupyter.widget-view+json": {
       "model_id": "18a9a6286f024d778206b8c4ea81c9c8",
       "version_major": 2,
       "version_minor": 0
      },
      "text/plain": [
       "  0%|          | 0/50 [00:00<?, ?it/s]"
      ]
     },
     "metadata": {},
     "output_type": "display_data"
    },
    {
     "name": "stdout",
     "output_type": "stream",
     "text": [
      "Epoch: 1 \n",
      "Learning rate: 0.001\n",
      "Train loss: 1.5194 | Train precision: 0.3265 | Train recall: 0.2895 | Train f1score: 0.2954 | Train acc: 0.3984 | Train kappa: 0.6695 \n",
      "Val loss: 2.5629 | Val precision: 0.1436 | Val recall: 0.1665 | Val f1score: 0.1164 | Val acc: 0.2479 | Val kappa: 0.4519 \n",
      "\n",
      "Epoch: 2 \n",
      "Learning rate: 0.00075\n",
      "Train loss: 1.1912 | Train precision: 0.4476 | Train recall: 0.4260 | Train f1score: 0.4302 | Train acc: 0.4938 | Train kappa: 0.8183 \n",
      "Val loss: 1.6492 | Val precision: 0.4037 | Val recall: 0.2235 | Val f1score: 0.1763 | Val acc: 0.2990 | Val kappa: 0.4984 \n",
      "\n",
      "Epoch: 3 \n",
      "Learning rate: 0.0005625000000000001\n",
      "Train loss: 1.0783 | Train precision: 0.5098 | Train recall: 0.4875 | Train f1score: 0.4906 | Train acc: 0.5378 | Train kappa: 0.8503 \n",
      "Val loss: 1.1728 | Val precision: 0.4522 | Val recall: 0.4151 | Val f1score: 0.3613 | Val acc: 0.5094 | Val kappa: 0.8261 \n",
      "\n",
      "Epoch: 4 \n",
      "Learning rate: 0.000421875\n",
      "Train loss: 1.0093 | Train precision: 0.5422 | Train recall: 0.5125 | Train f1score: 0.5165 | Train acc: 0.5691 | Train kappa: 0.8741 \n",
      "Val loss: 1.0724 | Val precision: 0.4774 | Val recall: 0.4170 | Val f1score: 0.3846 | Val acc: 0.5208 | Val kappa: 0.7882 \n",
      "\n",
      "Epoch: 5 \n",
      "Learning rate: 0.00031640625\n",
      "Train loss: 0.9339 | Train precision: 0.5911 | Train recall: 0.5513 | Train f1score: 0.5568 | Train acc: 0.5903 | Train kappa: 0.8900 \n",
      "Val loss: 0.9648 | Val precision: 0.5054 | Val recall: 0.5476 | Val f1score: 0.5090 | Val acc: 0.5750 | Val kappa: 0.8837 \n",
      "\n",
      "Epoch: 6 \n",
      "Learning rate: 0.0002373046875\n",
      "Train loss: 0.8867 | Train precision: 0.6096 | Train recall: 0.5742 | Train f1score: 0.5826 | Train acc: 0.6103 | Train kappa: 0.9081 \n",
      "Val loss: 1.0415 | Val precision: 0.5050 | Val recall: 0.5019 | Val f1score: 0.4602 | Val acc: 0.5250 | Val kappa: 0.8770 \n",
      "\n",
      "Epoch: 7 \n",
      "Learning rate: 0.000177978515625\n",
      "Train loss: 0.8788 | Train precision: 0.6083 | Train recall: 0.5746 | Train f1score: 0.5809 | Train acc: 0.6164 | Train kappa: 0.9096 \n",
      "Val loss: 1.0024 | Val precision: 0.5083 | Val recall: 0.5189 | Val f1score: 0.4970 | Val acc: 0.5677 | Val kappa: 0.8731 \n",
      "\n",
      "Epoch: 8 \n",
      "Learning rate: 0.00013348388671875\n",
      "Train loss: 0.8349 | Train precision: 0.6303 | Train recall: 0.5940 | Train f1score: 0.6001 | Train acc: 0.6303 | Train kappa: 0.9193 \n",
      "Val loss: 0.9876 | Val precision: 0.5423 | Val recall: 0.5319 | Val f1score: 0.5204 | Val acc: 0.5781 | Val kappa: 0.8742 \n",
      "\n",
      "Epoch: 9 \n",
      "Learning rate: 0.0001001129150390625\n",
      "Train loss: 0.7992 | Train precision: 0.6548 | Train recall: 0.6226 | Train f1score: 0.6299 | Train acc: 0.6468 | Train kappa: 0.9200 \n",
      "Val loss: 1.0577 | Val precision: 0.5548 | Val recall: 0.5643 | Val f1score: 0.5173 | Val acc: 0.5437 | Val kappa: 0.8654 \n",
      "\n",
      "Epoch: 10 \n",
      "Learning rate: 7.508468627929687e-05\n",
      "Train loss: 0.7831 | Train precision: 0.6425 | Train recall: 0.6172 | Train f1score: 0.6241 | Train acc: 0.6469 | Train kappa: 0.9317 \n",
      "Val loss: 0.9031 | Val precision: 0.6060 | Val recall: 0.5551 | Val f1score: 0.5420 | Val acc: 0.6010 | Val kappa: 0.9026 \n",
      "\n",
      "Epoch: 11 \n",
      "Learning rate: 5.6313514709472656e-05\n",
      "Train loss: 0.7671 | Train precision: 0.6617 | Train recall: 0.6403 | Train f1score: 0.6457 | Train acc: 0.6580 | Train kappa: 0.9319 \n",
      "Val loss: 0.8957 | Val precision: 0.6028 | Val recall: 0.5896 | Val f1score: 0.5898 | Val acc: 0.6073 | Val kappa: 0.8932 \n",
      "\n",
      "Epoch: 12 \n",
      "Learning rate: 4.223513603210449e-05\n",
      "Train loss: 0.7698 | Train precision: 0.6609 | Train recall: 0.6306 | Train f1score: 0.6384 | Train acc: 0.6603 | Train kappa: 0.9340 \n",
      "Val loss: 0.8936 | Val precision: 0.6064 | Val recall: 0.6014 | Val f1score: 0.5967 | Val acc: 0.6073 | Val kappa: 0.8993 \n",
      "\n",
      "Epoch: 13 \n",
      "Learning rate: 3.167635202407837e-05\n",
      "Train loss: 0.7546 | Train precision: 0.6846 | Train recall: 0.6514 | Train f1score: 0.6626 | Train acc: 0.6621 | Train kappa: 0.9309 \n",
      "Val loss: 0.8982 | Val precision: 0.5825 | Val recall: 0.5847 | Val f1score: 0.5719 | Val acc: 0.5979 | Val kappa: 0.9007 \n",
      "\n",
      "Epoch: 14 \n",
      "Learning rate: 2.3757264018058778e-05\n",
      "Train loss: 0.7455 | Train precision: 0.6860 | Train recall: 0.6596 | Train f1score: 0.6680 | Train acc: 0.6735 | Train kappa: 0.9385 \n",
      "Val loss: 0.9004 | Val precision: 0.5725 | Val recall: 0.5779 | Val f1score: 0.5667 | Val acc: 0.6021 | Val kappa: 0.8955 \n",
      "\n",
      "Epoch: 15 \n",
      "Learning rate: 1.7817948013544083e-05\n",
      "Train loss: 0.7451 | Train precision: 0.6841 | Train recall: 0.6521 | Train f1score: 0.6616 | Train acc: 0.6675 | Train kappa: 0.9397 \n",
      "Val loss: 0.9018 | Val precision: 0.5774 | Val recall: 0.5712 | Val f1score: 0.5653 | Val acc: 0.6135 | Val kappa: 0.8983 \n",
      "\n",
      "Epoch: 16 \n",
      "Learning rate: 1.3363461010158063e-05\n",
      "Train loss: 0.7340 | Train precision: 0.6903 | Train recall: 0.6580 | Train f1score: 0.6673 | Train acc: 0.6682 | Train kappa: 0.9417 \n",
      "Val loss: 0.9100 | Val precision: 0.6074 | Val recall: 0.5990 | Val f1score: 0.5952 | Val acc: 0.6062 | Val kappa: 0.9009 \n",
      "\n",
      "Epoch: 17 \n",
      "Learning rate: 1.0022595757618546e-05\n",
      "Train loss: 0.7364 | Train precision: 0.6993 | Train recall: 0.6597 | Train f1score: 0.6694 | Train acc: 0.6723 | Train kappa: 0.9458 \n",
      "Val loss: 0.9032 | Val precision: 0.6161 | Val recall: 0.6027 | Val f1score: 0.6011 | Val acc: 0.6135 | Val kappa: 0.9049 \n",
      "\n",
      "Epoch: 18 \n",
      "Learning rate: 7.51694681821391e-06\n",
      "Train loss: 0.7337 | Train precision: 0.6930 | Train recall: 0.6571 | Train f1score: 0.6686 | Train acc: 0.6691 | Train kappa: 0.9431 \n",
      "Val loss: 0.9022 | Val precision: 0.6042 | Val recall: 0.6034 | Val f1score: 0.5989 | Val acc: 0.6115 | Val kappa: 0.9054 \n",
      "\n",
      "Epoch: 19 \n",
      "Learning rate: 5.637710113660432e-06\n",
      "Train loss: 0.7175 | Train precision: 0.6887 | Train recall: 0.6643 | Train f1score: 0.6726 | Train acc: 0.6782 | Train kappa: 0.9410 \n",
      "Val loss: 0.9071 | Val precision: 0.5946 | Val recall: 0.5829 | Val f1score: 0.5806 | Val acc: 0.6146 | Val kappa: 0.8971 \n",
      "\n",
      "Epoch: 20 \n",
      "Learning rate: 4.228282585245324e-06\n",
      "Train loss: 0.7311 | Train precision: 0.6827 | Train recall: 0.6536 | Train f1score: 0.6629 | Train acc: 0.6721 | Train kappa: 0.9404 \n",
      "Val loss: 0.9040 | Val precision: 0.5978 | Val recall: 0.5880 | Val f1score: 0.5847 | Val acc: 0.6083 | Val kappa: 0.9026 \n",
      "\n",
      "Epoch: 21 \n",
      "Learning rate: 3.1712119389339933e-06\n",
      "Train loss: 0.7191 | Train precision: 0.7071 | Train recall: 0.6670 | Train f1score: 0.6786 | Train acc: 0.6775 | Train kappa: 0.9484 \n",
      "Val loss: 0.9074 | Val precision: 0.5760 | Val recall: 0.5792 | Val f1score: 0.5688 | Val acc: 0.6042 | Val kappa: 0.8995 \n",
      "\n",
      "Epoch: 22 \n",
      "Learning rate: 2.378408954200495e-06\n",
      "Train loss: 0.7280 | Train precision: 0.7003 | Train recall: 0.6627 | Train f1score: 0.6724 | Train acc: 0.6745 | Train kappa: 0.9422 \n",
      "Val loss: 0.9072 | Val precision: 0.5987 | Val recall: 0.5965 | Val f1score: 0.5910 | Val acc: 0.6083 | Val kappa: 0.9091 \n",
      "\n",
      "Early stopping after epoch 22\n"
     ]
    },
    {
     "data": {
      "text/html": [
       "Waiting for W&B process to finish... <strong style=\"color:green\">(success).</strong>"
      ],
      "text/plain": [
       "<IPython.core.display.HTML object>"
      ]
     },
     "metadata": {},
     "output_type": "display_data"
    },
    {
     "data": {
      "application/vnd.jupyter.widget-view+json": {
       "model_id": "e490f6f7c6cc46a7b53d067d9b882627",
       "version_major": 2,
       "version_minor": 0
      },
      "text/plain": [
       "VBox(children=(Label(value='0.001 MB of 0.001 MB uploaded (0.000 MB deduped)\\r'), FloatProgress(value=1.0, max…"
      ]
     },
     "metadata": {},
     "output_type": "display_data"
    },
    {
     "data": {
      "text/html": [
       "<style>\n",
       "    table.wandb td:nth-child(1) { padding: 0 10px; text-align: left ; width: auto;} td:nth-child(2) {text-align: left ; width: 100%}\n",
       "    .wandb-row { display: flex; flex-direction: row; flex-wrap: wrap; justify-content: flex-start; width: 100% }\n",
       "    .wandb-col { display: flex; flex-direction: column; flex-basis: 100%; flex: 1; padding: 10px; }\n",
       "    </style>\n",
       "<div class=\"wandb-row\"><div class=\"wandb-col\"><h3>Run history:</h3><br/><table class=\"wandb\"><tr><td>learning_rate</td><td>█▆▅▄▃▃▂▂▂▂▁▁▁▁▁▁▁▁▁▁▁▁</td></tr><tr><td>train_f1_score</td><td>▁▃▅▅▆▆▆▇▇▇▇▇██████████</td></tr><tr><td>train_loss</td><td>█▅▄▄▃▂▂▂▂▂▁▁▁▁▁▁▁▁▁▁▁▁</td></tr><tr><td>val_f1_score</td><td>▁▂▅▅▇▆▆▇▇▇████▇███████</td></tr><tr><td>val_loss</td><td>█▄▂▂▁▂▁▁▂▁▁▁▁▁▁▁▁▁▁▁▁▁</td></tr></table><br/></div><div class=\"wandb-col\"><h3>Run summary:</h3><br/><table class=\"wandb\"><tr><td>learning_rate</td><td>0.0</td></tr><tr><td>train_f1_score</td><td>0.67241</td></tr><tr><td>train_loss</td><td>0.72805</td></tr><tr><td>val_f1_score</td><td>0.59101</td></tr><tr><td>val_loss</td><td>0.90721</td></tr></table><br/></div></div>"
      ],
      "text/plain": [
       "<IPython.core.display.HTML object>"
      ]
     },
     "metadata": {},
     "output_type": "display_data"
    },
    {
     "data": {
      "text/html": [
       " View run <strong style=\"color:#cdcd00\">fold_3_RGB-RE-NIR-11classes-combined_plotsplit</strong> at: <a href='https://wandb.ai/simon-ecke/wze-uav-combined-11classes/runs/yxauvyth' target=\"_blank\">https://wandb.ai/simon-ecke/wze-uav-combined-11classes/runs/yxauvyth</a><br/>Synced 5 W&B file(s), 0 media file(s), 0 artifact file(s) and 0 other file(s)"
      ],
      "text/plain": [
       "<IPython.core.display.HTML object>"
      ]
     },
     "metadata": {},
     "output_type": "display_data"
    },
    {
     "data": {
      "text/html": [
       "Find logs at: <code>.\\wandb\\run-20230526_180823-yxauvyth\\logs</code>"
      ],
      "text/plain": [
       "<IPython.core.display.HTML object>"
      ]
     },
     "metadata": {},
     "output_type": "display_data"
    },
    {
     "name": "stdout",
     "output_type": "stream",
     "text": [
      "Deleting variables and emptying cache\n",
      "Memory allocated: 1052865536 bytes\n",
      "--------------------------------------------------\n",
      "\n",
      "Fold : 4\n",
      "TRAIN POSITIVE RATIO: 3.4601372532407013\n",
      "VAL POSITIVE RATIO  : 3.64966584593739\n",
      "LENGTH TRAIN GROUPS : 158\n",
      "LENGTH VAL GROUPS   : 37\n"
     ]
    },
    {
     "data": {
      "text/html": [
       "wandb version 0.15.3 is available!  To upgrade, please run:\n",
       " $ pip install wandb --upgrade"
      ],
      "text/plain": [
       "<IPython.core.display.HTML object>"
      ]
     },
     "metadata": {},
     "output_type": "display_data"
    },
    {
     "data": {
      "text/html": [
       "Tracking run with wandb version 0.14.2"
      ],
      "text/plain": [
       "<IPython.core.display.HTML object>"
      ]
     },
     "metadata": {},
     "output_type": "display_data"
    },
    {
     "data": {
      "text/html": [
       "Run data is saved locally in <code>C:\\Users\\lwfeckesim\\01_PyTorch\\wze-uav\\wze-uav-master\\wandb\\run-20230526_195156-xj946x8s</code>"
      ],
      "text/plain": [
       "<IPython.core.display.HTML object>"
      ]
     },
     "metadata": {},
     "output_type": "display_data"
    },
    {
     "data": {
      "text/html": [
       "Syncing run <strong><a href='https://wandb.ai/simon-ecke/wze-uav-combined-11classes/runs/xj946x8s' target=\"_blank\">fold_4_RGB-RE-NIR-11classes-combined_plotsplit</a></strong> to <a href='https://wandb.ai/simon-ecke/wze-uav-combined-11classes' target=\"_blank\">Weights & Biases</a> (<a href='https://wandb.me/run' target=\"_blank\">docs</a>)<br/>"
      ],
      "text/plain": [
       "<IPython.core.display.HTML object>"
      ]
     },
     "metadata": {},
     "output_type": "display_data"
    },
    {
     "data": {
      "text/html": [
       " View project at <a href='https://wandb.ai/simon-ecke/wze-uav-combined-11classes' target=\"_blank\">https://wandb.ai/simon-ecke/wze-uav-combined-11classes</a>"
      ],
      "text/plain": [
       "<IPython.core.display.HTML object>"
      ]
     },
     "metadata": {},
     "output_type": "display_data"
    },
    {
     "data": {
      "text/html": [
       " View run at <a href='https://wandb.ai/simon-ecke/wze-uav-combined-11classes/runs/xj946x8s' target=\"_blank\">https://wandb.ai/simon-ecke/wze-uav-combined-11classes/runs/xj946x8s</a>"
      ],
      "text/plain": [
       "<IPython.core.display.HTML object>"
      ]
     },
     "metadata": {},
     "output_type": "display_data"
    },
    {
     "name": "stdout",
     "output_type": "stream",
     "text": [
      "There are no same hash_id values in train, val or test datasets. The datasplit was successful\n",
      "Check shapes:\n",
      "\n",
      "Images train dataset: (11803, 250, 250, 5)\n",
      "Labels train dataset: (11803, 1)\n",
      "\n",
      "Images validation dataset: (1054, 250, 250, 5)\n",
      "Labels validation dataset: (1054, 1)\n",
      "\n",
      "--------------------------------------------------\n",
      "Check if the split was stratified: (random_state=42)\n",
      "Picea abies healthy in train dataset: 3039\n",
      "Picea abies stressed in train dataset: 1752\n",
      "Pinus sylvestris healthy in train dataset: 1314\n",
      "Pinus sylvestris stressed in train dataset: 1570\n",
      "Abies alba healthy in train dataset: 344\n",
      "Abies alba stressed in train dataset: 117\n",
      "Fagus sylvatica healthy in train dataset: 980\n",
      "Fagus sylvatica stressed in train dataset: 767\n",
      "Quercus robur/petraea healthy in train dataset: 652\n",
      "Quercus robur/petraea stressed in train dataset: 383\n",
      "Larix spp. in train dataset: 343\n",
      "Acer spp. in train dataset: 212\n",
      "Betula pendula in train dataset: 175\n",
      "Dead trees in train dataset: 155\n",
      "Picea abies healthy in validation dataset: 225\n",
      "Picea abies stressed in validation dataset: 119\n",
      "Pinus sylvestris healthy in validation dataset: 172\n",
      "Pinus sylvestris stressed in validation dataset: 172\n",
      "Abies alba healthy in validation dataset: 41\n",
      "Abies alba stressed in validation dataset: 6\n",
      "Fagus sylvatica healthy in validation dataset: 126\n",
      "Fagus sylvatica stressed in validation dataset: 60\n",
      "Quercus robur/petraea healthy in validation dataset: 30\n",
      "Quercus robur/petraea stressed in validation dataset: 9\n",
      "Larix spp. in validation dataset: 39\n",
      "Acer spp. in validation dataset: 11\n",
      "Betula pendula in validation dataset: 20\n",
      "Dead trees in validation dataset: 24\n",
      "--------------------------------------------------\n",
      "\n",
      "Creating datasets for fold: 4\n",
      "\n",
      "Creating dataloaders for fold: 4\n",
      "\n",
      "Loaded pretrained weights for efficientnet-b7\n",
      "\n",
      "[INFO] Fold number: 4\n",
      "[INFO] Number of epochs: 50\n",
      "[INFO] Batch_size: 32\n",
      "[INFO] Number of bands: 5\n",
      "[INFO] Dropout rate: 0.5\n",
      "[INFO] Gamma learning rate: 0.75\n",
      "[INFO] Memory allocated: 0 bytes\n"
     ]
    },
    {
     "data": {
      "application/vnd.jupyter.widget-view+json": {
       "model_id": "01e17ddc4b564adab50737394b8c7b17",
       "version_major": 2,
       "version_minor": 0
      },
      "text/plain": [
       "  0%|          | 0/50 [00:00<?, ?it/s]"
      ]
     },
     "metadata": {},
     "output_type": "display_data"
    },
    {
     "name": "stdout",
     "output_type": "stream",
     "text": [
      "Epoch: 1 \n",
      "Learning rate: 0.001\n",
      "Train loss: 1.4805 | Train precision: 0.3407 | Train recall: 0.3112 | Train f1score: 0.3147 | Train acc: 0.4100 | Train kappa: 0.6890 \n",
      "Val loss: 2.3897 | Val precision: 0.1284 | Val recall: 0.1785 | Val f1score: 0.1159 | Val acc: 0.1354 | Val kappa: 0.3635 \n",
      "\n",
      "Epoch: 2 \n",
      "Learning rate: 0.00075\n",
      "Train loss: 1.2108 | Train precision: 0.4608 | Train recall: 0.4293 | Train f1score: 0.4333 | Train acc: 0.4984 | Train kappa: 0.8125 \n",
      "Val loss: 1.2832 | Val precision: 0.3870 | Val recall: 0.3797 | Val f1score: 0.3696 | Val acc: 0.4938 | Val kappa: 0.7150 \n",
      "\n",
      "Epoch: 3 \n",
      "Learning rate: 0.0005625000000000001\n",
      "Train loss: 1.0906 | Train precision: 0.5302 | Train recall: 0.4947 | Train f1score: 0.5040 | Train acc: 0.5342 | Train kappa: 0.8575 \n",
      "Val loss: 1.4663 | Val precision: 0.4255 | Val recall: 0.4205 | Val f1score: 0.3806 | Val acc: 0.4354 | Val kappa: 0.7565 \n",
      "\n",
      "Epoch: 4 \n",
      "Learning rate: 0.000421875\n",
      "Train loss: 1.0015 | Train precision: 0.5529 | Train recall: 0.5296 | Train f1score: 0.5334 | Train acc: 0.5654 | Train kappa: 0.8742 \n",
      "Val loss: 1.2349 | Val precision: 0.4607 | Val recall: 0.3859 | Val f1score: 0.3600 | Val acc: 0.4823 | Val kappa: 0.8182 \n",
      "\n",
      "Epoch: 5 \n",
      "Learning rate: 0.00031640625\n",
      "Train loss: 0.9586 | Train precision: 0.5764 | Train recall: 0.5477 | Train f1score: 0.5566 | Train acc: 0.5785 | Train kappa: 0.8848 \n",
      "Val loss: 1.1219 | Val precision: 0.4455 | Val recall: 0.4506 | Val f1score: 0.4336 | Val acc: 0.5260 | Val kappa: 0.8422 \n",
      "\n",
      "Epoch: 6 \n",
      "Learning rate: 0.0002373046875\n",
      "Train loss: 0.8962 | Train precision: 0.6048 | Train recall: 0.5826 | Train f1score: 0.5891 | Train acc: 0.6016 | Train kappa: 0.9019 \n",
      "Val loss: 1.1556 | Val precision: 0.4885 | Val recall: 0.4482 | Val f1score: 0.4100 | Val acc: 0.5521 | Val kappa: 0.8478 \n",
      "\n",
      "Epoch: 7 \n",
      "Learning rate: 0.000177978515625\n",
      "Train loss: 0.8736 | Train precision: 0.6152 | Train recall: 0.5918 | Train f1score: 0.5991 | Train acc: 0.6113 | Train kappa: 0.9038 \n",
      "Val loss: 1.0659 | Val precision: 0.4775 | Val recall: 0.4761 | Val f1score: 0.4597 | Val acc: 0.5500 | Val kappa: 0.8601 \n",
      "\n",
      "Epoch: 8 \n",
      "Learning rate: 0.00013348388671875\n",
      "Train loss: 0.8328 | Train precision: 0.6397 | Train recall: 0.6172 | Train f1score: 0.6235 | Train acc: 0.6355 | Train kappa: 0.9134 \n",
      "Val loss: 1.0872 | Val precision: 0.4836 | Val recall: 0.4876 | Val f1score: 0.4739 | Val acc: 0.5312 | Val kappa: 0.8568 \n",
      "\n",
      "Epoch: 9 \n",
      "Learning rate: 0.0001001129150390625\n",
      "Train loss: 0.8168 | Train precision: 0.6585 | Train recall: 0.6402 | Train f1score: 0.6460 | Train acc: 0.6413 | Train kappa: 0.9228 \n",
      "Val loss: 1.0861 | Val precision: 0.4692 | Val recall: 0.4822 | Val f1score: 0.4678 | Val acc: 0.5458 | Val kappa: 0.8566 \n",
      "\n",
      "Epoch: 10 \n",
      "Learning rate: 7.508468627929687e-05\n",
      "Train loss: 0.7916 | Train precision: 0.6511 | Train recall: 0.6302 | Train f1score: 0.6373 | Train acc: 0.6413 | Train kappa: 0.9249 \n",
      "Val loss: 1.0509 | Val precision: 0.4855 | Val recall: 0.4905 | Val f1score: 0.4807 | Val acc: 0.5531 | Val kappa: 0.8800 \n",
      "\n",
      "Epoch: 11 \n",
      "Learning rate: 5.6313514709472656e-05\n",
      "Train loss: 0.7751 | Train precision: 0.6623 | Train recall: 0.6464 | Train f1score: 0.6515 | Train acc: 0.6538 | Train kappa: 0.9316 \n",
      "Val loss: 1.0567 | Val precision: 0.4957 | Val recall: 0.4904 | Val f1score: 0.4875 | Val acc: 0.5594 | Val kappa: 0.8764 \n",
      "\n",
      "Epoch: 12 \n",
      "Learning rate: 4.223513603210449e-05\n",
      "Train loss: 0.7674 | Train precision: 0.6732 | Train recall: 0.6542 | Train f1score: 0.6608 | Train acc: 0.6561 | Train kappa: 0.9313 \n",
      "Val loss: 1.0995 | Val precision: 0.4883 | Val recall: 0.5109 | Val f1score: 0.4923 | Val acc: 0.5615 | Val kappa: 0.8548 \n",
      "\n",
      "Epoch: 13 \n",
      "Learning rate: 3.167635202407837e-05\n",
      "Train loss: 0.7501 | Train precision: 0.6836 | Train recall: 0.6636 | Train f1score: 0.6715 | Train acc: 0.6674 | Train kappa: 0.9317 \n",
      "Val loss: 1.0984 | Val precision: 0.4890 | Val recall: 0.5038 | Val f1score: 0.4883 | Val acc: 0.5625 | Val kappa: 0.8611 \n",
      "\n",
      "Epoch: 14 \n",
      "Learning rate: 2.3757264018058778e-05\n",
      "Train loss: 0.7263 | Train precision: 0.6957 | Train recall: 0.6773 | Train f1score: 0.6828 | Train acc: 0.6786 | Train kappa: 0.9434 \n",
      "Val loss: 1.0821 | Val precision: 0.4787 | Val recall: 0.4829 | Val f1score: 0.4729 | Val acc: 0.5552 | Val kappa: 0.8620 \n",
      "\n",
      "Epoch: 15 \n",
      "Learning rate: 1.7817948013544083e-05\n",
      "Train loss: 0.7354 | Train precision: 0.6896 | Train recall: 0.6675 | Train f1score: 0.6750 | Train acc: 0.6715 | Train kappa: 0.9382 \n",
      "Val loss: 1.0585 | Val precision: 0.4946 | Val recall: 0.4990 | Val f1score: 0.4901 | Val acc: 0.5771 | Val kappa: 0.8696 \n",
      "\n",
      "Epoch: 16 \n",
      "Learning rate: 1.3363461010158063e-05\n",
      "Train loss: 0.7363 | Train precision: 0.6886 | Train recall: 0.6649 | Train f1score: 0.6728 | Train acc: 0.6754 | Train kappa: 0.9362 \n",
      "Val loss: 1.0775 | Val precision: 0.4840 | Val recall: 0.4856 | Val f1score: 0.4761 | Val acc: 0.5604 | Val kappa: 0.8656 \n",
      "\n",
      "Epoch: 17 \n",
      "Learning rate: 1.0022595757618546e-05\n",
      "Train loss: 0.7327 | Train precision: 0.6930 | Train recall: 0.6732 | Train f1score: 0.6802 | Train acc: 0.6781 | Train kappa: 0.9394 \n",
      "Val loss: 1.0823 | Val precision: 0.4931 | Val recall: 0.5039 | Val f1score: 0.4898 | Val acc: 0.5656 | Val kappa: 0.8721 \n",
      "\n",
      "Epoch: 18 \n",
      "Learning rate: 7.51694681821391e-06\n",
      "Train loss: 0.7105 | Train precision: 0.7039 | Train recall: 0.6826 | Train f1score: 0.6903 | Train acc: 0.6787 | Train kappa: 0.9403 \n",
      "Val loss: 1.0933 | Val precision: 0.4982 | Val recall: 0.5148 | Val f1score: 0.4975 | Val acc: 0.5677 | Val kappa: 0.8717 \n",
      "\n",
      "Epoch: 19 \n",
      "Learning rate: 5.637710113660432e-06\n",
      "Train loss: 0.7265 | Train precision: 0.6930 | Train recall: 0.6753 | Train f1score: 0.6804 | Train acc: 0.6759 | Train kappa: 0.9352 \n",
      "Val loss: 1.0937 | Val precision: 0.4956 | Val recall: 0.5128 | Val f1score: 0.4970 | Val acc: 0.5656 | Val kappa: 0.8733 \n",
      "\n",
      "Epoch: 20 \n",
      "Learning rate: 4.228282585245324e-06\n",
      "Train loss: 0.7142 | Train precision: 0.6949 | Train recall: 0.6824 | Train f1score: 0.6865 | Train acc: 0.6848 | Train kappa: 0.9432 \n",
      "Val loss: 1.0866 | Val precision: 0.4968 | Val recall: 0.5046 | Val f1score: 0.4915 | Val acc: 0.5771 | Val kappa: 0.8727 \n",
      "\n",
      "Early stopping after epoch 20\n"
     ]
    },
    {
     "data": {
      "text/html": [
       "Waiting for W&B process to finish... <strong style=\"color:green\">(success).</strong>"
      ],
      "text/plain": [
       "<IPython.core.display.HTML object>"
      ]
     },
     "metadata": {},
     "output_type": "display_data"
    },
    {
     "data": {
      "application/vnd.jupyter.widget-view+json": {
       "model_id": "7e441a1073b34be88dcb59bdaf3d7d72",
       "version_major": 2,
       "version_minor": 0
      },
      "text/plain": [
       "VBox(children=(Label(value='0.001 MB of 0.001 MB uploaded (0.000 MB deduped)\\r'), FloatProgress(value=1.0, max…"
      ]
     },
     "metadata": {},
     "output_type": "display_data"
    },
    {
     "data": {
      "text/html": [
       "<style>\n",
       "    table.wandb td:nth-child(1) { padding: 0 10px; text-align: left ; width: auto;} td:nth-child(2) {text-align: left ; width: 100%}\n",
       "    .wandb-row { display: flex; flex-direction: row; flex-wrap: wrap; justify-content: flex-start; width: 100% }\n",
       "    .wandb-col { display: flex; flex-direction: column; flex-basis: 100%; flex: 1; padding: 10px; }\n",
       "    </style>\n",
       "<div class=\"wandb-row\"><div class=\"wandb-col\"><h3>Run history:</h3><br/><table class=\"wandb\"><tr><td>learning_rate</td><td>█▆▅▄▃▃▂▂▂▁▁▁▁▁▁▁▁▁▁▁</td></tr><tr><td>train_f1_score</td><td>▁▃▅▅▆▆▆▇▇▇▇▇████████</td></tr><tr><td>train_loss</td><td>█▆▄▄▃▃▂▂▂▂▂▂▁▁▁▁▁▁▁▁</td></tr><tr><td>val_f1_score</td><td>▁▆▆▅▇▆▇█▇███████████</td></tr><tr><td>val_loss</td><td>█▂▃▂▁▂▁▁▁▁▁▁▁▁▁▁▁▁▁▁</td></tr></table><br/></div><div class=\"wandb-col\"><h3>Run summary:</h3><br/><table class=\"wandb\"><tr><td>learning_rate</td><td>0.0</td></tr><tr><td>train_f1_score</td><td>0.68649</td></tr><tr><td>train_loss</td><td>0.71423</td></tr><tr><td>val_f1_score</td><td>0.49147</td></tr><tr><td>val_loss</td><td>1.08655</td></tr></table><br/></div></div>"
      ],
      "text/plain": [
       "<IPython.core.display.HTML object>"
      ]
     },
     "metadata": {},
     "output_type": "display_data"
    },
    {
     "data": {
      "text/html": [
       " View run <strong style=\"color:#cdcd00\">fold_4_RGB-RE-NIR-11classes-combined_plotsplit</strong> at: <a href='https://wandb.ai/simon-ecke/wze-uav-combined-11classes/runs/xj946x8s' target=\"_blank\">https://wandb.ai/simon-ecke/wze-uav-combined-11classes/runs/xj946x8s</a><br/>Synced 5 W&B file(s), 0 media file(s), 0 artifact file(s) and 0 other file(s)"
      ],
      "text/plain": [
       "<IPython.core.display.HTML object>"
      ]
     },
     "metadata": {},
     "output_type": "display_data"
    },
    {
     "data": {
      "text/html": [
       "Find logs at: <code>.\\wandb\\run-20230526_195156-xj946x8s\\logs</code>"
      ],
      "text/plain": [
       "<IPython.core.display.HTML object>"
      ]
     },
     "metadata": {},
     "output_type": "display_data"
    },
    {
     "name": "stdout",
     "output_type": "stream",
     "text": [
      "Deleting variables and emptying cache\n",
      "Memory allocated: 1054688256 bytes\n",
      "--------------------------------------------------\n",
      "\n",
      "Fold : 5\n",
      "TRAIN POSITIVE RATIO: 3.5623682361208715\n",
      "VAL POSITIVE RATIO  : 3.2685469037400368\n",
      "LENGTH TRAIN GROUPS : 152\n",
      "LENGTH VAL GROUPS   : 43\n"
     ]
    },
    {
     "data": {
      "text/html": [
       "wandb version 0.15.3 is available!  To upgrade, please run:\n",
       " $ pip install wandb --upgrade"
      ],
      "text/plain": [
       "<IPython.core.display.HTML object>"
      ]
     },
     "metadata": {},
     "output_type": "display_data"
    },
    {
     "data": {
      "text/html": [
       "Tracking run with wandb version 0.14.2"
      ],
      "text/plain": [
       "<IPython.core.display.HTML object>"
      ]
     },
     "metadata": {},
     "output_type": "display_data"
    },
    {
     "data": {
      "text/html": [
       "Run data is saved locally in <code>C:\\Users\\lwfeckesim\\01_PyTorch\\wze-uav\\wze-uav-master\\wandb\\run-20230526_212645-btol1wdc</code>"
      ],
      "text/plain": [
       "<IPython.core.display.HTML object>"
      ]
     },
     "metadata": {},
     "output_type": "display_data"
    },
    {
     "data": {
      "text/html": [
       "Syncing run <strong><a href='https://wandb.ai/simon-ecke/wze-uav-combined-11classes/runs/btol1wdc' target=\"_blank\">fold_5_RGB-RE-NIR-11classes-combined_plotsplit</a></strong> to <a href='https://wandb.ai/simon-ecke/wze-uav-combined-11classes' target=\"_blank\">Weights & Biases</a> (<a href='https://wandb.me/run' target=\"_blank\">docs</a>)<br/>"
      ],
      "text/plain": [
       "<IPython.core.display.HTML object>"
      ]
     },
     "metadata": {},
     "output_type": "display_data"
    },
    {
     "data": {
      "text/html": [
       " View project at <a href='https://wandb.ai/simon-ecke/wze-uav-combined-11classes' target=\"_blank\">https://wandb.ai/simon-ecke/wze-uav-combined-11classes</a>"
      ],
      "text/plain": [
       "<IPython.core.display.HTML object>"
      ]
     },
     "metadata": {},
     "output_type": "display_data"
    },
    {
     "data": {
      "text/html": [
       " View run at <a href='https://wandb.ai/simon-ecke/wze-uav-combined-11classes/runs/btol1wdc' target=\"_blank\">https://wandb.ai/simon-ecke/wze-uav-combined-11classes/runs/btol1wdc</a>"
      ],
      "text/plain": [
       "<IPython.core.display.HTML object>"
      ]
     },
     "metadata": {},
     "output_type": "display_data"
    },
    {
     "name": "stdout",
     "output_type": "stream",
     "text": [
      "There are no same hash_id values in train, val or test datasets. The datasplit was successful\n",
      "Check shapes:\n",
      "\n",
      "Images train dataset: (11384, 250, 250, 5)\n",
      "Labels train dataset: (11384, 1)\n",
      "\n",
      "Images validation dataset: (1215, 250, 250, 5)\n",
      "Labels validation dataset: (1215, 1)\n",
      "\n",
      "--------------------------------------------------\n",
      "Check if the split was stratified: (random_state=42)\n",
      "Picea abies healthy in train dataset: 2550\n",
      "Picea abies stressed in train dataset: 1654\n",
      "Pinus sylvestris healthy in train dataset: 1521\n",
      "Pinus sylvestris stressed in train dataset: 1717\n",
      "Abies alba healthy in train dataset: 267\n",
      "Abies alba stressed in train dataset: 95\n",
      "Fagus sylvatica healthy in train dataset: 978\n",
      "Fagus sylvatica stressed in train dataset: 804\n",
      "Quercus robur/petraea healthy in train dataset: 566\n",
      "Quercus robur/petraea stressed in train dataset: 294\n",
      "Larix spp. in train dataset: 407\n",
      "Acer spp. in train dataset: 137\n",
      "Betula pendula in train dataset: 205\n",
      "Dead trees in train dataset: 189\n",
      "Picea abies healthy in validation dataset: 353\n",
      "Picea abies stressed in validation dataset: 183\n",
      "Pinus sylvestris healthy in validation dataset: 102\n",
      "Pinus sylvestris stressed in validation dataset: 125\n",
      "Abies alba healthy in validation dataset: 78\n",
      "Abies alba stressed in validation dataset: 19\n",
      "Fagus sylvatica healthy in validation dataset: 119\n",
      "Fagus sylvatica stressed in validation dataset: 50\n",
      "Quercus robur/petraea healthy in validation dataset: 63\n",
      "Quercus robur/petraea stressed in validation dataset: 45\n",
      "Larix spp. in validation dataset: 11\n",
      "Acer spp. in validation dataset: 48\n",
      "Betula pendula in validation dataset: 9\n",
      "Dead trees in validation dataset: 10\n",
      "--------------------------------------------------\n",
      "\n",
      "Creating datasets for fold: 5\n",
      "\n",
      "Creating dataloaders for fold: 5\n",
      "\n",
      "Loaded pretrained weights for efficientnet-b7\n",
      "\n",
      "[INFO] Fold number: 5\n",
      "[INFO] Number of epochs: 50\n",
      "[INFO] Batch_size: 32\n",
      "[INFO] Number of bands: 5\n",
      "[INFO] Dropout rate: 0.5\n",
      "[INFO] Gamma learning rate: 0.75\n",
      "[INFO] Memory allocated: 0 bytes\n"
     ]
    },
    {
     "data": {
      "application/vnd.jupyter.widget-view+json": {
       "model_id": "68c2bb4a152d48978674e2bbe884ce21",
       "version_major": 2,
       "version_minor": 0
      },
      "text/plain": [
       "  0%|          | 0/50 [00:00<?, ?it/s]"
      ]
     },
     "metadata": {},
     "output_type": "display_data"
    },
    {
     "name": "stdout",
     "output_type": "stream",
     "text": [
      "Epoch: 1 \n",
      "Learning rate: 0.001\n",
      "Train loss: 1.5163 | Train precision: 0.3233 | Train recall: 0.2956 | Train f1score: 0.2990 | Train acc: 0.3969 | Train kappa: 0.6802 \n",
      "Val loss: 2.1701 | Val precision: 0.1721 | Val recall: 0.2048 | Val f1score: 0.1504 | Val acc: 0.2562 | Val kappa: 0.5543 \n",
      "\n",
      "Epoch: 2 \n",
      "Learning rate: 0.00075\n",
      "Train loss: 1.2016 | Train precision: 0.4544 | Train recall: 0.4209 | Train f1score: 0.4242 | Train acc: 0.4832 | Train kappa: 0.8071 \n",
      "Val loss: 1.9937 | Val precision: 0.2010 | Val recall: 0.2446 | Val f1score: 0.1473 | Val acc: 0.2277 | Val kappa: 0.3079 \n",
      "\n",
      "Epoch: 3 \n",
      "Learning rate: 0.0005625000000000001\n",
      "Train loss: 1.0701 | Train precision: 0.5147 | Train recall: 0.4810 | Train f1score: 0.4777 | Train acc: 0.5375 | Train kappa: 0.8476 \n",
      "Val loss: 1.6972 | Val precision: 0.3774 | Val recall: 0.3449 | Val f1score: 0.2808 | Val acc: 0.3964 | Val kappa: 0.5964 \n",
      "\n",
      "Epoch: 4 \n",
      "Learning rate: 0.000421875\n",
      "Train loss: 1.0153 | Train precision: 0.5410 | Train recall: 0.5215 | Train f1score: 0.5225 | Train acc: 0.5556 | Train kappa: 0.8663 \n",
      "Val loss: 1.3077 | Val precision: 0.4882 | Val recall: 0.4639 | Val f1score: 0.4185 | Val acc: 0.5071 | Val kappa: 0.7915 \n",
      "\n",
      "Epoch: 5 \n",
      "Learning rate: 0.00031640625\n",
      "Train loss: 0.9569 | Train precision: 0.5669 | Train recall: 0.5459 | Train f1score: 0.5492 | Train acc: 0.5749 | Train kappa: 0.8767 \n",
      "Val loss: 1.0678 | Val precision: 0.4654 | Val recall: 0.5111 | Val f1score: 0.4659 | Val acc: 0.5804 | Val kappa: 0.8428 \n",
      "\n"
     ]
    }
   ],
   "source": [
    "%%time\n",
    "\n",
    "# Set the random seeds\n",
    "set_seeds(42)\n",
    "\n",
    "# Define the number of folds\n",
    "num_folds = 5\n",
    "\n",
    "# group the hashIDs to get the unique values of hashIDs remaining in the subset  \n",
    "groups = sub_hash_id[:, 0] \n",
    "print(\"ORIGINAL POSITIVE RATIO:\", sub_label_set.mean())\n",
    "# create a StratifiedGroupKFold instance\n",
    "kf = StratifiedGroupKFold(n_splits=num_folds, shuffle=True, random_state=42)\n",
    "\n",
    "# loop through the folds\n",
    "for fold, (train_ids, val_ids) in enumerate(kf.split(sub_image_set, sub_label_set, groups)):\n",
    "    print(\"Fold :\", fold+1)\n",
    "    print(\"TRAIN POSITIVE RATIO:\", sub_label_set[train_ids].mean())\n",
    "    print(\"VAL POSITIVE RATIO  :\", sub_label_set[val_ids].mean())\n",
    "    print(\"LENGTH TRAIN GROUPS :\", len(set(groups[train_ids])))\n",
    "    print(\"LENGTH VAL GROUPS   :\", len(set(groups[val_ids])))\n",
    "    \n",
    "    train_ids = sub_hash_id[:, 0][train_ids]\n",
    "    val_ids = np.unique(sub_hash_id[:, 0][val_ids])\n",
    "\n",
    "    torch.cuda.empty_cache()\n",
    "    \n",
    "    # Initialize a new wandb run for this fold\n",
    "    wandb.init(project='wze-uav-combined-11classes', name=f\"fold_{fold + 1}_{extra}\")\n",
    "    \n",
    "    # 1. Split data into train and validation set\n",
    "    # Get the training and testing data for this fold\n",
    "    # Use np.isin() to create boolean arrays indicating which indices belong to train or test sets\n",
    "    train_indices = np.isin(sub_hash_id[:,0], train_ids)\n",
    "    \n",
    "    val_indices = np.zeros_like(train_indices)  # initialize to all False\n",
    "    for hash_id_val in val_ids:\n",
    "        # select one image ID randomly from either 2020 or 2021 or 2022 for each unique hash ID in the test set\n",
    "        temp = np.unique(sub_hash_id[(sub_hash_id[:, 0] == hash_id_val), 1]) # check how many years are available per hashID\n",
    "        if len(temp) == 1:\n",
    "            year = temp[0]\n",
    "        elif len(temp) == 2:\n",
    "            year = np.random.choice(temp)\n",
    "        else:\n",
    "            year = np.random.choice(temp)\n",
    "        \n",
    "        # select image ID using the conditions\n",
    "        image_ids = sub_hash_id[(sub_hash_id[:,0] == hash_id_val) & (sub_hash_id[:,1] == year), 0]\n",
    "    \n",
    "        # mark the index corresponding to the selected image ID and hash ID as True in the test indices array\n",
    "        val_indices[(sub_hash_id[:,0] == hash_id_val) & (sub_hash_id[:,1] == year) & (np.isin(sub_hash_id[:,0], image_ids))] = True \n",
    "    \n",
    "    # Reshape boolean arrays to match shape of image_set and label_set\n",
    "    train_indices = train_indices.reshape(-1, 1)\n",
    "    val_indices = val_indices.reshape(-1, 1)\n",
    "    \n",
    "    # Select images and labels for train and validation sets\n",
    "    train_image_set = sub_image_set[train_indices[:, 0]]\n",
    "    train_label_set = sub_label_set[train_indices[:, 0]]\n",
    "    train_hash_id = sub_hash_id[train_indices[:, 0]][:,0]\n",
    "    train_species_set = sub_species_set[train_indices[:, 0]]\n",
    "    val_image_set = sub_image_set[val_indices[:, 0]]\n",
    "    val_label_set = sub_label_set[val_indices[:, 0]]\n",
    "    val_hash_id = sub_hash_id[val_indices[:, 0]][:,0]\n",
    "    val_species_set = sub_species_set[val_indices[:, 0]]\n",
    "    # reshape \n",
    "    train_label_set = train_label_set.reshape(-1, 1)\n",
    "    val_label_set = val_label_set.reshape(-1, 1)\n",
    "    train_species_set = train_species_set.reshape(-1, 1)\n",
    "    val_species_set = val_species_set.reshape(-1, 1)\n",
    "    \n",
    "    # check if there are any group overlaps between the data splits\n",
    "    hash_set = set(train_hash_id)\n",
    "    val_hash_set = set(val_hash_id)\n",
    "    test_hash_set = set(test_hash_id[:, 0].flatten())\n",
    "    intersection = hash_set.intersection(val_hash_set)\n",
    "    intersection2 = test_hash_set.intersection(val_hash_set)\n",
    "    intersection3 = hash_set.intersection(test_hash_set)\n",
    "    if intersection:\n",
    "        print(f\"Hash_id values in both train and val sets: {len(intersection)}\")\n",
    "        print(f\"Hash_id values in both test and val sets: {len(intersection2)}\")\n",
    "        print(f\"Hash_id values in both train and test sets: {len(intersection3)}\")\n",
    "    else:\n",
    "        print(\"There are no same hash_id values in train, val or test datasets. The datasplit was successful\")\n",
    "    \n",
    "         \n",
    "    print(\"Check shapes:\\n\")\n",
    "    print(f\"Images train dataset: {train_image_set.shape}\")\n",
    "    print(f\"Labels train dataset: {train_label_set.shape}\\n\")\n",
    "    \n",
    "    print(f\"Images validation dataset: {val_image_set.shape}\")\n",
    "    print(f\"Labels validation dataset: {val_label_set.shape}\\n\")\n",
    "    print('-'*50)\n",
    "    print (f\"Check if the split was stratified: (random_state=42)\")\n",
    "    print(f\"Picea abies healthy in train dataset: {np.count_nonzero(train_label_set == 0)}\")\n",
    "    print(f\"Picea abies stressed in train dataset: {np.count_nonzero(train_label_set == 1)}\")\n",
    "    print(f\"Pinus sylvestris healthy in train dataset: {np.count_nonzero(train_label_set == 2)}\")\n",
    "    print(f\"Pinus sylvestris stressed in train dataset: {np.count_nonzero(train_label_set == 3)}\")\n",
    "    print(f\"Abies alba healthy in train dataset: {np.count_nonzero(train_label_set == 4)}\")\n",
    "    print(f\"Abies alba stressed in train dataset: {np.count_nonzero(train_label_set == 5)}\")\n",
    "    print(f\"Fagus sylvatica healthy in train dataset: {np.count_nonzero(train_label_set == 6)}\")\n",
    "    print(f\"Fagus sylvatica stressed in train dataset: {np.count_nonzero(train_label_set == 7)}\")\n",
    "    print(f\"Quercus robur/petraea healthy in train dataset: {np.count_nonzero(train_label_set == 8)}\")\n",
    "    print(f\"Quercus robur/petraea stressed in train dataset: {np.count_nonzero(train_label_set == 9)}\")\n",
    "    print(f\"Larix spp. in train dataset: {np.count_nonzero(train_label_set == 10)}\")\n",
    "    print(f\"Acer spp. in train dataset: {np.count_nonzero(train_label_set == 11)}\")\n",
    "    print(f\"Betula pendula in train dataset: {np.count_nonzero(train_label_set == 12)}\")\n",
    "    print(f\"Dead trees in train dataset: {np.count_nonzero(train_label_set == 13)}\")\n",
    "    print(f\"Picea abies healthy in validation dataset: {np.count_nonzero(val_label_set == 0)}\")\n",
    "    print(f\"Picea abies stressed in validation dataset: {np.count_nonzero(val_label_set == 1)}\")\n",
    "    print(f\"Pinus sylvestris healthy in validation dataset: {np.count_nonzero(val_label_set == 2)}\")\n",
    "    print(f\"Pinus sylvestris stressed in validation dataset: {np.count_nonzero(val_label_set == 3)}\")\n",
    "    print(f\"Abies alba healthy in validation dataset: {np.count_nonzero(val_label_set == 4)}\")\n",
    "    print(f\"Abies alba stressed in validation dataset: {np.count_nonzero(val_label_set == 5)}\")\n",
    "    print(f\"Fagus sylvatica healthy in validation dataset: {np.count_nonzero(val_label_set == 6)}\")\n",
    "    print(f\"Fagus sylvatica stressed in validation dataset: {np.count_nonzero(val_label_set == 7)}\")\n",
    "    print(f\"Quercus robur/petraea healthy in validation dataset: {np.count_nonzero(val_label_set == 8)}\")\n",
    "    print(f\"Quercus robur/petraea stressed in validation dataset: {np.count_nonzero(val_label_set == 9)}\")\n",
    "    print(f\"Larix spp. in validation dataset: {np.count_nonzero(val_label_set == 10)}\")\n",
    "    print(f\"Acer spp. in validation dataset: {np.count_nonzero(val_label_set == 11)}\")\n",
    "    print(f\"Betula pendula in validation dataset: {np.count_nonzero(val_label_set == 12)}\")\n",
    "    print(f\"Dead trees in validation dataset: {np.count_nonzero(val_label_set == 13)}\")\n",
    "    #print(f\"Ratio health trees in validation dataset: {np.count_nonzero(val_label_set == 0)/np.count_nonzero(sub_label_set == 0)}\")\n",
    "    #print(f\"Ratio moderately stressed trees in validation dataset: {np.count_nonzero(val_label_set == 1)/np.count_nonzero(sub_label_set == 1)}\")\n",
    "    #print(f\"Ratio severely stressed trees in validation dataset: {np.count_nonzero(val_label_set == 1)/np.count_nonzero(sub_label_set == 2)}\")\n",
    "    #print(f\"Ratio dead trees in validation dataset: {np.count_nonzero(val_label_set == 2)/np.count_nonzero(sub_label_set == 3)}\")\n",
    "    print(\"-\"*50)\n",
    "   \n",
    "    # 2. Create train and validation dataset. (choose custom dataset loader with 3 - 5 classes)\n",
    "    print(f\"\\nCreating datasets for fold: {fold + 1}\\n\")\n",
    "    train_dataset = data_loader.FilteredDataset(data=train_image_set, labels=train_label_set, class_names=class_names, species = train_species_set,\n",
    "                                                         transform=transform_train)\n",
    "    \n",
    "    val_dataset = data_loader.FilteredDataset(data=val_image_set, labels=val_label_set, class_names=class_names,\n",
    "                                                       species = val_species_set, transform=transform)\n",
    "   \n",
    "    # 3. Create train and validation dataloader\n",
    "    # create sampler for oversampling of the minority classes\n",
    "    sampler = data_loader.data_sampler(dataset=train_dataset, class_names=class_names)\n",
    "    print(f\"Creating dataloaders for fold: {fold +1}\\n\")\n",
    "    train_dataloader = DataLoader(train_dataset, batch_size=batch_size, persistent_workers=True, pin_memory=True, num_workers=NUM_WORKERS, generator=g,\n",
    "                              sampler=sampler, shuffle=False, drop_last=True) # shuffle false because of the sampler\n",
    "\n",
    "    val_dataloader = DataLoader(val_dataset, batch_size=batch_size, persistent_workers=True, pin_memory=True, num_workers=NUM_WORKERS, shuffle=False,\n",
    "                             drop_last=True)\n",
    "    \n",
    "    model = model_effnet.EfficientNet.from_pretrained('efficientnet-b7', in_channels=n_bands, num_classes=num_classes, dropout_rate=dropout_rate)\n",
    "    #model = models.create_effnetb7(output_shape=num_classes, unfreeze=True, dropout_rate=dropout_rate, device=device)\n",
    "   \n",
    "    loss_fn = nn.CrossEntropyLoss()\n",
    "    optimizer = torch.optim.Adam(params=model.parameters(), lr=lr)\n",
    "    lr_scheduler = CustomExponentialLR(optimizer, gamma=gamma, min_lr=min_lr)\n",
    "\n",
    "    fold += 1\n",
    "    print(f\"\\n[INFO] Fold number: {fold}\")\n",
    "    print(f\"[INFO] Number of epochs: {epochs}\")\n",
    "    print(f\"[INFO] Batch_size: {batch_size}\")\n",
    "    print(f\"[INFO] Number of bands: {n_bands}\")\n",
    "    print(f\"[INFO] Dropout rate: {dropout_rate}\")\n",
    "    print(f\"[INFO] Gamma learning rate: {gamma}\")\n",
    "    print(f\"[INFO] Memory allocated: {torch.cuda.memory_allocated()} bytes\")\n",
    "    # 4. Train model with k fold dataloaders and track experiments\n",
    "    \n",
    "    if fold == 1:\n",
    "        fold1_results = train(model=model, model_name=model_name, n_bands=n_bands, batch_size=batch_size,train_dataloader=train_dataloader, val_dataloader=val_dataloader, \n",
    "                        optimizer=optimizer, loss_fn=loss_fn, lr_scheduler=lr_scheduler, num_classes=num_classes, epochs=epochs, experiment_num=fold, device=device,\n",
    "                        writer=None, early_stop_patience = patience)\n",
    "       \n",
    "    elif fold == 2:\n",
    "        fold2_results = train(model=model, model_name=model_name, n_bands=n_bands, batch_size=batch_size,train_dataloader=train_dataloader, val_dataloader=val_dataloader, \n",
    "                        optimizer=optimizer, loss_fn=loss_fn, lr_scheduler=lr_scheduler, num_classes=num_classes, epochs=epochs, experiment_num=fold, device=device,\n",
    "                        writer=None, early_stop_patience = patience)\n",
    "    elif fold == 3:\n",
    "        fold3_results = train(model=model, model_name=model_name, n_bands=n_bands, batch_size=batch_size,train_dataloader=train_dataloader, val_dataloader=val_dataloader, \n",
    "                        optimizer=optimizer, loss_fn=loss_fn, lr_scheduler=lr_scheduler, num_classes=num_classes, epochs=epochs, experiment_num=fold, device=device,\n",
    "                        writer=None, early_stop_patience = patience)\n",
    "    elif fold == 4:\n",
    "        fold4_results = train(model=model, model_name=model_name, n_bands=n_bands, batch_size=batch_size,train_dataloader=train_dataloader, val_dataloader=val_dataloader, \n",
    "                        optimizer=optimizer, loss_fn=loss_fn, lr_scheduler=lr_scheduler, num_classes=num_classes, epochs=epochs, experiment_num=fold, device=device,\n",
    "                        writer=None, early_stop_patience = patience)\n",
    "    else:\n",
    "        fold5_results = train(model=model, model_name=model_name, n_bands=n_bands, batch_size=batch_size,train_dataloader=train_dataloader, val_dataloader=val_dataloader, \n",
    "                        optimizer=optimizer, loss_fn=loss_fn, lr_scheduler=lr_scheduler, num_classes=num_classes, epochs=epochs, experiment_num=fold, device=device,\n",
    "                        writer=None, early_stop_patience = patience)\n",
    "    \n",
    "    del train_indices, val_indices, train_image_set, train_label_set, train_hash_id, train_species_set, val_image_set, val_label_set, val_hash_id, val_species_set,\n",
    "    train_dataset, val_dataset, sampler, train_dataloader, val_dataloader, model, loss_fn, optimizer, lr_scheduler\n",
    "    \n",
    "    #finish the wandb run\n",
    "    wandb.finish()\n",
    "    print(\"Deleting variables and emptying cache\")\n",
    "    gc.collect()\n",
    "    torch.cuda.empty_cache()\n",
    "    print(f\"Memory allocated: {torch.cuda.memory_allocated()} bytes\")\n",
    "    print(\"-\"*50 + \"\\n\")"
   ]
  },
  {
   "cell_type": "markdown",
   "id": "609fc3db",
   "metadata": {},
   "source": [
    "#### Create test dataset and test dataloader "
   ]
  },
  {
   "cell_type": "code",
   "execution_count": 116,
   "id": "0530d99a",
   "metadata": {},
   "outputs": [],
   "source": [
    "import numpy as np\n",
    "\n",
    "class FilteredDatasetv6(Dataset):\n",
    "    def __init__(self, data, labels, species=None, class_names=None, kkl=None, transform=None):\n",
    "        self.data = data\n",
    "        self.species = species\n",
    "        self.class_names = class_names\n",
    "        self.kkl = kkl\n",
    "        self.transform = transform\n",
    "\n",
    "        self.filtered_indices, self.filtered_labels = self._filter_indices_and_labels(labels)\n",
    "\n",
    "    def _filter_indices_and_labels(self, labels):\n",
    "        filtered_indices = []\n",
    "        filtered_labels = []\n",
    "        for i, label in enumerate(labels):\n",
    "            if label not in [10, 11, 12]:\n",
    "                filtered_indices.append(i)\n",
    "                if label == 13:\n",
    "                    filtered_labels.append(10)\n",
    "                else:\n",
    "                    filtered_labels.append(label)\n",
    "\n",
    "        return filtered_indices, np.array(filtered_labels, dtype=object)\n",
    "\n",
    "    def __len__(self) -> int:\n",
    "        return len(self.filtered_indices)\n",
    "\n",
    "    def __getitem__(self, index: int) -> Tuple[torch.Tensor, int, int]:\n",
    "        filtered_index = self.filtered_indices[index]\n",
    "        img = self.data[filtered_index]\n",
    "        label = self.filtered_labels[index]\n",
    "        species = self.species[filtered_index]\n",
    "        label = int(label)\n",
    "        species = int(species)\n",
    "\n",
    "        if self.transform:\n",
    "            return self.transform(img), label, species\n",
    "        else:\n",
    "            return img, label, species\n",
    "\n",
    "    @property\n",
    "    def labels(self):\n",
    "        return np.array(self.filtered_labels.tolist(), dtype=np.int32).reshape(-1, 1)\n",
    "\n"
   ]
  },
  {
   "cell_type": "code",
   "execution_count": 117,
   "id": "c0c36ebb",
   "metadata": {},
   "outputs": [],
   "source": [
    "# create test dataset\n",
    "test_dataset = FilteredDatasetv6(\n",
    "    data = test_image_set,\n",
    "    labels = test_label_set,\n",
    "    class_names=class_names, \n",
    "    species = test_species_set,\n",
    "    kkl = None,\n",
    "    transform=transform\n",
    ")\n",
    "\n",
    "# create test dataloader\n",
    "test_dataloader = DataLoader(test_dataset,\n",
    "                             batch_size=batch_size,\n",
    "                             persistent_workers=True,\n",
    "                             pin_memory=True,\n",
    "                             num_workers=NUM_WORKERS,\n",
    "                             shuffle=False,\n",
    "                             drop_last=False)"
   ]
  },
  {
   "cell_type": "code",
   "execution_count": 118,
   "id": "414f367e",
   "metadata": {},
   "outputs": [
    {
     "data": {
      "text/plain": [
       "3"
      ]
     },
     "execution_count": 118,
     "metadata": {},
     "output_type": "execute_result"
    }
   ],
   "source": [
    "test_dataset[100][1]"
   ]
  },
  {
   "cell_type": "code",
   "execution_count": 119,
   "id": "88b1322e",
   "metadata": {},
   "outputs": [
    {
     "name": "stdout",
     "output_type": "stream",
     "text": [
      "Unique values: [ 0  1  2  3  4  5  6  7  8  9 10]\n",
      "Number of unique values: 11\n"
     ]
    },
    {
     "name": "stderr",
     "output_type": "stream",
     "text": [
      "C:\\Users\\lwfeckesim\\AppData\\Local\\Temp\\2\\ipykernel_22800\\2072873391.py:44: DeprecationWarning: setting an array element with a sequence. This was supported in some cases where the elements are arrays with a single element. For example `np.array([1, np.array([2])], dtype=int)`. In the future this will raise the same ValueError as `np.array([1, [2]], dtype=int)`.\n",
      "  return np.array(self.filtered_labels.tolist(), dtype=np.int32).reshape(-1, 1)\n"
     ]
    }
   ],
   "source": [
    "# Get the unique values\n",
    "unique_values = np.unique(test_dataset.labels)\n",
    "\n",
    "# Get the number of unique values\n",
    "num_unique_values = len(unique_values)\n",
    "\n",
    "print(\"Unique values:\", unique_values)\n",
    "print(\"Number of unique values:\", num_unique_values)"
   ]
  },
  {
   "cell_type": "markdown",
   "id": "22cdaac7",
   "metadata": {},
   "source": [
    "#### Perform ensembling of the five best models"
   ]
  },
  {
   "cell_type": "code",
   "execution_count": 25,
   "id": "67db5af2",
   "metadata": {},
   "outputs": [
    {
     "name": "stdout",
     "output_type": "stream",
     "text": [
      "Loaded pretrained weights for efficientnet-b7\n",
      "Loaded pretrained weights for efficientnet-b7\n",
      "Loaded pretrained weights for efficientnet-b7\n",
      "Loaded pretrained weights for efficientnet-b7\n",
      "Loaded pretrained weights for efficientnet-b7\n",
      "              precision    recall  f1-score   support\n",
      "\n",
      "           0       0.81      0.82      0.81       338\n",
      "           1       0.68      0.63      0.66       147\n",
      "           2       0.36      0.51      0.42       107\n",
      "           3       0.62      0.57      0.60       166\n",
      "           4       0.46      0.58      0.51        19\n",
      "           5       0.83      0.33      0.48        15\n",
      "           6       0.56      0.57      0.56        76\n",
      "           7       0.53      0.61      0.57        44\n",
      "           8       0.60      0.61      0.60        61\n",
      "           9       0.39      0.35      0.37        20\n",
      "          10       0.65      0.53      0.59        45\n",
      "          11       0.40      0.10      0.16        20\n",
      "          12       0.60      0.46      0.52        13\n",
      "          13       0.97      0.90      0.93        31\n",
      "\n",
      "    accuracy                           0.64      1102\n",
      "   macro avg       0.60      0.54      0.56      1102\n",
      "weighted avg       0.66      0.64      0.64      1102\n",
      "\n",
      "[[277  40   9   2   3   0   2   1   0   0   3   0   1   0]\n",
      " [ 43  93   3   2   0   0   0   0   0   0   6   0   0   0]\n",
      " [  2   0  55  47   1   0   0   0   1   0   1   0   0   0]\n",
      " [  2   0  67  95   0   0   0   0   0   0   1   0   0   1]\n",
      " [  4   0   1   0  11   1   1   1   0   0   0   0   0   0]\n",
      " [  2   1   0   1   5   5   0   0   0   0   1   0   0   0]\n",
      " [  5   0   3   0   0   0  43  15   8   1   0   0   1   0]\n",
      " [  1   0   1   0   0   0   9  27   2   3   0   0   1   0]\n",
      " [  1   0   1   0   0   0   8   4  37   7   0   2   1   0]\n",
      " [  0   0   0   0   0   0   0   2  10   7   0   1   0   0]\n",
      " [  1   2  10   3   4   0   1   0   0   0  24   0   0   0]\n",
      " [  2   0   2   0   0   0   9   1   4   0   0   2   0   0]\n",
      " [  1   0   0   1   0   0   4   0   0   0   1   0   6   0]\n",
      " [  2   0   0   1   0   0   0   0   0   0   0   0   0  28]]\n"
     ]
    }
   ],
   "source": [
    "# Setup the best model filepaths\n",
    "best_model1_path = r\"C:\\Users\\lwfeckesim\\01_PyTorch\\wze-uav\\wze-uav-master\\models\\EffNet_b7_RGB-RE-NIR-CHM-14classes-combined_plotsplit\\1_EffNet_b7_RGB-RE-NIR-CHM-14classes-combined_plotsplit_17_epochs.pth\"\n",
    "best_model2_path = r\"C:\\Users\\lwfeckesim\\01_PyTorch\\wze-uav\\wze-uav-master\\models\\EffNet_b7_RGB-RE-NIR-CHM-14classes-combined_plotsplit\\2_EffNet_b7_RGB-RE-NIR-CHM-14classes-combined_plotsplit_17_epochs.pth\"\n",
    "best_model3_path = r\"C:\\Users\\lwfeckesim\\01_PyTorch\\wze-uav\\wze-uav-master\\models\\EffNet_b7_RGB-RE-NIR-CHM-14classes-combined_plotsplit\\3_EffNet_b7_RGB-RE-NIR-CHM-14classes-combined_plotsplit_31_epochs.pth\"\n",
    "best_model4_path = r\"C:\\Users\\lwfeckesim\\01_PyTorch\\wze-uav\\wze-uav-master\\models\\EffNet_b7_RGB-RE-NIR-CHM-14classes-combined_plotsplit\\4_EffNet_b7_RGB-RE-NIR-CHM-14classes-combined_plotsplit_10_epochs.pth\"\n",
    "best_model5_path = r\"C:\\Users\\lwfeckesim\\01_PyTorch\\wze-uav\\wze-uav-master\\models\\EffNet_b7_RGB-RE-NIR-CHM-14classes-combined_plotsplit\\5_EffNet_b7_RGB-RE-NIR-CHM-14classes-combined_plotsplit_19_epochs.pth\"\n",
    "\n",
    "# Instantiate a new instance of EffNetB7 (to load the saved state_dict() to)\n",
    "#model1 = models.create_effnetb7(output_shape=num_classes, unfreeze=unfreeze, dropout_rate=dropout_rate, device=device)\n",
    "#model2 = models.create_effnetb7(output_shape=num_classes, unfreeze=unfreeze, dropout_rate=dropout_rate, device=device)\n",
    "#model3 = models.create_effnetb7(output_shape=num_classes, unfreeze=unfreeze, dropout_rate=dropout_rate, device=device)\n",
    "#model4 = models.create_effnetb7(output_shape=num_classes, unfreeze=unfreeze, dropout_rate=dropout_rate, device=device)\n",
    "#model5 = models.create_effnetb7(output_shape=num_classes, unfreeze=unfreeze, dropout_rate=dropout_rate, device=device)\n",
    "# for custom models with more than three bands as input\n",
    "model1 = model_effnet.EfficientNet.from_pretrained('efficientnet-b7', in_channels=n_bands, num_classes=num_classes, dropout_rate=dropout_rate)\n",
    "model2 = model_effnet.EfficientNet.from_pretrained('efficientnet-b7', in_channels=n_bands, num_classes=num_classes, dropout_rate=dropout_rate)\n",
    "model3 = model_effnet.EfficientNet.from_pretrained('efficientnet-b7', in_channels=n_bands, num_classes=num_classes, dropout_rate=dropout_rate)\n",
    "model4 = model_effnet.EfficientNet.from_pretrained('efficientnet-b7', in_channels=n_bands, num_classes=num_classes, dropout_rate=dropout_rate)\n",
    "model5 = model_effnet.EfficientNet.from_pretrained('efficientnet-b7', in_channels=n_bands, num_classes=num_classes, dropout_rate=dropout_rate)\n",
    "\n",
    "# Load the saved best model state_dict()\n",
    "model1.load_state_dict(torch.load(best_model1_path))\n",
    "model2.load_state_dict(torch.load(best_model2_path))\n",
    "model3.load_state_dict(torch.load(best_model3_path))\n",
    "model4.load_state_dict(torch.load(best_model4_path))\n",
    "model5.load_state_dict(torch.load(best_model5_path))\n",
    "\n",
    "model1.to(device)\n",
    "model2.to(device)\n",
    "model3.to(device)\n",
    "model4.to(device)\n",
    "model5.to(device)\n",
    "\n",
    "model1.eval()\n",
    "model2.eval()\n",
    "model3.eval()\n",
    "model4.eval()\n",
    "model5.eval()\n",
    "\n",
    "# Initialize the lists to store the predictions\n",
    "all_preds_model1 = []\n",
    "all_preds_model2 = []\n",
    "all_preds_model3 = []\n",
    "all_preds_model4 = []\n",
    "all_preds_model5 = []\n",
    "all_true_labels = []\n",
    "\n",
    "# Loop through the test dataset and generate predictions for each model\n",
    "with torch.no_grad():\n",
    "    for batch in test_dataloader:\n",
    "        inputs, labels, species = batch\n",
    "        inputs, labels, species = inputs.to(device), labels.to(device), species\n",
    "        \n",
    "        # Generate predictions for each model\n",
    "        preds_model1 = model1(inputs)\n",
    "        preds_model2 = model2(inputs)\n",
    "        preds_model3 = model3(inputs)\n",
    "        preds_model4 = model4(inputs)\n",
    "        preds_model5 = model5(inputs)\n",
    "\n",
    "        # Append the predictions to the corresponding list\n",
    "        all_preds_model1.append(preds_model1.cpu().numpy())\n",
    "        all_preds_model2.append(preds_model2.cpu().numpy())\n",
    "        all_preds_model3.append(preds_model3.cpu().numpy())\n",
    "        all_preds_model4.append(preds_model4.cpu().numpy())\n",
    "        all_preds_model5.append(preds_model5.cpu().numpy())\n",
    "        \n",
    "        all_true_labels.append(labels.cpu().numpy())\n",
    "\n",
    "# Concatenate the predictions from all the models\n",
    "all_preds_model1 = np.concatenate(all_preds_model1)\n",
    "all_preds_model2 = np.concatenate(all_preds_model2)\n",
    "all_preds_model3 = np.concatenate(all_preds_model3)\n",
    "all_preds_model4 = np.concatenate(all_preds_model4)\n",
    "all_preds_model5 = np.concatenate(all_preds_model5)\n",
    "\n",
    "all_true_labels = np.concatenate(all_true_labels)\n",
    "\n",
    "# Calculate the ensemble predictions\n",
    "ensemble_preds = np.mean([all_preds_model1, all_preds_model2, all_preds_model3, all_preds_model4, all_preds_model5], axis=0)\n",
    "ensemble_labels = np.argmax(ensemble_preds, axis=1)\n",
    "\n",
    "# Calculate the evaluation metrics for the ensemble model\n",
    "from sklearn.metrics import classification_report, confusion_matrix\n",
    "\n",
    "print(classification_report(all_true_labels, ensemble_labels))\n",
    "print(confusion_matrix(all_true_labels, ensemble_labels))\n",
    "\n",
    "\n",
    "\n",
    "\n"
   ]
  },
  {
   "cell_type": "code",
   "execution_count": 26,
   "id": "6dfbc663",
   "metadata": {},
   "outputs": [
    {
     "name": "stdout",
     "output_type": "stream",
     "text": [
      "              precision    recall  f1-score   support\n",
      "\n",
      "           0       0.81      0.82      0.81       338\n",
      "           1       0.68      0.63      0.66       147\n",
      "           2       0.36      0.51      0.42       107\n",
      "           3       0.62      0.57      0.60       166\n",
      "           4       0.46      0.58      0.51        19\n",
      "           5       0.83      0.33      0.48        15\n",
      "           6       0.56      0.57      0.56        76\n",
      "           7       0.53      0.61      0.57        44\n",
      "           8       0.60      0.61      0.60        61\n",
      "           9       0.39      0.35      0.37        20\n",
      "          10       0.65      0.53      0.59        45\n",
      "          11       0.40      0.10      0.16        20\n",
      "          12       0.60      0.46      0.52        13\n",
      "          13       0.97      0.90      0.93        31\n",
      "\n",
      "    accuracy                           0.64      1102\n",
      "   macro avg       0.60      0.54      0.56      1102\n",
      "weighted avg       0.66      0.64      0.64      1102\n",
      "\n"
     ]
    },
    {
     "data": {
      "image/png": "[encoded data removed]",
      "text/plain": [
       "<Figure size 720x504 with 1 Axes>"
      ]
     },
     "metadata": {
      "needs_background": "light"
     },
     "output_type": "display_data"
    }
   ],
   "source": [
    "import matplotlib.pyplot as plt\n",
    "import pandas as pd\n",
    "# Calculate the evaluation metrics for the ensemble model\n",
    "\n",
    "report = classification_report(all_true_labels, ensemble_labels)\n",
    "print(report)\n",
    "#print(confusion_matrix(all_true_labels, ensemble_labels))\n",
    "\n",
    "# Save the report to a file\n",
    "with open(r'C:\\Users\\lwfeckesim\\01_PyTorch\\wze-uav\\wze-uav-master\\plots\\report_RGB-RE-NIR-CHM_combined_14species_plotsplit.txt', 'w') as f:\n",
    "    f.write(report)\n",
    "\n",
    "labels = np.array([0,1,2,3,4,5,6,7,8,9,10,11,12,13])\n",
    "confmat = confusion_matrix(all_true_labels, ensemble_labels, labels=labels)\n",
    "\n",
    "# 3. Plot the confusion matrix\n",
    "fig, ax = plot_confusion_matrix(\n",
    "    conf_mat=confmat, # matplotlib likes working with NumPy \n",
    "    class_names=class_names, # turn the row and column labels into class names\n",
    "    figsize=(10, 7)\n",
    ");\n",
    "\n",
    "# add title to confusion matrix plot\n",
    "plt.title(\"Main tree species and Health Status Classification using RGB-RE-NIR-CHM Bands\", fontsize=16)\n",
    "\n",
    "fig.savefig(r'C:\\Users\\lwfeckesim\\01_PyTorch\\wze-uav\\wze-uav-master\\plots\\confmat_RGB-RE-NIR-CHM_combined_14species_plotsplit.png', dpi=300, bbox_inches='tight')\n",
    "\n",
    "# Create a DataFrame from the confusion matrix\n",
    "df_cm = pd.DataFrame(confmat)\n",
    "\n",
    "# Export the confusion matrix to a CSV file\n",
    "df_cm.to_csv(r'C:\\Users\\lwfeckesim\\01_PyTorch\\wze-uav\\wze-uav-master\\plots\\confmat_RGB-RE-NIR-CHM_combined_14species_plotsplit.csv', index=False)\n"
   ]
  },
  {
   "cell_type": "code",
   "execution_count": 23,
   "id": "aab9e321",
   "metadata": {},
   "outputs": [
    {
     "ename": "NameError",
     "evalue": "name 'best_model' is not defined",
     "output_type": "error",
     "traceback": [
      "\u001b[1;31m---------------------------------------------------------------------------\u001b[0m",
      "\u001b[1;31mNameError\u001b[0m                                 Traceback (most recent call last)",
      "Input \u001b[1;32mIn [23]\u001b[0m, in \u001b[0;36m<cell line: 3>\u001b[1;34m()\u001b[0m\n\u001b[0;32m      1\u001b[0m \u001b[38;5;66;03m# 2. Setup confusion matrix instance and compare predictions to targets\u001b[39;00m\n\u001b[0;32m      2\u001b[0m \u001b[38;5;66;03m#from wze_uav.analysis import *\u001b[39;00m\n\u001b[1;32m----> 3\u001b[0m y_pred_tensor, y_labels_tensor, test_loss, test_recall, test_precision, test_f1_score, test_acc, y_logit, y_pred, y, y_preds \u001b[38;5;241m=\u001b[39m make_predictions(model\u001b[38;5;241m=\u001b[39m\u001b[43mbest_model\u001b[49m,\n\u001b[0;32m      4\u001b[0m                                  test_dataloader\u001b[38;5;241m=\u001b[39mtest_dataloader, \n\u001b[0;32m      5\u001b[0m                                  device\u001b[38;5;241m=\u001b[39mdevice)\n\u001b[0;32m      7\u001b[0m y_labels_tensor \u001b[38;5;241m=\u001b[39m y_labels_tensor\u001b[38;5;241m.\u001b[39mdetach()\u001b[38;5;241m.\u001b[39mcpu()\u001b[38;5;241m.\u001b[39mnumpy()\n\u001b[0;32m      8\u001b[0m y_pred_tensor \u001b[38;5;241m=\u001b[39m y_pred_tensor\u001b[38;5;241m.\u001b[39mdetach()\u001b[38;5;241m.\u001b[39mcpu()\u001b[38;5;241m.\u001b[39mnumpy()\n",
      "\u001b[1;31mNameError\u001b[0m: name 'best_model' is not defined"
     ]
    }
   ],
   "source": [
    "# 2. Setup confusion matrix instance and compare predictions to targets\n",
    "#from wze_uav.analysis import *\n",
    "y_pred_tensor, y_labels_tensor, test_loss, test_recall, test_precision, test_f1_score, test_acc, y_logit, y_pred, y, y_preds = make_predictions(model=best_model,\n",
    "                                 test_dataloader=test_dataloader, \n",
    "                                 device=device)\n",
    "\n",
    "y_labels_tensor = y_labels_tensor.detach().cpu().numpy()\n",
    "y_pred_tensor = y_pred_tensor.detach().cpu().numpy()\n",
    "\n",
    "#confmat = ConfusionMatrix(num_classes=num_classes, task='multiclass')\n",
    "#confmat_tensor = confmat(preds=y_pred_tensor,\n",
    "#                         target=test_labels)\n",
    "labels = np.array([0,1,2])\n",
    "confmat = confusion_matrix(y_labels_tensor, y_pred_tensor, labels=labels)\n",
    "\n",
    "# 3. Plot the confusion matrix\n",
    "fig, ax = plot_confusion_matrix(\n",
    "    conf_mat=confmat, # matplotlib likes working with NumPy \n",
    "    class_names=class_names, # turn the row and column labels into class names\n",
    "    figsize=(10, 7)\n",
    ");\n",
    "\n",
    "print(f\"Test loss: {test_loss}\")\n",
    "print(f\"Test precision: {test_precision}\")\n",
    "print(f\"Test recall: {test_recall}\")\n",
    "print(f\"Test F1score: {test_f1_score}\")\n",
    "#print(f\"Test Kappa: {test_kappa}\")\n",
    "print(f\"Test Accuracy: {test_acc}\")\n",
    "print(f\"Test Logits: {y_logit}\")\n",
    "print(f\"Test Predictions: {y_pred}\")\n",
    "print(f\"Test Labels: {y}\")"
   ]
  },
  {
   "cell_type": "code",
   "execution_count": null,
   "id": "8d4173b3",
   "metadata": {},
   "outputs": [],
   "source": [
    "len(y_preds)"
   ]
  },
  {
   "cell_type": "code",
   "execution_count": null,
   "id": "7588116f",
   "metadata": {},
   "outputs": [],
   "source": [
    "y_set.cpu()"
   ]
  },
  {
   "cell_type": "code",
   "execution_count": null,
   "id": "1c195b3e",
   "metadata": {},
   "outputs": [],
   "source": [
    "test_dataset.labels"
   ]
  },
  {
   "cell_type": "code",
   "execution_count": null,
   "id": "975ec08c",
   "metadata": {},
   "outputs": [],
   "source": []
  },
  {
   "cell_type": "code",
   "execution_count": null,
   "id": "6da05604",
   "metadata": {},
   "outputs": [],
   "source": [
    "y_preds = []\n",
    "y_labels = []\n",
    "labels = np.array([0,1,2])\n",
    "test_loss, test_precision, test_recall, test_f1_score, test_acc = 0, 0, 0, 0, 0\n",
    "count = 0\n",
    "model.eval()\n",
    "with torch.inference_mode():\n",
    "    for X, y in tqdm(test_dataloader, desc=\"Making predictions\"):\n",
    "        # Send data and targets to target device\n",
    "        X, y = X.to(device), y.to(device)\n",
    "        # Do the forward pass\n",
    "        y_logit = model(X)\n",
    "        # Turn predictions from logits -> prediction probabilities -> predictions labels\n",
    "        y_pred = torch.softmax(y_logit, dim=1).argmax(dim=1)\n",
    "        # Put predictions on CPU for evaluation\n",
    "        y_preds.append(y_pred.cpu())\n",
    "        y_labels.append(y.cpu())\n",
    "        \n",
    "        #other metrics\n",
    "        test_acc += ((y_pred == y).sum().item()/len(y_pred))\n",
    "        y_pred_class = y_pred.detach().cpu().numpy() \n",
    "        y_class = y.detach().cpu().numpy()\n",
    "        test_precision += precision_score(y_class, y_pred_class, average='macro', zero_division=1, labels=labels)\n",
    "        test_recall += recall_score(y_class, y_pred_class, average='macro', zero_division=1, labels=labels)\n",
    "        #test_f1_score += f1_score(y_class, y_pred_class, average='macro', zero_division=1, labels=labels)\n",
    "        \n",
    "        #if count >= 1:\n",
    "        #    y_set = torch.cat((y_set, y))\n",
    "        #    count = count + 1\n",
    "        #else:\n",
    "        #    y_set = y\n",
    "        #    count = count + 1\n",
    "        \n",
    "test_loss = test_loss / len(test_dataloader)\n",
    "test_precision = test_precision / len(test_dataloader)\n",
    "test_recall = test_recall / len(test_dataloader)\n",
    "#test_f1_score = test_f1_score / len(test_dataloader)\n",
    "#test_kappa = test_kappa / len(dataloader)\n",
    "test_acc = test_acc / len(test_dataloader)\n",
    "# Concatenate list of predictions into a tensor\n",
    "y_pred_tensor = torch.cat(y_preds)\n",
    "test_f1_score = f1_score(y_set.detach().cpu().numpy(), y_pred_tensor.cpu().numpy(), average='macro', zero_division=0, labels=[0,1,2])\n",
    "\n",
    "# Print classification report\n",
    "y_true = y_set.detach().cpu().numpy()\n",
    "report = classification_report(y_true, y_pred_tensor.cpu().numpy(), target_names=class_names)\n",
    "print(report)"
   ]
  },
  {
   "cell_type": "code",
   "execution_count": null,
   "id": "6ae97fab",
   "metadata": {},
   "outputs": [],
   "source": [
    "test_f1_score"
   ]
  },
  {
   "cell_type": "code",
   "execution_count": null,
   "id": "7ebafd9b",
   "metadata": {},
   "outputs": [],
   "source": [
    "make = (y_class == y_pred_class)\n",
    "make"
   ]
  },
  {
   "cell_type": "code",
   "execution_count": null,
   "id": "4f8aa759",
   "metadata": {},
   "outputs": [],
   "source": [
    "torch.softmax(y_logit, dim=1).argmax(dim=1)"
   ]
  },
  {
   "cell_type": "code",
   "execution_count": null,
   "id": "f90a54b2",
   "metadata": {},
   "outputs": [],
   "source": [
    "y"
   ]
  },
  {
   "cell_type": "code",
   "execution_count": null,
   "id": "5a806154",
   "metadata": {},
   "outputs": [],
   "source": [
    "test = (y_pred == y).sum().item()/16"
   ]
  },
  {
   "cell_type": "code",
   "execution_count": null,
   "id": "1da35c56",
   "metadata": {},
   "outputs": [],
   "source": [
    "test"
   ]
  },
  {
   "cell_type": "code",
   "execution_count": null,
   "id": "b1eb246e",
   "metadata": {},
   "outputs": [],
   "source": [
    " y_pred_class = y_pred.detach().cpu().numpy() "
   ]
  },
  {
   "cell_type": "code",
   "execution_count": null,
   "id": "602e096f",
   "metadata": {},
   "outputs": [],
   "source": [
    "y_pred_class"
   ]
  },
  {
   "cell_type": "code",
   "execution_count": null,
   "id": "eaf1af09",
   "metadata": {},
   "outputs": [],
   "source": []
  }
 ],
 "metadata": {
  "kernelspec": {
   "display_name": "Python 3 (ipykernel)",
   "language": "python",
   "name": "python3"
  },
  "language_info": {
   "codemirror_mode": {
    "name": "ipython",
    "version": 3
   },
   "file_extension": ".py",
   "mimetype": "text/x-python",
   "name": "python",
   "nbconvert_exporter": "python",
   "pygments_lexer": "ipython3",
   "version": "3.9.16"
  }
 },
 "nbformat": 4,
 "nbformat_minor": 5
}
