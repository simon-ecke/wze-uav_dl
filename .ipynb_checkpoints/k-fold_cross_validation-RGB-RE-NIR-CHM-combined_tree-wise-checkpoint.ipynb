{
 "cells": [
  {
   "cell_type": "markdown",
   "id": "c1acdaa3",
   "metadata": {},
   "source": [
    "# WZE-UAV Image Classification using Deep Learning"
   ]
  },
  {
   "cell_type": "code",
   "execution_count": 1,
   "id": "2159aac5",
   "metadata": {},
   "outputs": [],
   "source": [
    "import os\n",
    "import gc\n",
    "import glob\n",
    "import numpy as np\n",
    "from pathlib import Path\n",
    "from tqdm.auto import tqdm\n",
    "from sklearn.metrics import confusion_matrix, classification_report\n",
    "from sklearn.model_selection import KFold"
   ]
  },
  {
   "cell_type": "code",
   "execution_count": 2,
   "id": "0026f7a9",
   "metadata": {},
   "outputs": [],
   "source": [
    "import torch\n",
    "import torchvision.transforms as T\n",
    "import torchvision\n",
    "from torch import nn\n",
    "from torch.utils.data import DataLoader\n",
    "from torchvision import datasets, transforms\n",
    "from torch.utils.data import Dataset\n",
    "import torch.optim as optim\n",
    "from torch.optim.lr_scheduler import ExponentialLR\n",
    "from mlxtend.plotting import plot_confusion_matrix"
   ]
  },
  {
   "cell_type": "code",
   "execution_count": 3,
   "id": "b160d7b4",
   "metadata": {},
   "outputs": [],
   "source": [
    "import wze_uav.data_loader as data_loader\n",
    "import wze_uav.models as models\n",
    "from wze_uav.engine import *\n",
    "from wze_uav.utils2 import *\n",
    "#from wze_uav.log_writer import create_writer\n",
    "from wze_uav.datasplit import *\n",
    "from efficientnet import model_effnet #for custom effnet with n_channels input\n",
    "import wandb"
   ]
  },
  {
   "cell_type": "markdown",
   "id": "2bd4fb2f",
   "metadata": {},
   "source": [
    "#### Get PyTorch version"
   ]
  },
  {
   "cell_type": "code",
   "execution_count": 4,
   "id": "c10886b1",
   "metadata": {},
   "outputs": [
    {
     "name": "stdout",
     "output_type": "stream",
     "text": [
      "torch version: 1.13.1+cu116\n",
      "torchvision version: 0.14.1+cu116\n"
     ]
    }
   ],
   "source": [
    "print(f\"torch version: {torch.__version__}\")\n",
    "print(f\"torchvision version: {torchvision.__version__}\")"
   ]
  },
  {
   "cell_type": "markdown",
   "id": "aa6a83cf",
   "metadata": {},
   "source": [
    "#### Preparing device agnostic code "
   ]
  },
  {
   "cell_type": "code",
   "execution_count": 5,
   "id": "13d5de88",
   "metadata": {},
   "outputs": [
    {
     "name": "stdout",
     "output_type": "stream",
     "text": [
      "cuda\n",
      "Index of current divice: 0\n",
      "Number of GPUs available: 1\n",
      "GPU Model: Quadro RTX 8000\n"
     ]
    }
   ],
   "source": [
    "# ensure device agnostic code\n",
    "device = 'cuda' if torch.cuda.is_available() else 'cpu'\n",
    "print(device)\n",
    "\n",
    "# get index of currently selected device\n",
    "print(f\"Index of current divice: {torch.cuda.current_device()}\")\n",
    "# get number of GPUs available\n",
    "print(f\"Number of GPUs available: {torch.cuda.device_count()}\")\n",
    "# get the name of the device\n",
    "print(f\"GPU Model: {torch.cuda.get_device_name(0)}\")"
   ]
  },
  {
   "cell_type": "markdown",
   "id": "8ef6b169",
   "metadata": {},
   "source": [
    "#### Login to Weights & Biases to track results"
   ]
  },
  {
   "cell_type": "code",
   "execution_count": 6,
   "id": "a59d27cf",
   "metadata": {},
   "outputs": [
    {
     "name": "stderr",
     "output_type": "stream",
     "text": [
      "Failed to detect the name of this notebook, you can set it manually with the WANDB_NOTEBOOK_NAME environment variable to enable code saving.\n",
      "\u001b[34m\u001b[1mwandb\u001b[0m: Currently logged in as: \u001b[33msimon-ecke\u001b[0m. Use \u001b[1m`wandb login --relogin`\u001b[0m to force relogin\n"
     ]
    },
    {
     "data": {
      "text/html": [
       "wandb version 0.15.3 is available!  To upgrade, please run:\n",
       " $ pip install wandb --upgrade"
      ],
      "text/plain": [
       "<IPython.core.display.HTML object>"
      ]
     },
     "metadata": {},
     "output_type": "display_data"
    },
    {
     "data": {
      "text/html": [
       "Tracking run with wandb version 0.14.2"
      ],
      "text/plain": [
       "<IPython.core.display.HTML object>"
      ]
     },
     "metadata": {},
     "output_type": "display_data"
    },
    {
     "data": {
      "text/html": [
       "Run data is saved locally in <code>C:\\Users\\lwfeckesim\\01_PyTorch\\wze-uav\\wze-uav-master\\wandb\\run-20230520_032227-kzla4vaf</code>"
      ],
      "text/plain": [
       "<IPython.core.display.HTML object>"
      ]
     },
     "metadata": {},
     "output_type": "display_data"
    },
    {
     "data": {
      "text/html": [
       "Syncing run <strong><a href='https://wandb.ai/simon-ecke/wze-uav-combined-treewise/runs/kzla4vaf' target=\"_blank\">vocal-totem-13</a></strong> to <a href='https://wandb.ai/simon-ecke/wze-uav-combined-treewise' target=\"_blank\">Weights & Biases</a> (<a href='https://wandb.me/run' target=\"_blank\">docs</a>)<br/>"
      ],
      "text/plain": [
       "<IPython.core.display.HTML object>"
      ]
     },
     "metadata": {},
     "output_type": "display_data"
    },
    {
     "data": {
      "text/html": [
       " View project at <a href='https://wandb.ai/simon-ecke/wze-uav-combined-treewise' target=\"_blank\">https://wandb.ai/simon-ecke/wze-uav-combined-treewise</a>"
      ],
      "text/plain": [
       "<IPython.core.display.HTML object>"
      ]
     },
     "metadata": {},
     "output_type": "display_data"
    },
    {
     "data": {
      "text/html": [
       " View run at <a href='https://wandb.ai/simon-ecke/wze-uav-combined-treewise/runs/kzla4vaf' target=\"_blank\">https://wandb.ai/simon-ecke/wze-uav-combined-treewise/runs/kzla4vaf</a>"
      ],
      "text/plain": [
       "<IPython.core.display.HTML object>"
      ]
     },
     "metadata": {},
     "output_type": "display_data"
    },
    {
     "data": {
      "text/html": [
       "<button onClick=\"this.nextSibling.style.display='block';this.style.display='none';\">Display W&B run</button><iframe src='https://wandb.ai/simon-ecke/wze-uav-combined-treewise/runs/kzla4vaf?jupyter=true' style='border:none;width:100%;height:420px;display:none;'></iframe>"
      ],
      "text/plain": [
       "<wandb.sdk.wandb_run.Run at 0x25ccaf28640>"
      ]
     },
     "execution_count": 6,
     "metadata": {},
     "output_type": "execute_result"
    }
   ],
   "source": [
    "# IMPORTANT: The proxy needs to be set in anaconda!\n",
    "# copy paste this in anaconda and restart jupyter notebook\n",
    "#set http_proxy=http://www-proxy.bayern.de:80\n",
    "#set https_proxy=http://www-proxy.bayern.de:80\n",
    "wandb.login()\n",
    "#wandb.init(settings=wandb.Settings(start_method=\"thread\"))\n",
    "wandb.init(project='wze-uav-combined-treewise', entity='simon-ecke')"
   ]
  },
  {
   "cell_type": "markdown",
   "id": "a26a6a34",
   "metadata": {},
   "source": [
    "#### Ensure reproducibility "
   ]
  },
  {
   "cell_type": "code",
   "execution_count": 7,
   "id": "dd4656a7",
   "metadata": {},
   "outputs": [],
   "source": [
    "# for more information, see also: https://pytorch.org/docs/stable/notes/randomness.html\n",
    "\n",
    "# Set seeds\n",
    "def set_seeds(seed: int=42):\n",
    "    \"\"\"Sets random sets for torch operations.\n",
    "\n",
    "    Args:\n",
    "        seed (int, optional): Random seed to set. Defaults to 42.\n",
    "    \"\"\"\n",
    "    # Set the seed for general torch operations\n",
    "    torch.manual_seed(seed)\n",
    "    # Set the seed for CUDA torch operations (ones that happen on the GPU)\n",
    "    torch.cuda.manual_seed(seed)\n",
    "    # seed for numpy\n",
    "    np.random.seed(seed)\n",
    "\n",
    "set_seeds(42) \n",
    "\n",
    "# Set to true -> might speed up the process but should be set to False if reproducible results are desired\n",
    "torch.backends.cudnn.benchmark = False\n"
   ]
  },
  {
   "cell_type": "markdown",
   "id": "8be33671",
   "metadata": {},
   "source": [
    "#### Define file directory"
   ]
  },
  {
   "cell_type": "code",
   "execution_count": 8,
   "id": "30645f36",
   "metadata": {},
   "outputs": [],
   "source": [
    "#####################################################################################\n",
    "# 3 channel input (r-g-b)\n",
    "#data_path = r\"D:\\Drohnendaten\\10_WZE-UAV\\Auswertung_findatree\\Datasplit\\ROI\\rgb\"\n",
    "\n",
    "# 4 channel input (r-g-b-nir)\n",
    "#data_path = r\"D:\\Drohnendaten\\10_WZE-UAV\\Auswertung_findatree\\Datasplit\\ROI\\rgb-nir\"\n",
    "\n",
    "# 5 channel input (r-g-b-re-nir)\n",
    "data_path = r\"D:\\Drohnendaten\\10_WZE-UAV\\Auswertung_findatree\\Datasplit\\ROI\\rgb-re-nir\"\n",
    "\n",
    "# 6 channel input (r-g-b-re-nir)\n",
    "#data_path = r\"D:\\Drohnendaten\\10_WZE-UAV\\Auswertung_findatree\\Datasplit\\ROI\\rgb-re-nir-chm\"\n",
    "\n",
    "#####################################################################################"
   ]
  },
  {
   "cell_type": "markdown",
   "id": "4560ce64",
   "metadata": {},
   "source": [
    "#### Get all file paths"
   ]
  },
  {
   "cell_type": "code",
   "execution_count": 9,
   "id": "aa072e4c",
   "metadata": {},
   "outputs": [],
   "source": [
    "fn_list = os.listdir(data_path)\n",
    "path_list = []\n",
    "# Iterate over all datafiles\n",
    "for year in fn_list:\n",
    "    year_dir = f'{data_path}\\\\{year}'\n",
    "    for filename in os.listdir(year_dir):\n",
    "        path = f'{year_dir}\\\\{filename}'\n",
    "        path_list.append(path)"
   ]
  },
  {
   "cell_type": "markdown",
   "id": "f3937a44",
   "metadata": {},
   "source": [
    "#### Create unique hash IDs for every individual tree"
   ]
  },
  {
   "cell_type": "code",
   "execution_count": 10,
   "id": "8a50f1d7",
   "metadata": {},
   "outputs": [
    {
     "data": {
      "application/vnd.jupyter.widget-view+json": {
       "model_id": "53fb0e0689ae460bacab75a85fc413d0",
       "version_major": 2,
       "version_minor": 0
      },
      "text/plain": [
       "Creating unique tree IDs...:   0%|          | 0/647 [00:00<?, ?it/s]"
      ]
     },
     "metadata": {},
     "output_type": "display_data"
    }
   ],
   "source": [
    "hashID_dict = data_loader.get_unique_treeID(path_list)"
   ]
  },
  {
   "cell_type": "markdown",
   "id": "6f4cea00",
   "metadata": {},
   "source": [
    "#### Import all imagery, labels and other features from hdf5 files"
   ]
  },
  {
   "cell_type": "code",
   "execution_count": 11,
   "id": "94e3eecf",
   "metadata": {},
   "outputs": [
    {
     "data": {
      "application/vnd.jupyter.widget-view+json": {
       "model_id": "2b18be947c074676babcd6d908a286ab",
       "version_major": 2,
       "version_minor": 0
      },
      "text/plain": [
       "Processing hdf5 datasets:   0%|          | 0/647 [00:00<?, ?it/s]"
      ]
     },
     "metadata": {},
     "output_type": "display_data"
    }
   ],
   "source": [
    "image_set, label_set, species_set, kkl_set, bk_set, hash_id = data_loader.hdf5_to_img_label_5species(path_list,\n",
    "                                                                                               hashID_dict,\n",
    "                                                                                               load_sets=[\"images_masked\"])"
   ]
  },
  {
   "cell_type": "markdown",
   "id": "6a90e2b7",
   "metadata": {},
   "source": [
    "#### Convert nbv to classes"
   ]
  },
  {
   "cell_type": "code",
   "execution_count": 12,
   "id": "0224972a",
   "metadata": {},
   "outputs": [],
   "source": [
    "nbv_set = label_set\n",
    "label_set = combined_to_classes(species_set, nbv_set)"
   ]
  },
  {
   "cell_type": "markdown",
   "id": "c6b4cd85",
   "metadata": {},
   "source": [
    "#### Split data into a sub set and a test dataset"
   ]
  },
  {
   "cell_type": "code",
   "execution_count": 13,
   "id": "d06eda54",
   "metadata": {},
   "outputs": [
    {
     "name": "stdout",
     "output_type": "stream",
     "text": [
      "ORIGINAL POSITIVE RATIO: 2.9288929440389295\n",
      "Fold : 0\n",
      "TRAIN POSITIVE RATIO: 2.9223584354932868\n",
      "TEST POSITIVE RATIO : 2.9616228070175437\n",
      "LENGTH TRAIN GROUPS : 5197\n",
      "LENGTH TEST GROUPS  : 1037\n",
      "Number of True in sub_indices: 13704\n",
      "Number of False in sub_indices: 2736\n",
      "Number of True in test_indices: 1037\n",
      "Number of False in test_indices: 15403\n",
      "Check shapes:\n",
      "\n",
      "Images sub dataset: (13704, 250, 250, 5)\n",
      "Labels sub dataset: (13704, 1)\n",
      "\n",
      "Images test dataset: (1037, 250, 250, 5)\n",
      "Labels test dataset: (1037, 1)\n",
      "\n",
      "--------------------------------------------------\n",
      "Check if the split was stratified: (random_state=42)\n",
      "Healthy trees in sub dataset: 3722\n",
      "Stressed trees in sub dataset: 1941\n",
      "Dead trees in sub dataset: 1810\n",
      "Healthy trees in test dataset: 289\n",
      "Stressed trees in test dataset: 167\n",
      "Dead trees in test dataset: 121\n",
      "Ratio health trees in test dataset: 0.07764642665233745\n",
      "Ratio stressed trees in test dataset: 0.08603812467800102\n",
      "Ratio dead trees in test dataset: 0.06685082872928177\n"
     ]
    }
   ],
   "source": [
    "sub_image_set, sub_label_set, sub_hash_id, sub_species_set, test_image_set, test_label_set, test_hash_id, test_species_set = data_split(image_set, label_set, hash_id, species_set, n_splits=6, random_state=42, seed=2)\n"
   ]
  },
  {
   "cell_type": "markdown",
   "id": "c48fbb5b",
   "metadata": {},
   "source": [
    "#### Check if any hash ID is in both sub and test dataset"
   ]
  },
  {
   "cell_type": "code",
   "execution_count": 14,
   "id": "874367cf",
   "metadata": {},
   "outputs": [
    {
     "name": "stdout",
     "output_type": "stream",
     "text": [
      "There are no hash_id values in both train and test datasets. The datasplit was successful\n"
     ]
    }
   ],
   "source": [
    "hash_set = set(sub_hash_id[:,0].flatten())\n",
    "test_hash_set = set(test_hash_id[:,0].flatten())\n",
    "intersection = hash_set.intersection(test_hash_set)\n",
    "if intersection:\n",
    "    print(f\"Hash_id values in both train and test sets: {len(intersection)}\")\n",
    "else:\n",
    "    print(\"There are no hash_id values in both train and test datasets. The datasplit was successful\")"
   ]
  },
  {
   "cell_type": "markdown",
   "id": "9e5b64d4",
   "metadata": {},
   "source": [
    "#### Check feature distribution of the Test dataset"
   ]
  },
  {
   "cell_type": "code",
   "execution_count": 15,
   "id": "a33ff5cb",
   "metadata": {},
   "outputs": [
    {
     "name": "stdout",
     "output_type": "stream",
     "text": [
      "Test dataset\n",
      "Test data Picea abies healthy: 289\n",
      "Test data Picea abies stressed: 167\n",
      "Test data Pinus sylvestris healthy: 121\n",
      "Test data Pinus sylvestris stressed: 135\n",
      "Test data Abies alba healthy: 30\n",
      "Test data Abies alba stressed: 13\n",
      "Test data Fagus sylvatica healthy: 96\n",
      "Test data Fagus sylvatica stressed: 79\n",
      "Test data Quercus robur/petraea healthy: 58\n",
      "Test data Quercus robur/petraea stressed: 26\n",
      "Test data dead trees: 23\n",
      "--------------------------------------------------\n",
      "Remaining dataset\n",
      "Remaining data Picea abies healthy: 3722\n",
      "Remaining data Picea abies stressed: 1941\n",
      "Remaining data Pinus sylvestris healthy: 1810\n",
      "Remaining data Pinus sylvestris stressed: 2159\n",
      "Remaining data Abies alba healthy: 405\n",
      "Remaining data Abies alba stressed: 160\n",
      "Remaining data Fagus sylvatica healthy: 1230\n",
      "Remaining data Fagus sylvatica stressed: 883\n",
      "Remaining data Quercus robur/petraea healthy: 739\n",
      "Remaining data Quercus robur/petraea stressed: 433\n",
      "Remaining data dead trees: 222\n",
      "--------------------------------------------------\n"
     ]
    }
   ],
   "source": [
    "def count_occurrences(data, value):\n",
    "    count = 0\n",
    "    for item in data:\n",
    "        if item == value:\n",
    "            count += 1\n",
    "    return count\n",
    "\n",
    "print(\"Test dataset\")\n",
    "print(f\"Test data Picea abies healthy: {count_occurrences(test_label_set, 0)}\")\n",
    "print(f\"Test data Picea abies stressed: {count_occurrences(test_label_set, 1)}\")\n",
    "print(f\"Test data Pinus sylvestris healthy: {count_occurrences(test_label_set, 2)}\")\n",
    "print(f\"Test data Pinus sylvestris stressed: {count_occurrences(test_label_set, 3)}\")\n",
    "print(f\"Test data Abies alba healthy: {count_occurrences(test_label_set, 4)}\")\n",
    "print(f\"Test data Abies alba stressed: {count_occurrences(test_label_set, 5)}\")\n",
    "print(f\"Test data Fagus sylvatica healthy: {count_occurrences(test_label_set, 6)}\")\n",
    "print(f\"Test data Fagus sylvatica stressed: {count_occurrences(test_label_set, 7)}\")\n",
    "print(f\"Test data Quercus robur/petraea healthy: {count_occurrences(test_label_set, 8)}\")\n",
    "print(f\"Test data Quercus robur/petraea stressed: {count_occurrences(test_label_set, 9)}\")\n",
    "print(f\"Test data dead trees: {count_occurrences(test_label_set, 10)}\")\n",
    "print(\"-\"*50)\n",
    "\n",
    "print(\"Remaining dataset\")\n",
    "print(f\"Remaining data Picea abies healthy: {count_occurrences(sub_label_set, 0)}\")\n",
    "print(f\"Remaining data Picea abies stressed: {count_occurrences(sub_label_set, 1)}\")\n",
    "print(f\"Remaining data Pinus sylvestris healthy: {count_occurrences(sub_label_set, 2)}\")\n",
    "print(f\"Remaining data Pinus sylvestris stressed: {count_occurrences(sub_label_set, 3)}\")\n",
    "print(f\"Remaining data Abies alba healthy: {count_occurrences(sub_label_set, 4)}\")\n",
    "print(f\"Remaining data Abies alba stressed: {count_occurrences(sub_label_set, 5)}\")\n",
    "print(f\"Remaining data Fagus sylvatica healthy: {count_occurrences(sub_label_set, 6)}\")\n",
    "print(f\"Remaining data Fagus sylvatica stressed: {count_occurrences(sub_label_set, 7)}\")\n",
    "print(f\"Remaining data Quercus robur/petraea healthy: {count_occurrences(sub_label_set, 8)}\")\n",
    "print(f\"Remaining data Quercus robur/petraea stressed: {count_occurrences(sub_label_set, 9)}\")\n",
    "print(f\"Remaining data dead trees: {count_occurrences(sub_label_set, 10)}\")\n",
    "print(\"-\"*50)"
   ]
  },
  {
   "cell_type": "code",
   "execution_count": 16,
   "id": "e08fcf57",
   "metadata": {},
   "outputs": [],
   "source": [
    "# train transform with augmentation. \n",
    "transform_train = transforms.Compose([transforms.ToTensor(), transforms.RandomHorizontalFlip(p=0.5), transforms.RandomVerticalFlip(p=0.5),\n",
    "                                      transforms.RandomRotation(degrees=[0,360])])\n",
    "\n",
    "# test and val dataset transform without augmentation. \n",
    "transform = transforms.Compose([transforms.ToTensor()])\n",
    "\n",
    "# class names need to fit the customDataset class used e.g. 3 classes -> use CustomDataset3Classes\n",
    "#class_names = ['healthy', 'slightly_stressed', 'moderately_stressed', 'highly_stressed', 'dead']\n",
    "#class_names = ['healthy', 'moderately_stressed', 'highly_stressed', 'dead']\n",
    "#class_names = ['healthy', 'moderate stress', 'severe stress', 'dead']\n",
    "class_names = ['Picea abies healthy', 'Picea abies stressed', 'Pinus sylvestris healthy', 'Pinus sylvestris stressed', \n",
    "               'Abies alba healthy', 'Abies alba stressed', 'Fagus sylvatica healthy', 'Fagus sylvatica stressed',\n",
    "               'Quercus robur/petraea healthy', 'Quercus robur/petraea stressed', 'dead trees']\n",
    "\n",
    "# set seeds\n",
    "g = torch.Generator()\n",
    "g.manual_seed(42)\n",
    "NUM_WORKERS=3 # should be changed, depending on the system used\n",
    "batch_size=32"
   ]
  },
  {
   "cell_type": "markdown",
   "id": "31779c05",
   "metadata": {},
   "source": [
    "#### Define variables and parameters"
   ]
  },
  {
   "cell_type": "code",
   "execution_count": 17,
   "id": "10ae4379",
   "metadata": {},
   "outputs": [
    {
     "name": "stdout",
     "output_type": "stream",
     "text": [
      "Memory allocated: 0 bytes\n"
     ]
    }
   ],
   "source": [
    "# 1. Define number of epochs\n",
    "epochs = 50\n",
    "n_bands = sub_image_set[0].shape[2] # get number of bands\n",
    "\n",
    "# 2. Define model\n",
    "num_classes = len(class_names)\n",
    "unfreeze = True # all layer weights get updated\n",
    "dropout_rate = 0.5 #define dropout rate\n",
    "model_name = \"EffNet_b7_RGB-RE-NIR-5species-combined\"\n",
    "\n",
    "# 3. Define loss, optimizer and learning rate scheduler\n",
    "lr = 0.001 # define learning rate\n",
    "min_lr = 1e-6 # minimum learning rate threshold\n",
    "gamma = 0.75 # how fast the learning rate decreases per epoch (low number=faster decrease)\n",
    "patience = 10\n",
    "\n",
    "# 4. Create target folder name were to save the tensorboard event files\n",
    "experiment_name = 'RGB-RE-NIR-5species-combined'\n",
    "extra = \"RGB-RE-NIR-5species-combined\"\n",
    "\n",
    "#----------------------------------------------------------------------\n",
    "#torch.cuda.empty_cache()\n",
    "print(f\"Memory allocated: {torch.cuda.memory_allocated()} bytes\") "
   ]
  },
  {
   "cell_type": "markdown",
   "id": "09768b1a",
   "metadata": {},
   "source": [
    "#### Run k-Fold cross-validation on EfficientNet"
   ]
  },
  {
   "cell_type": "code",
   "execution_count": 18,
   "id": "9c29c81d",
   "metadata": {},
   "outputs": [
    {
     "name": "stdout",
     "output_type": "stream",
     "text": [
      "ORIGINAL POSITIVE RATIO: 2.9223584354932868\n",
      "Fold : 1\n",
      "TRAIN POSITIVE RATIO: 2.921033478893741\n",
      "VAL POSITIVE RATIO  : 2.9277286135693217\n",
      "LENGTH TRAIN GROUPS : 4158\n",
      "LENGTH VAL GROUPS   : 1039\n"
     ]
    },
    {
     "data": {
      "text/html": [
       "Finishing last run (ID:kzla4vaf) before initializing another..."
      ],
      "text/plain": [
       "<IPython.core.display.HTML object>"
      ]
     },
     "metadata": {},
     "output_type": "display_data"
    },
    {
     "data": {
      "text/html": [
       "Waiting for W&B process to finish... <strong style=\"color:green\">(success).</strong>"
      ],
      "text/plain": [
       "<IPython.core.display.HTML object>"
      ]
     },
     "metadata": {},
     "output_type": "display_data"
    },
    {
     "data": {
      "text/html": [
       " View run <strong style=\"color:#cdcd00\">vocal-totem-13</strong> at: <a href='https://wandb.ai/simon-ecke/wze-uav-combined-treewise/runs/kzla4vaf' target=\"_blank\">https://wandb.ai/simon-ecke/wze-uav-combined-treewise/runs/kzla4vaf</a><br/>Synced 5 W&B file(s), 0 media file(s), 0 artifact file(s) and 0 other file(s)"
      ],
      "text/plain": [
       "<IPython.core.display.HTML object>"
      ]
     },
     "metadata": {},
     "output_type": "display_data"
    },
    {
     "data": {
      "text/html": [
       "Find logs at: <code>.\\wandb\\run-20230520_032227-kzla4vaf\\logs</code>"
      ],
      "text/plain": [
       "<IPython.core.display.HTML object>"
      ]
     },
     "metadata": {},
     "output_type": "display_data"
    },
    {
     "data": {
      "text/html": [
       "Successfully finished last run (ID:kzla4vaf). Initializing new run:<br/>"
      ],
      "text/plain": [
       "<IPython.core.display.HTML object>"
      ]
     },
     "metadata": {},
     "output_type": "display_data"
    },
    {
     "data": {
      "text/html": [
       "wandb version 0.15.3 is available!  To upgrade, please run:\n",
       " $ pip install wandb --upgrade"
      ],
      "text/plain": [
       "<IPython.core.display.HTML object>"
      ]
     },
     "metadata": {},
     "output_type": "display_data"
    },
    {
     "data": {
      "text/html": [
       "Tracking run with wandb version 0.14.2"
      ],
      "text/plain": [
       "<IPython.core.display.HTML object>"
      ]
     },
     "metadata": {},
     "output_type": "display_data"
    },
    {
     "data": {
      "text/html": [
       "Run data is saved locally in <code>C:\\Users\\lwfeckesim\\01_PyTorch\\wze-uav\\wze-uav-master\\wandb\\run-20230520_042136-5ft8pom1</code>"
      ],
      "text/plain": [
       "<IPython.core.display.HTML object>"
      ]
     },
     "metadata": {},
     "output_type": "display_data"
    },
    {
     "data": {
      "text/html": [
       "Syncing run <strong><a href='https://wandb.ai/simon-ecke/wze-uav-combined-treewise/runs/5ft8pom1' target=\"_blank\">fold_1_RGB-RE-NIR-5species-combined</a></strong> to <a href='https://wandb.ai/simon-ecke/wze-uav-combined-treewise' target=\"_blank\">Weights & Biases</a> (<a href='https://wandb.me/run' target=\"_blank\">docs</a>)<br/>"
      ],
      "text/plain": [
       "<IPython.core.display.HTML object>"
      ]
     },
     "metadata": {},
     "output_type": "display_data"
    },
    {
     "data": {
      "text/html": [
       " View project at <a href='https://wandb.ai/simon-ecke/wze-uav-combined-treewise' target=\"_blank\">https://wandb.ai/simon-ecke/wze-uav-combined-treewise</a>"
      ],
      "text/plain": [
       "<IPython.core.display.HTML object>"
      ]
     },
     "metadata": {},
     "output_type": "display_data"
    },
    {
     "data": {
      "text/html": [
       " View run at <a href='https://wandb.ai/simon-ecke/wze-uav-combined-treewise/runs/5ft8pom1' target=\"_blank\">https://wandb.ai/simon-ecke/wze-uav-combined-treewise/runs/5ft8pom1</a>"
      ],
      "text/plain": [
       "<IPython.core.display.HTML object>"
      ]
     },
     "metadata": {},
     "output_type": "display_data"
    },
    {
     "name": "stdout",
     "output_type": "stream",
     "text": [
      "There are no same hash_id values in train, val or test datasets. The datasplit was successful\n",
      "Check shapes:\n",
      "\n",
      "Images train dataset: (10992, 250, 250, 5)\n",
      "Labels train dataset: (10992, 1)\n",
      "\n",
      "Images validation dataset: (1039, 250, 250, 5)\n",
      "Labels validation dataset: (1039, 1)\n",
      "\n",
      "--------------------------------------------------\n",
      "Check if the split was stratified: (random_state=42)\n",
      "Picea abies healthy in train dataset: 2974\n",
      "Picea abies stressed in train dataset: 1549\n",
      "Pinus sylvestris healthy in train dataset: 1457\n",
      "Pinus sylvestris stressed in train dataset: 1739\n",
      "Abies alba healthy in train dataset: 336\n",
      "Abies alba stressed in train dataset: 124\n",
      "Fagus sylvatica healthy in train dataset: 987\n",
      "Fagus sylvatica stressed in train dataset: 737\n",
      "Quercus robur/petraea healthy in train dataset: 585\n",
      "Quercus robur/petraea stressed in train dataset: 337\n",
      "Dead trees in train dataset: 167\n",
      "Picea abies healthy in validation dataset: 289\n",
      "Picea abies stressed in validation dataset: 165\n",
      "Pinus sylvestris healthy in validation dataset: 119\n",
      "Pinus sylvestris stressed in validation dataset: 160\n",
      "Abies alba healthy in validation dataset: 29\n",
      "Abies alba stressed in validation dataset: 14\n",
      "Fagus sylvatica healthy in validation dataset: 91\n",
      "Fagus sylvatica stressed in validation dataset: 58\n",
      "Quercus robur/petraea healthy in validation dataset: 58\n",
      "Quercus robur/petraea stressed in validation dataset: 33\n",
      "Dead trees in validation dataset: 23\n",
      "--------------------------------------------------\n",
      "\n",
      "Creating datasets for fold: 1\n",
      "\n",
      "Creating dataloaders for fold: 1\n",
      "\n",
      "Loaded pretrained weights for efficientnet-b7\n",
      "\n",
      "[INFO] Fold number: 1\n",
      "[INFO] Number of epochs: 50\n",
      "[INFO] Batch_size: 32\n",
      "[INFO] Number of bands: 5\n",
      "[INFO] Dropout rate: 0.5\n",
      "[INFO] Gamma learning rate: 0.75\n",
      "[INFO] Memory allocated: 0 bytes\n"
     ]
    },
    {
     "data": {
      "application/vnd.jupyter.widget-view+json": {
       "model_id": "bda3453833b54ac58a641b4ed41f6816",
       "version_major": 2,
       "version_minor": 0
      },
      "text/plain": [
       "  0%|          | 0/50 [00:00<?, ?it/s]"
      ]
     },
     "metadata": {},
     "output_type": "display_data"
    },
    {
     "name": "stdout",
     "output_type": "stream",
     "text": [
      "Epoch: 1 \n",
      "Learning rate: 0.001\n",
      "Train loss: 1.5100 | Train precision: 0.3312 | Train recall: 0.2966 | Train f1score: 0.2991 | Train acc: 0.4007 | Train kappa: 0.6705 \n",
      "Val loss: 1.7889 | Val precision: 0.1525 | Val recall: 0.2001 | Val f1score: 0.1377 | Val acc: 0.3477 | Val kappa: 0.4841 \n",
      "\n",
      "Epoch: 2 \n",
      "Learning rate: 0.00075\n",
      "Train loss: 1.2112 | Train precision: 0.4252 | Train recall: 0.3975 | Train f1score: 0.3990 | Train acc: 0.4824 | Train kappa: 0.8006 \n",
      "Val loss: 1.5910 | Val precision: 0.2646 | Val recall: 0.2947 | Val f1score: 0.2450 | Val acc: 0.3789 | Val kappa: 0.6449 \n",
      "\n",
      "Epoch: 3 \n",
      "Learning rate: 0.0005625000000000001\n",
      "Train loss: 1.1094 | Train precision: 0.4856 | Train recall: 0.4593 | Train f1score: 0.4633 | Train acc: 0.5184 | Train kappa: 0.8362 \n",
      "Val loss: 1.2075 | Val precision: 0.4755 | Val recall: 0.4376 | Val f1score: 0.4101 | Val acc: 0.5088 | Val kappa: 0.8097 \n",
      "\n",
      "Epoch: 4 \n",
      "Learning rate: 0.000421875\n",
      "Train loss: 1.0307 | Train precision: 0.5388 | Train recall: 0.5069 | Train f1score: 0.5113 | Train acc: 0.5545 | Train kappa: 0.8645 \n",
      "Val loss: 1.0885 | Val precision: 0.5535 | Val recall: 0.4908 | Val f1score: 0.4827 | Val acc: 0.5166 | Val kappa: 0.8414 \n",
      "\n",
      "Epoch: 5 \n",
      "Learning rate: 0.00031640625\n",
      "Train loss: 1.0068 | Train precision: 0.5246 | Train recall: 0.5002 | Train f1score: 0.5041 | Train acc: 0.5460 | Train kappa: 0.8753 \n",
      "Val loss: 0.9810 | Val precision: 0.4821 | Val recall: 0.5290 | Val f1score: 0.4968 | Val acc: 0.5713 | Val kappa: 0.8827 \n",
      "\n",
      "Epoch: 6 \n",
      "Learning rate: 0.0002373046875\n",
      "Train loss: 0.9494 | Train precision: 0.5638 | Train recall: 0.5426 | Train f1score: 0.5447 | Train acc: 0.5870 | Train kappa: 0.8869 \n",
      "Val loss: 0.9880 | Val precision: 0.5745 | Val recall: 0.5350 | Val f1score: 0.5353 | Val acc: 0.5869 | Val kappa: 0.8619 \n",
      "\n",
      "Epoch: 7 \n",
      "Learning rate: 0.000177978515625\n",
      "Train loss: 0.9179 | Train precision: 0.5890 | Train recall: 0.5601 | Train f1score: 0.5663 | Train acc: 0.5951 | Train kappa: 0.8907 \n",
      "Val loss: 0.9297 | Val precision: 0.5995 | Val recall: 0.5703 | Val f1score: 0.5651 | Val acc: 0.5859 | Val kappa: 0.8900 \n",
      "\n",
      "Epoch: 8 \n",
      "Learning rate: 0.00013348388671875\n",
      "Train loss: 0.8823 | Train precision: 0.6150 | Train recall: 0.5855 | Train f1score: 0.5947 | Train acc: 0.6087 | Train kappa: 0.9081 \n",
      "Val loss: 0.9187 | Val precision: 0.5670 | Val recall: 0.5249 | Val f1score: 0.5190 | Val acc: 0.5654 | Val kappa: 0.8901 \n",
      "\n",
      "Epoch: 9 \n",
      "Learning rate: 0.0001001129150390625\n",
      "Train loss: 0.8614 | Train precision: 0.6243 | Train recall: 0.5964 | Train f1score: 0.6056 | Train acc: 0.6176 | Train kappa: 0.9066 \n",
      "Val loss: 0.8726 | Val precision: 0.5988 | Val recall: 0.5775 | Val f1score: 0.5753 | Val acc: 0.6162 | Val kappa: 0.9002 \n",
      "\n",
      "Epoch: 10 \n",
      "Learning rate: 7.508468627929687e-05\n",
      "Train loss: 0.8406 | Train precision: 0.6363 | Train recall: 0.6056 | Train f1score: 0.6155 | Train acc: 0.6222 | Train kappa: 0.9138 \n",
      "Val loss: 0.8419 | Val precision: 0.6148 | Val recall: 0.5920 | Val f1score: 0.5977 | Val acc: 0.6299 | Val kappa: 0.9082 \n",
      "\n",
      "Epoch: 11 \n",
      "Learning rate: 5.6313514709472656e-05\n",
      "Train loss: 0.8293 | Train precision: 0.6416 | Train recall: 0.6145 | Train f1score: 0.6223 | Train acc: 0.6271 | Train kappa: 0.9198 \n",
      "Val loss: 0.8656 | Val precision: 0.5725 | Val recall: 0.5628 | Val f1score: 0.5520 | Val acc: 0.6201 | Val kappa: 0.8963 \n",
      "\n",
      "Epoch: 12 \n",
      "Learning rate: 4.223513603210449e-05\n",
      "Train loss: 0.8177 | Train precision: 0.6446 | Train recall: 0.6124 | Train f1score: 0.6219 | Train acc: 0.6360 | Train kappa: 0.9195 \n",
      "Val loss: 0.8662 | Val precision: 0.5843 | Val recall: 0.5683 | Val f1score: 0.5605 | Val acc: 0.6143 | Val kappa: 0.8970 \n",
      "\n",
      "Epoch: 13 \n",
      "Learning rate: 3.167635202407837e-05\n",
      "Train loss: 0.8159 | Train precision: 0.6424 | Train recall: 0.6168 | Train f1score: 0.6230 | Train acc: 0.6347 | Train kappa: 0.9203 \n",
      "Val loss: 0.8538 | Val precision: 0.6090 | Val recall: 0.5921 | Val f1score: 0.5894 | Val acc: 0.6279 | Val kappa: 0.8990 \n",
      "\n",
      "Epoch: 14 \n",
      "Learning rate: 2.3757264018058778e-05\n",
      "Train loss: 0.7903 | Train precision: 0.6609 | Train recall: 0.6394 | Train f1score: 0.6466 | Train acc: 0.6459 | Train kappa: 0.9263 \n",
      "Val loss: 0.8479 | Val precision: 0.6070 | Val recall: 0.5774 | Val f1score: 0.5774 | Val acc: 0.6230 | Val kappa: 0.9045 \n",
      "\n",
      "Epoch: 15 \n",
      "Learning rate: 1.7817948013544083e-05\n",
      "Train loss: 0.8012 | Train precision: 0.6457 | Train recall: 0.6188 | Train f1score: 0.6260 | Train acc: 0.6392 | Train kappa: 0.9225 \n",
      "Val loss: 0.8490 | Val precision: 0.5897 | Val recall: 0.5720 | Val f1score: 0.5684 | Val acc: 0.6172 | Val kappa: 0.9036 \n",
      "\n",
      "Epoch: 16 \n",
      "Learning rate: 1.3363461010158063e-05\n",
      "Train loss: 0.7927 | Train precision: 0.6568 | Train recall: 0.6297 | Train f1score: 0.6382 | Train acc: 0.6463 | Train kappa: 0.9259 \n",
      "Val loss: 0.8427 | Val precision: 0.6031 | Val recall: 0.5816 | Val f1score: 0.5791 | Val acc: 0.6260 | Val kappa: 0.9072 \n",
      "\n",
      "Epoch: 17 \n",
      "Learning rate: 1.0022595757618546e-05\n",
      "Train loss: 0.7948 | Train precision: 0.6506 | Train recall: 0.6286 | Train f1score: 0.6356 | Train acc: 0.6439 | Train kappa: 0.9263 \n",
      "Val loss: 0.8403 | Val precision: 0.6060 | Val recall: 0.5851 | Val f1score: 0.5829 | Val acc: 0.6201 | Val kappa: 0.9090 \n",
      "\n",
      "Epoch: 18 \n",
      "Learning rate: 7.51694681821391e-06\n",
      "Train loss: 0.7871 | Train precision: 0.6627 | Train recall: 0.6410 | Train f1score: 0.6466 | Train acc: 0.6465 | Train kappa: 0.9260 \n",
      "Val loss: 0.8420 | Val precision: 0.6153 | Val recall: 0.5857 | Val f1score: 0.5852 | Val acc: 0.6240 | Val kappa: 0.9086 \n",
      "\n",
      "Epoch: 19 \n",
      "Learning rate: 5.637710113660432e-06\n",
      "Train loss: 0.7850 | Train precision: 0.6593 | Train recall: 0.6380 | Train f1score: 0.6434 | Train acc: 0.6400 | Train kappa: 0.9337 \n",
      "Val loss: 0.8405 | Val precision: 0.6192 | Val recall: 0.5967 | Val f1score: 0.5956 | Val acc: 0.6338 | Val kappa: 0.9101 \n",
      "\n",
      "Epoch: 20 \n",
      "Learning rate: 4.228282585245324e-06\n",
      "Train loss: 0.7918 | Train precision: 0.6528 | Train recall: 0.6238 | Train f1score: 0.6328 | Train acc: 0.6385 | Train kappa: 0.9244 \n",
      "Val loss: 0.8365 | Val precision: 0.6135 | Val recall: 0.5918 | Val f1score: 0.5911 | Val acc: 0.6299 | Val kappa: 0.9087 \n",
      "\n",
      "Epoch: 21 \n",
      "Learning rate: 3.1712119389339933e-06\n",
      "Train loss: 0.7785 | Train precision: 0.6695 | Train recall: 0.6443 | Train f1score: 0.6521 | Train acc: 0.6530 | Train kappa: 0.9271 \n",
      "Val loss: 0.8401 | Val precision: 0.6123 | Val recall: 0.5940 | Val f1score: 0.5927 | Val acc: 0.6270 | Val kappa: 0.9084 \n",
      "\n",
      "Epoch: 22 \n",
      "Learning rate: 2.378408954200495e-06\n",
      "Train loss: 0.7699 | Train precision: 0.6609 | Train recall: 0.6477 | Train f1score: 0.6520 | Train acc: 0.6533 | Train kappa: 0.9287 \n",
      "Val loss: 0.8377 | Val precision: 0.6197 | Val recall: 0.5972 | Val f1score: 0.5970 | Val acc: 0.6338 | Val kappa: 0.9094 \n",
      "\n",
      "Epoch: 23 \n",
      "Learning rate: 1.7838067156503713e-06\n",
      "Train loss: 0.7747 | Train precision: 0.6653 | Train recall: 0.6428 | Train f1score: 0.6498 | Train acc: 0.6479 | Train kappa: 0.9277 \n",
      "Val loss: 0.8394 | Val precision: 0.6172 | Val recall: 0.5946 | Val f1score: 0.5939 | Val acc: 0.6289 | Val kappa: 0.9104 \n",
      "\n",
      "Epoch: 24 \n",
      "Learning rate: 1.3378550367377785e-06\n",
      "Train loss: 0.7836 | Train precision: 0.6599 | Train recall: 0.6340 | Train f1score: 0.6423 | Train acc: 0.6454 | Train kappa: 0.9258 \n",
      "Val loss: 0.8367 | Val precision: 0.6164 | Val recall: 0.5972 | Val f1score: 0.5963 | Val acc: 0.6318 | Val kappa: 0.9085 \n",
      "\n",
      "Epoch: 25 \n",
      "Learning rate: 1.0033912775533338e-06\n",
      "Train loss: 0.7778 | Train precision: 0.6696 | Train recall: 0.6441 | Train f1score: 0.6530 | Train acc: 0.6531 | Train kappa: 0.9288 \n",
      "Val loss: 0.8391 | Val precision: 0.6135 | Val recall: 0.5943 | Val f1score: 0.5934 | Val acc: 0.6299 | Val kappa: 0.9107 \n",
      "\n",
      "Epoch: 26 \n",
      "Learning rate: 1e-06\n",
      "Train loss: 0.7727 | Train precision: 0.6734 | Train recall: 0.6456 | Train f1score: 0.6550 | Train acc: 0.6544 | Train kappa: 0.9280 \n",
      "Val loss: 0.8379 | Val precision: 0.6185 | Val recall: 0.5947 | Val f1score: 0.5947 | Val acc: 0.6318 | Val kappa: 0.9110 \n",
      "\n",
      "Epoch: 27 \n",
      "Learning rate: 1e-06\n",
      "Train loss: 0.7778 | Train precision: 0.6730 | Train recall: 0.6399 | Train f1score: 0.6513 | Train acc: 0.6525 | Train kappa: 0.9261 \n",
      "Val loss: 0.8370 | Val precision: 0.6180 | Val recall: 0.5942 | Val f1score: 0.5932 | Val acc: 0.6318 | Val kappa: 0.9118 \n",
      "\n"
     ]
    },
    {
     "name": "stdout",
     "output_type": "stream",
     "text": [
      "Epoch: 28 \n",
      "Learning rate: 1e-06\n",
      "Train loss: 0.7730 | Train precision: 0.6750 | Train recall: 0.6499 | Train f1score: 0.6583 | Train acc: 0.6591 | Train kappa: 0.9291 \n",
      "Val loss: 0.8358 | Val precision: 0.6091 | Val recall: 0.5914 | Val f1score: 0.5896 | Val acc: 0.6299 | Val kappa: 0.9081 \n",
      "\n",
      "Epoch: 29 \n",
      "Learning rate: 1e-06\n",
      "Train loss: 0.7751 | Train precision: 0.6679 | Train recall: 0.6463 | Train f1score: 0.6542 | Train acc: 0.6541 | Train kappa: 0.9283 \n",
      "Val loss: 0.8364 | Val precision: 0.6138 | Val recall: 0.5937 | Val f1score: 0.5934 | Val acc: 0.6318 | Val kappa: 0.9119 \n",
      "\n",
      "Epoch: 30 \n",
      "Learning rate: 1e-06\n",
      "Train loss: 0.7684 | Train precision: 0.6609 | Train recall: 0.6349 | Train f1score: 0.6432 | Train acc: 0.6517 | Train kappa: 0.9277 \n",
      "Val loss: 0.8361 | Val precision: 0.6148 | Val recall: 0.5928 | Val f1score: 0.5914 | Val acc: 0.6318 | Val kappa: 0.9101 \n",
      "\n",
      "Epoch: 31 \n",
      "Learning rate: 1e-06\n",
      "Train loss: 0.7647 | Train precision: 0.6694 | Train recall: 0.6422 | Train f1score: 0.6523 | Train acc: 0.6527 | Train kappa: 0.9327 \n",
      "Val loss: 0.8354 | Val precision: 0.6204 | Val recall: 0.5991 | Val f1score: 0.5974 | Val acc: 0.6367 | Val kappa: 0.9116 \n",
      "\n",
      "Epoch: 32 \n",
      "Learning rate: 1e-06\n",
      "Train loss: 0.7644 | Train precision: 0.6814 | Train recall: 0.6509 | Train f1score: 0.6604 | Train acc: 0.6536 | Train kappa: 0.9340 \n",
      "Val loss: 0.8374 | Val precision: 0.6185 | Val recall: 0.5967 | Val f1score: 0.5954 | Val acc: 0.6318 | Val kappa: 0.9113 \n",
      "\n",
      "Epoch: 33 \n",
      "Learning rate: 1e-06\n",
      "Train loss: 0.7745 | Train precision: 0.6685 | Train recall: 0.6387 | Train f1score: 0.6486 | Train acc: 0.6552 | Train kappa: 0.9312 \n",
      "Val loss: 0.8354 | Val precision: 0.6176 | Val recall: 0.5973 | Val f1score: 0.5959 | Val acc: 0.6338 | Val kappa: 0.9108 \n",
      "\n",
      "Epoch: 34 \n",
      "Learning rate: 1e-06\n",
      "Train loss: 0.7685 | Train precision: 0.6627 | Train recall: 0.6462 | Train f1score: 0.6515 | Train acc: 0.6516 | Train kappa: 0.9253 \n",
      "Val loss: 0.8338 | Val precision: 0.6190 | Val recall: 0.5984 | Val f1score: 0.5977 | Val acc: 0.6328 | Val kappa: 0.9115 \n",
      "\n",
      "Epoch: 35 \n",
      "Learning rate: 1e-06\n",
      "Train loss: 0.7790 | Train precision: 0.6705 | Train recall: 0.6386 | Train f1score: 0.6489 | Train acc: 0.6503 | Train kappa: 0.9227 \n",
      "Val loss: 0.8366 | Val precision: 0.6177 | Val recall: 0.5962 | Val f1score: 0.5950 | Val acc: 0.6338 | Val kappa: 0.9098 \n",
      "\n",
      "Epoch: 36 \n",
      "Learning rate: 1e-06\n",
      "Train loss: 0.7828 | Train precision: 0.6661 | Train recall: 0.6434 | Train f1score: 0.6498 | Train acc: 0.6533 | Train kappa: 0.9262 \n",
      "Val loss: 0.8344 | Val precision: 0.6205 | Val recall: 0.5946 | Val f1score: 0.5951 | Val acc: 0.6348 | Val kappa: 0.9119 \n",
      "\n",
      "Epoch: 37 \n",
      "Learning rate: 1e-06\n",
      "Train loss: 0.7700 | Train precision: 0.6656 | Train recall: 0.6333 | Train f1score: 0.6442 | Train acc: 0.6494 | Train kappa: 0.9313 \n",
      "Val loss: 0.8348 | Val precision: 0.6157 | Val recall: 0.5958 | Val f1score: 0.5953 | Val acc: 0.6328 | Val kappa: 0.9113 \n",
      "\n",
      "Epoch: 38 \n",
      "Learning rate: 1e-06\n",
      "Train loss: 0.7868 | Train precision: 0.6673 | Train recall: 0.6394 | Train f1score: 0.6483 | Train acc: 0.6466 | Train kappa: 0.9279 \n",
      "Val loss: 0.8341 | Val precision: 0.6106 | Val recall: 0.5937 | Val f1score: 0.5919 | Val acc: 0.6299 | Val kappa: 0.9105 \n",
      "\n",
      "Epoch: 39 \n",
      "Learning rate: 1e-06\n",
      "Train loss: 0.7697 | Train precision: 0.6601 | Train recall: 0.6354 | Train f1score: 0.6425 | Train acc: 0.6547 | Train kappa: 0.9293 \n",
      "Val loss: 0.8354 | Val precision: 0.6172 | Val recall: 0.5961 | Val f1score: 0.5949 | Val acc: 0.6299 | Val kappa: 0.9105 \n",
      "\n",
      "Epoch: 40 \n",
      "Learning rate: 1e-06\n",
      "Train loss: 0.7724 | Train precision: 0.6720 | Train recall: 0.6416 | Train f1score: 0.6527 | Train acc: 0.6507 | Train kappa: 0.9289 \n",
      "Val loss: 0.8340 | Val precision: 0.6160 | Val recall: 0.5942 | Val f1score: 0.5932 | Val acc: 0.6299 | Val kappa: 0.9107 \n",
      "\n",
      "Epoch: 41 \n",
      "Learning rate: 1e-06\n",
      "Train loss: 0.7935 | Train precision: 0.6628 | Train recall: 0.6309 | Train f1score: 0.6406 | Train acc: 0.6473 | Train kappa: 0.9254 \n",
      "Val loss: 0.8361 | Val precision: 0.6142 | Val recall: 0.5943 | Val f1score: 0.5935 | Val acc: 0.6318 | Val kappa: 0.9105 \n",
      "\n",
      "Epoch: 42 \n",
      "Learning rate: 1e-06\n",
      "Train loss: 0.7688 | Train precision: 0.6709 | Train recall: 0.6462 | Train f1score: 0.6535 | Train acc: 0.6527 | Train kappa: 0.9350 \n",
      "Val loss: 0.8344 | Val precision: 0.6136 | Val recall: 0.5912 | Val f1score: 0.5899 | Val acc: 0.6289 | Val kappa: 0.9088 \n",
      "\n",
      "Epoch: 43 \n",
      "Learning rate: 1e-06\n",
      "Train loss: 0.7735 | Train precision: 0.6697 | Train recall: 0.6405 | Train f1score: 0.6500 | Train acc: 0.6494 | Train kappa: 0.9296 \n",
      "Val loss: 0.8348 | Val precision: 0.6153 | Val recall: 0.5944 | Val f1score: 0.5929 | Val acc: 0.6299 | Val kappa: 0.9095 \n",
      "\n",
      "Epoch: 44 \n",
      "Learning rate: 1e-06\n",
      "Train loss: 0.7710 | Train precision: 0.6650 | Train recall: 0.6410 | Train f1score: 0.6490 | Train acc: 0.6530 | Train kappa: 0.9296 \n",
      "Val loss: 0.8359 | Val precision: 0.6150 | Val recall: 0.5948 | Val f1score: 0.5946 | Val acc: 0.6309 | Val kappa: 0.9118 \n",
      "\n",
      "Early stopping after epoch 44\n"
     ]
    },
    {
     "data": {
      "text/html": [
       "Waiting for W&B process to finish... <strong style=\"color:green\">(success).</strong>"
      ],
      "text/plain": [
       "<IPython.core.display.HTML object>"
      ]
     },
     "metadata": {},
     "output_type": "display_data"
    },
    {
     "data": {
      "application/vnd.jupyter.widget-view+json": {
       "model_id": "457414373caf443db3de2ed5854b6f7f",
       "version_major": 2,
       "version_minor": 0
      },
      "text/plain": [
       "VBox(children=(Label(value='0.001 MB of 0.001 MB uploaded (0.000 MB deduped)\\r'), FloatProgress(value=1.0, max…"
      ]
     },
     "metadata": {},
     "output_type": "display_data"
    },
    {
     "data": {
      "text/html": [
       "<style>\n",
       "    table.wandb td:nth-child(1) { padding: 0 10px; text-align: left ; width: auto;} td:nth-child(2) {text-align: left ; width: 100%}\n",
       "    .wandb-row { display: flex; flex-direction: row; flex-wrap: wrap; justify-content: flex-start; width: 100% }\n",
       "    .wandb-col { display: flex; flex-direction: column; flex-basis: 100%; flex: 1; padding: 10px; }\n",
       "    </style>\n",
       "<div class=\"wandb-row\"><div class=\"wandb-col\"><h3>Run history:</h3><br/><table class=\"wandb\"><tr><td>learning_rate</td><td>█▆▅▄▃▃▂▂▂▂▁▁▁▁▁▁▁▁▁▁▁▁▁▁▁▁▁▁▁▁▁▁▁▁▁▁▁▁▁▁</td></tr><tr><td>train_f1_score</td><td>▁▃▄▅▅▆▆▇▇▇▇▇█▇████▇█████████████████████</td></tr><tr><td>train_loss</td><td>█▅▄▃▃▃▂▂▂▂▂▁▁▁▁▁▁▁▁▁▁▁▁▁▁▁▁▁▁▁▁▁▁▁▁▁▁▁▁▁</td></tr><tr><td>val_f1_score</td><td>▁▃▅▆▆▇█▇██▇█████████████████████████████</td></tr><tr><td>val_loss</td><td>█▇▄▃▂▂▂▂▁▁▁▁▁▁▁▁▁▁▁▁▁▁▁▁▁▁▁▁▁▁▁▁▁▁▁▁▁▁▁▁</td></tr></table><br/></div><div class=\"wandb-col\"><h3>Run summary:</h3><br/><table class=\"wandb\"><tr><td>learning_rate</td><td>0.0</td></tr><tr><td>train_f1_score</td><td>0.64896</td></tr><tr><td>train_loss</td><td>0.77103</td></tr><tr><td>val_f1_score</td><td>0.59457</td></tr><tr><td>val_loss</td><td>0.83591</td></tr></table><br/></div></div>"
      ],
      "text/plain": [
       "<IPython.core.display.HTML object>"
      ]
     },
     "metadata": {},
     "output_type": "display_data"
    },
    {
     "data": {
      "text/html": [
       " View run <strong style=\"color:#cdcd00\">fold_1_RGB-RE-NIR-5species-combined</strong> at: <a href='https://wandb.ai/simon-ecke/wze-uav-combined-treewise/runs/5ft8pom1' target=\"_blank\">https://wandb.ai/simon-ecke/wze-uav-combined-treewise/runs/5ft8pom1</a><br/>Synced 5 W&B file(s), 0 media file(s), 0 artifact file(s) and 0 other file(s)"
      ],
      "text/plain": [
       "<IPython.core.display.HTML object>"
      ]
     },
     "metadata": {},
     "output_type": "display_data"
    },
    {
     "data": {
      "text/html": [
       "Find logs at: <code>.\\wandb\\run-20230520_042136-5ft8pom1\\logs</code>"
      ],
      "text/plain": [
       "<IPython.core.display.HTML object>"
      ]
     },
     "metadata": {},
     "output_type": "display_data"
    },
    {
     "name": "stdout",
     "output_type": "stream",
     "text": [
      "Deleting variables and emptying cache\n",
      "Memory allocated: 1049500672 bytes\n",
      "--------------------------------------------------\n",
      "\n",
      "Fold : 2\n",
      "TRAIN POSITIVE RATIO: 2.956775487871603\n",
      "VAL POSITIVE RATIO  : 2.7845142439737036\n",
      "LENGTH TRAIN GROUPS : 4159\n",
      "LENGTH VAL GROUPS   : 1038\n"
     ]
    },
    {
     "data": {
      "text/html": [
       "wandb version 0.15.3 is available!  To upgrade, please run:\n",
       " $ pip install wandb --upgrade"
      ],
      "text/plain": [
       "<IPython.core.display.HTML object>"
      ]
     },
     "metadata": {},
     "output_type": "display_data"
    },
    {
     "data": {
      "text/html": [
       "Tracking run with wandb version 0.14.2"
      ],
      "text/plain": [
       "<IPython.core.display.HTML object>"
      ]
     },
     "metadata": {},
     "output_type": "display_data"
    },
    {
     "data": {
      "text/html": [
       "Run data is saved locally in <code>C:\\Users\\lwfeckesim\\01_PyTorch\\wze-uav\\wze-uav-master\\wandb\\run-20230520_074713-wy1fs37w</code>"
      ],
      "text/plain": [
       "<IPython.core.display.HTML object>"
      ]
     },
     "metadata": {},
     "output_type": "display_data"
    },
    {
     "data": {
      "text/html": [
       "Syncing run <strong><a href='https://wandb.ai/simon-ecke/wze-uav-combined-treewise/runs/wy1fs37w' target=\"_blank\">fold_2_RGB-RE-NIR-5species-combined</a></strong> to <a href='https://wandb.ai/simon-ecke/wze-uav-combined-treewise' target=\"_blank\">Weights & Biases</a> (<a href='https://wandb.me/run' target=\"_blank\">docs</a>)<br/>"
      ],
      "text/plain": [
       "<IPython.core.display.HTML object>"
      ]
     },
     "metadata": {},
     "output_type": "display_data"
    },
    {
     "data": {
      "text/html": [
       " View project at <a href='https://wandb.ai/simon-ecke/wze-uav-combined-treewise' target=\"_blank\">https://wandb.ai/simon-ecke/wze-uav-combined-treewise</a>"
      ],
      "text/plain": [
       "<IPython.core.display.HTML object>"
      ]
     },
     "metadata": {},
     "output_type": "display_data"
    },
    {
     "data": {
      "text/html": [
       " View run at <a href='https://wandb.ai/simon-ecke/wze-uav-combined-treewise/runs/wy1fs37w' target=\"_blank\">https://wandb.ai/simon-ecke/wze-uav-combined-treewise/runs/wy1fs37w</a>"
      ],
      "text/plain": [
       "<IPython.core.display.HTML object>"
      ]
     },
     "metadata": {},
     "output_type": "display_data"
    },
    {
     "name": "stdout",
     "output_type": "stream",
     "text": [
      "There are no same hash_id values in train, val or test datasets. The datasplit was successful\n",
      "Check shapes:\n",
      "\n",
      "Images train dataset: (10966, 250, 250, 5)\n",
      "Labels train dataset: (10966, 1)\n",
      "\n",
      "Images validation dataset: (1038, 250, 250, 5)\n",
      "Labels validation dataset: (1038, 1)\n",
      "\n",
      "--------------------------------------------------\n",
      "Check if the split was stratified: (random_state=42)\n",
      "Picea abies healthy in train dataset: 2919\n",
      "Picea abies stressed in train dataset: 1548\n",
      "Pinus sylvestris healthy in train dataset: 1474\n",
      "Pinus sylvestris stressed in train dataset: 1736\n",
      "Abies alba healthy in train dataset: 306\n",
      "Abies alba stressed in train dataset: 130\n",
      "Fagus sylvatica healthy in train dataset: 993\n",
      "Fagus sylvatica stressed in train dataset: 715\n",
      "Quercus robur/petraea healthy in train dataset: 606\n",
      "Quercus robur/petraea stressed in train dataset: 355\n",
      "Dead trees in train dataset: 184\n",
      "Picea abies healthy in validation dataset: 298\n",
      "Picea abies stressed in validation dataset: 170\n",
      "Pinus sylvestris healthy in validation dataset: 123\n",
      "Pinus sylvestris stressed in validation dataset: 153\n",
      "Abies alba healthy in validation dataset: 42\n",
      "Abies alba stressed in validation dataset: 10\n",
      "Fagus sylvatica healthy in validation dataset: 82\n",
      "Fagus sylvatica stressed in validation dataset: 64\n",
      "Quercus robur/petraea healthy in validation dataset: 46\n",
      "Quercus robur/petraea stressed in validation dataset: 33\n",
      "Dead trees in validation dataset: 17\n",
      "--------------------------------------------------\n",
      "\n",
      "Creating datasets for fold: 2\n",
      "\n",
      "Creating dataloaders for fold: 2\n",
      "\n",
      "Loaded pretrained weights for efficientnet-b7\n",
      "\n",
      "[INFO] Fold number: 2\n",
      "[INFO] Number of epochs: 50\n",
      "[INFO] Batch_size: 32\n",
      "[INFO] Number of bands: 5\n",
      "[INFO] Dropout rate: 0.5\n",
      "[INFO] Gamma learning rate: 0.75\n",
      "[INFO] Memory allocated: 0 bytes\n"
     ]
    },
    {
     "data": {
      "application/vnd.jupyter.widget-view+json": {
       "model_id": "445e22692b60439cacb76d88308541b1",
       "version_major": 2,
       "version_minor": 0
      },
      "text/plain": [
       "  0%|          | 0/50 [00:00<?, ?it/s]"
      ]
     },
     "metadata": {},
     "output_type": "display_data"
    },
    {
     "name": "stdout",
     "output_type": "stream",
     "text": [
      "Epoch: 1 \n",
      "Learning rate: 0.001\n",
      "Train loss: 1.4980 | Train precision: 0.3418 | Train recall: 0.2963 | Train f1score: 0.3033 | Train acc: 0.4025 | Train kappa: 0.6733 \n",
      "Val loss: 1.7233 | Val precision: 0.2248 | Val recall: 0.2319 | Val f1score: 0.1782 | Val acc: 0.3428 | Val kappa: 0.6794 \n",
      "\n",
      "Epoch: 2 \n",
      "Learning rate: 0.00075\n",
      "Train loss: 1.1887 | Train precision: 0.4546 | Train recall: 0.4312 | Train f1score: 0.4358 | Train acc: 0.4946 | Train kappa: 0.8178 \n",
      "Val loss: 1.5617 | Val precision: 0.4170 | Val recall: 0.3296 | Val f1score: 0.3253 | Val acc: 0.4268 | Val kappa: 0.7104 \n",
      "\n",
      "Epoch: 3 \n",
      "Learning rate: 0.0005625000000000001\n",
      "Train loss: 1.0875 | Train precision: 0.5040 | Train recall: 0.4829 | Train f1score: 0.4866 | Train acc: 0.5261 | Train kappa: 0.8388 \n",
      "Val loss: 1.6416 | Val precision: 0.4099 | Val recall: 0.4174 | Val f1score: 0.3715 | Val acc: 0.4189 | Val kappa: 0.5306 \n",
      "\n",
      "Epoch: 4 \n",
      "Learning rate: 0.000421875\n",
      "Train loss: 1.0073 | Train precision: 0.5440 | Train recall: 0.5270 | Train f1score: 0.5322 | Train acc: 0.5542 | Train kappa: 0.8691 \n",
      "Val loss: 1.0988 | Val precision: 0.5205 | Val recall: 0.5480 | Val f1score: 0.4807 | Val acc: 0.5420 | Val kappa: 0.8557 \n",
      "\n",
      "Epoch: 5 \n",
      "Learning rate: 0.00031640625\n",
      "Train loss: 0.9408 | Train precision: 0.5762 | Train recall: 0.5585 | Train f1score: 0.5636 | Train acc: 0.5826 | Train kappa: 0.8844 \n",
      "Val loss: 1.0530 | Val precision: 0.5833 | Val recall: 0.4792 | Val f1score: 0.4458 | Val acc: 0.5547 | Val kappa: 0.8698 \n",
      "\n",
      "Epoch: 6 \n",
      "Learning rate: 0.0002373046875\n",
      "Train loss: 0.8864 | Train precision: 0.6047 | Train recall: 0.5817 | Train f1score: 0.5890 | Train acc: 0.6033 | Train kappa: 0.9016 \n",
      "Val loss: 0.9686 | Val precision: 0.5581 | Val recall: 0.5527 | Val f1score: 0.5126 | Val acc: 0.5693 | Val kappa: 0.8835 \n",
      "\n",
      "Epoch: 7 \n",
      "Learning rate: 0.000177978515625\n",
      "Train loss: 0.8710 | Train precision: 0.6154 | Train recall: 0.5834 | Train f1score: 0.5927 | Train acc: 0.6095 | Train kappa: 0.9031 \n",
      "Val loss: 0.9189 | Val precision: 0.5881 | Val recall: 0.5540 | Val f1score: 0.5497 | Val acc: 0.6133 | Val kappa: 0.8957 \n",
      "\n",
      "Epoch: 8 \n",
      "Learning rate: 0.00013348388671875\n",
      "Train loss: 0.8374 | Train precision: 0.6260 | Train recall: 0.6082 | Train f1score: 0.6142 | Train acc: 0.6221 | Train kappa: 0.9101 \n",
      "Val loss: 0.8360 | Val precision: 0.6279 | Val recall: 0.6150 | Val f1score: 0.6167 | Val acc: 0.6318 | Val kappa: 0.9107 \n",
      "\n",
      "Epoch: 9 \n",
      "Learning rate: 0.0001001129150390625\n",
      "Train loss: 0.8067 | Train precision: 0.6383 | Train recall: 0.6131 | Train f1score: 0.6210 | Train acc: 0.6362 | Train kappa: 0.9210 \n",
      "Val loss: 0.8924 | Val precision: 0.6594 | Val recall: 0.6281 | Val f1score: 0.6170 | Val acc: 0.6299 | Val kappa: 0.9229 \n",
      "\n",
      "Epoch: 10 \n",
      "Learning rate: 7.508468627929687e-05\n",
      "Train loss: 0.7959 | Train precision: 0.6513 | Train recall: 0.6282 | Train f1score: 0.6371 | Train acc: 0.6417 | Train kappa: 0.9218 \n",
      "Val loss: 0.8357 | Val precision: 0.6430 | Val recall: 0.6032 | Val f1score: 0.6038 | Val acc: 0.6436 | Val kappa: 0.9217 \n",
      "\n",
      "Epoch: 11 \n",
      "Learning rate: 5.6313514709472656e-05\n",
      "Train loss: 0.7785 | Train precision: 0.6479 | Train recall: 0.6339 | Train f1score: 0.6383 | Train acc: 0.6457 | Train kappa: 0.9240 \n",
      "Val loss: 0.8201 | Val precision: 0.6244 | Val recall: 0.5978 | Val f1score: 0.5963 | Val acc: 0.6338 | Val kappa: 0.9198 \n",
      "\n",
      "Epoch: 12 \n",
      "Learning rate: 4.223513603210449e-05\n",
      "Train loss: 0.7526 | Train precision: 0.6677 | Train recall: 0.6476 | Train f1score: 0.6547 | Train acc: 0.6558 | Train kappa: 0.9334 \n",
      "Val loss: 0.8202 | Val precision: 0.6287 | Val recall: 0.6295 | Val f1score: 0.6209 | Val acc: 0.6406 | Val kappa: 0.9225 \n",
      "\n",
      "Epoch: 13 \n",
      "Learning rate: 3.167635202407837e-05\n",
      "Train loss: 0.7549 | Train precision: 0.6697 | Train recall: 0.6492 | Train f1score: 0.6557 | Train acc: 0.6547 | Train kappa: 0.9273 \n",
      "Val loss: 0.8106 | Val precision: 0.6344 | Val recall: 0.6494 | Val f1score: 0.6346 | Val acc: 0.6504 | Val kappa: 0.9167 \n",
      "\n",
      "Epoch: 14 \n",
      "Learning rate: 2.3757264018058778e-05\n",
      "Train loss: 0.7447 | Train precision: 0.6763 | Train recall: 0.6586 | Train f1score: 0.6653 | Train acc: 0.6611 | Train kappa: 0.9324 \n",
      "Val loss: 0.7963 | Val precision: 0.6540 | Val recall: 0.6338 | Val f1score: 0.6328 | Val acc: 0.6504 | Val kappa: 0.9184 \n",
      "\n",
      "Epoch: 15 \n",
      "Learning rate: 1.7817948013544083e-05\n",
      "Train loss: 0.7357 | Train precision: 0.6816 | Train recall: 0.6615 | Train f1score: 0.6689 | Train acc: 0.6669 | Train kappa: 0.9350 \n",
      "Val loss: 0.8159 | Val precision: 0.6322 | Val recall: 0.6133 | Val f1score: 0.6088 | Val acc: 0.6455 | Val kappa: 0.9229 \n",
      "\n",
      "Epoch: 16 \n",
      "Learning rate: 1.3363461010158063e-05\n",
      "Train loss: 0.7348 | Train precision: 0.6796 | Train recall: 0.6581 | Train f1score: 0.6636 | Train acc: 0.6661 | Train kappa: 0.9311 \n",
      "Val loss: 0.7998 | Val precision: 0.6512 | Val recall: 0.6315 | Val f1score: 0.6335 | Val acc: 0.6504 | Val kappa: 0.9232 \n",
      "\n",
      "Epoch: 17 \n",
      "Learning rate: 1.0022595757618546e-05\n",
      "Train loss: 0.7370 | Train precision: 0.6792 | Train recall: 0.6571 | Train f1score: 0.6656 | Train acc: 0.6616 | Train kappa: 0.9338 \n",
      "Val loss: 0.8036 | Val precision: 0.6307 | Val recall: 0.6144 | Val f1score: 0.6149 | Val acc: 0.6436 | Val kappa: 0.9254 \n",
      "\n",
      "Epoch: 18 \n",
      "Learning rate: 7.51694681821391e-06\n",
      "Train loss: 0.7291 | Train precision: 0.6854 | Train recall: 0.6648 | Train f1score: 0.6720 | Train acc: 0.6711 | Train kappa: 0.9365 \n",
      "Val loss: 0.8067 | Val precision: 0.6434 | Val recall: 0.6206 | Val f1score: 0.6233 | Val acc: 0.6475 | Val kappa: 0.9266 \n",
      "\n",
      "Epoch: 19 \n",
      "Learning rate: 5.637710113660432e-06\n",
      "Train loss: 0.7260 | Train precision: 0.6827 | Train recall: 0.6630 | Train f1score: 0.6693 | Train acc: 0.6702 | Train kappa: 0.9375 \n",
      "Val loss: 0.8137 | Val precision: 0.6259 | Val recall: 0.6115 | Val f1score: 0.6090 | Val acc: 0.6387 | Val kappa: 0.9235 \n",
      "\n",
      "Epoch: 20 \n",
      "Learning rate: 4.228282585245324e-06\n",
      "Train loss: 0.7210 | Train precision: 0.6833 | Train recall: 0.6622 | Train f1score: 0.6700 | Train acc: 0.6637 | Train kappa: 0.9344 \n",
      "Val loss: 0.8019 | Val precision: 0.6295 | Val recall: 0.6152 | Val f1score: 0.6152 | Val acc: 0.6396 | Val kappa: 0.9268 \n",
      "\n",
      "Epoch: 21 \n",
      "Learning rate: 3.1712119389339933e-06\n",
      "Train loss: 0.7067 | Train precision: 0.6964 | Train recall: 0.6779 | Train f1score: 0.6847 | Train acc: 0.6742 | Train kappa: 0.9402 \n",
      "Val loss: 0.8077 | Val precision: 0.6346 | Val recall: 0.6182 | Val f1score: 0.6177 | Val acc: 0.6426 | Val kappa: 0.9282 \n",
      "\n",
      "Epoch: 22 \n",
      "Learning rate: 2.378408954200495e-06\n",
      "Train loss: 0.7133 | Train precision: 0.6883 | Train recall: 0.6701 | Train f1score: 0.6772 | Train acc: 0.6725 | Train kappa: 0.9413 \n",
      "Val loss: 0.8005 | Val precision: 0.6388 | Val recall: 0.6280 | Val f1score: 0.6259 | Val acc: 0.6475 | Val kappa: 0.9276 \n",
      "\n",
      "Epoch: 23 \n",
      "Learning rate: 1.7838067156503713e-06\n",
      "Train loss: 0.7192 | Train precision: 0.6877 | Train recall: 0.6628 | Train f1score: 0.6717 | Train acc: 0.6750 | Train kappa: 0.9370 \n",
      "Val loss: 0.8041 | Val precision: 0.6314 | Val recall: 0.6188 | Val f1score: 0.6178 | Val acc: 0.6445 | Val kappa: 0.9278 \n",
      "\n",
      "Epoch: 24 \n",
      "Learning rate: 1.3378550367377785e-06\n",
      "Train loss: 0.7255 | Train precision: 0.6887 | Train recall: 0.6662 | Train f1score: 0.6745 | Train acc: 0.6725 | Train kappa: 0.9285 \n",
      "Val loss: 0.8116 | Val precision: 0.6327 | Val recall: 0.6173 | Val f1score: 0.6158 | Val acc: 0.6416 | Val kappa: 0.9298 \n",
      "\n",
      "Early stopping after epoch 24\n"
     ]
    },
    {
     "data": {
      "text/html": [
       "Waiting for W&B process to finish... <strong style=\"color:green\">(success).</strong>"
      ],
      "text/plain": [
       "<IPython.core.display.HTML object>"
      ]
     },
     "metadata": {},
     "output_type": "display_data"
    },
    {
     "data": {
      "application/vnd.jupyter.widget-view+json": {
       "model_id": "92fb9bdfdc0b4a10826ea295c1d10197",
       "version_major": 2,
       "version_minor": 0
      },
      "text/plain": [
       "VBox(children=(Label(value='0.001 MB of 0.001 MB uploaded (0.000 MB deduped)\\r'), FloatProgress(value=1.0, max…"
      ]
     },
     "metadata": {},
     "output_type": "display_data"
    },
    {
     "data": {
      "text/html": [
       "<style>\n",
       "    table.wandb td:nth-child(1) { padding: 0 10px; text-align: left ; width: auto;} td:nth-child(2) {text-align: left ; width: 100%}\n",
       "    .wandb-row { display: flex; flex-direction: row; flex-wrap: wrap; justify-content: flex-start; width: 100% }\n",
       "    .wandb-col { display: flex; flex-direction: column; flex-basis: 100%; flex: 1; padding: 10px; }\n",
       "    </style>\n",
       "<div class=\"wandb-row\"><div class=\"wandb-col\"><h3>Run history:</h3><br/><table class=\"wandb\"><tr><td>learning_rate</td><td>█▆▅▄▃▃▂▂▂▂▁▁▁▁▁▁▁▁▁▁▁▁▁▁</td></tr><tr><td>train_f1_score</td><td>▁▃▄▅▆▆▆▇▇▇▇▇▇███████████</td></tr><tr><td>train_loss</td><td>█▅▄▄▃▃▂▂▂▂▂▁▁▁▁▁▁▁▁▁▁▁▁▁</td></tr><tr><td>val_f1_score</td><td>▁▃▄▆▅▆▇███▇█████████████</td></tr><tr><td>val_loss</td><td>█▇▇▃▃▂▂▁▂▁▁▁▁▁▁▁▁▁▁▁▁▁▁▁</td></tr></table><br/></div><div class=\"wandb-col\"><h3>Run summary:</h3><br/><table class=\"wandb\"><tr><td>learning_rate</td><td>0.0</td></tr><tr><td>train_f1_score</td><td>0.67446</td></tr><tr><td>train_loss</td><td>0.72547</td></tr><tr><td>val_f1_score</td><td>0.61575</td></tr><tr><td>val_loss</td><td>0.81164</td></tr></table><br/></div></div>"
      ],
      "text/plain": [
       "<IPython.core.display.HTML object>"
      ]
     },
     "metadata": {},
     "output_type": "display_data"
    },
    {
     "data": {
      "text/html": [
       " View run <strong style=\"color:#cdcd00\">fold_2_RGB-RE-NIR-5species-combined</strong> at: <a href='https://wandb.ai/simon-ecke/wze-uav-combined-treewise/runs/wy1fs37w' target=\"_blank\">https://wandb.ai/simon-ecke/wze-uav-combined-treewise/runs/wy1fs37w</a><br/>Synced 5 W&B file(s), 0 media file(s), 0 artifact file(s) and 0 other file(s)"
      ],
      "text/plain": [
       "<IPython.core.display.HTML object>"
      ]
     },
     "metadata": {},
     "output_type": "display_data"
    },
    {
     "data": {
      "text/html": [
       "Find logs at: <code>.\\wandb\\run-20230520_074713-wy1fs37w\\logs</code>"
      ],
      "text/plain": [
       "<IPython.core.display.HTML object>"
      ]
     },
     "metadata": {},
     "output_type": "display_data"
    },
    {
     "name": "stdout",
     "output_type": "stream",
     "text": [
      "Deleting variables and emptying cache\n",
      "Memory allocated: 1054807040 bytes\n",
      "--------------------------------------------------\n",
      "\n",
      "Fold : 3\n",
      "TRAIN POSITIVE RATIO: 2.9322698268003644\n",
      "VAL POSITIVE RATIO  : 2.8825896122896855\n",
      "LENGTH TRAIN GROUPS : 4158\n",
      "LENGTH VAL GROUPS   : 1039\n"
     ]
    },
    {
     "data": {
      "text/html": [
       "wandb version 0.15.3 is available!  To upgrade, please run:\n",
       " $ pip install wandb --upgrade"
      ],
      "text/plain": [
       "<IPython.core.display.HTML object>"
      ]
     },
     "metadata": {},
     "output_type": "display_data"
    },
    {
     "data": {
      "text/html": [
       "Tracking run with wandb version 0.14.2"
      ],
      "text/plain": [
       "<IPython.core.display.HTML object>"
      ]
     },
     "metadata": {},
     "output_type": "display_data"
    },
    {
     "data": {
      "text/html": [
       "Run data is saved locally in <code>C:\\Users\\lwfeckesim\\01_PyTorch\\wze-uav\\wze-uav-master\\wandb\\run-20230520_093944-0xtvujtn</code>"
      ],
      "text/plain": [
       "<IPython.core.display.HTML object>"
      ]
     },
     "metadata": {},
     "output_type": "display_data"
    },
    {
     "data": {
      "text/html": [
       "Syncing run <strong><a href='https://wandb.ai/simon-ecke/wze-uav-combined-treewise/runs/0xtvujtn' target=\"_blank\">fold_3_RGB-RE-NIR-5species-combined</a></strong> to <a href='https://wandb.ai/simon-ecke/wze-uav-combined-treewise' target=\"_blank\">Weights & Biases</a> (<a href='https://wandb.me/run' target=\"_blank\">docs</a>)<br/>"
      ],
      "text/plain": [
       "<IPython.core.display.HTML object>"
      ]
     },
     "metadata": {},
     "output_type": "display_data"
    },
    {
     "data": {
      "text/html": [
       " View project at <a href='https://wandb.ai/simon-ecke/wze-uav-combined-treewise' target=\"_blank\">https://wandb.ai/simon-ecke/wze-uav-combined-treewise</a>"
      ],
      "text/plain": [
       "<IPython.core.display.HTML object>"
      ]
     },
     "metadata": {},
     "output_type": "display_data"
    },
    {
     "data": {
      "text/html": [
       " View run at <a href='https://wandb.ai/simon-ecke/wze-uav-combined-treewise/runs/0xtvujtn' target=\"_blank\">https://wandb.ai/simon-ecke/wze-uav-combined-treewise/runs/0xtvujtn</a>"
      ],
      "text/plain": [
       "<IPython.core.display.HTML object>"
      ]
     },
     "metadata": {},
     "output_type": "display_data"
    },
    {
     "name": "stdout",
     "output_type": "stream",
     "text": [
      "There are no same hash_id values in train, val or test datasets. The datasplit was successful\n",
      "Check shapes:\n",
      "\n",
      "Images train dataset: (10970, 250, 250, 5)\n",
      "Labels train dataset: (10970, 1)\n",
      "\n",
      "Images validation dataset: (1039, 250, 250, 5)\n",
      "Labels validation dataset: (1039, 1)\n",
      "\n",
      "--------------------------------------------------\n",
      "Check if the split was stratified: (random_state=42)\n",
      "Picea abies healthy in train dataset: 3011\n",
      "Picea abies stressed in train dataset: 1543\n",
      "Pinus sylvestris healthy in train dataset: 1388\n",
      "Pinus sylvestris stressed in train dataset: 1743\n",
      "Abies alba healthy in train dataset: 336\n",
      "Abies alba stressed in train dataset: 124\n",
      "Fagus sylvatica healthy in train dataset: 985\n",
      "Fagus sylvatica stressed in train dataset: 707\n",
      "Quercus robur/petraea healthy in train dataset: 587\n",
      "Quercus robur/petraea stressed in train dataset: 360\n",
      "Dead trees in train dataset: 186\n",
      "Picea abies healthy in validation dataset: 271\n",
      "Picea abies stressed in validation dataset: 164\n",
      "Pinus sylvestris healthy in validation dataset: 146\n",
      "Pinus sylvestris stressed in validation dataset: 159\n",
      "Abies alba healthy in validation dataset: 28\n",
      "Abies alba stressed in validation dataset: 16\n",
      "Fagus sylvatica healthy in validation dataset: 96\n",
      "Fagus sylvatica stressed in validation dataset: 61\n",
      "Quercus robur/petraea healthy in validation dataset: 58\n",
      "Quercus robur/petraea stressed in validation dataset: 26\n",
      "Dead trees in validation dataset: 14\n",
      "--------------------------------------------------\n",
      "\n",
      "Creating datasets for fold: 3\n",
      "\n",
      "Creating dataloaders for fold: 3\n",
      "\n",
      "Loaded pretrained weights for efficientnet-b7\n",
      "\n",
      "[INFO] Fold number: 3\n",
      "[INFO] Number of epochs: 50\n",
      "[INFO] Batch_size: 32\n",
      "[INFO] Number of bands: 5\n",
      "[INFO] Dropout rate: 0.5\n",
      "[INFO] Gamma learning rate: 0.75\n",
      "[INFO] Memory allocated: 0 bytes\n"
     ]
    },
    {
     "data": {
      "application/vnd.jupyter.widget-view+json": {
       "model_id": "d8c816cfc9894e19bc31c5859a0a7428",
       "version_major": 2,
       "version_minor": 0
      },
      "text/plain": [
       "  0%|          | 0/50 [00:00<?, ?it/s]"
      ]
     },
     "metadata": {},
     "output_type": "display_data"
    },
    {
     "name": "stdout",
     "output_type": "stream",
     "text": [
      "Epoch: 1 \n",
      "Learning rate: 0.001\n",
      "Train loss: 1.5272 | Train precision: 0.3265 | Train recall: 0.2981 | Train f1score: 0.2993 | Train acc: 0.3961 | Train kappa: 0.6527 \n",
      "Val loss: 2.2161 | Val precision: 0.1346 | Val recall: 0.1548 | Val f1score: 0.1161 | Val acc: 0.3066 | Val kappa: 0.3639 \n",
      "\n",
      "Epoch: 2 \n",
      "Learning rate: 0.00075\n",
      "Train loss: 1.1937 | Train precision: 0.4521 | Train recall: 0.4283 | Train f1score: 0.4324 | Train acc: 0.4965 | Train kappa: 0.8161 \n",
      "Val loss: 1.9169 | Val precision: 0.3417 | Val recall: 0.3666 | Val f1score: 0.2843 | Val acc: 0.2988 | Val kappa: 0.6650 \n",
      "\n",
      "Epoch: 3 \n",
      "Learning rate: 0.0005625000000000001\n",
      "Train loss: 1.0902 | Train precision: 0.5102 | Train recall: 0.4822 | Train f1score: 0.4864 | Train acc: 0.5260 | Train kappa: 0.8519 \n",
      "Val loss: 1.4073 | Val precision: 0.3614 | Val recall: 0.3923 | Val f1score: 0.3514 | Val acc: 0.4756 | Val kappa: 0.7296 \n",
      "\n",
      "Epoch: 4 \n",
      "Learning rate: 0.000421875\n",
      "Train loss: 1.0110 | Train precision: 0.5274 | Train recall: 0.5114 | Train f1score: 0.5121 | Train acc: 0.5569 | Train kappa: 0.8696 \n",
      "Val loss: 1.5092 | Val precision: 0.4832 | Val recall: 0.3745 | Val f1score: 0.3665 | Val acc: 0.4443 | Val kappa: 0.6945 \n",
      "\n",
      "Epoch: 5 \n",
      "Learning rate: 0.00031640625\n",
      "Train loss: 0.9397 | Train precision: 0.5819 | Train recall: 0.5498 | Train f1score: 0.5574 | Train acc: 0.5861 | Train kappa: 0.8944 \n",
      "Val loss: 0.9789 | Val precision: 0.5608 | Val recall: 0.4904 | Val f1score: 0.4854 | Val acc: 0.5732 | Val kappa: 0.8927 \n",
      "\n",
      "Epoch: 6 \n",
      "Learning rate: 0.0002373046875\n",
      "Train loss: 0.9028 | Train precision: 0.5941 | Train recall: 0.5674 | Train f1score: 0.5741 | Train acc: 0.6030 | Train kappa: 0.8951 \n",
      "Val loss: 0.8935 | Val precision: 0.5669 | Val recall: 0.5362 | Val f1score: 0.5239 | Val acc: 0.5938 | Val kappa: 0.9116 \n",
      "\n",
      "Epoch: 7 \n",
      "Learning rate: 0.000177978515625\n",
      "Train loss: 0.8705 | Train precision: 0.6222 | Train recall: 0.5965 | Train f1score: 0.6039 | Train acc: 0.6166 | Train kappa: 0.9048 \n",
      "Val loss: 0.8480 | Val precision: 0.5973 | Val recall: 0.5562 | Val f1score: 0.5609 | Val acc: 0.6104 | Val kappa: 0.9179 \n",
      "\n",
      "Epoch: 8 \n",
      "Learning rate: 0.00013348388671875\n",
      "Train loss: 0.8317 | Train precision: 0.6320 | Train recall: 0.6025 | Train f1score: 0.6104 | Train acc: 0.6243 | Train kappa: 0.9178 \n",
      "Val loss: 0.8279 | Val precision: 0.5810 | Val recall: 0.5778 | Val f1score: 0.5699 | Val acc: 0.6182 | Val kappa: 0.9258 \n",
      "\n",
      "Epoch: 9 \n",
      "Learning rate: 0.0001001129150390625\n",
      "Train loss: 0.8138 | Train precision: 0.6445 | Train recall: 0.6129 | Train f1score: 0.6228 | Train acc: 0.6325 | Train kappa: 0.9235 \n",
      "Val loss: 0.8401 | Val precision: 0.5938 | Val recall: 0.5523 | Val f1score: 0.5521 | Val acc: 0.6240 | Val kappa: 0.9117 \n",
      "\n",
      "Epoch: 10 \n",
      "Learning rate: 7.508468627929687e-05\n",
      "Train loss: 0.7984 | Train precision: 0.6476 | Train recall: 0.6145 | Train f1score: 0.6249 | Train acc: 0.6390 | Train kappa: 0.9215 \n",
      "Val loss: 0.8091 | Val precision: 0.6000 | Val recall: 0.6188 | Val f1score: 0.6047 | Val acc: 0.6357 | Val kappa: 0.9222 \n",
      "\n",
      "Epoch: 11 \n",
      "Learning rate: 5.6313514709472656e-05\n",
      "Train loss: 0.7917 | Train precision: 0.6585 | Train recall: 0.6334 | Train f1score: 0.6402 | Train acc: 0.6400 | Train kappa: 0.9267 \n",
      "Val loss: 0.8016 | Val precision: 0.6334 | Val recall: 0.5989 | Val f1score: 0.6031 | Val acc: 0.6367 | Val kappa: 0.9292 \n",
      "\n",
      "Epoch: 12 \n",
      "Learning rate: 4.223513603210449e-05\n",
      "Train loss: 0.7796 | Train precision: 0.6583 | Train recall: 0.6323 | Train f1score: 0.6401 | Train acc: 0.6502 | Train kappa: 0.9215 \n",
      "Val loss: 0.7983 | Val precision: 0.6182 | Val recall: 0.5803 | Val f1score: 0.5833 | Val acc: 0.6289 | Val kappa: 0.9389 \n",
      "\n",
      "Epoch: 13 \n",
      "Learning rate: 3.167635202407837e-05\n",
      "Train loss: 0.7637 | Train precision: 0.6662 | Train recall: 0.6344 | Train f1score: 0.6442 | Train acc: 0.6569 | Train kappa: 0.9292 \n",
      "Val loss: 0.7935 | Val precision: 0.6068 | Val recall: 0.5990 | Val f1score: 0.5925 | Val acc: 0.6367 | Val kappa: 0.9262 \n",
      "\n",
      "Epoch: 14 \n",
      "Learning rate: 2.3757264018058778e-05\n",
      "Train loss: 0.7443 | Train precision: 0.6768 | Train recall: 0.6480 | Train f1score: 0.6579 | Train acc: 0.6594 | Train kappa: 0.9397 \n",
      "Val loss: 0.7874 | Val precision: 0.6112 | Val recall: 0.5799 | Val f1score: 0.5879 | Val acc: 0.6299 | Val kappa: 0.9287 \n",
      "\n",
      "Epoch: 15 \n",
      "Learning rate: 1.7817948013544083e-05\n",
      "Train loss: 0.7405 | Train precision: 0.6850 | Train recall: 0.6574 | Train f1score: 0.6674 | Train acc: 0.6648 | Train kappa: 0.9304 \n",
      "Val loss: 0.7905 | Val precision: 0.6081 | Val recall: 0.5991 | Val f1score: 0.5953 | Val acc: 0.6367 | Val kappa: 0.9200 \n",
      "\n",
      "Epoch: 16 \n",
      "Learning rate: 1.3363461010158063e-05\n",
      "Train loss: 0.7256 | Train precision: 0.6977 | Train recall: 0.6711 | Train f1score: 0.6794 | Train acc: 0.6728 | Train kappa: 0.9376 \n",
      "Val loss: 0.7829 | Val precision: 0.6263 | Val recall: 0.6012 | Val f1score: 0.6088 | Val acc: 0.6416 | Val kappa: 0.9317 \n",
      "\n",
      "Epoch: 17 \n",
      "Learning rate: 1.0022595757618546e-05\n",
      "Train loss: 0.7316 | Train precision: 0.6898 | Train recall: 0.6605 | Train f1score: 0.6699 | Train acc: 0.6669 | Train kappa: 0.9391 \n",
      "Val loss: 0.7887 | Val precision: 0.6158 | Val recall: 0.5857 | Val f1score: 0.5930 | Val acc: 0.6387 | Val kappa: 0.9324 \n",
      "\n",
      "Epoch: 18 \n",
      "Learning rate: 7.51694681821391e-06\n",
      "Train loss: 0.7324 | Train precision: 0.6865 | Train recall: 0.6567 | Train f1score: 0.6673 | Train acc: 0.6707 | Train kappa: 0.9346 \n",
      "Val loss: 0.7863 | Val precision: 0.6251 | Val recall: 0.6021 | Val f1score: 0.6087 | Val acc: 0.6416 | Val kappa: 0.9362 \n",
      "\n",
      "Epoch: 19 \n",
      "Learning rate: 5.637710113660432e-06\n",
      "Train loss: 0.7234 | Train precision: 0.6907 | Train recall: 0.6686 | Train f1score: 0.6761 | Train acc: 0.6686 | Train kappa: 0.9401 \n",
      "Val loss: 0.7881 | Val precision: 0.6196 | Val recall: 0.6023 | Val f1score: 0.6056 | Val acc: 0.6396 | Val kappa: 0.9313 \n",
      "\n",
      "Epoch: 20 \n",
      "Learning rate: 4.228282585245324e-06\n",
      "Train loss: 0.7173 | Train precision: 0.6985 | Train recall: 0.6744 | Train f1score: 0.6832 | Train acc: 0.6759 | Train kappa: 0.9389 \n",
      "Val loss: 0.7854 | Val precision: 0.6229 | Val recall: 0.5956 | Val f1score: 0.6042 | Val acc: 0.6406 | Val kappa: 0.9325 \n",
      "\n",
      "Epoch: 21 \n",
      "Learning rate: 3.1712119389339933e-06\n",
      "Train loss: 0.7228 | Train precision: 0.6939 | Train recall: 0.6722 | Train f1score: 0.6792 | Train acc: 0.6736 | Train kappa: 0.9431 \n",
      "Val loss: 0.7866 | Val precision: 0.6291 | Val recall: 0.6101 | Val f1score: 0.6137 | Val acc: 0.6426 | Val kappa: 0.9345 \n",
      "\n",
      "Epoch: 22 \n",
      "Learning rate: 2.378408954200495e-06\n",
      "Train loss: 0.7219 | Train precision: 0.6968 | Train recall: 0.6703 | Train f1score: 0.6790 | Train acc: 0.6764 | Train kappa: 0.9337 \n",
      "Val loss: 0.7866 | Val precision: 0.6315 | Val recall: 0.6031 | Val f1score: 0.6106 | Val acc: 0.6445 | Val kappa: 0.9363 \n",
      "\n",
      "Epoch: 23 \n",
      "Learning rate: 1.7838067156503713e-06\n",
      "Train loss: 0.7299 | Train precision: 0.6906 | Train recall: 0.6644 | Train f1score: 0.6730 | Train acc: 0.6700 | Train kappa: 0.9350 \n",
      "Val loss: 0.7887 | Val precision: 0.6229 | Val recall: 0.6007 | Val f1score: 0.6068 | Val acc: 0.6426 | Val kappa: 0.9298 \n",
      "\n",
      "Epoch: 24 \n",
      "Learning rate: 1.3378550367377785e-06\n",
      "Train loss: 0.7167 | Train precision: 0.6996 | Train recall: 0.6732 | Train f1score: 0.6823 | Train acc: 0.6784 | Train kappa: 0.9396 \n",
      "Val loss: 0.7896 | Val precision: 0.6238 | Val recall: 0.6019 | Val f1score: 0.6072 | Val acc: 0.6416 | Val kappa: 0.9336 \n",
      "\n",
      "Epoch: 25 \n",
      "Learning rate: 1.0033912775533338e-06\n",
      "Train loss: 0.7225 | Train precision: 0.6852 | Train recall: 0.6643 | Train f1score: 0.6718 | Train acc: 0.6724 | Train kappa: 0.9374 \n",
      "Val loss: 0.7886 | Val precision: 0.6214 | Val recall: 0.6005 | Val f1score: 0.6059 | Val acc: 0.6377 | Val kappa: 0.9354 \n",
      "\n",
      "Epoch: 26 \n",
      "Learning rate: 1e-06\n",
      "Train loss: 0.7127 | Train precision: 0.6958 | Train recall: 0.6751 | Train f1score: 0.6818 | Train acc: 0.6755 | Train kappa: 0.9336 \n",
      "Val loss: 0.7876 | Val precision: 0.6192 | Val recall: 0.5927 | Val f1score: 0.6009 | Val acc: 0.6357 | Val kappa: 0.9309 \n",
      "\n",
      "Early stopping after epoch 26\n"
     ]
    },
    {
     "data": {
      "text/html": [
       "Waiting for W&B process to finish... <strong style=\"color:green\">(success).</strong>"
      ],
      "text/plain": [
       "<IPython.core.display.HTML object>"
      ]
     },
     "metadata": {},
     "output_type": "display_data"
    },
    {
     "data": {
      "application/vnd.jupyter.widget-view+json": {
       "model_id": "4a287ea77fb24650ba5a09c063110cc8",
       "version_major": 2,
       "version_minor": 0
      },
      "text/plain": [
       "VBox(children=(Label(value='0.001 MB of 0.014 MB uploaded (0.000 MB deduped)\\r'), FloatProgress(value=0.092729…"
      ]
     },
     "metadata": {},
     "output_type": "display_data"
    },
    {
     "data": {
      "text/html": [
       "<style>\n",
       "    table.wandb td:nth-child(1) { padding: 0 10px; text-align: left ; width: auto;} td:nth-child(2) {text-align: left ; width: 100%}\n",
       "    .wandb-row { display: flex; flex-direction: row; flex-wrap: wrap; justify-content: flex-start; width: 100% }\n",
       "    .wandb-col { display: flex; flex-direction: column; flex-basis: 100%; flex: 1; padding: 10px; }\n",
       "    </style>\n",
       "<div class=\"wandb-row\"><div class=\"wandb-col\"><h3>Run history:</h3><br/><table class=\"wandb\"><tr><td>learning_rate</td><td>█▆▅▄▃▃▂▂▂▂▁▁▁▁▁▁▁▁▁▁▁▁▁▁▁▁</td></tr><tr><td>train_f1_score</td><td>▁▃▄▅▆▆▇▇▇▇▇▇▇█████████████</td></tr><tr><td>train_loss</td><td>█▅▄▄▃▃▂▂▂▂▂▂▁▁▁▁▁▁▁▁▁▁▁▁▁▁</td></tr><tr><td>val_f1_score</td><td>▁▃▄▅▆▇▇▇▇█████████████████</td></tr><tr><td>val_loss</td><td>█▇▄▅▂▂▁▁▁▁▁▁▁▁▁▁▁▁▁▁▁▁▁▁▁▁</td></tr></table><br/></div><div class=\"wandb-col\"><h3>Run summary:</h3><br/><table class=\"wandb\"><tr><td>learning_rate</td><td>0.0</td></tr><tr><td>train_f1_score</td><td>0.68182</td></tr><tr><td>train_loss</td><td>0.71273</td></tr><tr><td>val_f1_score</td><td>0.6009</td></tr><tr><td>val_loss</td><td>0.78755</td></tr></table><br/></div></div>"
      ],
      "text/plain": [
       "<IPython.core.display.HTML object>"
      ]
     },
     "metadata": {},
     "output_type": "display_data"
    },
    {
     "data": {
      "text/html": [
       " View run <strong style=\"color:#cdcd00\">fold_3_RGB-RE-NIR-5species-combined</strong> at: <a href='https://wandb.ai/simon-ecke/wze-uav-combined-treewise/runs/0xtvujtn' target=\"_blank\">https://wandb.ai/simon-ecke/wze-uav-combined-treewise/runs/0xtvujtn</a><br/>Synced 5 W&B file(s), 0 media file(s), 0 artifact file(s) and 0 other file(s)"
      ],
      "text/plain": [
       "<IPython.core.display.HTML object>"
      ]
     },
     "metadata": {},
     "output_type": "display_data"
    },
    {
     "data": {
      "text/html": [
       "Find logs at: <code>.\\wandb\\run-20230520_093944-0xtvujtn\\logs</code>"
      ],
      "text/plain": [
       "<IPython.core.display.HTML object>"
      ]
     },
     "metadata": {},
     "output_type": "display_data"
    },
    {
     "name": "stdout",
     "output_type": "stream",
     "text": [
      "Deleting variables and emptying cache\n",
      "Memory allocated: 1052865536 bytes\n",
      "--------------------------------------------------\n",
      "\n",
      "Fold : 4\n",
      "TRAIN POSITIVE RATIO: 2.9034911350758543\n",
      "VAL POSITIVE RATIO  : 2.997103548153512\n",
      "LENGTH TRAIN GROUPS : 4156\n",
      "LENGTH VAL GROUPS   : 1041\n"
     ]
    },
    {
     "data": {
      "text/html": [
       "wandb version 0.15.3 is available!  To upgrade, please run:\n",
       " $ pip install wandb --upgrade"
      ],
      "text/plain": [
       "<IPython.core.display.HTML object>"
      ]
     },
     "metadata": {},
     "output_type": "display_data"
    },
    {
     "data": {
      "text/html": [
       "Tracking run with wandb version 0.14.2"
      ],
      "text/plain": [
       "<IPython.core.display.HTML object>"
      ]
     },
     "metadata": {},
     "output_type": "display_data"
    },
    {
     "data": {
      "text/html": [
       "Run data is saved locally in <code>C:\\Users\\lwfeckesim\\01_PyTorch\\wze-uav\\wze-uav-master\\wandb\\run-20230520_114155-hpjs1d3h</code>"
      ],
      "text/plain": [
       "<IPython.core.display.HTML object>"
      ]
     },
     "metadata": {},
     "output_type": "display_data"
    },
    {
     "data": {
      "text/html": [
       "Syncing run <strong><a href='https://wandb.ai/simon-ecke/wze-uav-combined-treewise/runs/hpjs1d3h' target=\"_blank\">fold_4_RGB-RE-NIR-5species-combined</a></strong> to <a href='https://wandb.ai/simon-ecke/wze-uav-combined-treewise' target=\"_blank\">Weights & Biases</a> (<a href='https://wandb.me/run' target=\"_blank\">docs</a>)<br/>"
      ],
      "text/plain": [
       "<IPython.core.display.HTML object>"
      ]
     },
     "metadata": {},
     "output_type": "display_data"
    },
    {
     "data": {
      "text/html": [
       " View project at <a href='https://wandb.ai/simon-ecke/wze-uav-combined-treewise' target=\"_blank\">https://wandb.ai/simon-ecke/wze-uav-combined-treewise</a>"
      ],
      "text/plain": [
       "<IPython.core.display.HTML object>"
      ]
     },
     "metadata": {},
     "output_type": "display_data"
    },
    {
     "data": {
      "text/html": [
       " View run at <a href='https://wandb.ai/simon-ecke/wze-uav-combined-treewise/runs/hpjs1d3h' target=\"_blank\">https://wandb.ai/simon-ecke/wze-uav-combined-treewise/runs/hpjs1d3h</a>"
      ],
      "text/plain": [
       "<IPython.core.display.HTML object>"
      ]
     },
     "metadata": {},
     "output_type": "display_data"
    },
    {
     "name": "stdout",
     "output_type": "stream",
     "text": [
      "There are no same hash_id values in train, val or test datasets. The datasplit was successful\n",
      "Check shapes:\n",
      "\n",
      "Images train dataset: (10942, 250, 250, 5)\n",
      "Labels train dataset: (10942, 1)\n",
      "\n",
      "Images validation dataset: (1042, 250, 250, 5)\n",
      "Labels validation dataset: (1042, 1)\n",
      "\n",
      "--------------------------------------------------\n",
      "Check if the split was stratified: (random_state=42)\n",
      "Picea abies healthy in train dataset: 2996\n",
      "Picea abies stressed in train dataset: 1574\n",
      "Pinus sylvestris healthy in train dataset: 1433\n",
      "Pinus sylvestris stressed in train dataset: 1737\n",
      "Abies alba healthy in train dataset: 317\n",
      "Abies alba stressed in train dataset: 129\n",
      "Fagus sylvatica healthy in train dataset: 944\n",
      "Fagus sylvatica stressed in train dataset: 672\n",
      "Quercus robur/petraea healthy in train dataset: 604\n",
      "Quercus robur/petraea stressed in train dataset: 354\n",
      "Dead trees in train dataset: 182\n",
      "Picea abies healthy in validation dataset: 282\n",
      "Picea abies stressed in validation dataset: 144\n",
      "Pinus sylvestris healthy in validation dataset: 128\n",
      "Pinus sylvestris stressed in validation dataset: 165\n",
      "Abies alba healthy in validation dataset: 33\n",
      "Abies alba stressed in validation dataset: 12\n",
      "Fagus sylvatica healthy in validation dataset: 109\n",
      "Fagus sylvatica stressed in validation dataset: 72\n",
      "Quercus robur/petraea healthy in validation dataset: 46\n",
      "Quercus robur/petraea stressed in validation dataset: 33\n",
      "Dead trees in validation dataset: 18\n",
      "--------------------------------------------------\n",
      "\n",
      "Creating datasets for fold: 4\n",
      "\n",
      "Creating dataloaders for fold: 4\n",
      "\n",
      "Loaded pretrained weights for efficientnet-b7\n",
      "\n",
      "[INFO] Fold number: 4\n",
      "[INFO] Number of epochs: 50\n",
      "[INFO] Batch_size: 32\n",
      "[INFO] Number of bands: 5\n",
      "[INFO] Dropout rate: 0.5\n",
      "[INFO] Gamma learning rate: 0.75\n",
      "[INFO] Memory allocated: 0 bytes\n"
     ]
    },
    {
     "data": {
      "application/vnd.jupyter.widget-view+json": {
       "model_id": "4f90d4083acb4b52995fccae7589c1ef",
       "version_major": 2,
       "version_minor": 0
      },
      "text/plain": [
       "  0%|          | 0/50 [00:00<?, ?it/s]"
      ]
     },
     "metadata": {},
     "output_type": "display_data"
    },
    {
     "name": "stdout",
     "output_type": "stream",
     "text": [
      "Epoch: 1 \n",
      "Learning rate: 0.001\n",
      "Train loss: 1.5183 | Train precision: 0.3350 | Train recall: 0.2906 | Train f1score: 0.2975 | Train acc: 0.4016 | Train kappa: 0.6545 \n",
      "Val loss: 2.1284 | Val precision: 0.1296 | Val recall: 0.1699 | Val f1score: 0.1316 | Val acc: 0.3350 | Val kappa: 0.1855 \n",
      "\n",
      "Epoch: 2 \n",
      "Learning rate: 0.00075\n",
      "Train loss: 1.1924 | Train precision: 0.4463 | Train recall: 0.4265 | Train f1score: 0.4280 | Train acc: 0.4921 | Train kappa: 0.8146 \n",
      "Val loss: 2.0271 | Val precision: 0.3681 | Val recall: 0.2727 | Val f1score: 0.2102 | Val acc: 0.3281 | Val kappa: 0.4454 \n",
      "\n",
      "Epoch: 3 \n",
      "Learning rate: 0.0005625000000000001\n",
      "Train loss: 1.0860 | Train precision: 0.4975 | Train recall: 0.4762 | Train f1score: 0.4807 | Train acc: 0.5305 | Train kappa: 0.8464 \n",
      "Val loss: 1.4559 | Val precision: 0.4653 | Val recall: 0.3881 | Val f1score: 0.3759 | Val acc: 0.4648 | Val kappa: 0.8199 \n",
      "\n",
      "Epoch: 4 \n",
      "Learning rate: 0.000421875\n",
      "Train loss: 1.0218 | Train precision: 0.5347 | Train recall: 0.5101 | Train f1score: 0.5167 | Train acc: 0.5525 | Train kappa: 0.8678 \n",
      "Val loss: 1.0858 | Val precision: 0.5046 | Val recall: 0.4575 | Val f1score: 0.4326 | Val acc: 0.5332 | Val kappa: 0.8883 \n",
      "\n",
      "Epoch: 5 \n",
      "Learning rate: 0.00031640625\n",
      "Train loss: 0.9461 | Train precision: 0.5653 | Train recall: 0.5402 | Train f1score: 0.5461 | Train acc: 0.5834 | Train kappa: 0.8863 \n",
      "Val loss: 0.9860 | Val precision: 0.5739 | Val recall: 0.5147 | Val f1score: 0.4965 | Val acc: 0.5957 | Val kappa: 0.8788 \n",
      "\n",
      "Epoch: 6 \n",
      "Learning rate: 0.0002373046875\n",
      "Train loss: 0.9108 | Train precision: 0.5889 | Train recall: 0.5665 | Train f1score: 0.5721 | Train acc: 0.6022 | Train kappa: 0.8989 \n",
      "Val loss: 0.9713 | Val precision: 0.5681 | Val recall: 0.5770 | Val f1score: 0.5634 | Val acc: 0.5928 | Val kappa: 0.9050 \n",
      "\n",
      "Epoch: 7 \n",
      "Learning rate: 0.000177978515625\n",
      "Train loss: 0.8714 | Train precision: 0.6042 | Train recall: 0.5860 | Train f1score: 0.5916 | Train acc: 0.6091 | Train kappa: 0.9091 \n",
      "Val loss: 0.9536 | Val precision: 0.6015 | Val recall: 0.5307 | Val f1score: 0.5354 | Val acc: 0.5889 | Val kappa: 0.9002 \n",
      "\n",
      "Epoch: 8 \n",
      "Learning rate: 0.00013348388671875\n",
      "Train loss: 0.8609 | Train precision: 0.6240 | Train recall: 0.5959 | Train f1score: 0.6054 | Train acc: 0.6201 | Train kappa: 0.9075 \n",
      "Val loss: 0.8857 | Val precision: 0.5994 | Val recall: 0.5426 | Val f1score: 0.5363 | Val acc: 0.6113 | Val kappa: 0.9091 \n",
      "\n",
      "Epoch: 9 \n",
      "Learning rate: 0.0001001129150390625\n",
      "Train loss: 0.8316 | Train precision: 0.6431 | Train recall: 0.6226 | Train f1score: 0.6293 | Train acc: 0.6297 | Train kappa: 0.9209 \n",
      "Val loss: 0.8714 | Val precision: 0.6067 | Val recall: 0.6151 | Val f1score: 0.5959 | Val acc: 0.6299 | Val kappa: 0.9095 \n",
      "\n",
      "Epoch: 10 \n",
      "Learning rate: 7.508468627929687e-05\n",
      "Train loss: 0.8072 | Train precision: 0.6519 | Train recall: 0.6320 | Train f1score: 0.6389 | Train acc: 0.6383 | Train kappa: 0.9286 \n",
      "Val loss: 0.8690 | Val precision: 0.6105 | Val recall: 0.5830 | Val f1score: 0.5685 | Val acc: 0.6172 | Val kappa: 0.9135 \n",
      "\n",
      "Epoch: 11 \n",
      "Learning rate: 5.6313514709472656e-05\n",
      "Train loss: 0.7991 | Train precision: 0.6508 | Train recall: 0.6317 | Train f1score: 0.6374 | Train acc: 0.6391 | Train kappa: 0.9190 \n",
      "Val loss: 0.8425 | Val precision: 0.6207 | Val recall: 0.5633 | Val f1score: 0.5636 | Val acc: 0.6250 | Val kappa: 0.9136 \n",
      "\n",
      "Epoch: 12 \n",
      "Learning rate: 4.223513603210449e-05\n",
      "Train loss: 0.7759 | Train precision: 0.6703 | Train recall: 0.6485 | Train f1score: 0.6558 | Train acc: 0.6523 | Train kappa: 0.9253 \n",
      "Val loss: 0.8643 | Val precision: 0.6123 | Val recall: 0.5633 | Val f1score: 0.5654 | Val acc: 0.6094 | Val kappa: 0.9183 \n",
      "\n",
      "Epoch: 13 \n",
      "Learning rate: 3.167635202407837e-05\n",
      "Train loss: 0.7537 | Train precision: 0.6669 | Train recall: 0.6478 | Train f1score: 0.6545 | Train acc: 0.6587 | Train kappa: 0.9344 \n",
      "Val loss: 0.8451 | Val precision: 0.6035 | Val recall: 0.5646 | Val f1score: 0.5706 | Val acc: 0.6279 | Val kappa: 0.9240 \n",
      "\n",
      "Epoch: 14 \n",
      "Learning rate: 2.3757264018058778e-05\n",
      "Train loss: 0.7574 | Train precision: 0.6783 | Train recall: 0.6573 | Train f1score: 0.6649 | Train acc: 0.6593 | Train kappa: 0.9339 \n",
      "Val loss: 0.8526 | Val precision: 0.6103 | Val recall: 0.5717 | Val f1score: 0.5668 | Val acc: 0.6221 | Val kappa: 0.9193 \n",
      "\n",
      "Epoch: 15 \n",
      "Learning rate: 1.7817948013544083e-05\n",
      "Train loss: 0.7499 | Train precision: 0.6812 | Train recall: 0.6648 | Train f1score: 0.6711 | Train acc: 0.6637 | Train kappa: 0.9346 \n",
      "Val loss: 0.8310 | Val precision: 0.6013 | Val recall: 0.5768 | Val f1score: 0.5791 | Val acc: 0.6240 | Val kappa: 0.9236 \n",
      "\n",
      "Epoch: 16 \n",
      "Learning rate: 1.3363461010158063e-05\n",
      "Train loss: 0.7481 | Train precision: 0.6795 | Train recall: 0.6559 | Train f1score: 0.6655 | Train acc: 0.6573 | Train kappa: 0.9335 \n",
      "Val loss: 0.8316 | Val precision: 0.6087 | Val recall: 0.5788 | Val f1score: 0.5806 | Val acc: 0.6328 | Val kappa: 0.9257 \n",
      "\n",
      "Epoch: 17 \n",
      "Learning rate: 1.0022595757618546e-05\n",
      "Train loss: 0.7435 | Train precision: 0.6851 | Train recall: 0.6619 | Train f1score: 0.6705 | Train acc: 0.6666 | Train kappa: 0.9322 \n",
      "Val loss: 0.8270 | Val precision: 0.6015 | Val recall: 0.5895 | Val f1score: 0.5882 | Val acc: 0.6367 | Val kappa: 0.9235 \n",
      "\n",
      "Epoch: 18 \n",
      "Learning rate: 7.51694681821391e-06\n",
      "Train loss: 0.7472 | Train precision: 0.6753 | Train recall: 0.6631 | Train f1score: 0.6672 | Train acc: 0.6647 | Train kappa: 0.9352 \n",
      "Val loss: 0.8361 | Val precision: 0.5995 | Val recall: 0.5730 | Val f1score: 0.5722 | Val acc: 0.6318 | Val kappa: 0.9212 \n",
      "\n",
      "Epoch: 19 \n",
      "Learning rate: 5.637710113660432e-06\n",
      "Train loss: 0.7299 | Train precision: 0.6867 | Train recall: 0.6716 | Train f1score: 0.6773 | Train acc: 0.6671 | Train kappa: 0.9319 \n",
      "Val loss: 0.8383 | Val precision: 0.6040 | Val recall: 0.5680 | Val f1score: 0.5741 | Val acc: 0.6309 | Val kappa: 0.9208 \n",
      "\n",
      "Epoch: 20 \n",
      "Learning rate: 4.228282585245324e-06\n",
      "Train loss: 0.7598 | Train precision: 0.6730 | Train recall: 0.6559 | Train f1score: 0.6627 | Train acc: 0.6533 | Train kappa: 0.9312 \n",
      "Val loss: 0.8399 | Val precision: 0.6066 | Val recall: 0.5679 | Val f1score: 0.5714 | Val acc: 0.6309 | Val kappa: 0.9231 \n",
      "\n",
      "Epoch: 21 \n",
      "Learning rate: 3.1712119389339933e-06\n",
      "Train loss: 0.7407 | Train precision: 0.6877 | Train recall: 0.6679 | Train f1score: 0.6751 | Train acc: 0.6620 | Train kappa: 0.9344 \n",
      "Val loss: 0.8395 | Val precision: 0.6035 | Val recall: 0.5635 | Val f1score: 0.5655 | Val acc: 0.6201 | Val kappa: 0.9215 \n",
      "\n",
      "Epoch: 22 \n",
      "Learning rate: 2.378408954200495e-06\n",
      "Train loss: 0.7355 | Train precision: 0.6876 | Train recall: 0.6656 | Train f1score: 0.6740 | Train acc: 0.6701 | Train kappa: 0.9346 \n",
      "Val loss: 0.8350 | Val precision: 0.6058 | Val recall: 0.5685 | Val f1score: 0.5725 | Val acc: 0.6270 | Val kappa: 0.9209 \n",
      "\n",
      "Epoch: 23 \n",
      "Learning rate: 1.7838067156503713e-06\n",
      "Train loss: 0.7334 | Train precision: 0.6908 | Train recall: 0.6733 | Train f1score: 0.6803 | Train acc: 0.6715 | Train kappa: 0.9327 \n",
      "Val loss: 0.8314 | Val precision: 0.5952 | Val recall: 0.5756 | Val f1score: 0.5723 | Val acc: 0.6270 | Val kappa: 0.9225 \n",
      "\n",
      "Epoch: 24 \n",
      "Learning rate: 1.3378550367377785e-06\n",
      "Train loss: 0.7374 | Train precision: 0.6978 | Train recall: 0.6759 | Train f1score: 0.6844 | Train acc: 0.6742 | Train kappa: 0.9352 \n",
      "Val loss: 0.8371 | Val precision: 0.6067 | Val recall: 0.5701 | Val f1score: 0.5722 | Val acc: 0.6318 | Val kappa: 0.9237 \n",
      "\n",
      "Epoch: 25 \n",
      "Learning rate: 1.0033912775533338e-06\n",
      "Train loss: 0.7224 | Train precision: 0.6999 | Train recall: 0.6777 | Train f1score: 0.6857 | Train acc: 0.6760 | Train kappa: 0.9416 \n",
      "Val loss: 0.8388 | Val precision: 0.6011 | Val recall: 0.5624 | Val f1score: 0.5650 | Val acc: 0.6230 | Val kappa: 0.9229 \n",
      "\n",
      "Epoch: 26 \n",
      "Learning rate: 1e-06\n",
      "Train loss: 0.7435 | Train precision: 0.6814 | Train recall: 0.6687 | Train f1score: 0.6729 | Train acc: 0.6633 | Train kappa: 0.9340 \n",
      "Val loss: 0.8295 | Val precision: 0.6002 | Val recall: 0.5775 | Val f1score: 0.5768 | Val acc: 0.6309 | Val kappa: 0.9222 \n",
      "\n",
      "Epoch: 27 \n",
      "Learning rate: 1e-06\n",
      "Train loss: 0.7380 | Train precision: 0.6827 | Train recall: 0.6668 | Train f1score: 0.6731 | Train acc: 0.6632 | Train kappa: 0.9359 \n",
      "Val loss: 0.8333 | Val precision: 0.6014 | Val recall: 0.5728 | Val f1score: 0.5733 | Val acc: 0.6289 | Val kappa: 0.9225 \n",
      "\n",
      "Early stopping after epoch 27\n"
     ]
    },
    {
     "data": {
      "text/html": [
       "Waiting for W&B process to finish... <strong style=\"color:green\">(success).</strong>"
      ],
      "text/plain": [
       "<IPython.core.display.HTML object>"
      ]
     },
     "metadata": {},
     "output_type": "display_data"
    },
    {
     "data": {
      "application/vnd.jupyter.widget-view+json": {
       "model_id": "df7eb9039edd4dbe8454206f71d07c9f",
       "version_major": 2,
       "version_minor": 0
      },
      "text/plain": [
       "VBox(children=(Label(value='0.001 MB of 0.001 MB uploaded (0.000 MB deduped)\\r'), FloatProgress(value=1.0, max…"
      ]
     },
     "metadata": {},
     "output_type": "display_data"
    },
    {
     "data": {
      "text/html": [
       "<style>\n",
       "    table.wandb td:nth-child(1) { padding: 0 10px; text-align: left ; width: auto;} td:nth-child(2) {text-align: left ; width: 100%}\n",
       "    .wandb-row { display: flex; flex-direction: row; flex-wrap: wrap; justify-content: flex-start; width: 100% }\n",
       "    .wandb-col { display: flex; flex-direction: column; flex-basis: 100%; flex: 1; padding: 10px; }\n",
       "    </style>\n",
       "<div class=\"wandb-row\"><div class=\"wandb-col\"><h3>Run history:</h3><br/><table class=\"wandb\"><tr><td>learning_rate</td><td>█▆▅▄▃▃▂▂▂▂▁▁▁▁▁▁▁▁▁▁▁▁▁▁▁▁▁</td></tr><tr><td>train_f1_score</td><td>▁▃▄▅▅▆▆▇▇▇▇▇▇██████████████</td></tr><tr><td>train_loss</td><td>█▅▄▄▃▃▂▂▂▂▂▁▁▁▁▁▁▁▁▁▁▁▁▁▁▁▁</td></tr><tr><td>val_f1_score</td><td>▁▂▅▆▇█▇▇███████████████████</td></tr><tr><td>val_loss</td><td>█▇▄▂▂▂▂▁▁▁▁▁▁▁▁▁▁▁▁▁▁▁▁▁▁▁▁</td></tr></table><br/></div><div class=\"wandb-col\"><h3>Run summary:</h3><br/><table class=\"wandb\"><tr><td>learning_rate</td><td>0.0</td></tr><tr><td>train_f1_score</td><td>0.67311</td></tr><tr><td>train_loss</td><td>0.73802</td></tr><tr><td>val_f1_score</td><td>0.5733</td></tr><tr><td>val_loss</td><td>0.83325</td></tr></table><br/></div></div>"
      ],
      "text/plain": [
       "<IPython.core.display.HTML object>"
      ]
     },
     "metadata": {},
     "output_type": "display_data"
    },
    {
     "data": {
      "text/html": [
       " View run <strong style=\"color:#cdcd00\">fold_4_RGB-RE-NIR-5species-combined</strong> at: <a href='https://wandb.ai/simon-ecke/wze-uav-combined-treewise/runs/hpjs1d3h' target=\"_blank\">https://wandb.ai/simon-ecke/wze-uav-combined-treewise/runs/hpjs1d3h</a><br/>Synced 5 W&B file(s), 0 media file(s), 0 artifact file(s) and 0 other file(s)"
      ],
      "text/plain": [
       "<IPython.core.display.HTML object>"
      ]
     },
     "metadata": {},
     "output_type": "display_data"
    },
    {
     "data": {
      "text/html": [
       "Find logs at: <code>.\\wandb\\run-20230520_114155-hpjs1d3h\\logs</code>"
      ],
      "text/plain": [
       "<IPython.core.display.HTML object>"
      ]
     },
     "metadata": {},
     "output_type": "display_data"
    },
    {
     "name": "stdout",
     "output_type": "stream",
     "text": [
      "Deleting variables and emptying cache\n",
      "Memory allocated: 1054688256 bytes\n",
      "--------------------------------------------------\n",
      "\n",
      "Fold : 5\n",
      "TRAIN POSITIVE RATIO: 2.898136305499726\n",
      "VAL POSITIVE RATIO  : 3.0184916606236403\n",
      "LENGTH TRAIN GROUPS : 4157\n",
      "LENGTH VAL GROUPS   : 1040\n"
     ]
    },
    {
     "data": {
      "text/html": [
       "wandb version 0.15.3 is available!  To upgrade, please run:\n",
       " $ pip install wandb --upgrade"
      ],
      "text/plain": [
       "<IPython.core.display.HTML object>"
      ]
     },
     "metadata": {},
     "output_type": "display_data"
    },
    {
     "data": {
      "text/html": [
       "Tracking run with wandb version 0.14.2"
      ],
      "text/plain": [
       "<IPython.core.display.HTML object>"
      ]
     },
     "metadata": {},
     "output_type": "display_data"
    },
    {
     "data": {
      "text/html": [
       "Run data is saved locally in <code>C:\\Users\\lwfeckesim\\01_PyTorch\\wze-uav\\wze-uav-master\\wandb\\run-20230520_134744-4qury1s5</code>"
      ],
      "text/plain": [
       "<IPython.core.display.HTML object>"
      ]
     },
     "metadata": {},
     "output_type": "display_data"
    },
    {
     "data": {
      "text/html": [
       "Syncing run <strong><a href='https://wandb.ai/simon-ecke/wze-uav-combined-treewise/runs/4qury1s5' target=\"_blank\">fold_5_RGB-RE-NIR-5species-combined</a></strong> to <a href='https://wandb.ai/simon-ecke/wze-uav-combined-treewise' target=\"_blank\">Weights & Biases</a> (<a href='https://wandb.me/run' target=\"_blank\">docs</a>)<br/>"
      ],
      "text/plain": [
       "<IPython.core.display.HTML object>"
      ]
     },
     "metadata": {},
     "output_type": "display_data"
    },
    {
     "data": {
      "text/html": [
       " View project at <a href='https://wandb.ai/simon-ecke/wze-uav-combined-treewise' target=\"_blank\">https://wandb.ai/simon-ecke/wze-uav-combined-treewise</a>"
      ],
      "text/plain": [
       "<IPython.core.display.HTML object>"
      ]
     },
     "metadata": {},
     "output_type": "display_data"
    },
    {
     "data": {
      "text/html": [
       " View run at <a href='https://wandb.ai/simon-ecke/wze-uav-combined-treewise/runs/4qury1s5' target=\"_blank\">https://wandb.ai/simon-ecke/wze-uav-combined-treewise/runs/4qury1s5</a>"
      ],
      "text/plain": [
       "<IPython.core.display.HTML object>"
      ]
     },
     "metadata": {},
     "output_type": "display_data"
    },
    {
     "name": "stdout",
     "output_type": "stream",
     "text": [
      "There are no same hash_id values in train, val or test datasets. The datasplit was successful\n",
      "Check shapes:\n",
      "\n",
      "Images train dataset: (10946, 250, 250, 5)\n",
      "Labels train dataset: (10946, 1)\n",
      "\n",
      "Images validation dataset: (1040, 250, 250, 5)\n",
      "Labels validation dataset: (1040, 1)\n",
      "\n",
      "--------------------------------------------------\n",
      "Check if the split was stratified: (random_state=42)\n",
      "Picea abies healthy in train dataset: 2988\n",
      "Picea abies stressed in train dataset: 1550\n",
      "Pinus sylvestris healthy in train dataset: 1488\n",
      "Pinus sylvestris stressed in train dataset: 1681\n",
      "Abies alba healthy in train dataset: 325\n",
      "Abies alba stressed in train dataset: 133\n",
      "Fagus sylvatica healthy in train dataset: 1011\n",
      "Fagus sylvatica stressed in train dataset: 701\n",
      "Quercus robur/petraea healthy in train dataset: 574\n",
      "Quercus robur/petraea stressed in train dataset: 326\n",
      "Dead trees in train dataset: 169\n",
      "Picea abies healthy in validation dataset: 289\n",
      "Picea abies stressed in validation dataset: 150\n",
      "Pinus sylvestris healthy in validation dataset: 112\n",
      "Pinus sylvestris stressed in validation dataset: 176\n",
      "Abies alba healthy in validation dataset: 33\n",
      "Abies alba stressed in validation dataset: 11\n",
      "Fagus sylvatica healthy in validation dataset: 87\n",
      "Fagus sylvatica stressed in validation dataset: 60\n",
      "Quercus robur/petraea healthy in validation dataset: 68\n",
      "Quercus robur/petraea stressed in validation dataset: 32\n",
      "Dead trees in validation dataset: 22\n",
      "--------------------------------------------------\n",
      "\n",
      "Creating datasets for fold: 5\n",
      "\n",
      "Creating dataloaders for fold: 5\n",
      "\n",
      "Loaded pretrained weights for efficientnet-b7\n",
      "\n",
      "[INFO] Fold number: 5\n",
      "[INFO] Number of epochs: 50\n",
      "[INFO] Batch_size: 32\n",
      "[INFO] Number of bands: 5\n",
      "[INFO] Dropout rate: 0.5\n",
      "[INFO] Gamma learning rate: 0.75\n",
      "[INFO] Memory allocated: 0 bytes\n"
     ]
    },
    {
     "data": {
      "application/vnd.jupyter.widget-view+json": {
       "model_id": "b32c1d1da87d4056a3b10c9082a6280e",
       "version_major": 2,
       "version_minor": 0
      },
      "text/plain": [
       "  0%|          | 0/50 [00:00<?, ?it/s]"
      ]
     },
     "metadata": {},
     "output_type": "display_data"
    },
    {
     "name": "stdout",
     "output_type": "stream",
     "text": [
      "Epoch: 1 \n",
      "Learning rate: 0.001\n",
      "Train loss: 1.5346 | Train precision: 0.3363 | Train recall: 0.2980 | Train f1score: 0.3032 | Train acc: 0.4043 | Train kappa: 0.6416 \n",
      "Val loss: 2.6148 | Val precision: 0.1142 | Val recall: 0.1425 | Val f1score: 0.0831 | Val acc: 0.2559 | Val kappa: 0.1782 \n",
      "\n",
      "Epoch: 2 \n",
      "Learning rate: 0.00075\n",
      "Train loss: 1.2095 | Train precision: 0.4290 | Train recall: 0.4013 | Train f1score: 0.4041 | Train acc: 0.4843 | Train kappa: 0.7968 \n",
      "Val loss: 1.9671 | Val precision: 0.2419 | Val recall: 0.2291 | Val f1score: 0.1645 | Val acc: 0.3262 | Val kappa: 0.4719 \n",
      "\n",
      "Epoch: 3 \n",
      "Learning rate: 0.0005625000000000001\n",
      "Train loss: 1.0860 | Train precision: 0.4878 | Train recall: 0.4704 | Train f1score: 0.4731 | Train acc: 0.5305 | Train kappa: 0.8358 \n",
      "Val loss: 1.7257 | Val precision: 0.4594 | Val recall: 0.4396 | Val f1score: 0.3390 | Val acc: 0.3496 | Val kappa: 0.7389 \n",
      "\n",
      "Epoch: 4 \n",
      "Learning rate: 0.000421875\n",
      "Train loss: 1.0133 | Train precision: 0.5404 | Train recall: 0.5120 | Train f1score: 0.5167 | Train acc: 0.5634 | Train kappa: 0.8619 \n",
      "Val loss: 1.0852 | Val precision: 0.4464 | Val recall: 0.4853 | Val f1score: 0.4356 | Val acc: 0.5537 | Val kappa: 0.8463 \n",
      "\n",
      "Epoch: 5 \n",
      "Learning rate: 0.00031640625\n",
      "Train loss: 0.9580 | Train precision: 0.5729 | Train recall: 0.5455 | Train f1score: 0.5530 | Train acc: 0.5835 | Train kappa: 0.8803 \n",
      "Val loss: 1.0531 | Val precision: 0.5926 | Val recall: 0.5014 | Val f1score: 0.5054 | Val acc: 0.5596 | Val kappa: 0.8586 \n",
      "\n",
      "Epoch: 6 \n",
      "Learning rate: 0.0002373046875\n",
      "Train loss: 0.9218 | Train precision: 0.5845 | Train recall: 0.5589 | Train f1score: 0.5669 | Train acc: 0.5844 | Train kappa: 0.8905 \n",
      "Val loss: 0.9600 | Val precision: 0.5658 | Val recall: 0.5433 | Val f1score: 0.5246 | Val acc: 0.5732 | Val kappa: 0.8862 \n",
      "\n",
      "Epoch: 7 \n",
      "Learning rate: 0.000177978515625\n",
      "Train loss: 0.8794 | Train precision: 0.6076 | Train recall: 0.5843 | Train f1score: 0.5908 | Train acc: 0.6117 | Train kappa: 0.9041 \n",
      "Val loss: 0.9827 | Val precision: 0.5852 | Val recall: 0.4911 | Val f1score: 0.4973 | Val acc: 0.5674 | Val kappa: 0.8686 \n",
      "\n",
      "Epoch: 8 \n",
      "Learning rate: 0.00013348388671875\n",
      "Train loss: 0.8499 | Train precision: 0.6235 | Train recall: 0.5962 | Train f1score: 0.6050 | Train acc: 0.6278 | Train kappa: 0.9075 \n",
      "Val loss: 0.8720 | Val precision: 0.5910 | Val recall: 0.5613 | Val f1score: 0.5674 | Val acc: 0.6250 | Val kappa: 0.8910 \n",
      "\n",
      "Epoch: 9 \n",
      "Learning rate: 0.0001001129150390625\n",
      "Train loss: 0.8305 | Train precision: 0.6370 | Train recall: 0.6115 | Train f1score: 0.6196 | Train acc: 0.6270 | Train kappa: 0.9066 \n",
      "Val loss: 0.9178 | Val precision: 0.5892 | Val recall: 0.5618 | Val f1score: 0.5532 | Val acc: 0.6045 | Val kappa: 0.8820 \n",
      "\n",
      "Epoch: 10 \n",
      "Learning rate: 7.508468627929687e-05\n",
      "Train loss: 0.8102 | Train precision: 0.6508 | Train recall: 0.6246 | Train f1score: 0.6323 | Train acc: 0.6478 | Train kappa: 0.9148 \n",
      "Val loss: 0.8651 | Val precision: 0.5989 | Val recall: 0.5926 | Val f1score: 0.5837 | Val acc: 0.6182 | Val kappa: 0.8987 \n",
      "\n",
      "Epoch: 11 \n",
      "Learning rate: 5.6313514709472656e-05\n",
      "Train loss: 0.7952 | Train precision: 0.6604 | Train recall: 0.6393 | Train f1score: 0.6460 | Train acc: 0.6485 | Train kappa: 0.9193 \n",
      "Val loss: 0.8662 | Val precision: 0.5971 | Val recall: 0.6012 | Val f1score: 0.5964 | Val acc: 0.6191 | Val kappa: 0.9016 \n",
      "\n",
      "Epoch: 12 \n",
      "Learning rate: 4.223513603210449e-05\n",
      "Train loss: 0.7780 | Train precision: 0.6741 | Train recall: 0.6464 | Train f1score: 0.6566 | Train acc: 0.6528 | Train kappa: 0.9259 \n",
      "Val loss: 0.8554 | Val precision: 0.6290 | Val recall: 0.6129 | Val f1score: 0.6172 | Val acc: 0.6367 | Val kappa: 0.9028 \n",
      "\n",
      "Epoch: 13 \n",
      "Learning rate: 3.167635202407837e-05\n",
      "Train loss: 0.7742 | Train precision: 0.6704 | Train recall: 0.6424 | Train f1score: 0.6531 | Train acc: 0.6583 | Train kappa: 0.9183 \n",
      "Val loss: 0.8532 | Val precision: 0.6300 | Val recall: 0.6151 | Val f1score: 0.6197 | Val acc: 0.6377 | Val kappa: 0.8852 \n",
      "\n",
      "Epoch: 14 \n",
      "Learning rate: 2.3757264018058778e-05\n",
      "Train loss: 0.7736 | Train precision: 0.6694 | Train recall: 0.6466 | Train f1score: 0.6540 | Train acc: 0.6562 | Train kappa: 0.9222 \n",
      "Val loss: 0.8517 | Val precision: 0.6113 | Val recall: 0.5905 | Val f1score: 0.5929 | Val acc: 0.6191 | Val kappa: 0.8996 \n",
      "\n",
      "Epoch: 15 \n",
      "Learning rate: 1.7817948013544083e-05\n",
      "Train loss: 0.7463 | Train precision: 0.6889 | Train recall: 0.6728 | Train f1score: 0.6785 | Train acc: 0.6715 | Train kappa: 0.9316 \n",
      "Val loss: 0.8712 | Val precision: 0.6032 | Val recall: 0.6049 | Val f1score: 0.5928 | Val acc: 0.6152 | Val kappa: 0.8889 \n",
      "\n",
      "Epoch: 16 \n",
      "Learning rate: 1.3363461010158063e-05\n",
      "Train loss: 0.7567 | Train precision: 0.6702 | Train recall: 0.6495 | Train f1score: 0.6576 | Train acc: 0.6627 | Train kappa: 0.9265 \n",
      "Val loss: 0.8567 | Val precision: 0.6266 | Val recall: 0.6066 | Val f1score: 0.6073 | Val acc: 0.6289 | Val kappa: 0.8979 \n",
      "\n",
      "Epoch: 17 \n",
      "Learning rate: 1.0022595757618546e-05\n",
      "Train loss: 0.7466 | Train precision: 0.6878 | Train recall: 0.6617 | Train f1score: 0.6702 | Train acc: 0.6674 | Train kappa: 0.9288 \n",
      "Val loss: 0.8557 | Val precision: 0.6232 | Val recall: 0.5946 | Val f1score: 0.5973 | Val acc: 0.6211 | Val kappa: 0.8868 \n",
      "\n",
      "Epoch: 18 \n",
      "Learning rate: 7.51694681821391e-06\n",
      "Train loss: 0.7516 | Train precision: 0.6802 | Train recall: 0.6544 | Train f1score: 0.6633 | Train acc: 0.6613 | Train kappa: 0.9249 \n",
      "Val loss: 0.8531 | Val precision: 0.6228 | Val recall: 0.6033 | Val f1score: 0.6052 | Val acc: 0.6250 | Val kappa: 0.8897 \n",
      "\n",
      "Epoch: 19 \n",
      "Learning rate: 5.637710113660432e-06\n",
      "Train loss: 0.7488 | Train precision: 0.6845 | Train recall: 0.6588 | Train f1score: 0.6689 | Train acc: 0.6656 | Train kappa: 0.9324 \n",
      "Val loss: 0.8506 | Val precision: 0.6216 | Val recall: 0.6011 | Val f1score: 0.6022 | Val acc: 0.6270 | Val kappa: 0.8948 \n",
      "\n",
      "Epoch: 20 \n",
      "Learning rate: 4.228282585245324e-06\n",
      "Train loss: 0.7570 | Train precision: 0.6826 | Train recall: 0.6530 | Train f1score: 0.6634 | Train acc: 0.6659 | Train kappa: 0.9227 \n",
      "Val loss: 0.8477 | Val precision: 0.6181 | Val recall: 0.6040 | Val f1score: 0.6045 | Val acc: 0.6289 | Val kappa: 0.8935 \n",
      "\n",
      "Epoch: 21 \n",
      "Learning rate: 3.1712119389339933e-06\n",
      "Train loss: 0.7507 | Train precision: 0.6769 | Train recall: 0.6597 | Train f1score: 0.6649 | Train acc: 0.6663 | Train kappa: 0.9217 \n",
      "Val loss: 0.8501 | Val precision: 0.6153 | Val recall: 0.6038 | Val f1score: 0.6041 | Val acc: 0.6270 | Val kappa: 0.8945 \n",
      "\n",
      "Epoch: 22 \n",
      "Learning rate: 2.378408954200495e-06\n",
      "Train loss: 0.7365 | Train precision: 0.6868 | Train recall: 0.6667 | Train f1score: 0.6745 | Train acc: 0.6731 | Train kappa: 0.9280 \n",
      "Val loss: 0.8559 | Val precision: 0.6188 | Val recall: 0.6082 | Val f1score: 0.6069 | Val acc: 0.6240 | Val kappa: 0.8945 \n",
      "\n",
      "Epoch: 23 \n",
      "Learning rate: 1.7838067156503713e-06\n",
      "Train loss: 0.7488 | Train precision: 0.6713 | Train recall: 0.6499 | Train f1score: 0.6579 | Train acc: 0.6677 | Train kappa: 0.9241 \n",
      "Val loss: 0.8527 | Val precision: 0.6166 | Val recall: 0.6094 | Val f1score: 0.6063 | Val acc: 0.6328 | Val kappa: 0.8908 \n",
      "\n",
      "Epoch: 24 \n",
      "Learning rate: 1.3378550367377785e-06\n",
      "Train loss: 0.7400 | Train precision: 0.6891 | Train recall: 0.6676 | Train f1score: 0.6756 | Train acc: 0.6692 | Train kappa: 0.9343 \n",
      "Val loss: 0.8540 | Val precision: 0.6185 | Val recall: 0.6069 | Val f1score: 0.6060 | Val acc: 0.6270 | Val kappa: 0.8898 \n",
      "\n",
      "Epoch: 25 \n",
      "Learning rate: 1.0033912775533338e-06\n",
      "Train loss: 0.7328 | Train precision: 0.6857 | Train recall: 0.6725 | Train f1score: 0.6775 | Train acc: 0.6762 | Train kappa: 0.9338 \n",
      "Val loss: 0.8522 | Val precision: 0.6220 | Val recall: 0.6081 | Val f1score: 0.6093 | Val acc: 0.6318 | Val kappa: 0.8932 \n",
      "\n",
      "Epoch: 26 \n",
      "Learning rate: 1e-06\n",
      "Train loss: 0.7384 | Train precision: 0.6800 | Train recall: 0.6589 | Train f1score: 0.6676 | Train acc: 0.6665 | Train kappa: 0.9301 \n",
      "Val loss: 0.8518 | Val precision: 0.6202 | Val recall: 0.6091 | Val f1score: 0.6086 | Val acc: 0.6328 | Val kappa: 0.8885 \n",
      "\n",
      "Epoch: 27 \n",
      "Learning rate: 1e-06\n",
      "Train loss: 0.7324 | Train precision: 0.6910 | Train recall: 0.6721 | Train f1score: 0.6786 | Train acc: 0.6738 | Train kappa: 0.9267 \n",
      "Val loss: 0.8534 | Val precision: 0.6247 | Val recall: 0.6071 | Val f1score: 0.6098 | Val acc: 0.6279 | Val kappa: 0.8986 \n",
      "\n"
     ]
    },
    {
     "name": "stdout",
     "output_type": "stream",
     "text": [
      "Epoch: 28 \n",
      "Learning rate: 1e-06\n",
      "Train loss: 0.7371 | Train precision: 0.6935 | Train recall: 0.6649 | Train f1score: 0.6757 | Train acc: 0.6649 | Train kappa: 0.9328 \n",
      "Val loss: 0.8498 | Val precision: 0.6196 | Val recall: 0.6068 | Val f1score: 0.6076 | Val acc: 0.6289 | Val kappa: 0.8952 \n",
      "\n",
      "Epoch: 29 \n",
      "Learning rate: 1e-06\n",
      "Train loss: 0.7453 | Train precision: 0.6901 | Train recall: 0.6676 | Train f1score: 0.6762 | Train acc: 0.6681 | Train kappa: 0.9283 \n",
      "Val loss: 0.8496 | Val precision: 0.6228 | Val recall: 0.6097 | Val f1score: 0.6105 | Val acc: 0.6328 | Val kappa: 0.8986 \n",
      "\n",
      "Epoch: 30 \n",
      "Learning rate: 1e-06\n",
      "Train loss: 0.7460 | Train precision: 0.6788 | Train recall: 0.6578 | Train f1score: 0.6657 | Train acc: 0.6683 | Train kappa: 0.9278 \n",
      "Val loss: 0.8535 | Val precision: 0.6132 | Val recall: 0.6041 | Val f1score: 0.6011 | Val acc: 0.6230 | Val kappa: 0.8917 \n",
      "\n",
      "Early stopping after epoch 30\n"
     ]
    },
    {
     "data": {
      "text/html": [
       "Waiting for W&B process to finish... <strong style=\"color:green\">(success).</strong>"
      ],
      "text/plain": [
       "<IPython.core.display.HTML object>"
      ]
     },
     "metadata": {},
     "output_type": "display_data"
    },
    {
     "data": {
      "text/html": [
       "<style>\n",
       "    table.wandb td:nth-child(1) { padding: 0 10px; text-align: left ; width: auto;} td:nth-child(2) {text-align: left ; width: 100%}\n",
       "    .wandb-row { display: flex; flex-direction: row; flex-wrap: wrap; justify-content: flex-start; width: 100% }\n",
       "    .wandb-col { display: flex; flex-direction: column; flex-basis: 100%; flex: 1; padding: 10px; }\n",
       "    </style>\n",
       "<div class=\"wandb-row\"><div class=\"wandb-col\"><h3>Run history:</h3><br/><table class=\"wandb\"><tr><td>learning_rate</td><td>█▆▅▄▃▃▂▂▂▂▁▁▁▁▁▁▁▁▁▁▁▁▁▁▁▁▁▁▁▁</td></tr><tr><td>train_f1_score</td><td>▁▃▄▅▆▆▆▇▇▇▇███████████████████</td></tr><tr><td>train_loss</td><td>█▅▄▃▃▃▂▂▂▂▂▁▁▁▁▁▁▁▁▁▁▁▁▁▁▁▁▁▁▁</td></tr><tr><td>val_f1_score</td><td>▁▂▄▆▇▇▆▇▇█████████████████████</td></tr><tr><td>val_loss</td><td>█▅▄▂▂▁▂▁▁▁▁▁▁▁▁▁▁▁▁▁▁▁▁▁▁▁▁▁▁▁</td></tr></table><br/></div><div class=\"wandb-col\"><h3>Run summary:</h3><br/><table class=\"wandb\"><tr><td>learning_rate</td><td>0.0</td></tr><tr><td>train_f1_score</td><td>0.66569</td></tr><tr><td>train_loss</td><td>0.74597</td></tr><tr><td>val_f1_score</td><td>0.60113</td></tr><tr><td>val_loss</td><td>0.85347</td></tr></table><br/></div></div>"
      ],
      "text/plain": [
       "<IPython.core.display.HTML object>"
      ]
     },
     "metadata": {},
     "output_type": "display_data"
    },
    {
     "data": {
      "text/html": [
       " View run <strong style=\"color:#cdcd00\">fold_5_RGB-RE-NIR-5species-combined</strong> at: <a href='https://wandb.ai/simon-ecke/wze-uav-combined-treewise/runs/4qury1s5' target=\"_blank\">https://wandb.ai/simon-ecke/wze-uav-combined-treewise/runs/4qury1s5</a><br/>Synced 5 W&B file(s), 0 media file(s), 0 artifact file(s) and 0 other file(s)"
      ],
      "text/plain": [
       "<IPython.core.display.HTML object>"
      ]
     },
     "metadata": {},
     "output_type": "display_data"
    },
    {
     "data": {
      "text/html": [
       "Find logs at: <code>.\\wandb\\run-20230520_134744-4qury1s5\\logs</code>"
      ],
      "text/plain": [
       "<IPython.core.display.HTML object>"
      ]
     },
     "metadata": {},
     "output_type": "display_data"
    },
    {
     "name": "stdout",
     "output_type": "stream",
     "text": [
      "Deleting variables and emptying cache\n",
      "Memory allocated: 1056451584 bytes\n",
      "--------------------------------------------------\n",
      "\n",
      "CPU times: total: 5h 47min 41s\n",
      "Wall time: 11h 46min 16s\n"
     ]
    }
   ],
   "source": [
    "%%time\n",
    "\n",
    "# Set the random seeds\n",
    "set_seeds(42)\n",
    "\n",
    "# Define the number of folds\n",
    "num_folds = 5\n",
    "\n",
    "# group the hashIDs to get the unique values of hashIDs remaining in the subset  \n",
    "groups = sub_hash_id[:, 0] \n",
    "print(\"ORIGINAL POSITIVE RATIO:\", sub_label_set.mean())\n",
    "# create a StratifiedGroupKFold instance\n",
    "kf = StratifiedGroupKFold(n_splits=num_folds, shuffle=True, random_state=42)\n",
    "\n",
    "# loop through the folds\n",
    "for fold, (train_ids, val_ids) in enumerate(kf.split(sub_image_set, sub_label_set, groups)):\n",
    "    print(\"Fold :\", fold+1)\n",
    "    print(\"TRAIN POSITIVE RATIO:\", sub_label_set[train_ids].mean())\n",
    "    print(\"VAL POSITIVE RATIO  :\", sub_label_set[val_ids].mean())\n",
    "    print(\"LENGTH TRAIN GROUPS :\", len(set(groups[train_ids])))\n",
    "    print(\"LENGTH VAL GROUPS   :\", len(set(groups[val_ids])))\n",
    "    \n",
    "    train_ids = sub_hash_id[:, 0][train_ids]\n",
    "    val_ids = np.unique(sub_hash_id[:, 0][val_ids])\n",
    "\n",
    "    torch.cuda.empty_cache()\n",
    "    \n",
    "    # Initialize a new wandb run for this fold\n",
    "    wandb.init(project='wze-uav-combined-treewise', name=f\"fold_{fold + 1}_{extra}\")\n",
    "    \n",
    "    # 1. Split data into train and validation set\n",
    "    # Get the training and testing data for this fold\n",
    "    # Use np.isin() to create boolean arrays indicating which indices belong to train or test sets\n",
    "    train_indices = np.isin(sub_hash_id[:,0], train_ids)\n",
    "    \n",
    "    val_indices = np.zeros_like(train_indices)  # initialize to all False\n",
    "    for hash_id_val in val_ids:\n",
    "        # select one image ID randomly from either 2020 or 2021 or 2022 for each unique hash ID in the test set\n",
    "        temp = np.unique(sub_hash_id[(sub_hash_id[:, 0] == hash_id_val), 1]) # check how many years are available per hashID\n",
    "        if len(temp) == 1:\n",
    "            year = temp[0]\n",
    "        elif len(temp) == 2:\n",
    "            year = np.random.choice(temp)\n",
    "        else:\n",
    "            year = np.random.choice(temp)\n",
    "        \n",
    "        # select image ID using the conditions\n",
    "        image_ids = sub_hash_id[(sub_hash_id[:,0] == hash_id_val) & (sub_hash_id[:,1] == year), 0]\n",
    "    \n",
    "        # mark the index corresponding to the selected image ID and hash ID as True in the test indices array\n",
    "        val_indices[(sub_hash_id[:,0] == hash_id_val) & (sub_hash_id[:,1] == year) & (np.isin(sub_hash_id[:,0], image_ids))] = True \n",
    "    \n",
    "    # Reshape boolean arrays to match shape of image_set and label_set\n",
    "    train_indices = train_indices.reshape(-1, 1)\n",
    "    val_indices = val_indices.reshape(-1, 1)\n",
    "    \n",
    "    # Select images and labels for train and validation sets\n",
    "    train_image_set = sub_image_set[train_indices[:, 0]]\n",
    "    train_label_set = sub_label_set[train_indices[:, 0]]\n",
    "    train_hash_id = sub_hash_id[train_indices[:, 0]][:,0]\n",
    "    train_species_set = sub_species_set[train_indices[:, 0]]\n",
    "    val_image_set = sub_image_set[val_indices[:, 0]]\n",
    "    val_label_set = sub_label_set[val_indices[:, 0]]\n",
    "    val_hash_id = sub_hash_id[val_indices[:, 0]][:,0]\n",
    "    val_species_set = sub_species_set[val_indices[:, 0]]\n",
    "    # reshape \n",
    "    train_label_set = train_label_set.reshape(-1, 1)\n",
    "    val_label_set = val_label_set.reshape(-1, 1)\n",
    "    train_species_set = train_species_set.reshape(-1, 1)\n",
    "    val_species_set = val_species_set.reshape(-1, 1)\n",
    "    \n",
    "    # check if there are any group overlaps between the data splits\n",
    "    hash_set = set(train_hash_id)\n",
    "    val_hash_set = set(val_hash_id)\n",
    "    test_hash_set = set(test_hash_id[:, 0].flatten())\n",
    "    intersection = hash_set.intersection(val_hash_set)\n",
    "    intersection2 = test_hash_set.intersection(val_hash_set)\n",
    "    intersection3 = hash_set.intersection(test_hash_set)\n",
    "    if intersection:\n",
    "        print(f\"Hash_id values in both train and val sets: {len(intersection)}\")\n",
    "        print(f\"Hash_id values in both test and val sets: {len(intersection2)}\")\n",
    "        print(f\"Hash_id values in both train and test sets: {len(intersection3)}\")\n",
    "    else:\n",
    "        print(\"There are no same hash_id values in train, val or test datasets. The datasplit was successful\")\n",
    "    \n",
    "         \n",
    "    print(\"Check shapes:\\n\")\n",
    "    print(f\"Images train dataset: {train_image_set.shape}\")\n",
    "    print(f\"Labels train dataset: {train_label_set.shape}\\n\")\n",
    "    \n",
    "    print(f\"Images validation dataset: {val_image_set.shape}\")\n",
    "    print(f\"Labels validation dataset: {val_label_set.shape}\\n\")\n",
    "    print('-'*50)\n",
    "    print (f\"Check if the split was stratified: (random_state=42)\")\n",
    "    print(f\"Picea abies healthy in train dataset: {np.count_nonzero(train_label_set == 0)}\")\n",
    "    print(f\"Picea abies stressed in train dataset: {np.count_nonzero(train_label_set == 1)}\")\n",
    "    print(f\"Pinus sylvestris healthy in train dataset: {np.count_nonzero(train_label_set == 2)}\")\n",
    "    print(f\"Pinus sylvestris stressed in train dataset: {np.count_nonzero(train_label_set == 3)}\")\n",
    "    print(f\"Abies alba healthy in train dataset: {np.count_nonzero(train_label_set == 4)}\")\n",
    "    print(f\"Abies alba stressed in train dataset: {np.count_nonzero(train_label_set == 5)}\")\n",
    "    print(f\"Fagus sylvatica healthy in train dataset: {np.count_nonzero(train_label_set == 6)}\")\n",
    "    print(f\"Fagus sylvatica stressed in train dataset: {np.count_nonzero(train_label_set == 7)}\")\n",
    "    print(f\"Quercus robur/petraea healthy in train dataset: {np.count_nonzero(train_label_set == 8)}\")\n",
    "    print(f\"Quercus robur/petraea stressed in train dataset: {np.count_nonzero(train_label_set == 9)}\")\n",
    "    print(f\"Dead trees in train dataset: {np.count_nonzero(train_label_set == 10)}\")\n",
    "    print(f\"Picea abies healthy in validation dataset: {np.count_nonzero(val_label_set == 0)}\")\n",
    "    print(f\"Picea abies stressed in validation dataset: {np.count_nonzero(val_label_set == 1)}\")\n",
    "    print(f\"Pinus sylvestris healthy in validation dataset: {np.count_nonzero(val_label_set == 2)}\")\n",
    "    print(f\"Pinus sylvestris stressed in validation dataset: {np.count_nonzero(val_label_set == 3)}\")\n",
    "    print(f\"Abies alba healthy in validation dataset: {np.count_nonzero(val_label_set == 4)}\")\n",
    "    print(f\"Abies alba stressed in validation dataset: {np.count_nonzero(val_label_set == 5)}\")\n",
    "    print(f\"Fagus sylvatica healthy in validation dataset: {np.count_nonzero(val_label_set == 6)}\")\n",
    "    print(f\"Fagus sylvatica stressed in validation dataset: {np.count_nonzero(val_label_set == 7)}\")\n",
    "    print(f\"Quercus robur/petraea healthy in validation dataset: {np.count_nonzero(val_label_set == 8)}\")\n",
    "    print(f\"Quercus robur/petraea stressed in validation dataset: {np.count_nonzero(val_label_set == 9)}\")\n",
    "    print(f\"Dead trees in validation dataset: {np.count_nonzero(val_label_set == 10)}\")\n",
    "    print(\"-\"*50)\n",
    "   \n",
    "    # 2. Create train and validation dataset. (choose custom dataset loader with 3 - 5 classes)\n",
    "    print(f\"\\nCreating datasets for fold: {fold + 1}\\n\")\n",
    "    train_dataset = data_loader.CustomDataset(data=train_image_set, labels=train_label_set, class_names=class_names, species = train_species_set,\n",
    "                                                         transform=transform_train)\n",
    "    \n",
    "    val_dataset = data_loader.CustomDataset(data=val_image_set, labels=val_label_set, class_names=class_names,\n",
    "                                                       species = val_species_set, transform=transform)\n",
    "   \n",
    "    # 3. Create train and validation dataloader\n",
    "    # create sampler for oversampling of the minority classes\n",
    "    sampler = data_loader.data_sampler(dataset=train_dataset, class_names=class_names)\n",
    "    print(f\"Creating dataloaders for fold: {fold +1}\\n\")\n",
    "    train_dataloader = DataLoader(train_dataset, batch_size=batch_size, persistent_workers=True, pin_memory=True, num_workers=NUM_WORKERS, generator=g,\n",
    "                              sampler=sampler, shuffle=False, drop_last=True) # shuffle false because of the sampler\n",
    "\n",
    "    val_dataloader = DataLoader(val_dataset, batch_size=batch_size, persistent_workers=True, pin_memory=True, num_workers=NUM_WORKERS, shuffle=False,\n",
    "                             drop_last=True)\n",
    "    \n",
    "    model = model_effnet.EfficientNet.from_pretrained('efficientnet-b7', in_channels=n_bands, num_classes=num_classes, dropout_rate=dropout_rate)\n",
    "    #model = models.create_effnetb7(output_shape=num_classes, unfreeze=True, dropout_rate=dropout_rate, device=device)\n",
    "   \n",
    "    loss_fn = nn.CrossEntropyLoss()\n",
    "    optimizer = torch.optim.Adam(params=model.parameters(), lr=lr)\n",
    "    lr_scheduler = CustomExponentialLR(optimizer, gamma=gamma, min_lr=min_lr)\n",
    "\n",
    "    fold += 1\n",
    "    print(f\"\\n[INFO] Fold number: {fold}\")\n",
    "    print(f\"[INFO] Number of epochs: {epochs}\")\n",
    "    print(f\"[INFO] Batch_size: {batch_size}\")\n",
    "    print(f\"[INFO] Number of bands: {n_bands}\")\n",
    "    print(f\"[INFO] Dropout rate: {dropout_rate}\")\n",
    "    print(f\"[INFO] Gamma learning rate: {gamma}\")\n",
    "    print(f\"[INFO] Memory allocated: {torch.cuda.memory_allocated()} bytes\")\n",
    "    # 4. Train model with k fold dataloaders and track experiments\n",
    "    \n",
    "    if fold == 1:\n",
    "        fold1_results = train(model=model, model_name=model_name, n_bands=n_bands, batch_size=batch_size,train_dataloader=train_dataloader, val_dataloader=val_dataloader, \n",
    "                        optimizer=optimizer, loss_fn=loss_fn, lr_scheduler=lr_scheduler, num_classes=num_classes, epochs=epochs, experiment_num=fold, device=device,\n",
    "                        writer=None, early_stop_patience = patience)\n",
    "       \n",
    "    elif fold == 2:\n",
    "        fold2_results = train(model=model, model_name=model_name, n_bands=n_bands, batch_size=batch_size,train_dataloader=train_dataloader, val_dataloader=val_dataloader, \n",
    "                        optimizer=optimizer, loss_fn=loss_fn, lr_scheduler=lr_scheduler, num_classes=num_classes, epochs=epochs, experiment_num=fold, device=device,\n",
    "                        writer=None, early_stop_patience = patience)\n",
    "    elif fold == 3:\n",
    "        fold3_results = train(model=model, model_name=model_name, n_bands=n_bands, batch_size=batch_size,train_dataloader=train_dataloader, val_dataloader=val_dataloader, \n",
    "                        optimizer=optimizer, loss_fn=loss_fn, lr_scheduler=lr_scheduler, num_classes=num_classes, epochs=epochs, experiment_num=fold, device=device,\n",
    "                        writer=None, early_stop_patience = patience)\n",
    "    elif fold == 4:\n",
    "        fold4_results = train(model=model, model_name=model_name, n_bands=n_bands, batch_size=batch_size,train_dataloader=train_dataloader, val_dataloader=val_dataloader, \n",
    "                        optimizer=optimizer, loss_fn=loss_fn, lr_scheduler=lr_scheduler, num_classes=num_classes, epochs=epochs, experiment_num=fold, device=device,\n",
    "                        writer=None, early_stop_patience = patience)\n",
    "    else:\n",
    "        fold5_results = train(model=model, model_name=model_name, n_bands=n_bands, batch_size=batch_size,train_dataloader=train_dataloader, val_dataloader=val_dataloader, \n",
    "                        optimizer=optimizer, loss_fn=loss_fn, lr_scheduler=lr_scheduler, num_classes=num_classes, epochs=epochs, experiment_num=fold, device=device,\n",
    "                        writer=None, early_stop_patience = patience)\n",
    "    \n",
    "    del train_indices, val_indices, train_image_set, train_label_set, train_hash_id, train_species_set, val_image_set, val_label_set, val_hash_id, val_species_set,\n",
    "    train_dataset, val_dataset, sampler, train_dataloader, val_dataloader, model, loss_fn, optimizer, lr_scheduler\n",
    "    \n",
    "    #finish the wandb run\n",
    "    wandb.finish()\n",
    "    print(\"Deleting variables and emptying cache\")\n",
    "    gc.collect()\n",
    "    torch.cuda.empty_cache()\n",
    "    print(f\"Memory allocated: {torch.cuda.memory_allocated()} bytes\")\n",
    "    print(\"-\"*50 + \"\\n\")"
   ]
  },
  {
   "cell_type": "markdown",
   "id": "a36b9b92",
   "metadata": {},
   "source": [
    "#### Create test dataset and test dataloader "
   ]
  },
  {
   "cell_type": "code",
   "execution_count": 19,
   "id": "c0c36ebb",
   "metadata": {},
   "outputs": [],
   "source": [
    "# create test dataset\n",
    "test_dataset = data_loader.CustomTestDataset(\n",
    "    data = test_image_set,\n",
    "    labels = test_label_set,\n",
    "    class_names=class_names, \n",
    "    species = test_species_set,\n",
    "    kkl = None,\n",
    "    transform=transform\n",
    ")\n",
    "\n",
    "# create test dataloader\n",
    "test_dataloader = DataLoader(test_dataset,\n",
    "                             batch_size=batch_size,\n",
    "                             persistent_workers=True,\n",
    "                             pin_memory=True,\n",
    "                             num_workers=NUM_WORKERS,\n",
    "                             shuffle=False,\n",
    "                             drop_last=True)"
   ]
  },
  {
   "cell_type": "markdown",
   "id": "22cdaac7",
   "metadata": {},
   "source": [
    "#### Perform ensembling of the five best models"
   ]
  },
  {
   "cell_type": "code",
   "execution_count": 20,
   "id": "67db5af2",
   "metadata": {},
   "outputs": [
    {
     "name": "stdout",
     "output_type": "stream",
     "text": [
      "Loaded pretrained weights for efficientnet-b7\n",
      "Loaded pretrained weights for efficientnet-b7\n",
      "Loaded pretrained weights for efficientnet-b7\n",
      "Loaded pretrained weights for efficientnet-b7\n",
      "Loaded pretrained weights for efficientnet-b7\n",
      "              precision    recall  f1-score   support\n",
      "\n",
      "           0       0.70      0.81      0.75       284\n",
      "           1       0.62      0.48      0.54       166\n",
      "           2       0.50      0.57      0.53       119\n",
      "           3       0.64      0.56      0.59       135\n",
      "           4       0.78      0.83      0.81        30\n",
      "           5       0.83      0.38      0.53        13\n",
      "           6       0.63      0.76      0.69        93\n",
      "           7       0.69      0.51      0.59        78\n",
      "           8       0.63      0.64      0.63        58\n",
      "           9       0.55      0.46      0.50        26\n",
      "          10       0.91      0.95      0.93        22\n",
      "\n",
      "    accuracy                           0.65      1024\n",
      "   macro avg       0.68      0.63      0.65      1024\n",
      "weighted avg       0.65      0.65      0.64      1024\n",
      "\n",
      "[[231  41   9   1   1   1   0   0   0   0   0]\n",
      " [ 81  80   3   1   1   0   0   0   0   0   0]\n",
      " [  7   2  68  40   0   0   0   1   1   0   0]\n",
      " [  3   1  55  75   0   0   0   0   0   0   1]\n",
      " [  3   0   0   0  25   0   1   1   0   0   0]\n",
      " [  1   1   0   0   5   5   0   0   0   0   1]\n",
      " [  0   2   0   1   0   0  71  14   5   0   0]\n",
      " [  1   1   1   0   0   0  27  40   4   4   0]\n",
      " [  2   0   1   0   0   0  11   1  37   6   0]\n",
      " [  0   0   0   0   0   0   1   1  12  12   0]\n",
      " [  0   0   0   0   0   0   1   0   0   0  21]]\n"
     ]
    }
   ],
   "source": [
    "# Setup the best model filepaths\n",
    "best_model1_path = r\"C:\\Users\\lwfeckesim\\01_PyTorch\\wze-uav\\wze-uav-master\\models\\EffNet_b7_RGB-RE-NIR-5species-combined\\1_EffNet_b7_RGB-RE-NIR-5species-combined_34_epochs.pth\"\n",
    "best_model2_path = r\"C:\\Users\\lwfeckesim\\01_PyTorch\\wze-uav\\wze-uav-master\\models\\EffNet_b7_RGB-RE-NIR-5species-combined\\2_EffNet_b7_RGB-RE-NIR-5species-combined_14_epochs.pth\"\n",
    "best_model3_path = r\"C:\\Users\\lwfeckesim\\01_PyTorch\\wze-uav\\wze-uav-master\\models\\EffNet_b7_RGB-RE-NIR-5species-combined\\3_EffNet_b7_RGB-RE-NIR-5species-combined_16_epochs.pth\"\n",
    "best_model4_path = r\"C:\\Users\\lwfeckesim\\01_PyTorch\\wze-uav\\wze-uav-master\\models\\EffNet_b7_RGB-RE-NIR-5species-combined\\4_EffNet_b7_RGB-RE-NIR-5species-combined_17_epochs.pth\"\n",
    "best_model5_path = r\"C:\\Users\\lwfeckesim\\01_PyTorch\\wze-uav\\wze-uav-master\\models\\EffNet_b7_RGB-RE-NIR-5species-combined\\5_EffNet_b7_RGB-RE-NIR-5species-combined_20_epochs.pth\"\n",
    "\n",
    "# Instantiate a new instance of EffNetB7 (to load the saved state_dict() to)\n",
    "#model1 = models.create_effnetb7(output_shape=num_classes, unfreeze=unfreeze, dropout_rate=dropout_rate, device=device)\n",
    "#model2 = models.create_effnetb7(output_shape=num_classes, unfreeze=unfreeze, dropout_rate=dropout_rate, device=device)\n",
    "#model3 = models.create_effnetb7(output_shape=num_classes, unfreeze=unfreeze, dropout_rate=dropout_rate, device=device)\n",
    "#model4 = models.create_effnetb7(output_shape=num_classes, unfreeze=unfreeze, dropout_rate=dropout_rate, device=device)\n",
    "#model5 = models.create_effnetb7(output_shape=num_classes, unfreeze=unfreeze, dropout_rate=dropout_rate, device=device)\n",
    "# for custom models with more than three bands as input\n",
    "model1 = model_effnet.EfficientNet.from_pretrained('efficientnet-b7', in_channels=n_bands, num_classes=num_classes, dropout_rate=dropout_rate)\n",
    "model2 = model_effnet.EfficientNet.from_pretrained('efficientnet-b7', in_channels=n_bands, num_classes=num_classes, dropout_rate=dropout_rate)\n",
    "model3 = model_effnet.EfficientNet.from_pretrained('efficientnet-b7', in_channels=n_bands, num_classes=num_classes, dropout_rate=dropout_rate)\n",
    "model4 = model_effnet.EfficientNet.from_pretrained('efficientnet-b7', in_channels=n_bands, num_classes=num_classes, dropout_rate=dropout_rate)\n",
    "model5 = model_effnet.EfficientNet.from_pretrained('efficientnet-b7', in_channels=n_bands, num_classes=num_classes, dropout_rate=dropout_rate)\n",
    "\n",
    "# Load the saved best model state_dict()\n",
    "model1.load_state_dict(torch.load(best_model1_path))\n",
    "model2.load_state_dict(torch.load(best_model2_path))\n",
    "model3.load_state_dict(torch.load(best_model3_path))\n",
    "model4.load_state_dict(torch.load(best_model4_path))\n",
    "model5.load_state_dict(torch.load(best_model5_path))\n",
    "\n",
    "model1.to(device)\n",
    "model2.to(device)\n",
    "model3.to(device)\n",
    "model4.to(device)\n",
    "model5.to(device)\n",
    "\n",
    "model1.eval()\n",
    "model2.eval()\n",
    "model3.eval()\n",
    "model4.eval()\n",
    "model5.eval()\n",
    "\n",
    "# Initialize the lists to store the predictions\n",
    "all_preds_model1 = []\n",
    "all_preds_model2 = []\n",
    "all_preds_model3 = []\n",
    "all_preds_model4 = []\n",
    "all_preds_model5 = []\n",
    "all_true_labels = []\n",
    "\n",
    "# Loop through the test dataset and generate predictions for each model\n",
    "with torch.no_grad():\n",
    "    for batch in test_dataloader:\n",
    "        inputs, labels, species = batch\n",
    "        inputs, labels, species = inputs.to(device), labels.to(device), species\n",
    "        \n",
    "        # Generate predictions for each model\n",
    "        preds_model1 = model1(inputs)\n",
    "        preds_model2 = model2(inputs)\n",
    "        preds_model3 = model3(inputs)\n",
    "        preds_model4 = model4(inputs)\n",
    "        preds_model5 = model5(inputs)\n",
    "\n",
    "        # Append the predictions to the corresponding list\n",
    "        all_preds_model1.append(preds_model1.cpu().numpy())\n",
    "        all_preds_model2.append(preds_model2.cpu().numpy())\n",
    "        all_preds_model3.append(preds_model3.cpu().numpy())\n",
    "        all_preds_model4.append(preds_model4.cpu().numpy())\n",
    "        all_preds_model5.append(preds_model5.cpu().numpy())\n",
    "        \n",
    "        all_true_labels.append(labels.cpu().numpy())\n",
    "\n",
    "# Concatenate the predictions from all the models\n",
    "all_preds_model1 = np.concatenate(all_preds_model1)\n",
    "all_preds_model2 = np.concatenate(all_preds_model2)\n",
    "all_preds_model3 = np.concatenate(all_preds_model3)\n",
    "all_preds_model4 = np.concatenate(all_preds_model4)\n",
    "all_preds_model5 = np.concatenate(all_preds_model5)\n",
    "\n",
    "all_true_labels = np.concatenate(all_true_labels)\n",
    "\n",
    "# Calculate the ensemble predictions\n",
    "ensemble_preds = np.mean([all_preds_model1, all_preds_model2, all_preds_model3, all_preds_model4, all_preds_model5], axis=0)\n",
    "ensemble_labels = np.argmax(ensemble_preds, axis=1)\n",
    "\n",
    "# Calculate the evaluation metrics for the ensemble model\n",
    "from sklearn.metrics import classification_report, confusion_matrix\n",
    "\n",
    "print(classification_report(all_true_labels, ensemble_labels))\n",
    "print(confusion_matrix(all_true_labels, ensemble_labels))\n",
    "\n",
    "\n",
    "\n",
    "\n"
   ]
  },
  {
   "cell_type": "code",
   "execution_count": 21,
   "id": "6dfbc663",
   "metadata": {},
   "outputs": [
    {
     "name": "stdout",
     "output_type": "stream",
     "text": [
      "              precision    recall  f1-score   support\n",
      "\n",
      "           0       0.70      0.81      0.75       284\n",
      "           1       0.62      0.48      0.54       166\n",
      "           2       0.50      0.57      0.53       119\n",
      "           3       0.64      0.56      0.59       135\n",
      "           4       0.78      0.83      0.81        30\n",
      "           5       0.83      0.38      0.53        13\n",
      "           6       0.63      0.76      0.69        93\n",
      "           7       0.69      0.51      0.59        78\n",
      "           8       0.63      0.64      0.63        58\n",
      "           9       0.55      0.46      0.50        26\n",
      "          10       0.91      0.95      0.93        22\n",
      "\n",
      "    accuracy                           0.65      1024\n",
      "   macro avg       0.68      0.63      0.65      1024\n",
      "weighted avg       0.65      0.65      0.64      1024\n",
      "\n"
     ]
    },
    {
     "data": {
      "image/png": "[encoded data removed]",
      "text/plain": [
       "<Figure size 720x504 with 1 Axes>"
      ]
     },
     "metadata": {
      "needs_background": "light"
     },
     "output_type": "display_data"
    }
   ],
   "source": [
    "import matplotlib.pyplot as plt\n",
    "import pandas as pd\n",
    "# Calculate the evaluation metrics for the ensemble model\n",
    "\n",
    "report = classification_report(all_true_labels, ensemble_labels)\n",
    "print(report)\n",
    "#print(confusion_matrix(all_true_labels, ensemble_labels))\n",
    "\n",
    "# Save the report to a file\n",
    "with open(r'C:\\Users\\lwfeckesim\\01_PyTorch\\wze-uav\\wze-uav-master\\plots\\report_RGB-RE-NIR_5species_combined.txt', 'w') as f:\n",
    "    f.write(report)\n",
    "\n",
    "labels = np.array([0,1,2,3,4,5,6,7,8,9,10])\n",
    "confmat = confusion_matrix(all_true_labels, ensemble_labels, labels=labels)\n",
    "\n",
    "# 3. Plot the confusion matrix\n",
    "fig, ax = plot_confusion_matrix(\n",
    "    conf_mat=confmat, # matplotlib likes working with NumPy \n",
    "    class_names=class_names, # turn the row and column labels into class names\n",
    "    figsize=(10, 7)\n",
    ");\n",
    "\n",
    "# add title to confusion matrix plot\n",
    "plt.title(\"Main tree species and Health Status Classification using RGB-RE-NIR Bands\", fontsize=16)\n",
    "\n",
    "fig.savefig(r'C:\\Users\\lwfeckesim\\01_PyTorch\\wze-uav\\wze-uav-master\\plots\\confmat_RGB-RE-NIR_5species_combined.png', dpi=300, bbox_inches='tight')\n",
    "\n",
    "# Create a DataFrame from the confusion matrix\n",
    "df_cm = pd.DataFrame(confmat)\n",
    "\n",
    "# Export the confusion matrix to a CSV file\n",
    "df_cm.to_csv(r'C:\\Users\\lwfeckesim\\01_PyTorch\\wze-uav\\wze-uav-master\\plots\\confmat_RGB-RE-NIR_5species_combined.csv', index=False)\n"
   ]
  },
  {
   "cell_type": "code",
   "execution_count": 23,
   "id": "aab9e321",
   "metadata": {},
   "outputs": [
    {
     "ename": "NameError",
     "evalue": "name 'best_model' is not defined",
     "output_type": "error",
     "traceback": [
      "\u001b[1;31m---------------------------------------------------------------------------\u001b[0m",
      "\u001b[1;31mNameError\u001b[0m                                 Traceback (most recent call last)",
      "Input \u001b[1;32mIn [23]\u001b[0m, in \u001b[0;36m<cell line: 3>\u001b[1;34m()\u001b[0m\n\u001b[0;32m      1\u001b[0m \u001b[38;5;66;03m# 2. Setup confusion matrix instance and compare predictions to targets\u001b[39;00m\n\u001b[0;32m      2\u001b[0m \u001b[38;5;66;03m#from wze_uav.analysis import *\u001b[39;00m\n\u001b[1;32m----> 3\u001b[0m y_pred_tensor, y_labels_tensor, test_loss, test_recall, test_precision, test_f1_score, test_acc, y_logit, y_pred, y, y_preds \u001b[38;5;241m=\u001b[39m make_predictions(model\u001b[38;5;241m=\u001b[39m\u001b[43mbest_model\u001b[49m,\n\u001b[0;32m      4\u001b[0m                                  test_dataloader\u001b[38;5;241m=\u001b[39mtest_dataloader, \n\u001b[0;32m      5\u001b[0m                                  device\u001b[38;5;241m=\u001b[39mdevice)\n\u001b[0;32m      7\u001b[0m y_labels_tensor \u001b[38;5;241m=\u001b[39m y_labels_tensor\u001b[38;5;241m.\u001b[39mdetach()\u001b[38;5;241m.\u001b[39mcpu()\u001b[38;5;241m.\u001b[39mnumpy()\n\u001b[0;32m      8\u001b[0m y_pred_tensor \u001b[38;5;241m=\u001b[39m y_pred_tensor\u001b[38;5;241m.\u001b[39mdetach()\u001b[38;5;241m.\u001b[39mcpu()\u001b[38;5;241m.\u001b[39mnumpy()\n",
      "\u001b[1;31mNameError\u001b[0m: name 'best_model' is not defined"
     ]
    }
   ],
   "source": [
    "# 2. Setup confusion matrix instance and compare predictions to targets\n",
    "#from wze_uav.analysis import *\n",
    "y_pred_tensor, y_labels_tensor, test_loss, test_recall, test_precision, test_f1_score, test_acc, y_logit, y_pred, y, y_preds = make_predictions(model=best_model,\n",
    "                                 test_dataloader=test_dataloader, \n",
    "                                 device=device)\n",
    "\n",
    "y_labels_tensor = y_labels_tensor.detach().cpu().numpy()\n",
    "y_pred_tensor = y_pred_tensor.detach().cpu().numpy()\n",
    "\n",
    "#confmat = ConfusionMatrix(num_classes=num_classes, task='multiclass')\n",
    "#confmat_tensor = confmat(preds=y_pred_tensor,\n",
    "#                         target=test_labels)\n",
    "labels = np.array([0,1,2])\n",
    "confmat = confusion_matrix(y_labels_tensor, y_pred_tensor, labels=labels)\n",
    "\n",
    "# 3. Plot the confusion matrix\n",
    "fig, ax = plot_confusion_matrix(\n",
    "    conf_mat=confmat, # matplotlib likes working with NumPy \n",
    "    class_names=class_names, # turn the row and column labels into class names\n",
    "    figsize=(10, 7)\n",
    ");\n",
    "\n",
    "print(f\"Test loss: {test_loss}\")\n",
    "print(f\"Test precision: {test_precision}\")\n",
    "print(f\"Test recall: {test_recall}\")\n",
    "print(f\"Test F1score: {test_f1_score}\")\n",
    "#print(f\"Test Kappa: {test_kappa}\")\n",
    "print(f\"Test Accuracy: {test_acc}\")\n",
    "print(f\"Test Logits: {y_logit}\")\n",
    "print(f\"Test Predictions: {y_pred}\")\n",
    "print(f\"Test Labels: {y}\")"
   ]
  },
  {
   "cell_type": "code",
   "execution_count": null,
   "id": "8d4173b3",
   "metadata": {},
   "outputs": [],
   "source": [
    "len(y_preds)"
   ]
  },
  {
   "cell_type": "code",
   "execution_count": null,
   "id": "7588116f",
   "metadata": {},
   "outputs": [],
   "source": [
    "y_set.cpu()"
   ]
  },
  {
   "cell_type": "code",
   "execution_count": null,
   "id": "1c195b3e",
   "metadata": {},
   "outputs": [],
   "source": [
    "test_dataset.labels"
   ]
  },
  {
   "cell_type": "code",
   "execution_count": null,
   "id": "975ec08c",
   "metadata": {},
   "outputs": [],
   "source": []
  },
  {
   "cell_type": "code",
   "execution_count": null,
   "id": "6da05604",
   "metadata": {},
   "outputs": [],
   "source": [
    "y_preds = []\n",
    "y_labels = []\n",
    "labels = np.array([0,1,2])\n",
    "test_loss, test_precision, test_recall, test_f1_score, test_acc = 0, 0, 0, 0, 0\n",
    "count = 0\n",
    "model.eval()\n",
    "with torch.inference_mode():\n",
    "    for X, y in tqdm(test_dataloader, desc=\"Making predictions\"):\n",
    "        # Send data and targets to target device\n",
    "        X, y = X.to(device), y.to(device)\n",
    "        # Do the forward pass\n",
    "        y_logit = model(X)\n",
    "        # Turn predictions from logits -> prediction probabilities -> predictions labels\n",
    "        y_pred = torch.softmax(y_logit, dim=1).argmax(dim=1)\n",
    "        # Put predictions on CPU for evaluation\n",
    "        y_preds.append(y_pred.cpu())\n",
    "        y_labels.append(y.cpu())\n",
    "        \n",
    "        #other metrics\n",
    "        test_acc += ((y_pred == y).sum().item()/len(y_pred))\n",
    "        y_pred_class = y_pred.detach().cpu().numpy() \n",
    "        y_class = y.detach().cpu().numpy()\n",
    "        test_precision += precision_score(y_class, y_pred_class, average='macro', zero_division=1, labels=labels)\n",
    "        test_recall += recall_score(y_class, y_pred_class, average='macro', zero_division=1, labels=labels)\n",
    "        #test_f1_score += f1_score(y_class, y_pred_class, average='macro', zero_division=1, labels=labels)\n",
    "        \n",
    "        #if count >= 1:\n",
    "        #    y_set = torch.cat((y_set, y))\n",
    "        #    count = count + 1\n",
    "        #else:\n",
    "        #    y_set = y\n",
    "        #    count = count + 1\n",
    "        \n",
    "test_loss = test_loss / len(test_dataloader)\n",
    "test_precision = test_precision / len(test_dataloader)\n",
    "test_recall = test_recall / len(test_dataloader)\n",
    "#test_f1_score = test_f1_score / len(test_dataloader)\n",
    "#test_kappa = test_kappa / len(dataloader)\n",
    "test_acc = test_acc / len(test_dataloader)\n",
    "# Concatenate list of predictions into a tensor\n",
    "y_pred_tensor = torch.cat(y_preds)\n",
    "test_f1_score = f1_score(y_set.detach().cpu().numpy(), y_pred_tensor.cpu().numpy(), average='macro', zero_division=0, labels=[0,1,2])\n",
    "\n",
    "# Print classification report\n",
    "y_true = y_set.detach().cpu().numpy()\n",
    "report = classification_report(y_true, y_pred_tensor.cpu().numpy(), target_names=class_names)\n",
    "print(report)"
   ]
  },
  {
   "cell_type": "code",
   "execution_count": null,
   "id": "6ae97fab",
   "metadata": {},
   "outputs": [],
   "source": [
    "test_f1_score"
   ]
  },
  {
   "cell_type": "code",
   "execution_count": null,
   "id": "7ebafd9b",
   "metadata": {},
   "outputs": [],
   "source": [
    "make = (y_class == y_pred_class)\n",
    "make"
   ]
  },
  {
   "cell_type": "code",
   "execution_count": null,
   "id": "4f8aa759",
   "metadata": {},
   "outputs": [],
   "source": [
    "torch.softmax(y_logit, dim=1).argmax(dim=1)"
   ]
  },
  {
   "cell_type": "code",
   "execution_count": null,
   "id": "f90a54b2",
   "metadata": {},
   "outputs": [],
   "source": [
    "y"
   ]
  },
  {
   "cell_type": "code",
   "execution_count": null,
   "id": "5a806154",
   "metadata": {},
   "outputs": [],
   "source": [
    "test = (y_pred == y).sum().item()/16"
   ]
  },
  {
   "cell_type": "code",
   "execution_count": null,
   "id": "1da35c56",
   "metadata": {},
   "outputs": [],
   "source": [
    "test"
   ]
  },
  {
   "cell_type": "code",
   "execution_count": null,
   "id": "b1eb246e",
   "metadata": {},
   "outputs": [],
   "source": [
    " y_pred_class = y_pred.detach().cpu().numpy() "
   ]
  },
  {
   "cell_type": "code",
   "execution_count": null,
   "id": "602e096f",
   "metadata": {},
   "outputs": [],
   "source": [
    "y_pred_class"
   ]
  },
  {
   "cell_type": "code",
   "execution_count": null,
   "id": "eaf1af09",
   "metadata": {},
   "outputs": [],
   "source": []
  }
 ],
 "metadata": {
  "kernelspec": {
   "display_name": "Python 3 (ipykernel)",
   "language": "python",
   "name": "python3"
  },
  "language_info": {
   "codemirror_mode": {
    "name": "ipython",
    "version": 3
   },
   "file_extension": ".py",
   "mimetype": "text/x-python",
   "name": "python",
   "nbconvert_exporter": "python",
   "pygments_lexer": "ipython3",
   "version": "3.9.16"
  }
 },
 "nbformat": 4,
 "nbformat_minor": 5
}
