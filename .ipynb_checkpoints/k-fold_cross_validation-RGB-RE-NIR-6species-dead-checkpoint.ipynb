{
 "cells": [
  {
   "cell_type": "markdown",
   "id": "c1acdaa3",
   "metadata": {},
   "source": [
    "# WZE-UAV Image Classification using Deep Learning"
   ]
  },
  {
   "cell_type": "code",
   "execution_count": 1,
   "id": "2159aac5",
   "metadata": {},
   "outputs": [],
   "source": [
    "import os\n",
    "import gc\n",
    "import glob\n",
    "import numpy as np\n",
    "from pathlib import Path\n",
    "from tqdm.auto import tqdm\n",
    "from sklearn.metrics import confusion_matrix, classification_report\n",
    "from sklearn.model_selection import KFold"
   ]
  },
  {
   "cell_type": "code",
   "execution_count": 2,
   "id": "0026f7a9",
   "metadata": {},
   "outputs": [],
   "source": [
    "import torch\n",
    "import torchvision.transforms as T\n",
    "import torchvision\n",
    "from torch import nn\n",
    "from torch.utils.data import DataLoader\n",
    "from torchvision import datasets, transforms\n",
    "from torch.utils.data import Dataset\n",
    "import torch.optim as optim\n",
    "from torch.optim.lr_scheduler import ExponentialLR\n",
    "from mlxtend.plotting import plot_confusion_matrix"
   ]
  },
  {
   "cell_type": "code",
   "execution_count": 3,
   "id": "b160d7b4",
   "metadata": {},
   "outputs": [],
   "source": [
    "import wze_uav.data_loader as data_loader\n",
    "import wze_uav.models as models\n",
    "from wze_uav.engine import *\n",
    "from wze_uav.utils2 import *\n",
    "#from wze_uav.log_writer import create_writer\n",
    "from wze_uav.datasplit import *\n",
    "from efficientnet import model_effnet #for custom effnet with n_channels input\n",
    "import wandb"
   ]
  },
  {
   "cell_type": "markdown",
   "id": "2bd4fb2f",
   "metadata": {},
   "source": [
    "#### Get PyTorch version"
   ]
  },
  {
   "cell_type": "code",
   "execution_count": 4,
   "id": "c10886b1",
   "metadata": {},
   "outputs": [
    {
     "name": "stdout",
     "output_type": "stream",
     "text": [
      "torch version: 1.13.1+cu116\n",
      "torchvision version: 0.14.1+cu116\n"
     ]
    }
   ],
   "source": [
    "print(f\"torch version: {torch.__version__}\")\n",
    "print(f\"torchvision version: {torchvision.__version__}\")"
   ]
  },
  {
   "cell_type": "markdown",
   "id": "aa6a83cf",
   "metadata": {},
   "source": [
    "#### Preparing device agnostic code "
   ]
  },
  {
   "cell_type": "code",
   "execution_count": 5,
   "id": "13d5de88",
   "metadata": {},
   "outputs": [
    {
     "name": "stdout",
     "output_type": "stream",
     "text": [
      "cuda\n",
      "Index of current divice: 0\n",
      "Number of GPUs available: 1\n",
      "GPU Model: Quadro RTX 8000\n"
     ]
    }
   ],
   "source": [
    "# ensure device agnostic code\n",
    "device = 'cuda' if torch.cuda.is_available() else 'cpu'\n",
    "print(device)\n",
    "\n",
    "# get index of currently selected device\n",
    "print(f\"Index of current divice: {torch.cuda.current_device()}\")\n",
    "# get number of GPUs available\n",
    "print(f\"Number of GPUs available: {torch.cuda.device_count()}\")\n",
    "# get the name of the device\n",
    "print(f\"GPU Model: {torch.cuda.get_device_name(0)}\")"
   ]
  },
  {
   "cell_type": "markdown",
   "id": "8ef6b169",
   "metadata": {},
   "source": [
    "#### Login to Weights & Biases to track results"
   ]
  },
  {
   "cell_type": "code",
   "execution_count": 6,
   "id": "a59d27cf",
   "metadata": {},
   "outputs": [
    {
     "name": "stderr",
     "output_type": "stream",
     "text": [
      "Failed to detect the name of this notebook, you can set it manually with the WANDB_NOTEBOOK_NAME environment variable to enable code saving.\n",
      "\u001b[34m\u001b[1mwandb\u001b[0m: Currently logged in as: \u001b[33msimon-ecke\u001b[0m. Use \u001b[1m`wandb login --relogin`\u001b[0m to force relogin\n"
     ]
    },
    {
     "data": {
      "text/html": [
       "wandb version 0.15.0 is available!  To upgrade, please run:\n",
       " $ pip install wandb --upgrade"
      ],
      "text/plain": [
       "<IPython.core.display.HTML object>"
      ]
     },
     "metadata": {},
     "output_type": "display_data"
    },
    {
     "data": {
      "text/html": [
       "Tracking run with wandb version 0.14.2"
      ],
      "text/plain": [
       "<IPython.core.display.HTML object>"
      ]
     },
     "metadata": {},
     "output_type": "display_data"
    },
    {
     "data": {
      "text/html": [
       "Run data is saved locally in <code>C:\\Users\\lwfeckesim\\01_PyTorch\\wze-uav\\wze-uav-master\\wandb\\run-20230423_010747-tgqvq0dr</code>"
      ],
      "text/plain": [
       "<IPython.core.display.HTML object>"
      ]
     },
     "metadata": {},
     "output_type": "display_data"
    },
    {
     "data": {
      "text/html": [
       "Syncing run <strong><a href='https://wandb.ai/simon-ecke/wze-uav-4classes/runs/tgqvq0dr' target=\"_blank\">vocal-flower-17</a></strong> to <a href='https://wandb.ai/simon-ecke/wze-uav-4classes' target=\"_blank\">Weights & Biases</a> (<a href='https://wandb.me/run' target=\"_blank\">docs</a>)<br/>"
      ],
      "text/plain": [
       "<IPython.core.display.HTML object>"
      ]
     },
     "metadata": {},
     "output_type": "display_data"
    },
    {
     "data": {
      "text/html": [
       " View project at <a href='https://wandb.ai/simon-ecke/wze-uav-4classes' target=\"_blank\">https://wandb.ai/simon-ecke/wze-uav-4classes</a>"
      ],
      "text/plain": [
       "<IPython.core.display.HTML object>"
      ]
     },
     "metadata": {},
     "output_type": "display_data"
    },
    {
     "data": {
      "text/html": [
       " View run at <a href='https://wandb.ai/simon-ecke/wze-uav-4classes/runs/tgqvq0dr' target=\"_blank\">https://wandb.ai/simon-ecke/wze-uav-4classes/runs/tgqvq0dr</a>"
      ],
      "text/plain": [
       "<IPython.core.display.HTML object>"
      ]
     },
     "metadata": {},
     "output_type": "display_data"
    },
    {
     "data": {
      "text/html": [
       "<button onClick=\"this.nextSibling.style.display='block';this.style.display='none';\">Display W&B run</button><iframe src='https://wandb.ai/simon-ecke/wze-uav-4classes/runs/tgqvq0dr?jupyter=true' style='border:none;width:100%;height:420px;display:none;'></iframe>"
      ],
      "text/plain": [
       "<wandb.sdk.wandb_run.Run at 0x1f57bf9d940>"
      ]
     },
     "execution_count": 6,
     "metadata": {},
     "output_type": "execute_result"
    }
   ],
   "source": [
    "# IMPORTANT: The proxy needs to be set in anaconda!\n",
    "# copy paste this in anaconda and restart jupyter notebook\n",
    "#set http_proxy=http://www-proxy.bayern.de:80\n",
    "#set https_proxy=http://www-proxy.bayern.de:80\n",
    "wandb.login()\n",
    "#wandb.init(settings=wandb.Settings(start_method=\"thread\"))\n",
    "wandb.init(project='wze-uav-4classes', entity='simon-ecke')"
   ]
  },
  {
   "cell_type": "markdown",
   "id": "a26a6a34",
   "metadata": {},
   "source": [
    "#### Ensure reproducibility "
   ]
  },
  {
   "cell_type": "code",
   "execution_count": 7,
   "id": "dd4656a7",
   "metadata": {},
   "outputs": [],
   "source": [
    "# for more information, see also: https://pytorch.org/docs/stable/notes/randomness.html\n",
    "\n",
    "# Set seeds\n",
    "def set_seeds(seed: int=42):\n",
    "    \"\"\"Sets random sets for torch operations.\n",
    "\n",
    "    Args:\n",
    "        seed (int, optional): Random seed to set. Defaults to 42.\n",
    "    \"\"\"\n",
    "    # Set the seed for general torch operations\n",
    "    torch.manual_seed(seed)\n",
    "    # Set the seed for CUDA torch operations (ones that happen on the GPU)\n",
    "    torch.cuda.manual_seed(seed)\n",
    "    # seed for numpy\n",
    "    np.random.seed(seed)\n",
    "\n",
    "set_seeds(42) \n",
    "\n",
    "# Set to true -> might speed up the process but should be set to False if reproducible results are desired\n",
    "torch.backends.cudnn.benchmark = False\n"
   ]
  },
  {
   "cell_type": "markdown",
   "id": "8be33671",
   "metadata": {},
   "source": [
    "#### Define file directory"
   ]
  },
  {
   "cell_type": "code",
   "execution_count": 8,
   "id": "30645f36",
   "metadata": {},
   "outputs": [],
   "source": [
    "#####################################################################################\n",
    "# 3 channel input (r-g-b)\n",
    "#data_path = r\"D:\\Drohnendaten\\10_WZE-UAV\\Auswertung_findatree\\Datasplit\\ROI\\rgb\"\n",
    "\n",
    "# 4 channel input (r-g-b-nir)\n",
    "#data_path = r\"D:\\Drohnendaten\\10_WZE-UAV\\Auswertung_findatree\\Datasplit\\ROI\\rgb-nir\"\n",
    "\n",
    "# 5 channel input (r-g-b-re-nir)\n",
    "data_path = r\"D:\\Drohnendaten\\10_WZE-UAV\\Auswertung_findatree\\Datasplit\\ROI\\rgb-re-nir\"\n",
    "#####################################################################################"
   ]
  },
  {
   "cell_type": "markdown",
   "id": "4560ce64",
   "metadata": {},
   "source": [
    "#### Get all file paths"
   ]
  },
  {
   "cell_type": "code",
   "execution_count": 9,
   "id": "aa072e4c",
   "metadata": {},
   "outputs": [],
   "source": [
    "fn_list = os.listdir(data_path)\n",
    "path_list = []\n",
    "# Iterate over all datafiles\n",
    "for year in fn_list:\n",
    "    year_dir = f'{data_path}\\\\{year}'\n",
    "    for filename in os.listdir(year_dir):\n",
    "        path = f'{year_dir}\\\\{filename}'\n",
    "        path_list.append(path)"
   ]
  },
  {
   "cell_type": "markdown",
   "id": "f3937a44",
   "metadata": {},
   "source": [
    "#### Create unique hash IDs for every individual tree"
   ]
  },
  {
   "cell_type": "code",
   "execution_count": 10,
   "id": "8a50f1d7",
   "metadata": {},
   "outputs": [
    {
     "data": {
      "application/vnd.jupyter.widget-view+json": {
       "model_id": "198a136dfabc4cb7b1bd03459a23486b",
       "version_major": 2,
       "version_minor": 0
      },
      "text/plain": [
       "Creating unique tree IDs...:   0%|          | 0/647 [00:00<?, ?it/s]"
      ]
     },
     "metadata": {},
     "output_type": "display_data"
    }
   ],
   "source": [
    "hashID_dict = data_loader.get_unique_treeID(path_list)"
   ]
  },
  {
   "cell_type": "markdown",
   "id": "6f4cea00",
   "metadata": {},
   "source": [
    "#### Import all imagery, labels and other features from hdf5 files"
   ]
  },
  {
   "cell_type": "code",
   "execution_count": 11,
   "id": "94e3eecf",
   "metadata": {},
   "outputs": [
    {
     "data": {
      "application/vnd.jupyter.widget-view+json": {
       "model_id": "3a3a8d0066f44affae9d362c0f1576a7",
       "version_major": 2,
       "version_minor": 0
      },
      "text/plain": [
       "Processing hdf5 datasets:   0%|          | 0/647 [00:00<?, ?it/s]"
      ]
     },
     "metadata": {},
     "output_type": "display_data"
    }
   ],
   "source": [
    "image_set, label_set, species_set, kkl_set, bk_set, hash_id = data_loader.hdf5_to_img_label(path_list,\n",
    "                                                                                               hashID_dict,\n",
    "                                                                                               load_sets=[\"images_masked\"])"
   ]
  },
  {
   "cell_type": "markdown",
   "id": "6a90e2b7",
   "metadata": {},
   "source": [
    "#### Convert nbv to classes"
   ]
  },
  {
   "cell_type": "code",
   "execution_count": 12,
   "id": "0224972a",
   "metadata": {},
   "outputs": [],
   "source": [
    "label_set = nbv_to_sst_4classes(label_set)"
   ]
  },
  {
   "cell_type": "markdown",
   "id": "c6b4cd85",
   "metadata": {},
   "source": [
    "#### Split data into a sub set and a test dataset"
   ]
  },
  {
   "cell_type": "code",
   "execution_count": 13,
   "id": "d06eda54",
   "metadata": {},
   "outputs": [
    {
     "name": "stdout",
     "output_type": "stream",
     "text": [
      "ORIGINAL POSITIVE RATIO: 0.47428875299122575\n",
      "Fold : 0\n",
      "TRAIN POSITIVE RATIO: 0.4728771324516005\n",
      "TEST POSITIVE RATIO : 0.48129359543436906\n",
      "LENGTH TRAIN GROUPS : 5904\n",
      "LENGTH TEST GROUPS  : 1183\n",
      "Number of True in sub_indices: 15651\n",
      "Number of False in sub_indices: 3154\n",
      "Number of True in test_indices: 1183\n",
      "Number of False in test_indices: 17622\n",
      "Check shapes:\n",
      "\n",
      "Images sub dataset: (15651, 250, 250, 5)\n",
      "Labels sub dataset: (15651, 1)\n",
      "\n",
      "Images test dataset: (1183, 250, 250, 5)\n",
      "Labels test dataset: (1183, 1)\n",
      "\n",
      "--------------------------------------------------\n",
      "Check if the split was stratified: (random_state=42)\n",
      "Healthy trees in sub dataset: 9216\n",
      "Stressed trees in sub dataset: 5722\n",
      "Dead trees in sub dataset: 460\n",
      "Healthy trees in test dataset: 682\n",
      "Stressed trees in test dataset: 444\n",
      "Dead trees in test dataset: 36\n",
      "Ratio health trees in test dataset: 0.0740017361111111\n",
      "Ratio stressed trees in test dataset: 0.0775952464173366\n",
      "Ratio dead trees in test dataset: 0.0782608695652174\n"
     ]
    }
   ],
   "source": [
    "sub_image_set, sub_label_set, sub_hash_id, sub_species_set, test_image_set, test_label_set, test_hash_id, test_species_set = data_split(image_set, label_set, hash_id, species_set, n_splits=6, random_state=42, seed=2)\n"
   ]
  },
  {
   "cell_type": "markdown",
   "id": "c48fbb5b",
   "metadata": {},
   "source": [
    "#### Check if any hash ID is in both sub and test dataset"
   ]
  },
  {
   "cell_type": "code",
   "execution_count": 14,
   "id": "874367cf",
   "metadata": {},
   "outputs": [
    {
     "name": "stdout",
     "output_type": "stream",
     "text": [
      "There are no hash_id values in both train and test datasets. The datasplit was successful\n"
     ]
    }
   ],
   "source": [
    "hash_set = set(sub_hash_id[:,0].flatten())\n",
    "test_hash_set = set(test_hash_id[:,0].flatten())\n",
    "intersection = hash_set.intersection(test_hash_set)\n",
    "if intersection:\n",
    "    print(f\"Hash_id values in both train and test sets: {len(intersection)}\")\n",
    "else:\n",
    "    print(\"There are no hash_id values in both train and test datasets. The datasplit was successful\")"
   ]
  },
  {
   "cell_type": "markdown",
   "id": "9e5b64d4",
   "metadata": {},
   "source": [
    "#### Check feature distribution of the Test dataset"
   ]
  },
  {
   "cell_type": "code",
   "execution_count": 15,
   "id": "a33ff5cb",
   "metadata": {},
   "outputs": [
    {
     "name": "stdout",
     "output_type": "stream",
     "text": [
      "Test dataset\n",
      "Test data healthy trees: 682\n",
      "Test data moderately stressed trees: 444\n",
      "Test data severely stressed trees: 36\n",
      "Test data dead trees: 21\n",
      "Test data pine trees: 309\n",
      "Test data spruces: 440\n",
      "--------------------------------------------------\n",
      "Remaining dataset\n",
      "Remaining data healthy trees: 9216\n",
      "Remaining data moderately stressed trees: 5722\n",
      "Remaining data severley stressed trees: 460\n",
      "Remaining data dead trees: 253\n",
      "Remaining data pine trees: 3949\n",
      "Remaining data spruces: 5864\n",
      "--------------------------------------------------\n"
     ]
    }
   ],
   "source": [
    "def count_occurrences(data, value):\n",
    "    count = 0\n",
    "    for item in data:\n",
    "        if item == value:\n",
    "            count += 1\n",
    "    return count\n",
    "\n",
    "print(\"Test dataset\")\n",
    "print(f\"Test data healthy trees: {count_occurrences(test_label_set, 0)}\")\n",
    "print(f\"Test data moderately stressed trees: {count_occurrences(test_label_set, 1)}\")\n",
    "print(f\"Test data severely stressed trees: {count_occurrences(test_label_set, 2)}\")\n",
    "print(f\"Test data dead trees: {count_occurrences(test_label_set, 3)}\")\n",
    "print(f\"Test data pine trees: {count_occurrences(test_species_set, 134)}\")\n",
    "print(f\"Test data spruces: {count_occurrences(test_species_set, 118)}\")\n",
    "print(\"-\"*50)\n",
    "\n",
    "print(\"Remaining dataset\")\n",
    "print(f\"Remaining data healthy trees: {count_occurrences(sub_label_set, 0)}\")\n",
    "print(f\"Remaining data moderately stressed trees: {count_occurrences(sub_label_set, 1)}\")\n",
    "print(f\"Remaining data severley stressed trees: {count_occurrences(sub_label_set, 2)}\")\n",
    "print(f\"Remaining data dead trees: {count_occurrences(sub_label_set, 3)}\")\n",
    "print(f\"Remaining data pine trees: {count_occurrences(sub_species_set, 134)}\")\n",
    "print(f\"Remaining data spruces: {count_occurrences(sub_species_set, 118)}\")\n",
    "print(\"-\"*50)"
   ]
  },
  {
   "cell_type": "code",
   "execution_count": 16,
   "id": "e08fcf57",
   "metadata": {},
   "outputs": [],
   "source": [
    "# train transform with augmentation. \n",
    "transform_train = transforms.Compose([transforms.ToTensor(), transforms.RandomHorizontalFlip(p=0.5), transforms.RandomVerticalFlip(p=0.5),\n",
    "                                      transforms.RandomRotation(degrees=[0,360])])\n",
    "\n",
    "# test and val dataset transform without augmentation. \n",
    "transform = transforms.Compose([transforms.ToTensor()])\n",
    "\n",
    "# class names need to fit the customDataset class used e.g. 3 classes -> use CustomDataset3Classes\n",
    "#class_names = ['healthy', 'slightly_stressed', 'moderately_stressed', 'highly_stressed', 'dead']\n",
    "#class_names = ['healthy', 'moderately_stressed', 'highly_stressed', 'dead']\n",
    "class_names = ['healthy', 'moderate stress', 'severe stress', 'dead']\n",
    "\n",
    "# set seeds\n",
    "g = torch.Generator()\n",
    "g.manual_seed(42)\n",
    "NUM_WORKERS=3 # should be changed, depending on the system used\n",
    "batch_size=32"
   ]
  },
  {
   "cell_type": "markdown",
   "id": "31779c05",
   "metadata": {},
   "source": [
    "#### Define variables and parameters"
   ]
  },
  {
   "cell_type": "code",
   "execution_count": 17,
   "id": "10ae4379",
   "metadata": {},
   "outputs": [
    {
     "name": "stdout",
     "output_type": "stream",
     "text": [
      "Memory allocated: 0 bytes\n"
     ]
    }
   ],
   "source": [
    "# 1. Define number of epochs\n",
    "epochs = 50\n",
    "n_bands = sub_image_set[0].shape[2] # get number of bands\n",
    "\n",
    "# 2. Define model\n",
    "num_classes = len(class_names)\n",
    "unfreeze = True # all layer weights get updated\n",
    "dropout_rate = 0.5 #define dropout rate\n",
    "model_name = \"EffNet_b7_RGB-RE-NIR_4classes\"\n",
    "\n",
    "# 3. Define loss, optimizer and learning rate scheduler\n",
    "lr = 0.005 # define learning rate\n",
    "min_lr = 1e-6 # minimum learning rate threshold\n",
    "gamma = 0.75 # how fast the learning rate decreases per epoch (low number=faster decrease)\n",
    "patience = 10\n",
    "\n",
    "# 4. Create target folder name were to save the tensorboard event files\n",
    "experiment_name = 'RGB-RE-NIR_4classes'\n",
    "extra = \"RGB-RE-NIR_4classes\"\n",
    "\n",
    "#----------------------------------------------------------------------\n",
    "#torch.cuda.empty_cache()\n",
    "print(f\"Memory allocated: {torch.cuda.memory_allocated()} bytes\") "
   ]
  },
  {
   "cell_type": "markdown",
   "id": "09768b1a",
   "metadata": {},
   "source": [
    "#### Run k-Fold cross-validation on EfficientNet"
   ]
  },
  {
   "cell_type": "code",
   "execution_count": 18,
   "id": "9c29c81d",
   "metadata": {},
   "outputs": [
    {
     "name": "stdout",
     "output_type": "stream",
     "text": [
      "ORIGINAL POSITIVE RATIO: 0.4728771324516005\n",
      "Fold : 1\n",
      "TRAIN POSITIVE RATIO: 0.4768688970705939\n",
      "VAL POSITIVE RATIO  : 0.4570795058599937\n",
      "LENGTH TRAIN GROUPS : 4720\n",
      "LENGTH VAL GROUPS   : 1184\n"
     ]
    },
    {
     "data": {
      "text/html": [
       "Finishing last run (ID:tgqvq0dr) before initializing another..."
      ],
      "text/plain": [
       "<IPython.core.display.HTML object>"
      ]
     },
     "metadata": {},
     "output_type": "display_data"
    },
    {
     "data": {
      "text/html": [
       "Waiting for W&B process to finish... <strong style=\"color:green\">(success).</strong>"
      ],
      "text/plain": [
       "<IPython.core.display.HTML object>"
      ]
     },
     "metadata": {},
     "output_type": "display_data"
    },
    {
     "data": {
      "application/vnd.jupyter.widget-view+json": {
       "model_id": "a0b2a7c787b242ac8f14c2100e0fa98b",
       "version_major": 2,
       "version_minor": 0
      },
      "text/plain": [
       "VBox(children=(Label(value='0.001 MB of 0.006 MB uploaded (0.000 MB deduped)\\r'), FloatProgress(value=0.205132…"
      ]
     },
     "metadata": {},
     "output_type": "display_data"
    },
    {
     "data": {
      "text/html": [
       " View run <strong style=\"color:#cdcd00\">vocal-flower-17</strong> at: <a href='https://wandb.ai/simon-ecke/wze-uav-4classes/runs/tgqvq0dr' target=\"_blank\">https://wandb.ai/simon-ecke/wze-uav-4classes/runs/tgqvq0dr</a><br/>Synced 5 W&B file(s), 0 media file(s), 0 artifact file(s) and 0 other file(s)"
      ],
      "text/plain": [
       "<IPython.core.display.HTML object>"
      ]
     },
     "metadata": {},
     "output_type": "display_data"
    },
    {
     "data": {
      "text/html": [
       "Find logs at: <code>.\\wandb\\run-20230423_010747-tgqvq0dr\\logs</code>"
      ],
      "text/plain": [
       "<IPython.core.display.HTML object>"
      ]
     },
     "metadata": {},
     "output_type": "display_data"
    },
    {
     "data": {
      "text/html": [
       "Successfully finished last run (ID:tgqvq0dr). Initializing new run:<br/>"
      ],
      "text/plain": [
       "<IPython.core.display.HTML object>"
      ]
     },
     "metadata": {},
     "output_type": "display_data"
    },
    {
     "data": {
      "application/vnd.jupyter.widget-view+json": {
       "model_id": "3e8f8b904d3c4a0d98249f962e441ce6",
       "version_major": 2,
       "version_minor": 0
      },
      "text/plain": [
       "VBox(children=(Label(value='Waiting for wandb.init()...\\r'), FloatProgress(value=0.016666666666666666, max=1.0…"
      ]
     },
     "metadata": {},
     "output_type": "display_data"
    },
    {
     "data": {
      "text/html": [
       "wandb version 0.15.0 is available!  To upgrade, please run:\n",
       " $ pip install wandb --upgrade"
      ],
      "text/plain": [
       "<IPython.core.display.HTML object>"
      ]
     },
     "metadata": {},
     "output_type": "display_data"
    },
    {
     "data": {
      "text/html": [
       "Tracking run with wandb version 0.14.2"
      ],
      "text/plain": [
       "<IPython.core.display.HTML object>"
      ]
     },
     "metadata": {},
     "output_type": "display_data"
    },
    {
     "data": {
      "text/html": [
       "Run data is saved locally in <code>C:\\Users\\lwfeckesim\\01_PyTorch\\wze-uav\\wze-uav-master\\wandb\\run-20230423_020652-ndjd0wrn</code>"
      ],
      "text/plain": [
       "<IPython.core.display.HTML object>"
      ]
     },
     "metadata": {},
     "output_type": "display_data"
    },
    {
     "data": {
      "text/html": [
       "Syncing run <strong><a href='https://wandb.ai/simon-ecke/wze-uav-4classes/runs/ndjd0wrn' target=\"_blank\">fold_1_RGB-RE-NIR_4classes</a></strong> to <a href='https://wandb.ai/simon-ecke/wze-uav-4classes' target=\"_blank\">Weights & Biases</a> (<a href='https://wandb.me/run' target=\"_blank\">docs</a>)<br/>"
      ],
      "text/plain": [
       "<IPython.core.display.HTML object>"
      ]
     },
     "metadata": {},
     "output_type": "display_data"
    },
    {
     "data": {
      "text/html": [
       " View project at <a href='https://wandb.ai/simon-ecke/wze-uav-4classes' target=\"_blank\">https://wandb.ai/simon-ecke/wze-uav-4classes</a>"
      ],
      "text/plain": [
       "<IPython.core.display.HTML object>"
      ]
     },
     "metadata": {},
     "output_type": "display_data"
    },
    {
     "data": {
      "text/html": [
       " View run at <a href='https://wandb.ai/simon-ecke/wze-uav-4classes/runs/ndjd0wrn' target=\"_blank\">https://wandb.ai/simon-ecke/wze-uav-4classes/runs/ndjd0wrn</a>"
      ],
      "text/plain": [
       "<IPython.core.display.HTML object>"
      ]
     },
     "metadata": {},
     "output_type": "display_data"
    },
    {
     "name": "stdout",
     "output_type": "stream",
     "text": [
      "There are no same hash_id values in train, val or test datasets. The datasplit was successful\n",
      "Check shapes:\n",
      "\n",
      "Images train dataset: (12494, 250, 250, 5)\n",
      "Labels train dataset: (12494, 1)\n",
      "\n",
      "Images validation dataset: (1184, 250, 250, 5)\n",
      "Labels validation dataset: (1184, 1)\n",
      "\n",
      "--------------------------------------------------\n",
      "Check if the split was stratified: (random_state=42)\n",
      "Healthy trees in train dataset: 7322\n",
      "Moderately stressed trees in train dataset: 4596\n",
      "Severely stressed trees in train dataset: 366\n",
      "Dead trees in train dataset: 210\n",
      "Healthy trees in validation dataset: 701\n",
      "Moderately stressed trees in validation dataset: 428\n",
      "Severely stressed trees in validation dataset: 36\n",
      "Dead trees in validation dataset: 19\n",
      "Ratio health trees in validation dataset: 0.07606336805555555\n",
      "Ratio moderately stressed trees in validation dataset: 0.07479902132121635\n",
      "Ratio severely stressed trees in validation dataset: 0.9304347826086956\n",
      "Ratio dead trees in validation dataset: 0.1422924901185771\n",
      "--------------------------------------------------\n",
      "\n",
      "Creating datasets for fold: 1\n",
      "\n",
      "Creating dataloaders for fold: 1\n",
      "\n",
      "Loaded pretrained weights for efficientnet-b7\n",
      "\n",
      "[INFO] Fold number: 1\n",
      "[INFO] Number of epochs: 50\n",
      "[INFO] Batch_size: 32\n",
      "[INFO] Number of bands: 5\n",
      "[INFO] Dropout rate: 0.5\n",
      "[INFO] Gamma learning rate: 0.75\n",
      "[INFO] Memory allocated: 0 bytes\n"
     ]
    },
    {
     "data": {
      "application/vnd.jupyter.widget-view+json": {
       "model_id": "f65c1193c29e441b980066062786aa7e",
       "version_major": 2,
       "version_minor": 0
      },
      "text/plain": [
       "  0%|          | 0/50 [00:00<?, ?it/s]"
      ]
     },
     "metadata": {},
     "output_type": "display_data"
    },
    {
     "name": "stdout",
     "output_type": "stream",
     "text": [
      "Epoch: 1 \n",
      "Learning rate: 0.005\n",
      "Train loss: 0.9444 | Train precision: 0.4099 | Train recall: 0.3724 | Train f1score: 0.3819 | Train acc: 0.5110 | Train kappa: 0.2883 \n",
      "Val loss: 0.8987 | Val precision: 0.4994 | Val recall: 0.2648 | Val f1score: 0.2164 | Val acc: 0.5946 | Val kappa: 0.0848 \n",
      "\n",
      "Epoch: 2 \n",
      "Learning rate: 0.00375\n",
      "Train loss: 0.8447 | Train precision: 0.5074 | Train recall: 0.4793 | Train f1score: 0.4683 | Train acc: 0.5740 | Train kappa: 0.4687 \n",
      "Val loss: 0.7849 | Val precision: 0.5403 | Val recall: 0.4879 | Val f1score: 0.5093 | Val acc: 0.6275 | Val kappa: 0.4628 \n",
      "\n",
      "Epoch: 3 \n",
      "Learning rate: 0.0028125\n",
      "Train loss: 0.8152 | Train precision: 0.5589 | Train recall: 0.5056 | Train f1score: 0.5002 | Train acc: 0.5862 | Train kappa: 0.5027 \n",
      "Val loss: 0.7504 | Val precision: 0.5020 | Val recall: 0.3803 | Val f1score: 0.3761 | Val acc: 0.6106 | Val kappa: 0.2772 \n",
      "\n",
      "Epoch: 4 \n",
      "Learning rate: 0.002109375\n",
      "Train loss: 0.7967 | Train precision: 0.5717 | Train recall: 0.5231 | Train f1score: 0.5188 | Train acc: 0.6025 | Train kappa: 0.5375 \n",
      "Val loss: 0.7091 | Val precision: 0.4842 | Val recall: 0.5240 | Val f1score: 0.4857 | Val acc: 0.6546 | Val kappa: 0.4828 \n",
      "\n",
      "Epoch: 5 \n",
      "Learning rate: 0.00158203125\n",
      "Train loss: 0.7800 | Train precision: 0.5997 | Train recall: 0.5435 | Train f1score: 0.5379 | Train acc: 0.6192 | Train kappa: 0.5659 \n",
      "Val loss: 0.7440 | Val precision: 0.5409 | Val recall: 0.4715 | Val f1score: 0.4560 | Val acc: 0.6343 | Val kappa: 0.4037 \n",
      "\n",
      "Epoch: 6 \n",
      "Learning rate: 0.0011865234375\n",
      "Train loss: 0.7702 | Train precision: 0.5897 | Train recall: 0.5488 | Train f1score: 0.5419 | Train acc: 0.6196 | Train kappa: 0.5849 \n",
      "Val loss: 0.7190 | Val precision: 0.6283 | Val recall: 0.4226 | Val f1score: 0.4656 | Val acc: 0.6605 | Val kappa: 0.4383 \n",
      "\n",
      "Epoch: 7 \n",
      "Learning rate: 0.000889892578125\n",
      "Train loss: 0.7642 | Train precision: 0.6329 | Train recall: 0.5610 | Train f1score: 0.5599 | Train acc: 0.6185 | Train kappa: 0.5743 \n",
      "Val loss: 0.7145 | Val precision: 0.6033 | Val recall: 0.5859 | Val f1score: 0.5608 | Val acc: 0.6436 | Val kappa: 0.5287 \n",
      "\n",
      "Epoch: 8 \n",
      "Learning rate: 0.00066741943359375\n",
      "Train loss: 0.7418 | Train precision: 0.6456 | Train recall: 0.5707 | Train f1score: 0.5741 | Train acc: 0.6306 | Train kappa: 0.6000 \n",
      "Val loss: 0.6867 | Val precision: 0.5144 | Val recall: 0.5739 | Val f1score: 0.5404 | Val acc: 0.6681 | Val kappa: 0.5553 \n",
      "\n",
      "Epoch: 9 \n",
      "Learning rate: 0.0005005645751953125\n",
      "Train loss: 0.7372 | Train precision: 0.6542 | Train recall: 0.5793 | Train f1score: 0.5887 | Train acc: 0.6306 | Train kappa: 0.5904 \n",
      "Val loss: 0.6832 | Val precision: 0.6221 | Val recall: 0.5351 | Val f1score: 0.5580 | Val acc: 0.6596 | Val kappa: 0.5229 \n",
      "\n",
      "Epoch: 10 \n",
      "Learning rate: 0.0003754234313964844\n",
      "Train loss: 0.7213 | Train precision: 0.6705 | Train recall: 0.5817 | Train f1score: 0.5931 | Train acc: 0.6488 | Train kappa: 0.6076 \n",
      "Val loss: 0.6750 | Val precision: 0.5274 | Val recall: 0.5556 | Val f1score: 0.5407 | Val acc: 0.6748 | Val kappa: 0.5473 \n",
      "\n",
      "Epoch: 11 \n",
      "Learning rate: 0.0002815675735473633\n",
      "Train loss: 0.7337 | Train precision: 0.6653 | Train recall: 0.5790 | Train f1score: 0.5908 | Train acc: 0.6353 | Train kappa: 0.6102 \n",
      "Val loss: 0.6819 | Val precision: 0.5800 | Val recall: 0.5383 | Val f1score: 0.5481 | Val acc: 0.6655 | Val kappa: 0.5379 \n",
      "\n",
      "Epoch: 12 \n",
      "Learning rate: 0.00021117568016052246\n",
      "Train loss: 0.7271 | Train precision: 0.6910 | Train recall: 0.5962 | Train f1score: 0.6092 | Train acc: 0.6434 | Train kappa: 0.6120 \n",
      "Val loss: 0.6681 | Val precision: 0.5267 | Val recall: 0.5641 | Val f1score: 0.5436 | Val acc: 0.6706 | Val kappa: 0.5410 \n",
      "\n",
      "Epoch: 13 \n",
      "Learning rate: 0.00015838176012039184\n",
      "Train loss: 0.7255 | Train precision: 0.6720 | Train recall: 0.5911 | Train f1score: 0.6055 | Train acc: 0.6346 | Train kappa: 0.6071 \n",
      "Val loss: 0.6676 | Val precision: 0.5579 | Val recall: 0.5653 | Val f1score: 0.5453 | Val acc: 0.6681 | Val kappa: 0.5364 \n",
      "\n",
      "Epoch: 14 \n",
      "Learning rate: 0.00011878632009029388\n",
      "Train loss: 0.7246 | Train precision: 0.6631 | Train recall: 0.5850 | Train f1score: 0.5975 | Train acc: 0.6340 | Train kappa: 0.5973 \n",
      "Val loss: 0.6640 | Val precision: 0.6297 | Val recall: 0.5527 | Val f1score: 0.5753 | Val acc: 0.6765 | Val kappa: 0.5420 \n",
      "\n",
      "Epoch: 15 \n",
      "Learning rate: 8.908974006772042e-05\n",
      "Train loss: 0.7225 | Train precision: 0.6642 | Train recall: 0.5910 | Train f1score: 0.6033 | Train acc: 0.6329 | Train kappa: 0.5907 \n",
      "Val loss: 0.6712 | Val precision: 0.6304 | Val recall: 0.5616 | Val f1score: 0.5807 | Val acc: 0.6689 | Val kappa: 0.5456 \n",
      "\n",
      "Epoch: 16 \n",
      "Learning rate: 6.681730505079031e-05\n",
      "Train loss: 0.7192 | Train precision: 0.6753 | Train recall: 0.6009 | Train f1score: 0.6182 | Train acc: 0.6433 | Train kappa: 0.6146 \n",
      "Val loss: 0.6660 | Val precision: 0.6246 | Val recall: 0.5613 | Val f1score: 0.5804 | Val acc: 0.6715 | Val kappa: 0.5495 \n",
      "\n",
      "Epoch: 17 \n",
      "Learning rate: 5.0112978788092735e-05\n",
      "Train loss: 0.7112 | Train precision: 0.6732 | Train recall: 0.5936 | Train f1score: 0.6058 | Train acc: 0.6444 | Train kappa: 0.6104 \n",
      "Val loss: 0.6691 | Val precision: 0.6164 | Val recall: 0.5841 | Val f1score: 0.5831 | Val acc: 0.6698 | Val kappa: 0.5578 \n",
      "\n",
      "Epoch: 18 \n",
      "Learning rate: 3.758473409106955e-05\n",
      "Train loss: 0.7289 | Train precision: 0.6889 | Train recall: 0.5885 | Train f1score: 0.6110 | Train acc: 0.6331 | Train kappa: 0.5961 \n",
      "Val loss: 0.6586 | Val precision: 0.6112 | Val recall: 0.5717 | Val f1score: 0.5752 | Val acc: 0.6731 | Val kappa: 0.5519 \n",
      "\n",
      "Epoch: 19 \n",
      "Learning rate: 2.8188550568302163e-05\n",
      "Train loss: 0.7223 | Train precision: 0.6817 | Train recall: 0.5998 | Train f1score: 0.6185 | Train acc: 0.6388 | Train kappa: 0.6110 \n",
      "Val loss: 0.6609 | Val precision: 0.6364 | Val recall: 0.5790 | Val f1score: 0.5907 | Val acc: 0.6689 | Val kappa: 0.5453 \n",
      "\n",
      "Epoch: 20 \n",
      "Learning rate: 2.114141292622662e-05\n",
      "Train loss: 0.7193 | Train precision: 0.7029 | Train recall: 0.6090 | Train f1score: 0.6305 | Train acc: 0.6495 | Train kappa: 0.6234 \n",
      "Val loss: 0.6642 | Val precision: 0.5834 | Val recall: 0.5714 | Val f1score: 0.5642 | Val acc: 0.6698 | Val kappa: 0.5516 \n",
      "\n",
      "Epoch: 21 \n",
      "Learning rate: 1.5856059694669965e-05\n",
      "Train loss: 0.7108 | Train precision: 0.6906 | Train recall: 0.6066 | Train f1score: 0.6259 | Train acc: 0.6491 | Train kappa: 0.6129 \n",
      "Val loss: 0.6603 | Val precision: 0.6384 | Val recall: 0.5811 | Val f1score: 0.5928 | Val acc: 0.6723 | Val kappa: 0.5497 \n",
      "\n",
      "Epoch: 22 \n",
      "Learning rate: 1.1892044771002475e-05\n",
      "Train loss: 0.7121 | Train precision: 0.6840 | Train recall: 0.6087 | Train f1score: 0.6251 | Train acc: 0.6433 | Train kappa: 0.6163 \n",
      "Val loss: 0.6644 | Val precision: 0.6413 | Val recall: 0.5872 | Val f1score: 0.5971 | Val acc: 0.6723 | Val kappa: 0.5546 \n",
      "\n",
      "Epoch: 23 \n",
      "Learning rate: 8.919033578251857e-06\n",
      "Train loss: 0.7102 | Train precision: 0.6767 | Train recall: 0.5988 | Train f1score: 0.6150 | Train acc: 0.6415 | Train kappa: 0.6187 \n",
      "Val loss: 0.6596 | Val precision: 0.6116 | Val recall: 0.5743 | Val f1score: 0.5773 | Val acc: 0.6723 | Val kappa: 0.5516 \n",
      "\n",
      "Epoch: 24 \n",
      "Learning rate: 6.689275183688892e-06\n",
      "Train loss: 0.7114 | Train precision: 0.6895 | Train recall: 0.6026 | Train f1score: 0.6200 | Train acc: 0.6412 | Train kappa: 0.6016 \n",
      "Val loss: 0.6586 | Val precision: 0.6391 | Val recall: 0.5803 | Val f1score: 0.5925 | Val acc: 0.6748 | Val kappa: 0.5525 \n",
      "\n",
      "Epoch: 25 \n",
      "Learning rate: 5.016956387766669e-06\n",
      "Train loss: 0.7103 | Train precision: 0.6957 | Train recall: 0.6020 | Train f1score: 0.6213 | Train acc: 0.6397 | Train kappa: 0.6180 \n",
      "Val loss: 0.6581 | Val precision: 0.6366 | Val recall: 0.5776 | Val f1score: 0.5898 | Val acc: 0.6706 | Val kappa: 0.5469 \n",
      "\n",
      "Epoch: 26 \n",
      "Learning rate: 3.762717290825002e-06\n",
      "Train loss: 0.7119 | Train precision: 0.6863 | Train recall: 0.6049 | Train f1score: 0.6187 | Train acc: 0.6430 | Train kappa: 0.6047 \n",
      "Val loss: 0.6600 | Val precision: 0.6087 | Val recall: 0.5720 | Val f1score: 0.5748 | Val acc: 0.6664 | Val kappa: 0.5475 \n",
      "\n",
      "Epoch: 27 \n",
      "Learning rate: 2.8220379681187514e-06\n",
      "Train loss: 0.7179 | Train precision: 0.6827 | Train recall: 0.5983 | Train f1score: 0.6124 | Train acc: 0.6390 | Train kappa: 0.6122 \n",
      "Val loss: 0.6607 | Val precision: 0.6078 | Val recall: 0.5711 | Val f1score: 0.5739 | Val acc: 0.6647 | Val kappa: 0.5420 \n",
      "\n"
     ]
    },
    {
     "name": "stdout",
     "output_type": "stream",
     "text": [
      "Epoch: 28 \n",
      "Learning rate: 2.1165284760890633e-06\n",
      "Train loss: 0.7131 | Train precision: 0.6959 | Train recall: 0.6011 | Train f1score: 0.6209 | Train acc: 0.6437 | Train kappa: 0.6087 \n",
      "Val loss: 0.6594 | Val precision: 0.6381 | Val recall: 0.5802 | Val f1score: 0.5921 | Val acc: 0.6723 | Val kappa: 0.5495 \n",
      "\n",
      "Epoch: 29 \n",
      "Learning rate: 1.5873963570667977e-06\n",
      "Train loss: 0.7073 | Train precision: 0.6802 | Train recall: 0.6047 | Train f1score: 0.6191 | Train acc: 0.6433 | Train kappa: 0.6182 \n",
      "Val loss: 0.6596 | Val precision: 0.6387 | Val recall: 0.5810 | Val f1score: 0.5928 | Val acc: 0.6731 | Val kappa: 0.5507 \n",
      "\n",
      "Epoch: 30 \n",
      "Learning rate: 1.1905472678000981e-06\n",
      "Train loss: 0.7195 | Train precision: 0.6859 | Train recall: 0.6011 | Train f1score: 0.6171 | Train acc: 0.6432 | Train kappa: 0.6111 \n",
      "Val loss: 0.6587 | Val precision: 0.6375 | Val recall: 0.5794 | Val f1score: 0.5913 | Val acc: 0.6715 | Val kappa: 0.5483 \n",
      "\n",
      "Epoch: 31 \n",
      "Learning rate: 1e-06\n",
      "Train loss: 0.7087 | Train precision: 0.6865 | Train recall: 0.6019 | Train f1score: 0.6175 | Train acc: 0.6469 | Train kappa: 0.6135 \n",
      "Val loss: 0.6627 | Val precision: 0.6124 | Val recall: 0.5774 | Val f1score: 0.5794 | Val acc: 0.6706 | Val kappa: 0.5538 \n",
      "\n",
      "Epoch: 32 \n",
      "Learning rate: 1e-06\n",
      "Train loss: 0.7090 | Train precision: 0.6862 | Train recall: 0.5969 | Train f1score: 0.6108 | Train acc: 0.6425 | Train kappa: 0.6279 \n",
      "Val loss: 0.6601 | Val precision: 0.6389 | Val recall: 0.5817 | Val f1score: 0.5934 | Val acc: 0.6731 | Val kappa: 0.5509 \n",
      "\n",
      "Epoch: 33 \n",
      "Learning rate: 1e-06\n",
      "Train loss: 0.7131 | Train precision: 0.6914 | Train recall: 0.6062 | Train f1score: 0.6231 | Train acc: 0.6451 | Train kappa: 0.6123 \n",
      "Val loss: 0.6620 | Val precision: 0.6404 | Val recall: 0.5848 | Val f1score: 0.5957 | Val acc: 0.6740 | Val kappa: 0.5559 \n",
      "\n",
      "Epoch: 34 \n",
      "Learning rate: 1e-06\n",
      "Train loss: 0.7202 | Train precision: 0.6975 | Train recall: 0.6016 | Train f1score: 0.6210 | Train acc: 0.6454 | Train kappa: 0.6176 \n",
      "Val loss: 0.6611 | Val precision: 0.6390 | Val recall: 0.5827 | Val f1score: 0.5940 | Val acc: 0.6723 | Val kappa: 0.5501 \n",
      "\n",
      "Epoch: 35 \n",
      "Learning rate: 1e-06\n",
      "Train loss: 0.7112 | Train precision: 0.6929 | Train recall: 0.6083 | Train f1score: 0.6250 | Train acc: 0.6478 | Train kappa: 0.6203 \n",
      "Val loss: 0.6590 | Val precision: 0.6384 | Val recall: 0.5803 | Val f1score: 0.5923 | Val acc: 0.6731 | Val kappa: 0.5505 \n",
      "\n",
      "Early stopping after epoch 35\n"
     ]
    },
    {
     "data": {
      "text/html": [
       "Waiting for W&B process to finish... <strong style=\"color:green\">(success).</strong>"
      ],
      "text/plain": [
       "<IPython.core.display.HTML object>"
      ]
     },
     "metadata": {},
     "output_type": "display_data"
    },
    {
     "data": {
      "application/vnd.jupyter.widget-view+json": {
       "model_id": "63baaccde5be4c2ab7bf0e5c84a66319",
       "version_major": 2,
       "version_minor": 0
      },
      "text/plain": [
       "VBox(children=(Label(value='0.001 MB of 0.001 MB uploaded (0.000 MB deduped)\\r'), FloatProgress(value=1.0, max…"
      ]
     },
     "metadata": {},
     "output_type": "display_data"
    },
    {
     "data": {
      "text/html": [
       "<style>\n",
       "    table.wandb td:nth-child(1) { padding: 0 10px; text-align: left ; width: auto;} td:nth-child(2) {text-align: left ; width: 100%}\n",
       "    .wandb-row { display: flex; flex-direction: row; flex-wrap: wrap; justify-content: flex-start; width: 100% }\n",
       "    .wandb-col { display: flex; flex-direction: column; flex-basis: 100%; flex: 1; padding: 10px; }\n",
       "    </style>\n",
       "<div class=\"wandb-row\"><div class=\"wandb-col\"><h3>Run history:</h3><br/><table class=\"wandb\"><tr><td>learning_rate</td><td>█▆▅▄▃▃▂▂▂▂▁▁▁▁▁▁▁▁▁▁▁▁▁▁▁▁▁▁▁▁▁▁▁▁▁</td></tr><tr><td>train_f1_score</td><td>▁▃▄▅▅▆▆▆▇▇▇▇▇▇▇█▇▇████████▇████▇███</td></tr><tr><td>train_loss</td><td>█▅▄▄▃▃▃▂▂▁▂▂▂▂▁▁▁▂▁▁▁▁▁▁▁▁▁▁▁▁▁▁▁▁▁</td></tr><tr><td>val_f1_score</td><td>▁▆▄▆▅▆▇▇▇▇▇▇▇██████▇███████████████</td></tr><tr><td>val_loss</td><td>█▅▄▂▃▃▃▂▂▁▂▁▁▁▁▁▁▁▁▁▁▁▁▁▁▁▁▁▁▁▁▁▁▁▁</td></tr></table><br/></div><div class=\"wandb-col\"><h3>Run summary:</h3><br/><table class=\"wandb\"><tr><td>learning_rate</td><td>0.0</td></tr><tr><td>train_f1_score</td><td>0.62505</td></tr><tr><td>train_loss</td><td>0.71117</td></tr><tr><td>val_f1_score</td><td>0.59228</td></tr><tr><td>val_loss</td><td>0.65895</td></tr></table><br/></div></div>"
      ],
      "text/plain": [
       "<IPython.core.display.HTML object>"
      ]
     },
     "metadata": {},
     "output_type": "display_data"
    },
    {
     "data": {
      "text/html": [
       " View run <strong style=\"color:#cdcd00\">fold_1_RGB-RE-NIR_4classes</strong> at: <a href='https://wandb.ai/simon-ecke/wze-uav-4classes/runs/ndjd0wrn' target=\"_blank\">https://wandb.ai/simon-ecke/wze-uav-4classes/runs/ndjd0wrn</a><br/>Synced 5 W&B file(s), 0 media file(s), 0 artifact file(s) and 0 other file(s)"
      ],
      "text/plain": [
       "<IPython.core.display.HTML object>"
      ]
     },
     "metadata": {},
     "output_type": "display_data"
    },
    {
     "data": {
      "text/html": [
       "Find logs at: <code>.\\wandb\\run-20230423_020652-ndjd0wrn\\logs</code>"
      ],
      "text/plain": [
       "<IPython.core.display.HTML object>"
      ]
     },
     "metadata": {},
     "output_type": "display_data"
    },
    {
     "name": "stdout",
     "output_type": "stream",
     "text": [
      "Deleting variables and emptying cache\n",
      "Memory allocated: 1049213952 bytes\n",
      "--------------------------------------------------\n",
      "\n",
      "Fold : 2\n",
      "TRAIN POSITIVE RATIO: 0.4656177621595719\n",
      "VAL POSITIVE RATIO  : 0.5019169329073483\n",
      "LENGTH TRAIN GROUPS : 4722\n",
      "LENGTH VAL GROUPS   : 1182\n"
     ]
    },
    {
     "data": {
      "text/html": [
       "wandb version 0.15.0 is available!  To upgrade, please run:\n",
       " $ pip install wandb --upgrade"
      ],
      "text/plain": [
       "<IPython.core.display.HTML object>"
      ]
     },
     "metadata": {},
     "output_type": "display_data"
    },
    {
     "data": {
      "text/html": [
       "Tracking run with wandb version 0.14.2"
      ],
      "text/plain": [
       "<IPython.core.display.HTML object>"
      ]
     },
     "metadata": {},
     "output_type": "display_data"
    },
    {
     "data": {
      "text/html": [
       "Run data is saved locally in <code>C:\\Users\\lwfeckesim\\01_PyTorch\\wze-uav\\wze-uav-master\\wandb\\run-20230423_051227-68hd4dqx</code>"
      ],
      "text/plain": [
       "<IPython.core.display.HTML object>"
      ]
     },
     "metadata": {},
     "output_type": "display_data"
    },
    {
     "data": {
      "text/html": [
       "Syncing run <strong><a href='https://wandb.ai/simon-ecke/wze-uav-4classes/runs/68hd4dqx' target=\"_blank\">fold_2_RGB-RE-NIR_4classes</a></strong> to <a href='https://wandb.ai/simon-ecke/wze-uav-4classes' target=\"_blank\">Weights & Biases</a> (<a href='https://wandb.me/run' target=\"_blank\">docs</a>)<br/>"
      ],
      "text/plain": [
       "<IPython.core.display.HTML object>"
      ]
     },
     "metadata": {},
     "output_type": "display_data"
    },
    {
     "data": {
      "text/html": [
       " View project at <a href='https://wandb.ai/simon-ecke/wze-uav-4classes' target=\"_blank\">https://wandb.ai/simon-ecke/wze-uav-4classes</a>"
      ],
      "text/plain": [
       "<IPython.core.display.HTML object>"
      ]
     },
     "metadata": {},
     "output_type": "display_data"
    },
    {
     "data": {
      "text/html": [
       " View run at <a href='https://wandb.ai/simon-ecke/wze-uav-4classes/runs/68hd4dqx' target=\"_blank\">https://wandb.ai/simon-ecke/wze-uav-4classes/runs/68hd4dqx</a>"
      ],
      "text/plain": [
       "<IPython.core.display.HTML object>"
      ]
     },
     "metadata": {},
     "output_type": "display_data"
    },
    {
     "name": "stdout",
     "output_type": "stream",
     "text": [
      "There are no same hash_id values in train, val or test datasets. The datasplit was successful\n",
      "Check shapes:\n",
      "\n",
      "Images train dataset: (12521, 250, 250, 5)\n",
      "Labels train dataset: (12521, 1)\n",
      "\n",
      "Images validation dataset: (1182, 250, 250, 5)\n",
      "Labels validation dataset: (1182, 1)\n",
      "\n",
      "--------------------------------------------------\n",
      "Check if the split was stratified: (random_state=42)\n",
      "Healthy trees in train dataset: 7425\n",
      "Moderately stressed trees in train dataset: 4551\n",
      "Severely stressed trees in train dataset: 356\n",
      "Dead trees in train dataset: 189\n",
      "Healthy trees in validation dataset: 675\n",
      "Moderately stressed trees in validation dataset: 439\n",
      "Severely stressed trees in validation dataset: 41\n",
      "Dead trees in validation dataset: 27\n",
      "Ratio health trees in validation dataset: 0.0732421875\n",
      "Ratio moderately stressed trees in validation dataset: 0.07672142607479902\n",
      "Ratio severely stressed trees in validation dataset: 0.9543478260869566\n",
      "Ratio dead trees in validation dataset: 0.16205533596837945\n",
      "--------------------------------------------------\n",
      "\n",
      "Creating datasets for fold: 2\n",
      "\n",
      "Creating dataloaders for fold: 2\n",
      "\n",
      "Loaded pretrained weights for efficientnet-b7\n",
      "\n",
      "[INFO] Fold number: 2\n",
      "[INFO] Number of epochs: 50\n",
      "[INFO] Batch_size: 32\n",
      "[INFO] Number of bands: 5\n",
      "[INFO] Dropout rate: 0.5\n",
      "[INFO] Gamma learning rate: 0.75\n",
      "[INFO] Memory allocated: 0 bytes\n"
     ]
    },
    {
     "data": {
      "application/vnd.jupyter.widget-view+json": {
       "model_id": "da7caeec582c49e1a13bf81783646161",
       "version_major": 2,
       "version_minor": 0
      },
      "text/plain": [
       "  0%|          | 0/50 [00:00<?, ?it/s]"
      ]
     },
     "metadata": {},
     "output_type": "display_data"
    },
    {
     "name": "stdout",
     "output_type": "stream",
     "text": [
      "Epoch: 1 \n",
      "Learning rate: 0.005\n",
      "Train loss: 0.9631 | Train precision: 0.3723 | Train recall: 0.3284 | Train f1score: 0.3383 | Train acc: 0.4895 | Train kappa: 0.1835 \n",
      "Val loss: 1.3232 | Val precision: 0.2763 | Val recall: 0.3265 | Val f1score: 0.2793 | Val acc: 0.5712 | Val kappa: 0.1516 \n",
      "\n",
      "Epoch: 2 \n",
      "Learning rate: 0.00375\n",
      "Train loss: 0.8502 | Train precision: 0.4980 | Train recall: 0.4524 | Train f1score: 0.4482 | Train acc: 0.5715 | Train kappa: 0.4257 \n",
      "Val loss: 0.9298 | Val precision: 0.3703 | Val recall: 0.5201 | Val f1score: 0.3871 | Val acc: 0.5564 | Val kappa: 0.4362 \n",
      "\n",
      "Epoch: 3 \n",
      "Learning rate: 0.0028125\n",
      "Train loss: 0.8104 | Train precision: 0.5442 | Train recall: 0.4992 | Train f1score: 0.4895 | Train acc: 0.5924 | Train kappa: 0.5007 \n",
      "Val loss: 0.7563 | Val precision: 0.4208 | Val recall: 0.5232 | Val f1score: 0.4422 | Val acc: 0.6120 | Val kappa: 0.5039 \n",
      "\n",
      "Epoch: 4 \n",
      "Learning rate: 0.002109375\n",
      "Train loss: 0.7824 | Train precision: 0.5939 | Train recall: 0.5420 | Train f1score: 0.5318 | Train acc: 0.6107 | Train kappa: 0.5324 \n",
      "Val loss: 0.8719 | Val precision: 0.5251 | Val recall: 0.5366 | Val f1score: 0.4648 | Val acc: 0.5312 | Val kappa: 0.4345 \n",
      "\n",
      "Epoch: 5 \n",
      "Learning rate: 0.00158203125\n",
      "Train loss: 0.7702 | Train precision: 0.5917 | Train recall: 0.5590 | Train f1score: 0.5447 | Train acc: 0.6175 | Train kappa: 0.5476 \n",
      "Val loss: 0.7882 | Val precision: 0.5294 | Val recall: 0.3324 | Val f1score: 0.3510 | Val acc: 0.5946 | Val kappa: 0.3403 \n",
      "\n",
      "Epoch: 6 \n",
      "Learning rate: 0.0011865234375\n",
      "Train loss: 0.7618 | Train precision: 0.6145 | Train recall: 0.5556 | Train f1score: 0.5452 | Train acc: 0.6227 | Train kappa: 0.5697 \n",
      "Val loss: 0.7703 | Val precision: 0.5370 | Val recall: 0.3355 | Val f1score: 0.3509 | Val acc: 0.6128 | Val kappa: 0.3768 \n",
      "\n",
      "Epoch: 7 \n",
      "Learning rate: 0.000889892578125\n",
      "Train loss: 0.7559 | Train precision: 0.5996 | Train recall: 0.5533 | Train f1score: 0.5410 | Train acc: 0.6194 | Train kappa: 0.5576 \n",
      "Val loss: 0.7942 | Val precision: 0.5387 | Val recall: 0.3176 | Val f1score: 0.3212 | Val acc: 0.5911 | Val kappa: 0.3753 \n",
      "\n",
      "Epoch: 8 \n",
      "Learning rate: 0.00066741943359375\n",
      "Train loss: 0.7484 | Train precision: 0.6473 | Train recall: 0.5711 | Train f1score: 0.5735 | Train acc: 0.6272 | Train kappa: 0.5708 \n",
      "Val loss: 0.7351 | Val precision: 0.5710 | Val recall: 0.5732 | Val f1score: 0.5544 | Val acc: 0.6042 | Val kappa: 0.5310 \n",
      "\n",
      "Epoch: 9 \n",
      "Learning rate: 0.0005005645751953125\n",
      "Train loss: 0.7440 | Train precision: 0.6348 | Train recall: 0.5718 | Train f1score: 0.5735 | Train acc: 0.6245 | Train kappa: 0.5807 \n",
      "Val loss: 0.7562 | Val precision: 0.5224 | Val recall: 0.5838 | Val f1score: 0.5396 | Val acc: 0.6215 | Val kappa: 0.5461 \n",
      "\n",
      "Epoch: 10 \n",
      "Learning rate: 0.0003754234313964844\n",
      "Train loss: 0.7372 | Train precision: 0.6494 | Train recall: 0.5775 | Train f1score: 0.5829 | Train acc: 0.6326 | Train kappa: 0.5761 \n",
      "Val loss: 0.7374 | Val precision: 0.5314 | Val recall: 0.5737 | Val f1score: 0.5436 | Val acc: 0.6172 | Val kappa: 0.5630 \n",
      "\n",
      "Epoch: 11 \n",
      "Learning rate: 0.0002815675735473633\n",
      "Train loss: 0.7341 | Train precision: 0.6684 | Train recall: 0.5940 | Train f1score: 0.6039 | Train acc: 0.6360 | Train kappa: 0.5906 \n",
      "Val loss: 0.7319 | Val precision: 0.5828 | Val recall: 0.5831 | Val f1score: 0.5692 | Val acc: 0.6207 | Val kappa: 0.5579 \n",
      "\n",
      "Epoch: 12 \n",
      "Learning rate: 0.00021117568016052246\n",
      "Train loss: 0.7287 | Train precision: 0.6495 | Train recall: 0.5775 | Train f1score: 0.5853 | Train acc: 0.6342 | Train kappa: 0.5953 \n",
      "Val loss: 0.7038 | Val precision: 0.5637 | Val recall: 0.5655 | Val f1score: 0.5548 | Val acc: 0.6389 | Val kappa: 0.5786 \n",
      "\n",
      "Epoch: 13 \n",
      "Learning rate: 0.00015838176012039184\n",
      "Train loss: 0.7277 | Train precision: 0.6752 | Train recall: 0.5942 | Train f1score: 0.6054 | Train acc: 0.6369 | Train kappa: 0.5927 \n",
      "Val loss: 0.7311 | Val precision: 0.5821 | Val recall: 0.5860 | Val f1score: 0.5671 | Val acc: 0.6076 | Val kappa: 0.5440 \n",
      "\n",
      "Epoch: 14 \n",
      "Learning rate: 0.00011878632009029388\n",
      "Train loss: 0.7226 | Train precision: 0.6721 | Train recall: 0.5897 | Train f1score: 0.6012 | Train acc: 0.6384 | Train kappa: 0.5962 \n",
      "Val loss: 0.6981 | Val precision: 0.6430 | Val recall: 0.5747 | Val f1score: 0.5805 | Val acc: 0.6363 | Val kappa: 0.5632 \n",
      "\n",
      "Epoch: 15 \n",
      "Learning rate: 8.908974006772042e-05\n",
      "Train loss: 0.7178 | Train precision: 0.6790 | Train recall: 0.6022 | Train f1score: 0.6144 | Train acc: 0.6455 | Train kappa: 0.6010 \n",
      "Val loss: 0.7028 | Val precision: 0.5701 | Val recall: 0.5667 | Val f1score: 0.5574 | Val acc: 0.6259 | Val kappa: 0.5602 \n",
      "\n",
      "Epoch: 16 \n",
      "Learning rate: 6.681730505079031e-05\n",
      "Train loss: 0.7063 | Train precision: 0.6740 | Train recall: 0.6063 | Train f1score: 0.6178 | Train acc: 0.6512 | Train kappa: 0.6097 \n",
      "Val loss: 0.6994 | Val precision: 0.6200 | Val recall: 0.5713 | Val f1score: 0.5681 | Val acc: 0.6337 | Val kappa: 0.5614 \n",
      "\n",
      "Epoch: 17 \n",
      "Learning rate: 5.0112978788092735e-05\n",
      "Train loss: 0.7270 | Train precision: 0.6799 | Train recall: 0.5951 | Train f1score: 0.6090 | Train acc: 0.6387 | Train kappa: 0.5876 \n",
      "Val loss: 0.7097 | Val precision: 0.5825 | Val recall: 0.5703 | Val f1score: 0.5595 | Val acc: 0.6241 | Val kappa: 0.5559 \n",
      "\n",
      "Epoch: 18 \n",
      "Learning rate: 3.758473409106955e-05\n",
      "Train loss: 0.7230 | Train precision: 0.6923 | Train recall: 0.6044 | Train f1score: 0.6216 | Train acc: 0.6405 | Train kappa: 0.6089 \n",
      "Val loss: 0.7144 | Val precision: 0.5739 | Val recall: 0.5729 | Val f1score: 0.5593 | Val acc: 0.6172 | Val kappa: 0.5568 \n",
      "\n",
      "Epoch: 19 \n",
      "Learning rate: 2.8188550568302163e-05\n",
      "Train loss: 0.7183 | Train precision: 0.6827 | Train recall: 0.6015 | Train f1score: 0.6155 | Train acc: 0.6489 | Train kappa: 0.6089 \n",
      "Val loss: 0.7062 | Val precision: 0.5646 | Val recall: 0.5678 | Val f1score: 0.5549 | Val acc: 0.6285 | Val kappa: 0.5687 \n",
      "\n",
      "Epoch: 20 \n",
      "Learning rate: 2.114141292622662e-05\n",
      "Train loss: 0.7157 | Train precision: 0.6897 | Train recall: 0.6132 | Train f1score: 0.6273 | Train acc: 0.6463 | Train kappa: 0.6015 \n",
      "Val loss: 0.7056 | Val precision: 0.5702 | Val recall: 0.5695 | Val f1score: 0.5560 | Val acc: 0.6276 | Val kappa: 0.5636 \n",
      "\n",
      "Epoch: 21 \n",
      "Learning rate: 1.5856059694669965e-05\n",
      "Train loss: 0.7156 | Train precision: 0.6811 | Train recall: 0.5991 | Train f1score: 0.6107 | Train acc: 0.6428 | Train kappa: 0.5944 \n",
      "Val loss: 0.7043 | Val precision: 0.5651 | Val recall: 0.5678 | Val f1score: 0.5572 | Val acc: 0.6250 | Val kappa: 0.5636 \n",
      "\n",
      "Epoch: 22 \n",
      "Learning rate: 1.1892044771002475e-05\n",
      "Train loss: 0.7198 | Train precision: 0.6755 | Train recall: 0.5994 | Train f1score: 0.6139 | Train acc: 0.6411 | Train kappa: 0.5991 \n",
      "Val loss: 0.7017 | Val precision: 0.5751 | Val recall: 0.5678 | Val f1score: 0.5586 | Val acc: 0.6267 | Val kappa: 0.5632 \n",
      "\n",
      "Epoch: 23 \n",
      "Learning rate: 8.919033578251857e-06\n",
      "Train loss: 0.7218 | Train precision: 0.6818 | Train recall: 0.5946 | Train f1score: 0.6122 | Train acc: 0.6414 | Train kappa: 0.5948 \n",
      "Val loss: 0.7065 | Val precision: 0.5629 | Val recall: 0.5659 | Val f1score: 0.5522 | Val acc: 0.6215 | Val kappa: 0.5606 \n",
      "\n",
      "Epoch: 24 \n",
      "Learning rate: 6.689275183688892e-06\n",
      "Train loss: 0.7195 | Train precision: 0.6729 | Train recall: 0.6023 | Train f1score: 0.6114 | Train acc: 0.6469 | Train kappa: 0.6115 \n",
      "Val loss: 0.7012 | Val precision: 0.5749 | Val recall: 0.5676 | Val f1score: 0.5587 | Val acc: 0.6276 | Val kappa: 0.5643 \n",
      "\n",
      "Early stopping after epoch 24\n"
     ]
    },
    {
     "data": {
      "text/html": [
       "Waiting for W&B process to finish... <strong style=\"color:green\">(success).</strong>"
      ],
      "text/plain": [
       "<IPython.core.display.HTML object>"
      ]
     },
     "metadata": {},
     "output_type": "display_data"
    },
    {
     "data": {
      "application/vnd.jupyter.widget-view+json": {
       "model_id": "fea36c6ecd3644369b943a6db73fdd6e",
       "version_major": 2,
       "version_minor": 0
      },
      "text/plain": [
       "VBox(children=(Label(value='0.001 MB of 0.001 MB uploaded (0.000 MB deduped)\\r'), FloatProgress(value=1.0, max…"
      ]
     },
     "metadata": {},
     "output_type": "display_data"
    },
    {
     "data": {
      "text/html": [
       "<style>\n",
       "    table.wandb td:nth-child(1) { padding: 0 10px; text-align: left ; width: auto;} td:nth-child(2) {text-align: left ; width: 100%}\n",
       "    .wandb-row { display: flex; flex-direction: row; flex-wrap: wrap; justify-content: flex-start; width: 100% }\n",
       "    .wandb-col { display: flex; flex-direction: column; flex-basis: 100%; flex: 1; padding: 10px; }\n",
       "    </style>\n",
       "<div class=\"wandb-row\"><div class=\"wandb-col\"><h3>Run history:</h3><br/><table class=\"wandb\"><tr><td>learning_rate</td><td>█▆▅▄▃▃▂▂▂▂▁▁▁▁▁▁▁▁▁▁▁▁▁▁</td></tr><tr><td>train_f1_score</td><td>▁▄▅▆▆▆▆▇▇▇▇▇▇▇██████████</td></tr><tr><td>train_loss</td><td>█▅▄▃▃▃▂▂▂▂▂▂▂▁▁▁▂▁▁▁▁▁▁▁</td></tr><tr><td>val_f1_score</td><td>▁▄▅▅▃▃▂▇▇▇█▇██▇███▇▇▇▇▇▇</td></tr><tr><td>val_loss</td><td>█▄▂▃▂▂▂▁▂▁▁▁▁▁▁▁▁▁▁▁▁▁▁▁</td></tr></table><br/></div><div class=\"wandb-col\"><h3>Run summary:</h3><br/><table class=\"wandb\"><tr><td>learning_rate</td><td>1e-05</td></tr><tr><td>train_f1_score</td><td>0.61143</td></tr><tr><td>train_loss</td><td>0.7195</td></tr><tr><td>val_f1_score</td><td>0.55873</td></tr><tr><td>val_loss</td><td>0.70119</td></tr></table><br/></div></div>"
      ],
      "text/plain": [
       "<IPython.core.display.HTML object>"
      ]
     },
     "metadata": {},
     "output_type": "display_data"
    },
    {
     "data": {
      "text/html": [
       " View run <strong style=\"color:#cdcd00\">fold_2_RGB-RE-NIR_4classes</strong> at: <a href='https://wandb.ai/simon-ecke/wze-uav-4classes/runs/68hd4dqx' target=\"_blank\">https://wandb.ai/simon-ecke/wze-uav-4classes/runs/68hd4dqx</a><br/>Synced 5 W&B file(s), 0 media file(s), 0 artifact file(s) and 0 other file(s)"
      ],
      "text/plain": [
       "<IPython.core.display.HTML object>"
      ]
     },
     "metadata": {},
     "output_type": "display_data"
    },
    {
     "data": {
      "text/html": [
       "Find logs at: <code>.\\wandb\\run-20230423_051227-68hd4dqx\\logs</code>"
      ],
      "text/plain": [
       "<IPython.core.display.HTML object>"
      ]
     },
     "metadata": {},
     "output_type": "display_data"
    },
    {
     "name": "stdout",
     "output_type": "stream",
     "text": [
      "Deleting variables and emptying cache\n",
      "Memory allocated: 1054520320 bytes\n",
      "--------------------------------------------------\n",
      "\n",
      "Fold : 3\n",
      "TRAIN POSITIVE RATIO: 0.4734866634722888\n",
      "VAL POSITIVE RATIO  : 0.47043783956535634\n",
      "LENGTH TRAIN GROUPS : 4722\n",
      "LENGTH VAL GROUPS   : 1182\n"
     ]
    },
    {
     "data": {
      "text/html": [
       "wandb version 0.15.0 is available!  To upgrade, please run:\n",
       " $ pip install wandb --upgrade"
      ],
      "text/plain": [
       "<IPython.core.display.HTML object>"
      ]
     },
     "metadata": {},
     "output_type": "display_data"
    },
    {
     "data": {
      "text/html": [
       "Tracking run with wandb version 0.14.2"
      ],
      "text/plain": [
       "<IPython.core.display.HTML object>"
      ]
     },
     "metadata": {},
     "output_type": "display_data"
    },
    {
     "data": {
      "text/html": [
       "Run data is saved locally in <code>C:\\Users\\lwfeckesim\\01_PyTorch\\wze-uav\\wze-uav-master\\wandb\\run-20230423_072026-pm0tls6p</code>"
      ],
      "text/plain": [
       "<IPython.core.display.HTML object>"
      ]
     },
     "metadata": {},
     "output_type": "display_data"
    },
    {
     "data": {
      "text/html": [
       "Syncing run <strong><a href='https://wandb.ai/simon-ecke/wze-uav-4classes/runs/pm0tls6p' target=\"_blank\">fold_3_RGB-RE-NIR_4classes</a></strong> to <a href='https://wandb.ai/simon-ecke/wze-uav-4classes' target=\"_blank\">Weights & Biases</a> (<a href='https://wandb.me/run' target=\"_blank\">docs</a>)<br/>"
      ],
      "text/plain": [
       "<IPython.core.display.HTML object>"
      ]
     },
     "metadata": {},
     "output_type": "display_data"
    },
    {
     "data": {
      "text/html": [
       " View project at <a href='https://wandb.ai/simon-ecke/wze-uav-4classes' target=\"_blank\">https://wandb.ai/simon-ecke/wze-uav-4classes</a>"
      ],
      "text/plain": [
       "<IPython.core.display.HTML object>"
      ]
     },
     "metadata": {},
     "output_type": "display_data"
    },
    {
     "data": {
      "text/html": [
       " View run at <a href='https://wandb.ai/simon-ecke/wze-uav-4classes/runs/pm0tls6p' target=\"_blank\">https://wandb.ai/simon-ecke/wze-uav-4classes/runs/pm0tls6p</a>"
      ],
      "text/plain": [
       "<IPython.core.display.HTML object>"
      ]
     },
     "metadata": {},
     "output_type": "display_data"
    },
    {
     "name": "stdout",
     "output_type": "stream",
     "text": [
      "There are no same hash_id values in train, val or test datasets. The datasplit was successful\n",
      "Check shapes:\n",
      "\n",
      "Images train dataset: (12522, 250, 250, 5)\n",
      "Labels train dataset: (12522, 1)\n",
      "\n",
      "Images validation dataset: (1183, 250, 250, 5)\n",
      "Labels validation dataset: (1183, 1)\n",
      "\n",
      "--------------------------------------------------\n",
      "Check if the split was stratified: (random_state=42)\n",
      "Healthy trees in train dataset: 7357\n",
      "Moderately stressed trees in train dataset: 4601\n",
      "Severely stressed trees in train dataset: 364\n",
      "Dead trees in train dataset: 200\n",
      "Healthy trees in validation dataset: 691\n",
      "Moderately stressed trees in validation dataset: 431\n",
      "Severely stressed trees in validation dataset: 38\n",
      "Dead trees in validation dataset: 23\n",
      "Ratio health trees in validation dataset: 0.0749782986111111\n",
      "Ratio moderately stressed trees in validation dataset: 0.0753233135267389\n",
      "Ratio severely stressed trees in validation dataset: 0.9369565217391305\n",
      "Ratio dead trees in validation dataset: 0.15019762845849802\n",
      "--------------------------------------------------\n",
      "\n",
      "Creating datasets for fold: 3\n",
      "\n",
      "Creating dataloaders for fold: 3\n",
      "\n",
      "Loaded pretrained weights for efficientnet-b7\n",
      "\n",
      "[INFO] Fold number: 3\n",
      "[INFO] Number of epochs: 50\n",
      "[INFO] Batch_size: 32\n",
      "[INFO] Number of bands: 5\n",
      "[INFO] Dropout rate: 0.5\n",
      "[INFO] Gamma learning rate: 0.75\n",
      "[INFO] Memory allocated: 0 bytes\n"
     ]
    },
    {
     "data": {
      "application/vnd.jupyter.widget-view+json": {
       "model_id": "69c58ae30100426f8cb28a63fdb291b8",
       "version_major": 2,
       "version_minor": 0
      },
      "text/plain": [
       "  0%|          | 0/50 [00:00<?, ?it/s]"
      ]
     },
     "metadata": {},
     "output_type": "display_data"
    },
    {
     "name": "stdout",
     "output_type": "stream",
     "text": [
      "Epoch: 1 \n",
      "Learning rate: 0.005\n",
      "Train loss: 0.9469 | Train precision: 0.4026 | Train recall: 0.3513 | Train f1score: 0.3605 | Train acc: 0.5064 | Train kappa: 0.2572 \n",
      "Val loss: 1.5616 | Val precision: 0.1982 | Val recall: 0.4225 | Val f1score: 0.2673 | Val acc: 0.3507 | Val kappa: 0.1806 \n",
      "\n",
      "Epoch: 2 \n",
      "Learning rate: 0.00375\n",
      "Train loss: 0.8266 | Train precision: 0.4825 | Train recall: 0.4651 | Train f1score: 0.4624 | Train acc: 0.5873 | Train kappa: 0.4608 \n",
      "Val loss: 0.8206 | Val precision: 0.4098 | Val recall: 0.4490 | Val f1score: 0.3936 | Val acc: 0.5964 | Val kappa: 0.3549 \n",
      "\n",
      "Epoch: 3 \n",
      "Learning rate: 0.0028125\n",
      "Train loss: 0.8096 | Train precision: 0.5400 | Train recall: 0.5053 | Train f1score: 0.4997 | Train acc: 0.6017 | Train kappa: 0.5094 \n",
      "Val loss: 0.8239 | Val precision: 0.4695 | Val recall: 0.3474 | Val f1score: 0.3606 | Val acc: 0.6085 | Val kappa: 0.2951 \n",
      "\n",
      "Epoch: 4 \n",
      "Learning rate: 0.002109375\n",
      "Train loss: 0.7889 | Train precision: 0.5580 | Train recall: 0.5235 | Train f1score: 0.5157 | Train acc: 0.6017 | Train kappa: 0.5441 \n",
      "Val loss: 0.8046 | Val precision: 0.5111 | Val recall: 0.4117 | Val f1score: 0.4308 | Val acc: 0.6076 | Val kappa: 0.3946 \n",
      "\n",
      "Epoch: 5 \n",
      "Learning rate: 0.00158203125\n",
      "Train loss: 0.7777 | Train precision: 0.5901 | Train recall: 0.5443 | Train f1score: 0.5382 | Train acc: 0.6082 | Train kappa: 0.5647 \n",
      "Val loss: 0.8767 | Val precision: 0.3878 | Val recall: 0.3305 | Val f1score: 0.3310 | Val acc: 0.6285 | Val kappa: 0.2794 \n",
      "\n",
      "Epoch: 6 \n",
      "Learning rate: 0.0011865234375\n",
      "Train loss: 0.7604 | Train precision: 0.6338 | Train recall: 0.5610 | Train f1score: 0.5620 | Train acc: 0.6183 | Train kappa: 0.5714 \n",
      "Val loss: 0.8134 | Val precision: 0.4825 | Val recall: 0.3268 | Val f1score: 0.3374 | Val acc: 0.6076 | Val kappa: 0.2885 \n",
      "\n",
      "Epoch: 7 \n",
      "Learning rate: 0.000889892578125\n",
      "Train loss: 0.7594 | Train precision: 0.5999 | Train recall: 0.5595 | Train f1score: 0.5539 | Train acc: 0.6239 | Train kappa: 0.5784 \n",
      "Val loss: 0.7559 | Val precision: 0.5846 | Val recall: 0.5871 | Val f1score: 0.5428 | Val acc: 0.6172 | Val kappa: 0.5192 \n",
      "\n",
      "Epoch: 8 \n",
      "Learning rate: 0.00066741943359375\n",
      "Train loss: 0.7534 | Train precision: 0.6172 | Train recall: 0.5645 | Train f1score: 0.5600 | Train acc: 0.6198 | Train kappa: 0.5802 \n",
      "Val loss: 0.7480 | Val precision: 0.5682 | Val recall: 0.5708 | Val f1score: 0.5540 | Val acc: 0.6345 | Val kappa: 0.4946 \n",
      "\n",
      "Epoch: 9 \n",
      "Learning rate: 0.0005005645751953125\n",
      "Train loss: 0.7416 | Train precision: 0.6347 | Train recall: 0.5734 | Train f1score: 0.5713 | Train acc: 0.6284 | Train kappa: 0.5876 \n",
      "Val loss: 0.7854 | Val precision: 0.5228 | Val recall: 0.5387 | Val f1score: 0.5176 | Val acc: 0.6293 | Val kappa: 0.4951 \n",
      "\n",
      "Epoch: 10 \n",
      "Learning rate: 0.0003754234313964844\n",
      "Train loss: 0.7449 | Train precision: 0.6610 | Train recall: 0.5760 | Train f1score: 0.5844 | Train acc: 0.6295 | Train kappa: 0.5945 \n",
      "Val loss: 0.7571 | Val precision: 0.6449 | Val recall: 0.5788 | Val f1score: 0.5673 | Val acc: 0.6372 | Val kappa: 0.5269 \n",
      "\n",
      "Epoch: 11 \n",
      "Learning rate: 0.0002815675735473633\n",
      "Train loss: 0.7382 | Train precision: 0.6331 | Train recall: 0.5723 | Train f1score: 0.5803 | Train acc: 0.6258 | Train kappa: 0.5962 \n",
      "Val loss: 0.7306 | Val precision: 0.5804 | Val recall: 0.5776 | Val f1score: 0.5593 | Val acc: 0.6458 | Val kappa: 0.5175 \n",
      "\n",
      "Epoch: 12 \n",
      "Learning rate: 0.00021117568016052246\n",
      "Train loss: 0.7285 | Train precision: 0.6747 | Train recall: 0.5922 | Train f1score: 0.6024 | Train acc: 0.6376 | Train kappa: 0.6027 \n",
      "Val loss: 0.7836 | Val precision: 0.6041 | Val recall: 0.5953 | Val f1score: 0.5792 | Val acc: 0.6450 | Val kappa: 0.5182 \n",
      "\n",
      "Epoch: 13 \n",
      "Learning rate: 0.00015838176012039184\n",
      "Train loss: 0.7279 | Train precision: 0.6772 | Train recall: 0.6006 | Train f1score: 0.6147 | Train acc: 0.6383 | Train kappa: 0.6167 \n",
      "Val loss: 0.7895 | Val precision: 0.5524 | Val recall: 0.5677 | Val f1score: 0.5441 | Val acc: 0.6389 | Val kappa: 0.5020 \n",
      "\n",
      "Epoch: 14 \n",
      "Learning rate: 0.00011878632009029388\n",
      "Train loss: 0.7292 | Train precision: 0.6680 | Train recall: 0.5903 | Train f1score: 0.6002 | Train acc: 0.6339 | Train kappa: 0.5997 \n",
      "Val loss: 0.8119 | Val precision: 0.5804 | Val recall: 0.6324 | Val f1score: 0.5976 | Val acc: 0.6380 | Val kappa: 0.5520 \n",
      "\n",
      "Epoch: 15 \n",
      "Learning rate: 8.908974006772042e-05\n",
      "Train loss: 0.7290 | Train precision: 0.6647 | Train recall: 0.5889 | Train f1score: 0.6024 | Train acc: 0.6312 | Train kappa: 0.5861 \n",
      "Val loss: 0.8068 | Val precision: 0.5872 | Val recall: 0.6144 | Val f1score: 0.5907 | Val acc: 0.6484 | Val kappa: 0.5501 \n",
      "\n",
      "Epoch: 16 \n",
      "Learning rate: 6.681730505079031e-05\n",
      "Train loss: 0.7166 | Train precision: 0.6734 | Train recall: 0.5975 | Train f1score: 0.6087 | Train acc: 0.6435 | Train kappa: 0.6151 \n",
      "Val loss: 0.7823 | Val precision: 0.5872 | Val recall: 0.6106 | Val f1score: 0.5879 | Val acc: 0.6589 | Val kappa: 0.5512 \n",
      "\n",
      "Epoch: 17 \n",
      "Learning rate: 5.0112978788092735e-05\n",
      "Train loss: 0.7240 | Train precision: 0.6574 | Train recall: 0.5879 | Train f1score: 0.5990 | Train acc: 0.6399 | Train kappa: 0.6130 \n",
      "Val loss: 0.8018 | Val precision: 0.5991 | Val recall: 0.6084 | Val f1score: 0.5882 | Val acc: 0.6528 | Val kappa: 0.5445 \n",
      "\n",
      "Epoch: 18 \n",
      "Learning rate: 3.758473409106955e-05\n",
      "Train loss: 0.7176 | Train precision: 0.6883 | Train recall: 0.5944 | Train f1score: 0.6065 | Train acc: 0.6445 | Train kappa: 0.6146 \n",
      "Val loss: 0.7637 | Val precision: 0.5863 | Val recall: 0.6044 | Val f1score: 0.5785 | Val acc: 0.6536 | Val kappa: 0.5533 \n",
      "\n",
      "Epoch: 19 \n",
      "Learning rate: 2.8188550568302163e-05\n",
      "Train loss: 0.7243 | Train precision: 0.6665 | Train recall: 0.5897 | Train f1score: 0.5999 | Train acc: 0.6304 | Train kappa: 0.5988 \n",
      "Val loss: 0.7971 | Val precision: 0.5950 | Val recall: 0.6107 | Val f1score: 0.5886 | Val acc: 0.6519 | Val kappa: 0.5505 \n",
      "\n",
      "Epoch: 20 \n",
      "Learning rate: 2.114141292622662e-05\n",
      "Train loss: 0.7259 | Train precision: 0.6666 | Train recall: 0.5862 | Train f1score: 0.5979 | Train acc: 0.6382 | Train kappa: 0.6038 \n",
      "Val loss: 0.7590 | Val precision: 0.5884 | Val recall: 0.6054 | Val f1score: 0.5851 | Val acc: 0.6562 | Val kappa: 0.5547 \n",
      "\n",
      "Epoch: 21 \n",
      "Learning rate: 1.5856059694669965e-05\n",
      "Train loss: 0.7203 | Train precision: 0.6742 | Train recall: 0.5938 | Train f1score: 0.6058 | Train acc: 0.6406 | Train kappa: 0.6094 \n",
      "Val loss: 0.7899 | Val precision: 0.5886 | Val recall: 0.6093 | Val f1score: 0.5855 | Val acc: 0.6458 | Val kappa: 0.5475 \n",
      "\n",
      "Epoch: 22 \n",
      "Learning rate: 1.1892044771002475e-05\n",
      "Train loss: 0.7223 | Train precision: 0.6769 | Train recall: 0.5915 | Train f1score: 0.6030 | Train acc: 0.6373 | Train kappa: 0.6035 \n",
      "Val loss: 0.7580 | Val precision: 0.6031 | Val recall: 0.6174 | Val f1score: 0.6023 | Val acc: 0.6606 | Val kappa: 0.5625 \n",
      "\n",
      "Epoch: 23 \n",
      "Learning rate: 8.919033578251857e-06\n",
      "Train loss: 0.7106 | Train precision: 0.6723 | Train recall: 0.5985 | Train f1score: 0.6115 | Train acc: 0.6421 | Train kappa: 0.6070 \n",
      "Val loss: 0.8281 | Val precision: 0.5968 | Val recall: 0.6158 | Val f1score: 0.5936 | Val acc: 0.6484 | Val kappa: 0.5454 \n",
      "\n",
      "Epoch: 24 \n",
      "Learning rate: 6.689275183688892e-06\n",
      "Train loss: 0.7182 | Train precision: 0.6729 | Train recall: 0.5959 | Train f1score: 0.6057 | Train acc: 0.6475 | Train kappa: 0.6131 \n",
      "Val loss: 0.7549 | Val precision: 0.5910 | Val recall: 0.6067 | Val f1score: 0.5873 | Val acc: 0.6641 | Val kappa: 0.5606 \n",
      "\n",
      "Epoch: 25 \n",
      "Learning rate: 5.016956387766669e-06\n",
      "Train loss: 0.7146 | Train precision: 0.6874 | Train recall: 0.5978 | Train f1score: 0.6118 | Train acc: 0.6386 | Train kappa: 0.6032 \n",
      "Val loss: 0.7767 | Val precision: 0.5915 | Val recall: 0.6111 | Val f1score: 0.5890 | Val acc: 0.6580 | Val kappa: 0.5552 \n",
      "\n",
      "Epoch: 26 \n",
      "Learning rate: 3.762717290825002e-06\n",
      "Train loss: 0.7168 | Train precision: 0.6792 | Train recall: 0.6022 | Train f1score: 0.6109 | Train acc: 0.6423 | Train kappa: 0.6122 \n",
      "Val loss: 0.8135 | Val precision: 0.5978 | Val recall: 0.6165 | Val f1score: 0.5949 | Val acc: 0.6528 | Val kappa: 0.5503 \n",
      "\n",
      "Epoch: 27 \n",
      "Learning rate: 2.8220379681187514e-06\n",
      "Train loss: 0.7148 | Train precision: 0.6689 | Train recall: 0.5908 | Train f1score: 0.6052 | Train acc: 0.6465 | Train kappa: 0.6021 \n",
      "Val loss: 0.7810 | Val precision: 0.5933 | Val recall: 0.6132 | Val f1score: 0.5909 | Val acc: 0.6606 | Val kappa: 0.5582 \n",
      "\n"
     ]
    },
    {
     "name": "stdout",
     "output_type": "stream",
     "text": [
      "Epoch: 28 \n",
      "Learning rate: 2.1165284760890633e-06\n",
      "Train loss: 0.7144 | Train precision: 0.6853 | Train recall: 0.6002 | Train f1score: 0.6120 | Train acc: 0.6361 | Train kappa: 0.6064 \n",
      "Val loss: 0.7687 | Val precision: 0.5929 | Val recall: 0.6129 | Val f1score: 0.5905 | Val acc: 0.6597 | Val kappa: 0.5572 \n",
      "\n",
      "Epoch: 29 \n",
      "Learning rate: 1.5873963570667977e-06\n",
      "Train loss: 0.7190 | Train precision: 0.6679 | Train recall: 0.5930 | Train f1score: 0.6024 | Train acc: 0.6390 | Train kappa: 0.6122 \n",
      "Val loss: 0.7945 | Val precision: 0.5978 | Val recall: 0.6122 | Val f1score: 0.5912 | Val acc: 0.6615 | Val kappa: 0.5553 \n",
      "\n",
      "Epoch: 30 \n",
      "Learning rate: 1.1905472678000981e-06\n",
      "Train loss: 0.7212 | Train precision: 0.6771 | Train recall: 0.5990 | Train f1score: 0.6135 | Train acc: 0.6316 | Train kappa: 0.6047 \n",
      "Val loss: 0.8206 | Val precision: 0.5918 | Val recall: 0.6119 | Val f1score: 0.5894 | Val acc: 0.6571 | Val kappa: 0.5543 \n",
      "\n",
      "Epoch: 31 \n",
      "Learning rate: 1e-06\n",
      "Train loss: 0.7183 | Train precision: 0.6751 | Train recall: 0.5950 | Train f1score: 0.6043 | Train acc: 0.6398 | Train kappa: 0.6108 \n",
      "Val loss: 0.8315 | Val precision: 0.5916 | Val recall: 0.6118 | Val f1score: 0.5892 | Val acc: 0.6562 | Val kappa: 0.5533 \n",
      "\n",
      "Epoch: 32 \n",
      "Learning rate: 1e-06\n",
      "Train loss: 0.7126 | Train precision: 0.6822 | Train recall: 0.6022 | Train f1score: 0.6131 | Train acc: 0.6411 | Train kappa: 0.6136 \n",
      "Val loss: 0.7916 | Val precision: 0.5963 | Val recall: 0.6152 | Val f1score: 0.5932 | Val acc: 0.6484 | Val kappa: 0.5454 \n",
      "\n",
      "Early stopping after epoch 32\n"
     ]
    },
    {
     "data": {
      "text/html": [
       "Waiting for W&B process to finish... <strong style=\"color:green\">(success).</strong>"
      ],
      "text/plain": [
       "<IPython.core.display.HTML object>"
      ]
     },
     "metadata": {},
     "output_type": "display_data"
    },
    {
     "data": {
      "application/vnd.jupyter.widget-view+json": {
       "model_id": "13a8d76416694acf8d461282471f6611",
       "version_major": 2,
       "version_minor": 0
      },
      "text/plain": [
       "VBox(children=(Label(value='0.001 MB of 0.001 MB uploaded (0.000 MB deduped)\\r'), FloatProgress(value=1.0, max…"
      ]
     },
     "metadata": {},
     "output_type": "display_data"
    },
    {
     "data": {
      "text/html": [
       "<style>\n",
       "    table.wandb td:nth-child(1) { padding: 0 10px; text-align: left ; width: auto;} td:nth-child(2) {text-align: left ; width: 100%}\n",
       "    .wandb-row { display: flex; flex-direction: row; flex-wrap: wrap; justify-content: flex-start; width: 100% }\n",
       "    .wandb-col { display: flex; flex-direction: column; flex-basis: 100%; flex: 1; padding: 10px; }\n",
       "    </style>\n",
       "<div class=\"wandb-row\"><div class=\"wandb-col\"><h3>Run history:</h3><br/><table class=\"wandb\"><tr><td>learning_rate</td><td>█▆▅▄▃▃▂▂▂▂▁▁▁▁▁▁▁▁▁▁▁▁▁▁▁▁▁▁▁▁▁▁</td></tr><tr><td>train_f1_score</td><td>▁▄▅▅▆▇▆▆▇▇▇█████████████████████</td></tr><tr><td>train_loss</td><td>█▄▄▃▃▂▂▂▂▂▂▂▂▂▂▁▁▁▁▁▁▁▁▁▁▁▁▁▁▁▁▁</td></tr><tr><td>val_f1_score</td><td>▁▄▃▄▂▂▇▇▆▇▇█▇███████████████████</td></tr><tr><td>val_loss</td><td>█▂▂▂▂▂▁▁▁▁▁▁▁▂▂▁▂▁▂▁▁▁▂▁▁▂▁▁▂▂▂▂</td></tr></table><br/></div><div class=\"wandb-col\"><h3>Run summary:</h3><br/><table class=\"wandb\"><tr><td>learning_rate</td><td>0.0</td></tr><tr><td>train_f1_score</td><td>0.61307</td></tr><tr><td>train_loss</td><td>0.71262</td></tr><tr><td>val_f1_score</td><td>0.59322</td></tr><tr><td>val_loss</td><td>0.79165</td></tr></table><br/></div></div>"
      ],
      "text/plain": [
       "<IPython.core.display.HTML object>"
      ]
     },
     "metadata": {},
     "output_type": "display_data"
    },
    {
     "data": {
      "text/html": [
       " View run <strong style=\"color:#cdcd00\">fold_3_RGB-RE-NIR_4classes</strong> at: <a href='https://wandb.ai/simon-ecke/wze-uav-4classes/runs/pm0tls6p' target=\"_blank\">https://wandb.ai/simon-ecke/wze-uav-4classes/runs/pm0tls6p</a><br/>Synced 5 W&B file(s), 0 media file(s), 0 artifact file(s) and 0 other file(s)"
      ],
      "text/plain": [
       "<IPython.core.display.HTML object>"
      ]
     },
     "metadata": {},
     "output_type": "display_data"
    },
    {
     "data": {
      "text/html": [
       "Find logs at: <code>.\\wandb\\run-20230423_072026-pm0tls6p\\logs</code>"
      ],
      "text/plain": [
       "<IPython.core.display.HTML object>"
      ]
     },
     "metadata": {},
     "output_type": "display_data"
    },
    {
     "name": "stdout",
     "output_type": "stream",
     "text": [
      "Deleting variables and emptying cache\n",
      "Memory allocated: 1052578816 bytes\n",
      "--------------------------------------------------\n",
      "\n",
      "Fold : 4\n",
      "TRAIN POSITIVE RATIO: 0.4704565443351723\n",
      "VAL POSITIVE RATIO  : 0.4825063613231552\n",
      "LENGTH TRAIN GROUPS : 4724\n",
      "LENGTH VAL GROUPS   : 1180\n"
     ]
    },
    {
     "data": {
      "text/html": [
       "wandb version 0.15.0 is available!  To upgrade, please run:\n",
       " $ pip install wandb --upgrade"
      ],
      "text/plain": [
       "<IPython.core.display.HTML object>"
      ]
     },
     "metadata": {},
     "output_type": "display_data"
    },
    {
     "data": {
      "text/html": [
       "Tracking run with wandb version 0.14.2"
      ],
      "text/plain": [
       "<IPython.core.display.HTML object>"
      ]
     },
     "metadata": {},
     "output_type": "display_data"
    },
    {
     "data": {
      "text/html": [
       "Run data is saved locally in <code>C:\\Users\\lwfeckesim\\01_PyTorch\\wze-uav\\wze-uav-master\\wandb\\run-20230423_101033-e6hf4niy</code>"
      ],
      "text/plain": [
       "<IPython.core.display.HTML object>"
      ]
     },
     "metadata": {},
     "output_type": "display_data"
    },
    {
     "data": {
      "text/html": [
       "Syncing run <strong><a href='https://wandb.ai/simon-ecke/wze-uav-4classes/runs/e6hf4niy' target=\"_blank\">fold_4_RGB-RE-NIR_4classes</a></strong> to <a href='https://wandb.ai/simon-ecke/wze-uav-4classes' target=\"_blank\">Weights & Biases</a> (<a href='https://wandb.me/run' target=\"_blank\">docs</a>)<br/>"
      ],
      "text/plain": [
       "<IPython.core.display.HTML object>"
      ]
     },
     "metadata": {},
     "output_type": "display_data"
    },
    {
     "data": {
      "text/html": [
       " View project at <a href='https://wandb.ai/simon-ecke/wze-uav-4classes' target=\"_blank\">https://wandb.ai/simon-ecke/wze-uav-4classes</a>"
      ],
      "text/plain": [
       "<IPython.core.display.HTML object>"
      ]
     },
     "metadata": {},
     "output_type": "display_data"
    },
    {
     "data": {
      "text/html": [
       " View run at <a href='https://wandb.ai/simon-ecke/wze-uav-4classes/runs/e6hf4niy' target=\"_blank\">https://wandb.ai/simon-ecke/wze-uav-4classes/runs/e6hf4niy</a>"
      ],
      "text/plain": [
       "<IPython.core.display.HTML object>"
      ]
     },
     "metadata": {},
     "output_type": "display_data"
    },
    {
     "name": "stdout",
     "output_type": "stream",
     "text": [
      "There are no same hash_id values in train, val or test datasets. The datasplit was successful\n",
      "Check shapes:\n",
      "\n",
      "Images train dataset: (12507, 250, 250, 5)\n",
      "Labels train dataset: (12507, 1)\n",
      "\n",
      "Images validation dataset: (1180, 250, 250, 5)\n",
      "Labels validation dataset: (1180, 1)\n",
      "\n",
      "--------------------------------------------------\n",
      "Check if the split was stratified: (random_state=42)\n",
      "Healthy trees in train dataset: 7396\n",
      "Moderately stressed trees in train dataset: 4543\n",
      "Severely stressed trees in train dataset: 363\n",
      "Dead trees in train dataset: 205\n",
      "Healthy trees in validation dataset: 683\n",
      "Moderately stressed trees in validation dataset: 436\n",
      "Severely stressed trees in validation dataset: 40\n",
      "Dead trees in validation dataset: 21\n",
      "Ratio health trees in validation dataset: 0.07411024305555555\n",
      "Ratio moderately stressed trees in validation dataset: 0.07619713386927647\n",
      "Ratio severely stressed trees in validation dataset: 0.9478260869565217\n",
      "Ratio dead trees in validation dataset: 0.15810276679841898\n",
      "--------------------------------------------------\n",
      "\n",
      "Creating datasets for fold: 4\n",
      "\n",
      "Creating dataloaders for fold: 4\n",
      "\n",
      "Loaded pretrained weights for efficientnet-b7\n",
      "\n",
      "[INFO] Fold number: 4\n",
      "[INFO] Number of epochs: 50\n",
      "[INFO] Batch_size: 32\n",
      "[INFO] Number of bands: 5\n",
      "[INFO] Dropout rate: 0.5\n",
      "[INFO] Gamma learning rate: 0.75\n",
      "[INFO] Memory allocated: 0 bytes\n"
     ]
    },
    {
     "data": {
      "application/vnd.jupyter.widget-view+json": {
       "model_id": "306868cd43b24e9b9f6b3330386b06ed",
       "version_major": 2,
       "version_minor": 0
      },
      "text/plain": [
       "  0%|          | 0/50 [00:00<?, ?it/s]"
      ]
     },
     "metadata": {},
     "output_type": "display_data"
    },
    {
     "name": "stdout",
     "output_type": "stream",
     "text": [
      "Epoch: 1 \n",
      "Learning rate: 0.005\n",
      "Train loss: 0.9538 | Train precision: 0.3821 | Train recall: 0.3510 | Train f1score: 0.3601 | Train acc: 0.5155 | Train kappa: 0.2438 \n",
      "Val loss: 1.0084 | Val precision: 0.1434 | Val recall: 0.2500 | Val f1score: 0.1823 | Val acc: 0.5738 | Val kappa: 0.0000 \n",
      "\n",
      "Epoch: 2 \n",
      "Learning rate: 0.00375\n",
      "Train loss: 0.8315 | Train precision: 0.5397 | Train recall: 0.5041 | Train f1score: 0.4919 | Train acc: 0.5806 | Train kappa: 0.5054 \n",
      "Val loss: 0.8115 | Val precision: 0.4756 | Val recall: 0.4991 | Val f1score: 0.4611 | Val acc: 0.5304 | Val kappa: 0.3410 \n",
      "\n",
      "Epoch: 3 \n",
      "Learning rate: 0.0028125\n",
      "Train loss: 0.8157 | Train precision: 0.5440 | Train recall: 0.5214 | Train f1score: 0.5065 | Train acc: 0.5894 | Train kappa: 0.5179 \n",
      "Val loss: 0.7549 | Val precision: 0.6097 | Val recall: 0.4319 | Val f1score: 0.4734 | Val acc: 0.6198 | Val kappa: 0.4048 \n",
      "\n",
      "Epoch: 4 \n",
      "Learning rate: 0.002109375\n",
      "Train loss: 0.7881 | Train precision: 0.5805 | Train recall: 0.5376 | Train f1score: 0.5310 | Train acc: 0.6080 | Train kappa: 0.5540 \n",
      "Val loss: 0.7144 | Val precision: 0.4945 | Val recall: 0.5407 | Val f1score: 0.4942 | Val acc: 0.6311 | Val kappa: 0.4571 \n",
      "\n",
      "Epoch: 5 \n",
      "Learning rate: 0.00158203125\n",
      "Train loss: 0.7675 | Train precision: 0.6409 | Train recall: 0.5552 | Train f1score: 0.5513 | Train acc: 0.6170 | Train kappa: 0.5702 \n",
      "Val loss: 0.7198 | Val precision: 0.4981 | Val recall: 0.5131 | Val f1score: 0.5022 | Val acc: 0.6337 | Val kappa: 0.4682 \n",
      "\n",
      "Epoch: 6 \n",
      "Learning rate: 0.0011865234375\n",
      "Train loss: 0.7622 | Train precision: 0.6132 | Train recall: 0.5629 | Train f1score: 0.5617 | Train acc: 0.6099 | Train kappa: 0.5677 \n",
      "Val loss: 0.7148 | Val precision: 0.7829 | Val recall: 0.5859 | Val f1score: 0.5557 | Val acc: 0.6224 | Val kappa: 0.4914 \n",
      "\n",
      "Epoch: 7 \n",
      "Learning rate: 0.000889892578125\n",
      "Train loss: 0.7537 | Train precision: 0.6004 | Train recall: 0.5563 | Train f1score: 0.5540 | Train acc: 0.6260 | Train kappa: 0.5796 \n",
      "Val loss: 0.6993 | Val precision: 0.5128 | Val recall: 0.5714 | Val f1score: 0.5394 | Val acc: 0.6398 | Val kappa: 0.5041 \n",
      "\n",
      "Epoch: 8 \n",
      "Learning rate: 0.00066741943359375\n",
      "Train loss: 0.7430 | Train precision: 0.6370 | Train recall: 0.5723 | Train f1score: 0.5774 | Train acc: 0.6284 | Train kappa: 0.5925 \n",
      "Val loss: 0.7391 | Val precision: 0.5375 | Val recall: 0.5861 | Val f1score: 0.5347 | Val acc: 0.6163 | Val kappa: 0.4902 \n",
      "\n",
      "Epoch: 9 \n",
      "Learning rate: 0.0005005645751953125\n",
      "Train loss: 0.7500 | Train precision: 0.6582 | Train recall: 0.5688 | Train f1score: 0.5769 | Train acc: 0.6288 | Train kappa: 0.5973 \n",
      "Val loss: 0.7119 | Val precision: 0.5253 | Val recall: 0.5379 | Val f1score: 0.5269 | Val acc: 0.6372 | Val kappa: 0.4937 \n",
      "\n",
      "Epoch: 10 \n",
      "Learning rate: 0.0003754234313964844\n",
      "Train loss: 0.7354 | Train precision: 0.6682 | Train recall: 0.5809 | Train f1score: 0.5914 | Train acc: 0.6390 | Train kappa: 0.5859 \n",
      "Val loss: 0.6985 | Val precision: 0.6071 | Val recall: 0.5895 | Val f1score: 0.5606 | Val acc: 0.6510 | Val kappa: 0.5227 \n",
      "\n",
      "Epoch: 11 \n",
      "Learning rate: 0.0002815675735473633\n",
      "Train loss: 0.7276 | Train precision: 0.6648 | Train recall: 0.5833 | Train f1score: 0.5952 | Train acc: 0.6378 | Train kappa: 0.5895 \n",
      "Val loss: 0.6920 | Val precision: 0.6038 | Val recall: 0.5861 | Val f1score: 0.5570 | Val acc: 0.6432 | Val kappa: 0.5093 \n",
      "\n",
      "Epoch: 12 \n",
      "Learning rate: 0.00021117568016052246\n",
      "Train loss: 0.7258 | Train precision: 0.6635 | Train recall: 0.5907 | Train f1score: 0.6004 | Train acc: 0.6413 | Train kappa: 0.6038 \n",
      "Val loss: 0.7181 | Val precision: 0.6549 | Val recall: 0.6078 | Val f1score: 0.5805 | Val acc: 0.6250 | Val kappa: 0.4998 \n",
      "\n",
      "Epoch: 13 \n",
      "Learning rate: 0.00015838176012039184\n",
      "Train loss: 0.7300 | Train precision: 0.6741 | Train recall: 0.5892 | Train f1score: 0.6059 | Train acc: 0.6362 | Train kappa: 0.5988 \n",
      "Val loss: 0.6892 | Val precision: 0.6008 | Val recall: 0.5811 | Val f1score: 0.5609 | Val acc: 0.6493 | Val kappa: 0.5157 \n",
      "\n",
      "Epoch: 14 \n",
      "Learning rate: 0.00011878632009029388\n",
      "Train loss: 0.7316 | Train precision: 0.6793 | Train recall: 0.5887 | Train f1score: 0.6082 | Train acc: 0.6337 | Train kappa: 0.5972 \n",
      "Val loss: 0.7006 | Val precision: 0.6492 | Val recall: 0.6181 | Val f1score: 0.6025 | Val acc: 0.6406 | Val kappa: 0.5197 \n",
      "\n",
      "Epoch: 15 \n",
      "Learning rate: 8.908974006772042e-05\n",
      "Train loss: 0.7134 | Train precision: 0.6747 | Train recall: 0.6017 | Train f1score: 0.6212 | Train acc: 0.6379 | Train kappa: 0.6082 \n",
      "Val loss: 0.6764 | Val precision: 0.6395 | Val recall: 0.5866 | Val f1score: 0.5808 | Val acc: 0.6580 | Val kappa: 0.5224 \n",
      "\n",
      "Epoch: 16 \n",
      "Learning rate: 6.681730505079031e-05\n",
      "Train loss: 0.7222 | Train precision: 0.6990 | Train recall: 0.6129 | Train f1score: 0.6301 | Train acc: 0.6486 | Train kappa: 0.6167 \n",
      "Val loss: 0.7032 | Val precision: 0.6614 | Val recall: 0.5908 | Val f1score: 0.5788 | Val acc: 0.6432 | Val kappa: 0.5068 \n",
      "\n",
      "Epoch: 17 \n",
      "Learning rate: 5.0112978788092735e-05\n",
      "Train loss: 0.7175 | Train precision: 0.6853 | Train recall: 0.5995 | Train f1score: 0.6181 | Train acc: 0.6431 | Train kappa: 0.6211 \n",
      "Val loss: 0.6974 | Val precision: 0.6522 | Val recall: 0.6009 | Val f1score: 0.5911 | Val acc: 0.6510 | Val kappa: 0.5236 \n",
      "\n",
      "Epoch: 18 \n",
      "Learning rate: 3.758473409106955e-05\n",
      "Train loss: 0.7169 | Train precision: 0.6866 | Train recall: 0.6057 | Train f1score: 0.6239 | Train acc: 0.6422 | Train kappa: 0.6061 \n",
      "Val loss: 0.6923 | Val precision: 0.6328 | Val recall: 0.6024 | Val f1score: 0.5785 | Val acc: 0.6424 | Val kappa: 0.5132 \n",
      "\n",
      "Epoch: 19 \n",
      "Learning rate: 2.8188550568302163e-05\n",
      "Train loss: 0.7228 | Train precision: 0.6562 | Train recall: 0.5904 | Train f1score: 0.5995 | Train acc: 0.6348 | Train kappa: 0.5906 \n",
      "Val loss: 0.6943 | Val precision: 0.6624 | Val recall: 0.6045 | Val f1score: 0.5865 | Val acc: 0.6450 | Val kappa: 0.5122 \n",
      "\n",
      "Epoch: 20 \n",
      "Learning rate: 2.114141292622662e-05\n",
      "Train loss: 0.7207 | Train precision: 0.6763 | Train recall: 0.5944 | Train f1score: 0.6135 | Train acc: 0.6424 | Train kappa: 0.6118 \n",
      "Val loss: 0.6911 | Val precision: 0.6642 | Val recall: 0.6069 | Val f1score: 0.5900 | Val acc: 0.6528 | Val kappa: 0.5221 \n",
      "\n",
      "Epoch: 21 \n",
      "Learning rate: 1.5856059694669965e-05\n",
      "Train loss: 0.7235 | Train precision: 0.6863 | Train recall: 0.6063 | Train f1score: 0.6254 | Train acc: 0.6419 | Train kappa: 0.6061 \n",
      "Val loss: 0.6857 | Val precision: 0.6417 | Val recall: 0.5897 | Val f1score: 0.5808 | Val acc: 0.6519 | Val kappa: 0.5186 \n",
      "\n",
      "Epoch: 22 \n",
      "Learning rate: 1.1892044771002475e-05\n",
      "Train loss: 0.7064 | Train precision: 0.6747 | Train recall: 0.5969 | Train f1score: 0.6118 | Train acc: 0.6474 | Train kappa: 0.6143 \n",
      "Val loss: 0.6898 | Val precision: 0.6443 | Val recall: 0.5920 | Val f1score: 0.5815 | Val acc: 0.6510 | Val kappa: 0.5177 \n",
      "\n",
      "Epoch: 23 \n",
      "Learning rate: 8.919033578251857e-06\n",
      "Train loss: 0.7143 | Train precision: 0.7052 | Train recall: 0.6077 | Train f1score: 0.6277 | Train acc: 0.6420 | Train kappa: 0.6057 \n",
      "Val loss: 0.6887 | Val precision: 0.6610 | Val recall: 0.6036 | Val f1score: 0.5877 | Val acc: 0.6493 | Val kappa: 0.5175 \n",
      "\n",
      "Epoch: 24 \n",
      "Learning rate: 6.689275183688892e-06\n",
      "Train loss: 0.7094 | Train precision: 0.6990 | Train recall: 0.6101 | Train f1score: 0.6240 | Train acc: 0.6559 | Train kappa: 0.6218 \n",
      "Val loss: 0.6870 | Val precision: 0.6408 | Val recall: 0.5886 | Val f1score: 0.5791 | Val acc: 0.6476 | Val kappa: 0.5131 \n",
      "\n",
      "Epoch: 25 \n",
      "Learning rate: 5.016956387766669e-06\n",
      "Train loss: 0.7204 | Train precision: 0.7027 | Train recall: 0.6053 | Train f1score: 0.6261 | Train acc: 0.6446 | Train kappa: 0.6091 \n",
      "Val loss: 0.6890 | Val precision: 0.6634 | Val recall: 0.6061 | Val f1score: 0.5897 | Val acc: 0.6528 | Val kappa: 0.5220 \n",
      "\n",
      "Early stopping after epoch 25\n"
     ]
    },
    {
     "data": {
      "text/html": [
       "Waiting for W&B process to finish... <strong style=\"color:green\">(success).</strong>"
      ],
      "text/plain": [
       "<IPython.core.display.HTML object>"
      ]
     },
     "metadata": {},
     "output_type": "display_data"
    },
    {
     "data": {
      "application/vnd.jupyter.widget-view+json": {
       "model_id": "ff48e40212654d178bd97c50a3d7f9ec",
       "version_major": 2,
       "version_minor": 0
      },
      "text/plain": [
       "VBox(children=(Label(value='0.001 MB of 0.001 MB uploaded (0.000 MB deduped)\\r'), FloatProgress(value=1.0, max…"
      ]
     },
     "metadata": {},
     "output_type": "display_data"
    },
    {
     "data": {
      "text/html": [
       "<style>\n",
       "    table.wandb td:nth-child(1) { padding: 0 10px; text-align: left ; width: auto;} td:nth-child(2) {text-align: left ; width: 100%}\n",
       "    .wandb-row { display: flex; flex-direction: row; flex-wrap: wrap; justify-content: flex-start; width: 100% }\n",
       "    .wandb-col { display: flex; flex-direction: column; flex-basis: 100%; flex: 1; padding: 10px; }\n",
       "    </style>\n",
       "<div class=\"wandb-row\"><div class=\"wandb-col\"><h3>Run history:</h3><br/><table class=\"wandb\"><tr><td>learning_rate</td><td>█▆▅▄▃▃▂▂▂▂▁▁▁▁▁▁▁▁▁▁▁▁▁▁▁</td></tr><tr><td>train_f1_score</td><td>▁▄▅▅▆▆▆▇▇▇▇▇▇▇████▇██████</td></tr><tr><td>train_loss</td><td>█▅▄▃▃▃▂▂▂▂▂▂▂▂▁▁▁▁▁▁▁▁▁▁▁</td></tr><tr><td>val_f1_score</td><td>▁▆▆▆▆▇▇▇▇▇▇█▇████████████</td></tr><tr><td>val_loss</td><td>█▄▃▂▂▂▁▂▂▁▁▂▁▂▁▂▁▁▁▁▁▁▁▁▁</td></tr></table><br/></div><div class=\"wandb-col\"><h3>Run summary:</h3><br/><table class=\"wandb\"><tr><td>learning_rate</td><td>1e-05</td></tr><tr><td>train_f1_score</td><td>0.6261</td></tr><tr><td>train_loss</td><td>0.7204</td></tr><tr><td>val_f1_score</td><td>0.58974</td></tr><tr><td>val_loss</td><td>0.68905</td></tr></table><br/></div></div>"
      ],
      "text/plain": [
       "<IPython.core.display.HTML object>"
      ]
     },
     "metadata": {},
     "output_type": "display_data"
    },
    {
     "data": {
      "text/html": [
       " View run <strong style=\"color:#cdcd00\">fold_4_RGB-RE-NIR_4classes</strong> at: <a href='https://wandb.ai/simon-ecke/wze-uav-4classes/runs/e6hf4niy' target=\"_blank\">https://wandb.ai/simon-ecke/wze-uav-4classes/runs/e6hf4niy</a><br/>Synced 5 W&B file(s), 0 media file(s), 0 artifact file(s) and 0 other file(s)"
      ],
      "text/plain": [
       "<IPython.core.display.HTML object>"
      ]
     },
     "metadata": {},
     "output_type": "display_data"
    },
    {
     "data": {
      "text/html": [
       "Find logs at: <code>.\\wandb\\run-20230423_101033-e6hf4niy\\logs</code>"
      ],
      "text/plain": [
       "<IPython.core.display.HTML object>"
      ]
     },
     "metadata": {},
     "output_type": "display_data"
    },
    {
     "name": "stdout",
     "output_type": "stream",
     "text": [
      "Deleting variables and emptying cache\n",
      "Memory allocated: 1054401536 bytes\n",
      "--------------------------------------------------\n",
      "\n",
      "Fold : 5\n",
      "TRAIN POSITIVE RATIO: 0.47794585987261146\n",
      "VAL POSITIVE RATIO  : 0.45228081527013914\n",
      "LENGTH TRAIN GROUPS : 4728\n",
      "LENGTH VAL GROUPS   : 1176\n"
     ]
    },
    {
     "data": {
      "text/html": [
       "wandb version 0.15.0 is available!  To upgrade, please run:\n",
       " $ pip install wandb --upgrade"
      ],
      "text/plain": [
       "<IPython.core.display.HTML object>"
      ]
     },
     "metadata": {},
     "output_type": "display_data"
    },
    {
     "data": {
      "text/html": [
       "Tracking run with wandb version 0.14.2"
      ],
      "text/plain": [
       "<IPython.core.display.HTML object>"
      ]
     },
     "metadata": {},
     "output_type": "display_data"
    },
    {
     "data": {
      "text/html": [
       "Run data is saved locally in <code>C:\\Users\\lwfeckesim\\01_PyTorch\\wze-uav\\wze-uav-master\\wandb\\run-20230423_122424-i0qhtlgh</code>"
      ],
      "text/plain": [
       "<IPython.core.display.HTML object>"
      ]
     },
     "metadata": {},
     "output_type": "display_data"
    },
    {
     "data": {
      "text/html": [
       "Syncing run <strong><a href='https://wandb.ai/simon-ecke/wze-uav-4classes/runs/i0qhtlgh' target=\"_blank\">fold_5_RGB-RE-NIR_4classes</a></strong> to <a href='https://wandb.ai/simon-ecke/wze-uav-4classes' target=\"_blank\">Weights & Biases</a> (<a href='https://wandb.me/run' target=\"_blank\">docs</a>)<br/>"
      ],
      "text/plain": [
       "<IPython.core.display.HTML object>"
      ]
     },
     "metadata": {},
     "output_type": "display_data"
    },
    {
     "data": {
      "text/html": [
       " View project at <a href='https://wandb.ai/simon-ecke/wze-uav-4classes' target=\"_blank\">https://wandb.ai/simon-ecke/wze-uav-4classes</a>"
      ],
      "text/plain": [
       "<IPython.core.display.HTML object>"
      ]
     },
     "metadata": {},
     "output_type": "display_data"
    },
    {
     "data": {
      "text/html": [
       " View run at <a href='https://wandb.ai/simon-ecke/wze-uav-4classes/runs/i0qhtlgh' target=\"_blank\">https://wandb.ai/simon-ecke/wze-uav-4classes/runs/i0qhtlgh</a>"
      ],
      "text/plain": [
       "<IPython.core.display.HTML object>"
      ]
     },
     "metadata": {},
     "output_type": "display_data"
    },
    {
     "name": "stdout",
     "output_type": "stream",
     "text": [
      "There are no same hash_id values in train, val or test datasets. The datasplit was successful\n",
      "Check shapes:\n",
      "\n",
      "Images train dataset: (12560, 250, 250, 5)\n",
      "Labels train dataset: (12560, 1)\n",
      "\n",
      "Images validation dataset: (1176, 250, 250, 5)\n",
      "Labels validation dataset: (1176, 1)\n",
      "\n",
      "--------------------------------------------------\n",
      "Check if the split was stratified: (random_state=42)\n",
      "Healthy trees in train dataset: 7364\n",
      "Moderately stressed trees in train dataset: 4597\n",
      "Severely stressed trees in train dataset: 391\n",
      "Dead trees in train dataset: 208\n",
      "Healthy trees in validation dataset: 698\n",
      "Moderately stressed trees in validation dataset: 433\n",
      "Severely stressed trees in validation dataset: 24\n",
      "Dead trees in validation dataset: 21\n",
      "Ratio health trees in validation dataset: 0.07573784722222222\n",
      "Ratio moderately stressed trees in validation dataset: 0.07567284166375393\n",
      "Ratio severely stressed trees in validation dataset: 0.941304347826087\n",
      "Ratio dead trees in validation dataset: 0.09486166007905138\n",
      "--------------------------------------------------\n",
      "\n",
      "Creating datasets for fold: 5\n",
      "\n",
      "Creating dataloaders for fold: 5\n",
      "\n",
      "Loaded pretrained weights for efficientnet-b7\n",
      "\n",
      "[INFO] Fold number: 5\n",
      "[INFO] Number of epochs: 50\n",
      "[INFO] Batch_size: 32\n",
      "[INFO] Number of bands: 5\n",
      "[INFO] Dropout rate: 0.5\n",
      "[INFO] Gamma learning rate: 0.75\n",
      "[INFO] Memory allocated: 0 bytes\n"
     ]
    },
    {
     "data": {
      "application/vnd.jupyter.widget-view+json": {
       "model_id": "afecde15f0794d539ce7a29282aab189",
       "version_major": 2,
       "version_minor": 0
      },
      "text/plain": [
       "  0%|          | 0/50 [00:00<?, ?it/s]"
      ]
     },
     "metadata": {},
     "output_type": "display_data"
    },
    {
     "name": "stdout",
     "output_type": "stream",
     "text": [
      "Epoch: 1 \n",
      "Learning rate: 0.005\n",
      "Train loss: 0.9473 | Train precision: 0.4304 | Train recall: 0.3612 | Train f1score: 0.3740 | Train acc: 0.5202 | Train kappa: 0.2762 \n",
      "Val loss: 0.8825 | Val precision: 0.4226 | Val recall: 0.4155 | Val f1score: 0.3153 | Val acc: 0.3880 | Val kappa: 0.1614 \n",
      "\n",
      "Epoch: 2 \n",
      "Learning rate: 0.00375\n",
      "Train loss: 0.8418 | Train precision: 0.4881 | Train recall: 0.4541 | Train f1score: 0.4539 | Train acc: 0.5824 | Train kappa: 0.4502 \n",
      "Val loss: 0.8241 | Val precision: 0.5437 | Val recall: 0.4419 | Val f1score: 0.4173 | Val acc: 0.6172 | Val kappa: 0.3280 \n",
      "\n",
      "Epoch: 3 \n",
      "Learning rate: 0.0028125\n",
      "Train loss: 0.8263 | Train precision: 0.4959 | Train recall: 0.4808 | Train f1score: 0.4728 | Train acc: 0.5829 | Train kappa: 0.4775 \n",
      "Val loss: 0.6916 | Val precision: 0.5486 | Val recall: 0.5241 | Val f1score: 0.5314 | Val acc: 0.6345 | Val kappa: 0.4725 \n",
      "\n",
      "Epoch: 4 \n",
      "Learning rate: 0.002109375\n",
      "Train loss: 0.7957 | Train precision: 0.5777 | Train recall: 0.5212 | Train f1score: 0.5222 | Train acc: 0.6074 | Train kappa: 0.5378 \n",
      "Val loss: 0.7051 | Val precision: 0.5433 | Val recall: 0.4743 | Val f1score: 0.5010 | Val acc: 0.6450 | Val kappa: 0.4558 \n",
      "\n",
      "Epoch: 5 \n",
      "Learning rate: 0.00158203125\n",
      "Train loss: 0.7847 | Train precision: 0.5962 | Train recall: 0.5412 | Train f1score: 0.5459 | Train acc: 0.6093 | Train kappa: 0.5649 \n",
      "Val loss: 0.6750 | Val precision: 0.5686 | Val recall: 0.5520 | Val f1score: 0.5441 | Val acc: 0.6623 | Val kappa: 0.5337 \n",
      "\n",
      "Epoch: 6 \n",
      "Learning rate: 0.0011865234375\n",
      "Train loss: 0.7672 | Train precision: 0.6246 | Train recall: 0.5616 | Train f1score: 0.5649 | Train acc: 0.6250 | Train kappa: 0.5895 \n",
      "Val loss: 0.6784 | Val precision: 0.5150 | Val recall: 0.5643 | Val f1score: 0.5361 | Val acc: 0.6545 | Val kappa: 0.5226 \n",
      "\n",
      "Epoch: 7 \n",
      "Learning rate: 0.000889892578125\n",
      "Train loss: 0.7550 | Train precision: 0.6440 | Train recall: 0.5705 | Train f1score: 0.5831 | Train acc: 0.6245 | Train kappa: 0.5668 \n",
      "Val loss: 0.6818 | Val precision: 0.5646 | Val recall: 0.5804 | Val f1score: 0.5660 | Val acc: 0.6450 | Val kappa: 0.5195 \n",
      "\n",
      "Epoch: 8 \n",
      "Learning rate: 0.00066741943359375\n",
      "Train loss: 0.7413 | Train precision: 0.6543 | Train recall: 0.5861 | Train f1score: 0.5940 | Train acc: 0.6346 | Train kappa: 0.6111 \n",
      "Val loss: 0.6820 | Val precision: 0.5329 | Val recall: 0.5464 | Val f1score: 0.5390 | Val acc: 0.6606 | Val kappa: 0.5268 \n",
      "\n",
      "Epoch: 9 \n",
      "Learning rate: 0.0005005645751953125\n",
      "Train loss: 0.7425 | Train precision: 0.6686 | Train recall: 0.5996 | Train f1score: 0.6128 | Train acc: 0.6335 | Train kappa: 0.6042 \n",
      "Val loss: 0.7087 | Val precision: 0.5759 | Val recall: 0.6016 | Val f1score: 0.5813 | Val acc: 0.6311 | Val kappa: 0.5189 \n",
      "\n",
      "Epoch: 10 \n",
      "Learning rate: 0.0003754234313964844\n",
      "Train loss: 0.7341 | Train precision: 0.6488 | Train recall: 0.5876 | Train f1score: 0.5968 | Train acc: 0.6391 | Train kappa: 0.6145 \n",
      "Val loss: 0.6634 | Val precision: 0.5803 | Val recall: 0.5773 | Val f1score: 0.5571 | Val acc: 0.6589 | Val kappa: 0.5393 \n",
      "\n",
      "Epoch: 11 \n",
      "Learning rate: 0.0002815675735473633\n",
      "Train loss: 0.7224 | Train precision: 0.6825 | Train recall: 0.5959 | Train f1score: 0.6112 | Train acc: 0.6424 | Train kappa: 0.6010 \n",
      "Val loss: 0.6759 | Val precision: 0.5532 | Val recall: 0.5696 | Val f1score: 0.5610 | Val acc: 0.6476 | Val kappa: 0.5325 \n",
      "\n",
      "Epoch: 12 \n",
      "Learning rate: 0.00021117568016052246\n",
      "Train loss: 0.7281 | Train precision: 0.6681 | Train recall: 0.6014 | Train f1score: 0.6179 | Train acc: 0.6429 | Train kappa: 0.6125 \n",
      "Val loss: 0.6650 | Val precision: 0.5639 | Val recall: 0.5629 | Val f1score: 0.5612 | Val acc: 0.6571 | Val kappa: 0.5403 \n",
      "\n",
      "Epoch: 13 \n",
      "Learning rate: 0.00015838176012039184\n",
      "Train loss: 0.7217 | Train precision: 0.6851 | Train recall: 0.6020 | Train f1score: 0.6181 | Train acc: 0.6405 | Train kappa: 0.6055 \n",
      "Val loss: 0.6766 | Val precision: 0.5727 | Val recall: 0.5805 | Val f1score: 0.5711 | Val acc: 0.6450 | Val kappa: 0.5332 \n",
      "\n",
      "Epoch: 14 \n",
      "Learning rate: 0.00011878632009029388\n",
      "Train loss: 0.7217 | Train precision: 0.6690 | Train recall: 0.6009 | Train f1score: 0.6138 | Train acc: 0.6422 | Train kappa: 0.6192 \n",
      "Val loss: 0.6617 | Val precision: 0.5618 | Val recall: 0.5657 | Val f1score: 0.5636 | Val acc: 0.6493 | Val kappa: 0.5346 \n",
      "\n",
      "Epoch: 15 \n",
      "Learning rate: 8.908974006772042e-05\n",
      "Train loss: 0.7127 | Train precision: 0.6874 | Train recall: 0.6103 | Train f1score: 0.6272 | Train acc: 0.6536 | Train kappa: 0.6062 \n",
      "Val loss: 0.6680 | Val precision: 0.5521 | Val recall: 0.5700 | Val f1score: 0.5601 | Val acc: 0.6432 | Val kappa: 0.5278 \n",
      "\n",
      "Epoch: 16 \n",
      "Learning rate: 6.681730505079031e-05\n",
      "Train loss: 0.7118 | Train precision: 0.6743 | Train recall: 0.6032 | Train f1score: 0.6189 | Train acc: 0.6478 | Train kappa: 0.6167 \n",
      "Val loss: 0.6718 | Val precision: 0.5555 | Val recall: 0.5734 | Val f1score: 0.5637 | Val acc: 0.6510 | Val kappa: 0.5377 \n",
      "\n",
      "Epoch: 17 \n",
      "Learning rate: 5.0112978788092735e-05\n",
      "Train loss: 0.7122 | Train precision: 0.6917 | Train recall: 0.6083 | Train f1score: 0.6277 | Train acc: 0.6461 | Train kappa: 0.6208 \n",
      "Val loss: 0.6660 | Val precision: 0.5654 | Val recall: 0.5711 | Val f1score: 0.5680 | Val acc: 0.6502 | Val kappa: 0.5383 \n",
      "\n",
      "Epoch: 18 \n",
      "Learning rate: 3.758473409106955e-05\n",
      "Train loss: 0.7183 | Train precision: 0.6944 | Train recall: 0.6113 | Train f1score: 0.6336 | Train acc: 0.6513 | Train kappa: 0.6158 \n",
      "Val loss: 0.6717 | Val precision: 0.5980 | Val recall: 0.5841 | Val f1score: 0.5848 | Val acc: 0.6467 | Val kappa: 0.5363 \n",
      "\n",
      "Epoch: 19 \n",
      "Learning rate: 2.8188550568302163e-05\n",
      "Train loss: 0.7188 | Train precision: 0.6941 | Train recall: 0.6121 | Train f1score: 0.6327 | Train acc: 0.6492 | Train kappa: 0.6167 \n",
      "Val loss: 0.6646 | Val precision: 0.5650 | Val recall: 0.5669 | Val f1score: 0.5653 | Val acc: 0.6571 | Val kappa: 0.5449 \n",
      "\n",
      "Epoch: 20 \n",
      "Learning rate: 2.114141292622662e-05\n",
      "Train loss: 0.7103 | Train precision: 0.6948 | Train recall: 0.6158 | Train f1score: 0.6355 | Train acc: 0.6454 | Train kappa: 0.6107 \n",
      "Val loss: 0.6657 | Val precision: 0.5632 | Val recall: 0.5678 | Val f1score: 0.5655 | Val acc: 0.6493 | Val kappa: 0.5363 \n",
      "\n",
      "Epoch: 21 \n",
      "Learning rate: 1.5856059694669965e-05\n",
      "Train loss: 0.7135 | Train precision: 0.6885 | Train recall: 0.6079 | Train f1score: 0.6297 | Train acc: 0.6448 | Train kappa: 0.6195 \n",
      "Val loss: 0.6663 | Val precision: 0.6202 | Val recall: 0.5961 | Val f1score: 0.6025 | Val acc: 0.6615 | Val kappa: 0.5522 \n",
      "\n",
      "Epoch: 22 \n",
      "Learning rate: 1.1892044771002475e-05\n",
      "Train loss: 0.7098 | Train precision: 0.7014 | Train recall: 0.6236 | Train f1score: 0.6435 | Train acc: 0.6539 | Train kappa: 0.6153 \n",
      "Val loss: 0.6717 | Val precision: 0.6209 | Val recall: 0.6047 | Val f1score: 0.6092 | Val acc: 0.6476 | Val kappa: 0.5370 \n",
      "\n",
      "Epoch: 23 \n",
      "Learning rate: 8.919033578251857e-06\n",
      "Train loss: 0.7063 | Train precision: 0.6928 | Train recall: 0.6175 | Train f1score: 0.6388 | Train acc: 0.6530 | Train kappa: 0.6159 \n",
      "Val loss: 0.6690 | Val precision: 0.6209 | Val recall: 0.5972 | Val f1score: 0.5985 | Val acc: 0.6571 | Val kappa: 0.5486 \n",
      "\n",
      "Epoch: 24 \n",
      "Learning rate: 6.689275183688892e-06\n",
      "Train loss: 0.7063 | Train precision: 0.6813 | Train recall: 0.6032 | Train f1score: 0.6243 | Train acc: 0.6526 | Train kappa: 0.6205 \n",
      "Val loss: 0.6658 | Val precision: 0.5545 | Val recall: 0.5708 | Val f1score: 0.5624 | Val acc: 0.6519 | Val kappa: 0.5366 \n",
      "\n",
      "Epoch: 25 \n",
      "Learning rate: 5.016956387766669e-06\n",
      "Train loss: 0.7189 | Train precision: 0.6821 | Train recall: 0.6147 | Train f1score: 0.6300 | Train acc: 0.6462 | Train kappa: 0.6230 \n",
      "Val loss: 0.6659 | Val precision: 0.5641 | Val recall: 0.5686 | Val f1score: 0.5663 | Val acc: 0.6502 | Val kappa: 0.5353 \n",
      "\n",
      "Epoch: 26 \n",
      "Learning rate: 3.762717290825002e-06\n",
      "Train loss: 0.7087 | Train precision: 0.6879 | Train recall: 0.6085 | Train f1score: 0.6266 | Train acc: 0.6472 | Train kappa: 0.6165 \n",
      "Val loss: 0.6657 | Val precision: 0.5660 | Val recall: 0.5707 | Val f1score: 0.5683 | Val acc: 0.6528 | Val kappa: 0.5389 \n",
      "\n",
      "Epoch: 27 \n",
      "Learning rate: 2.8220379681187514e-06\n",
      "Train loss: 0.7017 | Train precision: 0.6998 | Train recall: 0.6246 | Train f1score: 0.6438 | Train acc: 0.6597 | Train kappa: 0.6277 \n",
      "Val loss: 0.6645 | Val precision: 0.5655 | Val recall: 0.5701 | Val f1score: 0.5677 | Val acc: 0.6536 | Val kappa: 0.5420 \n",
      "\n"
     ]
    },
    {
     "name": "stdout",
     "output_type": "stream",
     "text": [
      "Epoch: 28 \n",
      "Learning rate: 2.1165284760890633e-06\n",
      "Train loss: 0.7077 | Train precision: 0.6837 | Train recall: 0.6136 | Train f1score: 0.6352 | Train acc: 0.6505 | Train kappa: 0.6217 \n",
      "Val loss: 0.6660 | Val precision: 0.5965 | Val recall: 0.5813 | Val f1score: 0.5839 | Val acc: 0.6510 | Val kappa: 0.5403 \n",
      "\n",
      "Epoch: 29 \n",
      "Learning rate: 1.5873963570667977e-06\n",
      "Train loss: 0.7090 | Train precision: 0.6954 | Train recall: 0.6193 | Train f1score: 0.6386 | Train acc: 0.6484 | Train kappa: 0.6137 \n",
      "Val loss: 0.6680 | Val precision: 0.6192 | Val recall: 0.5962 | Val f1score: 0.6017 | Val acc: 0.6562 | Val kappa: 0.5463 \n",
      "\n",
      "Epoch: 30 \n",
      "Learning rate: 1.1905472678000981e-06\n",
      "Train loss: 0.7088 | Train precision: 0.6887 | Train recall: 0.6143 | Train f1score: 0.6315 | Train acc: 0.6528 | Train kappa: 0.6165 \n",
      "Val loss: 0.6656 | Val precision: 0.5637 | Val recall: 0.5685 | Val f1score: 0.5660 | Val acc: 0.6484 | Val kappa: 0.5333 \n",
      "\n",
      "Epoch: 31 \n",
      "Learning rate: 1e-06\n",
      "Train loss: 0.7075 | Train precision: 0.7044 | Train recall: 0.6202 | Train f1score: 0.6428 | Train acc: 0.6551 | Train kappa: 0.6194 \n",
      "Val loss: 0.6658 | Val precision: 0.5650 | Val recall: 0.5701 | Val f1score: 0.5674 | Val acc: 0.6502 | Val kappa: 0.5357 \n",
      "\n",
      "Epoch: 32 \n",
      "Learning rate: 1e-06\n",
      "Train loss: 0.7064 | Train precision: 0.6940 | Train recall: 0.6119 | Train f1score: 0.6341 | Train acc: 0.6521 | Train kappa: 0.6161 \n",
      "Val loss: 0.6661 | Val precision: 0.5938 | Val recall: 0.5817 | Val f1score: 0.5839 | Val acc: 0.6519 | Val kappa: 0.5391 \n",
      "\n",
      "Early stopping after epoch 32\n"
     ]
    },
    {
     "data": {
      "text/html": [
       "Waiting for W&B process to finish... <strong style=\"color:green\">(success).</strong>"
      ],
      "text/plain": [
       "<IPython.core.display.HTML object>"
      ]
     },
     "metadata": {},
     "output_type": "display_data"
    },
    {
     "data": {
      "application/vnd.jupyter.widget-view+json": {
       "model_id": "ed48a519bf814e9b8cea9d987a0177e3",
       "version_major": 2,
       "version_minor": 0
      },
      "text/plain": [
       "VBox(children=(Label(value='0.015 MB of 0.015 MB uploaded (0.000 MB deduped)\\r'), FloatProgress(value=1.0, max…"
      ]
     },
     "metadata": {},
     "output_type": "display_data"
    },
    {
     "data": {
      "text/html": [
       "<style>\n",
       "    table.wandb td:nth-child(1) { padding: 0 10px; text-align: left ; width: auto;} td:nth-child(2) {text-align: left ; width: 100%}\n",
       "    .wandb-row { display: flex; flex-direction: row; flex-wrap: wrap; justify-content: flex-start; width: 100% }\n",
       "    .wandb-col { display: flex; flex-direction: column; flex-basis: 100%; flex: 1; padding: 10px; }\n",
       "    </style>\n",
       "<div class=\"wandb-row\"><div class=\"wandb-col\"><h3>Run history:</h3><br/><table class=\"wandb\"><tr><td>learning_rate</td><td>█▆▅▄▃▃▂▂▂▂▁▁▁▁▁▁▁▁▁▁▁▁▁▁▁▁▁▁▁▁▁▁</td></tr><tr><td>train_f1_score</td><td>▁▃▄▅▅▆▆▇▇▇▇▇▇▇█▇███████▇████████</td></tr><tr><td>train_loss</td><td>█▅▅▄▃▃▃▂▂▂▂▂▂▂▁▁▁▁▁▁▁▁▁▁▁▁▁▁▁▁▁▁</td></tr><tr><td>val_f1_score</td><td>▁▃▆▅▆▆▇▆▇▇▇▇▇▇▇▇▇▇▇▇███▇▇▇▇▇█▇▇▇</td></tr><tr><td>val_loss</td><td>█▆▂▂▁▂▂▂▂▁▁▁▁▁▁▁▁▁▁▁▁▁▁▁▁▁▁▁▁▁▁▁</td></tr></table><br/></div><div class=\"wandb-col\"><h3>Run summary:</h3><br/><table class=\"wandb\"><tr><td>learning_rate</td><td>0.0</td></tr><tr><td>train_f1_score</td><td>0.63406</td></tr><tr><td>train_loss</td><td>0.70644</td></tr><tr><td>val_f1_score</td><td>0.5839</td></tr><tr><td>val_loss</td><td>0.66611</td></tr></table><br/></div></div>"
      ],
      "text/plain": [
       "<IPython.core.display.HTML object>"
      ]
     },
     "metadata": {},
     "output_type": "display_data"
    },
    {
     "data": {
      "text/html": [
       " View run <strong style=\"color:#cdcd00\">fold_5_RGB-RE-NIR_4classes</strong> at: <a href='https://wandb.ai/simon-ecke/wze-uav-4classes/runs/i0qhtlgh' target=\"_blank\">https://wandb.ai/simon-ecke/wze-uav-4classes/runs/i0qhtlgh</a><br/>Synced 5 W&B file(s), 0 media file(s), 0 artifact file(s) and 0 other file(s)"
      ],
      "text/plain": [
       "<IPython.core.display.HTML object>"
      ]
     },
     "metadata": {},
     "output_type": "display_data"
    },
    {
     "data": {
      "text/html": [
       "Find logs at: <code>.\\wandb\\run-20230423_122424-i0qhtlgh\\logs</code>"
      ],
      "text/plain": [
       "<IPython.core.display.HTML object>"
      ]
     },
     "metadata": {},
     "output_type": "display_data"
    },
    {
     "name": "stdout",
     "output_type": "stream",
     "text": [
      "Deleting variables and emptying cache\n",
      "Memory allocated: 1057293312 bytes\n",
      "--------------------------------------------------\n",
      "\n",
      "CPU times: total: 6h 24min 5s\n",
      "Wall time: 13h 7min 48s\n"
     ]
    }
   ],
   "source": [
    "%%time\n",
    "\n",
    "# Set the random seeds\n",
    "set_seeds(42)\n",
    "\n",
    "# Define the number of folds\n",
    "num_folds = 5\n",
    "\n",
    "# group the hashIDs to get the unique values of hashIDs remaining in the subset  \n",
    "groups = sub_hash_id[:, 0] \n",
    "print(\"ORIGINAL POSITIVE RATIO:\", sub_label_set.mean())\n",
    "# create a StratifiedGroupKFold instance\n",
    "kf = StratifiedGroupKFold(n_splits=num_folds, shuffle=True, random_state=42)\n",
    "\n",
    "# loop through the folds\n",
    "for fold, (train_ids, val_ids) in enumerate(kf.split(sub_image_set, sub_label_set, groups)):\n",
    "    print(\"Fold :\", fold+1)\n",
    "    print(\"TRAIN POSITIVE RATIO:\", sub_label_set[train_ids].mean())\n",
    "    print(\"VAL POSITIVE RATIO  :\", sub_label_set[val_ids].mean())\n",
    "    print(\"LENGTH TRAIN GROUPS :\", len(set(groups[train_ids])))\n",
    "    print(\"LENGTH VAL GROUPS   :\", len(set(groups[val_ids])))\n",
    "    \n",
    "    train_ids = sub_hash_id[:, 0][train_ids]\n",
    "    val_ids = np.unique(sub_hash_id[:, 0][val_ids])\n",
    "\n",
    "    torch.cuda.empty_cache()\n",
    "    \n",
    "    # Initialize a new wandb run for this fold\n",
    "    wandb.init(project='wze-uav-4classes', name=f\"fold_{fold + 1}_{extra}\")\n",
    "    \n",
    "    # 1. Split data into train and validation set\n",
    "    # Get the training and testing data for this fold\n",
    "    # Use np.isin() to create boolean arrays indicating which indices belong to train or test sets\n",
    "    train_indices = np.isin(sub_hash_id[:,0], train_ids)\n",
    "    \n",
    "    val_indices = np.zeros_like(train_indices)  # initialize to all False\n",
    "    for hash_id_val in val_ids:\n",
    "        # select one image ID randomly from either 2020 or 2021 or 2022 for each unique hash ID in the test set\n",
    "        temp = np.unique(sub_hash_id[(sub_hash_id[:, 0] == hash_id_val), 1]) # check how many years are available per hashID\n",
    "        if len(temp) == 1:\n",
    "            year = temp[0]\n",
    "        elif len(temp) == 2:\n",
    "            year = np.random.choice(temp)\n",
    "        else:\n",
    "            year = np.random.choice(temp)\n",
    "        \n",
    "        # select image ID using the conditions\n",
    "        image_ids = sub_hash_id[(sub_hash_id[:,0] == hash_id_val) & (sub_hash_id[:,1] == year), 0]\n",
    "    \n",
    "        # mark the index corresponding to the selected image ID and hash ID as True in the test indices array\n",
    "        val_indices[(sub_hash_id[:,0] == hash_id_val) & (sub_hash_id[:,1] == year) & (np.isin(sub_hash_id[:,0], image_ids))] = True \n",
    "    \n",
    "    # Reshape boolean arrays to match shape of image_set and label_set\n",
    "    train_indices = train_indices.reshape(-1, 1)\n",
    "    val_indices = val_indices.reshape(-1, 1)\n",
    "    \n",
    "    # Select images and labels for train and validation sets\n",
    "    train_image_set = sub_image_set[train_indices[:, 0]]\n",
    "    train_label_set = sub_label_set[train_indices[:, 0]]\n",
    "    train_hash_id = sub_hash_id[train_indices[:, 0]][:,0]\n",
    "    train_species_set = sub_species_set[train_indices[:, 0]]\n",
    "    val_image_set = sub_image_set[val_indices[:, 0]]\n",
    "    val_label_set = sub_label_set[val_indices[:, 0]]\n",
    "    val_hash_id = sub_hash_id[val_indices[:, 0]][:,0]\n",
    "    val_species_set = sub_species_set[val_indices[:, 0]]\n",
    "    # reshape \n",
    "    train_label_set = train_label_set.reshape(-1, 1)\n",
    "    val_label_set = val_label_set.reshape(-1, 1)\n",
    "    train_species_set = train_species_set.reshape(-1, 1)\n",
    "    val_species_set = val_species_set.reshape(-1, 1)\n",
    "    \n",
    "    # check if there are any group overlaps between the data splits\n",
    "    hash_set = set(train_hash_id)\n",
    "    val_hash_set = set(val_hash_id)\n",
    "    test_hash_set = set(test_hash_id[:, 0].flatten())\n",
    "    intersection = hash_set.intersection(val_hash_set)\n",
    "    intersection2 = test_hash_set.intersection(val_hash_set)\n",
    "    intersection3 = hash_set.intersection(test_hash_set)\n",
    "    if intersection:\n",
    "        print(f\"Hash_id values in both train and val sets: {len(intersection)}\")\n",
    "        print(f\"Hash_id values in both test and val sets: {len(intersection2)}\")\n",
    "        print(f\"Hash_id values in both train and test sets: {len(intersection3)}\")\n",
    "    else:\n",
    "        print(\"There are no same hash_id values in train, val or test datasets. The datasplit was successful\")\n",
    "    \n",
    "         \n",
    "    print(\"Check shapes:\\n\")\n",
    "    print(f\"Images train dataset: {train_image_set.shape}\")\n",
    "    print(f\"Labels train dataset: {train_label_set.shape}\\n\")\n",
    "    \n",
    "    print(f\"Images validation dataset: {val_image_set.shape}\")\n",
    "    print(f\"Labels validation dataset: {val_label_set.shape}\\n\")\n",
    "    print('-'*50)\n",
    "    print (f\"Check if the split was stratified: (random_state=42)\")\n",
    "    print(f\"Healthy trees in train dataset: {np.count_nonzero(train_label_set == 0)}\")\n",
    "    print(f\"Moderately stressed trees in train dataset: {np.count_nonzero(train_label_set == 1)}\")\n",
    "    print(f\"Severely stressed trees in train dataset: {np.count_nonzero(train_label_set == 2)}\")\n",
    "    print(f\"Dead trees in train dataset: {np.count_nonzero(train_label_set == 3)}\")\n",
    "    print(f\"Healthy trees in validation dataset: {np.count_nonzero(val_label_set == 0)}\")\n",
    "    print(f\"Moderately stressed trees in validation dataset: {np.count_nonzero(val_label_set == 1)}\")\n",
    "    print(f\"Severely stressed trees in validation dataset: {np.count_nonzero(val_label_set == 2)}\")\n",
    "    print(f\"Dead trees in validation dataset: {np.count_nonzero(val_label_set == 3)}\")\n",
    "    print(f\"Ratio health trees in validation dataset: {np.count_nonzero(val_label_set == 0)/np.count_nonzero(sub_label_set == 0)}\")\n",
    "    print(f\"Ratio moderately stressed trees in validation dataset: {np.count_nonzero(val_label_set == 1)/np.count_nonzero(sub_label_set == 1)}\")\n",
    "    print(f\"Ratio severely stressed trees in validation dataset: {np.count_nonzero(val_label_set == 1)/np.count_nonzero(sub_label_set == 2)}\")\n",
    "    print(f\"Ratio dead trees in validation dataset: {np.count_nonzero(val_label_set == 2)/np.count_nonzero(sub_label_set == 3)}\")\n",
    "    print(\"-\"*50)\n",
    "   \n",
    "    # 2. Create train and validation dataset. (choose custom dataset loader with 3 - 5 classes)\n",
    "    print(f\"\\nCreating datasets for fold: {fold + 1}\\n\")\n",
    "    train_dataset = data_loader.CustomDataset(data=train_image_set, labels=train_label_set, class_names=class_names, species = train_species_set,\n",
    "                                                         transform=transform_train)\n",
    "    \n",
    "    val_dataset = data_loader.CustomDataset(data=val_image_set, labels=val_label_set, class_names=class_names,\n",
    "                                                       species = val_species_set, transform=transform)\n",
    "   \n",
    "    # 3. Create train and validation dataloader\n",
    "    # create sampler for oversampling of the minority classes\n",
    "    sampler = data_loader.data_sampler(dataset=train_dataset, class_names=class_names)\n",
    "    print(f\"Creating dataloaders for fold: {fold +1}\\n\")\n",
    "    train_dataloader = DataLoader(train_dataset, batch_size=batch_size, persistent_workers=True, pin_memory=True, num_workers=NUM_WORKERS, generator=g,\n",
    "                              sampler=sampler, shuffle=False, drop_last=True) # shuffle false because of the sampler\n",
    "\n",
    "    val_dataloader = DataLoader(val_dataset, batch_size=batch_size, persistent_workers=True, pin_memory=True, num_workers=NUM_WORKERS, shuffle=False,\n",
    "                             drop_last=True)\n",
    "    \n",
    "    model = model_effnet.EfficientNet.from_pretrained('efficientnet-b7', in_channels=n_bands, num_classes=num_classes, dropout_rate=dropout_rate)\n",
    "    #model = models.create_effnetb7(output_shape=num_classes, unfreeze=True, dropout_rate=dropout_rate, device=device)\n",
    "   \n",
    "    loss_fn = nn.CrossEntropyLoss()\n",
    "    optimizer = torch.optim.Adam(params=model.parameters(), lr=lr)\n",
    "    lr_scheduler = CustomExponentialLR(optimizer, gamma=gamma, min_lr=min_lr)\n",
    "\n",
    "    fold += 1\n",
    "    print(f\"\\n[INFO] Fold number: {fold}\")\n",
    "    print(f\"[INFO] Number of epochs: {epochs}\")\n",
    "    print(f\"[INFO] Batch_size: {batch_size}\")\n",
    "    print(f\"[INFO] Number of bands: {n_bands}\")\n",
    "    print(f\"[INFO] Dropout rate: {dropout_rate}\")\n",
    "    print(f\"[INFO] Gamma learning rate: {gamma}\")\n",
    "    print(f\"[INFO] Memory allocated: {torch.cuda.memory_allocated()} bytes\")\n",
    "    # 4. Train model with k fold dataloaders and track experiments\n",
    "    \n",
    "    if fold == 1:\n",
    "        fold1_results = train(model=model, model_name=model_name, n_bands=n_bands, batch_size=batch_size,train_dataloader=train_dataloader, val_dataloader=val_dataloader, \n",
    "                        optimizer=optimizer, loss_fn=loss_fn, lr_scheduler=lr_scheduler, num_classes=num_classes, epochs=epochs, experiment_num=fold, device=device,\n",
    "                        writer=None, early_stop_patience = patience)\n",
    "       \n",
    "    elif fold == 2:\n",
    "        fold2_results = train(model=model, model_name=model_name, n_bands=n_bands, batch_size=batch_size,train_dataloader=train_dataloader, val_dataloader=val_dataloader, \n",
    "                        optimizer=optimizer, loss_fn=loss_fn, lr_scheduler=lr_scheduler, num_classes=num_classes, epochs=epochs, experiment_num=fold, device=device,\n",
    "                        writer=None, early_stop_patience = patience)\n",
    "    elif fold == 3:\n",
    "        fold3_results = train(model=model, model_name=model_name, n_bands=n_bands, batch_size=batch_size,train_dataloader=train_dataloader, val_dataloader=val_dataloader, \n",
    "                        optimizer=optimizer, loss_fn=loss_fn, lr_scheduler=lr_scheduler, num_classes=num_classes, epochs=epochs, experiment_num=fold, device=device,\n",
    "                        writer=None, early_stop_patience = patience)\n",
    "    elif fold == 4:\n",
    "        fold4_results = train(model=model, model_name=model_name, n_bands=n_bands, batch_size=batch_size,train_dataloader=train_dataloader, val_dataloader=val_dataloader, \n",
    "                        optimizer=optimizer, loss_fn=loss_fn, lr_scheduler=lr_scheduler, num_classes=num_classes, epochs=epochs, experiment_num=fold, device=device,\n",
    "                        writer=None, early_stop_patience = patience)\n",
    "    else:\n",
    "        fold5_results = train(model=model, model_name=model_name, n_bands=n_bands, batch_size=batch_size,train_dataloader=train_dataloader, val_dataloader=val_dataloader, \n",
    "                        optimizer=optimizer, loss_fn=loss_fn, lr_scheduler=lr_scheduler, num_classes=num_classes, epochs=epochs, experiment_num=fold, device=device,\n",
    "                        writer=None, early_stop_patience = patience)\n",
    "    \n",
    "    del train_indices, val_indices, train_image_set, train_label_set, train_hash_id, train_species_set, val_image_set, val_label_set, val_hash_id, val_species_set,\n",
    "    train_dataset, val_dataset, sampler, train_dataloader, val_dataloader, model, loss_fn, optimizer, lr_scheduler\n",
    "    \n",
    "    #finish the wandb run\n",
    "    wandb.finish()\n",
    "    print(\"Deleting variables and emptying cache\")\n",
    "    gc.collect()\n",
    "    torch.cuda.empty_cache()\n",
    "    print(f\"Memory allocated: {torch.cuda.memory_allocated()} bytes\")\n",
    "    print(\"-\"*50 + \"\\n\")"
   ]
  },
  {
   "cell_type": "markdown",
   "id": "d7402d31",
   "metadata": {},
   "source": [
    "#### Create test dataset and test dataloader "
   ]
  },
  {
   "cell_type": "code",
   "execution_count": null,
   "id": "c0c36ebb",
   "metadata": {},
   "outputs": [],
   "source": [
    "# create test dataset\n",
    "test_dataset = data_loader.CustomTestDataset(\n",
    "    data = test_image_set,\n",
    "    labels = test_label_set,\n",
    "    class_names=class_names, \n",
    "    species = test_species_set,\n",
    "    kkl = None,\n",
    "    transform=transform\n",
    ")\n",
    "\n",
    "# create test dataloader\n",
    "test_dataloader = DataLoader(test_dataset,\n",
    "                             batch_size=batch_size,\n",
    "                             persistent_workers=True,\n",
    "                             pin_memory=True,\n",
    "                             num_workers=NUM_WORKERS,\n",
    "                             shuffle=False,\n",
    "                             drop_last=True)"
   ]
  },
  {
   "cell_type": "markdown",
   "id": "22cdaac7",
   "metadata": {},
   "source": [
    "#### Perform ensembling of the five best models"
   ]
  },
  {
   "cell_type": "code",
   "execution_count": null,
   "id": "67db5af2",
   "metadata": {},
   "outputs": [],
   "source": [
    "# Setup the best model filepaths\n",
    "best_model1_path = r\"C:\\Users\\lwfeckesim\\01_PyTorch\\wze-uav\\wze-uav-master\\effnet_b0\\01_18_epochs.pth\"\n",
    "best_model2_path = r\"C:\\Users\\lwfeckesim\\01_PyTorch\\wze-uav\\wze-uav-master\\effnet_b0\\01_18_epochs.pth\"\n",
    "best_model3_path = r\"C:\\Users\\lwfeckesim\\01_PyTorch\\wze-uav\\wze-uav-master\\effnet_b0\\01_18_epochs.pth\"\n",
    "best_model4_path = r\"C:\\Users\\lwfeckesim\\01_PyTorch\\wze-uav\\wze-uav-master\\effnet_b0\\01_18_epochs.pth\"\n",
    "best_model5_path = r\"C:\\Users\\lwfeckesim\\01_PyTorch\\wze-uav\\wze-uav-master\\effnet_b0\\01_18_epochs.pth\"\n",
    "\n",
    "# Instantiate a new instance of EffNetB7 (to load the saved state_dict() to)\n",
    "model1 = models.create_effnetb7(output_shape=num_classes, unfreeze=unfreeze, dropout_rate=dropout_rate, device=device)\n",
    "model2 = models.create_effnetb7(output_shape=num_classes, unfreeze=unfreeze, dropout_rate=dropout_rate, device=device)\n",
    "model3 = models.create_effnetb7(output_shape=num_classes, unfreeze=unfreeze, dropout_rate=dropout_rate, device=device)\n",
    "model4 = models.create_effnetb7(output_shape=num_classes, unfreeze=unfreeze, dropout_rate=dropout_rate, device=device)\n",
    "model5 = models.create_effnetb7(output_shape=num_classes, unfreeze=unfreeze, dropout_rate=dropout_rate, device=device)\n",
    "# for custom models with more than three bands as input\n",
    "#model1 = model_effnet.EfficientNet.from_pretrained('efficientnet-b7', in_channels=n_bands, num_classes=num_classes, dropout_rate=dropout_rate)\n",
    "#model2 = model_effnet.EfficientNet.from_pretrained('efficientnet-b7', in_channels=n_bands, num_classes=num_classes, dropout_rate=dropout_rate)\n",
    "#model3 = model_effnet.EfficientNet.from_pretrained('efficientnet-b7', in_channels=n_bands, num_classes=num_classes, dropout_rate=dropout_rate)\n",
    "#model4 = model_effnet.EfficientNet.from_pretrained('efficientnet-b7', in_channels=n_bands, num_classes=num_classes, dropout_rate=dropout_rate)\n",
    "#model5 = model_effnet.EfficientNet.from_pretrained('efficientnet-b7', in_channels=n_bands, num_classes=num_classes, dropout_rate=dropout_rate)\n",
    "\n",
    "# Load the saved best model state_dict()\n",
    "model1.load_state_dict(torch.load(best_model1_path))\n",
    "model2.load_state_dict(torch.load(best_model2_path))\n",
    "model3.load_state_dict(torch.load(best_model3_path))\n",
    "model4.load_state_dict(torch.load(best_model4_path))\n",
    "model5.load_state_dict(torch.load(best_model5_path))\n",
    "\n",
    "model1.eval()\n",
    "model2.eval()\n",
    "model3.eval()\n",
    "model4.eval()\n",
    "model5.eval()\n",
    "\n",
    "# Initialize the lists to store the predictions\n",
    "all_preds_model1 = []\n",
    "all_preds_model2 = []\n",
    "all_preds_model3 = []\n",
    "all_preds_model4 = []\n",
    "all_preds_model5 = []\n",
    "\n",
    "# Loop through the test dataset and generate predictions for each model\n",
    "with torch.no_grad():\n",
    "    for batch in test_dataloader:\n",
    "        inputs, labels = batch\n",
    "        inputs, labels = inputs.to(device), labels.to(device)\n",
    "        \n",
    "        # Generate predictions for each model\n",
    "        preds_model1 = model1(inputs)\n",
    "        preds_model2 = model2(inputs)\n",
    "        preds_model3 = model3(inputs)\n",
    "        preds_model4 = model4(inputs)\n",
    "        preds_model5 = model5(inputs)\n",
    "\n",
    "        # Append the predictions to the corresponding list\n",
    "        all_preds_model1.append(preds_model1.cpu().numpy())\n",
    "        all_preds_model2.append(preds_model2.cpu().numpy())\n",
    "        all_preds_model3.append(preds_model3.cpu().numpy())\n",
    "        all_preds_model4.append(preds_model4.cpu().numpy())\n",
    "        all_preds_model5.append(preds_model5.cpu().numpy())\n",
    "\n",
    "# Concatenate the predictions from all the models\n",
    "all_preds_model1 = np.concatenate(all_preds_model1)\n",
    "all_preds_model2 = np.concatenate(all_preds_model2)\n",
    "all_preds_model3 = np.concatenate(all_preds_model3)\n",
    "all_preds_model4 = np.concatenate(all_preds_model4)\n",
    "all_preds_model5 = np.concatenate(all_preds_model5)\n",
    "\n",
    "# Calculate the ensemble predictions\n",
    "ensemble_preds = np.mean([all_preds_model1, all_preds_model2, all_preds_model3, all_preds_model4, all_preds_model5], axis=0)\n",
    "ensemble_labels = np.argmax(ensemble_preds, axis=1)\n",
    "\n",
    "# Calculate the evaluation metrics for the ensemble model\n",
    "from sklearn.metrics import classification_report, confusion_matrix\n",
    "\n",
    "print(classification_report(test_labels, ensemble_labels))\n",
    "print(confusion_matrix(test_labels, ensemble_labels))\n",
    "\n",
    "\n",
    "\n",
    "\n"
   ]
  },
  {
   "cell_type": "code",
   "execution_count": null,
   "id": "6dfbc663",
   "metadata": {},
   "outputs": [],
   "source": [
    "def make_predictions(model: torch.nn.Module, \n",
    "                     test_dataloader: torch.utils.data.DataLoader,\n",
    "                     device: torch.device):\n",
    "    # 1. Make predictions with trained model\n",
    "    y_preds = []\n",
    "    y_labels = []\n",
    "    species_list = []\n",
    "    test_loss, test_precision, test_recall, test_f1_score, test_acc = 0, 0, 0, 0, 0\n",
    "    count = 0\n",
    "    model.eval()\n",
    "    with torch.inference_mode():\n",
    "        for X, y, species in tqdm(test_dataloader, desc=\"Making predictions\"):\n",
    "            # Send data and targets to target device\n",
    "            X, y = X.to(device), y.to(device)\n",
    "            # Do the forward pass\n",
    "            y_logit = model(X)\n",
    "            # Turn predictions from logits -> prediction probabilities -> predictions labels\n",
    "            y_pred = torch.softmax(y_logit, dim=1).argmax(dim=1)\n",
    "            # Put predictions on CPU for evaluation\n",
    "            y_preds.append(y_pred.cpu())\n",
    "            y_labels.append(y.cpu())\n",
    "            species_list.append(species)\n",
    "            \n",
    "            #other metrics\n",
    "            test_acc += ((y_pred == y).sum().item()/len(y_pred))\n",
    "            y_pred_class = y_pred.detach().cpu().numpy() \n",
    "            y_class = y.detach().cpu().numpy()\n",
    "            labels = np.array([0])\n",
    "            test_precision += precision_score(y_class, y_pred_class, average='macro', zero_division=0, labels=[0,1,2])\n",
    "            test_recall += recall_score(y_class, y_pred_class, average='macro', zero_division=0, labels=[0,1,2])\n",
    "            #test_f1_score += f1_score(y_class, y_pred_class, average='macro', zero_division=1, labels=labels)\n",
    "            \n",
    "            #if count >= 1:\n",
    "            #    y_set = torch.cat((y_set, y))\n",
    "            #    count = count + 1\n",
    "            #else:\n",
    "            #    y_set = y\n",
    "            #    count = count + 1\n",
    "            \n",
    "    test_loss = test_loss / len(test_dataloader)\n",
    "    test_precision = test_precision / len(test_dataloader)\n",
    "    test_recall = test_recall / len(test_dataloader)\n",
    "    test_f1_score = test_f1_score / len(test_dataloader)\n",
    "    #test_kappa = test_kappa / len(dataloader)\n",
    "    test_acc = test_acc / len(test_dataloader)\n",
    "    # Concatenate list of predictions into a tensor\n",
    "    y_pred_tensor = torch.cat(y_preds)\n",
    "    y_labels_tensor = torch.cat(y_labels)\n",
    "    test_f1_score = f1_score(y_labels_tensor.detach().cpu().numpy(), y_pred_tensor.cpu().numpy(), average='macro', zero_division=1, labels=[0,1,2])\n",
    "    \n",
    "    # Print classification report\n",
    "    y_true = y_labels_tensor.detach().cpu().numpy()\n",
    "    report = classification_report(y_true, y_pred_tensor.cpu().numpy(), target_names=class_names)\n",
    "    print(report)\n",
    "    \n",
    "    return y_pred_tensor, y_labels_tensor, test_loss, test_recall, test_precision, test_f1_score, test_acc, y_logit, y_pred, y, y_preds"
   ]
  },
  {
   "cell_type": "code",
   "execution_count": null,
   "id": "aab9e321",
   "metadata": {},
   "outputs": [],
   "source": [
    "# 2. Setup confusion matrix instance and compare predictions to targets\n",
    "#from wze_uav.analysis import *\n",
    "y_pred_tensor, y_labels_tensor, test_loss, test_recall, test_precision, test_f1_score, test_acc, y_logit, y_pred, y, y_preds = make_predictions(model=best_model,\n",
    "                                 test_dataloader=test_dataloader, \n",
    "                                 device=device)\n",
    "\n",
    "y_labels_tensor = y_labels_tensor.detach().cpu().numpy()\n",
    "y_pred_tensor = y_pred_tensor.detach().cpu().numpy()\n",
    "\n",
    "#confmat = ConfusionMatrix(num_classes=num_classes, task='multiclass')\n",
    "#confmat_tensor = confmat(preds=y_pred_tensor,\n",
    "#                         target=test_labels)\n",
    "labels = np.array([0,1,2])\n",
    "confmat = confusion_matrix(y_labels_tensor, y_pred_tensor, labels=labels)\n",
    "\n",
    "# 3. Plot the confusion matrix\n",
    "fig, ax = plot_confusion_matrix(\n",
    "    conf_mat=confmat, # matplotlib likes working with NumPy \n",
    "    class_names=class_names, # turn the row and column labels into class names\n",
    "    figsize=(10, 7)\n",
    ");\n",
    "\n",
    "print(f\"Test loss: {test_loss}\")\n",
    "print(f\"Test precision: {test_precision}\")\n",
    "print(f\"Test recall: {test_recall}\")\n",
    "print(f\"Test F1score: {test_f1_score}\")\n",
    "#print(f\"Test Kappa: {test_kappa}\")\n",
    "print(f\"Test Accuracy: {test_acc}\")\n",
    "print(f\"Test Logits: {y_logit}\")\n",
    "print(f\"Test Predictions: {y_pred}\")\n",
    "print(f\"Test Labels: {y}\")"
   ]
  },
  {
   "cell_type": "code",
   "execution_count": null,
   "id": "8d4173b3",
   "metadata": {},
   "outputs": [],
   "source": [
    "len(y_preds)"
   ]
  },
  {
   "cell_type": "code",
   "execution_count": null,
   "id": "7588116f",
   "metadata": {},
   "outputs": [],
   "source": [
    "y_set.cpu()"
   ]
  },
  {
   "cell_type": "code",
   "execution_count": null,
   "id": "1c195b3e",
   "metadata": {},
   "outputs": [],
   "source": [
    "test_dataset.labels"
   ]
  },
  {
   "cell_type": "code",
   "execution_count": null,
   "id": "975ec08c",
   "metadata": {},
   "outputs": [],
   "source": []
  },
  {
   "cell_type": "code",
   "execution_count": null,
   "id": "6da05604",
   "metadata": {},
   "outputs": [],
   "source": [
    "y_preds = []\n",
    "y_labels = []\n",
    "labels = np.array([0,1,2])\n",
    "test_loss, test_precision, test_recall, test_f1_score, test_acc = 0, 0, 0, 0, 0\n",
    "count = 0\n",
    "model.eval()\n",
    "with torch.inference_mode():\n",
    "    for X, y in tqdm(test_dataloader, desc=\"Making predictions\"):\n",
    "        # Send data and targets to target device\n",
    "        X, y = X.to(device), y.to(device)\n",
    "        # Do the forward pass\n",
    "        y_logit = model(X)\n",
    "        # Turn predictions from logits -> prediction probabilities -> predictions labels\n",
    "        y_pred = torch.softmax(y_logit, dim=1).argmax(dim=1)\n",
    "        # Put predictions on CPU for evaluation\n",
    "        y_preds.append(y_pred.cpu())\n",
    "        y_labels.append(y.cpu())\n",
    "        \n",
    "        #other metrics\n",
    "        test_acc += ((y_pred == y).sum().item()/len(y_pred))\n",
    "        y_pred_class = y_pred.detach().cpu().numpy() \n",
    "        y_class = y.detach().cpu().numpy()\n",
    "        test_precision += precision_score(y_class, y_pred_class, average='macro', zero_division=1, labels=labels)\n",
    "        test_recall += recall_score(y_class, y_pred_class, average='macro', zero_division=1, labels=labels)\n",
    "        #test_f1_score += f1_score(y_class, y_pred_class, average='macro', zero_division=1, labels=labels)\n",
    "        \n",
    "        #if count >= 1:\n",
    "        #    y_set = torch.cat((y_set, y))\n",
    "        #    count = count + 1\n",
    "        #else:\n",
    "        #    y_set = y\n",
    "        #    count = count + 1\n",
    "        \n",
    "test_loss = test_loss / len(test_dataloader)\n",
    "test_precision = test_precision / len(test_dataloader)\n",
    "test_recall = test_recall / len(test_dataloader)\n",
    "#test_f1_score = test_f1_score / len(test_dataloader)\n",
    "#test_kappa = test_kappa / len(dataloader)\n",
    "test_acc = test_acc / len(test_dataloader)\n",
    "# Concatenate list of predictions into a tensor\n",
    "y_pred_tensor = torch.cat(y_preds)\n",
    "test_f1_score = f1_score(y_set.detach().cpu().numpy(), y_pred_tensor.cpu().numpy(), average='macro', zero_division=0, labels=[0,1,2])\n",
    "\n",
    "# Print classification report\n",
    "y_true = y_set.detach().cpu().numpy()\n",
    "report = classification_report(y_true, y_pred_tensor.cpu().numpy(), target_names=class_names)\n",
    "print(report)"
   ]
  },
  {
   "cell_type": "code",
   "execution_count": null,
   "id": "6ae97fab",
   "metadata": {},
   "outputs": [],
   "source": [
    "test_f1_score"
   ]
  },
  {
   "cell_type": "code",
   "execution_count": null,
   "id": "7ebafd9b",
   "metadata": {},
   "outputs": [],
   "source": [
    "make = (y_class == y_pred_class)\n",
    "make"
   ]
  },
  {
   "cell_type": "code",
   "execution_count": null,
   "id": "4f8aa759",
   "metadata": {},
   "outputs": [],
   "source": [
    "torch.softmax(y_logit, dim=1).argmax(dim=1)"
   ]
  },
  {
   "cell_type": "code",
   "execution_count": null,
   "id": "f90a54b2",
   "metadata": {},
   "outputs": [],
   "source": [
    "y"
   ]
  },
  {
   "cell_type": "code",
   "execution_count": null,
   "id": "5a806154",
   "metadata": {},
   "outputs": [],
   "source": [
    "test = (y_pred == y).sum().item()/16"
   ]
  },
  {
   "cell_type": "code",
   "execution_count": null,
   "id": "1da35c56",
   "metadata": {},
   "outputs": [],
   "source": [
    "test"
   ]
  },
  {
   "cell_type": "code",
   "execution_count": null,
   "id": "b1eb246e",
   "metadata": {},
   "outputs": [],
   "source": [
    " y_pred_class = y_pred.detach().cpu().numpy() "
   ]
  },
  {
   "cell_type": "code",
   "execution_count": null,
   "id": "602e096f",
   "metadata": {},
   "outputs": [],
   "source": [
    "y_pred_class"
   ]
  },
  {
   "cell_type": "code",
   "execution_count": null,
   "id": "eaf1af09",
   "metadata": {},
   "outputs": [],
   "source": []
  }
 ],
 "metadata": {
  "kernelspec": {
   "display_name": "Python 3 (ipykernel)",
   "language": "python",
   "name": "python3"
  },
  "language_info": {
   "codemirror_mode": {
    "name": "ipython",
    "version": 3
   },
   "file_extension": ".py",
   "mimetype": "text/x-python",
   "name": "python",
   "nbconvert_exporter": "python",
   "pygments_lexer": "ipython3",
   "version": "3.9.16"
  }
 },
 "nbformat": 4,
 "nbformat_minor": 5
}
