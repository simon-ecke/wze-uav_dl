{
 "cells": [
  {
   "cell_type": "markdown",
   "id": "c1acdaa3",
   "metadata": {},
   "source": [
    "# WZE-UAV Image Classification using Deep Learning"
   ]
  },
  {
   "cell_type": "code",
   "execution_count": 1,
   "id": "2159aac5",
   "metadata": {},
   "outputs": [],
   "source": [
    "import os\n",
    "import gc\n",
    "import glob\n",
    "import numpy as np\n",
    "from pathlib import Path\n",
    "from tqdm.auto import tqdm\n",
    "from sklearn.metrics import confusion_matrix, classification_report\n",
    "from sklearn.model_selection import KFold"
   ]
  },
  {
   "cell_type": "code",
   "execution_count": 2,
   "id": "0026f7a9",
   "metadata": {},
   "outputs": [],
   "source": [
    "import torch\n",
    "import torchvision.transforms as T\n",
    "import torchvision\n",
    "from torch import nn\n",
    "from torch.utils.data import DataLoader\n",
    "from torchvision import datasets, transforms\n",
    "from torch.utils.data import Dataset\n",
    "import torch.optim as optim\n",
    "from torch.optim.lr_scheduler import ExponentialLR\n",
    "from mlxtend.plotting import plot_confusion_matrix"
   ]
  },
  {
   "cell_type": "code",
   "execution_count": 3,
   "id": "b160d7b4",
   "metadata": {},
   "outputs": [],
   "source": [
    "import wze_uav.data_loader as data_loader\n",
    "import wze_uav.models as models\n",
    "from wze_uav.engine import *\n",
    "from wze_uav.utils2 import *\n",
    "#from wze_uav.log_writer import create_writer\n",
    "from wze_uav.datasplit import *\n",
    "from efficientnet import model_effnet #for custom effnet with n_channels input\n",
    "import wandb"
   ]
  },
  {
   "cell_type": "markdown",
   "id": "2bd4fb2f",
   "metadata": {},
   "source": [
    "#### Get PyTorch version"
   ]
  },
  {
   "cell_type": "code",
   "execution_count": 4,
   "id": "c10886b1",
   "metadata": {},
   "outputs": [
    {
     "name": "stdout",
     "output_type": "stream",
     "text": [
      "torch version: 1.13.1+cu116\n",
      "torchvision version: 0.14.1+cu116\n"
     ]
    }
   ],
   "source": [
    "print(f\"torch version: {torch.__version__}\")\n",
    "print(f\"torchvision version: {torchvision.__version__}\")"
   ]
  },
  {
   "cell_type": "markdown",
   "id": "aa6a83cf",
   "metadata": {},
   "source": [
    "#### Preparing device agnostic code "
   ]
  },
  {
   "cell_type": "code",
   "execution_count": 5,
   "id": "13d5de88",
   "metadata": {},
   "outputs": [
    {
     "name": "stdout",
     "output_type": "stream",
     "text": [
      "cuda\n",
      "Index of current divice: 0\n",
      "Number of GPUs available: 1\n",
      "GPU Model: Quadro RTX 8000\n"
     ]
    }
   ],
   "source": [
    "# ensure device agnostic code\n",
    "device = 'cuda' if torch.cuda.is_available() else 'cpu'\n",
    "print(device)\n",
    "\n",
    "# get index of currently selected device\n",
    "print(f\"Index of current divice: {torch.cuda.current_device()}\")\n",
    "# get number of GPUs available\n",
    "print(f\"Number of GPUs available: {torch.cuda.device_count()}\")\n",
    "# get the name of the device\n",
    "print(f\"GPU Model: {torch.cuda.get_device_name(0)}\")"
   ]
  },
  {
   "cell_type": "markdown",
   "id": "a26a6a34",
   "metadata": {},
   "source": [
    "#### Ensure reproducibility "
   ]
  },
  {
   "cell_type": "code",
   "execution_count": 6,
   "id": "dd4656a7",
   "metadata": {},
   "outputs": [],
   "source": [
    "# for more information, see also: https://pytorch.org/docs/stable/notes/randomness.html\n",
    "\n",
    "# Set seeds\n",
    "def set_seeds(seed: int=42):\n",
    "    \"\"\"Sets random sets for torch operations.\n",
    "\n",
    "    Args:\n",
    "        seed (int, optional): Random seed to set. Defaults to 42.\n",
    "    \"\"\"\n",
    "    # Set the seed for general torch operations\n",
    "    torch.manual_seed(seed)\n",
    "    # Set the seed for CUDA torch operations (ones that happen on the GPU)\n",
    "    torch.cuda.manual_seed(seed)\n",
    "    # seed for numpy\n",
    "    np.random.seed(seed)\n",
    "\n",
    "set_seeds(42) \n",
    "\n",
    "# Set to true -> might speed up the process but should be set to False if reproducible results are desired\n",
    "torch.backends.cudnn.benchmark = False\n"
   ]
  },
  {
   "cell_type": "markdown",
   "id": "8be33671",
   "metadata": {},
   "source": [
    "#### Define file directory"
   ]
  },
  {
   "cell_type": "code",
   "execution_count": 7,
   "id": "30645f36",
   "metadata": {},
   "outputs": [],
   "source": [
    "#####################################################################################\n",
    "# 3 channel input (r-g-b)\n",
    "#data_path = r\"D:\\Drohnendaten\\10_WZE-UAV\\Auswertung_findatree\\Datasplit\\ROI\\rgb\"\n",
    "\n",
    "# 4 channel input (r-g-b-nir)\n",
    "data_path = r\"D:\\Drohnendaten\\10_WZE-UAV\\Auswertung_findatree\\Datasplit\\ROI\\rgb-nir\"\n",
    "\n",
    "# 5 channel input (r-g-b-re-nir)\n",
    "#data_path = r\"D:\\Drohnendaten\\10_WZE-UAV\\Auswertung_findatree\\Datasplit\\ROI\\rgb-re-nir\"\n",
    "#####################################################################################"
   ]
  },
  {
   "cell_type": "markdown",
   "id": "4560ce64",
   "metadata": {},
   "source": [
    "#### Get all file paths"
   ]
  },
  {
   "cell_type": "code",
   "execution_count": 8,
   "id": "aa072e4c",
   "metadata": {},
   "outputs": [],
   "source": [
    "fn_list = os.listdir(data_path)\n",
    "path_list = []\n",
    "# Iterate over all datafiles\n",
    "for year in fn_list:\n",
    "    year_dir = f'{data_path}\\\\{year}'\n",
    "    for filename in os.listdir(year_dir):\n",
    "        path = f'{year_dir}\\\\{filename}'\n",
    "        path_list.append(path)"
   ]
  },
  {
   "cell_type": "code",
   "execution_count": 9,
   "id": "a46baae4",
   "metadata": {},
   "outputs": [
    {
     "data": {
      "text/plain": [
       "['D:\\\\Drohnendaten\\\\10_WZE-UAV\\\\Auswertung_findatree\\\\Datasplit\\\\ROI\\\\rgb-nir\\\\2020\\\\tnr10527_rois.hdf5',\n",
       " 'D:\\\\Drohnendaten\\\\10_WZE-UAV\\\\Auswertung_findatree\\\\Datasplit\\\\ROI\\\\rgb-nir\\\\2020\\\\tnr10533_rois.hdf5',\n",
       " 'D:\\\\Drohnendaten\\\\10_WZE-UAV\\\\Auswertung_findatree\\\\Datasplit\\\\ROI\\\\rgb-nir\\\\2020\\\\tnr10545_rois.hdf5',\n",
       " 'D:\\\\Drohnendaten\\\\10_WZE-UAV\\\\Auswertung_findatree\\\\Datasplit\\\\ROI\\\\rgb-nir\\\\2020\\\\tnr10547_rois.hdf5',\n",
       " 'D:\\\\Drohnendaten\\\\10_WZE-UAV\\\\Auswertung_findatree\\\\Datasplit\\\\ROI\\\\rgb-nir\\\\2020\\\\tnr10912_rois.hdf5',\n",
       " 'D:\\\\Drohnendaten\\\\10_WZE-UAV\\\\Auswertung_findatree\\\\Datasplit\\\\ROI\\\\rgb-nir\\\\2020\\\\tnr11032_rois.hdf5',\n",
       " 'D:\\\\Drohnendaten\\\\10_WZE-UAV\\\\Auswertung_findatree\\\\Datasplit\\\\ROI\\\\rgb-nir\\\\2020\\\\tnr11040_rois.hdf5',\n",
       " 'D:\\\\Drohnendaten\\\\10_WZE-UAV\\\\Auswertung_findatree\\\\Datasplit\\\\ROI\\\\rgb-nir\\\\2020\\\\tnr11044_rois.hdf5',\n",
       " 'D:\\\\Drohnendaten\\\\10_WZE-UAV\\\\Auswertung_findatree\\\\Datasplit\\\\ROI\\\\rgb-nir\\\\2020\\\\tnr11048_rois.hdf5',\n",
       " 'D:\\\\Drohnendaten\\\\10_WZE-UAV\\\\Auswertung_findatree\\\\Datasplit\\\\ROI\\\\rgb-nir\\\\2020\\\\tnr11052_rois.hdf5',\n",
       " 'D:\\\\Drohnendaten\\\\10_WZE-UAV\\\\Auswertung_findatree\\\\Datasplit\\\\ROI\\\\rgb-nir\\\\2020\\\\tnr11056_rois.hdf5',\n",
       " 'D:\\\\Drohnendaten\\\\10_WZE-UAV\\\\Auswertung_findatree\\\\Datasplit\\\\ROI\\\\rgb-nir\\\\2020\\\\tnr11078_rois.hdf5',\n",
       " 'D:\\\\Drohnendaten\\\\10_WZE-UAV\\\\Auswertung_findatree\\\\Datasplit\\\\ROI\\\\rgb-nir\\\\2020\\\\tnr11080_rois.hdf5',\n",
       " 'D:\\\\Drohnendaten\\\\10_WZE-UAV\\\\Auswertung_findatree\\\\Datasplit\\\\ROI\\\\rgb-nir\\\\2020\\\\tnr11090_rois.hdf5',\n",
       " 'D:\\\\Drohnendaten\\\\10_WZE-UAV\\\\Auswertung_findatree\\\\Datasplit\\\\ROI\\\\rgb-nir\\\\2020\\\\tnr11092_rois.hdf5',\n",
       " 'D:\\\\Drohnendaten\\\\10_WZE-UAV\\\\Auswertung_findatree\\\\Datasplit\\\\ROI\\\\rgb-nir\\\\2020\\\\tnr11179_rois.hdf5',\n",
       " 'D:\\\\Drohnendaten\\\\10_WZE-UAV\\\\Auswertung_findatree\\\\Datasplit\\\\ROI\\\\rgb-nir\\\\2020\\\\tnr11189_rois.hdf5',\n",
       " 'D:\\\\Drohnendaten\\\\10_WZE-UAV\\\\Auswertung_findatree\\\\Datasplit\\\\ROI\\\\rgb-nir\\\\2020\\\\tnr11325_rois.hdf5',\n",
       " 'D:\\\\Drohnendaten\\\\10_WZE-UAV\\\\Auswertung_findatree\\\\Datasplit\\\\ROI\\\\rgb-nir\\\\2020\\\\tnr11327_rois.hdf5',\n",
       " 'D:\\\\Drohnendaten\\\\10_WZE-UAV\\\\Auswertung_findatree\\\\Datasplit\\\\ROI\\\\rgb-nir\\\\2020\\\\tnr11453_rois.hdf5',\n",
       " 'D:\\\\Drohnendaten\\\\10_WZE-UAV\\\\Auswertung_findatree\\\\Datasplit\\\\ROI\\\\rgb-nir\\\\2020\\\\tnr11459_rois.hdf5',\n",
       " 'D:\\\\Drohnendaten\\\\10_WZE-UAV\\\\Auswertung_findatree\\\\Datasplit\\\\ROI\\\\rgb-nir\\\\2020\\\\tnr11576_rois.hdf5',\n",
       " 'D:\\\\Drohnendaten\\\\10_WZE-UAV\\\\Auswertung_findatree\\\\Datasplit\\\\ROI\\\\rgb-nir\\\\2020\\\\tnr11581_rois.hdf5',\n",
       " 'D:\\\\Drohnendaten\\\\10_WZE-UAV\\\\Auswertung_findatree\\\\Datasplit\\\\ROI\\\\rgb-nir\\\\2020\\\\tnr11597_rois.hdf5',\n",
       " 'D:\\\\Drohnendaten\\\\10_WZE-UAV\\\\Auswertung_findatree\\\\Datasplit\\\\ROI\\\\rgb-nir\\\\2020\\\\tnr11601_rois.hdf5',\n",
       " 'D:\\\\Drohnendaten\\\\10_WZE-UAV\\\\Auswertung_findatree\\\\Datasplit\\\\ROI\\\\rgb-nir\\\\2020\\\\tnr11622_rois.hdf5',\n",
       " 'D:\\\\Drohnendaten\\\\10_WZE-UAV\\\\Auswertung_findatree\\\\Datasplit\\\\ROI\\\\rgb-nir\\\\2020\\\\tnr11626_rois.hdf5',\n",
       " 'D:\\\\Drohnendaten\\\\10_WZE-UAV\\\\Auswertung_findatree\\\\Datasplit\\\\ROI\\\\rgb-nir\\\\2020\\\\tnr11638_rois.hdf5',\n",
       " 'D:\\\\Drohnendaten\\\\10_WZE-UAV\\\\Auswertung_findatree\\\\Datasplit\\\\ROI\\\\rgb-nir\\\\2020\\\\tnr11640_rois.hdf5',\n",
       " 'D:\\\\Drohnendaten\\\\10_WZE-UAV\\\\Auswertung_findatree\\\\Datasplit\\\\ROI\\\\rgb-nir\\\\2020\\\\tnr11727_rois.hdf5',\n",
       " 'D:\\\\Drohnendaten\\\\10_WZE-UAV\\\\Auswertung_findatree\\\\Datasplit\\\\ROI\\\\rgb-nir\\\\2020\\\\tnr11733_rois.hdf5',\n",
       " 'D:\\\\Drohnendaten\\\\10_WZE-UAV\\\\Auswertung_findatree\\\\Datasplit\\\\ROI\\\\rgb-nir\\\\2020\\\\tnr11866_rois.hdf5',\n",
       " 'D:\\\\Drohnendaten\\\\10_WZE-UAV\\\\Auswertung_findatree\\\\Datasplit\\\\ROI\\\\rgb-nir\\\\2020\\\\tnr11874_rois.hdf5',\n",
       " 'D:\\\\Drohnendaten\\\\10_WZE-UAV\\\\Auswertung_findatree\\\\Datasplit\\\\ROI\\\\rgb-nir\\\\2020\\\\tnr11878_rois.hdf5',\n",
       " 'D:\\\\Drohnendaten\\\\10_WZE-UAV\\\\Auswertung_findatree\\\\Datasplit\\\\ROI\\\\rgb-nir\\\\2020\\\\tnr11_rois.hdf5',\n",
       " 'D:\\\\Drohnendaten\\\\10_WZE-UAV\\\\Auswertung_findatree\\\\Datasplit\\\\ROI\\\\rgb-nir\\\\2020\\\\tnr12013_rois.hdf5',\n",
       " 'D:\\\\Drohnendaten\\\\10_WZE-UAV\\\\Auswertung_findatree\\\\Datasplit\\\\ROI\\\\rgb-nir\\\\2020\\\\tnr12019_rois.hdf5',\n",
       " 'D:\\\\Drohnendaten\\\\10_WZE-UAV\\\\Auswertung_findatree\\\\Datasplit\\\\ROI\\\\rgb-nir\\\\2020\\\\tnr12120_rois.hdf5',\n",
       " 'D:\\\\Drohnendaten\\\\10_WZE-UAV\\\\Auswertung_findatree\\\\Datasplit\\\\ROI\\\\rgb-nir\\\\2020\\\\tnr12124_rois.hdf5',\n",
       " 'D:\\\\Drohnendaten\\\\10_WZE-UAV\\\\Auswertung_findatree\\\\Datasplit\\\\ROI\\\\rgb-nir\\\\2020\\\\tnr12153_rois.hdf5',\n",
       " 'D:\\\\Drohnendaten\\\\10_WZE-UAV\\\\Auswertung_findatree\\\\Datasplit\\\\ROI\\\\rgb-nir\\\\2020\\\\tnr12161_rois.hdf5',\n",
       " 'D:\\\\Drohnendaten\\\\10_WZE-UAV\\\\Auswertung_findatree\\\\Datasplit\\\\ROI\\\\rgb-nir\\\\2020\\\\tnr12169_rois.hdf5',\n",
       " 'D:\\\\Drohnendaten\\\\10_WZE-UAV\\\\Auswertung_findatree\\\\Datasplit\\\\ROI\\\\rgb-nir\\\\2020\\\\tnr12179_rois.hdf5',\n",
       " 'D:\\\\Drohnendaten\\\\10_WZE-UAV\\\\Auswertung_findatree\\\\Datasplit\\\\ROI\\\\rgb-nir\\\\2020\\\\tnr12285_rois.hdf5',\n",
       " 'D:\\\\Drohnendaten\\\\10_WZE-UAV\\\\Auswertung_findatree\\\\Datasplit\\\\ROI\\\\rgb-nir\\\\2020\\\\tnr12426_rois.hdf5',\n",
       " 'D:\\\\Drohnendaten\\\\10_WZE-UAV\\\\Auswertung_findatree\\\\Datasplit\\\\ROI\\\\rgb-nir\\\\2020\\\\tnr12549_rois.hdf5',\n",
       " 'D:\\\\Drohnendaten\\\\10_WZE-UAV\\\\Auswertung_findatree\\\\Datasplit\\\\ROI\\\\rgb-nir\\\\2020\\\\tnr12553_rois.hdf5',\n",
       " 'D:\\\\Drohnendaten\\\\10_WZE-UAV\\\\Auswertung_findatree\\\\Datasplit\\\\ROI\\\\rgb-nir\\\\2020\\\\tnr12557_rois.hdf5',\n",
       " 'D:\\\\Drohnendaten\\\\10_WZE-UAV\\\\Auswertung_findatree\\\\Datasplit\\\\ROI\\\\rgb-nir\\\\2020\\\\tnr12673_rois.hdf5',\n",
       " 'D:\\\\Drohnendaten\\\\10_WZE-UAV\\\\Auswertung_findatree\\\\Datasplit\\\\ROI\\\\rgb-nir\\\\2020\\\\tnr12678_rois.hdf5',\n",
       " 'D:\\\\Drohnendaten\\\\10_WZE-UAV\\\\Auswertung_findatree\\\\Datasplit\\\\ROI\\\\rgb-nir\\\\2020\\\\tnr12694_rois.hdf5',\n",
       " 'D:\\\\Drohnendaten\\\\10_WZE-UAV\\\\Auswertung_findatree\\\\Datasplit\\\\ROI\\\\rgb-nir\\\\2020\\\\tnr12698_rois.hdf5',\n",
       " 'D:\\\\Drohnendaten\\\\10_WZE-UAV\\\\Auswertung_findatree\\\\Datasplit\\\\ROI\\\\rgb-nir\\\\2020\\\\tnr12702_rois.hdf5',\n",
       " 'D:\\\\Drohnendaten\\\\10_WZE-UAV\\\\Auswertung_findatree\\\\Datasplit\\\\ROI\\\\rgb-nir\\\\2020\\\\tnr12713_rois.hdf5',\n",
       " 'D:\\\\Drohnendaten\\\\10_WZE-UAV\\\\Auswertung_findatree\\\\Datasplit\\\\ROI\\\\rgb-nir\\\\2020\\\\tnr12715_rois.hdf5',\n",
       " 'D:\\\\Drohnendaten\\\\10_WZE-UAV\\\\Auswertung_findatree\\\\Datasplit\\\\ROI\\\\rgb-nir\\\\2020\\\\tnr12717_rois.hdf5',\n",
       " 'D:\\\\Drohnendaten\\\\10_WZE-UAV\\\\Auswertung_findatree\\\\Datasplit\\\\ROI\\\\rgb-nir\\\\2020\\\\tnr12719_rois.hdf5',\n",
       " 'D:\\\\Drohnendaten\\\\10_WZE-UAV\\\\Auswertung_findatree\\\\Datasplit\\\\ROI\\\\rgb-nir\\\\2020\\\\tnr12950_rois.hdf5',\n",
       " 'D:\\\\Drohnendaten\\\\10_WZE-UAV\\\\Auswertung_findatree\\\\Datasplit\\\\ROI\\\\rgb-nir\\\\2020\\\\tnr12960_rois.hdf5',\n",
       " 'D:\\\\Drohnendaten\\\\10_WZE-UAV\\\\Auswertung_findatree\\\\Datasplit\\\\ROI\\\\rgb-nir\\\\2020\\\\tnr13212_rois.hdf5',\n",
       " 'D:\\\\Drohnendaten\\\\10_WZE-UAV\\\\Auswertung_findatree\\\\Datasplit\\\\ROI\\\\rgb-nir\\\\2020\\\\tnr13225_rois.hdf5',\n",
       " 'D:\\\\Drohnendaten\\\\10_WZE-UAV\\\\Auswertung_findatree\\\\Datasplit\\\\ROI\\\\rgb-nir\\\\2020\\\\tnr13233_rois.hdf5',\n",
       " 'D:\\\\Drohnendaten\\\\10_WZE-UAV\\\\Auswertung_findatree\\\\Datasplit\\\\ROI\\\\rgb-nir\\\\2020\\\\tnr13259_rois.hdf5',\n",
       " 'D:\\\\Drohnendaten\\\\10_WZE-UAV\\\\Auswertung_findatree\\\\Datasplit\\\\ROI\\\\rgb-nir\\\\2020\\\\tnr13508_rois.hdf5',\n",
       " 'D:\\\\Drohnendaten\\\\10_WZE-UAV\\\\Auswertung_findatree\\\\Datasplit\\\\ROI\\\\rgb-nir\\\\2020\\\\tnr13758_rois.hdf5',\n",
       " 'D:\\\\Drohnendaten\\\\10_WZE-UAV\\\\Auswertung_findatree\\\\Datasplit\\\\ROI\\\\rgb-nir\\\\2020\\\\tnr13766_rois.hdf5',\n",
       " 'D:\\\\Drohnendaten\\\\10_WZE-UAV\\\\Auswertung_findatree\\\\Datasplit\\\\ROI\\\\rgb-nir\\\\2020\\\\tnr13779_rois.hdf5',\n",
       " 'D:\\\\Drohnendaten\\\\10_WZE-UAV\\\\Auswertung_findatree\\\\Datasplit\\\\ROI\\\\rgb-nir\\\\2020\\\\tnr13819_rois.hdf5',\n",
       " 'D:\\\\Drohnendaten\\\\10_WZE-UAV\\\\Auswertung_findatree\\\\Datasplit\\\\ROI\\\\rgb-nir\\\\2020\\\\tnr1381_rois.hdf5',\n",
       " 'D:\\\\Drohnendaten\\\\10_WZE-UAV\\\\Auswertung_findatree\\\\Datasplit\\\\ROI\\\\rgb-nir\\\\2020\\\\tnr13825_rois.hdf5',\n",
       " 'D:\\\\Drohnendaten\\\\10_WZE-UAV\\\\Auswertung_findatree\\\\Datasplit\\\\ROI\\\\rgb-nir\\\\2020\\\\tnr13898_rois.hdf5',\n",
       " 'D:\\\\Drohnendaten\\\\10_WZE-UAV\\\\Auswertung_findatree\\\\Datasplit\\\\ROI\\\\rgb-nir\\\\2020\\\\tnr13922_rois.hdf5',\n",
       " 'D:\\\\Drohnendaten\\\\10_WZE-UAV\\\\Auswertung_findatree\\\\Datasplit\\\\ROI\\\\rgb-nir\\\\2020\\\\tnr14156_rois.hdf5',\n",
       " 'D:\\\\Drohnendaten\\\\10_WZE-UAV\\\\Auswertung_findatree\\\\Datasplit\\\\ROI\\\\rgb-nir\\\\2020\\\\tnr14293_rois.hdf5',\n",
       " 'D:\\\\Drohnendaten\\\\10_WZE-UAV\\\\Auswertung_findatree\\\\Datasplit\\\\ROI\\\\rgb-nir\\\\2020\\\\tnr14327_rois.hdf5',\n",
       " 'D:\\\\Drohnendaten\\\\10_WZE-UAV\\\\Auswertung_findatree\\\\Datasplit\\\\ROI\\\\rgb-nir\\\\2020\\\\tnr14666_rois.hdf5',\n",
       " 'D:\\\\Drohnendaten\\\\10_WZE-UAV\\\\Auswertung_findatree\\\\Datasplit\\\\ROI\\\\rgb-nir\\\\2020\\\\tnr14723_rois.hdf5',\n",
       " 'D:\\\\Drohnendaten\\\\10_WZE-UAV\\\\Auswertung_findatree\\\\Datasplit\\\\ROI\\\\rgb-nir\\\\2020\\\\tnr14727_rois.hdf5',\n",
       " 'D:\\\\Drohnendaten\\\\10_WZE-UAV\\\\Auswertung_findatree\\\\Datasplit\\\\ROI\\\\rgb-nir\\\\2020\\\\tnr14732_rois.hdf5',\n",
       " 'D:\\\\Drohnendaten\\\\10_WZE-UAV\\\\Auswertung_findatree\\\\Datasplit\\\\ROI\\\\rgb-nir\\\\2020\\\\tnr14781_rois.hdf5',\n",
       " 'D:\\\\Drohnendaten\\\\10_WZE-UAV\\\\Auswertung_findatree\\\\Datasplit\\\\ROI\\\\rgb-nir\\\\2020\\\\tnr14877_rois.hdf5',\n",
       " 'D:\\\\Drohnendaten\\\\10_WZE-UAV\\\\Auswertung_findatree\\\\Datasplit\\\\ROI\\\\rgb-nir\\\\2020\\\\tnr14879_rois.hdf5',\n",
       " 'D:\\\\Drohnendaten\\\\10_WZE-UAV\\\\Auswertung_findatree\\\\Datasplit\\\\ROI\\\\rgb-nir\\\\2020\\\\tnr14887_rois.hdf5',\n",
       " 'D:\\\\Drohnendaten\\\\10_WZE-UAV\\\\Auswertung_findatree\\\\Datasplit\\\\ROI\\\\rgb-nir\\\\2020\\\\tnr15016_rois.hdf5',\n",
       " 'D:\\\\Drohnendaten\\\\10_WZE-UAV\\\\Auswertung_findatree\\\\Datasplit\\\\ROI\\\\rgb-nir\\\\2020\\\\tnr15020_rois.hdf5',\n",
       " 'D:\\\\Drohnendaten\\\\10_WZE-UAV\\\\Auswertung_findatree\\\\Datasplit\\\\ROI\\\\rgb-nir\\\\2020\\\\tnr15027_rois.hdf5',\n",
       " 'D:\\\\Drohnendaten\\\\10_WZE-UAV\\\\Auswertung_findatree\\\\Datasplit\\\\ROI\\\\rgb-nir\\\\2020\\\\tnr15031_rois.hdf5',\n",
       " 'D:\\\\Drohnendaten\\\\10_WZE-UAV\\\\Auswertung_findatree\\\\Datasplit\\\\ROI\\\\rgb-nir\\\\2020\\\\tnr15035_rois.hdf5',\n",
       " 'D:\\\\Drohnendaten\\\\10_WZE-UAV\\\\Auswertung_findatree\\\\Datasplit\\\\ROI\\\\rgb-nir\\\\2020\\\\tnr15039_rois.hdf5',\n",
       " 'D:\\\\Drohnendaten\\\\10_WZE-UAV\\\\Auswertung_findatree\\\\Datasplit\\\\ROI\\\\rgb-nir\\\\2020\\\\tnr15043_rois.hdf5',\n",
       " 'D:\\\\Drohnendaten\\\\10_WZE-UAV\\\\Auswertung_findatree\\\\Datasplit\\\\ROI\\\\rgb-nir\\\\2020\\\\tnr15046_rois.hdf5',\n",
       " 'D:\\\\Drohnendaten\\\\10_WZE-UAV\\\\Auswertung_findatree\\\\Datasplit\\\\ROI\\\\rgb-nir\\\\2020\\\\tnr15050_rois.hdf5',\n",
       " 'D:\\\\Drohnendaten\\\\10_WZE-UAV\\\\Auswertung_findatree\\\\Datasplit\\\\ROI\\\\rgb-nir\\\\2020\\\\tnr15101_rois.hdf5',\n",
       " 'D:\\\\Drohnendaten\\\\10_WZE-UAV\\\\Auswertung_findatree\\\\Datasplit\\\\ROI\\\\rgb-nir\\\\2020\\\\tnr15273_rois.hdf5',\n",
       " 'D:\\\\Drohnendaten\\\\10_WZE-UAV\\\\Auswertung_findatree\\\\Datasplit\\\\ROI\\\\rgb-nir\\\\2020\\\\tnr15277_rois.hdf5',\n",
       " 'D:\\\\Drohnendaten\\\\10_WZE-UAV\\\\Auswertung_findatree\\\\Datasplit\\\\ROI\\\\rgb-nir\\\\2020\\\\tnr15297_rois.hdf5',\n",
       " 'D:\\\\Drohnendaten\\\\10_WZE-UAV\\\\Auswertung_findatree\\\\Datasplit\\\\ROI\\\\rgb-nir\\\\2020\\\\tnr15299_rois.hdf5',\n",
       " 'D:\\\\Drohnendaten\\\\10_WZE-UAV\\\\Auswertung_findatree\\\\Datasplit\\\\ROI\\\\rgb-nir\\\\2020\\\\tnr15301_rois.hdf5',\n",
       " 'D:\\\\Drohnendaten\\\\10_WZE-UAV\\\\Auswertung_findatree\\\\Datasplit\\\\ROI\\\\rgb-nir\\\\2020\\\\tnr15303_rois.hdf5',\n",
       " 'D:\\\\Drohnendaten\\\\10_WZE-UAV\\\\Auswertung_findatree\\\\Datasplit\\\\ROI\\\\rgb-nir\\\\2020\\\\tnr15306_rois.hdf5',\n",
       " 'D:\\\\Drohnendaten\\\\10_WZE-UAV\\\\Auswertung_findatree\\\\Datasplit\\\\ROI\\\\rgb-nir\\\\2020\\\\tnr15311_rois.hdf5',\n",
       " 'D:\\\\Drohnendaten\\\\10_WZE-UAV\\\\Auswertung_findatree\\\\Datasplit\\\\ROI\\\\rgb-nir\\\\2020\\\\tnr15313_rois.hdf5',\n",
       " 'D:\\\\Drohnendaten\\\\10_WZE-UAV\\\\Auswertung_findatree\\\\Datasplit\\\\ROI\\\\rgb-nir\\\\2020\\\\tnr15319_rois.hdf5',\n",
       " 'D:\\\\Drohnendaten\\\\10_WZE-UAV\\\\Auswertung_findatree\\\\Datasplit\\\\ROI\\\\rgb-nir\\\\2020\\\\tnr15327_rois.hdf5',\n",
       " 'D:\\\\Drohnendaten\\\\10_WZE-UAV\\\\Auswertung_findatree\\\\Datasplit\\\\ROI\\\\rgb-nir\\\\2020\\\\tnr15519_rois.hdf5',\n",
       " 'D:\\\\Drohnendaten\\\\10_WZE-UAV\\\\Auswertung_findatree\\\\Datasplit\\\\ROI\\\\rgb-nir\\\\2020\\\\tnr15521_rois.hdf5',\n",
       " 'D:\\\\Drohnendaten\\\\10_WZE-UAV\\\\Auswertung_findatree\\\\Datasplit\\\\ROI\\\\rgb-nir\\\\2020\\\\tnr15531_rois.hdf5',\n",
       " 'D:\\\\Drohnendaten\\\\10_WZE-UAV\\\\Auswertung_findatree\\\\Datasplit\\\\ROI\\\\rgb-nir\\\\2020\\\\tnr15537_rois.hdf5',\n",
       " 'D:\\\\Drohnendaten\\\\10_WZE-UAV\\\\Auswertung_findatree\\\\Datasplit\\\\ROI\\\\rgb-nir\\\\2020\\\\tnr15730_rois.hdf5',\n",
       " 'D:\\\\Drohnendaten\\\\10_WZE-UAV\\\\Auswertung_findatree\\\\Datasplit\\\\ROI\\\\rgb-nir\\\\2020\\\\tnr15736_rois.hdf5',\n",
       " 'D:\\\\Drohnendaten\\\\10_WZE-UAV\\\\Auswertung_findatree\\\\Datasplit\\\\ROI\\\\rgb-nir\\\\2020\\\\tnr15746_rois.hdf5',\n",
       " 'D:\\\\Drohnendaten\\\\10_WZE-UAV\\\\Auswertung_findatree\\\\Datasplit\\\\ROI\\\\rgb-nir\\\\2020\\\\tnr15748_rois.hdf5',\n",
       " 'D:\\\\Drohnendaten\\\\10_WZE-UAV\\\\Auswertung_findatree\\\\Datasplit\\\\ROI\\\\rgb-nir\\\\2020\\\\tnr15780_rois.hdf5',\n",
       " 'D:\\\\Drohnendaten\\\\10_WZE-UAV\\\\Auswertung_findatree\\\\Datasplit\\\\ROI\\\\rgb-nir\\\\2020\\\\tnr15966_rois.hdf5',\n",
       " 'D:\\\\Drohnendaten\\\\10_WZE-UAV\\\\Auswertung_findatree\\\\Datasplit\\\\ROI\\\\rgb-nir\\\\2020\\\\tnr15974_rois.hdf5',\n",
       " 'D:\\\\Drohnendaten\\\\10_WZE-UAV\\\\Auswertung_findatree\\\\Datasplit\\\\ROI\\\\rgb-nir\\\\2020\\\\tnr15986_rois.hdf5',\n",
       " 'D:\\\\Drohnendaten\\\\10_WZE-UAV\\\\Auswertung_findatree\\\\Datasplit\\\\ROI\\\\rgb-nir\\\\2020\\\\tnr15988_rois.hdf5',\n",
       " 'D:\\\\Drohnendaten\\\\10_WZE-UAV\\\\Auswertung_findatree\\\\Datasplit\\\\ROI\\\\rgb-nir\\\\2020\\\\tnr15998_rois.hdf5',\n",
       " 'D:\\\\Drohnendaten\\\\10_WZE-UAV\\\\Auswertung_findatree\\\\Datasplit\\\\ROI\\\\rgb-nir\\\\2020\\\\tnr16173_rois.hdf5',\n",
       " 'D:\\\\Drohnendaten\\\\10_WZE-UAV\\\\Auswertung_findatree\\\\Datasplit\\\\ROI\\\\rgb-nir\\\\2020\\\\tnr16177_rois.hdf5',\n",
       " 'D:\\\\Drohnendaten\\\\10_WZE-UAV\\\\Auswertung_findatree\\\\Datasplit\\\\ROI\\\\rgb-nir\\\\2020\\\\tnr16181_rois.hdf5',\n",
       " 'D:\\\\Drohnendaten\\\\10_WZE-UAV\\\\Auswertung_findatree\\\\Datasplit\\\\ROI\\\\rgb-nir\\\\2020\\\\tnr16193_rois.hdf5',\n",
       " 'D:\\\\Drohnendaten\\\\10_WZE-UAV\\\\Auswertung_findatree\\\\Datasplit\\\\ROI\\\\rgb-nir\\\\2020\\\\tnr16197_rois.hdf5',\n",
       " 'D:\\\\Drohnendaten\\\\10_WZE-UAV\\\\Auswertung_findatree\\\\Datasplit\\\\ROI\\\\rgb-nir\\\\2020\\\\tnr16201_rois.hdf5',\n",
       " 'D:\\\\Drohnendaten\\\\10_WZE-UAV\\\\Auswertung_findatree\\\\Datasplit\\\\ROI\\\\rgb-nir\\\\2020\\\\tnr16205_rois.hdf5',\n",
       " 'D:\\\\Drohnendaten\\\\10_WZE-UAV\\\\Auswertung_findatree\\\\Datasplit\\\\ROI\\\\rgb-nir\\\\2020\\\\tnr16211_rois.hdf5',\n",
       " 'D:\\\\Drohnendaten\\\\10_WZE-UAV\\\\Auswertung_findatree\\\\Datasplit\\\\ROI\\\\rgb-nir\\\\2020\\\\tnr16223_rois.hdf5',\n",
       " 'D:\\\\Drohnendaten\\\\10_WZE-UAV\\\\Auswertung_findatree\\\\Datasplit\\\\ROI\\\\rgb-nir\\\\2020\\\\tnr16227_rois.hdf5',\n",
       " 'D:\\\\Drohnendaten\\\\10_WZE-UAV\\\\Auswertung_findatree\\\\Datasplit\\\\ROI\\\\rgb-nir\\\\2020\\\\tnr16400_rois.hdf5',\n",
       " 'D:\\\\Drohnendaten\\\\10_WZE-UAV\\\\Auswertung_findatree\\\\Datasplit\\\\ROI\\\\rgb-nir\\\\2020\\\\tnr16404_rois.hdf5',\n",
       " 'D:\\\\Drohnendaten\\\\10_WZE-UAV\\\\Auswertung_findatree\\\\Datasplit\\\\ROI\\\\rgb-nir\\\\2020\\\\tnr16412_rois.hdf5',\n",
       " 'D:\\\\Drohnendaten\\\\10_WZE-UAV\\\\Auswertung_findatree\\\\Datasplit\\\\ROI\\\\rgb-nir\\\\2020\\\\tnr16422_rois.hdf5',\n",
       " 'D:\\\\Drohnendaten\\\\10_WZE-UAV\\\\Auswertung_findatree\\\\Datasplit\\\\ROI\\\\rgb-nir\\\\2020\\\\tnr16426_rois.hdf5',\n",
       " 'D:\\\\Drohnendaten\\\\10_WZE-UAV\\\\Auswertung_findatree\\\\Datasplit\\\\ROI\\\\rgb-nir\\\\2020\\\\tnr16620_rois.hdf5',\n",
       " 'D:\\\\Drohnendaten\\\\10_WZE-UAV\\\\Auswertung_findatree\\\\Datasplit\\\\ROI\\\\rgb-nir\\\\2020\\\\tnr16624_rois.hdf5',\n",
       " 'D:\\\\Drohnendaten\\\\10_WZE-UAV\\\\Auswertung_findatree\\\\Datasplit\\\\ROI\\\\rgb-nir\\\\2020\\\\tnr16632_rois.hdf5',\n",
       " 'D:\\\\Drohnendaten\\\\10_WZE-UAV\\\\Auswertung_findatree\\\\Datasplit\\\\ROI\\\\rgb-nir\\\\2020\\\\tnr16639_rois.hdf5',\n",
       " 'D:\\\\Drohnendaten\\\\10_WZE-UAV\\\\Auswertung_findatree\\\\Datasplit\\\\ROI\\\\rgb-nir\\\\2020\\\\tnr16643_rois.hdf5',\n",
       " 'D:\\\\Drohnendaten\\\\10_WZE-UAV\\\\Auswertung_findatree\\\\Datasplit\\\\ROI\\\\rgb-nir\\\\2020\\\\tnr16645_rois.hdf5',\n",
       " 'D:\\\\Drohnendaten\\\\10_WZE-UAV\\\\Auswertung_findatree\\\\Datasplit\\\\ROI\\\\rgb-nir\\\\2020\\\\tnr16649_rois.hdf5',\n",
       " 'D:\\\\Drohnendaten\\\\10_WZE-UAV\\\\Auswertung_findatree\\\\Datasplit\\\\ROI\\\\rgb-nir\\\\2020\\\\tnr16657_rois.hdf5',\n",
       " 'D:\\\\Drohnendaten\\\\10_WZE-UAV\\\\Auswertung_findatree\\\\Datasplit\\\\ROI\\\\rgb-nir\\\\2020\\\\tnr16829_rois.hdf5',\n",
       " 'D:\\\\Drohnendaten\\\\10_WZE-UAV\\\\Auswertung_findatree\\\\Datasplit\\\\ROI\\\\rgb-nir\\\\2020\\\\tnr16833_rois.hdf5',\n",
       " 'D:\\\\Drohnendaten\\\\10_WZE-UAV\\\\Auswertung_findatree\\\\Datasplit\\\\ROI\\\\rgb-nir\\\\2020\\\\tnr17019_rois.hdf5',\n",
       " 'D:\\\\Drohnendaten\\\\10_WZE-UAV\\\\Auswertung_findatree\\\\Datasplit\\\\ROI\\\\rgb-nir\\\\2020\\\\tnr17032_rois.hdf5',\n",
       " 'D:\\\\Drohnendaten\\\\10_WZE-UAV\\\\Auswertung_findatree\\\\Datasplit\\\\ROI\\\\rgb-nir\\\\2020\\\\tnr17034_rois.hdf5',\n",
       " 'D:\\\\Drohnendaten\\\\10_WZE-UAV\\\\Auswertung_findatree\\\\Datasplit\\\\ROI\\\\rgb-nir\\\\2020\\\\tnr17042_rois.hdf5',\n",
       " 'D:\\\\Drohnendaten\\\\10_WZE-UAV\\\\Auswertung_findatree\\\\Datasplit\\\\ROI\\\\rgb-nir\\\\2020\\\\tnr17339_rois.hdf5',\n",
       " 'D:\\\\Drohnendaten\\\\10_WZE-UAV\\\\Auswertung_findatree\\\\Datasplit\\\\ROI\\\\rgb-nir\\\\2020\\\\tnr174_rois.hdf5',\n",
       " 'D:\\\\Drohnendaten\\\\10_WZE-UAV\\\\Auswertung_findatree\\\\Datasplit\\\\ROI\\\\rgb-nir\\\\2020\\\\tnr176_rois.hdf5',\n",
       " 'D:\\\\Drohnendaten\\\\10_WZE-UAV\\\\Auswertung_findatree\\\\Datasplit\\\\ROI\\\\rgb-nir\\\\2020\\\\tnr182_rois.hdf5',\n",
       " 'D:\\\\Drohnendaten\\\\10_WZE-UAV\\\\Auswertung_findatree\\\\Datasplit\\\\ROI\\\\rgb-nir\\\\2020\\\\tnr184_rois.hdf5',\n",
       " 'D:\\\\Drohnendaten\\\\10_WZE-UAV\\\\Auswertung_findatree\\\\Datasplit\\\\ROI\\\\rgb-nir\\\\2020\\\\tnr185_rois.hdf5',\n",
       " 'D:\\\\Drohnendaten\\\\10_WZE-UAV\\\\Auswertung_findatree\\\\Datasplit\\\\ROI\\\\rgb-nir\\\\2020\\\\tnr188_rois.hdf5',\n",
       " 'D:\\\\Drohnendaten\\\\10_WZE-UAV\\\\Auswertung_findatree\\\\Datasplit\\\\ROI\\\\rgb-nir\\\\2020\\\\tnr1898_rois.hdf5',\n",
       " 'D:\\\\Drohnendaten\\\\10_WZE-UAV\\\\Auswertung_findatree\\\\Datasplit\\\\ROI\\\\rgb-nir\\\\2020\\\\tnr192_rois.hdf5',\n",
       " 'D:\\\\Drohnendaten\\\\10_WZE-UAV\\\\Auswertung_findatree\\\\Datasplit\\\\ROI\\\\rgb-nir\\\\2020\\\\tnr194_rois.hdf5',\n",
       " 'D:\\\\Drohnendaten\\\\10_WZE-UAV\\\\Auswertung_findatree\\\\Datasplit\\\\ROI\\\\rgb-nir\\\\2020\\\\tnr196_rois.hdf5',\n",
       " 'D:\\\\Drohnendaten\\\\10_WZE-UAV\\\\Auswertung_findatree\\\\Datasplit\\\\ROI\\\\rgb-nir\\\\2020\\\\tnr200_rois.hdf5',\n",
       " 'D:\\\\Drohnendaten\\\\10_WZE-UAV\\\\Auswertung_findatree\\\\Datasplit\\\\ROI\\\\rgb-nir\\\\2020\\\\tnr2386_rois.hdf5',\n",
       " 'D:\\\\Drohnendaten\\\\10_WZE-UAV\\\\Auswertung_findatree\\\\Datasplit\\\\ROI\\\\rgb-nir\\\\2020\\\\tnr2399_rois.hdf5',\n",
       " 'D:\\\\Drohnendaten\\\\10_WZE-UAV\\\\Auswertung_findatree\\\\Datasplit\\\\ROI\\\\rgb-nir\\\\2020\\\\tnr2411_rois.hdf5',\n",
       " 'D:\\\\Drohnendaten\\\\10_WZE-UAV\\\\Auswertung_findatree\\\\Datasplit\\\\ROI\\\\rgb-nir\\\\2020\\\\tnr2413_rois.hdf5',\n",
       " 'D:\\\\Drohnendaten\\\\10_WZE-UAV\\\\Auswertung_findatree\\\\Datasplit\\\\ROI\\\\rgb-nir\\\\2020\\\\tnr3398_rois.hdf5',\n",
       " 'D:\\\\Drohnendaten\\\\10_WZE-UAV\\\\Auswertung_findatree\\\\Datasplit\\\\ROI\\\\rgb-nir\\\\2020\\\\tnr3418_rois.hdf5',\n",
       " 'D:\\\\Drohnendaten\\\\10_WZE-UAV\\\\Auswertung_findatree\\\\Datasplit\\\\ROI\\\\rgb-nir\\\\2020\\\\tnr3430_rois.hdf5',\n",
       " 'D:\\\\Drohnendaten\\\\10_WZE-UAV\\\\Auswertung_findatree\\\\Datasplit\\\\ROI\\\\rgb-nir\\\\2020\\\\tnr35_rois.hdf5',\n",
       " 'D:\\\\Drohnendaten\\\\10_WZE-UAV\\\\Auswertung_findatree\\\\Datasplit\\\\ROI\\\\rgb-nir\\\\2020\\\\tnr3930_rois.hdf5',\n",
       " 'D:\\\\Drohnendaten\\\\10_WZE-UAV\\\\Auswertung_findatree\\\\Datasplit\\\\ROI\\\\rgb-nir\\\\2020\\\\tnr4396_rois.hdf5',\n",
       " 'D:\\\\Drohnendaten\\\\10_WZE-UAV\\\\Auswertung_findatree\\\\Datasplit\\\\ROI\\\\rgb-nir\\\\2020\\\\tnr4412_rois.hdf5',\n",
       " 'D:\\\\Drohnendaten\\\\10_WZE-UAV\\\\Auswertung_findatree\\\\Datasplit\\\\ROI\\\\rgb-nir\\\\2020\\\\tnr4436_rois.hdf5',\n",
       " 'D:\\\\Drohnendaten\\\\10_WZE-UAV\\\\Auswertung_findatree\\\\Datasplit\\\\ROI\\\\rgb-nir\\\\2020\\\\tnr4444_rois.hdf5',\n",
       " 'D:\\\\Drohnendaten\\\\10_WZE-UAV\\\\Auswertung_findatree\\\\Datasplit\\\\ROI\\\\rgb-nir\\\\2020\\\\tnr460_rois.hdf5',\n",
       " 'D:\\\\Drohnendaten\\\\10_WZE-UAV\\\\Auswertung_findatree\\\\Datasplit\\\\ROI\\\\rgb-nir\\\\2020\\\\tnr462_rois.hdf5',\n",
       " 'D:\\\\Drohnendaten\\\\10_WZE-UAV\\\\Auswertung_findatree\\\\Datasplit\\\\ROI\\\\rgb-nir\\\\2020\\\\tnr477_rois.hdf5',\n",
       " 'D:\\\\Drohnendaten\\\\10_WZE-UAV\\\\Auswertung_findatree\\\\Datasplit\\\\ROI\\\\rgb-nir\\\\2020\\\\tnr479_rois.hdf5',\n",
       " 'D:\\\\Drohnendaten\\\\10_WZE-UAV\\\\Auswertung_findatree\\\\Datasplit\\\\ROI\\\\rgb-nir\\\\2020\\\\tnr485_rois.hdf5',\n",
       " 'D:\\\\Drohnendaten\\\\10_WZE-UAV\\\\Auswertung_findatree\\\\Datasplit\\\\ROI\\\\rgb-nir\\\\2020\\\\tnr489_rois.hdf5',\n",
       " 'D:\\\\Drohnendaten\\\\10_WZE-UAV\\\\Auswertung_findatree\\\\Datasplit\\\\ROI\\\\rgb-nir\\\\2020\\\\tnr5449_rois.hdf5',\n",
       " 'D:\\\\Drohnendaten\\\\10_WZE-UAV\\\\Auswertung_findatree\\\\Datasplit\\\\ROI\\\\rgb-nir\\\\2020\\\\tnr5930_rois.hdf5',\n",
       " 'D:\\\\Drohnendaten\\\\10_WZE-UAV\\\\Auswertung_findatree\\\\Datasplit\\\\ROI\\\\rgb-nir\\\\2020\\\\tnr5946_rois.hdf5',\n",
       " 'D:\\\\Drohnendaten\\\\10_WZE-UAV\\\\Auswertung_findatree\\\\Datasplit\\\\ROI\\\\rgb-nir\\\\2020\\\\tnr6430_rois.hdf5',\n",
       " 'D:\\\\Drohnendaten\\\\10_WZE-UAV\\\\Auswertung_findatree\\\\Datasplit\\\\ROI\\\\rgb-nir\\\\2020\\\\tnr6462_rois.hdf5',\n",
       " 'D:\\\\Drohnendaten\\\\10_WZE-UAV\\\\Auswertung_findatree\\\\Datasplit\\\\ROI\\\\rgb-nir\\\\2020\\\\tnr6466_rois.hdf5',\n",
       " 'D:\\\\Drohnendaten\\\\10_WZE-UAV\\\\Auswertung_findatree\\\\Datasplit\\\\ROI\\\\rgb-nir\\\\2020\\\\tnr6468_rois.hdf5',\n",
       " 'D:\\\\Drohnendaten\\\\10_WZE-UAV\\\\Auswertung_findatree\\\\Datasplit\\\\ROI\\\\rgb-nir\\\\2020\\\\tnr6470_rois.hdf5',\n",
       " 'D:\\\\Drohnendaten\\\\10_WZE-UAV\\\\Auswertung_findatree\\\\Datasplit\\\\ROI\\\\rgb-nir\\\\2020\\\\tnr6474_rois.hdf5',\n",
       " 'D:\\\\Drohnendaten\\\\10_WZE-UAV\\\\Auswertung_findatree\\\\Datasplit\\\\ROI\\\\rgb-nir\\\\2020\\\\tnr6478_rois.hdf5',\n",
       " 'D:\\\\Drohnendaten\\\\10_WZE-UAV\\\\Auswertung_findatree\\\\Datasplit\\\\ROI\\\\rgb-nir\\\\2020\\\\tnr6969_rois.hdf5',\n",
       " 'D:\\\\Drohnendaten\\\\10_WZE-UAV\\\\Auswertung_findatree\\\\Datasplit\\\\ROI\\\\rgb-nir\\\\2020\\\\tnr6971_rois.hdf5',\n",
       " 'D:\\\\Drohnendaten\\\\10_WZE-UAV\\\\Auswertung_findatree\\\\Datasplit\\\\ROI\\\\rgb-nir\\\\2020\\\\tnr6977_rois.hdf5',\n",
       " 'D:\\\\Drohnendaten\\\\10_WZE-UAV\\\\Auswertung_findatree\\\\Datasplit\\\\ROI\\\\rgb-nir\\\\2020\\\\tnr7002_rois.hdf5',\n",
       " 'D:\\\\Drohnendaten\\\\10_WZE-UAV\\\\Auswertung_findatree\\\\Datasplit\\\\ROI\\\\rgb-nir\\\\2020\\\\tnr73_rois.hdf5',\n",
       " 'D:\\\\Drohnendaten\\\\10_WZE-UAV\\\\Auswertung_findatree\\\\Datasplit\\\\ROI\\\\rgb-nir\\\\2020\\\\tnr7475_rois.hdf5',\n",
       " 'D:\\\\Drohnendaten\\\\10_WZE-UAV\\\\Auswertung_findatree\\\\Datasplit\\\\ROI\\\\rgb-nir\\\\2020\\\\tnr7511_rois.hdf5',\n",
       " 'D:\\\\Drohnendaten\\\\10_WZE-UAV\\\\Auswertung_findatree\\\\Datasplit\\\\ROI\\\\rgb-nir\\\\2020\\\\tnr7517_rois.hdf5',\n",
       " 'D:\\\\Drohnendaten\\\\10_WZE-UAV\\\\Auswertung_findatree\\\\Datasplit\\\\ROI\\\\rgb-nir\\\\2020\\\\tnr7521_rois.hdf5',\n",
       " 'D:\\\\Drohnendaten\\\\10_WZE-UAV\\\\Auswertung_findatree\\\\Datasplit\\\\ROI\\\\rgb-nir\\\\2020\\\\tnr7525_rois.hdf5',\n",
       " 'D:\\\\Drohnendaten\\\\10_WZE-UAV\\\\Auswertung_findatree\\\\Datasplit\\\\ROI\\\\rgb-nir\\\\2020\\\\tnr75_rois.hdf5',\n",
       " 'D:\\\\Drohnendaten\\\\10_WZE-UAV\\\\Auswertung_findatree\\\\Datasplit\\\\ROI\\\\rgb-nir\\\\2020\\\\tnr79_rois.hdf5',\n",
       " 'D:\\\\Drohnendaten\\\\10_WZE-UAV\\\\Auswertung_findatree\\\\Datasplit\\\\ROI\\\\rgb-nir\\\\2020\\\\tnr8032_rois.hdf5',\n",
       " 'D:\\\\Drohnendaten\\\\10_WZE-UAV\\\\Auswertung_findatree\\\\Datasplit\\\\ROI\\\\rgb-nir\\\\2020\\\\tnr8040_rois.hdf5',\n",
       " 'D:\\\\Drohnendaten\\\\10_WZE-UAV\\\\Auswertung_findatree\\\\Datasplit\\\\ROI\\\\rgb-nir\\\\2020\\\\tnr8492_rois.hdf5',\n",
       " 'D:\\\\Drohnendaten\\\\10_WZE-UAV\\\\Auswertung_findatree\\\\Datasplit\\\\ROI\\\\rgb-nir\\\\2020\\\\tnr8494_rois.hdf5',\n",
       " 'D:\\\\Drohnendaten\\\\10_WZE-UAV\\\\Auswertung_findatree\\\\Datasplit\\\\ROI\\\\rgb-nir\\\\2020\\\\tnr8498_rois.hdf5',\n",
       " 'D:\\\\Drohnendaten\\\\10_WZE-UAV\\\\Auswertung_findatree\\\\Datasplit\\\\ROI\\\\rgb-nir\\\\2020\\\\tnr84_rois.hdf5',\n",
       " 'D:\\\\Drohnendaten\\\\10_WZE-UAV\\\\Auswertung_findatree\\\\Datasplit\\\\ROI\\\\rgb-nir\\\\2020\\\\tnr8532_rois.hdf5',\n",
       " 'D:\\\\Drohnendaten\\\\10_WZE-UAV\\\\Auswertung_findatree\\\\Datasplit\\\\ROI\\\\rgb-nir\\\\2020\\\\tnr86_rois.hdf5',\n",
       " 'D:\\\\Drohnendaten\\\\10_WZE-UAV\\\\Auswertung_findatree\\\\Datasplit\\\\ROI\\\\rgb-nir\\\\2020\\\\tnr879_rois.hdf5',\n",
       " 'D:\\\\Drohnendaten\\\\10_WZE-UAV\\\\Auswertung_findatree\\\\Datasplit\\\\ROI\\\\rgb-nir\\\\2020\\\\tnr8973_rois.hdf5',\n",
       " 'D:\\\\Drohnendaten\\\\10_WZE-UAV\\\\Auswertung_findatree\\\\Datasplit\\\\ROI\\\\rgb-nir\\\\2020\\\\tnr8979_rois.hdf5',\n",
       " 'D:\\\\Drohnendaten\\\\10_WZE-UAV\\\\Auswertung_findatree\\\\Datasplit\\\\ROI\\\\rgb-nir\\\\2020\\\\tnr8981_rois.hdf5',\n",
       " 'D:\\\\Drohnendaten\\\\10_WZE-UAV\\\\Auswertung_findatree\\\\Datasplit\\\\ROI\\\\rgb-nir\\\\2020\\\\tnr8989_rois.hdf5',\n",
       " 'D:\\\\Drohnendaten\\\\10_WZE-UAV\\\\Auswertung_findatree\\\\Datasplit\\\\ROI\\\\rgb-nir\\\\2020\\\\tnr9025_rois.hdf5',\n",
       " 'D:\\\\Drohnendaten\\\\10_WZE-UAV\\\\Auswertung_findatree\\\\Datasplit\\\\ROI\\\\rgb-nir\\\\2020\\\\tnr9464_rois.hdf5',\n",
       " 'D:\\\\Drohnendaten\\\\10_WZE-UAV\\\\Auswertung_findatree\\\\Datasplit\\\\ROI\\\\rgb-nir\\\\2020\\\\tnr9468_rois.hdf5',\n",
       " 'D:\\\\Drohnendaten\\\\10_WZE-UAV\\\\Auswertung_findatree\\\\Datasplit\\\\ROI\\\\rgb-nir\\\\2020\\\\tnr9472_rois.hdf5',\n",
       " 'D:\\\\Drohnendaten\\\\10_WZE-UAV\\\\Auswertung_findatree\\\\Datasplit\\\\ROI\\\\rgb-nir\\\\2020\\\\tnr9477_rois.hdf5',\n",
       " 'D:\\\\Drohnendaten\\\\10_WZE-UAV\\\\Auswertung_findatree\\\\Datasplit\\\\ROI\\\\rgb-nir\\\\2020\\\\tnr9479_rois.hdf5',\n",
       " 'D:\\\\Drohnendaten\\\\10_WZE-UAV\\\\Auswertung_findatree\\\\Datasplit\\\\ROI\\\\rgb-nir\\\\2020\\\\tnr9489_rois.hdf5',\n",
       " 'D:\\\\Drohnendaten\\\\10_WZE-UAV\\\\Auswertung_findatree\\\\Datasplit\\\\ROI\\\\rgb-nir\\\\2020\\\\tnr9493_rois.hdf5',\n",
       " 'D:\\\\Drohnendaten\\\\10_WZE-UAV\\\\Auswertung_findatree\\\\Datasplit\\\\ROI\\\\rgb-nir\\\\2020\\\\tnr9509_rois.hdf5',\n",
       " 'D:\\\\Drohnendaten\\\\10_WZE-UAV\\\\Auswertung_findatree\\\\Datasplit\\\\ROI\\\\rgb-nir\\\\2020\\\\tnr9515_rois.hdf5',\n",
       " 'D:\\\\Drohnendaten\\\\10_WZE-UAV\\\\Auswertung_findatree\\\\Datasplit\\\\ROI\\\\rgb-nir\\\\2020\\\\tnr9517_rois.hdf5',\n",
       " 'D:\\\\Drohnendaten\\\\10_WZE-UAV\\\\Auswertung_findatree\\\\Datasplit\\\\ROI\\\\rgb-nir\\\\2020\\\\tnr9948_rois.hdf5',\n",
       " 'D:\\\\Drohnendaten\\\\10_WZE-UAV\\\\Auswertung_findatree\\\\Datasplit\\\\ROI\\\\rgb-nir\\\\2020\\\\tnr9958_rois.hdf5',\n",
       " 'D:\\\\Drohnendaten\\\\10_WZE-UAV\\\\Auswertung_findatree\\\\Datasplit\\\\ROI\\\\rgb-nir\\\\2020\\\\tnr9966_rois.hdf5',\n",
       " 'D:\\\\Drohnendaten\\\\10_WZE-UAV\\\\Auswertung_findatree\\\\Datasplit\\\\ROI\\\\rgb-nir\\\\2020\\\\tnr9973_rois.hdf5',\n",
       " 'D:\\\\Drohnendaten\\\\10_WZE-UAV\\\\Auswertung_findatree\\\\Datasplit\\\\ROI\\\\rgb-nir\\\\2020\\\\tnr9980_rois.hdf5',\n",
       " 'D:\\\\Drohnendaten\\\\10_WZE-UAV\\\\Auswertung_findatree\\\\Datasplit\\\\ROI\\\\rgb-nir\\\\2020\\\\tnr9984_rois.hdf5',\n",
       " 'D:\\\\Drohnendaten\\\\10_WZE-UAV\\\\Auswertung_findatree\\\\Datasplit\\\\ROI\\\\rgb-nir\\\\2020\\\\tnr9986_rois.hdf5',\n",
       " 'D:\\\\Drohnendaten\\\\10_WZE-UAV\\\\Auswertung_findatree\\\\Datasplit\\\\ROI\\\\rgb-nir\\\\2020\\\\tnr9988_rois.hdf5',\n",
       " 'D:\\\\Drohnendaten\\\\10_WZE-UAV\\\\Auswertung_findatree\\\\Datasplit\\\\ROI\\\\rgb-nir\\\\2020\\\\tnr9996_rois.hdf5',\n",
       " 'D:\\\\Drohnendaten\\\\10_WZE-UAV\\\\Auswertung_findatree\\\\Datasplit\\\\ROI\\\\rgb-nir\\\\2021\\\\tnr10527_rois.hdf5',\n",
       " 'D:\\\\Drohnendaten\\\\10_WZE-UAV\\\\Auswertung_findatree\\\\Datasplit\\\\ROI\\\\rgb-nir\\\\2021\\\\tnr10533_rois.hdf5',\n",
       " 'D:\\\\Drohnendaten\\\\10_WZE-UAV\\\\Auswertung_findatree\\\\Datasplit\\\\ROI\\\\rgb-nir\\\\2021\\\\tnr10545_rois.hdf5',\n",
       " 'D:\\\\Drohnendaten\\\\10_WZE-UAV\\\\Auswertung_findatree\\\\Datasplit\\\\ROI\\\\rgb-nir\\\\2021\\\\tnr10547_rois.hdf5',\n",
       " 'D:\\\\Drohnendaten\\\\10_WZE-UAV\\\\Auswertung_findatree\\\\Datasplit\\\\ROI\\\\rgb-nir\\\\2021\\\\tnr10912_rois.hdf5',\n",
       " 'D:\\\\Drohnendaten\\\\10_WZE-UAV\\\\Auswertung_findatree\\\\Datasplit\\\\ROI\\\\rgb-nir\\\\2021\\\\tnr11032_rois.hdf5',\n",
       " 'D:\\\\Drohnendaten\\\\10_WZE-UAV\\\\Auswertung_findatree\\\\Datasplit\\\\ROI\\\\rgb-nir\\\\2021\\\\tnr11040_rois.hdf5',\n",
       " 'D:\\\\Drohnendaten\\\\10_WZE-UAV\\\\Auswertung_findatree\\\\Datasplit\\\\ROI\\\\rgb-nir\\\\2021\\\\tnr11044_rois.hdf5',\n",
       " 'D:\\\\Drohnendaten\\\\10_WZE-UAV\\\\Auswertung_findatree\\\\Datasplit\\\\ROI\\\\rgb-nir\\\\2021\\\\tnr11048_rois.hdf5',\n",
       " 'D:\\\\Drohnendaten\\\\10_WZE-UAV\\\\Auswertung_findatree\\\\Datasplit\\\\ROI\\\\rgb-nir\\\\2021\\\\tnr11052_rois.hdf5',\n",
       " 'D:\\\\Drohnendaten\\\\10_WZE-UAV\\\\Auswertung_findatree\\\\Datasplit\\\\ROI\\\\rgb-nir\\\\2021\\\\tnr11056_rois.hdf5',\n",
       " 'D:\\\\Drohnendaten\\\\10_WZE-UAV\\\\Auswertung_findatree\\\\Datasplit\\\\ROI\\\\rgb-nir\\\\2021\\\\tnr11078_rois.hdf5',\n",
       " 'D:\\\\Drohnendaten\\\\10_WZE-UAV\\\\Auswertung_findatree\\\\Datasplit\\\\ROI\\\\rgb-nir\\\\2021\\\\tnr11080_rois.hdf5',\n",
       " 'D:\\\\Drohnendaten\\\\10_WZE-UAV\\\\Auswertung_findatree\\\\Datasplit\\\\ROI\\\\rgb-nir\\\\2021\\\\tnr11090_rois.hdf5',\n",
       " 'D:\\\\Drohnendaten\\\\10_WZE-UAV\\\\Auswertung_findatree\\\\Datasplit\\\\ROI\\\\rgb-nir\\\\2021\\\\tnr11092_rois.hdf5',\n",
       " 'D:\\\\Drohnendaten\\\\10_WZE-UAV\\\\Auswertung_findatree\\\\Datasplit\\\\ROI\\\\rgb-nir\\\\2021\\\\tnr11179_rois.hdf5',\n",
       " 'D:\\\\Drohnendaten\\\\10_WZE-UAV\\\\Auswertung_findatree\\\\Datasplit\\\\ROI\\\\rgb-nir\\\\2021\\\\tnr11189_rois.hdf5',\n",
       " 'D:\\\\Drohnendaten\\\\10_WZE-UAV\\\\Auswertung_findatree\\\\Datasplit\\\\ROI\\\\rgb-nir\\\\2021\\\\tnr11325_rois.hdf5',\n",
       " 'D:\\\\Drohnendaten\\\\10_WZE-UAV\\\\Auswertung_findatree\\\\Datasplit\\\\ROI\\\\rgb-nir\\\\2021\\\\tnr11327_rois.hdf5',\n",
       " 'D:\\\\Drohnendaten\\\\10_WZE-UAV\\\\Auswertung_findatree\\\\Datasplit\\\\ROI\\\\rgb-nir\\\\2021\\\\tnr11453_rois.hdf5',\n",
       " 'D:\\\\Drohnendaten\\\\10_WZE-UAV\\\\Auswertung_findatree\\\\Datasplit\\\\ROI\\\\rgb-nir\\\\2021\\\\tnr11459_rois.hdf5',\n",
       " 'D:\\\\Drohnendaten\\\\10_WZE-UAV\\\\Auswertung_findatree\\\\Datasplit\\\\ROI\\\\rgb-nir\\\\2021\\\\tnr11576_rois.hdf5',\n",
       " 'D:\\\\Drohnendaten\\\\10_WZE-UAV\\\\Auswertung_findatree\\\\Datasplit\\\\ROI\\\\rgb-nir\\\\2021\\\\tnr11581_rois.hdf5',\n",
       " 'D:\\\\Drohnendaten\\\\10_WZE-UAV\\\\Auswertung_findatree\\\\Datasplit\\\\ROI\\\\rgb-nir\\\\2021\\\\tnr11597_rois.hdf5',\n",
       " 'D:\\\\Drohnendaten\\\\10_WZE-UAV\\\\Auswertung_findatree\\\\Datasplit\\\\ROI\\\\rgb-nir\\\\2021\\\\tnr11601_rois.hdf5',\n",
       " 'D:\\\\Drohnendaten\\\\10_WZE-UAV\\\\Auswertung_findatree\\\\Datasplit\\\\ROI\\\\rgb-nir\\\\2021\\\\tnr11626_rois.hdf5',\n",
       " 'D:\\\\Drohnendaten\\\\10_WZE-UAV\\\\Auswertung_findatree\\\\Datasplit\\\\ROI\\\\rgb-nir\\\\2021\\\\tnr11638_rois.hdf5',\n",
       " 'D:\\\\Drohnendaten\\\\10_WZE-UAV\\\\Auswertung_findatree\\\\Datasplit\\\\ROI\\\\rgb-nir\\\\2021\\\\tnr11640_rois.hdf5',\n",
       " 'D:\\\\Drohnendaten\\\\10_WZE-UAV\\\\Auswertung_findatree\\\\Datasplit\\\\ROI\\\\rgb-nir\\\\2021\\\\tnr11727_rois.hdf5',\n",
       " 'D:\\\\Drohnendaten\\\\10_WZE-UAV\\\\Auswertung_findatree\\\\Datasplit\\\\ROI\\\\rgb-nir\\\\2021\\\\tnr11733_rois.hdf5',\n",
       " 'D:\\\\Drohnendaten\\\\10_WZE-UAV\\\\Auswertung_findatree\\\\Datasplit\\\\ROI\\\\rgb-nir\\\\2021\\\\tnr11866_rois.hdf5',\n",
       " 'D:\\\\Drohnendaten\\\\10_WZE-UAV\\\\Auswertung_findatree\\\\Datasplit\\\\ROI\\\\rgb-nir\\\\2021\\\\tnr11874_rois.hdf5',\n",
       " 'D:\\\\Drohnendaten\\\\10_WZE-UAV\\\\Auswertung_findatree\\\\Datasplit\\\\ROI\\\\rgb-nir\\\\2021\\\\tnr11878_rois.hdf5',\n",
       " 'D:\\\\Drohnendaten\\\\10_WZE-UAV\\\\Auswertung_findatree\\\\Datasplit\\\\ROI\\\\rgb-nir\\\\2021\\\\tnr12013_rois.hdf5',\n",
       " 'D:\\\\Drohnendaten\\\\10_WZE-UAV\\\\Auswertung_findatree\\\\Datasplit\\\\ROI\\\\rgb-nir\\\\2021\\\\tnr12019_rois.hdf5',\n",
       " 'D:\\\\Drohnendaten\\\\10_WZE-UAV\\\\Auswertung_findatree\\\\Datasplit\\\\ROI\\\\rgb-nir\\\\2021\\\\tnr12120_rois.hdf5',\n",
       " 'D:\\\\Drohnendaten\\\\10_WZE-UAV\\\\Auswertung_findatree\\\\Datasplit\\\\ROI\\\\rgb-nir\\\\2021\\\\tnr12124_rois.hdf5',\n",
       " 'D:\\\\Drohnendaten\\\\10_WZE-UAV\\\\Auswertung_findatree\\\\Datasplit\\\\ROI\\\\rgb-nir\\\\2021\\\\tnr12153_rois.hdf5',\n",
       " 'D:\\\\Drohnendaten\\\\10_WZE-UAV\\\\Auswertung_findatree\\\\Datasplit\\\\ROI\\\\rgb-nir\\\\2021\\\\tnr12161_rois.hdf5',\n",
       " 'D:\\\\Drohnendaten\\\\10_WZE-UAV\\\\Auswertung_findatree\\\\Datasplit\\\\ROI\\\\rgb-nir\\\\2021\\\\tnr12169_rois.hdf5',\n",
       " 'D:\\\\Drohnendaten\\\\10_WZE-UAV\\\\Auswertung_findatree\\\\Datasplit\\\\ROI\\\\rgb-nir\\\\2021\\\\tnr12179_rois.hdf5',\n",
       " 'D:\\\\Drohnendaten\\\\10_WZE-UAV\\\\Auswertung_findatree\\\\Datasplit\\\\ROI\\\\rgb-nir\\\\2021\\\\tnr12285_rois.hdf5',\n",
       " 'D:\\\\Drohnendaten\\\\10_WZE-UAV\\\\Auswertung_findatree\\\\Datasplit\\\\ROI\\\\rgb-nir\\\\2021\\\\tnr12426_rois.hdf5',\n",
       " 'D:\\\\Drohnendaten\\\\10_WZE-UAV\\\\Auswertung_findatree\\\\Datasplit\\\\ROI\\\\rgb-nir\\\\2021\\\\tnr12549_rois.hdf5',\n",
       " 'D:\\\\Drohnendaten\\\\10_WZE-UAV\\\\Auswertung_findatree\\\\Datasplit\\\\ROI\\\\rgb-nir\\\\2021\\\\tnr12553_rois.hdf5',\n",
       " 'D:\\\\Drohnendaten\\\\10_WZE-UAV\\\\Auswertung_findatree\\\\Datasplit\\\\ROI\\\\rgb-nir\\\\2021\\\\tnr12557_rois.hdf5',\n",
       " 'D:\\\\Drohnendaten\\\\10_WZE-UAV\\\\Auswertung_findatree\\\\Datasplit\\\\ROI\\\\rgb-nir\\\\2021\\\\tnr12673_rois.hdf5',\n",
       " 'D:\\\\Drohnendaten\\\\10_WZE-UAV\\\\Auswertung_findatree\\\\Datasplit\\\\ROI\\\\rgb-nir\\\\2021\\\\tnr12678_rois.hdf5',\n",
       " 'D:\\\\Drohnendaten\\\\10_WZE-UAV\\\\Auswertung_findatree\\\\Datasplit\\\\ROI\\\\rgb-nir\\\\2021\\\\tnr12694_rois.hdf5',\n",
       " 'D:\\\\Drohnendaten\\\\10_WZE-UAV\\\\Auswertung_findatree\\\\Datasplit\\\\ROI\\\\rgb-nir\\\\2021\\\\tnr12698_rois.hdf5',\n",
       " 'D:\\\\Drohnendaten\\\\10_WZE-UAV\\\\Auswertung_findatree\\\\Datasplit\\\\ROI\\\\rgb-nir\\\\2021\\\\tnr12702_rois.hdf5',\n",
       " 'D:\\\\Drohnendaten\\\\10_WZE-UAV\\\\Auswertung_findatree\\\\Datasplit\\\\ROI\\\\rgb-nir\\\\2021\\\\tnr12711_rois.hdf5',\n",
       " 'D:\\\\Drohnendaten\\\\10_WZE-UAV\\\\Auswertung_findatree\\\\Datasplit\\\\ROI\\\\rgb-nir\\\\2021\\\\tnr12713_rois.hdf5',\n",
       " 'D:\\\\Drohnendaten\\\\10_WZE-UAV\\\\Auswertung_findatree\\\\Datasplit\\\\ROI\\\\rgb-nir\\\\2021\\\\tnr12715_rois.hdf5',\n",
       " 'D:\\\\Drohnendaten\\\\10_WZE-UAV\\\\Auswertung_findatree\\\\Datasplit\\\\ROI\\\\rgb-nir\\\\2021\\\\tnr12717_rois.hdf5',\n",
       " 'D:\\\\Drohnendaten\\\\10_WZE-UAV\\\\Auswertung_findatree\\\\Datasplit\\\\ROI\\\\rgb-nir\\\\2021\\\\tnr12719_rois.hdf5',\n",
       " 'D:\\\\Drohnendaten\\\\10_WZE-UAV\\\\Auswertung_findatree\\\\Datasplit\\\\ROI\\\\rgb-nir\\\\2021\\\\tnr12950_rois.hdf5',\n",
       " 'D:\\\\Drohnendaten\\\\10_WZE-UAV\\\\Auswertung_findatree\\\\Datasplit\\\\ROI\\\\rgb-nir\\\\2021\\\\tnr12960_rois.hdf5',\n",
       " 'D:\\\\Drohnendaten\\\\10_WZE-UAV\\\\Auswertung_findatree\\\\Datasplit\\\\ROI\\\\rgb-nir\\\\2021\\\\tnr13212_rois.hdf5',\n",
       " 'D:\\\\Drohnendaten\\\\10_WZE-UAV\\\\Auswertung_findatree\\\\Datasplit\\\\ROI\\\\rgb-nir\\\\2021\\\\tnr13225_rois.hdf5',\n",
       " 'D:\\\\Drohnendaten\\\\10_WZE-UAV\\\\Auswertung_findatree\\\\Datasplit\\\\ROI\\\\rgb-nir\\\\2021\\\\tnr13233_rois.hdf5',\n",
       " 'D:\\\\Drohnendaten\\\\10_WZE-UAV\\\\Auswertung_findatree\\\\Datasplit\\\\ROI\\\\rgb-nir\\\\2021\\\\tnr13259_rois.hdf5',\n",
       " 'D:\\\\Drohnendaten\\\\10_WZE-UAV\\\\Auswertung_findatree\\\\Datasplit\\\\ROI\\\\rgb-nir\\\\2021\\\\tnr13508_rois.hdf5',\n",
       " 'D:\\\\Drohnendaten\\\\10_WZE-UAV\\\\Auswertung_findatree\\\\Datasplit\\\\ROI\\\\rgb-nir\\\\2021\\\\tnr13758_rois.hdf5',\n",
       " 'D:\\\\Drohnendaten\\\\10_WZE-UAV\\\\Auswertung_findatree\\\\Datasplit\\\\ROI\\\\rgb-nir\\\\2021\\\\tnr13766_rois.hdf5',\n",
       " 'D:\\\\Drohnendaten\\\\10_WZE-UAV\\\\Auswertung_findatree\\\\Datasplit\\\\ROI\\\\rgb-nir\\\\2021\\\\tnr13779_rois.hdf5',\n",
       " 'D:\\\\Drohnendaten\\\\10_WZE-UAV\\\\Auswertung_findatree\\\\Datasplit\\\\ROI\\\\rgb-nir\\\\2021\\\\tnr13819_rois.hdf5',\n",
       " 'D:\\\\Drohnendaten\\\\10_WZE-UAV\\\\Auswertung_findatree\\\\Datasplit\\\\ROI\\\\rgb-nir\\\\2021\\\\tnr13825_rois.hdf5',\n",
       " 'D:\\\\Drohnendaten\\\\10_WZE-UAV\\\\Auswertung_findatree\\\\Datasplit\\\\ROI\\\\rgb-nir\\\\2021\\\\tnr13898_rois.hdf5',\n",
       " 'D:\\\\Drohnendaten\\\\10_WZE-UAV\\\\Auswertung_findatree\\\\Datasplit\\\\ROI\\\\rgb-nir\\\\2021\\\\tnr13922_rois.hdf5',\n",
       " 'D:\\\\Drohnendaten\\\\10_WZE-UAV\\\\Auswertung_findatree\\\\Datasplit\\\\ROI\\\\rgb-nir\\\\2021\\\\tnr14156_rois.hdf5',\n",
       " 'D:\\\\Drohnendaten\\\\10_WZE-UAV\\\\Auswertung_findatree\\\\Datasplit\\\\ROI\\\\rgb-nir\\\\2021\\\\tnr14293_rois.hdf5',\n",
       " 'D:\\\\Drohnendaten\\\\10_WZE-UAV\\\\Auswertung_findatree\\\\Datasplit\\\\ROI\\\\rgb-nir\\\\2021\\\\tnr14327_rois.hdf5',\n",
       " 'D:\\\\Drohnendaten\\\\10_WZE-UAV\\\\Auswertung_findatree\\\\Datasplit\\\\ROI\\\\rgb-nir\\\\2021\\\\tnr14666_rois.hdf5',\n",
       " 'D:\\\\Drohnendaten\\\\10_WZE-UAV\\\\Auswertung_findatree\\\\Datasplit\\\\ROI\\\\rgb-nir\\\\2021\\\\tnr14723_rois.hdf5',\n",
       " 'D:\\\\Drohnendaten\\\\10_WZE-UAV\\\\Auswertung_findatree\\\\Datasplit\\\\ROI\\\\rgb-nir\\\\2021\\\\tnr14727_rois.hdf5',\n",
       " 'D:\\\\Drohnendaten\\\\10_WZE-UAV\\\\Auswertung_findatree\\\\Datasplit\\\\ROI\\\\rgb-nir\\\\2021\\\\tnr14732_rois.hdf5',\n",
       " 'D:\\\\Drohnendaten\\\\10_WZE-UAV\\\\Auswertung_findatree\\\\Datasplit\\\\ROI\\\\rgb-nir\\\\2021\\\\tnr14781_rois.hdf5',\n",
       " 'D:\\\\Drohnendaten\\\\10_WZE-UAV\\\\Auswertung_findatree\\\\Datasplit\\\\ROI\\\\rgb-nir\\\\2021\\\\tnr14877_rois.hdf5',\n",
       " 'D:\\\\Drohnendaten\\\\10_WZE-UAV\\\\Auswertung_findatree\\\\Datasplit\\\\ROI\\\\rgb-nir\\\\2021\\\\tnr14879_rois.hdf5',\n",
       " 'D:\\\\Drohnendaten\\\\10_WZE-UAV\\\\Auswertung_findatree\\\\Datasplit\\\\ROI\\\\rgb-nir\\\\2021\\\\tnr14887_rois.hdf5',\n",
       " 'D:\\\\Drohnendaten\\\\10_WZE-UAV\\\\Auswertung_findatree\\\\Datasplit\\\\ROI\\\\rgb-nir\\\\2021\\\\tnr15016_rois.hdf5',\n",
       " 'D:\\\\Drohnendaten\\\\10_WZE-UAV\\\\Auswertung_findatree\\\\Datasplit\\\\ROI\\\\rgb-nir\\\\2021\\\\tnr15020_rois.hdf5',\n",
       " 'D:\\\\Drohnendaten\\\\10_WZE-UAV\\\\Auswertung_findatree\\\\Datasplit\\\\ROI\\\\rgb-nir\\\\2021\\\\tnr15027_rois.hdf5',\n",
       " 'D:\\\\Drohnendaten\\\\10_WZE-UAV\\\\Auswertung_findatree\\\\Datasplit\\\\ROI\\\\rgb-nir\\\\2021\\\\tnr15031_rois.hdf5',\n",
       " 'D:\\\\Drohnendaten\\\\10_WZE-UAV\\\\Auswertung_findatree\\\\Datasplit\\\\ROI\\\\rgb-nir\\\\2021\\\\tnr15035_rois.hdf5',\n",
       " 'D:\\\\Drohnendaten\\\\10_WZE-UAV\\\\Auswertung_findatree\\\\Datasplit\\\\ROI\\\\rgb-nir\\\\2021\\\\tnr15039_rois.hdf5',\n",
       " 'D:\\\\Drohnendaten\\\\10_WZE-UAV\\\\Auswertung_findatree\\\\Datasplit\\\\ROI\\\\rgb-nir\\\\2021\\\\tnr15043_rois.hdf5',\n",
       " 'D:\\\\Drohnendaten\\\\10_WZE-UAV\\\\Auswertung_findatree\\\\Datasplit\\\\ROI\\\\rgb-nir\\\\2021\\\\tnr15046_rois.hdf5',\n",
       " 'D:\\\\Drohnendaten\\\\10_WZE-UAV\\\\Auswertung_findatree\\\\Datasplit\\\\ROI\\\\rgb-nir\\\\2021\\\\tnr15050_rois.hdf5',\n",
       " 'D:\\\\Drohnendaten\\\\10_WZE-UAV\\\\Auswertung_findatree\\\\Datasplit\\\\ROI\\\\rgb-nir\\\\2021\\\\tnr15101_rois.hdf5',\n",
       " 'D:\\\\Drohnendaten\\\\10_WZE-UAV\\\\Auswertung_findatree\\\\Datasplit\\\\ROI\\\\rgb-nir\\\\2021\\\\tnr15273_rois.hdf5',\n",
       " 'D:\\\\Drohnendaten\\\\10_WZE-UAV\\\\Auswertung_findatree\\\\Datasplit\\\\ROI\\\\rgb-nir\\\\2021\\\\tnr15277_rois.hdf5',\n",
       " 'D:\\\\Drohnendaten\\\\10_WZE-UAV\\\\Auswertung_findatree\\\\Datasplit\\\\ROI\\\\rgb-nir\\\\2021\\\\tnr15297_rois.hdf5',\n",
       " 'D:\\\\Drohnendaten\\\\10_WZE-UAV\\\\Auswertung_findatree\\\\Datasplit\\\\ROI\\\\rgb-nir\\\\2021\\\\tnr15299_rois.hdf5',\n",
       " 'D:\\\\Drohnendaten\\\\10_WZE-UAV\\\\Auswertung_findatree\\\\Datasplit\\\\ROI\\\\rgb-nir\\\\2021\\\\tnr15301_rois.hdf5',\n",
       " 'D:\\\\Drohnendaten\\\\10_WZE-UAV\\\\Auswertung_findatree\\\\Datasplit\\\\ROI\\\\rgb-nir\\\\2021\\\\tnr15303_rois.hdf5',\n",
       " 'D:\\\\Drohnendaten\\\\10_WZE-UAV\\\\Auswertung_findatree\\\\Datasplit\\\\ROI\\\\rgb-nir\\\\2021\\\\tnr15306_rois.hdf5',\n",
       " 'D:\\\\Drohnendaten\\\\10_WZE-UAV\\\\Auswertung_findatree\\\\Datasplit\\\\ROI\\\\rgb-nir\\\\2021\\\\tnr15311_rois.hdf5',\n",
       " 'D:\\\\Drohnendaten\\\\10_WZE-UAV\\\\Auswertung_findatree\\\\Datasplit\\\\ROI\\\\rgb-nir\\\\2021\\\\tnr15313_rois.hdf5',\n",
       " 'D:\\\\Drohnendaten\\\\10_WZE-UAV\\\\Auswertung_findatree\\\\Datasplit\\\\ROI\\\\rgb-nir\\\\2021\\\\tnr15319_rois.hdf5',\n",
       " 'D:\\\\Drohnendaten\\\\10_WZE-UAV\\\\Auswertung_findatree\\\\Datasplit\\\\ROI\\\\rgb-nir\\\\2021\\\\tnr15327_rois.hdf5',\n",
       " 'D:\\\\Drohnendaten\\\\10_WZE-UAV\\\\Auswertung_findatree\\\\Datasplit\\\\ROI\\\\rgb-nir\\\\2021\\\\tnr15519_rois.hdf5',\n",
       " 'D:\\\\Drohnendaten\\\\10_WZE-UAV\\\\Auswertung_findatree\\\\Datasplit\\\\ROI\\\\rgb-nir\\\\2021\\\\tnr15521_rois.hdf5',\n",
       " 'D:\\\\Drohnendaten\\\\10_WZE-UAV\\\\Auswertung_findatree\\\\Datasplit\\\\ROI\\\\rgb-nir\\\\2021\\\\tnr15531_rois.hdf5',\n",
       " 'D:\\\\Drohnendaten\\\\10_WZE-UAV\\\\Auswertung_findatree\\\\Datasplit\\\\ROI\\\\rgb-nir\\\\2021\\\\tnr15537_rois.hdf5',\n",
       " 'D:\\\\Drohnendaten\\\\10_WZE-UAV\\\\Auswertung_findatree\\\\Datasplit\\\\ROI\\\\rgb-nir\\\\2021\\\\tnr15730_rois.hdf5',\n",
       " 'D:\\\\Drohnendaten\\\\10_WZE-UAV\\\\Auswertung_findatree\\\\Datasplit\\\\ROI\\\\rgb-nir\\\\2021\\\\tnr15736_rois.hdf5',\n",
       " 'D:\\\\Drohnendaten\\\\10_WZE-UAV\\\\Auswertung_findatree\\\\Datasplit\\\\ROI\\\\rgb-nir\\\\2021\\\\tnr15746_rois.hdf5',\n",
       " 'D:\\\\Drohnendaten\\\\10_WZE-UAV\\\\Auswertung_findatree\\\\Datasplit\\\\ROI\\\\rgb-nir\\\\2021\\\\tnr15748_rois.hdf5',\n",
       " 'D:\\\\Drohnendaten\\\\10_WZE-UAV\\\\Auswertung_findatree\\\\Datasplit\\\\ROI\\\\rgb-nir\\\\2021\\\\tnr15780_rois.hdf5',\n",
       " 'D:\\\\Drohnendaten\\\\10_WZE-UAV\\\\Auswertung_findatree\\\\Datasplit\\\\ROI\\\\rgb-nir\\\\2021\\\\tnr15966_rois.hdf5',\n",
       " 'D:\\\\Drohnendaten\\\\10_WZE-UAV\\\\Auswertung_findatree\\\\Datasplit\\\\ROI\\\\rgb-nir\\\\2021\\\\tnr15974_rois.hdf5',\n",
       " 'D:\\\\Drohnendaten\\\\10_WZE-UAV\\\\Auswertung_findatree\\\\Datasplit\\\\ROI\\\\rgb-nir\\\\2021\\\\tnr15986_rois.hdf5',\n",
       " 'D:\\\\Drohnendaten\\\\10_WZE-UAV\\\\Auswertung_findatree\\\\Datasplit\\\\ROI\\\\rgb-nir\\\\2021\\\\tnr15988_rois.hdf5',\n",
       " 'D:\\\\Drohnendaten\\\\10_WZE-UAV\\\\Auswertung_findatree\\\\Datasplit\\\\ROI\\\\rgb-nir\\\\2021\\\\tnr15998_rois.hdf5',\n",
       " 'D:\\\\Drohnendaten\\\\10_WZE-UAV\\\\Auswertung_findatree\\\\Datasplit\\\\ROI\\\\rgb-nir\\\\2021\\\\tnr16173_rois.hdf5',\n",
       " 'D:\\\\Drohnendaten\\\\10_WZE-UAV\\\\Auswertung_findatree\\\\Datasplit\\\\ROI\\\\rgb-nir\\\\2021\\\\tnr16177_rois.hdf5',\n",
       " 'D:\\\\Drohnendaten\\\\10_WZE-UAV\\\\Auswertung_findatree\\\\Datasplit\\\\ROI\\\\rgb-nir\\\\2021\\\\tnr16181_rois.hdf5',\n",
       " 'D:\\\\Drohnendaten\\\\10_WZE-UAV\\\\Auswertung_findatree\\\\Datasplit\\\\ROI\\\\rgb-nir\\\\2021\\\\tnr16197_rois.hdf5',\n",
       " 'D:\\\\Drohnendaten\\\\10_WZE-UAV\\\\Auswertung_findatree\\\\Datasplit\\\\ROI\\\\rgb-nir\\\\2021\\\\tnr16201_rois.hdf5',\n",
       " 'D:\\\\Drohnendaten\\\\10_WZE-UAV\\\\Auswertung_findatree\\\\Datasplit\\\\ROI\\\\rgb-nir\\\\2021\\\\tnr16205_rois.hdf5',\n",
       " 'D:\\\\Drohnendaten\\\\10_WZE-UAV\\\\Auswertung_findatree\\\\Datasplit\\\\ROI\\\\rgb-nir\\\\2021\\\\tnr16211_rois.hdf5',\n",
       " 'D:\\\\Drohnendaten\\\\10_WZE-UAV\\\\Auswertung_findatree\\\\Datasplit\\\\ROI\\\\rgb-nir\\\\2021\\\\tnr16223_rois.hdf5',\n",
       " 'D:\\\\Drohnendaten\\\\10_WZE-UAV\\\\Auswertung_findatree\\\\Datasplit\\\\ROI\\\\rgb-nir\\\\2021\\\\tnr16227_rois.hdf5',\n",
       " 'D:\\\\Drohnendaten\\\\10_WZE-UAV\\\\Auswertung_findatree\\\\Datasplit\\\\ROI\\\\rgb-nir\\\\2021\\\\tnr16400_rois.hdf5',\n",
       " 'D:\\\\Drohnendaten\\\\10_WZE-UAV\\\\Auswertung_findatree\\\\Datasplit\\\\ROI\\\\rgb-nir\\\\2021\\\\tnr16404_rois.hdf5',\n",
       " 'D:\\\\Drohnendaten\\\\10_WZE-UAV\\\\Auswertung_findatree\\\\Datasplit\\\\ROI\\\\rgb-nir\\\\2021\\\\tnr16412_rois.hdf5',\n",
       " 'D:\\\\Drohnendaten\\\\10_WZE-UAV\\\\Auswertung_findatree\\\\Datasplit\\\\ROI\\\\rgb-nir\\\\2021\\\\tnr16422_rois.hdf5',\n",
       " 'D:\\\\Drohnendaten\\\\10_WZE-UAV\\\\Auswertung_findatree\\\\Datasplit\\\\ROI\\\\rgb-nir\\\\2021\\\\tnr16426_rois.hdf5',\n",
       " 'D:\\\\Drohnendaten\\\\10_WZE-UAV\\\\Auswertung_findatree\\\\Datasplit\\\\ROI\\\\rgb-nir\\\\2021\\\\tnr16624_rois.hdf5',\n",
       " 'D:\\\\Drohnendaten\\\\10_WZE-UAV\\\\Auswertung_findatree\\\\Datasplit\\\\ROI\\\\rgb-nir\\\\2021\\\\tnr16632_rois.hdf5',\n",
       " 'D:\\\\Drohnendaten\\\\10_WZE-UAV\\\\Auswertung_findatree\\\\Datasplit\\\\ROI\\\\rgb-nir\\\\2021\\\\tnr16636_rois.hdf5',\n",
       " 'D:\\\\Drohnendaten\\\\10_WZE-UAV\\\\Auswertung_findatree\\\\Datasplit\\\\ROI\\\\rgb-nir\\\\2021\\\\tnr16639_rois.hdf5',\n",
       " 'D:\\\\Drohnendaten\\\\10_WZE-UAV\\\\Auswertung_findatree\\\\Datasplit\\\\ROI\\\\rgb-nir\\\\2021\\\\tnr16643_rois.hdf5',\n",
       " 'D:\\\\Drohnendaten\\\\10_WZE-UAV\\\\Auswertung_findatree\\\\Datasplit\\\\ROI\\\\rgb-nir\\\\2021\\\\tnr16645_rois.hdf5',\n",
       " 'D:\\\\Drohnendaten\\\\10_WZE-UAV\\\\Auswertung_findatree\\\\Datasplit\\\\ROI\\\\rgb-nir\\\\2021\\\\tnr16649_rois.hdf5',\n",
       " 'D:\\\\Drohnendaten\\\\10_WZE-UAV\\\\Auswertung_findatree\\\\Datasplit\\\\ROI\\\\rgb-nir\\\\2021\\\\tnr16657_rois.hdf5',\n",
       " 'D:\\\\Drohnendaten\\\\10_WZE-UAV\\\\Auswertung_findatree\\\\Datasplit\\\\ROI\\\\rgb-nir\\\\2021\\\\tnr16829_rois.hdf5',\n",
       " 'D:\\\\Drohnendaten\\\\10_WZE-UAV\\\\Auswertung_findatree\\\\Datasplit\\\\ROI\\\\rgb-nir\\\\2021\\\\tnr16833_rois.hdf5',\n",
       " 'D:\\\\Drohnendaten\\\\10_WZE-UAV\\\\Auswertung_findatree\\\\Datasplit\\\\ROI\\\\rgb-nir\\\\2021\\\\tnr16838_rois.hdf5',\n",
       " 'D:\\\\Drohnendaten\\\\10_WZE-UAV\\\\Auswertung_findatree\\\\Datasplit\\\\ROI\\\\rgb-nir\\\\2021\\\\tnr17019_rois.hdf5',\n",
       " 'D:\\\\Drohnendaten\\\\10_WZE-UAV\\\\Auswertung_findatree\\\\Datasplit\\\\ROI\\\\rgb-nir\\\\2021\\\\tnr17032_rois.hdf5',\n",
       " 'D:\\\\Drohnendaten\\\\10_WZE-UAV\\\\Auswertung_findatree\\\\Datasplit\\\\ROI\\\\rgb-nir\\\\2021\\\\tnr17034_rois.hdf5',\n",
       " 'D:\\\\Drohnendaten\\\\10_WZE-UAV\\\\Auswertung_findatree\\\\Datasplit\\\\ROI\\\\rgb-nir\\\\2021\\\\tnr17042_rois.hdf5',\n",
       " 'D:\\\\Drohnendaten\\\\10_WZE-UAV\\\\Auswertung_findatree\\\\Datasplit\\\\ROI\\\\rgb-nir\\\\2021\\\\tnr17339_rois.hdf5',\n",
       " 'D:\\\\Drohnendaten\\\\10_WZE-UAV\\\\Auswertung_findatree\\\\Datasplit\\\\ROI\\\\rgb-nir\\\\2021\\\\tnr182_rois.hdf5',\n",
       " 'D:\\\\Drohnendaten\\\\10_WZE-UAV\\\\Auswertung_findatree\\\\Datasplit\\\\ROI\\\\rgb-nir\\\\2021\\\\tnr185_rois.hdf5',\n",
       " 'D:\\\\Drohnendaten\\\\10_WZE-UAV\\\\Auswertung_findatree\\\\Datasplit\\\\ROI\\\\rgb-nir\\\\2021\\\\tnr188_rois.hdf5',\n",
       " 'D:\\\\Drohnendaten\\\\10_WZE-UAV\\\\Auswertung_findatree\\\\Datasplit\\\\ROI\\\\rgb-nir\\\\2021\\\\tnr1898_rois.hdf5',\n",
       " 'D:\\\\Drohnendaten\\\\10_WZE-UAV\\\\Auswertung_findatree\\\\Datasplit\\\\ROI\\\\rgb-nir\\\\2021\\\\tnr192_rois.hdf5',\n",
       " 'D:\\\\Drohnendaten\\\\10_WZE-UAV\\\\Auswertung_findatree\\\\Datasplit\\\\ROI\\\\rgb-nir\\\\2021\\\\tnr194_rois.hdf5',\n",
       " 'D:\\\\Drohnendaten\\\\10_WZE-UAV\\\\Auswertung_findatree\\\\Datasplit\\\\ROI\\\\rgb-nir\\\\2021\\\\tnr196_rois.hdf5',\n",
       " 'D:\\\\Drohnendaten\\\\10_WZE-UAV\\\\Auswertung_findatree\\\\Datasplit\\\\ROI\\\\rgb-nir\\\\2021\\\\tnr200_rois.hdf5',\n",
       " 'D:\\\\Drohnendaten\\\\10_WZE-UAV\\\\Auswertung_findatree\\\\Datasplit\\\\ROI\\\\rgb-nir\\\\2021\\\\tnr2386_rois.hdf5',\n",
       " 'D:\\\\Drohnendaten\\\\10_WZE-UAV\\\\Auswertung_findatree\\\\Datasplit\\\\ROI\\\\rgb-nir\\\\2021\\\\tnr2399_rois.hdf5',\n",
       " 'D:\\\\Drohnendaten\\\\10_WZE-UAV\\\\Auswertung_findatree\\\\Datasplit\\\\ROI\\\\rgb-nir\\\\2021\\\\tnr2411_rois.hdf5',\n",
       " 'D:\\\\Drohnendaten\\\\10_WZE-UAV\\\\Auswertung_findatree\\\\Datasplit\\\\ROI\\\\rgb-nir\\\\2021\\\\tnr2413_rois.hdf5',\n",
       " 'D:\\\\Drohnendaten\\\\10_WZE-UAV\\\\Auswertung_findatree\\\\Datasplit\\\\ROI\\\\rgb-nir\\\\2021\\\\tnr3398_rois.hdf5',\n",
       " 'D:\\\\Drohnendaten\\\\10_WZE-UAV\\\\Auswertung_findatree\\\\Datasplit\\\\ROI\\\\rgb-nir\\\\2021\\\\tnr3418_rois.hdf5',\n",
       " 'D:\\\\Drohnendaten\\\\10_WZE-UAV\\\\Auswertung_findatree\\\\Datasplit\\\\ROI\\\\rgb-nir\\\\2021\\\\tnr3430_rois.hdf5',\n",
       " 'D:\\\\Drohnendaten\\\\10_WZE-UAV\\\\Auswertung_findatree\\\\Datasplit\\\\ROI\\\\rgb-nir\\\\2021\\\\tnr3930_rois.hdf5',\n",
       " 'D:\\\\Drohnendaten\\\\10_WZE-UAV\\\\Auswertung_findatree\\\\Datasplit\\\\ROI\\\\rgb-nir\\\\2021\\\\tnr4396_rois.hdf5',\n",
       " 'D:\\\\Drohnendaten\\\\10_WZE-UAV\\\\Auswertung_findatree\\\\Datasplit\\\\ROI\\\\rgb-nir\\\\2021\\\\tnr4412_rois.hdf5',\n",
       " 'D:\\\\Drohnendaten\\\\10_WZE-UAV\\\\Auswertung_findatree\\\\Datasplit\\\\ROI\\\\rgb-nir\\\\2021\\\\tnr4436_rois.hdf5',\n",
       " 'D:\\\\Drohnendaten\\\\10_WZE-UAV\\\\Auswertung_findatree\\\\Datasplit\\\\ROI\\\\rgb-nir\\\\2021\\\\tnr4444_rois.hdf5',\n",
       " 'D:\\\\Drohnendaten\\\\10_WZE-UAV\\\\Auswertung_findatree\\\\Datasplit\\\\ROI\\\\rgb-nir\\\\2021\\\\tnr477_rois.hdf5',\n",
       " 'D:\\\\Drohnendaten\\\\10_WZE-UAV\\\\Auswertung_findatree\\\\Datasplit\\\\ROI\\\\rgb-nir\\\\2021\\\\tnr485_rois.hdf5',\n",
       " 'D:\\\\Drohnendaten\\\\10_WZE-UAV\\\\Auswertung_findatree\\\\Datasplit\\\\ROI\\\\rgb-nir\\\\2021\\\\tnr5449_rois.hdf5',\n",
       " 'D:\\\\Drohnendaten\\\\10_WZE-UAV\\\\Auswertung_findatree\\\\Datasplit\\\\ROI\\\\rgb-nir\\\\2021\\\\tnr5930_rois.hdf5',\n",
       " 'D:\\\\Drohnendaten\\\\10_WZE-UAV\\\\Auswertung_findatree\\\\Datasplit\\\\ROI\\\\rgb-nir\\\\2021\\\\tnr5946_rois.hdf5',\n",
       " 'D:\\\\Drohnendaten\\\\10_WZE-UAV\\\\Auswertung_findatree\\\\Datasplit\\\\ROI\\\\rgb-nir\\\\2021\\\\tnr6430_rois.hdf5',\n",
       " 'D:\\\\Drohnendaten\\\\10_WZE-UAV\\\\Auswertung_findatree\\\\Datasplit\\\\ROI\\\\rgb-nir\\\\2021\\\\tnr6462_rois.hdf5',\n",
       " 'D:\\\\Drohnendaten\\\\10_WZE-UAV\\\\Auswertung_findatree\\\\Datasplit\\\\ROI\\\\rgb-nir\\\\2021\\\\tnr6466_rois.hdf5',\n",
       " 'D:\\\\Drohnendaten\\\\10_WZE-UAV\\\\Auswertung_findatree\\\\Datasplit\\\\ROI\\\\rgb-nir\\\\2021\\\\tnr6468_rois.hdf5',\n",
       " 'D:\\\\Drohnendaten\\\\10_WZE-UAV\\\\Auswertung_findatree\\\\Datasplit\\\\ROI\\\\rgb-nir\\\\2021\\\\tnr6470_rois.hdf5',\n",
       " 'D:\\\\Drohnendaten\\\\10_WZE-UAV\\\\Auswertung_findatree\\\\Datasplit\\\\ROI\\\\rgb-nir\\\\2021\\\\tnr6474_rois.hdf5',\n",
       " 'D:\\\\Drohnendaten\\\\10_WZE-UAV\\\\Auswertung_findatree\\\\Datasplit\\\\ROI\\\\rgb-nir\\\\2021\\\\tnr6478_rois.hdf5',\n",
       " 'D:\\\\Drohnendaten\\\\10_WZE-UAV\\\\Auswertung_findatree\\\\Datasplit\\\\ROI\\\\rgb-nir\\\\2021\\\\tnr6969_rois.hdf5',\n",
       " 'D:\\\\Drohnendaten\\\\10_WZE-UAV\\\\Auswertung_findatree\\\\Datasplit\\\\ROI\\\\rgb-nir\\\\2021\\\\tnr6971_rois.hdf5',\n",
       " 'D:\\\\Drohnendaten\\\\10_WZE-UAV\\\\Auswertung_findatree\\\\Datasplit\\\\ROI\\\\rgb-nir\\\\2021\\\\tnr6977_rois.hdf5',\n",
       " 'D:\\\\Drohnendaten\\\\10_WZE-UAV\\\\Auswertung_findatree\\\\Datasplit\\\\ROI\\\\rgb-nir\\\\2021\\\\tnr7002_rois.hdf5',\n",
       " 'D:\\\\Drohnendaten\\\\10_WZE-UAV\\\\Auswertung_findatree\\\\Datasplit\\\\ROI\\\\rgb-nir\\\\2021\\\\tnr7475_rois.hdf5',\n",
       " 'D:\\\\Drohnendaten\\\\10_WZE-UAV\\\\Auswertung_findatree\\\\Datasplit\\\\ROI\\\\rgb-nir\\\\2021\\\\tnr7511_rois.hdf5',\n",
       " 'D:\\\\Drohnendaten\\\\10_WZE-UAV\\\\Auswertung_findatree\\\\Datasplit\\\\ROI\\\\rgb-nir\\\\2021\\\\tnr7517_rois.hdf5',\n",
       " 'D:\\\\Drohnendaten\\\\10_WZE-UAV\\\\Auswertung_findatree\\\\Datasplit\\\\ROI\\\\rgb-nir\\\\2021\\\\tnr7521_rois.hdf5',\n",
       " 'D:\\\\Drohnendaten\\\\10_WZE-UAV\\\\Auswertung_findatree\\\\Datasplit\\\\ROI\\\\rgb-nir\\\\2021\\\\tnr7525_rois.hdf5',\n",
       " 'D:\\\\Drohnendaten\\\\10_WZE-UAV\\\\Auswertung_findatree\\\\Datasplit\\\\ROI\\\\rgb-nir\\\\2021\\\\tnr8032_rois.hdf5',\n",
       " 'D:\\\\Drohnendaten\\\\10_WZE-UAV\\\\Auswertung_findatree\\\\Datasplit\\\\ROI\\\\rgb-nir\\\\2021\\\\tnr8040_rois.hdf5',\n",
       " 'D:\\\\Drohnendaten\\\\10_WZE-UAV\\\\Auswertung_findatree\\\\Datasplit\\\\ROI\\\\rgb-nir\\\\2021\\\\tnr8492_rois.hdf5',\n",
       " 'D:\\\\Drohnendaten\\\\10_WZE-UAV\\\\Auswertung_findatree\\\\Datasplit\\\\ROI\\\\rgb-nir\\\\2021\\\\tnr8494_rois.hdf5',\n",
       " 'D:\\\\Drohnendaten\\\\10_WZE-UAV\\\\Auswertung_findatree\\\\Datasplit\\\\ROI\\\\rgb-nir\\\\2021\\\\tnr8498_rois.hdf5',\n",
       " 'D:\\\\Drohnendaten\\\\10_WZE-UAV\\\\Auswertung_findatree\\\\Datasplit\\\\ROI\\\\rgb-nir\\\\2021\\\\tnr84_rois.hdf5',\n",
       " 'D:\\\\Drohnendaten\\\\10_WZE-UAV\\\\Auswertung_findatree\\\\Datasplit\\\\ROI\\\\rgb-nir\\\\2021\\\\tnr8532_rois.hdf5',\n",
       " 'D:\\\\Drohnendaten\\\\10_WZE-UAV\\\\Auswertung_findatree\\\\Datasplit\\\\ROI\\\\rgb-nir\\\\2021\\\\tnr86_rois.hdf5',\n",
       " 'D:\\\\Drohnendaten\\\\10_WZE-UAV\\\\Auswertung_findatree\\\\Datasplit\\\\ROI\\\\rgb-nir\\\\2021\\\\tnr8973_rois.hdf5',\n",
       " 'D:\\\\Drohnendaten\\\\10_WZE-UAV\\\\Auswertung_findatree\\\\Datasplit\\\\ROI\\\\rgb-nir\\\\2021\\\\tnr8979_rois.hdf5',\n",
       " 'D:\\\\Drohnendaten\\\\10_WZE-UAV\\\\Auswertung_findatree\\\\Datasplit\\\\ROI\\\\rgb-nir\\\\2021\\\\tnr8981_rois.hdf5',\n",
       " 'D:\\\\Drohnendaten\\\\10_WZE-UAV\\\\Auswertung_findatree\\\\Datasplit\\\\ROI\\\\rgb-nir\\\\2021\\\\tnr8989_rois.hdf5',\n",
       " 'D:\\\\Drohnendaten\\\\10_WZE-UAV\\\\Auswertung_findatree\\\\Datasplit\\\\ROI\\\\rgb-nir\\\\2021\\\\tnr9025_rois.hdf5',\n",
       " 'D:\\\\Drohnendaten\\\\10_WZE-UAV\\\\Auswertung_findatree\\\\Datasplit\\\\ROI\\\\rgb-nir\\\\2021\\\\tnr9464_rois.hdf5',\n",
       " 'D:\\\\Drohnendaten\\\\10_WZE-UAV\\\\Auswertung_findatree\\\\Datasplit\\\\ROI\\\\rgb-nir\\\\2021\\\\tnr9468_rois.hdf5',\n",
       " 'D:\\\\Drohnendaten\\\\10_WZE-UAV\\\\Auswertung_findatree\\\\Datasplit\\\\ROI\\\\rgb-nir\\\\2021\\\\tnr9472_rois.hdf5',\n",
       " 'D:\\\\Drohnendaten\\\\10_WZE-UAV\\\\Auswertung_findatree\\\\Datasplit\\\\ROI\\\\rgb-nir\\\\2021\\\\tnr9477_rois.hdf5',\n",
       " 'D:\\\\Drohnendaten\\\\10_WZE-UAV\\\\Auswertung_findatree\\\\Datasplit\\\\ROI\\\\rgb-nir\\\\2021\\\\tnr9479_rois.hdf5',\n",
       " 'D:\\\\Drohnendaten\\\\10_WZE-UAV\\\\Auswertung_findatree\\\\Datasplit\\\\ROI\\\\rgb-nir\\\\2021\\\\tnr9489_rois.hdf5',\n",
       " 'D:\\\\Drohnendaten\\\\10_WZE-UAV\\\\Auswertung_findatree\\\\Datasplit\\\\ROI\\\\rgb-nir\\\\2021\\\\tnr9493_rois.hdf5',\n",
       " 'D:\\\\Drohnendaten\\\\10_WZE-UAV\\\\Auswertung_findatree\\\\Datasplit\\\\ROI\\\\rgb-nir\\\\2021\\\\tnr9509_rois.hdf5',\n",
       " 'D:\\\\Drohnendaten\\\\10_WZE-UAV\\\\Auswertung_findatree\\\\Datasplit\\\\ROI\\\\rgb-nir\\\\2021\\\\tnr9515_rois.hdf5',\n",
       " 'D:\\\\Drohnendaten\\\\10_WZE-UAV\\\\Auswertung_findatree\\\\Datasplit\\\\ROI\\\\rgb-nir\\\\2021\\\\tnr9517_rois.hdf5',\n",
       " 'D:\\\\Drohnendaten\\\\10_WZE-UAV\\\\Auswertung_findatree\\\\Datasplit\\\\ROI\\\\rgb-nir\\\\2021\\\\tnr9948_rois.hdf5',\n",
       " 'D:\\\\Drohnendaten\\\\10_WZE-UAV\\\\Auswertung_findatree\\\\Datasplit\\\\ROI\\\\rgb-nir\\\\2021\\\\tnr9958_rois.hdf5',\n",
       " 'D:\\\\Drohnendaten\\\\10_WZE-UAV\\\\Auswertung_findatree\\\\Datasplit\\\\ROI\\\\rgb-nir\\\\2021\\\\tnr9966_rois.hdf5',\n",
       " 'D:\\\\Drohnendaten\\\\10_WZE-UAV\\\\Auswertung_findatree\\\\Datasplit\\\\ROI\\\\rgb-nir\\\\2021\\\\tnr9973_rois.hdf5',\n",
       " 'D:\\\\Drohnendaten\\\\10_WZE-UAV\\\\Auswertung_findatree\\\\Datasplit\\\\ROI\\\\rgb-nir\\\\2021\\\\tnr9980_rois.hdf5',\n",
       " 'D:\\\\Drohnendaten\\\\10_WZE-UAV\\\\Auswertung_findatree\\\\Datasplit\\\\ROI\\\\rgb-nir\\\\2021\\\\tnr9984_rois.hdf5',\n",
       " 'D:\\\\Drohnendaten\\\\10_WZE-UAV\\\\Auswertung_findatree\\\\Datasplit\\\\ROI\\\\rgb-nir\\\\2021\\\\tnr9986_rois.hdf5',\n",
       " 'D:\\\\Drohnendaten\\\\10_WZE-UAV\\\\Auswertung_findatree\\\\Datasplit\\\\ROI\\\\rgb-nir\\\\2021\\\\tnr9988_rois.hdf5',\n",
       " 'D:\\\\Drohnendaten\\\\10_WZE-UAV\\\\Auswertung_findatree\\\\Datasplit\\\\ROI\\\\rgb-nir\\\\2021\\\\tnr9996_rois.hdf5',\n",
       " 'D:\\\\Drohnendaten\\\\10_WZE-UAV\\\\Auswertung_findatree\\\\Datasplit\\\\ROI\\\\rgb-nir\\\\2022\\\\tnr10527_rois.hdf5',\n",
       " 'D:\\\\Drohnendaten\\\\10_WZE-UAV\\\\Auswertung_findatree\\\\Datasplit\\\\ROI\\\\rgb-nir\\\\2022\\\\tnr10533_rois.hdf5',\n",
       " 'D:\\\\Drohnendaten\\\\10_WZE-UAV\\\\Auswertung_findatree\\\\Datasplit\\\\ROI\\\\rgb-nir\\\\2022\\\\tnr10545_rois.hdf5',\n",
       " 'D:\\\\Drohnendaten\\\\10_WZE-UAV\\\\Auswertung_findatree\\\\Datasplit\\\\ROI\\\\rgb-nir\\\\2022\\\\tnr10547_rois.hdf5',\n",
       " 'D:\\\\Drohnendaten\\\\10_WZE-UAV\\\\Auswertung_findatree\\\\Datasplit\\\\ROI\\\\rgb-nir\\\\2022\\\\tnr10912_rois.hdf5',\n",
       " 'D:\\\\Drohnendaten\\\\10_WZE-UAV\\\\Auswertung_findatree\\\\Datasplit\\\\ROI\\\\rgb-nir\\\\2022\\\\tnr11032_rois.hdf5',\n",
       " 'D:\\\\Drohnendaten\\\\10_WZE-UAV\\\\Auswertung_findatree\\\\Datasplit\\\\ROI\\\\rgb-nir\\\\2022\\\\tnr11040_rois.hdf5',\n",
       " 'D:\\\\Drohnendaten\\\\10_WZE-UAV\\\\Auswertung_findatree\\\\Datasplit\\\\ROI\\\\rgb-nir\\\\2022\\\\tnr11044_rois.hdf5',\n",
       " 'D:\\\\Drohnendaten\\\\10_WZE-UAV\\\\Auswertung_findatree\\\\Datasplit\\\\ROI\\\\rgb-nir\\\\2022\\\\tnr11048_rois.hdf5',\n",
       " 'D:\\\\Drohnendaten\\\\10_WZE-UAV\\\\Auswertung_findatree\\\\Datasplit\\\\ROI\\\\rgb-nir\\\\2022\\\\tnr11052_rois.hdf5',\n",
       " 'D:\\\\Drohnendaten\\\\10_WZE-UAV\\\\Auswertung_findatree\\\\Datasplit\\\\ROI\\\\rgb-nir\\\\2022\\\\tnr11056_rois.hdf5',\n",
       " 'D:\\\\Drohnendaten\\\\10_WZE-UAV\\\\Auswertung_findatree\\\\Datasplit\\\\ROI\\\\rgb-nir\\\\2022\\\\tnr11078_rois.hdf5',\n",
       " 'D:\\\\Drohnendaten\\\\10_WZE-UAV\\\\Auswertung_findatree\\\\Datasplit\\\\ROI\\\\rgb-nir\\\\2022\\\\tnr11080_rois.hdf5',\n",
       " 'D:\\\\Drohnendaten\\\\10_WZE-UAV\\\\Auswertung_findatree\\\\Datasplit\\\\ROI\\\\rgb-nir\\\\2022\\\\tnr11090_rois.hdf5',\n",
       " 'D:\\\\Drohnendaten\\\\10_WZE-UAV\\\\Auswertung_findatree\\\\Datasplit\\\\ROI\\\\rgb-nir\\\\2022\\\\tnr11092_rois.hdf5',\n",
       " 'D:\\\\Drohnendaten\\\\10_WZE-UAV\\\\Auswertung_findatree\\\\Datasplit\\\\ROI\\\\rgb-nir\\\\2022\\\\tnr11179_rois.hdf5',\n",
       " 'D:\\\\Drohnendaten\\\\10_WZE-UAV\\\\Auswertung_findatree\\\\Datasplit\\\\ROI\\\\rgb-nir\\\\2022\\\\tnr11189_rois.hdf5',\n",
       " 'D:\\\\Drohnendaten\\\\10_WZE-UAV\\\\Auswertung_findatree\\\\Datasplit\\\\ROI\\\\rgb-nir\\\\2022\\\\tnr11325_rois.hdf5',\n",
       " 'D:\\\\Drohnendaten\\\\10_WZE-UAV\\\\Auswertung_findatree\\\\Datasplit\\\\ROI\\\\rgb-nir\\\\2022\\\\tnr11453_rois.hdf5',\n",
       " 'D:\\\\Drohnendaten\\\\10_WZE-UAV\\\\Auswertung_findatree\\\\Datasplit\\\\ROI\\\\rgb-nir\\\\2022\\\\tnr11459_rois.hdf5',\n",
       " 'D:\\\\Drohnendaten\\\\10_WZE-UAV\\\\Auswertung_findatree\\\\Datasplit\\\\ROI\\\\rgb-nir\\\\2022\\\\tnr11576_rois.hdf5',\n",
       " 'D:\\\\Drohnendaten\\\\10_WZE-UAV\\\\Auswertung_findatree\\\\Datasplit\\\\ROI\\\\rgb-nir\\\\2022\\\\tnr11581_rois.hdf5',\n",
       " 'D:\\\\Drohnendaten\\\\10_WZE-UAV\\\\Auswertung_findatree\\\\Datasplit\\\\ROI\\\\rgb-nir\\\\2022\\\\tnr11597_rois.hdf5',\n",
       " 'D:\\\\Drohnendaten\\\\10_WZE-UAV\\\\Auswertung_findatree\\\\Datasplit\\\\ROI\\\\rgb-nir\\\\2022\\\\tnr11601_rois.hdf5',\n",
       " 'D:\\\\Drohnendaten\\\\10_WZE-UAV\\\\Auswertung_findatree\\\\Datasplit\\\\ROI\\\\rgb-nir\\\\2022\\\\tnr11622_rois.hdf5',\n",
       " 'D:\\\\Drohnendaten\\\\10_WZE-UAV\\\\Auswertung_findatree\\\\Datasplit\\\\ROI\\\\rgb-nir\\\\2022\\\\tnr11626_rois.hdf5',\n",
       " 'D:\\\\Drohnendaten\\\\10_WZE-UAV\\\\Auswertung_findatree\\\\Datasplit\\\\ROI\\\\rgb-nir\\\\2022\\\\tnr11638_rois.hdf5',\n",
       " 'D:\\\\Drohnendaten\\\\10_WZE-UAV\\\\Auswertung_findatree\\\\Datasplit\\\\ROI\\\\rgb-nir\\\\2022\\\\tnr11640_rois.hdf5',\n",
       " 'D:\\\\Drohnendaten\\\\10_WZE-UAV\\\\Auswertung_findatree\\\\Datasplit\\\\ROI\\\\rgb-nir\\\\2022\\\\tnr11727_rois.hdf5',\n",
       " 'D:\\\\Drohnendaten\\\\10_WZE-UAV\\\\Auswertung_findatree\\\\Datasplit\\\\ROI\\\\rgb-nir\\\\2022\\\\tnr11733_rois.hdf5',\n",
       " 'D:\\\\Drohnendaten\\\\10_WZE-UAV\\\\Auswertung_findatree\\\\Datasplit\\\\ROI\\\\rgb-nir\\\\2022\\\\tnr11866_rois.hdf5',\n",
       " 'D:\\\\Drohnendaten\\\\10_WZE-UAV\\\\Auswertung_findatree\\\\Datasplit\\\\ROI\\\\rgb-nir\\\\2022\\\\tnr11874_rois.hdf5',\n",
       " 'D:\\\\Drohnendaten\\\\10_WZE-UAV\\\\Auswertung_findatree\\\\Datasplit\\\\ROI\\\\rgb-nir\\\\2022\\\\tnr11878_rois.hdf5',\n",
       " 'D:\\\\Drohnendaten\\\\10_WZE-UAV\\\\Auswertung_findatree\\\\Datasplit\\\\ROI\\\\rgb-nir\\\\2022\\\\tnr12013_rois.hdf5',\n",
       " 'D:\\\\Drohnendaten\\\\10_WZE-UAV\\\\Auswertung_findatree\\\\Datasplit\\\\ROI\\\\rgb-nir\\\\2022\\\\tnr12019_rois.hdf5',\n",
       " 'D:\\\\Drohnendaten\\\\10_WZE-UAV\\\\Auswertung_findatree\\\\Datasplit\\\\ROI\\\\rgb-nir\\\\2022\\\\tnr12120_rois.hdf5',\n",
       " 'D:\\\\Drohnendaten\\\\10_WZE-UAV\\\\Auswertung_findatree\\\\Datasplit\\\\ROI\\\\rgb-nir\\\\2022\\\\tnr12124_rois.hdf5',\n",
       " 'D:\\\\Drohnendaten\\\\10_WZE-UAV\\\\Auswertung_findatree\\\\Datasplit\\\\ROI\\\\rgb-nir\\\\2022\\\\tnr12153_rois.hdf5',\n",
       " 'D:\\\\Drohnendaten\\\\10_WZE-UAV\\\\Auswertung_findatree\\\\Datasplit\\\\ROI\\\\rgb-nir\\\\2022\\\\tnr12161_rois.hdf5',\n",
       " 'D:\\\\Drohnendaten\\\\10_WZE-UAV\\\\Auswertung_findatree\\\\Datasplit\\\\ROI\\\\rgb-nir\\\\2022\\\\tnr12169_rois.hdf5',\n",
       " 'D:\\\\Drohnendaten\\\\10_WZE-UAV\\\\Auswertung_findatree\\\\Datasplit\\\\ROI\\\\rgb-nir\\\\2022\\\\tnr12179_rois.hdf5',\n",
       " 'D:\\\\Drohnendaten\\\\10_WZE-UAV\\\\Auswertung_findatree\\\\Datasplit\\\\ROI\\\\rgb-nir\\\\2022\\\\tnr12285_rois.hdf5',\n",
       " 'D:\\\\Drohnendaten\\\\10_WZE-UAV\\\\Auswertung_findatree\\\\Datasplit\\\\ROI\\\\rgb-nir\\\\2022\\\\tnr12426_rois.hdf5',\n",
       " 'D:\\\\Drohnendaten\\\\10_WZE-UAV\\\\Auswertung_findatree\\\\Datasplit\\\\ROI\\\\rgb-nir\\\\2022\\\\tnr12549_rois.hdf5',\n",
       " 'D:\\\\Drohnendaten\\\\10_WZE-UAV\\\\Auswertung_findatree\\\\Datasplit\\\\ROI\\\\rgb-nir\\\\2022\\\\tnr12553_rois.hdf5',\n",
       " 'D:\\\\Drohnendaten\\\\10_WZE-UAV\\\\Auswertung_findatree\\\\Datasplit\\\\ROI\\\\rgb-nir\\\\2022\\\\tnr12694_rois.hdf5',\n",
       " 'D:\\\\Drohnendaten\\\\10_WZE-UAV\\\\Auswertung_findatree\\\\Datasplit\\\\ROI\\\\rgb-nir\\\\2022\\\\tnr12702_rois.hdf5',\n",
       " 'D:\\\\Drohnendaten\\\\10_WZE-UAV\\\\Auswertung_findatree\\\\Datasplit\\\\ROI\\\\rgb-nir\\\\2022\\\\tnr12715_rois.hdf5',\n",
       " 'D:\\\\Drohnendaten\\\\10_WZE-UAV\\\\Auswertung_findatree\\\\Datasplit\\\\ROI\\\\rgb-nir\\\\2022\\\\tnr12717_rois.hdf5',\n",
       " 'D:\\\\Drohnendaten\\\\10_WZE-UAV\\\\Auswertung_findatree\\\\Datasplit\\\\ROI\\\\rgb-nir\\\\2022\\\\tnr12719_rois.hdf5',\n",
       " 'D:\\\\Drohnendaten\\\\10_WZE-UAV\\\\Auswertung_findatree\\\\Datasplit\\\\ROI\\\\rgb-nir\\\\2022\\\\tnr12950_rois.hdf5',\n",
       " 'D:\\\\Drohnendaten\\\\10_WZE-UAV\\\\Auswertung_findatree\\\\Datasplit\\\\ROI\\\\rgb-nir\\\\2022\\\\tnr12960_rois.hdf5',\n",
       " 'D:\\\\Drohnendaten\\\\10_WZE-UAV\\\\Auswertung_findatree\\\\Datasplit\\\\ROI\\\\rgb-nir\\\\2022\\\\tnr13212_rois.hdf5',\n",
       " 'D:\\\\Drohnendaten\\\\10_WZE-UAV\\\\Auswertung_findatree\\\\Datasplit\\\\ROI\\\\rgb-nir\\\\2022\\\\tnr13233_rois.hdf5',\n",
       " 'D:\\\\Drohnendaten\\\\10_WZE-UAV\\\\Auswertung_findatree\\\\Datasplit\\\\ROI\\\\rgb-nir\\\\2022\\\\tnr13259_rois.hdf5',\n",
       " 'D:\\\\Drohnendaten\\\\10_WZE-UAV\\\\Auswertung_findatree\\\\Datasplit\\\\ROI\\\\rgb-nir\\\\2022\\\\tnr13508_rois.hdf5',\n",
       " 'D:\\\\Drohnendaten\\\\10_WZE-UAV\\\\Auswertung_findatree\\\\Datasplit\\\\ROI\\\\rgb-nir\\\\2022\\\\tnr13758_rois.hdf5',\n",
       " 'D:\\\\Drohnendaten\\\\10_WZE-UAV\\\\Auswertung_findatree\\\\Datasplit\\\\ROI\\\\rgb-nir\\\\2022\\\\tnr13766_rois.hdf5',\n",
       " 'D:\\\\Drohnendaten\\\\10_WZE-UAV\\\\Auswertung_findatree\\\\Datasplit\\\\ROI\\\\rgb-nir\\\\2022\\\\tnr13779_rois.hdf5',\n",
       " 'D:\\\\Drohnendaten\\\\10_WZE-UAV\\\\Auswertung_findatree\\\\Datasplit\\\\ROI\\\\rgb-nir\\\\2022\\\\tnr13819_rois.hdf5',\n",
       " 'D:\\\\Drohnendaten\\\\10_WZE-UAV\\\\Auswertung_findatree\\\\Datasplit\\\\ROI\\\\rgb-nir\\\\2022\\\\tnr13825_rois.hdf5',\n",
       " 'D:\\\\Drohnendaten\\\\10_WZE-UAV\\\\Auswertung_findatree\\\\Datasplit\\\\ROI\\\\rgb-nir\\\\2022\\\\tnr13898_rois.hdf5',\n",
       " 'D:\\\\Drohnendaten\\\\10_WZE-UAV\\\\Auswertung_findatree\\\\Datasplit\\\\ROI\\\\rgb-nir\\\\2022\\\\tnr13922_rois.hdf5',\n",
       " 'D:\\\\Drohnendaten\\\\10_WZE-UAV\\\\Auswertung_findatree\\\\Datasplit\\\\ROI\\\\rgb-nir\\\\2022\\\\tnr14156_rois.hdf5',\n",
       " 'D:\\\\Drohnendaten\\\\10_WZE-UAV\\\\Auswertung_findatree\\\\Datasplit\\\\ROI\\\\rgb-nir\\\\2022\\\\tnr14293_rois.hdf5',\n",
       " 'D:\\\\Drohnendaten\\\\10_WZE-UAV\\\\Auswertung_findatree\\\\Datasplit\\\\ROI\\\\rgb-nir\\\\2022\\\\tnr14327_rois.hdf5',\n",
       " 'D:\\\\Drohnendaten\\\\10_WZE-UAV\\\\Auswertung_findatree\\\\Datasplit\\\\ROI\\\\rgb-nir\\\\2022\\\\tnr14666_rois.hdf5',\n",
       " 'D:\\\\Drohnendaten\\\\10_WZE-UAV\\\\Auswertung_findatree\\\\Datasplit\\\\ROI\\\\rgb-nir\\\\2022\\\\tnr14723_rois.hdf5',\n",
       " 'D:\\\\Drohnendaten\\\\10_WZE-UAV\\\\Auswertung_findatree\\\\Datasplit\\\\ROI\\\\rgb-nir\\\\2022\\\\tnr14727_rois.hdf5',\n",
       " 'D:\\\\Drohnendaten\\\\10_WZE-UAV\\\\Auswertung_findatree\\\\Datasplit\\\\ROI\\\\rgb-nir\\\\2022\\\\tnr14732_rois.hdf5',\n",
       " 'D:\\\\Drohnendaten\\\\10_WZE-UAV\\\\Auswertung_findatree\\\\Datasplit\\\\ROI\\\\rgb-nir\\\\2022\\\\tnr14781_rois.hdf5',\n",
       " 'D:\\\\Drohnendaten\\\\10_WZE-UAV\\\\Auswertung_findatree\\\\Datasplit\\\\ROI\\\\rgb-nir\\\\2022\\\\tnr14877_rois.hdf5',\n",
       " 'D:\\\\Drohnendaten\\\\10_WZE-UAV\\\\Auswertung_findatree\\\\Datasplit\\\\ROI\\\\rgb-nir\\\\2022\\\\tnr14879_rois.hdf5',\n",
       " 'D:\\\\Drohnendaten\\\\10_WZE-UAV\\\\Auswertung_findatree\\\\Datasplit\\\\ROI\\\\rgb-nir\\\\2022\\\\tnr14887_rois.hdf5',\n",
       " 'D:\\\\Drohnendaten\\\\10_WZE-UAV\\\\Auswertung_findatree\\\\Datasplit\\\\ROI\\\\rgb-nir\\\\2022\\\\tnr15020_rois.hdf5',\n",
       " 'D:\\\\Drohnendaten\\\\10_WZE-UAV\\\\Auswertung_findatree\\\\Datasplit\\\\ROI\\\\rgb-nir\\\\2022\\\\tnr15027_rois.hdf5',\n",
       " 'D:\\\\Drohnendaten\\\\10_WZE-UAV\\\\Auswertung_findatree\\\\Datasplit\\\\ROI\\\\rgb-nir\\\\2022\\\\tnr15031_rois.hdf5',\n",
       " 'D:\\\\Drohnendaten\\\\10_WZE-UAV\\\\Auswertung_findatree\\\\Datasplit\\\\ROI\\\\rgb-nir\\\\2022\\\\tnr15035_rois.hdf5',\n",
       " 'D:\\\\Drohnendaten\\\\10_WZE-UAV\\\\Auswertung_findatree\\\\Datasplit\\\\ROI\\\\rgb-nir\\\\2022\\\\tnr15039_rois.hdf5',\n",
       " 'D:\\\\Drohnendaten\\\\10_WZE-UAV\\\\Auswertung_findatree\\\\Datasplit\\\\ROI\\\\rgb-nir\\\\2022\\\\tnr15043_rois.hdf5',\n",
       " 'D:\\\\Drohnendaten\\\\10_WZE-UAV\\\\Auswertung_findatree\\\\Datasplit\\\\ROI\\\\rgb-nir\\\\2022\\\\tnr15046_rois.hdf5',\n",
       " 'D:\\\\Drohnendaten\\\\10_WZE-UAV\\\\Auswertung_findatree\\\\Datasplit\\\\ROI\\\\rgb-nir\\\\2022\\\\tnr15050_rois.hdf5',\n",
       " 'D:\\\\Drohnendaten\\\\10_WZE-UAV\\\\Auswertung_findatree\\\\Datasplit\\\\ROI\\\\rgb-nir\\\\2022\\\\tnr15101_rois.hdf5',\n",
       " 'D:\\\\Drohnendaten\\\\10_WZE-UAV\\\\Auswertung_findatree\\\\Datasplit\\\\ROI\\\\rgb-nir\\\\2022\\\\tnr15273_rois.hdf5',\n",
       " 'D:\\\\Drohnendaten\\\\10_WZE-UAV\\\\Auswertung_findatree\\\\Datasplit\\\\ROI\\\\rgb-nir\\\\2022\\\\tnr15277_rois.hdf5',\n",
       " 'D:\\\\Drohnendaten\\\\10_WZE-UAV\\\\Auswertung_findatree\\\\Datasplit\\\\ROI\\\\rgb-nir\\\\2022\\\\tnr15297_rois.hdf5',\n",
       " 'D:\\\\Drohnendaten\\\\10_WZE-UAV\\\\Auswertung_findatree\\\\Datasplit\\\\ROI\\\\rgb-nir\\\\2022\\\\tnr15299_rois.hdf5',\n",
       " 'D:\\\\Drohnendaten\\\\10_WZE-UAV\\\\Auswertung_findatree\\\\Datasplit\\\\ROI\\\\rgb-nir\\\\2022\\\\tnr15301_rois.hdf5',\n",
       " 'D:\\\\Drohnendaten\\\\10_WZE-UAV\\\\Auswertung_findatree\\\\Datasplit\\\\ROI\\\\rgb-nir\\\\2022\\\\tnr15303_rois.hdf5',\n",
       " 'D:\\\\Drohnendaten\\\\10_WZE-UAV\\\\Auswertung_findatree\\\\Datasplit\\\\ROI\\\\rgb-nir\\\\2022\\\\tnr15306_rois.hdf5',\n",
       " 'D:\\\\Drohnendaten\\\\10_WZE-UAV\\\\Auswertung_findatree\\\\Datasplit\\\\ROI\\\\rgb-nir\\\\2022\\\\tnr15311_rois.hdf5',\n",
       " 'D:\\\\Drohnendaten\\\\10_WZE-UAV\\\\Auswertung_findatree\\\\Datasplit\\\\ROI\\\\rgb-nir\\\\2022\\\\tnr15313_rois.hdf5',\n",
       " 'D:\\\\Drohnendaten\\\\10_WZE-UAV\\\\Auswertung_findatree\\\\Datasplit\\\\ROI\\\\rgb-nir\\\\2022\\\\tnr15319_rois.hdf5',\n",
       " 'D:\\\\Drohnendaten\\\\10_WZE-UAV\\\\Auswertung_findatree\\\\Datasplit\\\\ROI\\\\rgb-nir\\\\2022\\\\tnr15327_rois.hdf5',\n",
       " 'D:\\\\Drohnendaten\\\\10_WZE-UAV\\\\Auswertung_findatree\\\\Datasplit\\\\ROI\\\\rgb-nir\\\\2022\\\\tnr15519_rois.hdf5',\n",
       " 'D:\\\\Drohnendaten\\\\10_WZE-UAV\\\\Auswertung_findatree\\\\Datasplit\\\\ROI\\\\rgb-nir\\\\2022\\\\tnr15521_rois.hdf5',\n",
       " 'D:\\\\Drohnendaten\\\\10_WZE-UAV\\\\Auswertung_findatree\\\\Datasplit\\\\ROI\\\\rgb-nir\\\\2022\\\\tnr15531_rois.hdf5',\n",
       " 'D:\\\\Drohnendaten\\\\10_WZE-UAV\\\\Auswertung_findatree\\\\Datasplit\\\\ROI\\\\rgb-nir\\\\2022\\\\tnr15537_rois.hdf5',\n",
       " 'D:\\\\Drohnendaten\\\\10_WZE-UAV\\\\Auswertung_findatree\\\\Datasplit\\\\ROI\\\\rgb-nir\\\\2022\\\\tnr15730_rois.hdf5',\n",
       " 'D:\\\\Drohnendaten\\\\10_WZE-UAV\\\\Auswertung_findatree\\\\Datasplit\\\\ROI\\\\rgb-nir\\\\2022\\\\tnr15736_rois.hdf5',\n",
       " 'D:\\\\Drohnendaten\\\\10_WZE-UAV\\\\Auswertung_findatree\\\\Datasplit\\\\ROI\\\\rgb-nir\\\\2022\\\\tnr15746_rois.hdf5',\n",
       " 'D:\\\\Drohnendaten\\\\10_WZE-UAV\\\\Auswertung_findatree\\\\Datasplit\\\\ROI\\\\rgb-nir\\\\2022\\\\tnr15748_rois.hdf5',\n",
       " 'D:\\\\Drohnendaten\\\\10_WZE-UAV\\\\Auswertung_findatree\\\\Datasplit\\\\ROI\\\\rgb-nir\\\\2022\\\\tnr15780_rois.hdf5',\n",
       " 'D:\\\\Drohnendaten\\\\10_WZE-UAV\\\\Auswertung_findatree\\\\Datasplit\\\\ROI\\\\rgb-nir\\\\2022\\\\tnr15966_rois.hdf5',\n",
       " 'D:\\\\Drohnendaten\\\\10_WZE-UAV\\\\Auswertung_findatree\\\\Datasplit\\\\ROI\\\\rgb-nir\\\\2022\\\\tnr15974_rois.hdf5',\n",
       " 'D:\\\\Drohnendaten\\\\10_WZE-UAV\\\\Auswertung_findatree\\\\Datasplit\\\\ROI\\\\rgb-nir\\\\2022\\\\tnr15986_rois.hdf5',\n",
       " 'D:\\\\Drohnendaten\\\\10_WZE-UAV\\\\Auswertung_findatree\\\\Datasplit\\\\ROI\\\\rgb-nir\\\\2022\\\\tnr15988_rois.hdf5',\n",
       " 'D:\\\\Drohnendaten\\\\10_WZE-UAV\\\\Auswertung_findatree\\\\Datasplit\\\\ROI\\\\rgb-nir\\\\2022\\\\tnr15998_rois.hdf5',\n",
       " 'D:\\\\Drohnendaten\\\\10_WZE-UAV\\\\Auswertung_findatree\\\\Datasplit\\\\ROI\\\\rgb-nir\\\\2022\\\\tnr16173_rois.hdf5',\n",
       " 'D:\\\\Drohnendaten\\\\10_WZE-UAV\\\\Auswertung_findatree\\\\Datasplit\\\\ROI\\\\rgb-nir\\\\2022\\\\tnr16181_rois.hdf5',\n",
       " 'D:\\\\Drohnendaten\\\\10_WZE-UAV\\\\Auswertung_findatree\\\\Datasplit\\\\ROI\\\\rgb-nir\\\\2022\\\\tnr16193_rois.hdf5',\n",
       " 'D:\\\\Drohnendaten\\\\10_WZE-UAV\\\\Auswertung_findatree\\\\Datasplit\\\\ROI\\\\rgb-nir\\\\2022\\\\tnr16197_rois.hdf5',\n",
       " 'D:\\\\Drohnendaten\\\\10_WZE-UAV\\\\Auswertung_findatree\\\\Datasplit\\\\ROI\\\\rgb-nir\\\\2022\\\\tnr16205_rois.hdf5',\n",
       " 'D:\\\\Drohnendaten\\\\10_WZE-UAV\\\\Auswertung_findatree\\\\Datasplit\\\\ROI\\\\rgb-nir\\\\2022\\\\tnr16211_rois.hdf5',\n",
       " 'D:\\\\Drohnendaten\\\\10_WZE-UAV\\\\Auswertung_findatree\\\\Datasplit\\\\ROI\\\\rgb-nir\\\\2022\\\\tnr16223_rois.hdf5',\n",
       " 'D:\\\\Drohnendaten\\\\10_WZE-UAV\\\\Auswertung_findatree\\\\Datasplit\\\\ROI\\\\rgb-nir\\\\2022\\\\tnr16227_rois.hdf5',\n",
       " 'D:\\\\Drohnendaten\\\\10_WZE-UAV\\\\Auswertung_findatree\\\\Datasplit\\\\ROI\\\\rgb-nir\\\\2022\\\\tnr16400_rois.hdf5',\n",
       " 'D:\\\\Drohnendaten\\\\10_WZE-UAV\\\\Auswertung_findatree\\\\Datasplit\\\\ROI\\\\rgb-nir\\\\2022\\\\tnr16404_rois.hdf5',\n",
       " 'D:\\\\Drohnendaten\\\\10_WZE-UAV\\\\Auswertung_findatree\\\\Datasplit\\\\ROI\\\\rgb-nir\\\\2022\\\\tnr16412_rois.hdf5',\n",
       " 'D:\\\\Drohnendaten\\\\10_WZE-UAV\\\\Auswertung_findatree\\\\Datasplit\\\\ROI\\\\rgb-nir\\\\2022\\\\tnr16422_rois.hdf5',\n",
       " 'D:\\\\Drohnendaten\\\\10_WZE-UAV\\\\Auswertung_findatree\\\\Datasplit\\\\ROI\\\\rgb-nir\\\\2022\\\\tnr16426_rois.hdf5',\n",
       " 'D:\\\\Drohnendaten\\\\10_WZE-UAV\\\\Auswertung_findatree\\\\Datasplit\\\\ROI\\\\rgb-nir\\\\2022\\\\tnr16620_rois.hdf5',\n",
       " 'D:\\\\Drohnendaten\\\\10_WZE-UAV\\\\Auswertung_findatree\\\\Datasplit\\\\ROI\\\\rgb-nir\\\\2022\\\\tnr16624_rois.hdf5',\n",
       " 'D:\\\\Drohnendaten\\\\10_WZE-UAV\\\\Auswertung_findatree\\\\Datasplit\\\\ROI\\\\rgb-nir\\\\2022\\\\tnr16632_rois.hdf5',\n",
       " 'D:\\\\Drohnendaten\\\\10_WZE-UAV\\\\Auswertung_findatree\\\\Datasplit\\\\ROI\\\\rgb-nir\\\\2022\\\\tnr16636_rois.hdf5',\n",
       " 'D:\\\\Drohnendaten\\\\10_WZE-UAV\\\\Auswertung_findatree\\\\Datasplit\\\\ROI\\\\rgb-nir\\\\2022\\\\tnr16639_rois.hdf5',\n",
       " 'D:\\\\Drohnendaten\\\\10_WZE-UAV\\\\Auswertung_findatree\\\\Datasplit\\\\ROI\\\\rgb-nir\\\\2022\\\\tnr16643_rois.hdf5',\n",
       " 'D:\\\\Drohnendaten\\\\10_WZE-UAV\\\\Auswertung_findatree\\\\Datasplit\\\\ROI\\\\rgb-nir\\\\2022\\\\tnr16645_rois.hdf5',\n",
       " 'D:\\\\Drohnendaten\\\\10_WZE-UAV\\\\Auswertung_findatree\\\\Datasplit\\\\ROI\\\\rgb-nir\\\\2022\\\\tnr16649_rois.hdf5',\n",
       " 'D:\\\\Drohnendaten\\\\10_WZE-UAV\\\\Auswertung_findatree\\\\Datasplit\\\\ROI\\\\rgb-nir\\\\2022\\\\tnr16657_rois.hdf5',\n",
       " 'D:\\\\Drohnendaten\\\\10_WZE-UAV\\\\Auswertung_findatree\\\\Datasplit\\\\ROI\\\\rgb-nir\\\\2022\\\\tnr16829_rois.hdf5',\n",
       " 'D:\\\\Drohnendaten\\\\10_WZE-UAV\\\\Auswertung_findatree\\\\Datasplit\\\\ROI\\\\rgb-nir\\\\2022\\\\tnr16833_rois.hdf5',\n",
       " 'D:\\\\Drohnendaten\\\\10_WZE-UAV\\\\Auswertung_findatree\\\\Datasplit\\\\ROI\\\\rgb-nir\\\\2022\\\\tnr16838_rois.hdf5',\n",
       " 'D:\\\\Drohnendaten\\\\10_WZE-UAV\\\\Auswertung_findatree\\\\Datasplit\\\\ROI\\\\rgb-nir\\\\2022\\\\tnr17019_rois.hdf5',\n",
       " 'D:\\\\Drohnendaten\\\\10_WZE-UAV\\\\Auswertung_findatree\\\\Datasplit\\\\ROI\\\\rgb-nir\\\\2022\\\\tnr17032_rois.hdf5',\n",
       " 'D:\\\\Drohnendaten\\\\10_WZE-UAV\\\\Auswertung_findatree\\\\Datasplit\\\\ROI\\\\rgb-nir\\\\2022\\\\tnr17034_rois.hdf5',\n",
       " 'D:\\\\Drohnendaten\\\\10_WZE-UAV\\\\Auswertung_findatree\\\\Datasplit\\\\ROI\\\\rgb-nir\\\\2022\\\\tnr17042_rois.hdf5',\n",
       " 'D:\\\\Drohnendaten\\\\10_WZE-UAV\\\\Auswertung_findatree\\\\Datasplit\\\\ROI\\\\rgb-nir\\\\2022\\\\tnr17339_rois.hdf5',\n",
       " 'D:\\\\Drohnendaten\\\\10_WZE-UAV\\\\Auswertung_findatree\\\\Datasplit\\\\ROI\\\\rgb-nir\\\\2022\\\\tnr1898_rois.hdf5',\n",
       " 'D:\\\\Drohnendaten\\\\10_WZE-UAV\\\\Auswertung_findatree\\\\Datasplit\\\\ROI\\\\rgb-nir\\\\2022\\\\tnr2386_rois.hdf5',\n",
       " 'D:\\\\Drohnendaten\\\\10_WZE-UAV\\\\Auswertung_findatree\\\\Datasplit\\\\ROI\\\\rgb-nir\\\\2022\\\\tnr2399_rois.hdf5',\n",
       " 'D:\\\\Drohnendaten\\\\10_WZE-UAV\\\\Auswertung_findatree\\\\Datasplit\\\\ROI\\\\rgb-nir\\\\2022\\\\tnr2411_rois.hdf5',\n",
       " 'D:\\\\Drohnendaten\\\\10_WZE-UAV\\\\Auswertung_findatree\\\\Datasplit\\\\ROI\\\\rgb-nir\\\\2022\\\\tnr2413_rois.hdf5',\n",
       " 'D:\\\\Drohnendaten\\\\10_WZE-UAV\\\\Auswertung_findatree\\\\Datasplit\\\\ROI\\\\rgb-nir\\\\2022\\\\tnr3398_rois.hdf5',\n",
       " 'D:\\\\Drohnendaten\\\\10_WZE-UAV\\\\Auswertung_findatree\\\\Datasplit\\\\ROI\\\\rgb-nir\\\\2022\\\\tnr3418_rois.hdf5',\n",
       " 'D:\\\\Drohnendaten\\\\10_WZE-UAV\\\\Auswertung_findatree\\\\Datasplit\\\\ROI\\\\rgb-nir\\\\2022\\\\tnr3430_rois.hdf5',\n",
       " 'D:\\\\Drohnendaten\\\\10_WZE-UAV\\\\Auswertung_findatree\\\\Datasplit\\\\ROI\\\\rgb-nir\\\\2022\\\\tnr3930_rois.hdf5',\n",
       " 'D:\\\\Drohnendaten\\\\10_WZE-UAV\\\\Auswertung_findatree\\\\Datasplit\\\\ROI\\\\rgb-nir\\\\2022\\\\tnr4412_rois.hdf5',\n",
       " 'D:\\\\Drohnendaten\\\\10_WZE-UAV\\\\Auswertung_findatree\\\\Datasplit\\\\ROI\\\\rgb-nir\\\\2022\\\\tnr4436_rois.hdf5',\n",
       " 'D:\\\\Drohnendaten\\\\10_WZE-UAV\\\\Auswertung_findatree\\\\Datasplit\\\\ROI\\\\rgb-nir\\\\2022\\\\tnr4444_rois.hdf5',\n",
       " 'D:\\\\Drohnendaten\\\\10_WZE-UAV\\\\Auswertung_findatree\\\\Datasplit\\\\ROI\\\\rgb-nir\\\\2022\\\\tnr5449_rois.hdf5',\n",
       " 'D:\\\\Drohnendaten\\\\10_WZE-UAV\\\\Auswertung_findatree\\\\Datasplit\\\\ROI\\\\rgb-nir\\\\2022\\\\tnr5930_rois.hdf5',\n",
       " 'D:\\\\Drohnendaten\\\\10_WZE-UAV\\\\Auswertung_findatree\\\\Datasplit\\\\ROI\\\\rgb-nir\\\\2022\\\\tnr5946_rois.hdf5',\n",
       " 'D:\\\\Drohnendaten\\\\10_WZE-UAV\\\\Auswertung_findatree\\\\Datasplit\\\\ROI\\\\rgb-nir\\\\2022\\\\tnr6430_rois.hdf5',\n",
       " 'D:\\\\Drohnendaten\\\\10_WZE-UAV\\\\Auswertung_findatree\\\\Datasplit\\\\ROI\\\\rgb-nir\\\\2022\\\\tnr6462_rois.hdf5',\n",
       " 'D:\\\\Drohnendaten\\\\10_WZE-UAV\\\\Auswertung_findatree\\\\Datasplit\\\\ROI\\\\rgb-nir\\\\2022\\\\tnr6466_rois.hdf5',\n",
       " 'D:\\\\Drohnendaten\\\\10_WZE-UAV\\\\Auswertung_findatree\\\\Datasplit\\\\ROI\\\\rgb-nir\\\\2022\\\\tnr6468_rois.hdf5',\n",
       " 'D:\\\\Drohnendaten\\\\10_WZE-UAV\\\\Auswertung_findatree\\\\Datasplit\\\\ROI\\\\rgb-nir\\\\2022\\\\tnr6470_rois.hdf5',\n",
       " 'D:\\\\Drohnendaten\\\\10_WZE-UAV\\\\Auswertung_findatree\\\\Datasplit\\\\ROI\\\\rgb-nir\\\\2022\\\\tnr6474_rois.hdf5',\n",
       " 'D:\\\\Drohnendaten\\\\10_WZE-UAV\\\\Auswertung_findatree\\\\Datasplit\\\\ROI\\\\rgb-nir\\\\2022\\\\tnr6478_rois.hdf5',\n",
       " 'D:\\\\Drohnendaten\\\\10_WZE-UAV\\\\Auswertung_findatree\\\\Datasplit\\\\ROI\\\\rgb-nir\\\\2022\\\\tnr6969_rois.hdf5',\n",
       " 'D:\\\\Drohnendaten\\\\10_WZE-UAV\\\\Auswertung_findatree\\\\Datasplit\\\\ROI\\\\rgb-nir\\\\2022\\\\tnr6971_rois.hdf5',\n",
       " 'D:\\\\Drohnendaten\\\\10_WZE-UAV\\\\Auswertung_findatree\\\\Datasplit\\\\ROI\\\\rgb-nir\\\\2022\\\\tnr6977_rois.hdf5',\n",
       " 'D:\\\\Drohnendaten\\\\10_WZE-UAV\\\\Auswertung_findatree\\\\Datasplit\\\\ROI\\\\rgb-nir\\\\2022\\\\tnr7002_rois.hdf5',\n",
       " 'D:\\\\Drohnendaten\\\\10_WZE-UAV\\\\Auswertung_findatree\\\\Datasplit\\\\ROI\\\\rgb-nir\\\\2022\\\\tnr7475_rois.hdf5',\n",
       " 'D:\\\\Drohnendaten\\\\10_WZE-UAV\\\\Auswertung_findatree\\\\Datasplit\\\\ROI\\\\rgb-nir\\\\2022\\\\tnr7511_rois.hdf5',\n",
       " 'D:\\\\Drohnendaten\\\\10_WZE-UAV\\\\Auswertung_findatree\\\\Datasplit\\\\ROI\\\\rgb-nir\\\\2022\\\\tnr7517_rois.hdf5',\n",
       " 'D:\\\\Drohnendaten\\\\10_WZE-UAV\\\\Auswertung_findatree\\\\Datasplit\\\\ROI\\\\rgb-nir\\\\2022\\\\tnr7521_rois.hdf5',\n",
       " 'D:\\\\Drohnendaten\\\\10_WZE-UAV\\\\Auswertung_findatree\\\\Datasplit\\\\ROI\\\\rgb-nir\\\\2022\\\\tnr7525_rois.hdf5',\n",
       " 'D:\\\\Drohnendaten\\\\10_WZE-UAV\\\\Auswertung_findatree\\\\Datasplit\\\\ROI\\\\rgb-nir\\\\2022\\\\tnr8040_rois.hdf5',\n",
       " 'D:\\\\Drohnendaten\\\\10_WZE-UAV\\\\Auswertung_findatree\\\\Datasplit\\\\ROI\\\\rgb-nir\\\\2022\\\\tnr8492_rois.hdf5',\n",
       " 'D:\\\\Drohnendaten\\\\10_WZE-UAV\\\\Auswertung_findatree\\\\Datasplit\\\\ROI\\\\rgb-nir\\\\2022\\\\tnr8494_rois.hdf5',\n",
       " 'D:\\\\Drohnendaten\\\\10_WZE-UAV\\\\Auswertung_findatree\\\\Datasplit\\\\ROI\\\\rgb-nir\\\\2022\\\\tnr8498_rois.hdf5',\n",
       " 'D:\\\\Drohnendaten\\\\10_WZE-UAV\\\\Auswertung_findatree\\\\Datasplit\\\\ROI\\\\rgb-nir\\\\2022\\\\tnr8532_rois.hdf5',\n",
       " 'D:\\\\Drohnendaten\\\\10_WZE-UAV\\\\Auswertung_findatree\\\\Datasplit\\\\ROI\\\\rgb-nir\\\\2022\\\\tnr8973_rois.hdf5',\n",
       " 'D:\\\\Drohnendaten\\\\10_WZE-UAV\\\\Auswertung_findatree\\\\Datasplit\\\\ROI\\\\rgb-nir\\\\2022\\\\tnr8979_rois.hdf5',\n",
       " 'D:\\\\Drohnendaten\\\\10_WZE-UAV\\\\Auswertung_findatree\\\\Datasplit\\\\ROI\\\\rgb-nir\\\\2022\\\\tnr8981_rois.hdf5',\n",
       " 'D:\\\\Drohnendaten\\\\10_WZE-UAV\\\\Auswertung_findatree\\\\Datasplit\\\\ROI\\\\rgb-nir\\\\2022\\\\tnr8989_rois.hdf5',\n",
       " 'D:\\\\Drohnendaten\\\\10_WZE-UAV\\\\Auswertung_findatree\\\\Datasplit\\\\ROI\\\\rgb-nir\\\\2022\\\\tnr9025_rois.hdf5',\n",
       " 'D:\\\\Drohnendaten\\\\10_WZE-UAV\\\\Auswertung_findatree\\\\Datasplit\\\\ROI\\\\rgb-nir\\\\2022\\\\tnr9464_rois.hdf5',\n",
       " 'D:\\\\Drohnendaten\\\\10_WZE-UAV\\\\Auswertung_findatree\\\\Datasplit\\\\ROI\\\\rgb-nir\\\\2022\\\\tnr9468_rois.hdf5',\n",
       " 'D:\\\\Drohnendaten\\\\10_WZE-UAV\\\\Auswertung_findatree\\\\Datasplit\\\\ROI\\\\rgb-nir\\\\2022\\\\tnr9472_rois.hdf5',\n",
       " 'D:\\\\Drohnendaten\\\\10_WZE-UAV\\\\Auswertung_findatree\\\\Datasplit\\\\ROI\\\\rgb-nir\\\\2022\\\\tnr9477_rois.hdf5',\n",
       " 'D:\\\\Drohnendaten\\\\10_WZE-UAV\\\\Auswertung_findatree\\\\Datasplit\\\\ROI\\\\rgb-nir\\\\2022\\\\tnr9489_rois.hdf5',\n",
       " 'D:\\\\Drohnendaten\\\\10_WZE-UAV\\\\Auswertung_findatree\\\\Datasplit\\\\ROI\\\\rgb-nir\\\\2022\\\\tnr9493_rois.hdf5',\n",
       " 'D:\\\\Drohnendaten\\\\10_WZE-UAV\\\\Auswertung_findatree\\\\Datasplit\\\\ROI\\\\rgb-nir\\\\2022\\\\tnr9509_rois.hdf5',\n",
       " 'D:\\\\Drohnendaten\\\\10_WZE-UAV\\\\Auswertung_findatree\\\\Datasplit\\\\ROI\\\\rgb-nir\\\\2022\\\\tnr9515_rois.hdf5',\n",
       " 'D:\\\\Drohnendaten\\\\10_WZE-UAV\\\\Auswertung_findatree\\\\Datasplit\\\\ROI\\\\rgb-nir\\\\2022\\\\tnr9517_rois.hdf5',\n",
       " 'D:\\\\Drohnendaten\\\\10_WZE-UAV\\\\Auswertung_findatree\\\\Datasplit\\\\ROI\\\\rgb-nir\\\\2022\\\\tnr9948_rois.hdf5',\n",
       " 'D:\\\\Drohnendaten\\\\10_WZE-UAV\\\\Auswertung_findatree\\\\Datasplit\\\\ROI\\\\rgb-nir\\\\2022\\\\tnr9958_rois.hdf5',\n",
       " 'D:\\\\Drohnendaten\\\\10_WZE-UAV\\\\Auswertung_findatree\\\\Datasplit\\\\ROI\\\\rgb-nir\\\\2022\\\\tnr9966_rois.hdf5',\n",
       " 'D:\\\\Drohnendaten\\\\10_WZE-UAV\\\\Auswertung_findatree\\\\Datasplit\\\\ROI\\\\rgb-nir\\\\2022\\\\tnr9984_rois.hdf5',\n",
       " 'D:\\\\Drohnendaten\\\\10_WZE-UAV\\\\Auswertung_findatree\\\\Datasplit\\\\ROI\\\\rgb-nir\\\\2022\\\\tnr9986_rois.hdf5',\n",
       " 'D:\\\\Drohnendaten\\\\10_WZE-UAV\\\\Auswertung_findatree\\\\Datasplit\\\\ROI\\\\rgb-nir\\\\2022\\\\tnr9988_rois.hdf5',\n",
       " 'D:\\\\Drohnendaten\\\\10_WZE-UAV\\\\Auswertung_findatree\\\\Datasplit\\\\ROI\\\\rgb-nir\\\\2022\\\\tnr9996_rois.hdf5']"
      ]
     },
     "execution_count": 9,
     "metadata": {},
     "output_type": "execute_result"
    }
   ],
   "source": [
    "path_list"
   ]
  },
  {
   "cell_type": "markdown",
   "id": "f3937a44",
   "metadata": {},
   "source": [
    "#### Create unique hash IDs for every individual tree"
   ]
  },
  {
   "cell_type": "code",
   "execution_count": 10,
   "id": "8a50f1d7",
   "metadata": {},
   "outputs": [
    {
     "data": {
      "application/vnd.jupyter.widget-view+json": {
       "model_id": "62961bc88e7f49ea9e3327a13172aff4",
       "version_major": 2,
       "version_minor": 0
      },
      "text/plain": [
       "Creating unique tree IDs...:   0%|          | 0/647 [00:00<?, ?it/s]"
      ]
     },
     "metadata": {},
     "output_type": "display_data"
    }
   ],
   "source": [
    "hashID_dict = data_loader.get_unique_treeID(path_list)"
   ]
  },
  {
   "cell_type": "markdown",
   "id": "6f4cea00",
   "metadata": {},
   "source": [
    "#### Import all imagery, labels and other features from hdf5 files"
   ]
  },
  {
   "cell_type": "code",
   "execution_count": 11,
   "id": "94e3eecf",
   "metadata": {},
   "outputs": [
    {
     "data": {
      "application/vnd.jupyter.widget-view+json": {
       "model_id": "6c8fcd831e1b4cc680ed951f8ad6eb6d",
       "version_major": 2,
       "version_minor": 0
      },
      "text/plain": [
       "Processing hdf5 datasets:   0%|          | 0/647 [00:00<?, ?it/s]"
      ]
     },
     "metadata": {},
     "output_type": "display_data"
    }
   ],
   "source": [
    "image_set, label_set, species_set, kkl_set, bk_set, hash_id = data_loader.hdf5_to_img_label(path_list,\n",
    "                                                                                               hashID_dict,\n",
    "                                                                                               load_sets=[\"images_masked\"])"
   ]
  },
  {
   "cell_type": "markdown",
   "id": "6a90e2b7",
   "metadata": {},
   "source": [
    "#### Convert nbv to classes"
   ]
  },
  {
   "cell_type": "code",
   "execution_count": 12,
   "id": "0224972a",
   "metadata": {},
   "outputs": [],
   "source": [
    "label_set = nbv_to_sst_3classes(label_set)"
   ]
  },
  {
   "cell_type": "markdown",
   "id": "c6b4cd85",
   "metadata": {},
   "source": [
    "#### Split data into a sub set and a test dataset"
   ]
  },
  {
   "cell_type": "code",
   "execution_count": 13,
   "id": "d06eda54",
   "metadata": {},
   "outputs": [
    {
     "name": "stdout",
     "output_type": "stream",
     "text": [
      "There are 7087 unique values within hash_id.\n",
      "Number of True in sub_indices: 15659\n",
      "Number of False in sub_indices: 3146\n",
      "Number of True in test_indices: 1056\n",
      "Number of False in test_indices: 17749\n",
      "Check shapes:\n",
      "\n",
      "Images sub dataset: (15659, 250, 250, 4)\n",
      "Labels sub dataset: (15659, 1)\n",
      "\n",
      "Images test dataset: (1056, 250, 250, 4)\n",
      "Labels test dataset: (1056, 1)\n",
      "\n",
      "--------------------------------------------------\n",
      "Check if the split was stratified: (random_state=42)\n",
      "Healthy trees in sub dataset: 9232\n",
      "Stressed trees in sub dataset: 6166\n",
      "Dead trees in sub dataset: 261\n",
      "Healthy trees in test dataset: 612\n",
      "Stressed trees in test dataset: 429\n",
      "Dead trees in test dataset: 15\n",
      "Ratio health trees in test dataset: 0.06629116117850953\n",
      "Ratio stressed trees in test dataset: 0.0695750891988323\n",
      "Ratio dead trees in test dataset: 0.05747126436781609\n"
     ]
    }
   ],
   "source": [
    "sub_image_set, sub_label_set, sub_hash_id, sub_species_set, test_image_set, test_label_set, test_hash_id, test_species_set = data_split(image_set, label_set, hash_id, species_set, test_size=0.1667, random_state=42, seed=2)\n"
   ]
  },
  {
   "cell_type": "markdown",
   "id": "c48fbb5b",
   "metadata": {},
   "source": [
    "#### Check if any hash ID is in both sub and test dataset"
   ]
  },
  {
   "cell_type": "code",
   "execution_count": 14,
   "id": "874367cf",
   "metadata": {},
   "outputs": [
    {
     "name": "stdout",
     "output_type": "stream",
     "text": [
      "There are no hash_id values in both train and test datasets. The datasplit was successful\n"
     ]
    }
   ],
   "source": [
    "hash_set = set(sub_hash_id[:,0].flatten())\n",
    "test_hash_set = set(test_hash_id[:,0].flatten())\n",
    "intersection = hash_set.intersection(test_hash_set)\n",
    "if intersection:\n",
    "    print(f\"Hash_id values in both train and test sets: {intersection}\")\n",
    "else:\n",
    "    print(\"There are no hash_id values in both train and test datasets. The datasplit was successful\")"
   ]
  },
  {
   "cell_type": "markdown",
   "id": "9e5b64d4",
   "metadata": {},
   "source": [
    "#### Check feature distribution of the Test dataset"
   ]
  },
  {
   "cell_type": "code",
   "execution_count": 16,
   "id": "a33ff5cb",
   "metadata": {},
   "outputs": [
    {
     "name": "stdout",
     "output_type": "stream",
     "text": [
      "Test dataset\n",
      "Test data healthy trees: 612\n",
      "Test data stressed trees: 429\n",
      "Test data dead trees: 15\n",
      "Test data pine trees: 278\n",
      "Test data spruces: 388\n",
      "--------------------------------------------------\n",
      "Remaining dataset\n",
      "Remaining data healthy trees: 9232\n",
      "Remaining data stressed trees: 6166\n",
      "Remaining data dead trees: 261\n",
      "Remaining data pine trees: 3960\n",
      "Remaining data spruces: 5833\n",
      "--------------------------------------------------\n"
     ]
    }
   ],
   "source": [
    "def count_occurrences(data, value):\n",
    "    count = 0\n",
    "    for item in data:\n",
    "        if item == value:\n",
    "            count += 1\n",
    "    return count\n",
    "\n",
    "print(\"Test dataset\")\n",
    "print(f\"Test data healthy trees: {count_occurrences(test_label_set, 0)}\")\n",
    "print(f\"Test data stressed trees: {count_occurrences(test_label_set, 1)}\")\n",
    "print(f\"Test data dead trees: {count_occurrences(test_label_set, 2)}\")\n",
    "print(f\"Test data pine trees: {count_occurrences(test_species_set, 134)}\")\n",
    "print(f\"Test data spruces: {count_occurrences(test_species_set, 118)}\")\n",
    "print(\"-\"*50)\n",
    "\n",
    "print(\"Remaining dataset\")\n",
    "print(f\"Remaining data healthy trees: {count_occurrences(sub_label_set, 0)}\")\n",
    "print(f\"Remaining data stressed trees: {count_occurrences(sub_label_set, 1)}\")\n",
    "print(f\"Remaining data dead trees: {count_occurrences(sub_label_set, 2)}\")\n",
    "print(f\"Remaining data pine trees: {count_occurrences(sub_species_set, 134)}\")\n",
    "print(f\"Remaining data spruces: {count_occurrences(sub_species_set, 118)}\")\n",
    "print(\"-\"*50)"
   ]
  },
  {
   "cell_type": "code",
   "execution_count": 17,
   "id": "e08fcf57",
   "metadata": {},
   "outputs": [],
   "source": [
    "# train transform with augmentation. \n",
    "transform_train = transforms.Compose([transforms.ToTensor(), transforms.RandomHorizontalFlip(p=0.5), transforms.RandomVerticalFlip(p=0.5),\n",
    "                                      transforms.RandomRotation(degrees=[0,360])])\n",
    "\n",
    "# test and val dataset transform without augmentation. \n",
    "transform = transforms.Compose([transforms.ToTensor()])\n",
    "\n",
    "# class names need to fit the customDataset class used e.g. 3 classes -> use CustomDataset3Classes\n",
    "#class_names = ['healthy', 'slightly_stressed', 'moderately_stressed', 'highly_stressed', 'dead']\n",
    "#class_names = ['healthy', 'moderately_stressed', 'highly_stressed', 'dead']\n",
    "class_names = ['healthy', 'stressed', 'dead']\n",
    "\n",
    "# set seeds\n",
    "g = torch.Generator()\n",
    "g.manual_seed(42)\n",
    "NUM_WORKERS=3 # should be changed, depending on the system used\n",
    "batch_size=32"
   ]
  },
  {
   "cell_type": "markdown",
   "id": "31779c05",
   "metadata": {},
   "source": [
    "#### Define variables and parameters"
   ]
  },
  {
   "cell_type": "code",
   "execution_count": 20,
   "id": "10ae4379",
   "metadata": {},
   "outputs": [
    {
     "name": "stderr",
     "output_type": "stream",
     "text": [
      "\u001b[34m\u001b[1mwandb\u001b[0m: \u001b[33mWARNING\u001b[0m Calling wandb.login() after wandb.init() has no effect.\n"
     ]
    },
    {
     "name": "stdout",
     "output_type": "stream",
     "text": [
      "Memory allocated: 1078893056 bytes\n"
     ]
    },
    {
     "data": {
      "text/html": [
       "Finishing last run (ID:o4nqonsh) before initializing another..."
      ],
      "text/plain": [
       "<IPython.core.display.HTML object>"
      ]
     },
     "metadata": {},
     "output_type": "display_data"
    },
    {
     "data": {
      "text/html": [
       "Waiting for W&B process to finish... <strong style=\"color:green\">(success).</strong>"
      ],
      "text/plain": [
       "<IPython.core.display.HTML object>"
      ]
     },
     "metadata": {},
     "output_type": "display_data"
    },
    {
     "data": {
      "application/vnd.jupyter.widget-view+json": {
       "model_id": "ddd1f711b6034639bb865d4db68f40f9",
       "version_major": 2,
       "version_minor": 0
      },
      "text/plain": [
       "VBox(children=(Label(value='0.001 MB of 0.001 MB uploaded (0.000 MB deduped)\\r'), FloatProgress(value=1.0, max…"
      ]
     },
     "metadata": {},
     "output_type": "display_data"
    },
    {
     "data": {
      "text/html": [
       "<style>\n",
       "    table.wandb td:nth-child(1) { padding: 0 10px; text-align: left ; width: auto;} td:nth-child(2) {text-align: left ; width: 100%}\n",
       "    .wandb-row { display: flex; flex-direction: row; flex-wrap: wrap; justify-content: flex-start; width: 100% }\n",
       "    .wandb-col { display: flex; flex-direction: column; flex-basis: 100%; flex: 1; padding: 10px; }\n",
       "    </style>\n",
       "<div class=\"wandb-row\"><div class=\"wandb-col\"><h3>Run history:</h3><br/><table class=\"wandb\"><tr><td>epoch</td><td>▁▁▂▂▂▃▃▃▄▄▅▅▅▆▆▆▇▇▇██</td></tr><tr><td>fold</td><td>▁▁▁▁▁▁▁▁▁▁▁▁▁▁▁▁▁▁▁▁▁</td></tr><tr><td>learning_rate</td><td>█▆▅▄▃▃▂▂▂▂▁▁▁▁▁▁▁▁▁▁▁</td></tr><tr><td>train_f1_score</td><td>▁▅▆▆▇▇▇▇▇██▇█████████</td></tr><tr><td>train_loss</td><td>█▅▄▃▂▂▂▂▂▂▁▁▁▁▁▁▁▁▁▁▁</td></tr><tr><td>val_f1_score</td><td>▃▁▅█▇▇▇▇█████████████</td></tr><tr><td>val_loss</td><td>▄█▅▁▂▁▂▂▁▁▁▁▁▁▁▁▁▁▁▁▁</td></tr></table><br/></div><div class=\"wandb-col\"><h3>Run summary:</h3><br/><table class=\"wandb\"><tr><td>epoch</td><td>20</td></tr><tr><td>fold</td><td>1</td></tr><tr><td>learning_rate</td><td>1e-05</td></tr><tr><td>train_f1_score</td><td>0.76296</td></tr><tr><td>train_loss</td><td>0.58351</td></tr><tr><td>val_f1_score</td><td>0.71802</td></tr><tr><td>val_loss</td><td>0.62</td></tr></table><br/></div></div>"
      ],
      "text/plain": [
       "<IPython.core.display.HTML object>"
      ]
     },
     "metadata": {},
     "output_type": "display_data"
    },
    {
     "data": {
      "text/html": [
       " View run <strong style=\"color:#cdcd00\">fold_1_new_val_set_new_classes</strong> at: <a href='https://wandb.ai/simon-ecke/wze-uav/runs/o4nqonsh' target=\"_blank\">https://wandb.ai/simon-ecke/wze-uav/runs/o4nqonsh</a><br/>Synced 5 W&B file(s), 0 media file(s), 0 artifact file(s) and 0 other file(s)"
      ],
      "text/plain": [
       "<IPython.core.display.HTML object>"
      ]
     },
     "metadata": {},
     "output_type": "display_data"
    },
    {
     "data": {
      "text/html": [
       "Find logs at: <code>.\\wandb\\run-20230414_130139-o4nqonsh\\logs</code>"
      ],
      "text/plain": [
       "<IPython.core.display.HTML object>"
      ]
     },
     "metadata": {},
     "output_type": "display_data"
    },
    {
     "data": {
      "text/html": [
       "Successfully finished last run (ID:o4nqonsh). Initializing new run:<br/>"
      ],
      "text/plain": [
       "<IPython.core.display.HTML object>"
      ]
     },
     "metadata": {},
     "output_type": "display_data"
    },
    {
     "data": {
      "application/vnd.jupyter.widget-view+json": {
       "model_id": "7bcb163d0865428d83b5f719e00f102e",
       "version_major": 2,
       "version_minor": 0
      },
      "text/plain": [
       "VBox(children=(Label(value='Waiting for wandb.init()...\\r'), FloatProgress(value=0.016666666666666666, max=1.0…"
      ]
     },
     "metadata": {},
     "output_type": "display_data"
    },
    {
     "data": {
      "text/html": [
       "Tracking run with wandb version 0.14.2"
      ],
      "text/plain": [
       "<IPython.core.display.HTML object>"
      ]
     },
     "metadata": {},
     "output_type": "display_data"
    },
    {
     "data": {
      "text/html": [
       "Run data is saved locally in <code>C:\\Users\\lwfeckesim\\01_PyTorch\\wze-uav\\wze-uav-master\\wandb\\run-20230414_145552-tc7uv8zc</code>"
      ],
      "text/plain": [
       "<IPython.core.display.HTML object>"
      ]
     },
     "metadata": {},
     "output_type": "display_data"
    },
    {
     "data": {
      "text/html": [
       "Syncing run <strong><a href='https://wandb.ai/simon-ecke/wze-uav/runs/tc7uv8zc' target=\"_blank\">peach-firebrand-61</a></strong> to <a href='https://wandb.ai/simon-ecke/wze-uav' target=\"_blank\">Weights & Biases</a> (<a href='https://wandb.me/run' target=\"_blank\">docs</a>)<br/>"
      ],
      "text/plain": [
       "<IPython.core.display.HTML object>"
      ]
     },
     "metadata": {},
     "output_type": "display_data"
    },
    {
     "data": {
      "text/html": [
       " View project at <a href='https://wandb.ai/simon-ecke/wze-uav' target=\"_blank\">https://wandb.ai/simon-ecke/wze-uav</a>"
      ],
      "text/plain": [
       "<IPython.core.display.HTML object>"
      ]
     },
     "metadata": {},
     "output_type": "display_data"
    },
    {
     "data": {
      "text/html": [
       " View run at <a href='https://wandb.ai/simon-ecke/wze-uav/runs/tc7uv8zc' target=\"_blank\">https://wandb.ai/simon-ecke/wze-uav/runs/tc7uv8zc</a>"
      ],
      "text/plain": [
       "<IPython.core.display.HTML object>"
      ]
     },
     "metadata": {},
     "output_type": "display_data"
    },
    {
     "data": {
      "text/html": [
       "<button onClick=\"this.nextSibling.style.display='block';this.style.display='none';\">Display W&B run</button><iframe src='https://wandb.ai/simon-ecke/wze-uav/runs/tc7uv8zc?jupyter=true' style='border:none;width:100%;height:420px;display:none;'></iframe>"
      ],
      "text/plain": [
       "<wandb.sdk.wandb_run.Run at 0x225a5642fa0>"
      ]
     },
     "execution_count": 20,
     "metadata": {},
     "output_type": "execute_result"
    }
   ],
   "source": [
    "# 1. Define number of epochs\n",
    "epochs = 50\n",
    "n_bands = sub_image_set[0].shape[2] # get number of bands\n",
    "\n",
    "# 2. Define model\n",
    "num_classes = len(class_names)\n",
    "unfreeze = True # all layer weights get updated\n",
    "dropout_rate = 0.45 #define dropout rate\n",
    "model_name = \"EffNet_b7_RGB-NIR_3classes_v3_new_classes\"\n",
    "\n",
    "# 3. Define loss, optimizer and learning rate scheduler\n",
    "lr = 0.001 # define learning rate\n",
    "min_lr = 1e-5 # minimum learning rate threshold\n",
    "gamma = 0.85 # how fast the learning rate decreases per epoch (low number=faster decrease)\n",
    "patience = 10\n",
    "\n",
    "# 4. Create target folder name were to save the tensorboard event files\n",
    "experiment_name = 'RGB-NIR_3classes_v3_new_val_new_classes'\n",
    "extra = \"new_val_set_new_classes_lr001\"\n",
    "\n",
    "#----------------------------------------------------------------------\n",
    "#torch.cuda.empty_cache()\n",
    "print(f\"Memory allocated: {torch.cuda.memory_allocated()} bytes\") \n",
    "\n",
    "# login to weights & biases to track metrics\n",
    "wandb.login()\n",
    "wandb.init(project='wze-uav', entity='simon-ecke')"
   ]
  },
  {
   "cell_type": "markdown",
   "id": "09768b1a",
   "metadata": {},
   "source": [
    "#### Run k-Fold cross-validation on EfficientNet"
   ]
  },
  {
   "cell_type": "code",
   "execution_count": null,
   "id": "9c29c81d",
   "metadata": {},
   "outputs": [
    {
     "name": "stdout",
     "output_type": "stream",
     "text": [
      "There are 5905 unique values within hash_id.\n",
      "\n"
     ]
    },
    {
     "data": {
      "text/html": [
       "Finishing last run (ID:tc7uv8zc) before initializing another..."
      ],
      "text/plain": [
       "<IPython.core.display.HTML object>"
      ]
     },
     "metadata": {},
     "output_type": "display_data"
    },
    {
     "data": {
      "text/html": [
       "Waiting for W&B process to finish... <strong style=\"color:green\">(success).</strong>"
      ],
      "text/plain": [
       "<IPython.core.display.HTML object>"
      ]
     },
     "metadata": {},
     "output_type": "display_data"
    },
    {
     "data": {
      "application/vnd.jupyter.widget-view+json": {
       "model_id": "f5fb8358be3943c288d3f78004f46bce",
       "version_major": 2,
       "version_minor": 0
      },
      "text/plain": [
       "VBox(children=(Label(value='0.001 MB of 0.001 MB uploaded (0.000 MB deduped)\\r'), FloatProgress(value=1.0, max…"
      ]
     },
     "metadata": {},
     "output_type": "display_data"
    },
    {
     "data": {
      "text/html": [
       " View run <strong style=\"color:#cdcd00\">peach-firebrand-61</strong> at: <a href='https://wandb.ai/simon-ecke/wze-uav/runs/tc7uv8zc' target=\"_blank\">https://wandb.ai/simon-ecke/wze-uav/runs/tc7uv8zc</a><br/>Synced 5 W&B file(s), 0 media file(s), 0 artifact file(s) and 0 other file(s)"
      ],
      "text/plain": [
       "<IPython.core.display.HTML object>"
      ]
     },
     "metadata": {},
     "output_type": "display_data"
    },
    {
     "data": {
      "text/html": [
       "Find logs at: <code>.\\wandb\\run-20230414_145552-tc7uv8zc\\logs</code>"
      ],
      "text/plain": [
       "<IPython.core.display.HTML object>"
      ]
     },
     "metadata": {},
     "output_type": "display_data"
    },
    {
     "data": {
      "text/html": [
       "Successfully finished last run (ID:tc7uv8zc). Initializing new run:<br/>"
      ],
      "text/plain": [
       "<IPython.core.display.HTML object>"
      ]
     },
     "metadata": {},
     "output_type": "display_data"
    },
    {
     "data": {
      "application/vnd.jupyter.widget-view+json": {
       "model_id": "b951692ef02a4951bdca42e51b4b716e",
       "version_major": 2,
       "version_minor": 0
      },
      "text/plain": [
       "VBox(children=(Label(value='Waiting for wandb.init()...\\r'), FloatProgress(value=0.01691666666495924, max=1.0)…"
      ]
     },
     "metadata": {},
     "output_type": "display_data"
    },
    {
     "data": {
      "text/html": [
       "Tracking run with wandb version 0.14.2"
      ],
      "text/plain": [
       "<IPython.core.display.HTML object>"
      ]
     },
     "metadata": {},
     "output_type": "display_data"
    },
    {
     "data": {
      "text/html": [
       "Run data is saved locally in <code>C:\\Users\\lwfeckesim\\01_PyTorch\\wze-uav\\wze-uav-master\\wandb\\run-20230414_145559-8h3zz36v</code>"
      ],
      "text/plain": [
       "<IPython.core.display.HTML object>"
      ]
     },
     "metadata": {},
     "output_type": "display_data"
    },
    {
     "data": {
      "text/html": [
       "Syncing run <strong><a href='https://wandb.ai/simon-ecke/wze-uav/runs/8h3zz36v' target=\"_blank\">fold_1_new_val_set_new_classes_lr001</a></strong> to <a href='https://wandb.ai/simon-ecke/wze-uav' target=\"_blank\">Weights & Biases</a> (<a href='https://wandb.me/run' target=\"_blank\">docs</a>)<br/>"
      ],
      "text/plain": [
       "<IPython.core.display.HTML object>"
      ]
     },
     "metadata": {},
     "output_type": "display_data"
    },
    {
     "data": {
      "text/html": [
       " View project at <a href='https://wandb.ai/simon-ecke/wze-uav' target=\"_blank\">https://wandb.ai/simon-ecke/wze-uav</a>"
      ],
      "text/plain": [
       "<IPython.core.display.HTML object>"
      ]
     },
     "metadata": {},
     "output_type": "display_data"
    },
    {
     "data": {
      "text/html": [
       " View run at <a href='https://wandb.ai/simon-ecke/wze-uav/runs/8h3zz36v' target=\"_blank\">https://wandb.ai/simon-ecke/wze-uav/runs/8h3zz36v</a>"
      ],
      "text/plain": [
       "<IPython.core.display.HTML object>"
      ]
     },
     "metadata": {},
     "output_type": "display_data"
    },
    {
     "name": "stdout",
     "output_type": "stream",
     "text": [
      "Check shapes:\n",
      "\n",
      "Images train dataset: (12564, 250, 250, 4)\n",
      "Labels train dataset: (12564, 1)\n",
      "\n",
      "Images validation dataset: (1043, 250, 250, 4)\n",
      "Labels validation dataset: (1043, 1)\n",
      "\n",
      "--------------------------------------------------\n",
      "Check if the split was stratified: (random_state=42)\n",
      "Healthy trees in train dataset: 7401\n",
      "Stressed trees in train dataset: 4959\n",
      "Dead trees in train dataset: 204\n",
      "Healthy trees in validation dataset: 618\n",
      "Stressed trees in validation dataset: 404\n",
      "Dead trees in validation dataset: 21\n",
      "Ratio health trees in validation dataset: 0.06694107452339688\n",
      "Ratio stressed trees in validation dataset: 0.06552059682127798\n",
      "Ratio dead trees in validation dataset: 0.08045977011494253\n",
      "--------------------------------------------------\n",
      "\n",
      "Creating datasets for fold: 1\n",
      "\n",
      "Creating dataloaders for fold: 1\n",
      "\n",
      "Loaded pretrained weights for efficientnet-b7\n",
      "\n",
      "[INFO] Fold number: 1\n",
      "[INFO] Number of epochs: 50\n",
      "[INFO] Batch_size: 32\n",
      "[INFO] Number of bands: 4\n",
      "[INFO] Dropout rate: 0.45\n",
      "[INFO] Gamma learning rate: 0.85\n",
      "[INFO] Memory allocated: 1078893056 bytes\n"
     ]
    },
    {
     "data": {
      "application/vnd.jupyter.widget-view+json": {
       "model_id": "26ae14a5a1584422848fc4c3d5f60c52",
       "version_major": 2,
       "version_minor": 0
      },
      "text/plain": [
       "  0%|          | 0/50 [00:00<?, ?it/s]"
      ]
     },
     "metadata": {},
     "output_type": "display_data"
    },
    {
     "name": "stdout",
     "output_type": "stream",
     "text": [
      "Epoch: 1 \n",
      "Learning rate: 0.001\n",
      "Train loss: 0.7240 | Train precision: 0.6021 | Train recall: 0.5591 | Train f1score: 0.5778 | Train acc: 0.5870 | Train kappa: 0.2906 \n",
      "Val loss: 0.6964 | Val precision: 0.5904 | Val recall: 0.5342 | Val f1score: 0.4757 | Val acc: 0.5986 | Val kappa: 0.1606 \n",
      "\n",
      "Epoch: 2 \n",
      "Learning rate: 0.00085\n",
      "Train loss: 0.6467 | Train precision: 0.6863 | Train recall: 0.6900 | Train f1score: 0.6881 | Train acc: 0.6437 | Train kappa: 0.4106 \n",
      "Val loss: 1.7171 | Val precision: 0.4516 | Val recall: 0.3590 | Val f1score: 0.2453 | Val acc: 0.4385 | Val kappa: 0.0658 \n",
      "\n",
      "Epoch: 3 \n",
      "Learning rate: 0.0007224999999999999\n",
      "Train loss: 0.6378 | Train precision: 0.7069 | Train recall: 0.7008 | Train f1score: 0.7037 | Train acc: 0.6511 | Train kappa: 0.4301 \n",
      "Val loss: 0.6185 | Val precision: 0.7396 | Val recall: 0.6761 | Val f1score: 0.6818 | Val acc: 0.6523 | Val kappa: 0.3453 \n",
      "\n",
      "Epoch: 4 \n",
      "Learning rate: 0.000614125\n",
      "Train loss: 0.6318 | Train precision: 0.7211 | Train recall: 0.7083 | Train f1score: 0.7144 | Train acc: 0.6541 | Train kappa: 0.4394 \n",
      "Val loss: 0.6468 | Val precision: 0.7082 | Val recall: 0.7117 | Val f1score: 0.7076 | Val acc: 0.6465 | Val kappa: 0.3788 \n",
      "\n",
      "Epoch: 5 \n",
      "Learning rate: 0.00052200625\n",
      "Train loss: 0.6143 | Train precision: 0.7310 | Train recall: 0.7220 | Train f1score: 0.7262 | Train acc: 0.6636 | Train kappa: 0.4489 \n",
      "Val loss: 0.7379 | Val precision: 0.6986 | Val recall: 0.7298 | Val f1score: 0.6619 | Val acc: 0.5752 | Val kappa: 0.3085 \n",
      "\n",
      "Epoch: 6 \n",
      "Learning rate: 0.00044370531249999997\n",
      "Train loss: 0.6061 | Train precision: 0.7412 | Train recall: 0.7374 | Train f1score: 0.7390 | Train acc: 0.6766 | Train kappa: 0.4754 \n",
      "Val loss: 0.6203 | Val precision: 0.7268 | Val recall: 0.7054 | Val f1score: 0.6833 | Val acc: 0.6738 | Val kappa: 0.3878 \n",
      "\n",
      "Epoch: 7 \n",
      "Learning rate: 0.00037714951562499996\n",
      "Train loss: 0.6048 | Train precision: 0.7553 | Train recall: 0.7396 | Train f1score: 0.7470 | Train acc: 0.6799 | Train kappa: 0.4777 \n",
      "Val loss: 0.6584 | Val precision: 0.6909 | Val recall: 0.7518 | Val f1score: 0.7002 | Val acc: 0.6328 | Val kappa: 0.3802 \n",
      "\n",
      "Epoch: 8 \n",
      "Learning rate: 0.00032057708828124994\n",
      "Train loss: 0.6001 | Train precision: 0.7460 | Train recall: 0.7379 | Train f1score: 0.7414 | Train acc: 0.6785 | Train kappa: 0.4721 \n",
      "Val loss: 0.6191 | Val precision: 0.6954 | Val recall: 0.7325 | Val f1score: 0.7051 | Val acc: 0.6670 | Val kappa: 0.3971 \n",
      "\n",
      "Epoch: 9 \n",
      "Learning rate: 0.0002724905250390624\n",
      "Train loss: 0.5920 | Train precision: 0.7503 | Train recall: 0.7443 | Train f1score: 0.7471 | Train acc: 0.6831 | Train kappa: 0.4924 \n",
      "Val loss: 0.6351 | Val precision: 0.6921 | Val recall: 0.7468 | Val f1score: 0.7107 | Val acc: 0.6416 | Val kappa: 0.3863 \n",
      "\n",
      "Epoch: 10 \n",
      "Learning rate: 0.00023161694628320305\n",
      "Train loss: 0.5867 | Train precision: 0.7589 | Train recall: 0.7569 | Train f1score: 0.7575 | Train acc: 0.6881 | Train kappa: 0.4870 \n",
      "Val loss: 0.6829 | Val precision: 0.6678 | Val recall: 0.7369 | Val f1score: 0.6783 | Val acc: 0.6094 | Val kappa: 0.3457 \n",
      "\n",
      "Epoch: 11 \n",
      "Learning rate: 0.0001968744043407226\n",
      "Train loss: 0.5728 | Train precision: 0.7644 | Train recall: 0.7632 | Train f1score: 0.7635 | Train acc: 0.7014 | Train kappa: 0.5177 \n",
      "Val loss: 0.6655 | Val precision: 0.7342 | Val recall: 0.7362 | Val f1score: 0.7221 | Val acc: 0.6387 | Val kappa: 0.3798 \n",
      "\n",
      "Epoch: 12 \n",
      "Learning rate: 0.0001673432436896142\n",
      "Train loss: 0.5810 | Train precision: 0.7515 | Train recall: 0.7529 | Train f1score: 0.7521 | Train acc: 0.6896 | Train kappa: 0.4968 \n",
      "Val loss: 0.6336 | Val precision: 0.7176 | Val recall: 0.7204 | Val f1score: 0.7084 | Val acc: 0.6426 | Val kappa: 0.3839 \n",
      "\n",
      "Epoch: 13 \n",
      "Learning rate: 0.00014224175713617207\n",
      "Train loss: 0.5672 | Train precision: 0.7775 | Train recall: 0.7623 | Train f1score: 0.7696 | Train acc: 0.7053 | Train kappa: 0.5229 \n",
      "Val loss: 0.6604 | Val precision: 0.6924 | Val recall: 0.7408 | Val f1score: 0.6923 | Val acc: 0.6123 | Val kappa: 0.3526 \n",
      "\n",
      "Epoch: 14 \n",
      "Learning rate: 0.00012090549356574625\n",
      "Train loss: 0.5731 | Train precision: 0.7709 | Train recall: 0.7604 | Train f1score: 0.7655 | Train acc: 0.7020 | Train kappa: 0.5197 \n",
      "Val loss: 0.6387 | Val precision: 0.7023 | Val recall: 0.7573 | Val f1score: 0.7208 | Val acc: 0.6562 | Val kappa: 0.4111 \n",
      "\n",
      "Epoch: 15 \n",
      "Learning rate: 0.00010276966953088431\n",
      "Train loss: 0.5570 | Train precision: 0.7790 | Train recall: 0.7719 | Train f1score: 0.7752 | Train acc: 0.7140 | Train kappa: 0.5420 \n",
      "Val loss: 0.6150 | Val precision: 0.6948 | Val recall: 0.7489 | Val f1score: 0.7183 | Val acc: 0.6582 | Val kappa: 0.4049 \n",
      "\n",
      "Epoch: 16 \n",
      "Learning rate: 8.735421910125166e-05\n",
      "Train loss: 0.5646 | Train precision: 0.7807 | Train recall: 0.7700 | Train f1score: 0.7751 | Train acc: 0.7043 | Train kappa: 0.5259 \n",
      "Val loss: 0.6158 | Val precision: 0.6868 | Val recall: 0.7267 | Val f1score: 0.7049 | Val acc: 0.6533 | Val kappa: 0.3915 \n",
      "\n",
      "Epoch: 17 \n",
      "Learning rate: 7.425108623606391e-05\n",
      "Train loss: 0.5577 | Train precision: 0.7766 | Train recall: 0.7731 | Train f1score: 0.7748 | Train acc: 0.7091 | Train kappa: 0.5315 \n",
      "Val loss: 0.6239 | Val precision: 0.6970 | Val recall: 0.7389 | Val f1score: 0.7130 | Val acc: 0.6592 | Val kappa: 0.4096 \n",
      "\n",
      "Epoch: 18 \n",
      "Learning rate: 6.311342330065433e-05\n",
      "Train loss: 0.5534 | Train precision: 0.7787 | Train recall: 0.7738 | Train f1score: 0.7760 | Train acc: 0.7121 | Train kappa: 0.5273 \n",
      "Val loss: 0.6141 | Val precision: 0.6900 | Val recall: 0.7181 | Val f1score: 0.7020 | Val acc: 0.6592 | Val kappa: 0.4027 \n",
      "\n",
      "Epoch: 19 \n",
      "Learning rate: 5.3646409805556176e-05\n",
      "Train loss: 0.5551 | Train precision: 0.7829 | Train recall: 0.7779 | Train f1score: 0.7801 | Train acc: 0.7137 | Train kappa: 0.5272 \n",
      "Val loss: 0.6088 | Val precision: 0.6972 | Val recall: 0.7500 | Val f1score: 0.7209 | Val acc: 0.6650 | Val kappa: 0.4129 \n",
      "\n",
      "Epoch: 20 \n",
      "Learning rate: 4.559944833472275e-05\n",
      "Train loss: 0.5489 | Train precision: 0.7890 | Train recall: 0.7842 | Train f1score: 0.7866 | Train acc: 0.7158 | Train kappa: 0.5336 \n",
      "Val loss: 0.6152 | Val precision: 0.6966 | Val recall: 0.7495 | Val f1score: 0.7203 | Val acc: 0.6641 | Val kappa: 0.4114 \n",
      "\n",
      "Epoch: 21 \n",
      "Learning rate: 3.875953108451434e-05\n",
      "Train loss: 0.5459 | Train precision: 0.7881 | Train recall: 0.7869 | Train f1score: 0.7871 | Train acc: 0.7214 | Train kappa: 0.5497 \n",
      "Val loss: 0.6559 | Val precision: 0.7071 | Val recall: 0.7357 | Val f1score: 0.7088 | Val acc: 0.6396 | Val kappa: 0.3848 \n",
      "\n",
      "Epoch: 22 \n",
      "Learning rate: 3.294560142183719e-05\n",
      "Train loss: 0.5514 | Train precision: 0.7869 | Train recall: 0.7757 | Train f1score: 0.7807 | Train acc: 0.7119 | Train kappa: 0.5271 \n",
      "Val loss: 0.6234 | Val precision: 0.6945 | Val recall: 0.7594 | Val f1score: 0.7213 | Val acc: 0.6699 | Val kappa: 0.4292 \n",
      "\n",
      "Epoch: 23 \n",
      "Learning rate: 2.800376120856161e-05\n",
      "Train loss: 0.5507 | Train precision: 0.7807 | Train recall: 0.7764 | Train f1score: 0.7785 | Train acc: 0.7126 | Train kappa: 0.5398 \n",
      "Val loss: 0.6187 | Val precision: 0.7098 | Val recall: 0.7397 | Val f1score: 0.7224 | Val acc: 0.6660 | Val kappa: 0.4152 \n",
      "\n",
      "Epoch: 24 \n",
      "Learning rate: 2.380319702727737e-05\n",
      "Train loss: 0.5472 | Train precision: 0.7845 | Train recall: 0.7781 | Train f1score: 0.7812 | Train acc: 0.7121 | Train kappa: 0.5310 \n",
      "Val loss: 0.6261 | Val precision: 0.7164 | Val recall: 0.7472 | Val f1score: 0.7266 | Val acc: 0.6689 | Val kappa: 0.4254 \n",
      "\n",
      "Epoch: 25 \n",
      "Learning rate: 2.0232717473185764e-05\n",
      "Train loss: 0.5472 | Train precision: 0.7848 | Train recall: 0.7828 | Train f1score: 0.7837 | Train acc: 0.7160 | Train kappa: 0.5482 \n",
      "Val loss: 0.6227 | Val precision: 0.7037 | Val recall: 0.7458 | Val f1score: 0.7201 | Val acc: 0.6699 | Val kappa: 0.4273 \n",
      "\n",
      "Epoch: 26 \n",
      "Learning rate: 1.71978098522079e-05\n",
      "Train loss: 0.5523 | Train precision: 0.7872 | Train recall: 0.7778 | Train f1score: 0.7824 | Train acc: 0.7134 | Train kappa: 0.5330 \n",
      "Val loss: 0.6332 | Val precision: 0.6891 | Val recall: 0.7542 | Val f1score: 0.7132 | Val acc: 0.6553 | Val kappa: 0.4094 \n",
      "\n",
      "Epoch: 27 \n",
      "Learning rate: 1.4618138374376715e-05\n",
      "Train loss: 0.5497 | Train precision: 0.7835 | Train recall: 0.7809 | Train f1score: 0.7820 | Train acc: 0.7125 | Train kappa: 0.5320 \n",
      "Val loss: 0.6283 | Val precision: 0.6966 | Val recall: 0.7384 | Val f1score: 0.7102 | Val acc: 0.6533 | Val kappa: 0.4032 \n",
      "\n"
     ]
    },
    {
     "name": "stdout",
     "output_type": "stream",
     "text": [
      "Epoch: 28 \n",
      "Learning rate: 1.2425417618220208e-05\n",
      "Train loss: 0.5407 | Train precision: 0.7950 | Train recall: 0.7910 | Train f1score: 0.7927 | Train acc: 0.7220 | Train kappa: 0.5509 \n",
      "Val loss: 0.6274 | Val precision: 0.7029 | Val recall: 0.7581 | Val f1score: 0.7224 | Val acc: 0.6592 | Val kappa: 0.4148 \n",
      "\n",
      "Epoch: 29 \n",
      "Learning rate: 1.0561604975487176e-05\n",
      "Train loss: 0.5447 | Train precision: 0.7833 | Train recall: 0.7808 | Train f1score: 0.7817 | Train acc: 0.7131 | Train kappa: 0.5395 \n",
      "Val loss: 0.6272 | Val precision: 0.6986 | Val recall: 0.7406 | Val f1score: 0.7136 | Val acc: 0.6592 | Val kappa: 0.4113 \n",
      "\n",
      "Epoch: 30 \n",
      "Learning rate: 8.9773642291641e-06\n",
      "Train loss: 0.5434 | Train precision: 0.7948 | Train recall: 0.7852 | Train f1score: 0.7897 | Train acc: 0.7207 | Train kappa: 0.5508 \n",
      "Val loss: 0.6312 | Val precision: 0.6881 | Val recall: 0.7531 | Val f1score: 0.7115 | Val acc: 0.6523 | Val kappa: 0.4054 \n",
      "\n",
      "Epoch: 31 \n",
      "Learning rate: 7.630759594789484e-06\n",
      "Train loss: 0.5377 | Train precision: 0.7951 | Train recall: 0.7880 | Train f1score: 0.7913 | Train acc: 0.7287 | Train kappa: 0.5592 \n",
      "Val loss: 0.6335 | Val precision: 0.6907 | Val recall: 0.7559 | Val f1score: 0.7142 | Val acc: 0.6562 | Val kappa: 0.4120 \n",
      "\n",
      "Epoch: 32 \n",
      "Learning rate: 6.486145655571062e-06\n",
      "Train loss: 0.5391 | Train precision: 0.7826 | Train recall: 0.7859 | Train f1score: 0.7840 | Train acc: 0.7154 | Train kappa: 0.5482 \n",
      "Val loss: 0.6273 | Val precision: 0.6952 | Val recall: 0.7370 | Val f1score: 0.7102 | Val acc: 0.6543 | Val kappa: 0.4028 \n",
      "\n"
     ]
    }
   ],
   "source": [
    "%%time\n",
    "\n",
    "# Set the random seeds\n",
    "set_seeds(42)\n",
    "\n",
    "# Define the number of folds\n",
    "num_folds = 5\n",
    "\n",
    "# Create a KFold object\n",
    "kf = KFold(n_splits=num_folds, shuffle=True, random_state=42)\n",
    "\n",
    "unique_values = np.unique(sub_hash_id[:,0]) # now there are less unique values left because we seperated the test dataset\n",
    "num_unique = len(unique_values)\n",
    "print(f\"There are {num_unique} unique values within hash_id.\\n\")\n",
    "\n",
    "# Loop over each fold\n",
    "for fold, (train_ids, val_ids) in enumerate(kf.split(unique_values)):\n",
    "    torch.cuda.empty_cache()\n",
    "    \n",
    "    # Initialize a new wandb run for this fold\n",
    "    wandb.init(project='wze-uav', name=f\"fold_{fold + 1}_{extra}\")\n",
    "    \n",
    "    # 1. Split data into train and validation set\n",
    "    # Get the training and testing data for this fold\n",
    "    # Use np.isin() to create boolean arrays indicating which indices belong to train or test sets\n",
    "    train_indices = np.isin(sub_hash_id[:,0], unique_values[train_ids])\n",
    "    \n",
    "    val_indices = np.zeros_like(train_indices)  # initialize to all False\n",
    "    for hash_id_val in unique_values[val_ids]:\n",
    "        # select one image ID randomly from either 2020 or 2021 or 2022 for each unique hash ID in the test set\n",
    "        year = np.random.choice(['2020', '2021', '2022'])\n",
    "        image_ids = sub_hash_id[(sub_hash_id[:,0] == hash_id_val) & (sub_hash_id[:,1] == year), 0]\n",
    "    \n",
    "        # mark the index corresponding to the selected image ID and hash ID as True in the test indices array\n",
    "        val_indices[(sub_hash_id[:,0] == hash_id_val) & (sub_hash_id[:,1] == year) & (np.isin(sub_hash_id[:,0], image_ids))] = True \n",
    "    \n",
    "    # Reshape boolean arrays to match shape of image_set and label_set\n",
    "    train_indices = train_indices.reshape(-1, 1)\n",
    "    val_indices = val_indices.reshape(-1, 1)\n",
    "    \n",
    "    # Select images and labels for train and validation sets\n",
    "    train_image_set = sub_image_set[train_indices[:, 0]]\n",
    "    train_label_set = sub_label_set[train_indices[:, 0]]\n",
    "    train_hash_id = sub_hash_id[train_indices[:, 0]][:,0]\n",
    "    train_species_set = sub_species_set[train_indices[:, 0]]\n",
    "    val_image_set = sub_image_set[val_indices[:, 0]]\n",
    "    val_label_set = sub_label_set[val_indices[:, 0]]\n",
    "    val_hash_id = sub_hash_id[val_indices[:, 0]][:,0]\n",
    "    val_species_set = sub_species_set[val_indices[:, 0]]\n",
    "    # reshape \n",
    "    train_label_set = train_label_set.reshape(-1, 1)\n",
    "    val_label_set = val_label_set.reshape(-1, 1)\n",
    "    train_species_set = train_species_set.reshape(-1, 1)\n",
    "    val_species_set = val_species_set.reshape(-1, 1)\n",
    "\n",
    "         \n",
    "    print(\"Check shapes:\\n\")\n",
    "    print(f\"Images train dataset: {train_image_set.shape}\")\n",
    "    print(f\"Labels train dataset: {train_label_set.shape}\\n\")\n",
    "    \n",
    "    print(f\"Images validation dataset: {val_image_set.shape}\")\n",
    "    print(f\"Labels validation dataset: {val_label_set.shape}\\n\")\n",
    "    print('-'*50)\n",
    "    print (f\"Check if the split was stratified: (random_state=42)\")\n",
    "    print(f\"Healthy trees in train dataset: {np.count_nonzero(train_label_set == 0)}\")\n",
    "    print(f\"Stressed trees in train dataset: {np.count_nonzero(train_label_set == 1)}\")\n",
    "    print(f\"Dead trees in train dataset: {np.count_nonzero(train_label_set == 2)}\")\n",
    "    print(f\"Healthy trees in validation dataset: {np.count_nonzero(val_label_set == 0)}\")\n",
    "    print(f\"Stressed trees in validation dataset: {np.count_nonzero(val_label_set == 1)}\")\n",
    "    print(f\"Dead trees in validation dataset: {np.count_nonzero(val_label_set == 2)}\")\n",
    "    print(f\"Ratio health trees in validation dataset: {np.count_nonzero(val_label_set == 0)/np.count_nonzero(sub_label_set == 0)}\")\n",
    "    print(f\"Ratio stressed trees in validation dataset: {np.count_nonzero(val_label_set == 1)/np.count_nonzero(sub_label_set == 1)}\")\n",
    "    print(f\"Ratio dead trees in validation dataset: {np.count_nonzero(val_label_set == 2)/np.count_nonzero(sub_label_set == 2)}\")\n",
    "    print(\"-\"*50)\n",
    "   \n",
    "    # 2. Create train and validation dataset. (choose custom dataset loader with 3 - 5 classes)\n",
    "    print(f\"\\nCreating datasets for fold: {fold + 1}\\n\")\n",
    "    train_dataset = data_loader.CustomDataset(data=train_image_set, labels=train_label_set, class_names=class_names, species = train_species_set,\n",
    "                                                         transform=transform_train)\n",
    "    \n",
    "    val_dataset = data_loader.CustomDataset(data=val_image_set, labels=val_label_set, class_names=class_names,\n",
    "                                                       species = val_species_set, transform=transform)\n",
    "   \n",
    "    # 3. Create train and validation dataloader\n",
    "    # create sampler for oversampling of the minority classes\n",
    "    sampler = data_loader.data_sampler(dataset=train_dataset, class_names=class_names)\n",
    "    print(f\"Creating dataloaders for fold: {fold +1}\\n\")\n",
    "    train_dataloader = DataLoader(train_dataset, batch_size=batch_size, persistent_workers=True, pin_memory=True, num_workers=NUM_WORKERS, generator=g,\n",
    "                              sampler=sampler, shuffle=False, drop_last=True) # shuffle false because of the sampler\n",
    "\n",
    "    val_dataloader = DataLoader(val_dataset, batch_size=batch_size, persistent_workers=True, pin_memory=True, num_workers=NUM_WORKERS, shuffle=False,\n",
    "                             drop_last=True)\n",
    "    \n",
    "    model = model_effnet.EfficientNet.from_pretrained('efficientnet-b7', in_channels=n_bands, num_classes=num_classes, dropout_rate=dropout_rate)\n",
    "    loss_fn = nn.CrossEntropyLoss()\n",
    "    optimizer = torch.optim.Adam(params=model.parameters(), lr=lr)\n",
    "    #lr_scheduler = StepLR(optimizer, step_size=step_size, gamma=gamma)\n",
    "    lr_scheduler = ExponentialLR(optimizer, gamma=gamma)\n",
    "\n",
    "    fold += 1\n",
    "    print(f\"\\n[INFO] Fold number: {fold}\")\n",
    "    print(f\"[INFO] Number of epochs: {epochs}\")\n",
    "    print(f\"[INFO] Batch_size: {batch_size}\")\n",
    "    print(f\"[INFO] Number of bands: {n_bands}\")\n",
    "    print(f\"[INFO] Dropout rate: {dropout_rate}\")\n",
    "    print(f\"[INFO] Gamma learning rate: {gamma}\")\n",
    "    print(f\"[INFO] Memory allocated: {torch.cuda.memory_allocated()} bytes\")\n",
    "    # 4. Train model with k fold dataloaders and track experiments\n",
    "    \n",
    "    if fold == 1:\n",
    "        fold1_results = train(model=model, model_name=model_name, n_bands=n_bands, batch_size=batch_size,train_dataloader=train_dataloader, val_dataloader=val_dataloader, \n",
    "                        optimizer=optimizer, loss_fn=loss_fn, lr_scheduler=lr_scheduler, num_classes=num_classes, epochs=epochs, experiment_num=fold, device=device,\n",
    "                        writer=None, early_stop_patience = patience)\n",
    "       \n",
    "    elif fold == 2:\n",
    "        fold2_results = train(model=model, model_name=model_name, n_bands=n_bands, batch_size=batch_size,train_dataloader=train_dataloader, val_dataloader=val_dataloader, \n",
    "                        optimizer=optimizer, loss_fn=loss_fn, lr_scheduler=lr_scheduler, num_classes=num_classes, epochs=epochs, experiment_num=fold, device=device,\n",
    "                        writer=None, early_stop_patience = patience)\n",
    "    elif fold == 3:\n",
    "        fold3_results = train(model=model, model_name=model_name, n_bands=n_bands, batch_size=batch_size,train_dataloader=train_dataloader, val_dataloader=val_dataloader, \n",
    "                        optimizer=optimizer, loss_fn=loss_fn, lr_scheduler=lr_scheduler, num_classes=num_classes, epochs=epochs, experiment_num=fold, device=device,\n",
    "                        writer=None, early_stop_patience = patience)\n",
    "    elif fold == 4:\n",
    "        fold4_results = train(model=model, model_name=model_name, n_bands=n_bands, batch_size=batch_size,train_dataloader=train_dataloader, val_dataloader=val_dataloader, \n",
    "                        optimizer=optimizer, loss_fn=loss_fn, lr_scheduler=lr_scheduler, num_classes=num_classes, epochs=epochs, experiment_num=fold, device=device,\n",
    "                        writer=None, early_stop_patience = patience)\n",
    "    else:\n",
    "        fold5_results = train(model=model, model_name=model_name, n_bands=n_bands, batch_size=batch_size,train_dataloader=train_dataloader, val_dataloader=val_dataloader, \n",
    "                        optimizer=optimizer, loss_fn=loss_fn, lr_scheduler=lr_scheduler, num_classes=num_classes, epochs=epochs, experiment_num=fold, device=device,\n",
    "                        writer=None, early_stop_patience = patience)\n",
    "    \n",
    "    del train_indices, val_indices, train_image_set, train_label_set, train_hash_id, train_species_set, val_image_set, val_label_set, val_hash_id, val_species_set,\n",
    "    train_dataset, val_dataset, sampler, train_dataloader, val_dataloader, model, loss_fn, optimizer, lr_scheduler\n",
    "    \n",
    "    #finish the wandb run\n",
    "    wandb.finish()\n",
    "    print(\"Deleting variables and emptying cache\")\n",
    "    gc.collect()\n",
    "    torch.cuda.empty_cache()\n",
    "    print(f\"Memory allocated: {torch.cuda.memory_allocated()} bytes\")\n",
    "    print(\"-\"*50 + \"\\n\")\n",
    "    \n"
   ]
  },
  {
   "cell_type": "code",
   "execution_count": null,
   "id": "1885cc98",
   "metadata": {},
   "outputs": [],
   "source": [
    "# Create a graph to visualize the training and validation loss for each fold\n",
    "wandb.run.summary[\"graph\"] = wandb.plot.line_series(\n",
    "    xs=\"epoch\",\n",
    "    ys=[\"train_loss\", \"val_loss\"],\n",
    "    group=\"fold\",\n",
    "    xaxis=\"Epoch\",\n",
    "    yaxis=\"Loss\",\n",
    "    title=\"Training and Validation Loss by Fold\",\n",
    ")\n",
    "\n",
    "# Create a graph to visualize the training and validation f1 score for each fold\n",
    "wandb.run.summary[\"graph\"] = wandb.plot.line_series(\n",
    "    xs=\"epoch\",\n",
    "    ys=[\"train_f1_score\", \"val_f1_score\"],\n",
    "    group=\"fold\",\n",
    "    xaxis=\"Epoch\",\n",
    "    yaxis=\"Loss\",\n",
    "    title=\"Training and Validation F1-Score by Fold\",\n",
    ")"
   ]
  },
  {
   "cell_type": "code",
   "execution_count": null,
   "id": "c0c36ebb",
   "metadata": {},
   "outputs": [],
   "source": [
    "# create test dataset\n",
    "test_dataset = data_loader.CustomTestDataset(\n",
    "    data = test_image_set,\n",
    "    labels = test_label_set,\n",
    "    class_names=class_names, \n",
    "    species = test_species_set,\n",
    "    kkl = test_kkl_set,\n",
    "    transform=transform\n",
    ")\n",
    "\n",
    "# create test dataloader\n",
    "test_dataloader = DataLoader(test_dataset,\n",
    "                             batch_size=batch_size,\n",
    "                             persistent_workers=True,\n",
    "                             pin_memory=True,\n",
    "                             num_workers=NUM_WORKERS,\n",
    "                             shuffle=False,\n",
    "                             drop_last=True)"
   ]
  },
  {
   "cell_type": "code",
   "execution_count": null,
   "id": "67db5af2",
   "metadata": {},
   "outputs": [],
   "source": [
    "# Setup the best model filepath\n",
    "best_model_path = r\"C:\\Users\\lwfeckesim\\01_PyTorch\\wze-uav\\wze-uav-master\\effnet_b0\\01_18_epochs.pth\"\n",
    "\n",
    "# Instantiate a new instance of EffNetB0 (to load the saved state_dict() to)\n",
    "unfreeze=True\n",
    "best_model = models.create_effnetb0(output_shape=num_classes, unfreeze=unfreeze, dropout_rate=dropout_rate, device=device)\n",
    "\n",
    "# Load the saved best model state_dict()\n",
    "best_model.load_state_dict(torch.load(best_model_path))"
   ]
  },
  {
   "cell_type": "code",
   "execution_count": null,
   "id": "6dfbc663",
   "metadata": {},
   "outputs": [],
   "source": [
    "def make_predictions(model: torch.nn.Module, \n",
    "                     test_dataloader: torch.utils.data.DataLoader,\n",
    "                     device: torch.device):\n",
    "    # 1. Make predictions with trained model\n",
    "    y_preds = []\n",
    "    y_labels = []\n",
    "    test_loss, test_precision, test_recall, test_f1_score, test_acc = 0, 0, 0, 0, 0\n",
    "    count = 0\n",
    "    model.eval()\n",
    "    with torch.inference_mode():\n",
    "        for X, y in tqdm(test_dataloader, desc=\"Making predictions\"):\n",
    "            # Send data and targets to target device\n",
    "            X, y = X.to(device), y.to(device)\n",
    "            # Do the forward pass\n",
    "            y_logit = model(X)\n",
    "            # Turn predictions from logits -> prediction probabilities -> predictions labels\n",
    "            y_pred = torch.softmax(y_logit, dim=1).argmax(dim=1)\n",
    "            # Put predictions on CPU for evaluation\n",
    "            y_preds.append(y_pred.cpu())\n",
    "            y_labels.append(y.cpu())\n",
    "            \n",
    "            #other metrics\n",
    "            test_acc += ((y_pred == y).sum().item()/len(y_pred))\n",
    "            y_pred_class = y_pred.detach().cpu().numpy() \n",
    "            y_class = y.detach().cpu().numpy()\n",
    "            labels = np.array([0])\n",
    "            test_precision += precision_score(y_class, y_pred_class, average='macro', zero_division=0, labels=[0,1,2])\n",
    "            test_recall += recall_score(y_class, y_pred_class, average='macro', zero_division=0, labels=[0,1,2])\n",
    "            #test_f1_score += f1_score(y_class, y_pred_class, average='macro', zero_division=1, labels=labels)\n",
    "            \n",
    "            #if count >= 1:\n",
    "            #    y_set = torch.cat((y_set, y))\n",
    "            #    count = count + 1\n",
    "            #else:\n",
    "            #    y_set = y\n",
    "            #    count = count + 1\n",
    "            \n",
    "    test_loss = test_loss / len(test_dataloader)\n",
    "    test_precision = test_precision / len(test_dataloader)\n",
    "    test_recall = test_recall / len(test_dataloader)\n",
    "    test_f1_score = test_f1_score / len(test_dataloader)\n",
    "    #test_kappa = test_kappa / len(dataloader)\n",
    "    test_acc = test_acc / len(test_dataloader)\n",
    "    # Concatenate list of predictions into a tensor\n",
    "    y_pred_tensor = torch.cat(y_preds)\n",
    "    y_labels_tensor = torch.cat(y_labels)\n",
    "    test_f1_score = f1_score(y_labels_tensor.detach().cpu().numpy(), y_pred_tensor.cpu().numpy(), average='macro', zero_division=1, labels=[0,1,2])\n",
    "    \n",
    "    # Print classification report\n",
    "    y_true = y_labels_tensor.detach().cpu().numpy()\n",
    "    report = classification_report(y_true, y_pred_tensor.cpu().numpy(), target_names=class_names)\n",
    "    print(report)\n",
    "    \n",
    "    return y_pred_tensor, y_labels_tensor, test_loss, test_recall, test_precision, test_f1_score, test_acc, y_logit, y_pred, y, y_preds"
   ]
  },
  {
   "cell_type": "code",
   "execution_count": null,
   "id": "aab9e321",
   "metadata": {},
   "outputs": [],
   "source": [
    "# 2. Setup confusion matrix instance and compare predictions to targets\n",
    "#from wze_uav.analysis import *\n",
    "y_pred_tensor, y_labels_tensor, test_loss, test_recall, test_precision, test_f1_score, test_acc, y_logit, y_pred, y, y_preds = make_predictions(model=best_model,\n",
    "                                 test_dataloader=test_dataloader, \n",
    "                                 device=device)\n",
    "\n",
    "y_labels_tensor = y_labels_tensor.detach().cpu().numpy()\n",
    "y_pred_tensor = y_pred_tensor.detach().cpu().numpy()\n",
    "\n",
    "#confmat = ConfusionMatrix(num_classes=num_classes, task='multiclass')\n",
    "#confmat_tensor = confmat(preds=y_pred_tensor,\n",
    "#                         target=test_labels)\n",
    "labels = np.array([0,1,2])\n",
    "confmat = confusion_matrix(y_labels_tensor, y_pred_tensor, labels=labels)\n",
    "\n",
    "# 3. Plot the confusion matrix\n",
    "fig, ax = plot_confusion_matrix(\n",
    "    conf_mat=confmat, # matplotlib likes working with NumPy \n",
    "    class_names=class_names, # turn the row and column labels into class names\n",
    "    figsize=(10, 7)\n",
    ");\n",
    "\n",
    "print(f\"Test loss: {test_loss}\")\n",
    "print(f\"Test precision: {test_precision}\")\n",
    "print(f\"Test recall: {test_recall}\")\n",
    "print(f\"Test F1score: {test_f1_score}\")\n",
    "#print(f\"Test Kappa: {test_kappa}\")\n",
    "print(f\"Test Accuracy: {test_acc}\")\n",
    "print(f\"Test Logits: {y_logit}\")\n",
    "print(f\"Test Predictions: {y_pred}\")\n",
    "print(f\"Test Labels: {y}\")"
   ]
  },
  {
   "cell_type": "code",
   "execution_count": null,
   "id": "8d4173b3",
   "metadata": {},
   "outputs": [],
   "source": [
    "len(y_preds)"
   ]
  },
  {
   "cell_type": "code",
   "execution_count": null,
   "id": "7588116f",
   "metadata": {},
   "outputs": [],
   "source": [
    "y_set.cpu()"
   ]
  },
  {
   "cell_type": "code",
   "execution_count": null,
   "id": "1c195b3e",
   "metadata": {},
   "outputs": [],
   "source": [
    "test_dataset.labels"
   ]
  },
  {
   "cell_type": "code",
   "execution_count": null,
   "id": "975ec08c",
   "metadata": {},
   "outputs": [],
   "source": []
  },
  {
   "cell_type": "code",
   "execution_count": null,
   "id": "6da05604",
   "metadata": {},
   "outputs": [],
   "source": [
    "y_preds = []\n",
    "y_labels = []\n",
    "labels = np.array([0,1,2])\n",
    "test_loss, test_precision, test_recall, test_f1_score, test_acc = 0, 0, 0, 0, 0\n",
    "count = 0\n",
    "model.eval()\n",
    "with torch.inference_mode():\n",
    "    for X, y in tqdm(test_dataloader, desc=\"Making predictions\"):\n",
    "        # Send data and targets to target device\n",
    "        X, y = X.to(device), y.to(device)\n",
    "        # Do the forward pass\n",
    "        y_logit = model(X)\n",
    "        # Turn predictions from logits -> prediction probabilities -> predictions labels\n",
    "        y_pred = torch.softmax(y_logit, dim=1).argmax(dim=1)\n",
    "        # Put predictions on CPU for evaluation\n",
    "        y_preds.append(y_pred.cpu())\n",
    "        y_labels.append(y.cpu())\n",
    "        \n",
    "        #other metrics\n",
    "        test_acc += ((y_pred == y).sum().item()/len(y_pred))\n",
    "        y_pred_class = y_pred.detach().cpu().numpy() \n",
    "        y_class = y.detach().cpu().numpy()\n",
    "        test_precision += precision_score(y_class, y_pred_class, average='macro', zero_division=1, labels=labels)\n",
    "        test_recall += recall_score(y_class, y_pred_class, average='macro', zero_division=1, labels=labels)\n",
    "        #test_f1_score += f1_score(y_class, y_pred_class, average='macro', zero_division=1, labels=labels)\n",
    "        \n",
    "        #if count >= 1:\n",
    "        #    y_set = torch.cat((y_set, y))\n",
    "        #    count = count + 1\n",
    "        #else:\n",
    "        #    y_set = y\n",
    "        #    count = count + 1\n",
    "        \n",
    "test_loss = test_loss / len(test_dataloader)\n",
    "test_precision = test_precision / len(test_dataloader)\n",
    "test_recall = test_recall / len(test_dataloader)\n",
    "#test_f1_score = test_f1_score / len(test_dataloader)\n",
    "#test_kappa = test_kappa / len(dataloader)\n",
    "test_acc = test_acc / len(test_dataloader)\n",
    "# Concatenate list of predictions into a tensor\n",
    "y_pred_tensor = torch.cat(y_preds)\n",
    "test_f1_score = f1_score(y_set.detach().cpu().numpy(), y_pred_tensor.cpu().numpy(), average='macro', zero_division=0, labels=[0,1,2])\n",
    "\n",
    "# Print classification report\n",
    "y_true = y_set.detach().cpu().numpy()\n",
    "report = classification_report(y_true, y_pred_tensor.cpu().numpy(), target_names=class_names)\n",
    "print(report)"
   ]
  },
  {
   "cell_type": "code",
   "execution_count": null,
   "id": "6ae97fab",
   "metadata": {},
   "outputs": [],
   "source": [
    "test_f1_score"
   ]
  },
  {
   "cell_type": "code",
   "execution_count": null,
   "id": "7ebafd9b",
   "metadata": {},
   "outputs": [],
   "source": [
    "make = (y_class == y_pred_class)\n",
    "make"
   ]
  },
  {
   "cell_type": "code",
   "execution_count": null,
   "id": "4f8aa759",
   "metadata": {},
   "outputs": [],
   "source": [
    "torch.softmax(y_logit, dim=1).argmax(dim=1)"
   ]
  },
  {
   "cell_type": "code",
   "execution_count": null,
   "id": "f90a54b2",
   "metadata": {},
   "outputs": [],
   "source": [
    "y"
   ]
  },
  {
   "cell_type": "code",
   "execution_count": null,
   "id": "5a806154",
   "metadata": {},
   "outputs": [],
   "source": [
    "test = (y_pred == y).sum().item()/16"
   ]
  },
  {
   "cell_type": "code",
   "execution_count": null,
   "id": "1da35c56",
   "metadata": {},
   "outputs": [],
   "source": [
    "test"
   ]
  },
  {
   "cell_type": "code",
   "execution_count": null,
   "id": "b1eb246e",
   "metadata": {},
   "outputs": [],
   "source": [
    " y_pred_class = y_pred.detach().cpu().numpy() "
   ]
  },
  {
   "cell_type": "code",
   "execution_count": null,
   "id": "602e096f",
   "metadata": {},
   "outputs": [],
   "source": [
    "y_pred_class"
   ]
  },
  {
   "cell_type": "code",
   "execution_count": null,
   "id": "eaf1af09",
   "metadata": {},
   "outputs": [],
   "source": []
  }
 ],
 "metadata": {
  "kernelspec": {
   "display_name": "Python 3 (ipykernel)",
   "language": "python",
   "name": "python3"
  },
  "language_info": {
   "codemirror_mode": {
    "name": "ipython",
    "version": 3
   },
   "file_extension": ".py",
   "mimetype": "text/x-python",
   "name": "python",
   "nbconvert_exporter": "python",
   "pygments_lexer": "ipython3",
   "version": "3.9.16"
  }
 },
 "nbformat": 4,
 "nbformat_minor": 5
}
