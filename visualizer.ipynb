{
 "cells": [
  {
   "cell_type": "markdown",
   "id": "c1acdaa3",
   "metadata": {},
   "source": [
    "# WZE-UAV Image Classification using Deep Learning"
   ]
  },
  {
   "cell_type": "code",
   "execution_count": 1,
   "id": "2159aac5",
   "metadata": {},
   "outputs": [],
   "source": [
    "import os\n",
    "import gc\n",
    "import glob\n",
    "import numpy as np\n",
    "from pathlib import Path\n",
    "from tqdm.auto import tqdm\n",
    "from sklearn.metrics import confusion_matrix, classification_report\n",
    "from sklearn.model_selection import KFold"
   ]
  },
  {
   "cell_type": "code",
   "execution_count": 2,
   "id": "0026f7a9",
   "metadata": {},
   "outputs": [],
   "source": [
    "import torch\n",
    "import torchvision.transforms as T\n",
    "import torchvision\n",
    "from torch import nn\n",
    "from torch.utils.data import DataLoader\n",
    "from torchvision import datasets, transforms\n",
    "from torch.utils.data import Dataset\n",
    "import torch.optim as optim\n",
    "from torch.optim.lr_scheduler import ExponentialLR\n",
    "from mlxtend.plotting import plot_confusion_matrix"
   ]
  },
  {
   "cell_type": "code",
   "execution_count": 3,
   "id": "b160d7b4",
   "metadata": {},
   "outputs": [],
   "source": [
    "import wze_uav.data_loader as data_loader\n",
    "import wze_uav.models as models\n",
    "from wze_uav.engine import *\n",
    "from wze_uav.utils2 import *\n",
    "#from wze_uav.log_writer import create_writer\n",
    "from wze_uav.datasplit import *\n",
    "from wze_uav.visualization import *\n",
    "from efficientnet import model_effnet #for custom effnet with n_channels input\n"
   ]
  },
  {
   "cell_type": "markdown",
   "id": "2bd4fb2f",
   "metadata": {},
   "source": [
    "#### Get PyTorch version"
   ]
  },
  {
   "cell_type": "code",
   "execution_count": 4,
   "id": "c10886b1",
   "metadata": {},
   "outputs": [
    {
     "name": "stdout",
     "output_type": "stream",
     "text": [
      "torch version: 1.13.1+cu116\n",
      "torchvision version: 0.14.1+cu116\n"
     ]
    }
   ],
   "source": [
    "print(f\"torch version: {torch.__version__}\")\n",
    "print(f\"torchvision version: {torchvision.__version__}\")"
   ]
  },
  {
   "cell_type": "markdown",
   "id": "aa6a83cf",
   "metadata": {},
   "source": [
    "#### Preparing device agnostic code "
   ]
  },
  {
   "cell_type": "code",
   "execution_count": 5,
   "id": "13d5de88",
   "metadata": {},
   "outputs": [
    {
     "name": "stdout",
     "output_type": "stream",
     "text": [
      "cuda\n",
      "Index of current divice: 0\n",
      "Number of GPUs available: 1\n",
      "GPU Model: Quadro RTX 8000\n"
     ]
    }
   ],
   "source": [
    "# ensure device agnostic code\n",
    "device = 'cuda' if torch.cuda.is_available() else 'cpu'\n",
    "print(device)\n",
    "\n",
    "# get index of currently selected device\n",
    "print(f\"Index of current divice: {torch.cuda.current_device()}\")\n",
    "# get number of GPUs available\n",
    "print(f\"Number of GPUs available: {torch.cuda.device_count()}\")\n",
    "# get the name of the device\n",
    "print(f\"GPU Model: {torch.cuda.get_device_name(0)}\")"
   ]
  },
  {
   "cell_type": "markdown",
   "id": "a26a6a34",
   "metadata": {},
   "source": [
    "#### Ensure reproducibility "
   ]
  },
  {
   "cell_type": "code",
   "execution_count": 6,
   "id": "dd4656a7",
   "metadata": {},
   "outputs": [],
   "source": [
    "# for more information, see also: https://pytorch.org/docs/stable/notes/randomness.html\n",
    "\n",
    "# Set seeds\n",
    "def set_seeds(seed: int=42):\n",
    "    \"\"\"Sets random sets for torch operations.\n",
    "\n",
    "    Args:\n",
    "        seed (int, optional): Random seed to set. Defaults to 42.\n",
    "    \"\"\"\n",
    "    # Set the seed for general torch operations\n",
    "    torch.manual_seed(seed)\n",
    "    # Set the seed for CUDA torch operations (ones that happen on the GPU)\n",
    "    torch.cuda.manual_seed(seed)\n",
    "    # seed for numpy\n",
    "    np.random.seed(seed)\n",
    "\n",
    "set_seeds(42) \n",
    "\n",
    "# Set to true -> might speed up the process but should be set to False if reproducible results are desired\n",
    "torch.backends.cudnn.benchmark = False\n"
   ]
  },
  {
   "cell_type": "code",
   "execution_count": 7,
   "id": "cd8f5148",
   "metadata": {},
   "outputs": [],
   "source": [
    "import torch\n",
    "import os\n",
    "import findatree_roi.io as io\n",
    "import findatree_roi.exporter as exporter\n",
    "import numpy as np\n",
    "from torch.utils.data import Dataset\n",
    "from typing import Dict, List, Tuple\n",
    "from torch.utils.data import WeightedRandomSampler\n",
    "from tqdm.auto import tqdm\n",
    "from collections import defaultdict\n",
    "import hashlib\n",
    "\n",
    "def hdf5_to_img_label(path_list, hashID_dict:dict, load_sets=None):\n",
    "    count = 0\n",
    "    for fn in tqdm(path_list, desc=\"Processing hdf5 datasets\"):\n",
    "        # load hdf5 data from path\n",
    "        rois, params_rois, data, params_data = exporter.load_rois_from_hdf5_v2(fn,\n",
    "                                                                               load_sets=load_sets) \n",
    "        # fetch images\n",
    "        images = rois[\"images_masked\"] # assigns all crown arrays from the different hdf5 files to dictionary\n",
    "        images = images.transpose(3,0,1,2) # array transpose shape from (H, W, C, n) to (n, H, W, C)\n",
    "        \n",
    "        # fetch terrestrial features \n",
    "        crowns_human = data['crowns_human'] #get crown info with all terrestrial features\n",
    "        labels = crowns_human['features']['terrestrial']['nbv'] # get needle or leaf loss\n",
    "        species = crowns_human['features']['terrestrial']['ba'] # get tree species\n",
    "        kkl = crowns_human['features']['terrestrial']['kkl']\n",
    "        bk = crowns_human['features']['terrestrial']['bk']\n",
    "        labels = labels.copy() # copy to avoid memory error\n",
    "        species = species.copy()\n",
    "        kkl = kkl.copy()\n",
    "        bk = bk.copy()\n",
    "        labels = labels.reshape(len(labels),1) # reshape from (samples,) to (samples,1)\n",
    "        species = species.reshape(len(species),1)\n",
    "        kkl = kkl.reshape(len(kkl),1)\n",
    "        bk = bk.reshape(len(bk),1)\n",
    "        if count >= 1:\n",
    "            image_set = np.concatenate((image_set, images), axis=0)  # concatenate all crown arrays to one image_set\n",
    "            label_set = np.concatenate((label_set, labels), axis=0)  \n",
    "            species_set = np.concatenate((species_set, species), axis=0)\n",
    "            kkl_set = np.concatenate((kkl_set, kkl), axis=0)\n",
    "            bk_set = np.concatenate((bk_set, bk), axis=0)\n",
    "            count = count + 1\n",
    "        else:\n",
    "            image_set = images\n",
    "            label_set = labels # define label_set with the first sets of labels\n",
    "            species_set = species\n",
    "            kkl_set = kkl\n",
    "            bk_set = bk\n",
    "            count = count + 1\n",
    "    \n",
    "    # get hash_id\n",
    "    hash_id = []        \n",
    "    for key, value in hashID_dict.items():\n",
    "        hash_id.append(value)\n",
    "        \n",
    "    hash_id = np.array(hash_id)  \n",
    "    #hash_id = hash_id.reshape((-1, 1)) # from (samples,) to (samples,1)\n",
    "    \n",
    "    # filter data depending on terrestrial features\n",
    "    np_filter = []\n",
    "    for i in range(0, len(bk_set)):\n",
    "        if label_set[i] >= 99 and kkl_set[i] <= 3 and (bk_set[i] <= 1 or (bk_set[i] >= 320 and bk_set[i] <= 340)):\n",
    "            np_filter.append(True)\n",
    "        else:\n",
    "            np_filter.append(False)\n",
    "        \n",
    "    image_set = image_set[np_filter]\n",
    "    label_set = label_set[np_filter]\n",
    "    species_set = species_set[np_filter]\n",
    "    kkl_set = kkl_set[np_filter]\n",
    "    bk_set = bk_set[np_filter]\n",
    "    hash_id = hash_id[np_filter]\n",
    "        \n",
    "    del rois, params_rois, data, params_data, crowns_human\n",
    "    return image_set, label_set, species_set, kkl_set, bk_set, hash_id"
   ]
  },
  {
   "cell_type": "markdown",
   "id": "8be33671",
   "metadata": {},
   "source": [
    "#### Define file directory"
   ]
  },
  {
   "cell_type": "code",
   "execution_count": 8,
   "id": "30645f36",
   "metadata": {},
   "outputs": [],
   "source": [
    "#####################################################################################\n",
    "# 3 channel input (r-g-b)\n",
    "data_path = r\"D:\\Drohnendaten\\10_WZE-UAV\\Auswertung_findatree\\Datasplit\\ROI\\rgb\"\n",
    "\n",
    "# 4 channel input (r-g-b-nir)\n",
    "#data_path = r\"D:\\Drohnendaten\\10_WZE-UAV\\Auswertung_findatree\\Datasplit\\ROI\\rgb-nir\"\n",
    "\n",
    "# 5 channel input (r-g-b-re-nir)\n",
    "#data_path = r\"D:\\Drohnendaten\\10_WZE-UAV\\Auswertung_findatree\\Datasplit\\ROI\\rgb-re-nir\"\n",
    "\n",
    "# 6 channel input (r-g-b-re-nir)\n",
    "#data_path = r\"D:\\Drohnendaten\\10_WZE-UAV\\Auswertung_findatree\\Datasplit\\ROI\\rgb-re-nir-chm\"\n",
    "\n",
    "#####################################################################################"
   ]
  },
  {
   "cell_type": "markdown",
   "id": "4560ce64",
   "metadata": {},
   "source": [
    "#### Get all file paths, years and plotIDs"
   ]
  },
  {
   "cell_type": "code",
   "execution_count": 9,
   "id": "aa072e4c",
   "metadata": {},
   "outputs": [],
   "source": [
    "fn_list = os.listdir(data_path)\n",
    "path_list = []\n",
    "#year_list = []\n",
    "#plotID_list = []\n",
    "# Iterate over all datafiles\n",
    "for year in fn_list:\n",
    "    year_dir = f'{data_path}\\\\{year}'\n",
    "    for filename in os.listdir(year_dir):\n",
    "        path = f'{year_dir}\\\\{filename}'\n",
    "        #plotID = path.rsplit('_',1)[0].rsplit('r',1)[1]\n",
    "        path_list.append(path)\n",
    "        #year_list.append(year)\n",
    "        #plotID_list.append(plotID)"
   ]
  },
  {
   "cell_type": "markdown",
   "id": "f3937a44",
   "metadata": {},
   "source": [
    "#### Get unique plotIDs and years per available trees"
   ]
  },
  {
   "cell_type": "code",
   "execution_count": 10,
   "id": "8a50f1d7",
   "metadata": {},
   "outputs": [
    {
     "data": {
      "application/vnd.jupyter.widget-view+json": {
       "model_id": "88ad51eba2a048eb8d9a8c87df957fcf",
       "version_major": 2,
       "version_minor": 0
      },
      "text/plain": [
       "Creating unique tree IDs...:   0%|          | 0/647 [00:00<?, ?it/s]"
      ]
     },
     "metadata": {},
     "output_type": "display_data"
    }
   ],
   "source": [
    "hashID_dict = data_loader.get_unique_treeID(path_list)"
   ]
  },
  {
   "cell_type": "markdown",
   "id": "6f4cea00",
   "metadata": {},
   "source": [
    "#### Import all imagery, labels and other features from hdf5 files"
   ]
  },
  {
   "cell_type": "code",
   "execution_count": 11,
   "id": "94e3eecf",
   "metadata": {},
   "outputs": [
    {
     "data": {
      "application/vnd.jupyter.widget-view+json": {
       "model_id": "5aa4336540ba48b1be314ffc2b74bbb4",
       "version_major": 2,
       "version_minor": 0
      },
      "text/plain": [
       "Processing hdf5 datasets:   0%|          | 0/647 [00:00<?, ?it/s]"
      ]
     },
     "metadata": {},
     "output_type": "display_data"
    }
   ],
   "source": [
    "image_set, label_set, species_set, kkl_set, bk_set, hash_id = data_loader.hdf5_to_img_label(path_list,\n",
    "                                                                                               hashID_dict,\n",
    "                                                                                               load_sets=[\"images_masked\"])"
   ]
  },
  {
   "cell_type": "code",
   "execution_count": null,
   "id": "ac314338",
   "metadata": {},
   "outputs": [],
   "source": []
  },
  {
   "cell_type": "markdown",
   "id": "6a90e2b7",
   "metadata": {},
   "source": [
    "#### Convert nbv to classes"
   ]
  },
  {
   "cell_type": "code",
   "execution_count": 12,
   "id": "0224972a",
   "metadata": {},
   "outputs": [],
   "source": [
    "label_set = nbv_to_sst_5classes(label_set)"
   ]
  },
  {
   "cell_type": "code",
   "execution_count": 13,
   "id": "1dc60fee",
   "metadata": {},
   "outputs": [],
   "source": [
    "# train transform with augmentation. \n",
    "transform = transforms.Compose([transforms.ToTensor(),\n",
    "                                      #transforms.Normalize(mean=[0.485, 0.456, 0.406],\n",
    "                                      #                     std=[0.229, 0.224, 0.225]),\n",
    "                                      transforms.ColorJitter(brightness=(10,10)),\n",
    "                                      #transforms.RandomHorizontalFlip(p=0.5),\n",
    "                                      #transforms.RandomVerticalFlip(p=0.5),\n",
    "                                      #transforms.RandomRotation(degrees=[0,360])\n",
    "                                      #transforms.Resize(224)\n",
    "                                      ])\n",
    "\n",
    "\n",
    "# class names need to fit the customDataset class used e.g. 3 classes -> use CustomDataset3Classes\n",
    "class_names = ['healthy', 'slightly_stressed', 'moderately_stressed', 'highly_stressed', 'dead']\n",
    "#class_names = ['dead', 'dead']\n",
    "#class_names = ['healthy', 'moderately_stressed', 'highly_stressed', 'dead']\n",
    "#class_names = ['Picea abies healthy', 'Picea abies stressed', 'Pinus sylvestris healthy', 'Pinus sylvestris stressed', \n",
    "#               'Abies alba healthy', 'Abies alba stressed', 'Fagus sylvatica healthy', 'Fagus sylvatica stressed',\n",
    "#               'Quercus robur/petraea healthy', 'Quercus robur/petraea stressed', 'dead trees']\n",
    "\n",
    "# choose custom dataset loader with 3 - 5 classes\n",
    "dataset = data_loader.CustomDataset(data=image_set,\n",
    "                                    labels=label_set,\n",
    "                                    class_names=class_names,\n",
    "                                    species = species_set,\n",
    "                                    transform=transform)"
   ]
  },
  {
   "cell_type": "code",
   "execution_count": 14,
   "id": "40c2951f",
   "metadata": {},
   "outputs": [],
   "source": [
    "#del image_set, label_set, species_set, kkl_set, bk_set, hash_id"
   ]
  },
  {
   "cell_type": "code",
   "execution_count": 18,
   "id": "d7cd96c4",
   "metadata": {},
   "outputs": [
    {
     "data": {
      "text/plain": [
       "array([2, 1, 1, ..., 0, 0, 0])"
      ]
     },
     "execution_count": 18,
     "metadata": {},
     "output_type": "execute_result"
    }
   ],
   "source": [
    "label_set"
   ]
  },
  {
   "cell_type": "code",
   "execution_count": 15,
   "id": "04397d71",
   "metadata": {},
   "outputs": [],
   "source": [
    "import random\n",
    "import matplotlib.pyplot as plt\n",
    "import copy\n",
    "\n",
    "def display_filtered_imagesv4(dataset, label=None, species=None, n=10, display_shape=True, seed=None, export_path=None):\n",
    "    # Adjust display if n too high\n",
    "    if n > 10:\n",
    "        n = 10\n",
    "        display_shape = False\n",
    "        print(\"For display purposes, n shouldn't be larger than 10. Setting n to 10 and removing shape display.\")\n",
    "\n",
    "    # Set random seed\n",
    "    if seed is not None:\n",
    "        random.seed(seed)\n",
    "\n",
    "    # Make a copy of the dataset\n",
    "    shuffled_dataset = copy.deepcopy(dataset)\n",
    "\n",
    "    # Shuffle and select random samples from filtered dataset\n",
    "    random.shuffle(shuffled_dataset)\n",
    "    random_samples = shuffled_dataset[:n]\n",
    "\n",
    "    # Setup plot\n",
    "    plt.figure(figsize=(30, 20))\n",
    "\n",
    "    # Loop through samples and display random samples\n",
    "    for i, (targ_image, targ_label, targ_species) in enumerate(random_samples):\n",
    "        # Adjust image tensor shape for plotting: [color_channels, height, width] -> [height, width, color_channels]\n",
    "        targ_image_adjust = targ_image.permute(1, 2, 0)\n",
    "\n",
    "        # Plot adjusted samples\n",
    "        plt.subplot(1, n, i+1)\n",
    "        plt.imshow(targ_image_adjust)\n",
    "        plt.axis(\"off\")\n",
    "        #if display_shape:\n",
    "        #    title = f\"Label: {targ_label} | Species: {targ_species}\\n ID: {}\\n\"\n",
    "        #    #title = f\"Label: {targ_label} | Species: {targ_species}\\nShape: {targ_image_adjust.shape}\"\n",
    "        #else:\n",
    "        #    title = f\"Label: {targ_label} | Species: {targ_species}\"\n",
    "        #plt.title(title)\n",
    "\n",
    "        # Export the image as PNG\n",
    "        if export_path:\n",
    "            image_filename = f\"{species}_{label}_{seed}.png\"\n",
    "            export_filepath = f\"{export_path}/{image_filename}\"\n",
    "            plt.savefig(export_filepath)\n",
    "\n",
    "    # Show the plot\n",
    "    plt.show()\n"
   ]
  },
  {
   "cell_type": "code",
   "execution_count": 71,
   "id": "696a7503",
   "metadata": {},
   "outputs": [],
   "source": [
    "#### Filter dataset by label and species\n",
    "label = None\n",
    "species = 5\n",
    "filtered_dataset = [(image, image_label, dataset.species[i]) for i, (image, image_label) in enumerate(dataset) if\n",
    "                        (label is None or image_label == label) and (species is None or dataset.species[i] == species)]"
   ]
  },
  {
   "cell_type": "code",
   "execution_count": 90,
   "id": "df62739d",
   "metadata": {},
   "outputs": [],
   "source": [
    "seed = 9\n",
    "export_path = r\"D:\\Drohnendaten\\10_WZE-UAV\\Images_dataset\"\n",
    "\n"
   ]
  },
  {
   "cell_type": "code",
   "execution_count": 91,
   "id": "02551c4b",
   "metadata": {},
   "outputs": [
    {
     "data": {
      "image/png": "[encoded data removed]",
      "text/plain": [
       "<Figure size 2160x1440 with 1 Axes>"
      ]
     },
     "metadata": {
      "needs_background": "light"
     },
     "output_type": "display_data"
    }
   ],
   "source": [
    "display_filtered_images(filtered_dataset,label=label, species=species, n=1, seed=seed, export_path=export_path)"
   ]
  },
  {
   "cell_type": "code",
   "execution_count": null,
   "id": "0eaf40b8",
   "metadata": {},
   "outputs": [],
   "source": []
  },
  {
   "cell_type": "code",
   "execution_count": null,
   "id": "0d69fe27",
   "metadata": {},
   "outputs": [],
   "source": []
  }
 ],
 "metadata": {
  "kernelspec": {
   "display_name": "Python 3 (ipykernel)",
   "language": "python",
   "name": "python3"
  },
  "language_info": {
   "codemirror_mode": {
    "name": "ipython",
    "version": 3
   },
   "file_extension": ".py",
   "mimetype": "text/x-python",
   "name": "python",
   "nbconvert_exporter": "python",
   "pygments_lexer": "ipython3",
   "version": "3.9.16"
  }
 },
 "nbformat": 4,
 "nbformat_minor": 5
}
